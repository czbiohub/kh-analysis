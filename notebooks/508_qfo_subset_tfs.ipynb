{
 "cells": [
  {
   "cell_type": "code",
   "execution_count": 23,
   "metadata": {},
   "outputs": [],
   "source": [
    "from glob import iglob\n",
    "import os\n",
    "\n",
    "import pandas as pd\n",
    "import screed\n",
    "import seaborn as sns\n",
    "from tqdm import tqdm"
   ]
  },
  {
   "cell_type": "markdown",
   "metadata": {},
   "source": [
    "# Change to Quest for Orthologs 2019 data directory"
   ]
  },
  {
   "cell_type": "code",
   "execution_count": 4,
   "metadata": {},
   "outputs": [
    {
     "name": "stdout",
     "output_type": "stream",
     "text": [
      "/mnt/data_sm/olga/kmer-hashing/quest-for-orthologs/data/2019\n"
     ]
    }
   ],
   "source": [
    "cd ~/data_sm/kmer-hashing/quest-for-orthologs/data/2019/"
   ]
  },
  {
   "cell_type": "code",
   "execution_count": 5,
   "metadata": {},
   "outputs": [
    {
     "name": "stdout",
     "output_type": "stream",
     "text": [
      "total 2.6G\n",
      "drwxr-xr-x 5 olga root 4.0K Jan  8 16:08 \u001b[0m\u001b[01;34m.\u001b[0m/\n",
      "drwxr-xr-x 3 olga root 4.0K Dec 25 17:48 \u001b[01;34m..\u001b[0m/\n",
      "drwxr-xr-x 5 olga czb  4.0K Dec 26 19:44 \u001b[01;34mArchaea\u001b[0m/\n",
      "drwxr-xr-x 5 olga czb   16K Dec 26 19:44 \u001b[01;34mBacteria\u001b[0m/\n",
      "drwxr-xr-x 8 olga czb   32K Jan  8 08:13 \u001b[01;34mEukaryota\u001b[0m/\n",
      "-rw-r--r-- 1 olga czb   64M Jan  8 16:08 opisthokont_not_human_transcription_factors_ensembl_compara.csv\n",
      "-rw-r--r-- 1 olga czb  2.6G Dec 25 18:46 \u001b[01;31mQfO_release_2019_04.tar.gz\u001b[0m\n",
      "-rw-r--r-- 1 olga czb   18K May 10  2019 README\n",
      "-rw-r--r-- 1 olga czb   12K Jan  8 07:47 species_metadata.csv\n"
     ]
    }
   ],
   "source": [
    "ls -lha"
   ]
  },
  {
   "cell_type": "markdown",
   "metadata": {},
   "source": [
    "# Download orthology and transcription factor data"
   ]
  },
  {
   "cell_type": "markdown",
   "metadata": {},
   "source": [
    "## Read orthologous transcription factors "
   ]
  },
  {
   "cell_type": "code",
   "execution_count": 8,
   "metadata": {},
   "outputs": [
    {
     "name": "stdout",
     "output_type": "stream",
     "text": [
      "(343153, 16)\n"
     ]
    },
    {
     "data": {
      "text/html": [
       "<div>\n",
       "<style scoped>\n",
       "    .dataframe tbody tr th:only-of-type {\n",
       "        vertical-align: middle;\n",
       "    }\n",
       "\n",
       "    .dataframe tbody tr th {\n",
       "        vertical-align: top;\n",
       "    }\n",
       "\n",
       "    .dataframe thead th {\n",
       "        text-align: right;\n",
       "    }\n",
       "</style>\n",
       "<table border=\"1\" class=\"dataframe\">\n",
       "  <thead>\n",
       "    <tr style=\"text-align: right;\">\n",
       "      <th></th>\n",
       "      <th>dn_ds</th>\n",
       "      <th>method_link_type</th>\n",
       "      <th>source__id</th>\n",
       "      <th>source__perc_id</th>\n",
       "      <th>source__perc_pos</th>\n",
       "      <th>source__protein_id</th>\n",
       "      <th>source__species</th>\n",
       "      <th>source__taxon_id</th>\n",
       "      <th>target__id</th>\n",
       "      <th>target__perc_id</th>\n",
       "      <th>target__perc_pos</th>\n",
       "      <th>target__protein_id</th>\n",
       "      <th>target__species</th>\n",
       "      <th>target__taxon_id</th>\n",
       "      <th>taxonomy_level</th>\n",
       "      <th>type</th>\n",
       "    </tr>\n",
       "  </thead>\n",
       "  <tbody>\n",
       "    <tr>\n",
       "      <th>0</th>\n",
       "      <td>NaN</td>\n",
       "      <td>ENSEMBL_PARALOGUES</td>\n",
       "      <td>ENSG00000267179</td>\n",
       "      <td>24.8792</td>\n",
       "      <td>37.1981</td>\n",
       "      <td>ENSP00000467286</td>\n",
       "      <td>homo_sapiens</td>\n",
       "      <td>9606</td>\n",
       "      <td>ENSG00000175787</td>\n",
       "      <td>17.0813</td>\n",
       "      <td>25.5390</td>\n",
       "      <td>ENSP00000378792</td>\n",
       "      <td>homo_sapiens</td>\n",
       "      <td>9606</td>\n",
       "      <td>Bilateria</td>\n",
       "      <td>other_paralog</td>\n",
       "    </tr>\n",
       "    <tr>\n",
       "      <th>1</th>\n",
       "      <td>NaN</td>\n",
       "      <td>ENSEMBL_PARALOGUES</td>\n",
       "      <td>ENSG00000267179</td>\n",
       "      <td>25.6039</td>\n",
       "      <td>37.1981</td>\n",
       "      <td>ENSP00000467286</td>\n",
       "      <td>homo_sapiens</td>\n",
       "      <td>9606</td>\n",
       "      <td>ENSG00000187815</td>\n",
       "      <td>20.1521</td>\n",
       "      <td>29.2776</td>\n",
       "      <td>ENSP00000361791</td>\n",
       "      <td>homo_sapiens</td>\n",
       "      <td>9606</td>\n",
       "      <td>Bilateria</td>\n",
       "      <td>other_paralog</td>\n",
       "    </tr>\n",
       "    <tr>\n",
       "      <th>2</th>\n",
       "      <td>0.35552</td>\n",
       "      <td>ENSEMBL_PARALOGUES</td>\n",
       "      <td>ENSG00000267179</td>\n",
       "      <td>26.3285</td>\n",
       "      <td>38.1642</td>\n",
       "      <td>ENSP00000467286</td>\n",
       "      <td>homo_sapiens</td>\n",
       "      <td>9606</td>\n",
       "      <td>ENSG00000172006</td>\n",
       "      <td>20.2602</td>\n",
       "      <td>29.3680</td>\n",
       "      <td>ENSP00000321132</td>\n",
       "      <td>homo_sapiens</td>\n",
       "      <td>9606</td>\n",
       "      <td>Bilateria</td>\n",
       "      <td>other_paralog</td>\n",
       "    </tr>\n",
       "    <tr>\n",
       "      <th>3</th>\n",
       "      <td>0.33996</td>\n",
       "      <td>ENSEMBL_PARALOGUES</td>\n",
       "      <td>ENSG00000267179</td>\n",
       "      <td>27.2947</td>\n",
       "      <td>38.8889</td>\n",
       "      <td>ENSP00000467286</td>\n",
       "      <td>homo_sapiens</td>\n",
       "      <td>9606</td>\n",
       "      <td>ENSG00000188629</td>\n",
       "      <td>23.4927</td>\n",
       "      <td>33.4719</td>\n",
       "      <td>ENSP00000415070</td>\n",
       "      <td>homo_sapiens</td>\n",
       "      <td>9606</td>\n",
       "      <td>Bilateria</td>\n",
       "      <td>other_paralog</td>\n",
       "    </tr>\n",
       "    <tr>\n",
       "      <th>4</th>\n",
       "      <td>0.18553</td>\n",
       "      <td>ENSEMBL_PARALOGUES</td>\n",
       "      <td>ENSG00000267179</td>\n",
       "      <td>20.2899</td>\n",
       "      <td>25.8454</td>\n",
       "      <td>ENSP00000467286</td>\n",
       "      <td>homo_sapiens</td>\n",
       "      <td>9606</td>\n",
       "      <td>ENSG00000270011</td>\n",
       "      <td>26.1682</td>\n",
       "      <td>33.3333</td>\n",
       "      <td>ENSP00000445323</td>\n",
       "      <td>homo_sapiens</td>\n",
       "      <td>9606</td>\n",
       "      <td>Bilateria</td>\n",
       "      <td>other_paralog</td>\n",
       "    </tr>\n",
       "  </tbody>\n",
       "</table>\n",
       "</div>"
      ],
      "text/plain": [
       "     dn_ds    method_link_type       source__id  source__perc_id  \\\n",
       "0      NaN  ENSEMBL_PARALOGUES  ENSG00000267179          24.8792   \n",
       "1      NaN  ENSEMBL_PARALOGUES  ENSG00000267179          25.6039   \n",
       "2  0.35552  ENSEMBL_PARALOGUES  ENSG00000267179          26.3285   \n",
       "3  0.33996  ENSEMBL_PARALOGUES  ENSG00000267179          27.2947   \n",
       "4  0.18553  ENSEMBL_PARALOGUES  ENSG00000267179          20.2899   \n",
       "\n",
       "   source__perc_pos source__protein_id source__species  source__taxon_id  \\\n",
       "0           37.1981    ENSP00000467286    homo_sapiens              9606   \n",
       "1           37.1981    ENSP00000467286    homo_sapiens              9606   \n",
       "2           38.1642    ENSP00000467286    homo_sapiens              9606   \n",
       "3           38.8889    ENSP00000467286    homo_sapiens              9606   \n",
       "4           25.8454    ENSP00000467286    homo_sapiens              9606   \n",
       "\n",
       "        target__id  target__perc_id  target__perc_pos target__protein_id  \\\n",
       "0  ENSG00000175787          17.0813           25.5390    ENSP00000378792   \n",
       "1  ENSG00000187815          20.1521           29.2776    ENSP00000361791   \n",
       "2  ENSG00000172006          20.2602           29.3680    ENSP00000321132   \n",
       "3  ENSG00000188629          23.4927           33.4719    ENSP00000415070   \n",
       "4  ENSG00000270011          26.1682           33.3333    ENSP00000445323   \n",
       "\n",
       "  target__species  target__taxon_id taxonomy_level           type  \n",
       "0    homo_sapiens              9606      Bilateria  other_paralog  \n",
       "1    homo_sapiens              9606      Bilateria  other_paralog  \n",
       "2    homo_sapiens              9606      Bilateria  other_paralog  \n",
       "3    homo_sapiens              9606      Bilateria  other_paralog  \n",
       "4    homo_sapiens              9606      Bilateria  other_paralog  "
      ]
     },
     "execution_count": 8,
     "metadata": {},
     "output_type": "execute_result"
    }
   ],
   "source": [
    "tfs = pd.read_csv('opisthokont_not_human_transcription_factors_ensembl_compara.csv')\n",
    "print(tfs.shape)\n",
    "tfs.head()"
   ]
  },
  {
   "cell_type": "markdown",
   "metadata": {},
   "source": [
    "# Go to Quest for Orthologs fastas"
   ]
  },
  {
   "cell_type": "markdown",
   "metadata": {},
   "source": [
    "## Read species metadata"
   ]
  },
  {
   "cell_type": "code",
   "execution_count": 9,
   "metadata": {},
   "outputs": [
    {
     "name": "stdout",
     "output_type": "stream",
     "text": [
      "(78, 10)\n"
     ]
    },
    {
     "data": {
      "text/html": [
       "<div>\n",
       "<style scoped>\n",
       "    .dataframe tbody tr th:only-of-type {\n",
       "        vertical-align: middle;\n",
       "    }\n",
       "\n",
       "    .dataframe tbody tr th {\n",
       "        vertical-align: top;\n",
       "    }\n",
       "\n",
       "    .dataframe thead th {\n",
       "        text-align: right;\n",
       "    }\n",
       "</style>\n",
       "<table border=\"1\" class=\"dataframe\">\n",
       "  <thead>\n",
       "    <tr style=\"text-align: right;\">\n",
       "      <th></th>\n",
       "      <th>proteome_id</th>\n",
       "      <th>tax_id</th>\n",
       "      <th>oscode</th>\n",
       "      <th>n_main_fasta_canonical</th>\n",
       "      <th>n_additional_fasta_isoforms</th>\n",
       "      <th>n_gene2acc</th>\n",
       "      <th>species_name</th>\n",
       "      <th>divergence_from_human_mya</th>\n",
       "      <th>scientific_name</th>\n",
       "      <th>common_name_or_strain</th>\n",
       "    </tr>\n",
       "  </thead>\n",
       "  <tbody>\n",
       "    <tr>\n",
       "      <th>0</th>\n",
       "      <td>UP000007062</td>\n",
       "      <td>7165</td>\n",
       "      <td>ANOGA</td>\n",
       "      <td>12553</td>\n",
       "      <td>971</td>\n",
       "      <td>13619</td>\n",
       "      <td>Anopheles gambiae (African malaria mosquito)</td>\n",
       "      <td>797.0</td>\n",
       "      <td>Anopheles gambiae</td>\n",
       "      <td>African malaria mosquito</td>\n",
       "    </tr>\n",
       "    <tr>\n",
       "      <th>1</th>\n",
       "      <td>UP000000798</td>\n",
       "      <td>224324</td>\n",
       "      <td>AQUAE</td>\n",
       "      <td>1553</td>\n",
       "      <td>0</td>\n",
       "      <td>1557</td>\n",
       "      <td>Aquifex aeolicus (strain VF5)</td>\n",
       "      <td>4290.0</td>\n",
       "      <td>Aquifex aeolicus</td>\n",
       "      <td>strain VF5</td>\n",
       "    </tr>\n",
       "    <tr>\n",
       "      <th>2</th>\n",
       "      <td>UP000006548</td>\n",
       "      <td>3702</td>\n",
       "      <td>ARATH</td>\n",
       "      <td>27475</td>\n",
       "      <td>14123</td>\n",
       "      <td>41920</td>\n",
       "      <td>Arabidopsis thaliana (Mouse-ear cress)</td>\n",
       "      <td>1496.0</td>\n",
       "      <td>Arabidopsis thaliana</td>\n",
       "      <td>Mouse-ear cress</td>\n",
       "    </tr>\n",
       "    <tr>\n",
       "      <th>3</th>\n",
       "      <td>UP000001570</td>\n",
       "      <td>224308</td>\n",
       "      <td>BACSU</td>\n",
       "      <td>4260</td>\n",
       "      <td>7</td>\n",
       "      <td>4268</td>\n",
       "      <td>Bacillus subtilis (strain 168)</td>\n",
       "      <td>4290.0</td>\n",
       "      <td>Bacillus subtilis</td>\n",
       "      <td>strain 168</td>\n",
       "    </tr>\n",
       "    <tr>\n",
       "      <th>4</th>\n",
       "      <td>UP000001414</td>\n",
       "      <td>226186</td>\n",
       "      <td>BACTN</td>\n",
       "      <td>4782</td>\n",
       "      <td>0</td>\n",
       "      <td>4823</td>\n",
       "      <td>Bacteroides thetaiotaomicron (strain ATCC 2914...</td>\n",
       "      <td>4290.0</td>\n",
       "      <td>Bacteroides thetaiotaomicron</td>\n",
       "      <td>strain ATCC 29148 / DSM 2079 / NCTC 10582 / E5...</td>\n",
       "    </tr>\n",
       "  </tbody>\n",
       "</table>\n",
       "</div>"
      ],
      "text/plain": [
       "   proteome_id  tax_id oscode  n_main_fasta_canonical  \\\n",
       "0  UP000007062    7165  ANOGA                   12553   \n",
       "1  UP000000798  224324  AQUAE                    1553   \n",
       "2  UP000006548    3702  ARATH                   27475   \n",
       "3  UP000001570  224308  BACSU                    4260   \n",
       "4  UP000001414  226186  BACTN                    4782   \n",
       "\n",
       "   n_additional_fasta_isoforms  n_gene2acc  \\\n",
       "0                          971       13619   \n",
       "1                            0        1557   \n",
       "2                        14123       41920   \n",
       "3                            7        4268   \n",
       "4                            0        4823   \n",
       "\n",
       "                                        species_name  \\\n",
       "0       Anopheles gambiae (African malaria mosquito)   \n",
       "1                      Aquifex aeolicus (strain VF5)   \n",
       "2             Arabidopsis thaliana (Mouse-ear cress)   \n",
       "3                     Bacillus subtilis (strain 168)   \n",
       "4  Bacteroides thetaiotaomicron (strain ATCC 2914...   \n",
       "\n",
       "   divergence_from_human_mya               scientific_name  \\\n",
       "0                      797.0             Anopheles gambiae   \n",
       "1                     4290.0              Aquifex aeolicus   \n",
       "2                     1496.0          Arabidopsis thaliana   \n",
       "3                     4290.0             Bacillus subtilis   \n",
       "4                     4290.0  Bacteroides thetaiotaomicron   \n",
       "\n",
       "                               common_name_or_strain  \n",
       "0                           African malaria mosquito  \n",
       "1                                         strain VF5  \n",
       "2                                    Mouse-ear cress  \n",
       "3                                         strain 168  \n",
       "4  strain ATCC 29148 / DSM 2079 / NCTC 10582 / E5...  "
      ]
     },
     "execution_count": 9,
     "metadata": {},
     "output_type": "execute_result"
    }
   ],
   "source": [
    "species_metadata = pd.read_csv(\"species_metadata.csv\")\n",
    "print(species_metadata.shape)\n",
    "species_metadata.head()"
   ]
  },
  {
   "cell_type": "markdown",
   "metadata": {},
   "source": [
    "### Subset to opisthokonts"
   ]
  },
  {
   "cell_type": "code",
   "execution_count": 10,
   "metadata": {},
   "outputs": [
    {
     "name": "stdout",
     "output_type": "stream",
     "text": [
      "(35, 10)\n"
     ]
    },
    {
     "data": {
      "text/html": [
       "<div>\n",
       "<style scoped>\n",
       "    .dataframe tbody tr th:only-of-type {\n",
       "        vertical-align: middle;\n",
       "    }\n",
       "\n",
       "    .dataframe tbody tr th {\n",
       "        vertical-align: top;\n",
       "    }\n",
       "\n",
       "    .dataframe thead th {\n",
       "        text-align: right;\n",
       "    }\n",
       "</style>\n",
       "<table border=\"1\" class=\"dataframe\">\n",
       "  <thead>\n",
       "    <tr style=\"text-align: right;\">\n",
       "      <th></th>\n",
       "      <th>proteome_id</th>\n",
       "      <th>tax_id</th>\n",
       "      <th>oscode</th>\n",
       "      <th>n_main_fasta_canonical</th>\n",
       "      <th>n_additional_fasta_isoforms</th>\n",
       "      <th>n_gene2acc</th>\n",
       "      <th>species_name</th>\n",
       "      <th>divergence_from_human_mya</th>\n",
       "      <th>scientific_name</th>\n",
       "      <th>common_name_or_strain</th>\n",
       "    </tr>\n",
       "  </thead>\n",
       "  <tbody>\n",
       "    <tr>\n",
       "      <th>0</th>\n",
       "      <td>UP000007062</td>\n",
       "      <td>7165</td>\n",
       "      <td>ANOGA</td>\n",
       "      <td>12553</td>\n",
       "      <td>971</td>\n",
       "      <td>13619</td>\n",
       "      <td>Anopheles gambiae (African malaria mosquito)</td>\n",
       "      <td>797.0</td>\n",
       "      <td>Anopheles gambiae</td>\n",
       "      <td>African malaria mosquito</td>\n",
       "    </tr>\n",
       "    <tr>\n",
       "      <th>5</th>\n",
       "      <td>UP000007241</td>\n",
       "      <td>684364</td>\n",
       "      <td>BATDJ</td>\n",
       "      <td>8610</td>\n",
       "      <td>0</td>\n",
       "      <td>8685</td>\n",
       "      <td>Batrachochytrium dendrobatidis (strain JAM81 /...</td>\n",
       "      <td>1105.0</td>\n",
       "      <td>Batrachochytrium dendrobatidis</td>\n",
       "      <td>strain JAM81 / FGSC 10211</td>\n",
       "    </tr>\n",
       "    <tr>\n",
       "      <th>6</th>\n",
       "      <td>UP000009136</td>\n",
       "      <td>9913</td>\n",
       "      <td>BOVIN</td>\n",
       "      <td>23774</td>\n",
       "      <td>14534</td>\n",
       "      <td>38438</td>\n",
       "      <td>Bos taurus (Bovine)</td>\n",
       "      <td>96.0</td>\n",
       "      <td>Bos taurus</td>\n",
       "      <td>Bovine</td>\n",
       "    </tr>\n",
       "    <tr>\n",
       "      <th>8</th>\n",
       "      <td>UP000001554</td>\n",
       "      <td>7739</td>\n",
       "      <td>BRAFL</td>\n",
       "      <td>28542</td>\n",
       "      <td>2</td>\n",
       "      <td>28608</td>\n",
       "      <td>Branchiostoma floridae (Florida lancelet) (Amp...</td>\n",
       "      <td>684.0</td>\n",
       "      <td>Branchiostoma floridae</td>\n",
       "      <td>Florida lancelet</td>\n",
       "    </tr>\n",
       "    <tr>\n",
       "      <th>9</th>\n",
       "      <td>UP000001940</td>\n",
       "      <td>6239</td>\n",
       "      <td>CAEEL</td>\n",
       "      <td>19986</td>\n",
       "      <td>8309</td>\n",
       "      <td>28507</td>\n",
       "      <td>Caenorhabditis elegans</td>\n",
       "      <td>797.0</td>\n",
       "      <td>Caenorhabditis elegans</td>\n",
       "      <td>NaN</td>\n",
       "    </tr>\n",
       "  </tbody>\n",
       "</table>\n",
       "</div>"
      ],
      "text/plain": [
       "   proteome_id  tax_id oscode  n_main_fasta_canonical  \\\n",
       "0  UP000007062    7165  ANOGA                   12553   \n",
       "5  UP000007241  684364  BATDJ                    8610   \n",
       "6  UP000009136    9913  BOVIN                   23774   \n",
       "8  UP000001554    7739  BRAFL                   28542   \n",
       "9  UP000001940    6239  CAEEL                   19986   \n",
       "\n",
       "   n_additional_fasta_isoforms  n_gene2acc  \\\n",
       "0                          971       13619   \n",
       "5                            0        8685   \n",
       "6                        14534       38438   \n",
       "8                            2       28608   \n",
       "9                         8309       28507   \n",
       "\n",
       "                                        species_name  \\\n",
       "0       Anopheles gambiae (African malaria mosquito)   \n",
       "5  Batrachochytrium dendrobatidis (strain JAM81 /...   \n",
       "6                                Bos taurus (Bovine)   \n",
       "8  Branchiostoma floridae (Florida lancelet) (Amp...   \n",
       "9                             Caenorhabditis elegans   \n",
       "\n",
       "   divergence_from_human_mya                 scientific_name  \\\n",
       "0                      797.0               Anopheles gambiae   \n",
       "5                     1105.0  Batrachochytrium dendrobatidis   \n",
       "6                       96.0                      Bos taurus   \n",
       "8                      684.0          Branchiostoma floridae   \n",
       "9                      797.0          Caenorhabditis elegans   \n",
       "\n",
       "       common_name_or_strain  \n",
       "0   African malaria mosquito  \n",
       "5  strain JAM81 / FGSC 10211  \n",
       "6                     Bovine  \n",
       "8           Florida lancelet  \n",
       "9                        NaN  "
      ]
     },
     "execution_count": 10,
     "metadata": {},
     "output_type": "execute_result"
    }
   ],
   "source": [
    "# Estimated opisthokonta divergence time from http://timetree.org/\n",
    "t = 1105\n",
    "opisthokonts = species_metadata.query('divergence_from_human_mya <= @t')\n",
    "print(opisthokonts.shape)\n",
    "opisthokonts.head()"
   ]
  },
  {
   "cell_type": "code",
   "execution_count": 11,
   "metadata": {},
   "outputs": [
    {
     "data": {
      "text/html": [
       "<div>\n",
       "<style scoped>\n",
       "    .dataframe tbody tr th:only-of-type {\n",
       "        vertical-align: middle;\n",
       "    }\n",
       "\n",
       "    .dataframe tbody tr th {\n",
       "        vertical-align: top;\n",
       "    }\n",
       "\n",
       "    .dataframe thead th {\n",
       "        text-align: right;\n",
       "    }\n",
       "</style>\n",
       "<table border=\"1\" class=\"dataframe\">\n",
       "  <thead>\n",
       "    <tr style=\"text-align: right;\">\n",
       "      <th></th>\n",
       "      <th>proteome_id</th>\n",
       "      <th>tax_id</th>\n",
       "      <th>oscode</th>\n",
       "      <th>n_main_fasta_canonical</th>\n",
       "      <th>n_additional_fasta_isoforms</th>\n",
       "      <th>n_gene2acc</th>\n",
       "      <th>species_name</th>\n",
       "      <th>divergence_from_human_mya</th>\n",
       "      <th>scientific_name</th>\n",
       "      <th>common_name_or_strain</th>\n",
       "    </tr>\n",
       "  </thead>\n",
       "  <tbody>\n",
       "    <tr>\n",
       "      <th>32</th>\n",
       "      <td>UP000005640</td>\n",
       "      <td>9606</td>\n",
       "      <td>HUMAN</td>\n",
       "      <td>21146</td>\n",
       "      <td>74769</td>\n",
       "      <td>96332</td>\n",
       "      <td>Homo sapiens (Human)</td>\n",
       "      <td>0.0</td>\n",
       "      <td>Homo sapiens</td>\n",
       "      <td>Human</td>\n",
       "    </tr>\n",
       "  </tbody>\n",
       "</table>\n",
       "</div>"
      ],
      "text/plain": [
       "    proteome_id  tax_id oscode  n_main_fasta_canonical  \\\n",
       "32  UP000005640    9606  HUMAN                   21146   \n",
       "\n",
       "    n_additional_fasta_isoforms  n_gene2acc          species_name  \\\n",
       "32                        74769       96332  Homo sapiens (Human)   \n",
       "\n",
       "    divergence_from_human_mya scientific_name common_name_or_strain  \n",
       "32                        0.0    Homo sapiens                 Human  "
      ]
     },
     "execution_count": 11,
     "metadata": {},
     "output_type": "execute_result"
    }
   ],
   "source": [
    "opisthokonts.query('scientific_name == \"Homo sapiens\"')"
   ]
  },
  {
   "cell_type": "markdown",
   "metadata": {},
   "source": [
    "## Read Gene Accession file\n",
    "\n",
    "```\n",
    "Gene mapping files (*.gene2acc)\n",
    "===============================\n",
    "\n",
    "Column 1 is a unique gene symbol that is chosen with the following order of\n",
    "preference from the annotation found in:\n",
    "1) Model Organism Database (MOD)\n",
    "2) Ensembl or Ensembl Genomes database\n",
    "3) UniProt Ordered Locus Name (OLN)\n",
    "4) UniProt Open Reading Frame (ORF)\n",
    "5) UniProt Gene Name\n",
    "A dash symbol ('-') is used when the gene encoding a protein is unknown.\n",
    "\n",
    "Column 2 is the UniProtKB accession or isoform identifier for the given gene\n",
    "symbol. This column may have redundancy when two or more genes have identical\n",
    "translations.\n",
    "\n",
    "Column 3 is the gene symbol of the canonical accession used to represent the\n",
    "respective gene group and the first row of the sequence is the canonical one.\n",
    "```"
   ]
  },
  {
   "cell_type": "code",
   "execution_count": 109,
   "metadata": {},
   "outputs": [
    {
     "name": "stdout",
     "output_type": "stream",
     "text": [
      "(96332, 3)\n"
     ]
    },
    {
     "data": {
      "text/html": [
       "<div>\n",
       "<style scoped>\n",
       "    .dataframe tbody tr th:only-of-type {\n",
       "        vertical-align: middle;\n",
       "    }\n",
       "\n",
       "    .dataframe tbody tr th {\n",
       "        vertical-align: top;\n",
       "    }\n",
       "\n",
       "    .dataframe thead th {\n",
       "        text-align: right;\n",
       "    }\n",
       "</style>\n",
       "<table border=\"1\" class=\"dataframe\">\n",
       "  <thead>\n",
       "    <tr style=\"text-align: right;\">\n",
       "      <th></th>\n",
       "      <th>maybe_ensembl_id</th>\n",
       "      <th>uniprot_id</th>\n",
       "      <th>canonical_accession</th>\n",
       "    </tr>\n",
       "  </thead>\n",
       "  <tbody>\n",
       "    <tr>\n",
       "      <th>0</th>\n",
       "      <td>NaN</td>\n",
       "      <td>A0A075B7B6</td>\n",
       "      <td>NaN</td>\n",
       "    </tr>\n",
       "    <tr>\n",
       "      <th>1</th>\n",
       "      <td>NaN</td>\n",
       "      <td>A0A075B714</td>\n",
       "      <td>NaN</td>\n",
       "    </tr>\n",
       "    <tr>\n",
       "      <th>2</th>\n",
       "      <td>NaN</td>\n",
       "      <td>A0A075B713</td>\n",
       "      <td>NaN</td>\n",
       "    </tr>\n",
       "    <tr>\n",
       "      <th>3</th>\n",
       "      <td>NaN</td>\n",
       "      <td>A0A075B712</td>\n",
       "      <td>NaN</td>\n",
       "    </tr>\n",
       "    <tr>\n",
       "      <th>4</th>\n",
       "      <td>NaN</td>\n",
       "      <td>A0A075B711</td>\n",
       "      <td>NaN</td>\n",
       "    </tr>\n",
       "  </tbody>\n",
       "</table>\n",
       "</div>"
      ],
      "text/plain": [
       "  maybe_ensembl_id  uniprot_id canonical_accession\n",
       "0              NaN  A0A075B7B6                 NaN\n",
       "1              NaN  A0A075B714                 NaN\n",
       "2              NaN  A0A075B713                 NaN\n",
       "3              NaN  A0A075B712                 NaN\n",
       "4              NaN  A0A075B711                 NaN"
      ]
     },
     "execution_count": 109,
     "metadata": {},
     "output_type": "execute_result"
    }
   ],
   "source": [
    "\n",
    "def read_gene2acc(gene2acc, names=['maybe_ensembl_id', 'uniprot_id', 'canonical_accession']):\n",
    "    df = pd.read_csv(gene2acc, sep='\\t', header=None, na_values='-', names=columns)\n",
    "    return df\n",
    "\n",
    "gene2acc = read_gene2acc('Eukaryota/UP000005640_9606.gene2acc')\n",
    "# gene2acc = pd.read_csv('Eukaryota/UP000005640_9606.gene2acc', sep='\\t', header=None, na_values='-', names=columns)\n",
    "print(gene2acc.shape)\n",
    "gene2acc.head()"
   ]
  },
  {
   "cell_type": "code",
   "execution_count": 29,
   "metadata": {},
   "outputs": [
    {
     "data": {
      "text/html": [
       "<div>\n",
       "<style scoped>\n",
       "    .dataframe tbody tr th:only-of-type {\n",
       "        vertical-align: middle;\n",
       "    }\n",
       "\n",
       "    .dataframe tbody tr th {\n",
       "        vertical-align: top;\n",
       "    }\n",
       "\n",
       "    .dataframe thead th {\n",
       "        text-align: right;\n",
       "    }\n",
       "</style>\n",
       "<table border=\"1\" class=\"dataframe\">\n",
       "  <thead>\n",
       "    <tr style=\"text-align: right;\">\n",
       "      <th></th>\n",
       "      <th>maybe_ensembl_id</th>\n",
       "      <th>uniprot_id</th>\n",
       "      <th>canonical_accession</th>\n",
       "    </tr>\n",
       "  </thead>\n",
       "  <tbody>\n",
       "    <tr>\n",
       "      <th>600</th>\n",
       "      <td>ACOT7L</td>\n",
       "      <td>Q6ZUV0</td>\n",
       "      <td>ACOT7L</td>\n",
       "    </tr>\n",
       "    <tr>\n",
       "      <th>601</th>\n",
       "      <td>BARGIN</td>\n",
       "      <td>Q6ZT62</td>\n",
       "      <td>BARGIN</td>\n",
       "    </tr>\n",
       "    <tr>\n",
       "      <th>602</th>\n",
       "      <td>BARGIN</td>\n",
       "      <td>Q6ZT62-2</td>\n",
       "      <td>BARGIN</td>\n",
       "    </tr>\n",
       "    <tr>\n",
       "      <th>603</th>\n",
       "      <td>BCE1</td>\n",
       "      <td>O60756</td>\n",
       "      <td>BCE1</td>\n",
       "    </tr>\n",
       "    <tr>\n",
       "      <th>604</th>\n",
       "      <td>C1orf140</td>\n",
       "      <td>Q5VVS0</td>\n",
       "      <td>C1orf140</td>\n",
       "    </tr>\n",
       "    <tr>\n",
       "      <th>...</th>\n",
       "      <td>...</td>\n",
       "      <td>...</td>\n",
       "      <td>...</td>\n",
       "    </tr>\n",
       "    <tr>\n",
       "      <th>96327</th>\n",
       "      <td>UNQ6190/PRO20217</td>\n",
       "      <td>Q6UXQ8</td>\n",
       "      <td>UNQ6190/PRO20217</td>\n",
       "    </tr>\n",
       "    <tr>\n",
       "      <th>96328</th>\n",
       "      <td>UNQ6493/PRO21345</td>\n",
       "      <td>Q6UXR8</td>\n",
       "      <td>UNQ6493/PRO21345</td>\n",
       "    </tr>\n",
       "    <tr>\n",
       "      <th>96329</th>\n",
       "      <td>UNQ6494/PRO21346</td>\n",
       "      <td>Q6UXR6</td>\n",
       "      <td>UNQ6494/PRO21346</td>\n",
       "    </tr>\n",
       "    <tr>\n",
       "      <th>96330</th>\n",
       "      <td>UNQ9165/PRO28630</td>\n",
       "      <td>Q6UXU0</td>\n",
       "      <td>UNQ9165/PRO28630</td>\n",
       "    </tr>\n",
       "    <tr>\n",
       "      <th>96331</th>\n",
       "      <td>UNQ9370/PRO34162</td>\n",
       "      <td>Q6UXP9</td>\n",
       "      <td>UNQ9370/PRO34162</td>\n",
       "    </tr>\n",
       "  </tbody>\n",
       "</table>\n",
       "<p>95732 rows × 3 columns</p>\n",
       "</div>"
      ],
      "text/plain": [
       "       maybe_ensembl_id uniprot_id canonical_accession\n",
       "600              ACOT7L     Q6ZUV0              ACOT7L\n",
       "601              BARGIN     Q6ZT62              BARGIN\n",
       "602              BARGIN   Q6ZT62-2              BARGIN\n",
       "603                BCE1     O60756                BCE1\n",
       "604            C1orf140     Q5VVS0            C1orf140\n",
       "...                 ...        ...                 ...\n",
       "96327  UNQ6190/PRO20217     Q6UXQ8    UNQ6190/PRO20217\n",
       "96328  UNQ6493/PRO21345     Q6UXR8    UNQ6493/PRO21345\n",
       "96329  UNQ6494/PRO21346     Q6UXR6    UNQ6494/PRO21346\n",
       "96330  UNQ9165/PRO28630     Q6UXU0    UNQ9165/PRO28630\n",
       "96331  UNQ9370/PRO34162     Q6UXP9    UNQ9370/PRO34162\n",
       "\n",
       "[95732 rows x 3 columns]"
      ]
     },
     "execution_count": 29,
     "metadata": {},
     "output_type": "execute_result"
    }
   ],
   "source": [
    "gene2acc.dropna()"
   ]
  },
  {
   "cell_type": "markdown",
   "metadata": {},
   "source": [
    "## Read ID mapping file\n",
    "\n",
    "```\n",
    "Database mapping files (*.idmapping)\n",
    "====================================\n",
    "\n",
    "These files contain mappings from UniProtKB to other databases for each\n",
    "reference proteome.\n",
    "The format consists of three tab-separated columns:\n",
    "\n",
    "1. UniProtKB accession\n",
    "2. ID_type:\n",
    "   Database name as shown in UniProtKB cross-references and supported by the ID\n",
    "   mapping tool on the UniProt web site (http://www.uniprot.org/mapping)\n",
    "3. ID:\n",
    "   Identifier in the cross-referenced database.\n",
    "\n",
    "```"
   ]
  },
  {
   "cell_type": "code",
   "execution_count": 17,
   "metadata": {},
   "outputs": [
    {
     "data": {
      "text/html": [
       "<div>\n",
       "<style scoped>\n",
       "    .dataframe tbody tr th:only-of-type {\n",
       "        vertical-align: middle;\n",
       "    }\n",
       "\n",
       "    .dataframe tbody tr th {\n",
       "        vertical-align: top;\n",
       "    }\n",
       "\n",
       "    .dataframe thead th {\n",
       "        text-align: right;\n",
       "    }\n",
       "</style>\n",
       "<table border=\"1\" class=\"dataframe\">\n",
       "  <thead>\n",
       "    <tr style=\"text-align: right;\">\n",
       "      <th></th>\n",
       "      <th>proteome_id</th>\n",
       "      <th>tax_id</th>\n",
       "      <th>oscode</th>\n",
       "      <th>n_main_fasta_canonical</th>\n",
       "      <th>n_additional_fasta_isoforms</th>\n",
       "      <th>n_gene2acc</th>\n",
       "      <th>species_name</th>\n",
       "      <th>divergence_from_human_mya</th>\n",
       "      <th>scientific_name</th>\n",
       "      <th>common_name_or_strain</th>\n",
       "    </tr>\n",
       "  </thead>\n",
       "  <tbody>\n",
       "    <tr>\n",
       "      <th>0</th>\n",
       "      <td>UP000007062</td>\n",
       "      <td>7165</td>\n",
       "      <td>ANOGA</td>\n",
       "      <td>12553</td>\n",
       "      <td>971</td>\n",
       "      <td>13619</td>\n",
       "      <td>Anopheles gambiae (African malaria mosquito)</td>\n",
       "      <td>797.0</td>\n",
       "      <td>Anopheles gambiae</td>\n",
       "      <td>African malaria mosquito</td>\n",
       "    </tr>\n",
       "    <tr>\n",
       "      <th>5</th>\n",
       "      <td>UP000007241</td>\n",
       "      <td>684364</td>\n",
       "      <td>BATDJ</td>\n",
       "      <td>8610</td>\n",
       "      <td>0</td>\n",
       "      <td>8685</td>\n",
       "      <td>Batrachochytrium dendrobatidis (strain JAM81 /...</td>\n",
       "      <td>1105.0</td>\n",
       "      <td>Batrachochytrium dendrobatidis</td>\n",
       "      <td>strain JAM81 / FGSC 10211</td>\n",
       "    </tr>\n",
       "    <tr>\n",
       "      <th>6</th>\n",
       "      <td>UP000009136</td>\n",
       "      <td>9913</td>\n",
       "      <td>BOVIN</td>\n",
       "      <td>23774</td>\n",
       "      <td>14534</td>\n",
       "      <td>38438</td>\n",
       "      <td>Bos taurus (Bovine)</td>\n",
       "      <td>96.0</td>\n",
       "      <td>Bos taurus</td>\n",
       "      <td>Bovine</td>\n",
       "    </tr>\n",
       "    <tr>\n",
       "      <th>8</th>\n",
       "      <td>UP000001554</td>\n",
       "      <td>7739</td>\n",
       "      <td>BRAFL</td>\n",
       "      <td>28542</td>\n",
       "      <td>2</td>\n",
       "      <td>28608</td>\n",
       "      <td>Branchiostoma floridae (Florida lancelet) (Amp...</td>\n",
       "      <td>684.0</td>\n",
       "      <td>Branchiostoma floridae</td>\n",
       "      <td>Florida lancelet</td>\n",
       "    </tr>\n",
       "    <tr>\n",
       "      <th>9</th>\n",
       "      <td>UP000001940</td>\n",
       "      <td>6239</td>\n",
       "      <td>CAEEL</td>\n",
       "      <td>19986</td>\n",
       "      <td>8309</td>\n",
       "      <td>28507</td>\n",
       "      <td>Caenorhabditis elegans</td>\n",
       "      <td>797.0</td>\n",
       "      <td>Caenorhabditis elegans</td>\n",
       "      <td>NaN</td>\n",
       "    </tr>\n",
       "  </tbody>\n",
       "</table>\n",
       "</div>"
      ],
      "text/plain": [
       "   proteome_id  tax_id oscode  n_main_fasta_canonical  \\\n",
       "0  UP000007062    7165  ANOGA                   12553   \n",
       "5  UP000007241  684364  BATDJ                    8610   \n",
       "6  UP000009136    9913  BOVIN                   23774   \n",
       "8  UP000001554    7739  BRAFL                   28542   \n",
       "9  UP000001940    6239  CAEEL                   19986   \n",
       "\n",
       "   n_additional_fasta_isoforms  n_gene2acc  \\\n",
       "0                          971       13619   \n",
       "5                            0        8685   \n",
       "6                        14534       38438   \n",
       "8                            2       28608   \n",
       "9                         8309       28507   \n",
       "\n",
       "                                        species_name  \\\n",
       "0       Anopheles gambiae (African malaria mosquito)   \n",
       "5  Batrachochytrium dendrobatidis (strain JAM81 /...   \n",
       "6                                Bos taurus (Bovine)   \n",
       "8  Branchiostoma floridae (Florida lancelet) (Amp...   \n",
       "9                             Caenorhabditis elegans   \n",
       "\n",
       "   divergence_from_human_mya                 scientific_name  \\\n",
       "0                      797.0               Anopheles gambiae   \n",
       "5                     1105.0  Batrachochytrium dendrobatidis   \n",
       "6                       96.0                      Bos taurus   \n",
       "8                      684.0          Branchiostoma floridae   \n",
       "9                      797.0          Caenorhabditis elegans   \n",
       "\n",
       "       common_name_or_strain  \n",
       "0   African malaria mosquito  \n",
       "5  strain JAM81 / FGSC 10211  \n",
       "6                     Bovine  \n",
       "8           Florida lancelet  \n",
       "9                        NaN  "
      ]
     },
     "execution_count": 17,
     "metadata": {},
     "output_type": "execute_result"
    }
   ],
   "source": [
    "opisthokonts.head()"
   ]
  },
  {
   "cell_type": "code",
   "execution_count": 34,
   "metadata": {},
   "outputs": [
    {
     "data": {
      "text/html": [
       "<div>\n",
       "<style scoped>\n",
       "    .dataframe tbody tr th:only-of-type {\n",
       "        vertical-align: middle;\n",
       "    }\n",
       "\n",
       "    .dataframe tbody tr th {\n",
       "        vertical-align: top;\n",
       "    }\n",
       "\n",
       "    .dataframe thead th {\n",
       "        text-align: right;\n",
       "    }\n",
       "</style>\n",
       "<table border=\"1\" class=\"dataframe\">\n",
       "  <thead>\n",
       "    <tr style=\"text-align: right;\">\n",
       "      <th></th>\n",
       "      <th>proteome_id</th>\n",
       "      <th>tax_id</th>\n",
       "      <th>oscode</th>\n",
       "      <th>n_main_fasta_canonical</th>\n",
       "      <th>n_additional_fasta_isoforms</th>\n",
       "      <th>n_gene2acc</th>\n",
       "      <th>species_name</th>\n",
       "      <th>divergence_from_human_mya</th>\n",
       "      <th>scientific_name</th>\n",
       "      <th>common_name_or_strain</th>\n",
       "    </tr>\n",
       "  </thead>\n",
       "  <tbody>\n",
       "    <tr>\n",
       "      <th>17</th>\n",
       "      <td>UP000000437</td>\n",
       "      <td>7955</td>\n",
       "      <td>DANRE</td>\n",
       "      <td>25939</td>\n",
       "      <td>21219</td>\n",
       "      <td>47517</td>\n",
       "      <td>Danio rerio (Zebrafish) (Brachydanio rerio)</td>\n",
       "      <td>435.0</td>\n",
       "      <td>Danio rerio</td>\n",
       "      <td>Zebrafish</td>\n",
       "    </tr>\n",
       "  </tbody>\n",
       "</table>\n",
       "</div>"
      ],
      "text/plain": [
       "    proteome_id  tax_id oscode  n_main_fasta_canonical  \\\n",
       "17  UP000000437    7955  DANRE                   25939   \n",
       "\n",
       "    n_additional_fasta_isoforms  n_gene2acc  \\\n",
       "17                        21219       47517   \n",
       "\n",
       "                                   species_name  divergence_from_human_mya  \\\n",
       "17  Danio rerio (Zebrafish) (Brachydanio rerio)                      435.0   \n",
       "\n",
       "   scientific_name common_name_or_strain  \n",
       "17     Danio rerio             Zebrafish  "
      ]
     },
     "execution_count": 34,
     "metadata": {},
     "output_type": "execute_result"
    }
   ],
   "source": [
    "opisthokonts.query('proteome_id == \"UP000000437\"')"
   ]
  },
  {
   "cell_type": "markdown",
   "metadata": {},
   "source": [
    "# Get ID Mapping for uniprot ids from ENSMBL"
   ]
  },
  {
   "cell_type": "code",
   "execution_count": 37,
   "metadata": {},
   "outputs": [
    {
     "name": "stderr",
     "output_type": "stream",
     "text": [
      "  2%|▏         | 1/48 [00:00<00:32,  1.44it/s]"
     ]
    },
    {
     "name": "stdout",
     "output_type": "stream",
     "text": [
      "(1036083, 5)\n"
     ]
    },
    {
     "name": "stderr",
     "output_type": "stream",
     "text": [
      " 10%|█         | 5/48 [00:01<00:18,  2.32it/s]"
     ]
    },
    {
     "name": "stdout",
     "output_type": "stream",
     "text": [
      "(555421, 5)\n",
      "(149092, 5)\n",
      "(141961, 5)\n"
     ]
    },
    {
     "name": "stderr",
     "output_type": "stream",
     "text": [
      " 12%|█▎        | 6/48 [00:02<00:25,  1.62it/s]"
     ]
    },
    {
     "name": "stdout",
     "output_type": "stream",
     "text": [
      "(1631036, 5)\n"
     ]
    },
    {
     "name": "stderr",
     "output_type": "stream",
     "text": [
      " 17%|█▋        | 8/48 [00:02<00:20,  1.96it/s]"
     ]
    },
    {
     "name": "stdout",
     "output_type": "stream",
     "text": [
      "(809657, 5)\n"
     ]
    },
    {
     "name": "stderr",
     "output_type": "stream",
     "text": [
      " 21%|██        | 10/48 [00:03<00:14,  2.54it/s]"
     ]
    },
    {
     "name": "stdout",
     "output_type": "stream",
     "text": [
      "(575653, 5)\n",
      "(295804, 5)\n"
     ]
    },
    {
     "name": "stderr",
     "output_type": "stream",
     "text": [
      " 23%|██▎       | 11/48 [00:03<00:11,  3.12it/s]"
     ]
    },
    {
     "name": "stdout",
     "output_type": "stream",
     "text": [
      "(124774, 5)\n"
     ]
    },
    {
     "name": "stderr",
     "output_type": "stream",
     "text": [
      " 27%|██▋       | 13/48 [00:04<00:09,  3.64it/s]"
     ]
    },
    {
     "name": "stdout",
     "output_type": "stream",
     "text": [
      "(277055, 5)\n",
      "(181143, 5)\n"
     ]
    },
    {
     "name": "stderr",
     "output_type": "stream",
     "text": [
      " 33%|███▎      | 16/48 [00:04<00:08,  3.86it/s]"
     ]
    },
    {
     "name": "stdout",
     "output_type": "stream",
     "text": [
      "(839553, 5)\n"
     ]
    },
    {
     "name": "stderr",
     "output_type": "stream",
     "text": [
      " 40%|███▉      | 19/48 [00:05<00:06,  4.41it/s]"
     ]
    },
    {
     "name": "stdout",
     "output_type": "stream",
     "text": [
      "(565651, 5)\n"
     ]
    },
    {
     "name": "stderr",
     "output_type": "stream",
     "text": [
      " 42%|████▏     | 20/48 [00:05<00:08,  3.43it/s]"
     ]
    },
    {
     "name": "stdout",
     "output_type": "stream",
     "text": [
      "(549426, 5)\n"
     ]
    },
    {
     "name": "stderr",
     "output_type": "stream",
     "text": [
      " 46%|████▌     | 22/48 [00:06<00:07,  3.42it/s]"
     ]
    },
    {
     "name": "stdout",
     "output_type": "stream",
     "text": [
      "(518273, 5)\n",
      "(205999, 5)\n"
     ]
    },
    {
     "name": "stderr",
     "output_type": "stream",
     "text": [
      " 50%|█████     | 24/48 [00:06<00:07,  3.35it/s]"
     ]
    },
    {
     "name": "stdout",
     "output_type": "stream",
     "text": [
      "(765068, 5)\n",
      "(146229, 5)\n"
     ]
    },
    {
     "name": "stderr",
     "output_type": "stream",
     "text": [
      " 54%|█████▍    | 26/48 [00:07<00:06,  3.56it/s]"
     ]
    },
    {
     "name": "stdout",
     "output_type": "stream",
     "text": [
      "(594466, 5)\n"
     ]
    },
    {
     "name": "stderr",
     "output_type": "stream",
     "text": [
      " 56%|█████▋    | 27/48 [00:08<00:09,  2.18it/s]"
     ]
    },
    {
     "name": "stdout",
     "output_type": "stream",
     "text": [
      "(1143307, 5)\n"
     ]
    },
    {
     "name": "stderr",
     "output_type": "stream",
     "text": [
      " 58%|█████▊    | 28/48 [00:08<00:08,  2.28it/s]"
     ]
    },
    {
     "name": "stdout",
     "output_type": "stream",
     "text": [
      "(424236, 5)\n"
     ]
    },
    {
     "name": "stderr",
     "output_type": "stream",
     "text": [
      " 62%|██████▎   | 30/48 [00:09<00:05,  3.15it/s]"
     ]
    },
    {
     "name": "stdout",
     "output_type": "stream",
     "text": [
      "(268306, 5)\n",
      "(149870, 5)\n"
     ]
    },
    {
     "name": "stderr",
     "output_type": "stream",
     "text": [
      " 65%|██████▍   | 31/48 [00:09<00:07,  2.32it/s]"
     ]
    },
    {
     "name": "stdout",
     "output_type": "stream",
     "text": [
      "(873723, 5)\n"
     ]
    },
    {
     "name": "stderr",
     "output_type": "stream",
     "text": [
      " 67%|██████▋   | 32/48 [00:09<00:05,  2.76it/s]"
     ]
    },
    {
     "name": "stdout",
     "output_type": "stream",
     "text": [
      "(214092, 5)\n"
     ]
    },
    {
     "name": "stderr",
     "output_type": "stream",
     "text": [
      " 71%|███████   | 34/48 [00:11<00:06,  2.04it/s]"
     ]
    },
    {
     "name": "stdout",
     "output_type": "stream",
     "text": [
      "(2668934, 5)\n"
     ]
    },
    {
     "name": "stderr",
     "output_type": "stream",
     "text": [
      " 81%|████████▏ | 39/48 [00:12<00:02,  3.24it/s]"
     ]
    },
    {
     "name": "stdout",
     "output_type": "stream",
     "text": [
      "(340838, 5)\n",
      "(151313, 5)\n"
     ]
    },
    {
     "name": "stderr",
     "output_type": "stream",
     "text": [
      " 83%|████████▎ | 40/48 [00:12<00:02,  3.24it/s]"
     ]
    },
    {
     "name": "stdout",
     "output_type": "stream",
     "text": [
      "(315939, 5)\n"
     ]
    },
    {
     "name": "stderr",
     "output_type": "stream",
     "text": [
      " 88%|████████▊ | 42/48 [00:12<00:01,  3.44it/s]"
     ]
    },
    {
     "name": "stdout",
     "output_type": "stream",
     "text": [
      "(637633, 5)\n"
     ]
    },
    {
     "name": "stderr",
     "output_type": "stream",
     "text": [
      " 90%|████████▉ | 43/48 [00:13<00:01,  3.49it/s]"
     ]
    },
    {
     "name": "stdout",
     "output_type": "stream",
     "text": [
      "(281658, 5)\n"
     ]
    },
    {
     "name": "stderr",
     "output_type": "stream",
     "text": [
      " 92%|█████████▏| 44/48 [00:13<00:01,  3.46it/s]"
     ]
    },
    {
     "name": "stdout",
     "output_type": "stream",
     "text": [
      "(307893, 5)\n"
     ]
    },
    {
     "name": "stderr",
     "output_type": "stream",
     "text": [
      " 94%|█████████▍| 45/48 [00:14<00:01,  2.59it/s]"
     ]
    },
    {
     "name": "stdout",
     "output_type": "stream",
     "text": [
      "(773011, 5)\n"
     ]
    },
    {
     "name": "stderr",
     "output_type": "stream",
     "text": [
      " 96%|█████████▌| 46/48 [00:14<00:00,  2.45it/s]"
     ]
    },
    {
     "name": "stdout",
     "output_type": "stream",
     "text": [
      "(561122, 5)\n"
     ]
    },
    {
     "name": "stderr",
     "output_type": "stream",
     "text": [
      "100%|██████████| 48/48 [00:14<00:00,  3.24it/s]"
     ]
    },
    {
     "name": "stdout",
     "output_type": "stream",
     "text": [
      "(390075, 5)\n"
     ]
    },
    {
     "name": "stderr",
     "output_type": "stream",
     "text": [
      "\n"
     ]
    },
    {
     "name": "stdout",
     "output_type": "stream",
     "text": [
      "(19464294, 5)\n"
     ]
    },
    {
     "data": {
      "text/html": [
       "<div>\n",
       "<style scoped>\n",
       "    .dataframe tbody tr th:only-of-type {\n",
       "        vertical-align: middle;\n",
       "    }\n",
       "\n",
       "    .dataframe tbody tr th {\n",
       "        vertical-align: top;\n",
       "    }\n",
       "\n",
       "    .dataframe thead th {\n",
       "        text-align: right;\n",
       "    }\n",
       "</style>\n",
       "<table border=\"1\" class=\"dataframe\">\n",
       "  <thead>\n",
       "    <tr style=\"text-align: right;\">\n",
       "      <th></th>\n",
       "      <th>uniprot_id</th>\n",
       "      <th>id_type</th>\n",
       "      <th>db_id</th>\n",
       "      <th>species_id</th>\n",
       "      <th>taxa_id</th>\n",
       "    </tr>\n",
       "  </thead>\n",
       "  <tbody>\n",
       "    <tr>\n",
       "      <th>0</th>\n",
       "      <td>Q5PRD0</td>\n",
       "      <td>UniProtKB-ID</td>\n",
       "      <td>143BA_DANRE</td>\n",
       "      <td>UP000000437</td>\n",
       "      <td>UP000000437</td>\n",
       "    </tr>\n",
       "    <tr>\n",
       "      <th>1</th>\n",
       "      <td>Q5PRD0</td>\n",
       "      <td>Gene_Name</td>\n",
       "      <td>ywhaba</td>\n",
       "      <td>UP000000437</td>\n",
       "      <td>UP000000437</td>\n",
       "    </tr>\n",
       "    <tr>\n",
       "      <th>2</th>\n",
       "      <td>Q5PRD0</td>\n",
       "      <td>Gene_Synonym</td>\n",
       "      <td>ywhab1</td>\n",
       "      <td>UP000000437</td>\n",
       "      <td>UP000000437</td>\n",
       "    </tr>\n",
       "    <tr>\n",
       "      <th>3</th>\n",
       "      <td>Q5PRD0</td>\n",
       "      <td>Gene_ORFName</td>\n",
       "      <td>wu:fb80c08</td>\n",
       "      <td>UP000000437</td>\n",
       "      <td>UP000000437</td>\n",
       "    </tr>\n",
       "    <tr>\n",
       "      <th>4</th>\n",
       "      <td>Q5PRD0</td>\n",
       "      <td>GI</td>\n",
       "      <td>82592598</td>\n",
       "      <td>UP000000437</td>\n",
       "      <td>UP000000437</td>\n",
       "    </tr>\n",
       "  </tbody>\n",
       "</table>\n",
       "</div>"
      ],
      "text/plain": [
       "  uniprot_id       id_type        db_id   species_id      taxa_id\n",
       "0     Q5PRD0  UniProtKB-ID  143BA_DANRE  UP000000437  UP000000437\n",
       "1     Q5PRD0     Gene_Name       ywhaba  UP000000437  UP000000437\n",
       "2     Q5PRD0  Gene_Synonym       ywhab1  UP000000437  UP000000437\n",
       "3     Q5PRD0  Gene_ORFName   wu:fb80c08  UP000000437  UP000000437\n",
       "4     Q5PRD0            GI     82592598  UP000000437  UP000000437"
      ]
     },
     "execution_count": 37,
     "metadata": {},
     "output_type": "execute_result"
    }
   ],
   "source": [
    "dfs = []\n",
    "\n",
    "for filename in tqdm(sorted(iglob(\"Eukaryota/*.idmapping\"))):\n",
    "#     print(filename)\n",
    "    basename = os.path.basename(filename)\n",
    "    prefix = basename.split('.')[0]\n",
    "    species_id, taxa_id = prefix.split(\"_\")\n",
    "#     print(f\"{species_id=} {taxa_id=}\")\n",
    "    \n",
    "    if species_id in opisthokonts.proteome_id.values:\n",
    "\n",
    "        df = pd.read_csv(filename, sep='\\t', header=None, names=['uniprot_id', 'id_type', 'db_id'])\n",
    "        df['species_id'] = species_id\n",
    "        df['taxa_id'] = species_id\n",
    "\n",
    "        # Use only Ensembl data\n",
    "#         df = df.query('id_type == \"Ensembl\"')\n",
    "        print(df.shape)\n",
    "        dfs.append(df)\n",
    "    \n",
    "id_mapping = pd.concat(dfs, ignore_index=True)\n",
    "print(id_mapping.shape)\n",
    "id_mapping.head()"
   ]
  },
  {
   "cell_type": "markdown",
   "metadata": {},
   "source": [
    "# Merge id mapping with ensembl compara tfs"
   ]
  },
  {
   "cell_type": "code",
   "execution_count": 40,
   "metadata": {},
   "outputs": [
    {
     "data": {
      "text/html": [
       "<div>\n",
       "<style scoped>\n",
       "    .dataframe tbody tr th:only-of-type {\n",
       "        vertical-align: middle;\n",
       "    }\n",
       "\n",
       "    .dataframe tbody tr th {\n",
       "        vertical-align: top;\n",
       "    }\n",
       "\n",
       "    .dataframe thead th {\n",
       "        text-align: right;\n",
       "    }\n",
       "</style>\n",
       "<table border=\"1\" class=\"dataframe\">\n",
       "  <thead>\n",
       "    <tr style=\"text-align: right;\">\n",
       "      <th></th>\n",
       "      <th>dn_ds</th>\n",
       "      <th>method_link_type</th>\n",
       "      <th>source__id</th>\n",
       "      <th>source__perc_id</th>\n",
       "      <th>source__perc_pos</th>\n",
       "      <th>source__protein_id</th>\n",
       "      <th>source__species</th>\n",
       "      <th>source__taxon_id</th>\n",
       "      <th>target__id</th>\n",
       "      <th>target__perc_id</th>\n",
       "      <th>target__perc_pos</th>\n",
       "      <th>target__protein_id</th>\n",
       "      <th>target__species</th>\n",
       "      <th>target__taxon_id</th>\n",
       "      <th>taxonomy_level</th>\n",
       "      <th>type</th>\n",
       "    </tr>\n",
       "  </thead>\n",
       "  <tbody>\n",
       "    <tr>\n",
       "      <th>343148</th>\n",
       "      <td>NaN</td>\n",
       "      <td>ENSEMBL_ORTHOLOGUES</td>\n",
       "      <td>ENSG00000036549</td>\n",
       "      <td>36.43410</td>\n",
       "      <td>52.27020</td>\n",
       "      <td>ENSP00000359837</td>\n",
       "      <td>homo_sapiens</td>\n",
       "      <td>9606</td>\n",
       "      <td>ENSEBUG00000002277</td>\n",
       "      <td>39.2133</td>\n",
       "      <td>56.2575</td>\n",
       "      <td>ENSEBUP00000003097</td>\n",
       "      <td>eptatretus_burgeri</td>\n",
       "      <td>7764</td>\n",
       "      <td>Vertebrata</td>\n",
       "      <td>ortholog_one2one</td>\n",
       "    </tr>\n",
       "    <tr>\n",
       "      <th>343149</th>\n",
       "      <td>NaN</td>\n",
       "      <td>ENSEMBL_ORTHOLOGUES</td>\n",
       "      <td>ENSG00000036549</td>\n",
       "      <td>26.91030</td>\n",
       "      <td>33.44410</td>\n",
       "      <td>ENSP00000359837</td>\n",
       "      <td>homo_sapiens</td>\n",
       "      <td>9606</td>\n",
       "      <td>ENSPMAG00000000497</td>\n",
       "      <td>56.6434</td>\n",
       "      <td>70.3963</td>\n",
       "      <td>ENSPMAP00000000552</td>\n",
       "      <td>petromyzon_marinus</td>\n",
       "      <td>7757</td>\n",
       "      <td>Vertebrata</td>\n",
       "      <td>ortholog_one2one</td>\n",
       "    </tr>\n",
       "    <tr>\n",
       "      <th>343150</th>\n",
       "      <td>NaN</td>\n",
       "      <td>ENSEMBL_ORTHOLOGUES</td>\n",
       "      <td>ENSG00000036549</td>\n",
       "      <td>28.90370</td>\n",
       "      <td>45.29350</td>\n",
       "      <td>ENSP00000359837</td>\n",
       "      <td>homo_sapiens</td>\n",
       "      <td>9606</td>\n",
       "      <td>ENSCING00000002486</td>\n",
       "      <td>25.1203</td>\n",
       "      <td>39.3648</td>\n",
       "      <td>ENSCINP00000005056</td>\n",
       "      <td>ciona_intestinalis</td>\n",
       "      <td>7719</td>\n",
       "      <td>Chordata</td>\n",
       "      <td>ortholog_one2one</td>\n",
       "    </tr>\n",
       "    <tr>\n",
       "      <th>343151</th>\n",
       "      <td>NaN</td>\n",
       "      <td>ENSEMBL_ORTHOLOGUES</td>\n",
       "      <td>ENSG00000036549</td>\n",
       "      <td>7.08749</td>\n",
       "      <td>9.30233</td>\n",
       "      <td>ENSP00000359837</td>\n",
       "      <td>homo_sapiens</td>\n",
       "      <td>9606</td>\n",
       "      <td>ENSCSAVG00000000992</td>\n",
       "      <td>48.4848</td>\n",
       "      <td>63.6364</td>\n",
       "      <td>ENSCSAVP00000001713</td>\n",
       "      <td>ciona_savignyi</td>\n",
       "      <td>51511</td>\n",
       "      <td>Chordata</td>\n",
       "      <td>ortholog_one2one</td>\n",
       "    </tr>\n",
       "    <tr>\n",
       "      <th>343152</th>\n",
       "      <td>NaN</td>\n",
       "      <td>ENSEMBL_ORTHOLOGUES</td>\n",
       "      <td>ENSG00000036549</td>\n",
       "      <td>13.84270</td>\n",
       "      <td>21.04100</td>\n",
       "      <td>ENSP00000359837</td>\n",
       "      <td>homo_sapiens</td>\n",
       "      <td>9606</td>\n",
       "      <td>FBgn0031876</td>\n",
       "      <td>35.1124</td>\n",
       "      <td>53.3708</td>\n",
       "      <td>FBpp0078990</td>\n",
       "      <td>drosophila_melanogaster</td>\n",
       "      <td>7227</td>\n",
       "      <td>Bilateria</td>\n",
       "      <td>ortholog_one2one</td>\n",
       "    </tr>\n",
       "  </tbody>\n",
       "</table>\n",
       "</div>"
      ],
      "text/plain": [
       "        dn_ds     method_link_type       source__id  source__perc_id  \\\n",
       "343148    NaN  ENSEMBL_ORTHOLOGUES  ENSG00000036549         36.43410   \n",
       "343149    NaN  ENSEMBL_ORTHOLOGUES  ENSG00000036549         26.91030   \n",
       "343150    NaN  ENSEMBL_ORTHOLOGUES  ENSG00000036549         28.90370   \n",
       "343151    NaN  ENSEMBL_ORTHOLOGUES  ENSG00000036549          7.08749   \n",
       "343152    NaN  ENSEMBL_ORTHOLOGUES  ENSG00000036549         13.84270   \n",
       "\n",
       "        source__perc_pos source__protein_id source__species  source__taxon_id  \\\n",
       "343148          52.27020    ENSP00000359837    homo_sapiens              9606   \n",
       "343149          33.44410    ENSP00000359837    homo_sapiens              9606   \n",
       "343150          45.29350    ENSP00000359837    homo_sapiens              9606   \n",
       "343151           9.30233    ENSP00000359837    homo_sapiens              9606   \n",
       "343152          21.04100    ENSP00000359837    homo_sapiens              9606   \n",
       "\n",
       "                 target__id  target__perc_id  target__perc_pos  \\\n",
       "343148   ENSEBUG00000002277          39.2133           56.2575   \n",
       "343149   ENSPMAG00000000497          56.6434           70.3963   \n",
       "343150   ENSCING00000002486          25.1203           39.3648   \n",
       "343151  ENSCSAVG00000000992          48.4848           63.6364   \n",
       "343152          FBgn0031876          35.1124           53.3708   \n",
       "\n",
       "         target__protein_id          target__species  target__taxon_id  \\\n",
       "343148   ENSEBUP00000003097       eptatretus_burgeri              7764   \n",
       "343149   ENSPMAP00000000552       petromyzon_marinus              7757   \n",
       "343150   ENSCINP00000005056       ciona_intestinalis              7719   \n",
       "343151  ENSCSAVP00000001713           ciona_savignyi             51511   \n",
       "343152          FBpp0078990  drosophila_melanogaster              7227   \n",
       "\n",
       "       taxonomy_level              type  \n",
       "343148     Vertebrata  ortholog_one2one  \n",
       "343149     Vertebrata  ortholog_one2one  \n",
       "343150       Chordata  ortholog_one2one  \n",
       "343151       Chordata  ortholog_one2one  \n",
       "343152      Bilateria  ortholog_one2one  "
      ]
     },
     "execution_count": 40,
     "metadata": {},
     "output_type": "execute_result"
    }
   ],
   "source": [
    "tfs.tail()"
   ]
  },
  {
   "cell_type": "code",
   "execution_count": 41,
   "metadata": {},
   "outputs": [
    {
     "name": "stdout",
     "output_type": "stream",
     "text": [
      "(266814, 21)\n"
     ]
    },
    {
     "data": {
      "text/html": [
       "<div>\n",
       "<style scoped>\n",
       "    .dataframe tbody tr th:only-of-type {\n",
       "        vertical-align: middle;\n",
       "    }\n",
       "\n",
       "    .dataframe tbody tr th {\n",
       "        vertical-align: top;\n",
       "    }\n",
       "\n",
       "    .dataframe thead th {\n",
       "        text-align: right;\n",
       "    }\n",
       "</style>\n",
       "<table border=\"1\" class=\"dataframe\">\n",
       "  <thead>\n",
       "    <tr style=\"text-align: right;\">\n",
       "      <th></th>\n",
       "      <th>dn_ds</th>\n",
       "      <th>method_link_type</th>\n",
       "      <th>source__id</th>\n",
       "      <th>source__perc_id</th>\n",
       "      <th>source__perc_pos</th>\n",
       "      <th>source__protein_id</th>\n",
       "      <th>source__species</th>\n",
       "      <th>source__taxon_id</th>\n",
       "      <th>target__id</th>\n",
       "      <th>target__perc_id</th>\n",
       "      <th>...</th>\n",
       "      <th>target__protein_id</th>\n",
       "      <th>target__species</th>\n",
       "      <th>target__taxon_id</th>\n",
       "      <th>taxonomy_level</th>\n",
       "      <th>type</th>\n",
       "      <th>uniprot_id</th>\n",
       "      <th>id_type</th>\n",
       "      <th>db_id</th>\n",
       "      <th>species_id</th>\n",
       "      <th>taxa_id</th>\n",
       "    </tr>\n",
       "  </thead>\n",
       "  <tbody>\n",
       "    <tr>\n",
       "      <th>0</th>\n",
       "      <td>NaN</td>\n",
       "      <td>ENSEMBL_PARALOGUES</td>\n",
       "      <td>ENSG00000267179</td>\n",
       "      <td>24.8792</td>\n",
       "      <td>37.1981</td>\n",
       "      <td>ENSP00000467286</td>\n",
       "      <td>homo_sapiens</td>\n",
       "      <td>9606</td>\n",
       "      <td>ENSG00000175787</td>\n",
       "      <td>17.0813</td>\n",
       "      <td>...</td>\n",
       "      <td>ENSP00000378792</td>\n",
       "      <td>homo_sapiens</td>\n",
       "      <td>9606</td>\n",
       "      <td>Bilateria</td>\n",
       "      <td>other_paralog</td>\n",
       "      <td>Q7Z761</td>\n",
       "      <td>Ensembl</td>\n",
       "      <td>ENSG00000175787</td>\n",
       "      <td>UP000005640</td>\n",
       "      <td>UP000005640</td>\n",
       "    </tr>\n",
       "    <tr>\n",
       "      <th>1</th>\n",
       "      <td>NaN</td>\n",
       "      <td>ENSEMBL_PARALOGUES</td>\n",
       "      <td>ENSG00000267179</td>\n",
       "      <td>24.8792</td>\n",
       "      <td>37.1981</td>\n",
       "      <td>ENSP00000467286</td>\n",
       "      <td>homo_sapiens</td>\n",
       "      <td>9606</td>\n",
       "      <td>ENSG00000175787</td>\n",
       "      <td>17.0813</td>\n",
       "      <td>...</td>\n",
       "      <td>ENSP00000378792</td>\n",
       "      <td>homo_sapiens</td>\n",
       "      <td>9606</td>\n",
       "      <td>Bilateria</td>\n",
       "      <td>other_paralog</td>\n",
       "      <td>Q14929</td>\n",
       "      <td>Ensembl</td>\n",
       "      <td>ENSG00000175787</td>\n",
       "      <td>UP000005640</td>\n",
       "      <td>UP000005640</td>\n",
       "    </tr>\n",
       "    <tr>\n",
       "      <th>2</th>\n",
       "      <td>NaN</td>\n",
       "      <td>ENSEMBL_PARALOGUES</td>\n",
       "      <td>ENSG00000267179</td>\n",
       "      <td>24.8792</td>\n",
       "      <td>37.1981</td>\n",
       "      <td>ENSP00000467286</td>\n",
       "      <td>homo_sapiens</td>\n",
       "      <td>9606</td>\n",
       "      <td>ENSG00000175787</td>\n",
       "      <td>17.0813</td>\n",
       "      <td>...</td>\n",
       "      <td>ENSP00000378792</td>\n",
       "      <td>homo_sapiens</td>\n",
       "      <td>9606</td>\n",
       "      <td>Bilateria</td>\n",
       "      <td>other_paralog</td>\n",
       "      <td>Q5SR55</td>\n",
       "      <td>Ensembl</td>\n",
       "      <td>ENSG00000175787</td>\n",
       "      <td>UP000005640</td>\n",
       "      <td>UP000005640</td>\n",
       "    </tr>\n",
       "    <tr>\n",
       "      <th>3</th>\n",
       "      <td>NaN</td>\n",
       "      <td>ENSEMBL_PARALOGUES</td>\n",
       "      <td>ENSG00000267179</td>\n",
       "      <td>24.8792</td>\n",
       "      <td>37.1981</td>\n",
       "      <td>ENSP00000467286</td>\n",
       "      <td>homo_sapiens</td>\n",
       "      <td>9606</td>\n",
       "      <td>ENSG00000175787</td>\n",
       "      <td>17.0813</td>\n",
       "      <td>...</td>\n",
       "      <td>ENSP00000378792</td>\n",
       "      <td>homo_sapiens</td>\n",
       "      <td>9606</td>\n",
       "      <td>Bilateria</td>\n",
       "      <td>other_paralog</td>\n",
       "      <td>S4R440</td>\n",
       "      <td>Ensembl</td>\n",
       "      <td>ENSG00000175787</td>\n",
       "      <td>UP000005640</td>\n",
       "      <td>UP000005640</td>\n",
       "    </tr>\n",
       "    <tr>\n",
       "      <th>4</th>\n",
       "      <td>0.3791</td>\n",
       "      <td>ENSEMBL_PARALOGUES</td>\n",
       "      <td>ENSG00000181666</td>\n",
       "      <td>45.6753</td>\n",
       "      <td>57.5114</td>\n",
       "      <td>ENSP00000315505</td>\n",
       "      <td>homo_sapiens</td>\n",
       "      <td>9606</td>\n",
       "      <td>ENSG00000175787</td>\n",
       "      <td>49.9171</td>\n",
       "      <td>...</td>\n",
       "      <td>ENSP00000378792</td>\n",
       "      <td>homo_sapiens</td>\n",
       "      <td>9606</td>\n",
       "      <td>Bilateria</td>\n",
       "      <td>other_paralog</td>\n",
       "      <td>Q7Z761</td>\n",
       "      <td>Ensembl</td>\n",
       "      <td>ENSG00000175787</td>\n",
       "      <td>UP000005640</td>\n",
       "      <td>UP000005640</td>\n",
       "    </tr>\n",
       "  </tbody>\n",
       "</table>\n",
       "<p>5 rows × 21 columns</p>\n",
       "</div>"
      ],
      "text/plain": [
       "    dn_ds    method_link_type       source__id  source__perc_id  \\\n",
       "0     NaN  ENSEMBL_PARALOGUES  ENSG00000267179          24.8792   \n",
       "1     NaN  ENSEMBL_PARALOGUES  ENSG00000267179          24.8792   \n",
       "2     NaN  ENSEMBL_PARALOGUES  ENSG00000267179          24.8792   \n",
       "3     NaN  ENSEMBL_PARALOGUES  ENSG00000267179          24.8792   \n",
       "4  0.3791  ENSEMBL_PARALOGUES  ENSG00000181666          45.6753   \n",
       "\n",
       "   source__perc_pos source__protein_id source__species  source__taxon_id  \\\n",
       "0           37.1981    ENSP00000467286    homo_sapiens              9606   \n",
       "1           37.1981    ENSP00000467286    homo_sapiens              9606   \n",
       "2           37.1981    ENSP00000467286    homo_sapiens              9606   \n",
       "3           37.1981    ENSP00000467286    homo_sapiens              9606   \n",
       "4           57.5114    ENSP00000315505    homo_sapiens              9606   \n",
       "\n",
       "        target__id  target__perc_id  ...  target__protein_id target__species  \\\n",
       "0  ENSG00000175787          17.0813  ...     ENSP00000378792    homo_sapiens   \n",
       "1  ENSG00000175787          17.0813  ...     ENSP00000378792    homo_sapiens   \n",
       "2  ENSG00000175787          17.0813  ...     ENSP00000378792    homo_sapiens   \n",
       "3  ENSG00000175787          17.0813  ...     ENSP00000378792    homo_sapiens   \n",
       "4  ENSG00000175787          49.9171  ...     ENSP00000378792    homo_sapiens   \n",
       "\n",
       "  target__taxon_id  taxonomy_level           type uniprot_id  id_type  \\\n",
       "0             9606       Bilateria  other_paralog     Q7Z761  Ensembl   \n",
       "1             9606       Bilateria  other_paralog     Q14929  Ensembl   \n",
       "2             9606       Bilateria  other_paralog     Q5SR55  Ensembl   \n",
       "3             9606       Bilateria  other_paralog     S4R440  Ensembl   \n",
       "4             9606       Bilateria  other_paralog     Q7Z761  Ensembl   \n",
       "\n",
       "             db_id   species_id      taxa_id  \n",
       "0  ENSG00000175787  UP000005640  UP000005640  \n",
       "1  ENSG00000175787  UP000005640  UP000005640  \n",
       "2  ENSG00000175787  UP000005640  UP000005640  \n",
       "3  ENSG00000175787  UP000005640  UP000005640  \n",
       "4  ENSG00000175787  UP000005640  UP000005640  \n",
       "\n",
       "[5 rows x 21 columns]"
      ]
     },
     "execution_count": 41,
     "metadata": {},
     "output_type": "execute_result"
    }
   ],
   "source": [
    "tfs_uniprot = tfs.merge(id_mapping, left_on='target__id', right_on='db_id')\n",
    "print(tfs_uniprot.shape)\n",
    "tfs_uniprot.head()"
   ]
  },
  {
   "cell_type": "code",
   "execution_count": 42,
   "metadata": {},
   "outputs": [
    {
     "data": {
      "text/plain": [
       "34146"
      ]
     },
     "execution_count": 42,
     "metadata": {},
     "output_type": "execute_result"
    }
   ],
   "source": [
    "tfs_uniprot.uniprot_id.nunique()"
   ]
  },
  {
   "cell_type": "markdown",
   "metadata": {},
   "source": [
    "## Make set variable for quick membership evalution"
   ]
  },
  {
   "cell_type": "code",
   "execution_count": 58,
   "metadata": {},
   "outputs": [],
   "source": [
    "tf_orthologs = set(tfs_uniprot.uniprot_id)"
   ]
  },
  {
   "cell_type": "code",
   "execution_count": 59,
   "metadata": {},
   "outputs": [
    {
     "name": "stdout",
     "output_type": "stream",
     "text": [
      "45.3 ns ± 0.206 ns per loop (mean ± std. dev. of 7 runs, 10000000 loops each)\n"
     ]
    }
   ],
   "source": [
    "%timeit 'Q7Z761' in tf_orthologs"
   ]
  },
  {
   "cell_type": "code",
   "execution_count": 60,
   "metadata": {},
   "outputs": [
    {
     "name": "stdout",
     "output_type": "stream",
     "text": [
      "7.28 µs ± 135 ns per loop (mean ± std. dev. of 7 runs, 100000 loops each)\n"
     ]
    }
   ],
   "source": [
    "%timeit 'Q7Z761' in tfs_uniprot.uniprot_id"
   ]
  },
  {
   "cell_type": "markdown",
   "metadata": {},
   "source": [
    "# Read non-human proteins and subset if they are an ortholog of a TF"
   ]
  },
  {
   "cell_type": "markdown",
   "metadata": {},
   "source": [
    "## Make outdir"
   ]
  },
  {
   "cell_type": "code",
   "execution_count": 43,
   "metadata": {},
   "outputs": [
    {
     "name": "stdout",
     "output_type": "stream",
     "text": [
      "mkdir: cannot create directory ‘Eukaryota/not-human-transcription-factor-fastas/’: File exists\n"
     ]
    }
   ],
   "source": [
    "not_human_outdir = 'Eukaryota/not-human-transcription-factor-fastas/'\n",
    "! mkdir $not_human_outdir\n"
   ]
  },
  {
   "cell_type": "markdown",
   "metadata": {},
   "source": [
    "## How much compute is this?"
   ]
  },
  {
   "cell_type": "markdown",
   "metadata": {},
   "source": [
    "Number of human transcription factor proteins in the quest for orthologs database\n"
   ]
  },
  {
   "cell_type": "code",
   "execution_count": 55,
   "metadata": {},
   "outputs": [],
   "source": [
    "n_human_qfo_tfs = 5749"
   ]
  },
  {
   "cell_type": "code",
   "execution_count": 50,
   "metadata": {},
   "outputs": [
    {
     "data": {
      "text/plain": [
       "(48947, 21)"
      ]
     },
     "execution_count": 50,
     "metadata": {},
     "output_type": "execute_result"
    }
   ],
   "source": [
    "tfs_uniprot.query('target__species != \"homo_sapiens\"').shape"
   ]
  },
  {
   "cell_type": "code",
   "execution_count": 53,
   "metadata": {},
   "outputs": [],
   "source": [
    "n_not_human_qfo_tfs = 48947"
   ]
  },
  {
   "cell_type": "code",
   "execution_count": 57,
   "metadata": {},
   "outputs": [
    {
     "data": {
      "text/plain": [
       "46.89938383333333"
      ]
     },
     "execution_count": 57,
     "metadata": {},
     "output_type": "execute_result"
    }
   ],
   "source": [
    "n_human_qfo_tfs * n_not_human_qfo_tfs * 0.0006 / 60 / 60"
   ]
  },
  {
   "cell_type": "markdown",
   "metadata": {},
   "source": [
    "\n",
    "### Okay, 46 hours is reasonable!"
   ]
  },
  {
   "cell_type": "markdown",
   "metadata": {},
   "source": [
    "## Read in protein fastas with screed"
   ]
  },
  {
   "cell_type": "code",
   "execution_count": 61,
   "metadata": {},
   "outputs": [
    {
     "name": "stdout",
     "output_type": "stream",
     "text": [
      "Eukaryota/not-human-protein-fastas/UP000000437_7955_additional.fasta\n",
      "\tlen(tf_records): 1171\n",
      "Eukaryota/not-human-protein-fastas/UP000008143_8364.fasta\n",
      "\tlen(tf_records): 493\n",
      "Eukaryota/not-human-protein-fastas/UP000001038_8090.fasta\n",
      "\tlen(tf_records): 1263\n",
      "Eukaryota/not-human-protein-fastas/UP000002280_13616.fasta\n",
      "\tlen(tf_records): 1007\n",
      "Eukaryota/not-human-protein-fastas/UP000000539_9031_additional.fasta\n",
      "\tlen(tf_records): 640\n",
      "Eukaryota/not-human-protein-fastas/UP000000803_7227_additional.fasta\n",
      "\tlen(tf_records): 404\n",
      "Eukaryota/not-human-protein-fastas/UP000018468_7918.fasta\n",
      "\tlen(tf_records): 979\n",
      "Eukaryota/not-human-protein-fastas/UP000002254_9615.fasta\n",
      "\tlen(tf_records): 1231\n",
      "Eukaryota/not-human-protein-fastas/UP000001940_6239.fasta\n",
      "\tlen(tf_records): 544\n",
      "Eukaryota/not-human-protein-fastas/UP000000437_7955.fasta\n",
      "\tlen(tf_records): 1156\n",
      "Eukaryota/not-human-protein-fastas/UP000002311_559292.fasta\n",
      "\tlen(tf_records): 48\n",
      "Eukaryota/not-human-protein-fastas/UP000000589_10090.fasta\n",
      "\tlen(tf_records): 1241\n",
      "Eukaryota/not-human-protein-fastas/UP000002254_9615_additional.fasta\n",
      "\tlen(tf_records): 343\n",
      "Eukaryota/not-human-protein-fastas/UP000000803_7227.fasta\n",
      "\tlen(tf_records): 443\n",
      "Eukaryota/not-human-protein-fastas/UP000001519_9595_additional.fasta\n",
      "\tlen(tf_records): 1726\n",
      "Eukaryota/not-human-protein-fastas/UP000002494_10116.fasta\n",
      "\tlen(tf_records): 1145\n",
      "Eukaryota/not-human-protein-fastas/UP000018468_7918_additional.fasta\n",
      "\tlen(tf_records): 237\n",
      "Eukaryota/not-human-protein-fastas/UP000001519_9595.fasta\n",
      "\tlen(tf_records): 1506\n",
      "Eukaryota/not-human-protein-fastas/UP000008144_7719_additional.fasta\n",
      "\tlen(tf_records): 27\n",
      "Eukaryota/not-human-protein-fastas/UP000008143_8364_additional.fasta\n",
      "\tlen(tf_records): 172\n",
      "Eukaryota/not-human-protein-fastas/UP000001940_6239_additional.fasta\n",
      "\tlen(tf_records): 274\n",
      "Eukaryota/not-human-protein-fastas/UP000002280_13616_additional.fasta\n",
      "\tlen(tf_records): 51\n",
      "Eukaryota/not-human-protein-fastas/UP000000539_9031.fasta\n",
      "\tlen(tf_records): 980\n",
      "Eukaryota/not-human-protein-fastas/UP000000589_10090_additional.fasta\n",
      "\tlen(tf_records): 2342\n",
      "Eukaryota/not-human-protein-fastas/UP000009136_9913.fasta\n",
      "\tlen(tf_records): 1380\n",
      "Eukaryota/not-human-protein-fastas/UP000002277_9598.fasta\n",
      "\tlen(tf_records): 1589\n",
      "Eukaryota/not-human-protein-fastas/UP000008144_7719.fasta\n",
      "\tlen(tf_records): 391\n",
      "Eukaryota/not-human-protein-fastas/UP000001038_8090_additional.fasta\n",
      "\tlen(tf_records): 744\n",
      "Eukaryota/not-human-protein-fastas/UP000002494_10116_additional.fasta\n",
      "\tlen(tf_records): 516\n",
      "Eukaryota/not-human-protein-fastas/UP000002277_9598_additional.fasta\n",
      "\tlen(tf_records): 2003\n",
      "Eukaryota/not-human-protein-fastas/UP000009136_9913_additional.fasta\n",
      "\tlen(tf_records): 798\n"
     ]
    }
   ],
   "source": [
    "\n",
    "\n",
    "for filename in iglob('Eukaryota/not-human-protein-fastas/*.fasta'):\n",
    "    tf_records = []\n",
    "\n",
    "    basename = os.path.basename(filename)\n",
    "    with screed.open(filename) as records:\n",
    "        for record in records:\n",
    "            name = record['name']\n",
    "            record_id = name.split()[0]\n",
    "            uniprot_id = record_id.split('|')[1]\n",
    "            if uniprot_id in tf_orthologs:\n",
    "                tf_records.append(record)\n",
    "                \n",
    "    if len(tf_records) > 0:\n",
    "        print(filename)\n",
    "        print(f\"\\tlen(tf_records): {len(tf_records)}\")\n",
    "        with open(f'{not_human_outdir}/{basename}', 'w') as f:\n",
    "            for record in tf_records:\n",
    "                f.write(\">{name}\\n{sequence}\\n\".format(**record))\n"
   ]
  },
  {
   "cell_type": "code",
   "execution_count": 104,
   "metadata": {},
   "outputs": [
    {
     "data": {
      "text/plain": [
       "'H6QVH5'"
      ]
     },
     "execution_count": 104,
     "metadata": {},
     "output_type": "execute_result"
    }
   ],
   "source": [
    "uniprot_id"
   ]
  }
 ],
 "metadata": {
  "kernelspec": {
   "display_name": "Python [conda env:khtools--compare-kmers--encodings]",
   "language": "python",
   "name": "conda-env-khtools--compare-kmers--encodings-py"
  },
  "language_info": {
   "codemirror_mode": {
    "name": "ipython",
    "version": 3
   },
   "file_extension": ".py",
   "mimetype": "text/x-python",
   "name": "python",
   "nbconvert_exporter": "python",
   "pygments_lexer": "ipython3",
   "version": "3.8.0"
  }
 },
 "nbformat": 4,
 "nbformat_minor": 4
}
