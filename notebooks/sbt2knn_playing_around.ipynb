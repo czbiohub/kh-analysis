{
 "cells": [
  {
   "cell_type": "code",
   "execution_count": 2,
   "metadata": {},
   "outputs": [
    {
     "name": "stdout",
     "output_type": "stream",
     "text": [
      "/mnt/pureScratch/olga/olgabot-maca/facs\n"
     ]
    }
   ],
   "source": [
    "cd /home/olga/pureScratch/olgabot-maca/facs/"
   ]
  },
  {
   "cell_type": "code",
   "execution_count": 51,
   "metadata": {},
   "outputs": [
    {
     "name": "stdout",
     "output_type": "stream",
     "text": [
      "The autoreload extension is already loaded. To reload it, use:\n",
      "  %reload_ext autoreload\n"
     ]
    }
   ],
   "source": [
    "import copy\n",
    "import glob\n",
    "import itertools\n",
    "import math\n",
    "\n",
    "import dask.dataframe as dd\n",
    "import numpy as np\n",
    "import pandas as pd\n",
    "\n",
    "import khtools\n",
    "\n",
    "%load_ext autoreload\n",
    "%autoreload 2"
   ]
  },
  {
   "cell_type": "code",
   "execution_count": 195,
   "metadata": {},
   "outputs": [],
   "source": [
    "import seaborn as sns\n",
    "import matplotlib.pyplot as plt\n",
    "%matplotlib inline"
   ]
  },
  {
   "cell_type": "code",
   "execution_count": 180,
   "metadata": {},
   "outputs": [],
   "source": [
    "import numpy as np\n",
    "import scipy.sparse\n",
    "from umap.umap_ import (\n",
    "    smooth_knn_dist, \n",
    "    compute_membership_strengths, \n",
    "    make_epochs_per_sample, \n",
    "    optimize_layout,\n",
    "    find_ab_params\n",
    ")\n",
    "from sklearn.manifold import SpectralEmbedding\n",
    "from sklearn.utils import check_random_state, check_array\n",
    "from sklearn.metrics import pairwise_distances\n",
    "\n",
    "from umap.spectral import spectral_layout\n"
   ]
  },
  {
   "cell_type": "code",
   "execution_count": 4,
   "metadata": {},
   "outputs": [],
   "source": [
    "# Defaults from 'sourmash index'\n",
    "\n",
    "ksize = 21\n",
    "moltype = 'DNA'\n",
    "\n",
    "bf_size = 1e5\n",
    "n_children = 2\n",
    "scaled = False\n",
    "\n",
    "from sourmash import signature as sig\n",
    "from sourmash.sbt import Leaf\n",
    "from sourmash.sbtmh import SigLeaf, create_sbt_index\n",
    "from sourmash import sourmash_args\n",
    "from sourmash.logging import notify"
   ]
  },
  {
   "cell_type": "code",
   "execution_count": 5,
   "metadata": {},
   "outputs": [
    {
     "name": "stdout",
     "output_type": "stream",
     "text": [
      "len(signatures): 16\n"
     ]
    },
    {
     "name": "stderr",
     "output_type": "stream",
     "text": [
      "\u001b[Kloading /home/olga/pureScratch/olgabot-maca/facs/sourmash/A10-D043526-3_39_F-1-1_S189.sig\r"
     ]
    },
    {
     "name": "stdout",
     "output_type": "stream",
     "text": [
      "CPU times: user 424 ms, sys: 24 ms, total: 448 ms\n",
      "Wall time: 462 ms\n"
     ]
    },
    {
     "name": "stderr",
     "output_type": "stream",
     "text": [
      "\u001b[Kloading /home/olga/pureScratch/olgabot-maca/facs/sourmash/A10-D041911-3_8_M-1-1_S114.sigg\r"
     ]
    }
   ],
   "source": [
    "%%time\n",
    "\n",
    "tree = create_sbt_index(bf_size, n_children=n_children)\n",
    "\n",
    "folder = '/home/olga/pureScratch/olgabot-maca/facs/sourmash'\n",
    "\n",
    "signatures = glob.glob(f'{folder}/A10-D*')\n",
    "print(f\"len(signatures): {len(signatures)}\")\n",
    "\n",
    "inp_files = sourmash_args.traverse_find_sigs(signatures)\n",
    "\n",
    "n = 0\n",
    "ksizes = set()\n",
    "moltypes = set()\n",
    "nums = set()\n",
    "scaleds = set()\n",
    "\n",
    "for filename in inp_files:\n",
    "    notify('loading {}', filename, end='\\r')\n",
    "    siglist = sig.load_signatures(filename,\n",
    "                                 ksize=ksize,\n",
    "                                 select_moltype=moltype)\n",
    "    siglist = list(siglist)\n",
    "    if not siglist:\n",
    "        notify('\\nwarning: no signatures loaded at given ksize/molecule type from {}', filename)\n",
    "\n",
    "    # load all matching signatures in this file\n",
    "    ss = None\n",
    "    for ss in siglist:\n",
    "        ksizes.add(ss.minhash.ksize)\n",
    "        moltypes.add(sourmash_args.get_moltype(ss))\n",
    "        nums.add(ss.minhash.num)\n",
    "\n",
    "        if scaled:\n",
    "            ss.minhash = ss.minhash.downsample_scaled(args.scaled)\n",
    "        scaleds.add(ss.minhash.scaled)\n",
    "\n",
    "        leaf = SigLeaf(ss.md5sum(), ss)\n",
    "        tree.add_node(leaf)\n",
    "        n += 1\n",
    "\n",
    "    if not ss:\n",
    "        continue\n",
    "\n",
    "    # check to make sure we aren't loading incompatible signatures\n",
    "    if len(ksizes) > 1 or len(moltypes) > 1:\n",
    "        error('multiple k-mer sizes or molecule types present; fail.')\n",
    "        error('specify --dna/--protein and --ksize as necessary')\n",
    "        error('ksizes: {}; moltypes: {}',\n",
    "              \", \".join(map(str, ksizes)), \", \".join(moltypes))\n",
    "        sys.exit(-1)\n",
    "\n",
    "    if nums == { 0 } and len(scaleds) == 1:\n",
    "        pass # good\n",
    "    elif scaleds == { 0 } and len(nums) == 1:\n",
    "        pass # also good\n",
    "    else:\n",
    "        error('trying to build an SBT with incompatible signatures.')\n",
    "        error('nums = {}; scaleds = {}', repr(nums), repr(scaleds))\n",
    "        sys.exit(-1)"
   ]
  },
  {
   "cell_type": "code",
   "execution_count": 6,
   "metadata": {},
   "outputs": [],
   "source": [
    "# adjacencies = []\n",
    "\n",
    "# n_neighbors = 5\n",
    "\n",
    "# for i, leaf in zip(range(10), tree.leaves()):\n",
    "#     print(leaf)\n",
    "#     print(leaf.data)\n",
    "#     print()"
   ]
  },
  {
   "cell_type": "code",
   "execution_count": 7,
   "metadata": {},
   "outputs": [
    {
     "name": "stdout",
     "output_type": "stream",
     "text": [
      "CPU times: user 24 ms, sys: 0 ns, total: 24 ms\n",
      "Wall time: 22.9 ms\n"
     ]
    }
   ],
   "source": [
    "%%time\n",
    "\n",
    "adjacencies = []\n",
    "\n",
    "n_neighbors = 5\n",
    "\n",
    "n_parent_levels = math.ceil(math.log2(n_neighbors)) + 1\n",
    "n_parent_levels\n",
    "\n",
    "# initialize search queue with top node of tree\n",
    "matches = []\n",
    "visited, queue = set(), [0]\n",
    "\n",
    "ignore_abundance = False\n",
    "downsample = False\n",
    "\n",
    "def get_leaves_under(tree, node_position):\n",
    "    visited, queue = set(), [node_position]\n",
    "    leaves = []\n",
    "    \n",
    "    while queue:\n",
    "        position = queue.pop(0)\n",
    "        node = tree.nodes.get(position, None)\n",
    "        \n",
    "        if isinstance(node, Leaf):\n",
    "            leaves.append(node)\n",
    "        else:\n",
    "            queue.extend(c.pos for c in tree.children(position))\n",
    "    return leaves\n",
    "\n",
    "# while the queue is not empty, load each node and apply search\n",
    "# function.\n",
    "while queue:\n",
    "    position = queue.pop(0)\n",
    "    node = tree.nodes.get(position, None)\n",
    "    \n",
    "    # repair while searching.\n",
    "    if node is None:\n",
    "        print(\"repairing...\")\n",
    "        if position in tree.missing_nodes:\n",
    "            tree._rebuild_node(node)\n",
    "            node = tree.nodes[position]\n",
    "        else:\n",
    "            continue\n",
    "            \n",
    "    # if we have not visited this node before,\n",
    "    if position not in visited:\n",
    "        visited.add(position)\n",
    "        \n",
    "    # Add \n",
    "    if isinstance(node, Leaf):\n",
    "#         print(node.data)\n",
    "        n = 1\n",
    "        upper_internal_node = tree.parent(position)\n",
    "        while n < n_parent_levels:\n",
    "            upper_internal_node = tree.parent(upper_internal_node.pos)\n",
    "            n += 1\n",
    "#         print(\"upper_internal_node:\", upper_internal_node)\n",
    "        leaves = get_leaves_under(tree, upper_internal_node.pos)\n",
    "\n",
    "        \n",
    "        similarities = []\n",
    "        for leaf in leaves:\n",
    "            # Ignore self-simililarity\n",
    "            if leaf == node:\n",
    "                continue\n",
    "#             print(leaf.data)\n",
    "            similarity = node.data.similarity(leaf.data, \n",
    "                                              ignore_abundance=ignore_abundance, \n",
    "                                              downsample=downsample)\n",
    "            similarities.append([node.data.name(), leaf.data.name(), similarity])\n",
    "        adjacent = sorted(similarities, key=lambda x: x[1])[-n_neighbors:]\n",
    "#         print(adjacent)\n",
    "        adjacencies.extend(adjacent)\n",
    "            \n",
    "#         break\n",
    "        \n",
    "    else:\n",
    "        queue.extend(c.pos for c in tree.children(position))\n",
    "    \n",
    "#     print(node)\n",
    "#     print(node.data)\n",
    "#     print()\n",
    "    visited.add(node)"
   ]
  },
  {
   "cell_type": "code",
   "execution_count": 8,
   "metadata": {},
   "outputs": [
    {
     "data": {
      "text/plain": [
       "'db07058d8f0cab09d46f38904596e490'"
      ]
     },
     "execution_count": 8,
     "metadata": {},
     "output_type": "execute_result"
    }
   ],
   "source": [
    "leaf.metadata"
   ]
  },
  {
   "cell_type": "code",
   "execution_count": 9,
   "metadata": {},
   "outputs": [
    {
     "data": {
      "text/plain": [
       "80"
      ]
     },
     "execution_count": 9,
     "metadata": {},
     "output_type": "execute_result"
    }
   ],
   "source": [
    "len(adjacencies)"
   ]
  },
  {
   "cell_type": "code",
   "execution_count": 10,
   "metadata": {},
   "outputs": [
    {
     "data": {
      "text/plain": [
       "[['A10-D042044-3_9_M-1-1_S159', 'A10-D043522-3_39_F-1-1_S267', 0.028],\n",
       " ['A10-D042044-3_9_M-1-1_S159', 'A10-D043526-3_39_F-1-1_S189', 0.012],\n",
       " ['A10-D042044-3_9_M-1-1_S159', 'A10-D045064-3_38_F-1-1_S81', 0.044],\n",
       " ['A10-D042044-3_9_M-1-1_S159', 'A10-D045067-3_38_F-1-1_S257', 0.034],\n",
       " ['A10-D042044-3_9_M-1-1_S159', 'A10-D045140-3_38_F-1-1_S77', 0.038]]"
      ]
     },
     "execution_count": 10,
     "metadata": {},
     "output_type": "execute_result"
    }
   ],
   "source": [
    "adjacencies[:5]"
   ]
  },
  {
   "cell_type": "code",
   "execution_count": 11,
   "metadata": {},
   "outputs": [
    {
     "data": {
      "text/plain": [
       "[<sourmash.sbtmh.SigLeaf at 0x7f5a27a27048>,\n",
       " <sourmash.sbtmh.SigLeaf at 0x7f5a27a276a0>,\n",
       " <sourmash.sbtmh.SigLeaf at 0x7f5a27a27240>,\n",
       " <sourmash.sbtmh.SigLeaf at 0x7f5a27a27898>,\n",
       " <sourmash.sbtmh.SigLeaf at 0x7f5a27a27160>,\n",
       " <sourmash.sbtmh.SigLeaf at 0x7f5a27a277b8>,\n",
       " <sourmash.sbtmh.SigLeaf at 0x7f5a27a274e0>,\n",
       " <sourmash.sbtmh.SigLeaf at 0x7f5a27a27a20>,\n",
       " <sourmash.sbtmh.SigLeaf at 0x7f5a27a271d0>,\n",
       " <sourmash.sbtmh.SigLeaf at 0x7f5a27a27860>,\n",
       " <sourmash.sbtmh.SigLeaf at 0x7f5a27a27550>,\n",
       " <sourmash.sbtmh.SigLeaf at 0x7f5a27a272b0>,\n",
       " <sourmash.sbtmh.SigLeaf at 0x7f5a27a274a8>,\n",
       " <sourmash.sbtmh.SigLeaf at 0x7f5a27a27a90>,\n",
       " <sourmash.sbtmh.SigLeaf at 0x7f5a27a275f8>,\n",
       " <sourmash.sbtmh.SigLeaf at 0x7f5a27a27b38>]"
      ]
     },
     "execution_count": 11,
     "metadata": {},
     "output_type": "execute_result"
    }
   ],
   "source": [
    "leaves"
   ]
  },
  {
   "cell_type": "code",
   "execution_count": 12,
   "metadata": {},
   "outputs": [
    {
     "data": {
      "text/plain": [
       "[NodePos(pos=15, node=<sourmash.sbtmh.SigLeaf object at 0x7f5a27a27048>),\n",
       " NodePos(pos=16, node=<sourmash.sbtmh.SigLeaf object at 0x7f5a27a276a0>)]"
      ]
     },
     "execution_count": 12,
     "metadata": {},
     "output_type": "execute_result"
    }
   ],
   "source": [
    "tree.children(7)"
   ]
  },
  {
   "cell_type": "code",
   "execution_count": 13,
   "metadata": {},
   "outputs": [
    {
     "data": {
      "text/plain": [
       "62"
      ]
     },
     "execution_count": 13,
     "metadata": {},
     "output_type": "execute_result"
    }
   ],
   "source": [
    "len(visited)"
   ]
  },
  {
   "cell_type": "markdown",
   "metadata": {},
   "source": [
    "## Try on ALL signatures"
   ]
  },
  {
   "cell_type": "code",
   "execution_count": 14,
   "metadata": {},
   "outputs": [
    {
     "name": "stderr",
     "output_type": "stream",
     "text": [
      "\u001b[Kloading /home/olga/pureScratch/olgabot-maca/facs/sourmash/P9-MAA001873-3_38_F-1-1_S194.siggloading /home/olga/pureScratch/olgabot-maca/facs/sourmash/C17-MAA000596-3_9_M-1-1_S170.sigloading /home/olga/pureScratch/olgabot-maca/facs/sourmash/C18-B000166-3_56_F-1-1_S63.sigloading /home/olga/pureScratch/olgabot-maca/facs/sourmash/C6-MAA000901-3_10_M-1-1_S273.sigloading /home/olga/pureScratch/olgabot-maca/facs/sourmash/D1-B000825-3_38_F-1-1_S108.sigloading /home/olga/pureScratch/olgabot-maca/facs/sourmash/D1-MAA000388-3_11_M-1-1_S124.sigloading /home/olga/pureScratch/olgabot-maca/facs/sourmash/D10-B002775-3_39_F-1-1_S114.sigloading /home/olga/pureScratch/olgabot-maca/facs/sourmash/E12-MAA000924-3_8_M-1-1_S261.sigloading /home/olga/pureScratch/olgabot-maca/facs/sourmash/I19-D042474-3_8_M-1-1_S15.sig\r"
     ]
    },
    {
     "name": "stdout",
     "output_type": "stream",
     "text": [
      "CPU times: user 21min, sys: 12.3 s, total: 21min 13s\n",
      "Wall time: 21min 21s\n"
     ]
    },
    {
     "name": "stderr",
     "output_type": "stream",
     "text": [
      "\u001b[Kloading /home/olga/pureScratch/olgabot-maca/facs/sourmash/P9-MAA001869-3_38_F-1-1_S207.sig\r"
     ]
    }
   ],
   "source": [
    "%%time\n",
    "\n",
    "tree = create_sbt_index(bf_size, n_children=n_children)\n",
    "\n",
    "folder = '/home/olga/pureScratch/olgabot-maca/facs/sourmash'\n",
    "\n",
    "inp_files = sourmash_args.traverse_find_sigs([folder])\n",
    "\n",
    "n = 0\n",
    "ksizes = set()\n",
    "moltypes = set()\n",
    "nums = set()\n",
    "scaleds = set()\n",
    "\n",
    "for filename in inp_files:\n",
    "    notify('loading {}', filename, end='\\r')\n",
    "    siglist = sig.load_signatures(filename,\n",
    "                                 ksize=ksize,\n",
    "                                 select_moltype=moltype)\n",
    "    siglist = list(siglist)\n",
    "    if not siglist:\n",
    "        notify('\\nwarning: no signatures loaded at given ksize/molecule type from {}', filename)\n",
    "\n",
    "    # load all matching signatures in this file\n",
    "    ss = None\n",
    "    for ss in siglist:\n",
    "        ksizes.add(ss.minhash.ksize)\n",
    "        moltypes.add(sourmash_args.get_moltype(ss))\n",
    "        nums.add(ss.minhash.num)\n",
    "\n",
    "        if scaled:\n",
    "            ss.minhash = ss.minhash.downsample_scaled(args.scaled)\n",
    "        scaleds.add(ss.minhash.scaled)\n",
    "\n",
    "        leaf = SigLeaf(ss.md5sum(), ss)\n",
    "        tree.add_node(leaf)\n",
    "        n += 1\n",
    "\n",
    "    if not ss:\n",
    "        continue\n",
    "\n",
    "    # check to make sure we aren't loading incompatible signatures\n",
    "    if len(ksizes) > 1 or len(moltypes) > 1:\n",
    "        error('multiple k-mer sizes or molecule types present; fail.')\n",
    "        error('specify --dna/--protein and --ksize as necessary')\n",
    "        error('ksizes: {}; moltypes: {}',\n",
    "              \", \".join(map(str, ksizes)), \", \".join(moltypes))\n",
    "        sys.exit(-1)\n",
    "\n",
    "    if nums == { 0 } and len(scaleds) == 1:\n",
    "        pass # good\n",
    "    elif scaleds == { 0 } and len(nums) == 1:\n",
    "        pass # also good\n",
    "    else:\n",
    "        error('trying to build an SBT with incompatible signatures.')\n",
    "        error('nums = {}; scaleds = {}', repr(nums), repr(scaleds))\n",
    "        sys.exit(-1)"
   ]
  },
  {
   "cell_type": "code",
   "execution_count": 15,
   "metadata": {},
   "outputs": [],
   "source": [
    "# %%time\n",
    "\n",
    "# adjacencies = tree.nearest_neighbor_adjacencies(n_neighbors=5, ignore_abundance=False, \n",
    "#                                                 downsample=False)"
   ]
  },
  {
   "cell_type": "code",
   "execution_count": 15,
   "metadata": {},
   "outputs": [
    {
     "name": "stderr",
     "output_type": "stream",
     "text": [
      "\u001b[K100623 of 100623 nodes saved3465 of 100623 nodes saved37567 of 100623 nodes saved44595 of 100623 nodes saved93229 of 100623 nodes saved\n",
      "Finished saving nodes, now saving SBT json file.\n"
     ]
    },
    {
     "name": "stdout",
     "output_type": "stream",
     "text": [
      "CPU times: user 2min 33s, sys: 47.4 s, total: 3min 20s\n",
      "Wall time: 8min 1s\n"
     ]
    },
    {
     "data": {
      "text/plain": [
       "'/home/olga/pureScratch/olgabot-maca/facs/tabula-muris-k21.sbt.json'"
      ]
     },
     "execution_count": 15,
     "metadata": {},
     "output_type": "execute_result"
    }
   ],
   "source": [
    "%time tree.save(\"/home/olga/pureScratch/olgabot-maca/facs/tabula-muris-k21.sbt.json\")"
   ]
  },
  {
   "cell_type": "code",
   "execution_count": 18,
   "metadata": {},
   "outputs": [],
   "source": [
    "def get_leaves_under(tree, node_position):\n",
    "    visited, queue = set(), [node_position]\n",
    "    leaves = []\n",
    "    \n",
    "    while queue:\n",
    "        position = queue.pop(0)\n",
    "        node = tree.nodes.get(position, None)\n",
    "        \n",
    "        if isinstance(node, Leaf):\n",
    "            yield node\n",
    "        else:\n",
    "            queue.extend(c.pos for c in tree.children(position))\n",
    "#     return leaves"
   ]
  },
  {
   "cell_type": "code",
   "execution_count": 20,
   "metadata": {},
   "outputs": [
    {
     "data": {
      "text/plain": [
       "[<sourmash.sbtmh.SigLeaf at 0x7f5a16fe2a20>,\n",
       " <sourmash.sbtmh.SigLeaf at 0x7f5a133198d0>]"
      ]
     },
     "execution_count": 20,
     "metadata": {},
     "output_type": "execute_result"
    }
   ],
   "source": [
    "list(get_leaves_under(tree, 37482))"
   ]
  },
  {
   "cell_type": "code",
   "execution_count": 21,
   "metadata": {},
   "outputs": [
    {
     "name": "stdout",
     "output_type": "stream",
     "text": [
      "251560\n",
      "CPU times: user 3min 35s, sys: 700 ms, total: 3min 36s\n",
      "Wall time: 3min 36s\n"
     ]
    }
   ],
   "source": [
    "%%time\n",
    "\n",
    "# initialize search queue with top node of tree\n",
    "\n",
    "n_neighbors = 5\n",
    "adjacencies = []\n",
    "matches = []\n",
    "visited, queue = set(), [0]\n",
    "\n",
    "ignore_abundance = False\n",
    "downsample = False\n",
    "\n",
    "\n",
    "\n",
    "# while the queue is not empty, load each node and apply search\n",
    "# function.\n",
    "while queue:\n",
    "    position = queue.pop(0)\n",
    "    node = tree.nodes.get(position, None)\n",
    "    \n",
    "    # repair while searching.\n",
    "    if node is None:\n",
    "        print(\"repairing...\")\n",
    "        if position in tree.missing_nodes:\n",
    "            tree._rebuild_node(node)\n",
    "            node = tree.nodes[position]\n",
    "        else:\n",
    "            continue\n",
    "            \n",
    "    # if we have not visited this node before,\n",
    "    if position not in visited:\n",
    "        visited.add(position)\n",
    "        \n",
    "    # Add \n",
    "    if isinstance(node, Leaf):\n",
    "#         print(node.data)\n",
    "        n = 1\n",
    "        upper_internal_node = tree.parent(position)\n",
    "        while n < n_parent_levels:\n",
    "            upper_internal_node = tree.parent(upper_internal_node.pos)\n",
    "            n += 1\n",
    "#         print(\"upper_internal_node:\", upper_internal_node)\n",
    "        leaves = get_leaves_under(tree, upper_internal_node.pos)\n",
    "\n",
    "        \n",
    "        similarities = []\n",
    "        for leaf in leaves:\n",
    "            # Ignore self-simililarity\n",
    "            if leaf == node:\n",
    "                continue\n",
    "#             print(leaf.data)\n",
    "            similarity = node.data.similarity(leaf.data, \n",
    "                                              ignore_abundance=ignore_abundance, \n",
    "                                              downsample=downsample)\n",
    "            similarities.append([node.data.name(), leaf.data.name(), similarity])\n",
    "        adjacent = sorted(similarities, key=lambda x: x[1])[-n_neighbors:]\n",
    "#         print(adjacent)\n",
    "        adjacencies.extend(adjacent)\n",
    "            \n",
    "#         break\n",
    "        \n",
    "    else:\n",
    "        queue.extend(c.pos for c in tree.children(position))\n",
    "    \n",
    "#     print(node)\n",
    "#     print(node.data)\n",
    "#     print()\n",
    "    visited.add(node)\n",
    "\n",
    "print(len(adjacencies))"
   ]
  },
  {
   "cell_type": "code",
   "execution_count": 22,
   "metadata": {},
   "outputs": [
    {
     "data": {
      "text/plain": [
       "<sourmash.sbt.SBT at 0x7f5a27a1dc88>"
      ]
     },
     "execution_count": 22,
     "metadata": {},
     "output_type": "execute_result"
    }
   ],
   "source": [
    "tree"
   ]
  },
  {
   "cell_type": "code",
   "execution_count": 17,
   "metadata": {},
   "outputs": [],
   "source": [
    "import igraph as ig"
   ]
  },
  {
   "cell_type": "code",
   "execution_count": null,
   "metadata": {},
   "outputs": [
    {
     "ename": "TypeError",
     "evalue": "object of type 'SBT' has no len()",
     "output_type": "error",
     "traceback": [
      "\u001b[0;31m---------------------------------------------------------------------------\u001b[0m",
      "\u001b[0;31mTypeError\u001b[0m                                 Traceback (most recent call last)",
      "\u001b[0;32m<ipython-input-18-dc0343ec22f7>\u001b[0m in \u001b[0;36m<module>\u001b[0;34m()\u001b[0m\n\u001b[0;32m----> 1\u001b[0;31m \u001b[0mlen\u001b[0m\u001b[0;34m(\u001b[0m\u001b[0mtree\u001b[0m\u001b[0;34m)\u001b[0m\u001b[0;34m\u001b[0m\u001b[0;34m\u001b[0m\u001b[0m\n\u001b[0m",
      "\u001b[0;31mTypeError\u001b[0m: object of type 'SBT' has no len()"
     ]
    }
   ],
   "source": [
    "len(tree)"
   ]
  },
  {
   "cell_type": "code",
   "execution_count": 23,
   "metadata": {},
   "outputs": [
    {
     "data": {
      "text/plain": [
       "50312"
      ]
     },
     "execution_count": 23,
     "metadata": {},
     "output_type": "execute_result"
    }
   ],
   "source": [
    "n_leaves = sum(1 for _ in tree.leaves())\n",
    "n_leaves\n"
   ]
  },
  {
   "cell_type": "code",
   "execution_count": 36,
   "metadata": {},
   "outputs": [
    {
     "data": {
      "text/plain": [
       "[<sourmash.sbtmh.SigLeaf at 0x7f5a1c81e0f0>,\n",
       " <sourmash.sbtmh.SigLeaf at 0x7f5a1663eeb8>,\n",
       " <sourmash.sbtmh.SigLeaf at 0x7f5a1797ad68>,\n",
       " <sourmash.sbtmh.SigLeaf at 0x7f5a1663ef60>,\n",
       " <sourmash.sbtmh.SigLeaf at 0x7f5a1ca02c88>]"
      ]
     },
     "execution_count": 36,
     "metadata": {},
     "output_type": "execute_result"
    }
   ],
   "source": [
    "some_leaves = [leaf for i, leaf in zip(range(5), tree.leaves())]\n",
    "some_leaves"
   ]
  },
  {
   "cell_type": "code",
   "execution_count": 46,
   "metadata": {},
   "outputs": [
    {
     "data": {
      "text/plain": [
       "[2249771143781,\n",
       " 2621703702944,\n",
       " 6217159659085,\n",
       " 7215285795798,\n",
       " 7275716031337,\n",
       " 7354997587491,\n",
       " 11399066254007,\n",
       " 11897683056067,\n",
       " 12118298264911,\n",
       " 12127986550362,\n",
       " 12290763577842,\n",
       " 13679015317697,\n",
       " 13790781556633,\n",
       " 14818047434059,\n",
       " 15797567115788,\n",
       " 17454240377307,\n",
       " 18189175087332,\n",
       " 19634005123604,\n",
       " 21542058979523,\n",
       " 27308576674163]"
      ]
     },
     "execution_count": 46,
     "metadata": {},
     "output_type": "execute_result"
    }
   ],
   "source": [
    "\n",
    "\n",
    "first_sig = some_leaves[0].data\n",
    "first_sig\n",
    "\n",
    "merged_minhashes = copy.copy(first_sig.minhash)\n",
    "merged_minhashes.get_mins()[:20]"
   ]
  },
  {
   "cell_type": "code",
   "execution_count": 47,
   "metadata": {},
   "outputs": [
    {
     "data": {
      "text/plain": [
       "[2249771143781,\n",
       " 2621703702944,\n",
       " 6217159659085,\n",
       " 7215285795798,\n",
       " 7275716031337,\n",
       " 7354997587491,\n",
       " 11399066254007,\n",
       " 11897683056067,\n",
       " 12118298264911,\n",
       " 12127986550362,\n",
       " 12290763577842,\n",
       " 13679015317697,\n",
       " 13790781556633,\n",
       " 14818047434059,\n",
       " 15797567115788,\n",
       " 17454240377307,\n",
       " 18189175087332,\n",
       " 19634005123604,\n",
       " 21542058979523,\n",
       " 27308576674163,\n",
       " 28801856705165,\n",
       " 30216988107597,\n",
       " 31112141042562,\n",
       " 33678889547249,\n",
       " 34853597721456,\n",
       " 35534352513422,\n",
       " 38939650185958,\n",
       " 39578559175626,\n",
       " 39841139084330,\n",
       " 41317309188593,\n",
       " 41589955194654,\n",
       " 43019689891776,\n",
       " 43093935412418,\n",
       " 43336725764900,\n",
       " 44737091827026,\n",
       " 44820450634228,\n",
       " 48122353443502,\n",
       " 48293702610686,\n",
       " 48362485403673,\n",
       " 48496693091299,\n",
       " 49128052447956,\n",
       " 53145210376347,\n",
       " 54202915184647,\n",
       " 55366801957319,\n",
       " 57080164683612,\n",
       " 59784603567884,\n",
       " 59847110474853,\n",
       " 62466542748949,\n",
       " 65064249737039,\n",
       " 66324348597656,\n",
       " 68301692800304,\n",
       " 69808377506938,\n",
       " 70156332777316,\n",
       " 72403545397801,\n",
       " 73942036129041,\n",
       " 74166876646176,\n",
       " 76448607305191,\n",
       " 78456833730397,\n",
       " 80085241931896,\n",
       " 81537898419503,\n",
       " 83583089355905,\n",
       " 87126463535380,\n",
       " 91100768512342,\n",
       " 91102957679389,\n",
       " 91411007814088,\n",
       " 93964287891804,\n",
       " 96610784492445,\n",
       " 97495693819130,\n",
       " 97563585425066,\n",
       " 99854174852494,\n",
       " 104527502911073,\n",
       " 105767926807826,\n",
       " 106161771325782,\n",
       " 106456120626477,\n",
       " 108206530725039,\n",
       " 109239495168749,\n",
       " 110160410735245,\n",
       " 113000222478351,\n",
       " 116689598964848,\n",
       " 117665811363199,\n",
       " 118955293513980,\n",
       " 123246312366065,\n",
       " 123652932107292,\n",
       " 124798023433645,\n",
       " 124870548500829,\n",
       " 127986333015022,\n",
       " 128180320822098,\n",
       " 132242401057673,\n",
       " 133447189622886,\n",
       " 134305140712149,\n",
       " 138656587453238,\n",
       " 139053324178775,\n",
       " 139692291879505,\n",
       " 141010317952474,\n",
       " 141369120073439,\n",
       " 142071233064599,\n",
       " 148690876078453,\n",
       " 151724415184693,\n",
       " 152596638829890,\n",
       " 153150269051958,\n",
       " 153316845734435,\n",
       " 153503500808928,\n",
       " 155122653787150,\n",
       " 155152404107555,\n",
       " 157131476316683,\n",
       " 157297380901027,\n",
       " 159051891822305,\n",
       " 161548831574859,\n",
       " 162574919058276,\n",
       " 165164588571087,\n",
       " 168319195986652,\n",
       " 169128339537887,\n",
       " 170557510352472,\n",
       " 171794956858086,\n",
       " 173397708254405,\n",
       " 174818441068138,\n",
       " 175137422239281,\n",
       " 175352713736607,\n",
       " 176203334017059,\n",
       " 176980288668170,\n",
       " 177850862121895,\n",
       " 179306305462328,\n",
       " 181601307286625,\n",
       " 189614227524612,\n",
       " 190340227197609,\n",
       " 193390976510299,\n",
       " 193630665859051,\n",
       " 193725449231393,\n",
       " 194208566247211,\n",
       " 194400997219339,\n",
       " 196171653871393,\n",
       " 200006767634497,\n",
       " 202618132473126,\n",
       " 205472030623528,\n",
       " 207357855827652,\n",
       " 207898051503707,\n",
       " 208924162950863,\n",
       " 209278830234085,\n",
       " 209410885084946,\n",
       " 210759784426660,\n",
       " 211836355941956,\n",
       " 212371978120011,\n",
       " 216389305300874,\n",
       " 217410815923951,\n",
       " 218261276332641,\n",
       " 218421414000670,\n",
       " 218674254570242,\n",
       " 219499431020937,\n",
       " 222245670253394,\n",
       " 222310217606838,\n",
       " 222417922694446,\n",
       " 224136436801312,\n",
       " 226277314025518,\n",
       " 227179551372148,\n",
       " 228345388871041,\n",
       " 228632500257705,\n",
       " 228663329027148,\n",
       " 228966511993396,\n",
       " 229516234003907,\n",
       " 230098303335210,\n",
       " 232012424996931,\n",
       " 232264602168169,\n",
       " 232954700602844,\n",
       " 233999270489378,\n",
       " 235709363149145,\n",
       " 238696733153783,\n",
       " 240200632354566,\n",
       " 241241383360507,\n",
       " 242671633813377,\n",
       " 243103903211712,\n",
       " 243501569268167,\n",
       " 244165377146844,\n",
       " 244628525110555,\n",
       " 246237638614454,\n",
       " 246863653205067,\n",
       " 247850111516028,\n",
       " 249056511481093,\n",
       " 249398939780052,\n",
       " 250388006419264,\n",
       " 250876868464906,\n",
       " 251206943191853,\n",
       " 253537717079639,\n",
       " 253650647703466,\n",
       " 255038342950818,\n",
       " 255787248590003,\n",
       " 255970838624641,\n",
       " 256726347852232,\n",
       " 257735545150829,\n",
       " 258520950628714,\n",
       " 259398465761405,\n",
       " 259628832061529,\n",
       " 261433242471262,\n",
       " 261858301538592,\n",
       " 264247692743600,\n",
       " 266017832027059,\n",
       " 267815036420260,\n",
       " 269210044437692,\n",
       " 269401879153115,\n",
       " 271305217499992,\n",
       " 272098746291928,\n",
       " 273672423655310,\n",
       " 274479912858109,\n",
       " 275340479997523,\n",
       " 275551310008437,\n",
       " 276125484785832,\n",
       " 278312972395038,\n",
       " 279081595294430,\n",
       " 280325373049739,\n",
       " 280995391487464,\n",
       " 285089880484466,\n",
       " 285278695116635,\n",
       " 285683421914595,\n",
       " 285944842195243,\n",
       " 286099813230074,\n",
       " 287703438590473,\n",
       " 288040507873346,\n",
       " 289987818604847,\n",
       " 292006773021305,\n",
       " 292733985292533,\n",
       " 294947894559001,\n",
       " 295228517019125,\n",
       " 295973355368729,\n",
       " 296184668183255,\n",
       " 297555579801620,\n",
       " 300312761609599,\n",
       " 300543649530140,\n",
       " 303609729718698,\n",
       " 305554579847999,\n",
       " 305931108536442,\n",
       " 306265433071892,\n",
       " 306882542392201,\n",
       " 308240442413796,\n",
       " 308948802770036,\n",
       " 309800735117453,\n",
       " 310926268149537,\n",
       " 311491667712983,\n",
       " 312981749373651,\n",
       " 313083554299518,\n",
       " 313364357106326,\n",
       " 313563185808754,\n",
       " 316382804789437,\n",
       " 316417971875610,\n",
       " 317165805299608,\n",
       " 319845120111525,\n",
       " 321143540780314,\n",
       " 321797371588609,\n",
       " 322943395560534,\n",
       " 323490816949981,\n",
       " 323620577841188,\n",
       " 326537381023909,\n",
       " 327928397021956,\n",
       " 328093478215901,\n",
       " 330281134070642,\n",
       " 331792157531944,\n",
       " 336150298070740,\n",
       " 337046873922112,\n",
       " 337844073461628,\n",
       " 338009951074753,\n",
       " 338261391858057,\n",
       " 338894457439669,\n",
       " 339731647542726,\n",
       " 340019499197491,\n",
       " 342808850278307,\n",
       " 343492660092960,\n",
       " 345012764001596,\n",
       " 347665679662915,\n",
       " 349095295731725,\n",
       " 349777340847085,\n",
       " 353475777226276,\n",
       " 353682196229252,\n",
       " 355224320054862,\n",
       " 355267366339267,\n",
       " 357476988269480,\n",
       " 357986165333761,\n",
       " 358662576796260,\n",
       " 359087366861398,\n",
       " 359175431715220,\n",
       " 359265187777848,\n",
       " 362210107196017,\n",
       " 363017690906517,\n",
       " 366846985323414,\n",
       " 367187994109142,\n",
       " 368561788212518,\n",
       " 368775067102199,\n",
       " 369622138416413,\n",
       " 371987546933339,\n",
       " 372843857317083,\n",
       " 372997743648271,\n",
       " 373473792515182,\n",
       " 374705084160247,\n",
       " 374935330788251,\n",
       " 375413610486421,\n",
       " 382788447777179,\n",
       " 383270474506140,\n",
       " 383797679073964,\n",
       " 385019487666680,\n",
       " 386032348871888,\n",
       " 386610975104546,\n",
       " 387169055140448,\n",
       " 387221847816615,\n",
       " 387742342183805,\n",
       " 389016986970589,\n",
       " 390065361815395,\n",
       " 390334268961189,\n",
       " 391655951767787,\n",
       " 393172753779907,\n",
       " 396170058512162,\n",
       " 396258994956439,\n",
       " 396281062287859,\n",
       " 398901459347277,\n",
       " 399277421037994,\n",
       " 400897857535864,\n",
       " 401106476782183,\n",
       " 402292588971236,\n",
       " 402732441334933,\n",
       " 403475890002335,\n",
       " 403505379290486,\n",
       " 403560700765885,\n",
       " 403612690970790,\n",
       " 405150251629116,\n",
       " 405975274175658,\n",
       " 406044115811515,\n",
       " 406455973959921,\n",
       " 406971368014504,\n",
       " 407169078370622,\n",
       " 407410643708419,\n",
       " 407689999053567,\n",
       " 410283218785507,\n",
       " 412234738264308,\n",
       " 414348819756002,\n",
       " 417591487945454,\n",
       " 420660663610119,\n",
       " 427902299072926,\n",
       " 429619479441563,\n",
       " 430068796555508,\n",
       " 430070062330780,\n",
       " 430978461247677,\n",
       " 433188027613370,\n",
       " 433462780027371,\n",
       " 434455486618412,\n",
       " 435320226620881,\n",
       " 436669858506423,\n",
       " 438200170072904,\n",
       " 439174447279542,\n",
       " 441248810718722,\n",
       " 442623524679380,\n",
       " 442696625846107,\n",
       " 448785485233832,\n",
       " 451310669332387,\n",
       " 454591631253729,\n",
       " 455366354031476,\n",
       " 455973896246271,\n",
       " 456418897005367,\n",
       " 456781167825592,\n",
       " 457167897441864,\n",
       " 458847056208283,\n",
       " 459026669179385,\n",
       " 459535319581584,\n",
       " 459763683594051,\n",
       " 460402063454532,\n",
       " 463665277112131,\n",
       " 463943609531983,\n",
       " 464028388398125,\n",
       " 464480561505010,\n",
       " 464580714268350,\n",
       " 464821239289460,\n",
       " 465460371345659,\n",
       " 466936063801377,\n",
       " 468021132064648,\n",
       " 470147975455747,\n",
       " 470283742858073,\n",
       " 472189478257671,\n",
       " 472800217519099,\n",
       " 474576217163892,\n",
       " 474738531720546,\n",
       " 475333206439795,\n",
       " 476034139400922,\n",
       " 478363855985739,\n",
       " 479580398091640,\n",
       " 480561290066682,\n",
       " 480943153495631,\n",
       " 482236884186312,\n",
       " 488174222097894,\n",
       " 488177563704801,\n",
       " 488398264532622,\n",
       " 489176263251048,\n",
       " 489490945974501,\n",
       " 494326793649311,\n",
       " 495230130448061,\n",
       " 496705081934453,\n",
       " 496737973209004,\n",
       " 498249785851056,\n",
       " 499550493814360,\n",
       " 503606070104997,\n",
       " 504280974236840,\n",
       " 504424721622377,\n",
       " 513049510280006,\n",
       " 515077581802485,\n",
       " 515789432464650,\n",
       " 515937139170580,\n",
       " 517328804939394,\n",
       " 518028594669603,\n",
       " 522325834446674,\n",
       " 523862851971866,\n",
       " 524160187530968,\n",
       " 524317524379506,\n",
       " 526048028672669,\n",
       " 528244073720962,\n",
       " 528544251212603,\n",
       " 529164830175752,\n",
       " 535136995856521,\n",
       " 537831213553692,\n",
       " 539233315534198,\n",
       " 539505785214535,\n",
       " 540139343034703,\n",
       " 541398544669039,\n",
       " 544138927865888,\n",
       " 544606642127219,\n",
       " 545289133200232,\n",
       " 545351277471308,\n",
       " 545403519499517,\n",
       " 546810014633025,\n",
       " 549164327503037,\n",
       " 550378161734722,\n",
       " 550679252751048,\n",
       " 550680803298069,\n",
       " 550861162905201,\n",
       " 550916077569649,\n",
       " 555072142562254,\n",
       " 556277429659762,\n",
       " 556920985499635,\n",
       " 559766665440165,\n",
       " 562642161276092,\n",
       " 565295341317702,\n",
       " 566086960917503,\n",
       " 566171716236935,\n",
       " 569712784590809,\n",
       " 572229171998306,\n",
       " 573079568429745,\n",
       " 573999964629081,\n",
       " 576299809197398,\n",
       " 576326845883866,\n",
       " 578420463002424,\n",
       " 578493004399136,\n",
       " 579145086208022,\n",
       " 579324052862352,\n",
       " 579810298989810,\n",
       " 580344589966399,\n",
       " 580956182101449,\n",
       " 581669390169753,\n",
       " 583728522326927,\n",
       " 586776665300639,\n",
       " 587140963210395,\n",
       " 587160175345168,\n",
       " 587522836183862,\n",
       " 587744607594318,\n",
       " 593934081937070,\n",
       " 595355197612588,\n",
       " 595708168827982,\n",
       " 596080948234950,\n",
       " 597191632994754,\n",
       " 597474683024350,\n",
       " 597912751614669,\n",
       " 598226296608306,\n",
       " 601936594920986,\n",
       " 603119033208664,\n",
       " 604559296722233,\n",
       " 605188713649369,\n",
       " 606633220761042,\n",
       " 607148327975681,\n",
       " 607290508154283,\n",
       " 609228704462141,\n",
       " 609266201927094,\n",
       " 609667039150086,\n",
       " 611072711507896,\n",
       " 614301093437745,\n",
       " 616564791725765,\n",
       " 617894915126311,\n",
       " 619070450575056,\n",
       " 620427334613509,\n",
       " 622333098175613,\n",
       " 623957184188966,\n",
       " 625467205646117,\n",
       " 625945512071846,\n",
       " 626182408860881,\n",
       " 627244101759419,\n",
       " 627394289615715,\n",
       " 628025446783782,\n",
       " 632574541061348,\n",
       " 633326149028773,\n",
       " 633342914268091,\n",
       " 634695469252259,\n",
       " 635563321059591,\n",
       " 638523940493018,\n",
       " 639338132094512,\n",
       " 641112292741288,\n",
       " 644550886422901,\n",
       " 645420721937286,\n",
       " 645772939890269,\n",
       " 645782196252125]"
      ]
     },
     "execution_count": 47,
     "metadata": {},
     "output_type": "execute_result"
    }
   ],
   "source": [
    "first_sig.minhash.get_mins()"
   ]
  },
  {
   "cell_type": "code",
   "execution_count": 48,
   "metadata": {},
   "outputs": [
    {
     "name": "stdout",
     "output_type": "stream",
     "text": [
      "{'class': 'sourmash_signature', 'license': 'CC0', 'name': 'I15-B001750-3_38_F-1-1_S220', 'filename': '/arg/2/0'}\n",
      "{'class': 'sourmash_signature', 'license': 'CC0', 'name': 'D8-MAA000871-3_11_M-1-1_S63', 'filename': '/arg/2/0'}\n",
      "{'class': 'sourmash_signature', 'license': 'CC0', 'name': 'I15-MAA000586-3_8_M-1-1_S260', 'filename': '/arg/2/0'}\n",
      "{'class': 'sourmash_signature', 'license': 'CC0', 'name': 'B7-MAA001857-3_38_F-1-1_S124', 'filename': '/arg/2/0'}\n"
     ]
    },
    {
     "data": {
      "text/plain": [
       "[399010192761,\n",
       " 460428543499,\n",
       " 525389573953,\n",
       " 917081285437,\n",
       " 942274509825,\n",
       " 1206560165194,\n",
       " 1359790305377,\n",
       " 1892721786056,\n",
       " 1901786352660,\n",
       " 2249771143781,\n",
       " 2258354650640,\n",
       " 2389698629948,\n",
       " 2552942138180,\n",
       " 2621703702944,\n",
       " 3208195867768,\n",
       " 3435543109025,\n",
       " 3925863031538,\n",
       " 4014062012901,\n",
       " 4219114550640,\n",
       " 5002583233095]"
      ]
     },
     "execution_count": 48,
     "metadata": {},
     "output_type": "execute_result"
    }
   ],
   "source": [
    "for leaf in some_leaves[1:]:\n",
    "    print(leaf.data.d)\n",
    "    merged_minhashes = merged_minhashes.merge(leaf.data.minhash)\n",
    "merged_minhashes.get_mins()[:20]\n"
   ]
  },
  {
   "cell_type": "code",
   "execution_count": 49,
   "metadata": {},
   "outputs": [
    {
     "name": "stdout",
     "output_type": "stream",
     "text": [
      "0.218\n",
      "0.14\n",
      "0.152\n",
      "0.336\n",
      "0.288\n"
     ]
    }
   ],
   "source": [
    "for leaf in some_leaves:\n",
    "    print(leaf.data.minhash.jaccard(merged_minhashes))"
   ]
  },
  {
   "cell_type": "code",
   "execution_count": 54,
   "metadata": {},
   "outputs": [],
   "source": [
    "\n",
    "def get_leaves(tree):\n",
    "    for i, node in tree.nodes.items():\n",
    "        if isinstance(node, (Leaf, SigLeaf)):\n",
    "            yield i, node"
   ]
  },
  {
   "cell_type": "code",
   "execution_count": 66,
   "metadata": {},
   "outputs": [
    {
     "name": "stdout",
     "output_type": "stream",
     "text": [
      "knn_indices: [[50307, 50305, 50297, 50301, 50303], [50309, 50307, 50305, 50297, 50301], [50307, 50305, 50297, 50301, 50303], [50309, 50307, 50297, 50301, 50303], [50307, 50305, 50297, 50301, 50303], [50309, 50305, 50297, 50301, 50303], [50307, 50305, 50297, 50301, 50303], [50307, 50305, 50297, 50301, 50303], [50307, 50305, 50297, 50301, 50303], [50307, 50305, 50297, 50301, 50303]]\n",
      "knn_dists: [[0.9778139394407598, 0.5865537452356665, 0.5916232897670664, 0.98692031043282, 0.682226850530286], [0.5300652108409426, 0.9920402425804716, 0.6772386593777987, 0.660234167482528, 0.9887831152269003], [0.9781602437008845, 0.5478392578407241, 0.5322415135173466, 0.985198052660397, 0.6666717421966621], [0.6641045046439364, 0.9789997887267935, 0.4498235089138267, 0.9848128448550353, 0.6772386593777987], [0.9723907241140146, 0.7921952958910957, 0.7887829664318484, 0.9927943425894896, 0.8339212803609773], [0.9999661326169812, 0.9789997887267935, 0.9765970894122245, 0.9993956385880218, 0.9920402425804716], [0.971202502818202, 0.9872194558721272, 0.9943507081419497, 0.999447085711627, 0.9865978297683592], [0.9999661326169812, 0.6641045046439364, 0.6410900746504026, 0.9881750683404811, 0.5300652108409426], [0.9919337405130148, 0.4823480405742884, 0.41169403123366577, 0.9835492126780758, 0.6637059504705093], [0.9593906861217201, 0.6166316530834255, 0.5166653787957415, 0.9851138861829171, 0.7651702591206534]]\n"
     ]
    }
   ],
   "source": [
    "knn_indices = []\n",
    "knn_dists = []\n",
    "\n",
    "leaf_to_index = dict((node.data.name(), i) for (i, (position, node)) in enumerate(get_leaves(tree)))\n",
    "leaf_to_tree_position = dict((node.data.name(), position) for (i, (position, node)) in enumerate(get_leaves(tree)))\n",
    "\n",
    "index_to_leaf = dict(zip(leaf_to_index.values(), leaf_to_index.keys()))\n",
    "\n",
    "len(leaf_to_index)\n",
    "\n",
    "for u, items in itertools.groupby(adjacencies, key=lambda x: x[0]):\n",
    "    knn_indices_line = []\n",
    "    knn_dists_line = []\n",
    "    for u, v, similarity in items:\n",
    "        knn_indices_line.append(leaf_to_index[v])\n",
    "        knn_dists_line.append(1-similarity)\n",
    "    knn_indices.append(knn_indices_line)\n",
    "    knn_dists.append(knn_dists_line)\n",
    "print(f\"knn_indices: {knn_indices[-10:]}\")\n",
    "print(f\"knn_dists: {knn_dists[-10:]}\")\n",
    "knn_dists = np.array(knn_dists)\n",
    "knn_indices = np.array(knn_indices)"
   ]
  },
  {
   "cell_type": "code",
   "execution_count": 67,
   "metadata": {},
   "outputs": [
    {
     "data": {
      "text/plain": [
       "50312"
      ]
     },
     "execution_count": 67,
     "metadata": {},
     "output_type": "execute_result"
    }
   ],
   "source": [
    "leaf_to_index = dict((node.data.name(), i) for i, (position, node) in enumerate(get_leaves(tree)))\n",
    "leaf_to_position = dict((node.data.name(), position) for position, node in get_leaves(tree))\n",
    "index_to_leaf = dict(zip(leaf_to_index.values(), leaf_to_index.keys()))\n",
    "\n",
    "len(leaf_to_index)"
   ]
  },
  {
   "cell_type": "code",
   "execution_count": 69,
   "metadata": {},
   "outputs": [],
   "source": [
    "# Default in UMAP\n",
    "# https://github.com/lmcinnes/umap/blob/master///umap/umap_.py#L1246\n",
    "local_connectivity = 1\n",
    "set_op_mix_ratio = 1\n",
    "\n",
    "sigmas, rhos = smooth_knn_dist(\n",
    "        knn_dists, n_neighbors, local_connectivity=local_connectivity\n",
    "    )\n",
    "\n",
    "rows, cols, vals = compute_membership_strengths(\n",
    "        knn_indices, knn_dists, sigmas, rhos\n",
    "    )\n",
    "\n",
    "result = scipy.sparse.coo_matrix(\n",
    "        (vals, (rows, cols)), shape=(knn_dists.shape[0], knn_dists.shape[0])\n",
    "    )\n",
    "result.eliminate_zeros()\n",
    "\n",
    "transpose = result.transpose()\n",
    "\n",
    "prod_matrix = result.multiply(transpose)\n",
    "\n",
    "result = (\n",
    "    set_op_mix_ratio * (result + transpose - prod_matrix)\n",
    "    + (1.0 - set_op_mix_ratio) * prod_matrix\n",
    ")\n",
    "\n",
    "result.eliminate_zeros()\n",
    "\n",
    "\n",
    "graph_ = result"
   ]
  },
  {
   "cell_type": "code",
   "execution_count": 70,
   "metadata": {},
   "outputs": [
    {
     "data": {
      "text/plain": [
       "200"
      ]
     },
     "execution_count": 70,
     "metadata": {},
     "output_type": "execute_result"
    }
   ],
   "source": [
    "n_epochs = 0\n",
    "\n",
    "graph = graph_.tocoo()\n",
    "graph.sum_duplicates()\n",
    "n_vertices = graph.shape[1]\n",
    "\n",
    "if n_epochs <= 0:\n",
    "    # For smaller datasets we can use more epochs\n",
    "    if graph.shape[0] <= 10000:\n",
    "        n_epochs = 500\n",
    "    else:\n",
    "        n_epochs = 200\n",
    "n_epochs"
   ]
  },
  {
   "cell_type": "code",
   "execution_count": 71,
   "metadata": {},
   "outputs": [],
   "source": [
    "graph.data[graph.data < (graph.data.max() / float(n_epochs))] = 0.0\n",
    "graph.eliminate_zeros()"
   ]
  },
  {
   "cell_type": "code",
   "execution_count": 79,
   "metadata": {},
   "outputs": [],
   "source": [
    "n_connected_components, labels = scipy.sparse.csgraph.connected_components(graph)\n"
   ]
  },
  {
   "cell_type": "code",
   "execution_count": 80,
   "metadata": {},
   "outputs": [],
   "source": [
    "label = 0"
   ]
  },
  {
   "cell_type": "code",
   "execution_count": 81,
   "metadata": {},
   "outputs": [
    {
     "data": {
      "text/plain": [
       "(array([    0,     1,     2,     3,     4,     5,     6,     7, 50296,\n",
       "        50297, 50298, 50299, 50300, 50301, 50302, 50303, 50304, 50305,\n",
       "        50306, 50307, 50308, 50309, 50310, 50311]),)"
      ]
     },
     "execution_count": 81,
     "metadata": {},
     "output_type": "execute_result"
    }
   ],
   "source": [
    "np.where(labels == label)"
   ]
  },
  {
   "cell_type": "code",
   "execution_count": 82,
   "metadata": {},
   "outputs": [
    {
     "data": {
      "text/plain": [
       "[SourmashSignature('A8-B002777-3_39_F-1-1_S59', 9d6c2b92),\n",
       " SourmashSignature('I15-B001750-3_38_F-1-1_S220', df7bf31a),\n",
       " SourmashSignature('D8-MAA000871-3_11_M-1-1_S63', 53f3f179),\n",
       " SourmashSignature('I15-MAA000586-3_8_M-1-1_S260', 55afb5b1),\n",
       " SourmashSignature('B7-MAA001857-3_38_F-1-1_S124', 81541b5b),\n",
       " SourmashSignature('I15-MAA000590-3_9_M-1-1_S203', 87e31ca6),\n",
       " SourmashSignature('D9-B000826-3_39_F-1-1_S242', 134a7266),\n",
       " SourmashSignature('I15-MAA000439-3_10_M-1-1_S146', b3a05d47),\n",
       " SourmashSignature('A10-B000633-3_56_F-1-1_S275', f14a79c7),\n",
       " SourmashSignature('P9-MAA001889-3_38_F-1-1_S151', 5c441bc5),\n",
       " SourmashSignature('I15-MAA000435-3_10_M-1-1_S160', 33c15141),\n",
       " SourmashSignature('P9-MAA001872-3_39_F-1-1_S233', 47015ddb),\n",
       " SourmashSignature('D8-MAA001871-3_39_F-1-1_S291', dd6d13cb),\n",
       " SourmashSignature('P9-MAA001892-3_38_F-1-1_S225', 87d1ae1f),\n",
       " SourmashSignature('I15-B000826-3_39_F-1-1_S57', 94f4d56d),\n",
       " SourmashSignature('P9-MAA001894-3_39_F-1-1_S35', 357ae7f6),\n",
       " SourmashSignature('B7-MAA001845-3_39_F-1-1_S42', 444bcb95),\n",
       " SourmashSignature('P9-MAA001888-3_39_F-1-1_S244', 556334e2),\n",
       " SourmashSignature('I15-MAA000398-3_9_M-1-1_S16', bc9332e4),\n",
       " SourmashSignature('P9-MAA001884-3_38_F-1-1_S151', c64e2307),\n",
       " SourmashSignature('D8-MAA000903-3_11_M-1-1_S67', 229a13ac),\n",
       " SourmashSignature('P9-MAA001873-3_38_F-1-1_S194', 945ccd13),\n",
       " SourmashSignature('I15-MAA000554-3_8_M-1-1_S163', a10ef98f),\n",
       " SourmashSignature('P9-MAA001869-3_38_F-1-1_S207', e0133477)]"
      ]
     },
     "execution_count": 82,
     "metadata": {},
     "output_type": "execute_result"
    }
   ],
   "source": [
    "graph_indexes = np.where(labels == label)[0]\n",
    "signatures = [tree.nodes.get(leaf_to_position[index_to_leaf[i]]).data for i in graph_indexes]\n",
    "signatures"
   ]
  },
  {
   "cell_type": "code",
   "execution_count": 83,
   "metadata": {},
   "outputs": [
    {
     "data": {
      "text/plain": [
       "[SourmashSignature('A8-B002777-3_39_F-1-1_S59', 9d6c2b92),\n",
       " SourmashSignature('I15-B001750-3_38_F-1-1_S220', df7bf31a),\n",
       " SourmashSignature('D8-MAA000871-3_11_M-1-1_S63', 53f3f179),\n",
       " SourmashSignature('I15-MAA000586-3_8_M-1-1_S260', 55afb5b1),\n",
       " SourmashSignature('B7-MAA001857-3_38_F-1-1_S124', 81541b5b),\n",
       " SourmashSignature('I15-MAA000590-3_9_M-1-1_S203', 87e31ca6),\n",
       " SourmashSignature('D9-B000826-3_39_F-1-1_S242', 134a7266),\n",
       " SourmashSignature('I15-MAA000439-3_10_M-1-1_S146', b3a05d47),\n",
       " SourmashSignature('A10-B000633-3_56_F-1-1_S275', f14a79c7),\n",
       " SourmashSignature('P9-MAA001889-3_38_F-1-1_S151', 5c441bc5),\n",
       " SourmashSignature('I15-MAA000435-3_10_M-1-1_S160', 33c15141),\n",
       " SourmashSignature('P9-MAA001872-3_39_F-1-1_S233', 47015ddb),\n",
       " SourmashSignature('D8-MAA001871-3_39_F-1-1_S291', dd6d13cb),\n",
       " SourmashSignature('P9-MAA001892-3_38_F-1-1_S225', 87d1ae1f),\n",
       " SourmashSignature('I15-B000826-3_39_F-1-1_S57', 94f4d56d),\n",
       " SourmashSignature('P9-MAA001894-3_39_F-1-1_S35', 357ae7f6),\n",
       " SourmashSignature('B7-MAA001845-3_39_F-1-1_S42', 444bcb95),\n",
       " SourmashSignature('P9-MAA001888-3_39_F-1-1_S244', 556334e2),\n",
       " SourmashSignature('I15-MAA000398-3_9_M-1-1_S16', bc9332e4),\n",
       " SourmashSignature('P9-MAA001884-3_38_F-1-1_S151', c64e2307),\n",
       " SourmashSignature('D8-MAA000903-3_11_M-1-1_S67', 229a13ac),\n",
       " SourmashSignature('P9-MAA001873-3_38_F-1-1_S194', 945ccd13),\n",
       " SourmashSignature('I15-MAA000554-3_8_M-1-1_S163', a10ef98f),\n",
       " SourmashSignature('P9-MAA001869-3_38_F-1-1_S207', e0133477)]"
      ]
     },
     "execution_count": 83,
     "metadata": {},
     "output_type": "execute_result"
    }
   ],
   "source": [
    "signatures"
   ]
  },
  {
   "cell_type": "code",
   "execution_count": 128,
   "metadata": {},
   "outputs": [],
   "source": [
    "from sourmash import signature as sig"
   ]
  },
  {
   "cell_type": "code",
   "execution_count": 130,
   "metadata": {},
   "outputs": [
    {
     "name": "stdout",
     "output_type": "stream",
     "text": [
      "CPU times: user 820 ms, sys: 308 ms, total: 1.13 s\n",
      "Wall time: 1.28 s\n"
     ]
    }
   ],
   "source": [
    "%%time\n",
    "\n",
    "centroid_signatures = []\n",
    "\n",
    "for label in range(n_connected_components):\n",
    "    graph_indexes = np.where(labels == label)[0]\n",
    "    signatures = [tree.nodes.get(leaf_to_position[index_to_leaf[i]]).data for i in graph_indexes]\n",
    "    \n",
    "    first_sig = signatures[0]\n",
    "    merged_signatures = sig.SourmashSignature(first_sig.minhash, name=label)\n",
    "    for s in signatures[1:]:\n",
    "        merged_signatures.minhash = merged_signatures.minhash.merge(s.minhash)\n",
    "    centroid_signatures.append(merged_signatures)\n",
    "\n",
    "centroid_signatures"
   ]
  },
  {
   "cell_type": "code",
   "execution_count": 131,
   "metadata": {},
   "outputs": [
    {
     "data": {
      "text/plain": [
       "{'d': {'class': 'sourmash_signature', 'name': 3143, 'license': 'CC0'},\n",
       " 'minhash': <sourmash._minhash.MinHash at 0x7f5a1c82b918>}"
      ]
     },
     "execution_count": 131,
     "metadata": {},
     "output_type": "execute_result"
    }
   ],
   "source": [
    "merged_signatures.__dict__"
   ]
  },
  {
   "cell_type": "code",
   "execution_count": 132,
   "metadata": {},
   "outputs": [],
   "source": [
    "# sig = signatures[0]\n",
    "# sig"
   ]
  },
  {
   "cell_type": "code",
   "execution_count": 136,
   "metadata": {},
   "outputs": [
    {
     "data": {
      "text/plain": [
       "<method-wrapper '__iadd__' of sourmash._minhash.MinHash object at 0x7f5a01aab5d0>"
      ]
     },
     "execution_count": 136,
     "metadata": {},
     "output_type": "execute_result"
    }
   ],
   "source": [
    "s.minhash.merge"
   ]
  },
  {
   "cell_type": "code",
   "execution_count": 137,
   "metadata": {},
   "outputs": [
    {
     "data": {
      "text/plain": [
       "sourmash.signature.SourmashSignature"
      ]
     },
     "execution_count": 137,
     "metadata": {},
     "output_type": "execute_result"
    }
   ],
   "source": [
    "type(s)"
   ]
  },
  {
   "cell_type": "code",
   "execution_count": 138,
   "metadata": {},
   "outputs": [],
   "source": [
    "from sourmash.compare import compare_all_pairs"
   ]
  },
  {
   "cell_type": "code",
   "execution_count": 139,
   "metadata": {},
   "outputs": [],
   "source": [
    "# centroid_signatures"
   ]
  },
  {
   "cell_type": "code",
   "execution_count": 140,
   "metadata": {},
   "outputs": [
    {
     "data": {
      "text/plain": [
       "3144"
      ]
     },
     "execution_count": 140,
     "metadata": {},
     "output_type": "execute_result"
    }
   ],
   "source": [
    "len(centroid_signatures)"
   ]
  },
  {
   "cell_type": "code",
   "execution_count": 141,
   "metadata": {},
   "outputs": [
    {
     "name": "stdout",
     "output_type": "stream",
     "text": [
      "0 0\n",
      "\t 0.9999999685372574\n",
      "0 1\n",
      "\t 0.35567425370389527\n",
      "0 2\n",
      "\t 0.28088037096497787\n",
      "1 0\n",
      "\t 0.35567425370389527\n",
      "1 1\n",
      "\t 0.9999999290104784\n",
      "1 2\n",
      "\t 0.441256685128136\n",
      "2 0\n",
      "\t 0.28088037096497787\n",
      "2 1\n",
      "\t 0.441256685128136\n",
      "2 2\n",
      "\t 1.0\n"
     ]
    }
   ],
   "source": [
    "for i, sig1 in enumerate(centroid_signatures[:3]):\n",
    "    for j, sig2 in enumerate(centroid_signatures[:3]):\n",
    "        print(i, j)\n",
    "        print('\\t', sig1.minhash.similarity(sig2.minhash))"
   ]
  },
  {
   "cell_type": "code",
   "execution_count": 146,
   "metadata": {},
   "outputs": [
    {
     "name": "stdout",
     "output_type": "stream",
     "text": [
      "CPU times: user 1h 8min 9s, sys: 4min 44s, total: 1h 12min 54s\n",
      "Wall time: 1h 23min 7s\n"
     ]
    }
   ],
   "source": [
    "%time component_similarity_matrix = compare_all_pairs(centroid_signatures, ignore_abundance=ignore_abundance, n_jobs=32)"
   ]
  },
  {
   "cell_type": "code",
   "execution_count": 148,
   "metadata": {},
   "outputs": [
    {
     "data": {
      "text/plain": [
       "(3144, 3144)"
      ]
     },
     "execution_count": 148,
     "metadata": {},
     "output_type": "execute_result"
    }
   ],
   "source": [
    "component_similarity_matrix.shape"
   ]
  },
  {
   "cell_type": "code",
   "execution_count": 155,
   "metadata": {},
   "outputs": [
    {
     "name": "stdout",
     "output_type": "stream",
     "text": [
      "CPU times: user 0 ns, sys: 43min 54s, total: 43min 54s\n",
      "Wall time: 38 s\n"
     ]
    }
   ],
   "source": [
    "%%time\n",
    "\n",
    "component_embedding = SpectralEmbedding\n",
    "    n_components=2, affinity=\"precomputed\"\n",
    ").fit_transform(component_similarity_matrix)\n",
    "component_embedding /= component_embedding.max()"
   ]
  },
  {
   "cell_type": "markdown",
   "metadata": {},
   "source": [
    "## Convert component embedding to sample embedding"
   ]
  },
  {
   "cell_type": "code",
   "execution_count": 176,
   "metadata": {},
   "outputs": [
    {
     "ename": "IndexError",
     "evalue": "index 24 is out of bounds for axis 0 with size 24",
     "output_type": "error",
     "traceback": [
      "\u001b[0;31m---------------------------------------------------------------------------\u001b[0m",
      "\u001b[0;31mIndexError\u001b[0m                                Traceback (most recent call last)",
      "\u001b[0;32m<ipython-input-176-b6753113b9b6>\u001b[0m in \u001b[0;36m<module>\u001b[0;34m()\u001b[0m\n\u001b[1;32m     10\u001b[0m     \u001b[0mcomponent_graph\u001b[0m \u001b[0;34m=\u001b[0m \u001b[0mcomponent_graph\u001b[0m\u001b[0;34m[\u001b[0m\u001b[0;34m:\u001b[0m\u001b[0;34m,\u001b[0m \u001b[0mlabels\u001b[0m \u001b[0;34m==\u001b[0m \u001b[0mlabel\u001b[0m\u001b[0;34m]\u001b[0m\u001b[0;34m.\u001b[0m\u001b[0mtocoo\u001b[0m\u001b[0;34m(\u001b[0m\u001b[0;34m)\u001b[0m\u001b[0;34m\u001b[0m\u001b[0;34m\u001b[0m\u001b[0m\n\u001b[1;32m     11\u001b[0m \u001b[0;34m\u001b[0m\u001b[0m\n\u001b[0;32m---> 12\u001b[0;31m     \u001b[0mdistances\u001b[0m \u001b[0;34m=\u001b[0m \u001b[0mpairwise_distances\u001b[0m\u001b[0;34m(\u001b[0m\u001b[0;34m[\u001b[0m\u001b[0mmeta_embedding\u001b[0m\u001b[0;34m[\u001b[0m\u001b[0mlabel\u001b[0m\u001b[0;34m]\u001b[0m\u001b[0;34m]\u001b[0m\u001b[0;34m,\u001b[0m \u001b[0mmeta_embedding\u001b[0m\u001b[0;34m)\u001b[0m\u001b[0;34m\u001b[0m\u001b[0;34m\u001b[0m\u001b[0m\n\u001b[0m\u001b[1;32m     13\u001b[0m     \u001b[0mdata_range\u001b[0m \u001b[0;34m=\u001b[0m \u001b[0mdistances\u001b[0m\u001b[0;34m[\u001b[0m\u001b[0mdistances\u001b[0m \u001b[0;34m>\u001b[0m \u001b[0;36m0.0\u001b[0m\u001b[0;34m]\u001b[0m\u001b[0;34m.\u001b[0m\u001b[0mmin\u001b[0m\u001b[0;34m(\u001b[0m\u001b[0;34m)\u001b[0m \u001b[0;34m/\u001b[0m \u001b[0;36m2.0\u001b[0m\u001b[0;34m\u001b[0m\u001b[0;34m\u001b[0m\u001b[0m\n\u001b[1;32m     14\u001b[0m \u001b[0;34m\u001b[0m\u001b[0m\n",
      "\u001b[0;31mIndexError\u001b[0m: index 24 is out of bounds for axis 0 with size 24"
     ]
    }
   ],
   "source": [
    "meta_embedding = component_embedding\n",
    "\n",
    "component_labels = labels\n",
    "\n",
    "dim = 2\n",
    "result = np.empty((graph.shape[0], dim), dtype=np.float32)\n",
    "\n",
    "for label in range(n_connected_components):\n",
    "    component_graph = graph.tocsr()[labels == label, :].tocsc()\n",
    "    component_graph = component_graph[:, labels == label].tocoo()\n",
    "\n",
    "    distances = pairwise_distances([meta_embedding[label]], meta_embedding)\n",
    "    data_range = distances[distances > 0.0].min() / 2.0\n",
    "\n",
    "    if component_graph.shape[0] < 2 * dim:\n",
    "        result[component_labels == label] = (\n",
    "                random_state.uniform(\n",
    "                    low=-data_range,\n",
    "                    high=data_range,\n",
    "                    size=(component_graph.shape[0], dim),\n",
    "                )\n",
    "                + meta_embedding[label]\n",
    "        )\n",
    "        continue\n",
    "\n",
    "    diag_data = np.asarray(component_graph.sum(axis=0))\n",
    "    # standard Laplacian\n",
    "    # D = scipy.sparse.spdiags(diag_data, 0, graph.shape[0], graph.shape[0])\n",
    "    # L = D - graph\n",
    "    # Normalized Laplacian\n",
    "    I = scipy.sparse.identity(component_graph.shape[0], dtype=np.float64)\n",
    "    D = scipy.sparse.spdiags(\n",
    "        1.0 / np.sqrt(diag_data),\n",
    "        0,\n",
    "        component_graph.shape[0],\n",
    "        component_graph.shape[0],\n",
    "    )\n",
    "    L = I - D * component_graph * D\n",
    "\n",
    "    k = dim + 1\n",
    "    num_lanczos_vectors = max(2 * k + 1,\n",
    "                              int(np.sqrt(component_graph.shape[0])))\n",
    "    try:\n",
    "        eigenvalues, eigenvectors = scipy.sparse.linalg.eigsh(\n",
    "            L,\n",
    "            k,\n",
    "            which=\"SM\",\n",
    "            ncv=num_lanczos_vectors,\n",
    "            tol=1e-4,\n",
    "            v0=np.ones(L.shape[0]),\n",
    "            maxiter=graph.shape[0] * 5,\n",
    "        )\n",
    "        order = np.argsort(eigenvalues)[1:k]\n",
    "        component_embedding = eigenvectors[:, order]\n",
    "        expansion = data_range / np.max(np.abs(component_embedding))\n",
    "        component_embedding *= expansion\n",
    "        result[component_labels == label] = (\n",
    "                component_embedding + meta_embedding[label]\n",
    "        )\n",
    "    except scipy.sparse.linalg.ArpackError:\n",
    "        warn(\n",
    "            \"WARNING: spectral initialisation failed! The eigenvector \"\n",
    "            \"solver\\nfailed. This is likely due to too small an eigengap.\"\n",
    "            \" Consider\\nadding some noise or jitter to your data.\\n\\n\"\n",
    "            \"Falling back to random initialisation!\"\n",
    "        )\n",
    "        result[component_labels == label] = (\n",
    "                random_state.uniform(\n",
    "                    low=-data_range,\n",
    "                    high=data_range,\n",
    "                    size=(component_graph.shape[0], dim),\n",
    "                )\n",
    "                + meta_embedding[label]\n",
    "        )"
   ]
  },
  {
   "cell_type": "code",
   "execution_count": 169,
   "metadata": {},
   "outputs": [
    {
     "ename": "ValueError",
     "evalue": "operands could not be broadcast together with shapes (3144,2) (50312,2) ",
     "output_type": "error",
     "traceback": [
      "\u001b[0;31m---------------------------------------------------------------------------\u001b[0m",
      "\u001b[0;31mValueError\u001b[0m                                Traceback (most recent call last)",
      "\u001b[0;32m<ipython-input-169-6d1cf3b31d21>\u001b[0m in \u001b[0;36m<module>\u001b[0;34m()\u001b[0m\n\u001b[1;32m      5\u001b[0m     \u001b[0mscale\u001b[0m\u001b[0;34m=\u001b[0m\u001b[0;36m0.0001\u001b[0m\u001b[0;34m,\u001b[0m \u001b[0msize\u001b[0m\u001b[0;34m=\u001b[0m\u001b[0;34m[\u001b[0m\u001b[0mgraph\u001b[0m\u001b[0;34m.\u001b[0m\u001b[0mshape\u001b[0m\u001b[0;34m[\u001b[0m\u001b[0;36m0\u001b[0m\u001b[0;34m]\u001b[0m\u001b[0;34m,\u001b[0m \u001b[0;36m2\u001b[0m\u001b[0;34m]\u001b[0m\u001b[0;34m\u001b[0m\u001b[0;34m\u001b[0m\u001b[0m\n\u001b[1;32m      6\u001b[0m \u001b[0;34m)\u001b[0m\u001b[0;34m.\u001b[0m\u001b[0mastype\u001b[0m\u001b[0;34m(\u001b[0m\u001b[0;34m\u001b[0m\u001b[0;34m\u001b[0m\u001b[0m\n\u001b[0;32m----> 7\u001b[0;31m     \u001b[0mnp\u001b[0m\u001b[0;34m.\u001b[0m\u001b[0mfloat32\u001b[0m\u001b[0;34m\u001b[0m\u001b[0;34m\u001b[0m\u001b[0m\n\u001b[0m\u001b[1;32m      8\u001b[0m )\n",
      "\u001b[0;31mValueError\u001b[0m: operands could not be broadcast together with shapes (3144,2) (50312,2) "
     ]
    }
   ],
   "source": [
    "expansion = 10.0 / np.abs(component_embedding).max()\n",
    "spectral_embedding = (component_embedding * expansion).astype(\n",
    "    np.float32\n",
    ") + random_state.normal(\n",
    "    scale=0.0001, size=[graph.shape[0], 2]\n",
    ").astype(\n",
    "    np.float32\n",
    ")"
   ]
  },
  {
   "cell_type": "code",
   "execution_count": null,
   "metadata": {},
   "outputs": [],
   "source": []
  },
  {
   "cell_type": "code",
   "execution_count": 166,
   "metadata": {},
   "outputs": [
    {
     "ename": "NameError",
     "evalue": "name 'spectral_embedding' is not defined",
     "output_type": "error",
     "traceback": [
      "\u001b[0;31m---------------------------------------------------------------------------\u001b[0m",
      "\u001b[0;31mNameError\u001b[0m                                 Traceback (most recent call last)",
      "\u001b[0;32m<ipython-input-166-70aed7d1ccca>\u001b[0m in \u001b[0;36m<module>\u001b[0;34m()\u001b[0m\n\u001b[0;32m----> 1\u001b[0;31m \u001b[0mspectral_embedding\u001b[0m\u001b[0;34m.\u001b[0m\u001b[0mshape\u001b[0m\u001b[0;34m\u001b[0m\u001b[0;34m\u001b[0m\u001b[0m\n\u001b[0m",
      "\u001b[0;31mNameError\u001b[0m: name 'spectral_embedding' is not defined"
     ]
    }
   ],
   "source": [
    "spectral_embedding.shape"
   ]
  },
  {
   "cell_type": "markdown",
   "metadata": {},
   "source": [
    "### Optimize embedding"
   ]
  },
  {
   "cell_type": "code",
   "execution_count": 181,
   "metadata": {},
   "outputs": [],
   "source": [
    "a, b = find_ab_params(1, 0)\n"
   ]
  },
  {
   "cell_type": "code",
   "execution_count": 177,
   "metadata": {},
   "outputs": [
    {
     "ename": "NameError",
     "evalue": "name 'a' is not defined",
     "output_type": "error",
     "traceback": [
      "\u001b[0;31m---------------------------------------------------------------------------\u001b[0m",
      "\u001b[0;31mNameError\u001b[0m                                 Traceback (most recent call last)",
      "\u001b[0;32m<timed exec>\u001b[0m in \u001b[0;36m<module>\u001b[0;34m()\u001b[0m\n",
      "\u001b[0;31mNameError\u001b[0m: name 'a' is not defined"
     ]
    }
   ],
   "source": [
    "%%time\n",
    "\n",
    "\n",
    "epochs_per_sample = make_epochs_per_sample(graph.data, n_epochs)\n",
    "\n",
    "head = graph.row\n",
    "tail = graph.col\n",
    "\n",
    "random_embedding_optimized = optimize_layout(\n",
    "        random_embedding,\n",
    "        random_embedding,\n",
    "        head,\n",
    "        tail,\n",
    "        n_epochs,\n",
    "        n_vertices,\n",
    "        epochs_per_sample,\n",
    "        a,\n",
    "        b,\n",
    "        rng_state,\n",
    "        gamma,\n",
    "        initial_alpha,\n",
    "        negative_sample_rate,\n",
    "        verbose=verbose,\n",
    "    )"
   ]
  },
  {
   "cell_type": "markdown",
   "metadata": {},
   "source": [
    "## Do random embedding"
   ]
  },
  {
   "cell_type": "code",
   "execution_count": 191,
   "metadata": {},
   "outputs": [],
   "source": [
    "random_state = check_random_state(0)\n",
    "\n",
    "random_embedding = random_state.uniform(\n",
    "            low=-10.0, high=10.0, size=(graph.shape[0], dim)\n",
    "        ).astype(np.float32)"
   ]
  },
  {
   "cell_type": "code",
   "execution_count": 192,
   "metadata": {},
   "outputs": [
    {
     "name": "stdout",
     "output_type": "stream",
     "text": [
      "\tcompleted  0  /  200 epochs\n",
      "\tcompleted  20  /  200 epochs\n",
      "\tcompleted  40  /  200 epochs\n",
      "\tcompleted  60  /  200 epochs\n",
      "\tcompleted  80  /  200 epochs\n",
      "\tcompleted  100  /  200 epochs\n",
      "\tcompleted  120  /  200 epochs\n",
      "\tcompleted  140  /  200 epochs\n",
      "\tcompleted  160  /  200 epochs\n",
      "\tcompleted  180  /  200 epochs\n",
      "CPU times: user 14.9 s, sys: 0 ns, total: 14.9 s\n",
      "Wall time: 14.7 s\n"
     ]
    }
   ],
   "source": [
    "%%time\n",
    "\n",
    "INT32_MIN = np.iinfo(np.int32).min + 1\n",
    "INT32_MAX = np.iinfo(np.int32).max - 1\n",
    "\n",
    "rng_state = random_state.randint(INT32_MIN, INT32_MAX, 3).astype(np.int64)\n",
    "gamma = 1.0\n",
    "initial_alpha = 1.0\n",
    "negative_sample_rate = 0.5\n",
    "verbose = True\n",
    "epochs_per_sample = make_epochs_per_sample(graph.data, n_epochs)\n",
    "\n",
    "head = graph.row\n",
    "tail = graph.col\n",
    "\n",
    "random_embedding_optimized = optimize_layout(\n",
    "        random_embedding,\n",
    "        random_embedding,\n",
    "        head,\n",
    "        tail,\n",
    "        n_epochs,\n",
    "        n_vertices,\n",
    "        epochs_per_sample,\n",
    "        a,\n",
    "        b,\n",
    "        rng_state,\n",
    "        gamma,\n",
    "        initial_alpha,\n",
    "        negative_sample_rate,\n",
    "        verbose=verbose,\n",
    "    )"
   ]
  },
  {
   "cell_type": "code",
   "execution_count": 193,
   "metadata": {},
   "outputs": [
    {
     "data": {
      "text/plain": [
       "array([[ 3.2981803 , -0.92651725],\n",
       "       [ 3.2982755 , -0.92638385],\n",
       "       [ 3.2983341 , -0.92664   ],\n",
       "       ...,\n",
       "       [ 3.298633  , -0.9267428 ],\n",
       "       [ 3.298915  , -0.92685866],\n",
       "       [ 3.2990875 , -0.92698616]], dtype=float32)"
      ]
     },
     "execution_count": 193,
     "metadata": {},
     "output_type": "execute_result"
    }
   ],
   "source": [
    "random_embedding_optimized"
   ]
  },
  {
   "cell_type": "code",
   "execution_count": 194,
   "metadata": {},
   "outputs": [
    {
     "data": {
      "text/plain": [
       "(50312, 2)"
      ]
     },
     "execution_count": 194,
     "metadata": {},
     "output_type": "execute_result"
    }
   ],
   "source": [
    "random_embedding_optimized.shape"
   ]
  },
  {
   "cell_type": "code",
   "execution_count": 197,
   "metadata": {},
   "outputs": [
    {
     "data": {
      "text/plain": [
       "<matplotlib.axes._subplots.AxesSubplot at 0x7f572e509080>"
      ]
     },
     "execution_count": 197,
     "metadata": {},
     "output_type": "execute_result"
    },
    {
     "data": {
      "image/png": "[encoded data removed]",
      "text/plain": [
       "<Figure size 432x288 with 1 Axes>"
      ]
     },
     "metadata": {
      "needs_background": "light"
     },
     "output_type": "display_data"
    }
   ],
   "source": [
    "fig, ax = plt.subplots(figsize=(6, 4))\n",
    "\n",
    "x = random_embedding_optimized[:, 0]\n",
    "y = random_embedding_optimized[:, 1]\n",
    "sns.scatterplot(x, y)"
   ]
  },
  {
   "cell_type": "code",
   "execution_count": 160,
   "metadata": {},
   "outputs": [
    {
     "data": {
      "text/plain": [
       "1.0"
      ]
     },
     "execution_count": 160,
     "metadata": {},
     "output_type": "execute_result"
    }
   ],
   "source": [
    "first_sig.minhash.jaccard(merged_minhashes)"
   ]
  },
  {
   "cell_type": "code",
   "execution_count": null,
   "metadata": {},
   "outputs": [],
   "source": [
    "g = ig.Graph(directed=True)\n",
    "g.add_vertices([u for (u, v, weight) in adjacencies])  # this adds n_leaves vertices\n",
    "g.add_edges([(u, v) for (u, v, weight) in adjacencies])\n",
    "g.es['weight'] = [weight for (u, v, weight) in adjacencies]"
   ]
  },
  {
   "cell_type": "code",
   "execution_count": null,
   "metadata": {},
   "outputs": [],
   "source": [
    "g"
   ]
  },
  {
   "cell_type": "code",
   "execution_count": null,
   "metadata": {},
   "outputs": [],
   "source": [
    "layout = g.layout_fruchterman_reingold()"
   ]
  },
  {
   "cell_type": "code",
   "execution_count": 1,
   "metadata": {},
   "outputs": [
    {
     "ename": "NameError",
     "evalue": "name 'layout' is not defined",
     "output_type": "error",
     "traceback": [
      "\u001b[0;31m---------------------------------------------------------------------------\u001b[0m",
      "\u001b[0;31mNameError\u001b[0m                                 Traceback (most recent call last)",
      "\u001b[0;32m<ipython-input-1-48ea3c54d1a1>\u001b[0m in \u001b[0;36m<module>\u001b[0;34m()\u001b[0m\n\u001b[0;32m----> 1\u001b[0;31m \u001b[0mlayout\u001b[0m\u001b[0;34m\u001b[0m\u001b[0;34m\u001b[0m\u001b[0m\n\u001b[0m",
      "\u001b[0;31mNameError\u001b[0m: name 'layout' is not defined"
     ]
    }
   ],
   "source": [
    "layout"
   ]
  },
  {
   "cell_type": "markdown",
   "metadata": {},
   "source": [
    "### Do Leiden clustering"
   ]
  },
  {
   "cell_type": "code",
   "execution_count": null,
   "metadata": {},
   "outputs": [],
   "source": [
    "partition leidenalg.find_partition(g, partition_type, **partition_kwargs)\n",
    "# store output into adata.obs\n",
    "groups = np.array(part.membership)"
   ]
  }
 ],
 "metadata": {
  "history": [],
  "kernelspec": {
   "display_name": "Python [conda env:kmer-hashing]",
   "language": "python",
   "name": "conda-env-kmer-hashing-py"
  },
  "language_info": {
   "codemirror_mode": {
    "name": "ipython",
    "version": 3
   },
   "file_extension": ".py",
   "mimetype": "text/x-python",
   "name": "python",
   "nbconvert_exporter": "python",
   "pygments_lexer": "ipython3",
   "version": "3.6.8"
  },
  "uuid": "3416330a-8456-44cd-bf3b-ace4daa5da05"
 },
 "nbformat": 4,
 "nbformat_minor": 4
}
