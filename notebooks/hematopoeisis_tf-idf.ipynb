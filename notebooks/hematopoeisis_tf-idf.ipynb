{
 "cells": [
  {
   "cell_type": "markdown",
   "metadata": {},
   "source": [
    "## Copy molecule=protein, ksize=21, log2sketchsize=12 data to here"
   ]
  },
  {
   "cell_type": "code",
   "execution_count": 3,
   "metadata": {},
   "outputs": [
    {
     "name": "stdout",
     "output_type": "stream",
     "text": [
      "                           PRE molecule-protein_ksize-12_log2sketchsize-10/\r\n",
      "                           PRE molecule-protein_ksize-12_log2sketchsize-12/\r\n",
      "                           PRE molecule-protein_ksize-12_log2sketchsize-14/\r\n",
      "                           PRE molecule-protein_ksize-12_log2sketchsize-16/\r\n"
     ]
    }
   ],
   "source": [
    "! aws s3 ls s3://kmer-hashing/hematopoeisis/human_mouse_zebrafish/sketches/ | tail"
   ]
  },
  {
   "cell_type": "code",
   "execution_count": 5,
   "metadata": {},
   "outputs": [],
   "source": [
    "suffix = 'kmer-hashing/hematopoeisis/human_mouse_zebrafish/sketches/molecule-protein_ksize-12_log2sketchsize-16/'"
   ]
  },
  {
   "cell_type": "code",
   "execution_count": 6,
   "metadata": {},
   "outputs": [
    {
     "name": "stdout",
     "output_type": "stream",
     "text": [
      "2019-04-10 11:24:50    1297332 A1-B001717-3_38_F-1-1.sig\r\n",
      "2019-04-10 11:24:50    1297632 A10-B002775-3_39_F-1-1.sig\r\n",
      "2019-04-10 11:24:50    1298050 A10-MAA000752-3_10_M-1-1.sig\r\n",
      "2019-04-10 11:24:50    1297936 A11-MAA000801-3_11_M-1-1.sig\r\n",
      "2019-04-10 11:24:51    1297273 A12-B001717-3_38_F-1-1.sig\r\n",
      "2019-04-10 11:24:50    1297755 A12-MAA000801-3_11_M-1-1.sig\r\n",
      "2019-04-10 11:24:50    1298199 A12-MAA000922-3_9_M-1-1.sig\r\n",
      "2019-04-10 11:24:50    1297379 A13-B001717-3_38_F-1-1.sig\r\n",
      "2019-04-10 11:24:50    1298765 A13-MAA000545-3_8_M-1-1.sig\r\n",
      "2019-04-10 11:24:51    1297956 A14-B001717-3_38_F-1-1.sig\r\n",
      "\r\n",
      "[Errno 32] Broken pipe\r\n",
      "Exception ignored in: <_io.TextIOWrapper name='<stdout>' mode='w' encoding='UTF-8'>\r\n",
      "BrokenPipeError: [Errno 32] Broken pipe\r\n"
     ]
    }
   ],
   "source": [
    "! aws s3 ls s3://$suffix | head"
   ]
  },
  {
   "cell_type": "code",
   "execution_count": null,
   "metadata": {},
   "outputs": [],
   "source": [
    "! aws s3 sync s3://$suffix ~/data/$suffix"
   ]
  }
 ],
 "metadata": {
  "kernelspec": {
   "display_name": "Python 3",
   "language": "python",
   "name": "python3"
  },
  "language_info": {
   "codemirror_mode": {
    "name": "ipython",
    "version": 3
   },
   "file_extension": ".py",
   "mimetype": "text/x-python",
   "name": "python",
   "nbconvert_exporter": "python",
   "pygments_lexer": "ipython3",
   "version": "3.6.8"
  }
 },
 "nbformat": 4,
 "nbformat_minor": 2
}
