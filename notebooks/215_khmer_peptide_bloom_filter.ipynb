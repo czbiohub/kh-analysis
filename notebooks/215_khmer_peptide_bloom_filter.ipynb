{
 "cells": [
  {
   "cell_type": "code",
   "execution_count": 2,
   "metadata": {
    "execution_event_id": "a2b87fd4-ca7d-4c56-a33f-597f405ea6fe",
    "last_executed_text": "folder = '/home/olga/data_sm/kmer-hashing/classify_coding_vs_noncoding/'",
    "persistent_id": "79625542-1410-409b-9c5b-1a7a556e5541"
   },
   "outputs": [],
   "source": [
    "folder = '/home/olga/data_sm/kmer-hashing/classify_coding_vs_noncoding/'"
   ]
  },
  {
   "cell_type": "code",
   "execution_count": 3,
   "metadata": {
    "execution_event_id": "895b243a-3ce1-40bb-b0cb-8ce00cdf1e7c",
    "last_executed_text": "cd $folder",
    "persistent_id": "f22c3722-b07d-4558-b117-1378d3941e78"
   },
   "outputs": [
    {
     "name": "stdout",
     "output_type": "stream",
     "text": [
      "/mnt/data_sm/olga/kmer-hashing/classify_coding_vs_noncoding\n"
     ]
    }
   ],
   "source": [
    "cd $folder"
   ]
  },
  {
   "cell_type": "code",
   "execution_count": 4,
   "metadata": {
    "execution_event_id": "c1941d1e-9f36-48f7-9869-2e588149da45",
    "last_executed_text": "ls -lha",
    "persistent_id": "f9bbce41-5893-489d-8f89-7d8fb0b0fe1e"
   },
   "outputs": [
    {
     "name": "stdout",
     "output_type": "stream",
     "text": [
      "total 239G\n",
      "drwxrwxr-x 2 olga olga 4.0K Sep 18 05:33 \u001b[0m\u001b[01;34m.\u001b[0m/\n",
      "drwxrwxr-x 5 olga olga 4.0K Sep 14 08:39 \u001b[01;34m..\u001b[0m/\n",
      "-rw-rw-r-- 1 olga olga  21M Sep 14 06:46 \u001b[01;31mHomo_sapiens.GRCh38.cds.all.fa.gz\u001b[0m\n",
      "-rw-rw-r-- 1 olga olga  16M Sep 14 06:46 \u001b[01;31mHomo_sapiens.GRCh38.ncrna.fa.gz\u001b[0m\n",
      "-rw-rw-r-- 1 olga olga  14M Sep 14 06:46 \u001b[01;31mHomo_sapiens.GRCh38.pep.all.fa.gz\u001b[0m\n",
      "-rw-rw-r-- 1 olga olga  15G Sep 14 07:11 human_cds_k15.nodegraph\n",
      "-rw-rw-r-- 1 olga olga   65 Sep 14 07:11 human_cds_k15.nodegraph.info\n",
      "-rw-rw-r-- 1 olga olga  15G Sep 14 07:22 human_cds_k17.nodegraph\n",
      "-rw-rw-r-- 1 olga olga   65 Sep 14 07:22 human_cds_k17.nodegraph.info\n",
      "-rw-rw-r-- 1 olga olga  15G Sep 14 07:30 human_cds_k19.nodegraph\n",
      "-rw-rw-r-- 1 olga olga   65 Sep 14 07:30 human_cds_k19.nodegraph.info\n",
      "-rw-rw-r-- 1 olga olga  15G Sep 14 07:39 human_cds_k21.nodegraph\n",
      "-rw-rw-r-- 1 olga olga   65 Sep 14 07:39 human_cds_k21.nodegraph.info\n",
      "-rw-rw-r-- 1 olga olga  15G Sep 14 07:47 human_cds_k23.nodegraph\n",
      "-rw-rw-r-- 1 olga olga   65 Sep 14 07:47 human_cds_k23.nodegraph.info\n",
      "-rw-rw-r-- 1 olga olga  15G Sep 14 07:55 human_cds_k25.nodegraph\n",
      "-rw-rw-r-- 1 olga olga   65 Sep 14 07:55 human_cds_k25.nodegraph.info\n",
      "-rw-rw-r-- 1 olga olga  15G Sep 14 08:03 human_cds_k27.nodegraph\n",
      "-rw-rw-r-- 1 olga olga   65 Sep 14 08:03 human_cds_k27.nodegraph.info\n",
      "-rw-rw-r-- 1 olga olga  15G Sep 14 08:12 human_cds_k31.nodegraph\n",
      "-rw-rw-r-- 1 olga olga   65 Sep 14 08:12 human_cds_k31.nodegraph.info\n",
      "-rw-rw-r-- 1 olga olga  15G Sep 14 07:18 human_ncrna_k15.nodegraph\n",
      "-rw-rw-r-- 1 olga olga   65 Sep 14 07:18 human_ncrna_k15.nodegraph.info\n",
      "-rw-rw-r-- 1 olga olga 5.7M Sep 14 07:15 human_ncrna_k15.nodegraph.tagset\n",
      "-rw-rw-r-- 1 olga olga  15G Sep 14 07:26 human_ncrna_k17.nodegraph\n",
      "-rw-rw-r-- 1 olga olga   65 Sep 14 07:26 human_ncrna_k17.nodegraph.info\n",
      "-rw-rw-r-- 1 olga olga  15G Sep 14 07:34 human_ncrna_k19.nodegraph\n",
      "-rw-rw-r-- 1 olga olga   65 Sep 14 07:34 human_ncrna_k19.nodegraph.info\n",
      "-rw-rw-r-- 1 olga olga  15G Sep 14 07:42 human_ncrna_k21.nodegraph\n",
      "-rw-rw-r-- 1 olga olga   65 Sep 14 07:43 human_ncrna_k21.nodegraph.info\n",
      "-rw-rw-r-- 1 olga olga  15G Sep 14 07:51 human_ncrna_k23.nodegraph\n",
      "-rw-rw-r-- 1 olga olga   65 Sep 14 07:51 human_ncrna_k23.nodegraph.info\n",
      "-rw-rw-r-- 1 olga olga  15G Sep 14 07:59 human_ncrna_k25.nodegraph\n",
      "-rw-rw-r-- 1 olga olga   65 Sep 14 07:59 human_ncrna_k25.nodegraph.info\n",
      "-rw-rw-r-- 1 olga olga  15G Sep 14 08:07 human_ncrna_k27.nodegraph\n",
      "-rw-rw-r-- 1 olga olga   65 Sep 14 08:07 human_ncrna_k27.nodegraph.info\n",
      "-rw-rw-r-- 1 olga olga  15G Sep 14 08:16 human_ncrna_k31.nodegraph\n",
      "-rw-rw-r-- 1 olga olga   65 Sep 14 08:16 human_ncrna_k31.nodegraph.info\n",
      "-rw-r--r-- 1 olga olga  52M Sep 18 05:33 \u001b[01;31mSRR306838_GSM752691_hsa_br_F_1_trimmed.fq.gz\u001b[0m\n",
      "-rw-r--r-- 1 olga olga  72K Sep 18 05:33 \u001b[01;31mSRR306838_GSM752691_hsa_br_F_1_trimmed_subsampled.fq.gz\u001b[0m\n"
     ]
    }
   ],
   "source": [
    "ls -lha"
   ]
  },
  {
   "cell_type": "code",
   "execution_count": 5,
   "metadata": {
    "execution_event_id": "16009ec5-6c2c-4662-9d3b-592b75ea3b61",
    "last_executed_text": "import gzip\nfrom io import StringIO\nfrom pprint import pprint\n\nfrom khmer import Nodegraph\nimport matplotlib.pyplot as plt\nimport screed\nfrom sourmash._minhash import hash_murmur\nfrom khmer.khmer_args import calculate_graphsize\nimport pandas as pd\nfrom sourmash.logging import notify\n\nimport seaborn as sns\n\nfrom sklearn import metrics\nfrom khtools.compare_peptide import kmerize, hpize, dayhoffize\n\nfrom Bio.Seq import Seq\nfrom Bio import SeqIO",
    "persistent_id": "ca3c95ac-68f3-46f3-b085-b116e63bb8b0"
   },
   "outputs": [],
   "source": [
    "import gzip\n",
    "from io import StringIO\n",
    "from pprint import pprint\n",
    "\n",
    "from khmer import Nodegraph\n",
    "import matplotlib.pyplot as plt\n",
    "import screed\n",
    "from sourmash._minhash import hash_murmur\n",
    "from khmer.khmer_args import calculate_graphsize\n",
    "import pandas as pd\n",
    "from sourmash.logging import notify\n",
    "\n",
    "import seaborn as sns\n",
    "\n",
    "from sklearn import metrics\n",
    "from khtools.compare_peptide import kmerize, hpize, dayhoffize\n",
    "\n",
    "from Bio.Seq import Seq\n",
    "from Bio import SeqIO"
   ]
  },
  {
   "cell_type": "code",
   "execution_count": 6,
   "metadata": {
    "execution_event_id": "753cf163-6d5d-4ade-9cfa-f294c5685bc1",
    "last_executed_text": "%%time\n\ntablesize = 1e10\n\nDEFAULT_K = 32\nDEFAULT_N_TABLES = 4\nDEFAULT_MAX_TABLESIZE = 1e6\nDEFAULT_N_THREADS = 1\n\npeptide_ksize = 7\n\n# tablesize = calculate_graphsize(args, 'nodegraph', multiplier)\n\n20**6\n\nDEFAULT_SEED = 42\n\ndef make_peptide_bloom_filter(peptide_fasta, peptide_ksize, n_tables=4, seed=DEFAULT_SEED):\n    \"\"\"\"\"\"\n\n    peptide_graph = Nodegraph(peptide_ksize, tablesize, n_tables=n_tables)\n\n    for record in screed.open(peptide_fasta):\n    #     print(record)\n        if '*' in record['sequence']:\n    #         notify(\"Stop codon found in seq, skipping\")\n            continue\n        kmers = kmerize(record['sequence'], peptide_ksize)\n        for kmer in kmers:\n\n            hashed = hash_murmur(kmer)\n\n            # .add can take the hashed integer so we can hash the peptide kmer and add it directly\n            peptide_graph.add(hashed)\n    return peptide_graph\n\npeptide_graph = make_peptide_bloom_filter(\"Homo_sapiens.GRCh38.pep.all.fa.gz\", 7)",
    "persistent_id": "24efed0e-0671-4d31-9ac1-c341e9d67f66"
   },
   "outputs": [
    {
     "name": "stdout",
     "output_type": "stream",
     "text": [
      "CPU times: user 39.4 s, sys: 3.53 s, total: 42.9 s\n",
      "Wall time: 43 s\n"
     ]
    }
   ],
   "source": [
    "%%time\n",
    "\n",
    "tablesize = 1e10\n",
    "\n",
    "DEFAULT_K = 32\n",
    "DEFAULT_N_TABLES = 4\n",
    "DEFAULT_MAX_TABLESIZE = 1e6\n",
    "DEFAULT_N_THREADS = 1\n",
    "\n",
    "peptide_ksize = 7\n",
    "\n",
    "# tablesize = calculate_graphsize(args, 'nodegraph', multiplier)\n",
    "\n",
    "20**6\n",
    "\n",
    "DEFAULT_SEED = 42\n",
    "\n",
    "def make_peptide_bloom_filter(peptide_fasta, peptide_ksize, n_tables=4, seed=DEFAULT_SEED):\n",
    "    \"\"\"\"\"\"\n",
    "\n",
    "    peptide_graph = Nodegraph(peptide_ksize, tablesize, n_tables=n_tables)\n",
    "\n",
    "    for record in screed.open(peptide_fasta):\n",
    "    #     print(record)\n",
    "        if '*' in record['sequence']:\n",
    "    #         notify(\"Stop codon found in seq, skipping\")\n",
    "            continue\n",
    "        kmers = kmerize(record['sequence'], peptide_ksize)\n",
    "        for kmer in kmers:\n",
    "\n",
    "            hashed = hash_murmur(kmer)\n",
    "\n",
    "            # .add can take the hashed integer so we can hash the peptide kmer and add it directly\n",
    "            peptide_graph.add(hashed)\n",
    "    return peptide_graph\n",
    "\n",
    "peptide_graph = make_peptide_bloom_filter(\"Homo_sapiens.GRCh38.pep.all.fa.gz\", 7)"
   ]
  },
  {
   "cell_type": "code",
   "execution_count": 7,
   "metadata": {
    "execution_event_id": "b7578536-5a96-43f2-85ef-435699b900d2",
    "last_executed_text": "for i, record in zip(range(5), screed.open('SRR306838_GSM752691_hsa_br_F_1_trimmed.fq.gz')):\n    print(i, record)",
    "persistent_id": "89111130-9f20-4159-b7e7-68baebcde9a3"
   },
   "outputs": [
    {
     "name": "stdout",
     "output_type": "stream",
     "text": [
      "0 {'name': 'SRR306838.1531 Ibis_Run100924_C3PO:6:1:15718:1062/1', 'sequence': 'ACCCCCCCCCCCCCCCCCCCCCCCCCCCCCCCCCCCCCCCCCCCCCCCCCCCCCCCCCCCCCCCCCCCCCCC', 'annotations': '', 'quality': '(04147:;:9<<:7;88<<B::;<=:<:=<;>>=@>>8<;;<=;C;>;:5:;9<<::6@;E;?:C@=:9:67'}\n",
      "1 {'name': 'SRR306838.1617 Ibis_Run100924_C3PO:6:1:9036:1074/1', 'sequence': 'CGTTGGTCAAGTTATTGGATCAATTGAGTATAGTAGTTCGCTTTGACTGGTGAAGTCTTAGCATG', 'annotations': '', 'quality': '44/1655:458353466544:43776271473924745866556657:54465371775397785'}\n",
      "2 {'name': 'SRR306838.1672 Ibis_Run100924_C3PO:6:1:15751:1077/1', 'sequence': 'CCCCCCCCCCCCCCCCCCCCCCCCCCCCCCCCCCCCCCCCCCCCCCCCCCCCCCCCCCCCCCCCCCCCCCCCCCCC', 'annotations': '', 'quality': '65<69P?HCEGKB99SSP:EMFKOS;HSSESJSGISJJMRSS=JSFOSCSSSSSSKSHSSESSSSSQSSSSSS88R'}\n",
      "3 {'name': 'SRR306838.1938 Ibis_Run100924_C3PO:6:1:15775:1103/1', 'sequence': 'CCCCCCCCCCCCCCCCCCCCCCCCCCCCCCCCCCCCCCCCCCCCCCCCCCCCCCCCCCCCCCCCCCCCCCCCCCCC', 'annotations': '', 'quality': '65866KD;;:=<A;O>HSBF<K:RB=<A<RS;SAE;<:C<;E;;<><;>9AN=<@:S6HJAJAFKK<SJF6S4?2='}\n",
      "4 {'name': 'SRR306838.2318 Ibis_Run100924_C3PO:6:1:15779:1141/1', 'sequence': 'CCCCCCCCCACCACCACCCCCCCCACCCCCCCCCCCCCCCCCCCCCCCCCCACCCCCCCACACACCCCCAACACCC', 'annotations': '', 'quality': '2263688B;9<<9;=;9<=><:;=:@<@<<<A<<I9S?;<<<C;>;@;S5:;;M<O:7;;C<;:F;;;;898972@'}\n"
     ]
    }
   ],
   "source": [
    "for i, record in zip(range(5), screed.open('SRR306838_GSM752691_hsa_br_F_1_trimmed.fq.gz')):\n",
    "    print(i, record)"
   ]
  },
  {
   "cell_type": "code",
   "execution_count": 17,
   "metadata": {
    "execution_event_id": "aa917c44-1f3b-4d5c-a7e4-3320156f6843",
    "last_executed_text": "def three_frame_translation(seq):\n    for frame in range(3):\n        translation = seq[frame:].translate()\n        yield translation\n        \ndef three_frame_translation_no_stops(seq):\n    return [t for t in three_frame_translation(seq) if '*' not in t]\n\n\nwith gzip.open('SRR306838_GSM752691_hsa_br_F_1_trimmed_subsampled.fq.gz', 'rt') as f:\n    for i, record in zip(range(5), SeqIO.parse(f, 'fastq')):\n        print(record.description)\n        print(str(record.seq))\n        print(list(three_frame_translation(record.seq)))\n        print(list(three_frame_translation(record.seq[::-1])))",
    "persistent_id": "39699f59-df26-4089-a7b8-519f138c6091"
   },
   "outputs": [
    {
     "name": "stdout",
     "output_type": "stream",
     "text": [
      "SRR306838.10559374 Ibis_Run100924_C3PO:6:51:17601:17119/1\n",
      "CGCTTGCTTAATACTGACATCAATAATATTAGGAAAATCGCAATATAACTGTAAATCCTGTTCTGTC\n",
      "[Seq('RLLNTDINNIRKIAI*L*ILFC', HasStopCodon(ExtendedIUPACProtein(), '*')), Seq('ACLILTSIILGKSQYNCKSCSV', ExtendedIUPACProtein()), Seq('LA*Y*HQ*Y*ENRNITVNPVL', HasStopCodon(ExtendedIUPACProtein(), '*'))]\n",
      "[Seq('LSCPKCQYNAKRIIITTVIIRS', ExtendedIUPACProtein()), Seq('CLVLNVNITLKGL**LQS*FVR', HasStopCodon(ExtendedIUPACProtein(), '*')), Seq('VLS*MSI*R*KDYNNYSHNSF', HasStopCodon(ExtendedIUPACProtein(), '*'))]\n",
      "SRR306838.6196593 Ibis_Run100924_C3PO:6:29:16733:12435/1\n",
      "TCTAGAATGTGAAATAACGTACTTCATGTGTCTTCTTACCAAAAATACCAACGATAAGGGGAAAAGCCATC\n",
      "[Seq('SRM*NNVLHVSSYQKYQR*GEKP', HasStopCodon(ExtendedIUPACProtein(), '*')), Seq('LECEITYFMCLLTKNTNDKGKSH', ExtendedIUPACProtein()), Seq('*NVK*RTSCVFLPKIPTIRGKAI', HasStopCodon(ExtendedIUPACProtein(), '*'))]\n",
      "[Seq('LPKRGIATIKTILLCTSCNKV*D', HasStopCodon(ExtendedIUPACProtein(), '*')), Seq('YRKGE*QP*KPFFCVLHAIKCKI', HasStopCodon(ExtendedIUPACProtein(), '*')), Seq('TEKGNSNHKNHSSVYFMQ*SVRS', HasStopCodon(ExtendedIUPACProtein(), '*'))]\n",
      "SRR306838.20767303 Ibis_Run100924_C3PO:6:104:6864:5062/1\n",
      "CAATCATCATCACTTTCTAATTCCAGAATATTTTCATCACCCCAAAAAGAAATCCTAAATCCATTAGC\n",
      "[Seq('QSSSLSNSRIFSSPQKEILNPL', ExtendedIUPACProtein()), Seq('NHHHFLIPEYFHHPKKKS*IH*', HasStopCodon(ExtendedIUPACProtein(), '*')), Seq('IIITF*FQNIFITPKRNPKSIS', HasStopCodon(ExtendedIUPACProtein(), '*'))]\n",
      "[Seq('RLPKS*RKTPLLL*DLNLSLLL', HasStopCodon(ExtendedIUPACProtein(), '*')), Seq('DYLNPKEKPHYFYKTLIFHYY*', HasStopCodon(ExtendedIUPACProtein(), '*')), Seq('IT*ILKKNPTTFIRP*SFTTTN', HasStopCodon(ExtendedIUPACProtein(), '*'))]\n",
      "SRR306838.12582274 Ibis_Run100924_C3PO:6:62:11779:17975/1\n",
      "CAAAAGTGAAGACCTCCCTGGGGTCTTCAAAGACAGCCTTTGCTCTCCATGTAGCCAATGGTGCTCT\n",
      "[Seq('QK*RPPWGLQRQPLLSM*PMVL', HasStopCodon(ExtendedIUPACProtein(), '*')), Seq('KSEDLPGVFKDSLCSPCSQWCS', ExtendedIUPACProtein()), Seq('KVKTSLGSSKTAFALHVANGA', ExtendedIUPACProtein())]\n",
      "[Seq('SRGNRCTSRFRQKLLGSLQK*K', HasStopCodon(ExtendedIUPACProtein(), '*')), Seq('LVVTDVPLVSDRNFWGPSRSEN', ExtendedIUPACProtein()), Seq('SW*PMYLSFPTETSGVPPEVK', HasStopCodon(ExtendedIUPACProtein(), '*'))]\n",
      "SRR306838.13334230 Ibis_Run100924_C3PO:6:66:16579:20350/1\n",
      "GTAACCCTTAATTCCTCAGAAAAAATAGACAACATAGTGGAGTGGGATGGAGGAAC\n",
      "[Seq('VTLNSSEKIDNIVEWDGG', ExtendedIUPACProtein()), Seq('*PLIPQKK*TT*WSGMEE', HasStopCodon(ExtendedIUPACProtein(), '*')), Seq('NP*FLRKNRQHSGVGWRN', HasStopCodon(ExtendedIUPACProtein(), '*'))]\n",
      "[Seq('QGGRVR*YNR*KRLLNSQ', HasStopCodon(ExtendedIUPACProtein(), '*')), Seq('KEVG*GDTTDKKDSLIPN', HasStopCodon(ExtendedIUPACProtein(), '*')), Seq('RR*GEVIQQIKKTP*FPM', HasStopCodon(ExtendedIUPACProtein(), '*'))]\n"
     ]
    },
    {
     "name": "stderr",
     "output_type": "stream",
     "text": [
      "/home/olga/miniconda3/envs/kmer-hashing/lib/python3.6/site-packages/Bio/Seq.py:2715: BiopythonWarning: Partial codon, len(sequence) not a multiple of three. Explicitly trim the sequence or add trailing N before translation. This may become an error in future.\n",
      "  BiopythonWarning)\n"
     ]
    }
   ],
   "source": [
    "def three_frame_translation(seq):\n",
    "    for frame in range(3):\n",
    "        translation = seq[frame:].translate()\n",
    "        yield translation\n",
    "        \n",
    "def three_frame_translation_no_stops(seq):\n",
    "    return [t for t in three_frame_translation(seq) if '*' not in t]\n",
    "\n",
    "\n",
    "with gzip.open('SRR306838_GSM752691_hsa_br_F_1_trimmed_subsampled.fq.gz', 'rt') as f:\n",
    "    for i, record in zip(range(5), SeqIO.parse(f, 'fastq')):\n",
    "        print(record.description)\n",
    "        print(str(record.seq))\n",
    "        print(list(three_frame_translation(record.seq)))\n",
    "        print(list(three_frame_translation(record.seq[::-1])))"
   ]
  },
  {
   "cell_type": "code",
   "execution_count": null,
   "metadata": {
    "execution_event_id": "3b9310c8-297c-44e6-9f33-0641c734310b",
    "last_executed_text": "",
    "persistent_id": "5ec9a5d5-77ec-45fd-b005-19e0524f7918"
   },
   "outputs": [],
   "source": []
  },
  {
   "cell_type": "code",
   "execution_count": null,
   "metadata": {
    "execution_event_id": "d982833c-3362-4bdd-98c6-8c98674af777",
    "last_executed_text": "classification_lines = []\n\n\ndef six_frame_translation_no_stops(seq):\n    forward_translations = three_frame_translation_no_stops(seq)\n    reverse_translations = three_frame_translation_no_stops(seq.reverse_complement())\n    return forward_translations + reverse_translations\n\nverbose = False\n\nwith gzip.open('SRR306838_GSM752691_hsa_br_F_1_trimmed_subsampled.fq.gz', 'rt') as f:\n    for i, record in zip(range(20), SeqIO.parse(f, 'fastq')):\n        if verbose:\n            print()\n            print(record.description)\n            print(str(record.seq))\n        translations = six_frame_translation_no_stops(record.seq)\n        \n        max_fraction = 0\n        for translation in translations:\n            if verbose:\n                print(f\"\\t{translation}\")\n            kmers = list(set(kmerize(str(translation), peptide_ksize)))\n            hashes = [hash_murmur(kmer) for kmer in kmers]\n            n_kmers = len(kmers)\n            n_kmers_in_peptide_db = sum(1 for h in hashes if peptide_graph.get(h) > 0)\n            kmers_in_peptide_db = {(k, h): peptide_graph.get(h) for k, h in zip(kmers, hashes)}\n            fraction_in_peptide_db = n_kmers_in_peptide_db/n_kmers\n            max_fraction = max(max_fraction, fraction_in_peptide_db)\n            if verbose and fraction_in_peptide_db > 0.9:\n                pprint(kmers_in_peptide_db)\n            if verbose:\n                print(f'n_kmers_in_peptide_db/n_kmers: {n_kmers_in_peptide_db}/{n_kmers} = {fraction_in_peptide_db}')\n        classification_lines.append([record.description, max_fraction])",
    "persistent_id": "954ef7d8-1e5c-43fa-87bf-0098fd2cd414"
   },
   "outputs": [],
   "source": [
    "classification_lines = []\n",
    "\n",
    "\n",
    "def six_frame_translation_no_stops(seq):\n",
    "    forward_translations = three_frame_translation_no_stops(seq)\n",
    "    reverse_translations = three_frame_translation_no_stops(seq.reverse_complement())\n",
    "    return forward_translations + reverse_translations\n",
    "\n",
    "verbose = False\n",
    "\n",
    "with gzip.open('SRR306838_GSM752691_hsa_br_F_1_trimmed_subsampled.fq.gz', 'rt') as f:\n",
    "    for i, record in zip(range(20), SeqIO.parse(f, 'fastq')):\n",
    "        if verbose:\n",
    "            print()\n",
    "            print(record.description)\n",
    "            print(str(record.seq))\n",
    "        translations = six_frame_translation_no_stops(record.seq)\n",
    "        \n",
    "        max_fraction = 0\n",
    "        for translation in translations:\n",
    "            if verbose:\n",
    "                print(f\"\\t{translation}\")\n",
    "            kmers = list(set(kmerize(str(translation), peptide_ksize)))\n",
    "            hashes = [hash_murmur(kmer) for kmer in kmers]\n",
    "            n_kmers = len(kmers)\n",
    "            n_kmers_in_peptide_db = sum(1 for h in hashes if peptide_graph.get(h) > 0)\n",
    "            kmers_in_peptide_db = {(k, h): peptide_graph.get(h) for k, h in zip(kmers, hashes)}\n",
    "            fraction_in_peptide_db = n_kmers_in_peptide_db/n_kmers\n",
    "            max_fraction = max(max_fraction, fraction_in_peptide_db)\n",
    "            if verbose and fraction_in_peptide_db > 0.9:\n",
    "                pprint(kmers_in_peptide_db)\n",
    "            if verbose:\n",
    "                print(f'n_kmers_in_peptide_db/n_kmers: {n_kmers_in_peptide_db}/{n_kmers} = {fraction_in_peptide_db}')\n",
    "        classification_lines.append([record.description, max_fraction])"
   ]
  },
  {
   "cell_type": "code",
   "execution_count": null,
   "metadata": {
    "execution_event_id": "baedc3ca-0112-4cc4-ab7f-d0af1ccafe89",
    "last_executed_text": "manual_classification_df = pd.DataFrame(classification_lines, columns=['read_id', 'max_peptide_coding_kmers'])\nmanual_classification_df = manual_classification_df.set_index(\"read_id\")\nprint(manual_classification_df.shape)\nmanual_classification_df.head()",
    "persistent_id": "96970676-e85a-49f8-9ec5-dda47db735e1"
   },
   "outputs": [],
   "source": [
    "manual_classification_df = pd.DataFrame(classification_lines, columns=['read_id', 'max_peptide_coding_kmers'])\n",
    "manual_classification_df = manual_classification_df.set_index(\"read_id\")\n",
    "print(manual_classification_df.shape)\n",
    "manual_classification_df.head()"
   ]
  },
  {
   "cell_type": "code",
   "execution_count": null,
   "metadata": {
    "execution_event_id": "afd454c6-4f50-405e-a269-87c1d89e9096",
    "last_executed_text": "s = '''sequence_id\tsequence\tcompared_to\tjaccard\tksize\tis_coding\tNotes\nSRR306838.10559374 Ibis_Run100924_C3PO:6:51:17601:17119/1\tCGCTTGCTTAATACTGACATCAATAATATTAGGAAAATCGCAATATAACTGTAAATCCTGTTCTGTC\tcoding\t0.03773584906\t15\tTRUE\t\nSRR306838.10559374 Ibis_Run100924_C3PO:6:51:17601:17119/1\tCGCTTGCTTAATACTGACATCAATAATATTAGGAAAATCGCAATATAACTGTAAATCCTGTTCTGTC\tnon_coding\t0\t15\tTRUE\t\nSRR306838.6196593 Ibis_Run100924_C3PO:6:29:16733:12435/1\tTCTAGAATGTGAAATAACGTACTTCATGTGTCTTCTTACCAAAAATACCAACGATAAGGGGAAAAGCCATC\tcoding\t0.0350877193\t15\tFALSE\t\nSRR306838.6196593 Ibis_Run100924_C3PO:6:29:16733:12435/1\tTCTAGAATGTGAAATAACGTACTTCATGTGTCTTCTTACCAAAAATACCAACGATAAGGGGAAAAGCCATC\tnon_coding\t0.01754385965\t15\tFALSE\t\nSRR306838.20767303 Ibis_Run100924_C3PO:6:104:6864:5062/1\tCAATCATCATCACTTTCTAATTCCAGAATATTTTCATCACCCCAAAAAGAAATCCTAAATCCATTAGC\tcoding\t0.09259259259\t15\tFALSE\t\nSRR306838.20767303 Ibis_Run100924_C3PO:6:104:6864:5062/1\tCAATCATCATCACTTTCTAATTCCAGAATATTTTCATCACCCCAAAAAGAAATCCTAAATCCATTAGC\tnon_coding\t0.4074074074\t15\tFALSE\t\nSRR306838.12582274 Ibis_Run100924_C3PO:6:62:11779:17975/1\tCAAAAGTGAAGACCTCCCTGGGGTCTTCAAAGACAGCCTTTGCTCTCCATGTAGCCAATGGTGCTCT\tcoding\t0.03773584906\t15\tFALSE\t\nSRR306838.12582274 Ibis_Run100924_C3PO:6:62:11779:17975/1\tCAAAAGTGAAGACCTCCCTGGGGTCTTCAAAGACAGCCTTTGCTCTCCATGTAGCCAATGGTGCTCT\tnon_coding\t0.05660377358\t15\tFALSE\t\nSRR306838.13334230 Ibis_Run100924_C3PO:6:66:16579:20350/1\tGTAACCCTTAATTCCTCAGAAAAAATAGACAACATAGTGGAGTGGGATGGAGGAAC\tcoding\t0.04761904762\t15\tFALSE\t\nSRR306838.13334230 Ibis_Run100924_C3PO:6:66:16579:20350/1\tGTAACCCTTAATTCCTCAGAAAAAATAGACAACATAGTGGAGTGGGATGGAGGAAC\tnon_coding\t0.1428571429\t15\tFALSE\t\nSRR306838.2740879 Ibis_Run100924_C3PO:6:13:11155:5248/1\tCTGTGATTATTTTTTTTCCTAGCATTTGTTCTTTCAGAAAAGGACTGAACTCTAAATTCTGGACTTGAAGACTG\tcoding\t0.06666666667\t15\tTRUE\tSecond hit is in LINE element\nSRR306838.2740879 Ibis_Run100924_C3PO:6:13:11155:5248/1\tCTGTGATTATTTTTTTTCCTAGCATTTGTTCTTTCAGAAAAGGACTGAACTCTAAATTCTGGACTTGAAGACTG\tnon_coding\t0.08333333333\t15\tTRUE\tSecond hit is in LINE element\nSRR306838.6813354 Ibis_Run100924_C3PO:6:32:10591:13073/1\tGTTTGATTCTTGACAATTTCTTCTGGAACAAGTCTTTCATATACATTAGACTGGTATCATTGAGTTCTGAGC\tcoding\t0.03448275862\t15\tFALSE\tLots of imperfect matches\nSRR306838.6813354 Ibis_Run100924_C3PO:6:32:10591:13073/1\tGTTTGATTCTTGACAATTTCTTCTGGAACAAGTCTTTCATATACATTAGACTGGTATCATTGAGTTCTGAGC\tnon_coding\t0.08620689655\t15\tFALSE\tLots of imperfect matches\nSRR306838.23113368 Ibis_Run100924_C3PO:6:114:13840:18459/1\tCACAAGGCTAACATACACAATCTGTAACACGAGATGGATAGCACACACATATGACACAATTTC\tcoding\t0\t15\tFALSE\t\nSRR306838.23113368 Ibis_Run100924_C3PO:6:114:13840:18459/1\tCACAAGGCTAACATACACAATCTGTAACACGAGATGGATAGCACACACATATGACACAATTTC\tnon_coding\t0\t15\tFALSE\t\nSRR306838.10872941 Ibis_Run100924_C3PO:6:53:6164:10522/1\tCTGTAGTGTGGTCCATTCCCAGACAGCAACATGCAAGAATAAGTTTACAATACACTCAGCCCTTCTG\tcoding\t0.01886792453\t15\tFALSE\t\nSRR306838.10872941 Ibis_Run100924_C3PO:6:53:6164:10522/1\tCTGTAGTGTGGTCCATTCCCAGACAGCAACATGCAAGAATAAGTTTACAATACACTCAGCCCTTCTG\tnon_coding\t0.01886792453\t15\tFALSE\t\nSRR306838.6192120 Ibis_Run100924_C3PO:6:29:5833:11991/1\tTAGGAAAATAGTAATATTTGCAACTTATGAATGATAAGTCAGAAAAGTTACATGGAATGTTAAATTTT\tcoding\t0.1296296296\t15\tFALSE\t\nSRR306838.6192120 Ibis_Run100924_C3PO:6:29:5833:11991/1\tTAGGAAAATAGTAATATTTGCAACTTATGAATGATAAGTCAGAAAAGTTACATGGAATGTTAAATTTT\tnon_coding\t0.05555555556\t15\tFALSE\t\nSRR306838.21295280 Ibis_Run100924_C3PO:6:106:2590:13965/1\tCTGATAGACTGAAACTGGTTTTGTTATTCTTAACGTTCTCCAGTCTGCACTCTGCTGTGCTGTCTGTGCTC\tcoding\t0.1929824561\t15\tFALSE\t\nSRR306838.21295280 Ibis_Run100924_C3PO:6:106:2590:13965/1\tCTGATAGACTGAAACTGGTTTTGTTATTCTTAACGTTCTCCAGTCTGCACTCTGCTGTGCTGTCTGTGCTC\tnon_coding\t0.0701754386\t15\tFALSE\t\nSRR306838.21201208 Ibis_Run100924_C3PO:6:106:2763:5109/1\tTTAAGTTCTAGTCTGTGAGCACTTGTAGTTCAATAATCGTCATCTTCATCAGAGTCCATTACTTTTCTTCTGTTG\tcoding\t0.1147540984\t15\tFALSE\tstop codon\nSRR306838.21201208 Ibis_Run100924_C3PO:6:106:2763:5109/1\tTTAAGTTCTAGTCTGTGAGCACTTGTAGTTCAATAATCGTCATCTTCATCAGAGTCCATTACTTTTCTTCTGTTG\tnon_coding\t0.06557377049\t15\tFALSE\tstop codon\nSRR306838.18327923 Ibis_Run100924_C3PO:6:92:9077:13885/1\tAAATAAGGTAACATTTAACAATAATCTGATACACATAAATAGAGAAAGAGCAATTGATAAAGTAAATG\tcoding\t0.01851851852\t15\tFALSE\t\nSRR306838.18327923 Ibis_Run100924_C3PO:6:92:9077:13885/1\tAAATAAGGTAACATTTAACAATAATCTGATACACATAAATAGAGAAAGAGCAATTGATAAAGTAAATG\tnon_coding\t0.2222222222\t15\tFALSE\t\nSRR306838.4880582 Ibis_Run100924_C3PO:6:23:17413:5436/1\tCTTGGATCCACCATACTCAAGAGTTATTACACAAAGGGAAACAGAAAATAACCAAATGACATCAGAA\tcoding\t1\t15\tTRUE\t\nSRR306838.4880582 Ibis_Run100924_C3PO:6:23:17413:5436/1\tCTTGGATCCACCATACTCAAGAGTTATTACACAAAGGGAAACAGAAAATAACCAAATGACATCAGAA\tnon_coding\t0.1698113208\t15\tTRUE\t\nSRR306838.21417895 Ibis_Run100924_C3PO:6:107:8793:5012/1\tCCAACACATCCAATTTGTATTTTCTTAAATATGTGTTTCTTAGGTATCTAAGGATACATGAGCGAGCCC\tcoding\t0\t15\tFALSE\t\nSRR306838.21417895 Ibis_Run100924_C3PO:6:107:8793:5012/1\tCCAACACATCCAATTTGTATTTTCTTAAATATGTGTTTCTTAGGTATCTAAGGATACATGAGCGAGCCC\tnon_coding\t0.01818181818\t15\tFALSE\t\nSRR306838.17165743 Ibis_Run100924_C3PO:6:86:18789:18450/1\tATCTCTTGTAATAATTCAACATATTCCCTGGCTATTAACTAATTTCCAAGCCTGAACTGTCA\tcoding\t0.04166666667\t15\tFALSE\t\nSRR306838.17165743 Ibis_Run100924_C3PO:6:86:18789:18450/1\tATCTCTTGTAATAATTCAACATATTCCCTGGCTATTAACTAATTTCCAAGCCTGAACTGTCA\tnon_coding\t0\t15\tFALSE\t\nSRR306838.21229494 Ibis_Run100924_C3PO:6:106:6163:7753/1\tTGAGGCAAACAGCAAGAGTAAGCAGTGTTACTTGCAGGTACTTTGGTTAATGTTGATTTAAATTTTCATG\tcoding\t0\t15\tFALSE\tPerfect match to another location with a DNA element\nSRR306838.21229494 Ibis_Run100924_C3PO:6:106:6163:7753/1\tTGAGGCAAACAGCAAGAGTAAGCAGTGTTACTTGCAGGTACTTTGGTTAATGTTGATTTAAATTTTCATG\tnon_coding\t0.03571428571\t15\tFALSE\t\nSRR306838.21218773 Ibis_Run100924_C3PO:6:106:16921:6743/1\tCAATGCCGTGCCAGTGGAGACTGTTCTCGTATGCC\tcoding\t0.09523809524\t15\tTRUE\tDeinitely coding\nSRR306838.21218773 Ibis_Run100924_C3PO:6:106:16921:6743/1\tCAATGCCGTGCCAGTGGAGACTGTTCTCGTATGCC\tnon_coding\t0\t15\tTRUE\t\nSRR306838.20124664 Ibis_Run100924_C3PO:6:101:4701:5309/1\tCCTATACCTTCTGCATAATGAATTAACTAGAAATAACTTTGCAAGGAGAGCCAAAGCTAAGACCCCCGAAAC\tcoding\t0.01724137931\t15\tFALSE\tDefinitely noncoding\nSRR306838.20124664 Ibis_Run100924_C3PO:6:101:4701:5309/1\tCCTATACCTTCTGCATAATGAATTAACTAGAAATAACTTTGCAAGGAGAGCCAAAGCTAAGACCCCCGAAAC\tnon_coding\t1\t15\tFALSE\tDefinitely noncoding\nSRR306838.16841308 Ibis_Run100924_C3PO:6:85:6205:5805/1\tCAGGAATGAGGCCCCGACTAAAATTCGCTGCAAAAGCCCAAAATCTAGTTAGCATAAATTCCTCAGACATG\tcoding\t0\t15\tFALSE\t\nSRR306838.16841308 Ibis_Run100924_C3PO:6:85:6205:5805/1\tCAGGAATGAGGCCCCGACTAAAATTCGCTGCAAAAGCCCAAAATCTAGTTAGCATAAATTCCTCAGACATG\tnon_coding\t0.0701754386\t15\tFALSE\t'''\nblat_results = pd.read_csv(StringIO(s), sep='\\t', index_col=0)\nprint(blat_results.shape)\nblat_results.head()",
    "persistent_id": "f3c963f2-8657-4743-8cd3-a241b022e120"
   },
   "outputs": [],
   "source": [
    "s = '''sequence_id\tsequence\tcompared_to\tjaccard\tksize\tis_coding\tNotes\n",
    "SRR306838.10559374 Ibis_Run100924_C3PO:6:51:17601:17119/1\tCGCTTGCTTAATACTGACATCAATAATATTAGGAAAATCGCAATATAACTGTAAATCCTGTTCTGTC\tcoding\t0.03773584906\t15\tTRUE\t\n",
    "SRR306838.10559374 Ibis_Run100924_C3PO:6:51:17601:17119/1\tCGCTTGCTTAATACTGACATCAATAATATTAGGAAAATCGCAATATAACTGTAAATCCTGTTCTGTC\tnon_coding\t0\t15\tTRUE\t\n",
    "SRR306838.6196593 Ibis_Run100924_C3PO:6:29:16733:12435/1\tTCTAGAATGTGAAATAACGTACTTCATGTGTCTTCTTACCAAAAATACCAACGATAAGGGGAAAAGCCATC\tcoding\t0.0350877193\t15\tFALSE\t\n",
    "SRR306838.6196593 Ibis_Run100924_C3PO:6:29:16733:12435/1\tTCTAGAATGTGAAATAACGTACTTCATGTGTCTTCTTACCAAAAATACCAACGATAAGGGGAAAAGCCATC\tnon_coding\t0.01754385965\t15\tFALSE\t\n",
    "SRR306838.20767303 Ibis_Run100924_C3PO:6:104:6864:5062/1\tCAATCATCATCACTTTCTAATTCCAGAATATTTTCATCACCCCAAAAAGAAATCCTAAATCCATTAGC\tcoding\t0.09259259259\t15\tFALSE\t\n",
    "SRR306838.20767303 Ibis_Run100924_C3PO:6:104:6864:5062/1\tCAATCATCATCACTTTCTAATTCCAGAATATTTTCATCACCCCAAAAAGAAATCCTAAATCCATTAGC\tnon_coding\t0.4074074074\t15\tFALSE\t\n",
    "SRR306838.12582274 Ibis_Run100924_C3PO:6:62:11779:17975/1\tCAAAAGTGAAGACCTCCCTGGGGTCTTCAAAGACAGCCTTTGCTCTCCATGTAGCCAATGGTGCTCT\tcoding\t0.03773584906\t15\tFALSE\t\n",
    "SRR306838.12582274 Ibis_Run100924_C3PO:6:62:11779:17975/1\tCAAAAGTGAAGACCTCCCTGGGGTCTTCAAAGACAGCCTTTGCTCTCCATGTAGCCAATGGTGCTCT\tnon_coding\t0.05660377358\t15\tFALSE\t\n",
    "SRR306838.13334230 Ibis_Run100924_C3PO:6:66:16579:20350/1\tGTAACCCTTAATTCCTCAGAAAAAATAGACAACATAGTGGAGTGGGATGGAGGAAC\tcoding\t0.04761904762\t15\tFALSE\t\n",
    "SRR306838.13334230 Ibis_Run100924_C3PO:6:66:16579:20350/1\tGTAACCCTTAATTCCTCAGAAAAAATAGACAACATAGTGGAGTGGGATGGAGGAAC\tnon_coding\t0.1428571429\t15\tFALSE\t\n",
    "SRR306838.2740879 Ibis_Run100924_C3PO:6:13:11155:5248/1\tCTGTGATTATTTTTTTTCCTAGCATTTGTTCTTTCAGAAAAGGACTGAACTCTAAATTCTGGACTTGAAGACTG\tcoding\t0.06666666667\t15\tTRUE\tSecond hit is in LINE element\n",
    "SRR306838.2740879 Ibis_Run100924_C3PO:6:13:11155:5248/1\tCTGTGATTATTTTTTTTCCTAGCATTTGTTCTTTCAGAAAAGGACTGAACTCTAAATTCTGGACTTGAAGACTG\tnon_coding\t0.08333333333\t15\tTRUE\tSecond hit is in LINE element\n",
    "SRR306838.6813354 Ibis_Run100924_C3PO:6:32:10591:13073/1\tGTTTGATTCTTGACAATTTCTTCTGGAACAAGTCTTTCATATACATTAGACTGGTATCATTGAGTTCTGAGC\tcoding\t0.03448275862\t15\tFALSE\tLots of imperfect matches\n",
    "SRR306838.6813354 Ibis_Run100924_C3PO:6:32:10591:13073/1\tGTTTGATTCTTGACAATTTCTTCTGGAACAAGTCTTTCATATACATTAGACTGGTATCATTGAGTTCTGAGC\tnon_coding\t0.08620689655\t15\tFALSE\tLots of imperfect matches\n",
    "SRR306838.23113368 Ibis_Run100924_C3PO:6:114:13840:18459/1\tCACAAGGCTAACATACACAATCTGTAACACGAGATGGATAGCACACACATATGACACAATTTC\tcoding\t0\t15\tFALSE\t\n",
    "SRR306838.23113368 Ibis_Run100924_C3PO:6:114:13840:18459/1\tCACAAGGCTAACATACACAATCTGTAACACGAGATGGATAGCACACACATATGACACAATTTC\tnon_coding\t0\t15\tFALSE\t\n",
    "SRR306838.10872941 Ibis_Run100924_C3PO:6:53:6164:10522/1\tCTGTAGTGTGGTCCATTCCCAGACAGCAACATGCAAGAATAAGTTTACAATACACTCAGCCCTTCTG\tcoding\t0.01886792453\t15\tFALSE\t\n",
    "SRR306838.10872941 Ibis_Run100924_C3PO:6:53:6164:10522/1\tCTGTAGTGTGGTCCATTCCCAGACAGCAACATGCAAGAATAAGTTTACAATACACTCAGCCCTTCTG\tnon_coding\t0.01886792453\t15\tFALSE\t\n",
    "SRR306838.6192120 Ibis_Run100924_C3PO:6:29:5833:11991/1\tTAGGAAAATAGTAATATTTGCAACTTATGAATGATAAGTCAGAAAAGTTACATGGAATGTTAAATTTT\tcoding\t0.1296296296\t15\tFALSE\t\n",
    "SRR306838.6192120 Ibis_Run100924_C3PO:6:29:5833:11991/1\tTAGGAAAATAGTAATATTTGCAACTTATGAATGATAAGTCAGAAAAGTTACATGGAATGTTAAATTTT\tnon_coding\t0.05555555556\t15\tFALSE\t\n",
    "SRR306838.21295280 Ibis_Run100924_C3PO:6:106:2590:13965/1\tCTGATAGACTGAAACTGGTTTTGTTATTCTTAACGTTCTCCAGTCTGCACTCTGCTGTGCTGTCTGTGCTC\tcoding\t0.1929824561\t15\tFALSE\t\n",
    "SRR306838.21295280 Ibis_Run100924_C3PO:6:106:2590:13965/1\tCTGATAGACTGAAACTGGTTTTGTTATTCTTAACGTTCTCCAGTCTGCACTCTGCTGTGCTGTCTGTGCTC\tnon_coding\t0.0701754386\t15\tFALSE\t\n",
    "SRR306838.21201208 Ibis_Run100924_C3PO:6:106:2763:5109/1\tTTAAGTTCTAGTCTGTGAGCACTTGTAGTTCAATAATCGTCATCTTCATCAGAGTCCATTACTTTTCTTCTGTTG\tcoding\t0.1147540984\t15\tFALSE\tstop codon\n",
    "SRR306838.21201208 Ibis_Run100924_C3PO:6:106:2763:5109/1\tTTAAGTTCTAGTCTGTGAGCACTTGTAGTTCAATAATCGTCATCTTCATCAGAGTCCATTACTTTTCTTCTGTTG\tnon_coding\t0.06557377049\t15\tFALSE\tstop codon\n",
    "SRR306838.18327923 Ibis_Run100924_C3PO:6:92:9077:13885/1\tAAATAAGGTAACATTTAACAATAATCTGATACACATAAATAGAGAAAGAGCAATTGATAAAGTAAATG\tcoding\t0.01851851852\t15\tFALSE\t\n",
    "SRR306838.18327923 Ibis_Run100924_C3PO:6:92:9077:13885/1\tAAATAAGGTAACATTTAACAATAATCTGATACACATAAATAGAGAAAGAGCAATTGATAAAGTAAATG\tnon_coding\t0.2222222222\t15\tFALSE\t\n",
    "SRR306838.4880582 Ibis_Run100924_C3PO:6:23:17413:5436/1\tCTTGGATCCACCATACTCAAGAGTTATTACACAAAGGGAAACAGAAAATAACCAAATGACATCAGAA\tcoding\t1\t15\tTRUE\t\n",
    "SRR306838.4880582 Ibis_Run100924_C3PO:6:23:17413:5436/1\tCTTGGATCCACCATACTCAAGAGTTATTACACAAAGGGAAACAGAAAATAACCAAATGACATCAGAA\tnon_coding\t0.1698113208\t15\tTRUE\t\n",
    "SRR306838.21417895 Ibis_Run100924_C3PO:6:107:8793:5012/1\tCCAACACATCCAATTTGTATTTTCTTAAATATGTGTTTCTTAGGTATCTAAGGATACATGAGCGAGCCC\tcoding\t0\t15\tFALSE\t\n",
    "SRR306838.21417895 Ibis_Run100924_C3PO:6:107:8793:5012/1\tCCAACACATCCAATTTGTATTTTCTTAAATATGTGTTTCTTAGGTATCTAAGGATACATGAGCGAGCCC\tnon_coding\t0.01818181818\t15\tFALSE\t\n",
    "SRR306838.17165743 Ibis_Run100924_C3PO:6:86:18789:18450/1\tATCTCTTGTAATAATTCAACATATTCCCTGGCTATTAACTAATTTCCAAGCCTGAACTGTCA\tcoding\t0.04166666667\t15\tFALSE\t\n",
    "SRR306838.17165743 Ibis_Run100924_C3PO:6:86:18789:18450/1\tATCTCTTGTAATAATTCAACATATTCCCTGGCTATTAACTAATTTCCAAGCCTGAACTGTCA\tnon_coding\t0\t15\tFALSE\t\n",
    "SRR306838.21229494 Ibis_Run100924_C3PO:6:106:6163:7753/1\tTGAGGCAAACAGCAAGAGTAAGCAGTGTTACTTGCAGGTACTTTGGTTAATGTTGATTTAAATTTTCATG\tcoding\t0\t15\tFALSE\tPerfect match to another location with a DNA element\n",
    "SRR306838.21229494 Ibis_Run100924_C3PO:6:106:6163:7753/1\tTGAGGCAAACAGCAAGAGTAAGCAGTGTTACTTGCAGGTACTTTGGTTAATGTTGATTTAAATTTTCATG\tnon_coding\t0.03571428571\t15\tFALSE\t\n",
    "SRR306838.21218773 Ibis_Run100924_C3PO:6:106:16921:6743/1\tCAATGCCGTGCCAGTGGAGACTGTTCTCGTATGCC\tcoding\t0.09523809524\t15\tTRUE\tDeinitely coding\n",
    "SRR306838.21218773 Ibis_Run100924_C3PO:6:106:16921:6743/1\tCAATGCCGTGCCAGTGGAGACTGTTCTCGTATGCC\tnon_coding\t0\t15\tTRUE\t\n",
    "SRR306838.20124664 Ibis_Run100924_C3PO:6:101:4701:5309/1\tCCTATACCTTCTGCATAATGAATTAACTAGAAATAACTTTGCAAGGAGAGCCAAAGCTAAGACCCCCGAAAC\tcoding\t0.01724137931\t15\tFALSE\tDefinitely noncoding\n",
    "SRR306838.20124664 Ibis_Run100924_C3PO:6:101:4701:5309/1\tCCTATACCTTCTGCATAATGAATTAACTAGAAATAACTTTGCAAGGAGAGCCAAAGCTAAGACCCCCGAAAC\tnon_coding\t1\t15\tFALSE\tDefinitely noncoding\n",
    "SRR306838.16841308 Ibis_Run100924_C3PO:6:85:6205:5805/1\tCAGGAATGAGGCCCCGACTAAAATTCGCTGCAAAAGCCCAAAATCTAGTTAGCATAAATTCCTCAGACATG\tcoding\t0\t15\tFALSE\t\n",
    "SRR306838.16841308 Ibis_Run100924_C3PO:6:85:6205:5805/1\tCAGGAATGAGGCCCCGACTAAAATTCGCTGCAAAAGCCCAAAATCTAGTTAGCATAAATTCCTCAGACATG\tnon_coding\t0.0701754386\t15\tFALSE\t'''\n",
    "blat_results = pd.read_csv(StringIO(s), sep='\\t', index_col=0)\n",
    "print(blat_results.shape)\n",
    "blat_results.head()"
   ]
  },
  {
   "cell_type": "code",
   "execution_count": null,
   "metadata": {
    "execution_event_id": "58e943d2-c709-4a5e-98c6-d19b9f0e7868",
    "last_executed_text": "true_coding = blat_results['is_coding']\ntrue_coding = true_coding.loc[~true_coding.index.duplicated()]\ntrue_coding.head()",
    "persistent_id": "9fa82db5-58ea-4af3-acad-9097c2aa8bc5"
   },
   "outputs": [],
   "source": [
    "true_coding = blat_results['is_coding']\n",
    "true_coding = true_coding.loc[~true_coding.index.duplicated()]\n",
    "true_coding.head()"
   ]
  },
  {
   "cell_type": "code",
   "execution_count": null,
   "metadata": {
    "persistent_id": "7d87775a-12bb-4cfb-b522-53625e0e46ab"
   },
   "outputs": [],
   "source": []
  },
  {
   "cell_type": "code",
   "execution_count": null,
   "metadata": {
    "execution_event_id": "d532873d-f27e-4542-826f-57d3af43f21a",
    "last_executed_text": "manual_classification_df['is_coding'] = true_coding\nprint(manual_classification_df.shape)\nmanual_classification_df",
    "persistent_id": "6b55768a-f285-4a67-ab1a-cb748e428978"
   },
   "outputs": [],
   "source": [
    "manual_classification_df['is_coding'] = true_coding\n",
    "print(manual_classification_df.shape)\n",
    "manual_classification_df"
   ]
  },
  {
   "cell_type": "code",
   "execution_count": null,
   "metadata": {
    "execution_event_id": "02b8a0a0-261d-43ef-90e5-bf7e6b246fc6",
    "last_executed_text": "fpr, tpr, thresholds = metrics.roc_curve(manual_classification_df['is_coding'], manual_classification_df['max_peptide_coding_kmers'])\n\nfig, ax = plt.subplots()\nlw = 2\nax.plot(fpr, tpr, lw=2, color='darkorange')\nax.plot([0, 1], [0, 1], color='navy', lw=lw, linestyle='--')",
    "persistent_id": "7fb00c6a-626e-457d-8273-e2b7ed8e545e"
   },
   "outputs": [],
   "source": [
    "fpr, tpr, thresholds = metrics.roc_curve(manual_classification_df['is_coding'], manual_classification_df['max_peptide_coding_kmers'])\n",
    "\n",
    "fig, ax = plt.subplots()\n",
    "lw = 2\n",
    "ax.plot(fpr, tpr, lw=2, color='darkorange')\n",
    "ax.plot([0, 1], [0, 1], color='navy', lw=lw, linestyle='--')\n",
    "ax.set(xlabel='False Positive Rate', ylabel='True Positive Rate')"
   ]
  },
  {
   "cell_type": "code",
   "execution_count": null,
   "metadata": {
    "execution_event_id": "c3bd6e2d-c35d-4d57-b50b-913f597d8bff",
    "last_executed_text": "kmers_in_peptide_db",
    "persistent_id": "74df75ff-6eec-4174-b8a5-b521a78c903e"
   },
   "outputs": [],
   "source": [
    "kmers_in_peptide_db"
   ]
  },
  {
   "cell_type": "code",
   "execution_count": null,
   "metadata": {
    "execution_event_id": "5fc046de-c4ac-4faf-ad02-831b3a9e37ca",
    "last_executed_text": "record.seq.reverse_complement()",
    "persistent_id": "e9c939ed-e704-4d0c-96ba-0a78453670b7"
   },
   "outputs": [],
   "source": [
    "record.seq.reverse_complement()"
   ]
  },
  {
   "cell_type": "markdown",
   "metadata": {},
   "source": [
    "\n",
    "> hi! I’m traveling so may take me a bit. suggest -> sourmash or general channels since luiz and others may have thoughts\n",
    "> I have done this a lot so I’ll look at it tho!\n",
    "> p.s. try ‘hashbits’ rather than nodegraph.add, if that makes sense - will track down my advice in more detail shortly :slightly_smiling_face:\n",
    "> but never mind that, let someone look first"
   ]
  },
  {
   "cell_type": "markdown",
   "metadata": {
    "persistent_id": "b276171f-8b43-4fa5-8686-5929dc930ba3"
   },
   "source": [
    "## Try on the whole dataset"
   ]
  },
  {
   "cell_type": "code",
   "execution_count": null,
   "metadata": {
    "persistent_id": "660206bb-b037-4a7f-822e-4e11c94203fe"
   },
   "outputs": [],
   "source": [
    "with screed"
   ]
  },
  {
   "cell_type": "code",
   "execution_count": null,
   "metadata": {
    "execution_event_id": "af6cadfe-36b5-4dff-8538-f203c90161da",
    "last_executed_text": "classification_lines = []\n\n\nscoring_lines = []\n\ndef six_frame_translation_no_stops(seq):\n    forward_translations = three_frame_translation_no_stops(seq)\n    reverse_translations = three_frame_translation_no_stops(seq.reverse_complement())\n    return forward_translations + reverse_translations\n\nverbose = False\n\nwith gzip.open('SRR306838_GSM752691_hsa_br_F_1_trimmed.fq.gz', 'rt') as f:\n    for record in SeqIO.parse(f, 'fastq'):\n        if verbose:\n            print()\n            print(record.description)\n            print(str(record.seq))\n        translations = six_frame_translation_no_stops(record.seq)\n        \n        max_fraction = 0\n        for translation in translations:\n            if len(translation) < peptide_ksize:\n                continue\n            if verbose:\n                print(f\"\\t{translation}\")\n            kmers = list(set(kmerize(str(translation), peptide_ksize)))\n            hashes = [hash_murmur(kmer) for kmer in kmers]\n            n_kmers = len(kmers)\n            n_kmers_in_peptide_db = sum(1 for h in hashes if peptide_graph.get(h) > 0)\n            if n_kmers < (len(translation) - peptide_ksize + 1)/2:\n                if verbose:\n                    print(f'Low complexity sequence!!! n_kmers < (len(read.seq) - ksize + 1)/2  --> {n_kmers} < {(len(record.seq) - ksize + 1)/2}')\n                    print(record.description)\n                    print(record.seq)\n                classification_lines.append([record.description, 'low complexity'])\n                continue\n            \n            kmers_in_peptide_db = {(k, h): peptide_graph.get(h) for k, h in zip(kmers, hashes)}\n            fraction_in_peptide_db = n_kmers_in_peptide_db/n_kmers\n            max_fraction = max(max_fraction, fraction_in_peptide_db)\n            if fraction_in_peptide_db > 0.9:\n                classification_lines.append([record.description, 'coding'])\n            else:\n                classification_lines.append([record.description, 'non-coding'])\n            if verbose:\n                pprint(kmers_in_peptide_db)\n                print(f'n_kmers_in_peptide_db/n_kmers: {n_kmers_in_peptide_db}/{n_kmers} = {fraction_in_peptide_db}')\n        scoring_lines.append([record.description, max_fraction])",
    "persistent_id": "51192b86-d752-4730-a0aa-2ea23495690e"
   },
   "outputs": [],
   "source": [
    "classification_lines = []\n",
    "\n",
    "\n",
    "scoring_lines = []\n",
    "\n",
    "def six_frame_translation_no_stops(seq):\n",
    "    forward_translations = three_frame_translation_no_stops(seq)\n",
    "    reverse_translations = three_frame_translation_no_stops(seq.reverse_complement())\n",
    "    return forward_translations + reverse_translations\n",
    "\n",
    "verbose = False\n",
    "\n",
    "def classify_protein_coding_reads(reads, peptide_graph, peptide_ksize, jaccard_minimum=0.9, first_n=None):\n",
    "\n",
    "    with gzip.open('SRR306838_GSM752691_hsa_br_F_1_trimmed.fq.gz', 'rt') as f:\n",
    "        for record in SeqIO.parse(f, 'fastq'):\n",
    "            if verbose:\n",
    "                print()\n",
    "                print(record.description)\n",
    "                print(str(record.seq))\n",
    "            translations = six_frame_translation_no_stops(record.seq)\n",
    "\n",
    "            max_fraction = 0\n",
    "            for translation in translations:\n",
    "                if len(translation) < peptide_ksize:\n",
    "                    continue\n",
    "                if verbose:\n",
    "                    print(f\"\\t{translation}\")\n",
    "                kmers = list(set(kmerize(str(translation), peptide_ksize)))\n",
    "                hashes = [hash_murmur(kmer) for kmer in kmers]\n",
    "                n_kmers = len(kmers)\n",
    "                n_kmers_in_peptide_db = sum(1 for h in hashes if peptide_graph.get(h) > 0)\n",
    "                if n_kmers < (len(translation) - peptide_ksize + 1)/2:\n",
    "                    if verbose:\n",
    "                        print(f'Low complexity sequence!!! n_kmers < (len(read.seq) - ksize + 1)/2  --> {n_kmers} < {(len(record.seq) - ksize + 1)/2}')\n",
    "                        print(record.description)\n",
    "                        print(record.seq)\n",
    "                    classification_lines.append([record.description, 'low complexity'])\n",
    "                    continue\n",
    "\n",
    "                kmers_in_peptide_db = {(k, h): peptide_graph.get(h) for k, h in zip(kmers, hashes)}\n",
    "                fraction_in_peptide_db = n_kmers_in_peptide_db/n_kmers\n",
    "                max_fraction = max(max_fraction, fraction_in_peptide_db)\n",
    "                if fraction_in_peptide_db > jaccard_threshold:\n",
    "                    classification_lines.append([record.description, 'coding'])\n",
    "                else:\n",
    "                    classification_lines.append([record.description, 'non-coding'])\n",
    "                if verbose:\n",
    "                    pprint(kmers_in_peptide_db)\n",
    "                    print(f'n_kmers_in_peptide_db/n_kmers: {n_kmers_in_peptide_db}/{n_kmers} = {fraction_in_peptide_db}')\n",
    "            scoring_lines.append([record.description, max_fraction])\n",
    "\n",
    "        classification_df = pd.DataFrame(classification_lines, columns=['read_id', 'classification'])\n",
    "        print(classification_df.shape)\n",
    "        classification_df.head()"
   ]
  },
  {
   "cell_type": "code",
   "execution_count": 24,
   "metadata": {
    "execution_event_id": "90f24ab0-bff3-4976-bcab-83ae985ae50b",
    "last_executed_text": "\n\ndef six_frame_translation_no_stops(seq):\n    forward_translations = three_frame_translation_no_stops(seq)\n    reverse_translations = three_frame_translation_no_stops(seq.reverse_complement())\n    return forward_translations + reverse_translations\n\nverbose = False\n\ndef classify_protein_coding_reads(reads, peptide_graph, peptide_ksize, jaccard_minimum=0.9, first_n=None, verbose=False):\n    \n    classification_lines = []\n\n    scoring_lines = []\n\n    with gzip.open(reads, 'rt') as f:\n        for record in SeqIO.parse(f, 'fastq'):\n            if first_n is not None and i > first_n:\n                break\n\n            if verbose:\n                print()\n                print(record.description)\n                print(str(record.seq))\n            translations = six_frame_translation_no_stops(record.seq)\n\n            max_fraction = 0\n            for translation in translations:\n                if len(translation) < peptide_ksize:\n                    continue\n                if verbose:\n                    print(f\"\\t{translation}\")\n                kmers = list(set(kmerize(str(translation), peptide_ksize)))\n                hashes = [hash_murmur(kmer) for kmer in kmers]\n                n_kmers = len(kmers)\n                n_kmers_in_peptide_db = sum(1 for h in hashes if peptide_graph.get(h) > 0)\n                if n_kmers < (len(translation) - peptide_ksize + 1)/2:\n                    if verbose:\n                        print(f'Low complexity sequence!!! n_kmers < (len(read.seq) - ksize + 1)/2  --> {n_kmers} < {(len(record.seq) - ksize + 1)/2}')\n                        print(record.description)\n                        print(record.seq)\n                    classification_lines.append([record.description, 'low complexity'])\n                    continue\n\n                kmers_in_peptide_db = {(k, h): peptide_graph.get(h) for k, h in zip(kmers, hashes)}\n                fraction_in_peptide_db = n_kmers_in_peptide_db/n_kmers\n                max_fraction = max(max_fraction, fraction_in_peptide_db)\n                if fraction_in_peptide_db > jaccard_minimum:\n                    classification_lines.append([record.description, 'coding'])\n                else:\n                    classification_lines.append([record.description, 'non-coding'])\n                if verbose:\n                    pprint(kmers_in_peptide_db)\n                    print(f'n_kmers_in_peptide_db/n_kmers: {n_kmers_in_peptide_db}/{n_kmers} = {fraction_in_peptide_db}')\n                scoring_lines.append([record.description, max_fraction])\n\n        classification_df = pd.DataFrame(classification_lines, columns=['read_id', 'classification'])\n        score_df = pd.DataFrame(scoring_lines, columns=['read_id', 'coding_score'])\n        \n        return classification_df, score_df\n    \n    \n",
    "persistent_id": "5d0726af-434e-49ef-a388-15a28df0d4da"
   },
   "outputs": [],
   "source": [
    "\n",
    "\n",
    "def six_frame_translation_no_stops(seq):\n",
    "    forward_translations = three_frame_translation_no_stops(seq)\n",
    "    reverse_translations = three_frame_translation_no_stops(seq.reverse_complement())\n",
    "    return forward_translations + reverse_translations\n",
    "\n",
    "verbose = False\n",
    "\n",
    "def classify_protein_coding_reads(reads, peptide_graph, peptide_ksize, jaccard_minimum=0.9, first_n=None, verbose=False):\n",
    "    \n",
    "    classification_lines = []\n",
    "\n",
    "    scoring_lines = []\n",
    "\n",
    "    with gzip.open(reads, 'rt') as f:\n",
    "        for record in SeqIO.parse(f, 'fastq'):\n",
    "            if first_n is not None and i > first_n:\n",
    "                break\n",
    "\n",
    "            if verbose:\n",
    "                print()\n",
    "                print(record.description)\n",
    "                print(str(record.seq))\n",
    "            translations = six_frame_translation_no_stops(record.seq)\n",
    "\n",
    "            max_fraction = 0\n",
    "            for translation in translations:\n",
    "                if len(translation) < peptide_ksize:\n",
    "                    continue\n",
    "                if verbose:\n",
    "                    print(f\"\\t{translation}\")\n",
    "                kmers = list(set(kmerize(str(translation), peptide_ksize)))\n",
    "                hashes = [hash_murmur(kmer) for kmer in kmers]\n",
    "                n_kmers = len(kmers)\n",
    "                n_kmers_in_peptide_db = sum(1 for h in hashes if peptide_graph.get(h) > 0)\n",
    "                if n_kmers < (len(translation) - peptide_ksize + 1)/2:\n",
    "                    if verbose:\n",
    "                        print(f'Low complexity sequence!!! n_kmers < (len(read.seq) - ksize + 1)/2  --> {n_kmers} < {(len(record.seq) - ksize + 1)/2}')\n",
    "                        print(record.description)\n",
    "                        print(record.seq)\n",
    "                    classification_lines.append([record.description, 'low complexity'])\n",
    "                    continue\n",
    "\n",
    "                kmers_in_peptide_db = {(k, h): peptide_graph.get(h) for k, h in zip(kmers, hashes)}\n",
    "                fraction_in_peptide_db = n_kmers_in_peptide_db/n_kmers\n",
    "                max_fraction = max(max_fraction, fraction_in_peptide_db)\n",
    "                if fraction_in_peptide_db > jaccard_minimum:\n",
    "                    classification_lines.append([record.description, 'coding'])\n",
    "                else:\n",
    "                    classification_lines.append([record.description, 'non-coding'])\n",
    "                if verbose:\n",
    "                    pprint(kmers_in_peptide_db)\n",
    "                    print(f'n_kmers_in_peptide_db/n_kmers: {n_kmers_in_peptide_db}/{n_kmers} = {fraction_in_peptide_db}')\n",
    "                scoring_lines.append([record.description, max_fraction])\n",
    "\n",
    "        classification_df = pd.DataFrame(classification_lines, columns=['read_id', 'classification'])\n",
    "        score_df = pd.DataFrame(scoring_lines, columns=['read_id', 'coding_score'])\n",
    "        \n",
    "        return classification_df, score_df\n",
    "    \n",
    "    \n"
   ]
  },
  {
   "cell_type": "code",
   "execution_count": null,
   "metadata": {
    "execution_event_id": "6251d561-f3ee-4b65-9398-11df34aa07c0",
    "last_executed_text": "classify_protein_coding_reads('SRR306838_GSM752691_hsa_br_F_1_trimmed.fq.gz', peptide_graph, peptide_ksize, verbose=False)",
    "persistent_id": "607b9ea5-7fb0-465d-b7f8-05b402f0b361"
   },
   "outputs": [],
   "source": [
    "class_df, score_df = classify_protein_coding_reads('SRR306838_GSM752691_hsa_br_F_1_trimmed.fq.gz', peptide_graph, peptide_ksize, verbose=False)"
   ]
  },
  {
   "cell_type": "code",
   "execution_count": null,
   "metadata": {
    "execution_event_id": "1875b331-069e-4b3d-b512-f207ae6074d0",
    "last_executed_text": "folder = '/home/olga/data_sm/kmer-hashing/brawand2011/human/'\n! ls -lha $folder\n\ncoding_read_ids = pd.read_csv(f\"{folder}/SRR306838_GSM752691_hsa_br_F_1Aligned.sortedByCoord.out.bam.unspliced.out_CDS_without_stop_codon_or_utr.read_ids.txt\", \n                                   header=None, squeeze=True)\nprint(coding_read_ids.shape)\ncoding_read_ids.head()\n\ntrue_coding_read_ids = set(coding_read_ids.values)\nlen(true_coding_read_ids)\n\nunspliced_read_ids_series = pd.read_csv(f\"{folder}/SRR306838_GSM752691_hsa_br_F_1Aligned.sortedByCoord.out.bam.unspliced.read_ids.txt\", \n                                   header=None, squeeze=True)\nprint(unspliced_read_ids_series.shape)\nunspliced_read_ids_series.head()\n\nunspliced_reads = set(unspliced_read_ids_series.values)",
    "persistent_id": "40e38758-05d9-498d-8219-f998a0f1ea43"
   },
   "outputs": [],
   "source": [
    "folder = '/home/olga/data_sm/kmer-hashing/brawand2011/human/'\n",
    "! ls -lha $folder\n",
    "\n",
    "coding_read_ids = pd.read_csv(f\"{folder}/SRR306838_GSM752691_hsa_br_F_1Aligned.sortedByCoord.out.bam.unspliced.out_CDS_without_stop_codon_or_utr.read_ids.txt\", \n",
    "                                   header=None, squeeze=True)\n",
    "print(coding_read_ids.shape)\n",
    "coding_read_ids.head()\n",
    "\n",
    "true_coding_read_ids = set(coding_read_ids.values)\n",
    "len(true_coding_read_ids)\n",
    "\n",
    "unspliced_read_ids_series = pd.read_csv(f\"{folder}/SRR306838_GSM752691_hsa_br_F_1Aligned.sortedByCoord.out.bam.unspliced.read_ids.txt\", \n",
    "                                   header=None, squeeze=True)\n",
    "print(unspliced_read_ids_series.shape)\n",
    "unspliced_read_ids_series.head()\n",
    "\n",
    "unspliced_reads = set(unspliced_read_ids_series.values)"
   ]
  },
  {
   "cell_type": "code",
   "execution_count": null,
   "metadata": {
    "execution_event_id": "181ea263-5299-432f-9163-65ad8ab77f58",
    "last_executed_text": "def subset_to_spliced_and_add_coding_classification(full_classification, unspliced_reads, true_coding_reads, read_id_col='read_id'):\n    full_classification['short_sequence_id'] = full_classification[read_id_col].str.split().str[0]\n\n    full_classification_unspliced = full_classification.query(\"short_sequence_id in @unspliced_reads\")\n\n    full_classification_unspliced['is_coding'] = full_classification_unspliced.short_sequence_id.isin(true_coding_reads)\n    return full_classification_unspliced",
    "persistent_id": "00bc39d3-aad4-4160-8447-72190215a6b7"
   },
   "outputs": [],
   "source": [
    "def subset_to_spliced_and_add_coding_classification(full_classification, unspliced_reads, true_coding_reads, read_id_col='read_id'):\n",
    "    full_classification['short_sequence_id'] = full_classification[read_id_col].str.split().str[0]\n",
    "\n",
    "    full_classification_unspliced = full_classification.query(\"short_sequence_id in @unspliced_reads\")\n",
    "\n",
    "    full_classification_unspliced['is_coding'] = full_classification_unspliced.short_sequence_id.isin(true_coding_reads)\n",
    "    return full_classification_unspliced"
   ]
  },
  {
   "cell_type": "code",
   "execution_count": null,
   "metadata": {
    "execution_event_id": "a7d37ffc-7ccd-4b32-aeaa-c99531dab2ea",
    "last_executed_text": "score_df_unspliced = subset_to_spliced_and_add_coding_classification(score_df, unspliced_reads, true_coding_read_ids)\nprint(score_df_unspliced.shape)\nscore_df_unspliced.head()",
    "persistent_id": "4de7dc6b-27b1-490c-b738-130f6968dc24"
   },
   "outputs": [],
   "source": [
    "score_df_unspliced = subset_to_spliced_and_add_coding_classification(score_df, unspliced_reads, true_coding_read_ids)\n",
    "print(score_df_unspliced.shape)\n",
    "score_df_unspliced.head()"
   ]
  },
  {
   "cell_type": "code",
   "execution_count": null,
   "metadata": {
    "execution_event_id": "3e1910e1-b9f0-4b71-8c5a-37631f234cae",
    "last_executed_text": "classification_df_unspliced = subset_to_spliced_and_add_coding_classification(classification_df, unspliced_reads, true_coding_read_ids)\nprint(classification_df_unspliced.shape)\nclassification_df_unspliced.head()",
    "persistent_id": "e43d2912-032a-4590-8d8f-5e607ecb2fe1"
   },
   "outputs": [],
   "source": [
    "classification_df_unspliced = subset_to_spliced_and_add_coding_classification(classification_df, unspliced_reads, true_coding_read_ids)\n",
    "print(classification_df_unspliced.shape)\n",
    "classification_df_unspliced.head()"
   ]
  },
  {
   "cell_type": "code",
   "execution_count": null,
   "metadata": {
    "execution_event_id": "df967d34-06df-4a9a-ad26-4ff7e05f785a",
    "last_executed_text": "metrics.roc_auc_score(score_df_unspliced['is_coding'], score_df_unspliced['coding_score'])",
    "persistent_id": "6d411b3f-fa00-40f2-8e9b-391e0d57dab5"
   },
   "outputs": [],
   "source": [
    "metrics.roc_auc_score(score_df_unspliced['is_coding'], score_df_unspliced['coding_score'])"
   ]
  },
  {
   "cell_type": "code",
   "execution_count": null,
   "metadata": {
    "execution_event_id": "26472044-7fbf-451e-baae-5f706b01ce91",
    "last_executed_text": "sns.violinplot(x='is_coding', y='coding_score', data=score_df_unspliced)",
    "persistent_id": "59e0cd48-177f-430c-81f1-8a484aea8f2b"
   },
   "outputs": [],
   "source": [
    "sns.violinplot(x='is_coding', y='coding_score', data=score_df_unspliced)"
   ]
  },
  {
   "cell_type": "code",
   "execution_count": null,
   "metadata": {
    "execution_event_id": "04013d75-84b1-4123-b009-c2278f107472",
    "last_executed_text": "predicted = score_df_unspliced['coding_score'] > 0.9\ntarget = score_df_unspliced['is_coding']",
    "persistent_id": "c93318bc-cb4a-449e-8620-761d4a5b96b1"
   },
   "outputs": [],
   "source": [
    "predicted = score_df_unspliced['coding_score'] > 0.9\n",
    "target = score_df_unspliced['is_coding']"
   ]
  },
  {
   "cell_type": "code",
   "execution_count": null,
   "metadata": {
    "execution_event_id": "2f38376b-18ea-4604-b80d-95b2f306a189",
    "last_executed_text": "import numpy as np",
    "persistent_id": "ae8c5ade-1a68-4f68-9876-fb9324701f12"
   },
   "outputs": [],
   "source": [
    "import numpy as np"
   ]
  },
  {
   "cell_type": "code",
   "execution_count": null,
   "metadata": {
    "execution_event_id": "583dc17b-f4c2-4124-ac99-7d4897ad42f0",
    "last_executed_text": "print(np.mean(predicted == target))\nprint(metrics.classification_report(target, predicted, target_names=['noncoding', 'coding']))\nprint(metrics.confusion_matrix(target, predicted))",
    "persistent_id": "bb710f6e-a0a1-45d1-a549-818fac5fdfd4"
   },
   "outputs": [],
   "source": [
    "print(np.mean(predicted == target))\n",
    "print(metrics.classification_report(target, predicted, target_names=['noncoding', 'coding']))\n",
    "print(metrics.confusion_matrix(target, predicted))"
   ]
  },
  {
   "cell_type": "code",
   "execution_count": null,
   "metadata": {
    "execution_event_id": "45a511c5-48c9-4424-8ffc-bbf9ea4d26b1",
    "last_executed_text": "target_names=['noncoding', 'coding']\n\nconfusion = pd.DataFrame(metrics.confusion_matrix(target, predicted), index=target_names, columns=target_names)\n\nsns.heatmap(confusion, annot=True, fmt=',d')",
    "persistent_id": "39cc0eb4-8975-4a3f-af43-fbf79a380028"
   },
   "outputs": [],
   "source": [
    "target_names=['noncoding', 'coding']\n",
    "\n",
    "confusion = pd.DataFrame(metrics.confusion_matrix(target, predicted), index=target_names, columns=target_names)\n",
    "\n",
    "sns.heatmap(confusion, annot=True, fmt=',d')"
   ]
  },
  {
   "cell_type": "code",
   "execution_count": null,
   "metadata": {
    "persistent_id": "f5282dc0-2a45-4313-bbc9-a183edaf442e"
   },
   "outputs": [],
   "source": []
  }
 ],
 "metadata": {
  "history": [
   {
    "cell": {
     "executionCount": 1,
     "executionEventId": "79813a11-9233-4249-9207-e85a93bf3964",
     "hasError": false,
     "id": "321fb0f4-91ed-4e34-8caa-fe2c78f408fa",
     "outputs": [],
     "persistentId": "79625542-1410-409b-9c5b-1a7a556e5541",
     "text": "folder = '/home/olga/data_sm/kmer-hashing/classify_coding_vs_noncoding/'"
    },
    "executionTime": "2019-09-14T13:54:00.016Z"
   },
   {
    "cell": {
     "executionCount": 2,
     "executionEventId": "721e2943-4454-4aaa-894b-56bb8e81359e",
     "hasError": false,
     "id": "95cadfca-2767-42a8-be84-7e642c2e5191",
     "outputs": [
      {
       "name": "stdout",
       "output_type": "stream",
       "text": "/home/seqbot/ibm_sm/olga/kmer-hashing/classify_coding_vs_noncoding\n"
      }
     ],
     "persistentId": "f22c3722-b07d-4558-b117-1378d3941e78",
     "text": "cd $folder"
    },
    "executionTime": "2019-09-14T13:54:02.962Z"
   },
   {
    "cell": {
     "executionCount": 3,
     "executionEventId": "83a33059-46a7-4724-addd-6cf2f82042fa",
     "hasError": false,
     "id": "fa61d7f1-fae4-4513-ab21-8e48b076c0ce",
     "outputs": [
      {
       "name": "stdout",
       "output_type": "stream",
       "text": "total 56M\ndrwxrwxr-x 2 olga olga 4.0K Sep 14 06:51 \u001b[0m\u001b[01;34m.\u001b[0m/\ndrwxrwxr-x 4 olga olga 4.0K Sep 14 06:44 \u001b[01;34m..\u001b[0m/\n-rw-rw-r-- 1 olga olga  21M Sep 14 06:46 \u001b[01;31mHomo_sapiens.GRCh38.cds.all.fa.gz\u001b[0m\n-rw-rw-r-- 1 olga olga  16M Sep 14 06:46 \u001b[01;31mHomo_sapiens.GRCh38.ncrna.fa.gz\u001b[0m\n-rw-rw-r-- 1 olga olga  14M Sep 14 06:46 \u001b[01;31mHomo_sapiens.GRCh38.pep.all.fa.gz\u001b[0m\n-rw-rw-r-- 1 olga olga 489K Sep 14 06:51 human_ncrna_k15.nodegraph\n-rw-rw-r-- 1 olga olga   21 Sep 14 06:51 human_ncrna_k15.nodegraph.info\n-rw-rw-r-- 1 olga olga 5.7M Sep 14 06:51 human_ncrna_k15.nodegraph.tagset\n"
      }
     ],
     "persistentId": "f9bbce41-5893-489d-8f89-7d8fb0b0fe1e",
     "text": "ls -lha"
    },
    "executionTime": "2019-09-14T13:54:04.463Z"
   },
   {
    "cell": {
     "executionCount": 4,
     "executionEventId": "6b3f070e-739d-488c-bafd-048c445dd93a",
     "hasError": false,
     "id": "93685616-c02f-4cd1-9d16-3e730012559f",
     "outputs": [],
     "persistentId": "ca3c95ac-68f3-46f3-b085-b116e63bb8b0",
     "text": "from khmer import Nodegraph\nimport screed\n"
    },
    "executionTime": "2019-09-18T12:00:23.895Z"
   },
   {
    "cell": {
     "executionCount": 5,
     "executionEventId": "e4b05dfa-2900-4afe-a2c8-981ce1b6392e",
     "hasError": false,
     "id": "cc5866e5-4668-46b0-b34f-0350f6b32ad1",
     "outputs": [
      {
       "name": "stdout",
       "output_type": "stream",
       "text": "{'name': 'ENSP00000488240.1 pep chromosome:GRCh38:CHR_HSCHR7_2_CTG6:142847306:142847317:1 gene:ENSG00000282253.1 transcript:ENST00000631435.1 gene_biotype:TR_D_gene transcript_biotype:TR_D_gene gene_symbol:TRBD1 description:T cell receptor beta diversity 1 [Source:HGNC Symbol;Acc:HGNC:12158]', 'sequence': 'GTGG', 'description': ''}\n{'name': 'ENSP00000451042.1 pep chromosome:GRCh38:14:22438547:22438554:1 gene:ENSG00000223997.1 transcript:ENST00000415118.1 gene_biotype:TR_D_gene transcript_biotype:TR_D_gene gene_symbol:TRDD1 description:T cell receptor delta diversity 1 [Source:HGNC Symbol;Acc:HGNC:12254]', 'sequence': 'EI', 'description': ''}\n{'name': 'ENSP00000452494.1 pep chromosome:GRCh38:14:22449113:22449125:1 gene:ENSG00000228985.1 transcript:ENST00000448914.1 gene_biotype:TR_D_gene transcript_biotype:TR_D_gene gene_symbol:TRDD3 description:T cell receptor delta diversity 3 [Source:HGNC Symbol;Acc:HGNC:12256]', 'sequence': 'TGGY', 'description': ''}\n{'name': 'ENSP00000451515.1 pep chromosome:GRCh38:14:22439007:22439015:1 gene:ENSG00000237235.2 transcript:ENST00000434970.2 gene_biotype:TR_D_gene transcript_biotype:TR_D_gene gene_symbol:TRDD2 description:T cell receptor delta diversity 2 [Source:HGNC Symbol;Acc:HGNC:12255]', 'sequence': 'PSY', 'description': ''}\n"
      }
     ],
     "persistentId": "6d8b5522-6fc7-4ef7-8cfe-1b737f86dfe2",
     "text": "for i, record in zip(range(4), screed.open(\"Homo_sapiens.GRCh38.pep.all.fa.gz\")):\n    print(record)"
    },
    "executionTime": "2019-09-18T12:01:03.039Z"
   },
   {
    "cell": {
     "executionCount": 6,
     "executionEventId": "60f21808-9f12-43d1-93ab-06284eb39cf2",
     "hasError": false,
     "id": "cc5866e5-4668-46b0-b34f-0350f6b32ad1",
     "outputs": [
      {
       "name": "stdout",
       "output_type": "stream",
       "text": "{'name': 'ENSP00000488240.1 pep chromosome:GRCh38:CHR_HSCHR7_2_CTG6:142847306:142847317:1 gene:ENSG00000282253.1 transcript:ENST00000631435.1 gene_biotype:TR_D_gene transcript_biotype:TR_D_gene gene_symbol:TRBD1 description:T cell receptor beta diversity 1 [Source:HGNC Symbol;Acc:HGNC:12158]', 'sequence': 'GTGG', 'description': ''}\n{'name': 'ENSP00000451042.1 pep chromosome:GRCh38:14:22438547:22438554:1 gene:ENSG00000223997.1 transcript:ENST00000415118.1 gene_biotype:TR_D_gene transcript_biotype:TR_D_gene gene_symbol:TRDD1 description:T cell receptor delta diversity 1 [Source:HGNC Symbol;Acc:HGNC:12254]', 'sequence': 'EI', 'description': ''}\n{'name': 'ENSP00000452494.1 pep chromosome:GRCh38:14:22449113:22449125:1 gene:ENSG00000228985.1 transcript:ENST00000448914.1 gene_biotype:TR_D_gene transcript_biotype:TR_D_gene gene_symbol:TRDD3 description:T cell receptor delta diversity 3 [Source:HGNC Symbol;Acc:HGNC:12256]', 'sequence': 'TGGY', 'description': ''}\n{'name': 'ENSP00000451515.1 pep chromosome:GRCh38:14:22439007:22439015:1 gene:ENSG00000237235.2 transcript:ENST00000434970.2 gene_biotype:TR_D_gene transcript_biotype:TR_D_gene gene_symbol:TRDD2 description:T cell receptor delta diversity 2 [Source:HGNC Symbol;Acc:HGNC:12255]', 'sequence': 'PSY', 'description': ''}\n{'name': 'ENSP00000487941.1 pep chromosome:GRCh38:7:142786213:142786224:1 gene:ENSG00000282431.1 transcript:ENST00000632684.1 gene_biotype:TR_D_gene transcript_biotype:TR_D_gene gene_symbol:TRBD1 description:T cell receptor beta diversity 1 [Source:HGNC Symbol;Acc:HGNC:12158]', 'sequence': 'GTGG', 'description': ''}\n{'name': 'ENSP00000418639.1 pep chromosome:GRCh38:14:105865551:105865561:-1 gene:ENSG00000236597.1 transcript:ENST00000439842.1 gene_biotype:IG_D_gene transcript_biotype:IG_D_gene gene_symbol:IGHD7-27 description:immunoglobulin heavy diversity 7-27 [Source:HGNC Symbol;Acc:HGNC:5518]', 'sequence': 'LTG', 'description': ''}\n{'name': 'ENSP00000420733.1 pep chromosome:GRCh38:14:105881034:105881053:-1 gene:ENSG00000211907.1 transcript:ENST00000390567.1 gene_biotype:IG_D_gene transcript_biotype:IG_D_gene gene_symbol:IGHD1-26 description:immunoglobulin heavy diversity 1-26 [Source:HGNC Symbol;Acc:HGNC:5485]', 'sequence': 'GIVGAT', 'description': ''}\n{'name': 'ENSP00000417751.1 pep chromosome:GRCh38:14:105881539:105881556:-1 gene:ENSG00000225825.1 transcript:ENST00000452198.1 gene_biotype:IG_D_gene transcript_biotype:IG_D_gene gene_symbol:IGHD6-25 description:immunoglobulin heavy diversity 6-25 [Source:HGNC Symbol;Acc:HGNC:5516]', 'sequence': 'GYSSGY', 'description': ''}\n{'name': 'ENSP00000419139.1 pep chromosome:GRCh38:14:105883903:105883922:-1 gene:ENSG00000211909.1 transcript:ENST00000390569.1 gene_biotype:IG_D_gene transcript_biotype:IG_D_gene gene_symbol:IGHD5-24 description:immunoglobulin heavy diversity 5-24 (non-functional) [Source:HGNC Symbol;Acc:HGNC:5510]', 'sequence': 'VEMATI', 'description': ''}\n{'name': 'ENSP00000430248.1 pep chromosome:GRCh38:14:105884870:105884888:-1 gene:ENSG00000227196.1 transcript:ENST00000437320.1 gene_biotype:IG_D_gene transcript_biotype:IG_D_gene gene_symbol:IGHD4-23 description:immunoglobulin heavy diversity 4-23 (non-functional) [Source:HGNC Symbol;Acc:HGNC:5504]', 'sequence': '*LRW*L', 'description': ''}\n{'name': 'ENSP00000429952.1 pep chromosome:GRCh38:14:105886031:105886061:-1 gene:ENSG00000211911.1 transcript:ENST00000390571.1 gene_biotype:IG_D_gene transcript_biotype:IG_D_gene gene_symbol:IGHD3-22 description:immunoglobulin heavy diversity 3-22 [Source:HGNC Symbol;Acc:HGNC:5497]', 'sequence': 'VLL***WLLL', 'description': ''}\n{'name': 'ENSP00000429324.1 pep chromosome:GRCh38:14:105888551:105888578:-1 gene:ENSG00000211912.1 transcript:ENST00000390572.1 gene_biotype:IG_D_gene transcript_biotype:IG_D_gene gene_symbol:IGHD2-21 description:immunoglobulin heavy diversity 2-21 [Source:HGNC Symbol;Acc:HGNC:5491]', 'sequence': 'SILWW*LLF', 'description': ''}\n{'name': 'ENSP00000418010.1 pep chromosome:GRCh38:14:105891699:105891719:-1 gene:ENSG00000211914.1 transcript:ENST00000390574.1 gene_biotype:IG_D_gene transcript_biotype:IG_D_gene gene_symbol:IGHD6-19 description:immunoglobulin heavy diversity 6-19 [Source:HGNC Symbol;Acc:HGNC:5515]', 'sequence': 'GYSSGWY', 'description': ''}\n{'name': 'ENSP00000417555.1 pep chromosome:GRCh38:14:105893542:105893561:-1 gene:ENSG00000211915.1 transcript:ENST00000390575.1 gene_biotype:IG_D_gene transcript_biotype:IG_D_gene gene_symbol:IGHD5-18 description:immunoglobulin heavy diversity 5-18 [Source:HGNC Symbol;Acc:HGNC:5509]', 'sequence': 'VDTAMV', 'description': ''}\n{'name': 'ENSP00000428366.1 pep chromosome:GRCh38:14:105895634:105895670:-1 gene:ENSG00000211917.1 transcript:ENST00000390577.1 gene_biotype:IG_D_gene transcript_biotype:IG_D_gene gene_symbol:IGHD3-16 description:immunoglobulin heavy diversity 3-16 [Source:HGNC Symbol;Acc:HGNC:5496]', 'sequence': 'VL*LRLGELSLY', 'description': ''}\n{'name': 'ENSP00000431089.1 pep chromosome:GRCh38:14:105894508:105894523:-1 gene:ENSG00000227800.1 transcript:ENST00000431870.1 gene_biotype:IG_D_gene transcript_biotype:IG_D_gene gene_symbol:IGHD4-17 description:immunoglobulin heavy diversity 4-17 [Source:HGNC Symbol;Acc:HGNC:5503]', 'sequence': '*LR*L', 'description': ''}\n{'name': 'ENSP00000420556.1 pep chromosome:GRCh38:14:105891191:105891207:-1 gene:ENSG00000237020.1 transcript:ENST00000450276.1 gene_biotype:IG_D_gene transcript_biotype:IG_D_gene gene_symbol:IGHD1-20 description:immunoglobulin heavy diversity 1-20 [Source:HGNC Symbol;Acc:HGNC:5484]', 'sequence': 'GITGT', 'description': ''}\n{'name': 'ENSP00000427969.1 pep chromosome:GRCh38:14:105897957:105897987:-1 gene:ENSG00000211918.1 transcript:ENST00000390578.1 gene_biotype:IG_D_gene transcript_biotype:IG_D_gene gene_symbol:IGHD2-15 description:immunoglobulin heavy diversity 2-15 [Source:HGNC Symbol;Acc:HGNC:5489]', 'sequence': 'RIL*WW*LLL', 'description': ''}\n{'name': 'ENSP00000418765.1 pep chromosome:GRCh38:14:105900638:105900654:-1 gene:ENSG00000227108.1 transcript:ENST00000451044.1 gene_biotype:IG_D_gene transcript_biotype:IG_D_gene gene_symbol:IGHD1-14 description:immunoglobulin heavy diversity 1-14 (non-functional) [Source:HGNC Symbol;Acc:HGNC:5483]', 'sequence': 'GITGT', 'description': ''}\n{'name': 'ENSP00000419564.1 pep chromosome:GRCh38:14:105901142:105901162:-1 gene:ENSG00000211920.1 transcript:ENST00000390580.1 gene_biotype:IG_D_gene transcript_biotype:IG_D_gene gene_symbol:IGHD6-13 description:immunoglobulin heavy diversity 6-13 [Source:HGNC Symbol;Acc:HGNC:5514]', 'sequence': 'GYSSSWY', 'description': ''}\n"
      }
     ],
     "persistentId": "6d8b5522-6fc7-4ef7-8cfe-1b737f86dfe2",
     "text": "for i, record in zip(range(20), screed.open(\"Homo_sapiens.GRCh38.pep.all.fa.gz\")):\n    print(record)"
    },
    "executionTime": "2019-09-18T12:01:36.423Z"
   },
   {
    "cell": {
     "executionCount": 7,
     "executionEventId": "e0bbdcf9-a756-4fae-a7be-07deb8f0e1f0",
     "hasError": false,
     "id": "93685616-c02f-4cd1-9d16-3e730012559f",
     "outputs": [],
     "persistentId": "ca3c95ac-68f3-46f3-b085-b116e63bb8b0",
     "text": "from khmer import Nodegraph\nimport screed\nfrom sourmash._minhash import hash_murmur"
    },
    "executionTime": "2019-09-18T12:06:08.593Z"
   },
   {
    "cell": {
     "executionCount": 8,
     "executionEventId": "b9f545be-9cc9-4e4e-8284-bd2a6e50ac18",
     "hasError": false,
     "id": "801c1f09-890e-42e8-912e-f88cab37c532",
     "outputs": [
      {
       "data": {
        "text/plain": "\u001b[0;31mDocstring:\u001b[0m hash_murmur(string, [,seed])\n\u001b[0;31mType:\u001b[0m      builtin_function_or_method\n"
       },
       "metadata": {},
       "output_type": "display_data"
      }
     ],
     "persistentId": "24efed0e-0671-4d31-9ac1-c341e9d67f66",
     "text": "hash_murmur?"
    },
    "executionTime": "2019-09-18T12:08:14.067Z"
   },
   {
    "cell": {
     "executionCount": 9,
     "executionEventId": "97ce3aa4-2d8c-4575-bec0-17167da87056",
     "hasError": false,
     "id": "801c1f09-890e-42e8-912e-f88cab37c532",
     "outputs": [
      {
       "data": {
        "text/plain": "10787075864728504190"
       },
       "execution_count": 9,
       "metadata": {},
       "output_type": "execute_result"
      }
     ],
     "persistentId": "24efed0e-0671-4d31-9ac1-c341e9d67f66",
     "text": "hash_murmur(\"sdf\")"
    },
    "executionTime": "2019-09-18T12:08:21.938Z"
   },
   {
    "cell": {
     "executionCount": 10,
     "executionEventId": "cedfd9e1-09a1-4f01-826c-095f7cd9af4c",
     "hasError": false,
     "id": "93685616-c02f-4cd1-9d16-3e730012559f",
     "outputs": [],
     "persistentId": "ca3c95ac-68f3-46f3-b085-b116e63bb8b0",
     "text": "from khmer import Nodegraph\nimport screed\nfrom sourmash._minhash import hash_murmur\nfrom khmer.khmer_args import calculate_graphsize"
    },
    "executionTime": "2019-09-18T12:11:10.741Z"
   },
   {
    "cell": {
     "executionCount": 11,
     "executionEventId": "19b23d27-e5a0-4c4e-91a9-2182a2d19fe6",
     "hasError": true,
     "id": "801c1f09-890e-42e8-912e-f88cab37c532",
     "outputs": [
      {
       "ename": "NameError",
       "evalue": "name 'args' is not defined",
       "output_type": "error",
       "traceback": [
        "\u001b[0;31m---------------------------------------------------------------------------\u001b[0m",
        "\u001b[0;31mNameError\u001b[0m                                 Traceback (most recent call last)",
        "\u001b[0;32m<ipython-input-11-1632e26c8bec>\u001b[0m in \u001b[0;36m<module>\u001b[0;34m()\u001b[0m\n\u001b[1;32m      8\u001b[0m \u001b[0mpeptide_ksize\u001b[0m \u001b[0;34m=\u001b[0m \u001b[0;36m5\u001b[0m\u001b[0;34m\u001b[0m\u001b[0;34m\u001b[0m\u001b[0m\n\u001b[1;32m      9\u001b[0m \u001b[0;34m\u001b[0m\u001b[0m\n\u001b[0;32m---> 10\u001b[0;31m \u001b[0mtablesize\u001b[0m \u001b[0;34m=\u001b[0m \u001b[0mcalculate_graphsize\u001b[0m\u001b[0;34m(\u001b[0m\u001b[0margs\u001b[0m\u001b[0;34m,\u001b[0m \u001b[0;34m'nodegraph'\u001b[0m\u001b[0;34m,\u001b[0m \u001b[0mmultiplier\u001b[0m\u001b[0;34m)\u001b[0m\u001b[0;34m\u001b[0m\u001b[0;34m\u001b[0m\u001b[0m\n\u001b[0m\u001b[1;32m     11\u001b[0m \u001b[0mNodegraph\u001b[0m\u001b[0;34m(\u001b[0m\u001b[0mpeptide_ksize\u001b[0m\u001b[0;34m,\u001b[0m \u001b[0mtablesize\u001b[0m\u001b[0;34m,\u001b[0m \u001b[0mn_tables\u001b[0m\u001b[0;34m=\u001b[0m\u001b[0;36m4\u001b[0m\u001b[0;34m)\u001b[0m\u001b[0;34m\u001b[0m\u001b[0;34m\u001b[0m\u001b[0m\n",
        "\u001b[0;31mNameError\u001b[0m: name 'args' is not defined"
       ]
      }
     ],
     "persistentId": "24efed0e-0671-4d31-9ac1-c341e9d67f66",
     "text": "tablesize = 1e9\n\nDEFAULT_K = 32\nDEFAULT_N_TABLES = 4\nDEFAULT_MAX_TABLESIZE = 1e6\nDEFAULT_N_THREADS = 1\n\npeptide_ksize = 5\n\ntablesize = calculate_graphsize(args, 'nodegraph', multiplier)\nNodegraph(peptide_ksize, tablesize, n_tables=4)"
    },
    "executionTime": "2019-09-18T12:14:11.950Z"
   },
   {
    "cell": {
     "executionCount": 12,
     "executionEventId": "6d7a1a03-303e-44d0-a7c5-3293118fadc4",
     "hasError": false,
     "id": "801c1f09-890e-42e8-912e-f88cab37c532",
     "outputs": [
      {
       "data": {
        "text/plain": "<khmer._oxli.graphs.Nodegraph at 0x7fe2a84636d8>"
       },
       "execution_count": 12,
       "metadata": {},
       "output_type": "execute_result"
      }
     ],
     "persistentId": "24efed0e-0671-4d31-9ac1-c341e9d67f66",
     "text": "tablesize = 1e9\n\nDEFAULT_K = 32\nDEFAULT_N_TABLES = 4\nDEFAULT_MAX_TABLESIZE = 1e6\nDEFAULT_N_THREADS = 1\n\npeptide_ksize = 5\n\n# tablesize = calculate_graphsize(args, 'nodegraph', multiplier)\nNodegraph(peptide_ksize, tablesize, n_tables=4)"
    },
    "executionTime": "2019-09-18T12:14:18.814Z"
   },
   {
    "cell": {
     "executionCount": 13,
     "executionEventId": "b1b99bb9-4315-4e1a-9b67-ff66ed5a1e2c",
     "hasError": false,
     "id": "801c1f09-890e-42e8-912e-f88cab37c532",
     "outputs": [],
     "persistentId": "24efed0e-0671-4d31-9ac1-c341e9d67f66",
     "text": "tablesize = 1e9\n\nDEFAULT_K = 32\nDEFAULT_N_TABLES = 4\nDEFAULT_MAX_TABLESIZE = 1e6\nDEFAULT_N_THREADS = 1\n\npeptide_ksize = 5\n\n# tablesize = calculate_graphsize(args, 'nodegraph', multiplier)\npeptide_graph = Nodegraph(peptide_ksize, tablesize, n_tables=4)"
    },
    "executionTime": "2019-09-18T12:14:40.891Z"
   },
   {
    "cell": {
     "executionCount": 14,
     "executionEventId": "88db98ee-3b92-4eea-a9cd-828c30e44b05",
     "hasError": false,
     "id": "93685616-c02f-4cd1-9d16-3e730012559f",
     "outputs": [],
     "persistentId": "ca3c95ac-68f3-46f3-b085-b116e63bb8b0",
     "text": "from khmer import Nodegraph\nimport screed\nfrom sourmash._minhash import hash_murmur\nfrom khmer.khmer_args import calculate_graphsize\nfrom sourmash.logging import notify"
    },
    "executionTime": "2019-09-18T12:15:11.096Z"
   },
   {
    "cell": {
     "executionCount": 15,
     "executionEventId": "f0cb25f9-fada-48be-ad98-a7f944c07037",
     "hasError": false,
     "id": "801c1f09-890e-42e8-912e-f88cab37c532",
     "outputs": [],
     "persistentId": "24efed0e-0671-4d31-9ac1-c341e9d67f66",
     "text": "tablesize = 1e9\n\nDEFAULT_K = 32\nDEFAULT_N_TABLES = 4\nDEFAULT_MAX_TABLESIZE = 1e6\nDEFAULT_N_THREADS = 1\n\npeptide_ksize = 5\n\n# tablesize = calculate_graphsize(args, 'nodegraph', multiplier)\npeptide_graph = Nodegraph(peptide_ksize, tablesize, n_tables=4)\n\nfrom khtools.compare_peptide import kmerize"
    },
    "executionTime": "2019-09-18T12:15:54.942Z"
   },
   {
    "cell": {
     "executionCount": 16,
     "executionEventId": "6e5f937b-da01-4dce-ae06-184a948c24c7",
     "hasError": false,
     "id": "2cc99a36-174a-401f-8267-383344f9595e",
     "outputs": [
      {
       "data": {
        "text/plain": "\u001b[0;31mDocstring:\u001b[0m\nHashtable.add(self, kmer)\nIncrement the count of this k-mer\n\n        `kmer` can be either a string or an integer representing the hashed\n        value of the kmer.\n        \n\u001b[0;31mType:\u001b[0m      builtin_function_or_method\n"
       },
       "metadata": {},
       "output_type": "display_data"
      }
     ],
     "persistentId": "bb661e14-d9ba-4ca6-bf7f-d5334c6979ba",
     "text": "peptide_graph.add?"
    },
    "executionTime": "2019-09-18T12:17:19.603Z"
   },
   {
    "cell": {
     "executionCount": 17,
     "executionEventId": "40b228fe-9527-40f8-a6be-af0eb885116c",
     "hasError": false,
     "id": "2cc99a36-174a-401f-8267-383344f9595e",
     "outputs": [
      {
       "data": {
        "text/plain": "\u001b[0;31mDocstring:\u001b[0m Nodegraph.update(self, Nodegraph other)\n\u001b[0;31mType:\u001b[0m      builtin_function_or_method\n"
       },
       "metadata": {},
       "output_type": "display_data"
      }
     ],
     "persistentId": "bb661e14-d9ba-4ca6-bf7f-d5334c6979ba",
     "text": "peptide_graph.update?"
    },
    "executionTime": "2019-09-18T12:17:45.471Z"
   },
   {
    "cell": {
     "executionCount": 18,
     "executionEventId": "991be63d-4acd-4d2d-9eb1-6486a303e337",
     "hasError": false,
     "id": "9be227d3-0f9e-4b30-8d38-48e3c4a9e63d",
     "outputs": [
      {
       "data": {
        "text/plain": "<function Nodegraph.hashsizes>"
       },
       "execution_count": 18,
       "metadata": {},
       "output_type": "execute_result"
      }
     ],
     "persistentId": "be5556c4-baca-496e-92cb-44fc259bd60e",
     "text": "peptide_graph.hashsizes"
    },
    "executionTime": "2019-09-18T12:21:36.046Z"
   },
   {
    "cell": {
     "executionCount": 19,
     "executionEventId": "d3748b9d-602b-4b07-8a14-cef7950dd5e5",
     "hasError": false,
     "id": "9be227d3-0f9e-4b30-8d38-48e3c4a9e63d",
     "outputs": [
      {
       "data": {
        "text/plain": "[999999937, 999999929, 999999893, 999999883]"
       },
       "execution_count": 19,
       "metadata": {},
       "output_type": "execute_result"
      }
     ],
     "persistentId": "be5556c4-baca-496e-92cb-44fc259bd60e",
     "text": "peptide_graph.hashsizes()"
    },
    "executionTime": "2019-09-18T12:21:37.775Z"
   },
   {
    "cell": {
     "executionCount": 20,
     "executionEventId": "febd40f5-836d-46dc-9384-91e2d26d2f8d",
     "hasError": false,
     "id": "6bfd8599-5a51-42c1-85c7-14b7f3d6d508",
     "outputs": [
      {
       "data": {
        "text/plain": "True"
       },
       "execution_count": 20,
       "metadata": {},
       "output_type": "execute_result"
      }
     ],
     "persistentId": "5a8b4edd-67cf-4dfe-9904-464428d4d820",
     "text": "peptide_graph.add('GIVGA')"
    },
    "executionTime": "2019-09-18T12:24:44.877Z"
   },
   {
    "cell": {
     "executionCount": 21,
     "executionEventId": "2758d39f-7e63-4bb8-90ca-50ec6724cb0e",
     "hasError": false,
     "id": "223b44c2-4de8-4d56-8a15-e2ee512b5bfe",
     "outputs": [
      {
       "data": {
        "text/plain": "1"
       },
       "execution_count": 21,
       "metadata": {},
       "output_type": "execute_result"
      }
     ],
     "persistentId": "e0d2e9e2-f038-49f8-910b-dd2b91daabdb",
     "text": "peptide_graph.get(\"GIVGA\")"
    },
    "executionTime": "2019-09-18T12:25:01.909Z"
   },
   {
    "cell": {
     "executionCount": 22,
     "executionEventId": "90f8f960-a6ed-4065-9f92-6f40e8046469",
     "hasError": false,
     "id": "a23ecddc-2f1f-4704-8cbc-239719b9ba3c",
     "outputs": [
      {
       "data": {
        "text/plain": "0"
       },
       "execution_count": 22,
       "metadata": {},
       "output_type": "execute_result"
      }
     ],
     "persistentId": "b99af4a4-a8ee-436a-8945-c8c72936b80e",
     "text": "peptide_graph.get(\"IVGAT\")"
    },
    "executionTime": "2019-09-18T12:25:14.414Z"
   },
   {
    "cell": {
     "executionCount": 23,
     "executionEventId": "25fcea08-18f9-44a2-a233-83c739fee30f",
     "hasError": true,
     "id": "cc5866e5-4668-46b0-b34f-0350f6b32ad1",
     "outputs": [
      {
       "name": "stdout",
       "output_type": "stream",
       "text": "{'name': 'ENSP00000488240.1 pep chromosome:GRCh38:CHR_HSCHR7_2_CTG6:142847306:142847317:1 gene:ENSG00000282253.1 transcript:ENST00000631435.1 gene_biotype:TR_D_gene transcript_biotype:TR_D_gene gene_symbol:TRBD1 description:T cell receptor beta diversity 1 [Source:HGNC Symbol;Acc:HGNC:12158]', 'sequence': 'GTGG', 'description': ''}\n"
      },
      {
       "ename": "AttributeError",
       "evalue": "seq",
       "output_type": "error",
       "traceback": [
        "\u001b[0;31m---------------------------------------------------------------------------\u001b[0m",
        "\u001b[0;31mKeyError\u001b[0m                                  Traceback (most recent call last)",
        "\u001b[0;32m~/miniconda3/envs/kmer-hashing/lib/python3.6/site-packages/screed/screedRecord.py\u001b[0m in \u001b[0;36m__getattr__\u001b[0;34m(self, name)\u001b[0m\n\u001b[1;32m     40\u001b[0m         \u001b[0;32mtry\u001b[0m\u001b[0;34m:\u001b[0m\u001b[0;34m\u001b[0m\u001b[0;34m\u001b[0m\u001b[0m\n\u001b[0;32m---> 41\u001b[0;31m             \u001b[0;32mreturn\u001b[0m \u001b[0mself\u001b[0m\u001b[0;34m.\u001b[0m\u001b[0md\u001b[0m\u001b[0;34m[\u001b[0m\u001b[0mname\u001b[0m\u001b[0;34m]\u001b[0m\u001b[0;34m\u001b[0m\u001b[0;34m\u001b[0m\u001b[0m\n\u001b[0m\u001b[1;32m     42\u001b[0m         \u001b[0;32mexcept\u001b[0m \u001b[0mKeyError\u001b[0m\u001b[0;34m:\u001b[0m\u001b[0;34m\u001b[0m\u001b[0;34m\u001b[0m\u001b[0m\n",
        "\u001b[0;31mKeyError\u001b[0m: 'seq'",
        "\nDuring handling of the above exception, another exception occurred:\n",
        "\u001b[0;31mAttributeError\u001b[0m                            Traceback (most recent call last)",
        "\u001b[0;32m<ipython-input-23-99545d94915f>\u001b[0m in \u001b[0;36m<module>\u001b[0;34m()\u001b[0m\n\u001b[1;32m      3\u001b[0m \u001b[0;32mfor\u001b[0m \u001b[0mi\u001b[0m\u001b[0;34m,\u001b[0m \u001b[0mrecord\u001b[0m \u001b[0;32min\u001b[0m \u001b[0mzip\u001b[0m\u001b[0;34m(\u001b[0m\u001b[0mrange\u001b[0m\u001b[0;34m(\u001b[0m\u001b[0;36m20\u001b[0m\u001b[0;34m)\u001b[0m\u001b[0;34m,\u001b[0m \u001b[0mscreed\u001b[0m\u001b[0;34m.\u001b[0m\u001b[0mopen\u001b[0m\u001b[0;34m(\u001b[0m\u001b[0;34m\"Homo_sapiens.GRCh38.pep.all.fa.gz\"\u001b[0m\u001b[0;34m)\u001b[0m\u001b[0;34m)\u001b[0m\u001b[0;34m:\u001b[0m\u001b[0;34m\u001b[0m\u001b[0;34m\u001b[0m\u001b[0m\n\u001b[1;32m      4\u001b[0m     \u001b[0mprint\u001b[0m\u001b[0;34m(\u001b[0m\u001b[0mrecord\u001b[0m\u001b[0;34m)\u001b[0m\u001b[0;34m\u001b[0m\u001b[0;34m\u001b[0m\u001b[0m\n\u001b[0;32m----> 5\u001b[0;31m     \u001b[0;32mif\u001b[0m \u001b[0;34m'*'\u001b[0m \u001b[0;32min\u001b[0m \u001b[0mrecord\u001b[0m\u001b[0;34m.\u001b[0m\u001b[0mseq\u001b[0m\u001b[0;34m:\u001b[0m\u001b[0;34m\u001b[0m\u001b[0;34m\u001b[0m\u001b[0m\n\u001b[0m\u001b[1;32m      6\u001b[0m         \u001b[0mnotify\u001b[0m\u001b[0;34m(\u001b[0m\u001b[0;34m\"Stop codon found in seq, skipping\\r\"\u001b[0m\u001b[0;34m)\u001b[0m\u001b[0;34m\u001b[0m\u001b[0;34m\u001b[0m\u001b[0m\n\u001b[1;32m      7\u001b[0m         \u001b[0;32mcontinue\u001b[0m\u001b[0;34m\u001b[0m\u001b[0;34m\u001b[0m\u001b[0m\n",
        "\u001b[0;32m~/miniconda3/envs/kmer-hashing/lib/python3.6/site-packages/screed/screedRecord.py\u001b[0m in \u001b[0;36m__getattr__\u001b[0;34m(self, name)\u001b[0m\n\u001b[1;32m     41\u001b[0m             \u001b[0;32mreturn\u001b[0m \u001b[0mself\u001b[0m\u001b[0;34m.\u001b[0m\u001b[0md\u001b[0m\u001b[0;34m[\u001b[0m\u001b[0mname\u001b[0m\u001b[0;34m]\u001b[0m\u001b[0;34m\u001b[0m\u001b[0;34m\u001b[0m\u001b[0m\n\u001b[1;32m     42\u001b[0m         \u001b[0;32mexcept\u001b[0m \u001b[0mKeyError\u001b[0m\u001b[0;34m:\u001b[0m\u001b[0;34m\u001b[0m\u001b[0;34m\u001b[0m\u001b[0m\n\u001b[0;32m---> 43\u001b[0;31m             \u001b[0;32mraise\u001b[0m \u001b[0mAttributeError\u001b[0m\u001b[0;34m(\u001b[0m\u001b[0mname\u001b[0m\u001b[0;34m)\u001b[0m\u001b[0;34m\u001b[0m\u001b[0;34m\u001b[0m\u001b[0m\n\u001b[0m\u001b[1;32m     44\u001b[0m \u001b[0;34m\u001b[0m\u001b[0m\n\u001b[1;32m     45\u001b[0m     \u001b[0;32mdef\u001b[0m \u001b[0m__len__\u001b[0m\u001b[0;34m(\u001b[0m\u001b[0mself\u001b[0m\u001b[0;34m)\u001b[0m\u001b[0;34m:\u001b[0m\u001b[0;34m\u001b[0m\u001b[0;34m\u001b[0m\u001b[0m\n",
        "\u001b[0;31mAttributeError\u001b[0m: seq"
       ]
      }
     ],
     "persistentId": "6d8b5522-6fc7-4ef7-8cfe-1b737f86dfe2",
     "text": "DEFAULT_SEED = 42\n\nfor i, record in zip(range(20), screed.open(\"Homo_sapiens.GRCh38.pep.all.fa.gz\")):\n    print(record)\n    if '*' in record.seq:\n        notify(\"Stop codon found in seq, skipping\\r\")\n        continue\n    kmers = kmerize(record.seq, peptide_ksize)\n    for kmer in kmers:\n        peptide_graph.add(kmer)        "
    },
    "executionTime": "2019-09-18T12:25:27.752Z"
   },
   {
    "cell": {
     "executionCount": 24,
     "executionEventId": "b5841c8e-6c35-4130-bdf6-d84c2fdfe72c",
     "hasError": true,
     "id": "cc5866e5-4668-46b0-b34f-0350f6b32ad1",
     "outputs": [
      {
       "name": "stdout",
       "output_type": "stream",
       "text": "{'name': 'ENSP00000488240.1 pep chromosome:GRCh38:CHR_HSCHR7_2_CTG6:142847306:142847317:1 gene:ENSG00000282253.1 transcript:ENST00000631435.1 gene_biotype:TR_D_gene transcript_biotype:TR_D_gene gene_symbol:TRBD1 description:T cell receptor beta diversity 1 [Source:HGNC Symbol;Acc:HGNC:12158]', 'sequence': 'GTGG', 'description': ''}\n"
      },
      {
       "ename": "KeyError",
       "evalue": "'seq'",
       "output_type": "error",
       "traceback": [
        "\u001b[0;31m---------------------------------------------------------------------------\u001b[0m",
        "\u001b[0;31mKeyError\u001b[0m                                  Traceback (most recent call last)",
        "\u001b[0;32m<ipython-input-24-50479b45d861>\u001b[0m in \u001b[0;36m<module>\u001b[0;34m()\u001b[0m\n\u001b[1;32m      3\u001b[0m \u001b[0;32mfor\u001b[0m \u001b[0mi\u001b[0m\u001b[0;34m,\u001b[0m \u001b[0mrecord\u001b[0m \u001b[0;32min\u001b[0m \u001b[0mzip\u001b[0m\u001b[0;34m(\u001b[0m\u001b[0mrange\u001b[0m\u001b[0;34m(\u001b[0m\u001b[0;36m20\u001b[0m\u001b[0;34m)\u001b[0m\u001b[0;34m,\u001b[0m \u001b[0mscreed\u001b[0m\u001b[0;34m.\u001b[0m\u001b[0mopen\u001b[0m\u001b[0;34m(\u001b[0m\u001b[0;34m\"Homo_sapiens.GRCh38.pep.all.fa.gz\"\u001b[0m\u001b[0;34m)\u001b[0m\u001b[0;34m)\u001b[0m\u001b[0;34m:\u001b[0m\u001b[0;34m\u001b[0m\u001b[0;34m\u001b[0m\u001b[0m\n\u001b[1;32m      4\u001b[0m     \u001b[0mprint\u001b[0m\u001b[0;34m(\u001b[0m\u001b[0mrecord\u001b[0m\u001b[0;34m)\u001b[0m\u001b[0;34m\u001b[0m\u001b[0;34m\u001b[0m\u001b[0m\n\u001b[0;32m----> 5\u001b[0;31m     \u001b[0;32mif\u001b[0m \u001b[0;34m'*'\u001b[0m \u001b[0;32min\u001b[0m \u001b[0mrecord\u001b[0m\u001b[0;34m[\u001b[0m\u001b[0;34m'seq'\u001b[0m\u001b[0;34m]\u001b[0m\u001b[0;34m:\u001b[0m\u001b[0;34m\u001b[0m\u001b[0;34m\u001b[0m\u001b[0m\n\u001b[0m\u001b[1;32m      6\u001b[0m         \u001b[0mnotify\u001b[0m\u001b[0;34m(\u001b[0m\u001b[0;34m\"Stop codon found in seq, skipping\\r\"\u001b[0m\u001b[0;34m)\u001b[0m\u001b[0;34m\u001b[0m\u001b[0;34m\u001b[0m\u001b[0m\n\u001b[1;32m      7\u001b[0m         \u001b[0;32mcontinue\u001b[0m\u001b[0;34m\u001b[0m\u001b[0;34m\u001b[0m\u001b[0m\n",
        "\u001b[0;32m~/miniconda3/envs/kmer-hashing/lib/python3.6/site-packages/screed/screedRecord.py\u001b[0m in \u001b[0;36m__getitem__\u001b[0;34m(self, idx)\u001b[0m\n\u001b[1;32m     56\u001b[0m                 \u001b[0mtrimmed\u001b[0m\u001b[0;34m[\u001b[0m\u001b[0;34m'quality'\u001b[0m\u001b[0;34m]\u001b[0m \u001b[0;34m=\u001b[0m \u001b[0mtrimmed\u001b[0m\u001b[0;34m[\u001b[0m\u001b[0;34m'quality'\u001b[0m\u001b[0;34m]\u001b[0m\u001b[0;34m[\u001b[0m\u001b[0midx\u001b[0m\u001b[0;34m]\u001b[0m\u001b[0;34m\u001b[0m\u001b[0;34m\u001b[0m\u001b[0m\n\u001b[1;32m     57\u001b[0m             \u001b[0;32mreturn\u001b[0m \u001b[0mRecord\u001b[0m\u001b[0;34m(\u001b[0m\u001b[0;34m**\u001b[0m\u001b[0mtrimmed\u001b[0m\u001b[0;34m)\u001b[0m\u001b[0;34m\u001b[0m\u001b[0;34m\u001b[0m\u001b[0m\n\u001b[0;32m---> 58\u001b[0;31m         \u001b[0;32mreturn\u001b[0m \u001b[0mself\u001b[0m\u001b[0;34m.\u001b[0m\u001b[0md\u001b[0m\u001b[0;34m[\u001b[0m\u001b[0midx\u001b[0m\u001b[0;34m]\u001b[0m\u001b[0;34m\u001b[0m\u001b[0;34m\u001b[0m\u001b[0m\n\u001b[0m\u001b[1;32m     59\u001b[0m \u001b[0;34m\u001b[0m\u001b[0m\n\u001b[1;32m     60\u001b[0m     \u001b[0;32mdef\u001b[0m \u001b[0m__delitem__\u001b[0m\u001b[0;34m(\u001b[0m\u001b[0mself\u001b[0m\u001b[0;34m,\u001b[0m \u001b[0mkey\u001b[0m\u001b[0;34m)\u001b[0m\u001b[0;34m:\u001b[0m\u001b[0;34m\u001b[0m\u001b[0;34m\u001b[0m\u001b[0m\n",
        "\u001b[0;31mKeyError\u001b[0m: 'seq'"
       ]
      }
     ],
     "persistentId": "6d8b5522-6fc7-4ef7-8cfe-1b737f86dfe2",
     "text": "DEFAULT_SEED = 42\n\nfor i, record in zip(range(20), screed.open(\"Homo_sapiens.GRCh38.pep.all.fa.gz\")):\n    print(record)\n    if '*' in record['seq']:\n        notify(\"Stop codon found in seq, skipping\\r\")\n        continue\n    kmers = kmerize(record['seq'], peptide_ksize)\n    for kmer in kmers:\n        peptide_graph.add(kmer)        "
    },
    "executionTime": "2019-09-18T12:25:52.111Z"
   },
   {
    "cell": {
     "executionCount": 25,
     "executionEventId": "0a7b1d1d-78e7-4336-acbd-5f95621dd348",
     "hasError": false,
     "id": "cc5866e5-4668-46b0-b34f-0350f6b32ad1",
     "outputs": [
      {
       "name": "stdout",
       "output_type": "stream",
       "text": "{'name': 'ENSP00000488240.1 pep chromosome:GRCh38:CHR_HSCHR7_2_CTG6:142847306:142847317:1 gene:ENSG00000282253.1 transcript:ENST00000631435.1 gene_biotype:TR_D_gene transcript_biotype:TR_D_gene gene_symbol:TRBD1 description:T cell receptor beta diversity 1 [Source:HGNC Symbol;Acc:HGNC:12158]', 'sequence': 'GTGG', 'description': ''}\n{'name': 'ENSP00000451042.1 pep chromosome:GRCh38:14:22438547:22438554:1 gene:ENSG00000223997.1 transcript:ENST00000415118.1 gene_biotype:TR_D_gene transcript_biotype:TR_D_gene gene_symbol:TRDD1 description:T cell receptor delta diversity 1 [Source:HGNC Symbol;Acc:HGNC:12254]', 'sequence': 'EI', 'description': ''}\n{'name': 'ENSP00000452494.1 pep chromosome:GRCh38:14:22449113:22449125:1 gene:ENSG00000228985.1 transcript:ENST00000448914.1 gene_biotype:TR_D_gene transcript_biotype:TR_D_gene gene_symbol:TRDD3 description:T cell receptor delta diversity 3 [Source:HGNC Symbol;Acc:HGNC:12256]', 'sequence': 'TGGY', 'description': ''}\n{'name': 'ENSP00000451515.1 pep chromosome:GRCh38:14:22439007:22439015:1 gene:ENSG00000237235.2 transcript:ENST00000434970.2 gene_biotype:TR_D_gene transcript_biotype:TR_D_gene gene_symbol:TRDD2 description:T cell receptor delta diversity 2 [Source:HGNC Symbol;Acc:HGNC:12255]', 'sequence': 'PSY', 'description': ''}\n{'name': 'ENSP00000487941.1 pep chromosome:GRCh38:7:142786213:142786224:1 gene:ENSG00000282431.1 transcript:ENST00000632684.1 gene_biotype:TR_D_gene transcript_biotype:TR_D_gene gene_symbol:TRBD1 description:T cell receptor beta diversity 1 [Source:HGNC Symbol;Acc:HGNC:12158]', 'sequence': 'GTGG', 'description': ''}\n{'name': 'ENSP00000418639.1 pep chromosome:GRCh38:14:105865551:105865561:-1 gene:ENSG00000236597.1 transcript:ENST00000439842.1 gene_biotype:IG_D_gene transcript_biotype:IG_D_gene gene_symbol:IGHD7-27 description:immunoglobulin heavy diversity 7-27 [Source:HGNC Symbol;Acc:HGNC:5518]', 'sequence': 'LTG', 'description': ''}\n{'name': 'ENSP00000420733.1 pep chromosome:GRCh38:14:105881034:105881053:-1 gene:ENSG00000211907.1 transcript:ENST00000390567.1 gene_biotype:IG_D_gene transcript_biotype:IG_D_gene gene_symbol:IGHD1-26 description:immunoglobulin heavy diversity 1-26 [Source:HGNC Symbol;Acc:HGNC:5485]', 'sequence': 'GIVGAT', 'description': ''}\n{'name': 'ENSP00000417751.1 pep chromosome:GRCh38:14:105881539:105881556:-1 gene:ENSG00000225825.1 transcript:ENST00000452198.1 gene_biotype:IG_D_gene transcript_biotype:IG_D_gene gene_symbol:IGHD6-25 description:immunoglobulin heavy diversity 6-25 [Source:HGNC Symbol;Acc:HGNC:5516]', 'sequence': 'GYSSGY', 'description': ''}\n{'name': 'ENSP00000419139.1 pep chromosome:GRCh38:14:105883903:105883922:-1 gene:ENSG00000211909.1 transcript:ENST00000390569.1 gene_biotype:IG_D_gene transcript_biotype:IG_D_gene gene_symbol:IGHD5-24 description:immunoglobulin heavy diversity 5-24 (non-functional) [Source:HGNC Symbol;Acc:HGNC:5510]', 'sequence': 'VEMATI', 'description': ''}\n{'name': 'ENSP00000430248.1 pep chromosome:GRCh38:14:105884870:105884888:-1 gene:ENSG00000227196.1 transcript:ENST00000437320.1 gene_biotype:IG_D_gene transcript_biotype:IG_D_gene gene_symbol:IGHD4-23 description:immunoglobulin heavy diversity 4-23 (non-functional) [Source:HGNC Symbol;Acc:HGNC:5504]', 'sequence': '*LRW*L', 'description': ''}\n{'name': 'ENSP00000429952.1 pep chromosome:GRCh38:14:105886031:105886061:-1 gene:ENSG00000211911.1 transcript:ENST00000390571.1 gene_biotype:IG_D_gene transcript_biotype:IG_D_gene gene_symbol:IGHD3-22 description:immunoglobulin heavy diversity 3-22 [Source:HGNC Symbol;Acc:HGNC:5497]', 'sequence': 'VLL***WLLL', 'description': ''}\n{'name': 'ENSP00000429324.1 pep chromosome:GRCh38:14:105888551:105888578:-1 gene:ENSG00000211912.1 transcript:ENST00000390572.1 gene_biotype:IG_D_gene transcript_biotype:IG_D_gene gene_symbol:IGHD2-21 description:immunoglobulin heavy diversity 2-21 [Source:HGNC Symbol;Acc:HGNC:5491]', 'sequence': 'SILWW*LLF', 'description': ''}\n{'name': 'ENSP00000418010.1 pep chromosome:GRCh38:14:105891699:105891719:-1 gene:ENSG00000211914.1 transcript:ENST00000390574.1 gene_biotype:IG_D_gene transcript_biotype:IG_D_gene gene_symbol:IGHD6-19 description:immunoglobulin heavy diversity 6-19 [Source:HGNC Symbol;Acc:HGNC:5515]', 'sequence': 'GYSSGWY', 'description': ''}\n{'name': 'ENSP00000417555.1 pep chromosome:GRCh38:14:105893542:105893561:-1 gene:ENSG00000211915.1 transcript:ENST00000390575.1 gene_biotype:IG_D_gene transcript_biotype:IG_D_gene gene_symbol:IGHD5-18 description:immunoglobulin heavy diversity 5-18 [Source:HGNC Symbol;Acc:HGNC:5509]', 'sequence': 'VDTAMV', 'description': ''}\n{'name': 'ENSP00000428366.1 pep chromosome:GRCh38:14:105895634:105895670:-1 gene:ENSG00000211917.1 transcript:ENST00000390577.1 gene_biotype:IG_D_gene transcript_biotype:IG_D_gene gene_symbol:IGHD3-16 description:immunoglobulin heavy diversity 3-16 [Source:HGNC Symbol;Acc:HGNC:5496]', 'sequence': 'VL*LRLGELSLY', 'description': ''}\n{'name': 'ENSP00000431089.1 pep chromosome:GRCh38:14:105894508:105894523:-1 gene:ENSG00000227800.1 transcript:ENST00000431870.1 gene_biotype:IG_D_gene transcript_biotype:IG_D_gene gene_symbol:IGHD4-17 description:immunoglobulin heavy diversity 4-17 [Source:HGNC Symbol;Acc:HGNC:5503]', 'sequence': '*LR*L', 'description': ''}\n{'name': 'ENSP00000420556.1 pep chromosome:GRCh38:14:105891191:105891207:-1 gene:ENSG00000237020.1 transcript:ENST00000450276.1 gene_biotype:IG_D_gene transcript_biotype:IG_D_gene gene_symbol:IGHD1-20 description:immunoglobulin heavy diversity 1-20 [Source:HGNC Symbol;Acc:HGNC:5484]', 'sequence': 'GITGT', 'description': ''}\n{'name': 'ENSP00000427969.1 pep chromosome:GRCh38:14:105897957:105897987:-1 gene:ENSG00000211918.1 transcript:ENST00000390578.1 gene_biotype:IG_D_gene transcript_biotype:IG_D_gene gene_symbol:IGHD2-15 description:immunoglobulin heavy diversity 2-15 [Source:HGNC Symbol;Acc:HGNC:5489]', 'sequence': 'RIL*WW*LLL', 'description': ''}\n{'name': 'ENSP00000418765.1 pep chromosome:GRCh38:14:105900638:105900654:-1 gene:ENSG00000227108.1 transcript:ENST00000451044.1 gene_biotype:IG_D_gene transcript_biotype:IG_D_gene gene_symbol:IGHD1-14 description:immunoglobulin heavy diversity 1-14 (non-functional) [Source:HGNC Symbol;Acc:HGNC:5483]', 'sequence': 'GITGT', 'description': ''}\n{'name': 'ENSP00000419564.1 pep chromosome:GRCh38:14:105901142:105901162:-1 gene:ENSG00000211920.1 transcript:ENST00000390580.1 gene_biotype:IG_D_gene transcript_biotype:IG_D_gene gene_symbol:IGHD6-13 description:immunoglobulin heavy diversity 6-13 [Source:HGNC Symbol;Acc:HGNC:5514]', 'sequence': 'GYSSSWY', 'description': ''}\n"
      },
      {
       "name": "stderr",
       "output_type": "stream",
       "text": "\u001b[KStop codon found in seq, skipping\n\u001b[KStop codon found in seq, skipping\n\u001b[KStop codon found in seq, skipping\n\u001b[KStop codon found in seq, skipping\n\u001b[KStop codon found in seq, skipping\n\u001b[KStop codon found in seq, skipping\n"
      }
     ],
     "persistentId": "6d8b5522-6fc7-4ef7-8cfe-1b737f86dfe2",
     "text": "DEFAULT_SEED = 42\n\nfor i, record in zip(range(20), screed.open(\"Homo_sapiens.GRCh38.pep.all.fa.gz\")):\n    print(record)\n    if '*' in record['sequence']:\n        notify(\"Stop codon found in seq, skipping\\r\")\n        continue\n    kmers = kmerize(record['sequence'], peptide_ksize)\n    for kmer in kmers:\n        peptide_graph.add(kmer)        "
    },
    "executionTime": "2019-09-18T12:25:59.915Z"
   },
   {
    "cell": {
     "executionCount": 26,
     "executionEventId": "684ee12d-e553-4f16-a632-f4de30ad755c",
     "hasError": false,
     "id": "cc5866e5-4668-46b0-b34f-0350f6b32ad1",
     "outputs": [
      {
       "name": "stderr",
       "output_type": "stream",
       "text": "\u001b[KStop codon found in seq, skipping\n\u001b[KStop codon found in seq, skipping\n\u001b[KStop codon found in seq, skipping\n\u001b[KStop codon found in seq, skipping\n\u001b[KStop codon found in seq, skipping\n\u001b[KStop codon found in seq, skipping\n"
      }
     ],
     "persistentId": "6d8b5522-6fc7-4ef7-8cfe-1b737f86dfe2",
     "text": "DEFAULT_SEED = 42\n\nfor i, record in zip(range(20), screed.open(\"Homo_sapiens.GRCh38.pep.all.fa.gz\")):\n#     print(record)\n    if '*' in record['sequence']:\n        notify(\"Stop codon found in seq, skipping\\r\")\n        continue\n    kmers = kmerize(record['sequence'], peptide_ksize)\n    for kmer in kmers:\n        peptide_graph.add(kmer)        "
    },
    "executionTime": "2019-09-18T12:26:07.967Z"
   },
   {
    "cell": {
     "executionCount": 27,
     "executionEventId": "0b802efd-83cd-4987-bad1-ab8491b887c1",
     "hasError": true,
     "id": "cc5866e5-4668-46b0-b34f-0350f6b32ad1",
     "outputs": [
      {
       "name": "stderr",
       "output_type": "stream",
       "text": "\u001b[KStop codon found in seq, skipping\n\u001b[KStop codon found in seq, skipping\n\u001b[KStop codon found in seq, skipping\n\u001b[KStop codon found in seq, skipping\n\u001b[KStop codon found in seq, skipping\n\u001b[KStop codon found in seq, skipping\n\u001b[KStop codon found in seq, skipping\n\u001b[KStop codon found in seq, skipping\n\u001b[KStop codon found in seq, skipping\n\u001b[KStop codon found in seq, skipping\n\u001b[KStop codon found in seq, skipping\n\u001b[KStop codon found in seq, skipping\n\u001b[KStop codon found in seq, skipping\n\u001b[KStop codon found in seq, skipping\n\u001b[KStop codon found in seq, skipping\n\u001b[KStop codon found in seq, skipping\n\u001b[KStop codon found in seq, skipping\n\u001b[KStop codon found in seq, skipping\n\u001b[KStop codon found in seq, skipping\n\u001b[KStop codon found in seq, skipping\n\u001b[KStop codon found in seq, skipping\n\u001b[KStop codon found in seq, skipping\n\u001b[KStop codon found in seq, skipping\n\u001b[KStop codon found in seq, skipping\n\u001b[KStop codon found in seq, skipping\n\u001b[KStop codon found in seq, skipping\n\u001b[KStop codon found in seq, skipping\n\u001b[KStop codon found in seq, skipping\n\u001b[KStop codon found in seq, skipping\n\u001b[KStop codon found in seq, skipping\n\u001b[KStop codon found in seq, skipping\n\u001b[KStop codon found in seq, skipping\n\u001b[KStop codon found in seq, skipping\n\u001b[KStop codon found in seq, skipping\n\u001b[KStop codon found in seq, skipping\n\u001b[KStop codon found in seq, skipping\n\u001b[KStop codon found in seq, skipping\n\u001b[KStop codon found in seq, skipping\n\u001b[KStop codon found in seq, skipping\n\u001b[KStop codon found in seq, skipping\n\u001b[KStop codon found in seq, skipping\n\u001b[KStop codon found in seq, skipping\n\u001b[KStop codon found in seq, skipping\n\u001b[KStop codon found in seq, skipping\n\u001b[KStop codon found in seq, skipping\n\u001b[KStop codon found in seq, skipping\n\u001b[KStop codon found in seq, skipping\n\u001b[KStop codon found in seq, skipping\n\u001b[KStop codon found in seq, skipping\n\u001b[KStop codon found in seq, skipping\n\u001b[KStop codon found in seq, skipping\n\u001b[KStop codon found in seq, skipping\n\u001b[KStop codon found in seq, skipping\n\u001b[KStop codon found in seq, skipping\n\u001b[KStop codon found in seq, skipping\n\u001b[KStop codon found in seq, skipping\n\u001b[KStop codon found in seq, skipping\n\u001b[KStop codon found in seq, skipping\n\u001b[KStop codon found in seq, skipping\n\u001b[KStop codon found in seq, skipping\n\u001b[KStop codon found in seq, skipping\n\u001b[KStop codon found in seq, skipping\n\u001b[KStop codon found in seq, skipping\n\u001b[KStop codon found in seq, skipping\n\u001b[KStop codon found in seq, skipping\n\u001b[KStop codon found in seq, skipping\n\u001b[KStop codon found in seq, skipping\n\u001b[KStop codon found in seq, skipping\n\u001b[KStop codon found in seq, skipping\n\u001b[KStop codon found in seq, skipping\n\u001b[KStop codon found in seq, skipping\n\u001b[KStop codon found in seq, skipping\n\u001b[KStop codon found in seq, skipping\n\u001b[KStop codon found in seq, skipping\n\u001b[KStop codon found in seq, skipping\n\u001b[KStop codon found in seq, skipping\n\u001b[KStop codon found in seq, skipping\n\u001b[KStop codon found in seq, skipping\n\u001b[KStop codon found in seq, skipping\n\u001b[KStop codon found in seq, skipping\n\u001b[KStop codon found in seq, skipping\n\u001b[KStop codon found in seq, skipping\n\u001b[KStop codon found in seq, skipping\n\u001b[KStop codon found in seq, skipping\n\u001b[KStop codon found in seq, skipping\n\u001b[KStop codon found in seq, skipping\n\u001b[KStop codon found in seq, skipping\n\u001b[KStop codon found in seq, skipping\n\u001b[KStop codon found in seq, skipping\n\u001b[KStop codon found in seq, skipping\n\u001b[KStop codon found in seq, skipping\n\u001b[KStop codon found in seq, skipping\n\u001b[KStop codon found in seq, skipping\n\u001b[KStop codon found in seq, skipping\n\u001b[KStop codon found in seq, skipping\n\u001b[KStop codon found in seq, skipping\n\u001b[KStop codon found in seq, skipping\n\u001b[KStop codon found in seq, skipping\n\u001b[KStop codon found in seq, skipping\n\u001b[KStop codon found in seq, skipping\n\u001b[KStop codon found in seq, skipping\n\u001b[KStop codon found in seq, skipping\n\u001b[KStop codon found in seq, skipping\n\u001b[KStop codon found in seq, skipping\n\u001b[KStop codon found in seq, skipping\n\u001b[KStop codon found in seq, skipping\n\u001b[KStop codon found in seq, skipping\n\u001b[KStop codon found in seq, skipping\n\u001b[KStop codon found in seq, skipping\n\u001b[KStop codon found in seq, skipping\n\u001b[KStop codon found in seq, skipping\n\u001b[KStop codon found in seq, skipping\n\u001b[KStop codon found in seq, skipping\n\u001b[KStop codon found in seq, skipping\n\u001b[KStop codon found in seq, skipping\n\u001b[KStop codon found in seq, skipping\n\u001b[KStop codon found in seq, skipping\n\u001b[KStop codon found in seq, skipping\n\u001b[KStop codon found in seq, skipping\n\u001b[KStop codon found in seq, skipping\n\u001b[KStop codon found in seq, skipping\n\u001b[KStop codon found in seq, skipping\n"
      },
      {
       "ename": "KeyboardInterrupt",
       "evalue": "",
       "output_type": "error",
       "traceback": [
        "\u001b[0;31m---------------------------------------------------------------------------\u001b[0m",
        "\u001b[0;31mKeyboardInterrupt\u001b[0m                         Traceback (most recent call last)",
        "\u001b[0;32m<timed exec>\u001b[0m in \u001b[0;36m<module>\u001b[0;34m()\u001b[0m\n",
        "\u001b[0;31mKeyboardInterrupt\u001b[0m: "
       ]
      }
     ],
     "persistentId": "6d8b5522-6fc7-4ef7-8cfe-1b737f86dfe2",
     "text": "%%time\n\nDEFAULT_SEED = 42\n\nfor record in screed.open(\"Homo_sapiens.GRCh38.pep.all.fa.gz\"):\n#     print(record)\n    if '*' in record['sequence']:\n        notify(\"Stop codon found in seq, skipping\\r\")\n        continue\n    kmers = kmerize(record['sequence'], peptide_ksize)\n    for kmer in kmers:\n        peptide_graph.add(kmer)        "
    },
    "executionTime": "2019-09-18T12:26:34.482Z"
   },
   {
    "cell": {
     "executionCount": 28,
     "executionEventId": "91fb77f2-9593-4ca4-87c3-d0e81e81a01f",
     "hasError": false,
     "id": "cc5866e5-4668-46b0-b34f-0350f6b32ad1",
     "outputs": [
      {
       "name": "stdout",
       "output_type": "stream",
       "text": "CPU times: user 28.5 s, sys: 0 ns, total: 28.5 s\nWall time: 28.5 s\n"
      }
     ],
     "persistentId": "6d8b5522-6fc7-4ef7-8cfe-1b737f86dfe2",
     "text": "%%time\n\nDEFAULT_SEED = 42\n\nfor record in screed.open(\"Homo_sapiens.GRCh38.pep.all.fa.gz\"):\n#     print(record)\n    if '*' in record['sequence']:\n#         notify(\"Stop codon found in seq, skipping\")\n        continue\n    kmers = kmerize(record['sequence'], peptide_ksize)\n    for kmer in kmers:\n        peptide_graph.add(kmer)        "
    },
    "executionTime": "2019-09-18T12:27:14.486Z"
   },
   {
    "cell": {
     "executionCount": 29,
     "executionEventId": "61b02a15-3397-4211-81dd-0bf3e91b4c7f",
     "hasError": false,
     "id": "93685616-c02f-4cd1-9d16-3e730012559f",
     "outputs": [],
     "persistentId": "ca3c95ac-68f3-46f3-b085-b116e63bb8b0",
     "text": "from khmer import Nodegraph\nimport screed\nfrom sourmash._minhash import hash_murmur\nfrom khmer.khmer_args import calculate_graphsize\nfrom sourmash.logging import notify\n\nfrom khtools.compare_peptide import kmerize\n\nfrom Bio.Seq import Seq"
    },
    "executionTime": "2019-09-18T12:34:53.284Z"
   },
   {
    "cell": {
     "executionCount": 30,
     "executionEventId": "967a6c2a-e65c-4495-9b9f-7e792c1d6390",
     "hasError": false,
     "id": "53f12995-5d79-41d4-b852-576c0f26de5c",
     "outputs": [
      {
       "name": "stdout",
       "output_type": "stream",
       "text": "total 239G\ndrwxrwxr-x 2 olga olga 4.0K Sep 18 05:33 \u001b[0m\u001b[01;34m.\u001b[0m/\ndrwxrwxr-x 5 olga olga 4.0K Sep 14 08:39 \u001b[01;34m..\u001b[0m/\n-rw-rw-r-- 1 olga olga  21M Sep 14 06:46 \u001b[01;31mHomo_sapiens.GRCh38.cds.all.fa.gz\u001b[0m\n-rw-rw-r-- 1 olga olga  16M Sep 14 06:46 \u001b[01;31mHomo_sapiens.GRCh38.ncrna.fa.gz\u001b[0m\n-rw-rw-r-- 1 olga olga  14M Sep 14 06:46 \u001b[01;31mHomo_sapiens.GRCh38.pep.all.fa.gz\u001b[0m\n-rw-rw-r-- 1 olga olga  15G Sep 14 07:11 human_cds_k15.nodegraph\n-rw-rw-r-- 1 olga olga   65 Sep 14 07:11 human_cds_k15.nodegraph.info\n-rw-rw-r-- 1 olga olga  15G Sep 14 07:22 human_cds_k17.nodegraph\n-rw-rw-r-- 1 olga olga   65 Sep 14 07:22 human_cds_k17.nodegraph.info\n-rw-rw-r-- 1 olga olga  15G Sep 14 07:30 human_cds_k19.nodegraph\n-rw-rw-r-- 1 olga olga   65 Sep 14 07:30 human_cds_k19.nodegraph.info\n-rw-rw-r-- 1 olga olga  15G Sep 14 07:39 human_cds_k21.nodegraph\n-rw-rw-r-- 1 olga olga   65 Sep 14 07:39 human_cds_k21.nodegraph.info\n-rw-rw-r-- 1 olga olga  15G Sep 14 07:47 human_cds_k23.nodegraph\n-rw-rw-r-- 1 olga olga   65 Sep 14 07:47 human_cds_k23.nodegraph.info\n-rw-rw-r-- 1 olga olga  15G Sep 14 07:55 human_cds_k25.nodegraph\n-rw-rw-r-- 1 olga olga   65 Sep 14 07:55 human_cds_k25.nodegraph.info\n-rw-rw-r-- 1 olga olga  15G Sep 14 08:03 human_cds_k27.nodegraph\n-rw-rw-r-- 1 olga olga   65 Sep 14 08:03 human_cds_k27.nodegraph.info\n-rw-rw-r-- 1 olga olga  15G Sep 14 08:12 human_cds_k31.nodegraph\n-rw-rw-r-- 1 olga olga   65 Sep 14 08:12 human_cds_k31.nodegraph.info\n-rw-rw-r-- 1 olga olga  15G Sep 14 07:18 human_ncrna_k15.nodegraph\n-rw-rw-r-- 1 olga olga   65 Sep 14 07:18 human_ncrna_k15.nodegraph.info\n-rw-rw-r-- 1 olga olga 5.7M Sep 14 07:15 human_ncrna_k15.nodegraph.tagset\n-rw-rw-r-- 1 olga olga  15G Sep 14 07:26 human_ncrna_k17.nodegraph\n-rw-rw-r-- 1 olga olga   65 Sep 14 07:26 human_ncrna_k17.nodegraph.info\n-rw-rw-r-- 1 olga olga  15G Sep 14 07:34 human_ncrna_k19.nodegraph\n-rw-rw-r-- 1 olga olga   65 Sep 14 07:34 human_ncrna_k19.nodegraph.info\n-rw-rw-r-- 1 olga olga  15G Sep 14 07:42 human_ncrna_k21.nodegraph\n-rw-rw-r-- 1 olga olga   65 Sep 14 07:43 human_ncrna_k21.nodegraph.info\n-rw-rw-r-- 1 olga olga  15G Sep 14 07:51 human_ncrna_k23.nodegraph\n-rw-rw-r-- 1 olga olga   65 Sep 14 07:51 human_ncrna_k23.nodegraph.info\n-rw-rw-r-- 1 olga olga  15G Sep 14 07:59 human_ncrna_k25.nodegraph\n-rw-rw-r-- 1 olga olga   65 Sep 14 07:59 human_ncrna_k25.nodegraph.info\n-rw-rw-r-- 1 olga olga  15G Sep 14 08:07 human_ncrna_k27.nodegraph\n-rw-rw-r-- 1 olga olga   65 Sep 14 08:07 human_ncrna_k27.nodegraph.info\n-rw-rw-r-- 1 olga olga  15G Sep 14 08:16 human_ncrna_k31.nodegraph\n-rw-rw-r-- 1 olga olga   65 Sep 14 08:16 human_ncrna_k31.nodegraph.info\n-rw-r--r-- 1 olga olga  52M Sep 18 05:33 \u001b[01;31mSRR306838_GSM752691_hsa_br_F_1_trimmed.fq.gz\u001b[0m\n-rw-r--r-- 1 olga olga  72K Sep 18 05:33 \u001b[01;31mSRR306838_GSM752691_hsa_br_F_1_trimmed_subsampled.fq.gz\u001b[0m\n"
      }
     ],
     "persistentId": "f9bbce41-5893-489d-8f89-7d8fb0b0fe1e",
     "text": "ls -lha"
    },
    "executionTime": "2019-09-18T12:35:09.570Z"
   },
   {
    "cell": {
     "executionCount": 31,
     "executionEventId": "36bee734-5f98-4e53-af05-c40ab1471edd",
     "hasError": false,
     "id": "93685616-c02f-4cd1-9d16-3e730012559f",
     "outputs": [],
     "persistentId": "ca3c95ac-68f3-46f3-b085-b116e63bb8b0",
     "text": "import gzip\n\nfrom khmer import Nodegraph\nimport screed\nfrom sourmash._minhash import hash_murmur\nfrom khmer.khmer_args import calculate_graphsize\nfrom sourmash.logging import notify\n\nfrom khtools.compare_peptide import kmerize\n\nfrom Bio.Seq import Seq"
    },
    "executionTime": "2019-09-18T12:35:21.064Z"
   },
   {
    "cell": {
     "executionCount": 32,
     "executionEventId": "1eb5def6-5d94-4b5e-aae0-b6ae88adb7fe",
     "hasError": false,
     "id": "93685616-c02f-4cd1-9d16-3e730012559f",
     "outputs": [],
     "persistentId": "ca3c95ac-68f3-46f3-b085-b116e63bb8b0",
     "text": "import gzip\n\nfrom khmer import Nodegraph\nimport screed\nfrom sourmash._minhash import hash_murmur\nfrom khmer.khmer_args import calculate_graphsize\nfrom sourmash.logging import notify\n\nfrom khtools.compare_peptide import kmerize\n\nfrom Bio.Seq import Seq\nfrom Bio import SeqIO"
    },
    "executionTime": "2019-09-18T12:35:44.013Z"
   },
   {
    "cell": {
     "executionCount": 33,
     "executionEventId": "bfc3de14-2aec-41bc-96a7-2d654046aa99",
     "hasError": true,
     "id": "7b834435-4c4d-4a94-befd-712cc920dd65",
     "outputs": [
      {
       "ename": "TypeError",
       "evalue": "'module' object is not callable",
       "output_type": "error",
       "traceback": [
        "\u001b[0;31m---------------------------------------------------------------------------\u001b[0m",
        "\u001b[0;31mTypeError\u001b[0m                                 Traceback (most recent call last)",
        "\u001b[0;32m<ipython-input-33-3077e7f8be71>\u001b[0m in \u001b[0;36m<module>\u001b[0;34m()\u001b[0m\n\u001b[1;32m     11\u001b[0m \u001b[0;34m\u001b[0m\u001b[0m\n\u001b[1;32m     12\u001b[0m \u001b[0;32mwith\u001b[0m \u001b[0mgzip\u001b[0m\u001b[0;34m.\u001b[0m\u001b[0mopen\u001b[0m\u001b[0;34m(\u001b[0m\u001b[0;34m'SRR306838_GSM752691_hsa_br_F_1_trimmed_subsampled.fq.gz'\u001b[0m\u001b[0;34m,\u001b[0m \u001b[0;34m'rt'\u001b[0m\u001b[0;34m)\u001b[0m \u001b[0;32mas\u001b[0m \u001b[0mf\u001b[0m\u001b[0;34m:\u001b[0m\u001b[0;34m\u001b[0m\u001b[0;34m\u001b[0m\u001b[0m\n\u001b[0;32m---> 13\u001b[0;31m     \u001b[0;32mfor\u001b[0m \u001b[0mi\u001b[0m\u001b[0;34m,\u001b[0m \u001b[0mrecord\u001b[0m \u001b[0;32min\u001b[0m \u001b[0mzip\u001b[0m\u001b[0;34m(\u001b[0m\u001b[0mrange\u001b[0m\u001b[0;34m(\u001b[0m\u001b[0;36m5\u001b[0m\u001b[0;34m)\u001b[0m\u001b[0;34m,\u001b[0m \u001b[0mSeqIO\u001b[0m\u001b[0;34m(\u001b[0m\u001b[0mf\u001b[0m\u001b[0;34m,\u001b[0m \u001b[0;34m'fastq'\u001b[0m\u001b[0;34m)\u001b[0m\u001b[0;34m)\u001b[0m\u001b[0;34m:\u001b[0m\u001b[0;34m\u001b[0m\u001b[0;34m\u001b[0m\u001b[0m\n\u001b[0m\u001b[1;32m     14\u001b[0m         \u001b[0mprint\u001b[0m\u001b[0;34m(\u001b[0m\u001b[0mrecord\u001b[0m\u001b[0;34m.\u001b[0m\u001b[0mdescription\u001b[0m\u001b[0;34m)\u001b[0m\u001b[0;34m\u001b[0m\u001b[0;34m\u001b[0m\u001b[0m\n\u001b[1;32m     15\u001b[0m         \u001b[0mprint\u001b[0m\u001b[0;34m(\u001b[0m\u001b[0mstr\u001b[0m\u001b[0;34m(\u001b[0m\u001b[0mrecord\u001b[0m\u001b[0;34m.\u001b[0m\u001b[0mseq\u001b[0m\u001b[0;34m)\u001b[0m\u001b[0;34m)\u001b[0m\u001b[0;34m\u001b[0m\u001b[0;34m\u001b[0m\u001b[0m\n",
        "\u001b[0;31mTypeError\u001b[0m: 'module' object is not callable"
       ]
      }
     ],
     "persistentId": "39699f59-df26-4089-a7b8-519f138c6091",
     "text": "def three_frame_translation(seq):\n    for frame in range(3):\n        translation = seq[frame:].translate()\n        yield translation\n        \ndef three_frame_translation_no_stops(seq):\n    return [t for t in three_frame_translation(seq) if '*' not in t]\n\ndef six_frame_translation(seq):\n    forward_translations = [x for x in three_frame_translation(seq) if '*' not in x]\n\nwith gzip.open('SRR306838_GSM752691_hsa_br_F_1_trimmed_subsampled.fq.gz', 'rt') as f:\n    for i, record in zip(range(5), SeqIO(f, 'fastq')):\n        print(record.description)\n        print(str(record.seq))\n        print(three_frame_translation(seq))\n        print(three_frame_translation(seq[::-1]))"
    },
    "executionTime": "2019-09-18T12:40:30.279Z"
   },
   {
    "cell": {
     "executionCount": 34,
     "executionEventId": "31f0c24e-1b18-40ff-85c1-bcd3afc4cb34",
     "hasError": true,
     "id": "7b834435-4c4d-4a94-befd-712cc920dd65",
     "outputs": [
      {
       "name": "stdout",
       "output_type": "stream",
       "text": "SRR306838.10559374 Ibis_Run100924_C3PO:6:51:17601:17119/1\nCGCTTGCTTAATACTGACATCAATAATATTAGGAAAATCGCAATATAACTGTAAATCCTGTTCTGTC\n"
      },
      {
       "ename": "NameError",
       "evalue": "name 'seq' is not defined",
       "output_type": "error",
       "traceback": [
        "\u001b[0;31m---------------------------------------------------------------------------\u001b[0m",
        "\u001b[0;31mNameError\u001b[0m                                 Traceback (most recent call last)",
        "\u001b[0;32m<ipython-input-34-8e368cd5a243>\u001b[0m in \u001b[0;36m<module>\u001b[0;34m()\u001b[0m\n\u001b[1;32m     14\u001b[0m         \u001b[0mprint\u001b[0m\u001b[0;34m(\u001b[0m\u001b[0mrecord\u001b[0m\u001b[0;34m.\u001b[0m\u001b[0mdescription\u001b[0m\u001b[0;34m)\u001b[0m\u001b[0;34m\u001b[0m\u001b[0;34m\u001b[0m\u001b[0m\n\u001b[1;32m     15\u001b[0m         \u001b[0mprint\u001b[0m\u001b[0;34m(\u001b[0m\u001b[0mstr\u001b[0m\u001b[0;34m(\u001b[0m\u001b[0mrecord\u001b[0m\u001b[0;34m.\u001b[0m\u001b[0mseq\u001b[0m\u001b[0;34m)\u001b[0m\u001b[0;34m)\u001b[0m\u001b[0;34m\u001b[0m\u001b[0;34m\u001b[0m\u001b[0m\n\u001b[0;32m---> 16\u001b[0;31m         \u001b[0mprint\u001b[0m\u001b[0;34m(\u001b[0m\u001b[0mthree_frame_translation\u001b[0m\u001b[0;34m(\u001b[0m\u001b[0mseq\u001b[0m\u001b[0;34m)\u001b[0m\u001b[0;34m)\u001b[0m\u001b[0;34m\u001b[0m\u001b[0;34m\u001b[0m\u001b[0m\n\u001b[0m\u001b[1;32m     17\u001b[0m         \u001b[0mprint\u001b[0m\u001b[0;34m(\u001b[0m\u001b[0mthree_frame_translation\u001b[0m\u001b[0;34m(\u001b[0m\u001b[0mseq\u001b[0m\u001b[0;34m[\u001b[0m\u001b[0;34m:\u001b[0m\u001b[0;34m:\u001b[0m\u001b[0;34m-\u001b[0m\u001b[0;36m1\u001b[0m\u001b[0;34m]\u001b[0m\u001b[0;34m)\u001b[0m\u001b[0;34m)\u001b[0m\u001b[0;34m\u001b[0m\u001b[0;34m\u001b[0m\u001b[0m\n",
        "\u001b[0;31mNameError\u001b[0m: name 'seq' is not defined"
       ]
      }
     ],
     "persistentId": "39699f59-df26-4089-a7b8-519f138c6091",
     "text": "def three_frame_translation(seq):\n    for frame in range(3):\n        translation = seq[frame:].translate()\n        yield translation\n        \ndef three_frame_translation_no_stops(seq):\n    return [t for t in three_frame_translation(seq) if '*' not in t]\n\ndef six_frame_translation(seq):\n    forward_translations = [x for x in three_frame_translation(seq) if '*' not in x]\n\nwith gzip.open('SRR306838_GSM752691_hsa_br_F_1_trimmed_subsampled.fq.gz', 'rt') as f:\n    for i, record in zip(range(5), SeqIO.parse(f, 'fastq')):\n        print(record.description)\n        print(str(record.seq))\n        print(three_frame_translation(seq))\n        print(three_frame_translation(seq[::-1]))"
    },
    "executionTime": "2019-09-18T12:40:35.021Z"
   },
   {
    "cell": {
     "executionCount": 35,
     "executionEventId": "7316fc6e-8cc0-4d5d-8b08-83d7ff87dd21",
     "hasError": true,
     "id": "7b834435-4c4d-4a94-befd-712cc920dd65",
     "outputs": [
      {
       "name": "stdout",
       "output_type": "stream",
       "text": "SRR306838.10559374 Ibis_Run100924_C3PO:6:51:17601:17119/1\nCGCTTGCTTAATACTGACATCAATAATATTAGGAAAATCGCAATATAACTGTAAATCCTGTTCTGTC\n<generator object three_frame_translation at 0x7fe26ed50c50>\n"
      },
      {
       "ename": "NameError",
       "evalue": "name 'recordseq' is not defined",
       "output_type": "error",
       "traceback": [
        "\u001b[0;31m---------------------------------------------------------------------------\u001b[0m",
        "\u001b[0;31mNameError\u001b[0m                                 Traceback (most recent call last)",
        "\u001b[0;32m<ipython-input-35-415e3b7cf0b9>\u001b[0m in \u001b[0;36m<module>\u001b[0;34m()\u001b[0m\n\u001b[1;32m     15\u001b[0m         \u001b[0mprint\u001b[0m\u001b[0;34m(\u001b[0m\u001b[0mstr\u001b[0m\u001b[0;34m(\u001b[0m\u001b[0mrecord\u001b[0m\u001b[0;34m.\u001b[0m\u001b[0mseq\u001b[0m\u001b[0;34m)\u001b[0m\u001b[0;34m)\u001b[0m\u001b[0;34m\u001b[0m\u001b[0;34m\u001b[0m\u001b[0m\n\u001b[1;32m     16\u001b[0m         \u001b[0mprint\u001b[0m\u001b[0;34m(\u001b[0m\u001b[0mthree_frame_translation\u001b[0m\u001b[0;34m(\u001b[0m\u001b[0mrecord\u001b[0m\u001b[0;34m.\u001b[0m\u001b[0mseq\u001b[0m\u001b[0;34m)\u001b[0m\u001b[0;34m)\u001b[0m\u001b[0;34m\u001b[0m\u001b[0;34m\u001b[0m\u001b[0m\n\u001b[0;32m---> 17\u001b[0;31m         \u001b[0mprint\u001b[0m\u001b[0;34m(\u001b[0m\u001b[0mthree_frame_translation\u001b[0m\u001b[0;34m(\u001b[0m\u001b[0mrecordseq\u001b[0m\u001b[0;34m[\u001b[0m\u001b[0;34m:\u001b[0m\u001b[0;34m:\u001b[0m\u001b[0;34m-\u001b[0m\u001b[0;36m1\u001b[0m\u001b[0;34m]\u001b[0m\u001b[0;34m)\u001b[0m\u001b[0;34m)\u001b[0m\u001b[0;34m\u001b[0m\u001b[0;34m\u001b[0m\u001b[0m\n\u001b[0m",
        "\u001b[0;31mNameError\u001b[0m: name 'recordseq' is not defined"
       ]
      }
     ],
     "persistentId": "39699f59-df26-4089-a7b8-519f138c6091",
     "text": "def three_frame_translation(seq):\n    for frame in range(3):\n        translation = seq[frame:].translate()\n        yield translation\n        \ndef three_frame_translation_no_stops(seq):\n    return [t for t in three_frame_translation(seq) if '*' not in t]\n\ndef six_frame_translation(seq):\n    forward_translations = [x for x in three_frame_translation(seq) if '*' not in x]\n\nwith gzip.open('SRR306838_GSM752691_hsa_br_F_1_trimmed_subsampled.fq.gz', 'rt') as f:\n    for i, record in zip(range(5), SeqIO.parse(f, 'fastq')):\n        print(record.description)\n        print(str(record.seq))\n        print(three_frame_translation(record.seq))\n        print(three_frame_translation(recordseq[::-1]))"
    },
    "executionTime": "2019-09-18T12:40:43.917Z"
   },
   {
    "cell": {
     "executionCount": 36,
     "executionEventId": "6705dcd5-3c79-4f58-ae83-1556fea86d93",
     "hasError": false,
     "id": "7b834435-4c4d-4a94-befd-712cc920dd65",
     "outputs": [
      {
       "name": "stdout",
       "output_type": "stream",
       "text": "SRR306838.10559374 Ibis_Run100924_C3PO:6:51:17601:17119/1\nCGCTTGCTTAATACTGACATCAATAATATTAGGAAAATCGCAATATAACTGTAAATCCTGTTCTGTC\n<generator object three_frame_translation at 0x7fe26ecec4c0>\n<generator object three_frame_translation at 0x7fe26ecec4c0>\nSRR306838.6196593 Ibis_Run100924_C3PO:6:29:16733:12435/1\nTCTAGAATGTGAAATAACGTACTTCATGTGTCTTCTTACCAAAAATACCAACGATAAGGGGAAAAGCCATC\n<generator object three_frame_translation at 0x7fe26ecec728>\n<generator object three_frame_translation at 0x7fe26ecec728>\nSRR306838.20767303 Ibis_Run100924_C3PO:6:104:6864:5062/1\nCAATCATCATCACTTTCTAATTCCAGAATATTTTCATCACCCCAAAAAGAAATCCTAAATCCATTAGC\n<generator object three_frame_translation at 0x7fe26ecec4c0>\n<generator object three_frame_translation at 0x7fe26ecec4c0>\nSRR306838.12582274 Ibis_Run100924_C3PO:6:62:11779:17975/1\nCAAAAGTGAAGACCTCCCTGGGGTCTTCAAAGACAGCCTTTGCTCTCCATGTAGCCAATGGTGCTCT\n<generator object three_frame_translation at 0x7fe26ecec728>\n<generator object three_frame_translation at 0x7fe26ecec728>\nSRR306838.13334230 Ibis_Run100924_C3PO:6:66:16579:20350/1\nGTAACCCTTAATTCCTCAGAAAAAATAGACAACATAGTGGAGTGGGATGGAGGAAC\n<generator object three_frame_translation at 0x7fe26ecec4c0>\n<generator object three_frame_translation at 0x7fe26ecec4c0>\n"
      }
     ],
     "persistentId": "39699f59-df26-4089-a7b8-519f138c6091",
     "text": "def three_frame_translation(seq):\n    for frame in range(3):\n        translation = seq[frame:].translate()\n        yield translation\n        \ndef three_frame_translation_no_stops(seq):\n    return [t for t in three_frame_translation(seq) if '*' not in t]\n\ndef six_frame_translation(seq):\n    forward_translations = [x for x in three_frame_translation(seq) if '*' not in x]\n\nwith gzip.open('SRR306838_GSM752691_hsa_br_F_1_trimmed_subsampled.fq.gz', 'rt') as f:\n    for i, record in zip(range(5), SeqIO.parse(f, 'fastq')):\n        print(record.description)\n        print(str(record.seq))\n        print(three_frame_translation(record.seq))\n        print(three_frame_translation(record.seq[::-1]))"
    },
    "executionTime": "2019-09-18T12:40:45.762Z"
   },
   {
    "cell": {
     "executionCount": 37,
     "executionEventId": "33e72e56-2016-4aa0-bb2c-7ec64e244d94",
     "hasError": false,
     "id": "7b834435-4c4d-4a94-befd-712cc920dd65",
     "outputs": [
      {
       "name": "stdout",
       "output_type": "stream",
       "text": "SRR306838.10559374 Ibis_Run100924_C3PO:6:51:17601:17119/1\nCGCTTGCTTAATACTGACATCAATAATATTAGGAAAATCGCAATATAACTGTAAATCCTGTTCTGTC\n[Seq('RLLNTDINNIRKIAI*L*ILFC', HasStopCodon(ExtendedIUPACProtein(), '*')), Seq('ACLILTSIILGKSQYNCKSCSV', ExtendedIUPACProtein()), Seq('LA*Y*HQ*Y*ENRNITVNPVL', HasStopCodon(ExtendedIUPACProtein(), '*'))]\n[Seq('LSCPKCQYNAKRIIITTVIIRS', ExtendedIUPACProtein()), Seq('CLVLNVNITLKGL**LQS*FVR', HasStopCodon(ExtendedIUPACProtein(), '*')), Seq('VLS*MSI*R*KDYNNYSHNSF', HasStopCodon(ExtendedIUPACProtein(), '*'))]\nSRR306838.6196593 Ibis_Run100924_C3PO:6:29:16733:12435/1\nTCTAGAATGTGAAATAACGTACTTCATGTGTCTTCTTACCAAAAATACCAACGATAAGGGGAAAAGCCATC\n[Seq('SRM*NNVLHVSSYQKYQR*GEKP', HasStopCodon(ExtendedIUPACProtein(), '*')), Seq('LECEITYFMCLLTKNTNDKGKSH', ExtendedIUPACProtein()), Seq('*NVK*RTSCVFLPKIPTIRGKAI', HasStopCodon(ExtendedIUPACProtein(), '*'))]\n[Seq('LPKRGIATIKTILLCTSCNKV*D', HasStopCodon(ExtendedIUPACProtein(), '*')), Seq('YRKGE*QP*KPFFCVLHAIKCKI', HasStopCodon(ExtendedIUPACProtein(), '*')), Seq('TEKGNSNHKNHSSVYFMQ*SVRS', HasStopCodon(ExtendedIUPACProtein(), '*'))]\nSRR306838.20767303 Ibis_Run100924_C3PO:6:104:6864:5062/1\nCAATCATCATCACTTTCTAATTCCAGAATATTTTCATCACCCCAAAAAGAAATCCTAAATCCATTAGC\n[Seq('QSSSLSNSRIFSSPQKEILNPL', ExtendedIUPACProtein()), Seq('NHHHFLIPEYFHHPKKKS*IH*', HasStopCodon(ExtendedIUPACProtein(), '*')), Seq('IIITF*FQNIFITPKRNPKSIS', HasStopCodon(ExtendedIUPACProtein(), '*'))]\n[Seq('RLPKS*RKTPLLL*DLNLSLLL', HasStopCodon(ExtendedIUPACProtein(), '*')), Seq('DYLNPKEKPHYFYKTLIFHYY*', HasStopCodon(ExtendedIUPACProtein(), '*')), Seq('IT*ILKKNPTTFIRP*SFTTTN', HasStopCodon(ExtendedIUPACProtein(), '*'))]\nSRR306838.12582274 Ibis_Run100924_C3PO:6:62:11779:17975/1\nCAAAAGTGAAGACCTCCCTGGGGTCTTCAAAGACAGCCTTTGCTCTCCATGTAGCCAATGGTGCTCT\n[Seq('QK*RPPWGLQRQPLLSM*PMVL', HasStopCodon(ExtendedIUPACProtein(), '*')), Seq('KSEDLPGVFKDSLCSPCSQWCS', ExtendedIUPACProtein()), Seq('KVKTSLGSSKTAFALHVANGA', ExtendedIUPACProtein())]\n[Seq('SRGNRCTSRFRQKLLGSLQK*K', HasStopCodon(ExtendedIUPACProtein(), '*')), Seq('LVVTDVPLVSDRNFWGPSRSEN', ExtendedIUPACProtein()), Seq('SW*PMYLSFPTETSGVPPEVK', HasStopCodon(ExtendedIUPACProtein(), '*'))]\nSRR306838.13334230 Ibis_Run100924_C3PO:6:66:16579:20350/1\nGTAACCCTTAATTCCTCAGAAAAAATAGACAACATAGTGGAGTGGGATGGAGGAAC\n[Seq('VTLNSSEKIDNIVEWDGG', ExtendedIUPACProtein()), Seq('*PLIPQKK*TT*WSGMEE', HasStopCodon(ExtendedIUPACProtein(), '*')), Seq('NP*FLRKNRQHSGVGWRN', HasStopCodon(ExtendedIUPACProtein(), '*'))]\n[Seq('QGGRVR*YNR*KRLLNSQ', HasStopCodon(ExtendedIUPACProtein(), '*')), Seq('KEVG*GDTTDKKDSLIPN', HasStopCodon(ExtendedIUPACProtein(), '*')), Seq('RR*GEVIQQIKKTP*FPM', HasStopCodon(ExtendedIUPACProtein(), '*'))]\n"
      },
      {
       "name": "stderr",
       "output_type": "stream",
       "text": "/home/olga/miniconda3/envs/kmer-hashing/lib/python3.6/site-packages/Bio/Seq.py:2715: BiopythonWarning: Partial codon, len(sequence) not a multiple of three. Explicitly trim the sequence or add trailing N before translation. This may become an error in future.\n  BiopythonWarning)\n"
      }
     ],
     "persistentId": "39699f59-df26-4089-a7b8-519f138c6091",
     "text": "def three_frame_translation(seq):\n    for frame in range(3):\n        translation = seq[frame:].translate()\n        yield translation\n        \ndef three_frame_translation_no_stops(seq):\n    return [t for t in three_frame_translation(seq) if '*' not in t]\n\ndef six_frame_translation(seq):\n    forward_translations = [x for x in three_frame_translation(seq) if '*' not in x]\n\nwith gzip.open('SRR306838_GSM752691_hsa_br_F_1_trimmed_subsampled.fq.gz', 'rt') as f:\n    for i, record in zip(range(5), SeqIO.parse(f, 'fastq')):\n        print(record.description)\n        print(str(record.seq))\n        print(list(three_frame_translation(record.seq)))\n        print(list(three_frame_translation(record.seq[::-1])))"
    },
    "executionTime": "2019-09-18T12:40:56.801Z"
   },
   {
    "cell": {
     "executionCount": 38,
     "executionEventId": "ff20cd2a-6c1d-4ea1-b51b-c9838c4ebe5d",
     "hasError": false,
     "id": "18f4e062-6e6e-49ae-b434-8b8b5129920e",
     "outputs": [
      {
       "data": {
        "text/plain": "Seq('GTTCCTCCATCCCACTCCACTATGTTGTCTATTTTTTCTGAGGAATTAAGGGTTAC', SingleLetterAlphabet())"
       },
       "execution_count": 38,
       "metadata": {},
       "output_type": "execute_result"
      }
     ],
     "persistentId": "e9c939ed-e704-4d0c-96ba-0a78453670b7",
     "text": "record.seq.reverse_complement()"
    },
    "executionTime": "2019-09-18T12:42:51.094Z"
   },
   {
    "cell": {
     "executionCount": 39,
     "executionEventId": "55b6081b-30d5-4da6-8c9a-46b0eb20dbf4",
     "hasError": false,
     "id": "7b834435-4c4d-4a94-befd-712cc920dd65",
     "outputs": [
      {
       "name": "stdout",
       "output_type": "stream",
       "text": "SRR306838.10559374 Ibis_Run100924_C3PO:6:51:17601:17119/1\nCGCTTGCTTAATACTGACATCAATAATATTAGGAAAATCGCAATATAACTGTAAATCCTGTTCTGTC\n[Seq('RLLNTDINNIRKIAI*L*ILFC', HasStopCodon(ExtendedIUPACProtein(), '*')), Seq('ACLILTSIILGKSQYNCKSCSV', ExtendedIUPACProtein()), Seq('LA*Y*HQ*Y*ENRNITVNPVL', HasStopCodon(ExtendedIUPACProtein(), '*'))]\n[Seq('LSCPKCQYNAKRIIITTVIIRS', ExtendedIUPACProtein()), Seq('CLVLNVNITLKGL**LQS*FVR', HasStopCodon(ExtendedIUPACProtein(), '*')), Seq('VLS*MSI*R*KDYNNYSHNSF', HasStopCodon(ExtendedIUPACProtein(), '*'))]\nSRR306838.6196593 Ibis_Run100924_C3PO:6:29:16733:12435/1\nTCTAGAATGTGAAATAACGTACTTCATGTGTCTTCTTACCAAAAATACCAACGATAAGGGGAAAAGCCATC\n[Seq('SRM*NNVLHVSSYQKYQR*GEKP', HasStopCodon(ExtendedIUPACProtein(), '*')), Seq('LECEITYFMCLLTKNTNDKGKSH', ExtendedIUPACProtein()), Seq('*NVK*RTSCVFLPKIPTIRGKAI', HasStopCodon(ExtendedIUPACProtein(), '*'))]\n[Seq('LPKRGIATIKTILLCTSCNKV*D', HasStopCodon(ExtendedIUPACProtein(), '*')), Seq('YRKGE*QP*KPFFCVLHAIKCKI', HasStopCodon(ExtendedIUPACProtein(), '*')), Seq('TEKGNSNHKNHSSVYFMQ*SVRS', HasStopCodon(ExtendedIUPACProtein(), '*'))]\nSRR306838.20767303 Ibis_Run100924_C3PO:6:104:6864:5062/1\nCAATCATCATCACTTTCTAATTCCAGAATATTTTCATCACCCCAAAAAGAAATCCTAAATCCATTAGC\n[Seq('QSSSLSNSRIFSSPQKEILNPL', ExtendedIUPACProtein()), Seq('NHHHFLIPEYFHHPKKKS*IH*', HasStopCodon(ExtendedIUPACProtein(), '*')), Seq('IIITF*FQNIFITPKRNPKSIS', HasStopCodon(ExtendedIUPACProtein(), '*'))]\n[Seq('RLPKS*RKTPLLL*DLNLSLLL', HasStopCodon(ExtendedIUPACProtein(), '*')), Seq('DYLNPKEKPHYFYKTLIFHYY*', HasStopCodon(ExtendedIUPACProtein(), '*')), Seq('IT*ILKKNPTTFIRP*SFTTTN', HasStopCodon(ExtendedIUPACProtein(), '*'))]\nSRR306838.12582274 Ibis_Run100924_C3PO:6:62:11779:17975/1\nCAAAAGTGAAGACCTCCCTGGGGTCTTCAAAGACAGCCTTTGCTCTCCATGTAGCCAATGGTGCTCT\n[Seq('QK*RPPWGLQRQPLLSM*PMVL', HasStopCodon(ExtendedIUPACProtein(), '*')), Seq('KSEDLPGVFKDSLCSPCSQWCS', ExtendedIUPACProtein()), Seq('KVKTSLGSSKTAFALHVANGA', ExtendedIUPACProtein())]\n[Seq('SRGNRCTSRFRQKLLGSLQK*K', HasStopCodon(ExtendedIUPACProtein(), '*')), Seq('LVVTDVPLVSDRNFWGPSRSEN', ExtendedIUPACProtein()), Seq('SW*PMYLSFPTETSGVPPEVK', HasStopCodon(ExtendedIUPACProtein(), '*'))]\nSRR306838.13334230 Ibis_Run100924_C3PO:6:66:16579:20350/1\nGTAACCCTTAATTCCTCAGAAAAAATAGACAACATAGTGGAGTGGGATGGAGGAAC\n[Seq('VTLNSSEKIDNIVEWDGG', ExtendedIUPACProtein()), Seq('*PLIPQKK*TT*WSGMEE', HasStopCodon(ExtendedIUPACProtein(), '*')), Seq('NP*FLRKNRQHSGVGWRN', HasStopCodon(ExtendedIUPACProtein(), '*'))]\n[Seq('QGGRVR*YNR*KRLLNSQ', HasStopCodon(ExtendedIUPACProtein(), '*')), Seq('KEVG*GDTTDKKDSLIPN', HasStopCodon(ExtendedIUPACProtein(), '*')), Seq('RR*GEVIQQIKKTP*FPM', HasStopCodon(ExtendedIUPACProtein(), '*'))]\n"
      },
      {
       "name": "stderr",
       "output_type": "stream",
       "text": "/home/olga/miniconda3/envs/kmer-hashing/lib/python3.6/site-packages/Bio/Seq.py:2715: BiopythonWarning: Partial codon, len(sequence) not a multiple of three. Explicitly trim the sequence or add trailing N before translation. This may become an error in future.\n  BiopythonWarning)\n"
      }
     ],
     "persistentId": "39699f59-df26-4089-a7b8-519f138c6091",
     "text": "def three_frame_translation(seq):\n    for frame in range(3):\n        translation = seq[frame:].translate()\n        yield translation\n        \ndef three_frame_translation_no_stops(seq):\n    return [t for t in three_frame_translation(seq) if '*' not in t]\n\n\nwith gzip.open('SRR306838_GSM752691_hsa_br_F_1_trimmed_subsampled.fq.gz', 'rt') as f:\n    for i, record in zip(range(5), SeqIO.parse(f, 'fastq')):\n        print(record.description)\n        print(str(record.seq))\n        print(list(three_frame_translation(record.seq)))\n        print(list(three_frame_translation(record.seq[::-1])))"
    },
    "executionTime": "2019-09-18T12:43:32.595Z"
   },
   {
    "cell": {
     "executionCount": 40,
     "executionEventId": "03f91203-6f31-4ecb-8cc5-35265f371106",
     "hasError": false,
     "id": "55e10ce9-7ecf-4d47-acc0-263024add8bd",
     "outputs": [
      {
       "name": "stdout",
       "output_type": "stream",
       "text": "SRR306838.10559374 Ibis_Run100924_C3PO:6:51:17601:17119/1\nCGCTTGCTTAATACTGACATCAATAATATTAGGAAAATCGCAATATAACTGTAAATCCTGTTCTGTC\n\tACLILTSIILGKSQYNCKSCSV\n\tTEQDLQLYCDFPNIIDVSIKQA\n\tQNRIYSYIAIFLILLMSVLSK\nSRR306838.6196593 Ibis_Run100924_C3PO:6:29:16733:12435/1\nTCTAGAATGTGAAATAACGTACTTCATGTGTCTTCTTACCAAAAATACCAACGATAAGGGGAAAAGCCATC\n\tLECEITYFMCLLTKNTNDKGKSH\n\tWLFPLSLVFLVRRHMKYVISHSR\nSRR306838.20767303 Ibis_Run100924_C3PO:6:104:6864:5062/1\nCAATCATCATCACTTTCTAATTCCAGAATATTTTCATCACCCCAAAAAGAAATCCTAAATCCATTAGC\n\tQSSSLSNSRIFSSPQKEILNPL\n\tANGFRISFWGDENILELESDDD\nSRR306838.12582274 Ibis_Run100924_C3PO:6:62:11779:17975/1\nCAAAAGTGAAGACCTCCCTGGGGTCTTCAAAGACAGCCTTTGCTCTCCATGTAGCCAATGGTGCTCT\n\tKSEDLPGVFKDSLCSPCSQWCS\n\tKVKTSLGSSKTAFALHVANGA\n\tRAPLATWRAKAVFEDPREVFTF\n\tEHHWLHGEQRLSLKTPGRSSLL\nSRR306838.13334230 Ibis_Run100924_C3PO:6:66:16579:20350/1\nGTAACCCTTAATTCCTCAGAAAAAATAGACAACATAGTGGAGTGGGATGGAGGAAC\n\tVTLNSSEKIDNIVEWDGG\n\tVPPSHSTMLSIFSEELRV\n"
      },
      {
       "name": "stderr",
       "output_type": "stream",
       "text": "/home/olga/miniconda3/envs/kmer-hashing/lib/python3.6/site-packages/Bio/Seq.py:2715: BiopythonWarning: Partial codon, len(sequence) not a multiple of three. Explicitly trim the sequence or add trailing N before translation. This may become an error in future.\n  BiopythonWarning)\n"
      }
     ],
     "persistentId": "954ef7d8-1e5c-43fa-87bf-0098fd2cd414",
     "text": "\ndef six_frame_translation_no_stops(seq):\n    forward_translations = three_frame_translation_no_stops(seq)\n    reverse_translations = three_frame_translation_no_stops(seq.reverse_complement())\n    return forward_translations + reverse_translations\n\nwith gzip.open('SRR306838_GSM752691_hsa_br_F_1_trimmed_subsampled.fq.gz', 'rt') as f:\n    for i, record in zip(range(5), SeqIO.parse(f, 'fastq')):\n        print(record.description)\n        print(str(record.seq))\n        translations = six_frame_translation_no_stops(record.seq)\n        for translation in translations:\n            print(f\"\\t{translation}\")"
    },
    "executionTime": "2019-09-18T12:44:10.882Z"
   },
   {
    "cell": {
     "executionCount": 41,
     "executionEventId": "67afeb45-1fd5-4160-9305-6c183e6cc855",
     "hasError": true,
     "id": "55e10ce9-7ecf-4d47-acc0-263024add8bd",
     "outputs": [
      {
       "name": "stdout",
       "output_type": "stream",
       "text": "SRR306838.10559374 Ibis_Run100924_C3PO:6:51:17601:17119/1\nCGCTTGCTTAATACTGACATCAATAATATTAGGAAAATCGCAATATAACTGTAAATCCTGTTCTGTC\n\tACLILTSIILGKSQYNCKSCSV\n"
      },
      {
       "name": "stderr",
       "output_type": "stream",
       "text": "/home/olga/miniconda3/envs/kmer-hashing/lib/python3.6/site-packages/Bio/Seq.py:2715: BiopythonWarning: Partial codon, len(sequence) not a multiple of three. Explicitly trim the sequence or add trailing N before translation. This may become an error in future.\n  BiopythonWarning)\n"
      },
      {
       "ename": "TypeError",
       "evalue": "kmerize() missing 1 required positional argument: 'ksize'",
       "output_type": "error",
       "traceback": [
        "\u001b[0;31m---------------------------------------------------------------------------\u001b[0m",
        "\u001b[0;31mTypeError\u001b[0m                                 Traceback (most recent call last)",
        "\u001b[0;32m<ipython-input-41-e20a2cf23587>\u001b[0m in \u001b[0;36m<module>\u001b[0;34m()\u001b[0m\n\u001b[1;32m     12\u001b[0m         \u001b[0;32mfor\u001b[0m \u001b[0mtranslation\u001b[0m \u001b[0;32min\u001b[0m \u001b[0mtranslations\u001b[0m\u001b[0;34m:\u001b[0m\u001b[0;34m\u001b[0m\u001b[0;34m\u001b[0m\u001b[0m\n\u001b[1;32m     13\u001b[0m             \u001b[0mprint\u001b[0m\u001b[0;34m(\u001b[0m\u001b[0;34mf\"\\t{translation}\"\u001b[0m\u001b[0;34m)\u001b[0m\u001b[0;34m\u001b[0m\u001b[0;34m\u001b[0m\u001b[0m\n\u001b[0;32m---> 14\u001b[0;31m             \u001b[0mkmers\u001b[0m \u001b[0;34m=\u001b[0m \u001b[0mset\u001b[0m\u001b[0;34m(\u001b[0m\u001b[0mkmerize\u001b[0m\u001b[0;34m(\u001b[0m\u001b[0mtranslation\u001b[0m\u001b[0;34m)\u001b[0m\u001b[0;34m)\u001b[0m\u001b[0;34m\u001b[0m\u001b[0;34m\u001b[0m\u001b[0m\n\u001b[0m\u001b[1;32m     15\u001b[0m             \u001b[0mn_kmers\u001b[0m \u001b[0;34m=\u001b[0m \u001b[0mlen\u001b[0m\u001b[0;34m(\u001b[0m\u001b[0mkmers\u001b[0m\u001b[0;34m)\u001b[0m\u001b[0;34m\u001b[0m\u001b[0;34m\u001b[0m\u001b[0m\n\u001b[1;32m     16\u001b[0m             \u001b[0mn_kmers_in_peptide_db\u001b[0m \u001b[0;34m=\u001b[0m \u001b[0msum\u001b[0m\u001b[0;34m(\u001b[0m\u001b[0;36m1\u001b[0m \u001b[0;32mfor\u001b[0m \u001b[0mkmer\u001b[0m \u001b[0;32min\u001b[0m \u001b[0mkmers\u001b[0m \u001b[0;32mif\u001b[0m \u001b[0mpeptide_graph\u001b[0m\u001b[0;34m.\u001b[0m\u001b[0mget\u001b[0m\u001b[0;34m(\u001b[0m\u001b[0mkmer\u001b[0m\u001b[0;34m)\u001b[0m \u001b[0;34m>\u001b[0m \u001b[0;36m0\u001b[0m\u001b[0;34m)\u001b[0m\u001b[0;34m\u001b[0m\u001b[0;34m\u001b[0m\u001b[0m\n",
        "\u001b[0;31mTypeError\u001b[0m: kmerize() missing 1 required positional argument: 'ksize'"
       ]
      }
     ],
     "persistentId": "954ef7d8-1e5c-43fa-87bf-0098fd2cd414",
     "text": "\ndef six_frame_translation_no_stops(seq):\n    forward_translations = three_frame_translation_no_stops(seq)\n    reverse_translations = three_frame_translation_no_stops(seq.reverse_complement())\n    return forward_translations + reverse_translations\n\nwith gzip.open('SRR306838_GSM752691_hsa_br_F_1_trimmed_subsampled.fq.gz', 'rt') as f:\n    for i, record in zip(range(5), SeqIO.parse(f, 'fastq')):\n        print(record.description)\n        print(str(record.seq))\n        translations = six_frame_translation_no_stops(record.seq)\n        for translation in translations:\n            print(f\"\\t{translation}\")\n            kmers = set(kmerize(translation))\n            n_kmers = len(kmers)\n            n_kmers_in_peptide_db = sum(1 for kmer in kmers if peptide_graph.get(kmer) > 0)\n            print(f'n_kmers_in_peptide_db/n_kmers: {n_kmers_in_peptide_db}/{n_kmers} = {n_kmers_in_peptide_db/n_kmers}')"
    },
    "executionTime": "2019-09-18T12:45:53.033Z"
   },
   {
    "cell": {
     "executionCount": 42,
     "executionEventId": "4db8eb3c-9981-4593-861d-acc7a90f39de",
     "hasError": true,
     "id": "55e10ce9-7ecf-4d47-acc0-263024add8bd",
     "outputs": [
      {
       "name": "stdout",
       "output_type": "stream",
       "text": "SRR306838.10559374 Ibis_Run100924_C3PO:6:51:17601:17119/1\nCGCTTGCTTAATACTGACATCAATAATATTAGGAAAATCGCAATATAACTGTAAATCCTGTTCTGTC\n\tACLILTSIILGKSQYNCKSCSV\n"
      },
      {
       "name": "stderr",
       "output_type": "stream",
       "text": "/home/olga/miniconda3/envs/kmer-hashing/lib/python3.6/site-packages/Bio/Seq.py:2715: BiopythonWarning: Partial codon, len(sequence) not a multiple of three. Explicitly trim the sequence or add trailing N before translation. This may become an error in future.\n  BiopythonWarning)\n/home/olga/miniconda3/envs/kmer-hashing/lib/python3.6/site-packages/Bio/Seq.py:175: BiopythonWarning: Biopython Seq objects now use string comparison. Older versions of Biopython used object comparison. During this transition, please use hash(id(my_seq)) or my_dict[id(my_seq)] if you want the old behaviour, or use hash(str(my_seq)) or my_dict[str(my_seq)] for the new string hashing behaviour.\n  \"the new string hashing behaviour.\", BiopythonWarning)\n"
      },
      {
       "ename": "TypeError",
       "evalue": "Object of type <class 'Bio.Seq.Seq'> can not be interpretted as  a k-mer",
       "output_type": "error",
       "traceback": [
        "\u001b[0;31m---------------------------------------------------------------------------\u001b[0m",
        "\u001b[0;31mTypeError\u001b[0m                                 Traceback (most recent call last)",
        "\u001b[0;32m<ipython-input-42-d2c704473485>\u001b[0m in \u001b[0;36m<module>\u001b[0;34m()\u001b[0m\n\u001b[1;32m     14\u001b[0m             \u001b[0mkmers\u001b[0m \u001b[0;34m=\u001b[0m \u001b[0mset\u001b[0m\u001b[0;34m(\u001b[0m\u001b[0mkmerize\u001b[0m\u001b[0;34m(\u001b[0m\u001b[0mtranslation\u001b[0m\u001b[0;34m,\u001b[0m \u001b[0mpeptide_ksize\u001b[0m\u001b[0;34m)\u001b[0m\u001b[0;34m)\u001b[0m\u001b[0;34m\u001b[0m\u001b[0;34m\u001b[0m\u001b[0m\n\u001b[1;32m     15\u001b[0m             \u001b[0mn_kmers\u001b[0m \u001b[0;34m=\u001b[0m \u001b[0mlen\u001b[0m\u001b[0;34m(\u001b[0m\u001b[0mkmers\u001b[0m\u001b[0;34m)\u001b[0m\u001b[0;34m\u001b[0m\u001b[0;34m\u001b[0m\u001b[0m\n\u001b[0;32m---> 16\u001b[0;31m             \u001b[0mn_kmers_in_peptide_db\u001b[0m \u001b[0;34m=\u001b[0m \u001b[0msum\u001b[0m\u001b[0;34m(\u001b[0m\u001b[0;36m1\u001b[0m \u001b[0;32mfor\u001b[0m \u001b[0mkmer\u001b[0m \u001b[0;32min\u001b[0m \u001b[0mkmers\u001b[0m \u001b[0;32mif\u001b[0m \u001b[0mpeptide_graph\u001b[0m\u001b[0;34m.\u001b[0m\u001b[0mget\u001b[0m\u001b[0;34m(\u001b[0m\u001b[0mkmer\u001b[0m\u001b[0;34m)\u001b[0m \u001b[0;34m>\u001b[0m \u001b[0;36m0\u001b[0m\u001b[0;34m)\u001b[0m\u001b[0;34m\u001b[0m\u001b[0;34m\u001b[0m\u001b[0m\n\u001b[0m\u001b[1;32m     17\u001b[0m             \u001b[0mprint\u001b[0m\u001b[0;34m(\u001b[0m\u001b[0;34mf'n_kmers_in_peptide_db/n_kmers: {n_kmers_in_peptide_db}/{n_kmers} = {n_kmers_in_peptide_db/n_kmers}'\u001b[0m\u001b[0;34m)\u001b[0m\u001b[0;34m\u001b[0m\u001b[0;34m\u001b[0m\u001b[0m\n",
        "\u001b[0;32m<ipython-input-42-d2c704473485>\u001b[0m in \u001b[0;36m<genexpr>\u001b[0;34m(.0)\u001b[0m\n\u001b[1;32m     14\u001b[0m             \u001b[0mkmers\u001b[0m \u001b[0;34m=\u001b[0m \u001b[0mset\u001b[0m\u001b[0;34m(\u001b[0m\u001b[0mkmerize\u001b[0m\u001b[0;34m(\u001b[0m\u001b[0mtranslation\u001b[0m\u001b[0;34m,\u001b[0m \u001b[0mpeptide_ksize\u001b[0m\u001b[0;34m)\u001b[0m\u001b[0;34m)\u001b[0m\u001b[0;34m\u001b[0m\u001b[0;34m\u001b[0m\u001b[0m\n\u001b[1;32m     15\u001b[0m             \u001b[0mn_kmers\u001b[0m \u001b[0;34m=\u001b[0m \u001b[0mlen\u001b[0m\u001b[0;34m(\u001b[0m\u001b[0mkmers\u001b[0m\u001b[0;34m)\u001b[0m\u001b[0;34m\u001b[0m\u001b[0;34m\u001b[0m\u001b[0m\n\u001b[0;32m---> 16\u001b[0;31m             \u001b[0mn_kmers_in_peptide_db\u001b[0m \u001b[0;34m=\u001b[0m \u001b[0msum\u001b[0m\u001b[0;34m(\u001b[0m\u001b[0;36m1\u001b[0m \u001b[0;32mfor\u001b[0m \u001b[0mkmer\u001b[0m \u001b[0;32min\u001b[0m \u001b[0mkmers\u001b[0m \u001b[0;32mif\u001b[0m \u001b[0mpeptide_graph\u001b[0m\u001b[0;34m.\u001b[0m\u001b[0mget\u001b[0m\u001b[0;34m(\u001b[0m\u001b[0mkmer\u001b[0m\u001b[0;34m)\u001b[0m \u001b[0;34m>\u001b[0m \u001b[0;36m0\u001b[0m\u001b[0;34m)\u001b[0m\u001b[0;34m\u001b[0m\u001b[0;34m\u001b[0m\u001b[0m\n\u001b[0m\u001b[1;32m     17\u001b[0m             \u001b[0mprint\u001b[0m\u001b[0;34m(\u001b[0m\u001b[0;34mf'n_kmers_in_peptide_db/n_kmers: {n_kmers_in_peptide_db}/{n_kmers} = {n_kmers_in_peptide_db/n_kmers}'\u001b[0m\u001b[0;34m)\u001b[0m\u001b[0;34m\u001b[0m\u001b[0;34m\u001b[0m\u001b[0m\n",
        "\u001b[0;32mkhmer/_oxli/graphs.pyx\u001b[0m in \u001b[0;36mkhmer._oxli.graphs.Hashtable.get\u001b[0;34m()\u001b[0m\n",
        "\u001b[0;32mkhmer/_oxli/graphs.pyx\u001b[0m in \u001b[0;36mkhmer._oxli.graphs.Hashtable._kmer_type_error\u001b[0;34m()\u001b[0m\n",
        "\u001b[0;31mTypeError\u001b[0m: Object of type <class 'Bio.Seq.Seq'> can not be interpretted as  a k-mer"
       ]
      }
     ],
     "persistentId": "954ef7d8-1e5c-43fa-87bf-0098fd2cd414",
     "text": "\ndef six_frame_translation_no_stops(seq):\n    forward_translations = three_frame_translation_no_stops(seq)\n    reverse_translations = three_frame_translation_no_stops(seq.reverse_complement())\n    return forward_translations + reverse_translations\n\nwith gzip.open('SRR306838_GSM752691_hsa_br_F_1_trimmed_subsampled.fq.gz', 'rt') as f:\n    for i, record in zip(range(5), SeqIO.parse(f, 'fastq')):\n        print(record.description)\n        print(str(record.seq))\n        translations = six_frame_translation_no_stops(record.seq)\n        for translation in translations:\n            print(f\"\\t{translation}\")\n            kmers = set(kmerize(translation, peptide_ksize))\n            n_kmers = len(kmers)\n            n_kmers_in_peptide_db = sum(1 for kmer in kmers if peptide_graph.get(kmer) > 0)\n            print(f'n_kmers_in_peptide_db/n_kmers: {n_kmers_in_peptide_db}/{n_kmers} = {n_kmers_in_peptide_db/n_kmers}')"
    },
    "executionTime": "2019-09-18T12:46:07.064Z"
   },
   {
    "cell": {
     "executionCount": 43,
     "executionEventId": "54d7cacf-2650-4d95-b654-fcaa5c2482cd",
     "hasError": false,
     "id": "55e10ce9-7ecf-4d47-acc0-263024add8bd",
     "outputs": [
      {
       "name": "stdout",
       "output_type": "stream",
       "text": "SRR306838.10559374 Ibis_Run100924_C3PO:6:51:17601:17119/1\nCGCTTGCTTAATACTGACATCAATAATATTAGGAAAATCGCAATATAACTGTAAATCCTGTTCTGTC\n\tACLILTSIILGKSQYNCKSCSV\nn_kmers_in_peptide_db/n_kmers: 18/18 = 1.0\n\tTEQDLQLYCDFPNIIDVSIKQA\nn_kmers_in_peptide_db/n_kmers: 18/18 = 1.0\n\tQNRIYSYIAIFLILLMSVLSK\nn_kmers_in_peptide_db/n_kmers: 17/17 = 1.0\nSRR306838.6196593 Ibis_Run100924_C3PO:6:29:16733:12435/1\nTCTAGAATGTGAAATAACGTACTTCATGTGTCTTCTTACCAAAAATACCAACGATAAGGGGAAAAGCCATC\n\tLECEITYFMCLLTKNTNDKGKSH\nn_kmers_in_peptide_db/n_kmers: 19/19 = 1.0\n\tWLFPLSLVFLVRRHMKYVISHSR\nn_kmers_in_peptide_db/n_kmers: 19/19 = 1.0\nSRR306838.20767303 Ibis_Run100924_C3PO:6:104:6864:5062/1\nCAATCATCATCACTTTCTAATTCCAGAATATTTTCATCACCCCAAAAAGAAATCCTAAATCCATTAGC\n\tQSSSLSNSRIFSSPQKEILNPL\nn_kmers_in_peptide_db/n_kmers: 18/18 = 1.0\n\tANGFRISFWGDENILELESDDD\nn_kmers_in_peptide_db/n_kmers: 18/18 = 1.0\nSRR306838.12582274 Ibis_Run100924_C3PO:6:62:11779:17975/1\nCAAAAGTGAAGACCTCCCTGGGGTCTTCAAAGACAGCCTTTGCTCTCCATGTAGCCAATGGTGCTCT\n\tKSEDLPGVFKDSLCSPCSQWCS\nn_kmers_in_peptide_db/n_kmers: 18/18 = 1.0\n\tKVKTSLGSSKTAFALHVANGA\nn_kmers_in_peptide_db/n_kmers: 17/17 = 1.0\n\tRAPLATWRAKAVFEDPREVFTF\nn_kmers_in_peptide_db/n_kmers: 18/18 = 1.0\n\tEHHWLHGEQRLSLKTPGRSSLL\nn_kmers_in_peptide_db/n_kmers: 18/18 = 1.0\nSRR306838.13334230 Ibis_Run100924_C3PO:6:66:16579:20350/1\nGTAACCCTTAATTCCTCAGAAAAAATAGACAACATAGTGGAGTGGGATGGAGGAAC\n\tVTLNSSEKIDNIVEWDGG\nn_kmers_in_peptide_db/n_kmers: 14/14 = 1.0\n\tVPPSHSTMLSIFSEELRV\nn_kmers_in_peptide_db/n_kmers: 14/14 = 1.0\n"
      },
      {
       "name": "stderr",
       "output_type": "stream",
       "text": "/home/olga/miniconda3/envs/kmer-hashing/lib/python3.6/site-packages/Bio/Seq.py:2715: BiopythonWarning: Partial codon, len(sequence) not a multiple of three. Explicitly trim the sequence or add trailing N before translation. This may become an error in future.\n  BiopythonWarning)\n"
      }
     ],
     "persistentId": "954ef7d8-1e5c-43fa-87bf-0098fd2cd414",
     "text": "\ndef six_frame_translation_no_stops(seq):\n    forward_translations = three_frame_translation_no_stops(seq)\n    reverse_translations = three_frame_translation_no_stops(seq.reverse_complement())\n    return forward_translations + reverse_translations\n\nwith gzip.open('SRR306838_GSM752691_hsa_br_F_1_trimmed_subsampled.fq.gz', 'rt') as f:\n    for i, record in zip(range(5), SeqIO.parse(f, 'fastq')):\n        print(record.description)\n        print(str(record.seq))\n        translations = six_frame_translation_no_stops(record.seq)\n        for translation in translations:\n            print(f\"\\t{translation}\")\n            kmers = set(kmerize(str(translation), peptide_ksize))\n            n_kmers = len(kmers)\n            n_kmers_in_peptide_db = sum(1 for kmer in kmers if peptide_graph.get(kmer) > 0)\n            print(f'n_kmers_in_peptide_db/n_kmers: {n_kmers_in_peptide_db}/{n_kmers} = {n_kmers_in_peptide_db/n_kmers}')"
    },
    "executionTime": "2019-09-18T12:46:19.610Z"
   },
   {
    "cell": {
     "executionCount": 44,
     "executionEventId": "fdeff7ed-53fe-4dd1-bf72-f38fd720c721",
     "hasError": false,
     "id": "801c1f09-890e-42e8-912e-f88cab37c532",
     "outputs": [],
     "persistentId": "24efed0e-0671-4d31-9ac1-c341e9d67f66",
     "text": "tablesize = 1e9\n\nDEFAULT_K = 32\nDEFAULT_N_TABLES = 4\nDEFAULT_MAX_TABLESIZE = 1e6\nDEFAULT_N_THREADS = 1\n\npeptide_ksize = 6\n\n# tablesize = calculate_graphsize(args, 'nodegraph', multiplier)\npeptide_graph = Nodegraph(peptide_ksize, tablesize, n_tables=4)\n\n"
    },
    "executionTime": "2019-09-18T12:47:26.679Z"
   },
   {
    "cell": {
     "executionCount": 45,
     "executionEventId": "bbb0009c-a97c-4962-a275-6eac028be456",
     "hasError": true,
     "id": "2cc99a36-174a-401f-8267-383344f9595e",
     "outputs": [
      {
       "ename": "TypeError",
       "evalue": "update() takes exactly one argument (0 given)",
       "output_type": "error",
       "traceback": [
        "\u001b[0;31m---------------------------------------------------------------------------\u001b[0m",
        "\u001b[0;31mTypeError\u001b[0m                                 Traceback (most recent call last)",
        "\u001b[0;32m<ipython-input-45-80b4a6e35d0e>\u001b[0m in \u001b[0;36m<module>\u001b[0;34m()\u001b[0m\n\u001b[0;32m----> 1\u001b[0;31m \u001b[0mpeptide_graph\u001b[0m\u001b[0;34m.\u001b[0m\u001b[0mupdate\u001b[0m\u001b[0;34m(\u001b[0m\u001b[0;34m)\u001b[0m\u001b[0;34m\u001b[0m\u001b[0;34m\u001b[0m\u001b[0m\n\u001b[0m",
        "\u001b[0;31mTypeError\u001b[0m: update() takes exactly one argument (0 given)"
       ]
      }
     ],
     "persistentId": "bb661e14-d9ba-4ca6-bf7f-d5334c6979ba",
     "text": "peptide_graph.update()"
    },
    "executionTime": "2019-09-18T12:47:26.853Z"
   },
   {
    "cell": {
     "executionCount": 46,
     "executionEventId": "40157127-65fb-45d2-81fe-cbcd5dd332f3",
     "hasError": false,
     "id": "801c1f09-890e-42e8-912e-f88cab37c532",
     "outputs": [],
     "persistentId": "24efed0e-0671-4d31-9ac1-c341e9d67f66",
     "text": "tablesize = 1e9\n\nDEFAULT_K = 32\nDEFAULT_N_TABLES = 4\nDEFAULT_MAX_TABLESIZE = 1e6\nDEFAULT_N_THREADS = 1\n\npeptide_ksize = 6\n\n# tablesize = calculate_graphsize(args, 'nodegraph', multiplier)\npeptide_graph = Nodegraph(peptide_ksize, tablesize, n_tables=4)\n\n"
    },
    "executionTime": "2019-09-18T12:47:37.440Z"
   },
   {
    "cell": {
     "executionCount": 47,
     "executionEventId": "40189a93-8746-47fb-8fd5-5c09f2beaaa4",
     "hasError": false,
     "id": "cc5866e5-4668-46b0-b34f-0350f6b32ad1",
     "outputs": [
      {
       "name": "stdout",
       "output_type": "stream",
       "text": "CPU times: user 29.2 s, sys: 64 ms, total: 29.3 s\nWall time: 29.3 s\n"
      }
     ],
     "persistentId": "6d8b5522-6fc7-4ef7-8cfe-1b737f86dfe2",
     "text": "%%time\n\nDEFAULT_SEED = 42\n\nfor record in screed.open(\"Homo_sapiens.GRCh38.pep.all.fa.gz\"):\n#     print(record)\n    if '*' in record['sequence']:\n#         notify(\"Stop codon found in seq, skipping\")\n        continue\n    kmers = kmerize(record['sequence'], peptide_ksize)\n    for kmer in kmers:\n        peptide_graph.add(kmer)        "
    },
    "executionTime": "2019-09-18T12:48:06.732Z"
   },
   {
    "cell": {
     "executionCount": 48,
     "executionEventId": "fe5408fd-3809-4bda-89cd-39983849b8a3",
     "hasError": false,
     "id": "7b834435-4c4d-4a94-befd-712cc920dd65",
     "outputs": [
      {
       "name": "stdout",
       "output_type": "stream",
       "text": "SRR306838.10559374 Ibis_Run100924_C3PO:6:51:17601:17119/1\nCGCTTGCTTAATACTGACATCAATAATATTAGGAAAATCGCAATATAACTGTAAATCCTGTTCTGTC\n[Seq('RLLNTDINNIRKIAI*L*ILFC', HasStopCodon(ExtendedIUPACProtein(), '*')), Seq('ACLILTSIILGKSQYNCKSCSV', ExtendedIUPACProtein()), Seq('LA*Y*HQ*Y*ENRNITVNPVL', HasStopCodon(ExtendedIUPACProtein(), '*'))]\n[Seq('LSCPKCQYNAKRIIITTVIIRS', ExtendedIUPACProtein()), Seq('CLVLNVNITLKGL**LQS*FVR', HasStopCodon(ExtendedIUPACProtein(), '*')), Seq('VLS*MSI*R*KDYNNYSHNSF', HasStopCodon(ExtendedIUPACProtein(), '*'))]\nSRR306838.6196593 Ibis_Run100924_C3PO:6:29:16733:12435/1\nTCTAGAATGTGAAATAACGTACTTCATGTGTCTTCTTACCAAAAATACCAACGATAAGGGGAAAAGCCATC\n[Seq('SRM*NNVLHVSSYQKYQR*GEKP', HasStopCodon(ExtendedIUPACProtein(), '*')), Seq('LECEITYFMCLLTKNTNDKGKSH', ExtendedIUPACProtein()), Seq('*NVK*RTSCVFLPKIPTIRGKAI', HasStopCodon(ExtendedIUPACProtein(), '*'))]\n[Seq('LPKRGIATIKTILLCTSCNKV*D', HasStopCodon(ExtendedIUPACProtein(), '*')), Seq('YRKGE*QP*KPFFCVLHAIKCKI', HasStopCodon(ExtendedIUPACProtein(), '*')), Seq('TEKGNSNHKNHSSVYFMQ*SVRS', HasStopCodon(ExtendedIUPACProtein(), '*'))]\nSRR306838.20767303 Ibis_Run100924_C3PO:6:104:6864:5062/1\nCAATCATCATCACTTTCTAATTCCAGAATATTTTCATCACCCCAAAAAGAAATCCTAAATCCATTAGC\n[Seq('QSSSLSNSRIFSSPQKEILNPL', ExtendedIUPACProtein()), Seq('NHHHFLIPEYFHHPKKKS*IH*', HasStopCodon(ExtendedIUPACProtein(), '*')), Seq('IIITF*FQNIFITPKRNPKSIS', HasStopCodon(ExtendedIUPACProtein(), '*'))]\n[Seq('RLPKS*RKTPLLL*DLNLSLLL', HasStopCodon(ExtendedIUPACProtein(), '*')), Seq('DYLNPKEKPHYFYKTLIFHYY*', HasStopCodon(ExtendedIUPACProtein(), '*')), Seq('IT*ILKKNPTTFIRP*SFTTTN', HasStopCodon(ExtendedIUPACProtein(), '*'))]\nSRR306838.12582274 Ibis_Run100924_C3PO:6:62:11779:17975/1\nCAAAAGTGAAGACCTCCCTGGGGTCTTCAAAGACAGCCTTTGCTCTCCATGTAGCCAATGGTGCTCT\n[Seq('QK*RPPWGLQRQPLLSM*PMVL', HasStopCodon(ExtendedIUPACProtein(), '*')), Seq('KSEDLPGVFKDSLCSPCSQWCS', ExtendedIUPACProtein()), Seq('KVKTSLGSSKTAFALHVANGA', ExtendedIUPACProtein())]\n[Seq('SRGNRCTSRFRQKLLGSLQK*K', HasStopCodon(ExtendedIUPACProtein(), '*')), Seq('LVVTDVPLVSDRNFWGPSRSEN', ExtendedIUPACProtein()), Seq('SW*PMYLSFPTETSGVPPEVK', HasStopCodon(ExtendedIUPACProtein(), '*'))]\nSRR306838.13334230 Ibis_Run100924_C3PO:6:66:16579:20350/1\nGTAACCCTTAATTCCTCAGAAAAAATAGACAACATAGTGGAGTGGGATGGAGGAAC\n[Seq('VTLNSSEKIDNIVEWDGG', ExtendedIUPACProtein()), Seq('*PLIPQKK*TT*WSGMEE', HasStopCodon(ExtendedIUPACProtein(), '*')), Seq('NP*FLRKNRQHSGVGWRN', HasStopCodon(ExtendedIUPACProtein(), '*'))]\n[Seq('QGGRVR*YNR*KRLLNSQ', HasStopCodon(ExtendedIUPACProtein(), '*')), Seq('KEVG*GDTTDKKDSLIPN', HasStopCodon(ExtendedIUPACProtein(), '*')), Seq('RR*GEVIQQIKKTP*FPM', HasStopCodon(ExtendedIUPACProtein(), '*'))]\n"
      },
      {
       "name": "stderr",
       "output_type": "stream",
       "text": "/home/olga/miniconda3/envs/kmer-hashing/lib/python3.6/site-packages/Bio/Seq.py:2715: BiopythonWarning: Partial codon, len(sequence) not a multiple of three. Explicitly trim the sequence or add trailing N before translation. This may become an error in future.\n  BiopythonWarning)\n"
      }
     ],
     "persistentId": "39699f59-df26-4089-a7b8-519f138c6091",
     "text": "def three_frame_translation(seq):\n    for frame in range(3):\n        translation = seq[frame:].translate()\n        yield translation\n        \ndef three_frame_translation_no_stops(seq):\n    return [t for t in three_frame_translation(seq) if '*' not in t]\n\n\nwith gzip.open('SRR306838_GSM752691_hsa_br_F_1_trimmed_subsampled.fq.gz', 'rt') as f:\n    for i, record in zip(range(5), SeqIO.parse(f, 'fastq')):\n        print(record.description)\n        print(str(record.seq))\n        print(list(three_frame_translation(record.seq)))\n        print(list(three_frame_translation(record.seq[::-1])))"
    },
    "executionTime": "2019-09-18T12:48:06.756Z"
   },
   {
    "cell": {
     "executionCount": 49,
     "executionEventId": "b0f132d2-d339-4de4-b0bf-b90037b9e744",
     "hasError": false,
     "id": "55e10ce9-7ecf-4d47-acc0-263024add8bd",
     "outputs": [
      {
       "name": "stdout",
       "output_type": "stream",
       "text": "SRR306838.10559374 Ibis_Run100924_C3PO:6:51:17601:17119/1\nCGCTTGCTTAATACTGACATCAATAATATTAGGAAAATCGCAATATAACTGTAAATCCTGTTCTGTC\n\tACLILTSIILGKSQYNCKSCSV\nn_kmers_in_peptide_db/n_kmers: 17/17 = 1.0\n\tTEQDLQLYCDFPNIIDVSIKQA\nn_kmers_in_peptide_db/n_kmers: 17/17 = 1.0\n\tQNRIYSYIAIFLILLMSVLSK\nn_kmers_in_peptide_db/n_kmers: 16/16 = 1.0\nSRR306838.6196593 Ibis_Run100924_C3PO:6:29:16733:12435/1\nTCTAGAATGTGAAATAACGTACTTCATGTGTCTTCTTACCAAAAATACCAACGATAAGGGGAAAAGCCATC\n\tLECEITYFMCLLTKNTNDKGKSH\nn_kmers_in_peptide_db/n_kmers: 18/18 = 1.0\n\tWLFPLSLVFLVRRHMKYVISHSR\nn_kmers_in_peptide_db/n_kmers: 18/18 = 1.0\nSRR306838.20767303 Ibis_Run100924_C3PO:6:104:6864:5062/1\nCAATCATCATCACTTTCTAATTCCAGAATATTTTCATCACCCCAAAAAGAAATCCTAAATCCATTAGC\n\tQSSSLSNSRIFSSPQKEILNPL\nn_kmers_in_peptide_db/n_kmers: 17/17 = 1.0\n\tANGFRISFWGDENILELESDDD\nn_kmers_in_peptide_db/n_kmers: 17/17 = 1.0\nSRR306838.12582274 Ibis_Run100924_C3PO:6:62:11779:17975/1\nCAAAAGTGAAGACCTCCCTGGGGTCTTCAAAGACAGCCTTTGCTCTCCATGTAGCCAATGGTGCTCT\n\tKSEDLPGVFKDSLCSPCSQWCS\nn_kmers_in_peptide_db/n_kmers: 17/17 = 1.0\n\tKVKTSLGSSKTAFALHVANGA\nn_kmers_in_peptide_db/n_kmers: 16/16 = 1.0\n\tRAPLATWRAKAVFEDPREVFTF\nn_kmers_in_peptide_db/n_kmers: 17/17 = 1.0\n\tEHHWLHGEQRLSLKTPGRSSLL\nn_kmers_in_peptide_db/n_kmers: 17/17 = 1.0\nSRR306838.13334230 Ibis_Run100924_C3PO:6:66:16579:20350/1\nGTAACCCTTAATTCCTCAGAAAAAATAGACAACATAGTGGAGTGGGATGGAGGAAC\n\tVTLNSSEKIDNIVEWDGG\nn_kmers_in_peptide_db/n_kmers: 13/13 = 1.0\n\tVPPSHSTMLSIFSEELRV\nn_kmers_in_peptide_db/n_kmers: 13/13 = 1.0\n"
      },
      {
       "name": "stderr",
       "output_type": "stream",
       "text": "/home/olga/miniconda3/envs/kmer-hashing/lib/python3.6/site-packages/Bio/Seq.py:2715: BiopythonWarning: Partial codon, len(sequence) not a multiple of three. Explicitly trim the sequence or add trailing N before translation. This may become an error in future.\n  BiopythonWarning)\n"
      }
     ],
     "persistentId": "954ef7d8-1e5c-43fa-87bf-0098fd2cd414",
     "text": "\ndef six_frame_translation_no_stops(seq):\n    forward_translations = three_frame_translation_no_stops(seq)\n    reverse_translations = three_frame_translation_no_stops(seq.reverse_complement())\n    return forward_translations + reverse_translations\n\nwith gzip.open('SRR306838_GSM752691_hsa_br_F_1_trimmed_subsampled.fq.gz', 'rt') as f:\n    for i, record in zip(range(5), SeqIO.parse(f, 'fastq')):\n        print(record.description)\n        print(str(record.seq))\n        translations = six_frame_translation_no_stops(record.seq)\n        for translation in translations:\n            print(f\"\\t{translation}\")\n            kmers = set(kmerize(str(translation), peptide_ksize))\n            n_kmers = len(kmers)\n            n_kmers_in_peptide_db = sum(1 for kmer in kmers if peptide_graph.get(kmer) > 0)\n            print(f'n_kmers_in_peptide_db/n_kmers: {n_kmers_in_peptide_db}/{n_kmers} = {n_kmers_in_peptide_db/n_kmers}')"
    },
    "executionTime": "2019-09-18T12:48:06.916Z"
   },
   {
    "cell": {
     "executionCount": 50,
     "executionEventId": "c0490e74-5e06-4ec4-8959-e4d8f999945f",
     "hasError": false,
     "id": "18f4e062-6e6e-49ae-b434-8b8b5129920e",
     "outputs": [
      {
       "data": {
        "text/plain": "Seq('GTTCCTCCATCCCACTCCACTATGTTGTCTATTTTTTCTGAGGAATTAAGGGTTAC', SingleLetterAlphabet())"
       },
       "execution_count": 50,
       "metadata": {},
       "output_type": "execute_result"
      }
     ],
     "persistentId": "e9c939ed-e704-4d0c-96ba-0a78453670b7",
     "text": "record.seq.reverse_complement()"
    },
    "executionTime": "2019-09-18T12:48:06.929Z"
   },
   {
    "cell": {
     "executionCount": 51,
     "executionEventId": "3c5b4b00-7f17-4a86-9573-1a3088c9fd7b",
     "hasError": false,
     "id": "a9074996-4348-44e9-b695-837c22f6b924",
     "outputs": [
      {
       "data": {
        "text/plain": "3200000"
       },
       "execution_count": 51,
       "metadata": {},
       "output_type": "execute_result"
      }
     ],
     "persistentId": "4bb3fc57-530c-4ffc-b367-1a4f27d55606",
     "text": "20**5"
    },
    "executionTime": "2019-09-18T12:48:53.260Z"
   },
   {
    "cell": {
     "executionCount": 52,
     "executionEventId": "478bfe10-9c18-4c0b-b734-426ff6392ade",
     "hasError": false,
     "id": "a9074996-4348-44e9-b695-837c22f6b924",
     "outputs": [
      {
       "data": {
        "text/plain": "64000000"
       },
       "execution_count": 52,
       "metadata": {},
       "output_type": "execute_result"
      }
     ],
     "persistentId": "4bb3fc57-530c-4ffc-b367-1a4f27d55606",
     "text": "20**6"
    },
    "executionTime": "2019-09-18T12:48:58.792Z"
   },
   {
    "cell": {
     "executionCount": 53,
     "executionEventId": "bbe627cd-c335-4276-a689-17d625af1bb0",
     "hasError": false,
     "id": "801c1f09-890e-42e8-912e-f88cab37c532",
     "outputs": [],
     "persistentId": "24efed0e-0671-4d31-9ac1-c341e9d67f66",
     "text": "tablesize = 1e10\n\nDEFAULT_K = 32\nDEFAULT_N_TABLES = 4\nDEFAULT_MAX_TABLESIZE = 1e6\nDEFAULT_N_THREADS = 1\n\npeptide_ksize = 6\n\n# tablesize = calculate_graphsize(args, 'nodegraph', multiplier)\npeptide_graph = Nodegraph(peptide_ksize, tablesize, n_tables=4)\n\n"
    },
    "executionTime": "2019-09-18T12:49:44.474Z"
   },
   {
    "cell": {
     "executionCount": 54,
     "executionEventId": "bb79e1f7-1b37-4460-af39-f1724e308dd5",
     "hasError": false,
     "id": "a9074996-4348-44e9-b695-837c22f6b924",
     "outputs": [
      {
       "data": {
        "text/plain": "64000000"
       },
       "execution_count": 54,
       "metadata": {},
       "output_type": "execute_result"
      }
     ],
     "persistentId": "4bb3fc57-530c-4ffc-b367-1a4f27d55606",
     "text": "20**6"
    },
    "executionTime": "2019-09-18T12:49:44.501Z"
   },
   {
    "cell": {
     "executionCount": 55,
     "executionEventId": "deba873b-7321-4d3e-9603-5cb0fd76a6d7",
     "hasError": false,
     "id": "cc5866e5-4668-46b0-b34f-0350f6b32ad1",
     "outputs": [
      {
       "name": "stdout",
       "output_type": "stream",
       "text": "CPU times: user 29.1 s, sys: 444 ms, total: 29.6 s\nWall time: 29.6 s\n"
      }
     ],
     "persistentId": "6d8b5522-6fc7-4ef7-8cfe-1b737f86dfe2",
     "text": "%%time\n\nDEFAULT_SEED = 42\n\nfor record in screed.open(\"Homo_sapiens.GRCh38.pep.all.fa.gz\"):\n#     print(record)\n    if '*' in record['sequence']:\n#         notify(\"Stop codon found in seq, skipping\")\n        continue\n    kmers = kmerize(record['sequence'], peptide_ksize)\n    for kmer in kmers:\n        peptide_graph.add(kmer)        "
    },
    "executionTime": "2019-09-18T12:50:14.165Z"
   },
   {
    "cell": {
     "executionCount": 56,
     "executionEventId": "8de71515-07f0-4719-8dfb-7397b5e1244c",
     "hasError": false,
     "id": "7b834435-4c4d-4a94-befd-712cc920dd65",
     "outputs": [
      {
       "name": "stdout",
       "output_type": "stream",
       "text": "SRR306838.10559374 Ibis_Run100924_C3PO:6:51:17601:17119/1\nCGCTTGCTTAATACTGACATCAATAATATTAGGAAAATCGCAATATAACTGTAAATCCTGTTCTGTC\n[Seq('RLLNTDINNIRKIAI*L*ILFC', HasStopCodon(ExtendedIUPACProtein(), '*')), Seq('ACLILTSIILGKSQYNCKSCSV', ExtendedIUPACProtein()), Seq('LA*Y*HQ*Y*ENRNITVNPVL', HasStopCodon(ExtendedIUPACProtein(), '*'))]\n[Seq('LSCPKCQYNAKRIIITTVIIRS', ExtendedIUPACProtein()), Seq('CLVLNVNITLKGL**LQS*FVR', HasStopCodon(ExtendedIUPACProtein(), '*')), Seq('VLS*MSI*R*KDYNNYSHNSF', HasStopCodon(ExtendedIUPACProtein(), '*'))]\nSRR306838.6196593 Ibis_Run100924_C3PO:6:29:16733:12435/1\nTCTAGAATGTGAAATAACGTACTTCATGTGTCTTCTTACCAAAAATACCAACGATAAGGGGAAAAGCCATC\n[Seq('SRM*NNVLHVSSYQKYQR*GEKP', HasStopCodon(ExtendedIUPACProtein(), '*')), Seq('LECEITYFMCLLTKNTNDKGKSH', ExtendedIUPACProtein()), Seq('*NVK*RTSCVFLPKIPTIRGKAI', HasStopCodon(ExtendedIUPACProtein(), '*'))]\n[Seq('LPKRGIATIKTILLCTSCNKV*D', HasStopCodon(ExtendedIUPACProtein(), '*')), Seq('YRKGE*QP*KPFFCVLHAIKCKI', HasStopCodon(ExtendedIUPACProtein(), '*')), Seq('TEKGNSNHKNHSSVYFMQ*SVRS', HasStopCodon(ExtendedIUPACProtein(), '*'))]\nSRR306838.20767303 Ibis_Run100924_C3PO:6:104:6864:5062/1\nCAATCATCATCACTTTCTAATTCCAGAATATTTTCATCACCCCAAAAAGAAATCCTAAATCCATTAGC\n[Seq('QSSSLSNSRIFSSPQKEILNPL', ExtendedIUPACProtein()), Seq('NHHHFLIPEYFHHPKKKS*IH*', HasStopCodon(ExtendedIUPACProtein(), '*')), Seq('IIITF*FQNIFITPKRNPKSIS', HasStopCodon(ExtendedIUPACProtein(), '*'))]\n[Seq('RLPKS*RKTPLLL*DLNLSLLL', HasStopCodon(ExtendedIUPACProtein(), '*')), Seq('DYLNPKEKPHYFYKTLIFHYY*', HasStopCodon(ExtendedIUPACProtein(), '*')), Seq('IT*ILKKNPTTFIRP*SFTTTN', HasStopCodon(ExtendedIUPACProtein(), '*'))]\nSRR306838.12582274 Ibis_Run100924_C3PO:6:62:11779:17975/1\nCAAAAGTGAAGACCTCCCTGGGGTCTTCAAAGACAGCCTTTGCTCTCCATGTAGCCAATGGTGCTCT\n[Seq('QK*RPPWGLQRQPLLSM*PMVL', HasStopCodon(ExtendedIUPACProtein(), '*')), Seq('KSEDLPGVFKDSLCSPCSQWCS', ExtendedIUPACProtein()), Seq('KVKTSLGSSKTAFALHVANGA', ExtendedIUPACProtein())]\n[Seq('SRGNRCTSRFRQKLLGSLQK*K', HasStopCodon(ExtendedIUPACProtein(), '*')), Seq('LVVTDVPLVSDRNFWGPSRSEN', ExtendedIUPACProtein()), Seq('SW*PMYLSFPTETSGVPPEVK', HasStopCodon(ExtendedIUPACProtein(), '*'))]\nSRR306838.13334230 Ibis_Run100924_C3PO:6:66:16579:20350/1\nGTAACCCTTAATTCCTCAGAAAAAATAGACAACATAGTGGAGTGGGATGGAGGAAC\n[Seq('VTLNSSEKIDNIVEWDGG', ExtendedIUPACProtein()), Seq('*PLIPQKK*TT*WSGMEE', HasStopCodon(ExtendedIUPACProtein(), '*')), Seq('NP*FLRKNRQHSGVGWRN', HasStopCodon(ExtendedIUPACProtein(), '*'))]\n[Seq('QGGRVR*YNR*KRLLNSQ', HasStopCodon(ExtendedIUPACProtein(), '*')), Seq('KEVG*GDTTDKKDSLIPN', HasStopCodon(ExtendedIUPACProtein(), '*')), Seq('RR*GEVIQQIKKTP*FPM', HasStopCodon(ExtendedIUPACProtein(), '*'))]\n"
      },
      {
       "name": "stderr",
       "output_type": "stream",
       "text": "/home/olga/miniconda3/envs/kmer-hashing/lib/python3.6/site-packages/Bio/Seq.py:2715: BiopythonWarning: Partial codon, len(sequence) not a multiple of three. Explicitly trim the sequence or add trailing N before translation. This may become an error in future.\n  BiopythonWarning)\n"
      }
     ],
     "persistentId": "39699f59-df26-4089-a7b8-519f138c6091",
     "text": "def three_frame_translation(seq):\n    for frame in range(3):\n        translation = seq[frame:].translate()\n        yield translation\n        \ndef three_frame_translation_no_stops(seq):\n    return [t for t in three_frame_translation(seq) if '*' not in t]\n\n\nwith gzip.open('SRR306838_GSM752691_hsa_br_F_1_trimmed_subsampled.fq.gz', 'rt') as f:\n    for i, record in zip(range(5), SeqIO.parse(f, 'fastq')):\n        print(record.description)\n        print(str(record.seq))\n        print(list(three_frame_translation(record.seq)))\n        print(list(three_frame_translation(record.seq[::-1])))"
    },
    "executionTime": "2019-09-18T12:50:14.173Z"
   },
   {
    "cell": {
     "executionCount": 57,
     "executionEventId": "00b6dbef-63e7-44e8-8308-fdb91062a2ee",
     "hasError": false,
     "id": "55e10ce9-7ecf-4d47-acc0-263024add8bd",
     "outputs": [
      {
       "name": "stdout",
       "output_type": "stream",
       "text": "SRR306838.10559374 Ibis_Run100924_C3PO:6:51:17601:17119/1\nCGCTTGCTTAATACTGACATCAATAATATTAGGAAAATCGCAATATAACTGTAAATCCTGTTCTGTC\n\tACLILTSIILGKSQYNCKSCSV\nn_kmers_in_peptide_db/n_kmers: 17/17 = 1.0\n\tTEQDLQLYCDFPNIIDVSIKQA\nn_kmers_in_peptide_db/n_kmers: 17/17 = 1.0\n\tQNRIYSYIAIFLILLMSVLSK\nn_kmers_in_peptide_db/n_kmers: 16/16 = 1.0\nSRR306838.6196593 Ibis_Run100924_C3PO:6:29:16733:12435/1\nTCTAGAATGTGAAATAACGTACTTCATGTGTCTTCTTACCAAAAATACCAACGATAAGGGGAAAAGCCATC\n\tLECEITYFMCLLTKNTNDKGKSH\nn_kmers_in_peptide_db/n_kmers: 18/18 = 1.0\n\tWLFPLSLVFLVRRHMKYVISHSR\nn_kmers_in_peptide_db/n_kmers: 18/18 = 1.0\nSRR306838.20767303 Ibis_Run100924_C3PO:6:104:6864:5062/1\nCAATCATCATCACTTTCTAATTCCAGAATATTTTCATCACCCCAAAAAGAAATCCTAAATCCATTAGC\n\tQSSSLSNSRIFSSPQKEILNPL\nn_kmers_in_peptide_db/n_kmers: 17/17 = 1.0\n\tANGFRISFWGDENILELESDDD\nn_kmers_in_peptide_db/n_kmers: 17/17 = 1.0\nSRR306838.12582274 Ibis_Run100924_C3PO:6:62:11779:17975/1\nCAAAAGTGAAGACCTCCCTGGGGTCTTCAAAGACAGCCTTTGCTCTCCATGTAGCCAATGGTGCTCT\n\tKSEDLPGVFKDSLCSPCSQWCS\nn_kmers_in_peptide_db/n_kmers: 17/17 = 1.0\n\tKVKTSLGSSKTAFALHVANGA\nn_kmers_in_peptide_db/n_kmers: 16/16 = 1.0\n\tRAPLATWRAKAVFEDPREVFTF\nn_kmers_in_peptide_db/n_kmers: 17/17 = 1.0\n\tEHHWLHGEQRLSLKTPGRSSLL\nn_kmers_in_peptide_db/n_kmers: 17/17 = 1.0\nSRR306838.13334230 Ibis_Run100924_C3PO:6:66:16579:20350/1\nGTAACCCTTAATTCCTCAGAAAAAATAGACAACATAGTGGAGTGGGATGGAGGAAC\n\tVTLNSSEKIDNIVEWDGG\nn_kmers_in_peptide_db/n_kmers: 13/13 = 1.0\n\tVPPSHSTMLSIFSEELRV\nn_kmers_in_peptide_db/n_kmers: 13/13 = 1.0\n"
      },
      {
       "name": "stderr",
       "output_type": "stream",
       "text": "/home/olga/miniconda3/envs/kmer-hashing/lib/python3.6/site-packages/Bio/Seq.py:2715: BiopythonWarning: Partial codon, len(sequence) not a multiple of three. Explicitly trim the sequence or add trailing N before translation. This may become an error in future.\n  BiopythonWarning)\n"
      }
     ],
     "persistentId": "954ef7d8-1e5c-43fa-87bf-0098fd2cd414",
     "text": "\ndef six_frame_translation_no_stops(seq):\n    forward_translations = three_frame_translation_no_stops(seq)\n    reverse_translations = three_frame_translation_no_stops(seq.reverse_complement())\n    return forward_translations + reverse_translations\n\nwith gzip.open('SRR306838_GSM752691_hsa_br_F_1_trimmed_subsampled.fq.gz', 'rt') as f:\n    for i, record in zip(range(5), SeqIO.parse(f, 'fastq')):\n        print(record.description)\n        print(str(record.seq))\n        translations = six_frame_translation_no_stops(record.seq)\n        for translation in translations:\n            print(f\"\\t{translation}\")\n            kmers = set(kmerize(str(translation), peptide_ksize))\n            n_kmers = len(kmers)\n            n_kmers_in_peptide_db = sum(1 for kmer in kmers if peptide_graph.get(kmer) > 0)\n            print(f'n_kmers_in_peptide_db/n_kmers: {n_kmers_in_peptide_db}/{n_kmers} = {n_kmers_in_peptide_db/n_kmers}')"
    },
    "executionTime": "2019-09-18T12:50:14.333Z"
   },
   {
    "cell": {
     "executionCount": 58,
     "executionEventId": "d307c1fc-7556-4380-93e8-368d0a30843c",
     "hasError": false,
     "id": "18f4e062-6e6e-49ae-b434-8b8b5129920e",
     "outputs": [
      {
       "data": {
        "text/plain": "Seq('GTTCCTCCATCCCACTCCACTATGTTGTCTATTTTTTCTGAGGAATTAAGGGTTAC', SingleLetterAlphabet())"
       },
       "execution_count": 58,
       "metadata": {},
       "output_type": "execute_result"
      }
     ],
     "persistentId": "e9c939ed-e704-4d0c-96ba-0a78453670b7",
     "text": "record.seq.reverse_complement()"
    },
    "executionTime": "2019-09-18T12:50:14.361Z"
   },
   {
    "cell": {
     "executionCount": 59,
     "executionEventId": "29d351a1-5162-41bb-92fc-89840917e166",
     "hasError": false,
     "id": "3bac9fff-f51a-4e6e-8285-eb21e9bc2d0d",
     "outputs": [
      {
       "data": {
        "text/plain": "1"
       },
       "execution_count": 59,
       "metadata": {},
       "output_type": "execute_result"
      }
     ],
     "persistentId": "e6a36b17-ebb6-4fd2-90cc-e2a09e2215ca",
     "text": "peptide_graph.get(\"ACLILT\")"
    },
    "executionTime": "2019-09-18T12:55:37.056Z"
   },
   {
    "cell": {
     "executionCount": 60,
     "executionEventId": "c6659d17-131e-4a4f-9a24-49946c6f1d8f",
     "hasError": false,
     "id": "801c1f09-890e-42e8-912e-f88cab37c532",
     "outputs": [],
     "persistentId": "24efed0e-0671-4d31-9ac1-c341e9d67f66",
     "text": "tablesize = 1e10\n\nDEFAULT_K = 32\nDEFAULT_N_TABLES = 4\nDEFAULT_MAX_TABLESIZE = 1e6\nDEFAULT_N_THREADS = 1\n\npeptide_ksize = 7\n\n# tablesize = calculate_graphsize(args, 'nodegraph', multiplier)\npeptide_graph = Nodegraph(peptide_ksize, tablesize, n_tables=4)\n\n"
    },
    "executionTime": "2019-09-18T12:57:32.130Z"
   },
   {
    "cell": {
     "executionCount": 61,
     "executionEventId": "4fed0662-0262-425a-9aef-64bbca14c201",
     "hasError": false,
     "id": "a9074996-4348-44e9-b695-837c22f6b924",
     "outputs": [
      {
       "data": {
        "text/plain": "64000000"
       },
       "execution_count": 61,
       "metadata": {},
       "output_type": "execute_result"
      }
     ],
     "persistentId": "4bb3fc57-530c-4ffc-b367-1a4f27d55606",
     "text": "20**6"
    },
    "executionTime": "2019-09-18T12:57:32.159Z"
   },
   {
    "cell": {
     "executionCount": 62,
     "executionEventId": "0fc2d279-24a0-46b7-a6e0-daa83d643267",
     "hasError": false,
     "id": "cc5866e5-4668-46b0-b34f-0350f6b32ad1",
     "outputs": [
      {
       "name": "stdout",
       "output_type": "stream",
       "text": "CPU times: user 29.5 s, sys: 248 ms, total: 29.8 s\nWall time: 29.8 s\n"
      }
     ],
     "persistentId": "6d8b5522-6fc7-4ef7-8cfe-1b737f86dfe2",
     "text": "%%time\n\nDEFAULT_SEED = 42\n\nfor record in screed.open(\"Homo_sapiens.GRCh38.pep.all.fa.gz\"):\n#     print(record)\n    if '*' in record['sequence']:\n#         notify(\"Stop codon found in seq, skipping\")\n        continue\n    kmers = kmerize(record['sequence'], peptide_ksize)\n    for kmer in kmers:\n        peptide_graph.add(kmer)        "
    },
    "executionTime": "2019-09-18T12:58:01.952Z"
   },
   {
    "cell": {
     "executionCount": 63,
     "executionEventId": "75ff5ebd-35f2-4cf6-be47-b40f66c5f1b6",
     "hasError": false,
     "id": "7b834435-4c4d-4a94-befd-712cc920dd65",
     "outputs": [
      {
       "name": "stdout",
       "output_type": "stream",
       "text": "SRR306838.10559374 Ibis_Run100924_C3PO:6:51:17601:17119/1\nCGCTTGCTTAATACTGACATCAATAATATTAGGAAAATCGCAATATAACTGTAAATCCTGTTCTGTC\n[Seq('RLLNTDINNIRKIAI*L*ILFC', HasStopCodon(ExtendedIUPACProtein(), '*')), Seq('ACLILTSIILGKSQYNCKSCSV', ExtendedIUPACProtein()), Seq('LA*Y*HQ*Y*ENRNITVNPVL', HasStopCodon(ExtendedIUPACProtein(), '*'))]\n[Seq('LSCPKCQYNAKRIIITTVIIRS', ExtendedIUPACProtein()), Seq('CLVLNVNITLKGL**LQS*FVR', HasStopCodon(ExtendedIUPACProtein(), '*')), Seq('VLS*MSI*R*KDYNNYSHNSF', HasStopCodon(ExtendedIUPACProtein(), '*'))]\nSRR306838.6196593 Ibis_Run100924_C3PO:6:29:16733:12435/1\nTCTAGAATGTGAAATAACGTACTTCATGTGTCTTCTTACCAAAAATACCAACGATAAGGGGAAAAGCCATC\n[Seq('SRM*NNVLHVSSYQKYQR*GEKP', HasStopCodon(ExtendedIUPACProtein(), '*')), Seq('LECEITYFMCLLTKNTNDKGKSH', ExtendedIUPACProtein()), Seq('*NVK*RTSCVFLPKIPTIRGKAI', HasStopCodon(ExtendedIUPACProtein(), '*'))]\n[Seq('LPKRGIATIKTILLCTSCNKV*D', HasStopCodon(ExtendedIUPACProtein(), '*')), Seq('YRKGE*QP*KPFFCVLHAIKCKI', HasStopCodon(ExtendedIUPACProtein(), '*')), Seq('TEKGNSNHKNHSSVYFMQ*SVRS', HasStopCodon(ExtendedIUPACProtein(), '*'))]\nSRR306838.20767303 Ibis_Run100924_C3PO:6:104:6864:5062/1\nCAATCATCATCACTTTCTAATTCCAGAATATTTTCATCACCCCAAAAAGAAATCCTAAATCCATTAGC\n[Seq('QSSSLSNSRIFSSPQKEILNPL', ExtendedIUPACProtein()), Seq('NHHHFLIPEYFHHPKKKS*IH*', HasStopCodon(ExtendedIUPACProtein(), '*')), Seq('IIITF*FQNIFITPKRNPKSIS', HasStopCodon(ExtendedIUPACProtein(), '*'))]\n[Seq('RLPKS*RKTPLLL*DLNLSLLL', HasStopCodon(ExtendedIUPACProtein(), '*')), Seq('DYLNPKEKPHYFYKTLIFHYY*', HasStopCodon(ExtendedIUPACProtein(), '*')), Seq('IT*ILKKNPTTFIRP*SFTTTN', HasStopCodon(ExtendedIUPACProtein(), '*'))]\nSRR306838.12582274 Ibis_Run100924_C3PO:6:62:11779:17975/1\nCAAAAGTGAAGACCTCCCTGGGGTCTTCAAAGACAGCCTTTGCTCTCCATGTAGCCAATGGTGCTCT\n[Seq('QK*RPPWGLQRQPLLSM*PMVL', HasStopCodon(ExtendedIUPACProtein(), '*')), Seq('KSEDLPGVFKDSLCSPCSQWCS', ExtendedIUPACProtein()), Seq('KVKTSLGSSKTAFALHVANGA', ExtendedIUPACProtein())]\n[Seq('SRGNRCTSRFRQKLLGSLQK*K', HasStopCodon(ExtendedIUPACProtein(), '*')), Seq('LVVTDVPLVSDRNFWGPSRSEN', ExtendedIUPACProtein()), Seq('SW*PMYLSFPTETSGVPPEVK', HasStopCodon(ExtendedIUPACProtein(), '*'))]\nSRR306838.13334230 Ibis_Run100924_C3PO:6:66:16579:20350/1\nGTAACCCTTAATTCCTCAGAAAAAATAGACAACATAGTGGAGTGGGATGGAGGAAC\n[Seq('VTLNSSEKIDNIVEWDGG', ExtendedIUPACProtein()), Seq('*PLIPQKK*TT*WSGMEE', HasStopCodon(ExtendedIUPACProtein(), '*')), Seq('NP*FLRKNRQHSGVGWRN', HasStopCodon(ExtendedIUPACProtein(), '*'))]\n[Seq('QGGRVR*YNR*KRLLNSQ', HasStopCodon(ExtendedIUPACProtein(), '*')), Seq('KEVG*GDTTDKKDSLIPN', HasStopCodon(ExtendedIUPACProtein(), '*')), Seq('RR*GEVIQQIKKTP*FPM', HasStopCodon(ExtendedIUPACProtein(), '*'))]\n"
      },
      {
       "name": "stderr",
       "output_type": "stream",
       "text": "/home/olga/miniconda3/envs/kmer-hashing/lib/python3.6/site-packages/Bio/Seq.py:2715: BiopythonWarning: Partial codon, len(sequence) not a multiple of three. Explicitly trim the sequence or add trailing N before translation. This may become an error in future.\n  BiopythonWarning)\n"
      }
     ],
     "persistentId": "39699f59-df26-4089-a7b8-519f138c6091",
     "text": "def three_frame_translation(seq):\n    for frame in range(3):\n        translation = seq[frame:].translate()\n        yield translation\n        \ndef three_frame_translation_no_stops(seq):\n    return [t for t in three_frame_translation(seq) if '*' not in t]\n\n\nwith gzip.open('SRR306838_GSM752691_hsa_br_F_1_trimmed_subsampled.fq.gz', 'rt') as f:\n    for i, record in zip(range(5), SeqIO.parse(f, 'fastq')):\n        print(record.description)\n        print(str(record.seq))\n        print(list(three_frame_translation(record.seq)))\n        print(list(three_frame_translation(record.seq[::-1])))"
    },
    "executionTime": "2019-09-18T12:58:01.974Z"
   },
   {
    "cell": {
     "executionCount": 64,
     "executionEventId": "c98c2cad-2bdf-45d0-98a1-5d4146976033",
     "hasError": false,
     "id": "55e10ce9-7ecf-4d47-acc0-263024add8bd",
     "outputs": [
      {
       "name": "stdout",
       "output_type": "stream",
       "text": "SRR306838.10559374 Ibis_Run100924_C3PO:6:51:17601:17119/1\nCGCTTGCTTAATACTGACATCAATAATATTAGGAAAATCGCAATATAACTGTAAATCCTGTTCTGTC\n\tACLILTSIILGKSQYNCKSCSV\nn_kmers_in_peptide_db/n_kmers: 16/16 = 1.0\n\tTEQDLQLYCDFPNIIDVSIKQA\nn_kmers_in_peptide_db/n_kmers: 16/16 = 1.0\n\tQNRIYSYIAIFLILLMSVLSK\nn_kmers_in_peptide_db/n_kmers: 15/15 = 1.0\nSRR306838.6196593 Ibis_Run100924_C3PO:6:29:16733:12435/1\nTCTAGAATGTGAAATAACGTACTTCATGTGTCTTCTTACCAAAAATACCAACGATAAGGGGAAAAGCCATC\n\tLECEITYFMCLLTKNTNDKGKSH\nn_kmers_in_peptide_db/n_kmers: 17/17 = 1.0\n\tWLFPLSLVFLVRRHMKYVISHSR\nn_kmers_in_peptide_db/n_kmers: 17/17 = 1.0\nSRR306838.20767303 Ibis_Run100924_C3PO:6:104:6864:5062/1\nCAATCATCATCACTTTCTAATTCCAGAATATTTTCATCACCCCAAAAAGAAATCCTAAATCCATTAGC\n\tQSSSLSNSRIFSSPQKEILNPL\nn_kmers_in_peptide_db/n_kmers: 16/16 = 1.0\n\tANGFRISFWGDENILELESDDD\nn_kmers_in_peptide_db/n_kmers: 16/16 = 1.0\nSRR306838.12582274 Ibis_Run100924_C3PO:6:62:11779:17975/1\nCAAAAGTGAAGACCTCCCTGGGGTCTTCAAAGACAGCCTTTGCTCTCCATGTAGCCAATGGTGCTCT\n\tKSEDLPGVFKDSLCSPCSQWCS\nn_kmers_in_peptide_db/n_kmers: 16/16 = 1.0\n\tKVKTSLGSSKTAFALHVANGA\nn_kmers_in_peptide_db/n_kmers: 15/15 = 1.0\n\tRAPLATWRAKAVFEDPREVFTF\nn_kmers_in_peptide_db/n_kmers: 16/16 = 1.0\n\tEHHWLHGEQRLSLKTPGRSSLL\nn_kmers_in_peptide_db/n_kmers: 16/16 = 1.0\nSRR306838.13334230 Ibis_Run100924_C3PO:6:66:16579:20350/1\nGTAACCCTTAATTCCTCAGAAAAAATAGACAACATAGTGGAGTGGGATGGAGGAAC\n\tVTLNSSEKIDNIVEWDGG\nn_kmers_in_peptide_db/n_kmers: 12/12 = 1.0\n\tVPPSHSTMLSIFSEELRV\nn_kmers_in_peptide_db/n_kmers: 12/12 = 1.0\n"
      },
      {
       "name": "stderr",
       "output_type": "stream",
       "text": "/home/olga/miniconda3/envs/kmer-hashing/lib/python3.6/site-packages/Bio/Seq.py:2715: BiopythonWarning: Partial codon, len(sequence) not a multiple of three. Explicitly trim the sequence or add trailing N before translation. This may become an error in future.\n  BiopythonWarning)\n"
      }
     ],
     "persistentId": "954ef7d8-1e5c-43fa-87bf-0098fd2cd414",
     "text": "\ndef six_frame_translation_no_stops(seq):\n    forward_translations = three_frame_translation_no_stops(seq)\n    reverse_translations = three_frame_translation_no_stops(seq.reverse_complement())\n    return forward_translations + reverse_translations\n\nwith gzip.open('SRR306838_GSM752691_hsa_br_F_1_trimmed_subsampled.fq.gz', 'rt') as f:\n    for i, record in zip(range(5), SeqIO.parse(f, 'fastq')):\n        print(record.description)\n        print(str(record.seq))\n        translations = six_frame_translation_no_stops(record.seq)\n        for translation in translations:\n            print(f\"\\t{translation}\")\n            kmers = set(kmerize(str(translation), peptide_ksize))\n            n_kmers = len(kmers)\n            n_kmers_in_peptide_db = sum(1 for kmer in kmers if peptide_graph.get(kmer) > 0)\n            print(f'n_kmers_in_peptide_db/n_kmers: {n_kmers_in_peptide_db}/{n_kmers} = {n_kmers_in_peptide_db/n_kmers}')"
    },
    "executionTime": "2019-09-18T12:58:02.162Z"
   },
   {
    "cell": {
     "executionCount": 65,
     "executionEventId": "bfb98e6d-02ed-475e-b09a-7ee0cc8ddccd",
     "hasError": true,
     "id": "3bac9fff-f51a-4e6e-8285-eb21e9bc2d0d",
     "outputs": [
      {
       "ename": "ValueError",
       "evalue": "Expected k-mer length 7 but got 6.",
       "output_type": "error",
       "traceback": [
        "\u001b[0;31m---------------------------------------------------------------------------\u001b[0m",
        "\u001b[0;31mValueError\u001b[0m                                Traceback (most recent call last)",
        "\u001b[0;32m<ipython-input-65-2d7cc1c59ae8>\u001b[0m in \u001b[0;36m<module>\u001b[0;34m()\u001b[0m\n\u001b[0;32m----> 1\u001b[0;31m \u001b[0mpeptide_graph\u001b[0m\u001b[0;34m.\u001b[0m\u001b[0mget\u001b[0m\u001b[0;34m(\u001b[0m\u001b[0;34m\"ACLILT\"\u001b[0m\u001b[0;34m)\u001b[0m\u001b[0;34m\u001b[0m\u001b[0;34m\u001b[0m\u001b[0m\n\u001b[0m",
        "\u001b[0;32mkhmer/_oxli/graphs.pyx\u001b[0m in \u001b[0;36mkhmer._oxli.graphs.Hashtable.get\u001b[0;34m()\u001b[0m\n",
        "\u001b[0;32mkhmer/_oxli/graphs.pyx\u001b[0m in \u001b[0;36mkhmer._oxli.graphs.Hashtable.sanitize_seq_kmer\u001b[0;34m()\u001b[0m\n",
        "\u001b[0;31mValueError\u001b[0m: Expected k-mer length 7 but got 6."
       ]
      }
     ],
     "persistentId": "e6a36b17-ebb6-4fd2-90cc-e2a09e2215ca",
     "text": "peptide_graph.get(\"ACLILT\")"
    },
    "executionTime": "2019-09-18T12:58:02.177Z"
   },
   {
    "cell": {
     "executionCount": 66,
     "executionEventId": "977ac8c0-9573-4e82-9963-5043a79b1de4",
     "hasError": false,
     "id": "f43cbf8f-7924-4667-8e25-072d79ea7581",
     "outputs": [
      {
       "data": {
        "text/plain": "{'FSEELRV',\n 'HSTMLSI',\n 'IFSEELR',\n 'LSIFSEE',\n 'MLSIFSE',\n 'PPSHSTM',\n 'PSHSTML',\n 'SHSTMLS',\n 'SIFSEEL',\n 'STMLSIF',\n 'TMLSIFS',\n 'VPPSHST'}"
       },
       "execution_count": 66,
       "metadata": {},
       "output_type": "execute_result"
      }
     ],
     "persistentId": "74df75ff-6eec-4174-b8a5-b521a78c903e",
     "text": "kmers"
    },
    "executionTime": "2019-09-18T12:59:52.086Z"
   },
   {
    "cell": {
     "executionCount": 67,
     "executionEventId": "249ab1ec-5f7d-459e-8abb-39c9594a2e1e",
     "hasError": true,
     "id": "55e10ce9-7ecf-4d47-acc0-263024add8bd",
     "outputs": [
      {
       "ename": "SyntaxError",
       "evalue": "invalid syntax (<ipython-input-67-d2c6a17e1828>, line 17)",
       "output_type": "error",
       "traceback": [
        "\u001b[0;36m  File \u001b[0;32m\"<ipython-input-67-d2c6a17e1828>\"\u001b[0;36m, line \u001b[0;32m17\u001b[0m\n\u001b[0;31m    kmers_in_peptide_db = {kmer:  peptide_graph.get(kmer for kmer in kmers}\u001b[0m\n\u001b[0m                                                                          ^\u001b[0m\n\u001b[0;31mSyntaxError\u001b[0m\u001b[0;31m:\u001b[0m invalid syntax\n"
       ]
      }
     ],
     "persistentId": "954ef7d8-1e5c-43fa-87bf-0098fd2cd414",
     "text": "\ndef six_frame_translation_no_stops(seq):\n    forward_translations = three_frame_translation_no_stops(seq)\n    reverse_translations = three_frame_translation_no_stops(seq.reverse_complement())\n    return forward_translations + reverse_translations\n\nwith gzip.open('SRR306838_GSM752691_hsa_br_F_1_trimmed_subsampled.fq.gz', 'rt') as f:\n    for i, record in zip(range(5), SeqIO.parse(f, 'fastq')):\n        print(record.description)\n        print(str(record.seq))\n        translations = six_frame_translation_no_stops(record.seq)\n        for translation in translations:\n            print(f\"\\t{translation}\")\n            kmers = set(kmerize(str(translation), peptide_ksize))\n            n_kmers = len(kmers)\n            n_kmers_in_peptide_db = sum(1 for kmer in kmers if peptide_graph.get(kmer) > 0)\n            kmers_in_peptide_db = {kmer:  peptide_graph.get(kmer for kmer in kmers}\n            print(f'n_kmers_in_peptide_db/n_kmers: {n_kmers_in_peptide_db}/{n_kmers} = {n_kmers_in_peptide_db/n_kmers}')"
    },
    "executionTime": "2019-09-18T13:00:36.932Z"
   },
   {
    "cell": {
     "executionCount": 68,
     "executionEventId": "703b6ce3-5597-4372-ad7e-c0e0c1e229f1",
     "hasError": true,
     "id": "f43cbf8f-7924-4667-8e25-072d79ea7581",
     "outputs": [
      {
       "ename": "NameError",
       "evalue": "name 'kmers_in_peptide_db' is not defined",
       "output_type": "error",
       "traceback": [
        "\u001b[0;31m---------------------------------------------------------------------------\u001b[0m",
        "\u001b[0;31mNameError\u001b[0m                                 Traceback (most recent call last)",
        "\u001b[0;32m<ipython-input-68-4c26fe46da49>\u001b[0m in \u001b[0;36m<module>\u001b[0;34m()\u001b[0m\n\u001b[0;32m----> 1\u001b[0;31m \u001b[0mkmers_in_peptide_db\u001b[0m\u001b[0;34m\u001b[0m\u001b[0;34m\u001b[0m\u001b[0m\n\u001b[0m",
        "\u001b[0;31mNameError\u001b[0m: name 'kmers_in_peptide_db' is not defined"
       ]
      }
     ],
     "persistentId": "74df75ff-6eec-4174-b8a5-b521a78c903e",
     "text": "kmers_in_peptide_db"
    },
    "executionTime": "2019-09-18T13:00:38.439Z"
   },
   {
    "cell": {
     "executionCount": 69,
     "executionEventId": "3224eeb7-8f2c-4400-90c9-e553d21abdb9",
     "hasError": false,
     "id": "55e10ce9-7ecf-4d47-acc0-263024add8bd",
     "outputs": [
      {
       "name": "stdout",
       "output_type": "stream",
       "text": "SRR306838.10559374 Ibis_Run100924_C3PO:6:51:17601:17119/1\nCGCTTGCTTAATACTGACATCAATAATATTAGGAAAATCGCAATATAACTGTAAATCCTGTTCTGTC\n\tACLILTSIILGKSQYNCKSCSV\nn_kmers_in_peptide_db/n_kmers: 16/16 = 1.0\n\tTEQDLQLYCDFPNIIDVSIKQA\nn_kmers_in_peptide_db/n_kmers: 16/16 = 1.0\n\tQNRIYSYIAIFLILLMSVLSK\nn_kmers_in_peptide_db/n_kmers: 15/15 = 1.0\nSRR306838.6196593 Ibis_Run100924_C3PO:6:29:16733:12435/1\nTCTAGAATGTGAAATAACGTACTTCATGTGTCTTCTTACCAAAAATACCAACGATAAGGGGAAAAGCCATC\n\tLECEITYFMCLLTKNTNDKGKSH\nn_kmers_in_peptide_db/n_kmers: 17/17 = 1.0\n\tWLFPLSLVFLVRRHMKYVISHSR\nn_kmers_in_peptide_db/n_kmers: 17/17 = 1.0\nSRR306838.20767303 Ibis_Run100924_C3PO:6:104:6864:5062/1\nCAATCATCATCACTTTCTAATTCCAGAATATTTTCATCACCCCAAAAAGAAATCCTAAATCCATTAGC\n\tQSSSLSNSRIFSSPQKEILNPL\nn_kmers_in_peptide_db/n_kmers: 16/16 = 1.0\n\tANGFRISFWGDENILELESDDD\nn_kmers_in_peptide_db/n_kmers: 16/16 = 1.0\nSRR306838.12582274 Ibis_Run100924_C3PO:6:62:11779:17975/1\nCAAAAGTGAAGACCTCCCTGGGGTCTTCAAAGACAGCCTTTGCTCTCCATGTAGCCAATGGTGCTCT\n\tKSEDLPGVFKDSLCSPCSQWCS\nn_kmers_in_peptide_db/n_kmers: 16/16 = 1.0\n\tKVKTSLGSSKTAFALHVANGA\nn_kmers_in_peptide_db/n_kmers: 15/15 = 1.0\n\tRAPLATWRAKAVFEDPREVFTF\nn_kmers_in_peptide_db/n_kmers: 16/16 = 1.0\n\tEHHWLHGEQRLSLKTPGRSSLL\nn_kmers_in_peptide_db/n_kmers: 16/16 = 1.0\nSRR306838.13334230 Ibis_Run100924_C3PO:6:66:16579:20350/1\nGTAACCCTTAATTCCTCAGAAAAAATAGACAACATAGTGGAGTGGGATGGAGGAAC\n\tVTLNSSEKIDNIVEWDGG\nn_kmers_in_peptide_db/n_kmers: 12/12 = 1.0\n\tVPPSHSTMLSIFSEELRV\nn_kmers_in_peptide_db/n_kmers: 12/12 = 1.0\n"
      },
      {
       "name": "stderr",
       "output_type": "stream",
       "text": "/home/olga/miniconda3/envs/kmer-hashing/lib/python3.6/site-packages/Bio/Seq.py:2715: BiopythonWarning: Partial codon, len(sequence) not a multiple of three. Explicitly trim the sequence or add trailing N before translation. This may become an error in future.\n  BiopythonWarning)\n"
      }
     ],
     "persistentId": "954ef7d8-1e5c-43fa-87bf-0098fd2cd414",
     "text": "\ndef six_frame_translation_no_stops(seq):\n    forward_translations = three_frame_translation_no_stops(seq)\n    reverse_translations = three_frame_translation_no_stops(seq.reverse_complement())\n    return forward_translations + reverse_translations\n\nwith gzip.open('SRR306838_GSM752691_hsa_br_F_1_trimmed_subsampled.fq.gz', 'rt') as f:\n    for i, record in zip(range(5), SeqIO.parse(f, 'fastq')):\n        print(record.description)\n        print(str(record.seq))\n        translations = six_frame_translation_no_stops(record.seq)\n        for translation in translations:\n            print(f\"\\t{translation}\")\n            kmers = set(kmerize(str(translation), peptide_ksize))\n            n_kmers = len(kmers)\n            n_kmers_in_peptide_db = sum(1 for kmer in kmers if peptide_graph.get(kmer) > 0)\n            kmers_in_peptide_db = {kmer:  peptide_graph.get(kmer) for kmer in kmers}\n            print(f'n_kmers_in_peptide_db/n_kmers: {n_kmers_in_peptide_db}/{n_kmers} = {n_kmers_in_peptide_db/n_kmers}')"
    },
    "executionTime": "2019-09-18T13:00:43.219Z"
   },
   {
    "cell": {
     "executionCount": 70,
     "executionEventId": "22e444c6-6547-4469-b5c2-dec41645e923",
     "hasError": false,
     "id": "f43cbf8f-7924-4667-8e25-072d79ea7581",
     "outputs": [
      {
       "data": {
        "text/plain": "{'IFSEELR': 1,\n 'SHSTMLS': 1,\n 'STMLSIF': 1,\n 'LSIFSEE': 1,\n 'HSTMLSI': 1,\n 'VPPSHST': 1,\n 'SIFSEEL': 1,\n 'PPSHSTM': 1,\n 'PSHSTML': 1,\n 'TMLSIFS': 1,\n 'FSEELRV': 1,\n 'MLSIFSE': 1}"
       },
       "execution_count": 70,
       "metadata": {},
       "output_type": "execute_result"
      }
     ],
     "persistentId": "74df75ff-6eec-4174-b8a5-b521a78c903e",
     "text": "kmers_in_peptide_db"
    },
    "executionTime": "2019-09-18T13:00:45.953Z"
   },
   {
    "cell": {
     "executionCount": 71,
     "executionEventId": "4f948cc7-ee5d-4a06-b36b-22c9466dc461",
     "hasError": true,
     "id": "c32055e5-5a36-4ad7-8e32-95afe7566843",
     "outputs": [
      {
       "ename": "NameError",
       "evalue": "name 'graph' is not defined",
       "output_type": "error",
       "traceback": [
        "\u001b[0;31m---------------------------------------------------------------------------\u001b[0m",
        "\u001b[0;31mNameError\u001b[0m                                 Traceback (most recent call last)",
        "\u001b[0;32m<ipython-input-71-03849e4d53d0>\u001b[0m in \u001b[0;36m<module>\u001b[0;34m()\u001b[0m\n\u001b[0;32m----> 1\u001b[0;31m \u001b[0mdir\u001b[0m\u001b[0;34m(\u001b[0m\u001b[0mgraph\u001b[0m\u001b[0;34m)\u001b[0m\u001b[0;34m\u001b[0m\u001b[0;34m\u001b[0m\u001b[0m\n\u001b[0m",
        "\u001b[0;31mNameError\u001b[0m: name 'graph' is not defined"
       ]
      }
     ],
     "persistentId": "8449aeab-1ad6-4f1c-94d4-01fdf6ef96ac",
     "text": "dir(graph)"
    },
    "executionTime": "2019-09-18T17:28:23.832Z"
   },
   {
    "cell": {
     "executionCount": 74,
     "executionEventId": "0e1cb8e4-f3b0-4a0b-8839-8f5feb8299ff",
     "hasError": false,
     "id": "55e10ce9-7ecf-4d47-acc0-263024add8bd",
     "outputs": [
      {
       "name": "stdout",
       "output_type": "stream",
       "text": "SRR306838.10559374 Ibis_Run100924_C3PO:6:51:17601:17119/1\nCGCTTGCTTAATACTGACATCAATAATATTAGGAAAATCGCAATATAACTGTAAATCCTGTTCTGTC\n\tACLILTSIILGKSQYNCKSCSV\nn_kmers_in_peptide_db/n_kmers: 0/16 = 0.0\n\tTEQDLQLYCDFPNIIDVSIKQA\nn_kmers_in_peptide_db/n_kmers: 16/16 = 1.0\n\tQNRIYSYIAIFLILLMSVLSK\nn_kmers_in_peptide_db/n_kmers: 1/15 = 0.06666666666666667\nSRR306838.6196593 Ibis_Run100924_C3PO:6:29:16733:12435/1\nTCTAGAATGTGAAATAACGTACTTCATGTGTCTTCTTACCAAAAATACCAACGATAAGGGGAAAAGCCATC\n\tLECEITYFMCLLTKNTNDKGKSH\nn_kmers_in_peptide_db/n_kmers: 0/17 = 0.0\n\tWLFPLSLVFLVRRHMKYVISHSR\nn_kmers_in_peptide_db/n_kmers: 0/17 = 0.0\nSRR306838.20767303 Ibis_Run100924_C3PO:6:104:6864:5062/1\nCAATCATCATCACTTTCTAATTCCAGAATATTTTCATCACCCCAAAAAGAAATCCTAAATCCATTAGC\n\tQSSSLSNSRIFSSPQKEILNPL\nn_kmers_in_peptide_db/n_kmers: 3/16 = 0.1875\n\tANGFRISFWGDENILELESDDD\nn_kmers_in_peptide_db/n_kmers: 0/16 = 0.0\nSRR306838.12582274 Ibis_Run100924_C3PO:6:62:11779:17975/1\nCAAAAGTGAAGACCTCCCTGGGGTCTTCAAAGACAGCCTTTGCTCTCCATGTAGCCAATGGTGCTCT\n\tKSEDLPGVFKDSLCSPCSQWCS\nn_kmers_in_peptide_db/n_kmers: 0/16 = 0.0\n\tKVKTSLGSSKTAFALHVANGA\nn_kmers_in_peptide_db/n_kmers: 1/15 = 0.06666666666666667\n\tRAPLATWRAKAVFEDPREVFTF\nn_kmers_in_peptide_db/n_kmers: 0/16 = 0.0\n\tEHHWLHGEQRLSLKTPGRSSLL\nn_kmers_in_peptide_db/n_kmers: 0/16 = 0.0\nSRR306838.13334230 Ibis_Run100924_C3PO:6:66:16579:20350/1\nGTAACCCTTAATTCCTCAGAAAAAATAGACAACATAGTGGAGTGGGATGGAGGAAC\n\tVTLNSSEKIDNIVEWDGG\nn_kmers_in_peptide_db/n_kmers: 0/12 = 0.0\n\tVPPSHSTMLSIFSEELRV\nn_kmers_in_peptide_db/n_kmers: 0/12 = 0.0\n"
      },
      {
       "name": "stderr",
       "output_type": "stream",
       "text": "/home/olga/miniconda3/envs/kmer-hashing/lib/python3.6/site-packages/Bio/Seq.py:2715: BiopythonWarning: Partial codon, len(sequence) not a multiple of three. Explicitly trim the sequence or add trailing N before translation. This may become an error in future.\n  BiopythonWarning)\n"
      }
     ],
     "persistentId": "954ef7d8-1e5c-43fa-87bf-0098fd2cd414",
     "text": "\ndef six_frame_translation_no_stops(seq):\n    forward_translations = three_frame_translation_no_stops(seq)\n    reverse_translations = three_frame_translation_no_stops(seq.reverse_complement())\n    return forward_translations + reverse_translations\n\nwith gzip.open('SRR306838_GSM752691_hsa_br_F_1_trimmed_subsampled.fq.gz', 'rt') as f:\n    for i, record in zip(range(5), SeqIO.parse(f, 'fastq')):\n        print(record.description)\n        print(str(record.seq))\n        translations = six_frame_translation_no_stops(record.seq)\n        for translation in translations:\n            print(f\"\\t{translation}\")\n            kmers = set(kmerize(str(translation), peptide_ksize))\n            n_kmers = len(kmers)\n            n_kmers_in_peptide_db = sum(1 for kmer in kmers if peptide_graph.get(hash_murmur(kmer)) > 0)\n            kmers_in_peptide_db = {kmer:  peptide_graph.get(kmer) for kmer in kmers}\n            print(f'n_kmers_in_peptide_db/n_kmers: {n_kmers_in_peptide_db}/{n_kmers} = {n_kmers_in_peptide_db/n_kmers}')"
    },
    "executionTime": "2019-09-18T17:34:33.605Z"
   },
   {
    "cell": {
     "executionCount": 75,
     "executionEventId": "ee2ebe0b-7f3d-4eb8-adda-59affc910207",
     "hasError": false,
     "id": "55e10ce9-7ecf-4d47-acc0-263024add8bd",
     "outputs": [
      {
       "name": "stdout",
       "output_type": "stream",
       "text": "SRR306838.10559374 Ibis_Run100924_C3PO:6:51:17601:17119/1\nCGCTTGCTTAATACTGACATCAATAATATTAGGAAAATCGCAATATAACTGTAAATCCTGTTCTGTC\n\tACLILTSIILGKSQYNCKSCSV\nn_kmers_in_peptide_db/n_kmers: 0/16 = 0.0\n\tTEQDLQLYCDFPNIIDVSIKQA\nn_kmers_in_peptide_db/n_kmers: 16/16 = 1.0\n\tQNRIYSYIAIFLILLMSVLSK\nn_kmers_in_peptide_db/n_kmers: 1/15 = 0.06666666666666667\nSRR306838.6196593 Ibis_Run100924_C3PO:6:29:16733:12435/1\nTCTAGAATGTGAAATAACGTACTTCATGTGTCTTCTTACCAAAAATACCAACGATAAGGGGAAAAGCCATC\n\tLECEITYFMCLLTKNTNDKGKSH\nn_kmers_in_peptide_db/n_kmers: 0/17 = 0.0\n\tWLFPLSLVFLVRRHMKYVISHSR\nn_kmers_in_peptide_db/n_kmers: 0/17 = 0.0\nSRR306838.20767303 Ibis_Run100924_C3PO:6:104:6864:5062/1\nCAATCATCATCACTTTCTAATTCCAGAATATTTTCATCACCCCAAAAAGAAATCCTAAATCCATTAGC\n\tQSSSLSNSRIFSSPQKEILNPL\nn_kmers_in_peptide_db/n_kmers: 3/16 = 0.1875\n\tANGFRISFWGDENILELESDDD\nn_kmers_in_peptide_db/n_kmers: 0/16 = 0.0\nSRR306838.12582274 Ibis_Run100924_C3PO:6:62:11779:17975/1\nCAAAAGTGAAGACCTCCCTGGGGTCTTCAAAGACAGCCTTTGCTCTCCATGTAGCCAATGGTGCTCT\n\tKSEDLPGVFKDSLCSPCSQWCS\nn_kmers_in_peptide_db/n_kmers: 0/16 = 0.0\n\tKVKTSLGSSKTAFALHVANGA\nn_kmers_in_peptide_db/n_kmers: 1/15 = 0.06666666666666667\n\tRAPLATWRAKAVFEDPREVFTF\nn_kmers_in_peptide_db/n_kmers: 0/16 = 0.0\n\tEHHWLHGEQRLSLKTPGRSSLL\nn_kmers_in_peptide_db/n_kmers: 0/16 = 0.0\nSRR306838.13334230 Ibis_Run100924_C3PO:6:66:16579:20350/1\nGTAACCCTTAATTCCTCAGAAAAAATAGACAACATAGTGGAGTGGGATGGAGGAAC\n\tVTLNSSEKIDNIVEWDGG\nn_kmers_in_peptide_db/n_kmers: 0/12 = 0.0\n\tVPPSHSTMLSIFSEELRV\nn_kmers_in_peptide_db/n_kmers: 0/12 = 0.0\n"
      },
      {
       "name": "stderr",
       "output_type": "stream",
       "text": "/home/olga/miniconda3/envs/kmer-hashing/lib/python3.6/site-packages/Bio/Seq.py:2715: BiopythonWarning: Partial codon, len(sequence) not a multiple of three. Explicitly trim the sequence or add trailing N before translation. This may become an error in future.\n  BiopythonWarning)\n"
      }
     ],
     "persistentId": "954ef7d8-1e5c-43fa-87bf-0098fd2cd414",
     "text": "\ndef six_frame_translation_no_stops(seq):\n    forward_translations = three_frame_translation_no_stops(seq)\n    reverse_translations = three_frame_translation_no_stops(seq.reverse_complement())\n    return forward_translations + reverse_translations\n\nwith gzip.open('SRR306838_GSM752691_hsa_br_F_1_trimmed_subsampled.fq.gz', 'rt') as f:\n    for i, record in zip(range(5), SeqIO.parse(f, 'fastq')):\n        print(record.description)\n        print(str(record.seq))\n        translations = six_frame_translation_no_stops(record.seq)\n        for translation in translations:\n            print(f\"\\t{translation}\")\n            kmers = list(set(kmerize(str(translation), peptide_ksize)))\n            hashes = [hash_murmur(kmer) for kmer in kmers]\n            n_kmers = len(kmers)\n            n_kmers_in_peptide_db = sum(1 for h in hashes if peptide_graph.get(h) > 0)\n            kmers_in_peptide_db = {(k, h): peptide_graph.get(h) for k, h in zip(kmers, hashes)}\n            print(f'n_kmers_in_peptide_db/n_kmers: {n_kmers_in_peptide_db}/{n_kmers} = {n_kmers_in_peptide_db/n_kmers}')"
    },
    "executionTime": "2019-09-18T17:37:45.679Z"
   },
   {
    "cell": {
     "executionCount": 76,
     "executionEventId": "39afc454-47f5-4b75-9727-5fae39ce5745",
     "hasError": false,
     "id": "a7e882a3-119b-4ee4-979c-024f9698ca4b",
     "outputs": [
      {
       "data": {
        "text/plain": "{('IFSEELR', 11892317812910437962): 0,\n ('SHSTMLS', 4302466394871034751): 0,\n ('STMLSIF', 17140174045674007225): 0,\n ('LSIFSEE', 17333866532797682098): 0,\n ('HSTMLSI', 3317888827260635553): 0,\n ('VPPSHST', 6603845302249911305): 0,\n ('SIFSEEL', 2141144869077685311): 0,\n ('PPSHSTM', 6020293064496076193): 0,\n ('PSHSTML', 17649948868304187964): 0,\n ('TMLSIFS', 16138148514388767261): 0,\n ('FSEELRV', 8285756571744429283): 0,\n ('MLSIFSE', 11206848156597902864): 0}"
       },
       "execution_count": 76,
       "metadata": {},
       "output_type": "execute_result"
      }
     ],
     "persistentId": "f3c963f2-8657-4743-8cd3-a241b022e120",
     "text": "kmers_in_peptide_db"
    },
    "executionTime": "2019-09-18T17:37:48.318Z"
   },
   {
    "cell": {
     "executionCount": 77,
     "executionEventId": "b6de3381-87f8-4f39-8831-9c4766398d30",
     "hasError": false,
     "id": "55e10ce9-7ecf-4d47-acc0-263024add8bd",
     "outputs": [
      {
       "name": "stdout",
       "output_type": "stream",
       "text": "\nSRR306838.10559374 Ibis_Run100924_C3PO:6:51:17601:17119/1\nCGCTTGCTTAATACTGACATCAATAATATTAGGAAAATCGCAATATAACTGTAAATCCTGTTCTGTC\n\tACLILTSIILGKSQYNCKSCSV\nn_kmers_in_peptide_db/n_kmers: 0/16 = 0.0\n\tTEQDLQLYCDFPNIIDVSIKQA\nn_kmers_in_peptide_db/n_kmers: 16/16 = 1.0\n\tQNRIYSYIAIFLILLMSVLSK\nn_kmers_in_peptide_db/n_kmers: 1/15 = 0.06666666666666667\n\nSRR306838.6196593 Ibis_Run100924_C3PO:6:29:16733:12435/1\nTCTAGAATGTGAAATAACGTACTTCATGTGTCTTCTTACCAAAAATACCAACGATAAGGGGAAAAGCCATC\n\tLECEITYFMCLLTKNTNDKGKSH\nn_kmers_in_peptide_db/n_kmers: 0/17 = 0.0\n\tWLFPLSLVFLVRRHMKYVISHSR\nn_kmers_in_peptide_db/n_kmers: 0/17 = 0.0\n\nSRR306838.20767303 Ibis_Run100924_C3PO:6:104:6864:5062/1\nCAATCATCATCACTTTCTAATTCCAGAATATTTTCATCACCCCAAAAAGAAATCCTAAATCCATTAGC\n\tQSSSLSNSRIFSSPQKEILNPL\nn_kmers_in_peptide_db/n_kmers: 3/16 = 0.1875\n\tANGFRISFWGDENILELESDDD\nn_kmers_in_peptide_db/n_kmers: 0/16 = 0.0\n\nSRR306838.12582274 Ibis_Run100924_C3PO:6:62:11779:17975/1\nCAAAAGTGAAGACCTCCCTGGGGTCTTCAAAGACAGCCTTTGCTCTCCATGTAGCCAATGGTGCTCT\n\tKSEDLPGVFKDSLCSPCSQWCS\nn_kmers_in_peptide_db/n_kmers: 0/16 = 0.0\n\tKVKTSLGSSKTAFALHVANGA\nn_kmers_in_peptide_db/n_kmers: 1/15 = 0.06666666666666667\n\tRAPLATWRAKAVFEDPREVFTF\nn_kmers_in_peptide_db/n_kmers: 0/16 = 0.0\n\tEHHWLHGEQRLSLKTPGRSSLL\nn_kmers_in_peptide_db/n_kmers: 0/16 = 0.0\n\nSRR306838.13334230 Ibis_Run100924_C3PO:6:66:16579:20350/1\nGTAACCCTTAATTCCTCAGAAAAAATAGACAACATAGTGGAGTGGGATGGAGGAAC\n\tVTLNSSEKIDNIVEWDGG\nn_kmers_in_peptide_db/n_kmers: 0/12 = 0.0\n\tVPPSHSTMLSIFSEELRV\nn_kmers_in_peptide_db/n_kmers: 0/12 = 0.0\n"
      },
      {
       "name": "stderr",
       "output_type": "stream",
       "text": "/home/olga/miniconda3/envs/kmer-hashing/lib/python3.6/site-packages/Bio/Seq.py:2715: BiopythonWarning: Partial codon, len(sequence) not a multiple of three. Explicitly trim the sequence or add trailing N before translation. This may become an error in future.\n  BiopythonWarning)\n"
      }
     ],
     "persistentId": "954ef7d8-1e5c-43fa-87bf-0098fd2cd414",
     "text": "\ndef six_frame_translation_no_stops(seq):\n    forward_translations = three_frame_translation_no_stops(seq)\n    reverse_translations = three_frame_translation_no_stops(seq.reverse_complement())\n    return forward_translations + reverse_translations\n\nwith gzip.open('SRR306838_GSM752691_hsa_br_F_1_trimmed_subsampled.fq.gz', 'rt') as f:\n    for i, record in zip(range(5), SeqIO.parse(f, 'fastq')):\n        print()\n        print(record.description)\n        print(str(record.seq))\n        translations = six_frame_translation_no_stops(record.seq)\n        for translation in translations:\n            print(f\"\\t{translation}\")\n            kmers = list(set(kmerize(str(translation), peptide_ksize)))\n            hashes = [hash_murmur(kmer) for kmer in kmers]\n            n_kmers = len(kmers)\n            n_kmers_in_peptide_db = sum(1 for h in hashes if peptide_graph.get(h) > 0)\n            kmers_in_peptide_db = {(k, h): peptide_graph.get(h) for k, h in zip(kmers, hashes)}\n            print(f'n_kmers_in_peptide_db/n_kmers: {n_kmers_in_peptide_db}/{n_kmers} = {n_kmers_in_peptide_db/n_kmers}')"
    },
    "executionTime": "2019-09-18T17:38:10.327Z"
   },
   {
    "cell": {
     "executionCount": 79,
     "executionEventId": "20f59239-1d48-43c5-a524-01078251a8bf",
     "hasError": false,
     "id": "7b834435-4c4d-4a94-befd-712cc920dd65",
     "outputs": [
      {
       "name": "stdout",
       "output_type": "stream",
       "text": "SRR306838.10559374 Ibis_Run100924_C3PO:6:51:17601:17119/1\nCGCTTGCTTAATACTGACATCAATAATATTAGGAAAATCGCAATATAACTGTAAATCCTGTTCTGTC\n[Seq('RLLNTDINNIRKIAI*L*ILFC', HasStopCodon(ExtendedIUPACProtein(), '*')), Seq('ACLILTSIILGKSQYNCKSCSV', ExtendedIUPACProtein()), Seq('LA*Y*HQ*Y*ENRNITVNPVL', HasStopCodon(ExtendedIUPACProtein(), '*'))]\n[Seq('LSCPKCQYNAKRIIITTVIIRS', ExtendedIUPACProtein()), Seq('CLVLNVNITLKGL**LQS*FVR', HasStopCodon(ExtendedIUPACProtein(), '*')), Seq('VLS*MSI*R*KDYNNYSHNSF', HasStopCodon(ExtendedIUPACProtein(), '*'))]\nSRR306838.6196593 Ibis_Run100924_C3PO:6:29:16733:12435/1\nTCTAGAATGTGAAATAACGTACTTCATGTGTCTTCTTACCAAAAATACCAACGATAAGGGGAAAAGCCATC\n[Seq('SRM*NNVLHVSSYQKYQR*GEKP', HasStopCodon(ExtendedIUPACProtein(), '*')), Seq('LECEITYFMCLLTKNTNDKGKSH', ExtendedIUPACProtein()), Seq('*NVK*RTSCVFLPKIPTIRGKAI', HasStopCodon(ExtendedIUPACProtein(), '*'))]\n[Seq('LPKRGIATIKTILLCTSCNKV*D', HasStopCodon(ExtendedIUPACProtein(), '*')), Seq('YRKGE*QP*KPFFCVLHAIKCKI', HasStopCodon(ExtendedIUPACProtein(), '*')), Seq('TEKGNSNHKNHSSVYFMQ*SVRS', HasStopCodon(ExtendedIUPACProtein(), '*'))]\nSRR306838.20767303 Ibis_Run100924_C3PO:6:104:6864:5062/1\nCAATCATCATCACTTTCTAATTCCAGAATATTTTCATCACCCCAAAAAGAAATCCTAAATCCATTAGC\n[Seq('QSSSLSNSRIFSSPQKEILNPL', ExtendedIUPACProtein()), Seq('NHHHFLIPEYFHHPKKKS*IH*', HasStopCodon(ExtendedIUPACProtein(), '*')), Seq('IIITF*FQNIFITPKRNPKSIS', HasStopCodon(ExtendedIUPACProtein(), '*'))]\n[Seq('RLPKS*RKTPLLL*DLNLSLLL', HasStopCodon(ExtendedIUPACProtein(), '*')), Seq('DYLNPKEKPHYFYKTLIFHYY*', HasStopCodon(ExtendedIUPACProtein(), '*')), Seq('IT*ILKKNPTTFIRP*SFTTTN', HasStopCodon(ExtendedIUPACProtein(), '*'))]\nSRR306838.12582274 Ibis_Run100924_C3PO:6:62:11779:17975/1\nCAAAAGTGAAGACCTCCCTGGGGTCTTCAAAGACAGCCTTTGCTCTCCATGTAGCCAATGGTGCTCT\n[Seq('QK*RPPWGLQRQPLLSM*PMVL', HasStopCodon(ExtendedIUPACProtein(), '*')), Seq('KSEDLPGVFKDSLCSPCSQWCS', ExtendedIUPACProtein()), Seq('KVKTSLGSSKTAFALHVANGA', ExtendedIUPACProtein())]\n[Seq('SRGNRCTSRFRQKLLGSLQK*K', HasStopCodon(ExtendedIUPACProtein(), '*')), Seq('LVVTDVPLVSDRNFWGPSRSEN', ExtendedIUPACProtein()), Seq('SW*PMYLSFPTETSGVPPEVK', HasStopCodon(ExtendedIUPACProtein(), '*'))]\nSRR306838.13334230 Ibis_Run100924_C3PO:6:66:16579:20350/1\nGTAACCCTTAATTCCTCAGAAAAAATAGACAACATAGTGGAGTGGGATGGAGGAAC\n[Seq('VTLNSSEKIDNIVEWDGG', ExtendedIUPACProtein()), Seq('*PLIPQKK*TT*WSGMEE', HasStopCodon(ExtendedIUPACProtein(), '*')), Seq('NP*FLRKNRQHSGVGWRN', HasStopCodon(ExtendedIUPACProtein(), '*'))]\n[Seq('QGGRVR*YNR*KRLLNSQ', HasStopCodon(ExtendedIUPACProtein(), '*')), Seq('KEVG*GDTTDKKDSLIPN', HasStopCodon(ExtendedIUPACProtein(), '*')), Seq('RR*GEVIQQIKKTP*FPM', HasStopCodon(ExtendedIUPACProtein(), '*'))]\n"
      },
      {
       "name": "stderr",
       "output_type": "stream",
       "text": "/home/olga/miniconda3/envs/kmer-hashing/lib/python3.6/site-packages/Bio/Seq.py:2715: BiopythonWarning: Partial codon, len(sequence) not a multiple of three. Explicitly trim the sequence or add trailing N before translation. This may become an error in future.\n  BiopythonWarning)\n"
      }
     ],
     "persistentId": "39699f59-df26-4089-a7b8-519f138c6091",
     "text": "def three_frame_translation(seq):\n    for frame in range(3):\n        translation = seq[frame:].translate()\n        yield translation\n        \ndef three_frame_translation_no_stops(seq):\n    return [t for t in three_frame_translation(seq) if '*' not in t]\n\n\nwith gzip.open('SRR306838_GSM752691_hsa_br_F_1_trimmed_subsampled.fq.gz', 'rt') as f:\n    for i, record in zip(range(5), SeqIO.parse(f, 'fastq')):\n        print(record.description)\n        print(str(record.seq))\n        print(list(three_frame_translation(record.seq)))\n        print(list(three_frame_translation(record.seq[::-1])))"
    },
    "executionTime": "2019-09-18T17:40:03.841Z"
   },
   {
    "cell": {
     "executionCount": 81,
     "executionEventId": "c5027bb4-01a3-444a-a820-e6c202a25d0f",
     "hasError": false,
     "id": "55e10ce9-7ecf-4d47-acc0-263024add8bd",
     "outputs": [
      {
       "name": "stdout",
       "output_type": "stream",
       "text": "\nSRR306838.10559374 Ibis_Run100924_C3PO:6:51:17601:17119/1\nCGCTTGCTTAATACTGACATCAATAATATTAGGAAAATCGCAATATAACTGTAAATCCTGTTCTGTC\n\tACLILTSIILGKSQYNCKSCSV\nn_kmers_in_peptide_db/n_kmers: 18/18 = 1.0\n\tTEQDLQLYCDFPNIIDVSIKQA\nn_kmers_in_peptide_db/n_kmers: 18/18 = 1.0\n\tQNRIYSYIAIFLILLMSVLSK\nn_kmers_in_peptide_db/n_kmers: 16/17 = 0.9411764705882353\n\nSRR306838.6196593 Ibis_Run100924_C3PO:6:29:16733:12435/1\nTCTAGAATGTGAAATAACGTACTTCATGTGTCTTCTTACCAAAAATACCAACGATAAGGGGAAAAGCCATC\n\tLECEITYFMCLLTKNTNDKGKSH\nn_kmers_in_peptide_db/n_kmers: 17/19 = 0.8947368421052632\n\tWLFPLSLVFLVRRHMKYVISHSR\nn_kmers_in_peptide_db/n_kmers: 18/19 = 0.9473684210526315\n\nSRR306838.20767303 Ibis_Run100924_C3PO:6:104:6864:5062/1\nCAATCATCATCACTTTCTAATTCCAGAATATTTTCATCACCCCAAAAAGAAATCCTAAATCCATTAGC\n\tQSSSLSNSRIFSSPQKEILNPL\nn_kmers_in_peptide_db/n_kmers: 18/18 = 1.0\n\tANGFRISFWGDENILELESDDD\nn_kmers_in_peptide_db/n_kmers: 17/18 = 0.9444444444444444\n\nSRR306838.12582274 Ibis_Run100924_C3PO:6:62:11779:17975/1\nCAAAAGTGAAGACCTCCCTGGGGTCTTCAAAGACAGCCTTTGCTCTCCATGTAGCCAATGGTGCTCT\n\tKSEDLPGVFKDSLCSPCSQWCS\nn_kmers_in_peptide_db/n_kmers: 17/18 = 0.9444444444444444\n\tKVKTSLGSSKTAFALHVANGA\nn_kmers_in_peptide_db/n_kmers: 17/17 = 1.0\n\tRAPLATWRAKAVFEDPREVFTF\nn_kmers_in_peptide_db/n_kmers: 16/18 = 0.8888888888888888\n\tEHHWLHGEQRLSLKTPGRSSLL\nn_kmers_in_peptide_db/n_kmers: 16/18 = 0.8888888888888888\n\nSRR306838.13334230 Ibis_Run100924_C3PO:6:66:16579:20350/1\nGTAACCCTTAATTCCTCAGAAAAAATAGACAACATAGTGGAGTGGGATGGAGGAAC\n\tVTLNSSEKIDNIVEWDGG\nn_kmers_in_peptide_db/n_kmers: 13/14 = 0.9285714285714286\n\tVPPSHSTMLSIFSEELRV\nn_kmers_in_peptide_db/n_kmers: 13/14 = 0.9285714285714286\n\nSRR306838.2740879 Ibis_Run100924_C3PO:6:13:11155:5248/1\nCTGTGATTATTTTTTTTCCTAGCATTTGTTCTTTCAGAAAAGGACTGAACTCTAAATTCTGGACTTGAAGACTG\n\tQSSSPEFRVQSFSERTNARKKNNH\nn_kmers_in_peptide_db/n_kmers: 20/20 = 1.0\n\tSLQVQNLEFSPFLKEQMLGKKIIT\nn_kmers_in_peptide_db/n_kmers: 20/20 = 1.0\n\nSRR306838.6813354 Ibis_Run100924_C3PO:6:32:10591:13073/1\nGTTTGATTCTTGACAATTTCTTCTGGAACAAGTCTTTCATATACATTAGACTGGTATCATTGAGTTCTGAGC\n\tLILDNFFWNKSFIYIRLVSLSSE\nn_kmers_in_peptide_db/n_kmers: 16/19 = 0.8421052631578947\n\tSELNDTSLMYMKDLFQKKLSRIK\nn_kmers_in_peptide_db/n_kmers: 18/19 = 0.9473684210526315\n\nSRR306838.23113368 Ibis_Run100924_C3PO:6:114:13840:18459/1\nCACAAGGCTAACATACACAATCTGTAACACGAGATGGATAGCACACACATATGACACAATTTC\n\tTRLTYTICNTRWIAHTYDTI\nn_kmers_in_peptide_db/n_kmers: 13/16 = 0.8125\n\tEIVSYVCAIHLVLQIVYVSLV\nn_kmers_in_peptide_db/n_kmers: 14/17 = 0.8235294117647058\n\tKLCHMCVLSISCYRLCMLAL\nn_kmers_in_peptide_db/n_kmers: 13/16 = 0.8125\n\nSRR306838.10872941 Ibis_Run100924_C3PO:6:53:6164:10522/1\nCTGTAGTGTGGTCCATTCCCAGACAGCAACATGCAAGAATAAGTTTACAATACACTCAGCCCTTCTG\n\tCSVVHSQTATCKNKFTIHSALL\nn_kmers_in_peptide_db/n_kmers: 15/18 = 0.8333333333333334\n\tVVWSIPRQQHARISLQYTQPF\nn_kmers_in_peptide_db/n_kmers: 16/17 = 0.9411764705882353\n\tRRAECIVNLFLHVAVWEWTTLQ\nn_kmers_in_peptide_db/n_kmers: 18/18 = 1.0\n\nSRR306838.6192120 Ibis_Run100924_C3PO:6:29:5833:11991/1\nTAGGAAAATAGTAATATTTGCAACTTATGAATGATAAGTCAGAAAAGTTACATGGAATGTTAAATTTT\n\tKFNIPCNFSDLSFISCKYYYFP\nn_kmers_in_peptide_db/n_kmers: 16/18 = 0.8888888888888888\n\nSRR306838.21295280 Ibis_Run100924_C3PO:6:106:2590:13965/1\nCTGATAGACTGAAACTGGTTTTGTTATTCTTAACGTTCTCCAGTCTGCACTCTGCTGTGCTGTCTGTGCTC\n\tDRLKLVLLFLTFSSLHSAVLSVL\nn_kmers_in_peptide_db/n_kmers: 19/19 = 1.0\n\tSTDSTAECRLENVKNNKTSFSLS\nn_kmers_in_peptide_db/n_kmers: 17/19 = 0.8947368421052632\n\tAQTAQQSADWRTLRITKPVSVYQ\nn_kmers_in_peptide_db/n_kmers: 19/19 = 1.0\n\nSRR306838.21201208 Ibis_Run100924_C3PO:6:106:2763:5109/1\nTTAAGTTCTAGTCTGTGAGCACTTGTAGTTCAATAATCGTCATCTTCATCAGAGTCCATTACTTTTCTTCTGTTG\n\nSRR306838.18327923 Ibis_Run100924_C3PO:6:92:9077:13885/1\nAAATAAGGTAACATTTAACAATAATCTGATACACATAAATAGAGAAAGAGCAATTGATAAAGTAAATG\n\tNKVTFNNNLIHINRERAIDKVN\nn_kmers_in_peptide_db/n_kmers: 16/18 = 0.8888888888888888\n\tIYFINCSFSIYVYQIIVKCYLI\nn_kmers_in_peptide_db/n_kmers: 15/18 = 0.8333333333333334\n\tFTLSIALSLFMCIRLLLNVTLF\nn_kmers_in_peptide_db/n_kmers: 17/18 = 0.9444444444444444\n\nSRR306838.4880582 Ibis_Run100924_C3PO:6:23:17413:5436/1\nCTTGGATCCACCATACTCAAGAGTTATTACACAAAGGGAAACAGAAAATAACCAAATGACATCAGAA\n\tLDPPYSRVITQRETENNQMTSE\nn_kmers_in_peptide_db/n_kmers: 18/18 = 1.0\n\tSDVIWLFSVSLCVITLEYGGSK\nn_kmers_in_peptide_db/n_kmers: 17/18 = 0.9444444444444444\n\nSRR306838.21417895 Ibis_Run100924_C3PO:6:107:8793:5012/1\nCCAACACATCCAATTTGTATTTTCTTAAATATGTGTTTCTTAGGTATCTAAGGATACATGAGCGAGCCC\n\tNTSNLYFLKYVFLRYLRIHERA\nn_kmers_in_peptide_db/n_kmers: 16/18 = 0.8888888888888888\n\tARSCILRYLRNTYLRKYKLDVL\nn_kmers_in_peptide_db/n_kmers: 16/18 = 0.8888888888888888\n\nSRR306838.17165743 Ibis_Run100924_C3PO:6:86:18789:18450/1\nATCTCTTGTAATAATTCAACATATTCCCTGGCTATTAACTAATTTCCAAGCCTGAACTGTCA\n\nSRR306838.21229494 Ibis_Run100924_C3PO:6:106:6163:7753/1\nTGAGGCAAACAGCAAGAGTAAGCAGTGTTACTTGCAGGTACTTTGGTTAATGTTGATTTAAATTTTCATG\n\nSRR306838.21218773 Ibis_Run100924_C3PO:6:106:16921:6743/1\nCAATGCCGTGCCAGTGGAGACTGTTCTCGTATGCC\n\tQCRASGDCSRM\nn_kmers_in_peptide_db/n_kmers: 7/7 = 1.0\n\tNAVPVETVLVC\nn_kmers_in_peptide_db/n_kmers: 7/7 = 1.0\n\tMPCQWRLFSYA\nn_kmers_in_peptide_db/n_kmers: 5/7 = 0.7142857142857143\n\tGIREQSPLARH\nn_kmers_in_peptide_db/n_kmers: 7/7 = 1.0\n\tAYENSLHWHGI\nn_kmers_in_peptide_db/n_kmers: 5/7 = 0.7142857142857143\n\tHTRTVSTGTAL\nn_kmers_in_peptide_db/n_kmers: 7/7 = 1.0\n\nSRR306838.20124664 Ibis_Run100924_C3PO:6:101:4701:5309/1\nCCTATACCTTCTGCATAATGAATTAACTAGAAATAACTTTGCAAGGAGAGCCAAAGCTAAGACCCCCGAAAC\n\tLYLLHNELTRNNFARRAKAKTPE\nn_kmers_in_peptide_db/n_kmers: 19/19 = 1.0\n\tVSGVLALALLAKLFLVNSLCRRYR\nn_kmers_in_peptide_db/n_kmers: 20/20 = 1.0\n\nSRR306838.16841308 Ibis_Run100924_C3PO:6:85:6205:5805/1\nCAGGAATGAGGCCCCGACTAAAATTCGCTGCAAAAGCCCAAAATCTAGTTAGCATAAATTCCTCAGACATG\n\tGMRPRLKFAAKAQNLVSINSSDM\nn_kmers_in_peptide_db/n_kmers: 19/19 = 1.0\n\tMSEEFMLTRFWAFAANFSRGLIP\nn_kmers_in_peptide_db/n_kmers: 18/19 = 0.9473684210526315\n"
      },
      {
       "name": "stderr",
       "output_type": "stream",
       "text": "/home/olga/miniconda3/envs/kmer-hashing/lib/python3.6/site-packages/Bio/Seq.py:2715: BiopythonWarning: Partial codon, len(sequence) not a multiple of three. Explicitly trim the sequence or add trailing N before translation. This may become an error in future.\n  BiopythonWarning)\n"
      }
     ],
     "persistentId": "954ef7d8-1e5c-43fa-87bf-0098fd2cd414",
     "text": "\ndef six_frame_translation_no_stops(seq):\n    forward_translations = three_frame_translation_no_stops(seq)\n    reverse_translations = three_frame_translation_no_stops(seq.reverse_complement())\n    return forward_translations + reverse_translations\n\nwith gzip.open('SRR306838_GSM752691_hsa_br_F_1_trimmed_subsampled.fq.gz', 'rt') as f:\n    for i, record in zip(range(20), SeqIO.parse(f, 'fastq')):\n        print()\n        print(record.description)\n        print(str(record.seq))\n        translations = six_frame_translation_no_stops(record.seq)\n        for translation in translations:\n            print(f\"\\t{translation}\")\n            kmers = list(set(kmerize(str(translation), peptide_ksize)))\n            hashes = [hash_murmur(kmer) for kmer in kmers]\n            n_kmers = len(kmers)\n            n_kmers_in_peptide_db = sum(1 for h in hashes if peptide_graph.get(h) > 0)\n            kmers_in_peptide_db = {(k, h): peptide_graph.get(h) for k, h in zip(kmers, hashes)}\n            fraction_in_peptide_db = n_kmers_in_peptide_db/n_kmers\n            if fraction_in_peptide_db > 0.9:\n                pprint(kmers_in_peptide_db)\n            print(f'n_kmers_in_peptide_db/n_kmers: {n_kmers_in_peptide_db}/{n_kmers} = {fraction_in_peptide_db}')"
    },
    "executionTime": "2019-09-18T17:40:04.003Z"
   },
   {
    "cell": {
     "executionCount": 82,
     "executionEventId": "3b9310c8-297c-44e6-9f33-0641c734310b",
     "hasError": false,
     "id": "f9780928-a3d2-4c5a-9a59-44419cead7ee",
     "outputs": [],
     "persistentId": "5ec9a5d5-77ec-45fd-b005-19e0524f7918",
     "text": ""
    },
    "executionTime": "2019-09-18T17:40:04.029Z"
   },
   {
    "cell": {
     "executionCount": 83,
     "executionEventId": "e8ce0b87-4fcf-419d-90d4-4ddc727f48da",
     "hasError": false,
     "id": "93685616-c02f-4cd1-9d16-3e730012559f",
     "outputs": [],
     "persistentId": "ca3c95ac-68f3-46f3-b085-b116e63bb8b0",
     "text": "import gzip\nfrom pprint import pprint\n\nfrom khmer import Nodegraph\nimport screed\nfrom sourmash._minhash import hash_murmur\nfrom khmer.khmer_args import calculate_graphsize\nfrom sourmash.logging import notify\n\nfrom khtools.compare_peptide import kmerize\n\nfrom Bio.Seq import Seq\nfrom Bio import SeqIO"
    },
    "executionTime": "2019-09-18T17:40:07.425Z"
   },
   {
    "cell": {
     "executionCount": 85,
     "executionEventId": "5f1aa297-4283-4beb-a598-e1cc6f584043",
     "hasError": false,
     "id": "7b834435-4c4d-4a94-befd-712cc920dd65",
     "outputs": [
      {
       "name": "stdout",
       "output_type": "stream",
       "text": "SRR306838.10559374 Ibis_Run100924_C3PO:6:51:17601:17119/1\nCGCTTGCTTAATACTGACATCAATAATATTAGGAAAATCGCAATATAACTGTAAATCCTGTTCTGTC\n[Seq('RLLNTDINNIRKIAI*L*ILFC', HasStopCodon(ExtendedIUPACProtein(), '*')), Seq('ACLILTSIILGKSQYNCKSCSV', ExtendedIUPACProtein()), Seq('LA*Y*HQ*Y*ENRNITVNPVL', HasStopCodon(ExtendedIUPACProtein(), '*'))]\n[Seq('LSCPKCQYNAKRIIITTVIIRS', ExtendedIUPACProtein()), Seq('CLVLNVNITLKGL**LQS*FVR', HasStopCodon(ExtendedIUPACProtein(), '*')), Seq('VLS*MSI*R*KDYNNYSHNSF', HasStopCodon(ExtendedIUPACProtein(), '*'))]\nSRR306838.6196593 Ibis_Run100924_C3PO:6:29:16733:12435/1\nTCTAGAATGTGAAATAACGTACTTCATGTGTCTTCTTACCAAAAATACCAACGATAAGGGGAAAAGCCATC\n[Seq('SRM*NNVLHVSSYQKYQR*GEKP', HasStopCodon(ExtendedIUPACProtein(), '*')), Seq('LECEITYFMCLLTKNTNDKGKSH', ExtendedIUPACProtein()), Seq('*NVK*RTSCVFLPKIPTIRGKAI', HasStopCodon(ExtendedIUPACProtein(), '*'))]\n[Seq('LPKRGIATIKTILLCTSCNKV*D', HasStopCodon(ExtendedIUPACProtein(), '*')), Seq('YRKGE*QP*KPFFCVLHAIKCKI', HasStopCodon(ExtendedIUPACProtein(), '*')), Seq('TEKGNSNHKNHSSVYFMQ*SVRS', HasStopCodon(ExtendedIUPACProtein(), '*'))]\nSRR306838.20767303 Ibis_Run100924_C3PO:6:104:6864:5062/1\nCAATCATCATCACTTTCTAATTCCAGAATATTTTCATCACCCCAAAAAGAAATCCTAAATCCATTAGC\n[Seq('QSSSLSNSRIFSSPQKEILNPL', ExtendedIUPACProtein()), Seq('NHHHFLIPEYFHHPKKKS*IH*', HasStopCodon(ExtendedIUPACProtein(), '*')), Seq('IIITF*FQNIFITPKRNPKSIS', HasStopCodon(ExtendedIUPACProtein(), '*'))]\n[Seq('RLPKS*RKTPLLL*DLNLSLLL', HasStopCodon(ExtendedIUPACProtein(), '*')), Seq('DYLNPKEKPHYFYKTLIFHYY*', HasStopCodon(ExtendedIUPACProtein(), '*')), Seq('IT*ILKKNPTTFIRP*SFTTTN', HasStopCodon(ExtendedIUPACProtein(), '*'))]\nSRR306838.12582274 Ibis_Run100924_C3PO:6:62:11779:17975/1\nCAAAAGTGAAGACCTCCCTGGGGTCTTCAAAGACAGCCTTTGCTCTCCATGTAGCCAATGGTGCTCT\n[Seq('QK*RPPWGLQRQPLLSM*PMVL', HasStopCodon(ExtendedIUPACProtein(), '*')), Seq('KSEDLPGVFKDSLCSPCSQWCS', ExtendedIUPACProtein()), Seq('KVKTSLGSSKTAFALHVANGA', ExtendedIUPACProtein())]\n[Seq('SRGNRCTSRFRQKLLGSLQK*K', HasStopCodon(ExtendedIUPACProtein(), '*')), Seq('LVVTDVPLVSDRNFWGPSRSEN', ExtendedIUPACProtein()), Seq('SW*PMYLSFPTETSGVPPEVK', HasStopCodon(ExtendedIUPACProtein(), '*'))]\nSRR306838.13334230 Ibis_Run100924_C3PO:6:66:16579:20350/1\nGTAACCCTTAATTCCTCAGAAAAAATAGACAACATAGTGGAGTGGGATGGAGGAAC\n[Seq('VTLNSSEKIDNIVEWDGG', ExtendedIUPACProtein()), Seq('*PLIPQKK*TT*WSGMEE', HasStopCodon(ExtendedIUPACProtein(), '*')), Seq('NP*FLRKNRQHSGVGWRN', HasStopCodon(ExtendedIUPACProtein(), '*'))]\n[Seq('QGGRVR*YNR*KRLLNSQ', HasStopCodon(ExtendedIUPACProtein(), '*')), Seq('KEVG*GDTTDKKDSLIPN', HasStopCodon(ExtendedIUPACProtein(), '*')), Seq('RR*GEVIQQIKKTP*FPM', HasStopCodon(ExtendedIUPACProtein(), '*'))]\n"
      },
      {
       "name": "stderr",
       "output_type": "stream",
       "text": "/home/olga/miniconda3/envs/kmer-hashing/lib/python3.6/site-packages/Bio/Seq.py:2715: BiopythonWarning: Partial codon, len(sequence) not a multiple of three. Explicitly trim the sequence or add trailing N before translation. This may become an error in future.\n  BiopythonWarning)\n"
      }
     ],
     "persistentId": "39699f59-df26-4089-a7b8-519f138c6091",
     "text": "def three_frame_translation(seq):\n    for frame in range(3):\n        translation = seq[frame:].translate()\n        yield translation\n        \ndef three_frame_translation_no_stops(seq):\n    return [t for t in three_frame_translation(seq) if '*' not in t]\n\n\nwith gzip.open('SRR306838_GSM752691_hsa_br_F_1_trimmed_subsampled.fq.gz', 'rt') as f:\n    for i, record in zip(range(5), SeqIO.parse(f, 'fastq')):\n        print(record.description)\n        print(str(record.seq))\n        print(list(three_frame_translation(record.seq)))\n        print(list(three_frame_translation(record.seq[::-1])))"
    },
    "executionTime": "2019-09-18T17:41:51.365Z"
   },
   {
    "cell": {
     "executionCount": 86,
     "executionEventId": "cc19e2ca-2407-49fd-8085-f5ef7c844198",
     "hasError": false,
     "id": "55e10ce9-7ecf-4d47-acc0-263024add8bd",
     "outputs": [
      {
       "name": "stdout",
       "output_type": "stream",
       "text": "\nSRR306838.10559374 Ibis_Run100924_C3PO:6:51:17601:17119/1\nCGCTTGCTTAATACTGACATCAATAATATTAGGAAAATCGCAATATAACTGTAAATCCTGTTCTGTC\n\tACLILTSIILGKSQYNCKSCSV\nn_kmers_in_peptide_db/n_kmers: 6/17 = 0.35294117647058826\n\tTEQDLQLYCDFPNIIDVSIKQA\n{('CDFPNI', 9851694679957842547): 1,\n ('DFPNII', 16423606795742558903): 1,\n ('DLQLYC', 5264882737224203214): 1,\n ('DVSIKQ', 16006253425080975196): 1,\n ('EQDLQL', 2338264205600881761): 1,\n ('FPNIID', 16670443037049252258): 1,\n ('IDVSIK', 2634531840912156153): 1,\n ('IIDVSI', 8575346203383772617): 1,\n ('LQLYCD', 9192507693053669671): 1,\n ('LYCDFP', 7649485968805339125): 1,\n ('NIIDVS', 15400947444981338689): 1,\n ('PNIIDV', 12229802974301308629): 1,\n ('QDLQLY', 6563221881003770864): 1,\n ('QLYCDF', 15963870512762096773): 1,\n ('TEQDLQ', 14112671866984587946): 1,\n ('VSIKQA', 5299921876304432559): 1,\n ('YCDFPN', 8136282671340075080): 1}\nn_kmers_in_peptide_db/n_kmers: 17/17 = 1.0\n\tQNRIYSYIAIFLILLMSVLSK\nn_kmers_in_peptide_db/n_kmers: 7/16 = 0.4375\n\nSRR306838.6196593 Ibis_Run100924_C3PO:6:29:16733:12435/1\nTCTAGAATGTGAAATAACGTACTTCATGTGTCTTCTTACCAAAAATACCAACGATAAGGGGAAAAGCCATC\n\tLECEITYFMCLLTKNTNDKGKSH\nn_kmers_in_peptide_db/n_kmers: 4/18 = 0.2222222222222222\n\tWLFPLSLVFLVRRHMKYVISHSR\nn_kmers_in_peptide_db/n_kmers: 9/18 = 0.5\n\nSRR306838.20767303 Ibis_Run100924_C3PO:6:104:6864:5062/1\nCAATCATCATCACTTTCTAATTCCAGAATATTTTCATCACCCCAAAAAGAAATCCTAAATCCATTAGC\n\tQSSSLSNSRIFSSPQKEILNPL\nn_kmers_in_peptide_db/n_kmers: 11/17 = 0.6470588235294118\n\tANGFRISFWGDENILELESDDD\nn_kmers_in_peptide_db/n_kmers: 6/17 = 0.35294117647058826\n\nSRR306838.12582274 Ibis_Run100924_C3PO:6:62:11779:17975/1\nCAAAAGTGAAGACCTCCCTGGGGTCTTCAAAGACAGCCTTTGCTCTCCATGTAGCCAATGGTGCTCT\n\tKSEDLPGVFKDSLCSPCSQWCS\nn_kmers_in_peptide_db/n_kmers: 7/17 = 0.4117647058823529\n\tKVKTSLGSSKTAFALHVANGA\nn_kmers_in_peptide_db/n_kmers: 7/16 = 0.4375\n\tRAPLATWRAKAVFEDPREVFTF\nn_kmers_in_peptide_db/n_kmers: 5/17 = 0.29411764705882354\n\tEHHWLHGEQRLSLKTPGRSSLL\nn_kmers_in_peptide_db/n_kmers: 9/17 = 0.5294117647058824\n\nSRR306838.13334230 Ibis_Run100924_C3PO:6:66:16579:20350/1\nGTAACCCTTAATTCCTCAGAAAAAATAGACAACATAGTGGAGTGGGATGGAGGAAC\n\tVTLNSSEKIDNIVEWDGG\nn_kmers_in_peptide_db/n_kmers: 4/13 = 0.3076923076923077\n\tVPPSHSTMLSIFSEELRV\nn_kmers_in_peptide_db/n_kmers: 5/13 = 0.38461538461538464\n\nSRR306838.2740879 Ibis_Run100924_C3PO:6:13:11155:5248/1\nCTGTGATTATTTTTTTTCCTAGCATTTGTTCTTTCAGAAAAGGACTGAACTCTAAATTCTGGACTTGAAGACTG\n\tQSSSPEFRVQSFSERTNARKKNNH\n{('ARKKNN', 3860499971443581838): 1,\n ('EFRVQS', 105655395690655033): 1,\n ('ERTNAR', 3582225835808129747): 1,\n ('FRVQSF', 5566883133171171447): 1,\n ('FSERTN', 3100314123070113708): 1,\n ('NARKKN', 9374507409615349044): 1,\n ('PEFRVQ', 2649716402469809733): 1,\n ('QSFSER', 11050360187202216039): 1,\n ('QSSSPE', 8122968869717089523): 1,\n ('RKKNNH', 7904146221803150365): 1,\n ('RTNARK', 2846898573316900065): 1,\n ('RVQSFS', 7947670253690759120): 1,\n ('SERTNA', 9136900218921666275): 1,\n ('SFSERT', 11392931458502970691): 1,\n ('SPEFRV', 615364606710653690): 1,\n ('SSPEFR', 12459322394765706121): 1,\n ('SSSPEF', 4392795356012985129): 1,\n ('TNARKK', 3368462477812204362): 1,\n ('VQSFSE', 10078846729855514073): 1}\nn_kmers_in_peptide_db/n_kmers: 19/19 = 1.0\n\tSLQVQNLEFSPFLKEQMLGKKIIT\nn_kmers_in_peptide_db/n_kmers: 7/19 = 0.3684210526315789\n\nSRR306838.6813354 Ibis_Run100924_C3PO:6:32:10591:13073/1\nGTTTGATTCTTGACAATTTCTTCTGGAACAAGTCTTTCATATACATTAGACTGGTATCATTGAGTTCTGAGC\n\tLILDNFFWNKSFIYIRLVSLSSE\nn_kmers_in_peptide_db/n_kmers: 3/18 = 0.16666666666666666\n\tSELNDTSLMYMKDLFQKKLSRIK\nn_kmers_in_peptide_db/n_kmers: 8/18 = 0.4444444444444444\n\nSRR306838.23113368 Ibis_Run100924_C3PO:6:114:13840:18459/1\nCACAAGGCTAACATACACAATCTGTAACACGAGATGGATAGCACACACATATGACACAATTTC\n\tTRLTYTICNTRWIAHTYDTI\nn_kmers_in_peptide_db/n_kmers: 0/15 = 0.0\n\tEIVSYVCAIHLVLQIVYVSLV\nn_kmers_in_peptide_db/n_kmers: 3/16 = 0.1875\n\tKLCHMCVLSISCYRLCMLAL\nn_kmers_in_peptide_db/n_kmers: 2/15 = 0.13333333333333333\n\nSRR306838.10872941 Ibis_Run100924_C3PO:6:53:6164:10522/1\nCTGTAGTGTGGTCCATTCCCAGACAGCAACATGCAAGAATAAGTTTACAATACACTCAGCCCTTCTG\n\tCSVVHSQTATCKNKFTIHSALL\nn_kmers_in_peptide_db/n_kmers: 3/17 = 0.17647058823529413\n\tVVWSIPRQQHARISLQYTQPF\nn_kmers_in_peptide_db/n_kmers: 2/16 = 0.125\n\tRRAECIVNLFLHVAVWEWTTLQ\nn_kmers_in_peptide_db/n_kmers: 4/17 = 0.23529411764705882\n\nSRR306838.6192120 Ibis_Run100924_C3PO:6:29:5833:11991/1\nTAGGAAAATAGTAATATTTGCAACTTATGAATGATAAGTCAGAAAAGTTACATGGAATGTTAAATTTT\n\tKFNIPCNFSDLSFISCKYYYFP\nn_kmers_in_peptide_db/n_kmers: 2/17 = 0.11764705882352941\n\nSRR306838.21295280 Ibis_Run100924_C3PO:6:106:2590:13965/1\nCTGATAGACTGAAACTGGTTTTGTTATTCTTAACGTTCTCCAGTCTGCACTCTGCTGTGCTGTCTGTGCTC\n\tDRLKLVLLFLTFSSLHSAVLSVL\nn_kmers_in_peptide_db/n_kmers: 16/18 = 0.8888888888888888\n\tSTDSTAECRLENVKNNKTSFSLS\nn_kmers_in_peptide_db/n_kmers: 7/18 = 0.3888888888888889\n\tAQTAQQSADWRTLRITKPVSVYQ\nn_kmers_in_peptide_db/n_kmers: 4/18 = 0.2222222222222222\n\nSRR306838.21201208 Ibis_Run100924_C3PO:6:106:2763:5109/1\nTTAAGTTCTAGTCTGTGAGCACTTGTAGTTCAATAATCGTCATCTTCATCAGAGTCCATTACTTTTCTTCTGTTG\n\nSRR306838.18327923 Ibis_Run100924_C3PO:6:92:9077:13885/1\nAAATAAGGTAACATTTAACAATAATCTGATACACATAAATAGAGAAAGAGCAATTGATAAAGTAAATG\n\tNKVTFNNNLIHINRERAIDKVN\nn_kmers_in_peptide_db/n_kmers: 2/17 = 0.11764705882352941\n\tIYFINCSFSIYVYQIIVKCYLI\nn_kmers_in_peptide_db/n_kmers: 5/17 = 0.29411764705882354\n\tFTLSIALSLFMCIRLLLNVTLF\nn_kmers_in_peptide_db/n_kmers: 12/17 = 0.7058823529411765\n\nSRR306838.4880582 Ibis_Run100924_C3PO:6:23:17413:5436/1\nCTTGGATCCACCATACTCAAGAGTTATTACACAAAGGGAAACAGAAAATAACCAAATGACATCAGAA\n\tLDPPYSRVITQRETENNQMTSE\n{('DPPYSR', 7376502461630109420): 1,\n ('ENNQMT', 203472538359100404): 1,\n ('ETENNQ', 6439436561201588603): 1,\n ('ITQRET', 9027446264427247551): 1,\n ('LDPPYS', 10965163093294187307): 1,\n ('NNQMTS', 14620155597255044779): 1,\n ('NQMTSE', 12476995903727774875): 1,\n ('PPYSRV', 9339333456031868666): 1,\n ('PYSRVI', 12212146892448043764): 1,\n ('QRETEN', 6573578685806304266): 1,\n ('RETENN', 11399740797160077897): 1,\n ('RVITQR', 9549437999517705803): 1,\n ('SRVITQ', 112422272136912928): 1,\n ('TENNQM', 5418139171404142436): 1,\n ('TQRETE', 18442705587962572898): 1,\n ('VITQRE', 9499490264429492184): 1,\n ('YSRVIT', 17129348748882639680): 1}\nn_kmers_in_peptide_db/n_kmers: 17/17 = 1.0\n\tSDVIWLFSVSLCVITLEYGGSK\nn_kmers_in_peptide_db/n_kmers: 5/17 = 0.29411764705882354\n\nSRR306838.21417895 Ibis_Run100924_C3PO:6:107:8793:5012/1\nCCAACACATCCAATTTGTATTTTCTTAAATATGTGTTTCTTAGGTATCTAAGGATACATGAGCGAGCCC\n\tNTSNLYFLKYVFLRYLRIHERA\nn_kmers_in_peptide_db/n_kmers: 5/17 = 0.29411764705882354\n\tARSCILRYLRNTYLRKYKLDVL\nn_kmers_in_peptide_db/n_kmers: 3/17 = 0.17647058823529413\n\nSRR306838.17165743 Ibis_Run100924_C3PO:6:86:18789:18450/1\nATCTCTTGTAATAATTCAACATATTCCCTGGCTATTAACTAATTTCCAAGCCTGAACTGTCA\n\nSRR306838.21229494 Ibis_Run100924_C3PO:6:106:6163:7753/1\nTGAGGCAAACAGCAAGAGTAAGCAGTGTTACTTGCAGGTACTTTGGTTAATGTTGATTTAAATTTTCATG\n\nSRR306838.21218773 Ibis_Run100924_C3PO:6:106:16921:6743/1\nCAATGCCGTGCCAGTGGAGACTGTTCTCGTATGCC\n\tQCRASGDCSRM\nn_kmers_in_peptide_db/n_kmers: 0/6 = 0.0\n\tNAVPVETVLVC\nn_kmers_in_peptide_db/n_kmers: 3/6 = 0.5\n\tMPCQWRLFSYA\nn_kmers_in_peptide_db/n_kmers: 0/6 = 0.0\n\tGIREQSPLARH\nn_kmers_in_peptide_db/n_kmers: 2/6 = 0.3333333333333333\n\tAYENSLHWHGI\nn_kmers_in_peptide_db/n_kmers: 1/6 = 0.16666666666666666\n\tHTRTVSTGTAL\nn_kmers_in_peptide_db/n_kmers: 5/6 = 0.8333333333333334\n\nSRR306838.20124664 Ibis_Run100924_C3PO:6:101:4701:5309/1\nCCTATACCTTCTGCATAATGAATTAACTAGAAATAACTTTGCAAGGAGAGCCAAAGCTAAGACCCCCGAAAC\n\tLYLLHNELTRNNFARRAKAKTPE\nn_kmers_in_peptide_db/n_kmers: 7/18 = 0.3888888888888889\n\tVSGVLALALLAKLFLVNSLCRRYR\nn_kmers_in_peptide_db/n_kmers: 14/19 = 0.7368421052631579\n\nSRR306838.16841308 Ibis_Run100924_C3PO:6:85:6205:5805/1\nCAGGAATGAGGCCCCGACTAAAATTCGCTGCAAAAGCCCAAAATCTAGTTAGCATAAATTCCTCAGACATG\n\tGMRPRLKFAAKAQNLVSINSSDM\nn_kmers_in_peptide_db/n_kmers: 6/18 = 0.3333333333333333\n\tMSEEFMLTRFWAFAANFSRGLIP\nn_kmers_in_peptide_db/n_kmers: 4/18 = 0.2222222222222222\n"
      },
      {
       "name": "stderr",
       "output_type": "stream",
       "text": "/home/olga/miniconda3/envs/kmer-hashing/lib/python3.6/site-packages/Bio/Seq.py:2715: BiopythonWarning: Partial codon, len(sequence) not a multiple of three. Explicitly trim the sequence or add trailing N before translation. This may become an error in future.\n  BiopythonWarning)\n"
      }
     ],
     "persistentId": "954ef7d8-1e5c-43fa-87bf-0098fd2cd414",
     "text": "\ndef six_frame_translation_no_stops(seq):\n    forward_translations = three_frame_translation_no_stops(seq)\n    reverse_translations = three_frame_translation_no_stops(seq.reverse_complement())\n    return forward_translations + reverse_translations\n\nwith gzip.open('SRR306838_GSM752691_hsa_br_F_1_trimmed_subsampled.fq.gz', 'rt') as f:\n    for i, record in zip(range(20), SeqIO.parse(f, 'fastq')):\n        print()\n        print(record.description)\n        print(str(record.seq))\n        translations = six_frame_translation_no_stops(record.seq)\n        for translation in translations:\n            print(f\"\\t{translation}\")\n            kmers = list(set(kmerize(str(translation), peptide_ksize)))\n            hashes = [hash_murmur(kmer) for kmer in kmers]\n            n_kmers = len(kmers)\n            n_kmers_in_peptide_db = sum(1 for h in hashes if peptide_graph.get(h) > 0)\n            kmers_in_peptide_db = {(k, h): peptide_graph.get(h) for k, h in zip(kmers, hashes)}\n            fraction_in_peptide_db = n_kmers_in_peptide_db/n_kmers\n            if fraction_in_peptide_db > 0.9:\n                pprint(kmers_in_peptide_db)\n            print(f'n_kmers_in_peptide_db/n_kmers: {n_kmers_in_peptide_db}/{n_kmers} = {fraction_in_peptide_db}')"
    },
    "executionTime": "2019-09-18T17:41:53.762Z"
   },
   {
    "cell": {
     "executionCount": 88,
     "executionEventId": "f695a194-0827-4035-80d8-647fa6669b27",
     "hasError": false,
     "id": "7b834435-4c4d-4a94-befd-712cc920dd65",
     "outputs": [
      {
       "name": "stdout",
       "output_type": "stream",
       "text": "SRR306838.10559374 Ibis_Run100924_C3PO:6:51:17601:17119/1\nCGCTTGCTTAATACTGACATCAATAATATTAGGAAAATCGCAATATAACTGTAAATCCTGTTCTGTC\n[Seq('RLLNTDINNIRKIAI*L*ILFC', HasStopCodon(ExtendedIUPACProtein(), '*')), Seq('ACLILTSIILGKSQYNCKSCSV', ExtendedIUPACProtein()), Seq('LA*Y*HQ*Y*ENRNITVNPVL', HasStopCodon(ExtendedIUPACProtein(), '*'))]\n[Seq('LSCPKCQYNAKRIIITTVIIRS', ExtendedIUPACProtein()), Seq('CLVLNVNITLKGL**LQS*FVR', HasStopCodon(ExtendedIUPACProtein(), '*')), Seq('VLS*MSI*R*KDYNNYSHNSF', HasStopCodon(ExtendedIUPACProtein(), '*'))]\nSRR306838.6196593 Ibis_Run100924_C3PO:6:29:16733:12435/1\nTCTAGAATGTGAAATAACGTACTTCATGTGTCTTCTTACCAAAAATACCAACGATAAGGGGAAAAGCCATC\n[Seq('SRM*NNVLHVSSYQKYQR*GEKP', HasStopCodon(ExtendedIUPACProtein(), '*')), Seq('LECEITYFMCLLTKNTNDKGKSH', ExtendedIUPACProtein()), Seq('*NVK*RTSCVFLPKIPTIRGKAI', HasStopCodon(ExtendedIUPACProtein(), '*'))]\n[Seq('LPKRGIATIKTILLCTSCNKV*D', HasStopCodon(ExtendedIUPACProtein(), '*')), Seq('YRKGE*QP*KPFFCVLHAIKCKI', HasStopCodon(ExtendedIUPACProtein(), '*')), Seq('TEKGNSNHKNHSSVYFMQ*SVRS', HasStopCodon(ExtendedIUPACProtein(), '*'))]\nSRR306838.20767303 Ibis_Run100924_C3PO:6:104:6864:5062/1\nCAATCATCATCACTTTCTAATTCCAGAATATTTTCATCACCCCAAAAAGAAATCCTAAATCCATTAGC\n[Seq('QSSSLSNSRIFSSPQKEILNPL', ExtendedIUPACProtein()), Seq('NHHHFLIPEYFHHPKKKS*IH*', HasStopCodon(ExtendedIUPACProtein(), '*')), Seq('IIITF*FQNIFITPKRNPKSIS', HasStopCodon(ExtendedIUPACProtein(), '*'))]\n[Seq('RLPKS*RKTPLLL*DLNLSLLL', HasStopCodon(ExtendedIUPACProtein(), '*')), Seq('DYLNPKEKPHYFYKTLIFHYY*', HasStopCodon(ExtendedIUPACProtein(), '*')), Seq('IT*ILKKNPTTFIRP*SFTTTN', HasStopCodon(ExtendedIUPACProtein(), '*'))]\nSRR306838.12582274 Ibis_Run100924_C3PO:6:62:11779:17975/1\nCAAAAGTGAAGACCTCCCTGGGGTCTTCAAAGACAGCCTTTGCTCTCCATGTAGCCAATGGTGCTCT\n[Seq('QK*RPPWGLQRQPLLSM*PMVL', HasStopCodon(ExtendedIUPACProtein(), '*')), Seq('KSEDLPGVFKDSLCSPCSQWCS', ExtendedIUPACProtein()), Seq('KVKTSLGSSKTAFALHVANGA', ExtendedIUPACProtein())]\n[Seq('SRGNRCTSRFRQKLLGSLQK*K', HasStopCodon(ExtendedIUPACProtein(), '*')), Seq('LVVTDVPLVSDRNFWGPSRSEN', ExtendedIUPACProtein()), Seq('SW*PMYLSFPTETSGVPPEVK', HasStopCodon(ExtendedIUPACProtein(), '*'))]\nSRR306838.13334230 Ibis_Run100924_C3PO:6:66:16579:20350/1\nGTAACCCTTAATTCCTCAGAAAAAATAGACAACATAGTGGAGTGGGATGGAGGAAC\n[Seq('VTLNSSEKIDNIVEWDGG', ExtendedIUPACProtein()), Seq('*PLIPQKK*TT*WSGMEE', HasStopCodon(ExtendedIUPACProtein(), '*')), Seq('NP*FLRKNRQHSGVGWRN', HasStopCodon(ExtendedIUPACProtein(), '*'))]\n[Seq('QGGRVR*YNR*KRLLNSQ', HasStopCodon(ExtendedIUPACProtein(), '*')), Seq('KEVG*GDTTDKKDSLIPN', HasStopCodon(ExtendedIUPACProtein(), '*')), Seq('RR*GEVIQQIKKTP*FPM', HasStopCodon(ExtendedIUPACProtein(), '*'))]\n"
      },
      {
       "name": "stderr",
       "output_type": "stream",
       "text": "/home/olga/miniconda3/envs/kmer-hashing/lib/python3.6/site-packages/Bio/Seq.py:2715: BiopythonWarning: Partial codon, len(sequence) not a multiple of three. Explicitly trim the sequence or add trailing N before translation. This may become an error in future.\n  BiopythonWarning)\n"
      }
     ],
     "persistentId": "39699f59-df26-4089-a7b8-519f138c6091",
     "text": "def three_frame_translation(seq):\n    for frame in range(3):\n        translation = seq[frame:].translate()\n        yield translation\n        \ndef three_frame_translation_no_stops(seq):\n    return [t for t in three_frame_translation(seq) if '*' not in t]\n\n\nwith gzip.open('SRR306838_GSM752691_hsa_br_F_1_trimmed_subsampled.fq.gz', 'rt') as f:\n    for i, record in zip(range(5), SeqIO.parse(f, 'fastq')):\n        print(record.description)\n        print(str(record.seq))\n        print(list(three_frame_translation(record.seq)))\n        print(list(three_frame_translation(record.seq[::-1])))"
    },
    "executionTime": "2019-09-18T17:48:07.737Z"
   },
   {
    "cell": {
     "executionCount": 89,
     "executionEventId": "2ce95772-e518-4d08-afe3-82ffc0df1973",
     "hasError": false,
     "id": "55e10ce9-7ecf-4d47-acc0-263024add8bd",
     "outputs": [
      {
       "name": "stdout",
       "output_type": "stream",
       "text": "\nSRR306838.10559374 Ibis_Run100924_C3PO:6:51:17601:17119/1\nCGCTTGCTTAATACTGACATCAATAATATTAGGAAAATCGCAATATAACTGTAAATCCTGTTCTGTC\n\tACLILTSIILGKSQYNCKSCSV\nn_kmers_in_peptide_db/n_kmers: 0/16 = 0.0\n\tTEQDLQLYCDFPNIIDVSIKQA\n{('CDFPNII', 8486209554978127609): 1,\n ('DFPNIID', 14575729011276684959): 1,\n ('DLQLYCD', 4401934528585350125): 1,\n ('DVSIKQA', 2127299259848299325): 1,\n ('EQDLQLY', 15929958289433950839): 1,\n ('FPNIIDV', 14523720100527194750): 1,\n ('IDVSIKQ', 17861969649810968614): 1,\n ('IIDVSIK', 11919952235793077156): 1,\n ('LQLYCDF', 15358791961331100503): 1,\n ('LYCDFPN', 14204867837070835678): 1,\n ('NIIDVSI', 17663054446340615791): 1,\n ('PNIIDVS', 16130858111702731994): 1,\n ('QDLQLYC', 5442507677109518242): 1,\n ('QLYCDFP', 6132506478465899418): 1,\n ('TEQDLQL', 9488463545182023267): 1,\n ('YCDFPNI', 5976634434944997289): 1}\nn_kmers_in_peptide_db/n_kmers: 16/16 = 1.0\n\tQNRIYSYIAIFLILLMSVLSK\nn_kmers_in_peptide_db/n_kmers: 1/15 = 0.06666666666666667\n\nSRR306838.6196593 Ibis_Run100924_C3PO:6:29:16733:12435/1\nTCTAGAATGTGAAATAACGTACTTCATGTGTCTTCTTACCAAAAATACCAACGATAAGGGGAAAAGCCATC\n\tLECEITYFMCLLTKNTNDKGKSH\nn_kmers_in_peptide_db/n_kmers: 0/17 = 0.0\n\tWLFPLSLVFLVRRHMKYVISHSR\nn_kmers_in_peptide_db/n_kmers: 0/17 = 0.0\n\nSRR306838.20767303 Ibis_Run100924_C3PO:6:104:6864:5062/1\nCAATCATCATCACTTTCTAATTCCAGAATATTTTCATCACCCCAAAAAGAAATCCTAAATCCATTAGC\n\tQSSSLSNSRIFSSPQKEILNPL\nn_kmers_in_peptide_db/n_kmers: 3/16 = 0.1875\n\tANGFRISFWGDENILELESDDD\nn_kmers_in_peptide_db/n_kmers: 0/16 = 0.0\n\nSRR306838.12582274 Ibis_Run100924_C3PO:6:62:11779:17975/1\nCAAAAGTGAAGACCTCCCTGGGGTCTTCAAAGACAGCCTTTGCTCTCCATGTAGCCAATGGTGCTCT\n\tKSEDLPGVFKDSLCSPCSQWCS\nn_kmers_in_peptide_db/n_kmers: 0/16 = 0.0\n\tKVKTSLGSSKTAFALHVANGA\nn_kmers_in_peptide_db/n_kmers: 1/15 = 0.06666666666666667\n\tRAPLATWRAKAVFEDPREVFTF\nn_kmers_in_peptide_db/n_kmers: 0/16 = 0.0\n\tEHHWLHGEQRLSLKTPGRSSLL\nn_kmers_in_peptide_db/n_kmers: 0/16 = 0.0\n\nSRR306838.13334230 Ibis_Run100924_C3PO:6:66:16579:20350/1\nGTAACCCTTAATTCCTCAGAAAAAATAGACAACATAGTGGAGTGGGATGGAGGAAC\n\tVTLNSSEKIDNIVEWDGG\nn_kmers_in_peptide_db/n_kmers: 0/12 = 0.0\n\tVPPSHSTMLSIFSEELRV\nn_kmers_in_peptide_db/n_kmers: 0/12 = 0.0\n\nSRR306838.2740879 Ibis_Run100924_C3PO:6:13:11155:5248/1\nCTGTGATTATTTTTTTTCCTAGCATTTGTTCTTTCAGAAAAGGACTGAACTCTAAATTCTGGACTTGAAGACTG\n\tQSSSPEFRVQSFSERTNARKKNNH\n{('ARKKNNH', 1713568383354946688): 1,\n ('EFRVQSF', 10767763182351558596): 1,\n ('ERTNARK', 15562858329575418335): 1,\n ('FRVQSFS', 633930897315084920): 1,\n ('FSERTNA', 15725178629516220019): 1,\n ('NARKKNN', 1906855694027921310): 1,\n ('PEFRVQS', 4110563889931352261): 1,\n ('QSFSERT', 15137628652907292046): 1,\n ('QSSSPEF', 9478686570769398934): 1,\n ('RTNARKK', 15344056937872930944): 1,\n ('RVQSFSE', 12749825557695511232): 1,\n ('SERTNAR', 17317170503834313913): 1,\n ('SFSERTN', 13897620085069430866): 1,\n ('SPEFRVQ', 7584581199714103576): 1,\n ('SSPEFRV', 16043427010820047284): 1,\n ('SSSPEFR', 13245697799698261636): 1,\n ('TNARKKN', 5688616598452994991): 1,\n ('VQSFSER', 282301555949298500): 1}\nn_kmers_in_peptide_db/n_kmers: 18/18 = 1.0\n\tSLQVQNLEFSPFLKEQMLGKKIIT\nn_kmers_in_peptide_db/n_kmers: 1/18 = 0.05555555555555555\n\nSRR306838.6813354 Ibis_Run100924_C3PO:6:32:10591:13073/1\nGTTTGATTCTTGACAATTTCTTCTGGAACAAGTCTTTCATATACATTAGACTGGTATCATTGAGTTCTGAGC\n\tLILDNFFWNKSFIYIRLVSLSSE\nn_kmers_in_peptide_db/n_kmers: 0/17 = 0.0\n\tSELNDTSLMYMKDLFQKKLSRIK\nn_kmers_in_peptide_db/n_kmers: 0/17 = 0.0\n\nSRR306838.23113368 Ibis_Run100924_C3PO:6:114:13840:18459/1\nCACAAGGCTAACATACACAATCTGTAACACGAGATGGATAGCACACACATATGACACAATTTC\n\tTRLTYTICNTRWIAHTYDTI\nn_kmers_in_peptide_db/n_kmers: 0/14 = 0.0\n\tEIVSYVCAIHLVLQIVYVSLV\nn_kmers_in_peptide_db/n_kmers: 0/15 = 0.0\n\tKLCHMCVLSISCYRLCMLAL\nn_kmers_in_peptide_db/n_kmers: 0/14 = 0.0\n\nSRR306838.10872941 Ibis_Run100924_C3PO:6:53:6164:10522/1\nCTGTAGTGTGGTCCATTCCCAGACAGCAACATGCAAGAATAAGTTTACAATACACTCAGCCCTTCTG\n\tCSVVHSQTATCKNKFTIHSALL\nn_kmers_in_peptide_db/n_kmers: 0/16 = 0.0\n\tVVWSIPRQQHARISLQYTQPF\nn_kmers_in_peptide_db/n_kmers: 0/15 = 0.0\n\tRRAECIVNLFLHVAVWEWTTLQ\nn_kmers_in_peptide_db/n_kmers: 0/16 = 0.0\n\nSRR306838.6192120 Ibis_Run100924_C3PO:6:29:5833:11991/1\nTAGGAAAATAGTAATATTTGCAACTTATGAATGATAAGTCAGAAAAGTTACATGGAATGTTAAATTTT\n\tKFNIPCNFSDLSFISCKYYYFP\nn_kmers_in_peptide_db/n_kmers: 0/16 = 0.0\n\nSRR306838.21295280 Ibis_Run100924_C3PO:6:106:2590:13965/1\nCTGATAGACTGAAACTGGTTTTGTTATTCTTAACGTTCTCCAGTCTGCACTCTGCTGTGCTGTCTGTGCTC\n\tDRLKLVLLFLTFSSLHSAVLSVL\nn_kmers_in_peptide_db/n_kmers: 2/17 = 0.11764705882352941\n\tSTDSTAECRLENVKNNKTSFSLS\nn_kmers_in_peptide_db/n_kmers: 1/17 = 0.058823529411764705\n\tAQTAQQSADWRTLRITKPVSVYQ\nn_kmers_in_peptide_db/n_kmers: 0/17 = 0.0\n\nSRR306838.21201208 Ibis_Run100924_C3PO:6:106:2763:5109/1\nTTAAGTTCTAGTCTGTGAGCACTTGTAGTTCAATAATCGTCATCTTCATCAGAGTCCATTACTTTTCTTCTGTTG\n\nSRR306838.18327923 Ibis_Run100924_C3PO:6:92:9077:13885/1\nAAATAAGGTAACATTTAACAATAATCTGATACACATAAATAGAGAAAGAGCAATTGATAAAGTAAATG\n\tNKVTFNNNLIHINRERAIDKVN\nn_kmers_in_peptide_db/n_kmers: 0/16 = 0.0\n\tIYFINCSFSIYVYQIIVKCYLI\nn_kmers_in_peptide_db/n_kmers: 0/16 = 0.0\n\tFTLSIALSLFMCIRLLLNVTLF\nn_kmers_in_peptide_db/n_kmers: 1/16 = 0.0625\n\nSRR306838.4880582 Ibis_Run100924_C3PO:6:23:17413:5436/1\nCTTGGATCCACCATACTCAAGAGTTATTACACAAAGGGAAACAGAAAATAACCAAATGACATCAGAA\n\tLDPPYSRVITQRETENNQMTSE\n{('DPPYSRV', 870193233005734860): 1,\n ('ENNQMTS', 7068815446942798493): 1,\n ('ETENNQM', 5901689245880080069): 1,\n ('ITQRETE', 14359127297360924035): 1,\n ('LDPPYSR', 9287118946935666978): 1,\n ('NNQMTSE', 5090053848895481453): 1,\n ('PPYSRVI', 10295402340312481898): 1,\n ('PYSRVIT', 966674514202137489): 1,\n ('QRETENN', 2955908213655624768): 1,\n ('RETENNQ', 11491456599149068795): 1,\n ('RVITQRE', 10895591566858399476): 1,\n ('SRVITQR', 7921779376370140195): 1,\n ('TENNQMT', 11633242716309324695): 1,\n ('TQRETEN', 1638939244257838392): 1,\n ('VITQRET', 11674773285232954009): 1,\n ('YSRVITQ', 8012866163104072370): 1}\nn_kmers_in_peptide_db/n_kmers: 16/16 = 1.0\n\tSDVIWLFSVSLCVITLEYGGSK\nn_kmers_in_peptide_db/n_kmers: 0/16 = 0.0\n\nSRR306838.21417895 Ibis_Run100924_C3PO:6:107:8793:5012/1\nCCAACACATCCAATTTGTATTTTCTTAAATATGTGTTTCTTAGGTATCTAAGGATACATGAGCGAGCCC\n\tNTSNLYFLKYVFLRYLRIHERA\nn_kmers_in_peptide_db/n_kmers: 1/16 = 0.0625\n\tARSCILRYLRNTYLRKYKLDVL\nn_kmers_in_peptide_db/n_kmers: 0/16 = 0.0\n\nSRR306838.17165743 Ibis_Run100924_C3PO:6:86:18789:18450/1\nATCTCTTGTAATAATTCAACATATTCCCTGGCTATTAACTAATTTCCAAGCCTGAACTGTCA\n\nSRR306838.21229494 Ibis_Run100924_C3PO:6:106:6163:7753/1\nTGAGGCAAACAGCAAGAGTAAGCAGTGTTACTTGCAGGTACTTTGGTTAATGTTGATTTAAATTTTCATG\n\nSRR306838.21218773 Ibis_Run100924_C3PO:6:106:16921:6743/1\nCAATGCCGTGCCAGTGGAGACTGTTCTCGTATGCC\n\tQCRASGDCSRM\nn_kmers_in_peptide_db/n_kmers: 0/5 = 0.0\n\tNAVPVETVLVC\nn_kmers_in_peptide_db/n_kmers: 1/5 = 0.2\n\tMPCQWRLFSYA\nn_kmers_in_peptide_db/n_kmers: 0/5 = 0.0\n\tGIREQSPLARH\nn_kmers_in_peptide_db/n_kmers: 0/5 = 0.0\n\tAYENSLHWHGI\nn_kmers_in_peptide_db/n_kmers: 0/5 = 0.0\n\tHTRTVSTGTAL\nn_kmers_in_peptide_db/n_kmers: 4/5 = 0.8\n\nSRR306838.20124664 Ibis_Run100924_C3PO:6:101:4701:5309/1\nCCTATACCTTCTGCATAATGAATTAACTAGAAATAACTTTGCAAGGAGAGCCAAAGCTAAGACCCCCGAAAC\n\tLYLLHNELTRNNFARRAKAKTPE\nn_kmers_in_peptide_db/n_kmers: 1/17 = 0.058823529411764705\n\tVSGVLALALLAKLFLVNSLCRRYR\nn_kmers_in_peptide_db/n_kmers: 4/18 = 0.2222222222222222\n\nSRR306838.16841308 Ibis_Run100924_C3PO:6:85:6205:5805/1\nCAGGAATGAGGCCCCGACTAAAATTCGCTGCAAAAGCCCAAAATCTAGTTAGCATAAATTCCTCAGACATG\n\tGMRPRLKFAAKAQNLVSINSSDM\nn_kmers_in_peptide_db/n_kmers: 0/17 = 0.0\n\tMSEEFMLTRFWAFAANFSRGLIP\nn_kmers_in_peptide_db/n_kmers: 0/17 = 0.0\n"
      },
      {
       "name": "stderr",
       "output_type": "stream",
       "text": "/home/olga/miniconda3/envs/kmer-hashing/lib/python3.6/site-packages/Bio/Seq.py:2715: BiopythonWarning: Partial codon, len(sequence) not a multiple of three. Explicitly trim the sequence or add trailing N before translation. This may become an error in future.\n  BiopythonWarning)\n"
      }
     ],
     "persistentId": "954ef7d8-1e5c-43fa-87bf-0098fd2cd414",
     "text": "classification_lines = []\n\n\ndef six_frame_translation_no_stops(seq):\n    forward_translations = three_frame_translation_no_stops(seq)\n    reverse_translations = three_frame_translation_no_stops(seq.reverse_complement())\n    return forward_translations + reverse_translations\n\nwith gzip.open('SRR306838_GSM752691_hsa_br_F_1_trimmed_subsampled.fq.gz', 'rt') as f:\n    for i, record in zip(range(20), SeqIO.parse(f, 'fastq')):\n        print()\n        print(record.description)\n        print(str(record.seq))\n        translations = six_frame_translation_no_stops(record.seq)\n        \n        max_fraction = 0\n        for translation in translations:\n            print(f\"\\t{translation}\")\n            kmers = list(set(kmerize(str(translation), peptide_ksize)))\n            hashes = [hash_murmur(kmer) for kmer in kmers]\n            n_kmers = len(kmers)\n            n_kmers_in_peptide_db = sum(1 for h in hashes if peptide_graph.get(h) > 0)\n            kmers_in_peptide_db = {(k, h): peptide_graph.get(h) for k, h in zip(kmers, hashes)}\n            fraction_in_peptide_db = n_kmers_in_peptide_db/n_kmers\n            max_fraction = max(max_fraction, fraction_in_peptide_db)\n            if fraction_in_peptide_db > 0.9:\n                pprint(kmers_in_peptide_db)\n            print(f'n_kmers_in_peptide_db/n_kmers: {n_kmers_in_peptide_db}/{n_kmers} = {fraction_in_peptide_db}')\n        "
    },
    "executionTime": "2019-09-18T17:48:07.924Z"
   },
   {
    "cell": {
     "executionCount": 90,
     "executionEventId": "219a2f96-5238-4ab3-8e1e-8b436f4dab84",
     "hasError": false,
     "id": "55e10ce9-7ecf-4d47-acc0-263024add8bd",
     "outputs": [
      {
       "name": "stdout",
       "output_type": "stream",
       "text": "\nSRR306838.10559374 Ibis_Run100924_C3PO:6:51:17601:17119/1\nCGCTTGCTTAATACTGACATCAATAATATTAGGAAAATCGCAATATAACTGTAAATCCTGTTCTGTC\n\tACLILTSIILGKSQYNCKSCSV\nn_kmers_in_peptide_db/n_kmers: 0/16 = 0.0\n\tTEQDLQLYCDFPNIIDVSIKQA\n{('CDFPNII', 8486209554978127609): 1,\n ('DFPNIID', 14575729011276684959): 1,\n ('DLQLYCD', 4401934528585350125): 1,\n ('DVSIKQA', 2127299259848299325): 1,\n ('EQDLQLY', 15929958289433950839): 1,\n ('FPNIIDV', 14523720100527194750): 1,\n ('IDVSIKQ', 17861969649810968614): 1,\n ('IIDVSIK', 11919952235793077156): 1,\n ('LQLYCDF', 15358791961331100503): 1,\n ('LYCDFPN', 14204867837070835678): 1,\n ('NIIDVSI', 17663054446340615791): 1,\n ('PNIIDVS', 16130858111702731994): 1,\n ('QDLQLYC', 5442507677109518242): 1,\n ('QLYCDFP', 6132506478465899418): 1,\n ('TEQDLQL', 9488463545182023267): 1,\n ('YCDFPNI', 5976634434944997289): 1}\nn_kmers_in_peptide_db/n_kmers: 16/16 = 1.0\n\tQNRIYSYIAIFLILLMSVLSK\nn_kmers_in_peptide_db/n_kmers: 1/15 = 0.06666666666666667\n\nSRR306838.6196593 Ibis_Run100924_C3PO:6:29:16733:12435/1\nTCTAGAATGTGAAATAACGTACTTCATGTGTCTTCTTACCAAAAATACCAACGATAAGGGGAAAAGCCATC\n\tLECEITYFMCLLTKNTNDKGKSH\nn_kmers_in_peptide_db/n_kmers: 0/17 = 0.0\n\tWLFPLSLVFLVRRHMKYVISHSR\nn_kmers_in_peptide_db/n_kmers: 0/17 = 0.0\n\nSRR306838.20767303 Ibis_Run100924_C3PO:6:104:6864:5062/1\nCAATCATCATCACTTTCTAATTCCAGAATATTTTCATCACCCCAAAAAGAAATCCTAAATCCATTAGC\n\tQSSSLSNSRIFSSPQKEILNPL\nn_kmers_in_peptide_db/n_kmers: 3/16 = 0.1875\n\tANGFRISFWGDENILELESDDD\nn_kmers_in_peptide_db/n_kmers: 0/16 = 0.0\n\nSRR306838.12582274 Ibis_Run100924_C3PO:6:62:11779:17975/1\nCAAAAGTGAAGACCTCCCTGGGGTCTTCAAAGACAGCCTTTGCTCTCCATGTAGCCAATGGTGCTCT\n\tKSEDLPGVFKDSLCSPCSQWCS\nn_kmers_in_peptide_db/n_kmers: 0/16 = 0.0\n\tKVKTSLGSSKTAFALHVANGA\nn_kmers_in_peptide_db/n_kmers: 1/15 = 0.06666666666666667\n\tRAPLATWRAKAVFEDPREVFTF\nn_kmers_in_peptide_db/n_kmers: 0/16 = 0.0\n\tEHHWLHGEQRLSLKTPGRSSLL\nn_kmers_in_peptide_db/n_kmers: 0/16 = 0.0\n\nSRR306838.13334230 Ibis_Run100924_C3PO:6:66:16579:20350/1\nGTAACCCTTAATTCCTCAGAAAAAATAGACAACATAGTGGAGTGGGATGGAGGAAC\n\tVTLNSSEKIDNIVEWDGG\nn_kmers_in_peptide_db/n_kmers: 0/12 = 0.0\n\tVPPSHSTMLSIFSEELRV\nn_kmers_in_peptide_db/n_kmers: 0/12 = 0.0\n\nSRR306838.2740879 Ibis_Run100924_C3PO:6:13:11155:5248/1\nCTGTGATTATTTTTTTTCCTAGCATTTGTTCTTTCAGAAAAGGACTGAACTCTAAATTCTGGACTTGAAGACTG\n\tQSSSPEFRVQSFSERTNARKKNNH\n{('ARKKNNH', 1713568383354946688): 1,\n ('EFRVQSF', 10767763182351558596): 1,\n ('ERTNARK', 15562858329575418335): 1,\n ('FRVQSFS', 633930897315084920): 1,\n ('FSERTNA', 15725178629516220019): 1,\n ('NARKKNN', 1906855694027921310): 1,\n ('PEFRVQS', 4110563889931352261): 1,\n ('QSFSERT', 15137628652907292046): 1,\n ('QSSSPEF', 9478686570769398934): 1,\n ('RTNARKK', 15344056937872930944): 1,\n ('RVQSFSE', 12749825557695511232): 1,\n ('SERTNAR', 17317170503834313913): 1,\n ('SFSERTN', 13897620085069430866): 1,\n ('SPEFRVQ', 7584581199714103576): 1,\n ('SSPEFRV', 16043427010820047284): 1,\n ('SSSPEFR', 13245697799698261636): 1,\n ('TNARKKN', 5688616598452994991): 1,\n ('VQSFSER', 282301555949298500): 1}\nn_kmers_in_peptide_db/n_kmers: 18/18 = 1.0\n\tSLQVQNLEFSPFLKEQMLGKKIIT\nn_kmers_in_peptide_db/n_kmers: 1/18 = 0.05555555555555555\n\nSRR306838.6813354 Ibis_Run100924_C3PO:6:32:10591:13073/1\nGTTTGATTCTTGACAATTTCTTCTGGAACAAGTCTTTCATATACATTAGACTGGTATCATTGAGTTCTGAGC\n\tLILDNFFWNKSFIYIRLVSLSSE\nn_kmers_in_peptide_db/n_kmers: 0/17 = 0.0\n\tSELNDTSLMYMKDLFQKKLSRIK\nn_kmers_in_peptide_db/n_kmers: 0/17 = 0.0\n\nSRR306838.23113368 Ibis_Run100924_C3PO:6:114:13840:18459/1\nCACAAGGCTAACATACACAATCTGTAACACGAGATGGATAGCACACACATATGACACAATTTC\n\tTRLTYTICNTRWIAHTYDTI\nn_kmers_in_peptide_db/n_kmers: 0/14 = 0.0\n\tEIVSYVCAIHLVLQIVYVSLV\nn_kmers_in_peptide_db/n_kmers: 0/15 = 0.0\n\tKLCHMCVLSISCYRLCMLAL\nn_kmers_in_peptide_db/n_kmers: 0/14 = 0.0\n\nSRR306838.10872941 Ibis_Run100924_C3PO:6:53:6164:10522/1\nCTGTAGTGTGGTCCATTCCCAGACAGCAACATGCAAGAATAAGTTTACAATACACTCAGCCCTTCTG\n\tCSVVHSQTATCKNKFTIHSALL\nn_kmers_in_peptide_db/n_kmers: 0/16 = 0.0\n\tVVWSIPRQQHARISLQYTQPF\nn_kmers_in_peptide_db/n_kmers: 0/15 = 0.0\n\tRRAECIVNLFLHVAVWEWTTLQ\nn_kmers_in_peptide_db/n_kmers: 0/16 = 0.0\n\nSRR306838.6192120 Ibis_Run100924_C3PO:6:29:5833:11991/1\nTAGGAAAATAGTAATATTTGCAACTTATGAATGATAAGTCAGAAAAGTTACATGGAATGTTAAATTTT\n\tKFNIPCNFSDLSFISCKYYYFP\nn_kmers_in_peptide_db/n_kmers: 0/16 = 0.0\n\nSRR306838.21295280 Ibis_Run100924_C3PO:6:106:2590:13965/1\nCTGATAGACTGAAACTGGTTTTGTTATTCTTAACGTTCTCCAGTCTGCACTCTGCTGTGCTGTCTGTGCTC\n\tDRLKLVLLFLTFSSLHSAVLSVL\nn_kmers_in_peptide_db/n_kmers: 2/17 = 0.11764705882352941\n\tSTDSTAECRLENVKNNKTSFSLS\nn_kmers_in_peptide_db/n_kmers: 1/17 = 0.058823529411764705\n\tAQTAQQSADWRTLRITKPVSVYQ\nn_kmers_in_peptide_db/n_kmers: 0/17 = 0.0\n\nSRR306838.21201208 Ibis_Run100924_C3PO:6:106:2763:5109/1\nTTAAGTTCTAGTCTGTGAGCACTTGTAGTTCAATAATCGTCATCTTCATCAGAGTCCATTACTTTTCTTCTGTTG\n\nSRR306838.18327923 Ibis_Run100924_C3PO:6:92:9077:13885/1\nAAATAAGGTAACATTTAACAATAATCTGATACACATAAATAGAGAAAGAGCAATTGATAAAGTAAATG\n\tNKVTFNNNLIHINRERAIDKVN\nn_kmers_in_peptide_db/n_kmers: 0/16 = 0.0\n\tIYFINCSFSIYVYQIIVKCYLI\nn_kmers_in_peptide_db/n_kmers: 0/16 = 0.0\n\tFTLSIALSLFMCIRLLLNVTLF\nn_kmers_in_peptide_db/n_kmers: 1/16 = 0.0625\n\nSRR306838.4880582 Ibis_Run100924_C3PO:6:23:17413:5436/1\nCTTGGATCCACCATACTCAAGAGTTATTACACAAAGGGAAACAGAAAATAACCAAATGACATCAGAA\n\tLDPPYSRVITQRETENNQMTSE\n{('DPPYSRV', 870193233005734860): 1,\n ('ENNQMTS', 7068815446942798493): 1,\n ('ETENNQM', 5901689245880080069): 1,\n ('ITQRETE', 14359127297360924035): 1,\n ('LDPPYSR', 9287118946935666978): 1,\n ('NNQMTSE', 5090053848895481453): 1,\n ('PPYSRVI', 10295402340312481898): 1,\n ('PYSRVIT', 966674514202137489): 1,\n ('QRETENN', 2955908213655624768): 1,\n ('RETENNQ', 11491456599149068795): 1,\n ('RVITQRE', 10895591566858399476): 1,\n ('SRVITQR', 7921779376370140195): 1,\n ('TENNQMT', 11633242716309324695): 1,\n ('TQRETEN', 1638939244257838392): 1,\n ('VITQRET', 11674773285232954009): 1,\n ('YSRVITQ', 8012866163104072370): 1}\nn_kmers_in_peptide_db/n_kmers: 16/16 = 1.0\n\tSDVIWLFSVSLCVITLEYGGSK\nn_kmers_in_peptide_db/n_kmers: 0/16 = 0.0\n\nSRR306838.21417895 Ibis_Run100924_C3PO:6:107:8793:5012/1\nCCAACACATCCAATTTGTATTTTCTTAAATATGTGTTTCTTAGGTATCTAAGGATACATGAGCGAGCCC\n\tNTSNLYFLKYVFLRYLRIHERA\nn_kmers_in_peptide_db/n_kmers: 1/16 = 0.0625\n\tARSCILRYLRNTYLRKYKLDVL\nn_kmers_in_peptide_db/n_kmers: 0/16 = 0.0\n\nSRR306838.17165743 Ibis_Run100924_C3PO:6:86:18789:18450/1\nATCTCTTGTAATAATTCAACATATTCCCTGGCTATTAACTAATTTCCAAGCCTGAACTGTCA\n\nSRR306838.21229494 Ibis_Run100924_C3PO:6:106:6163:7753/1\nTGAGGCAAACAGCAAGAGTAAGCAGTGTTACTTGCAGGTACTTTGGTTAATGTTGATTTAAATTTTCATG\n\nSRR306838.21218773 Ibis_Run100924_C3PO:6:106:16921:6743/1\nCAATGCCGTGCCAGTGGAGACTGTTCTCGTATGCC\n\tQCRASGDCSRM\nn_kmers_in_peptide_db/n_kmers: 0/5 = 0.0\n\tNAVPVETVLVC\nn_kmers_in_peptide_db/n_kmers: 1/5 = 0.2\n\tMPCQWRLFSYA\nn_kmers_in_peptide_db/n_kmers: 0/5 = 0.0\n\tGIREQSPLARH\nn_kmers_in_peptide_db/n_kmers: 0/5 = 0.0\n\tAYENSLHWHGI\nn_kmers_in_peptide_db/n_kmers: 0/5 = 0.0\n\tHTRTVSTGTAL\nn_kmers_in_peptide_db/n_kmers: 4/5 = 0.8\n\nSRR306838.20124664 Ibis_Run100924_C3PO:6:101:4701:5309/1\nCCTATACCTTCTGCATAATGAATTAACTAGAAATAACTTTGCAAGGAGAGCCAAAGCTAAGACCCCCGAAAC\n\tLYLLHNELTRNNFARRAKAKTPE\nn_kmers_in_peptide_db/n_kmers: 1/17 = 0.058823529411764705\n\tVSGVLALALLAKLFLVNSLCRRYR\nn_kmers_in_peptide_db/n_kmers: 4/18 = 0.2222222222222222\n\nSRR306838.16841308 Ibis_Run100924_C3PO:6:85:6205:5805/1\nCAGGAATGAGGCCCCGACTAAAATTCGCTGCAAAAGCCCAAAATCTAGTTAGCATAAATTCCTCAGACATG\n\tGMRPRLKFAAKAQNLVSINSSDM\nn_kmers_in_peptide_db/n_kmers: 0/17 = 0.0\n\tMSEEFMLTRFWAFAANFSRGLIP\nn_kmers_in_peptide_db/n_kmers: 0/17 = 0.0\n"
      },
      {
       "name": "stderr",
       "output_type": "stream",
       "text": "/home/olga/miniconda3/envs/kmer-hashing/lib/python3.6/site-packages/Bio/Seq.py:2715: BiopythonWarning: Partial codon, len(sequence) not a multiple of three. Explicitly trim the sequence or add trailing N before translation. This may become an error in future.\n  BiopythonWarning)\n"
      }
     ],
     "persistentId": "954ef7d8-1e5c-43fa-87bf-0098fd2cd414",
     "text": "classification_lines = []\n\n\ndef six_frame_translation_no_stops(seq):\n    forward_translations = three_frame_translation_no_stops(seq)\n    reverse_translations = three_frame_translation_no_stops(seq.reverse_complement())\n    return forward_translations + reverse_translations\n\nwith gzip.open('SRR306838_GSM752691_hsa_br_F_1_trimmed_subsampled.fq.gz', 'rt') as f:\n    for i, record in zip(range(20), SeqIO.parse(f, 'fastq')):\n        print()\n        print(record.description)\n        print(str(record.seq))\n        translations = six_frame_translation_no_stops(record.seq)\n        \n        max_fraction = 0\n        for translation in translations:\n            print(f\"\\t{translation}\")\n            kmers = list(set(kmerize(str(translation), peptide_ksize)))\n            hashes = [hash_murmur(kmer) for kmer in kmers]\n            n_kmers = len(kmers)\n            n_kmers_in_peptide_db = sum(1 for h in hashes if peptide_graph.get(h) > 0)\n            kmers_in_peptide_db = {(k, h): peptide_graph.get(h) for k, h in zip(kmers, hashes)}\n            fraction_in_peptide_db = n_kmers_in_peptide_db/n_kmers\n            max_fraction = max(max_fraction, fraction_in_peptide_db)\n            if fraction_in_peptide_db > 0.9:\n                pprint(kmers_in_peptide_db)\n            print(f'n_kmers_in_peptide_db/n_kmers: {n_kmers_in_peptide_db}/{n_kmers} = {fraction_in_peptide_db}')\n        classification_lines.append([record.description, max_fraction])"
    },
    "executionTime": "2019-09-18T17:48:29.617Z"
   },
   {
    "cell": {
     "executionCount": 91,
     "executionEventId": "54f17ac0-f1f5-480b-a809-01b7cf9c3ffd",
     "hasError": true,
     "id": "d4d76dae-d882-466f-a97c-1685492140b3",
     "outputs": [
      {
       "ename": "NameError",
       "evalue": "name 'pd' is not defined",
       "output_type": "error",
       "traceback": [
        "\u001b[0;31m---------------------------------------------------------------------------\u001b[0m",
        "\u001b[0;31mNameError\u001b[0m                                 Traceback (most recent call last)",
        "\u001b[0;32m<ipython-input-91-1164bf2abb6c>\u001b[0m in \u001b[0;36m<module>\u001b[0;34m()\u001b[0m\n\u001b[0;32m----> 1\u001b[0;31m \u001b[0mclassification_df\u001b[0m \u001b[0;34m=\u001b[0m \u001b[0mpd\u001b[0m\u001b[0;34m.\u001b[0m\u001b[0mDataFrame\u001b[0m\u001b[0;34m(\u001b[0m\u001b[0mclassification_lines\u001b[0m\u001b[0;34m,\u001b[0m \u001b[0mcolumns\u001b[0m\u001b[0;34m=\u001b[0m\u001b[0;34m[\u001b[0m\u001b[0;34m'read_id'\u001b[0m\u001b[0;34m,\u001b[0m \u001b[0;34m'max_peptide_coding_kmers'\u001b[0m\u001b[0;34m]\u001b[0m\u001b[0;34m)\u001b[0m\u001b[0;34m\u001b[0m\u001b[0;34m\u001b[0m\u001b[0m\n\u001b[0m\u001b[1;32m      2\u001b[0m \u001b[0mprint\u001b[0m\u001b[0;34m(\u001b[0m\u001b[0mclassification_df\u001b[0m\u001b[0;34m.\u001b[0m\u001b[0mshape\u001b[0m\u001b[0;34m)\u001b[0m\u001b[0;34m\u001b[0m\u001b[0;34m\u001b[0m\u001b[0m\n\u001b[1;32m      3\u001b[0m \u001b[0mclassification_df\u001b[0m\u001b[0;34m.\u001b[0m\u001b[0mhead\u001b[0m\u001b[0;34m(\u001b[0m\u001b[0;34m)\u001b[0m\u001b[0;34m\u001b[0m\u001b[0;34m\u001b[0m\u001b[0m\n",
        "\u001b[0;31mNameError\u001b[0m: name 'pd' is not defined"
       ]
      }
     ],
     "persistentId": "96970676-e85a-49f8-9ec5-dda47db735e1",
     "text": "classification_df = pd.DataFrame(classification_lines, columns=['read_id', 'max_peptide_coding_kmers'])\nprint(classification_df.shape)\nclassification_df.head()"
    },
    "executionTime": "2019-09-18T17:49:20.070Z"
   },
   {
    "cell": {
     "executionCount": 92,
     "executionEventId": "a2a8b7a5-a5fb-44d3-a552-4309c7eae202",
     "hasError": false,
     "id": "93685616-c02f-4cd1-9d16-3e730012559f",
     "outputs": [],
     "persistentId": "ca3c95ac-68f3-46f3-b085-b116e63bb8b0",
     "text": "import gzip\nfrom pprint import pprint\n\nfrom khmer import Nodegraph\nimport screed\nfrom sourmash._minhash import hash_murmur\nfrom khmer.khmer_args import calculate_graphsize\nimport pandas as pd\nfrom sourmash.logging import notify\n\nfrom khtools.compare_peptide import kmerize\n\nfrom Bio.Seq import Seq\nfrom Bio import SeqIO"
    },
    "executionTime": "2019-09-18T17:49:31.070Z"
   },
   {
    "cell": {
     "executionCount": 93,
     "executionEventId": "4cfd9b50-4a62-42d5-ab9a-7003ef0069e4",
     "hasError": false,
     "id": "d4d76dae-d882-466f-a97c-1685492140b3",
     "outputs": [
      {
       "name": "stdout",
       "output_type": "stream",
       "text": "(20, 2)\n"
      },
      {
       "data": {
        "text/html": "<div>\n<style scoped>\n    .dataframe tbody tr th:only-of-type {\n        vertical-align: middle;\n    }\n\n    .dataframe tbody tr th {\n        vertical-align: top;\n    }\n\n    .dataframe thead th {\n        text-align: right;\n    }\n</style>\n<table border=\"1\" class=\"dataframe\">\n  <thead>\n    <tr style=\"text-align: right;\">\n      <th></th>\n      <th>read_id</th>\n      <th>max_peptide_coding_kmers</th>\n    </tr>\n  </thead>\n  <tbody>\n    <tr>\n      <th>0</th>\n      <td>SRR306838.10559374 Ibis_Run100924_C3PO:6:51:17...</td>\n      <td>1.000000</td>\n    </tr>\n    <tr>\n      <th>1</th>\n      <td>SRR306838.6196593 Ibis_Run100924_C3PO:6:29:167...</td>\n      <td>0.000000</td>\n    </tr>\n    <tr>\n      <th>2</th>\n      <td>SRR306838.20767303 Ibis_Run100924_C3PO:6:104:6...</td>\n      <td>0.187500</td>\n    </tr>\n    <tr>\n      <th>3</th>\n      <td>SRR306838.12582274 Ibis_Run100924_C3PO:6:62:11...</td>\n      <td>0.066667</td>\n    </tr>\n    <tr>\n      <th>4</th>\n      <td>SRR306838.13334230 Ibis_Run100924_C3PO:6:66:16...</td>\n      <td>0.000000</td>\n    </tr>\n  </tbody>\n</table>\n</div>",
        "text/plain": "                                             read_id  max_peptide_coding_kmers\n0  SRR306838.10559374 Ibis_Run100924_C3PO:6:51:17...                  1.000000\n1  SRR306838.6196593 Ibis_Run100924_C3PO:6:29:167...                  0.000000\n2  SRR306838.20767303 Ibis_Run100924_C3PO:6:104:6...                  0.187500\n3  SRR306838.12582274 Ibis_Run100924_C3PO:6:62:11...                  0.066667\n4  SRR306838.13334230 Ibis_Run100924_C3PO:6:66:16...                  0.000000"
       },
       "execution_count": 93,
       "metadata": {},
       "output_type": "execute_result"
      }
     ],
     "persistentId": "96970676-e85a-49f8-9ec5-dda47db735e1",
     "text": "classification_df = pd.DataFrame(classification_lines, columns=['read_id', 'max_peptide_coding_kmers'])\nprint(classification_df.shape)\nclassification_df.head()"
    },
    "executionTime": "2019-09-18T17:49:35.239Z"
   },
   {
    "cell": {
     "executionCount": 94,
     "executionEventId": "08d9b227-e3e8-4f0d-92d6-47ed41c8d4d3",
     "hasError": false,
     "id": "93685616-c02f-4cd1-9d16-3e730012559f",
     "outputs": [],
     "persistentId": "ca3c95ac-68f3-46f3-b085-b116e63bb8b0",
     "text": "import gzip\nfrom io import StringIO\nfrom pprint import pprint\n\nfrom khmer import Nodegraph\nimport screed\nfrom sourmash._minhash import hash_murmur\nfrom khmer.khmer_args import calculate_graphsize\nimport pandas as pd\nfrom sourmash.logging import notify\n\nfrom khtools.compare_peptide import kmerize\n\nfrom Bio.Seq import Seq\nfrom Bio import SeqIO"
    },
    "executionTime": "2019-09-18T17:50:35.033Z"
   },
   {
    "cell": {
     "executionCount": 95,
     "executionEventId": "268bd811-d500-4eec-af62-090c981d29a1",
     "hasError": false,
     "id": "a7e882a3-119b-4ee4-979c-024f9698ca4b",
     "outputs": [
      {
       "name": "stdout",
       "output_type": "stream",
       "text": "(40, 7)\n"
      },
      {
       "data": {
        "text/html": "<div>\n<style scoped>\n    .dataframe tbody tr th:only-of-type {\n        vertical-align: middle;\n    }\n\n    .dataframe tbody tr th {\n        vertical-align: top;\n    }\n\n    .dataframe thead th {\n        text-align: right;\n    }\n</style>\n<table border=\"1\" class=\"dataframe\">\n  <thead>\n    <tr style=\"text-align: right;\">\n      <th></th>\n      <th>sequence_id</th>\n      <th>sequence</th>\n      <th>compared_to</th>\n      <th>jaccard</th>\n      <th>ksize</th>\n      <th>is_coding</th>\n      <th>Notes</th>\n    </tr>\n  </thead>\n  <tbody>\n    <tr>\n      <th>0</th>\n      <td>SRR306838.10559374 Ibis_Run100924_C3PO:6:51:17...</td>\n      <td>CGCTTGCTTAATACTGACATCAATAATATTAGGAAAATCGCAATAT...</td>\n      <td>coding</td>\n      <td>0.037736</td>\n      <td>15</td>\n      <td>True</td>\n      <td>NaN</td>\n    </tr>\n    <tr>\n      <th>1</th>\n      <td>SRR306838.10559374 Ibis_Run100924_C3PO:6:51:17...</td>\n      <td>CGCTTGCTTAATACTGACATCAATAATATTAGGAAAATCGCAATAT...</td>\n      <td>non_coding</td>\n      <td>0.000000</td>\n      <td>15</td>\n      <td>True</td>\n      <td>NaN</td>\n    </tr>\n    <tr>\n      <th>2</th>\n      <td>SRR306838.6196593 Ibis_Run100924_C3PO:6:29:167...</td>\n      <td>TCTAGAATGTGAAATAACGTACTTCATGTGTCTTCTTACCAAAAAT...</td>\n      <td>coding</td>\n      <td>0.035088</td>\n      <td>15</td>\n      <td>False</td>\n      <td>NaN</td>\n    </tr>\n    <tr>\n      <th>3</th>\n      <td>SRR306838.6196593 Ibis_Run100924_C3PO:6:29:167...</td>\n      <td>TCTAGAATGTGAAATAACGTACTTCATGTGTCTTCTTACCAAAAAT...</td>\n      <td>non_coding</td>\n      <td>0.017544</td>\n      <td>15</td>\n      <td>False</td>\n      <td>NaN</td>\n    </tr>\n    <tr>\n      <th>4</th>\n      <td>SRR306838.20767303 Ibis_Run100924_C3PO:6:104:6...</td>\n      <td>CAATCATCATCACTTTCTAATTCCAGAATATTTTCATCACCCCAAA...</td>\n      <td>coding</td>\n      <td>0.092593</td>\n      <td>15</td>\n      <td>False</td>\n      <td>NaN</td>\n    </tr>\n  </tbody>\n</table>\n</div>",
        "text/plain": "                                         sequence_id  \\\n0  SRR306838.10559374 Ibis_Run100924_C3PO:6:51:17...   \n1  SRR306838.10559374 Ibis_Run100924_C3PO:6:51:17...   \n2  SRR306838.6196593 Ibis_Run100924_C3PO:6:29:167...   \n3  SRR306838.6196593 Ibis_Run100924_C3PO:6:29:167...   \n4  SRR306838.20767303 Ibis_Run100924_C3PO:6:104:6...   \n\n                                            sequence compared_to   jaccard  \\\n0  CGCTTGCTTAATACTGACATCAATAATATTAGGAAAATCGCAATAT...      coding  0.037736   \n1  CGCTTGCTTAATACTGACATCAATAATATTAGGAAAATCGCAATAT...  non_coding  0.000000   \n2  TCTAGAATGTGAAATAACGTACTTCATGTGTCTTCTTACCAAAAAT...      coding  0.035088   \n3  TCTAGAATGTGAAATAACGTACTTCATGTGTCTTCTTACCAAAAAT...  non_coding  0.017544   \n4  CAATCATCATCACTTTCTAATTCCAGAATATTTTCATCACCCCAAA...      coding  0.092593   \n\n   ksize  is_coding Notes  \n0     15       True   NaN  \n1     15       True   NaN  \n2     15      False   NaN  \n3     15      False   NaN  \n4     15      False   NaN  "
       },
       "execution_count": 95,
       "metadata": {},
       "output_type": "execute_result"
      }
     ],
     "persistentId": "f3c963f2-8657-4743-8cd3-a241b022e120",
     "text": "s = '''sequence_id\tsequence\tcompared_to\tjaccard\tksize\tis_coding\tNotes\nSRR306838.10559374 Ibis_Run100924_C3PO:6:51:17601:17119/1\tCGCTTGCTTAATACTGACATCAATAATATTAGGAAAATCGCAATATAACTGTAAATCCTGTTCTGTC\tcoding\t0.03773584906\t15\tTRUE\t\nSRR306838.10559374 Ibis_Run100924_C3PO:6:51:17601:17119/1\tCGCTTGCTTAATACTGACATCAATAATATTAGGAAAATCGCAATATAACTGTAAATCCTGTTCTGTC\tnon_coding\t0\t15\tTRUE\t\nSRR306838.6196593 Ibis_Run100924_C3PO:6:29:16733:12435/1\tTCTAGAATGTGAAATAACGTACTTCATGTGTCTTCTTACCAAAAATACCAACGATAAGGGGAAAAGCCATC\tcoding\t0.0350877193\t15\tFALSE\t\nSRR306838.6196593 Ibis_Run100924_C3PO:6:29:16733:12435/1\tTCTAGAATGTGAAATAACGTACTTCATGTGTCTTCTTACCAAAAATACCAACGATAAGGGGAAAAGCCATC\tnon_coding\t0.01754385965\t15\tFALSE\t\nSRR306838.20767303 Ibis_Run100924_C3PO:6:104:6864:5062/1\tCAATCATCATCACTTTCTAATTCCAGAATATTTTCATCACCCCAAAAAGAAATCCTAAATCCATTAGC\tcoding\t0.09259259259\t15\tFALSE\t\nSRR306838.20767303 Ibis_Run100924_C3PO:6:104:6864:5062/1\tCAATCATCATCACTTTCTAATTCCAGAATATTTTCATCACCCCAAAAAGAAATCCTAAATCCATTAGC\tnon_coding\t0.4074074074\t15\tFALSE\t\nSRR306838.12582274 Ibis_Run100924_C3PO:6:62:11779:17975/1\tCAAAAGTGAAGACCTCCCTGGGGTCTTCAAAGACAGCCTTTGCTCTCCATGTAGCCAATGGTGCTCT\tcoding\t0.03773584906\t15\tFALSE\t\nSRR306838.12582274 Ibis_Run100924_C3PO:6:62:11779:17975/1\tCAAAAGTGAAGACCTCCCTGGGGTCTTCAAAGACAGCCTTTGCTCTCCATGTAGCCAATGGTGCTCT\tnon_coding\t0.05660377358\t15\tFALSE\t\nSRR306838.13334230 Ibis_Run100924_C3PO:6:66:16579:20350/1\tGTAACCCTTAATTCCTCAGAAAAAATAGACAACATAGTGGAGTGGGATGGAGGAAC\tcoding\t0.04761904762\t15\tFALSE\t\nSRR306838.13334230 Ibis_Run100924_C3PO:6:66:16579:20350/1\tGTAACCCTTAATTCCTCAGAAAAAATAGACAACATAGTGGAGTGGGATGGAGGAAC\tnon_coding\t0.1428571429\t15\tFALSE\t\nSRR306838.2740879 Ibis_Run100924_C3PO:6:13:11155:5248/1\tCTGTGATTATTTTTTTTCCTAGCATTTGTTCTTTCAGAAAAGGACTGAACTCTAAATTCTGGACTTGAAGACTG\tcoding\t0.06666666667\t15\tTRUE\tSecond hit is in LINE element\nSRR306838.2740879 Ibis_Run100924_C3PO:6:13:11155:5248/1\tCTGTGATTATTTTTTTTCCTAGCATTTGTTCTTTCAGAAAAGGACTGAACTCTAAATTCTGGACTTGAAGACTG\tnon_coding\t0.08333333333\t15\tTRUE\tSecond hit is in LINE element\nSRR306838.6813354 Ibis_Run100924_C3PO:6:32:10591:13073/1\tGTTTGATTCTTGACAATTTCTTCTGGAACAAGTCTTTCATATACATTAGACTGGTATCATTGAGTTCTGAGC\tcoding\t0.03448275862\t15\tFALSE\tLots of imperfect matches\nSRR306838.6813354 Ibis_Run100924_C3PO:6:32:10591:13073/1\tGTTTGATTCTTGACAATTTCTTCTGGAACAAGTCTTTCATATACATTAGACTGGTATCATTGAGTTCTGAGC\tnon_coding\t0.08620689655\t15\tFALSE\tLots of imperfect matches\nSRR306838.23113368 Ibis_Run100924_C3PO:6:114:13840:18459/1\tCACAAGGCTAACATACACAATCTGTAACACGAGATGGATAGCACACACATATGACACAATTTC\tcoding\t0\t15\tFALSE\t\nSRR306838.23113368 Ibis_Run100924_C3PO:6:114:13840:18459/1\tCACAAGGCTAACATACACAATCTGTAACACGAGATGGATAGCACACACATATGACACAATTTC\tnon_coding\t0\t15\tFALSE\t\nSRR306838.10872941 Ibis_Run100924_C3PO:6:53:6164:10522/1\tCTGTAGTGTGGTCCATTCCCAGACAGCAACATGCAAGAATAAGTTTACAATACACTCAGCCCTTCTG\tcoding\t0.01886792453\t15\tFALSE\t\nSRR306838.10872941 Ibis_Run100924_C3PO:6:53:6164:10522/1\tCTGTAGTGTGGTCCATTCCCAGACAGCAACATGCAAGAATAAGTTTACAATACACTCAGCCCTTCTG\tnon_coding\t0.01886792453\t15\tFALSE\t\nSRR306838.6192120 Ibis_Run100924_C3PO:6:29:5833:11991/1\tTAGGAAAATAGTAATATTTGCAACTTATGAATGATAAGTCAGAAAAGTTACATGGAATGTTAAATTTT\tcoding\t0.1296296296\t15\tFALSE\t\nSRR306838.6192120 Ibis_Run100924_C3PO:6:29:5833:11991/1\tTAGGAAAATAGTAATATTTGCAACTTATGAATGATAAGTCAGAAAAGTTACATGGAATGTTAAATTTT\tnon_coding\t0.05555555556\t15\tFALSE\t\nSRR306838.21295280 Ibis_Run100924_C3PO:6:106:2590:13965/1\tCTGATAGACTGAAACTGGTTTTGTTATTCTTAACGTTCTCCAGTCTGCACTCTGCTGTGCTGTCTGTGCTC\tcoding\t0.1929824561\t15\tFALSE\t\nSRR306838.21295280 Ibis_Run100924_C3PO:6:106:2590:13965/1\tCTGATAGACTGAAACTGGTTTTGTTATTCTTAACGTTCTCCAGTCTGCACTCTGCTGTGCTGTCTGTGCTC\tnon_coding\t0.0701754386\t15\tFALSE\t\nSRR306838.21201208 Ibis_Run100924_C3PO:6:106:2763:5109/1\tTTAAGTTCTAGTCTGTGAGCACTTGTAGTTCAATAATCGTCATCTTCATCAGAGTCCATTACTTTTCTTCTGTTG\tcoding\t0.1147540984\t15\tFALSE\tstop codon\nSRR306838.21201208 Ibis_Run100924_C3PO:6:106:2763:5109/1\tTTAAGTTCTAGTCTGTGAGCACTTGTAGTTCAATAATCGTCATCTTCATCAGAGTCCATTACTTTTCTTCTGTTG\tnon_coding\t0.06557377049\t15\tFALSE\tstop codon\nSRR306838.18327923 Ibis_Run100924_C3PO:6:92:9077:13885/1\tAAATAAGGTAACATTTAACAATAATCTGATACACATAAATAGAGAAAGAGCAATTGATAAAGTAAATG\tcoding\t0.01851851852\t15\tFALSE\t\nSRR306838.18327923 Ibis_Run100924_C3PO:6:92:9077:13885/1\tAAATAAGGTAACATTTAACAATAATCTGATACACATAAATAGAGAAAGAGCAATTGATAAAGTAAATG\tnon_coding\t0.2222222222\t15\tFALSE\t\nSRR306838.4880582 Ibis_Run100924_C3PO:6:23:17413:5436/1\tCTTGGATCCACCATACTCAAGAGTTATTACACAAAGGGAAACAGAAAATAACCAAATGACATCAGAA\tcoding\t1\t15\tTRUE\t\nSRR306838.4880582 Ibis_Run100924_C3PO:6:23:17413:5436/1\tCTTGGATCCACCATACTCAAGAGTTATTACACAAAGGGAAACAGAAAATAACCAAATGACATCAGAA\tnon_coding\t0.1698113208\t15\tTRUE\t\nSRR306838.21417895 Ibis_Run100924_C3PO:6:107:8793:5012/1\tCCAACACATCCAATTTGTATTTTCTTAAATATGTGTTTCTTAGGTATCTAAGGATACATGAGCGAGCCC\tcoding\t0\t15\tFALSE\t\nSRR306838.21417895 Ibis_Run100924_C3PO:6:107:8793:5012/1\tCCAACACATCCAATTTGTATTTTCTTAAATATGTGTTTCTTAGGTATCTAAGGATACATGAGCGAGCCC\tnon_coding\t0.01818181818\t15\tFALSE\t\nSRR306838.17165743 Ibis_Run100924_C3PO:6:86:18789:18450/1\tATCTCTTGTAATAATTCAACATATTCCCTGGCTATTAACTAATTTCCAAGCCTGAACTGTCA\tcoding\t0.04166666667\t15\tFALSE\t\nSRR306838.17165743 Ibis_Run100924_C3PO:6:86:18789:18450/1\tATCTCTTGTAATAATTCAACATATTCCCTGGCTATTAACTAATTTCCAAGCCTGAACTGTCA\tnon_coding\t0\t15\tFALSE\t\nSRR306838.21229494 Ibis_Run100924_C3PO:6:106:6163:7753/1\tTGAGGCAAACAGCAAGAGTAAGCAGTGTTACTTGCAGGTACTTTGGTTAATGTTGATTTAAATTTTCATG\tcoding\t0\t15\tFALSE\tPerfect match to another location with a DNA element\nSRR306838.21229494 Ibis_Run100924_C3PO:6:106:6163:7753/1\tTGAGGCAAACAGCAAGAGTAAGCAGTGTTACTTGCAGGTACTTTGGTTAATGTTGATTTAAATTTTCATG\tnon_coding\t0.03571428571\t15\tFALSE\t\nSRR306838.21218773 Ibis_Run100924_C3PO:6:106:16921:6743/1\tCAATGCCGTGCCAGTGGAGACTGTTCTCGTATGCC\tcoding\t0.09523809524\t15\tTRUE\tDeinitely coding\nSRR306838.21218773 Ibis_Run100924_C3PO:6:106:16921:6743/1\tCAATGCCGTGCCAGTGGAGACTGTTCTCGTATGCC\tnon_coding\t0\t15\tTRUE\t\nSRR306838.20124664 Ibis_Run100924_C3PO:6:101:4701:5309/1\tCCTATACCTTCTGCATAATGAATTAACTAGAAATAACTTTGCAAGGAGAGCCAAAGCTAAGACCCCCGAAAC\tcoding\t0.01724137931\t15\tFALSE\tDefinitely noncoding\nSRR306838.20124664 Ibis_Run100924_C3PO:6:101:4701:5309/1\tCCTATACCTTCTGCATAATGAATTAACTAGAAATAACTTTGCAAGGAGAGCCAAAGCTAAGACCCCCGAAAC\tnon_coding\t1\t15\tFALSE\tDefinitely noncoding\nSRR306838.16841308 Ibis_Run100924_C3PO:6:85:6205:5805/1\tCAGGAATGAGGCCCCGACTAAAATTCGCTGCAAAAGCCCAAAATCTAGTTAGCATAAATTCCTCAGACATG\tcoding\t0\t15\tFALSE\t\nSRR306838.16841308 Ibis_Run100924_C3PO:6:85:6205:5805/1\tCAGGAATGAGGCCCCGACTAAAATTCGCTGCAAAAGCCCAAAATCTAGTTAGCATAAATTCCTCAGACATG\tnon_coding\t0.0701754386\t15\tFALSE\t'''\nblat_results = pd.read_csv(StringIO(s), sep='\\t')\nprint(blat_results.shape)\nblat_results.head()"
    },
    "executionTime": "2019-09-18T17:50:40.035Z"
   },
   {
    "cell": {
     "executionCount": 96,
     "executionEventId": "b7063ac8-bd2d-4162-a3bc-bb567e868f26",
     "hasError": false,
     "id": "9f432a38-36f3-4adc-ab18-795fbc02b0ff",
     "outputs": [
      {
       "data": {
        "text/html": "<div>\n<style scoped>\n    .dataframe tbody tr th:only-of-type {\n        vertical-align: middle;\n    }\n\n    .dataframe tbody tr th {\n        vertical-align: top;\n    }\n\n    .dataframe thead th {\n        text-align: right;\n    }\n</style>\n<table border=\"1\" class=\"dataframe\">\n  <thead>\n    <tr style=\"text-align: right;\">\n      <th></th>\n      <th>read_id</th>\n      <th>max_peptide_coding_kmers</th>\n    </tr>\n  </thead>\n  <tbody>\n    <tr>\n      <th>0</th>\n      <td>SRR306838.10559374 Ibis_Run100924_C3PO:6:51:17...</td>\n      <td>1.000000</td>\n    </tr>\n    <tr>\n      <th>1</th>\n      <td>SRR306838.6196593 Ibis_Run100924_C3PO:6:29:167...</td>\n      <td>0.000000</td>\n    </tr>\n    <tr>\n      <th>2</th>\n      <td>SRR306838.20767303 Ibis_Run100924_C3PO:6:104:6...</td>\n      <td>0.187500</td>\n    </tr>\n    <tr>\n      <th>3</th>\n      <td>SRR306838.12582274 Ibis_Run100924_C3PO:6:62:11...</td>\n      <td>0.066667</td>\n    </tr>\n    <tr>\n      <th>4</th>\n      <td>SRR306838.13334230 Ibis_Run100924_C3PO:6:66:16...</td>\n      <td>0.000000</td>\n    </tr>\n  </tbody>\n</table>\n</div>",
        "text/plain": "                                             read_id  max_peptide_coding_kmers\n0  SRR306838.10559374 Ibis_Run100924_C3PO:6:51:17...                  1.000000\n1  SRR306838.6196593 Ibis_Run100924_C3PO:6:29:167...                  0.000000\n2  SRR306838.20767303 Ibis_Run100924_C3PO:6:104:6...                  0.187500\n3  SRR306838.12582274 Ibis_Run100924_C3PO:6:62:11...                  0.066667\n4  SRR306838.13334230 Ibis_Run100924_C3PO:6:66:16...                  0.000000"
       },
       "execution_count": 96,
       "metadata": {},
       "output_type": "execute_result"
      }
     ],
     "persistentId": "6b55768a-f285-4a67-ab1a-cb748e428978",
     "text": "classification_df.head()"
    },
    "executionTime": "2019-09-18T17:50:52.859Z"
   },
   {
    "cell": {
     "executionCount": 97,
     "executionEventId": "823dcbf0-6c77-43f3-999c-84e899b847d1",
     "hasError": false,
     "id": "a7e882a3-119b-4ee4-979c-024f9698ca4b",
     "outputs": [
      {
       "name": "stdout",
       "output_type": "stream",
       "text": "(40, 6)\n"
      },
      {
       "data": {
        "text/html": "<div>\n<style scoped>\n    .dataframe tbody tr th:only-of-type {\n        vertical-align: middle;\n    }\n\n    .dataframe tbody tr th {\n        vertical-align: top;\n    }\n\n    .dataframe thead th {\n        text-align: right;\n    }\n</style>\n<table border=\"1\" class=\"dataframe\">\n  <thead>\n    <tr style=\"text-align: right;\">\n      <th></th>\n      <th>sequence</th>\n      <th>compared_to</th>\n      <th>jaccard</th>\n      <th>ksize</th>\n      <th>is_coding</th>\n      <th>Notes</th>\n    </tr>\n    <tr>\n      <th>sequence_id</th>\n      <th></th>\n      <th></th>\n      <th></th>\n      <th></th>\n      <th></th>\n      <th></th>\n    </tr>\n  </thead>\n  <tbody>\n    <tr>\n      <th>SRR306838.10559374 Ibis_Run100924_C3PO:6:51:17601:17119/1</th>\n      <td>CGCTTGCTTAATACTGACATCAATAATATTAGGAAAATCGCAATAT...</td>\n      <td>coding</td>\n      <td>0.037736</td>\n      <td>15</td>\n      <td>True</td>\n      <td>NaN</td>\n    </tr>\n    <tr>\n      <th>SRR306838.10559374 Ibis_Run100924_C3PO:6:51:17601:17119/1</th>\n      <td>CGCTTGCTTAATACTGACATCAATAATATTAGGAAAATCGCAATAT...</td>\n      <td>non_coding</td>\n      <td>0.000000</td>\n      <td>15</td>\n      <td>True</td>\n      <td>NaN</td>\n    </tr>\n    <tr>\n      <th>SRR306838.6196593 Ibis_Run100924_C3PO:6:29:16733:12435/1</th>\n      <td>TCTAGAATGTGAAATAACGTACTTCATGTGTCTTCTTACCAAAAAT...</td>\n      <td>coding</td>\n      <td>0.035088</td>\n      <td>15</td>\n      <td>False</td>\n      <td>NaN</td>\n    </tr>\n    <tr>\n      <th>SRR306838.6196593 Ibis_Run100924_C3PO:6:29:16733:12435/1</th>\n      <td>TCTAGAATGTGAAATAACGTACTTCATGTGTCTTCTTACCAAAAAT...</td>\n      <td>non_coding</td>\n      <td>0.017544</td>\n      <td>15</td>\n      <td>False</td>\n      <td>NaN</td>\n    </tr>\n    <tr>\n      <th>SRR306838.20767303 Ibis_Run100924_C3PO:6:104:6864:5062/1</th>\n      <td>CAATCATCATCACTTTCTAATTCCAGAATATTTTCATCACCCCAAA...</td>\n      <td>coding</td>\n      <td>0.092593</td>\n      <td>15</td>\n      <td>False</td>\n      <td>NaN</td>\n    </tr>\n  </tbody>\n</table>\n</div>",
        "text/plain": "                                                                                             sequence  \\\nsequence_id                                                                                             \nSRR306838.10559374 Ibis_Run100924_C3PO:6:51:176...  CGCTTGCTTAATACTGACATCAATAATATTAGGAAAATCGCAATAT...   \nSRR306838.10559374 Ibis_Run100924_C3PO:6:51:176...  CGCTTGCTTAATACTGACATCAATAATATTAGGAAAATCGCAATAT...   \nSRR306838.6196593 Ibis_Run100924_C3PO:6:29:1673...  TCTAGAATGTGAAATAACGTACTTCATGTGTCTTCTTACCAAAAAT...   \nSRR306838.6196593 Ibis_Run100924_C3PO:6:29:1673...  TCTAGAATGTGAAATAACGTACTTCATGTGTCTTCTTACCAAAAAT...   \nSRR306838.20767303 Ibis_Run100924_C3PO:6:104:68...  CAATCATCATCACTTTCTAATTCCAGAATATTTTCATCACCCCAAA...   \n\n                                                   compared_to   jaccard  \\\nsequence_id                                                                \nSRR306838.10559374 Ibis_Run100924_C3PO:6:51:176...      coding  0.037736   \nSRR306838.10559374 Ibis_Run100924_C3PO:6:51:176...  non_coding  0.000000   \nSRR306838.6196593 Ibis_Run100924_C3PO:6:29:1673...      coding  0.035088   \nSRR306838.6196593 Ibis_Run100924_C3PO:6:29:1673...  non_coding  0.017544   \nSRR306838.20767303 Ibis_Run100924_C3PO:6:104:68...      coding  0.092593   \n\n                                                    ksize  is_coding Notes  \nsequence_id                                                                 \nSRR306838.10559374 Ibis_Run100924_C3PO:6:51:176...     15       True   NaN  \nSRR306838.10559374 Ibis_Run100924_C3PO:6:51:176...     15       True   NaN  \nSRR306838.6196593 Ibis_Run100924_C3PO:6:29:1673...     15      False   NaN  \nSRR306838.6196593 Ibis_Run100924_C3PO:6:29:1673...     15      False   NaN  \nSRR306838.20767303 Ibis_Run100924_C3PO:6:104:68...     15      False   NaN  "
       },
       "execution_count": 97,
       "metadata": {},
       "output_type": "execute_result"
      }
     ],
     "persistentId": "f3c963f2-8657-4743-8cd3-a241b022e120",
     "text": "s = '''sequence_id\tsequence\tcompared_to\tjaccard\tksize\tis_coding\tNotes\nSRR306838.10559374 Ibis_Run100924_C3PO:6:51:17601:17119/1\tCGCTTGCTTAATACTGACATCAATAATATTAGGAAAATCGCAATATAACTGTAAATCCTGTTCTGTC\tcoding\t0.03773584906\t15\tTRUE\t\nSRR306838.10559374 Ibis_Run100924_C3PO:6:51:17601:17119/1\tCGCTTGCTTAATACTGACATCAATAATATTAGGAAAATCGCAATATAACTGTAAATCCTGTTCTGTC\tnon_coding\t0\t15\tTRUE\t\nSRR306838.6196593 Ibis_Run100924_C3PO:6:29:16733:12435/1\tTCTAGAATGTGAAATAACGTACTTCATGTGTCTTCTTACCAAAAATACCAACGATAAGGGGAAAAGCCATC\tcoding\t0.0350877193\t15\tFALSE\t\nSRR306838.6196593 Ibis_Run100924_C3PO:6:29:16733:12435/1\tTCTAGAATGTGAAATAACGTACTTCATGTGTCTTCTTACCAAAAATACCAACGATAAGGGGAAAAGCCATC\tnon_coding\t0.01754385965\t15\tFALSE\t\nSRR306838.20767303 Ibis_Run100924_C3PO:6:104:6864:5062/1\tCAATCATCATCACTTTCTAATTCCAGAATATTTTCATCACCCCAAAAAGAAATCCTAAATCCATTAGC\tcoding\t0.09259259259\t15\tFALSE\t\nSRR306838.20767303 Ibis_Run100924_C3PO:6:104:6864:5062/1\tCAATCATCATCACTTTCTAATTCCAGAATATTTTCATCACCCCAAAAAGAAATCCTAAATCCATTAGC\tnon_coding\t0.4074074074\t15\tFALSE\t\nSRR306838.12582274 Ibis_Run100924_C3PO:6:62:11779:17975/1\tCAAAAGTGAAGACCTCCCTGGGGTCTTCAAAGACAGCCTTTGCTCTCCATGTAGCCAATGGTGCTCT\tcoding\t0.03773584906\t15\tFALSE\t\nSRR306838.12582274 Ibis_Run100924_C3PO:6:62:11779:17975/1\tCAAAAGTGAAGACCTCCCTGGGGTCTTCAAAGACAGCCTTTGCTCTCCATGTAGCCAATGGTGCTCT\tnon_coding\t0.05660377358\t15\tFALSE\t\nSRR306838.13334230 Ibis_Run100924_C3PO:6:66:16579:20350/1\tGTAACCCTTAATTCCTCAGAAAAAATAGACAACATAGTGGAGTGGGATGGAGGAAC\tcoding\t0.04761904762\t15\tFALSE\t\nSRR306838.13334230 Ibis_Run100924_C3PO:6:66:16579:20350/1\tGTAACCCTTAATTCCTCAGAAAAAATAGACAACATAGTGGAGTGGGATGGAGGAAC\tnon_coding\t0.1428571429\t15\tFALSE\t\nSRR306838.2740879 Ibis_Run100924_C3PO:6:13:11155:5248/1\tCTGTGATTATTTTTTTTCCTAGCATTTGTTCTTTCAGAAAAGGACTGAACTCTAAATTCTGGACTTGAAGACTG\tcoding\t0.06666666667\t15\tTRUE\tSecond hit is in LINE element\nSRR306838.2740879 Ibis_Run100924_C3PO:6:13:11155:5248/1\tCTGTGATTATTTTTTTTCCTAGCATTTGTTCTTTCAGAAAAGGACTGAACTCTAAATTCTGGACTTGAAGACTG\tnon_coding\t0.08333333333\t15\tTRUE\tSecond hit is in LINE element\nSRR306838.6813354 Ibis_Run100924_C3PO:6:32:10591:13073/1\tGTTTGATTCTTGACAATTTCTTCTGGAACAAGTCTTTCATATACATTAGACTGGTATCATTGAGTTCTGAGC\tcoding\t0.03448275862\t15\tFALSE\tLots of imperfect matches\nSRR306838.6813354 Ibis_Run100924_C3PO:6:32:10591:13073/1\tGTTTGATTCTTGACAATTTCTTCTGGAACAAGTCTTTCATATACATTAGACTGGTATCATTGAGTTCTGAGC\tnon_coding\t0.08620689655\t15\tFALSE\tLots of imperfect matches\nSRR306838.23113368 Ibis_Run100924_C3PO:6:114:13840:18459/1\tCACAAGGCTAACATACACAATCTGTAACACGAGATGGATAGCACACACATATGACACAATTTC\tcoding\t0\t15\tFALSE\t\nSRR306838.23113368 Ibis_Run100924_C3PO:6:114:13840:18459/1\tCACAAGGCTAACATACACAATCTGTAACACGAGATGGATAGCACACACATATGACACAATTTC\tnon_coding\t0\t15\tFALSE\t\nSRR306838.10872941 Ibis_Run100924_C3PO:6:53:6164:10522/1\tCTGTAGTGTGGTCCATTCCCAGACAGCAACATGCAAGAATAAGTTTACAATACACTCAGCCCTTCTG\tcoding\t0.01886792453\t15\tFALSE\t\nSRR306838.10872941 Ibis_Run100924_C3PO:6:53:6164:10522/1\tCTGTAGTGTGGTCCATTCCCAGACAGCAACATGCAAGAATAAGTTTACAATACACTCAGCCCTTCTG\tnon_coding\t0.01886792453\t15\tFALSE\t\nSRR306838.6192120 Ibis_Run100924_C3PO:6:29:5833:11991/1\tTAGGAAAATAGTAATATTTGCAACTTATGAATGATAAGTCAGAAAAGTTACATGGAATGTTAAATTTT\tcoding\t0.1296296296\t15\tFALSE\t\nSRR306838.6192120 Ibis_Run100924_C3PO:6:29:5833:11991/1\tTAGGAAAATAGTAATATTTGCAACTTATGAATGATAAGTCAGAAAAGTTACATGGAATGTTAAATTTT\tnon_coding\t0.05555555556\t15\tFALSE\t\nSRR306838.21295280 Ibis_Run100924_C3PO:6:106:2590:13965/1\tCTGATAGACTGAAACTGGTTTTGTTATTCTTAACGTTCTCCAGTCTGCACTCTGCTGTGCTGTCTGTGCTC\tcoding\t0.1929824561\t15\tFALSE\t\nSRR306838.21295280 Ibis_Run100924_C3PO:6:106:2590:13965/1\tCTGATAGACTGAAACTGGTTTTGTTATTCTTAACGTTCTCCAGTCTGCACTCTGCTGTGCTGTCTGTGCTC\tnon_coding\t0.0701754386\t15\tFALSE\t\nSRR306838.21201208 Ibis_Run100924_C3PO:6:106:2763:5109/1\tTTAAGTTCTAGTCTGTGAGCACTTGTAGTTCAATAATCGTCATCTTCATCAGAGTCCATTACTTTTCTTCTGTTG\tcoding\t0.1147540984\t15\tFALSE\tstop codon\nSRR306838.21201208 Ibis_Run100924_C3PO:6:106:2763:5109/1\tTTAAGTTCTAGTCTGTGAGCACTTGTAGTTCAATAATCGTCATCTTCATCAGAGTCCATTACTTTTCTTCTGTTG\tnon_coding\t0.06557377049\t15\tFALSE\tstop codon\nSRR306838.18327923 Ibis_Run100924_C3PO:6:92:9077:13885/1\tAAATAAGGTAACATTTAACAATAATCTGATACACATAAATAGAGAAAGAGCAATTGATAAAGTAAATG\tcoding\t0.01851851852\t15\tFALSE\t\nSRR306838.18327923 Ibis_Run100924_C3PO:6:92:9077:13885/1\tAAATAAGGTAACATTTAACAATAATCTGATACACATAAATAGAGAAAGAGCAATTGATAAAGTAAATG\tnon_coding\t0.2222222222\t15\tFALSE\t\nSRR306838.4880582 Ibis_Run100924_C3PO:6:23:17413:5436/1\tCTTGGATCCACCATACTCAAGAGTTATTACACAAAGGGAAACAGAAAATAACCAAATGACATCAGAA\tcoding\t1\t15\tTRUE\t\nSRR306838.4880582 Ibis_Run100924_C3PO:6:23:17413:5436/1\tCTTGGATCCACCATACTCAAGAGTTATTACACAAAGGGAAACAGAAAATAACCAAATGACATCAGAA\tnon_coding\t0.1698113208\t15\tTRUE\t\nSRR306838.21417895 Ibis_Run100924_C3PO:6:107:8793:5012/1\tCCAACACATCCAATTTGTATTTTCTTAAATATGTGTTTCTTAGGTATCTAAGGATACATGAGCGAGCCC\tcoding\t0\t15\tFALSE\t\nSRR306838.21417895 Ibis_Run100924_C3PO:6:107:8793:5012/1\tCCAACACATCCAATTTGTATTTTCTTAAATATGTGTTTCTTAGGTATCTAAGGATACATGAGCGAGCCC\tnon_coding\t0.01818181818\t15\tFALSE\t\nSRR306838.17165743 Ibis_Run100924_C3PO:6:86:18789:18450/1\tATCTCTTGTAATAATTCAACATATTCCCTGGCTATTAACTAATTTCCAAGCCTGAACTGTCA\tcoding\t0.04166666667\t15\tFALSE\t\nSRR306838.17165743 Ibis_Run100924_C3PO:6:86:18789:18450/1\tATCTCTTGTAATAATTCAACATATTCCCTGGCTATTAACTAATTTCCAAGCCTGAACTGTCA\tnon_coding\t0\t15\tFALSE\t\nSRR306838.21229494 Ibis_Run100924_C3PO:6:106:6163:7753/1\tTGAGGCAAACAGCAAGAGTAAGCAGTGTTACTTGCAGGTACTTTGGTTAATGTTGATTTAAATTTTCATG\tcoding\t0\t15\tFALSE\tPerfect match to another location with a DNA element\nSRR306838.21229494 Ibis_Run100924_C3PO:6:106:6163:7753/1\tTGAGGCAAACAGCAAGAGTAAGCAGTGTTACTTGCAGGTACTTTGGTTAATGTTGATTTAAATTTTCATG\tnon_coding\t0.03571428571\t15\tFALSE\t\nSRR306838.21218773 Ibis_Run100924_C3PO:6:106:16921:6743/1\tCAATGCCGTGCCAGTGGAGACTGTTCTCGTATGCC\tcoding\t0.09523809524\t15\tTRUE\tDeinitely coding\nSRR306838.21218773 Ibis_Run100924_C3PO:6:106:16921:6743/1\tCAATGCCGTGCCAGTGGAGACTGTTCTCGTATGCC\tnon_coding\t0\t15\tTRUE\t\nSRR306838.20124664 Ibis_Run100924_C3PO:6:101:4701:5309/1\tCCTATACCTTCTGCATAATGAATTAACTAGAAATAACTTTGCAAGGAGAGCCAAAGCTAAGACCCCCGAAAC\tcoding\t0.01724137931\t15\tFALSE\tDefinitely noncoding\nSRR306838.20124664 Ibis_Run100924_C3PO:6:101:4701:5309/1\tCCTATACCTTCTGCATAATGAATTAACTAGAAATAACTTTGCAAGGAGAGCCAAAGCTAAGACCCCCGAAAC\tnon_coding\t1\t15\tFALSE\tDefinitely noncoding\nSRR306838.16841308 Ibis_Run100924_C3PO:6:85:6205:5805/1\tCAGGAATGAGGCCCCGACTAAAATTCGCTGCAAAAGCCCAAAATCTAGTTAGCATAAATTCCTCAGACATG\tcoding\t0\t15\tFALSE\t\nSRR306838.16841308 Ibis_Run100924_C3PO:6:85:6205:5805/1\tCAGGAATGAGGCCCCGACTAAAATTCGCTGCAAAAGCCCAAAATCTAGTTAGCATAAATTCCTCAGACATG\tnon_coding\t0.0701754386\t15\tFALSE\t'''\nblat_results = pd.read_csv(StringIO(s), sep='\\t', index_col=0)\nprint(blat_results.shape)\nblat_results.head()"
    },
    "executionTime": "2019-09-18T17:51:33.638Z"
   },
   {
    "cell": {
     "executionCount": 98,
     "executionEventId": "affe5572-815a-4ee8-a3e4-9e315e0061d3",
     "hasError": false,
     "id": "d833a363-e8f9-442c-a767-1590bf856592",
     "outputs": [
      {
       "data": {
        "text/plain": "sequence_id\nSRR306838.10559374 Ibis_Run100924_C3PO:6:51:17601:17119/1     True\nSRR306838.10559374 Ibis_Run100924_C3PO:6:51:17601:17119/1     True\nSRR306838.6196593 Ibis_Run100924_C3PO:6:29:16733:12435/1     False\nSRR306838.6196593 Ibis_Run100924_C3PO:6:29:16733:12435/1     False\nSRR306838.20767303 Ibis_Run100924_C3PO:6:104:6864:5062/1     False\nName: is_coding, dtype: bool"
       },
       "execution_count": 98,
       "metadata": {},
       "output_type": "execute_result"
      }
     ],
     "persistentId": "9fa82db5-58ea-4af3-acad-9097c2aa8bc5",
     "text": "true_coding = blat_results['is_coding']\ntrue_coding.head()"
    },
    "executionTime": "2019-09-18T17:51:42.413Z"
   },
   {
    "cell": {
     "executionCount": 99,
     "executionEventId": "3a3660bb-be14-420d-9f6a-0a7a6eb22e1e",
     "hasError": false,
     "id": "9f432a38-36f3-4adc-ab18-795fbc02b0ff",
     "outputs": [
      {
       "data": {
        "text/html": "<div>\n<style scoped>\n    .dataframe tbody tr th:only-of-type {\n        vertical-align: middle;\n    }\n\n    .dataframe tbody tr th {\n        vertical-align: top;\n    }\n\n    .dataframe thead th {\n        text-align: right;\n    }\n</style>\n<table border=\"1\" class=\"dataframe\">\n  <thead>\n    <tr style=\"text-align: right;\">\n      <th></th>\n      <th>read_id</th>\n      <th>max_peptide_coding_kmers</th>\n      <th>is_coding</th>\n    </tr>\n  </thead>\n  <tbody>\n    <tr>\n      <th>0</th>\n      <td>SRR306838.10559374 Ibis_Run100924_C3PO:6:51:17...</td>\n      <td>1.000000</td>\n      <td>True</td>\n    </tr>\n    <tr>\n      <th>0</th>\n      <td>SRR306838.10559374 Ibis_Run100924_C3PO:6:51:17...</td>\n      <td>1.000000</td>\n      <td>True</td>\n    </tr>\n    <tr>\n      <th>1</th>\n      <td>SRR306838.6196593 Ibis_Run100924_C3PO:6:29:167...</td>\n      <td>0.000000</td>\n      <td>False</td>\n    </tr>\n    <tr>\n      <th>1</th>\n      <td>SRR306838.6196593 Ibis_Run100924_C3PO:6:29:167...</td>\n      <td>0.000000</td>\n      <td>False</td>\n    </tr>\n    <tr>\n      <th>2</th>\n      <td>SRR306838.20767303 Ibis_Run100924_C3PO:6:104:6...</td>\n      <td>0.187500</td>\n      <td>False</td>\n    </tr>\n    <tr>\n      <th>2</th>\n      <td>SRR306838.20767303 Ibis_Run100924_C3PO:6:104:6...</td>\n      <td>0.187500</td>\n      <td>False</td>\n    </tr>\n    <tr>\n      <th>3</th>\n      <td>SRR306838.12582274 Ibis_Run100924_C3PO:6:62:11...</td>\n      <td>0.066667</td>\n      <td>False</td>\n    </tr>\n    <tr>\n      <th>3</th>\n      <td>SRR306838.12582274 Ibis_Run100924_C3PO:6:62:11...</td>\n      <td>0.066667</td>\n      <td>False</td>\n    </tr>\n    <tr>\n      <th>4</th>\n      <td>SRR306838.13334230 Ibis_Run100924_C3PO:6:66:16...</td>\n      <td>0.000000</td>\n      <td>False</td>\n    </tr>\n    <tr>\n      <th>4</th>\n      <td>SRR306838.13334230 Ibis_Run100924_C3PO:6:66:16...</td>\n      <td>0.000000</td>\n      <td>False</td>\n    </tr>\n    <tr>\n      <th>5</th>\n      <td>SRR306838.2740879 Ibis_Run100924_C3PO:6:13:111...</td>\n      <td>1.000000</td>\n      <td>True</td>\n    </tr>\n    <tr>\n      <th>5</th>\n      <td>SRR306838.2740879 Ibis_Run100924_C3PO:6:13:111...</td>\n      <td>1.000000</td>\n      <td>True</td>\n    </tr>\n    <tr>\n      <th>6</th>\n      <td>SRR306838.6813354 Ibis_Run100924_C3PO:6:32:105...</td>\n      <td>0.000000</td>\n      <td>False</td>\n    </tr>\n    <tr>\n      <th>6</th>\n      <td>SRR306838.6813354 Ibis_Run100924_C3PO:6:32:105...</td>\n      <td>0.000000</td>\n      <td>False</td>\n    </tr>\n    <tr>\n      <th>7</th>\n      <td>SRR306838.23113368 Ibis_Run100924_C3PO:6:114:1...</td>\n      <td>0.000000</td>\n      <td>False</td>\n    </tr>\n    <tr>\n      <th>7</th>\n      <td>SRR306838.23113368 Ibis_Run100924_C3PO:6:114:1...</td>\n      <td>0.000000</td>\n      <td>False</td>\n    </tr>\n    <tr>\n      <th>8</th>\n      <td>SRR306838.10872941 Ibis_Run100924_C3PO:6:53:61...</td>\n      <td>0.000000</td>\n      <td>False</td>\n    </tr>\n    <tr>\n      <th>8</th>\n      <td>SRR306838.10872941 Ibis_Run100924_C3PO:6:53:61...</td>\n      <td>0.000000</td>\n      <td>False</td>\n    </tr>\n    <tr>\n      <th>9</th>\n      <td>SRR306838.6192120 Ibis_Run100924_C3PO:6:29:583...</td>\n      <td>0.000000</td>\n      <td>False</td>\n    </tr>\n    <tr>\n      <th>9</th>\n      <td>SRR306838.6192120 Ibis_Run100924_C3PO:6:29:583...</td>\n      <td>0.000000</td>\n      <td>False</td>\n    </tr>\n    <tr>\n      <th>10</th>\n      <td>SRR306838.21295280 Ibis_Run100924_C3PO:6:106:2...</td>\n      <td>0.117647</td>\n      <td>False</td>\n    </tr>\n    <tr>\n      <th>10</th>\n      <td>SRR306838.21295280 Ibis_Run100924_C3PO:6:106:2...</td>\n      <td>0.117647</td>\n      <td>False</td>\n    </tr>\n    <tr>\n      <th>11</th>\n      <td>SRR306838.21201208 Ibis_Run100924_C3PO:6:106:2...</td>\n      <td>0.000000</td>\n      <td>False</td>\n    </tr>\n    <tr>\n      <th>11</th>\n      <td>SRR306838.21201208 Ibis_Run100924_C3PO:6:106:2...</td>\n      <td>0.000000</td>\n      <td>False</td>\n    </tr>\n    <tr>\n      <th>12</th>\n      <td>SRR306838.18327923 Ibis_Run100924_C3PO:6:92:90...</td>\n      <td>0.062500</td>\n      <td>False</td>\n    </tr>\n    <tr>\n      <th>12</th>\n      <td>SRR306838.18327923 Ibis_Run100924_C3PO:6:92:90...</td>\n      <td>0.062500</td>\n      <td>False</td>\n    </tr>\n    <tr>\n      <th>13</th>\n      <td>SRR306838.4880582 Ibis_Run100924_C3PO:6:23:174...</td>\n      <td>1.000000</td>\n      <td>True</td>\n    </tr>\n    <tr>\n      <th>13</th>\n      <td>SRR306838.4880582 Ibis_Run100924_C3PO:6:23:174...</td>\n      <td>1.000000</td>\n      <td>True</td>\n    </tr>\n    <tr>\n      <th>14</th>\n      <td>SRR306838.21417895 Ibis_Run100924_C3PO:6:107:8...</td>\n      <td>0.062500</td>\n      <td>False</td>\n    </tr>\n    <tr>\n      <th>14</th>\n      <td>SRR306838.21417895 Ibis_Run100924_C3PO:6:107:8...</td>\n      <td>0.062500</td>\n      <td>False</td>\n    </tr>\n    <tr>\n      <th>15</th>\n      <td>SRR306838.17165743 Ibis_Run100924_C3PO:6:86:18...</td>\n      <td>0.000000</td>\n      <td>False</td>\n    </tr>\n    <tr>\n      <th>15</th>\n      <td>SRR306838.17165743 Ibis_Run100924_C3PO:6:86:18...</td>\n      <td>0.000000</td>\n      <td>False</td>\n    </tr>\n    <tr>\n      <th>16</th>\n      <td>SRR306838.21229494 Ibis_Run100924_C3PO:6:106:6...</td>\n      <td>0.000000</td>\n      <td>False</td>\n    </tr>\n    <tr>\n      <th>16</th>\n      <td>SRR306838.21229494 Ibis_Run100924_C3PO:6:106:6...</td>\n      <td>0.000000</td>\n      <td>False</td>\n    </tr>\n    <tr>\n      <th>17</th>\n      <td>SRR306838.21218773 Ibis_Run100924_C3PO:6:106:1...</td>\n      <td>0.800000</td>\n      <td>True</td>\n    </tr>\n    <tr>\n      <th>17</th>\n      <td>SRR306838.21218773 Ibis_Run100924_C3PO:6:106:1...</td>\n      <td>0.800000</td>\n      <td>True</td>\n    </tr>\n    <tr>\n      <th>18</th>\n      <td>SRR306838.20124664 Ibis_Run100924_C3PO:6:101:4...</td>\n      <td>0.222222</td>\n      <td>False</td>\n    </tr>\n    <tr>\n      <th>18</th>\n      <td>SRR306838.20124664 Ibis_Run100924_C3PO:6:101:4...</td>\n      <td>0.222222</td>\n      <td>False</td>\n    </tr>\n    <tr>\n      <th>19</th>\n      <td>SRR306838.16841308 Ibis_Run100924_C3PO:6:85:62...</td>\n      <td>0.000000</td>\n      <td>False</td>\n    </tr>\n    <tr>\n      <th>19</th>\n      <td>SRR306838.16841308 Ibis_Run100924_C3PO:6:85:62...</td>\n      <td>0.000000</td>\n      <td>False</td>\n    </tr>\n  </tbody>\n</table>\n</div>",
        "text/plain": "                                              read_id  \\\n0   SRR306838.10559374 Ibis_Run100924_C3PO:6:51:17...   \n0   SRR306838.10559374 Ibis_Run100924_C3PO:6:51:17...   \n1   SRR306838.6196593 Ibis_Run100924_C3PO:6:29:167...   \n1   SRR306838.6196593 Ibis_Run100924_C3PO:6:29:167...   \n2   SRR306838.20767303 Ibis_Run100924_C3PO:6:104:6...   \n2   SRR306838.20767303 Ibis_Run100924_C3PO:6:104:6...   \n3   SRR306838.12582274 Ibis_Run100924_C3PO:6:62:11...   \n3   SRR306838.12582274 Ibis_Run100924_C3PO:6:62:11...   \n4   SRR306838.13334230 Ibis_Run100924_C3PO:6:66:16...   \n4   SRR306838.13334230 Ibis_Run100924_C3PO:6:66:16...   \n5   SRR306838.2740879 Ibis_Run100924_C3PO:6:13:111...   \n5   SRR306838.2740879 Ibis_Run100924_C3PO:6:13:111...   \n6   SRR306838.6813354 Ibis_Run100924_C3PO:6:32:105...   \n6   SRR306838.6813354 Ibis_Run100924_C3PO:6:32:105...   \n7   SRR306838.23113368 Ibis_Run100924_C3PO:6:114:1...   \n7   SRR306838.23113368 Ibis_Run100924_C3PO:6:114:1...   \n8   SRR306838.10872941 Ibis_Run100924_C3PO:6:53:61...   \n8   SRR306838.10872941 Ibis_Run100924_C3PO:6:53:61...   \n9   SRR306838.6192120 Ibis_Run100924_C3PO:6:29:583...   \n9   SRR306838.6192120 Ibis_Run100924_C3PO:6:29:583...   \n10  SRR306838.21295280 Ibis_Run100924_C3PO:6:106:2...   \n10  SRR306838.21295280 Ibis_Run100924_C3PO:6:106:2...   \n11  SRR306838.21201208 Ibis_Run100924_C3PO:6:106:2...   \n11  SRR306838.21201208 Ibis_Run100924_C3PO:6:106:2...   \n12  SRR306838.18327923 Ibis_Run100924_C3PO:6:92:90...   \n12  SRR306838.18327923 Ibis_Run100924_C3PO:6:92:90...   \n13  SRR306838.4880582 Ibis_Run100924_C3PO:6:23:174...   \n13  SRR306838.4880582 Ibis_Run100924_C3PO:6:23:174...   \n14  SRR306838.21417895 Ibis_Run100924_C3PO:6:107:8...   \n14  SRR306838.21417895 Ibis_Run100924_C3PO:6:107:8...   \n15  SRR306838.17165743 Ibis_Run100924_C3PO:6:86:18...   \n15  SRR306838.17165743 Ibis_Run100924_C3PO:6:86:18...   \n16  SRR306838.21229494 Ibis_Run100924_C3PO:6:106:6...   \n16  SRR306838.21229494 Ibis_Run100924_C3PO:6:106:6...   \n17  SRR306838.21218773 Ibis_Run100924_C3PO:6:106:1...   \n17  SRR306838.21218773 Ibis_Run100924_C3PO:6:106:1...   \n18  SRR306838.20124664 Ibis_Run100924_C3PO:6:101:4...   \n18  SRR306838.20124664 Ibis_Run100924_C3PO:6:101:4...   \n19  SRR306838.16841308 Ibis_Run100924_C3PO:6:85:62...   \n19  SRR306838.16841308 Ibis_Run100924_C3PO:6:85:62...   \n\n    max_peptide_coding_kmers  is_coding  \n0                   1.000000       True  \n0                   1.000000       True  \n1                   0.000000      False  \n1                   0.000000      False  \n2                   0.187500      False  \n2                   0.187500      False  \n3                   0.066667      False  \n3                   0.066667      False  \n4                   0.000000      False  \n4                   0.000000      False  \n5                   1.000000       True  \n5                   1.000000       True  \n6                   0.000000      False  \n6                   0.000000      False  \n7                   0.000000      False  \n7                   0.000000      False  \n8                   0.000000      False  \n8                   0.000000      False  \n9                   0.000000      False  \n9                   0.000000      False  \n10                  0.117647      False  \n10                  0.117647      False  \n11                  0.000000      False  \n11                  0.000000      False  \n12                  0.062500      False  \n12                  0.062500      False  \n13                  1.000000       True  \n13                  1.000000       True  \n14                  0.062500      False  \n14                  0.062500      False  \n15                  0.000000      False  \n15                  0.000000      False  \n16                  0.000000      False  \n16                  0.000000      False  \n17                  0.800000       True  \n17                  0.800000       True  \n18                  0.222222      False  \n18                  0.222222      False  \n19                  0.000000      False  \n19                  0.000000      False  "
       },
       "execution_count": 99,
       "metadata": {},
       "output_type": "execute_result"
      }
     ],
     "persistentId": "6b55768a-f285-4a67-ab1a-cb748e428978",
     "text": "classification_df.join(true_coding, on='read_id')"
    },
    "executionTime": "2019-09-18T17:52:00.226Z"
   },
   {
    "cell": {
     "executionCount": 100,
     "executionEventId": "3500367a-e05d-4b87-beeb-bc6a7cc10ebf",
     "hasError": false,
     "id": "d4d76dae-d882-466f-a97c-1685492140b3",
     "outputs": [
      {
       "name": "stdout",
       "output_type": "stream",
       "text": "(20, 1)\n"
      },
      {
       "data": {
        "text/html": "<div>\n<style scoped>\n    .dataframe tbody tr th:only-of-type {\n        vertical-align: middle;\n    }\n\n    .dataframe tbody tr th {\n        vertical-align: top;\n    }\n\n    .dataframe thead th {\n        text-align: right;\n    }\n</style>\n<table border=\"1\" class=\"dataframe\">\n  <thead>\n    <tr style=\"text-align: right;\">\n      <th></th>\n      <th>max_peptide_coding_kmers</th>\n    </tr>\n    <tr>\n      <th>read_id</th>\n      <th></th>\n    </tr>\n  </thead>\n  <tbody>\n    <tr>\n      <th>SRR306838.10559374 Ibis_Run100924_C3PO:6:51:17601:17119/1</th>\n      <td>1.000000</td>\n    </tr>\n    <tr>\n      <th>SRR306838.6196593 Ibis_Run100924_C3PO:6:29:16733:12435/1</th>\n      <td>0.000000</td>\n    </tr>\n    <tr>\n      <th>SRR306838.20767303 Ibis_Run100924_C3PO:6:104:6864:5062/1</th>\n      <td>0.187500</td>\n    </tr>\n    <tr>\n      <th>SRR306838.12582274 Ibis_Run100924_C3PO:6:62:11779:17975/1</th>\n      <td>0.066667</td>\n    </tr>\n    <tr>\n      <th>SRR306838.13334230 Ibis_Run100924_C3PO:6:66:16579:20350/1</th>\n      <td>0.000000</td>\n    </tr>\n  </tbody>\n</table>\n</div>",
        "text/plain": "                                                    max_peptide_coding_kmers\nread_id                                                                     \nSRR306838.10559374 Ibis_Run100924_C3PO:6:51:176...                  1.000000\nSRR306838.6196593 Ibis_Run100924_C3PO:6:29:1673...                  0.000000\nSRR306838.20767303 Ibis_Run100924_C3PO:6:104:68...                  0.187500\nSRR306838.12582274 Ibis_Run100924_C3PO:6:62:117...                  0.066667\nSRR306838.13334230 Ibis_Run100924_C3PO:6:66:165...                  0.000000"
       },
       "execution_count": 100,
       "metadata": {},
       "output_type": "execute_result"
      }
     ],
     "persistentId": "96970676-e85a-49f8-9ec5-dda47db735e1",
     "text": "classification_df = pd.DataFrame(classification_lines, columns=['read_id', 'max_peptide_coding_kmers'])\nclassification_df = classification_df.set_index(\"read_id\")\nprint(classification_df.shape)\nclassification_df.head()"
    },
    "executionTime": "2019-09-18T17:52:39.160Z"
   },
   {
    "cell": {
     "executionCount": 101,
     "executionEventId": "21bb046c-4c20-4cc1-9ba8-b3c1fe4a637a",
     "hasError": true,
     "id": "9f432a38-36f3-4adc-ab18-795fbc02b0ff",
     "outputs": [
      {
       "ename": "ValueError",
       "evalue": "cannot reindex from a duplicate axis",
       "output_type": "error",
       "traceback": [
        "\u001b[0;31m---------------------------------------------------------------------------\u001b[0m",
        "\u001b[0;31mValueError\u001b[0m                                Traceback (most recent call last)",
        "\u001b[0;32m<ipython-input-101-fd4c9160a3c2>\u001b[0m in \u001b[0;36m<module>\u001b[0;34m()\u001b[0m\n\u001b[0;32m----> 1\u001b[0;31m \u001b[0mclassification_df\u001b[0m\u001b[0;34m[\u001b[0m\u001b[0;34m'is_coding'\u001b[0m\u001b[0;34m]\u001b[0m \u001b[0;34m=\u001b[0m \u001b[0mtrue_coding\u001b[0m\u001b[0;34m\u001b[0m\u001b[0;34m\u001b[0m\u001b[0m\n\u001b[0m\u001b[1;32m      2\u001b[0m \u001b[0mprint\u001b[0m\u001b[0;34m(\u001b[0m\u001b[0mclassification_df\u001b[0m\u001b[0;34m.\u001b[0m\u001b[0mshape\u001b[0m\u001b[0;34m)\u001b[0m\u001b[0;34m\u001b[0m\u001b[0;34m\u001b[0m\u001b[0m\n\u001b[1;32m      3\u001b[0m \u001b[0mclassification_df\u001b[0m\u001b[0;34m.\u001b[0m\u001b[0mhead\u001b[0m\u001b[0;34m(\u001b[0m\u001b[0;34m)\u001b[0m\u001b[0;34m\u001b[0m\u001b[0;34m\u001b[0m\u001b[0m\n",
        "\u001b[0;32m~/miniconda3/envs/kmer-hashing/lib/python3.6/site-packages/pandas/core/frame.py\u001b[0m in \u001b[0;36m__setitem__\u001b[0;34m(self, key, value)\u001b[0m\n\u001b[1;32m   3368\u001b[0m         \u001b[0;32melse\u001b[0m\u001b[0;34m:\u001b[0m\u001b[0;34m\u001b[0m\u001b[0;34m\u001b[0m\u001b[0m\n\u001b[1;32m   3369\u001b[0m             \u001b[0;31m# set column\u001b[0m\u001b[0;34m\u001b[0m\u001b[0;34m\u001b[0m\u001b[0;34m\u001b[0m\u001b[0m\n\u001b[0;32m-> 3370\u001b[0;31m             \u001b[0mself\u001b[0m\u001b[0;34m.\u001b[0m\u001b[0m_set_item\u001b[0m\u001b[0;34m(\u001b[0m\u001b[0mkey\u001b[0m\u001b[0;34m,\u001b[0m \u001b[0mvalue\u001b[0m\u001b[0;34m)\u001b[0m\u001b[0;34m\u001b[0m\u001b[0;34m\u001b[0m\u001b[0m\n\u001b[0m\u001b[1;32m   3371\u001b[0m \u001b[0;34m\u001b[0m\u001b[0m\n\u001b[1;32m   3372\u001b[0m     \u001b[0;32mdef\u001b[0m \u001b[0m_setitem_slice\u001b[0m\u001b[0;34m(\u001b[0m\u001b[0mself\u001b[0m\u001b[0;34m,\u001b[0m \u001b[0mkey\u001b[0m\u001b[0;34m,\u001b[0m \u001b[0mvalue\u001b[0m\u001b[0;34m)\u001b[0m\u001b[0;34m:\u001b[0m\u001b[0;34m\u001b[0m\u001b[0;34m\u001b[0m\u001b[0m\n",
        "\u001b[0;32m~/miniconda3/envs/kmer-hashing/lib/python3.6/site-packages/pandas/core/frame.py\u001b[0m in \u001b[0;36m_set_item\u001b[0;34m(self, key, value)\u001b[0m\n\u001b[1;32m   3443\u001b[0m \u001b[0;34m\u001b[0m\u001b[0m\n\u001b[1;32m   3444\u001b[0m         \u001b[0mself\u001b[0m\u001b[0;34m.\u001b[0m\u001b[0m_ensure_valid_index\u001b[0m\u001b[0;34m(\u001b[0m\u001b[0mvalue\u001b[0m\u001b[0;34m)\u001b[0m\u001b[0;34m\u001b[0m\u001b[0;34m\u001b[0m\u001b[0m\n\u001b[0;32m-> 3445\u001b[0;31m         \u001b[0mvalue\u001b[0m \u001b[0;34m=\u001b[0m \u001b[0mself\u001b[0m\u001b[0;34m.\u001b[0m\u001b[0m_sanitize_column\u001b[0m\u001b[0;34m(\u001b[0m\u001b[0mkey\u001b[0m\u001b[0;34m,\u001b[0m \u001b[0mvalue\u001b[0m\u001b[0;34m)\u001b[0m\u001b[0;34m\u001b[0m\u001b[0;34m\u001b[0m\u001b[0m\n\u001b[0m\u001b[1;32m   3446\u001b[0m         \u001b[0mNDFrame\u001b[0m\u001b[0;34m.\u001b[0m\u001b[0m_set_item\u001b[0m\u001b[0;34m(\u001b[0m\u001b[0mself\u001b[0m\u001b[0;34m,\u001b[0m \u001b[0mkey\u001b[0m\u001b[0;34m,\u001b[0m \u001b[0mvalue\u001b[0m\u001b[0;34m)\u001b[0m\u001b[0;34m\u001b[0m\u001b[0;34m\u001b[0m\u001b[0m\n\u001b[1;32m   3447\u001b[0m \u001b[0;34m\u001b[0m\u001b[0m\n",
        "\u001b[0;32m~/miniconda3/envs/kmer-hashing/lib/python3.6/site-packages/pandas/core/frame.py\u001b[0m in \u001b[0;36m_sanitize_column\u001b[0;34m(self, key, value, broadcast)\u001b[0m\n\u001b[1;32m   3605\u001b[0m \u001b[0;34m\u001b[0m\u001b[0m\n\u001b[1;32m   3606\u001b[0m         \u001b[0;32mif\u001b[0m \u001b[0misinstance\u001b[0m\u001b[0;34m(\u001b[0m\u001b[0mvalue\u001b[0m\u001b[0;34m,\u001b[0m \u001b[0mSeries\u001b[0m\u001b[0;34m)\u001b[0m\u001b[0;34m:\u001b[0m\u001b[0;34m\u001b[0m\u001b[0;34m\u001b[0m\u001b[0m\n\u001b[0;32m-> 3607\u001b[0;31m             \u001b[0mvalue\u001b[0m \u001b[0;34m=\u001b[0m \u001b[0mreindexer\u001b[0m\u001b[0;34m(\u001b[0m\u001b[0mvalue\u001b[0m\u001b[0;34m)\u001b[0m\u001b[0;34m\u001b[0m\u001b[0;34m\u001b[0m\u001b[0m\n\u001b[0m\u001b[1;32m   3608\u001b[0m \u001b[0;34m\u001b[0m\u001b[0m\n\u001b[1;32m   3609\u001b[0m         \u001b[0;32melif\u001b[0m \u001b[0misinstance\u001b[0m\u001b[0;34m(\u001b[0m\u001b[0mvalue\u001b[0m\u001b[0;34m,\u001b[0m \u001b[0mDataFrame\u001b[0m\u001b[0;34m)\u001b[0m\u001b[0;34m:\u001b[0m\u001b[0;34m\u001b[0m\u001b[0;34m\u001b[0m\u001b[0m\n",
        "\u001b[0;32m~/miniconda3/envs/kmer-hashing/lib/python3.6/site-packages/pandas/core/frame.py\u001b[0m in \u001b[0;36mreindexer\u001b[0;34m(value)\u001b[0m\n\u001b[1;32m   3597\u001b[0m                     \u001b[0;31m# duplicate axis\u001b[0m\u001b[0;34m\u001b[0m\u001b[0;34m\u001b[0m\u001b[0;34m\u001b[0m\u001b[0m\n\u001b[1;32m   3598\u001b[0m                     \u001b[0;32mif\u001b[0m \u001b[0;32mnot\u001b[0m \u001b[0mvalue\u001b[0m\u001b[0;34m.\u001b[0m\u001b[0mindex\u001b[0m\u001b[0;34m.\u001b[0m\u001b[0mis_unique\u001b[0m\u001b[0;34m:\u001b[0m\u001b[0;34m\u001b[0m\u001b[0;34m\u001b[0m\u001b[0m\n\u001b[0;32m-> 3599\u001b[0;31m                         \u001b[0;32mraise\u001b[0m \u001b[0me\u001b[0m\u001b[0;34m\u001b[0m\u001b[0;34m\u001b[0m\u001b[0m\n\u001b[0m\u001b[1;32m   3600\u001b[0m \u001b[0;34m\u001b[0m\u001b[0m\n\u001b[1;32m   3601\u001b[0m                     \u001b[0;31m# other\u001b[0m\u001b[0;34m\u001b[0m\u001b[0;34m\u001b[0m\u001b[0;34m\u001b[0m\u001b[0m\n",
        "\u001b[0;32m~/miniconda3/envs/kmer-hashing/lib/python3.6/site-packages/pandas/core/frame.py\u001b[0m in \u001b[0;36mreindexer\u001b[0;34m(value)\u001b[0m\n\u001b[1;32m   3592\u001b[0m                 \u001b[0;31m# GH 4107\u001b[0m\u001b[0;34m\u001b[0m\u001b[0;34m\u001b[0m\u001b[0;34m\u001b[0m\u001b[0m\n\u001b[1;32m   3593\u001b[0m                 \u001b[0;32mtry\u001b[0m\u001b[0;34m:\u001b[0m\u001b[0;34m\u001b[0m\u001b[0;34m\u001b[0m\u001b[0m\n\u001b[0;32m-> 3594\u001b[0;31m                     \u001b[0mvalue\u001b[0m \u001b[0;34m=\u001b[0m \u001b[0mvalue\u001b[0m\u001b[0;34m.\u001b[0m\u001b[0mreindex\u001b[0m\u001b[0;34m(\u001b[0m\u001b[0mself\u001b[0m\u001b[0;34m.\u001b[0m\u001b[0mindex\u001b[0m\u001b[0;34m)\u001b[0m\u001b[0;34m.\u001b[0m\u001b[0m_values\u001b[0m\u001b[0;34m\u001b[0m\u001b[0;34m\u001b[0m\u001b[0m\n\u001b[0m\u001b[1;32m   3595\u001b[0m                 \u001b[0;32mexcept\u001b[0m \u001b[0mException\u001b[0m \u001b[0;32mas\u001b[0m \u001b[0me\u001b[0m\u001b[0;34m:\u001b[0m\u001b[0;34m\u001b[0m\u001b[0;34m\u001b[0m\u001b[0m\n\u001b[1;32m   3596\u001b[0m \u001b[0;34m\u001b[0m\u001b[0m\n",
        "\u001b[0;32m~/miniconda3/envs/kmer-hashing/lib/python3.6/site-packages/pandas/core/series.py\u001b[0m in \u001b[0;36mreindex\u001b[0;34m(self, index, **kwargs)\u001b[0m\n\u001b[1;32m   3736\u001b[0m     \u001b[0;34m@\u001b[0m\u001b[0mAppender\u001b[0m\u001b[0;34m(\u001b[0m\u001b[0mgeneric\u001b[0m\u001b[0;34m.\u001b[0m\u001b[0mNDFrame\u001b[0m\u001b[0;34m.\u001b[0m\u001b[0mreindex\u001b[0m\u001b[0;34m.\u001b[0m\u001b[0m__doc__\u001b[0m\u001b[0;34m)\u001b[0m\u001b[0;34m\u001b[0m\u001b[0;34m\u001b[0m\u001b[0m\n\u001b[1;32m   3737\u001b[0m     \u001b[0;32mdef\u001b[0m \u001b[0mreindex\u001b[0m\u001b[0;34m(\u001b[0m\u001b[0mself\u001b[0m\u001b[0;34m,\u001b[0m \u001b[0mindex\u001b[0m\u001b[0;34m=\u001b[0m\u001b[0;32mNone\u001b[0m\u001b[0;34m,\u001b[0m \u001b[0;34m**\u001b[0m\u001b[0mkwargs\u001b[0m\u001b[0;34m)\u001b[0m\u001b[0;34m:\u001b[0m\u001b[0;34m\u001b[0m\u001b[0;34m\u001b[0m\u001b[0m\n\u001b[0;32m-> 3738\u001b[0;31m         \u001b[0;32mreturn\u001b[0m \u001b[0msuper\u001b[0m\u001b[0;34m(\u001b[0m\u001b[0mSeries\u001b[0m\u001b[0;34m,\u001b[0m \u001b[0mself\u001b[0m\u001b[0;34m)\u001b[0m\u001b[0;34m.\u001b[0m\u001b[0mreindex\u001b[0m\u001b[0;34m(\u001b[0m\u001b[0mindex\u001b[0m\u001b[0;34m=\u001b[0m\u001b[0mindex\u001b[0m\u001b[0;34m,\u001b[0m \u001b[0;34m**\u001b[0m\u001b[0mkwargs\u001b[0m\u001b[0;34m)\u001b[0m\u001b[0;34m\u001b[0m\u001b[0;34m\u001b[0m\u001b[0m\n\u001b[0m\u001b[1;32m   3739\u001b[0m \u001b[0;34m\u001b[0m\u001b[0m\n\u001b[1;32m   3740\u001b[0m     def drop(self, labels=None, axis=0, index=None, columns=None,\n",
        "\u001b[0;32m~/miniconda3/envs/kmer-hashing/lib/python3.6/site-packages/pandas/core/generic.py\u001b[0m in \u001b[0;36mreindex\u001b[0;34m(self, *args, **kwargs)\u001b[0m\n\u001b[1;32m   4354\u001b[0m         \u001b[0;31m# perform the reindex on the axes\u001b[0m\u001b[0;34m\u001b[0m\u001b[0;34m\u001b[0m\u001b[0;34m\u001b[0m\u001b[0m\n\u001b[1;32m   4355\u001b[0m         return self._reindex_axes(axes, level, limit, tolerance, method,\n\u001b[0;32m-> 4356\u001b[0;31m                                   fill_value, copy).__finalize__(self)\n\u001b[0m\u001b[1;32m   4357\u001b[0m \u001b[0;34m\u001b[0m\u001b[0m\n\u001b[1;32m   4358\u001b[0m     def _reindex_axes(self, axes, level, limit, tolerance, method, fill_value,\n",
        "\u001b[0;32m~/miniconda3/envs/kmer-hashing/lib/python3.6/site-packages/pandas/core/generic.py\u001b[0m in \u001b[0;36m_reindex_axes\u001b[0;34m(self, axes, level, limit, tolerance, method, fill_value, copy)\u001b[0m\n\u001b[1;32m   4372\u001b[0m             obj = obj._reindex_with_indexers({axis: [new_index, indexer]},\n\u001b[1;32m   4373\u001b[0m                                              \u001b[0mfill_value\u001b[0m\u001b[0;34m=\u001b[0m\u001b[0mfill_value\u001b[0m\u001b[0;34m,\u001b[0m\u001b[0;34m\u001b[0m\u001b[0;34m\u001b[0m\u001b[0m\n\u001b[0;32m-> 4374\u001b[0;31m                                              copy=copy, allow_dups=False)\n\u001b[0m\u001b[1;32m   4375\u001b[0m \u001b[0;34m\u001b[0m\u001b[0m\n\u001b[1;32m   4376\u001b[0m         \u001b[0;32mreturn\u001b[0m \u001b[0mobj\u001b[0m\u001b[0;34m\u001b[0m\u001b[0;34m\u001b[0m\u001b[0m\n",
        "\u001b[0;32m~/miniconda3/envs/kmer-hashing/lib/python3.6/site-packages/pandas/core/generic.py\u001b[0m in \u001b[0;36m_reindex_with_indexers\u001b[0;34m(self, reindexers, fill_value, copy, allow_dups)\u001b[0m\n\u001b[1;32m   4488\u001b[0m                                                 \u001b[0mfill_value\u001b[0m\u001b[0;34m=\u001b[0m\u001b[0mfill_value\u001b[0m\u001b[0;34m,\u001b[0m\u001b[0;34m\u001b[0m\u001b[0;34m\u001b[0m\u001b[0m\n\u001b[1;32m   4489\u001b[0m                                                 \u001b[0mallow_dups\u001b[0m\u001b[0;34m=\u001b[0m\u001b[0mallow_dups\u001b[0m\u001b[0;34m,\u001b[0m\u001b[0;34m\u001b[0m\u001b[0;34m\u001b[0m\u001b[0m\n\u001b[0;32m-> 4490\u001b[0;31m                                                 copy=copy)\n\u001b[0m\u001b[1;32m   4491\u001b[0m \u001b[0;34m\u001b[0m\u001b[0m\n\u001b[1;32m   4492\u001b[0m         \u001b[0;32mif\u001b[0m \u001b[0mcopy\u001b[0m \u001b[0;32mand\u001b[0m \u001b[0mnew_data\u001b[0m \u001b[0;32mis\u001b[0m \u001b[0mself\u001b[0m\u001b[0;34m.\u001b[0m\u001b[0m_data\u001b[0m\u001b[0;34m:\u001b[0m\u001b[0;34m\u001b[0m\u001b[0;34m\u001b[0m\u001b[0m\n",
        "\u001b[0;32m~/miniconda3/envs/kmer-hashing/lib/python3.6/site-packages/pandas/core/internals/managers.py\u001b[0m in \u001b[0;36mreindex_indexer\u001b[0;34m(self, new_axis, indexer, axis, fill_value, allow_dups, copy)\u001b[0m\n\u001b[1;32m   1222\u001b[0m         \u001b[0;31m# some axes don't allow reindexing with dups\u001b[0m\u001b[0;34m\u001b[0m\u001b[0;34m\u001b[0m\u001b[0;34m\u001b[0m\u001b[0m\n\u001b[1;32m   1223\u001b[0m         \u001b[0;32mif\u001b[0m \u001b[0;32mnot\u001b[0m \u001b[0mallow_dups\u001b[0m\u001b[0;34m:\u001b[0m\u001b[0;34m\u001b[0m\u001b[0;34m\u001b[0m\u001b[0m\n\u001b[0;32m-> 1224\u001b[0;31m             \u001b[0mself\u001b[0m\u001b[0;34m.\u001b[0m\u001b[0maxes\u001b[0m\u001b[0;34m[\u001b[0m\u001b[0maxis\u001b[0m\u001b[0;34m]\u001b[0m\u001b[0;34m.\u001b[0m\u001b[0m_can_reindex\u001b[0m\u001b[0;34m(\u001b[0m\u001b[0mindexer\u001b[0m\u001b[0;34m)\u001b[0m\u001b[0;34m\u001b[0m\u001b[0;34m\u001b[0m\u001b[0m\n\u001b[0m\u001b[1;32m   1225\u001b[0m \u001b[0;34m\u001b[0m\u001b[0m\n\u001b[1;32m   1226\u001b[0m         \u001b[0;32mif\u001b[0m \u001b[0maxis\u001b[0m \u001b[0;34m>=\u001b[0m \u001b[0mself\u001b[0m\u001b[0;34m.\u001b[0m\u001b[0mndim\u001b[0m\u001b[0;34m:\u001b[0m\u001b[0;34m\u001b[0m\u001b[0;34m\u001b[0m\u001b[0m\n",
        "\u001b[0;32m~/miniconda3/envs/kmer-hashing/lib/python3.6/site-packages/pandas/core/indexes/base.py\u001b[0m in \u001b[0;36m_can_reindex\u001b[0;34m(self, indexer)\u001b[0m\n\u001b[1;32m   3085\u001b[0m         \u001b[0;31m# trying to reindex on an axis with duplicates\u001b[0m\u001b[0;34m\u001b[0m\u001b[0;34m\u001b[0m\u001b[0;34m\u001b[0m\u001b[0m\n\u001b[1;32m   3086\u001b[0m         \u001b[0;32mif\u001b[0m \u001b[0;32mnot\u001b[0m \u001b[0mself\u001b[0m\u001b[0;34m.\u001b[0m\u001b[0mis_unique\u001b[0m \u001b[0;32mand\u001b[0m \u001b[0mlen\u001b[0m\u001b[0;34m(\u001b[0m\u001b[0mindexer\u001b[0m\u001b[0;34m)\u001b[0m\u001b[0;34m:\u001b[0m\u001b[0;34m\u001b[0m\u001b[0;34m\u001b[0m\u001b[0m\n\u001b[0;32m-> 3087\u001b[0;31m             \u001b[0;32mraise\u001b[0m \u001b[0mValueError\u001b[0m\u001b[0;34m(\u001b[0m\u001b[0;34m\"cannot reindex from a duplicate axis\"\u001b[0m\u001b[0;34m)\u001b[0m\u001b[0;34m\u001b[0m\u001b[0;34m\u001b[0m\u001b[0m\n\u001b[0m\u001b[1;32m   3088\u001b[0m \u001b[0;34m\u001b[0m\u001b[0m\n\u001b[1;32m   3089\u001b[0m     def reindex(self, target, method=None, level=None, limit=None,\n",
        "\u001b[0;31mValueError\u001b[0m: cannot reindex from a duplicate axis"
       ]
      }
     ],
     "persistentId": "6b55768a-f285-4a67-ab1a-cb748e428978",
     "text": "classification_df['is_coding'] = true_coding\nprint(classification_df.shape)\nclassification_df.head()"
    },
    "executionTime": "2019-09-18T17:52:58.322Z"
   },
   {
    "cell": {
     "executionCount": 102,
     "executionEventId": "6ac4f1ab-a907-4119-8e05-57fe25712b00",
     "hasError": false,
     "id": "d4d76dae-d882-466f-a97c-1685492140b3",
     "outputs": [
      {
       "name": "stdout",
       "output_type": "stream",
       "text": "(20, 1)\n"
      },
      {
       "data": {
        "text/html": "<div>\n<style scoped>\n    .dataframe tbody tr th:only-of-type {\n        vertical-align: middle;\n    }\n\n    .dataframe tbody tr th {\n        vertical-align: top;\n    }\n\n    .dataframe thead th {\n        text-align: right;\n    }\n</style>\n<table border=\"1\" class=\"dataframe\">\n  <thead>\n    <tr style=\"text-align: right;\">\n      <th></th>\n      <th>max_peptide_coding_kmers</th>\n    </tr>\n    <tr>\n      <th>read_id</th>\n      <th></th>\n    </tr>\n  </thead>\n  <tbody>\n    <tr>\n      <th>SRR306838.10559374 Ibis_Run100924_C3PO:6:51:17601:17119/1</th>\n      <td>1.000000</td>\n    </tr>\n    <tr>\n      <th>SRR306838.6196593 Ibis_Run100924_C3PO:6:29:16733:12435/1</th>\n      <td>0.000000</td>\n    </tr>\n    <tr>\n      <th>SRR306838.20767303 Ibis_Run100924_C3PO:6:104:6864:5062/1</th>\n      <td>0.187500</td>\n    </tr>\n    <tr>\n      <th>SRR306838.12582274 Ibis_Run100924_C3PO:6:62:11779:17975/1</th>\n      <td>0.066667</td>\n    </tr>\n    <tr>\n      <th>SRR306838.13334230 Ibis_Run100924_C3PO:6:66:16579:20350/1</th>\n      <td>0.000000</td>\n    </tr>\n  </tbody>\n</table>\n</div>",
        "text/plain": "                                                    max_peptide_coding_kmers\nread_id                                                                     \nSRR306838.10559374 Ibis_Run100924_C3PO:6:51:176...                  1.000000\nSRR306838.6196593 Ibis_Run100924_C3PO:6:29:1673...                  0.000000\nSRR306838.20767303 Ibis_Run100924_C3PO:6:104:68...                  0.187500\nSRR306838.12582274 Ibis_Run100924_C3PO:6:62:117...                  0.066667\nSRR306838.13334230 Ibis_Run100924_C3PO:6:66:165...                  0.000000"
       },
       "execution_count": 102,
       "metadata": {},
       "output_type": "execute_result"
      }
     ],
     "persistentId": "96970676-e85a-49f8-9ec5-dda47db735e1",
     "text": "classification_df = pd.DataFrame(classification_lines, columns=['read_id', 'max_peptide_coding_kmers'])\nclassification_df = classification_df.set_index(\"read_id\")\nprint(classification_df.shape)\nclassification_df.head()"
    },
    "executionTime": "2019-09-18T17:53:12.831Z"
   },
   {
    "cell": {
     "executionCount": 103,
     "executionEventId": "9ad16a1b-b8b5-4c34-8c9f-396667b913ca",
     "hasError": false,
     "id": "a7e882a3-119b-4ee4-979c-024f9698ca4b",
     "outputs": [
      {
       "name": "stdout",
       "output_type": "stream",
       "text": "(40, 6)\n"
      },
      {
       "data": {
        "text/html": "<div>\n<style scoped>\n    .dataframe tbody tr th:only-of-type {\n        vertical-align: middle;\n    }\n\n    .dataframe tbody tr th {\n        vertical-align: top;\n    }\n\n    .dataframe thead th {\n        text-align: right;\n    }\n</style>\n<table border=\"1\" class=\"dataframe\">\n  <thead>\n    <tr style=\"text-align: right;\">\n      <th></th>\n      <th>sequence</th>\n      <th>compared_to</th>\n      <th>jaccard</th>\n      <th>ksize</th>\n      <th>is_coding</th>\n      <th>Notes</th>\n    </tr>\n    <tr>\n      <th>sequence_id</th>\n      <th></th>\n      <th></th>\n      <th></th>\n      <th></th>\n      <th></th>\n      <th></th>\n    </tr>\n  </thead>\n  <tbody>\n    <tr>\n      <th>SRR306838.10559374 Ibis_Run100924_C3PO:6:51:17601:17119/1</th>\n      <td>CGCTTGCTTAATACTGACATCAATAATATTAGGAAAATCGCAATAT...</td>\n      <td>coding</td>\n      <td>0.037736</td>\n      <td>15</td>\n      <td>True</td>\n      <td>NaN</td>\n    </tr>\n    <tr>\n      <th>SRR306838.10559374 Ibis_Run100924_C3PO:6:51:17601:17119/1</th>\n      <td>CGCTTGCTTAATACTGACATCAATAATATTAGGAAAATCGCAATAT...</td>\n      <td>non_coding</td>\n      <td>0.000000</td>\n      <td>15</td>\n      <td>True</td>\n      <td>NaN</td>\n    </tr>\n    <tr>\n      <th>SRR306838.6196593 Ibis_Run100924_C3PO:6:29:16733:12435/1</th>\n      <td>TCTAGAATGTGAAATAACGTACTTCATGTGTCTTCTTACCAAAAAT...</td>\n      <td>coding</td>\n      <td>0.035088</td>\n      <td>15</td>\n      <td>False</td>\n      <td>NaN</td>\n    </tr>\n    <tr>\n      <th>SRR306838.6196593 Ibis_Run100924_C3PO:6:29:16733:12435/1</th>\n      <td>TCTAGAATGTGAAATAACGTACTTCATGTGTCTTCTTACCAAAAAT...</td>\n      <td>non_coding</td>\n      <td>0.017544</td>\n      <td>15</td>\n      <td>False</td>\n      <td>NaN</td>\n    </tr>\n    <tr>\n      <th>SRR306838.20767303 Ibis_Run100924_C3PO:6:104:6864:5062/1</th>\n      <td>CAATCATCATCACTTTCTAATTCCAGAATATTTTCATCACCCCAAA...</td>\n      <td>coding</td>\n      <td>0.092593</td>\n      <td>15</td>\n      <td>False</td>\n      <td>NaN</td>\n    </tr>\n  </tbody>\n</table>\n</div>",
        "text/plain": "                                                                                             sequence  \\\nsequence_id                                                                                             \nSRR306838.10559374 Ibis_Run100924_C3PO:6:51:176...  CGCTTGCTTAATACTGACATCAATAATATTAGGAAAATCGCAATAT...   \nSRR306838.10559374 Ibis_Run100924_C3PO:6:51:176...  CGCTTGCTTAATACTGACATCAATAATATTAGGAAAATCGCAATAT...   \nSRR306838.6196593 Ibis_Run100924_C3PO:6:29:1673...  TCTAGAATGTGAAATAACGTACTTCATGTGTCTTCTTACCAAAAAT...   \nSRR306838.6196593 Ibis_Run100924_C3PO:6:29:1673...  TCTAGAATGTGAAATAACGTACTTCATGTGTCTTCTTACCAAAAAT...   \nSRR306838.20767303 Ibis_Run100924_C3PO:6:104:68...  CAATCATCATCACTTTCTAATTCCAGAATATTTTCATCACCCCAAA...   \n\n                                                   compared_to   jaccard  \\\nsequence_id                                                                \nSRR306838.10559374 Ibis_Run100924_C3PO:6:51:176...      coding  0.037736   \nSRR306838.10559374 Ibis_Run100924_C3PO:6:51:176...  non_coding  0.000000   \nSRR306838.6196593 Ibis_Run100924_C3PO:6:29:1673...      coding  0.035088   \nSRR306838.6196593 Ibis_Run100924_C3PO:6:29:1673...  non_coding  0.017544   \nSRR306838.20767303 Ibis_Run100924_C3PO:6:104:68...      coding  0.092593   \n\n                                                    ksize  is_coding Notes  \nsequence_id                                                                 \nSRR306838.10559374 Ibis_Run100924_C3PO:6:51:176...     15       True   NaN  \nSRR306838.10559374 Ibis_Run100924_C3PO:6:51:176...     15       True   NaN  \nSRR306838.6196593 Ibis_Run100924_C3PO:6:29:1673...     15      False   NaN  \nSRR306838.6196593 Ibis_Run100924_C3PO:6:29:1673...     15      False   NaN  \nSRR306838.20767303 Ibis_Run100924_C3PO:6:104:68...     15      False   NaN  "
       },
       "execution_count": 103,
       "metadata": {},
       "output_type": "execute_result"
      }
     ],
     "persistentId": "f3c963f2-8657-4743-8cd3-a241b022e120",
     "text": "s = '''sequence_id\tsequence\tcompared_to\tjaccard\tksize\tis_coding\tNotes\nSRR306838.10559374 Ibis_Run100924_C3PO:6:51:17601:17119/1\tCGCTTGCTTAATACTGACATCAATAATATTAGGAAAATCGCAATATAACTGTAAATCCTGTTCTGTC\tcoding\t0.03773584906\t15\tTRUE\t\nSRR306838.10559374 Ibis_Run100924_C3PO:6:51:17601:17119/1\tCGCTTGCTTAATACTGACATCAATAATATTAGGAAAATCGCAATATAACTGTAAATCCTGTTCTGTC\tnon_coding\t0\t15\tTRUE\t\nSRR306838.6196593 Ibis_Run100924_C3PO:6:29:16733:12435/1\tTCTAGAATGTGAAATAACGTACTTCATGTGTCTTCTTACCAAAAATACCAACGATAAGGGGAAAAGCCATC\tcoding\t0.0350877193\t15\tFALSE\t\nSRR306838.6196593 Ibis_Run100924_C3PO:6:29:16733:12435/1\tTCTAGAATGTGAAATAACGTACTTCATGTGTCTTCTTACCAAAAATACCAACGATAAGGGGAAAAGCCATC\tnon_coding\t0.01754385965\t15\tFALSE\t\nSRR306838.20767303 Ibis_Run100924_C3PO:6:104:6864:5062/1\tCAATCATCATCACTTTCTAATTCCAGAATATTTTCATCACCCCAAAAAGAAATCCTAAATCCATTAGC\tcoding\t0.09259259259\t15\tFALSE\t\nSRR306838.20767303 Ibis_Run100924_C3PO:6:104:6864:5062/1\tCAATCATCATCACTTTCTAATTCCAGAATATTTTCATCACCCCAAAAAGAAATCCTAAATCCATTAGC\tnon_coding\t0.4074074074\t15\tFALSE\t\nSRR306838.12582274 Ibis_Run100924_C3PO:6:62:11779:17975/1\tCAAAAGTGAAGACCTCCCTGGGGTCTTCAAAGACAGCCTTTGCTCTCCATGTAGCCAATGGTGCTCT\tcoding\t0.03773584906\t15\tFALSE\t\nSRR306838.12582274 Ibis_Run100924_C3PO:6:62:11779:17975/1\tCAAAAGTGAAGACCTCCCTGGGGTCTTCAAAGACAGCCTTTGCTCTCCATGTAGCCAATGGTGCTCT\tnon_coding\t0.05660377358\t15\tFALSE\t\nSRR306838.13334230 Ibis_Run100924_C3PO:6:66:16579:20350/1\tGTAACCCTTAATTCCTCAGAAAAAATAGACAACATAGTGGAGTGGGATGGAGGAAC\tcoding\t0.04761904762\t15\tFALSE\t\nSRR306838.13334230 Ibis_Run100924_C3PO:6:66:16579:20350/1\tGTAACCCTTAATTCCTCAGAAAAAATAGACAACATAGTGGAGTGGGATGGAGGAAC\tnon_coding\t0.1428571429\t15\tFALSE\t\nSRR306838.2740879 Ibis_Run100924_C3PO:6:13:11155:5248/1\tCTGTGATTATTTTTTTTCCTAGCATTTGTTCTTTCAGAAAAGGACTGAACTCTAAATTCTGGACTTGAAGACTG\tcoding\t0.06666666667\t15\tTRUE\tSecond hit is in LINE element\nSRR306838.2740879 Ibis_Run100924_C3PO:6:13:11155:5248/1\tCTGTGATTATTTTTTTTCCTAGCATTTGTTCTTTCAGAAAAGGACTGAACTCTAAATTCTGGACTTGAAGACTG\tnon_coding\t0.08333333333\t15\tTRUE\tSecond hit is in LINE element\nSRR306838.6813354 Ibis_Run100924_C3PO:6:32:10591:13073/1\tGTTTGATTCTTGACAATTTCTTCTGGAACAAGTCTTTCATATACATTAGACTGGTATCATTGAGTTCTGAGC\tcoding\t0.03448275862\t15\tFALSE\tLots of imperfect matches\nSRR306838.6813354 Ibis_Run100924_C3PO:6:32:10591:13073/1\tGTTTGATTCTTGACAATTTCTTCTGGAACAAGTCTTTCATATACATTAGACTGGTATCATTGAGTTCTGAGC\tnon_coding\t0.08620689655\t15\tFALSE\tLots of imperfect matches\nSRR306838.23113368 Ibis_Run100924_C3PO:6:114:13840:18459/1\tCACAAGGCTAACATACACAATCTGTAACACGAGATGGATAGCACACACATATGACACAATTTC\tcoding\t0\t15\tFALSE\t\nSRR306838.23113368 Ibis_Run100924_C3PO:6:114:13840:18459/1\tCACAAGGCTAACATACACAATCTGTAACACGAGATGGATAGCACACACATATGACACAATTTC\tnon_coding\t0\t15\tFALSE\t\nSRR306838.10872941 Ibis_Run100924_C3PO:6:53:6164:10522/1\tCTGTAGTGTGGTCCATTCCCAGACAGCAACATGCAAGAATAAGTTTACAATACACTCAGCCCTTCTG\tcoding\t0.01886792453\t15\tFALSE\t\nSRR306838.10872941 Ibis_Run100924_C3PO:6:53:6164:10522/1\tCTGTAGTGTGGTCCATTCCCAGACAGCAACATGCAAGAATAAGTTTACAATACACTCAGCCCTTCTG\tnon_coding\t0.01886792453\t15\tFALSE\t\nSRR306838.6192120 Ibis_Run100924_C3PO:6:29:5833:11991/1\tTAGGAAAATAGTAATATTTGCAACTTATGAATGATAAGTCAGAAAAGTTACATGGAATGTTAAATTTT\tcoding\t0.1296296296\t15\tFALSE\t\nSRR306838.6192120 Ibis_Run100924_C3PO:6:29:5833:11991/1\tTAGGAAAATAGTAATATTTGCAACTTATGAATGATAAGTCAGAAAAGTTACATGGAATGTTAAATTTT\tnon_coding\t0.05555555556\t15\tFALSE\t\nSRR306838.21295280 Ibis_Run100924_C3PO:6:106:2590:13965/1\tCTGATAGACTGAAACTGGTTTTGTTATTCTTAACGTTCTCCAGTCTGCACTCTGCTGTGCTGTCTGTGCTC\tcoding\t0.1929824561\t15\tFALSE\t\nSRR306838.21295280 Ibis_Run100924_C3PO:6:106:2590:13965/1\tCTGATAGACTGAAACTGGTTTTGTTATTCTTAACGTTCTCCAGTCTGCACTCTGCTGTGCTGTCTGTGCTC\tnon_coding\t0.0701754386\t15\tFALSE\t\nSRR306838.21201208 Ibis_Run100924_C3PO:6:106:2763:5109/1\tTTAAGTTCTAGTCTGTGAGCACTTGTAGTTCAATAATCGTCATCTTCATCAGAGTCCATTACTTTTCTTCTGTTG\tcoding\t0.1147540984\t15\tFALSE\tstop codon\nSRR306838.21201208 Ibis_Run100924_C3PO:6:106:2763:5109/1\tTTAAGTTCTAGTCTGTGAGCACTTGTAGTTCAATAATCGTCATCTTCATCAGAGTCCATTACTTTTCTTCTGTTG\tnon_coding\t0.06557377049\t15\tFALSE\tstop codon\nSRR306838.18327923 Ibis_Run100924_C3PO:6:92:9077:13885/1\tAAATAAGGTAACATTTAACAATAATCTGATACACATAAATAGAGAAAGAGCAATTGATAAAGTAAATG\tcoding\t0.01851851852\t15\tFALSE\t\nSRR306838.18327923 Ibis_Run100924_C3PO:6:92:9077:13885/1\tAAATAAGGTAACATTTAACAATAATCTGATACACATAAATAGAGAAAGAGCAATTGATAAAGTAAATG\tnon_coding\t0.2222222222\t15\tFALSE\t\nSRR306838.4880582 Ibis_Run100924_C3PO:6:23:17413:5436/1\tCTTGGATCCACCATACTCAAGAGTTATTACACAAAGGGAAACAGAAAATAACCAAATGACATCAGAA\tcoding\t1\t15\tTRUE\t\nSRR306838.4880582 Ibis_Run100924_C3PO:6:23:17413:5436/1\tCTTGGATCCACCATACTCAAGAGTTATTACACAAAGGGAAACAGAAAATAACCAAATGACATCAGAA\tnon_coding\t0.1698113208\t15\tTRUE\t\nSRR306838.21417895 Ibis_Run100924_C3PO:6:107:8793:5012/1\tCCAACACATCCAATTTGTATTTTCTTAAATATGTGTTTCTTAGGTATCTAAGGATACATGAGCGAGCCC\tcoding\t0\t15\tFALSE\t\nSRR306838.21417895 Ibis_Run100924_C3PO:6:107:8793:5012/1\tCCAACACATCCAATTTGTATTTTCTTAAATATGTGTTTCTTAGGTATCTAAGGATACATGAGCGAGCCC\tnon_coding\t0.01818181818\t15\tFALSE\t\nSRR306838.17165743 Ibis_Run100924_C3PO:6:86:18789:18450/1\tATCTCTTGTAATAATTCAACATATTCCCTGGCTATTAACTAATTTCCAAGCCTGAACTGTCA\tcoding\t0.04166666667\t15\tFALSE\t\nSRR306838.17165743 Ibis_Run100924_C3PO:6:86:18789:18450/1\tATCTCTTGTAATAATTCAACATATTCCCTGGCTATTAACTAATTTCCAAGCCTGAACTGTCA\tnon_coding\t0\t15\tFALSE\t\nSRR306838.21229494 Ibis_Run100924_C3PO:6:106:6163:7753/1\tTGAGGCAAACAGCAAGAGTAAGCAGTGTTACTTGCAGGTACTTTGGTTAATGTTGATTTAAATTTTCATG\tcoding\t0\t15\tFALSE\tPerfect match to another location with a DNA element\nSRR306838.21229494 Ibis_Run100924_C3PO:6:106:6163:7753/1\tTGAGGCAAACAGCAAGAGTAAGCAGTGTTACTTGCAGGTACTTTGGTTAATGTTGATTTAAATTTTCATG\tnon_coding\t0.03571428571\t15\tFALSE\t\nSRR306838.21218773 Ibis_Run100924_C3PO:6:106:16921:6743/1\tCAATGCCGTGCCAGTGGAGACTGTTCTCGTATGCC\tcoding\t0.09523809524\t15\tTRUE\tDeinitely coding\nSRR306838.21218773 Ibis_Run100924_C3PO:6:106:16921:6743/1\tCAATGCCGTGCCAGTGGAGACTGTTCTCGTATGCC\tnon_coding\t0\t15\tTRUE\t\nSRR306838.20124664 Ibis_Run100924_C3PO:6:101:4701:5309/1\tCCTATACCTTCTGCATAATGAATTAACTAGAAATAACTTTGCAAGGAGAGCCAAAGCTAAGACCCCCGAAAC\tcoding\t0.01724137931\t15\tFALSE\tDefinitely noncoding\nSRR306838.20124664 Ibis_Run100924_C3PO:6:101:4701:5309/1\tCCTATACCTTCTGCATAATGAATTAACTAGAAATAACTTTGCAAGGAGAGCCAAAGCTAAGACCCCCGAAAC\tnon_coding\t1\t15\tFALSE\tDefinitely noncoding\nSRR306838.16841308 Ibis_Run100924_C3PO:6:85:6205:5805/1\tCAGGAATGAGGCCCCGACTAAAATTCGCTGCAAAAGCCCAAAATCTAGTTAGCATAAATTCCTCAGACATG\tcoding\t0\t15\tFALSE\t\nSRR306838.16841308 Ibis_Run100924_C3PO:6:85:6205:5805/1\tCAGGAATGAGGCCCCGACTAAAATTCGCTGCAAAAGCCCAAAATCTAGTTAGCATAAATTCCTCAGACATG\tnon_coding\t0.0701754386\t15\tFALSE\t'''\nblat_results = pd.read_csv(StringIO(s), sep='\\t', index_col=0)\nprint(blat_results.shape)\nblat_results.head()"
    },
    "executionTime": "2019-09-18T17:53:13.826Z"
   },
   {
    "cell": {
     "executionCount": 104,
     "executionEventId": "f9fe55e9-8eda-47ef-bc68-2f0fc1f45aa2",
     "hasError": false,
     "id": "d833a363-e8f9-442c-a767-1590bf856592",
     "outputs": [
      {
       "data": {
        "text/plain": "sequence_id\nSRR306838.10559374 Ibis_Run100924_C3PO:6:51:17601:17119/1     True\nSRR306838.10559374 Ibis_Run100924_C3PO:6:51:17601:17119/1     True\nSRR306838.6196593 Ibis_Run100924_C3PO:6:29:16733:12435/1     False\nSRR306838.6196593 Ibis_Run100924_C3PO:6:29:16733:12435/1     False\nSRR306838.20767303 Ibis_Run100924_C3PO:6:104:6864:5062/1     False\nName: is_coding, dtype: bool"
       },
       "execution_count": 104,
       "metadata": {},
       "output_type": "execute_result"
      }
     ],
     "persistentId": "9fa82db5-58ea-4af3-acad-9097c2aa8bc5",
     "text": "true_coding = blat_results['is_coding']\ntrue_coding.head()"
    },
    "executionTime": "2019-09-18T17:53:14.175Z"
   },
   {
    "cell": {
     "executionCount": 105,
     "executionEventId": "96613f25-c11c-4574-a822-19d666d872b7",
     "hasError": true,
     "id": "9f432a38-36f3-4adc-ab18-795fbc02b0ff",
     "outputs": [
      {
       "ename": "ValueError",
       "evalue": "cannot reindex from a duplicate axis",
       "output_type": "error",
       "traceback": [
        "\u001b[0;31m---------------------------------------------------------------------------\u001b[0m",
        "\u001b[0;31mValueError\u001b[0m                                Traceback (most recent call last)",
        "\u001b[0;32m<ipython-input-105-fd4c9160a3c2>\u001b[0m in \u001b[0;36m<module>\u001b[0;34m()\u001b[0m\n\u001b[0;32m----> 1\u001b[0;31m \u001b[0mclassification_df\u001b[0m\u001b[0;34m[\u001b[0m\u001b[0;34m'is_coding'\u001b[0m\u001b[0;34m]\u001b[0m \u001b[0;34m=\u001b[0m \u001b[0mtrue_coding\u001b[0m\u001b[0;34m\u001b[0m\u001b[0;34m\u001b[0m\u001b[0m\n\u001b[0m\u001b[1;32m      2\u001b[0m \u001b[0mprint\u001b[0m\u001b[0;34m(\u001b[0m\u001b[0mclassification_df\u001b[0m\u001b[0;34m.\u001b[0m\u001b[0mshape\u001b[0m\u001b[0;34m)\u001b[0m\u001b[0;34m\u001b[0m\u001b[0;34m\u001b[0m\u001b[0m\n\u001b[1;32m      3\u001b[0m \u001b[0mclassification_df\u001b[0m\u001b[0;34m.\u001b[0m\u001b[0mhead\u001b[0m\u001b[0;34m(\u001b[0m\u001b[0;34m)\u001b[0m\u001b[0;34m\u001b[0m\u001b[0;34m\u001b[0m\u001b[0m\n",
        "\u001b[0;32m~/miniconda3/envs/kmer-hashing/lib/python3.6/site-packages/pandas/core/frame.py\u001b[0m in \u001b[0;36m__setitem__\u001b[0;34m(self, key, value)\u001b[0m\n\u001b[1;32m   3368\u001b[0m         \u001b[0;32melse\u001b[0m\u001b[0;34m:\u001b[0m\u001b[0;34m\u001b[0m\u001b[0;34m\u001b[0m\u001b[0m\n\u001b[1;32m   3369\u001b[0m             \u001b[0;31m# set column\u001b[0m\u001b[0;34m\u001b[0m\u001b[0;34m\u001b[0m\u001b[0;34m\u001b[0m\u001b[0m\n\u001b[0;32m-> 3370\u001b[0;31m             \u001b[0mself\u001b[0m\u001b[0;34m.\u001b[0m\u001b[0m_set_item\u001b[0m\u001b[0;34m(\u001b[0m\u001b[0mkey\u001b[0m\u001b[0;34m,\u001b[0m \u001b[0mvalue\u001b[0m\u001b[0;34m)\u001b[0m\u001b[0;34m\u001b[0m\u001b[0;34m\u001b[0m\u001b[0m\n\u001b[0m\u001b[1;32m   3371\u001b[0m \u001b[0;34m\u001b[0m\u001b[0m\n\u001b[1;32m   3372\u001b[0m     \u001b[0;32mdef\u001b[0m \u001b[0m_setitem_slice\u001b[0m\u001b[0;34m(\u001b[0m\u001b[0mself\u001b[0m\u001b[0;34m,\u001b[0m \u001b[0mkey\u001b[0m\u001b[0;34m,\u001b[0m \u001b[0mvalue\u001b[0m\u001b[0;34m)\u001b[0m\u001b[0;34m:\u001b[0m\u001b[0;34m\u001b[0m\u001b[0;34m\u001b[0m\u001b[0m\n",
        "\u001b[0;32m~/miniconda3/envs/kmer-hashing/lib/python3.6/site-packages/pandas/core/frame.py\u001b[0m in \u001b[0;36m_set_item\u001b[0;34m(self, key, value)\u001b[0m\n\u001b[1;32m   3443\u001b[0m \u001b[0;34m\u001b[0m\u001b[0m\n\u001b[1;32m   3444\u001b[0m         \u001b[0mself\u001b[0m\u001b[0;34m.\u001b[0m\u001b[0m_ensure_valid_index\u001b[0m\u001b[0;34m(\u001b[0m\u001b[0mvalue\u001b[0m\u001b[0;34m)\u001b[0m\u001b[0;34m\u001b[0m\u001b[0;34m\u001b[0m\u001b[0m\n\u001b[0;32m-> 3445\u001b[0;31m         \u001b[0mvalue\u001b[0m \u001b[0;34m=\u001b[0m \u001b[0mself\u001b[0m\u001b[0;34m.\u001b[0m\u001b[0m_sanitize_column\u001b[0m\u001b[0;34m(\u001b[0m\u001b[0mkey\u001b[0m\u001b[0;34m,\u001b[0m \u001b[0mvalue\u001b[0m\u001b[0;34m)\u001b[0m\u001b[0;34m\u001b[0m\u001b[0;34m\u001b[0m\u001b[0m\n\u001b[0m\u001b[1;32m   3446\u001b[0m         \u001b[0mNDFrame\u001b[0m\u001b[0;34m.\u001b[0m\u001b[0m_set_item\u001b[0m\u001b[0;34m(\u001b[0m\u001b[0mself\u001b[0m\u001b[0;34m,\u001b[0m \u001b[0mkey\u001b[0m\u001b[0;34m,\u001b[0m \u001b[0mvalue\u001b[0m\u001b[0;34m)\u001b[0m\u001b[0;34m\u001b[0m\u001b[0;34m\u001b[0m\u001b[0m\n\u001b[1;32m   3447\u001b[0m \u001b[0;34m\u001b[0m\u001b[0m\n",
        "\u001b[0;32m~/miniconda3/envs/kmer-hashing/lib/python3.6/site-packages/pandas/core/frame.py\u001b[0m in \u001b[0;36m_sanitize_column\u001b[0;34m(self, key, value, broadcast)\u001b[0m\n\u001b[1;32m   3605\u001b[0m \u001b[0;34m\u001b[0m\u001b[0m\n\u001b[1;32m   3606\u001b[0m         \u001b[0;32mif\u001b[0m \u001b[0misinstance\u001b[0m\u001b[0;34m(\u001b[0m\u001b[0mvalue\u001b[0m\u001b[0;34m,\u001b[0m \u001b[0mSeries\u001b[0m\u001b[0;34m)\u001b[0m\u001b[0;34m:\u001b[0m\u001b[0;34m\u001b[0m\u001b[0;34m\u001b[0m\u001b[0m\n\u001b[0;32m-> 3607\u001b[0;31m             \u001b[0mvalue\u001b[0m \u001b[0;34m=\u001b[0m \u001b[0mreindexer\u001b[0m\u001b[0;34m(\u001b[0m\u001b[0mvalue\u001b[0m\u001b[0;34m)\u001b[0m\u001b[0;34m\u001b[0m\u001b[0;34m\u001b[0m\u001b[0m\n\u001b[0m\u001b[1;32m   3608\u001b[0m \u001b[0;34m\u001b[0m\u001b[0m\n\u001b[1;32m   3609\u001b[0m         \u001b[0;32melif\u001b[0m \u001b[0misinstance\u001b[0m\u001b[0;34m(\u001b[0m\u001b[0mvalue\u001b[0m\u001b[0;34m,\u001b[0m \u001b[0mDataFrame\u001b[0m\u001b[0;34m)\u001b[0m\u001b[0;34m:\u001b[0m\u001b[0;34m\u001b[0m\u001b[0;34m\u001b[0m\u001b[0m\n",
        "\u001b[0;32m~/miniconda3/envs/kmer-hashing/lib/python3.6/site-packages/pandas/core/frame.py\u001b[0m in \u001b[0;36mreindexer\u001b[0;34m(value)\u001b[0m\n\u001b[1;32m   3597\u001b[0m                     \u001b[0;31m# duplicate axis\u001b[0m\u001b[0;34m\u001b[0m\u001b[0;34m\u001b[0m\u001b[0;34m\u001b[0m\u001b[0m\n\u001b[1;32m   3598\u001b[0m                     \u001b[0;32mif\u001b[0m \u001b[0;32mnot\u001b[0m \u001b[0mvalue\u001b[0m\u001b[0;34m.\u001b[0m\u001b[0mindex\u001b[0m\u001b[0;34m.\u001b[0m\u001b[0mis_unique\u001b[0m\u001b[0;34m:\u001b[0m\u001b[0;34m\u001b[0m\u001b[0;34m\u001b[0m\u001b[0m\n\u001b[0;32m-> 3599\u001b[0;31m                         \u001b[0;32mraise\u001b[0m \u001b[0me\u001b[0m\u001b[0;34m\u001b[0m\u001b[0;34m\u001b[0m\u001b[0m\n\u001b[0m\u001b[1;32m   3600\u001b[0m \u001b[0;34m\u001b[0m\u001b[0m\n\u001b[1;32m   3601\u001b[0m                     \u001b[0;31m# other\u001b[0m\u001b[0;34m\u001b[0m\u001b[0;34m\u001b[0m\u001b[0;34m\u001b[0m\u001b[0m\n",
        "\u001b[0;32m~/miniconda3/envs/kmer-hashing/lib/python3.6/site-packages/pandas/core/frame.py\u001b[0m in \u001b[0;36mreindexer\u001b[0;34m(value)\u001b[0m\n\u001b[1;32m   3592\u001b[0m                 \u001b[0;31m# GH 4107\u001b[0m\u001b[0;34m\u001b[0m\u001b[0;34m\u001b[0m\u001b[0;34m\u001b[0m\u001b[0m\n\u001b[1;32m   3593\u001b[0m                 \u001b[0;32mtry\u001b[0m\u001b[0;34m:\u001b[0m\u001b[0;34m\u001b[0m\u001b[0;34m\u001b[0m\u001b[0m\n\u001b[0;32m-> 3594\u001b[0;31m                     \u001b[0mvalue\u001b[0m \u001b[0;34m=\u001b[0m \u001b[0mvalue\u001b[0m\u001b[0;34m.\u001b[0m\u001b[0mreindex\u001b[0m\u001b[0;34m(\u001b[0m\u001b[0mself\u001b[0m\u001b[0;34m.\u001b[0m\u001b[0mindex\u001b[0m\u001b[0;34m)\u001b[0m\u001b[0;34m.\u001b[0m\u001b[0m_values\u001b[0m\u001b[0;34m\u001b[0m\u001b[0;34m\u001b[0m\u001b[0m\n\u001b[0m\u001b[1;32m   3595\u001b[0m                 \u001b[0;32mexcept\u001b[0m \u001b[0mException\u001b[0m \u001b[0;32mas\u001b[0m \u001b[0me\u001b[0m\u001b[0;34m:\u001b[0m\u001b[0;34m\u001b[0m\u001b[0;34m\u001b[0m\u001b[0m\n\u001b[1;32m   3596\u001b[0m \u001b[0;34m\u001b[0m\u001b[0m\n",
        "\u001b[0;32m~/miniconda3/envs/kmer-hashing/lib/python3.6/site-packages/pandas/core/series.py\u001b[0m in \u001b[0;36mreindex\u001b[0;34m(self, index, **kwargs)\u001b[0m\n\u001b[1;32m   3736\u001b[0m     \u001b[0;34m@\u001b[0m\u001b[0mAppender\u001b[0m\u001b[0;34m(\u001b[0m\u001b[0mgeneric\u001b[0m\u001b[0;34m.\u001b[0m\u001b[0mNDFrame\u001b[0m\u001b[0;34m.\u001b[0m\u001b[0mreindex\u001b[0m\u001b[0;34m.\u001b[0m\u001b[0m__doc__\u001b[0m\u001b[0;34m)\u001b[0m\u001b[0;34m\u001b[0m\u001b[0;34m\u001b[0m\u001b[0m\n\u001b[1;32m   3737\u001b[0m     \u001b[0;32mdef\u001b[0m \u001b[0mreindex\u001b[0m\u001b[0;34m(\u001b[0m\u001b[0mself\u001b[0m\u001b[0;34m,\u001b[0m \u001b[0mindex\u001b[0m\u001b[0;34m=\u001b[0m\u001b[0;32mNone\u001b[0m\u001b[0;34m,\u001b[0m \u001b[0;34m**\u001b[0m\u001b[0mkwargs\u001b[0m\u001b[0;34m)\u001b[0m\u001b[0;34m:\u001b[0m\u001b[0;34m\u001b[0m\u001b[0;34m\u001b[0m\u001b[0m\n\u001b[0;32m-> 3738\u001b[0;31m         \u001b[0;32mreturn\u001b[0m \u001b[0msuper\u001b[0m\u001b[0;34m(\u001b[0m\u001b[0mSeries\u001b[0m\u001b[0;34m,\u001b[0m \u001b[0mself\u001b[0m\u001b[0;34m)\u001b[0m\u001b[0;34m.\u001b[0m\u001b[0mreindex\u001b[0m\u001b[0;34m(\u001b[0m\u001b[0mindex\u001b[0m\u001b[0;34m=\u001b[0m\u001b[0mindex\u001b[0m\u001b[0;34m,\u001b[0m \u001b[0;34m**\u001b[0m\u001b[0mkwargs\u001b[0m\u001b[0;34m)\u001b[0m\u001b[0;34m\u001b[0m\u001b[0;34m\u001b[0m\u001b[0m\n\u001b[0m\u001b[1;32m   3739\u001b[0m \u001b[0;34m\u001b[0m\u001b[0m\n\u001b[1;32m   3740\u001b[0m     def drop(self, labels=None, axis=0, index=None, columns=None,\n",
        "\u001b[0;32m~/miniconda3/envs/kmer-hashing/lib/python3.6/site-packages/pandas/core/generic.py\u001b[0m in \u001b[0;36mreindex\u001b[0;34m(self, *args, **kwargs)\u001b[0m\n\u001b[1;32m   4354\u001b[0m         \u001b[0;31m# perform the reindex on the axes\u001b[0m\u001b[0;34m\u001b[0m\u001b[0;34m\u001b[0m\u001b[0;34m\u001b[0m\u001b[0m\n\u001b[1;32m   4355\u001b[0m         return self._reindex_axes(axes, level, limit, tolerance, method,\n\u001b[0;32m-> 4356\u001b[0;31m                                   fill_value, copy).__finalize__(self)\n\u001b[0m\u001b[1;32m   4357\u001b[0m \u001b[0;34m\u001b[0m\u001b[0m\n\u001b[1;32m   4358\u001b[0m     def _reindex_axes(self, axes, level, limit, tolerance, method, fill_value,\n",
        "\u001b[0;32m~/miniconda3/envs/kmer-hashing/lib/python3.6/site-packages/pandas/core/generic.py\u001b[0m in \u001b[0;36m_reindex_axes\u001b[0;34m(self, axes, level, limit, tolerance, method, fill_value, copy)\u001b[0m\n\u001b[1;32m   4372\u001b[0m             obj = obj._reindex_with_indexers({axis: [new_index, indexer]},\n\u001b[1;32m   4373\u001b[0m                                              \u001b[0mfill_value\u001b[0m\u001b[0;34m=\u001b[0m\u001b[0mfill_value\u001b[0m\u001b[0;34m,\u001b[0m\u001b[0;34m\u001b[0m\u001b[0;34m\u001b[0m\u001b[0m\n\u001b[0;32m-> 4374\u001b[0;31m                                              copy=copy, allow_dups=False)\n\u001b[0m\u001b[1;32m   4375\u001b[0m \u001b[0;34m\u001b[0m\u001b[0m\n\u001b[1;32m   4376\u001b[0m         \u001b[0;32mreturn\u001b[0m \u001b[0mobj\u001b[0m\u001b[0;34m\u001b[0m\u001b[0;34m\u001b[0m\u001b[0m\n",
        "\u001b[0;32m~/miniconda3/envs/kmer-hashing/lib/python3.6/site-packages/pandas/core/generic.py\u001b[0m in \u001b[0;36m_reindex_with_indexers\u001b[0;34m(self, reindexers, fill_value, copy, allow_dups)\u001b[0m\n\u001b[1;32m   4488\u001b[0m                                                 \u001b[0mfill_value\u001b[0m\u001b[0;34m=\u001b[0m\u001b[0mfill_value\u001b[0m\u001b[0;34m,\u001b[0m\u001b[0;34m\u001b[0m\u001b[0;34m\u001b[0m\u001b[0m\n\u001b[1;32m   4489\u001b[0m                                                 \u001b[0mallow_dups\u001b[0m\u001b[0;34m=\u001b[0m\u001b[0mallow_dups\u001b[0m\u001b[0;34m,\u001b[0m\u001b[0;34m\u001b[0m\u001b[0;34m\u001b[0m\u001b[0m\n\u001b[0;32m-> 4490\u001b[0;31m                                                 copy=copy)\n\u001b[0m\u001b[1;32m   4491\u001b[0m \u001b[0;34m\u001b[0m\u001b[0m\n\u001b[1;32m   4492\u001b[0m         \u001b[0;32mif\u001b[0m \u001b[0mcopy\u001b[0m \u001b[0;32mand\u001b[0m \u001b[0mnew_data\u001b[0m \u001b[0;32mis\u001b[0m \u001b[0mself\u001b[0m\u001b[0;34m.\u001b[0m\u001b[0m_data\u001b[0m\u001b[0;34m:\u001b[0m\u001b[0;34m\u001b[0m\u001b[0;34m\u001b[0m\u001b[0m\n",
        "\u001b[0;32m~/miniconda3/envs/kmer-hashing/lib/python3.6/site-packages/pandas/core/internals/managers.py\u001b[0m in \u001b[0;36mreindex_indexer\u001b[0;34m(self, new_axis, indexer, axis, fill_value, allow_dups, copy)\u001b[0m\n\u001b[1;32m   1222\u001b[0m         \u001b[0;31m# some axes don't allow reindexing with dups\u001b[0m\u001b[0;34m\u001b[0m\u001b[0;34m\u001b[0m\u001b[0;34m\u001b[0m\u001b[0m\n\u001b[1;32m   1223\u001b[0m         \u001b[0;32mif\u001b[0m \u001b[0;32mnot\u001b[0m \u001b[0mallow_dups\u001b[0m\u001b[0;34m:\u001b[0m\u001b[0;34m\u001b[0m\u001b[0;34m\u001b[0m\u001b[0m\n\u001b[0;32m-> 1224\u001b[0;31m             \u001b[0mself\u001b[0m\u001b[0;34m.\u001b[0m\u001b[0maxes\u001b[0m\u001b[0;34m[\u001b[0m\u001b[0maxis\u001b[0m\u001b[0;34m]\u001b[0m\u001b[0;34m.\u001b[0m\u001b[0m_can_reindex\u001b[0m\u001b[0;34m(\u001b[0m\u001b[0mindexer\u001b[0m\u001b[0;34m)\u001b[0m\u001b[0;34m\u001b[0m\u001b[0;34m\u001b[0m\u001b[0m\n\u001b[0m\u001b[1;32m   1225\u001b[0m \u001b[0;34m\u001b[0m\u001b[0m\n\u001b[1;32m   1226\u001b[0m         \u001b[0;32mif\u001b[0m \u001b[0maxis\u001b[0m \u001b[0;34m>=\u001b[0m \u001b[0mself\u001b[0m\u001b[0;34m.\u001b[0m\u001b[0mndim\u001b[0m\u001b[0;34m:\u001b[0m\u001b[0;34m\u001b[0m\u001b[0;34m\u001b[0m\u001b[0m\n",
        "\u001b[0;32m~/miniconda3/envs/kmer-hashing/lib/python3.6/site-packages/pandas/core/indexes/base.py\u001b[0m in \u001b[0;36m_can_reindex\u001b[0;34m(self, indexer)\u001b[0m\n\u001b[1;32m   3085\u001b[0m         \u001b[0;31m# trying to reindex on an axis with duplicates\u001b[0m\u001b[0;34m\u001b[0m\u001b[0;34m\u001b[0m\u001b[0;34m\u001b[0m\u001b[0m\n\u001b[1;32m   3086\u001b[0m         \u001b[0;32mif\u001b[0m \u001b[0;32mnot\u001b[0m \u001b[0mself\u001b[0m\u001b[0;34m.\u001b[0m\u001b[0mis_unique\u001b[0m \u001b[0;32mand\u001b[0m \u001b[0mlen\u001b[0m\u001b[0;34m(\u001b[0m\u001b[0mindexer\u001b[0m\u001b[0;34m)\u001b[0m\u001b[0;34m:\u001b[0m\u001b[0;34m\u001b[0m\u001b[0;34m\u001b[0m\u001b[0m\n\u001b[0;32m-> 3087\u001b[0;31m             \u001b[0;32mraise\u001b[0m \u001b[0mValueError\u001b[0m\u001b[0;34m(\u001b[0m\u001b[0;34m\"cannot reindex from a duplicate axis\"\u001b[0m\u001b[0;34m)\u001b[0m\u001b[0;34m\u001b[0m\u001b[0;34m\u001b[0m\u001b[0m\n\u001b[0m\u001b[1;32m   3088\u001b[0m \u001b[0;34m\u001b[0m\u001b[0m\n\u001b[1;32m   3089\u001b[0m     def reindex(self, target, method=None, level=None, limit=None,\n",
        "\u001b[0;31mValueError\u001b[0m: cannot reindex from a duplicate axis"
       ]
      }
     ],
     "persistentId": "6b55768a-f285-4a67-ab1a-cb748e428978",
     "text": "classification_df['is_coding'] = true_coding\nprint(classification_df.shape)\nclassification_df.head()"
    },
    "executionTime": "2019-09-18T17:53:15.156Z"
   },
   {
    "cell": {
     "executionCount": 106,
     "executionEventId": "55195eb9-d11f-402e-909a-1cc0c32021cf",
     "hasError": true,
     "id": "9f432a38-36f3-4adc-ab18-795fbc02b0ff",
     "outputs": [
      {
       "ename": "ValueError",
       "evalue": "cannot reindex from a duplicate axis",
       "output_type": "error",
       "traceback": [
        "\u001b[0;31m---------------------------------------------------------------------------\u001b[0m",
        "\u001b[0;31mValueError\u001b[0m                                Traceback (most recent call last)",
        "\u001b[0;32m<ipython-input-106-82052a7b885c>\u001b[0m in \u001b[0;36m<module>\u001b[0;34m()\u001b[0m\n\u001b[0;32m----> 1\u001b[0;31m \u001b[0mclassification_df\u001b[0m\u001b[0;34m[\u001b[0m\u001b[0;34m'is_coding'\u001b[0m\u001b[0;34m]\u001b[0m \u001b[0;34m=\u001b[0m \u001b[0mtrue_coding\u001b[0m\u001b[0;34m.\u001b[0m\u001b[0mloc\u001b[0m\u001b[0;34m[\u001b[0m\u001b[0mclassification_df\u001b[0m\u001b[0;34m.\u001b[0m\u001b[0mindex\u001b[0m\u001b[0;34m]\u001b[0m\u001b[0;34m\u001b[0m\u001b[0;34m\u001b[0m\u001b[0m\n\u001b[0m\u001b[1;32m      2\u001b[0m \u001b[0mprint\u001b[0m\u001b[0;34m(\u001b[0m\u001b[0mclassification_df\u001b[0m\u001b[0;34m.\u001b[0m\u001b[0mshape\u001b[0m\u001b[0;34m)\u001b[0m\u001b[0;34m\u001b[0m\u001b[0;34m\u001b[0m\u001b[0m\n\u001b[1;32m      3\u001b[0m \u001b[0mclassification_df\u001b[0m\u001b[0;34m.\u001b[0m\u001b[0mhead\u001b[0m\u001b[0;34m(\u001b[0m\u001b[0;34m)\u001b[0m\u001b[0;34m\u001b[0m\u001b[0;34m\u001b[0m\u001b[0m\n",
        "\u001b[0;32m~/miniconda3/envs/kmer-hashing/lib/python3.6/site-packages/pandas/core/frame.py\u001b[0m in \u001b[0;36m__setitem__\u001b[0;34m(self, key, value)\u001b[0m\n\u001b[1;32m   3368\u001b[0m         \u001b[0;32melse\u001b[0m\u001b[0;34m:\u001b[0m\u001b[0;34m\u001b[0m\u001b[0;34m\u001b[0m\u001b[0m\n\u001b[1;32m   3369\u001b[0m             \u001b[0;31m# set column\u001b[0m\u001b[0;34m\u001b[0m\u001b[0;34m\u001b[0m\u001b[0;34m\u001b[0m\u001b[0m\n\u001b[0;32m-> 3370\u001b[0;31m             \u001b[0mself\u001b[0m\u001b[0;34m.\u001b[0m\u001b[0m_set_item\u001b[0m\u001b[0;34m(\u001b[0m\u001b[0mkey\u001b[0m\u001b[0;34m,\u001b[0m \u001b[0mvalue\u001b[0m\u001b[0;34m)\u001b[0m\u001b[0;34m\u001b[0m\u001b[0;34m\u001b[0m\u001b[0m\n\u001b[0m\u001b[1;32m   3371\u001b[0m \u001b[0;34m\u001b[0m\u001b[0m\n\u001b[1;32m   3372\u001b[0m     \u001b[0;32mdef\u001b[0m \u001b[0m_setitem_slice\u001b[0m\u001b[0;34m(\u001b[0m\u001b[0mself\u001b[0m\u001b[0;34m,\u001b[0m \u001b[0mkey\u001b[0m\u001b[0;34m,\u001b[0m \u001b[0mvalue\u001b[0m\u001b[0;34m)\u001b[0m\u001b[0;34m:\u001b[0m\u001b[0;34m\u001b[0m\u001b[0;34m\u001b[0m\u001b[0m\n",
        "\u001b[0;32m~/miniconda3/envs/kmer-hashing/lib/python3.6/site-packages/pandas/core/frame.py\u001b[0m in \u001b[0;36m_set_item\u001b[0;34m(self, key, value)\u001b[0m\n\u001b[1;32m   3443\u001b[0m \u001b[0;34m\u001b[0m\u001b[0m\n\u001b[1;32m   3444\u001b[0m         \u001b[0mself\u001b[0m\u001b[0;34m.\u001b[0m\u001b[0m_ensure_valid_index\u001b[0m\u001b[0;34m(\u001b[0m\u001b[0mvalue\u001b[0m\u001b[0;34m)\u001b[0m\u001b[0;34m\u001b[0m\u001b[0;34m\u001b[0m\u001b[0m\n\u001b[0;32m-> 3445\u001b[0;31m         \u001b[0mvalue\u001b[0m \u001b[0;34m=\u001b[0m \u001b[0mself\u001b[0m\u001b[0;34m.\u001b[0m\u001b[0m_sanitize_column\u001b[0m\u001b[0;34m(\u001b[0m\u001b[0mkey\u001b[0m\u001b[0;34m,\u001b[0m \u001b[0mvalue\u001b[0m\u001b[0;34m)\u001b[0m\u001b[0;34m\u001b[0m\u001b[0;34m\u001b[0m\u001b[0m\n\u001b[0m\u001b[1;32m   3446\u001b[0m         \u001b[0mNDFrame\u001b[0m\u001b[0;34m.\u001b[0m\u001b[0m_set_item\u001b[0m\u001b[0;34m(\u001b[0m\u001b[0mself\u001b[0m\u001b[0;34m,\u001b[0m \u001b[0mkey\u001b[0m\u001b[0;34m,\u001b[0m \u001b[0mvalue\u001b[0m\u001b[0;34m)\u001b[0m\u001b[0;34m\u001b[0m\u001b[0;34m\u001b[0m\u001b[0m\n\u001b[1;32m   3447\u001b[0m \u001b[0;34m\u001b[0m\u001b[0m\n",
        "\u001b[0;32m~/miniconda3/envs/kmer-hashing/lib/python3.6/site-packages/pandas/core/frame.py\u001b[0m in \u001b[0;36m_sanitize_column\u001b[0;34m(self, key, value, broadcast)\u001b[0m\n\u001b[1;32m   3605\u001b[0m \u001b[0;34m\u001b[0m\u001b[0m\n\u001b[1;32m   3606\u001b[0m         \u001b[0;32mif\u001b[0m \u001b[0misinstance\u001b[0m\u001b[0;34m(\u001b[0m\u001b[0mvalue\u001b[0m\u001b[0;34m,\u001b[0m \u001b[0mSeries\u001b[0m\u001b[0;34m)\u001b[0m\u001b[0;34m:\u001b[0m\u001b[0;34m\u001b[0m\u001b[0;34m\u001b[0m\u001b[0m\n\u001b[0;32m-> 3607\u001b[0;31m             \u001b[0mvalue\u001b[0m \u001b[0;34m=\u001b[0m \u001b[0mreindexer\u001b[0m\u001b[0;34m(\u001b[0m\u001b[0mvalue\u001b[0m\u001b[0;34m)\u001b[0m\u001b[0;34m\u001b[0m\u001b[0;34m\u001b[0m\u001b[0m\n\u001b[0m\u001b[1;32m   3608\u001b[0m \u001b[0;34m\u001b[0m\u001b[0m\n\u001b[1;32m   3609\u001b[0m         \u001b[0;32melif\u001b[0m \u001b[0misinstance\u001b[0m\u001b[0;34m(\u001b[0m\u001b[0mvalue\u001b[0m\u001b[0;34m,\u001b[0m \u001b[0mDataFrame\u001b[0m\u001b[0;34m)\u001b[0m\u001b[0;34m:\u001b[0m\u001b[0;34m\u001b[0m\u001b[0;34m\u001b[0m\u001b[0m\n",
        "\u001b[0;32m~/miniconda3/envs/kmer-hashing/lib/python3.6/site-packages/pandas/core/frame.py\u001b[0m in \u001b[0;36mreindexer\u001b[0;34m(value)\u001b[0m\n\u001b[1;32m   3597\u001b[0m                     \u001b[0;31m# duplicate axis\u001b[0m\u001b[0;34m\u001b[0m\u001b[0;34m\u001b[0m\u001b[0;34m\u001b[0m\u001b[0m\n\u001b[1;32m   3598\u001b[0m                     \u001b[0;32mif\u001b[0m \u001b[0;32mnot\u001b[0m \u001b[0mvalue\u001b[0m\u001b[0;34m.\u001b[0m\u001b[0mindex\u001b[0m\u001b[0;34m.\u001b[0m\u001b[0mis_unique\u001b[0m\u001b[0;34m:\u001b[0m\u001b[0;34m\u001b[0m\u001b[0;34m\u001b[0m\u001b[0m\n\u001b[0;32m-> 3599\u001b[0;31m                         \u001b[0;32mraise\u001b[0m \u001b[0me\u001b[0m\u001b[0;34m\u001b[0m\u001b[0;34m\u001b[0m\u001b[0m\n\u001b[0m\u001b[1;32m   3600\u001b[0m \u001b[0;34m\u001b[0m\u001b[0m\n\u001b[1;32m   3601\u001b[0m                     \u001b[0;31m# other\u001b[0m\u001b[0;34m\u001b[0m\u001b[0;34m\u001b[0m\u001b[0;34m\u001b[0m\u001b[0m\n",
        "\u001b[0;32m~/miniconda3/envs/kmer-hashing/lib/python3.6/site-packages/pandas/core/frame.py\u001b[0m in \u001b[0;36mreindexer\u001b[0;34m(value)\u001b[0m\n\u001b[1;32m   3592\u001b[0m                 \u001b[0;31m# GH 4107\u001b[0m\u001b[0;34m\u001b[0m\u001b[0;34m\u001b[0m\u001b[0;34m\u001b[0m\u001b[0m\n\u001b[1;32m   3593\u001b[0m                 \u001b[0;32mtry\u001b[0m\u001b[0;34m:\u001b[0m\u001b[0;34m\u001b[0m\u001b[0;34m\u001b[0m\u001b[0m\n\u001b[0;32m-> 3594\u001b[0;31m                     \u001b[0mvalue\u001b[0m \u001b[0;34m=\u001b[0m \u001b[0mvalue\u001b[0m\u001b[0;34m.\u001b[0m\u001b[0mreindex\u001b[0m\u001b[0;34m(\u001b[0m\u001b[0mself\u001b[0m\u001b[0;34m.\u001b[0m\u001b[0mindex\u001b[0m\u001b[0;34m)\u001b[0m\u001b[0;34m.\u001b[0m\u001b[0m_values\u001b[0m\u001b[0;34m\u001b[0m\u001b[0;34m\u001b[0m\u001b[0m\n\u001b[0m\u001b[1;32m   3595\u001b[0m                 \u001b[0;32mexcept\u001b[0m \u001b[0mException\u001b[0m \u001b[0;32mas\u001b[0m \u001b[0me\u001b[0m\u001b[0;34m:\u001b[0m\u001b[0;34m\u001b[0m\u001b[0;34m\u001b[0m\u001b[0m\n\u001b[1;32m   3596\u001b[0m \u001b[0;34m\u001b[0m\u001b[0m\n",
        "\u001b[0;32m~/miniconda3/envs/kmer-hashing/lib/python3.6/site-packages/pandas/core/series.py\u001b[0m in \u001b[0;36mreindex\u001b[0;34m(self, index, **kwargs)\u001b[0m\n\u001b[1;32m   3736\u001b[0m     \u001b[0;34m@\u001b[0m\u001b[0mAppender\u001b[0m\u001b[0;34m(\u001b[0m\u001b[0mgeneric\u001b[0m\u001b[0;34m.\u001b[0m\u001b[0mNDFrame\u001b[0m\u001b[0;34m.\u001b[0m\u001b[0mreindex\u001b[0m\u001b[0;34m.\u001b[0m\u001b[0m__doc__\u001b[0m\u001b[0;34m)\u001b[0m\u001b[0;34m\u001b[0m\u001b[0;34m\u001b[0m\u001b[0m\n\u001b[1;32m   3737\u001b[0m     \u001b[0;32mdef\u001b[0m \u001b[0mreindex\u001b[0m\u001b[0;34m(\u001b[0m\u001b[0mself\u001b[0m\u001b[0;34m,\u001b[0m \u001b[0mindex\u001b[0m\u001b[0;34m=\u001b[0m\u001b[0;32mNone\u001b[0m\u001b[0;34m,\u001b[0m \u001b[0;34m**\u001b[0m\u001b[0mkwargs\u001b[0m\u001b[0;34m)\u001b[0m\u001b[0;34m:\u001b[0m\u001b[0;34m\u001b[0m\u001b[0;34m\u001b[0m\u001b[0m\n\u001b[0;32m-> 3738\u001b[0;31m         \u001b[0;32mreturn\u001b[0m \u001b[0msuper\u001b[0m\u001b[0;34m(\u001b[0m\u001b[0mSeries\u001b[0m\u001b[0;34m,\u001b[0m \u001b[0mself\u001b[0m\u001b[0;34m)\u001b[0m\u001b[0;34m.\u001b[0m\u001b[0mreindex\u001b[0m\u001b[0;34m(\u001b[0m\u001b[0mindex\u001b[0m\u001b[0;34m=\u001b[0m\u001b[0mindex\u001b[0m\u001b[0;34m,\u001b[0m \u001b[0;34m**\u001b[0m\u001b[0mkwargs\u001b[0m\u001b[0;34m)\u001b[0m\u001b[0;34m\u001b[0m\u001b[0;34m\u001b[0m\u001b[0m\n\u001b[0m\u001b[1;32m   3739\u001b[0m \u001b[0;34m\u001b[0m\u001b[0m\n\u001b[1;32m   3740\u001b[0m     def drop(self, labels=None, axis=0, index=None, columns=None,\n",
        "\u001b[0;32m~/miniconda3/envs/kmer-hashing/lib/python3.6/site-packages/pandas/core/generic.py\u001b[0m in \u001b[0;36mreindex\u001b[0;34m(self, *args, **kwargs)\u001b[0m\n\u001b[1;32m   4354\u001b[0m         \u001b[0;31m# perform the reindex on the axes\u001b[0m\u001b[0;34m\u001b[0m\u001b[0;34m\u001b[0m\u001b[0;34m\u001b[0m\u001b[0m\n\u001b[1;32m   4355\u001b[0m         return self._reindex_axes(axes, level, limit, tolerance, method,\n\u001b[0;32m-> 4356\u001b[0;31m                                   fill_value, copy).__finalize__(self)\n\u001b[0m\u001b[1;32m   4357\u001b[0m \u001b[0;34m\u001b[0m\u001b[0m\n\u001b[1;32m   4358\u001b[0m     def _reindex_axes(self, axes, level, limit, tolerance, method, fill_value,\n",
        "\u001b[0;32m~/miniconda3/envs/kmer-hashing/lib/python3.6/site-packages/pandas/core/generic.py\u001b[0m in \u001b[0;36m_reindex_axes\u001b[0;34m(self, axes, level, limit, tolerance, method, fill_value, copy)\u001b[0m\n\u001b[1;32m   4372\u001b[0m             obj = obj._reindex_with_indexers({axis: [new_index, indexer]},\n\u001b[1;32m   4373\u001b[0m                                              \u001b[0mfill_value\u001b[0m\u001b[0;34m=\u001b[0m\u001b[0mfill_value\u001b[0m\u001b[0;34m,\u001b[0m\u001b[0;34m\u001b[0m\u001b[0;34m\u001b[0m\u001b[0m\n\u001b[0;32m-> 4374\u001b[0;31m                                              copy=copy, allow_dups=False)\n\u001b[0m\u001b[1;32m   4375\u001b[0m \u001b[0;34m\u001b[0m\u001b[0m\n\u001b[1;32m   4376\u001b[0m         \u001b[0;32mreturn\u001b[0m \u001b[0mobj\u001b[0m\u001b[0;34m\u001b[0m\u001b[0;34m\u001b[0m\u001b[0m\n",
        "\u001b[0;32m~/miniconda3/envs/kmer-hashing/lib/python3.6/site-packages/pandas/core/generic.py\u001b[0m in \u001b[0;36m_reindex_with_indexers\u001b[0;34m(self, reindexers, fill_value, copy, allow_dups)\u001b[0m\n\u001b[1;32m   4488\u001b[0m                                                 \u001b[0mfill_value\u001b[0m\u001b[0;34m=\u001b[0m\u001b[0mfill_value\u001b[0m\u001b[0;34m,\u001b[0m\u001b[0;34m\u001b[0m\u001b[0;34m\u001b[0m\u001b[0m\n\u001b[1;32m   4489\u001b[0m                                                 \u001b[0mallow_dups\u001b[0m\u001b[0;34m=\u001b[0m\u001b[0mallow_dups\u001b[0m\u001b[0;34m,\u001b[0m\u001b[0;34m\u001b[0m\u001b[0;34m\u001b[0m\u001b[0m\n\u001b[0;32m-> 4490\u001b[0;31m                                                 copy=copy)\n\u001b[0m\u001b[1;32m   4491\u001b[0m \u001b[0;34m\u001b[0m\u001b[0m\n\u001b[1;32m   4492\u001b[0m         \u001b[0;32mif\u001b[0m \u001b[0mcopy\u001b[0m \u001b[0;32mand\u001b[0m \u001b[0mnew_data\u001b[0m \u001b[0;32mis\u001b[0m \u001b[0mself\u001b[0m\u001b[0;34m.\u001b[0m\u001b[0m_data\u001b[0m\u001b[0;34m:\u001b[0m\u001b[0;34m\u001b[0m\u001b[0;34m\u001b[0m\u001b[0m\n",
        "\u001b[0;32m~/miniconda3/envs/kmer-hashing/lib/python3.6/site-packages/pandas/core/internals/managers.py\u001b[0m in \u001b[0;36mreindex_indexer\u001b[0;34m(self, new_axis, indexer, axis, fill_value, allow_dups, copy)\u001b[0m\n\u001b[1;32m   1222\u001b[0m         \u001b[0;31m# some axes don't allow reindexing with dups\u001b[0m\u001b[0;34m\u001b[0m\u001b[0;34m\u001b[0m\u001b[0;34m\u001b[0m\u001b[0m\n\u001b[1;32m   1223\u001b[0m         \u001b[0;32mif\u001b[0m \u001b[0;32mnot\u001b[0m \u001b[0mallow_dups\u001b[0m\u001b[0;34m:\u001b[0m\u001b[0;34m\u001b[0m\u001b[0;34m\u001b[0m\u001b[0m\n\u001b[0;32m-> 1224\u001b[0;31m             \u001b[0mself\u001b[0m\u001b[0;34m.\u001b[0m\u001b[0maxes\u001b[0m\u001b[0;34m[\u001b[0m\u001b[0maxis\u001b[0m\u001b[0;34m]\u001b[0m\u001b[0;34m.\u001b[0m\u001b[0m_can_reindex\u001b[0m\u001b[0;34m(\u001b[0m\u001b[0mindexer\u001b[0m\u001b[0;34m)\u001b[0m\u001b[0;34m\u001b[0m\u001b[0;34m\u001b[0m\u001b[0m\n\u001b[0m\u001b[1;32m   1225\u001b[0m \u001b[0;34m\u001b[0m\u001b[0m\n\u001b[1;32m   1226\u001b[0m         \u001b[0;32mif\u001b[0m \u001b[0maxis\u001b[0m \u001b[0;34m>=\u001b[0m \u001b[0mself\u001b[0m\u001b[0;34m.\u001b[0m\u001b[0mndim\u001b[0m\u001b[0;34m:\u001b[0m\u001b[0;34m\u001b[0m\u001b[0;34m\u001b[0m\u001b[0m\n",
        "\u001b[0;32m~/miniconda3/envs/kmer-hashing/lib/python3.6/site-packages/pandas/core/indexes/base.py\u001b[0m in \u001b[0;36m_can_reindex\u001b[0;34m(self, indexer)\u001b[0m\n\u001b[1;32m   3085\u001b[0m         \u001b[0;31m# trying to reindex on an axis with duplicates\u001b[0m\u001b[0;34m\u001b[0m\u001b[0;34m\u001b[0m\u001b[0;34m\u001b[0m\u001b[0m\n\u001b[1;32m   3086\u001b[0m         \u001b[0;32mif\u001b[0m \u001b[0;32mnot\u001b[0m \u001b[0mself\u001b[0m\u001b[0;34m.\u001b[0m\u001b[0mis_unique\u001b[0m \u001b[0;32mand\u001b[0m \u001b[0mlen\u001b[0m\u001b[0;34m(\u001b[0m\u001b[0mindexer\u001b[0m\u001b[0;34m)\u001b[0m\u001b[0;34m:\u001b[0m\u001b[0;34m\u001b[0m\u001b[0;34m\u001b[0m\u001b[0m\n\u001b[0;32m-> 3087\u001b[0;31m             \u001b[0;32mraise\u001b[0m \u001b[0mValueError\u001b[0m\u001b[0;34m(\u001b[0m\u001b[0;34m\"cannot reindex from a duplicate axis\"\u001b[0m\u001b[0;34m)\u001b[0m\u001b[0;34m\u001b[0m\u001b[0;34m\u001b[0m\u001b[0m\n\u001b[0m\u001b[1;32m   3088\u001b[0m \u001b[0;34m\u001b[0m\u001b[0m\n\u001b[1;32m   3089\u001b[0m     def reindex(self, target, method=None, level=None, limit=None,\n",
        "\u001b[0;31mValueError\u001b[0m: cannot reindex from a duplicate axis"
       ]
      }
     ],
     "persistentId": "6b55768a-f285-4a67-ab1a-cb748e428978",
     "text": "classification_df['is_coding'] = true_coding.loc[classification_df.index]\nprint(classification_df.shape)\nclassification_df.head()"
    },
    "executionTime": "2019-09-18T17:53:36.040Z"
   },
   {
    "cell": {
     "executionCount": 107,
     "executionEventId": "acd1a51d-d9fd-4463-b45b-b55850e7ab41",
     "hasError": false,
     "id": "d833a363-e8f9-442c-a767-1590bf856592",
     "outputs": [
      {
       "data": {
        "text/plain": "sequence_id\nSRR306838.10559374 Ibis_Run100924_C3PO:6:51:17601:17119/1     True\nSRR306838.6196593 Ibis_Run100924_C3PO:6:29:16733:12435/1     False\nName: is_coding, dtype: bool"
       },
       "execution_count": 107,
       "metadata": {},
       "output_type": "execute_result"
      }
     ],
     "persistentId": "9fa82db5-58ea-4af3-acad-9097c2aa8bc5",
     "text": "true_coding = blat_results['is_coding'].drop_duplicates()\ntrue_coding.head()"
    },
    "executionTime": "2019-09-18T17:53:52.642Z"
   },
   {
    "cell": {
     "executionCount": 108,
     "executionEventId": "72c3cc85-9c5b-4b12-92d1-53a5e2f8a887",
     "hasError": false,
     "id": "d833a363-e8f9-442c-a767-1590bf856592",
     "outputs": [
      {
       "data": {
        "text/plain": "sequence_id\nSRR306838.10559374 Ibis_Run100924_C3PO:6:51:17601:17119/1     True\nSRR306838.6196593 Ibis_Run100924_C3PO:6:29:16733:12435/1     False\nSRR306838.20767303 Ibis_Run100924_C3PO:6:104:6864:5062/1     False\nSRR306838.12582274 Ibis_Run100924_C3PO:6:62:11779:17975/1    False\nSRR306838.13334230 Ibis_Run100924_C3PO:6:66:16579:20350/1    False\nName: is_coding, dtype: bool"
       },
       "execution_count": 108,
       "metadata": {},
       "output_type": "execute_result"
      }
     ],
     "persistentId": "9fa82db5-58ea-4af3-acad-9097c2aa8bc5",
     "text": "true_coding = blat_results['is_coding']\ntrue_coding = true_coding.loc[~true_coding.index.duplicated()]\ntrue_coding.head()"
    },
    "executionTime": "2019-09-18T17:54:07.878Z"
   },
   {
    "cell": {
     "executionCount": 109,
     "executionEventId": "9cbed194-0377-4f27-9524-50727b23504d",
     "hasError": false,
     "id": "9f432a38-36f3-4adc-ab18-795fbc02b0ff",
     "outputs": [
      {
       "name": "stdout",
       "output_type": "stream",
       "text": "(20, 2)\n"
      },
      {
       "data": {
        "text/html": "<div>\n<style scoped>\n    .dataframe tbody tr th:only-of-type {\n        vertical-align: middle;\n    }\n\n    .dataframe tbody tr th {\n        vertical-align: top;\n    }\n\n    .dataframe thead th {\n        text-align: right;\n    }\n</style>\n<table border=\"1\" class=\"dataframe\">\n  <thead>\n    <tr style=\"text-align: right;\">\n      <th></th>\n      <th>max_peptide_coding_kmers</th>\n      <th>is_coding</th>\n    </tr>\n    <tr>\n      <th>read_id</th>\n      <th></th>\n      <th></th>\n    </tr>\n  </thead>\n  <tbody>\n    <tr>\n      <th>SRR306838.10559374 Ibis_Run100924_C3PO:6:51:17601:17119/1</th>\n      <td>1.000000</td>\n      <td>True</td>\n    </tr>\n    <tr>\n      <th>SRR306838.6196593 Ibis_Run100924_C3PO:6:29:16733:12435/1</th>\n      <td>0.000000</td>\n      <td>False</td>\n    </tr>\n    <tr>\n      <th>SRR306838.20767303 Ibis_Run100924_C3PO:6:104:6864:5062/1</th>\n      <td>0.187500</td>\n      <td>False</td>\n    </tr>\n    <tr>\n      <th>SRR306838.12582274 Ibis_Run100924_C3PO:6:62:11779:17975/1</th>\n      <td>0.066667</td>\n      <td>False</td>\n    </tr>\n    <tr>\n      <th>SRR306838.13334230 Ibis_Run100924_C3PO:6:66:16579:20350/1</th>\n      <td>0.000000</td>\n      <td>False</td>\n    </tr>\n  </tbody>\n</table>\n</div>",
        "text/plain": "                                                    max_peptide_coding_kmers  \\\nread_id                                                                        \nSRR306838.10559374 Ibis_Run100924_C3PO:6:51:176...                  1.000000   \nSRR306838.6196593 Ibis_Run100924_C3PO:6:29:1673...                  0.000000   \nSRR306838.20767303 Ibis_Run100924_C3PO:6:104:68...                  0.187500   \nSRR306838.12582274 Ibis_Run100924_C3PO:6:62:117...                  0.066667   \nSRR306838.13334230 Ibis_Run100924_C3PO:6:66:165...                  0.000000   \n\n                                                    is_coding  \nread_id                                                        \nSRR306838.10559374 Ibis_Run100924_C3PO:6:51:176...       True  \nSRR306838.6196593 Ibis_Run100924_C3PO:6:29:1673...      False  \nSRR306838.20767303 Ibis_Run100924_C3PO:6:104:68...      False  \nSRR306838.12582274 Ibis_Run100924_C3PO:6:62:117...      False  \nSRR306838.13334230 Ibis_Run100924_C3PO:6:66:165...      False  "
       },
       "execution_count": 109,
       "metadata": {},
       "output_type": "execute_result"
      }
     ],
     "persistentId": "6b55768a-f285-4a67-ab1a-cb748e428978",
     "text": "classification_df['is_coding'] = true_coding\nprint(classification_df.shape)\nclassification_df.head()"
    },
    "executionTime": "2019-09-18T17:54:11.046Z"
   },
   {
    "cell": {
     "executionCount": 110,
     "executionEventId": "b18fc627-1f2a-4571-8ebb-810a58e277c2",
     "hasError": false,
     "id": "9f432a38-36f3-4adc-ab18-795fbc02b0ff",
     "outputs": [
      {
       "name": "stdout",
       "output_type": "stream",
       "text": "(20, 2)\n"
      },
      {
       "data": {
        "text/html": "<div>\n<style scoped>\n    .dataframe tbody tr th:only-of-type {\n        vertical-align: middle;\n    }\n\n    .dataframe tbody tr th {\n        vertical-align: top;\n    }\n\n    .dataframe thead th {\n        text-align: right;\n    }\n</style>\n<table border=\"1\" class=\"dataframe\">\n  <thead>\n    <tr style=\"text-align: right;\">\n      <th></th>\n      <th>max_peptide_coding_kmers</th>\n      <th>is_coding</th>\n    </tr>\n    <tr>\n      <th>read_id</th>\n      <th></th>\n      <th></th>\n    </tr>\n  </thead>\n  <tbody>\n    <tr>\n      <th>SRR306838.10559374 Ibis_Run100924_C3PO:6:51:17601:17119/1</th>\n      <td>1.000000</td>\n      <td>True</td>\n    </tr>\n    <tr>\n      <th>SRR306838.6196593 Ibis_Run100924_C3PO:6:29:16733:12435/1</th>\n      <td>0.000000</td>\n      <td>False</td>\n    </tr>\n    <tr>\n      <th>SRR306838.20767303 Ibis_Run100924_C3PO:6:104:6864:5062/1</th>\n      <td>0.187500</td>\n      <td>False</td>\n    </tr>\n    <tr>\n      <th>SRR306838.12582274 Ibis_Run100924_C3PO:6:62:11779:17975/1</th>\n      <td>0.066667</td>\n      <td>False</td>\n    </tr>\n    <tr>\n      <th>SRR306838.13334230 Ibis_Run100924_C3PO:6:66:16579:20350/1</th>\n      <td>0.000000</td>\n      <td>False</td>\n    </tr>\n    <tr>\n      <th>SRR306838.2740879 Ibis_Run100924_C3PO:6:13:11155:5248/1</th>\n      <td>1.000000</td>\n      <td>True</td>\n    </tr>\n    <tr>\n      <th>SRR306838.6813354 Ibis_Run100924_C3PO:6:32:10591:13073/1</th>\n      <td>0.000000</td>\n      <td>False</td>\n    </tr>\n    <tr>\n      <th>SRR306838.23113368 Ibis_Run100924_C3PO:6:114:13840:18459/1</th>\n      <td>0.000000</td>\n      <td>False</td>\n    </tr>\n    <tr>\n      <th>SRR306838.10872941 Ibis_Run100924_C3PO:6:53:6164:10522/1</th>\n      <td>0.000000</td>\n      <td>False</td>\n    </tr>\n    <tr>\n      <th>SRR306838.6192120 Ibis_Run100924_C3PO:6:29:5833:11991/1</th>\n      <td>0.000000</td>\n      <td>False</td>\n    </tr>\n    <tr>\n      <th>SRR306838.21295280 Ibis_Run100924_C3PO:6:106:2590:13965/1</th>\n      <td>0.117647</td>\n      <td>False</td>\n    </tr>\n    <tr>\n      <th>SRR306838.21201208 Ibis_Run100924_C3PO:6:106:2763:5109/1</th>\n      <td>0.000000</td>\n      <td>False</td>\n    </tr>\n    <tr>\n      <th>SRR306838.18327923 Ibis_Run100924_C3PO:6:92:9077:13885/1</th>\n      <td>0.062500</td>\n      <td>False</td>\n    </tr>\n    <tr>\n      <th>SRR306838.4880582 Ibis_Run100924_C3PO:6:23:17413:5436/1</th>\n      <td>1.000000</td>\n      <td>True</td>\n    </tr>\n    <tr>\n      <th>SRR306838.21417895 Ibis_Run100924_C3PO:6:107:8793:5012/1</th>\n      <td>0.062500</td>\n      <td>False</td>\n    </tr>\n    <tr>\n      <th>SRR306838.17165743 Ibis_Run100924_C3PO:6:86:18789:18450/1</th>\n      <td>0.000000</td>\n      <td>False</td>\n    </tr>\n    <tr>\n      <th>SRR306838.21229494 Ibis_Run100924_C3PO:6:106:6163:7753/1</th>\n      <td>0.000000</td>\n      <td>False</td>\n    </tr>\n    <tr>\n      <th>SRR306838.21218773 Ibis_Run100924_C3PO:6:106:16921:6743/1</th>\n      <td>0.800000</td>\n      <td>True</td>\n    </tr>\n    <tr>\n      <th>SRR306838.20124664 Ibis_Run100924_C3PO:6:101:4701:5309/1</th>\n      <td>0.222222</td>\n      <td>False</td>\n    </tr>\n    <tr>\n      <th>SRR306838.16841308 Ibis_Run100924_C3PO:6:85:6205:5805/1</th>\n      <td>0.000000</td>\n      <td>False</td>\n    </tr>\n  </tbody>\n</table>\n</div>",
        "text/plain": "                                                    max_peptide_coding_kmers  \\\nread_id                                                                        \nSRR306838.10559374 Ibis_Run100924_C3PO:6:51:176...                  1.000000   \nSRR306838.6196593 Ibis_Run100924_C3PO:6:29:1673...                  0.000000   \nSRR306838.20767303 Ibis_Run100924_C3PO:6:104:68...                  0.187500   \nSRR306838.12582274 Ibis_Run100924_C3PO:6:62:117...                  0.066667   \nSRR306838.13334230 Ibis_Run100924_C3PO:6:66:165...                  0.000000   \nSRR306838.2740879 Ibis_Run100924_C3PO:6:13:1115...                  1.000000   \nSRR306838.6813354 Ibis_Run100924_C3PO:6:32:1059...                  0.000000   \nSRR306838.23113368 Ibis_Run100924_C3PO:6:114:13...                  0.000000   \nSRR306838.10872941 Ibis_Run100924_C3PO:6:53:616...                  0.000000   \nSRR306838.6192120 Ibis_Run100924_C3PO:6:29:5833...                  0.000000   \nSRR306838.21295280 Ibis_Run100924_C3PO:6:106:25...                  0.117647   \nSRR306838.21201208 Ibis_Run100924_C3PO:6:106:27...                  0.000000   \nSRR306838.18327923 Ibis_Run100924_C3PO:6:92:907...                  0.062500   \nSRR306838.4880582 Ibis_Run100924_C3PO:6:23:1741...                  1.000000   \nSRR306838.21417895 Ibis_Run100924_C3PO:6:107:87...                  0.062500   \nSRR306838.17165743 Ibis_Run100924_C3PO:6:86:187...                  0.000000   \nSRR306838.21229494 Ibis_Run100924_C3PO:6:106:61...                  0.000000   \nSRR306838.21218773 Ibis_Run100924_C3PO:6:106:16...                  0.800000   \nSRR306838.20124664 Ibis_Run100924_C3PO:6:101:47...                  0.222222   \nSRR306838.16841308 Ibis_Run100924_C3PO:6:85:620...                  0.000000   \n\n                                                    is_coding  \nread_id                                                        \nSRR306838.10559374 Ibis_Run100924_C3PO:6:51:176...       True  \nSRR306838.6196593 Ibis_Run100924_C3PO:6:29:1673...      False  \nSRR306838.20767303 Ibis_Run100924_C3PO:6:104:68...      False  \nSRR306838.12582274 Ibis_Run100924_C3PO:6:62:117...      False  \nSRR306838.13334230 Ibis_Run100924_C3PO:6:66:165...      False  \nSRR306838.2740879 Ibis_Run100924_C3PO:6:13:1115...       True  \nSRR306838.6813354 Ibis_Run100924_C3PO:6:32:1059...      False  \nSRR306838.23113368 Ibis_Run100924_C3PO:6:114:13...      False  \nSRR306838.10872941 Ibis_Run100924_C3PO:6:53:616...      False  \nSRR306838.6192120 Ibis_Run100924_C3PO:6:29:5833...      False  \nSRR306838.21295280 Ibis_Run100924_C3PO:6:106:25...      False  \nSRR306838.21201208 Ibis_Run100924_C3PO:6:106:27...      False  \nSRR306838.18327923 Ibis_Run100924_C3PO:6:92:907...      False  \nSRR306838.4880582 Ibis_Run100924_C3PO:6:23:1741...       True  \nSRR306838.21417895 Ibis_Run100924_C3PO:6:107:87...      False  \nSRR306838.17165743 Ibis_Run100924_C3PO:6:86:187...      False  \nSRR306838.21229494 Ibis_Run100924_C3PO:6:106:61...      False  \nSRR306838.21218773 Ibis_Run100924_C3PO:6:106:16...       True  \nSRR306838.20124664 Ibis_Run100924_C3PO:6:101:47...      False  \nSRR306838.16841308 Ibis_Run100924_C3PO:6:85:620...      False  "
       },
       "execution_count": 110,
       "metadata": {},
       "output_type": "execute_result"
      }
     ],
     "persistentId": "6b55768a-f285-4a67-ab1a-cb748e428978",
     "text": "classification_df['is_coding'] = true_coding\nprint(classification_df.shape)\nclassification_df"
    },
    "executionTime": "2019-09-18T17:54:16.353Z"
   },
   {
    "cell": {
     "executionCount": 111,
     "executionEventId": "3c6a258d-2f64-4645-8785-864a3ede30df",
     "hasError": false,
     "id": "55e10ce9-7ecf-4d47-acc0-263024add8bd",
     "outputs": [
      {
       "name": "stderr",
       "output_type": "stream",
       "text": "/home/olga/miniconda3/envs/kmer-hashing/lib/python3.6/site-packages/Bio/Seq.py:2715: BiopythonWarning: Partial codon, len(sequence) not a multiple of three. Explicitly trim the sequence or add trailing N before translation. This may become an error in future.\n  BiopythonWarning)\n"
      }
     ],
     "persistentId": "954ef7d8-1e5c-43fa-87bf-0098fd2cd414",
     "text": "classification_lines = []\n\n\ndef six_frame_translation_no_stops(seq):\n    forward_translations = three_frame_translation_no_stops(seq)\n    reverse_translations = three_frame_translation_no_stops(seq.reverse_complement())\n    return forward_translations + reverse_translations\n\nverbose = False\n\nwith gzip.open('SRR306838_GSM752691_hsa_br_F_1_trimmed_subsampled.fq.gz', 'rt') as f:\n    for i, record in zip(range(20), SeqIO.parse(f, 'fastq')):\n        if verbose:\n            print()\n            print(record.description)\n            print(str(record.seq))\n        translations = six_frame_translation_no_stops(record.seq)\n        \n        max_fraction = 0\n        for translation in translations:\n            if verbose:\n                print(f\"\\t{translation}\")\n            kmers = list(set(kmerize(str(translation), peptide_ksize)))\n            hashes = [hash_murmur(kmer) for kmer in kmers]\n            n_kmers = len(kmers)\n            n_kmers_in_peptide_db = sum(1 for h in hashes if peptide_graph.get(h) > 0)\n            kmers_in_peptide_db = {(k, h): peptide_graph.get(h) for k, h in zip(kmers, hashes)}\n            fraction_in_peptide_db = n_kmers_in_peptide_db/n_kmers\n            max_fraction = max(max_fraction, fraction_in_peptide_db)\n            if verbose and fraction_in_peptide_db > 0.9:\n                pprint(kmers_in_peptide_db)\n            if verbose:\n                print(f'n_kmers_in_peptide_db/n_kmers: {n_kmers_in_peptide_db}/{n_kmers} = {fraction_in_peptide_db}')\n        classification_lines.append([record.description, max_fraction])"
    },
    "executionTime": "2019-09-18T17:55:07.070Z"
   },
   {
    "cell": {
     "executionCount": 112,
     "executionEventId": "9f5546be-d203-43c7-9fbe-009d796be45a",
     "hasError": true,
     "id": "47426cf6-0ab8-4e3d-a0d6-83500d8662a7",
     "outputs": [
      {
       "name": "stderr",
       "output_type": "stream",
       "text": "/home/olga/miniconda3/envs/kmer-hashing/lib/python3.6/site-packages/Bio/Seq.py:2715: BiopythonWarning: Partial codon, len(sequence) not a multiple of three. Explicitly trim the sequence or add trailing N before translation. This may become an error in future.\n  BiopythonWarning)\n"
      },
      {
       "ename": "ZeroDivisionError",
       "evalue": "division by zero",
       "output_type": "error",
       "traceback": [
        "\u001b[0;31m---------------------------------------------------------------------------\u001b[0m",
        "\u001b[0;31mZeroDivisionError\u001b[0m                         Traceback (most recent call last)",
        "\u001b[0;32m<ipython-input-112-0d36995f5a0e>\u001b[0m in \u001b[0;36m<module>\u001b[0;34m()\u001b[0m\n\u001b[1;32m     26\u001b[0m             \u001b[0mn_kmers_in_peptide_db\u001b[0m \u001b[0;34m=\u001b[0m \u001b[0msum\u001b[0m\u001b[0;34m(\u001b[0m\u001b[0;36m1\u001b[0m \u001b[0;32mfor\u001b[0m \u001b[0mh\u001b[0m \u001b[0;32min\u001b[0m \u001b[0mhashes\u001b[0m \u001b[0;32mif\u001b[0m \u001b[0mpeptide_graph\u001b[0m\u001b[0;34m.\u001b[0m\u001b[0mget\u001b[0m\u001b[0;34m(\u001b[0m\u001b[0mh\u001b[0m\u001b[0;34m)\u001b[0m \u001b[0;34m>\u001b[0m \u001b[0;36m0\u001b[0m\u001b[0;34m)\u001b[0m\u001b[0;34m\u001b[0m\u001b[0;34m\u001b[0m\u001b[0m\n\u001b[1;32m     27\u001b[0m             \u001b[0mkmers_in_peptide_db\u001b[0m \u001b[0;34m=\u001b[0m \u001b[0;34m{\u001b[0m\u001b[0;34m(\u001b[0m\u001b[0mk\u001b[0m\u001b[0;34m,\u001b[0m \u001b[0mh\u001b[0m\u001b[0;34m)\u001b[0m\u001b[0;34m:\u001b[0m \u001b[0mpeptide_graph\u001b[0m\u001b[0;34m.\u001b[0m\u001b[0mget\u001b[0m\u001b[0;34m(\u001b[0m\u001b[0mh\u001b[0m\u001b[0;34m)\u001b[0m \u001b[0;32mfor\u001b[0m \u001b[0mk\u001b[0m\u001b[0;34m,\u001b[0m \u001b[0mh\u001b[0m \u001b[0;32min\u001b[0m \u001b[0mzip\u001b[0m\u001b[0;34m(\u001b[0m\u001b[0mkmers\u001b[0m\u001b[0;34m,\u001b[0m \u001b[0mhashes\u001b[0m\u001b[0;34m)\u001b[0m\u001b[0;34m}\u001b[0m\u001b[0;34m\u001b[0m\u001b[0;34m\u001b[0m\u001b[0m\n\u001b[0;32m---> 28\u001b[0;31m             \u001b[0mfraction_in_peptide_db\u001b[0m \u001b[0;34m=\u001b[0m \u001b[0mn_kmers_in_peptide_db\u001b[0m\u001b[0;34m/\u001b[0m\u001b[0mn_kmers\u001b[0m\u001b[0;34m\u001b[0m\u001b[0;34m\u001b[0m\u001b[0m\n\u001b[0m\u001b[1;32m     29\u001b[0m             \u001b[0mmax_fraction\u001b[0m \u001b[0;34m=\u001b[0m \u001b[0mmax\u001b[0m\u001b[0;34m(\u001b[0m\u001b[0mmax_fraction\u001b[0m\u001b[0;34m,\u001b[0m \u001b[0mfraction_in_peptide_db\u001b[0m\u001b[0;34m)\u001b[0m\u001b[0;34m\u001b[0m\u001b[0;34m\u001b[0m\u001b[0m\n\u001b[1;32m     30\u001b[0m             \u001b[0;32mif\u001b[0m \u001b[0mverbose\u001b[0m \u001b[0;32mand\u001b[0m \u001b[0mfraction_in_peptide_db\u001b[0m \u001b[0;34m>\u001b[0m \u001b[0;36m0.9\u001b[0m\u001b[0;34m:\u001b[0m\u001b[0;34m\u001b[0m\u001b[0;34m\u001b[0m\u001b[0m\n",
        "\u001b[0;31mZeroDivisionError\u001b[0m: division by zero"
       ]
      }
     ],
     "persistentId": "51192b86-d752-4730-a0aa-2ea23495690e",
     "text": "classification_lines = []\n\n\ndef six_frame_translation_no_stops(seq):\n    forward_translations = three_frame_translation_no_stops(seq)\n    reverse_translations = three_frame_translation_no_stops(seq.reverse_complement())\n    return forward_translations + reverse_translations\n\nverbose = False\n\nwith gzip.open('SRR306838_GSM752691_hsa_br_F_1_trimmed_subsampled.fq.gz', 'rt') as f:\n    for record in SeqIO.parse(f, 'fastq'):\n        if verbose:\n            print()\n            print(record.description)\n            print(str(record.seq))\n        translations = six_frame_translation_no_stops(record.seq)\n        \n        max_fraction = 0\n        for translation in translations:\n            if verbose:\n                print(f\"\\t{translation}\")\n            kmers = list(set(kmerize(str(translation), peptide_ksize)))\n            hashes = [hash_murmur(kmer) for kmer in kmers]\n            n_kmers = len(kmers)\n            n_kmers_in_peptide_db = sum(1 for h in hashes if peptide_graph.get(h) > 0)\n            kmers_in_peptide_db = {(k, h): peptide_graph.get(h) for k, h in zip(kmers, hashes)}\n            fraction_in_peptide_db = n_kmers_in_peptide_db/n_kmers\n            max_fraction = max(max_fraction, fraction_in_peptide_db)\n            if verbose and fraction_in_peptide_db > 0.9:\n                pprint(kmers_in_peptide_db)\n            if verbose:\n                print(f'n_kmers_in_peptide_db/n_kmers: {n_kmers_in_peptide_db}/{n_kmers} = {fraction_in_peptide_db}')\n        classification_lines.append([record.description, max_fraction])"
    },
    "executionTime": "2019-09-18T17:55:31.797Z"
   },
   {
    "cell": {
     "executionCount": 113,
     "executionEventId": "3380f908-dcd7-480b-a714-9cb393297a1c",
     "hasError": true,
     "id": "ab029fda-ea3d-4d3e-ae96-baf3de8d4a16",
     "outputs": [
      {
       "ename": "NameError",
       "evalue": "name 'kmrs' is not defined",
       "output_type": "error",
       "traceback": [
        "\u001b[0;31m---------------------------------------------------------------------------\u001b[0m",
        "\u001b[0;31mNameError\u001b[0m                                 Traceback (most recent call last)",
        "\u001b[0;32m<ipython-input-113-047b8c295a19>\u001b[0m in \u001b[0;36m<module>\u001b[0;34m()\u001b[0m\n\u001b[0;32m----> 1\u001b[0;31m \u001b[0mkmrs\u001b[0m\u001b[0;34m\u001b[0m\u001b[0;34m\u001b[0m\u001b[0m\n\u001b[0m",
        "\u001b[0;31mNameError\u001b[0m: name 'kmrs' is not defined"
       ]
      }
     ],
     "persistentId": "4867773c-beed-40bb-95cf-584bc0db9e00",
     "text": "kmrs"
    },
    "executionTime": "2019-09-18T17:56:25.632Z"
   },
   {
    "cell": {
     "executionCount": 114,
     "executionEventId": "0a24b718-a632-44b1-9eeb-63ba29bdf59c",
     "hasError": false,
     "id": "ab029fda-ea3d-4d3e-ae96-baf3de8d4a16",
     "outputs": [
      {
       "data": {
        "text/plain": "[]"
       },
       "execution_count": 114,
       "metadata": {},
       "output_type": "execute_result"
      }
     ],
     "persistentId": "4867773c-beed-40bb-95cf-584bc0db9e00",
     "text": "kmers"
    },
    "executionTime": "2019-09-18T17:56:27.380Z"
   },
   {
    "cell": {
     "executionCount": 115,
     "executionEventId": "18223855-a51a-4d95-89e5-d73c3cc8f4f1",
     "hasError": false,
     "id": "ab029fda-ea3d-4d3e-ae96-baf3de8d4a16",
     "outputs": [
      {
       "data": {
        "text/plain": "Seq('LLSLNP', ExtendedIUPACProtein())"
       },
       "execution_count": 115,
       "metadata": {},
       "output_type": "execute_result"
      }
     ],
     "persistentId": "4867773c-beed-40bb-95cf-584bc0db9e00",
     "text": "translation"
    },
    "executionTime": "2019-09-18T17:56:34.725Z"
   },
   {
    "cell": {
     "executionCount": 116,
     "executionEventId": "210d04c1-533f-4339-98d8-074a7e21e530",
     "hasError": true,
     "id": "47426cf6-0ab8-4e3d-a0d6-83500d8662a7",
     "outputs": [
      {
       "name": "stderr",
       "output_type": "stream",
       "text": "/home/olga/miniconda3/envs/kmer-hashing/lib/python3.6/site-packages/Bio/Seq.py:2715: BiopythonWarning: Partial codon, len(sequence) not a multiple of three. Explicitly trim the sequence or add trailing N before translation. This may become an error in future.\n  BiopythonWarning)\n"
      },
      {
       "ename": "NameError",
       "evalue": "name 'n_unique_kmers' is not defined",
       "output_type": "error",
       "traceback": [
        "\u001b[0;31m---------------------------------------------------------------------------\u001b[0m",
        "\u001b[0;31mNameError\u001b[0m                                 Traceback (most recent call last)",
        "\u001b[0;32m<ipython-input-116-8f8e1e419cf6>\u001b[0m in \u001b[0;36m<module>\u001b[0;34m()\u001b[0m\n\u001b[1;32m     27\u001b[0m             \u001b[0mn_kmers\u001b[0m \u001b[0;34m=\u001b[0m \u001b[0mlen\u001b[0m\u001b[0;34m(\u001b[0m\u001b[0mkmers\u001b[0m\u001b[0;34m)\u001b[0m\u001b[0;34m\u001b[0m\u001b[0;34m\u001b[0m\u001b[0m\n\u001b[1;32m     28\u001b[0m             \u001b[0mn_kmers_in_peptide_db\u001b[0m \u001b[0;34m=\u001b[0m \u001b[0msum\u001b[0m\u001b[0;34m(\u001b[0m\u001b[0;36m1\u001b[0m \u001b[0;32mfor\u001b[0m \u001b[0mh\u001b[0m \u001b[0;32min\u001b[0m \u001b[0mhashes\u001b[0m \u001b[0;32mif\u001b[0m \u001b[0mpeptide_graph\u001b[0m\u001b[0;34m.\u001b[0m\u001b[0mget\u001b[0m\u001b[0;34m(\u001b[0m\u001b[0mh\u001b[0m\u001b[0;34m)\u001b[0m \u001b[0;34m>\u001b[0m \u001b[0;36m0\u001b[0m\u001b[0;34m)\u001b[0m\u001b[0;34m\u001b[0m\u001b[0;34m\u001b[0m\u001b[0m\n\u001b[0;32m---> 29\u001b[0;31m             \u001b[0;32mif\u001b[0m \u001b[0mn_unique_kmers\u001b[0m \u001b[0;34m<\u001b[0m \u001b[0;34m(\u001b[0m\u001b[0mlen\u001b[0m\u001b[0;34m(\u001b[0m\u001b[0mread\u001b[0m\u001b[0;34m.\u001b[0m\u001b[0mseq\u001b[0m\u001b[0;34m)\u001b[0m \u001b[0;34m-\u001b[0m \u001b[0mksize\u001b[0m \u001b[0;34m+\u001b[0m \u001b[0;36m1\u001b[0m\u001b[0;34m)\u001b[0m\u001b[0;34m/\u001b[0m\u001b[0;36m2\u001b[0m\u001b[0;34m:\u001b[0m\u001b[0;34m\u001b[0m\u001b[0;34m\u001b[0m\u001b[0m\n\u001b[0m\u001b[1;32m     30\u001b[0m                 \u001b[0;32mif\u001b[0m \u001b[0mverbose\u001b[0m\u001b[0;34m:\u001b[0m\u001b[0;34m\u001b[0m\u001b[0;34m\u001b[0m\u001b[0m\n\u001b[1;32m     31\u001b[0m                     \u001b[0mprint\u001b[0m\u001b[0;34m(\u001b[0m\u001b[0;34mf'Low complexity sequence!!! n_unique_kmers < (len(read.seq) - ksize + 1)/2  --> {n_unique_kmers} < {(len(read.seq) - ksize + 1)/2}'\u001b[0m\u001b[0;34m)\u001b[0m\u001b[0;34m\u001b[0m\u001b[0;34m\u001b[0m\u001b[0m\n",
        "\u001b[0;31mNameError\u001b[0m: name 'n_unique_kmers' is not defined"
       ]
      }
     ],
     "persistentId": "51192b86-d752-4730-a0aa-2ea23495690e",
     "text": "classification_lines = []\n\n\ndef six_frame_translation_no_stops(seq):\n    forward_translations = three_frame_translation_no_stops(seq)\n    reverse_translations = three_frame_translation_no_stops(seq.reverse_complement())\n    return forward_translations + reverse_translations\n\nverbose = False\n\nwith gzip.open('SRR306838_GSM752691_hsa_br_F_1_trimmed_subsampled.fq.gz', 'rt') as f:\n    for record in SeqIO.parse(f, 'fastq'):\n        if verbose:\n            print()\n            print(record.description)\n            print(str(record.seq))\n        translations = six_frame_translation_no_stops(record.seq)\n        \n        max_fraction = 0\n        for translation in translations:\n            if len(translation) < peptide_ksize:\n                continue\n            if verbose:\n                print(f\"\\t{translation}\")\n            kmers = list(set(kmerize(str(translation), peptide_ksize)))\n            hashes = [hash_murmur(kmer) for kmer in kmers]\n            n_kmers = len(kmers)\n            n_kmers_in_peptide_db = sum(1 for h in hashes if peptide_graph.get(h) > 0)\n            if n_unique_kmers < (len(read.seq) - ksize + 1)/2:\n                if verbose:\n                    print(f'Low complexity sequence!!! n_unique_kmers < (len(read.seq) - ksize + 1)/2  --> {n_unique_kmers} < {(len(read.seq) - ksize + 1)/2}')\n                    print(read_id)\n                    print(read.seq)\n                classification_lines.append([read_id, 'low complexity'])\n                continue\n            \n            kmers_in_peptide_db = {(k, h): peptide_graph.get(h) for k, h in zip(kmers, hashes)}\n            fraction_in_peptide_db = n_kmers_in_peptide_db/n_kmers\n            max_fraction = max(max_fraction, fraction_in_peptide_db)\n            if verbose and fraction_in_peptide_db > 0.9:\n                pprint(kmers_in_peptide_db)\n            if verbose:\n                print(f'n_kmers_in_peptide_db/n_kmers: {n_kmers_in_peptide_db}/{n_kmers} = {fraction_in_peptide_db}')\n        classification_lines.append([record.description, max_fraction])"
    },
    "executionTime": "2019-09-18T17:57:05.595Z"
   },
   {
    "cell": {
     "executionCount": 117,
     "executionEventId": "c85d7c05-5c2d-460a-981d-3ea42461ef15",
     "hasError": true,
     "id": "47426cf6-0ab8-4e3d-a0d6-83500d8662a7",
     "outputs": [
      {
       "name": "stderr",
       "output_type": "stream",
       "text": "/home/olga/miniconda3/envs/kmer-hashing/lib/python3.6/site-packages/Bio/Seq.py:2715: BiopythonWarning: Partial codon, len(sequence) not a multiple of three. Explicitly trim the sequence or add trailing N before translation. This may become an error in future.\n  BiopythonWarning)\n"
      },
      {
       "ename": "NameError",
       "evalue": "name 'read' is not defined",
       "output_type": "error",
       "traceback": [
        "\u001b[0;31m---------------------------------------------------------------------------\u001b[0m",
        "\u001b[0;31mNameError\u001b[0m                                 Traceback (most recent call last)",
        "\u001b[0;32m<ipython-input-117-e6ff5e3ddff5>\u001b[0m in \u001b[0;36m<module>\u001b[0;34m()\u001b[0m\n\u001b[1;32m     27\u001b[0m             \u001b[0mn_kmers\u001b[0m \u001b[0;34m=\u001b[0m \u001b[0mlen\u001b[0m\u001b[0;34m(\u001b[0m\u001b[0mkmers\u001b[0m\u001b[0;34m)\u001b[0m\u001b[0;34m\u001b[0m\u001b[0;34m\u001b[0m\u001b[0m\n\u001b[1;32m     28\u001b[0m             \u001b[0mn_kmers_in_peptide_db\u001b[0m \u001b[0;34m=\u001b[0m \u001b[0msum\u001b[0m\u001b[0;34m(\u001b[0m\u001b[0;36m1\u001b[0m \u001b[0;32mfor\u001b[0m \u001b[0mh\u001b[0m \u001b[0;32min\u001b[0m \u001b[0mhashes\u001b[0m \u001b[0;32mif\u001b[0m \u001b[0mpeptide_graph\u001b[0m\u001b[0;34m.\u001b[0m\u001b[0mget\u001b[0m\u001b[0;34m(\u001b[0m\u001b[0mh\u001b[0m\u001b[0;34m)\u001b[0m \u001b[0;34m>\u001b[0m \u001b[0;36m0\u001b[0m\u001b[0;34m)\u001b[0m\u001b[0;34m\u001b[0m\u001b[0;34m\u001b[0m\u001b[0m\n\u001b[0;32m---> 29\u001b[0;31m             \u001b[0;32mif\u001b[0m \u001b[0mn_kmers\u001b[0m \u001b[0;34m<\u001b[0m \u001b[0;34m(\u001b[0m\u001b[0mlen\u001b[0m\u001b[0;34m(\u001b[0m\u001b[0mread\u001b[0m\u001b[0;34m.\u001b[0m\u001b[0mseq\u001b[0m\u001b[0;34m)\u001b[0m \u001b[0;34m-\u001b[0m \u001b[0mksize\u001b[0m \u001b[0;34m+\u001b[0m \u001b[0;36m1\u001b[0m\u001b[0;34m)\u001b[0m\u001b[0;34m/\u001b[0m\u001b[0;36m2\u001b[0m\u001b[0;34m:\u001b[0m\u001b[0;34m\u001b[0m\u001b[0;34m\u001b[0m\u001b[0m\n\u001b[0m\u001b[1;32m     30\u001b[0m                 \u001b[0;32mif\u001b[0m \u001b[0mverbose\u001b[0m\u001b[0;34m:\u001b[0m\u001b[0;34m\u001b[0m\u001b[0;34m\u001b[0m\u001b[0m\n\u001b[1;32m     31\u001b[0m                     \u001b[0mprint\u001b[0m\u001b[0;34m(\u001b[0m\u001b[0;34mf'Low complexity sequence!!! n_kmers < (len(read.seq) - ksize + 1)/2  --> {n_kmers} < {(len(read.seq) - ksize + 1)/2}'\u001b[0m\u001b[0;34m)\u001b[0m\u001b[0;34m\u001b[0m\u001b[0;34m\u001b[0m\u001b[0m\n",
        "\u001b[0;31mNameError\u001b[0m: name 'read' is not defined"
       ]
      }
     ],
     "persistentId": "51192b86-d752-4730-a0aa-2ea23495690e",
     "text": "classification_lines = []\n\n\ndef six_frame_translation_no_stops(seq):\n    forward_translations = three_frame_translation_no_stops(seq)\n    reverse_translations = three_frame_translation_no_stops(seq.reverse_complement())\n    return forward_translations + reverse_translations\n\nverbose = False\n\nwith gzip.open('SRR306838_GSM752691_hsa_br_F_1_trimmed_subsampled.fq.gz', 'rt') as f:\n    for record in SeqIO.parse(f, 'fastq'):\n        if verbose:\n            print()\n            print(record.description)\n            print(str(record.seq))\n        translations = six_frame_translation_no_stops(record.seq)\n        \n        max_fraction = 0\n        for translation in translations:\n            if len(translation) < peptide_ksize:\n                continue\n            if verbose:\n                print(f\"\\t{translation}\")\n            kmers = list(set(kmerize(str(translation), peptide_ksize)))\n            hashes = [hash_murmur(kmer) for kmer in kmers]\n            n_kmers = len(kmers)\n            n_kmers_in_peptide_db = sum(1 for h in hashes if peptide_graph.get(h) > 0)\n            if n_kmers < (len(read.seq) - ksize + 1)/2:\n                if verbose:\n                    print(f'Low complexity sequence!!! n_kmers < (len(read.seq) - ksize + 1)/2  --> {n_kmers} < {(len(read.seq) - ksize + 1)/2}')\n                    print(read_id)\n                    print(read.seq)\n                classification_lines.append([read_id, 'low complexity'])\n                continue\n            \n            kmers_in_peptide_db = {(k, h): peptide_graph.get(h) for k, h in zip(kmers, hashes)}\n            fraction_in_peptide_db = n_kmers_in_peptide_db/n_kmers\n            max_fraction = max(max_fraction, fraction_in_peptide_db)\n            if verbose and fraction_in_peptide_db > 0.9:\n                pprint(kmers_in_peptide_db)\n            if verbose:\n                print(f'n_kmers_in_peptide_db/n_kmers: {n_kmers_in_peptide_db}/{n_kmers} = {fraction_in_peptide_db}')\n        classification_lines.append([record.description, max_fraction])"
    },
    "executionTime": "2019-09-18T17:57:43.395Z"
   },
   {
    "cell": {
     "executionCount": 118,
     "executionEventId": "3aef838d-72b1-40d5-ab4e-3b47281562ba",
     "hasError": true,
     "id": "47426cf6-0ab8-4e3d-a0d6-83500d8662a7",
     "outputs": [
      {
       "name": "stderr",
       "output_type": "stream",
       "text": "/home/olga/miniconda3/envs/kmer-hashing/lib/python3.6/site-packages/Bio/Seq.py:2715: BiopythonWarning: Partial codon, len(sequence) not a multiple of three. Explicitly trim the sequence or add trailing N before translation. This may become an error in future.\n  BiopythonWarning)\n"
      },
      {
       "ename": "NameError",
       "evalue": "name 'read_id' is not defined",
       "output_type": "error",
       "traceback": [
        "\u001b[0;31m---------------------------------------------------------------------------\u001b[0m",
        "\u001b[0;31mNameError\u001b[0m                                 Traceback (most recent call last)",
        "\u001b[0;32m<ipython-input-118-5f231b86c51e>\u001b[0m in \u001b[0;36m<module>\u001b[0;34m()\u001b[0m\n\u001b[1;32m     32\u001b[0m                     \u001b[0mprint\u001b[0m\u001b[0;34m(\u001b[0m\u001b[0mread_id\u001b[0m\u001b[0;34m)\u001b[0m\u001b[0;34m\u001b[0m\u001b[0;34m\u001b[0m\u001b[0m\n\u001b[1;32m     33\u001b[0m                     \u001b[0mprint\u001b[0m\u001b[0;34m(\u001b[0m\u001b[0mread\u001b[0m\u001b[0;34m.\u001b[0m\u001b[0mseq\u001b[0m\u001b[0;34m)\u001b[0m\u001b[0;34m\u001b[0m\u001b[0;34m\u001b[0m\u001b[0m\n\u001b[0;32m---> 34\u001b[0;31m                 \u001b[0mclassification_lines\u001b[0m\u001b[0;34m.\u001b[0m\u001b[0mappend\u001b[0m\u001b[0;34m(\u001b[0m\u001b[0;34m[\u001b[0m\u001b[0mread_id\u001b[0m\u001b[0;34m,\u001b[0m \u001b[0;34m'low complexity'\u001b[0m\u001b[0;34m]\u001b[0m\u001b[0;34m)\u001b[0m\u001b[0;34m\u001b[0m\u001b[0;34m\u001b[0m\u001b[0m\n\u001b[0m\u001b[1;32m     35\u001b[0m                 \u001b[0;32mcontinue\u001b[0m\u001b[0;34m\u001b[0m\u001b[0;34m\u001b[0m\u001b[0m\n\u001b[1;32m     36\u001b[0m \u001b[0;34m\u001b[0m\u001b[0m\n",
        "\u001b[0;31mNameError\u001b[0m: name 'read_id' is not defined"
       ]
      }
     ],
     "persistentId": "51192b86-d752-4730-a0aa-2ea23495690e",
     "text": "classification_lines = []\n\n\ndef six_frame_translation_no_stops(seq):\n    forward_translations = three_frame_translation_no_stops(seq)\n    reverse_translations = three_frame_translation_no_stops(seq.reverse_complement())\n    return forward_translations + reverse_translations\n\nverbose = False\n\nwith gzip.open('SRR306838_GSM752691_hsa_br_F_1_trimmed_subsampled.fq.gz', 'rt') as f:\n    for record in SeqIO.parse(f, 'fastq'):\n        if verbose:\n            print()\n            print(record.description)\n            print(str(record.seq))\n        translations = six_frame_translation_no_stops(record.seq)\n        \n        max_fraction = 0\n        for translation in translations:\n            if len(translation) < peptide_ksize:\n                continue\n            if verbose:\n                print(f\"\\t{translation}\")\n            kmers = list(set(kmerize(str(translation), peptide_ksize)))\n            hashes = [hash_murmur(kmer) for kmer in kmers]\n            n_kmers = len(kmers)\n            n_kmers_in_peptide_db = sum(1 for h in hashes if peptide_graph.get(h) > 0)\n            if n_kmers < (len(translation) - peptide_ksize + 1)/2:\n                if verbose:\n                    print(f'Low complexity sequence!!! n_kmers < (len(read.seq) - ksize + 1)/2  --> {n_kmers} < {(len(read.seq) - ksize + 1)/2}')\n                    print(read_id)\n                    print(read.seq)\n                classification_lines.append([read_id, 'low complexity'])\n                continue\n            \n            kmers_in_peptide_db = {(k, h): peptide_graph.get(h) for k, h in zip(kmers, hashes)}\n            fraction_in_peptide_db = n_kmers_in_peptide_db/n_kmers\n            max_fraction = max(max_fraction, fraction_in_peptide_db)\n            if verbose and fraction_in_peptide_db > 0.9:\n                pprint(kmers_in_peptide_db)\n            if verbose:\n                print(f'n_kmers_in_peptide_db/n_kmers: {n_kmers_in_peptide_db}/{n_kmers} = {fraction_in_peptide_db}')\n        classification_lines.append([record.description, max_fraction])"
    },
    "executionTime": "2019-09-18T17:57:57.381Z"
   },
   {
    "cell": {
     "executionCount": 119,
     "executionEventId": "63b715a4-b97c-49fb-b54d-1abd9cca509b",
     "hasError": true,
     "id": "47426cf6-0ab8-4e3d-a0d6-83500d8662a7",
     "outputs": [
      {
       "name": "stderr",
       "output_type": "stream",
       "text": "/home/olga/miniconda3/envs/kmer-hashing/lib/python3.6/site-packages/Bio/Seq.py:2715: BiopythonWarning: Partial codon, len(sequence) not a multiple of three. Explicitly trim the sequence or add trailing N before translation. This may become an error in future.\n  BiopythonWarning)\n"
      },
      {
       "ename": "NameError",
       "evalue": "name 'read_id' is not defined",
       "output_type": "error",
       "traceback": [
        "\u001b[0;31m---------------------------------------------------------------------------\u001b[0m",
        "\u001b[0;31mNameError\u001b[0m                                 Traceback (most recent call last)",
        "\u001b[0;32m<ipython-input-119-81a916195239>\u001b[0m in \u001b[0;36m<module>\u001b[0;34m()\u001b[0m\n\u001b[1;32m     32\u001b[0m                     \u001b[0mprint\u001b[0m\u001b[0;34m(\u001b[0m\u001b[0mrecord\u001b[0m\u001b[0;34m.\u001b[0m\u001b[0mdescription\u001b[0m\u001b[0;34m)\u001b[0m\u001b[0;34m\u001b[0m\u001b[0;34m\u001b[0m\u001b[0m\n\u001b[1;32m     33\u001b[0m                     \u001b[0mprint\u001b[0m\u001b[0;34m(\u001b[0m\u001b[0mrecord\u001b[0m\u001b[0;34m.\u001b[0m\u001b[0mseq\u001b[0m\u001b[0;34m)\u001b[0m\u001b[0;34m\u001b[0m\u001b[0;34m\u001b[0m\u001b[0m\n\u001b[0;32m---> 34\u001b[0;31m                 \u001b[0mclassification_lines\u001b[0m\u001b[0;34m.\u001b[0m\u001b[0mappend\u001b[0m\u001b[0;34m(\u001b[0m\u001b[0;34m[\u001b[0m\u001b[0mread_id\u001b[0m\u001b[0;34m,\u001b[0m \u001b[0;34m'low complexity'\u001b[0m\u001b[0;34m]\u001b[0m\u001b[0;34m)\u001b[0m\u001b[0;34m\u001b[0m\u001b[0;34m\u001b[0m\u001b[0m\n\u001b[0m\u001b[1;32m     35\u001b[0m                 \u001b[0;32mcontinue\u001b[0m\u001b[0;34m\u001b[0m\u001b[0;34m\u001b[0m\u001b[0m\n\u001b[1;32m     36\u001b[0m \u001b[0;34m\u001b[0m\u001b[0m\n",
        "\u001b[0;31mNameError\u001b[0m: name 'read_id' is not defined"
       ]
      }
     ],
     "persistentId": "51192b86-d752-4730-a0aa-2ea23495690e",
     "text": "classification_lines = []\n\n\ndef six_frame_translation_no_stops(seq):\n    forward_translations = three_frame_translation_no_stops(seq)\n    reverse_translations = three_frame_translation_no_stops(seq.reverse_complement())\n    return forward_translations + reverse_translations\n\nverbose = False\n\nwith gzip.open('SRR306838_GSM752691_hsa_br_F_1_trimmed_subsampled.fq.gz', 'rt') as f:\n    for record in SeqIO.parse(f, 'fastq'):\n        if verbose:\n            print()\n            print(record.description)\n            print(str(record.seq))\n        translations = six_frame_translation_no_stops(record.seq)\n        \n        max_fraction = 0\n        for translation in translations:\n            if len(translation) < peptide_ksize:\n                continue\n            if verbose:\n                print(f\"\\t{translation}\")\n            kmers = list(set(kmerize(str(translation), peptide_ksize)))\n            hashes = [hash_murmur(kmer) for kmer in kmers]\n            n_kmers = len(kmers)\n            n_kmers_in_peptide_db = sum(1 for h in hashes if peptide_graph.get(h) > 0)\n            if n_kmers < (len(translation) - peptide_ksize + 1)/2:\n                if verbose:\n                    print(f'Low complexity sequence!!! n_kmers < (len(read.seq) - ksize + 1)/2  --> {n_kmers} < {(len(read.seq) - ksize + 1)/2}')\n                    print(record.description)\n                    print(record.seq)\n                classification_lines.append([read_id, 'low complexity'])\n                continue\n            \n            kmers_in_peptide_db = {(k, h): peptide_graph.get(h) for k, h in zip(kmers, hashes)}\n            fraction_in_peptide_db = n_kmers_in_peptide_db/n_kmers\n            max_fraction = max(max_fraction, fraction_in_peptide_db)\n            if verbose and fraction_in_peptide_db > 0.9:\n                pprint(kmers_in_peptide_db)\n            if verbose:\n                print(f'n_kmers_in_peptide_db/n_kmers: {n_kmers_in_peptide_db}/{n_kmers} = {fraction_in_peptide_db}')\n        classification_lines.append([record.description, max_fraction])"
    },
    "executionTime": "2019-09-18T17:58:14.874Z"
   },
   {
    "cell": {
     "executionCount": 120,
     "executionEventId": "8ee9512b-e73b-408e-9b99-c78c7e6827a8",
     "hasError": false,
     "id": "47426cf6-0ab8-4e3d-a0d6-83500d8662a7",
     "outputs": [
      {
       "name": "stderr",
       "output_type": "stream",
       "text": "/home/olga/miniconda3/envs/kmer-hashing/lib/python3.6/site-packages/Bio/Seq.py:2715: BiopythonWarning: Partial codon, len(sequence) not a multiple of three. Explicitly trim the sequence or add trailing N before translation. This may become an error in future.\n  BiopythonWarning)\n"
      }
     ],
     "persistentId": "51192b86-d752-4730-a0aa-2ea23495690e",
     "text": "classification_lines = []\n\n\ndef six_frame_translation_no_stops(seq):\n    forward_translations = three_frame_translation_no_stops(seq)\n    reverse_translations = three_frame_translation_no_stops(seq.reverse_complement())\n    return forward_translations + reverse_translations\n\nverbose = False\n\nwith gzip.open('SRR306838_GSM752691_hsa_br_F_1_trimmed_subsampled.fq.gz', 'rt') as f:\n    for record in SeqIO.parse(f, 'fastq'):\n        if verbose:\n            print()\n            print(record.description)\n            print(str(record.seq))\n        translations = six_frame_translation_no_stops(record.seq)\n        \n        max_fraction = 0\n        for translation in translations:\n            if len(translation) < peptide_ksize:\n                continue\n            if verbose:\n                print(f\"\\t{translation}\")\n            kmers = list(set(kmerize(str(translation), peptide_ksize)))\n            hashes = [hash_murmur(kmer) for kmer in kmers]\n            n_kmers = len(kmers)\n            n_kmers_in_peptide_db = sum(1 for h in hashes if peptide_graph.get(h) > 0)\n            if n_kmers < (len(translation) - peptide_ksize + 1)/2:\n                if verbose:\n                    print(f'Low complexity sequence!!! n_kmers < (len(read.seq) - ksize + 1)/2  --> {n_kmers} < {(len(record.seq) - ksize + 1)/2}')\n                    print(record.description)\n                    print(record.seq)\n                classification_lines.append([record.description, 'low complexity'])\n                continue\n            \n            kmers_in_peptide_db = {(k, h): peptide_graph.get(h) for k, h in zip(kmers, hashes)}\n            fraction_in_peptide_db = n_kmers_in_peptide_db/n_kmers\n            max_fraction = max(max_fraction, fraction_in_peptide_db)\n            if verbose and fraction_in_peptide_db > 0.9:\n                pprint(kmers_in_peptide_db)\n            if verbose:\n                print(f'n_kmers_in_peptide_db/n_kmers: {n_kmers_in_peptide_db}/{n_kmers} = {fraction_in_peptide_db}')\n        classification_lines.append([record.description, max_fraction])"
    },
    "executionTime": "2019-09-18T17:58:30.476Z"
   },
   {
    "cell": {
     "executionCount": 121,
     "executionEventId": "b077fcf0-d740-4b2d-8d17-ba578d6d61d5",
     "hasError": false,
     "id": "47426cf6-0ab8-4e3d-a0d6-83500d8662a7",
     "outputs": [
      {
       "name": "stderr",
       "output_type": "stream",
       "text": "/home/olga/miniconda3/envs/kmer-hashing/lib/python3.6/site-packages/Bio/Seq.py:2715: BiopythonWarning: Partial codon, len(sequence) not a multiple of three. Explicitly trim the sequence or add trailing N before translation. This may become an error in future.\n  BiopythonWarning)\n"
      }
     ],
     "persistentId": "51192b86-d752-4730-a0aa-2ea23495690e",
     "text": "classification_lines = []\n\n\nscoring_lines = []\n\ndef six_frame_translation_no_stops(seq):\n    forward_translations = three_frame_translation_no_stops(seq)\n    reverse_translations = three_frame_translation_no_stops(seq.reverse_complement())\n    return forward_translations + reverse_translations\n\nverbose = False\n\nwith gzip.open('SRR306838_GSM752691_hsa_br_F_1_trimmed_subsampled.fq.gz', 'rt') as f:\n    for record in SeqIO.parse(f, 'fastq'):\n        if verbose:\n            print()\n            print(record.description)\n            print(str(record.seq))\n        translations = six_frame_translation_no_stops(record.seq)\n        \n        max_fraction = 0\n        for translation in translations:\n            if len(translation) < peptide_ksize:\n                continue\n            if verbose:\n                print(f\"\\t{translation}\")\n            kmers = list(set(kmerize(str(translation), peptide_ksize)))\n            hashes = [hash_murmur(kmer) for kmer in kmers]\n            n_kmers = len(kmers)\n            n_kmers_in_peptide_db = sum(1 for h in hashes if peptide_graph.get(h) > 0)\n            if n_kmers < (len(translation) - peptide_ksize + 1)/2:\n                if verbose:\n                    print(f'Low complexity sequence!!! n_kmers < (len(read.seq) - ksize + 1)/2  --> {n_kmers} < {(len(record.seq) - ksize + 1)/2}')\n                    print(record.description)\n                    print(record.seq)\n                classification_lines.append([record.description, 'low complexity'])\n                continue\n            \n            kmers_in_peptide_db = {(k, h): peptide_graph.get(h) for k, h in zip(kmers, hashes)}\n            fraction_in_peptide_db = n_kmers_in_peptide_db/n_kmers\n            max_fraction = max(max_fraction, fraction_in_peptide_db)\n            if fraction_in_peptide_db > 0.9:\n                classification_lines.append([record.description, 'coding'])\n            else:\n                classification_lines.append([record.description, 'non-coding'])\n            if verbose:\n                pprint(kmers_in_peptide_db)\n                print(f'n_kmers_in_peptide_db/n_kmers: {n_kmers_in_peptide_db}/{n_kmers} = {fraction_in_peptide_db}')\n        scoring_lines.append([record.description, max_fraction])"
    },
    "executionTime": "2019-09-18T17:59:42.925Z"
   },
   {
    "cell": {
     "executionCount": 122,
     "executionEventId": "aa5a2099-121e-473d-951c-d18b3722a6a4",
     "hasError": false,
     "id": "ab029fda-ea3d-4d3e-ae96-baf3de8d4a16",
     "outputs": [
      {
       "name": "stdout",
       "output_type": "stream",
       "text": "(2066, 2)\n"
      },
      {
       "data": {
        "text/html": "<div>\n<style scoped>\n    .dataframe tbody tr th:only-of-type {\n        vertical-align: middle;\n    }\n\n    .dataframe tbody tr th {\n        vertical-align: top;\n    }\n\n    .dataframe thead th {\n        text-align: right;\n    }\n</style>\n<table border=\"1\" class=\"dataframe\">\n  <thead>\n    <tr style=\"text-align: right;\">\n      <th></th>\n      <th>read_id</th>\n      <th>coding_score</th>\n    </tr>\n  </thead>\n  <tbody>\n    <tr>\n      <th>0</th>\n      <td>SRR306838.10559374 Ibis_Run100924_C3PO:6:51:17...</td>\n      <td>non-coding</td>\n    </tr>\n    <tr>\n      <th>1</th>\n      <td>SRR306838.10559374 Ibis_Run100924_C3PO:6:51:17...</td>\n      <td>coding</td>\n    </tr>\n    <tr>\n      <th>2</th>\n      <td>SRR306838.10559374 Ibis_Run100924_C3PO:6:51:17...</td>\n      <td>non-coding</td>\n    </tr>\n    <tr>\n      <th>3</th>\n      <td>SRR306838.6196593 Ibis_Run100924_C3PO:6:29:167...</td>\n      <td>non-coding</td>\n    </tr>\n    <tr>\n      <th>4</th>\n      <td>SRR306838.6196593 Ibis_Run100924_C3PO:6:29:167...</td>\n      <td>non-coding</td>\n    </tr>\n  </tbody>\n</table>\n</div>",
        "text/plain": "                                             read_id coding_score\n0  SRR306838.10559374 Ibis_Run100924_C3PO:6:51:17...   non-coding\n1  SRR306838.10559374 Ibis_Run100924_C3PO:6:51:17...       coding\n2  SRR306838.10559374 Ibis_Run100924_C3PO:6:51:17...   non-coding\n3  SRR306838.6196593 Ibis_Run100924_C3PO:6:29:167...   non-coding\n4  SRR306838.6196593 Ibis_Run100924_C3PO:6:29:167...   non-coding"
       },
       "execution_count": 122,
       "metadata": {},
       "output_type": "execute_result"
      }
     ],
     "persistentId": "4867773c-beed-40bb-95cf-584bc0db9e00",
     "text": "classification_df = pd.DataFrame(classification_lines, columns=['read_id', 'coding_score'])\nprint(classification_df.shape)\nclassification_df.head()"
    },
    "executionTime": "2019-09-18T18:00:32.505Z"
   },
   {
    "cell": {
     "executionCount": 123,
     "executionEventId": "4a28123b-6c38-4a03-9e08-84e5ad8eb35b",
     "hasError": false,
     "id": "ab029fda-ea3d-4d3e-ae96-baf3de8d4a16",
     "outputs": [
      {
       "name": "stdout",
       "output_type": "stream",
       "text": "(2066, 2)\n"
      },
      {
       "data": {
        "text/html": "<div>\n<style scoped>\n    .dataframe tbody tr th:only-of-type {\n        vertical-align: middle;\n    }\n\n    .dataframe tbody tr th {\n        vertical-align: top;\n    }\n\n    .dataframe thead th {\n        text-align: right;\n    }\n</style>\n<table border=\"1\" class=\"dataframe\">\n  <thead>\n    <tr style=\"text-align: right;\">\n      <th></th>\n      <th>read_id</th>\n      <th>classification</th>\n    </tr>\n  </thead>\n  <tbody>\n    <tr>\n      <th>0</th>\n      <td>SRR306838.10559374 Ibis_Run100924_C3PO:6:51:17...</td>\n      <td>non-coding</td>\n    </tr>\n    <tr>\n      <th>1</th>\n      <td>SRR306838.10559374 Ibis_Run100924_C3PO:6:51:17...</td>\n      <td>coding</td>\n    </tr>\n    <tr>\n      <th>2</th>\n      <td>SRR306838.10559374 Ibis_Run100924_C3PO:6:51:17...</td>\n      <td>non-coding</td>\n    </tr>\n    <tr>\n      <th>3</th>\n      <td>SRR306838.6196593 Ibis_Run100924_C3PO:6:29:167...</td>\n      <td>non-coding</td>\n    </tr>\n    <tr>\n      <th>4</th>\n      <td>SRR306838.6196593 Ibis_Run100924_C3PO:6:29:167...</td>\n      <td>non-coding</td>\n    </tr>\n  </tbody>\n</table>\n</div>",
        "text/plain": "                                             read_id classification\n0  SRR306838.10559374 Ibis_Run100924_C3PO:6:51:17...     non-coding\n1  SRR306838.10559374 Ibis_Run100924_C3PO:6:51:17...         coding\n2  SRR306838.10559374 Ibis_Run100924_C3PO:6:51:17...     non-coding\n3  SRR306838.6196593 Ibis_Run100924_C3PO:6:29:167...     non-coding\n4  SRR306838.6196593 Ibis_Run100924_C3PO:6:29:167...     non-coding"
       },
       "execution_count": 123,
       "metadata": {},
       "output_type": "execute_result"
      }
     ],
     "persistentId": "4867773c-beed-40bb-95cf-584bc0db9e00",
     "text": "classification_df = pd.DataFrame(classification_lines, columns=['read_id', 'classification'])\nprint(classification_df.shape)\nclassification_df.head()"
    },
    "executionTime": "2019-09-18T18:00:41.669Z"
   },
   {
    "cell": {
     "executionCount": 124,
     "executionEventId": "0aee1c3c-c6fd-4b0a-8d3e-b28e932f4441",
     "hasError": false,
     "id": "9abc6d35-eb15-4320-99fa-848b28b5268a",
     "outputs": [
      {
       "name": "stdout",
       "output_type": "stream",
       "text": "(1000, 2)\n"
      },
      {
       "data": {
        "text/html": "<div>\n<style scoped>\n    .dataframe tbody tr th:only-of-type {\n        vertical-align: middle;\n    }\n\n    .dataframe tbody tr th {\n        vertical-align: top;\n    }\n\n    .dataframe thead th {\n        text-align: right;\n    }\n</style>\n<table border=\"1\" class=\"dataframe\">\n  <thead>\n    <tr style=\"text-align: right;\">\n      <th></th>\n      <th>read_id</th>\n      <th>coding_score</th>\n    </tr>\n  </thead>\n  <tbody>\n    <tr>\n      <th>0</th>\n      <td>SRR306838.10559374 Ibis_Run100924_C3PO:6:51:17...</td>\n      <td>1.000000</td>\n    </tr>\n    <tr>\n      <th>1</th>\n      <td>SRR306838.6196593 Ibis_Run100924_C3PO:6:29:167...</td>\n      <td>0.000000</td>\n    </tr>\n    <tr>\n      <th>2</th>\n      <td>SRR306838.20767303 Ibis_Run100924_C3PO:6:104:6...</td>\n      <td>0.187500</td>\n    </tr>\n    <tr>\n      <th>3</th>\n      <td>SRR306838.12582274 Ibis_Run100924_C3PO:6:62:11...</td>\n      <td>0.066667</td>\n    </tr>\n    <tr>\n      <th>4</th>\n      <td>SRR306838.13334230 Ibis_Run100924_C3PO:6:66:16...</td>\n      <td>0.000000</td>\n    </tr>\n  </tbody>\n</table>\n</div>",
        "text/plain": "                                             read_id  coding_score\n0  SRR306838.10559374 Ibis_Run100924_C3PO:6:51:17...      1.000000\n1  SRR306838.6196593 Ibis_Run100924_C3PO:6:29:167...      0.000000\n2  SRR306838.20767303 Ibis_Run100924_C3PO:6:104:6...      0.187500\n3  SRR306838.12582274 Ibis_Run100924_C3PO:6:62:11...      0.066667\n4  SRR306838.13334230 Ibis_Run100924_C3PO:6:66:16...      0.000000"
       },
       "execution_count": 124,
       "metadata": {},
       "output_type": "execute_result"
      }
     ],
     "persistentId": "607b9ea5-7fb0-465d-b7f8-05b402f0b361",
     "text": "score_df = pd.DataFrame(scoring_lines, columns=['read_id', 'coding_score'])\nprint(score_df.shape)\nscore_df.head()"
    },
    "executionTime": "2019-09-18T18:00:59.259Z"
   },
   {
    "cell": {
     "executionCount": 125,
     "executionEventId": "99fc27ca-9aa7-45bc-9fd7-5c1c488849fd",
     "hasError": false,
     "id": "47426cf6-0ab8-4e3d-a0d6-83500d8662a7",
     "outputs": [
      {
       "name": "stderr",
       "output_type": "stream",
       "text": "/home/olga/miniconda3/envs/kmer-hashing/lib/python3.6/site-packages/Bio/Seq.py:2715: BiopythonWarning: Partial codon, len(sequence) not a multiple of three. Explicitly trim the sequence or add trailing N before translation. This may become an error in future.\n  BiopythonWarning)\n"
      }
     ],
     "persistentId": "51192b86-d752-4730-a0aa-2ea23495690e",
     "text": "classification_lines = []\n\n\nscoring_lines = []\n\ndef six_frame_translation_no_stops(seq):\n    forward_translations = three_frame_translation_no_stops(seq)\n    reverse_translations = three_frame_translation_no_stops(seq.reverse_complement())\n    return forward_translations + reverse_translations\n\nverbose = False\n\nwith gzip.open('SRR306838_GSM752691_hsa_br_F_1_trimmed.fq.gz', 'rt') as f:\n    for record in SeqIO.parse(f, 'fastq'):\n        if verbose:\n            print()\n            print(record.description)\n            print(str(record.seq))\n        translations = six_frame_translation_no_stops(record.seq)\n        \n        max_fraction = 0\n        for translation in translations:\n            if len(translation) < peptide_ksize:\n                continue\n            if verbose:\n                print(f\"\\t{translation}\")\n            kmers = list(set(kmerize(str(translation), peptide_ksize)))\n            hashes = [hash_murmur(kmer) for kmer in kmers]\n            n_kmers = len(kmers)\n            n_kmers_in_peptide_db = sum(1 for h in hashes if peptide_graph.get(h) > 0)\n            if n_kmers < (len(translation) - peptide_ksize + 1)/2:\n                if verbose:\n                    print(f'Low complexity sequence!!! n_kmers < (len(read.seq) - ksize + 1)/2  --> {n_kmers} < {(len(record.seq) - ksize + 1)/2}')\n                    print(record.description)\n                    print(record.seq)\n                classification_lines.append([record.description, 'low complexity'])\n                continue\n            \n            kmers_in_peptide_db = {(k, h): peptide_graph.get(h) for k, h in zip(kmers, hashes)}\n            fraction_in_peptide_db = n_kmers_in_peptide_db/n_kmers\n            max_fraction = max(max_fraction, fraction_in_peptide_db)\n            if fraction_in_peptide_db > 0.9:\n                classification_lines.append([record.description, 'coding'])\n            else:\n                classification_lines.append([record.description, 'non-coding'])\n            if verbose:\n                pprint(kmers_in_peptide_db)\n                print(f'n_kmers_in_peptide_db/n_kmers: {n_kmers_in_peptide_db}/{n_kmers} = {fraction_in_peptide_db}')\n        scoring_lines.append([record.description, max_fraction])"
    },
    "executionTime": "2019-09-18T18:05:55.588Z"
   },
   {
    "cell": {
     "executionCount": 126,
     "executionEventId": "dac7acd1-5625-424d-99af-d63e4c50bf37",
     "hasError": false,
     "id": "af8d45a5-1f08-49e2-bd31-2235ea6416bb",
     "outputs": [
      {
       "name": "stdout",
       "output_type": "stream",
       "text": "total 358M\ndrwxrwxr-x 2 olga olga 4.0K Sep 18 10:15 .\ndrwxrwxr-x 3 olga olga 4.0K Sep 10 15:07 ..\n-rw-rw-r-- 1 olga olga  52M Sep 18 10:05 SRR306838_GSM752691_hsa_br_F_1Aligned.sortedByCoord.out.bam.unspliced.bam\n-rw-rw-r-- 1 olga olga 2.9M Sep 18 10:12 SRR306838_GSM752691_hsa_br_F_1Aligned.sortedByCoord.out.bam.unspliced.bam.bai\n-rw-rw-r-- 1 olga olga 9.3M Sep 18 10:12 SRR306838_GSM752691_hsa_br_F_1Aligned.sortedByCoord.out.bam.unspliced.out_CDS_without_stop_codon_or_utr.bam\n-rw-rw-r-- 1 olga olga 1.9M Sep 18 10:12 SRR306838_GSM752691_hsa_br_F_1Aligned.sortedByCoord.out.bam.unspliced.out_CDS_without_stop_codon_or_utr.bam.bai\n-rw-rw-r-- 1 olga olga 2.8M Sep 18 10:14 SRR306838_GSM752691_hsa_br_F_1Aligned.sortedByCoord.out.bam.unspliced.out_CDS_without_stop_codon_or_utr.read_ids.txt\n-rw-rw-r-- 1 olga olga  15M Sep 18 10:15 SRR306838_GSM752691_hsa_br_F_1Aligned.sortedByCoord.out.bam.unspliced.read_ids.txt\n-rw-rw-r-- 1 olga olga  15M Sep 10 15:55 SRR306838_GSM752691_hsa_br_F_1Aligned.sortedByCoord.out_CDS_without_stop_codon.bam\n-rw-rw-r-- 1 olga olga 1.7M Sep 18 07:05 SRR306838_GSM752691_hsa_br_F_1Aligned.sortedByCoord.out_CDS_without_stop_codon.bam.bai\n-rw-rw-r-- 1 olga olga  15M Sep 18 07:15 SRR306838_GSM752691_hsa_br_F_1Aligned.sortedByCoord.out_CDS_without_stop_codon_or_utr.bam\n-rw-rw-r-- 1 olga olga 1.7M Sep 18 07:06 SRR306838_GSM752691_hsa_br_F_1Aligned.sortedByCoord.out_CDS_without_stop_codon_or_utr.bam.bai\n-rw-rw-r-- 1 olga olga 2.8M Sep 18 10:14 SRR306838_GSM752691_hsa_br_F_1Aligned.sortedByCoord.out_CDS_without_stop_codon_or_utr.read_ids.txt\n-rw-rw-r-- 1 olga olga 4.1M Sep 10 15:56 SRR306838_GSM752691_hsa_br_F_1Aligned.sortedByCoord.out_CDS_without_stop_codon.read_ids.txt\n-rw-r--r-- 1 olga olga 235M Sep 10 15:10 SRR306838_GSM752691_hsa_br_F_1_trimmed_k15.tsv\n(151869,)\n(807698,)\n"
      }
     ],
     "persistentId": "40e38758-05d9-498d-8219-f998a0f1ea43",
     "text": "folder = '/home/olga/data_sm/kmer-hashing/brawand2011/human/'\n! ls -lha $folder\n\ncoding_read_ids = pd.read_csv(f\"{folder}/SRR306838_GSM752691_hsa_br_F_1Aligned.sortedByCoord.out.bam.unspliced.out_CDS_without_stop_codon_or_utr.read_ids.txt\", \n                                   header=None, squeeze=True)\nprint(coding_read_ids.shape)\ncoding_read_ids.head()\n\ntrue_coding_read_ids = set(coding_read_ids.values)\nlen(true_coding_read_ids)\n\nunspliced_read_ids_series = pd.read_csv(f\"{folder}/SRR306838_GSM752691_hsa_br_F_1Aligned.sortedByCoord.out.bam.unspliced.read_ids.txt\", \n                                   header=None, squeeze=True)\nprint(unspliced_read_ids_series.shape)\nunspliced_read_ids_series.head()\n\nunspliced_reads = set(unspliced_read_ids_series.values)"
    },
    "executionTime": "2019-09-18T18:05:57.091Z"
   },
   {
    "cell": {
     "executionCount": 127,
     "executionEventId": "c557a3b4-83d2-4d18-84a7-96d4b100ff3d",
     "hasError": false,
     "id": "ab029fda-ea3d-4d3e-ae96-baf3de8d4a16",
     "outputs": [
      {
       "name": "stdout",
       "output_type": "stream",
       "text": "(1668180, 2)\n"
      },
      {
       "data": {
        "text/html": "<div>\n<style scoped>\n    .dataframe tbody tr th:only-of-type {\n        vertical-align: middle;\n    }\n\n    .dataframe tbody tr th {\n        vertical-align: top;\n    }\n\n    .dataframe thead th {\n        text-align: right;\n    }\n</style>\n<table border=\"1\" class=\"dataframe\">\n  <thead>\n    <tr style=\"text-align: right;\">\n      <th></th>\n      <th>read_id</th>\n      <th>classification</th>\n    </tr>\n  </thead>\n  <tbody>\n    <tr>\n      <th>0</th>\n      <td>SRR306838.1531 Ibis_Run100924_C3PO:6:1:15718:1...</td>\n      <td>low complexity</td>\n    </tr>\n    <tr>\n      <th>1</th>\n      <td>SRR306838.1531 Ibis_Run100924_C3PO:6:1:15718:1...</td>\n      <td>low complexity</td>\n    </tr>\n    <tr>\n      <th>2</th>\n      <td>SRR306838.1531 Ibis_Run100924_C3PO:6:1:15718:1...</td>\n      <td>low complexity</td>\n    </tr>\n    <tr>\n      <th>3</th>\n      <td>SRR306838.1531 Ibis_Run100924_C3PO:6:1:15718:1...</td>\n      <td>low complexity</td>\n    </tr>\n    <tr>\n      <th>4</th>\n      <td>SRR306838.1531 Ibis_Run100924_C3PO:6:1:15718:1...</td>\n      <td>low complexity</td>\n    </tr>\n  </tbody>\n</table>\n</div>",
        "text/plain": "                                             read_id  classification\n0  SRR306838.1531 Ibis_Run100924_C3PO:6:1:15718:1...  low complexity\n1  SRR306838.1531 Ibis_Run100924_C3PO:6:1:15718:1...  low complexity\n2  SRR306838.1531 Ibis_Run100924_C3PO:6:1:15718:1...  low complexity\n3  SRR306838.1531 Ibis_Run100924_C3PO:6:1:15718:1...  low complexity\n4  SRR306838.1531 Ibis_Run100924_C3PO:6:1:15718:1...  low complexity"
       },
       "execution_count": 127,
       "metadata": {},
       "output_type": "execute_result"
      }
     ],
     "persistentId": "4867773c-beed-40bb-95cf-584bc0db9e00",
     "text": "classification_df = pd.DataFrame(classification_lines, columns=['read_id', 'classification'])\nprint(classification_df.shape)\nclassification_df.head()"
    },
    "executionTime": "2019-09-18T18:05:57.447Z"
   },
   {
    "cell": {
     "executionCount": 128,
     "executionEventId": "897180e3-73e8-4f9f-808f-9aa1ef1bf6bc",
     "hasError": false,
     "id": "9abc6d35-eb15-4320-99fa-848b28b5268a",
     "outputs": [
      {
       "name": "stdout",
       "output_type": "stream",
       "text": "(795517, 2)\n"
      },
      {
       "data": {
        "text/html": "<div>\n<style scoped>\n    .dataframe tbody tr th:only-of-type {\n        vertical-align: middle;\n    }\n\n    .dataframe tbody tr th {\n        vertical-align: top;\n    }\n\n    .dataframe thead th {\n        text-align: right;\n    }\n</style>\n<table border=\"1\" class=\"dataframe\">\n  <thead>\n    <tr style=\"text-align: right;\">\n      <th></th>\n      <th>read_id</th>\n      <th>coding_score</th>\n    </tr>\n  </thead>\n  <tbody>\n    <tr>\n      <th>0</th>\n      <td>SRR306838.1531 Ibis_Run100924_C3PO:6:1:15718:1...</td>\n      <td>0.0</td>\n    </tr>\n    <tr>\n      <th>1</th>\n      <td>SRR306838.1617 Ibis_Run100924_C3PO:6:1:9036:10...</td>\n      <td>0.0</td>\n    </tr>\n    <tr>\n      <th>2</th>\n      <td>SRR306838.1672 Ibis_Run100924_C3PO:6:1:15751:1...</td>\n      <td>0.0</td>\n    </tr>\n    <tr>\n      <th>3</th>\n      <td>SRR306838.1938 Ibis_Run100924_C3PO:6:1:15775:1...</td>\n      <td>0.0</td>\n    </tr>\n    <tr>\n      <th>4</th>\n      <td>SRR306838.2318 Ibis_Run100924_C3PO:6:1:15779:1...</td>\n      <td>0.5</td>\n    </tr>\n  </tbody>\n</table>\n</div>",
        "text/plain": "                                             read_id  coding_score\n0  SRR306838.1531 Ibis_Run100924_C3PO:6:1:15718:1...           0.0\n1  SRR306838.1617 Ibis_Run100924_C3PO:6:1:9036:10...           0.0\n2  SRR306838.1672 Ibis_Run100924_C3PO:6:1:15751:1...           0.0\n3  SRR306838.1938 Ibis_Run100924_C3PO:6:1:15775:1...           0.0\n4  SRR306838.2318 Ibis_Run100924_C3PO:6:1:15779:1...           0.5"
       },
       "execution_count": 128,
       "metadata": {},
       "output_type": "execute_result"
      }
     ],
     "persistentId": "607b9ea5-7fb0-465d-b7f8-05b402f0b361",
     "text": "score_df = pd.DataFrame(scoring_lines, columns=['read_id', 'coding_score'])\nprint(score_df.shape)\nscore_df.head()"
    },
    "executionTime": "2019-09-18T18:05:57.838Z"
   },
   {
    "cell": {
     "executionCount": 129,
     "executionEventId": "826aa3c8-c83c-40ad-ad32-b674896a5d7f",
     "hasError": false,
     "id": "d90fe276-aadd-428c-bb7f-533e28db253e",
     "outputs": [],
     "persistentId": "00bc39d3-aad4-4160-8447-72190215a6b7",
     "text": "def subset_to_spliced_and_add_coding_classification(full_classification, unspliced_reads, true_coding_reads, read_id_col='read_id'):\n    full_classification['short_sequence_id'] = full_classification[read_id_col].str.split().str[0]\n\n    full_classification_unspliced = full_classification.query(\"short_sequence_id in @unspliced_reads\")\n\n    full_classification_unspliced['is_coding'] = full_classification_unspliced.short_sequence_id.isin(true_coding_reads)\n    return full_classification_unspliced"
    },
    "executionTime": "2019-09-18T18:05:57.884Z"
   },
   {
    "cell": {
     "executionCount": 130,
     "executionEventId": "0e736941-95e5-48bb-aec5-2061e1807f30",
     "hasError": false,
     "id": "d90fe276-aadd-428c-bb7f-533e28db253e",
     "outputs": [],
     "persistentId": "00bc39d3-aad4-4160-8447-72190215a6b7",
     "text": "def subset_to_spliced_and_add_coding_classification(full_classification, unspliced_reads, true_coding_reads, read_id_col='read_id'):\n    full_classification['short_sequence_id'] = full_classification[read_id_col].str.split().str[0]\n\n    full_classification_unspliced = full_classification.query(\"short_sequence_id in @unspliced_reads\")\n\n    full_classification_unspliced['is_coding'] = full_classification_unspliced.short_sequence_id.isin(true_coding_reads)\n    return full_classification_unspliced"
    },
    "executionTime": "2019-09-18T18:05:59.224Z"
   },
   {
    "cell": {
     "executionCount": 131,
     "executionEventId": "8f2df4a5-d7cd-4811-a06a-b69f1bcf5051",
     "hasError": false,
     "id": "efbec6fa-a658-48ea-a874-9569266d18d2",
     "outputs": [
      {
       "name": "stderr",
       "output_type": "stream",
       "text": "/home/olga/miniconda3/envs/kmer-hashing/lib/python3.6/site-packages/ipykernel_launcher.py:6: SettingWithCopyWarning: \nA value is trying to be set on a copy of a slice from a DataFrame.\nTry using .loc[row_indexer,col_indexer] = value instead\n\nSee the caveats in the documentation: http://pandas.pydata.org/pandas-docs/stable/indexing.html#indexing-view-versus-copy\n  \n"
      }
     ],
     "persistentId": "4de7dc6b-27b1-490c-b738-130f6968dc24",
     "text": "score_df_unspliced = subset_to_spliced_and_add_coding_classification(score_df, unspliced_reads, true_coding_read_ids)\np"
    },
    "executionTime": "2019-09-18T18:06:02.370Z"
   },
   {
    "cell": {
     "executionCount": 132,
     "executionEventId": "f8887c6d-a2ff-405d-bbe1-844e07ed9917",
     "hasError": false,
     "id": "efbec6fa-a658-48ea-a874-9569266d18d2",
     "outputs": [
      {
       "name": "stdout",
       "output_type": "stream",
       "text": "(681473, 4)\n"
      },
      {
       "name": "stderr",
       "output_type": "stream",
       "text": "/home/olga/miniconda3/envs/kmer-hashing/lib/python3.6/site-packages/ipykernel_launcher.py:6: SettingWithCopyWarning: \nA value is trying to be set on a copy of a slice from a DataFrame.\nTry using .loc[row_indexer,col_indexer] = value instead\n\nSee the caveats in the documentation: http://pandas.pydata.org/pandas-docs/stable/indexing.html#indexing-view-versus-copy\n  \n"
      },
      {
       "data": {
        "text/html": "<div>\n<style scoped>\n    .dataframe tbody tr th:only-of-type {\n        vertical-align: middle;\n    }\n\n    .dataframe tbody tr th {\n        vertical-align: top;\n    }\n\n    .dataframe thead th {\n        text-align: right;\n    }\n</style>\n<table border=\"1\" class=\"dataframe\">\n  <thead>\n    <tr style=\"text-align: right;\">\n      <th></th>\n      <th>read_id</th>\n      <th>coding_score</th>\n      <th>short_sequence_id</th>\n      <th>is_coding</th>\n    </tr>\n  </thead>\n  <tbody>\n    <tr>\n      <th>1</th>\n      <td>SRR306838.1617 Ibis_Run100924_C3PO:6:1:9036:10...</td>\n      <td>0.0</td>\n      <td>SRR306838.1617</td>\n      <td>False</td>\n    </tr>\n    <tr>\n      <th>2</th>\n      <td>SRR306838.1672 Ibis_Run100924_C3PO:6:1:15751:1...</td>\n      <td>0.0</td>\n      <td>SRR306838.1672</td>\n      <td>False</td>\n    </tr>\n    <tr>\n      <th>3</th>\n      <td>SRR306838.1938 Ibis_Run100924_C3PO:6:1:15775:1...</td>\n      <td>0.0</td>\n      <td>SRR306838.1938</td>\n      <td>False</td>\n    </tr>\n    <tr>\n      <th>6</th>\n      <td>SRR306838.2593 Ibis_Run100924_C3PO:6:1:15794:1...</td>\n      <td>0.0</td>\n      <td>SRR306838.2593</td>\n      <td>False</td>\n    </tr>\n    <tr>\n      <th>8</th>\n      <td>SRR306838.3394 Ibis_Run100924_C3PO:6:1:15750:1...</td>\n      <td>0.0</td>\n      <td>SRR306838.3394</td>\n      <td>False</td>\n    </tr>\n  </tbody>\n</table>\n</div>",
        "text/plain": "                                             read_id  coding_score  \\\n1  SRR306838.1617 Ibis_Run100924_C3PO:6:1:9036:10...           0.0   \n2  SRR306838.1672 Ibis_Run100924_C3PO:6:1:15751:1...           0.0   \n3  SRR306838.1938 Ibis_Run100924_C3PO:6:1:15775:1...           0.0   \n6  SRR306838.2593 Ibis_Run100924_C3PO:6:1:15794:1...           0.0   \n8  SRR306838.3394 Ibis_Run100924_C3PO:6:1:15750:1...           0.0   \n\n  short_sequence_id  is_coding  \n1    SRR306838.1617      False  \n2    SRR306838.1672      False  \n3    SRR306838.1938      False  \n6    SRR306838.2593      False  \n8    SRR306838.3394      False  "
       },
       "execution_count": 132,
       "metadata": {},
       "output_type": "execute_result"
      }
     ],
     "persistentId": "4de7dc6b-27b1-490c-b738-130f6968dc24",
     "text": "score_df_unspliced = subset_to_spliced_and_add_coding_classification(score_df, unspliced_reads, true_coding_read_ids)\nprint(score_df_unspliced.shape)\nscore_df_unspliced.head()"
    },
    "executionTime": "2019-09-18T18:06:09.613Z"
   },
   {
    "cell": {
     "executionCount": 133,
     "executionEventId": "ca3a5a81-28d3-4b2e-add0-d6a30788ae2d",
     "hasError": false,
     "id": "6a0b5fda-483c-4ecd-b040-357c7bde9b2e",
     "outputs": [
      {
       "name": "stdout",
       "output_type": "stream",
       "text": "(1366083, 4)\n"
      },
      {
       "name": "stderr",
       "output_type": "stream",
       "text": "/home/olga/miniconda3/envs/kmer-hashing/lib/python3.6/site-packages/ipykernel_launcher.py:6: SettingWithCopyWarning: \nA value is trying to be set on a copy of a slice from a DataFrame.\nTry using .loc[row_indexer,col_indexer] = value instead\n\nSee the caveats in the documentation: http://pandas.pydata.org/pandas-docs/stable/indexing.html#indexing-view-versus-copy\n  \n"
      },
      {
       "data": {
        "text/html": "<div>\n<style scoped>\n    .dataframe tbody tr th:only-of-type {\n        vertical-align: middle;\n    }\n\n    .dataframe tbody tr th {\n        vertical-align: top;\n    }\n\n    .dataframe thead th {\n        text-align: right;\n    }\n</style>\n<table border=\"1\" class=\"dataframe\">\n  <thead>\n    <tr style=\"text-align: right;\">\n      <th></th>\n      <th>read_id</th>\n      <th>classification</th>\n      <th>short_sequence_id</th>\n      <th>is_coding</th>\n    </tr>\n  </thead>\n  <tbody>\n    <tr>\n      <th>6</th>\n      <td>SRR306838.1672 Ibis_Run100924_C3PO:6:1:15751:1...</td>\n      <td>low complexity</td>\n      <td>SRR306838.1672</td>\n      <td>False</td>\n    </tr>\n    <tr>\n      <th>7</th>\n      <td>SRR306838.1672 Ibis_Run100924_C3PO:6:1:15751:1...</td>\n      <td>low complexity</td>\n      <td>SRR306838.1672</td>\n      <td>False</td>\n    </tr>\n    <tr>\n      <th>8</th>\n      <td>SRR306838.1672 Ibis_Run100924_C3PO:6:1:15751:1...</td>\n      <td>low complexity</td>\n      <td>SRR306838.1672</td>\n      <td>False</td>\n    </tr>\n    <tr>\n      <th>9</th>\n      <td>SRR306838.1672 Ibis_Run100924_C3PO:6:1:15751:1...</td>\n      <td>low complexity</td>\n      <td>SRR306838.1672</td>\n      <td>False</td>\n    </tr>\n    <tr>\n      <th>10</th>\n      <td>SRR306838.1672 Ibis_Run100924_C3PO:6:1:15751:1...</td>\n      <td>low complexity</td>\n      <td>SRR306838.1672</td>\n      <td>False</td>\n    </tr>\n  </tbody>\n</table>\n</div>",
        "text/plain": "                                              read_id  classification  \\\n6   SRR306838.1672 Ibis_Run100924_C3PO:6:1:15751:1...  low complexity   \n7   SRR306838.1672 Ibis_Run100924_C3PO:6:1:15751:1...  low complexity   \n8   SRR306838.1672 Ibis_Run100924_C3PO:6:1:15751:1...  low complexity   \n9   SRR306838.1672 Ibis_Run100924_C3PO:6:1:15751:1...  low complexity   \n10  SRR306838.1672 Ibis_Run100924_C3PO:6:1:15751:1...  low complexity   \n\n   short_sequence_id  is_coding  \n6     SRR306838.1672      False  \n7     SRR306838.1672      False  \n8     SRR306838.1672      False  \n9     SRR306838.1672      False  \n10    SRR306838.1672      False  "
       },
       "execution_count": 133,
       "metadata": {},
       "output_type": "execute_result"
      }
     ],
     "persistentId": "e43d2912-032a-4590-8d8f-5e607ecb2fe1",
     "text": "classification_df_unspliced = subset_to_spliced_and_add_coding_classification(classification_df, unspliced_reads, true_coding_read_ids)\nprint(classification_df_unspliced.shape)\nclassification_df_unspliced.head()"
    },
    "executionTime": "2019-09-18T18:07:19.042Z"
   },
   {
    "cell": {
     "executionCount": 134,
     "executionEventId": "ede8ac40-0026-4f4d-98aa-7e75293699cc",
     "hasError": false,
     "id": "93685616-c02f-4cd1-9d16-3e730012559f",
     "outputs": [],
     "persistentId": "ca3c95ac-68f3-46f3-b085-b116e63bb8b0",
     "text": "import gzip\nfrom io import StringIO\nfrom pprint import pprint\n\nfrom khmer import Nodegraph\nimport screed\nfrom sourmash._minhash import hash_murmur\nfrom khmer.khmer_args import calculate_graphsize\nimport pandas as pd\nfrom sourmash.logging import notify\n\nfrom sklearn import metrics\nfrom khtools.compare_peptide import kmerize\n\nfrom Bio.Seq import Seq\nfrom Bio import SeqIO"
    },
    "executionTime": "2019-09-18T18:08:22.594Z"
   },
   {
    "cell": {
     "executionCount": 135,
     "executionEventId": "e06f98fc-5776-4af8-bfcd-f8ccb8f39b65",
     "hasError": true,
     "id": "cd24fec8-98d4-431f-a402-4333a78ad77f",
     "outputs": [
      {
       "ename": "NameError",
       "evalue": "name 'plt' is not defined",
       "output_type": "error",
       "traceback": [
        "\u001b[0;31m---------------------------------------------------------------------------\u001b[0m",
        "\u001b[0;31mNameError\u001b[0m                                 Traceback (most recent call last)",
        "\u001b[0;32m<ipython-input-135-5af0f0ca762f>\u001b[0m in \u001b[0;36m<module>\u001b[0;34m()\u001b[0m\n\u001b[1;32m      1\u001b[0m \u001b[0mfpr\u001b[0m\u001b[0;34m,\u001b[0m \u001b[0mtpr\u001b[0m\u001b[0;34m,\u001b[0m \u001b[0mthresholds\u001b[0m \u001b[0;34m=\u001b[0m \u001b[0mmetrics\u001b[0m\u001b[0;34m.\u001b[0m\u001b[0mroc_curve\u001b[0m\u001b[0;34m(\u001b[0m\u001b[0mscore_df_unspliced\u001b[0m\u001b[0;34m[\u001b[0m\u001b[0;34m'is_coding'\u001b[0m\u001b[0;34m]\u001b[0m\u001b[0;34m,\u001b[0m \u001b[0mscore_df_unspliced\u001b[0m\u001b[0;34m[\u001b[0m\u001b[0;34m'coding_score'\u001b[0m\u001b[0;34m]\u001b[0m\u001b[0;34m)\u001b[0m\u001b[0;34m\u001b[0m\u001b[0;34m\u001b[0m\u001b[0m\n\u001b[1;32m      2\u001b[0m \u001b[0;34m\u001b[0m\u001b[0m\n\u001b[0;32m----> 3\u001b[0;31m \u001b[0mfig\u001b[0m\u001b[0;34m,\u001b[0m \u001b[0max\u001b[0m \u001b[0;34m=\u001b[0m \u001b[0mplt\u001b[0m\u001b[0;34m.\u001b[0m\u001b[0msubplots\u001b[0m\u001b[0;34m(\u001b[0m\u001b[0;34m)\u001b[0m\u001b[0;34m\u001b[0m\u001b[0;34m\u001b[0m\u001b[0m\n\u001b[0m\u001b[1;32m      4\u001b[0m \u001b[0mlw\u001b[0m \u001b[0;34m=\u001b[0m \u001b[0;36m2\u001b[0m\u001b[0;34m\u001b[0m\u001b[0;34m\u001b[0m\u001b[0m\n\u001b[1;32m      5\u001b[0m \u001b[0max\u001b[0m\u001b[0;34m.\u001b[0m\u001b[0mplot\u001b[0m\u001b[0;34m(\u001b[0m\u001b[0mfpr\u001b[0m\u001b[0;34m,\u001b[0m \u001b[0mtpr\u001b[0m\u001b[0;34m,\u001b[0m \u001b[0mlw\u001b[0m\u001b[0;34m=\u001b[0m\u001b[0;36m2\u001b[0m\u001b[0;34m,\u001b[0m \u001b[0mcolor\u001b[0m\u001b[0;34m=\u001b[0m\u001b[0;34m'darkorange'\u001b[0m\u001b[0;34m)\u001b[0m\u001b[0;34m\u001b[0m\u001b[0;34m\u001b[0m\u001b[0m\n",
        "\u001b[0;31mNameError\u001b[0m: name 'plt' is not defined"
       ]
      }
     ],
     "persistentId": "b03ad7b1-e231-450c-86db-3a787ae2b276",
     "text": "fpr, tpr, thresholds = metrics.roc_curve(score_df_unspliced['is_coding'], score_df_unspliced['coding_score'])\n\nfig, ax = plt.subplots()\nlw = 2\nax.plot(fpr, tpr, lw=2, color='darkorange')\nax.plot([0, 1], [0, 1], color='navy', lw=lw, linestyle='--')"
    },
    "executionTime": "2019-09-18T18:08:26.319Z"
   },
   {
    "cell": {
     "executionCount": 136,
     "executionEventId": "7291bd88-8ac1-46ea-9c3b-7a95715de361",
     "hasError": false,
     "id": "93685616-c02f-4cd1-9d16-3e730012559f",
     "outputs": [],
     "persistentId": "ca3c95ac-68f3-46f3-b085-b116e63bb8b0",
     "text": "import gzip\nfrom io import StringIO\nfrom pprint import pprint\n\nfrom khmer import Nodegraph\nimport matplotlib.pyplot as plt\nimport screed\nfrom sourmash._minhash import hash_murmur\nfrom khmer.khmer_args import calculate_graphsize\nimport pandas as pd\nfrom sourmash.logging import notify\n\nfrom sklearn import metrics\nfrom khtools.compare_peptide import kmerize\n\nfrom Bio.Seq import Seq\nfrom Bio import SeqIO"
    },
    "executionTime": "2019-09-18T18:08:36.505Z"
   },
   {
    "cell": {
     "executionCount": 137,
     "executionEventId": "0b041e94-1387-4730-8b3a-8fbab5687815",
     "hasError": false,
     "id": "cd24fec8-98d4-431f-a402-4333a78ad77f",
     "outputs": [
      {
       "data": {
        "text/plain": "[<matplotlib.lines.Line2D at 0x7fe192571cf8>]"
       },
       "execution_count": 137,
       "metadata": {},
       "output_type": "execute_result"
      },
      {
       "data": {
        "image/png": "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\n",
        "text/plain": "<Figure size 432x288 with 1 Axes>"
       },
       "metadata": {
        "needs_background": "light"
       },
       "output_type": "display_data"
      }
     ],
     "persistentId": "b03ad7b1-e231-450c-86db-3a787ae2b276",
     "text": "fpr, tpr, thresholds = metrics.roc_curve(score_df_unspliced['is_coding'], score_df_unspliced['coding_score'])\n\nfig, ax = plt.subplots()\nlw = 2\nax.plot(fpr, tpr, lw=2, color='darkorange')\nax.plot([0, 1], [0, 1], color='navy', lw=lw, linestyle='--')"
    },
    "executionTime": "2019-09-18T18:08:40.658Z"
   },
   {
    "cell": {
     "executionCount": 138,
     "executionEventId": "0bb2e268-b44d-4b36-8556-96afe8c945d8",
     "hasError": false,
     "id": "3b1657ca-e1a7-4e07-99fe-957317efe991",
     "outputs": [
      {
       "data": {
        "text/plain": "103250.46301139738"
       },
       "execution_count": 138,
       "metadata": {},
       "output_type": "execute_result"
      }
     ],
     "persistentId": "6d411b3f-fa00-40f2-8e9b-391e0d57dab5",
     "text": "metrics.auc(score_df_unspliced['is_coding'], score_df_unspliced['coding_score'])"
    },
    "executionTime": "2019-09-18T18:08:50.696Z"
   },
   {
    "cell": {
     "executionCount": 139,
     "executionEventId": "0ca99a88-28cc-45a8-bb48-a9241117890d",
     "hasError": false,
     "id": "3b1657ca-e1a7-4e07-99fe-957317efe991",
     "outputs": [
      {
       "data": {
        "text/plain": "(array([0.        , 0.09157655, 0.09158032, 0.09161232, 0.09210933,\n        0.09262515, 0.0931824 , 0.09336125, 0.09339325, 0.0934422 ,\n        0.09350432, 0.09355703, 0.0935608 , 0.09367376, 0.09415193,\n        0.09479954, 0.09514029, 0.09538691, 0.09546033, 0.09557329,\n        0.09628679, 0.09634891, 0.09686851, 0.09728832, 0.09729209,\n        0.09751611, 0.09765731, 0.09774391, 0.09837269, 0.09921797,\n        0.09921986, 0.09956249, 0.09961708, 0.09966791, 0.09999736,\n        0.10069392, 0.10074852, 0.10086147, 0.10198349, 0.10316011,\n        0.10373053, 0.10412776, 0.10420306, 0.10420683, 0.10493351,\n        0.10501258, 0.10515377, 0.1057995 , 0.10723591, 0.10730557,\n        0.10730557, 0.10773103, 0.1092804 , 0.109367  , 0.10944795,\n        0.10958538, 0.11108015, 0.11152068, 0.11152256, 0.11464201,\n        0.11464389, 0.11521808, 0.11576968, 0.11596547, 0.11607277,\n        0.1162648 , 0.11688793, 0.11734164, 0.11734352, 0.11748095,\n        0.11805137, 0.1191188 , 0.11915833, 0.11928823, 0.12019376,\n        0.12037637, 0.12073971, 0.12135719, 0.12375749, 0.12531251,\n        0.12559678, 0.12585281, 0.12715368, 0.12845266, 0.12859386,\n        0.12893649, 0.13085296, 0.13086238, 0.13570062, 0.13857533,\n        0.13919659, 0.14015482, 0.142493  , 0.14250617, 0.14984638,\n        0.15887338, 0.15984668, 0.16861389, 0.17226046, 0.17230564,\n        0.17398491, 0.18238689, 0.19774315, 0.22283804, 0.24511845,\n        0.2496649 , 0.24978162, 0.25173763, 0.25437513, 0.25827397,\n        0.26328165, 0.28296033, 0.32532418, 0.39190186, 0.45527915,\n        0.46144274, 0.4617496 , 1.        ]),\n array([0.        , 0.64373973, 0.64374638, 0.64399923, 0.64695354,\n        0.6497415 , 0.65219011, 0.65348761, 0.65390681, 0.65413969,\n        0.65439254, 0.65464538, 0.65465204, 0.65503131, 0.65744   ,\n        0.66182488, 0.66398073, 0.66546454, 0.66594362, 0.66682858,\n        0.67082754, 0.67105377, 0.67549189, 0.67869904, 0.67871235,\n        0.67960396, 0.68009635, 0.68044235, 0.68396223, 0.68814085,\n        0.6881475 , 0.69082235, 0.69102196, 0.69122158, 0.6924592 ,\n        0.69538023, 0.69553993, 0.69585931, 0.69884023, 0.7019742 ,\n        0.70594654, 0.70687143, 0.70710431, 0.70712427, 0.71170877,\n        0.71201485, 0.71262701, 0.71550812, 0.72439766, 0.7247237 ,\n        0.72474366, 0.72644705, 0.73529666, 0.73561605, 0.73576243,\n        0.73658751, 0.74515766, 0.74761959, 0.74761959, 0.75382097,\n        0.75382097, 0.75585705, 0.7571612 , 0.75804616, 0.75873816,\n        0.7590642 , 0.76107366, 0.76197859, 0.76197859, 0.7625242 ,\n        0.76410117, 0.76682259, 0.76696897, 0.7672684 , 0.76994324,\n        0.77032917, 0.77103447, 0.77295744, 0.7754127 , 0.77751532,\n        0.77775486, 0.77792786, 0.78070917, 0.78215305, 0.78244582,\n        0.78256559, 0.78429559, 0.78429559, 0.78697044, 0.78899986,\n        0.78927267, 0.78965859, 0.79038386, 0.79038386, 0.79277259,\n        0.79526778, 0.79544078, 0.79736375, 0.79810898, 0.79810898,\n        0.79850821, 0.80049771, 0.80352521, 0.80852225, 0.8139784 ,\n        0.81512286, 0.81515613, 0.81580156, 0.81645363, 0.81730533,\n        0.81839656, 0.82326052, 0.8353439 , 0.85147283, 0.86462083,\n        0.86576529, 0.86580522, 1.        ]),\n array([2.        , 1.        , 0.94736842, 0.94444444, 0.94117647,\n        0.9375    , 0.93333333, 0.92857143, 0.92307692, 0.91666667,\n        0.90909091, 0.9       , 0.89473684, 0.88888889, 0.88235294,\n        0.875     , 0.86666667, 0.85714286, 0.84615385, 0.83333333,\n        0.82352941, 0.81818182, 0.8125    , 0.8       , 0.78947368,\n        0.78571429, 0.77777778, 0.76923077, 0.76470588, 0.75      ,\n        0.73684211, 0.73333333, 0.72727273, 0.72222222, 0.71428571,\n        0.70588235, 0.7       , 0.69230769, 0.6875    , 0.66666667,\n        0.64705882, 0.64285714, 0.63636364, 0.63157895, 0.625     ,\n        0.61538462, 0.61111111, 0.6       , 0.58823529, 0.58333333,\n        0.57894737, 0.57142857, 0.5625    , 0.55555556, 0.54545455,\n        0.53846154, 0.53333333, 0.52941176, 0.52631579, 0.5       ,\n        0.47368421, 0.47058824, 0.46666667, 0.46153846, 0.45454545,\n        0.44444444, 0.4375    , 0.42857143, 0.42105263, 0.41666667,\n        0.41176471, 0.4       , 0.38888889, 0.38461538, 0.375     ,\n        0.36363636, 0.35714286, 0.35294118, 0.33333333, 0.3125    ,\n        0.30769231, 0.3       , 0.29411765, 0.28571429, 0.27777778,\n        0.27272727, 0.26666667, 0.26315789, 0.25      , 0.23529412,\n        0.23076923, 0.22222222, 0.21428571, 0.21052632, 0.2       ,\n        0.1875    , 0.18181818, 0.17647059, 0.16666667, 0.15789474,\n        0.15384615, 0.14285714, 0.13333333, 0.125     , 0.11764706,\n        0.11111111, 0.10526316, 0.1       , 0.09090909, 0.08333333,\n        0.07692308, 0.07142857, 0.06666667, 0.0625    , 0.05882353,\n        0.05555556, 0.05263158, 0.        ]))"
       },
       "execution_count": 139,
       "metadata": {},
       "output_type": "execute_result"
      }
     ],
     "persistentId": "6d411b3f-fa00-40f2-8e9b-391e0d57dab5",
     "text": "metrics.roc_curve(score_df_unspliced['is_coding'], score_df_unspliced['coding_score'])"
    },
    "executionTime": "2019-09-18T18:08:57.166Z"
   },
   {
    "cell": {
     "executionCount": 140,
     "executionEventId": "2d15add4-141c-44aa-bf85-6326a44d481b",
     "hasError": false,
     "id": "3b1657ca-e1a7-4e07-99fe-957317efe991",
     "outputs": [
      {
       "data": {
        "text/plain": "0.8341453439630204"
       },
       "execution_count": 140,
       "metadata": {},
       "output_type": "execute_result"
      }
     ],
     "persistentId": "6d411b3f-fa00-40f2-8e9b-391e0d57dab5",
     "text": "metrics.roc_auc_score(score_df_unspliced['is_coding'], score_df_unspliced['coding_score'])"
    },
    "executionTime": "2019-09-18T18:09:02.331Z"
   },
   {
    "cell": {
     "executionCount": 141,
     "executionEventId": "98e871a8-5457-4328-8f8f-baf09ec7070d",
     "hasError": false,
     "id": "93685616-c02f-4cd1-9d16-3e730012559f",
     "outputs": [],
     "persistentId": "ca3c95ac-68f3-46f3-b085-b116e63bb8b0",
     "text": "import gzip\nfrom io import StringIO\nfrom pprint import pprint\n\nfrom khmer import Nodegraph\nimport matplotlib.pyplot as plt\nimport screed\nfrom sourmash._minhash import hash_murmur\nfrom khmer.khmer_args import calculate_graphsize\nimport pandas as pd\nfrom sourmash.logging import notify\n\nimport seaborn as sns\n\nfrom sklearn import metrics\nfrom khtools.compare_peptide import kmerize\n\nfrom Bio.Seq import Seq\nfrom Bio import SeqIO"
    },
    "executionTime": "2019-09-18T18:09:35.259Z"
   },
   {
    "cell": {
     "executionCount": 142,
     "executionEventId": "39f484fd-7c25-466b-8115-48741234b4bb",
     "hasError": false,
     "id": "ceec82d3-3440-4275-8898-4883cc5368a5",
     "outputs": [
      {
       "data": {
        "text/plain": "<matplotlib.axes._subplots.AxesSubplot at 0x7fe1926b0b00>"
       },
       "execution_count": 142,
       "metadata": {},
       "output_type": "execute_result"
      },
      {
       "data": {
        "image/png": "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\n",
        "text/plain": "<Figure size 432x288 with 1 Axes>"
       },
       "metadata": {
        "needs_background": "light"
       },
       "output_type": "display_data"
      }
     ],
     "persistentId": "59e0cd48-177f-430c-81f1-8a484aea8f2b",
     "text": "sns.boxplot(x='is_coding', y='coding_score', data=score_df_unspliced)"
    },
    "executionTime": "2019-09-18T18:10:05.849Z"
   },
   {
    "cell": {
     "executionCount": 143,
     "executionEventId": "359675dd-f5e0-4107-aa9e-b01f7b92d194",
     "hasError": false,
     "id": "ceec82d3-3440-4275-8898-4883cc5368a5",
     "outputs": [
      {
       "data": {
        "text/plain": "<matplotlib.axes._subplots.AxesSubplot at 0x7fe198316160>"
       },
       "execution_count": 143,
       "metadata": {},
       "output_type": "execute_result"
      },
      {
       "data": {
        "image/png": "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\n",
        "text/plain": "<Figure size 432x288 with 1 Axes>"
       },
       "metadata": {
        "needs_background": "light"
       },
       "output_type": "display_data"
      }
     ],
     "persistentId": "59e0cd48-177f-430c-81f1-8a484aea8f2b",
     "text": "sns.violinplot(x='is_coding', y='coding_score', data=score_df_unspliced)"
    },
    "executionTime": "2019-09-18T18:10:15.168Z"
   },
   {
    "cell": {
     "executionCount": 144,
     "executionEventId": "590dc600-6643-4850-a631-9589c9a5ecbd",
     "hasError": false,
     "id": "f47da68d-f3db-421d-83e3-125ef817c1b7",
     "outputs": [
      {
       "data": {
        "text/plain": "\u001b[0;31mSignature:\u001b[0m \u001b[0msns\u001b[0m\u001b[0;34m.\u001b[0m\u001b[0mdistplot\u001b[0m\u001b[0;34m(\u001b[0m\u001b[0ma\u001b[0m\u001b[0;34m,\u001b[0m \u001b[0mbins\u001b[0m\u001b[0;34m=\u001b[0m\u001b[0;32mNone\u001b[0m\u001b[0;34m,\u001b[0m \u001b[0mhist\u001b[0m\u001b[0;34m=\u001b[0m\u001b[0;32mTrue\u001b[0m\u001b[0;34m,\u001b[0m \u001b[0mkde\u001b[0m\u001b[0;34m=\u001b[0m\u001b[0;32mTrue\u001b[0m\u001b[0;34m,\u001b[0m \u001b[0mrug\u001b[0m\u001b[0;34m=\u001b[0m\u001b[0;32mFalse\u001b[0m\u001b[0;34m,\u001b[0m \u001b[0mfit\u001b[0m\u001b[0;34m=\u001b[0m\u001b[0;32mNone\u001b[0m\u001b[0;34m,\u001b[0m \u001b[0mhist_kws\u001b[0m\u001b[0;34m=\u001b[0m\u001b[0;32mNone\u001b[0m\u001b[0;34m,\u001b[0m \u001b[0mkde_kws\u001b[0m\u001b[0;34m=\u001b[0m\u001b[0;32mNone\u001b[0m\u001b[0;34m,\u001b[0m \u001b[0mrug_kws\u001b[0m\u001b[0;34m=\u001b[0m\u001b[0;32mNone\u001b[0m\u001b[0;34m,\u001b[0m \u001b[0mfit_kws\u001b[0m\u001b[0;34m=\u001b[0m\u001b[0;32mNone\u001b[0m\u001b[0;34m,\u001b[0m \u001b[0mcolor\u001b[0m\u001b[0;34m=\u001b[0m\u001b[0;32mNone\u001b[0m\u001b[0;34m,\u001b[0m \u001b[0mvertical\u001b[0m\u001b[0;34m=\u001b[0m\u001b[0;32mFalse\u001b[0m\u001b[0;34m,\u001b[0m \u001b[0mnorm_hist\u001b[0m\u001b[0;34m=\u001b[0m\u001b[0;32mFalse\u001b[0m\u001b[0;34m,\u001b[0m \u001b[0maxlabel\u001b[0m\u001b[0;34m=\u001b[0m\u001b[0;32mNone\u001b[0m\u001b[0;34m,\u001b[0m \u001b[0mlabel\u001b[0m\u001b[0;34m=\u001b[0m\u001b[0;32mNone\u001b[0m\u001b[0;34m,\u001b[0m \u001b[0max\u001b[0m\u001b[0;34m=\u001b[0m\u001b[0;32mNone\u001b[0m\u001b[0;34m)\u001b[0m\u001b[0;34m\u001b[0m\u001b[0;34m\u001b[0m\u001b[0m\n\u001b[0;31mDocstring:\u001b[0m\nFlexibly plot a univariate distribution of observations.\n\nThis function combines the matplotlib ``hist`` function (with automatic\ncalculation of a good default bin size) with the seaborn :func:`kdeplot`\nand :func:`rugplot` functions. It can also fit ``scipy.stats``\ndistributions and plot the estimated PDF over the data.\n\nParameters\n----------\n\na : Series, 1d-array, or list.\n    Observed data. If this is a Series object with a ``name`` attribute,\n    the name will be used to label the data axis.\nbins : argument for matplotlib hist(), or None, optional\n    Specification of hist bins, or None to use Freedman-Diaconis rule.\nhist : bool, optional\n    Whether to plot a (normed) histogram.\nkde : bool, optional\n    Whether to plot a gaussian kernel density estimate.\nrug : bool, optional\n    Whether to draw a rugplot on the support axis.\nfit : random variable object, optional\n    An object with `fit` method, returning a tuple that can be passed to a\n    `pdf` method a positional arguments following an grid of values to\n    evaluate the pdf on.\n{hist, kde, rug, fit}_kws : dictionaries, optional\n    Keyword arguments for underlying plotting functions.\ncolor : matplotlib color, optional\n    Color to plot everything but the fitted curve in.\nvertical : bool, optional\n    If True, observed values are on y-axis.\nnorm_hist : bool, optional\n    If True, the histogram height shows a density rather than a count.\n    This is implied if a KDE or fitted density is plotted.\naxlabel : string, False, or None, optional\n    Name for the support axis label. If None, will try to get it\n    from a.namel if False, do not set a label.\nlabel : string, optional\n    Legend label for the relevent component of the plot\nax : matplotlib axis, optional\n    if provided, plot on this axis\n\nReturns\n-------\nax : matplotlib Axes\n    Returns the Axes object with the plot for further tweaking.\n\nSee Also\n--------\nkdeplot : Show a univariate or bivariate distribution with a kernel\n          density estimate.\nrugplot : Draw small vertical lines to show each observation in a\n          distribution.\n\nExamples\n--------\n\nShow a default plot with a kernel density estimate and histogram with bin\nsize determined automatically with a reference rule:\n\n.. plot::\n    :context: close-figs\n\n    >>> import seaborn as sns, numpy as np\n    >>> sns.set(); np.random.seed(0)\n    >>> x = np.random.randn(100)\n    >>> ax = sns.distplot(x)\n\nUse Pandas objects to get an informative axis label:\n\n.. plot::\n    :context: close-figs\n\n    >>> import pandas as pd\n    >>> x = pd.Series(x, name=\"x variable\")\n    >>> ax = sns.distplot(x)\n\nPlot the distribution with a kernel density estimate and rug plot:\n\n.. plot::\n    :context: close-figs\n\n    >>> ax = sns.distplot(x, rug=True, hist=False)\n\nPlot the distribution with a histogram and maximum likelihood gaussian\ndistribution fit:\n\n.. plot::\n    :context: close-figs\n\n    >>> from scipy.stats import norm\n    >>> ax = sns.distplot(x, fit=norm, kde=False)\n\nPlot the distribution on the vertical axis:\n\n.. plot::\n    :context: close-figs\n\n    >>> ax = sns.distplot(x, vertical=True)\n\nChange the color of all the plot elements:\n\n.. plot::\n    :context: close-figs\n\n    >>> sns.set_color_codes()\n    >>> ax = sns.distplot(x, color=\"y\")\n\nPass specific parameters to the underlying plot functions:\n\n.. plot::\n    :context: close-figs\n\n    >>> ax = sns.distplot(x, rug=True, rug_kws={\"color\": \"g\"},\n    ...                   kde_kws={\"color\": \"k\", \"lw\": 3, \"label\": \"KDE\"},\n    ...                   hist_kws={\"histtype\": \"step\", \"linewidth\": 3,\n    ...                             \"alpha\": 1, \"color\": \"g\"})\n\u001b[0;31mFile:\u001b[0m      ~/miniconda3/envs/kmer-hashing/lib/python3.6/site-packages/seaborn/distributions.py\n\u001b[0;31mType:\u001b[0m      function\n"
       },
       "metadata": {},
       "output_type": "display_data"
      }
     ],
     "persistentId": "bb710f6e-a0a1-45d1-a549-818fac5fdfd4",
     "text": "sns.distplot?"
    },
    "executionTime": "2019-09-18T18:10:34.198Z"
   },
   {
    "cell": {
     "executionCount": 145,
     "executionEventId": "9fe607fe-6ea8-4436-bdcc-d1f523eeb4b3",
     "hasError": true,
     "id": "89906d53-16ba-4d44-b73f-f93024c6f23f",
     "outputs": [
      {
       "ename": "KeyError",
       "evalue": "'is_coding'",
       "output_type": "error",
       "traceback": [
        "\u001b[0;31m---------------------------------------------------------------------------\u001b[0m",
        "\u001b[0;31mKeyError\u001b[0m                                  Traceback (most recent call last)",
        "\u001b[0;32m~/miniconda3/envs/kmer-hashing/lib/python3.6/site-packages/pandas/core/indexes/base.py\u001b[0m in \u001b[0;36mget_loc\u001b[0;34m(self, key, method, tolerance)\u001b[0m\n\u001b[1;32m   2656\u001b[0m             \u001b[0;32mtry\u001b[0m\u001b[0;34m:\u001b[0m\u001b[0;34m\u001b[0m\u001b[0;34m\u001b[0m\u001b[0m\n\u001b[0;32m-> 2657\u001b[0;31m                 \u001b[0;32mreturn\u001b[0m \u001b[0mself\u001b[0m\u001b[0;34m.\u001b[0m\u001b[0m_engine\u001b[0m\u001b[0;34m.\u001b[0m\u001b[0mget_loc\u001b[0m\u001b[0;34m(\u001b[0m\u001b[0mkey\u001b[0m\u001b[0;34m)\u001b[0m\u001b[0;34m\u001b[0m\u001b[0;34m\u001b[0m\u001b[0m\n\u001b[0m\u001b[1;32m   2658\u001b[0m             \u001b[0;32mexcept\u001b[0m \u001b[0mKeyError\u001b[0m\u001b[0;34m:\u001b[0m\u001b[0;34m\u001b[0m\u001b[0;34m\u001b[0m\u001b[0m\n",
        "\u001b[0;32mpandas/_libs/index.pyx\u001b[0m in \u001b[0;36mpandas._libs.index.IndexEngine.get_loc\u001b[0;34m()\u001b[0m\n",
        "\u001b[0;32mpandas/_libs/index.pyx\u001b[0m in \u001b[0;36mpandas._libs.index.IndexEngine.get_loc\u001b[0;34m()\u001b[0m\n",
        "\u001b[0;32mpandas/_libs/hashtable_class_helper.pxi\u001b[0m in \u001b[0;36mpandas._libs.hashtable.PyObjectHashTable.get_item\u001b[0;34m()\u001b[0m\n",
        "\u001b[0;32mpandas/_libs/hashtable_class_helper.pxi\u001b[0m in \u001b[0;36mpandas._libs.hashtable.PyObjectHashTable.get_item\u001b[0;34m()\u001b[0m\n",
        "\u001b[0;31mKeyError\u001b[0m: 'is_coding'",
        "\nDuring handling of the above exception, another exception occurred:\n",
        "\u001b[0;31mKeyError\u001b[0m                                  Traceback (most recent call last)",
        "\u001b[0;32m<ipython-input-145-d7f1106cdff5>\u001b[0m in \u001b[0;36m<module>\u001b[0;34m()\u001b[0m\n\u001b[1;32m      1\u001b[0m \u001b[0mpredicted\u001b[0m \u001b[0;34m=\u001b[0m \u001b[0mscore_df\u001b[0m\u001b[0;34m[\u001b[0m\u001b[0;34m'coding_score'\u001b[0m\u001b[0;34m]\u001b[0m \u001b[0;34m>\u001b[0m \u001b[0;36m0.9\u001b[0m\u001b[0;34m\u001b[0m\u001b[0;34m\u001b[0m\u001b[0m\n\u001b[0;32m----> 2\u001b[0;31m \u001b[0mtarget\u001b[0m \u001b[0;34m=\u001b[0m \u001b[0mscore_df\u001b[0m\u001b[0;34m[\u001b[0m\u001b[0;34m'is_coding'\u001b[0m\u001b[0;34m]\u001b[0m\u001b[0;34m\u001b[0m\u001b[0;34m\u001b[0m\u001b[0m\n\u001b[0m",
        "\u001b[0;32m~/miniconda3/envs/kmer-hashing/lib/python3.6/site-packages/pandas/core/frame.py\u001b[0m in \u001b[0;36m__getitem__\u001b[0;34m(self, key)\u001b[0m\n\u001b[1;32m   2925\u001b[0m             \u001b[0;32mif\u001b[0m \u001b[0mself\u001b[0m\u001b[0;34m.\u001b[0m\u001b[0mcolumns\u001b[0m\u001b[0;34m.\u001b[0m\u001b[0mnlevels\u001b[0m \u001b[0;34m>\u001b[0m \u001b[0;36m1\u001b[0m\u001b[0;34m:\u001b[0m\u001b[0;34m\u001b[0m\u001b[0;34m\u001b[0m\u001b[0m\n\u001b[1;32m   2926\u001b[0m                 \u001b[0;32mreturn\u001b[0m \u001b[0mself\u001b[0m\u001b[0;34m.\u001b[0m\u001b[0m_getitem_multilevel\u001b[0m\u001b[0;34m(\u001b[0m\u001b[0mkey\u001b[0m\u001b[0;34m)\u001b[0m\u001b[0;34m\u001b[0m\u001b[0;34m\u001b[0m\u001b[0m\n\u001b[0;32m-> 2927\u001b[0;31m             \u001b[0mindexer\u001b[0m \u001b[0;34m=\u001b[0m \u001b[0mself\u001b[0m\u001b[0;34m.\u001b[0m\u001b[0mcolumns\u001b[0m\u001b[0;34m.\u001b[0m\u001b[0mget_loc\u001b[0m\u001b[0;34m(\u001b[0m\u001b[0mkey\u001b[0m\u001b[0;34m)\u001b[0m\u001b[0;34m\u001b[0m\u001b[0;34m\u001b[0m\u001b[0m\n\u001b[0m\u001b[1;32m   2928\u001b[0m             \u001b[0;32mif\u001b[0m \u001b[0mis_integer\u001b[0m\u001b[0;34m(\u001b[0m\u001b[0mindexer\u001b[0m\u001b[0;34m)\u001b[0m\u001b[0;34m:\u001b[0m\u001b[0;34m\u001b[0m\u001b[0;34m\u001b[0m\u001b[0m\n\u001b[1;32m   2929\u001b[0m                 \u001b[0mindexer\u001b[0m \u001b[0;34m=\u001b[0m \u001b[0;34m[\u001b[0m\u001b[0mindexer\u001b[0m\u001b[0;34m]\u001b[0m\u001b[0;34m\u001b[0m\u001b[0;34m\u001b[0m\u001b[0m\n",
        "\u001b[0;32m~/miniconda3/envs/kmer-hashing/lib/python3.6/site-packages/pandas/core/indexes/base.py\u001b[0m in \u001b[0;36mget_loc\u001b[0;34m(self, key, method, tolerance)\u001b[0m\n\u001b[1;32m   2657\u001b[0m                 \u001b[0;32mreturn\u001b[0m \u001b[0mself\u001b[0m\u001b[0;34m.\u001b[0m\u001b[0m_engine\u001b[0m\u001b[0;34m.\u001b[0m\u001b[0mget_loc\u001b[0m\u001b[0;34m(\u001b[0m\u001b[0mkey\u001b[0m\u001b[0;34m)\u001b[0m\u001b[0;34m\u001b[0m\u001b[0;34m\u001b[0m\u001b[0m\n\u001b[1;32m   2658\u001b[0m             \u001b[0;32mexcept\u001b[0m \u001b[0mKeyError\u001b[0m\u001b[0;34m:\u001b[0m\u001b[0;34m\u001b[0m\u001b[0;34m\u001b[0m\u001b[0m\n\u001b[0;32m-> 2659\u001b[0;31m                 \u001b[0;32mreturn\u001b[0m \u001b[0mself\u001b[0m\u001b[0;34m.\u001b[0m\u001b[0m_engine\u001b[0m\u001b[0;34m.\u001b[0m\u001b[0mget_loc\u001b[0m\u001b[0;34m(\u001b[0m\u001b[0mself\u001b[0m\u001b[0;34m.\u001b[0m\u001b[0m_maybe_cast_indexer\u001b[0m\u001b[0;34m(\u001b[0m\u001b[0mkey\u001b[0m\u001b[0;34m)\u001b[0m\u001b[0;34m)\u001b[0m\u001b[0;34m\u001b[0m\u001b[0;34m\u001b[0m\u001b[0m\n\u001b[0m\u001b[1;32m   2660\u001b[0m         \u001b[0mindexer\u001b[0m \u001b[0;34m=\u001b[0m \u001b[0mself\u001b[0m\u001b[0;34m.\u001b[0m\u001b[0mget_indexer\u001b[0m\u001b[0;34m(\u001b[0m\u001b[0;34m[\u001b[0m\u001b[0mkey\u001b[0m\u001b[0;34m]\u001b[0m\u001b[0;34m,\u001b[0m \u001b[0mmethod\u001b[0m\u001b[0;34m=\u001b[0m\u001b[0mmethod\u001b[0m\u001b[0;34m,\u001b[0m \u001b[0mtolerance\u001b[0m\u001b[0;34m=\u001b[0m\u001b[0mtolerance\u001b[0m\u001b[0;34m)\u001b[0m\u001b[0;34m\u001b[0m\u001b[0;34m\u001b[0m\u001b[0m\n\u001b[1;32m   2661\u001b[0m         \u001b[0;32mif\u001b[0m \u001b[0mindexer\u001b[0m\u001b[0;34m.\u001b[0m\u001b[0mndim\u001b[0m \u001b[0;34m>\u001b[0m \u001b[0;36m1\u001b[0m \u001b[0;32mor\u001b[0m \u001b[0mindexer\u001b[0m\u001b[0;34m.\u001b[0m\u001b[0msize\u001b[0m \u001b[0;34m>\u001b[0m \u001b[0;36m1\u001b[0m\u001b[0;34m:\u001b[0m\u001b[0;34m\u001b[0m\u001b[0;34m\u001b[0m\u001b[0m\n",
        "\u001b[0;32mpandas/_libs/index.pyx\u001b[0m in \u001b[0;36mpandas._libs.index.IndexEngine.get_loc\u001b[0;34m()\u001b[0m\n",
        "\u001b[0;32mpandas/_libs/index.pyx\u001b[0m in \u001b[0;36mpandas._libs.index.IndexEngine.get_loc\u001b[0;34m()\u001b[0m\n",
        "\u001b[0;32mpandas/_libs/hashtable_class_helper.pxi\u001b[0m in \u001b[0;36mpandas._libs.hashtable.PyObjectHashTable.get_item\u001b[0;34m()\u001b[0m\n",
        "\u001b[0;32mpandas/_libs/hashtable_class_helper.pxi\u001b[0m in \u001b[0;36mpandas._libs.hashtable.PyObjectHashTable.get_item\u001b[0;34m()\u001b[0m\n",
        "\u001b[0;31mKeyError\u001b[0m: 'is_coding'"
       ]
      }
     ],
     "persistentId": "c93318bc-cb4a-449e-8620-761d4a5b96b1",
     "text": "predicted = score_df['coding_score'] > 0.9\ntarget = score_df['is_coding']"
    },
    "executionTime": "2019-09-18T18:11:37.477Z"
   },
   {
    "cell": {
     "executionCount": 146,
     "executionEventId": "82563ee6-a243-4fbc-a1af-74c63ffb1e14",
     "hasError": true,
     "id": "f47da68d-f3db-421d-83e3-125ef817c1b7",
     "outputs": [
      {
       "ename": "NameError",
       "evalue": "name 'np' is not defined",
       "output_type": "error",
       "traceback": [
        "\u001b[0;31m---------------------------------------------------------------------------\u001b[0m",
        "\u001b[0;31mNameError\u001b[0m                                 Traceback (most recent call last)",
        "\u001b[0;32m<ipython-input-146-29152e0b35be>\u001b[0m in \u001b[0;36m<module>\u001b[0;34m()\u001b[0m\n\u001b[0;32m----> 1\u001b[0;31m \u001b[0mprint\u001b[0m\u001b[0;34m(\u001b[0m\u001b[0mnp\u001b[0m\u001b[0;34m.\u001b[0m\u001b[0mmean\u001b[0m\u001b[0;34m(\u001b[0m\u001b[0mpredicted\u001b[0m \u001b[0;34m==\u001b[0m \u001b[0mtarget\u001b[0m\u001b[0;34m)\u001b[0m\u001b[0;34m)\u001b[0m\u001b[0;34m\u001b[0m\u001b[0;34m\u001b[0m\u001b[0m\n\u001b[0m\u001b[1;32m      2\u001b[0m \u001b[0mprint\u001b[0m\u001b[0;34m(\u001b[0m\u001b[0mmetrics\u001b[0m\u001b[0;34m.\u001b[0m\u001b[0mclassification_report\u001b[0m\u001b[0;34m(\u001b[0m\u001b[0mtarget\u001b[0m\u001b[0;34m,\u001b[0m \u001b[0mpredicted\u001b[0m\u001b[0;34m,\u001b[0m \u001b[0mtarget_names\u001b[0m\u001b[0;34m=\u001b[0m\u001b[0mtarget_names\u001b[0m\u001b[0;34m)\u001b[0m\u001b[0;34m)\u001b[0m\u001b[0;34m\u001b[0m\u001b[0;34m\u001b[0m\u001b[0m\n\u001b[1;32m      3\u001b[0m \u001b[0mprint\u001b[0m\u001b[0;34m(\u001b[0m\u001b[0mmetrics\u001b[0m\u001b[0;34m.\u001b[0m\u001b[0mconfusion_matrix\u001b[0m\u001b[0;34m(\u001b[0m\u001b[0mtarget\u001b[0m\u001b[0;34m,\u001b[0m \u001b[0mpredicted\u001b[0m\u001b[0;34m)\u001b[0m\u001b[0;34m)\u001b[0m\u001b[0;34m\u001b[0m\u001b[0;34m\u001b[0m\u001b[0m\n",
        "\u001b[0;31mNameError\u001b[0m: name 'np' is not defined"
       ]
      }
     ],
     "persistentId": "bb710f6e-a0a1-45d1-a549-818fac5fdfd4",
     "text": "print(np.mean(predicted == target))\nprint(metrics.classification_report(target, predicted, target_names=target_names))\nprint(metrics.confusion_matrix(target, predicted))"
    },
    "executionTime": "2019-09-18T18:11:37.693Z"
   },
   {
    "cell": {
     "executionCount": 147,
     "executionEventId": "b51d0db0-4ebe-401f-8816-ea5930436995",
     "hasError": false,
     "id": "89906d53-16ba-4d44-b73f-f93024c6f23f",
     "outputs": [],
     "persistentId": "c93318bc-cb4a-449e-8620-761d4a5b96b1",
     "text": "predicted = score_df_unspliced['coding_score'] > 0.9\ntarget = score_df_unspliced['is_coding']"
    },
    "executionTime": "2019-09-18T18:11:45.311Z"
   },
   {
    "cell": {
     "executionCount": 148,
     "executionEventId": "4cc41038-d068-460a-8bb2-6b1a9dbe41d4",
     "hasError": true,
     "id": "f47da68d-f3db-421d-83e3-125ef817c1b7",
     "outputs": [
      {
       "ename": "NameError",
       "evalue": "name 'np' is not defined",
       "output_type": "error",
       "traceback": [
        "\u001b[0;31m---------------------------------------------------------------------------\u001b[0m",
        "\u001b[0;31mNameError\u001b[0m                                 Traceback (most recent call last)",
        "\u001b[0;32m<ipython-input-148-29152e0b35be>\u001b[0m in \u001b[0;36m<module>\u001b[0;34m()\u001b[0m\n\u001b[0;32m----> 1\u001b[0;31m \u001b[0mprint\u001b[0m\u001b[0;34m(\u001b[0m\u001b[0mnp\u001b[0m\u001b[0;34m.\u001b[0m\u001b[0mmean\u001b[0m\u001b[0;34m(\u001b[0m\u001b[0mpredicted\u001b[0m \u001b[0;34m==\u001b[0m \u001b[0mtarget\u001b[0m\u001b[0;34m)\u001b[0m\u001b[0;34m)\u001b[0m\u001b[0;34m\u001b[0m\u001b[0;34m\u001b[0m\u001b[0m\n\u001b[0m\u001b[1;32m      2\u001b[0m \u001b[0mprint\u001b[0m\u001b[0;34m(\u001b[0m\u001b[0mmetrics\u001b[0m\u001b[0;34m.\u001b[0m\u001b[0mclassification_report\u001b[0m\u001b[0;34m(\u001b[0m\u001b[0mtarget\u001b[0m\u001b[0;34m,\u001b[0m \u001b[0mpredicted\u001b[0m\u001b[0;34m,\u001b[0m \u001b[0mtarget_names\u001b[0m\u001b[0;34m=\u001b[0m\u001b[0mtarget_names\u001b[0m\u001b[0;34m)\u001b[0m\u001b[0;34m)\u001b[0m\u001b[0;34m\u001b[0m\u001b[0;34m\u001b[0m\u001b[0m\n\u001b[1;32m      3\u001b[0m \u001b[0mprint\u001b[0m\u001b[0;34m(\u001b[0m\u001b[0mmetrics\u001b[0m\u001b[0;34m.\u001b[0m\u001b[0mconfusion_matrix\u001b[0m\u001b[0;34m(\u001b[0m\u001b[0mtarget\u001b[0m\u001b[0;34m,\u001b[0m \u001b[0mpredicted\u001b[0m\u001b[0;34m)\u001b[0m\u001b[0;34m)\u001b[0m\u001b[0;34m\u001b[0m\u001b[0;34m\u001b[0m\u001b[0m\n",
        "\u001b[0;31mNameError\u001b[0m: name 'np' is not defined"
       ]
      }
     ],
     "persistentId": "bb710f6e-a0a1-45d1-a549-818fac5fdfd4",
     "text": "print(np.mean(predicted == target))\nprint(metrics.classification_report(target, predicted, target_names=target_names))\nprint(metrics.confusion_matrix(target, predicted))"
    },
    "executionTime": "2019-09-18T18:11:47.552Z"
   },
   {
    "cell": {
     "executionCount": 149,
     "executionEventId": "59ea7e83-a12e-403f-978c-422662069a63",
     "hasError": false,
     "id": "2c4e4aee-68df-4b2a-87f4-f3b49f7a3071",
     "outputs": [],
     "persistentId": "ae8c5ade-1a68-4f68-9876-fb9324701f12",
     "text": "import numpy as np"
    },
    "executionTime": "2019-09-18T18:11:50.531Z"
   },
   {
    "cell": {
     "executionCount": 150,
     "executionEventId": "b683208b-9909-4e91-bb93-3a20043792e1",
     "hasError": true,
     "id": "f47da68d-f3db-421d-83e3-125ef817c1b7",
     "outputs": [
      {
       "name": "stdout",
       "output_type": "stream",
       "text": "0.8508979812846584\n"
      },
      {
       "ename": "NameError",
       "evalue": "name 'target_names' is not defined",
       "output_type": "error",
       "traceback": [
        "\u001b[0;31m---------------------------------------------------------------------------\u001b[0m",
        "\u001b[0;31mNameError\u001b[0m                                 Traceback (most recent call last)",
        "\u001b[0;32m<ipython-input-150-29152e0b35be>\u001b[0m in \u001b[0;36m<module>\u001b[0;34m()\u001b[0m\n\u001b[1;32m      1\u001b[0m \u001b[0mprint\u001b[0m\u001b[0;34m(\u001b[0m\u001b[0mnp\u001b[0m\u001b[0;34m.\u001b[0m\u001b[0mmean\u001b[0m\u001b[0;34m(\u001b[0m\u001b[0mpredicted\u001b[0m \u001b[0;34m==\u001b[0m \u001b[0mtarget\u001b[0m\u001b[0;34m)\u001b[0m\u001b[0;34m)\u001b[0m\u001b[0;34m\u001b[0m\u001b[0;34m\u001b[0m\u001b[0m\n\u001b[0;32m----> 2\u001b[0;31m \u001b[0mprint\u001b[0m\u001b[0;34m(\u001b[0m\u001b[0mmetrics\u001b[0m\u001b[0;34m.\u001b[0m\u001b[0mclassification_report\u001b[0m\u001b[0;34m(\u001b[0m\u001b[0mtarget\u001b[0m\u001b[0;34m,\u001b[0m \u001b[0mpredicted\u001b[0m\u001b[0;34m,\u001b[0m \u001b[0mtarget_names\u001b[0m\u001b[0;34m=\u001b[0m\u001b[0mtarget_names\u001b[0m\u001b[0;34m)\u001b[0m\u001b[0;34m)\u001b[0m\u001b[0;34m\u001b[0m\u001b[0;34m\u001b[0m\u001b[0m\n\u001b[0m\u001b[1;32m      3\u001b[0m \u001b[0mprint\u001b[0m\u001b[0;34m(\u001b[0m\u001b[0mmetrics\u001b[0m\u001b[0;34m.\u001b[0m\u001b[0mconfusion_matrix\u001b[0m\u001b[0;34m(\u001b[0m\u001b[0mtarget\u001b[0m\u001b[0;34m,\u001b[0m \u001b[0mpredicted\u001b[0m\u001b[0;34m)\u001b[0m\u001b[0;34m)\u001b[0m\u001b[0;34m\u001b[0m\u001b[0;34m\u001b[0m\u001b[0m\n",
        "\u001b[0;31mNameError\u001b[0m: name 'target_names' is not defined"
       ]
      }
     ],
     "persistentId": "bb710f6e-a0a1-45d1-a549-818fac5fdfd4",
     "text": "print(np.mean(predicted == target))\nprint(metrics.classification_report(target, predicted, target_names=target_names))\nprint(metrics.confusion_matrix(target, predicted))"
    },
    "executionTime": "2019-09-18T18:11:50.873Z"
   },
   {
    "cell": {
     "executionCount": 151,
     "executionEventId": "25fb5e46-a370-4d9c-9391-576e4f2c7235",
     "hasError": false,
     "id": "f47da68d-f3db-421d-83e3-125ef817c1b7",
     "outputs": [
      {
       "name": "stdout",
       "output_type": "stream",
       "text": "0.8508979812846584\n              precision    recall  f1-score   support\n\n   noncoding       0.90      0.91      0.90    531184\n      coding       0.66      0.65      0.66    150289\n\n   micro avg       0.85      0.85      0.85    681473\n   macro avg       0.78      0.78      0.78    681473\nweighted avg       0.85      0.85      0.85    681473\n\n[[481516  49668]\n [ 51941  98348]]\n"
      }
     ],
     "persistentId": "bb710f6e-a0a1-45d1-a549-818fac5fdfd4",
     "text": "print(np.mean(predicted == target))\nprint(metrics.classification_report(target, predicted, target_names=['noncoding', 'coding']))\nprint(metrics.confusion_matrix(target, predicted))"
    },
    "executionTime": "2019-09-18T18:12:04.318Z"
   },
   {
    "cell": {
     "executionCount": 152,
     "executionEventId": "b2f61760-c2cb-476e-a20d-e8fcc94f8196",
     "hasError": false,
     "id": "19e77311-31a3-4927-955f-b32d616cdf39",
     "outputs": [
      {
       "data": {
        "text/plain": "<matplotlib.axes._subplots.AxesSubplot at 0x7fe19958df60>"
       },
       "execution_count": 152,
       "metadata": {},
       "output_type": "execute_result"
      },
      {
       "data": {
        "image/png": "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\n",
        "text/plain": "<Figure size 432x288 with 2 Axes>"
       },
       "metadata": {
        "needs_background": "light"
       },
       "output_type": "display_data"
      }
     ],
     "persistentId": "39cc0eb4-8975-4a3f-af43-fbf79a380028",
     "text": "confusion = pd.DataFrame(metrics.confusion_matrix(target, predicted), \n\nsns.heatmap(confusion, annot=True)"
    },
    "executionTime": "2019-09-23T17:52:31.340Z"
   },
   {
    "cell": {
     "executionCount": 153,
     "executionEventId": "f60bd1b4-3168-4d97-9e61-d3d03749cda9",
     "hasError": true,
     "id": "19e77311-31a3-4927-955f-b32d616cdf39",
     "outputs": [
      {
       "ename": "SyntaxError",
       "evalue": "unexpected EOF while parsing (<ipython-input-153-58166f6ab304>, line 3)",
       "output_type": "error",
       "traceback": [
        "\u001b[0;36m  File \u001b[0;32m\"<ipython-input-153-58166f6ab304>\"\u001b[0;36m, line \u001b[0;32m3\u001b[0m\n\u001b[0;31m    sns.heatmap(confusion, annot=True, fmt='{,d}')\u001b[0m\n\u001b[0m                                                  ^\u001b[0m\n\u001b[0;31mSyntaxError\u001b[0m\u001b[0;31m:\u001b[0m unexpected EOF while parsing\n"
       ]
      }
     ],
     "persistentId": "39cc0eb4-8975-4a3f-af43-fbf79a380028",
     "text": "confusion = pd.DataFrame(metrics.confusion_matrix(target, predicted), \n\nsns.heatmap(confusion, annot=True, fmt='{,d}')"
    },
    "executionTime": "2019-09-23T17:52:42.725Z"
   },
   {
    "cell": {
     "executionCount": 154,
     "executionEventId": "08eca530-c25c-4a7f-bba0-de53399e5944",
     "hasError": true,
     "id": "19e77311-31a3-4927-955f-b32d616cdf39",
     "outputs": [
      {
       "ename": "SyntaxError",
       "evalue": "unexpected EOF while parsing (<ipython-input-154-41a980ac96a3>, line 3)",
       "output_type": "error",
       "traceback": [
        "\u001b[0;36m  File \u001b[0;32m\"<ipython-input-154-41a980ac96a3>\"\u001b[0;36m, line \u001b[0;32m3\u001b[0m\n\u001b[0;31m    sns.heatmap(confusion, annot=True, fmt='{d,}')\u001b[0m\n\u001b[0m                                                  ^\u001b[0m\n\u001b[0;31mSyntaxError\u001b[0m\u001b[0;31m:\u001b[0m unexpected EOF while parsing\n"
       ]
      }
     ],
     "persistentId": "39cc0eb4-8975-4a3f-af43-fbf79a380028",
     "text": "confusion = pd.DataFrame(metrics.confusion_matrix(target, predicted), \n\nsns.heatmap(confusion, annot=True, fmt='{d,}')"
    },
    "executionTime": "2019-09-23T17:52:50.584Z"
   },
   {
    "cell": {
     "executionCount": 155,
     "executionEventId": "1d8b397e-30e5-4318-a116-263900ed8540",
     "hasError": true,
     "id": "19e77311-31a3-4927-955f-b32d616cdf39",
     "outputs": [
      {
       "ename": "KeyError",
       "evalue": "'d,'",
       "output_type": "error",
       "traceback": [
        "\u001b[0;31m---------------------------------------------------------------------------\u001b[0m",
        "\u001b[0;31mKeyError\u001b[0m                                  Traceback (most recent call last)",
        "\u001b[0;32m<ipython-input-155-82d6d07c815a>\u001b[0m in \u001b[0;36m<module>\u001b[0;34m()\u001b[0m\n\u001b[1;32m      3\u001b[0m \u001b[0mconfusion\u001b[0m \u001b[0;34m=\u001b[0m \u001b[0mpd\u001b[0m\u001b[0;34m.\u001b[0m\u001b[0mDataFrame\u001b[0m\u001b[0;34m(\u001b[0m\u001b[0mmetrics\u001b[0m\u001b[0;34m.\u001b[0m\u001b[0mconfusion_matrix\u001b[0m\u001b[0;34m(\u001b[0m\u001b[0mtarget\u001b[0m\u001b[0;34m,\u001b[0m \u001b[0mpredicted\u001b[0m\u001b[0;34m)\u001b[0m\u001b[0;34m,\u001b[0m \u001b[0mindex\u001b[0m\u001b[0;34m=\u001b[0m\u001b[0mtarget_names\u001b[0m\u001b[0;34m,\u001b[0m \u001b[0mcolumns\u001b[0m\u001b[0;34m=\u001b[0m\u001b[0mtarget_names\u001b[0m\u001b[0;34m)\u001b[0m\u001b[0;34m\u001b[0m\u001b[0;34m\u001b[0m\u001b[0m\n\u001b[1;32m      4\u001b[0m \u001b[0;34m\u001b[0m\u001b[0m\n\u001b[0;32m----> 5\u001b[0;31m \u001b[0msns\u001b[0m\u001b[0;34m.\u001b[0m\u001b[0mheatmap\u001b[0m\u001b[0;34m(\u001b[0m\u001b[0mconfusion\u001b[0m\u001b[0;34m,\u001b[0m \u001b[0mannot\u001b[0m\u001b[0;34m=\u001b[0m\u001b[0;32mTrue\u001b[0m\u001b[0;34m,\u001b[0m \u001b[0mfmt\u001b[0m\u001b[0;34m=\u001b[0m\u001b[0;34m'{d,}'\u001b[0m\u001b[0;34m)\u001b[0m\u001b[0;34m\u001b[0m\u001b[0;34m\u001b[0m\u001b[0m\n\u001b[0m",
        "\u001b[0;32m~/miniconda3/envs/kmer-hashing/lib/python3.6/site-packages/seaborn/matrix.py\u001b[0m in \u001b[0;36mheatmap\u001b[0;34m(data, vmin, vmax, cmap, center, robust, annot, fmt, annot_kws, linewidths, linecolor, cbar, cbar_kws, cbar_ax, square, xticklabels, yticklabels, mask, ax, **kwargs)\u001b[0m\n\u001b[1;32m    526\u001b[0m     \u001b[0;32mif\u001b[0m \u001b[0msquare\u001b[0m\u001b[0;34m:\u001b[0m\u001b[0;34m\u001b[0m\u001b[0;34m\u001b[0m\u001b[0m\n\u001b[1;32m    527\u001b[0m         \u001b[0max\u001b[0m\u001b[0;34m.\u001b[0m\u001b[0mset_aspect\u001b[0m\u001b[0;34m(\u001b[0m\u001b[0;34m\"equal\"\u001b[0m\u001b[0;34m)\u001b[0m\u001b[0;34m\u001b[0m\u001b[0;34m\u001b[0m\u001b[0m\n\u001b[0;32m--> 528\u001b[0;31m     \u001b[0mplotter\u001b[0m\u001b[0;34m.\u001b[0m\u001b[0mplot\u001b[0m\u001b[0;34m(\u001b[0m\u001b[0max\u001b[0m\u001b[0;34m,\u001b[0m \u001b[0mcbar_ax\u001b[0m\u001b[0;34m,\u001b[0m \u001b[0mkwargs\u001b[0m\u001b[0;34m)\u001b[0m\u001b[0;34m\u001b[0m\u001b[0;34m\u001b[0m\u001b[0m\n\u001b[0m\u001b[1;32m    529\u001b[0m     \u001b[0;32mreturn\u001b[0m \u001b[0max\u001b[0m\u001b[0;34m\u001b[0m\u001b[0;34m\u001b[0m\u001b[0m\n\u001b[1;32m    530\u001b[0m \u001b[0;34m\u001b[0m\u001b[0m\n",
        "\u001b[0;32m~/miniconda3/envs/kmer-hashing/lib/python3.6/site-packages/seaborn/matrix.py\u001b[0m in \u001b[0;36mplot\u001b[0;34m(self, ax, cax, kws)\u001b[0m\n\u001b[1;32m    327\u001b[0m         \u001b[0;31m# Annotate the cells with the formatted values\u001b[0m\u001b[0;34m\u001b[0m\u001b[0;34m\u001b[0m\u001b[0;34m\u001b[0m\u001b[0m\n\u001b[1;32m    328\u001b[0m         \u001b[0;32mif\u001b[0m \u001b[0mself\u001b[0m\u001b[0;34m.\u001b[0m\u001b[0mannot\u001b[0m\u001b[0;34m:\u001b[0m\u001b[0;34m\u001b[0m\u001b[0;34m\u001b[0m\u001b[0m\n\u001b[0;32m--> 329\u001b[0;31m             \u001b[0mself\u001b[0m\u001b[0;34m.\u001b[0m\u001b[0m_annotate_heatmap\u001b[0m\u001b[0;34m(\u001b[0m\u001b[0max\u001b[0m\u001b[0;34m,\u001b[0m \u001b[0mmesh\u001b[0m\u001b[0;34m)\u001b[0m\u001b[0;34m\u001b[0m\u001b[0;34m\u001b[0m\u001b[0m\n\u001b[0m\u001b[1;32m    330\u001b[0m \u001b[0;34m\u001b[0m\u001b[0m\n\u001b[1;32m    331\u001b[0m \u001b[0;34m\u001b[0m\u001b[0m\n",
        "\u001b[0;32m~/miniconda3/envs/kmer-hashing/lib/python3.6/site-packages/seaborn/matrix.py\u001b[0m in \u001b[0;36m_annotate_heatmap\u001b[0;34m(self, ax, mesh)\u001b[0m\n\u001b[1;32m    241\u001b[0m                 \u001b[0mlum\u001b[0m \u001b[0;34m=\u001b[0m \u001b[0mrelative_luminance\u001b[0m\u001b[0;34m(\u001b[0m\u001b[0mcolor\u001b[0m\u001b[0;34m)\u001b[0m\u001b[0;34m\u001b[0m\u001b[0;34m\u001b[0m\u001b[0m\n\u001b[1;32m    242\u001b[0m                 \u001b[0mtext_color\u001b[0m \u001b[0;34m=\u001b[0m \u001b[0;34m\".15\"\u001b[0m \u001b[0;32mif\u001b[0m \u001b[0mlum\u001b[0m \u001b[0;34m>\u001b[0m \u001b[0;36m.408\u001b[0m \u001b[0;32melse\u001b[0m \u001b[0;34m\"w\"\u001b[0m\u001b[0;34m\u001b[0m\u001b[0;34m\u001b[0m\u001b[0m\n\u001b[0;32m--> 243\u001b[0;31m                 \u001b[0mannotation\u001b[0m \u001b[0;34m=\u001b[0m \u001b[0;34m(\u001b[0m\u001b[0;34m\"{:\"\u001b[0m \u001b[0;34m+\u001b[0m \u001b[0mself\u001b[0m\u001b[0;34m.\u001b[0m\u001b[0mfmt\u001b[0m \u001b[0;34m+\u001b[0m \u001b[0;34m\"}\"\u001b[0m\u001b[0;34m)\u001b[0m\u001b[0;34m.\u001b[0m\u001b[0mformat\u001b[0m\u001b[0;34m(\u001b[0m\u001b[0mval\u001b[0m\u001b[0;34m)\u001b[0m\u001b[0;34m\u001b[0m\u001b[0;34m\u001b[0m\u001b[0m\n\u001b[0m\u001b[1;32m    244\u001b[0m                 \u001b[0mtext_kwargs\u001b[0m \u001b[0;34m=\u001b[0m \u001b[0mdict\u001b[0m\u001b[0;34m(\u001b[0m\u001b[0mcolor\u001b[0m\u001b[0;34m=\u001b[0m\u001b[0mtext_color\u001b[0m\u001b[0;34m,\u001b[0m \u001b[0mha\u001b[0m\u001b[0;34m=\u001b[0m\u001b[0;34m\"center\"\u001b[0m\u001b[0;34m,\u001b[0m \u001b[0mva\u001b[0m\u001b[0;34m=\u001b[0m\u001b[0;34m\"center\"\u001b[0m\u001b[0;34m)\u001b[0m\u001b[0;34m\u001b[0m\u001b[0;34m\u001b[0m\u001b[0m\n\u001b[1;32m    245\u001b[0m                 \u001b[0mtext_kwargs\u001b[0m\u001b[0;34m.\u001b[0m\u001b[0mupdate\u001b[0m\u001b[0;34m(\u001b[0m\u001b[0mself\u001b[0m\u001b[0;34m.\u001b[0m\u001b[0mannot_kws\u001b[0m\u001b[0;34m)\u001b[0m\u001b[0;34m\u001b[0m\u001b[0;34m\u001b[0m\u001b[0m\n",
        "\u001b[0;31mKeyError\u001b[0m: 'd,'"
       ]
      },
      {
       "data": {
        "image/png": "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\n",
        "text/plain": "<Figure size 432x288 with 2 Axes>"
       },
       "metadata": {
        "needs_background": "light"
       },
       "output_type": "display_data"
      }
     ],
     "persistentId": "39cc0eb4-8975-4a3f-af43-fbf79a380028",
     "text": "target_names=['noncoding', 'coding']\n\nconfusion = pd.DataFrame(metrics.confusion_matrix(target, predicted), index=target_names, columns=target_names)\n\nsns.heatmap(confusion, annot=True, fmt='{d,}')"
    },
    "executionTime": "2019-09-23T17:53:09.068Z"
   },
   {
    "cell": {
     "executionCount": 156,
     "executionEventId": "27bdf0ec-2e4d-4d4a-b5b2-fc5b7117f7ea",
     "hasError": true,
     "id": "19e77311-31a3-4927-955f-b32d616cdf39",
     "outputs": [
      {
       "ename": "KeyError",
       "evalue": "',d'",
       "output_type": "error",
       "traceback": [
        "\u001b[0;31m---------------------------------------------------------------------------\u001b[0m",
        "\u001b[0;31mKeyError\u001b[0m                                  Traceback (most recent call last)",
        "\u001b[0;32m<ipython-input-156-d841ea3555eb>\u001b[0m in \u001b[0;36m<module>\u001b[0;34m()\u001b[0m\n\u001b[1;32m      3\u001b[0m \u001b[0mconfusion\u001b[0m \u001b[0;34m=\u001b[0m \u001b[0mpd\u001b[0m\u001b[0;34m.\u001b[0m\u001b[0mDataFrame\u001b[0m\u001b[0;34m(\u001b[0m\u001b[0mmetrics\u001b[0m\u001b[0;34m.\u001b[0m\u001b[0mconfusion_matrix\u001b[0m\u001b[0;34m(\u001b[0m\u001b[0mtarget\u001b[0m\u001b[0;34m,\u001b[0m \u001b[0mpredicted\u001b[0m\u001b[0;34m)\u001b[0m\u001b[0;34m,\u001b[0m \u001b[0mindex\u001b[0m\u001b[0;34m=\u001b[0m\u001b[0mtarget_names\u001b[0m\u001b[0;34m,\u001b[0m \u001b[0mcolumns\u001b[0m\u001b[0;34m=\u001b[0m\u001b[0mtarget_names\u001b[0m\u001b[0;34m)\u001b[0m\u001b[0;34m\u001b[0m\u001b[0;34m\u001b[0m\u001b[0m\n\u001b[1;32m      4\u001b[0m \u001b[0;34m\u001b[0m\u001b[0m\n\u001b[0;32m----> 5\u001b[0;31m \u001b[0msns\u001b[0m\u001b[0;34m.\u001b[0m\u001b[0mheatmap\u001b[0m\u001b[0;34m(\u001b[0m\u001b[0mconfusion\u001b[0m\u001b[0;34m,\u001b[0m \u001b[0mannot\u001b[0m\u001b[0;34m=\u001b[0m\u001b[0;32mTrue\u001b[0m\u001b[0;34m,\u001b[0m \u001b[0mfmt\u001b[0m\u001b[0;34m=\u001b[0m\u001b[0;34m'{,d}'\u001b[0m\u001b[0;34m)\u001b[0m\u001b[0;34m\u001b[0m\u001b[0;34m\u001b[0m\u001b[0m\n\u001b[0m",
        "\u001b[0;32m~/miniconda3/envs/kmer-hashing/lib/python3.6/site-packages/seaborn/matrix.py\u001b[0m in \u001b[0;36mheatmap\u001b[0;34m(data, vmin, vmax, cmap, center, robust, annot, fmt, annot_kws, linewidths, linecolor, cbar, cbar_kws, cbar_ax, square, xticklabels, yticklabels, mask, ax, **kwargs)\u001b[0m\n\u001b[1;32m    526\u001b[0m     \u001b[0;32mif\u001b[0m \u001b[0msquare\u001b[0m\u001b[0;34m:\u001b[0m\u001b[0;34m\u001b[0m\u001b[0;34m\u001b[0m\u001b[0m\n\u001b[1;32m    527\u001b[0m         \u001b[0max\u001b[0m\u001b[0;34m.\u001b[0m\u001b[0mset_aspect\u001b[0m\u001b[0;34m(\u001b[0m\u001b[0;34m\"equal\"\u001b[0m\u001b[0;34m)\u001b[0m\u001b[0;34m\u001b[0m\u001b[0;34m\u001b[0m\u001b[0m\n\u001b[0;32m--> 528\u001b[0;31m     \u001b[0mplotter\u001b[0m\u001b[0;34m.\u001b[0m\u001b[0mplot\u001b[0m\u001b[0;34m(\u001b[0m\u001b[0max\u001b[0m\u001b[0;34m,\u001b[0m \u001b[0mcbar_ax\u001b[0m\u001b[0;34m,\u001b[0m \u001b[0mkwargs\u001b[0m\u001b[0;34m)\u001b[0m\u001b[0;34m\u001b[0m\u001b[0;34m\u001b[0m\u001b[0m\n\u001b[0m\u001b[1;32m    529\u001b[0m     \u001b[0;32mreturn\u001b[0m \u001b[0max\u001b[0m\u001b[0;34m\u001b[0m\u001b[0;34m\u001b[0m\u001b[0m\n\u001b[1;32m    530\u001b[0m \u001b[0;34m\u001b[0m\u001b[0m\n",
        "\u001b[0;32m~/miniconda3/envs/kmer-hashing/lib/python3.6/site-packages/seaborn/matrix.py\u001b[0m in \u001b[0;36mplot\u001b[0;34m(self, ax, cax, kws)\u001b[0m\n\u001b[1;32m    327\u001b[0m         \u001b[0;31m# Annotate the cells with the formatted values\u001b[0m\u001b[0;34m\u001b[0m\u001b[0;34m\u001b[0m\u001b[0;34m\u001b[0m\u001b[0m\n\u001b[1;32m    328\u001b[0m         \u001b[0;32mif\u001b[0m \u001b[0mself\u001b[0m\u001b[0;34m.\u001b[0m\u001b[0mannot\u001b[0m\u001b[0;34m:\u001b[0m\u001b[0;34m\u001b[0m\u001b[0;34m\u001b[0m\u001b[0m\n\u001b[0;32m--> 329\u001b[0;31m             \u001b[0mself\u001b[0m\u001b[0;34m.\u001b[0m\u001b[0m_annotate_heatmap\u001b[0m\u001b[0;34m(\u001b[0m\u001b[0max\u001b[0m\u001b[0;34m,\u001b[0m \u001b[0mmesh\u001b[0m\u001b[0;34m)\u001b[0m\u001b[0;34m\u001b[0m\u001b[0;34m\u001b[0m\u001b[0m\n\u001b[0m\u001b[1;32m    330\u001b[0m \u001b[0;34m\u001b[0m\u001b[0m\n\u001b[1;32m    331\u001b[0m \u001b[0;34m\u001b[0m\u001b[0m\n",
        "\u001b[0;32m~/miniconda3/envs/kmer-hashing/lib/python3.6/site-packages/seaborn/matrix.py\u001b[0m in \u001b[0;36m_annotate_heatmap\u001b[0;34m(self, ax, mesh)\u001b[0m\n\u001b[1;32m    241\u001b[0m                 \u001b[0mlum\u001b[0m \u001b[0;34m=\u001b[0m \u001b[0mrelative_luminance\u001b[0m\u001b[0;34m(\u001b[0m\u001b[0mcolor\u001b[0m\u001b[0;34m)\u001b[0m\u001b[0;34m\u001b[0m\u001b[0;34m\u001b[0m\u001b[0m\n\u001b[1;32m    242\u001b[0m                 \u001b[0mtext_color\u001b[0m \u001b[0;34m=\u001b[0m \u001b[0;34m\".15\"\u001b[0m \u001b[0;32mif\u001b[0m \u001b[0mlum\u001b[0m \u001b[0;34m>\u001b[0m \u001b[0;36m.408\u001b[0m \u001b[0;32melse\u001b[0m \u001b[0;34m\"w\"\u001b[0m\u001b[0;34m\u001b[0m\u001b[0;34m\u001b[0m\u001b[0m\n\u001b[0;32m--> 243\u001b[0;31m                 \u001b[0mannotation\u001b[0m \u001b[0;34m=\u001b[0m \u001b[0;34m(\u001b[0m\u001b[0;34m\"{:\"\u001b[0m \u001b[0;34m+\u001b[0m \u001b[0mself\u001b[0m\u001b[0;34m.\u001b[0m\u001b[0mfmt\u001b[0m \u001b[0;34m+\u001b[0m \u001b[0;34m\"}\"\u001b[0m\u001b[0;34m)\u001b[0m\u001b[0;34m.\u001b[0m\u001b[0mformat\u001b[0m\u001b[0;34m(\u001b[0m\u001b[0mval\u001b[0m\u001b[0;34m)\u001b[0m\u001b[0;34m\u001b[0m\u001b[0;34m\u001b[0m\u001b[0m\n\u001b[0m\u001b[1;32m    244\u001b[0m                 \u001b[0mtext_kwargs\u001b[0m \u001b[0;34m=\u001b[0m \u001b[0mdict\u001b[0m\u001b[0;34m(\u001b[0m\u001b[0mcolor\u001b[0m\u001b[0;34m=\u001b[0m\u001b[0mtext_color\u001b[0m\u001b[0;34m,\u001b[0m \u001b[0mha\u001b[0m\u001b[0;34m=\u001b[0m\u001b[0;34m\"center\"\u001b[0m\u001b[0;34m,\u001b[0m \u001b[0mva\u001b[0m\u001b[0;34m=\u001b[0m\u001b[0;34m\"center\"\u001b[0m\u001b[0;34m)\u001b[0m\u001b[0;34m\u001b[0m\u001b[0;34m\u001b[0m\u001b[0m\n\u001b[1;32m    245\u001b[0m                 \u001b[0mtext_kwargs\u001b[0m\u001b[0;34m.\u001b[0m\u001b[0mupdate\u001b[0m\u001b[0;34m(\u001b[0m\u001b[0mself\u001b[0m\u001b[0;34m.\u001b[0m\u001b[0mannot_kws\u001b[0m\u001b[0;34m)\u001b[0m\u001b[0;34m\u001b[0m\u001b[0;34m\u001b[0m\u001b[0m\n",
        "\u001b[0;31mKeyError\u001b[0m: ',d'"
       ]
      },
      {
       "data": {
        "image/png": "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\n",
        "text/plain": "<Figure size 432x288 with 2 Axes>"
       },
       "metadata": {
        "needs_background": "light"
       },
       "output_type": "display_data"
      }
     ],
     "persistentId": "39cc0eb4-8975-4a3f-af43-fbf79a380028",
     "text": "target_names=['noncoding', 'coding']\n\nconfusion = pd.DataFrame(metrics.confusion_matrix(target, predicted), index=target_names, columns=target_names)\n\nsns.heatmap(confusion, annot=True, fmt='{,d}')"
    },
    "executionTime": "2019-09-23T17:53:13.604Z"
   },
   {
    "cell": {
     "executionCount": 157,
     "executionEventId": "829e33d9-c918-49a6-825d-acf6d463bfc9",
     "hasError": true,
     "id": "19e77311-31a3-4927-955f-b32d616cdf39",
     "outputs": [
      {
       "ename": "KeyError",
       "evalue": "'d'",
       "output_type": "error",
       "traceback": [
        "\u001b[0;31m---------------------------------------------------------------------------\u001b[0m",
        "\u001b[0;31mKeyError\u001b[0m                                  Traceback (most recent call last)",
        "\u001b[0;32m<ipython-input-157-f2751f01f445>\u001b[0m in \u001b[0;36m<module>\u001b[0;34m()\u001b[0m\n\u001b[1;32m      3\u001b[0m \u001b[0mconfusion\u001b[0m \u001b[0;34m=\u001b[0m \u001b[0mpd\u001b[0m\u001b[0;34m.\u001b[0m\u001b[0mDataFrame\u001b[0m\u001b[0;34m(\u001b[0m\u001b[0mmetrics\u001b[0m\u001b[0;34m.\u001b[0m\u001b[0mconfusion_matrix\u001b[0m\u001b[0;34m(\u001b[0m\u001b[0mtarget\u001b[0m\u001b[0;34m,\u001b[0m \u001b[0mpredicted\u001b[0m\u001b[0;34m)\u001b[0m\u001b[0;34m,\u001b[0m \u001b[0mindex\u001b[0m\u001b[0;34m=\u001b[0m\u001b[0mtarget_names\u001b[0m\u001b[0;34m,\u001b[0m \u001b[0mcolumns\u001b[0m\u001b[0;34m=\u001b[0m\u001b[0mtarget_names\u001b[0m\u001b[0;34m)\u001b[0m\u001b[0;34m\u001b[0m\u001b[0;34m\u001b[0m\u001b[0m\n\u001b[1;32m      4\u001b[0m \u001b[0;34m\u001b[0m\u001b[0m\n\u001b[0;32m----> 5\u001b[0;31m \u001b[0msns\u001b[0m\u001b[0;34m.\u001b[0m\u001b[0mheatmap\u001b[0m\u001b[0;34m(\u001b[0m\u001b[0mconfusion\u001b[0m\u001b[0;34m,\u001b[0m \u001b[0mannot\u001b[0m\u001b[0;34m=\u001b[0m\u001b[0;32mTrue\u001b[0m\u001b[0;34m,\u001b[0m \u001b[0mfmt\u001b[0m\u001b[0;34m=\u001b[0m\u001b[0;34m'{d}'\u001b[0m\u001b[0;34m)\u001b[0m\u001b[0;34m\u001b[0m\u001b[0;34m\u001b[0m\u001b[0m\n\u001b[0m",
        "\u001b[0;32m~/miniconda3/envs/kmer-hashing/lib/python3.6/site-packages/seaborn/matrix.py\u001b[0m in \u001b[0;36mheatmap\u001b[0;34m(data, vmin, vmax, cmap, center, robust, annot, fmt, annot_kws, linewidths, linecolor, cbar, cbar_kws, cbar_ax, square, xticklabels, yticklabels, mask, ax, **kwargs)\u001b[0m\n\u001b[1;32m    526\u001b[0m     \u001b[0;32mif\u001b[0m \u001b[0msquare\u001b[0m\u001b[0;34m:\u001b[0m\u001b[0;34m\u001b[0m\u001b[0;34m\u001b[0m\u001b[0m\n\u001b[1;32m    527\u001b[0m         \u001b[0max\u001b[0m\u001b[0;34m.\u001b[0m\u001b[0mset_aspect\u001b[0m\u001b[0;34m(\u001b[0m\u001b[0;34m\"equal\"\u001b[0m\u001b[0;34m)\u001b[0m\u001b[0;34m\u001b[0m\u001b[0;34m\u001b[0m\u001b[0m\n\u001b[0;32m--> 528\u001b[0;31m     \u001b[0mplotter\u001b[0m\u001b[0;34m.\u001b[0m\u001b[0mplot\u001b[0m\u001b[0;34m(\u001b[0m\u001b[0max\u001b[0m\u001b[0;34m,\u001b[0m \u001b[0mcbar_ax\u001b[0m\u001b[0;34m,\u001b[0m \u001b[0mkwargs\u001b[0m\u001b[0;34m)\u001b[0m\u001b[0;34m\u001b[0m\u001b[0;34m\u001b[0m\u001b[0m\n\u001b[0m\u001b[1;32m    529\u001b[0m     \u001b[0;32mreturn\u001b[0m \u001b[0max\u001b[0m\u001b[0;34m\u001b[0m\u001b[0;34m\u001b[0m\u001b[0m\n\u001b[1;32m    530\u001b[0m \u001b[0;34m\u001b[0m\u001b[0m\n",
        "\u001b[0;32m~/miniconda3/envs/kmer-hashing/lib/python3.6/site-packages/seaborn/matrix.py\u001b[0m in \u001b[0;36mplot\u001b[0;34m(self, ax, cax, kws)\u001b[0m\n\u001b[1;32m    327\u001b[0m         \u001b[0;31m# Annotate the cells with the formatted values\u001b[0m\u001b[0;34m\u001b[0m\u001b[0;34m\u001b[0m\u001b[0;34m\u001b[0m\u001b[0m\n\u001b[1;32m    328\u001b[0m         \u001b[0;32mif\u001b[0m \u001b[0mself\u001b[0m\u001b[0;34m.\u001b[0m\u001b[0mannot\u001b[0m\u001b[0;34m:\u001b[0m\u001b[0;34m\u001b[0m\u001b[0;34m\u001b[0m\u001b[0m\n\u001b[0;32m--> 329\u001b[0;31m             \u001b[0mself\u001b[0m\u001b[0;34m.\u001b[0m\u001b[0m_annotate_heatmap\u001b[0m\u001b[0;34m(\u001b[0m\u001b[0max\u001b[0m\u001b[0;34m,\u001b[0m \u001b[0mmesh\u001b[0m\u001b[0;34m)\u001b[0m\u001b[0;34m\u001b[0m\u001b[0;34m\u001b[0m\u001b[0m\n\u001b[0m\u001b[1;32m    330\u001b[0m \u001b[0;34m\u001b[0m\u001b[0m\n\u001b[1;32m    331\u001b[0m \u001b[0;34m\u001b[0m\u001b[0m\n",
        "\u001b[0;32m~/miniconda3/envs/kmer-hashing/lib/python3.6/site-packages/seaborn/matrix.py\u001b[0m in \u001b[0;36m_annotate_heatmap\u001b[0;34m(self, ax, mesh)\u001b[0m\n\u001b[1;32m    241\u001b[0m                 \u001b[0mlum\u001b[0m \u001b[0;34m=\u001b[0m \u001b[0mrelative_luminance\u001b[0m\u001b[0;34m(\u001b[0m\u001b[0mcolor\u001b[0m\u001b[0;34m)\u001b[0m\u001b[0;34m\u001b[0m\u001b[0;34m\u001b[0m\u001b[0m\n\u001b[1;32m    242\u001b[0m                 \u001b[0mtext_color\u001b[0m \u001b[0;34m=\u001b[0m \u001b[0;34m\".15\"\u001b[0m \u001b[0;32mif\u001b[0m \u001b[0mlum\u001b[0m \u001b[0;34m>\u001b[0m \u001b[0;36m.408\u001b[0m \u001b[0;32melse\u001b[0m \u001b[0;34m\"w\"\u001b[0m\u001b[0;34m\u001b[0m\u001b[0;34m\u001b[0m\u001b[0m\n\u001b[0;32m--> 243\u001b[0;31m                 \u001b[0mannotation\u001b[0m \u001b[0;34m=\u001b[0m \u001b[0;34m(\u001b[0m\u001b[0;34m\"{:\"\u001b[0m \u001b[0;34m+\u001b[0m \u001b[0mself\u001b[0m\u001b[0;34m.\u001b[0m\u001b[0mfmt\u001b[0m \u001b[0;34m+\u001b[0m \u001b[0;34m\"}\"\u001b[0m\u001b[0;34m)\u001b[0m\u001b[0;34m.\u001b[0m\u001b[0mformat\u001b[0m\u001b[0;34m(\u001b[0m\u001b[0mval\u001b[0m\u001b[0;34m)\u001b[0m\u001b[0;34m\u001b[0m\u001b[0;34m\u001b[0m\u001b[0m\n\u001b[0m\u001b[1;32m    244\u001b[0m                 \u001b[0mtext_kwargs\u001b[0m \u001b[0;34m=\u001b[0m \u001b[0mdict\u001b[0m\u001b[0;34m(\u001b[0m\u001b[0mcolor\u001b[0m\u001b[0;34m=\u001b[0m\u001b[0mtext_color\u001b[0m\u001b[0;34m,\u001b[0m \u001b[0mha\u001b[0m\u001b[0;34m=\u001b[0m\u001b[0;34m\"center\"\u001b[0m\u001b[0;34m,\u001b[0m \u001b[0mva\u001b[0m\u001b[0;34m=\u001b[0m\u001b[0;34m\"center\"\u001b[0m\u001b[0;34m)\u001b[0m\u001b[0;34m\u001b[0m\u001b[0;34m\u001b[0m\u001b[0m\n\u001b[1;32m    245\u001b[0m                 \u001b[0mtext_kwargs\u001b[0m\u001b[0;34m.\u001b[0m\u001b[0mupdate\u001b[0m\u001b[0;34m(\u001b[0m\u001b[0mself\u001b[0m\u001b[0;34m.\u001b[0m\u001b[0mannot_kws\u001b[0m\u001b[0;34m)\u001b[0m\u001b[0;34m\u001b[0m\u001b[0;34m\u001b[0m\u001b[0m\n",
        "\u001b[0;31mKeyError\u001b[0m: 'd'"
       ]
      },
      {
       "data": {
        "image/png": "iVBORw0KGgoAAAANSUhEUgAAAXMAAAD8CAYAAACFK0QrAAAABHNCSVQICAgIfAhkiAAAAAlwSFlzAAALEgAACxIB0t1+/AAAADl0RVh0U29mdHdhcmUAbWF0cGxvdGxpYiB2ZXJzaW9uIDMuMC4zLCBodHRwOi8vbWF0cGxvdGxpYi5vcmcvnQurowAAGvBJREFUeJzt3XucXWV97/HPNwnhViHhooUMx0QIUhCKtoZYxGKiEKglHEAMpRJpND0crGgvAu05L1rQvoTjaVoq0BMhEqgSwk0iIsgJBOpREu6EcJF5hSrhFtOEgC9sYGZ+54/1bLOY7Nmz9p7ZmZlnvm9f6zV7/daz1nrGGX7z5LeetZYiAjMzG9nGDHUHzMxs4JzMzcwy4GRuZpYBJ3Mzsww4mZuZZcDJ3MwsA07mZmYNSBor6RFJt6X1mZIelvSopB9JOiDFd5R0vaROSSslTS4d4/wUf0bSsaX4rBTrlHReKT4lHePZdMzx/fXTydzMrLFzgKdK61cAp0fE4cB3gP+R4vOATRFxALAAuBhA0sHAHOAQYBZwefoDMRa4DDgOOBg4LbUl7bsgIqYCm9KxG3IyNzPrg6QO4A+AK0vhAHZLn3cHXkyfZwOL0+cbgZmSlOJLImJLRDwHdALT0tIZEWsj4k1gCTA77TMjHYN0zBP76+u41r7F6t7asNa3mNo2dt73qKHugg1DXW++oIEeo5mcs8Ne7+nvfP8IfBl4Ryn2WeB2Sb8CXgOmp/gk4HmAiOiStBnYM8XvL+2/LsWotS/Fj0j7vBoRXXXa98kjczMbtSTNl/RgaZlf2vYJYH1EPNRrty8Bx0dEB/At4B9qu9Q5RQxivKG2j8zNzLarnu7KTSNiIbCwj81HAidIOh7YCdhN0veBgyJiZWpzPXBH+rwO2A9YJ2kcRQlmYyle08HW0ky9+AZggqRxaXRebt8nj8zNLC/dXdWXBiLi/IjoiIjJFBcw76aof+8u6cDU7ONsvTi6DJibPp8C3B3FkwyXAXPSbJcpwFRgFfAAMDXNXBmfzrEs7XNPOgbpmLf29217ZG5mWYnoaeOxo0vS54CbJPVQzDT5k7T5KuBaSZ0UI/I5aZ81kpYCTwJdwNkR0Q0g6fPAncBYYFFErEnHOhdYIukrwCPp2A2p3Y/A9QVQq8cXQK2ewbgA+ua61ZVzzviOQwd8vuHCI3Mzy0sbR+bDmZO5meWliQugOXEyN7O8eGRuZjbyRT+zVHLlZG5meenxyNzMbORzmcXMLAO+AGpmlgGPzM3MMuALoGZmGfAFUDOzkS899mTUcTI3s7y4Zm5mlgGXWczMMuCRuZlZBrrfGuoeDAknczPLi8ssZmYZcJnFzCwDHpmbmWXAydzMbOQLXwA1M8uAa+ZmZhlwmcXMLAMemZuZZcAjczOzDHhkbmaWgS6/nMLMbOTzyNzMLAOumZuZZcAjczOzDHhkbmaWAY/MzcwyMEpns4wZ6g6YmQ2qiOpLBZLGSnpE0m1pfYqklZKelXS9pPEpvmNa70zbJ5eOcX6KPyPp2FJ8Vop1SjqvFK97jkaczM0sLz091ZdqzgGeKq1fDCyIiKnAJmBeis8DNkXEAcCC1A5JBwNzgEOAWcDl6Q/EWOAy4DjgYOC01LbROfrkZG5meRnEZC6pA/gD4Mq0LmAGcGNqshg4MX2endZJ22em9rOBJRGxJSKeAzqBaWnpjIi1EfEmsASY3c85+uRkbmZ5iZ7Ki6T5kh4sLfN7He0fgS8Dtcy/J/BqRNQK8+uASenzJOB5gLR9c2r/63ivffqKNzpHn3wB1Mzy0t1duWlELAQW1tsm6RPA+oh4SNLRtXC9w/Szra94vcF0o/YNOZmbWV4Gb575kcAJko4HdgJ2oxipT5A0Lo2cO4AXU/t1wH7AOknjgN2BjaV4TXmfevENDc7RJ5dZzCwvg1Qzj4jzI6IjIiZTXMC8OyJOB+4BTknN5gK3ps/L0jpp+90RESk+J812mQJMBVYBDwBT08yV8ekcy9I+fZ2jT07mZpaXJmrmLToX+HNJnRT17atS/CpgzxT/c+A8gIhYAywFngTuAM6OiO406v48cCfFbJmlqW2jc/RJUXGuZave2rC2vSewEWnnfY8a6i7YMNT15gv16sVNeWPhlyrnnF3mLxjw+YYL18zNLC9+NouZWQaamM2SEydzM8uLR+ZmZhlwMjczy0CbJ3UMV07mZpYXj8z7JumkOuHNwOqIWD+4XTIzG4Aej8wbmQd8iOKuJICjgfuBAyVdGBHXtqFvZmbNG6WzWareAdoD/FZEnBwRJ1M8e3cLcATFnUpvU34S2ZXXXDd4vTUz60f09FReclJ1ZD45Il4pra8HDoyIjZLe6t24/CQy3wFqZtuVyywN/Vt6ZdINaf1k4D5JuwKvtqVnZmat8AudGzqbIoEfSfGs3WuAm9LTvT7apr6ZmTXPI/O+paR9I1tfY2RmNjx1+QJonySdlN4SvVnSa5Jel/RauztnZta09j8Cd1iqWma5BPjDiHiq35ZmZkPJZZaGXnEiN7ORILcph1VVTeYPSroe+C7F/HIAIuLmtvTKzKxVHpk3tBvwBnBMKRaAk7mZDS9O5n2LiDPb3REzs0ExSm/nb5jMJX05Ii6R9M8UI/G3iYgvtK1nZmYtCI/M66pd9Hyw3R0xMxsUTubbiojvpa+Lt093zMwGyLNZtiXpe9Qpr9RExAmD3iMzs4HwyLyur6evJwG/CfxrWj8N+Pc29cnMrHVO5tuKiHsBJF0UER8pbfqepPva2jMzsxZE9+gss1R9OcXekt5TW5E0Bdi7PV0yMxuAnqi+ZKTqTUNfAlZIWpvWJwPz29IjM7MB8NTEBiLiDklTgYNS6OmI2NJoHzOzIeFk3jdJOwB/CtTq5isk/Z+I2OaVcWZmQ2p0lswrl1muAHYALk/rn06xz7ajU2ZmrYqu0ZnNqybzD0bEb5fW75b0WDs6ZGY2IKMzl1eezdItaf/aSprZMjqfZmNmw1r0ROWlEUk7SVol6TFJayT9XYp/W9Izkp6QtCiVoVHhUkmdkh6X9IHSseamt7U9K2luKf47klanfS6VpBTfQ9Jdqf1dkib2931XTeZ/BdwjaYWke4G7gb+ouK+Z2fbT08TS2BZgRqpKHA7MkjQd+DbFZJBDgZ3ZWm4+DpialvkUpWgk7QFcABwBTAMuKCXnK1Lb2n6zUvw8YHlETAWWp/WGqs5mWZ5ms7wXEJ7NYmbD1GBNTUwvsv9lWt0hLRERt9faSFoFdKTV2cA1ab/7JU2QtA9wNHBXRGxM+9xF8YdhBbBbRPwkxa8BTgR+kI51dDruYmAFcG6j/lZ9ofPZwM4R8XhEPAbsIum/V9nXzGy7GryROZLGSnoUWE+RkFeWtu1AMRnkjhSaBDxf2n1dijWKr6sTB3hXRLwEkL6+s7++Vi2zfC4iXq2tRMQm4HMV9zUz226iq/oiab6kB0vL226GjIjuiDicYvQ9TdL7SpsvB+6LiH9L66rXnRbiLak6m2WMJKV/PiBpLDC+1ZOambVLNDGbJSIWAgsrtHs1lUVmAU9IuoDikSZ/Wmq2DtivtN4BvJjiR/eKr0jxjjrtAV6RtE9EvJRKNev762PVkfmdwFJJMyXNAK5j6z8tzMyGj0Eqs0jaW9KE9Hln4GPA05I+CxwLnBbxtj8dy4Az0qyW6cDmVCK5EzhG0sR04fMY4M607XVJ09MsljOAW0vHqs16mVuK96nqyPxcir9AZ1H80+CHwJUV9zUz226aGZn3Yx9gcapEjAGWRsRtkrqAnwE/STMJb46IC4HbgeOBTuAN4EyAiNgo6SLggXTcC2sXQyly6tUUs2J+kBaAr1EMoOcBPwc+2V9nlSonbfPWhrWj80EJ1tDO+x411F2wYajrzRfq1ZGbsn7m71fOOe9cfu+AzzdcVH02y5HA3wLvTvuIYorOexrtZ2a2vUV3Nvm5KVXLLFdRPAb3IXznp5kNY4NYZhlRqibzzRHxg/6bmZkNrejxyLyReyT9L+BmiltcAYiIh9vSKzOzFnlk3tgR6evvlmIBzBjc7piZDUyER+Z9ioiPtrsjZmaDwSPzBiTtTvHUr9qbhu6lmCu5uV0dMzNrRc8onc1S9Q7QRcDrwKlpeQ34Vrs6ZWbWquhR5SUnVWvm+0fEyaX1v0tPEjMzG1ZyS9JVVR2Z/0rSh2sr6SaiX7WnS2ZmrYuovuSk6sj8LIpnFOye1jex9SEwZmbDxmgdmVdN5k8BlwD7AxOAzRRvxHi8Tf0yM2uJpyY2divwKvAw8EL7umNmNjDdo3Q2S9Vk3hERs/pvZmY2tEbryLzqBdAfSzq0rT0xMxsEnprY2IeBz0h6juLZLLVH4B7Wtp6ZmbUgt1kqVVVN5se1tRdmZoMktxF3VVWfzfKzdnfEzGwwdPdUrR7nperI3MxsRHCZxcwsAz2jdDaLk7mZZWW0Tk10MjezrLjM0ia77HtUu09hI9B7J3YMdRcsUy6zmJllwLNZzMwyMEqrLE7mZpYXl1nMzDLg2SxmZhnoGeoODBEnczPLSuCRuZnZiNflMouZ2cg3Wkfmo3NCppllq6eJpRFJ+0m6R9JTktZIOqfX9r+UFJL2SuuSdKmkTkmPS/pAqe1cSc+mZW4p/juSVqd9LpWkFN9D0l2p/V2SJvb3fTuZm1lWAlVe+tEF/EVE/BYwHThb0sFQJHrg48DPS+2PA6amZT5wRWq7B3ABcAQwDbiglJyvSG1r+9Vez3kesDwipgLL03pDTuZmlpXBGplHxEsR8XD6/DrwFDApbV4AfJm336M0G7gmCvcDEyTtAxwL3BURGyNiE3AXMCtt2y0ifhIRAVwDnFg61uL0eXEp3ifXzM0sK91tqJlLmgy8H1gp6QTghYh4LFVFaiYBz5fW16VYo/i6OnGAd0XES1D8UZH0zv766GRuZllp5q1xkuZTlDlqFkbEwl5tfgO4CfgiRenlb4Bj6h2uTixaiLfEydzMstLTxMg8Je6FfW2XtANFIv92RNws6VBgClAblXcAD0uaRjGy3q+0ewfwYoof3Su+IsU76rQHeEXSPmlUvg+wvr/vxTVzM8tKNLE0kmaWXAU8FRH/ABARqyPinRExOSImUyTkD0TEy8Ay4Iw0q2U6sDmVSu4EjpE0MV34PAa4M217XdL0dK4zgFvT6ZcBtVkvc0vxPnlkbmZZGcTb+Y8EPg2slvRoiv11RNzeR/vbgeOBTuAN4EyAiNgo6SLggdTuwojYmD6fBVwN7Az8IC0AXwOWSppHMWPmk/111snczLLSo8G5ABoRP6J+XbvcZnLpcwBn99FuEbCoTvxB4H114v8BzGymv07mZpaV7qHuwBBxMjezrDQzmyUnTuZmlpVmZrPkxMnczLLi18aZmWXAZRYzswz4TUNmZhno9sjczGzk88jczCwDTuZmZhkYpa8AdTI3s7x4ZG5mlgHfzm9mlgHPMzczy4DLLGZmGXAyNzPLgJ/NYmaWAdfMzcwy4NksZmYZ6BmlhRYnczPLii+AmpllYHSOy53MzSwzHpmbmWWgS6NzbO5kbmZZGZ2p3MnczDLjMouZWQY8NdHMLAOjM5U7mZtZZlxmMTPLQPcoHZs7mZtZVjwyNzPLQHhkbmY28o3WkfmYoe6Amdlg6iEqL/2RtEjSeklP9Ir/maRnJK2RdEkpfr6kzrTt2FJ8Vop1SjqvFJ8iaaWkZyVdL2l8iu+Y1jvT9sn99dXJ3MyyEk0sFVwNzCoHJH0UmA0cFhGHAF9P8YOBOcAhaZ/LJY2VNBa4DDgOOBg4LbUFuBhYEBFTgU3AvBSfB2yKiAOABaldQ07mZpaVLqLy0p+IuA/Y2Ct8FvC1iNiS2qxP8dnAkojYEhHPAZ3AtLR0RsTaiHgTWALMliRgBnBj2n8xcGLpWIvT5xuBmal9nyrVzCVdWie8GXgwIm6tcgwzs+2hmQugkuYD80uhhRGxsJ/dDgSOkvRV4D+Bv4yIB4BJwP2ldutSDOD5XvEjgD2BVyOiq077SbV9IqJL0ubUfkNfnap6AXQn4CDghrR+MrAGmCfpoxHxxXLj8v9BY8buzpgxu1Y8jZnZwDRzATQl7v6Sd2/jgInAdOCDwFJJ7wHqjZyD+hWQaNCefrb12akqDgBm1P6CSLoC+CHwcWD1Nmcs/R+0w/hJo3OekJkNie0wNXEdcHNEBLBKUg+wV4rvV2rXAbyYPteLbwAmSBqXcmu5fe1Y6ySNA3Zn23LP21StmU8CysPrXYF9I6Ib2FLxGGZmbdfTxNKi71LUupF0IDCeIjEvA+akmShTgKnAKuABYGqauTKe4iLpsvTH4B7glHTcuUCtbL0srZO2353a96nqyPwS4FFJKyiG/x8B/l7SrsD/rXgMM7O2626c85oi6TrgaGAvSeuAC4BFwKI0XfFNYG5KtGskLQWeBLqAs9OAF0mfB+4ExgKLImJNOsW5wBJJXwEeAa5K8auAayV1UozI5/Tb136Sffmb2ofiqqyAVRHxYj+7AC6zWH0HTuwY6i7YMLTmlZUNZ2xU8Ufv/q+Vc853fnbLgM83XDQzNXEM8AuKvxIHSPpIe7pkZta6aOJ/Oak6NfFi4FMUM1hqpaYA7mtTv8zMWjJab+evWjM/EXhvbZK8mdlw5TcNNbYW2AHPXDGzYS638klVVZP5GxSzWZZTSugR8YW29MrMrEWDOZtlJKmazJelxcxsWHOZpYGIWNx/KzOzoecLoHVIWhoRp0paTZ3nAkTEYW3rmZlZC1wzr++c9PUT7e6ImdlgcJmljoh4KX392fbpjpnZwFS9qz03/ZVZXqfBYxcjYrdB75GZ2QB0e2S+rYh4B4CkC4GXgWspns1yOvCOtvfOzKxJLrM0dmxEHFFav0LSSoqnKZqZDRujtcxS9UFb3ZJOTy8nHSPpdKC7nR0zM2tFD1F5yUnVZP5HwKnAK8B64JMpZmY2rPipiQ1ExL9TvC3azGxYG62381camUvqkHSLpPWSXpF0kyS/XcDMhh2XWRr7FsWzWfaleB/o91LMzGxYcTJvbO+I+FZEdKXlamDvNvbLzKwlEVF5yUnVZL5B0h+n2SxjJf0x8B/t7JiZWSs8Mm/sTyhms7wMvAScApzZrk6ZmbXKs1kauwiYGxGbACTtAXydIsmbmQ0b3TE6H4JbNZkfVkvkABGxUdL729QnM7OW5VYLr6pqMh8jaWKvkXnVfc3MtpvcauFVVU3I/xv4saQbKZ6ieCrw1bb1ysysRbnVwquqegfoNZIeBGZQPDXxpIh4sq09MzNrQY/LLI2l5O0EbmbDmkfmZmYZ8GwWM7MMuMxiZpYBl1nMzDIwWkfmVW/nNzMbEQbzdn5JX5K0RtITkq6TtJOkKZJWSnpW0vWSxqe2O6b1zrR9cuk456f4M5KOLcVnpVinpPMG8n07mZtZVrqju/LSiKRJwBeA342I9wFjgTnAxcCCiJgKbALmpV3mAZsi4gBgQWqHpIPTfocAs4DLaw8tBC4DjgMOBk5LbVviZG5mWRnkR+COA3aWNA7YheJBgzOAG9P2xcCJ6fPstE7aPlOSUnxJRGyJiOeATmBaWjojYm1EvAksYQBvdHMyN7OsDNYjcCPiBYoHCv6cIolvBh4CXo2IrtRsHcULe0hfn0/7dqX2e5bjvfbpK94SJ3Mzy0ozI3NJ8yU9WFrm144jaSLFSHkKxVvWdqUoiWxzytoufWxrNt4Sz2Yxs6w0M5slIhYCC/vY/DHguYj4BYCkm4HfAyZIGpdG3x3Ai6n9OmA/YF0qy+wObCzFa8r79BVvmkfmZpaVQZzN8nNguqRdUu17JsUjTe6heEEPwFzg1vR5WVonbb87isL8MmBOmu0yBZgKrAIeAKam2THjKS6SLmv1+/bI3MyyMli380fEyvSk2IeBLuARilH894Elkr6SYlelXa4CrpXUSTEin5OOs0bSUoo/BF3A2RHFVBpJnwfupJgpsygi1rTaX7X7Qe47jJ80OmfwW0MHTuwY6i7YMLTmlZX16shN2Wu3AyvnnA2v/XTA5xsuPDI3s6yM1jtAnczNLCt+bZyZWQb82jgzswx4ZG5mlgG/nMLMLAO+AGpmlgGXWczMMuA3DZmZZcAjczOzDIzWmnnbb+e3rSTNT09pM/s1/17YYPBTE7ev+f03sVHIvxc2YE7mZmYZcDI3M8uAk/n25bqo1ePfCxswXwA1M8uAR+ZmZhlwMh9GJB0t6bb0+QRJ5w11n6y9JP0yfd03vaLMrCW+aWiYiohlDODlrjayRMSLbH1JsFnTPDJPJE2W9JSkb0paI+mHknaWdLik+yU9LukWSRNT+xWSLpa0StJPJR2V4mMlfV3S6rTPn6X4TEmPpPgiSTum+CxJT0v6EXBSqT+fkfSN9PlqSZdK+rGktZJOSfExki5P/b1N0u21bbZ9SToj/bwfk3StpHdLWp5iyyX9l9RuiqSfSHpA0kWl/SdLeiJ9/oykmyXdIelZSZeU2s1Lv28r0u/qN7b/d2vDkZP5200FLouIQ4BXgZOBa4BzI+IwYDVwQan9uIiYBnyxFJ8PTAHen/b5tqSdgKuBT0XEoRT/Ijorxb8J/CFwFPCbDfq2D/Bh4BPA11LsJGAycCjwWeBDLX/n1jJJhwB/A8yIiN8GzgG+AVxT+x0ALk3N/wm4IiI+CLzc4LCHA5+i+Nl+StJ+kvYF/icwHfg4cFA7vh8bmZzM3+65iHg0fX4I2B+YEBH3pthi4COl9jeX2k5Onz8G/EtEdAFExEbgvenYP+11nINS/NkophX9a4O+fTcieiLiSeBdKfZh4IYUfxm4p+nv2AbDDODGiNgAv/6Zfwj4Ttp+LcXPCuBI4LpSvC/LI2JzRPwn8CTwbmAacG9EbIyIt4AbBvfbsJHMyfzttpQ+dwMTKrbvZuv1B8E2z+BUg2NUnRta7pt6fbWhVe9n3lv08bkvvX8Xx+GftzXgZN7YZmBTrR4OfBq4t0F7gB8C/03SOABJewBPA5MlHdDrOE8DUyTtn+KnNdm/HwEnp9r5u4Cjm9zfBsdy4FRJe8Kvf+Y/Buak7adT/KwA/l+veDNWAb8vaWL6/Tp5QL22rHg2S//mAv8iaRdgLXBmP+2vBA4EHpf0FvDNiPiGpDOBG9J/hA9QlGK2SJoPfF/SBor/4N/XRN9uAmYCTwA/BVZS/AGy7Sgi1kj6KnCvpG7gEeALwCJJfwX8gq2/N+cA35F0DsXPr5nzvCDp7yl+zi9SlF/88zbAd4COeJJ+IyJ+mUaFq4AjU/3cMlT6eY8DbgEWRcQtQ90vG3oemY98t0maAIwHLnIiz97fSvoYsBNFSe+7Q9wfGyY8Mjczy4AvgJqZZcDJ3MwsA07mZmYZcDI3M8uAk7mZWQaczM3MMvD/AaNHAj5IxJeWAAAAAElFTkSuQmCC\n",
        "text/plain": "<Figure size 432x288 with 2 Axes>"
       },
       "metadata": {
        "needs_background": "light"
       },
       "output_type": "display_data"
      }
     ],
     "persistentId": "39cc0eb4-8975-4a3f-af43-fbf79a380028",
     "text": "target_names=['noncoding', 'coding']\n\nconfusion = pd.DataFrame(metrics.confusion_matrix(target, predicted), index=target_names, columns=target_names)\n\nsns.heatmap(confusion, annot=True, fmt='{d}')"
    },
    "executionTime": "2019-09-23T17:53:16.726Z"
   },
   {
    "cell": {
     "executionCount": 158,
     "executionEventId": "5ad64503-cae9-4a09-868f-36fd1c2c2655",
     "hasError": false,
     "id": "19e77311-31a3-4927-955f-b32d616cdf39",
     "outputs": [
      {
       "data": {
        "text/plain": "<matplotlib.axes._subplots.AxesSubplot at 0x7fe19834a828>"
       },
       "execution_count": 158,
       "metadata": {},
       "output_type": "execute_result"
      },
      {
       "data": {
        "image/png": "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\n",
        "text/plain": "<Figure size 432x288 with 2 Axes>"
       },
       "metadata": {
        "needs_background": "light"
       },
       "output_type": "display_data"
      }
     ],
     "persistentId": "39cc0eb4-8975-4a3f-af43-fbf79a380028",
     "text": "target_names=['noncoding', 'coding']\n\nconfusion = pd.DataFrame(metrics.confusion_matrix(target, predicted), index=target_names, columns=target_names)\n\nsns.heatmap(confusion, annot=True, fmt=',d')"
    },
    "executionTime": "2019-09-23T17:53:21.845Z"
   },
   {
    "cell": {
     "executionCount": 159,
     "executionEventId": "baaf5e3e-000c-4d15-8544-96323eb82fb4",
     "hasError": true,
     "id": "c25ca639-eea9-4cdc-b792-1ba4a88f1cc8",
     "outputs": [
      {
       "ename": "KeyError",
       "evalue": "'is_coding'",
       "output_type": "error",
       "traceback": [
        "\u001b[0;31m---------------------------------------------------------------------------\u001b[0m",
        "\u001b[0;31mKeyError\u001b[0m                                  Traceback (most recent call last)",
        "\u001b[0;32m~/miniconda3/envs/kmer-hashing/lib/python3.6/site-packages/pandas/core/indexes/base.py\u001b[0m in \u001b[0;36mget_loc\u001b[0;34m(self, key, method, tolerance)\u001b[0m\n\u001b[1;32m   2656\u001b[0m             \u001b[0;32mtry\u001b[0m\u001b[0;34m:\u001b[0m\u001b[0;34m\u001b[0m\u001b[0;34m\u001b[0m\u001b[0m\n\u001b[0;32m-> 2657\u001b[0;31m                 \u001b[0;32mreturn\u001b[0m \u001b[0mself\u001b[0m\u001b[0;34m.\u001b[0m\u001b[0m_engine\u001b[0m\u001b[0;34m.\u001b[0m\u001b[0mget_loc\u001b[0m\u001b[0;34m(\u001b[0m\u001b[0mkey\u001b[0m\u001b[0;34m)\u001b[0m\u001b[0;34m\u001b[0m\u001b[0;34m\u001b[0m\u001b[0m\n\u001b[0m\u001b[1;32m   2658\u001b[0m             \u001b[0;32mexcept\u001b[0m \u001b[0mKeyError\u001b[0m\u001b[0;34m:\u001b[0m\u001b[0;34m\u001b[0m\u001b[0;34m\u001b[0m\u001b[0m\n",
        "\u001b[0;32mpandas/_libs/index.pyx\u001b[0m in \u001b[0;36mpandas._libs.index.IndexEngine.get_loc\u001b[0;34m()\u001b[0m\n",
        "\u001b[0;32mpandas/_libs/index.pyx\u001b[0m in \u001b[0;36mpandas._libs.index.IndexEngine.get_loc\u001b[0;34m()\u001b[0m\n",
        "\u001b[0;32mpandas/_libs/hashtable_class_helper.pxi\u001b[0m in \u001b[0;36mpandas._libs.hashtable.PyObjectHashTable.get_item\u001b[0;34m()\u001b[0m\n",
        "\u001b[0;32mpandas/_libs/hashtable_class_helper.pxi\u001b[0m in \u001b[0;36mpandas._libs.hashtable.PyObjectHashTable.get_item\u001b[0;34m()\u001b[0m\n",
        "\u001b[0;31mKeyError\u001b[0m: 'is_coding'",
        "\nDuring handling of the above exception, another exception occurred:\n",
        "\u001b[0;31mKeyError\u001b[0m                                  Traceback (most recent call last)",
        "\u001b[0;32m<ipython-input-159-765da96e83db>\u001b[0m in \u001b[0;36m<module>\u001b[0;34m()\u001b[0m\n\u001b[0;32m----> 1\u001b[0;31m \u001b[0mfpr\u001b[0m\u001b[0;34m,\u001b[0m \u001b[0mtpr\u001b[0m\u001b[0;34m,\u001b[0m \u001b[0mthresholds\u001b[0m \u001b[0;34m=\u001b[0m \u001b[0mmetrics\u001b[0m\u001b[0;34m.\u001b[0m\u001b[0mroc_curve\u001b[0m\u001b[0;34m(\u001b[0m\u001b[0mclassification_df\u001b[0m\u001b[0;34m[\u001b[0m\u001b[0;34m'is_coding'\u001b[0m\u001b[0;34m]\u001b[0m\u001b[0;34m,\u001b[0m \u001b[0mclassification_df\u001b[0m\u001b[0;34m[\u001b[0m\u001b[0;34m'max_peptide_coding_kmers'\u001b[0m\u001b[0;34m]\u001b[0m\u001b[0;34m)\u001b[0m\u001b[0;34m\u001b[0m\u001b[0;34m\u001b[0m\u001b[0m\n\u001b[0m\u001b[1;32m      2\u001b[0m \u001b[0;34m\u001b[0m\u001b[0m\n\u001b[1;32m      3\u001b[0m \u001b[0mfig\u001b[0m\u001b[0;34m,\u001b[0m \u001b[0max\u001b[0m \u001b[0;34m=\u001b[0m \u001b[0mplt\u001b[0m\u001b[0;34m.\u001b[0m\u001b[0msubplots\u001b[0m\u001b[0;34m(\u001b[0m\u001b[0;34m)\u001b[0m\u001b[0;34m\u001b[0m\u001b[0;34m\u001b[0m\u001b[0m\n\u001b[1;32m      4\u001b[0m \u001b[0mlw\u001b[0m \u001b[0;34m=\u001b[0m \u001b[0;36m2\u001b[0m\u001b[0;34m\u001b[0m\u001b[0;34m\u001b[0m\u001b[0m\n\u001b[1;32m      5\u001b[0m \u001b[0max\u001b[0m\u001b[0;34m.\u001b[0m\u001b[0mplot\u001b[0m\u001b[0;34m(\u001b[0m\u001b[0mfpr\u001b[0m\u001b[0;34m,\u001b[0m \u001b[0mtpr\u001b[0m\u001b[0;34m,\u001b[0m \u001b[0mlw\u001b[0m\u001b[0;34m=\u001b[0m\u001b[0;36m2\u001b[0m\u001b[0;34m,\u001b[0m \u001b[0mcolor\u001b[0m\u001b[0;34m=\u001b[0m\u001b[0;34m'darkorange'\u001b[0m\u001b[0;34m)\u001b[0m\u001b[0;34m\u001b[0m\u001b[0;34m\u001b[0m\u001b[0m\n",
        "\u001b[0;32m~/miniconda3/envs/kmer-hashing/lib/python3.6/site-packages/pandas/core/frame.py\u001b[0m in \u001b[0;36m__getitem__\u001b[0;34m(self, key)\u001b[0m\n\u001b[1;32m   2925\u001b[0m             \u001b[0;32mif\u001b[0m \u001b[0mself\u001b[0m\u001b[0;34m.\u001b[0m\u001b[0mcolumns\u001b[0m\u001b[0;34m.\u001b[0m\u001b[0mnlevels\u001b[0m \u001b[0;34m>\u001b[0m \u001b[0;36m1\u001b[0m\u001b[0;34m:\u001b[0m\u001b[0;34m\u001b[0m\u001b[0;34m\u001b[0m\u001b[0m\n\u001b[1;32m   2926\u001b[0m                 \u001b[0;32mreturn\u001b[0m \u001b[0mself\u001b[0m\u001b[0;34m.\u001b[0m\u001b[0m_getitem_multilevel\u001b[0m\u001b[0;34m(\u001b[0m\u001b[0mkey\u001b[0m\u001b[0;34m)\u001b[0m\u001b[0;34m\u001b[0m\u001b[0;34m\u001b[0m\u001b[0m\n\u001b[0;32m-> 2927\u001b[0;31m             \u001b[0mindexer\u001b[0m \u001b[0;34m=\u001b[0m \u001b[0mself\u001b[0m\u001b[0;34m.\u001b[0m\u001b[0mcolumns\u001b[0m\u001b[0;34m.\u001b[0m\u001b[0mget_loc\u001b[0m\u001b[0;34m(\u001b[0m\u001b[0mkey\u001b[0m\u001b[0;34m)\u001b[0m\u001b[0;34m\u001b[0m\u001b[0;34m\u001b[0m\u001b[0m\n\u001b[0m\u001b[1;32m   2928\u001b[0m             \u001b[0;32mif\u001b[0m \u001b[0mis_integer\u001b[0m\u001b[0;34m(\u001b[0m\u001b[0mindexer\u001b[0m\u001b[0;34m)\u001b[0m\u001b[0;34m:\u001b[0m\u001b[0;34m\u001b[0m\u001b[0;34m\u001b[0m\u001b[0m\n\u001b[1;32m   2929\u001b[0m                 \u001b[0mindexer\u001b[0m \u001b[0;34m=\u001b[0m \u001b[0;34m[\u001b[0m\u001b[0mindexer\u001b[0m\u001b[0;34m]\u001b[0m\u001b[0;34m\u001b[0m\u001b[0;34m\u001b[0m\u001b[0m\n",
        "\u001b[0;32m~/miniconda3/envs/kmer-hashing/lib/python3.6/site-packages/pandas/core/indexes/base.py\u001b[0m in \u001b[0;36mget_loc\u001b[0;34m(self, key, method, tolerance)\u001b[0m\n\u001b[1;32m   2657\u001b[0m                 \u001b[0;32mreturn\u001b[0m \u001b[0mself\u001b[0m\u001b[0;34m.\u001b[0m\u001b[0m_engine\u001b[0m\u001b[0;34m.\u001b[0m\u001b[0mget_loc\u001b[0m\u001b[0;34m(\u001b[0m\u001b[0mkey\u001b[0m\u001b[0;34m)\u001b[0m\u001b[0;34m\u001b[0m\u001b[0;34m\u001b[0m\u001b[0m\n\u001b[1;32m   2658\u001b[0m             \u001b[0;32mexcept\u001b[0m \u001b[0mKeyError\u001b[0m\u001b[0;34m:\u001b[0m\u001b[0;34m\u001b[0m\u001b[0;34m\u001b[0m\u001b[0m\n\u001b[0;32m-> 2659\u001b[0;31m                 \u001b[0;32mreturn\u001b[0m \u001b[0mself\u001b[0m\u001b[0;34m.\u001b[0m\u001b[0m_engine\u001b[0m\u001b[0;34m.\u001b[0m\u001b[0mget_loc\u001b[0m\u001b[0;34m(\u001b[0m\u001b[0mself\u001b[0m\u001b[0;34m.\u001b[0m\u001b[0m_maybe_cast_indexer\u001b[0m\u001b[0;34m(\u001b[0m\u001b[0mkey\u001b[0m\u001b[0;34m)\u001b[0m\u001b[0;34m)\u001b[0m\u001b[0;34m\u001b[0m\u001b[0;34m\u001b[0m\u001b[0m\n\u001b[0m\u001b[1;32m   2660\u001b[0m         \u001b[0mindexer\u001b[0m \u001b[0;34m=\u001b[0m \u001b[0mself\u001b[0m\u001b[0;34m.\u001b[0m\u001b[0mget_indexer\u001b[0m\u001b[0;34m(\u001b[0m\u001b[0;34m[\u001b[0m\u001b[0mkey\u001b[0m\u001b[0;34m]\u001b[0m\u001b[0;34m,\u001b[0m \u001b[0mmethod\u001b[0m\u001b[0;34m=\u001b[0m\u001b[0mmethod\u001b[0m\u001b[0;34m,\u001b[0m \u001b[0mtolerance\u001b[0m\u001b[0;34m=\u001b[0m\u001b[0mtolerance\u001b[0m\u001b[0;34m)\u001b[0m\u001b[0;34m\u001b[0m\u001b[0;34m\u001b[0m\u001b[0m\n\u001b[1;32m   2661\u001b[0m         \u001b[0;32mif\u001b[0m \u001b[0mindexer\u001b[0m\u001b[0;34m.\u001b[0m\u001b[0mndim\u001b[0m \u001b[0;34m>\u001b[0m \u001b[0;36m1\u001b[0m \u001b[0;32mor\u001b[0m \u001b[0mindexer\u001b[0m\u001b[0;34m.\u001b[0m\u001b[0msize\u001b[0m \u001b[0;34m>\u001b[0m \u001b[0;36m1\u001b[0m\u001b[0;34m:\u001b[0m\u001b[0;34m\u001b[0m\u001b[0;34m\u001b[0m\u001b[0m\n",
        "\u001b[0;32mpandas/_libs/index.pyx\u001b[0m in \u001b[0;36mpandas._libs.index.IndexEngine.get_loc\u001b[0;34m()\u001b[0m\n",
        "\u001b[0;32mpandas/_libs/index.pyx\u001b[0m in \u001b[0;36mpandas._libs.index.IndexEngine.get_loc\u001b[0;34m()\u001b[0m\n",
        "\u001b[0;32mpandas/_libs/hashtable_class_helper.pxi\u001b[0m in \u001b[0;36mpandas._libs.hashtable.PyObjectHashTable.get_item\u001b[0;34m()\u001b[0m\n",
        "\u001b[0;32mpandas/_libs/hashtable_class_helper.pxi\u001b[0m in \u001b[0;36mpandas._libs.hashtable.PyObjectHashTable.get_item\u001b[0;34m()\u001b[0m\n",
        "\u001b[0;31mKeyError\u001b[0m: 'is_coding'"
       ]
      }
     ],
     "persistentId": "7fb00c6a-626e-457d-8273-e2b7ed8e545e",
     "text": "fpr, tpr, thresholds = metrics.roc_curve(classification_df['is_coding'], classification_df['max_peptide_coding_kmers'])\n\nfig, ax = plt.subplots()\nlw = 2\nax.plot(fpr, tpr, lw=2, color='darkorange')\nax.plot([0, 1], [0, 1], color='navy', lw=lw, linestyle='--')"
    },
    "executionTime": "2019-09-23T17:54:52.997Z"
   },
   {
    "cell": {
     "executionCount": 160,
     "executionEventId": "5cf9a33e-6df7-48ad-9e26-a387a2f08302",
     "hasError": false,
     "id": "166ab943-0435-4e18-af52-f45aa699015a",
     "outputs": [
      {
       "name": "stdout",
       "output_type": "stream",
       "text": "(1668180, 4)\n"
      },
      {
       "data": {
        "text/html": "<div>\n<style scoped>\n    .dataframe tbody tr th:only-of-type {\n        vertical-align: middle;\n    }\n\n    .dataframe tbody tr th {\n        vertical-align: top;\n    }\n\n    .dataframe thead th {\n        text-align: right;\n    }\n</style>\n<table border=\"1\" class=\"dataframe\">\n  <thead>\n    <tr style=\"text-align: right;\">\n      <th></th>\n      <th>read_id</th>\n      <th>classification</th>\n      <th>short_sequence_id</th>\n      <th>is_coding</th>\n    </tr>\n  </thead>\n  <tbody>\n    <tr>\n      <th>0</th>\n      <td>SRR306838.1531 Ibis_Run100924_C3PO:6:1:15718:1...</td>\n      <td>low complexity</td>\n      <td>SRR306838.1531</td>\n      <td>NaN</td>\n    </tr>\n    <tr>\n      <th>1</th>\n      <td>SRR306838.1531 Ibis_Run100924_C3PO:6:1:15718:1...</td>\n      <td>low complexity</td>\n      <td>SRR306838.1531</td>\n      <td>NaN</td>\n    </tr>\n    <tr>\n      <th>2</th>\n      <td>SRR306838.1531 Ibis_Run100924_C3PO:6:1:15718:1...</td>\n      <td>low complexity</td>\n      <td>SRR306838.1531</td>\n      <td>NaN</td>\n    </tr>\n    <tr>\n      <th>3</th>\n      <td>SRR306838.1531 Ibis_Run100924_C3PO:6:1:15718:1...</td>\n      <td>low complexity</td>\n      <td>SRR306838.1531</td>\n      <td>NaN</td>\n    </tr>\n    <tr>\n      <th>4</th>\n      <td>SRR306838.1531 Ibis_Run100924_C3PO:6:1:15718:1...</td>\n      <td>low complexity</td>\n      <td>SRR306838.1531</td>\n      <td>NaN</td>\n    </tr>\n    <tr>\n      <th>5</th>\n      <td>SRR306838.1531 Ibis_Run100924_C3PO:6:1:15718:1...</td>\n      <td>low complexity</td>\n      <td>SRR306838.1531</td>\n      <td>NaN</td>\n    </tr>\n    <tr>\n      <th>6</th>\n      <td>SRR306838.1672 Ibis_Run100924_C3PO:6:1:15751:1...</td>\n      <td>low complexity</td>\n      <td>SRR306838.1672</td>\n      <td>NaN</td>\n    </tr>\n    <tr>\n      <th>7</th>\n      <td>SRR306838.1672 Ibis_Run100924_C3PO:6:1:15751:1...</td>\n      <td>low complexity</td>\n      <td>SRR306838.1672</td>\n      <td>NaN</td>\n    </tr>\n    <tr>\n      <th>8</th>\n      <td>SRR306838.1672 Ibis_Run100924_C3PO:6:1:15751:1...</td>\n      <td>low complexity</td>\n      <td>SRR306838.1672</td>\n      <td>NaN</td>\n    </tr>\n    <tr>\n      <th>9</th>\n      <td>SRR306838.1672 Ibis_Run100924_C3PO:6:1:15751:1...</td>\n      <td>low complexity</td>\n      <td>SRR306838.1672</td>\n      <td>NaN</td>\n    </tr>\n    <tr>\n      <th>10</th>\n      <td>SRR306838.1672 Ibis_Run100924_C3PO:6:1:15751:1...</td>\n      <td>low complexity</td>\n      <td>SRR306838.1672</td>\n      <td>NaN</td>\n    </tr>\n    <tr>\n      <th>11</th>\n      <td>SRR306838.1672 Ibis_Run100924_C3PO:6:1:15751:1...</td>\n      <td>low complexity</td>\n      <td>SRR306838.1672</td>\n      <td>NaN</td>\n    </tr>\n    <tr>\n      <th>12</th>\n      <td>SRR306838.1938 Ibis_Run100924_C3PO:6:1:15775:1...</td>\n      <td>low complexity</td>\n      <td>SRR306838.1938</td>\n      <td>NaN</td>\n    </tr>\n    <tr>\n      <th>13</th>\n      <td>SRR306838.1938 Ibis_Run100924_C3PO:6:1:15775:1...</td>\n      <td>low complexity</td>\n      <td>SRR306838.1938</td>\n      <td>NaN</td>\n    </tr>\n    <tr>\n      <th>14</th>\n      <td>SRR306838.1938 Ibis_Run100924_C3PO:6:1:15775:1...</td>\n      <td>low complexity</td>\n      <td>SRR306838.1938</td>\n      <td>NaN</td>\n    </tr>\n    <tr>\n      <th>15</th>\n      <td>SRR306838.1938 Ibis_Run100924_C3PO:6:1:15775:1...</td>\n      <td>low complexity</td>\n      <td>SRR306838.1938</td>\n      <td>NaN</td>\n    </tr>\n    <tr>\n      <th>16</th>\n      <td>SRR306838.1938 Ibis_Run100924_C3PO:6:1:15775:1...</td>\n      <td>low complexity</td>\n      <td>SRR306838.1938</td>\n      <td>NaN</td>\n    </tr>\n    <tr>\n      <th>17</th>\n      <td>SRR306838.1938 Ibis_Run100924_C3PO:6:1:15775:1...</td>\n      <td>low complexity</td>\n      <td>SRR306838.1938</td>\n      <td>NaN</td>\n    </tr>\n    <tr>\n      <th>18</th>\n      <td>SRR306838.2318 Ibis_Run100924_C3PO:6:1:15779:1...</td>\n      <td>non-coding</td>\n      <td>SRR306838.2318</td>\n      <td>NaN</td>\n    </tr>\n    <tr>\n      <th>19</th>\n      <td>SRR306838.2318 Ibis_Run100924_C3PO:6:1:15779:1...</td>\n      <td>low complexity</td>\n      <td>SRR306838.2318</td>\n      <td>NaN</td>\n    </tr>\n    <tr>\n      <th>20</th>\n      <td>SRR306838.2318 Ibis_Run100924_C3PO:6:1:15779:1...</td>\n      <td>non-coding</td>\n      <td>SRR306838.2318</td>\n      <td>NaN</td>\n    </tr>\n    <tr>\n      <th>21</th>\n      <td>SRR306838.2318 Ibis_Run100924_C3PO:6:1:15779:1...</td>\n      <td>non-coding</td>\n      <td>SRR306838.2318</td>\n      <td>NaN</td>\n    </tr>\n    <tr>\n      <th>22</th>\n      <td>SRR306838.2318 Ibis_Run100924_C3PO:6:1:15779:1...</td>\n      <td>low complexity</td>\n      <td>SRR306838.2318</td>\n      <td>NaN</td>\n    </tr>\n    <tr>\n      <th>23</th>\n      <td>SRR306838.2318 Ibis_Run100924_C3PO:6:1:15779:1...</td>\n      <td>non-coding</td>\n      <td>SRR306838.2318</td>\n      <td>NaN</td>\n    </tr>\n    <tr>\n      <th>24</th>\n      <td>SRR306838.2448 Ibis_Run100924_C3PO:6:1:15766:1...</td>\n      <td>low complexity</td>\n      <td>SRR306838.2448</td>\n      <td>NaN</td>\n    </tr>\n    <tr>\n      <th>25</th>\n      <td>SRR306838.2448 Ibis_Run100924_C3PO:6:1:15766:1...</td>\n      <td>low complexity</td>\n      <td>SRR306838.2448</td>\n      <td>NaN</td>\n    </tr>\n    <tr>\n      <th>26</th>\n      <td>SRR306838.2448 Ibis_Run100924_C3PO:6:1:15766:1...</td>\n      <td>low complexity</td>\n      <td>SRR306838.2448</td>\n      <td>NaN</td>\n    </tr>\n    <tr>\n      <th>27</th>\n      <td>SRR306838.2448 Ibis_Run100924_C3PO:6:1:15766:1...</td>\n      <td>low complexity</td>\n      <td>SRR306838.2448</td>\n      <td>NaN</td>\n    </tr>\n    <tr>\n      <th>28</th>\n      <td>SRR306838.2448 Ibis_Run100924_C3PO:6:1:15766:1...</td>\n      <td>low complexity</td>\n      <td>SRR306838.2448</td>\n      <td>NaN</td>\n    </tr>\n    <tr>\n      <th>29</th>\n      <td>SRR306838.2448 Ibis_Run100924_C3PO:6:1:15766:1...</td>\n      <td>low complexity</td>\n      <td>SRR306838.2448</td>\n      <td>NaN</td>\n    </tr>\n    <tr>\n      <th>...</th>\n      <td>...</td>\n      <td>...</td>\n      <td>...</td>\n      <td>...</td>\n    </tr>\n    <tr>\n      <th>1668150</th>\n      <td>SRR306838.24507503 Ibis_Run100924_C3PO:6:120:5...</td>\n      <td>low complexity</td>\n      <td>SRR306838.24507503</td>\n      <td>NaN</td>\n    </tr>\n    <tr>\n      <th>1668151</th>\n      <td>SRR306838.24507503 Ibis_Run100924_C3PO:6:120:5...</td>\n      <td>low complexity</td>\n      <td>SRR306838.24507503</td>\n      <td>NaN</td>\n    </tr>\n    <tr>\n      <th>1668152</th>\n      <td>SRR306838.24507503 Ibis_Run100924_C3PO:6:120:5...</td>\n      <td>low complexity</td>\n      <td>SRR306838.24507503</td>\n      <td>NaN</td>\n    </tr>\n    <tr>\n      <th>1668153</th>\n      <td>SRR306838.24507503 Ibis_Run100924_C3PO:6:120:5...</td>\n      <td>low complexity</td>\n      <td>SRR306838.24507503</td>\n      <td>NaN</td>\n    </tr>\n    <tr>\n      <th>1668154</th>\n      <td>SRR306838.24507503 Ibis_Run100924_C3PO:6:120:5...</td>\n      <td>low complexity</td>\n      <td>SRR306838.24507503</td>\n      <td>NaN</td>\n    </tr>\n    <tr>\n      <th>1668155</th>\n      <td>SRR306838.24507503 Ibis_Run100924_C3PO:6:120:5...</td>\n      <td>low complexity</td>\n      <td>SRR306838.24507503</td>\n      <td>NaN</td>\n    </tr>\n    <tr>\n      <th>1668156</th>\n      <td>SRR306838.24507651 Ibis_Run100924_C3PO:6:120:5...</td>\n      <td>low complexity</td>\n      <td>SRR306838.24507651</td>\n      <td>NaN</td>\n    </tr>\n    <tr>\n      <th>1668157</th>\n      <td>SRR306838.24507651 Ibis_Run100924_C3PO:6:120:5...</td>\n      <td>low complexity</td>\n      <td>SRR306838.24507651</td>\n      <td>NaN</td>\n    </tr>\n    <tr>\n      <th>1668158</th>\n      <td>SRR306838.24507651 Ibis_Run100924_C3PO:6:120:5...</td>\n      <td>low complexity</td>\n      <td>SRR306838.24507651</td>\n      <td>NaN</td>\n    </tr>\n    <tr>\n      <th>1668159</th>\n      <td>SRR306838.24507651 Ibis_Run100924_C3PO:6:120:5...</td>\n      <td>low complexity</td>\n      <td>SRR306838.24507651</td>\n      <td>NaN</td>\n    </tr>\n    <tr>\n      <th>1668160</th>\n      <td>SRR306838.24507651 Ibis_Run100924_C3PO:6:120:5...</td>\n      <td>low complexity</td>\n      <td>SRR306838.24507651</td>\n      <td>NaN</td>\n    </tr>\n    <tr>\n      <th>1668161</th>\n      <td>SRR306838.24507651 Ibis_Run100924_C3PO:6:120:5...</td>\n      <td>low complexity</td>\n      <td>SRR306838.24507651</td>\n      <td>NaN</td>\n    </tr>\n    <tr>\n      <th>1668162</th>\n      <td>SRR306838.24507766 Ibis_Run100924_C3PO:6:120:4...</td>\n      <td>non-coding</td>\n      <td>SRR306838.24507766</td>\n      <td>NaN</td>\n    </tr>\n    <tr>\n      <th>1668163</th>\n      <td>SRR306838.24507766 Ibis_Run100924_C3PO:6:120:4...</td>\n      <td>non-coding</td>\n      <td>SRR306838.24507766</td>\n      <td>NaN</td>\n    </tr>\n    <tr>\n      <th>1668164</th>\n      <td>SRR306838.24508567 Ibis_Run100924_C3PO:6:120:6...</td>\n      <td>non-coding</td>\n      <td>SRR306838.24508567</td>\n      <td>NaN</td>\n    </tr>\n    <tr>\n      <th>1668165</th>\n      <td>SRR306838.24508567 Ibis_Run100924_C3PO:6:120:6...</td>\n      <td>non-coding</td>\n      <td>SRR306838.24508567</td>\n      <td>NaN</td>\n    </tr>\n    <tr>\n      <th>1668166</th>\n      <td>SRR306838.24508567 Ibis_Run100924_C3PO:6:120:6...</td>\n      <td>coding</td>\n      <td>SRR306838.24508567</td>\n      <td>NaN</td>\n    </tr>\n    <tr>\n      <th>1668167</th>\n      <td>SRR306838.24508567 Ibis_Run100924_C3PO:6:120:6...</td>\n      <td>non-coding</td>\n      <td>SRR306838.24508567</td>\n      <td>NaN</td>\n    </tr>\n    <tr>\n      <th>1668168</th>\n      <td>SRR306838.24509978 Ibis_Run100924_C3PO:6:120:1...</td>\n      <td>non-coding</td>\n      <td>SRR306838.24509978</td>\n      <td>NaN</td>\n    </tr>\n    <tr>\n      <th>1668169</th>\n      <td>SRR306838.24509978 Ibis_Run100924_C3PO:6:120:1...</td>\n      <td>non-coding</td>\n      <td>SRR306838.24509978</td>\n      <td>NaN</td>\n    </tr>\n    <tr>\n      <th>1668170</th>\n      <td>SRR306838.24509978 Ibis_Run100924_C3PO:6:120:1...</td>\n      <td>coding</td>\n      <td>SRR306838.24509978</td>\n      <td>NaN</td>\n    </tr>\n    <tr>\n      <th>1668171</th>\n      <td>SRR306838.24510500 Ibis_Run100924_C3PO:6:120:5...</td>\n      <td>non-coding</td>\n      <td>SRR306838.24510500</td>\n      <td>NaN</td>\n    </tr>\n    <tr>\n      <th>1668172</th>\n      <td>SRR306838.24510625 Ibis_Run100924_C3PO:6:120:4...</td>\n      <td>non-coding</td>\n      <td>SRR306838.24510625</td>\n      <td>NaN</td>\n    </tr>\n    <tr>\n      <th>1668173</th>\n      <td>SRR306838.24510625 Ibis_Run100924_C3PO:6:120:4...</td>\n      <td>non-coding</td>\n      <td>SRR306838.24510625</td>\n      <td>NaN</td>\n    </tr>\n    <tr>\n      <th>1668174</th>\n      <td>SRR306838.24512113 Ibis_Run100924_C3PO:6:120:1...</td>\n      <td>low complexity</td>\n      <td>SRR306838.24512113</td>\n      <td>NaN</td>\n    </tr>\n    <tr>\n      <th>1668175</th>\n      <td>SRR306838.24512113 Ibis_Run100924_C3PO:6:120:1...</td>\n      <td>low complexity</td>\n      <td>SRR306838.24512113</td>\n      <td>NaN</td>\n    </tr>\n    <tr>\n      <th>1668176</th>\n      <td>SRR306838.24512113 Ibis_Run100924_C3PO:6:120:1...</td>\n      <td>low complexity</td>\n      <td>SRR306838.24512113</td>\n      <td>NaN</td>\n    </tr>\n    <tr>\n      <th>1668177</th>\n      <td>SRR306838.24512113 Ibis_Run100924_C3PO:6:120:1...</td>\n      <td>low complexity</td>\n      <td>SRR306838.24512113</td>\n      <td>NaN</td>\n    </tr>\n    <tr>\n      <th>1668178</th>\n      <td>SRR306838.24512113 Ibis_Run100924_C3PO:6:120:1...</td>\n      <td>low complexity</td>\n      <td>SRR306838.24512113</td>\n      <td>NaN</td>\n    </tr>\n    <tr>\n      <th>1668179</th>\n      <td>SRR306838.24512113 Ibis_Run100924_C3PO:6:120:1...</td>\n      <td>low complexity</td>\n      <td>SRR306838.24512113</td>\n      <td>NaN</td>\n    </tr>\n  </tbody>\n</table>\n<p>1668180 rows × 4 columns</p>\n</div>",
        "text/plain": "                                                   read_id  classification  \\\n0        SRR306838.1531 Ibis_Run100924_C3PO:6:1:15718:1...  low complexity   \n1        SRR306838.1531 Ibis_Run100924_C3PO:6:1:15718:1...  low complexity   \n2        SRR306838.1531 Ibis_Run100924_C3PO:6:1:15718:1...  low complexity   \n3        SRR306838.1531 Ibis_Run100924_C3PO:6:1:15718:1...  low complexity   \n4        SRR306838.1531 Ibis_Run100924_C3PO:6:1:15718:1...  low complexity   \n5        SRR306838.1531 Ibis_Run100924_C3PO:6:1:15718:1...  low complexity   \n6        SRR306838.1672 Ibis_Run100924_C3PO:6:1:15751:1...  low complexity   \n7        SRR306838.1672 Ibis_Run100924_C3PO:6:1:15751:1...  low complexity   \n8        SRR306838.1672 Ibis_Run100924_C3PO:6:1:15751:1...  low complexity   \n9        SRR306838.1672 Ibis_Run100924_C3PO:6:1:15751:1...  low complexity   \n10       SRR306838.1672 Ibis_Run100924_C3PO:6:1:15751:1...  low complexity   \n11       SRR306838.1672 Ibis_Run100924_C3PO:6:1:15751:1...  low complexity   \n12       SRR306838.1938 Ibis_Run100924_C3PO:6:1:15775:1...  low complexity   \n13       SRR306838.1938 Ibis_Run100924_C3PO:6:1:15775:1...  low complexity   \n14       SRR306838.1938 Ibis_Run100924_C3PO:6:1:15775:1...  low complexity   \n15       SRR306838.1938 Ibis_Run100924_C3PO:6:1:15775:1...  low complexity   \n16       SRR306838.1938 Ibis_Run100924_C3PO:6:1:15775:1...  low complexity   \n17       SRR306838.1938 Ibis_Run100924_C3PO:6:1:15775:1...  low complexity   \n18       SRR306838.2318 Ibis_Run100924_C3PO:6:1:15779:1...      non-coding   \n19       SRR306838.2318 Ibis_Run100924_C3PO:6:1:15779:1...  low complexity   \n20       SRR306838.2318 Ibis_Run100924_C3PO:6:1:15779:1...      non-coding   \n21       SRR306838.2318 Ibis_Run100924_C3PO:6:1:15779:1...      non-coding   \n22       SRR306838.2318 Ibis_Run100924_C3PO:6:1:15779:1...  low complexity   \n23       SRR306838.2318 Ibis_Run100924_C3PO:6:1:15779:1...      non-coding   \n24       SRR306838.2448 Ibis_Run100924_C3PO:6:1:15766:1...  low complexity   \n25       SRR306838.2448 Ibis_Run100924_C3PO:6:1:15766:1...  low complexity   \n26       SRR306838.2448 Ibis_Run100924_C3PO:6:1:15766:1...  low complexity   \n27       SRR306838.2448 Ibis_Run100924_C3PO:6:1:15766:1...  low complexity   \n28       SRR306838.2448 Ibis_Run100924_C3PO:6:1:15766:1...  low complexity   \n29       SRR306838.2448 Ibis_Run100924_C3PO:6:1:15766:1...  low complexity   \n...                                                    ...             ...   \n1668150  SRR306838.24507503 Ibis_Run100924_C3PO:6:120:5...  low complexity   \n1668151  SRR306838.24507503 Ibis_Run100924_C3PO:6:120:5...  low complexity   \n1668152  SRR306838.24507503 Ibis_Run100924_C3PO:6:120:5...  low complexity   \n1668153  SRR306838.24507503 Ibis_Run100924_C3PO:6:120:5...  low complexity   \n1668154  SRR306838.24507503 Ibis_Run100924_C3PO:6:120:5...  low complexity   \n1668155  SRR306838.24507503 Ibis_Run100924_C3PO:6:120:5...  low complexity   \n1668156  SRR306838.24507651 Ibis_Run100924_C3PO:6:120:5...  low complexity   \n1668157  SRR306838.24507651 Ibis_Run100924_C3PO:6:120:5...  low complexity   \n1668158  SRR306838.24507651 Ibis_Run100924_C3PO:6:120:5...  low complexity   \n1668159  SRR306838.24507651 Ibis_Run100924_C3PO:6:120:5...  low complexity   \n1668160  SRR306838.24507651 Ibis_Run100924_C3PO:6:120:5...  low complexity   \n1668161  SRR306838.24507651 Ibis_Run100924_C3PO:6:120:5...  low complexity   \n1668162  SRR306838.24507766 Ibis_Run100924_C3PO:6:120:4...      non-coding   \n1668163  SRR306838.24507766 Ibis_Run100924_C3PO:6:120:4...      non-coding   \n1668164  SRR306838.24508567 Ibis_Run100924_C3PO:6:120:6...      non-coding   \n1668165  SRR306838.24508567 Ibis_Run100924_C3PO:6:120:6...      non-coding   \n1668166  SRR306838.24508567 Ibis_Run100924_C3PO:6:120:6...          coding   \n1668167  SRR306838.24508567 Ibis_Run100924_C3PO:6:120:6...      non-coding   \n1668168  SRR306838.24509978 Ibis_Run100924_C3PO:6:120:1...      non-coding   \n1668169  SRR306838.24509978 Ibis_Run100924_C3PO:6:120:1...      non-coding   \n1668170  SRR306838.24509978 Ibis_Run100924_C3PO:6:120:1...          coding   \n1668171  SRR306838.24510500 Ibis_Run100924_C3PO:6:120:5...      non-coding   \n1668172  SRR306838.24510625 Ibis_Run100924_C3PO:6:120:4...      non-coding   \n1668173  SRR306838.24510625 Ibis_Run100924_C3PO:6:120:4...      non-coding   \n1668174  SRR306838.24512113 Ibis_Run100924_C3PO:6:120:1...  low complexity   \n1668175  SRR306838.24512113 Ibis_Run100924_C3PO:6:120:1...  low complexity   \n1668176  SRR306838.24512113 Ibis_Run100924_C3PO:6:120:1...  low complexity   \n1668177  SRR306838.24512113 Ibis_Run100924_C3PO:6:120:1...  low complexity   \n1668178  SRR306838.24512113 Ibis_Run100924_C3PO:6:120:1...  low complexity   \n1668179  SRR306838.24512113 Ibis_Run100924_C3PO:6:120:1...  low complexity   \n\n          short_sequence_id is_coding  \n0            SRR306838.1531       NaN  \n1            SRR306838.1531       NaN  \n2            SRR306838.1531       NaN  \n3            SRR306838.1531       NaN  \n4            SRR306838.1531       NaN  \n5            SRR306838.1531       NaN  \n6            SRR306838.1672       NaN  \n7            SRR306838.1672       NaN  \n8            SRR306838.1672       NaN  \n9            SRR306838.1672       NaN  \n10           SRR306838.1672       NaN  \n11           SRR306838.1672       NaN  \n12           SRR306838.1938       NaN  \n13           SRR306838.1938       NaN  \n14           SRR306838.1938       NaN  \n15           SRR306838.1938       NaN  \n16           SRR306838.1938       NaN  \n17           SRR306838.1938       NaN  \n18           SRR306838.2318       NaN  \n19           SRR306838.2318       NaN  \n20           SRR306838.2318       NaN  \n21           SRR306838.2318       NaN  \n22           SRR306838.2318       NaN  \n23           SRR306838.2318       NaN  \n24           SRR306838.2448       NaN  \n25           SRR306838.2448       NaN  \n26           SRR306838.2448       NaN  \n27           SRR306838.2448       NaN  \n28           SRR306838.2448       NaN  \n29           SRR306838.2448       NaN  \n...                     ...       ...  \n1668150  SRR306838.24507503       NaN  \n1668151  SRR306838.24507503       NaN  \n1668152  SRR306838.24507503       NaN  \n1668153  SRR306838.24507503       NaN  \n1668154  SRR306838.24507503       NaN  \n1668155  SRR306838.24507503       NaN  \n1668156  SRR306838.24507651       NaN  \n1668157  SRR306838.24507651       NaN  \n1668158  SRR306838.24507651       NaN  \n1668159  SRR306838.24507651       NaN  \n1668160  SRR306838.24507651       NaN  \n1668161  SRR306838.24507651       NaN  \n1668162  SRR306838.24507766       NaN  \n1668163  SRR306838.24507766       NaN  \n1668164  SRR306838.24508567       NaN  \n1668165  SRR306838.24508567       NaN  \n1668166  SRR306838.24508567       NaN  \n1668167  SRR306838.24508567       NaN  \n1668168  SRR306838.24509978       NaN  \n1668169  SRR306838.24509978       NaN  \n1668170  SRR306838.24509978       NaN  \n1668171  SRR306838.24510500       NaN  \n1668172  SRR306838.24510625       NaN  \n1668173  SRR306838.24510625       NaN  \n1668174  SRR306838.24512113       NaN  \n1668175  SRR306838.24512113       NaN  \n1668176  SRR306838.24512113       NaN  \n1668177  SRR306838.24512113       NaN  \n1668178  SRR306838.24512113       NaN  \n1668179  SRR306838.24512113       NaN  \n\n[1668180 rows x 4 columns]"
       },
       "execution_count": 160,
       "metadata": {},
       "output_type": "execute_result"
      }
     ],
     "persistentId": "6b55768a-f285-4a67-ab1a-cb748e428978",
     "text": "classification_df['is_coding'] = true_coding\nprint(classification_df.shape)\nclassification_df"
    },
    "executionTime": "2019-09-23T17:55:00.427Z"
   },
   {
    "cell": {
     "executionCount": 161,
     "executionEventId": "cf34c2ac-23c4-45c6-92d8-a47dad18e6f9",
     "hasError": true,
     "id": "c25ca639-eea9-4cdc-b792-1ba4a88f1cc8",
     "outputs": [
      {
       "ename": "KeyError",
       "evalue": "'max_peptide_coding_kmers'",
       "output_type": "error",
       "traceback": [
        "\u001b[0;31m---------------------------------------------------------------------------\u001b[0m",
        "\u001b[0;31mKeyError\u001b[0m                                  Traceback (most recent call last)",
        "\u001b[0;32m~/miniconda3/envs/kmer-hashing/lib/python3.6/site-packages/pandas/core/indexes/base.py\u001b[0m in \u001b[0;36mget_loc\u001b[0;34m(self, key, method, tolerance)\u001b[0m\n\u001b[1;32m   2656\u001b[0m             \u001b[0;32mtry\u001b[0m\u001b[0;34m:\u001b[0m\u001b[0;34m\u001b[0m\u001b[0;34m\u001b[0m\u001b[0m\n\u001b[0;32m-> 2657\u001b[0;31m                 \u001b[0;32mreturn\u001b[0m \u001b[0mself\u001b[0m\u001b[0;34m.\u001b[0m\u001b[0m_engine\u001b[0m\u001b[0;34m.\u001b[0m\u001b[0mget_loc\u001b[0m\u001b[0;34m(\u001b[0m\u001b[0mkey\u001b[0m\u001b[0;34m)\u001b[0m\u001b[0;34m\u001b[0m\u001b[0;34m\u001b[0m\u001b[0m\n\u001b[0m\u001b[1;32m   2658\u001b[0m             \u001b[0;32mexcept\u001b[0m \u001b[0mKeyError\u001b[0m\u001b[0;34m:\u001b[0m\u001b[0;34m\u001b[0m\u001b[0;34m\u001b[0m\u001b[0m\n",
        "\u001b[0;32mpandas/_libs/index.pyx\u001b[0m in \u001b[0;36mpandas._libs.index.IndexEngine.get_loc\u001b[0;34m()\u001b[0m\n",
        "\u001b[0;32mpandas/_libs/index.pyx\u001b[0m in \u001b[0;36mpandas._libs.index.IndexEngine.get_loc\u001b[0;34m()\u001b[0m\n",
        "\u001b[0;32mpandas/_libs/hashtable_class_helper.pxi\u001b[0m in \u001b[0;36mpandas._libs.hashtable.PyObjectHashTable.get_item\u001b[0;34m()\u001b[0m\n",
        "\u001b[0;32mpandas/_libs/hashtable_class_helper.pxi\u001b[0m in \u001b[0;36mpandas._libs.hashtable.PyObjectHashTable.get_item\u001b[0;34m()\u001b[0m\n",
        "\u001b[0;31mKeyError\u001b[0m: 'max_peptide_coding_kmers'",
        "\nDuring handling of the above exception, another exception occurred:\n",
        "\u001b[0;31mKeyError\u001b[0m                                  Traceback (most recent call last)",
        "\u001b[0;32m<ipython-input-161-765da96e83db>\u001b[0m in \u001b[0;36m<module>\u001b[0;34m()\u001b[0m\n\u001b[0;32m----> 1\u001b[0;31m \u001b[0mfpr\u001b[0m\u001b[0;34m,\u001b[0m \u001b[0mtpr\u001b[0m\u001b[0;34m,\u001b[0m \u001b[0mthresholds\u001b[0m \u001b[0;34m=\u001b[0m \u001b[0mmetrics\u001b[0m\u001b[0;34m.\u001b[0m\u001b[0mroc_curve\u001b[0m\u001b[0;34m(\u001b[0m\u001b[0mclassification_df\u001b[0m\u001b[0;34m[\u001b[0m\u001b[0;34m'is_coding'\u001b[0m\u001b[0;34m]\u001b[0m\u001b[0;34m,\u001b[0m \u001b[0mclassification_df\u001b[0m\u001b[0;34m[\u001b[0m\u001b[0;34m'max_peptide_coding_kmers'\u001b[0m\u001b[0;34m]\u001b[0m\u001b[0;34m)\u001b[0m\u001b[0;34m\u001b[0m\u001b[0;34m\u001b[0m\u001b[0m\n\u001b[0m\u001b[1;32m      2\u001b[0m \u001b[0;34m\u001b[0m\u001b[0m\n\u001b[1;32m      3\u001b[0m \u001b[0mfig\u001b[0m\u001b[0;34m,\u001b[0m \u001b[0max\u001b[0m \u001b[0;34m=\u001b[0m \u001b[0mplt\u001b[0m\u001b[0;34m.\u001b[0m\u001b[0msubplots\u001b[0m\u001b[0;34m(\u001b[0m\u001b[0;34m)\u001b[0m\u001b[0;34m\u001b[0m\u001b[0;34m\u001b[0m\u001b[0m\n\u001b[1;32m      4\u001b[0m \u001b[0mlw\u001b[0m \u001b[0;34m=\u001b[0m \u001b[0;36m2\u001b[0m\u001b[0;34m\u001b[0m\u001b[0;34m\u001b[0m\u001b[0m\n\u001b[1;32m      5\u001b[0m \u001b[0max\u001b[0m\u001b[0;34m.\u001b[0m\u001b[0mplot\u001b[0m\u001b[0;34m(\u001b[0m\u001b[0mfpr\u001b[0m\u001b[0;34m,\u001b[0m \u001b[0mtpr\u001b[0m\u001b[0;34m,\u001b[0m \u001b[0mlw\u001b[0m\u001b[0;34m=\u001b[0m\u001b[0;36m2\u001b[0m\u001b[0;34m,\u001b[0m \u001b[0mcolor\u001b[0m\u001b[0;34m=\u001b[0m\u001b[0;34m'darkorange'\u001b[0m\u001b[0;34m)\u001b[0m\u001b[0;34m\u001b[0m\u001b[0;34m\u001b[0m\u001b[0m\n",
        "\u001b[0;32m~/miniconda3/envs/kmer-hashing/lib/python3.6/site-packages/pandas/core/frame.py\u001b[0m in \u001b[0;36m__getitem__\u001b[0;34m(self, key)\u001b[0m\n\u001b[1;32m   2925\u001b[0m             \u001b[0;32mif\u001b[0m \u001b[0mself\u001b[0m\u001b[0;34m.\u001b[0m\u001b[0mcolumns\u001b[0m\u001b[0;34m.\u001b[0m\u001b[0mnlevels\u001b[0m \u001b[0;34m>\u001b[0m \u001b[0;36m1\u001b[0m\u001b[0;34m:\u001b[0m\u001b[0;34m\u001b[0m\u001b[0;34m\u001b[0m\u001b[0m\n\u001b[1;32m   2926\u001b[0m                 \u001b[0;32mreturn\u001b[0m \u001b[0mself\u001b[0m\u001b[0;34m.\u001b[0m\u001b[0m_getitem_multilevel\u001b[0m\u001b[0;34m(\u001b[0m\u001b[0mkey\u001b[0m\u001b[0;34m)\u001b[0m\u001b[0;34m\u001b[0m\u001b[0;34m\u001b[0m\u001b[0m\n\u001b[0;32m-> 2927\u001b[0;31m             \u001b[0mindexer\u001b[0m \u001b[0;34m=\u001b[0m \u001b[0mself\u001b[0m\u001b[0;34m.\u001b[0m\u001b[0mcolumns\u001b[0m\u001b[0;34m.\u001b[0m\u001b[0mget_loc\u001b[0m\u001b[0;34m(\u001b[0m\u001b[0mkey\u001b[0m\u001b[0;34m)\u001b[0m\u001b[0;34m\u001b[0m\u001b[0;34m\u001b[0m\u001b[0m\n\u001b[0m\u001b[1;32m   2928\u001b[0m             \u001b[0;32mif\u001b[0m \u001b[0mis_integer\u001b[0m\u001b[0;34m(\u001b[0m\u001b[0mindexer\u001b[0m\u001b[0;34m)\u001b[0m\u001b[0;34m:\u001b[0m\u001b[0;34m\u001b[0m\u001b[0;34m\u001b[0m\u001b[0m\n\u001b[1;32m   2929\u001b[0m                 \u001b[0mindexer\u001b[0m \u001b[0;34m=\u001b[0m \u001b[0;34m[\u001b[0m\u001b[0mindexer\u001b[0m\u001b[0;34m]\u001b[0m\u001b[0;34m\u001b[0m\u001b[0;34m\u001b[0m\u001b[0m\n",
        "\u001b[0;32m~/miniconda3/envs/kmer-hashing/lib/python3.6/site-packages/pandas/core/indexes/base.py\u001b[0m in \u001b[0;36mget_loc\u001b[0;34m(self, key, method, tolerance)\u001b[0m\n\u001b[1;32m   2657\u001b[0m                 \u001b[0;32mreturn\u001b[0m \u001b[0mself\u001b[0m\u001b[0;34m.\u001b[0m\u001b[0m_engine\u001b[0m\u001b[0;34m.\u001b[0m\u001b[0mget_loc\u001b[0m\u001b[0;34m(\u001b[0m\u001b[0mkey\u001b[0m\u001b[0;34m)\u001b[0m\u001b[0;34m\u001b[0m\u001b[0;34m\u001b[0m\u001b[0m\n\u001b[1;32m   2658\u001b[0m             \u001b[0;32mexcept\u001b[0m \u001b[0mKeyError\u001b[0m\u001b[0;34m:\u001b[0m\u001b[0;34m\u001b[0m\u001b[0;34m\u001b[0m\u001b[0m\n\u001b[0;32m-> 2659\u001b[0;31m                 \u001b[0;32mreturn\u001b[0m \u001b[0mself\u001b[0m\u001b[0;34m.\u001b[0m\u001b[0m_engine\u001b[0m\u001b[0;34m.\u001b[0m\u001b[0mget_loc\u001b[0m\u001b[0;34m(\u001b[0m\u001b[0mself\u001b[0m\u001b[0;34m.\u001b[0m\u001b[0m_maybe_cast_indexer\u001b[0m\u001b[0;34m(\u001b[0m\u001b[0mkey\u001b[0m\u001b[0;34m)\u001b[0m\u001b[0;34m)\u001b[0m\u001b[0;34m\u001b[0m\u001b[0;34m\u001b[0m\u001b[0m\n\u001b[0m\u001b[1;32m   2660\u001b[0m         \u001b[0mindexer\u001b[0m \u001b[0;34m=\u001b[0m \u001b[0mself\u001b[0m\u001b[0;34m.\u001b[0m\u001b[0mget_indexer\u001b[0m\u001b[0;34m(\u001b[0m\u001b[0;34m[\u001b[0m\u001b[0mkey\u001b[0m\u001b[0;34m]\u001b[0m\u001b[0;34m,\u001b[0m \u001b[0mmethod\u001b[0m\u001b[0;34m=\u001b[0m\u001b[0mmethod\u001b[0m\u001b[0;34m,\u001b[0m \u001b[0mtolerance\u001b[0m\u001b[0;34m=\u001b[0m\u001b[0mtolerance\u001b[0m\u001b[0;34m)\u001b[0m\u001b[0;34m\u001b[0m\u001b[0;34m\u001b[0m\u001b[0m\n\u001b[1;32m   2661\u001b[0m         \u001b[0;32mif\u001b[0m \u001b[0mindexer\u001b[0m\u001b[0;34m.\u001b[0m\u001b[0mndim\u001b[0m \u001b[0;34m>\u001b[0m \u001b[0;36m1\u001b[0m \u001b[0;32mor\u001b[0m \u001b[0mindexer\u001b[0m\u001b[0;34m.\u001b[0m\u001b[0msize\u001b[0m \u001b[0;34m>\u001b[0m \u001b[0;36m1\u001b[0m\u001b[0;34m:\u001b[0m\u001b[0;34m\u001b[0m\u001b[0;34m\u001b[0m\u001b[0m\n",
        "\u001b[0;32mpandas/_libs/index.pyx\u001b[0m in \u001b[0;36mpandas._libs.index.IndexEngine.get_loc\u001b[0;34m()\u001b[0m\n",
        "\u001b[0;32mpandas/_libs/index.pyx\u001b[0m in \u001b[0;36mpandas._libs.index.IndexEngine.get_loc\u001b[0;34m()\u001b[0m\n",
        "\u001b[0;32mpandas/_libs/hashtable_class_helper.pxi\u001b[0m in \u001b[0;36mpandas._libs.hashtable.PyObjectHashTable.get_item\u001b[0;34m()\u001b[0m\n",
        "\u001b[0;32mpandas/_libs/hashtable_class_helper.pxi\u001b[0m in \u001b[0;36mpandas._libs.hashtable.PyObjectHashTable.get_item\u001b[0;34m()\u001b[0m\n",
        "\u001b[0;31mKeyError\u001b[0m: 'max_peptide_coding_kmers'"
       ]
      }
     ],
     "persistentId": "7fb00c6a-626e-457d-8273-e2b7ed8e545e",
     "text": "fpr, tpr, thresholds = metrics.roc_curve(classification_df['is_coding'], classification_df['max_peptide_coding_kmers'])\n\nfig, ax = plt.subplots()\nlw = 2\nax.plot(fpr, tpr, lw=2, color='darkorange')\nax.plot([0, 1], [0, 1], color='navy', lw=lw, linestyle='--')"
    },
    "executionTime": "2019-09-23T17:55:00.611Z"
   },
   {
    "cell": {
     "executionCount": 162,
     "executionEventId": "b3563dca-3f65-4616-a318-3360afa14f35",
     "hasError": false,
     "id": "e8278eb8-0b27-4532-b835-722ef30c72db",
     "outputs": [
      {
       "name": "stderr",
       "output_type": "stream",
       "text": "/home/olga/miniconda3/envs/kmer-hashing/lib/python3.6/site-packages/Bio/Seq.py:2715: BiopythonWarning: Partial codon, len(sequence) not a multiple of three. Explicitly trim the sequence or add trailing N before translation. This may become an error in future.\n  BiopythonWarning)\n"
      }
     ],
     "persistentId": "954ef7d8-1e5c-43fa-87bf-0098fd2cd414",
     "text": "classification_lines = []\n\n\ndef six_frame_translation_no_stops(seq):\n    forward_translations = three_frame_translation_no_stops(seq)\n    reverse_translations = three_frame_translation_no_stops(seq.reverse_complement())\n    return forward_translations + reverse_translations\n\nverbose = False\n\nwith gzip.open('SRR306838_GSM752691_hsa_br_F_1_trimmed_subsampled.fq.gz', 'rt') as f:\n    for i, record in zip(range(20), SeqIO.parse(f, 'fastq')):\n        if verbose:\n            print()\n            print(record.description)\n            print(str(record.seq))\n        translations = six_frame_translation_no_stops(record.seq)\n        \n        max_fraction = 0\n        for translation in translations:\n            if verbose:\n                print(f\"\\t{translation}\")\n            kmers = list(set(kmerize(str(translation), peptide_ksize)))\n            hashes = [hash_murmur(kmer) for kmer in kmers]\n            n_kmers = len(kmers)\n            n_kmers_in_peptide_db = sum(1 for h in hashes if peptide_graph.get(h) > 0)\n            kmers_in_peptide_db = {(k, h): peptide_graph.get(h) for k, h in zip(kmers, hashes)}\n            fraction_in_peptide_db = n_kmers_in_peptide_db/n_kmers\n            max_fraction = max(max_fraction, fraction_in_peptide_db)\n            if verbose and fraction_in_peptide_db > 0.9:\n                pprint(kmers_in_peptide_db)\n            if verbose:\n                print(f'n_kmers_in_peptide_db/n_kmers: {n_kmers_in_peptide_db}/{n_kmers} = {fraction_in_peptide_db}')\n        classification_lines.append([record.description, max_fraction])"
    },
    "executionTime": "2019-09-23T17:55:34.726Z"
   },
   {
    "cell": {
     "executionCount": 163,
     "executionEventId": "00f06dae-982e-4c7a-8346-106957a318cb",
     "hasError": false,
     "id": "e2b83ce8-4f4b-4ab2-a856-073837ee92bd",
     "outputs": [
      {
       "name": "stdout",
       "output_type": "stream",
       "text": "(20, 1)\n"
      },
      {
       "data": {
        "text/html": "<div>\n<style scoped>\n    .dataframe tbody tr th:only-of-type {\n        vertical-align: middle;\n    }\n\n    .dataframe tbody tr th {\n        vertical-align: top;\n    }\n\n    .dataframe thead th {\n        text-align: right;\n    }\n</style>\n<table border=\"1\" class=\"dataframe\">\n  <thead>\n    <tr style=\"text-align: right;\">\n      <th></th>\n      <th>max_peptide_coding_kmers</th>\n    </tr>\n    <tr>\n      <th>read_id</th>\n      <th></th>\n    </tr>\n  </thead>\n  <tbody>\n    <tr>\n      <th>SRR306838.10559374 Ibis_Run100924_C3PO:6:51:17601:17119/1</th>\n      <td>1.000000</td>\n    </tr>\n    <tr>\n      <th>SRR306838.6196593 Ibis_Run100924_C3PO:6:29:16733:12435/1</th>\n      <td>0.000000</td>\n    </tr>\n    <tr>\n      <th>SRR306838.20767303 Ibis_Run100924_C3PO:6:104:6864:5062/1</th>\n      <td>0.187500</td>\n    </tr>\n    <tr>\n      <th>SRR306838.12582274 Ibis_Run100924_C3PO:6:62:11779:17975/1</th>\n      <td>0.066667</td>\n    </tr>\n    <tr>\n      <th>SRR306838.13334230 Ibis_Run100924_C3PO:6:66:16579:20350/1</th>\n      <td>0.000000</td>\n    </tr>\n  </tbody>\n</table>\n</div>",
        "text/plain": "                                                    max_peptide_coding_kmers\nread_id                                                                     \nSRR306838.10559374 Ibis_Run100924_C3PO:6:51:176...                  1.000000\nSRR306838.6196593 Ibis_Run100924_C3PO:6:29:1673...                  0.000000\nSRR306838.20767303 Ibis_Run100924_C3PO:6:104:68...                  0.187500\nSRR306838.12582274 Ibis_Run100924_C3PO:6:62:117...                  0.066667\nSRR306838.13334230 Ibis_Run100924_C3PO:6:66:165...                  0.000000"
       },
       "execution_count": 163,
       "metadata": {},
       "output_type": "execute_result"
      }
     ],
     "persistentId": "96970676-e85a-49f8-9ec5-dda47db735e1",
     "text": "manual_classification_df = pd.DataFrame(classification_lines, columns=['read_id', 'max_peptide_coding_kmers'])\nmanual_classification_df = manual_classification_df.set_index(\"read_id\")\nprint(manual_classification_df.shape)\nmanual_classification_df.head()"
    },
    "executionTime": "2019-09-23T17:55:34.881Z"
   },
   {
    "cell": {
     "executionCount": 164,
     "executionEventId": "1554769d-2d52-451b-9672-7feaf8f5566b",
     "hasError": false,
     "id": "dac2e724-9914-419b-a747-e87b19b740b6",
     "outputs": [
      {
       "name": "stdout",
       "output_type": "stream",
       "text": "(40, 6)\n"
      },
      {
       "data": {
        "text/html": "<div>\n<style scoped>\n    .dataframe tbody tr th:only-of-type {\n        vertical-align: middle;\n    }\n\n    .dataframe tbody tr th {\n        vertical-align: top;\n    }\n\n    .dataframe thead th {\n        text-align: right;\n    }\n</style>\n<table border=\"1\" class=\"dataframe\">\n  <thead>\n    <tr style=\"text-align: right;\">\n      <th></th>\n      <th>sequence</th>\n      <th>compared_to</th>\n      <th>jaccard</th>\n      <th>ksize</th>\n      <th>is_coding</th>\n      <th>Notes</th>\n    </tr>\n    <tr>\n      <th>sequence_id</th>\n      <th></th>\n      <th></th>\n      <th></th>\n      <th></th>\n      <th></th>\n      <th></th>\n    </tr>\n  </thead>\n  <tbody>\n    <tr>\n      <th>SRR306838.10559374 Ibis_Run100924_C3PO:6:51:17601:17119/1</th>\n      <td>CGCTTGCTTAATACTGACATCAATAATATTAGGAAAATCGCAATAT...</td>\n      <td>coding</td>\n      <td>0.037736</td>\n      <td>15</td>\n      <td>True</td>\n      <td>NaN</td>\n    </tr>\n    <tr>\n      <th>SRR306838.10559374 Ibis_Run100924_C3PO:6:51:17601:17119/1</th>\n      <td>CGCTTGCTTAATACTGACATCAATAATATTAGGAAAATCGCAATAT...</td>\n      <td>non_coding</td>\n      <td>0.000000</td>\n      <td>15</td>\n      <td>True</td>\n      <td>NaN</td>\n    </tr>\n    <tr>\n      <th>SRR306838.6196593 Ibis_Run100924_C3PO:6:29:16733:12435/1</th>\n      <td>TCTAGAATGTGAAATAACGTACTTCATGTGTCTTCTTACCAAAAAT...</td>\n      <td>coding</td>\n      <td>0.035088</td>\n      <td>15</td>\n      <td>False</td>\n      <td>NaN</td>\n    </tr>\n    <tr>\n      <th>SRR306838.6196593 Ibis_Run100924_C3PO:6:29:16733:12435/1</th>\n      <td>TCTAGAATGTGAAATAACGTACTTCATGTGTCTTCTTACCAAAAAT...</td>\n      <td>non_coding</td>\n      <td>0.017544</td>\n      <td>15</td>\n      <td>False</td>\n      <td>NaN</td>\n    </tr>\n    <tr>\n      <th>SRR306838.20767303 Ibis_Run100924_C3PO:6:104:6864:5062/1</th>\n      <td>CAATCATCATCACTTTCTAATTCCAGAATATTTTCATCACCCCAAA...</td>\n      <td>coding</td>\n      <td>0.092593</td>\n      <td>15</td>\n      <td>False</td>\n      <td>NaN</td>\n    </tr>\n  </tbody>\n</table>\n</div>",
        "text/plain": "                                                                                             sequence  \\\nsequence_id                                                                                             \nSRR306838.10559374 Ibis_Run100924_C3PO:6:51:176...  CGCTTGCTTAATACTGACATCAATAATATTAGGAAAATCGCAATAT...   \nSRR306838.10559374 Ibis_Run100924_C3PO:6:51:176...  CGCTTGCTTAATACTGACATCAATAATATTAGGAAAATCGCAATAT...   \nSRR306838.6196593 Ibis_Run100924_C3PO:6:29:1673...  TCTAGAATGTGAAATAACGTACTTCATGTGTCTTCTTACCAAAAAT...   \nSRR306838.6196593 Ibis_Run100924_C3PO:6:29:1673...  TCTAGAATGTGAAATAACGTACTTCATGTGTCTTCTTACCAAAAAT...   \nSRR306838.20767303 Ibis_Run100924_C3PO:6:104:68...  CAATCATCATCACTTTCTAATTCCAGAATATTTTCATCACCCCAAA...   \n\n                                                   compared_to   jaccard  \\\nsequence_id                                                                \nSRR306838.10559374 Ibis_Run100924_C3PO:6:51:176...      coding  0.037736   \nSRR306838.10559374 Ibis_Run100924_C3PO:6:51:176...  non_coding  0.000000   \nSRR306838.6196593 Ibis_Run100924_C3PO:6:29:1673...      coding  0.035088   \nSRR306838.6196593 Ibis_Run100924_C3PO:6:29:1673...  non_coding  0.017544   \nSRR306838.20767303 Ibis_Run100924_C3PO:6:104:68...      coding  0.092593   \n\n                                                    ksize  is_coding Notes  \nsequence_id                                                                 \nSRR306838.10559374 Ibis_Run100924_C3PO:6:51:176...     15       True   NaN  \nSRR306838.10559374 Ibis_Run100924_C3PO:6:51:176...     15       True   NaN  \nSRR306838.6196593 Ibis_Run100924_C3PO:6:29:1673...     15      False   NaN  \nSRR306838.6196593 Ibis_Run100924_C3PO:6:29:1673...     15      False   NaN  \nSRR306838.20767303 Ibis_Run100924_C3PO:6:104:68...     15      False   NaN  "
       },
       "execution_count": 164,
       "metadata": {},
       "output_type": "execute_result"
      }
     ],
     "persistentId": "f3c963f2-8657-4743-8cd3-a241b022e120",
     "text": "s = '''sequence_id\tsequence\tcompared_to\tjaccard\tksize\tis_coding\tNotes\nSRR306838.10559374 Ibis_Run100924_C3PO:6:51:17601:17119/1\tCGCTTGCTTAATACTGACATCAATAATATTAGGAAAATCGCAATATAACTGTAAATCCTGTTCTGTC\tcoding\t0.03773584906\t15\tTRUE\t\nSRR306838.10559374 Ibis_Run100924_C3PO:6:51:17601:17119/1\tCGCTTGCTTAATACTGACATCAATAATATTAGGAAAATCGCAATATAACTGTAAATCCTGTTCTGTC\tnon_coding\t0\t15\tTRUE\t\nSRR306838.6196593 Ibis_Run100924_C3PO:6:29:16733:12435/1\tTCTAGAATGTGAAATAACGTACTTCATGTGTCTTCTTACCAAAAATACCAACGATAAGGGGAAAAGCCATC\tcoding\t0.0350877193\t15\tFALSE\t\nSRR306838.6196593 Ibis_Run100924_C3PO:6:29:16733:12435/1\tTCTAGAATGTGAAATAACGTACTTCATGTGTCTTCTTACCAAAAATACCAACGATAAGGGGAAAAGCCATC\tnon_coding\t0.01754385965\t15\tFALSE\t\nSRR306838.20767303 Ibis_Run100924_C3PO:6:104:6864:5062/1\tCAATCATCATCACTTTCTAATTCCAGAATATTTTCATCACCCCAAAAAGAAATCCTAAATCCATTAGC\tcoding\t0.09259259259\t15\tFALSE\t\nSRR306838.20767303 Ibis_Run100924_C3PO:6:104:6864:5062/1\tCAATCATCATCACTTTCTAATTCCAGAATATTTTCATCACCCCAAAAAGAAATCCTAAATCCATTAGC\tnon_coding\t0.4074074074\t15\tFALSE\t\nSRR306838.12582274 Ibis_Run100924_C3PO:6:62:11779:17975/1\tCAAAAGTGAAGACCTCCCTGGGGTCTTCAAAGACAGCCTTTGCTCTCCATGTAGCCAATGGTGCTCT\tcoding\t0.03773584906\t15\tFALSE\t\nSRR306838.12582274 Ibis_Run100924_C3PO:6:62:11779:17975/1\tCAAAAGTGAAGACCTCCCTGGGGTCTTCAAAGACAGCCTTTGCTCTCCATGTAGCCAATGGTGCTCT\tnon_coding\t0.05660377358\t15\tFALSE\t\nSRR306838.13334230 Ibis_Run100924_C3PO:6:66:16579:20350/1\tGTAACCCTTAATTCCTCAGAAAAAATAGACAACATAGTGGAGTGGGATGGAGGAAC\tcoding\t0.04761904762\t15\tFALSE\t\nSRR306838.13334230 Ibis_Run100924_C3PO:6:66:16579:20350/1\tGTAACCCTTAATTCCTCAGAAAAAATAGACAACATAGTGGAGTGGGATGGAGGAAC\tnon_coding\t0.1428571429\t15\tFALSE\t\nSRR306838.2740879 Ibis_Run100924_C3PO:6:13:11155:5248/1\tCTGTGATTATTTTTTTTCCTAGCATTTGTTCTTTCAGAAAAGGACTGAACTCTAAATTCTGGACTTGAAGACTG\tcoding\t0.06666666667\t15\tTRUE\tSecond hit is in LINE element\nSRR306838.2740879 Ibis_Run100924_C3PO:6:13:11155:5248/1\tCTGTGATTATTTTTTTTCCTAGCATTTGTTCTTTCAGAAAAGGACTGAACTCTAAATTCTGGACTTGAAGACTG\tnon_coding\t0.08333333333\t15\tTRUE\tSecond hit is in LINE element\nSRR306838.6813354 Ibis_Run100924_C3PO:6:32:10591:13073/1\tGTTTGATTCTTGACAATTTCTTCTGGAACAAGTCTTTCATATACATTAGACTGGTATCATTGAGTTCTGAGC\tcoding\t0.03448275862\t15\tFALSE\tLots of imperfect matches\nSRR306838.6813354 Ibis_Run100924_C3PO:6:32:10591:13073/1\tGTTTGATTCTTGACAATTTCTTCTGGAACAAGTCTTTCATATACATTAGACTGGTATCATTGAGTTCTGAGC\tnon_coding\t0.08620689655\t15\tFALSE\tLots of imperfect matches\nSRR306838.23113368 Ibis_Run100924_C3PO:6:114:13840:18459/1\tCACAAGGCTAACATACACAATCTGTAACACGAGATGGATAGCACACACATATGACACAATTTC\tcoding\t0\t15\tFALSE\t\nSRR306838.23113368 Ibis_Run100924_C3PO:6:114:13840:18459/1\tCACAAGGCTAACATACACAATCTGTAACACGAGATGGATAGCACACACATATGACACAATTTC\tnon_coding\t0\t15\tFALSE\t\nSRR306838.10872941 Ibis_Run100924_C3PO:6:53:6164:10522/1\tCTGTAGTGTGGTCCATTCCCAGACAGCAACATGCAAGAATAAGTTTACAATACACTCAGCCCTTCTG\tcoding\t0.01886792453\t15\tFALSE\t\nSRR306838.10872941 Ibis_Run100924_C3PO:6:53:6164:10522/1\tCTGTAGTGTGGTCCATTCCCAGACAGCAACATGCAAGAATAAGTTTACAATACACTCAGCCCTTCTG\tnon_coding\t0.01886792453\t15\tFALSE\t\nSRR306838.6192120 Ibis_Run100924_C3PO:6:29:5833:11991/1\tTAGGAAAATAGTAATATTTGCAACTTATGAATGATAAGTCAGAAAAGTTACATGGAATGTTAAATTTT\tcoding\t0.1296296296\t15\tFALSE\t\nSRR306838.6192120 Ibis_Run100924_C3PO:6:29:5833:11991/1\tTAGGAAAATAGTAATATTTGCAACTTATGAATGATAAGTCAGAAAAGTTACATGGAATGTTAAATTTT\tnon_coding\t0.05555555556\t15\tFALSE\t\nSRR306838.21295280 Ibis_Run100924_C3PO:6:106:2590:13965/1\tCTGATAGACTGAAACTGGTTTTGTTATTCTTAACGTTCTCCAGTCTGCACTCTGCTGTGCTGTCTGTGCTC\tcoding\t0.1929824561\t15\tFALSE\t\nSRR306838.21295280 Ibis_Run100924_C3PO:6:106:2590:13965/1\tCTGATAGACTGAAACTGGTTTTGTTATTCTTAACGTTCTCCAGTCTGCACTCTGCTGTGCTGTCTGTGCTC\tnon_coding\t0.0701754386\t15\tFALSE\t\nSRR306838.21201208 Ibis_Run100924_C3PO:6:106:2763:5109/1\tTTAAGTTCTAGTCTGTGAGCACTTGTAGTTCAATAATCGTCATCTTCATCAGAGTCCATTACTTTTCTTCTGTTG\tcoding\t0.1147540984\t15\tFALSE\tstop codon\nSRR306838.21201208 Ibis_Run100924_C3PO:6:106:2763:5109/1\tTTAAGTTCTAGTCTGTGAGCACTTGTAGTTCAATAATCGTCATCTTCATCAGAGTCCATTACTTTTCTTCTGTTG\tnon_coding\t0.06557377049\t15\tFALSE\tstop codon\nSRR306838.18327923 Ibis_Run100924_C3PO:6:92:9077:13885/1\tAAATAAGGTAACATTTAACAATAATCTGATACACATAAATAGAGAAAGAGCAATTGATAAAGTAAATG\tcoding\t0.01851851852\t15\tFALSE\t\nSRR306838.18327923 Ibis_Run100924_C3PO:6:92:9077:13885/1\tAAATAAGGTAACATTTAACAATAATCTGATACACATAAATAGAGAAAGAGCAATTGATAAAGTAAATG\tnon_coding\t0.2222222222\t15\tFALSE\t\nSRR306838.4880582 Ibis_Run100924_C3PO:6:23:17413:5436/1\tCTTGGATCCACCATACTCAAGAGTTATTACACAAAGGGAAACAGAAAATAACCAAATGACATCAGAA\tcoding\t1\t15\tTRUE\t\nSRR306838.4880582 Ibis_Run100924_C3PO:6:23:17413:5436/1\tCTTGGATCCACCATACTCAAGAGTTATTACACAAAGGGAAACAGAAAATAACCAAATGACATCAGAA\tnon_coding\t0.1698113208\t15\tTRUE\t\nSRR306838.21417895 Ibis_Run100924_C3PO:6:107:8793:5012/1\tCCAACACATCCAATTTGTATTTTCTTAAATATGTGTTTCTTAGGTATCTAAGGATACATGAGCGAGCCC\tcoding\t0\t15\tFALSE\t\nSRR306838.21417895 Ibis_Run100924_C3PO:6:107:8793:5012/1\tCCAACACATCCAATTTGTATTTTCTTAAATATGTGTTTCTTAGGTATCTAAGGATACATGAGCGAGCCC\tnon_coding\t0.01818181818\t15\tFALSE\t\nSRR306838.17165743 Ibis_Run100924_C3PO:6:86:18789:18450/1\tATCTCTTGTAATAATTCAACATATTCCCTGGCTATTAACTAATTTCCAAGCCTGAACTGTCA\tcoding\t0.04166666667\t15\tFALSE\t\nSRR306838.17165743 Ibis_Run100924_C3PO:6:86:18789:18450/1\tATCTCTTGTAATAATTCAACATATTCCCTGGCTATTAACTAATTTCCAAGCCTGAACTGTCA\tnon_coding\t0\t15\tFALSE\t\nSRR306838.21229494 Ibis_Run100924_C3PO:6:106:6163:7753/1\tTGAGGCAAACAGCAAGAGTAAGCAGTGTTACTTGCAGGTACTTTGGTTAATGTTGATTTAAATTTTCATG\tcoding\t0\t15\tFALSE\tPerfect match to another location with a DNA element\nSRR306838.21229494 Ibis_Run100924_C3PO:6:106:6163:7753/1\tTGAGGCAAACAGCAAGAGTAAGCAGTGTTACTTGCAGGTACTTTGGTTAATGTTGATTTAAATTTTCATG\tnon_coding\t0.03571428571\t15\tFALSE\t\nSRR306838.21218773 Ibis_Run100924_C3PO:6:106:16921:6743/1\tCAATGCCGTGCCAGTGGAGACTGTTCTCGTATGCC\tcoding\t0.09523809524\t15\tTRUE\tDeinitely coding\nSRR306838.21218773 Ibis_Run100924_C3PO:6:106:16921:6743/1\tCAATGCCGTGCCAGTGGAGACTGTTCTCGTATGCC\tnon_coding\t0\t15\tTRUE\t\nSRR306838.20124664 Ibis_Run100924_C3PO:6:101:4701:5309/1\tCCTATACCTTCTGCATAATGAATTAACTAGAAATAACTTTGCAAGGAGAGCCAAAGCTAAGACCCCCGAAAC\tcoding\t0.01724137931\t15\tFALSE\tDefinitely noncoding\nSRR306838.20124664 Ibis_Run100924_C3PO:6:101:4701:5309/1\tCCTATACCTTCTGCATAATGAATTAACTAGAAATAACTTTGCAAGGAGAGCCAAAGCTAAGACCCCCGAAAC\tnon_coding\t1\t15\tFALSE\tDefinitely noncoding\nSRR306838.16841308 Ibis_Run100924_C3PO:6:85:6205:5805/1\tCAGGAATGAGGCCCCGACTAAAATTCGCTGCAAAAGCCCAAAATCTAGTTAGCATAAATTCCTCAGACATG\tcoding\t0\t15\tFALSE\t\nSRR306838.16841308 Ibis_Run100924_C3PO:6:85:6205:5805/1\tCAGGAATGAGGCCCCGACTAAAATTCGCTGCAAAAGCCCAAAATCTAGTTAGCATAAATTCCTCAGACATG\tnon_coding\t0.0701754386\t15\tFALSE\t'''\nblat_results = pd.read_csv(StringIO(s), sep='\\t', index_col=0)\nprint(blat_results.shape)\nblat_results.head()"
    },
    "executionTime": "2019-09-23T17:55:34.957Z"
   },
   {
    "cell": {
     "executionCount": 165,
     "executionEventId": "d908c38a-d4cf-44ea-ba83-41e98fc3d20f",
     "hasError": false,
     "id": "04bc2b75-d1cb-4c5b-acd9-5e4716994df7",
     "outputs": [
      {
       "data": {
        "text/plain": "sequence_id\nSRR306838.10559374 Ibis_Run100924_C3PO:6:51:17601:17119/1     True\nSRR306838.6196593 Ibis_Run100924_C3PO:6:29:16733:12435/1     False\nSRR306838.20767303 Ibis_Run100924_C3PO:6:104:6864:5062/1     False\nSRR306838.12582274 Ibis_Run100924_C3PO:6:62:11779:17975/1    False\nSRR306838.13334230 Ibis_Run100924_C3PO:6:66:16579:20350/1    False\nName: is_coding, dtype: bool"
       },
       "execution_count": 165,
       "metadata": {},
       "output_type": "execute_result"
      }
     ],
     "persistentId": "9fa82db5-58ea-4af3-acad-9097c2aa8bc5",
     "text": "true_coding = blat_results['is_coding']\ntrue_coding = true_coding.loc[~true_coding.index.duplicated()]\ntrue_coding.head()"
    },
    "executionTime": "2019-09-23T17:55:34.993Z"
   },
   {
    "cell": {
     "executionCount": 166,
     "executionEventId": "14b3421c-ff19-45dd-80be-905a415df231",
     "hasError": false,
     "id": "166ab943-0435-4e18-af52-f45aa699015a",
     "outputs": [
      {
       "name": "stdout",
       "output_type": "stream",
       "text": "(20, 2)\n"
      },
      {
       "data": {
        "text/html": "<div>\n<style scoped>\n    .dataframe tbody tr th:only-of-type {\n        vertical-align: middle;\n    }\n\n    .dataframe tbody tr th {\n        vertical-align: top;\n    }\n\n    .dataframe thead th {\n        text-align: right;\n    }\n</style>\n<table border=\"1\" class=\"dataframe\">\n  <thead>\n    <tr style=\"text-align: right;\">\n      <th></th>\n      <th>max_peptide_coding_kmers</th>\n      <th>is_coding</th>\n    </tr>\n    <tr>\n      <th>read_id</th>\n      <th></th>\n      <th></th>\n    </tr>\n  </thead>\n  <tbody>\n    <tr>\n      <th>SRR306838.10559374 Ibis_Run100924_C3PO:6:51:17601:17119/1</th>\n      <td>1.000000</td>\n      <td>True</td>\n    </tr>\n    <tr>\n      <th>SRR306838.6196593 Ibis_Run100924_C3PO:6:29:16733:12435/1</th>\n      <td>0.000000</td>\n      <td>False</td>\n    </tr>\n    <tr>\n      <th>SRR306838.20767303 Ibis_Run100924_C3PO:6:104:6864:5062/1</th>\n      <td>0.187500</td>\n      <td>False</td>\n    </tr>\n    <tr>\n      <th>SRR306838.12582274 Ibis_Run100924_C3PO:6:62:11779:17975/1</th>\n      <td>0.066667</td>\n      <td>False</td>\n    </tr>\n    <tr>\n      <th>SRR306838.13334230 Ibis_Run100924_C3PO:6:66:16579:20350/1</th>\n      <td>0.000000</td>\n      <td>False</td>\n    </tr>\n    <tr>\n      <th>SRR306838.2740879 Ibis_Run100924_C3PO:6:13:11155:5248/1</th>\n      <td>1.000000</td>\n      <td>True</td>\n    </tr>\n    <tr>\n      <th>SRR306838.6813354 Ibis_Run100924_C3PO:6:32:10591:13073/1</th>\n      <td>0.000000</td>\n      <td>False</td>\n    </tr>\n    <tr>\n      <th>SRR306838.23113368 Ibis_Run100924_C3PO:6:114:13840:18459/1</th>\n      <td>0.000000</td>\n      <td>False</td>\n    </tr>\n    <tr>\n      <th>SRR306838.10872941 Ibis_Run100924_C3PO:6:53:6164:10522/1</th>\n      <td>0.000000</td>\n      <td>False</td>\n    </tr>\n    <tr>\n      <th>SRR306838.6192120 Ibis_Run100924_C3PO:6:29:5833:11991/1</th>\n      <td>0.000000</td>\n      <td>False</td>\n    </tr>\n    <tr>\n      <th>SRR306838.21295280 Ibis_Run100924_C3PO:6:106:2590:13965/1</th>\n      <td>0.117647</td>\n      <td>False</td>\n    </tr>\n    <tr>\n      <th>SRR306838.21201208 Ibis_Run100924_C3PO:6:106:2763:5109/1</th>\n      <td>0.000000</td>\n      <td>False</td>\n    </tr>\n    <tr>\n      <th>SRR306838.18327923 Ibis_Run100924_C3PO:6:92:9077:13885/1</th>\n      <td>0.062500</td>\n      <td>False</td>\n    </tr>\n    <tr>\n      <th>SRR306838.4880582 Ibis_Run100924_C3PO:6:23:17413:5436/1</th>\n      <td>1.000000</td>\n      <td>True</td>\n    </tr>\n    <tr>\n      <th>SRR306838.21417895 Ibis_Run100924_C3PO:6:107:8793:5012/1</th>\n      <td>0.062500</td>\n      <td>False</td>\n    </tr>\n    <tr>\n      <th>SRR306838.17165743 Ibis_Run100924_C3PO:6:86:18789:18450/1</th>\n      <td>0.000000</td>\n      <td>False</td>\n    </tr>\n    <tr>\n      <th>SRR306838.21229494 Ibis_Run100924_C3PO:6:106:6163:7753/1</th>\n      <td>0.000000</td>\n      <td>False</td>\n    </tr>\n    <tr>\n      <th>SRR306838.21218773 Ibis_Run100924_C3PO:6:106:16921:6743/1</th>\n      <td>0.800000</td>\n      <td>True</td>\n    </tr>\n    <tr>\n      <th>SRR306838.20124664 Ibis_Run100924_C3PO:6:101:4701:5309/1</th>\n      <td>0.222222</td>\n      <td>False</td>\n    </tr>\n    <tr>\n      <th>SRR306838.16841308 Ibis_Run100924_C3PO:6:85:6205:5805/1</th>\n      <td>0.000000</td>\n      <td>False</td>\n    </tr>\n  </tbody>\n</table>\n</div>",
        "text/plain": "                                                    max_peptide_coding_kmers  \\\nread_id                                                                        \nSRR306838.10559374 Ibis_Run100924_C3PO:6:51:176...                  1.000000   \nSRR306838.6196593 Ibis_Run100924_C3PO:6:29:1673...                  0.000000   \nSRR306838.20767303 Ibis_Run100924_C3PO:6:104:68...                  0.187500   \nSRR306838.12582274 Ibis_Run100924_C3PO:6:62:117...                  0.066667   \nSRR306838.13334230 Ibis_Run100924_C3PO:6:66:165...                  0.000000   \nSRR306838.2740879 Ibis_Run100924_C3PO:6:13:1115...                  1.000000   \nSRR306838.6813354 Ibis_Run100924_C3PO:6:32:1059...                  0.000000   \nSRR306838.23113368 Ibis_Run100924_C3PO:6:114:13...                  0.000000   \nSRR306838.10872941 Ibis_Run100924_C3PO:6:53:616...                  0.000000   \nSRR306838.6192120 Ibis_Run100924_C3PO:6:29:5833...                  0.000000   \nSRR306838.21295280 Ibis_Run100924_C3PO:6:106:25...                  0.117647   \nSRR306838.21201208 Ibis_Run100924_C3PO:6:106:27...                  0.000000   \nSRR306838.18327923 Ibis_Run100924_C3PO:6:92:907...                  0.062500   \nSRR306838.4880582 Ibis_Run100924_C3PO:6:23:1741...                  1.000000   \nSRR306838.21417895 Ibis_Run100924_C3PO:6:107:87...                  0.062500   \nSRR306838.17165743 Ibis_Run100924_C3PO:6:86:187...                  0.000000   \nSRR306838.21229494 Ibis_Run100924_C3PO:6:106:61...                  0.000000   \nSRR306838.21218773 Ibis_Run100924_C3PO:6:106:16...                  0.800000   \nSRR306838.20124664 Ibis_Run100924_C3PO:6:101:47...                  0.222222   \nSRR306838.16841308 Ibis_Run100924_C3PO:6:85:620...                  0.000000   \n\n                                                    is_coding  \nread_id                                                        \nSRR306838.10559374 Ibis_Run100924_C3PO:6:51:176...       True  \nSRR306838.6196593 Ibis_Run100924_C3PO:6:29:1673...      False  \nSRR306838.20767303 Ibis_Run100924_C3PO:6:104:68...      False  \nSRR306838.12582274 Ibis_Run100924_C3PO:6:62:117...      False  \nSRR306838.13334230 Ibis_Run100924_C3PO:6:66:165...      False  \nSRR306838.2740879 Ibis_Run100924_C3PO:6:13:1115...       True  \nSRR306838.6813354 Ibis_Run100924_C3PO:6:32:1059...      False  \nSRR306838.23113368 Ibis_Run100924_C3PO:6:114:13...      False  \nSRR306838.10872941 Ibis_Run100924_C3PO:6:53:616...      False  \nSRR306838.6192120 Ibis_Run100924_C3PO:6:29:5833...      False  \nSRR306838.21295280 Ibis_Run100924_C3PO:6:106:25...      False  \nSRR306838.21201208 Ibis_Run100924_C3PO:6:106:27...      False  \nSRR306838.18327923 Ibis_Run100924_C3PO:6:92:907...      False  \nSRR306838.4880582 Ibis_Run100924_C3PO:6:23:1741...       True  \nSRR306838.21417895 Ibis_Run100924_C3PO:6:107:87...      False  \nSRR306838.17165743 Ibis_Run100924_C3PO:6:86:187...      False  \nSRR306838.21229494 Ibis_Run100924_C3PO:6:106:61...      False  \nSRR306838.21218773 Ibis_Run100924_C3PO:6:106:16...       True  \nSRR306838.20124664 Ibis_Run100924_C3PO:6:101:47...      False  \nSRR306838.16841308 Ibis_Run100924_C3PO:6:85:620...      False  "
       },
       "execution_count": 166,
       "metadata": {},
       "output_type": "execute_result"
      }
     ],
     "persistentId": "6b55768a-f285-4a67-ab1a-cb748e428978",
     "text": "manual_classification_df['is_coding'] = true_coding\nprint(manual_classification_df.shape)\nmanual_classification_df"
    },
    "executionTime": "2019-09-23T17:55:38.946Z"
   },
   {
    "cell": {
     "executionCount": 167,
     "executionEventId": "7c4d8884-6354-4320-be41-d836302040f2",
     "hasError": false,
     "id": "c25ca639-eea9-4cdc-b792-1ba4a88f1cc8",
     "outputs": [
      {
       "data": {
        "text/plain": "[<matplotlib.lines.Line2D at 0x7fe193c4e390>]"
       },
       "execution_count": 167,
       "metadata": {},
       "output_type": "execute_result"
      },
      {
       "data": {
        "image/png": "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\n",
        "text/plain": "<Figure size 432x288 with 1 Axes>"
       },
       "metadata": {
        "needs_background": "light"
       },
       "output_type": "display_data"
      }
     ],
     "persistentId": "7fb00c6a-626e-457d-8273-e2b7ed8e545e",
     "text": "fpr, tpr, thresholds = metrics.roc_curve(manual_classification_df['is_coding'], manual_classification_df['max_peptide_coding_kmers'])\n\nfig, ax = plt.subplots()\nlw = 2\nax.plot(fpr, tpr, lw=2, color='darkorange')\nax.plot([0, 1], [0, 1], color='navy', lw=lw, linestyle='--')"
    },
    "executionTime": "2019-09-23T17:55:45.292Z"
   },
   {
    "cell": {
     "executionCount": 168,
     "executionEventId": "d3e8cce6-41b7-44ec-ac3b-6df8fd013f84",
     "hasError": false,
     "id": "a32216de-605f-4821-becb-bdef9e097332",
     "outputs": [
      {
       "data": {
        "text/plain": "Seq('CATGTCTGAGGAATTTATGCTAACTAGATTTTGGGCTTTTGCAGCGAATTTTAG...CTG', SingleLetterAlphabet())"
       },
       "execution_count": 168,
       "metadata": {},
       "output_type": "execute_result"
      }
     ],
     "persistentId": "e9c939ed-e704-4d0c-96ba-0a78453670b7",
     "text": "record.seq.reverse_complement()"
    },
    "executionTime": "2019-10-02T04:31:40.845Z"
   },
   {
    "cell": {
     "executionCount": 169,
     "executionEventId": "79087812-210d-4810-86c5-f2c27968e0e1",
     "hasError": false,
     "id": "9760c5c5-b652-40d9-8826-e319c2367009",
     "outputs": [
      {
       "name": "stderr",
       "output_type": "stream",
       "text": "/home/olga/miniconda3/envs/kmer-hashing/lib/python3.6/site-packages/Bio/Seq.py:2715: BiopythonWarning: Partial codon, len(sequence) not a multiple of three. Explicitly trim the sequence or add trailing N before translation. This may become an error in future.\n  BiopythonWarning)\n"
      }
     ],
     "persistentId": "51192b86-d752-4730-a0aa-2ea23495690e",
     "text": "classification_lines = []\n\n\nscoring_lines = []\n\ndef six_frame_translation_no_stops(seq):\n    forward_translations = three_frame_translation_no_stops(seq)\n    reverse_translations = three_frame_translation_no_stops(seq.reverse_complement())\n    return forward_translations + reverse_translations\n\nverbose = False\n\nwith gzip.open('SRR306838_GSM752691_hsa_br_F_1_trimmed.fq.gz', 'rt') as f:\n    for record in SeqIO.parse(f, 'fastq'):\n        if verbose:\n            print()\n            print(record.description)\n            print(str(record.seq))\n        translations = six_frame_translation_no_stops(record.seq)\n        \n        max_fraction = 0\n        for translation in translations:\n            if len(translation) < peptide_ksize:\n                continue\n            if verbose:\n                print(f\"\\t{translation}\")\n            kmers = list(set(kmerize(str(translation), peptide_ksize)))\n            hashes = [hash_murmur(kmer) for kmer in kmers]\n            n_kmers = len(kmers)\n            n_kmers_in_peptide_db = sum(1 for h in hashes if peptide_graph.get(h) > 0)\n            if n_kmers < (len(translation) - peptide_ksize + 1)/2:\n                if verbose:\n                    print(f'Low complexity sequence!!! n_kmers < (len(read.seq) - ksize + 1)/2  --> {n_kmers} < {(len(record.seq) - ksize + 1)/2}')\n                    print(record.description)\n                    print(record.seq)\n                classification_lines.append([record.description, 'low complexity'])\n                continue\n            \n            kmers_in_peptide_db = {(k, h): peptide_graph.get(h) for k, h in zip(kmers, hashes)}\n            fraction_in_peptide_db = n_kmers_in_peptide_db/n_kmers\n            max_fraction = max(max_fraction, fraction_in_peptide_db)\n            if fraction_in_peptide_db > 0.9:\n                classification_lines.append([record.description, 'coding'])\n            else:\n                classification_lines.append([record.description, 'non-coding'])\n            if verbose:\n                pprint(kmers_in_peptide_db)\n                print(f'n_kmers_in_peptide_db/n_kmers: {n_kmers_in_peptide_db}/{n_kmers} = {fraction_in_peptide_db}')\n        scoring_lines.append([record.description, max_fraction])"
    },
    "executionTime": "2019-10-02T04:36:23.365Z"
   },
   {
    "cell": {
     "executionCount": 170,
     "executionEventId": "a085a870-fc8e-4eae-9455-3feb8b131161",
     "hasError": false,
     "id": "59e5d363-7f59-474e-96f0-7c422f642805",
     "outputs": [
      {
       "name": "stdout",
       "output_type": "stream",
       "text": "(1668180, 2)\n"
      },
      {
       "data": {
        "text/html": "<div>\n<style scoped>\n    .dataframe tbody tr th:only-of-type {\n        vertical-align: middle;\n    }\n\n    .dataframe tbody tr th {\n        vertical-align: top;\n    }\n\n    .dataframe thead th {\n        text-align: right;\n    }\n</style>\n<table border=\"1\" class=\"dataframe\">\n  <thead>\n    <tr style=\"text-align: right;\">\n      <th></th>\n      <th>read_id</th>\n      <th>classification</th>\n    </tr>\n  </thead>\n  <tbody>\n    <tr>\n      <th>0</th>\n      <td>SRR306838.1531 Ibis_Run100924_C3PO:6:1:15718:1...</td>\n      <td>low complexity</td>\n    </tr>\n    <tr>\n      <th>1</th>\n      <td>SRR306838.1531 Ibis_Run100924_C3PO:6:1:15718:1...</td>\n      <td>low complexity</td>\n    </tr>\n    <tr>\n      <th>2</th>\n      <td>SRR306838.1531 Ibis_Run100924_C3PO:6:1:15718:1...</td>\n      <td>low complexity</td>\n    </tr>\n    <tr>\n      <th>3</th>\n      <td>SRR306838.1531 Ibis_Run100924_C3PO:6:1:15718:1...</td>\n      <td>low complexity</td>\n    </tr>\n    <tr>\n      <th>4</th>\n      <td>SRR306838.1531 Ibis_Run100924_C3PO:6:1:15718:1...</td>\n      <td>low complexity</td>\n    </tr>\n  </tbody>\n</table>\n</div>",
        "text/plain": "                                             read_id  classification\n0  SRR306838.1531 Ibis_Run100924_C3PO:6:1:15718:1...  low complexity\n1  SRR306838.1531 Ibis_Run100924_C3PO:6:1:15718:1...  low complexity\n2  SRR306838.1531 Ibis_Run100924_C3PO:6:1:15718:1...  low complexity\n3  SRR306838.1531 Ibis_Run100924_C3PO:6:1:15718:1...  low complexity\n4  SRR306838.1531 Ibis_Run100924_C3PO:6:1:15718:1...  low complexity"
       },
       "execution_count": 170,
       "metadata": {},
       "output_type": "execute_result"
      }
     ],
     "persistentId": "4867773c-beed-40bb-95cf-584bc0db9e00",
     "text": "classification_df = pd.DataFrame(classification_lines, columns=['read_id', 'classification'])\nprint(classification_df.shape)\nclassification_df.head()"
    },
    "executionTime": "2019-10-02T04:37:46.498Z"
   },
   {
    "cell": {
     "executionCount": 171,
     "executionEventId": "5c747983-a070-4778-861d-4afcedf6137d",
     "hasError": false,
     "id": "f1df3432-a90c-4b6a-a55f-eaa937c1d6aa",
     "outputs": [
      {
       "name": "stdout",
       "output_type": "stream",
       "text": "(795517, 2)\n"
      },
      {
       "data": {
        "text/html": "<div>\n<style scoped>\n    .dataframe tbody tr th:only-of-type {\n        vertical-align: middle;\n    }\n\n    .dataframe tbody tr th {\n        vertical-align: top;\n    }\n\n    .dataframe thead th {\n        text-align: right;\n    }\n</style>\n<table border=\"1\" class=\"dataframe\">\n  <thead>\n    <tr style=\"text-align: right;\">\n      <th></th>\n      <th>read_id</th>\n      <th>coding_score</th>\n    </tr>\n  </thead>\n  <tbody>\n    <tr>\n      <th>0</th>\n      <td>SRR306838.1531 Ibis_Run100924_C3PO:6:1:15718:1...</td>\n      <td>0.0</td>\n    </tr>\n    <tr>\n      <th>1</th>\n      <td>SRR306838.1617 Ibis_Run100924_C3PO:6:1:9036:10...</td>\n      <td>0.0</td>\n    </tr>\n    <tr>\n      <th>2</th>\n      <td>SRR306838.1672 Ibis_Run100924_C3PO:6:1:15751:1...</td>\n      <td>0.0</td>\n    </tr>\n    <tr>\n      <th>3</th>\n      <td>SRR306838.1938 Ibis_Run100924_C3PO:6:1:15775:1...</td>\n      <td>0.0</td>\n    </tr>\n    <tr>\n      <th>4</th>\n      <td>SRR306838.2318 Ibis_Run100924_C3PO:6:1:15779:1...</td>\n      <td>0.5</td>\n    </tr>\n  </tbody>\n</table>\n</div>",
        "text/plain": "                                             read_id  coding_score\n0  SRR306838.1531 Ibis_Run100924_C3PO:6:1:15718:1...           0.0\n1  SRR306838.1617 Ibis_Run100924_C3PO:6:1:9036:10...           0.0\n2  SRR306838.1672 Ibis_Run100924_C3PO:6:1:15751:1...           0.0\n3  SRR306838.1938 Ibis_Run100924_C3PO:6:1:15775:1...           0.0\n4  SRR306838.2318 Ibis_Run100924_C3PO:6:1:15779:1...           0.5"
       },
       "execution_count": 171,
       "metadata": {},
       "output_type": "execute_result"
      }
     ],
     "persistentId": "607b9ea5-7fb0-465d-b7f8-05b402f0b361",
     "text": "score_df = pd.DataFrame(scoring_lines, columns=['read_id', 'coding_score'])\nprint(score_df.shape)\nscore_df.head()"
    },
    "executionTime": "2019-10-02T04:37:46.856Z"
   },
   {
    "cell": {
     "executionCount": 172,
     "executionEventId": "6b536029-771f-4f68-aecb-0dceec750657",
     "hasError": false,
     "id": "03ac3fd7-9034-486e-b599-ae83740f1d57",
     "outputs": [
      {
       "name": "stdout",
       "output_type": "stream",
       "text": "total 358M\ndrwxrwxr-x 2 olga olga 4.0K Sep 18 10:15 .\ndrwxrwxr-x 3 olga olga 4.0K Sep 10 15:07 ..\n-rw-rw-r-- 1 olga olga  52M Sep 18 10:05 SRR306838_GSM752691_hsa_br_F_1Aligned.sortedByCoord.out.bam.unspliced.bam\n-rw-rw-r-- 1 olga olga 2.9M Sep 18 10:12 SRR306838_GSM752691_hsa_br_F_1Aligned.sortedByCoord.out.bam.unspliced.bam.bai\n-rw-rw-r-- 1 olga olga 9.3M Sep 18 10:12 SRR306838_GSM752691_hsa_br_F_1Aligned.sortedByCoord.out.bam.unspliced.out_CDS_without_stop_codon_or_utr.bam\n-rw-rw-r-- 1 olga olga 1.9M Sep 18 10:12 SRR306838_GSM752691_hsa_br_F_1Aligned.sortedByCoord.out.bam.unspliced.out_CDS_without_stop_codon_or_utr.bam.bai\n-rw-rw-r-- 1 olga olga 2.8M Sep 18 10:14 SRR306838_GSM752691_hsa_br_F_1Aligned.sortedByCoord.out.bam.unspliced.out_CDS_without_stop_codon_or_utr.read_ids.txt\n-rw-rw-r-- 1 olga olga  15M Sep 18 10:15 SRR306838_GSM752691_hsa_br_F_1Aligned.sortedByCoord.out.bam.unspliced.read_ids.txt\n-rw-rw-r-- 1 olga olga  15M Sep 10 15:55 SRR306838_GSM752691_hsa_br_F_1Aligned.sortedByCoord.out_CDS_without_stop_codon.bam\n-rw-rw-r-- 1 olga olga 1.7M Sep 18 07:05 SRR306838_GSM752691_hsa_br_F_1Aligned.sortedByCoord.out_CDS_without_stop_codon.bam.bai\n-rw-rw-r-- 1 olga olga  15M Sep 18 07:15 SRR306838_GSM752691_hsa_br_F_1Aligned.sortedByCoord.out_CDS_without_stop_codon_or_utr.bam\n-rw-rw-r-- 1 olga olga 1.7M Sep 18 07:06 SRR306838_GSM752691_hsa_br_F_1Aligned.sortedByCoord.out_CDS_without_stop_codon_or_utr.bam.bai\n-rw-rw-r-- 1 olga olga 2.8M Sep 18 10:14 SRR306838_GSM752691_hsa_br_F_1Aligned.sortedByCoord.out_CDS_without_stop_codon_or_utr.read_ids.txt\n-rw-rw-r-- 1 olga olga 4.1M Sep 10 15:56 SRR306838_GSM752691_hsa_br_F_1Aligned.sortedByCoord.out_CDS_without_stop_codon.read_ids.txt\n-rw-r--r-- 1 olga olga 235M Sep 10 15:10 SRR306838_GSM752691_hsa_br_F_1_trimmed_k15.tsv\n(151869,)\n(807698,)\n"
      }
     ],
     "persistentId": "40e38758-05d9-498d-8219-f998a0f1ea43",
     "text": "folder = '/home/olga/data_sm/kmer-hashing/brawand2011/human/'\n! ls -lha $folder\n\ncoding_read_ids = pd.read_csv(f\"{folder}/SRR306838_GSM752691_hsa_br_F_1Aligned.sortedByCoord.out.bam.unspliced.out_CDS_without_stop_codon_or_utr.read_ids.txt\", \n                                   header=None, squeeze=True)\nprint(coding_read_ids.shape)\ncoding_read_ids.head()\n\ntrue_coding_read_ids = set(coding_read_ids.values)\nlen(true_coding_read_ids)\n\nunspliced_read_ids_series = pd.read_csv(f\"{folder}/SRR306838_GSM752691_hsa_br_F_1Aligned.sortedByCoord.out.bam.unspliced.read_ids.txt\", \n                                   header=None, squeeze=True)\nprint(unspliced_read_ids_series.shape)\nunspliced_read_ids_series.head()\n\nunspliced_reads = set(unspliced_read_ids_series.values)"
    },
    "executionTime": "2019-10-02T04:37:50.151Z"
   },
   {
    "cell": {
     "executionCount": 173,
     "executionEventId": "462d35bd-dd0b-4ed3-9660-9b1d46d4438e",
     "hasError": false,
     "id": "bea71376-d803-41f0-956b-2272fcd1c25b",
     "outputs": [],
     "persistentId": "00bc39d3-aad4-4160-8447-72190215a6b7",
     "text": "def subset_to_spliced_and_add_coding_classification(full_classification, unspliced_reads, true_coding_reads, read_id_col='read_id'):\n    full_classification['short_sequence_id'] = full_classification[read_id_col].str.split().str[0]\n\n    full_classification_unspliced = full_classification.query(\"short_sequence_id in @unspliced_reads\")\n\n    full_classification_unspliced['is_coding'] = full_classification_unspliced.short_sequence_id.isin(true_coding_reads)\n    return full_classification_unspliced"
    },
    "executionTime": "2019-10-02T04:37:50.184Z"
   },
   {
    "cell": {
     "executionCount": 174,
     "executionEventId": "d21192dc-ef99-4641-ae63-c52cabc2c10d",
     "hasError": false,
     "id": "24e9166f-a7d0-4358-9f6c-4e7791983b89",
     "outputs": [
      {
       "name": "stdout",
       "output_type": "stream",
       "text": "(681473, 4)\n"
      },
      {
       "name": "stderr",
       "output_type": "stream",
       "text": "/home/olga/miniconda3/envs/kmer-hashing/lib/python3.6/site-packages/ipykernel_launcher.py:6: SettingWithCopyWarning: \nA value is trying to be set on a copy of a slice from a DataFrame.\nTry using .loc[row_indexer,col_indexer] = value instead\n\nSee the caveats in the documentation: http://pandas.pydata.org/pandas-docs/stable/indexing.html#indexing-view-versus-copy\n  \n"
      },
      {
       "data": {
        "text/html": "<div>\n<style scoped>\n    .dataframe tbody tr th:only-of-type {\n        vertical-align: middle;\n    }\n\n    .dataframe tbody tr th {\n        vertical-align: top;\n    }\n\n    .dataframe thead th {\n        text-align: right;\n    }\n</style>\n<table border=\"1\" class=\"dataframe\">\n  <thead>\n    <tr style=\"text-align: right;\">\n      <th></th>\n      <th>read_id</th>\n      <th>coding_score</th>\n      <th>short_sequence_id</th>\n      <th>is_coding</th>\n    </tr>\n  </thead>\n  <tbody>\n    <tr>\n      <th>1</th>\n      <td>SRR306838.1617 Ibis_Run100924_C3PO:6:1:9036:10...</td>\n      <td>0.0</td>\n      <td>SRR306838.1617</td>\n      <td>False</td>\n    </tr>\n    <tr>\n      <th>2</th>\n      <td>SRR306838.1672 Ibis_Run100924_C3PO:6:1:15751:1...</td>\n      <td>0.0</td>\n      <td>SRR306838.1672</td>\n      <td>False</td>\n    </tr>\n    <tr>\n      <th>3</th>\n      <td>SRR306838.1938 Ibis_Run100924_C3PO:6:1:15775:1...</td>\n      <td>0.0</td>\n      <td>SRR306838.1938</td>\n      <td>False</td>\n    </tr>\n    <tr>\n      <th>6</th>\n      <td>SRR306838.2593 Ibis_Run100924_C3PO:6:1:15794:1...</td>\n      <td>0.0</td>\n      <td>SRR306838.2593</td>\n      <td>False</td>\n    </tr>\n    <tr>\n      <th>8</th>\n      <td>SRR306838.3394 Ibis_Run100924_C3PO:6:1:15750:1...</td>\n      <td>0.0</td>\n      <td>SRR306838.3394</td>\n      <td>False</td>\n    </tr>\n  </tbody>\n</table>\n</div>",
        "text/plain": "                                             read_id  coding_score  \\\n1  SRR306838.1617 Ibis_Run100924_C3PO:6:1:9036:10...           0.0   \n2  SRR306838.1672 Ibis_Run100924_C3PO:6:1:15751:1...           0.0   \n3  SRR306838.1938 Ibis_Run100924_C3PO:6:1:15775:1...           0.0   \n6  SRR306838.2593 Ibis_Run100924_C3PO:6:1:15794:1...           0.0   \n8  SRR306838.3394 Ibis_Run100924_C3PO:6:1:15750:1...           0.0   \n\n  short_sequence_id  is_coding  \n1    SRR306838.1617      False  \n2    SRR306838.1672      False  \n3    SRR306838.1938      False  \n6    SRR306838.2593      False  \n8    SRR306838.3394      False  "
       },
       "execution_count": 174,
       "metadata": {},
       "output_type": "execute_result"
      }
     ],
     "persistentId": "4de7dc6b-27b1-490c-b738-130f6968dc24",
     "text": "score_df_unspliced = subset_to_spliced_and_add_coding_classification(score_df, unspliced_reads, true_coding_read_ids)\nprint(score_df_unspliced.shape)\nscore_df_unspliced.head()"
    },
    "executionTime": "2019-10-02T04:37:53.674Z"
   },
   {
    "cell": {
     "executionCount": 175,
     "executionEventId": "88934864-d573-4364-8cda-bd58939e6635",
     "hasError": false,
     "id": "e4b22654-b0bd-423a-ac74-102ebce63440",
     "outputs": [
      {
       "name": "stdout",
       "output_type": "stream",
       "text": "(1366083, 4)\n"
      },
      {
       "name": "stderr",
       "output_type": "stream",
       "text": "/home/olga/miniconda3/envs/kmer-hashing/lib/python3.6/site-packages/ipykernel_launcher.py:6: SettingWithCopyWarning: \nA value is trying to be set on a copy of a slice from a DataFrame.\nTry using .loc[row_indexer,col_indexer] = value instead\n\nSee the caveats in the documentation: http://pandas.pydata.org/pandas-docs/stable/indexing.html#indexing-view-versus-copy\n  \n"
      },
      {
       "data": {
        "text/html": "<div>\n<style scoped>\n    .dataframe tbody tr th:only-of-type {\n        vertical-align: middle;\n    }\n\n    .dataframe tbody tr th {\n        vertical-align: top;\n    }\n\n    .dataframe thead th {\n        text-align: right;\n    }\n</style>\n<table border=\"1\" class=\"dataframe\">\n  <thead>\n    <tr style=\"text-align: right;\">\n      <th></th>\n      <th>read_id</th>\n      <th>classification</th>\n      <th>short_sequence_id</th>\n      <th>is_coding</th>\n    </tr>\n  </thead>\n  <tbody>\n    <tr>\n      <th>6</th>\n      <td>SRR306838.1672 Ibis_Run100924_C3PO:6:1:15751:1...</td>\n      <td>low complexity</td>\n      <td>SRR306838.1672</td>\n      <td>False</td>\n    </tr>\n    <tr>\n      <th>7</th>\n      <td>SRR306838.1672 Ibis_Run100924_C3PO:6:1:15751:1...</td>\n      <td>low complexity</td>\n      <td>SRR306838.1672</td>\n      <td>False</td>\n    </tr>\n    <tr>\n      <th>8</th>\n      <td>SRR306838.1672 Ibis_Run100924_C3PO:6:1:15751:1...</td>\n      <td>low complexity</td>\n      <td>SRR306838.1672</td>\n      <td>False</td>\n    </tr>\n    <tr>\n      <th>9</th>\n      <td>SRR306838.1672 Ibis_Run100924_C3PO:6:1:15751:1...</td>\n      <td>low complexity</td>\n      <td>SRR306838.1672</td>\n      <td>False</td>\n    </tr>\n    <tr>\n      <th>10</th>\n      <td>SRR306838.1672 Ibis_Run100924_C3PO:6:1:15751:1...</td>\n      <td>low complexity</td>\n      <td>SRR306838.1672</td>\n      <td>False</td>\n    </tr>\n  </tbody>\n</table>\n</div>",
        "text/plain": "                                              read_id  classification  \\\n6   SRR306838.1672 Ibis_Run100924_C3PO:6:1:15751:1...  low complexity   \n7   SRR306838.1672 Ibis_Run100924_C3PO:6:1:15751:1...  low complexity   \n8   SRR306838.1672 Ibis_Run100924_C3PO:6:1:15751:1...  low complexity   \n9   SRR306838.1672 Ibis_Run100924_C3PO:6:1:15751:1...  low complexity   \n10  SRR306838.1672 Ibis_Run100924_C3PO:6:1:15751:1...  low complexity   \n\n   short_sequence_id  is_coding  \n6     SRR306838.1672      False  \n7     SRR306838.1672      False  \n8     SRR306838.1672      False  \n9     SRR306838.1672      False  \n10    SRR306838.1672      False  "
       },
       "execution_count": 175,
       "metadata": {},
       "output_type": "execute_result"
      }
     ],
     "persistentId": "e43d2912-032a-4590-8d8f-5e607ecb2fe1",
     "text": "classification_df_unspliced = subset_to_spliced_and_add_coding_classification(classification_df, unspliced_reads, true_coding_read_ids)\nprint(classification_df_unspliced.shape)\nclassification_df_unspliced.head()"
    },
    "executionTime": "2019-10-02T04:37:58.757Z"
   },
   {
    "cell": {
     "executionCount": 176,
     "executionEventId": "79ed6fb5-e852-4b92-a490-9cf76f5ef384",
     "hasError": false,
     "id": "0a398a11-36bd-4013-a364-fcf596a1d447",
     "outputs": [
      {
       "data": {
        "text/plain": "[<matplotlib.lines.Line2D at 0x7fe192a08518>]"
       },
       "execution_count": 176,
       "metadata": {},
       "output_type": "execute_result"
      },
      {
       "data": {
        "image/png": "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\n",
        "text/plain": "<Figure size 432x288 with 1 Axes>"
       },
       "metadata": {
        "needs_background": "light"
       },
       "output_type": "display_data"
      }
     ],
     "persistentId": "b03ad7b1-e231-450c-86db-3a787ae2b276",
     "text": "fpr, tpr, thresholds = metrics.roc_curve(score_df_unspliced['is_coding'], score_df_unspliced['coding_score'])\n\nfig, ax = plt.subplots()\nlw = 2\nax.plot(fpr, tpr, lw=2, color='darkorange')\nax.plot([0, 1], [0, 1], color='navy', lw=lw, linestyle='--')"
    },
    "executionTime": "2019-10-02T04:37:59.052Z"
   },
   {
    "cell": {
     "executionCount": 177,
     "executionEventId": "101f8f98-aa12-4c2f-a05b-271625555f8a",
     "hasError": false,
     "id": "7e024182-1d54-4404-a4c8-9d8280ede845",
     "outputs": [
      {
       "data": {
        "text/plain": "0.8341453439630204"
       },
       "execution_count": 177,
       "metadata": {},
       "output_type": "execute_result"
      }
     ],
     "persistentId": "6d411b3f-fa00-40f2-8e9b-391e0d57dab5",
     "text": "metrics.roc_auc_score(score_df_unspliced['is_coding'], score_df_unspliced['coding_score'])"
    },
    "executionTime": "2019-10-02T04:37:59.210Z"
   },
   {
    "cell": {
     "executionCount": 178,
     "executionEventId": "c09fcd37-26ea-4d10-a535-1df0f9318d76",
     "hasError": false,
     "id": "f9df6bb4-0736-4c55-8b7a-d93e58547d6a",
     "outputs": [
      {
       "data": {
        "text/plain": "<matplotlib.axes._subplots.AxesSubplot at 0x7fe199246ac8>"
       },
       "execution_count": 178,
       "metadata": {},
       "output_type": "execute_result"
      },
      {
       "data": {
        "image/png": "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\n",
        "text/plain": "<Figure size 432x288 with 1 Axes>"
       },
       "metadata": {
        "needs_background": "light"
       },
       "output_type": "display_data"
      }
     ],
     "persistentId": "59e0cd48-177f-430c-81f1-8a484aea8f2b",
     "text": "sns.violinplot(x='is_coding', y='coding_score', data=score_df_unspliced)"
    },
    "executionTime": "2019-10-02T04:38:01.325Z"
   },
   {
    "cell": {
     "executionCount": 179,
     "executionEventId": "f32f73ac-b21f-4535-97ab-c1dbf97b498d",
     "hasError": false,
     "id": "2efa737d-708a-499c-881b-ea5ca637844e",
     "outputs": [],
     "persistentId": "c93318bc-cb4a-449e-8620-761d4a5b96b1",
     "text": "predicted = score_df_unspliced['coding_score'] > 0.9\ntarget = score_df_unspliced['is_coding']"
    },
    "executionTime": "2019-10-02T04:38:01.331Z"
   },
   {
    "cell": {
     "executionCount": 180,
     "executionEventId": "f94b829a-66e7-4828-9edd-55fc94f6ade5",
     "hasError": false,
     "id": "879803c4-e867-4239-87ff-074bda73739e",
     "outputs": [],
     "persistentId": "ae8c5ade-1a68-4f68-9876-fb9324701f12",
     "text": "import numpy as np"
    },
    "executionTime": "2019-10-02T04:38:01.372Z"
   },
   {
    "cell": {
     "executionCount": 181,
     "executionEventId": "e1da427d-8fb7-4e10-b32a-b5df6d1de523",
     "hasError": false,
     "id": "aa3ed1fd-b5ad-4979-bc32-0e8db998fc99",
     "outputs": [
      {
       "name": "stdout",
       "output_type": "stream",
       "text": "0.8508979812846584\n              precision    recall  f1-score   support\n\n   noncoding       0.90      0.91      0.90    531184\n      coding       0.66      0.65      0.66    150289\n\n   micro avg       0.85      0.85      0.85    681473\n   macro avg       0.78      0.78      0.78    681473\nweighted avg       0.85      0.85      0.85    681473\n\n[[481516  49668]\n [ 51941  98348]]\n"
      }
     ],
     "persistentId": "bb710f6e-a0a1-45d1-a549-818fac5fdfd4",
     "text": "print(np.mean(predicted == target))\nprint(metrics.classification_report(target, predicted, target_names=['noncoding', 'coding']))\nprint(metrics.confusion_matrix(target, predicted))"
    },
    "executionTime": "2019-10-02T04:38:02.416Z"
   },
   {
    "cell": {
     "executionCount": 182,
     "executionEventId": "8c939869-34d2-4a42-9211-dc6c9d6821b6",
     "hasError": false,
     "id": "ea4011c1-dc0c-4ad6-b8f7-e56d6b2ad0a2",
     "outputs": [
      {
       "data": {
        "text/plain": "<matplotlib.axes._subplots.AxesSubplot at 0x7fe26ec796a0>"
       },
       "execution_count": 182,
       "metadata": {},
       "output_type": "execute_result"
      },
      {
       "data": {
        "image/png": "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\n",
        "text/plain": "<Figure size 432x288 with 2 Axes>"
       },
       "metadata": {
        "needs_background": "light"
       },
       "output_type": "display_data"
      }
     ],
     "persistentId": "39cc0eb4-8975-4a3f-af43-fbf79a380028",
     "text": "target_names=['noncoding', 'coding']\n\nconfusion = pd.DataFrame(metrics.confusion_matrix(target, predicted), index=target_names, columns=target_names)\n\nsns.heatmap(confusion, annot=True, fmt=',d')"
    },
    "executionTime": "2019-10-02T04:38:02.914Z"
   },
   {
    "cell": {
     "executionCount": 183,
     "executionEventId": "05a7c70a-a786-4491-aa39-ddb4cba40bf3",
     "hasError": false,
     "id": "5b4ad75a-8ed3-49bc-abbd-8b49654cb540",
     "outputs": [
      {
       "name": "stdout",
       "output_type": "stream",
       "text": "SRR306838.10559374 Ibis_Run100924_C3PO:6:51:17601:17119/1\nCGCTTGCTTAATACTGACATCAATAATATTAGGAAAATCGCAATATAACTGTAAATCCTGTTCTGTC\n[Seq('RLLNTDINNIRKIAI*L*ILFC', HasStopCodon(ExtendedIUPACProtein(), '*')), Seq('ACLILTSIILGKSQYNCKSCSV', ExtendedIUPACProtein()), Seq('LA*Y*HQ*Y*ENRNITVNPVL', HasStopCodon(ExtendedIUPACProtein(), '*'))]\n[Seq('LSCPKCQYNAKRIIITTVIIRS', ExtendedIUPACProtein()), Seq('CLVLNVNITLKGL**LQS*FVR', HasStopCodon(ExtendedIUPACProtein(), '*')), Seq('VLS*MSI*R*KDYNNYSHNSF', HasStopCodon(ExtendedIUPACProtein(), '*'))]\nSRR306838.6196593 Ibis_Run100924_C3PO:6:29:16733:12435/1\nTCTAGAATGTGAAATAACGTACTTCATGTGTCTTCTTACCAAAAATACCAACGATAAGGGGAAAAGCCATC\n[Seq('SRM*NNVLHVSSYQKYQR*GEKP', HasStopCodon(ExtendedIUPACProtein(), '*')), Seq('LECEITYFMCLLTKNTNDKGKSH', ExtendedIUPACProtein()), Seq('*NVK*RTSCVFLPKIPTIRGKAI', HasStopCodon(ExtendedIUPACProtein(), '*'))]\n[Seq('LPKRGIATIKTILLCTSCNKV*D', HasStopCodon(ExtendedIUPACProtein(), '*')), Seq('YRKGE*QP*KPFFCVLHAIKCKI', HasStopCodon(ExtendedIUPACProtein(), '*')), Seq('TEKGNSNHKNHSSVYFMQ*SVRS', HasStopCodon(ExtendedIUPACProtein(), '*'))]\nSRR306838.20767303 Ibis_Run100924_C3PO:6:104:6864:5062/1\nCAATCATCATCACTTTCTAATTCCAGAATATTTTCATCACCCCAAAAAGAAATCCTAAATCCATTAGC\n[Seq('QSSSLSNSRIFSSPQKEILNPL', ExtendedIUPACProtein()), Seq('NHHHFLIPEYFHHPKKKS*IH*', HasStopCodon(ExtendedIUPACProtein(), '*')), Seq('IIITF*FQNIFITPKRNPKSIS', HasStopCodon(ExtendedIUPACProtein(), '*'))]\n[Seq('RLPKS*RKTPLLL*DLNLSLLL', HasStopCodon(ExtendedIUPACProtein(), '*')), Seq('DYLNPKEKPHYFYKTLIFHYY*', HasStopCodon(ExtendedIUPACProtein(), '*')), Seq('IT*ILKKNPTTFIRP*SFTTTN', HasStopCodon(ExtendedIUPACProtein(), '*'))]\nSRR306838.12582274 Ibis_Run100924_C3PO:6:62:11779:17975/1\nCAAAAGTGAAGACCTCCCTGGGGTCTTCAAAGACAGCCTTTGCTCTCCATGTAGCCAATGGTGCTCT\n[Seq('QK*RPPWGLQRQPLLSM*PMVL', HasStopCodon(ExtendedIUPACProtein(), '*')), Seq('KSEDLPGVFKDSLCSPCSQWCS', ExtendedIUPACProtein()), Seq('KVKTSLGSSKTAFALHVANGA', ExtendedIUPACProtein())]\n[Seq('SRGNRCTSRFRQKLLGSLQK*K', HasStopCodon(ExtendedIUPACProtein(), '*')), Seq('LVVTDVPLVSDRNFWGPSRSEN', ExtendedIUPACProtein()), Seq('SW*PMYLSFPTETSGVPPEVK', HasStopCodon(ExtendedIUPACProtein(), '*'))]\nSRR306838.13334230 Ibis_Run100924_C3PO:6:66:16579:20350/1\nGTAACCCTTAATTCCTCAGAAAAAATAGACAACATAGTGGAGTGGGATGGAGGAAC\n[Seq('VTLNSSEKIDNIVEWDGG', ExtendedIUPACProtein()), Seq('*PLIPQKK*TT*WSGMEE', HasStopCodon(ExtendedIUPACProtein(), '*')), Seq('NP*FLRKNRQHSGVGWRN', HasStopCodon(ExtendedIUPACProtein(), '*'))]\n[Seq('QGGRVR*YNR*KRLLNSQ', HasStopCodon(ExtendedIUPACProtein(), '*')), Seq('KEVG*GDTTDKKDSLIPN', HasStopCodon(ExtendedIUPACProtein(), '*')), Seq('RR*GEVIQQIKKTP*FPM', HasStopCodon(ExtendedIUPACProtein(), '*'))]\n"
      },
      {
       "name": "stderr",
       "output_type": "stream",
       "text": "/home/olga/miniconda3/envs/kmer-hashing/lib/python3.6/site-packages/Bio/Seq.py:2715: BiopythonWarning: Partial codon, len(sequence) not a multiple of three. Explicitly trim the sequence or add trailing N before translation. This may become an error in future.\n  BiopythonWarning)\n"
      }
     ],
     "persistentId": "39699f59-df26-4089-a7b8-519f138c6091",
     "text": "def three_frame_translation(seq):\n    for frame in range(3):\n        translation = seq[frame:].translate()\n        yield translation\n        \ndef three_frame_translation_no_stops(seq):\n    return [t for t in three_frame_translation(seq) if '*' not in t]\n\n\nwith gzip.open('SRR306838_GSM752691_hsa_br_F_1_trimmed_subsampled.fq.gz', 'rt') as f:\n    for i, record in zip(range(5), SeqIO.parse(f, 'fastq')):\n        print(record.description)\n        print(str(record.seq))\n        print(list(three_frame_translation(record.seq)))\n        print(list(three_frame_translation(record.seq[::-1])))"
    },
    "executionTime": "2019-10-02T04:40:20.867Z"
   },
   {
    "cell": {
     "executionCount": 184,
     "executionEventId": "478fa89f-75bb-4775-a270-64d98d72b3b8",
     "hasError": false,
     "id": "9a686e5c-ca86-456d-aa14-482ff0e383f7",
     "outputs": [
      {
       "name": "stdout",
       "output_type": "stream",
       "text": "CPU times: user 43.3 s, sys: 30.4 s, total: 1min 13s\nWall time: 1min 13s\n"
      }
     ],
     "persistentId": "24efed0e-0671-4d31-9ac1-c341e9d67f66",
     "text": "%%time\n\ntablesize = 1e10\n\nDEFAULT_K = 32\nDEFAULT_N_TABLES = 4\nDEFAULT_MAX_TABLESIZE = 1e6\nDEFAULT_N_THREADS = 1\n\npeptide_ksize = 8\n\n# tablesize = calculate_graphsize(args, 'nodegraph', multiplier)\n\n20**6\n\n\nDEFAULT_SEED = 42\npeptide_graph = Nodegraph(peptide_ksize, tablesize, n_tables=4)\n\nfor record in screed.open(\"Homo_sapiens.GRCh38.pep.all.fa.gz\"):\n#     print(record)\n    if '*' in record['sequence']:\n#         notify(\"Stop codon found in seq, skipping\")\n        continue\n    kmers = kmerize(record['sequence'], peptide_ksize)\n    for kmer in kmers:\n        \n        hashed = hash_murmur(kmer)\n        \n        # .add can take the hashed integer so we can hash the peptide kmer and add it directly\n        peptide_graph.add(hashed)        "
    },
    "executionTime": "2019-10-02T04:41:39.090Z"
   },
   {
    "cell": {
     "executionCount": 185,
     "executionEventId": "44b5742e-bf0b-4bc4-a485-bde6fa283ec0",
     "hasError": false,
     "id": "5b4ad75a-8ed3-49bc-abbd-8b49654cb540",
     "outputs": [
      {
       "name": "stdout",
       "output_type": "stream",
       "text": "SRR306838.10559374 Ibis_Run100924_C3PO:6:51:17601:17119/1\nCGCTTGCTTAATACTGACATCAATAATATTAGGAAAATCGCAATATAACTGTAAATCCTGTTCTGTC\n[Seq('RLLNTDINNIRKIAI*L*ILFC', HasStopCodon(ExtendedIUPACProtein(), '*')), Seq('ACLILTSIILGKSQYNCKSCSV', ExtendedIUPACProtein()), Seq('LA*Y*HQ*Y*ENRNITVNPVL', HasStopCodon(ExtendedIUPACProtein(), '*'))]\n[Seq('LSCPKCQYNAKRIIITTVIIRS', ExtendedIUPACProtein()), Seq('CLVLNVNITLKGL**LQS*FVR', HasStopCodon(ExtendedIUPACProtein(), '*')), Seq('VLS*MSI*R*KDYNNYSHNSF', HasStopCodon(ExtendedIUPACProtein(), '*'))]\nSRR306838.6196593 Ibis_Run100924_C3PO:6:29:16733:12435/1\nTCTAGAATGTGAAATAACGTACTTCATGTGTCTTCTTACCAAAAATACCAACGATAAGGGGAAAAGCCATC\n[Seq('SRM*NNVLHVSSYQKYQR*GEKP', HasStopCodon(ExtendedIUPACProtein(), '*')), Seq('LECEITYFMCLLTKNTNDKGKSH', ExtendedIUPACProtein()), Seq('*NVK*RTSCVFLPKIPTIRGKAI', HasStopCodon(ExtendedIUPACProtein(), '*'))]\n[Seq('LPKRGIATIKTILLCTSCNKV*D', HasStopCodon(ExtendedIUPACProtein(), '*')), Seq('YRKGE*QP*KPFFCVLHAIKCKI', HasStopCodon(ExtendedIUPACProtein(), '*')), Seq('TEKGNSNHKNHSSVYFMQ*SVRS', HasStopCodon(ExtendedIUPACProtein(), '*'))]\nSRR306838.20767303 Ibis_Run100924_C3PO:6:104:6864:5062/1\nCAATCATCATCACTTTCTAATTCCAGAATATTTTCATCACCCCAAAAAGAAATCCTAAATCCATTAGC\n[Seq('QSSSLSNSRIFSSPQKEILNPL', ExtendedIUPACProtein()), Seq('NHHHFLIPEYFHHPKKKS*IH*', HasStopCodon(ExtendedIUPACProtein(), '*')), Seq('IIITF*FQNIFITPKRNPKSIS', HasStopCodon(ExtendedIUPACProtein(), '*'))]\n[Seq('RLPKS*RKTPLLL*DLNLSLLL', HasStopCodon(ExtendedIUPACProtein(), '*')), Seq('DYLNPKEKPHYFYKTLIFHYY*', HasStopCodon(ExtendedIUPACProtein(), '*')), Seq('IT*ILKKNPTTFIRP*SFTTTN', HasStopCodon(ExtendedIUPACProtein(), '*'))]\nSRR306838.12582274 Ibis_Run100924_C3PO:6:62:11779:17975/1\nCAAAAGTGAAGACCTCCCTGGGGTCTTCAAAGACAGCCTTTGCTCTCCATGTAGCCAATGGTGCTCT\n[Seq('QK*RPPWGLQRQPLLSM*PMVL', HasStopCodon(ExtendedIUPACProtein(), '*')), Seq('KSEDLPGVFKDSLCSPCSQWCS', ExtendedIUPACProtein()), Seq('KVKTSLGSSKTAFALHVANGA', ExtendedIUPACProtein())]\n[Seq('SRGNRCTSRFRQKLLGSLQK*K', HasStopCodon(ExtendedIUPACProtein(), '*')), Seq('LVVTDVPLVSDRNFWGPSRSEN', ExtendedIUPACProtein()), Seq('SW*PMYLSFPTETSGVPPEVK', HasStopCodon(ExtendedIUPACProtein(), '*'))]\nSRR306838.13334230 Ibis_Run100924_C3PO:6:66:16579:20350/1\nGTAACCCTTAATTCCTCAGAAAAAATAGACAACATAGTGGAGTGGGATGGAGGAAC\n[Seq('VTLNSSEKIDNIVEWDGG', ExtendedIUPACProtein()), Seq('*PLIPQKK*TT*WSGMEE', HasStopCodon(ExtendedIUPACProtein(), '*')), Seq('NP*FLRKNRQHSGVGWRN', HasStopCodon(ExtendedIUPACProtein(), '*'))]\n[Seq('QGGRVR*YNR*KRLLNSQ', HasStopCodon(ExtendedIUPACProtein(), '*')), Seq('KEVG*GDTTDKKDSLIPN', HasStopCodon(ExtendedIUPACProtein(), '*')), Seq('RR*GEVIQQIKKTP*FPM', HasStopCodon(ExtendedIUPACProtein(), '*'))]\n"
      },
      {
       "name": "stderr",
       "output_type": "stream",
       "text": "/home/olga/miniconda3/envs/kmer-hashing/lib/python3.6/site-packages/Bio/Seq.py:2715: BiopythonWarning: Partial codon, len(sequence) not a multiple of three. Explicitly trim the sequence or add trailing N before translation. This may become an error in future.\n  BiopythonWarning)\n"
      }
     ],
     "persistentId": "39699f59-df26-4089-a7b8-519f138c6091",
     "text": "def three_frame_translation(seq):\n    for frame in range(3):\n        translation = seq[frame:].translate()\n        yield translation\n        \ndef three_frame_translation_no_stops(seq):\n    return [t for t in three_frame_translation(seq) if '*' not in t]\n\n\nwith gzip.open('SRR306838_GSM752691_hsa_br_F_1_trimmed_subsampled.fq.gz', 'rt') as f:\n    for i, record in zip(range(5), SeqIO.parse(f, 'fastq')):\n        print(record.description)\n        print(str(record.seq))\n        print(list(three_frame_translation(record.seq)))\n        print(list(three_frame_translation(record.seq[::-1])))"
    },
    "executionTime": "2019-10-02T04:41:39.555Z"
   },
   {
    "cell": {
     "executionCount": 186,
     "executionEventId": "d982833c-3362-4bdd-98c6-8c98674af777",
     "hasError": false,
     "id": "f9672e70-53a4-4b13-aed6-a7aba69d94b9",
     "outputs": [
      {
       "name": "stderr",
       "output_type": "stream",
       "text": "/home/olga/miniconda3/envs/kmer-hashing/lib/python3.6/site-packages/Bio/Seq.py:2715: BiopythonWarning: Partial codon, len(sequence) not a multiple of three. Explicitly trim the sequence or add trailing N before translation. This may become an error in future.\n  BiopythonWarning)\n"
      }
     ],
     "persistentId": "954ef7d8-1e5c-43fa-87bf-0098fd2cd414",
     "text": "classification_lines = []\n\n\ndef six_frame_translation_no_stops(seq):\n    forward_translations = three_frame_translation_no_stops(seq)\n    reverse_translations = three_frame_translation_no_stops(seq.reverse_complement())\n    return forward_translations + reverse_translations\n\nverbose = False\n\nwith gzip.open('SRR306838_GSM752691_hsa_br_F_1_trimmed_subsampled.fq.gz', 'rt') as f:\n    for i, record in zip(range(20), SeqIO.parse(f, 'fastq')):\n        if verbose:\n            print()\n            print(record.description)\n            print(str(record.seq))\n        translations = six_frame_translation_no_stops(record.seq)\n        \n        max_fraction = 0\n        for translation in translations:\n            if verbose:\n                print(f\"\\t{translation}\")\n            kmers = list(set(kmerize(str(translation), peptide_ksize)))\n            hashes = [hash_murmur(kmer) for kmer in kmers]\n            n_kmers = len(kmers)\n            n_kmers_in_peptide_db = sum(1 for h in hashes if peptide_graph.get(h) > 0)\n            kmers_in_peptide_db = {(k, h): peptide_graph.get(h) for k, h in zip(kmers, hashes)}\n            fraction_in_peptide_db = n_kmers_in_peptide_db/n_kmers\n            max_fraction = max(max_fraction, fraction_in_peptide_db)\n            if verbose and fraction_in_peptide_db > 0.9:\n                pprint(kmers_in_peptide_db)\n            if verbose:\n                print(f'n_kmers_in_peptide_db/n_kmers: {n_kmers_in_peptide_db}/{n_kmers} = {fraction_in_peptide_db}')\n        classification_lines.append([record.description, max_fraction])"
    },
    "executionTime": "2019-10-02T04:41:40.229Z"
   },
   {
    "cell": {
     "executionCount": 187,
     "executionEventId": "baedc3ca-0112-4cc4-ab7f-d0af1ccafe89",
     "hasError": false,
     "id": "500f47b6-69ea-4c82-a343-4faacf24e85f",
     "outputs": [
      {
       "name": "stdout",
       "output_type": "stream",
       "text": "(20, 1)\n"
      },
      {
       "data": {
        "text/html": "<div>\n<style scoped>\n    .dataframe tbody tr th:only-of-type {\n        vertical-align: middle;\n    }\n\n    .dataframe tbody tr th {\n        vertical-align: top;\n    }\n\n    .dataframe thead th {\n        text-align: right;\n    }\n</style>\n<table border=\"1\" class=\"dataframe\">\n  <thead>\n    <tr style=\"text-align: right;\">\n      <th></th>\n      <th>max_peptide_coding_kmers</th>\n    </tr>\n    <tr>\n      <th>read_id</th>\n      <th></th>\n    </tr>\n  </thead>\n  <tbody>\n    <tr>\n      <th>SRR306838.10559374 Ibis_Run100924_C3PO:6:51:17601:17119/1</th>\n      <td>1.0</td>\n    </tr>\n    <tr>\n      <th>SRR306838.6196593 Ibis_Run100924_C3PO:6:29:16733:12435/1</th>\n      <td>0.0</td>\n    </tr>\n    <tr>\n      <th>SRR306838.20767303 Ibis_Run100924_C3PO:6:104:6864:5062/1</th>\n      <td>0.0</td>\n    </tr>\n    <tr>\n      <th>SRR306838.12582274 Ibis_Run100924_C3PO:6:62:11779:17975/1</th>\n      <td>0.0</td>\n    </tr>\n    <tr>\n      <th>SRR306838.13334230 Ibis_Run100924_C3PO:6:66:16579:20350/1</th>\n      <td>0.0</td>\n    </tr>\n  </tbody>\n</table>\n</div>",
        "text/plain": "                                                    max_peptide_coding_kmers\nread_id                                                                     \nSRR306838.10559374 Ibis_Run100924_C3PO:6:51:176...                       1.0\nSRR306838.6196593 Ibis_Run100924_C3PO:6:29:1673...                       0.0\nSRR306838.20767303 Ibis_Run100924_C3PO:6:104:68...                       0.0\nSRR306838.12582274 Ibis_Run100924_C3PO:6:62:117...                       0.0\nSRR306838.13334230 Ibis_Run100924_C3PO:6:66:165...                       0.0"
       },
       "execution_count": 187,
       "metadata": {},
       "output_type": "execute_result"
      }
     ],
     "persistentId": "96970676-e85a-49f8-9ec5-dda47db735e1",
     "text": "manual_classification_df = pd.DataFrame(classification_lines, columns=['read_id', 'max_peptide_coding_kmers'])\nmanual_classification_df = manual_classification_df.set_index(\"read_id\")\nprint(manual_classification_df.shape)\nmanual_classification_df.head()"
    },
    "executionTime": "2019-10-02T04:41:40.269Z"
   },
   {
    "cell": {
     "executionCount": 188,
     "executionEventId": "afd454c6-4f50-405e-a269-87c1d89e9096",
     "hasError": false,
     "id": "e749fe98-ff55-41d0-a4e8-c9cc96e960fd",
     "outputs": [
      {
       "name": "stdout",
       "output_type": "stream",
       "text": "(40, 6)\n"
      },
      {
       "data": {
        "text/html": "<div>\n<style scoped>\n    .dataframe tbody tr th:only-of-type {\n        vertical-align: middle;\n    }\n\n    .dataframe tbody tr th {\n        vertical-align: top;\n    }\n\n    .dataframe thead th {\n        text-align: right;\n    }\n</style>\n<table border=\"1\" class=\"dataframe\">\n  <thead>\n    <tr style=\"text-align: right;\">\n      <th></th>\n      <th>sequence</th>\n      <th>compared_to</th>\n      <th>jaccard</th>\n      <th>ksize</th>\n      <th>is_coding</th>\n      <th>Notes</th>\n    </tr>\n    <tr>\n      <th>sequence_id</th>\n      <th></th>\n      <th></th>\n      <th></th>\n      <th></th>\n      <th></th>\n      <th></th>\n    </tr>\n  </thead>\n  <tbody>\n    <tr>\n      <th>SRR306838.10559374 Ibis_Run100924_C3PO:6:51:17601:17119/1</th>\n      <td>CGCTTGCTTAATACTGACATCAATAATATTAGGAAAATCGCAATAT...</td>\n      <td>coding</td>\n      <td>0.037736</td>\n      <td>15</td>\n      <td>True</td>\n      <td>NaN</td>\n    </tr>\n    <tr>\n      <th>SRR306838.10559374 Ibis_Run100924_C3PO:6:51:17601:17119/1</th>\n      <td>CGCTTGCTTAATACTGACATCAATAATATTAGGAAAATCGCAATAT...</td>\n      <td>non_coding</td>\n      <td>0.000000</td>\n      <td>15</td>\n      <td>True</td>\n      <td>NaN</td>\n    </tr>\n    <tr>\n      <th>SRR306838.6196593 Ibis_Run100924_C3PO:6:29:16733:12435/1</th>\n      <td>TCTAGAATGTGAAATAACGTACTTCATGTGTCTTCTTACCAAAAAT...</td>\n      <td>coding</td>\n      <td>0.035088</td>\n      <td>15</td>\n      <td>False</td>\n      <td>NaN</td>\n    </tr>\n    <tr>\n      <th>SRR306838.6196593 Ibis_Run100924_C3PO:6:29:16733:12435/1</th>\n      <td>TCTAGAATGTGAAATAACGTACTTCATGTGTCTTCTTACCAAAAAT...</td>\n      <td>non_coding</td>\n      <td>0.017544</td>\n      <td>15</td>\n      <td>False</td>\n      <td>NaN</td>\n    </tr>\n    <tr>\n      <th>SRR306838.20767303 Ibis_Run100924_C3PO:6:104:6864:5062/1</th>\n      <td>CAATCATCATCACTTTCTAATTCCAGAATATTTTCATCACCCCAAA...</td>\n      <td>coding</td>\n      <td>0.092593</td>\n      <td>15</td>\n      <td>False</td>\n      <td>NaN</td>\n    </tr>\n  </tbody>\n</table>\n</div>",
        "text/plain": "                                                                                             sequence  \\\nsequence_id                                                                                             \nSRR306838.10559374 Ibis_Run100924_C3PO:6:51:176...  CGCTTGCTTAATACTGACATCAATAATATTAGGAAAATCGCAATAT...   \nSRR306838.10559374 Ibis_Run100924_C3PO:6:51:176...  CGCTTGCTTAATACTGACATCAATAATATTAGGAAAATCGCAATAT...   \nSRR306838.6196593 Ibis_Run100924_C3PO:6:29:1673...  TCTAGAATGTGAAATAACGTACTTCATGTGTCTTCTTACCAAAAAT...   \nSRR306838.6196593 Ibis_Run100924_C3PO:6:29:1673...  TCTAGAATGTGAAATAACGTACTTCATGTGTCTTCTTACCAAAAAT...   \nSRR306838.20767303 Ibis_Run100924_C3PO:6:104:68...  CAATCATCATCACTTTCTAATTCCAGAATATTTTCATCACCCCAAA...   \n\n                                                   compared_to   jaccard  \\\nsequence_id                                                                \nSRR306838.10559374 Ibis_Run100924_C3PO:6:51:176...      coding  0.037736   \nSRR306838.10559374 Ibis_Run100924_C3PO:6:51:176...  non_coding  0.000000   \nSRR306838.6196593 Ibis_Run100924_C3PO:6:29:1673...      coding  0.035088   \nSRR306838.6196593 Ibis_Run100924_C3PO:6:29:1673...  non_coding  0.017544   \nSRR306838.20767303 Ibis_Run100924_C3PO:6:104:68...      coding  0.092593   \n\n                                                    ksize  is_coding Notes  \nsequence_id                                                                 \nSRR306838.10559374 Ibis_Run100924_C3PO:6:51:176...     15       True   NaN  \nSRR306838.10559374 Ibis_Run100924_C3PO:6:51:176...     15       True   NaN  \nSRR306838.6196593 Ibis_Run100924_C3PO:6:29:1673...     15      False   NaN  \nSRR306838.6196593 Ibis_Run100924_C3PO:6:29:1673...     15      False   NaN  \nSRR306838.20767303 Ibis_Run100924_C3PO:6:104:68...     15      False   NaN  "
       },
       "execution_count": 188,
       "metadata": {},
       "output_type": "execute_result"
      }
     ],
     "persistentId": "f3c963f2-8657-4743-8cd3-a241b022e120",
     "text": "s = '''sequence_id\tsequence\tcompared_to\tjaccard\tksize\tis_coding\tNotes\nSRR306838.10559374 Ibis_Run100924_C3PO:6:51:17601:17119/1\tCGCTTGCTTAATACTGACATCAATAATATTAGGAAAATCGCAATATAACTGTAAATCCTGTTCTGTC\tcoding\t0.03773584906\t15\tTRUE\t\nSRR306838.10559374 Ibis_Run100924_C3PO:6:51:17601:17119/1\tCGCTTGCTTAATACTGACATCAATAATATTAGGAAAATCGCAATATAACTGTAAATCCTGTTCTGTC\tnon_coding\t0\t15\tTRUE\t\nSRR306838.6196593 Ibis_Run100924_C3PO:6:29:16733:12435/1\tTCTAGAATGTGAAATAACGTACTTCATGTGTCTTCTTACCAAAAATACCAACGATAAGGGGAAAAGCCATC\tcoding\t0.0350877193\t15\tFALSE\t\nSRR306838.6196593 Ibis_Run100924_C3PO:6:29:16733:12435/1\tTCTAGAATGTGAAATAACGTACTTCATGTGTCTTCTTACCAAAAATACCAACGATAAGGGGAAAAGCCATC\tnon_coding\t0.01754385965\t15\tFALSE\t\nSRR306838.20767303 Ibis_Run100924_C3PO:6:104:6864:5062/1\tCAATCATCATCACTTTCTAATTCCAGAATATTTTCATCACCCCAAAAAGAAATCCTAAATCCATTAGC\tcoding\t0.09259259259\t15\tFALSE\t\nSRR306838.20767303 Ibis_Run100924_C3PO:6:104:6864:5062/1\tCAATCATCATCACTTTCTAATTCCAGAATATTTTCATCACCCCAAAAAGAAATCCTAAATCCATTAGC\tnon_coding\t0.4074074074\t15\tFALSE\t\nSRR306838.12582274 Ibis_Run100924_C3PO:6:62:11779:17975/1\tCAAAAGTGAAGACCTCCCTGGGGTCTTCAAAGACAGCCTTTGCTCTCCATGTAGCCAATGGTGCTCT\tcoding\t0.03773584906\t15\tFALSE\t\nSRR306838.12582274 Ibis_Run100924_C3PO:6:62:11779:17975/1\tCAAAAGTGAAGACCTCCCTGGGGTCTTCAAAGACAGCCTTTGCTCTCCATGTAGCCAATGGTGCTCT\tnon_coding\t0.05660377358\t15\tFALSE\t\nSRR306838.13334230 Ibis_Run100924_C3PO:6:66:16579:20350/1\tGTAACCCTTAATTCCTCAGAAAAAATAGACAACATAGTGGAGTGGGATGGAGGAAC\tcoding\t0.04761904762\t15\tFALSE\t\nSRR306838.13334230 Ibis_Run100924_C3PO:6:66:16579:20350/1\tGTAACCCTTAATTCCTCAGAAAAAATAGACAACATAGTGGAGTGGGATGGAGGAAC\tnon_coding\t0.1428571429\t15\tFALSE\t\nSRR306838.2740879 Ibis_Run100924_C3PO:6:13:11155:5248/1\tCTGTGATTATTTTTTTTCCTAGCATTTGTTCTTTCAGAAAAGGACTGAACTCTAAATTCTGGACTTGAAGACTG\tcoding\t0.06666666667\t15\tTRUE\tSecond hit is in LINE element\nSRR306838.2740879 Ibis_Run100924_C3PO:6:13:11155:5248/1\tCTGTGATTATTTTTTTTCCTAGCATTTGTTCTTTCAGAAAAGGACTGAACTCTAAATTCTGGACTTGAAGACTG\tnon_coding\t0.08333333333\t15\tTRUE\tSecond hit is in LINE element\nSRR306838.6813354 Ibis_Run100924_C3PO:6:32:10591:13073/1\tGTTTGATTCTTGACAATTTCTTCTGGAACAAGTCTTTCATATACATTAGACTGGTATCATTGAGTTCTGAGC\tcoding\t0.03448275862\t15\tFALSE\tLots of imperfect matches\nSRR306838.6813354 Ibis_Run100924_C3PO:6:32:10591:13073/1\tGTTTGATTCTTGACAATTTCTTCTGGAACAAGTCTTTCATATACATTAGACTGGTATCATTGAGTTCTGAGC\tnon_coding\t0.08620689655\t15\tFALSE\tLots of imperfect matches\nSRR306838.23113368 Ibis_Run100924_C3PO:6:114:13840:18459/1\tCACAAGGCTAACATACACAATCTGTAACACGAGATGGATAGCACACACATATGACACAATTTC\tcoding\t0\t15\tFALSE\t\nSRR306838.23113368 Ibis_Run100924_C3PO:6:114:13840:18459/1\tCACAAGGCTAACATACACAATCTGTAACACGAGATGGATAGCACACACATATGACACAATTTC\tnon_coding\t0\t15\tFALSE\t\nSRR306838.10872941 Ibis_Run100924_C3PO:6:53:6164:10522/1\tCTGTAGTGTGGTCCATTCCCAGACAGCAACATGCAAGAATAAGTTTACAATACACTCAGCCCTTCTG\tcoding\t0.01886792453\t15\tFALSE\t\nSRR306838.10872941 Ibis_Run100924_C3PO:6:53:6164:10522/1\tCTGTAGTGTGGTCCATTCCCAGACAGCAACATGCAAGAATAAGTTTACAATACACTCAGCCCTTCTG\tnon_coding\t0.01886792453\t15\tFALSE\t\nSRR306838.6192120 Ibis_Run100924_C3PO:6:29:5833:11991/1\tTAGGAAAATAGTAATATTTGCAACTTATGAATGATAAGTCAGAAAAGTTACATGGAATGTTAAATTTT\tcoding\t0.1296296296\t15\tFALSE\t\nSRR306838.6192120 Ibis_Run100924_C3PO:6:29:5833:11991/1\tTAGGAAAATAGTAATATTTGCAACTTATGAATGATAAGTCAGAAAAGTTACATGGAATGTTAAATTTT\tnon_coding\t0.05555555556\t15\tFALSE\t\nSRR306838.21295280 Ibis_Run100924_C3PO:6:106:2590:13965/1\tCTGATAGACTGAAACTGGTTTTGTTATTCTTAACGTTCTCCAGTCTGCACTCTGCTGTGCTGTCTGTGCTC\tcoding\t0.1929824561\t15\tFALSE\t\nSRR306838.21295280 Ibis_Run100924_C3PO:6:106:2590:13965/1\tCTGATAGACTGAAACTGGTTTTGTTATTCTTAACGTTCTCCAGTCTGCACTCTGCTGTGCTGTCTGTGCTC\tnon_coding\t0.0701754386\t15\tFALSE\t\nSRR306838.21201208 Ibis_Run100924_C3PO:6:106:2763:5109/1\tTTAAGTTCTAGTCTGTGAGCACTTGTAGTTCAATAATCGTCATCTTCATCAGAGTCCATTACTTTTCTTCTGTTG\tcoding\t0.1147540984\t15\tFALSE\tstop codon\nSRR306838.21201208 Ibis_Run100924_C3PO:6:106:2763:5109/1\tTTAAGTTCTAGTCTGTGAGCACTTGTAGTTCAATAATCGTCATCTTCATCAGAGTCCATTACTTTTCTTCTGTTG\tnon_coding\t0.06557377049\t15\tFALSE\tstop codon\nSRR306838.18327923 Ibis_Run100924_C3PO:6:92:9077:13885/1\tAAATAAGGTAACATTTAACAATAATCTGATACACATAAATAGAGAAAGAGCAATTGATAAAGTAAATG\tcoding\t0.01851851852\t15\tFALSE\t\nSRR306838.18327923 Ibis_Run100924_C3PO:6:92:9077:13885/1\tAAATAAGGTAACATTTAACAATAATCTGATACACATAAATAGAGAAAGAGCAATTGATAAAGTAAATG\tnon_coding\t0.2222222222\t15\tFALSE\t\nSRR306838.4880582 Ibis_Run100924_C3PO:6:23:17413:5436/1\tCTTGGATCCACCATACTCAAGAGTTATTACACAAAGGGAAACAGAAAATAACCAAATGACATCAGAA\tcoding\t1\t15\tTRUE\t\nSRR306838.4880582 Ibis_Run100924_C3PO:6:23:17413:5436/1\tCTTGGATCCACCATACTCAAGAGTTATTACACAAAGGGAAACAGAAAATAACCAAATGACATCAGAA\tnon_coding\t0.1698113208\t15\tTRUE\t\nSRR306838.21417895 Ibis_Run100924_C3PO:6:107:8793:5012/1\tCCAACACATCCAATTTGTATTTTCTTAAATATGTGTTTCTTAGGTATCTAAGGATACATGAGCGAGCCC\tcoding\t0\t15\tFALSE\t\nSRR306838.21417895 Ibis_Run100924_C3PO:6:107:8793:5012/1\tCCAACACATCCAATTTGTATTTTCTTAAATATGTGTTTCTTAGGTATCTAAGGATACATGAGCGAGCCC\tnon_coding\t0.01818181818\t15\tFALSE\t\nSRR306838.17165743 Ibis_Run100924_C3PO:6:86:18789:18450/1\tATCTCTTGTAATAATTCAACATATTCCCTGGCTATTAACTAATTTCCAAGCCTGAACTGTCA\tcoding\t0.04166666667\t15\tFALSE\t\nSRR306838.17165743 Ibis_Run100924_C3PO:6:86:18789:18450/1\tATCTCTTGTAATAATTCAACATATTCCCTGGCTATTAACTAATTTCCAAGCCTGAACTGTCA\tnon_coding\t0\t15\tFALSE\t\nSRR306838.21229494 Ibis_Run100924_C3PO:6:106:6163:7753/1\tTGAGGCAAACAGCAAGAGTAAGCAGTGTTACTTGCAGGTACTTTGGTTAATGTTGATTTAAATTTTCATG\tcoding\t0\t15\tFALSE\tPerfect match to another location with a DNA element\nSRR306838.21229494 Ibis_Run100924_C3PO:6:106:6163:7753/1\tTGAGGCAAACAGCAAGAGTAAGCAGTGTTACTTGCAGGTACTTTGGTTAATGTTGATTTAAATTTTCATG\tnon_coding\t0.03571428571\t15\tFALSE\t\nSRR306838.21218773 Ibis_Run100924_C3PO:6:106:16921:6743/1\tCAATGCCGTGCCAGTGGAGACTGTTCTCGTATGCC\tcoding\t0.09523809524\t15\tTRUE\tDeinitely coding\nSRR306838.21218773 Ibis_Run100924_C3PO:6:106:16921:6743/1\tCAATGCCGTGCCAGTGGAGACTGTTCTCGTATGCC\tnon_coding\t0\t15\tTRUE\t\nSRR306838.20124664 Ibis_Run100924_C3PO:6:101:4701:5309/1\tCCTATACCTTCTGCATAATGAATTAACTAGAAATAACTTTGCAAGGAGAGCCAAAGCTAAGACCCCCGAAAC\tcoding\t0.01724137931\t15\tFALSE\tDefinitely noncoding\nSRR306838.20124664 Ibis_Run100924_C3PO:6:101:4701:5309/1\tCCTATACCTTCTGCATAATGAATTAACTAGAAATAACTTTGCAAGGAGAGCCAAAGCTAAGACCCCCGAAAC\tnon_coding\t1\t15\tFALSE\tDefinitely noncoding\nSRR306838.16841308 Ibis_Run100924_C3PO:6:85:6205:5805/1\tCAGGAATGAGGCCCCGACTAAAATTCGCTGCAAAAGCCCAAAATCTAGTTAGCATAAATTCCTCAGACATG\tcoding\t0\t15\tFALSE\t\nSRR306838.16841308 Ibis_Run100924_C3PO:6:85:6205:5805/1\tCAGGAATGAGGCCCCGACTAAAATTCGCTGCAAAAGCCCAAAATCTAGTTAGCATAAATTCCTCAGACATG\tnon_coding\t0.0701754386\t15\tFALSE\t'''\nblat_results = pd.read_csv(StringIO(s), sep='\\t', index_col=0)\nprint(blat_results.shape)\nblat_results.head()"
    },
    "executionTime": "2019-10-02T04:41:40.308Z"
   },
   {
    "cell": {
     "executionCount": 189,
     "executionEventId": "58e943d2-c709-4a5e-98c6-d19b9f0e7868",
     "hasError": false,
     "id": "c888f5f5-e10f-41fd-9c44-03caa3959119",
     "outputs": [
      {
       "data": {
        "text/plain": "sequence_id\nSRR306838.10559374 Ibis_Run100924_C3PO:6:51:17601:17119/1     True\nSRR306838.6196593 Ibis_Run100924_C3PO:6:29:16733:12435/1     False\nSRR306838.20767303 Ibis_Run100924_C3PO:6:104:6864:5062/1     False\nSRR306838.12582274 Ibis_Run100924_C3PO:6:62:11779:17975/1    False\nSRR306838.13334230 Ibis_Run100924_C3PO:6:66:16579:20350/1    False\nName: is_coding, dtype: bool"
       },
       "execution_count": 189,
       "metadata": {},
       "output_type": "execute_result"
      }
     ],
     "persistentId": "9fa82db5-58ea-4af3-acad-9097c2aa8bc5",
     "text": "true_coding = blat_results['is_coding']\ntrue_coding = true_coding.loc[~true_coding.index.duplicated()]\ntrue_coding.head()"
    },
    "executionTime": "2019-10-02T04:41:40.341Z"
   },
   {
    "cell": {
     "executionCount": 190,
     "executionEventId": "d532873d-f27e-4542-826f-57d3af43f21a",
     "hasError": false,
     "id": "fc6fc8b0-4648-4058-bc54-0b7db87eac2d",
     "outputs": [
      {
       "name": "stdout",
       "output_type": "stream",
       "text": "(20, 2)\n"
      },
      {
       "data": {
        "text/html": "<div>\n<style scoped>\n    .dataframe tbody tr th:only-of-type {\n        vertical-align: middle;\n    }\n\n    .dataframe tbody tr th {\n        vertical-align: top;\n    }\n\n    .dataframe thead th {\n        text-align: right;\n    }\n</style>\n<table border=\"1\" class=\"dataframe\">\n  <thead>\n    <tr style=\"text-align: right;\">\n      <th></th>\n      <th>max_peptide_coding_kmers</th>\n      <th>is_coding</th>\n    </tr>\n    <tr>\n      <th>read_id</th>\n      <th></th>\n      <th></th>\n    </tr>\n  </thead>\n  <tbody>\n    <tr>\n      <th>SRR306838.10559374 Ibis_Run100924_C3PO:6:51:17601:17119/1</th>\n      <td>1.000000</td>\n      <td>True</td>\n    </tr>\n    <tr>\n      <th>SRR306838.6196593 Ibis_Run100924_C3PO:6:29:16733:12435/1</th>\n      <td>0.000000</td>\n      <td>False</td>\n    </tr>\n    <tr>\n      <th>SRR306838.20767303 Ibis_Run100924_C3PO:6:104:6864:5062/1</th>\n      <td>0.000000</td>\n      <td>False</td>\n    </tr>\n    <tr>\n      <th>SRR306838.12582274 Ibis_Run100924_C3PO:6:62:11779:17975/1</th>\n      <td>0.000000</td>\n      <td>False</td>\n    </tr>\n    <tr>\n      <th>SRR306838.13334230 Ibis_Run100924_C3PO:6:66:16579:20350/1</th>\n      <td>0.000000</td>\n      <td>False</td>\n    </tr>\n    <tr>\n      <th>SRR306838.2740879 Ibis_Run100924_C3PO:6:13:11155:5248/1</th>\n      <td>1.000000</td>\n      <td>True</td>\n    </tr>\n    <tr>\n      <th>SRR306838.6813354 Ibis_Run100924_C3PO:6:32:10591:13073/1</th>\n      <td>0.000000</td>\n      <td>False</td>\n    </tr>\n    <tr>\n      <th>SRR306838.23113368 Ibis_Run100924_C3PO:6:114:13840:18459/1</th>\n      <td>0.000000</td>\n      <td>False</td>\n    </tr>\n    <tr>\n      <th>SRR306838.10872941 Ibis_Run100924_C3PO:6:53:6164:10522/1</th>\n      <td>0.000000</td>\n      <td>False</td>\n    </tr>\n    <tr>\n      <th>SRR306838.6192120 Ibis_Run100924_C3PO:6:29:5833:11991/1</th>\n      <td>0.000000</td>\n      <td>False</td>\n    </tr>\n    <tr>\n      <th>SRR306838.21295280 Ibis_Run100924_C3PO:6:106:2590:13965/1</th>\n      <td>0.000000</td>\n      <td>False</td>\n    </tr>\n    <tr>\n      <th>SRR306838.21201208 Ibis_Run100924_C3PO:6:106:2763:5109/1</th>\n      <td>0.000000</td>\n      <td>False</td>\n    </tr>\n    <tr>\n      <th>SRR306838.18327923 Ibis_Run100924_C3PO:6:92:9077:13885/1</th>\n      <td>0.000000</td>\n      <td>False</td>\n    </tr>\n    <tr>\n      <th>SRR306838.4880582 Ibis_Run100924_C3PO:6:23:17413:5436/1</th>\n      <td>1.000000</td>\n      <td>True</td>\n    </tr>\n    <tr>\n      <th>SRR306838.21417895 Ibis_Run100924_C3PO:6:107:8793:5012/1</th>\n      <td>0.000000</td>\n      <td>False</td>\n    </tr>\n    <tr>\n      <th>SRR306838.17165743 Ibis_Run100924_C3PO:6:86:18789:18450/1</th>\n      <td>0.000000</td>\n      <td>False</td>\n    </tr>\n    <tr>\n      <th>SRR306838.21229494 Ibis_Run100924_C3PO:6:106:6163:7753/1</th>\n      <td>0.000000</td>\n      <td>False</td>\n    </tr>\n    <tr>\n      <th>SRR306838.21218773 Ibis_Run100924_C3PO:6:106:16921:6743/1</th>\n      <td>0.750000</td>\n      <td>True</td>\n    </tr>\n    <tr>\n      <th>SRR306838.20124664 Ibis_Run100924_C3PO:6:101:4701:5309/1</th>\n      <td>0.117647</td>\n      <td>False</td>\n    </tr>\n    <tr>\n      <th>SRR306838.16841308 Ibis_Run100924_C3PO:6:85:6205:5805/1</th>\n      <td>0.000000</td>\n      <td>False</td>\n    </tr>\n  </tbody>\n</table>\n</div>",
        "text/plain": "                                                    max_peptide_coding_kmers  \\\nread_id                                                                        \nSRR306838.10559374 Ibis_Run100924_C3PO:6:51:176...                  1.000000   \nSRR306838.6196593 Ibis_Run100924_C3PO:6:29:1673...                  0.000000   \nSRR306838.20767303 Ibis_Run100924_C3PO:6:104:68...                  0.000000   \nSRR306838.12582274 Ibis_Run100924_C3PO:6:62:117...                  0.000000   \nSRR306838.13334230 Ibis_Run100924_C3PO:6:66:165...                  0.000000   \nSRR306838.2740879 Ibis_Run100924_C3PO:6:13:1115...                  1.000000   \nSRR306838.6813354 Ibis_Run100924_C3PO:6:32:1059...                  0.000000   \nSRR306838.23113368 Ibis_Run100924_C3PO:6:114:13...                  0.000000   \nSRR306838.10872941 Ibis_Run100924_C3PO:6:53:616...                  0.000000   \nSRR306838.6192120 Ibis_Run100924_C3PO:6:29:5833...                  0.000000   \nSRR306838.21295280 Ibis_Run100924_C3PO:6:106:25...                  0.000000   \nSRR306838.21201208 Ibis_Run100924_C3PO:6:106:27...                  0.000000   \nSRR306838.18327923 Ibis_Run100924_C3PO:6:92:907...                  0.000000   \nSRR306838.4880582 Ibis_Run100924_C3PO:6:23:1741...                  1.000000   \nSRR306838.21417895 Ibis_Run100924_C3PO:6:107:87...                  0.000000   \nSRR306838.17165743 Ibis_Run100924_C3PO:6:86:187...                  0.000000   \nSRR306838.21229494 Ibis_Run100924_C3PO:6:106:61...                  0.000000   \nSRR306838.21218773 Ibis_Run100924_C3PO:6:106:16...                  0.750000   \nSRR306838.20124664 Ibis_Run100924_C3PO:6:101:47...                  0.117647   \nSRR306838.16841308 Ibis_Run100924_C3PO:6:85:620...                  0.000000   \n\n                                                    is_coding  \nread_id                                                        \nSRR306838.10559374 Ibis_Run100924_C3PO:6:51:176...       True  \nSRR306838.6196593 Ibis_Run100924_C3PO:6:29:1673...      False  \nSRR306838.20767303 Ibis_Run100924_C3PO:6:104:68...      False  \nSRR306838.12582274 Ibis_Run100924_C3PO:6:62:117...      False  \nSRR306838.13334230 Ibis_Run100924_C3PO:6:66:165...      False  \nSRR306838.2740879 Ibis_Run100924_C3PO:6:13:1115...       True  \nSRR306838.6813354 Ibis_Run100924_C3PO:6:32:1059...      False  \nSRR306838.23113368 Ibis_Run100924_C3PO:6:114:13...      False  \nSRR306838.10872941 Ibis_Run100924_C3PO:6:53:616...      False  \nSRR306838.6192120 Ibis_Run100924_C3PO:6:29:5833...      False  \nSRR306838.21295280 Ibis_Run100924_C3PO:6:106:25...      False  \nSRR306838.21201208 Ibis_Run100924_C3PO:6:106:27...      False  \nSRR306838.18327923 Ibis_Run100924_C3PO:6:92:907...      False  \nSRR306838.4880582 Ibis_Run100924_C3PO:6:23:1741...       True  \nSRR306838.21417895 Ibis_Run100924_C3PO:6:107:87...      False  \nSRR306838.17165743 Ibis_Run100924_C3PO:6:86:187...      False  \nSRR306838.21229494 Ibis_Run100924_C3PO:6:106:61...      False  \nSRR306838.21218773 Ibis_Run100924_C3PO:6:106:16...       True  \nSRR306838.20124664 Ibis_Run100924_C3PO:6:101:47...      False  \nSRR306838.16841308 Ibis_Run100924_C3PO:6:85:620...      False  "
       },
       "execution_count": 190,
       "metadata": {},
       "output_type": "execute_result"
      }
     ],
     "persistentId": "6b55768a-f285-4a67-ab1a-cb748e428978",
     "text": "manual_classification_df['is_coding'] = true_coding\nprint(manual_classification_df.shape)\nmanual_classification_df"
    },
    "executionTime": "2019-10-02T04:41:40.360Z"
   },
   {
    "cell": {
     "executionCount": 191,
     "executionEventId": "02b8a0a0-261d-43ef-90e5-bf7e6b246fc6",
     "hasError": false,
     "id": "5e5e73c5-b403-4a35-bd7b-5505f7c66c14",
     "outputs": [
      {
       "data": {
        "text/plain": "[<matplotlib.lines.Line2D at 0x7fe2646ef160>]"
       },
       "execution_count": 191,
       "metadata": {},
       "output_type": "execute_result"
      },
      {
       "data": {
        "image/png": "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\n",
        "text/plain": "<Figure size 432x288 with 1 Axes>"
       },
       "metadata": {
        "needs_background": "light"
       },
       "output_type": "display_data"
      }
     ],
     "persistentId": "7fb00c6a-626e-457d-8273-e2b7ed8e545e",
     "text": "fpr, tpr, thresholds = metrics.roc_curve(manual_classification_df['is_coding'], manual_classification_df['max_peptide_coding_kmers'])\n\nfig, ax = plt.subplots()\nlw = 2\nax.plot(fpr, tpr, lw=2, color='darkorange')\nax.plot([0, 1], [0, 1], color='navy', lw=lw, linestyle='--')"
    },
    "executionTime": "2019-10-02T04:41:40.389Z"
   },
   {
    "cell": {
     "executionCount": 192,
     "executionEventId": "c3bd6e2d-c35d-4d57-b50b-913f597d8bff",
     "hasError": false,
     "id": "ca34b151-62ad-4749-8c1d-8d923cde32f5",
     "outputs": [
      {
       "data": {
        "text/plain": "{('ANFSRGLI', 15040175760667109672): 0,\n ('MSEEFMLT', 17607182325555023144): 0,\n ('WAFAANFS', 16272877069838430914): 0,\n ('AANFSRGL', 18209178443908359663): 0,\n ('EEFMLTRF', 9032504899047584612): 0,\n ('EFMLTRFW', 12534489556274506410): 0,\n ('SEEFMLTR', 10452232821964797997): 0,\n ('MLTRFWAF', 901256750823220125): 0,\n ('FMLTRFWA', 9590513825324852971): 0,\n ('FWAFAANF', 3710926535733135257): 0,\n ('FAANFSRG', 1780676715734900490): 0,\n ('NFSRGLIP', 4609009253887348644): 0,\n ('RFWAFAAN', 633971603093837264): 0,\n ('AFAANFSR', 9067658197041796481): 0,\n ('LTRFWAFA', 13305672547654825831): 0,\n ('TRFWAFAA', 8728285881285544224): 0}"
       },
       "execution_count": 192,
       "metadata": {},
       "output_type": "execute_result"
      }
     ],
     "persistentId": "74df75ff-6eec-4174-b8a5-b521a78c903e",
     "text": "kmers_in_peptide_db"
    },
    "executionTime": "2019-10-02T04:41:40.416Z"
   },
   {
    "cell": {
     "executionCount": 193,
     "executionEventId": "5fc046de-c4ac-4faf-ad02-831b3a9e37ca",
     "hasError": false,
     "id": "a32216de-605f-4821-becb-bdef9e097332",
     "outputs": [
      {
       "data": {
        "text/plain": "Seq('CATGTCTGAGGAATTTATGCTAACTAGATTTTGGGCTTTTGCAGCGAATTTTAG...CTG', SingleLetterAlphabet())"
       },
       "execution_count": 193,
       "metadata": {},
       "output_type": "execute_result"
      }
     ],
     "persistentId": "e9c939ed-e704-4d0c-96ba-0a78453670b7",
     "text": "record.seq.reverse_complement()"
    },
    "executionTime": "2019-10-02T04:41:40.446Z"
   },
   {
    "cell": {
     "executionCount": 194,
     "executionEventId": "af6cadfe-36b5-4dff-8538-f203c90161da",
     "hasError": false,
     "id": "9760c5c5-b652-40d9-8826-e319c2367009",
     "outputs": [
      {
       "name": "stderr",
       "output_type": "stream",
       "text": "/home/olga/miniconda3/envs/kmer-hashing/lib/python3.6/site-packages/Bio/Seq.py:2715: BiopythonWarning: Partial codon, len(sequence) not a multiple of three. Explicitly trim the sequence or add trailing N before translation. This may become an error in future.\n  BiopythonWarning)\n"
      }
     ],
     "persistentId": "51192b86-d752-4730-a0aa-2ea23495690e",
     "text": "classification_lines = []\n\n\nscoring_lines = []\n\ndef six_frame_translation_no_stops(seq):\n    forward_translations = three_frame_translation_no_stops(seq)\n    reverse_translations = three_frame_translation_no_stops(seq.reverse_complement())\n    return forward_translations + reverse_translations\n\nverbose = False\n\nwith gzip.open('SRR306838_GSM752691_hsa_br_F_1_trimmed.fq.gz', 'rt') as f:\n    for record in SeqIO.parse(f, 'fastq'):\n        if verbose:\n            print()\n            print(record.description)\n            print(str(record.seq))\n        translations = six_frame_translation_no_stops(record.seq)\n        \n        max_fraction = 0\n        for translation in translations:\n            if len(translation) < peptide_ksize:\n                continue\n            if verbose:\n                print(f\"\\t{translation}\")\n            kmers = list(set(kmerize(str(translation), peptide_ksize)))\n            hashes = [hash_murmur(kmer) for kmer in kmers]\n            n_kmers = len(kmers)\n            n_kmers_in_peptide_db = sum(1 for h in hashes if peptide_graph.get(h) > 0)\n            if n_kmers < (len(translation) - peptide_ksize + 1)/2:\n                if verbose:\n                    print(f'Low complexity sequence!!! n_kmers < (len(read.seq) - ksize + 1)/2  --> {n_kmers} < {(len(record.seq) - ksize + 1)/2}')\n                    print(record.description)\n                    print(record.seq)\n                classification_lines.append([record.description, 'low complexity'])\n                continue\n            \n            kmers_in_peptide_db = {(k, h): peptide_graph.get(h) for k, h in zip(kmers, hashes)}\n            fraction_in_peptide_db = n_kmers_in_peptide_db/n_kmers\n            max_fraction = max(max_fraction, fraction_in_peptide_db)\n            if fraction_in_peptide_db > 0.9:\n                classification_lines.append([record.description, 'coding'])\n            else:\n                classification_lines.append([record.description, 'non-coding'])\n            if verbose:\n                pprint(kmers_in_peptide_db)\n                print(f'n_kmers_in_peptide_db/n_kmers: {n_kmers_in_peptide_db}/{n_kmers} = {fraction_in_peptide_db}')\n        scoring_lines.append([record.description, max_fraction])"
    },
    "executionTime": "2019-10-02T04:46:22.364Z"
   },
   {
    "cell": {
     "executionCount": 195,
     "executionEventId": "fdbb4845-308b-4443-87b9-195011538da7",
     "hasError": false,
     "id": "59e5d363-7f59-474e-96f0-7c422f642805",
     "outputs": [
      {
       "name": "stdout",
       "output_type": "stream",
       "text": "(1647022, 2)\n"
      },
      {
       "data": {
        "text/html": "<div>\n<style scoped>\n    .dataframe tbody tr th:only-of-type {\n        vertical-align: middle;\n    }\n\n    .dataframe tbody tr th {\n        vertical-align: top;\n    }\n\n    .dataframe thead th {\n        text-align: right;\n    }\n</style>\n<table border=\"1\" class=\"dataframe\">\n  <thead>\n    <tr style=\"text-align: right;\">\n      <th></th>\n      <th>read_id</th>\n      <th>classification</th>\n    </tr>\n  </thead>\n  <tbody>\n    <tr>\n      <th>0</th>\n      <td>SRR306838.1531 Ibis_Run100924_C3PO:6:1:15718:1...</td>\n      <td>low complexity</td>\n    </tr>\n    <tr>\n      <th>1</th>\n      <td>SRR306838.1531 Ibis_Run100924_C3PO:6:1:15718:1...</td>\n      <td>low complexity</td>\n    </tr>\n    <tr>\n      <th>2</th>\n      <td>SRR306838.1531 Ibis_Run100924_C3PO:6:1:15718:1...</td>\n      <td>low complexity</td>\n    </tr>\n    <tr>\n      <th>3</th>\n      <td>SRR306838.1531 Ibis_Run100924_C3PO:6:1:15718:1...</td>\n      <td>low complexity</td>\n    </tr>\n    <tr>\n      <th>4</th>\n      <td>SRR306838.1531 Ibis_Run100924_C3PO:6:1:15718:1...</td>\n      <td>low complexity</td>\n    </tr>\n  </tbody>\n</table>\n</div>",
        "text/plain": "                                             read_id  classification\n0  SRR306838.1531 Ibis_Run100924_C3PO:6:1:15718:1...  low complexity\n1  SRR306838.1531 Ibis_Run100924_C3PO:6:1:15718:1...  low complexity\n2  SRR306838.1531 Ibis_Run100924_C3PO:6:1:15718:1...  low complexity\n3  SRR306838.1531 Ibis_Run100924_C3PO:6:1:15718:1...  low complexity\n4  SRR306838.1531 Ibis_Run100924_C3PO:6:1:15718:1...  low complexity"
       },
       "execution_count": 195,
       "metadata": {},
       "output_type": "execute_result"
      }
     ],
     "persistentId": "4867773c-beed-40bb-95cf-584bc0db9e00",
     "text": "classification_df = pd.DataFrame(classification_lines, columns=['read_id', 'classification'])\nprint(classification_df.shape)\nclassification_df.head()"
    },
    "executionTime": "2019-10-02T04:46:22.440Z"
   },
   {
    "cell": {
     "executionCount": 196,
     "executionEventId": "7124e97c-07cb-4980-bd47-88d2bae27dd3",
     "hasError": false,
     "id": "f1df3432-a90c-4b6a-a55f-eaa937c1d6aa",
     "outputs": [
      {
       "name": "stdout",
       "output_type": "stream",
       "text": "(795517, 2)\n"
      },
      {
       "data": {
        "text/html": "<div>\n<style scoped>\n    .dataframe tbody tr th:only-of-type {\n        vertical-align: middle;\n    }\n\n    .dataframe tbody tr th {\n        vertical-align: top;\n    }\n\n    .dataframe thead th {\n        text-align: right;\n    }\n</style>\n<table border=\"1\" class=\"dataframe\">\n  <thead>\n    <tr style=\"text-align: right;\">\n      <th></th>\n      <th>read_id</th>\n      <th>coding_score</th>\n    </tr>\n  </thead>\n  <tbody>\n    <tr>\n      <th>0</th>\n      <td>SRR306838.1531 Ibis_Run100924_C3PO:6:1:15718:1...</td>\n      <td>0.000000</td>\n    </tr>\n    <tr>\n      <th>1</th>\n      <td>SRR306838.1617 Ibis_Run100924_C3PO:6:1:9036:10...</td>\n      <td>0.000000</td>\n    </tr>\n    <tr>\n      <th>2</th>\n      <td>SRR306838.1672 Ibis_Run100924_C3PO:6:1:15751:1...</td>\n      <td>0.000000</td>\n    </tr>\n    <tr>\n      <th>3</th>\n      <td>SRR306838.1938 Ibis_Run100924_C3PO:6:1:15775:1...</td>\n      <td>0.000000</td>\n    </tr>\n    <tr>\n      <th>4</th>\n      <td>SRR306838.2318 Ibis_Run100924_C3PO:6:1:15779:1...</td>\n      <td>0.411765</td>\n    </tr>\n  </tbody>\n</table>\n</div>",
        "text/plain": "                                             read_id  coding_score\n0  SRR306838.1531 Ibis_Run100924_C3PO:6:1:15718:1...      0.000000\n1  SRR306838.1617 Ibis_Run100924_C3PO:6:1:9036:10...      0.000000\n2  SRR306838.1672 Ibis_Run100924_C3PO:6:1:15751:1...      0.000000\n3  SRR306838.1938 Ibis_Run100924_C3PO:6:1:15775:1...      0.000000\n4  SRR306838.2318 Ibis_Run100924_C3PO:6:1:15779:1...      0.411765"
       },
       "execution_count": 196,
       "metadata": {},
       "output_type": "execute_result"
      }
     ],
     "persistentId": "607b9ea5-7fb0-465d-b7f8-05b402f0b361",
     "text": "score_df = pd.DataFrame(scoring_lines, columns=['read_id', 'coding_score'])\nprint(score_df.shape)\nscore_df.head()"
    },
    "executionTime": "2019-10-02T04:46:22.600Z"
   },
   {
    "cell": {
     "executionCount": 197,
     "executionEventId": "1875b331-069e-4b3d-b512-f207ae6074d0",
     "hasError": false,
     "id": "03ac3fd7-9034-486e-b599-ae83740f1d57",
     "outputs": [
      {
       "name": "stdout",
       "output_type": "stream",
       "text": "total 358M\ndrwxrwxr-x 2 olga olga 4.0K Sep 18 10:15 .\ndrwxrwxr-x 3 olga olga 4.0K Sep 10 15:07 ..\n-rw-rw-r-- 1 olga olga  52M Sep 18 10:05 SRR306838_GSM752691_hsa_br_F_1Aligned.sortedByCoord.out.bam.unspliced.bam\n-rw-rw-r-- 1 olga olga 2.9M Sep 18 10:12 SRR306838_GSM752691_hsa_br_F_1Aligned.sortedByCoord.out.bam.unspliced.bam.bai\n-rw-rw-r-- 1 olga olga 9.3M Sep 18 10:12 SRR306838_GSM752691_hsa_br_F_1Aligned.sortedByCoord.out.bam.unspliced.out_CDS_without_stop_codon_or_utr.bam\n-rw-rw-r-- 1 olga olga 1.9M Sep 18 10:12 SRR306838_GSM752691_hsa_br_F_1Aligned.sortedByCoord.out.bam.unspliced.out_CDS_without_stop_codon_or_utr.bam.bai\n-rw-rw-r-- 1 olga olga 2.8M Sep 18 10:14 SRR306838_GSM752691_hsa_br_F_1Aligned.sortedByCoord.out.bam.unspliced.out_CDS_without_stop_codon_or_utr.read_ids.txt\n-rw-rw-r-- 1 olga olga  15M Sep 18 10:15 SRR306838_GSM752691_hsa_br_F_1Aligned.sortedByCoord.out.bam.unspliced.read_ids.txt\n-rw-rw-r-- 1 olga olga  15M Sep 10 15:55 SRR306838_GSM752691_hsa_br_F_1Aligned.sortedByCoord.out_CDS_without_stop_codon.bam\n-rw-rw-r-- 1 olga olga 1.7M Sep 18 07:05 SRR306838_GSM752691_hsa_br_F_1Aligned.sortedByCoord.out_CDS_without_stop_codon.bam.bai\n-rw-rw-r-- 1 olga olga  15M Sep 18 07:15 SRR306838_GSM752691_hsa_br_F_1Aligned.sortedByCoord.out_CDS_without_stop_codon_or_utr.bam\n-rw-rw-r-- 1 olga olga 1.7M Sep 18 07:06 SRR306838_GSM752691_hsa_br_F_1Aligned.sortedByCoord.out_CDS_without_stop_codon_or_utr.bam.bai\n-rw-rw-r-- 1 olga olga 2.8M Sep 18 10:14 SRR306838_GSM752691_hsa_br_F_1Aligned.sortedByCoord.out_CDS_without_stop_codon_or_utr.read_ids.txt\n-rw-rw-r-- 1 olga olga 4.1M Sep 10 15:56 SRR306838_GSM752691_hsa_br_F_1Aligned.sortedByCoord.out_CDS_without_stop_codon.read_ids.txt\n-rw-r--r-- 1 olga olga 235M Sep 10 15:10 SRR306838_GSM752691_hsa_br_F_1_trimmed_k15.tsv\n(151869,)\n(807698,)\n"
      }
     ],
     "persistentId": "40e38758-05d9-498d-8219-f998a0f1ea43",
     "text": "folder = '/home/olga/data_sm/kmer-hashing/brawand2011/human/'\n! ls -lha $folder\n\ncoding_read_ids = pd.read_csv(f\"{folder}/SRR306838_GSM752691_hsa_br_F_1Aligned.sortedByCoord.out.bam.unspliced.out_CDS_without_stop_codon_or_utr.read_ids.txt\", \n                                   header=None, squeeze=True)\nprint(coding_read_ids.shape)\ncoding_read_ids.head()\n\ntrue_coding_read_ids = set(coding_read_ids.values)\nlen(true_coding_read_ids)\n\nunspliced_read_ids_series = pd.read_csv(f\"{folder}/SRR306838_GSM752691_hsa_br_F_1Aligned.sortedByCoord.out.bam.unspliced.read_ids.txt\", \n                                   header=None, squeeze=True)\nprint(unspliced_read_ids_series.shape)\nunspliced_read_ids_series.head()\n\nunspliced_reads = set(unspliced_read_ids_series.values)"
    },
    "executionTime": "2019-10-02T04:46:24.069Z"
   },
   {
    "cell": {
     "executionCount": 198,
     "executionEventId": "181ea263-5299-432f-9163-65ad8ab77f58",
     "hasError": false,
     "id": "bea71376-d803-41f0-956b-2272fcd1c25b",
     "outputs": [],
     "persistentId": "00bc39d3-aad4-4160-8447-72190215a6b7",
     "text": "def subset_to_spliced_and_add_coding_classification(full_classification, unspliced_reads, true_coding_reads, read_id_col='read_id'):\n    full_classification['short_sequence_id'] = full_classification[read_id_col].str.split().str[0]\n\n    full_classification_unspliced = full_classification.query(\"short_sequence_id in @unspliced_reads\")\n\n    full_classification_unspliced['is_coding'] = full_classification_unspliced.short_sequence_id.isin(true_coding_reads)\n    return full_classification_unspliced"
    },
    "executionTime": "2019-10-02T04:46:24.114Z"
   },
   {
    "cell": {
     "executionCount": 199,
     "executionEventId": "a7d37ffc-7ccd-4b32-aeaa-c99531dab2ea",
     "hasError": false,
     "id": "24e9166f-a7d0-4358-9f6c-4e7791983b89",
     "outputs": [
      {
       "name": "stdout",
       "output_type": "stream",
       "text": "(681473, 4)\n"
      },
      {
       "name": "stderr",
       "output_type": "stream",
       "text": "/home/olga/miniconda3/envs/kmer-hashing/lib/python3.6/site-packages/ipykernel_launcher.py:6: SettingWithCopyWarning: \nA value is trying to be set on a copy of a slice from a DataFrame.\nTry using .loc[row_indexer,col_indexer] = value instead\n\nSee the caveats in the documentation: http://pandas.pydata.org/pandas-docs/stable/indexing.html#indexing-view-versus-copy\n  \n"
      },
      {
       "data": {
        "text/html": "<div>\n<style scoped>\n    .dataframe tbody tr th:only-of-type {\n        vertical-align: middle;\n    }\n\n    .dataframe tbody tr th {\n        vertical-align: top;\n    }\n\n    .dataframe thead th {\n        text-align: right;\n    }\n</style>\n<table border=\"1\" class=\"dataframe\">\n  <thead>\n    <tr style=\"text-align: right;\">\n      <th></th>\n      <th>read_id</th>\n      <th>coding_score</th>\n      <th>short_sequence_id</th>\n      <th>is_coding</th>\n    </tr>\n  </thead>\n  <tbody>\n    <tr>\n      <th>1</th>\n      <td>SRR306838.1617 Ibis_Run100924_C3PO:6:1:9036:10...</td>\n      <td>0.0</td>\n      <td>SRR306838.1617</td>\n      <td>False</td>\n    </tr>\n    <tr>\n      <th>2</th>\n      <td>SRR306838.1672 Ibis_Run100924_C3PO:6:1:15751:1...</td>\n      <td>0.0</td>\n      <td>SRR306838.1672</td>\n      <td>False</td>\n    </tr>\n    <tr>\n      <th>3</th>\n      <td>SRR306838.1938 Ibis_Run100924_C3PO:6:1:15775:1...</td>\n      <td>0.0</td>\n      <td>SRR306838.1938</td>\n      <td>False</td>\n    </tr>\n    <tr>\n      <th>6</th>\n      <td>SRR306838.2593 Ibis_Run100924_C3PO:6:1:15794:1...</td>\n      <td>0.0</td>\n      <td>SRR306838.2593</td>\n      <td>False</td>\n    </tr>\n    <tr>\n      <th>8</th>\n      <td>SRR306838.3394 Ibis_Run100924_C3PO:6:1:15750:1...</td>\n      <td>0.0</td>\n      <td>SRR306838.3394</td>\n      <td>False</td>\n    </tr>\n  </tbody>\n</table>\n</div>",
        "text/plain": "                                             read_id  coding_score  \\\n1  SRR306838.1617 Ibis_Run100924_C3PO:6:1:9036:10...           0.0   \n2  SRR306838.1672 Ibis_Run100924_C3PO:6:1:15751:1...           0.0   \n3  SRR306838.1938 Ibis_Run100924_C3PO:6:1:15775:1...           0.0   \n6  SRR306838.2593 Ibis_Run100924_C3PO:6:1:15794:1...           0.0   \n8  SRR306838.3394 Ibis_Run100924_C3PO:6:1:15750:1...           0.0   \n\n  short_sequence_id  is_coding  \n1    SRR306838.1617      False  \n2    SRR306838.1672      False  \n3    SRR306838.1938      False  \n6    SRR306838.2593      False  \n8    SRR306838.3394      False  "
       },
       "execution_count": 199,
       "metadata": {},
       "output_type": "execute_result"
      }
     ],
     "persistentId": "4de7dc6b-27b1-490c-b738-130f6968dc24",
     "text": "score_df_unspliced = subset_to_spliced_and_add_coding_classification(score_df, unspliced_reads, true_coding_read_ids)\nprint(score_df_unspliced.shape)\nscore_df_unspliced.head()"
    },
    "executionTime": "2019-10-02T04:46:27.046Z"
   },
   {
    "cell": {
     "executionCount": 200,
     "executionEventId": "3e1910e1-b9f0-4b71-8c5a-37631f234cae",
     "hasError": false,
     "id": "e4b22654-b0bd-423a-ac74-102ebce63440",
     "outputs": [
      {
       "name": "stdout",
       "output_type": "stream",
       "text": "(1346763, 4)\n"
      },
      {
       "name": "stderr",
       "output_type": "stream",
       "text": "/home/olga/miniconda3/envs/kmer-hashing/lib/python3.6/site-packages/ipykernel_launcher.py:6: SettingWithCopyWarning: \nA value is trying to be set on a copy of a slice from a DataFrame.\nTry using .loc[row_indexer,col_indexer] = value instead\n\nSee the caveats in the documentation: http://pandas.pydata.org/pandas-docs/stable/indexing.html#indexing-view-versus-copy\n  \n"
      },
      {
       "data": {
        "text/html": "<div>\n<style scoped>\n    .dataframe tbody tr th:only-of-type {\n        vertical-align: middle;\n    }\n\n    .dataframe tbody tr th {\n        vertical-align: top;\n    }\n\n    .dataframe thead th {\n        text-align: right;\n    }\n</style>\n<table border=\"1\" class=\"dataframe\">\n  <thead>\n    <tr style=\"text-align: right;\">\n      <th></th>\n      <th>read_id</th>\n      <th>classification</th>\n      <th>short_sequence_id</th>\n      <th>is_coding</th>\n    </tr>\n  </thead>\n  <tbody>\n    <tr>\n      <th>6</th>\n      <td>SRR306838.1672 Ibis_Run100924_C3PO:6:1:15751:1...</td>\n      <td>low complexity</td>\n      <td>SRR306838.1672</td>\n      <td>False</td>\n    </tr>\n    <tr>\n      <th>7</th>\n      <td>SRR306838.1672 Ibis_Run100924_C3PO:6:1:15751:1...</td>\n      <td>low complexity</td>\n      <td>SRR306838.1672</td>\n      <td>False</td>\n    </tr>\n    <tr>\n      <th>8</th>\n      <td>SRR306838.1672 Ibis_Run100924_C3PO:6:1:15751:1...</td>\n      <td>low complexity</td>\n      <td>SRR306838.1672</td>\n      <td>False</td>\n    </tr>\n    <tr>\n      <th>9</th>\n      <td>SRR306838.1672 Ibis_Run100924_C3PO:6:1:15751:1...</td>\n      <td>low complexity</td>\n      <td>SRR306838.1672</td>\n      <td>False</td>\n    </tr>\n    <tr>\n      <th>10</th>\n      <td>SRR306838.1672 Ibis_Run100924_C3PO:6:1:15751:1...</td>\n      <td>low complexity</td>\n      <td>SRR306838.1672</td>\n      <td>False</td>\n    </tr>\n  </tbody>\n</table>\n</div>",
        "text/plain": "                                              read_id  classification  \\\n6   SRR306838.1672 Ibis_Run100924_C3PO:6:1:15751:1...  low complexity   \n7   SRR306838.1672 Ibis_Run100924_C3PO:6:1:15751:1...  low complexity   \n8   SRR306838.1672 Ibis_Run100924_C3PO:6:1:15751:1...  low complexity   \n9   SRR306838.1672 Ibis_Run100924_C3PO:6:1:15751:1...  low complexity   \n10  SRR306838.1672 Ibis_Run100924_C3PO:6:1:15751:1...  low complexity   \n\n   short_sequence_id  is_coding  \n6     SRR306838.1672      False  \n7     SRR306838.1672      False  \n8     SRR306838.1672      False  \n9     SRR306838.1672      False  \n10    SRR306838.1672      False  "
       },
       "execution_count": 200,
       "metadata": {},
       "output_type": "execute_result"
      }
     ],
     "persistentId": "e43d2912-032a-4590-8d8f-5e607ecb2fe1",
     "text": "classification_df_unspliced = subset_to_spliced_and_add_coding_classification(classification_df, unspliced_reads, true_coding_read_ids)\nprint(classification_df_unspliced.shape)\nclassification_df_unspliced.head()"
    },
    "executionTime": "2019-10-02T04:46:31.961Z"
   },
   {
    "cell": {
     "executionCount": 201,
     "executionEventId": "5127a45f-e199-4f72-b8c7-8b4cc6683a6a",
     "hasError": false,
     "id": "0a398a11-36bd-4013-a364-fcf596a1d447",
     "outputs": [
      {
       "data": {
        "text/plain": "[<matplotlib.lines.Line2D at 0x7fe2646fbd68>]"
       },
       "execution_count": 201,
       "metadata": {},
       "output_type": "execute_result"
      },
      {
       "data": {
        "image/png": "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\n",
        "text/plain": "<Figure size 432x288 with 1 Axes>"
       },
       "metadata": {
        "needs_background": "light"
       },
       "output_type": "display_data"
      }
     ],
     "persistentId": "b03ad7b1-e231-450c-86db-3a787ae2b276",
     "text": "fpr, tpr, thresholds = metrics.roc_curve(score_df_unspliced['is_coding'], score_df_unspliced['coding_score'])\n\nfig, ax = plt.subplots()\nlw = 2\nax.plot(fpr, tpr, lw=2, color='darkorange')\nax.plot([0, 1], [0, 1], color='navy', lw=lw, linestyle='--')"
    },
    "executionTime": "2019-10-02T04:46:31.991Z"
   },
   {
    "cell": {
     "executionCount": 202,
     "executionEventId": "df967d34-06df-4a9a-ad26-4ff7e05f785a",
     "hasError": false,
     "id": "7e024182-1d54-4404-a4c8-9d8280ede845",
     "outputs": [
      {
       "data": {
        "text/plain": "0.8331288132986212"
       },
       "execution_count": 202,
       "metadata": {},
       "output_type": "execute_result"
      }
     ],
     "persistentId": "6d411b3f-fa00-40f2-8e9b-391e0d57dab5",
     "text": "metrics.roc_auc_score(score_df_unspliced['is_coding'], score_df_unspliced['coding_score'])"
    },
    "executionTime": "2019-10-02T04:46:32.018Z"
   },
   {
    "cell": {
     "executionCount": 203,
     "executionEventId": "26472044-7fbf-451e-baae-5f706b01ce91",
     "hasError": false,
     "id": "f9df6bb4-0736-4c55-8b7a-d93e58547d6a",
     "outputs": [
      {
       "data": {
        "text/plain": "<matplotlib.axes._subplots.AxesSubplot at 0x7fe17ac7a358>"
       },
       "execution_count": 203,
       "metadata": {},
       "output_type": "execute_result"
      },
      {
       "data": {
        "image/png": "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\n",
        "text/plain": "<Figure size 432x288 with 1 Axes>"
       },
       "metadata": {
        "needs_background": "light"
       },
       "output_type": "display_data"
      }
     ],
     "persistentId": "59e0cd48-177f-430c-81f1-8a484aea8f2b",
     "text": "sns.violinplot(x='is_coding', y='coding_score', data=score_df_unspliced)"
    },
    "executionTime": "2019-10-02T04:46:34.016Z"
   },
   {
    "cell": {
     "executionCount": 204,
     "executionEventId": "04013d75-84b1-4123-b009-c2278f107472",
     "hasError": false,
     "id": "2efa737d-708a-499c-881b-ea5ca637844e",
     "outputs": [],
     "persistentId": "c93318bc-cb4a-449e-8620-761d4a5b96b1",
     "text": "predicted = score_df_unspliced['coding_score'] > 0.9\ntarget = score_df_unspliced['is_coding']"
    },
    "executionTime": "2019-10-02T04:46:34.019Z"
   },
   {
    "cell": {
     "executionCount": 205,
     "executionEventId": "2f38376b-18ea-4604-b80d-95b2f306a189",
     "hasError": false,
     "id": "879803c4-e867-4239-87ff-074bda73739e",
     "outputs": [],
     "persistentId": "ae8c5ade-1a68-4f68-9876-fb9324701f12",
     "text": "import numpy as np"
    },
    "executionTime": "2019-10-02T04:46:34.021Z"
   },
   {
    "cell": {
     "executionCount": 206,
     "executionEventId": "583dc17b-f4c2-4124-ac99-7d4897ad42f0",
     "hasError": false,
     "id": "aa3ed1fd-b5ad-4979-bc32-0e8db998fc99",
     "outputs": [
      {
       "name": "stdout",
       "output_type": "stream",
       "text": "0.8505751511798707\n              precision    recall  f1-score   support\n\n   noncoding       0.90      0.91      0.90    531184\n      coding       0.67      0.65      0.66    150289\n\n   micro avg       0.85      0.85      0.85    681473\n   macro avg       0.78      0.78      0.78    681473\nweighted avg       0.85      0.85      0.85    681473\n\n[[482703  48481]\n [ 53348  96941]]\n"
      }
     ],
     "persistentId": "bb710f6e-a0a1-45d1-a549-818fac5fdfd4",
     "text": "print(np.mean(predicted == target))\nprint(metrics.classification_report(target, predicted, target_names=['noncoding', 'coding']))\nprint(metrics.confusion_matrix(target, predicted))"
    },
    "executionTime": "2019-10-02T04:46:35.010Z"
   },
   {
    "cell": {
     "executionCount": 207,
     "executionEventId": "45a511c5-48c9-4424-8ffc-bbf9ea4d26b1",
     "hasError": false,
     "id": "ea4011c1-dc0c-4ad6-b8f7-e56d6b2ad0a2",
     "outputs": [
      {
       "data": {
        "text/plain": "<matplotlib.axes._subplots.AxesSubplot at 0x7fe2640677f0>"
       },
       "execution_count": 207,
       "metadata": {},
       "output_type": "execute_result"
      },
      {
       "data": {
        "image/png": "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\n",
        "text/plain": "<Figure size 432x288 with 2 Axes>"
       },
       "metadata": {
        "needs_background": "light"
       },
       "output_type": "display_data"
      }
     ],
     "persistentId": "39cc0eb4-8975-4a3f-af43-fbf79a380028",
     "text": "target_names=['noncoding', 'coding']\n\nconfusion = pd.DataFrame(metrics.confusion_matrix(target, predicted), index=target_names, columns=target_names)\n\nsns.heatmap(confusion, annot=True, fmt=',d')"
    },
    "executionTime": "2019-10-02T04:46:35.566Z"
   },
   {
    "cell": {
     "executionCount": 1,
     "executionEventId": "2d6d8719-917b-4256-8d0e-d03cf121d3b3",
     "hasError": false,
     "id": "2b737706-0358-464b-ab4a-d90c829a3d7a",
     "outputs": [],
     "persistentId": "ca3c95ac-68f3-46f3-b085-b116e63bb8b0",
     "text": "import gzip\nfrom io import StringIO\nfrom pprint import pprint\n\nfrom khmer import Nodegraph\nimport matplotlib.pyplot as plt\nimport screed\nfrom sourmash._minhash import hash_murmur\nfrom khmer.khmer_args import calculate_graphsize\nimport pandas as pd\nfrom sourmash.logging import notify\n\nimport seaborn as sns\n\nfrom sklearn import metrics\nfrom khtools.compare_peptide import kmerize, hpize, dayhoffize\n\nfrom Bio.Seq import Seq\nfrom Bio import SeqIO"
    },
    "executionTime": "2019-10-04T00:15:08.982Z"
   },
   {
    "cell": {
     "executionCount": 2,
     "executionEventId": "a2b87fd4-ca7d-4c56-a33f-597f405ea6fe",
     "hasError": false,
     "id": "580ced24-5056-45a8-a4ec-eabe780213fa",
     "outputs": [],
     "persistentId": "79625542-1410-409b-9c5b-1a7a556e5541",
     "text": "folder = '/home/olga/data_sm/kmer-hashing/classify_coding_vs_noncoding/'"
    },
    "executionTime": "2019-10-04T00:15:13.445Z"
   },
   {
    "cell": {
     "executionCount": 3,
     "executionEventId": "895b243a-3ce1-40bb-b0cb-8ce00cdf1e7c",
     "hasError": false,
     "id": "df3c7f84-f78a-4ffb-9d3f-692d9776d364",
     "outputs": [
      {
       "name": "stdout",
       "output_type": "stream",
       "text": "/mnt/data_sm/olga/kmer-hashing/classify_coding_vs_noncoding\n"
      }
     ],
     "persistentId": "f22c3722-b07d-4558-b117-1378d3941e78",
     "text": "cd $folder"
    },
    "executionTime": "2019-10-04T00:15:13.455Z"
   },
   {
    "cell": {
     "executionCount": 4,
     "executionEventId": "c1941d1e-9f36-48f7-9869-2e588149da45",
     "hasError": false,
     "id": "a2a6e345-f29b-424d-bb99-0b13ebe2512e",
     "outputs": [
      {
       "name": "stdout",
       "output_type": "stream",
       "text": "total 239G\ndrwxrwxr-x 2 olga olga 4.0K Sep 18 05:33 \u001b[0m\u001b[01;34m.\u001b[0m/\ndrwxrwxr-x 5 olga olga 4.0K Sep 14 08:39 \u001b[01;34m..\u001b[0m/\n-rw-rw-r-- 1 olga olga  21M Sep 14 06:46 \u001b[01;31mHomo_sapiens.GRCh38.cds.all.fa.gz\u001b[0m\n-rw-rw-r-- 1 olga olga  16M Sep 14 06:46 \u001b[01;31mHomo_sapiens.GRCh38.ncrna.fa.gz\u001b[0m\n-rw-rw-r-- 1 olga olga  14M Sep 14 06:46 \u001b[01;31mHomo_sapiens.GRCh38.pep.all.fa.gz\u001b[0m\n-rw-rw-r-- 1 olga olga  15G Sep 14 07:11 human_cds_k15.nodegraph\n-rw-rw-r-- 1 olga olga   65 Sep 14 07:11 human_cds_k15.nodegraph.info\n-rw-rw-r-- 1 olga olga  15G Sep 14 07:22 human_cds_k17.nodegraph\n-rw-rw-r-- 1 olga olga   65 Sep 14 07:22 human_cds_k17.nodegraph.info\n-rw-rw-r-- 1 olga olga  15G Sep 14 07:30 human_cds_k19.nodegraph\n-rw-rw-r-- 1 olga olga   65 Sep 14 07:30 human_cds_k19.nodegraph.info\n-rw-rw-r-- 1 olga olga  15G Sep 14 07:39 human_cds_k21.nodegraph\n-rw-rw-r-- 1 olga olga   65 Sep 14 07:39 human_cds_k21.nodegraph.info\n-rw-rw-r-- 1 olga olga  15G Sep 14 07:47 human_cds_k23.nodegraph\n-rw-rw-r-- 1 olga olga   65 Sep 14 07:47 human_cds_k23.nodegraph.info\n-rw-rw-r-- 1 olga olga  15G Sep 14 07:55 human_cds_k25.nodegraph\n-rw-rw-r-- 1 olga olga   65 Sep 14 07:55 human_cds_k25.nodegraph.info\n-rw-rw-r-- 1 olga olga  15G Sep 14 08:03 human_cds_k27.nodegraph\n-rw-rw-r-- 1 olga olga   65 Sep 14 08:03 human_cds_k27.nodegraph.info\n-rw-rw-r-- 1 olga olga  15G Sep 14 08:12 human_cds_k31.nodegraph\n-rw-rw-r-- 1 olga olga   65 Sep 14 08:12 human_cds_k31.nodegraph.info\n-rw-rw-r-- 1 olga olga  15G Sep 14 07:18 human_ncrna_k15.nodegraph\n-rw-rw-r-- 1 olga olga   65 Sep 14 07:18 human_ncrna_k15.nodegraph.info\n-rw-rw-r-- 1 olga olga 5.7M Sep 14 07:15 human_ncrna_k15.nodegraph.tagset\n-rw-rw-r-- 1 olga olga  15G Sep 14 07:26 human_ncrna_k17.nodegraph\n-rw-rw-r-- 1 olga olga   65 Sep 14 07:26 human_ncrna_k17.nodegraph.info\n-rw-rw-r-- 1 olga olga  15G Sep 14 07:34 human_ncrna_k19.nodegraph\n-rw-rw-r-- 1 olga olga   65 Sep 14 07:34 human_ncrna_k19.nodegraph.info\n-rw-rw-r-- 1 olga olga  15G Sep 14 07:42 human_ncrna_k21.nodegraph\n-rw-rw-r-- 1 olga olga   65 Sep 14 07:43 human_ncrna_k21.nodegraph.info\n-rw-rw-r-- 1 olga olga  15G Sep 14 07:51 human_ncrna_k23.nodegraph\n-rw-rw-r-- 1 olga olga   65 Sep 14 07:51 human_ncrna_k23.nodegraph.info\n-rw-rw-r-- 1 olga olga  15G Sep 14 07:59 human_ncrna_k25.nodegraph\n-rw-rw-r-- 1 olga olga   65 Sep 14 07:59 human_ncrna_k25.nodegraph.info\n-rw-rw-r-- 1 olga olga  15G Sep 14 08:07 human_ncrna_k27.nodegraph\n-rw-rw-r-- 1 olga olga   65 Sep 14 08:07 human_ncrna_k27.nodegraph.info\n-rw-rw-r-- 1 olga olga  15G Sep 14 08:16 human_ncrna_k31.nodegraph\n-rw-rw-r-- 1 olga olga   65 Sep 14 08:16 human_ncrna_k31.nodegraph.info\n-rw-r--r-- 1 olga olga  52M Sep 18 05:33 \u001b[01;31mSRR306838_GSM752691_hsa_br_F_1_trimmed.fq.gz\u001b[0m\n-rw-r--r-- 1 olga olga  72K Sep 18 05:33 \u001b[01;31mSRR306838_GSM752691_hsa_br_F_1_trimmed_subsampled.fq.gz\u001b[0m\n"
      }
     ],
     "persistentId": "f9bbce41-5893-489d-8f89-7d8fb0b0fe1e",
     "text": "ls -lha"
    },
    "executionTime": "2019-10-04T00:15:13.871Z"
   },
   {
    "cell": {
     "executionCount": 5,
     "executionEventId": "16009ec5-6c2c-4662-9d3b-592b75ea3b61",
     "hasError": false,
     "id": "2b737706-0358-464b-ab4a-d90c829a3d7a",
     "outputs": [],
     "persistentId": "ca3c95ac-68f3-46f3-b085-b116e63bb8b0",
     "text": "import gzip\nfrom io import StringIO\nfrom pprint import pprint\n\nfrom khmer import Nodegraph\nimport matplotlib.pyplot as plt\nimport screed\nfrom sourmash._minhash import hash_murmur\nfrom khmer.khmer_args import calculate_graphsize\nimport pandas as pd\nfrom sourmash.logging import notify\n\nimport seaborn as sns\n\nfrom sklearn import metrics\nfrom khtools.compare_peptide import kmerize, hpize, dayhoffize\n\nfrom Bio.Seq import Seq\nfrom Bio import SeqIO"
    },
    "executionTime": "2019-10-04T00:15:15.867Z"
   },
   {
    "cell": {
     "executionCount": 6,
     "executionEventId": "753cf163-6d5d-4ade-9cfa-f294c5685bc1",
     "hasError": false,
     "id": "33e3fa66-906d-4b88-803e-55b968bb7bc8",
     "outputs": [
      {
       "name": "stdout",
       "output_type": "stream",
       "text": "CPU times: user 39.4 s, sys: 3.53 s, total: 42.9 s\nWall time: 43 s\n"
      }
     ],
     "persistentId": "24efed0e-0671-4d31-9ac1-c341e9d67f66",
     "text": "%%time\n\ntablesize = 1e10\n\nDEFAULT_K = 32\nDEFAULT_N_TABLES = 4\nDEFAULT_MAX_TABLESIZE = 1e6\nDEFAULT_N_THREADS = 1\n\npeptide_ksize = 7\n\n# tablesize = calculate_graphsize(args, 'nodegraph', multiplier)\n\n20**6\n\nDEFAULT_SEED = 42\n\ndef make_peptide_bloom_filter(peptide_fasta, peptide_ksize, n_tables=4, seed=DEFAULT_SEED):\n    \"\"\"\"\"\"\n\n    peptide_graph = Nodegraph(peptide_ksize, tablesize, n_tables=n_tables)\n\n    for record in screed.open(peptide_fasta):\n    #     print(record)\n        if '*' in record['sequence']:\n    #         notify(\"Stop codon found in seq, skipping\")\n            continue\n        kmers = kmerize(record['sequence'], peptide_ksize)\n        for kmer in kmers:\n\n            hashed = hash_murmur(kmer)\n\n            # .add can take the hashed integer so we can hash the peptide kmer and add it directly\n            peptide_graph.add(hashed)\n    return peptide_graph\n\npeptide_graph = make_peptide_bloom_filter(\"Homo_sapiens.GRCh38.pep.all.fa.gz\", 7)"
    },
    "executionTime": "2019-10-04T00:17:32.588Z"
   },
   {
    "cell": {
     "executionCount": 7,
     "executionEventId": "b7578536-5a96-43f2-85ef-435699b900d2",
     "hasError": false,
     "id": "05538c3d-c32e-4116-8853-f31708935c7e",
     "outputs": [
      {
       "name": "stdout",
       "output_type": "stream",
       "text": "0 {'name': 'SRR306838.1531 Ibis_Run100924_C3PO:6:1:15718:1062/1', 'sequence': 'ACCCCCCCCCCCCCCCCCCCCCCCCCCCCCCCCCCCCCCCCCCCCCCCCCCCCCCCCCCCCCCCCCCCCCCC', 'annotations': '', 'quality': '(04147:;:9<<:7;88<<B::;<=:<:=<;>>=@>>8<;;<=;C;>;:5:;9<<::6@;E;?:C@=:9:67'}\n1 {'name': 'SRR306838.1617 Ibis_Run100924_C3PO:6:1:9036:1074/1', 'sequence': 'CGTTGGTCAAGTTATTGGATCAATTGAGTATAGTAGTTCGCTTTGACTGGTGAAGTCTTAGCATG', 'annotations': '', 'quality': '44/1655:458353466544:43776271473924745866556657:54465371775397785'}\n2 {'name': 'SRR306838.1672 Ibis_Run100924_C3PO:6:1:15751:1077/1', 'sequence': 'CCCCCCCCCCCCCCCCCCCCCCCCCCCCCCCCCCCCCCCCCCCCCCCCCCCCCCCCCCCCCCCCCCCCCCCCCCCC', 'annotations': '', 'quality': '65<69P?HCEGKB99SSP:EMFKOS;HSSESJSGISJJMRSS=JSFOSCSSSSSSKSHSSESSSSSQSSSSSS88R'}\n3 {'name': 'SRR306838.1938 Ibis_Run100924_C3PO:6:1:15775:1103/1', 'sequence': 'CCCCCCCCCCCCCCCCCCCCCCCCCCCCCCCCCCCCCCCCCCCCCCCCCCCCCCCCCCCCCCCCCCCCCCCCCCCC', 'annotations': '', 'quality': '65866KD;;:=<A;O>HSBF<K:RB=<A<RS;SAE;<:C<;E;;<><;>9AN=<@:S6HJAJAFKK<SJF6S4?2='}\n4 {'name': 'SRR306838.2318 Ibis_Run100924_C3PO:6:1:15779:1141/1', 'sequence': 'CCCCCCCCCACCACCACCCCCCCCACCCCCCCCCCCCCCCCCCCCCCCCCCACCCCCCCACACACCCCCAACACCC', 'annotations': '', 'quality': '2263688B;9<<9;=;9<=><:;=:@<@<<<A<<I9S?;<<<C;>;@;S5:;;M<O:7;;C<;:F;;;;898972@'}\n"
      }
     ],
     "persistentId": "89111130-9f20-4159-b7e7-68baebcde9a3",
     "text": "for i, record in zip(range(5), screed.open('SRR306838_GSM752691_hsa_br_F_1_trimmed.fq.gz')):\n    print(i, record)"
    },
    "executionTime": "2019-10-04T00:18:45.768Z"
   },
   {
    "cell": {
     "executionCount": 8,
     "executionEventId": "7b81a133-ceb4-4e00-b4b1-582a34009f85",
     "hasError": false,
     "id": "816ba43d-df54-4f14-9fcb-8fe242d897aa",
     "outputs": [],
     "persistentId": "5d0726af-434e-49ef-a388-15a28df0d4da",
     "text": "\n\ndef six_frame_translation_no_stops(seq):\n    forward_translations = three_frame_translation_no_stops(seq)\n    reverse_translations = three_frame_translation_no_stops(seq.reverse_complement())\n    return forward_translations + reverse_translations\n\nverbose = False\n\ndef classify_protein_coding_reads(reads, peptide_graph, peptide_ksize, jaccard_minimum=0.9, first_n=None, verbose=False):\n    \n    classification_lines = []\n\n    scoring_lines = []\n\n    for i, record in enumerate(screed.open(reads)):\n        if first_n is not None and i > first_n:\n            break\n            \n        if verbose:\n            print()\n            print(record.description)\n            print(str(record.seq))\n        translations = six_frame_translation_no_stops(record.seq)\n\n        max_fraction = 0\n        for translation in translations:\n            if len(translation) < peptide_ksize:\n                continue\n            if verbose:\n                print(f\"\\t{translation}\")\n            kmers = list(set(kmerize(str(translation), peptide_ksize)))\n            hashes = [hash_murmur(kmer) for kmer in kmers]\n            n_kmers = len(kmers)\n            n_kmers_in_peptide_db = sum(1 for h in hashes if peptide_graph.get(h) > 0)\n            if n_kmers < (len(translation) - peptide_ksize + 1)/2:\n                if verbose:\n                    print(f'Low complexity sequence!!! n_kmers < (len(read.seq) - ksize + 1)/2  --> {n_kmers} < {(len(record.seq) - ksize + 1)/2}')\n                    print(record.description)\n                    print(record.seq)\n                classification_lines.append([record.description, 'low complexity'])\n                continue\n\n            kmers_in_peptide_db = {(k, h): peptide_graph.get(h) for k, h in zip(kmers, hashes)}\n            fraction_in_peptide_db = n_kmers_in_peptide_db/n_kmers\n            max_fraction = max(max_fraction, fraction_in_peptide_db)\n            if fraction_in_peptide_db > jaccard_minimum:\n                classification_lines.append([record.description, 'coding'])\n            else:\n                classification_lines.append([record.description, 'non-coding'])\n            if verbose:\n                pprint(kmers_in_peptide_db)\n                print(f'n_kmers_in_peptide_db/n_kmers: {n_kmers_in_peptide_db}/{n_kmers} = {fraction_in_peptide_db}')\n        scoring_lines.append([record.description, max_fraction])\n\n        classification_df = pd.DataFrame(classification_lines, columns=['read_id', 'classification'])\n        score_df = pd.DataFrame(scoring_lines, columns=['read_id', 'coding_score'])\n        \n        return classification_df, score_df\n    \n    \n"
    },
    "executionTime": "2019-10-04T00:25:50.083Z"
   },
   {
    "cell": {
     "executionCount": 9,
     "executionEventId": "eca244f2-c5ef-4e13-9e11-e9f55c75d663",
     "hasError": true,
     "id": "550c674d-c424-4337-8aa7-0c1fad016243",
     "outputs": [
      {
       "ename": "AttributeError",
       "evalue": "seq",
       "output_type": "error",
       "traceback": [
        "\u001b[0;31m---------------------------------------------------------------------------\u001b[0m",
        "\u001b[0;31mKeyError\u001b[0m                                  Traceback (most recent call last)",
        "\u001b[0;32m~/miniconda3/envs/kmer-hashing/lib/python3.6/site-packages/screed/screedRecord.py\u001b[0m in \u001b[0;36m__getattr__\u001b[0;34m(self, name)\u001b[0m\n\u001b[1;32m     40\u001b[0m         \u001b[0;32mtry\u001b[0m\u001b[0;34m:\u001b[0m\u001b[0;34m\u001b[0m\u001b[0;34m\u001b[0m\u001b[0m\n\u001b[0;32m---> 41\u001b[0;31m             \u001b[0;32mreturn\u001b[0m \u001b[0mself\u001b[0m\u001b[0;34m.\u001b[0m\u001b[0md\u001b[0m\u001b[0;34m[\u001b[0m\u001b[0mname\u001b[0m\u001b[0;34m]\u001b[0m\u001b[0;34m\u001b[0m\u001b[0;34m\u001b[0m\u001b[0m\n\u001b[0m\u001b[1;32m     42\u001b[0m         \u001b[0;32mexcept\u001b[0m \u001b[0mKeyError\u001b[0m\u001b[0;34m:\u001b[0m\u001b[0;34m\u001b[0m\u001b[0;34m\u001b[0m\u001b[0m\n",
        "\u001b[0;31mKeyError\u001b[0m: 'seq'",
        "\nDuring handling of the above exception, another exception occurred:\n",
        "\u001b[0;31mAttributeError\u001b[0m                            Traceback (most recent call last)",
        "\u001b[0;32m<ipython-input-9-1ca74fb6f634>\u001b[0m in \u001b[0;36m<module>\u001b[0;34m()\u001b[0m\n\u001b[0;32m----> 1\u001b[0;31m \u001b[0mclassify_protein_coding_reads\u001b[0m\u001b[0;34m(\u001b[0m\u001b[0;34m'SRR306838_GSM752691_hsa_br_F_1_trimmed.fq.gz'\u001b[0m\u001b[0;34m,\u001b[0m \u001b[0mpeptide_graph\u001b[0m\u001b[0;34m,\u001b[0m \u001b[0mpeptide_ksize\u001b[0m\u001b[0;34m)\u001b[0m\u001b[0;34m\u001b[0m\u001b[0;34m\u001b[0m\u001b[0m\n\u001b[0m",
        "\u001b[0;32m<ipython-input-8-6b77dd0cb907>\u001b[0m in \u001b[0;36mclassify_protein_coding_reads\u001b[0;34m(reads, peptide_graph, peptide_ksize, jaccard_minimum, first_n, verbose)\u001b[0m\n\u001b[1;32m     22\u001b[0m             \u001b[0mprint\u001b[0m\u001b[0;34m(\u001b[0m\u001b[0mrecord\u001b[0m\u001b[0;34m.\u001b[0m\u001b[0mdescription\u001b[0m\u001b[0;34m)\u001b[0m\u001b[0;34m\u001b[0m\u001b[0;34m\u001b[0m\u001b[0m\n\u001b[1;32m     23\u001b[0m             \u001b[0mprint\u001b[0m\u001b[0;34m(\u001b[0m\u001b[0mstr\u001b[0m\u001b[0;34m(\u001b[0m\u001b[0mrecord\u001b[0m\u001b[0;34m.\u001b[0m\u001b[0mseq\u001b[0m\u001b[0;34m)\u001b[0m\u001b[0;34m)\u001b[0m\u001b[0;34m\u001b[0m\u001b[0;34m\u001b[0m\u001b[0m\n\u001b[0;32m---> 24\u001b[0;31m         \u001b[0mtranslations\u001b[0m \u001b[0;34m=\u001b[0m \u001b[0msix_frame_translation_no_stops\u001b[0m\u001b[0;34m(\u001b[0m\u001b[0mrecord\u001b[0m\u001b[0;34m.\u001b[0m\u001b[0mseq\u001b[0m\u001b[0;34m)\u001b[0m\u001b[0;34m\u001b[0m\u001b[0;34m\u001b[0m\u001b[0m\n\u001b[0m\u001b[1;32m     25\u001b[0m \u001b[0;34m\u001b[0m\u001b[0m\n\u001b[1;32m     26\u001b[0m         \u001b[0mmax_fraction\u001b[0m \u001b[0;34m=\u001b[0m \u001b[0;36m0\u001b[0m\u001b[0;34m\u001b[0m\u001b[0;34m\u001b[0m\u001b[0m\n",
        "\u001b[0;32m~/miniconda3/envs/kmer-hashing/lib/python3.6/site-packages/screed/screedRecord.py\u001b[0m in \u001b[0;36m__getattr__\u001b[0;34m(self, name)\u001b[0m\n\u001b[1;32m     41\u001b[0m             \u001b[0;32mreturn\u001b[0m \u001b[0mself\u001b[0m\u001b[0;34m.\u001b[0m\u001b[0md\u001b[0m\u001b[0;34m[\u001b[0m\u001b[0mname\u001b[0m\u001b[0;34m]\u001b[0m\u001b[0;34m\u001b[0m\u001b[0;34m\u001b[0m\u001b[0m\n\u001b[1;32m     42\u001b[0m         \u001b[0;32mexcept\u001b[0m \u001b[0mKeyError\u001b[0m\u001b[0;34m:\u001b[0m\u001b[0;34m\u001b[0m\u001b[0;34m\u001b[0m\u001b[0m\n\u001b[0;32m---> 43\u001b[0;31m             \u001b[0;32mraise\u001b[0m \u001b[0mAttributeError\u001b[0m\u001b[0;34m(\u001b[0m\u001b[0mname\u001b[0m\u001b[0;34m)\u001b[0m\u001b[0;34m\u001b[0m\u001b[0;34m\u001b[0m\u001b[0m\n\u001b[0m\u001b[1;32m     44\u001b[0m \u001b[0;34m\u001b[0m\u001b[0m\n\u001b[1;32m     45\u001b[0m     \u001b[0;32mdef\u001b[0m \u001b[0m__len__\u001b[0m\u001b[0;34m(\u001b[0m\u001b[0mself\u001b[0m\u001b[0;34m)\u001b[0m\u001b[0;34m:\u001b[0m\u001b[0;34m\u001b[0m\u001b[0;34m\u001b[0m\u001b[0m\n",
        "\u001b[0;31mAttributeError\u001b[0m: seq"
       ]
      }
     ],
     "persistentId": "607b9ea5-7fb0-465d-b7f8-05b402f0b361",
     "text": "classify_protein_coding_reads('SRR306838_GSM752691_hsa_br_F_1_trimmed.fq.gz', peptide_graph, peptide_ksize)"
    },
    "executionTime": "2019-10-04T00:25:59.173Z"
   },
   {
    "cell": {
     "executionCount": 10,
     "executionEventId": "b0b7e13d-4f76-406b-89d7-0877955f7115",
     "hasError": false,
     "id": "816ba43d-df54-4f14-9fcb-8fe242d897aa",
     "outputs": [],
     "persistentId": "5d0726af-434e-49ef-a388-15a28df0d4da",
     "text": "\n\ndef six_frame_translation_no_stops(seq):\n    forward_translations = three_frame_translation_no_stops(seq)\n    reverse_translations = three_frame_translation_no_stops(seq.reverse_complement())\n    return forward_translations + reverse_translations\n\nverbose = False\n\ndef classify_protein_coding_reads(reads, peptide_graph, peptide_ksize, jaccard_minimum=0.9, first_n=None, verbose=False):\n    \n    classification_lines = []\n\n    scoring_lines = []\n\n    for i, record in enumerate(screed.open(reads)):\n        if first_n is not None and i > first_n:\n            break\n            \n        if verbose:\n            print()\n            print(record.description)\n            print(str(record['seq']))\n        translations = six_frame_translation_no_stops(record['seq'])\n\n        max_fraction = 0\n        for translation in translations:\n            if len(translation) < peptide_ksize:\n                continue\n            if verbose:\n                print(f\"\\t{translation}\")\n            kmers = list(set(kmerize(str(translation), peptide_ksize)))\n            hashes = [hash_murmur(kmer) for kmer in kmers]\n            n_kmers = len(kmers)\n            n_kmers_in_peptide_db = sum(1 for h in hashes if peptide_graph.get(h) > 0)\n            if n_kmers < (len(translation) - peptide_ksize + 1)/2:\n                if verbose:\n                    print(f'Low complexity sequence!!! n_kmers < (len(read.seq) - ksize + 1)/2  --> {n_kmers} < {(len(record.seq) - ksize + 1)/2}')\n                    print(record.description)\n                    print(record.seq)\n                classification_lines.append([record.description, 'low complexity'])\n                continue\n\n            kmers_in_peptide_db = {(k, h): peptide_graph.get(h) for k, h in zip(kmers, hashes)}\n            fraction_in_peptide_db = n_kmers_in_peptide_db/n_kmers\n            max_fraction = max(max_fraction, fraction_in_peptide_db)\n            if fraction_in_peptide_db > jaccard_minimum:\n                classification_lines.append([record.description, 'coding'])\n            else:\n                classification_lines.append([record.description, 'non-coding'])\n            if verbose:\n                pprint(kmers_in_peptide_db)\n                print(f'n_kmers_in_peptide_db/n_kmers: {n_kmers_in_peptide_db}/{n_kmers} = {fraction_in_peptide_db}')\n        scoring_lines.append([record.description, max_fraction])\n\n        classification_df = pd.DataFrame(classification_lines, columns=['read_id', 'classification'])\n        score_df = pd.DataFrame(scoring_lines, columns=['read_id', 'coding_score'])\n        \n        return classification_df, score_df\n    \n    \n"
    },
    "executionTime": "2019-10-04T00:26:32.670Z"
   },
   {
    "cell": {
     "executionCount": 11,
     "executionEventId": "c9f8b21f-ad5c-4560-b743-b7045dccb2de",
     "hasError": true,
     "id": "550c674d-c424-4337-8aa7-0c1fad016243",
     "outputs": [
      {
       "ename": "KeyError",
       "evalue": "'seq'",
       "output_type": "error",
       "traceback": [
        "\u001b[0;31m---------------------------------------------------------------------------\u001b[0m",
        "\u001b[0;31mKeyError\u001b[0m                                  Traceback (most recent call last)",
        "\u001b[0;32m<ipython-input-11-1ca74fb6f634>\u001b[0m in \u001b[0;36m<module>\u001b[0;34m()\u001b[0m\n\u001b[0;32m----> 1\u001b[0;31m \u001b[0mclassify_protein_coding_reads\u001b[0m\u001b[0;34m(\u001b[0m\u001b[0;34m'SRR306838_GSM752691_hsa_br_F_1_trimmed.fq.gz'\u001b[0m\u001b[0;34m,\u001b[0m \u001b[0mpeptide_graph\u001b[0m\u001b[0;34m,\u001b[0m \u001b[0mpeptide_ksize\u001b[0m\u001b[0;34m)\u001b[0m\u001b[0;34m\u001b[0m\u001b[0;34m\u001b[0m\u001b[0m\n\u001b[0m",
        "\u001b[0;32m<ipython-input-10-34c558457782>\u001b[0m in \u001b[0;36mclassify_protein_coding_reads\u001b[0;34m(reads, peptide_graph, peptide_ksize, jaccard_minimum, first_n, verbose)\u001b[0m\n\u001b[1;32m     22\u001b[0m             \u001b[0mprint\u001b[0m\u001b[0;34m(\u001b[0m\u001b[0mrecord\u001b[0m\u001b[0;34m.\u001b[0m\u001b[0mdescription\u001b[0m\u001b[0;34m)\u001b[0m\u001b[0;34m\u001b[0m\u001b[0;34m\u001b[0m\u001b[0m\n\u001b[1;32m     23\u001b[0m             \u001b[0mprint\u001b[0m\u001b[0;34m(\u001b[0m\u001b[0mstr\u001b[0m\u001b[0;34m(\u001b[0m\u001b[0mrecord\u001b[0m\u001b[0;34m[\u001b[0m\u001b[0;34m'seq'\u001b[0m\u001b[0;34m]\u001b[0m\u001b[0;34m)\u001b[0m\u001b[0;34m)\u001b[0m\u001b[0;34m\u001b[0m\u001b[0;34m\u001b[0m\u001b[0m\n\u001b[0;32m---> 24\u001b[0;31m         \u001b[0mtranslations\u001b[0m \u001b[0;34m=\u001b[0m \u001b[0msix_frame_translation_no_stops\u001b[0m\u001b[0;34m(\u001b[0m\u001b[0mrecord\u001b[0m\u001b[0;34m[\u001b[0m\u001b[0;34m'seq'\u001b[0m\u001b[0;34m]\u001b[0m\u001b[0;34m)\u001b[0m\u001b[0;34m\u001b[0m\u001b[0;34m\u001b[0m\u001b[0m\n\u001b[0m\u001b[1;32m     25\u001b[0m \u001b[0;34m\u001b[0m\u001b[0m\n\u001b[1;32m     26\u001b[0m         \u001b[0mmax_fraction\u001b[0m \u001b[0;34m=\u001b[0m \u001b[0;36m0\u001b[0m\u001b[0;34m\u001b[0m\u001b[0;34m\u001b[0m\u001b[0m\n",
        "\u001b[0;32m~/miniconda3/envs/kmer-hashing/lib/python3.6/site-packages/screed/screedRecord.py\u001b[0m in \u001b[0;36m__getitem__\u001b[0;34m(self, idx)\u001b[0m\n\u001b[1;32m     56\u001b[0m                 \u001b[0mtrimmed\u001b[0m\u001b[0;34m[\u001b[0m\u001b[0;34m'quality'\u001b[0m\u001b[0;34m]\u001b[0m \u001b[0;34m=\u001b[0m \u001b[0mtrimmed\u001b[0m\u001b[0;34m[\u001b[0m\u001b[0;34m'quality'\u001b[0m\u001b[0;34m]\u001b[0m\u001b[0;34m[\u001b[0m\u001b[0midx\u001b[0m\u001b[0;34m]\u001b[0m\u001b[0;34m\u001b[0m\u001b[0;34m\u001b[0m\u001b[0m\n\u001b[1;32m     57\u001b[0m             \u001b[0;32mreturn\u001b[0m \u001b[0mRecord\u001b[0m\u001b[0;34m(\u001b[0m\u001b[0;34m**\u001b[0m\u001b[0mtrimmed\u001b[0m\u001b[0;34m)\u001b[0m\u001b[0;34m\u001b[0m\u001b[0;34m\u001b[0m\u001b[0m\n\u001b[0;32m---> 58\u001b[0;31m         \u001b[0;32mreturn\u001b[0m \u001b[0mself\u001b[0m\u001b[0;34m.\u001b[0m\u001b[0md\u001b[0m\u001b[0;34m[\u001b[0m\u001b[0midx\u001b[0m\u001b[0;34m]\u001b[0m\u001b[0;34m\u001b[0m\u001b[0;34m\u001b[0m\u001b[0m\n\u001b[0m\u001b[1;32m     59\u001b[0m \u001b[0;34m\u001b[0m\u001b[0m\n\u001b[1;32m     60\u001b[0m     \u001b[0;32mdef\u001b[0m \u001b[0m__delitem__\u001b[0m\u001b[0;34m(\u001b[0m\u001b[0mself\u001b[0m\u001b[0;34m,\u001b[0m \u001b[0mkey\u001b[0m\u001b[0;34m)\u001b[0m\u001b[0;34m:\u001b[0m\u001b[0;34m\u001b[0m\u001b[0;34m\u001b[0m\u001b[0m\n",
        "\u001b[0;31mKeyError\u001b[0m: 'seq'"
       ]
      }
     ],
     "persistentId": "607b9ea5-7fb0-465d-b7f8-05b402f0b361",
     "text": "classify_protein_coding_reads('SRR306838_GSM752691_hsa_br_F_1_trimmed.fq.gz', peptide_graph, peptide_ksize)"
    },
    "executionTime": "2019-10-04T00:26:33.327Z"
   },
   {
    "cell": {
     "executionCount": 12,
     "executionEventId": "fea87f70-fd48-4ebf-9e38-e4132993333e",
     "hasError": true,
     "id": "550c674d-c424-4337-8aa7-0c1fad016243",
     "outputs": [
      {
       "name": "stdout",
       "output_type": "stream",
       "text": "\n"
      },
      {
       "ename": "AttributeError",
       "evalue": "description",
       "output_type": "error",
       "traceback": [
        "\u001b[0;31m---------------------------------------------------------------------------\u001b[0m",
        "\u001b[0;31mKeyError\u001b[0m                                  Traceback (most recent call last)",
        "\u001b[0;32m~/miniconda3/envs/kmer-hashing/lib/python3.6/site-packages/screed/screedRecord.py\u001b[0m in \u001b[0;36m__getattr__\u001b[0;34m(self, name)\u001b[0m\n\u001b[1;32m     40\u001b[0m         \u001b[0;32mtry\u001b[0m\u001b[0;34m:\u001b[0m\u001b[0;34m\u001b[0m\u001b[0;34m\u001b[0m\u001b[0m\n\u001b[0;32m---> 41\u001b[0;31m             \u001b[0;32mreturn\u001b[0m \u001b[0mself\u001b[0m\u001b[0;34m.\u001b[0m\u001b[0md\u001b[0m\u001b[0;34m[\u001b[0m\u001b[0mname\u001b[0m\u001b[0;34m]\u001b[0m\u001b[0;34m\u001b[0m\u001b[0;34m\u001b[0m\u001b[0m\n\u001b[0m\u001b[1;32m     42\u001b[0m         \u001b[0;32mexcept\u001b[0m \u001b[0mKeyError\u001b[0m\u001b[0;34m:\u001b[0m\u001b[0;34m\u001b[0m\u001b[0;34m\u001b[0m\u001b[0m\n",
        "\u001b[0;31mKeyError\u001b[0m: 'description'",
        "\nDuring handling of the above exception, another exception occurred:\n",
        "\u001b[0;31mAttributeError\u001b[0m                            Traceback (most recent call last)",
        "\u001b[0;32m<ipython-input-12-1fe5000ca2f7>\u001b[0m in \u001b[0;36m<module>\u001b[0;34m()\u001b[0m\n\u001b[0;32m----> 1\u001b[0;31m \u001b[0mclassify_protein_coding_reads\u001b[0m\u001b[0;34m(\u001b[0m\u001b[0;34m'SRR306838_GSM752691_hsa_br_F_1_trimmed.fq.gz'\u001b[0m\u001b[0;34m,\u001b[0m \u001b[0mpeptide_graph\u001b[0m\u001b[0;34m,\u001b[0m \u001b[0mpeptide_ksize\u001b[0m\u001b[0;34m,\u001b[0m \u001b[0mverbose\u001b[0m\u001b[0;34m=\u001b[0m\u001b[0;32mTrue\u001b[0m\u001b[0;34m)\u001b[0m\u001b[0;34m\u001b[0m\u001b[0;34m\u001b[0m\u001b[0m\n\u001b[0m",
        "\u001b[0;32m<ipython-input-10-34c558457782>\u001b[0m in \u001b[0;36mclassify_protein_coding_reads\u001b[0;34m(reads, peptide_graph, peptide_ksize, jaccard_minimum, first_n, verbose)\u001b[0m\n\u001b[1;32m     20\u001b[0m         \u001b[0;32mif\u001b[0m \u001b[0mverbose\u001b[0m\u001b[0;34m:\u001b[0m\u001b[0;34m\u001b[0m\u001b[0;34m\u001b[0m\u001b[0m\n\u001b[1;32m     21\u001b[0m             \u001b[0mprint\u001b[0m\u001b[0;34m(\u001b[0m\u001b[0;34m)\u001b[0m\u001b[0;34m\u001b[0m\u001b[0;34m\u001b[0m\u001b[0m\n\u001b[0;32m---> 22\u001b[0;31m             \u001b[0mprint\u001b[0m\u001b[0;34m(\u001b[0m\u001b[0mrecord\u001b[0m\u001b[0;34m.\u001b[0m\u001b[0mdescription\u001b[0m\u001b[0;34m)\u001b[0m\u001b[0;34m\u001b[0m\u001b[0;34m\u001b[0m\u001b[0m\n\u001b[0m\u001b[1;32m     23\u001b[0m             \u001b[0mprint\u001b[0m\u001b[0;34m(\u001b[0m\u001b[0mstr\u001b[0m\u001b[0;34m(\u001b[0m\u001b[0mrecord\u001b[0m\u001b[0;34m[\u001b[0m\u001b[0;34m'seq'\u001b[0m\u001b[0;34m]\u001b[0m\u001b[0;34m)\u001b[0m\u001b[0;34m)\u001b[0m\u001b[0;34m\u001b[0m\u001b[0;34m\u001b[0m\u001b[0m\n\u001b[1;32m     24\u001b[0m         \u001b[0mtranslations\u001b[0m \u001b[0;34m=\u001b[0m \u001b[0msix_frame_translation_no_stops\u001b[0m\u001b[0;34m(\u001b[0m\u001b[0mrecord\u001b[0m\u001b[0;34m[\u001b[0m\u001b[0;34m'seq'\u001b[0m\u001b[0;34m]\u001b[0m\u001b[0;34m)\u001b[0m\u001b[0;34m\u001b[0m\u001b[0;34m\u001b[0m\u001b[0m\n",
        "\u001b[0;32m~/miniconda3/envs/kmer-hashing/lib/python3.6/site-packages/screed/screedRecord.py\u001b[0m in \u001b[0;36m__getattr__\u001b[0;34m(self, name)\u001b[0m\n\u001b[1;32m     41\u001b[0m             \u001b[0;32mreturn\u001b[0m \u001b[0mself\u001b[0m\u001b[0;34m.\u001b[0m\u001b[0md\u001b[0m\u001b[0;34m[\u001b[0m\u001b[0mname\u001b[0m\u001b[0;34m]\u001b[0m\u001b[0;34m\u001b[0m\u001b[0;34m\u001b[0m\u001b[0m\n\u001b[1;32m     42\u001b[0m         \u001b[0;32mexcept\u001b[0m \u001b[0mKeyError\u001b[0m\u001b[0;34m:\u001b[0m\u001b[0;34m\u001b[0m\u001b[0;34m\u001b[0m\u001b[0m\n\u001b[0;32m---> 43\u001b[0;31m             \u001b[0;32mraise\u001b[0m \u001b[0mAttributeError\u001b[0m\u001b[0;34m(\u001b[0m\u001b[0mname\u001b[0m\u001b[0;34m)\u001b[0m\u001b[0;34m\u001b[0m\u001b[0;34m\u001b[0m\u001b[0m\n\u001b[0m\u001b[1;32m     44\u001b[0m \u001b[0;34m\u001b[0m\u001b[0m\n\u001b[1;32m     45\u001b[0m     \u001b[0;32mdef\u001b[0m \u001b[0m__len__\u001b[0m\u001b[0;34m(\u001b[0m\u001b[0mself\u001b[0m\u001b[0;34m)\u001b[0m\u001b[0;34m:\u001b[0m\u001b[0;34m\u001b[0m\u001b[0;34m\u001b[0m\u001b[0m\n",
        "\u001b[0;31mAttributeError\u001b[0m: description"
       ]
      }
     ],
     "persistentId": "607b9ea5-7fb0-465d-b7f8-05b402f0b361",
     "text": "classify_protein_coding_reads('SRR306838_GSM752691_hsa_br_F_1_trimmed.fq.gz', peptide_graph, peptide_ksize, verbose=True)"
    },
    "executionTime": "2019-10-04T00:26:46.961Z"
   },
   {
    "cell": {
     "executionCount": 13,
     "executionEventId": "59532b76-36d6-4d4c-9c61-ebe0f91d43ea",
     "hasError": false,
     "id": "816ba43d-df54-4f14-9fcb-8fe242d897aa",
     "outputs": [],
     "persistentId": "5d0726af-434e-49ef-a388-15a28df0d4da",
     "text": "\n\ndef six_frame_translation_no_stops(seq):\n    forward_translations = three_frame_translation_no_stops(seq)\n    reverse_translations = three_frame_translation_no_stops(seq.reverse_complement())\n    return forward_translations + reverse_translations\n\nverbose = False\n\ndef classify_protein_coding_reads(reads, peptide_graph, peptide_ksize, jaccard_minimum=0.9, first_n=None, verbose=False):\n    \n    classification_lines = []\n\n    scoring_lines = []\n\n    for i, record in enumerate(screed.open(reads)):\n        if first_n is not None and i > first_n:\n            break\n            \n        if verbose:\n            print()\n            print(record)\n            print(str(record['seq']))\n        translations = six_frame_translation_no_stops(record['seq'])\n\n        max_fraction = 0\n        for translation in translations:\n            if len(translation) < peptide_ksize:\n                continue\n            if verbose:\n                print(f\"\\t{translation}\")\n            kmers = list(set(kmerize(str(translation), peptide_ksize)))\n            hashes = [hash_murmur(kmer) for kmer in kmers]\n            n_kmers = len(kmers)\n            n_kmers_in_peptide_db = sum(1 for h in hashes if peptide_graph.get(h) > 0)\n            if n_kmers < (len(translation) - peptide_ksize + 1)/2:\n                if verbose:\n                    print(f'Low complexity sequence!!! n_kmers < (len(read.seq) - ksize + 1)/2  --> {n_kmers} < {(len(record.seq) - ksize + 1)/2}')\n                    print(record.description)\n                    print(record.seq)\n                classification_lines.append([record.description, 'low complexity'])\n                continue\n\n            kmers_in_peptide_db = {(k, h): peptide_graph.get(h) for k, h in zip(kmers, hashes)}\n            fraction_in_peptide_db = n_kmers_in_peptide_db/n_kmers\n            max_fraction = max(max_fraction, fraction_in_peptide_db)\n            if fraction_in_peptide_db > jaccard_minimum:\n                classification_lines.append([record.description, 'coding'])\n            else:\n                classification_lines.append([record.description, 'non-coding'])\n            if verbose:\n                pprint(kmers_in_peptide_db)\n                print(f'n_kmers_in_peptide_db/n_kmers: {n_kmers_in_peptide_db}/{n_kmers} = {fraction_in_peptide_db}')\n        scoring_lines.append([record.description, max_fraction])\n\n        classification_df = pd.DataFrame(classification_lines, columns=['read_id', 'classification'])\n        score_df = pd.DataFrame(scoring_lines, columns=['read_id', 'coding_score'])\n        \n        return classification_df, score_df\n    \n    \n"
    },
    "executionTime": "2019-10-04T00:26:50.841Z"
   },
   {
    "cell": {
     "executionCount": 14,
     "executionEventId": "6fb7be24-d8c6-412d-89b6-1e2b795d284d",
     "hasError": true,
     "id": "550c674d-c424-4337-8aa7-0c1fad016243",
     "outputs": [
      {
       "name": "stdout",
       "output_type": "stream",
       "text": "\n{'name': 'SRR306838.1531 Ibis_Run100924_C3PO:6:1:15718:1062/1', 'sequence': 'ACCCCCCCCCCCCCCCCCCCCCCCCCCCCCCCCCCCCCCCCCCCCCCCCCCCCCCCCCCCCCCCCCCCCCCC', 'annotations': '', 'quality': '(04147:;:9<<:7;88<<B::;<=:<:=<;>>=@>>8<;;<=;C;>;:5:;9<<::6@;E;?:C@=:9:67'}\n"
      },
      {
       "ename": "KeyError",
       "evalue": "'seq'",
       "output_type": "error",
       "traceback": [
        "\u001b[0;31m---------------------------------------------------------------------------\u001b[0m",
        "\u001b[0;31mKeyError\u001b[0m                                  Traceback (most recent call last)",
        "\u001b[0;32m<ipython-input-14-1fe5000ca2f7>\u001b[0m in \u001b[0;36m<module>\u001b[0;34m()\u001b[0m\n\u001b[0;32m----> 1\u001b[0;31m \u001b[0mclassify_protein_coding_reads\u001b[0m\u001b[0;34m(\u001b[0m\u001b[0;34m'SRR306838_GSM752691_hsa_br_F_1_trimmed.fq.gz'\u001b[0m\u001b[0;34m,\u001b[0m \u001b[0mpeptide_graph\u001b[0m\u001b[0;34m,\u001b[0m \u001b[0mpeptide_ksize\u001b[0m\u001b[0;34m,\u001b[0m \u001b[0mverbose\u001b[0m\u001b[0;34m=\u001b[0m\u001b[0;32mTrue\u001b[0m\u001b[0;34m)\u001b[0m\u001b[0;34m\u001b[0m\u001b[0;34m\u001b[0m\u001b[0m\n\u001b[0m",
        "\u001b[0;32m<ipython-input-13-b09c398e5a84>\u001b[0m in \u001b[0;36mclassify_protein_coding_reads\u001b[0;34m(reads, peptide_graph, peptide_ksize, jaccard_minimum, first_n, verbose)\u001b[0m\n\u001b[1;32m     21\u001b[0m             \u001b[0mprint\u001b[0m\u001b[0;34m(\u001b[0m\u001b[0;34m)\u001b[0m\u001b[0;34m\u001b[0m\u001b[0;34m\u001b[0m\u001b[0m\n\u001b[1;32m     22\u001b[0m             \u001b[0mprint\u001b[0m\u001b[0;34m(\u001b[0m\u001b[0mrecord\u001b[0m\u001b[0;34m)\u001b[0m\u001b[0;34m\u001b[0m\u001b[0;34m\u001b[0m\u001b[0m\n\u001b[0;32m---> 23\u001b[0;31m             \u001b[0mprint\u001b[0m\u001b[0;34m(\u001b[0m\u001b[0mstr\u001b[0m\u001b[0;34m(\u001b[0m\u001b[0mrecord\u001b[0m\u001b[0;34m[\u001b[0m\u001b[0;34m'seq'\u001b[0m\u001b[0;34m]\u001b[0m\u001b[0;34m)\u001b[0m\u001b[0;34m)\u001b[0m\u001b[0;34m\u001b[0m\u001b[0;34m\u001b[0m\u001b[0m\n\u001b[0m\u001b[1;32m     24\u001b[0m         \u001b[0mtranslations\u001b[0m \u001b[0;34m=\u001b[0m \u001b[0msix_frame_translation_no_stops\u001b[0m\u001b[0;34m(\u001b[0m\u001b[0mrecord\u001b[0m\u001b[0;34m[\u001b[0m\u001b[0;34m'seq'\u001b[0m\u001b[0;34m]\u001b[0m\u001b[0;34m)\u001b[0m\u001b[0;34m\u001b[0m\u001b[0;34m\u001b[0m\u001b[0m\n\u001b[1;32m     25\u001b[0m \u001b[0;34m\u001b[0m\u001b[0m\n",
        "\u001b[0;32m~/miniconda3/envs/kmer-hashing/lib/python3.6/site-packages/screed/screedRecord.py\u001b[0m in \u001b[0;36m__getitem__\u001b[0;34m(self, idx)\u001b[0m\n\u001b[1;32m     56\u001b[0m                 \u001b[0mtrimmed\u001b[0m\u001b[0;34m[\u001b[0m\u001b[0;34m'quality'\u001b[0m\u001b[0;34m]\u001b[0m \u001b[0;34m=\u001b[0m \u001b[0mtrimmed\u001b[0m\u001b[0;34m[\u001b[0m\u001b[0;34m'quality'\u001b[0m\u001b[0;34m]\u001b[0m\u001b[0;34m[\u001b[0m\u001b[0midx\u001b[0m\u001b[0;34m]\u001b[0m\u001b[0;34m\u001b[0m\u001b[0;34m\u001b[0m\u001b[0m\n\u001b[1;32m     57\u001b[0m             \u001b[0;32mreturn\u001b[0m \u001b[0mRecord\u001b[0m\u001b[0;34m(\u001b[0m\u001b[0;34m**\u001b[0m\u001b[0mtrimmed\u001b[0m\u001b[0;34m)\u001b[0m\u001b[0;34m\u001b[0m\u001b[0;34m\u001b[0m\u001b[0m\n\u001b[0;32m---> 58\u001b[0;31m         \u001b[0;32mreturn\u001b[0m \u001b[0mself\u001b[0m\u001b[0;34m.\u001b[0m\u001b[0md\u001b[0m\u001b[0;34m[\u001b[0m\u001b[0midx\u001b[0m\u001b[0;34m]\u001b[0m\u001b[0;34m\u001b[0m\u001b[0;34m\u001b[0m\u001b[0m\n\u001b[0m\u001b[1;32m     59\u001b[0m \u001b[0;34m\u001b[0m\u001b[0m\n\u001b[1;32m     60\u001b[0m     \u001b[0;32mdef\u001b[0m \u001b[0m__delitem__\u001b[0m\u001b[0;34m(\u001b[0m\u001b[0mself\u001b[0m\u001b[0;34m,\u001b[0m \u001b[0mkey\u001b[0m\u001b[0;34m)\u001b[0m\u001b[0;34m:\u001b[0m\u001b[0;34m\u001b[0m\u001b[0;34m\u001b[0m\u001b[0m\n",
        "\u001b[0;31mKeyError\u001b[0m: 'seq'"
       ]
      }
     ],
     "persistentId": "607b9ea5-7fb0-465d-b7f8-05b402f0b361",
     "text": "classify_protein_coding_reads('SRR306838_GSM752691_hsa_br_F_1_trimmed.fq.gz', peptide_graph, peptide_ksize, verbose=True)"
    },
    "executionTime": "2019-10-04T00:26:50.989Z"
   },
   {
    "cell": {
     "executionCount": 15,
     "executionEventId": "fffaec4c-e68b-4329-ba7a-95699e76c090",
     "hasError": false,
     "id": "816ba43d-df54-4f14-9fcb-8fe242d897aa",
     "outputs": [],
     "persistentId": "5d0726af-434e-49ef-a388-15a28df0d4da",
     "text": "\n\ndef six_frame_translation_no_stops(seq):\n    forward_translations = three_frame_translation_no_stops(seq)\n    reverse_translations = three_frame_translation_no_stops(seq.reverse_complement())\n    return forward_translations + reverse_translations\n\nverbose = False\n\ndef classify_protein_coding_reads(reads, peptide_graph, peptide_ksize, jaccard_minimum=0.9, first_n=None, verbose=False):\n    \n    classification_lines = []\n\n    scoring_lines = []\n\n    for i, record in enumerate(screed.open(reads)):\n        if first_n is not None and i > first_n:\n            break\n            \n        if verbose:\n            print()\n            print(record)\n            print(str(record['sequence']))\n        translations = six_frame_translation_no_stops(record['sequence'])\n\n        max_fraction = 0\n        for translation in translations:\n            if len(translation) < peptide_ksize:\n                continue\n            if verbose:\n                print(f\"\\t{translation}\")\n            kmers = list(set(kmerize(str(translation), peptide_ksize)))\n            hashes = [hash_murmur(kmer) for kmer in kmers]\n            n_kmers = len(kmers)\n            n_kmers_in_peptide_db = sum(1 for h in hashes if peptide_graph.get(h) > 0)\n            if n_kmers < (len(translation) - peptide_ksize + 1)/2:\n                if verbose:\n                    print(f'Low complexity sequence!!! n_kmers < (len(read.seq) - ksize + 1)/2  --> {n_kmers} < {(len(record.seq) - ksize + 1)/2}')\n                    print(record.description)\n                    print(record.seq)\n                classification_lines.append([record.description, 'low complexity'])\n                continue\n\n            kmers_in_peptide_db = {(k, h): peptide_graph.get(h) for k, h in zip(kmers, hashes)}\n            fraction_in_peptide_db = n_kmers_in_peptide_db/n_kmers\n            max_fraction = max(max_fraction, fraction_in_peptide_db)\n            if fraction_in_peptide_db > jaccard_minimum:\n                classification_lines.append([record.description, 'coding'])\n            else:\n                classification_lines.append([record.description, 'non-coding'])\n            if verbose:\n                pprint(kmers_in_peptide_db)\n                print(f'n_kmers_in_peptide_db/n_kmers: {n_kmers_in_peptide_db}/{n_kmers} = {fraction_in_peptide_db}')\n        scoring_lines.append([record.description, max_fraction])\n\n        classification_df = pd.DataFrame(classification_lines, columns=['read_id', 'classification'])\n        score_df = pd.DataFrame(scoring_lines, columns=['read_id', 'coding_score'])\n        \n        return classification_df, score_df\n    \n    \n"
    },
    "executionTime": "2019-10-04T00:26:57.728Z"
   },
   {
    "cell": {
     "executionCount": 16,
     "executionEventId": "9617bc22-6d71-41cd-b467-6a6ebc5276b6",
     "hasError": true,
     "id": "550c674d-c424-4337-8aa7-0c1fad016243",
     "outputs": [
      {
       "name": "stdout",
       "output_type": "stream",
       "text": "\n{'name': 'SRR306838.1531 Ibis_Run100924_C3PO:6:1:15718:1062/1', 'sequence': 'ACCCCCCCCCCCCCCCCCCCCCCCCCCCCCCCCCCCCCCCCCCCCCCCCCCCCCCCCCCCCCCCCCCCCCCC', 'annotations': '', 'quality': '(04147:;:9<<:7;88<<B::;<=:<:=<;>>=@>>8<;;<=;C;>;:5:;9<<::6@;E;?:C@=:9:67'}\nACCCCCCCCCCCCCCCCCCCCCCCCCCCCCCCCCCCCCCCCCCCCCCCCCCCCCCCCCCCCCCCCCCCCCCC\n"
      },
      {
       "ename": "NameError",
       "evalue": "name 'three_frame_translation_no_stops' is not defined",
       "output_type": "error",
       "traceback": [
        "\u001b[0;31m---------------------------------------------------------------------------\u001b[0m",
        "\u001b[0;31mNameError\u001b[0m                                 Traceback (most recent call last)",
        "\u001b[0;32m<ipython-input-16-1fe5000ca2f7>\u001b[0m in \u001b[0;36m<module>\u001b[0;34m()\u001b[0m\n\u001b[0;32m----> 1\u001b[0;31m \u001b[0mclassify_protein_coding_reads\u001b[0m\u001b[0;34m(\u001b[0m\u001b[0;34m'SRR306838_GSM752691_hsa_br_F_1_trimmed.fq.gz'\u001b[0m\u001b[0;34m,\u001b[0m \u001b[0mpeptide_graph\u001b[0m\u001b[0;34m,\u001b[0m \u001b[0mpeptide_ksize\u001b[0m\u001b[0;34m,\u001b[0m \u001b[0mverbose\u001b[0m\u001b[0;34m=\u001b[0m\u001b[0;32mTrue\u001b[0m\u001b[0;34m)\u001b[0m\u001b[0;34m\u001b[0m\u001b[0;34m\u001b[0m\u001b[0m\n\u001b[0m",
        "\u001b[0;32m<ipython-input-15-1e2cbc86f498>\u001b[0m in \u001b[0;36mclassify_protein_coding_reads\u001b[0;34m(reads, peptide_graph, peptide_ksize, jaccard_minimum, first_n, verbose)\u001b[0m\n\u001b[1;32m     22\u001b[0m             \u001b[0mprint\u001b[0m\u001b[0;34m(\u001b[0m\u001b[0mrecord\u001b[0m\u001b[0;34m)\u001b[0m\u001b[0;34m\u001b[0m\u001b[0;34m\u001b[0m\u001b[0m\n\u001b[1;32m     23\u001b[0m             \u001b[0mprint\u001b[0m\u001b[0;34m(\u001b[0m\u001b[0mstr\u001b[0m\u001b[0;34m(\u001b[0m\u001b[0mrecord\u001b[0m\u001b[0;34m[\u001b[0m\u001b[0;34m'sequence'\u001b[0m\u001b[0;34m]\u001b[0m\u001b[0;34m)\u001b[0m\u001b[0;34m)\u001b[0m\u001b[0;34m\u001b[0m\u001b[0;34m\u001b[0m\u001b[0m\n\u001b[0;32m---> 24\u001b[0;31m         \u001b[0mtranslations\u001b[0m \u001b[0;34m=\u001b[0m \u001b[0msix_frame_translation_no_stops\u001b[0m\u001b[0;34m(\u001b[0m\u001b[0mrecord\u001b[0m\u001b[0;34m[\u001b[0m\u001b[0;34m'sequence'\u001b[0m\u001b[0;34m]\u001b[0m\u001b[0;34m)\u001b[0m\u001b[0;34m\u001b[0m\u001b[0;34m\u001b[0m\u001b[0m\n\u001b[0m\u001b[1;32m     25\u001b[0m \u001b[0;34m\u001b[0m\u001b[0m\n\u001b[1;32m     26\u001b[0m         \u001b[0mmax_fraction\u001b[0m \u001b[0;34m=\u001b[0m \u001b[0;36m0\u001b[0m\u001b[0;34m\u001b[0m\u001b[0;34m\u001b[0m\u001b[0m\n",
        "\u001b[0;32m<ipython-input-15-1e2cbc86f498>\u001b[0m in \u001b[0;36msix_frame_translation_no_stops\u001b[0;34m(seq)\u001b[0m\n\u001b[1;32m      2\u001b[0m \u001b[0;34m\u001b[0m\u001b[0m\n\u001b[1;32m      3\u001b[0m \u001b[0;32mdef\u001b[0m \u001b[0msix_frame_translation_no_stops\u001b[0m\u001b[0;34m(\u001b[0m\u001b[0mseq\u001b[0m\u001b[0;34m)\u001b[0m\u001b[0;34m:\u001b[0m\u001b[0;34m\u001b[0m\u001b[0;34m\u001b[0m\u001b[0m\n\u001b[0;32m----> 4\u001b[0;31m     \u001b[0mforward_translations\u001b[0m \u001b[0;34m=\u001b[0m \u001b[0mthree_frame_translation_no_stops\u001b[0m\u001b[0;34m(\u001b[0m\u001b[0mseq\u001b[0m\u001b[0;34m)\u001b[0m\u001b[0;34m\u001b[0m\u001b[0;34m\u001b[0m\u001b[0m\n\u001b[0m\u001b[1;32m      5\u001b[0m     \u001b[0mreverse_translations\u001b[0m \u001b[0;34m=\u001b[0m \u001b[0mthree_frame_translation_no_stops\u001b[0m\u001b[0;34m(\u001b[0m\u001b[0mseq\u001b[0m\u001b[0;34m.\u001b[0m\u001b[0mreverse_complement\u001b[0m\u001b[0;34m(\u001b[0m\u001b[0;34m)\u001b[0m\u001b[0;34m)\u001b[0m\u001b[0;34m\u001b[0m\u001b[0;34m\u001b[0m\u001b[0m\n\u001b[1;32m      6\u001b[0m     \u001b[0;32mreturn\u001b[0m \u001b[0mforward_translations\u001b[0m \u001b[0;34m+\u001b[0m \u001b[0mreverse_translations\u001b[0m\u001b[0;34m\u001b[0m\u001b[0;34m\u001b[0m\u001b[0m\n",
        "\u001b[0;31mNameError\u001b[0m: name 'three_frame_translation_no_stops' is not defined"
       ]
      }
     ],
     "persistentId": "607b9ea5-7fb0-465d-b7f8-05b402f0b361",
     "text": "classify_protein_coding_reads('SRR306838_GSM752691_hsa_br_F_1_trimmed.fq.gz', peptide_graph, peptide_ksize, verbose=True)"
    },
    "executionTime": "2019-10-04T00:26:58.127Z"
   },
   {
    "cell": {
     "executionCount": 17,
     "executionEventId": "aa917c44-1f3b-4d5c-a7e4-3320156f6843",
     "hasError": false,
     "id": "dd90f18b-498a-479f-acbe-87a4db9eff9a",
     "outputs": [
      {
       "name": "stdout",
       "output_type": "stream",
       "text": "SRR306838.10559374 Ibis_Run100924_C3PO:6:51:17601:17119/1\nCGCTTGCTTAATACTGACATCAATAATATTAGGAAAATCGCAATATAACTGTAAATCCTGTTCTGTC\n[Seq('RLLNTDINNIRKIAI*L*ILFC', HasStopCodon(ExtendedIUPACProtein(), '*')), Seq('ACLILTSIILGKSQYNCKSCSV', ExtendedIUPACProtein()), Seq('LA*Y*HQ*Y*ENRNITVNPVL', HasStopCodon(ExtendedIUPACProtein(), '*'))]\n[Seq('LSCPKCQYNAKRIIITTVIIRS', ExtendedIUPACProtein()), Seq('CLVLNVNITLKGL**LQS*FVR', HasStopCodon(ExtendedIUPACProtein(), '*')), Seq('VLS*MSI*R*KDYNNYSHNSF', HasStopCodon(ExtendedIUPACProtein(), '*'))]\nSRR306838.6196593 Ibis_Run100924_C3PO:6:29:16733:12435/1\nTCTAGAATGTGAAATAACGTACTTCATGTGTCTTCTTACCAAAAATACCAACGATAAGGGGAAAAGCCATC\n[Seq('SRM*NNVLHVSSYQKYQR*GEKP', HasStopCodon(ExtendedIUPACProtein(), '*')), Seq('LECEITYFMCLLTKNTNDKGKSH', ExtendedIUPACProtein()), Seq('*NVK*RTSCVFLPKIPTIRGKAI', HasStopCodon(ExtendedIUPACProtein(), '*'))]\n[Seq('LPKRGIATIKTILLCTSCNKV*D', HasStopCodon(ExtendedIUPACProtein(), '*')), Seq('YRKGE*QP*KPFFCVLHAIKCKI', HasStopCodon(ExtendedIUPACProtein(), '*')), Seq('TEKGNSNHKNHSSVYFMQ*SVRS', HasStopCodon(ExtendedIUPACProtein(), '*'))]\nSRR306838.20767303 Ibis_Run100924_C3PO:6:104:6864:5062/1\nCAATCATCATCACTTTCTAATTCCAGAATATTTTCATCACCCCAAAAAGAAATCCTAAATCCATTAGC\n[Seq('QSSSLSNSRIFSSPQKEILNPL', ExtendedIUPACProtein()), Seq('NHHHFLIPEYFHHPKKKS*IH*', HasStopCodon(ExtendedIUPACProtein(), '*')), Seq('IIITF*FQNIFITPKRNPKSIS', HasStopCodon(ExtendedIUPACProtein(), '*'))]\n[Seq('RLPKS*RKTPLLL*DLNLSLLL', HasStopCodon(ExtendedIUPACProtein(), '*')), Seq('DYLNPKEKPHYFYKTLIFHYY*', HasStopCodon(ExtendedIUPACProtein(), '*')), Seq('IT*ILKKNPTTFIRP*SFTTTN', HasStopCodon(ExtendedIUPACProtein(), '*'))]\nSRR306838.12582274 Ibis_Run100924_C3PO:6:62:11779:17975/1\nCAAAAGTGAAGACCTCCCTGGGGTCTTCAAAGACAGCCTTTGCTCTCCATGTAGCCAATGGTGCTCT\n[Seq('QK*RPPWGLQRQPLLSM*PMVL', HasStopCodon(ExtendedIUPACProtein(), '*')), Seq('KSEDLPGVFKDSLCSPCSQWCS', ExtendedIUPACProtein()), Seq('KVKTSLGSSKTAFALHVANGA', ExtendedIUPACProtein())]\n[Seq('SRGNRCTSRFRQKLLGSLQK*K', HasStopCodon(ExtendedIUPACProtein(), '*')), Seq('LVVTDVPLVSDRNFWGPSRSEN', ExtendedIUPACProtein()), Seq('SW*PMYLSFPTETSGVPPEVK', HasStopCodon(ExtendedIUPACProtein(), '*'))]\nSRR306838.13334230 Ibis_Run100924_C3PO:6:66:16579:20350/1\nGTAACCCTTAATTCCTCAGAAAAAATAGACAACATAGTGGAGTGGGATGGAGGAAC\n[Seq('VTLNSSEKIDNIVEWDGG', ExtendedIUPACProtein()), Seq('*PLIPQKK*TT*WSGMEE', HasStopCodon(ExtendedIUPACProtein(), '*')), Seq('NP*FLRKNRQHSGVGWRN', HasStopCodon(ExtendedIUPACProtein(), '*'))]\n[Seq('QGGRVR*YNR*KRLLNSQ', HasStopCodon(ExtendedIUPACProtein(), '*')), Seq('KEVG*GDTTDKKDSLIPN', HasStopCodon(ExtendedIUPACProtein(), '*')), Seq('RR*GEVIQQIKKTP*FPM', HasStopCodon(ExtendedIUPACProtein(), '*'))]\n"
      },
      {
       "name": "stderr",
       "output_type": "stream",
       "text": "/home/olga/miniconda3/envs/kmer-hashing/lib/python3.6/site-packages/Bio/Seq.py:2715: BiopythonWarning: Partial codon, len(sequence) not a multiple of three. Explicitly trim the sequence or add trailing N before translation. This may become an error in future.\n  BiopythonWarning)\n"
      }
     ],
     "persistentId": "39699f59-df26-4089-a7b8-519f138c6091",
     "text": "def three_frame_translation(seq):\n    for frame in range(3):\n        translation = seq[frame:].translate()\n        yield translation\n        \ndef three_frame_translation_no_stops(seq):\n    return [t for t in three_frame_translation(seq) if '*' not in t]\n\n\nwith gzip.open('SRR306838_GSM752691_hsa_br_F_1_trimmed_subsampled.fq.gz', 'rt') as f:\n    for i, record in zip(range(5), SeqIO.parse(f, 'fastq')):\n        print(record.description)\n        print(str(record.seq))\n        print(list(three_frame_translation(record.seq)))\n        print(list(three_frame_translation(record.seq[::-1])))"
    },
    "executionTime": "2019-10-04T00:27:09.419Z"
   },
   {
    "cell": {
     "executionCount": 18,
     "executionEventId": "d7c4f145-f9ab-4a08-9898-930424ebe4f0",
     "hasError": false,
     "id": "816ba43d-df54-4f14-9fcb-8fe242d897aa",
     "outputs": [],
     "persistentId": "5d0726af-434e-49ef-a388-15a28df0d4da",
     "text": "\n\ndef six_frame_translation_no_stops(seq):\n    forward_translations = three_frame_translation_no_stops(seq)\n    reverse_translations = three_frame_translation_no_stops(seq.reverse_complement())\n    return forward_translations + reverse_translations\n\nverbose = False\n\ndef classify_protein_coding_reads(reads, peptide_graph, peptide_ksize, jaccard_minimum=0.9, first_n=None, verbose=False):\n    \n    classification_lines = []\n\n    scoring_lines = []\n\n    for i, record in enumerate(screed.open(reads)):\n        if first_n is not None and i > first_n:\n            break\n            \n        if verbose:\n            print()\n            print(record)\n            print(str(record['sequence']))\n        translations = six_frame_translation_no_stops(record['sequence'])\n\n        max_fraction = 0\n        for translation in translations:\n            if len(translation) < peptide_ksize:\n                continue\n            if verbose:\n                print(f\"\\t{translation}\")\n            kmers = list(set(kmerize(str(translation), peptide_ksize)))\n            hashes = [hash_murmur(kmer) for kmer in kmers]\n            n_kmers = len(kmers)\n            n_kmers_in_peptide_db = sum(1 for h in hashes if peptide_graph.get(h) > 0)\n            if n_kmers < (len(translation) - peptide_ksize + 1)/2:\n                if verbose:\n                    print(f'Low complexity sequence!!! n_kmers < (len(read.seq) - ksize + 1)/2  --> {n_kmers} < {(len(record.seq) - ksize + 1)/2}')\n                    print(record.description)\n                    print(record.seq)\n                classification_lines.append([record.description, 'low complexity'])\n                continue\n\n            kmers_in_peptide_db = {(k, h): peptide_graph.get(h) for k, h in zip(kmers, hashes)}\n            fraction_in_peptide_db = n_kmers_in_peptide_db/n_kmers\n            max_fraction = max(max_fraction, fraction_in_peptide_db)\n            if fraction_in_peptide_db > jaccard_minimum:\n                classification_lines.append([record.description, 'coding'])\n            else:\n                classification_lines.append([record.description, 'non-coding'])\n            if verbose:\n                pprint(kmers_in_peptide_db)\n                print(f'n_kmers_in_peptide_db/n_kmers: {n_kmers_in_peptide_db}/{n_kmers} = {fraction_in_peptide_db}')\n        scoring_lines.append([record.description, max_fraction])\n\n        classification_df = pd.DataFrame(classification_lines, columns=['read_id', 'classification'])\n        score_df = pd.DataFrame(scoring_lines, columns=['read_id', 'coding_score'])\n        \n        return classification_df, score_df\n    \n    \n"
    },
    "executionTime": "2019-10-04T00:27:13.104Z"
   },
   {
    "cell": {
     "executionCount": 19,
     "executionEventId": "2b2dd3d7-f34c-4bbb-823f-a07740452aa2",
     "hasError": true,
     "id": "550c674d-c424-4337-8aa7-0c1fad016243",
     "outputs": [
      {
       "name": "stdout",
       "output_type": "stream",
       "text": "\n{'name': 'SRR306838.1531 Ibis_Run100924_C3PO:6:1:15718:1062/1', 'sequence': 'ACCCCCCCCCCCCCCCCCCCCCCCCCCCCCCCCCCCCCCCCCCCCCCCCCCCCCCCCCCCCCCCCCCCCCCC', 'annotations': '', 'quality': '(04147:;:9<<:7;88<<B::;<=:<:=<;>>=@>>8<;;<=;C;>;:5:;9<<::6@;E;?:C@=:9:67'}\nACCCCCCCCCCCCCCCCCCCCCCCCCCCCCCCCCCCCCCCCCCCCCCCCCCCCCCCCCCCCCCCCCCCCCCC\n"
      },
      {
       "ename": "TypeError",
       "evalue": "translate() takes exactly one argument (0 given)",
       "output_type": "error",
       "traceback": [
        "\u001b[0;31m---------------------------------------------------------------------------\u001b[0m",
        "\u001b[0;31mTypeError\u001b[0m                                 Traceback (most recent call last)",
        "\u001b[0;32m<ipython-input-19-1fe5000ca2f7>\u001b[0m in \u001b[0;36m<module>\u001b[0;34m()\u001b[0m\n\u001b[0;32m----> 1\u001b[0;31m \u001b[0mclassify_protein_coding_reads\u001b[0m\u001b[0;34m(\u001b[0m\u001b[0;34m'SRR306838_GSM752691_hsa_br_F_1_trimmed.fq.gz'\u001b[0m\u001b[0;34m,\u001b[0m \u001b[0mpeptide_graph\u001b[0m\u001b[0;34m,\u001b[0m \u001b[0mpeptide_ksize\u001b[0m\u001b[0;34m,\u001b[0m \u001b[0mverbose\u001b[0m\u001b[0;34m=\u001b[0m\u001b[0;32mTrue\u001b[0m\u001b[0;34m)\u001b[0m\u001b[0;34m\u001b[0m\u001b[0;34m\u001b[0m\u001b[0m\n\u001b[0m",
        "\u001b[0;32m<ipython-input-18-1e2cbc86f498>\u001b[0m in \u001b[0;36mclassify_protein_coding_reads\u001b[0;34m(reads, peptide_graph, peptide_ksize, jaccard_minimum, first_n, verbose)\u001b[0m\n\u001b[1;32m     22\u001b[0m             \u001b[0mprint\u001b[0m\u001b[0;34m(\u001b[0m\u001b[0mrecord\u001b[0m\u001b[0;34m)\u001b[0m\u001b[0;34m\u001b[0m\u001b[0;34m\u001b[0m\u001b[0m\n\u001b[1;32m     23\u001b[0m             \u001b[0mprint\u001b[0m\u001b[0;34m(\u001b[0m\u001b[0mstr\u001b[0m\u001b[0;34m(\u001b[0m\u001b[0mrecord\u001b[0m\u001b[0;34m[\u001b[0m\u001b[0;34m'sequence'\u001b[0m\u001b[0;34m]\u001b[0m\u001b[0;34m)\u001b[0m\u001b[0;34m)\u001b[0m\u001b[0;34m\u001b[0m\u001b[0;34m\u001b[0m\u001b[0m\n\u001b[0;32m---> 24\u001b[0;31m         \u001b[0mtranslations\u001b[0m \u001b[0;34m=\u001b[0m \u001b[0msix_frame_translation_no_stops\u001b[0m\u001b[0;34m(\u001b[0m\u001b[0mrecord\u001b[0m\u001b[0;34m[\u001b[0m\u001b[0;34m'sequence'\u001b[0m\u001b[0;34m]\u001b[0m\u001b[0;34m)\u001b[0m\u001b[0;34m\u001b[0m\u001b[0;34m\u001b[0m\u001b[0m\n\u001b[0m\u001b[1;32m     25\u001b[0m \u001b[0;34m\u001b[0m\u001b[0m\n\u001b[1;32m     26\u001b[0m         \u001b[0mmax_fraction\u001b[0m \u001b[0;34m=\u001b[0m \u001b[0;36m0\u001b[0m\u001b[0;34m\u001b[0m\u001b[0;34m\u001b[0m\u001b[0m\n",
        "\u001b[0;32m<ipython-input-18-1e2cbc86f498>\u001b[0m in \u001b[0;36msix_frame_translation_no_stops\u001b[0;34m(seq)\u001b[0m\n\u001b[1;32m      2\u001b[0m \u001b[0;34m\u001b[0m\u001b[0m\n\u001b[1;32m      3\u001b[0m \u001b[0;32mdef\u001b[0m \u001b[0msix_frame_translation_no_stops\u001b[0m\u001b[0;34m(\u001b[0m\u001b[0mseq\u001b[0m\u001b[0;34m)\u001b[0m\u001b[0;34m:\u001b[0m\u001b[0;34m\u001b[0m\u001b[0;34m\u001b[0m\u001b[0m\n\u001b[0;32m----> 4\u001b[0;31m     \u001b[0mforward_translations\u001b[0m \u001b[0;34m=\u001b[0m \u001b[0mthree_frame_translation_no_stops\u001b[0m\u001b[0;34m(\u001b[0m\u001b[0mseq\u001b[0m\u001b[0;34m)\u001b[0m\u001b[0;34m\u001b[0m\u001b[0;34m\u001b[0m\u001b[0m\n\u001b[0m\u001b[1;32m      5\u001b[0m     \u001b[0mreverse_translations\u001b[0m \u001b[0;34m=\u001b[0m \u001b[0mthree_frame_translation_no_stops\u001b[0m\u001b[0;34m(\u001b[0m\u001b[0mseq\u001b[0m\u001b[0;34m.\u001b[0m\u001b[0mreverse_complement\u001b[0m\u001b[0;34m(\u001b[0m\u001b[0;34m)\u001b[0m\u001b[0;34m)\u001b[0m\u001b[0;34m\u001b[0m\u001b[0;34m\u001b[0m\u001b[0m\n\u001b[1;32m      6\u001b[0m     \u001b[0;32mreturn\u001b[0m \u001b[0mforward_translations\u001b[0m \u001b[0;34m+\u001b[0m \u001b[0mreverse_translations\u001b[0m\u001b[0;34m\u001b[0m\u001b[0;34m\u001b[0m\u001b[0m\n",
        "\u001b[0;32m<ipython-input-17-a4d7274eaa8c>\u001b[0m in \u001b[0;36mthree_frame_translation_no_stops\u001b[0;34m(seq)\u001b[0m\n\u001b[1;32m      5\u001b[0m \u001b[0;34m\u001b[0m\u001b[0m\n\u001b[1;32m      6\u001b[0m \u001b[0;32mdef\u001b[0m \u001b[0mthree_frame_translation_no_stops\u001b[0m\u001b[0;34m(\u001b[0m\u001b[0mseq\u001b[0m\u001b[0;34m)\u001b[0m\u001b[0;34m:\u001b[0m\u001b[0;34m\u001b[0m\u001b[0;34m\u001b[0m\u001b[0m\n\u001b[0;32m----> 7\u001b[0;31m     \u001b[0;32mreturn\u001b[0m \u001b[0;34m[\u001b[0m\u001b[0mt\u001b[0m \u001b[0;32mfor\u001b[0m \u001b[0mt\u001b[0m \u001b[0;32min\u001b[0m \u001b[0mthree_frame_translation\u001b[0m\u001b[0;34m(\u001b[0m\u001b[0mseq\u001b[0m\u001b[0;34m)\u001b[0m \u001b[0;32mif\u001b[0m \u001b[0;34m'*'\u001b[0m \u001b[0;32mnot\u001b[0m \u001b[0;32min\u001b[0m \u001b[0mt\u001b[0m\u001b[0;34m]\u001b[0m\u001b[0;34m\u001b[0m\u001b[0;34m\u001b[0m\u001b[0m\n\u001b[0m\u001b[1;32m      8\u001b[0m \u001b[0;34m\u001b[0m\u001b[0m\n\u001b[1;32m      9\u001b[0m \u001b[0;34m\u001b[0m\u001b[0m\n",
        "\u001b[0;32m<ipython-input-17-a4d7274eaa8c>\u001b[0m in \u001b[0;36m<listcomp>\u001b[0;34m(.0)\u001b[0m\n\u001b[1;32m      5\u001b[0m \u001b[0;34m\u001b[0m\u001b[0m\n\u001b[1;32m      6\u001b[0m \u001b[0;32mdef\u001b[0m \u001b[0mthree_frame_translation_no_stops\u001b[0m\u001b[0;34m(\u001b[0m\u001b[0mseq\u001b[0m\u001b[0;34m)\u001b[0m\u001b[0;34m:\u001b[0m\u001b[0;34m\u001b[0m\u001b[0;34m\u001b[0m\u001b[0m\n\u001b[0;32m----> 7\u001b[0;31m     \u001b[0;32mreturn\u001b[0m \u001b[0;34m[\u001b[0m\u001b[0mt\u001b[0m \u001b[0;32mfor\u001b[0m \u001b[0mt\u001b[0m \u001b[0;32min\u001b[0m \u001b[0mthree_frame_translation\u001b[0m\u001b[0;34m(\u001b[0m\u001b[0mseq\u001b[0m\u001b[0;34m)\u001b[0m \u001b[0;32mif\u001b[0m \u001b[0;34m'*'\u001b[0m \u001b[0;32mnot\u001b[0m \u001b[0;32min\u001b[0m \u001b[0mt\u001b[0m\u001b[0;34m]\u001b[0m\u001b[0;34m\u001b[0m\u001b[0;34m\u001b[0m\u001b[0m\n\u001b[0m\u001b[1;32m      8\u001b[0m \u001b[0;34m\u001b[0m\u001b[0m\n\u001b[1;32m      9\u001b[0m \u001b[0;34m\u001b[0m\u001b[0m\n",
        "\u001b[0;32m<ipython-input-17-a4d7274eaa8c>\u001b[0m in \u001b[0;36mthree_frame_translation\u001b[0;34m(seq)\u001b[0m\n\u001b[1;32m      1\u001b[0m \u001b[0;32mdef\u001b[0m \u001b[0mthree_frame_translation\u001b[0m\u001b[0;34m(\u001b[0m\u001b[0mseq\u001b[0m\u001b[0;34m)\u001b[0m\u001b[0;34m:\u001b[0m\u001b[0;34m\u001b[0m\u001b[0;34m\u001b[0m\u001b[0m\n\u001b[1;32m      2\u001b[0m     \u001b[0;32mfor\u001b[0m \u001b[0mframe\u001b[0m \u001b[0;32min\u001b[0m \u001b[0mrange\u001b[0m\u001b[0;34m(\u001b[0m\u001b[0;36m3\u001b[0m\u001b[0;34m)\u001b[0m\u001b[0;34m:\u001b[0m\u001b[0;34m\u001b[0m\u001b[0;34m\u001b[0m\u001b[0m\n\u001b[0;32m----> 3\u001b[0;31m         \u001b[0mtranslation\u001b[0m \u001b[0;34m=\u001b[0m \u001b[0mseq\u001b[0m\u001b[0;34m[\u001b[0m\u001b[0mframe\u001b[0m\u001b[0;34m:\u001b[0m\u001b[0;34m]\u001b[0m\u001b[0;34m.\u001b[0m\u001b[0mtranslate\u001b[0m\u001b[0;34m(\u001b[0m\u001b[0;34m)\u001b[0m\u001b[0;34m\u001b[0m\u001b[0;34m\u001b[0m\u001b[0m\n\u001b[0m\u001b[1;32m      4\u001b[0m         \u001b[0;32myield\u001b[0m \u001b[0mtranslation\u001b[0m\u001b[0;34m\u001b[0m\u001b[0;34m\u001b[0m\u001b[0m\n\u001b[1;32m      5\u001b[0m \u001b[0;34m\u001b[0m\u001b[0m\n",
        "\u001b[0;31mTypeError\u001b[0m: translate() takes exactly one argument (0 given)"
       ]
      }
     ],
     "persistentId": "607b9ea5-7fb0-465d-b7f8-05b402f0b361",
     "text": "classify_protein_coding_reads('SRR306838_GSM752691_hsa_br_F_1_trimmed.fq.gz', peptide_graph, peptide_ksize, verbose=True)"
    },
    "executionTime": "2019-10-04T00:27:13.297Z"
   },
   {
    "cell": {
     "executionCount": 20,
     "executionEventId": "b34bdd30-5391-4337-83a3-222598bc2c0e",
     "hasError": false,
     "id": "816ba43d-df54-4f14-9fcb-8fe242d897aa",
     "outputs": [],
     "persistentId": "5d0726af-434e-49ef-a388-15a28df0d4da",
     "text": "\n\ndef six_frame_translation_no_stops(seq):\n    forward_translations = three_frame_translation_no_stops(seq)\n    reverse_translations = three_frame_translation_no_stops(seq.reverse_complement())\n    return forward_translations + reverse_translations\n\nverbose = False\n\ndef classify_protein_coding_reads(reads, peptide_graph, peptide_ksize, jaccard_minimum=0.9, first_n=None, verbose=False):\n    \n    classification_lines = []\n\n    scoring_lines = []\n\n    with gzip.open(reads, 'rt') as f:\n        for record in SeqIO.parse(f, 'fastq'):\n            if first_n is not None and i > first_n:\n                break\n\n            if verbose:\n                print()\n                print(record)\n                print(str(record['sequence']))\n            translations = six_frame_translation_no_stops(record['sequence'])\n\n            max_fraction = 0\n            for translation in translations:\n                if len(translation) < peptide_ksize:\n                    continue\n                if verbose:\n                    print(f\"\\t{translation}\")\n                kmers = list(set(kmerize(str(translation), peptide_ksize)))\n                hashes = [hash_murmur(kmer) for kmer in kmers]\n                n_kmers = len(kmers)\n                n_kmers_in_peptide_db = sum(1 for h in hashes if peptide_graph.get(h) > 0)\n                if n_kmers < (len(translation) - peptide_ksize + 1)/2:\n                    if verbose:\n                        print(f'Low complexity sequence!!! n_kmers < (len(read.seq) - ksize + 1)/2  --> {n_kmers} < {(len(record.seq) - ksize + 1)/2}')\n                        print(record.description)\n                        print(record.seq)\n                    classification_lines.append([record.description, 'low complexity'])\n                    continue\n\n                kmers_in_peptide_db = {(k, h): peptide_graph.get(h) for k, h in zip(kmers, hashes)}\n                fraction_in_peptide_db = n_kmers_in_peptide_db/n_kmers\n                max_fraction = max(max_fraction, fraction_in_peptide_db)\n                if fraction_in_peptide_db > jaccard_minimum:\n                    classification_lines.append([record.description, 'coding'])\n                else:\n                    classification_lines.append([record.description, 'non-coding'])\n                if verbose:\n                    pprint(kmers_in_peptide_db)\n                    print(f'n_kmers_in_peptide_db/n_kmers: {n_kmers_in_peptide_db}/{n_kmers} = {fraction_in_peptide_db}')\n                scoring_lines.append([record.description, max_fraction])\n\n        classification_df = pd.DataFrame(classification_lines, columns=['read_id', 'classification'])\n        score_df = pd.DataFrame(scoring_lines, columns=['read_id', 'coding_score'])\n        \n        return classification_df, score_df\n    \n    \n"
    },
    "executionTime": "2019-10-04T00:27:41.231Z"
   },
   {
    "cell": {
     "executionCount": 21,
     "executionEventId": "7123d7e4-2b66-49e9-960e-dd37924f60c1",
     "hasError": true,
     "id": "550c674d-c424-4337-8aa7-0c1fad016243",
     "outputs": [
      {
       "name": "stdout",
       "output_type": "stream",
       "text": "\nID: SRR306838.1531\nName: SRR306838.1531\nDescription: SRR306838.1531 Ibis_Run100924_C3PO:6:1:15718:1062/1\nNumber of features: 0\nPer letter annotation for: phred_quality\nSeq('ACCCCCCCCCCCCCCCCCCCCCCCCCCCCCCCCCCCCCCCCCCCCCCCCCCCCC...CCC', SingleLetterAlphabet())\n"
      },
      {
       "ename": "ValueError",
       "evalue": "Invalid index",
       "output_type": "error",
       "traceback": [
        "\u001b[0;31m---------------------------------------------------------------------------\u001b[0m",
        "\u001b[0;31mValueError\u001b[0m                                Traceback (most recent call last)",
        "\u001b[0;32m<ipython-input-21-1fe5000ca2f7>\u001b[0m in \u001b[0;36m<module>\u001b[0;34m()\u001b[0m\n\u001b[0;32m----> 1\u001b[0;31m \u001b[0mclassify_protein_coding_reads\u001b[0m\u001b[0;34m(\u001b[0m\u001b[0;34m'SRR306838_GSM752691_hsa_br_F_1_trimmed.fq.gz'\u001b[0m\u001b[0;34m,\u001b[0m \u001b[0mpeptide_graph\u001b[0m\u001b[0;34m,\u001b[0m \u001b[0mpeptide_ksize\u001b[0m\u001b[0;34m,\u001b[0m \u001b[0mverbose\u001b[0m\u001b[0;34m=\u001b[0m\u001b[0;32mTrue\u001b[0m\u001b[0;34m)\u001b[0m\u001b[0;34m\u001b[0m\u001b[0;34m\u001b[0m\u001b[0m\n\u001b[0m",
        "\u001b[0;32m<ipython-input-20-50d9bb04de19>\u001b[0m in \u001b[0;36mclassify_protein_coding_reads\u001b[0;34m(reads, peptide_graph, peptide_ksize, jaccard_minimum, first_n, verbose)\u001b[0m\n\u001b[1;32m     22\u001b[0m                 \u001b[0mprint\u001b[0m\u001b[0;34m(\u001b[0m\u001b[0;34m)\u001b[0m\u001b[0;34m\u001b[0m\u001b[0;34m\u001b[0m\u001b[0m\n\u001b[1;32m     23\u001b[0m                 \u001b[0mprint\u001b[0m\u001b[0;34m(\u001b[0m\u001b[0mrecord\u001b[0m\u001b[0;34m)\u001b[0m\u001b[0;34m\u001b[0m\u001b[0;34m\u001b[0m\u001b[0m\n\u001b[0;32m---> 24\u001b[0;31m                 \u001b[0mprint\u001b[0m\u001b[0;34m(\u001b[0m\u001b[0mstr\u001b[0m\u001b[0;34m(\u001b[0m\u001b[0mrecord\u001b[0m\u001b[0;34m[\u001b[0m\u001b[0;34m'sequence'\u001b[0m\u001b[0;34m]\u001b[0m\u001b[0;34m)\u001b[0m\u001b[0;34m)\u001b[0m\u001b[0;34m\u001b[0m\u001b[0;34m\u001b[0m\u001b[0m\n\u001b[0m\u001b[1;32m     25\u001b[0m             \u001b[0mtranslations\u001b[0m \u001b[0;34m=\u001b[0m \u001b[0msix_frame_translation_no_stops\u001b[0m\u001b[0;34m(\u001b[0m\u001b[0mrecord\u001b[0m\u001b[0;34m[\u001b[0m\u001b[0;34m'sequence'\u001b[0m\u001b[0;34m]\u001b[0m\u001b[0;34m)\u001b[0m\u001b[0;34m\u001b[0m\u001b[0;34m\u001b[0m\u001b[0m\n\u001b[1;32m     26\u001b[0m \u001b[0;34m\u001b[0m\u001b[0m\n",
        "\u001b[0;32m~/miniconda3/envs/kmer-hashing/lib/python3.6/site-packages/Bio/SeqRecord.py\u001b[0m in \u001b[0;36m__getitem__\u001b[0;34m(self, index)\u001b[0m\n\u001b[1;32m    489\u001b[0m \u001b[0;34m\u001b[0m\u001b[0m\n\u001b[1;32m    490\u001b[0m             \u001b[0;32mreturn\u001b[0m \u001b[0manswer\u001b[0m\u001b[0;34m\u001b[0m\u001b[0;34m\u001b[0m\u001b[0m\n\u001b[0;32m--> 491\u001b[0;31m         \u001b[0;32mraise\u001b[0m \u001b[0mValueError\u001b[0m\u001b[0;34m(\u001b[0m\u001b[0;34m\"Invalid index\"\u001b[0m\u001b[0;34m)\u001b[0m\u001b[0;34m\u001b[0m\u001b[0;34m\u001b[0m\u001b[0m\n\u001b[0m\u001b[1;32m    492\u001b[0m \u001b[0;34m\u001b[0m\u001b[0m\n\u001b[1;32m    493\u001b[0m     \u001b[0;32mdef\u001b[0m \u001b[0m__iter__\u001b[0m\u001b[0;34m(\u001b[0m\u001b[0mself\u001b[0m\u001b[0;34m)\u001b[0m\u001b[0;34m:\u001b[0m\u001b[0;34m\u001b[0m\u001b[0;34m\u001b[0m\u001b[0m\n",
        "\u001b[0;31mValueError\u001b[0m: Invalid index"
       ]
      }
     ],
     "persistentId": "607b9ea5-7fb0-465d-b7f8-05b402f0b361",
     "text": "classify_protein_coding_reads('SRR306838_GSM752691_hsa_br_F_1_trimmed.fq.gz', peptide_graph, peptide_ksize, verbose=True)"
    },
    "executionTime": "2019-10-04T00:27:42.091Z"
   },
   {
    "cell": {
     "executionCount": 22,
     "executionEventId": "6251d561-f3ee-4b65-9398-11df34aa07c0",
     "hasError": true,
     "id": "550c674d-c424-4337-8aa7-0c1fad016243",
     "outputs": [
      {
       "ename": "ValueError",
       "evalue": "Invalid index",
       "output_type": "error",
       "traceback": [
        "\u001b[0;31m---------------------------------------------------------------------------\u001b[0m",
        "\u001b[0;31mValueError\u001b[0m                                Traceback (most recent call last)",
        "\u001b[0;32m<ipython-input-22-68bf2f755b8f>\u001b[0m in \u001b[0;36m<module>\u001b[0;34m()\u001b[0m\n\u001b[0;32m----> 1\u001b[0;31m \u001b[0mclassify_protein_coding_reads\u001b[0m\u001b[0;34m(\u001b[0m\u001b[0;34m'SRR306838_GSM752691_hsa_br_F_1_trimmed.fq.gz'\u001b[0m\u001b[0;34m,\u001b[0m \u001b[0mpeptide_graph\u001b[0m\u001b[0;34m,\u001b[0m \u001b[0mpeptide_ksize\u001b[0m\u001b[0;34m,\u001b[0m \u001b[0mverbose\u001b[0m\u001b[0;34m=\u001b[0m\u001b[0;32mFalse\u001b[0m\u001b[0;34m)\u001b[0m\u001b[0;34m\u001b[0m\u001b[0;34m\u001b[0m\u001b[0m\n\u001b[0m",
        "\u001b[0;32m<ipython-input-20-50d9bb04de19>\u001b[0m in \u001b[0;36mclassify_protein_coding_reads\u001b[0;34m(reads, peptide_graph, peptide_ksize, jaccard_minimum, first_n, verbose)\u001b[0m\n\u001b[1;32m     23\u001b[0m                 \u001b[0mprint\u001b[0m\u001b[0;34m(\u001b[0m\u001b[0mrecord\u001b[0m\u001b[0;34m)\u001b[0m\u001b[0;34m\u001b[0m\u001b[0;34m\u001b[0m\u001b[0m\n\u001b[1;32m     24\u001b[0m                 \u001b[0mprint\u001b[0m\u001b[0;34m(\u001b[0m\u001b[0mstr\u001b[0m\u001b[0;34m(\u001b[0m\u001b[0mrecord\u001b[0m\u001b[0;34m[\u001b[0m\u001b[0;34m'sequence'\u001b[0m\u001b[0;34m]\u001b[0m\u001b[0;34m)\u001b[0m\u001b[0;34m)\u001b[0m\u001b[0;34m\u001b[0m\u001b[0;34m\u001b[0m\u001b[0m\n\u001b[0;32m---> 25\u001b[0;31m             \u001b[0mtranslations\u001b[0m \u001b[0;34m=\u001b[0m \u001b[0msix_frame_translation_no_stops\u001b[0m\u001b[0;34m(\u001b[0m\u001b[0mrecord\u001b[0m\u001b[0;34m[\u001b[0m\u001b[0;34m'sequence'\u001b[0m\u001b[0;34m]\u001b[0m\u001b[0;34m)\u001b[0m\u001b[0;34m\u001b[0m\u001b[0;34m\u001b[0m\u001b[0m\n\u001b[0m\u001b[1;32m     26\u001b[0m \u001b[0;34m\u001b[0m\u001b[0m\n\u001b[1;32m     27\u001b[0m             \u001b[0mmax_fraction\u001b[0m \u001b[0;34m=\u001b[0m \u001b[0;36m0\u001b[0m\u001b[0;34m\u001b[0m\u001b[0;34m\u001b[0m\u001b[0m\n",
        "\u001b[0;32m~/miniconda3/envs/kmer-hashing/lib/python3.6/site-packages/Bio/SeqRecord.py\u001b[0m in \u001b[0;36m__getitem__\u001b[0;34m(self, index)\u001b[0m\n\u001b[1;32m    489\u001b[0m \u001b[0;34m\u001b[0m\u001b[0m\n\u001b[1;32m    490\u001b[0m             \u001b[0;32mreturn\u001b[0m \u001b[0manswer\u001b[0m\u001b[0;34m\u001b[0m\u001b[0;34m\u001b[0m\u001b[0m\n\u001b[0;32m--> 491\u001b[0;31m         \u001b[0;32mraise\u001b[0m \u001b[0mValueError\u001b[0m\u001b[0;34m(\u001b[0m\u001b[0;34m\"Invalid index\"\u001b[0m\u001b[0;34m)\u001b[0m\u001b[0;34m\u001b[0m\u001b[0;34m\u001b[0m\u001b[0m\n\u001b[0m\u001b[1;32m    492\u001b[0m \u001b[0;34m\u001b[0m\u001b[0m\n\u001b[1;32m    493\u001b[0m     \u001b[0;32mdef\u001b[0m \u001b[0m__iter__\u001b[0m\u001b[0;34m(\u001b[0m\u001b[0mself\u001b[0m\u001b[0;34m)\u001b[0m\u001b[0;34m:\u001b[0m\u001b[0;34m\u001b[0m\u001b[0;34m\u001b[0m\u001b[0m\n",
        "\u001b[0;31mValueError\u001b[0m: Invalid index"
       ]
      }
     ],
     "persistentId": "607b9ea5-7fb0-465d-b7f8-05b402f0b361",
     "text": "classify_protein_coding_reads('SRR306838_GSM752691_hsa_br_F_1_trimmed.fq.gz', peptide_graph, peptide_ksize, verbose=False)"
    },
    "executionTime": "2019-10-04T00:27:46.624Z"
   },
   {
    "cell": {
     "executionCount": 23,
     "executionEventId": "073fe1cc-7669-4923-ad77-d90867c59f53",
     "hasError": false,
     "id": "816ba43d-df54-4f14-9fcb-8fe242d897aa",
     "outputs": [],
     "persistentId": "5d0726af-434e-49ef-a388-15a28df0d4da",
     "text": "\n\ndef six_frame_translation_no_stops(seq):\n    forward_translations = three_frame_translation_no_stops(seq)\n    reverse_translations = three_frame_translation_no_stops(seq.reverse_complement())\n    return forward_translations + reverse_translations\n\nverbose = False\n\ndef classify_protein_coding_reads(reads, peptide_graph, peptide_ksize, jaccard_minimum=0.9, first_n=None, verbose=False):\n    \n    classification_lines = []\n\n    scoring_lines = []\n\n    with gzip.open(reads, 'rt') as f:\n        for record in SeqIO.parse(f, 'fastq'):\n            if first_n is not None and i > first_n:\n                break\n\n            if verbose:\n                print()\n                print(record)\n                print(str(record.seq))\n            translations = six_frame_translation_no_stops(record.seq)\n\n            max_fraction = 0\n            for translation in translations:\n                if len(translation) < peptide_ksize:\n                    continue\n                if verbose:\n                    print(f\"\\t{translation}\")\n                kmers = list(set(kmerize(str(translation), peptide_ksize)))\n                hashes = [hash_murmur(kmer) for kmer in kmers]\n                n_kmers = len(kmers)\n                n_kmers_in_peptide_db = sum(1 for h in hashes if peptide_graph.get(h) > 0)\n                if n_kmers < (len(translation) - peptide_ksize + 1)/2:\n                    if verbose:\n                        print(f'Low complexity sequence!!! n_kmers < (len(read.seq) - ksize + 1)/2  --> {n_kmers} < {(len(record.seq) - ksize + 1)/2}')\n                        print(record.description)\n                        print(record.seq)\n                    classification_lines.append([record.description, 'low complexity'])\n                    continue\n\n                kmers_in_peptide_db = {(k, h): peptide_graph.get(h) for k, h in zip(kmers, hashes)}\n                fraction_in_peptide_db = n_kmers_in_peptide_db/n_kmers\n                max_fraction = max(max_fraction, fraction_in_peptide_db)\n                if fraction_in_peptide_db > jaccard_minimum:\n                    classification_lines.append([record.description, 'coding'])\n                else:\n                    classification_lines.append([record.description, 'non-coding'])\n                if verbose:\n                    pprint(kmers_in_peptide_db)\n                    print(f'n_kmers_in_peptide_db/n_kmers: {n_kmers_in_peptide_db}/{n_kmers} = {fraction_in_peptide_db}')\n                scoring_lines.append([record.description, max_fraction])\n\n        classification_df = pd.DataFrame(classification_lines, columns=['read_id', 'classification'])\n        score_df = pd.DataFrame(scoring_lines, columns=['read_id', 'coding_score'])\n        \n        return classification_df, score_df\n    \n    \n"
    },
    "executionTime": "2019-10-04T00:28:00.661Z"
   },
   {
    "cell": {
     "executionCount": 24,
     "executionEventId": "90f24ab0-bff3-4976-bcab-83ae985ae50b",
     "hasError": false,
     "id": "816ba43d-df54-4f14-9fcb-8fe242d897aa",
     "outputs": [],
     "persistentId": "5d0726af-434e-49ef-a388-15a28df0d4da",
     "text": "\n\ndef six_frame_translation_no_stops(seq):\n    forward_translations = three_frame_translation_no_stops(seq)\n    reverse_translations = three_frame_translation_no_stops(seq.reverse_complement())\n    return forward_translations + reverse_translations\n\nverbose = False\n\ndef classify_protein_coding_reads(reads, peptide_graph, peptide_ksize, jaccard_minimum=0.9, first_n=None, verbose=False):\n    \n    classification_lines = []\n\n    scoring_lines = []\n\n    with gzip.open(reads, 'rt') as f:\n        for record in SeqIO.parse(f, 'fastq'):\n            if first_n is not None and i > first_n:\n                break\n\n            if verbose:\n                print()\n                print(record.description)\n                print(str(record.seq))\n            translations = six_frame_translation_no_stops(record.seq)\n\n            max_fraction = 0\n            for translation in translations:\n                if len(translation) < peptide_ksize:\n                    continue\n                if verbose:\n                    print(f\"\\t{translation}\")\n                kmers = list(set(kmerize(str(translation), peptide_ksize)))\n                hashes = [hash_murmur(kmer) for kmer in kmers]\n                n_kmers = len(kmers)\n                n_kmers_in_peptide_db = sum(1 for h in hashes if peptide_graph.get(h) > 0)\n                if n_kmers < (len(translation) - peptide_ksize + 1)/2:\n                    if verbose:\n                        print(f'Low complexity sequence!!! n_kmers < (len(read.seq) - ksize + 1)/2  --> {n_kmers} < {(len(record.seq) - ksize + 1)/2}')\n                        print(record.description)\n                        print(record.seq)\n                    classification_lines.append([record.description, 'low complexity'])\n                    continue\n\n                kmers_in_peptide_db = {(k, h): peptide_graph.get(h) for k, h in zip(kmers, hashes)}\n                fraction_in_peptide_db = n_kmers_in_peptide_db/n_kmers\n                max_fraction = max(max_fraction, fraction_in_peptide_db)\n                if fraction_in_peptide_db > jaccard_minimum:\n                    classification_lines.append([record.description, 'coding'])\n                else:\n                    classification_lines.append([record.description, 'non-coding'])\n                if verbose:\n                    pprint(kmers_in_peptide_db)\n                    print(f'n_kmers_in_peptide_db/n_kmers: {n_kmers_in_peptide_db}/{n_kmers} = {fraction_in_peptide_db}')\n                scoring_lines.append([record.description, max_fraction])\n\n        classification_df = pd.DataFrame(classification_lines, columns=['read_id', 'classification'])\n        score_df = pd.DataFrame(scoring_lines, columns=['read_id', 'coding_score'])\n        \n        return classification_df, score_df\n    \n    \n"
    },
    "executionTime": "2019-10-04T00:28:05.608Z"
   }
  ],
  "kernelspec": {
   "display_name": "Python [conda env:kmer-hashing]",
   "language": "python",
   "name": "conda-env-kmer-hashing-py"
  },
  "language_info": {
   "codemirror_mode": {
    "name": "ipython",
    "version": 3
   },
   "file_extension": ".py",
   "mimetype": "text/x-python",
   "name": "python",
   "nbconvert_exporter": "python",
   "pygments_lexer": "ipython3",
   "version": "3.6.8"
  },
  "uuid": "3c172471-d6e6-4fca-9aa0-93401d86e620"
 },
 "nbformat": 4,
 "nbformat_minor": 4
}
