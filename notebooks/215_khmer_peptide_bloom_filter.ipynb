{
 "cells": [
  {
   "cell_type": "code",
   "execution_count": 1,
   "metadata": {
    "execution_event_id": "79813a11-9233-4249-9207-e85a93bf3964",
    "last_executed_text": "folder = '/home/olga/data_sm/kmer-hashing/classify_coding_vs_noncoding/'",
    "persistent_id": "79625542-1410-409b-9c5b-1a7a556e5541"
   },
   "outputs": [],
   "source": [
    "folder = '/home/olga/data_sm/kmer-hashing/classify_coding_vs_noncoding/'"
   ]
  },
  {
   "cell_type": "code",
   "execution_count": 2,
   "metadata": {
    "execution_event_id": "721e2943-4454-4aaa-894b-56bb8e81359e",
    "last_executed_text": "cd $folder",
    "persistent_id": "f22c3722-b07d-4558-b117-1378d3941e78"
   },
   "outputs": [
    {
     "name": "stdout",
     "output_type": "stream",
     "text": [
      "/home/seqbot/ibm_sm/olga/kmer-hashing/classify_coding_vs_noncoding\n"
     ]
    }
   ],
   "source": [
    "cd $folder"
   ]
  },
  {
   "cell_type": "code",
   "execution_count": 30,
   "metadata": {
    "execution_event_id": "967a6c2a-e65c-4495-9b9f-7e792c1d6390",
    "last_executed_text": "ls -lha",
    "persistent_id": "f9bbce41-5893-489d-8f89-7d8fb0b0fe1e"
   },
   "outputs": [
    {
     "name": "stdout",
     "output_type": "stream",
     "text": [
      "total 239G\n",
      "drwxrwxr-x 2 olga olga 4.0K Sep 18 05:33 \u001b[0m\u001b[01;34m.\u001b[0m/\n",
      "drwxrwxr-x 5 olga olga 4.0K Sep 14 08:39 \u001b[01;34m..\u001b[0m/\n",
      "-rw-rw-r-- 1 olga olga  21M Sep 14 06:46 \u001b[01;31mHomo_sapiens.GRCh38.cds.all.fa.gz\u001b[0m\n",
      "-rw-rw-r-- 1 olga olga  16M Sep 14 06:46 \u001b[01;31mHomo_sapiens.GRCh38.ncrna.fa.gz\u001b[0m\n",
      "-rw-rw-r-- 1 olga olga  14M Sep 14 06:46 \u001b[01;31mHomo_sapiens.GRCh38.pep.all.fa.gz\u001b[0m\n",
      "-rw-rw-r-- 1 olga olga  15G Sep 14 07:11 human_cds_k15.nodegraph\n",
      "-rw-rw-r-- 1 olga olga   65 Sep 14 07:11 human_cds_k15.nodegraph.info\n",
      "-rw-rw-r-- 1 olga olga  15G Sep 14 07:22 human_cds_k17.nodegraph\n",
      "-rw-rw-r-- 1 olga olga   65 Sep 14 07:22 human_cds_k17.nodegraph.info\n",
      "-rw-rw-r-- 1 olga olga  15G Sep 14 07:30 human_cds_k19.nodegraph\n",
      "-rw-rw-r-- 1 olga olga   65 Sep 14 07:30 human_cds_k19.nodegraph.info\n",
      "-rw-rw-r-- 1 olga olga  15G Sep 14 07:39 human_cds_k21.nodegraph\n",
      "-rw-rw-r-- 1 olga olga   65 Sep 14 07:39 human_cds_k21.nodegraph.info\n",
      "-rw-rw-r-- 1 olga olga  15G Sep 14 07:47 human_cds_k23.nodegraph\n",
      "-rw-rw-r-- 1 olga olga   65 Sep 14 07:47 human_cds_k23.nodegraph.info\n",
      "-rw-rw-r-- 1 olga olga  15G Sep 14 07:55 human_cds_k25.nodegraph\n",
      "-rw-rw-r-- 1 olga olga   65 Sep 14 07:55 human_cds_k25.nodegraph.info\n",
      "-rw-rw-r-- 1 olga olga  15G Sep 14 08:03 human_cds_k27.nodegraph\n",
      "-rw-rw-r-- 1 olga olga   65 Sep 14 08:03 human_cds_k27.nodegraph.info\n",
      "-rw-rw-r-- 1 olga olga  15G Sep 14 08:12 human_cds_k31.nodegraph\n",
      "-rw-rw-r-- 1 olga olga   65 Sep 14 08:12 human_cds_k31.nodegraph.info\n",
      "-rw-rw-r-- 1 olga olga  15G Sep 14 07:18 human_ncrna_k15.nodegraph\n",
      "-rw-rw-r-- 1 olga olga   65 Sep 14 07:18 human_ncrna_k15.nodegraph.info\n",
      "-rw-rw-r-- 1 olga olga 5.7M Sep 14 07:15 human_ncrna_k15.nodegraph.tagset\n",
      "-rw-rw-r-- 1 olga olga  15G Sep 14 07:26 human_ncrna_k17.nodegraph\n",
      "-rw-rw-r-- 1 olga olga   65 Sep 14 07:26 human_ncrna_k17.nodegraph.info\n",
      "-rw-rw-r-- 1 olga olga  15G Sep 14 07:34 human_ncrna_k19.nodegraph\n",
      "-rw-rw-r-- 1 olga olga   65 Sep 14 07:34 human_ncrna_k19.nodegraph.info\n",
      "-rw-rw-r-- 1 olga olga  15G Sep 14 07:42 human_ncrna_k21.nodegraph\n",
      "-rw-rw-r-- 1 olga olga   65 Sep 14 07:43 human_ncrna_k21.nodegraph.info\n",
      "-rw-rw-r-- 1 olga olga  15G Sep 14 07:51 human_ncrna_k23.nodegraph\n",
      "-rw-rw-r-- 1 olga olga   65 Sep 14 07:51 human_ncrna_k23.nodegraph.info\n",
      "-rw-rw-r-- 1 olga olga  15G Sep 14 07:59 human_ncrna_k25.nodegraph\n",
      "-rw-rw-r-- 1 olga olga   65 Sep 14 07:59 human_ncrna_k25.nodegraph.info\n",
      "-rw-rw-r-- 1 olga olga  15G Sep 14 08:07 human_ncrna_k27.nodegraph\n",
      "-rw-rw-r-- 1 olga olga   65 Sep 14 08:07 human_ncrna_k27.nodegraph.info\n",
      "-rw-rw-r-- 1 olga olga  15G Sep 14 08:16 human_ncrna_k31.nodegraph\n",
      "-rw-rw-r-- 1 olga olga   65 Sep 14 08:16 human_ncrna_k31.nodegraph.info\n",
      "-rw-r--r-- 1 olga olga  52M Sep 18 05:33 \u001b[01;31mSRR306838_GSM752691_hsa_br_F_1_trimmed.fq.gz\u001b[0m\n",
      "-rw-r--r-- 1 olga olga  72K Sep 18 05:33 \u001b[01;31mSRR306838_GSM752691_hsa_br_F_1_trimmed_subsampled.fq.gz\u001b[0m\n"
     ]
    }
   ],
   "source": [
    "ls -lha"
   ]
  },
  {
   "cell_type": "code",
   "execution_count": 32,
   "metadata": {
    "execution_event_id": "1eb5def6-5d94-4b5e-aae0-b6ae88adb7fe",
    "last_executed_text": "import gzip\n\nfrom khmer import Nodegraph\nimport screed\nfrom sourmash._minhash import hash_murmur\nfrom khmer.khmer_args import calculate_graphsize\nfrom sourmash.logging import notify\n\nfrom khtools.compare_peptide import kmerize\n\nfrom Bio.Seq import Seq\nfrom Bio import SeqIO",
    "persistent_id": "ca3c95ac-68f3-46f3-b085-b116e63bb8b0"
   },
   "outputs": [],
   "source": [
    "import gzip\n",
    "\n",
    "from khmer import Nodegraph\n",
    "import screed\n",
    "from sourmash._minhash import hash_murmur\n",
    "from khmer.khmer_args import calculate_graphsize\n",
    "from sourmash.logging import notify\n",
    "\n",
    "from khtools.compare_peptide import kmerize\n",
    "\n",
    "from Bio.Seq import Seq\n",
    "from Bio import SeqIO"
   ]
  },
  {
   "cell_type": "code",
   "execution_count": 60,
   "metadata": {
    "execution_event_id": "c6659d17-131e-4a4f-9a24-49946c6f1d8f",
    "last_executed_text": "tablesize = 1e10\n\nDEFAULT_K = 32\nDEFAULT_N_TABLES = 4\nDEFAULT_MAX_TABLESIZE = 1e6\nDEFAULT_N_THREADS = 1\n\npeptide_ksize = 7\n\n# tablesize = calculate_graphsize(args, 'nodegraph', multiplier)\npeptide_graph = Nodegraph(peptide_ksize, tablesize, n_tables=4)\n\n",
    "persistent_id": "24efed0e-0671-4d31-9ac1-c341e9d67f66"
   },
   "outputs": [],
   "source": [
    "tablesize = 1e10\n",
    "\n",
    "DEFAULT_K = 32\n",
    "DEFAULT_N_TABLES = 4\n",
    "DEFAULT_MAX_TABLESIZE = 1e6\n",
    "DEFAULT_N_THREADS = 1\n",
    "\n",
    "peptide_ksize = 7\n",
    "\n",
    "# tablesize = calculate_graphsize(args, 'nodegraph', multiplier)\n",
    "peptide_graph = Nodegraph(peptide_ksize, tablesize, n_tables=4)\n",
    "\n"
   ]
  },
  {
   "cell_type": "code",
   "execution_count": 61,
   "metadata": {
    "execution_event_id": "4fed0662-0262-425a-9aef-64bbca14c201",
    "last_executed_text": "20**6",
    "persistent_id": "4bb3fc57-530c-4ffc-b367-1a4f27d55606"
   },
   "outputs": [
    {
     "data": {
      "text/plain": [
       "64000000"
      ]
     },
     "execution_count": 61,
     "metadata": {},
     "output_type": "execute_result"
    }
   ],
   "source": [
    "20**6"
   ]
  },
  {
   "cell_type": "code",
   "execution_count": 62,
   "metadata": {
    "execution_event_id": "0fc2d279-24a0-46b7-a6e0-daa83d643267",
    "last_executed_text": "%%time\n\nDEFAULT_SEED = 42\n\nfor record in screed.open(\"Homo_sapiens.GRCh38.pep.all.fa.gz\"):\n#     print(record)\n    if '*' in record['sequence']:\n#         notify(\"Stop codon found in seq, skipping\")\n        continue\n    kmers = kmerize(record['sequence'], peptide_ksize)\n    for kmer in kmers:\n        peptide_graph.add(kmer)        ",
    "persistent_id": "6d8b5522-6fc7-4ef7-8cfe-1b737f86dfe2"
   },
   "outputs": [
    {
     "name": "stdout",
     "output_type": "stream",
     "text": [
      "CPU times: user 29.5 s, sys: 248 ms, total: 29.8 s\n",
      "Wall time: 29.8 s\n"
     ]
    }
   ],
   "source": [
    "%%time\n",
    "\n",
    "DEFAULT_SEED = 42\n",
    "\n",
    "for record in screed.open(\"Homo_sapiens.GRCh38.pep.all.fa.gz\"):\n",
    "#     print(record)\n",
    "    if '*' in record['sequence']:\n",
    "#         notify(\"Stop codon found in seq, skipping\")\n",
    "        continue\n",
    "    kmers = kmerize(record['sequence'], peptide_ksize)\n",
    "    for kmer in kmers:\n",
    "        peptide_graph.add(kmer)        "
   ]
  },
  {
   "cell_type": "code",
   "execution_count": 63,
   "metadata": {
    "execution_event_id": "75ff5ebd-35f2-4cf6-be47-b40f66c5f1b6",
    "last_executed_text": "def three_frame_translation(seq):\n    for frame in range(3):\n        translation = seq[frame:].translate()\n        yield translation\n        \ndef three_frame_translation_no_stops(seq):\n    return [t for t in three_frame_translation(seq) if '*' not in t]\n\n\nwith gzip.open('SRR306838_GSM752691_hsa_br_F_1_trimmed_subsampled.fq.gz', 'rt') as f:\n    for i, record in zip(range(5), SeqIO.parse(f, 'fastq')):\n        print(record.description)\n        print(str(record.seq))\n        print(list(three_frame_translation(record.seq)))\n        print(list(three_frame_translation(record.seq[::-1])))",
    "persistent_id": "39699f59-df26-4089-a7b8-519f138c6091"
   },
   "outputs": [
    {
     "name": "stdout",
     "output_type": "stream",
     "text": [
      "SRR306838.10559374 Ibis_Run100924_C3PO:6:51:17601:17119/1\n",
      "CGCTTGCTTAATACTGACATCAATAATATTAGGAAAATCGCAATATAACTGTAAATCCTGTTCTGTC\n",
      "[Seq('RLLNTDINNIRKIAI*L*ILFC', HasStopCodon(ExtendedIUPACProtein(), '*')), Seq('ACLILTSIILGKSQYNCKSCSV', ExtendedIUPACProtein()), Seq('LA*Y*HQ*Y*ENRNITVNPVL', HasStopCodon(ExtendedIUPACProtein(), '*'))]\n",
      "[Seq('LSCPKCQYNAKRIIITTVIIRS', ExtendedIUPACProtein()), Seq('CLVLNVNITLKGL**LQS*FVR', HasStopCodon(ExtendedIUPACProtein(), '*')), Seq('VLS*MSI*R*KDYNNYSHNSF', HasStopCodon(ExtendedIUPACProtein(), '*'))]\n",
      "SRR306838.6196593 Ibis_Run100924_C3PO:6:29:16733:12435/1\n",
      "TCTAGAATGTGAAATAACGTACTTCATGTGTCTTCTTACCAAAAATACCAACGATAAGGGGAAAAGCCATC\n",
      "[Seq('SRM*NNVLHVSSYQKYQR*GEKP', HasStopCodon(ExtendedIUPACProtein(), '*')), Seq('LECEITYFMCLLTKNTNDKGKSH', ExtendedIUPACProtein()), Seq('*NVK*RTSCVFLPKIPTIRGKAI', HasStopCodon(ExtendedIUPACProtein(), '*'))]\n",
      "[Seq('LPKRGIATIKTILLCTSCNKV*D', HasStopCodon(ExtendedIUPACProtein(), '*')), Seq('YRKGE*QP*KPFFCVLHAIKCKI', HasStopCodon(ExtendedIUPACProtein(), '*')), Seq('TEKGNSNHKNHSSVYFMQ*SVRS', HasStopCodon(ExtendedIUPACProtein(), '*'))]\n",
      "SRR306838.20767303 Ibis_Run100924_C3PO:6:104:6864:5062/1\n",
      "CAATCATCATCACTTTCTAATTCCAGAATATTTTCATCACCCCAAAAAGAAATCCTAAATCCATTAGC\n",
      "[Seq('QSSSLSNSRIFSSPQKEILNPL', ExtendedIUPACProtein()), Seq('NHHHFLIPEYFHHPKKKS*IH*', HasStopCodon(ExtendedIUPACProtein(), '*')), Seq('IIITF*FQNIFITPKRNPKSIS', HasStopCodon(ExtendedIUPACProtein(), '*'))]\n",
      "[Seq('RLPKS*RKTPLLL*DLNLSLLL', HasStopCodon(ExtendedIUPACProtein(), '*')), Seq('DYLNPKEKPHYFYKTLIFHYY*', HasStopCodon(ExtendedIUPACProtein(), '*')), Seq('IT*ILKKNPTTFIRP*SFTTTN', HasStopCodon(ExtendedIUPACProtein(), '*'))]\n",
      "SRR306838.12582274 Ibis_Run100924_C3PO:6:62:11779:17975/1\n",
      "CAAAAGTGAAGACCTCCCTGGGGTCTTCAAAGACAGCCTTTGCTCTCCATGTAGCCAATGGTGCTCT\n",
      "[Seq('QK*RPPWGLQRQPLLSM*PMVL', HasStopCodon(ExtendedIUPACProtein(), '*')), Seq('KSEDLPGVFKDSLCSPCSQWCS', ExtendedIUPACProtein()), Seq('KVKTSLGSSKTAFALHVANGA', ExtendedIUPACProtein())]\n",
      "[Seq('SRGNRCTSRFRQKLLGSLQK*K', HasStopCodon(ExtendedIUPACProtein(), '*')), Seq('LVVTDVPLVSDRNFWGPSRSEN', ExtendedIUPACProtein()), Seq('SW*PMYLSFPTETSGVPPEVK', HasStopCodon(ExtendedIUPACProtein(), '*'))]\n",
      "SRR306838.13334230 Ibis_Run100924_C3PO:6:66:16579:20350/1\n",
      "GTAACCCTTAATTCCTCAGAAAAAATAGACAACATAGTGGAGTGGGATGGAGGAAC\n",
      "[Seq('VTLNSSEKIDNIVEWDGG', ExtendedIUPACProtein()), Seq('*PLIPQKK*TT*WSGMEE', HasStopCodon(ExtendedIUPACProtein(), '*')), Seq('NP*FLRKNRQHSGVGWRN', HasStopCodon(ExtendedIUPACProtein(), '*'))]\n",
      "[Seq('QGGRVR*YNR*KRLLNSQ', HasStopCodon(ExtendedIUPACProtein(), '*')), Seq('KEVG*GDTTDKKDSLIPN', HasStopCodon(ExtendedIUPACProtein(), '*')), Seq('RR*GEVIQQIKKTP*FPM', HasStopCodon(ExtendedIUPACProtein(), '*'))]\n"
     ]
    },
    {
     "name": "stderr",
     "output_type": "stream",
     "text": [
      "/home/olga/miniconda3/envs/kmer-hashing/lib/python3.6/site-packages/Bio/Seq.py:2715: BiopythonWarning: Partial codon, len(sequence) not a multiple of three. Explicitly trim the sequence or add trailing N before translation. This may become an error in future.\n",
      "  BiopythonWarning)\n"
     ]
    }
   ],
   "source": [
    "def three_frame_translation(seq):\n",
    "    for frame in range(3):\n",
    "        translation = seq[frame:].translate()\n",
    "        yield translation\n",
    "        \n",
    "def three_frame_translation_no_stops(seq):\n",
    "    return [t for t in three_frame_translation(seq) if '*' not in t]\n",
    "\n",
    "\n",
    "with gzip.open('SRR306838_GSM752691_hsa_br_F_1_trimmed_subsampled.fq.gz', 'rt') as f:\n",
    "    for i, record in zip(range(5), SeqIO.parse(f, 'fastq')):\n",
    "        print(record.description)\n",
    "        print(str(record.seq))\n",
    "        print(list(three_frame_translation(record.seq)))\n",
    "        print(list(three_frame_translation(record.seq[::-1])))"
   ]
  },
  {
   "cell_type": "code",
   "execution_count": 69,
   "metadata": {
    "execution_event_id": "3224eeb7-8f2c-4400-90c9-e553d21abdb9",
    "last_executed_text": "\ndef six_frame_translation_no_stops(seq):\n    forward_translations = three_frame_translation_no_stops(seq)\n    reverse_translations = three_frame_translation_no_stops(seq.reverse_complement())\n    return forward_translations + reverse_translations\n\nwith gzip.open('SRR306838_GSM752691_hsa_br_F_1_trimmed_subsampled.fq.gz', 'rt') as f:\n    for i, record in zip(range(5), SeqIO.parse(f, 'fastq')):\n        print(record.description)\n        print(str(record.seq))\n        translations = six_frame_translation_no_stops(record.seq)\n        for translation in translations:\n            print(f\"\\t{translation}\")\n            kmers = set(kmerize(str(translation), peptide_ksize))\n            n_kmers = len(kmers)\n            n_kmers_in_peptide_db = sum(1 for kmer in kmers if peptide_graph.get(kmer) > 0)\n            kmers_in_peptide_db = {kmer:  peptide_graph.get(kmer) for kmer in kmers}\n            print(f'n_kmers_in_peptide_db/n_kmers: {n_kmers_in_peptide_db}/{n_kmers} = {n_kmers_in_peptide_db/n_kmers}')",
    "persistent_id": "954ef7d8-1e5c-43fa-87bf-0098fd2cd414"
   },
   "outputs": [
    {
     "name": "stdout",
     "output_type": "stream",
     "text": [
      "SRR306838.10559374 Ibis_Run100924_C3PO:6:51:17601:17119/1\n",
      "CGCTTGCTTAATACTGACATCAATAATATTAGGAAAATCGCAATATAACTGTAAATCCTGTTCTGTC\n",
      "\tACLILTSIILGKSQYNCKSCSV\n",
      "n_kmers_in_peptide_db/n_kmers: 16/16 = 1.0\n",
      "\tTEQDLQLYCDFPNIIDVSIKQA\n",
      "n_kmers_in_peptide_db/n_kmers: 16/16 = 1.0\n",
      "\tQNRIYSYIAIFLILLMSVLSK\n",
      "n_kmers_in_peptide_db/n_kmers: 15/15 = 1.0\n",
      "SRR306838.6196593 Ibis_Run100924_C3PO:6:29:16733:12435/1\n",
      "TCTAGAATGTGAAATAACGTACTTCATGTGTCTTCTTACCAAAAATACCAACGATAAGGGGAAAAGCCATC\n",
      "\tLECEITYFMCLLTKNTNDKGKSH\n",
      "n_kmers_in_peptide_db/n_kmers: 17/17 = 1.0\n",
      "\tWLFPLSLVFLVRRHMKYVISHSR\n",
      "n_kmers_in_peptide_db/n_kmers: 17/17 = 1.0\n",
      "SRR306838.20767303 Ibis_Run100924_C3PO:6:104:6864:5062/1\n",
      "CAATCATCATCACTTTCTAATTCCAGAATATTTTCATCACCCCAAAAAGAAATCCTAAATCCATTAGC\n",
      "\tQSSSLSNSRIFSSPQKEILNPL\n",
      "n_kmers_in_peptide_db/n_kmers: 16/16 = 1.0\n",
      "\tANGFRISFWGDENILELESDDD\n",
      "n_kmers_in_peptide_db/n_kmers: 16/16 = 1.0\n",
      "SRR306838.12582274 Ibis_Run100924_C3PO:6:62:11779:17975/1\n",
      "CAAAAGTGAAGACCTCCCTGGGGTCTTCAAAGACAGCCTTTGCTCTCCATGTAGCCAATGGTGCTCT\n",
      "\tKSEDLPGVFKDSLCSPCSQWCS\n",
      "n_kmers_in_peptide_db/n_kmers: 16/16 = 1.0\n",
      "\tKVKTSLGSSKTAFALHVANGA\n",
      "n_kmers_in_peptide_db/n_kmers: 15/15 = 1.0\n",
      "\tRAPLATWRAKAVFEDPREVFTF\n",
      "n_kmers_in_peptide_db/n_kmers: 16/16 = 1.0\n",
      "\tEHHWLHGEQRLSLKTPGRSSLL\n",
      "n_kmers_in_peptide_db/n_kmers: 16/16 = 1.0\n",
      "SRR306838.13334230 Ibis_Run100924_C3PO:6:66:16579:20350/1\n",
      "GTAACCCTTAATTCCTCAGAAAAAATAGACAACATAGTGGAGTGGGATGGAGGAAC\n",
      "\tVTLNSSEKIDNIVEWDGG\n",
      "n_kmers_in_peptide_db/n_kmers: 12/12 = 1.0\n",
      "\tVPPSHSTMLSIFSEELRV\n",
      "n_kmers_in_peptide_db/n_kmers: 12/12 = 1.0\n"
     ]
    },
    {
     "name": "stderr",
     "output_type": "stream",
     "text": [
      "/home/olga/miniconda3/envs/kmer-hashing/lib/python3.6/site-packages/Bio/Seq.py:2715: BiopythonWarning: Partial codon, len(sequence) not a multiple of three. Explicitly trim the sequence or add trailing N before translation. This may become an error in future.\n",
      "  BiopythonWarning)\n"
     ]
    }
   ],
   "source": [
    "\n",
    "def six_frame_translation_no_stops(seq):\n",
    "    forward_translations = three_frame_translation_no_stops(seq)\n",
    "    reverse_translations = three_frame_translation_no_stops(seq.reverse_complement())\n",
    "    return forward_translations + reverse_translations\n",
    "\n",
    "with gzip.open('SRR306838_GSM752691_hsa_br_F_1_trimmed_subsampled.fq.gz', 'rt') as f:\n",
    "    for i, record in zip(range(5), SeqIO.parse(f, 'fastq')):\n",
    "        print(record.description)\n",
    "        print(str(record.seq))\n",
    "        translations = six_frame_translation_no_stops(record.seq)\n",
    "        for translation in translations:\n",
    "            print(f\"\\t{translation}\")\n",
    "            kmers = set(kmerize(str(translation), peptide_ksize))\n",
    "            n_kmers = len(kmers)\n",
    "            n_kmers_in_peptide_db = sum(1 for kmer in kmers if peptide_graph.get(kmer) > 0)\n",
    "            kmers_in_peptide_db = {kmer:  peptide_graph.get(kmer) for kmer in kmers}\n",
    "            print(f'n_kmers_in_peptide_db/n_kmers: {n_kmers_in_peptide_db}/{n_kmers} = {n_kmers_in_peptide_db/n_kmers}')"
   ]
  },
  {
   "cell_type": "code",
   "execution_count": 70,
   "metadata": {
    "execution_event_id": "22e444c6-6547-4469-b5c2-dec41645e923",
    "last_executed_text": "kmers_in_peptide_db",
    "persistent_id": "74df75ff-6eec-4174-b8a5-b521a78c903e"
   },
   "outputs": [
    {
     "data": {
      "text/plain": [
       "{'IFSEELR': 1,\n",
       " 'SHSTMLS': 1,\n",
       " 'STMLSIF': 1,\n",
       " 'LSIFSEE': 1,\n",
       " 'HSTMLSI': 1,\n",
       " 'VPPSHST': 1,\n",
       " 'SIFSEEL': 1,\n",
       " 'PPSHSTM': 1,\n",
       " 'PSHSTML': 1,\n",
       " 'TMLSIFS': 1,\n",
       " 'FSEELRV': 1,\n",
       " 'MLSIFSE': 1}"
      ]
     },
     "execution_count": 70,
     "metadata": {},
     "output_type": "execute_result"
    }
   ],
   "source": [
    "kmers_in_peptide_db"
   ]
  },
  {
   "cell_type": "code",
   "execution_count": 65,
   "metadata": {
    "execution_event_id": "bfb98e6d-02ed-475e-b09a-7ee0cc8ddccd",
    "last_executed_text": "peptide_graph.get(\"ACLILT\")",
    "persistent_id": "e6a36b17-ebb6-4fd2-90cc-e2a09e2215ca"
   },
   "outputs": [
    {
     "ename": "ValueError",
     "evalue": "Expected k-mer length 7 but got 6.",
     "output_type": "error",
     "traceback": [
      "\u001b[0;31m---------------------------------------------------------------------------\u001b[0m",
      "\u001b[0;31mValueError\u001b[0m                                Traceback (most recent call last)",
      "\u001b[0;32m<ipython-input-65-2d7cc1c59ae8>\u001b[0m in \u001b[0;36m<module>\u001b[0;34m()\u001b[0m\n\u001b[0;32m----> 1\u001b[0;31m \u001b[0mpeptide_graph\u001b[0m\u001b[0;34m.\u001b[0m\u001b[0mget\u001b[0m\u001b[0;34m(\u001b[0m\u001b[0;34m\"ACLILT\"\u001b[0m\u001b[0;34m)\u001b[0m\u001b[0;34m\u001b[0m\u001b[0;34m\u001b[0m\u001b[0m\n\u001b[0m",
      "\u001b[0;32mkhmer/_oxli/graphs.pyx\u001b[0m in \u001b[0;36mkhmer._oxli.graphs.Hashtable.get\u001b[0;34m()\u001b[0m\n",
      "\u001b[0;32mkhmer/_oxli/graphs.pyx\u001b[0m in \u001b[0;36mkhmer._oxli.graphs.Hashtable.sanitize_seq_kmer\u001b[0;34m()\u001b[0m\n",
      "\u001b[0;31mValueError\u001b[0m: Expected k-mer length 7 but got 6."
     ]
    }
   ],
   "source": [
    "peptide_graph.get(\"ACLILT\")"
   ]
  },
  {
   "cell_type": "code",
   "execution_count": null,
   "metadata": {
    "execution_event_id": "d307c1fc-7556-4380-93e8-368d0a30843c",
    "last_executed_text": "record.seq.reverse_complement()",
    "persistent_id": "e9c939ed-e704-4d0c-96ba-0a78453670b7"
   },
   "outputs": [],
   "source": [
    "record.seq.reverse_complement()"
   ]
  },
  {
   "cell_type": "code",
   "execution_count": null,
   "metadata": {},
   "outputs": [],
   "source": []
  }
 ],
 "metadata": {
  "history": [
   {
    "cell": {
     "executionCount": 1,
     "executionEventId": "79813a11-9233-4249-9207-e85a93bf3964",
     "hasError": false,
     "id": "321fb0f4-91ed-4e34-8caa-fe2c78f408fa",
     "outputs": [],
     "persistentId": "79625542-1410-409b-9c5b-1a7a556e5541",
     "text": "folder = '/home/olga/data_sm/kmer-hashing/classify_coding_vs_noncoding/'"
    },
    "executionTime": "2019-09-14T13:54:00.016Z"
   },
   {
    "cell": {
     "executionCount": 2,
     "executionEventId": "721e2943-4454-4aaa-894b-56bb8e81359e",
     "hasError": false,
     "id": "95cadfca-2767-42a8-be84-7e642c2e5191",
     "outputs": [
      {
       "name": "stdout",
       "output_type": "stream",
       "text": "/home/seqbot/ibm_sm/olga/kmer-hashing/classify_coding_vs_noncoding\n"
      }
     ],
     "persistentId": "f22c3722-b07d-4558-b117-1378d3941e78",
     "text": "cd $folder"
    },
    "executionTime": "2019-09-14T13:54:02.962Z"
   },
   {
    "cell": {
     "executionCount": 3,
     "executionEventId": "83a33059-46a7-4724-addd-6cf2f82042fa",
     "hasError": false,
     "id": "fa61d7f1-fae4-4513-ab21-8e48b076c0ce",
     "outputs": [
      {
       "name": "stdout",
       "output_type": "stream",
       "text": "total 56M\ndrwxrwxr-x 2 olga olga 4.0K Sep 14 06:51 \u001b[0m\u001b[01;34m.\u001b[0m/\ndrwxrwxr-x 4 olga olga 4.0K Sep 14 06:44 \u001b[01;34m..\u001b[0m/\n-rw-rw-r-- 1 olga olga  21M Sep 14 06:46 \u001b[01;31mHomo_sapiens.GRCh38.cds.all.fa.gz\u001b[0m\n-rw-rw-r-- 1 olga olga  16M Sep 14 06:46 \u001b[01;31mHomo_sapiens.GRCh38.ncrna.fa.gz\u001b[0m\n-rw-rw-r-- 1 olga olga  14M Sep 14 06:46 \u001b[01;31mHomo_sapiens.GRCh38.pep.all.fa.gz\u001b[0m\n-rw-rw-r-- 1 olga olga 489K Sep 14 06:51 human_ncrna_k15.nodegraph\n-rw-rw-r-- 1 olga olga   21 Sep 14 06:51 human_ncrna_k15.nodegraph.info\n-rw-rw-r-- 1 olga olga 5.7M Sep 14 06:51 human_ncrna_k15.nodegraph.tagset\n"
      }
     ],
     "persistentId": "f9bbce41-5893-489d-8f89-7d8fb0b0fe1e",
     "text": "ls -lha"
    },
    "executionTime": "2019-09-14T13:54:04.463Z"
   },
   {
    "cell": {
     "executionCount": 4,
     "executionEventId": "6b3f070e-739d-488c-bafd-048c445dd93a",
     "hasError": false,
     "id": "93685616-c02f-4cd1-9d16-3e730012559f",
     "outputs": [],
     "persistentId": "ca3c95ac-68f3-46f3-b085-b116e63bb8b0",
     "text": "from khmer import Nodegraph\nimport screed\n"
    },
    "executionTime": "2019-09-18T12:00:23.895Z"
   },
   {
    "cell": {
     "executionCount": 5,
     "executionEventId": "e4b05dfa-2900-4afe-a2c8-981ce1b6392e",
     "hasError": false,
     "id": "cc5866e5-4668-46b0-b34f-0350f6b32ad1",
     "outputs": [
      {
       "name": "stdout",
       "output_type": "stream",
       "text": "{'name': 'ENSP00000488240.1 pep chromosome:GRCh38:CHR_HSCHR7_2_CTG6:142847306:142847317:1 gene:ENSG00000282253.1 transcript:ENST00000631435.1 gene_biotype:TR_D_gene transcript_biotype:TR_D_gene gene_symbol:TRBD1 description:T cell receptor beta diversity 1 [Source:HGNC Symbol;Acc:HGNC:12158]', 'sequence': 'GTGG', 'description': ''}\n{'name': 'ENSP00000451042.1 pep chromosome:GRCh38:14:22438547:22438554:1 gene:ENSG00000223997.1 transcript:ENST00000415118.1 gene_biotype:TR_D_gene transcript_biotype:TR_D_gene gene_symbol:TRDD1 description:T cell receptor delta diversity 1 [Source:HGNC Symbol;Acc:HGNC:12254]', 'sequence': 'EI', 'description': ''}\n{'name': 'ENSP00000452494.1 pep chromosome:GRCh38:14:22449113:22449125:1 gene:ENSG00000228985.1 transcript:ENST00000448914.1 gene_biotype:TR_D_gene transcript_biotype:TR_D_gene gene_symbol:TRDD3 description:T cell receptor delta diversity 3 [Source:HGNC Symbol;Acc:HGNC:12256]', 'sequence': 'TGGY', 'description': ''}\n{'name': 'ENSP00000451515.1 pep chromosome:GRCh38:14:22439007:22439015:1 gene:ENSG00000237235.2 transcript:ENST00000434970.2 gene_biotype:TR_D_gene transcript_biotype:TR_D_gene gene_symbol:TRDD2 description:T cell receptor delta diversity 2 [Source:HGNC Symbol;Acc:HGNC:12255]', 'sequence': 'PSY', 'description': ''}\n"
      }
     ],
     "persistentId": "6d8b5522-6fc7-4ef7-8cfe-1b737f86dfe2",
     "text": "for i, record in zip(range(4), screed.open(\"Homo_sapiens.GRCh38.pep.all.fa.gz\")):\n    print(record)"
    },
    "executionTime": "2019-09-18T12:01:03.039Z"
   },
   {
    "cell": {
     "executionCount": 6,
     "executionEventId": "60f21808-9f12-43d1-93ab-06284eb39cf2",
     "hasError": false,
     "id": "cc5866e5-4668-46b0-b34f-0350f6b32ad1",
     "outputs": [
      {
       "name": "stdout",
       "output_type": "stream",
       "text": "{'name': 'ENSP00000488240.1 pep chromosome:GRCh38:CHR_HSCHR7_2_CTG6:142847306:142847317:1 gene:ENSG00000282253.1 transcript:ENST00000631435.1 gene_biotype:TR_D_gene transcript_biotype:TR_D_gene gene_symbol:TRBD1 description:T cell receptor beta diversity 1 [Source:HGNC Symbol;Acc:HGNC:12158]', 'sequence': 'GTGG', 'description': ''}\n{'name': 'ENSP00000451042.1 pep chromosome:GRCh38:14:22438547:22438554:1 gene:ENSG00000223997.1 transcript:ENST00000415118.1 gene_biotype:TR_D_gene transcript_biotype:TR_D_gene gene_symbol:TRDD1 description:T cell receptor delta diversity 1 [Source:HGNC Symbol;Acc:HGNC:12254]', 'sequence': 'EI', 'description': ''}\n{'name': 'ENSP00000452494.1 pep chromosome:GRCh38:14:22449113:22449125:1 gene:ENSG00000228985.1 transcript:ENST00000448914.1 gene_biotype:TR_D_gene transcript_biotype:TR_D_gene gene_symbol:TRDD3 description:T cell receptor delta diversity 3 [Source:HGNC Symbol;Acc:HGNC:12256]', 'sequence': 'TGGY', 'description': ''}\n{'name': 'ENSP00000451515.1 pep chromosome:GRCh38:14:22439007:22439015:1 gene:ENSG00000237235.2 transcript:ENST00000434970.2 gene_biotype:TR_D_gene transcript_biotype:TR_D_gene gene_symbol:TRDD2 description:T cell receptor delta diversity 2 [Source:HGNC Symbol;Acc:HGNC:12255]', 'sequence': 'PSY', 'description': ''}\n{'name': 'ENSP00000487941.1 pep chromosome:GRCh38:7:142786213:142786224:1 gene:ENSG00000282431.1 transcript:ENST00000632684.1 gene_biotype:TR_D_gene transcript_biotype:TR_D_gene gene_symbol:TRBD1 description:T cell receptor beta diversity 1 [Source:HGNC Symbol;Acc:HGNC:12158]', 'sequence': 'GTGG', 'description': ''}\n{'name': 'ENSP00000418639.1 pep chromosome:GRCh38:14:105865551:105865561:-1 gene:ENSG00000236597.1 transcript:ENST00000439842.1 gene_biotype:IG_D_gene transcript_biotype:IG_D_gene gene_symbol:IGHD7-27 description:immunoglobulin heavy diversity 7-27 [Source:HGNC Symbol;Acc:HGNC:5518]', 'sequence': 'LTG', 'description': ''}\n{'name': 'ENSP00000420733.1 pep chromosome:GRCh38:14:105881034:105881053:-1 gene:ENSG00000211907.1 transcript:ENST00000390567.1 gene_biotype:IG_D_gene transcript_biotype:IG_D_gene gene_symbol:IGHD1-26 description:immunoglobulin heavy diversity 1-26 [Source:HGNC Symbol;Acc:HGNC:5485]', 'sequence': 'GIVGAT', 'description': ''}\n{'name': 'ENSP00000417751.1 pep chromosome:GRCh38:14:105881539:105881556:-1 gene:ENSG00000225825.1 transcript:ENST00000452198.1 gene_biotype:IG_D_gene transcript_biotype:IG_D_gene gene_symbol:IGHD6-25 description:immunoglobulin heavy diversity 6-25 [Source:HGNC Symbol;Acc:HGNC:5516]', 'sequence': 'GYSSGY', 'description': ''}\n{'name': 'ENSP00000419139.1 pep chromosome:GRCh38:14:105883903:105883922:-1 gene:ENSG00000211909.1 transcript:ENST00000390569.1 gene_biotype:IG_D_gene transcript_biotype:IG_D_gene gene_symbol:IGHD5-24 description:immunoglobulin heavy diversity 5-24 (non-functional) [Source:HGNC Symbol;Acc:HGNC:5510]', 'sequence': 'VEMATI', 'description': ''}\n{'name': 'ENSP00000430248.1 pep chromosome:GRCh38:14:105884870:105884888:-1 gene:ENSG00000227196.1 transcript:ENST00000437320.1 gene_biotype:IG_D_gene transcript_biotype:IG_D_gene gene_symbol:IGHD4-23 description:immunoglobulin heavy diversity 4-23 (non-functional) [Source:HGNC Symbol;Acc:HGNC:5504]', 'sequence': '*LRW*L', 'description': ''}\n{'name': 'ENSP00000429952.1 pep chromosome:GRCh38:14:105886031:105886061:-1 gene:ENSG00000211911.1 transcript:ENST00000390571.1 gene_biotype:IG_D_gene transcript_biotype:IG_D_gene gene_symbol:IGHD3-22 description:immunoglobulin heavy diversity 3-22 [Source:HGNC Symbol;Acc:HGNC:5497]', 'sequence': 'VLL***WLLL', 'description': ''}\n{'name': 'ENSP00000429324.1 pep chromosome:GRCh38:14:105888551:105888578:-1 gene:ENSG00000211912.1 transcript:ENST00000390572.1 gene_biotype:IG_D_gene transcript_biotype:IG_D_gene gene_symbol:IGHD2-21 description:immunoglobulin heavy diversity 2-21 [Source:HGNC Symbol;Acc:HGNC:5491]', 'sequence': 'SILWW*LLF', 'description': ''}\n{'name': 'ENSP00000418010.1 pep chromosome:GRCh38:14:105891699:105891719:-1 gene:ENSG00000211914.1 transcript:ENST00000390574.1 gene_biotype:IG_D_gene transcript_biotype:IG_D_gene gene_symbol:IGHD6-19 description:immunoglobulin heavy diversity 6-19 [Source:HGNC Symbol;Acc:HGNC:5515]', 'sequence': 'GYSSGWY', 'description': ''}\n{'name': 'ENSP00000417555.1 pep chromosome:GRCh38:14:105893542:105893561:-1 gene:ENSG00000211915.1 transcript:ENST00000390575.1 gene_biotype:IG_D_gene transcript_biotype:IG_D_gene gene_symbol:IGHD5-18 description:immunoglobulin heavy diversity 5-18 [Source:HGNC Symbol;Acc:HGNC:5509]', 'sequence': 'VDTAMV', 'description': ''}\n{'name': 'ENSP00000428366.1 pep chromosome:GRCh38:14:105895634:105895670:-1 gene:ENSG00000211917.1 transcript:ENST00000390577.1 gene_biotype:IG_D_gene transcript_biotype:IG_D_gene gene_symbol:IGHD3-16 description:immunoglobulin heavy diversity 3-16 [Source:HGNC Symbol;Acc:HGNC:5496]', 'sequence': 'VL*LRLGELSLY', 'description': ''}\n{'name': 'ENSP00000431089.1 pep chromosome:GRCh38:14:105894508:105894523:-1 gene:ENSG00000227800.1 transcript:ENST00000431870.1 gene_biotype:IG_D_gene transcript_biotype:IG_D_gene gene_symbol:IGHD4-17 description:immunoglobulin heavy diversity 4-17 [Source:HGNC Symbol;Acc:HGNC:5503]', 'sequence': '*LR*L', 'description': ''}\n{'name': 'ENSP00000420556.1 pep chromosome:GRCh38:14:105891191:105891207:-1 gene:ENSG00000237020.1 transcript:ENST00000450276.1 gene_biotype:IG_D_gene transcript_biotype:IG_D_gene gene_symbol:IGHD1-20 description:immunoglobulin heavy diversity 1-20 [Source:HGNC Symbol;Acc:HGNC:5484]', 'sequence': 'GITGT', 'description': ''}\n{'name': 'ENSP00000427969.1 pep chromosome:GRCh38:14:105897957:105897987:-1 gene:ENSG00000211918.1 transcript:ENST00000390578.1 gene_biotype:IG_D_gene transcript_biotype:IG_D_gene gene_symbol:IGHD2-15 description:immunoglobulin heavy diversity 2-15 [Source:HGNC Symbol;Acc:HGNC:5489]', 'sequence': 'RIL*WW*LLL', 'description': ''}\n{'name': 'ENSP00000418765.1 pep chromosome:GRCh38:14:105900638:105900654:-1 gene:ENSG00000227108.1 transcript:ENST00000451044.1 gene_biotype:IG_D_gene transcript_biotype:IG_D_gene gene_symbol:IGHD1-14 description:immunoglobulin heavy diversity 1-14 (non-functional) [Source:HGNC Symbol;Acc:HGNC:5483]', 'sequence': 'GITGT', 'description': ''}\n{'name': 'ENSP00000419564.1 pep chromosome:GRCh38:14:105901142:105901162:-1 gene:ENSG00000211920.1 transcript:ENST00000390580.1 gene_biotype:IG_D_gene transcript_biotype:IG_D_gene gene_symbol:IGHD6-13 description:immunoglobulin heavy diversity 6-13 [Source:HGNC Symbol;Acc:HGNC:5514]', 'sequence': 'GYSSSWY', 'description': ''}\n"
      }
     ],
     "persistentId": "6d8b5522-6fc7-4ef7-8cfe-1b737f86dfe2",
     "text": "for i, record in zip(range(20), screed.open(\"Homo_sapiens.GRCh38.pep.all.fa.gz\")):\n    print(record)"
    },
    "executionTime": "2019-09-18T12:01:36.423Z"
   },
   {
    "cell": {
     "executionCount": 7,
     "executionEventId": "e0bbdcf9-a756-4fae-a7be-07deb8f0e1f0",
     "hasError": false,
     "id": "93685616-c02f-4cd1-9d16-3e730012559f",
     "outputs": [],
     "persistentId": "ca3c95ac-68f3-46f3-b085-b116e63bb8b0",
     "text": "from khmer import Nodegraph\nimport screed\nfrom sourmash._minhash import hash_murmur"
    },
    "executionTime": "2019-09-18T12:06:08.593Z"
   },
   {
    "cell": {
     "executionCount": 8,
     "executionEventId": "b9f545be-9cc9-4e4e-8284-bd2a6e50ac18",
     "hasError": false,
     "id": "801c1f09-890e-42e8-912e-f88cab37c532",
     "outputs": [
      {
       "data": {
        "text/plain": "\u001b[0;31mDocstring:\u001b[0m hash_murmur(string, [,seed])\n\u001b[0;31mType:\u001b[0m      builtin_function_or_method\n"
       },
       "metadata": {},
       "output_type": "display_data"
      }
     ],
     "persistentId": "24efed0e-0671-4d31-9ac1-c341e9d67f66",
     "text": "hash_murmur?"
    },
    "executionTime": "2019-09-18T12:08:14.067Z"
   },
   {
    "cell": {
     "executionCount": 9,
     "executionEventId": "97ce3aa4-2d8c-4575-bec0-17167da87056",
     "hasError": false,
     "id": "801c1f09-890e-42e8-912e-f88cab37c532",
     "outputs": [
      {
       "data": {
        "text/plain": "10787075864728504190"
       },
       "execution_count": 9,
       "metadata": {},
       "output_type": "execute_result"
      }
     ],
     "persistentId": "24efed0e-0671-4d31-9ac1-c341e9d67f66",
     "text": "hash_murmur(\"sdf\")"
    },
    "executionTime": "2019-09-18T12:08:21.938Z"
   },
   {
    "cell": {
     "executionCount": 10,
     "executionEventId": "cedfd9e1-09a1-4f01-826c-095f7cd9af4c",
     "hasError": false,
     "id": "93685616-c02f-4cd1-9d16-3e730012559f",
     "outputs": [],
     "persistentId": "ca3c95ac-68f3-46f3-b085-b116e63bb8b0",
     "text": "from khmer import Nodegraph\nimport screed\nfrom sourmash._minhash import hash_murmur\nfrom khmer.khmer_args import calculate_graphsize"
    },
    "executionTime": "2019-09-18T12:11:10.741Z"
   },
   {
    "cell": {
     "executionCount": 11,
     "executionEventId": "19b23d27-e5a0-4c4e-91a9-2182a2d19fe6",
     "hasError": true,
     "id": "801c1f09-890e-42e8-912e-f88cab37c532",
     "outputs": [
      {
       "ename": "NameError",
       "evalue": "name 'args' is not defined",
       "output_type": "error",
       "traceback": [
        "\u001b[0;31m---------------------------------------------------------------------------\u001b[0m",
        "\u001b[0;31mNameError\u001b[0m                                 Traceback (most recent call last)",
        "\u001b[0;32m<ipython-input-11-1632e26c8bec>\u001b[0m in \u001b[0;36m<module>\u001b[0;34m()\u001b[0m\n\u001b[1;32m      8\u001b[0m \u001b[0mpeptide_ksize\u001b[0m \u001b[0;34m=\u001b[0m \u001b[0;36m5\u001b[0m\u001b[0;34m\u001b[0m\u001b[0;34m\u001b[0m\u001b[0m\n\u001b[1;32m      9\u001b[0m \u001b[0;34m\u001b[0m\u001b[0m\n\u001b[0;32m---> 10\u001b[0;31m \u001b[0mtablesize\u001b[0m \u001b[0;34m=\u001b[0m \u001b[0mcalculate_graphsize\u001b[0m\u001b[0;34m(\u001b[0m\u001b[0margs\u001b[0m\u001b[0;34m,\u001b[0m \u001b[0;34m'nodegraph'\u001b[0m\u001b[0;34m,\u001b[0m \u001b[0mmultiplier\u001b[0m\u001b[0;34m)\u001b[0m\u001b[0;34m\u001b[0m\u001b[0;34m\u001b[0m\u001b[0m\n\u001b[0m\u001b[1;32m     11\u001b[0m \u001b[0mNodegraph\u001b[0m\u001b[0;34m(\u001b[0m\u001b[0mpeptide_ksize\u001b[0m\u001b[0;34m,\u001b[0m \u001b[0mtablesize\u001b[0m\u001b[0;34m,\u001b[0m \u001b[0mn_tables\u001b[0m\u001b[0;34m=\u001b[0m\u001b[0;36m4\u001b[0m\u001b[0;34m)\u001b[0m\u001b[0;34m\u001b[0m\u001b[0;34m\u001b[0m\u001b[0m\n",
        "\u001b[0;31mNameError\u001b[0m: name 'args' is not defined"
       ]
      }
     ],
     "persistentId": "24efed0e-0671-4d31-9ac1-c341e9d67f66",
     "text": "tablesize = 1e9\n\nDEFAULT_K = 32\nDEFAULT_N_TABLES = 4\nDEFAULT_MAX_TABLESIZE = 1e6\nDEFAULT_N_THREADS = 1\n\npeptide_ksize = 5\n\ntablesize = calculate_graphsize(args, 'nodegraph', multiplier)\nNodegraph(peptide_ksize, tablesize, n_tables=4)"
    },
    "executionTime": "2019-09-18T12:14:11.950Z"
   },
   {
    "cell": {
     "executionCount": 12,
     "executionEventId": "6d7a1a03-303e-44d0-a7c5-3293118fadc4",
     "hasError": false,
     "id": "801c1f09-890e-42e8-912e-f88cab37c532",
     "outputs": [
      {
       "data": {
        "text/plain": "<khmer._oxli.graphs.Nodegraph at 0x7fe2a84636d8>"
       },
       "execution_count": 12,
       "metadata": {},
       "output_type": "execute_result"
      }
     ],
     "persistentId": "24efed0e-0671-4d31-9ac1-c341e9d67f66",
     "text": "tablesize = 1e9\n\nDEFAULT_K = 32\nDEFAULT_N_TABLES = 4\nDEFAULT_MAX_TABLESIZE = 1e6\nDEFAULT_N_THREADS = 1\n\npeptide_ksize = 5\n\n# tablesize = calculate_graphsize(args, 'nodegraph', multiplier)\nNodegraph(peptide_ksize, tablesize, n_tables=4)"
    },
    "executionTime": "2019-09-18T12:14:18.814Z"
   },
   {
    "cell": {
     "executionCount": 13,
     "executionEventId": "b1b99bb9-4315-4e1a-9b67-ff66ed5a1e2c",
     "hasError": false,
     "id": "801c1f09-890e-42e8-912e-f88cab37c532",
     "outputs": [],
     "persistentId": "24efed0e-0671-4d31-9ac1-c341e9d67f66",
     "text": "tablesize = 1e9\n\nDEFAULT_K = 32\nDEFAULT_N_TABLES = 4\nDEFAULT_MAX_TABLESIZE = 1e6\nDEFAULT_N_THREADS = 1\n\npeptide_ksize = 5\n\n# tablesize = calculate_graphsize(args, 'nodegraph', multiplier)\npeptide_graph = Nodegraph(peptide_ksize, tablesize, n_tables=4)"
    },
    "executionTime": "2019-09-18T12:14:40.891Z"
   },
   {
    "cell": {
     "executionCount": 14,
     "executionEventId": "88db98ee-3b92-4eea-a9cd-828c30e44b05",
     "hasError": false,
     "id": "93685616-c02f-4cd1-9d16-3e730012559f",
     "outputs": [],
     "persistentId": "ca3c95ac-68f3-46f3-b085-b116e63bb8b0",
     "text": "from khmer import Nodegraph\nimport screed\nfrom sourmash._minhash import hash_murmur\nfrom khmer.khmer_args import calculate_graphsize\nfrom sourmash.logging import notify"
    },
    "executionTime": "2019-09-18T12:15:11.096Z"
   },
   {
    "cell": {
     "executionCount": 15,
     "executionEventId": "f0cb25f9-fada-48be-ad98-a7f944c07037",
     "hasError": false,
     "id": "801c1f09-890e-42e8-912e-f88cab37c532",
     "outputs": [],
     "persistentId": "24efed0e-0671-4d31-9ac1-c341e9d67f66",
     "text": "tablesize = 1e9\n\nDEFAULT_K = 32\nDEFAULT_N_TABLES = 4\nDEFAULT_MAX_TABLESIZE = 1e6\nDEFAULT_N_THREADS = 1\n\npeptide_ksize = 5\n\n# tablesize = calculate_graphsize(args, 'nodegraph', multiplier)\npeptide_graph = Nodegraph(peptide_ksize, tablesize, n_tables=4)\n\nfrom khtools.compare_peptide import kmerize"
    },
    "executionTime": "2019-09-18T12:15:54.942Z"
   },
   {
    "cell": {
     "executionCount": 16,
     "executionEventId": "6e5f937b-da01-4dce-ae06-184a948c24c7",
     "hasError": false,
     "id": "2cc99a36-174a-401f-8267-383344f9595e",
     "outputs": [
      {
       "data": {
        "text/plain": "\u001b[0;31mDocstring:\u001b[0m\nHashtable.add(self, kmer)\nIncrement the count of this k-mer\n\n        `kmer` can be either a string or an integer representing the hashed\n        value of the kmer.\n        \n\u001b[0;31mType:\u001b[0m      builtin_function_or_method\n"
       },
       "metadata": {},
       "output_type": "display_data"
      }
     ],
     "persistentId": "bb661e14-d9ba-4ca6-bf7f-d5334c6979ba",
     "text": "peptide_graph.add?"
    },
    "executionTime": "2019-09-18T12:17:19.603Z"
   },
   {
    "cell": {
     "executionCount": 17,
     "executionEventId": "40b228fe-9527-40f8-a6be-af0eb885116c",
     "hasError": false,
     "id": "2cc99a36-174a-401f-8267-383344f9595e",
     "outputs": [
      {
       "data": {
        "text/plain": "\u001b[0;31mDocstring:\u001b[0m Nodegraph.update(self, Nodegraph other)\n\u001b[0;31mType:\u001b[0m      builtin_function_or_method\n"
       },
       "metadata": {},
       "output_type": "display_data"
      }
     ],
     "persistentId": "bb661e14-d9ba-4ca6-bf7f-d5334c6979ba",
     "text": "peptide_graph.update?"
    },
    "executionTime": "2019-09-18T12:17:45.471Z"
   },
   {
    "cell": {
     "executionCount": 18,
     "executionEventId": "991be63d-4acd-4d2d-9eb1-6486a303e337",
     "hasError": false,
     "id": "9be227d3-0f9e-4b30-8d38-48e3c4a9e63d",
     "outputs": [
      {
       "data": {
        "text/plain": "<function Nodegraph.hashsizes>"
       },
       "execution_count": 18,
       "metadata": {},
       "output_type": "execute_result"
      }
     ],
     "persistentId": "be5556c4-baca-496e-92cb-44fc259bd60e",
     "text": "peptide_graph.hashsizes"
    },
    "executionTime": "2019-09-18T12:21:36.046Z"
   },
   {
    "cell": {
     "executionCount": 19,
     "executionEventId": "d3748b9d-602b-4b07-8a14-cef7950dd5e5",
     "hasError": false,
     "id": "9be227d3-0f9e-4b30-8d38-48e3c4a9e63d",
     "outputs": [
      {
       "data": {
        "text/plain": "[999999937, 999999929, 999999893, 999999883]"
       },
       "execution_count": 19,
       "metadata": {},
       "output_type": "execute_result"
      }
     ],
     "persistentId": "be5556c4-baca-496e-92cb-44fc259bd60e",
     "text": "peptide_graph.hashsizes()"
    },
    "executionTime": "2019-09-18T12:21:37.775Z"
   },
   {
    "cell": {
     "executionCount": 20,
     "executionEventId": "febd40f5-836d-46dc-9384-91e2d26d2f8d",
     "hasError": false,
     "id": "6bfd8599-5a51-42c1-85c7-14b7f3d6d508",
     "outputs": [
      {
       "data": {
        "text/plain": "True"
       },
       "execution_count": 20,
       "metadata": {},
       "output_type": "execute_result"
      }
     ],
     "persistentId": "5a8b4edd-67cf-4dfe-9904-464428d4d820",
     "text": "peptide_graph.add('GIVGA')"
    },
    "executionTime": "2019-09-18T12:24:44.877Z"
   },
   {
    "cell": {
     "executionCount": 21,
     "executionEventId": "2758d39f-7e63-4bb8-90ca-50ec6724cb0e",
     "hasError": false,
     "id": "223b44c2-4de8-4d56-8a15-e2ee512b5bfe",
     "outputs": [
      {
       "data": {
        "text/plain": "1"
       },
       "execution_count": 21,
       "metadata": {},
       "output_type": "execute_result"
      }
     ],
     "persistentId": "e0d2e9e2-f038-49f8-910b-dd2b91daabdb",
     "text": "peptide_graph.get(\"GIVGA\")"
    },
    "executionTime": "2019-09-18T12:25:01.909Z"
   },
   {
    "cell": {
     "executionCount": 22,
     "executionEventId": "90f8f960-a6ed-4065-9f92-6f40e8046469",
     "hasError": false,
     "id": "a23ecddc-2f1f-4704-8cbc-239719b9ba3c",
     "outputs": [
      {
       "data": {
        "text/plain": "0"
       },
       "execution_count": 22,
       "metadata": {},
       "output_type": "execute_result"
      }
     ],
     "persistentId": "b99af4a4-a8ee-436a-8945-c8c72936b80e",
     "text": "peptide_graph.get(\"IVGAT\")"
    },
    "executionTime": "2019-09-18T12:25:14.414Z"
   },
   {
    "cell": {
     "executionCount": 23,
     "executionEventId": "25fcea08-18f9-44a2-a233-83c739fee30f",
     "hasError": true,
     "id": "cc5866e5-4668-46b0-b34f-0350f6b32ad1",
     "outputs": [
      {
       "name": "stdout",
       "output_type": "stream",
       "text": "{'name': 'ENSP00000488240.1 pep chromosome:GRCh38:CHR_HSCHR7_2_CTG6:142847306:142847317:1 gene:ENSG00000282253.1 transcript:ENST00000631435.1 gene_biotype:TR_D_gene transcript_biotype:TR_D_gene gene_symbol:TRBD1 description:T cell receptor beta diversity 1 [Source:HGNC Symbol;Acc:HGNC:12158]', 'sequence': 'GTGG', 'description': ''}\n"
      },
      {
       "ename": "AttributeError",
       "evalue": "seq",
       "output_type": "error",
       "traceback": [
        "\u001b[0;31m---------------------------------------------------------------------------\u001b[0m",
        "\u001b[0;31mKeyError\u001b[0m                                  Traceback (most recent call last)",
        "\u001b[0;32m~/miniconda3/envs/kmer-hashing/lib/python3.6/site-packages/screed/screedRecord.py\u001b[0m in \u001b[0;36m__getattr__\u001b[0;34m(self, name)\u001b[0m\n\u001b[1;32m     40\u001b[0m         \u001b[0;32mtry\u001b[0m\u001b[0;34m:\u001b[0m\u001b[0;34m\u001b[0m\u001b[0;34m\u001b[0m\u001b[0m\n\u001b[0;32m---> 41\u001b[0;31m             \u001b[0;32mreturn\u001b[0m \u001b[0mself\u001b[0m\u001b[0;34m.\u001b[0m\u001b[0md\u001b[0m\u001b[0;34m[\u001b[0m\u001b[0mname\u001b[0m\u001b[0;34m]\u001b[0m\u001b[0;34m\u001b[0m\u001b[0;34m\u001b[0m\u001b[0m\n\u001b[0m\u001b[1;32m     42\u001b[0m         \u001b[0;32mexcept\u001b[0m \u001b[0mKeyError\u001b[0m\u001b[0;34m:\u001b[0m\u001b[0;34m\u001b[0m\u001b[0;34m\u001b[0m\u001b[0m\n",
        "\u001b[0;31mKeyError\u001b[0m: 'seq'",
        "\nDuring handling of the above exception, another exception occurred:\n",
        "\u001b[0;31mAttributeError\u001b[0m                            Traceback (most recent call last)",
        "\u001b[0;32m<ipython-input-23-99545d94915f>\u001b[0m in \u001b[0;36m<module>\u001b[0;34m()\u001b[0m\n\u001b[1;32m      3\u001b[0m \u001b[0;32mfor\u001b[0m \u001b[0mi\u001b[0m\u001b[0;34m,\u001b[0m \u001b[0mrecord\u001b[0m \u001b[0;32min\u001b[0m \u001b[0mzip\u001b[0m\u001b[0;34m(\u001b[0m\u001b[0mrange\u001b[0m\u001b[0;34m(\u001b[0m\u001b[0;36m20\u001b[0m\u001b[0;34m)\u001b[0m\u001b[0;34m,\u001b[0m \u001b[0mscreed\u001b[0m\u001b[0;34m.\u001b[0m\u001b[0mopen\u001b[0m\u001b[0;34m(\u001b[0m\u001b[0;34m\"Homo_sapiens.GRCh38.pep.all.fa.gz\"\u001b[0m\u001b[0;34m)\u001b[0m\u001b[0;34m)\u001b[0m\u001b[0;34m:\u001b[0m\u001b[0;34m\u001b[0m\u001b[0;34m\u001b[0m\u001b[0m\n\u001b[1;32m      4\u001b[0m     \u001b[0mprint\u001b[0m\u001b[0;34m(\u001b[0m\u001b[0mrecord\u001b[0m\u001b[0;34m)\u001b[0m\u001b[0;34m\u001b[0m\u001b[0;34m\u001b[0m\u001b[0m\n\u001b[0;32m----> 5\u001b[0;31m     \u001b[0;32mif\u001b[0m \u001b[0;34m'*'\u001b[0m \u001b[0;32min\u001b[0m \u001b[0mrecord\u001b[0m\u001b[0;34m.\u001b[0m\u001b[0mseq\u001b[0m\u001b[0;34m:\u001b[0m\u001b[0;34m\u001b[0m\u001b[0;34m\u001b[0m\u001b[0m\n\u001b[0m\u001b[1;32m      6\u001b[0m         \u001b[0mnotify\u001b[0m\u001b[0;34m(\u001b[0m\u001b[0;34m\"Stop codon found in seq, skipping\\r\"\u001b[0m\u001b[0;34m)\u001b[0m\u001b[0;34m\u001b[0m\u001b[0;34m\u001b[0m\u001b[0m\n\u001b[1;32m      7\u001b[0m         \u001b[0;32mcontinue\u001b[0m\u001b[0;34m\u001b[0m\u001b[0;34m\u001b[0m\u001b[0m\n",
        "\u001b[0;32m~/miniconda3/envs/kmer-hashing/lib/python3.6/site-packages/screed/screedRecord.py\u001b[0m in \u001b[0;36m__getattr__\u001b[0;34m(self, name)\u001b[0m\n\u001b[1;32m     41\u001b[0m             \u001b[0;32mreturn\u001b[0m \u001b[0mself\u001b[0m\u001b[0;34m.\u001b[0m\u001b[0md\u001b[0m\u001b[0;34m[\u001b[0m\u001b[0mname\u001b[0m\u001b[0;34m]\u001b[0m\u001b[0;34m\u001b[0m\u001b[0;34m\u001b[0m\u001b[0m\n\u001b[1;32m     42\u001b[0m         \u001b[0;32mexcept\u001b[0m \u001b[0mKeyError\u001b[0m\u001b[0;34m:\u001b[0m\u001b[0;34m\u001b[0m\u001b[0;34m\u001b[0m\u001b[0m\n\u001b[0;32m---> 43\u001b[0;31m             \u001b[0;32mraise\u001b[0m \u001b[0mAttributeError\u001b[0m\u001b[0;34m(\u001b[0m\u001b[0mname\u001b[0m\u001b[0;34m)\u001b[0m\u001b[0;34m\u001b[0m\u001b[0;34m\u001b[0m\u001b[0m\n\u001b[0m\u001b[1;32m     44\u001b[0m \u001b[0;34m\u001b[0m\u001b[0m\n\u001b[1;32m     45\u001b[0m     \u001b[0;32mdef\u001b[0m \u001b[0m__len__\u001b[0m\u001b[0;34m(\u001b[0m\u001b[0mself\u001b[0m\u001b[0;34m)\u001b[0m\u001b[0;34m:\u001b[0m\u001b[0;34m\u001b[0m\u001b[0;34m\u001b[0m\u001b[0m\n",
        "\u001b[0;31mAttributeError\u001b[0m: seq"
       ]
      }
     ],
     "persistentId": "6d8b5522-6fc7-4ef7-8cfe-1b737f86dfe2",
     "text": "DEFAULT_SEED = 42\n\nfor i, record in zip(range(20), screed.open(\"Homo_sapiens.GRCh38.pep.all.fa.gz\")):\n    print(record)\n    if '*' in record.seq:\n        notify(\"Stop codon found in seq, skipping\\r\")\n        continue\n    kmers = kmerize(record.seq, peptide_ksize)\n    for kmer in kmers:\n        peptide_graph.add(kmer)        "
    },
    "executionTime": "2019-09-18T12:25:27.752Z"
   },
   {
    "cell": {
     "executionCount": 24,
     "executionEventId": "b5841c8e-6c35-4130-bdf6-d84c2fdfe72c",
     "hasError": true,
     "id": "cc5866e5-4668-46b0-b34f-0350f6b32ad1",
     "outputs": [
      {
       "name": "stdout",
       "output_type": "stream",
       "text": "{'name': 'ENSP00000488240.1 pep chromosome:GRCh38:CHR_HSCHR7_2_CTG6:142847306:142847317:1 gene:ENSG00000282253.1 transcript:ENST00000631435.1 gene_biotype:TR_D_gene transcript_biotype:TR_D_gene gene_symbol:TRBD1 description:T cell receptor beta diversity 1 [Source:HGNC Symbol;Acc:HGNC:12158]', 'sequence': 'GTGG', 'description': ''}\n"
      },
      {
       "ename": "KeyError",
       "evalue": "'seq'",
       "output_type": "error",
       "traceback": [
        "\u001b[0;31m---------------------------------------------------------------------------\u001b[0m",
        "\u001b[0;31mKeyError\u001b[0m                                  Traceback (most recent call last)",
        "\u001b[0;32m<ipython-input-24-50479b45d861>\u001b[0m in \u001b[0;36m<module>\u001b[0;34m()\u001b[0m\n\u001b[1;32m      3\u001b[0m \u001b[0;32mfor\u001b[0m \u001b[0mi\u001b[0m\u001b[0;34m,\u001b[0m \u001b[0mrecord\u001b[0m \u001b[0;32min\u001b[0m \u001b[0mzip\u001b[0m\u001b[0;34m(\u001b[0m\u001b[0mrange\u001b[0m\u001b[0;34m(\u001b[0m\u001b[0;36m20\u001b[0m\u001b[0;34m)\u001b[0m\u001b[0;34m,\u001b[0m \u001b[0mscreed\u001b[0m\u001b[0;34m.\u001b[0m\u001b[0mopen\u001b[0m\u001b[0;34m(\u001b[0m\u001b[0;34m\"Homo_sapiens.GRCh38.pep.all.fa.gz\"\u001b[0m\u001b[0;34m)\u001b[0m\u001b[0;34m)\u001b[0m\u001b[0;34m:\u001b[0m\u001b[0;34m\u001b[0m\u001b[0;34m\u001b[0m\u001b[0m\n\u001b[1;32m      4\u001b[0m     \u001b[0mprint\u001b[0m\u001b[0;34m(\u001b[0m\u001b[0mrecord\u001b[0m\u001b[0;34m)\u001b[0m\u001b[0;34m\u001b[0m\u001b[0;34m\u001b[0m\u001b[0m\n\u001b[0;32m----> 5\u001b[0;31m     \u001b[0;32mif\u001b[0m \u001b[0;34m'*'\u001b[0m \u001b[0;32min\u001b[0m \u001b[0mrecord\u001b[0m\u001b[0;34m[\u001b[0m\u001b[0;34m'seq'\u001b[0m\u001b[0;34m]\u001b[0m\u001b[0;34m:\u001b[0m\u001b[0;34m\u001b[0m\u001b[0;34m\u001b[0m\u001b[0m\n\u001b[0m\u001b[1;32m      6\u001b[0m         \u001b[0mnotify\u001b[0m\u001b[0;34m(\u001b[0m\u001b[0;34m\"Stop codon found in seq, skipping\\r\"\u001b[0m\u001b[0;34m)\u001b[0m\u001b[0;34m\u001b[0m\u001b[0;34m\u001b[0m\u001b[0m\n\u001b[1;32m      7\u001b[0m         \u001b[0;32mcontinue\u001b[0m\u001b[0;34m\u001b[0m\u001b[0;34m\u001b[0m\u001b[0m\n",
        "\u001b[0;32m~/miniconda3/envs/kmer-hashing/lib/python3.6/site-packages/screed/screedRecord.py\u001b[0m in \u001b[0;36m__getitem__\u001b[0;34m(self, idx)\u001b[0m\n\u001b[1;32m     56\u001b[0m                 \u001b[0mtrimmed\u001b[0m\u001b[0;34m[\u001b[0m\u001b[0;34m'quality'\u001b[0m\u001b[0;34m]\u001b[0m \u001b[0;34m=\u001b[0m \u001b[0mtrimmed\u001b[0m\u001b[0;34m[\u001b[0m\u001b[0;34m'quality'\u001b[0m\u001b[0;34m]\u001b[0m\u001b[0;34m[\u001b[0m\u001b[0midx\u001b[0m\u001b[0;34m]\u001b[0m\u001b[0;34m\u001b[0m\u001b[0;34m\u001b[0m\u001b[0m\n\u001b[1;32m     57\u001b[0m             \u001b[0;32mreturn\u001b[0m \u001b[0mRecord\u001b[0m\u001b[0;34m(\u001b[0m\u001b[0;34m**\u001b[0m\u001b[0mtrimmed\u001b[0m\u001b[0;34m)\u001b[0m\u001b[0;34m\u001b[0m\u001b[0;34m\u001b[0m\u001b[0m\n\u001b[0;32m---> 58\u001b[0;31m         \u001b[0;32mreturn\u001b[0m \u001b[0mself\u001b[0m\u001b[0;34m.\u001b[0m\u001b[0md\u001b[0m\u001b[0;34m[\u001b[0m\u001b[0midx\u001b[0m\u001b[0;34m]\u001b[0m\u001b[0;34m\u001b[0m\u001b[0;34m\u001b[0m\u001b[0m\n\u001b[0m\u001b[1;32m     59\u001b[0m \u001b[0;34m\u001b[0m\u001b[0m\n\u001b[1;32m     60\u001b[0m     \u001b[0;32mdef\u001b[0m \u001b[0m__delitem__\u001b[0m\u001b[0;34m(\u001b[0m\u001b[0mself\u001b[0m\u001b[0;34m,\u001b[0m \u001b[0mkey\u001b[0m\u001b[0;34m)\u001b[0m\u001b[0;34m:\u001b[0m\u001b[0;34m\u001b[0m\u001b[0;34m\u001b[0m\u001b[0m\n",
        "\u001b[0;31mKeyError\u001b[0m: 'seq'"
       ]
      }
     ],
     "persistentId": "6d8b5522-6fc7-4ef7-8cfe-1b737f86dfe2",
     "text": "DEFAULT_SEED = 42\n\nfor i, record in zip(range(20), screed.open(\"Homo_sapiens.GRCh38.pep.all.fa.gz\")):\n    print(record)\n    if '*' in record['seq']:\n        notify(\"Stop codon found in seq, skipping\\r\")\n        continue\n    kmers = kmerize(record['seq'], peptide_ksize)\n    for kmer in kmers:\n        peptide_graph.add(kmer)        "
    },
    "executionTime": "2019-09-18T12:25:52.111Z"
   },
   {
    "cell": {
     "executionCount": 25,
     "executionEventId": "0a7b1d1d-78e7-4336-acbd-5f95621dd348",
     "hasError": false,
     "id": "cc5866e5-4668-46b0-b34f-0350f6b32ad1",
     "outputs": [
      {
       "name": "stdout",
       "output_type": "stream",
       "text": "{'name': 'ENSP00000488240.1 pep chromosome:GRCh38:CHR_HSCHR7_2_CTG6:142847306:142847317:1 gene:ENSG00000282253.1 transcript:ENST00000631435.1 gene_biotype:TR_D_gene transcript_biotype:TR_D_gene gene_symbol:TRBD1 description:T cell receptor beta diversity 1 [Source:HGNC Symbol;Acc:HGNC:12158]', 'sequence': 'GTGG', 'description': ''}\n{'name': 'ENSP00000451042.1 pep chromosome:GRCh38:14:22438547:22438554:1 gene:ENSG00000223997.1 transcript:ENST00000415118.1 gene_biotype:TR_D_gene transcript_biotype:TR_D_gene gene_symbol:TRDD1 description:T cell receptor delta diversity 1 [Source:HGNC Symbol;Acc:HGNC:12254]', 'sequence': 'EI', 'description': ''}\n{'name': 'ENSP00000452494.1 pep chromosome:GRCh38:14:22449113:22449125:1 gene:ENSG00000228985.1 transcript:ENST00000448914.1 gene_biotype:TR_D_gene transcript_biotype:TR_D_gene gene_symbol:TRDD3 description:T cell receptor delta diversity 3 [Source:HGNC Symbol;Acc:HGNC:12256]', 'sequence': 'TGGY', 'description': ''}\n{'name': 'ENSP00000451515.1 pep chromosome:GRCh38:14:22439007:22439015:1 gene:ENSG00000237235.2 transcript:ENST00000434970.2 gene_biotype:TR_D_gene transcript_biotype:TR_D_gene gene_symbol:TRDD2 description:T cell receptor delta diversity 2 [Source:HGNC Symbol;Acc:HGNC:12255]', 'sequence': 'PSY', 'description': ''}\n{'name': 'ENSP00000487941.1 pep chromosome:GRCh38:7:142786213:142786224:1 gene:ENSG00000282431.1 transcript:ENST00000632684.1 gene_biotype:TR_D_gene transcript_biotype:TR_D_gene gene_symbol:TRBD1 description:T cell receptor beta diversity 1 [Source:HGNC Symbol;Acc:HGNC:12158]', 'sequence': 'GTGG', 'description': ''}\n{'name': 'ENSP00000418639.1 pep chromosome:GRCh38:14:105865551:105865561:-1 gene:ENSG00000236597.1 transcript:ENST00000439842.1 gene_biotype:IG_D_gene transcript_biotype:IG_D_gene gene_symbol:IGHD7-27 description:immunoglobulin heavy diversity 7-27 [Source:HGNC Symbol;Acc:HGNC:5518]', 'sequence': 'LTG', 'description': ''}\n{'name': 'ENSP00000420733.1 pep chromosome:GRCh38:14:105881034:105881053:-1 gene:ENSG00000211907.1 transcript:ENST00000390567.1 gene_biotype:IG_D_gene transcript_biotype:IG_D_gene gene_symbol:IGHD1-26 description:immunoglobulin heavy diversity 1-26 [Source:HGNC Symbol;Acc:HGNC:5485]', 'sequence': 'GIVGAT', 'description': ''}\n{'name': 'ENSP00000417751.1 pep chromosome:GRCh38:14:105881539:105881556:-1 gene:ENSG00000225825.1 transcript:ENST00000452198.1 gene_biotype:IG_D_gene transcript_biotype:IG_D_gene gene_symbol:IGHD6-25 description:immunoglobulin heavy diversity 6-25 [Source:HGNC Symbol;Acc:HGNC:5516]', 'sequence': 'GYSSGY', 'description': ''}\n{'name': 'ENSP00000419139.1 pep chromosome:GRCh38:14:105883903:105883922:-1 gene:ENSG00000211909.1 transcript:ENST00000390569.1 gene_biotype:IG_D_gene transcript_biotype:IG_D_gene gene_symbol:IGHD5-24 description:immunoglobulin heavy diversity 5-24 (non-functional) [Source:HGNC Symbol;Acc:HGNC:5510]', 'sequence': 'VEMATI', 'description': ''}\n{'name': 'ENSP00000430248.1 pep chromosome:GRCh38:14:105884870:105884888:-1 gene:ENSG00000227196.1 transcript:ENST00000437320.1 gene_biotype:IG_D_gene transcript_biotype:IG_D_gene gene_symbol:IGHD4-23 description:immunoglobulin heavy diversity 4-23 (non-functional) [Source:HGNC Symbol;Acc:HGNC:5504]', 'sequence': '*LRW*L', 'description': ''}\n{'name': 'ENSP00000429952.1 pep chromosome:GRCh38:14:105886031:105886061:-1 gene:ENSG00000211911.1 transcript:ENST00000390571.1 gene_biotype:IG_D_gene transcript_biotype:IG_D_gene gene_symbol:IGHD3-22 description:immunoglobulin heavy diversity 3-22 [Source:HGNC Symbol;Acc:HGNC:5497]', 'sequence': 'VLL***WLLL', 'description': ''}\n{'name': 'ENSP00000429324.1 pep chromosome:GRCh38:14:105888551:105888578:-1 gene:ENSG00000211912.1 transcript:ENST00000390572.1 gene_biotype:IG_D_gene transcript_biotype:IG_D_gene gene_symbol:IGHD2-21 description:immunoglobulin heavy diversity 2-21 [Source:HGNC Symbol;Acc:HGNC:5491]', 'sequence': 'SILWW*LLF', 'description': ''}\n{'name': 'ENSP00000418010.1 pep chromosome:GRCh38:14:105891699:105891719:-1 gene:ENSG00000211914.1 transcript:ENST00000390574.1 gene_biotype:IG_D_gene transcript_biotype:IG_D_gene gene_symbol:IGHD6-19 description:immunoglobulin heavy diversity 6-19 [Source:HGNC Symbol;Acc:HGNC:5515]', 'sequence': 'GYSSGWY', 'description': ''}\n{'name': 'ENSP00000417555.1 pep chromosome:GRCh38:14:105893542:105893561:-1 gene:ENSG00000211915.1 transcript:ENST00000390575.1 gene_biotype:IG_D_gene transcript_biotype:IG_D_gene gene_symbol:IGHD5-18 description:immunoglobulin heavy diversity 5-18 [Source:HGNC Symbol;Acc:HGNC:5509]', 'sequence': 'VDTAMV', 'description': ''}\n{'name': 'ENSP00000428366.1 pep chromosome:GRCh38:14:105895634:105895670:-1 gene:ENSG00000211917.1 transcript:ENST00000390577.1 gene_biotype:IG_D_gene transcript_biotype:IG_D_gene gene_symbol:IGHD3-16 description:immunoglobulin heavy diversity 3-16 [Source:HGNC Symbol;Acc:HGNC:5496]', 'sequence': 'VL*LRLGELSLY', 'description': ''}\n{'name': 'ENSP00000431089.1 pep chromosome:GRCh38:14:105894508:105894523:-1 gene:ENSG00000227800.1 transcript:ENST00000431870.1 gene_biotype:IG_D_gene transcript_biotype:IG_D_gene gene_symbol:IGHD4-17 description:immunoglobulin heavy diversity 4-17 [Source:HGNC Symbol;Acc:HGNC:5503]', 'sequence': '*LR*L', 'description': ''}\n{'name': 'ENSP00000420556.1 pep chromosome:GRCh38:14:105891191:105891207:-1 gene:ENSG00000237020.1 transcript:ENST00000450276.1 gene_biotype:IG_D_gene transcript_biotype:IG_D_gene gene_symbol:IGHD1-20 description:immunoglobulin heavy diversity 1-20 [Source:HGNC Symbol;Acc:HGNC:5484]', 'sequence': 'GITGT', 'description': ''}\n{'name': 'ENSP00000427969.1 pep chromosome:GRCh38:14:105897957:105897987:-1 gene:ENSG00000211918.1 transcript:ENST00000390578.1 gene_biotype:IG_D_gene transcript_biotype:IG_D_gene gene_symbol:IGHD2-15 description:immunoglobulin heavy diversity 2-15 [Source:HGNC Symbol;Acc:HGNC:5489]', 'sequence': 'RIL*WW*LLL', 'description': ''}\n{'name': 'ENSP00000418765.1 pep chromosome:GRCh38:14:105900638:105900654:-1 gene:ENSG00000227108.1 transcript:ENST00000451044.1 gene_biotype:IG_D_gene transcript_biotype:IG_D_gene gene_symbol:IGHD1-14 description:immunoglobulin heavy diversity 1-14 (non-functional) [Source:HGNC Symbol;Acc:HGNC:5483]', 'sequence': 'GITGT', 'description': ''}\n{'name': 'ENSP00000419564.1 pep chromosome:GRCh38:14:105901142:105901162:-1 gene:ENSG00000211920.1 transcript:ENST00000390580.1 gene_biotype:IG_D_gene transcript_biotype:IG_D_gene gene_symbol:IGHD6-13 description:immunoglobulin heavy diversity 6-13 [Source:HGNC Symbol;Acc:HGNC:5514]', 'sequence': 'GYSSSWY', 'description': ''}\n"
      },
      {
       "name": "stderr",
       "output_type": "stream",
       "text": "\u001b[KStop codon found in seq, skipping\n\u001b[KStop codon found in seq, skipping\n\u001b[KStop codon found in seq, skipping\n\u001b[KStop codon found in seq, skipping\n\u001b[KStop codon found in seq, skipping\n\u001b[KStop codon found in seq, skipping\n"
      }
     ],
     "persistentId": "6d8b5522-6fc7-4ef7-8cfe-1b737f86dfe2",
     "text": "DEFAULT_SEED = 42\n\nfor i, record in zip(range(20), screed.open(\"Homo_sapiens.GRCh38.pep.all.fa.gz\")):\n    print(record)\n    if '*' in record['sequence']:\n        notify(\"Stop codon found in seq, skipping\\r\")\n        continue\n    kmers = kmerize(record['sequence'], peptide_ksize)\n    for kmer in kmers:\n        peptide_graph.add(kmer)        "
    },
    "executionTime": "2019-09-18T12:25:59.915Z"
   },
   {
    "cell": {
     "executionCount": 26,
     "executionEventId": "684ee12d-e553-4f16-a632-f4de30ad755c",
     "hasError": false,
     "id": "cc5866e5-4668-46b0-b34f-0350f6b32ad1",
     "outputs": [
      {
       "name": "stderr",
       "output_type": "stream",
       "text": "\u001b[KStop codon found in seq, skipping\n\u001b[KStop codon found in seq, skipping\n\u001b[KStop codon found in seq, skipping\n\u001b[KStop codon found in seq, skipping\n\u001b[KStop codon found in seq, skipping\n\u001b[KStop codon found in seq, skipping\n"
      }
     ],
     "persistentId": "6d8b5522-6fc7-4ef7-8cfe-1b737f86dfe2",
     "text": "DEFAULT_SEED = 42\n\nfor i, record in zip(range(20), screed.open(\"Homo_sapiens.GRCh38.pep.all.fa.gz\")):\n#     print(record)\n    if '*' in record['sequence']:\n        notify(\"Stop codon found in seq, skipping\\r\")\n        continue\n    kmers = kmerize(record['sequence'], peptide_ksize)\n    for kmer in kmers:\n        peptide_graph.add(kmer)        "
    },
    "executionTime": "2019-09-18T12:26:07.967Z"
   },
   {
    "cell": {
     "executionCount": 27,
     "executionEventId": "0b802efd-83cd-4987-bad1-ab8491b887c1",
     "hasError": true,
     "id": "cc5866e5-4668-46b0-b34f-0350f6b32ad1",
     "outputs": [
      {
       "name": "stderr",
       "output_type": "stream",
       "text": "\u001b[KStop codon found in seq, skipping\n\u001b[KStop codon found in seq, skipping\n\u001b[KStop codon found in seq, skipping\n\u001b[KStop codon found in seq, skipping\n\u001b[KStop codon found in seq, skipping\n\u001b[KStop codon found in seq, skipping\n\u001b[KStop codon found in seq, skipping\n\u001b[KStop codon found in seq, skipping\n\u001b[KStop codon found in seq, skipping\n\u001b[KStop codon found in seq, skipping\n\u001b[KStop codon found in seq, skipping\n\u001b[KStop codon found in seq, skipping\n\u001b[KStop codon found in seq, skipping\n\u001b[KStop codon found in seq, skipping\n\u001b[KStop codon found in seq, skipping\n\u001b[KStop codon found in seq, skipping\n\u001b[KStop codon found in seq, skipping\n\u001b[KStop codon found in seq, skipping\n\u001b[KStop codon found in seq, skipping\n\u001b[KStop codon found in seq, skipping\n\u001b[KStop codon found in seq, skipping\n\u001b[KStop codon found in seq, skipping\n\u001b[KStop codon found in seq, skipping\n\u001b[KStop codon found in seq, skipping\n\u001b[KStop codon found in seq, skipping\n\u001b[KStop codon found in seq, skipping\n\u001b[KStop codon found in seq, skipping\n\u001b[KStop codon found in seq, skipping\n\u001b[KStop codon found in seq, skipping\n\u001b[KStop codon found in seq, skipping\n\u001b[KStop codon found in seq, skipping\n\u001b[KStop codon found in seq, skipping\n\u001b[KStop codon found in seq, skipping\n\u001b[KStop codon found in seq, skipping\n\u001b[KStop codon found in seq, skipping\n\u001b[KStop codon found in seq, skipping\n\u001b[KStop codon found in seq, skipping\n\u001b[KStop codon found in seq, skipping\n\u001b[KStop codon found in seq, skipping\n\u001b[KStop codon found in seq, skipping\n\u001b[KStop codon found in seq, skipping\n\u001b[KStop codon found in seq, skipping\n\u001b[KStop codon found in seq, skipping\n\u001b[KStop codon found in seq, skipping\n\u001b[KStop codon found in seq, skipping\n\u001b[KStop codon found in seq, skipping\n\u001b[KStop codon found in seq, skipping\n\u001b[KStop codon found in seq, skipping\n\u001b[KStop codon found in seq, skipping\n\u001b[KStop codon found in seq, skipping\n\u001b[KStop codon found in seq, skipping\n\u001b[KStop codon found in seq, skipping\n\u001b[KStop codon found in seq, skipping\n\u001b[KStop codon found in seq, skipping\n\u001b[KStop codon found in seq, skipping\n\u001b[KStop codon found in seq, skipping\n\u001b[KStop codon found in seq, skipping\n\u001b[KStop codon found in seq, skipping\n\u001b[KStop codon found in seq, skipping\n\u001b[KStop codon found in seq, skipping\n\u001b[KStop codon found in seq, skipping\n\u001b[KStop codon found in seq, skipping\n\u001b[KStop codon found in seq, skipping\n\u001b[KStop codon found in seq, skipping\n\u001b[KStop codon found in seq, skipping\n\u001b[KStop codon found in seq, skipping\n\u001b[KStop codon found in seq, skipping\n\u001b[KStop codon found in seq, skipping\n\u001b[KStop codon found in seq, skipping\n\u001b[KStop codon found in seq, skipping\n\u001b[KStop codon found in seq, skipping\n\u001b[KStop codon found in seq, skipping\n\u001b[KStop codon found in seq, skipping\n\u001b[KStop codon found in seq, skipping\n\u001b[KStop codon found in seq, skipping\n\u001b[KStop codon found in seq, skipping\n\u001b[KStop codon found in seq, skipping\n\u001b[KStop codon found in seq, skipping\n\u001b[KStop codon found in seq, skipping\n\u001b[KStop codon found in seq, skipping\n\u001b[KStop codon found in seq, skipping\n\u001b[KStop codon found in seq, skipping\n\u001b[KStop codon found in seq, skipping\n\u001b[KStop codon found in seq, skipping\n\u001b[KStop codon found in seq, skipping\n\u001b[KStop codon found in seq, skipping\n\u001b[KStop codon found in seq, skipping\n\u001b[KStop codon found in seq, skipping\n\u001b[KStop codon found in seq, skipping\n\u001b[KStop codon found in seq, skipping\n\u001b[KStop codon found in seq, skipping\n\u001b[KStop codon found in seq, skipping\n\u001b[KStop codon found in seq, skipping\n\u001b[KStop codon found in seq, skipping\n\u001b[KStop codon found in seq, skipping\n\u001b[KStop codon found in seq, skipping\n\u001b[KStop codon found in seq, skipping\n\u001b[KStop codon found in seq, skipping\n\u001b[KStop codon found in seq, skipping\n\u001b[KStop codon found in seq, skipping\n\u001b[KStop codon found in seq, skipping\n\u001b[KStop codon found in seq, skipping\n\u001b[KStop codon found in seq, skipping\n\u001b[KStop codon found in seq, skipping\n\u001b[KStop codon found in seq, skipping\n\u001b[KStop codon found in seq, skipping\n\u001b[KStop codon found in seq, skipping\n\u001b[KStop codon found in seq, skipping\n\u001b[KStop codon found in seq, skipping\n\u001b[KStop codon found in seq, skipping\n\u001b[KStop codon found in seq, skipping\n\u001b[KStop codon found in seq, skipping\n\u001b[KStop codon found in seq, skipping\n\u001b[KStop codon found in seq, skipping\n\u001b[KStop codon found in seq, skipping\n\u001b[KStop codon found in seq, skipping\n\u001b[KStop codon found in seq, skipping\n\u001b[KStop codon found in seq, skipping\n\u001b[KStop codon found in seq, skipping\n\u001b[KStop codon found in seq, skipping\n\u001b[KStop codon found in seq, skipping\n\u001b[KStop codon found in seq, skipping\n"
      },
      {
       "ename": "KeyboardInterrupt",
       "evalue": "",
       "output_type": "error",
       "traceback": [
        "\u001b[0;31m---------------------------------------------------------------------------\u001b[0m",
        "\u001b[0;31mKeyboardInterrupt\u001b[0m                         Traceback (most recent call last)",
        "\u001b[0;32m<timed exec>\u001b[0m in \u001b[0;36m<module>\u001b[0;34m()\u001b[0m\n",
        "\u001b[0;31mKeyboardInterrupt\u001b[0m: "
       ]
      }
     ],
     "persistentId": "6d8b5522-6fc7-4ef7-8cfe-1b737f86dfe2",
     "text": "%%time\n\nDEFAULT_SEED = 42\n\nfor record in screed.open(\"Homo_sapiens.GRCh38.pep.all.fa.gz\"):\n#     print(record)\n    if '*' in record['sequence']:\n        notify(\"Stop codon found in seq, skipping\\r\")\n        continue\n    kmers = kmerize(record['sequence'], peptide_ksize)\n    for kmer in kmers:\n        peptide_graph.add(kmer)        "
    },
    "executionTime": "2019-09-18T12:26:34.482Z"
   },
   {
    "cell": {
     "executionCount": 28,
     "executionEventId": "91fb77f2-9593-4ca4-87c3-d0e81e81a01f",
     "hasError": false,
     "id": "cc5866e5-4668-46b0-b34f-0350f6b32ad1",
     "outputs": [
      {
       "name": "stdout",
       "output_type": "stream",
       "text": "CPU times: user 28.5 s, sys: 0 ns, total: 28.5 s\nWall time: 28.5 s\n"
      }
     ],
     "persistentId": "6d8b5522-6fc7-4ef7-8cfe-1b737f86dfe2",
     "text": "%%time\n\nDEFAULT_SEED = 42\n\nfor record in screed.open(\"Homo_sapiens.GRCh38.pep.all.fa.gz\"):\n#     print(record)\n    if '*' in record['sequence']:\n#         notify(\"Stop codon found in seq, skipping\")\n        continue\n    kmers = kmerize(record['sequence'], peptide_ksize)\n    for kmer in kmers:\n        peptide_graph.add(kmer)        "
    },
    "executionTime": "2019-09-18T12:27:14.486Z"
   },
   {
    "cell": {
     "executionCount": 29,
     "executionEventId": "61b02a15-3397-4211-81dd-0bf3e91b4c7f",
     "hasError": false,
     "id": "93685616-c02f-4cd1-9d16-3e730012559f",
     "outputs": [],
     "persistentId": "ca3c95ac-68f3-46f3-b085-b116e63bb8b0",
     "text": "from khmer import Nodegraph\nimport screed\nfrom sourmash._minhash import hash_murmur\nfrom khmer.khmer_args import calculate_graphsize\nfrom sourmash.logging import notify\n\nfrom khtools.compare_peptide import kmerize\n\nfrom Bio.Seq import Seq"
    },
    "executionTime": "2019-09-18T12:34:53.284Z"
   },
   {
    "cell": {
     "executionCount": 30,
     "executionEventId": "967a6c2a-e65c-4495-9b9f-7e792c1d6390",
     "hasError": false,
     "id": "53f12995-5d79-41d4-b852-576c0f26de5c",
     "outputs": [
      {
       "name": "stdout",
       "output_type": "stream",
       "text": "total 239G\ndrwxrwxr-x 2 olga olga 4.0K Sep 18 05:33 \u001b[0m\u001b[01;34m.\u001b[0m/\ndrwxrwxr-x 5 olga olga 4.0K Sep 14 08:39 \u001b[01;34m..\u001b[0m/\n-rw-rw-r-- 1 olga olga  21M Sep 14 06:46 \u001b[01;31mHomo_sapiens.GRCh38.cds.all.fa.gz\u001b[0m\n-rw-rw-r-- 1 olga olga  16M Sep 14 06:46 \u001b[01;31mHomo_sapiens.GRCh38.ncrna.fa.gz\u001b[0m\n-rw-rw-r-- 1 olga olga  14M Sep 14 06:46 \u001b[01;31mHomo_sapiens.GRCh38.pep.all.fa.gz\u001b[0m\n-rw-rw-r-- 1 olga olga  15G Sep 14 07:11 human_cds_k15.nodegraph\n-rw-rw-r-- 1 olga olga   65 Sep 14 07:11 human_cds_k15.nodegraph.info\n-rw-rw-r-- 1 olga olga  15G Sep 14 07:22 human_cds_k17.nodegraph\n-rw-rw-r-- 1 olga olga   65 Sep 14 07:22 human_cds_k17.nodegraph.info\n-rw-rw-r-- 1 olga olga  15G Sep 14 07:30 human_cds_k19.nodegraph\n-rw-rw-r-- 1 olga olga   65 Sep 14 07:30 human_cds_k19.nodegraph.info\n-rw-rw-r-- 1 olga olga  15G Sep 14 07:39 human_cds_k21.nodegraph\n-rw-rw-r-- 1 olga olga   65 Sep 14 07:39 human_cds_k21.nodegraph.info\n-rw-rw-r-- 1 olga olga  15G Sep 14 07:47 human_cds_k23.nodegraph\n-rw-rw-r-- 1 olga olga   65 Sep 14 07:47 human_cds_k23.nodegraph.info\n-rw-rw-r-- 1 olga olga  15G Sep 14 07:55 human_cds_k25.nodegraph\n-rw-rw-r-- 1 olga olga   65 Sep 14 07:55 human_cds_k25.nodegraph.info\n-rw-rw-r-- 1 olga olga  15G Sep 14 08:03 human_cds_k27.nodegraph\n-rw-rw-r-- 1 olga olga   65 Sep 14 08:03 human_cds_k27.nodegraph.info\n-rw-rw-r-- 1 olga olga  15G Sep 14 08:12 human_cds_k31.nodegraph\n-rw-rw-r-- 1 olga olga   65 Sep 14 08:12 human_cds_k31.nodegraph.info\n-rw-rw-r-- 1 olga olga  15G Sep 14 07:18 human_ncrna_k15.nodegraph\n-rw-rw-r-- 1 olga olga   65 Sep 14 07:18 human_ncrna_k15.nodegraph.info\n-rw-rw-r-- 1 olga olga 5.7M Sep 14 07:15 human_ncrna_k15.nodegraph.tagset\n-rw-rw-r-- 1 olga olga  15G Sep 14 07:26 human_ncrna_k17.nodegraph\n-rw-rw-r-- 1 olga olga   65 Sep 14 07:26 human_ncrna_k17.nodegraph.info\n-rw-rw-r-- 1 olga olga  15G Sep 14 07:34 human_ncrna_k19.nodegraph\n-rw-rw-r-- 1 olga olga   65 Sep 14 07:34 human_ncrna_k19.nodegraph.info\n-rw-rw-r-- 1 olga olga  15G Sep 14 07:42 human_ncrna_k21.nodegraph\n-rw-rw-r-- 1 olga olga   65 Sep 14 07:43 human_ncrna_k21.nodegraph.info\n-rw-rw-r-- 1 olga olga  15G Sep 14 07:51 human_ncrna_k23.nodegraph\n-rw-rw-r-- 1 olga olga   65 Sep 14 07:51 human_ncrna_k23.nodegraph.info\n-rw-rw-r-- 1 olga olga  15G Sep 14 07:59 human_ncrna_k25.nodegraph\n-rw-rw-r-- 1 olga olga   65 Sep 14 07:59 human_ncrna_k25.nodegraph.info\n-rw-rw-r-- 1 olga olga  15G Sep 14 08:07 human_ncrna_k27.nodegraph\n-rw-rw-r-- 1 olga olga   65 Sep 14 08:07 human_ncrna_k27.nodegraph.info\n-rw-rw-r-- 1 olga olga  15G Sep 14 08:16 human_ncrna_k31.nodegraph\n-rw-rw-r-- 1 olga olga   65 Sep 14 08:16 human_ncrna_k31.nodegraph.info\n-rw-r--r-- 1 olga olga  52M Sep 18 05:33 \u001b[01;31mSRR306838_GSM752691_hsa_br_F_1_trimmed.fq.gz\u001b[0m\n-rw-r--r-- 1 olga olga  72K Sep 18 05:33 \u001b[01;31mSRR306838_GSM752691_hsa_br_F_1_trimmed_subsampled.fq.gz\u001b[0m\n"
      }
     ],
     "persistentId": "f9bbce41-5893-489d-8f89-7d8fb0b0fe1e",
     "text": "ls -lha"
    },
    "executionTime": "2019-09-18T12:35:09.570Z"
   },
   {
    "cell": {
     "executionCount": 31,
     "executionEventId": "36bee734-5f98-4e53-af05-c40ab1471edd",
     "hasError": false,
     "id": "93685616-c02f-4cd1-9d16-3e730012559f",
     "outputs": [],
     "persistentId": "ca3c95ac-68f3-46f3-b085-b116e63bb8b0",
     "text": "import gzip\n\nfrom khmer import Nodegraph\nimport screed\nfrom sourmash._minhash import hash_murmur\nfrom khmer.khmer_args import calculate_graphsize\nfrom sourmash.logging import notify\n\nfrom khtools.compare_peptide import kmerize\n\nfrom Bio.Seq import Seq"
    },
    "executionTime": "2019-09-18T12:35:21.064Z"
   },
   {
    "cell": {
     "executionCount": 32,
     "executionEventId": "1eb5def6-5d94-4b5e-aae0-b6ae88adb7fe",
     "hasError": false,
     "id": "93685616-c02f-4cd1-9d16-3e730012559f",
     "outputs": [],
     "persistentId": "ca3c95ac-68f3-46f3-b085-b116e63bb8b0",
     "text": "import gzip\n\nfrom khmer import Nodegraph\nimport screed\nfrom sourmash._minhash import hash_murmur\nfrom khmer.khmer_args import calculate_graphsize\nfrom sourmash.logging import notify\n\nfrom khtools.compare_peptide import kmerize\n\nfrom Bio.Seq import Seq\nfrom Bio import SeqIO"
    },
    "executionTime": "2019-09-18T12:35:44.013Z"
   },
   {
    "cell": {
     "executionCount": 33,
     "executionEventId": "bfc3de14-2aec-41bc-96a7-2d654046aa99",
     "hasError": true,
     "id": "7b834435-4c4d-4a94-befd-712cc920dd65",
     "outputs": [
      {
       "ename": "TypeError",
       "evalue": "'module' object is not callable",
       "output_type": "error",
       "traceback": [
        "\u001b[0;31m---------------------------------------------------------------------------\u001b[0m",
        "\u001b[0;31mTypeError\u001b[0m                                 Traceback (most recent call last)",
        "\u001b[0;32m<ipython-input-33-3077e7f8be71>\u001b[0m in \u001b[0;36m<module>\u001b[0;34m()\u001b[0m\n\u001b[1;32m     11\u001b[0m \u001b[0;34m\u001b[0m\u001b[0m\n\u001b[1;32m     12\u001b[0m \u001b[0;32mwith\u001b[0m \u001b[0mgzip\u001b[0m\u001b[0;34m.\u001b[0m\u001b[0mopen\u001b[0m\u001b[0;34m(\u001b[0m\u001b[0;34m'SRR306838_GSM752691_hsa_br_F_1_trimmed_subsampled.fq.gz'\u001b[0m\u001b[0;34m,\u001b[0m \u001b[0;34m'rt'\u001b[0m\u001b[0;34m)\u001b[0m \u001b[0;32mas\u001b[0m \u001b[0mf\u001b[0m\u001b[0;34m:\u001b[0m\u001b[0;34m\u001b[0m\u001b[0;34m\u001b[0m\u001b[0m\n\u001b[0;32m---> 13\u001b[0;31m     \u001b[0;32mfor\u001b[0m \u001b[0mi\u001b[0m\u001b[0;34m,\u001b[0m \u001b[0mrecord\u001b[0m \u001b[0;32min\u001b[0m \u001b[0mzip\u001b[0m\u001b[0;34m(\u001b[0m\u001b[0mrange\u001b[0m\u001b[0;34m(\u001b[0m\u001b[0;36m5\u001b[0m\u001b[0;34m)\u001b[0m\u001b[0;34m,\u001b[0m \u001b[0mSeqIO\u001b[0m\u001b[0;34m(\u001b[0m\u001b[0mf\u001b[0m\u001b[0;34m,\u001b[0m \u001b[0;34m'fastq'\u001b[0m\u001b[0;34m)\u001b[0m\u001b[0;34m)\u001b[0m\u001b[0;34m:\u001b[0m\u001b[0;34m\u001b[0m\u001b[0;34m\u001b[0m\u001b[0m\n\u001b[0m\u001b[1;32m     14\u001b[0m         \u001b[0mprint\u001b[0m\u001b[0;34m(\u001b[0m\u001b[0mrecord\u001b[0m\u001b[0;34m.\u001b[0m\u001b[0mdescription\u001b[0m\u001b[0;34m)\u001b[0m\u001b[0;34m\u001b[0m\u001b[0;34m\u001b[0m\u001b[0m\n\u001b[1;32m     15\u001b[0m         \u001b[0mprint\u001b[0m\u001b[0;34m(\u001b[0m\u001b[0mstr\u001b[0m\u001b[0;34m(\u001b[0m\u001b[0mrecord\u001b[0m\u001b[0;34m.\u001b[0m\u001b[0mseq\u001b[0m\u001b[0;34m)\u001b[0m\u001b[0;34m)\u001b[0m\u001b[0;34m\u001b[0m\u001b[0;34m\u001b[0m\u001b[0m\n",
        "\u001b[0;31mTypeError\u001b[0m: 'module' object is not callable"
       ]
      }
     ],
     "persistentId": "39699f59-df26-4089-a7b8-519f138c6091",
     "text": "def three_frame_translation(seq):\n    for frame in range(3):\n        translation = seq[frame:].translate()\n        yield translation\n        \ndef three_frame_translation_no_stops(seq):\n    return [t for t in three_frame_translation(seq) if '*' not in t]\n\ndef six_frame_translation(seq):\n    forward_translations = [x for x in three_frame_translation(seq) if '*' not in x]\n\nwith gzip.open('SRR306838_GSM752691_hsa_br_F_1_trimmed_subsampled.fq.gz', 'rt') as f:\n    for i, record in zip(range(5), SeqIO(f, 'fastq')):\n        print(record.description)\n        print(str(record.seq))\n        print(three_frame_translation(seq))\n        print(three_frame_translation(seq[::-1]))"
    },
    "executionTime": "2019-09-18T12:40:30.279Z"
   },
   {
    "cell": {
     "executionCount": 34,
     "executionEventId": "31f0c24e-1b18-40ff-85c1-bcd3afc4cb34",
     "hasError": true,
     "id": "7b834435-4c4d-4a94-befd-712cc920dd65",
     "outputs": [
      {
       "name": "stdout",
       "output_type": "stream",
       "text": "SRR306838.10559374 Ibis_Run100924_C3PO:6:51:17601:17119/1\nCGCTTGCTTAATACTGACATCAATAATATTAGGAAAATCGCAATATAACTGTAAATCCTGTTCTGTC\n"
      },
      {
       "ename": "NameError",
       "evalue": "name 'seq' is not defined",
       "output_type": "error",
       "traceback": [
        "\u001b[0;31m---------------------------------------------------------------------------\u001b[0m",
        "\u001b[0;31mNameError\u001b[0m                                 Traceback (most recent call last)",
        "\u001b[0;32m<ipython-input-34-8e368cd5a243>\u001b[0m in \u001b[0;36m<module>\u001b[0;34m()\u001b[0m\n\u001b[1;32m     14\u001b[0m         \u001b[0mprint\u001b[0m\u001b[0;34m(\u001b[0m\u001b[0mrecord\u001b[0m\u001b[0;34m.\u001b[0m\u001b[0mdescription\u001b[0m\u001b[0;34m)\u001b[0m\u001b[0;34m\u001b[0m\u001b[0;34m\u001b[0m\u001b[0m\n\u001b[1;32m     15\u001b[0m         \u001b[0mprint\u001b[0m\u001b[0;34m(\u001b[0m\u001b[0mstr\u001b[0m\u001b[0;34m(\u001b[0m\u001b[0mrecord\u001b[0m\u001b[0;34m.\u001b[0m\u001b[0mseq\u001b[0m\u001b[0;34m)\u001b[0m\u001b[0;34m)\u001b[0m\u001b[0;34m\u001b[0m\u001b[0;34m\u001b[0m\u001b[0m\n\u001b[0;32m---> 16\u001b[0;31m         \u001b[0mprint\u001b[0m\u001b[0;34m(\u001b[0m\u001b[0mthree_frame_translation\u001b[0m\u001b[0;34m(\u001b[0m\u001b[0mseq\u001b[0m\u001b[0;34m)\u001b[0m\u001b[0;34m)\u001b[0m\u001b[0;34m\u001b[0m\u001b[0;34m\u001b[0m\u001b[0m\n\u001b[0m\u001b[1;32m     17\u001b[0m         \u001b[0mprint\u001b[0m\u001b[0;34m(\u001b[0m\u001b[0mthree_frame_translation\u001b[0m\u001b[0;34m(\u001b[0m\u001b[0mseq\u001b[0m\u001b[0;34m[\u001b[0m\u001b[0;34m:\u001b[0m\u001b[0;34m:\u001b[0m\u001b[0;34m-\u001b[0m\u001b[0;36m1\u001b[0m\u001b[0;34m]\u001b[0m\u001b[0;34m)\u001b[0m\u001b[0;34m)\u001b[0m\u001b[0;34m\u001b[0m\u001b[0;34m\u001b[0m\u001b[0m\n",
        "\u001b[0;31mNameError\u001b[0m: name 'seq' is not defined"
       ]
      }
     ],
     "persistentId": "39699f59-df26-4089-a7b8-519f138c6091",
     "text": "def three_frame_translation(seq):\n    for frame in range(3):\n        translation = seq[frame:].translate()\n        yield translation\n        \ndef three_frame_translation_no_stops(seq):\n    return [t for t in three_frame_translation(seq) if '*' not in t]\n\ndef six_frame_translation(seq):\n    forward_translations = [x for x in three_frame_translation(seq) if '*' not in x]\n\nwith gzip.open('SRR306838_GSM752691_hsa_br_F_1_trimmed_subsampled.fq.gz', 'rt') as f:\n    for i, record in zip(range(5), SeqIO.parse(f, 'fastq')):\n        print(record.description)\n        print(str(record.seq))\n        print(three_frame_translation(seq))\n        print(three_frame_translation(seq[::-1]))"
    },
    "executionTime": "2019-09-18T12:40:35.021Z"
   },
   {
    "cell": {
     "executionCount": 35,
     "executionEventId": "7316fc6e-8cc0-4d5d-8b08-83d7ff87dd21",
     "hasError": true,
     "id": "7b834435-4c4d-4a94-befd-712cc920dd65",
     "outputs": [
      {
       "name": "stdout",
       "output_type": "stream",
       "text": "SRR306838.10559374 Ibis_Run100924_C3PO:6:51:17601:17119/1\nCGCTTGCTTAATACTGACATCAATAATATTAGGAAAATCGCAATATAACTGTAAATCCTGTTCTGTC\n<generator object three_frame_translation at 0x7fe26ed50c50>\n"
      },
      {
       "ename": "NameError",
       "evalue": "name 'recordseq' is not defined",
       "output_type": "error",
       "traceback": [
        "\u001b[0;31m---------------------------------------------------------------------------\u001b[0m",
        "\u001b[0;31mNameError\u001b[0m                                 Traceback (most recent call last)",
        "\u001b[0;32m<ipython-input-35-415e3b7cf0b9>\u001b[0m in \u001b[0;36m<module>\u001b[0;34m()\u001b[0m\n\u001b[1;32m     15\u001b[0m         \u001b[0mprint\u001b[0m\u001b[0;34m(\u001b[0m\u001b[0mstr\u001b[0m\u001b[0;34m(\u001b[0m\u001b[0mrecord\u001b[0m\u001b[0;34m.\u001b[0m\u001b[0mseq\u001b[0m\u001b[0;34m)\u001b[0m\u001b[0;34m)\u001b[0m\u001b[0;34m\u001b[0m\u001b[0;34m\u001b[0m\u001b[0m\n\u001b[1;32m     16\u001b[0m         \u001b[0mprint\u001b[0m\u001b[0;34m(\u001b[0m\u001b[0mthree_frame_translation\u001b[0m\u001b[0;34m(\u001b[0m\u001b[0mrecord\u001b[0m\u001b[0;34m.\u001b[0m\u001b[0mseq\u001b[0m\u001b[0;34m)\u001b[0m\u001b[0;34m)\u001b[0m\u001b[0;34m\u001b[0m\u001b[0;34m\u001b[0m\u001b[0m\n\u001b[0;32m---> 17\u001b[0;31m         \u001b[0mprint\u001b[0m\u001b[0;34m(\u001b[0m\u001b[0mthree_frame_translation\u001b[0m\u001b[0;34m(\u001b[0m\u001b[0mrecordseq\u001b[0m\u001b[0;34m[\u001b[0m\u001b[0;34m:\u001b[0m\u001b[0;34m:\u001b[0m\u001b[0;34m-\u001b[0m\u001b[0;36m1\u001b[0m\u001b[0;34m]\u001b[0m\u001b[0;34m)\u001b[0m\u001b[0;34m)\u001b[0m\u001b[0;34m\u001b[0m\u001b[0;34m\u001b[0m\u001b[0m\n\u001b[0m",
        "\u001b[0;31mNameError\u001b[0m: name 'recordseq' is not defined"
       ]
      }
     ],
     "persistentId": "39699f59-df26-4089-a7b8-519f138c6091",
     "text": "def three_frame_translation(seq):\n    for frame in range(3):\n        translation = seq[frame:].translate()\n        yield translation\n        \ndef three_frame_translation_no_stops(seq):\n    return [t for t in three_frame_translation(seq) if '*' not in t]\n\ndef six_frame_translation(seq):\n    forward_translations = [x for x in three_frame_translation(seq) if '*' not in x]\n\nwith gzip.open('SRR306838_GSM752691_hsa_br_F_1_trimmed_subsampled.fq.gz', 'rt') as f:\n    for i, record in zip(range(5), SeqIO.parse(f, 'fastq')):\n        print(record.description)\n        print(str(record.seq))\n        print(three_frame_translation(record.seq))\n        print(three_frame_translation(recordseq[::-1]))"
    },
    "executionTime": "2019-09-18T12:40:43.917Z"
   },
   {
    "cell": {
     "executionCount": 36,
     "executionEventId": "6705dcd5-3c79-4f58-ae83-1556fea86d93",
     "hasError": false,
     "id": "7b834435-4c4d-4a94-befd-712cc920dd65",
     "outputs": [
      {
       "name": "stdout",
       "output_type": "stream",
       "text": "SRR306838.10559374 Ibis_Run100924_C3PO:6:51:17601:17119/1\nCGCTTGCTTAATACTGACATCAATAATATTAGGAAAATCGCAATATAACTGTAAATCCTGTTCTGTC\n<generator object three_frame_translation at 0x7fe26ecec4c0>\n<generator object three_frame_translation at 0x7fe26ecec4c0>\nSRR306838.6196593 Ibis_Run100924_C3PO:6:29:16733:12435/1\nTCTAGAATGTGAAATAACGTACTTCATGTGTCTTCTTACCAAAAATACCAACGATAAGGGGAAAAGCCATC\n<generator object three_frame_translation at 0x7fe26ecec728>\n<generator object three_frame_translation at 0x7fe26ecec728>\nSRR306838.20767303 Ibis_Run100924_C3PO:6:104:6864:5062/1\nCAATCATCATCACTTTCTAATTCCAGAATATTTTCATCACCCCAAAAAGAAATCCTAAATCCATTAGC\n<generator object three_frame_translation at 0x7fe26ecec4c0>\n<generator object three_frame_translation at 0x7fe26ecec4c0>\nSRR306838.12582274 Ibis_Run100924_C3PO:6:62:11779:17975/1\nCAAAAGTGAAGACCTCCCTGGGGTCTTCAAAGACAGCCTTTGCTCTCCATGTAGCCAATGGTGCTCT\n<generator object three_frame_translation at 0x7fe26ecec728>\n<generator object three_frame_translation at 0x7fe26ecec728>\nSRR306838.13334230 Ibis_Run100924_C3PO:6:66:16579:20350/1\nGTAACCCTTAATTCCTCAGAAAAAATAGACAACATAGTGGAGTGGGATGGAGGAAC\n<generator object three_frame_translation at 0x7fe26ecec4c0>\n<generator object three_frame_translation at 0x7fe26ecec4c0>\n"
      }
     ],
     "persistentId": "39699f59-df26-4089-a7b8-519f138c6091",
     "text": "def three_frame_translation(seq):\n    for frame in range(3):\n        translation = seq[frame:].translate()\n        yield translation\n        \ndef three_frame_translation_no_stops(seq):\n    return [t for t in three_frame_translation(seq) if '*' not in t]\n\ndef six_frame_translation(seq):\n    forward_translations = [x for x in three_frame_translation(seq) if '*' not in x]\n\nwith gzip.open('SRR306838_GSM752691_hsa_br_F_1_trimmed_subsampled.fq.gz', 'rt') as f:\n    for i, record in zip(range(5), SeqIO.parse(f, 'fastq')):\n        print(record.description)\n        print(str(record.seq))\n        print(three_frame_translation(record.seq))\n        print(three_frame_translation(record.seq[::-1]))"
    },
    "executionTime": "2019-09-18T12:40:45.762Z"
   },
   {
    "cell": {
     "executionCount": 37,
     "executionEventId": "33e72e56-2016-4aa0-bb2c-7ec64e244d94",
     "hasError": false,
     "id": "7b834435-4c4d-4a94-befd-712cc920dd65",
     "outputs": [
      {
       "name": "stdout",
       "output_type": "stream",
       "text": "SRR306838.10559374 Ibis_Run100924_C3PO:6:51:17601:17119/1\nCGCTTGCTTAATACTGACATCAATAATATTAGGAAAATCGCAATATAACTGTAAATCCTGTTCTGTC\n[Seq('RLLNTDINNIRKIAI*L*ILFC', HasStopCodon(ExtendedIUPACProtein(), '*')), Seq('ACLILTSIILGKSQYNCKSCSV', ExtendedIUPACProtein()), Seq('LA*Y*HQ*Y*ENRNITVNPVL', HasStopCodon(ExtendedIUPACProtein(), '*'))]\n[Seq('LSCPKCQYNAKRIIITTVIIRS', ExtendedIUPACProtein()), Seq('CLVLNVNITLKGL**LQS*FVR', HasStopCodon(ExtendedIUPACProtein(), '*')), Seq('VLS*MSI*R*KDYNNYSHNSF', HasStopCodon(ExtendedIUPACProtein(), '*'))]\nSRR306838.6196593 Ibis_Run100924_C3PO:6:29:16733:12435/1\nTCTAGAATGTGAAATAACGTACTTCATGTGTCTTCTTACCAAAAATACCAACGATAAGGGGAAAAGCCATC\n[Seq('SRM*NNVLHVSSYQKYQR*GEKP', HasStopCodon(ExtendedIUPACProtein(), '*')), Seq('LECEITYFMCLLTKNTNDKGKSH', ExtendedIUPACProtein()), Seq('*NVK*RTSCVFLPKIPTIRGKAI', HasStopCodon(ExtendedIUPACProtein(), '*'))]\n[Seq('LPKRGIATIKTILLCTSCNKV*D', HasStopCodon(ExtendedIUPACProtein(), '*')), Seq('YRKGE*QP*KPFFCVLHAIKCKI', HasStopCodon(ExtendedIUPACProtein(), '*')), Seq('TEKGNSNHKNHSSVYFMQ*SVRS', HasStopCodon(ExtendedIUPACProtein(), '*'))]\nSRR306838.20767303 Ibis_Run100924_C3PO:6:104:6864:5062/1\nCAATCATCATCACTTTCTAATTCCAGAATATTTTCATCACCCCAAAAAGAAATCCTAAATCCATTAGC\n[Seq('QSSSLSNSRIFSSPQKEILNPL', ExtendedIUPACProtein()), Seq('NHHHFLIPEYFHHPKKKS*IH*', HasStopCodon(ExtendedIUPACProtein(), '*')), Seq('IIITF*FQNIFITPKRNPKSIS', HasStopCodon(ExtendedIUPACProtein(), '*'))]\n[Seq('RLPKS*RKTPLLL*DLNLSLLL', HasStopCodon(ExtendedIUPACProtein(), '*')), Seq('DYLNPKEKPHYFYKTLIFHYY*', HasStopCodon(ExtendedIUPACProtein(), '*')), Seq('IT*ILKKNPTTFIRP*SFTTTN', HasStopCodon(ExtendedIUPACProtein(), '*'))]\nSRR306838.12582274 Ibis_Run100924_C3PO:6:62:11779:17975/1\nCAAAAGTGAAGACCTCCCTGGGGTCTTCAAAGACAGCCTTTGCTCTCCATGTAGCCAATGGTGCTCT\n[Seq('QK*RPPWGLQRQPLLSM*PMVL', HasStopCodon(ExtendedIUPACProtein(), '*')), Seq('KSEDLPGVFKDSLCSPCSQWCS', ExtendedIUPACProtein()), Seq('KVKTSLGSSKTAFALHVANGA', ExtendedIUPACProtein())]\n[Seq('SRGNRCTSRFRQKLLGSLQK*K', HasStopCodon(ExtendedIUPACProtein(), '*')), Seq('LVVTDVPLVSDRNFWGPSRSEN', ExtendedIUPACProtein()), Seq('SW*PMYLSFPTETSGVPPEVK', HasStopCodon(ExtendedIUPACProtein(), '*'))]\nSRR306838.13334230 Ibis_Run100924_C3PO:6:66:16579:20350/1\nGTAACCCTTAATTCCTCAGAAAAAATAGACAACATAGTGGAGTGGGATGGAGGAAC\n[Seq('VTLNSSEKIDNIVEWDGG', ExtendedIUPACProtein()), Seq('*PLIPQKK*TT*WSGMEE', HasStopCodon(ExtendedIUPACProtein(), '*')), Seq('NP*FLRKNRQHSGVGWRN', HasStopCodon(ExtendedIUPACProtein(), '*'))]\n[Seq('QGGRVR*YNR*KRLLNSQ', HasStopCodon(ExtendedIUPACProtein(), '*')), Seq('KEVG*GDTTDKKDSLIPN', HasStopCodon(ExtendedIUPACProtein(), '*')), Seq('RR*GEVIQQIKKTP*FPM', HasStopCodon(ExtendedIUPACProtein(), '*'))]\n"
      },
      {
       "name": "stderr",
       "output_type": "stream",
       "text": "/home/olga/miniconda3/envs/kmer-hashing/lib/python3.6/site-packages/Bio/Seq.py:2715: BiopythonWarning: Partial codon, len(sequence) not a multiple of three. Explicitly trim the sequence or add trailing N before translation. This may become an error in future.\n  BiopythonWarning)\n"
      }
     ],
     "persistentId": "39699f59-df26-4089-a7b8-519f138c6091",
     "text": "def three_frame_translation(seq):\n    for frame in range(3):\n        translation = seq[frame:].translate()\n        yield translation\n        \ndef three_frame_translation_no_stops(seq):\n    return [t for t in three_frame_translation(seq) if '*' not in t]\n\ndef six_frame_translation(seq):\n    forward_translations = [x for x in three_frame_translation(seq) if '*' not in x]\n\nwith gzip.open('SRR306838_GSM752691_hsa_br_F_1_trimmed_subsampled.fq.gz', 'rt') as f:\n    for i, record in zip(range(5), SeqIO.parse(f, 'fastq')):\n        print(record.description)\n        print(str(record.seq))\n        print(list(three_frame_translation(record.seq)))\n        print(list(three_frame_translation(record.seq[::-1])))"
    },
    "executionTime": "2019-09-18T12:40:56.801Z"
   },
   {
    "cell": {
     "executionCount": 38,
     "executionEventId": "ff20cd2a-6c1d-4ea1-b51b-c9838c4ebe5d",
     "hasError": false,
     "id": "18f4e062-6e6e-49ae-b434-8b8b5129920e",
     "outputs": [
      {
       "data": {
        "text/plain": "Seq('GTTCCTCCATCCCACTCCACTATGTTGTCTATTTTTTCTGAGGAATTAAGGGTTAC', SingleLetterAlphabet())"
       },
       "execution_count": 38,
       "metadata": {},
       "output_type": "execute_result"
      }
     ],
     "persistentId": "e9c939ed-e704-4d0c-96ba-0a78453670b7",
     "text": "record.seq.reverse_complement()"
    },
    "executionTime": "2019-09-18T12:42:51.094Z"
   },
   {
    "cell": {
     "executionCount": 39,
     "executionEventId": "55b6081b-30d5-4da6-8c9a-46b0eb20dbf4",
     "hasError": false,
     "id": "7b834435-4c4d-4a94-befd-712cc920dd65",
     "outputs": [
      {
       "name": "stdout",
       "output_type": "stream",
       "text": "SRR306838.10559374 Ibis_Run100924_C3PO:6:51:17601:17119/1\nCGCTTGCTTAATACTGACATCAATAATATTAGGAAAATCGCAATATAACTGTAAATCCTGTTCTGTC\n[Seq('RLLNTDINNIRKIAI*L*ILFC', HasStopCodon(ExtendedIUPACProtein(), '*')), Seq('ACLILTSIILGKSQYNCKSCSV', ExtendedIUPACProtein()), Seq('LA*Y*HQ*Y*ENRNITVNPVL', HasStopCodon(ExtendedIUPACProtein(), '*'))]\n[Seq('LSCPKCQYNAKRIIITTVIIRS', ExtendedIUPACProtein()), Seq('CLVLNVNITLKGL**LQS*FVR', HasStopCodon(ExtendedIUPACProtein(), '*')), Seq('VLS*MSI*R*KDYNNYSHNSF', HasStopCodon(ExtendedIUPACProtein(), '*'))]\nSRR306838.6196593 Ibis_Run100924_C3PO:6:29:16733:12435/1\nTCTAGAATGTGAAATAACGTACTTCATGTGTCTTCTTACCAAAAATACCAACGATAAGGGGAAAAGCCATC\n[Seq('SRM*NNVLHVSSYQKYQR*GEKP', HasStopCodon(ExtendedIUPACProtein(), '*')), Seq('LECEITYFMCLLTKNTNDKGKSH', ExtendedIUPACProtein()), Seq('*NVK*RTSCVFLPKIPTIRGKAI', HasStopCodon(ExtendedIUPACProtein(), '*'))]\n[Seq('LPKRGIATIKTILLCTSCNKV*D', HasStopCodon(ExtendedIUPACProtein(), '*')), Seq('YRKGE*QP*KPFFCVLHAIKCKI', HasStopCodon(ExtendedIUPACProtein(), '*')), Seq('TEKGNSNHKNHSSVYFMQ*SVRS', HasStopCodon(ExtendedIUPACProtein(), '*'))]\nSRR306838.20767303 Ibis_Run100924_C3PO:6:104:6864:5062/1\nCAATCATCATCACTTTCTAATTCCAGAATATTTTCATCACCCCAAAAAGAAATCCTAAATCCATTAGC\n[Seq('QSSSLSNSRIFSSPQKEILNPL', ExtendedIUPACProtein()), Seq('NHHHFLIPEYFHHPKKKS*IH*', HasStopCodon(ExtendedIUPACProtein(), '*')), Seq('IIITF*FQNIFITPKRNPKSIS', HasStopCodon(ExtendedIUPACProtein(), '*'))]\n[Seq('RLPKS*RKTPLLL*DLNLSLLL', HasStopCodon(ExtendedIUPACProtein(), '*')), Seq('DYLNPKEKPHYFYKTLIFHYY*', HasStopCodon(ExtendedIUPACProtein(), '*')), Seq('IT*ILKKNPTTFIRP*SFTTTN', HasStopCodon(ExtendedIUPACProtein(), '*'))]\nSRR306838.12582274 Ibis_Run100924_C3PO:6:62:11779:17975/1\nCAAAAGTGAAGACCTCCCTGGGGTCTTCAAAGACAGCCTTTGCTCTCCATGTAGCCAATGGTGCTCT\n[Seq('QK*RPPWGLQRQPLLSM*PMVL', HasStopCodon(ExtendedIUPACProtein(), '*')), Seq('KSEDLPGVFKDSLCSPCSQWCS', ExtendedIUPACProtein()), Seq('KVKTSLGSSKTAFALHVANGA', ExtendedIUPACProtein())]\n[Seq('SRGNRCTSRFRQKLLGSLQK*K', HasStopCodon(ExtendedIUPACProtein(), '*')), Seq('LVVTDVPLVSDRNFWGPSRSEN', ExtendedIUPACProtein()), Seq('SW*PMYLSFPTETSGVPPEVK', HasStopCodon(ExtendedIUPACProtein(), '*'))]\nSRR306838.13334230 Ibis_Run100924_C3PO:6:66:16579:20350/1\nGTAACCCTTAATTCCTCAGAAAAAATAGACAACATAGTGGAGTGGGATGGAGGAAC\n[Seq('VTLNSSEKIDNIVEWDGG', ExtendedIUPACProtein()), Seq('*PLIPQKK*TT*WSGMEE', HasStopCodon(ExtendedIUPACProtein(), '*')), Seq('NP*FLRKNRQHSGVGWRN', HasStopCodon(ExtendedIUPACProtein(), '*'))]\n[Seq('QGGRVR*YNR*KRLLNSQ', HasStopCodon(ExtendedIUPACProtein(), '*')), Seq('KEVG*GDTTDKKDSLIPN', HasStopCodon(ExtendedIUPACProtein(), '*')), Seq('RR*GEVIQQIKKTP*FPM', HasStopCodon(ExtendedIUPACProtein(), '*'))]\n"
      },
      {
       "name": "stderr",
       "output_type": "stream",
       "text": "/home/olga/miniconda3/envs/kmer-hashing/lib/python3.6/site-packages/Bio/Seq.py:2715: BiopythonWarning: Partial codon, len(sequence) not a multiple of three. Explicitly trim the sequence or add trailing N before translation. This may become an error in future.\n  BiopythonWarning)\n"
      }
     ],
     "persistentId": "39699f59-df26-4089-a7b8-519f138c6091",
     "text": "def three_frame_translation(seq):\n    for frame in range(3):\n        translation = seq[frame:].translate()\n        yield translation\n        \ndef three_frame_translation_no_stops(seq):\n    return [t for t in three_frame_translation(seq) if '*' not in t]\n\n\nwith gzip.open('SRR306838_GSM752691_hsa_br_F_1_trimmed_subsampled.fq.gz', 'rt') as f:\n    for i, record in zip(range(5), SeqIO.parse(f, 'fastq')):\n        print(record.description)\n        print(str(record.seq))\n        print(list(three_frame_translation(record.seq)))\n        print(list(three_frame_translation(record.seq[::-1])))"
    },
    "executionTime": "2019-09-18T12:43:32.595Z"
   },
   {
    "cell": {
     "executionCount": 40,
     "executionEventId": "03f91203-6f31-4ecb-8cc5-35265f371106",
     "hasError": false,
     "id": "55e10ce9-7ecf-4d47-acc0-263024add8bd",
     "outputs": [
      {
       "name": "stdout",
       "output_type": "stream",
       "text": "SRR306838.10559374 Ibis_Run100924_C3PO:6:51:17601:17119/1\nCGCTTGCTTAATACTGACATCAATAATATTAGGAAAATCGCAATATAACTGTAAATCCTGTTCTGTC\n\tACLILTSIILGKSQYNCKSCSV\n\tTEQDLQLYCDFPNIIDVSIKQA\n\tQNRIYSYIAIFLILLMSVLSK\nSRR306838.6196593 Ibis_Run100924_C3PO:6:29:16733:12435/1\nTCTAGAATGTGAAATAACGTACTTCATGTGTCTTCTTACCAAAAATACCAACGATAAGGGGAAAAGCCATC\n\tLECEITYFMCLLTKNTNDKGKSH\n\tWLFPLSLVFLVRRHMKYVISHSR\nSRR306838.20767303 Ibis_Run100924_C3PO:6:104:6864:5062/1\nCAATCATCATCACTTTCTAATTCCAGAATATTTTCATCACCCCAAAAAGAAATCCTAAATCCATTAGC\n\tQSSSLSNSRIFSSPQKEILNPL\n\tANGFRISFWGDENILELESDDD\nSRR306838.12582274 Ibis_Run100924_C3PO:6:62:11779:17975/1\nCAAAAGTGAAGACCTCCCTGGGGTCTTCAAAGACAGCCTTTGCTCTCCATGTAGCCAATGGTGCTCT\n\tKSEDLPGVFKDSLCSPCSQWCS\n\tKVKTSLGSSKTAFALHVANGA\n\tRAPLATWRAKAVFEDPREVFTF\n\tEHHWLHGEQRLSLKTPGRSSLL\nSRR306838.13334230 Ibis_Run100924_C3PO:6:66:16579:20350/1\nGTAACCCTTAATTCCTCAGAAAAAATAGACAACATAGTGGAGTGGGATGGAGGAAC\n\tVTLNSSEKIDNIVEWDGG\n\tVPPSHSTMLSIFSEELRV\n"
      },
      {
       "name": "stderr",
       "output_type": "stream",
       "text": "/home/olga/miniconda3/envs/kmer-hashing/lib/python3.6/site-packages/Bio/Seq.py:2715: BiopythonWarning: Partial codon, len(sequence) not a multiple of three. Explicitly trim the sequence or add trailing N before translation. This may become an error in future.\n  BiopythonWarning)\n"
      }
     ],
     "persistentId": "954ef7d8-1e5c-43fa-87bf-0098fd2cd414",
     "text": "\ndef six_frame_translation_no_stops(seq):\n    forward_translations = three_frame_translation_no_stops(seq)\n    reverse_translations = three_frame_translation_no_stops(seq.reverse_complement())\n    return forward_translations + reverse_translations\n\nwith gzip.open('SRR306838_GSM752691_hsa_br_F_1_trimmed_subsampled.fq.gz', 'rt') as f:\n    for i, record in zip(range(5), SeqIO.parse(f, 'fastq')):\n        print(record.description)\n        print(str(record.seq))\n        translations = six_frame_translation_no_stops(record.seq)\n        for translation in translations:\n            print(f\"\\t{translation}\")"
    },
    "executionTime": "2019-09-18T12:44:10.882Z"
   },
   {
    "cell": {
     "executionCount": 41,
     "executionEventId": "67afeb45-1fd5-4160-9305-6c183e6cc855",
     "hasError": true,
     "id": "55e10ce9-7ecf-4d47-acc0-263024add8bd",
     "outputs": [
      {
       "name": "stdout",
       "output_type": "stream",
       "text": "SRR306838.10559374 Ibis_Run100924_C3PO:6:51:17601:17119/1\nCGCTTGCTTAATACTGACATCAATAATATTAGGAAAATCGCAATATAACTGTAAATCCTGTTCTGTC\n\tACLILTSIILGKSQYNCKSCSV\n"
      },
      {
       "name": "stderr",
       "output_type": "stream",
       "text": "/home/olga/miniconda3/envs/kmer-hashing/lib/python3.6/site-packages/Bio/Seq.py:2715: BiopythonWarning: Partial codon, len(sequence) not a multiple of three. Explicitly trim the sequence or add trailing N before translation. This may become an error in future.\n  BiopythonWarning)\n"
      },
      {
       "ename": "TypeError",
       "evalue": "kmerize() missing 1 required positional argument: 'ksize'",
       "output_type": "error",
       "traceback": [
        "\u001b[0;31m---------------------------------------------------------------------------\u001b[0m",
        "\u001b[0;31mTypeError\u001b[0m                                 Traceback (most recent call last)",
        "\u001b[0;32m<ipython-input-41-e20a2cf23587>\u001b[0m in \u001b[0;36m<module>\u001b[0;34m()\u001b[0m\n\u001b[1;32m     12\u001b[0m         \u001b[0;32mfor\u001b[0m \u001b[0mtranslation\u001b[0m \u001b[0;32min\u001b[0m \u001b[0mtranslations\u001b[0m\u001b[0;34m:\u001b[0m\u001b[0;34m\u001b[0m\u001b[0;34m\u001b[0m\u001b[0m\n\u001b[1;32m     13\u001b[0m             \u001b[0mprint\u001b[0m\u001b[0;34m(\u001b[0m\u001b[0;34mf\"\\t{translation}\"\u001b[0m\u001b[0;34m)\u001b[0m\u001b[0;34m\u001b[0m\u001b[0;34m\u001b[0m\u001b[0m\n\u001b[0;32m---> 14\u001b[0;31m             \u001b[0mkmers\u001b[0m \u001b[0;34m=\u001b[0m \u001b[0mset\u001b[0m\u001b[0;34m(\u001b[0m\u001b[0mkmerize\u001b[0m\u001b[0;34m(\u001b[0m\u001b[0mtranslation\u001b[0m\u001b[0;34m)\u001b[0m\u001b[0;34m)\u001b[0m\u001b[0;34m\u001b[0m\u001b[0;34m\u001b[0m\u001b[0m\n\u001b[0m\u001b[1;32m     15\u001b[0m             \u001b[0mn_kmers\u001b[0m \u001b[0;34m=\u001b[0m \u001b[0mlen\u001b[0m\u001b[0;34m(\u001b[0m\u001b[0mkmers\u001b[0m\u001b[0;34m)\u001b[0m\u001b[0;34m\u001b[0m\u001b[0;34m\u001b[0m\u001b[0m\n\u001b[1;32m     16\u001b[0m             \u001b[0mn_kmers_in_peptide_db\u001b[0m \u001b[0;34m=\u001b[0m \u001b[0msum\u001b[0m\u001b[0;34m(\u001b[0m\u001b[0;36m1\u001b[0m \u001b[0;32mfor\u001b[0m \u001b[0mkmer\u001b[0m \u001b[0;32min\u001b[0m \u001b[0mkmers\u001b[0m \u001b[0;32mif\u001b[0m \u001b[0mpeptide_graph\u001b[0m\u001b[0;34m.\u001b[0m\u001b[0mget\u001b[0m\u001b[0;34m(\u001b[0m\u001b[0mkmer\u001b[0m\u001b[0;34m)\u001b[0m \u001b[0;34m>\u001b[0m \u001b[0;36m0\u001b[0m\u001b[0;34m)\u001b[0m\u001b[0;34m\u001b[0m\u001b[0;34m\u001b[0m\u001b[0m\n",
        "\u001b[0;31mTypeError\u001b[0m: kmerize() missing 1 required positional argument: 'ksize'"
       ]
      }
     ],
     "persistentId": "954ef7d8-1e5c-43fa-87bf-0098fd2cd414",
     "text": "\ndef six_frame_translation_no_stops(seq):\n    forward_translations = three_frame_translation_no_stops(seq)\n    reverse_translations = three_frame_translation_no_stops(seq.reverse_complement())\n    return forward_translations + reverse_translations\n\nwith gzip.open('SRR306838_GSM752691_hsa_br_F_1_trimmed_subsampled.fq.gz', 'rt') as f:\n    for i, record in zip(range(5), SeqIO.parse(f, 'fastq')):\n        print(record.description)\n        print(str(record.seq))\n        translations = six_frame_translation_no_stops(record.seq)\n        for translation in translations:\n            print(f\"\\t{translation}\")\n            kmers = set(kmerize(translation))\n            n_kmers = len(kmers)\n            n_kmers_in_peptide_db = sum(1 for kmer in kmers if peptide_graph.get(kmer) > 0)\n            print(f'n_kmers_in_peptide_db/n_kmers: {n_kmers_in_peptide_db}/{n_kmers} = {n_kmers_in_peptide_db/n_kmers}')"
    },
    "executionTime": "2019-09-18T12:45:53.033Z"
   },
   {
    "cell": {
     "executionCount": 42,
     "executionEventId": "4db8eb3c-9981-4593-861d-acc7a90f39de",
     "hasError": true,
     "id": "55e10ce9-7ecf-4d47-acc0-263024add8bd",
     "outputs": [
      {
       "name": "stdout",
       "output_type": "stream",
       "text": "SRR306838.10559374 Ibis_Run100924_C3PO:6:51:17601:17119/1\nCGCTTGCTTAATACTGACATCAATAATATTAGGAAAATCGCAATATAACTGTAAATCCTGTTCTGTC\n\tACLILTSIILGKSQYNCKSCSV\n"
      },
      {
       "name": "stderr",
       "output_type": "stream",
       "text": "/home/olga/miniconda3/envs/kmer-hashing/lib/python3.6/site-packages/Bio/Seq.py:2715: BiopythonWarning: Partial codon, len(sequence) not a multiple of three. Explicitly trim the sequence or add trailing N before translation. This may become an error in future.\n  BiopythonWarning)\n/home/olga/miniconda3/envs/kmer-hashing/lib/python3.6/site-packages/Bio/Seq.py:175: BiopythonWarning: Biopython Seq objects now use string comparison. Older versions of Biopython used object comparison. During this transition, please use hash(id(my_seq)) or my_dict[id(my_seq)] if you want the old behaviour, or use hash(str(my_seq)) or my_dict[str(my_seq)] for the new string hashing behaviour.\n  \"the new string hashing behaviour.\", BiopythonWarning)\n"
      },
      {
       "ename": "TypeError",
       "evalue": "Object of type <class 'Bio.Seq.Seq'> can not be interpretted as  a k-mer",
       "output_type": "error",
       "traceback": [
        "\u001b[0;31m---------------------------------------------------------------------------\u001b[0m",
        "\u001b[0;31mTypeError\u001b[0m                                 Traceback (most recent call last)",
        "\u001b[0;32m<ipython-input-42-d2c704473485>\u001b[0m in \u001b[0;36m<module>\u001b[0;34m()\u001b[0m\n\u001b[1;32m     14\u001b[0m             \u001b[0mkmers\u001b[0m \u001b[0;34m=\u001b[0m \u001b[0mset\u001b[0m\u001b[0;34m(\u001b[0m\u001b[0mkmerize\u001b[0m\u001b[0;34m(\u001b[0m\u001b[0mtranslation\u001b[0m\u001b[0;34m,\u001b[0m \u001b[0mpeptide_ksize\u001b[0m\u001b[0;34m)\u001b[0m\u001b[0;34m)\u001b[0m\u001b[0;34m\u001b[0m\u001b[0;34m\u001b[0m\u001b[0m\n\u001b[1;32m     15\u001b[0m             \u001b[0mn_kmers\u001b[0m \u001b[0;34m=\u001b[0m \u001b[0mlen\u001b[0m\u001b[0;34m(\u001b[0m\u001b[0mkmers\u001b[0m\u001b[0;34m)\u001b[0m\u001b[0;34m\u001b[0m\u001b[0;34m\u001b[0m\u001b[0m\n\u001b[0;32m---> 16\u001b[0;31m             \u001b[0mn_kmers_in_peptide_db\u001b[0m \u001b[0;34m=\u001b[0m \u001b[0msum\u001b[0m\u001b[0;34m(\u001b[0m\u001b[0;36m1\u001b[0m \u001b[0;32mfor\u001b[0m \u001b[0mkmer\u001b[0m \u001b[0;32min\u001b[0m \u001b[0mkmers\u001b[0m \u001b[0;32mif\u001b[0m \u001b[0mpeptide_graph\u001b[0m\u001b[0;34m.\u001b[0m\u001b[0mget\u001b[0m\u001b[0;34m(\u001b[0m\u001b[0mkmer\u001b[0m\u001b[0;34m)\u001b[0m \u001b[0;34m>\u001b[0m \u001b[0;36m0\u001b[0m\u001b[0;34m)\u001b[0m\u001b[0;34m\u001b[0m\u001b[0;34m\u001b[0m\u001b[0m\n\u001b[0m\u001b[1;32m     17\u001b[0m             \u001b[0mprint\u001b[0m\u001b[0;34m(\u001b[0m\u001b[0;34mf'n_kmers_in_peptide_db/n_kmers: {n_kmers_in_peptide_db}/{n_kmers} = {n_kmers_in_peptide_db/n_kmers}'\u001b[0m\u001b[0;34m)\u001b[0m\u001b[0;34m\u001b[0m\u001b[0;34m\u001b[0m\u001b[0m\n",
        "\u001b[0;32m<ipython-input-42-d2c704473485>\u001b[0m in \u001b[0;36m<genexpr>\u001b[0;34m(.0)\u001b[0m\n\u001b[1;32m     14\u001b[0m             \u001b[0mkmers\u001b[0m \u001b[0;34m=\u001b[0m \u001b[0mset\u001b[0m\u001b[0;34m(\u001b[0m\u001b[0mkmerize\u001b[0m\u001b[0;34m(\u001b[0m\u001b[0mtranslation\u001b[0m\u001b[0;34m,\u001b[0m \u001b[0mpeptide_ksize\u001b[0m\u001b[0;34m)\u001b[0m\u001b[0;34m)\u001b[0m\u001b[0;34m\u001b[0m\u001b[0;34m\u001b[0m\u001b[0m\n\u001b[1;32m     15\u001b[0m             \u001b[0mn_kmers\u001b[0m \u001b[0;34m=\u001b[0m \u001b[0mlen\u001b[0m\u001b[0;34m(\u001b[0m\u001b[0mkmers\u001b[0m\u001b[0;34m)\u001b[0m\u001b[0;34m\u001b[0m\u001b[0;34m\u001b[0m\u001b[0m\n\u001b[0;32m---> 16\u001b[0;31m             \u001b[0mn_kmers_in_peptide_db\u001b[0m \u001b[0;34m=\u001b[0m \u001b[0msum\u001b[0m\u001b[0;34m(\u001b[0m\u001b[0;36m1\u001b[0m \u001b[0;32mfor\u001b[0m \u001b[0mkmer\u001b[0m \u001b[0;32min\u001b[0m \u001b[0mkmers\u001b[0m \u001b[0;32mif\u001b[0m \u001b[0mpeptide_graph\u001b[0m\u001b[0;34m.\u001b[0m\u001b[0mget\u001b[0m\u001b[0;34m(\u001b[0m\u001b[0mkmer\u001b[0m\u001b[0;34m)\u001b[0m \u001b[0;34m>\u001b[0m \u001b[0;36m0\u001b[0m\u001b[0;34m)\u001b[0m\u001b[0;34m\u001b[0m\u001b[0;34m\u001b[0m\u001b[0m\n\u001b[0m\u001b[1;32m     17\u001b[0m             \u001b[0mprint\u001b[0m\u001b[0;34m(\u001b[0m\u001b[0;34mf'n_kmers_in_peptide_db/n_kmers: {n_kmers_in_peptide_db}/{n_kmers} = {n_kmers_in_peptide_db/n_kmers}'\u001b[0m\u001b[0;34m)\u001b[0m\u001b[0;34m\u001b[0m\u001b[0;34m\u001b[0m\u001b[0m\n",
        "\u001b[0;32mkhmer/_oxli/graphs.pyx\u001b[0m in \u001b[0;36mkhmer._oxli.graphs.Hashtable.get\u001b[0;34m()\u001b[0m\n",
        "\u001b[0;32mkhmer/_oxli/graphs.pyx\u001b[0m in \u001b[0;36mkhmer._oxli.graphs.Hashtable._kmer_type_error\u001b[0;34m()\u001b[0m\n",
        "\u001b[0;31mTypeError\u001b[0m: Object of type <class 'Bio.Seq.Seq'> can not be interpretted as  a k-mer"
       ]
      }
     ],
     "persistentId": "954ef7d8-1e5c-43fa-87bf-0098fd2cd414",
     "text": "\ndef six_frame_translation_no_stops(seq):\n    forward_translations = three_frame_translation_no_stops(seq)\n    reverse_translations = three_frame_translation_no_stops(seq.reverse_complement())\n    return forward_translations + reverse_translations\n\nwith gzip.open('SRR306838_GSM752691_hsa_br_F_1_trimmed_subsampled.fq.gz', 'rt') as f:\n    for i, record in zip(range(5), SeqIO.parse(f, 'fastq')):\n        print(record.description)\n        print(str(record.seq))\n        translations = six_frame_translation_no_stops(record.seq)\n        for translation in translations:\n            print(f\"\\t{translation}\")\n            kmers = set(kmerize(translation, peptide_ksize))\n            n_kmers = len(kmers)\n            n_kmers_in_peptide_db = sum(1 for kmer in kmers if peptide_graph.get(kmer) > 0)\n            print(f'n_kmers_in_peptide_db/n_kmers: {n_kmers_in_peptide_db}/{n_kmers} = {n_kmers_in_peptide_db/n_kmers}')"
    },
    "executionTime": "2019-09-18T12:46:07.064Z"
   },
   {
    "cell": {
     "executionCount": 43,
     "executionEventId": "54d7cacf-2650-4d95-b654-fcaa5c2482cd",
     "hasError": false,
     "id": "55e10ce9-7ecf-4d47-acc0-263024add8bd",
     "outputs": [
      {
       "name": "stdout",
       "output_type": "stream",
       "text": "SRR306838.10559374 Ibis_Run100924_C3PO:6:51:17601:17119/1\nCGCTTGCTTAATACTGACATCAATAATATTAGGAAAATCGCAATATAACTGTAAATCCTGTTCTGTC\n\tACLILTSIILGKSQYNCKSCSV\nn_kmers_in_peptide_db/n_kmers: 18/18 = 1.0\n\tTEQDLQLYCDFPNIIDVSIKQA\nn_kmers_in_peptide_db/n_kmers: 18/18 = 1.0\n\tQNRIYSYIAIFLILLMSVLSK\nn_kmers_in_peptide_db/n_kmers: 17/17 = 1.0\nSRR306838.6196593 Ibis_Run100924_C3PO:6:29:16733:12435/1\nTCTAGAATGTGAAATAACGTACTTCATGTGTCTTCTTACCAAAAATACCAACGATAAGGGGAAAAGCCATC\n\tLECEITYFMCLLTKNTNDKGKSH\nn_kmers_in_peptide_db/n_kmers: 19/19 = 1.0\n\tWLFPLSLVFLVRRHMKYVISHSR\nn_kmers_in_peptide_db/n_kmers: 19/19 = 1.0\nSRR306838.20767303 Ibis_Run100924_C3PO:6:104:6864:5062/1\nCAATCATCATCACTTTCTAATTCCAGAATATTTTCATCACCCCAAAAAGAAATCCTAAATCCATTAGC\n\tQSSSLSNSRIFSSPQKEILNPL\nn_kmers_in_peptide_db/n_kmers: 18/18 = 1.0\n\tANGFRISFWGDENILELESDDD\nn_kmers_in_peptide_db/n_kmers: 18/18 = 1.0\nSRR306838.12582274 Ibis_Run100924_C3PO:6:62:11779:17975/1\nCAAAAGTGAAGACCTCCCTGGGGTCTTCAAAGACAGCCTTTGCTCTCCATGTAGCCAATGGTGCTCT\n\tKSEDLPGVFKDSLCSPCSQWCS\nn_kmers_in_peptide_db/n_kmers: 18/18 = 1.0\n\tKVKTSLGSSKTAFALHVANGA\nn_kmers_in_peptide_db/n_kmers: 17/17 = 1.0\n\tRAPLATWRAKAVFEDPREVFTF\nn_kmers_in_peptide_db/n_kmers: 18/18 = 1.0\n\tEHHWLHGEQRLSLKTPGRSSLL\nn_kmers_in_peptide_db/n_kmers: 18/18 = 1.0\nSRR306838.13334230 Ibis_Run100924_C3PO:6:66:16579:20350/1\nGTAACCCTTAATTCCTCAGAAAAAATAGACAACATAGTGGAGTGGGATGGAGGAAC\n\tVTLNSSEKIDNIVEWDGG\nn_kmers_in_peptide_db/n_kmers: 14/14 = 1.0\n\tVPPSHSTMLSIFSEELRV\nn_kmers_in_peptide_db/n_kmers: 14/14 = 1.0\n"
      },
      {
       "name": "stderr",
       "output_type": "stream",
       "text": "/home/olga/miniconda3/envs/kmer-hashing/lib/python3.6/site-packages/Bio/Seq.py:2715: BiopythonWarning: Partial codon, len(sequence) not a multiple of three. Explicitly trim the sequence or add trailing N before translation. This may become an error in future.\n  BiopythonWarning)\n"
      }
     ],
     "persistentId": "954ef7d8-1e5c-43fa-87bf-0098fd2cd414",
     "text": "\ndef six_frame_translation_no_stops(seq):\n    forward_translations = three_frame_translation_no_stops(seq)\n    reverse_translations = three_frame_translation_no_stops(seq.reverse_complement())\n    return forward_translations + reverse_translations\n\nwith gzip.open('SRR306838_GSM752691_hsa_br_F_1_trimmed_subsampled.fq.gz', 'rt') as f:\n    for i, record in zip(range(5), SeqIO.parse(f, 'fastq')):\n        print(record.description)\n        print(str(record.seq))\n        translations = six_frame_translation_no_stops(record.seq)\n        for translation in translations:\n            print(f\"\\t{translation}\")\n            kmers = set(kmerize(str(translation), peptide_ksize))\n            n_kmers = len(kmers)\n            n_kmers_in_peptide_db = sum(1 for kmer in kmers if peptide_graph.get(kmer) > 0)\n            print(f'n_kmers_in_peptide_db/n_kmers: {n_kmers_in_peptide_db}/{n_kmers} = {n_kmers_in_peptide_db/n_kmers}')"
    },
    "executionTime": "2019-09-18T12:46:19.610Z"
   },
   {
    "cell": {
     "executionCount": 44,
     "executionEventId": "fdeff7ed-53fe-4dd1-bf72-f38fd720c721",
     "hasError": false,
     "id": "801c1f09-890e-42e8-912e-f88cab37c532",
     "outputs": [],
     "persistentId": "24efed0e-0671-4d31-9ac1-c341e9d67f66",
     "text": "tablesize = 1e9\n\nDEFAULT_K = 32\nDEFAULT_N_TABLES = 4\nDEFAULT_MAX_TABLESIZE = 1e6\nDEFAULT_N_THREADS = 1\n\npeptide_ksize = 6\n\n# tablesize = calculate_graphsize(args, 'nodegraph', multiplier)\npeptide_graph = Nodegraph(peptide_ksize, tablesize, n_tables=4)\n\n"
    },
    "executionTime": "2019-09-18T12:47:26.679Z"
   },
   {
    "cell": {
     "executionCount": 45,
     "executionEventId": "bbb0009c-a97c-4962-a275-6eac028be456",
     "hasError": true,
     "id": "2cc99a36-174a-401f-8267-383344f9595e",
     "outputs": [
      {
       "ename": "TypeError",
       "evalue": "update() takes exactly one argument (0 given)",
       "output_type": "error",
       "traceback": [
        "\u001b[0;31m---------------------------------------------------------------------------\u001b[0m",
        "\u001b[0;31mTypeError\u001b[0m                                 Traceback (most recent call last)",
        "\u001b[0;32m<ipython-input-45-80b4a6e35d0e>\u001b[0m in \u001b[0;36m<module>\u001b[0;34m()\u001b[0m\n\u001b[0;32m----> 1\u001b[0;31m \u001b[0mpeptide_graph\u001b[0m\u001b[0;34m.\u001b[0m\u001b[0mupdate\u001b[0m\u001b[0;34m(\u001b[0m\u001b[0;34m)\u001b[0m\u001b[0;34m\u001b[0m\u001b[0;34m\u001b[0m\u001b[0m\n\u001b[0m",
        "\u001b[0;31mTypeError\u001b[0m: update() takes exactly one argument (0 given)"
       ]
      }
     ],
     "persistentId": "bb661e14-d9ba-4ca6-bf7f-d5334c6979ba",
     "text": "peptide_graph.update()"
    },
    "executionTime": "2019-09-18T12:47:26.853Z"
   },
   {
    "cell": {
     "executionCount": 46,
     "executionEventId": "40157127-65fb-45d2-81fe-cbcd5dd332f3",
     "hasError": false,
     "id": "801c1f09-890e-42e8-912e-f88cab37c532",
     "outputs": [],
     "persistentId": "24efed0e-0671-4d31-9ac1-c341e9d67f66",
     "text": "tablesize = 1e9\n\nDEFAULT_K = 32\nDEFAULT_N_TABLES = 4\nDEFAULT_MAX_TABLESIZE = 1e6\nDEFAULT_N_THREADS = 1\n\npeptide_ksize = 6\n\n# tablesize = calculate_graphsize(args, 'nodegraph', multiplier)\npeptide_graph = Nodegraph(peptide_ksize, tablesize, n_tables=4)\n\n"
    },
    "executionTime": "2019-09-18T12:47:37.440Z"
   },
   {
    "cell": {
     "executionCount": 47,
     "executionEventId": "40189a93-8746-47fb-8fd5-5c09f2beaaa4",
     "hasError": false,
     "id": "cc5866e5-4668-46b0-b34f-0350f6b32ad1",
     "outputs": [
      {
       "name": "stdout",
       "output_type": "stream",
       "text": "CPU times: user 29.2 s, sys: 64 ms, total: 29.3 s\nWall time: 29.3 s\n"
      }
     ],
     "persistentId": "6d8b5522-6fc7-4ef7-8cfe-1b737f86dfe2",
     "text": "%%time\n\nDEFAULT_SEED = 42\n\nfor record in screed.open(\"Homo_sapiens.GRCh38.pep.all.fa.gz\"):\n#     print(record)\n    if '*' in record['sequence']:\n#         notify(\"Stop codon found in seq, skipping\")\n        continue\n    kmers = kmerize(record['sequence'], peptide_ksize)\n    for kmer in kmers:\n        peptide_graph.add(kmer)        "
    },
    "executionTime": "2019-09-18T12:48:06.732Z"
   },
   {
    "cell": {
     "executionCount": 48,
     "executionEventId": "fe5408fd-3809-4bda-89cd-39983849b8a3",
     "hasError": false,
     "id": "7b834435-4c4d-4a94-befd-712cc920dd65",
     "outputs": [
      {
       "name": "stdout",
       "output_type": "stream",
       "text": "SRR306838.10559374 Ibis_Run100924_C3PO:6:51:17601:17119/1\nCGCTTGCTTAATACTGACATCAATAATATTAGGAAAATCGCAATATAACTGTAAATCCTGTTCTGTC\n[Seq('RLLNTDINNIRKIAI*L*ILFC', HasStopCodon(ExtendedIUPACProtein(), '*')), Seq('ACLILTSIILGKSQYNCKSCSV', ExtendedIUPACProtein()), Seq('LA*Y*HQ*Y*ENRNITVNPVL', HasStopCodon(ExtendedIUPACProtein(), '*'))]\n[Seq('LSCPKCQYNAKRIIITTVIIRS', ExtendedIUPACProtein()), Seq('CLVLNVNITLKGL**LQS*FVR', HasStopCodon(ExtendedIUPACProtein(), '*')), Seq('VLS*MSI*R*KDYNNYSHNSF', HasStopCodon(ExtendedIUPACProtein(), '*'))]\nSRR306838.6196593 Ibis_Run100924_C3PO:6:29:16733:12435/1\nTCTAGAATGTGAAATAACGTACTTCATGTGTCTTCTTACCAAAAATACCAACGATAAGGGGAAAAGCCATC\n[Seq('SRM*NNVLHVSSYQKYQR*GEKP', HasStopCodon(ExtendedIUPACProtein(), '*')), Seq('LECEITYFMCLLTKNTNDKGKSH', ExtendedIUPACProtein()), Seq('*NVK*RTSCVFLPKIPTIRGKAI', HasStopCodon(ExtendedIUPACProtein(), '*'))]\n[Seq('LPKRGIATIKTILLCTSCNKV*D', HasStopCodon(ExtendedIUPACProtein(), '*')), Seq('YRKGE*QP*KPFFCVLHAIKCKI', HasStopCodon(ExtendedIUPACProtein(), '*')), Seq('TEKGNSNHKNHSSVYFMQ*SVRS', HasStopCodon(ExtendedIUPACProtein(), '*'))]\nSRR306838.20767303 Ibis_Run100924_C3PO:6:104:6864:5062/1\nCAATCATCATCACTTTCTAATTCCAGAATATTTTCATCACCCCAAAAAGAAATCCTAAATCCATTAGC\n[Seq('QSSSLSNSRIFSSPQKEILNPL', ExtendedIUPACProtein()), Seq('NHHHFLIPEYFHHPKKKS*IH*', HasStopCodon(ExtendedIUPACProtein(), '*')), Seq('IIITF*FQNIFITPKRNPKSIS', HasStopCodon(ExtendedIUPACProtein(), '*'))]\n[Seq('RLPKS*RKTPLLL*DLNLSLLL', HasStopCodon(ExtendedIUPACProtein(), '*')), Seq('DYLNPKEKPHYFYKTLIFHYY*', HasStopCodon(ExtendedIUPACProtein(), '*')), Seq('IT*ILKKNPTTFIRP*SFTTTN', HasStopCodon(ExtendedIUPACProtein(), '*'))]\nSRR306838.12582274 Ibis_Run100924_C3PO:6:62:11779:17975/1\nCAAAAGTGAAGACCTCCCTGGGGTCTTCAAAGACAGCCTTTGCTCTCCATGTAGCCAATGGTGCTCT\n[Seq('QK*RPPWGLQRQPLLSM*PMVL', HasStopCodon(ExtendedIUPACProtein(), '*')), Seq('KSEDLPGVFKDSLCSPCSQWCS', ExtendedIUPACProtein()), Seq('KVKTSLGSSKTAFALHVANGA', ExtendedIUPACProtein())]\n[Seq('SRGNRCTSRFRQKLLGSLQK*K', HasStopCodon(ExtendedIUPACProtein(), '*')), Seq('LVVTDVPLVSDRNFWGPSRSEN', ExtendedIUPACProtein()), Seq('SW*PMYLSFPTETSGVPPEVK', HasStopCodon(ExtendedIUPACProtein(), '*'))]\nSRR306838.13334230 Ibis_Run100924_C3PO:6:66:16579:20350/1\nGTAACCCTTAATTCCTCAGAAAAAATAGACAACATAGTGGAGTGGGATGGAGGAAC\n[Seq('VTLNSSEKIDNIVEWDGG', ExtendedIUPACProtein()), Seq('*PLIPQKK*TT*WSGMEE', HasStopCodon(ExtendedIUPACProtein(), '*')), Seq('NP*FLRKNRQHSGVGWRN', HasStopCodon(ExtendedIUPACProtein(), '*'))]\n[Seq('QGGRVR*YNR*KRLLNSQ', HasStopCodon(ExtendedIUPACProtein(), '*')), Seq('KEVG*GDTTDKKDSLIPN', HasStopCodon(ExtendedIUPACProtein(), '*')), Seq('RR*GEVIQQIKKTP*FPM', HasStopCodon(ExtendedIUPACProtein(), '*'))]\n"
      },
      {
       "name": "stderr",
       "output_type": "stream",
       "text": "/home/olga/miniconda3/envs/kmer-hashing/lib/python3.6/site-packages/Bio/Seq.py:2715: BiopythonWarning: Partial codon, len(sequence) not a multiple of three. Explicitly trim the sequence or add trailing N before translation. This may become an error in future.\n  BiopythonWarning)\n"
      }
     ],
     "persistentId": "39699f59-df26-4089-a7b8-519f138c6091",
     "text": "def three_frame_translation(seq):\n    for frame in range(3):\n        translation = seq[frame:].translate()\n        yield translation\n        \ndef three_frame_translation_no_stops(seq):\n    return [t for t in three_frame_translation(seq) if '*' not in t]\n\n\nwith gzip.open('SRR306838_GSM752691_hsa_br_F_1_trimmed_subsampled.fq.gz', 'rt') as f:\n    for i, record in zip(range(5), SeqIO.parse(f, 'fastq')):\n        print(record.description)\n        print(str(record.seq))\n        print(list(three_frame_translation(record.seq)))\n        print(list(three_frame_translation(record.seq[::-1])))"
    },
    "executionTime": "2019-09-18T12:48:06.756Z"
   },
   {
    "cell": {
     "executionCount": 49,
     "executionEventId": "b0f132d2-d339-4de4-b0bf-b90037b9e744",
     "hasError": false,
     "id": "55e10ce9-7ecf-4d47-acc0-263024add8bd",
     "outputs": [
      {
       "name": "stdout",
       "output_type": "stream",
       "text": "SRR306838.10559374 Ibis_Run100924_C3PO:6:51:17601:17119/1\nCGCTTGCTTAATACTGACATCAATAATATTAGGAAAATCGCAATATAACTGTAAATCCTGTTCTGTC\n\tACLILTSIILGKSQYNCKSCSV\nn_kmers_in_peptide_db/n_kmers: 17/17 = 1.0\n\tTEQDLQLYCDFPNIIDVSIKQA\nn_kmers_in_peptide_db/n_kmers: 17/17 = 1.0\n\tQNRIYSYIAIFLILLMSVLSK\nn_kmers_in_peptide_db/n_kmers: 16/16 = 1.0\nSRR306838.6196593 Ibis_Run100924_C3PO:6:29:16733:12435/1\nTCTAGAATGTGAAATAACGTACTTCATGTGTCTTCTTACCAAAAATACCAACGATAAGGGGAAAAGCCATC\n\tLECEITYFMCLLTKNTNDKGKSH\nn_kmers_in_peptide_db/n_kmers: 18/18 = 1.0\n\tWLFPLSLVFLVRRHMKYVISHSR\nn_kmers_in_peptide_db/n_kmers: 18/18 = 1.0\nSRR306838.20767303 Ibis_Run100924_C3PO:6:104:6864:5062/1\nCAATCATCATCACTTTCTAATTCCAGAATATTTTCATCACCCCAAAAAGAAATCCTAAATCCATTAGC\n\tQSSSLSNSRIFSSPQKEILNPL\nn_kmers_in_peptide_db/n_kmers: 17/17 = 1.0\n\tANGFRISFWGDENILELESDDD\nn_kmers_in_peptide_db/n_kmers: 17/17 = 1.0\nSRR306838.12582274 Ibis_Run100924_C3PO:6:62:11779:17975/1\nCAAAAGTGAAGACCTCCCTGGGGTCTTCAAAGACAGCCTTTGCTCTCCATGTAGCCAATGGTGCTCT\n\tKSEDLPGVFKDSLCSPCSQWCS\nn_kmers_in_peptide_db/n_kmers: 17/17 = 1.0\n\tKVKTSLGSSKTAFALHVANGA\nn_kmers_in_peptide_db/n_kmers: 16/16 = 1.0\n\tRAPLATWRAKAVFEDPREVFTF\nn_kmers_in_peptide_db/n_kmers: 17/17 = 1.0\n\tEHHWLHGEQRLSLKTPGRSSLL\nn_kmers_in_peptide_db/n_kmers: 17/17 = 1.0\nSRR306838.13334230 Ibis_Run100924_C3PO:6:66:16579:20350/1\nGTAACCCTTAATTCCTCAGAAAAAATAGACAACATAGTGGAGTGGGATGGAGGAAC\n\tVTLNSSEKIDNIVEWDGG\nn_kmers_in_peptide_db/n_kmers: 13/13 = 1.0\n\tVPPSHSTMLSIFSEELRV\nn_kmers_in_peptide_db/n_kmers: 13/13 = 1.0\n"
      },
      {
       "name": "stderr",
       "output_type": "stream",
       "text": "/home/olga/miniconda3/envs/kmer-hashing/lib/python3.6/site-packages/Bio/Seq.py:2715: BiopythonWarning: Partial codon, len(sequence) not a multiple of three. Explicitly trim the sequence or add trailing N before translation. This may become an error in future.\n  BiopythonWarning)\n"
      }
     ],
     "persistentId": "954ef7d8-1e5c-43fa-87bf-0098fd2cd414",
     "text": "\ndef six_frame_translation_no_stops(seq):\n    forward_translations = three_frame_translation_no_stops(seq)\n    reverse_translations = three_frame_translation_no_stops(seq.reverse_complement())\n    return forward_translations + reverse_translations\n\nwith gzip.open('SRR306838_GSM752691_hsa_br_F_1_trimmed_subsampled.fq.gz', 'rt') as f:\n    for i, record in zip(range(5), SeqIO.parse(f, 'fastq')):\n        print(record.description)\n        print(str(record.seq))\n        translations = six_frame_translation_no_stops(record.seq)\n        for translation in translations:\n            print(f\"\\t{translation}\")\n            kmers = set(kmerize(str(translation), peptide_ksize))\n            n_kmers = len(kmers)\n            n_kmers_in_peptide_db = sum(1 for kmer in kmers if peptide_graph.get(kmer) > 0)\n            print(f'n_kmers_in_peptide_db/n_kmers: {n_kmers_in_peptide_db}/{n_kmers} = {n_kmers_in_peptide_db/n_kmers}')"
    },
    "executionTime": "2019-09-18T12:48:06.916Z"
   },
   {
    "cell": {
     "executionCount": 50,
     "executionEventId": "c0490e74-5e06-4ec4-8959-e4d8f999945f",
     "hasError": false,
     "id": "18f4e062-6e6e-49ae-b434-8b8b5129920e",
     "outputs": [
      {
       "data": {
        "text/plain": "Seq('GTTCCTCCATCCCACTCCACTATGTTGTCTATTTTTTCTGAGGAATTAAGGGTTAC', SingleLetterAlphabet())"
       },
       "execution_count": 50,
       "metadata": {},
       "output_type": "execute_result"
      }
     ],
     "persistentId": "e9c939ed-e704-4d0c-96ba-0a78453670b7",
     "text": "record.seq.reverse_complement()"
    },
    "executionTime": "2019-09-18T12:48:06.929Z"
   },
   {
    "cell": {
     "executionCount": 51,
     "executionEventId": "3c5b4b00-7f17-4a86-9573-1a3088c9fd7b",
     "hasError": false,
     "id": "a9074996-4348-44e9-b695-837c22f6b924",
     "outputs": [
      {
       "data": {
        "text/plain": "3200000"
       },
       "execution_count": 51,
       "metadata": {},
       "output_type": "execute_result"
      }
     ],
     "persistentId": "4bb3fc57-530c-4ffc-b367-1a4f27d55606",
     "text": "20**5"
    },
    "executionTime": "2019-09-18T12:48:53.260Z"
   },
   {
    "cell": {
     "executionCount": 52,
     "executionEventId": "478bfe10-9c18-4c0b-b734-426ff6392ade",
     "hasError": false,
     "id": "a9074996-4348-44e9-b695-837c22f6b924",
     "outputs": [
      {
       "data": {
        "text/plain": "64000000"
       },
       "execution_count": 52,
       "metadata": {},
       "output_type": "execute_result"
      }
     ],
     "persistentId": "4bb3fc57-530c-4ffc-b367-1a4f27d55606",
     "text": "20**6"
    },
    "executionTime": "2019-09-18T12:48:58.792Z"
   },
   {
    "cell": {
     "executionCount": 53,
     "executionEventId": "bbe627cd-c335-4276-a689-17d625af1bb0",
     "hasError": false,
     "id": "801c1f09-890e-42e8-912e-f88cab37c532",
     "outputs": [],
     "persistentId": "24efed0e-0671-4d31-9ac1-c341e9d67f66",
     "text": "tablesize = 1e10\n\nDEFAULT_K = 32\nDEFAULT_N_TABLES = 4\nDEFAULT_MAX_TABLESIZE = 1e6\nDEFAULT_N_THREADS = 1\n\npeptide_ksize = 6\n\n# tablesize = calculate_graphsize(args, 'nodegraph', multiplier)\npeptide_graph = Nodegraph(peptide_ksize, tablesize, n_tables=4)\n\n"
    },
    "executionTime": "2019-09-18T12:49:44.474Z"
   },
   {
    "cell": {
     "executionCount": 54,
     "executionEventId": "bb79e1f7-1b37-4460-af39-f1724e308dd5",
     "hasError": false,
     "id": "a9074996-4348-44e9-b695-837c22f6b924",
     "outputs": [
      {
       "data": {
        "text/plain": "64000000"
       },
       "execution_count": 54,
       "metadata": {},
       "output_type": "execute_result"
      }
     ],
     "persistentId": "4bb3fc57-530c-4ffc-b367-1a4f27d55606",
     "text": "20**6"
    },
    "executionTime": "2019-09-18T12:49:44.501Z"
   },
   {
    "cell": {
     "executionCount": 55,
     "executionEventId": "deba873b-7321-4d3e-9603-5cb0fd76a6d7",
     "hasError": false,
     "id": "cc5866e5-4668-46b0-b34f-0350f6b32ad1",
     "outputs": [
      {
       "name": "stdout",
       "output_type": "stream",
       "text": "CPU times: user 29.1 s, sys: 444 ms, total: 29.6 s\nWall time: 29.6 s\n"
      }
     ],
     "persistentId": "6d8b5522-6fc7-4ef7-8cfe-1b737f86dfe2",
     "text": "%%time\n\nDEFAULT_SEED = 42\n\nfor record in screed.open(\"Homo_sapiens.GRCh38.pep.all.fa.gz\"):\n#     print(record)\n    if '*' in record['sequence']:\n#         notify(\"Stop codon found in seq, skipping\")\n        continue\n    kmers = kmerize(record['sequence'], peptide_ksize)\n    for kmer in kmers:\n        peptide_graph.add(kmer)        "
    },
    "executionTime": "2019-09-18T12:50:14.165Z"
   },
   {
    "cell": {
     "executionCount": 56,
     "executionEventId": "8de71515-07f0-4719-8dfb-7397b5e1244c",
     "hasError": false,
     "id": "7b834435-4c4d-4a94-befd-712cc920dd65",
     "outputs": [
      {
       "name": "stdout",
       "output_type": "stream",
       "text": "SRR306838.10559374 Ibis_Run100924_C3PO:6:51:17601:17119/1\nCGCTTGCTTAATACTGACATCAATAATATTAGGAAAATCGCAATATAACTGTAAATCCTGTTCTGTC\n[Seq('RLLNTDINNIRKIAI*L*ILFC', HasStopCodon(ExtendedIUPACProtein(), '*')), Seq('ACLILTSIILGKSQYNCKSCSV', ExtendedIUPACProtein()), Seq('LA*Y*HQ*Y*ENRNITVNPVL', HasStopCodon(ExtendedIUPACProtein(), '*'))]\n[Seq('LSCPKCQYNAKRIIITTVIIRS', ExtendedIUPACProtein()), Seq('CLVLNVNITLKGL**LQS*FVR', HasStopCodon(ExtendedIUPACProtein(), '*')), Seq('VLS*MSI*R*KDYNNYSHNSF', HasStopCodon(ExtendedIUPACProtein(), '*'))]\nSRR306838.6196593 Ibis_Run100924_C3PO:6:29:16733:12435/1\nTCTAGAATGTGAAATAACGTACTTCATGTGTCTTCTTACCAAAAATACCAACGATAAGGGGAAAAGCCATC\n[Seq('SRM*NNVLHVSSYQKYQR*GEKP', HasStopCodon(ExtendedIUPACProtein(), '*')), Seq('LECEITYFMCLLTKNTNDKGKSH', ExtendedIUPACProtein()), Seq('*NVK*RTSCVFLPKIPTIRGKAI', HasStopCodon(ExtendedIUPACProtein(), '*'))]\n[Seq('LPKRGIATIKTILLCTSCNKV*D', HasStopCodon(ExtendedIUPACProtein(), '*')), Seq('YRKGE*QP*KPFFCVLHAIKCKI', HasStopCodon(ExtendedIUPACProtein(), '*')), Seq('TEKGNSNHKNHSSVYFMQ*SVRS', HasStopCodon(ExtendedIUPACProtein(), '*'))]\nSRR306838.20767303 Ibis_Run100924_C3PO:6:104:6864:5062/1\nCAATCATCATCACTTTCTAATTCCAGAATATTTTCATCACCCCAAAAAGAAATCCTAAATCCATTAGC\n[Seq('QSSSLSNSRIFSSPQKEILNPL', ExtendedIUPACProtein()), Seq('NHHHFLIPEYFHHPKKKS*IH*', HasStopCodon(ExtendedIUPACProtein(), '*')), Seq('IIITF*FQNIFITPKRNPKSIS', HasStopCodon(ExtendedIUPACProtein(), '*'))]\n[Seq('RLPKS*RKTPLLL*DLNLSLLL', HasStopCodon(ExtendedIUPACProtein(), '*')), Seq('DYLNPKEKPHYFYKTLIFHYY*', HasStopCodon(ExtendedIUPACProtein(), '*')), Seq('IT*ILKKNPTTFIRP*SFTTTN', HasStopCodon(ExtendedIUPACProtein(), '*'))]\nSRR306838.12582274 Ibis_Run100924_C3PO:6:62:11779:17975/1\nCAAAAGTGAAGACCTCCCTGGGGTCTTCAAAGACAGCCTTTGCTCTCCATGTAGCCAATGGTGCTCT\n[Seq('QK*RPPWGLQRQPLLSM*PMVL', HasStopCodon(ExtendedIUPACProtein(), '*')), Seq('KSEDLPGVFKDSLCSPCSQWCS', ExtendedIUPACProtein()), Seq('KVKTSLGSSKTAFALHVANGA', ExtendedIUPACProtein())]\n[Seq('SRGNRCTSRFRQKLLGSLQK*K', HasStopCodon(ExtendedIUPACProtein(), '*')), Seq('LVVTDVPLVSDRNFWGPSRSEN', ExtendedIUPACProtein()), Seq('SW*PMYLSFPTETSGVPPEVK', HasStopCodon(ExtendedIUPACProtein(), '*'))]\nSRR306838.13334230 Ibis_Run100924_C3PO:6:66:16579:20350/1\nGTAACCCTTAATTCCTCAGAAAAAATAGACAACATAGTGGAGTGGGATGGAGGAAC\n[Seq('VTLNSSEKIDNIVEWDGG', ExtendedIUPACProtein()), Seq('*PLIPQKK*TT*WSGMEE', HasStopCodon(ExtendedIUPACProtein(), '*')), Seq('NP*FLRKNRQHSGVGWRN', HasStopCodon(ExtendedIUPACProtein(), '*'))]\n[Seq('QGGRVR*YNR*KRLLNSQ', HasStopCodon(ExtendedIUPACProtein(), '*')), Seq('KEVG*GDTTDKKDSLIPN', HasStopCodon(ExtendedIUPACProtein(), '*')), Seq('RR*GEVIQQIKKTP*FPM', HasStopCodon(ExtendedIUPACProtein(), '*'))]\n"
      },
      {
       "name": "stderr",
       "output_type": "stream",
       "text": "/home/olga/miniconda3/envs/kmer-hashing/lib/python3.6/site-packages/Bio/Seq.py:2715: BiopythonWarning: Partial codon, len(sequence) not a multiple of three. Explicitly trim the sequence or add trailing N before translation. This may become an error in future.\n  BiopythonWarning)\n"
      }
     ],
     "persistentId": "39699f59-df26-4089-a7b8-519f138c6091",
     "text": "def three_frame_translation(seq):\n    for frame in range(3):\n        translation = seq[frame:].translate()\n        yield translation\n        \ndef three_frame_translation_no_stops(seq):\n    return [t for t in three_frame_translation(seq) if '*' not in t]\n\n\nwith gzip.open('SRR306838_GSM752691_hsa_br_F_1_trimmed_subsampled.fq.gz', 'rt') as f:\n    for i, record in zip(range(5), SeqIO.parse(f, 'fastq')):\n        print(record.description)\n        print(str(record.seq))\n        print(list(three_frame_translation(record.seq)))\n        print(list(three_frame_translation(record.seq[::-1])))"
    },
    "executionTime": "2019-09-18T12:50:14.173Z"
   },
   {
    "cell": {
     "executionCount": 57,
     "executionEventId": "00b6dbef-63e7-44e8-8308-fdb91062a2ee",
     "hasError": false,
     "id": "55e10ce9-7ecf-4d47-acc0-263024add8bd",
     "outputs": [
      {
       "name": "stdout",
       "output_type": "stream",
       "text": "SRR306838.10559374 Ibis_Run100924_C3PO:6:51:17601:17119/1\nCGCTTGCTTAATACTGACATCAATAATATTAGGAAAATCGCAATATAACTGTAAATCCTGTTCTGTC\n\tACLILTSIILGKSQYNCKSCSV\nn_kmers_in_peptide_db/n_kmers: 17/17 = 1.0\n\tTEQDLQLYCDFPNIIDVSIKQA\nn_kmers_in_peptide_db/n_kmers: 17/17 = 1.0\n\tQNRIYSYIAIFLILLMSVLSK\nn_kmers_in_peptide_db/n_kmers: 16/16 = 1.0\nSRR306838.6196593 Ibis_Run100924_C3PO:6:29:16733:12435/1\nTCTAGAATGTGAAATAACGTACTTCATGTGTCTTCTTACCAAAAATACCAACGATAAGGGGAAAAGCCATC\n\tLECEITYFMCLLTKNTNDKGKSH\nn_kmers_in_peptide_db/n_kmers: 18/18 = 1.0\n\tWLFPLSLVFLVRRHMKYVISHSR\nn_kmers_in_peptide_db/n_kmers: 18/18 = 1.0\nSRR306838.20767303 Ibis_Run100924_C3PO:6:104:6864:5062/1\nCAATCATCATCACTTTCTAATTCCAGAATATTTTCATCACCCCAAAAAGAAATCCTAAATCCATTAGC\n\tQSSSLSNSRIFSSPQKEILNPL\nn_kmers_in_peptide_db/n_kmers: 17/17 = 1.0\n\tANGFRISFWGDENILELESDDD\nn_kmers_in_peptide_db/n_kmers: 17/17 = 1.0\nSRR306838.12582274 Ibis_Run100924_C3PO:6:62:11779:17975/1\nCAAAAGTGAAGACCTCCCTGGGGTCTTCAAAGACAGCCTTTGCTCTCCATGTAGCCAATGGTGCTCT\n\tKSEDLPGVFKDSLCSPCSQWCS\nn_kmers_in_peptide_db/n_kmers: 17/17 = 1.0\n\tKVKTSLGSSKTAFALHVANGA\nn_kmers_in_peptide_db/n_kmers: 16/16 = 1.0\n\tRAPLATWRAKAVFEDPREVFTF\nn_kmers_in_peptide_db/n_kmers: 17/17 = 1.0\n\tEHHWLHGEQRLSLKTPGRSSLL\nn_kmers_in_peptide_db/n_kmers: 17/17 = 1.0\nSRR306838.13334230 Ibis_Run100924_C3PO:6:66:16579:20350/1\nGTAACCCTTAATTCCTCAGAAAAAATAGACAACATAGTGGAGTGGGATGGAGGAAC\n\tVTLNSSEKIDNIVEWDGG\nn_kmers_in_peptide_db/n_kmers: 13/13 = 1.0\n\tVPPSHSTMLSIFSEELRV\nn_kmers_in_peptide_db/n_kmers: 13/13 = 1.0\n"
      },
      {
       "name": "stderr",
       "output_type": "stream",
       "text": "/home/olga/miniconda3/envs/kmer-hashing/lib/python3.6/site-packages/Bio/Seq.py:2715: BiopythonWarning: Partial codon, len(sequence) not a multiple of three. Explicitly trim the sequence or add trailing N before translation. This may become an error in future.\n  BiopythonWarning)\n"
      }
     ],
     "persistentId": "954ef7d8-1e5c-43fa-87bf-0098fd2cd414",
     "text": "\ndef six_frame_translation_no_stops(seq):\n    forward_translations = three_frame_translation_no_stops(seq)\n    reverse_translations = three_frame_translation_no_stops(seq.reverse_complement())\n    return forward_translations + reverse_translations\n\nwith gzip.open('SRR306838_GSM752691_hsa_br_F_1_trimmed_subsampled.fq.gz', 'rt') as f:\n    for i, record in zip(range(5), SeqIO.parse(f, 'fastq')):\n        print(record.description)\n        print(str(record.seq))\n        translations = six_frame_translation_no_stops(record.seq)\n        for translation in translations:\n            print(f\"\\t{translation}\")\n            kmers = set(kmerize(str(translation), peptide_ksize))\n            n_kmers = len(kmers)\n            n_kmers_in_peptide_db = sum(1 for kmer in kmers if peptide_graph.get(kmer) > 0)\n            print(f'n_kmers_in_peptide_db/n_kmers: {n_kmers_in_peptide_db}/{n_kmers} = {n_kmers_in_peptide_db/n_kmers}')"
    },
    "executionTime": "2019-09-18T12:50:14.333Z"
   },
   {
    "cell": {
     "executionCount": 58,
     "executionEventId": "d307c1fc-7556-4380-93e8-368d0a30843c",
     "hasError": false,
     "id": "18f4e062-6e6e-49ae-b434-8b8b5129920e",
     "outputs": [
      {
       "data": {
        "text/plain": "Seq('GTTCCTCCATCCCACTCCACTATGTTGTCTATTTTTTCTGAGGAATTAAGGGTTAC', SingleLetterAlphabet())"
       },
       "execution_count": 58,
       "metadata": {},
       "output_type": "execute_result"
      }
     ],
     "persistentId": "e9c939ed-e704-4d0c-96ba-0a78453670b7",
     "text": "record.seq.reverse_complement()"
    },
    "executionTime": "2019-09-18T12:50:14.361Z"
   },
   {
    "cell": {
     "executionCount": 59,
     "executionEventId": "29d351a1-5162-41bb-92fc-89840917e166",
     "hasError": false,
     "id": "3bac9fff-f51a-4e6e-8285-eb21e9bc2d0d",
     "outputs": [
      {
       "data": {
        "text/plain": "1"
       },
       "execution_count": 59,
       "metadata": {},
       "output_type": "execute_result"
      }
     ],
     "persistentId": "e6a36b17-ebb6-4fd2-90cc-e2a09e2215ca",
     "text": "peptide_graph.get(\"ACLILT\")"
    },
    "executionTime": "2019-09-18T12:55:37.056Z"
   },
   {
    "cell": {
     "executionCount": 60,
     "executionEventId": "c6659d17-131e-4a4f-9a24-49946c6f1d8f",
     "hasError": false,
     "id": "801c1f09-890e-42e8-912e-f88cab37c532",
     "outputs": [],
     "persistentId": "24efed0e-0671-4d31-9ac1-c341e9d67f66",
     "text": "tablesize = 1e10\n\nDEFAULT_K = 32\nDEFAULT_N_TABLES = 4\nDEFAULT_MAX_TABLESIZE = 1e6\nDEFAULT_N_THREADS = 1\n\npeptide_ksize = 7\n\n# tablesize = calculate_graphsize(args, 'nodegraph', multiplier)\npeptide_graph = Nodegraph(peptide_ksize, tablesize, n_tables=4)\n\n"
    },
    "executionTime": "2019-09-18T12:57:32.130Z"
   },
   {
    "cell": {
     "executionCount": 61,
     "executionEventId": "4fed0662-0262-425a-9aef-64bbca14c201",
     "hasError": false,
     "id": "a9074996-4348-44e9-b695-837c22f6b924",
     "outputs": [
      {
       "data": {
        "text/plain": "64000000"
       },
       "execution_count": 61,
       "metadata": {},
       "output_type": "execute_result"
      }
     ],
     "persistentId": "4bb3fc57-530c-4ffc-b367-1a4f27d55606",
     "text": "20**6"
    },
    "executionTime": "2019-09-18T12:57:32.159Z"
   },
   {
    "cell": {
     "executionCount": 62,
     "executionEventId": "0fc2d279-24a0-46b7-a6e0-daa83d643267",
     "hasError": false,
     "id": "cc5866e5-4668-46b0-b34f-0350f6b32ad1",
     "outputs": [
      {
       "name": "stdout",
       "output_type": "stream",
       "text": "CPU times: user 29.5 s, sys: 248 ms, total: 29.8 s\nWall time: 29.8 s\n"
      }
     ],
     "persistentId": "6d8b5522-6fc7-4ef7-8cfe-1b737f86dfe2",
     "text": "%%time\n\nDEFAULT_SEED = 42\n\nfor record in screed.open(\"Homo_sapiens.GRCh38.pep.all.fa.gz\"):\n#     print(record)\n    if '*' in record['sequence']:\n#         notify(\"Stop codon found in seq, skipping\")\n        continue\n    kmers = kmerize(record['sequence'], peptide_ksize)\n    for kmer in kmers:\n        peptide_graph.add(kmer)        "
    },
    "executionTime": "2019-09-18T12:58:01.952Z"
   },
   {
    "cell": {
     "executionCount": 63,
     "executionEventId": "75ff5ebd-35f2-4cf6-be47-b40f66c5f1b6",
     "hasError": false,
     "id": "7b834435-4c4d-4a94-befd-712cc920dd65",
     "outputs": [
      {
       "name": "stdout",
       "output_type": "stream",
       "text": "SRR306838.10559374 Ibis_Run100924_C3PO:6:51:17601:17119/1\nCGCTTGCTTAATACTGACATCAATAATATTAGGAAAATCGCAATATAACTGTAAATCCTGTTCTGTC\n[Seq('RLLNTDINNIRKIAI*L*ILFC', HasStopCodon(ExtendedIUPACProtein(), '*')), Seq('ACLILTSIILGKSQYNCKSCSV', ExtendedIUPACProtein()), Seq('LA*Y*HQ*Y*ENRNITVNPVL', HasStopCodon(ExtendedIUPACProtein(), '*'))]\n[Seq('LSCPKCQYNAKRIIITTVIIRS', ExtendedIUPACProtein()), Seq('CLVLNVNITLKGL**LQS*FVR', HasStopCodon(ExtendedIUPACProtein(), '*')), Seq('VLS*MSI*R*KDYNNYSHNSF', HasStopCodon(ExtendedIUPACProtein(), '*'))]\nSRR306838.6196593 Ibis_Run100924_C3PO:6:29:16733:12435/1\nTCTAGAATGTGAAATAACGTACTTCATGTGTCTTCTTACCAAAAATACCAACGATAAGGGGAAAAGCCATC\n[Seq('SRM*NNVLHVSSYQKYQR*GEKP', HasStopCodon(ExtendedIUPACProtein(), '*')), Seq('LECEITYFMCLLTKNTNDKGKSH', ExtendedIUPACProtein()), Seq('*NVK*RTSCVFLPKIPTIRGKAI', HasStopCodon(ExtendedIUPACProtein(), '*'))]\n[Seq('LPKRGIATIKTILLCTSCNKV*D', HasStopCodon(ExtendedIUPACProtein(), '*')), Seq('YRKGE*QP*KPFFCVLHAIKCKI', HasStopCodon(ExtendedIUPACProtein(), '*')), Seq('TEKGNSNHKNHSSVYFMQ*SVRS', HasStopCodon(ExtendedIUPACProtein(), '*'))]\nSRR306838.20767303 Ibis_Run100924_C3PO:6:104:6864:5062/1\nCAATCATCATCACTTTCTAATTCCAGAATATTTTCATCACCCCAAAAAGAAATCCTAAATCCATTAGC\n[Seq('QSSSLSNSRIFSSPQKEILNPL', ExtendedIUPACProtein()), Seq('NHHHFLIPEYFHHPKKKS*IH*', HasStopCodon(ExtendedIUPACProtein(), '*')), Seq('IIITF*FQNIFITPKRNPKSIS', HasStopCodon(ExtendedIUPACProtein(), '*'))]\n[Seq('RLPKS*RKTPLLL*DLNLSLLL', HasStopCodon(ExtendedIUPACProtein(), '*')), Seq('DYLNPKEKPHYFYKTLIFHYY*', HasStopCodon(ExtendedIUPACProtein(), '*')), Seq('IT*ILKKNPTTFIRP*SFTTTN', HasStopCodon(ExtendedIUPACProtein(), '*'))]\nSRR306838.12582274 Ibis_Run100924_C3PO:6:62:11779:17975/1\nCAAAAGTGAAGACCTCCCTGGGGTCTTCAAAGACAGCCTTTGCTCTCCATGTAGCCAATGGTGCTCT\n[Seq('QK*RPPWGLQRQPLLSM*PMVL', HasStopCodon(ExtendedIUPACProtein(), '*')), Seq('KSEDLPGVFKDSLCSPCSQWCS', ExtendedIUPACProtein()), Seq('KVKTSLGSSKTAFALHVANGA', ExtendedIUPACProtein())]\n[Seq('SRGNRCTSRFRQKLLGSLQK*K', HasStopCodon(ExtendedIUPACProtein(), '*')), Seq('LVVTDVPLVSDRNFWGPSRSEN', ExtendedIUPACProtein()), Seq('SW*PMYLSFPTETSGVPPEVK', HasStopCodon(ExtendedIUPACProtein(), '*'))]\nSRR306838.13334230 Ibis_Run100924_C3PO:6:66:16579:20350/1\nGTAACCCTTAATTCCTCAGAAAAAATAGACAACATAGTGGAGTGGGATGGAGGAAC\n[Seq('VTLNSSEKIDNIVEWDGG', ExtendedIUPACProtein()), Seq('*PLIPQKK*TT*WSGMEE', HasStopCodon(ExtendedIUPACProtein(), '*')), Seq('NP*FLRKNRQHSGVGWRN', HasStopCodon(ExtendedIUPACProtein(), '*'))]\n[Seq('QGGRVR*YNR*KRLLNSQ', HasStopCodon(ExtendedIUPACProtein(), '*')), Seq('KEVG*GDTTDKKDSLIPN', HasStopCodon(ExtendedIUPACProtein(), '*')), Seq('RR*GEVIQQIKKTP*FPM', HasStopCodon(ExtendedIUPACProtein(), '*'))]\n"
      },
      {
       "name": "stderr",
       "output_type": "stream",
       "text": "/home/olga/miniconda3/envs/kmer-hashing/lib/python3.6/site-packages/Bio/Seq.py:2715: BiopythonWarning: Partial codon, len(sequence) not a multiple of three. Explicitly trim the sequence or add trailing N before translation. This may become an error in future.\n  BiopythonWarning)\n"
      }
     ],
     "persistentId": "39699f59-df26-4089-a7b8-519f138c6091",
     "text": "def three_frame_translation(seq):\n    for frame in range(3):\n        translation = seq[frame:].translate()\n        yield translation\n        \ndef three_frame_translation_no_stops(seq):\n    return [t for t in three_frame_translation(seq) if '*' not in t]\n\n\nwith gzip.open('SRR306838_GSM752691_hsa_br_F_1_trimmed_subsampled.fq.gz', 'rt') as f:\n    for i, record in zip(range(5), SeqIO.parse(f, 'fastq')):\n        print(record.description)\n        print(str(record.seq))\n        print(list(three_frame_translation(record.seq)))\n        print(list(three_frame_translation(record.seq[::-1])))"
    },
    "executionTime": "2019-09-18T12:58:01.974Z"
   },
   {
    "cell": {
     "executionCount": 64,
     "executionEventId": "c98c2cad-2bdf-45d0-98a1-5d4146976033",
     "hasError": false,
     "id": "55e10ce9-7ecf-4d47-acc0-263024add8bd",
     "outputs": [
      {
       "name": "stdout",
       "output_type": "stream",
       "text": "SRR306838.10559374 Ibis_Run100924_C3PO:6:51:17601:17119/1\nCGCTTGCTTAATACTGACATCAATAATATTAGGAAAATCGCAATATAACTGTAAATCCTGTTCTGTC\n\tACLILTSIILGKSQYNCKSCSV\nn_kmers_in_peptide_db/n_kmers: 16/16 = 1.0\n\tTEQDLQLYCDFPNIIDVSIKQA\nn_kmers_in_peptide_db/n_kmers: 16/16 = 1.0\n\tQNRIYSYIAIFLILLMSVLSK\nn_kmers_in_peptide_db/n_kmers: 15/15 = 1.0\nSRR306838.6196593 Ibis_Run100924_C3PO:6:29:16733:12435/1\nTCTAGAATGTGAAATAACGTACTTCATGTGTCTTCTTACCAAAAATACCAACGATAAGGGGAAAAGCCATC\n\tLECEITYFMCLLTKNTNDKGKSH\nn_kmers_in_peptide_db/n_kmers: 17/17 = 1.0\n\tWLFPLSLVFLVRRHMKYVISHSR\nn_kmers_in_peptide_db/n_kmers: 17/17 = 1.0\nSRR306838.20767303 Ibis_Run100924_C3PO:6:104:6864:5062/1\nCAATCATCATCACTTTCTAATTCCAGAATATTTTCATCACCCCAAAAAGAAATCCTAAATCCATTAGC\n\tQSSSLSNSRIFSSPQKEILNPL\nn_kmers_in_peptide_db/n_kmers: 16/16 = 1.0\n\tANGFRISFWGDENILELESDDD\nn_kmers_in_peptide_db/n_kmers: 16/16 = 1.0\nSRR306838.12582274 Ibis_Run100924_C3PO:6:62:11779:17975/1\nCAAAAGTGAAGACCTCCCTGGGGTCTTCAAAGACAGCCTTTGCTCTCCATGTAGCCAATGGTGCTCT\n\tKSEDLPGVFKDSLCSPCSQWCS\nn_kmers_in_peptide_db/n_kmers: 16/16 = 1.0\n\tKVKTSLGSSKTAFALHVANGA\nn_kmers_in_peptide_db/n_kmers: 15/15 = 1.0\n\tRAPLATWRAKAVFEDPREVFTF\nn_kmers_in_peptide_db/n_kmers: 16/16 = 1.0\n\tEHHWLHGEQRLSLKTPGRSSLL\nn_kmers_in_peptide_db/n_kmers: 16/16 = 1.0\nSRR306838.13334230 Ibis_Run100924_C3PO:6:66:16579:20350/1\nGTAACCCTTAATTCCTCAGAAAAAATAGACAACATAGTGGAGTGGGATGGAGGAAC\n\tVTLNSSEKIDNIVEWDGG\nn_kmers_in_peptide_db/n_kmers: 12/12 = 1.0\n\tVPPSHSTMLSIFSEELRV\nn_kmers_in_peptide_db/n_kmers: 12/12 = 1.0\n"
      },
      {
       "name": "stderr",
       "output_type": "stream",
       "text": "/home/olga/miniconda3/envs/kmer-hashing/lib/python3.6/site-packages/Bio/Seq.py:2715: BiopythonWarning: Partial codon, len(sequence) not a multiple of three. Explicitly trim the sequence or add trailing N before translation. This may become an error in future.\n  BiopythonWarning)\n"
      }
     ],
     "persistentId": "954ef7d8-1e5c-43fa-87bf-0098fd2cd414",
     "text": "\ndef six_frame_translation_no_stops(seq):\n    forward_translations = three_frame_translation_no_stops(seq)\n    reverse_translations = three_frame_translation_no_stops(seq.reverse_complement())\n    return forward_translations + reverse_translations\n\nwith gzip.open('SRR306838_GSM752691_hsa_br_F_1_trimmed_subsampled.fq.gz', 'rt') as f:\n    for i, record in zip(range(5), SeqIO.parse(f, 'fastq')):\n        print(record.description)\n        print(str(record.seq))\n        translations = six_frame_translation_no_stops(record.seq)\n        for translation in translations:\n            print(f\"\\t{translation}\")\n            kmers = set(kmerize(str(translation), peptide_ksize))\n            n_kmers = len(kmers)\n            n_kmers_in_peptide_db = sum(1 for kmer in kmers if peptide_graph.get(kmer) > 0)\n            print(f'n_kmers_in_peptide_db/n_kmers: {n_kmers_in_peptide_db}/{n_kmers} = {n_kmers_in_peptide_db/n_kmers}')"
    },
    "executionTime": "2019-09-18T12:58:02.162Z"
   },
   {
    "cell": {
     "executionCount": 65,
     "executionEventId": "bfb98e6d-02ed-475e-b09a-7ee0cc8ddccd",
     "hasError": true,
     "id": "3bac9fff-f51a-4e6e-8285-eb21e9bc2d0d",
     "outputs": [
      {
       "ename": "ValueError",
       "evalue": "Expected k-mer length 7 but got 6.",
       "output_type": "error",
       "traceback": [
        "\u001b[0;31m---------------------------------------------------------------------------\u001b[0m",
        "\u001b[0;31mValueError\u001b[0m                                Traceback (most recent call last)",
        "\u001b[0;32m<ipython-input-65-2d7cc1c59ae8>\u001b[0m in \u001b[0;36m<module>\u001b[0;34m()\u001b[0m\n\u001b[0;32m----> 1\u001b[0;31m \u001b[0mpeptide_graph\u001b[0m\u001b[0;34m.\u001b[0m\u001b[0mget\u001b[0m\u001b[0;34m(\u001b[0m\u001b[0;34m\"ACLILT\"\u001b[0m\u001b[0;34m)\u001b[0m\u001b[0;34m\u001b[0m\u001b[0;34m\u001b[0m\u001b[0m\n\u001b[0m",
        "\u001b[0;32mkhmer/_oxli/graphs.pyx\u001b[0m in \u001b[0;36mkhmer._oxli.graphs.Hashtable.get\u001b[0;34m()\u001b[0m\n",
        "\u001b[0;32mkhmer/_oxli/graphs.pyx\u001b[0m in \u001b[0;36mkhmer._oxli.graphs.Hashtable.sanitize_seq_kmer\u001b[0;34m()\u001b[0m\n",
        "\u001b[0;31mValueError\u001b[0m: Expected k-mer length 7 but got 6."
       ]
      }
     ],
     "persistentId": "e6a36b17-ebb6-4fd2-90cc-e2a09e2215ca",
     "text": "peptide_graph.get(\"ACLILT\")"
    },
    "executionTime": "2019-09-18T12:58:02.177Z"
   },
   {
    "cell": {
     "executionCount": 66,
     "executionEventId": "977ac8c0-9573-4e82-9963-5043a79b1de4",
     "hasError": false,
     "id": "f43cbf8f-7924-4667-8e25-072d79ea7581",
     "outputs": [
      {
       "data": {
        "text/plain": "{'FSEELRV',\n 'HSTMLSI',\n 'IFSEELR',\n 'LSIFSEE',\n 'MLSIFSE',\n 'PPSHSTM',\n 'PSHSTML',\n 'SHSTMLS',\n 'SIFSEEL',\n 'STMLSIF',\n 'TMLSIFS',\n 'VPPSHST'}"
       },
       "execution_count": 66,
       "metadata": {},
       "output_type": "execute_result"
      }
     ],
     "persistentId": "74df75ff-6eec-4174-b8a5-b521a78c903e",
     "text": "kmers"
    },
    "executionTime": "2019-09-18T12:59:52.086Z"
   },
   {
    "cell": {
     "executionCount": 67,
     "executionEventId": "249ab1ec-5f7d-459e-8abb-39c9594a2e1e",
     "hasError": true,
     "id": "55e10ce9-7ecf-4d47-acc0-263024add8bd",
     "outputs": [
      {
       "ename": "SyntaxError",
       "evalue": "invalid syntax (<ipython-input-67-d2c6a17e1828>, line 17)",
       "output_type": "error",
       "traceback": [
        "\u001b[0;36m  File \u001b[0;32m\"<ipython-input-67-d2c6a17e1828>\"\u001b[0;36m, line \u001b[0;32m17\u001b[0m\n\u001b[0;31m    kmers_in_peptide_db = {kmer:  peptide_graph.get(kmer for kmer in kmers}\u001b[0m\n\u001b[0m                                                                          ^\u001b[0m\n\u001b[0;31mSyntaxError\u001b[0m\u001b[0;31m:\u001b[0m invalid syntax\n"
       ]
      }
     ],
     "persistentId": "954ef7d8-1e5c-43fa-87bf-0098fd2cd414",
     "text": "\ndef six_frame_translation_no_stops(seq):\n    forward_translations = three_frame_translation_no_stops(seq)\n    reverse_translations = three_frame_translation_no_stops(seq.reverse_complement())\n    return forward_translations + reverse_translations\n\nwith gzip.open('SRR306838_GSM752691_hsa_br_F_1_trimmed_subsampled.fq.gz', 'rt') as f:\n    for i, record in zip(range(5), SeqIO.parse(f, 'fastq')):\n        print(record.description)\n        print(str(record.seq))\n        translations = six_frame_translation_no_stops(record.seq)\n        for translation in translations:\n            print(f\"\\t{translation}\")\n            kmers = set(kmerize(str(translation), peptide_ksize))\n            n_kmers = len(kmers)\n            n_kmers_in_peptide_db = sum(1 for kmer in kmers if peptide_graph.get(kmer) > 0)\n            kmers_in_peptide_db = {kmer:  peptide_graph.get(kmer for kmer in kmers}\n            print(f'n_kmers_in_peptide_db/n_kmers: {n_kmers_in_peptide_db}/{n_kmers} = {n_kmers_in_peptide_db/n_kmers}')"
    },
    "executionTime": "2019-09-18T13:00:36.932Z"
   },
   {
    "cell": {
     "executionCount": 68,
     "executionEventId": "703b6ce3-5597-4372-ad7e-c0e0c1e229f1",
     "hasError": true,
     "id": "f43cbf8f-7924-4667-8e25-072d79ea7581",
     "outputs": [
      {
       "ename": "NameError",
       "evalue": "name 'kmers_in_peptide_db' is not defined",
       "output_type": "error",
       "traceback": [
        "\u001b[0;31m---------------------------------------------------------------------------\u001b[0m",
        "\u001b[0;31mNameError\u001b[0m                                 Traceback (most recent call last)",
        "\u001b[0;32m<ipython-input-68-4c26fe46da49>\u001b[0m in \u001b[0;36m<module>\u001b[0;34m()\u001b[0m\n\u001b[0;32m----> 1\u001b[0;31m \u001b[0mkmers_in_peptide_db\u001b[0m\u001b[0;34m\u001b[0m\u001b[0;34m\u001b[0m\u001b[0m\n\u001b[0m",
        "\u001b[0;31mNameError\u001b[0m: name 'kmers_in_peptide_db' is not defined"
       ]
      }
     ],
     "persistentId": "74df75ff-6eec-4174-b8a5-b521a78c903e",
     "text": "kmers_in_peptide_db"
    },
    "executionTime": "2019-09-18T13:00:38.439Z"
   },
   {
    "cell": {
     "executionCount": 69,
     "executionEventId": "3224eeb7-8f2c-4400-90c9-e553d21abdb9",
     "hasError": false,
     "id": "55e10ce9-7ecf-4d47-acc0-263024add8bd",
     "outputs": [
      {
       "name": "stdout",
       "output_type": "stream",
       "text": "SRR306838.10559374 Ibis_Run100924_C3PO:6:51:17601:17119/1\nCGCTTGCTTAATACTGACATCAATAATATTAGGAAAATCGCAATATAACTGTAAATCCTGTTCTGTC\n\tACLILTSIILGKSQYNCKSCSV\nn_kmers_in_peptide_db/n_kmers: 16/16 = 1.0\n\tTEQDLQLYCDFPNIIDVSIKQA\nn_kmers_in_peptide_db/n_kmers: 16/16 = 1.0\n\tQNRIYSYIAIFLILLMSVLSK\nn_kmers_in_peptide_db/n_kmers: 15/15 = 1.0\nSRR306838.6196593 Ibis_Run100924_C3PO:6:29:16733:12435/1\nTCTAGAATGTGAAATAACGTACTTCATGTGTCTTCTTACCAAAAATACCAACGATAAGGGGAAAAGCCATC\n\tLECEITYFMCLLTKNTNDKGKSH\nn_kmers_in_peptide_db/n_kmers: 17/17 = 1.0\n\tWLFPLSLVFLVRRHMKYVISHSR\nn_kmers_in_peptide_db/n_kmers: 17/17 = 1.0\nSRR306838.20767303 Ibis_Run100924_C3PO:6:104:6864:5062/1\nCAATCATCATCACTTTCTAATTCCAGAATATTTTCATCACCCCAAAAAGAAATCCTAAATCCATTAGC\n\tQSSSLSNSRIFSSPQKEILNPL\nn_kmers_in_peptide_db/n_kmers: 16/16 = 1.0\n\tANGFRISFWGDENILELESDDD\nn_kmers_in_peptide_db/n_kmers: 16/16 = 1.0\nSRR306838.12582274 Ibis_Run100924_C3PO:6:62:11779:17975/1\nCAAAAGTGAAGACCTCCCTGGGGTCTTCAAAGACAGCCTTTGCTCTCCATGTAGCCAATGGTGCTCT\n\tKSEDLPGVFKDSLCSPCSQWCS\nn_kmers_in_peptide_db/n_kmers: 16/16 = 1.0\n\tKVKTSLGSSKTAFALHVANGA\nn_kmers_in_peptide_db/n_kmers: 15/15 = 1.0\n\tRAPLATWRAKAVFEDPREVFTF\nn_kmers_in_peptide_db/n_kmers: 16/16 = 1.0\n\tEHHWLHGEQRLSLKTPGRSSLL\nn_kmers_in_peptide_db/n_kmers: 16/16 = 1.0\nSRR306838.13334230 Ibis_Run100924_C3PO:6:66:16579:20350/1\nGTAACCCTTAATTCCTCAGAAAAAATAGACAACATAGTGGAGTGGGATGGAGGAAC\n\tVTLNSSEKIDNIVEWDGG\nn_kmers_in_peptide_db/n_kmers: 12/12 = 1.0\n\tVPPSHSTMLSIFSEELRV\nn_kmers_in_peptide_db/n_kmers: 12/12 = 1.0\n"
      },
      {
       "name": "stderr",
       "output_type": "stream",
       "text": "/home/olga/miniconda3/envs/kmer-hashing/lib/python3.6/site-packages/Bio/Seq.py:2715: BiopythonWarning: Partial codon, len(sequence) not a multiple of three. Explicitly trim the sequence or add trailing N before translation. This may become an error in future.\n  BiopythonWarning)\n"
      }
     ],
     "persistentId": "954ef7d8-1e5c-43fa-87bf-0098fd2cd414",
     "text": "\ndef six_frame_translation_no_stops(seq):\n    forward_translations = three_frame_translation_no_stops(seq)\n    reverse_translations = three_frame_translation_no_stops(seq.reverse_complement())\n    return forward_translations + reverse_translations\n\nwith gzip.open('SRR306838_GSM752691_hsa_br_F_1_trimmed_subsampled.fq.gz', 'rt') as f:\n    for i, record in zip(range(5), SeqIO.parse(f, 'fastq')):\n        print(record.description)\n        print(str(record.seq))\n        translations = six_frame_translation_no_stops(record.seq)\n        for translation in translations:\n            print(f\"\\t{translation}\")\n            kmers = set(kmerize(str(translation), peptide_ksize))\n            n_kmers = len(kmers)\n            n_kmers_in_peptide_db = sum(1 for kmer in kmers if peptide_graph.get(kmer) > 0)\n            kmers_in_peptide_db = {kmer:  peptide_graph.get(kmer) for kmer in kmers}\n            print(f'n_kmers_in_peptide_db/n_kmers: {n_kmers_in_peptide_db}/{n_kmers} = {n_kmers_in_peptide_db/n_kmers}')"
    },
    "executionTime": "2019-09-18T13:00:43.219Z"
   },
   {
    "cell": {
     "executionCount": 70,
     "executionEventId": "22e444c6-6547-4469-b5c2-dec41645e923",
     "hasError": false,
     "id": "f43cbf8f-7924-4667-8e25-072d79ea7581",
     "outputs": [
      {
       "data": {
        "text/plain": "{'IFSEELR': 1,\n 'SHSTMLS': 1,\n 'STMLSIF': 1,\n 'LSIFSEE': 1,\n 'HSTMLSI': 1,\n 'VPPSHST': 1,\n 'SIFSEEL': 1,\n 'PPSHSTM': 1,\n 'PSHSTML': 1,\n 'TMLSIFS': 1,\n 'FSEELRV': 1,\n 'MLSIFSE': 1}"
       },
       "execution_count": 70,
       "metadata": {},
       "output_type": "execute_result"
      }
     ],
     "persistentId": "74df75ff-6eec-4174-b8a5-b521a78c903e",
     "text": "kmers_in_peptide_db"
    },
    "executionTime": "2019-09-18T13:00:45.953Z"
   }
  ],
  "kernelspec": {
   "display_name": "Python [conda env:kmer-hashing]",
   "language": "python",
   "name": "conda-env-kmer-hashing-py"
  },
  "language_info": {
   "codemirror_mode": {
    "name": "ipython",
    "version": 3
   },
   "file_extension": ".py",
   "mimetype": "text/x-python",
   "name": "python",
   "nbconvert_exporter": "python",
   "pygments_lexer": "ipython3",
   "version": "3.6.8"
  },
  "uuid": "3c172471-d6e6-4fca-9aa0-93401d86e620"
 },
 "nbformat": 4,
 "nbformat_minor": 4
}
