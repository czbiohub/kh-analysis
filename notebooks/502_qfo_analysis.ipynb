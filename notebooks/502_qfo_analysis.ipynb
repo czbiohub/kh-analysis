{
 "cells": [
  {
   "cell_type": "code",
   "execution_count": 1,
   "metadata": {},
   "outputs": [
    {
     "name": "stdout",
     "output_type": "stream",
     "text": [
      "pd.__version__: 0.25.3\n",
      "vaex.__file__: /home/olga/miniconda3/envs/khtools--encodings-compare-cli--py37/lib/python3.7/site-packages/vaex/__init__.py\n",
      "vaex.__version__: 1.0.0-beta.6\n"
     ]
    }
   ],
   "source": [
    "%load_ext autoreload\n",
    "%autoreload 2\n",
    "\n",
    "from collections import defaultdict\n",
    "import glob\n",
    "import time\n",
    "\n",
    "import pandas as pd\n",
    "from pyarrow.lib import ArrowIOError\n",
    "from tqdm import tqdm\n",
    "import vaex\n",
    "\n",
    "print(f\"pd.__version__: {pd.__version__}\")\n",
    "print(f\"vaex.__file__: {vaex.__file__}\")\n",
    "print(f\"vaex.__version__: {vaex.__version__}\")"
   ]
  },
  {
   "cell_type": "code",
   "execution_count": 2,
   "metadata": {},
   "outputs": [],
   "source": [
    "import sys"
   ]
  },
  {
   "cell_type": "code",
   "execution_count": 3,
   "metadata": {},
   "outputs": [
    {
     "data": {
      "text/plain": [
       "['/home/olga/code/kh-analysis--olgabot/qfo-kmers/notebooks',\n",
       " '/home/olga/miniconda3/envs/khtools--encodings-compare-cli--py37/lib/python37.zip',\n",
       " '/home/olga/miniconda3/envs/khtools--encodings-compare-cli--py37/lib/python3.7',\n",
       " '/home/olga/miniconda3/envs/khtools--encodings-compare-cli--py37/lib/python3.7/lib-dynload',\n",
       " '',\n",
       " '/home/olga/miniconda3/envs/khtools--encodings-compare-cli--py37/lib/python3.7/site-packages',\n",
       " '/home/olga/miniconda3/envs/khtools--encodings-compare-cli--py37/lib/python3.7/site-packages/IPython/extensions',\n",
       " '/home/olga/.ipython']"
      ]
     },
     "execution_count": 3,
     "metadata": {},
     "output_type": "execute_result"
    }
   ],
   "source": [
    "sys.path"
   ]
  },
  {
   "cell_type": "code",
   "execution_count": 4,
   "metadata": {},
   "outputs": [
    {
     "name": "stdout",
     "output_type": "stream",
     "text": [
      "/home/olga/miniconda3/envs/khtools--encodings--compare-cli/lib/python3.8/site-packages/vaex-2.5.0.dist-info:\n",
      "total 32\n",
      "-rw-r--r-- 1 olga    4 Jan  7 14:16 INSTALLER\n",
      "-rw-r--r-- 1 olga 1087 Jan  7 14:16 LICENSE.txt\n",
      "-rw-r--r-- 1 olga 8331 Jan  7 14:16 METADATA\n",
      "-rw-r--r-- 1 olga  715 Jan  7 14:16 RECORD\n",
      "-rw-r--r-- 1 olga    5 Jan  7 14:16 top_level.txt\n",
      "-rw-r--r-- 1 olga   93 Jan  7 14:16 WHEEL\n",
      "\n",
      "/home/olga/miniconda3/envs/khtools--encodings--compare-cli/lib/python3.8/site-packages/vaex_arrow:\n",
      "total 24\n",
      "-rw-r--r-- 1 olga 4081 Jan  7 14:30 convert.py\n",
      "-rw-r--r-- 1 olga 2733 Jan  7 14:30 dataset.py\n",
      "-rw-r--r-- 1 olga 4018 Jan  7 14:30 export.py\n",
      "-rw-r--r-- 1 olga    0 Jan  7 14:30 __init__.py\n",
      "-rw-r--r-- 1 olga  679 Jan  7 14:30 opener.py\n",
      "drwxr-xr-x 2 olga 4096 Jan  7 14:30 \u001b[0m\u001b[01;34m__pycache__\u001b[0m/\n",
      "-rw-r--r-- 1 olga   52 Jan  7 14:30 _version.py\n",
      "\n",
      "/home/olga/miniconda3/envs/khtools--encodings--compare-cli/lib/python3.8/site-packages/vaex_arrow-0.4.2.dist-info:\n",
      "total 28\n",
      "-rw-r--r-- 1 olga   58 Jan  7 14:30 entry_points.txt\n",
      "-rw-r--r-- 1 olga    4 Jan  7 14:30 INSTALLER\n",
      "-rw-r--r-- 1 olga 1087 Jan  7 14:30 LICENSE.txt\n",
      "-rw-r--r-- 1 olga  376 Jan  7 14:30 METADATA\n",
      "-rw-r--r-- 1 olga 1361 Jan  7 14:30 RECORD\n",
      "-rw-r--r-- 1 olga   11 Jan  7 14:30 top_level.txt\n",
      "-rw-r--r-- 1 olga   93 Jan  7 14:30 WHEEL\n",
      "\n",
      "/home/olga/miniconda3/envs/khtools--encodings--compare-cli/lib/python3.8/site-packages/vaex_astro-0.6.1.dist-info:\n",
      "total 28\n",
      "-rw-r--r-- 1 olga  137 Jan  7 14:30 entry_points.txt\n",
      "-rw-r--r-- 1 olga    4 Jan  7 14:30 INSTALLER\n",
      "-rw-r--r-- 1 olga 1087 Jan  7 14:30 LICENSE.txt\n",
      "-rw-r--r-- 1 olga  322 Jan  7 14:30 METADATA\n",
      "-rw-r--r-- 1 olga 1376 Jan  7 14:30 RECORD\n",
      "-rw-r--r-- 1 olga    5 Jan  7 14:30 top_level.txt\n",
      "-rw-r--r-- 1 olga   93 Jan  7 14:30 WHEEL\n",
      "\n",
      "/home/olga/miniconda3/envs/khtools--encodings--compare-cli/lib/python3.8/site-packages/vaex_core-1.4.0.dist-info:\n",
      "total 36\n",
      "-rw-r--r-- 1 olga   152 Jan  7 14:30 entry_points.txt\n",
      "-rw-r--r-- 1 olga     4 Jan  7 14:30 INSTALLER\n",
      "-rw-r--r-- 1 olga  1293 Jan  7 14:30 LICENSE.txt\n",
      "-rw-r--r-- 1 olga   588 Jan  7 14:30 METADATA\n",
      "-rw-r--r-- 1 olga 11039 Jan  7 14:30 RECORD\n",
      "-rw-r--r-- 1 olga     5 Jan  7 14:30 top_level.txt\n",
      "-rw-r--r-- 1 olga   103 Jan  7 14:30 WHEEL\n",
      "\n",
      "/home/olga/miniconda3/envs/khtools--encodings--compare-cli/lib/python3.8/site-packages/vaex_hdf5-0.5.6.dist-info:\n",
      "total 24\n",
      "-rw-r--r-- 1 olga    4 Jan  7 14:30 INSTALLER\n",
      "-rw-r--r-- 1 olga 1087 Jan  7 14:30 LICENSE.txt\n",
      "-rw-r--r-- 1 olga  347 Jan  7 14:30 METADATA\n",
      "-rw-r--r-- 1 olga  996 Jan  7 14:30 RECORD\n",
      "-rw-r--r-- 1 olga    5 Jan  7 14:30 top_level.txt\n",
      "-rw-r--r-- 1 olga   93 Jan  7 14:30 WHEEL\n",
      "\n",
      "/home/olga/miniconda3/envs/khtools--encodings--compare-cli/lib/python3.8/site-packages/vaex_jupyter-0.4.1.dist-info:\n",
      "total 28\n",
      "-rw-r--r-- 1 olga   73 Jan  7 14:16 entry_points.txt\n",
      "-rw-r--r-- 1 olga    4 Jan  7 14:16 INSTALLER\n",
      "-rw-r--r-- 1 olga 1087 Jan  7 14:16 LICENSE.txt\n",
      "-rw-r--r-- 1 olga  495 Jan  7 14:16 METADATA\n",
      "-rw-r--r-- 1 olga 3288 Jan  7 14:16 RECORD\n",
      "-rw-r--r-- 1 olga    5 Jan  7 14:16 top_level.txt\n",
      "-rw-r--r-- 1 olga   93 Jan  7 14:16 WHEEL\n",
      "\n",
      "/home/olga/miniconda3/envs/khtools--encodings--compare-cli/lib/python3.8/site-packages/vaex_ml-0.7.0.dist-info:\n",
      "total 28\n",
      "-rw-r--r-- 1 olga   60 Jan  7 14:16 entry_points.txt\n",
      "-rw-r--r-- 1 olga    4 Jan  7 14:16 INSTALLER\n",
      "-rw-r--r-- 1 olga 1087 Jan  7 14:16 LICENSE.txt\n",
      "-rw-r--r-- 1 olga  354 Jan  7 14:16 METADATA\n",
      "-rw-r--r-- 1 olga 3039 Jan  7 14:16 RECORD\n",
      "-rw-r--r-- 1 olga    5 Jan  7 14:16 top_level.txt\n",
      "-rw-r--r-- 1 olga   93 Jan  7 14:16 WHEEL\n",
      "\n",
      "/home/olga/miniconda3/envs/khtools--encodings--compare-cli/lib/python3.8/site-packages/vaex_server-0.2.1.dist-info:\n",
      "total 24\n",
      "-rw-r--r-- 1 olga    4 Jan  7 14:30 INSTALLER\n",
      "-rw-r--r-- 1 olga 1087 Jan  7 14:30 LICENSE.txt\n",
      "-rw-r--r-- 1 olga  361 Jan  7 14:30 METADATA\n",
      "-rw-r--r-- 1 olga  764 Jan  7 14:30 RECORD\n",
      "-rw-r--r-- 1 olga    5 Jan  7 14:30 top_level.txt\n",
      "-rw-r--r-- 1 olga   93 Jan  7 14:30 WHEEL\n",
      "\n",
      "/home/olga/miniconda3/envs/khtools--encodings--compare-cli/lib/python3.8/site-packages/vaex_viz-0.3.8.dist-info:\n",
      "total 28\n",
      "-rw-r--r-- 1 olga  109 Jan  7 14:30 entry_points.txt\n",
      "-rw-r--r-- 1 olga    4 Jan  7 14:30 INSTALLER\n",
      "-rw-r--r-- 1 olga 1087 Jan  7 14:30 LICENSE.txt\n",
      "-rw-r--r-- 1 olga  345 Jan  7 14:30 METADATA\n",
      "-rw-r--r-- 1 olga 1319 Jan  7 14:30 RECORD\n",
      "-rw-r--r-- 1 olga    5 Jan  7 14:30 top_level.txt\n",
      "-rw-r--r-- 1 olga   93 Jan  7 14:30 WHEEL\n"
     ]
    }
   ],
   "source": [
    "ll /home/olga/miniconda3/envs/khtools--encodings--compare-cli/lib/python3.8/site-packages/v*"
   ]
  },
  {
   "cell_type": "markdown",
   "metadata": {},
   "source": [
    "## Check disk-mounted storage"
   ]
  },
  {
   "cell_type": "code",
   "execution_count": 5,
   "metadata": {},
   "outputs": [
    {
     "name": "stdout",
     "output_type": "stream",
     "text": [
      "/mnt/data_sm/olga/kmer-hashing/quest-for-orthologs/analysis/2019/intermediates\n"
     ]
    }
   ],
   "source": [
    "cd  ~/data_sm/kmer-hashing/quest-for-orthologs/analysis/2019/intermediates"
   ]
  },
  {
   "cell_type": "code",
   "execution_count": 6,
   "metadata": {},
   "outputs": [
    {
     "name": "stdout",
     "output_type": "stream",
     "text": [
      "1798\n"
     ]
    }
   ],
   "source": [
    "ls -1 | wc -l"
   ]
  },
  {
   "cell_type": "markdown",
   "metadata": {},
   "source": [
    "# Download OMA GETHOGs benchmark results\n",
    "This had the most number of ortholog pairs of all the services submitted to the [Quest for Orthologs' benchmarking service - Gene Ontology Conservation test](https://orthology.benchmarkservice.org/cgi-bin/gateway.pl?f=CheckResults&p1=10f28e6c09fd6acc1a90ade6)"
   ]
  },
  {
   "cell_type": "code",
   "execution_count": 7,
   "metadata": {},
   "outputs": [],
   "source": [
    "# ! wget https://orthology.benchmarkservice.org/raw//GO/GO.83ebff415cfec35b9ae1888e.tsv.gz\n",
    "# ! zcat GO.83ebff415cfec35b9ae1888e.tsv.gz | head"
   ]
  },
  {
   "cell_type": "code",
   "execution_count": 8,
   "metadata": {},
   "outputs": [
    {
     "name": "stdout",
     "output_type": "stream",
     "text": [
      "(927900, 3)\n"
     ]
    },
    {
     "data": {
      "text/html": [
       "<div>\n",
       "<style scoped>\n",
       "    .dataframe tbody tr th:only-of-type {\n",
       "        vertical-align: middle;\n",
       "    }\n",
       "\n",
       "    .dataframe tbody tr th {\n",
       "        vertical-align: top;\n",
       "    }\n",
       "\n",
       "    .dataframe thead th {\n",
       "        text-align: right;\n",
       "    }\n",
       "</style>\n",
       "<table border=\"1\" class=\"dataframe\">\n",
       "  <thead>\n",
       "    <tr style=\"text-align: right;\">\n",
       "      <th></th>\n",
       "      <th>protein_id1</th>\n",
       "      <th>protein_id2</th>\n",
       "      <th>go_similarity</th>\n",
       "    </tr>\n",
       "  </thead>\n",
       "  <tbody>\n",
       "    <tr>\n",
       "      <th>0</th>\n",
       "      <td>Q5JCX3</td>\n",
       "      <td>P07650</td>\n",
       "      <td>0.373544</td>\n",
       "    </tr>\n",
       "    <tr>\n",
       "      <th>1</th>\n",
       "      <td>Q5JCX3</td>\n",
       "      <td>P19971</td>\n",
       "      <td>0.467737</td>\n",
       "    </tr>\n",
       "    <tr>\n",
       "      <th>2</th>\n",
       "      <td>Q5JDA9</td>\n",
       "      <td>O67379</td>\n",
       "      <td>1.000000</td>\n",
       "    </tr>\n",
       "    <tr>\n",
       "      <th>3</th>\n",
       "      <td>Q5JF32</td>\n",
       "      <td>Q9DEA3</td>\n",
       "      <td>0.460952</td>\n",
       "    </tr>\n",
       "    <tr>\n",
       "      <th>4</th>\n",
       "      <td>Q5JF32</td>\n",
       "      <td>P17918</td>\n",
       "      <td>0.575735</td>\n",
       "    </tr>\n",
       "  </tbody>\n",
       "</table>\n",
       "</div>"
      ],
      "text/plain": [
       "  protein_id1 protein_id2  go_similarity\n",
       "0      Q5JCX3      P07650       0.373544\n",
       "1      Q5JCX3      P19971       0.467737\n",
       "2      Q5JDA9      O67379       1.000000\n",
       "3      Q5JF32      Q9DEA3       0.460952\n",
       "4      Q5JF32      P17918       0.575735"
      ]
     },
     "execution_count": 8,
     "metadata": {},
     "output_type": "execute_result"
    }
   ],
   "source": [
    "oma = pd.read_csv('GO.83ebff415cfec35b9ae1888e.tsv.gz', sep='\\t', skiprows=2, header=None)\n",
    "oma.columns = ['protein_id1', 'protein_id2', 'go_similarity']\n",
    "print(oma.shape)\n",
    "oma.head()"
   ]
  },
  {
   "cell_type": "markdown",
   "metadata": {},
   "source": [
    "### Reverse protein id1 and id2 to get all relations for joining"
   ]
  },
  {
   "cell_type": "code",
   "execution_count": 9,
   "metadata": {},
   "outputs": [
    {
     "name": "stdout",
     "output_type": "stream",
     "text": [
      "(927900, 3)\n"
     ]
    },
    {
     "data": {
      "text/html": [
       "<div>\n",
       "<style scoped>\n",
       "    .dataframe tbody tr th:only-of-type {\n",
       "        vertical-align: middle;\n",
       "    }\n",
       "\n",
       "    .dataframe tbody tr th {\n",
       "        vertical-align: top;\n",
       "    }\n",
       "\n",
       "    .dataframe thead th {\n",
       "        text-align: right;\n",
       "    }\n",
       "</style>\n",
       "<table border=\"1\" class=\"dataframe\">\n",
       "  <thead>\n",
       "    <tr style=\"text-align: right;\">\n",
       "      <th></th>\n",
       "      <th>protein_id2</th>\n",
       "      <th>protein_id1</th>\n",
       "      <th>go_similarity</th>\n",
       "    </tr>\n",
       "  </thead>\n",
       "  <tbody>\n",
       "    <tr>\n",
       "      <th>0</th>\n",
       "      <td>Q5JCX3</td>\n",
       "      <td>P07650</td>\n",
       "      <td>0.373544</td>\n",
       "    </tr>\n",
       "    <tr>\n",
       "      <th>1</th>\n",
       "      <td>Q5JCX3</td>\n",
       "      <td>P19971</td>\n",
       "      <td>0.467737</td>\n",
       "    </tr>\n",
       "    <tr>\n",
       "      <th>2</th>\n",
       "      <td>Q5JDA9</td>\n",
       "      <td>O67379</td>\n",
       "      <td>1.000000</td>\n",
       "    </tr>\n",
       "    <tr>\n",
       "      <th>3</th>\n",
       "      <td>Q5JF32</td>\n",
       "      <td>Q9DEA3</td>\n",
       "      <td>0.460952</td>\n",
       "    </tr>\n",
       "    <tr>\n",
       "      <th>4</th>\n",
       "      <td>Q5JF32</td>\n",
       "      <td>P17918</td>\n",
       "      <td>0.575735</td>\n",
       "    </tr>\n",
       "  </tbody>\n",
       "</table>\n",
       "</div>"
      ],
      "text/plain": [
       "  protein_id2 protein_id1  go_similarity\n",
       "0      Q5JCX3      P07650       0.373544\n",
       "1      Q5JCX3      P19971       0.467737\n",
       "2      Q5JDA9      O67379       1.000000\n",
       "3      Q5JF32      Q9DEA3       0.460952\n",
       "4      Q5JF32      P17918       0.575735"
      ]
     },
     "execution_count": 9,
     "metadata": {},
     "output_type": "execute_result"
    }
   ],
   "source": [
    "oma_reversed = oma.rename(columns={'protein_id1': 'protein_id2', 'protein_id2': 'protein_id1'})\n",
    "print(oma_reversed.shape)\n",
    "oma_reversed.head()\n",
    "\n"
   ]
  },
  {
   "cell_type": "code",
   "execution_count": 10,
   "metadata": {},
   "outputs": [
    {
     "name": "stdout",
     "output_type": "stream",
     "text": [
      "(1855800, 3)\n"
     ]
    },
    {
     "name": "stderr",
     "output_type": "stream",
     "text": [
      "/home/olga/miniconda3/envs/khtools--encodings-compare-cli--py37/lib/python3.7/site-packages/ipykernel_launcher.py:1: FutureWarning: Sorting because non-concatenation axis is not aligned. A future version\n",
      "of pandas will change to not sort by default.\n",
      "\n",
      "To accept the future behavior, pass 'sort=False'.\n",
      "\n",
      "To retain the current behavior and silence the warning, pass 'sort=True'.\n",
      "\n",
      "  \"\"\"Entry point for launching an IPython kernel.\n"
     ]
    },
    {
     "data": {
      "text/html": [
       "<div>\n",
       "<style scoped>\n",
       "    .dataframe tbody tr th:only-of-type {\n",
       "        vertical-align: middle;\n",
       "    }\n",
       "\n",
       "    .dataframe tbody tr th {\n",
       "        vertical-align: top;\n",
       "    }\n",
       "\n",
       "    .dataframe thead th {\n",
       "        text-align: right;\n",
       "    }\n",
       "</style>\n",
       "<table border=\"1\" class=\"dataframe\">\n",
       "  <thead>\n",
       "    <tr style=\"text-align: right;\">\n",
       "      <th></th>\n",
       "      <th>go_similarity</th>\n",
       "      <th>protein_id1</th>\n",
       "      <th>protein_id2</th>\n",
       "    </tr>\n",
       "  </thead>\n",
       "  <tbody>\n",
       "    <tr>\n",
       "      <th>0</th>\n",
       "      <td>0.373544</td>\n",
       "      <td>Q5JCX3</td>\n",
       "      <td>P07650</td>\n",
       "    </tr>\n",
       "    <tr>\n",
       "      <th>1</th>\n",
       "      <td>0.467737</td>\n",
       "      <td>Q5JCX3</td>\n",
       "      <td>P19971</td>\n",
       "    </tr>\n",
       "    <tr>\n",
       "      <th>2</th>\n",
       "      <td>1.000000</td>\n",
       "      <td>Q5JDA9</td>\n",
       "      <td>O67379</td>\n",
       "    </tr>\n",
       "    <tr>\n",
       "      <th>3</th>\n",
       "      <td>0.460952</td>\n",
       "      <td>Q5JF32</td>\n",
       "      <td>Q9DEA3</td>\n",
       "    </tr>\n",
       "    <tr>\n",
       "      <th>4</th>\n",
       "      <td>0.575735</td>\n",
       "      <td>Q5JF32</td>\n",
       "      <td>P17918</td>\n",
       "    </tr>\n",
       "  </tbody>\n",
       "</table>\n",
       "</div>"
      ],
      "text/plain": [
       "   go_similarity protein_id1 protein_id2\n",
       "0       0.373544      Q5JCX3      P07650\n",
       "1       0.467737      Q5JCX3      P19971\n",
       "2       1.000000      Q5JDA9      O67379\n",
       "3       0.460952      Q5JF32      Q9DEA3\n",
       "4       0.575735      Q5JF32      P17918"
      ]
     },
     "execution_count": 10,
     "metadata": {},
     "output_type": "execute_result"
    }
   ],
   "source": [
    "oma_concat = pd.concat([oma, oma_reversed], ignore_index=True)\n",
    "# oma_concat = oma_concat.set_index('protein_id1')\n",
    "print(oma_concat.shape)\n",
    "oma_concat.head()"
   ]
  },
  {
   "cell_type": "code",
   "execution_count": 11,
   "metadata": {},
   "outputs": [],
   "source": [
    "# oma_concat_subset = oma_concat.query('protein_id1 in @df.protein_id1 and '\n",
    "#                                      'protein_id2 in @df.protein_id2')\n",
    "# print(oma_concat_subset.shape)\n",
    "# oma_concat_subset.head()"
   ]
  },
  {
   "cell_type": "markdown",
   "metadata": {},
   "source": [
    "# Read parquet intermediates from local"
   ]
  },
  {
   "cell_type": "code",
   "execution_count": 12,
   "metadata": {},
   "outputs": [],
   "source": [
    "scratch_folder = '/home/olga/scratch/kmer-hashing/quest-for-orthologs/analysis/2019/intermediates'"
   ]
  },
  {
   "cell_type": "code",
   "execution_count": 13,
   "metadata": {},
   "outputs": [
    {
     "name": "stdout",
     "output_type": "stream",
     "text": [
      "mkdir: cannot create directory ‘/home/olga/scratch/kmer-hashing/quest-for-orthologs/analysis/2019/intermediates-vaex-arrow’: File exists\n"
     ]
    }
   ],
   "source": [
    "arrow_folder = '/home/olga/scratch/kmer-hashing/quest-for-orthologs/analysis/2019/intermediates-vaex-arrow'\n",
    "! mkdir $arrow_folder"
   ]
  },
  {
   "cell_type": "code",
   "execution_count": 14,
   "metadata": {},
   "outputs": [
    {
     "name": "stdout",
     "output_type": "stream",
     "text": [
      "/home/olga/scratch/kmer-hashing/quest-for-orthologs/analysis/2019/intermediates\n"
     ]
    }
   ],
   "source": [
    "cd $scratch_folder"
   ]
  },
  {
   "cell_type": "code",
   "execution_count": 15,
   "metadata": {},
   "outputs": [
    {
     "data": {
      "text/plain": [
       "'/home/olga/scratch/kmer-hashing/quest-for-orthologs/analysis/2019/intermediates'"
      ]
     },
     "execution_count": 15,
     "metadata": {},
     "output_type": "execute_result"
    }
   ],
   "source": [
    "pwd"
   ]
  },
  {
   "cell_type": "code",
   "execution_count": 16,
   "metadata": {},
   "outputs": [
    {
     "name": "stdout",
     "output_type": "stream",
     "text": [
      "1798\n"
     ]
    }
   ],
   "source": [
    "ls -1 | wc -l"
   ]
  },
  {
   "cell_type": "code",
   "execution_count": 17,
   "metadata": {},
   "outputs": [
    {
     "name": "stdout",
     "output_type": "stream",
     "text": [
      "total 346G\n",
      "drwxr-xr-x 2 olga czb 116K Jan  7 09:09 \u001b[0m\u001b[01;34m.\u001b[0m/\n",
      "drwxr-xr-x 4 olga czb 4.0K Jan  7 11:32 \u001b[01;34m..\u001b[0m/\n",
      "-rw-r--r-- 1 olga czb 6.2M Sep  6  2018 \u001b[01;31mGO.83ebff415cfec35b9ae1888e.tsv.gz\u001b[0m\n",
      "-rw-r--r-- 1 olga czb 225M Dec 30 14:54 sp__A5HEI1-2__SCC2-2_ARATH.parquet\n",
      "-rw-r--r-- 1 olga czb 198M Dec 30 19:38 sp__A5HEI1-3__SCC2-3_ARATH.parquet\n",
      "-rw-r--r-- 1 olga czb 198M Dec 31 02:49 sp__A5PHT0-2__Y1448-2_ARATH.parquet\n",
      "-rw-r--r-- 1 olga czb 196M Jan  2 23:30 sp__A5Z2X3__FUTB2_CAEEL.parquet\n",
      "-rw-r--r-- 1 olga czb 197M Jan  1 00:36 sp__A8MQA3-2__PP330-2_ARATH.parquet\n",
      "-rw-r--r-- 1 olga czb 197M Dec 30 07:15 sp__F4HYV5__NAC26_ARATH.parquet\n",
      "ls: write error\n"
     ]
    }
   ],
   "source": [
    "ls -lha | head"
   ]
  },
  {
   "cell_type": "markdown",
   "metadata": {},
   "source": [
    "## Opening parquet directly with vaex works, but resulting df isn't workable\n",
    "\n",
    "`df.head()` gives the following traceback:\n",
    "\n",
    "```pytb\n",
    "---------------------------------------------------------------------------\n",
    "ValueError                                Traceback (most recent call last)\n",
    "<ipython-input-29-c42a15b2c7cf> in <module>\n",
    "----> 1 df.head()\n",
    "\n",
    "~/miniconda3/envs/khtools--encodings--compare-cli/lib/python3.8/site-packages/vaex/dataframe.py in head(self, n)\n",
    "   3397     def head(self, n=10):\n",
    "   3398         \"\"\"Return a shallow copy a DataFrame with the first n rows.\"\"\"\n",
    "-> 3399         return self[:min(n, len(self))]\n",
    "   3400 \n",
    "   3401     def tail(self, n=10):\n",
    "\n",
    "~/miniconda3/envs/khtools--encodings--compare-cli/lib/python3.8/site-packages/vaex/dataframe.py in __getitem__(self, item)\n",
    "   4552                 assert stop != -1\n",
    "   4553                 stop = stop+1  # +1 to make it inclusive\n",
    "-> 4554             df = self.trim()\n",
    "   4555             df.set_active_range(start, stop)\n",
    "   4556             return df.trim()\n",
    "\n",
    "~/miniconda3/envs/khtools--encodings--compare-cli/lib/python3.8/site-packages/vaex/dataframe.py in trim(self, inplace)\n",
    "   3782         :rtype: DataFrame\n",
    "   3783         '''\n",
    "-> 3784         df = self if inplace else self.copy()\n",
    "   3785         if self._index_start == 0 and self._index_end == self._length_original:\n",
    "   3786             return df\n",
    "\n",
    "~/miniconda3/envs/khtools--encodings--compare-cli/lib/python3.8/site-packages/vaex/dataframe.py in copy(self, column_names, virtual)\n",
    "   4852                     column = self.columns[name]\n",
    "   4853                     if not isinstance(column, ColumnSparse):\n",
    "-> 4854                         df.add_column(name, column, dtype=self._dtypes_override.get(name))\n",
    "   4855                 elif name in self.virtual_columns:\n",
    "   4856                     if virtual:  # TODO: check if the ast is cached\n",
    "\n",
    "~/miniconda3/envs/khtools--encodings--compare-cli/lib/python3.8/site-packages/vaex/dataframe.py in add_column(self, name, data, dtype)\n",
    "   5819         #     self._length_original = len(data)\n",
    "   5820         #     self._index_end = self._length_unfiltered\n",
    "-> 5821         super(DataFrameArrays, self).add_column(name, data, dtype=dtype)\n",
    "   5822         self._length_unfiltered = int(round(self._length_original * self._active_fraction))\n",
    "   5823         # self.set_active_fraction(self._active_fraction)\n",
    "\n",
    "~/miniconda3/envs/khtools--encodings--compare-cli/lib/python3.8/site-packages/vaex/dataframe.py in add_column(self, name, f_or_array, dtype)\n",
    "   2929                     if len(self) == len(ar):\n",
    "   2930                         raise ValueError(\"Array is of length %s, while the length of the DataFrame is %s due to the filtering, the (unfiltered) length is %s.\" % (len(ar), len(self), self.length_unfiltered()))\n",
    "-> 2931                 raise ValueError(\"array is of length %s, while the length of the DataFrame is %s\" % (len(ar), self.length_original()))\n",
    "   2932             # assert self.length_unfiltered() == len(data), \"columns should be of equal length, length should be %d, while it is %d\" % ( self.length_unfiltered(), len(data))\n",
    "   2933             valid_name = vaex.utils.find_valid_name(name)\n",
    "\n",
    "ValueError: array is of length 14810232, while the length of the DataFrame is 32994760\n",
    "```"
   ]
  },
  {
   "cell_type": "code",
   "execution_count": 21,
   "metadata": {},
   "outputs": [],
   "source": [
    "# %%time\n",
    "# df = vaex.open('sp__A5HEI1-2__SCC2-2_ARATH.parquet')"
   ]
  },
  {
   "cell_type": "code",
   "execution_count": 22,
   "metadata": {},
   "outputs": [],
   "source": [
    "# df.head()"
   ]
  },
  {
   "cell_type": "code",
   "execution_count": 31,
   "metadata": {},
   "outputs": [],
   "source": [
    "# ls -lha | grep MOUSE | head"
   ]
  },
  {
   "cell_type": "code",
   "execution_count": 23,
   "metadata": {},
   "outputs": [],
   "source": [
    "# vaex.open_many()"
   ]
  },
  {
   "cell_type": "code",
   "execution_count": 24,
   "metadata": {},
   "outputs": [
    {
     "name": "stdout",
     "output_type": "stream",
     "text": [
      "tr__A0A2K3CNV6__A0A2K3CNV6_CHLRE\n",
      "{'pandas__read_parquet': 8.569242477416992}\n",
      "{'pandas__read_parquet': 8.569242477416992, 'vaex__from_pandas': 517.95427775383}\n",
      "{'pandas__read_parquet': 8.569242477416992, 'vaex__from_pandas': 517.95427775383, 'vaex__export_arrow': 54.04432487487793}\n",
      "(3, 1)\n",
      "times.median(): times.median()\n",
      "times.mean(): times.mean()\n",
      "times.std(): times.std()\n",
      "CPU times: user 8min 47s, sys: 57.1 s, total: 9min 45s\n",
      "Wall time: 9min 40s\n"
     ]
    }
   ],
   "source": [
    "%%time\n",
    "\n",
    "\n",
    "def extract_protein_id(x):\n",
    "    return x.split('|')[1]\n",
    "\n",
    "\n",
    "ts = defaultdict(dict)\n",
    "dfs = []\n",
    "for parquet in glob.iglob('*.parquet'):\n",
    "    prefix = parquet.split('.parquet')[0]\n",
    "    print(prefix)\n",
    "    try:\n",
    "        t0 = time.time()\n",
    "        df = pd.read_parquet(parquet)\n",
    "        t1 = time.time()\n",
    "    except ArrowIOError:\n",
    "        print(f'Could not read: {parquet}')\n",
    "    ts[prefix]['pandas__read_parquet'] = t1-t0\n",
    "    print(ts[prefix])\n",
    "    \n",
    "#     t2 = time.time()\n",
    "#     df['protein_id1'] = df.id1.map(extract_protein_id)\n",
    "#     df['protein_id2'] = df.id2.map(extract_protein_id)\n",
    "#     t3 = time.time()\n",
    "#     ts[prefix]['extract_protein_id'] = t3-t2\n",
    "    \n",
    "#     # Merge with OMA output\n",
    "#     t4 = time.time()\n",
    "#     df_oma = df.merge(oma, how='outer', on=['protein_id1', 'protein_id2'])\n",
    "#     t5 = time.time()\n",
    "#     ts[prefix]['pandas__merge'] = t5-t4\n",
    "# #     print(df_oma.shape)\n",
    "# #     df_oma.head()\n",
    "\n",
    "    t6 = time.time()\n",
    "    df_vx = vaex.from_pandas(df)\n",
    "    t7 = time.time()\n",
    "    ts[prefix]['vaex__from_pandas'] = t7 - t6\n",
    "    print(ts[prefix])\n",
    "    \n",
    "    arrow = f'{arrow_folder}/{prefix}.arrow'\n",
    "\n",
    "    t8 = time.time()\n",
    "    df_vx.export_arrow(arrow, progress=True)\n",
    "    t9 = time.time()\n",
    "    ts[prefix]['vaex__export_arrow'] = t9 - t8\n",
    "    print(ts[prefix])\n",
    "#     del df\n",
    "#     del df_vx\n",
    "#     dfs.append(df)\n",
    "    break\n",
    "    \n",
    "times = pd.DataFrame(ts)\n",
    "print(times.shape)\n",
    "print(f\"times.median(): times.median()\")\n",
    "print(f\"times.mean(): times.mean()\")\n",
    "print(f\"times.std(): times.std()\")\n",
    "# kmer_similarity = pd.concat(dfs)\n",
    "# print(kmer_similarity.shape)\n",
    "# kmer_similarity.head()"
   ]
  },
  {
   "cell_type": "code",
   "execution_count": 38,
   "metadata": {},
   "outputs": [
    {
     "data": {
      "text/html": [
       "<table>\n",
       "<thead>\n",
       "<tr><th>#                            </th><th>id1                                                </th><th>id2                                                </th><th style=\"text-align: right;\">  ksize</th><th style=\"text-align: right;\">  jaccard</th><th>molecule  </th><th style=\"text-align: right;\">  index</th></tr>\n",
       "</thead>\n",
       "<tbody>\n",
       "<tr><td><i style='opacity: 0.6'>0</i></td><td>'tr|A0A2K3CNV6|A0A2K3CNV6_CHLRE Uncharacterized ...</td><td>'tr|A0A024R1R8|A0A024R1R8_HUMAN HCG2014768, isof...</td><td style=\"text-align: right;\">      3</td><td style=\"text-align: right;\">     0.05</td><td>protein   </td><td style=\"text-align: right;\">      0</td></tr>\n",
       "<tr><td><i style='opacity: 0.6'>1</i></td><td>'tr|A0A2K3CNV6|A0A2K3CNV6_CHLRE Uncharacterized ...</td><td>'tr|A0A024R1R8|A0A024R1R8_HUMAN HCG2014768, isof...</td><td style=\"text-align: right;\">      4</td><td style=\"text-align: right;\">     0   </td><td>protein   </td><td style=\"text-align: right;\">      1</td></tr>\n",
       "<tr><td><i style='opacity: 0.6'>2</i></td><td>'tr|A0A2K3CNV6|A0A2K3CNV6_CHLRE Uncharacterized ...</td><td>'tr|A0A024R1R8|A0A024R1R8_HUMAN HCG2014768, isof...</td><td style=\"text-align: right;\">      5</td><td style=\"text-align: right;\">     0   </td><td>protein   </td><td style=\"text-align: right;\">      2</td></tr>\n",
       "<tr><td><i style='opacity: 0.6'>3</i></td><td>'tr|A0A2K3CNV6|A0A2K3CNV6_CHLRE Uncharacterized ...</td><td>'tr|A0A024R1R8|A0A024R1R8_HUMAN HCG2014768, isof...</td><td style=\"text-align: right;\">      6</td><td style=\"text-align: right;\">     0   </td><td>protein   </td><td style=\"text-align: right;\">      3</td></tr>\n",
       "<tr><td><i style='opacity: 0.6'>4</i></td><td>'tr|A0A2K3CNV6|A0A2K3CNV6_CHLRE Uncharacterized ...</td><td>'tr|A0A024R1R8|A0A024R1R8_HUMAN HCG2014768, isof...</td><td style=\"text-align: right;\">      7</td><td style=\"text-align: right;\">     0   </td><td>protein   </td><td style=\"text-align: right;\">      4</td></tr>\n",
       "<tr><td><i style='opacity: 0.6'>5</i></td><td>'tr|A0A2K3CNV6|A0A2K3CNV6_CHLRE Uncharacterized ...</td><td>'tr|A0A024R1R8|A0A024R1R8_HUMAN HCG2014768, isof...</td><td style=\"text-align: right;\">      8</td><td style=\"text-align: right;\">     0   </td><td>protein   </td><td style=\"text-align: right;\">      5</td></tr>\n",
       "<tr><td><i style='opacity: 0.6'>6</i></td><td>'tr|A0A2K3CNV6|A0A2K3CNV6_CHLRE Uncharacterized ...</td><td>'tr|A0A024R1R8|A0A024R1R8_HUMAN HCG2014768, isof...</td><td style=\"text-align: right;\">      9</td><td style=\"text-align: right;\">     0   </td><td>protein   </td><td style=\"text-align: right;\">      6</td></tr>\n",
       "<tr><td><i style='opacity: 0.6'>7</i></td><td>'tr|A0A2K3CNV6|A0A2K3CNV6_CHLRE Uncharacterized ...</td><td>'tr|A0A024R1R8|A0A024R1R8_HUMAN HCG2014768, isof...</td><td style=\"text-align: right;\">     10</td><td style=\"text-align: right;\">     0   </td><td>protein   </td><td style=\"text-align: right;\">      7</td></tr>\n",
       "<tr><td><i style='opacity: 0.6'>8</i></td><td>'tr|A0A2K3CNV6|A0A2K3CNV6_CHLRE Uncharacterized ...</td><td>'tr|A0A024R1R8|A0A024R1R8_HUMAN HCG2014768, isof...</td><td style=\"text-align: right;\">     11</td><td style=\"text-align: right;\">     0   </td><td>protein   </td><td style=\"text-align: right;\">      8</td></tr>\n",
       "<tr><td><i style='opacity: 0.6'>9</i></td><td>'tr|A0A2K3CNV6|A0A2K3CNV6_CHLRE Uncharacterized ...</td><td>'tr|A0A024R1R8|A0A024R1R8_HUMAN HCG2014768, isof...</td><td style=\"text-align: right;\">     12</td><td style=\"text-align: right;\">     0   </td><td>protein   </td><td style=\"text-align: right;\">      9</td></tr>\n",
       "</tbody>\n",
       "</table>"
      ],
      "text/plain": [
       "  #  id1                                                  id2                                                    ksize    jaccard  molecule      index\n",
       "  0  'tr|A0A2K3CNV6|A0A2K3CNV6_CHLRE Uncharacterized ...  'tr|A0A024R1R8|A0A024R1R8_HUMAN HCG2014768, isof...        3       0.05  protein           0\n",
       "  1  'tr|A0A2K3CNV6|A0A2K3CNV6_CHLRE Uncharacterized ...  'tr|A0A024R1R8|A0A024R1R8_HUMAN HCG2014768, isof...        4       0     protein           1\n",
       "  2  'tr|A0A2K3CNV6|A0A2K3CNV6_CHLRE Uncharacterized ...  'tr|A0A024R1R8|A0A024R1R8_HUMAN HCG2014768, isof...        5       0     protein           2\n",
       "  3  'tr|A0A2K3CNV6|A0A2K3CNV6_CHLRE Uncharacterized ...  'tr|A0A024R1R8|A0A024R1R8_HUMAN HCG2014768, isof...        6       0     protein           3\n",
       "  4  'tr|A0A2K3CNV6|A0A2K3CNV6_CHLRE Uncharacterized ...  'tr|A0A024R1R8|A0A024R1R8_HUMAN HCG2014768, isof...        7       0     protein           4\n",
       "  5  'tr|A0A2K3CNV6|A0A2K3CNV6_CHLRE Uncharacterized ...  'tr|A0A024R1R8|A0A024R1R8_HUMAN HCG2014768, isof...        8       0     protein           5\n",
       "  6  'tr|A0A2K3CNV6|A0A2K3CNV6_CHLRE Uncharacterized ...  'tr|A0A024R1R8|A0A024R1R8_HUMAN HCG2014768, isof...        9       0     protein           6\n",
       "  7  'tr|A0A2K3CNV6|A0A2K3CNV6_CHLRE Uncharacterized ...  'tr|A0A024R1R8|A0A024R1R8_HUMAN HCG2014768, isof...       10       0     protein           7\n",
       "  8  'tr|A0A2K3CNV6|A0A2K3CNV6_CHLRE Uncharacterized ...  'tr|A0A024R1R8|A0A024R1R8_HUMAN HCG2014768, isof...       11       0     protein           8\n",
       "  9  'tr|A0A2K3CNV6|A0A2K3CNV6_CHLRE Uncharacterized ...  'tr|A0A024R1R8|A0A024R1R8_HUMAN HCG2014768, isof...       12       0     protein           9"
      ]
     },
     "execution_count": 38,
     "metadata": {},
     "output_type": "execute_result"
    }
   ],
   "source": [
    "df_vx.head()"
   ]
  },
  {
   "cell_type": "code",
   "execution_count": 39,
   "metadata": {},
   "outputs": [
    {
     "data": {
      "text/plain": [
       "'tr__A0A2K3CNV6__A0A2K3CNV6_CHLRE'"
      ]
     },
     "execution_count": 39,
     "metadata": {},
     "output_type": "execute_result"
    }
   ],
   "source": [
    "prefix"
   ]
  },
  {
   "cell_type": "markdown",
   "metadata": {},
   "source": [
    "## Try exporting to different formats"
   ]
  },
  {
   "cell_type": "code",
   "execution_count": 42,
   "metadata": {},
   "outputs": [],
   "source": [
    "hdf5 = f'/home/olga/scratch/{prefix}.hdf5'\n",
    "%time df_vx.export_hdf5(hdf5)"
   ]
  },
  {
   "cell_type": "code",
   "execution_count": 43,
   "metadata": {},
   "outputs": [
    {
     "name": "stdout",
     "output_type": "stream",
     "text": [
      "-rw-r--r-- 1 olga czb 9.1G Jan  7 14:02 /home/olga/scratch/tr__A0A2K3CNV6__A0A2K3CNV6_CHLRE.hdf5\n"
     ]
    }
   ],
   "source": [
    "! ls -lha $hdf5"
   ]
  },
  {
   "cell_type": "code",
   "execution_count": 50,
   "metadata": {},
   "outputs": [
    {
     "name": "stdout",
     "output_type": "stream",
     "text": [
      "CPU times: user 7.63 ms, sys: 4.07 ms, total: 11.7 ms\n",
      "Wall time: 10.5 ms\n"
     ]
    },
    {
     "data": {
      "text/html": [
       "<table>\n",
       "<thead>\n",
       "<tr><th>#                            </th><th>id1                                                </th><th>id2                                                </th><th style=\"text-align: right;\">  ksize</th><th style=\"text-align: right;\">  jaccard</th><th>molecule  </th><th style=\"text-align: right;\">  index</th></tr>\n",
       "</thead>\n",
       "<tbody>\n",
       "<tr><td><i style='opacity: 0.6'>0</i></td><td>'tr|A0A2K3CNV6|A0A2K3CNV6_CHLRE Uncharacterized ...</td><td>'tr|A0A024R1R8|A0A024R1R8_HUMAN HCG2014768, isof...</td><td style=\"text-align: right;\">      3</td><td style=\"text-align: right;\">     0.05</td><td>protein   </td><td style=\"text-align: right;\">      0</td></tr>\n",
       "<tr><td><i style='opacity: 0.6'>1</i></td><td>'tr|A0A2K3CNV6|A0A2K3CNV6_CHLRE Uncharacterized ...</td><td>'tr|A0A024R1R8|A0A024R1R8_HUMAN HCG2014768, isof...</td><td style=\"text-align: right;\">      4</td><td style=\"text-align: right;\">     0   </td><td>protein   </td><td style=\"text-align: right;\">      1</td></tr>\n",
       "<tr><td><i style='opacity: 0.6'>2</i></td><td>'tr|A0A2K3CNV6|A0A2K3CNV6_CHLRE Uncharacterized ...</td><td>'tr|A0A024R1R8|A0A024R1R8_HUMAN HCG2014768, isof...</td><td style=\"text-align: right;\">      5</td><td style=\"text-align: right;\">     0   </td><td>protein   </td><td style=\"text-align: right;\">      2</td></tr>\n",
       "<tr><td><i style='opacity: 0.6'>3</i></td><td>'tr|A0A2K3CNV6|A0A2K3CNV6_CHLRE Uncharacterized ...</td><td>'tr|A0A024R1R8|A0A024R1R8_HUMAN HCG2014768, isof...</td><td style=\"text-align: right;\">      6</td><td style=\"text-align: right;\">     0   </td><td>protein   </td><td style=\"text-align: right;\">      3</td></tr>\n",
       "<tr><td><i style='opacity: 0.6'>4</i></td><td>'tr|A0A2K3CNV6|A0A2K3CNV6_CHLRE Uncharacterized ...</td><td>'tr|A0A024R1R8|A0A024R1R8_HUMAN HCG2014768, isof...</td><td style=\"text-align: right;\">      7</td><td style=\"text-align: right;\">     0   </td><td>protein   </td><td style=\"text-align: right;\">      4</td></tr>\n",
       "<tr><td><i style='opacity: 0.6'>5</i></td><td>'tr|A0A2K3CNV6|A0A2K3CNV6_CHLRE Uncharacterized ...</td><td>'tr|A0A024R1R8|A0A024R1R8_HUMAN HCG2014768, isof...</td><td style=\"text-align: right;\">      8</td><td style=\"text-align: right;\">     0   </td><td>protein   </td><td style=\"text-align: right;\">      5</td></tr>\n",
       "<tr><td><i style='opacity: 0.6'>6</i></td><td>'tr|A0A2K3CNV6|A0A2K3CNV6_CHLRE Uncharacterized ...</td><td>'tr|A0A024R1R8|A0A024R1R8_HUMAN HCG2014768, isof...</td><td style=\"text-align: right;\">      9</td><td style=\"text-align: right;\">     0   </td><td>protein   </td><td style=\"text-align: right;\">      6</td></tr>\n",
       "<tr><td><i style='opacity: 0.6'>7</i></td><td>'tr|A0A2K3CNV6|A0A2K3CNV6_CHLRE Uncharacterized ...</td><td>'tr|A0A024R1R8|A0A024R1R8_HUMAN HCG2014768, isof...</td><td style=\"text-align: right;\">     10</td><td style=\"text-align: right;\">     0   </td><td>protein   </td><td style=\"text-align: right;\">      7</td></tr>\n",
       "<tr><td><i style='opacity: 0.6'>8</i></td><td>'tr|A0A2K3CNV6|A0A2K3CNV6_CHLRE Uncharacterized ...</td><td>'tr|A0A024R1R8|A0A024R1R8_HUMAN HCG2014768, isof...</td><td style=\"text-align: right;\">     11</td><td style=\"text-align: right;\">     0   </td><td>protein   </td><td style=\"text-align: right;\">      8</td></tr>\n",
       "<tr><td><i style='opacity: 0.6'>9</i></td><td>'tr|A0A2K3CNV6|A0A2K3CNV6_CHLRE Uncharacterized ...</td><td>'tr|A0A024R1R8|A0A024R1R8_HUMAN HCG2014768, isof...</td><td style=\"text-align: right;\">     12</td><td style=\"text-align: right;\">     0   </td><td>protein   </td><td style=\"text-align: right;\">      9</td></tr>\n",
       "</tbody>\n",
       "</table>"
      ],
      "text/plain": [
       "  #  id1                                                  id2                                                    ksize    jaccard  molecule      index\n",
       "  0  'tr|A0A2K3CNV6|A0A2K3CNV6_CHLRE Uncharacterized ...  'tr|A0A024R1R8|A0A024R1R8_HUMAN HCG2014768, isof...        3       0.05  protein           0\n",
       "  1  'tr|A0A2K3CNV6|A0A2K3CNV6_CHLRE Uncharacterized ...  'tr|A0A024R1R8|A0A024R1R8_HUMAN HCG2014768, isof...        4       0     protein           1\n",
       "  2  'tr|A0A2K3CNV6|A0A2K3CNV6_CHLRE Uncharacterized ...  'tr|A0A024R1R8|A0A024R1R8_HUMAN HCG2014768, isof...        5       0     protein           2\n",
       "  3  'tr|A0A2K3CNV6|A0A2K3CNV6_CHLRE Uncharacterized ...  'tr|A0A024R1R8|A0A024R1R8_HUMAN HCG2014768, isof...        6       0     protein           3\n",
       "  4  'tr|A0A2K3CNV6|A0A2K3CNV6_CHLRE Uncharacterized ...  'tr|A0A024R1R8|A0A024R1R8_HUMAN HCG2014768, isof...        7       0     protein           4\n",
       "  5  'tr|A0A2K3CNV6|A0A2K3CNV6_CHLRE Uncharacterized ...  'tr|A0A024R1R8|A0A024R1R8_HUMAN HCG2014768, isof...        8       0     protein           5\n",
       "  6  'tr|A0A2K3CNV6|A0A2K3CNV6_CHLRE Uncharacterized ...  'tr|A0A024R1R8|A0A024R1R8_HUMAN HCG2014768, isof...        9       0     protein           6\n",
       "  7  'tr|A0A2K3CNV6|A0A2K3CNV6_CHLRE Uncharacterized ...  'tr|A0A024R1R8|A0A024R1R8_HUMAN HCG2014768, isof...       10       0     protein           7\n",
       "  8  'tr|A0A2K3CNV6|A0A2K3CNV6_CHLRE Uncharacterized ...  'tr|A0A024R1R8|A0A024R1R8_HUMAN HCG2014768, isof...       11       0     protein           8\n",
       "  9  'tr|A0A2K3CNV6|A0A2K3CNV6_CHLRE Uncharacterized ...  'tr|A0A024R1R8|A0A024R1R8_HUMAN HCG2014768, isof...       12       0     protein           9"
      ]
     },
     "execution_count": 50,
     "metadata": {},
     "output_type": "execute_result"
    }
   ],
   "source": [
    "%time from_hdf5 = vaex.open(hdf5)\n",
    "from_hdf5.head()"
   ]
  },
  {
   "cell_type": "code",
   "execution_count": 44,
   "metadata": {},
   "outputs": [
    {
     "name": "stdout",
     "output_type": "stream",
     "text": [
      "CPU times: user 4.45 s, sys: 9.96 s, total: 14.4 s\n",
      "Wall time: 13 s\n",
      "-rw-r--r-- 1 olga czb 8.8G Jan  7 14:03 /home/olga/scratch/tr__A0A2K3CNV6__A0A2K3CNV6_CHLRE.arrow\n"
     ]
    }
   ],
   "source": [
    "arrow = f'/home/olga/scratch/{prefix}.arrow'\n",
    "%time df_vx.export_arrow(arrow)\n",
    "\n",
    "! ls -lha $arrow"
   ]
  },
  {
   "cell_type": "code",
   "execution_count": 52,
   "metadata": {},
   "outputs": [
    {
     "data": {
      "text/plain": [
       "'1.0.0-beta.6'"
      ]
     },
     "execution_count": 52,
     "metadata": {},
     "output_type": "execute_result"
    }
   ],
   "source": []
  },
  {
   "cell_type": "code",
   "execution_count": 51,
   "metadata": {},
   "outputs": [
    {
     "name": "stdout",
     "output_type": "stream",
     "text": [
      "CPU times: user 98.4 ms, sys: 24.3 ms, total: 123 ms\n",
      "Wall time: 121 ms\n"
     ]
    },
    {
     "ename": "ValueError",
     "evalue": "array is of length 17602324, while the length of the DataFrame is 32994760",
     "output_type": "error",
     "traceback": [
      "\u001b[0;31m---------------------------------------------------------------------------\u001b[0m",
      "\u001b[0;31mValueError\u001b[0m                                Traceback (most recent call last)",
      "\u001b[0;32m<ipython-input-51-552be735c8e3>\u001b[0m in \u001b[0;36m<module>\u001b[0;34m\u001b[0m\n\u001b[1;32m      1\u001b[0m \u001b[0mget_ipython\u001b[0m\u001b[0;34m(\u001b[0m\u001b[0;34m)\u001b[0m\u001b[0;34m.\u001b[0m\u001b[0mrun_line_magic\u001b[0m\u001b[0;34m(\u001b[0m\u001b[0;34m'time'\u001b[0m\u001b[0;34m,\u001b[0m \u001b[0;34m'from_arrow = vaex.open(arrow)'\u001b[0m\u001b[0;34m)\u001b[0m\u001b[0;34m\u001b[0m\u001b[0;34m\u001b[0m\u001b[0m\n\u001b[0;32m----> 2\u001b[0;31m \u001b[0mfrom_arrow\u001b[0m\u001b[0;34m.\u001b[0m\u001b[0mhead\u001b[0m\u001b[0;34m(\u001b[0m\u001b[0;34m)\u001b[0m\u001b[0;34m\u001b[0m\u001b[0;34m\u001b[0m\u001b[0m\n\u001b[0m",
      "\u001b[0;32m~/miniconda3/envs/khtools--encodings--compare-cli/lib/python3.8/site-packages/vaex/dataframe.py\u001b[0m in \u001b[0;36mhead\u001b[0;34m(self, n)\u001b[0m\n\u001b[1;32m   3397\u001b[0m     \u001b[0;32mdef\u001b[0m \u001b[0mhead\u001b[0m\u001b[0;34m(\u001b[0m\u001b[0mself\u001b[0m\u001b[0;34m,\u001b[0m \u001b[0mn\u001b[0m\u001b[0;34m=\u001b[0m\u001b[0;36m10\u001b[0m\u001b[0;34m)\u001b[0m\u001b[0;34m:\u001b[0m\u001b[0;34m\u001b[0m\u001b[0;34m\u001b[0m\u001b[0m\n\u001b[1;32m   3398\u001b[0m         \u001b[0;34m\"\"\"Return a shallow copy a DataFrame with the first n rows.\"\"\"\u001b[0m\u001b[0;34m\u001b[0m\u001b[0;34m\u001b[0m\u001b[0m\n\u001b[0;32m-> 3399\u001b[0;31m         \u001b[0;32mreturn\u001b[0m \u001b[0mself\u001b[0m\u001b[0;34m[\u001b[0m\u001b[0;34m:\u001b[0m\u001b[0mmin\u001b[0m\u001b[0;34m(\u001b[0m\u001b[0mn\u001b[0m\u001b[0;34m,\u001b[0m \u001b[0mlen\u001b[0m\u001b[0;34m(\u001b[0m\u001b[0mself\u001b[0m\u001b[0;34m)\u001b[0m\u001b[0;34m)\u001b[0m\u001b[0;34m]\u001b[0m\u001b[0;34m\u001b[0m\u001b[0;34m\u001b[0m\u001b[0m\n\u001b[0m\u001b[1;32m   3400\u001b[0m \u001b[0;34m\u001b[0m\u001b[0m\n\u001b[1;32m   3401\u001b[0m     \u001b[0;32mdef\u001b[0m \u001b[0mtail\u001b[0m\u001b[0;34m(\u001b[0m\u001b[0mself\u001b[0m\u001b[0;34m,\u001b[0m \u001b[0mn\u001b[0m\u001b[0;34m=\u001b[0m\u001b[0;36m10\u001b[0m\u001b[0;34m)\u001b[0m\u001b[0;34m:\u001b[0m\u001b[0;34m\u001b[0m\u001b[0;34m\u001b[0m\u001b[0m\n",
      "\u001b[0;32m~/miniconda3/envs/khtools--encodings--compare-cli/lib/python3.8/site-packages/vaex/dataframe.py\u001b[0m in \u001b[0;36m__getitem__\u001b[0;34m(self, item)\u001b[0m\n\u001b[1;32m   4552\u001b[0m                 \u001b[0;32massert\u001b[0m \u001b[0mstop\u001b[0m \u001b[0;34m!=\u001b[0m \u001b[0;34m-\u001b[0m\u001b[0;36m1\u001b[0m\u001b[0;34m\u001b[0m\u001b[0;34m\u001b[0m\u001b[0m\n\u001b[1;32m   4553\u001b[0m                 \u001b[0mstop\u001b[0m \u001b[0;34m=\u001b[0m \u001b[0mstop\u001b[0m\u001b[0;34m+\u001b[0m\u001b[0;36m1\u001b[0m  \u001b[0;31m# +1 to make it inclusive\u001b[0m\u001b[0;34m\u001b[0m\u001b[0;34m\u001b[0m\u001b[0m\n\u001b[0;32m-> 4554\u001b[0;31m             \u001b[0mdf\u001b[0m \u001b[0;34m=\u001b[0m \u001b[0mself\u001b[0m\u001b[0;34m.\u001b[0m\u001b[0mtrim\u001b[0m\u001b[0;34m(\u001b[0m\u001b[0;34m)\u001b[0m\u001b[0;34m\u001b[0m\u001b[0;34m\u001b[0m\u001b[0m\n\u001b[0m\u001b[1;32m   4555\u001b[0m             \u001b[0mdf\u001b[0m\u001b[0;34m.\u001b[0m\u001b[0mset_active_range\u001b[0m\u001b[0;34m(\u001b[0m\u001b[0mstart\u001b[0m\u001b[0;34m,\u001b[0m \u001b[0mstop\u001b[0m\u001b[0;34m)\u001b[0m\u001b[0;34m\u001b[0m\u001b[0;34m\u001b[0m\u001b[0m\n\u001b[1;32m   4556\u001b[0m             \u001b[0;32mreturn\u001b[0m \u001b[0mdf\u001b[0m\u001b[0;34m.\u001b[0m\u001b[0mtrim\u001b[0m\u001b[0;34m(\u001b[0m\u001b[0;34m)\u001b[0m\u001b[0;34m\u001b[0m\u001b[0;34m\u001b[0m\u001b[0m\n",
      "\u001b[0;32m~/miniconda3/envs/khtools--encodings--compare-cli/lib/python3.8/site-packages/vaex/dataframe.py\u001b[0m in \u001b[0;36mtrim\u001b[0;34m(self, inplace)\u001b[0m\n\u001b[1;32m   3782\u001b[0m         \u001b[0;34m:\u001b[0m\u001b[0mrtype\u001b[0m\u001b[0;34m:\u001b[0m \u001b[0mDataFrame\u001b[0m\u001b[0;34m\u001b[0m\u001b[0;34m\u001b[0m\u001b[0m\n\u001b[1;32m   3783\u001b[0m         '''\n\u001b[0;32m-> 3784\u001b[0;31m         \u001b[0mdf\u001b[0m \u001b[0;34m=\u001b[0m \u001b[0mself\u001b[0m \u001b[0;32mif\u001b[0m \u001b[0minplace\u001b[0m \u001b[0;32melse\u001b[0m \u001b[0mself\u001b[0m\u001b[0;34m.\u001b[0m\u001b[0mcopy\u001b[0m\u001b[0;34m(\u001b[0m\u001b[0;34m)\u001b[0m\u001b[0;34m\u001b[0m\u001b[0;34m\u001b[0m\u001b[0m\n\u001b[0m\u001b[1;32m   3785\u001b[0m         \u001b[0;32mif\u001b[0m \u001b[0mself\u001b[0m\u001b[0;34m.\u001b[0m\u001b[0m_index_start\u001b[0m \u001b[0;34m==\u001b[0m \u001b[0;36m0\u001b[0m \u001b[0;32mand\u001b[0m \u001b[0mself\u001b[0m\u001b[0;34m.\u001b[0m\u001b[0m_index_end\u001b[0m \u001b[0;34m==\u001b[0m \u001b[0mself\u001b[0m\u001b[0;34m.\u001b[0m\u001b[0m_length_original\u001b[0m\u001b[0;34m:\u001b[0m\u001b[0;34m\u001b[0m\u001b[0;34m\u001b[0m\u001b[0m\n\u001b[1;32m   3786\u001b[0m             \u001b[0;32mreturn\u001b[0m \u001b[0mdf\u001b[0m\u001b[0;34m\u001b[0m\u001b[0;34m\u001b[0m\u001b[0m\n",
      "\u001b[0;32m~/miniconda3/envs/khtools--encodings--compare-cli/lib/python3.8/site-packages/vaex/dataframe.py\u001b[0m in \u001b[0;36mcopy\u001b[0;34m(self, column_names, virtual)\u001b[0m\n\u001b[1;32m   4852\u001b[0m                     \u001b[0mcolumn\u001b[0m \u001b[0;34m=\u001b[0m \u001b[0mself\u001b[0m\u001b[0;34m.\u001b[0m\u001b[0mcolumns\u001b[0m\u001b[0;34m[\u001b[0m\u001b[0mname\u001b[0m\u001b[0;34m]\u001b[0m\u001b[0;34m\u001b[0m\u001b[0;34m\u001b[0m\u001b[0m\n\u001b[1;32m   4853\u001b[0m                     \u001b[0;32mif\u001b[0m \u001b[0;32mnot\u001b[0m \u001b[0misinstance\u001b[0m\u001b[0;34m(\u001b[0m\u001b[0mcolumn\u001b[0m\u001b[0;34m,\u001b[0m \u001b[0mColumnSparse\u001b[0m\u001b[0;34m)\u001b[0m\u001b[0;34m:\u001b[0m\u001b[0;34m\u001b[0m\u001b[0;34m\u001b[0m\u001b[0m\n\u001b[0;32m-> 4854\u001b[0;31m                         \u001b[0mdf\u001b[0m\u001b[0;34m.\u001b[0m\u001b[0madd_column\u001b[0m\u001b[0;34m(\u001b[0m\u001b[0mname\u001b[0m\u001b[0;34m,\u001b[0m \u001b[0mcolumn\u001b[0m\u001b[0;34m,\u001b[0m \u001b[0mdtype\u001b[0m\u001b[0;34m=\u001b[0m\u001b[0mself\u001b[0m\u001b[0;34m.\u001b[0m\u001b[0m_dtypes_override\u001b[0m\u001b[0;34m.\u001b[0m\u001b[0mget\u001b[0m\u001b[0;34m(\u001b[0m\u001b[0mname\u001b[0m\u001b[0;34m)\u001b[0m\u001b[0;34m)\u001b[0m\u001b[0;34m\u001b[0m\u001b[0;34m\u001b[0m\u001b[0m\n\u001b[0m\u001b[1;32m   4855\u001b[0m                 \u001b[0;32melif\u001b[0m \u001b[0mname\u001b[0m \u001b[0;32min\u001b[0m \u001b[0mself\u001b[0m\u001b[0;34m.\u001b[0m\u001b[0mvirtual_columns\u001b[0m\u001b[0;34m:\u001b[0m\u001b[0;34m\u001b[0m\u001b[0;34m\u001b[0m\u001b[0m\n\u001b[1;32m   4856\u001b[0m                     \u001b[0;32mif\u001b[0m \u001b[0mvirtual\u001b[0m\u001b[0;34m:\u001b[0m  \u001b[0;31m# TODO: check if the ast is cached\u001b[0m\u001b[0;34m\u001b[0m\u001b[0;34m\u001b[0m\u001b[0m\n",
      "\u001b[0;32m~/miniconda3/envs/khtools--encodings--compare-cli/lib/python3.8/site-packages/vaex/dataframe.py\u001b[0m in \u001b[0;36madd_column\u001b[0;34m(self, name, data, dtype)\u001b[0m\n\u001b[1;32m   5819\u001b[0m         \u001b[0;31m#     self._length_original = len(data)\u001b[0m\u001b[0;34m\u001b[0m\u001b[0;34m\u001b[0m\u001b[0;34m\u001b[0m\u001b[0m\n\u001b[1;32m   5820\u001b[0m         \u001b[0;31m#     self._index_end = self._length_unfiltered\u001b[0m\u001b[0;34m\u001b[0m\u001b[0;34m\u001b[0m\u001b[0;34m\u001b[0m\u001b[0m\n\u001b[0;32m-> 5821\u001b[0;31m         \u001b[0msuper\u001b[0m\u001b[0;34m(\u001b[0m\u001b[0mDataFrameArrays\u001b[0m\u001b[0;34m,\u001b[0m \u001b[0mself\u001b[0m\u001b[0;34m)\u001b[0m\u001b[0;34m.\u001b[0m\u001b[0madd_column\u001b[0m\u001b[0;34m(\u001b[0m\u001b[0mname\u001b[0m\u001b[0;34m,\u001b[0m \u001b[0mdata\u001b[0m\u001b[0;34m,\u001b[0m \u001b[0mdtype\u001b[0m\u001b[0;34m=\u001b[0m\u001b[0mdtype\u001b[0m\u001b[0;34m)\u001b[0m\u001b[0;34m\u001b[0m\u001b[0;34m\u001b[0m\u001b[0m\n\u001b[0m\u001b[1;32m   5822\u001b[0m         \u001b[0mself\u001b[0m\u001b[0;34m.\u001b[0m\u001b[0m_length_unfiltered\u001b[0m \u001b[0;34m=\u001b[0m \u001b[0mint\u001b[0m\u001b[0;34m(\u001b[0m\u001b[0mround\u001b[0m\u001b[0;34m(\u001b[0m\u001b[0mself\u001b[0m\u001b[0;34m.\u001b[0m\u001b[0m_length_original\u001b[0m \u001b[0;34m*\u001b[0m \u001b[0mself\u001b[0m\u001b[0;34m.\u001b[0m\u001b[0m_active_fraction\u001b[0m\u001b[0;34m)\u001b[0m\u001b[0;34m)\u001b[0m\u001b[0;34m\u001b[0m\u001b[0;34m\u001b[0m\u001b[0m\n\u001b[1;32m   5823\u001b[0m         \u001b[0;31m# self.set_active_fraction(self._active_fraction)\u001b[0m\u001b[0;34m\u001b[0m\u001b[0;34m\u001b[0m\u001b[0;34m\u001b[0m\u001b[0m\n",
      "\u001b[0;32m~/miniconda3/envs/khtools--encodings--compare-cli/lib/python3.8/site-packages/vaex/dataframe.py\u001b[0m in \u001b[0;36madd_column\u001b[0;34m(self, name, f_or_array, dtype)\u001b[0m\n\u001b[1;32m   2929\u001b[0m                     \u001b[0;32mif\u001b[0m \u001b[0mlen\u001b[0m\u001b[0;34m(\u001b[0m\u001b[0mself\u001b[0m\u001b[0;34m)\u001b[0m \u001b[0;34m==\u001b[0m \u001b[0mlen\u001b[0m\u001b[0;34m(\u001b[0m\u001b[0mar\u001b[0m\u001b[0;34m)\u001b[0m\u001b[0;34m:\u001b[0m\u001b[0;34m\u001b[0m\u001b[0;34m\u001b[0m\u001b[0m\n\u001b[1;32m   2930\u001b[0m                         \u001b[0;32mraise\u001b[0m \u001b[0mValueError\u001b[0m\u001b[0;34m(\u001b[0m\u001b[0;34m\"Array is of length %s, while the length of the DataFrame is %s due to the filtering, the (unfiltered) length is %s.\"\u001b[0m \u001b[0;34m%\u001b[0m \u001b[0;34m(\u001b[0m\u001b[0mlen\u001b[0m\u001b[0;34m(\u001b[0m\u001b[0mar\u001b[0m\u001b[0;34m)\u001b[0m\u001b[0;34m,\u001b[0m \u001b[0mlen\u001b[0m\u001b[0;34m(\u001b[0m\u001b[0mself\u001b[0m\u001b[0;34m)\u001b[0m\u001b[0;34m,\u001b[0m \u001b[0mself\u001b[0m\u001b[0;34m.\u001b[0m\u001b[0mlength_unfiltered\u001b[0m\u001b[0;34m(\u001b[0m\u001b[0;34m)\u001b[0m\u001b[0;34m)\u001b[0m\u001b[0;34m)\u001b[0m\u001b[0;34m\u001b[0m\u001b[0;34m\u001b[0m\u001b[0m\n\u001b[0;32m-> 2931\u001b[0;31m                 \u001b[0;32mraise\u001b[0m \u001b[0mValueError\u001b[0m\u001b[0;34m(\u001b[0m\u001b[0;34m\"array is of length %s, while the length of the DataFrame is %s\"\u001b[0m \u001b[0;34m%\u001b[0m \u001b[0;34m(\u001b[0m\u001b[0mlen\u001b[0m\u001b[0;34m(\u001b[0m\u001b[0mar\u001b[0m\u001b[0;34m)\u001b[0m\u001b[0;34m,\u001b[0m \u001b[0mself\u001b[0m\u001b[0;34m.\u001b[0m\u001b[0mlength_original\u001b[0m\u001b[0;34m(\u001b[0m\u001b[0;34m)\u001b[0m\u001b[0;34m)\u001b[0m\u001b[0;34m)\u001b[0m\u001b[0;34m\u001b[0m\u001b[0;34m\u001b[0m\u001b[0m\n\u001b[0m\u001b[1;32m   2932\u001b[0m             \u001b[0;31m# assert self.length_unfiltered() == len(data), \"columns should be of equal length, length should be %d, while it is %d\" % ( self.length_unfiltered(), len(data))\u001b[0m\u001b[0;34m\u001b[0m\u001b[0;34m\u001b[0m\u001b[0;34m\u001b[0m\u001b[0m\n\u001b[1;32m   2933\u001b[0m             \u001b[0mvalid_name\u001b[0m \u001b[0;34m=\u001b[0m \u001b[0mvaex\u001b[0m\u001b[0;34m.\u001b[0m\u001b[0mutils\u001b[0m\u001b[0;34m.\u001b[0m\u001b[0mfind_valid_name\u001b[0m\u001b[0;34m(\u001b[0m\u001b[0mname\u001b[0m\u001b[0;34m)\u001b[0m\u001b[0;34m\u001b[0m\u001b[0;34m\u001b[0m\u001b[0m\n",
      "\u001b[0;31mValueError\u001b[0m: array is of length 17602324, while the length of the DataFrame is 32994760"
     ]
    }
   ],
   "source": [
    "%time from_arrow = vaex.open(arrow)\n",
    "from_arrow.head()"
   ]
  },
  {
   "cell_type": "code",
   "execution_count": 36,
   "metadata": {},
   "outputs": [
    {
     "data": {
      "text/plain": [
       "277.77777777777777"
      ]
     },
     "execution_count": 36,
     "metadata": {},
     "output_type": "execute_result"
    }
   ],
   "source": [
    "500 * 2000 / 60 / 60"
   ]
  },
  {
   "cell_type": "markdown",
   "metadata": {},
   "source": [
    "277 hours???"
   ]
  },
  {
   "cell_type": "code",
   "execution_count": 34,
   "metadata": {},
   "outputs": [
    {
     "data": {
      "text/plain": [
       "defaultdict(dict,\n",
       "            {'tr__A0A2K3CNV6__A0A2K3CNV6_CHLRE': {'pandas__read_parquet': 8.137545347213745}})"
      ]
     },
     "execution_count": 34,
     "metadata": {},
     "output_type": "execute_result"
    }
   ],
   "source": [
    "ts"
   ]
  },
  {
   "cell_type": "code",
   "execution_count": 28,
   "metadata": {},
   "outputs": [
    {
     "data": {
      "text/plain": [
       "(32994760, 5)"
      ]
     },
     "execution_count": 28,
     "metadata": {},
     "output_type": "execute_result"
    }
   ],
   "source": [
    "df.shape"
   ]
  },
  {
   "cell_type": "code",
   "execution_count": 39,
   "metadata": {},
   "outputs": [
    {
     "data": {
      "text/plain": [
       "791"
      ]
     },
     "execution_count": 39,
     "metadata": {},
     "output_type": "execute_result"
    }
   ],
   "source": [
    "len(dfs)"
   ]
  },
  {
   "cell_type": "code",
   "execution_count": 35,
   "metadata": {},
   "outputs": [],
   "source": [
    "# kmer_similarity = pd.concat(dfs)"
   ]
  },
  {
   "cell_type": "code",
   "execution_count": 36,
   "metadata": {},
   "outputs": [
    {
     "name": "stdout",
     "output_type": "stream",
     "text": [
      "(2540596520, 5)\n"
     ]
    },
    {
     "data": {
      "text/html": [
       "<div>\n",
       "<style scoped>\n",
       "    .dataframe tbody tr th:only-of-type {\n",
       "        vertical-align: middle;\n",
       "    }\n",
       "\n",
       "    .dataframe tbody tr th {\n",
       "        vertical-align: top;\n",
       "    }\n",
       "\n",
       "    .dataframe thead th {\n",
       "        text-align: right;\n",
       "    }\n",
       "</style>\n",
       "<table border=\"1\" class=\"dataframe\">\n",
       "  <thead>\n",
       "    <tr style=\"text-align: right;\">\n",
       "      <th></th>\n",
       "      <th>id1</th>\n",
       "      <th>id2</th>\n",
       "      <th>ksize</th>\n",
       "      <th>jaccard</th>\n",
       "      <th>molecule</th>\n",
       "    </tr>\n",
       "  </thead>\n",
       "  <tbody>\n",
       "    <tr>\n",
       "      <th>0</th>\n",
       "      <td>sp|O94363|RHB1_SCHPO GTP-binding protein rhb1 ...</td>\n",
       "      <td>tr|A0A024R1R8|A0A024R1R8_HUMAN HCG2014768, iso...</td>\n",
       "      <td>3</td>\n",
       "      <td>0.083333</td>\n",
       "      <td>protein</td>\n",
       "    </tr>\n",
       "    <tr>\n",
       "      <th>1</th>\n",
       "      <td>sp|O94363|RHB1_SCHPO GTP-binding protein rhb1 ...</td>\n",
       "      <td>tr|A0A024R1R8|A0A024R1R8_HUMAN HCG2014768, iso...</td>\n",
       "      <td>4</td>\n",
       "      <td>0.000000</td>\n",
       "      <td>protein</td>\n",
       "    </tr>\n",
       "    <tr>\n",
       "      <th>2</th>\n",
       "      <td>sp|O94363|RHB1_SCHPO GTP-binding protein rhb1 ...</td>\n",
       "      <td>tr|A0A024R1R8|A0A024R1R8_HUMAN HCG2014768, iso...</td>\n",
       "      <td>5</td>\n",
       "      <td>0.000000</td>\n",
       "      <td>protein</td>\n",
       "    </tr>\n",
       "    <tr>\n",
       "      <th>3</th>\n",
       "      <td>sp|O94363|RHB1_SCHPO GTP-binding protein rhb1 ...</td>\n",
       "      <td>tr|A0A024R1R8|A0A024R1R8_HUMAN HCG2014768, iso...</td>\n",
       "      <td>6</td>\n",
       "      <td>0.000000</td>\n",
       "      <td>protein</td>\n",
       "    </tr>\n",
       "    <tr>\n",
       "      <th>4</th>\n",
       "      <td>sp|O94363|RHB1_SCHPO GTP-binding protein rhb1 ...</td>\n",
       "      <td>tr|A0A024R1R8|A0A024R1R8_HUMAN HCG2014768, iso...</td>\n",
       "      <td>7</td>\n",
       "      <td>0.000000</td>\n",
       "      <td>protein</td>\n",
       "    </tr>\n",
       "  </tbody>\n",
       "</table>\n",
       "</div>"
      ],
      "text/plain": [
       "                                                 id1  \\\n",
       "0  sp|O94363|RHB1_SCHPO GTP-binding protein rhb1 ...   \n",
       "1  sp|O94363|RHB1_SCHPO GTP-binding protein rhb1 ...   \n",
       "2  sp|O94363|RHB1_SCHPO GTP-binding protein rhb1 ...   \n",
       "3  sp|O94363|RHB1_SCHPO GTP-binding protein rhb1 ...   \n",
       "4  sp|O94363|RHB1_SCHPO GTP-binding protein rhb1 ...   \n",
       "\n",
       "                                                 id2  ksize   jaccard molecule  \n",
       "0  tr|A0A024R1R8|A0A024R1R8_HUMAN HCG2014768, iso...      3  0.083333  protein  \n",
       "1  tr|A0A024R1R8|A0A024R1R8_HUMAN HCG2014768, iso...      4  0.000000  protein  \n",
       "2  tr|A0A024R1R8|A0A024R1R8_HUMAN HCG2014768, iso...      5  0.000000  protein  \n",
       "3  tr|A0A024R1R8|A0A024R1R8_HUMAN HCG2014768, iso...      6  0.000000  protein  \n",
       "4  tr|A0A024R1R8|A0A024R1R8_HUMAN HCG2014768, iso...      7  0.000000  protein  "
      ]
     },
     "execution_count": 36,
     "metadata": {},
     "output_type": "execute_result"
    }
   ],
   "source": [
    "print(kmer_similarity.shape)\n",
    "kmer_similarity.head()"
   ]
  },
  {
   "cell_type": "code",
   "execution_count": null,
   "metadata": {},
   "outputs": [],
   "source": [
    "f'{len(kmer_similarity.index):,}'"
   ]
  },
  {
   "cell_type": "markdown",
   "metadata": {},
   "source": [
    "# Convert to vaex for speed"
   ]
  },
  {
   "cell_type": "code",
   "execution_count": null,
   "metadata": {},
   "outputs": [],
   "source": [
    "import vaex as vx"
   ]
  },
  {
   "cell_type": "code",
   "execution_count": null,
   "metadata": {},
   "outputs": [],
   "source": [
    "parquet"
   ]
  },
  {
   "cell_type": "code",
   "execution_count": null,
   "metadata": {},
   "outputs": [],
   "source": [
    "vaex.from_arrow_table(parquet)"
   ]
  },
  {
   "cell_type": "markdown",
   "metadata": {},
   "source": [
    "# Clean data"
   ]
  },
  {
   "cell_type": "markdown",
   "metadata": {},
   "source": [
    "## Extract protein ids from full name"
   ]
  },
  {
   "cell_type": "markdown",
   "metadata": {},
   "source": [
    "### Get unique ids as making a map on unique ids is faster"
   ]
  },
  {
   "cell_type": "code",
   "execution_count": null,
   "metadata": {},
   "outputs": [
    {
     "ename": "KeyboardInterrupt",
     "evalue": "",
     "output_type": "error",
     "traceback": [
      "\u001b[0;31m---------------------------------------------------------------------------\u001b[0m",
      "\u001b[0;31mKeyboardInterrupt\u001b[0m                         Traceback (most recent call last)",
      "\u001b[0;32m<timed exec>\u001b[0m in \u001b[0;36m<module>\u001b[0;34m\u001b[0m\n",
      "\u001b[0;32m~/miniconda3/envs/khtools--encodings--compare-cli/lib/python3.8/site-packages/pandas/core/series.py\u001b[0m in \u001b[0;36munique\u001b[0;34m(self)\u001b[0m\n\u001b[1;32m   1989\u001b[0m         \u001b[0mCategories\u001b[0m \u001b[0;34m(\u001b[0m\u001b[0;36m3\u001b[0m\u001b[0;34m,\u001b[0m \u001b[0mobject\u001b[0m\u001b[0;34m)\u001b[0m\u001b[0;34m:\u001b[0m \u001b[0;34m[\u001b[0m\u001b[0ma\u001b[0m \u001b[0;34m<\u001b[0m \u001b[0mb\u001b[0m \u001b[0;34m<\u001b[0m \u001b[0mc\u001b[0m\u001b[0;34m]\u001b[0m\u001b[0;34m\u001b[0m\u001b[0;34m\u001b[0m\u001b[0m\n\u001b[1;32m   1990\u001b[0m         \"\"\"\n\u001b[0;32m-> 1991\u001b[0;31m         \u001b[0mresult\u001b[0m \u001b[0;34m=\u001b[0m \u001b[0msuper\u001b[0m\u001b[0;34m(\u001b[0m\u001b[0;34m)\u001b[0m\u001b[0;34m.\u001b[0m\u001b[0munique\u001b[0m\u001b[0;34m(\u001b[0m\u001b[0;34m)\u001b[0m\u001b[0;34m\u001b[0m\u001b[0;34m\u001b[0m\u001b[0m\n\u001b[0m\u001b[1;32m   1992\u001b[0m         \u001b[0;32mreturn\u001b[0m \u001b[0mresult\u001b[0m\u001b[0;34m\u001b[0m\u001b[0;34m\u001b[0m\u001b[0m\n\u001b[1;32m   1993\u001b[0m \u001b[0;34m\u001b[0m\u001b[0m\n",
      "\u001b[0;32m~/miniconda3/envs/khtools--encodings--compare-cli/lib/python3.8/site-packages/pandas/core/base.py\u001b[0m in \u001b[0;36munique\u001b[0;34m(self)\u001b[0m\n\u001b[1;32m   1403\u001b[0m             \u001b[0;32mfrom\u001b[0m \u001b[0mpandas\u001b[0m\u001b[0;34m.\u001b[0m\u001b[0mcore\u001b[0m\u001b[0;34m.\u001b[0m\u001b[0malgorithms\u001b[0m \u001b[0;32mimport\u001b[0m \u001b[0munique1d\u001b[0m\u001b[0;34m\u001b[0m\u001b[0;34m\u001b[0m\u001b[0m\n\u001b[1;32m   1404\u001b[0m \u001b[0;34m\u001b[0m\u001b[0m\n\u001b[0;32m-> 1405\u001b[0;31m             \u001b[0mresult\u001b[0m \u001b[0;34m=\u001b[0m \u001b[0munique1d\u001b[0m\u001b[0;34m(\u001b[0m\u001b[0mvalues\u001b[0m\u001b[0;34m)\u001b[0m\u001b[0;34m\u001b[0m\u001b[0;34m\u001b[0m\u001b[0m\n\u001b[0m\u001b[1;32m   1406\u001b[0m \u001b[0;34m\u001b[0m\u001b[0m\n\u001b[1;32m   1407\u001b[0m         \u001b[0;32mreturn\u001b[0m \u001b[0mresult\u001b[0m\u001b[0;34m\u001b[0m\u001b[0;34m\u001b[0m\u001b[0m\n",
      "\u001b[0;32m~/miniconda3/envs/khtools--encodings--compare-cli/lib/python3.8/site-packages/pandas/core/algorithms.py\u001b[0m in \u001b[0;36munique\u001b[0;34m(values)\u001b[0m\n\u001b[1;32m    403\u001b[0m \u001b[0;34m\u001b[0m\u001b[0m\n\u001b[1;32m    404\u001b[0m     \u001b[0mtable\u001b[0m \u001b[0;34m=\u001b[0m \u001b[0mhtable\u001b[0m\u001b[0;34m(\u001b[0m\u001b[0mlen\u001b[0m\u001b[0;34m(\u001b[0m\u001b[0mvalues\u001b[0m\u001b[0;34m)\u001b[0m\u001b[0;34m)\u001b[0m\u001b[0;34m\u001b[0m\u001b[0;34m\u001b[0m\u001b[0m\n\u001b[0;32m--> 405\u001b[0;31m     \u001b[0muniques\u001b[0m \u001b[0;34m=\u001b[0m \u001b[0mtable\u001b[0m\u001b[0;34m.\u001b[0m\u001b[0munique\u001b[0m\u001b[0;34m(\u001b[0m\u001b[0mvalues\u001b[0m\u001b[0;34m)\u001b[0m\u001b[0;34m\u001b[0m\u001b[0;34m\u001b[0m\u001b[0m\n\u001b[0m\u001b[1;32m    406\u001b[0m     \u001b[0muniques\u001b[0m \u001b[0;34m=\u001b[0m \u001b[0m_reconstruct_data\u001b[0m\u001b[0;34m(\u001b[0m\u001b[0muniques\u001b[0m\u001b[0;34m,\u001b[0m \u001b[0mdtype\u001b[0m\u001b[0;34m,\u001b[0m \u001b[0moriginal\u001b[0m\u001b[0;34m)\u001b[0m\u001b[0;34m\u001b[0m\u001b[0;34m\u001b[0m\u001b[0m\n\u001b[1;32m    407\u001b[0m     \u001b[0;32mreturn\u001b[0m \u001b[0muniques\u001b[0m\u001b[0;34m\u001b[0m\u001b[0;34m\u001b[0m\u001b[0m\n",
      "\u001b[0;31mKeyboardInterrupt\u001b[0m: "
     ]
    }
   ],
   "source": [
    "%%time\n",
    "%time id1 = kmer_similarity.id1.unique()\n",
    "%time id2 = kmer_similarity.id2.unique()\n"
   ]
  },
  {
   "cell_type": "code",
   "execution_count": null,
   "metadata": {},
   "outputs": [],
   "source": [
    "all_ids = set(id1) + set(id2)\n",
    "len(all_ids)"
   ]
  },
  {
   "cell_type": "code",
   "execution_count": 38,
   "metadata": {},
   "outputs": [
    {
     "ename": "KeyboardInterrupt",
     "evalue": "",
     "output_type": "error",
     "traceback": [
      "\u001b[0;31m---------------------------------------------------------------------------\u001b[0m",
      "\u001b[0;31mKeyboardInterrupt\u001b[0m                         Traceback (most recent call last)",
      "\u001b[0;32m<ipython-input-38-2ba9b12642d5>\u001b[0m in \u001b[0;36m<module>\u001b[0;34m\u001b[0m\n\u001b[1;32m      2\u001b[0m     \u001b[0;32mreturn\u001b[0m \u001b[0mx\u001b[0m\u001b[0;34m.\u001b[0m\u001b[0msplit\u001b[0m\u001b[0;34m(\u001b[0m\u001b[0;34m'|'\u001b[0m\u001b[0;34m)\u001b[0m\u001b[0;34m[\u001b[0m\u001b[0;36m1\u001b[0m\u001b[0;34m]\u001b[0m\u001b[0;34m\u001b[0m\u001b[0;34m\u001b[0m\u001b[0m\n\u001b[1;32m      3\u001b[0m \u001b[0;34m\u001b[0m\u001b[0m\n\u001b[0;32m----> 4\u001b[0;31m \u001b[0mkmer_similarity\u001b[0m\u001b[0;34m[\u001b[0m\u001b[0;34m'protein_id1'\u001b[0m\u001b[0;34m]\u001b[0m \u001b[0;34m=\u001b[0m \u001b[0mkmer_similarity\u001b[0m\u001b[0;34m.\u001b[0m\u001b[0mid1\u001b[0m\u001b[0;34m.\u001b[0m\u001b[0mmap\u001b[0m\u001b[0;34m(\u001b[0m\u001b[0mextract_protein_id\u001b[0m\u001b[0;34m)\u001b[0m\u001b[0;34m\u001b[0m\u001b[0;34m\u001b[0m\u001b[0m\n\u001b[0m\u001b[1;32m      5\u001b[0m \u001b[0mkmer_similarity\u001b[0m\u001b[0;34m[\u001b[0m\u001b[0;34m'protein_id2'\u001b[0m\u001b[0;34m]\u001b[0m \u001b[0;34m=\u001b[0m \u001b[0mkmer_similarity\u001b[0m\u001b[0;34m.\u001b[0m\u001b[0mid2\u001b[0m\u001b[0;34m.\u001b[0m\u001b[0mmap\u001b[0m\u001b[0;34m(\u001b[0m\u001b[0mextract_protein_id\u001b[0m\u001b[0;34m)\u001b[0m\u001b[0;34m\u001b[0m\u001b[0;34m\u001b[0m\u001b[0m\n\u001b[1;32m      6\u001b[0m \u001b[0mkmer_similarity\u001b[0m\u001b[0;34m.\u001b[0m\u001b[0mhead\u001b[0m\u001b[0;34m(\u001b[0m\u001b[0;34m)\u001b[0m\u001b[0;34m\u001b[0m\u001b[0;34m\u001b[0m\u001b[0m\n",
      "\u001b[0;32m~/miniconda3/envs/khtools--encodings--compare-cli/lib/python3.8/site-packages/pandas/core/series.py\u001b[0m in \u001b[0;36mmap\u001b[0;34m(self, arg, na_action)\u001b[0m\n\u001b[1;32m   3826\u001b[0m         \u001b[0mdtype\u001b[0m\u001b[0;34m:\u001b[0m \u001b[0mobject\u001b[0m\u001b[0;34m\u001b[0m\u001b[0;34m\u001b[0m\u001b[0m\n\u001b[1;32m   3827\u001b[0m         \"\"\"\n\u001b[0;32m-> 3828\u001b[0;31m         \u001b[0mnew_values\u001b[0m \u001b[0;34m=\u001b[0m \u001b[0msuper\u001b[0m\u001b[0;34m(\u001b[0m\u001b[0;34m)\u001b[0m\u001b[0;34m.\u001b[0m\u001b[0m_map_values\u001b[0m\u001b[0;34m(\u001b[0m\u001b[0marg\u001b[0m\u001b[0;34m,\u001b[0m \u001b[0mna_action\u001b[0m\u001b[0;34m=\u001b[0m\u001b[0mna_action\u001b[0m\u001b[0;34m)\u001b[0m\u001b[0;34m\u001b[0m\u001b[0;34m\u001b[0m\u001b[0m\n\u001b[0m\u001b[1;32m   3829\u001b[0m         \u001b[0;32mreturn\u001b[0m \u001b[0mself\u001b[0m\u001b[0;34m.\u001b[0m\u001b[0m_constructor\u001b[0m\u001b[0;34m(\u001b[0m\u001b[0mnew_values\u001b[0m\u001b[0;34m,\u001b[0m \u001b[0mindex\u001b[0m\u001b[0;34m=\u001b[0m\u001b[0mself\u001b[0m\u001b[0;34m.\u001b[0m\u001b[0mindex\u001b[0m\u001b[0;34m)\u001b[0m\u001b[0;34m.\u001b[0m\u001b[0m__finalize__\u001b[0m\u001b[0;34m(\u001b[0m\u001b[0mself\u001b[0m\u001b[0;34m)\u001b[0m\u001b[0;34m\u001b[0m\u001b[0;34m\u001b[0m\u001b[0m\n\u001b[1;32m   3830\u001b[0m \u001b[0;34m\u001b[0m\u001b[0m\n",
      "\u001b[0;32m~/miniconda3/envs/khtools--encodings--compare-cli/lib/python3.8/site-packages/pandas/core/base.py\u001b[0m in \u001b[0;36m_map_values\u001b[0;34m(self, mapper, na_action)\u001b[0m\n\u001b[1;32m   1287\u001b[0m             \u001b[0mmap_f\u001b[0m \u001b[0;34m=\u001b[0m \u001b[0;32mlambda\u001b[0m \u001b[0mvalues\u001b[0m\u001b[0;34m,\u001b[0m \u001b[0mf\u001b[0m\u001b[0;34m:\u001b[0m \u001b[0mvalues\u001b[0m\u001b[0;34m.\u001b[0m\u001b[0mmap\u001b[0m\u001b[0;34m(\u001b[0m\u001b[0mf\u001b[0m\u001b[0;34m)\u001b[0m\u001b[0;34m\u001b[0m\u001b[0;34m\u001b[0m\u001b[0m\n\u001b[1;32m   1288\u001b[0m         \u001b[0;32melse\u001b[0m\u001b[0;34m:\u001b[0m\u001b[0;34m\u001b[0m\u001b[0;34m\u001b[0m\u001b[0m\n\u001b[0;32m-> 1289\u001b[0;31m             \u001b[0mvalues\u001b[0m \u001b[0;34m=\u001b[0m \u001b[0mself\u001b[0m\u001b[0;34m.\u001b[0m\u001b[0mastype\u001b[0m\u001b[0;34m(\u001b[0m\u001b[0mobject\u001b[0m\u001b[0;34m)\u001b[0m\u001b[0;34m\u001b[0m\u001b[0;34m\u001b[0m\u001b[0m\n\u001b[0m\u001b[1;32m   1290\u001b[0m             \u001b[0mvalues\u001b[0m \u001b[0;34m=\u001b[0m \u001b[0mgetattr\u001b[0m\u001b[0;34m(\u001b[0m\u001b[0mvalues\u001b[0m\u001b[0;34m,\u001b[0m \u001b[0;34m\"values\"\u001b[0m\u001b[0;34m,\u001b[0m \u001b[0mvalues\u001b[0m\u001b[0;34m)\u001b[0m\u001b[0;34m\u001b[0m\u001b[0;34m\u001b[0m\u001b[0m\n\u001b[1;32m   1291\u001b[0m             \u001b[0;32mif\u001b[0m \u001b[0mna_action\u001b[0m \u001b[0;34m==\u001b[0m \u001b[0;34m\"ignore\"\u001b[0m\u001b[0;34m:\u001b[0m\u001b[0;34m\u001b[0m\u001b[0;34m\u001b[0m\u001b[0m\n",
      "\u001b[0;32m~/miniconda3/envs/khtools--encodings--compare-cli/lib/python3.8/site-packages/pandas/core/generic.py\u001b[0m in \u001b[0;36mastype\u001b[0;34m(self, dtype, copy, errors, **kwargs)\u001b[0m\n\u001b[1;32m   5879\u001b[0m         \u001b[0;32melse\u001b[0m\u001b[0;34m:\u001b[0m\u001b[0;34m\u001b[0m\u001b[0;34m\u001b[0m\u001b[0m\n\u001b[1;32m   5880\u001b[0m             \u001b[0;31m# else, only a single dtype is given\u001b[0m\u001b[0;34m\u001b[0m\u001b[0;34m\u001b[0m\u001b[0;34m\u001b[0m\u001b[0m\n\u001b[0;32m-> 5881\u001b[0;31m             new_data = self._data.astype(\n\u001b[0m\u001b[1;32m   5882\u001b[0m                 \u001b[0mdtype\u001b[0m\u001b[0;34m=\u001b[0m\u001b[0mdtype\u001b[0m\u001b[0;34m,\u001b[0m \u001b[0mcopy\u001b[0m\u001b[0;34m=\u001b[0m\u001b[0mcopy\u001b[0m\u001b[0;34m,\u001b[0m \u001b[0merrors\u001b[0m\u001b[0;34m=\u001b[0m\u001b[0merrors\u001b[0m\u001b[0;34m,\u001b[0m \u001b[0;34m**\u001b[0m\u001b[0mkwargs\u001b[0m\u001b[0;34m\u001b[0m\u001b[0;34m\u001b[0m\u001b[0m\n\u001b[1;32m   5883\u001b[0m             )\n",
      "\u001b[0;32m~/miniconda3/envs/khtools--encodings--compare-cli/lib/python3.8/site-packages/pandas/core/internals/managers.py\u001b[0m in \u001b[0;36mastype\u001b[0;34m(self, dtype, **kwargs)\u001b[0m\n\u001b[1;32m    579\u001b[0m \u001b[0;34m\u001b[0m\u001b[0m\n\u001b[1;32m    580\u001b[0m     \u001b[0;32mdef\u001b[0m \u001b[0mastype\u001b[0m\u001b[0;34m(\u001b[0m\u001b[0mself\u001b[0m\u001b[0;34m,\u001b[0m \u001b[0mdtype\u001b[0m\u001b[0;34m,\u001b[0m \u001b[0;34m**\u001b[0m\u001b[0mkwargs\u001b[0m\u001b[0;34m)\u001b[0m\u001b[0;34m:\u001b[0m\u001b[0;34m\u001b[0m\u001b[0;34m\u001b[0m\u001b[0m\n\u001b[0;32m--> 581\u001b[0;31m         \u001b[0;32mreturn\u001b[0m \u001b[0mself\u001b[0m\u001b[0;34m.\u001b[0m\u001b[0mapply\u001b[0m\u001b[0;34m(\u001b[0m\u001b[0;34m\"astype\"\u001b[0m\u001b[0;34m,\u001b[0m \u001b[0mdtype\u001b[0m\u001b[0;34m=\u001b[0m\u001b[0mdtype\u001b[0m\u001b[0;34m,\u001b[0m \u001b[0;34m**\u001b[0m\u001b[0mkwargs\u001b[0m\u001b[0;34m)\u001b[0m\u001b[0;34m\u001b[0m\u001b[0;34m\u001b[0m\u001b[0m\n\u001b[0m\u001b[1;32m    582\u001b[0m \u001b[0;34m\u001b[0m\u001b[0m\n\u001b[1;32m    583\u001b[0m     \u001b[0;32mdef\u001b[0m \u001b[0mconvert\u001b[0m\u001b[0;34m(\u001b[0m\u001b[0mself\u001b[0m\u001b[0;34m,\u001b[0m \u001b[0;34m**\u001b[0m\u001b[0mkwargs\u001b[0m\u001b[0;34m)\u001b[0m\u001b[0;34m:\u001b[0m\u001b[0;34m\u001b[0m\u001b[0;34m\u001b[0m\u001b[0m\n",
      "\u001b[0;32m~/miniconda3/envs/khtools--encodings--compare-cli/lib/python3.8/site-packages/pandas/core/internals/managers.py\u001b[0m in \u001b[0;36mapply\u001b[0;34m(self, f, axes, filter, do_integrity_check, consolidate, **kwargs)\u001b[0m\n\u001b[1;32m    436\u001b[0m                     \u001b[0mkwargs\u001b[0m\u001b[0;34m[\u001b[0m\u001b[0mk\u001b[0m\u001b[0;34m]\u001b[0m \u001b[0;34m=\u001b[0m \u001b[0mobj\u001b[0m\u001b[0;34m.\u001b[0m\u001b[0mreindex\u001b[0m\u001b[0;34m(\u001b[0m\u001b[0mb_items\u001b[0m\u001b[0;34m,\u001b[0m \u001b[0maxis\u001b[0m\u001b[0;34m=\u001b[0m\u001b[0maxis\u001b[0m\u001b[0;34m,\u001b[0m \u001b[0mcopy\u001b[0m\u001b[0;34m=\u001b[0m\u001b[0malign_copy\u001b[0m\u001b[0;34m)\u001b[0m\u001b[0;34m\u001b[0m\u001b[0;34m\u001b[0m\u001b[0m\n\u001b[1;32m    437\u001b[0m \u001b[0;34m\u001b[0m\u001b[0m\n\u001b[0;32m--> 438\u001b[0;31m             \u001b[0mapplied\u001b[0m \u001b[0;34m=\u001b[0m \u001b[0mgetattr\u001b[0m\u001b[0;34m(\u001b[0m\u001b[0mb\u001b[0m\u001b[0;34m,\u001b[0m \u001b[0mf\u001b[0m\u001b[0;34m)\u001b[0m\u001b[0;34m(\u001b[0m\u001b[0;34m**\u001b[0m\u001b[0mkwargs\u001b[0m\u001b[0;34m)\u001b[0m\u001b[0;34m\u001b[0m\u001b[0;34m\u001b[0m\u001b[0m\n\u001b[0m\u001b[1;32m    439\u001b[0m             \u001b[0mresult_blocks\u001b[0m \u001b[0;34m=\u001b[0m \u001b[0m_extend_blocks\u001b[0m\u001b[0;34m(\u001b[0m\u001b[0mapplied\u001b[0m\u001b[0;34m,\u001b[0m \u001b[0mresult_blocks\u001b[0m\u001b[0;34m)\u001b[0m\u001b[0;34m\u001b[0m\u001b[0;34m\u001b[0m\u001b[0m\n\u001b[1;32m    440\u001b[0m \u001b[0;34m\u001b[0m\u001b[0m\n",
      "\u001b[0;32m~/miniconda3/envs/khtools--encodings--compare-cli/lib/python3.8/site-packages/pandas/core/internals/blocks.py\u001b[0m in \u001b[0;36mastype\u001b[0;34m(self, dtype, copy, errors, values, **kwargs)\u001b[0m\n\u001b[1;32m    557\u001b[0m \u001b[0;34m\u001b[0m\u001b[0m\n\u001b[1;32m    558\u001b[0m     \u001b[0;32mdef\u001b[0m \u001b[0mastype\u001b[0m\u001b[0;34m(\u001b[0m\u001b[0mself\u001b[0m\u001b[0;34m,\u001b[0m \u001b[0mdtype\u001b[0m\u001b[0;34m,\u001b[0m \u001b[0mcopy\u001b[0m\u001b[0;34m=\u001b[0m\u001b[0;32mFalse\u001b[0m\u001b[0;34m,\u001b[0m \u001b[0merrors\u001b[0m\u001b[0;34m=\u001b[0m\u001b[0;34m\"raise\"\u001b[0m\u001b[0;34m,\u001b[0m \u001b[0mvalues\u001b[0m\u001b[0;34m=\u001b[0m\u001b[0;32mNone\u001b[0m\u001b[0;34m,\u001b[0m \u001b[0;34m**\u001b[0m\u001b[0mkwargs\u001b[0m\u001b[0;34m)\u001b[0m\u001b[0;34m:\u001b[0m\u001b[0;34m\u001b[0m\u001b[0;34m\u001b[0m\u001b[0m\n\u001b[0;32m--> 559\u001b[0;31m         \u001b[0;32mreturn\u001b[0m \u001b[0mself\u001b[0m\u001b[0;34m.\u001b[0m\u001b[0m_astype\u001b[0m\u001b[0;34m(\u001b[0m\u001b[0mdtype\u001b[0m\u001b[0;34m,\u001b[0m \u001b[0mcopy\u001b[0m\u001b[0;34m=\u001b[0m\u001b[0mcopy\u001b[0m\u001b[0;34m,\u001b[0m \u001b[0merrors\u001b[0m\u001b[0;34m=\u001b[0m\u001b[0merrors\u001b[0m\u001b[0;34m,\u001b[0m \u001b[0mvalues\u001b[0m\u001b[0;34m=\u001b[0m\u001b[0mvalues\u001b[0m\u001b[0;34m,\u001b[0m \u001b[0;34m**\u001b[0m\u001b[0mkwargs\u001b[0m\u001b[0;34m)\u001b[0m\u001b[0;34m\u001b[0m\u001b[0;34m\u001b[0m\u001b[0m\n\u001b[0m\u001b[1;32m    560\u001b[0m \u001b[0;34m\u001b[0m\u001b[0m\n\u001b[1;32m    561\u001b[0m     \u001b[0;32mdef\u001b[0m \u001b[0m_astype\u001b[0m\u001b[0;34m(\u001b[0m\u001b[0mself\u001b[0m\u001b[0;34m,\u001b[0m \u001b[0mdtype\u001b[0m\u001b[0;34m,\u001b[0m \u001b[0mcopy\u001b[0m\u001b[0;34m=\u001b[0m\u001b[0;32mFalse\u001b[0m\u001b[0;34m,\u001b[0m \u001b[0merrors\u001b[0m\u001b[0;34m=\u001b[0m\u001b[0;34m\"raise\"\u001b[0m\u001b[0;34m,\u001b[0m \u001b[0mvalues\u001b[0m\u001b[0;34m=\u001b[0m\u001b[0;32mNone\u001b[0m\u001b[0;34m,\u001b[0m \u001b[0;34m**\u001b[0m\u001b[0mkwargs\u001b[0m\u001b[0;34m)\u001b[0m\u001b[0;34m:\u001b[0m\u001b[0;34m\u001b[0m\u001b[0;34m\u001b[0m\u001b[0m\n",
      "\u001b[0;32m~/miniconda3/envs/khtools--encodings--compare-cli/lib/python3.8/site-packages/pandas/core/internals/blocks.py\u001b[0m in \u001b[0;36m_astype\u001b[0;34m(self, dtype, copy, errors, values, **kwargs)\u001b[0m\n\u001b[1;32m    617\u001b[0m         \u001b[0;32mif\u001b[0m \u001b[0mis_dtype_equal\u001b[0m\u001b[0;34m(\u001b[0m\u001b[0mself\u001b[0m\u001b[0;34m.\u001b[0m\u001b[0mdtype\u001b[0m\u001b[0;34m,\u001b[0m \u001b[0mdtype\u001b[0m\u001b[0;34m)\u001b[0m\u001b[0;34m:\u001b[0m\u001b[0;34m\u001b[0m\u001b[0;34m\u001b[0m\u001b[0m\n\u001b[1;32m    618\u001b[0m             \u001b[0;32mif\u001b[0m \u001b[0mcopy\u001b[0m\u001b[0;34m:\u001b[0m\u001b[0;34m\u001b[0m\u001b[0;34m\u001b[0m\u001b[0m\n\u001b[0;32m--> 619\u001b[0;31m                 \u001b[0;32mreturn\u001b[0m \u001b[0mself\u001b[0m\u001b[0;34m.\u001b[0m\u001b[0mcopy\u001b[0m\u001b[0;34m(\u001b[0m\u001b[0;34m)\u001b[0m\u001b[0;34m\u001b[0m\u001b[0;34m\u001b[0m\u001b[0m\n\u001b[0m\u001b[1;32m    620\u001b[0m             \u001b[0;32mreturn\u001b[0m \u001b[0mself\u001b[0m\u001b[0;34m\u001b[0m\u001b[0;34m\u001b[0m\u001b[0m\n\u001b[1;32m    621\u001b[0m \u001b[0;34m\u001b[0m\u001b[0m\n",
      "\u001b[0;32m~/miniconda3/envs/khtools--encodings--compare-cli/lib/python3.8/site-packages/pandas/core/internals/blocks.py\u001b[0m in \u001b[0;36mcopy\u001b[0;34m(self, deep)\u001b[0m\n\u001b[1;32m    769\u001b[0m         \u001b[0mvalues\u001b[0m \u001b[0;34m=\u001b[0m \u001b[0mself\u001b[0m\u001b[0;34m.\u001b[0m\u001b[0mvalues\u001b[0m\u001b[0;34m\u001b[0m\u001b[0;34m\u001b[0m\u001b[0m\n\u001b[1;32m    770\u001b[0m         \u001b[0;32mif\u001b[0m \u001b[0mdeep\u001b[0m\u001b[0;34m:\u001b[0m\u001b[0;34m\u001b[0m\u001b[0;34m\u001b[0m\u001b[0m\n\u001b[0;32m--> 771\u001b[0;31m             \u001b[0mvalues\u001b[0m \u001b[0;34m=\u001b[0m \u001b[0mvalues\u001b[0m\u001b[0;34m.\u001b[0m\u001b[0mcopy\u001b[0m\u001b[0;34m(\u001b[0m\u001b[0;34m)\u001b[0m\u001b[0;34m\u001b[0m\u001b[0;34m\u001b[0m\u001b[0m\n\u001b[0m\u001b[1;32m    772\u001b[0m         \u001b[0;32mreturn\u001b[0m \u001b[0mself\u001b[0m\u001b[0;34m.\u001b[0m\u001b[0mmake_block_same_class\u001b[0m\u001b[0;34m(\u001b[0m\u001b[0mvalues\u001b[0m\u001b[0;34m,\u001b[0m \u001b[0mndim\u001b[0m\u001b[0;34m=\u001b[0m\u001b[0mself\u001b[0m\u001b[0;34m.\u001b[0m\u001b[0mndim\u001b[0m\u001b[0;34m)\u001b[0m\u001b[0;34m\u001b[0m\u001b[0;34m\u001b[0m\u001b[0m\n\u001b[1;32m    773\u001b[0m \u001b[0;34m\u001b[0m\u001b[0m\n",
      "\u001b[0;31mKeyboardInterrupt\u001b[0m: "
     ]
    }
   ],
   "source": [
    "%%time\n",
    "\n",
    "\n",
    "id1_proteins = {x: extract_protein_id(x) for x in id1}\n",
    "id2_proteins = {x: extract_protein_id(x) for x in id2}\n",
    "\n",
    "kmer_similarity['protein_id1'] = kmer_similarity.id1.map(extract_protein_id)\n",
    "kmer_similarity['protein_id2'] = kmer_similarity.id2.map(extract_protein_id)\n",
    "# kmer_similarity.head()"
   ]
  },
  {
   "cell_type": "markdown",
   "metadata": {},
   "source": [
    "## How many of different proteins are there"
   ]
  },
  {
   "cell_type": "code",
   "execution_count": null,
   "metadata": {},
   "outputs": [],
   "source": [
    "kmer_similarity.protein_id1.nunique()"
   ]
  },
  {
   "cell_type": "code",
   "execution_count": null,
   "metadata": {},
   "outputs": [],
   "source": [
    "kmer_similarity.protein_id2.nunique()"
   ]
  },
  {
   "cell_type": "markdown",
   "metadata": {},
   "source": [
    "## Check where jaccard is greater than 0"
   ]
  },
  {
   "cell_type": "code",
   "execution_count": null,
   "metadata": {},
   "outputs": [],
   "source": [
    "(kmer_similarity.jaccard > 0).sum()"
   ]
  },
  {
   "cell_type": "code",
   "execution_count": null,
   "metadata": {},
   "outputs": [],
   "source": [
    "kmer_similarity.query('jaccard > 0.8')"
   ]
  },
  {
   "cell_type": "code",
   "execution_count": null,
   "metadata": {},
   "outputs": [],
   "source": [
    "(kmer_similarity.jaccard > 0.8).sum()"
   ]
  },
  {
   "cell_type": "code",
   "execution_count": null,
   "metadata": {},
   "outputs": [],
   "source": []
  }
 ],
 "metadata": {
  "kernelspec": {
   "display_name": "Python [conda env:khtools--encodings-compare-cli--py37]",
   "language": "python",
   "name": "conda-env-khtools--encodings-compare-cli--py37-py"
  },
  "language_info": {
   "codemirror_mode": {
    "name": "ipython",
    "version": 3
   },
   "file_extension": ".py",
   "mimetype": "text/x-python",
   "name": "python",
   "nbconvert_exporter": "python",
   "pygments_lexer": "ipython3",
   "version": "3.7.6"
  }
 },
 "nbformat": 4,
 "nbformat_minor": 4
}
