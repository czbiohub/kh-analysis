{
 "cells": [
  {
   "cell_type": "code",
   "execution_count": 2,
   "metadata": {},
   "outputs": [],
   "source": [
    "%load_ext autoreload\n",
    "%autoreload 2\n",
    "\n",
    "\n",
    "from glob import glob\n",
    "from itertools import chain, combinations\n",
    "import math\n",
    "\n",
    "import ensembl_rest\n",
    "import numpy as np\n",
    "import pandas as pd\n",
    "from sourmash import load_signatures\n",
    "\n",
    "\n",
    "import tqdm"
   ]
  },
  {
   "cell_type": "code",
   "execution_count": 3,
   "metadata": {},
   "outputs": [],
   "source": [
    "from Bio import SeqIO\n",
    "\n",
    "import seaborn as sns"
   ]
  },
  {
   "cell_type": "code",
   "execution_count": 4,
   "metadata": {},
   "outputs": [],
   "source": [
    "GENCODE = \"/home/olga/data_lg/czbiohub-reference/gencode\""
   ]
  },
  {
   "cell_type": "code",
   "execution_count": 5,
   "metadata": {},
   "outputs": [
    {
     "name": "stdout",
     "output_type": "stream",
     "text": [
      "\u001b[0m\u001b[01;32mgencode.v30.annotation.ERCC92.gene_type.gtf\u001b[0m*\n",
      "\u001b[01;32mgencode.v30.annotation.ERCC92.gtf\u001b[0m*\n",
      "\u001b[01;32mgencode.v30.annotation.gtf\u001b[0m*\n",
      "\u001b[01;31mgencode.v30.pc_translations.fa.gz\u001b[0m\n",
      "\u001b[01;32mgencode.v30.transcripts.ERCC92.fa\u001b[0m*\n",
      "\u001b[01;32mgencode.v30.transcripts.fa\u001b[0m*\n",
      "\u001b[01;32mgetfasta_transcript_test.fa\u001b[0m*\n",
      "\u001b[01;32mGRCh38.p12.genome.ERCC92.fa\u001b[0m*\n",
      "\u001b[01;32mGRCh38.p12.genome.fa\u001b[0m*\n",
      "\u001b[01;32mGRCh38.p12.genome.fa.fai\u001b[0m*\n",
      "\u001b[01;32mMakefile\u001b[0m*\n",
      "\u001b[01;32mMakefile~\u001b[0m*\n",
      "\u001b[01;34msalmon_index\u001b[0m/\n",
      "\u001b[01;34mSTARIndex\u001b[0m/\n",
      "\u001b[01;32mtest_gffread_transcripts.fa\u001b[0m*\n",
      "\u001b[01;32mtest_gffread_transcripts_no_dashF.fa\u001b[0m*\n",
      "\u001b[01;32mw\u001b[0m*\n"
     ]
    }
   ],
   "source": [
    "ls $GENCODE/human/v30"
   ]
  },
  {
   "cell_type": "code",
   "execution_count": 6,
   "metadata": {},
   "outputs": [
    {
     "name": "stdout",
     "output_type": "stream",
     "text": [
      "\u001b[0m\u001b[01;32mgencode.vM21.annotation.ERCC92.gene_type.gtf\u001b[0m*  \u001b[01;32mGRCm38.p6.genome.ERCC92.fa.fai\u001b[0m*\n",
      "\u001b[01;32mgencode.vM21.annotation.ERCC92.gtf\u001b[0m*            \u001b[01;32mGRCm38.p6.genome.fa\u001b[0m*\n",
      "\u001b[01;32mgencode.vM21.annotation.gtf\u001b[0m*                   \u001b[01;32mGRCm38.p6.genome.fa.fai\u001b[0m*\n",
      "\u001b[01;31mgencode.vM21.pc_translations.fa.gz\u001b[0m             \u001b[01;32mGRCm38.p6.genome.fa.gz\u001b[0m*\n",
      "\u001b[01;32mgencode.vM21.transcripts.ERCC92.fa\u001b[0m*            \u001b[01;32mMakefile\u001b[0m*\n",
      "\u001b[01;32mgencode.vM21.transcripts.fa\u001b[0m*                   \u001b[01;32mMakefile~\u001b[0m*\n",
      "\u001b[01;32mGRCm38.p6.genome.chr19.fa\u001b[0m*                     \u001b[01;34mSTARIndex\u001b[0m/\n",
      "\u001b[01;32mGRCm38.p6.genome.ERCC92.fa\u001b[0m*\n"
     ]
    }
   ],
   "source": [
    "ls $GENCODE/mouse/vM21"
   ]
  },
  {
   "cell_type": "code",
   "execution_count": 7,
   "metadata": {},
   "outputs": [
    {
     "name": "stdout",
     "output_type": "stream",
     "text": [
      "len(human_peptides): 99731\n",
      "len(mouse_peptides): 66650\n"
     ]
    }
   ],
   "source": [
    "import gzip\n",
    "\n",
    "def parse_fasta_gz(fasta_gz):\n",
    "    with gzip.open(fasta_gz, \"rt\") as f:\n",
    "        records = [(x.id, str(x.seq)) for x in SeqIO.parse(f, format='fasta')]\n",
    "    return records\n",
    "\n",
    "human_peptides = parse_fasta_gz(f\"{GENCODE}/human/v30/gencode.v30.pc_translations.fa.gz\")\n",
    "print(f\"len(human_peptides): {len(human_peptides)}\")\n",
    "\n",
    "mouse_peptides = parse_fasta_gz(f\"{GENCODE}/mouse/vM21/gencode.vM21.pc_translations.fa.gz\")\n",
    "print(f\"len(mouse_peptides): {len(mouse_peptides)}\")"
   ]
  },
  {
   "cell_type": "code",
   "execution_count": 8,
   "metadata": {},
   "outputs": [
    {
     "data": {
      "text/plain": [
       "[('ENSP00000493376.2|ENST00000641515.2|ENSG00000186092.6|OTTHUMG00000001094.4|OTTHUMT00000003223.4|OR4F5-202|OR4F5|326',\n",
       "  'MKKVTAEAISWNESTSETNNSMVTEFIFLGLSDSQELQTFLFMLFFVFYGGIVFGNLLIVITVVSDSHLHSPMYFLLANLSLIDLSLSSVTAPKMITDFFSQRKVISFKGCLVQIFLLHFFGGSEMVILIAMGFDRYIAICKPLHYTTIMCGNACVGIMAVTWGIGFLHSVSQLAFAVHLLFCGPNEVDSFYCDLPRVIKLACTDTYRLDIMVIANSGVLTVCSFVLLIISYTIILMTIQHRPLDKSSKALSTLTAHITVVLLFFGPCVFIYAWPFPIKSLDKFLAVFYSVITPLLNPIIYTLRNKDMKTAIRQLRKWDAHSSVKF'),\n",
       " ('ENSP00000334393.3|ENST00000335137.4|ENSG00000186092.6|OTTHUMG00000001094.4|-|OR4F5-201|OR4F5|305',\n",
       "  'MVTEFIFLGLSDSQELQTFLFMLFFVFYGGIVFGNLLIVITVVSDSHLHSPMYFLLANLSLIDLSLSSVTAPKMITDFFSQRKVISFKGCLVQIFLLHFFGGSEMVILIAMGFDRYIAICKPLHYTTIMCGNACVGIMAVTWGIGFLHSVSQLAFAVHLLFCGPNEVDSFYCDLPRVIKLACTDTYRLDIMVIANSGVLTVCSFVLLIISYTIILMTIQHRPLDKSSKALSTLTAHITVVLLFFGPCVFIYAWPFPIKSLDKFLAVFYSVITPLLNPIIYTLRNKDMKTAIRQLRKWDAHSSVKF')]"
      ]
     },
     "execution_count": 8,
     "metadata": {},
     "output_type": "execute_result"
    }
   ],
   "source": [
    "human_peptides[:2]"
   ]
  },
  {
   "cell_type": "code",
   "execution_count": 9,
   "metadata": {},
   "outputs": [
    {
     "data": {
      "text/plain": [
       "20"
      ]
     },
     "execution_count": 9,
     "metadata": {},
     "output_type": "execute_result"
    }
   ],
   "source": [
    "DAYHOFF_MAPPING = {\n",
    "    \"C\": \"a\",\n",
    "    \n",
    "    # Small\n",
    "    \"A\": \"b\",\n",
    "    \"G\": \"b\",\n",
    "    \"P\": \"b\",\n",
    "    \"S\": \"b\",\n",
    "    \"T\": \"b\",\n",
    "    \n",
    "    # Acid and amide\n",
    "    \"D\": \"c\",\n",
    "    \"E\": \"c\",\n",
    "    \"N\": \"c\",\n",
    "    \"Q\": \"c\",\n",
    "    \n",
    "    # Basic\n",
    "    \"H\": \"d\",\n",
    "    \"K\": \"d\",\n",
    "    \"R\": \"d\",\n",
    "    \n",
    "    # Hydrophobic\n",
    "    \"I\": \"e\",\n",
    "    \"L\": \"e\",\n",
    "    \"M\": \"e\",\n",
    "    \"V\": \"e\",\n",
    "    \n",
    "    # Aromatic\n",
    "    \"F\": \"f\",\n",
    "    \"W\": \"f\",\n",
    "    \"Y\": \"f\"\n",
    "}\n",
    "\n",
    "## Hydrophobic/hydrophilic mapping\n",
    "HP_MAPPING = {\n",
    "    # Hydrophobic\n",
    "    \"A\": \"h\",\n",
    "    \"F\": \"h\",\n",
    "    \"G\": \"h\",\n",
    "    \"I\": \"h\",\n",
    "    \"L\": \"h\",\n",
    "    \"M\": 'h',\n",
    "    \"P\": \"h\",\n",
    "    \"V\": \"h\",\n",
    "    \"W\": \"h\",\n",
    "    \"Y\": \"h\",\n",
    "    \n",
    "    # Hydrophilic - polar\n",
    "    \"N\": 'p',\n",
    "    \"C\": 'p',\n",
    "    \"G\": \"p\",\n",
    "    \"S\": \"p\",\n",
    "    \"T\": \"p\",\n",
    "    \"D\": \"p\",\n",
    "    \"E\": \"p\",\n",
    "    \"R\": \"p\",\n",
    "    \"H\": \"p\",\n",
    "    \"K\": \"p\",\n",
    "    \"Q\": \"p\"\n",
    "}\n",
    "len(HP_MAPPING)"
   ]
  },
  {
   "cell_type": "code",
   "execution_count": 10,
   "metadata": {},
   "outputs": [
    {
     "name": "stdout",
     "output_type": "stream",
     "text": [
      "MKKVTAEAISWNESTSETN\n",
      "eddebbcbebfccbbbcbc\n",
      "hpphphphhphpppppppp\n"
     ]
    }
   ],
   "source": [
    "DAYHOFF_TRANSLATION = str.maketrans(DAYHOFF_MAPPING)\n",
    "\n",
    "HP_TRANSLATION = str.maketrans(HP_MAPPING)\n",
    "\n",
    "def dayhoffize(seq):\n",
    "    return seq.translate(DAYHOFF_TRANSLATION)\n",
    "\n",
    "def hpize(seq):\n",
    "    return seq.translate(HP_TRANSLATION)\n",
    "\n",
    "seq = \"MKKVTAEAISWNESTSETN\"\n",
    "print(seq)\n",
    "print(dayhoffize(seq))\n",
    "print(hpize(seq))"
   ]
  },
  {
   "cell_type": "code",
   "execution_count": null,
   "metadata": {},
   "outputs": [],
   "source": []
  },
  {
   "cell_type": "markdown",
   "metadata": {},
   "source": [
    " | Amino acid    | Property              | Dayhoff |\n",
    " |---------------|-----------------------|---------|\n",
    " | C             | Sulfur polymerization | a       |\n",
    " | A, G, P, S, T | Small                 | b       |\n",
    " | D, E, N, Q    | Acid and amide        | c       |\n",
    " | H, K, R       | Basic                 | d       |\n",
    " | I, L, M, V    | Hydrophobic           | e       |\n",
    " | F, W, Y       | Aromatic              | f       |\n"
   ]
  },
  {
   "cell_type": "code",
   "execution_count": 11,
   "metadata": {},
   "outputs": [
    {
     "name": "stdout",
     "output_type": "stream",
     "text": [
      "CPU times: user 0 ns, sys: 0 ns, total: 0 ns\n",
      "Wall time: 23.6 µs\n"
     ]
    }
   ],
   "source": [
    "%%time\n",
    "\n",
    "KSIZES = 2, 3, 4, 5, 6, 7, 8, 9, 10, 11, 12, 13, 14, 15, 16, 17, 18\n",
    "COLUMNS = 'id1', 'id2', 'ksize', 'jaccard'\n",
    "\n",
    "def kmerize(seq, ksize):\n",
    "    return set(seq[i:i+ksize] for i in range(len(seq)-ksize+1))\n",
    "\n",
    "def jaccardize(set1, set2):\n",
    "    denominator = min(len(set1), len(set2))\n",
    "    if denominator > 0:\n",
    "        return len(set1.intersection(set2))/denominator\n",
    "    else:\n",
    "        return denominator\n",
    "\n",
    "def kmerize_and_jaccard(seq1, seq2, ksize, debug=False):\n",
    "    kmers1 = set(seq1[i:i+ksize] for i in range(len(seq1)-ksize+1))\n",
    "    kmers2 = set(seq2[i:i+ksize] for i in range(len(seq2)-ksize+1))\n",
    "    jaccard = jaccardize(kmers1, kmers2)\n",
    "    if debug:\n",
    "        print(\"len(kmers1):\", len(kmers1))\n",
    "        print(\"len(kmers2):\", len(kmers2))\n",
    "        print(f\"jaccard: {jaccard}\")\n",
    "    return jaccard\n",
    "\n",
    "\n",
    "def kmer_comparison_table(id1, seq1, id2, seq2, molecule, ksizes=KSIZES):\n",
    "    lines = []\n",
    "    for ksize in ksizes:\n",
    "        jaccard = kmerize_and_jaccard(seq1, seq2, ksize)\n",
    "        line = [id1, id2, ksize, jaccard]\n",
    "        lines.append(line)\n",
    "    df = pd.DataFrame(lines, columns=COLUMNS)\n",
    "    df['molecule'] = molecule\n",
    "    return df\n",
    "\n",
    "\n",
    "def nCr(n, r):\n",
    "    f = math.factorial\n",
    "    return f(n) // (f(r) * f(n - r))\n",
    "\n",
    "total = nCr(len(input_seqs), 2)\n"
   ]
  },
  {
   "cell_type": "markdown",
   "metadata": {},
   "source": [
    "## Multiprocessing!!"
   ]
  },
  {
   "cell_type": "code",
   "execution_count": 22,
   "metadata": {},
   "outputs": [
    {
     "name": "stdout",
     "output_type": "stream",
     "text": [
      "> \u001b[0;32m/home/olga/miniconda3/envs/kmer-hashing/lib/python3.6/multiprocessing/pool.py\u001b[0m(735)\u001b[0;36mnext\u001b[0;34m()\u001b[0m\n",
      "\u001b[0;32m    733 \u001b[0;31m        \u001b[0;32mif\u001b[0m \u001b[0msuccess\u001b[0m\u001b[0;34m:\u001b[0m\u001b[0;34m\u001b[0m\u001b[0;34m\u001b[0m\u001b[0m\n",
      "\u001b[0m\u001b[0;32m    734 \u001b[0;31m            \u001b[0;32mreturn\u001b[0m \u001b[0mvalue\u001b[0m\u001b[0;34m\u001b[0m\u001b[0;34m\u001b[0m\u001b[0m\n",
      "\u001b[0m\u001b[0;32m--> 735 \u001b[0;31m        \u001b[0;32mraise\u001b[0m \u001b[0mvalue\u001b[0m\u001b[0;34m\u001b[0m\u001b[0;34m\u001b[0m\u001b[0m\n",
      "\u001b[0m\u001b[0;32m    736 \u001b[0;31m\u001b[0;34m\u001b[0m\u001b[0m\n",
      "\u001b[0m\u001b[0;32m    737 \u001b[0;31m    \u001b[0m__next__\u001b[0m \u001b[0;34m=\u001b[0m \u001b[0mnext\u001b[0m                    \u001b[0;31m# XXX\u001b[0m\u001b[0;34m\u001b[0m\u001b[0;34m\u001b[0m\u001b[0m\n",
      "\u001b[0m\n"
     ]
    },
    {
     "name": "stdin",
     "output_type": "stream",
     "text": [
      "ipdb>  dir()\n"
     ]
    },
    {
     "name": "stdout",
     "output_type": "stream",
     "text": [
      "['item', 'self', 'success', 'timeout', 'value']\n"
     ]
    },
    {
     "name": "stdin",
     "output_type": "stream",
     "text": [
      "ipdb>  a\n"
     ]
    },
    {
     "name": "stdout",
     "output_type": "stream",
     "text": [
      "self = <multiprocessing.pool.IMapIterator object at 0x7f23a3051198>\n",
      "timeout = None\n"
     ]
    },
    {
     "name": "stdin",
     "output_type": "stream",
     "text": [
      "ipdb>  print(value)\n"
     ]
    },
    {
     "name": "stdout",
     "output_type": "stream",
     "text": [
      "name 'id_seq1' is not defined\n"
     ]
    },
    {
     "name": "stdin",
     "output_type": "stream",
     "text": [
      "ipdb>  print(success)\n"
     ]
    },
    {
     "name": "stdout",
     "output_type": "stream",
     "text": [
      "False\n"
     ]
    },
    {
     "name": "stdin",
     "output_type": "stream",
     "text": [
      "ipdb>  u\n"
     ]
    },
    {
     "name": "stdout",
     "output_type": "stream",
     "text": [
      "> \u001b[0;32m<ipython-input-21-db1c41214a55>\u001b[0m(96)\u001b[0;36m<module>\u001b[0;34m()\u001b[0m\n",
      "\u001b[0;32m     94 \u001b[0;31m\u001b[0;34m\u001b[0m\u001b[0m\n",
      "\u001b[0m\u001b[0;32m     95 \u001b[0;31m\u001b[0;34m\u001b[0m\u001b[0m\n",
      "\u001b[0m\u001b[0;32m---> 96 \u001b[0;31m\u001b[0mpeptide_kmer_comparisons\u001b[0m \u001b[0;34m=\u001b[0m \u001b[0mpd\u001b[0m\u001b[0;34m.\u001b[0m\u001b[0mconcat\u001b[0m\u001b[0;34m(\u001b[0m\u001b[0mchain\u001b[0m\u001b[0;34m(\u001b[0m\u001b[0;34m*\u001b[0m\u001b[0mresult\u001b[0m\u001b[0;34m)\u001b[0m\u001b[0;34m,\u001b[0m \u001b[0mignore_index\u001b[0m\u001b[0;34m=\u001b[0m\u001b[0;32mTrue\u001b[0m\u001b[0;34m)\u001b[0m\u001b[0;34m\u001b[0m\u001b[0;34m\u001b[0m\u001b[0m\n",
      "\u001b[0m\u001b[0;32m     97 \u001b[0;31m\u001b[0;34m\u001b[0m\u001b[0m\n",
      "\u001b[0m\u001b[0;32m     98 \u001b[0;31m\u001b[0mnotify\u001b[0m\u001b[0;34m(\u001b[0m\u001b[0;34mf\"Total time: {time.time() - t0}\"\u001b[0m\u001b[0;34m)\u001b[0m\u001b[0;34m\u001b[0m\u001b[0;34m\u001b[0m\u001b[0m\n",
      "\u001b[0m\n"
     ]
    },
    {
     "name": "stdin",
     "output_type": "stream",
     "text": [
      "ipdb>  q\n"
     ]
    }
   ],
   "source": [
    "%debug"
   ]
  },
  {
   "cell_type": "code",
   "execution_count": 28,
   "metadata": {},
   "outputs": [],
   "source": [
    "# %%time\n",
    "import time\n",
    "\n",
    "from sourmash.logging import notify\n",
    "\n",
    "from functools import partial\n",
    "import itertools\n",
    "import multiprocessing\n",
    "\n",
    "\n",
    "\n",
    "\n",
    "def compare_peptide_seqs(id1_seq1, id2_seq2, ksizes=KSIZES):\n",
    "    # Unpack the tuples\n",
    "    id1, seq1 = id1_seq1\n",
    "    id2, seq2 = id2_seq2\n",
    "    \n",
    "    protein_df = kmer_comparison_table(id1, seq1, id2, seq2, molecule='protein')\n",
    "    \n",
    "    dayhoff1 = dayhoffize(seq1)\n",
    "    dayhoff2 = dayhoffize(seq2)\n",
    "    \n",
    "    dayhoff_df = kmer_comparison_table(id1, dayhoff1, id2, dayhoff2, \n",
    "                                       molecule='dayhoff')\n",
    "    \n",
    "    hp1 = hpize(seq1)\n",
    "    hp2 = hpize(seq2) \n",
    "    \n",
    "    hp_df = kmer_comparison_table(id1, hp1, id2, hp2, \n",
    "                                       molecule='hydrophilic-polar')\n",
    "    df = pd.concat([protein_df, dayhoff_df, hp_df], ignore_index=True)\n",
    "    return df\n",
    "\n",
    "def compare_args_unpack(args, ksizes):\n",
    "    \"\"\"Helper function to unpack the arguments. Written to use in pool.imap as it\n",
    "    can only be given one argument.\"\"\"\n",
    "    return compare_peptide_seqs(*args, ksizes=ksizes)\n",
    "\n",
    "\n",
    "def get_comparison_at_index(index, seqlist, ksizes=KSIZES):\n",
    "    \"\"\"Returns similarities of all the combinations of signature at index in the\n",
    "    siglist with the rest of the indices starting at index + 1. Doesn't redundantly\n",
    "    calculate signatures with all the other indices prior to index - 1\n",
    "\n",
    "    :param int index: generate masks from this image\n",
    "    :param boolean ignore_abundance\n",
    "        If the sketches are not abundance weighted, or ignore_abundance=True,\n",
    "        compute Jaccard similarity.\n",
    "\n",
    "        If the sketches are abundance weighted, calculate a distance metric\n",
    "        based on the cosine similarity.\n",
    "    :param boolean downsample by max_hash if True\n",
    "    :param siglist list of signatures\n",
    "    :return: list of similarities for the combinations of signature at index with\n",
    "    rest of the signatures from index+1\n",
    "    \"\"\"\n",
    "    startt = time.time()\n",
    "    seq_iterator = itertools.product([seqlist[index]], seqlist[index + 1:])\n",
    "    func = partial(compare_args_unpack, ksizes=ksizes)\n",
    "    comparision_df_list = list(map(func, seq_iterator))\n",
    "    notify(\n",
    "        \"comparison for index {} done in {:.5f} seconds\",\n",
    "        index,\n",
    "        time.time() - startt,\n",
    "        end='\\r')\n",
    "    return comparision_df_list"
   ]
  },
  {
   "cell_type": "code",
   "execution_count": 41,
   "metadata": {},
   "outputs": [],
   "source": [
    "n_seqs = 100\n",
    "\n",
    "human_subset = human_peptides[:n_seqs]\n",
    "mouse_subset = mouse_peptides[:n_seqs]\n",
    "\n",
    "\n",
    "input_seqs = human_subset + mouse_subset\n"
   ]
  },
  {
   "cell_type": "code",
   "execution_count": 42,
   "metadata": {},
   "outputs": [
    {
     "name": "stdout",
     "output_type": "stream",
     "text": [
      "(51, 5)\n"
     ]
    },
    {
     "data": {
      "text/html": [
       "<div>\n",
       "<style scoped>\n",
       "    .dataframe tbody tr th:only-of-type {\n",
       "        vertical-align: middle;\n",
       "    }\n",
       "\n",
       "    .dataframe tbody tr th {\n",
       "        vertical-align: top;\n",
       "    }\n",
       "\n",
       "    .dataframe thead th {\n",
       "        text-align: right;\n",
       "    }\n",
       "</style>\n",
       "<table border=\"1\" class=\"dataframe\">\n",
       "  <thead>\n",
       "    <tr style=\"text-align: right;\">\n",
       "      <th></th>\n",
       "      <th>id1</th>\n",
       "      <th>id2</th>\n",
       "      <th>ksize</th>\n",
       "      <th>jaccard</th>\n",
       "      <th>molecule</th>\n",
       "    </tr>\n",
       "  </thead>\n",
       "  <tbody>\n",
       "    <tr>\n",
       "      <th>0</th>\n",
       "      <td>ENSP00000493376.2|ENST00000641515.2|ENSG000001...</td>\n",
       "      <td>ENSP00000334393.3|ENST00000335137.4|ENSG000001...</td>\n",
       "      <td>2</td>\n",
       "      <td>1.0</td>\n",
       "      <td>protein</td>\n",
       "    </tr>\n",
       "    <tr>\n",
       "      <th>1</th>\n",
       "      <td>ENSP00000493376.2|ENST00000641515.2|ENSG000001...</td>\n",
       "      <td>ENSP00000334393.3|ENST00000335137.4|ENSG000001...</td>\n",
       "      <td>3</td>\n",
       "      <td>1.0</td>\n",
       "      <td>protein</td>\n",
       "    </tr>\n",
       "    <tr>\n",
       "      <th>2</th>\n",
       "      <td>ENSP00000493376.2|ENST00000641515.2|ENSG000001...</td>\n",
       "      <td>ENSP00000334393.3|ENST00000335137.4|ENSG000001...</td>\n",
       "      <td>4</td>\n",
       "      <td>1.0</td>\n",
       "      <td>protein</td>\n",
       "    </tr>\n",
       "    <tr>\n",
       "      <th>3</th>\n",
       "      <td>ENSP00000493376.2|ENST00000641515.2|ENSG000001...</td>\n",
       "      <td>ENSP00000334393.3|ENST00000335137.4|ENSG000001...</td>\n",
       "      <td>5</td>\n",
       "      <td>1.0</td>\n",
       "      <td>protein</td>\n",
       "    </tr>\n",
       "    <tr>\n",
       "      <th>4</th>\n",
       "      <td>ENSP00000493376.2|ENST00000641515.2|ENSG000001...</td>\n",
       "      <td>ENSP00000334393.3|ENST00000335137.4|ENSG000001...</td>\n",
       "      <td>6</td>\n",
       "      <td>1.0</td>\n",
       "      <td>protein</td>\n",
       "    </tr>\n",
       "  </tbody>\n",
       "</table>\n",
       "</div>"
      ],
      "text/plain": [
       "                                                 id1  \\\n",
       "0  ENSP00000493376.2|ENST00000641515.2|ENSG000001...   \n",
       "1  ENSP00000493376.2|ENST00000641515.2|ENSG000001...   \n",
       "2  ENSP00000493376.2|ENST00000641515.2|ENSG000001...   \n",
       "3  ENSP00000493376.2|ENST00000641515.2|ENSG000001...   \n",
       "4  ENSP00000493376.2|ENST00000641515.2|ENSG000001...   \n",
       "\n",
       "                                                 id2  ksize  jaccard molecule  \n",
       "0  ENSP00000334393.3|ENST00000335137.4|ENSG000001...      2      1.0  protein  \n",
       "1  ENSP00000334393.3|ENST00000335137.4|ENSG000001...      3      1.0  protein  \n",
       "2  ENSP00000334393.3|ENST00000335137.4|ENSG000001...      4      1.0  protein  \n",
       "3  ENSP00000334393.3|ENST00000335137.4|ENSG000001...      5      1.0  protein  \n",
       "4  ENSP00000334393.3|ENST00000335137.4|ENSG000001...      6      1.0  protein  "
      ]
     },
     "execution_count": 42,
     "metadata": {},
     "output_type": "execute_result"
    }
   ],
   "source": [
    "dfs = [compare_peptide_seqs(x, y) for x, y in itertools.combinations(input_seqs[:2], 2)]\n",
    "asdf = pd.concat(dfs, ignore_index=True)\n",
    "print(asdf.shape)\n",
    "asdf.head()"
   ]
  },
  {
   "cell_type": "code",
   "execution_count": 43,
   "metadata": {},
   "outputs": [
    {
     "data": {
      "text/plain": [
       "166381"
      ]
     },
     "execution_count": 43,
     "metadata": {},
     "output_type": "execute_result"
    }
   ],
   "source": [
    "seqlist = human_peptides + mouse_peptides\n",
    "len(seqlist)"
   ]
  },
  {
   "cell_type": "markdown",
   "metadata": {},
   "source": [
    "## This below is what broke and took forever..."
   ]
  },
  {
   "cell_type": "code",
   "execution_count": null,
   "metadata": {},
   "outputs": [
    {
     "name": "stderr",
     "output_type": "stream",
     "text": [
      "\u001b[KCreated similarity func\n",
      "\u001b[KCalculated chunk size for multiprocessing\n",
      "\u001b[KInitialized multiprocessing pool.imap\n"
     ]
    }
   ],
   "source": [
    "n_jobs = 32\n",
    "\n",
    "t0 = time.time()\n",
    "length_seqlist = len(seqlist)\n",
    "\n",
    "# Initialize the function using func.partial with the common arguments like\n",
    "# siglist, ignore_abundance, downsample, for computing all the signatures\n",
    "# The only changing parameter that will be mapped from the pool is the index\n",
    "func = partial(\n",
    "    get_comparison_at_index,\n",
    "    seqlist=seqlist,\n",
    "    ksizes=KSIZES)\n",
    "notify(\"Created similarity func\")\n",
    "\n",
    "# Initialize multiprocess.pool\n",
    "pool = multiprocessing.Pool(processes=n_jobs)\n",
    "\n",
    "# Calculate chunk size, by default pool.imap chunk size is 1\n",
    "chunksize, extra = divmod(length_seqlist, n_jobs)\n",
    "if extra:\n",
    "    chunksize += 1\n",
    "notify(\"Calculated chunk size for multiprocessing\")\n",
    "\n",
    "# This will not generate the results yet, since pool.imap returns a generator\n",
    "result = pool.imap(func, range(length_seqlist), chunksize=chunksize)\n",
    "notify(\"Initialized multiprocessing pool.imap\")\n",
    "\n",
    "\n",
    "peptide_kmer_comparisons = pd.concat(chain(*result), ignore_index=True)\n",
    "\n",
    "notify(f\"Total time: {time.time() - t0}\")"
   ]
  },
  {
   "cell_type": "code",
   "execution_count": null,
   "metadata": {},
   "outputs": [],
   "source": [
    "3+1"
   ]
  },
  {
   "cell_type": "code",
   "execution_count": null,
   "metadata": {},
   "outputs": [],
   "source": []
  },
  {
   "cell_type": "code",
   "execution_count": null,
   "metadata": {},
   "outputs": [],
   "source": [
    "(13.9/1000**2) * 10000**2"
   ]
  },
  {
   "cell_type": "code",
   "execution_count": 121,
   "metadata": {},
   "outputs": [
    {
     "data": {
      "text/plain": [
       "19900"
      ]
     },
     "execution_count": 121,
     "metadata": {},
     "output_type": "execute_result"
    }
   ],
   "source": [
    "len(dfs)"
   ]
  },
  {
   "cell_type": "code",
   "execution_count": 123,
   "metadata": {},
   "outputs": [],
   "source": [
    "# (1.33/100) * (len(human_peptides) + len(mouse_peptides))*/60/60"
   ]
  },
  {
   "cell_type": "code",
   "execution_count": 125,
   "metadata": {},
   "outputs": [
    {
     "data": {
      "text/plain": [
       "(835800, 5)"
      ]
     },
     "execution_count": 125,
     "metadata": {},
     "output_type": "execute_result"
    }
   ],
   "source": [
    "peptide_kmer_comparisons.shape"
   ]
  },
  {
   "cell_type": "code",
   "execution_count": 124,
   "metadata": {},
   "outputs": [
    {
     "data": {
      "text/html": [
       "<div>\n",
       "<style scoped>\n",
       "    .dataframe tbody tr th:only-of-type {\n",
       "        vertical-align: middle;\n",
       "    }\n",
       "\n",
       "    .dataframe tbody tr th {\n",
       "        vertical-align: top;\n",
       "    }\n",
       "\n",
       "    .dataframe thead th {\n",
       "        text-align: right;\n",
       "    }\n",
       "</style>\n",
       "<table border=\"1\" class=\"dataframe\">\n",
       "  <thead>\n",
       "    <tr style=\"text-align: right;\">\n",
       "      <th></th>\n",
       "      <th>id1</th>\n",
       "      <th>id2</th>\n",
       "      <th>ksize</th>\n",
       "      <th>jaccard</th>\n",
       "      <th>molecule</th>\n",
       "    </tr>\n",
       "  </thead>\n",
       "  <tbody>\n",
       "    <tr>\n",
       "      <th>0</th>\n",
       "      <td>ENSP00000493376.2|ENST00000641515.2|ENSG000001...</td>\n",
       "      <td>ENSP00000334393.3|ENST00000335137.4|ENSG000001...</td>\n",
       "      <td>2</td>\n",
       "      <td>1.0</td>\n",
       "      <td>protein</td>\n",
       "    </tr>\n",
       "    <tr>\n",
       "      <th>1</th>\n",
       "      <td>ENSP00000493376.2|ENST00000641515.2|ENSG000001...</td>\n",
       "      <td>ENSP00000334393.3|ENST00000335137.4|ENSG000001...</td>\n",
       "      <td>3</td>\n",
       "      <td>1.0</td>\n",
       "      <td>protein</td>\n",
       "    </tr>\n",
       "    <tr>\n",
       "      <th>2</th>\n",
       "      <td>ENSP00000493376.2|ENST00000641515.2|ENSG000001...</td>\n",
       "      <td>ENSP00000334393.3|ENST00000335137.4|ENSG000001...</td>\n",
       "      <td>4</td>\n",
       "      <td>1.0</td>\n",
       "      <td>protein</td>\n",
       "    </tr>\n",
       "    <tr>\n",
       "      <th>3</th>\n",
       "      <td>ENSP00000493376.2|ENST00000641515.2|ENSG000001...</td>\n",
       "      <td>ENSP00000334393.3|ENST00000335137.4|ENSG000001...</td>\n",
       "      <td>5</td>\n",
       "      <td>1.0</td>\n",
       "      <td>protein</td>\n",
       "    </tr>\n",
       "    <tr>\n",
       "      <th>4</th>\n",
       "      <td>ENSP00000493376.2|ENST00000641515.2|ENSG000001...</td>\n",
       "      <td>ENSP00000334393.3|ENST00000335137.4|ENSG000001...</td>\n",
       "      <td>6</td>\n",
       "      <td>1.0</td>\n",
       "      <td>protein</td>\n",
       "    </tr>\n",
       "  </tbody>\n",
       "</table>\n",
       "</div>"
      ],
      "text/plain": [
       "                                                 id1  \\\n",
       "0  ENSP00000493376.2|ENST00000641515.2|ENSG000001...   \n",
       "1  ENSP00000493376.2|ENST00000641515.2|ENSG000001...   \n",
       "2  ENSP00000493376.2|ENST00000641515.2|ENSG000001...   \n",
       "3  ENSP00000493376.2|ENST00000641515.2|ENSG000001...   \n",
       "4  ENSP00000493376.2|ENST00000641515.2|ENSG000001...   \n",
       "\n",
       "                                                 id2  ksize  jaccard molecule  \n",
       "0  ENSP00000334393.3|ENST00000335137.4|ENSG000001...      2      1.0  protein  \n",
       "1  ENSP00000334393.3|ENST00000335137.4|ENSG000001...      3      1.0  protein  \n",
       "2  ENSP00000334393.3|ENST00000335137.4|ENSG000001...      4      1.0  protein  \n",
       "3  ENSP00000334393.3|ENST00000335137.4|ENSG000001...      5      1.0  protein  \n",
       "4  ENSP00000334393.3|ENST00000335137.4|ENSG000001...      6      1.0  protein  "
      ]
     },
     "execution_count": 124,
     "metadata": {},
     "output_type": "execute_result"
    }
   ],
   "source": [
    "peptide_kmer_comparisons.head()"
   ]
  },
  {
   "cell_type": "code",
   "execution_count": 129,
   "metadata": {},
   "outputs": [
    {
     "data": {
      "text/plain": [
       "array(['ENSP00000493376.2|ENST00000641515.2|ENSG00000186092.6|OTTHUMG00000001094.4|OTTHUMT00000003223.4|OR4F5-202|OR4F5|326',\n",
       "       'ENSP00000493376.2|ENST00000641515.2|ENSG00000186092.6|OTTHUMG00000001094.4|OTTHUMT00000003223.4|OR4F5-202|OR4F5|326',\n",
       "       'ENSP00000493376.2|ENST00000641515.2|ENSG00000186092.6|OTTHUMG00000001094.4|OTTHUMT00000003223.4|OR4F5-202|OR4F5|326',\n",
       "       'ENSP00000493376.2|ENST00000641515.2|ENSG00000186092.6|OTTHUMG00000001094.4|OTTHUMT00000003223.4|OR4F5-202|OR4F5|326',\n",
       "       'ENSP00000493376.2|ENST00000641515.2|ENSG00000186092.6|OTTHUMG00000001094.4|OTTHUMT00000003223.4|OR4F5-202|OR4F5|326'],\n",
       "      dtype=object)"
      ]
     },
     "execution_count": 129,
     "metadata": {},
     "output_type": "execute_result"
    }
   ],
   "source": [
    "peptide_kmer_comparisons.id1.head().values"
   ]
  },
  {
   "cell_type": "code",
   "execution_count": 136,
   "metadata": {},
   "outputs": [
    {
     "name": "stdout",
     "output_type": "stream",
     "text": [
      "(199, 8)\n"
     ]
    },
    {
     "data": {
      "text/html": [
       "<div>\n",
       "<style scoped>\n",
       "    .dataframe tbody tr th:only-of-type {\n",
       "        vertical-align: middle;\n",
       "    }\n",
       "\n",
       "    .dataframe tbody tr th {\n",
       "        vertical-align: top;\n",
       "    }\n",
       "\n",
       "    .dataframe thead th {\n",
       "        text-align: right;\n",
       "    }\n",
       "</style>\n",
       "<table border=\"1\" class=\"dataframe\">\n",
       "  <thead>\n",
       "    <tr style=\"text-align: right;\">\n",
       "      <th></th>\n",
       "      <th>protein_id</th>\n",
       "      <th>transcript_id</th>\n",
       "      <th>gene_id</th>\n",
       "      <th>ott_gene</th>\n",
       "      <th>ott_transcript</th>\n",
       "      <th>transcript_name</th>\n",
       "      <th>gene_name</th>\n",
       "      <th>peptide_length</th>\n",
       "    </tr>\n",
       "  </thead>\n",
       "  <tbody>\n",
       "    <tr>\n",
       "      <th>0</th>\n",
       "      <td>ENSP00000493376.2</td>\n",
       "      <td>ENST00000641515.2</td>\n",
       "      <td>ENSG00000186092.6</td>\n",
       "      <td>OTTHUMG00000001094.4</td>\n",
       "      <td>OTTHUMT00000003223.4</td>\n",
       "      <td>OR4F5-202</td>\n",
       "      <td>OR4F5</td>\n",
       "      <td>326</td>\n",
       "    </tr>\n",
       "    <tr>\n",
       "      <th>8358</th>\n",
       "      <td>ENSP00000334393.3</td>\n",
       "      <td>ENST00000335137.4</td>\n",
       "      <td>ENSG00000186092.6</td>\n",
       "      <td>OTTHUMG00000001094.4</td>\n",
       "      <td>-</td>\n",
       "      <td>OR4F5-201</td>\n",
       "      <td>OR4F5</td>\n",
       "      <td>305</td>\n",
       "    </tr>\n",
       "    <tr>\n",
       "      <th>16674</th>\n",
       "      <td>ENSP00000409316.1</td>\n",
       "      <td>ENST00000426406.3</td>\n",
       "      <td>ENSG00000284733.1</td>\n",
       "      <td>OTTHUMG00000002860.3</td>\n",
       "      <td>OTTHUMT00000007999.3</td>\n",
       "      <td>OR4F29-201</td>\n",
       "      <td>OR4F29</td>\n",
       "      <td>312</td>\n",
       "    </tr>\n",
       "    <tr>\n",
       "      <th>24948</th>\n",
       "      <td>ENSP00000329982.2</td>\n",
       "      <td>ENST00000332831.4</td>\n",
       "      <td>ENSG00000284662.1</td>\n",
       "      <td>OTTHUMG00000002581.3</td>\n",
       "      <td>OTTHUMT00000007334.3</td>\n",
       "      <td>OR4F16-201</td>\n",
       "      <td>OR4F16</td>\n",
       "      <td>312</td>\n",
       "    </tr>\n",
       "    <tr>\n",
       "      <th>33180</th>\n",
       "      <td>ENSP00000411579.2</td>\n",
       "      <td>ENST00000420190.6</td>\n",
       "      <td>ENSG00000187634.12</td>\n",
       "      <td>OTTHUMG00000040719.11</td>\n",
       "      <td>OTTHUMT00000316521.3</td>\n",
       "      <td>SAMD11-203</td>\n",
       "      <td>SAMD11</td>\n",
       "      <td>358</td>\n",
       "    </tr>\n",
       "  </tbody>\n",
       "</table>\n",
       "</div>"
      ],
      "text/plain": [
       "              protein_id      transcript_id             gene_id  \\\n",
       "0      ENSP00000493376.2  ENST00000641515.2   ENSG00000186092.6   \n",
       "8358   ENSP00000334393.3  ENST00000335137.4   ENSG00000186092.6   \n",
       "16674  ENSP00000409316.1  ENST00000426406.3   ENSG00000284733.1   \n",
       "24948  ENSP00000329982.2  ENST00000332831.4   ENSG00000284662.1   \n",
       "33180  ENSP00000411579.2  ENST00000420190.6  ENSG00000187634.12   \n",
       "\n",
       "                    ott_gene        ott_transcript transcript_name gene_name  \\\n",
       "0       OTTHUMG00000001094.4  OTTHUMT00000003223.4       OR4F5-202     OR4F5   \n",
       "8358    OTTHUMG00000001094.4                     -       OR4F5-201     OR4F5   \n",
       "16674   OTTHUMG00000002860.3  OTTHUMT00000007999.3      OR4F29-201    OR4F29   \n",
       "24948   OTTHUMG00000002581.3  OTTHUMT00000007334.3      OR4F16-201    OR4F16   \n",
       "33180  OTTHUMG00000040719.11  OTTHUMT00000316521.3      SAMD11-203    SAMD11   \n",
       "\n",
       "      peptide_length  \n",
       "0                326  \n",
       "8358             305  \n",
       "16674            312  \n",
       "24948            312  \n",
       "33180            358  "
      ]
     },
     "execution_count": 136,
     "metadata": {},
     "output_type": "execute_result"
    }
   ],
   "source": [
    "gene_metadata = peptide_kmer_comparisons.id1.drop_duplicates().str.split(\"|\", expand=True)\n",
    "\n",
    "columns = ['protein_id', 'transcript_id', 'gene_id', \n",
    "           'ott_gene', 'ott_transcript', \n",
    "           'transcript_name', 'gene_name', 'peptide_length']\n",
    "renamer = dict(zip(range(len(columns)), columns))\n",
    "gene_metadata = gene_metadata.rename(columns=renamer)\n",
    "print(gene_metadata.shape)\n",
    "gene_metadata.head()"
   ]
  },
  {
   "cell_type": "code",
   "execution_count": 137,
   "metadata": {},
   "outputs": [
    {
     "data": {
      "text/plain": [
       "array(['OR4F5', 'OR4F29', 'OR4F16', 'SAMD11', 'NOC2L', 'KLHL17',\n",
       "       'PLEKHN1', 'PERM1', 'HES4', 'ISG15', 'AGRN', 'RNF223', 'C1orf159',\n",
       "       'TTLL10', 'TNFRSF18', 'TNFRSF4', 'SDF4', 'B3GALT6', 'C1QTNF12',\n",
       "       'UBE2J2', 'SCNN1D', 'ACAP3', 'PUSL1', 'INTS11', 'Xkr4', 'Rp1',\n",
       "       'Sox17', 'Mrpl15', 'Lypla1', 'Gm37988', 'Tcea1', 'Rgs20',\n",
       "       'Atp6v1h', 'Oprk1', 'Npbwr1', 'Rb1cc1', 'Alkal1', 'St18', 'Pcmtd1',\n",
       "       'Sntg1', 'Rrs1', 'Adhfe1', 'Vxn', 'Mybl1', 'Vcpip1', 'Sgk3',\n",
       "       'Mcmdc2', 'Tcf24', 'Ppp1r42'], dtype=object)"
      ]
     },
     "execution_count": 137,
     "metadata": {},
     "output_type": "execute_result"
    }
   ],
   "source": [
    "gene_metadata.gene_name.unique()"
   ]
  },
  {
   "cell_type": "code",
   "execution_count": 138,
   "metadata": {},
   "outputs": [
    {
     "data": {
      "text/plain": [
       "49"
      ]
     },
     "execution_count": 138,
     "metadata": {},
     "output_type": "execute_result"
    }
   ],
   "source": [
    "gene_metadata.gene_name.nunique()"
   ]
  },
  {
   "cell_type": "code",
   "execution_count": 139,
   "metadata": {},
   "outputs": [
    {
     "data": {
      "text/plain": [
       "49"
      ]
     },
     "execution_count": 139,
     "metadata": {},
     "output_type": "execute_result"
    }
   ],
   "source": [
    "gene_metadata.gene_name.str.lower().nunique()"
   ]
  },
  {
   "cell_type": "code",
   "execution_count": 133,
   "metadata": {},
   "outputs": [
    {
     "data": {
      "text/plain": [
       "326"
      ]
     },
     "execution_count": 133,
     "metadata": {},
     "output_type": "execute_result"
    }
   ],
   "source": [
    "len(human_peptides[0][1])"
   ]
  },
  {
   "cell_type": "code",
   "execution_count": null,
   "metadata": {},
   "outputs": [],
   "source": [
    "gene_metadata = peptide_kmer_comparisons.id1"
   ]
  },
  {
   "cell_type": "code",
   "execution_count": 127,
   "metadata": {},
   "outputs": [
    {
     "data": {
      "text/plain": [
       "199"
      ]
     },
     "execution_count": 127,
     "metadata": {},
     "output_type": "execute_result"
    }
   ],
   "source": [
    "peptide_kmer_comparisons.id1.nunique()"
   ]
  },
  {
   "cell_type": "code",
   "execution_count": 126,
   "metadata": {},
   "outputs": [
    {
     "name": "stderr",
     "output_type": "stream",
     "text": [
      "/home/olga/miniconda3/envs/kmer-hashing/lib/python3.6/site-packages/seaborn/categorical.py:3666: UserWarning: The `factorplot` function has been renamed to `catplot`. The original name will be removed in a future release. Please update your code. Note that the default `kind` in `factorplot` (`'point'`) has changed `'strip'` in `catplot`.\n",
      "  warnings.warn(msg)\n"
     ]
    },
    {
     "data": {
      "text/plain": [
       "<seaborn.axisgrid.FacetGrid at 0x7f7b52c21978>"
      ]
     },
     "execution_count": 126,
     "metadata": {},
     "output_type": "execute_result"
    },
    {
     "data": {
      "image/png": "[encoded data removed]",
      "text/plain": [
       "<Figure size 480.5x360 with 1 Axes>"
      ]
     },
     "metadata": {
      "needs_background": "light"
     },
     "output_type": "display_data"
    }
   ],
   "source": [
    "peptide_kmer_comparisons.id1.nunique, data=peptide_kmer_comparisons, hue='molecule')"
   ]
  },
  {
   "cell_type": "code",
   "execution_count": 128,
   "metadata": {},
   "outputs": [
    {
     "name": "stderr",
     "output_type": "stream",
     "text": [
      "/home/olga/miniconda3/envs/kmer-hashing/lib/python3.6/site-packages/statsmodels/nonparametric/kde.py:488: RuntimeWarning: invalid value encountered in true_divide\n",
      "  binned = fast_linbin(X, a, b, gridsize) / (delta * nobs)\n",
      "/home/olga/miniconda3/envs/kmer-hashing/lib/python3.6/site-packages/statsmodels/nonparametric/kdetools.py:34: RuntimeWarning: invalid value encountered in double_scalars\n",
      "  FAC1 = 2*(np.pi*bw/RANGE)**2\n"
     ]
    },
    {
     "data": {
      "text/plain": [
       "<seaborn.axisgrid.FacetGrid at 0x7f7afc9cc390>"
      ]
     },
     "execution_count": 128,
     "metadata": {},
     "output_type": "execute_result"
    },
    {
     "data": {
      "image/png": "[encoded data removed]",
      "text/plain": [
       "<Figure size 696.75x216 with 3 Axes>"
      ]
     },
     "metadata": {
      "needs_background": "light"
     },
     "output_type": "display_data"
    }
   ],
   "source": [
    "peptide_kmer_comparisons_kdeable = peptide_kmer_comparisons.query('(jaccard > 0) & (jaccard < 1)')\n",
    "\n",
    "g = sns.FacetGrid(peptide_kmer_comparisons_kdeable, col='molecule', hue='ksize', \n",
    "                  palette='viridis')\n",
    "g.map(sns.kdeplot, 'jaccard', shade=True)\n",
    "g.set(xlim=(0, 1), ylim=(0, 10))\n",
    "g.add_legend()"
   ]
  },
  {
   "cell_type": "code",
   "execution_count": null,
   "metadata": {},
   "outputs": [],
   "source": [
    "g = sns.FacetGrid(peptide_kmer_comparisons, col='molecule', hue='ksize', \n",
    "                  palette='viridis')\n",
    "g.map(sns.kdeplot, 'jaccard')\n",
    "g.set(xlim=(0, 1), ylim=(0, 10))\n",
    "g.add_legend()"
   ]
  },
  {
   "cell_type": "code",
   "execution_count": 69,
   "metadata": {},
   "outputs": [
    {
     "ename": "NameError",
     "evalue": "name 'np' is not defined",
     "output_type": "error",
     "traceback": [
      "\u001b[0;31m----------------------------------------------------------------------\u001b[0m",
      "\u001b[0;31mNameError\u001b[0m                            Traceback (most recent call last)",
      "\u001b[0;32m<ipython-input-69-6fecebd0febc>\u001b[0m in \u001b[0;36m<module>\u001b[0;34m()\u001b[0m\n\u001b[0;32m----> 1\u001b[0;31m \u001b[0mnp\u001b[0m\u001b[0;34m\u001b[0m\u001b[0;34m\u001b[0m\u001b[0m\n\u001b[0m",
      "\u001b[0;31mNameError\u001b[0m: name 'np' is not defined"
     ]
    }
   ],
   "source": [
    "np"
   ]
  },
  {
   "cell_type": "code",
   "execution_count": 68,
   "metadata": {},
   "outputs": [
    {
     "name": "stdout",
     "output_type": "stream",
     "text": [
      "(1687, 5)\n"
     ]
    },
    {
     "data": {
      "text/html": [
       "<div>\n",
       "<style scoped>\n",
       "    .dataframe tbody tr th:only-of-type {\n",
       "        vertical-align: middle;\n",
       "    }\n",
       "\n",
       "    .dataframe tbody tr th {\n",
       "        vertical-align: top;\n",
       "    }\n",
       "\n",
       "    .dataframe thead th {\n",
       "        text-align: right;\n",
       "    }\n",
       "</style>\n",
       "<table border=\"1\" class=\"dataframe\">\n",
       "  <thead>\n",
       "    <tr style=\"text-align: right;\">\n",
       "      <th></th>\n",
       "      <th>id1</th>\n",
       "      <th>id2</th>\n",
       "      <th>ksize</th>\n",
       "      <th>jaccard</th>\n",
       "      <th>molecule</th>\n",
       "    </tr>\n",
       "  </thead>\n",
       "  <tbody>\n",
       "    <tr>\n",
       "      <th>0</th>\n",
       "      <td>ENSP00000493376.2|ENST00000641515.2|ENSG000001...</td>\n",
       "      <td>ENSMUSP00000070648.4|ENSMUST00000070533.4|ENSM...</td>\n",
       "      <td>2</td>\n",
       "      <td>0.777202</td>\n",
       "      <td>protein</td>\n",
       "    </tr>\n",
       "    <tr>\n",
       "      <th>1</th>\n",
       "      <td>ENSP00000493376.2|ENST00000641515.2|ENSG000001...</td>\n",
       "      <td>ENSMUSP00000070648.4|ENSMUST00000070533.4|ENSM...</td>\n",
       "      <td>3</td>\n",
       "      <td>0.130719</td>\n",
       "      <td>protein</td>\n",
       "    </tr>\n",
       "    <tr>\n",
       "      <th>2</th>\n",
       "      <td>ENSP00000493376.2|ENST00000641515.2|ENSG000001...</td>\n",
       "      <td>ENSMUSP00000070648.4|ENSMUST00000070533.4|ENSM...</td>\n",
       "      <td>4</td>\n",
       "      <td>0.006211</td>\n",
       "      <td>protein</td>\n",
       "    </tr>\n",
       "    <tr>\n",
       "      <th>8</th>\n",
       "      <td>ENSP00000493376.2|ENST00000641515.2|ENSG000001...</td>\n",
       "      <td>ENSMUSP00000070648.4|ENSMUST00000070533.4|ENSM...</td>\n",
       "      <td>2</td>\n",
       "      <td>1.000000</td>\n",
       "      <td>dayhoff</td>\n",
       "    </tr>\n",
       "    <tr>\n",
       "      <th>9</th>\n",
       "      <td>ENSP00000493376.2|ENST00000641515.2|ENSG000001...</td>\n",
       "      <td>ENSMUSP00000070648.4|ENSMUST00000070533.4|ENSM...</td>\n",
       "      <td>3</td>\n",
       "      <td>0.883929</td>\n",
       "      <td>dayhoff</td>\n",
       "    </tr>\n",
       "  </tbody>\n",
       "</table>\n",
       "</div>"
      ],
      "text/plain": [
       "                                                 id1  \\\n",
       "0  ENSP00000493376.2|ENST00000641515.2|ENSG000001...   \n",
       "1  ENSP00000493376.2|ENST00000641515.2|ENSG000001...   \n",
       "2  ENSP00000493376.2|ENST00000641515.2|ENSG000001...   \n",
       "8  ENSP00000493376.2|ENST00000641515.2|ENSG000001...   \n",
       "9  ENSP00000493376.2|ENST00000641515.2|ENSG000001...   \n",
       "\n",
       "                                                 id2  ksize   jaccard molecule  \n",
       "0  ENSMUSP00000070648.4|ENSMUST00000070533.4|ENSM...      2  0.777202  protein  \n",
       "1  ENSMUSP00000070648.4|ENSMUST00000070533.4|ENSM...      3  0.130719  protein  \n",
       "2  ENSMUSP00000070648.4|ENSMUST00000070533.4|ENSM...      4  0.006211  protein  \n",
       "8  ENSMUSP00000070648.4|ENSMUST00000070533.4|ENSM...      2  1.000000  dayhoff  \n",
       "9  ENSMUSP00000070648.4|ENSMUST00000070533.4|ENSM...      3  0.883929  dayhoff  "
      ]
     },
     "execution_count": 68,
     "metadata": {},
     "output_type": "execute_result"
    }
   ],
   "source": [
    "peptide_kmer_comparisons_gr0 = peptide_kmer_comparisons.query('jaccard > 0')\n",
    "print(peptide_kmer_comparisons_gr0.shape)\n",
    "peptide_kmer_comparisons_gr0.head()"
   ]
  },
  {
   "cell_type": "code",
   "execution_count": 67,
   "metadata": {},
   "outputs": [
    {
     "ename": "ValueError",
     "evalue": "zero-size array to reduction operation minimum which has no identity",
     "output_type": "error",
     "traceback": [
      "\u001b[0;31m----------------------------------------------------------------------\u001b[0m",
      "\u001b[0;31mValueError\u001b[0m                           Traceback (most recent call last)",
      "\u001b[0;32m<ipython-input-67-ed79e8a670a7>\u001b[0m in \u001b[0;36m<module>\u001b[0;34m()\u001b[0m\n\u001b[1;32m      3\u001b[0m g = sns.FacetGrid(peptide_kmer_comparisons_gr0, col='molecule', hue='ksize', \n\u001b[1;32m      4\u001b[0m                   palette='viridis')\n\u001b[0;32m----> 5\u001b[0;31m \u001b[0mg\u001b[0m\u001b[0;34m.\u001b[0m\u001b[0mmap\u001b[0m\u001b[0;34m(\u001b[0m\u001b[0msns\u001b[0m\u001b[0;34m.\u001b[0m\u001b[0mkdeplot\u001b[0m\u001b[0;34m,\u001b[0m \u001b[0;34m'jaccard'\u001b[0m\u001b[0;34m,\u001b[0m \u001b[0mclip\u001b[0m\u001b[0;34m=\u001b[0m\u001b[0;34m(\u001b[0m\u001b[0;36m0\u001b[0m\u001b[0;34m,\u001b[0m \u001b[0;36m1\u001b[0m\u001b[0;34m)\u001b[0m\u001b[0;34m,\u001b[0m \u001b[0mbw\u001b[0m\u001b[0;34m=\u001b[0m\u001b[0;36m0.001\u001b[0m\u001b[0;34m)\u001b[0m\u001b[0;34m\u001b[0m\u001b[0;34m\u001b[0m\u001b[0m\n\u001b[0m\u001b[1;32m      6\u001b[0m \u001b[0mg\u001b[0m\u001b[0;34m.\u001b[0m\u001b[0mset\u001b[0m\u001b[0;34m(\u001b[0m\u001b[0mxlim\u001b[0m\u001b[0;34m=\u001b[0m\u001b[0;34m(\u001b[0m\u001b[0;36m0\u001b[0m\u001b[0;34m,\u001b[0m \u001b[0;36m1\u001b[0m\u001b[0;34m)\u001b[0m\u001b[0;34m,\u001b[0m \u001b[0mylim\u001b[0m\u001b[0;34m=\u001b[0m\u001b[0;34m(\u001b[0m\u001b[0;36m0\u001b[0m\u001b[0;34m,\u001b[0m \u001b[0;36m10\u001b[0m\u001b[0;34m)\u001b[0m\u001b[0;34m)\u001b[0m\u001b[0;34m\u001b[0m\u001b[0;34m\u001b[0m\u001b[0m\n\u001b[1;32m      7\u001b[0m \u001b[0mg\u001b[0m\u001b[0;34m.\u001b[0m\u001b[0madd_legend\u001b[0m\u001b[0;34m(\u001b[0m\u001b[0;34m)\u001b[0m\u001b[0;34m\u001b[0m\u001b[0;34m\u001b[0m\u001b[0m\n",
      "\u001b[0;32m~/miniconda3/envs/kmer-hashing/lib/python3.6/site-packages/seaborn/axisgrid.py\u001b[0m in \u001b[0;36mmap\u001b[0;34m(self, func, *args, **kwargs)\u001b[0m\n\u001b[1;32m    752\u001b[0m \u001b[0;34m\u001b[0m\u001b[0m\n\u001b[1;32m    753\u001b[0m             \u001b[0;31m# Draw the plot\u001b[0m\u001b[0;34m\u001b[0m\u001b[0;34m\u001b[0m\u001b[0;34m\u001b[0m\u001b[0m\n\u001b[0;32m--> 754\u001b[0;31m             \u001b[0mself\u001b[0m\u001b[0;34m.\u001b[0m\u001b[0m_facet_plot\u001b[0m\u001b[0;34m(\u001b[0m\u001b[0mfunc\u001b[0m\u001b[0;34m,\u001b[0m \u001b[0max\u001b[0m\u001b[0;34m,\u001b[0m \u001b[0mplot_args\u001b[0m\u001b[0;34m,\u001b[0m \u001b[0mkwargs\u001b[0m\u001b[0;34m)\u001b[0m\u001b[0;34m\u001b[0m\u001b[0;34m\u001b[0m\u001b[0m\n\u001b[0m\u001b[1;32m    755\u001b[0m \u001b[0;34m\u001b[0m\u001b[0m\n\u001b[1;32m    756\u001b[0m         \u001b[0;31m# Finalize the annotations and layout\u001b[0m\u001b[0;34m\u001b[0m\u001b[0;34m\u001b[0m\u001b[0;34m\u001b[0m\u001b[0m\n",
      "\u001b[0;32m~/miniconda3/envs/kmer-hashing/lib/python3.6/site-packages/seaborn/axisgrid.py\u001b[0m in \u001b[0;36m_facet_plot\u001b[0;34m(self, func, ax, plot_args, plot_kwargs)\u001b[0m\n\u001b[1;32m    836\u001b[0m \u001b[0;34m\u001b[0m\u001b[0m\n\u001b[1;32m    837\u001b[0m         \u001b[0;31m# Draw the plot\u001b[0m\u001b[0;34m\u001b[0m\u001b[0;34m\u001b[0m\u001b[0;34m\u001b[0m\u001b[0m\n\u001b[0;32m--> 838\u001b[0;31m         \u001b[0mfunc\u001b[0m\u001b[0;34m(\u001b[0m\u001b[0;34m*\u001b[0m\u001b[0mplot_args\u001b[0m\u001b[0;34m,\u001b[0m \u001b[0;34m**\u001b[0m\u001b[0mplot_kwargs\u001b[0m\u001b[0;34m)\u001b[0m\u001b[0;34m\u001b[0m\u001b[0;34m\u001b[0m\u001b[0m\n\u001b[0m\u001b[1;32m    839\u001b[0m \u001b[0;34m\u001b[0m\u001b[0m\n\u001b[1;32m    840\u001b[0m         \u001b[0;31m# Sort out the supporting information\u001b[0m\u001b[0;34m\u001b[0m\u001b[0;34m\u001b[0m\u001b[0;34m\u001b[0m\u001b[0m\n",
      "\u001b[0;32m~/miniconda3/envs/kmer-hashing/lib/python3.6/site-packages/seaborn/distributions.py\u001b[0m in \u001b[0;36mkdeplot\u001b[0;34m(data, data2, shade, vertical, kernel, bw, gridsize, cut, clip, legend, cumulative, shade_lowest, cbar, cbar_ax, cbar_kws, ax, **kwargs)\u001b[0m\n\u001b[1;32m    689\u001b[0m         ax = _univariate_kdeplot(data, shade, vertical, kernel, bw,\n\u001b[1;32m    690\u001b[0m                                  \u001b[0mgridsize\u001b[0m\u001b[0;34m,\u001b[0m \u001b[0mcut\u001b[0m\u001b[0;34m,\u001b[0m \u001b[0mclip\u001b[0m\u001b[0;34m,\u001b[0m \u001b[0mlegend\u001b[0m\u001b[0;34m,\u001b[0m \u001b[0max\u001b[0m\u001b[0;34m,\u001b[0m\u001b[0;34m\u001b[0m\u001b[0;34m\u001b[0m\u001b[0m\n\u001b[0;32m--> 691\u001b[0;31m                                  cumulative=cumulative, **kwargs)\n\u001b[0m\u001b[1;32m    692\u001b[0m \u001b[0;34m\u001b[0m\u001b[0m\n\u001b[1;32m    693\u001b[0m     \u001b[0;32mreturn\u001b[0m \u001b[0max\u001b[0m\u001b[0;34m\u001b[0m\u001b[0;34m\u001b[0m\u001b[0m\n",
      "\u001b[0;32m~/miniconda3/envs/kmer-hashing/lib/python3.6/site-packages/seaborn/distributions.py\u001b[0m in \u001b[0;36m_univariate_kdeplot\u001b[0;34m(data, shade, vertical, kernel, bw, gridsize, cut, clip, legend, ax, cumulative, **kwargs)\u001b[0m\n\u001b[1;32m    281\u001b[0m         x, y = _statsmodels_univariate_kde(data, kernel, bw,\n\u001b[1;32m    282\u001b[0m                                            \u001b[0mgridsize\u001b[0m\u001b[0;34m,\u001b[0m \u001b[0mcut\u001b[0m\u001b[0;34m,\u001b[0m \u001b[0mclip\u001b[0m\u001b[0;34m,\u001b[0m\u001b[0;34m\u001b[0m\u001b[0;34m\u001b[0m\u001b[0m\n\u001b[0;32m--> 283\u001b[0;31m                                            cumulative=cumulative)\n\u001b[0m\u001b[1;32m    284\u001b[0m     \u001b[0;32melse\u001b[0m\u001b[0;34m:\u001b[0m\u001b[0;34m\u001b[0m\u001b[0;34m\u001b[0m\u001b[0m\n\u001b[1;32m    285\u001b[0m         \u001b[0;31m# Fall back to scipy if missing statsmodels\u001b[0m\u001b[0;34m\u001b[0m\u001b[0;34m\u001b[0m\u001b[0;34m\u001b[0m\u001b[0m\n",
      "\u001b[0;32m~/miniconda3/envs/kmer-hashing/lib/python3.6/site-packages/seaborn/distributions.py\u001b[0m in \u001b[0;36m_statsmodels_univariate_kde\u001b[0;34m(data, kernel, bw, gridsize, cut, clip, cumulative)\u001b[0m\n\u001b[1;32m    353\u001b[0m     \u001b[0mfft\u001b[0m \u001b[0;34m=\u001b[0m \u001b[0mkernel\u001b[0m \u001b[0;34m==\u001b[0m \u001b[0;34m\"gau\"\u001b[0m\u001b[0;34m\u001b[0m\u001b[0;34m\u001b[0m\u001b[0m\n\u001b[1;32m    354\u001b[0m     \u001b[0mkde\u001b[0m \u001b[0;34m=\u001b[0m \u001b[0msmnp\u001b[0m\u001b[0;34m.\u001b[0m\u001b[0mKDEUnivariate\u001b[0m\u001b[0;34m(\u001b[0m\u001b[0mdata\u001b[0m\u001b[0;34m)\u001b[0m\u001b[0;34m\u001b[0m\u001b[0;34m\u001b[0m\u001b[0m\n\u001b[0;32m--> 355\u001b[0;31m     \u001b[0mkde\u001b[0m\u001b[0;34m.\u001b[0m\u001b[0mfit\u001b[0m\u001b[0;34m(\u001b[0m\u001b[0mkernel\u001b[0m\u001b[0;34m,\u001b[0m \u001b[0mbw\u001b[0m\u001b[0;34m,\u001b[0m \u001b[0mfft\u001b[0m\u001b[0;34m,\u001b[0m \u001b[0mgridsize\u001b[0m\u001b[0;34m=\u001b[0m\u001b[0mgridsize\u001b[0m\u001b[0;34m,\u001b[0m \u001b[0mcut\u001b[0m\u001b[0;34m=\u001b[0m\u001b[0mcut\u001b[0m\u001b[0;34m,\u001b[0m \u001b[0mclip\u001b[0m\u001b[0;34m=\u001b[0m\u001b[0mclip\u001b[0m\u001b[0;34m)\u001b[0m\u001b[0;34m\u001b[0m\u001b[0;34m\u001b[0m\u001b[0m\n\u001b[0m\u001b[1;32m    356\u001b[0m     \u001b[0;32mif\u001b[0m \u001b[0mcumulative\u001b[0m\u001b[0;34m:\u001b[0m\u001b[0;34m\u001b[0m\u001b[0;34m\u001b[0m\u001b[0m\n\u001b[1;32m    357\u001b[0m         \u001b[0mgrid\u001b[0m\u001b[0;34m,\u001b[0m \u001b[0my\u001b[0m \u001b[0;34m=\u001b[0m \u001b[0mkde\u001b[0m\u001b[0;34m.\u001b[0m\u001b[0msupport\u001b[0m\u001b[0;34m,\u001b[0m \u001b[0mkde\u001b[0m\u001b[0;34m.\u001b[0m\u001b[0mcdf\u001b[0m\u001b[0;34m\u001b[0m\u001b[0;34m\u001b[0m\u001b[0m\n",
      "\u001b[0;32m~/miniconda3/envs/kmer-hashing/lib/python3.6/site-packages/statsmodels/nonparametric/kde.py\u001b[0m in \u001b[0;36mfit\u001b[0;34m(self, kernel, bw, fft, weights, gridsize, adjust, cut, clip)\u001b[0m\n\u001b[1;32m    140\u001b[0m             density, grid, bw = kdensityfft(endog, kernel=kernel, bw=bw,\n\u001b[1;32m    141\u001b[0m                     \u001b[0madjust\u001b[0m\u001b[0;34m=\u001b[0m\u001b[0madjust\u001b[0m\u001b[0;34m,\u001b[0m \u001b[0mweights\u001b[0m\u001b[0;34m=\u001b[0m\u001b[0mweights\u001b[0m\u001b[0;34m,\u001b[0m \u001b[0mgridsize\u001b[0m\u001b[0;34m=\u001b[0m\u001b[0mgridsize\u001b[0m\u001b[0;34m,\u001b[0m\u001b[0;34m\u001b[0m\u001b[0;34m\u001b[0m\u001b[0m\n\u001b[0;32m--> 142\u001b[0;31m                     clip=clip, cut=cut)\n\u001b[0m\u001b[1;32m    143\u001b[0m         \u001b[0;32melse\u001b[0m\u001b[0;34m:\u001b[0m\u001b[0;34m\u001b[0m\u001b[0;34m\u001b[0m\u001b[0m\n\u001b[1;32m    144\u001b[0m             density, grid, bw = kdensity(endog, kernel=kernel, bw=bw,\n",
      "\u001b[0;32m~/miniconda3/envs/kmer-hashing/lib/python3.6/site-packages/statsmodels/nonparametric/kde.py\u001b[0m in \u001b[0;36mkdensityfft\u001b[0;34m(X, kernel, bw, weights, gridsize, adjust, clip, cut, retgrid)\u001b[0m\n\u001b[1;32m    465\u001b[0m     \u001b[0mgridsize\u001b[0m \u001b[0;34m=\u001b[0m \u001b[0;36m2\u001b[0m\u001b[0;34m**\u001b[0m\u001b[0mnp\u001b[0m\u001b[0;34m.\u001b[0m\u001b[0mceil\u001b[0m\u001b[0;34m(\u001b[0m\u001b[0mnp\u001b[0m\u001b[0;34m.\u001b[0m\u001b[0mlog2\u001b[0m\u001b[0;34m(\u001b[0m\u001b[0mgridsize\u001b[0m\u001b[0;34m)\u001b[0m\u001b[0;34m)\u001b[0m \u001b[0;31m# round to next power of 2\u001b[0m\u001b[0;34m\u001b[0m\u001b[0;34m\u001b[0m\u001b[0m\n\u001b[1;32m    466\u001b[0m \u001b[0;34m\u001b[0m\u001b[0m\n\u001b[0;32m--> 467\u001b[0;31m     \u001b[0ma\u001b[0m \u001b[0;34m=\u001b[0m \u001b[0mnp\u001b[0m\u001b[0;34m.\u001b[0m\u001b[0mmin\u001b[0m\u001b[0;34m(\u001b[0m\u001b[0mX\u001b[0m\u001b[0;34m)\u001b[0m \u001b[0;34m-\u001b[0m \u001b[0mcut\u001b[0m \u001b[0;34m*\u001b[0m \u001b[0mbw\u001b[0m\u001b[0;34m\u001b[0m\u001b[0;34m\u001b[0m\u001b[0m\n\u001b[0m\u001b[1;32m    468\u001b[0m     \u001b[0mb\u001b[0m \u001b[0;34m=\u001b[0m \u001b[0mnp\u001b[0m\u001b[0;34m.\u001b[0m\u001b[0mmax\u001b[0m\u001b[0;34m(\u001b[0m\u001b[0mX\u001b[0m\u001b[0;34m)\u001b[0m \u001b[0;34m+\u001b[0m \u001b[0mcut\u001b[0m \u001b[0;34m*\u001b[0m \u001b[0mbw\u001b[0m\u001b[0;34m\u001b[0m\u001b[0;34m\u001b[0m\u001b[0m\n\u001b[1;32m    469\u001b[0m     \u001b[0mgrid\u001b[0m\u001b[0;34m,\u001b[0m\u001b[0mdelta\u001b[0m \u001b[0;34m=\u001b[0m \u001b[0mnp\u001b[0m\u001b[0;34m.\u001b[0m\u001b[0mlinspace\u001b[0m\u001b[0;34m(\u001b[0m\u001b[0ma\u001b[0m\u001b[0;34m,\u001b[0m \u001b[0mb\u001b[0m\u001b[0;34m,\u001b[0m \u001b[0mint\u001b[0m\u001b[0;34m(\u001b[0m\u001b[0mgridsize\u001b[0m\u001b[0;34m)\u001b[0m\u001b[0;34m,\u001b[0m \u001b[0mretstep\u001b[0m\u001b[0;34m=\u001b[0m\u001b[0;32mTrue\u001b[0m\u001b[0;34m)\u001b[0m\u001b[0;34m\u001b[0m\u001b[0;34m\u001b[0m\u001b[0m\n",
      "\u001b[0;32m~/miniconda3/envs/kmer-hashing/lib/python3.6/site-packages/numpy/core/fromnumeric.py\u001b[0m in \u001b[0;36mamin\u001b[0;34m(a, axis, out, keepdims)\u001b[0m\n\u001b[1;32m   2418\u001b[0m \u001b[0;34m\u001b[0m\u001b[0m\n\u001b[1;32m   2419\u001b[0m     return _methods._amin(a, axis=axis,\n\u001b[0;32m-> 2420\u001b[0;31m                           out=out, **kwargs)\n\u001b[0m\u001b[1;32m   2421\u001b[0m \u001b[0;34m\u001b[0m\u001b[0m\n\u001b[1;32m   2422\u001b[0m \u001b[0;34m\u001b[0m\u001b[0m\n",
      "\u001b[0;32m~/miniconda3/envs/kmer-hashing/lib/python3.6/site-packages/numpy/core/_methods.py\u001b[0m in \u001b[0;36m_amin\u001b[0;34m(a, axis, out, keepdims)\u001b[0m\n\u001b[1;32m     27\u001b[0m \u001b[0;34m\u001b[0m\u001b[0m\n\u001b[1;32m     28\u001b[0m \u001b[0;32mdef\u001b[0m \u001b[0m_amin\u001b[0m\u001b[0;34m(\u001b[0m\u001b[0ma\u001b[0m\u001b[0;34m,\u001b[0m \u001b[0maxis\u001b[0m\u001b[0;34m=\u001b[0m\u001b[0;32mNone\u001b[0m\u001b[0;34m,\u001b[0m \u001b[0mout\u001b[0m\u001b[0;34m=\u001b[0m\u001b[0;32mNone\u001b[0m\u001b[0;34m,\u001b[0m \u001b[0mkeepdims\u001b[0m\u001b[0;34m=\u001b[0m\u001b[0;32mFalse\u001b[0m\u001b[0;34m)\u001b[0m\u001b[0;34m:\u001b[0m\u001b[0;34m\u001b[0m\u001b[0;34m\u001b[0m\u001b[0m\n\u001b[0;32m---> 29\u001b[0;31m     \u001b[0;32mreturn\u001b[0m \u001b[0mumr_minimum\u001b[0m\u001b[0;34m(\u001b[0m\u001b[0ma\u001b[0m\u001b[0;34m,\u001b[0m \u001b[0maxis\u001b[0m\u001b[0;34m,\u001b[0m \u001b[0;32mNone\u001b[0m\u001b[0;34m,\u001b[0m \u001b[0mout\u001b[0m\u001b[0;34m,\u001b[0m \u001b[0mkeepdims\u001b[0m\u001b[0;34m)\u001b[0m\u001b[0;34m\u001b[0m\u001b[0;34m\u001b[0m\u001b[0m\n\u001b[0m\u001b[1;32m     30\u001b[0m \u001b[0;34m\u001b[0m\u001b[0m\n\u001b[1;32m     31\u001b[0m \u001b[0;32mdef\u001b[0m \u001b[0m_sum\u001b[0m\u001b[0;34m(\u001b[0m\u001b[0ma\u001b[0m\u001b[0;34m,\u001b[0m \u001b[0maxis\u001b[0m\u001b[0;34m=\u001b[0m\u001b[0;32mNone\u001b[0m\u001b[0;34m,\u001b[0m \u001b[0mdtype\u001b[0m\u001b[0;34m=\u001b[0m\u001b[0;32mNone\u001b[0m\u001b[0;34m,\u001b[0m \u001b[0mout\u001b[0m\u001b[0;34m=\u001b[0m\u001b[0;32mNone\u001b[0m\u001b[0;34m,\u001b[0m \u001b[0mkeepdims\u001b[0m\u001b[0;34m=\u001b[0m\u001b[0;32mFalse\u001b[0m\u001b[0;34m)\u001b[0m\u001b[0;34m:\u001b[0m\u001b[0;34m\u001b[0m\u001b[0;34m\u001b[0m\u001b[0m\n",
      "\u001b[0;31mValueError\u001b[0m: zero-size array to reduction operation minimum which has no identity"
     ]
    },
    {
     "data": {
      "image/png": "[encoded data removed]",
      "text/plain": [
       "<Figure size 648x216 with 3 Axes>"
      ]
     },
     "metadata": {
      "needs_background": "light"
     },
     "output_type": "display_data"
    }
   ],
   "source": [
    "g = sns.FacetGrid(peptide_kmer_comparisons_gr0, col='molecule', hue='ksize', \n",
    "                  palette='viridis')\n",
    "g.map(sns.kdeplot, 'jaccard', clip=(0, 1), bw=0.001)\n",
    "g.set(xlim=(0, 1), ylim=(0, 10))\n",
    "g.add_legend()"
   ]
  },
  {
   "cell_type": "code",
   "execution_count": null,
   "metadata": {},
   "outputs": [],
   "source": []
  },
  {
   "cell_type": "code",
   "execution_count": 134,
   "metadata": {},
   "outputs": [],
   "source": [
    "source_dayhoff = source_seq.translate(dayhoff_mapping)"
   ]
  },
  {
   "cell_type": "code",
   "execution_count": 136,
   "metadata": {},
   "outputs": [
    {
     "name": "stdout",
     "output_type": "stream",
     "text": [
      "--- 2 ---\n",
      "len(target_kmers): 32\n",
      "len(source_kmers): 32\n",
      "intersection: 1.0\n",
      "--- 3 ---\n",
      "len(target_kmers): 110\n",
      "len(source_kmers): 111\n",
      "intersection: 0.8363636363636363\n",
      "--- 4 ---\n",
      "len(target_kmers): 204\n",
      "len(source_kmers): 222\n",
      "intersection: 0.5980392156862745\n",
      "--- 5 ---\n",
      "len(target_kmers): 268\n",
      "len(source_kmers): 283\n",
      "intersection: 0.417910447761194\n",
      "--- 6 ---\n",
      "len(target_kmers): 290\n",
      "len(source_kmers): 301\n",
      "intersection: 0.29310344827586204\n",
      "--- 7 ---\n",
      "len(target_kmers): 295\n",
      "len(source_kmers): 305\n",
      "intersection: 0.2305084745762712\n",
      "--- 8 ---\n",
      "len(target_kmers): 296\n",
      "len(source_kmers): 305\n",
      "intersection: 0.18243243243243243\n",
      "--- 9 ---\n",
      "len(target_kmers): 296\n",
      "len(source_kmers): 304\n",
      "intersection: 0.14864864864864866\n"
     ]
    }
   ],
   "source": [
    "ksizes = 2, 3, 4, 5, 6, 7, 8, 9\n",
    "\n",
    "for ksize in ksizes:\n",
    "    print(f\"--- {ksize} ---\")\n",
    "    target_kmers = set(target_dayhoff[i:i+ksize] for i in range(len(target_dayhoff)-ksize+1))\n",
    "    source_kmers = set(source_dayhoff[i:i+ksize] for i in range(len(source_dayhoff)-ksize+1))\n",
    "    print(\"len(target_kmers):\", len(target_kmers))\n",
    "    print(\"len(source_kmers):\", len(source_kmers))\n",
    "    print(\"intersection:\", len(target_kmers.intersection(source_kmers))/min(len(source_kmers), len(target_kmers)))"
   ]
  },
  {
   "cell_type": "code",
   "execution_count": 124,
   "metadata": {},
   "outputs": [
    {
     "data": {
      "text/plain": [
       "dict_keys(['method_link_type', 'target', 'type', 'dn_ds', 'taxonomy_level', 'source'])"
      ]
     },
     "execution_count": 124,
     "metadata": {},
     "output_type": "execute_result"
    }
   ],
   "source": [
    "homology.keys()"
   ]
  },
  {
   "cell_type": "code",
   "execution_count": 84,
   "metadata": {},
   "outputs": [
    {
     "data": {
      "text/plain": [
       "[{'align_type': None,\n",
       "  'interpro': '',\n",
       "  'id': 'SSF81321',\n",
       "  'Parent': 'ENST00000585993',\n",
       "  'type': 'SuperFamily',\n",
       "  'description': '',\n",
       "  'cigar_string': '',\n",
       "  'feature_type': 'protein_feature',\n",
       "  'translation_id': 1589091,\n",
       "  'hseqname': 'SSF81321',\n",
       "  'start': 2,\n",
       "  'seq_region_name': 'ENSP00000467301',\n",
       "  'hit_start': 0,\n",
       "  'hit_end': 0,\n",
       "  'end': 297},\n",
       " {'interpro': 'IPR000276',\n",
       "  'align_type': None,\n",
       "  'id': 'PS00237',\n",
       "  'cigar_string': '',\n",
       "  'feature_type': 'protein_feature',\n",
       "  'translation_id': 1589091,\n",
       "  'hseqname': 'PS00237',\n",
       "  'type': 'Prosite_patterns',\n",
       "  'Parent': 'ENST00000585993',\n",
       "  'description': 'G protein-coupled receptor, rhodopsin-like',\n",
       "  'start': 103,\n",
       "  'end': 119,\n",
       "  'hit_end': 0,\n",
       "  'seq_region_name': 'ENSP00000467301',\n",
       "  'hit_start': 0},\n",
       " {'interpro': '',\n",
       "  'align_type': None,\n",
       "  'id': 'TMhelix',\n",
       "  'type': 'TMHMM',\n",
       "  'Parent': 'ENST00000585993',\n",
       "  'description': '',\n",
       "  'feature_type': 'protein_feature',\n",
       "  'hseqname': 'TMhelix',\n",
       "  'translation_id': 1589091,\n",
       "  'cigar_string': '',\n",
       "  'start': 196,\n",
       "  'hit_start': 0,\n",
       "  'seq_region_name': 'ENSP00000467301',\n",
       "  'hit_end': 0,\n",
       "  'end': 218},\n",
       " {'id': 'TMhelix',\n",
       "  'align_type': None,\n",
       "  'interpro': '',\n",
       "  'feature_type': 'protein_feature',\n",
       "  'translation_id': 1589091,\n",
       "  'hseqname': 'TMhelix',\n",
       "  'cigar_string': '',\n",
       "  'description': '',\n",
       "  'Parent': 'ENST00000585993',\n",
       "  'type': 'TMHMM',\n",
       "  'start': 91,\n",
       "  'end': 113,\n",
       "  'hit_start': 0,\n",
       "  'seq_region_name': 'ENSP00000467301',\n",
       "  'hit_end': 0},\n",
       " {'seq_region_name': 'ENSP00000467301',\n",
       "  'hit_end': 0,\n",
       "  'hit_start': 0,\n",
       "  'end': 282,\n",
       "  'start': 263,\n",
       "  'description': '',\n",
       "  'Parent': 'ENST00000585993',\n",
       "  'type': 'TMHMM',\n",
       "  'feature_type': 'protein_feature',\n",
       "  'translation_id': 1589091,\n",
       "  'cigar_string': '',\n",
       "  'hseqname': 'TMhelix',\n",
       "  'id': 'TMhelix',\n",
       "  'align_type': None,\n",
       "  'interpro': ''},\n",
       " {'id': 'TMhelix',\n",
       "  'interpro': '',\n",
       "  'align_type': None,\n",
       "  'type': 'TMHMM',\n",
       "  'Parent': 'ENST00000585993',\n",
       "  'description': '',\n",
       "  'cigar_string': '',\n",
       "  'feature_type': 'protein_feature',\n",
       "  'translation_id': 1589091,\n",
       "  'hseqname': 'TMhelix',\n",
       "  'start': 125,\n",
       "  'seq_region_name': 'ENSP00000467301',\n",
       "  'hit_start': 0,\n",
       "  'hit_end': 0,\n",
       "  'end': 147},\n",
       " {'id': 'TMhelix',\n",
       "  'interpro': '',\n",
       "  'align_type': None,\n",
       "  'translation_id': 1589091,\n",
       "  'feature_type': 'protein_feature',\n",
       "  'hseqname': 'TMhelix',\n",
       "  'cigar_string': '',\n",
       "  'Parent': 'ENST00000585993',\n",
       "  'type': 'TMHMM',\n",
       "  'description': '',\n",
       "  'start': 231,\n",
       "  'end': 253,\n",
       "  'hit_end': 0,\n",
       "  'seq_region_name': 'ENSP00000467301',\n",
       "  'hit_start': 0},\n",
       " {'seq_region_name': 'ENSP00000467301',\n",
       "  'hit_end': 0,\n",
       "  'hit_start': 0,\n",
       "  'end': 76,\n",
       "  'start': 54,\n",
       "  'description': '',\n",
       "  'Parent': 'ENST00000585993',\n",
       "  'type': 'TMHMM',\n",
       "  'feature_type': 'protein_feature',\n",
       "  'hseqname': 'TMhelix',\n",
       "  'translation_id': 1589091,\n",
       "  'cigar_string': '',\n",
       "  'id': 'TMhelix',\n",
       "  'align_type': None,\n",
       "  'interpro': ''},\n",
       " {'end': 42,\n",
       "  'seq_region_name': 'ENSP00000467301',\n",
       "  'hit_end': 0,\n",
       "  'hit_start': 0,\n",
       "  'start': 20,\n",
       "  'feature_type': 'protein_feature',\n",
       "  'translation_id': 1589091,\n",
       "  'cigar_string': '',\n",
       "  'hseqname': 'TMhelix',\n",
       "  'Parent': 'ENST00000585993',\n",
       "  'type': 'TMHMM',\n",
       "  'description': '',\n",
       "  'id': 'TMhelix',\n",
       "  'align_type': None,\n",
       "  'interpro': ''},\n",
       " {'Parent': 'ENST00000585993',\n",
       "  'description': '',\n",
       "  'type': 'CDD',\n",
       "  'translation_id': 1589091,\n",
       "  'feature_type': 'protein_feature',\n",
       "  'cigar_string': '',\n",
       "  'hseqname': 'cd15226',\n",
       "  'id': 'cd15226',\n",
       "  'align_type': None,\n",
       "  'interpro': '',\n",
       "  'hit_end': 0,\n",
       "  'seq_region_name': 'ENSP00000467301',\n",
       "  'hit_start': 0,\n",
       "  'end': 284,\n",
       "  'start': 19},\n",
       " {'id': 'PR00237',\n",
       "  'interpro': 'IPR000276',\n",
       "  'align_type': None,\n",
       "  'description': 'G protein-coupled receptor, rhodopsin-like',\n",
       "  'Parent': 'ENST00000585993',\n",
       "  'type': 'PRINTS',\n",
       "  'feature_type': 'protein_feature',\n",
       "  'translation_id': 1589091,\n",
       "  'hseqname': 'PR00237',\n",
       "  'cigar_string': '',\n",
       "  'start': 52,\n",
       "  'hit_end': 0,\n",
       "  'seq_region_name': 'ENSP00000467301',\n",
       "  'hit_start': 0,\n",
       "  'end': 73},\n",
       " {'start': 19,\n",
       "  'hit_start': 0,\n",
       "  'seq_region_name': 'ENSP00000467301',\n",
       "  'hit_end': 0,\n",
       "  'end': 43,\n",
       "  'id': 'PR00237',\n",
       "  'interpro': 'IPR000276',\n",
       "  'align_type': None,\n",
       "  'Parent': 'ENST00000585993',\n",
       "  'description': 'G protein-coupled receptor, rhodopsin-like',\n",
       "  'type': 'PRINTS',\n",
       "  'feature_type': 'protein_feature',\n",
       "  'hseqname': 'PR00237',\n",
       "  'translation_id': 1589091,\n",
       "  'cigar_string': ''},\n",
       " {'hit_start': 0,\n",
       "  'seq_region_name': 'ENSP00000467301',\n",
       "  'hit_end': 0,\n",
       "  'end': 119,\n",
       "  'start': 97,\n",
       "  'type': 'PRINTS',\n",
       "  'Parent': 'ENST00000585993',\n",
       "  'description': 'G protein-coupled receptor, rhodopsin-like',\n",
       "  'feature_type': 'protein_feature',\n",
       "  'hseqname': 'PR00237',\n",
       "  'translation_id': 1589091,\n",
       "  'cigar_string': '',\n",
       "  'align_type': None,\n",
       "  'interpro': 'IPR000276',\n",
       "  'id': 'PR00237'},\n",
       " {'id': 'PR00237',\n",
       "  'interpro': 'IPR000276',\n",
       "  'align_type': None,\n",
       "  'feature_type': 'protein_feature',\n",
       "  'cigar_string': '',\n",
       "  'translation_id': 1589091,\n",
       "  'hseqname': 'PR00237',\n",
       "  'Parent': 'ENST00000585993',\n",
       "  'description': 'G protein-coupled receptor, rhodopsin-like',\n",
       "  'type': 'PRINTS',\n",
       "  'start': 262,\n",
       "  'end': 288,\n",
       "  'seq_region_name': 'ENSP00000467301',\n",
       "  'hit_end': 0,\n",
       "  'hit_start': 0},\n",
       " {'description': 'Olfactory receptor',\n",
       "  'Parent': 'ENST00000585993',\n",
       "  'type': 'PRINTS',\n",
       "  'translation_id': 1589091,\n",
       "  'feature_type': 'protein_feature',\n",
       "  'hseqname': 'PR00245',\n",
       "  'cigar_string': '',\n",
       "  'id': 'PR00245',\n",
       "  'interpro': 'IPR000725',\n",
       "  'align_type': None,\n",
       "  'seq_region_name': 'ENSP00000467301',\n",
       "  'hit_start': 0,\n",
       "  'hit_end': 0,\n",
       "  'end': 134,\n",
       "  'start': 122},\n",
       " {'start': 228,\n",
       "  'seq_region_name': 'ENSP00000467301',\n",
       "  'hit_start': 0,\n",
       "  'hit_end': 0,\n",
       "  'end': 237,\n",
       "  'interpro': 'IPR000725',\n",
       "  'align_type': None,\n",
       "  'id': 'PR00245',\n",
       "  'Parent': 'ENST00000585993',\n",
       "  'type': 'PRINTS',\n",
       "  'description': 'Olfactory receptor',\n",
       "  'feature_type': 'protein_feature',\n",
       "  'translation_id': 1589091,\n",
       "  'hseqname': 'PR00245',\n",
       "  'cigar_string': ''},\n",
       " {'end': 284,\n",
       "  'seq_region_name': 'ENSP00000467301',\n",
       "  'hit_start': 0,\n",
       "  'hit_end': 0,\n",
       "  'start': 273,\n",
       "  'feature_type': 'protein_feature',\n",
       "  'hseqname': 'PR00245',\n",
       "  'translation_id': 1589091,\n",
       "  'cigar_string': '',\n",
       "  'Parent': 'ENST00000585993',\n",
       "  'description': 'Olfactory receptor',\n",
       "  'type': 'PRINTS',\n",
       "  'id': 'PR00245',\n",
       "  'interpro': 'IPR000725',\n",
       "  'align_type': None},\n",
       " {'id': 'PR00245',\n",
       "  'align_type': None,\n",
       "  'interpro': 'IPR000725',\n",
       "  'cigar_string': '',\n",
       "  'feature_type': 'protein_feature',\n",
       "  'translation_id': 1589091,\n",
       "  'hseqname': 'PR00245',\n",
       "  'Parent': 'ENST00000585993',\n",
       "  'description': 'Olfactory receptor',\n",
       "  'type': 'PRINTS',\n",
       "  'start': 85,\n",
       "  'end': 96,\n",
       "  'seq_region_name': 'ENSP00000467301',\n",
       "  'hit_end': 0,\n",
       "  'hit_start': 0},\n",
       " {'translation_id': 1589091,\n",
       "  'feature_type': 'protein_feature',\n",
       "  'cigar_string': '',\n",
       "  'hseqname': 'PR00245',\n",
       "  'description': 'Olfactory receptor',\n",
       "  'Parent': 'ENST00000585993',\n",
       "  'type': 'PRINTS',\n",
       "  'interpro': 'IPR000725',\n",
       "  'align_type': None,\n",
       "  'id': 'PR00245',\n",
       "  'end': 185,\n",
       "  'hit_start': 0,\n",
       "  'seq_region_name': 'ENSP00000467301',\n",
       "  'hit_end': 0,\n",
       "  'start': 169},\n",
       " {'Parent': 'ENST00000585993',\n",
       "  'description': '',\n",
       "  'type': 'Gene3D',\n",
       "  'translation_id': 1589091,\n",
       "  'feature_type': 'protein_feature',\n",
       "  'cigar_string': '',\n",
       "  'hseqname': '1.20.1070.10',\n",
       "  'align_type': None,\n",
       "  'interpro': '',\n",
       "  'id': '1.20.1070.10',\n",
       "  'hit_start': 19,\n",
       "  'seq_region_name': 'ENSP00000467301',\n",
       "  'hit_end': 323,\n",
       "  'end': 300,\n",
       "  'start': 11},\n",
       " {'start': 1,\n",
       "  'seq_region_name': 'ENSP00000467301',\n",
       "  'hit_start': 2,\n",
       "  'hit_end': 301,\n",
       "  'end': 300,\n",
       "  'id': 'PTHR26451:SF179',\n",
       "  'align_type': None,\n",
       "  'interpro': '',\n",
       "  'Parent': 'ENST00000585993',\n",
       "  'description': '',\n",
       "  'type': 'PANTHER',\n",
       "  'hseqname': 'PTHR26451:SF179',\n",
       "  'feature_type': 'protein_feature',\n",
       "  'translation_id': 1589091,\n",
       "  'cigar_string': ''},\n",
       " {'Parent': 'ENST00000585993',\n",
       "  'type': 'PANTHER',\n",
       "  'description': '',\n",
       "  'feature_type': 'protein_feature',\n",
       "  'translation_id': 1589091,\n",
       "  'cigar_string': '',\n",
       "  'hseqname': 'PTHR26451',\n",
       "  'align_type': None,\n",
       "  'interpro': '',\n",
       "  'id': 'PTHR26451',\n",
       "  'hit_start': 2,\n",
       "  'seq_region_name': 'ENSP00000467301',\n",
       "  'hit_end': 301,\n",
       "  'end': 300,\n",
       "  'start': 1},\n",
       " {'hit_end': 0,\n",
       "  'seq_region_name': 'ENSP00000467301',\n",
       "  'hit_start': 0,\n",
       "  'end': 68,\n",
       "  'start': 55,\n",
       "  'Parent': 'ENST00000585993',\n",
       "  'description': '',\n",
       "  'type': 'Seg',\n",
       "  'feature_type': 'protein_feature',\n",
       "  'hseqname': 'seg',\n",
       "  'translation_id': 1589091,\n",
       "  'cigar_string': '',\n",
       "  'interpro': '',\n",
       "  'align_type': None,\n",
       "  'id': 'seg'},\n",
       " {'seq_region_name': 'ENSP00000467301',\n",
       "  'hit_end': 0,\n",
       "  'hit_start': 0,\n",
       "  'end': 280,\n",
       "  'start': 34,\n",
       "  'description': 'GPCR, rhodopsin-like, 7TM',\n",
       "  'Parent': 'ENST00000585993',\n",
       "  'type': 'Prosite_profiles',\n",
       "  'feature_type': 'protein_feature',\n",
       "  'hseqname': 'PS50262',\n",
       "  'translation_id': 1589091,\n",
       "  'cigar_string': '',\n",
       "  'id': 'PS50262',\n",
       "  'align_type': None,\n",
       "  'interpro': 'IPR017452'},\n",
       " {'start': 27,\n",
       "  'hit_start': 4,\n",
       "  'seq_region_name': 'ENSP00000467301',\n",
       "  'hit_end': 276,\n",
       "  'end': 294,\n",
       "  'interpro': 'IPR000725',\n",
       "  'align_type': None,\n",
       "  'id': 'PF13853',\n",
       "  'description': 'Olfactory receptor',\n",
       "  'Parent': 'ENST00000585993',\n",
       "  'type': 'Pfam',\n",
       "  'feature_type': 'protein_feature',\n",
       "  'translation_id': 1589091,\n",
       "  'hseqname': 'PF13853',\n",
       "  'cigar_string': ''}]"
      ]
     },
     "execution_count": 84,
     "metadata": {},
     "output_type": "execute_result"
    }
   ],
   "source": [
    "ensembl_rest.overlap_translation(\"ENSP00000467301\")"
   ]
  },
  {
   "cell_type": "code",
   "execution_count": 79,
   "metadata": {},
   "outputs": [],
   "source": [
    "target_protein_id = homology['target']['protein_id']\n",
    "source_protein_id = homology['source']['protein_id']\n",
    "\n",
    "target_sig = protein_id_to_signature[target_protein_id]\n",
    "source_sig = protein_id_to_signature[source_protein_id]\n",
    "\n"
   ]
  },
  {
   "cell_type": "code",
   "execution_count": null,
   "metadata": {},
   "outputs": [],
   "source": []
  },
  {
   "cell_type": "code",
   "execution_count": 80,
   "metadata": {},
   "outputs": [
    {
     "data": {
      "text/plain": [
       "0.0"
      ]
     },
     "execution_count": 80,
     "metadata": {},
     "output_type": "execute_result"
    }
   ],
   "source": [
    "target_sig.larity(source_sig)"
   ]
  },
  {
   "cell_type": "code",
   "execution_count": null,
   "metadata": {},
   "outputs": [],
   "source": [
    "for homology in homologies:\n"
   ]
  },
  {
   "cell_type": "code",
   "execution_count": 28,
   "metadata": {},
   "outputs": [
    {
     "data": {
      "text/plain": [
       "{'db_type': 'core',\n",
       " 'source': 'havana',\n",
       " 'object_type': 'Transcript',\n",
       " 'biotype': 'protein_coding',\n",
       " 'logic_name': 'havana',\n",
       " 'assembly_name': 'GRCh38',\n",
       " 'seq_region_name': '1',\n",
       " 'id': 'ENST00000641515',\n",
       " 'is_canonical': 0,\n",
       " 'start': 65419,\n",
       " 'end': 71585,\n",
       " 'Parent': 'ENSG00000186092',\n",
       " 'version': 2,\n",
       " 'display_name': 'OR4F5-202',\n",
       " 'species': 'homo_sapiens',\n",
       " 'strand': 1}"
      ]
     },
     "execution_count": 28,
     "metadata": {},
     "output_type": "execute_result"
    }
   ],
   "source": [
    "ensembl_rest.lookup(\"ENST00000641515\")"
   ]
  },
  {
   "cell_type": "code",
   "execution_count": 36,
   "metadata": {},
   "outputs": [],
   "source": [
    "# ensembl_rest.homology_ensemblgene(\"ENSG00000186092\", target_species='mus_musculus', type='orthologues')"
   ]
  },
  {
   "cell_type": "code",
   "execution_count": 44,
   "metadata": {},
   "outputs": [
    {
     "name": "stdout",
     "output_type": "stream",
     "text": [
      "{'data': [{'homologies': [{'dn_ds': 0.04787,\n",
      "                           'method_link_type': 'ENSEMBL_ORTHOLOGUES',\n",
      "                           'source': {'align_seq': '-------------------MAALSGGGGGGAEPGQALFNGDMEPEAGAGAGAAASSAADPAIPEEVWNIKQMIKLTQEHIEALLDKFGGEHNPPSIYLEAYEEYTSKLDALQQREQQLL-ESLGNGTDFSVSSSASMDTVTSSSSSSLSVLPSSLSVFQNPTDVARSNPKSPQKPIVRVFLPNKQRTVVPARCGVTVRDSLKKALMMRGLIPECCAVYRIQDG-EKKPIGWDTDISWLTGEELHVEVLENVPLTTHNFVRKTFFTLAFCDFCRKLLFQGFRCQTCGYKFHQRCSTEVPLMCVNYDQLDLLFVSKFFEHHPIPQEEASLAETALTSGSSPSAPASDSIGPQILTSPSPSKSIPIPQPFRPADEDHRNQFGQRDRSSSAPNVHINTIEPVNIDD-------------LIRDQGFRGDG----------------------------------------GSTTGLSATPPASLPGSLTNVKALQKSPGPQRERKSSSSS--EDRNRMKTLGRRDSSDDWEIPDGQITVGQRIGSGSFGTVYKGKWHGDVAVKMLNVTAPTPQQLQAFKNEVGVLRKTRHVNILLFMGYSTKPQLAIVTQWCEGSSLYHHLHIIETKFEMIKLIDIARQTAQGMDYLHAKSIIHRDLKSNNIFLHEDLTVKIGDFGLATVKSRWSGSHQFEQLSGSILWMAPEVIRMQDKNPYSFQSDVYAFGIVLYELMTGQLPYSNINNRDQIIFMVGRGYLSPDLSKVRSNCPKAMKRLMAECLKKKRDERPLFPQILASIELLARSLPKIHRSASEPSLNRAGFQTEDFSLYACASPKTPIQAGGYGEFAAFK',\n",
      "                                      'cigar_line': '19D100MD103MD178M13D11M40D40M2D335M',\n",
      "                                      'id': 'ENSG00000157764',\n",
      "                                      'perc_id': 92.4381,\n",
      "                                      'perc_pos': 93.09,\n",
      "                                      'protein_id': 'ENSP00000419060',\n",
      "                                      'species': 'homo_sapiens',\n",
      "                                      'taxon_id': 9606},\n",
      "                           'target': {'align_seq': 'MAALSGGGGSSSGGGGGGGGGGGGGDGGGGAEQGQALFNGDMEPEAG--AGAAASSAADPAIPEEVWNIKQMIKLTQEHIEALLDKFGGEHNPPSIYLEAYEEYTSKLDALQQREQQL-LESL---------------------------------VFQTPTDASRNNPKSPQKPIVRVFLPNKQRTVVPARCGVTVRDSLKKALMMRGLIPECCAVYRIQD-GEKKPIGWDTDISWLTGEELHVEVLENVPLTTHNFVRKTFFTLAFCDFCRKLLFQGFRCQTCGYKFHQRCSTEVPLMCVNYDQLDLLFVSKFFEHHPVPQEEASFPETALPSGSS-SAPPSDSTGPQILTSPSPSKSIPIPQPFRPADEDHRNQFGQRDRSSSAPNVHINTIEPVNIDEKFPEVELQDQRDL-IRDQGFRGDGAPLNQLMRCLRKYQSRTPSPLLHSVPSEIVFDFEPGPVFRGSTTGLSATPPASLPGSLTNVKALQKSPGPQRERKSSSSSSSEDRSRMKTLGRRDSSDDWEIPDGQITVGQRIGSGSFGTVYKGKWHGDVAVKMLNVTAPTPQQLQAFKNEVGVLRKTRHVNILLFMGYSTKPQLAIVTQWCEGSSLYHHLHIIETKFEMIKLIDIARQTAQGMDYLHAKSIIHRDLKSNNIFLHEDLTVKIGDFGLATVKSRWSGSHQFEQLSGSILWMAPEVIRMQDKNPYSFQSDVYAFGIVLYELMTGQLPYSNINNRDQIIFMVGRGYLSPDLSKVRSNCPKAMKRLMAECLKKKRDERPLFPQILASIELLARSLPKIHRSASEPSLNRAGFQTEDFSLYACASPKTPIQAGGYGEFAAFK',\n",
      "                                      'cigar_line': '47M2D69MD4M33D66MD115MD76MD427M',\n",
      "                                      'id': 'ENSMUSG00000002413',\n",
      "                                      'perc_id': 88.1841,\n",
      "                                      'perc_pos': 88.806,\n",
      "                                      'protein_id': 'ENSMUSP00000002487',\n",
      "                                      'species': 'mus_musculus',\n",
      "                                      'taxon_id': 10090},\n",
      "                           'taxonomy_level': 'Euarchontoglires',\n",
      "                           'type': 'ortholog_one2one'}],\n",
      "           'id': 'ENSG00000157764'}]}\n"
     ]
    }
   ],
   "source": [
    "import requests, sys\n",
    "from pprint import pprint\n",
    " \n",
    "server = \"https://rest.ensembl.org\"\n",
    "ext = \"/homology/id/ENSG00000157764?target_species=mouse;type=orthologues\"\n",
    " \n",
    "r = requests.get(server+ext, headers={ \"Content-Type\" : \"application/json\"})\n",
    " \n",
    "if not r.ok:\n",
    "    r.raise_for_status()\n",
    "    sys.exit()\n",
    "\n",
    "decoded = r.json()\n",
    "# print(repr(decoded))\n",
    "pprint(decoded)"
   ]
  },
  {
   "cell_type": "code",
   "execution_count": null,
   "metadata": {},
   "outputs": [],
   "source": [
    "pprint()"
   ]
  },
  {
   "cell_type": "code",
   "execution_count": null,
   "metadata": {},
   "outputs": [],
   "source": [
    "import requests, sys\n",
    " \n",
    "server = \"https://rest.ensembl.org\"\n",
    "ext = \"/homology/id/ENSG00000157764?target_species=mouse;type=orthologues\"\n",
    " \n",
    "r = requests.get(server+ext, headers={ \"Content-Type\" : \"application/json\"})\n",
    " \n",
    "if not r.ok:\n",
    "    r.raise_for_status()\n",
    "    sys.exit()\n",
    "\n",
    "decoded = r.json()\n",
    "print(repr(decoded))"
   ]
  },
  {
   "cell_type": "code",
   "execution_count": 37,
   "metadata": {},
   "outputs": [
    {
     "ename": "HTTPError",
     "evalue": "404 Client Error: Not Found for url: http://rest.ensembl.org/homology/id/human/ENSG00000186092?format=condensed;target_species=mouse;type=orthologues",
     "output_type": "error",
     "traceback": [
      "\u001b[0;31m---------------------------------------------------------------------------\u001b[0m",
      "\u001b[0;31mHTTPError\u001b[0m                                 Traceback (most recent call last)",
      "\u001b[0;32m<ipython-input-37-380ebfb84097>\u001b[0m in \u001b[0;36m<module>\u001b[0;34m()\u001b[0m\n\u001b[1;32m      7\u001b[0m \u001b[0;34m\u001b[0m\u001b[0m\n\u001b[1;32m      8\u001b[0m \u001b[0;32mif\u001b[0m \u001b[0;32mnot\u001b[0m \u001b[0mr\u001b[0m\u001b[0;34m.\u001b[0m\u001b[0mok\u001b[0m\u001b[0;34m:\u001b[0m\u001b[0;34m\u001b[0m\u001b[0;34m\u001b[0m\u001b[0m\n\u001b[0;32m----> 9\u001b[0;31m   \u001b[0mr\u001b[0m\u001b[0;34m.\u001b[0m\u001b[0mraise_for_status\u001b[0m\u001b[0;34m(\u001b[0m\u001b[0;34m)\u001b[0m\u001b[0;34m\u001b[0m\u001b[0;34m\u001b[0m\u001b[0m\n\u001b[0m\u001b[1;32m     10\u001b[0m   \u001b[0msys\u001b[0m\u001b[0;34m.\u001b[0m\u001b[0mexit\u001b[0m\u001b[0;34m(\u001b[0m\u001b[0;34m)\u001b[0m\u001b[0;34m\u001b[0m\u001b[0;34m\u001b[0m\u001b[0m\n\u001b[1;32m     11\u001b[0m \u001b[0;34m\u001b[0m\u001b[0m\n",
      "\u001b[0;32m~/miniconda3/envs/kmer-hashing/lib/python3.6/site-packages/requests/models.py\u001b[0m in \u001b[0;36mraise_for_status\u001b[0;34m(self)\u001b[0m\n\u001b[1;32m    907\u001b[0m \u001b[0;34m\u001b[0m\u001b[0m\n\u001b[1;32m    908\u001b[0m         \u001b[0;32mif\u001b[0m \u001b[0mhttp_error_msg\u001b[0m\u001b[0;34m:\u001b[0m\u001b[0;34m\u001b[0m\u001b[0;34m\u001b[0m\u001b[0m\n\u001b[0;32m--> 909\u001b[0;31m             \u001b[0;32mraise\u001b[0m \u001b[0mHTTPError\u001b[0m\u001b[0;34m(\u001b[0m\u001b[0mhttp_error_msg\u001b[0m\u001b[0;34m,\u001b[0m \u001b[0mresponse\u001b[0m\u001b[0;34m=\u001b[0m\u001b[0mself\u001b[0m\u001b[0;34m)\u001b[0m\u001b[0;34m\u001b[0m\u001b[0;34m\u001b[0m\u001b[0m\n\u001b[0m\u001b[1;32m    910\u001b[0m \u001b[0;34m\u001b[0m\u001b[0m\n\u001b[1;32m    911\u001b[0m     \u001b[0;32mdef\u001b[0m \u001b[0mclose\u001b[0m\u001b[0;34m(\u001b[0m\u001b[0mself\u001b[0m\u001b[0;34m)\u001b[0m\u001b[0;34m:\u001b[0m\u001b[0;34m\u001b[0m\u001b[0;34m\u001b[0m\u001b[0m\n",
      "\u001b[0;31mHTTPError\u001b[0m: 404 Client Error: Not Found for url: http://rest.ensembl.org/homology/id/human/ENSG00000186092?format=condensed;target_species=mouse;type=orthologues"
     ]
    }
   ],
   "source": [
    "import requests, sys\n",
    " \n",
    "server = \"http://rest.ensembl.org\"\n",
    "ext = \"/homology/id/human/ENSG00000186092?format=condensed;target_species=mouse;type=orthologues\"\n",
    " \n",
    "r = requests.get(server+ext, headers={ \"Content-Type\" : \"application/json\"})\n",
    " \n",
    "if not r.ok:\n",
    "  r.raise_for_status()\n",
    "  sys.exit()\n",
    " \n",
    "decoded = r.json()\n",
    "print(repr(decoded))\n",
    " "
   ]
  },
  {
   "cell_type": "code",
   "execution_count": 19,
   "metadata": {},
   "outputs": [],
   "source": [
    "gene_id_with_orthology = 'ENSG00000198888'"
   ]
  },
  {
   "cell_type": "code",
   "execution_count": 20,
   "metadata": {},
   "outputs": [
    {
     "data": {
      "text/plain": [
       "{'biotype': 'protein_coding',\n",
       " 'strand': 1,\n",
       " 'display_name': 'MT-ND1',\n",
       " 'version': 2,\n",
       " 'species': 'homo_sapiens',\n",
       " 'end': 4262,\n",
       " 'object_type': 'Gene',\n",
       " 'start': 3307,\n",
       " 'source': 'insdc',\n",
       " 'description': 'mitochondrially encoded NADH:ubiquinone oxidoreductase core subunit 1 [Source:HGNC Symbol;Acc:HGNC:7455]',\n",
       " 'id': 'ENSG00000198888',\n",
       " 'seq_region_name': 'MT',\n",
       " 'db_type': 'core',\n",
       " 'logic_name': 'mt_genbank_import',\n",
       " 'assembly_name': 'GRCh38'}"
      ]
     },
     "execution_count": 20,
     "metadata": {},
     "output_type": "execute_result"
    }
   ],
   "source": [
    "ensembl_rest.lookup(gene_id_with_orthology)"
   ]
  },
  {
   "cell_type": "code",
   "execution_count": 25,
   "metadata": {},
   "outputs": [
    {
     "ename": "HTTPError",
     "evalue": "Server returned HTTP status code: 404\nContent: {'error': 'page not found. Please check your uri and refer to our documentation https://rest.ensembl.org/'}",
     "output_type": "error",
     "traceback": [
      "\u001b[0;31m---------------------------------------------------------------------------\u001b[0m",
      "\u001b[0;31mHTTPError\u001b[0m                                 Traceback (most recent call last)",
      "\u001b[0;32m<ipython-input-25-9c83cf7d8049>\u001b[0m in \u001b[0;36m<module>\u001b[0;34m()\u001b[0m\n\u001b[0;32m----> 1\u001b[0;31m \u001b[0mensembl_rest\u001b[0m\u001b[0;34m.\u001b[0m\u001b[0moverlap_region\u001b[0m\u001b[0;34m(\u001b[0m\u001b[0mgene_id_with_orthology\u001b[0m\u001b[0;34m)\u001b[0m\u001b[0;34m\u001b[0m\u001b[0;34m\u001b[0m\u001b[0m\n\u001b[0m",
      "\u001b[0;32m~/miniconda3/envs/kmer-hashing/lib/python3.6/site-packages/ensembl_rest/__init__.py\u001b[0m in \u001b[0;36moverlap_region\u001b[0;34m(*args, **kwargs)\u001b[0m\n",
      "\u001b[0;32m~/miniconda3/envs/kmer-hashing/lib/python3.6/site-packages/ensembl_rest/core/baseclient.py\u001b[0m in \u001b[0;36mmethod\u001b[0;34m(self, *args, **kwargs)\u001b[0m\n\u001b[1;32m    140\u001b[0m \u001b[0;34m\u001b[0m\u001b[0m\n\u001b[1;32m    141\u001b[0m     \u001b[0;32mdef\u001b[0m \u001b[0mmethod\u001b[0m\u001b[0;34m(\u001b[0m\u001b[0mself\u001b[0m\u001b[0;34m,\u001b[0m \u001b[0;34m*\u001b[0m\u001b[0margs\u001b[0m\u001b[0;34m,\u001b[0m \u001b[0;34m**\u001b[0m\u001b[0mkwargs\u001b[0m\u001b[0;34m)\u001b[0m\u001b[0;34m:\u001b[0m\u001b[0;34m\u001b[0m\u001b[0;34m\u001b[0m\u001b[0m\n\u001b[0;32m--> 142\u001b[0;31m         \u001b[0;32mreturn\u001b[0m \u001b[0mself\u001b[0m\u001b[0;34m.\u001b[0m\u001b[0mmake_request\u001b[0m\u001b[0;34m(\u001b[0m\u001b[0mendpoint\u001b[0m\u001b[0;34m[\u001b[0m\u001b[0;34m'resource_string'\u001b[0m\u001b[0;34m]\u001b[0m\u001b[0;34m,\u001b[0m \u001b[0;34m*\u001b[0m\u001b[0margs\u001b[0m\u001b[0;34m,\u001b[0m \u001b[0;34m**\u001b[0m\u001b[0mkwargs\u001b[0m\u001b[0;34m)\u001b[0m\u001b[0;34m\u001b[0m\u001b[0;34m\u001b[0m\u001b[0m\n\u001b[0m\u001b[1;32m    143\u001b[0m     \u001b[0;31m# ---\u001b[0m\u001b[0;34m\u001b[0m\u001b[0;34m\u001b[0m\u001b[0;34m\u001b[0m\u001b[0m\n\u001b[1;32m    144\u001b[0m \u001b[0;34m\u001b[0m\u001b[0m\n",
      "\u001b[0;32m~/miniconda3/envs/kmer-hashing/lib/python3.6/site-packages/ensembl_rest/core/baseclient.py\u001b[0m in \u001b[0;36mmake_request\u001b[0;34m(self, resource, params, headers, *args, **kwargs)\u001b[0m\n\u001b[1;32m     33\u001b[0m         \u001b[0;32mwhile\u001b[0m \u001b[0;32mTrue\u001b[0m\u001b[0;34m:\u001b[0m\u001b[0;34m\u001b[0m\u001b[0;34m\u001b[0m\u001b[0m\n\u001b[1;32m     34\u001b[0m             \u001b[0;32mtry\u001b[0m\u001b[0;34m:\u001b[0m\u001b[0;34m\u001b[0m\u001b[0;34m\u001b[0m\u001b[0m\n\u001b[0;32m---> 35\u001b[0;31m                 \u001b[0;32mreturn\u001b[0m \u001b[0mendpoint\u001b[0m\u001b[0;34m.\u001b[0m\u001b[0mdo\u001b[0m\u001b[0;34m(\u001b[0m\u001b[0mrequest_type\u001b[0m\u001b[0;34m,\u001b[0m \u001b[0mparams\u001b[0m\u001b[0;34m,\u001b[0m \u001b[0mheaders\u001b[0m\u001b[0;34m=\u001b[0m\u001b[0mheaders\u001b[0m\u001b[0;34m)\u001b[0m\u001b[0;34m\u001b[0m\u001b[0;34m\u001b[0m\u001b[0m\n\u001b[0m\u001b[1;32m     36\u001b[0m \u001b[0;34m\u001b[0m\u001b[0m\n\u001b[1;32m     37\u001b[0m             \u001b[0;31m# Handle rate limit\u001b[0m\u001b[0;34m\u001b[0m\u001b[0;34m\u001b[0m\u001b[0;34m\u001b[0m\u001b[0m\n",
      "\u001b[0;32m~/miniconda3/envs/kmer-hashing/lib/python3.6/site-packages/ensembl_rest/core/restclient.py\u001b[0m in \u001b[0;36mdo\u001b[0;34m(self, method, params, **kwargs)\u001b[0m\n\u001b[1;32m    111\u001b[0m         \u001b[0mcontent\u001b[0m \u001b[0;34m=\u001b[0m \u001b[0mresponse\u001b[0m\u001b[0;34m.\u001b[0m\u001b[0mcontent\u001b[0m\u001b[0;34m.\u001b[0m\u001b[0mdecode\u001b[0m\u001b[0;34m(\u001b[0m\u001b[0;34m'UTF-8'\u001b[0m\u001b[0;34m)\u001b[0m\u001b[0;34m\u001b[0m\u001b[0;34m\u001b[0m\u001b[0m\n\u001b[1;32m    112\u001b[0m         \u001b[0;32mif\u001b[0m \u001b[0mresponse\u001b[0m\u001b[0;34m.\u001b[0m\u001b[0mstatus_code\u001b[0m \u001b[0;32mnot\u001b[0m \u001b[0;32min\u001b[0m \u001b[0mrange\u001b[0m\u001b[0;34m(\u001b[0m\u001b[0;36m200\u001b[0m\u001b[0;34m,\u001b[0m\u001b[0;36m300\u001b[0m\u001b[0;34m)\u001b[0m\u001b[0;34m:\u001b[0m\u001b[0;34m\u001b[0m\u001b[0;34m\u001b[0m\u001b[0m\n\u001b[0;32m--> 113\u001b[0;31m             \u001b[0;32mraise\u001b[0m \u001b[0mHTTPError\u001b[0m\u001b[0;34m(\u001b[0m\u001b[0mresponse\u001b[0m\u001b[0;34m)\u001b[0m\u001b[0;34m\u001b[0m\u001b[0;34m\u001b[0m\u001b[0m\n\u001b[0m\u001b[1;32m    114\u001b[0m \u001b[0;34m\u001b[0m\u001b[0m\n\u001b[1;32m    115\u001b[0m         \u001b[0;32mtry\u001b[0m\u001b[0;34m:\u001b[0m\u001b[0;34m\u001b[0m\u001b[0;34m\u001b[0m\u001b[0m\n",
      "\u001b[0;31mHTTPError\u001b[0m: Server returned HTTP status code: 404\nContent: {'error': 'page not found. Please check your uri and refer to our documentation https://rest.ensembl.org/'}"
     ]
    }
   ],
   "source": [
    "ensembl_rest.overlap_region(gene_id_with_orthology)"
   ]
  },
  {
   "cell_type": "code",
   "execution_count": 21,
   "metadata": {},
   "outputs": [
    {
     "data": {
      "text/plain": [
       "[{'info_text': '',\n",
       "  'version': '0',\n",
       "  'display_id': 'ENSG00000198888',\n",
       "  'description': None,\n",
       "  'synonyms': [],\n",
       "  'primary_id': 'ENSG00000198888',\n",
       "  'info_type': 'DIRECT',\n",
       "  'db_display_name': 'Expression Atlas',\n",
       "  'dbname': 'ArrayExpress'},\n",
       " {'dbname': 'EntrezGene',\n",
       "  'db_display_name': 'NCBI gene',\n",
       "  'synonyms': [],\n",
       "  'primary_id': '4535',\n",
       "  'info_type': 'DEPENDENT',\n",
       "  'description': 'NADH dehydrogenase, subunit 1 (complex I)',\n",
       "  'info_text': '',\n",
       "  'display_id': 'ND1',\n",
       "  'version': '0'},\n",
       " {'display_id': 'MT-ND1',\n",
       "  'version': '0',\n",
       "  'info_text': 'Generated via ensembl_manual',\n",
       "  'description': 'mitochondrially encoded NADH:ubiquinone oxidoreductase core subunit 1',\n",
       "  'info_type': 'DIRECT',\n",
       "  'synonyms': ['MTND1', 'NAD1', 'ND1'],\n",
       "  'primary_id': 'HGNC:7455',\n",
       "  'dbname': 'HGNC',\n",
       "  'db_display_name': 'HGNC Symbol'},\n",
       " {'dbname': 'MIM_GENE',\n",
       "  'db_display_name': 'MIM gene',\n",
       "  'synonyms': [],\n",
       "  'primary_id': '516000',\n",
       "  'info_type': 'DEPENDENT',\n",
       "  'description': 'COMPLEX I, SUBUNIT ND1; MTND1;;NADH-UBIQUINONE OXIDOREDUCTASE, SUBUNIT ND1;;NADH DEHYDROGENASE, SUBUNIT 1MITOCHONDRIAL COMPLEX I DEFICIENCY, MITOCHONDRIAL TYPE 3, INCLUDED;MC1DM3, INCLUDED',\n",
       "  'info_text': '',\n",
       "  'display_id': 'COMPLEX I, SUBUNIT ND1; MTND1 [*516000]',\n",
       "  'version': '0'},\n",
       " {'dbname': 'MIM_MORBID',\n",
       "  'db_display_name': 'MIM morbid',\n",
       "  'synonyms': [],\n",
       "  'primary_id': '535000',\n",
       "  'info_type': 'DEPENDENT',\n",
       "  'description': 'LEBER OPTIC ATROPHY;;LEBER HEREDITARY OPTIC NEUROPATHY; LHON',\n",
       "  'info_text': '',\n",
       "  'display_id': 'LEBER OPTIC ATROPHY [#535000]',\n",
       "  'version': '0'},\n",
       " {'info_type': 'DEPENDENT',\n",
       "  'primary_id': '540000',\n",
       "  'synonyms': [],\n",
       "  'dbname': 'MIM_MORBID',\n",
       "  'db_display_name': 'MIM morbid',\n",
       "  'display_id': 'MITOCHONDRIAL MYOPATHY, ENCEPHALOPATHY, LACTIC ACIDOSIS, AND STROKE-LIKEEPISODES; MELAS [#540000]',\n",
       "  'version': '0',\n",
       "  'info_text': '',\n",
       "  'description': 'MITOCHONDRIAL MYOPATHY, ENCEPHALOPATHY, LACTIC ACIDOSIS, AND STROKE-LIKEEPISODES; MELAS;;MELAS SYNDROME'},\n",
       " {'description': 'Metabolism',\n",
       "  'info_text': 'Generated via gene',\n",
       "  'display_id': 'R-HSA-1430728',\n",
       "  'version': '0',\n",
       "  'dbname': 'Reactome_gene',\n",
       "  'db_display_name': 'Reactome gene',\n",
       "  'synonyms': [],\n",
       "  'primary_id': 'R-HSA-1430728',\n",
       "  'info_type': 'DIRECT'},\n",
       " {'info_text': 'Generated via gene',\n",
       "  'version': '0',\n",
       "  'display_id': 'R-HSA-1428517',\n",
       "  'description': 'The citric acid (TCA) cycle and respiratory electron transport',\n",
       "  'synonyms': [],\n",
       "  'primary_id': 'R-HSA-1428517',\n",
       "  'info_type': 'DIRECT',\n",
       "  'db_display_name': 'Reactome gene',\n",
       "  'dbname': 'Reactome_gene'},\n",
       " {'primary_id': 'R-HSA-163200',\n",
       "  'synonyms': [],\n",
       "  'info_type': 'DIRECT',\n",
       "  'dbname': 'Reactome_gene',\n",
       "  'db_display_name': 'Reactome gene',\n",
       "  'info_text': 'Generated via gene',\n",
       "  'display_id': 'R-HSA-163200',\n",
       "  'version': '0',\n",
       "  'description': 'Respiratory electron transport, ATP synthesis by chemiosmotic coupling, and heat production by uncoupling proteins.'},\n",
       " {'info_text': 'Generated via gene',\n",
       "  'version': '0',\n",
       "  'display_id': 'R-HSA-611105',\n",
       "  'description': 'Respiratory electron transport',\n",
       "  'synonyms': [],\n",
       "  'primary_id': 'R-HSA-611105',\n",
       "  'info_type': 'DIRECT',\n",
       "  'db_display_name': 'Reactome gene',\n",
       "  'dbname': 'Reactome_gene'},\n",
       " {'synonyms': [],\n",
       "  'primary_id': 'R-HSA-6799198',\n",
       "  'info_type': 'DIRECT',\n",
       "  'db_display_name': 'Reactome gene',\n",
       "  'dbname': 'Reactome_gene',\n",
       "  'info_text': 'Generated via gene',\n",
       "  'version': '0',\n",
       "  'display_id': 'R-HSA-6799198',\n",
       "  'description': 'Complex I biogenesis'},\n",
       " {'dbname': 'Uniprot_gn',\n",
       "  'db_display_name': 'UniProtKB Gene Name',\n",
       "  'synonyms': [],\n",
       "  'primary_id': 'P03886',\n",
       "  'info_type': 'DEPENDENT',\n",
       "  'description': '',\n",
       "  'info_text': '',\n",
       "  'display_id': 'MT-ND1',\n",
       "  'version': '0'},\n",
       " {'info_text': '',\n",
       "  'version': '0',\n",
       "  'display_id': 'ND1',\n",
       "  'description': '',\n",
       "  'synonyms': [],\n",
       "  'primary_id': 'U5Z754',\n",
       "  'info_type': 'DEPENDENT',\n",
       "  'db_display_name': 'UniProtKB Gene Name',\n",
       "  'dbname': 'Uniprot_gn'},\n",
       " {'synonyms': [],\n",
       "  'primary_id': '4535',\n",
       "  'info_type': 'DEPENDENT',\n",
       "  'dbname': 'WikiGene',\n",
       "  'db_display_name': 'WikiGene',\n",
       "  'info_text': '',\n",
       "  'display_id': 'ND1',\n",
       "  'version': '0',\n",
       "  'description': 'NADH dehydrogenase, subunit 1 (complex I)'}]"
      ]
     },
     "execution_count": 21,
     "metadata": {},
     "output_type": "execute_result"
    }
   ],
   "source": [
    "ensembl_rest.xref_id(gene_id_with_orthology, all_levels=True)"
   ]
  },
  {
   "cell_type": "code",
   "execution_count": 15,
   "metadata": {},
   "outputs": [
    {
     "data": {
      "text/plain": [
       "{'data': []}"
      ]
     },
     "execution_count": 15,
     "metadata": {},
     "output_type": "execute_result"
    }
   ],
   "source": [
    "ensembl_rest.homology_ensemblgene(key)"
   ]
  },
  {
   "cell_type": "code",
   "execution_count": null,
   "metadata": {},
   "outputs": [],
   "source": []
  },
  {
   "cell_type": "code",
   "execution_count": 12,
   "metadata": {},
   "outputs": [
    {
     "data": {
      "text/plain": [
       "{'data': []}"
      ]
     },
     "execution_count": 12,
     "metadata": {},
     "output_type": "execute_result"
    }
   ],
   "source": []
  },
  {
   "cell_type": "code",
   "execution_count": 25,
   "metadata": {},
   "outputs": [
    {
     "name": "stdout",
     "output_type": "stream",
     "text": [
      "(249084, 15)\n"
     ]
    },
    {
     "data": {
      "text/html": [
       "<div>\n",
       "<style scoped>\n",
       "    .dataframe tbody tr th:only-of-type {\n",
       "        vertical-align: middle;\n",
       "    }\n",
       "\n",
       "    .dataframe tbody tr th {\n",
       "        vertical-align: top;\n",
       "    }\n",
       "\n",
       "    .dataframe thead th {\n",
       "        text-align: right;\n",
       "    }\n",
       "</style>\n",
       "<table border=\"1\" class=\"dataframe\">\n",
       "  <thead>\n",
       "    <tr style=\"text-align: right;\">\n",
       "      <th></th>\n",
       "      <th>Gene stable ID</th>\n",
       "      <th>Transcript stable ID</th>\n",
       "      <th>Mouse gene stable ID</th>\n",
       "      <th>Mouse gene name</th>\n",
       "      <th>Mouse protein or transcript stable ID</th>\n",
       "      <th>Mouse homology type</th>\n",
       "      <th>%id. target Mouse gene identical to query gene</th>\n",
       "      <th>%id. query gene identical to target Mouse gene</th>\n",
       "      <th>Mouse Gene-order conservation score</th>\n",
       "      <th>Mouse Whole-genome alignment coverage</th>\n",
       "      <th>dS with Mouse</th>\n",
       "      <th>dN with Mouse</th>\n",
       "      <th>Mouse orthology confidence [0 low, 1 high]</th>\n",
       "      <th>Last common ancestor with Mouse</th>\n",
       "      <th>Query protein or transcript ID</th>\n",
       "    </tr>\n",
       "  </thead>\n",
       "  <tbody>\n",
       "    <tr>\n",
       "      <th>0</th>\n",
       "      <td>ENSG00000210049</td>\n",
       "      <td>ENST00000387314</td>\n",
       "      <td>NaN</td>\n",
       "      <td>NaN</td>\n",
       "      <td>NaN</td>\n",
       "      <td>NaN</td>\n",
       "      <td>NaN</td>\n",
       "      <td>NaN</td>\n",
       "      <td>NaN</td>\n",
       "      <td>NaN</td>\n",
       "      <td>NaN</td>\n",
       "      <td>NaN</td>\n",
       "      <td>NaN</td>\n",
       "      <td>NaN</td>\n",
       "      <td>NaN</td>\n",
       "    </tr>\n",
       "    <tr>\n",
       "      <th>1</th>\n",
       "      <td>ENSG00000211459</td>\n",
       "      <td>ENST00000389680</td>\n",
       "      <td>NaN</td>\n",
       "      <td>NaN</td>\n",
       "      <td>NaN</td>\n",
       "      <td>NaN</td>\n",
       "      <td>NaN</td>\n",
       "      <td>NaN</td>\n",
       "      <td>NaN</td>\n",
       "      <td>NaN</td>\n",
       "      <td>NaN</td>\n",
       "      <td>NaN</td>\n",
       "      <td>NaN</td>\n",
       "      <td>NaN</td>\n",
       "      <td>NaN</td>\n",
       "    </tr>\n",
       "    <tr>\n",
       "      <th>2</th>\n",
       "      <td>ENSG00000210077</td>\n",
       "      <td>ENST00000387342</td>\n",
       "      <td>NaN</td>\n",
       "      <td>NaN</td>\n",
       "      <td>NaN</td>\n",
       "      <td>NaN</td>\n",
       "      <td>NaN</td>\n",
       "      <td>NaN</td>\n",
       "      <td>NaN</td>\n",
       "      <td>NaN</td>\n",
       "      <td>NaN</td>\n",
       "      <td>NaN</td>\n",
       "      <td>NaN</td>\n",
       "      <td>NaN</td>\n",
       "      <td>NaN</td>\n",
       "    </tr>\n",
       "    <tr>\n",
       "      <th>3</th>\n",
       "      <td>ENSG00000210082</td>\n",
       "      <td>ENST00000387347</td>\n",
       "      <td>NaN</td>\n",
       "      <td>NaN</td>\n",
       "      <td>NaN</td>\n",
       "      <td>NaN</td>\n",
       "      <td>NaN</td>\n",
       "      <td>NaN</td>\n",
       "      <td>NaN</td>\n",
       "      <td>NaN</td>\n",
       "      <td>NaN</td>\n",
       "      <td>NaN</td>\n",
       "      <td>NaN</td>\n",
       "      <td>NaN</td>\n",
       "      <td>NaN</td>\n",
       "    </tr>\n",
       "    <tr>\n",
       "      <th>4</th>\n",
       "      <td>ENSG00000209082</td>\n",
       "      <td>ENST00000386347</td>\n",
       "      <td>NaN</td>\n",
       "      <td>NaN</td>\n",
       "      <td>NaN</td>\n",
       "      <td>NaN</td>\n",
       "      <td>NaN</td>\n",
       "      <td>NaN</td>\n",
       "      <td>NaN</td>\n",
       "      <td>NaN</td>\n",
       "      <td>NaN</td>\n",
       "      <td>NaN</td>\n",
       "      <td>NaN</td>\n",
       "      <td>NaN</td>\n",
       "      <td>NaN</td>\n",
       "    </tr>\n",
       "  </tbody>\n",
       "</table>\n",
       "</div>"
      ],
      "text/plain": [
       "    Gene stable ID Transcript stable ID Mouse gene stable ID Mouse gene name  \\\n",
       "0  ENSG00000210049      ENST00000387314                  NaN             NaN   \n",
       "1  ENSG00000211459      ENST00000389680                  NaN             NaN   \n",
       "2  ENSG00000210077      ENST00000387342                  NaN             NaN   \n",
       "3  ENSG00000210082      ENST00000387347                  NaN             NaN   \n",
       "4  ENSG00000209082      ENST00000386347                  NaN             NaN   \n",
       "\n",
       "  Mouse protein or transcript stable ID Mouse homology type  \\\n",
       "0                                   NaN                 NaN   \n",
       "1                                   NaN                 NaN   \n",
       "2                                   NaN                 NaN   \n",
       "3                                   NaN                 NaN   \n",
       "4                                   NaN                 NaN   \n",
       "\n",
       "   %id. target Mouse gene identical to query gene  \\\n",
       "0                                             NaN   \n",
       "1                                             NaN   \n",
       "2                                             NaN   \n",
       "3                                             NaN   \n",
       "4                                             NaN   \n",
       "\n",
       "   %id. query gene identical to target Mouse gene  \\\n",
       "0                                             NaN   \n",
       "1                                             NaN   \n",
       "2                                             NaN   \n",
       "3                                             NaN   \n",
       "4                                             NaN   \n",
       "\n",
       "   Mouse Gene-order conservation score  Mouse Whole-genome alignment coverage  \\\n",
       "0                                  NaN                                    NaN   \n",
       "1                                  NaN                                    NaN   \n",
       "2                                  NaN                                    NaN   \n",
       "3                                  NaN                                    NaN   \n",
       "4                                  NaN                                    NaN   \n",
       "\n",
       "   dS with Mouse  dN with Mouse  Mouse orthology confidence [0 low, 1 high]  \\\n",
       "0            NaN            NaN                                         NaN   \n",
       "1            NaN            NaN                                         NaN   \n",
       "2            NaN            NaN                                         NaN   \n",
       "3            NaN            NaN                                         NaN   \n",
       "4            NaN            NaN                                         NaN   \n",
       "\n",
       "  Last common ancestor with Mouse Query protein or transcript ID  \n",
       "0                             NaN                            NaN  \n",
       "1                             NaN                            NaN  \n",
       "2                             NaN                            NaN  \n",
       "3                             NaN                            NaN  \n",
       "4                             NaN                            NaN  "
      ]
     },
     "execution_count": 25,
     "metadata": {},
     "output_type": "execute_result"
    }
   ],
   "source": [
    "orthologues = pd.read_csv(\"s3://kmer-hashing/hg38_mm38_protein_coding/hg38_mm38_ensembl_compara_orthologues.txt\", sep='\\t')\n",
    "print(orthologues.shape)\n",
    "orthologues.head()"
   ]
  },
  {
   "cell_type": "code",
   "execution_count": null,
   "metadata": {},
   "outputs": [],
   "source": []
  }
 ],
 "metadata": {
  "history": [],
  "kernelspec": {
   "display_name": "Python [conda env:kmer-hashing]",
   "language": "python",
   "name": "conda-env-kmer-hashing-py"
  },
  "language_info": {
   "codemirror_mode": {
    "name": "ipython",
    "version": 3
   },
   "file_extension": ".py",
   "mimetype": "text/x-python",
   "name": "python",
   "nbconvert_exporter": "python",
   "pygments_lexer": "ipython3",
   "version": "3.6.8"
  },
  "uuid": "853deabc-8093-4cb6-8edb-059a9cdaeef0"
 },
 "nbformat": 4,
 "nbformat_minor": 4
}
