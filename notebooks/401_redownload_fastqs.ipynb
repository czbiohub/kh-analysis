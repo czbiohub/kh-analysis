{
 "cells": [
  {
   "cell_type": "code",
   "execution_count": 29,
   "metadata": {
    "execution_event_id": "cb3da1d7-56b7-4b89-ac60-8fa9daadba33",
    "last_executed_text": "import itertools\n\nimport pandas as pd\npd.options.display.max_columns = 50\n\nsra_run_table = pd.read_csv(\"../metadata/brawand2011_sra_run_table.csv\")\nprint(sra_run_table.shape)\nsra_run_table.head()",
    "persistent_id": "1ad7974f-d8a9-4014-acfb-37350e9498e9"
   },
   "outputs": [
    {
     "name": "stdout",
     "output_type": "stream",
     "text": [
      "(149, 32)\n"
     ]
    },
    {
     "data": {
      "text/html": [
       "<div>\n",
       "<style scoped>\n",
       "    .dataframe tbody tr th:only-of-type {\n",
       "        vertical-align: middle;\n",
       "    }\n",
       "\n",
       "    .dataframe tbody tr th {\n",
       "        vertical-align: top;\n",
       "    }\n",
       "\n",
       "    .dataframe thead th {\n",
       "        text-align: right;\n",
       "    }\n",
       "</style>\n",
       "<table border=\"1\" class=\"dataframe\">\n",
       "  <thead>\n",
       "    <tr style=\"text-align: right;\">\n",
       "      <th></th>\n",
       "      <th>Run</th>\n",
       "      <th>Assay Type</th>\n",
       "      <th>AvgSpotLen</th>\n",
       "      <th>BioProject</th>\n",
       "      <th>BioSample</th>\n",
       "      <th>Center Name</th>\n",
       "      <th>Consent</th>\n",
       "      <th>DATASTORE filetype</th>\n",
       "      <th>DATASTORE provider</th>\n",
       "      <th>DATASTORE region</th>\n",
       "      <th>Experiment</th>\n",
       "      <th>GEO_Accession</th>\n",
       "      <th>Instrument</th>\n",
       "      <th>Library Name</th>\n",
       "      <th>LibraryLayout</th>\n",
       "      <th>LibrarySelection</th>\n",
       "      <th>LibrarySource</th>\n",
       "      <th>MBases</th>\n",
       "      <th>MBytes</th>\n",
       "      <th>Organism</th>\n",
       "      <th>Platform</th>\n",
       "      <th>ReleaseDate</th>\n",
       "      <th>sample_acc</th>\n",
       "      <th>Sample Name</th>\n",
       "      <th>source_name</th>\n",
       "      <th>SRA Study</th>\n",
       "      <th>tissue_source</th>\n",
       "      <th>gender</th>\n",
       "      <th>rin</th>\n",
       "      <th>Age</th>\n",
       "      <th>Extraction</th>\n",
       "      <th>sex</th>\n",
       "    </tr>\n",
       "  </thead>\n",
       "  <tbody>\n",
       "    <tr>\n",
       "      <th>0</th>\n",
       "      <td>SRR306710</td>\n",
       "      <td>RNA-Seq</td>\n",
       "      <td>76</td>\n",
       "      <td>PRJNA143627</td>\n",
       "      <td>SAMN00632119</td>\n",
       "      <td>GEO</td>\n",
       "      <td>public</td>\n",
       "      <td>sra</td>\n",
       "      <td>gs,ncbi,s3</td>\n",
       "      <td>gs.US,ncbi.public,s3.us-east-1</td>\n",
       "      <td>SRX081869</td>\n",
       "      <td>GSM752557</td>\n",
       "      <td>Illumina Genome Analyzer IIx</td>\n",
       "      <td>GSM752557: gga br F 1</td>\n",
       "      <td>SINGLE</td>\n",
       "      <td>cDNA</td>\n",
       "      <td>TRANSCRIPTOMIC</td>\n",
       "      <td>1480</td>\n",
       "      <td>1134</td>\n",
       "      <td>Gallus gallus</td>\n",
       "      <td>ILLUMINA</td>\n",
       "      <td>2011-10-14T00:00:00Z</td>\n",
       "      <td>SRS213961</td>\n",
       "      <td>GSM752557</td>\n",
       "      <td>Brain</td>\n",
       "      <td>SRP007412</td>\n",
       "      <td>Facility of Linkoping University, Sweden</td>\n",
       "      <td>female</td>\n",
       "      <td>9.4</td>\n",
       "      <td>~1 year\\, adult</td>\n",
       "      <td>Rneasy Lipid</td>\n",
       "      <td>NaN</td>\n",
       "    </tr>\n",
       "    <tr>\n",
       "      <th>1</th>\n",
       "      <td>SRR306711</td>\n",
       "      <td>RNA-Seq</td>\n",
       "      <td>76</td>\n",
       "      <td>PRJNA143627</td>\n",
       "      <td>SAMN00632120</td>\n",
       "      <td>GEO</td>\n",
       "      <td>public</td>\n",
       "      <td>sra</td>\n",
       "      <td>gs,ncbi,s3</td>\n",
       "      <td>gs.US,ncbi.public,s3.us-east-1</td>\n",
       "      <td>SRX081870</td>\n",
       "      <td>GSM752558</td>\n",
       "      <td>Illumina Genome Analyzer IIx</td>\n",
       "      <td>GSM752558: gga br M 1</td>\n",
       "      <td>SINGLE</td>\n",
       "      <td>cDNA</td>\n",
       "      <td>TRANSCRIPTOMIC</td>\n",
       "      <td>1334</td>\n",
       "      <td>990</td>\n",
       "      <td>Gallus gallus</td>\n",
       "      <td>ILLUMINA</td>\n",
       "      <td>2011-10-14T00:00:00Z</td>\n",
       "      <td>SRS213962</td>\n",
       "      <td>GSM752558</td>\n",
       "      <td>Brain</td>\n",
       "      <td>SRP007412</td>\n",
       "      <td>Facility of Linkoping University, Sweden</td>\n",
       "      <td>male</td>\n",
       "      <td>9.1</td>\n",
       "      <td>~1 year\\, adult</td>\n",
       "      <td>Standard</td>\n",
       "      <td>NaN</td>\n",
       "    </tr>\n",
       "    <tr>\n",
       "      <th>2</th>\n",
       "      <td>SRR306712</td>\n",
       "      <td>RNA-Seq</td>\n",
       "      <td>76</td>\n",
       "      <td>PRJNA143627</td>\n",
       "      <td>SAMN00632121</td>\n",
       "      <td>GEO</td>\n",
       "      <td>public</td>\n",
       "      <td>sra</td>\n",
       "      <td>gs,ncbi,s3</td>\n",
       "      <td>gs.US,ncbi.public,s3.us-east-1</td>\n",
       "      <td>SRX081871</td>\n",
       "      <td>GSM752559</td>\n",
       "      <td>Illumina Genome Analyzer IIx</td>\n",
       "      <td>GSM752559: gga cb F 1</td>\n",
       "      <td>SINGLE</td>\n",
       "      <td>cDNA</td>\n",
       "      <td>TRANSCRIPTOMIC</td>\n",
       "      <td>1795</td>\n",
       "      <td>1339</td>\n",
       "      <td>Gallus gallus</td>\n",
       "      <td>ILLUMINA</td>\n",
       "      <td>2011-10-14T00:00:00Z</td>\n",
       "      <td>SRS213963</td>\n",
       "      <td>GSM752559</td>\n",
       "      <td>Cerebellum</td>\n",
       "      <td>SRP007412</td>\n",
       "      <td>Facility of Linkoping University, Sweden</td>\n",
       "      <td>female</td>\n",
       "      <td>9.6</td>\n",
       "      <td>~1 year\\, adult</td>\n",
       "      <td>Standard</td>\n",
       "      <td>NaN</td>\n",
       "    </tr>\n",
       "    <tr>\n",
       "      <th>3</th>\n",
       "      <td>SRR306713</td>\n",
       "      <td>RNA-Seq</td>\n",
       "      <td>76</td>\n",
       "      <td>PRJNA143627</td>\n",
       "      <td>SAMN00632122</td>\n",
       "      <td>GEO</td>\n",
       "      <td>public</td>\n",
       "      <td>sra</td>\n",
       "      <td>gs,ncbi,s3</td>\n",
       "      <td>gs.US,ncbi.public,s3.us-east-1</td>\n",
       "      <td>SRX081872</td>\n",
       "      <td>GSM752560</td>\n",
       "      <td>Illumina Genome Analyzer IIx</td>\n",
       "      <td>GSM752560: gga cb M 1</td>\n",
       "      <td>SINGLE</td>\n",
       "      <td>cDNA</td>\n",
       "      <td>TRANSCRIPTOMIC</td>\n",
       "      <td>1670</td>\n",
       "      <td>1282</td>\n",
       "      <td>Gallus gallus</td>\n",
       "      <td>ILLUMINA</td>\n",
       "      <td>2011-10-14T00:00:00Z</td>\n",
       "      <td>SRS213964</td>\n",
       "      <td>GSM752560</td>\n",
       "      <td>Cerebellum</td>\n",
       "      <td>SRP007412</td>\n",
       "      <td>Facility of Linkoping University, Sweden</td>\n",
       "      <td>male</td>\n",
       "      <td>9.2</td>\n",
       "      <td>~1 year\\, adult</td>\n",
       "      <td>Rneasy Lipid</td>\n",
       "      <td>NaN</td>\n",
       "    </tr>\n",
       "    <tr>\n",
       "      <th>4</th>\n",
       "      <td>SRR306714</td>\n",
       "      <td>RNA-Seq</td>\n",
       "      <td>76</td>\n",
       "      <td>PRJNA143627</td>\n",
       "      <td>SAMN00632123</td>\n",
       "      <td>GEO</td>\n",
       "      <td>public</td>\n",
       "      <td>sra</td>\n",
       "      <td>gs,ncbi,s3</td>\n",
       "      <td>gs.US,ncbi.public,s3.us-east-1</td>\n",
       "      <td>SRX081873</td>\n",
       "      <td>GSM752561</td>\n",
       "      <td>Illumina Genome Analyzer IIx</td>\n",
       "      <td>GSM752561: gga ht F 1</td>\n",
       "      <td>SINGLE</td>\n",
       "      <td>cDNA</td>\n",
       "      <td>TRANSCRIPTOMIC</td>\n",
       "      <td>1748</td>\n",
       "      <td>1302</td>\n",
       "      <td>Gallus gallus</td>\n",
       "      <td>ILLUMINA</td>\n",
       "      <td>2011-10-14T00:00:00Z</td>\n",
       "      <td>SRS213965</td>\n",
       "      <td>GSM752561</td>\n",
       "      <td>Heart</td>\n",
       "      <td>SRP007412</td>\n",
       "      <td>Facility of Linkoping University, Sweden</td>\n",
       "      <td>female</td>\n",
       "      <td>9.0</td>\n",
       "      <td>~1 year\\, adult</td>\n",
       "      <td>Standard</td>\n",
       "      <td>NaN</td>\n",
       "    </tr>\n",
       "  </tbody>\n",
       "</table>\n",
       "</div>"
      ],
      "text/plain": [
       "         Run Assay Type  AvgSpotLen   BioProject     BioSample Center Name  \\\n",
       "0  SRR306710    RNA-Seq          76  PRJNA143627  SAMN00632119         GEO   \n",
       "1  SRR306711    RNA-Seq          76  PRJNA143627  SAMN00632120         GEO   \n",
       "2  SRR306712    RNA-Seq          76  PRJNA143627  SAMN00632121         GEO   \n",
       "3  SRR306713    RNA-Seq          76  PRJNA143627  SAMN00632122         GEO   \n",
       "4  SRR306714    RNA-Seq          76  PRJNA143627  SAMN00632123         GEO   \n",
       "\n",
       "  Consent DATASTORE filetype DATASTORE provider  \\\n",
       "0  public                sra         gs,ncbi,s3   \n",
       "1  public                sra         gs,ncbi,s3   \n",
       "2  public                sra         gs,ncbi,s3   \n",
       "3  public                sra         gs,ncbi,s3   \n",
       "4  public                sra         gs,ncbi,s3   \n",
       "\n",
       "                 DATASTORE region Experiment GEO_Accession  \\\n",
       "0  gs.US,ncbi.public,s3.us-east-1  SRX081869     GSM752557   \n",
       "1  gs.US,ncbi.public,s3.us-east-1  SRX081870     GSM752558   \n",
       "2  gs.US,ncbi.public,s3.us-east-1  SRX081871     GSM752559   \n",
       "3  gs.US,ncbi.public,s3.us-east-1  SRX081872     GSM752560   \n",
       "4  gs.US,ncbi.public,s3.us-east-1  SRX081873     GSM752561   \n",
       "\n",
       "                     Instrument           Library Name LibraryLayout  \\\n",
       "0  Illumina Genome Analyzer IIx  GSM752557: gga br F 1        SINGLE   \n",
       "1  Illumina Genome Analyzer IIx  GSM752558: gga br M 1        SINGLE   \n",
       "2  Illumina Genome Analyzer IIx  GSM752559: gga cb F 1        SINGLE   \n",
       "3  Illumina Genome Analyzer IIx  GSM752560: gga cb M 1        SINGLE   \n",
       "4  Illumina Genome Analyzer IIx  GSM752561: gga ht F 1        SINGLE   \n",
       "\n",
       "  LibrarySelection   LibrarySource  MBases  MBytes       Organism  Platform  \\\n",
       "0             cDNA  TRANSCRIPTOMIC    1480    1134  Gallus gallus  ILLUMINA   \n",
       "1             cDNA  TRANSCRIPTOMIC    1334     990  Gallus gallus  ILLUMINA   \n",
       "2             cDNA  TRANSCRIPTOMIC    1795    1339  Gallus gallus  ILLUMINA   \n",
       "3             cDNA  TRANSCRIPTOMIC    1670    1282  Gallus gallus  ILLUMINA   \n",
       "4             cDNA  TRANSCRIPTOMIC    1748    1302  Gallus gallus  ILLUMINA   \n",
       "\n",
       "            ReleaseDate sample_acc Sample Name source_name  SRA Study  \\\n",
       "0  2011-10-14T00:00:00Z  SRS213961   GSM752557       Brain  SRP007412   \n",
       "1  2011-10-14T00:00:00Z  SRS213962   GSM752558       Brain  SRP007412   \n",
       "2  2011-10-14T00:00:00Z  SRS213963   GSM752559  Cerebellum  SRP007412   \n",
       "3  2011-10-14T00:00:00Z  SRS213964   GSM752560  Cerebellum  SRP007412   \n",
       "4  2011-10-14T00:00:00Z  SRS213965   GSM752561       Heart  SRP007412   \n",
       "\n",
       "                              tissue_source  gender  rin              Age  \\\n",
       "0  Facility of Linkoping University, Sweden  female  9.4  ~1 year\\, adult   \n",
       "1  Facility of Linkoping University, Sweden    male  9.1  ~1 year\\, adult   \n",
       "2  Facility of Linkoping University, Sweden  female  9.6  ~1 year\\, adult   \n",
       "3  Facility of Linkoping University, Sweden    male  9.2  ~1 year\\, adult   \n",
       "4  Facility of Linkoping University, Sweden  female  9.0  ~1 year\\, adult   \n",
       "\n",
       "     Extraction  sex  \n",
       "0  Rneasy Lipid  NaN  \n",
       "1      Standard  NaN  \n",
       "2      Standard  NaN  \n",
       "3  Rneasy Lipid  NaN  \n",
       "4      Standard  NaN  "
      ]
     },
     "execution_count": 29,
     "metadata": {},
     "output_type": "execute_result"
    }
   ],
   "source": [
    "import itertools\n",
    "\n",
    "import pandas as pd\n",
    "pd.options.display.max_columns = 50\n",
    "\n",
    "sra_run_table = pd.read_csv(\"../metadata/brawand2011_sra_run_table.csv\")\n",
    "print(sra_run_table.shape)\n",
    "sra_run_table.head()"
   ]
  },
  {
   "cell_type": "code",
   "execution_count": 3,
   "metadata": {
    "execution_event_id": "1cc825be-0d06-4a22-9677-00fd5370993a",
    "last_executed_text": "sra_run_table.LibraryLayout.value_counts()",
    "persistent_id": "570199bc-de99-457c-b76b-5f85d1a48384"
   },
   "outputs": [
    {
     "data": {
      "text/plain": [
       "SINGLE    138\n",
       "PAIRED     11\n",
       "Name: LibraryLayout, dtype: int64"
      ]
     },
     "execution_count": 3,
     "metadata": {},
     "output_type": "execute_result"
    }
   ],
   "source": [
    "sra_run_table.LibraryLayout.value_counts()"
   ]
  },
  {
   "cell_type": "code",
   "execution_count": 8,
   "metadata": {
    "execution_event_id": "16e0213e-d4e8-416e-8cdb-6a2a05b1919c",
    "last_executed_text": "paired = sra_run_table.query('LibraryLayout == \"PAIRED\"')\npaired",
    "persistent_id": "fb3a14fd-d0cf-4dce-9cf3-1f13c3f4693d"
   },
   "outputs": [
    {
     "data": {
      "text/html": [
       "<div>\n",
       "<style scoped>\n",
       "    .dataframe tbody tr th:only-of-type {\n",
       "        vertical-align: middle;\n",
       "    }\n",
       "\n",
       "    .dataframe tbody tr th {\n",
       "        vertical-align: top;\n",
       "    }\n",
       "\n",
       "    .dataframe thead th {\n",
       "        text-align: right;\n",
       "    }\n",
       "</style>\n",
       "<table border=\"1\" class=\"dataframe\">\n",
       "  <thead>\n",
       "    <tr style=\"text-align: right;\">\n",
       "      <th></th>\n",
       "      <th>Run</th>\n",
       "      <th>Assay Type</th>\n",
       "      <th>AvgSpotLen</th>\n",
       "      <th>BioProject</th>\n",
       "      <th>BioSample</th>\n",
       "      <th>Center Name</th>\n",
       "      <th>Consent</th>\n",
       "      <th>DATASTORE filetype</th>\n",
       "      <th>DATASTORE provider</th>\n",
       "      <th>DATASTORE region</th>\n",
       "      <th>Experiment</th>\n",
       "      <th>GEO_Accession</th>\n",
       "      <th>Instrument</th>\n",
       "      <th>Library Name</th>\n",
       "      <th>LibraryLayout</th>\n",
       "      <th>LibrarySelection</th>\n",
       "      <th>LibrarySource</th>\n",
       "      <th>MBases</th>\n",
       "      <th>MBytes</th>\n",
       "      <th>Organism</th>\n",
       "      <th>Platform</th>\n",
       "      <th>ReleaseDate</th>\n",
       "      <th>sample_acc</th>\n",
       "      <th>Sample Name</th>\n",
       "      <th>source_name</th>\n",
       "      <th>SRA Study</th>\n",
       "      <th>tissue_source</th>\n",
       "      <th>gender</th>\n",
       "      <th>rin</th>\n",
       "      <th>Age</th>\n",
       "      <th>Extraction</th>\n",
       "      <th>sex</th>\n",
       "    </tr>\n",
       "  </thead>\n",
       "  <tbody>\n",
       "    <tr>\n",
       "      <th>68</th>\n",
       "      <td>SRR306779</td>\n",
       "      <td>RNA-Seq</td>\n",
       "      <td>202</td>\n",
       "      <td>PRJNA143627</td>\n",
       "      <td>SAMN00632174</td>\n",
       "      <td>GEO</td>\n",
       "      <td>public</td>\n",
       "      <td>sra</td>\n",
       "      <td>gs,ncbi,s3</td>\n",
       "      <td>gs.US,ncbi.public,s3.us-east-1</td>\n",
       "      <td>SRX081924</td>\n",
       "      <td>GSM752633</td>\n",
       "      <td>Illumina Genome Analyzer IIx</td>\n",
       "      <td>GSM752633: mml br M 2</td>\n",
       "      <td>PAIRED</td>\n",
       "      <td>cDNA</td>\n",
       "      <td>TRANSCRIPTOMIC</td>\n",
       "      <td>4335</td>\n",
       "      <td>3296</td>\n",
       "      <td>Macaca mulatta</td>\n",
       "      <td>ILLUMINA</td>\n",
       "      <td>2011-10-14T00:00:00Z</td>\n",
       "      <td>SRS214016</td>\n",
       "      <td>GSM752633</td>\n",
       "      <td>Brain\\, prefrontal cortex</td>\n",
       "      <td>SRP007412</td>\n",
       "      <td>Deutsches Primatenzentrum, Germany</td>\n",
       "      <td>male</td>\n",
       "      <td>8.9</td>\n",
       "      <td>7 years</td>\n",
       "      <td>RNeasy</td>\n",
       "      <td>NaN</td>\n",
       "    </tr>\n",
       "    <tr>\n",
       "      <th>81</th>\n",
       "      <td>SRR306792</td>\n",
       "      <td>RNA-Seq</td>\n",
       "      <td>202</td>\n",
       "      <td>PRJNA143627</td>\n",
       "      <td>SAMN00632186</td>\n",
       "      <td>GEO</td>\n",
       "      <td>public</td>\n",
       "      <td>sra</td>\n",
       "      <td>gs,ncbi,s3</td>\n",
       "      <td>gs.US,ncbi.public,s3.us-east-1</td>\n",
       "      <td>SRX081936</td>\n",
       "      <td>GSM752645</td>\n",
       "      <td>Illumina Genome Analyzer IIx</td>\n",
       "      <td>GSM752645: ppy br M 1</td>\n",
       "      <td>PAIRED</td>\n",
       "      <td>cDNA</td>\n",
       "      <td>TRANSCRIPTOMIC</td>\n",
       "      <td>3570</td>\n",
       "      <td>2713</td>\n",
       "      <td>Pongo pygmaeus</td>\n",
       "      <td>ILLUMINA</td>\n",
       "      <td>2011-10-14T00:00:00Z</td>\n",
       "      <td>SRS214028</td>\n",
       "      <td>GSM752645</td>\n",
       "      <td>Brain\\, prefrontal cortex</td>\n",
       "      <td>SRP007412</td>\n",
       "      <td>National Veterinary Institute, Uppsala, Sweden</td>\n",
       "      <td>male</td>\n",
       "      <td>8.2</td>\n",
       "      <td>16 years</td>\n",
       "      <td>RNeasy</td>\n",
       "      <td>NaN</td>\n",
       "    </tr>\n",
       "    <tr>\n",
       "      <th>90</th>\n",
       "      <td>SRR306801</td>\n",
       "      <td>RNA-Seq</td>\n",
       "      <td>202</td>\n",
       "      <td>PRJNA143627</td>\n",
       "      <td>SAMN00632195</td>\n",
       "      <td>GEO</td>\n",
       "      <td>public</td>\n",
       "      <td>sra</td>\n",
       "      <td>gs,ncbi,s3</td>\n",
       "      <td>gs.US,ncbi.public,s3.us-east-1</td>\n",
       "      <td>SRX081945</td>\n",
       "      <td>GSM752654</td>\n",
       "      <td>Illumina Genome Analyzer IIx</td>\n",
       "      <td>GSM752654: ggo br M 1</td>\n",
       "      <td>PAIRED</td>\n",
       "      <td>cDNA</td>\n",
       "      <td>TRANSCRIPTOMIC</td>\n",
       "      <td>3283</td>\n",
       "      <td>2496</td>\n",
       "      <td>Gorilla gorilla</td>\n",
       "      <td>ILLUMINA</td>\n",
       "      <td>2011-10-14T00:00:00Z</td>\n",
       "      <td>SRS214037</td>\n",
       "      <td>GSM752654</td>\n",
       "      <td>Brain\\, prefrontal cortex</td>\n",
       "      <td>SRP007412</td>\n",
       "      <td>Zoo Frankfurt, Germany</td>\n",
       "      <td>NaN</td>\n",
       "      <td>7.9</td>\n",
       "      <td>51 years</td>\n",
       "      <td>RNeasy</td>\n",
       "      <td>Female (note: this sample was originally provi...</td>\n",
       "    </tr>\n",
       "    <tr>\n",
       "      <th>100</th>\n",
       "      <td>SRR306812</td>\n",
       "      <td>RNA-Seq</td>\n",
       "      <td>202</td>\n",
       "      <td>PRJNA143627</td>\n",
       "      <td>SAMN00632206</td>\n",
       "      <td>GEO</td>\n",
       "      <td>public</td>\n",
       "      <td>sra</td>\n",
       "      <td>gs,ncbi,s3</td>\n",
       "      <td>gs.US,ncbi.public,s3.us-east-1</td>\n",
       "      <td>SRX081956</td>\n",
       "      <td>GSM752665</td>\n",
       "      <td>Illumina Genome Analyzer IIx</td>\n",
       "      <td>GSM752665: ptr br M 1</td>\n",
       "      <td>PAIRED</td>\n",
       "      <td>cDNA</td>\n",
       "      <td>TRANSCRIPTOMIC</td>\n",
       "      <td>2817</td>\n",
       "      <td>2140</td>\n",
       "      <td>Pan troglodytes</td>\n",
       "      <td>ILLUMINA</td>\n",
       "      <td>2011-10-14T00:00:00Z</td>\n",
       "      <td>SRS214048</td>\n",
       "      <td>GSM752665</td>\n",
       "      <td>Brain\\, prefrontal cortex</td>\n",
       "      <td>SRP007412</td>\n",
       "      <td>Biomedical Primate Research Center, Netherland...</td>\n",
       "      <td>male</td>\n",
       "      <td>7.8</td>\n",
       "      <td>12.3 years</td>\n",
       "      <td>RNeasy</td>\n",
       "      <td>NaN</td>\n",
       "    </tr>\n",
       "    <tr>\n",
       "      <th>101</th>\n",
       "      <td>SRR306813</td>\n",
       "      <td>RNA-Seq</td>\n",
       "      <td>202</td>\n",
       "      <td>PRJNA143627</td>\n",
       "      <td>SAMN00632207</td>\n",
       "      <td>GEO</td>\n",
       "      <td>public</td>\n",
       "      <td>sra</td>\n",
       "      <td>gs,ncbi,s3</td>\n",
       "      <td>gs.US,ncbi.public,s3.us-east-1</td>\n",
       "      <td>SRX081957</td>\n",
       "      <td>GSM752666</td>\n",
       "      <td>Illumina Genome Analyzer IIx</td>\n",
       "      <td>GSM752666: ptr br M 2</td>\n",
       "      <td>PAIRED</td>\n",
       "      <td>cDNA</td>\n",
       "      <td>TRANSCRIPTOMIC</td>\n",
       "      <td>4122</td>\n",
       "      <td>3178</td>\n",
       "      <td>Pan troglodytes</td>\n",
       "      <td>ILLUMINA</td>\n",
       "      <td>2011-10-14T00:00:00Z</td>\n",
       "      <td>SRS214049</td>\n",
       "      <td>GSM752666</td>\n",
       "      <td>Brain\\, prefrontal cortex</td>\n",
       "      <td>SRP007412</td>\n",
       "      <td>Zoo Zurich, Switzerland</td>\n",
       "      <td>male</td>\n",
       "      <td>6.7</td>\n",
       "      <td>35 years</td>\n",
       "      <td>RNeasy</td>\n",
       "      <td>NaN</td>\n",
       "    </tr>\n",
       "    <tr>\n",
       "      <th>102</th>\n",
       "      <td>SRR306814</td>\n",
       "      <td>RNA-Seq</td>\n",
       "      <td>202</td>\n",
       "      <td>PRJNA143627</td>\n",
       "      <td>SAMN00632208</td>\n",
       "      <td>GEO</td>\n",
       "      <td>public</td>\n",
       "      <td>sra</td>\n",
       "      <td>gs,ncbi,s3</td>\n",
       "      <td>gs.US,ncbi.public,s3.us-east-1</td>\n",
       "      <td>SRX081958</td>\n",
       "      <td>GSM752667</td>\n",
       "      <td>Illumina Genome Analyzer IIx</td>\n",
       "      <td>GSM752667: ptr br M 3</td>\n",
       "      <td>PAIRED</td>\n",
       "      <td>cDNA</td>\n",
       "      <td>TRANSCRIPTOMIC</td>\n",
       "      <td>3513</td>\n",
       "      <td>2609</td>\n",
       "      <td>Pan troglodytes</td>\n",
       "      <td>ILLUMINA</td>\n",
       "      <td>2011-10-14T00:00:00Z</td>\n",
       "      <td>SRS214050</td>\n",
       "      <td>GSM752667</td>\n",
       "      <td>Brain\\, prefrontal cortex</td>\n",
       "      <td>SRP007412</td>\n",
       "      <td>Biomedical Primate Research Center, Netherland...</td>\n",
       "      <td>male</td>\n",
       "      <td>7.5</td>\n",
       "      <td>12.1 years</td>\n",
       "      <td>RNeasy</td>\n",
       "      <td>NaN</td>\n",
       "    </tr>\n",
       "    <tr>\n",
       "      <th>103</th>\n",
       "      <td>SRR306815</td>\n",
       "      <td>RNA-Seq</td>\n",
       "      <td>202</td>\n",
       "      <td>PRJNA143627</td>\n",
       "      <td>SAMN00632209</td>\n",
       "      <td>GEO</td>\n",
       "      <td>public</td>\n",
       "      <td>sra</td>\n",
       "      <td>gs,ncbi,s3</td>\n",
       "      <td>gs.US,ncbi.public,s3.us-east-1</td>\n",
       "      <td>SRX081959</td>\n",
       "      <td>GSM752668</td>\n",
       "      <td>Illumina Genome Analyzer IIx</td>\n",
       "      <td>GSM752668: ptr br M 4</td>\n",
       "      <td>PAIRED</td>\n",
       "      <td>cDNA</td>\n",
       "      <td>TRANSCRIPTOMIC</td>\n",
       "      <td>4491</td>\n",
       "      <td>3403</td>\n",
       "      <td>Pan troglodytes</td>\n",
       "      <td>ILLUMINA</td>\n",
       "      <td>2011-10-14T00:00:00Z</td>\n",
       "      <td>SRS214051</td>\n",
       "      <td>GSM752668</td>\n",
       "      <td>Brain\\, prefrontal cortex</td>\n",
       "      <td>SRP007412</td>\n",
       "      <td>Biomedical Primate Research Center, Netherland...</td>\n",
       "      <td>male</td>\n",
       "      <td>7.4</td>\n",
       "      <td>6.7 years</td>\n",
       "      <td>RNeasy</td>\n",
       "      <td>NaN</td>\n",
       "    </tr>\n",
       "    <tr>\n",
       "      <th>104</th>\n",
       "      <td>SRR306816</td>\n",
       "      <td>RNA-Seq</td>\n",
       "      <td>202</td>\n",
       "      <td>PRJNA143627</td>\n",
       "      <td>SAMN00632210</td>\n",
       "      <td>GEO</td>\n",
       "      <td>public</td>\n",
       "      <td>sra</td>\n",
       "      <td>gs,ncbi,s3</td>\n",
       "      <td>gs.US,ncbi.public,s3.us-east-1</td>\n",
       "      <td>SRX081960</td>\n",
       "      <td>GSM752669</td>\n",
       "      <td>Illumina Genome Analyzer IIx</td>\n",
       "      <td>GSM752669: ptr br M 5</td>\n",
       "      <td>PAIRED</td>\n",
       "      <td>cDNA</td>\n",
       "      <td>TRANSCRIPTOMIC</td>\n",
       "      <td>4710</td>\n",
       "      <td>3512</td>\n",
       "      <td>Pan troglodytes</td>\n",
       "      <td>ILLUMINA</td>\n",
       "      <td>2011-10-14T00:00:00Z</td>\n",
       "      <td>SRS214052</td>\n",
       "      <td>GSM752669</td>\n",
       "      <td>Brain\\, prefrontal cortex</td>\n",
       "      <td>SRP007412</td>\n",
       "      <td>Biomedical Primate Research Center, Netherland...</td>\n",
       "      <td>male</td>\n",
       "      <td>7.9</td>\n",
       "      <td>12 years</td>\n",
       "      <td>RNeasy</td>\n",
       "      <td>NaN</td>\n",
       "    </tr>\n",
       "    <tr>\n",
       "      <th>114</th>\n",
       "      <td>SRR306826</td>\n",
       "      <td>RNA-Seq</td>\n",
       "      <td>202</td>\n",
       "      <td>PRJNA143627</td>\n",
       "      <td>SAMN00632220</td>\n",
       "      <td>GEO</td>\n",
       "      <td>public</td>\n",
       "      <td>sra</td>\n",
       "      <td>gs,ncbi,s3</td>\n",
       "      <td>gs.US,ncbi.public,s3.us-east-1</td>\n",
       "      <td>SRX081970</td>\n",
       "      <td>GSM752679</td>\n",
       "      <td>Illumina Genome Analyzer IIx</td>\n",
       "      <td>GSM752679: ppa br F 1</td>\n",
       "      <td>PAIRED</td>\n",
       "      <td>cDNA</td>\n",
       "      <td>TRANSCRIPTOMIC</td>\n",
       "      <td>3467</td>\n",
       "      <td>2640</td>\n",
       "      <td>Pan paniscus</td>\n",
       "      <td>ILLUMINA</td>\n",
       "      <td>2011-10-14T00:00:00Z</td>\n",
       "      <td>SRS214062</td>\n",
       "      <td>GSM752679</td>\n",
       "      <td>Brain\\, prefrontal cortex</td>\n",
       "      <td>SRP007412</td>\n",
       "      <td>Lola ya Bonobo Sanctuary, Democratic Republic ...</td>\n",
       "      <td>female</td>\n",
       "      <td>7.5</td>\n",
       "      <td>NaN</td>\n",
       "      <td>NaN</td>\n",
       "      <td>NaN</td>\n",
       "    </tr>\n",
       "    <tr>\n",
       "      <th>128</th>\n",
       "      <td>SRR306840</td>\n",
       "      <td>RNA-Seq</td>\n",
       "      <td>202</td>\n",
       "      <td>PRJNA143627</td>\n",
       "      <td>SAMN00632234</td>\n",
       "      <td>GEO</td>\n",
       "      <td>public</td>\n",
       "      <td>sra</td>\n",
       "      <td>gs,ncbi,s3</td>\n",
       "      <td>gs.US,ncbi.public,s3.us-east-1</td>\n",
       "      <td>SRX081984</td>\n",
       "      <td>GSM752693</td>\n",
       "      <td>Illumina Genome Analyzer IIx</td>\n",
       "      <td>GSM752693: hsa br M 1</td>\n",
       "      <td>PAIRED</td>\n",
       "      <td>cDNA</td>\n",
       "      <td>TRANSCRIPTOMIC</td>\n",
       "      <td>4560</td>\n",
       "      <td>3355</td>\n",
       "      <td>Homo sapiens</td>\n",
       "      <td>ILLUMINA</td>\n",
       "      <td>2011-10-14T00:00:00Z</td>\n",
       "      <td>SRS214076</td>\n",
       "      <td>GSM752693</td>\n",
       "      <td>Brain\\, prefrontal cortex</td>\n",
       "      <td>SRP007412</td>\n",
       "      <td>Netherland Brain Bank, Netherlands</td>\n",
       "      <td>male</td>\n",
       "      <td>8.6</td>\n",
       "      <td>NaN</td>\n",
       "      <td>NaN</td>\n",
       "      <td>NaN</td>\n",
       "    </tr>\n",
       "    <tr>\n",
       "      <th>130</th>\n",
       "      <td>SRR306842</td>\n",
       "      <td>RNA-Seq</td>\n",
       "      <td>202</td>\n",
       "      <td>PRJNA143627</td>\n",
       "      <td>SAMN00632236</td>\n",
       "      <td>GEO</td>\n",
       "      <td>public</td>\n",
       "      <td>sra</td>\n",
       "      <td>gs,ncbi,s3</td>\n",
       "      <td>gs.US,ncbi.public,s3.us-east-1</td>\n",
       "      <td>SRX081986</td>\n",
       "      <td>GSM752695</td>\n",
       "      <td>Illumina Genome Analyzer IIx</td>\n",
       "      <td>GSM752695: hsa br M 4</td>\n",
       "      <td>PAIRED</td>\n",
       "      <td>cDNA</td>\n",
       "      <td>TRANSCRIPTOMIC</td>\n",
       "      <td>3519</td>\n",
       "      <td>2669</td>\n",
       "      <td>Homo sapiens</td>\n",
       "      <td>ILLUMINA</td>\n",
       "      <td>2011-10-14T00:00:00Z</td>\n",
       "      <td>SRS214078</td>\n",
       "      <td>GSM752695</td>\n",
       "      <td>Brain\\, prefrontal cortex</td>\n",
       "      <td>SRP007412</td>\n",
       "      <td>Netherland Brain Bank, Netherlands</td>\n",
       "      <td>male</td>\n",
       "      <td>7.8</td>\n",
       "      <td>NaN</td>\n",
       "      <td>NaN</td>\n",
       "      <td>NaN</td>\n",
       "    </tr>\n",
       "  </tbody>\n",
       "</table>\n",
       "</div>"
      ],
      "text/plain": [
       "           Run Assay Type  AvgSpotLen   BioProject     BioSample Center Name  \\\n",
       "68   SRR306779    RNA-Seq         202  PRJNA143627  SAMN00632174         GEO   \n",
       "81   SRR306792    RNA-Seq         202  PRJNA143627  SAMN00632186         GEO   \n",
       "90   SRR306801    RNA-Seq         202  PRJNA143627  SAMN00632195         GEO   \n",
       "100  SRR306812    RNA-Seq         202  PRJNA143627  SAMN00632206         GEO   \n",
       "101  SRR306813    RNA-Seq         202  PRJNA143627  SAMN00632207         GEO   \n",
       "102  SRR306814    RNA-Seq         202  PRJNA143627  SAMN00632208         GEO   \n",
       "103  SRR306815    RNA-Seq         202  PRJNA143627  SAMN00632209         GEO   \n",
       "104  SRR306816    RNA-Seq         202  PRJNA143627  SAMN00632210         GEO   \n",
       "114  SRR306826    RNA-Seq         202  PRJNA143627  SAMN00632220         GEO   \n",
       "128  SRR306840    RNA-Seq         202  PRJNA143627  SAMN00632234         GEO   \n",
       "130  SRR306842    RNA-Seq         202  PRJNA143627  SAMN00632236         GEO   \n",
       "\n",
       "    Consent DATASTORE filetype DATASTORE provider  \\\n",
       "68   public                sra         gs,ncbi,s3   \n",
       "81   public                sra         gs,ncbi,s3   \n",
       "90   public                sra         gs,ncbi,s3   \n",
       "100  public                sra         gs,ncbi,s3   \n",
       "101  public                sra         gs,ncbi,s3   \n",
       "102  public                sra         gs,ncbi,s3   \n",
       "103  public                sra         gs,ncbi,s3   \n",
       "104  public                sra         gs,ncbi,s3   \n",
       "114  public                sra         gs,ncbi,s3   \n",
       "128  public                sra         gs,ncbi,s3   \n",
       "130  public                sra         gs,ncbi,s3   \n",
       "\n",
       "                   DATASTORE region Experiment GEO_Accession  \\\n",
       "68   gs.US,ncbi.public,s3.us-east-1  SRX081924     GSM752633   \n",
       "81   gs.US,ncbi.public,s3.us-east-1  SRX081936     GSM752645   \n",
       "90   gs.US,ncbi.public,s3.us-east-1  SRX081945     GSM752654   \n",
       "100  gs.US,ncbi.public,s3.us-east-1  SRX081956     GSM752665   \n",
       "101  gs.US,ncbi.public,s3.us-east-1  SRX081957     GSM752666   \n",
       "102  gs.US,ncbi.public,s3.us-east-1  SRX081958     GSM752667   \n",
       "103  gs.US,ncbi.public,s3.us-east-1  SRX081959     GSM752668   \n",
       "104  gs.US,ncbi.public,s3.us-east-1  SRX081960     GSM752669   \n",
       "114  gs.US,ncbi.public,s3.us-east-1  SRX081970     GSM752679   \n",
       "128  gs.US,ncbi.public,s3.us-east-1  SRX081984     GSM752693   \n",
       "130  gs.US,ncbi.public,s3.us-east-1  SRX081986     GSM752695   \n",
       "\n",
       "                       Instrument           Library Name LibraryLayout  \\\n",
       "68   Illumina Genome Analyzer IIx  GSM752633: mml br M 2        PAIRED   \n",
       "81   Illumina Genome Analyzer IIx  GSM752645: ppy br M 1        PAIRED   \n",
       "90   Illumina Genome Analyzer IIx  GSM752654: ggo br M 1        PAIRED   \n",
       "100  Illumina Genome Analyzer IIx  GSM752665: ptr br M 1        PAIRED   \n",
       "101  Illumina Genome Analyzer IIx  GSM752666: ptr br M 2        PAIRED   \n",
       "102  Illumina Genome Analyzer IIx  GSM752667: ptr br M 3        PAIRED   \n",
       "103  Illumina Genome Analyzer IIx  GSM752668: ptr br M 4        PAIRED   \n",
       "104  Illumina Genome Analyzer IIx  GSM752669: ptr br M 5        PAIRED   \n",
       "114  Illumina Genome Analyzer IIx  GSM752679: ppa br F 1        PAIRED   \n",
       "128  Illumina Genome Analyzer IIx  GSM752693: hsa br M 1        PAIRED   \n",
       "130  Illumina Genome Analyzer IIx  GSM752695: hsa br M 4        PAIRED   \n",
       "\n",
       "    LibrarySelection   LibrarySource  MBases  MBytes         Organism  \\\n",
       "68              cDNA  TRANSCRIPTOMIC    4335    3296   Macaca mulatta   \n",
       "81              cDNA  TRANSCRIPTOMIC    3570    2713   Pongo pygmaeus   \n",
       "90              cDNA  TRANSCRIPTOMIC    3283    2496  Gorilla gorilla   \n",
       "100             cDNA  TRANSCRIPTOMIC    2817    2140  Pan troglodytes   \n",
       "101             cDNA  TRANSCRIPTOMIC    4122    3178  Pan troglodytes   \n",
       "102             cDNA  TRANSCRIPTOMIC    3513    2609  Pan troglodytes   \n",
       "103             cDNA  TRANSCRIPTOMIC    4491    3403  Pan troglodytes   \n",
       "104             cDNA  TRANSCRIPTOMIC    4710    3512  Pan troglodytes   \n",
       "114             cDNA  TRANSCRIPTOMIC    3467    2640     Pan paniscus   \n",
       "128             cDNA  TRANSCRIPTOMIC    4560    3355     Homo sapiens   \n",
       "130             cDNA  TRANSCRIPTOMIC    3519    2669     Homo sapiens   \n",
       "\n",
       "     Platform           ReleaseDate sample_acc Sample Name  \\\n",
       "68   ILLUMINA  2011-10-14T00:00:00Z  SRS214016   GSM752633   \n",
       "81   ILLUMINA  2011-10-14T00:00:00Z  SRS214028   GSM752645   \n",
       "90   ILLUMINA  2011-10-14T00:00:00Z  SRS214037   GSM752654   \n",
       "100  ILLUMINA  2011-10-14T00:00:00Z  SRS214048   GSM752665   \n",
       "101  ILLUMINA  2011-10-14T00:00:00Z  SRS214049   GSM752666   \n",
       "102  ILLUMINA  2011-10-14T00:00:00Z  SRS214050   GSM752667   \n",
       "103  ILLUMINA  2011-10-14T00:00:00Z  SRS214051   GSM752668   \n",
       "104  ILLUMINA  2011-10-14T00:00:00Z  SRS214052   GSM752669   \n",
       "114  ILLUMINA  2011-10-14T00:00:00Z  SRS214062   GSM752679   \n",
       "128  ILLUMINA  2011-10-14T00:00:00Z  SRS214076   GSM752693   \n",
       "130  ILLUMINA  2011-10-14T00:00:00Z  SRS214078   GSM752695   \n",
       "\n",
       "                   source_name  SRA Study  \\\n",
       "68   Brain\\, prefrontal cortex  SRP007412   \n",
       "81   Brain\\, prefrontal cortex  SRP007412   \n",
       "90   Brain\\, prefrontal cortex  SRP007412   \n",
       "100  Brain\\, prefrontal cortex  SRP007412   \n",
       "101  Brain\\, prefrontal cortex  SRP007412   \n",
       "102  Brain\\, prefrontal cortex  SRP007412   \n",
       "103  Brain\\, prefrontal cortex  SRP007412   \n",
       "104  Brain\\, prefrontal cortex  SRP007412   \n",
       "114  Brain\\, prefrontal cortex  SRP007412   \n",
       "128  Brain\\, prefrontal cortex  SRP007412   \n",
       "130  Brain\\, prefrontal cortex  SRP007412   \n",
       "\n",
       "                                         tissue_source  gender  rin  \\\n",
       "68                  Deutsches Primatenzentrum, Germany    male  8.9   \n",
       "81      National Veterinary Institute, Uppsala, Sweden    male  8.2   \n",
       "90                              Zoo Frankfurt, Germany     NaN  7.9   \n",
       "100  Biomedical Primate Research Center, Netherland...    male  7.8   \n",
       "101                            Zoo Zurich, Switzerland    male  6.7   \n",
       "102  Biomedical Primate Research Center, Netherland...    male  7.5   \n",
       "103  Biomedical Primate Research Center, Netherland...    male  7.4   \n",
       "104  Biomedical Primate Research Center, Netherland...    male  7.9   \n",
       "114  Lola ya Bonobo Sanctuary, Democratic Republic ...  female  7.5   \n",
       "128                 Netherland Brain Bank, Netherlands    male  8.6   \n",
       "130                 Netherland Brain Bank, Netherlands    male  7.8   \n",
       "\n",
       "            Age Extraction                                                sex  \n",
       "68      7 years     RNeasy                                                NaN  \n",
       "81     16 years     RNeasy                                                NaN  \n",
       "90     51 years     RNeasy  Female (note: this sample was originally provi...  \n",
       "100  12.3 years     RNeasy                                                NaN  \n",
       "101    35 years     RNeasy                                                NaN  \n",
       "102  12.1 years     RNeasy                                                NaN  \n",
       "103   6.7 years     RNeasy                                                NaN  \n",
       "104    12 years     RNeasy                                                NaN  \n",
       "114         NaN        NaN                                                NaN  \n",
       "128         NaN        NaN                                                NaN  \n",
       "130         NaN        NaN                                                NaN  "
      ]
     },
     "execution_count": 8,
     "metadata": {},
     "output_type": "execute_result"
    }
   ],
   "source": [
    "paired = sra_run_table.query('LibraryLayout == \"PAIRED\"')\n",
    "paired"
   ]
  },
  {
   "cell_type": "code",
   "execution_count": 7,
   "metadata": {
    "execution_event_id": "6658cf8c-70d3-4c9b-b1c9-2c27e1f109c2",
    "last_executed_text": "sra_run_table.iloc[90].values",
    "persistent_id": "00943c6e-0a16-4101-82ed-ad2deb51c161"
   },
   "outputs": [
    {
     "data": {
      "text/plain": [
       "array(['SRR306801', 'RNA-Seq', 202, 'PRJNA143627', 'SAMN00632195', 'GEO',\n",
       "       'public', 'sra', 'gs,ncbi,s3', 'gs.US,ncbi.public,s3.us-east-1',\n",
       "       'SRX081945', 'GSM752654', 'Illumina Genome Analyzer IIx',\n",
       "       'GSM752654: ggo br M 1', 'PAIRED', 'cDNA', 'TRANSCRIPTOMIC', 3283,\n",
       "       2496, 'Gorilla gorilla', 'ILLUMINA', '2011-10-14T00:00:00Z',\n",
       "       'SRS214037', 'GSM752654', 'Brain\\\\, prefrontal cortex',\n",
       "       'SRP007412', 'Zoo Frankfurt, Germany', nan, 7.9, '51 years',\n",
       "       'RNeasy',\n",
       "       'Female (note: this sample was originally provided as a \"male\" sample to us and therefore labeled this way in the Brawand et al. paper and original GEO submission; however, detailed data analyses carried out in the meantime clearly show that this samp'],\n",
       "      dtype=object)"
      ]
     },
     "execution_count": 7,
     "metadata": {},
     "output_type": "execute_result"
    }
   ],
   "source": [
    "sra_run_table.iloc[90].values"
   ]
  },
  {
   "cell_type": "markdown",
   "metadata": {
    "persistent_id": "9c6f0e6f-6a0f-4791-b8ef-f3ea14100a7c"
   },
   "source": [
    "as in [this file](https://github.com/czbiohub/kh-workflows/blob/olgabot/carvunis2015/sra-explorer/brawand2011.sh), can infer the fastq file location based on the SRR Run ID:\n",
    "\n",
    "\n",
    "```\n",
    "curl -L ftp://ftp.sra.ebi.ac.uk/vol1/fastq/SRR306/SRR306852/SRR306852.fastq.gz -o SRR306852_GSM752703_hsa_kd_M_1.fastq.gz\n",
    "curl -L ftp://ftp.sra.ebi.ac.uk/vol1/fastq/SRR306/SRR306828/SRR306828.fastq.gz -o SRR306828_GSM752681_ppa_br_M_1.fastq.gz\n",
    "curl -L ftp://ftp.sra.ebi.ac.uk/vol1/fastq/SRR306/SRR306768/SRR306768.fastq.gz -o SRR306768_GSM752622_mmu_ht_M_2.fastq.gz\n",
    "curl -L ftp://ftp.sra.ebi.ac.uk/vol1/fastq/SRR306/SRR306752/SRR306752.fastq.gz -o SRR306752_GSM752603_mdo_kd_M_1.fastq.gz\n",
    "curl -L ftp://ftp.sra.ebi.ac.uk/vol1/fastq/SRR306/SRR306854/SRR306854.fastq.gz -o SRR306854_GSM752705_hsa_lv_M_1.fastq.gz\n",
    "curl -L ftp://ftp.sra.ebi.ac.uk/vol1/fastq/SRR306/SRR306793/SRR306793.fastq.gz -o SRR306793_GSM752646_ppy_cb_F_1.fastq.gz\n",
    "curl -L ftp://ftp.sra.ebi.ac.uk/vol1/fastq/SRR306/SRR306827/SRR306827.fastq.gz -o SRR306827_GSM752680_ppa_br_F_2.fastq.gz\n",
    "curl -L ftp://ftp.sra.ebi.ac.uk/vol1/fastq/SRR306/SRR306821/SRR306821.fastq.gz -o SRR306821_GSM752674_ptr_kd_F_1.fastq.gz\n",
    "curl -L ftp://ftp.sra.ebi.ac.uk/vol1/fastq/SRR306/SRR306782/SRR306782.fastq.gz -o SRR306782_GSM752636_mml_ht_F_1.fastq.gz\n",
    "curl -L ftp://ftp.sra.ebi.ac.uk/vol1/fastq/SRR306/SRR306753/SRR306753.fastq.gz -o SRR306753_GSM752606_mdo_lv_F_1.fastq.gz\n",
    "curl -L ftp://ftp.sra.ebi.ac.uk/vol1/fastq/SRR306/SRR306813/SRR306813_1.fastq.gz -o SRR306813_GSM752666_ptr_br_M_2_1.fastq.gz\n",
    "curl -L ftp://ftp.sra.ebi.ac.uk/vol1/fastq/SRR306/SRR306813/SRR306813_2.fastq.gz -o SRR306813_GSM752666_ptr_br_M_2_2.fastq.gz\n",
    "```"
   ]
  },
  {
   "cell_type": "code",
   "execution_count": 35,
   "metadata": {
    "execution_event_id": "19673a0e-7aa5-453d-987e-ad9748f1706a",
    "last_executed_text": "def sanitize_name(name):\n    stripped = name.strip()\n    no_spaces = stripped.replace(' ', '_')\n    no_colons = no_spaces.replace(':', '')\n    return no_colons\n\nsra_run_table['sanitized_name'] = sra_run_table['Library Name'].map(sanitize_name)\nsra_run_table['sanitized_name'].sample(5)",
    "persistent_id": "64d4bbfc-1354-42b1-8d04-cffc4b019b14"
   },
   "outputs": [
    {
     "data": {
      "text/plain": [
       "123    GSM752688_ppa_lv_F_1\n",
       "135    GSM752699_hsa_ht_F_1\n",
       "50     GSM752615_mmu_br_M_1\n",
       "145    GSM752707_hsa_ts_M_1\n",
       "147    GSM752660_ggo_kd_M_1\n",
       "Name: sanitized_name, dtype: object"
      ]
     },
     "execution_count": 35,
     "metadata": {},
     "output_type": "execute_result"
    }
   ],
   "source": [
    "def sanitize_name(name):\n",
    "    stripped = name.strip()\n",
    "    no_spaces = stripped.replace(' ', '_')\n",
    "    no_colons = no_spaces.replace(':', '')\n",
    "    return no_colons\n",
    "\n",
    "sra_run_table['sanitized_name'] = sra_run_table['Library Name'].map(sanitize_name)\n",
    "sra_run_table['sanitized_name'].sample(5)"
   ]
  },
  {
   "cell_type": "code",
   "execution_count": null,
   "metadata": {
    "persistent_id": "484020f8-3a69-44bf-922f-647908bc4f75"
   },
   "outputs": [],
   "source": [
    "sra_run_table['sanitized_name_with_run'] = sra_run_table['Run'] + \"_\" + sra_run_table['sanitized_name']\n",
    "sra_run_table['sanitized_name_with_run'].sample(5)"
   ]
  },
  {
   "cell_type": "code",
   "execution_count": 39,
   "metadata": {
    "execution_event_id": "68f94ad8-0637-447f-829a-b2edd95150ce",
    "last_executed_text": "def srr_to_url(srr_run, is_paired, url_base='ftp://ftp.sra.ebi.ac.uk/vol1/fastq/'):\n    suffix = f'{srr_run[:6]}/{srr_run}'\n    if is_paired:\n        read1 = f\"{url_base}/{suffix}/{srr_run}_1.fastq.gz\"\n        read2 = f\"{url_base}/{suffix}/{srr_run}_2.fastq.gz\"\n        reads = (read1, read2)\n    else:\n        read1 = f\"{url_base}/{suffix}/{srr_run}.fastq.gz\"\n        reads = (read1,)\n    return reads\n\ndef get_curl_commands(row):\n    template = 'curl -L {url} -o {destination}\\n'\n    is_paired = row['LibraryLayout'] == 'PAIRED'\n    \n    read_urls = srr_to_url(row['Run'], is_paired)\n    commands = []\n    for i, url in enumerate(read_urls):\n        destination = row['Run'] + '_' + row['sanitized_name'] + f\"_R{i+1}.fastq.gz\"\n        commands.append(template.format(url=url, destination=destination))\n    return commands\n\ncommands = list(itertools.chain(*sra_run_table.apply(get_curl_commands, axis=1).values))\ncommands",
    "persistent_id": "14bce4c0-4b3b-49fc-9039-a1b84e9f0776"
   },
   "outputs": [
    {
     "data": {
      "text/plain": [
       "['curl -L ftp://ftp.sra.ebi.ac.uk/vol1/fastq//SRR306/SRR306710/SRR306710.fastq.gz -o SRR306710_GSM752557_gga_br_F_1_R1.fastq.gz\\n',\n",
       " 'curl -L ftp://ftp.sra.ebi.ac.uk/vol1/fastq//SRR306/SRR306711/SRR306711.fastq.gz -o SRR306711_GSM752558_gga_br_M_1_R1.fastq.gz\\n',\n",
       " 'curl -L ftp://ftp.sra.ebi.ac.uk/vol1/fastq//SRR306/SRR306712/SRR306712.fastq.gz -o SRR306712_GSM752559_gga_cb_F_1_R1.fastq.gz\\n',\n",
       " 'curl -L ftp://ftp.sra.ebi.ac.uk/vol1/fastq//SRR306/SRR306713/SRR306713.fastq.gz -o SRR306713_GSM752560_gga_cb_M_1_R1.fastq.gz\\n',\n",
       " 'curl -L ftp://ftp.sra.ebi.ac.uk/vol1/fastq//SRR306/SRR306714/SRR306714.fastq.gz -o SRR306714_GSM752561_gga_ht_F_1_R1.fastq.gz\\n',\n",
       " 'curl -L ftp://ftp.sra.ebi.ac.uk/vol1/fastq//SRR306/SRR306715/SRR306715.fastq.gz -o SRR306715_GSM752562_gga_ht_M_1_R1.fastq.gz\\n',\n",
       " 'curl -L ftp://ftp.sra.ebi.ac.uk/vol1/fastq//SRR306/SRR306716/SRR306716.fastq.gz -o SRR306716_GSM752563_gga_kd_F_1_R1.fastq.gz\\n',\n",
       " 'curl -L ftp://ftp.sra.ebi.ac.uk/vol1/fastq//SRR306/SRR306717/SRR306717.fastq.gz -o SRR306717_GSM752564_gga_kd_M_1_R1.fastq.gz\\n',\n",
       " 'curl -L ftp://ftp.sra.ebi.ac.uk/vol1/fastq//SRR306/SRR306718/SRR306718.fastq.gz -o SRR306718_GSM752565_gga_lv_F_1_R1.fastq.gz\\n',\n",
       " 'curl -L ftp://ftp.sra.ebi.ac.uk/vol1/fastq//SRR306/SRR306719/SRR306719.fastq.gz -o SRR306719_GSM752566_gga_lv_M_1_R1.fastq.gz\\n',\n",
       " 'curl -L ftp://ftp.sra.ebi.ac.uk/vol1/fastq//SRR306/SRR306720/SRR306720.fastq.gz -o SRR306720_GSM752566_gga_lv_M_1_R1.fastq.gz\\n',\n",
       " 'curl -L ftp://ftp.sra.ebi.ac.uk/vol1/fastq//SRR306/SRR306721/SRR306721.fastq.gz -o SRR306721_GSM752567_gga_ts_M_1_R1.fastq.gz\\n',\n",
       " 'curl -L ftp://ftp.sra.ebi.ac.uk/vol1/fastq//SRR306/SRR306722/SRR306722.fastq.gz -o SRR306722_GSM752567_gga_ts_M_1_R1.fastq.gz\\n',\n",
       " 'curl -L ftp://ftp.sra.ebi.ac.uk/vol1/fastq//SRR306/SRR306723/SRR306723.fastq.gz -o SRR306723_GSM752568_gga_ts_M_2_R1.fastq.gz\\n',\n",
       " 'curl -L ftp://ftp.sra.ebi.ac.uk/vol1/fastq//SRR306/SRR306724/SRR306724.fastq.gz -o SRR306724_GSM752569_oan_br_F_1_R1.fastq.gz\\n',\n",
       " 'curl -L ftp://ftp.sra.ebi.ac.uk/vol1/fastq//SRR306/SRR306725/SRR306725.fastq.gz -o SRR306725_GSM752569_oan_br_F_1_R1.fastq.gz\\n',\n",
       " 'curl -L ftp://ftp.sra.ebi.ac.uk/vol1/fastq//SRR306/SRR306726/SRR306726.fastq.gz -o SRR306726_GSM752570_oan_br_M_1_R1.fastq.gz\\n',\n",
       " 'curl -L ftp://ftp.sra.ebi.ac.uk/vol1/fastq//SRR306/SRR306727/SRR306727.fastq.gz -o SRR306727_GSM752570_oan_br_M_1_R1.fastq.gz\\n',\n",
       " 'curl -L ftp://ftp.sra.ebi.ac.uk/vol1/fastq//SRR306/SRR306728/SRR306728.fastq.gz -o SRR306728_GSM752571_oan_cb_F_1_R1.fastq.gz\\n',\n",
       " 'curl -L ftp://ftp.sra.ebi.ac.uk/vol1/fastq//SRR306/SRR306729/SRR306729.fastq.gz -o SRR306729_GSM752572_oan_cb_M_1_R1.fastq.gz\\n',\n",
       " 'curl -L ftp://ftp.sra.ebi.ac.uk/vol1/fastq//SRR306/SRR306730/SRR306730.fastq.gz -o SRR306730_GSM752573_oan_ht_F_1_R1.fastq.gz\\n',\n",
       " 'curl -L ftp://ftp.sra.ebi.ac.uk/vol1/fastq//SRR306/SRR306731/SRR306731.fastq.gz -o SRR306731_GSM752575_oan_ht_M_1_R1.fastq.gz\\n',\n",
       " 'curl -L ftp://ftp.sra.ebi.ac.uk/vol1/fastq//SRR306/SRR306732/SRR306732.fastq.gz -o SRR306732_GSM752576_oan_kd_F_1_R1.fastq.gz\\n',\n",
       " 'curl -L ftp://ftp.sra.ebi.ac.uk/vol1/fastq//SRR306/SRR306733/SRR306733.fastq.gz -o SRR306733_GSM752578_oan_kd_M_1_R1.fastq.gz\\n',\n",
       " 'curl -L ftp://ftp.sra.ebi.ac.uk/vol1/fastq//SRR306/SRR306734/SRR306734.fastq.gz -o SRR306734_GSM752578_oan_kd_M_1_R1.fastq.gz\\n',\n",
       " 'curl -L ftp://ftp.sra.ebi.ac.uk/vol1/fastq//SRR306/SRR306735/SRR306735.fastq.gz -o SRR306735_GSM752580_oan_lv_F_1_R1.fastq.gz\\n',\n",
       " 'curl -L ftp://ftp.sra.ebi.ac.uk/vol1/fastq//SRR306/SRR306736/SRR306736.fastq.gz -o SRR306736_GSM752580_oan_lv_F_1_R1.fastq.gz\\n',\n",
       " 'curl -L ftp://ftp.sra.ebi.ac.uk/vol1/fastq//SRR306/SRR306737/SRR306737.fastq.gz -o SRR306737_GSM752581_oan_lv_M_1_R1.fastq.gz\\n',\n",
       " 'curl -L ftp://ftp.sra.ebi.ac.uk/vol1/fastq//SRR306/SRR306738/SRR306738.fastq.gz -o SRR306738_GSM752581_oan_lv_M_1_R1.fastq.gz\\n',\n",
       " 'curl -L ftp://ftp.sra.ebi.ac.uk/vol1/fastq//SRR306/SRR306739/SRR306739.fastq.gz -o SRR306739_GSM752583_oan_ts_M_1_R1.fastq.gz\\n',\n",
       " 'curl -L ftp://ftp.sra.ebi.ac.uk/vol1/fastq//SRR306/SRR306741/SRR306741.fastq.gz -o SRR306741_GSM752585_oan_ts_M_2_R1.fastq.gz\\n',\n",
       " 'curl -L ftp://ftp.sra.ebi.ac.uk/vol1/fastq//SRR306/SRR306742/SRR306742.fastq.gz -o SRR306742_GSM752588_mdo_br_F_1_R1.fastq.gz\\n',\n",
       " 'curl -L ftp://ftp.sra.ebi.ac.uk/vol1/fastq//SRR306/SRR306743/SRR306743.fastq.gz -o SRR306743_GSM752588_mdo_br_F_1_R1.fastq.gz\\n',\n",
       " 'curl -L ftp://ftp.sra.ebi.ac.uk/vol1/fastq//SRR306/SRR306744/SRR306744.fastq.gz -o SRR306744_GSM752590_mdo_br_M_1_R1.fastq.gz\\n',\n",
       " 'curl -L ftp://ftp.sra.ebi.ac.uk/vol1/fastq//SRR306/SRR306745/SRR306745.fastq.gz -o SRR306745_GSM752592_mdo_cb_F_1_R1.fastq.gz\\n',\n",
       " 'curl -L ftp://ftp.sra.ebi.ac.uk/vol1/fastq//SRR306/SRR306746/SRR306746.fastq.gz -o SRR306746_GSM752594_mdo_cb_M_1_R1.fastq.gz\\n',\n",
       " 'curl -L ftp://ftp.sra.ebi.ac.uk/vol1/fastq//SRR306/SRR306747/SRR306747.fastq.gz -o SRR306747_GSM752596_mdo_ht_F_1_R1.fastq.gz\\n',\n",
       " 'curl -L ftp://ftp.sra.ebi.ac.uk/vol1/fastq//SRR306/SRR306748/SRR306748.fastq.gz -o SRR306748_GSM752596_mdo_ht_F_1_R1.fastq.gz\\n',\n",
       " 'curl -L ftp://ftp.sra.ebi.ac.uk/vol1/fastq//SRR306/SRR306749/SRR306749.fastq.gz -o SRR306749_GSM752598_mdo_ht_M_1_R1.fastq.gz\\n',\n",
       " 'curl -L ftp://ftp.sra.ebi.ac.uk/vol1/fastq//SRR306/SRR306750/SRR306750.fastq.gz -o SRR306750_GSM752598_mdo_ht_M_1_R1.fastq.gz\\n',\n",
       " 'curl -L ftp://ftp.sra.ebi.ac.uk/vol1/fastq//SRR306/SRR306751/SRR306751.fastq.gz -o SRR306751_GSM752601_mdo_kd_F_1_R1.fastq.gz\\n',\n",
       " 'curl -L ftp://ftp.sra.ebi.ac.uk/vol1/fastq//SRR306/SRR306752/SRR306752.fastq.gz -o SRR306752_GSM752603_mdo_kd_M_1_R1.fastq.gz\\n',\n",
       " 'curl -L ftp://ftp.sra.ebi.ac.uk/vol1/fastq//SRR306/SRR306753/SRR306753.fastq.gz -o SRR306753_GSM752606_mdo_lv_F_1_R1.fastq.gz\\n',\n",
       " 'curl -L ftp://ftp.sra.ebi.ac.uk/vol1/fastq//SRR306/SRR306754/SRR306754.fastq.gz -o SRR306754_GSM752608_mdo_lv_M_1_R1.fastq.gz\\n',\n",
       " 'curl -L ftp://ftp.sra.ebi.ac.uk/vol1/fastq//SRR306/SRR306755/SRR306755.fastq.gz -o SRR306755_GSM752611_mdo_ts_M_1_R1.fastq.gz\\n',\n",
       " 'curl -L ftp://ftp.sra.ebi.ac.uk/vol1/fastq//SRR306/SRR306756/SRR306756.fastq.gz -o SRR306756_GSM752613_mdo_ts_M_2_R1.fastq.gz\\n',\n",
       " 'curl -L ftp://ftp.sra.ebi.ac.uk/vol1/fastq//SRR306/SRR306757/SRR306757.fastq.gz -o SRR306757_GSM752614_mmu_br_F_1_R1.fastq.gz\\n',\n",
       " 'curl -L ftp://ftp.sra.ebi.ac.uk/vol1/fastq//SRR306/SRR306758/SRR306758.fastq.gz -o SRR306758_GSM752615_mmu_br_M_1_R1.fastq.gz\\n',\n",
       " 'curl -L ftp://ftp.sra.ebi.ac.uk/vol1/fastq//SRR306/SRR306759/SRR306759.fastq.gz -o SRR306759_GSM752615_mmu_br_M_1_R1.fastq.gz\\n',\n",
       " 'curl -L ftp://ftp.sra.ebi.ac.uk/vol1/fastq//SRR306/SRR306760/SRR306760.fastq.gz -o SRR306760_GSM752615_mmu_br_M_1_R1.fastq.gz\\n',\n",
       " 'curl -L ftp://ftp.sra.ebi.ac.uk/vol1/fastq//SRR306/SRR306761/SRR306761.fastq.gz -o SRR306761_GSM752615_mmu_br_M_1_R1.fastq.gz\\n',\n",
       " 'curl -L ftp://ftp.sra.ebi.ac.uk/vol1/fastq//SRR306/SRR306762/SRR306762.fastq.gz -o SRR306762_GSM752616_mmu_br_M_2_R1.fastq.gz\\n',\n",
       " 'curl -L ftp://ftp.sra.ebi.ac.uk/vol1/fastq//SRR306/SRR306763/SRR306763.fastq.gz -o SRR306763_GSM752617_mmu_cb_F_1_R1.fastq.gz\\n',\n",
       " 'curl -L ftp://ftp.sra.ebi.ac.uk/vol1/fastq//SRR306/SRR306764/SRR306764.fastq.gz -o SRR306764_GSM752618_mmu_cb_M_1_R1.fastq.gz\\n',\n",
       " 'curl -L ftp://ftp.sra.ebi.ac.uk/vol1/fastq//SRR306/SRR306765/SRR306765.fastq.gz -o SRR306765_GSM752619_mmu_cb_M_2_R1.fastq.gz\\n',\n",
       " 'curl -L ftp://ftp.sra.ebi.ac.uk/vol1/fastq//SRR306/SRR306766/SRR306766.fastq.gz -o SRR306766_GSM752620_mmu_ht_F_1_R1.fastq.gz\\n',\n",
       " 'curl -L ftp://ftp.sra.ebi.ac.uk/vol1/fastq//SRR306/SRR306767/SRR306767.fastq.gz -o SRR306767_GSM752621_mmu_ht_M_1_R1.fastq.gz\\n',\n",
       " 'curl -L ftp://ftp.sra.ebi.ac.uk/vol1/fastq//SRR306/SRR306768/SRR306768.fastq.gz -o SRR306768_GSM752622_mmu_ht_M_2_R1.fastq.gz\\n',\n",
       " 'curl -L ftp://ftp.sra.ebi.ac.uk/vol1/fastq//SRR306/SRR306769/SRR306769.fastq.gz -o SRR306769_GSM752623_mmu_kd_F_1_R1.fastq.gz\\n',\n",
       " 'curl -L ftp://ftp.sra.ebi.ac.uk/vol1/fastq//SRR306/SRR306770/SRR306770.fastq.gz -o SRR306770_GSM752624_mmu_kd_M_1_R1.fastq.gz\\n',\n",
       " 'curl -L ftp://ftp.sra.ebi.ac.uk/vol1/fastq//SRR306/SRR306771/SRR306771.fastq.gz -o SRR306771_GSM752625_mmu_kd_M_2_R1.fastq.gz\\n',\n",
       " 'curl -L ftp://ftp.sra.ebi.ac.uk/vol1/fastq//SRR306/SRR306772/SRR306772.fastq.gz -o SRR306772_GSM752626_mmu_lv_F_1_R1.fastq.gz\\n',\n",
       " 'curl -L ftp://ftp.sra.ebi.ac.uk/vol1/fastq//SRR306/SRR306773/SRR306773.fastq.gz -o SRR306773_GSM752627_mmu_lv_M_1_R1.fastq.gz\\n',\n",
       " 'curl -L ftp://ftp.sra.ebi.ac.uk/vol1/fastq//SRR306/SRR306774/SRR306774.fastq.gz -o SRR306774_GSM752628_mmu_lv_M_2_R1.fastq.gz\\n',\n",
       " 'curl -L ftp://ftp.sra.ebi.ac.uk/vol1/fastq//SRR306/SRR306775/SRR306775.fastq.gz -o SRR306775_GSM752629_mmu_ts_M_1_R1.fastq.gz\\n',\n",
       " 'curl -L ftp://ftp.sra.ebi.ac.uk/vol1/fastq//SRR306/SRR306776/SRR306776.fastq.gz -o SRR306776_GSM752630_mmu_ts_M_2_R1.fastq.gz\\n',\n",
       " 'curl -L ftp://ftp.sra.ebi.ac.uk/vol1/fastq//SRR306/SRR306777/SRR306777.fastq.gz -o SRR306777_GSM752631_mml_br_F_1_R1.fastq.gz\\n',\n",
       " 'curl -L ftp://ftp.sra.ebi.ac.uk/vol1/fastq//SRR306/SRR306778/SRR306778.fastq.gz -o SRR306778_GSM752632_mml_br_M_1_R1.fastq.gz\\n',\n",
       " 'curl -L ftp://ftp.sra.ebi.ac.uk/vol1/fastq//SRR306/SRR306779/SRR306779_1.fastq.gz -o SRR306779_GSM752633_mml_br_M_2_R1.fastq.gz\\n',\n",
       " 'curl -L ftp://ftp.sra.ebi.ac.uk/vol1/fastq//SRR306/SRR306779/SRR306779_2.fastq.gz -o SRR306779_GSM752633_mml_br_M_2_R2.fastq.gz\\n',\n",
       " 'curl -L ftp://ftp.sra.ebi.ac.uk/vol1/fastq//SRR306/SRR306780/SRR306780.fastq.gz -o SRR306780_GSM752634_mml_cb_F_1_R1.fastq.gz\\n',\n",
       " 'curl -L ftp://ftp.sra.ebi.ac.uk/vol1/fastq//SRR306/SRR306781/SRR306781.fastq.gz -o SRR306781_GSM752635_mml_cb_M_1_R1.fastq.gz\\n',\n",
       " 'curl -L ftp://ftp.sra.ebi.ac.uk/vol1/fastq//SRR306/SRR306782/SRR306782.fastq.gz -o SRR306782_GSM752636_mml_ht_F_1_R1.fastq.gz\\n',\n",
       " 'curl -L ftp://ftp.sra.ebi.ac.uk/vol1/fastq//SRR306/SRR306783/SRR306783.fastq.gz -o SRR306783_GSM752637_mml_ht_M_1_R1.fastq.gz\\n',\n",
       " 'curl -L ftp://ftp.sra.ebi.ac.uk/vol1/fastq//SRR306/SRR306784/SRR306784.fastq.gz -o SRR306784_GSM752638_mml_kd_F_1_R1.fastq.gz\\n',\n",
       " 'curl -L ftp://ftp.sra.ebi.ac.uk/vol1/fastq//SRR306/SRR306785/SRR306785.fastq.gz -o SRR306785_GSM752639_mml_kd_M_1_R1.fastq.gz\\n',\n",
       " 'curl -L ftp://ftp.sra.ebi.ac.uk/vol1/fastq//SRR306/SRR306786/SRR306786.fastq.gz -o SRR306786_GSM752640_mml_lv_F_1_R1.fastq.gz\\n',\n",
       " 'curl -L ftp://ftp.sra.ebi.ac.uk/vol1/fastq//SRR306/SRR306787/SRR306787.fastq.gz -o SRR306787_GSM752641_mml_lv_M_1_R1.fastq.gz\\n',\n",
       " 'curl -L ftp://ftp.sra.ebi.ac.uk/vol1/fastq//SRR306/SRR306788/SRR306788.fastq.gz -o SRR306788_GSM752641_mml_lv_M_1_R1.fastq.gz\\n',\n",
       " 'curl -L ftp://ftp.sra.ebi.ac.uk/vol1/fastq//SRR306/SRR306789/SRR306789.fastq.gz -o SRR306789_GSM752642_mml_ts_M_1_R1.fastq.gz\\n',\n",
       " 'curl -L ftp://ftp.sra.ebi.ac.uk/vol1/fastq//SRR306/SRR306790/SRR306790.fastq.gz -o SRR306790_GSM752643_mml_ts_M_2_R1.fastq.gz\\n',\n",
       " 'curl -L ftp://ftp.sra.ebi.ac.uk/vol1/fastq//SRR306/SRR306791/SRR306791.fastq.gz -o SRR306791_GSM752644_ppy_br_F_1_R1.fastq.gz\\n',\n",
       " 'curl -L ftp://ftp.sra.ebi.ac.uk/vol1/fastq//SRR306/SRR306792/SRR306792_1.fastq.gz -o SRR306792_GSM752645_ppy_br_M_1_R1.fastq.gz\\n',\n",
       " 'curl -L ftp://ftp.sra.ebi.ac.uk/vol1/fastq//SRR306/SRR306792/SRR306792_2.fastq.gz -o SRR306792_GSM752645_ppy_br_M_1_R2.fastq.gz\\n',\n",
       " 'curl -L ftp://ftp.sra.ebi.ac.uk/vol1/fastq//SRR306/SRR306793/SRR306793.fastq.gz -o SRR306793_GSM752646_ppy_cb_F_1_R1.fastq.gz\\n',\n",
       " 'curl -L ftp://ftp.sra.ebi.ac.uk/vol1/fastq//SRR306/SRR306794/SRR306794.fastq.gz -o SRR306794_GSM752647_ppy_ht_F_1_R1.fastq.gz\\n',\n",
       " 'curl -L ftp://ftp.sra.ebi.ac.uk/vol1/fastq//SRR306/SRR306795/SRR306795.fastq.gz -o SRR306795_GSM752648_ppy_ht_M_1_R1.fastq.gz\\n',\n",
       " 'curl -L ftp://ftp.sra.ebi.ac.uk/vol1/fastq//SRR306/SRR306796/SRR306796.fastq.gz -o SRR306796_GSM752649_ppy_kd_F_1_R1.fastq.gz\\n',\n",
       " 'curl -L ftp://ftp.sra.ebi.ac.uk/vol1/fastq//SRR306/SRR306797/SRR306797.fastq.gz -o SRR306797_GSM752650_ppy_kd_M_1_R1.fastq.gz\\n',\n",
       " 'curl -L ftp://ftp.sra.ebi.ac.uk/vol1/fastq//SRR306/SRR306798/SRR306798.fastq.gz -o SRR306798_GSM752651_ppy_lv_F_1_R1.fastq.gz\\n',\n",
       " 'curl -L ftp://ftp.sra.ebi.ac.uk/vol1/fastq//SRR306/SRR306799/SRR306799.fastq.gz -o SRR306799_GSM752652_ppy_lv_M_1_R1.fastq.gz\\n',\n",
       " 'curl -L ftp://ftp.sra.ebi.ac.uk/vol1/fastq//SRR306/SRR306800/SRR306800.fastq.gz -o SRR306800_GSM752653_ggo_br_F_1_R1.fastq.gz\\n',\n",
       " 'curl -L ftp://ftp.sra.ebi.ac.uk/vol1/fastq//SRR306/SRR306801/SRR306801_1.fastq.gz -o SRR306801_GSM752654_ggo_br_M_1_R1.fastq.gz\\n',\n",
       " 'curl -L ftp://ftp.sra.ebi.ac.uk/vol1/fastq//SRR306/SRR306801/SRR306801_2.fastq.gz -o SRR306801_GSM752654_ggo_br_M_1_R2.fastq.gz\\n',\n",
       " 'curl -L ftp://ftp.sra.ebi.ac.uk/vol1/fastq//SRR306/SRR306802/SRR306802.fastq.gz -o SRR306802_GSM752655_ggo_cb_F_1_R1.fastq.gz\\n',\n",
       " 'curl -L ftp://ftp.sra.ebi.ac.uk/vol1/fastq//SRR306/SRR306803/SRR306803.fastq.gz -o SRR306803_GSM752656_ggo_cb_M_1_R1.fastq.gz\\n',\n",
       " 'curl -L ftp://ftp.sra.ebi.ac.uk/vol1/fastq//SRR306/SRR306804/SRR306804.fastq.gz -o SRR306804_GSM752657_ggo_ht_F_1_R1.fastq.gz\\n',\n",
       " 'curl -L ftp://ftp.sra.ebi.ac.uk/vol1/fastq//SRR306/SRR306805/SRR306805.fastq.gz -o SRR306805_GSM752658_ggo_ht_M_1_R1.fastq.gz\\n',\n",
       " 'curl -L ftp://ftp.sra.ebi.ac.uk/vol1/fastq//SRR306/SRR306806/SRR306806.fastq.gz -o SRR306806_GSM752659_ggo_kd_F_1_R1.fastq.gz\\n',\n",
       " 'curl -L ftp://ftp.sra.ebi.ac.uk/vol1/fastq//SRR306/SRR306808/SRR306808.fastq.gz -o SRR306808_GSM752661_ggo_lv_F_1_R1.fastq.gz\\n',\n",
       " 'curl -L ftp://ftp.sra.ebi.ac.uk/vol1/fastq//SRR306/SRR306809/SRR306809.fastq.gz -o SRR306809_GSM752662_ggo_lv_M_1_R1.fastq.gz\\n',\n",
       " 'curl -L ftp://ftp.sra.ebi.ac.uk/vol1/fastq//SRR306/SRR306810/SRR306810.fastq.gz -o SRR306810_GSM752663_ggo_ts_M_1_R1.fastq.gz\\n',\n",
       " 'curl -L ftp://ftp.sra.ebi.ac.uk/vol1/fastq//SRR306/SRR306811/SRR306811.fastq.gz -o SRR306811_GSM752664_ptr_br_F_1_R1.fastq.gz\\n',\n",
       " 'curl -L ftp://ftp.sra.ebi.ac.uk/vol1/fastq//SRR306/SRR306812/SRR306812_1.fastq.gz -o SRR306812_GSM752665_ptr_br_M_1_R1.fastq.gz\\n',\n",
       " 'curl -L ftp://ftp.sra.ebi.ac.uk/vol1/fastq//SRR306/SRR306812/SRR306812_2.fastq.gz -o SRR306812_GSM752665_ptr_br_M_1_R2.fastq.gz\\n',\n",
       " 'curl -L ftp://ftp.sra.ebi.ac.uk/vol1/fastq//SRR306/SRR306813/SRR306813_1.fastq.gz -o SRR306813_GSM752666_ptr_br_M_2_R1.fastq.gz\\n',\n",
       " 'curl -L ftp://ftp.sra.ebi.ac.uk/vol1/fastq//SRR306/SRR306813/SRR306813_2.fastq.gz -o SRR306813_GSM752666_ptr_br_M_2_R2.fastq.gz\\n',\n",
       " 'curl -L ftp://ftp.sra.ebi.ac.uk/vol1/fastq//SRR306/SRR306814/SRR306814_1.fastq.gz -o SRR306814_GSM752667_ptr_br_M_3_R1.fastq.gz\\n',\n",
       " 'curl -L ftp://ftp.sra.ebi.ac.uk/vol1/fastq//SRR306/SRR306814/SRR306814_2.fastq.gz -o SRR306814_GSM752667_ptr_br_M_3_R2.fastq.gz\\n',\n",
       " 'curl -L ftp://ftp.sra.ebi.ac.uk/vol1/fastq//SRR306/SRR306815/SRR306815_1.fastq.gz -o SRR306815_GSM752668_ptr_br_M_4_R1.fastq.gz\\n',\n",
       " 'curl -L ftp://ftp.sra.ebi.ac.uk/vol1/fastq//SRR306/SRR306815/SRR306815_2.fastq.gz -o SRR306815_GSM752668_ptr_br_M_4_R2.fastq.gz\\n',\n",
       " 'curl -L ftp://ftp.sra.ebi.ac.uk/vol1/fastq//SRR306/SRR306816/SRR306816_1.fastq.gz -o SRR306816_GSM752669_ptr_br_M_5_R1.fastq.gz\\n',\n",
       " 'curl -L ftp://ftp.sra.ebi.ac.uk/vol1/fastq//SRR306/SRR306816/SRR306816_2.fastq.gz -o SRR306816_GSM752669_ptr_br_M_5_R2.fastq.gz\\n',\n",
       " 'curl -L ftp://ftp.sra.ebi.ac.uk/vol1/fastq//SRR306/SRR306817/SRR306817.fastq.gz -o SRR306817_GSM752670_ptr_cb_F_1_R1.fastq.gz\\n',\n",
       " 'curl -L ftp://ftp.sra.ebi.ac.uk/vol1/fastq//SRR306/SRR306818/SRR306818.fastq.gz -o SRR306818_GSM752671_ptr_cb_M_1_R1.fastq.gz\\n',\n",
       " 'curl -L ftp://ftp.sra.ebi.ac.uk/vol1/fastq//SRR306/SRR306819/SRR306819.fastq.gz -o SRR306819_GSM752672_ptr_ht_F_1_R1.fastq.gz\\n',\n",
       " 'curl -L ftp://ftp.sra.ebi.ac.uk/vol1/fastq//SRR306/SRR306820/SRR306820.fastq.gz -o SRR306820_GSM752673_ptr_ht_M_1_R1.fastq.gz\\n',\n",
       " 'curl -L ftp://ftp.sra.ebi.ac.uk/vol1/fastq//SRR306/SRR306821/SRR306821.fastq.gz -o SRR306821_GSM752674_ptr_kd_F_1_R1.fastq.gz\\n',\n",
       " 'curl -L ftp://ftp.sra.ebi.ac.uk/vol1/fastq//SRR306/SRR306822/SRR306822.fastq.gz -o SRR306822_GSM752675_ptr_kd_M_1_R1.fastq.gz\\n',\n",
       " 'curl -L ftp://ftp.sra.ebi.ac.uk/vol1/fastq//SRR306/SRR306823/SRR306823.fastq.gz -o SRR306823_GSM752676_ptr_lv_F_1_R1.fastq.gz\\n',\n",
       " 'curl -L ftp://ftp.sra.ebi.ac.uk/vol1/fastq//SRR306/SRR306824/SRR306824.fastq.gz -o SRR306824_GSM752677_ptr_lv_M_1_R1.fastq.gz\\n',\n",
       " 'curl -L ftp://ftp.sra.ebi.ac.uk/vol1/fastq//SRR306/SRR306825/SRR306825.fastq.gz -o SRR306825_GSM752678_ptr_ts_M_1_R1.fastq.gz\\n',\n",
       " 'curl -L ftp://ftp.sra.ebi.ac.uk/vol1/fastq//SRR306/SRR306826/SRR306826_1.fastq.gz -o SRR306826_GSM752679_ppa_br_F_1_R1.fastq.gz\\n',\n",
       " 'curl -L ftp://ftp.sra.ebi.ac.uk/vol1/fastq//SRR306/SRR306826/SRR306826_2.fastq.gz -o SRR306826_GSM752679_ppa_br_F_1_R2.fastq.gz\\n',\n",
       " 'curl -L ftp://ftp.sra.ebi.ac.uk/vol1/fastq//SRR306/SRR306827/SRR306827.fastq.gz -o SRR306827_GSM752680_ppa_br_F_2_R1.fastq.gz\\n',\n",
       " 'curl -L ftp://ftp.sra.ebi.ac.uk/vol1/fastq//SRR306/SRR306828/SRR306828.fastq.gz -o SRR306828_GSM752681_ppa_br_M_1_R1.fastq.gz\\n',\n",
       " 'curl -L ftp://ftp.sra.ebi.ac.uk/vol1/fastq//SRR306/SRR306829/SRR306829.fastq.gz -o SRR306829_GSM752682_ppa_cb_F_1_R1.fastq.gz\\n',\n",
       " 'curl -L ftp://ftp.sra.ebi.ac.uk/vol1/fastq//SRR306/SRR306830/SRR306830.fastq.gz -o SRR306830_GSM752683_ppa_cb_M_1_R1.fastq.gz\\n',\n",
       " 'curl -L ftp://ftp.sra.ebi.ac.uk/vol1/fastq//SRR306/SRR306831/SRR306831.fastq.gz -o SRR306831_GSM752684_ppa_ht_F_1_R1.fastq.gz\\n',\n",
       " 'curl -L ftp://ftp.sra.ebi.ac.uk/vol1/fastq//SRR306/SRR306832/SRR306832.fastq.gz -o SRR306832_GSM752685_ppa_ht_M_1_R1.fastq.gz\\n',\n",
       " 'curl -L ftp://ftp.sra.ebi.ac.uk/vol1/fastq//SRR306/SRR306833/SRR306833.fastq.gz -o SRR306833_GSM752686_ppa_kd_F_1_R1.fastq.gz\\n',\n",
       " 'curl -L ftp://ftp.sra.ebi.ac.uk/vol1/fastq//SRR306/SRR306834/SRR306834.fastq.gz -o SRR306834_GSM752687_ppa_kd_M_1_R1.fastq.gz\\n',\n",
       " 'curl -L ftp://ftp.sra.ebi.ac.uk/vol1/fastq//SRR306/SRR306835/SRR306835.fastq.gz -o SRR306835_GSM752688_ppa_lv_F_1_R1.fastq.gz\\n',\n",
       " 'curl -L ftp://ftp.sra.ebi.ac.uk/vol1/fastq//SRR306/SRR306836/SRR306836.fastq.gz -o SRR306836_GSM752689_ppa_lv_M_1_R1.fastq.gz\\n',\n",
       " 'curl -L ftp://ftp.sra.ebi.ac.uk/vol1/fastq//SRR306/SRR306837/SRR306837.fastq.gz -o SRR306837_GSM752690_ppa_ts_M_1_R1.fastq.gz\\n',\n",
       " 'curl -L ftp://ftp.sra.ebi.ac.uk/vol1/fastq//SRR306/SRR306838/SRR306838.fastq.gz -o SRR306838_GSM752691_hsa_br_F_1_R1.fastq.gz\\n',\n",
       " 'curl -L ftp://ftp.sra.ebi.ac.uk/vol1/fastq//SRR306/SRR306839/SRR306839.fastq.gz -o SRR306839_GSM752692_hsa_br_M_3_R1.fastq.gz\\n',\n",
       " 'curl -L ftp://ftp.sra.ebi.ac.uk/vol1/fastq//SRR306/SRR306840/SRR306840_1.fastq.gz -o SRR306840_GSM752693_hsa_br_M_1_R1.fastq.gz\\n',\n",
       " 'curl -L ftp://ftp.sra.ebi.ac.uk/vol1/fastq//SRR306/SRR306840/SRR306840_2.fastq.gz -o SRR306840_GSM752693_hsa_br_M_1_R2.fastq.gz\\n',\n",
       " 'curl -L ftp://ftp.sra.ebi.ac.uk/vol1/fastq//SRR306/SRR306841/SRR306841.fastq.gz -o SRR306841_GSM752694_hsa_br_M_2_R1.fastq.gz\\n',\n",
       " 'curl -L ftp://ftp.sra.ebi.ac.uk/vol1/fastq//SRR306/SRR306842/SRR306842_1.fastq.gz -o SRR306842_GSM752695_hsa_br_M_4_R1.fastq.gz\\n',\n",
       " 'curl -L ftp://ftp.sra.ebi.ac.uk/vol1/fastq//SRR306/SRR306842/SRR306842_2.fastq.gz -o SRR306842_GSM752695_hsa_br_M_4_R2.fastq.gz\\n',\n",
       " 'curl -L ftp://ftp.sra.ebi.ac.uk/vol1/fastq//SRR306/SRR306843/SRR306843.fastq.gz -o SRR306843_GSM752696_hsa_br_M_5_R1.fastq.gz\\n',\n",
       " 'curl -L ftp://ftp.sra.ebi.ac.uk/vol1/fastq//SRR306/SRR306844/SRR306844.fastq.gz -o SRR306844_GSM752697_hsa_cb_F_1_R1.fastq.gz\\n',\n",
       " 'curl -L ftp://ftp.sra.ebi.ac.uk/vol1/fastq//SRR306/SRR306845/SRR306845.fastq.gz -o SRR306845_GSM752698_hsa_cb_M_1_R1.fastq.gz\\n',\n",
       " 'curl -L ftp://ftp.sra.ebi.ac.uk/vol1/fastq//SRR306/SRR306846/SRR306846.fastq.gz -o SRR306846_GSM752698_hsa_cb_M_1_R1.fastq.gz\\n',\n",
       " 'curl -L ftp://ftp.sra.ebi.ac.uk/vol1/fastq//SRR306/SRR306847/SRR306847.fastq.gz -o SRR306847_GSM752699_hsa_ht_F_1_R1.fastq.gz\\n',\n",
       " 'curl -L ftp://ftp.sra.ebi.ac.uk/vol1/fastq//SRR306/SRR306848/SRR306848.fastq.gz -o SRR306848_GSM752700_hsa_ht_M_1_R1.fastq.gz\\n',\n",
       " 'curl -L ftp://ftp.sra.ebi.ac.uk/vol1/fastq//SRR306/SRR306849/SRR306849.fastq.gz -o SRR306849_GSM752700_hsa_ht_M_1_R1.fastq.gz\\n',\n",
       " 'curl -L ftp://ftp.sra.ebi.ac.uk/vol1/fastq//SRR306/SRR306850/SRR306850.fastq.gz -o SRR306850_GSM752701_hsa_ht_M_2_R1.fastq.gz\\n',\n",
       " 'curl -L ftp://ftp.sra.ebi.ac.uk/vol1/fastq//SRR306/SRR306851/SRR306851.fastq.gz -o SRR306851_GSM752702_hsa_kd_F_1_R1.fastq.gz\\n',\n",
       " 'curl -L ftp://ftp.sra.ebi.ac.uk/vol1/fastq//SRR306/SRR306852/SRR306852.fastq.gz -o SRR306852_GSM752703_hsa_kd_M_1_R1.fastq.gz\\n',\n",
       " 'curl -L ftp://ftp.sra.ebi.ac.uk/vol1/fastq//SRR306/SRR306853/SRR306853.fastq.gz -o SRR306853_GSM752704_hsa_kd_M_2_R1.fastq.gz\\n',\n",
       " 'curl -L ftp://ftp.sra.ebi.ac.uk/vol1/fastq//SRR306/SRR306854/SRR306854.fastq.gz -o SRR306854_GSM752705_hsa_lv_M_1_R1.fastq.gz\\n',\n",
       " 'curl -L ftp://ftp.sra.ebi.ac.uk/vol1/fastq//SRR306/SRR306855/SRR306855.fastq.gz -o SRR306855_GSM752705_hsa_lv_M_1_R1.fastq.gz\\n',\n",
       " 'curl -L ftp://ftp.sra.ebi.ac.uk/vol1/fastq//SRR306/SRR306856/SRR306856.fastq.gz -o SRR306856_GSM752706_hsa_lv_M_2_R1.fastq.gz\\n',\n",
       " 'curl -L ftp://ftp.sra.ebi.ac.uk/vol1/fastq//SRR306/SRR306857/SRR306857.fastq.gz -o SRR306857_GSM752707_hsa_ts_M_1_R1.fastq.gz\\n',\n",
       " 'curl -L ftp://ftp.sra.ebi.ac.uk/vol1/fastq//SRR306/SRR306858/SRR306858.fastq.gz -o SRR306858_GSM752708_hsa_ts_M_2_R1.fastq.gz\\n',\n",
       " 'curl -L ftp://ftp.sra.ebi.ac.uk/vol1/fastq//SRR306/SRR306807/SRR306807.fastq.gz -o SRR306807_GSM752660_ggo_kd_M_1_R1.fastq.gz\\n',\n",
       " 'curl -L ftp://ftp.sra.ebi.ac.uk/vol1/fastq//SRR306/SRR306740/SRR306740.fastq.gz -o SRR306740_GSM752585_oan_ts_M_2_R1.fastq.gz\\n']"
      ]
     },
     "execution_count": 39,
     "metadata": {},
     "output_type": "execute_result"
    }
   ],
   "source": [
    "def srr_to_url(srr_run, is_paired, url_base='ftp://ftp.sra.ebi.ac.uk/vol1/fastq/'):\n",
    "    suffix = f'{srr_run[:6]}/{srr_run}'\n",
    "    if is_paired:\n",
    "        read1 = f\"{url_base}/{suffix}/{srr_run}_1.fastq.gz\"\n",
    "        read2 = f\"{url_base}/{suffix}/{srr_run}_2.fastq.gz\"\n",
    "        reads = (read1, read2)\n",
    "    else:\n",
    "        read1 = f\"{url_base}/{suffix}/{srr_run}.fastq.gz\"\n",
    "        reads = (read1,)\n",
    "    return reads\n",
    "\n",
    "def get_curl_commands(row):\n",
    "    template = 'curl -L {url} -o {destination}\\n'\n",
    "    is_paired = row['LibraryLayout'] == 'PAIRED'\n",
    "    \n",
    "    read_urls = srr_to_url(row['Run'], is_paired)\n",
    "    commands = []\n",
    "    for i, url in enumerate(read_urls):\n",
    "        destination = row['Run'] + '_' + row['sanitized_name'] + f\"_R{i+1}.fastq.gz\"\n",
    "        commands.append(template.format(url=url, destination=destination))\n",
    "    return commands\n",
    "\n",
    "commands = list(itertools.chain(*sra_run_table.apply(get_curl_commands, axis=1).values))\n",
    "commands"
   ]
  },
  {
   "cell_type": "code",
   "execution_count": 40,
   "metadata": {
    "execution_event_id": "f3ff3194-a4a0-43d1-b98f-2d9d62d8d197",
    "last_executed_text": "folder = '/home/olga/code/kmer-hashing/kh-workflows/sra-explorer'\nsh = f\"{folder}/brawand2011_manual.sh\"",
    "persistent_id": "a6c1e9fb-1c23-4cb8-ad86-5d4382acc985"
   },
   "outputs": [],
   "source": [
    "folder = '/home/olga/code/kmer-hashing/kh-workflows/sra-explorer'\n",
    "sh = f\"{folder}/brawand2011_manual.sh\""
   ]
  },
  {
   "cell_type": "code",
   "execution_count": 41,
   "metadata": {
    "execution_event_id": "6d94474c-2404-4bc7-b31b-2d8aa1e2bd72",
    "last_executed_text": "with open(sh, 'w') as f:\n    f.writelines(commands)\n! head $sh",
    "persistent_id": "1ec86349-f5c0-4c53-a82a-37d10e756a1d"
   },
   "outputs": [
    {
     "name": "stdout",
     "output_type": "stream",
     "text": [
      "curl -L ftp://ftp.sra.ebi.ac.uk/vol1/fastq//SRR306/SRR306710/SRR306710.fastq.gz -o SRR306710_GSM752557_gga_br_F_1_R1.fastq.gz\n",
      "curl -L ftp://ftp.sra.ebi.ac.uk/vol1/fastq//SRR306/SRR306711/SRR306711.fastq.gz -o SRR306711_GSM752558_gga_br_M_1_R1.fastq.gz\n",
      "curl -L ftp://ftp.sra.ebi.ac.uk/vol1/fastq//SRR306/SRR306712/SRR306712.fastq.gz -o SRR306712_GSM752559_gga_cb_F_1_R1.fastq.gz\n",
      "curl -L ftp://ftp.sra.ebi.ac.uk/vol1/fastq//SRR306/SRR306713/SRR306713.fastq.gz -o SRR306713_GSM752560_gga_cb_M_1_R1.fastq.gz\n",
      "curl -L ftp://ftp.sra.ebi.ac.uk/vol1/fastq//SRR306/SRR306714/SRR306714.fastq.gz -o SRR306714_GSM752561_gga_ht_F_1_R1.fastq.gz\n",
      "curl -L ftp://ftp.sra.ebi.ac.uk/vol1/fastq//SRR306/SRR306715/SRR306715.fastq.gz -o SRR306715_GSM752562_gga_ht_M_1_R1.fastq.gz\n",
      "curl -L ftp://ftp.sra.ebi.ac.uk/vol1/fastq//SRR306/SRR306716/SRR306716.fastq.gz -o SRR306716_GSM752563_gga_kd_F_1_R1.fastq.gz\n",
      "curl -L ftp://ftp.sra.ebi.ac.uk/vol1/fastq//SRR306/SRR306717/SRR306717.fastq.gz -o SRR306717_GSM752564_gga_kd_M_1_R1.fastq.gz\n",
      "curl -L ftp://ftp.sra.ebi.ac.uk/vol1/fastq//SRR306/SRR306718/SRR306718.fastq.gz -o SRR306718_GSM752565_gga_lv_F_1_R1.fastq.gz\n",
      "curl -L ftp://ftp.sra.ebi.ac.uk/vol1/fastq//SRR306/SRR306719/SRR306719.fastq.gz -o SRR306719_GSM752566_gga_lv_M_1_R1.fastq.gz\n"
     ]
    }
   ],
   "source": [
    "with open(sh, 'w') as f:\n",
    "    f.writelines(commands)\n",
    "! head $sh"
   ]
  },
  {
   "cell_type": "markdown",
   "metadata": {
    "persistent_id": "9ffd936d-cd52-41e9-b354-712bbfb08a4c"
   },
   "source": [
    "## Download the data with parallel curl commands"
   ]
  },
  {
   "cell_type": "code",
   "execution_count": 42,
   "metadata": {
    "execution_event_id": "c1dafad7-bd71-447f-9aac-040d72382b98",
    "last_executed_text": "mkdir ~/data_lg/kmer-hashing/brawand2011/rawdata/",
    "persistent_id": "5f3a2ebd-dcc3-4fef-a303-8cedd8e746f4"
   },
   "outputs": [],
   "source": [
    "mkdir ~/data_lg/kmer-hashing/brawand2011/rawdata/"
   ]
  },
  {
   "cell_type": "code",
   "execution_count": 43,
   "metadata": {
    "execution_event_id": "5c664ea3-be71-4137-9dcf-21e3dfa39c79",
    "last_executed_text": "cd ~/data_lg/kmer-hashing/brawand2011/rawdata/",
    "persistent_id": "01cda5ae-c3b3-495c-88e5-25bc9fd39fc2"
   },
   "outputs": [
    {
     "name": "stdout",
     "output_type": "stream",
     "text": [
      "/mnt/ibm_lg/olga/kmer-hashing/brawand2011/rawdata\n"
     ]
    }
   ],
   "source": [
    "cd ~/data_lg/kmer-hashing/brawand2011/rawdata/"
   ]
  },
  {
   "cell_type": "code",
   "execution_count": null,
   "metadata": {
    "persistent_id": "d25564cf-3f52-4991-859f-f7eb1d2c8d9c"
   },
   "outputs": [
    {
     "name": "stdout",
     "output_type": "stream",
     "text": [
      "Academic tradition requires you to cite works you base your article on.\n",
      "When using programs that use GNU Parallel to process data for publication\n",
      "please cite:\n",
      "\n",
      "  O. Tange (2011): GNU Parallel - The Command-Line Power Tool,\n",
      "  ;login: The USENIX Magazine, February 2011:42-47.\n",
      "\n",
      "This helps funding further development; AND IT WON'T COST YOU A CENT.\n",
      "If you pay 10000 EUR you should feel free to use GNU Parallel without citing.\n",
      "\n",
      "To silence this citation notice: run 'parallel --citation'.\n",
      "\n",
      "  % Total    % Received % Xferd  Average Speed   Time    Time     Time  Current\n",
      "                                 Dload  Upload   Total   Spent    Left  Speed\n",
      "100  679M  100  679M    0     0   297k      0  0:39:00  0:39:00 --:--:--  416k\n",
      "  % Total    % Received % Xferd  Average Speed   Time    Time     Time  Current\n",
      "                                 Dload  Upload   Total   Spent    Left  Speed\n",
      "100  709M  100  709M    0     0   294k      0  0:41:06  0:41:06 --:--:--  416k\n",
      "  % Total    % Received % Xferd  Average Speed   Time    Time     Time  Current\n",
      "                                 Dload  Upload   Total   Spent    Left  Speed\n",
      "100  679M  100  679M    0     0   268k      0  0:43:08  0:43:08 --:--:--  293k\n",
      "  % Total    % Received % Xferd  Average Speed   Time    Time     Time  Current\n",
      "                                 Dload  Upload   Total   Spent    Left  Speed\n",
      "100  877M  100  877M    0     0   279k      0  0:53:31  0:53:31 --:--:--  225k74M    0     0   276k      0  0:54:16  0:29:21  0:24:55  367k\n",
      "  % Total    % Received % Xferd  Average Speed   Time    Time     Time  Current\n",
      "                                 Dload  Upload   Total   Spent    Left  Speed\n",
      "100  921M  100  921M    0     0   285k      0  0:55:07  0:55:07 --:--:--  728k\n",
      "  % Total    % Received % Xferd  Average Speed   Time    Time     Time  Current\n",
      "                                 Dload  Upload   Total   Spent    Left  Speed\n",
      "100  968M  100  968M    0     0   273k      0  1:00:23  1:00:23 --:--:--  662k\n",
      "  % Total    % Received % Xferd  Average Speed   Time    Time     Time  Current\n",
      "                                 Dload  Upload   Total   Spent    Left  Speed\n",
      "100 1111M  100 1111M    0     0   269k      0  1:10:25  1:10:25 --:--:--  195k\n",
      "  % Total    % Received % Xferd  Average Speed   Time    Time     Time  Current\n",
      "                                 Dload  Upload   Total   Spent    Left  Speed\n",
      "100 1284M  100 1284M    0     0   275k      0  1:19:32  1:19:32 --:--:--  204k    0  1:18:17  0:52:40  0:25:37  251k\n",
      "  % Total    % Received % Xferd  Average Speed   Time    Time     Time  Current\n",
      "                                 Dload  Upload   Total   Spent    Left  Speed\n",
      "100 1344M  100 1344M    0     0   277k      0  1:22:38  1:22:38 --:--:--  142kk      0  1:18:57  0:35:49  0:43:08  323k\n",
      "  % Total    % Received % Xferd  Average Speed   Time    Time     Time  Current\n",
      "                                 Dload  Upload   Total   Spent    Left  Speed\n",
      "100 1308M  100 1308M    0     0   269k      0  1:22:56  1:22:56 --:--:--  215k  0     0   136k      0  2:44:06  0:00:22  2:43:44  219k1:14:16  0:06:59  130k\n",
      "  % Total    % Received % Xferd  Average Speed   Time    Time     Time  Current\n",
      "                                 Dload  Upload   Total   Spent    Left  Speed\n",
      "100 1335M  100 1335M    0     0   269k      0  1:24:37  1:24:37 --:--:--  161k51  148k\n",
      "  % Total    % Received % Xferd  Average Speed   Time    Time     Time  Current\n",
      "                                 Dload  Upload   Total   Spent    Left  Speed\n",
      "100 1383M  100 1383M    0     0   268k      0  1:27:59  1:27:59 --:--:--  113k   0   272k      0  1:26:44  1:08:11  0:18:33  290k\n",
      "  % Total    % Received % Xferd  Average Speed   Time    Time     Time  Current\n",
      "                                 Dload  Upload   Total   Spent    Left  Speed\n",
      "100 1456M  100 1456M    0     0   270k      0  1:31:52  1:31:52 --:--:--  222k\n",
      "  % Total    % Received % Xferd  Average Speed   Time    Time     Time  Current\n",
      "                                 Dload  Upload   Total   Spent    Left  Speed\n",
      "100 1474M  100 1474M    0     0   272k      0  1:32:23  1:32:23 --:--:--  246k  0:49:10  0:37:28  356k\n",
      "  % Total    % Received % Xferd  Average Speed   Time    Time     Time  Current\n",
      "                                 Dload  Upload   Total   Spent    Left  Speed\n",
      "100 1538M  100 1538M    0     0   274k      0  1:35:31  1:35:31 --:--:--  281k538M   59  921M    0     0   291k      0  1:30:04  0:53:57  0:36:07  355k\n",
      "  % Total    % Received % Xferd  Average Speed   Time    Time     Time  Current\n",
      "                                 Dload  Upload   Total   Spent    Left  Speed\n",
      "100 1531M  100 1531M    0     0   272k      0  1:35:54  1:35:54 --:--:--  202k284k      0  1:31:49  0:18:58  1:12:51  135k6k\n",
      "  % Total    % Received % Xferd  Average Speed   Time    Time     Time  Current\n",
      "                                 Dload  Upload   Total   Spent    Left  Speed\n",
      "100 1592M  100 1592M    0     0   275k      0  1:38:34  1:38:34 --:--:--  313k 135k0:00:57  432k\n",
      "  % Total    % Received % Xferd  Average Speed   Time    Time     Time  Current\n",
      "                                 Dload  Upload   Total   Spent    Left  Speed\n",
      "100 1643M  100 1643M    0     0   270k      0  1:43:52  1:43:52 --:--:--  206k      0  1:34:07  0:34:30  0:59:37  233k  0     0   275k      0  1:42:00  1:28:06  0:13:54  248k\n"
     ]
    }
   ],
   "source": [
    "! parallel --jobs 32 < $sh"
   ]
  },
  {
   "cell_type": "code",
   "execution_count": null,
   "metadata": {},
   "outputs": [],
   "source": []
  }
 ],
 "metadata": {
  "history": [
   {
    "cell": {
     "executionCount": 1,
     "executionEventId": "81fc6f9c-036c-4f18-9445-fe5314972bdf",
     "hasError": false,
     "id": "56c2cb05-dc27-40b1-ba7f-48715309999b",
     "outputs": [
      {
       "name": "stdout",
       "output_type": "stream",
       "text": "(149, 32)\n"
      },
      {
       "data": {
        "text/html": "<div>\n<style scoped>\n    .dataframe tbody tr th:only-of-type {\n        vertical-align: middle;\n    }\n\n    .dataframe tbody tr th {\n        vertical-align: top;\n    }\n\n    .dataframe thead th {\n        text-align: right;\n    }\n</style>\n<table border=\"1\" class=\"dataframe\">\n  <thead>\n    <tr style=\"text-align: right;\">\n      <th></th>\n      <th>Run</th>\n      <th>Assay Type</th>\n      <th>AvgSpotLen</th>\n      <th>BioProject</th>\n      <th>BioSample</th>\n      <th>Center Name</th>\n      <th>Consent</th>\n      <th>DATASTORE filetype</th>\n      <th>DATASTORE provider</th>\n      <th>DATASTORE region</th>\n      <th>...</th>\n      <th>sample_acc</th>\n      <th>Sample Name</th>\n      <th>source_name</th>\n      <th>SRA Study</th>\n      <th>tissue_source</th>\n      <th>gender</th>\n      <th>rin</th>\n      <th>Age</th>\n      <th>Extraction</th>\n      <th>sex</th>\n    </tr>\n  </thead>\n  <tbody>\n    <tr>\n      <th>0</th>\n      <td>SRR306710</td>\n      <td>RNA-Seq</td>\n      <td>76</td>\n      <td>PRJNA143627</td>\n      <td>SAMN00632119</td>\n      <td>GEO</td>\n      <td>public</td>\n      <td>sra</td>\n      <td>gs,ncbi,s3</td>\n      <td>gs.US,ncbi.public,s3.us-east-1</td>\n      <td>...</td>\n      <td>SRS213961</td>\n      <td>GSM752557</td>\n      <td>Brain</td>\n      <td>SRP007412</td>\n      <td>Facility of Linkoping University, Sweden</td>\n      <td>female</td>\n      <td>9.4</td>\n      <td>~1 year\\, adult</td>\n      <td>Rneasy Lipid</td>\n      <td>NaN</td>\n    </tr>\n    <tr>\n      <th>1</th>\n      <td>SRR306711</td>\n      <td>RNA-Seq</td>\n      <td>76</td>\n      <td>PRJNA143627</td>\n      <td>SAMN00632120</td>\n      <td>GEO</td>\n      <td>public</td>\n      <td>sra</td>\n      <td>gs,ncbi,s3</td>\n      <td>gs.US,ncbi.public,s3.us-east-1</td>\n      <td>...</td>\n      <td>SRS213962</td>\n      <td>GSM752558</td>\n      <td>Brain</td>\n      <td>SRP007412</td>\n      <td>Facility of Linkoping University, Sweden</td>\n      <td>male</td>\n      <td>9.1</td>\n      <td>~1 year\\, adult</td>\n      <td>Standard</td>\n      <td>NaN</td>\n    </tr>\n    <tr>\n      <th>2</th>\n      <td>SRR306712</td>\n      <td>RNA-Seq</td>\n      <td>76</td>\n      <td>PRJNA143627</td>\n      <td>SAMN00632121</td>\n      <td>GEO</td>\n      <td>public</td>\n      <td>sra</td>\n      <td>gs,ncbi,s3</td>\n      <td>gs.US,ncbi.public,s3.us-east-1</td>\n      <td>...</td>\n      <td>SRS213963</td>\n      <td>GSM752559</td>\n      <td>Cerebellum</td>\n      <td>SRP007412</td>\n      <td>Facility of Linkoping University, Sweden</td>\n      <td>female</td>\n      <td>9.6</td>\n      <td>~1 year\\, adult</td>\n      <td>Standard</td>\n      <td>NaN</td>\n    </tr>\n    <tr>\n      <th>3</th>\n      <td>SRR306713</td>\n      <td>RNA-Seq</td>\n      <td>76</td>\n      <td>PRJNA143627</td>\n      <td>SAMN00632122</td>\n      <td>GEO</td>\n      <td>public</td>\n      <td>sra</td>\n      <td>gs,ncbi,s3</td>\n      <td>gs.US,ncbi.public,s3.us-east-1</td>\n      <td>...</td>\n      <td>SRS213964</td>\n      <td>GSM752560</td>\n      <td>Cerebellum</td>\n      <td>SRP007412</td>\n      <td>Facility of Linkoping University, Sweden</td>\n      <td>male</td>\n      <td>9.2</td>\n      <td>~1 year\\, adult</td>\n      <td>Rneasy Lipid</td>\n      <td>NaN</td>\n    </tr>\n    <tr>\n      <th>4</th>\n      <td>SRR306714</td>\n      <td>RNA-Seq</td>\n      <td>76</td>\n      <td>PRJNA143627</td>\n      <td>SAMN00632123</td>\n      <td>GEO</td>\n      <td>public</td>\n      <td>sra</td>\n      <td>gs,ncbi,s3</td>\n      <td>gs.US,ncbi.public,s3.us-east-1</td>\n      <td>...</td>\n      <td>SRS213965</td>\n      <td>GSM752561</td>\n      <td>Heart</td>\n      <td>SRP007412</td>\n      <td>Facility of Linkoping University, Sweden</td>\n      <td>female</td>\n      <td>9.0</td>\n      <td>~1 year\\, adult</td>\n      <td>Standard</td>\n      <td>NaN</td>\n    </tr>\n  </tbody>\n</table>\n<p>5 rows × 32 columns</p>\n</div>",
        "text/plain": "         Run Assay Type  AvgSpotLen   BioProject     BioSample Center Name  \\\n0  SRR306710    RNA-Seq          76  PRJNA143627  SAMN00632119         GEO   \n1  SRR306711    RNA-Seq          76  PRJNA143627  SAMN00632120         GEO   \n2  SRR306712    RNA-Seq          76  PRJNA143627  SAMN00632121         GEO   \n3  SRR306713    RNA-Seq          76  PRJNA143627  SAMN00632122         GEO   \n4  SRR306714    RNA-Seq          76  PRJNA143627  SAMN00632123         GEO   \n\n  Consent DATASTORE filetype DATASTORE provider  \\\n0  public                sra         gs,ncbi,s3   \n1  public                sra         gs,ncbi,s3   \n2  public                sra         gs,ncbi,s3   \n3  public                sra         gs,ncbi,s3   \n4  public                sra         gs,ncbi,s3   \n\n                 DATASTORE region  ... sample_acc Sample Name source_name  \\\n0  gs.US,ncbi.public,s3.us-east-1  ...  SRS213961   GSM752557       Brain   \n1  gs.US,ncbi.public,s3.us-east-1  ...  SRS213962   GSM752558       Brain   \n2  gs.US,ncbi.public,s3.us-east-1  ...  SRS213963   GSM752559  Cerebellum   \n3  gs.US,ncbi.public,s3.us-east-1  ...  SRS213964   GSM752560  Cerebellum   \n4  gs.US,ncbi.public,s3.us-east-1  ...  SRS213965   GSM752561       Heart   \n\n   SRA Study                             tissue_source  gender  rin  \\\n0  SRP007412  Facility of Linkoping University, Sweden  female  9.4   \n1  SRP007412  Facility of Linkoping University, Sweden    male  9.1   \n2  SRP007412  Facility of Linkoping University, Sweden  female  9.6   \n3  SRP007412  Facility of Linkoping University, Sweden    male  9.2   \n4  SRP007412  Facility of Linkoping University, Sweden  female  9.0   \n\n               Age    Extraction  sex  \n0  ~1 year\\, adult  Rneasy Lipid  NaN  \n1  ~1 year\\, adult      Standard  NaN  \n2  ~1 year\\, adult      Standard  NaN  \n3  ~1 year\\, adult  Rneasy Lipid  NaN  \n4  ~1 year\\, adult      Standard  NaN  \n\n[5 rows x 32 columns]"
       },
       "execution_count": 1,
       "metadata": {},
       "output_type": "execute_result"
      }
     ],
     "persistentId": "1ad7974f-d8a9-4014-acfb-37350e9498e9",
     "text": "import pandas as pd\n\nsra_run_table = pd.read_csv(\"../metadata/brawand2011_sra_run_table.csv\")\nprint(sra_run_table.shape)\nsra_run_table.head()"
    },
    "executionTime": "2019-11-05T15:24:04.872Z"
   },
   {
    "cell": {
     "executionCount": 2,
     "executionEventId": "35cd3e5c-c79b-4f01-a15f-81101bf85a2d",
     "hasError": false,
     "id": "56c2cb05-dc27-40b1-ba7f-48715309999b",
     "outputs": [
      {
       "name": "stdout",
       "output_type": "stream",
       "text": "(149, 32)\n"
      },
      {
       "data": {
        "text/html": "<div>\n<style scoped>\n    .dataframe tbody tr th:only-of-type {\n        vertical-align: middle;\n    }\n\n    .dataframe tbody tr th {\n        vertical-align: top;\n    }\n\n    .dataframe thead th {\n        text-align: right;\n    }\n</style>\n<table border=\"1\" class=\"dataframe\">\n  <thead>\n    <tr style=\"text-align: right;\">\n      <th></th>\n      <th>Run</th>\n      <th>Assay Type</th>\n      <th>AvgSpotLen</th>\n      <th>BioProject</th>\n      <th>BioSample</th>\n      <th>Center Name</th>\n      <th>Consent</th>\n      <th>DATASTORE filetype</th>\n      <th>DATASTORE provider</th>\n      <th>DATASTORE region</th>\n      <th>Experiment</th>\n      <th>GEO_Accession</th>\n      <th>Instrument</th>\n      <th>Library Name</th>\n      <th>LibraryLayout</th>\n      <th>LibrarySelection</th>\n      <th>LibrarySource</th>\n      <th>MBases</th>\n      <th>MBytes</th>\n      <th>Organism</th>\n      <th>Platform</th>\n      <th>ReleaseDate</th>\n      <th>sample_acc</th>\n      <th>Sample Name</th>\n      <th>source_name</th>\n      <th>SRA Study</th>\n      <th>tissue_source</th>\n      <th>gender</th>\n      <th>rin</th>\n      <th>Age</th>\n      <th>Extraction</th>\n      <th>sex</th>\n    </tr>\n  </thead>\n  <tbody>\n    <tr>\n      <th>0</th>\n      <td>SRR306710</td>\n      <td>RNA-Seq</td>\n      <td>76</td>\n      <td>PRJNA143627</td>\n      <td>SAMN00632119</td>\n      <td>GEO</td>\n      <td>public</td>\n      <td>sra</td>\n      <td>gs,ncbi,s3</td>\n      <td>gs.US,ncbi.public,s3.us-east-1</td>\n      <td>SRX081869</td>\n      <td>GSM752557</td>\n      <td>Illumina Genome Analyzer IIx</td>\n      <td>GSM752557: gga br F 1</td>\n      <td>SINGLE</td>\n      <td>cDNA</td>\n      <td>TRANSCRIPTOMIC</td>\n      <td>1480</td>\n      <td>1134</td>\n      <td>Gallus gallus</td>\n      <td>ILLUMINA</td>\n      <td>2011-10-14T00:00:00Z</td>\n      <td>SRS213961</td>\n      <td>GSM752557</td>\n      <td>Brain</td>\n      <td>SRP007412</td>\n      <td>Facility of Linkoping University, Sweden</td>\n      <td>female</td>\n      <td>9.4</td>\n      <td>~1 year\\, adult</td>\n      <td>Rneasy Lipid</td>\n      <td>NaN</td>\n    </tr>\n    <tr>\n      <th>1</th>\n      <td>SRR306711</td>\n      <td>RNA-Seq</td>\n      <td>76</td>\n      <td>PRJNA143627</td>\n      <td>SAMN00632120</td>\n      <td>GEO</td>\n      <td>public</td>\n      <td>sra</td>\n      <td>gs,ncbi,s3</td>\n      <td>gs.US,ncbi.public,s3.us-east-1</td>\n      <td>SRX081870</td>\n      <td>GSM752558</td>\n      <td>Illumina Genome Analyzer IIx</td>\n      <td>GSM752558: gga br M 1</td>\n      <td>SINGLE</td>\n      <td>cDNA</td>\n      <td>TRANSCRIPTOMIC</td>\n      <td>1334</td>\n      <td>990</td>\n      <td>Gallus gallus</td>\n      <td>ILLUMINA</td>\n      <td>2011-10-14T00:00:00Z</td>\n      <td>SRS213962</td>\n      <td>GSM752558</td>\n      <td>Brain</td>\n      <td>SRP007412</td>\n      <td>Facility of Linkoping University, Sweden</td>\n      <td>male</td>\n      <td>9.1</td>\n      <td>~1 year\\, adult</td>\n      <td>Standard</td>\n      <td>NaN</td>\n    </tr>\n    <tr>\n      <th>2</th>\n      <td>SRR306712</td>\n      <td>RNA-Seq</td>\n      <td>76</td>\n      <td>PRJNA143627</td>\n      <td>SAMN00632121</td>\n      <td>GEO</td>\n      <td>public</td>\n      <td>sra</td>\n      <td>gs,ncbi,s3</td>\n      <td>gs.US,ncbi.public,s3.us-east-1</td>\n      <td>SRX081871</td>\n      <td>GSM752559</td>\n      <td>Illumina Genome Analyzer IIx</td>\n      <td>GSM752559: gga cb F 1</td>\n      <td>SINGLE</td>\n      <td>cDNA</td>\n      <td>TRANSCRIPTOMIC</td>\n      <td>1795</td>\n      <td>1339</td>\n      <td>Gallus gallus</td>\n      <td>ILLUMINA</td>\n      <td>2011-10-14T00:00:00Z</td>\n      <td>SRS213963</td>\n      <td>GSM752559</td>\n      <td>Cerebellum</td>\n      <td>SRP007412</td>\n      <td>Facility of Linkoping University, Sweden</td>\n      <td>female</td>\n      <td>9.6</td>\n      <td>~1 year\\, adult</td>\n      <td>Standard</td>\n      <td>NaN</td>\n    </tr>\n    <tr>\n      <th>3</th>\n      <td>SRR306713</td>\n      <td>RNA-Seq</td>\n      <td>76</td>\n      <td>PRJNA143627</td>\n      <td>SAMN00632122</td>\n      <td>GEO</td>\n      <td>public</td>\n      <td>sra</td>\n      <td>gs,ncbi,s3</td>\n      <td>gs.US,ncbi.public,s3.us-east-1</td>\n      <td>SRX081872</td>\n      <td>GSM752560</td>\n      <td>Illumina Genome Analyzer IIx</td>\n      <td>GSM752560: gga cb M 1</td>\n      <td>SINGLE</td>\n      <td>cDNA</td>\n      <td>TRANSCRIPTOMIC</td>\n      <td>1670</td>\n      <td>1282</td>\n      <td>Gallus gallus</td>\n      <td>ILLUMINA</td>\n      <td>2011-10-14T00:00:00Z</td>\n      <td>SRS213964</td>\n      <td>GSM752560</td>\n      <td>Cerebellum</td>\n      <td>SRP007412</td>\n      <td>Facility of Linkoping University, Sweden</td>\n      <td>male</td>\n      <td>9.2</td>\n      <td>~1 year\\, adult</td>\n      <td>Rneasy Lipid</td>\n      <td>NaN</td>\n    </tr>\n    <tr>\n      <th>4</th>\n      <td>SRR306714</td>\n      <td>RNA-Seq</td>\n      <td>76</td>\n      <td>PRJNA143627</td>\n      <td>SAMN00632123</td>\n      <td>GEO</td>\n      <td>public</td>\n      <td>sra</td>\n      <td>gs,ncbi,s3</td>\n      <td>gs.US,ncbi.public,s3.us-east-1</td>\n      <td>SRX081873</td>\n      <td>GSM752561</td>\n      <td>Illumina Genome Analyzer IIx</td>\n      <td>GSM752561: gga ht F 1</td>\n      <td>SINGLE</td>\n      <td>cDNA</td>\n      <td>TRANSCRIPTOMIC</td>\n      <td>1748</td>\n      <td>1302</td>\n      <td>Gallus gallus</td>\n      <td>ILLUMINA</td>\n      <td>2011-10-14T00:00:00Z</td>\n      <td>SRS213965</td>\n      <td>GSM752561</td>\n      <td>Heart</td>\n      <td>SRP007412</td>\n      <td>Facility of Linkoping University, Sweden</td>\n      <td>female</td>\n      <td>9.0</td>\n      <td>~1 year\\, adult</td>\n      <td>Standard</td>\n      <td>NaN</td>\n    </tr>\n  </tbody>\n</table>\n</div>",
        "text/plain": "         Run Assay Type  AvgSpotLen   BioProject     BioSample Center Name  \\\n0  SRR306710    RNA-Seq          76  PRJNA143627  SAMN00632119         GEO   \n1  SRR306711    RNA-Seq          76  PRJNA143627  SAMN00632120         GEO   \n2  SRR306712    RNA-Seq          76  PRJNA143627  SAMN00632121         GEO   \n3  SRR306713    RNA-Seq          76  PRJNA143627  SAMN00632122         GEO   \n4  SRR306714    RNA-Seq          76  PRJNA143627  SAMN00632123         GEO   \n\n  Consent DATASTORE filetype DATASTORE provider  \\\n0  public                sra         gs,ncbi,s3   \n1  public                sra         gs,ncbi,s3   \n2  public                sra         gs,ncbi,s3   \n3  public                sra         gs,ncbi,s3   \n4  public                sra         gs,ncbi,s3   \n\n                 DATASTORE region Experiment GEO_Accession  \\\n0  gs.US,ncbi.public,s3.us-east-1  SRX081869     GSM752557   \n1  gs.US,ncbi.public,s3.us-east-1  SRX081870     GSM752558   \n2  gs.US,ncbi.public,s3.us-east-1  SRX081871     GSM752559   \n3  gs.US,ncbi.public,s3.us-east-1  SRX081872     GSM752560   \n4  gs.US,ncbi.public,s3.us-east-1  SRX081873     GSM752561   \n\n                     Instrument           Library Name LibraryLayout  \\\n0  Illumina Genome Analyzer IIx  GSM752557: gga br F 1        SINGLE   \n1  Illumina Genome Analyzer IIx  GSM752558: gga br M 1        SINGLE   \n2  Illumina Genome Analyzer IIx  GSM752559: gga cb F 1        SINGLE   \n3  Illumina Genome Analyzer IIx  GSM752560: gga cb M 1        SINGLE   \n4  Illumina Genome Analyzer IIx  GSM752561: gga ht F 1        SINGLE   \n\n  LibrarySelection   LibrarySource  MBases  MBytes       Organism  Platform  \\\n0             cDNA  TRANSCRIPTOMIC    1480    1134  Gallus gallus  ILLUMINA   \n1             cDNA  TRANSCRIPTOMIC    1334     990  Gallus gallus  ILLUMINA   \n2             cDNA  TRANSCRIPTOMIC    1795    1339  Gallus gallus  ILLUMINA   \n3             cDNA  TRANSCRIPTOMIC    1670    1282  Gallus gallus  ILLUMINA   \n4             cDNA  TRANSCRIPTOMIC    1748    1302  Gallus gallus  ILLUMINA   \n\n            ReleaseDate sample_acc Sample Name source_name  SRA Study  \\\n0  2011-10-14T00:00:00Z  SRS213961   GSM752557       Brain  SRP007412   \n1  2011-10-14T00:00:00Z  SRS213962   GSM752558       Brain  SRP007412   \n2  2011-10-14T00:00:00Z  SRS213963   GSM752559  Cerebellum  SRP007412   \n3  2011-10-14T00:00:00Z  SRS213964   GSM752560  Cerebellum  SRP007412   \n4  2011-10-14T00:00:00Z  SRS213965   GSM752561       Heart  SRP007412   \n\n                              tissue_source  gender  rin              Age  \\\n0  Facility of Linkoping University, Sweden  female  9.4  ~1 year\\, adult   \n1  Facility of Linkoping University, Sweden    male  9.1  ~1 year\\, adult   \n2  Facility of Linkoping University, Sweden  female  9.6  ~1 year\\, adult   \n3  Facility of Linkoping University, Sweden    male  9.2  ~1 year\\, adult   \n4  Facility of Linkoping University, Sweden  female  9.0  ~1 year\\, adult   \n\n     Extraction  sex  \n0  Rneasy Lipid  NaN  \n1      Standard  NaN  \n2      Standard  NaN  \n3  Rneasy Lipid  NaN  \n4      Standard  NaN  "
       },
       "execution_count": 2,
       "metadata": {},
       "output_type": "execute_result"
      }
     ],
     "persistentId": "1ad7974f-d8a9-4014-acfb-37350e9498e9",
     "text": "import pandas as pd\npd.options.display.max_columns = 50\n\nsra_run_table = pd.read_csv(\"../metadata/brawand2011_sra_run_table.csv\")\nprint(sra_run_table.shape)\nsra_run_table.head()"
    },
    "executionTime": "2019-11-05T15:29:00.908Z"
   },
   {
    "cell": {
     "executionCount": 3,
     "executionEventId": "1cc825be-0d06-4a22-9677-00fd5370993a",
     "hasError": false,
     "id": "39f43146-6222-4e4f-8562-47a1fec11bff",
     "outputs": [
      {
       "data": {
        "text/plain": "SINGLE    138\nPAIRED     11\nName: LibraryLayout, dtype: int64"
       },
       "execution_count": 3,
       "metadata": {},
       "output_type": "execute_result"
      }
     ],
     "persistentId": "570199bc-de99-457c-b76b-5f85d1a48384",
     "text": "sra_run_table.LibraryLayout.value_counts()"
    },
    "executionTime": "2019-11-05T15:29:20.255Z"
   },
   {
    "cell": {
     "executionCount": 4,
     "executionEventId": "ebdc575f-dabd-449c-b758-817697ecd450",
     "hasError": true,
     "id": "cdf80de8-8721-4163-aff3-ac4f55880e06",
     "outputs": [
      {
       "ename": "UndefinedVariableError",
       "evalue": "name 'LibraryLaout' is not defined",
       "output_type": "error",
       "traceback": [
        "\u001b[0;31m---------------------------------------------------------------------------\u001b[0m",
        "\u001b[0;31mKeyError\u001b[0m                                  Traceback (most recent call last)",
        "\u001b[0;32m~/miniconda3/envs/kmer-hashing/lib/python3.6/site-packages/pandas/core/computation/scope.py\u001b[0m in \u001b[0;36mresolve\u001b[0;34m(self, key, is_local)\u001b[0m\n\u001b[1;32m    180\u001b[0m             \u001b[0;32mif\u001b[0m \u001b[0mself\u001b[0m\u001b[0;34m.\u001b[0m\u001b[0mhas_resolvers\u001b[0m\u001b[0;34m:\u001b[0m\u001b[0;34m\u001b[0m\u001b[0;34m\u001b[0m\u001b[0m\n\u001b[0;32m--> 181\u001b[0;31m                 \u001b[0;32mreturn\u001b[0m \u001b[0mself\u001b[0m\u001b[0;34m.\u001b[0m\u001b[0mresolvers\u001b[0m\u001b[0;34m[\u001b[0m\u001b[0mkey\u001b[0m\u001b[0;34m]\u001b[0m\u001b[0;34m\u001b[0m\u001b[0;34m\u001b[0m\u001b[0m\n\u001b[0m\u001b[1;32m    182\u001b[0m \u001b[0;34m\u001b[0m\u001b[0m\n",
        "\u001b[0;32m~/miniconda3/envs/kmer-hashing/lib/python3.6/collections/__init__.py\u001b[0m in \u001b[0;36m__getitem__\u001b[0;34m(self, key)\u001b[0m\n\u001b[1;32m    882\u001b[0m                 \u001b[0;32mpass\u001b[0m\u001b[0;34m\u001b[0m\u001b[0;34m\u001b[0m\u001b[0m\n\u001b[0;32m--> 883\u001b[0;31m         \u001b[0;32mreturn\u001b[0m \u001b[0mself\u001b[0m\u001b[0;34m.\u001b[0m\u001b[0m__missing__\u001b[0m\u001b[0;34m(\u001b[0m\u001b[0mkey\u001b[0m\u001b[0;34m)\u001b[0m            \u001b[0;31m# support subclasses that define __missing__\u001b[0m\u001b[0;34m\u001b[0m\u001b[0;34m\u001b[0m\u001b[0m\n\u001b[0m\u001b[1;32m    884\u001b[0m \u001b[0;34m\u001b[0m\u001b[0m\n",
        "\u001b[0;32m~/miniconda3/envs/kmer-hashing/lib/python3.6/collections/__init__.py\u001b[0m in \u001b[0;36m__missing__\u001b[0;34m(self, key)\u001b[0m\n\u001b[1;32m    874\u001b[0m     \u001b[0;32mdef\u001b[0m \u001b[0m__missing__\u001b[0m\u001b[0;34m(\u001b[0m\u001b[0mself\u001b[0m\u001b[0;34m,\u001b[0m \u001b[0mkey\u001b[0m\u001b[0;34m)\u001b[0m\u001b[0;34m:\u001b[0m\u001b[0;34m\u001b[0m\u001b[0;34m\u001b[0m\u001b[0m\n\u001b[0;32m--> 875\u001b[0;31m         \u001b[0;32mraise\u001b[0m \u001b[0mKeyError\u001b[0m\u001b[0;34m(\u001b[0m\u001b[0mkey\u001b[0m\u001b[0;34m)\u001b[0m\u001b[0;34m\u001b[0m\u001b[0;34m\u001b[0m\u001b[0m\n\u001b[0m\u001b[1;32m    876\u001b[0m \u001b[0;34m\u001b[0m\u001b[0m\n",
        "\u001b[0;31mKeyError\u001b[0m: 'LibraryLaout'",
        "\nDuring handling of the above exception, another exception occurred:\n",
        "\u001b[0;31mKeyError\u001b[0m                                  Traceback (most recent call last)",
        "\u001b[0;32m~/miniconda3/envs/kmer-hashing/lib/python3.6/site-packages/pandas/core/computation/scope.py\u001b[0m in \u001b[0;36mresolve\u001b[0;34m(self, key, is_local)\u001b[0m\n\u001b[1;32m    191\u001b[0m                 \u001b[0;31m# e.g., df[df > 0]\u001b[0m\u001b[0;34m\u001b[0m\u001b[0;34m\u001b[0m\u001b[0;34m\u001b[0m\u001b[0m\n\u001b[0;32m--> 192\u001b[0;31m                 \u001b[0;32mreturn\u001b[0m \u001b[0mself\u001b[0m\u001b[0;34m.\u001b[0m\u001b[0mtemps\u001b[0m\u001b[0;34m[\u001b[0m\u001b[0mkey\u001b[0m\u001b[0;34m]\u001b[0m\u001b[0;34m\u001b[0m\u001b[0;34m\u001b[0m\u001b[0m\n\u001b[0m\u001b[1;32m    193\u001b[0m             \u001b[0;32mexcept\u001b[0m \u001b[0mKeyError\u001b[0m\u001b[0;34m:\u001b[0m\u001b[0;34m\u001b[0m\u001b[0;34m\u001b[0m\u001b[0m\n",
        "\u001b[0;31mKeyError\u001b[0m: 'LibraryLaout'",
        "\nDuring handling of the above exception, another exception occurred:\n",
        "\u001b[0;31mUndefinedVariableError\u001b[0m                    Traceback (most recent call last)",
        "\u001b[0;32m<ipython-input-4-ffccfe29bd18>\u001b[0m in \u001b[0;36m<module>\u001b[0;34m()\u001b[0m\n\u001b[0;32m----> 1\u001b[0;31m \u001b[0msra_run_table\u001b[0m\u001b[0;34m.\u001b[0m\u001b[0mquery\u001b[0m\u001b[0;34m(\u001b[0m\u001b[0;34m'LibraryLaout == \"PAIRED\"'\u001b[0m\u001b[0;34m)\u001b[0m\u001b[0;34m\u001b[0m\u001b[0;34m\u001b[0m\u001b[0m\n\u001b[0m",
        "\u001b[0;32m~/miniconda3/envs/kmer-hashing/lib/python3.6/site-packages/pandas/core/frame.py\u001b[0m in \u001b[0;36mquery\u001b[0;34m(self, expr, inplace, **kwargs)\u001b[0m\n\u001b[1;32m   3086\u001b[0m         \u001b[0mkwargs\u001b[0m\u001b[0;34m[\u001b[0m\u001b[0;34m'level'\u001b[0m\u001b[0;34m]\u001b[0m \u001b[0;34m=\u001b[0m \u001b[0mkwargs\u001b[0m\u001b[0;34m.\u001b[0m\u001b[0mpop\u001b[0m\u001b[0;34m(\u001b[0m\u001b[0;34m'level'\u001b[0m\u001b[0;34m,\u001b[0m \u001b[0;36m0\u001b[0m\u001b[0;34m)\u001b[0m \u001b[0;34m+\u001b[0m \u001b[0;36m1\u001b[0m\u001b[0;34m\u001b[0m\u001b[0;34m\u001b[0m\u001b[0m\n\u001b[1;32m   3087\u001b[0m         \u001b[0mkwargs\u001b[0m\u001b[0;34m[\u001b[0m\u001b[0;34m'target'\u001b[0m\u001b[0;34m]\u001b[0m \u001b[0;34m=\u001b[0m \u001b[0;32mNone\u001b[0m\u001b[0;34m\u001b[0m\u001b[0;34m\u001b[0m\u001b[0m\n\u001b[0;32m-> 3088\u001b[0;31m         \u001b[0mres\u001b[0m \u001b[0;34m=\u001b[0m \u001b[0mself\u001b[0m\u001b[0;34m.\u001b[0m\u001b[0meval\u001b[0m\u001b[0;34m(\u001b[0m\u001b[0mexpr\u001b[0m\u001b[0;34m,\u001b[0m \u001b[0;34m**\u001b[0m\u001b[0mkwargs\u001b[0m\u001b[0;34m)\u001b[0m\u001b[0;34m\u001b[0m\u001b[0;34m\u001b[0m\u001b[0m\n\u001b[0m\u001b[1;32m   3089\u001b[0m \u001b[0;34m\u001b[0m\u001b[0m\n\u001b[1;32m   3090\u001b[0m         \u001b[0;32mtry\u001b[0m\u001b[0;34m:\u001b[0m\u001b[0;34m\u001b[0m\u001b[0;34m\u001b[0m\u001b[0m\n",
        "\u001b[0;32m~/miniconda3/envs/kmer-hashing/lib/python3.6/site-packages/pandas/core/frame.py\u001b[0m in \u001b[0;36meval\u001b[0;34m(self, expr, inplace, **kwargs)\u001b[0m\n\u001b[1;32m   3201\u001b[0m             \u001b[0mkwargs\u001b[0m\u001b[0;34m[\u001b[0m\u001b[0;34m'target'\u001b[0m\u001b[0;34m]\u001b[0m \u001b[0;34m=\u001b[0m \u001b[0mself\u001b[0m\u001b[0;34m\u001b[0m\u001b[0;34m\u001b[0m\u001b[0m\n\u001b[1;32m   3202\u001b[0m         \u001b[0mkwargs\u001b[0m\u001b[0;34m[\u001b[0m\u001b[0;34m'resolvers'\u001b[0m\u001b[0;34m]\u001b[0m \u001b[0;34m=\u001b[0m \u001b[0mkwargs\u001b[0m\u001b[0;34m.\u001b[0m\u001b[0mget\u001b[0m\u001b[0;34m(\u001b[0m\u001b[0;34m'resolvers'\u001b[0m\u001b[0;34m,\u001b[0m \u001b[0;34m(\u001b[0m\u001b[0;34m)\u001b[0m\u001b[0;34m)\u001b[0m \u001b[0;34m+\u001b[0m \u001b[0mtuple\u001b[0m\u001b[0;34m(\u001b[0m\u001b[0mresolvers\u001b[0m\u001b[0;34m)\u001b[0m\u001b[0;34m\u001b[0m\u001b[0;34m\u001b[0m\u001b[0m\n\u001b[0;32m-> 3203\u001b[0;31m         \u001b[0;32mreturn\u001b[0m \u001b[0m_eval\u001b[0m\u001b[0;34m(\u001b[0m\u001b[0mexpr\u001b[0m\u001b[0;34m,\u001b[0m \u001b[0minplace\u001b[0m\u001b[0;34m=\u001b[0m\u001b[0minplace\u001b[0m\u001b[0;34m,\u001b[0m \u001b[0;34m**\u001b[0m\u001b[0mkwargs\u001b[0m\u001b[0;34m)\u001b[0m\u001b[0;34m\u001b[0m\u001b[0;34m\u001b[0m\u001b[0m\n\u001b[0m\u001b[1;32m   3204\u001b[0m \u001b[0;34m\u001b[0m\u001b[0m\n\u001b[1;32m   3205\u001b[0m     \u001b[0;32mdef\u001b[0m \u001b[0mselect_dtypes\u001b[0m\u001b[0;34m(\u001b[0m\u001b[0mself\u001b[0m\u001b[0;34m,\u001b[0m \u001b[0minclude\u001b[0m\u001b[0;34m=\u001b[0m\u001b[0;32mNone\u001b[0m\u001b[0;34m,\u001b[0m \u001b[0mexclude\u001b[0m\u001b[0;34m=\u001b[0m\u001b[0;32mNone\u001b[0m\u001b[0;34m)\u001b[0m\u001b[0;34m:\u001b[0m\u001b[0;34m\u001b[0m\u001b[0;34m\u001b[0m\u001b[0m\n",
        "\u001b[0;32m~/miniconda3/envs/kmer-hashing/lib/python3.6/site-packages/pandas/core/computation/eval.py\u001b[0m in \u001b[0;36meval\u001b[0;34m(expr, parser, engine, truediv, local_dict, global_dict, resolvers, level, target, inplace)\u001b[0m\n\u001b[1;32m    292\u001b[0m \u001b[0;34m\u001b[0m\u001b[0m\n\u001b[1;32m    293\u001b[0m         parsed_expr = Expr(expr, engine=engine, parser=parser, env=env,\n\u001b[0;32m--> 294\u001b[0;31m                            truediv=truediv)\n\u001b[0m\u001b[1;32m    295\u001b[0m \u001b[0;34m\u001b[0m\u001b[0m\n\u001b[1;32m    296\u001b[0m         \u001b[0;31m# construct the engine and evaluate the parsed expression\u001b[0m\u001b[0;34m\u001b[0m\u001b[0;34m\u001b[0m\u001b[0;34m\u001b[0m\u001b[0m\n",
        "\u001b[0;32m~/miniconda3/envs/kmer-hashing/lib/python3.6/site-packages/pandas/core/computation/expr.py\u001b[0m in \u001b[0;36m__init__\u001b[0;34m(self, expr, engine, parser, env, truediv, level)\u001b[0m\n\u001b[1;32m    747\u001b[0m         \u001b[0mself\u001b[0m\u001b[0;34m.\u001b[0m\u001b[0menv\u001b[0m\u001b[0;34m.\u001b[0m\u001b[0mscope\u001b[0m\u001b[0;34m[\u001b[0m\u001b[0;34m'truediv'\u001b[0m\u001b[0;34m]\u001b[0m \u001b[0;34m=\u001b[0m \u001b[0mtruediv\u001b[0m\u001b[0;34m\u001b[0m\u001b[0;34m\u001b[0m\u001b[0m\n\u001b[1;32m    748\u001b[0m         \u001b[0mself\u001b[0m\u001b[0;34m.\u001b[0m\u001b[0m_visitor\u001b[0m \u001b[0;34m=\u001b[0m \u001b[0m_parsers\u001b[0m\u001b[0;34m[\u001b[0m\u001b[0mparser\u001b[0m\u001b[0;34m]\u001b[0m\u001b[0;34m(\u001b[0m\u001b[0mself\u001b[0m\u001b[0;34m.\u001b[0m\u001b[0menv\u001b[0m\u001b[0;34m,\u001b[0m \u001b[0mself\u001b[0m\u001b[0;34m.\u001b[0m\u001b[0mengine\u001b[0m\u001b[0;34m,\u001b[0m \u001b[0mself\u001b[0m\u001b[0;34m.\u001b[0m\u001b[0mparser\u001b[0m\u001b[0;34m)\u001b[0m\u001b[0;34m\u001b[0m\u001b[0;34m\u001b[0m\u001b[0m\n\u001b[0;32m--> 749\u001b[0;31m         \u001b[0mself\u001b[0m\u001b[0;34m.\u001b[0m\u001b[0mterms\u001b[0m \u001b[0;34m=\u001b[0m \u001b[0mself\u001b[0m\u001b[0;34m.\u001b[0m\u001b[0mparse\u001b[0m\u001b[0;34m(\u001b[0m\u001b[0;34m)\u001b[0m\u001b[0;34m\u001b[0m\u001b[0;34m\u001b[0m\u001b[0m\n\u001b[0m\u001b[1;32m    750\u001b[0m \u001b[0;34m\u001b[0m\u001b[0m\n\u001b[1;32m    751\u001b[0m     \u001b[0;34m@\u001b[0m\u001b[0mproperty\u001b[0m\u001b[0;34m\u001b[0m\u001b[0;34m\u001b[0m\u001b[0m\n",
        "\u001b[0;32m~/miniconda3/envs/kmer-hashing/lib/python3.6/site-packages/pandas/core/computation/expr.py\u001b[0m in \u001b[0;36mparse\u001b[0;34m(self)\u001b[0m\n\u001b[1;32m    764\u001b[0m     \u001b[0;32mdef\u001b[0m \u001b[0mparse\u001b[0m\u001b[0;34m(\u001b[0m\u001b[0mself\u001b[0m\u001b[0;34m)\u001b[0m\u001b[0;34m:\u001b[0m\u001b[0;34m\u001b[0m\u001b[0;34m\u001b[0m\u001b[0m\n\u001b[1;32m    765\u001b[0m         \u001b[0;34m\"\"\"Parse an expression\"\"\"\u001b[0m\u001b[0;34m\u001b[0m\u001b[0;34m\u001b[0m\u001b[0m\n\u001b[0;32m--> 766\u001b[0;31m         \u001b[0;32mreturn\u001b[0m \u001b[0mself\u001b[0m\u001b[0;34m.\u001b[0m\u001b[0m_visitor\u001b[0m\u001b[0;34m.\u001b[0m\u001b[0mvisit\u001b[0m\u001b[0;34m(\u001b[0m\u001b[0mself\u001b[0m\u001b[0;34m.\u001b[0m\u001b[0mexpr\u001b[0m\u001b[0;34m)\u001b[0m\u001b[0;34m\u001b[0m\u001b[0;34m\u001b[0m\u001b[0m\n\u001b[0m\u001b[1;32m    767\u001b[0m \u001b[0;34m\u001b[0m\u001b[0m\n\u001b[1;32m    768\u001b[0m     \u001b[0;34m@\u001b[0m\u001b[0mproperty\u001b[0m\u001b[0;34m\u001b[0m\u001b[0;34m\u001b[0m\u001b[0m\n",
        "\u001b[0;32m~/miniconda3/envs/kmer-hashing/lib/python3.6/site-packages/pandas/core/computation/expr.py\u001b[0m in \u001b[0;36mvisit\u001b[0;34m(self, node, **kwargs)\u001b[0m\n\u001b[1;32m    329\u001b[0m         \u001b[0mmethod\u001b[0m \u001b[0;34m=\u001b[0m \u001b[0;34m'visit_'\u001b[0m \u001b[0;34m+\u001b[0m \u001b[0mnode\u001b[0m\u001b[0;34m.\u001b[0m\u001b[0m__class__\u001b[0m\u001b[0;34m.\u001b[0m\u001b[0m__name__\u001b[0m\u001b[0;34m\u001b[0m\u001b[0;34m\u001b[0m\u001b[0m\n\u001b[1;32m    330\u001b[0m         \u001b[0mvisitor\u001b[0m \u001b[0;34m=\u001b[0m \u001b[0mgetattr\u001b[0m\u001b[0;34m(\u001b[0m\u001b[0mself\u001b[0m\u001b[0;34m,\u001b[0m \u001b[0mmethod\u001b[0m\u001b[0;34m)\u001b[0m\u001b[0;34m\u001b[0m\u001b[0;34m\u001b[0m\u001b[0m\n\u001b[0;32m--> 331\u001b[0;31m         \u001b[0;32mreturn\u001b[0m \u001b[0mvisitor\u001b[0m\u001b[0;34m(\u001b[0m\u001b[0mnode\u001b[0m\u001b[0;34m,\u001b[0m \u001b[0;34m**\u001b[0m\u001b[0mkwargs\u001b[0m\u001b[0;34m)\u001b[0m\u001b[0;34m\u001b[0m\u001b[0;34m\u001b[0m\u001b[0m\n\u001b[0m\u001b[1;32m    332\u001b[0m \u001b[0;34m\u001b[0m\u001b[0m\n\u001b[1;32m    333\u001b[0m     \u001b[0;32mdef\u001b[0m \u001b[0mvisit_Module\u001b[0m\u001b[0;34m(\u001b[0m\u001b[0mself\u001b[0m\u001b[0;34m,\u001b[0m \u001b[0mnode\u001b[0m\u001b[0;34m,\u001b[0m \u001b[0;34m**\u001b[0m\u001b[0mkwargs\u001b[0m\u001b[0;34m)\u001b[0m\u001b[0;34m:\u001b[0m\u001b[0;34m\u001b[0m\u001b[0;34m\u001b[0m\u001b[0m\n",
        "\u001b[0;32m~/miniconda3/envs/kmer-hashing/lib/python3.6/site-packages/pandas/core/computation/expr.py\u001b[0m in \u001b[0;36mvisit_Module\u001b[0;34m(self, node, **kwargs)\u001b[0m\n\u001b[1;32m    335\u001b[0m             \u001b[0;32mraise\u001b[0m \u001b[0mSyntaxError\u001b[0m\u001b[0;34m(\u001b[0m\u001b[0;34m'only a single expression is allowed'\u001b[0m\u001b[0;34m)\u001b[0m\u001b[0;34m\u001b[0m\u001b[0;34m\u001b[0m\u001b[0m\n\u001b[1;32m    336\u001b[0m         \u001b[0mexpr\u001b[0m \u001b[0;34m=\u001b[0m \u001b[0mnode\u001b[0m\u001b[0;34m.\u001b[0m\u001b[0mbody\u001b[0m\u001b[0;34m[\u001b[0m\u001b[0;36m0\u001b[0m\u001b[0;34m]\u001b[0m\u001b[0;34m\u001b[0m\u001b[0;34m\u001b[0m\u001b[0m\n\u001b[0;32m--> 337\u001b[0;31m         \u001b[0;32mreturn\u001b[0m \u001b[0mself\u001b[0m\u001b[0;34m.\u001b[0m\u001b[0mvisit\u001b[0m\u001b[0;34m(\u001b[0m\u001b[0mexpr\u001b[0m\u001b[0;34m,\u001b[0m \u001b[0;34m**\u001b[0m\u001b[0mkwargs\u001b[0m\u001b[0;34m)\u001b[0m\u001b[0;34m\u001b[0m\u001b[0;34m\u001b[0m\u001b[0m\n\u001b[0m\u001b[1;32m    338\u001b[0m \u001b[0;34m\u001b[0m\u001b[0m\n\u001b[1;32m    339\u001b[0m     \u001b[0;32mdef\u001b[0m \u001b[0mvisit_Expr\u001b[0m\u001b[0;34m(\u001b[0m\u001b[0mself\u001b[0m\u001b[0;34m,\u001b[0m \u001b[0mnode\u001b[0m\u001b[0;34m,\u001b[0m \u001b[0;34m**\u001b[0m\u001b[0mkwargs\u001b[0m\u001b[0;34m)\u001b[0m\u001b[0;34m:\u001b[0m\u001b[0;34m\u001b[0m\u001b[0;34m\u001b[0m\u001b[0m\n",
        "\u001b[0;32m~/miniconda3/envs/kmer-hashing/lib/python3.6/site-packages/pandas/core/computation/expr.py\u001b[0m in \u001b[0;36mvisit\u001b[0;34m(self, node, **kwargs)\u001b[0m\n\u001b[1;32m    329\u001b[0m         \u001b[0mmethod\u001b[0m \u001b[0;34m=\u001b[0m \u001b[0;34m'visit_'\u001b[0m \u001b[0;34m+\u001b[0m \u001b[0mnode\u001b[0m\u001b[0;34m.\u001b[0m\u001b[0m__class__\u001b[0m\u001b[0;34m.\u001b[0m\u001b[0m__name__\u001b[0m\u001b[0;34m\u001b[0m\u001b[0;34m\u001b[0m\u001b[0m\n\u001b[1;32m    330\u001b[0m         \u001b[0mvisitor\u001b[0m \u001b[0;34m=\u001b[0m \u001b[0mgetattr\u001b[0m\u001b[0;34m(\u001b[0m\u001b[0mself\u001b[0m\u001b[0;34m,\u001b[0m \u001b[0mmethod\u001b[0m\u001b[0;34m)\u001b[0m\u001b[0;34m\u001b[0m\u001b[0;34m\u001b[0m\u001b[0m\n\u001b[0;32m--> 331\u001b[0;31m         \u001b[0;32mreturn\u001b[0m \u001b[0mvisitor\u001b[0m\u001b[0;34m(\u001b[0m\u001b[0mnode\u001b[0m\u001b[0;34m,\u001b[0m \u001b[0;34m**\u001b[0m\u001b[0mkwargs\u001b[0m\u001b[0;34m)\u001b[0m\u001b[0;34m\u001b[0m\u001b[0;34m\u001b[0m\u001b[0m\n\u001b[0m\u001b[1;32m    332\u001b[0m \u001b[0;34m\u001b[0m\u001b[0m\n\u001b[1;32m    333\u001b[0m     \u001b[0;32mdef\u001b[0m \u001b[0mvisit_Module\u001b[0m\u001b[0;34m(\u001b[0m\u001b[0mself\u001b[0m\u001b[0;34m,\u001b[0m \u001b[0mnode\u001b[0m\u001b[0;34m,\u001b[0m \u001b[0;34m**\u001b[0m\u001b[0mkwargs\u001b[0m\u001b[0;34m)\u001b[0m\u001b[0;34m:\u001b[0m\u001b[0;34m\u001b[0m\u001b[0;34m\u001b[0m\u001b[0m\n",
        "\u001b[0;32m~/miniconda3/envs/kmer-hashing/lib/python3.6/site-packages/pandas/core/computation/expr.py\u001b[0m in \u001b[0;36mvisit_Expr\u001b[0;34m(self, node, **kwargs)\u001b[0m\n\u001b[1;32m    338\u001b[0m \u001b[0;34m\u001b[0m\u001b[0m\n\u001b[1;32m    339\u001b[0m     \u001b[0;32mdef\u001b[0m \u001b[0mvisit_Expr\u001b[0m\u001b[0;34m(\u001b[0m\u001b[0mself\u001b[0m\u001b[0;34m,\u001b[0m \u001b[0mnode\u001b[0m\u001b[0;34m,\u001b[0m \u001b[0;34m**\u001b[0m\u001b[0mkwargs\u001b[0m\u001b[0;34m)\u001b[0m\u001b[0;34m:\u001b[0m\u001b[0;34m\u001b[0m\u001b[0;34m\u001b[0m\u001b[0m\n\u001b[0;32m--> 340\u001b[0;31m         \u001b[0;32mreturn\u001b[0m \u001b[0mself\u001b[0m\u001b[0;34m.\u001b[0m\u001b[0mvisit\u001b[0m\u001b[0;34m(\u001b[0m\u001b[0mnode\u001b[0m\u001b[0;34m.\u001b[0m\u001b[0mvalue\u001b[0m\u001b[0;34m,\u001b[0m \u001b[0;34m**\u001b[0m\u001b[0mkwargs\u001b[0m\u001b[0;34m)\u001b[0m\u001b[0;34m\u001b[0m\u001b[0;34m\u001b[0m\u001b[0m\n\u001b[0m\u001b[1;32m    341\u001b[0m \u001b[0;34m\u001b[0m\u001b[0m\n\u001b[1;32m    342\u001b[0m     \u001b[0;32mdef\u001b[0m \u001b[0m_rewrite_membership_op\u001b[0m\u001b[0;34m(\u001b[0m\u001b[0mself\u001b[0m\u001b[0;34m,\u001b[0m \u001b[0mnode\u001b[0m\u001b[0;34m,\u001b[0m \u001b[0mleft\u001b[0m\u001b[0;34m,\u001b[0m \u001b[0mright\u001b[0m\u001b[0;34m)\u001b[0m\u001b[0;34m:\u001b[0m\u001b[0;34m\u001b[0m\u001b[0;34m\u001b[0m\u001b[0m\n",
        "\u001b[0;32m~/miniconda3/envs/kmer-hashing/lib/python3.6/site-packages/pandas/core/computation/expr.py\u001b[0m in \u001b[0;36mvisit\u001b[0;34m(self, node, **kwargs)\u001b[0m\n\u001b[1;32m    329\u001b[0m         \u001b[0mmethod\u001b[0m \u001b[0;34m=\u001b[0m \u001b[0;34m'visit_'\u001b[0m \u001b[0;34m+\u001b[0m \u001b[0mnode\u001b[0m\u001b[0;34m.\u001b[0m\u001b[0m__class__\u001b[0m\u001b[0;34m.\u001b[0m\u001b[0m__name__\u001b[0m\u001b[0;34m\u001b[0m\u001b[0;34m\u001b[0m\u001b[0m\n\u001b[1;32m    330\u001b[0m         \u001b[0mvisitor\u001b[0m \u001b[0;34m=\u001b[0m \u001b[0mgetattr\u001b[0m\u001b[0;34m(\u001b[0m\u001b[0mself\u001b[0m\u001b[0;34m,\u001b[0m \u001b[0mmethod\u001b[0m\u001b[0;34m)\u001b[0m\u001b[0;34m\u001b[0m\u001b[0;34m\u001b[0m\u001b[0m\n\u001b[0;32m--> 331\u001b[0;31m         \u001b[0;32mreturn\u001b[0m \u001b[0mvisitor\u001b[0m\u001b[0;34m(\u001b[0m\u001b[0mnode\u001b[0m\u001b[0;34m,\u001b[0m \u001b[0;34m**\u001b[0m\u001b[0mkwargs\u001b[0m\u001b[0;34m)\u001b[0m\u001b[0;34m\u001b[0m\u001b[0;34m\u001b[0m\u001b[0m\n\u001b[0m\u001b[1;32m    332\u001b[0m \u001b[0;34m\u001b[0m\u001b[0m\n\u001b[1;32m    333\u001b[0m     \u001b[0;32mdef\u001b[0m \u001b[0mvisit_Module\u001b[0m\u001b[0;34m(\u001b[0m\u001b[0mself\u001b[0m\u001b[0;34m,\u001b[0m \u001b[0mnode\u001b[0m\u001b[0;34m,\u001b[0m \u001b[0;34m**\u001b[0m\u001b[0mkwargs\u001b[0m\u001b[0;34m)\u001b[0m\u001b[0;34m:\u001b[0m\u001b[0;34m\u001b[0m\u001b[0;34m\u001b[0m\u001b[0m\n",
        "\u001b[0;32m~/miniconda3/envs/kmer-hashing/lib/python3.6/site-packages/pandas/core/computation/expr.py\u001b[0m in \u001b[0;36mvisit_Compare\u001b[0;34m(self, node, **kwargs)\u001b[0m\n\u001b[1;32m    664\u001b[0m             \u001b[0mop\u001b[0m \u001b[0;34m=\u001b[0m \u001b[0mself\u001b[0m\u001b[0;34m.\u001b[0m\u001b[0mtranslate_In\u001b[0m\u001b[0;34m(\u001b[0m\u001b[0mops\u001b[0m\u001b[0;34m[\u001b[0m\u001b[0;36m0\u001b[0m\u001b[0;34m]\u001b[0m\u001b[0;34m)\u001b[0m\u001b[0;34m\u001b[0m\u001b[0;34m\u001b[0m\u001b[0m\n\u001b[1;32m    665\u001b[0m             \u001b[0mbinop\u001b[0m \u001b[0;34m=\u001b[0m \u001b[0mast\u001b[0m\u001b[0;34m.\u001b[0m\u001b[0mBinOp\u001b[0m\u001b[0;34m(\u001b[0m\u001b[0mop\u001b[0m\u001b[0;34m=\u001b[0m\u001b[0mop\u001b[0m\u001b[0;34m,\u001b[0m \u001b[0mleft\u001b[0m\u001b[0;34m=\u001b[0m\u001b[0mnode\u001b[0m\u001b[0;34m.\u001b[0m\u001b[0mleft\u001b[0m\u001b[0;34m,\u001b[0m \u001b[0mright\u001b[0m\u001b[0;34m=\u001b[0m\u001b[0mcomps\u001b[0m\u001b[0;34m[\u001b[0m\u001b[0;36m0\u001b[0m\u001b[0;34m]\u001b[0m\u001b[0;34m)\u001b[0m\u001b[0;34m\u001b[0m\u001b[0;34m\u001b[0m\u001b[0m\n\u001b[0;32m--> 666\u001b[0;31m             \u001b[0;32mreturn\u001b[0m \u001b[0mself\u001b[0m\u001b[0;34m.\u001b[0m\u001b[0mvisit\u001b[0m\u001b[0;34m(\u001b[0m\u001b[0mbinop\u001b[0m\u001b[0;34m)\u001b[0m\u001b[0;34m\u001b[0m\u001b[0;34m\u001b[0m\u001b[0m\n\u001b[0m\u001b[1;32m    667\u001b[0m \u001b[0;34m\u001b[0m\u001b[0m\n\u001b[1;32m    668\u001b[0m         \u001b[0;31m# recursive case: we have a chained comparison, a CMP b CMP c, etc.\u001b[0m\u001b[0;34m\u001b[0m\u001b[0;34m\u001b[0m\u001b[0;34m\u001b[0m\u001b[0m\n",
        "\u001b[0;32m~/miniconda3/envs/kmer-hashing/lib/python3.6/site-packages/pandas/core/computation/expr.py\u001b[0m in \u001b[0;36mvisit\u001b[0;34m(self, node, **kwargs)\u001b[0m\n\u001b[1;32m    329\u001b[0m         \u001b[0mmethod\u001b[0m \u001b[0;34m=\u001b[0m \u001b[0;34m'visit_'\u001b[0m \u001b[0;34m+\u001b[0m \u001b[0mnode\u001b[0m\u001b[0;34m.\u001b[0m\u001b[0m__class__\u001b[0m\u001b[0;34m.\u001b[0m\u001b[0m__name__\u001b[0m\u001b[0;34m\u001b[0m\u001b[0;34m\u001b[0m\u001b[0m\n\u001b[1;32m    330\u001b[0m         \u001b[0mvisitor\u001b[0m \u001b[0;34m=\u001b[0m \u001b[0mgetattr\u001b[0m\u001b[0;34m(\u001b[0m\u001b[0mself\u001b[0m\u001b[0;34m,\u001b[0m \u001b[0mmethod\u001b[0m\u001b[0;34m)\u001b[0m\u001b[0;34m\u001b[0m\u001b[0;34m\u001b[0m\u001b[0m\n\u001b[0;32m--> 331\u001b[0;31m         \u001b[0;32mreturn\u001b[0m \u001b[0mvisitor\u001b[0m\u001b[0;34m(\u001b[0m\u001b[0mnode\u001b[0m\u001b[0;34m,\u001b[0m \u001b[0;34m**\u001b[0m\u001b[0mkwargs\u001b[0m\u001b[0;34m)\u001b[0m\u001b[0;34m\u001b[0m\u001b[0;34m\u001b[0m\u001b[0m\n\u001b[0m\u001b[1;32m    332\u001b[0m \u001b[0;34m\u001b[0m\u001b[0m\n\u001b[1;32m    333\u001b[0m     \u001b[0;32mdef\u001b[0m \u001b[0mvisit_Module\u001b[0m\u001b[0;34m(\u001b[0m\u001b[0mself\u001b[0m\u001b[0;34m,\u001b[0m \u001b[0mnode\u001b[0m\u001b[0;34m,\u001b[0m \u001b[0;34m**\u001b[0m\u001b[0mkwargs\u001b[0m\u001b[0;34m)\u001b[0m\u001b[0;34m:\u001b[0m\u001b[0;34m\u001b[0m\u001b[0;34m\u001b[0m\u001b[0m\n",
        "\u001b[0;32m~/miniconda3/envs/kmer-hashing/lib/python3.6/site-packages/pandas/core/computation/expr.py\u001b[0m in \u001b[0;36mvisit_BinOp\u001b[0;34m(self, node, **kwargs)\u001b[0m\n\u001b[1;32m    433\u001b[0m \u001b[0;34m\u001b[0m\u001b[0m\n\u001b[1;32m    434\u001b[0m     \u001b[0;32mdef\u001b[0m \u001b[0mvisit_BinOp\u001b[0m\u001b[0;34m(\u001b[0m\u001b[0mself\u001b[0m\u001b[0;34m,\u001b[0m \u001b[0mnode\u001b[0m\u001b[0;34m,\u001b[0m \u001b[0;34m**\u001b[0m\u001b[0mkwargs\u001b[0m\u001b[0;34m)\u001b[0m\u001b[0;34m:\u001b[0m\u001b[0;34m\u001b[0m\u001b[0;34m\u001b[0m\u001b[0m\n\u001b[0;32m--> 435\u001b[0;31m         \u001b[0mop\u001b[0m\u001b[0;34m,\u001b[0m \u001b[0mop_class\u001b[0m\u001b[0;34m,\u001b[0m \u001b[0mleft\u001b[0m\u001b[0;34m,\u001b[0m \u001b[0mright\u001b[0m \u001b[0;34m=\u001b[0m \u001b[0mself\u001b[0m\u001b[0;34m.\u001b[0m\u001b[0m_maybe_transform_eq_ne\u001b[0m\u001b[0;34m(\u001b[0m\u001b[0mnode\u001b[0m\u001b[0;34m)\u001b[0m\u001b[0;34m\u001b[0m\u001b[0;34m\u001b[0m\u001b[0m\n\u001b[0m\u001b[1;32m    436\u001b[0m         \u001b[0mleft\u001b[0m\u001b[0;34m,\u001b[0m \u001b[0mright\u001b[0m \u001b[0;34m=\u001b[0m \u001b[0mself\u001b[0m\u001b[0;34m.\u001b[0m\u001b[0m_maybe_downcast_constants\u001b[0m\u001b[0;34m(\u001b[0m\u001b[0mleft\u001b[0m\u001b[0;34m,\u001b[0m \u001b[0mright\u001b[0m\u001b[0;34m)\u001b[0m\u001b[0;34m\u001b[0m\u001b[0;34m\u001b[0m\u001b[0m\n\u001b[1;32m    437\u001b[0m         \u001b[0;32mreturn\u001b[0m \u001b[0mself\u001b[0m\u001b[0;34m.\u001b[0m\u001b[0m_maybe_evaluate_binop\u001b[0m\u001b[0;34m(\u001b[0m\u001b[0mop\u001b[0m\u001b[0;34m,\u001b[0m \u001b[0mop_class\u001b[0m\u001b[0;34m,\u001b[0m \u001b[0mleft\u001b[0m\u001b[0;34m,\u001b[0m \u001b[0mright\u001b[0m\u001b[0;34m)\u001b[0m\u001b[0;34m\u001b[0m\u001b[0;34m\u001b[0m\u001b[0m\n",
        "\u001b[0;32m~/miniconda3/envs/kmer-hashing/lib/python3.6/site-packages/pandas/core/computation/expr.py\u001b[0m in \u001b[0;36m_maybe_transform_eq_ne\u001b[0;34m(self, node, left, right)\u001b[0m\n\u001b[1;32m    370\u001b[0m     \u001b[0;32mdef\u001b[0m \u001b[0m_maybe_transform_eq_ne\u001b[0m\u001b[0;34m(\u001b[0m\u001b[0mself\u001b[0m\u001b[0;34m,\u001b[0m \u001b[0mnode\u001b[0m\u001b[0;34m,\u001b[0m \u001b[0mleft\u001b[0m\u001b[0;34m=\u001b[0m\u001b[0;32mNone\u001b[0m\u001b[0;34m,\u001b[0m \u001b[0mright\u001b[0m\u001b[0;34m=\u001b[0m\u001b[0;32mNone\u001b[0m\u001b[0;34m)\u001b[0m\u001b[0;34m:\u001b[0m\u001b[0;34m\u001b[0m\u001b[0;34m\u001b[0m\u001b[0m\n\u001b[1;32m    371\u001b[0m         \u001b[0;32mif\u001b[0m \u001b[0mleft\u001b[0m \u001b[0;32mis\u001b[0m \u001b[0;32mNone\u001b[0m\u001b[0;34m:\u001b[0m\u001b[0;34m\u001b[0m\u001b[0;34m\u001b[0m\u001b[0m\n\u001b[0;32m--> 372\u001b[0;31m             \u001b[0mleft\u001b[0m \u001b[0;34m=\u001b[0m \u001b[0mself\u001b[0m\u001b[0;34m.\u001b[0m\u001b[0mvisit\u001b[0m\u001b[0;34m(\u001b[0m\u001b[0mnode\u001b[0m\u001b[0;34m.\u001b[0m\u001b[0mleft\u001b[0m\u001b[0;34m,\u001b[0m \u001b[0mside\u001b[0m\u001b[0;34m=\u001b[0m\u001b[0;34m'left'\u001b[0m\u001b[0;34m)\u001b[0m\u001b[0;34m\u001b[0m\u001b[0;34m\u001b[0m\u001b[0m\n\u001b[0m\u001b[1;32m    373\u001b[0m         \u001b[0;32mif\u001b[0m \u001b[0mright\u001b[0m \u001b[0;32mis\u001b[0m \u001b[0;32mNone\u001b[0m\u001b[0;34m:\u001b[0m\u001b[0;34m\u001b[0m\u001b[0;34m\u001b[0m\u001b[0m\n\u001b[1;32m    374\u001b[0m             \u001b[0mright\u001b[0m \u001b[0;34m=\u001b[0m \u001b[0mself\u001b[0m\u001b[0;34m.\u001b[0m\u001b[0mvisit\u001b[0m\u001b[0;34m(\u001b[0m\u001b[0mnode\u001b[0m\u001b[0;34m.\u001b[0m\u001b[0mright\u001b[0m\u001b[0;34m,\u001b[0m \u001b[0mside\u001b[0m\u001b[0;34m=\u001b[0m\u001b[0;34m'right'\u001b[0m\u001b[0;34m)\u001b[0m\u001b[0;34m\u001b[0m\u001b[0;34m\u001b[0m\u001b[0m\n",
        "\u001b[0;32m~/miniconda3/envs/kmer-hashing/lib/python3.6/site-packages/pandas/core/computation/expr.py\u001b[0m in \u001b[0;36mvisit\u001b[0;34m(self, node, **kwargs)\u001b[0m\n\u001b[1;32m    329\u001b[0m         \u001b[0mmethod\u001b[0m \u001b[0;34m=\u001b[0m \u001b[0;34m'visit_'\u001b[0m \u001b[0;34m+\u001b[0m \u001b[0mnode\u001b[0m\u001b[0;34m.\u001b[0m\u001b[0m__class__\u001b[0m\u001b[0;34m.\u001b[0m\u001b[0m__name__\u001b[0m\u001b[0;34m\u001b[0m\u001b[0;34m\u001b[0m\u001b[0m\n\u001b[1;32m    330\u001b[0m         \u001b[0mvisitor\u001b[0m \u001b[0;34m=\u001b[0m \u001b[0mgetattr\u001b[0m\u001b[0;34m(\u001b[0m\u001b[0mself\u001b[0m\u001b[0;34m,\u001b[0m \u001b[0mmethod\u001b[0m\u001b[0;34m)\u001b[0m\u001b[0;34m\u001b[0m\u001b[0;34m\u001b[0m\u001b[0m\n\u001b[0;32m--> 331\u001b[0;31m         \u001b[0;32mreturn\u001b[0m \u001b[0mvisitor\u001b[0m\u001b[0;34m(\u001b[0m\u001b[0mnode\u001b[0m\u001b[0;34m,\u001b[0m \u001b[0;34m**\u001b[0m\u001b[0mkwargs\u001b[0m\u001b[0;34m)\u001b[0m\u001b[0;34m\u001b[0m\u001b[0;34m\u001b[0m\u001b[0m\n\u001b[0m\u001b[1;32m    332\u001b[0m \u001b[0;34m\u001b[0m\u001b[0m\n\u001b[1;32m    333\u001b[0m     \u001b[0;32mdef\u001b[0m \u001b[0mvisit_Module\u001b[0m\u001b[0;34m(\u001b[0m\u001b[0mself\u001b[0m\u001b[0;34m,\u001b[0m \u001b[0mnode\u001b[0m\u001b[0;34m,\u001b[0m \u001b[0;34m**\u001b[0m\u001b[0mkwargs\u001b[0m\u001b[0;34m)\u001b[0m\u001b[0;34m:\u001b[0m\u001b[0;34m\u001b[0m\u001b[0;34m\u001b[0m\u001b[0m\n",
        "\u001b[0;32m~/miniconda3/envs/kmer-hashing/lib/python3.6/site-packages/pandas/core/computation/expr.py\u001b[0m in \u001b[0;36mvisit_Name\u001b[0;34m(self, node, **kwargs)\u001b[0m\n\u001b[1;32m    447\u001b[0m \u001b[0;34m\u001b[0m\u001b[0m\n\u001b[1;32m    448\u001b[0m     \u001b[0;32mdef\u001b[0m \u001b[0mvisit_Name\u001b[0m\u001b[0;34m(\u001b[0m\u001b[0mself\u001b[0m\u001b[0;34m,\u001b[0m \u001b[0mnode\u001b[0m\u001b[0;34m,\u001b[0m \u001b[0;34m**\u001b[0m\u001b[0mkwargs\u001b[0m\u001b[0;34m)\u001b[0m\u001b[0;34m:\u001b[0m\u001b[0;34m\u001b[0m\u001b[0;34m\u001b[0m\u001b[0m\n\u001b[0;32m--> 449\u001b[0;31m         \u001b[0;32mreturn\u001b[0m \u001b[0mself\u001b[0m\u001b[0;34m.\u001b[0m\u001b[0mterm_type\u001b[0m\u001b[0;34m(\u001b[0m\u001b[0mnode\u001b[0m\u001b[0;34m.\u001b[0m\u001b[0mid\u001b[0m\u001b[0;34m,\u001b[0m \u001b[0mself\u001b[0m\u001b[0;34m.\u001b[0m\u001b[0menv\u001b[0m\u001b[0;34m,\u001b[0m \u001b[0;34m**\u001b[0m\u001b[0mkwargs\u001b[0m\u001b[0;34m)\u001b[0m\u001b[0;34m\u001b[0m\u001b[0;34m\u001b[0m\u001b[0m\n\u001b[0m\u001b[1;32m    450\u001b[0m \u001b[0;34m\u001b[0m\u001b[0m\n\u001b[1;32m    451\u001b[0m     \u001b[0;32mdef\u001b[0m \u001b[0mvisit_NameConstant\u001b[0m\u001b[0;34m(\u001b[0m\u001b[0mself\u001b[0m\u001b[0;34m,\u001b[0m \u001b[0mnode\u001b[0m\u001b[0;34m,\u001b[0m \u001b[0;34m**\u001b[0m\u001b[0mkwargs\u001b[0m\u001b[0;34m)\u001b[0m\u001b[0;34m:\u001b[0m\u001b[0;34m\u001b[0m\u001b[0;34m\u001b[0m\u001b[0m\n",
        "\u001b[0;32m~/miniconda3/envs/kmer-hashing/lib/python3.6/site-packages/pandas/core/computation/ops.py\u001b[0m in \u001b[0;36m__init__\u001b[0;34m(self, name, env, side, encoding)\u001b[0m\n\u001b[1;32m     62\u001b[0m         self.is_local = (tname.startswith(_LOCAL_TAG) or\n\u001b[1;32m     63\u001b[0m                          tname in _DEFAULT_GLOBALS)\n\u001b[0;32m---> 64\u001b[0;31m         \u001b[0mself\u001b[0m\u001b[0;34m.\u001b[0m\u001b[0m_value\u001b[0m \u001b[0;34m=\u001b[0m \u001b[0mself\u001b[0m\u001b[0;34m.\u001b[0m\u001b[0m_resolve_name\u001b[0m\u001b[0;34m(\u001b[0m\u001b[0;34m)\u001b[0m\u001b[0;34m\u001b[0m\u001b[0;34m\u001b[0m\u001b[0m\n\u001b[0m\u001b[1;32m     65\u001b[0m         \u001b[0mself\u001b[0m\u001b[0;34m.\u001b[0m\u001b[0mencoding\u001b[0m \u001b[0;34m=\u001b[0m \u001b[0mencoding\u001b[0m\u001b[0;34m\u001b[0m\u001b[0;34m\u001b[0m\u001b[0m\n\u001b[1;32m     66\u001b[0m \u001b[0;34m\u001b[0m\u001b[0m\n",
        "\u001b[0;32m~/miniconda3/envs/kmer-hashing/lib/python3.6/site-packages/pandas/core/computation/ops.py\u001b[0m in \u001b[0;36m_resolve_name\u001b[0;34m(self)\u001b[0m\n\u001b[1;32m     79\u001b[0m \u001b[0;34m\u001b[0m\u001b[0m\n\u001b[1;32m     80\u001b[0m     \u001b[0;32mdef\u001b[0m \u001b[0m_resolve_name\u001b[0m\u001b[0;34m(\u001b[0m\u001b[0mself\u001b[0m\u001b[0;34m)\u001b[0m\u001b[0;34m:\u001b[0m\u001b[0;34m\u001b[0m\u001b[0;34m\u001b[0m\u001b[0m\n\u001b[0;32m---> 81\u001b[0;31m         \u001b[0mres\u001b[0m \u001b[0;34m=\u001b[0m \u001b[0mself\u001b[0m\u001b[0;34m.\u001b[0m\u001b[0menv\u001b[0m\u001b[0;34m.\u001b[0m\u001b[0mresolve\u001b[0m\u001b[0;34m(\u001b[0m\u001b[0mself\u001b[0m\u001b[0;34m.\u001b[0m\u001b[0mlocal_name\u001b[0m\u001b[0;34m,\u001b[0m \u001b[0mis_local\u001b[0m\u001b[0;34m=\u001b[0m\u001b[0mself\u001b[0m\u001b[0;34m.\u001b[0m\u001b[0mis_local\u001b[0m\u001b[0;34m)\u001b[0m\u001b[0;34m\u001b[0m\u001b[0;34m\u001b[0m\u001b[0m\n\u001b[0m\u001b[1;32m     82\u001b[0m         \u001b[0mself\u001b[0m\u001b[0;34m.\u001b[0m\u001b[0mupdate\u001b[0m\u001b[0;34m(\u001b[0m\u001b[0mres\u001b[0m\u001b[0;34m)\u001b[0m\u001b[0;34m\u001b[0m\u001b[0;34m\u001b[0m\u001b[0m\n\u001b[1;32m     83\u001b[0m \u001b[0;34m\u001b[0m\u001b[0m\n",
        "\u001b[0;32m~/miniconda3/envs/kmer-hashing/lib/python3.6/site-packages/pandas/core/computation/scope.py\u001b[0m in \u001b[0;36mresolve\u001b[0;34m(self, key, is_local)\u001b[0m\n\u001b[1;32m    192\u001b[0m                 \u001b[0;32mreturn\u001b[0m \u001b[0mself\u001b[0m\u001b[0;34m.\u001b[0m\u001b[0mtemps\u001b[0m\u001b[0;34m[\u001b[0m\u001b[0mkey\u001b[0m\u001b[0;34m]\u001b[0m\u001b[0;34m\u001b[0m\u001b[0;34m\u001b[0m\u001b[0m\n\u001b[1;32m    193\u001b[0m             \u001b[0;32mexcept\u001b[0m \u001b[0mKeyError\u001b[0m\u001b[0;34m:\u001b[0m\u001b[0;34m\u001b[0m\u001b[0;34m\u001b[0m\u001b[0m\n\u001b[0;32m--> 194\u001b[0;31m                 \u001b[0;32mraise\u001b[0m \u001b[0mcompu\u001b[0m\u001b[0;34m.\u001b[0m\u001b[0mops\u001b[0m\u001b[0;34m.\u001b[0m\u001b[0mUndefinedVariableError\u001b[0m\u001b[0;34m(\u001b[0m\u001b[0mkey\u001b[0m\u001b[0;34m,\u001b[0m \u001b[0mis_local\u001b[0m\u001b[0;34m)\u001b[0m\u001b[0;34m\u001b[0m\u001b[0;34m\u001b[0m\u001b[0m\n\u001b[0m\u001b[1;32m    195\u001b[0m \u001b[0;34m\u001b[0m\u001b[0m\n\u001b[1;32m    196\u001b[0m     \u001b[0;32mdef\u001b[0m \u001b[0mswapkey\u001b[0m\u001b[0;34m(\u001b[0m\u001b[0mself\u001b[0m\u001b[0;34m,\u001b[0m \u001b[0mold_key\u001b[0m\u001b[0;34m,\u001b[0m \u001b[0mnew_key\u001b[0m\u001b[0;34m,\u001b[0m \u001b[0mnew_value\u001b[0m\u001b[0;34m=\u001b[0m\u001b[0;32mNone\u001b[0m\u001b[0;34m)\u001b[0m\u001b[0;34m:\u001b[0m\u001b[0;34m\u001b[0m\u001b[0;34m\u001b[0m\u001b[0m\n",
        "\u001b[0;31mUndefinedVariableError\u001b[0m: name 'LibraryLaout' is not defined"
       ]
      }
     ],
     "persistentId": "fb3a14fd-d0cf-4dce-9cf3-1f13c3f4693d",
     "text": "sra_run_table.query('LibraryLaout == \"PAIRED\"')"
    },
    "executionTime": "2019-11-05T15:29:39.317Z"
   },
   {
    "cell": {
     "executionCount": 5,
     "executionEventId": "def60cba-8215-4498-8234-6839807413fc",
     "hasError": true,
     "id": "cdf80de8-8721-4163-aff3-ac4f55880e06",
     "outputs": [
      {
       "ename": "UndefinedVariableError",
       "evalue": "name 'LibraryLaoyut' is not defined",
       "output_type": "error",
       "traceback": [
        "\u001b[0;31m---------------------------------------------------------------------------\u001b[0m",
        "\u001b[0;31mKeyError\u001b[0m                                  Traceback (most recent call last)",
        "\u001b[0;32m~/miniconda3/envs/kmer-hashing/lib/python3.6/site-packages/pandas/core/computation/scope.py\u001b[0m in \u001b[0;36mresolve\u001b[0;34m(self, key, is_local)\u001b[0m\n\u001b[1;32m    180\u001b[0m             \u001b[0;32mif\u001b[0m \u001b[0mself\u001b[0m\u001b[0;34m.\u001b[0m\u001b[0mhas_resolvers\u001b[0m\u001b[0;34m:\u001b[0m\u001b[0;34m\u001b[0m\u001b[0;34m\u001b[0m\u001b[0m\n\u001b[0;32m--> 181\u001b[0;31m                 \u001b[0;32mreturn\u001b[0m \u001b[0mself\u001b[0m\u001b[0;34m.\u001b[0m\u001b[0mresolvers\u001b[0m\u001b[0;34m[\u001b[0m\u001b[0mkey\u001b[0m\u001b[0;34m]\u001b[0m\u001b[0;34m\u001b[0m\u001b[0;34m\u001b[0m\u001b[0m\n\u001b[0m\u001b[1;32m    182\u001b[0m \u001b[0;34m\u001b[0m\u001b[0m\n",
        "\u001b[0;32m~/miniconda3/envs/kmer-hashing/lib/python3.6/collections/__init__.py\u001b[0m in \u001b[0;36m__getitem__\u001b[0;34m(self, key)\u001b[0m\n\u001b[1;32m    882\u001b[0m                 \u001b[0;32mpass\u001b[0m\u001b[0;34m\u001b[0m\u001b[0;34m\u001b[0m\u001b[0m\n\u001b[0;32m--> 883\u001b[0;31m         \u001b[0;32mreturn\u001b[0m \u001b[0mself\u001b[0m\u001b[0;34m.\u001b[0m\u001b[0m__missing__\u001b[0m\u001b[0;34m(\u001b[0m\u001b[0mkey\u001b[0m\u001b[0;34m)\u001b[0m            \u001b[0;31m# support subclasses that define __missing__\u001b[0m\u001b[0;34m\u001b[0m\u001b[0;34m\u001b[0m\u001b[0m\n\u001b[0m\u001b[1;32m    884\u001b[0m \u001b[0;34m\u001b[0m\u001b[0m\n",
        "\u001b[0;32m~/miniconda3/envs/kmer-hashing/lib/python3.6/collections/__init__.py\u001b[0m in \u001b[0;36m__missing__\u001b[0;34m(self, key)\u001b[0m\n\u001b[1;32m    874\u001b[0m     \u001b[0;32mdef\u001b[0m \u001b[0m__missing__\u001b[0m\u001b[0;34m(\u001b[0m\u001b[0mself\u001b[0m\u001b[0;34m,\u001b[0m \u001b[0mkey\u001b[0m\u001b[0;34m)\u001b[0m\u001b[0;34m:\u001b[0m\u001b[0;34m\u001b[0m\u001b[0;34m\u001b[0m\u001b[0m\n\u001b[0;32m--> 875\u001b[0;31m         \u001b[0;32mraise\u001b[0m \u001b[0mKeyError\u001b[0m\u001b[0;34m(\u001b[0m\u001b[0mkey\u001b[0m\u001b[0;34m)\u001b[0m\u001b[0;34m\u001b[0m\u001b[0;34m\u001b[0m\u001b[0m\n\u001b[0m\u001b[1;32m    876\u001b[0m \u001b[0;34m\u001b[0m\u001b[0m\n",
        "\u001b[0;31mKeyError\u001b[0m: 'LibraryLaoyut'",
        "\nDuring handling of the above exception, another exception occurred:\n",
        "\u001b[0;31mKeyError\u001b[0m                                  Traceback (most recent call last)",
        "\u001b[0;32m~/miniconda3/envs/kmer-hashing/lib/python3.6/site-packages/pandas/core/computation/scope.py\u001b[0m in \u001b[0;36mresolve\u001b[0;34m(self, key, is_local)\u001b[0m\n\u001b[1;32m    191\u001b[0m                 \u001b[0;31m# e.g., df[df > 0]\u001b[0m\u001b[0;34m\u001b[0m\u001b[0;34m\u001b[0m\u001b[0;34m\u001b[0m\u001b[0m\n\u001b[0;32m--> 192\u001b[0;31m                 \u001b[0;32mreturn\u001b[0m \u001b[0mself\u001b[0m\u001b[0;34m.\u001b[0m\u001b[0mtemps\u001b[0m\u001b[0;34m[\u001b[0m\u001b[0mkey\u001b[0m\u001b[0;34m]\u001b[0m\u001b[0;34m\u001b[0m\u001b[0;34m\u001b[0m\u001b[0m\n\u001b[0m\u001b[1;32m    193\u001b[0m             \u001b[0;32mexcept\u001b[0m \u001b[0mKeyError\u001b[0m\u001b[0;34m:\u001b[0m\u001b[0;34m\u001b[0m\u001b[0;34m\u001b[0m\u001b[0m\n",
        "\u001b[0;31mKeyError\u001b[0m: 'LibraryLaoyut'",
        "\nDuring handling of the above exception, another exception occurred:\n",
        "\u001b[0;31mUndefinedVariableError\u001b[0m                    Traceback (most recent call last)",
        "\u001b[0;32m<ipython-input-5-117b67a7cb56>\u001b[0m in \u001b[0;36m<module>\u001b[0;34m()\u001b[0m\n\u001b[0;32m----> 1\u001b[0;31m \u001b[0msra_run_table\u001b[0m\u001b[0;34m.\u001b[0m\u001b[0mquery\u001b[0m\u001b[0;34m(\u001b[0m\u001b[0;34m'LibraryLaoyut == \"PAIRED\"'\u001b[0m\u001b[0;34m)\u001b[0m\u001b[0;34m\u001b[0m\u001b[0;34m\u001b[0m\u001b[0m\n\u001b[0m",
        "\u001b[0;32m~/miniconda3/envs/kmer-hashing/lib/python3.6/site-packages/pandas/core/frame.py\u001b[0m in \u001b[0;36mquery\u001b[0;34m(self, expr, inplace, **kwargs)\u001b[0m\n\u001b[1;32m   3086\u001b[0m         \u001b[0mkwargs\u001b[0m\u001b[0;34m[\u001b[0m\u001b[0;34m'level'\u001b[0m\u001b[0;34m]\u001b[0m \u001b[0;34m=\u001b[0m \u001b[0mkwargs\u001b[0m\u001b[0;34m.\u001b[0m\u001b[0mpop\u001b[0m\u001b[0;34m(\u001b[0m\u001b[0;34m'level'\u001b[0m\u001b[0;34m,\u001b[0m \u001b[0;36m0\u001b[0m\u001b[0;34m)\u001b[0m \u001b[0;34m+\u001b[0m \u001b[0;36m1\u001b[0m\u001b[0;34m\u001b[0m\u001b[0;34m\u001b[0m\u001b[0m\n\u001b[1;32m   3087\u001b[0m         \u001b[0mkwargs\u001b[0m\u001b[0;34m[\u001b[0m\u001b[0;34m'target'\u001b[0m\u001b[0;34m]\u001b[0m \u001b[0;34m=\u001b[0m \u001b[0;32mNone\u001b[0m\u001b[0;34m\u001b[0m\u001b[0;34m\u001b[0m\u001b[0m\n\u001b[0;32m-> 3088\u001b[0;31m         \u001b[0mres\u001b[0m \u001b[0;34m=\u001b[0m \u001b[0mself\u001b[0m\u001b[0;34m.\u001b[0m\u001b[0meval\u001b[0m\u001b[0;34m(\u001b[0m\u001b[0mexpr\u001b[0m\u001b[0;34m,\u001b[0m \u001b[0;34m**\u001b[0m\u001b[0mkwargs\u001b[0m\u001b[0;34m)\u001b[0m\u001b[0;34m\u001b[0m\u001b[0;34m\u001b[0m\u001b[0m\n\u001b[0m\u001b[1;32m   3089\u001b[0m \u001b[0;34m\u001b[0m\u001b[0m\n\u001b[1;32m   3090\u001b[0m         \u001b[0;32mtry\u001b[0m\u001b[0;34m:\u001b[0m\u001b[0;34m\u001b[0m\u001b[0;34m\u001b[0m\u001b[0m\n",
        "\u001b[0;32m~/miniconda3/envs/kmer-hashing/lib/python3.6/site-packages/pandas/core/frame.py\u001b[0m in \u001b[0;36meval\u001b[0;34m(self, expr, inplace, **kwargs)\u001b[0m\n\u001b[1;32m   3201\u001b[0m             \u001b[0mkwargs\u001b[0m\u001b[0;34m[\u001b[0m\u001b[0;34m'target'\u001b[0m\u001b[0;34m]\u001b[0m \u001b[0;34m=\u001b[0m \u001b[0mself\u001b[0m\u001b[0;34m\u001b[0m\u001b[0;34m\u001b[0m\u001b[0m\n\u001b[1;32m   3202\u001b[0m         \u001b[0mkwargs\u001b[0m\u001b[0;34m[\u001b[0m\u001b[0;34m'resolvers'\u001b[0m\u001b[0;34m]\u001b[0m \u001b[0;34m=\u001b[0m \u001b[0mkwargs\u001b[0m\u001b[0;34m.\u001b[0m\u001b[0mget\u001b[0m\u001b[0;34m(\u001b[0m\u001b[0;34m'resolvers'\u001b[0m\u001b[0;34m,\u001b[0m \u001b[0;34m(\u001b[0m\u001b[0;34m)\u001b[0m\u001b[0;34m)\u001b[0m \u001b[0;34m+\u001b[0m \u001b[0mtuple\u001b[0m\u001b[0;34m(\u001b[0m\u001b[0mresolvers\u001b[0m\u001b[0;34m)\u001b[0m\u001b[0;34m\u001b[0m\u001b[0;34m\u001b[0m\u001b[0m\n\u001b[0;32m-> 3203\u001b[0;31m         \u001b[0;32mreturn\u001b[0m \u001b[0m_eval\u001b[0m\u001b[0;34m(\u001b[0m\u001b[0mexpr\u001b[0m\u001b[0;34m,\u001b[0m \u001b[0minplace\u001b[0m\u001b[0;34m=\u001b[0m\u001b[0minplace\u001b[0m\u001b[0;34m,\u001b[0m \u001b[0;34m**\u001b[0m\u001b[0mkwargs\u001b[0m\u001b[0;34m)\u001b[0m\u001b[0;34m\u001b[0m\u001b[0;34m\u001b[0m\u001b[0m\n\u001b[0m\u001b[1;32m   3204\u001b[0m \u001b[0;34m\u001b[0m\u001b[0m\n\u001b[1;32m   3205\u001b[0m     \u001b[0;32mdef\u001b[0m \u001b[0mselect_dtypes\u001b[0m\u001b[0;34m(\u001b[0m\u001b[0mself\u001b[0m\u001b[0;34m,\u001b[0m \u001b[0minclude\u001b[0m\u001b[0;34m=\u001b[0m\u001b[0;32mNone\u001b[0m\u001b[0;34m,\u001b[0m \u001b[0mexclude\u001b[0m\u001b[0;34m=\u001b[0m\u001b[0;32mNone\u001b[0m\u001b[0;34m)\u001b[0m\u001b[0;34m:\u001b[0m\u001b[0;34m\u001b[0m\u001b[0;34m\u001b[0m\u001b[0m\n",
        "\u001b[0;32m~/miniconda3/envs/kmer-hashing/lib/python3.6/site-packages/pandas/core/computation/eval.py\u001b[0m in \u001b[0;36meval\u001b[0;34m(expr, parser, engine, truediv, local_dict, global_dict, resolvers, level, target, inplace)\u001b[0m\n\u001b[1;32m    292\u001b[0m \u001b[0;34m\u001b[0m\u001b[0m\n\u001b[1;32m    293\u001b[0m         parsed_expr = Expr(expr, engine=engine, parser=parser, env=env,\n\u001b[0;32m--> 294\u001b[0;31m                            truediv=truediv)\n\u001b[0m\u001b[1;32m    295\u001b[0m \u001b[0;34m\u001b[0m\u001b[0m\n\u001b[1;32m    296\u001b[0m         \u001b[0;31m# construct the engine and evaluate the parsed expression\u001b[0m\u001b[0;34m\u001b[0m\u001b[0;34m\u001b[0m\u001b[0;34m\u001b[0m\u001b[0m\n",
        "\u001b[0;32m~/miniconda3/envs/kmer-hashing/lib/python3.6/site-packages/pandas/core/computation/expr.py\u001b[0m in \u001b[0;36m__init__\u001b[0;34m(self, expr, engine, parser, env, truediv, level)\u001b[0m\n\u001b[1;32m    747\u001b[0m         \u001b[0mself\u001b[0m\u001b[0;34m.\u001b[0m\u001b[0menv\u001b[0m\u001b[0;34m.\u001b[0m\u001b[0mscope\u001b[0m\u001b[0;34m[\u001b[0m\u001b[0;34m'truediv'\u001b[0m\u001b[0;34m]\u001b[0m \u001b[0;34m=\u001b[0m \u001b[0mtruediv\u001b[0m\u001b[0;34m\u001b[0m\u001b[0;34m\u001b[0m\u001b[0m\n\u001b[1;32m    748\u001b[0m         \u001b[0mself\u001b[0m\u001b[0;34m.\u001b[0m\u001b[0m_visitor\u001b[0m \u001b[0;34m=\u001b[0m \u001b[0m_parsers\u001b[0m\u001b[0;34m[\u001b[0m\u001b[0mparser\u001b[0m\u001b[0;34m]\u001b[0m\u001b[0;34m(\u001b[0m\u001b[0mself\u001b[0m\u001b[0;34m.\u001b[0m\u001b[0menv\u001b[0m\u001b[0;34m,\u001b[0m \u001b[0mself\u001b[0m\u001b[0;34m.\u001b[0m\u001b[0mengine\u001b[0m\u001b[0;34m,\u001b[0m \u001b[0mself\u001b[0m\u001b[0;34m.\u001b[0m\u001b[0mparser\u001b[0m\u001b[0;34m)\u001b[0m\u001b[0;34m\u001b[0m\u001b[0;34m\u001b[0m\u001b[0m\n\u001b[0;32m--> 749\u001b[0;31m         \u001b[0mself\u001b[0m\u001b[0;34m.\u001b[0m\u001b[0mterms\u001b[0m \u001b[0;34m=\u001b[0m \u001b[0mself\u001b[0m\u001b[0;34m.\u001b[0m\u001b[0mparse\u001b[0m\u001b[0;34m(\u001b[0m\u001b[0;34m)\u001b[0m\u001b[0;34m\u001b[0m\u001b[0;34m\u001b[0m\u001b[0m\n\u001b[0m\u001b[1;32m    750\u001b[0m \u001b[0;34m\u001b[0m\u001b[0m\n\u001b[1;32m    751\u001b[0m     \u001b[0;34m@\u001b[0m\u001b[0mproperty\u001b[0m\u001b[0;34m\u001b[0m\u001b[0;34m\u001b[0m\u001b[0m\n",
        "\u001b[0;32m~/miniconda3/envs/kmer-hashing/lib/python3.6/site-packages/pandas/core/computation/expr.py\u001b[0m in \u001b[0;36mparse\u001b[0;34m(self)\u001b[0m\n\u001b[1;32m    764\u001b[0m     \u001b[0;32mdef\u001b[0m \u001b[0mparse\u001b[0m\u001b[0;34m(\u001b[0m\u001b[0mself\u001b[0m\u001b[0;34m)\u001b[0m\u001b[0;34m:\u001b[0m\u001b[0;34m\u001b[0m\u001b[0;34m\u001b[0m\u001b[0m\n\u001b[1;32m    765\u001b[0m         \u001b[0;34m\"\"\"Parse an expression\"\"\"\u001b[0m\u001b[0;34m\u001b[0m\u001b[0;34m\u001b[0m\u001b[0m\n\u001b[0;32m--> 766\u001b[0;31m         \u001b[0;32mreturn\u001b[0m \u001b[0mself\u001b[0m\u001b[0;34m.\u001b[0m\u001b[0m_visitor\u001b[0m\u001b[0;34m.\u001b[0m\u001b[0mvisit\u001b[0m\u001b[0;34m(\u001b[0m\u001b[0mself\u001b[0m\u001b[0;34m.\u001b[0m\u001b[0mexpr\u001b[0m\u001b[0;34m)\u001b[0m\u001b[0;34m\u001b[0m\u001b[0;34m\u001b[0m\u001b[0m\n\u001b[0m\u001b[1;32m    767\u001b[0m \u001b[0;34m\u001b[0m\u001b[0m\n\u001b[1;32m    768\u001b[0m     \u001b[0;34m@\u001b[0m\u001b[0mproperty\u001b[0m\u001b[0;34m\u001b[0m\u001b[0;34m\u001b[0m\u001b[0m\n",
        "\u001b[0;32m~/miniconda3/envs/kmer-hashing/lib/python3.6/site-packages/pandas/core/computation/expr.py\u001b[0m in \u001b[0;36mvisit\u001b[0;34m(self, node, **kwargs)\u001b[0m\n\u001b[1;32m    329\u001b[0m         \u001b[0mmethod\u001b[0m \u001b[0;34m=\u001b[0m \u001b[0;34m'visit_'\u001b[0m \u001b[0;34m+\u001b[0m \u001b[0mnode\u001b[0m\u001b[0;34m.\u001b[0m\u001b[0m__class__\u001b[0m\u001b[0;34m.\u001b[0m\u001b[0m__name__\u001b[0m\u001b[0;34m\u001b[0m\u001b[0;34m\u001b[0m\u001b[0m\n\u001b[1;32m    330\u001b[0m         \u001b[0mvisitor\u001b[0m \u001b[0;34m=\u001b[0m \u001b[0mgetattr\u001b[0m\u001b[0;34m(\u001b[0m\u001b[0mself\u001b[0m\u001b[0;34m,\u001b[0m \u001b[0mmethod\u001b[0m\u001b[0;34m)\u001b[0m\u001b[0;34m\u001b[0m\u001b[0;34m\u001b[0m\u001b[0m\n\u001b[0;32m--> 331\u001b[0;31m         \u001b[0;32mreturn\u001b[0m \u001b[0mvisitor\u001b[0m\u001b[0;34m(\u001b[0m\u001b[0mnode\u001b[0m\u001b[0;34m,\u001b[0m \u001b[0;34m**\u001b[0m\u001b[0mkwargs\u001b[0m\u001b[0;34m)\u001b[0m\u001b[0;34m\u001b[0m\u001b[0;34m\u001b[0m\u001b[0m\n\u001b[0m\u001b[1;32m    332\u001b[0m \u001b[0;34m\u001b[0m\u001b[0m\n\u001b[1;32m    333\u001b[0m     \u001b[0;32mdef\u001b[0m \u001b[0mvisit_Module\u001b[0m\u001b[0;34m(\u001b[0m\u001b[0mself\u001b[0m\u001b[0;34m,\u001b[0m \u001b[0mnode\u001b[0m\u001b[0;34m,\u001b[0m \u001b[0;34m**\u001b[0m\u001b[0mkwargs\u001b[0m\u001b[0;34m)\u001b[0m\u001b[0;34m:\u001b[0m\u001b[0;34m\u001b[0m\u001b[0;34m\u001b[0m\u001b[0m\n",
        "\u001b[0;32m~/miniconda3/envs/kmer-hashing/lib/python3.6/site-packages/pandas/core/computation/expr.py\u001b[0m in \u001b[0;36mvisit_Module\u001b[0;34m(self, node, **kwargs)\u001b[0m\n\u001b[1;32m    335\u001b[0m             \u001b[0;32mraise\u001b[0m \u001b[0mSyntaxError\u001b[0m\u001b[0;34m(\u001b[0m\u001b[0;34m'only a single expression is allowed'\u001b[0m\u001b[0;34m)\u001b[0m\u001b[0;34m\u001b[0m\u001b[0;34m\u001b[0m\u001b[0m\n\u001b[1;32m    336\u001b[0m         \u001b[0mexpr\u001b[0m \u001b[0;34m=\u001b[0m \u001b[0mnode\u001b[0m\u001b[0;34m.\u001b[0m\u001b[0mbody\u001b[0m\u001b[0;34m[\u001b[0m\u001b[0;36m0\u001b[0m\u001b[0;34m]\u001b[0m\u001b[0;34m\u001b[0m\u001b[0;34m\u001b[0m\u001b[0m\n\u001b[0;32m--> 337\u001b[0;31m         \u001b[0;32mreturn\u001b[0m \u001b[0mself\u001b[0m\u001b[0;34m.\u001b[0m\u001b[0mvisit\u001b[0m\u001b[0;34m(\u001b[0m\u001b[0mexpr\u001b[0m\u001b[0;34m,\u001b[0m \u001b[0;34m**\u001b[0m\u001b[0mkwargs\u001b[0m\u001b[0;34m)\u001b[0m\u001b[0;34m\u001b[0m\u001b[0;34m\u001b[0m\u001b[0m\n\u001b[0m\u001b[1;32m    338\u001b[0m \u001b[0;34m\u001b[0m\u001b[0m\n\u001b[1;32m    339\u001b[0m     \u001b[0;32mdef\u001b[0m \u001b[0mvisit_Expr\u001b[0m\u001b[0;34m(\u001b[0m\u001b[0mself\u001b[0m\u001b[0;34m,\u001b[0m \u001b[0mnode\u001b[0m\u001b[0;34m,\u001b[0m \u001b[0;34m**\u001b[0m\u001b[0mkwargs\u001b[0m\u001b[0;34m)\u001b[0m\u001b[0;34m:\u001b[0m\u001b[0;34m\u001b[0m\u001b[0;34m\u001b[0m\u001b[0m\n",
        "\u001b[0;32m~/miniconda3/envs/kmer-hashing/lib/python3.6/site-packages/pandas/core/computation/expr.py\u001b[0m in \u001b[0;36mvisit\u001b[0;34m(self, node, **kwargs)\u001b[0m\n\u001b[1;32m    329\u001b[0m         \u001b[0mmethod\u001b[0m \u001b[0;34m=\u001b[0m \u001b[0;34m'visit_'\u001b[0m \u001b[0;34m+\u001b[0m \u001b[0mnode\u001b[0m\u001b[0;34m.\u001b[0m\u001b[0m__class__\u001b[0m\u001b[0;34m.\u001b[0m\u001b[0m__name__\u001b[0m\u001b[0;34m\u001b[0m\u001b[0;34m\u001b[0m\u001b[0m\n\u001b[1;32m    330\u001b[0m         \u001b[0mvisitor\u001b[0m \u001b[0;34m=\u001b[0m \u001b[0mgetattr\u001b[0m\u001b[0;34m(\u001b[0m\u001b[0mself\u001b[0m\u001b[0;34m,\u001b[0m \u001b[0mmethod\u001b[0m\u001b[0;34m)\u001b[0m\u001b[0;34m\u001b[0m\u001b[0;34m\u001b[0m\u001b[0m\n\u001b[0;32m--> 331\u001b[0;31m         \u001b[0;32mreturn\u001b[0m \u001b[0mvisitor\u001b[0m\u001b[0;34m(\u001b[0m\u001b[0mnode\u001b[0m\u001b[0;34m,\u001b[0m \u001b[0;34m**\u001b[0m\u001b[0mkwargs\u001b[0m\u001b[0;34m)\u001b[0m\u001b[0;34m\u001b[0m\u001b[0;34m\u001b[0m\u001b[0m\n\u001b[0m\u001b[1;32m    332\u001b[0m \u001b[0;34m\u001b[0m\u001b[0m\n\u001b[1;32m    333\u001b[0m     \u001b[0;32mdef\u001b[0m \u001b[0mvisit_Module\u001b[0m\u001b[0;34m(\u001b[0m\u001b[0mself\u001b[0m\u001b[0;34m,\u001b[0m \u001b[0mnode\u001b[0m\u001b[0;34m,\u001b[0m \u001b[0;34m**\u001b[0m\u001b[0mkwargs\u001b[0m\u001b[0;34m)\u001b[0m\u001b[0;34m:\u001b[0m\u001b[0;34m\u001b[0m\u001b[0;34m\u001b[0m\u001b[0m\n",
        "\u001b[0;32m~/miniconda3/envs/kmer-hashing/lib/python3.6/site-packages/pandas/core/computation/expr.py\u001b[0m in \u001b[0;36mvisit_Expr\u001b[0;34m(self, node, **kwargs)\u001b[0m\n\u001b[1;32m    338\u001b[0m \u001b[0;34m\u001b[0m\u001b[0m\n\u001b[1;32m    339\u001b[0m     \u001b[0;32mdef\u001b[0m \u001b[0mvisit_Expr\u001b[0m\u001b[0;34m(\u001b[0m\u001b[0mself\u001b[0m\u001b[0;34m,\u001b[0m \u001b[0mnode\u001b[0m\u001b[0;34m,\u001b[0m \u001b[0;34m**\u001b[0m\u001b[0mkwargs\u001b[0m\u001b[0;34m)\u001b[0m\u001b[0;34m:\u001b[0m\u001b[0;34m\u001b[0m\u001b[0;34m\u001b[0m\u001b[0m\n\u001b[0;32m--> 340\u001b[0;31m         \u001b[0;32mreturn\u001b[0m \u001b[0mself\u001b[0m\u001b[0;34m.\u001b[0m\u001b[0mvisit\u001b[0m\u001b[0;34m(\u001b[0m\u001b[0mnode\u001b[0m\u001b[0;34m.\u001b[0m\u001b[0mvalue\u001b[0m\u001b[0;34m,\u001b[0m \u001b[0;34m**\u001b[0m\u001b[0mkwargs\u001b[0m\u001b[0;34m)\u001b[0m\u001b[0;34m\u001b[0m\u001b[0;34m\u001b[0m\u001b[0m\n\u001b[0m\u001b[1;32m    341\u001b[0m \u001b[0;34m\u001b[0m\u001b[0m\n\u001b[1;32m    342\u001b[0m     \u001b[0;32mdef\u001b[0m \u001b[0m_rewrite_membership_op\u001b[0m\u001b[0;34m(\u001b[0m\u001b[0mself\u001b[0m\u001b[0;34m,\u001b[0m \u001b[0mnode\u001b[0m\u001b[0;34m,\u001b[0m \u001b[0mleft\u001b[0m\u001b[0;34m,\u001b[0m \u001b[0mright\u001b[0m\u001b[0;34m)\u001b[0m\u001b[0;34m:\u001b[0m\u001b[0;34m\u001b[0m\u001b[0;34m\u001b[0m\u001b[0m\n",
        "\u001b[0;32m~/miniconda3/envs/kmer-hashing/lib/python3.6/site-packages/pandas/core/computation/expr.py\u001b[0m in \u001b[0;36mvisit\u001b[0;34m(self, node, **kwargs)\u001b[0m\n\u001b[1;32m    329\u001b[0m         \u001b[0mmethod\u001b[0m \u001b[0;34m=\u001b[0m \u001b[0;34m'visit_'\u001b[0m \u001b[0;34m+\u001b[0m \u001b[0mnode\u001b[0m\u001b[0;34m.\u001b[0m\u001b[0m__class__\u001b[0m\u001b[0;34m.\u001b[0m\u001b[0m__name__\u001b[0m\u001b[0;34m\u001b[0m\u001b[0;34m\u001b[0m\u001b[0m\n\u001b[1;32m    330\u001b[0m         \u001b[0mvisitor\u001b[0m \u001b[0;34m=\u001b[0m \u001b[0mgetattr\u001b[0m\u001b[0;34m(\u001b[0m\u001b[0mself\u001b[0m\u001b[0;34m,\u001b[0m \u001b[0mmethod\u001b[0m\u001b[0;34m)\u001b[0m\u001b[0;34m\u001b[0m\u001b[0;34m\u001b[0m\u001b[0m\n\u001b[0;32m--> 331\u001b[0;31m         \u001b[0;32mreturn\u001b[0m \u001b[0mvisitor\u001b[0m\u001b[0;34m(\u001b[0m\u001b[0mnode\u001b[0m\u001b[0;34m,\u001b[0m \u001b[0;34m**\u001b[0m\u001b[0mkwargs\u001b[0m\u001b[0;34m)\u001b[0m\u001b[0;34m\u001b[0m\u001b[0;34m\u001b[0m\u001b[0m\n\u001b[0m\u001b[1;32m    332\u001b[0m \u001b[0;34m\u001b[0m\u001b[0m\n\u001b[1;32m    333\u001b[0m     \u001b[0;32mdef\u001b[0m \u001b[0mvisit_Module\u001b[0m\u001b[0;34m(\u001b[0m\u001b[0mself\u001b[0m\u001b[0;34m,\u001b[0m \u001b[0mnode\u001b[0m\u001b[0;34m,\u001b[0m \u001b[0;34m**\u001b[0m\u001b[0mkwargs\u001b[0m\u001b[0;34m)\u001b[0m\u001b[0;34m:\u001b[0m\u001b[0;34m\u001b[0m\u001b[0;34m\u001b[0m\u001b[0m\n",
        "\u001b[0;32m~/miniconda3/envs/kmer-hashing/lib/python3.6/site-packages/pandas/core/computation/expr.py\u001b[0m in \u001b[0;36mvisit_Compare\u001b[0;34m(self, node, **kwargs)\u001b[0m\n\u001b[1;32m    664\u001b[0m             \u001b[0mop\u001b[0m \u001b[0;34m=\u001b[0m \u001b[0mself\u001b[0m\u001b[0;34m.\u001b[0m\u001b[0mtranslate_In\u001b[0m\u001b[0;34m(\u001b[0m\u001b[0mops\u001b[0m\u001b[0;34m[\u001b[0m\u001b[0;36m0\u001b[0m\u001b[0;34m]\u001b[0m\u001b[0;34m)\u001b[0m\u001b[0;34m\u001b[0m\u001b[0;34m\u001b[0m\u001b[0m\n\u001b[1;32m    665\u001b[0m             \u001b[0mbinop\u001b[0m \u001b[0;34m=\u001b[0m \u001b[0mast\u001b[0m\u001b[0;34m.\u001b[0m\u001b[0mBinOp\u001b[0m\u001b[0;34m(\u001b[0m\u001b[0mop\u001b[0m\u001b[0;34m=\u001b[0m\u001b[0mop\u001b[0m\u001b[0;34m,\u001b[0m \u001b[0mleft\u001b[0m\u001b[0;34m=\u001b[0m\u001b[0mnode\u001b[0m\u001b[0;34m.\u001b[0m\u001b[0mleft\u001b[0m\u001b[0;34m,\u001b[0m \u001b[0mright\u001b[0m\u001b[0;34m=\u001b[0m\u001b[0mcomps\u001b[0m\u001b[0;34m[\u001b[0m\u001b[0;36m0\u001b[0m\u001b[0;34m]\u001b[0m\u001b[0;34m)\u001b[0m\u001b[0;34m\u001b[0m\u001b[0;34m\u001b[0m\u001b[0m\n\u001b[0;32m--> 666\u001b[0;31m             \u001b[0;32mreturn\u001b[0m \u001b[0mself\u001b[0m\u001b[0;34m.\u001b[0m\u001b[0mvisit\u001b[0m\u001b[0;34m(\u001b[0m\u001b[0mbinop\u001b[0m\u001b[0;34m)\u001b[0m\u001b[0;34m\u001b[0m\u001b[0;34m\u001b[0m\u001b[0m\n\u001b[0m\u001b[1;32m    667\u001b[0m \u001b[0;34m\u001b[0m\u001b[0m\n\u001b[1;32m    668\u001b[0m         \u001b[0;31m# recursive case: we have a chained comparison, a CMP b CMP c, etc.\u001b[0m\u001b[0;34m\u001b[0m\u001b[0;34m\u001b[0m\u001b[0;34m\u001b[0m\u001b[0m\n",
        "\u001b[0;32m~/miniconda3/envs/kmer-hashing/lib/python3.6/site-packages/pandas/core/computation/expr.py\u001b[0m in \u001b[0;36mvisit\u001b[0;34m(self, node, **kwargs)\u001b[0m\n\u001b[1;32m    329\u001b[0m         \u001b[0mmethod\u001b[0m \u001b[0;34m=\u001b[0m \u001b[0;34m'visit_'\u001b[0m \u001b[0;34m+\u001b[0m \u001b[0mnode\u001b[0m\u001b[0;34m.\u001b[0m\u001b[0m__class__\u001b[0m\u001b[0;34m.\u001b[0m\u001b[0m__name__\u001b[0m\u001b[0;34m\u001b[0m\u001b[0;34m\u001b[0m\u001b[0m\n\u001b[1;32m    330\u001b[0m         \u001b[0mvisitor\u001b[0m \u001b[0;34m=\u001b[0m \u001b[0mgetattr\u001b[0m\u001b[0;34m(\u001b[0m\u001b[0mself\u001b[0m\u001b[0;34m,\u001b[0m \u001b[0mmethod\u001b[0m\u001b[0;34m)\u001b[0m\u001b[0;34m\u001b[0m\u001b[0;34m\u001b[0m\u001b[0m\n\u001b[0;32m--> 331\u001b[0;31m         \u001b[0;32mreturn\u001b[0m \u001b[0mvisitor\u001b[0m\u001b[0;34m(\u001b[0m\u001b[0mnode\u001b[0m\u001b[0;34m,\u001b[0m \u001b[0;34m**\u001b[0m\u001b[0mkwargs\u001b[0m\u001b[0;34m)\u001b[0m\u001b[0;34m\u001b[0m\u001b[0;34m\u001b[0m\u001b[0m\n\u001b[0m\u001b[1;32m    332\u001b[0m \u001b[0;34m\u001b[0m\u001b[0m\n\u001b[1;32m    333\u001b[0m     \u001b[0;32mdef\u001b[0m \u001b[0mvisit_Module\u001b[0m\u001b[0;34m(\u001b[0m\u001b[0mself\u001b[0m\u001b[0;34m,\u001b[0m \u001b[0mnode\u001b[0m\u001b[0;34m,\u001b[0m \u001b[0;34m**\u001b[0m\u001b[0mkwargs\u001b[0m\u001b[0;34m)\u001b[0m\u001b[0;34m:\u001b[0m\u001b[0;34m\u001b[0m\u001b[0;34m\u001b[0m\u001b[0m\n",
        "\u001b[0;32m~/miniconda3/envs/kmer-hashing/lib/python3.6/site-packages/pandas/core/computation/expr.py\u001b[0m in \u001b[0;36mvisit_BinOp\u001b[0;34m(self, node, **kwargs)\u001b[0m\n\u001b[1;32m    433\u001b[0m \u001b[0;34m\u001b[0m\u001b[0m\n\u001b[1;32m    434\u001b[0m     \u001b[0;32mdef\u001b[0m \u001b[0mvisit_BinOp\u001b[0m\u001b[0;34m(\u001b[0m\u001b[0mself\u001b[0m\u001b[0;34m,\u001b[0m \u001b[0mnode\u001b[0m\u001b[0;34m,\u001b[0m \u001b[0;34m**\u001b[0m\u001b[0mkwargs\u001b[0m\u001b[0;34m)\u001b[0m\u001b[0;34m:\u001b[0m\u001b[0;34m\u001b[0m\u001b[0;34m\u001b[0m\u001b[0m\n\u001b[0;32m--> 435\u001b[0;31m         \u001b[0mop\u001b[0m\u001b[0;34m,\u001b[0m \u001b[0mop_class\u001b[0m\u001b[0;34m,\u001b[0m \u001b[0mleft\u001b[0m\u001b[0;34m,\u001b[0m \u001b[0mright\u001b[0m \u001b[0;34m=\u001b[0m \u001b[0mself\u001b[0m\u001b[0;34m.\u001b[0m\u001b[0m_maybe_transform_eq_ne\u001b[0m\u001b[0;34m(\u001b[0m\u001b[0mnode\u001b[0m\u001b[0;34m)\u001b[0m\u001b[0;34m\u001b[0m\u001b[0;34m\u001b[0m\u001b[0m\n\u001b[0m\u001b[1;32m    436\u001b[0m         \u001b[0mleft\u001b[0m\u001b[0;34m,\u001b[0m \u001b[0mright\u001b[0m \u001b[0;34m=\u001b[0m \u001b[0mself\u001b[0m\u001b[0;34m.\u001b[0m\u001b[0m_maybe_downcast_constants\u001b[0m\u001b[0;34m(\u001b[0m\u001b[0mleft\u001b[0m\u001b[0;34m,\u001b[0m \u001b[0mright\u001b[0m\u001b[0;34m)\u001b[0m\u001b[0;34m\u001b[0m\u001b[0;34m\u001b[0m\u001b[0m\n\u001b[1;32m    437\u001b[0m         \u001b[0;32mreturn\u001b[0m \u001b[0mself\u001b[0m\u001b[0;34m.\u001b[0m\u001b[0m_maybe_evaluate_binop\u001b[0m\u001b[0;34m(\u001b[0m\u001b[0mop\u001b[0m\u001b[0;34m,\u001b[0m \u001b[0mop_class\u001b[0m\u001b[0;34m,\u001b[0m \u001b[0mleft\u001b[0m\u001b[0;34m,\u001b[0m \u001b[0mright\u001b[0m\u001b[0;34m)\u001b[0m\u001b[0;34m\u001b[0m\u001b[0;34m\u001b[0m\u001b[0m\n",
        "\u001b[0;32m~/miniconda3/envs/kmer-hashing/lib/python3.6/site-packages/pandas/core/computation/expr.py\u001b[0m in \u001b[0;36m_maybe_transform_eq_ne\u001b[0;34m(self, node, left, right)\u001b[0m\n\u001b[1;32m    370\u001b[0m     \u001b[0;32mdef\u001b[0m \u001b[0m_maybe_transform_eq_ne\u001b[0m\u001b[0;34m(\u001b[0m\u001b[0mself\u001b[0m\u001b[0;34m,\u001b[0m \u001b[0mnode\u001b[0m\u001b[0;34m,\u001b[0m \u001b[0mleft\u001b[0m\u001b[0;34m=\u001b[0m\u001b[0;32mNone\u001b[0m\u001b[0;34m,\u001b[0m \u001b[0mright\u001b[0m\u001b[0;34m=\u001b[0m\u001b[0;32mNone\u001b[0m\u001b[0;34m)\u001b[0m\u001b[0;34m:\u001b[0m\u001b[0;34m\u001b[0m\u001b[0;34m\u001b[0m\u001b[0m\n\u001b[1;32m    371\u001b[0m         \u001b[0;32mif\u001b[0m \u001b[0mleft\u001b[0m \u001b[0;32mis\u001b[0m \u001b[0;32mNone\u001b[0m\u001b[0;34m:\u001b[0m\u001b[0;34m\u001b[0m\u001b[0;34m\u001b[0m\u001b[0m\n\u001b[0;32m--> 372\u001b[0;31m             \u001b[0mleft\u001b[0m \u001b[0;34m=\u001b[0m \u001b[0mself\u001b[0m\u001b[0;34m.\u001b[0m\u001b[0mvisit\u001b[0m\u001b[0;34m(\u001b[0m\u001b[0mnode\u001b[0m\u001b[0;34m.\u001b[0m\u001b[0mleft\u001b[0m\u001b[0;34m,\u001b[0m \u001b[0mside\u001b[0m\u001b[0;34m=\u001b[0m\u001b[0;34m'left'\u001b[0m\u001b[0;34m)\u001b[0m\u001b[0;34m\u001b[0m\u001b[0;34m\u001b[0m\u001b[0m\n\u001b[0m\u001b[1;32m    373\u001b[0m         \u001b[0;32mif\u001b[0m \u001b[0mright\u001b[0m \u001b[0;32mis\u001b[0m \u001b[0;32mNone\u001b[0m\u001b[0;34m:\u001b[0m\u001b[0;34m\u001b[0m\u001b[0;34m\u001b[0m\u001b[0m\n\u001b[1;32m    374\u001b[0m             \u001b[0mright\u001b[0m \u001b[0;34m=\u001b[0m \u001b[0mself\u001b[0m\u001b[0;34m.\u001b[0m\u001b[0mvisit\u001b[0m\u001b[0;34m(\u001b[0m\u001b[0mnode\u001b[0m\u001b[0;34m.\u001b[0m\u001b[0mright\u001b[0m\u001b[0;34m,\u001b[0m \u001b[0mside\u001b[0m\u001b[0;34m=\u001b[0m\u001b[0;34m'right'\u001b[0m\u001b[0;34m)\u001b[0m\u001b[0;34m\u001b[0m\u001b[0;34m\u001b[0m\u001b[0m\n",
        "\u001b[0;32m~/miniconda3/envs/kmer-hashing/lib/python3.6/site-packages/pandas/core/computation/expr.py\u001b[0m in \u001b[0;36mvisit\u001b[0;34m(self, node, **kwargs)\u001b[0m\n\u001b[1;32m    329\u001b[0m         \u001b[0mmethod\u001b[0m \u001b[0;34m=\u001b[0m \u001b[0;34m'visit_'\u001b[0m \u001b[0;34m+\u001b[0m \u001b[0mnode\u001b[0m\u001b[0;34m.\u001b[0m\u001b[0m__class__\u001b[0m\u001b[0;34m.\u001b[0m\u001b[0m__name__\u001b[0m\u001b[0;34m\u001b[0m\u001b[0;34m\u001b[0m\u001b[0m\n\u001b[1;32m    330\u001b[0m         \u001b[0mvisitor\u001b[0m \u001b[0;34m=\u001b[0m \u001b[0mgetattr\u001b[0m\u001b[0;34m(\u001b[0m\u001b[0mself\u001b[0m\u001b[0;34m,\u001b[0m \u001b[0mmethod\u001b[0m\u001b[0;34m)\u001b[0m\u001b[0;34m\u001b[0m\u001b[0;34m\u001b[0m\u001b[0m\n\u001b[0;32m--> 331\u001b[0;31m         \u001b[0;32mreturn\u001b[0m \u001b[0mvisitor\u001b[0m\u001b[0;34m(\u001b[0m\u001b[0mnode\u001b[0m\u001b[0;34m,\u001b[0m \u001b[0;34m**\u001b[0m\u001b[0mkwargs\u001b[0m\u001b[0;34m)\u001b[0m\u001b[0;34m\u001b[0m\u001b[0;34m\u001b[0m\u001b[0m\n\u001b[0m\u001b[1;32m    332\u001b[0m \u001b[0;34m\u001b[0m\u001b[0m\n\u001b[1;32m    333\u001b[0m     \u001b[0;32mdef\u001b[0m \u001b[0mvisit_Module\u001b[0m\u001b[0;34m(\u001b[0m\u001b[0mself\u001b[0m\u001b[0;34m,\u001b[0m \u001b[0mnode\u001b[0m\u001b[0;34m,\u001b[0m \u001b[0;34m**\u001b[0m\u001b[0mkwargs\u001b[0m\u001b[0;34m)\u001b[0m\u001b[0;34m:\u001b[0m\u001b[0;34m\u001b[0m\u001b[0;34m\u001b[0m\u001b[0m\n",
        "\u001b[0;32m~/miniconda3/envs/kmer-hashing/lib/python3.6/site-packages/pandas/core/computation/expr.py\u001b[0m in \u001b[0;36mvisit_Name\u001b[0;34m(self, node, **kwargs)\u001b[0m\n\u001b[1;32m    447\u001b[0m \u001b[0;34m\u001b[0m\u001b[0m\n\u001b[1;32m    448\u001b[0m     \u001b[0;32mdef\u001b[0m \u001b[0mvisit_Name\u001b[0m\u001b[0;34m(\u001b[0m\u001b[0mself\u001b[0m\u001b[0;34m,\u001b[0m \u001b[0mnode\u001b[0m\u001b[0;34m,\u001b[0m \u001b[0;34m**\u001b[0m\u001b[0mkwargs\u001b[0m\u001b[0;34m)\u001b[0m\u001b[0;34m:\u001b[0m\u001b[0;34m\u001b[0m\u001b[0;34m\u001b[0m\u001b[0m\n\u001b[0;32m--> 449\u001b[0;31m         \u001b[0;32mreturn\u001b[0m \u001b[0mself\u001b[0m\u001b[0;34m.\u001b[0m\u001b[0mterm_type\u001b[0m\u001b[0;34m(\u001b[0m\u001b[0mnode\u001b[0m\u001b[0;34m.\u001b[0m\u001b[0mid\u001b[0m\u001b[0;34m,\u001b[0m \u001b[0mself\u001b[0m\u001b[0;34m.\u001b[0m\u001b[0menv\u001b[0m\u001b[0;34m,\u001b[0m \u001b[0;34m**\u001b[0m\u001b[0mkwargs\u001b[0m\u001b[0;34m)\u001b[0m\u001b[0;34m\u001b[0m\u001b[0;34m\u001b[0m\u001b[0m\n\u001b[0m\u001b[1;32m    450\u001b[0m \u001b[0;34m\u001b[0m\u001b[0m\n\u001b[1;32m    451\u001b[0m     \u001b[0;32mdef\u001b[0m \u001b[0mvisit_NameConstant\u001b[0m\u001b[0;34m(\u001b[0m\u001b[0mself\u001b[0m\u001b[0;34m,\u001b[0m \u001b[0mnode\u001b[0m\u001b[0;34m,\u001b[0m \u001b[0;34m**\u001b[0m\u001b[0mkwargs\u001b[0m\u001b[0;34m)\u001b[0m\u001b[0;34m:\u001b[0m\u001b[0;34m\u001b[0m\u001b[0;34m\u001b[0m\u001b[0m\n",
        "\u001b[0;32m~/miniconda3/envs/kmer-hashing/lib/python3.6/site-packages/pandas/core/computation/ops.py\u001b[0m in \u001b[0;36m__init__\u001b[0;34m(self, name, env, side, encoding)\u001b[0m\n\u001b[1;32m     62\u001b[0m         self.is_local = (tname.startswith(_LOCAL_TAG) or\n\u001b[1;32m     63\u001b[0m                          tname in _DEFAULT_GLOBALS)\n\u001b[0;32m---> 64\u001b[0;31m         \u001b[0mself\u001b[0m\u001b[0;34m.\u001b[0m\u001b[0m_value\u001b[0m \u001b[0;34m=\u001b[0m \u001b[0mself\u001b[0m\u001b[0;34m.\u001b[0m\u001b[0m_resolve_name\u001b[0m\u001b[0;34m(\u001b[0m\u001b[0;34m)\u001b[0m\u001b[0;34m\u001b[0m\u001b[0;34m\u001b[0m\u001b[0m\n\u001b[0m\u001b[1;32m     65\u001b[0m         \u001b[0mself\u001b[0m\u001b[0;34m.\u001b[0m\u001b[0mencoding\u001b[0m \u001b[0;34m=\u001b[0m \u001b[0mencoding\u001b[0m\u001b[0;34m\u001b[0m\u001b[0;34m\u001b[0m\u001b[0m\n\u001b[1;32m     66\u001b[0m \u001b[0;34m\u001b[0m\u001b[0m\n",
        "\u001b[0;32m~/miniconda3/envs/kmer-hashing/lib/python3.6/site-packages/pandas/core/computation/ops.py\u001b[0m in \u001b[0;36m_resolve_name\u001b[0;34m(self)\u001b[0m\n\u001b[1;32m     79\u001b[0m \u001b[0;34m\u001b[0m\u001b[0m\n\u001b[1;32m     80\u001b[0m     \u001b[0;32mdef\u001b[0m \u001b[0m_resolve_name\u001b[0m\u001b[0;34m(\u001b[0m\u001b[0mself\u001b[0m\u001b[0;34m)\u001b[0m\u001b[0;34m:\u001b[0m\u001b[0;34m\u001b[0m\u001b[0;34m\u001b[0m\u001b[0m\n\u001b[0;32m---> 81\u001b[0;31m         \u001b[0mres\u001b[0m \u001b[0;34m=\u001b[0m \u001b[0mself\u001b[0m\u001b[0;34m.\u001b[0m\u001b[0menv\u001b[0m\u001b[0;34m.\u001b[0m\u001b[0mresolve\u001b[0m\u001b[0;34m(\u001b[0m\u001b[0mself\u001b[0m\u001b[0;34m.\u001b[0m\u001b[0mlocal_name\u001b[0m\u001b[0;34m,\u001b[0m \u001b[0mis_local\u001b[0m\u001b[0;34m=\u001b[0m\u001b[0mself\u001b[0m\u001b[0;34m.\u001b[0m\u001b[0mis_local\u001b[0m\u001b[0;34m)\u001b[0m\u001b[0;34m\u001b[0m\u001b[0;34m\u001b[0m\u001b[0m\n\u001b[0m\u001b[1;32m     82\u001b[0m         \u001b[0mself\u001b[0m\u001b[0;34m.\u001b[0m\u001b[0mupdate\u001b[0m\u001b[0;34m(\u001b[0m\u001b[0mres\u001b[0m\u001b[0;34m)\u001b[0m\u001b[0;34m\u001b[0m\u001b[0;34m\u001b[0m\u001b[0m\n\u001b[1;32m     83\u001b[0m \u001b[0;34m\u001b[0m\u001b[0m\n",
        "\u001b[0;32m~/miniconda3/envs/kmer-hashing/lib/python3.6/site-packages/pandas/core/computation/scope.py\u001b[0m in \u001b[0;36mresolve\u001b[0;34m(self, key, is_local)\u001b[0m\n\u001b[1;32m    192\u001b[0m                 \u001b[0;32mreturn\u001b[0m \u001b[0mself\u001b[0m\u001b[0;34m.\u001b[0m\u001b[0mtemps\u001b[0m\u001b[0;34m[\u001b[0m\u001b[0mkey\u001b[0m\u001b[0;34m]\u001b[0m\u001b[0;34m\u001b[0m\u001b[0;34m\u001b[0m\u001b[0m\n\u001b[1;32m    193\u001b[0m             \u001b[0;32mexcept\u001b[0m \u001b[0mKeyError\u001b[0m\u001b[0;34m:\u001b[0m\u001b[0;34m\u001b[0m\u001b[0;34m\u001b[0m\u001b[0m\n\u001b[0;32m--> 194\u001b[0;31m                 \u001b[0;32mraise\u001b[0m \u001b[0mcompu\u001b[0m\u001b[0;34m.\u001b[0m\u001b[0mops\u001b[0m\u001b[0;34m.\u001b[0m\u001b[0mUndefinedVariableError\u001b[0m\u001b[0;34m(\u001b[0m\u001b[0mkey\u001b[0m\u001b[0;34m,\u001b[0m \u001b[0mis_local\u001b[0m\u001b[0;34m)\u001b[0m\u001b[0;34m\u001b[0m\u001b[0;34m\u001b[0m\u001b[0m\n\u001b[0m\u001b[1;32m    195\u001b[0m \u001b[0;34m\u001b[0m\u001b[0m\n\u001b[1;32m    196\u001b[0m     \u001b[0;32mdef\u001b[0m \u001b[0mswapkey\u001b[0m\u001b[0;34m(\u001b[0m\u001b[0mself\u001b[0m\u001b[0;34m,\u001b[0m \u001b[0mold_key\u001b[0m\u001b[0;34m,\u001b[0m \u001b[0mnew_key\u001b[0m\u001b[0;34m,\u001b[0m \u001b[0mnew_value\u001b[0m\u001b[0;34m=\u001b[0m\u001b[0;32mNone\u001b[0m\u001b[0;34m)\u001b[0m\u001b[0;34m:\u001b[0m\u001b[0;34m\u001b[0m\u001b[0;34m\u001b[0m\u001b[0m\n",
        "\u001b[0;31mUndefinedVariableError\u001b[0m: name 'LibraryLaoyut' is not defined"
       ]
      }
     ],
     "persistentId": "fb3a14fd-d0cf-4dce-9cf3-1f13c3f4693d",
     "text": "sra_run_table.query('LibraryLaoyut == \"PAIRED\"')"
    },
    "executionTime": "2019-11-05T15:29:43.479Z"
   },
   {
    "cell": {
     "executionCount": 6,
     "executionEventId": "0ddb0669-2d4e-4bd2-a484-59d8191db7b1",
     "hasError": false,
     "id": "cdf80de8-8721-4163-aff3-ac4f55880e06",
     "outputs": [
      {
       "data": {
        "text/html": "<div>\n<style scoped>\n    .dataframe tbody tr th:only-of-type {\n        vertical-align: middle;\n    }\n\n    .dataframe tbody tr th {\n        vertical-align: top;\n    }\n\n    .dataframe thead th {\n        text-align: right;\n    }\n</style>\n<table border=\"1\" class=\"dataframe\">\n  <thead>\n    <tr style=\"text-align: right;\">\n      <th></th>\n      <th>Run</th>\n      <th>Assay Type</th>\n      <th>AvgSpotLen</th>\n      <th>BioProject</th>\n      <th>BioSample</th>\n      <th>Center Name</th>\n      <th>Consent</th>\n      <th>DATASTORE filetype</th>\n      <th>DATASTORE provider</th>\n      <th>DATASTORE region</th>\n      <th>Experiment</th>\n      <th>GEO_Accession</th>\n      <th>Instrument</th>\n      <th>Library Name</th>\n      <th>LibraryLayout</th>\n      <th>LibrarySelection</th>\n      <th>LibrarySource</th>\n      <th>MBases</th>\n      <th>MBytes</th>\n      <th>Organism</th>\n      <th>Platform</th>\n      <th>ReleaseDate</th>\n      <th>sample_acc</th>\n      <th>Sample Name</th>\n      <th>source_name</th>\n      <th>SRA Study</th>\n      <th>tissue_source</th>\n      <th>gender</th>\n      <th>rin</th>\n      <th>Age</th>\n      <th>Extraction</th>\n      <th>sex</th>\n    </tr>\n  </thead>\n  <tbody>\n    <tr>\n      <th>68</th>\n      <td>SRR306779</td>\n      <td>RNA-Seq</td>\n      <td>202</td>\n      <td>PRJNA143627</td>\n      <td>SAMN00632174</td>\n      <td>GEO</td>\n      <td>public</td>\n      <td>sra</td>\n      <td>gs,ncbi,s3</td>\n      <td>gs.US,ncbi.public,s3.us-east-1</td>\n      <td>SRX081924</td>\n      <td>GSM752633</td>\n      <td>Illumina Genome Analyzer IIx</td>\n      <td>GSM752633: mml br M 2</td>\n      <td>PAIRED</td>\n      <td>cDNA</td>\n      <td>TRANSCRIPTOMIC</td>\n      <td>4335</td>\n      <td>3296</td>\n      <td>Macaca mulatta</td>\n      <td>ILLUMINA</td>\n      <td>2011-10-14T00:00:00Z</td>\n      <td>SRS214016</td>\n      <td>GSM752633</td>\n      <td>Brain\\, prefrontal cortex</td>\n      <td>SRP007412</td>\n      <td>Deutsches Primatenzentrum, Germany</td>\n      <td>male</td>\n      <td>8.9</td>\n      <td>7 years</td>\n      <td>RNeasy</td>\n      <td>NaN</td>\n    </tr>\n    <tr>\n      <th>81</th>\n      <td>SRR306792</td>\n      <td>RNA-Seq</td>\n      <td>202</td>\n      <td>PRJNA143627</td>\n      <td>SAMN00632186</td>\n      <td>GEO</td>\n      <td>public</td>\n      <td>sra</td>\n      <td>gs,ncbi,s3</td>\n      <td>gs.US,ncbi.public,s3.us-east-1</td>\n      <td>SRX081936</td>\n      <td>GSM752645</td>\n      <td>Illumina Genome Analyzer IIx</td>\n      <td>GSM752645: ppy br M 1</td>\n      <td>PAIRED</td>\n      <td>cDNA</td>\n      <td>TRANSCRIPTOMIC</td>\n      <td>3570</td>\n      <td>2713</td>\n      <td>Pongo pygmaeus</td>\n      <td>ILLUMINA</td>\n      <td>2011-10-14T00:00:00Z</td>\n      <td>SRS214028</td>\n      <td>GSM752645</td>\n      <td>Brain\\, prefrontal cortex</td>\n      <td>SRP007412</td>\n      <td>National Veterinary Institute, Uppsala, Sweden</td>\n      <td>male</td>\n      <td>8.2</td>\n      <td>16 years</td>\n      <td>RNeasy</td>\n      <td>NaN</td>\n    </tr>\n    <tr>\n      <th>90</th>\n      <td>SRR306801</td>\n      <td>RNA-Seq</td>\n      <td>202</td>\n      <td>PRJNA143627</td>\n      <td>SAMN00632195</td>\n      <td>GEO</td>\n      <td>public</td>\n      <td>sra</td>\n      <td>gs,ncbi,s3</td>\n      <td>gs.US,ncbi.public,s3.us-east-1</td>\n      <td>SRX081945</td>\n      <td>GSM752654</td>\n      <td>Illumina Genome Analyzer IIx</td>\n      <td>GSM752654: ggo br M 1</td>\n      <td>PAIRED</td>\n      <td>cDNA</td>\n      <td>TRANSCRIPTOMIC</td>\n      <td>3283</td>\n      <td>2496</td>\n      <td>Gorilla gorilla</td>\n      <td>ILLUMINA</td>\n      <td>2011-10-14T00:00:00Z</td>\n      <td>SRS214037</td>\n      <td>GSM752654</td>\n      <td>Brain\\, prefrontal cortex</td>\n      <td>SRP007412</td>\n      <td>Zoo Frankfurt, Germany</td>\n      <td>NaN</td>\n      <td>7.9</td>\n      <td>51 years</td>\n      <td>RNeasy</td>\n      <td>Female (note: this sample was originally provi...</td>\n    </tr>\n    <tr>\n      <th>100</th>\n      <td>SRR306812</td>\n      <td>RNA-Seq</td>\n      <td>202</td>\n      <td>PRJNA143627</td>\n      <td>SAMN00632206</td>\n      <td>GEO</td>\n      <td>public</td>\n      <td>sra</td>\n      <td>gs,ncbi,s3</td>\n      <td>gs.US,ncbi.public,s3.us-east-1</td>\n      <td>SRX081956</td>\n      <td>GSM752665</td>\n      <td>Illumina Genome Analyzer IIx</td>\n      <td>GSM752665: ptr br M 1</td>\n      <td>PAIRED</td>\n      <td>cDNA</td>\n      <td>TRANSCRIPTOMIC</td>\n      <td>2817</td>\n      <td>2140</td>\n      <td>Pan troglodytes</td>\n      <td>ILLUMINA</td>\n      <td>2011-10-14T00:00:00Z</td>\n      <td>SRS214048</td>\n      <td>GSM752665</td>\n      <td>Brain\\, prefrontal cortex</td>\n      <td>SRP007412</td>\n      <td>Biomedical Primate Research Center, Netherland...</td>\n      <td>male</td>\n      <td>7.8</td>\n      <td>12.3 years</td>\n      <td>RNeasy</td>\n      <td>NaN</td>\n    </tr>\n    <tr>\n      <th>101</th>\n      <td>SRR306813</td>\n      <td>RNA-Seq</td>\n      <td>202</td>\n      <td>PRJNA143627</td>\n      <td>SAMN00632207</td>\n      <td>GEO</td>\n      <td>public</td>\n      <td>sra</td>\n      <td>gs,ncbi,s3</td>\n      <td>gs.US,ncbi.public,s3.us-east-1</td>\n      <td>SRX081957</td>\n      <td>GSM752666</td>\n      <td>Illumina Genome Analyzer IIx</td>\n      <td>GSM752666: ptr br M 2</td>\n      <td>PAIRED</td>\n      <td>cDNA</td>\n      <td>TRANSCRIPTOMIC</td>\n      <td>4122</td>\n      <td>3178</td>\n      <td>Pan troglodytes</td>\n      <td>ILLUMINA</td>\n      <td>2011-10-14T00:00:00Z</td>\n      <td>SRS214049</td>\n      <td>GSM752666</td>\n      <td>Brain\\, prefrontal cortex</td>\n      <td>SRP007412</td>\n      <td>Zoo Zurich, Switzerland</td>\n      <td>male</td>\n      <td>6.7</td>\n      <td>35 years</td>\n      <td>RNeasy</td>\n      <td>NaN</td>\n    </tr>\n    <tr>\n      <th>102</th>\n      <td>SRR306814</td>\n      <td>RNA-Seq</td>\n      <td>202</td>\n      <td>PRJNA143627</td>\n      <td>SAMN00632208</td>\n      <td>GEO</td>\n      <td>public</td>\n      <td>sra</td>\n      <td>gs,ncbi,s3</td>\n      <td>gs.US,ncbi.public,s3.us-east-1</td>\n      <td>SRX081958</td>\n      <td>GSM752667</td>\n      <td>Illumina Genome Analyzer IIx</td>\n      <td>GSM752667: ptr br M 3</td>\n      <td>PAIRED</td>\n      <td>cDNA</td>\n      <td>TRANSCRIPTOMIC</td>\n      <td>3513</td>\n      <td>2609</td>\n      <td>Pan troglodytes</td>\n      <td>ILLUMINA</td>\n      <td>2011-10-14T00:00:00Z</td>\n      <td>SRS214050</td>\n      <td>GSM752667</td>\n      <td>Brain\\, prefrontal cortex</td>\n      <td>SRP007412</td>\n      <td>Biomedical Primate Research Center, Netherland...</td>\n      <td>male</td>\n      <td>7.5</td>\n      <td>12.1 years</td>\n      <td>RNeasy</td>\n      <td>NaN</td>\n    </tr>\n    <tr>\n      <th>103</th>\n      <td>SRR306815</td>\n      <td>RNA-Seq</td>\n      <td>202</td>\n      <td>PRJNA143627</td>\n      <td>SAMN00632209</td>\n      <td>GEO</td>\n      <td>public</td>\n      <td>sra</td>\n      <td>gs,ncbi,s3</td>\n      <td>gs.US,ncbi.public,s3.us-east-1</td>\n      <td>SRX081959</td>\n      <td>GSM752668</td>\n      <td>Illumina Genome Analyzer IIx</td>\n      <td>GSM752668: ptr br M 4</td>\n      <td>PAIRED</td>\n      <td>cDNA</td>\n      <td>TRANSCRIPTOMIC</td>\n      <td>4491</td>\n      <td>3403</td>\n      <td>Pan troglodytes</td>\n      <td>ILLUMINA</td>\n      <td>2011-10-14T00:00:00Z</td>\n      <td>SRS214051</td>\n      <td>GSM752668</td>\n      <td>Brain\\, prefrontal cortex</td>\n      <td>SRP007412</td>\n      <td>Biomedical Primate Research Center, Netherland...</td>\n      <td>male</td>\n      <td>7.4</td>\n      <td>6.7 years</td>\n      <td>RNeasy</td>\n      <td>NaN</td>\n    </tr>\n    <tr>\n      <th>104</th>\n      <td>SRR306816</td>\n      <td>RNA-Seq</td>\n      <td>202</td>\n      <td>PRJNA143627</td>\n      <td>SAMN00632210</td>\n      <td>GEO</td>\n      <td>public</td>\n      <td>sra</td>\n      <td>gs,ncbi,s3</td>\n      <td>gs.US,ncbi.public,s3.us-east-1</td>\n      <td>SRX081960</td>\n      <td>GSM752669</td>\n      <td>Illumina Genome Analyzer IIx</td>\n      <td>GSM752669: ptr br M 5</td>\n      <td>PAIRED</td>\n      <td>cDNA</td>\n      <td>TRANSCRIPTOMIC</td>\n      <td>4710</td>\n      <td>3512</td>\n      <td>Pan troglodytes</td>\n      <td>ILLUMINA</td>\n      <td>2011-10-14T00:00:00Z</td>\n      <td>SRS214052</td>\n      <td>GSM752669</td>\n      <td>Brain\\, prefrontal cortex</td>\n      <td>SRP007412</td>\n      <td>Biomedical Primate Research Center, Netherland...</td>\n      <td>male</td>\n      <td>7.9</td>\n      <td>12 years</td>\n      <td>RNeasy</td>\n      <td>NaN</td>\n    </tr>\n    <tr>\n      <th>114</th>\n      <td>SRR306826</td>\n      <td>RNA-Seq</td>\n      <td>202</td>\n      <td>PRJNA143627</td>\n      <td>SAMN00632220</td>\n      <td>GEO</td>\n      <td>public</td>\n      <td>sra</td>\n      <td>gs,ncbi,s3</td>\n      <td>gs.US,ncbi.public,s3.us-east-1</td>\n      <td>SRX081970</td>\n      <td>GSM752679</td>\n      <td>Illumina Genome Analyzer IIx</td>\n      <td>GSM752679: ppa br F 1</td>\n      <td>PAIRED</td>\n      <td>cDNA</td>\n      <td>TRANSCRIPTOMIC</td>\n      <td>3467</td>\n      <td>2640</td>\n      <td>Pan paniscus</td>\n      <td>ILLUMINA</td>\n      <td>2011-10-14T00:00:00Z</td>\n      <td>SRS214062</td>\n      <td>GSM752679</td>\n      <td>Brain\\, prefrontal cortex</td>\n      <td>SRP007412</td>\n      <td>Lola ya Bonobo Sanctuary, Democratic Republic ...</td>\n      <td>female</td>\n      <td>7.5</td>\n      <td>NaN</td>\n      <td>NaN</td>\n      <td>NaN</td>\n    </tr>\n    <tr>\n      <th>128</th>\n      <td>SRR306840</td>\n      <td>RNA-Seq</td>\n      <td>202</td>\n      <td>PRJNA143627</td>\n      <td>SAMN00632234</td>\n      <td>GEO</td>\n      <td>public</td>\n      <td>sra</td>\n      <td>gs,ncbi,s3</td>\n      <td>gs.US,ncbi.public,s3.us-east-1</td>\n      <td>SRX081984</td>\n      <td>GSM752693</td>\n      <td>Illumina Genome Analyzer IIx</td>\n      <td>GSM752693: hsa br M 1</td>\n      <td>PAIRED</td>\n      <td>cDNA</td>\n      <td>TRANSCRIPTOMIC</td>\n      <td>4560</td>\n      <td>3355</td>\n      <td>Homo sapiens</td>\n      <td>ILLUMINA</td>\n      <td>2011-10-14T00:00:00Z</td>\n      <td>SRS214076</td>\n      <td>GSM752693</td>\n      <td>Brain\\, prefrontal cortex</td>\n      <td>SRP007412</td>\n      <td>Netherland Brain Bank, Netherlands</td>\n      <td>male</td>\n      <td>8.6</td>\n      <td>NaN</td>\n      <td>NaN</td>\n      <td>NaN</td>\n    </tr>\n    <tr>\n      <th>130</th>\n      <td>SRR306842</td>\n      <td>RNA-Seq</td>\n      <td>202</td>\n      <td>PRJNA143627</td>\n      <td>SAMN00632236</td>\n      <td>GEO</td>\n      <td>public</td>\n      <td>sra</td>\n      <td>gs,ncbi,s3</td>\n      <td>gs.US,ncbi.public,s3.us-east-1</td>\n      <td>SRX081986</td>\n      <td>GSM752695</td>\n      <td>Illumina Genome Analyzer IIx</td>\n      <td>GSM752695: hsa br M 4</td>\n      <td>PAIRED</td>\n      <td>cDNA</td>\n      <td>TRANSCRIPTOMIC</td>\n      <td>3519</td>\n      <td>2669</td>\n      <td>Homo sapiens</td>\n      <td>ILLUMINA</td>\n      <td>2011-10-14T00:00:00Z</td>\n      <td>SRS214078</td>\n      <td>GSM752695</td>\n      <td>Brain\\, prefrontal cortex</td>\n      <td>SRP007412</td>\n      <td>Netherland Brain Bank, Netherlands</td>\n      <td>male</td>\n      <td>7.8</td>\n      <td>NaN</td>\n      <td>NaN</td>\n      <td>NaN</td>\n    </tr>\n  </tbody>\n</table>\n</div>",
        "text/plain": "           Run Assay Type  AvgSpotLen   BioProject     BioSample Center Name  \\\n68   SRR306779    RNA-Seq         202  PRJNA143627  SAMN00632174         GEO   \n81   SRR306792    RNA-Seq         202  PRJNA143627  SAMN00632186         GEO   \n90   SRR306801    RNA-Seq         202  PRJNA143627  SAMN00632195         GEO   \n100  SRR306812    RNA-Seq         202  PRJNA143627  SAMN00632206         GEO   \n101  SRR306813    RNA-Seq         202  PRJNA143627  SAMN00632207         GEO   \n102  SRR306814    RNA-Seq         202  PRJNA143627  SAMN00632208         GEO   \n103  SRR306815    RNA-Seq         202  PRJNA143627  SAMN00632209         GEO   \n104  SRR306816    RNA-Seq         202  PRJNA143627  SAMN00632210         GEO   \n114  SRR306826    RNA-Seq         202  PRJNA143627  SAMN00632220         GEO   \n128  SRR306840    RNA-Seq         202  PRJNA143627  SAMN00632234         GEO   \n130  SRR306842    RNA-Seq         202  PRJNA143627  SAMN00632236         GEO   \n\n    Consent DATASTORE filetype DATASTORE provider  \\\n68   public                sra         gs,ncbi,s3   \n81   public                sra         gs,ncbi,s3   \n90   public                sra         gs,ncbi,s3   \n100  public                sra         gs,ncbi,s3   \n101  public                sra         gs,ncbi,s3   \n102  public                sra         gs,ncbi,s3   \n103  public                sra         gs,ncbi,s3   \n104  public                sra         gs,ncbi,s3   \n114  public                sra         gs,ncbi,s3   \n128  public                sra         gs,ncbi,s3   \n130  public                sra         gs,ncbi,s3   \n\n                   DATASTORE region Experiment GEO_Accession  \\\n68   gs.US,ncbi.public,s3.us-east-1  SRX081924     GSM752633   \n81   gs.US,ncbi.public,s3.us-east-1  SRX081936     GSM752645   \n90   gs.US,ncbi.public,s3.us-east-1  SRX081945     GSM752654   \n100  gs.US,ncbi.public,s3.us-east-1  SRX081956     GSM752665   \n101  gs.US,ncbi.public,s3.us-east-1  SRX081957     GSM752666   \n102  gs.US,ncbi.public,s3.us-east-1  SRX081958     GSM752667   \n103  gs.US,ncbi.public,s3.us-east-1  SRX081959     GSM752668   \n104  gs.US,ncbi.public,s3.us-east-1  SRX081960     GSM752669   \n114  gs.US,ncbi.public,s3.us-east-1  SRX081970     GSM752679   \n128  gs.US,ncbi.public,s3.us-east-1  SRX081984     GSM752693   \n130  gs.US,ncbi.public,s3.us-east-1  SRX081986     GSM752695   \n\n                       Instrument           Library Name LibraryLayout  \\\n68   Illumina Genome Analyzer IIx  GSM752633: mml br M 2        PAIRED   \n81   Illumina Genome Analyzer IIx  GSM752645: ppy br M 1        PAIRED   \n90   Illumina Genome Analyzer IIx  GSM752654: ggo br M 1        PAIRED   \n100  Illumina Genome Analyzer IIx  GSM752665: ptr br M 1        PAIRED   \n101  Illumina Genome Analyzer IIx  GSM752666: ptr br M 2        PAIRED   \n102  Illumina Genome Analyzer IIx  GSM752667: ptr br M 3        PAIRED   \n103  Illumina Genome Analyzer IIx  GSM752668: ptr br M 4        PAIRED   \n104  Illumina Genome Analyzer IIx  GSM752669: ptr br M 5        PAIRED   \n114  Illumina Genome Analyzer IIx  GSM752679: ppa br F 1        PAIRED   \n128  Illumina Genome Analyzer IIx  GSM752693: hsa br M 1        PAIRED   \n130  Illumina Genome Analyzer IIx  GSM752695: hsa br M 4        PAIRED   \n\n    LibrarySelection   LibrarySource  MBases  MBytes         Organism  \\\n68              cDNA  TRANSCRIPTOMIC    4335    3296   Macaca mulatta   \n81              cDNA  TRANSCRIPTOMIC    3570    2713   Pongo pygmaeus   \n90              cDNA  TRANSCRIPTOMIC    3283    2496  Gorilla gorilla   \n100             cDNA  TRANSCRIPTOMIC    2817    2140  Pan troglodytes   \n101             cDNA  TRANSCRIPTOMIC    4122    3178  Pan troglodytes   \n102             cDNA  TRANSCRIPTOMIC    3513    2609  Pan troglodytes   \n103             cDNA  TRANSCRIPTOMIC    4491    3403  Pan troglodytes   \n104             cDNA  TRANSCRIPTOMIC    4710    3512  Pan troglodytes   \n114             cDNA  TRANSCRIPTOMIC    3467    2640     Pan paniscus   \n128             cDNA  TRANSCRIPTOMIC    4560    3355     Homo sapiens   \n130             cDNA  TRANSCRIPTOMIC    3519    2669     Homo sapiens   \n\n     Platform           ReleaseDate sample_acc Sample Name  \\\n68   ILLUMINA  2011-10-14T00:00:00Z  SRS214016   GSM752633   \n81   ILLUMINA  2011-10-14T00:00:00Z  SRS214028   GSM752645   \n90   ILLUMINA  2011-10-14T00:00:00Z  SRS214037   GSM752654   \n100  ILLUMINA  2011-10-14T00:00:00Z  SRS214048   GSM752665   \n101  ILLUMINA  2011-10-14T00:00:00Z  SRS214049   GSM752666   \n102  ILLUMINA  2011-10-14T00:00:00Z  SRS214050   GSM752667   \n103  ILLUMINA  2011-10-14T00:00:00Z  SRS214051   GSM752668   \n104  ILLUMINA  2011-10-14T00:00:00Z  SRS214052   GSM752669   \n114  ILLUMINA  2011-10-14T00:00:00Z  SRS214062   GSM752679   \n128  ILLUMINA  2011-10-14T00:00:00Z  SRS214076   GSM752693   \n130  ILLUMINA  2011-10-14T00:00:00Z  SRS214078   GSM752695   \n\n                   source_name  SRA Study  \\\n68   Brain\\, prefrontal cortex  SRP007412   \n81   Brain\\, prefrontal cortex  SRP007412   \n90   Brain\\, prefrontal cortex  SRP007412   \n100  Brain\\, prefrontal cortex  SRP007412   \n101  Brain\\, prefrontal cortex  SRP007412   \n102  Brain\\, prefrontal cortex  SRP007412   \n103  Brain\\, prefrontal cortex  SRP007412   \n104  Brain\\, prefrontal cortex  SRP007412   \n114  Brain\\, prefrontal cortex  SRP007412   \n128  Brain\\, prefrontal cortex  SRP007412   \n130  Brain\\, prefrontal cortex  SRP007412   \n\n                                         tissue_source  gender  rin  \\\n68                  Deutsches Primatenzentrum, Germany    male  8.9   \n81      National Veterinary Institute, Uppsala, Sweden    male  8.2   \n90                              Zoo Frankfurt, Germany     NaN  7.9   \n100  Biomedical Primate Research Center, Netherland...    male  7.8   \n101                            Zoo Zurich, Switzerland    male  6.7   \n102  Biomedical Primate Research Center, Netherland...    male  7.5   \n103  Biomedical Primate Research Center, Netherland...    male  7.4   \n104  Biomedical Primate Research Center, Netherland...    male  7.9   \n114  Lola ya Bonobo Sanctuary, Democratic Republic ...  female  7.5   \n128                 Netherland Brain Bank, Netherlands    male  8.6   \n130                 Netherland Brain Bank, Netherlands    male  7.8   \n\n            Age Extraction                                                sex  \n68      7 years     RNeasy                                                NaN  \n81     16 years     RNeasy                                                NaN  \n90     51 years     RNeasy  Female (note: this sample was originally provi...  \n100  12.3 years     RNeasy                                                NaN  \n101    35 years     RNeasy                                                NaN  \n102  12.1 years     RNeasy                                                NaN  \n103   6.7 years     RNeasy                                                NaN  \n104    12 years     RNeasy                                                NaN  \n114         NaN        NaN                                                NaN  \n128         NaN        NaN                                                NaN  \n130         NaN        NaN                                                NaN  "
       },
       "execution_count": 6,
       "metadata": {},
       "output_type": "execute_result"
      }
     ],
     "persistentId": "fb3a14fd-d0cf-4dce-9cf3-1f13c3f4693d",
     "text": "sra_run_table.query('LibraryLayout == \"PAIRED\"')"
    },
    "executionTime": "2019-11-05T15:29:46.706Z"
   },
   {
    "cell": {
     "executionCount": 7,
     "executionEventId": "6658cf8c-70d3-4c9b-b1c9-2c27e1f109c2",
     "hasError": false,
     "id": "196ae1fa-3cec-4681-9708-6dd0d94bcd2f",
     "outputs": [
      {
       "data": {
        "text/plain": "array(['SRR306801', 'RNA-Seq', 202, 'PRJNA143627', 'SAMN00632195', 'GEO',\n       'public', 'sra', 'gs,ncbi,s3', 'gs.US,ncbi.public,s3.us-east-1',\n       'SRX081945', 'GSM752654', 'Illumina Genome Analyzer IIx',\n       'GSM752654: ggo br M 1', 'PAIRED', 'cDNA', 'TRANSCRIPTOMIC', 3283,\n       2496, 'Gorilla gorilla', 'ILLUMINA', '2011-10-14T00:00:00Z',\n       'SRS214037', 'GSM752654', 'Brain\\\\, prefrontal cortex',\n       'SRP007412', 'Zoo Frankfurt, Germany', nan, 7.9, '51 years',\n       'RNeasy',\n       'Female (note: this sample was originally provided as a \"male\" sample to us and therefore labeled this way in the Brawand et al. paper and original GEO submission; however, detailed data analyses carried out in the meantime clearly show that this samp'],\n      dtype=object)"
       },
       "execution_count": 7,
       "metadata": {},
       "output_type": "execute_result"
      }
     ],
     "persistentId": "00943c6e-0a16-4101-82ed-ad2deb51c161",
     "text": "sra_run_table.iloc[90].values"
    },
    "executionTime": "2019-11-05T15:31:05.555Z"
   },
   {
    "cell": {
     "executionCount": 8,
     "executionEventId": "16e0213e-d4e8-416e-8cdb-6a2a05b1919c",
     "hasError": false,
     "id": "cdf80de8-8721-4163-aff3-ac4f55880e06",
     "outputs": [
      {
       "data": {
        "text/html": "<div>\n<style scoped>\n    .dataframe tbody tr th:only-of-type {\n        vertical-align: middle;\n    }\n\n    .dataframe tbody tr th {\n        vertical-align: top;\n    }\n\n    .dataframe thead th {\n        text-align: right;\n    }\n</style>\n<table border=\"1\" class=\"dataframe\">\n  <thead>\n    <tr style=\"text-align: right;\">\n      <th></th>\n      <th>Run</th>\n      <th>Assay Type</th>\n      <th>AvgSpotLen</th>\n      <th>BioProject</th>\n      <th>BioSample</th>\n      <th>Center Name</th>\n      <th>Consent</th>\n      <th>DATASTORE filetype</th>\n      <th>DATASTORE provider</th>\n      <th>DATASTORE region</th>\n      <th>Experiment</th>\n      <th>GEO_Accession</th>\n      <th>Instrument</th>\n      <th>Library Name</th>\n      <th>LibraryLayout</th>\n      <th>LibrarySelection</th>\n      <th>LibrarySource</th>\n      <th>MBases</th>\n      <th>MBytes</th>\n      <th>Organism</th>\n      <th>Platform</th>\n      <th>ReleaseDate</th>\n      <th>sample_acc</th>\n      <th>Sample Name</th>\n      <th>source_name</th>\n      <th>SRA Study</th>\n      <th>tissue_source</th>\n      <th>gender</th>\n      <th>rin</th>\n      <th>Age</th>\n      <th>Extraction</th>\n      <th>sex</th>\n    </tr>\n  </thead>\n  <tbody>\n    <tr>\n      <th>68</th>\n      <td>SRR306779</td>\n      <td>RNA-Seq</td>\n      <td>202</td>\n      <td>PRJNA143627</td>\n      <td>SAMN00632174</td>\n      <td>GEO</td>\n      <td>public</td>\n      <td>sra</td>\n      <td>gs,ncbi,s3</td>\n      <td>gs.US,ncbi.public,s3.us-east-1</td>\n      <td>SRX081924</td>\n      <td>GSM752633</td>\n      <td>Illumina Genome Analyzer IIx</td>\n      <td>GSM752633: mml br M 2</td>\n      <td>PAIRED</td>\n      <td>cDNA</td>\n      <td>TRANSCRIPTOMIC</td>\n      <td>4335</td>\n      <td>3296</td>\n      <td>Macaca mulatta</td>\n      <td>ILLUMINA</td>\n      <td>2011-10-14T00:00:00Z</td>\n      <td>SRS214016</td>\n      <td>GSM752633</td>\n      <td>Brain\\, prefrontal cortex</td>\n      <td>SRP007412</td>\n      <td>Deutsches Primatenzentrum, Germany</td>\n      <td>male</td>\n      <td>8.9</td>\n      <td>7 years</td>\n      <td>RNeasy</td>\n      <td>NaN</td>\n    </tr>\n    <tr>\n      <th>81</th>\n      <td>SRR306792</td>\n      <td>RNA-Seq</td>\n      <td>202</td>\n      <td>PRJNA143627</td>\n      <td>SAMN00632186</td>\n      <td>GEO</td>\n      <td>public</td>\n      <td>sra</td>\n      <td>gs,ncbi,s3</td>\n      <td>gs.US,ncbi.public,s3.us-east-1</td>\n      <td>SRX081936</td>\n      <td>GSM752645</td>\n      <td>Illumina Genome Analyzer IIx</td>\n      <td>GSM752645: ppy br M 1</td>\n      <td>PAIRED</td>\n      <td>cDNA</td>\n      <td>TRANSCRIPTOMIC</td>\n      <td>3570</td>\n      <td>2713</td>\n      <td>Pongo pygmaeus</td>\n      <td>ILLUMINA</td>\n      <td>2011-10-14T00:00:00Z</td>\n      <td>SRS214028</td>\n      <td>GSM752645</td>\n      <td>Brain\\, prefrontal cortex</td>\n      <td>SRP007412</td>\n      <td>National Veterinary Institute, Uppsala, Sweden</td>\n      <td>male</td>\n      <td>8.2</td>\n      <td>16 years</td>\n      <td>RNeasy</td>\n      <td>NaN</td>\n    </tr>\n    <tr>\n      <th>90</th>\n      <td>SRR306801</td>\n      <td>RNA-Seq</td>\n      <td>202</td>\n      <td>PRJNA143627</td>\n      <td>SAMN00632195</td>\n      <td>GEO</td>\n      <td>public</td>\n      <td>sra</td>\n      <td>gs,ncbi,s3</td>\n      <td>gs.US,ncbi.public,s3.us-east-1</td>\n      <td>SRX081945</td>\n      <td>GSM752654</td>\n      <td>Illumina Genome Analyzer IIx</td>\n      <td>GSM752654: ggo br M 1</td>\n      <td>PAIRED</td>\n      <td>cDNA</td>\n      <td>TRANSCRIPTOMIC</td>\n      <td>3283</td>\n      <td>2496</td>\n      <td>Gorilla gorilla</td>\n      <td>ILLUMINA</td>\n      <td>2011-10-14T00:00:00Z</td>\n      <td>SRS214037</td>\n      <td>GSM752654</td>\n      <td>Brain\\, prefrontal cortex</td>\n      <td>SRP007412</td>\n      <td>Zoo Frankfurt, Germany</td>\n      <td>NaN</td>\n      <td>7.9</td>\n      <td>51 years</td>\n      <td>RNeasy</td>\n      <td>Female (note: this sample was originally provi...</td>\n    </tr>\n    <tr>\n      <th>100</th>\n      <td>SRR306812</td>\n      <td>RNA-Seq</td>\n      <td>202</td>\n      <td>PRJNA143627</td>\n      <td>SAMN00632206</td>\n      <td>GEO</td>\n      <td>public</td>\n      <td>sra</td>\n      <td>gs,ncbi,s3</td>\n      <td>gs.US,ncbi.public,s3.us-east-1</td>\n      <td>SRX081956</td>\n      <td>GSM752665</td>\n      <td>Illumina Genome Analyzer IIx</td>\n      <td>GSM752665: ptr br M 1</td>\n      <td>PAIRED</td>\n      <td>cDNA</td>\n      <td>TRANSCRIPTOMIC</td>\n      <td>2817</td>\n      <td>2140</td>\n      <td>Pan troglodytes</td>\n      <td>ILLUMINA</td>\n      <td>2011-10-14T00:00:00Z</td>\n      <td>SRS214048</td>\n      <td>GSM752665</td>\n      <td>Brain\\, prefrontal cortex</td>\n      <td>SRP007412</td>\n      <td>Biomedical Primate Research Center, Netherland...</td>\n      <td>male</td>\n      <td>7.8</td>\n      <td>12.3 years</td>\n      <td>RNeasy</td>\n      <td>NaN</td>\n    </tr>\n    <tr>\n      <th>101</th>\n      <td>SRR306813</td>\n      <td>RNA-Seq</td>\n      <td>202</td>\n      <td>PRJNA143627</td>\n      <td>SAMN00632207</td>\n      <td>GEO</td>\n      <td>public</td>\n      <td>sra</td>\n      <td>gs,ncbi,s3</td>\n      <td>gs.US,ncbi.public,s3.us-east-1</td>\n      <td>SRX081957</td>\n      <td>GSM752666</td>\n      <td>Illumina Genome Analyzer IIx</td>\n      <td>GSM752666: ptr br M 2</td>\n      <td>PAIRED</td>\n      <td>cDNA</td>\n      <td>TRANSCRIPTOMIC</td>\n      <td>4122</td>\n      <td>3178</td>\n      <td>Pan troglodytes</td>\n      <td>ILLUMINA</td>\n      <td>2011-10-14T00:00:00Z</td>\n      <td>SRS214049</td>\n      <td>GSM752666</td>\n      <td>Brain\\, prefrontal cortex</td>\n      <td>SRP007412</td>\n      <td>Zoo Zurich, Switzerland</td>\n      <td>male</td>\n      <td>6.7</td>\n      <td>35 years</td>\n      <td>RNeasy</td>\n      <td>NaN</td>\n    </tr>\n    <tr>\n      <th>102</th>\n      <td>SRR306814</td>\n      <td>RNA-Seq</td>\n      <td>202</td>\n      <td>PRJNA143627</td>\n      <td>SAMN00632208</td>\n      <td>GEO</td>\n      <td>public</td>\n      <td>sra</td>\n      <td>gs,ncbi,s3</td>\n      <td>gs.US,ncbi.public,s3.us-east-1</td>\n      <td>SRX081958</td>\n      <td>GSM752667</td>\n      <td>Illumina Genome Analyzer IIx</td>\n      <td>GSM752667: ptr br M 3</td>\n      <td>PAIRED</td>\n      <td>cDNA</td>\n      <td>TRANSCRIPTOMIC</td>\n      <td>3513</td>\n      <td>2609</td>\n      <td>Pan troglodytes</td>\n      <td>ILLUMINA</td>\n      <td>2011-10-14T00:00:00Z</td>\n      <td>SRS214050</td>\n      <td>GSM752667</td>\n      <td>Brain\\, prefrontal cortex</td>\n      <td>SRP007412</td>\n      <td>Biomedical Primate Research Center, Netherland...</td>\n      <td>male</td>\n      <td>7.5</td>\n      <td>12.1 years</td>\n      <td>RNeasy</td>\n      <td>NaN</td>\n    </tr>\n    <tr>\n      <th>103</th>\n      <td>SRR306815</td>\n      <td>RNA-Seq</td>\n      <td>202</td>\n      <td>PRJNA143627</td>\n      <td>SAMN00632209</td>\n      <td>GEO</td>\n      <td>public</td>\n      <td>sra</td>\n      <td>gs,ncbi,s3</td>\n      <td>gs.US,ncbi.public,s3.us-east-1</td>\n      <td>SRX081959</td>\n      <td>GSM752668</td>\n      <td>Illumina Genome Analyzer IIx</td>\n      <td>GSM752668: ptr br M 4</td>\n      <td>PAIRED</td>\n      <td>cDNA</td>\n      <td>TRANSCRIPTOMIC</td>\n      <td>4491</td>\n      <td>3403</td>\n      <td>Pan troglodytes</td>\n      <td>ILLUMINA</td>\n      <td>2011-10-14T00:00:00Z</td>\n      <td>SRS214051</td>\n      <td>GSM752668</td>\n      <td>Brain\\, prefrontal cortex</td>\n      <td>SRP007412</td>\n      <td>Biomedical Primate Research Center, Netherland...</td>\n      <td>male</td>\n      <td>7.4</td>\n      <td>6.7 years</td>\n      <td>RNeasy</td>\n      <td>NaN</td>\n    </tr>\n    <tr>\n      <th>104</th>\n      <td>SRR306816</td>\n      <td>RNA-Seq</td>\n      <td>202</td>\n      <td>PRJNA143627</td>\n      <td>SAMN00632210</td>\n      <td>GEO</td>\n      <td>public</td>\n      <td>sra</td>\n      <td>gs,ncbi,s3</td>\n      <td>gs.US,ncbi.public,s3.us-east-1</td>\n      <td>SRX081960</td>\n      <td>GSM752669</td>\n      <td>Illumina Genome Analyzer IIx</td>\n      <td>GSM752669: ptr br M 5</td>\n      <td>PAIRED</td>\n      <td>cDNA</td>\n      <td>TRANSCRIPTOMIC</td>\n      <td>4710</td>\n      <td>3512</td>\n      <td>Pan troglodytes</td>\n      <td>ILLUMINA</td>\n      <td>2011-10-14T00:00:00Z</td>\n      <td>SRS214052</td>\n      <td>GSM752669</td>\n      <td>Brain\\, prefrontal cortex</td>\n      <td>SRP007412</td>\n      <td>Biomedical Primate Research Center, Netherland...</td>\n      <td>male</td>\n      <td>7.9</td>\n      <td>12 years</td>\n      <td>RNeasy</td>\n      <td>NaN</td>\n    </tr>\n    <tr>\n      <th>114</th>\n      <td>SRR306826</td>\n      <td>RNA-Seq</td>\n      <td>202</td>\n      <td>PRJNA143627</td>\n      <td>SAMN00632220</td>\n      <td>GEO</td>\n      <td>public</td>\n      <td>sra</td>\n      <td>gs,ncbi,s3</td>\n      <td>gs.US,ncbi.public,s3.us-east-1</td>\n      <td>SRX081970</td>\n      <td>GSM752679</td>\n      <td>Illumina Genome Analyzer IIx</td>\n      <td>GSM752679: ppa br F 1</td>\n      <td>PAIRED</td>\n      <td>cDNA</td>\n      <td>TRANSCRIPTOMIC</td>\n      <td>3467</td>\n      <td>2640</td>\n      <td>Pan paniscus</td>\n      <td>ILLUMINA</td>\n      <td>2011-10-14T00:00:00Z</td>\n      <td>SRS214062</td>\n      <td>GSM752679</td>\n      <td>Brain\\, prefrontal cortex</td>\n      <td>SRP007412</td>\n      <td>Lola ya Bonobo Sanctuary, Democratic Republic ...</td>\n      <td>female</td>\n      <td>7.5</td>\n      <td>NaN</td>\n      <td>NaN</td>\n      <td>NaN</td>\n    </tr>\n    <tr>\n      <th>128</th>\n      <td>SRR306840</td>\n      <td>RNA-Seq</td>\n      <td>202</td>\n      <td>PRJNA143627</td>\n      <td>SAMN00632234</td>\n      <td>GEO</td>\n      <td>public</td>\n      <td>sra</td>\n      <td>gs,ncbi,s3</td>\n      <td>gs.US,ncbi.public,s3.us-east-1</td>\n      <td>SRX081984</td>\n      <td>GSM752693</td>\n      <td>Illumina Genome Analyzer IIx</td>\n      <td>GSM752693: hsa br M 1</td>\n      <td>PAIRED</td>\n      <td>cDNA</td>\n      <td>TRANSCRIPTOMIC</td>\n      <td>4560</td>\n      <td>3355</td>\n      <td>Homo sapiens</td>\n      <td>ILLUMINA</td>\n      <td>2011-10-14T00:00:00Z</td>\n      <td>SRS214076</td>\n      <td>GSM752693</td>\n      <td>Brain\\, prefrontal cortex</td>\n      <td>SRP007412</td>\n      <td>Netherland Brain Bank, Netherlands</td>\n      <td>male</td>\n      <td>8.6</td>\n      <td>NaN</td>\n      <td>NaN</td>\n      <td>NaN</td>\n    </tr>\n    <tr>\n      <th>130</th>\n      <td>SRR306842</td>\n      <td>RNA-Seq</td>\n      <td>202</td>\n      <td>PRJNA143627</td>\n      <td>SAMN00632236</td>\n      <td>GEO</td>\n      <td>public</td>\n      <td>sra</td>\n      <td>gs,ncbi,s3</td>\n      <td>gs.US,ncbi.public,s3.us-east-1</td>\n      <td>SRX081986</td>\n      <td>GSM752695</td>\n      <td>Illumina Genome Analyzer IIx</td>\n      <td>GSM752695: hsa br M 4</td>\n      <td>PAIRED</td>\n      <td>cDNA</td>\n      <td>TRANSCRIPTOMIC</td>\n      <td>3519</td>\n      <td>2669</td>\n      <td>Homo sapiens</td>\n      <td>ILLUMINA</td>\n      <td>2011-10-14T00:00:00Z</td>\n      <td>SRS214078</td>\n      <td>GSM752695</td>\n      <td>Brain\\, prefrontal cortex</td>\n      <td>SRP007412</td>\n      <td>Netherland Brain Bank, Netherlands</td>\n      <td>male</td>\n      <td>7.8</td>\n      <td>NaN</td>\n      <td>NaN</td>\n      <td>NaN</td>\n    </tr>\n  </tbody>\n</table>\n</div>",
        "text/plain": "           Run Assay Type  AvgSpotLen   BioProject     BioSample Center Name  \\\n68   SRR306779    RNA-Seq         202  PRJNA143627  SAMN00632174         GEO   \n81   SRR306792    RNA-Seq         202  PRJNA143627  SAMN00632186         GEO   \n90   SRR306801    RNA-Seq         202  PRJNA143627  SAMN00632195         GEO   \n100  SRR306812    RNA-Seq         202  PRJNA143627  SAMN00632206         GEO   \n101  SRR306813    RNA-Seq         202  PRJNA143627  SAMN00632207         GEO   \n102  SRR306814    RNA-Seq         202  PRJNA143627  SAMN00632208         GEO   \n103  SRR306815    RNA-Seq         202  PRJNA143627  SAMN00632209         GEO   \n104  SRR306816    RNA-Seq         202  PRJNA143627  SAMN00632210         GEO   \n114  SRR306826    RNA-Seq         202  PRJNA143627  SAMN00632220         GEO   \n128  SRR306840    RNA-Seq         202  PRJNA143627  SAMN00632234         GEO   \n130  SRR306842    RNA-Seq         202  PRJNA143627  SAMN00632236         GEO   \n\n    Consent DATASTORE filetype DATASTORE provider  \\\n68   public                sra         gs,ncbi,s3   \n81   public                sra         gs,ncbi,s3   \n90   public                sra         gs,ncbi,s3   \n100  public                sra         gs,ncbi,s3   \n101  public                sra         gs,ncbi,s3   \n102  public                sra         gs,ncbi,s3   \n103  public                sra         gs,ncbi,s3   \n104  public                sra         gs,ncbi,s3   \n114  public                sra         gs,ncbi,s3   \n128  public                sra         gs,ncbi,s3   \n130  public                sra         gs,ncbi,s3   \n\n                   DATASTORE region Experiment GEO_Accession  \\\n68   gs.US,ncbi.public,s3.us-east-1  SRX081924     GSM752633   \n81   gs.US,ncbi.public,s3.us-east-1  SRX081936     GSM752645   \n90   gs.US,ncbi.public,s3.us-east-1  SRX081945     GSM752654   \n100  gs.US,ncbi.public,s3.us-east-1  SRX081956     GSM752665   \n101  gs.US,ncbi.public,s3.us-east-1  SRX081957     GSM752666   \n102  gs.US,ncbi.public,s3.us-east-1  SRX081958     GSM752667   \n103  gs.US,ncbi.public,s3.us-east-1  SRX081959     GSM752668   \n104  gs.US,ncbi.public,s3.us-east-1  SRX081960     GSM752669   \n114  gs.US,ncbi.public,s3.us-east-1  SRX081970     GSM752679   \n128  gs.US,ncbi.public,s3.us-east-1  SRX081984     GSM752693   \n130  gs.US,ncbi.public,s3.us-east-1  SRX081986     GSM752695   \n\n                       Instrument           Library Name LibraryLayout  \\\n68   Illumina Genome Analyzer IIx  GSM752633: mml br M 2        PAIRED   \n81   Illumina Genome Analyzer IIx  GSM752645: ppy br M 1        PAIRED   \n90   Illumina Genome Analyzer IIx  GSM752654: ggo br M 1        PAIRED   \n100  Illumina Genome Analyzer IIx  GSM752665: ptr br M 1        PAIRED   \n101  Illumina Genome Analyzer IIx  GSM752666: ptr br M 2        PAIRED   \n102  Illumina Genome Analyzer IIx  GSM752667: ptr br M 3        PAIRED   \n103  Illumina Genome Analyzer IIx  GSM752668: ptr br M 4        PAIRED   \n104  Illumina Genome Analyzer IIx  GSM752669: ptr br M 5        PAIRED   \n114  Illumina Genome Analyzer IIx  GSM752679: ppa br F 1        PAIRED   \n128  Illumina Genome Analyzer IIx  GSM752693: hsa br M 1        PAIRED   \n130  Illumina Genome Analyzer IIx  GSM752695: hsa br M 4        PAIRED   \n\n    LibrarySelection   LibrarySource  MBases  MBytes         Organism  \\\n68              cDNA  TRANSCRIPTOMIC    4335    3296   Macaca mulatta   \n81              cDNA  TRANSCRIPTOMIC    3570    2713   Pongo pygmaeus   \n90              cDNA  TRANSCRIPTOMIC    3283    2496  Gorilla gorilla   \n100             cDNA  TRANSCRIPTOMIC    2817    2140  Pan troglodytes   \n101             cDNA  TRANSCRIPTOMIC    4122    3178  Pan troglodytes   \n102             cDNA  TRANSCRIPTOMIC    3513    2609  Pan troglodytes   \n103             cDNA  TRANSCRIPTOMIC    4491    3403  Pan troglodytes   \n104             cDNA  TRANSCRIPTOMIC    4710    3512  Pan troglodytes   \n114             cDNA  TRANSCRIPTOMIC    3467    2640     Pan paniscus   \n128             cDNA  TRANSCRIPTOMIC    4560    3355     Homo sapiens   \n130             cDNA  TRANSCRIPTOMIC    3519    2669     Homo sapiens   \n\n     Platform           ReleaseDate sample_acc Sample Name  \\\n68   ILLUMINA  2011-10-14T00:00:00Z  SRS214016   GSM752633   \n81   ILLUMINA  2011-10-14T00:00:00Z  SRS214028   GSM752645   \n90   ILLUMINA  2011-10-14T00:00:00Z  SRS214037   GSM752654   \n100  ILLUMINA  2011-10-14T00:00:00Z  SRS214048   GSM752665   \n101  ILLUMINA  2011-10-14T00:00:00Z  SRS214049   GSM752666   \n102  ILLUMINA  2011-10-14T00:00:00Z  SRS214050   GSM752667   \n103  ILLUMINA  2011-10-14T00:00:00Z  SRS214051   GSM752668   \n104  ILLUMINA  2011-10-14T00:00:00Z  SRS214052   GSM752669   \n114  ILLUMINA  2011-10-14T00:00:00Z  SRS214062   GSM752679   \n128  ILLUMINA  2011-10-14T00:00:00Z  SRS214076   GSM752693   \n130  ILLUMINA  2011-10-14T00:00:00Z  SRS214078   GSM752695   \n\n                   source_name  SRA Study  \\\n68   Brain\\, prefrontal cortex  SRP007412   \n81   Brain\\, prefrontal cortex  SRP007412   \n90   Brain\\, prefrontal cortex  SRP007412   \n100  Brain\\, prefrontal cortex  SRP007412   \n101  Brain\\, prefrontal cortex  SRP007412   \n102  Brain\\, prefrontal cortex  SRP007412   \n103  Brain\\, prefrontal cortex  SRP007412   \n104  Brain\\, prefrontal cortex  SRP007412   \n114  Brain\\, prefrontal cortex  SRP007412   \n128  Brain\\, prefrontal cortex  SRP007412   \n130  Brain\\, prefrontal cortex  SRP007412   \n\n                                         tissue_source  gender  rin  \\\n68                  Deutsches Primatenzentrum, Germany    male  8.9   \n81      National Veterinary Institute, Uppsala, Sweden    male  8.2   \n90                              Zoo Frankfurt, Germany     NaN  7.9   \n100  Biomedical Primate Research Center, Netherland...    male  7.8   \n101                            Zoo Zurich, Switzerland    male  6.7   \n102  Biomedical Primate Research Center, Netherland...    male  7.5   \n103  Biomedical Primate Research Center, Netherland...    male  7.4   \n104  Biomedical Primate Research Center, Netherland...    male  7.9   \n114  Lola ya Bonobo Sanctuary, Democratic Republic ...  female  7.5   \n128                 Netherland Brain Bank, Netherlands    male  8.6   \n130                 Netherland Brain Bank, Netherlands    male  7.8   \n\n            Age Extraction                                                sex  \n68      7 years     RNeasy                                                NaN  \n81     16 years     RNeasy                                                NaN  \n90     51 years     RNeasy  Female (note: this sample was originally provi...  \n100  12.3 years     RNeasy                                                NaN  \n101    35 years     RNeasy                                                NaN  \n102  12.1 years     RNeasy                                                NaN  \n103   6.7 years     RNeasy                                                NaN  \n104    12 years     RNeasy                                                NaN  \n114         NaN        NaN                                                NaN  \n128         NaN        NaN                                                NaN  \n130         NaN        NaN                                                NaN  "
       },
       "execution_count": 8,
       "metadata": {},
       "output_type": "execute_result"
      }
     ],
     "persistentId": "fb3a14fd-d0cf-4dce-9cf3-1f13c3f4693d",
     "text": "paired = sra_run_table.query('LibraryLayout == \"PAIRED\"')\npaired"
    },
    "executionTime": "2019-11-05T15:38:08.533Z"
   },
   {
    "cell": {
     "executionCount": 9,
     "executionEventId": "077f0910-9e48-48e7-8a3c-a73b4f69d76d",
     "hasError": true,
     "id": "d907b1f4-f356-4b3b-8751-2748813d2d19",
     "outputs": [
      {
       "ename": "KeyError",
       "evalue": "('Run', 'occurred at index Run')",
       "output_type": "error",
       "traceback": [
        "\u001b[0;31m---------------------------------------------------------------------------\u001b[0m",
        "\u001b[0;31mKeyError\u001b[0m                                  Traceback (most recent call last)",
        "\u001b[0;32m<ipython-input-9-928705a05130>\u001b[0m in \u001b[0;36m<module>\u001b[0;34m()\u001b[0m\n\u001b[1;32m     10\u001b[0m     \u001b[0;32mreturn\u001b[0m \u001b[0mreads\u001b[0m\u001b[0;34m\u001b[0m\u001b[0;34m\u001b[0m\u001b[0m\n\u001b[1;32m     11\u001b[0m \u001b[0;34m\u001b[0m\u001b[0m\n\u001b[0;32m---> 12\u001b[0;31m \u001b[0msra_run_table\u001b[0m\u001b[0;34m.\u001b[0m\u001b[0mapply\u001b[0m\u001b[0;34m(\u001b[0m\u001b[0;32mlambda\u001b[0m \u001b[0mx\u001b[0m\u001b[0;34m:\u001b[0m \u001b[0msrr_to_url\u001b[0m\u001b[0;34m(\u001b[0m\u001b[0mx\u001b[0m\u001b[0;34m[\u001b[0m\u001b[0;34m'Run'\u001b[0m\u001b[0;34m]\u001b[0m\u001b[0;34m,\u001b[0m \u001b[0mx\u001b[0m\u001b[0;34m[\u001b[0m\u001b[0;34m'LibraryLayout'\u001b[0m\u001b[0;34m]\u001b[0m \u001b[0;34m==\u001b[0m \u001b[0;34m'PAIRED'\u001b[0m\u001b[0;34m)\u001b[0m\u001b[0;34m)\u001b[0m\u001b[0;34m\u001b[0m\u001b[0;34m\u001b[0m\u001b[0m\n\u001b[0m",
        "\u001b[0;32m~/miniconda3/envs/kmer-hashing/lib/python3.6/site-packages/pandas/core/frame.py\u001b[0m in \u001b[0;36mapply\u001b[0;34m(self, func, axis, broadcast, raw, reduce, result_type, args, **kwds)\u001b[0m\n\u001b[1;32m   6485\u001b[0m                          \u001b[0margs\u001b[0m\u001b[0;34m=\u001b[0m\u001b[0margs\u001b[0m\u001b[0;34m,\u001b[0m\u001b[0;34m\u001b[0m\u001b[0;34m\u001b[0m\u001b[0m\n\u001b[1;32m   6486\u001b[0m                          kwds=kwds)\n\u001b[0;32m-> 6487\u001b[0;31m         \u001b[0;32mreturn\u001b[0m \u001b[0mop\u001b[0m\u001b[0;34m.\u001b[0m\u001b[0mget_result\u001b[0m\u001b[0;34m(\u001b[0m\u001b[0;34m)\u001b[0m\u001b[0;34m\u001b[0m\u001b[0;34m\u001b[0m\u001b[0m\n\u001b[0m\u001b[1;32m   6488\u001b[0m \u001b[0;34m\u001b[0m\u001b[0m\n\u001b[1;32m   6489\u001b[0m     \u001b[0;32mdef\u001b[0m \u001b[0mapplymap\u001b[0m\u001b[0;34m(\u001b[0m\u001b[0mself\u001b[0m\u001b[0;34m,\u001b[0m \u001b[0mfunc\u001b[0m\u001b[0;34m)\u001b[0m\u001b[0;34m:\u001b[0m\u001b[0;34m\u001b[0m\u001b[0;34m\u001b[0m\u001b[0m\n",
        "\u001b[0;32m~/miniconda3/envs/kmer-hashing/lib/python3.6/site-packages/pandas/core/apply.py\u001b[0m in \u001b[0;36mget_result\u001b[0;34m(self)\u001b[0m\n\u001b[1;32m    149\u001b[0m             \u001b[0;32mreturn\u001b[0m \u001b[0mself\u001b[0m\u001b[0;34m.\u001b[0m\u001b[0mapply_raw\u001b[0m\u001b[0;34m(\u001b[0m\u001b[0;34m)\u001b[0m\u001b[0;34m\u001b[0m\u001b[0;34m\u001b[0m\u001b[0m\n\u001b[1;32m    150\u001b[0m \u001b[0;34m\u001b[0m\u001b[0m\n\u001b[0;32m--> 151\u001b[0;31m         \u001b[0;32mreturn\u001b[0m \u001b[0mself\u001b[0m\u001b[0;34m.\u001b[0m\u001b[0mapply_standard\u001b[0m\u001b[0;34m(\u001b[0m\u001b[0;34m)\u001b[0m\u001b[0;34m\u001b[0m\u001b[0;34m\u001b[0m\u001b[0m\n\u001b[0m\u001b[1;32m    152\u001b[0m \u001b[0;34m\u001b[0m\u001b[0m\n\u001b[1;32m    153\u001b[0m     \u001b[0;32mdef\u001b[0m \u001b[0mapply_empty_result\u001b[0m\u001b[0;34m(\u001b[0m\u001b[0mself\u001b[0m\u001b[0;34m)\u001b[0m\u001b[0;34m:\u001b[0m\u001b[0;34m\u001b[0m\u001b[0;34m\u001b[0m\u001b[0m\n",
        "\u001b[0;32m~/miniconda3/envs/kmer-hashing/lib/python3.6/site-packages/pandas/core/apply.py\u001b[0m in \u001b[0;36mapply_standard\u001b[0;34m(self)\u001b[0m\n\u001b[1;32m    255\u001b[0m \u001b[0;34m\u001b[0m\u001b[0m\n\u001b[1;32m    256\u001b[0m         \u001b[0;31m# compute the result using the series generator\u001b[0m\u001b[0;34m\u001b[0m\u001b[0;34m\u001b[0m\u001b[0;34m\u001b[0m\u001b[0m\n\u001b[0;32m--> 257\u001b[0;31m         \u001b[0mself\u001b[0m\u001b[0;34m.\u001b[0m\u001b[0mapply_series_generator\u001b[0m\u001b[0;34m(\u001b[0m\u001b[0;34m)\u001b[0m\u001b[0;34m\u001b[0m\u001b[0;34m\u001b[0m\u001b[0m\n\u001b[0m\u001b[1;32m    258\u001b[0m \u001b[0;34m\u001b[0m\u001b[0m\n\u001b[1;32m    259\u001b[0m         \u001b[0;31m# wrap results\u001b[0m\u001b[0;34m\u001b[0m\u001b[0;34m\u001b[0m\u001b[0;34m\u001b[0m\u001b[0m\n",
        "\u001b[0;32m~/miniconda3/envs/kmer-hashing/lib/python3.6/site-packages/pandas/core/apply.py\u001b[0m in \u001b[0;36mapply_series_generator\u001b[0;34m(self)\u001b[0m\n\u001b[1;32m    284\u001b[0m             \u001b[0;32mtry\u001b[0m\u001b[0;34m:\u001b[0m\u001b[0;34m\u001b[0m\u001b[0;34m\u001b[0m\u001b[0m\n\u001b[1;32m    285\u001b[0m                 \u001b[0;32mfor\u001b[0m \u001b[0mi\u001b[0m\u001b[0;34m,\u001b[0m \u001b[0mv\u001b[0m \u001b[0;32min\u001b[0m \u001b[0menumerate\u001b[0m\u001b[0;34m(\u001b[0m\u001b[0mseries_gen\u001b[0m\u001b[0;34m)\u001b[0m\u001b[0;34m:\u001b[0m\u001b[0;34m\u001b[0m\u001b[0;34m\u001b[0m\u001b[0m\n\u001b[0;32m--> 286\u001b[0;31m                     \u001b[0mresults\u001b[0m\u001b[0;34m[\u001b[0m\u001b[0mi\u001b[0m\u001b[0;34m]\u001b[0m \u001b[0;34m=\u001b[0m \u001b[0mself\u001b[0m\u001b[0;34m.\u001b[0m\u001b[0mf\u001b[0m\u001b[0;34m(\u001b[0m\u001b[0mv\u001b[0m\u001b[0;34m)\u001b[0m\u001b[0;34m\u001b[0m\u001b[0;34m\u001b[0m\u001b[0m\n\u001b[0m\u001b[1;32m    287\u001b[0m                     \u001b[0mkeys\u001b[0m\u001b[0;34m.\u001b[0m\u001b[0mappend\u001b[0m\u001b[0;34m(\u001b[0m\u001b[0mv\u001b[0m\u001b[0;34m.\u001b[0m\u001b[0mname\u001b[0m\u001b[0;34m)\u001b[0m\u001b[0;34m\u001b[0m\u001b[0;34m\u001b[0m\u001b[0m\n\u001b[1;32m    288\u001b[0m             \u001b[0;32mexcept\u001b[0m \u001b[0mException\u001b[0m \u001b[0;32mas\u001b[0m \u001b[0me\u001b[0m\u001b[0;34m:\u001b[0m\u001b[0;34m\u001b[0m\u001b[0;34m\u001b[0m\u001b[0m\n",
        "\u001b[0;32m<ipython-input-9-928705a05130>\u001b[0m in \u001b[0;36m<lambda>\u001b[0;34m(x)\u001b[0m\n\u001b[1;32m     10\u001b[0m     \u001b[0;32mreturn\u001b[0m \u001b[0mreads\u001b[0m\u001b[0;34m\u001b[0m\u001b[0;34m\u001b[0m\u001b[0m\n\u001b[1;32m     11\u001b[0m \u001b[0;34m\u001b[0m\u001b[0m\n\u001b[0;32m---> 12\u001b[0;31m \u001b[0msra_run_table\u001b[0m\u001b[0;34m.\u001b[0m\u001b[0mapply\u001b[0m\u001b[0;34m(\u001b[0m\u001b[0;32mlambda\u001b[0m \u001b[0mx\u001b[0m\u001b[0;34m:\u001b[0m \u001b[0msrr_to_url\u001b[0m\u001b[0;34m(\u001b[0m\u001b[0mx\u001b[0m\u001b[0;34m[\u001b[0m\u001b[0;34m'Run'\u001b[0m\u001b[0;34m]\u001b[0m\u001b[0;34m,\u001b[0m \u001b[0mx\u001b[0m\u001b[0;34m[\u001b[0m\u001b[0;34m'LibraryLayout'\u001b[0m\u001b[0;34m]\u001b[0m \u001b[0;34m==\u001b[0m \u001b[0;34m'PAIRED'\u001b[0m\u001b[0;34m)\u001b[0m\u001b[0;34m)\u001b[0m\u001b[0;34m\u001b[0m\u001b[0;34m\u001b[0m\u001b[0m\n\u001b[0m",
        "\u001b[0;32m~/miniconda3/envs/kmer-hashing/lib/python3.6/site-packages/pandas/core/series.py\u001b[0m in \u001b[0;36m__getitem__\u001b[0;34m(self, key)\u001b[0m\n\u001b[1;32m    866\u001b[0m         \u001b[0mkey\u001b[0m \u001b[0;34m=\u001b[0m \u001b[0mcom\u001b[0m\u001b[0;34m.\u001b[0m\u001b[0mapply_if_callable\u001b[0m\u001b[0;34m(\u001b[0m\u001b[0mkey\u001b[0m\u001b[0;34m,\u001b[0m \u001b[0mself\u001b[0m\u001b[0;34m)\u001b[0m\u001b[0;34m\u001b[0m\u001b[0;34m\u001b[0m\u001b[0m\n\u001b[1;32m    867\u001b[0m         \u001b[0;32mtry\u001b[0m\u001b[0;34m:\u001b[0m\u001b[0;34m\u001b[0m\u001b[0;34m\u001b[0m\u001b[0m\n\u001b[0;32m--> 868\u001b[0;31m             \u001b[0mresult\u001b[0m \u001b[0;34m=\u001b[0m \u001b[0mself\u001b[0m\u001b[0;34m.\u001b[0m\u001b[0mindex\u001b[0m\u001b[0;34m.\u001b[0m\u001b[0mget_value\u001b[0m\u001b[0;34m(\u001b[0m\u001b[0mself\u001b[0m\u001b[0;34m,\u001b[0m \u001b[0mkey\u001b[0m\u001b[0;34m)\u001b[0m\u001b[0;34m\u001b[0m\u001b[0;34m\u001b[0m\u001b[0m\n\u001b[0m\u001b[1;32m    869\u001b[0m \u001b[0;34m\u001b[0m\u001b[0m\n\u001b[1;32m    870\u001b[0m             \u001b[0;32mif\u001b[0m \u001b[0;32mnot\u001b[0m \u001b[0mis_scalar\u001b[0m\u001b[0;34m(\u001b[0m\u001b[0mresult\u001b[0m\u001b[0;34m)\u001b[0m\u001b[0;34m:\u001b[0m\u001b[0;34m\u001b[0m\u001b[0;34m\u001b[0m\u001b[0m\n",
        "\u001b[0;32m~/miniconda3/envs/kmer-hashing/lib/python3.6/site-packages/pandas/core/indexes/base.py\u001b[0m in \u001b[0;36mget_value\u001b[0;34m(self, series, key)\u001b[0m\n\u001b[1;32m   4373\u001b[0m         \u001b[0;32mtry\u001b[0m\u001b[0;34m:\u001b[0m\u001b[0;34m\u001b[0m\u001b[0;34m\u001b[0m\u001b[0m\n\u001b[1;32m   4374\u001b[0m             return self._engine.get_value(s, k,\n\u001b[0;32m-> 4375\u001b[0;31m                                           tz=getattr(series.dtype, 'tz', None))\n\u001b[0m\u001b[1;32m   4376\u001b[0m         \u001b[0;32mexcept\u001b[0m \u001b[0mKeyError\u001b[0m \u001b[0;32mas\u001b[0m \u001b[0me1\u001b[0m\u001b[0;34m:\u001b[0m\u001b[0;34m\u001b[0m\u001b[0;34m\u001b[0m\u001b[0m\n\u001b[1;32m   4377\u001b[0m             \u001b[0;32mif\u001b[0m \u001b[0mlen\u001b[0m\u001b[0;34m(\u001b[0m\u001b[0mself\u001b[0m\u001b[0;34m)\u001b[0m \u001b[0;34m>\u001b[0m \u001b[0;36m0\u001b[0m \u001b[0;32mand\u001b[0m \u001b[0;34m(\u001b[0m\u001b[0mself\u001b[0m\u001b[0;34m.\u001b[0m\u001b[0mholds_integer\u001b[0m\u001b[0;34m(\u001b[0m\u001b[0;34m)\u001b[0m \u001b[0;32mor\u001b[0m \u001b[0mself\u001b[0m\u001b[0;34m.\u001b[0m\u001b[0mis_boolean\u001b[0m\u001b[0;34m(\u001b[0m\u001b[0;34m)\u001b[0m\u001b[0;34m)\u001b[0m\u001b[0;34m:\u001b[0m\u001b[0;34m\u001b[0m\u001b[0;34m\u001b[0m\u001b[0m\n",
        "\u001b[0;32mpandas/_libs/index.pyx\u001b[0m in \u001b[0;36mpandas._libs.index.IndexEngine.get_value\u001b[0;34m()\u001b[0m\n",
        "\u001b[0;32mpandas/_libs/index.pyx\u001b[0m in \u001b[0;36mpandas._libs.index.IndexEngine.get_value\u001b[0;34m()\u001b[0m\n",
        "\u001b[0;32mpandas/_libs/index.pyx\u001b[0m in \u001b[0;36mpandas._libs.index.IndexEngine.get_loc\u001b[0;34m()\u001b[0m\n",
        "\u001b[0;32mpandas/_libs/index_class_helper.pxi\u001b[0m in \u001b[0;36mpandas._libs.index.Int64Engine._check_type\u001b[0;34m()\u001b[0m\n",
        "\u001b[0;31mKeyError\u001b[0m: ('Run', 'occurred at index Run')"
       ]
      }
     ],
     "persistentId": "14bce4c0-4b3b-49fc-9039-a1b84e9f0776",
     "text": "def srr_to_url(srr_run, is_paired, url_base='ftp://ftp.sra.ebi.ac.uk/vol1/fastq/ '):\n    suffix = f'{srr_run[:6]}/{srr_run}'\n    if is_paired:\n        read1 = f\"{url_base}/{suffix}/{srr_run}_1.fastq.gz\"\n        read2 = f\"{url_base}/{suffix}/{srr_run}_2.fastq.gz\"\n        reads = (read1, read2)\n    else:\n        read1 = f\"{url_base}/{suffix}/{srr_run}.fastq.gz\"\n        reads = (read1,)\n    return reads\n\nsra_run_table.apply(lambda x: srr_to_url(x['Run'], x['LibraryLayout'] == 'PAIRED'))"
    },
    "executionTime": "2019-11-05T15:41:27.970Z"
   },
   {
    "cell": {
     "executionCount": 10,
     "executionEventId": "f4d111fe-9e56-4b1d-bfbb-22e1aedcc5c2",
     "hasError": false,
     "id": "d907b1f4-f356-4b3b-8751-2748813d2d19",
     "outputs": [
      {
       "data": {
        "text/plain": "0      (ftp://ftp.sra.ebi.ac.uk/vol1/fastq/ /SRR306/S...\n1      (ftp://ftp.sra.ebi.ac.uk/vol1/fastq/ /SRR306/S...\n2      (ftp://ftp.sra.ebi.ac.uk/vol1/fastq/ /SRR306/S...\n3      (ftp://ftp.sra.ebi.ac.uk/vol1/fastq/ /SRR306/S...\n4      (ftp://ftp.sra.ebi.ac.uk/vol1/fastq/ /SRR306/S...\n5      (ftp://ftp.sra.ebi.ac.uk/vol1/fastq/ /SRR306/S...\n6      (ftp://ftp.sra.ebi.ac.uk/vol1/fastq/ /SRR306/S...\n7      (ftp://ftp.sra.ebi.ac.uk/vol1/fastq/ /SRR306/S...\n8      (ftp://ftp.sra.ebi.ac.uk/vol1/fastq/ /SRR306/S...\n9      (ftp://ftp.sra.ebi.ac.uk/vol1/fastq/ /SRR306/S...\n10     (ftp://ftp.sra.ebi.ac.uk/vol1/fastq/ /SRR306/S...\n11     (ftp://ftp.sra.ebi.ac.uk/vol1/fastq/ /SRR306/S...\n12     (ftp://ftp.sra.ebi.ac.uk/vol1/fastq/ /SRR306/S...\n13     (ftp://ftp.sra.ebi.ac.uk/vol1/fastq/ /SRR306/S...\n14     (ftp://ftp.sra.ebi.ac.uk/vol1/fastq/ /SRR306/S...\n15     (ftp://ftp.sra.ebi.ac.uk/vol1/fastq/ /SRR306/S...\n16     (ftp://ftp.sra.ebi.ac.uk/vol1/fastq/ /SRR306/S...\n17     (ftp://ftp.sra.ebi.ac.uk/vol1/fastq/ /SRR306/S...\n18     (ftp://ftp.sra.ebi.ac.uk/vol1/fastq/ /SRR306/S...\n19     (ftp://ftp.sra.ebi.ac.uk/vol1/fastq/ /SRR306/S...\n20     (ftp://ftp.sra.ebi.ac.uk/vol1/fastq/ /SRR306/S...\n21     (ftp://ftp.sra.ebi.ac.uk/vol1/fastq/ /SRR306/S...\n22     (ftp://ftp.sra.ebi.ac.uk/vol1/fastq/ /SRR306/S...\n23     (ftp://ftp.sra.ebi.ac.uk/vol1/fastq/ /SRR306/S...\n24     (ftp://ftp.sra.ebi.ac.uk/vol1/fastq/ /SRR306/S...\n25     (ftp://ftp.sra.ebi.ac.uk/vol1/fastq/ /SRR306/S...\n26     (ftp://ftp.sra.ebi.ac.uk/vol1/fastq/ /SRR306/S...\n27     (ftp://ftp.sra.ebi.ac.uk/vol1/fastq/ /SRR306/S...\n28     (ftp://ftp.sra.ebi.ac.uk/vol1/fastq/ /SRR306/S...\n29     (ftp://ftp.sra.ebi.ac.uk/vol1/fastq/ /SRR306/S...\n                             ...                        \n119    (ftp://ftp.sra.ebi.ac.uk/vol1/fastq/ /SRR306/S...\n120    (ftp://ftp.sra.ebi.ac.uk/vol1/fastq/ /SRR306/S...\n121    (ftp://ftp.sra.ebi.ac.uk/vol1/fastq/ /SRR306/S...\n122    (ftp://ftp.sra.ebi.ac.uk/vol1/fastq/ /SRR306/S...\n123    (ftp://ftp.sra.ebi.ac.uk/vol1/fastq/ /SRR306/S...\n124    (ftp://ftp.sra.ebi.ac.uk/vol1/fastq/ /SRR306/S...\n125    (ftp://ftp.sra.ebi.ac.uk/vol1/fastq/ /SRR306/S...\n126    (ftp://ftp.sra.ebi.ac.uk/vol1/fastq/ /SRR306/S...\n127    (ftp://ftp.sra.ebi.ac.uk/vol1/fastq/ /SRR306/S...\n128    (ftp://ftp.sra.ebi.ac.uk/vol1/fastq/ /SRR306/S...\n129    (ftp://ftp.sra.ebi.ac.uk/vol1/fastq/ /SRR306/S...\n130    (ftp://ftp.sra.ebi.ac.uk/vol1/fastq/ /SRR306/S...\n131    (ftp://ftp.sra.ebi.ac.uk/vol1/fastq/ /SRR306/S...\n132    (ftp://ftp.sra.ebi.ac.uk/vol1/fastq/ /SRR306/S...\n133    (ftp://ftp.sra.ebi.ac.uk/vol1/fastq/ /SRR306/S...\n134    (ftp://ftp.sra.ebi.ac.uk/vol1/fastq/ /SRR306/S...\n135    (ftp://ftp.sra.ebi.ac.uk/vol1/fastq/ /SRR306/S...\n136    (ftp://ftp.sra.ebi.ac.uk/vol1/fastq/ /SRR306/S...\n137    (ftp://ftp.sra.ebi.ac.uk/vol1/fastq/ /SRR306/S...\n138    (ftp://ftp.sra.ebi.ac.uk/vol1/fastq/ /SRR306/S...\n139    (ftp://ftp.sra.ebi.ac.uk/vol1/fastq/ /SRR306/S...\n140    (ftp://ftp.sra.ebi.ac.uk/vol1/fastq/ /SRR306/S...\n141    (ftp://ftp.sra.ebi.ac.uk/vol1/fastq/ /SRR306/S...\n142    (ftp://ftp.sra.ebi.ac.uk/vol1/fastq/ /SRR306/S...\n143    (ftp://ftp.sra.ebi.ac.uk/vol1/fastq/ /SRR306/S...\n144    (ftp://ftp.sra.ebi.ac.uk/vol1/fastq/ /SRR306/S...\n145    (ftp://ftp.sra.ebi.ac.uk/vol1/fastq/ /SRR306/S...\n146    (ftp://ftp.sra.ebi.ac.uk/vol1/fastq/ /SRR306/S...\n147    (ftp://ftp.sra.ebi.ac.uk/vol1/fastq/ /SRR306/S...\n148    (ftp://ftp.sra.ebi.ac.uk/vol1/fastq/ /SRR306/S...\nLength: 149, dtype: object"
       },
       "execution_count": 10,
       "metadata": {},
       "output_type": "execute_result"
      }
     ],
     "persistentId": "14bce4c0-4b3b-49fc-9039-a1b84e9f0776",
     "text": "def srr_to_url(srr_run, is_paired, url_base='ftp://ftp.sra.ebi.ac.uk/vol1/fastq/ '):\n    suffix = f'{srr_run[:6]}/{srr_run}'\n    if is_paired:\n        read1 = f\"{url_base}/{suffix}/{srr_run}_1.fastq.gz\"\n        read2 = f\"{url_base}/{suffix}/{srr_run}_2.fastq.gz\"\n        reads = (read1, read2)\n    else:\n        read1 = f\"{url_base}/{suffix}/{srr_run}.fastq.gz\"\n        reads = (read1,)\n    return reads\n\nsra_run_table.apply(lambda x: srr_to_url(x['Run'], x['LibraryLayout'] == 'PAIRED'), axis=1)"
    },
    "executionTime": "2019-11-05T15:41:35.884Z"
   },
   {
    "cell": {
     "executionCount": 11,
     "executionEventId": "1bd441d1-3b46-4f40-9ef1-e4cf878fb4b8",
     "hasError": false,
     "id": "d907b1f4-f356-4b3b-8751-2748813d2d19",
     "outputs": [
      {
       "data": {
        "text/plain": "0      (ftp://ftp.sra.ebi.ac.uk/vol1/fastq//SRR306/SR...\n1      (ftp://ftp.sra.ebi.ac.uk/vol1/fastq//SRR306/SR...\n2      (ftp://ftp.sra.ebi.ac.uk/vol1/fastq//SRR306/SR...\n3      (ftp://ftp.sra.ebi.ac.uk/vol1/fastq//SRR306/SR...\n4      (ftp://ftp.sra.ebi.ac.uk/vol1/fastq//SRR306/SR...\n5      (ftp://ftp.sra.ebi.ac.uk/vol1/fastq//SRR306/SR...\n6      (ftp://ftp.sra.ebi.ac.uk/vol1/fastq//SRR306/SR...\n7      (ftp://ftp.sra.ebi.ac.uk/vol1/fastq//SRR306/SR...\n8      (ftp://ftp.sra.ebi.ac.uk/vol1/fastq//SRR306/SR...\n9      (ftp://ftp.sra.ebi.ac.uk/vol1/fastq//SRR306/SR...\n10     (ftp://ftp.sra.ebi.ac.uk/vol1/fastq//SRR306/SR...\n11     (ftp://ftp.sra.ebi.ac.uk/vol1/fastq//SRR306/SR...\n12     (ftp://ftp.sra.ebi.ac.uk/vol1/fastq//SRR306/SR...\n13     (ftp://ftp.sra.ebi.ac.uk/vol1/fastq//SRR306/SR...\n14     (ftp://ftp.sra.ebi.ac.uk/vol1/fastq//SRR306/SR...\n15     (ftp://ftp.sra.ebi.ac.uk/vol1/fastq//SRR306/SR...\n16     (ftp://ftp.sra.ebi.ac.uk/vol1/fastq//SRR306/SR...\n17     (ftp://ftp.sra.ebi.ac.uk/vol1/fastq//SRR306/SR...\n18     (ftp://ftp.sra.ebi.ac.uk/vol1/fastq//SRR306/SR...\n19     (ftp://ftp.sra.ebi.ac.uk/vol1/fastq//SRR306/SR...\n20     (ftp://ftp.sra.ebi.ac.uk/vol1/fastq//SRR306/SR...\n21     (ftp://ftp.sra.ebi.ac.uk/vol1/fastq//SRR306/SR...\n22     (ftp://ftp.sra.ebi.ac.uk/vol1/fastq//SRR306/SR...\n23     (ftp://ftp.sra.ebi.ac.uk/vol1/fastq//SRR306/SR...\n24     (ftp://ftp.sra.ebi.ac.uk/vol1/fastq//SRR306/SR...\n25     (ftp://ftp.sra.ebi.ac.uk/vol1/fastq//SRR306/SR...\n26     (ftp://ftp.sra.ebi.ac.uk/vol1/fastq//SRR306/SR...\n27     (ftp://ftp.sra.ebi.ac.uk/vol1/fastq//SRR306/SR...\n28     (ftp://ftp.sra.ebi.ac.uk/vol1/fastq//SRR306/SR...\n29     (ftp://ftp.sra.ebi.ac.uk/vol1/fastq//SRR306/SR...\n                             ...                        \n119    (ftp://ftp.sra.ebi.ac.uk/vol1/fastq//SRR306/SR...\n120    (ftp://ftp.sra.ebi.ac.uk/vol1/fastq//SRR306/SR...\n121    (ftp://ftp.sra.ebi.ac.uk/vol1/fastq//SRR306/SR...\n122    (ftp://ftp.sra.ebi.ac.uk/vol1/fastq//SRR306/SR...\n123    (ftp://ftp.sra.ebi.ac.uk/vol1/fastq//SRR306/SR...\n124    (ftp://ftp.sra.ebi.ac.uk/vol1/fastq//SRR306/SR...\n125    (ftp://ftp.sra.ebi.ac.uk/vol1/fastq//SRR306/SR...\n126    (ftp://ftp.sra.ebi.ac.uk/vol1/fastq//SRR306/SR...\n127    (ftp://ftp.sra.ebi.ac.uk/vol1/fastq//SRR306/SR...\n128    (ftp://ftp.sra.ebi.ac.uk/vol1/fastq//SRR306/SR...\n129    (ftp://ftp.sra.ebi.ac.uk/vol1/fastq//SRR306/SR...\n130    (ftp://ftp.sra.ebi.ac.uk/vol1/fastq//SRR306/SR...\n131    (ftp://ftp.sra.ebi.ac.uk/vol1/fastq//SRR306/SR...\n132    (ftp://ftp.sra.ebi.ac.uk/vol1/fastq//SRR306/SR...\n133    (ftp://ftp.sra.ebi.ac.uk/vol1/fastq//SRR306/SR...\n134    (ftp://ftp.sra.ebi.ac.uk/vol1/fastq//SRR306/SR...\n135    (ftp://ftp.sra.ebi.ac.uk/vol1/fastq//SRR306/SR...\n136    (ftp://ftp.sra.ebi.ac.uk/vol1/fastq//SRR306/SR...\n137    (ftp://ftp.sra.ebi.ac.uk/vol1/fastq//SRR306/SR...\n138    (ftp://ftp.sra.ebi.ac.uk/vol1/fastq//SRR306/SR...\n139    (ftp://ftp.sra.ebi.ac.uk/vol1/fastq//SRR306/SR...\n140    (ftp://ftp.sra.ebi.ac.uk/vol1/fastq//SRR306/SR...\n141    (ftp://ftp.sra.ebi.ac.uk/vol1/fastq//SRR306/SR...\n142    (ftp://ftp.sra.ebi.ac.uk/vol1/fastq//SRR306/SR...\n143    (ftp://ftp.sra.ebi.ac.uk/vol1/fastq//SRR306/SR...\n144    (ftp://ftp.sra.ebi.ac.uk/vol1/fastq//SRR306/SR...\n145    (ftp://ftp.sra.ebi.ac.uk/vol1/fastq//SRR306/SR...\n146    (ftp://ftp.sra.ebi.ac.uk/vol1/fastq//SRR306/SR...\n147    (ftp://ftp.sra.ebi.ac.uk/vol1/fastq//SRR306/SR...\n148    (ftp://ftp.sra.ebi.ac.uk/vol1/fastq//SRR306/SR...\nLength: 149, dtype: object"
       },
       "execution_count": 11,
       "metadata": {},
       "output_type": "execute_result"
      }
     ],
     "persistentId": "14bce4c0-4b3b-49fc-9039-a1b84e9f0776",
     "text": "def srr_to_url(srr_run, is_paired, url_base='ftp://ftp.sra.ebi.ac.uk/vol1/fastq/'):\n    suffix = f'{srr_run[:6]}/{srr_run}'\n    if is_paired:\n        read1 = f\"{url_base}/{suffix}/{srr_run}_1.fastq.gz\"\n        read2 = f\"{url_base}/{suffix}/{srr_run}_2.fastq.gz\"\n        reads = (read1, read2)\n    else:\n        read1 = f\"{url_base}/{suffix}/{srr_run}.fastq.gz\"\n        reads = (read1,)\n    return reads\n\nsra_run_table.apply(lambda x: srr_to_url(x['Run'], x['LibraryLayout'] == 'PAIRED'), axis=1)"
    },
    "executionTime": "2019-11-05T15:41:40.583Z"
   },
   {
    "cell": {
     "executionCount": 12,
     "executionEventId": "74afa820-afef-4e17-a51f-855b51bb4f43",
     "hasError": false,
     "id": "d907b1f4-f356-4b3b-8751-2748813d2d19",
     "outputs": [
      {
       "data": {
        "text/plain": "array([('ftp://ftp.sra.ebi.ac.uk/vol1/fastq//SRR306/SRR306710/SRR306710.fastq.gz',),\n       ('ftp://ftp.sra.ebi.ac.uk/vol1/fastq//SRR306/SRR306711/SRR306711.fastq.gz',),\n       ('ftp://ftp.sra.ebi.ac.uk/vol1/fastq//SRR306/SRR306712/SRR306712.fastq.gz',),\n       ('ftp://ftp.sra.ebi.ac.uk/vol1/fastq//SRR306/SRR306713/SRR306713.fastq.gz',),\n       ('ftp://ftp.sra.ebi.ac.uk/vol1/fastq//SRR306/SRR306714/SRR306714.fastq.gz',),\n       ('ftp://ftp.sra.ebi.ac.uk/vol1/fastq//SRR306/SRR306715/SRR306715.fastq.gz',),\n       ('ftp://ftp.sra.ebi.ac.uk/vol1/fastq//SRR306/SRR306716/SRR306716.fastq.gz',),\n       ('ftp://ftp.sra.ebi.ac.uk/vol1/fastq//SRR306/SRR306717/SRR306717.fastq.gz',),\n       ('ftp://ftp.sra.ebi.ac.uk/vol1/fastq//SRR306/SRR306718/SRR306718.fastq.gz',),\n       ('ftp://ftp.sra.ebi.ac.uk/vol1/fastq//SRR306/SRR306719/SRR306719.fastq.gz',),\n       ('ftp://ftp.sra.ebi.ac.uk/vol1/fastq//SRR306/SRR306720/SRR306720.fastq.gz',),\n       ('ftp://ftp.sra.ebi.ac.uk/vol1/fastq//SRR306/SRR306721/SRR306721.fastq.gz',),\n       ('ftp://ftp.sra.ebi.ac.uk/vol1/fastq//SRR306/SRR306722/SRR306722.fastq.gz',),\n       ('ftp://ftp.sra.ebi.ac.uk/vol1/fastq//SRR306/SRR306723/SRR306723.fastq.gz',),\n       ('ftp://ftp.sra.ebi.ac.uk/vol1/fastq//SRR306/SRR306724/SRR306724.fastq.gz',),\n       ('ftp://ftp.sra.ebi.ac.uk/vol1/fastq//SRR306/SRR306725/SRR306725.fastq.gz',),\n       ('ftp://ftp.sra.ebi.ac.uk/vol1/fastq//SRR306/SRR306726/SRR306726.fastq.gz',),\n       ('ftp://ftp.sra.ebi.ac.uk/vol1/fastq//SRR306/SRR306727/SRR306727.fastq.gz',),\n       ('ftp://ftp.sra.ebi.ac.uk/vol1/fastq//SRR306/SRR306728/SRR306728.fastq.gz',),\n       ('ftp://ftp.sra.ebi.ac.uk/vol1/fastq//SRR306/SRR306729/SRR306729.fastq.gz',),\n       ('ftp://ftp.sra.ebi.ac.uk/vol1/fastq//SRR306/SRR306730/SRR306730.fastq.gz',),\n       ('ftp://ftp.sra.ebi.ac.uk/vol1/fastq//SRR306/SRR306731/SRR306731.fastq.gz',),\n       ('ftp://ftp.sra.ebi.ac.uk/vol1/fastq//SRR306/SRR306732/SRR306732.fastq.gz',),\n       ('ftp://ftp.sra.ebi.ac.uk/vol1/fastq//SRR306/SRR306733/SRR306733.fastq.gz',),\n       ('ftp://ftp.sra.ebi.ac.uk/vol1/fastq//SRR306/SRR306734/SRR306734.fastq.gz',),\n       ('ftp://ftp.sra.ebi.ac.uk/vol1/fastq//SRR306/SRR306735/SRR306735.fastq.gz',),\n       ('ftp://ftp.sra.ebi.ac.uk/vol1/fastq//SRR306/SRR306736/SRR306736.fastq.gz',),\n       ('ftp://ftp.sra.ebi.ac.uk/vol1/fastq//SRR306/SRR306737/SRR306737.fastq.gz',),\n       ('ftp://ftp.sra.ebi.ac.uk/vol1/fastq//SRR306/SRR306738/SRR306738.fastq.gz',),\n       ('ftp://ftp.sra.ebi.ac.uk/vol1/fastq//SRR306/SRR306739/SRR306739.fastq.gz',),\n       ('ftp://ftp.sra.ebi.ac.uk/vol1/fastq//SRR306/SRR306741/SRR306741.fastq.gz',),\n       ('ftp://ftp.sra.ebi.ac.uk/vol1/fastq//SRR306/SRR306742/SRR306742.fastq.gz',),\n       ('ftp://ftp.sra.ebi.ac.uk/vol1/fastq//SRR306/SRR306743/SRR306743.fastq.gz',),\n       ('ftp://ftp.sra.ebi.ac.uk/vol1/fastq//SRR306/SRR306744/SRR306744.fastq.gz',),\n       ('ftp://ftp.sra.ebi.ac.uk/vol1/fastq//SRR306/SRR306745/SRR306745.fastq.gz',),\n       ('ftp://ftp.sra.ebi.ac.uk/vol1/fastq//SRR306/SRR306746/SRR306746.fastq.gz',),\n       ('ftp://ftp.sra.ebi.ac.uk/vol1/fastq//SRR306/SRR306747/SRR306747.fastq.gz',),\n       ('ftp://ftp.sra.ebi.ac.uk/vol1/fastq//SRR306/SRR306748/SRR306748.fastq.gz',),\n       ('ftp://ftp.sra.ebi.ac.uk/vol1/fastq//SRR306/SRR306749/SRR306749.fastq.gz',),\n       ('ftp://ftp.sra.ebi.ac.uk/vol1/fastq//SRR306/SRR306750/SRR306750.fastq.gz',),\n       ('ftp://ftp.sra.ebi.ac.uk/vol1/fastq//SRR306/SRR306751/SRR306751.fastq.gz',),\n       ('ftp://ftp.sra.ebi.ac.uk/vol1/fastq//SRR306/SRR306752/SRR306752.fastq.gz',),\n       ('ftp://ftp.sra.ebi.ac.uk/vol1/fastq//SRR306/SRR306753/SRR306753.fastq.gz',),\n       ('ftp://ftp.sra.ebi.ac.uk/vol1/fastq//SRR306/SRR306754/SRR306754.fastq.gz',),\n       ('ftp://ftp.sra.ebi.ac.uk/vol1/fastq//SRR306/SRR306755/SRR306755.fastq.gz',),\n       ('ftp://ftp.sra.ebi.ac.uk/vol1/fastq//SRR306/SRR306756/SRR306756.fastq.gz',),\n       ('ftp://ftp.sra.ebi.ac.uk/vol1/fastq//SRR306/SRR306757/SRR306757.fastq.gz',),\n       ('ftp://ftp.sra.ebi.ac.uk/vol1/fastq//SRR306/SRR306758/SRR306758.fastq.gz',),\n       ('ftp://ftp.sra.ebi.ac.uk/vol1/fastq//SRR306/SRR306759/SRR306759.fastq.gz',),\n       ('ftp://ftp.sra.ebi.ac.uk/vol1/fastq//SRR306/SRR306760/SRR306760.fastq.gz',),\n       ('ftp://ftp.sra.ebi.ac.uk/vol1/fastq//SRR306/SRR306761/SRR306761.fastq.gz',),\n       ('ftp://ftp.sra.ebi.ac.uk/vol1/fastq//SRR306/SRR306762/SRR306762.fastq.gz',),\n       ('ftp://ftp.sra.ebi.ac.uk/vol1/fastq//SRR306/SRR306763/SRR306763.fastq.gz',),\n       ('ftp://ftp.sra.ebi.ac.uk/vol1/fastq//SRR306/SRR306764/SRR306764.fastq.gz',),\n       ('ftp://ftp.sra.ebi.ac.uk/vol1/fastq//SRR306/SRR306765/SRR306765.fastq.gz',),\n       ('ftp://ftp.sra.ebi.ac.uk/vol1/fastq//SRR306/SRR306766/SRR306766.fastq.gz',),\n       ('ftp://ftp.sra.ebi.ac.uk/vol1/fastq//SRR306/SRR306767/SRR306767.fastq.gz',),\n       ('ftp://ftp.sra.ebi.ac.uk/vol1/fastq//SRR306/SRR306768/SRR306768.fastq.gz',),\n       ('ftp://ftp.sra.ebi.ac.uk/vol1/fastq//SRR306/SRR306769/SRR306769.fastq.gz',),\n       ('ftp://ftp.sra.ebi.ac.uk/vol1/fastq//SRR306/SRR306770/SRR306770.fastq.gz',),\n       ('ftp://ftp.sra.ebi.ac.uk/vol1/fastq//SRR306/SRR306771/SRR306771.fastq.gz',),\n       ('ftp://ftp.sra.ebi.ac.uk/vol1/fastq//SRR306/SRR306772/SRR306772.fastq.gz',),\n       ('ftp://ftp.sra.ebi.ac.uk/vol1/fastq//SRR306/SRR306773/SRR306773.fastq.gz',),\n       ('ftp://ftp.sra.ebi.ac.uk/vol1/fastq//SRR306/SRR306774/SRR306774.fastq.gz',),\n       ('ftp://ftp.sra.ebi.ac.uk/vol1/fastq//SRR306/SRR306775/SRR306775.fastq.gz',),\n       ('ftp://ftp.sra.ebi.ac.uk/vol1/fastq//SRR306/SRR306776/SRR306776.fastq.gz',),\n       ('ftp://ftp.sra.ebi.ac.uk/vol1/fastq//SRR306/SRR306777/SRR306777.fastq.gz',),\n       ('ftp://ftp.sra.ebi.ac.uk/vol1/fastq//SRR306/SRR306778/SRR306778.fastq.gz',),\n       ('ftp://ftp.sra.ebi.ac.uk/vol1/fastq//SRR306/SRR306779/SRR306779_1.fastq.gz', 'ftp://ftp.sra.ebi.ac.uk/vol1/fastq//SRR306/SRR306779/SRR306779_2.fastq.gz'),\n       ('ftp://ftp.sra.ebi.ac.uk/vol1/fastq//SRR306/SRR306780/SRR306780.fastq.gz',),\n       ('ftp://ftp.sra.ebi.ac.uk/vol1/fastq//SRR306/SRR306781/SRR306781.fastq.gz',),\n       ('ftp://ftp.sra.ebi.ac.uk/vol1/fastq//SRR306/SRR306782/SRR306782.fastq.gz',),\n       ('ftp://ftp.sra.ebi.ac.uk/vol1/fastq//SRR306/SRR306783/SRR306783.fastq.gz',),\n       ('ftp://ftp.sra.ebi.ac.uk/vol1/fastq//SRR306/SRR306784/SRR306784.fastq.gz',),\n       ('ftp://ftp.sra.ebi.ac.uk/vol1/fastq//SRR306/SRR306785/SRR306785.fastq.gz',),\n       ('ftp://ftp.sra.ebi.ac.uk/vol1/fastq//SRR306/SRR306786/SRR306786.fastq.gz',),\n       ('ftp://ftp.sra.ebi.ac.uk/vol1/fastq//SRR306/SRR306787/SRR306787.fastq.gz',),\n       ('ftp://ftp.sra.ebi.ac.uk/vol1/fastq//SRR306/SRR306788/SRR306788.fastq.gz',),\n       ('ftp://ftp.sra.ebi.ac.uk/vol1/fastq//SRR306/SRR306789/SRR306789.fastq.gz',),\n       ('ftp://ftp.sra.ebi.ac.uk/vol1/fastq//SRR306/SRR306790/SRR306790.fastq.gz',),\n       ('ftp://ftp.sra.ebi.ac.uk/vol1/fastq//SRR306/SRR306791/SRR306791.fastq.gz',),\n       ('ftp://ftp.sra.ebi.ac.uk/vol1/fastq//SRR306/SRR306792/SRR306792_1.fastq.gz', 'ftp://ftp.sra.ebi.ac.uk/vol1/fastq//SRR306/SRR306792/SRR306792_2.fastq.gz'),\n       ('ftp://ftp.sra.ebi.ac.uk/vol1/fastq//SRR306/SRR306793/SRR306793.fastq.gz',),\n       ('ftp://ftp.sra.ebi.ac.uk/vol1/fastq//SRR306/SRR306794/SRR306794.fastq.gz',),\n       ('ftp://ftp.sra.ebi.ac.uk/vol1/fastq//SRR306/SRR306795/SRR306795.fastq.gz',),\n       ('ftp://ftp.sra.ebi.ac.uk/vol1/fastq//SRR306/SRR306796/SRR306796.fastq.gz',),\n       ('ftp://ftp.sra.ebi.ac.uk/vol1/fastq//SRR306/SRR306797/SRR306797.fastq.gz',),\n       ('ftp://ftp.sra.ebi.ac.uk/vol1/fastq//SRR306/SRR306798/SRR306798.fastq.gz',),\n       ('ftp://ftp.sra.ebi.ac.uk/vol1/fastq//SRR306/SRR306799/SRR306799.fastq.gz',),\n       ('ftp://ftp.sra.ebi.ac.uk/vol1/fastq//SRR306/SRR306800/SRR306800.fastq.gz',),\n       ('ftp://ftp.sra.ebi.ac.uk/vol1/fastq//SRR306/SRR306801/SRR306801_1.fastq.gz', 'ftp://ftp.sra.ebi.ac.uk/vol1/fastq//SRR306/SRR306801/SRR306801_2.fastq.gz'),\n       ('ftp://ftp.sra.ebi.ac.uk/vol1/fastq//SRR306/SRR306802/SRR306802.fastq.gz',),\n       ('ftp://ftp.sra.ebi.ac.uk/vol1/fastq//SRR306/SRR306803/SRR306803.fastq.gz',),\n       ('ftp://ftp.sra.ebi.ac.uk/vol1/fastq//SRR306/SRR306804/SRR306804.fastq.gz',),\n       ('ftp://ftp.sra.ebi.ac.uk/vol1/fastq//SRR306/SRR306805/SRR306805.fastq.gz',),\n       ('ftp://ftp.sra.ebi.ac.uk/vol1/fastq//SRR306/SRR306806/SRR306806.fastq.gz',),\n       ('ftp://ftp.sra.ebi.ac.uk/vol1/fastq//SRR306/SRR306808/SRR306808.fastq.gz',),\n       ('ftp://ftp.sra.ebi.ac.uk/vol1/fastq//SRR306/SRR306809/SRR306809.fastq.gz',),\n       ('ftp://ftp.sra.ebi.ac.uk/vol1/fastq//SRR306/SRR306810/SRR306810.fastq.gz',),\n       ('ftp://ftp.sra.ebi.ac.uk/vol1/fastq//SRR306/SRR306811/SRR306811.fastq.gz',),\n       ('ftp://ftp.sra.ebi.ac.uk/vol1/fastq//SRR306/SRR306812/SRR306812_1.fastq.gz', 'ftp://ftp.sra.ebi.ac.uk/vol1/fastq//SRR306/SRR306812/SRR306812_2.fastq.gz'),\n       ('ftp://ftp.sra.ebi.ac.uk/vol1/fastq//SRR306/SRR306813/SRR306813_1.fastq.gz', 'ftp://ftp.sra.ebi.ac.uk/vol1/fastq//SRR306/SRR306813/SRR306813_2.fastq.gz'),\n       ('ftp://ftp.sra.ebi.ac.uk/vol1/fastq//SRR306/SRR306814/SRR306814_1.fastq.gz', 'ftp://ftp.sra.ebi.ac.uk/vol1/fastq//SRR306/SRR306814/SRR306814_2.fastq.gz'),\n       ('ftp://ftp.sra.ebi.ac.uk/vol1/fastq//SRR306/SRR306815/SRR306815_1.fastq.gz', 'ftp://ftp.sra.ebi.ac.uk/vol1/fastq//SRR306/SRR306815/SRR306815_2.fastq.gz'),\n       ('ftp://ftp.sra.ebi.ac.uk/vol1/fastq//SRR306/SRR306816/SRR306816_1.fastq.gz', 'ftp://ftp.sra.ebi.ac.uk/vol1/fastq//SRR306/SRR306816/SRR306816_2.fastq.gz'),\n       ('ftp://ftp.sra.ebi.ac.uk/vol1/fastq//SRR306/SRR306817/SRR306817.fastq.gz',),\n       ('ftp://ftp.sra.ebi.ac.uk/vol1/fastq//SRR306/SRR306818/SRR306818.fastq.gz',),\n       ('ftp://ftp.sra.ebi.ac.uk/vol1/fastq//SRR306/SRR306819/SRR306819.fastq.gz',),\n       ('ftp://ftp.sra.ebi.ac.uk/vol1/fastq//SRR306/SRR306820/SRR306820.fastq.gz',),\n       ('ftp://ftp.sra.ebi.ac.uk/vol1/fastq//SRR306/SRR306821/SRR306821.fastq.gz',),\n       ('ftp://ftp.sra.ebi.ac.uk/vol1/fastq//SRR306/SRR306822/SRR306822.fastq.gz',),\n       ('ftp://ftp.sra.ebi.ac.uk/vol1/fastq//SRR306/SRR306823/SRR306823.fastq.gz',),\n       ('ftp://ftp.sra.ebi.ac.uk/vol1/fastq//SRR306/SRR306824/SRR306824.fastq.gz',),\n       ('ftp://ftp.sra.ebi.ac.uk/vol1/fastq//SRR306/SRR306825/SRR306825.fastq.gz',),\n       ('ftp://ftp.sra.ebi.ac.uk/vol1/fastq//SRR306/SRR306826/SRR306826_1.fastq.gz', 'ftp://ftp.sra.ebi.ac.uk/vol1/fastq//SRR306/SRR306826/SRR306826_2.fastq.gz'),\n       ('ftp://ftp.sra.ebi.ac.uk/vol1/fastq//SRR306/SRR306827/SRR306827.fastq.gz',),\n       ('ftp://ftp.sra.ebi.ac.uk/vol1/fastq//SRR306/SRR306828/SRR306828.fastq.gz',),\n       ('ftp://ftp.sra.ebi.ac.uk/vol1/fastq//SRR306/SRR306829/SRR306829.fastq.gz',),\n       ('ftp://ftp.sra.ebi.ac.uk/vol1/fastq//SRR306/SRR306830/SRR306830.fastq.gz',),\n       ('ftp://ftp.sra.ebi.ac.uk/vol1/fastq//SRR306/SRR306831/SRR306831.fastq.gz',),\n       ('ftp://ftp.sra.ebi.ac.uk/vol1/fastq//SRR306/SRR306832/SRR306832.fastq.gz',),\n       ('ftp://ftp.sra.ebi.ac.uk/vol1/fastq//SRR306/SRR306833/SRR306833.fastq.gz',),\n       ('ftp://ftp.sra.ebi.ac.uk/vol1/fastq//SRR306/SRR306834/SRR306834.fastq.gz',),\n       ('ftp://ftp.sra.ebi.ac.uk/vol1/fastq//SRR306/SRR306835/SRR306835.fastq.gz',),\n       ('ftp://ftp.sra.ebi.ac.uk/vol1/fastq//SRR306/SRR306836/SRR306836.fastq.gz',),\n       ('ftp://ftp.sra.ebi.ac.uk/vol1/fastq//SRR306/SRR306837/SRR306837.fastq.gz',),\n       ('ftp://ftp.sra.ebi.ac.uk/vol1/fastq//SRR306/SRR306838/SRR306838.fastq.gz',),\n       ('ftp://ftp.sra.ebi.ac.uk/vol1/fastq//SRR306/SRR306839/SRR306839.fastq.gz',),\n       ('ftp://ftp.sra.ebi.ac.uk/vol1/fastq//SRR306/SRR306840/SRR306840_1.fastq.gz', 'ftp://ftp.sra.ebi.ac.uk/vol1/fastq//SRR306/SRR306840/SRR306840_2.fastq.gz'),\n       ('ftp://ftp.sra.ebi.ac.uk/vol1/fastq//SRR306/SRR306841/SRR306841.fastq.gz',),\n       ('ftp://ftp.sra.ebi.ac.uk/vol1/fastq//SRR306/SRR306842/SRR306842_1.fastq.gz', 'ftp://ftp.sra.ebi.ac.uk/vol1/fastq//SRR306/SRR306842/SRR306842_2.fastq.gz'),\n       ('ftp://ftp.sra.ebi.ac.uk/vol1/fastq//SRR306/SRR306843/SRR306843.fastq.gz',),\n       ('ftp://ftp.sra.ebi.ac.uk/vol1/fastq//SRR306/SRR306844/SRR306844.fastq.gz',),\n       ('ftp://ftp.sra.ebi.ac.uk/vol1/fastq//SRR306/SRR306845/SRR306845.fastq.gz',),\n       ('ftp://ftp.sra.ebi.ac.uk/vol1/fastq//SRR306/SRR306846/SRR306846.fastq.gz',),\n       ('ftp://ftp.sra.ebi.ac.uk/vol1/fastq//SRR306/SRR306847/SRR306847.fastq.gz',),\n       ('ftp://ftp.sra.ebi.ac.uk/vol1/fastq//SRR306/SRR306848/SRR306848.fastq.gz',),\n       ('ftp://ftp.sra.ebi.ac.uk/vol1/fastq//SRR306/SRR306849/SRR306849.fastq.gz',),\n       ('ftp://ftp.sra.ebi.ac.uk/vol1/fastq//SRR306/SRR306850/SRR306850.fastq.gz',),\n       ('ftp://ftp.sra.ebi.ac.uk/vol1/fastq//SRR306/SRR306851/SRR306851.fastq.gz',),\n       ('ftp://ftp.sra.ebi.ac.uk/vol1/fastq//SRR306/SRR306852/SRR306852.fastq.gz',),\n       ('ftp://ftp.sra.ebi.ac.uk/vol1/fastq//SRR306/SRR306853/SRR306853.fastq.gz',),\n       ('ftp://ftp.sra.ebi.ac.uk/vol1/fastq//SRR306/SRR306854/SRR306854.fastq.gz',),\n       ('ftp://ftp.sra.ebi.ac.uk/vol1/fastq//SRR306/SRR306855/SRR306855.fastq.gz',),\n       ('ftp://ftp.sra.ebi.ac.uk/vol1/fastq//SRR306/SRR306856/SRR306856.fastq.gz',),\n       ('ftp://ftp.sra.ebi.ac.uk/vol1/fastq//SRR306/SRR306857/SRR306857.fastq.gz',),\n       ('ftp://ftp.sra.ebi.ac.uk/vol1/fastq//SRR306/SRR306858/SRR306858.fastq.gz',),\n       ('ftp://ftp.sra.ebi.ac.uk/vol1/fastq//SRR306/SRR306807/SRR306807.fastq.gz',),\n       ('ftp://ftp.sra.ebi.ac.uk/vol1/fastq//SRR306/SRR306740/SRR306740.fastq.gz',)],\n      dtype=object)"
       },
       "execution_count": 12,
       "metadata": {},
       "output_type": "execute_result"
      }
     ],
     "persistentId": "14bce4c0-4b3b-49fc-9039-a1b84e9f0776",
     "text": "def srr_to_url(srr_run, is_paired, url_base='ftp://ftp.sra.ebi.ac.uk/vol1/fastq/'):\n    suffix = f'{srr_run[:6]}/{srr_run}'\n    if is_paired:\n        read1 = f\"{url_base}/{suffix}/{srr_run}_1.fastq.gz\"\n        read2 = f\"{url_base}/{suffix}/{srr_run}_2.fastq.gz\"\n        reads = (read1, read2)\n    else:\n        read1 = f\"{url_base}/{suffix}/{srr_run}.fastq.gz\"\n        reads = (read1,)\n    return reads\n\nsra_run_table.apply(lambda x: srr_to_url(x['Run'], x['LibraryLayout'] == 'PAIRED'), axis=1).values"
    },
    "executionTime": "2019-11-05T15:41:48.562Z"
   },
   {
    "cell": {
     "executionCount": 13,
     "executionEventId": "8d335d0c-0528-49bc-9f6b-d7ac61580517",
     "hasError": true,
     "id": "d907b1f4-f356-4b3b-8751-2748813d2d19",
     "outputs": [
      {
       "ename": "TypeError",
       "evalue": "'numpy.flatiter' object is not callable",
       "output_type": "error",
       "traceback": [
        "\u001b[0;31m---------------------------------------------------------------------------\u001b[0m",
        "\u001b[0;31mTypeError\u001b[0m                                 Traceback (most recent call last)",
        "\u001b[0;32m<ipython-input-13-cf5c90e42c1a>\u001b[0m in \u001b[0;36m<module>\u001b[0;34m()\u001b[0m\n\u001b[1;32m     10\u001b[0m     \u001b[0;32mreturn\u001b[0m \u001b[0mreads\u001b[0m\u001b[0;34m\u001b[0m\u001b[0;34m\u001b[0m\u001b[0m\n\u001b[1;32m     11\u001b[0m \u001b[0;34m\u001b[0m\u001b[0m\n\u001b[0;32m---> 12\u001b[0;31m \u001b[0msra_run_table\u001b[0m\u001b[0;34m.\u001b[0m\u001b[0mapply\u001b[0m\u001b[0;34m(\u001b[0m\u001b[0;32mlambda\u001b[0m \u001b[0mx\u001b[0m\u001b[0;34m:\u001b[0m \u001b[0msrr_to_url\u001b[0m\u001b[0;34m(\u001b[0m\u001b[0mx\u001b[0m\u001b[0;34m[\u001b[0m\u001b[0;34m'Run'\u001b[0m\u001b[0;34m]\u001b[0m\u001b[0;34m,\u001b[0m \u001b[0mx\u001b[0m\u001b[0;34m[\u001b[0m\u001b[0;34m'LibraryLayout'\u001b[0m\u001b[0;34m]\u001b[0m \u001b[0;34m==\u001b[0m \u001b[0;34m'PAIRED'\u001b[0m\u001b[0;34m)\u001b[0m\u001b[0;34m,\u001b[0m \u001b[0maxis\u001b[0m\u001b[0;34m=\u001b[0m\u001b[0;36m1\u001b[0m\u001b[0;34m)\u001b[0m\u001b[0;34m.\u001b[0m\u001b[0mvalues\u001b[0m\u001b[0;34m.\u001b[0m\u001b[0mflat\u001b[0m\u001b[0;34m(\u001b[0m\u001b[0;34m)\u001b[0m\u001b[0;34m\u001b[0m\u001b[0;34m\u001b[0m\u001b[0m\n\u001b[0m",
        "\u001b[0;31mTypeError\u001b[0m: 'numpy.flatiter' object is not callable"
       ]
      }
     ],
     "persistentId": "14bce4c0-4b3b-49fc-9039-a1b84e9f0776",
     "text": "def srr_to_url(srr_run, is_paired, url_base='ftp://ftp.sra.ebi.ac.uk/vol1/fastq/'):\n    suffix = f'{srr_run[:6]}/{srr_run}'\n    if is_paired:\n        read1 = f\"{url_base}/{suffix}/{srr_run}_1.fastq.gz\"\n        read2 = f\"{url_base}/{suffix}/{srr_run}_2.fastq.gz\"\n        reads = (read1, read2)\n    else:\n        read1 = f\"{url_base}/{suffix}/{srr_run}.fastq.gz\"\n        reads = (read1,)\n    return reads\n\nsra_run_table.apply(lambda x: srr_to_url(x['Run'], x['LibraryLayout'] == 'PAIRED'), axis=1).values.flat()"
    },
    "executionTime": "2019-11-05T15:41:55.495Z"
   },
   {
    "cell": {
     "executionCount": 14,
     "executionEventId": "72de828d-31b5-4a18-8840-c668dd98d22b",
     "hasError": false,
     "id": "d907b1f4-f356-4b3b-8751-2748813d2d19",
     "outputs": [
      {
       "data": {
        "text/plain": "array([('ftp://ftp.sra.ebi.ac.uk/vol1/fastq//SRR306/SRR306710/SRR306710.fastq.gz',),\n       ('ftp://ftp.sra.ebi.ac.uk/vol1/fastq//SRR306/SRR306711/SRR306711.fastq.gz',),\n       ('ftp://ftp.sra.ebi.ac.uk/vol1/fastq//SRR306/SRR306712/SRR306712.fastq.gz',),\n       ('ftp://ftp.sra.ebi.ac.uk/vol1/fastq//SRR306/SRR306713/SRR306713.fastq.gz',),\n       ('ftp://ftp.sra.ebi.ac.uk/vol1/fastq//SRR306/SRR306714/SRR306714.fastq.gz',),\n       ('ftp://ftp.sra.ebi.ac.uk/vol1/fastq//SRR306/SRR306715/SRR306715.fastq.gz',),\n       ('ftp://ftp.sra.ebi.ac.uk/vol1/fastq//SRR306/SRR306716/SRR306716.fastq.gz',),\n       ('ftp://ftp.sra.ebi.ac.uk/vol1/fastq//SRR306/SRR306717/SRR306717.fastq.gz',),\n       ('ftp://ftp.sra.ebi.ac.uk/vol1/fastq//SRR306/SRR306718/SRR306718.fastq.gz',),\n       ('ftp://ftp.sra.ebi.ac.uk/vol1/fastq//SRR306/SRR306719/SRR306719.fastq.gz',),\n       ('ftp://ftp.sra.ebi.ac.uk/vol1/fastq//SRR306/SRR306720/SRR306720.fastq.gz',),\n       ('ftp://ftp.sra.ebi.ac.uk/vol1/fastq//SRR306/SRR306721/SRR306721.fastq.gz',),\n       ('ftp://ftp.sra.ebi.ac.uk/vol1/fastq//SRR306/SRR306722/SRR306722.fastq.gz',),\n       ('ftp://ftp.sra.ebi.ac.uk/vol1/fastq//SRR306/SRR306723/SRR306723.fastq.gz',),\n       ('ftp://ftp.sra.ebi.ac.uk/vol1/fastq//SRR306/SRR306724/SRR306724.fastq.gz',),\n       ('ftp://ftp.sra.ebi.ac.uk/vol1/fastq//SRR306/SRR306725/SRR306725.fastq.gz',),\n       ('ftp://ftp.sra.ebi.ac.uk/vol1/fastq//SRR306/SRR306726/SRR306726.fastq.gz',),\n       ('ftp://ftp.sra.ebi.ac.uk/vol1/fastq//SRR306/SRR306727/SRR306727.fastq.gz',),\n       ('ftp://ftp.sra.ebi.ac.uk/vol1/fastq//SRR306/SRR306728/SRR306728.fastq.gz',),\n       ('ftp://ftp.sra.ebi.ac.uk/vol1/fastq//SRR306/SRR306729/SRR306729.fastq.gz',),\n       ('ftp://ftp.sra.ebi.ac.uk/vol1/fastq//SRR306/SRR306730/SRR306730.fastq.gz',),\n       ('ftp://ftp.sra.ebi.ac.uk/vol1/fastq//SRR306/SRR306731/SRR306731.fastq.gz',),\n       ('ftp://ftp.sra.ebi.ac.uk/vol1/fastq//SRR306/SRR306732/SRR306732.fastq.gz',),\n       ('ftp://ftp.sra.ebi.ac.uk/vol1/fastq//SRR306/SRR306733/SRR306733.fastq.gz',),\n       ('ftp://ftp.sra.ebi.ac.uk/vol1/fastq//SRR306/SRR306734/SRR306734.fastq.gz',),\n       ('ftp://ftp.sra.ebi.ac.uk/vol1/fastq//SRR306/SRR306735/SRR306735.fastq.gz',),\n       ('ftp://ftp.sra.ebi.ac.uk/vol1/fastq//SRR306/SRR306736/SRR306736.fastq.gz',),\n       ('ftp://ftp.sra.ebi.ac.uk/vol1/fastq//SRR306/SRR306737/SRR306737.fastq.gz',),\n       ('ftp://ftp.sra.ebi.ac.uk/vol1/fastq//SRR306/SRR306738/SRR306738.fastq.gz',),\n       ('ftp://ftp.sra.ebi.ac.uk/vol1/fastq//SRR306/SRR306739/SRR306739.fastq.gz',),\n       ('ftp://ftp.sra.ebi.ac.uk/vol1/fastq//SRR306/SRR306741/SRR306741.fastq.gz',),\n       ('ftp://ftp.sra.ebi.ac.uk/vol1/fastq//SRR306/SRR306742/SRR306742.fastq.gz',),\n       ('ftp://ftp.sra.ebi.ac.uk/vol1/fastq//SRR306/SRR306743/SRR306743.fastq.gz',),\n       ('ftp://ftp.sra.ebi.ac.uk/vol1/fastq//SRR306/SRR306744/SRR306744.fastq.gz',),\n       ('ftp://ftp.sra.ebi.ac.uk/vol1/fastq//SRR306/SRR306745/SRR306745.fastq.gz',),\n       ('ftp://ftp.sra.ebi.ac.uk/vol1/fastq//SRR306/SRR306746/SRR306746.fastq.gz',),\n       ('ftp://ftp.sra.ebi.ac.uk/vol1/fastq//SRR306/SRR306747/SRR306747.fastq.gz',),\n       ('ftp://ftp.sra.ebi.ac.uk/vol1/fastq//SRR306/SRR306748/SRR306748.fastq.gz',),\n       ('ftp://ftp.sra.ebi.ac.uk/vol1/fastq//SRR306/SRR306749/SRR306749.fastq.gz',),\n       ('ftp://ftp.sra.ebi.ac.uk/vol1/fastq//SRR306/SRR306750/SRR306750.fastq.gz',),\n       ('ftp://ftp.sra.ebi.ac.uk/vol1/fastq//SRR306/SRR306751/SRR306751.fastq.gz',),\n       ('ftp://ftp.sra.ebi.ac.uk/vol1/fastq//SRR306/SRR306752/SRR306752.fastq.gz',),\n       ('ftp://ftp.sra.ebi.ac.uk/vol1/fastq//SRR306/SRR306753/SRR306753.fastq.gz',),\n       ('ftp://ftp.sra.ebi.ac.uk/vol1/fastq//SRR306/SRR306754/SRR306754.fastq.gz',),\n       ('ftp://ftp.sra.ebi.ac.uk/vol1/fastq//SRR306/SRR306755/SRR306755.fastq.gz',),\n       ('ftp://ftp.sra.ebi.ac.uk/vol1/fastq//SRR306/SRR306756/SRR306756.fastq.gz',),\n       ('ftp://ftp.sra.ebi.ac.uk/vol1/fastq//SRR306/SRR306757/SRR306757.fastq.gz',),\n       ('ftp://ftp.sra.ebi.ac.uk/vol1/fastq//SRR306/SRR306758/SRR306758.fastq.gz',),\n       ('ftp://ftp.sra.ebi.ac.uk/vol1/fastq//SRR306/SRR306759/SRR306759.fastq.gz',),\n       ('ftp://ftp.sra.ebi.ac.uk/vol1/fastq//SRR306/SRR306760/SRR306760.fastq.gz',),\n       ('ftp://ftp.sra.ebi.ac.uk/vol1/fastq//SRR306/SRR306761/SRR306761.fastq.gz',),\n       ('ftp://ftp.sra.ebi.ac.uk/vol1/fastq//SRR306/SRR306762/SRR306762.fastq.gz',),\n       ('ftp://ftp.sra.ebi.ac.uk/vol1/fastq//SRR306/SRR306763/SRR306763.fastq.gz',),\n       ('ftp://ftp.sra.ebi.ac.uk/vol1/fastq//SRR306/SRR306764/SRR306764.fastq.gz',),\n       ('ftp://ftp.sra.ebi.ac.uk/vol1/fastq//SRR306/SRR306765/SRR306765.fastq.gz',),\n       ('ftp://ftp.sra.ebi.ac.uk/vol1/fastq//SRR306/SRR306766/SRR306766.fastq.gz',),\n       ('ftp://ftp.sra.ebi.ac.uk/vol1/fastq//SRR306/SRR306767/SRR306767.fastq.gz',),\n       ('ftp://ftp.sra.ebi.ac.uk/vol1/fastq//SRR306/SRR306768/SRR306768.fastq.gz',),\n       ('ftp://ftp.sra.ebi.ac.uk/vol1/fastq//SRR306/SRR306769/SRR306769.fastq.gz',),\n       ('ftp://ftp.sra.ebi.ac.uk/vol1/fastq//SRR306/SRR306770/SRR306770.fastq.gz',),\n       ('ftp://ftp.sra.ebi.ac.uk/vol1/fastq//SRR306/SRR306771/SRR306771.fastq.gz',),\n       ('ftp://ftp.sra.ebi.ac.uk/vol1/fastq//SRR306/SRR306772/SRR306772.fastq.gz',),\n       ('ftp://ftp.sra.ebi.ac.uk/vol1/fastq//SRR306/SRR306773/SRR306773.fastq.gz',),\n       ('ftp://ftp.sra.ebi.ac.uk/vol1/fastq//SRR306/SRR306774/SRR306774.fastq.gz',),\n       ('ftp://ftp.sra.ebi.ac.uk/vol1/fastq//SRR306/SRR306775/SRR306775.fastq.gz',),\n       ('ftp://ftp.sra.ebi.ac.uk/vol1/fastq//SRR306/SRR306776/SRR306776.fastq.gz',),\n       ('ftp://ftp.sra.ebi.ac.uk/vol1/fastq//SRR306/SRR306777/SRR306777.fastq.gz',),\n       ('ftp://ftp.sra.ebi.ac.uk/vol1/fastq//SRR306/SRR306778/SRR306778.fastq.gz',),\n       ('ftp://ftp.sra.ebi.ac.uk/vol1/fastq//SRR306/SRR306779/SRR306779_1.fastq.gz', 'ftp://ftp.sra.ebi.ac.uk/vol1/fastq//SRR306/SRR306779/SRR306779_2.fastq.gz'),\n       ('ftp://ftp.sra.ebi.ac.uk/vol1/fastq//SRR306/SRR306780/SRR306780.fastq.gz',),\n       ('ftp://ftp.sra.ebi.ac.uk/vol1/fastq//SRR306/SRR306781/SRR306781.fastq.gz',),\n       ('ftp://ftp.sra.ebi.ac.uk/vol1/fastq//SRR306/SRR306782/SRR306782.fastq.gz',),\n       ('ftp://ftp.sra.ebi.ac.uk/vol1/fastq//SRR306/SRR306783/SRR306783.fastq.gz',),\n       ('ftp://ftp.sra.ebi.ac.uk/vol1/fastq//SRR306/SRR306784/SRR306784.fastq.gz',),\n       ('ftp://ftp.sra.ebi.ac.uk/vol1/fastq//SRR306/SRR306785/SRR306785.fastq.gz',),\n       ('ftp://ftp.sra.ebi.ac.uk/vol1/fastq//SRR306/SRR306786/SRR306786.fastq.gz',),\n       ('ftp://ftp.sra.ebi.ac.uk/vol1/fastq//SRR306/SRR306787/SRR306787.fastq.gz',),\n       ('ftp://ftp.sra.ebi.ac.uk/vol1/fastq//SRR306/SRR306788/SRR306788.fastq.gz',),\n       ('ftp://ftp.sra.ebi.ac.uk/vol1/fastq//SRR306/SRR306789/SRR306789.fastq.gz',),\n       ('ftp://ftp.sra.ebi.ac.uk/vol1/fastq//SRR306/SRR306790/SRR306790.fastq.gz',),\n       ('ftp://ftp.sra.ebi.ac.uk/vol1/fastq//SRR306/SRR306791/SRR306791.fastq.gz',),\n       ('ftp://ftp.sra.ebi.ac.uk/vol1/fastq//SRR306/SRR306792/SRR306792_1.fastq.gz', 'ftp://ftp.sra.ebi.ac.uk/vol1/fastq//SRR306/SRR306792/SRR306792_2.fastq.gz'),\n       ('ftp://ftp.sra.ebi.ac.uk/vol1/fastq//SRR306/SRR306793/SRR306793.fastq.gz',),\n       ('ftp://ftp.sra.ebi.ac.uk/vol1/fastq//SRR306/SRR306794/SRR306794.fastq.gz',),\n       ('ftp://ftp.sra.ebi.ac.uk/vol1/fastq//SRR306/SRR306795/SRR306795.fastq.gz',),\n       ('ftp://ftp.sra.ebi.ac.uk/vol1/fastq//SRR306/SRR306796/SRR306796.fastq.gz',),\n       ('ftp://ftp.sra.ebi.ac.uk/vol1/fastq//SRR306/SRR306797/SRR306797.fastq.gz',),\n       ('ftp://ftp.sra.ebi.ac.uk/vol1/fastq//SRR306/SRR306798/SRR306798.fastq.gz',),\n       ('ftp://ftp.sra.ebi.ac.uk/vol1/fastq//SRR306/SRR306799/SRR306799.fastq.gz',),\n       ('ftp://ftp.sra.ebi.ac.uk/vol1/fastq//SRR306/SRR306800/SRR306800.fastq.gz',),\n       ('ftp://ftp.sra.ebi.ac.uk/vol1/fastq//SRR306/SRR306801/SRR306801_1.fastq.gz', 'ftp://ftp.sra.ebi.ac.uk/vol1/fastq//SRR306/SRR306801/SRR306801_2.fastq.gz'),\n       ('ftp://ftp.sra.ebi.ac.uk/vol1/fastq//SRR306/SRR306802/SRR306802.fastq.gz',),\n       ('ftp://ftp.sra.ebi.ac.uk/vol1/fastq//SRR306/SRR306803/SRR306803.fastq.gz',),\n       ('ftp://ftp.sra.ebi.ac.uk/vol1/fastq//SRR306/SRR306804/SRR306804.fastq.gz',),\n       ('ftp://ftp.sra.ebi.ac.uk/vol1/fastq//SRR306/SRR306805/SRR306805.fastq.gz',),\n       ('ftp://ftp.sra.ebi.ac.uk/vol1/fastq//SRR306/SRR306806/SRR306806.fastq.gz',),\n       ('ftp://ftp.sra.ebi.ac.uk/vol1/fastq//SRR306/SRR306808/SRR306808.fastq.gz',),\n       ('ftp://ftp.sra.ebi.ac.uk/vol1/fastq//SRR306/SRR306809/SRR306809.fastq.gz',),\n       ('ftp://ftp.sra.ebi.ac.uk/vol1/fastq//SRR306/SRR306810/SRR306810.fastq.gz',),\n       ('ftp://ftp.sra.ebi.ac.uk/vol1/fastq//SRR306/SRR306811/SRR306811.fastq.gz',),\n       ('ftp://ftp.sra.ebi.ac.uk/vol1/fastq//SRR306/SRR306812/SRR306812_1.fastq.gz', 'ftp://ftp.sra.ebi.ac.uk/vol1/fastq//SRR306/SRR306812/SRR306812_2.fastq.gz'),\n       ('ftp://ftp.sra.ebi.ac.uk/vol1/fastq//SRR306/SRR306813/SRR306813_1.fastq.gz', 'ftp://ftp.sra.ebi.ac.uk/vol1/fastq//SRR306/SRR306813/SRR306813_2.fastq.gz'),\n       ('ftp://ftp.sra.ebi.ac.uk/vol1/fastq//SRR306/SRR306814/SRR306814_1.fastq.gz', 'ftp://ftp.sra.ebi.ac.uk/vol1/fastq//SRR306/SRR306814/SRR306814_2.fastq.gz'),\n       ('ftp://ftp.sra.ebi.ac.uk/vol1/fastq//SRR306/SRR306815/SRR306815_1.fastq.gz', 'ftp://ftp.sra.ebi.ac.uk/vol1/fastq//SRR306/SRR306815/SRR306815_2.fastq.gz'),\n       ('ftp://ftp.sra.ebi.ac.uk/vol1/fastq//SRR306/SRR306816/SRR306816_1.fastq.gz', 'ftp://ftp.sra.ebi.ac.uk/vol1/fastq//SRR306/SRR306816/SRR306816_2.fastq.gz'),\n       ('ftp://ftp.sra.ebi.ac.uk/vol1/fastq//SRR306/SRR306817/SRR306817.fastq.gz',),\n       ('ftp://ftp.sra.ebi.ac.uk/vol1/fastq//SRR306/SRR306818/SRR306818.fastq.gz',),\n       ('ftp://ftp.sra.ebi.ac.uk/vol1/fastq//SRR306/SRR306819/SRR306819.fastq.gz',),\n       ('ftp://ftp.sra.ebi.ac.uk/vol1/fastq//SRR306/SRR306820/SRR306820.fastq.gz',),\n       ('ftp://ftp.sra.ebi.ac.uk/vol1/fastq//SRR306/SRR306821/SRR306821.fastq.gz',),\n       ('ftp://ftp.sra.ebi.ac.uk/vol1/fastq//SRR306/SRR306822/SRR306822.fastq.gz',),\n       ('ftp://ftp.sra.ebi.ac.uk/vol1/fastq//SRR306/SRR306823/SRR306823.fastq.gz',),\n       ('ftp://ftp.sra.ebi.ac.uk/vol1/fastq//SRR306/SRR306824/SRR306824.fastq.gz',),\n       ('ftp://ftp.sra.ebi.ac.uk/vol1/fastq//SRR306/SRR306825/SRR306825.fastq.gz',),\n       ('ftp://ftp.sra.ebi.ac.uk/vol1/fastq//SRR306/SRR306826/SRR306826_1.fastq.gz', 'ftp://ftp.sra.ebi.ac.uk/vol1/fastq//SRR306/SRR306826/SRR306826_2.fastq.gz'),\n       ('ftp://ftp.sra.ebi.ac.uk/vol1/fastq//SRR306/SRR306827/SRR306827.fastq.gz',),\n       ('ftp://ftp.sra.ebi.ac.uk/vol1/fastq//SRR306/SRR306828/SRR306828.fastq.gz',),\n       ('ftp://ftp.sra.ebi.ac.uk/vol1/fastq//SRR306/SRR306829/SRR306829.fastq.gz',),\n       ('ftp://ftp.sra.ebi.ac.uk/vol1/fastq//SRR306/SRR306830/SRR306830.fastq.gz',),\n       ('ftp://ftp.sra.ebi.ac.uk/vol1/fastq//SRR306/SRR306831/SRR306831.fastq.gz',),\n       ('ftp://ftp.sra.ebi.ac.uk/vol1/fastq//SRR306/SRR306832/SRR306832.fastq.gz',),\n       ('ftp://ftp.sra.ebi.ac.uk/vol1/fastq//SRR306/SRR306833/SRR306833.fastq.gz',),\n       ('ftp://ftp.sra.ebi.ac.uk/vol1/fastq//SRR306/SRR306834/SRR306834.fastq.gz',),\n       ('ftp://ftp.sra.ebi.ac.uk/vol1/fastq//SRR306/SRR306835/SRR306835.fastq.gz',),\n       ('ftp://ftp.sra.ebi.ac.uk/vol1/fastq//SRR306/SRR306836/SRR306836.fastq.gz',),\n       ('ftp://ftp.sra.ebi.ac.uk/vol1/fastq//SRR306/SRR306837/SRR306837.fastq.gz',),\n       ('ftp://ftp.sra.ebi.ac.uk/vol1/fastq//SRR306/SRR306838/SRR306838.fastq.gz',),\n       ('ftp://ftp.sra.ebi.ac.uk/vol1/fastq//SRR306/SRR306839/SRR306839.fastq.gz',),\n       ('ftp://ftp.sra.ebi.ac.uk/vol1/fastq//SRR306/SRR306840/SRR306840_1.fastq.gz', 'ftp://ftp.sra.ebi.ac.uk/vol1/fastq//SRR306/SRR306840/SRR306840_2.fastq.gz'),\n       ('ftp://ftp.sra.ebi.ac.uk/vol1/fastq//SRR306/SRR306841/SRR306841.fastq.gz',),\n       ('ftp://ftp.sra.ebi.ac.uk/vol1/fastq//SRR306/SRR306842/SRR306842_1.fastq.gz', 'ftp://ftp.sra.ebi.ac.uk/vol1/fastq//SRR306/SRR306842/SRR306842_2.fastq.gz'),\n       ('ftp://ftp.sra.ebi.ac.uk/vol1/fastq//SRR306/SRR306843/SRR306843.fastq.gz',),\n       ('ftp://ftp.sra.ebi.ac.uk/vol1/fastq//SRR306/SRR306844/SRR306844.fastq.gz',),\n       ('ftp://ftp.sra.ebi.ac.uk/vol1/fastq//SRR306/SRR306845/SRR306845.fastq.gz',),\n       ('ftp://ftp.sra.ebi.ac.uk/vol1/fastq//SRR306/SRR306846/SRR306846.fastq.gz',),\n       ('ftp://ftp.sra.ebi.ac.uk/vol1/fastq//SRR306/SRR306847/SRR306847.fastq.gz',),\n       ('ftp://ftp.sra.ebi.ac.uk/vol1/fastq//SRR306/SRR306848/SRR306848.fastq.gz',),\n       ('ftp://ftp.sra.ebi.ac.uk/vol1/fastq//SRR306/SRR306849/SRR306849.fastq.gz',),\n       ('ftp://ftp.sra.ebi.ac.uk/vol1/fastq//SRR306/SRR306850/SRR306850.fastq.gz',),\n       ('ftp://ftp.sra.ebi.ac.uk/vol1/fastq//SRR306/SRR306851/SRR306851.fastq.gz',),\n       ('ftp://ftp.sra.ebi.ac.uk/vol1/fastq//SRR306/SRR306852/SRR306852.fastq.gz',),\n       ('ftp://ftp.sra.ebi.ac.uk/vol1/fastq//SRR306/SRR306853/SRR306853.fastq.gz',),\n       ('ftp://ftp.sra.ebi.ac.uk/vol1/fastq//SRR306/SRR306854/SRR306854.fastq.gz',),\n       ('ftp://ftp.sra.ebi.ac.uk/vol1/fastq//SRR306/SRR306855/SRR306855.fastq.gz',),\n       ('ftp://ftp.sra.ebi.ac.uk/vol1/fastq//SRR306/SRR306856/SRR306856.fastq.gz',),\n       ('ftp://ftp.sra.ebi.ac.uk/vol1/fastq//SRR306/SRR306857/SRR306857.fastq.gz',),\n       ('ftp://ftp.sra.ebi.ac.uk/vol1/fastq//SRR306/SRR306858/SRR306858.fastq.gz',),\n       ('ftp://ftp.sra.ebi.ac.uk/vol1/fastq//SRR306/SRR306807/SRR306807.fastq.gz',),\n       ('ftp://ftp.sra.ebi.ac.uk/vol1/fastq//SRR306/SRR306740/SRR306740.fastq.gz',)],\n      dtype=object)"
       },
       "execution_count": 14,
       "metadata": {},
       "output_type": "execute_result"
      }
     ],
     "persistentId": "14bce4c0-4b3b-49fc-9039-a1b84e9f0776",
     "text": "def srr_to_url(srr_run, is_paired, url_base='ftp://ftp.sra.ebi.ac.uk/vol1/fastq/'):\n    suffix = f'{srr_run[:6]}/{srr_run}'\n    if is_paired:\n        read1 = f\"{url_base}/{suffix}/{srr_run}_1.fastq.gz\"\n        read2 = f\"{url_base}/{suffix}/{srr_run}_2.fastq.gz\"\n        reads = (read1, read2)\n    else:\n        read1 = f\"{url_base}/{suffix}/{srr_run}.fastq.gz\"\n        reads = (read1,)\n    return reads\n\nsra_run_table.apply(lambda x: srr_to_url(x['Run'], x['LibraryLayout'] == 'PAIRED'), axis=1).values.flatten()"
    },
    "executionTime": "2019-11-05T15:41:57.925Z"
   },
   {
    "cell": {
     "executionCount": 15,
     "executionEventId": "0b1b9c8c-bb0f-41df-829b-2eb4fbc1c71e",
     "hasError": true,
     "id": "d907b1f4-f356-4b3b-8751-2748813d2d19",
     "outputs": [
      {
       "ename": "SyntaxError",
       "evalue": "invalid syntax (<ipython-input-15-ed22f2bf260c>, line 12)",
       "output_type": "error",
       "traceback": [
        "\u001b[0;36m  File \u001b[0;32m\"<ipython-input-15-ed22f2bf260c>\"\u001b[0;36m, line \u001b[0;32m12\u001b[0m\n\u001b[0;31m    sra_run_table.apply(lambda x: srr_to_url(x['Run'], x['LibraryLayout'] == 'PAIRED'), axis=1).values.\u001b[0m\n\u001b[0m                                                                                                       ^\u001b[0m\n\u001b[0;31mSyntaxError\u001b[0m\u001b[0;31m:\u001b[0m invalid syntax\n"
       ]
      }
     ],
     "persistentId": "14bce4c0-4b3b-49fc-9039-a1b84e9f0776",
     "text": "def srr_to_url(srr_run, is_paired, url_base='ftp://ftp.sra.ebi.ac.uk/vol1/fastq/'):\n    suffix = f'{srr_run[:6]}/{srr_run}'\n    if is_paired:\n        read1 = f\"{url_base}/{suffix}/{srr_run}_R1.fastq.gz\"\n        read2 = f\"{url_base}/{suffix}/{srr_run}_R2.fastq.gz\"\n        reads = (read1, read2)\n    else:\n        read1 = f\"{url_base}/{suffix}/{srr_run}_R1.fastq.gz\"\n        reads = (read1,)\n    return reads\n\nsra_run_table.apply(lambda x: srr_to_url(x['Run'], x['LibraryLayout'] == 'PAIRED'), axis=1).values."
    },
    "executionTime": "2019-11-05T15:42:51.976Z"
   },
   {
    "cell": {
     "executionCount": 16,
     "executionEventId": "e36779d5-a527-41c7-957d-fb6613eba611",
     "hasError": false,
     "id": "d907b1f4-f356-4b3b-8751-2748813d2d19",
     "outputs": [
      {
       "data": {
        "text/plain": "array([('ftp://ftp.sra.ebi.ac.uk/vol1/fastq//SRR306/SRR306710/SRR306710_R1.fastq.gz',),\n       ('ftp://ftp.sra.ebi.ac.uk/vol1/fastq//SRR306/SRR306711/SRR306711_R1.fastq.gz',),\n       ('ftp://ftp.sra.ebi.ac.uk/vol1/fastq//SRR306/SRR306712/SRR306712_R1.fastq.gz',),\n       ('ftp://ftp.sra.ebi.ac.uk/vol1/fastq//SRR306/SRR306713/SRR306713_R1.fastq.gz',),\n       ('ftp://ftp.sra.ebi.ac.uk/vol1/fastq//SRR306/SRR306714/SRR306714_R1.fastq.gz',),\n       ('ftp://ftp.sra.ebi.ac.uk/vol1/fastq//SRR306/SRR306715/SRR306715_R1.fastq.gz',),\n       ('ftp://ftp.sra.ebi.ac.uk/vol1/fastq//SRR306/SRR306716/SRR306716_R1.fastq.gz',),\n       ('ftp://ftp.sra.ebi.ac.uk/vol1/fastq//SRR306/SRR306717/SRR306717_R1.fastq.gz',),\n       ('ftp://ftp.sra.ebi.ac.uk/vol1/fastq//SRR306/SRR306718/SRR306718_R1.fastq.gz',),\n       ('ftp://ftp.sra.ebi.ac.uk/vol1/fastq//SRR306/SRR306719/SRR306719_R1.fastq.gz',),\n       ('ftp://ftp.sra.ebi.ac.uk/vol1/fastq//SRR306/SRR306720/SRR306720_R1.fastq.gz',),\n       ('ftp://ftp.sra.ebi.ac.uk/vol1/fastq//SRR306/SRR306721/SRR306721_R1.fastq.gz',),\n       ('ftp://ftp.sra.ebi.ac.uk/vol1/fastq//SRR306/SRR306722/SRR306722_R1.fastq.gz',),\n       ('ftp://ftp.sra.ebi.ac.uk/vol1/fastq//SRR306/SRR306723/SRR306723_R1.fastq.gz',),\n       ('ftp://ftp.sra.ebi.ac.uk/vol1/fastq//SRR306/SRR306724/SRR306724_R1.fastq.gz',),\n       ('ftp://ftp.sra.ebi.ac.uk/vol1/fastq//SRR306/SRR306725/SRR306725_R1.fastq.gz',),\n       ('ftp://ftp.sra.ebi.ac.uk/vol1/fastq//SRR306/SRR306726/SRR306726_R1.fastq.gz',),\n       ('ftp://ftp.sra.ebi.ac.uk/vol1/fastq//SRR306/SRR306727/SRR306727_R1.fastq.gz',),\n       ('ftp://ftp.sra.ebi.ac.uk/vol1/fastq//SRR306/SRR306728/SRR306728_R1.fastq.gz',),\n       ('ftp://ftp.sra.ebi.ac.uk/vol1/fastq//SRR306/SRR306729/SRR306729_R1.fastq.gz',),\n       ('ftp://ftp.sra.ebi.ac.uk/vol1/fastq//SRR306/SRR306730/SRR306730_R1.fastq.gz',),\n       ('ftp://ftp.sra.ebi.ac.uk/vol1/fastq//SRR306/SRR306731/SRR306731_R1.fastq.gz',),\n       ('ftp://ftp.sra.ebi.ac.uk/vol1/fastq//SRR306/SRR306732/SRR306732_R1.fastq.gz',),\n       ('ftp://ftp.sra.ebi.ac.uk/vol1/fastq//SRR306/SRR306733/SRR306733_R1.fastq.gz',),\n       ('ftp://ftp.sra.ebi.ac.uk/vol1/fastq//SRR306/SRR306734/SRR306734_R1.fastq.gz',),\n       ('ftp://ftp.sra.ebi.ac.uk/vol1/fastq//SRR306/SRR306735/SRR306735_R1.fastq.gz',),\n       ('ftp://ftp.sra.ebi.ac.uk/vol1/fastq//SRR306/SRR306736/SRR306736_R1.fastq.gz',),\n       ('ftp://ftp.sra.ebi.ac.uk/vol1/fastq//SRR306/SRR306737/SRR306737_R1.fastq.gz',),\n       ('ftp://ftp.sra.ebi.ac.uk/vol1/fastq//SRR306/SRR306738/SRR306738_R1.fastq.gz',),\n       ('ftp://ftp.sra.ebi.ac.uk/vol1/fastq//SRR306/SRR306739/SRR306739_R1.fastq.gz',),\n       ('ftp://ftp.sra.ebi.ac.uk/vol1/fastq//SRR306/SRR306741/SRR306741_R1.fastq.gz',),\n       ('ftp://ftp.sra.ebi.ac.uk/vol1/fastq//SRR306/SRR306742/SRR306742_R1.fastq.gz',),\n       ('ftp://ftp.sra.ebi.ac.uk/vol1/fastq//SRR306/SRR306743/SRR306743_R1.fastq.gz',),\n       ('ftp://ftp.sra.ebi.ac.uk/vol1/fastq//SRR306/SRR306744/SRR306744_R1.fastq.gz',),\n       ('ftp://ftp.sra.ebi.ac.uk/vol1/fastq//SRR306/SRR306745/SRR306745_R1.fastq.gz',),\n       ('ftp://ftp.sra.ebi.ac.uk/vol1/fastq//SRR306/SRR306746/SRR306746_R1.fastq.gz',),\n       ('ftp://ftp.sra.ebi.ac.uk/vol1/fastq//SRR306/SRR306747/SRR306747_R1.fastq.gz',),\n       ('ftp://ftp.sra.ebi.ac.uk/vol1/fastq//SRR306/SRR306748/SRR306748_R1.fastq.gz',),\n       ('ftp://ftp.sra.ebi.ac.uk/vol1/fastq//SRR306/SRR306749/SRR306749_R1.fastq.gz',),\n       ('ftp://ftp.sra.ebi.ac.uk/vol1/fastq//SRR306/SRR306750/SRR306750_R1.fastq.gz',),\n       ('ftp://ftp.sra.ebi.ac.uk/vol1/fastq//SRR306/SRR306751/SRR306751_R1.fastq.gz',),\n       ('ftp://ftp.sra.ebi.ac.uk/vol1/fastq//SRR306/SRR306752/SRR306752_R1.fastq.gz',),\n       ('ftp://ftp.sra.ebi.ac.uk/vol1/fastq//SRR306/SRR306753/SRR306753_R1.fastq.gz',),\n       ('ftp://ftp.sra.ebi.ac.uk/vol1/fastq//SRR306/SRR306754/SRR306754_R1.fastq.gz',),\n       ('ftp://ftp.sra.ebi.ac.uk/vol1/fastq//SRR306/SRR306755/SRR306755_R1.fastq.gz',),\n       ('ftp://ftp.sra.ebi.ac.uk/vol1/fastq//SRR306/SRR306756/SRR306756_R1.fastq.gz',),\n       ('ftp://ftp.sra.ebi.ac.uk/vol1/fastq//SRR306/SRR306757/SRR306757_R1.fastq.gz',),\n       ('ftp://ftp.sra.ebi.ac.uk/vol1/fastq//SRR306/SRR306758/SRR306758_R1.fastq.gz',),\n       ('ftp://ftp.sra.ebi.ac.uk/vol1/fastq//SRR306/SRR306759/SRR306759_R1.fastq.gz',),\n       ('ftp://ftp.sra.ebi.ac.uk/vol1/fastq//SRR306/SRR306760/SRR306760_R1.fastq.gz',),\n       ('ftp://ftp.sra.ebi.ac.uk/vol1/fastq//SRR306/SRR306761/SRR306761_R1.fastq.gz',),\n       ('ftp://ftp.sra.ebi.ac.uk/vol1/fastq//SRR306/SRR306762/SRR306762_R1.fastq.gz',),\n       ('ftp://ftp.sra.ebi.ac.uk/vol1/fastq//SRR306/SRR306763/SRR306763_R1.fastq.gz',),\n       ('ftp://ftp.sra.ebi.ac.uk/vol1/fastq//SRR306/SRR306764/SRR306764_R1.fastq.gz',),\n       ('ftp://ftp.sra.ebi.ac.uk/vol1/fastq//SRR306/SRR306765/SRR306765_R1.fastq.gz',),\n       ('ftp://ftp.sra.ebi.ac.uk/vol1/fastq//SRR306/SRR306766/SRR306766_R1.fastq.gz',),\n       ('ftp://ftp.sra.ebi.ac.uk/vol1/fastq//SRR306/SRR306767/SRR306767_R1.fastq.gz',),\n       ('ftp://ftp.sra.ebi.ac.uk/vol1/fastq//SRR306/SRR306768/SRR306768_R1.fastq.gz',),\n       ('ftp://ftp.sra.ebi.ac.uk/vol1/fastq//SRR306/SRR306769/SRR306769_R1.fastq.gz',),\n       ('ftp://ftp.sra.ebi.ac.uk/vol1/fastq//SRR306/SRR306770/SRR306770_R1.fastq.gz',),\n       ('ftp://ftp.sra.ebi.ac.uk/vol1/fastq//SRR306/SRR306771/SRR306771_R1.fastq.gz',),\n       ('ftp://ftp.sra.ebi.ac.uk/vol1/fastq//SRR306/SRR306772/SRR306772_R1.fastq.gz',),\n       ('ftp://ftp.sra.ebi.ac.uk/vol1/fastq//SRR306/SRR306773/SRR306773_R1.fastq.gz',),\n       ('ftp://ftp.sra.ebi.ac.uk/vol1/fastq//SRR306/SRR306774/SRR306774_R1.fastq.gz',),\n       ('ftp://ftp.sra.ebi.ac.uk/vol1/fastq//SRR306/SRR306775/SRR306775_R1.fastq.gz',),\n       ('ftp://ftp.sra.ebi.ac.uk/vol1/fastq//SRR306/SRR306776/SRR306776_R1.fastq.gz',),\n       ('ftp://ftp.sra.ebi.ac.uk/vol1/fastq//SRR306/SRR306777/SRR306777_R1.fastq.gz',),\n       ('ftp://ftp.sra.ebi.ac.uk/vol1/fastq//SRR306/SRR306778/SRR306778_R1.fastq.gz',),\n       ('ftp://ftp.sra.ebi.ac.uk/vol1/fastq//SRR306/SRR306779/SRR306779_R1.fastq.gz', 'ftp://ftp.sra.ebi.ac.uk/vol1/fastq//SRR306/SRR306779/SRR306779_R2.fastq.gz'),\n       ('ftp://ftp.sra.ebi.ac.uk/vol1/fastq//SRR306/SRR306780/SRR306780_R1.fastq.gz',),\n       ('ftp://ftp.sra.ebi.ac.uk/vol1/fastq//SRR306/SRR306781/SRR306781_R1.fastq.gz',),\n       ('ftp://ftp.sra.ebi.ac.uk/vol1/fastq//SRR306/SRR306782/SRR306782_R1.fastq.gz',),\n       ('ftp://ftp.sra.ebi.ac.uk/vol1/fastq//SRR306/SRR306783/SRR306783_R1.fastq.gz',),\n       ('ftp://ftp.sra.ebi.ac.uk/vol1/fastq//SRR306/SRR306784/SRR306784_R1.fastq.gz',),\n       ('ftp://ftp.sra.ebi.ac.uk/vol1/fastq//SRR306/SRR306785/SRR306785_R1.fastq.gz',),\n       ('ftp://ftp.sra.ebi.ac.uk/vol1/fastq//SRR306/SRR306786/SRR306786_R1.fastq.gz',),\n       ('ftp://ftp.sra.ebi.ac.uk/vol1/fastq//SRR306/SRR306787/SRR306787_R1.fastq.gz',),\n       ('ftp://ftp.sra.ebi.ac.uk/vol1/fastq//SRR306/SRR306788/SRR306788_R1.fastq.gz',),\n       ('ftp://ftp.sra.ebi.ac.uk/vol1/fastq//SRR306/SRR306789/SRR306789_R1.fastq.gz',),\n       ('ftp://ftp.sra.ebi.ac.uk/vol1/fastq//SRR306/SRR306790/SRR306790_R1.fastq.gz',),\n       ('ftp://ftp.sra.ebi.ac.uk/vol1/fastq//SRR306/SRR306791/SRR306791_R1.fastq.gz',),\n       ('ftp://ftp.sra.ebi.ac.uk/vol1/fastq//SRR306/SRR306792/SRR306792_R1.fastq.gz', 'ftp://ftp.sra.ebi.ac.uk/vol1/fastq//SRR306/SRR306792/SRR306792_R2.fastq.gz'),\n       ('ftp://ftp.sra.ebi.ac.uk/vol1/fastq//SRR306/SRR306793/SRR306793_R1.fastq.gz',),\n       ('ftp://ftp.sra.ebi.ac.uk/vol1/fastq//SRR306/SRR306794/SRR306794_R1.fastq.gz',),\n       ('ftp://ftp.sra.ebi.ac.uk/vol1/fastq//SRR306/SRR306795/SRR306795_R1.fastq.gz',),\n       ('ftp://ftp.sra.ebi.ac.uk/vol1/fastq//SRR306/SRR306796/SRR306796_R1.fastq.gz',),\n       ('ftp://ftp.sra.ebi.ac.uk/vol1/fastq//SRR306/SRR306797/SRR306797_R1.fastq.gz',),\n       ('ftp://ftp.sra.ebi.ac.uk/vol1/fastq//SRR306/SRR306798/SRR306798_R1.fastq.gz',),\n       ('ftp://ftp.sra.ebi.ac.uk/vol1/fastq//SRR306/SRR306799/SRR306799_R1.fastq.gz',),\n       ('ftp://ftp.sra.ebi.ac.uk/vol1/fastq//SRR306/SRR306800/SRR306800_R1.fastq.gz',),\n       ('ftp://ftp.sra.ebi.ac.uk/vol1/fastq//SRR306/SRR306801/SRR306801_R1.fastq.gz', 'ftp://ftp.sra.ebi.ac.uk/vol1/fastq//SRR306/SRR306801/SRR306801_R2.fastq.gz'),\n       ('ftp://ftp.sra.ebi.ac.uk/vol1/fastq//SRR306/SRR306802/SRR306802_R1.fastq.gz',),\n       ('ftp://ftp.sra.ebi.ac.uk/vol1/fastq//SRR306/SRR306803/SRR306803_R1.fastq.gz',),\n       ('ftp://ftp.sra.ebi.ac.uk/vol1/fastq//SRR306/SRR306804/SRR306804_R1.fastq.gz',),\n       ('ftp://ftp.sra.ebi.ac.uk/vol1/fastq//SRR306/SRR306805/SRR306805_R1.fastq.gz',),\n       ('ftp://ftp.sra.ebi.ac.uk/vol1/fastq//SRR306/SRR306806/SRR306806_R1.fastq.gz',),\n       ('ftp://ftp.sra.ebi.ac.uk/vol1/fastq//SRR306/SRR306808/SRR306808_R1.fastq.gz',),\n       ('ftp://ftp.sra.ebi.ac.uk/vol1/fastq//SRR306/SRR306809/SRR306809_R1.fastq.gz',),\n       ('ftp://ftp.sra.ebi.ac.uk/vol1/fastq//SRR306/SRR306810/SRR306810_R1.fastq.gz',),\n       ('ftp://ftp.sra.ebi.ac.uk/vol1/fastq//SRR306/SRR306811/SRR306811_R1.fastq.gz',),\n       ('ftp://ftp.sra.ebi.ac.uk/vol1/fastq//SRR306/SRR306812/SRR306812_R1.fastq.gz', 'ftp://ftp.sra.ebi.ac.uk/vol1/fastq//SRR306/SRR306812/SRR306812_R2.fastq.gz'),\n       ('ftp://ftp.sra.ebi.ac.uk/vol1/fastq//SRR306/SRR306813/SRR306813_R1.fastq.gz', 'ftp://ftp.sra.ebi.ac.uk/vol1/fastq//SRR306/SRR306813/SRR306813_R2.fastq.gz'),\n       ('ftp://ftp.sra.ebi.ac.uk/vol1/fastq//SRR306/SRR306814/SRR306814_R1.fastq.gz', 'ftp://ftp.sra.ebi.ac.uk/vol1/fastq//SRR306/SRR306814/SRR306814_R2.fastq.gz'),\n       ('ftp://ftp.sra.ebi.ac.uk/vol1/fastq//SRR306/SRR306815/SRR306815_R1.fastq.gz', 'ftp://ftp.sra.ebi.ac.uk/vol1/fastq//SRR306/SRR306815/SRR306815_R2.fastq.gz'),\n       ('ftp://ftp.sra.ebi.ac.uk/vol1/fastq//SRR306/SRR306816/SRR306816_R1.fastq.gz', 'ftp://ftp.sra.ebi.ac.uk/vol1/fastq//SRR306/SRR306816/SRR306816_R2.fastq.gz'),\n       ('ftp://ftp.sra.ebi.ac.uk/vol1/fastq//SRR306/SRR306817/SRR306817_R1.fastq.gz',),\n       ('ftp://ftp.sra.ebi.ac.uk/vol1/fastq//SRR306/SRR306818/SRR306818_R1.fastq.gz',),\n       ('ftp://ftp.sra.ebi.ac.uk/vol1/fastq//SRR306/SRR306819/SRR306819_R1.fastq.gz',),\n       ('ftp://ftp.sra.ebi.ac.uk/vol1/fastq//SRR306/SRR306820/SRR306820_R1.fastq.gz',),\n       ('ftp://ftp.sra.ebi.ac.uk/vol1/fastq//SRR306/SRR306821/SRR306821_R1.fastq.gz',),\n       ('ftp://ftp.sra.ebi.ac.uk/vol1/fastq//SRR306/SRR306822/SRR306822_R1.fastq.gz',),\n       ('ftp://ftp.sra.ebi.ac.uk/vol1/fastq//SRR306/SRR306823/SRR306823_R1.fastq.gz',),\n       ('ftp://ftp.sra.ebi.ac.uk/vol1/fastq//SRR306/SRR306824/SRR306824_R1.fastq.gz',),\n       ('ftp://ftp.sra.ebi.ac.uk/vol1/fastq//SRR306/SRR306825/SRR306825_R1.fastq.gz',),\n       ('ftp://ftp.sra.ebi.ac.uk/vol1/fastq//SRR306/SRR306826/SRR306826_R1.fastq.gz', 'ftp://ftp.sra.ebi.ac.uk/vol1/fastq//SRR306/SRR306826/SRR306826_R2.fastq.gz'),\n       ('ftp://ftp.sra.ebi.ac.uk/vol1/fastq//SRR306/SRR306827/SRR306827_R1.fastq.gz',),\n       ('ftp://ftp.sra.ebi.ac.uk/vol1/fastq//SRR306/SRR306828/SRR306828_R1.fastq.gz',),\n       ('ftp://ftp.sra.ebi.ac.uk/vol1/fastq//SRR306/SRR306829/SRR306829_R1.fastq.gz',),\n       ('ftp://ftp.sra.ebi.ac.uk/vol1/fastq//SRR306/SRR306830/SRR306830_R1.fastq.gz',),\n       ('ftp://ftp.sra.ebi.ac.uk/vol1/fastq//SRR306/SRR306831/SRR306831_R1.fastq.gz',),\n       ('ftp://ftp.sra.ebi.ac.uk/vol1/fastq//SRR306/SRR306832/SRR306832_R1.fastq.gz',),\n       ('ftp://ftp.sra.ebi.ac.uk/vol1/fastq//SRR306/SRR306833/SRR306833_R1.fastq.gz',),\n       ('ftp://ftp.sra.ebi.ac.uk/vol1/fastq//SRR306/SRR306834/SRR306834_R1.fastq.gz',),\n       ('ftp://ftp.sra.ebi.ac.uk/vol1/fastq//SRR306/SRR306835/SRR306835_R1.fastq.gz',),\n       ('ftp://ftp.sra.ebi.ac.uk/vol1/fastq//SRR306/SRR306836/SRR306836_R1.fastq.gz',),\n       ('ftp://ftp.sra.ebi.ac.uk/vol1/fastq//SRR306/SRR306837/SRR306837_R1.fastq.gz',),\n       ('ftp://ftp.sra.ebi.ac.uk/vol1/fastq//SRR306/SRR306838/SRR306838_R1.fastq.gz',),\n       ('ftp://ftp.sra.ebi.ac.uk/vol1/fastq//SRR306/SRR306839/SRR306839_R1.fastq.gz',),\n       ('ftp://ftp.sra.ebi.ac.uk/vol1/fastq//SRR306/SRR306840/SRR306840_R1.fastq.gz', 'ftp://ftp.sra.ebi.ac.uk/vol1/fastq//SRR306/SRR306840/SRR306840_R2.fastq.gz'),\n       ('ftp://ftp.sra.ebi.ac.uk/vol1/fastq//SRR306/SRR306841/SRR306841_R1.fastq.gz',),\n       ('ftp://ftp.sra.ebi.ac.uk/vol1/fastq//SRR306/SRR306842/SRR306842_R1.fastq.gz', 'ftp://ftp.sra.ebi.ac.uk/vol1/fastq//SRR306/SRR306842/SRR306842_R2.fastq.gz'),\n       ('ftp://ftp.sra.ebi.ac.uk/vol1/fastq//SRR306/SRR306843/SRR306843_R1.fastq.gz',),\n       ('ftp://ftp.sra.ebi.ac.uk/vol1/fastq//SRR306/SRR306844/SRR306844_R1.fastq.gz',),\n       ('ftp://ftp.sra.ebi.ac.uk/vol1/fastq//SRR306/SRR306845/SRR306845_R1.fastq.gz',),\n       ('ftp://ftp.sra.ebi.ac.uk/vol1/fastq//SRR306/SRR306846/SRR306846_R1.fastq.gz',),\n       ('ftp://ftp.sra.ebi.ac.uk/vol1/fastq//SRR306/SRR306847/SRR306847_R1.fastq.gz',),\n       ('ftp://ftp.sra.ebi.ac.uk/vol1/fastq//SRR306/SRR306848/SRR306848_R1.fastq.gz',),\n       ('ftp://ftp.sra.ebi.ac.uk/vol1/fastq//SRR306/SRR306849/SRR306849_R1.fastq.gz',),\n       ('ftp://ftp.sra.ebi.ac.uk/vol1/fastq//SRR306/SRR306850/SRR306850_R1.fastq.gz',),\n       ('ftp://ftp.sra.ebi.ac.uk/vol1/fastq//SRR306/SRR306851/SRR306851_R1.fastq.gz',),\n       ('ftp://ftp.sra.ebi.ac.uk/vol1/fastq//SRR306/SRR306852/SRR306852_R1.fastq.gz',),\n       ('ftp://ftp.sra.ebi.ac.uk/vol1/fastq//SRR306/SRR306853/SRR306853_R1.fastq.gz',),\n       ('ftp://ftp.sra.ebi.ac.uk/vol1/fastq//SRR306/SRR306854/SRR306854_R1.fastq.gz',),\n       ('ftp://ftp.sra.ebi.ac.uk/vol1/fastq//SRR306/SRR306855/SRR306855_R1.fastq.gz',),\n       ('ftp://ftp.sra.ebi.ac.uk/vol1/fastq//SRR306/SRR306856/SRR306856_R1.fastq.gz',),\n       ('ftp://ftp.sra.ebi.ac.uk/vol1/fastq//SRR306/SRR306857/SRR306857_R1.fastq.gz',),\n       ('ftp://ftp.sra.ebi.ac.uk/vol1/fastq//SRR306/SRR306858/SRR306858_R1.fastq.gz',),\n       ('ftp://ftp.sra.ebi.ac.uk/vol1/fastq//SRR306/SRR306807/SRR306807_R1.fastq.gz',),\n       ('ftp://ftp.sra.ebi.ac.uk/vol1/fastq//SRR306/SRR306740/SRR306740_R1.fastq.gz',)],\n      dtype=object)"
       },
       "execution_count": 16,
       "metadata": {},
       "output_type": "execute_result"
      }
     ],
     "persistentId": "14bce4c0-4b3b-49fc-9039-a1b84e9f0776",
     "text": "def srr_to_url(srr_run, is_paired, url_base='ftp://ftp.sra.ebi.ac.uk/vol1/fastq/'):\n    suffix = f'{srr_run[:6]}/{srr_run}'\n    if is_paired:\n        read1 = f\"{url_base}/{suffix}/{srr_run}_R1.fastq.gz\"\n        read2 = f\"{url_base}/{suffix}/{srr_run}_R2.fastq.gz\"\n        reads = (read1, read2)\n    else:\n        read1 = f\"{url_base}/{suffix}/{srr_run}_R1.fastq.gz\"\n        reads = (read1,)\n    return reads\n\nsra_run_table.apply(lambda x: srr_to_url(x['Run'], x['LibraryLayout'] == 'PAIRED'), axis=1).values"
    },
    "executionTime": "2019-11-05T15:42:54.710Z"
   },
   {
    "cell": {
     "executionCount": 17,
     "executionEventId": "4e989400-3353-4e5c-8529-4a804f543ab0",
     "hasError": false,
     "id": "4b4b3c64-475f-45f1-a33d-b9c7a3c2fe1a",
     "outputs": [
      {
       "data": {
        "text/plain": "0      GSM752557_gga_br_F_1\n1      GSM752558_gga_br_M_1\n2      GSM752559_gga_cb_F_1\n3      GSM752560_gga_cb_M_1\n4      GSM752561_gga_ht_F_1\n5      GSM752562_gga_ht_M_1\n6      GSM752563_gga_kd_F_1\n7      GSM752564_gga_kd_M_1\n8      GSM752565_gga_lv_F_1\n9      GSM752566_gga_lv_M_1\n10     GSM752566_gga_lv_M_1\n11     GSM752567_gga_ts_M_1\n12     GSM752567_gga_ts_M_1\n13     GSM752568_gga_ts_M_2\n14     GSM752569_oan_br_F_1\n15     GSM752569_oan_br_F_1\n16     GSM752570_oan_br_M_1\n17     GSM752570_oan_br_M_1\n18     GSM752571_oan_cb_F_1\n19     GSM752572_oan_cb_M_1\n20     GSM752573_oan_ht_F_1\n21     GSM752575_oan_ht_M_1\n22     GSM752576_oan_kd_F_1\n23     GSM752578_oan_kd_M_1\n24     GSM752578_oan_kd_M_1\n25     GSM752580_oan_lv_F_1\n26     GSM752580_oan_lv_F_1\n27     GSM752581_oan_lv_M_1\n28     GSM752581_oan_lv_M_1\n29     GSM752583_oan_ts_M_1\n               ...         \n119    GSM752684_ppa_ht_F_1\n120    GSM752685_ppa_ht_M_1\n121    GSM752686_ppa_kd_F_1\n122    GSM752687_ppa_kd_M_1\n123    GSM752688_ppa_lv_F_1\n124    GSM752689_ppa_lv_M_1\n125    GSM752690_ppa_ts_M_1\n126    GSM752691_hsa_br_F_1\n127    GSM752692_hsa_br_M_3\n128    GSM752693_hsa_br_M_1\n129    GSM752694_hsa_br_M_2\n130    GSM752695_hsa_br_M_4\n131    GSM752696_hsa_br_M_5\n132    GSM752697_hsa_cb_F_1\n133    GSM752698_hsa_cb_M_1\n134    GSM752698_hsa_cb_M_1\n135    GSM752699_hsa_ht_F_1\n136    GSM752700_hsa_ht_M_1\n137    GSM752700_hsa_ht_M_1\n138    GSM752701_hsa_ht_M_2\n139    GSM752702_hsa_kd_F_1\n140    GSM752703_hsa_kd_M_1\n141    GSM752704_hsa_kd_M_2\n142    GSM752705_hsa_lv_M_1\n143    GSM752705_hsa_lv_M_1\n144    GSM752706_hsa_lv_M_2\n145    GSM752707_hsa_ts_M_1\n146    GSM752708_hsa_ts_M_2\n147    GSM752660_ggo_kd_M_1\n148    GSM752585_oan_ts_M_2\nName: Library Name, Length: 149, dtype: object"
       },
       "execution_count": 17,
       "metadata": {},
       "output_type": "execute_result"
      }
     ],
     "persistentId": "64d4bbfc-1354-42b1-8d04-cffc4b019b14",
     "text": "def sanitize_name(name):\n    no_spaces = name.replace(' ', '_')\n    no_colons = no_spaces.replace(':', '')\n    return no_colons\n\nsra_run_table['Library Name'].map(sanitize_name)"
    },
    "executionTime": "2019-11-05T15:50:13.875Z"
   },
   {
    "cell": {
     "executionCount": 18,
     "executionEventId": "a377e05f-ea15-4d6c-ad4b-7578a684e91a",
     "hasError": false,
     "id": "4b4b3c64-475f-45f1-a33d-b9c7a3c2fe1a",
     "outputs": [
      {
       "data": {
        "text/plain": "0      GSM752557_gga_br_F_1\n1      GSM752558_gga_br_M_1\n2      GSM752559_gga_cb_F_1\n3      GSM752560_gga_cb_M_1\n4      GSM752561_gga_ht_F_1\n5      GSM752562_gga_ht_M_1\n6      GSM752563_gga_kd_F_1\n7      GSM752564_gga_kd_M_1\n8      GSM752565_gga_lv_F_1\n9      GSM752566_gga_lv_M_1\n10     GSM752566_gga_lv_M_1\n11     GSM752567_gga_ts_M_1\n12     GSM752567_gga_ts_M_1\n13     GSM752568_gga_ts_M_2\n14     GSM752569_oan_br_F_1\n15     GSM752569_oan_br_F_1\n16     GSM752570_oan_br_M_1\n17     GSM752570_oan_br_M_1\n18     GSM752571_oan_cb_F_1\n19     GSM752572_oan_cb_M_1\n20     GSM752573_oan_ht_F_1\n21     GSM752575_oan_ht_M_1\n22     GSM752576_oan_kd_F_1\n23     GSM752578_oan_kd_M_1\n24     GSM752578_oan_kd_M_1\n25     GSM752580_oan_lv_F_1\n26     GSM752580_oan_lv_F_1\n27     GSM752581_oan_lv_M_1\n28     GSM752581_oan_lv_M_1\n29     GSM752583_oan_ts_M_1\n               ...         \n119    GSM752684_ppa_ht_F_1\n120    GSM752685_ppa_ht_M_1\n121    GSM752686_ppa_kd_F_1\n122    GSM752687_ppa_kd_M_1\n123    GSM752688_ppa_lv_F_1\n124    GSM752689_ppa_lv_M_1\n125    GSM752690_ppa_ts_M_1\n126    GSM752691_hsa_br_F_1\n127    GSM752692_hsa_br_M_3\n128    GSM752693_hsa_br_M_1\n129    GSM752694_hsa_br_M_2\n130    GSM752695_hsa_br_M_4\n131    GSM752696_hsa_br_M_5\n132    GSM752697_hsa_cb_F_1\n133    GSM752698_hsa_cb_M_1\n134    GSM752698_hsa_cb_M_1\n135    GSM752699_hsa_ht_F_1\n136    GSM752700_hsa_ht_M_1\n137    GSM752700_hsa_ht_M_1\n138    GSM752701_hsa_ht_M_2\n139    GSM752702_hsa_kd_F_1\n140    GSM752703_hsa_kd_M_1\n141    GSM752704_hsa_kd_M_2\n142    GSM752705_hsa_lv_M_1\n143    GSM752705_hsa_lv_M_1\n144    GSM752706_hsa_lv_M_2\n145    GSM752707_hsa_ts_M_1\n146    GSM752708_hsa_ts_M_2\n147    GSM752660_ggo_kd_M_1\n148    GSM752585_oan_ts_M_2\nName: Library Name, Length: 149, dtype: object"
       },
       "execution_count": 18,
       "metadata": {},
       "output_type": "execute_result"
      }
     ],
     "persistentId": "64d4bbfc-1354-42b1-8d04-cffc4b019b14",
     "text": "def sanitize_name(name):\n    stripped = name.strip()\n    no_spaces = stripped.replace(' ', '_')\n    no_colons = no_spaces.replace(':', '')\n    return no_colons\n\nsra_run_table['Library Name'].map(sanitize_name)"
    },
    "executionTime": "2019-11-05T15:50:27.880Z"
   },
   {
    "cell": {
     "executionCount": 19,
     "executionEventId": "30203ff5-17d3-4cec-acd7-3428ec239239",
     "hasError": false,
     "id": "4b4b3c64-475f-45f1-a33d-b9c7a3c2fe1a",
     "outputs": [
      {
       "data": {
        "text/plain": "94     GSM752658_ggo_ht_M_1\n129    GSM752694_hsa_br_M_2\n118    GSM752683_ppa_cb_M_1\n104    GSM752669_ptr_br_M_5\n7      GSM752564_gga_kd_M_1\nName: Library Name, dtype: object"
       },
       "execution_count": 19,
       "metadata": {},
       "output_type": "execute_result"
      }
     ],
     "persistentId": "64d4bbfc-1354-42b1-8d04-cffc4b019b14",
     "text": "def sanitize_name(name):\n    stripped = name.strip()\n    no_spaces = stripped.replace(' ', '_')\n    no_colons = no_spaces.replace(':', '')\n    return no_colons\n\nsra_run_table['Library Name'].map(sanitize_name).sample(5)"
    },
    "executionTime": "2019-11-05T15:51:38.574Z"
   },
   {
    "cell": {
     "executionCount": 20,
     "executionEventId": "6bd40d83-870e-456d-b0a6-4af0f024d97c",
     "hasError": false,
     "id": "4b4b3c64-475f-45f1-a33d-b9c7a3c2fe1a",
     "outputs": [
      {
       "data": {
        "text/plain": "77     GSM752641_mml_lv_M_1\n87     GSM752651_ppy_lv_F_1\n103    GSM752668_ptr_br_M_4\n59     GSM752624_mmu_kd_M_1\n28     GSM752581_oan_lv_M_1\nName: sanitized_name, dtype: object"
       },
       "execution_count": 20,
       "metadata": {},
       "output_type": "execute_result"
      }
     ],
     "persistentId": "64d4bbfc-1354-42b1-8d04-cffc4b019b14",
     "text": "def sanitize_name(name):\n    stripped = name.strip()\n    no_spaces = stripped.replace(' ', '_')\n    no_colons = no_spaces.replace(':', '')\n    return no_colons\n\nsra_run_table['sanitized_name'] = sra_run_table['Library Name'].map(sanitize_name)\nsra_run_table['sanitized_name'].sample(5)"
    },
    "executionTime": "2019-11-05T15:53:36.289Z"
   },
   {
    "cell": {
     "executionCount": 21,
     "executionEventId": "36c74d5c-4f07-469a-83cd-c445996650dc",
     "hasError": true,
     "id": "d907b1f4-f356-4b3b-8751-2748813d2d19",
     "outputs": [
      {
       "ename": "SyntaxError",
       "evalue": "invalid syntax (<ipython-input-21-29ac74e1c552>, line 19)",
       "output_type": "error",
       "traceback": [
        "\u001b[0;36m  File \u001b[0;32m\"<ipython-input-21-29ac74e1c552>\"\u001b[0;36m, line \u001b[0;32m19\u001b[0m\n\u001b[0;31m    destination = row['sanitized_name'] \"_R{i+1}.fastq.gz\"\u001b[0m\n\u001b[0m                                                         ^\u001b[0m\n\u001b[0;31mSyntaxError\u001b[0m\u001b[0;31m:\u001b[0m invalid syntax\n"
       ]
      }
     ],
     "persistentId": "14bce4c0-4b3b-49fc-9039-a1b84e9f0776",
     "text": "def srr_to_url(srr_run, is_paired, url_base='ftp://ftp.sra.ebi.ac.uk/vol1/fastq/'):\n    suffix = f'{srr_run[:6]}/{srr_run}'\n    if is_paired:\n        read1 = f\"{url_base}/{suffix}/{srr_run}_R1.fastq.gz\"\n        read2 = f\"{url_base}/{suffix}/{srr_run}_R2.fastq.gz\"\n        reads = (read1, read2)\n    else:\n        read1 = f\"{url_base}/{suffix}/{srr_run}_R1.fastq.gz\"\n        reads = (read1,)\n    return reads\n\ndef get_curl_commands(row):\n    template = 'curl -L {url} -o {destination}'\n    is_paired = x['LibraryLayout'] == 'PAIRED'\n    \n    read_urls = srr_to_url(x['Run'], is_paired)\n    commands = []\n    for i, url in enumerate(urls):\n        destination = row['sanitized_name'] \"_R{i+1}.fastq.gz\"\n        commands.append(template.format(url=url, destination=destinatio))\n    return commands\n\nsra_run_table.apply(get_curl_commands, axis=1).values"
    },
    "executionTime": "2019-11-05T15:54:34.281Z"
   },
   {
    "cell": {
     "executionCount": 22,
     "executionEventId": "83fe2fb7-df51-45d9-bc1e-94e9efe39fc9",
     "hasError": true,
     "id": "d907b1f4-f356-4b3b-8751-2748813d2d19",
     "outputs": [
      {
       "ename": "NameError",
       "evalue": "(\"name 'x' is not defined\", 'occurred at index 0')",
       "output_type": "error",
       "traceback": [
        "\u001b[0;31m---------------------------------------------------------------------------\u001b[0m",
        "\u001b[0;31mNameError\u001b[0m                                 Traceback (most recent call last)",
        "\u001b[0;32m<ipython-input-22-1760e8f83de0>\u001b[0m in \u001b[0;36m<module>\u001b[0;34m()\u001b[0m\n\u001b[1;32m     21\u001b[0m     \u001b[0;32mreturn\u001b[0m \u001b[0mcommands\u001b[0m\u001b[0;34m\u001b[0m\u001b[0;34m\u001b[0m\u001b[0m\n\u001b[1;32m     22\u001b[0m \u001b[0;34m\u001b[0m\u001b[0m\n\u001b[0;32m---> 23\u001b[0;31m \u001b[0msra_run_table\u001b[0m\u001b[0;34m.\u001b[0m\u001b[0mapply\u001b[0m\u001b[0;34m(\u001b[0m\u001b[0mget_curl_commands\u001b[0m\u001b[0;34m,\u001b[0m \u001b[0maxis\u001b[0m\u001b[0;34m=\u001b[0m\u001b[0;36m1\u001b[0m\u001b[0;34m)\u001b[0m\u001b[0;34m.\u001b[0m\u001b[0mvalues\u001b[0m\u001b[0;34m\u001b[0m\u001b[0;34m\u001b[0m\u001b[0m\n\u001b[0m",
        "\u001b[0;32m~/miniconda3/envs/kmer-hashing/lib/python3.6/site-packages/pandas/core/frame.py\u001b[0m in \u001b[0;36mapply\u001b[0;34m(self, func, axis, broadcast, raw, reduce, result_type, args, **kwds)\u001b[0m\n\u001b[1;32m   6485\u001b[0m                          \u001b[0margs\u001b[0m\u001b[0;34m=\u001b[0m\u001b[0margs\u001b[0m\u001b[0;34m,\u001b[0m\u001b[0;34m\u001b[0m\u001b[0;34m\u001b[0m\u001b[0m\n\u001b[1;32m   6486\u001b[0m                          kwds=kwds)\n\u001b[0;32m-> 6487\u001b[0;31m         \u001b[0;32mreturn\u001b[0m \u001b[0mop\u001b[0m\u001b[0;34m.\u001b[0m\u001b[0mget_result\u001b[0m\u001b[0;34m(\u001b[0m\u001b[0;34m)\u001b[0m\u001b[0;34m\u001b[0m\u001b[0;34m\u001b[0m\u001b[0m\n\u001b[0m\u001b[1;32m   6488\u001b[0m \u001b[0;34m\u001b[0m\u001b[0m\n\u001b[1;32m   6489\u001b[0m     \u001b[0;32mdef\u001b[0m \u001b[0mapplymap\u001b[0m\u001b[0;34m(\u001b[0m\u001b[0mself\u001b[0m\u001b[0;34m,\u001b[0m \u001b[0mfunc\u001b[0m\u001b[0;34m)\u001b[0m\u001b[0;34m:\u001b[0m\u001b[0;34m\u001b[0m\u001b[0;34m\u001b[0m\u001b[0m\n",
        "\u001b[0;32m~/miniconda3/envs/kmer-hashing/lib/python3.6/site-packages/pandas/core/apply.py\u001b[0m in \u001b[0;36mget_result\u001b[0;34m(self)\u001b[0m\n\u001b[1;32m    149\u001b[0m             \u001b[0;32mreturn\u001b[0m \u001b[0mself\u001b[0m\u001b[0;34m.\u001b[0m\u001b[0mapply_raw\u001b[0m\u001b[0;34m(\u001b[0m\u001b[0;34m)\u001b[0m\u001b[0;34m\u001b[0m\u001b[0;34m\u001b[0m\u001b[0m\n\u001b[1;32m    150\u001b[0m \u001b[0;34m\u001b[0m\u001b[0m\n\u001b[0;32m--> 151\u001b[0;31m         \u001b[0;32mreturn\u001b[0m \u001b[0mself\u001b[0m\u001b[0;34m.\u001b[0m\u001b[0mapply_standard\u001b[0m\u001b[0;34m(\u001b[0m\u001b[0;34m)\u001b[0m\u001b[0;34m\u001b[0m\u001b[0;34m\u001b[0m\u001b[0m\n\u001b[0m\u001b[1;32m    152\u001b[0m \u001b[0;34m\u001b[0m\u001b[0m\n\u001b[1;32m    153\u001b[0m     \u001b[0;32mdef\u001b[0m \u001b[0mapply_empty_result\u001b[0m\u001b[0;34m(\u001b[0m\u001b[0mself\u001b[0m\u001b[0;34m)\u001b[0m\u001b[0;34m:\u001b[0m\u001b[0;34m\u001b[0m\u001b[0;34m\u001b[0m\u001b[0m\n",
        "\u001b[0;32m~/miniconda3/envs/kmer-hashing/lib/python3.6/site-packages/pandas/core/apply.py\u001b[0m in \u001b[0;36mapply_standard\u001b[0;34m(self)\u001b[0m\n\u001b[1;32m    255\u001b[0m \u001b[0;34m\u001b[0m\u001b[0m\n\u001b[1;32m    256\u001b[0m         \u001b[0;31m# compute the result using the series generator\u001b[0m\u001b[0;34m\u001b[0m\u001b[0;34m\u001b[0m\u001b[0;34m\u001b[0m\u001b[0m\n\u001b[0;32m--> 257\u001b[0;31m         \u001b[0mself\u001b[0m\u001b[0;34m.\u001b[0m\u001b[0mapply_series_generator\u001b[0m\u001b[0;34m(\u001b[0m\u001b[0;34m)\u001b[0m\u001b[0;34m\u001b[0m\u001b[0;34m\u001b[0m\u001b[0m\n\u001b[0m\u001b[1;32m    258\u001b[0m \u001b[0;34m\u001b[0m\u001b[0m\n\u001b[1;32m    259\u001b[0m         \u001b[0;31m# wrap results\u001b[0m\u001b[0;34m\u001b[0m\u001b[0;34m\u001b[0m\u001b[0;34m\u001b[0m\u001b[0m\n",
        "\u001b[0;32m~/miniconda3/envs/kmer-hashing/lib/python3.6/site-packages/pandas/core/apply.py\u001b[0m in \u001b[0;36mapply_series_generator\u001b[0;34m(self)\u001b[0m\n\u001b[1;32m    284\u001b[0m             \u001b[0;32mtry\u001b[0m\u001b[0;34m:\u001b[0m\u001b[0;34m\u001b[0m\u001b[0;34m\u001b[0m\u001b[0m\n\u001b[1;32m    285\u001b[0m                 \u001b[0;32mfor\u001b[0m \u001b[0mi\u001b[0m\u001b[0;34m,\u001b[0m \u001b[0mv\u001b[0m \u001b[0;32min\u001b[0m \u001b[0menumerate\u001b[0m\u001b[0;34m(\u001b[0m\u001b[0mseries_gen\u001b[0m\u001b[0;34m)\u001b[0m\u001b[0;34m:\u001b[0m\u001b[0;34m\u001b[0m\u001b[0;34m\u001b[0m\u001b[0m\n\u001b[0;32m--> 286\u001b[0;31m                     \u001b[0mresults\u001b[0m\u001b[0;34m[\u001b[0m\u001b[0mi\u001b[0m\u001b[0;34m]\u001b[0m \u001b[0;34m=\u001b[0m \u001b[0mself\u001b[0m\u001b[0;34m.\u001b[0m\u001b[0mf\u001b[0m\u001b[0;34m(\u001b[0m\u001b[0mv\u001b[0m\u001b[0;34m)\u001b[0m\u001b[0;34m\u001b[0m\u001b[0;34m\u001b[0m\u001b[0m\n\u001b[0m\u001b[1;32m    287\u001b[0m                     \u001b[0mkeys\u001b[0m\u001b[0;34m.\u001b[0m\u001b[0mappend\u001b[0m\u001b[0;34m(\u001b[0m\u001b[0mv\u001b[0m\u001b[0;34m.\u001b[0m\u001b[0mname\u001b[0m\u001b[0;34m)\u001b[0m\u001b[0;34m\u001b[0m\u001b[0;34m\u001b[0m\u001b[0m\n\u001b[1;32m    288\u001b[0m             \u001b[0;32mexcept\u001b[0m \u001b[0mException\u001b[0m \u001b[0;32mas\u001b[0m \u001b[0me\u001b[0m\u001b[0;34m:\u001b[0m\u001b[0;34m\u001b[0m\u001b[0;34m\u001b[0m\u001b[0m\n",
        "\u001b[0;32m<ipython-input-22-1760e8f83de0>\u001b[0m in \u001b[0;36mget_curl_commands\u001b[0;34m(row)\u001b[0m\n\u001b[1;32m     12\u001b[0m \u001b[0;32mdef\u001b[0m \u001b[0mget_curl_commands\u001b[0m\u001b[0;34m(\u001b[0m\u001b[0mrow\u001b[0m\u001b[0;34m)\u001b[0m\u001b[0;34m:\u001b[0m\u001b[0;34m\u001b[0m\u001b[0;34m\u001b[0m\u001b[0m\n\u001b[1;32m     13\u001b[0m     \u001b[0mtemplate\u001b[0m \u001b[0;34m=\u001b[0m \u001b[0;34m'curl -L {url} -o {destination}'\u001b[0m\u001b[0;34m\u001b[0m\u001b[0;34m\u001b[0m\u001b[0m\n\u001b[0;32m---> 14\u001b[0;31m     \u001b[0mis_paired\u001b[0m \u001b[0;34m=\u001b[0m \u001b[0mx\u001b[0m\u001b[0;34m[\u001b[0m\u001b[0;34m'LibraryLayout'\u001b[0m\u001b[0;34m]\u001b[0m \u001b[0;34m==\u001b[0m \u001b[0;34m'PAIRED'\u001b[0m\u001b[0;34m\u001b[0m\u001b[0;34m\u001b[0m\u001b[0m\n\u001b[0m\u001b[1;32m     15\u001b[0m \u001b[0;34m\u001b[0m\u001b[0m\n\u001b[1;32m     16\u001b[0m     \u001b[0mread_urls\u001b[0m \u001b[0;34m=\u001b[0m \u001b[0msrr_to_url\u001b[0m\u001b[0;34m(\u001b[0m\u001b[0mx\u001b[0m\u001b[0;34m[\u001b[0m\u001b[0;34m'Run'\u001b[0m\u001b[0;34m]\u001b[0m\u001b[0;34m,\u001b[0m \u001b[0mis_paired\u001b[0m\u001b[0;34m)\u001b[0m\u001b[0;34m\u001b[0m\u001b[0;34m\u001b[0m\u001b[0m\n",
        "\u001b[0;31mNameError\u001b[0m: (\"name 'x' is not defined\", 'occurred at index 0')"
       ]
      }
     ],
     "persistentId": "14bce4c0-4b3b-49fc-9039-a1b84e9f0776",
     "text": "def srr_to_url(srr_run, is_paired, url_base='ftp://ftp.sra.ebi.ac.uk/vol1/fastq/'):\n    suffix = f'{srr_run[:6]}/{srr_run}'\n    if is_paired:\n        read1 = f\"{url_base}/{suffix}/{srr_run}_R1.fastq.gz\"\n        read2 = f\"{url_base}/{suffix}/{srr_run}_R2.fastq.gz\"\n        reads = (read1, read2)\n    else:\n        read1 = f\"{url_base}/{suffix}/{srr_run}_R1.fastq.gz\"\n        reads = (read1,)\n    return reads\n\ndef get_curl_commands(row):\n    template = 'curl -L {url} -o {destination}'\n    is_paired = x['LibraryLayout'] == 'PAIRED'\n    \n    read_urls = srr_to_url(x['Run'], is_paired)\n    commands = []\n    for i, url in enumerate(urls):\n        destination = row['sanitized_name'] + \"_R{i+1}.fastq.gz\"\n        commands.append(template.format(url=url, destination=destinatio))\n    return commands\n\nsra_run_table.apply(get_curl_commands, axis=1).values"
    },
    "executionTime": "2019-11-05T15:54:39.604Z"
   },
   {
    "cell": {
     "executionCount": 23,
     "executionEventId": "394ae0f5-a437-4d09-ac7d-58429dcb68e2",
     "hasError": true,
     "id": "d907b1f4-f356-4b3b-8751-2748813d2d19",
     "outputs": [
      {
       "ename": "NameError",
       "evalue": "(\"name 'x' is not defined\", 'occurred at index 0')",
       "output_type": "error",
       "traceback": [
        "\u001b[0;31m---------------------------------------------------------------------------\u001b[0m",
        "\u001b[0;31mNameError\u001b[0m                                 Traceback (most recent call last)",
        "\u001b[0;32m<ipython-input-23-cac0868e188a>\u001b[0m in \u001b[0;36m<module>\u001b[0;34m()\u001b[0m\n\u001b[1;32m     21\u001b[0m     \u001b[0;32mreturn\u001b[0m \u001b[0mcommands\u001b[0m\u001b[0;34m\u001b[0m\u001b[0;34m\u001b[0m\u001b[0m\n\u001b[1;32m     22\u001b[0m \u001b[0;34m\u001b[0m\u001b[0m\n\u001b[0;32m---> 23\u001b[0;31m \u001b[0msra_run_table\u001b[0m\u001b[0;34m.\u001b[0m\u001b[0mapply\u001b[0m\u001b[0;34m(\u001b[0m\u001b[0mget_curl_commands\u001b[0m\u001b[0;34m,\u001b[0m \u001b[0maxis\u001b[0m\u001b[0;34m=\u001b[0m\u001b[0;36m1\u001b[0m\u001b[0;34m)\u001b[0m\u001b[0;34m.\u001b[0m\u001b[0mvalues\u001b[0m\u001b[0;34m\u001b[0m\u001b[0;34m\u001b[0m\u001b[0m\n\u001b[0m",
        "\u001b[0;32m~/miniconda3/envs/kmer-hashing/lib/python3.6/site-packages/pandas/core/frame.py\u001b[0m in \u001b[0;36mapply\u001b[0;34m(self, func, axis, broadcast, raw, reduce, result_type, args, **kwds)\u001b[0m\n\u001b[1;32m   6485\u001b[0m                          \u001b[0margs\u001b[0m\u001b[0;34m=\u001b[0m\u001b[0margs\u001b[0m\u001b[0;34m,\u001b[0m\u001b[0;34m\u001b[0m\u001b[0;34m\u001b[0m\u001b[0m\n\u001b[1;32m   6486\u001b[0m                          kwds=kwds)\n\u001b[0;32m-> 6487\u001b[0;31m         \u001b[0;32mreturn\u001b[0m \u001b[0mop\u001b[0m\u001b[0;34m.\u001b[0m\u001b[0mget_result\u001b[0m\u001b[0;34m(\u001b[0m\u001b[0;34m)\u001b[0m\u001b[0;34m\u001b[0m\u001b[0;34m\u001b[0m\u001b[0m\n\u001b[0m\u001b[1;32m   6488\u001b[0m \u001b[0;34m\u001b[0m\u001b[0m\n\u001b[1;32m   6489\u001b[0m     \u001b[0;32mdef\u001b[0m \u001b[0mapplymap\u001b[0m\u001b[0;34m(\u001b[0m\u001b[0mself\u001b[0m\u001b[0;34m,\u001b[0m \u001b[0mfunc\u001b[0m\u001b[0;34m)\u001b[0m\u001b[0;34m:\u001b[0m\u001b[0;34m\u001b[0m\u001b[0;34m\u001b[0m\u001b[0m\n",
        "\u001b[0;32m~/miniconda3/envs/kmer-hashing/lib/python3.6/site-packages/pandas/core/apply.py\u001b[0m in \u001b[0;36mget_result\u001b[0;34m(self)\u001b[0m\n\u001b[1;32m    149\u001b[0m             \u001b[0;32mreturn\u001b[0m \u001b[0mself\u001b[0m\u001b[0;34m.\u001b[0m\u001b[0mapply_raw\u001b[0m\u001b[0;34m(\u001b[0m\u001b[0;34m)\u001b[0m\u001b[0;34m\u001b[0m\u001b[0;34m\u001b[0m\u001b[0m\n\u001b[1;32m    150\u001b[0m \u001b[0;34m\u001b[0m\u001b[0m\n\u001b[0;32m--> 151\u001b[0;31m         \u001b[0;32mreturn\u001b[0m \u001b[0mself\u001b[0m\u001b[0;34m.\u001b[0m\u001b[0mapply_standard\u001b[0m\u001b[0;34m(\u001b[0m\u001b[0;34m)\u001b[0m\u001b[0;34m\u001b[0m\u001b[0;34m\u001b[0m\u001b[0m\n\u001b[0m\u001b[1;32m    152\u001b[0m \u001b[0;34m\u001b[0m\u001b[0m\n\u001b[1;32m    153\u001b[0m     \u001b[0;32mdef\u001b[0m \u001b[0mapply_empty_result\u001b[0m\u001b[0;34m(\u001b[0m\u001b[0mself\u001b[0m\u001b[0;34m)\u001b[0m\u001b[0;34m:\u001b[0m\u001b[0;34m\u001b[0m\u001b[0;34m\u001b[0m\u001b[0m\n",
        "\u001b[0;32m~/miniconda3/envs/kmer-hashing/lib/python3.6/site-packages/pandas/core/apply.py\u001b[0m in \u001b[0;36mapply_standard\u001b[0;34m(self)\u001b[0m\n\u001b[1;32m    255\u001b[0m \u001b[0;34m\u001b[0m\u001b[0m\n\u001b[1;32m    256\u001b[0m         \u001b[0;31m# compute the result using the series generator\u001b[0m\u001b[0;34m\u001b[0m\u001b[0;34m\u001b[0m\u001b[0;34m\u001b[0m\u001b[0m\n\u001b[0;32m--> 257\u001b[0;31m         \u001b[0mself\u001b[0m\u001b[0;34m.\u001b[0m\u001b[0mapply_series_generator\u001b[0m\u001b[0;34m(\u001b[0m\u001b[0;34m)\u001b[0m\u001b[0;34m\u001b[0m\u001b[0;34m\u001b[0m\u001b[0m\n\u001b[0m\u001b[1;32m    258\u001b[0m \u001b[0;34m\u001b[0m\u001b[0m\n\u001b[1;32m    259\u001b[0m         \u001b[0;31m# wrap results\u001b[0m\u001b[0;34m\u001b[0m\u001b[0;34m\u001b[0m\u001b[0;34m\u001b[0m\u001b[0m\n",
        "\u001b[0;32m~/miniconda3/envs/kmer-hashing/lib/python3.6/site-packages/pandas/core/apply.py\u001b[0m in \u001b[0;36mapply_series_generator\u001b[0;34m(self)\u001b[0m\n\u001b[1;32m    284\u001b[0m             \u001b[0;32mtry\u001b[0m\u001b[0;34m:\u001b[0m\u001b[0;34m\u001b[0m\u001b[0;34m\u001b[0m\u001b[0m\n\u001b[1;32m    285\u001b[0m                 \u001b[0;32mfor\u001b[0m \u001b[0mi\u001b[0m\u001b[0;34m,\u001b[0m \u001b[0mv\u001b[0m \u001b[0;32min\u001b[0m \u001b[0menumerate\u001b[0m\u001b[0;34m(\u001b[0m\u001b[0mseries_gen\u001b[0m\u001b[0;34m)\u001b[0m\u001b[0;34m:\u001b[0m\u001b[0;34m\u001b[0m\u001b[0;34m\u001b[0m\u001b[0m\n\u001b[0;32m--> 286\u001b[0;31m                     \u001b[0mresults\u001b[0m\u001b[0;34m[\u001b[0m\u001b[0mi\u001b[0m\u001b[0;34m]\u001b[0m \u001b[0;34m=\u001b[0m \u001b[0mself\u001b[0m\u001b[0;34m.\u001b[0m\u001b[0mf\u001b[0m\u001b[0;34m(\u001b[0m\u001b[0mv\u001b[0m\u001b[0;34m)\u001b[0m\u001b[0;34m\u001b[0m\u001b[0;34m\u001b[0m\u001b[0m\n\u001b[0m\u001b[1;32m    287\u001b[0m                     \u001b[0mkeys\u001b[0m\u001b[0;34m.\u001b[0m\u001b[0mappend\u001b[0m\u001b[0;34m(\u001b[0m\u001b[0mv\u001b[0m\u001b[0;34m.\u001b[0m\u001b[0mname\u001b[0m\u001b[0;34m)\u001b[0m\u001b[0;34m\u001b[0m\u001b[0;34m\u001b[0m\u001b[0m\n\u001b[1;32m    288\u001b[0m             \u001b[0;32mexcept\u001b[0m \u001b[0mException\u001b[0m \u001b[0;32mas\u001b[0m \u001b[0me\u001b[0m\u001b[0;34m:\u001b[0m\u001b[0;34m\u001b[0m\u001b[0;34m\u001b[0m\u001b[0m\n",
        "\u001b[0;32m<ipython-input-23-cac0868e188a>\u001b[0m in \u001b[0;36mget_curl_commands\u001b[0;34m(row)\u001b[0m\n\u001b[1;32m     12\u001b[0m \u001b[0;32mdef\u001b[0m \u001b[0mget_curl_commands\u001b[0m\u001b[0;34m(\u001b[0m\u001b[0mrow\u001b[0m\u001b[0;34m)\u001b[0m\u001b[0;34m:\u001b[0m\u001b[0;34m\u001b[0m\u001b[0;34m\u001b[0m\u001b[0m\n\u001b[1;32m     13\u001b[0m     \u001b[0mtemplate\u001b[0m \u001b[0;34m=\u001b[0m \u001b[0;34m'curl -L {url} -o {destination}'\u001b[0m\u001b[0;34m\u001b[0m\u001b[0;34m\u001b[0m\u001b[0m\n\u001b[0;32m---> 14\u001b[0;31m     \u001b[0mis_paired\u001b[0m \u001b[0;34m=\u001b[0m \u001b[0mx\u001b[0m\u001b[0;34m[\u001b[0m\u001b[0;34m'LibraryLayout'\u001b[0m\u001b[0;34m]\u001b[0m \u001b[0;34m==\u001b[0m \u001b[0;34m'PAIRED'\u001b[0m\u001b[0;34m\u001b[0m\u001b[0;34m\u001b[0m\u001b[0m\n\u001b[0m\u001b[1;32m     15\u001b[0m \u001b[0;34m\u001b[0m\u001b[0m\n\u001b[1;32m     16\u001b[0m     \u001b[0mread_urls\u001b[0m \u001b[0;34m=\u001b[0m \u001b[0msrr_to_url\u001b[0m\u001b[0;34m(\u001b[0m\u001b[0mrow\u001b[0m\u001b[0;34m[\u001b[0m\u001b[0;34m'Run'\u001b[0m\u001b[0;34m]\u001b[0m\u001b[0;34m,\u001b[0m \u001b[0mis_paired\u001b[0m\u001b[0;34m)\u001b[0m\u001b[0;34m\u001b[0m\u001b[0;34m\u001b[0m\u001b[0m\n",
        "\u001b[0;31mNameError\u001b[0m: (\"name 'x' is not defined\", 'occurred at index 0')"
       ]
      }
     ],
     "persistentId": "14bce4c0-4b3b-49fc-9039-a1b84e9f0776",
     "text": "def srr_to_url(srr_run, is_paired, url_base='ftp://ftp.sra.ebi.ac.uk/vol1/fastq/'):\n    suffix = f'{srr_run[:6]}/{srr_run}'\n    if is_paired:\n        read1 = f\"{url_base}/{suffix}/{srr_run}_R1.fastq.gz\"\n        read2 = f\"{url_base}/{suffix}/{srr_run}_R2.fastq.gz\"\n        reads = (read1, read2)\n    else:\n        read1 = f\"{url_base}/{suffix}/{srr_run}_R1.fastq.gz\"\n        reads = (read1,)\n    return reads\n\ndef get_curl_commands(row):\n    template = 'curl -L {url} -o {destination}'\n    is_paired = x['LibraryLayout'] == 'PAIRED'\n    \n    read_urls = srr_to_url(row['Run'], is_paired)\n    commands = []\n    for i, url in enumerate(urls):\n        destination = row['sanitized_name'] + \"_R{i+1}.fastq.gz\"\n        commands.append(template.format(url=url, destination=destinatio))\n    return commands\n\nsra_run_table.apply(get_curl_commands, axis=1).values"
    },
    "executionTime": "2019-11-05T15:54:48.073Z"
   },
   {
    "cell": {
     "executionCount": 24,
     "executionEventId": "99287150-0ae1-4725-8745-d2390008b60d",
     "hasError": true,
     "id": "d907b1f4-f356-4b3b-8751-2748813d2d19",
     "outputs": [
      {
       "ename": "NameError",
       "evalue": "(\"name 'urls' is not defined\", 'occurred at index 0')",
       "output_type": "error",
       "traceback": [
        "\u001b[0;31m---------------------------------------------------------------------------\u001b[0m",
        "\u001b[0;31mNameError\u001b[0m                                 Traceback (most recent call last)",
        "\u001b[0;32m<ipython-input-24-9230b4c66a2a>\u001b[0m in \u001b[0;36m<module>\u001b[0;34m()\u001b[0m\n\u001b[1;32m     21\u001b[0m     \u001b[0;32mreturn\u001b[0m \u001b[0mcommands\u001b[0m\u001b[0;34m\u001b[0m\u001b[0;34m\u001b[0m\u001b[0m\n\u001b[1;32m     22\u001b[0m \u001b[0;34m\u001b[0m\u001b[0m\n\u001b[0;32m---> 23\u001b[0;31m \u001b[0msra_run_table\u001b[0m\u001b[0;34m.\u001b[0m\u001b[0mapply\u001b[0m\u001b[0;34m(\u001b[0m\u001b[0mget_curl_commands\u001b[0m\u001b[0;34m,\u001b[0m \u001b[0maxis\u001b[0m\u001b[0;34m=\u001b[0m\u001b[0;36m1\u001b[0m\u001b[0;34m)\u001b[0m\u001b[0;34m.\u001b[0m\u001b[0mvalues\u001b[0m\u001b[0;34m\u001b[0m\u001b[0;34m\u001b[0m\u001b[0m\n\u001b[0m",
        "\u001b[0;32m~/miniconda3/envs/kmer-hashing/lib/python3.6/site-packages/pandas/core/frame.py\u001b[0m in \u001b[0;36mapply\u001b[0;34m(self, func, axis, broadcast, raw, reduce, result_type, args, **kwds)\u001b[0m\n\u001b[1;32m   6485\u001b[0m                          \u001b[0margs\u001b[0m\u001b[0;34m=\u001b[0m\u001b[0margs\u001b[0m\u001b[0;34m,\u001b[0m\u001b[0;34m\u001b[0m\u001b[0;34m\u001b[0m\u001b[0m\n\u001b[1;32m   6486\u001b[0m                          kwds=kwds)\n\u001b[0;32m-> 6487\u001b[0;31m         \u001b[0;32mreturn\u001b[0m \u001b[0mop\u001b[0m\u001b[0;34m.\u001b[0m\u001b[0mget_result\u001b[0m\u001b[0;34m(\u001b[0m\u001b[0;34m)\u001b[0m\u001b[0;34m\u001b[0m\u001b[0;34m\u001b[0m\u001b[0m\n\u001b[0m\u001b[1;32m   6488\u001b[0m \u001b[0;34m\u001b[0m\u001b[0m\n\u001b[1;32m   6489\u001b[0m     \u001b[0;32mdef\u001b[0m \u001b[0mapplymap\u001b[0m\u001b[0;34m(\u001b[0m\u001b[0mself\u001b[0m\u001b[0;34m,\u001b[0m \u001b[0mfunc\u001b[0m\u001b[0;34m)\u001b[0m\u001b[0;34m:\u001b[0m\u001b[0;34m\u001b[0m\u001b[0;34m\u001b[0m\u001b[0m\n",
        "\u001b[0;32m~/miniconda3/envs/kmer-hashing/lib/python3.6/site-packages/pandas/core/apply.py\u001b[0m in \u001b[0;36mget_result\u001b[0;34m(self)\u001b[0m\n\u001b[1;32m    149\u001b[0m             \u001b[0;32mreturn\u001b[0m \u001b[0mself\u001b[0m\u001b[0;34m.\u001b[0m\u001b[0mapply_raw\u001b[0m\u001b[0;34m(\u001b[0m\u001b[0;34m)\u001b[0m\u001b[0;34m\u001b[0m\u001b[0;34m\u001b[0m\u001b[0m\n\u001b[1;32m    150\u001b[0m \u001b[0;34m\u001b[0m\u001b[0m\n\u001b[0;32m--> 151\u001b[0;31m         \u001b[0;32mreturn\u001b[0m \u001b[0mself\u001b[0m\u001b[0;34m.\u001b[0m\u001b[0mapply_standard\u001b[0m\u001b[0;34m(\u001b[0m\u001b[0;34m)\u001b[0m\u001b[0;34m\u001b[0m\u001b[0;34m\u001b[0m\u001b[0m\n\u001b[0m\u001b[1;32m    152\u001b[0m \u001b[0;34m\u001b[0m\u001b[0m\n\u001b[1;32m    153\u001b[0m     \u001b[0;32mdef\u001b[0m \u001b[0mapply_empty_result\u001b[0m\u001b[0;34m(\u001b[0m\u001b[0mself\u001b[0m\u001b[0;34m)\u001b[0m\u001b[0;34m:\u001b[0m\u001b[0;34m\u001b[0m\u001b[0;34m\u001b[0m\u001b[0m\n",
        "\u001b[0;32m~/miniconda3/envs/kmer-hashing/lib/python3.6/site-packages/pandas/core/apply.py\u001b[0m in \u001b[0;36mapply_standard\u001b[0;34m(self)\u001b[0m\n\u001b[1;32m    255\u001b[0m \u001b[0;34m\u001b[0m\u001b[0m\n\u001b[1;32m    256\u001b[0m         \u001b[0;31m# compute the result using the series generator\u001b[0m\u001b[0;34m\u001b[0m\u001b[0;34m\u001b[0m\u001b[0;34m\u001b[0m\u001b[0m\n\u001b[0;32m--> 257\u001b[0;31m         \u001b[0mself\u001b[0m\u001b[0;34m.\u001b[0m\u001b[0mapply_series_generator\u001b[0m\u001b[0;34m(\u001b[0m\u001b[0;34m)\u001b[0m\u001b[0;34m\u001b[0m\u001b[0;34m\u001b[0m\u001b[0m\n\u001b[0m\u001b[1;32m    258\u001b[0m \u001b[0;34m\u001b[0m\u001b[0m\n\u001b[1;32m    259\u001b[0m         \u001b[0;31m# wrap results\u001b[0m\u001b[0;34m\u001b[0m\u001b[0;34m\u001b[0m\u001b[0;34m\u001b[0m\u001b[0m\n",
        "\u001b[0;32m~/miniconda3/envs/kmer-hashing/lib/python3.6/site-packages/pandas/core/apply.py\u001b[0m in \u001b[0;36mapply_series_generator\u001b[0;34m(self)\u001b[0m\n\u001b[1;32m    284\u001b[0m             \u001b[0;32mtry\u001b[0m\u001b[0;34m:\u001b[0m\u001b[0;34m\u001b[0m\u001b[0;34m\u001b[0m\u001b[0m\n\u001b[1;32m    285\u001b[0m                 \u001b[0;32mfor\u001b[0m \u001b[0mi\u001b[0m\u001b[0;34m,\u001b[0m \u001b[0mv\u001b[0m \u001b[0;32min\u001b[0m \u001b[0menumerate\u001b[0m\u001b[0;34m(\u001b[0m\u001b[0mseries_gen\u001b[0m\u001b[0;34m)\u001b[0m\u001b[0;34m:\u001b[0m\u001b[0;34m\u001b[0m\u001b[0;34m\u001b[0m\u001b[0m\n\u001b[0;32m--> 286\u001b[0;31m                     \u001b[0mresults\u001b[0m\u001b[0;34m[\u001b[0m\u001b[0mi\u001b[0m\u001b[0;34m]\u001b[0m \u001b[0;34m=\u001b[0m \u001b[0mself\u001b[0m\u001b[0;34m.\u001b[0m\u001b[0mf\u001b[0m\u001b[0;34m(\u001b[0m\u001b[0mv\u001b[0m\u001b[0;34m)\u001b[0m\u001b[0;34m\u001b[0m\u001b[0;34m\u001b[0m\u001b[0m\n\u001b[0m\u001b[1;32m    287\u001b[0m                     \u001b[0mkeys\u001b[0m\u001b[0;34m.\u001b[0m\u001b[0mappend\u001b[0m\u001b[0;34m(\u001b[0m\u001b[0mv\u001b[0m\u001b[0;34m.\u001b[0m\u001b[0mname\u001b[0m\u001b[0;34m)\u001b[0m\u001b[0;34m\u001b[0m\u001b[0;34m\u001b[0m\u001b[0m\n\u001b[1;32m    288\u001b[0m             \u001b[0;32mexcept\u001b[0m \u001b[0mException\u001b[0m \u001b[0;32mas\u001b[0m \u001b[0me\u001b[0m\u001b[0;34m:\u001b[0m\u001b[0;34m\u001b[0m\u001b[0;34m\u001b[0m\u001b[0m\n",
        "\u001b[0;32m<ipython-input-24-9230b4c66a2a>\u001b[0m in \u001b[0;36mget_curl_commands\u001b[0;34m(row)\u001b[0m\n\u001b[1;32m     16\u001b[0m     \u001b[0mread_urls\u001b[0m \u001b[0;34m=\u001b[0m \u001b[0msrr_to_url\u001b[0m\u001b[0;34m(\u001b[0m\u001b[0mrow\u001b[0m\u001b[0;34m[\u001b[0m\u001b[0;34m'Run'\u001b[0m\u001b[0;34m]\u001b[0m\u001b[0;34m,\u001b[0m \u001b[0mis_paired\u001b[0m\u001b[0;34m)\u001b[0m\u001b[0;34m\u001b[0m\u001b[0;34m\u001b[0m\u001b[0m\n\u001b[1;32m     17\u001b[0m     \u001b[0mcommands\u001b[0m \u001b[0;34m=\u001b[0m \u001b[0;34m[\u001b[0m\u001b[0;34m]\u001b[0m\u001b[0;34m\u001b[0m\u001b[0;34m\u001b[0m\u001b[0m\n\u001b[0;32m---> 18\u001b[0;31m     \u001b[0;32mfor\u001b[0m \u001b[0mi\u001b[0m\u001b[0;34m,\u001b[0m \u001b[0murl\u001b[0m \u001b[0;32min\u001b[0m \u001b[0menumerate\u001b[0m\u001b[0;34m(\u001b[0m\u001b[0murls\u001b[0m\u001b[0;34m)\u001b[0m\u001b[0;34m:\u001b[0m\u001b[0;34m\u001b[0m\u001b[0;34m\u001b[0m\u001b[0m\n\u001b[0m\u001b[1;32m     19\u001b[0m         \u001b[0mdestination\u001b[0m \u001b[0;34m=\u001b[0m \u001b[0mrow\u001b[0m\u001b[0;34m[\u001b[0m\u001b[0;34m'sanitized_name'\u001b[0m\u001b[0;34m]\u001b[0m \u001b[0;34m+\u001b[0m \u001b[0;34m\"_R{i+1}.fastq.gz\"\u001b[0m\u001b[0;34m\u001b[0m\u001b[0;34m\u001b[0m\u001b[0m\n\u001b[1;32m     20\u001b[0m         \u001b[0mcommands\u001b[0m\u001b[0;34m.\u001b[0m\u001b[0mappend\u001b[0m\u001b[0;34m(\u001b[0m\u001b[0mtemplate\u001b[0m\u001b[0;34m.\u001b[0m\u001b[0mformat\u001b[0m\u001b[0;34m(\u001b[0m\u001b[0murl\u001b[0m\u001b[0;34m=\u001b[0m\u001b[0murl\u001b[0m\u001b[0;34m,\u001b[0m \u001b[0mdestination\u001b[0m\u001b[0;34m=\u001b[0m\u001b[0mdestinatio\u001b[0m\u001b[0;34m)\u001b[0m\u001b[0;34m)\u001b[0m\u001b[0;34m\u001b[0m\u001b[0;34m\u001b[0m\u001b[0m\n",
        "\u001b[0;31mNameError\u001b[0m: (\"name 'urls' is not defined\", 'occurred at index 0')"
       ]
      }
     ],
     "persistentId": "14bce4c0-4b3b-49fc-9039-a1b84e9f0776",
     "text": "def srr_to_url(srr_run, is_paired, url_base='ftp://ftp.sra.ebi.ac.uk/vol1/fastq/'):\n    suffix = f'{srr_run[:6]}/{srr_run}'\n    if is_paired:\n        read1 = f\"{url_base}/{suffix}/{srr_run}_R1.fastq.gz\"\n        read2 = f\"{url_base}/{suffix}/{srr_run}_R2.fastq.gz\"\n        reads = (read1, read2)\n    else:\n        read1 = f\"{url_base}/{suffix}/{srr_run}_R1.fastq.gz\"\n        reads = (read1,)\n    return reads\n\ndef get_curl_commands(row):\n    template = 'curl -L {url} -o {destination}'\n    is_paired = row['LibraryLayout'] == 'PAIRED'\n    \n    read_urls = srr_to_url(row['Run'], is_paired)\n    commands = []\n    for i, url in enumerate(urls):\n        destination = row['sanitized_name'] + \"_R{i+1}.fastq.gz\"\n        commands.append(template.format(url=url, destination=destinatio))\n    return commands\n\nsra_run_table.apply(get_curl_commands, axis=1).values"
    },
    "executionTime": "2019-11-05T15:54:52.318Z"
   },
   {
    "cell": {
     "executionCount": 25,
     "executionEventId": "6e3ee2f8-a382-464a-8eaf-3b71c0bb979b",
     "hasError": true,
     "id": "d907b1f4-f356-4b3b-8751-2748813d2d19",
     "outputs": [
      {
       "ename": "NameError",
       "evalue": "(\"name 'destinatio' is not defined\", 'occurred at index 0')",
       "output_type": "error",
       "traceback": [
        "\u001b[0;31m---------------------------------------------------------------------------\u001b[0m",
        "\u001b[0;31mNameError\u001b[0m                                 Traceback (most recent call last)",
        "\u001b[0;32m<ipython-input-25-a7fa25aa1d58>\u001b[0m in \u001b[0;36m<module>\u001b[0;34m()\u001b[0m\n\u001b[1;32m     21\u001b[0m     \u001b[0;32mreturn\u001b[0m \u001b[0mcommands\u001b[0m\u001b[0;34m\u001b[0m\u001b[0;34m\u001b[0m\u001b[0m\n\u001b[1;32m     22\u001b[0m \u001b[0;34m\u001b[0m\u001b[0m\n\u001b[0;32m---> 23\u001b[0;31m \u001b[0msra_run_table\u001b[0m\u001b[0;34m.\u001b[0m\u001b[0mapply\u001b[0m\u001b[0;34m(\u001b[0m\u001b[0mget_curl_commands\u001b[0m\u001b[0;34m,\u001b[0m \u001b[0maxis\u001b[0m\u001b[0;34m=\u001b[0m\u001b[0;36m1\u001b[0m\u001b[0;34m)\u001b[0m\u001b[0;34m.\u001b[0m\u001b[0mvalues\u001b[0m\u001b[0;34m\u001b[0m\u001b[0;34m\u001b[0m\u001b[0m\n\u001b[0m",
        "\u001b[0;32m~/miniconda3/envs/kmer-hashing/lib/python3.6/site-packages/pandas/core/frame.py\u001b[0m in \u001b[0;36mapply\u001b[0;34m(self, func, axis, broadcast, raw, reduce, result_type, args, **kwds)\u001b[0m\n\u001b[1;32m   6485\u001b[0m                          \u001b[0margs\u001b[0m\u001b[0;34m=\u001b[0m\u001b[0margs\u001b[0m\u001b[0;34m,\u001b[0m\u001b[0;34m\u001b[0m\u001b[0;34m\u001b[0m\u001b[0m\n\u001b[1;32m   6486\u001b[0m                          kwds=kwds)\n\u001b[0;32m-> 6487\u001b[0;31m         \u001b[0;32mreturn\u001b[0m \u001b[0mop\u001b[0m\u001b[0;34m.\u001b[0m\u001b[0mget_result\u001b[0m\u001b[0;34m(\u001b[0m\u001b[0;34m)\u001b[0m\u001b[0;34m\u001b[0m\u001b[0;34m\u001b[0m\u001b[0m\n\u001b[0m\u001b[1;32m   6488\u001b[0m \u001b[0;34m\u001b[0m\u001b[0m\n\u001b[1;32m   6489\u001b[0m     \u001b[0;32mdef\u001b[0m \u001b[0mapplymap\u001b[0m\u001b[0;34m(\u001b[0m\u001b[0mself\u001b[0m\u001b[0;34m,\u001b[0m \u001b[0mfunc\u001b[0m\u001b[0;34m)\u001b[0m\u001b[0;34m:\u001b[0m\u001b[0;34m\u001b[0m\u001b[0;34m\u001b[0m\u001b[0m\n",
        "\u001b[0;32m~/miniconda3/envs/kmer-hashing/lib/python3.6/site-packages/pandas/core/apply.py\u001b[0m in \u001b[0;36mget_result\u001b[0;34m(self)\u001b[0m\n\u001b[1;32m    149\u001b[0m             \u001b[0;32mreturn\u001b[0m \u001b[0mself\u001b[0m\u001b[0;34m.\u001b[0m\u001b[0mapply_raw\u001b[0m\u001b[0;34m(\u001b[0m\u001b[0;34m)\u001b[0m\u001b[0;34m\u001b[0m\u001b[0;34m\u001b[0m\u001b[0m\n\u001b[1;32m    150\u001b[0m \u001b[0;34m\u001b[0m\u001b[0m\n\u001b[0;32m--> 151\u001b[0;31m         \u001b[0;32mreturn\u001b[0m \u001b[0mself\u001b[0m\u001b[0;34m.\u001b[0m\u001b[0mapply_standard\u001b[0m\u001b[0;34m(\u001b[0m\u001b[0;34m)\u001b[0m\u001b[0;34m\u001b[0m\u001b[0;34m\u001b[0m\u001b[0m\n\u001b[0m\u001b[1;32m    152\u001b[0m \u001b[0;34m\u001b[0m\u001b[0m\n\u001b[1;32m    153\u001b[0m     \u001b[0;32mdef\u001b[0m \u001b[0mapply_empty_result\u001b[0m\u001b[0;34m(\u001b[0m\u001b[0mself\u001b[0m\u001b[0;34m)\u001b[0m\u001b[0;34m:\u001b[0m\u001b[0;34m\u001b[0m\u001b[0;34m\u001b[0m\u001b[0m\n",
        "\u001b[0;32m~/miniconda3/envs/kmer-hashing/lib/python3.6/site-packages/pandas/core/apply.py\u001b[0m in \u001b[0;36mapply_standard\u001b[0;34m(self)\u001b[0m\n\u001b[1;32m    255\u001b[0m \u001b[0;34m\u001b[0m\u001b[0m\n\u001b[1;32m    256\u001b[0m         \u001b[0;31m# compute the result using the series generator\u001b[0m\u001b[0;34m\u001b[0m\u001b[0;34m\u001b[0m\u001b[0;34m\u001b[0m\u001b[0m\n\u001b[0;32m--> 257\u001b[0;31m         \u001b[0mself\u001b[0m\u001b[0;34m.\u001b[0m\u001b[0mapply_series_generator\u001b[0m\u001b[0;34m(\u001b[0m\u001b[0;34m)\u001b[0m\u001b[0;34m\u001b[0m\u001b[0;34m\u001b[0m\u001b[0m\n\u001b[0m\u001b[1;32m    258\u001b[0m \u001b[0;34m\u001b[0m\u001b[0m\n\u001b[1;32m    259\u001b[0m         \u001b[0;31m# wrap results\u001b[0m\u001b[0;34m\u001b[0m\u001b[0;34m\u001b[0m\u001b[0;34m\u001b[0m\u001b[0m\n",
        "\u001b[0;32m~/miniconda3/envs/kmer-hashing/lib/python3.6/site-packages/pandas/core/apply.py\u001b[0m in \u001b[0;36mapply_series_generator\u001b[0;34m(self)\u001b[0m\n\u001b[1;32m    284\u001b[0m             \u001b[0;32mtry\u001b[0m\u001b[0;34m:\u001b[0m\u001b[0;34m\u001b[0m\u001b[0;34m\u001b[0m\u001b[0m\n\u001b[1;32m    285\u001b[0m                 \u001b[0;32mfor\u001b[0m \u001b[0mi\u001b[0m\u001b[0;34m,\u001b[0m \u001b[0mv\u001b[0m \u001b[0;32min\u001b[0m \u001b[0menumerate\u001b[0m\u001b[0;34m(\u001b[0m\u001b[0mseries_gen\u001b[0m\u001b[0;34m)\u001b[0m\u001b[0;34m:\u001b[0m\u001b[0;34m\u001b[0m\u001b[0;34m\u001b[0m\u001b[0m\n\u001b[0;32m--> 286\u001b[0;31m                     \u001b[0mresults\u001b[0m\u001b[0;34m[\u001b[0m\u001b[0mi\u001b[0m\u001b[0;34m]\u001b[0m \u001b[0;34m=\u001b[0m \u001b[0mself\u001b[0m\u001b[0;34m.\u001b[0m\u001b[0mf\u001b[0m\u001b[0;34m(\u001b[0m\u001b[0mv\u001b[0m\u001b[0;34m)\u001b[0m\u001b[0;34m\u001b[0m\u001b[0;34m\u001b[0m\u001b[0m\n\u001b[0m\u001b[1;32m    287\u001b[0m                     \u001b[0mkeys\u001b[0m\u001b[0;34m.\u001b[0m\u001b[0mappend\u001b[0m\u001b[0;34m(\u001b[0m\u001b[0mv\u001b[0m\u001b[0;34m.\u001b[0m\u001b[0mname\u001b[0m\u001b[0;34m)\u001b[0m\u001b[0;34m\u001b[0m\u001b[0;34m\u001b[0m\u001b[0m\n\u001b[1;32m    288\u001b[0m             \u001b[0;32mexcept\u001b[0m \u001b[0mException\u001b[0m \u001b[0;32mas\u001b[0m \u001b[0me\u001b[0m\u001b[0;34m:\u001b[0m\u001b[0;34m\u001b[0m\u001b[0;34m\u001b[0m\u001b[0m\n",
        "\u001b[0;32m<ipython-input-25-a7fa25aa1d58>\u001b[0m in \u001b[0;36mget_curl_commands\u001b[0;34m(row)\u001b[0m\n\u001b[1;32m     18\u001b[0m     \u001b[0;32mfor\u001b[0m \u001b[0mi\u001b[0m\u001b[0;34m,\u001b[0m \u001b[0murl\u001b[0m \u001b[0;32min\u001b[0m \u001b[0menumerate\u001b[0m\u001b[0;34m(\u001b[0m\u001b[0mread_urls\u001b[0m\u001b[0;34m)\u001b[0m\u001b[0;34m:\u001b[0m\u001b[0;34m\u001b[0m\u001b[0;34m\u001b[0m\u001b[0m\n\u001b[1;32m     19\u001b[0m         \u001b[0mdestination\u001b[0m \u001b[0;34m=\u001b[0m \u001b[0mrow\u001b[0m\u001b[0;34m[\u001b[0m\u001b[0;34m'sanitized_name'\u001b[0m\u001b[0;34m]\u001b[0m \u001b[0;34m+\u001b[0m \u001b[0;34m\"_R{i+1}.fastq.gz\"\u001b[0m\u001b[0;34m\u001b[0m\u001b[0;34m\u001b[0m\u001b[0m\n\u001b[0;32m---> 20\u001b[0;31m         \u001b[0mcommands\u001b[0m\u001b[0;34m.\u001b[0m\u001b[0mappend\u001b[0m\u001b[0;34m(\u001b[0m\u001b[0mtemplate\u001b[0m\u001b[0;34m.\u001b[0m\u001b[0mformat\u001b[0m\u001b[0;34m(\u001b[0m\u001b[0murl\u001b[0m\u001b[0;34m=\u001b[0m\u001b[0murl\u001b[0m\u001b[0;34m,\u001b[0m \u001b[0mdestination\u001b[0m\u001b[0;34m=\u001b[0m\u001b[0mdestinatio\u001b[0m\u001b[0;34m)\u001b[0m\u001b[0;34m)\u001b[0m\u001b[0;34m\u001b[0m\u001b[0;34m\u001b[0m\u001b[0m\n\u001b[0m\u001b[1;32m     21\u001b[0m     \u001b[0;32mreturn\u001b[0m \u001b[0mcommands\u001b[0m\u001b[0;34m\u001b[0m\u001b[0;34m\u001b[0m\u001b[0m\n\u001b[1;32m     22\u001b[0m \u001b[0;34m\u001b[0m\u001b[0m\n",
        "\u001b[0;31mNameError\u001b[0m: (\"name 'destinatio' is not defined\", 'occurred at index 0')"
       ]
      }
     ],
     "persistentId": "14bce4c0-4b3b-49fc-9039-a1b84e9f0776",
     "text": "def srr_to_url(srr_run, is_paired, url_base='ftp://ftp.sra.ebi.ac.uk/vol1/fastq/'):\n    suffix = f'{srr_run[:6]}/{srr_run}'\n    if is_paired:\n        read1 = f\"{url_base}/{suffix}/{srr_run}_R1.fastq.gz\"\n        read2 = f\"{url_base}/{suffix}/{srr_run}_R2.fastq.gz\"\n        reads = (read1, read2)\n    else:\n        read1 = f\"{url_base}/{suffix}/{srr_run}_R1.fastq.gz\"\n        reads = (read1,)\n    return reads\n\ndef get_curl_commands(row):\n    template = 'curl -L {url} -o {destination}'\n    is_paired = row['LibraryLayout'] == 'PAIRED'\n    \n    read_urls = srr_to_url(row['Run'], is_paired)\n    commands = []\n    for i, url in enumerate(read_urls):\n        destination = row['sanitized_name'] + \"_R{i+1}.fastq.gz\"\n        commands.append(template.format(url=url, destination=destinatio))\n    return commands\n\nsra_run_table.apply(get_curl_commands, axis=1).values"
    },
    "executionTime": "2019-11-05T15:55:01.004Z"
   },
   {
    "cell": {
     "executionCount": 26,
     "executionEventId": "875b5adf-a280-4146-a83c-9294c377e5a2",
     "hasError": false,
     "id": "d907b1f4-f356-4b3b-8751-2748813d2d19",
     "outputs": [
      {
       "data": {
        "text/plain": "array([list(['curl -L ftp://ftp.sra.ebi.ac.uk/vol1/fastq//SRR306/SRR306710/SRR306710_R1.fastq.gz -o GSM752557_gga_br_F_1_R{i+1}.fastq.gz']),\n       list(['curl -L ftp://ftp.sra.ebi.ac.uk/vol1/fastq//SRR306/SRR306711/SRR306711_R1.fastq.gz -o GSM752558_gga_br_M_1_R{i+1}.fastq.gz']),\n       list(['curl -L ftp://ftp.sra.ebi.ac.uk/vol1/fastq//SRR306/SRR306712/SRR306712_R1.fastq.gz -o GSM752559_gga_cb_F_1_R{i+1}.fastq.gz']),\n       list(['curl -L ftp://ftp.sra.ebi.ac.uk/vol1/fastq//SRR306/SRR306713/SRR306713_R1.fastq.gz -o GSM752560_gga_cb_M_1_R{i+1}.fastq.gz']),\n       list(['curl -L ftp://ftp.sra.ebi.ac.uk/vol1/fastq//SRR306/SRR306714/SRR306714_R1.fastq.gz -o GSM752561_gga_ht_F_1_R{i+1}.fastq.gz']),\n       list(['curl -L ftp://ftp.sra.ebi.ac.uk/vol1/fastq//SRR306/SRR306715/SRR306715_R1.fastq.gz -o GSM752562_gga_ht_M_1_R{i+1}.fastq.gz']),\n       list(['curl -L ftp://ftp.sra.ebi.ac.uk/vol1/fastq//SRR306/SRR306716/SRR306716_R1.fastq.gz -o GSM752563_gga_kd_F_1_R{i+1}.fastq.gz']),\n       list(['curl -L ftp://ftp.sra.ebi.ac.uk/vol1/fastq//SRR306/SRR306717/SRR306717_R1.fastq.gz -o GSM752564_gga_kd_M_1_R{i+1}.fastq.gz']),\n       list(['curl -L ftp://ftp.sra.ebi.ac.uk/vol1/fastq//SRR306/SRR306718/SRR306718_R1.fastq.gz -o GSM752565_gga_lv_F_1_R{i+1}.fastq.gz']),\n       list(['curl -L ftp://ftp.sra.ebi.ac.uk/vol1/fastq//SRR306/SRR306719/SRR306719_R1.fastq.gz -o GSM752566_gga_lv_M_1_R{i+1}.fastq.gz']),\n       list(['curl -L ftp://ftp.sra.ebi.ac.uk/vol1/fastq//SRR306/SRR306720/SRR306720_R1.fastq.gz -o GSM752566_gga_lv_M_1_R{i+1}.fastq.gz']),\n       list(['curl -L ftp://ftp.sra.ebi.ac.uk/vol1/fastq//SRR306/SRR306721/SRR306721_R1.fastq.gz -o GSM752567_gga_ts_M_1_R{i+1}.fastq.gz']),\n       list(['curl -L ftp://ftp.sra.ebi.ac.uk/vol1/fastq//SRR306/SRR306722/SRR306722_R1.fastq.gz -o GSM752567_gga_ts_M_1_R{i+1}.fastq.gz']),\n       list(['curl -L ftp://ftp.sra.ebi.ac.uk/vol1/fastq//SRR306/SRR306723/SRR306723_R1.fastq.gz -o GSM752568_gga_ts_M_2_R{i+1}.fastq.gz']),\n       list(['curl -L ftp://ftp.sra.ebi.ac.uk/vol1/fastq//SRR306/SRR306724/SRR306724_R1.fastq.gz -o GSM752569_oan_br_F_1_R{i+1}.fastq.gz']),\n       list(['curl -L ftp://ftp.sra.ebi.ac.uk/vol1/fastq//SRR306/SRR306725/SRR306725_R1.fastq.gz -o GSM752569_oan_br_F_1_R{i+1}.fastq.gz']),\n       list(['curl -L ftp://ftp.sra.ebi.ac.uk/vol1/fastq//SRR306/SRR306726/SRR306726_R1.fastq.gz -o GSM752570_oan_br_M_1_R{i+1}.fastq.gz']),\n       list(['curl -L ftp://ftp.sra.ebi.ac.uk/vol1/fastq//SRR306/SRR306727/SRR306727_R1.fastq.gz -o GSM752570_oan_br_M_1_R{i+1}.fastq.gz']),\n       list(['curl -L ftp://ftp.sra.ebi.ac.uk/vol1/fastq//SRR306/SRR306728/SRR306728_R1.fastq.gz -o GSM752571_oan_cb_F_1_R{i+1}.fastq.gz']),\n       list(['curl -L ftp://ftp.sra.ebi.ac.uk/vol1/fastq//SRR306/SRR306729/SRR306729_R1.fastq.gz -o GSM752572_oan_cb_M_1_R{i+1}.fastq.gz']),\n       list(['curl -L ftp://ftp.sra.ebi.ac.uk/vol1/fastq//SRR306/SRR306730/SRR306730_R1.fastq.gz -o GSM752573_oan_ht_F_1_R{i+1}.fastq.gz']),\n       list(['curl -L ftp://ftp.sra.ebi.ac.uk/vol1/fastq//SRR306/SRR306731/SRR306731_R1.fastq.gz -o GSM752575_oan_ht_M_1_R{i+1}.fastq.gz']),\n       list(['curl -L ftp://ftp.sra.ebi.ac.uk/vol1/fastq//SRR306/SRR306732/SRR306732_R1.fastq.gz -o GSM752576_oan_kd_F_1_R{i+1}.fastq.gz']),\n       list(['curl -L ftp://ftp.sra.ebi.ac.uk/vol1/fastq//SRR306/SRR306733/SRR306733_R1.fastq.gz -o GSM752578_oan_kd_M_1_R{i+1}.fastq.gz']),\n       list(['curl -L ftp://ftp.sra.ebi.ac.uk/vol1/fastq//SRR306/SRR306734/SRR306734_R1.fastq.gz -o GSM752578_oan_kd_M_1_R{i+1}.fastq.gz']),\n       list(['curl -L ftp://ftp.sra.ebi.ac.uk/vol1/fastq//SRR306/SRR306735/SRR306735_R1.fastq.gz -o GSM752580_oan_lv_F_1_R{i+1}.fastq.gz']),\n       list(['curl -L ftp://ftp.sra.ebi.ac.uk/vol1/fastq//SRR306/SRR306736/SRR306736_R1.fastq.gz -o GSM752580_oan_lv_F_1_R{i+1}.fastq.gz']),\n       list(['curl -L ftp://ftp.sra.ebi.ac.uk/vol1/fastq//SRR306/SRR306737/SRR306737_R1.fastq.gz -o GSM752581_oan_lv_M_1_R{i+1}.fastq.gz']),\n       list(['curl -L ftp://ftp.sra.ebi.ac.uk/vol1/fastq//SRR306/SRR306738/SRR306738_R1.fastq.gz -o GSM752581_oan_lv_M_1_R{i+1}.fastq.gz']),\n       list(['curl -L ftp://ftp.sra.ebi.ac.uk/vol1/fastq//SRR306/SRR306739/SRR306739_R1.fastq.gz -o GSM752583_oan_ts_M_1_R{i+1}.fastq.gz']),\n       list(['curl -L ftp://ftp.sra.ebi.ac.uk/vol1/fastq//SRR306/SRR306741/SRR306741_R1.fastq.gz -o GSM752585_oan_ts_M_2_R{i+1}.fastq.gz']),\n       list(['curl -L ftp://ftp.sra.ebi.ac.uk/vol1/fastq//SRR306/SRR306742/SRR306742_R1.fastq.gz -o GSM752588_mdo_br_F_1_R{i+1}.fastq.gz']),\n       list(['curl -L ftp://ftp.sra.ebi.ac.uk/vol1/fastq//SRR306/SRR306743/SRR306743_R1.fastq.gz -o GSM752588_mdo_br_F_1_R{i+1}.fastq.gz']),\n       list(['curl -L ftp://ftp.sra.ebi.ac.uk/vol1/fastq//SRR306/SRR306744/SRR306744_R1.fastq.gz -o GSM752590_mdo_br_M_1_R{i+1}.fastq.gz']),\n       list(['curl -L ftp://ftp.sra.ebi.ac.uk/vol1/fastq//SRR306/SRR306745/SRR306745_R1.fastq.gz -o GSM752592_mdo_cb_F_1_R{i+1}.fastq.gz']),\n       list(['curl -L ftp://ftp.sra.ebi.ac.uk/vol1/fastq//SRR306/SRR306746/SRR306746_R1.fastq.gz -o GSM752594_mdo_cb_M_1_R{i+1}.fastq.gz']),\n       list(['curl -L ftp://ftp.sra.ebi.ac.uk/vol1/fastq//SRR306/SRR306747/SRR306747_R1.fastq.gz -o GSM752596_mdo_ht_F_1_R{i+1}.fastq.gz']),\n       list(['curl -L ftp://ftp.sra.ebi.ac.uk/vol1/fastq//SRR306/SRR306748/SRR306748_R1.fastq.gz -o GSM752596_mdo_ht_F_1_R{i+1}.fastq.gz']),\n       list(['curl -L ftp://ftp.sra.ebi.ac.uk/vol1/fastq//SRR306/SRR306749/SRR306749_R1.fastq.gz -o GSM752598_mdo_ht_M_1_R{i+1}.fastq.gz']),\n       list(['curl -L ftp://ftp.sra.ebi.ac.uk/vol1/fastq//SRR306/SRR306750/SRR306750_R1.fastq.gz -o GSM752598_mdo_ht_M_1_R{i+1}.fastq.gz']),\n       list(['curl -L ftp://ftp.sra.ebi.ac.uk/vol1/fastq//SRR306/SRR306751/SRR306751_R1.fastq.gz -o GSM752601_mdo_kd_F_1_R{i+1}.fastq.gz']),\n       list(['curl -L ftp://ftp.sra.ebi.ac.uk/vol1/fastq//SRR306/SRR306752/SRR306752_R1.fastq.gz -o GSM752603_mdo_kd_M_1_R{i+1}.fastq.gz']),\n       list(['curl -L ftp://ftp.sra.ebi.ac.uk/vol1/fastq//SRR306/SRR306753/SRR306753_R1.fastq.gz -o GSM752606_mdo_lv_F_1_R{i+1}.fastq.gz']),\n       list(['curl -L ftp://ftp.sra.ebi.ac.uk/vol1/fastq//SRR306/SRR306754/SRR306754_R1.fastq.gz -o GSM752608_mdo_lv_M_1_R{i+1}.fastq.gz']),\n       list(['curl -L ftp://ftp.sra.ebi.ac.uk/vol1/fastq//SRR306/SRR306755/SRR306755_R1.fastq.gz -o GSM752611_mdo_ts_M_1_R{i+1}.fastq.gz']),\n       list(['curl -L ftp://ftp.sra.ebi.ac.uk/vol1/fastq//SRR306/SRR306756/SRR306756_R1.fastq.gz -o GSM752613_mdo_ts_M_2_R{i+1}.fastq.gz']),\n       list(['curl -L ftp://ftp.sra.ebi.ac.uk/vol1/fastq//SRR306/SRR306757/SRR306757_R1.fastq.gz -o GSM752614_mmu_br_F_1_R{i+1}.fastq.gz']),\n       list(['curl -L ftp://ftp.sra.ebi.ac.uk/vol1/fastq//SRR306/SRR306758/SRR306758_R1.fastq.gz -o GSM752615_mmu_br_M_1_R{i+1}.fastq.gz']),\n       list(['curl -L ftp://ftp.sra.ebi.ac.uk/vol1/fastq//SRR306/SRR306759/SRR306759_R1.fastq.gz -o GSM752615_mmu_br_M_1_R{i+1}.fastq.gz']),\n       list(['curl -L ftp://ftp.sra.ebi.ac.uk/vol1/fastq//SRR306/SRR306760/SRR306760_R1.fastq.gz -o GSM752615_mmu_br_M_1_R{i+1}.fastq.gz']),\n       list(['curl -L ftp://ftp.sra.ebi.ac.uk/vol1/fastq//SRR306/SRR306761/SRR306761_R1.fastq.gz -o GSM752615_mmu_br_M_1_R{i+1}.fastq.gz']),\n       list(['curl -L ftp://ftp.sra.ebi.ac.uk/vol1/fastq//SRR306/SRR306762/SRR306762_R1.fastq.gz -o GSM752616_mmu_br_M_2_R{i+1}.fastq.gz']),\n       list(['curl -L ftp://ftp.sra.ebi.ac.uk/vol1/fastq//SRR306/SRR306763/SRR306763_R1.fastq.gz -o GSM752617_mmu_cb_F_1_R{i+1}.fastq.gz']),\n       list(['curl -L ftp://ftp.sra.ebi.ac.uk/vol1/fastq//SRR306/SRR306764/SRR306764_R1.fastq.gz -o GSM752618_mmu_cb_M_1_R{i+1}.fastq.gz']),\n       list(['curl -L ftp://ftp.sra.ebi.ac.uk/vol1/fastq//SRR306/SRR306765/SRR306765_R1.fastq.gz -o GSM752619_mmu_cb_M_2_R{i+1}.fastq.gz']),\n       list(['curl -L ftp://ftp.sra.ebi.ac.uk/vol1/fastq//SRR306/SRR306766/SRR306766_R1.fastq.gz -o GSM752620_mmu_ht_F_1_R{i+1}.fastq.gz']),\n       list(['curl -L ftp://ftp.sra.ebi.ac.uk/vol1/fastq//SRR306/SRR306767/SRR306767_R1.fastq.gz -o GSM752621_mmu_ht_M_1_R{i+1}.fastq.gz']),\n       list(['curl -L ftp://ftp.sra.ebi.ac.uk/vol1/fastq//SRR306/SRR306768/SRR306768_R1.fastq.gz -o GSM752622_mmu_ht_M_2_R{i+1}.fastq.gz']),\n       list(['curl -L ftp://ftp.sra.ebi.ac.uk/vol1/fastq//SRR306/SRR306769/SRR306769_R1.fastq.gz -o GSM752623_mmu_kd_F_1_R{i+1}.fastq.gz']),\n       list(['curl -L ftp://ftp.sra.ebi.ac.uk/vol1/fastq//SRR306/SRR306770/SRR306770_R1.fastq.gz -o GSM752624_mmu_kd_M_1_R{i+1}.fastq.gz']),\n       list(['curl -L ftp://ftp.sra.ebi.ac.uk/vol1/fastq//SRR306/SRR306771/SRR306771_R1.fastq.gz -o GSM752625_mmu_kd_M_2_R{i+1}.fastq.gz']),\n       list(['curl -L ftp://ftp.sra.ebi.ac.uk/vol1/fastq//SRR306/SRR306772/SRR306772_R1.fastq.gz -o GSM752626_mmu_lv_F_1_R{i+1}.fastq.gz']),\n       list(['curl -L ftp://ftp.sra.ebi.ac.uk/vol1/fastq//SRR306/SRR306773/SRR306773_R1.fastq.gz -o GSM752627_mmu_lv_M_1_R{i+1}.fastq.gz']),\n       list(['curl -L ftp://ftp.sra.ebi.ac.uk/vol1/fastq//SRR306/SRR306774/SRR306774_R1.fastq.gz -o GSM752628_mmu_lv_M_2_R{i+1}.fastq.gz']),\n       list(['curl -L ftp://ftp.sra.ebi.ac.uk/vol1/fastq//SRR306/SRR306775/SRR306775_R1.fastq.gz -o GSM752629_mmu_ts_M_1_R{i+1}.fastq.gz']),\n       list(['curl -L ftp://ftp.sra.ebi.ac.uk/vol1/fastq//SRR306/SRR306776/SRR306776_R1.fastq.gz -o GSM752630_mmu_ts_M_2_R{i+1}.fastq.gz']),\n       list(['curl -L ftp://ftp.sra.ebi.ac.uk/vol1/fastq//SRR306/SRR306777/SRR306777_R1.fastq.gz -o GSM752631_mml_br_F_1_R{i+1}.fastq.gz']),\n       list(['curl -L ftp://ftp.sra.ebi.ac.uk/vol1/fastq//SRR306/SRR306778/SRR306778_R1.fastq.gz -o GSM752632_mml_br_M_1_R{i+1}.fastq.gz']),\n       list(['curl -L ftp://ftp.sra.ebi.ac.uk/vol1/fastq//SRR306/SRR306779/SRR306779_R1.fastq.gz -o GSM752633_mml_br_M_2_R{i+1}.fastq.gz', 'curl -L ftp://ftp.sra.ebi.ac.uk/vol1/fastq//SRR306/SRR306779/SRR306779_R2.fastq.gz -o GSM752633_mml_br_M_2_R{i+1}.fastq.gz']),\n       list(['curl -L ftp://ftp.sra.ebi.ac.uk/vol1/fastq//SRR306/SRR306780/SRR306780_R1.fastq.gz -o GSM752634_mml_cb_F_1_R{i+1}.fastq.gz']),\n       list(['curl -L ftp://ftp.sra.ebi.ac.uk/vol1/fastq//SRR306/SRR306781/SRR306781_R1.fastq.gz -o GSM752635_mml_cb_M_1_R{i+1}.fastq.gz']),\n       list(['curl -L ftp://ftp.sra.ebi.ac.uk/vol1/fastq//SRR306/SRR306782/SRR306782_R1.fastq.gz -o GSM752636_mml_ht_F_1_R{i+1}.fastq.gz']),\n       list(['curl -L ftp://ftp.sra.ebi.ac.uk/vol1/fastq//SRR306/SRR306783/SRR306783_R1.fastq.gz -o GSM752637_mml_ht_M_1_R{i+1}.fastq.gz']),\n       list(['curl -L ftp://ftp.sra.ebi.ac.uk/vol1/fastq//SRR306/SRR306784/SRR306784_R1.fastq.gz -o GSM752638_mml_kd_F_1_R{i+1}.fastq.gz']),\n       list(['curl -L ftp://ftp.sra.ebi.ac.uk/vol1/fastq//SRR306/SRR306785/SRR306785_R1.fastq.gz -o GSM752639_mml_kd_M_1_R{i+1}.fastq.gz']),\n       list(['curl -L ftp://ftp.sra.ebi.ac.uk/vol1/fastq//SRR306/SRR306786/SRR306786_R1.fastq.gz -o GSM752640_mml_lv_F_1_R{i+1}.fastq.gz']),\n       list(['curl -L ftp://ftp.sra.ebi.ac.uk/vol1/fastq//SRR306/SRR306787/SRR306787_R1.fastq.gz -o GSM752641_mml_lv_M_1_R{i+1}.fastq.gz']),\n       list(['curl -L ftp://ftp.sra.ebi.ac.uk/vol1/fastq//SRR306/SRR306788/SRR306788_R1.fastq.gz -o GSM752641_mml_lv_M_1_R{i+1}.fastq.gz']),\n       list(['curl -L ftp://ftp.sra.ebi.ac.uk/vol1/fastq//SRR306/SRR306789/SRR306789_R1.fastq.gz -o GSM752642_mml_ts_M_1_R{i+1}.fastq.gz']),\n       list(['curl -L ftp://ftp.sra.ebi.ac.uk/vol1/fastq//SRR306/SRR306790/SRR306790_R1.fastq.gz -o GSM752643_mml_ts_M_2_R{i+1}.fastq.gz']),\n       list(['curl -L ftp://ftp.sra.ebi.ac.uk/vol1/fastq//SRR306/SRR306791/SRR306791_R1.fastq.gz -o GSM752644_ppy_br_F_1_R{i+1}.fastq.gz']),\n       list(['curl -L ftp://ftp.sra.ebi.ac.uk/vol1/fastq//SRR306/SRR306792/SRR306792_R1.fastq.gz -o GSM752645_ppy_br_M_1_R{i+1}.fastq.gz', 'curl -L ftp://ftp.sra.ebi.ac.uk/vol1/fastq//SRR306/SRR306792/SRR306792_R2.fastq.gz -o GSM752645_ppy_br_M_1_R{i+1}.fastq.gz']),\n       list(['curl -L ftp://ftp.sra.ebi.ac.uk/vol1/fastq//SRR306/SRR306793/SRR306793_R1.fastq.gz -o GSM752646_ppy_cb_F_1_R{i+1}.fastq.gz']),\n       list(['curl -L ftp://ftp.sra.ebi.ac.uk/vol1/fastq//SRR306/SRR306794/SRR306794_R1.fastq.gz -o GSM752647_ppy_ht_F_1_R{i+1}.fastq.gz']),\n       list(['curl -L ftp://ftp.sra.ebi.ac.uk/vol1/fastq//SRR306/SRR306795/SRR306795_R1.fastq.gz -o GSM752648_ppy_ht_M_1_R{i+1}.fastq.gz']),\n       list(['curl -L ftp://ftp.sra.ebi.ac.uk/vol1/fastq//SRR306/SRR306796/SRR306796_R1.fastq.gz -o GSM752649_ppy_kd_F_1_R{i+1}.fastq.gz']),\n       list(['curl -L ftp://ftp.sra.ebi.ac.uk/vol1/fastq//SRR306/SRR306797/SRR306797_R1.fastq.gz -o GSM752650_ppy_kd_M_1_R{i+1}.fastq.gz']),\n       list(['curl -L ftp://ftp.sra.ebi.ac.uk/vol1/fastq//SRR306/SRR306798/SRR306798_R1.fastq.gz -o GSM752651_ppy_lv_F_1_R{i+1}.fastq.gz']),\n       list(['curl -L ftp://ftp.sra.ebi.ac.uk/vol1/fastq//SRR306/SRR306799/SRR306799_R1.fastq.gz -o GSM752652_ppy_lv_M_1_R{i+1}.fastq.gz']),\n       list(['curl -L ftp://ftp.sra.ebi.ac.uk/vol1/fastq//SRR306/SRR306800/SRR306800_R1.fastq.gz -o GSM752653_ggo_br_F_1_R{i+1}.fastq.gz']),\n       list(['curl -L ftp://ftp.sra.ebi.ac.uk/vol1/fastq//SRR306/SRR306801/SRR306801_R1.fastq.gz -o GSM752654_ggo_br_M_1_R{i+1}.fastq.gz', 'curl -L ftp://ftp.sra.ebi.ac.uk/vol1/fastq//SRR306/SRR306801/SRR306801_R2.fastq.gz -o GSM752654_ggo_br_M_1_R{i+1}.fastq.gz']),\n       list(['curl -L ftp://ftp.sra.ebi.ac.uk/vol1/fastq//SRR306/SRR306802/SRR306802_R1.fastq.gz -o GSM752655_ggo_cb_F_1_R{i+1}.fastq.gz']),\n       list(['curl -L ftp://ftp.sra.ebi.ac.uk/vol1/fastq//SRR306/SRR306803/SRR306803_R1.fastq.gz -o GSM752656_ggo_cb_M_1_R{i+1}.fastq.gz']),\n       list(['curl -L ftp://ftp.sra.ebi.ac.uk/vol1/fastq//SRR306/SRR306804/SRR306804_R1.fastq.gz -o GSM752657_ggo_ht_F_1_R{i+1}.fastq.gz']),\n       list(['curl -L ftp://ftp.sra.ebi.ac.uk/vol1/fastq//SRR306/SRR306805/SRR306805_R1.fastq.gz -o GSM752658_ggo_ht_M_1_R{i+1}.fastq.gz']),\n       list(['curl -L ftp://ftp.sra.ebi.ac.uk/vol1/fastq//SRR306/SRR306806/SRR306806_R1.fastq.gz -o GSM752659_ggo_kd_F_1_R{i+1}.fastq.gz']),\n       list(['curl -L ftp://ftp.sra.ebi.ac.uk/vol1/fastq//SRR306/SRR306808/SRR306808_R1.fastq.gz -o GSM752661_ggo_lv_F_1_R{i+1}.fastq.gz']),\n       list(['curl -L ftp://ftp.sra.ebi.ac.uk/vol1/fastq//SRR306/SRR306809/SRR306809_R1.fastq.gz -o GSM752662_ggo_lv_M_1_R{i+1}.fastq.gz']),\n       list(['curl -L ftp://ftp.sra.ebi.ac.uk/vol1/fastq//SRR306/SRR306810/SRR306810_R1.fastq.gz -o GSM752663_ggo_ts_M_1_R{i+1}.fastq.gz']),\n       list(['curl -L ftp://ftp.sra.ebi.ac.uk/vol1/fastq//SRR306/SRR306811/SRR306811_R1.fastq.gz -o GSM752664_ptr_br_F_1_R{i+1}.fastq.gz']),\n       list(['curl -L ftp://ftp.sra.ebi.ac.uk/vol1/fastq//SRR306/SRR306812/SRR306812_R1.fastq.gz -o GSM752665_ptr_br_M_1_R{i+1}.fastq.gz', 'curl -L ftp://ftp.sra.ebi.ac.uk/vol1/fastq//SRR306/SRR306812/SRR306812_R2.fastq.gz -o GSM752665_ptr_br_M_1_R{i+1}.fastq.gz']),\n       list(['curl -L ftp://ftp.sra.ebi.ac.uk/vol1/fastq//SRR306/SRR306813/SRR306813_R1.fastq.gz -o GSM752666_ptr_br_M_2_R{i+1}.fastq.gz', 'curl -L ftp://ftp.sra.ebi.ac.uk/vol1/fastq//SRR306/SRR306813/SRR306813_R2.fastq.gz -o GSM752666_ptr_br_M_2_R{i+1}.fastq.gz']),\n       list(['curl -L ftp://ftp.sra.ebi.ac.uk/vol1/fastq//SRR306/SRR306814/SRR306814_R1.fastq.gz -o GSM752667_ptr_br_M_3_R{i+1}.fastq.gz', 'curl -L ftp://ftp.sra.ebi.ac.uk/vol1/fastq//SRR306/SRR306814/SRR306814_R2.fastq.gz -o GSM752667_ptr_br_M_3_R{i+1}.fastq.gz']),\n       list(['curl -L ftp://ftp.sra.ebi.ac.uk/vol1/fastq//SRR306/SRR306815/SRR306815_R1.fastq.gz -o GSM752668_ptr_br_M_4_R{i+1}.fastq.gz', 'curl -L ftp://ftp.sra.ebi.ac.uk/vol1/fastq//SRR306/SRR306815/SRR306815_R2.fastq.gz -o GSM752668_ptr_br_M_4_R{i+1}.fastq.gz']),\n       list(['curl -L ftp://ftp.sra.ebi.ac.uk/vol1/fastq//SRR306/SRR306816/SRR306816_R1.fastq.gz -o GSM752669_ptr_br_M_5_R{i+1}.fastq.gz', 'curl -L ftp://ftp.sra.ebi.ac.uk/vol1/fastq//SRR306/SRR306816/SRR306816_R2.fastq.gz -o GSM752669_ptr_br_M_5_R{i+1}.fastq.gz']),\n       list(['curl -L ftp://ftp.sra.ebi.ac.uk/vol1/fastq//SRR306/SRR306817/SRR306817_R1.fastq.gz -o GSM752670_ptr_cb_F_1_R{i+1}.fastq.gz']),\n       list(['curl -L ftp://ftp.sra.ebi.ac.uk/vol1/fastq//SRR306/SRR306818/SRR306818_R1.fastq.gz -o GSM752671_ptr_cb_M_1_R{i+1}.fastq.gz']),\n       list(['curl -L ftp://ftp.sra.ebi.ac.uk/vol1/fastq//SRR306/SRR306819/SRR306819_R1.fastq.gz -o GSM752672_ptr_ht_F_1_R{i+1}.fastq.gz']),\n       list(['curl -L ftp://ftp.sra.ebi.ac.uk/vol1/fastq//SRR306/SRR306820/SRR306820_R1.fastq.gz -o GSM752673_ptr_ht_M_1_R{i+1}.fastq.gz']),\n       list(['curl -L ftp://ftp.sra.ebi.ac.uk/vol1/fastq//SRR306/SRR306821/SRR306821_R1.fastq.gz -o GSM752674_ptr_kd_F_1_R{i+1}.fastq.gz']),\n       list(['curl -L ftp://ftp.sra.ebi.ac.uk/vol1/fastq//SRR306/SRR306822/SRR306822_R1.fastq.gz -o GSM752675_ptr_kd_M_1_R{i+1}.fastq.gz']),\n       list(['curl -L ftp://ftp.sra.ebi.ac.uk/vol1/fastq//SRR306/SRR306823/SRR306823_R1.fastq.gz -o GSM752676_ptr_lv_F_1_R{i+1}.fastq.gz']),\n       list(['curl -L ftp://ftp.sra.ebi.ac.uk/vol1/fastq//SRR306/SRR306824/SRR306824_R1.fastq.gz -o GSM752677_ptr_lv_M_1_R{i+1}.fastq.gz']),\n       list(['curl -L ftp://ftp.sra.ebi.ac.uk/vol1/fastq//SRR306/SRR306825/SRR306825_R1.fastq.gz -o GSM752678_ptr_ts_M_1_R{i+1}.fastq.gz']),\n       list(['curl -L ftp://ftp.sra.ebi.ac.uk/vol1/fastq//SRR306/SRR306826/SRR306826_R1.fastq.gz -o GSM752679_ppa_br_F_1_R{i+1}.fastq.gz', 'curl -L ftp://ftp.sra.ebi.ac.uk/vol1/fastq//SRR306/SRR306826/SRR306826_R2.fastq.gz -o GSM752679_ppa_br_F_1_R{i+1}.fastq.gz']),\n       list(['curl -L ftp://ftp.sra.ebi.ac.uk/vol1/fastq//SRR306/SRR306827/SRR306827_R1.fastq.gz -o GSM752680_ppa_br_F_2_R{i+1}.fastq.gz']),\n       list(['curl -L ftp://ftp.sra.ebi.ac.uk/vol1/fastq//SRR306/SRR306828/SRR306828_R1.fastq.gz -o GSM752681_ppa_br_M_1_R{i+1}.fastq.gz']),\n       list(['curl -L ftp://ftp.sra.ebi.ac.uk/vol1/fastq//SRR306/SRR306829/SRR306829_R1.fastq.gz -o GSM752682_ppa_cb_F_1_R{i+1}.fastq.gz']),\n       list(['curl -L ftp://ftp.sra.ebi.ac.uk/vol1/fastq//SRR306/SRR306830/SRR306830_R1.fastq.gz -o GSM752683_ppa_cb_M_1_R{i+1}.fastq.gz']),\n       list(['curl -L ftp://ftp.sra.ebi.ac.uk/vol1/fastq//SRR306/SRR306831/SRR306831_R1.fastq.gz -o GSM752684_ppa_ht_F_1_R{i+1}.fastq.gz']),\n       list(['curl -L ftp://ftp.sra.ebi.ac.uk/vol1/fastq//SRR306/SRR306832/SRR306832_R1.fastq.gz -o GSM752685_ppa_ht_M_1_R{i+1}.fastq.gz']),\n       list(['curl -L ftp://ftp.sra.ebi.ac.uk/vol1/fastq//SRR306/SRR306833/SRR306833_R1.fastq.gz -o GSM752686_ppa_kd_F_1_R{i+1}.fastq.gz']),\n       list(['curl -L ftp://ftp.sra.ebi.ac.uk/vol1/fastq//SRR306/SRR306834/SRR306834_R1.fastq.gz -o GSM752687_ppa_kd_M_1_R{i+1}.fastq.gz']),\n       list(['curl -L ftp://ftp.sra.ebi.ac.uk/vol1/fastq//SRR306/SRR306835/SRR306835_R1.fastq.gz -o GSM752688_ppa_lv_F_1_R{i+1}.fastq.gz']),\n       list(['curl -L ftp://ftp.sra.ebi.ac.uk/vol1/fastq//SRR306/SRR306836/SRR306836_R1.fastq.gz -o GSM752689_ppa_lv_M_1_R{i+1}.fastq.gz']),\n       list(['curl -L ftp://ftp.sra.ebi.ac.uk/vol1/fastq//SRR306/SRR306837/SRR306837_R1.fastq.gz -o GSM752690_ppa_ts_M_1_R{i+1}.fastq.gz']),\n       list(['curl -L ftp://ftp.sra.ebi.ac.uk/vol1/fastq//SRR306/SRR306838/SRR306838_R1.fastq.gz -o GSM752691_hsa_br_F_1_R{i+1}.fastq.gz']),\n       list(['curl -L ftp://ftp.sra.ebi.ac.uk/vol1/fastq//SRR306/SRR306839/SRR306839_R1.fastq.gz -o GSM752692_hsa_br_M_3_R{i+1}.fastq.gz']),\n       list(['curl -L ftp://ftp.sra.ebi.ac.uk/vol1/fastq//SRR306/SRR306840/SRR306840_R1.fastq.gz -o GSM752693_hsa_br_M_1_R{i+1}.fastq.gz', 'curl -L ftp://ftp.sra.ebi.ac.uk/vol1/fastq//SRR306/SRR306840/SRR306840_R2.fastq.gz -o GSM752693_hsa_br_M_1_R{i+1}.fastq.gz']),\n       list(['curl -L ftp://ftp.sra.ebi.ac.uk/vol1/fastq//SRR306/SRR306841/SRR306841_R1.fastq.gz -o GSM752694_hsa_br_M_2_R{i+1}.fastq.gz']),\n       list(['curl -L ftp://ftp.sra.ebi.ac.uk/vol1/fastq//SRR306/SRR306842/SRR306842_R1.fastq.gz -o GSM752695_hsa_br_M_4_R{i+1}.fastq.gz', 'curl -L ftp://ftp.sra.ebi.ac.uk/vol1/fastq//SRR306/SRR306842/SRR306842_R2.fastq.gz -o GSM752695_hsa_br_M_4_R{i+1}.fastq.gz']),\n       list(['curl -L ftp://ftp.sra.ebi.ac.uk/vol1/fastq//SRR306/SRR306843/SRR306843_R1.fastq.gz -o GSM752696_hsa_br_M_5_R{i+1}.fastq.gz']),\n       list(['curl -L ftp://ftp.sra.ebi.ac.uk/vol1/fastq//SRR306/SRR306844/SRR306844_R1.fastq.gz -o GSM752697_hsa_cb_F_1_R{i+1}.fastq.gz']),\n       list(['curl -L ftp://ftp.sra.ebi.ac.uk/vol1/fastq//SRR306/SRR306845/SRR306845_R1.fastq.gz -o GSM752698_hsa_cb_M_1_R{i+1}.fastq.gz']),\n       list(['curl -L ftp://ftp.sra.ebi.ac.uk/vol1/fastq//SRR306/SRR306846/SRR306846_R1.fastq.gz -o GSM752698_hsa_cb_M_1_R{i+1}.fastq.gz']),\n       list(['curl -L ftp://ftp.sra.ebi.ac.uk/vol1/fastq//SRR306/SRR306847/SRR306847_R1.fastq.gz -o GSM752699_hsa_ht_F_1_R{i+1}.fastq.gz']),\n       list(['curl -L ftp://ftp.sra.ebi.ac.uk/vol1/fastq//SRR306/SRR306848/SRR306848_R1.fastq.gz -o GSM752700_hsa_ht_M_1_R{i+1}.fastq.gz']),\n       list(['curl -L ftp://ftp.sra.ebi.ac.uk/vol1/fastq//SRR306/SRR306849/SRR306849_R1.fastq.gz -o GSM752700_hsa_ht_M_1_R{i+1}.fastq.gz']),\n       list(['curl -L ftp://ftp.sra.ebi.ac.uk/vol1/fastq//SRR306/SRR306850/SRR306850_R1.fastq.gz -o GSM752701_hsa_ht_M_2_R{i+1}.fastq.gz']),\n       list(['curl -L ftp://ftp.sra.ebi.ac.uk/vol1/fastq//SRR306/SRR306851/SRR306851_R1.fastq.gz -o GSM752702_hsa_kd_F_1_R{i+1}.fastq.gz']),\n       list(['curl -L ftp://ftp.sra.ebi.ac.uk/vol1/fastq//SRR306/SRR306852/SRR306852_R1.fastq.gz -o GSM752703_hsa_kd_M_1_R{i+1}.fastq.gz']),\n       list(['curl -L ftp://ftp.sra.ebi.ac.uk/vol1/fastq//SRR306/SRR306853/SRR306853_R1.fastq.gz -o GSM752704_hsa_kd_M_2_R{i+1}.fastq.gz']),\n       list(['curl -L ftp://ftp.sra.ebi.ac.uk/vol1/fastq//SRR306/SRR306854/SRR306854_R1.fastq.gz -o GSM752705_hsa_lv_M_1_R{i+1}.fastq.gz']),\n       list(['curl -L ftp://ftp.sra.ebi.ac.uk/vol1/fastq//SRR306/SRR306855/SRR306855_R1.fastq.gz -o GSM752705_hsa_lv_M_1_R{i+1}.fastq.gz']),\n       list(['curl -L ftp://ftp.sra.ebi.ac.uk/vol1/fastq//SRR306/SRR306856/SRR306856_R1.fastq.gz -o GSM752706_hsa_lv_M_2_R{i+1}.fastq.gz']),\n       list(['curl -L ftp://ftp.sra.ebi.ac.uk/vol1/fastq//SRR306/SRR306857/SRR306857_R1.fastq.gz -o GSM752707_hsa_ts_M_1_R{i+1}.fastq.gz']),\n       list(['curl -L ftp://ftp.sra.ebi.ac.uk/vol1/fastq//SRR306/SRR306858/SRR306858_R1.fastq.gz -o GSM752708_hsa_ts_M_2_R{i+1}.fastq.gz']),\n       list(['curl -L ftp://ftp.sra.ebi.ac.uk/vol1/fastq//SRR306/SRR306807/SRR306807_R1.fastq.gz -o GSM752660_ggo_kd_M_1_R{i+1}.fastq.gz']),\n       list(['curl -L ftp://ftp.sra.ebi.ac.uk/vol1/fastq//SRR306/SRR306740/SRR306740_R1.fastq.gz -o GSM752585_oan_ts_M_2_R{i+1}.fastq.gz'])],\n      dtype=object)"
       },
       "execution_count": 26,
       "metadata": {},
       "output_type": "execute_result"
      }
     ],
     "persistentId": "14bce4c0-4b3b-49fc-9039-a1b84e9f0776",
     "text": "def srr_to_url(srr_run, is_paired, url_base='ftp://ftp.sra.ebi.ac.uk/vol1/fastq/'):\n    suffix = f'{srr_run[:6]}/{srr_run}'\n    if is_paired:\n        read1 = f\"{url_base}/{suffix}/{srr_run}_R1.fastq.gz\"\n        read2 = f\"{url_base}/{suffix}/{srr_run}_R2.fastq.gz\"\n        reads = (read1, read2)\n    else:\n        read1 = f\"{url_base}/{suffix}/{srr_run}_R1.fastq.gz\"\n        reads = (read1,)\n    return reads\n\ndef get_curl_commands(row):\n    template = 'curl -L {url} -o {destination}'\n    is_paired = row['LibraryLayout'] == 'PAIRED'\n    \n    read_urls = srr_to_url(row['Run'], is_paired)\n    commands = []\n    for i, url in enumerate(read_urls):\n        destination = row['sanitized_name'] + \"_R{i+1}.fastq.gz\"\n        commands.append(template.format(url=url, destination=destination))\n    return commands\n\nsra_run_table.apply(get_curl_commands, axis=1).values"
    },
    "executionTime": "2019-11-05T15:55:05.347Z"
   },
   {
    "cell": {
     "executionCount": 27,
     "executionEventId": "7173c5bf-85f9-42c4-a62b-485a3979efa7",
     "hasError": false,
     "id": "d907b1f4-f356-4b3b-8751-2748813d2d19",
     "outputs": [
      {
       "data": {
        "text/plain": "array([list(['curl -L ftp://ftp.sra.ebi.ac.uk/vol1/fastq//SRR306/SRR306710/SRR306710_R1.fastq.gz -o GSM752557_gga_br_F_1_R1.fastq.gz']),\n       list(['curl -L ftp://ftp.sra.ebi.ac.uk/vol1/fastq//SRR306/SRR306711/SRR306711_R1.fastq.gz -o GSM752558_gga_br_M_1_R1.fastq.gz']),\n       list(['curl -L ftp://ftp.sra.ebi.ac.uk/vol1/fastq//SRR306/SRR306712/SRR306712_R1.fastq.gz -o GSM752559_gga_cb_F_1_R1.fastq.gz']),\n       list(['curl -L ftp://ftp.sra.ebi.ac.uk/vol1/fastq//SRR306/SRR306713/SRR306713_R1.fastq.gz -o GSM752560_gga_cb_M_1_R1.fastq.gz']),\n       list(['curl -L ftp://ftp.sra.ebi.ac.uk/vol1/fastq//SRR306/SRR306714/SRR306714_R1.fastq.gz -o GSM752561_gga_ht_F_1_R1.fastq.gz']),\n       list(['curl -L ftp://ftp.sra.ebi.ac.uk/vol1/fastq//SRR306/SRR306715/SRR306715_R1.fastq.gz -o GSM752562_gga_ht_M_1_R1.fastq.gz']),\n       list(['curl -L ftp://ftp.sra.ebi.ac.uk/vol1/fastq//SRR306/SRR306716/SRR306716_R1.fastq.gz -o GSM752563_gga_kd_F_1_R1.fastq.gz']),\n       list(['curl -L ftp://ftp.sra.ebi.ac.uk/vol1/fastq//SRR306/SRR306717/SRR306717_R1.fastq.gz -o GSM752564_gga_kd_M_1_R1.fastq.gz']),\n       list(['curl -L ftp://ftp.sra.ebi.ac.uk/vol1/fastq//SRR306/SRR306718/SRR306718_R1.fastq.gz -o GSM752565_gga_lv_F_1_R1.fastq.gz']),\n       list(['curl -L ftp://ftp.sra.ebi.ac.uk/vol1/fastq//SRR306/SRR306719/SRR306719_R1.fastq.gz -o GSM752566_gga_lv_M_1_R1.fastq.gz']),\n       list(['curl -L ftp://ftp.sra.ebi.ac.uk/vol1/fastq//SRR306/SRR306720/SRR306720_R1.fastq.gz -o GSM752566_gga_lv_M_1_R1.fastq.gz']),\n       list(['curl -L ftp://ftp.sra.ebi.ac.uk/vol1/fastq//SRR306/SRR306721/SRR306721_R1.fastq.gz -o GSM752567_gga_ts_M_1_R1.fastq.gz']),\n       list(['curl -L ftp://ftp.sra.ebi.ac.uk/vol1/fastq//SRR306/SRR306722/SRR306722_R1.fastq.gz -o GSM752567_gga_ts_M_1_R1.fastq.gz']),\n       list(['curl -L ftp://ftp.sra.ebi.ac.uk/vol1/fastq//SRR306/SRR306723/SRR306723_R1.fastq.gz -o GSM752568_gga_ts_M_2_R1.fastq.gz']),\n       list(['curl -L ftp://ftp.sra.ebi.ac.uk/vol1/fastq//SRR306/SRR306724/SRR306724_R1.fastq.gz -o GSM752569_oan_br_F_1_R1.fastq.gz']),\n       list(['curl -L ftp://ftp.sra.ebi.ac.uk/vol1/fastq//SRR306/SRR306725/SRR306725_R1.fastq.gz -o GSM752569_oan_br_F_1_R1.fastq.gz']),\n       list(['curl -L ftp://ftp.sra.ebi.ac.uk/vol1/fastq//SRR306/SRR306726/SRR306726_R1.fastq.gz -o GSM752570_oan_br_M_1_R1.fastq.gz']),\n       list(['curl -L ftp://ftp.sra.ebi.ac.uk/vol1/fastq//SRR306/SRR306727/SRR306727_R1.fastq.gz -o GSM752570_oan_br_M_1_R1.fastq.gz']),\n       list(['curl -L ftp://ftp.sra.ebi.ac.uk/vol1/fastq//SRR306/SRR306728/SRR306728_R1.fastq.gz -o GSM752571_oan_cb_F_1_R1.fastq.gz']),\n       list(['curl -L ftp://ftp.sra.ebi.ac.uk/vol1/fastq//SRR306/SRR306729/SRR306729_R1.fastq.gz -o GSM752572_oan_cb_M_1_R1.fastq.gz']),\n       list(['curl -L ftp://ftp.sra.ebi.ac.uk/vol1/fastq//SRR306/SRR306730/SRR306730_R1.fastq.gz -o GSM752573_oan_ht_F_1_R1.fastq.gz']),\n       list(['curl -L ftp://ftp.sra.ebi.ac.uk/vol1/fastq//SRR306/SRR306731/SRR306731_R1.fastq.gz -o GSM752575_oan_ht_M_1_R1.fastq.gz']),\n       list(['curl -L ftp://ftp.sra.ebi.ac.uk/vol1/fastq//SRR306/SRR306732/SRR306732_R1.fastq.gz -o GSM752576_oan_kd_F_1_R1.fastq.gz']),\n       list(['curl -L ftp://ftp.sra.ebi.ac.uk/vol1/fastq//SRR306/SRR306733/SRR306733_R1.fastq.gz -o GSM752578_oan_kd_M_1_R1.fastq.gz']),\n       list(['curl -L ftp://ftp.sra.ebi.ac.uk/vol1/fastq//SRR306/SRR306734/SRR306734_R1.fastq.gz -o GSM752578_oan_kd_M_1_R1.fastq.gz']),\n       list(['curl -L ftp://ftp.sra.ebi.ac.uk/vol1/fastq//SRR306/SRR306735/SRR306735_R1.fastq.gz -o GSM752580_oan_lv_F_1_R1.fastq.gz']),\n       list(['curl -L ftp://ftp.sra.ebi.ac.uk/vol1/fastq//SRR306/SRR306736/SRR306736_R1.fastq.gz -o GSM752580_oan_lv_F_1_R1.fastq.gz']),\n       list(['curl -L ftp://ftp.sra.ebi.ac.uk/vol1/fastq//SRR306/SRR306737/SRR306737_R1.fastq.gz -o GSM752581_oan_lv_M_1_R1.fastq.gz']),\n       list(['curl -L ftp://ftp.sra.ebi.ac.uk/vol1/fastq//SRR306/SRR306738/SRR306738_R1.fastq.gz -o GSM752581_oan_lv_M_1_R1.fastq.gz']),\n       list(['curl -L ftp://ftp.sra.ebi.ac.uk/vol1/fastq//SRR306/SRR306739/SRR306739_R1.fastq.gz -o GSM752583_oan_ts_M_1_R1.fastq.gz']),\n       list(['curl -L ftp://ftp.sra.ebi.ac.uk/vol1/fastq//SRR306/SRR306741/SRR306741_R1.fastq.gz -o GSM752585_oan_ts_M_2_R1.fastq.gz']),\n       list(['curl -L ftp://ftp.sra.ebi.ac.uk/vol1/fastq//SRR306/SRR306742/SRR306742_R1.fastq.gz -o GSM752588_mdo_br_F_1_R1.fastq.gz']),\n       list(['curl -L ftp://ftp.sra.ebi.ac.uk/vol1/fastq//SRR306/SRR306743/SRR306743_R1.fastq.gz -o GSM752588_mdo_br_F_1_R1.fastq.gz']),\n       list(['curl -L ftp://ftp.sra.ebi.ac.uk/vol1/fastq//SRR306/SRR306744/SRR306744_R1.fastq.gz -o GSM752590_mdo_br_M_1_R1.fastq.gz']),\n       list(['curl -L ftp://ftp.sra.ebi.ac.uk/vol1/fastq//SRR306/SRR306745/SRR306745_R1.fastq.gz -o GSM752592_mdo_cb_F_1_R1.fastq.gz']),\n       list(['curl -L ftp://ftp.sra.ebi.ac.uk/vol1/fastq//SRR306/SRR306746/SRR306746_R1.fastq.gz -o GSM752594_mdo_cb_M_1_R1.fastq.gz']),\n       list(['curl -L ftp://ftp.sra.ebi.ac.uk/vol1/fastq//SRR306/SRR306747/SRR306747_R1.fastq.gz -o GSM752596_mdo_ht_F_1_R1.fastq.gz']),\n       list(['curl -L ftp://ftp.sra.ebi.ac.uk/vol1/fastq//SRR306/SRR306748/SRR306748_R1.fastq.gz -o GSM752596_mdo_ht_F_1_R1.fastq.gz']),\n       list(['curl -L ftp://ftp.sra.ebi.ac.uk/vol1/fastq//SRR306/SRR306749/SRR306749_R1.fastq.gz -o GSM752598_mdo_ht_M_1_R1.fastq.gz']),\n       list(['curl -L ftp://ftp.sra.ebi.ac.uk/vol1/fastq//SRR306/SRR306750/SRR306750_R1.fastq.gz -o GSM752598_mdo_ht_M_1_R1.fastq.gz']),\n       list(['curl -L ftp://ftp.sra.ebi.ac.uk/vol1/fastq//SRR306/SRR306751/SRR306751_R1.fastq.gz -o GSM752601_mdo_kd_F_1_R1.fastq.gz']),\n       list(['curl -L ftp://ftp.sra.ebi.ac.uk/vol1/fastq//SRR306/SRR306752/SRR306752_R1.fastq.gz -o GSM752603_mdo_kd_M_1_R1.fastq.gz']),\n       list(['curl -L ftp://ftp.sra.ebi.ac.uk/vol1/fastq//SRR306/SRR306753/SRR306753_R1.fastq.gz -o GSM752606_mdo_lv_F_1_R1.fastq.gz']),\n       list(['curl -L ftp://ftp.sra.ebi.ac.uk/vol1/fastq//SRR306/SRR306754/SRR306754_R1.fastq.gz -o GSM752608_mdo_lv_M_1_R1.fastq.gz']),\n       list(['curl -L ftp://ftp.sra.ebi.ac.uk/vol1/fastq//SRR306/SRR306755/SRR306755_R1.fastq.gz -o GSM752611_mdo_ts_M_1_R1.fastq.gz']),\n       list(['curl -L ftp://ftp.sra.ebi.ac.uk/vol1/fastq//SRR306/SRR306756/SRR306756_R1.fastq.gz -o GSM752613_mdo_ts_M_2_R1.fastq.gz']),\n       list(['curl -L ftp://ftp.sra.ebi.ac.uk/vol1/fastq//SRR306/SRR306757/SRR306757_R1.fastq.gz -o GSM752614_mmu_br_F_1_R1.fastq.gz']),\n       list(['curl -L ftp://ftp.sra.ebi.ac.uk/vol1/fastq//SRR306/SRR306758/SRR306758_R1.fastq.gz -o GSM752615_mmu_br_M_1_R1.fastq.gz']),\n       list(['curl -L ftp://ftp.sra.ebi.ac.uk/vol1/fastq//SRR306/SRR306759/SRR306759_R1.fastq.gz -o GSM752615_mmu_br_M_1_R1.fastq.gz']),\n       list(['curl -L ftp://ftp.sra.ebi.ac.uk/vol1/fastq//SRR306/SRR306760/SRR306760_R1.fastq.gz -o GSM752615_mmu_br_M_1_R1.fastq.gz']),\n       list(['curl -L ftp://ftp.sra.ebi.ac.uk/vol1/fastq//SRR306/SRR306761/SRR306761_R1.fastq.gz -o GSM752615_mmu_br_M_1_R1.fastq.gz']),\n       list(['curl -L ftp://ftp.sra.ebi.ac.uk/vol1/fastq//SRR306/SRR306762/SRR306762_R1.fastq.gz -o GSM752616_mmu_br_M_2_R1.fastq.gz']),\n       list(['curl -L ftp://ftp.sra.ebi.ac.uk/vol1/fastq//SRR306/SRR306763/SRR306763_R1.fastq.gz -o GSM752617_mmu_cb_F_1_R1.fastq.gz']),\n       list(['curl -L ftp://ftp.sra.ebi.ac.uk/vol1/fastq//SRR306/SRR306764/SRR306764_R1.fastq.gz -o GSM752618_mmu_cb_M_1_R1.fastq.gz']),\n       list(['curl -L ftp://ftp.sra.ebi.ac.uk/vol1/fastq//SRR306/SRR306765/SRR306765_R1.fastq.gz -o GSM752619_mmu_cb_M_2_R1.fastq.gz']),\n       list(['curl -L ftp://ftp.sra.ebi.ac.uk/vol1/fastq//SRR306/SRR306766/SRR306766_R1.fastq.gz -o GSM752620_mmu_ht_F_1_R1.fastq.gz']),\n       list(['curl -L ftp://ftp.sra.ebi.ac.uk/vol1/fastq//SRR306/SRR306767/SRR306767_R1.fastq.gz -o GSM752621_mmu_ht_M_1_R1.fastq.gz']),\n       list(['curl -L ftp://ftp.sra.ebi.ac.uk/vol1/fastq//SRR306/SRR306768/SRR306768_R1.fastq.gz -o GSM752622_mmu_ht_M_2_R1.fastq.gz']),\n       list(['curl -L ftp://ftp.sra.ebi.ac.uk/vol1/fastq//SRR306/SRR306769/SRR306769_R1.fastq.gz -o GSM752623_mmu_kd_F_1_R1.fastq.gz']),\n       list(['curl -L ftp://ftp.sra.ebi.ac.uk/vol1/fastq//SRR306/SRR306770/SRR306770_R1.fastq.gz -o GSM752624_mmu_kd_M_1_R1.fastq.gz']),\n       list(['curl -L ftp://ftp.sra.ebi.ac.uk/vol1/fastq//SRR306/SRR306771/SRR306771_R1.fastq.gz -o GSM752625_mmu_kd_M_2_R1.fastq.gz']),\n       list(['curl -L ftp://ftp.sra.ebi.ac.uk/vol1/fastq//SRR306/SRR306772/SRR306772_R1.fastq.gz -o GSM752626_mmu_lv_F_1_R1.fastq.gz']),\n       list(['curl -L ftp://ftp.sra.ebi.ac.uk/vol1/fastq//SRR306/SRR306773/SRR306773_R1.fastq.gz -o GSM752627_mmu_lv_M_1_R1.fastq.gz']),\n       list(['curl -L ftp://ftp.sra.ebi.ac.uk/vol1/fastq//SRR306/SRR306774/SRR306774_R1.fastq.gz -o GSM752628_mmu_lv_M_2_R1.fastq.gz']),\n       list(['curl -L ftp://ftp.sra.ebi.ac.uk/vol1/fastq//SRR306/SRR306775/SRR306775_R1.fastq.gz -o GSM752629_mmu_ts_M_1_R1.fastq.gz']),\n       list(['curl -L ftp://ftp.sra.ebi.ac.uk/vol1/fastq//SRR306/SRR306776/SRR306776_R1.fastq.gz -o GSM752630_mmu_ts_M_2_R1.fastq.gz']),\n       list(['curl -L ftp://ftp.sra.ebi.ac.uk/vol1/fastq//SRR306/SRR306777/SRR306777_R1.fastq.gz -o GSM752631_mml_br_F_1_R1.fastq.gz']),\n       list(['curl -L ftp://ftp.sra.ebi.ac.uk/vol1/fastq//SRR306/SRR306778/SRR306778_R1.fastq.gz -o GSM752632_mml_br_M_1_R1.fastq.gz']),\n       list(['curl -L ftp://ftp.sra.ebi.ac.uk/vol1/fastq//SRR306/SRR306779/SRR306779_R1.fastq.gz -o GSM752633_mml_br_M_2_R1.fastq.gz', 'curl -L ftp://ftp.sra.ebi.ac.uk/vol1/fastq//SRR306/SRR306779/SRR306779_R2.fastq.gz -o GSM752633_mml_br_M_2_R2.fastq.gz']),\n       list(['curl -L ftp://ftp.sra.ebi.ac.uk/vol1/fastq//SRR306/SRR306780/SRR306780_R1.fastq.gz -o GSM752634_mml_cb_F_1_R1.fastq.gz']),\n       list(['curl -L ftp://ftp.sra.ebi.ac.uk/vol1/fastq//SRR306/SRR306781/SRR306781_R1.fastq.gz -o GSM752635_mml_cb_M_1_R1.fastq.gz']),\n       list(['curl -L ftp://ftp.sra.ebi.ac.uk/vol1/fastq//SRR306/SRR306782/SRR306782_R1.fastq.gz -o GSM752636_mml_ht_F_1_R1.fastq.gz']),\n       list(['curl -L ftp://ftp.sra.ebi.ac.uk/vol1/fastq//SRR306/SRR306783/SRR306783_R1.fastq.gz -o GSM752637_mml_ht_M_1_R1.fastq.gz']),\n       list(['curl -L ftp://ftp.sra.ebi.ac.uk/vol1/fastq//SRR306/SRR306784/SRR306784_R1.fastq.gz -o GSM752638_mml_kd_F_1_R1.fastq.gz']),\n       list(['curl -L ftp://ftp.sra.ebi.ac.uk/vol1/fastq//SRR306/SRR306785/SRR306785_R1.fastq.gz -o GSM752639_mml_kd_M_1_R1.fastq.gz']),\n       list(['curl -L ftp://ftp.sra.ebi.ac.uk/vol1/fastq//SRR306/SRR306786/SRR306786_R1.fastq.gz -o GSM752640_mml_lv_F_1_R1.fastq.gz']),\n       list(['curl -L ftp://ftp.sra.ebi.ac.uk/vol1/fastq//SRR306/SRR306787/SRR306787_R1.fastq.gz -o GSM752641_mml_lv_M_1_R1.fastq.gz']),\n       list(['curl -L ftp://ftp.sra.ebi.ac.uk/vol1/fastq//SRR306/SRR306788/SRR306788_R1.fastq.gz -o GSM752641_mml_lv_M_1_R1.fastq.gz']),\n       list(['curl -L ftp://ftp.sra.ebi.ac.uk/vol1/fastq//SRR306/SRR306789/SRR306789_R1.fastq.gz -o GSM752642_mml_ts_M_1_R1.fastq.gz']),\n       list(['curl -L ftp://ftp.sra.ebi.ac.uk/vol1/fastq//SRR306/SRR306790/SRR306790_R1.fastq.gz -o GSM752643_mml_ts_M_2_R1.fastq.gz']),\n       list(['curl -L ftp://ftp.sra.ebi.ac.uk/vol1/fastq//SRR306/SRR306791/SRR306791_R1.fastq.gz -o GSM752644_ppy_br_F_1_R1.fastq.gz']),\n       list(['curl -L ftp://ftp.sra.ebi.ac.uk/vol1/fastq//SRR306/SRR306792/SRR306792_R1.fastq.gz -o GSM752645_ppy_br_M_1_R1.fastq.gz', 'curl -L ftp://ftp.sra.ebi.ac.uk/vol1/fastq//SRR306/SRR306792/SRR306792_R2.fastq.gz -o GSM752645_ppy_br_M_1_R2.fastq.gz']),\n       list(['curl -L ftp://ftp.sra.ebi.ac.uk/vol1/fastq//SRR306/SRR306793/SRR306793_R1.fastq.gz -o GSM752646_ppy_cb_F_1_R1.fastq.gz']),\n       list(['curl -L ftp://ftp.sra.ebi.ac.uk/vol1/fastq//SRR306/SRR306794/SRR306794_R1.fastq.gz -o GSM752647_ppy_ht_F_1_R1.fastq.gz']),\n       list(['curl -L ftp://ftp.sra.ebi.ac.uk/vol1/fastq//SRR306/SRR306795/SRR306795_R1.fastq.gz -o GSM752648_ppy_ht_M_1_R1.fastq.gz']),\n       list(['curl -L ftp://ftp.sra.ebi.ac.uk/vol1/fastq//SRR306/SRR306796/SRR306796_R1.fastq.gz -o GSM752649_ppy_kd_F_1_R1.fastq.gz']),\n       list(['curl -L ftp://ftp.sra.ebi.ac.uk/vol1/fastq//SRR306/SRR306797/SRR306797_R1.fastq.gz -o GSM752650_ppy_kd_M_1_R1.fastq.gz']),\n       list(['curl -L ftp://ftp.sra.ebi.ac.uk/vol1/fastq//SRR306/SRR306798/SRR306798_R1.fastq.gz -o GSM752651_ppy_lv_F_1_R1.fastq.gz']),\n       list(['curl -L ftp://ftp.sra.ebi.ac.uk/vol1/fastq//SRR306/SRR306799/SRR306799_R1.fastq.gz -o GSM752652_ppy_lv_M_1_R1.fastq.gz']),\n       list(['curl -L ftp://ftp.sra.ebi.ac.uk/vol1/fastq//SRR306/SRR306800/SRR306800_R1.fastq.gz -o GSM752653_ggo_br_F_1_R1.fastq.gz']),\n       list(['curl -L ftp://ftp.sra.ebi.ac.uk/vol1/fastq//SRR306/SRR306801/SRR306801_R1.fastq.gz -o GSM752654_ggo_br_M_1_R1.fastq.gz', 'curl -L ftp://ftp.sra.ebi.ac.uk/vol1/fastq//SRR306/SRR306801/SRR306801_R2.fastq.gz -o GSM752654_ggo_br_M_1_R2.fastq.gz']),\n       list(['curl -L ftp://ftp.sra.ebi.ac.uk/vol1/fastq//SRR306/SRR306802/SRR306802_R1.fastq.gz -o GSM752655_ggo_cb_F_1_R1.fastq.gz']),\n       list(['curl -L ftp://ftp.sra.ebi.ac.uk/vol1/fastq//SRR306/SRR306803/SRR306803_R1.fastq.gz -o GSM752656_ggo_cb_M_1_R1.fastq.gz']),\n       list(['curl -L ftp://ftp.sra.ebi.ac.uk/vol1/fastq//SRR306/SRR306804/SRR306804_R1.fastq.gz -o GSM752657_ggo_ht_F_1_R1.fastq.gz']),\n       list(['curl -L ftp://ftp.sra.ebi.ac.uk/vol1/fastq//SRR306/SRR306805/SRR306805_R1.fastq.gz -o GSM752658_ggo_ht_M_1_R1.fastq.gz']),\n       list(['curl -L ftp://ftp.sra.ebi.ac.uk/vol1/fastq//SRR306/SRR306806/SRR306806_R1.fastq.gz -o GSM752659_ggo_kd_F_1_R1.fastq.gz']),\n       list(['curl -L ftp://ftp.sra.ebi.ac.uk/vol1/fastq//SRR306/SRR306808/SRR306808_R1.fastq.gz -o GSM752661_ggo_lv_F_1_R1.fastq.gz']),\n       list(['curl -L ftp://ftp.sra.ebi.ac.uk/vol1/fastq//SRR306/SRR306809/SRR306809_R1.fastq.gz -o GSM752662_ggo_lv_M_1_R1.fastq.gz']),\n       list(['curl -L ftp://ftp.sra.ebi.ac.uk/vol1/fastq//SRR306/SRR306810/SRR306810_R1.fastq.gz -o GSM752663_ggo_ts_M_1_R1.fastq.gz']),\n       list(['curl -L ftp://ftp.sra.ebi.ac.uk/vol1/fastq//SRR306/SRR306811/SRR306811_R1.fastq.gz -o GSM752664_ptr_br_F_1_R1.fastq.gz']),\n       list(['curl -L ftp://ftp.sra.ebi.ac.uk/vol1/fastq//SRR306/SRR306812/SRR306812_R1.fastq.gz -o GSM752665_ptr_br_M_1_R1.fastq.gz', 'curl -L ftp://ftp.sra.ebi.ac.uk/vol1/fastq//SRR306/SRR306812/SRR306812_R2.fastq.gz -o GSM752665_ptr_br_M_1_R2.fastq.gz']),\n       list(['curl -L ftp://ftp.sra.ebi.ac.uk/vol1/fastq//SRR306/SRR306813/SRR306813_R1.fastq.gz -o GSM752666_ptr_br_M_2_R1.fastq.gz', 'curl -L ftp://ftp.sra.ebi.ac.uk/vol1/fastq//SRR306/SRR306813/SRR306813_R2.fastq.gz -o GSM752666_ptr_br_M_2_R2.fastq.gz']),\n       list(['curl -L ftp://ftp.sra.ebi.ac.uk/vol1/fastq//SRR306/SRR306814/SRR306814_R1.fastq.gz -o GSM752667_ptr_br_M_3_R1.fastq.gz', 'curl -L ftp://ftp.sra.ebi.ac.uk/vol1/fastq//SRR306/SRR306814/SRR306814_R2.fastq.gz -o GSM752667_ptr_br_M_3_R2.fastq.gz']),\n       list(['curl -L ftp://ftp.sra.ebi.ac.uk/vol1/fastq//SRR306/SRR306815/SRR306815_R1.fastq.gz -o GSM752668_ptr_br_M_4_R1.fastq.gz', 'curl -L ftp://ftp.sra.ebi.ac.uk/vol1/fastq//SRR306/SRR306815/SRR306815_R2.fastq.gz -o GSM752668_ptr_br_M_4_R2.fastq.gz']),\n       list(['curl -L ftp://ftp.sra.ebi.ac.uk/vol1/fastq//SRR306/SRR306816/SRR306816_R1.fastq.gz -o GSM752669_ptr_br_M_5_R1.fastq.gz', 'curl -L ftp://ftp.sra.ebi.ac.uk/vol1/fastq//SRR306/SRR306816/SRR306816_R2.fastq.gz -o GSM752669_ptr_br_M_5_R2.fastq.gz']),\n       list(['curl -L ftp://ftp.sra.ebi.ac.uk/vol1/fastq//SRR306/SRR306817/SRR306817_R1.fastq.gz -o GSM752670_ptr_cb_F_1_R1.fastq.gz']),\n       list(['curl -L ftp://ftp.sra.ebi.ac.uk/vol1/fastq//SRR306/SRR306818/SRR306818_R1.fastq.gz -o GSM752671_ptr_cb_M_1_R1.fastq.gz']),\n       list(['curl -L ftp://ftp.sra.ebi.ac.uk/vol1/fastq//SRR306/SRR306819/SRR306819_R1.fastq.gz -o GSM752672_ptr_ht_F_1_R1.fastq.gz']),\n       list(['curl -L ftp://ftp.sra.ebi.ac.uk/vol1/fastq//SRR306/SRR306820/SRR306820_R1.fastq.gz -o GSM752673_ptr_ht_M_1_R1.fastq.gz']),\n       list(['curl -L ftp://ftp.sra.ebi.ac.uk/vol1/fastq//SRR306/SRR306821/SRR306821_R1.fastq.gz -o GSM752674_ptr_kd_F_1_R1.fastq.gz']),\n       list(['curl -L ftp://ftp.sra.ebi.ac.uk/vol1/fastq//SRR306/SRR306822/SRR306822_R1.fastq.gz -o GSM752675_ptr_kd_M_1_R1.fastq.gz']),\n       list(['curl -L ftp://ftp.sra.ebi.ac.uk/vol1/fastq//SRR306/SRR306823/SRR306823_R1.fastq.gz -o GSM752676_ptr_lv_F_1_R1.fastq.gz']),\n       list(['curl -L ftp://ftp.sra.ebi.ac.uk/vol1/fastq//SRR306/SRR306824/SRR306824_R1.fastq.gz -o GSM752677_ptr_lv_M_1_R1.fastq.gz']),\n       list(['curl -L ftp://ftp.sra.ebi.ac.uk/vol1/fastq//SRR306/SRR306825/SRR306825_R1.fastq.gz -o GSM752678_ptr_ts_M_1_R1.fastq.gz']),\n       list(['curl -L ftp://ftp.sra.ebi.ac.uk/vol1/fastq//SRR306/SRR306826/SRR306826_R1.fastq.gz -o GSM752679_ppa_br_F_1_R1.fastq.gz', 'curl -L ftp://ftp.sra.ebi.ac.uk/vol1/fastq//SRR306/SRR306826/SRR306826_R2.fastq.gz -o GSM752679_ppa_br_F_1_R2.fastq.gz']),\n       list(['curl -L ftp://ftp.sra.ebi.ac.uk/vol1/fastq//SRR306/SRR306827/SRR306827_R1.fastq.gz -o GSM752680_ppa_br_F_2_R1.fastq.gz']),\n       list(['curl -L ftp://ftp.sra.ebi.ac.uk/vol1/fastq//SRR306/SRR306828/SRR306828_R1.fastq.gz -o GSM752681_ppa_br_M_1_R1.fastq.gz']),\n       list(['curl -L ftp://ftp.sra.ebi.ac.uk/vol1/fastq//SRR306/SRR306829/SRR306829_R1.fastq.gz -o GSM752682_ppa_cb_F_1_R1.fastq.gz']),\n       list(['curl -L ftp://ftp.sra.ebi.ac.uk/vol1/fastq//SRR306/SRR306830/SRR306830_R1.fastq.gz -o GSM752683_ppa_cb_M_1_R1.fastq.gz']),\n       list(['curl -L ftp://ftp.sra.ebi.ac.uk/vol1/fastq//SRR306/SRR306831/SRR306831_R1.fastq.gz -o GSM752684_ppa_ht_F_1_R1.fastq.gz']),\n       list(['curl -L ftp://ftp.sra.ebi.ac.uk/vol1/fastq//SRR306/SRR306832/SRR306832_R1.fastq.gz -o GSM752685_ppa_ht_M_1_R1.fastq.gz']),\n       list(['curl -L ftp://ftp.sra.ebi.ac.uk/vol1/fastq//SRR306/SRR306833/SRR306833_R1.fastq.gz -o GSM752686_ppa_kd_F_1_R1.fastq.gz']),\n       list(['curl -L ftp://ftp.sra.ebi.ac.uk/vol1/fastq//SRR306/SRR306834/SRR306834_R1.fastq.gz -o GSM752687_ppa_kd_M_1_R1.fastq.gz']),\n       list(['curl -L ftp://ftp.sra.ebi.ac.uk/vol1/fastq//SRR306/SRR306835/SRR306835_R1.fastq.gz -o GSM752688_ppa_lv_F_1_R1.fastq.gz']),\n       list(['curl -L ftp://ftp.sra.ebi.ac.uk/vol1/fastq//SRR306/SRR306836/SRR306836_R1.fastq.gz -o GSM752689_ppa_lv_M_1_R1.fastq.gz']),\n       list(['curl -L ftp://ftp.sra.ebi.ac.uk/vol1/fastq//SRR306/SRR306837/SRR306837_R1.fastq.gz -o GSM752690_ppa_ts_M_1_R1.fastq.gz']),\n       list(['curl -L ftp://ftp.sra.ebi.ac.uk/vol1/fastq//SRR306/SRR306838/SRR306838_R1.fastq.gz -o GSM752691_hsa_br_F_1_R1.fastq.gz']),\n       list(['curl -L ftp://ftp.sra.ebi.ac.uk/vol1/fastq//SRR306/SRR306839/SRR306839_R1.fastq.gz -o GSM752692_hsa_br_M_3_R1.fastq.gz']),\n       list(['curl -L ftp://ftp.sra.ebi.ac.uk/vol1/fastq//SRR306/SRR306840/SRR306840_R1.fastq.gz -o GSM752693_hsa_br_M_1_R1.fastq.gz', 'curl -L ftp://ftp.sra.ebi.ac.uk/vol1/fastq//SRR306/SRR306840/SRR306840_R2.fastq.gz -o GSM752693_hsa_br_M_1_R2.fastq.gz']),\n       list(['curl -L ftp://ftp.sra.ebi.ac.uk/vol1/fastq//SRR306/SRR306841/SRR306841_R1.fastq.gz -o GSM752694_hsa_br_M_2_R1.fastq.gz']),\n       list(['curl -L ftp://ftp.sra.ebi.ac.uk/vol1/fastq//SRR306/SRR306842/SRR306842_R1.fastq.gz -o GSM752695_hsa_br_M_4_R1.fastq.gz', 'curl -L ftp://ftp.sra.ebi.ac.uk/vol1/fastq//SRR306/SRR306842/SRR306842_R2.fastq.gz -o GSM752695_hsa_br_M_4_R2.fastq.gz']),\n       list(['curl -L ftp://ftp.sra.ebi.ac.uk/vol1/fastq//SRR306/SRR306843/SRR306843_R1.fastq.gz -o GSM752696_hsa_br_M_5_R1.fastq.gz']),\n       list(['curl -L ftp://ftp.sra.ebi.ac.uk/vol1/fastq//SRR306/SRR306844/SRR306844_R1.fastq.gz -o GSM752697_hsa_cb_F_1_R1.fastq.gz']),\n       list(['curl -L ftp://ftp.sra.ebi.ac.uk/vol1/fastq//SRR306/SRR306845/SRR306845_R1.fastq.gz -o GSM752698_hsa_cb_M_1_R1.fastq.gz']),\n       list(['curl -L ftp://ftp.sra.ebi.ac.uk/vol1/fastq//SRR306/SRR306846/SRR306846_R1.fastq.gz -o GSM752698_hsa_cb_M_1_R1.fastq.gz']),\n       list(['curl -L ftp://ftp.sra.ebi.ac.uk/vol1/fastq//SRR306/SRR306847/SRR306847_R1.fastq.gz -o GSM752699_hsa_ht_F_1_R1.fastq.gz']),\n       list(['curl -L ftp://ftp.sra.ebi.ac.uk/vol1/fastq//SRR306/SRR306848/SRR306848_R1.fastq.gz -o GSM752700_hsa_ht_M_1_R1.fastq.gz']),\n       list(['curl -L ftp://ftp.sra.ebi.ac.uk/vol1/fastq//SRR306/SRR306849/SRR306849_R1.fastq.gz -o GSM752700_hsa_ht_M_1_R1.fastq.gz']),\n       list(['curl -L ftp://ftp.sra.ebi.ac.uk/vol1/fastq//SRR306/SRR306850/SRR306850_R1.fastq.gz -o GSM752701_hsa_ht_M_2_R1.fastq.gz']),\n       list(['curl -L ftp://ftp.sra.ebi.ac.uk/vol1/fastq//SRR306/SRR306851/SRR306851_R1.fastq.gz -o GSM752702_hsa_kd_F_1_R1.fastq.gz']),\n       list(['curl -L ftp://ftp.sra.ebi.ac.uk/vol1/fastq//SRR306/SRR306852/SRR306852_R1.fastq.gz -o GSM752703_hsa_kd_M_1_R1.fastq.gz']),\n       list(['curl -L ftp://ftp.sra.ebi.ac.uk/vol1/fastq//SRR306/SRR306853/SRR306853_R1.fastq.gz -o GSM752704_hsa_kd_M_2_R1.fastq.gz']),\n       list(['curl -L ftp://ftp.sra.ebi.ac.uk/vol1/fastq//SRR306/SRR306854/SRR306854_R1.fastq.gz -o GSM752705_hsa_lv_M_1_R1.fastq.gz']),\n       list(['curl -L ftp://ftp.sra.ebi.ac.uk/vol1/fastq//SRR306/SRR306855/SRR306855_R1.fastq.gz -o GSM752705_hsa_lv_M_1_R1.fastq.gz']),\n       list(['curl -L ftp://ftp.sra.ebi.ac.uk/vol1/fastq//SRR306/SRR306856/SRR306856_R1.fastq.gz -o GSM752706_hsa_lv_M_2_R1.fastq.gz']),\n       list(['curl -L ftp://ftp.sra.ebi.ac.uk/vol1/fastq//SRR306/SRR306857/SRR306857_R1.fastq.gz -o GSM752707_hsa_ts_M_1_R1.fastq.gz']),\n       list(['curl -L ftp://ftp.sra.ebi.ac.uk/vol1/fastq//SRR306/SRR306858/SRR306858_R1.fastq.gz -o GSM752708_hsa_ts_M_2_R1.fastq.gz']),\n       list(['curl -L ftp://ftp.sra.ebi.ac.uk/vol1/fastq//SRR306/SRR306807/SRR306807_R1.fastq.gz -o GSM752660_ggo_kd_M_1_R1.fastq.gz']),\n       list(['curl -L ftp://ftp.sra.ebi.ac.uk/vol1/fastq//SRR306/SRR306740/SRR306740_R1.fastq.gz -o GSM752585_oan_ts_M_2_R1.fastq.gz'])],\n      dtype=object)"
       },
       "execution_count": 27,
       "metadata": {},
       "output_type": "execute_result"
      }
     ],
     "persistentId": "14bce4c0-4b3b-49fc-9039-a1b84e9f0776",
     "text": "def srr_to_url(srr_run, is_paired, url_base='ftp://ftp.sra.ebi.ac.uk/vol1/fastq/'):\n    suffix = f'{srr_run[:6]}/{srr_run}'\n    if is_paired:\n        read1 = f\"{url_base}/{suffix}/{srr_run}_R1.fastq.gz\"\n        read2 = f\"{url_base}/{suffix}/{srr_run}_R2.fastq.gz\"\n        reads = (read1, read2)\n    else:\n        read1 = f\"{url_base}/{suffix}/{srr_run}_R1.fastq.gz\"\n        reads = (read1,)\n    return reads\n\ndef get_curl_commands(row):\n    template = 'curl -L {url} -o {destination}'\n    is_paired = row['LibraryLayout'] == 'PAIRED'\n    \n    read_urls = srr_to_url(row['Run'], is_paired)\n    commands = []\n    for i, url in enumerate(read_urls):\n        destination = row['sanitized_name'] + f\"_R{i+1}.fastq.gz\"\n        commands.append(template.format(url=url, destination=destination))\n    return commands\n\nsra_run_table.apply(get_curl_commands, axis=1).values"
    },
    "executionTime": "2019-11-05T15:55:10.800Z"
   },
   {
    "cell": {
     "executionCount": 28,
     "executionEventId": "8a3a4acc-8a8d-4cab-a11a-8c2e0efb8204",
     "hasError": false,
     "id": "d907b1f4-f356-4b3b-8751-2748813d2d19",
     "outputs": [
      {
       "data": {
        "text/plain": "array([list(['curl -L ftp://ftp.sra.ebi.ac.uk/vol1/fastq//SRR306/SRR306710/SRR306710_R1.fastq.gz -o SRR306710_GSM752557_gga_br_F_1_R1.fastq.gz']),\n       list(['curl -L ftp://ftp.sra.ebi.ac.uk/vol1/fastq//SRR306/SRR306711/SRR306711_R1.fastq.gz -o SRR306711_GSM752558_gga_br_M_1_R1.fastq.gz']),\n       list(['curl -L ftp://ftp.sra.ebi.ac.uk/vol1/fastq//SRR306/SRR306712/SRR306712_R1.fastq.gz -o SRR306712_GSM752559_gga_cb_F_1_R1.fastq.gz']),\n       list(['curl -L ftp://ftp.sra.ebi.ac.uk/vol1/fastq//SRR306/SRR306713/SRR306713_R1.fastq.gz -o SRR306713_GSM752560_gga_cb_M_1_R1.fastq.gz']),\n       list(['curl -L ftp://ftp.sra.ebi.ac.uk/vol1/fastq//SRR306/SRR306714/SRR306714_R1.fastq.gz -o SRR306714_GSM752561_gga_ht_F_1_R1.fastq.gz']),\n       list(['curl -L ftp://ftp.sra.ebi.ac.uk/vol1/fastq//SRR306/SRR306715/SRR306715_R1.fastq.gz -o SRR306715_GSM752562_gga_ht_M_1_R1.fastq.gz']),\n       list(['curl -L ftp://ftp.sra.ebi.ac.uk/vol1/fastq//SRR306/SRR306716/SRR306716_R1.fastq.gz -o SRR306716_GSM752563_gga_kd_F_1_R1.fastq.gz']),\n       list(['curl -L ftp://ftp.sra.ebi.ac.uk/vol1/fastq//SRR306/SRR306717/SRR306717_R1.fastq.gz -o SRR306717_GSM752564_gga_kd_M_1_R1.fastq.gz']),\n       list(['curl -L ftp://ftp.sra.ebi.ac.uk/vol1/fastq//SRR306/SRR306718/SRR306718_R1.fastq.gz -o SRR306718_GSM752565_gga_lv_F_1_R1.fastq.gz']),\n       list(['curl -L ftp://ftp.sra.ebi.ac.uk/vol1/fastq//SRR306/SRR306719/SRR306719_R1.fastq.gz -o SRR306719_GSM752566_gga_lv_M_1_R1.fastq.gz']),\n       list(['curl -L ftp://ftp.sra.ebi.ac.uk/vol1/fastq//SRR306/SRR306720/SRR306720_R1.fastq.gz -o SRR306720_GSM752566_gga_lv_M_1_R1.fastq.gz']),\n       list(['curl -L ftp://ftp.sra.ebi.ac.uk/vol1/fastq//SRR306/SRR306721/SRR306721_R1.fastq.gz -o SRR306721_GSM752567_gga_ts_M_1_R1.fastq.gz']),\n       list(['curl -L ftp://ftp.sra.ebi.ac.uk/vol1/fastq//SRR306/SRR306722/SRR306722_R1.fastq.gz -o SRR306722_GSM752567_gga_ts_M_1_R1.fastq.gz']),\n       list(['curl -L ftp://ftp.sra.ebi.ac.uk/vol1/fastq//SRR306/SRR306723/SRR306723_R1.fastq.gz -o SRR306723_GSM752568_gga_ts_M_2_R1.fastq.gz']),\n       list(['curl -L ftp://ftp.sra.ebi.ac.uk/vol1/fastq//SRR306/SRR306724/SRR306724_R1.fastq.gz -o SRR306724_GSM752569_oan_br_F_1_R1.fastq.gz']),\n       list(['curl -L ftp://ftp.sra.ebi.ac.uk/vol1/fastq//SRR306/SRR306725/SRR306725_R1.fastq.gz -o SRR306725_GSM752569_oan_br_F_1_R1.fastq.gz']),\n       list(['curl -L ftp://ftp.sra.ebi.ac.uk/vol1/fastq//SRR306/SRR306726/SRR306726_R1.fastq.gz -o SRR306726_GSM752570_oan_br_M_1_R1.fastq.gz']),\n       list(['curl -L ftp://ftp.sra.ebi.ac.uk/vol1/fastq//SRR306/SRR306727/SRR306727_R1.fastq.gz -o SRR306727_GSM752570_oan_br_M_1_R1.fastq.gz']),\n       list(['curl -L ftp://ftp.sra.ebi.ac.uk/vol1/fastq//SRR306/SRR306728/SRR306728_R1.fastq.gz -o SRR306728_GSM752571_oan_cb_F_1_R1.fastq.gz']),\n       list(['curl -L ftp://ftp.sra.ebi.ac.uk/vol1/fastq//SRR306/SRR306729/SRR306729_R1.fastq.gz -o SRR306729_GSM752572_oan_cb_M_1_R1.fastq.gz']),\n       list(['curl -L ftp://ftp.sra.ebi.ac.uk/vol1/fastq//SRR306/SRR306730/SRR306730_R1.fastq.gz -o SRR306730_GSM752573_oan_ht_F_1_R1.fastq.gz']),\n       list(['curl -L ftp://ftp.sra.ebi.ac.uk/vol1/fastq//SRR306/SRR306731/SRR306731_R1.fastq.gz -o SRR306731_GSM752575_oan_ht_M_1_R1.fastq.gz']),\n       list(['curl -L ftp://ftp.sra.ebi.ac.uk/vol1/fastq//SRR306/SRR306732/SRR306732_R1.fastq.gz -o SRR306732_GSM752576_oan_kd_F_1_R1.fastq.gz']),\n       list(['curl -L ftp://ftp.sra.ebi.ac.uk/vol1/fastq//SRR306/SRR306733/SRR306733_R1.fastq.gz -o SRR306733_GSM752578_oan_kd_M_1_R1.fastq.gz']),\n       list(['curl -L ftp://ftp.sra.ebi.ac.uk/vol1/fastq//SRR306/SRR306734/SRR306734_R1.fastq.gz -o SRR306734_GSM752578_oan_kd_M_1_R1.fastq.gz']),\n       list(['curl -L ftp://ftp.sra.ebi.ac.uk/vol1/fastq//SRR306/SRR306735/SRR306735_R1.fastq.gz -o SRR306735_GSM752580_oan_lv_F_1_R1.fastq.gz']),\n       list(['curl -L ftp://ftp.sra.ebi.ac.uk/vol1/fastq//SRR306/SRR306736/SRR306736_R1.fastq.gz -o SRR306736_GSM752580_oan_lv_F_1_R1.fastq.gz']),\n       list(['curl -L ftp://ftp.sra.ebi.ac.uk/vol1/fastq//SRR306/SRR306737/SRR306737_R1.fastq.gz -o SRR306737_GSM752581_oan_lv_M_1_R1.fastq.gz']),\n       list(['curl -L ftp://ftp.sra.ebi.ac.uk/vol1/fastq//SRR306/SRR306738/SRR306738_R1.fastq.gz -o SRR306738_GSM752581_oan_lv_M_1_R1.fastq.gz']),\n       list(['curl -L ftp://ftp.sra.ebi.ac.uk/vol1/fastq//SRR306/SRR306739/SRR306739_R1.fastq.gz -o SRR306739_GSM752583_oan_ts_M_1_R1.fastq.gz']),\n       list(['curl -L ftp://ftp.sra.ebi.ac.uk/vol1/fastq//SRR306/SRR306741/SRR306741_R1.fastq.gz -o SRR306741_GSM752585_oan_ts_M_2_R1.fastq.gz']),\n       list(['curl -L ftp://ftp.sra.ebi.ac.uk/vol1/fastq//SRR306/SRR306742/SRR306742_R1.fastq.gz -o SRR306742_GSM752588_mdo_br_F_1_R1.fastq.gz']),\n       list(['curl -L ftp://ftp.sra.ebi.ac.uk/vol1/fastq//SRR306/SRR306743/SRR306743_R1.fastq.gz -o SRR306743_GSM752588_mdo_br_F_1_R1.fastq.gz']),\n       list(['curl -L ftp://ftp.sra.ebi.ac.uk/vol1/fastq//SRR306/SRR306744/SRR306744_R1.fastq.gz -o SRR306744_GSM752590_mdo_br_M_1_R1.fastq.gz']),\n       list(['curl -L ftp://ftp.sra.ebi.ac.uk/vol1/fastq//SRR306/SRR306745/SRR306745_R1.fastq.gz -o SRR306745_GSM752592_mdo_cb_F_1_R1.fastq.gz']),\n       list(['curl -L ftp://ftp.sra.ebi.ac.uk/vol1/fastq//SRR306/SRR306746/SRR306746_R1.fastq.gz -o SRR306746_GSM752594_mdo_cb_M_1_R1.fastq.gz']),\n       list(['curl -L ftp://ftp.sra.ebi.ac.uk/vol1/fastq//SRR306/SRR306747/SRR306747_R1.fastq.gz -o SRR306747_GSM752596_mdo_ht_F_1_R1.fastq.gz']),\n       list(['curl -L ftp://ftp.sra.ebi.ac.uk/vol1/fastq//SRR306/SRR306748/SRR306748_R1.fastq.gz -o SRR306748_GSM752596_mdo_ht_F_1_R1.fastq.gz']),\n       list(['curl -L ftp://ftp.sra.ebi.ac.uk/vol1/fastq//SRR306/SRR306749/SRR306749_R1.fastq.gz -o SRR306749_GSM752598_mdo_ht_M_1_R1.fastq.gz']),\n       list(['curl -L ftp://ftp.sra.ebi.ac.uk/vol1/fastq//SRR306/SRR306750/SRR306750_R1.fastq.gz -o SRR306750_GSM752598_mdo_ht_M_1_R1.fastq.gz']),\n       list(['curl -L ftp://ftp.sra.ebi.ac.uk/vol1/fastq//SRR306/SRR306751/SRR306751_R1.fastq.gz -o SRR306751_GSM752601_mdo_kd_F_1_R1.fastq.gz']),\n       list(['curl -L ftp://ftp.sra.ebi.ac.uk/vol1/fastq//SRR306/SRR306752/SRR306752_R1.fastq.gz -o SRR306752_GSM752603_mdo_kd_M_1_R1.fastq.gz']),\n       list(['curl -L ftp://ftp.sra.ebi.ac.uk/vol1/fastq//SRR306/SRR306753/SRR306753_R1.fastq.gz -o SRR306753_GSM752606_mdo_lv_F_1_R1.fastq.gz']),\n       list(['curl -L ftp://ftp.sra.ebi.ac.uk/vol1/fastq//SRR306/SRR306754/SRR306754_R1.fastq.gz -o SRR306754_GSM752608_mdo_lv_M_1_R1.fastq.gz']),\n       list(['curl -L ftp://ftp.sra.ebi.ac.uk/vol1/fastq//SRR306/SRR306755/SRR306755_R1.fastq.gz -o SRR306755_GSM752611_mdo_ts_M_1_R1.fastq.gz']),\n       list(['curl -L ftp://ftp.sra.ebi.ac.uk/vol1/fastq//SRR306/SRR306756/SRR306756_R1.fastq.gz -o SRR306756_GSM752613_mdo_ts_M_2_R1.fastq.gz']),\n       list(['curl -L ftp://ftp.sra.ebi.ac.uk/vol1/fastq//SRR306/SRR306757/SRR306757_R1.fastq.gz -o SRR306757_GSM752614_mmu_br_F_1_R1.fastq.gz']),\n       list(['curl -L ftp://ftp.sra.ebi.ac.uk/vol1/fastq//SRR306/SRR306758/SRR306758_R1.fastq.gz -o SRR306758_GSM752615_mmu_br_M_1_R1.fastq.gz']),\n       list(['curl -L ftp://ftp.sra.ebi.ac.uk/vol1/fastq//SRR306/SRR306759/SRR306759_R1.fastq.gz -o SRR306759_GSM752615_mmu_br_M_1_R1.fastq.gz']),\n       list(['curl -L ftp://ftp.sra.ebi.ac.uk/vol1/fastq//SRR306/SRR306760/SRR306760_R1.fastq.gz -o SRR306760_GSM752615_mmu_br_M_1_R1.fastq.gz']),\n       list(['curl -L ftp://ftp.sra.ebi.ac.uk/vol1/fastq//SRR306/SRR306761/SRR306761_R1.fastq.gz -o SRR306761_GSM752615_mmu_br_M_1_R1.fastq.gz']),\n       list(['curl -L ftp://ftp.sra.ebi.ac.uk/vol1/fastq//SRR306/SRR306762/SRR306762_R1.fastq.gz -o SRR306762_GSM752616_mmu_br_M_2_R1.fastq.gz']),\n       list(['curl -L ftp://ftp.sra.ebi.ac.uk/vol1/fastq//SRR306/SRR306763/SRR306763_R1.fastq.gz -o SRR306763_GSM752617_mmu_cb_F_1_R1.fastq.gz']),\n       list(['curl -L ftp://ftp.sra.ebi.ac.uk/vol1/fastq//SRR306/SRR306764/SRR306764_R1.fastq.gz -o SRR306764_GSM752618_mmu_cb_M_1_R1.fastq.gz']),\n       list(['curl -L ftp://ftp.sra.ebi.ac.uk/vol1/fastq//SRR306/SRR306765/SRR306765_R1.fastq.gz -o SRR306765_GSM752619_mmu_cb_M_2_R1.fastq.gz']),\n       list(['curl -L ftp://ftp.sra.ebi.ac.uk/vol1/fastq//SRR306/SRR306766/SRR306766_R1.fastq.gz -o SRR306766_GSM752620_mmu_ht_F_1_R1.fastq.gz']),\n       list(['curl -L ftp://ftp.sra.ebi.ac.uk/vol1/fastq//SRR306/SRR306767/SRR306767_R1.fastq.gz -o SRR306767_GSM752621_mmu_ht_M_1_R1.fastq.gz']),\n       list(['curl -L ftp://ftp.sra.ebi.ac.uk/vol1/fastq//SRR306/SRR306768/SRR306768_R1.fastq.gz -o SRR306768_GSM752622_mmu_ht_M_2_R1.fastq.gz']),\n       list(['curl -L ftp://ftp.sra.ebi.ac.uk/vol1/fastq//SRR306/SRR306769/SRR306769_R1.fastq.gz -o SRR306769_GSM752623_mmu_kd_F_1_R1.fastq.gz']),\n       list(['curl -L ftp://ftp.sra.ebi.ac.uk/vol1/fastq//SRR306/SRR306770/SRR306770_R1.fastq.gz -o SRR306770_GSM752624_mmu_kd_M_1_R1.fastq.gz']),\n       list(['curl -L ftp://ftp.sra.ebi.ac.uk/vol1/fastq//SRR306/SRR306771/SRR306771_R1.fastq.gz -o SRR306771_GSM752625_mmu_kd_M_2_R1.fastq.gz']),\n       list(['curl -L ftp://ftp.sra.ebi.ac.uk/vol1/fastq//SRR306/SRR306772/SRR306772_R1.fastq.gz -o SRR306772_GSM752626_mmu_lv_F_1_R1.fastq.gz']),\n       list(['curl -L ftp://ftp.sra.ebi.ac.uk/vol1/fastq//SRR306/SRR306773/SRR306773_R1.fastq.gz -o SRR306773_GSM752627_mmu_lv_M_1_R1.fastq.gz']),\n       list(['curl -L ftp://ftp.sra.ebi.ac.uk/vol1/fastq//SRR306/SRR306774/SRR306774_R1.fastq.gz -o SRR306774_GSM752628_mmu_lv_M_2_R1.fastq.gz']),\n       list(['curl -L ftp://ftp.sra.ebi.ac.uk/vol1/fastq//SRR306/SRR306775/SRR306775_R1.fastq.gz -o SRR306775_GSM752629_mmu_ts_M_1_R1.fastq.gz']),\n       list(['curl -L ftp://ftp.sra.ebi.ac.uk/vol1/fastq//SRR306/SRR306776/SRR306776_R1.fastq.gz -o SRR306776_GSM752630_mmu_ts_M_2_R1.fastq.gz']),\n       list(['curl -L ftp://ftp.sra.ebi.ac.uk/vol1/fastq//SRR306/SRR306777/SRR306777_R1.fastq.gz -o SRR306777_GSM752631_mml_br_F_1_R1.fastq.gz']),\n       list(['curl -L ftp://ftp.sra.ebi.ac.uk/vol1/fastq//SRR306/SRR306778/SRR306778_R1.fastq.gz -o SRR306778_GSM752632_mml_br_M_1_R1.fastq.gz']),\n       list(['curl -L ftp://ftp.sra.ebi.ac.uk/vol1/fastq//SRR306/SRR306779/SRR306779_R1.fastq.gz -o SRR306779_GSM752633_mml_br_M_2_R1.fastq.gz', 'curl -L ftp://ftp.sra.ebi.ac.uk/vol1/fastq//SRR306/SRR306779/SRR306779_R2.fastq.gz -o SRR306779_GSM752633_mml_br_M_2_R2.fastq.gz']),\n       list(['curl -L ftp://ftp.sra.ebi.ac.uk/vol1/fastq//SRR306/SRR306780/SRR306780_R1.fastq.gz -o SRR306780_GSM752634_mml_cb_F_1_R1.fastq.gz']),\n       list(['curl -L ftp://ftp.sra.ebi.ac.uk/vol1/fastq//SRR306/SRR306781/SRR306781_R1.fastq.gz -o SRR306781_GSM752635_mml_cb_M_1_R1.fastq.gz']),\n       list(['curl -L ftp://ftp.sra.ebi.ac.uk/vol1/fastq//SRR306/SRR306782/SRR306782_R1.fastq.gz -o SRR306782_GSM752636_mml_ht_F_1_R1.fastq.gz']),\n       list(['curl -L ftp://ftp.sra.ebi.ac.uk/vol1/fastq//SRR306/SRR306783/SRR306783_R1.fastq.gz -o SRR306783_GSM752637_mml_ht_M_1_R1.fastq.gz']),\n       list(['curl -L ftp://ftp.sra.ebi.ac.uk/vol1/fastq//SRR306/SRR306784/SRR306784_R1.fastq.gz -o SRR306784_GSM752638_mml_kd_F_1_R1.fastq.gz']),\n       list(['curl -L ftp://ftp.sra.ebi.ac.uk/vol1/fastq//SRR306/SRR306785/SRR306785_R1.fastq.gz -o SRR306785_GSM752639_mml_kd_M_1_R1.fastq.gz']),\n       list(['curl -L ftp://ftp.sra.ebi.ac.uk/vol1/fastq//SRR306/SRR306786/SRR306786_R1.fastq.gz -o SRR306786_GSM752640_mml_lv_F_1_R1.fastq.gz']),\n       list(['curl -L ftp://ftp.sra.ebi.ac.uk/vol1/fastq//SRR306/SRR306787/SRR306787_R1.fastq.gz -o SRR306787_GSM752641_mml_lv_M_1_R1.fastq.gz']),\n       list(['curl -L ftp://ftp.sra.ebi.ac.uk/vol1/fastq//SRR306/SRR306788/SRR306788_R1.fastq.gz -o SRR306788_GSM752641_mml_lv_M_1_R1.fastq.gz']),\n       list(['curl -L ftp://ftp.sra.ebi.ac.uk/vol1/fastq//SRR306/SRR306789/SRR306789_R1.fastq.gz -o SRR306789_GSM752642_mml_ts_M_1_R1.fastq.gz']),\n       list(['curl -L ftp://ftp.sra.ebi.ac.uk/vol1/fastq//SRR306/SRR306790/SRR306790_R1.fastq.gz -o SRR306790_GSM752643_mml_ts_M_2_R1.fastq.gz']),\n       list(['curl -L ftp://ftp.sra.ebi.ac.uk/vol1/fastq//SRR306/SRR306791/SRR306791_R1.fastq.gz -o SRR306791_GSM752644_ppy_br_F_1_R1.fastq.gz']),\n       list(['curl -L ftp://ftp.sra.ebi.ac.uk/vol1/fastq//SRR306/SRR306792/SRR306792_R1.fastq.gz -o SRR306792_GSM752645_ppy_br_M_1_R1.fastq.gz', 'curl -L ftp://ftp.sra.ebi.ac.uk/vol1/fastq//SRR306/SRR306792/SRR306792_R2.fastq.gz -o SRR306792_GSM752645_ppy_br_M_1_R2.fastq.gz']),\n       list(['curl -L ftp://ftp.sra.ebi.ac.uk/vol1/fastq//SRR306/SRR306793/SRR306793_R1.fastq.gz -o SRR306793_GSM752646_ppy_cb_F_1_R1.fastq.gz']),\n       list(['curl -L ftp://ftp.sra.ebi.ac.uk/vol1/fastq//SRR306/SRR306794/SRR306794_R1.fastq.gz -o SRR306794_GSM752647_ppy_ht_F_1_R1.fastq.gz']),\n       list(['curl -L ftp://ftp.sra.ebi.ac.uk/vol1/fastq//SRR306/SRR306795/SRR306795_R1.fastq.gz -o SRR306795_GSM752648_ppy_ht_M_1_R1.fastq.gz']),\n       list(['curl -L ftp://ftp.sra.ebi.ac.uk/vol1/fastq//SRR306/SRR306796/SRR306796_R1.fastq.gz -o SRR306796_GSM752649_ppy_kd_F_1_R1.fastq.gz']),\n       list(['curl -L ftp://ftp.sra.ebi.ac.uk/vol1/fastq//SRR306/SRR306797/SRR306797_R1.fastq.gz -o SRR306797_GSM752650_ppy_kd_M_1_R1.fastq.gz']),\n       list(['curl -L ftp://ftp.sra.ebi.ac.uk/vol1/fastq//SRR306/SRR306798/SRR306798_R1.fastq.gz -o SRR306798_GSM752651_ppy_lv_F_1_R1.fastq.gz']),\n       list(['curl -L ftp://ftp.sra.ebi.ac.uk/vol1/fastq//SRR306/SRR306799/SRR306799_R1.fastq.gz -o SRR306799_GSM752652_ppy_lv_M_1_R1.fastq.gz']),\n       list(['curl -L ftp://ftp.sra.ebi.ac.uk/vol1/fastq//SRR306/SRR306800/SRR306800_R1.fastq.gz -o SRR306800_GSM752653_ggo_br_F_1_R1.fastq.gz']),\n       list(['curl -L ftp://ftp.sra.ebi.ac.uk/vol1/fastq//SRR306/SRR306801/SRR306801_R1.fastq.gz -o SRR306801_GSM752654_ggo_br_M_1_R1.fastq.gz', 'curl -L ftp://ftp.sra.ebi.ac.uk/vol1/fastq//SRR306/SRR306801/SRR306801_R2.fastq.gz -o SRR306801_GSM752654_ggo_br_M_1_R2.fastq.gz']),\n       list(['curl -L ftp://ftp.sra.ebi.ac.uk/vol1/fastq//SRR306/SRR306802/SRR306802_R1.fastq.gz -o SRR306802_GSM752655_ggo_cb_F_1_R1.fastq.gz']),\n       list(['curl -L ftp://ftp.sra.ebi.ac.uk/vol1/fastq//SRR306/SRR306803/SRR306803_R1.fastq.gz -o SRR306803_GSM752656_ggo_cb_M_1_R1.fastq.gz']),\n       list(['curl -L ftp://ftp.sra.ebi.ac.uk/vol1/fastq//SRR306/SRR306804/SRR306804_R1.fastq.gz -o SRR306804_GSM752657_ggo_ht_F_1_R1.fastq.gz']),\n       list(['curl -L ftp://ftp.sra.ebi.ac.uk/vol1/fastq//SRR306/SRR306805/SRR306805_R1.fastq.gz -o SRR306805_GSM752658_ggo_ht_M_1_R1.fastq.gz']),\n       list(['curl -L ftp://ftp.sra.ebi.ac.uk/vol1/fastq//SRR306/SRR306806/SRR306806_R1.fastq.gz -o SRR306806_GSM752659_ggo_kd_F_1_R1.fastq.gz']),\n       list(['curl -L ftp://ftp.sra.ebi.ac.uk/vol1/fastq//SRR306/SRR306808/SRR306808_R1.fastq.gz -o SRR306808_GSM752661_ggo_lv_F_1_R1.fastq.gz']),\n       list(['curl -L ftp://ftp.sra.ebi.ac.uk/vol1/fastq//SRR306/SRR306809/SRR306809_R1.fastq.gz -o SRR306809_GSM752662_ggo_lv_M_1_R1.fastq.gz']),\n       list(['curl -L ftp://ftp.sra.ebi.ac.uk/vol1/fastq//SRR306/SRR306810/SRR306810_R1.fastq.gz -o SRR306810_GSM752663_ggo_ts_M_1_R1.fastq.gz']),\n       list(['curl -L ftp://ftp.sra.ebi.ac.uk/vol1/fastq//SRR306/SRR306811/SRR306811_R1.fastq.gz -o SRR306811_GSM752664_ptr_br_F_1_R1.fastq.gz']),\n       list(['curl -L ftp://ftp.sra.ebi.ac.uk/vol1/fastq//SRR306/SRR306812/SRR306812_R1.fastq.gz -o SRR306812_GSM752665_ptr_br_M_1_R1.fastq.gz', 'curl -L ftp://ftp.sra.ebi.ac.uk/vol1/fastq//SRR306/SRR306812/SRR306812_R2.fastq.gz -o SRR306812_GSM752665_ptr_br_M_1_R2.fastq.gz']),\n       list(['curl -L ftp://ftp.sra.ebi.ac.uk/vol1/fastq//SRR306/SRR306813/SRR306813_R1.fastq.gz -o SRR306813_GSM752666_ptr_br_M_2_R1.fastq.gz', 'curl -L ftp://ftp.sra.ebi.ac.uk/vol1/fastq//SRR306/SRR306813/SRR306813_R2.fastq.gz -o SRR306813_GSM752666_ptr_br_M_2_R2.fastq.gz']),\n       list(['curl -L ftp://ftp.sra.ebi.ac.uk/vol1/fastq//SRR306/SRR306814/SRR306814_R1.fastq.gz -o SRR306814_GSM752667_ptr_br_M_3_R1.fastq.gz', 'curl -L ftp://ftp.sra.ebi.ac.uk/vol1/fastq//SRR306/SRR306814/SRR306814_R2.fastq.gz -o SRR306814_GSM752667_ptr_br_M_3_R2.fastq.gz']),\n       list(['curl -L ftp://ftp.sra.ebi.ac.uk/vol1/fastq//SRR306/SRR306815/SRR306815_R1.fastq.gz -o SRR306815_GSM752668_ptr_br_M_4_R1.fastq.gz', 'curl -L ftp://ftp.sra.ebi.ac.uk/vol1/fastq//SRR306/SRR306815/SRR306815_R2.fastq.gz -o SRR306815_GSM752668_ptr_br_M_4_R2.fastq.gz']),\n       list(['curl -L ftp://ftp.sra.ebi.ac.uk/vol1/fastq//SRR306/SRR306816/SRR306816_R1.fastq.gz -o SRR306816_GSM752669_ptr_br_M_5_R1.fastq.gz', 'curl -L ftp://ftp.sra.ebi.ac.uk/vol1/fastq//SRR306/SRR306816/SRR306816_R2.fastq.gz -o SRR306816_GSM752669_ptr_br_M_5_R2.fastq.gz']),\n       list(['curl -L ftp://ftp.sra.ebi.ac.uk/vol1/fastq//SRR306/SRR306817/SRR306817_R1.fastq.gz -o SRR306817_GSM752670_ptr_cb_F_1_R1.fastq.gz']),\n       list(['curl -L ftp://ftp.sra.ebi.ac.uk/vol1/fastq//SRR306/SRR306818/SRR306818_R1.fastq.gz -o SRR306818_GSM752671_ptr_cb_M_1_R1.fastq.gz']),\n       list(['curl -L ftp://ftp.sra.ebi.ac.uk/vol1/fastq//SRR306/SRR306819/SRR306819_R1.fastq.gz -o SRR306819_GSM752672_ptr_ht_F_1_R1.fastq.gz']),\n       list(['curl -L ftp://ftp.sra.ebi.ac.uk/vol1/fastq//SRR306/SRR306820/SRR306820_R1.fastq.gz -o SRR306820_GSM752673_ptr_ht_M_1_R1.fastq.gz']),\n       list(['curl -L ftp://ftp.sra.ebi.ac.uk/vol1/fastq//SRR306/SRR306821/SRR306821_R1.fastq.gz -o SRR306821_GSM752674_ptr_kd_F_1_R1.fastq.gz']),\n       list(['curl -L ftp://ftp.sra.ebi.ac.uk/vol1/fastq//SRR306/SRR306822/SRR306822_R1.fastq.gz -o SRR306822_GSM752675_ptr_kd_M_1_R1.fastq.gz']),\n       list(['curl -L ftp://ftp.sra.ebi.ac.uk/vol1/fastq//SRR306/SRR306823/SRR306823_R1.fastq.gz -o SRR306823_GSM752676_ptr_lv_F_1_R1.fastq.gz']),\n       list(['curl -L ftp://ftp.sra.ebi.ac.uk/vol1/fastq//SRR306/SRR306824/SRR306824_R1.fastq.gz -o SRR306824_GSM752677_ptr_lv_M_1_R1.fastq.gz']),\n       list(['curl -L ftp://ftp.sra.ebi.ac.uk/vol1/fastq//SRR306/SRR306825/SRR306825_R1.fastq.gz -o SRR306825_GSM752678_ptr_ts_M_1_R1.fastq.gz']),\n       list(['curl -L ftp://ftp.sra.ebi.ac.uk/vol1/fastq//SRR306/SRR306826/SRR306826_R1.fastq.gz -o SRR306826_GSM752679_ppa_br_F_1_R1.fastq.gz', 'curl -L ftp://ftp.sra.ebi.ac.uk/vol1/fastq//SRR306/SRR306826/SRR306826_R2.fastq.gz -o SRR306826_GSM752679_ppa_br_F_1_R2.fastq.gz']),\n       list(['curl -L ftp://ftp.sra.ebi.ac.uk/vol1/fastq//SRR306/SRR306827/SRR306827_R1.fastq.gz -o SRR306827_GSM752680_ppa_br_F_2_R1.fastq.gz']),\n       list(['curl -L ftp://ftp.sra.ebi.ac.uk/vol1/fastq//SRR306/SRR306828/SRR306828_R1.fastq.gz -o SRR306828_GSM752681_ppa_br_M_1_R1.fastq.gz']),\n       list(['curl -L ftp://ftp.sra.ebi.ac.uk/vol1/fastq//SRR306/SRR306829/SRR306829_R1.fastq.gz -o SRR306829_GSM752682_ppa_cb_F_1_R1.fastq.gz']),\n       list(['curl -L ftp://ftp.sra.ebi.ac.uk/vol1/fastq//SRR306/SRR306830/SRR306830_R1.fastq.gz -o SRR306830_GSM752683_ppa_cb_M_1_R1.fastq.gz']),\n       list(['curl -L ftp://ftp.sra.ebi.ac.uk/vol1/fastq//SRR306/SRR306831/SRR306831_R1.fastq.gz -o SRR306831_GSM752684_ppa_ht_F_1_R1.fastq.gz']),\n       list(['curl -L ftp://ftp.sra.ebi.ac.uk/vol1/fastq//SRR306/SRR306832/SRR306832_R1.fastq.gz -o SRR306832_GSM752685_ppa_ht_M_1_R1.fastq.gz']),\n       list(['curl -L ftp://ftp.sra.ebi.ac.uk/vol1/fastq//SRR306/SRR306833/SRR306833_R1.fastq.gz -o SRR306833_GSM752686_ppa_kd_F_1_R1.fastq.gz']),\n       list(['curl -L ftp://ftp.sra.ebi.ac.uk/vol1/fastq//SRR306/SRR306834/SRR306834_R1.fastq.gz -o SRR306834_GSM752687_ppa_kd_M_1_R1.fastq.gz']),\n       list(['curl -L ftp://ftp.sra.ebi.ac.uk/vol1/fastq//SRR306/SRR306835/SRR306835_R1.fastq.gz -o SRR306835_GSM752688_ppa_lv_F_1_R1.fastq.gz']),\n       list(['curl -L ftp://ftp.sra.ebi.ac.uk/vol1/fastq//SRR306/SRR306836/SRR306836_R1.fastq.gz -o SRR306836_GSM752689_ppa_lv_M_1_R1.fastq.gz']),\n       list(['curl -L ftp://ftp.sra.ebi.ac.uk/vol1/fastq//SRR306/SRR306837/SRR306837_R1.fastq.gz -o SRR306837_GSM752690_ppa_ts_M_1_R1.fastq.gz']),\n       list(['curl -L ftp://ftp.sra.ebi.ac.uk/vol1/fastq//SRR306/SRR306838/SRR306838_R1.fastq.gz -o SRR306838_GSM752691_hsa_br_F_1_R1.fastq.gz']),\n       list(['curl -L ftp://ftp.sra.ebi.ac.uk/vol1/fastq//SRR306/SRR306839/SRR306839_R1.fastq.gz -o SRR306839_GSM752692_hsa_br_M_3_R1.fastq.gz']),\n       list(['curl -L ftp://ftp.sra.ebi.ac.uk/vol1/fastq//SRR306/SRR306840/SRR306840_R1.fastq.gz -o SRR306840_GSM752693_hsa_br_M_1_R1.fastq.gz', 'curl -L ftp://ftp.sra.ebi.ac.uk/vol1/fastq//SRR306/SRR306840/SRR306840_R2.fastq.gz -o SRR306840_GSM752693_hsa_br_M_1_R2.fastq.gz']),\n       list(['curl -L ftp://ftp.sra.ebi.ac.uk/vol1/fastq//SRR306/SRR306841/SRR306841_R1.fastq.gz -o SRR306841_GSM752694_hsa_br_M_2_R1.fastq.gz']),\n       list(['curl -L ftp://ftp.sra.ebi.ac.uk/vol1/fastq//SRR306/SRR306842/SRR306842_R1.fastq.gz -o SRR306842_GSM752695_hsa_br_M_4_R1.fastq.gz', 'curl -L ftp://ftp.sra.ebi.ac.uk/vol1/fastq//SRR306/SRR306842/SRR306842_R2.fastq.gz -o SRR306842_GSM752695_hsa_br_M_4_R2.fastq.gz']),\n       list(['curl -L ftp://ftp.sra.ebi.ac.uk/vol1/fastq//SRR306/SRR306843/SRR306843_R1.fastq.gz -o SRR306843_GSM752696_hsa_br_M_5_R1.fastq.gz']),\n       list(['curl -L ftp://ftp.sra.ebi.ac.uk/vol1/fastq//SRR306/SRR306844/SRR306844_R1.fastq.gz -o SRR306844_GSM752697_hsa_cb_F_1_R1.fastq.gz']),\n       list(['curl -L ftp://ftp.sra.ebi.ac.uk/vol1/fastq//SRR306/SRR306845/SRR306845_R1.fastq.gz -o SRR306845_GSM752698_hsa_cb_M_1_R1.fastq.gz']),\n       list(['curl -L ftp://ftp.sra.ebi.ac.uk/vol1/fastq//SRR306/SRR306846/SRR306846_R1.fastq.gz -o SRR306846_GSM752698_hsa_cb_M_1_R1.fastq.gz']),\n       list(['curl -L ftp://ftp.sra.ebi.ac.uk/vol1/fastq//SRR306/SRR306847/SRR306847_R1.fastq.gz -o SRR306847_GSM752699_hsa_ht_F_1_R1.fastq.gz']),\n       list(['curl -L ftp://ftp.sra.ebi.ac.uk/vol1/fastq//SRR306/SRR306848/SRR306848_R1.fastq.gz -o SRR306848_GSM752700_hsa_ht_M_1_R1.fastq.gz']),\n       list(['curl -L ftp://ftp.sra.ebi.ac.uk/vol1/fastq//SRR306/SRR306849/SRR306849_R1.fastq.gz -o SRR306849_GSM752700_hsa_ht_M_1_R1.fastq.gz']),\n       list(['curl -L ftp://ftp.sra.ebi.ac.uk/vol1/fastq//SRR306/SRR306850/SRR306850_R1.fastq.gz -o SRR306850_GSM752701_hsa_ht_M_2_R1.fastq.gz']),\n       list(['curl -L ftp://ftp.sra.ebi.ac.uk/vol1/fastq//SRR306/SRR306851/SRR306851_R1.fastq.gz -o SRR306851_GSM752702_hsa_kd_F_1_R1.fastq.gz']),\n       list(['curl -L ftp://ftp.sra.ebi.ac.uk/vol1/fastq//SRR306/SRR306852/SRR306852_R1.fastq.gz -o SRR306852_GSM752703_hsa_kd_M_1_R1.fastq.gz']),\n       list(['curl -L ftp://ftp.sra.ebi.ac.uk/vol1/fastq//SRR306/SRR306853/SRR306853_R1.fastq.gz -o SRR306853_GSM752704_hsa_kd_M_2_R1.fastq.gz']),\n       list(['curl -L ftp://ftp.sra.ebi.ac.uk/vol1/fastq//SRR306/SRR306854/SRR306854_R1.fastq.gz -o SRR306854_GSM752705_hsa_lv_M_1_R1.fastq.gz']),\n       list(['curl -L ftp://ftp.sra.ebi.ac.uk/vol1/fastq//SRR306/SRR306855/SRR306855_R1.fastq.gz -o SRR306855_GSM752705_hsa_lv_M_1_R1.fastq.gz']),\n       list(['curl -L ftp://ftp.sra.ebi.ac.uk/vol1/fastq//SRR306/SRR306856/SRR306856_R1.fastq.gz -o SRR306856_GSM752706_hsa_lv_M_2_R1.fastq.gz']),\n       list(['curl -L ftp://ftp.sra.ebi.ac.uk/vol1/fastq//SRR306/SRR306857/SRR306857_R1.fastq.gz -o SRR306857_GSM752707_hsa_ts_M_1_R1.fastq.gz']),\n       list(['curl -L ftp://ftp.sra.ebi.ac.uk/vol1/fastq//SRR306/SRR306858/SRR306858_R1.fastq.gz -o SRR306858_GSM752708_hsa_ts_M_2_R1.fastq.gz']),\n       list(['curl -L ftp://ftp.sra.ebi.ac.uk/vol1/fastq//SRR306/SRR306807/SRR306807_R1.fastq.gz -o SRR306807_GSM752660_ggo_kd_M_1_R1.fastq.gz']),\n       list(['curl -L ftp://ftp.sra.ebi.ac.uk/vol1/fastq//SRR306/SRR306740/SRR306740_R1.fastq.gz -o SRR306740_GSM752585_oan_ts_M_2_R1.fastq.gz'])],\n      dtype=object)"
       },
       "execution_count": 28,
       "metadata": {},
       "output_type": "execute_result"
      }
     ],
     "persistentId": "14bce4c0-4b3b-49fc-9039-a1b84e9f0776",
     "text": "def srr_to_url(srr_run, is_paired, url_base='ftp://ftp.sra.ebi.ac.uk/vol1/fastq/'):\n    suffix = f'{srr_run[:6]}/{srr_run}'\n    if is_paired:\n        read1 = f\"{url_base}/{suffix}/{srr_run}_R1.fastq.gz\"\n        read2 = f\"{url_base}/{suffix}/{srr_run}_R2.fastq.gz\"\n        reads = (read1, read2)\n    else:\n        read1 = f\"{url_base}/{suffix}/{srr_run}_R1.fastq.gz\"\n        reads = (read1,)\n    return reads\n\ndef get_curl_commands(row):\n    template = 'curl -L {url} -o {destination}'\n    is_paired = row['LibraryLayout'] == 'PAIRED'\n    \n    read_urls = srr_to_url(row['Run'], is_paired)\n    commands = []\n    for i, url in enumerate(read_urls):\n        destination = row['Run'] + '_' + row['sanitized_name'] + f\"_R{i+1}.fastq.gz\"\n        commands.append(template.format(url=url, destination=destination))\n    return commands\n\nsra_run_table.apply(get_curl_commands, axis=1).values"
    },
    "executionTime": "2019-11-05T15:55:46.193Z"
   },
   {
    "cell": {
     "executionCount": 29,
     "executionEventId": "cb3da1d7-56b7-4b89-ac60-8fa9daadba33",
     "hasError": false,
     "id": "56c2cb05-dc27-40b1-ba7f-48715309999b",
     "outputs": [
      {
       "name": "stdout",
       "output_type": "stream",
       "text": "(149, 32)\n"
      },
      {
       "data": {
        "text/html": "<div>\n<style scoped>\n    .dataframe tbody tr th:only-of-type {\n        vertical-align: middle;\n    }\n\n    .dataframe tbody tr th {\n        vertical-align: top;\n    }\n\n    .dataframe thead th {\n        text-align: right;\n    }\n</style>\n<table border=\"1\" class=\"dataframe\">\n  <thead>\n    <tr style=\"text-align: right;\">\n      <th></th>\n      <th>Run</th>\n      <th>Assay Type</th>\n      <th>AvgSpotLen</th>\n      <th>BioProject</th>\n      <th>BioSample</th>\n      <th>Center Name</th>\n      <th>Consent</th>\n      <th>DATASTORE filetype</th>\n      <th>DATASTORE provider</th>\n      <th>DATASTORE region</th>\n      <th>Experiment</th>\n      <th>GEO_Accession</th>\n      <th>Instrument</th>\n      <th>Library Name</th>\n      <th>LibraryLayout</th>\n      <th>LibrarySelection</th>\n      <th>LibrarySource</th>\n      <th>MBases</th>\n      <th>MBytes</th>\n      <th>Organism</th>\n      <th>Platform</th>\n      <th>ReleaseDate</th>\n      <th>sample_acc</th>\n      <th>Sample Name</th>\n      <th>source_name</th>\n      <th>SRA Study</th>\n      <th>tissue_source</th>\n      <th>gender</th>\n      <th>rin</th>\n      <th>Age</th>\n      <th>Extraction</th>\n      <th>sex</th>\n    </tr>\n  </thead>\n  <tbody>\n    <tr>\n      <th>0</th>\n      <td>SRR306710</td>\n      <td>RNA-Seq</td>\n      <td>76</td>\n      <td>PRJNA143627</td>\n      <td>SAMN00632119</td>\n      <td>GEO</td>\n      <td>public</td>\n      <td>sra</td>\n      <td>gs,ncbi,s3</td>\n      <td>gs.US,ncbi.public,s3.us-east-1</td>\n      <td>SRX081869</td>\n      <td>GSM752557</td>\n      <td>Illumina Genome Analyzer IIx</td>\n      <td>GSM752557: gga br F 1</td>\n      <td>SINGLE</td>\n      <td>cDNA</td>\n      <td>TRANSCRIPTOMIC</td>\n      <td>1480</td>\n      <td>1134</td>\n      <td>Gallus gallus</td>\n      <td>ILLUMINA</td>\n      <td>2011-10-14T00:00:00Z</td>\n      <td>SRS213961</td>\n      <td>GSM752557</td>\n      <td>Brain</td>\n      <td>SRP007412</td>\n      <td>Facility of Linkoping University, Sweden</td>\n      <td>female</td>\n      <td>9.4</td>\n      <td>~1 year\\, adult</td>\n      <td>Rneasy Lipid</td>\n      <td>NaN</td>\n    </tr>\n    <tr>\n      <th>1</th>\n      <td>SRR306711</td>\n      <td>RNA-Seq</td>\n      <td>76</td>\n      <td>PRJNA143627</td>\n      <td>SAMN00632120</td>\n      <td>GEO</td>\n      <td>public</td>\n      <td>sra</td>\n      <td>gs,ncbi,s3</td>\n      <td>gs.US,ncbi.public,s3.us-east-1</td>\n      <td>SRX081870</td>\n      <td>GSM752558</td>\n      <td>Illumina Genome Analyzer IIx</td>\n      <td>GSM752558: gga br M 1</td>\n      <td>SINGLE</td>\n      <td>cDNA</td>\n      <td>TRANSCRIPTOMIC</td>\n      <td>1334</td>\n      <td>990</td>\n      <td>Gallus gallus</td>\n      <td>ILLUMINA</td>\n      <td>2011-10-14T00:00:00Z</td>\n      <td>SRS213962</td>\n      <td>GSM752558</td>\n      <td>Brain</td>\n      <td>SRP007412</td>\n      <td>Facility of Linkoping University, Sweden</td>\n      <td>male</td>\n      <td>9.1</td>\n      <td>~1 year\\, adult</td>\n      <td>Standard</td>\n      <td>NaN</td>\n    </tr>\n    <tr>\n      <th>2</th>\n      <td>SRR306712</td>\n      <td>RNA-Seq</td>\n      <td>76</td>\n      <td>PRJNA143627</td>\n      <td>SAMN00632121</td>\n      <td>GEO</td>\n      <td>public</td>\n      <td>sra</td>\n      <td>gs,ncbi,s3</td>\n      <td>gs.US,ncbi.public,s3.us-east-1</td>\n      <td>SRX081871</td>\n      <td>GSM752559</td>\n      <td>Illumina Genome Analyzer IIx</td>\n      <td>GSM752559: gga cb F 1</td>\n      <td>SINGLE</td>\n      <td>cDNA</td>\n      <td>TRANSCRIPTOMIC</td>\n      <td>1795</td>\n      <td>1339</td>\n      <td>Gallus gallus</td>\n      <td>ILLUMINA</td>\n      <td>2011-10-14T00:00:00Z</td>\n      <td>SRS213963</td>\n      <td>GSM752559</td>\n      <td>Cerebellum</td>\n      <td>SRP007412</td>\n      <td>Facility of Linkoping University, Sweden</td>\n      <td>female</td>\n      <td>9.6</td>\n      <td>~1 year\\, adult</td>\n      <td>Standard</td>\n      <td>NaN</td>\n    </tr>\n    <tr>\n      <th>3</th>\n      <td>SRR306713</td>\n      <td>RNA-Seq</td>\n      <td>76</td>\n      <td>PRJNA143627</td>\n      <td>SAMN00632122</td>\n      <td>GEO</td>\n      <td>public</td>\n      <td>sra</td>\n      <td>gs,ncbi,s3</td>\n      <td>gs.US,ncbi.public,s3.us-east-1</td>\n      <td>SRX081872</td>\n      <td>GSM752560</td>\n      <td>Illumina Genome Analyzer IIx</td>\n      <td>GSM752560: gga cb M 1</td>\n      <td>SINGLE</td>\n      <td>cDNA</td>\n      <td>TRANSCRIPTOMIC</td>\n      <td>1670</td>\n      <td>1282</td>\n      <td>Gallus gallus</td>\n      <td>ILLUMINA</td>\n      <td>2011-10-14T00:00:00Z</td>\n      <td>SRS213964</td>\n      <td>GSM752560</td>\n      <td>Cerebellum</td>\n      <td>SRP007412</td>\n      <td>Facility of Linkoping University, Sweden</td>\n      <td>male</td>\n      <td>9.2</td>\n      <td>~1 year\\, adult</td>\n      <td>Rneasy Lipid</td>\n      <td>NaN</td>\n    </tr>\n    <tr>\n      <th>4</th>\n      <td>SRR306714</td>\n      <td>RNA-Seq</td>\n      <td>76</td>\n      <td>PRJNA143627</td>\n      <td>SAMN00632123</td>\n      <td>GEO</td>\n      <td>public</td>\n      <td>sra</td>\n      <td>gs,ncbi,s3</td>\n      <td>gs.US,ncbi.public,s3.us-east-1</td>\n      <td>SRX081873</td>\n      <td>GSM752561</td>\n      <td>Illumina Genome Analyzer IIx</td>\n      <td>GSM752561: gga ht F 1</td>\n      <td>SINGLE</td>\n      <td>cDNA</td>\n      <td>TRANSCRIPTOMIC</td>\n      <td>1748</td>\n      <td>1302</td>\n      <td>Gallus gallus</td>\n      <td>ILLUMINA</td>\n      <td>2011-10-14T00:00:00Z</td>\n      <td>SRS213965</td>\n      <td>GSM752561</td>\n      <td>Heart</td>\n      <td>SRP007412</td>\n      <td>Facility of Linkoping University, Sweden</td>\n      <td>female</td>\n      <td>9.0</td>\n      <td>~1 year\\, adult</td>\n      <td>Standard</td>\n      <td>NaN</td>\n    </tr>\n  </tbody>\n</table>\n</div>",
        "text/plain": "         Run Assay Type  AvgSpotLen   BioProject     BioSample Center Name  \\\n0  SRR306710    RNA-Seq          76  PRJNA143627  SAMN00632119         GEO   \n1  SRR306711    RNA-Seq          76  PRJNA143627  SAMN00632120         GEO   \n2  SRR306712    RNA-Seq          76  PRJNA143627  SAMN00632121         GEO   \n3  SRR306713    RNA-Seq          76  PRJNA143627  SAMN00632122         GEO   \n4  SRR306714    RNA-Seq          76  PRJNA143627  SAMN00632123         GEO   \n\n  Consent DATASTORE filetype DATASTORE provider  \\\n0  public                sra         gs,ncbi,s3   \n1  public                sra         gs,ncbi,s3   \n2  public                sra         gs,ncbi,s3   \n3  public                sra         gs,ncbi,s3   \n4  public                sra         gs,ncbi,s3   \n\n                 DATASTORE region Experiment GEO_Accession  \\\n0  gs.US,ncbi.public,s3.us-east-1  SRX081869     GSM752557   \n1  gs.US,ncbi.public,s3.us-east-1  SRX081870     GSM752558   \n2  gs.US,ncbi.public,s3.us-east-1  SRX081871     GSM752559   \n3  gs.US,ncbi.public,s3.us-east-1  SRX081872     GSM752560   \n4  gs.US,ncbi.public,s3.us-east-1  SRX081873     GSM752561   \n\n                     Instrument           Library Name LibraryLayout  \\\n0  Illumina Genome Analyzer IIx  GSM752557: gga br F 1        SINGLE   \n1  Illumina Genome Analyzer IIx  GSM752558: gga br M 1        SINGLE   \n2  Illumina Genome Analyzer IIx  GSM752559: gga cb F 1        SINGLE   \n3  Illumina Genome Analyzer IIx  GSM752560: gga cb M 1        SINGLE   \n4  Illumina Genome Analyzer IIx  GSM752561: gga ht F 1        SINGLE   \n\n  LibrarySelection   LibrarySource  MBases  MBytes       Organism  Platform  \\\n0             cDNA  TRANSCRIPTOMIC    1480    1134  Gallus gallus  ILLUMINA   \n1             cDNA  TRANSCRIPTOMIC    1334     990  Gallus gallus  ILLUMINA   \n2             cDNA  TRANSCRIPTOMIC    1795    1339  Gallus gallus  ILLUMINA   \n3             cDNA  TRANSCRIPTOMIC    1670    1282  Gallus gallus  ILLUMINA   \n4             cDNA  TRANSCRIPTOMIC    1748    1302  Gallus gallus  ILLUMINA   \n\n            ReleaseDate sample_acc Sample Name source_name  SRA Study  \\\n0  2011-10-14T00:00:00Z  SRS213961   GSM752557       Brain  SRP007412   \n1  2011-10-14T00:00:00Z  SRS213962   GSM752558       Brain  SRP007412   \n2  2011-10-14T00:00:00Z  SRS213963   GSM752559  Cerebellum  SRP007412   \n3  2011-10-14T00:00:00Z  SRS213964   GSM752560  Cerebellum  SRP007412   \n4  2011-10-14T00:00:00Z  SRS213965   GSM752561       Heart  SRP007412   \n\n                              tissue_source  gender  rin              Age  \\\n0  Facility of Linkoping University, Sweden  female  9.4  ~1 year\\, adult   \n1  Facility of Linkoping University, Sweden    male  9.1  ~1 year\\, adult   \n2  Facility of Linkoping University, Sweden  female  9.6  ~1 year\\, adult   \n3  Facility of Linkoping University, Sweden    male  9.2  ~1 year\\, adult   \n4  Facility of Linkoping University, Sweden  female  9.0  ~1 year\\, adult   \n\n     Extraction  sex  \n0  Rneasy Lipid  NaN  \n1      Standard  NaN  \n2      Standard  NaN  \n3  Rneasy Lipid  NaN  \n4      Standard  NaN  "
       },
       "execution_count": 29,
       "metadata": {},
       "output_type": "execute_result"
      }
     ],
     "persistentId": "1ad7974f-d8a9-4014-acfb-37350e9498e9",
     "text": "import itertools\n\nimport pandas as pd\npd.options.display.max_columns = 50\n\nsra_run_table = pd.read_csv(\"../metadata/brawand2011_sra_run_table.csv\")\nprint(sra_run_table.shape)\nsra_run_table.head()"
    },
    "executionTime": "2019-11-05T15:56:01.396Z"
   },
   {
    "cell": {
     "executionCount": 30,
     "executionEventId": "4937f68f-54a9-4fd3-b7a6-beb90afe8fb6",
     "hasError": true,
     "id": "d907b1f4-f356-4b3b-8751-2748813d2d19",
     "outputs": [
      {
       "ename": "AttributeError",
       "evalue": "module 'itertools' has no attribute 'chain_from_iterable'",
       "output_type": "error",
       "traceback": [
        "\u001b[0;31m---------------------------------------------------------------------------\u001b[0m",
        "\u001b[0;31mAttributeError\u001b[0m                            Traceback (most recent call last)",
        "\u001b[0;32m<ipython-input-30-65fa1cbea2ff>\u001b[0m in \u001b[0;36m<module>\u001b[0;34m()\u001b[0m\n\u001b[1;32m     21\u001b[0m     \u001b[0;32mreturn\u001b[0m \u001b[0mcommands\u001b[0m\u001b[0;34m\u001b[0m\u001b[0;34m\u001b[0m\u001b[0m\n\u001b[1;32m     22\u001b[0m \u001b[0;34m\u001b[0m\u001b[0m\n\u001b[0;32m---> 23\u001b[0;31m \u001b[0mcommands\u001b[0m \u001b[0;34m=\u001b[0m \u001b[0mlist\u001b[0m\u001b[0;34m(\u001b[0m\u001b[0mitertools\u001b[0m\u001b[0;34m.\u001b[0m\u001b[0mchain_from_iterable\u001b[0m\u001b[0;34m(\u001b[0m\u001b[0msra_run_table\u001b[0m\u001b[0;34m.\u001b[0m\u001b[0mapply\u001b[0m\u001b[0;34m(\u001b[0m\u001b[0mget_curl_commands\u001b[0m\u001b[0;34m,\u001b[0m \u001b[0maxis\u001b[0m\u001b[0;34m=\u001b[0m\u001b[0;36m1\u001b[0m\u001b[0;34m)\u001b[0m\u001b[0;34m.\u001b[0m\u001b[0mvalues\u001b[0m\u001b[0;34m)\u001b[0m\u001b[0;34m)\u001b[0m\u001b[0;34m\u001b[0m\u001b[0;34m\u001b[0m\u001b[0m\n\u001b[0m\u001b[1;32m     24\u001b[0m \u001b[0mcommands\u001b[0m\u001b[0;34m\u001b[0m\u001b[0;34m\u001b[0m\u001b[0m\n",
        "\u001b[0;31mAttributeError\u001b[0m: module 'itertools' has no attribute 'chain_from_iterable'"
       ]
      }
     ],
     "persistentId": "14bce4c0-4b3b-49fc-9039-a1b84e9f0776",
     "text": "def srr_to_url(srr_run, is_paired, url_base='ftp://ftp.sra.ebi.ac.uk/vol1/fastq/'):\n    suffix = f'{srr_run[:6]}/{srr_run}'\n    if is_paired:\n        read1 = f\"{url_base}/{suffix}/{srr_run}_R1.fastq.gz\"\n        read2 = f\"{url_base}/{suffix}/{srr_run}_R2.fastq.gz\"\n        reads = (read1, read2)\n    else:\n        read1 = f\"{url_base}/{suffix}/{srr_run}_R1.fastq.gz\"\n        reads = (read1,)\n    return reads\n\ndef get_curl_commands(row):\n    template = 'curl -L {url} -o {destination}'\n    is_paired = row['LibraryLayout'] == 'PAIRED'\n    \n    read_urls = srr_to_url(row['Run'], is_paired)\n    commands = []\n    for i, url in enumerate(read_urls):\n        destination = row['Run'] + '_' + row['sanitized_name'] + f\"_R{i+1}.fastq.gz\"\n        commands.append(template.format(url=url, destination=destination))\n    return commands\n\ncommands = list(itertools.chain_from_iterable(sra_run_table.apply(get_curl_commands, axis=1).values))\ncommands"
    },
    "executionTime": "2019-11-05T15:56:30.374Z"
   },
   {
    "cell": {
     "executionCount": 31,
     "executionEventId": "981e39a0-a72a-4fd6-aa9b-522c591b5351",
     "hasError": true,
     "id": "d907b1f4-f356-4b3b-8751-2748813d2d19",
     "outputs": [
      {
       "ename": "KeyError",
       "evalue": "('sanitized_name', 'occurred at index 0')",
       "output_type": "error",
       "traceback": [
        "\u001b[0;31m---------------------------------------------------------------------------\u001b[0m",
        "\u001b[0;31mTypeError\u001b[0m                                 Traceback (most recent call last)",
        "\u001b[0;32m~/miniconda3/envs/kmer-hashing/lib/python3.6/site-packages/pandas/core/indexes/base.py\u001b[0m in \u001b[0;36mget_value\u001b[0;34m(self, series, key)\u001b[0m\n\u001b[1;32m   4380\u001b[0m             \u001b[0;32mtry\u001b[0m\u001b[0;34m:\u001b[0m\u001b[0;34m\u001b[0m\u001b[0;34m\u001b[0m\u001b[0m\n\u001b[0;32m-> 4381\u001b[0;31m                 \u001b[0;32mreturn\u001b[0m \u001b[0mlibindex\u001b[0m\u001b[0;34m.\u001b[0m\u001b[0mget_value_box\u001b[0m\u001b[0;34m(\u001b[0m\u001b[0ms\u001b[0m\u001b[0;34m,\u001b[0m \u001b[0mkey\u001b[0m\u001b[0;34m)\u001b[0m\u001b[0;34m\u001b[0m\u001b[0;34m\u001b[0m\u001b[0m\n\u001b[0m\u001b[1;32m   4382\u001b[0m             \u001b[0;32mexcept\u001b[0m \u001b[0mIndexError\u001b[0m\u001b[0;34m:\u001b[0m\u001b[0;34m\u001b[0m\u001b[0;34m\u001b[0m\u001b[0m\n",
        "\u001b[0;32mpandas/_libs/index.pyx\u001b[0m in \u001b[0;36mpandas._libs.index.get_value_box\u001b[0;34m()\u001b[0m\n",
        "\u001b[0;32mpandas/_libs/index.pyx\u001b[0m in \u001b[0;36mpandas._libs.index.get_value_at\u001b[0;34m()\u001b[0m\n",
        "\u001b[0;32mpandas/_libs/util.pxd\u001b[0m in \u001b[0;36mpandas._libs.util.get_value_at\u001b[0;34m()\u001b[0m\n",
        "\u001b[0;32mpandas/_libs/util.pxd\u001b[0m in \u001b[0;36mpandas._libs.util.validate_indexer\u001b[0;34m()\u001b[0m\n",
        "\u001b[0;31mTypeError\u001b[0m: 'str' object cannot be interpreted as an integer",
        "\nDuring handling of the above exception, another exception occurred:\n",
        "\u001b[0;31mKeyError\u001b[0m                                  Traceback (most recent call last)",
        "\u001b[0;32m<ipython-input-31-4d069a9c45e9>\u001b[0m in \u001b[0;36m<module>\u001b[0;34m()\u001b[0m\n\u001b[1;32m     21\u001b[0m     \u001b[0;32mreturn\u001b[0m \u001b[0mcommands\u001b[0m\u001b[0;34m\u001b[0m\u001b[0;34m\u001b[0m\u001b[0m\n\u001b[1;32m     22\u001b[0m \u001b[0;34m\u001b[0m\u001b[0m\n\u001b[0;32m---> 23\u001b[0;31m \u001b[0mcommands\u001b[0m \u001b[0;34m=\u001b[0m \u001b[0mlist\u001b[0m\u001b[0;34m(\u001b[0m\u001b[0mitertools\u001b[0m\u001b[0;34m.\u001b[0m\u001b[0mchain\u001b[0m\u001b[0;34m(\u001b[0m\u001b[0;34m*\u001b[0m\u001b[0msra_run_table\u001b[0m\u001b[0;34m.\u001b[0m\u001b[0mapply\u001b[0m\u001b[0;34m(\u001b[0m\u001b[0mget_curl_commands\u001b[0m\u001b[0;34m,\u001b[0m \u001b[0maxis\u001b[0m\u001b[0;34m=\u001b[0m\u001b[0;36m1\u001b[0m\u001b[0;34m)\u001b[0m\u001b[0;34m.\u001b[0m\u001b[0mvalues\u001b[0m\u001b[0;34m)\u001b[0m\u001b[0;34m)\u001b[0m\u001b[0;34m\u001b[0m\u001b[0;34m\u001b[0m\u001b[0m\n\u001b[0m\u001b[1;32m     24\u001b[0m \u001b[0mcommands\u001b[0m\u001b[0;34m\u001b[0m\u001b[0;34m\u001b[0m\u001b[0m\n",
        "\u001b[0;32m~/miniconda3/envs/kmer-hashing/lib/python3.6/site-packages/pandas/core/frame.py\u001b[0m in \u001b[0;36mapply\u001b[0;34m(self, func, axis, broadcast, raw, reduce, result_type, args, **kwds)\u001b[0m\n\u001b[1;32m   6485\u001b[0m                          \u001b[0margs\u001b[0m\u001b[0;34m=\u001b[0m\u001b[0margs\u001b[0m\u001b[0;34m,\u001b[0m\u001b[0;34m\u001b[0m\u001b[0;34m\u001b[0m\u001b[0m\n\u001b[1;32m   6486\u001b[0m                          kwds=kwds)\n\u001b[0;32m-> 6487\u001b[0;31m         \u001b[0;32mreturn\u001b[0m \u001b[0mop\u001b[0m\u001b[0;34m.\u001b[0m\u001b[0mget_result\u001b[0m\u001b[0;34m(\u001b[0m\u001b[0;34m)\u001b[0m\u001b[0;34m\u001b[0m\u001b[0;34m\u001b[0m\u001b[0m\n\u001b[0m\u001b[1;32m   6488\u001b[0m \u001b[0;34m\u001b[0m\u001b[0m\n\u001b[1;32m   6489\u001b[0m     \u001b[0;32mdef\u001b[0m \u001b[0mapplymap\u001b[0m\u001b[0;34m(\u001b[0m\u001b[0mself\u001b[0m\u001b[0;34m,\u001b[0m \u001b[0mfunc\u001b[0m\u001b[0;34m)\u001b[0m\u001b[0;34m:\u001b[0m\u001b[0;34m\u001b[0m\u001b[0;34m\u001b[0m\u001b[0m\n",
        "\u001b[0;32m~/miniconda3/envs/kmer-hashing/lib/python3.6/site-packages/pandas/core/apply.py\u001b[0m in \u001b[0;36mget_result\u001b[0;34m(self)\u001b[0m\n\u001b[1;32m    149\u001b[0m             \u001b[0;32mreturn\u001b[0m \u001b[0mself\u001b[0m\u001b[0;34m.\u001b[0m\u001b[0mapply_raw\u001b[0m\u001b[0;34m(\u001b[0m\u001b[0;34m)\u001b[0m\u001b[0;34m\u001b[0m\u001b[0;34m\u001b[0m\u001b[0m\n\u001b[1;32m    150\u001b[0m \u001b[0;34m\u001b[0m\u001b[0m\n\u001b[0;32m--> 151\u001b[0;31m         \u001b[0;32mreturn\u001b[0m \u001b[0mself\u001b[0m\u001b[0;34m.\u001b[0m\u001b[0mapply_standard\u001b[0m\u001b[0;34m(\u001b[0m\u001b[0;34m)\u001b[0m\u001b[0;34m\u001b[0m\u001b[0;34m\u001b[0m\u001b[0m\n\u001b[0m\u001b[1;32m    152\u001b[0m \u001b[0;34m\u001b[0m\u001b[0m\n\u001b[1;32m    153\u001b[0m     \u001b[0;32mdef\u001b[0m \u001b[0mapply_empty_result\u001b[0m\u001b[0;34m(\u001b[0m\u001b[0mself\u001b[0m\u001b[0;34m)\u001b[0m\u001b[0;34m:\u001b[0m\u001b[0;34m\u001b[0m\u001b[0;34m\u001b[0m\u001b[0m\n",
        "\u001b[0;32m~/miniconda3/envs/kmer-hashing/lib/python3.6/site-packages/pandas/core/apply.py\u001b[0m in \u001b[0;36mapply_standard\u001b[0;34m(self)\u001b[0m\n\u001b[1;32m    255\u001b[0m \u001b[0;34m\u001b[0m\u001b[0m\n\u001b[1;32m    256\u001b[0m         \u001b[0;31m# compute the result using the series generator\u001b[0m\u001b[0;34m\u001b[0m\u001b[0;34m\u001b[0m\u001b[0;34m\u001b[0m\u001b[0m\n\u001b[0;32m--> 257\u001b[0;31m         \u001b[0mself\u001b[0m\u001b[0;34m.\u001b[0m\u001b[0mapply_series_generator\u001b[0m\u001b[0;34m(\u001b[0m\u001b[0;34m)\u001b[0m\u001b[0;34m\u001b[0m\u001b[0;34m\u001b[0m\u001b[0m\n\u001b[0m\u001b[1;32m    258\u001b[0m \u001b[0;34m\u001b[0m\u001b[0m\n\u001b[1;32m    259\u001b[0m         \u001b[0;31m# wrap results\u001b[0m\u001b[0;34m\u001b[0m\u001b[0;34m\u001b[0m\u001b[0;34m\u001b[0m\u001b[0m\n",
        "\u001b[0;32m~/miniconda3/envs/kmer-hashing/lib/python3.6/site-packages/pandas/core/apply.py\u001b[0m in \u001b[0;36mapply_series_generator\u001b[0;34m(self)\u001b[0m\n\u001b[1;32m    284\u001b[0m             \u001b[0;32mtry\u001b[0m\u001b[0;34m:\u001b[0m\u001b[0;34m\u001b[0m\u001b[0;34m\u001b[0m\u001b[0m\n\u001b[1;32m    285\u001b[0m                 \u001b[0;32mfor\u001b[0m \u001b[0mi\u001b[0m\u001b[0;34m,\u001b[0m \u001b[0mv\u001b[0m \u001b[0;32min\u001b[0m \u001b[0menumerate\u001b[0m\u001b[0;34m(\u001b[0m\u001b[0mseries_gen\u001b[0m\u001b[0;34m)\u001b[0m\u001b[0;34m:\u001b[0m\u001b[0;34m\u001b[0m\u001b[0;34m\u001b[0m\u001b[0m\n\u001b[0;32m--> 286\u001b[0;31m                     \u001b[0mresults\u001b[0m\u001b[0;34m[\u001b[0m\u001b[0mi\u001b[0m\u001b[0;34m]\u001b[0m \u001b[0;34m=\u001b[0m \u001b[0mself\u001b[0m\u001b[0;34m.\u001b[0m\u001b[0mf\u001b[0m\u001b[0;34m(\u001b[0m\u001b[0mv\u001b[0m\u001b[0;34m)\u001b[0m\u001b[0;34m\u001b[0m\u001b[0;34m\u001b[0m\u001b[0m\n\u001b[0m\u001b[1;32m    287\u001b[0m                     \u001b[0mkeys\u001b[0m\u001b[0;34m.\u001b[0m\u001b[0mappend\u001b[0m\u001b[0;34m(\u001b[0m\u001b[0mv\u001b[0m\u001b[0;34m.\u001b[0m\u001b[0mname\u001b[0m\u001b[0;34m)\u001b[0m\u001b[0;34m\u001b[0m\u001b[0;34m\u001b[0m\u001b[0m\n\u001b[1;32m    288\u001b[0m             \u001b[0;32mexcept\u001b[0m \u001b[0mException\u001b[0m \u001b[0;32mas\u001b[0m \u001b[0me\u001b[0m\u001b[0;34m:\u001b[0m\u001b[0;34m\u001b[0m\u001b[0;34m\u001b[0m\u001b[0m\n",
        "\u001b[0;32m<ipython-input-31-4d069a9c45e9>\u001b[0m in \u001b[0;36mget_curl_commands\u001b[0;34m(row)\u001b[0m\n\u001b[1;32m     17\u001b[0m     \u001b[0mcommands\u001b[0m \u001b[0;34m=\u001b[0m \u001b[0;34m[\u001b[0m\u001b[0;34m]\u001b[0m\u001b[0;34m\u001b[0m\u001b[0;34m\u001b[0m\u001b[0m\n\u001b[1;32m     18\u001b[0m     \u001b[0;32mfor\u001b[0m \u001b[0mi\u001b[0m\u001b[0;34m,\u001b[0m \u001b[0murl\u001b[0m \u001b[0;32min\u001b[0m \u001b[0menumerate\u001b[0m\u001b[0;34m(\u001b[0m\u001b[0mread_urls\u001b[0m\u001b[0;34m)\u001b[0m\u001b[0;34m:\u001b[0m\u001b[0;34m\u001b[0m\u001b[0;34m\u001b[0m\u001b[0m\n\u001b[0;32m---> 19\u001b[0;31m         \u001b[0mdestination\u001b[0m \u001b[0;34m=\u001b[0m \u001b[0mrow\u001b[0m\u001b[0;34m[\u001b[0m\u001b[0;34m'Run'\u001b[0m\u001b[0;34m]\u001b[0m \u001b[0;34m+\u001b[0m \u001b[0;34m'_'\u001b[0m \u001b[0;34m+\u001b[0m \u001b[0mrow\u001b[0m\u001b[0;34m[\u001b[0m\u001b[0;34m'sanitized_name'\u001b[0m\u001b[0;34m]\u001b[0m \u001b[0;34m+\u001b[0m \u001b[0;34mf\"_R{i+1}.fastq.gz\"\u001b[0m\u001b[0;34m\u001b[0m\u001b[0;34m\u001b[0m\u001b[0m\n\u001b[0m\u001b[1;32m     20\u001b[0m         \u001b[0mcommands\u001b[0m\u001b[0;34m.\u001b[0m\u001b[0mappend\u001b[0m\u001b[0;34m(\u001b[0m\u001b[0mtemplate\u001b[0m\u001b[0;34m.\u001b[0m\u001b[0mformat\u001b[0m\u001b[0;34m(\u001b[0m\u001b[0murl\u001b[0m\u001b[0;34m=\u001b[0m\u001b[0murl\u001b[0m\u001b[0;34m,\u001b[0m \u001b[0mdestination\u001b[0m\u001b[0;34m=\u001b[0m\u001b[0mdestination\u001b[0m\u001b[0;34m)\u001b[0m\u001b[0;34m)\u001b[0m\u001b[0;34m\u001b[0m\u001b[0;34m\u001b[0m\u001b[0m\n\u001b[1;32m     21\u001b[0m     \u001b[0;32mreturn\u001b[0m \u001b[0mcommands\u001b[0m\u001b[0;34m\u001b[0m\u001b[0;34m\u001b[0m\u001b[0m\n",
        "\u001b[0;32m~/miniconda3/envs/kmer-hashing/lib/python3.6/site-packages/pandas/core/series.py\u001b[0m in \u001b[0;36m__getitem__\u001b[0;34m(self, key)\u001b[0m\n\u001b[1;32m    866\u001b[0m         \u001b[0mkey\u001b[0m \u001b[0;34m=\u001b[0m \u001b[0mcom\u001b[0m\u001b[0;34m.\u001b[0m\u001b[0mapply_if_callable\u001b[0m\u001b[0;34m(\u001b[0m\u001b[0mkey\u001b[0m\u001b[0;34m,\u001b[0m \u001b[0mself\u001b[0m\u001b[0;34m)\u001b[0m\u001b[0;34m\u001b[0m\u001b[0;34m\u001b[0m\u001b[0m\n\u001b[1;32m    867\u001b[0m         \u001b[0;32mtry\u001b[0m\u001b[0;34m:\u001b[0m\u001b[0;34m\u001b[0m\u001b[0;34m\u001b[0m\u001b[0m\n\u001b[0;32m--> 868\u001b[0;31m             \u001b[0mresult\u001b[0m \u001b[0;34m=\u001b[0m \u001b[0mself\u001b[0m\u001b[0;34m.\u001b[0m\u001b[0mindex\u001b[0m\u001b[0;34m.\u001b[0m\u001b[0mget_value\u001b[0m\u001b[0;34m(\u001b[0m\u001b[0mself\u001b[0m\u001b[0;34m,\u001b[0m \u001b[0mkey\u001b[0m\u001b[0;34m)\u001b[0m\u001b[0;34m\u001b[0m\u001b[0;34m\u001b[0m\u001b[0m\n\u001b[0m\u001b[1;32m    869\u001b[0m \u001b[0;34m\u001b[0m\u001b[0m\n\u001b[1;32m    870\u001b[0m             \u001b[0;32mif\u001b[0m \u001b[0;32mnot\u001b[0m \u001b[0mis_scalar\u001b[0m\u001b[0;34m(\u001b[0m\u001b[0mresult\u001b[0m\u001b[0;34m)\u001b[0m\u001b[0;34m:\u001b[0m\u001b[0;34m\u001b[0m\u001b[0;34m\u001b[0m\u001b[0m\n",
        "\u001b[0;32m~/miniconda3/envs/kmer-hashing/lib/python3.6/site-packages/pandas/core/indexes/base.py\u001b[0m in \u001b[0;36mget_value\u001b[0;34m(self, series, key)\u001b[0m\n\u001b[1;32m   4387\u001b[0m                     \u001b[0;32mraise\u001b[0m \u001b[0mInvalidIndexError\u001b[0m\u001b[0;34m(\u001b[0m\u001b[0mkey\u001b[0m\u001b[0;34m)\u001b[0m\u001b[0;34m\u001b[0m\u001b[0;34m\u001b[0m\u001b[0m\n\u001b[1;32m   4388\u001b[0m                 \u001b[0;32melse\u001b[0m\u001b[0;34m:\u001b[0m\u001b[0;34m\u001b[0m\u001b[0;34m\u001b[0m\u001b[0m\n\u001b[0;32m-> 4389\u001b[0;31m                     \u001b[0;32mraise\u001b[0m \u001b[0me1\u001b[0m\u001b[0;34m\u001b[0m\u001b[0;34m\u001b[0m\u001b[0m\n\u001b[0m\u001b[1;32m   4390\u001b[0m             \u001b[0;32mexcept\u001b[0m \u001b[0mException\u001b[0m\u001b[0;34m:\u001b[0m  \u001b[0;31m# pragma: no cover\u001b[0m\u001b[0;34m\u001b[0m\u001b[0;34m\u001b[0m\u001b[0m\n\u001b[1;32m   4391\u001b[0m                 \u001b[0;32mraise\u001b[0m \u001b[0me1\u001b[0m\u001b[0;34m\u001b[0m\u001b[0;34m\u001b[0m\u001b[0m\n",
        "\u001b[0;32m~/miniconda3/envs/kmer-hashing/lib/python3.6/site-packages/pandas/core/indexes/base.py\u001b[0m in \u001b[0;36mget_value\u001b[0;34m(self, series, key)\u001b[0m\n\u001b[1;32m   4373\u001b[0m         \u001b[0;32mtry\u001b[0m\u001b[0;34m:\u001b[0m\u001b[0;34m\u001b[0m\u001b[0;34m\u001b[0m\u001b[0m\n\u001b[1;32m   4374\u001b[0m             return self._engine.get_value(s, k,\n\u001b[0;32m-> 4375\u001b[0;31m                                           tz=getattr(series.dtype, 'tz', None))\n\u001b[0m\u001b[1;32m   4376\u001b[0m         \u001b[0;32mexcept\u001b[0m \u001b[0mKeyError\u001b[0m \u001b[0;32mas\u001b[0m \u001b[0me1\u001b[0m\u001b[0;34m:\u001b[0m\u001b[0;34m\u001b[0m\u001b[0;34m\u001b[0m\u001b[0m\n\u001b[1;32m   4377\u001b[0m             \u001b[0;32mif\u001b[0m \u001b[0mlen\u001b[0m\u001b[0;34m(\u001b[0m\u001b[0mself\u001b[0m\u001b[0;34m)\u001b[0m \u001b[0;34m>\u001b[0m \u001b[0;36m0\u001b[0m \u001b[0;32mand\u001b[0m \u001b[0;34m(\u001b[0m\u001b[0mself\u001b[0m\u001b[0;34m.\u001b[0m\u001b[0mholds_integer\u001b[0m\u001b[0;34m(\u001b[0m\u001b[0;34m)\u001b[0m \u001b[0;32mor\u001b[0m \u001b[0mself\u001b[0m\u001b[0;34m.\u001b[0m\u001b[0mis_boolean\u001b[0m\u001b[0;34m(\u001b[0m\u001b[0;34m)\u001b[0m\u001b[0;34m)\u001b[0m\u001b[0;34m:\u001b[0m\u001b[0;34m\u001b[0m\u001b[0;34m\u001b[0m\u001b[0m\n",
        "\u001b[0;32mpandas/_libs/index.pyx\u001b[0m in \u001b[0;36mpandas._libs.index.IndexEngine.get_value\u001b[0;34m()\u001b[0m\n",
        "\u001b[0;32mpandas/_libs/index.pyx\u001b[0m in \u001b[0;36mpandas._libs.index.IndexEngine.get_value\u001b[0;34m()\u001b[0m\n",
        "\u001b[0;32mpandas/_libs/index.pyx\u001b[0m in \u001b[0;36mpandas._libs.index.IndexEngine.get_loc\u001b[0;34m()\u001b[0m\n",
        "\u001b[0;32mpandas/_libs/hashtable_class_helper.pxi\u001b[0m in \u001b[0;36mpandas._libs.hashtable.PyObjectHashTable.get_item\u001b[0;34m()\u001b[0m\n",
        "\u001b[0;32mpandas/_libs/hashtable_class_helper.pxi\u001b[0m in \u001b[0;36mpandas._libs.hashtable.PyObjectHashTable.get_item\u001b[0;34m()\u001b[0m\n",
        "\u001b[0;31mKeyError\u001b[0m: ('sanitized_name', 'occurred at index 0')"
       ]
      }
     ],
     "persistentId": "14bce4c0-4b3b-49fc-9039-a1b84e9f0776",
     "text": "def srr_to_url(srr_run, is_paired, url_base='ftp://ftp.sra.ebi.ac.uk/vol1/fastq/'):\n    suffix = f'{srr_run[:6]}/{srr_run}'\n    if is_paired:\n        read1 = f\"{url_base}/{suffix}/{srr_run}_R1.fastq.gz\"\n        read2 = f\"{url_base}/{suffix}/{srr_run}_R2.fastq.gz\"\n        reads = (read1, read2)\n    else:\n        read1 = f\"{url_base}/{suffix}/{srr_run}_R1.fastq.gz\"\n        reads = (read1,)\n    return reads\n\ndef get_curl_commands(row):\n    template = 'curl -L {url} -o {destination}'\n    is_paired = row['LibraryLayout'] == 'PAIRED'\n    \n    read_urls = srr_to_url(row['Run'], is_paired)\n    commands = []\n    for i, url in enumerate(read_urls):\n        destination = row['Run'] + '_' + row['sanitized_name'] + f\"_R{i+1}.fastq.gz\"\n        commands.append(template.format(url=url, destination=destination))\n    return commands\n\ncommands = list(itertools.chain(*sra_run_table.apply(get_curl_commands, axis=1).values))\ncommands"
    },
    "executionTime": "2019-11-05T15:56:33.837Z"
   },
   {
    "cell": {
     "executionCount": 32,
     "executionEventId": "e177993e-26c9-4559-96de-250a3d4097c8",
     "hasError": false,
     "id": "430d2ec6-9a81-45dc-adfb-a8f373768989",
     "outputs": [
      {
       "name": "stdout",
       "output_type": "stream",
       "text": "> \u001b[0;32m/home/olga/code/kh-analysis--brawand2011-extract-coding/notebooks/pandas/_libs/hashtable_class_helper.pxi\u001b[0m(1608)\u001b[0;36mpandas._libs.hashtable.PyObjectHashTable.get_item\u001b[0;34m()\u001b[0m\n\n"
      },
      {
       "name": "stdin",
       "output_type": "stream",
       "text": "ipdb>  dir()\n"
      },
      {
       "name": "stdout",
       "output_type": "stream",
       "text": "['Factorizer', 'Float64HashTable', 'Float64Vector', 'HashTable', 'Int64Factorizer', 'Int64HashTable', 'Int64Vector', 'ObjectVector', 'PyObjectHashTable', 'StringHashTable', 'StringVector', 'UInt64HashTable', 'UInt64Vector', '_SIZE_HINT_LIMIT', '__builtins__', '__doc__', '__file__', '__loader__', '__name__', '__package__', '__pyx_unpickle_Enum', '__pyx_unpickle_Factorizer', '__pyx_unpickle_HashTable', '__pyx_unpickle_Int64Factorizer', '__spec__', '__test__', 'duplicated_float64', 'duplicated_int64', 'duplicated_object', 'duplicated_uint64', 'ismember_float64', 'ismember_int64', 'ismember_object', 'ismember_uint64', 'mode_float64', 'mode_int64', 'mode_object', 'mode_uint64', 'np', 'unique_label_indices', 'value_count_float64', 'value_count_int64', 'value_count_object', 'value_count_uint64']\n"
      },
      {
       "name": "stdin",
       "output_type": "stream",
       "text": "ipdb>  u\n"
      },
      {
       "name": "stdout",
       "output_type": "stream",
       "text": "> \u001b[0;32m/home/olga/miniconda3/envs/kmer-hashing/lib/python3.6/site-packages/pandas/core/indexes/base.py\u001b[0m(4391)\u001b[0;36mget_value\u001b[0;34m()\u001b[0m\n\u001b[0;32m   4389 \u001b[0;31m                    \u001b[0;32mraise\u001b[0m \u001b[0me1\u001b[0m\u001b[0;34m\u001b[0m\u001b[0;34m\u001b[0m\u001b[0m\n\u001b[0m\u001b[0;32m   4390 \u001b[0;31m            \u001b[0;32mexcept\u001b[0m \u001b[0mException\u001b[0m\u001b[0;34m:\u001b[0m  \u001b[0;31m# pragma: no cover\u001b[0m\u001b[0;34m\u001b[0m\u001b[0;34m\u001b[0m\u001b[0m\n\u001b[0m\u001b[0;32m-> 4391 \u001b[0;31m                \u001b[0;32mraise\u001b[0m \u001b[0me1\u001b[0m\u001b[0;34m\u001b[0m\u001b[0;34m\u001b[0m\u001b[0m\n\u001b[0m\u001b[0;32m   4392 \u001b[0;31m        \u001b[0;32mexcept\u001b[0m \u001b[0mTypeError\u001b[0m\u001b[0;34m:\u001b[0m\u001b[0;34m\u001b[0m\u001b[0;34m\u001b[0m\u001b[0m\n\u001b[0m\u001b[0;32m   4393 \u001b[0;31m            \u001b[0;31m# python 3\u001b[0m\u001b[0;34m\u001b[0m\u001b[0;34m\u001b[0m\u001b[0;34m\u001b[0m\u001b[0m\n\u001b[0m\n"
      },
      {
       "name": "stdin",
       "output_type": "stream",
       "text": "ipdb>  u\n"
      },
      {
       "name": "stdout",
       "output_type": "stream",
       "text": "> \u001b[0;32m/home/olga/miniconda3/envs/kmer-hashing/lib/python3.6/site-packages/pandas/core/series.py\u001b[0m(900)\u001b[0;36m__getitem__\u001b[0;34m()\u001b[0m\n\u001b[0;32m    898 \u001b[0;31m                \u001b[0;32mif\u001b[0m \u001b[0mtype\u001b[0m\u001b[0;34m(\u001b[0m\u001b[0mnew_key\u001b[0m\u001b[0;34m)\u001b[0m \u001b[0;34m!=\u001b[0m \u001b[0mtype\u001b[0m\u001b[0;34m(\u001b[0m\u001b[0mkey\u001b[0m\u001b[0;34m)\u001b[0m\u001b[0;34m:\u001b[0m\u001b[0;34m\u001b[0m\u001b[0;34m\u001b[0m\u001b[0m\n\u001b[0m\u001b[0;32m    899 \u001b[0;31m                    \u001b[0;32mreturn\u001b[0m \u001b[0mself\u001b[0m\u001b[0;34m.\u001b[0m\u001b[0m__getitem__\u001b[0m\u001b[0;34m(\u001b[0m\u001b[0mnew_key\u001b[0m\u001b[0;34m)\u001b[0m\u001b[0;34m\u001b[0m\u001b[0;34m\u001b[0m\u001b[0m\n\u001b[0m\u001b[0;32m--> 900 \u001b[0;31m                \u001b[0;32mraise\u001b[0m\u001b[0;34m\u001b[0m\u001b[0;34m\u001b[0m\u001b[0m\n\u001b[0m\u001b[0;32m    901 \u001b[0;31m\u001b[0;34m\u001b[0m\u001b[0m\n\u001b[0m\u001b[0;32m    902 \u001b[0;31m        \u001b[0;32mexcept\u001b[0m \u001b[0mException\u001b[0m\u001b[0;34m:\u001b[0m\u001b[0;34m\u001b[0m\u001b[0;34m\u001b[0m\u001b[0m\n\u001b[0m\n"
      },
      {
       "name": "stdin",
       "output_type": "stream",
       "text": "ipdb>  u\n"
      },
      {
       "name": "stdout",
       "output_type": "stream",
       "text": "> \u001b[0;32m<ipython-input-31-4d069a9c45e9>\u001b[0m(19)\u001b[0;36mget_curl_commands\u001b[0;34m()\u001b[0m\n\u001b[0;32m     17 \u001b[0;31m    \u001b[0mcommands\u001b[0m \u001b[0;34m=\u001b[0m \u001b[0;34m[\u001b[0m\u001b[0;34m]\u001b[0m\u001b[0;34m\u001b[0m\u001b[0;34m\u001b[0m\u001b[0m\n\u001b[0m\u001b[0;32m     18 \u001b[0;31m    \u001b[0;32mfor\u001b[0m \u001b[0mi\u001b[0m\u001b[0;34m,\u001b[0m \u001b[0murl\u001b[0m \u001b[0;32min\u001b[0m \u001b[0menumerate\u001b[0m\u001b[0;34m(\u001b[0m\u001b[0mread_urls\u001b[0m\u001b[0;34m)\u001b[0m\u001b[0;34m:\u001b[0m\u001b[0;34m\u001b[0m\u001b[0;34m\u001b[0m\u001b[0m\n\u001b[0m\u001b[0;32m---> 19 \u001b[0;31m        \u001b[0mdestination\u001b[0m \u001b[0;34m=\u001b[0m \u001b[0mrow\u001b[0m\u001b[0;34m[\u001b[0m\u001b[0;34m'Run'\u001b[0m\u001b[0;34m]\u001b[0m \u001b[0;34m+\u001b[0m \u001b[0;34m'_'\u001b[0m \u001b[0;34m+\u001b[0m \u001b[0mrow\u001b[0m\u001b[0;34m[\u001b[0m\u001b[0;34m'sanitized_name'\u001b[0m\u001b[0;34m]\u001b[0m \u001b[0;34m+\u001b[0m \u001b[0;34mf\"_R{i+1}.fastq.gz\"\u001b[0m\u001b[0;34m\u001b[0m\u001b[0;34m\u001b[0m\u001b[0m\n\u001b[0m\u001b[0;32m     20 \u001b[0;31m        \u001b[0mcommands\u001b[0m\u001b[0;34m.\u001b[0m\u001b[0mappend\u001b[0m\u001b[0;34m(\u001b[0m\u001b[0mtemplate\u001b[0m\u001b[0;34m.\u001b[0m\u001b[0mformat\u001b[0m\u001b[0;34m(\u001b[0m\u001b[0murl\u001b[0m\u001b[0;34m=\u001b[0m\u001b[0murl\u001b[0m\u001b[0;34m,\u001b[0m \u001b[0mdestination\u001b[0m\u001b[0;34m=\u001b[0m\u001b[0mdestination\u001b[0m\u001b[0;34m)\u001b[0m\u001b[0;34m)\u001b[0m\u001b[0;34m\u001b[0m\u001b[0;34m\u001b[0m\u001b[0m\n\u001b[0m\u001b[0;32m     21 \u001b[0;31m    \u001b[0;32mreturn\u001b[0m \u001b[0mcommands\u001b[0m\u001b[0;34m\u001b[0m\u001b[0;34m\u001b[0m\u001b[0m\n\u001b[0m\n"
      },
      {
       "name": "stdin",
       "output_type": "stream",
       "text": "ipdb>  url\n"
      },
      {
       "name": "stdout",
       "output_type": "stream",
       "text": "'ftp://ftp.sra.ebi.ac.uk/vol1/fastq//SRR306/SRR306710/SRR306710_R1.fastq.gz'\n"
      },
      {
       "name": "stdin",
       "output_type": "stream",
       "text": "ipdb>  q\n"
      }
     ],
     "persistentId": "1ec86349-f5c0-4c53-a82a-37d10e756a1d",
     "text": "%debug"
    },
    "executionTime": "2019-11-05T15:57:14.912Z"
   },
   {
    "cell": {
     "executionCount": 33,
     "executionEventId": "426daf36-f177-4b40-a540-3946268d9b30",
     "hasError": true,
     "id": "d907b1f4-f356-4b3b-8751-2748813d2d19",
     "outputs": [
      {
       "ename": "KeyError",
       "evalue": "('sanitized_name', 'occurred at index 0')",
       "output_type": "error",
       "traceback": [
        "\u001b[0;31m---------------------------------------------------------------------------\u001b[0m",
        "\u001b[0;31mTypeError\u001b[0m                                 Traceback (most recent call last)",
        "\u001b[0;32m~/miniconda3/envs/kmer-hashing/lib/python3.6/site-packages/pandas/core/indexes/base.py\u001b[0m in \u001b[0;36mget_value\u001b[0;34m(self, series, key)\u001b[0m\n\u001b[1;32m   4380\u001b[0m             \u001b[0;32mtry\u001b[0m\u001b[0;34m:\u001b[0m\u001b[0;34m\u001b[0m\u001b[0;34m\u001b[0m\u001b[0m\n\u001b[0;32m-> 4381\u001b[0;31m                 \u001b[0;32mreturn\u001b[0m \u001b[0mlibindex\u001b[0m\u001b[0;34m.\u001b[0m\u001b[0mget_value_box\u001b[0m\u001b[0;34m(\u001b[0m\u001b[0ms\u001b[0m\u001b[0;34m,\u001b[0m \u001b[0mkey\u001b[0m\u001b[0;34m)\u001b[0m\u001b[0;34m\u001b[0m\u001b[0;34m\u001b[0m\u001b[0m\n\u001b[0m\u001b[1;32m   4382\u001b[0m             \u001b[0;32mexcept\u001b[0m \u001b[0mIndexError\u001b[0m\u001b[0;34m:\u001b[0m\u001b[0;34m\u001b[0m\u001b[0;34m\u001b[0m\u001b[0m\n",
        "\u001b[0;32mpandas/_libs/index.pyx\u001b[0m in \u001b[0;36mpandas._libs.index.get_value_box\u001b[0;34m()\u001b[0m\n",
        "\u001b[0;32mpandas/_libs/index.pyx\u001b[0m in \u001b[0;36mpandas._libs.index.get_value_at\u001b[0;34m()\u001b[0m\n",
        "\u001b[0;32mpandas/_libs/util.pxd\u001b[0m in \u001b[0;36mpandas._libs.util.get_value_at\u001b[0;34m()\u001b[0m\n",
        "\u001b[0;32mpandas/_libs/util.pxd\u001b[0m in \u001b[0;36mpandas._libs.util.validate_indexer\u001b[0;34m()\u001b[0m\n",
        "\u001b[0;31mTypeError\u001b[0m: 'str' object cannot be interpreted as an integer",
        "\nDuring handling of the above exception, another exception occurred:\n",
        "\u001b[0;31mKeyError\u001b[0m                                  Traceback (most recent call last)",
        "\u001b[0;32m<ipython-input-33-0e9739caffca>\u001b[0m in \u001b[0;36m<module>\u001b[0;34m()\u001b[0m\n\u001b[1;32m     21\u001b[0m     \u001b[0;32mreturn\u001b[0m \u001b[0mcommands\u001b[0m\u001b[0;34m\u001b[0m\u001b[0;34m\u001b[0m\u001b[0m\n\u001b[1;32m     22\u001b[0m \u001b[0;34m\u001b[0m\u001b[0m\n\u001b[0;32m---> 23\u001b[0;31m \u001b[0mcommands\u001b[0m \u001b[0;34m=\u001b[0m \u001b[0mlist\u001b[0m\u001b[0;34m(\u001b[0m\u001b[0mitertools\u001b[0m\u001b[0;34m.\u001b[0m\u001b[0mchain\u001b[0m\u001b[0;34m(\u001b[0m\u001b[0;34m*\u001b[0m\u001b[0msra_run_table\u001b[0m\u001b[0;34m.\u001b[0m\u001b[0mapply\u001b[0m\u001b[0;34m(\u001b[0m\u001b[0mget_curl_commands\u001b[0m\u001b[0;34m,\u001b[0m \u001b[0maxis\u001b[0m\u001b[0;34m=\u001b[0m\u001b[0;36m1\u001b[0m\u001b[0;34m)\u001b[0m\u001b[0;34m.\u001b[0m\u001b[0mvalues\u001b[0m\u001b[0;34m)\u001b[0m\u001b[0;34m)\u001b[0m\u001b[0;34m\u001b[0m\u001b[0;34m\u001b[0m\u001b[0m\n\u001b[0m\u001b[1;32m     24\u001b[0m \u001b[0mcommands\u001b[0m\u001b[0;34m\u001b[0m\u001b[0;34m\u001b[0m\u001b[0m\n",
        "\u001b[0;32m~/miniconda3/envs/kmer-hashing/lib/python3.6/site-packages/pandas/core/frame.py\u001b[0m in \u001b[0;36mapply\u001b[0;34m(self, func, axis, broadcast, raw, reduce, result_type, args, **kwds)\u001b[0m\n\u001b[1;32m   6485\u001b[0m                          \u001b[0margs\u001b[0m\u001b[0;34m=\u001b[0m\u001b[0margs\u001b[0m\u001b[0;34m,\u001b[0m\u001b[0;34m\u001b[0m\u001b[0;34m\u001b[0m\u001b[0m\n\u001b[1;32m   6486\u001b[0m                          kwds=kwds)\n\u001b[0;32m-> 6487\u001b[0;31m         \u001b[0;32mreturn\u001b[0m \u001b[0mop\u001b[0m\u001b[0;34m.\u001b[0m\u001b[0mget_result\u001b[0m\u001b[0;34m(\u001b[0m\u001b[0;34m)\u001b[0m\u001b[0;34m\u001b[0m\u001b[0;34m\u001b[0m\u001b[0m\n\u001b[0m\u001b[1;32m   6488\u001b[0m \u001b[0;34m\u001b[0m\u001b[0m\n\u001b[1;32m   6489\u001b[0m     \u001b[0;32mdef\u001b[0m \u001b[0mapplymap\u001b[0m\u001b[0;34m(\u001b[0m\u001b[0mself\u001b[0m\u001b[0;34m,\u001b[0m \u001b[0mfunc\u001b[0m\u001b[0;34m)\u001b[0m\u001b[0;34m:\u001b[0m\u001b[0;34m\u001b[0m\u001b[0;34m\u001b[0m\u001b[0m\n",
        "\u001b[0;32m~/miniconda3/envs/kmer-hashing/lib/python3.6/site-packages/pandas/core/apply.py\u001b[0m in \u001b[0;36mget_result\u001b[0;34m(self)\u001b[0m\n\u001b[1;32m    149\u001b[0m             \u001b[0;32mreturn\u001b[0m \u001b[0mself\u001b[0m\u001b[0;34m.\u001b[0m\u001b[0mapply_raw\u001b[0m\u001b[0;34m(\u001b[0m\u001b[0;34m)\u001b[0m\u001b[0;34m\u001b[0m\u001b[0;34m\u001b[0m\u001b[0m\n\u001b[1;32m    150\u001b[0m \u001b[0;34m\u001b[0m\u001b[0m\n\u001b[0;32m--> 151\u001b[0;31m         \u001b[0;32mreturn\u001b[0m \u001b[0mself\u001b[0m\u001b[0;34m.\u001b[0m\u001b[0mapply_standard\u001b[0m\u001b[0;34m(\u001b[0m\u001b[0;34m)\u001b[0m\u001b[0;34m\u001b[0m\u001b[0;34m\u001b[0m\u001b[0m\n\u001b[0m\u001b[1;32m    152\u001b[0m \u001b[0;34m\u001b[0m\u001b[0m\n\u001b[1;32m    153\u001b[0m     \u001b[0;32mdef\u001b[0m \u001b[0mapply_empty_result\u001b[0m\u001b[0;34m(\u001b[0m\u001b[0mself\u001b[0m\u001b[0;34m)\u001b[0m\u001b[0;34m:\u001b[0m\u001b[0;34m\u001b[0m\u001b[0;34m\u001b[0m\u001b[0m\n",
        "\u001b[0;32m~/miniconda3/envs/kmer-hashing/lib/python3.6/site-packages/pandas/core/apply.py\u001b[0m in \u001b[0;36mapply_standard\u001b[0;34m(self)\u001b[0m\n\u001b[1;32m    255\u001b[0m \u001b[0;34m\u001b[0m\u001b[0m\n\u001b[1;32m    256\u001b[0m         \u001b[0;31m# compute the result using the series generator\u001b[0m\u001b[0;34m\u001b[0m\u001b[0;34m\u001b[0m\u001b[0;34m\u001b[0m\u001b[0m\n\u001b[0;32m--> 257\u001b[0;31m         \u001b[0mself\u001b[0m\u001b[0;34m.\u001b[0m\u001b[0mapply_series_generator\u001b[0m\u001b[0;34m(\u001b[0m\u001b[0;34m)\u001b[0m\u001b[0;34m\u001b[0m\u001b[0;34m\u001b[0m\u001b[0m\n\u001b[0m\u001b[1;32m    258\u001b[0m \u001b[0;34m\u001b[0m\u001b[0m\n\u001b[1;32m    259\u001b[0m         \u001b[0;31m# wrap results\u001b[0m\u001b[0;34m\u001b[0m\u001b[0;34m\u001b[0m\u001b[0;34m\u001b[0m\u001b[0m\n",
        "\u001b[0;32m~/miniconda3/envs/kmer-hashing/lib/python3.6/site-packages/pandas/core/apply.py\u001b[0m in \u001b[0;36mapply_series_generator\u001b[0;34m(self)\u001b[0m\n\u001b[1;32m    284\u001b[0m             \u001b[0;32mtry\u001b[0m\u001b[0;34m:\u001b[0m\u001b[0;34m\u001b[0m\u001b[0;34m\u001b[0m\u001b[0m\n\u001b[1;32m    285\u001b[0m                 \u001b[0;32mfor\u001b[0m \u001b[0mi\u001b[0m\u001b[0;34m,\u001b[0m \u001b[0mv\u001b[0m \u001b[0;32min\u001b[0m \u001b[0menumerate\u001b[0m\u001b[0;34m(\u001b[0m\u001b[0mseries_gen\u001b[0m\u001b[0;34m)\u001b[0m\u001b[0;34m:\u001b[0m\u001b[0;34m\u001b[0m\u001b[0;34m\u001b[0m\u001b[0m\n\u001b[0;32m--> 286\u001b[0;31m                     \u001b[0mresults\u001b[0m\u001b[0;34m[\u001b[0m\u001b[0mi\u001b[0m\u001b[0;34m]\u001b[0m \u001b[0;34m=\u001b[0m \u001b[0mself\u001b[0m\u001b[0;34m.\u001b[0m\u001b[0mf\u001b[0m\u001b[0;34m(\u001b[0m\u001b[0mv\u001b[0m\u001b[0;34m)\u001b[0m\u001b[0;34m\u001b[0m\u001b[0;34m\u001b[0m\u001b[0m\n\u001b[0m\u001b[1;32m    287\u001b[0m                     \u001b[0mkeys\u001b[0m\u001b[0;34m.\u001b[0m\u001b[0mappend\u001b[0m\u001b[0;34m(\u001b[0m\u001b[0mv\u001b[0m\u001b[0;34m.\u001b[0m\u001b[0mname\u001b[0m\u001b[0;34m)\u001b[0m\u001b[0;34m\u001b[0m\u001b[0;34m\u001b[0m\u001b[0m\n\u001b[1;32m    288\u001b[0m             \u001b[0;32mexcept\u001b[0m \u001b[0mException\u001b[0m \u001b[0;32mas\u001b[0m \u001b[0me\u001b[0m\u001b[0;34m:\u001b[0m\u001b[0;34m\u001b[0m\u001b[0;34m\u001b[0m\u001b[0m\n",
        "\u001b[0;32m<ipython-input-33-0e9739caffca>\u001b[0m in \u001b[0;36mget_curl_commands\u001b[0;34m(row)\u001b[0m\n\u001b[1;32m     17\u001b[0m     \u001b[0mcommands\u001b[0m \u001b[0;34m=\u001b[0m \u001b[0;34m[\u001b[0m\u001b[0;34m]\u001b[0m\u001b[0;34m\u001b[0m\u001b[0;34m\u001b[0m\u001b[0m\n\u001b[1;32m     18\u001b[0m     \u001b[0;32mfor\u001b[0m \u001b[0mi\u001b[0m\u001b[0;34m,\u001b[0m \u001b[0murl\u001b[0m \u001b[0;32min\u001b[0m \u001b[0menumerate\u001b[0m\u001b[0;34m(\u001b[0m\u001b[0mread_urls\u001b[0m\u001b[0;34m)\u001b[0m\u001b[0;34m:\u001b[0m\u001b[0;34m\u001b[0m\u001b[0;34m\u001b[0m\u001b[0m\n\u001b[0;32m---> 19\u001b[0;31m         \u001b[0mdestination\u001b[0m \u001b[0;34m=\u001b[0m \u001b[0mrow\u001b[0m\u001b[0;34m[\u001b[0m\u001b[0;34m'Run'\u001b[0m\u001b[0;34m]\u001b[0m \u001b[0;34m+\u001b[0m \u001b[0;34m'_'\u001b[0m \u001b[0;34m+\u001b[0m \u001b[0mrow\u001b[0m\u001b[0;34m[\u001b[0m\u001b[0;34m'sanitized_name'\u001b[0m\u001b[0;34m]\u001b[0m \u001b[0;34m+\u001b[0m \u001b[0;34mf\"_R{i+1}.fastq.gz\"\u001b[0m\u001b[0;34m\u001b[0m\u001b[0;34m\u001b[0m\u001b[0m\n\u001b[0m\u001b[1;32m     20\u001b[0m         \u001b[0mcommands\u001b[0m\u001b[0;34m.\u001b[0m\u001b[0mappend\u001b[0m\u001b[0;34m(\u001b[0m\u001b[0mtemplate\u001b[0m\u001b[0;34m.\u001b[0m\u001b[0mformat\u001b[0m\u001b[0;34m(\u001b[0m\u001b[0murl\u001b[0m\u001b[0;34m=\u001b[0m\u001b[0murl\u001b[0m\u001b[0;34m,\u001b[0m \u001b[0mdestination\u001b[0m\u001b[0;34m=\u001b[0m\u001b[0mdestination\u001b[0m\u001b[0;34m)\u001b[0m\u001b[0;34m)\u001b[0m\u001b[0;34m\u001b[0m\u001b[0;34m\u001b[0m\u001b[0m\n\u001b[1;32m     21\u001b[0m     \u001b[0;32mreturn\u001b[0m \u001b[0mcommands\u001b[0m\u001b[0;34m\u001b[0m\u001b[0;34m\u001b[0m\u001b[0m\n",
        "\u001b[0;32m~/miniconda3/envs/kmer-hashing/lib/python3.6/site-packages/pandas/core/series.py\u001b[0m in \u001b[0;36m__getitem__\u001b[0;34m(self, key)\u001b[0m\n\u001b[1;32m    866\u001b[0m         \u001b[0mkey\u001b[0m \u001b[0;34m=\u001b[0m \u001b[0mcom\u001b[0m\u001b[0;34m.\u001b[0m\u001b[0mapply_if_callable\u001b[0m\u001b[0;34m(\u001b[0m\u001b[0mkey\u001b[0m\u001b[0;34m,\u001b[0m \u001b[0mself\u001b[0m\u001b[0;34m)\u001b[0m\u001b[0;34m\u001b[0m\u001b[0;34m\u001b[0m\u001b[0m\n\u001b[1;32m    867\u001b[0m         \u001b[0;32mtry\u001b[0m\u001b[0;34m:\u001b[0m\u001b[0;34m\u001b[0m\u001b[0;34m\u001b[0m\u001b[0m\n\u001b[0;32m--> 868\u001b[0;31m             \u001b[0mresult\u001b[0m \u001b[0;34m=\u001b[0m \u001b[0mself\u001b[0m\u001b[0;34m.\u001b[0m\u001b[0mindex\u001b[0m\u001b[0;34m.\u001b[0m\u001b[0mget_value\u001b[0m\u001b[0;34m(\u001b[0m\u001b[0mself\u001b[0m\u001b[0;34m,\u001b[0m \u001b[0mkey\u001b[0m\u001b[0;34m)\u001b[0m\u001b[0;34m\u001b[0m\u001b[0;34m\u001b[0m\u001b[0m\n\u001b[0m\u001b[1;32m    869\u001b[0m \u001b[0;34m\u001b[0m\u001b[0m\n\u001b[1;32m    870\u001b[0m             \u001b[0;32mif\u001b[0m \u001b[0;32mnot\u001b[0m \u001b[0mis_scalar\u001b[0m\u001b[0;34m(\u001b[0m\u001b[0mresult\u001b[0m\u001b[0;34m)\u001b[0m\u001b[0;34m:\u001b[0m\u001b[0;34m\u001b[0m\u001b[0;34m\u001b[0m\u001b[0m\n",
        "\u001b[0;32m~/miniconda3/envs/kmer-hashing/lib/python3.6/site-packages/pandas/core/indexes/base.py\u001b[0m in \u001b[0;36mget_value\u001b[0;34m(self, series, key)\u001b[0m\n\u001b[1;32m   4387\u001b[0m                     \u001b[0;32mraise\u001b[0m \u001b[0mInvalidIndexError\u001b[0m\u001b[0;34m(\u001b[0m\u001b[0mkey\u001b[0m\u001b[0;34m)\u001b[0m\u001b[0;34m\u001b[0m\u001b[0;34m\u001b[0m\u001b[0m\n\u001b[1;32m   4388\u001b[0m                 \u001b[0;32melse\u001b[0m\u001b[0;34m:\u001b[0m\u001b[0;34m\u001b[0m\u001b[0;34m\u001b[0m\u001b[0m\n\u001b[0;32m-> 4389\u001b[0;31m                     \u001b[0;32mraise\u001b[0m \u001b[0me1\u001b[0m\u001b[0;34m\u001b[0m\u001b[0;34m\u001b[0m\u001b[0m\n\u001b[0m\u001b[1;32m   4390\u001b[0m             \u001b[0;32mexcept\u001b[0m \u001b[0mException\u001b[0m\u001b[0;34m:\u001b[0m  \u001b[0;31m# pragma: no cover\u001b[0m\u001b[0;34m\u001b[0m\u001b[0;34m\u001b[0m\u001b[0m\n\u001b[1;32m   4391\u001b[0m                 \u001b[0;32mraise\u001b[0m \u001b[0me1\u001b[0m\u001b[0;34m\u001b[0m\u001b[0;34m\u001b[0m\u001b[0m\n",
        "\u001b[0;32m~/miniconda3/envs/kmer-hashing/lib/python3.6/site-packages/pandas/core/indexes/base.py\u001b[0m in \u001b[0;36mget_value\u001b[0;34m(self, series, key)\u001b[0m\n\u001b[1;32m   4373\u001b[0m         \u001b[0;32mtry\u001b[0m\u001b[0;34m:\u001b[0m\u001b[0;34m\u001b[0m\u001b[0;34m\u001b[0m\u001b[0m\n\u001b[1;32m   4374\u001b[0m             return self._engine.get_value(s, k,\n\u001b[0;32m-> 4375\u001b[0;31m                                           tz=getattr(series.dtype, 'tz', None))\n\u001b[0m\u001b[1;32m   4376\u001b[0m         \u001b[0;32mexcept\u001b[0m \u001b[0mKeyError\u001b[0m \u001b[0;32mas\u001b[0m \u001b[0me1\u001b[0m\u001b[0;34m:\u001b[0m\u001b[0;34m\u001b[0m\u001b[0;34m\u001b[0m\u001b[0m\n\u001b[1;32m   4377\u001b[0m             \u001b[0;32mif\u001b[0m \u001b[0mlen\u001b[0m\u001b[0;34m(\u001b[0m\u001b[0mself\u001b[0m\u001b[0;34m)\u001b[0m \u001b[0;34m>\u001b[0m \u001b[0;36m0\u001b[0m \u001b[0;32mand\u001b[0m \u001b[0;34m(\u001b[0m\u001b[0mself\u001b[0m\u001b[0;34m.\u001b[0m\u001b[0mholds_integer\u001b[0m\u001b[0;34m(\u001b[0m\u001b[0;34m)\u001b[0m \u001b[0;32mor\u001b[0m \u001b[0mself\u001b[0m\u001b[0;34m.\u001b[0m\u001b[0mis_boolean\u001b[0m\u001b[0;34m(\u001b[0m\u001b[0;34m)\u001b[0m\u001b[0;34m)\u001b[0m\u001b[0;34m:\u001b[0m\u001b[0;34m\u001b[0m\u001b[0;34m\u001b[0m\u001b[0m\n",
        "\u001b[0;32mpandas/_libs/index.pyx\u001b[0m in \u001b[0;36mpandas._libs.index.IndexEngine.get_value\u001b[0;34m()\u001b[0m\n",
        "\u001b[0;32mpandas/_libs/index.pyx\u001b[0m in \u001b[0;36mpandas._libs.index.IndexEngine.get_value\u001b[0;34m()\u001b[0m\n",
        "\u001b[0;32mpandas/_libs/index.pyx\u001b[0m in \u001b[0;36mpandas._libs.index.IndexEngine.get_loc\u001b[0;34m()\u001b[0m\n",
        "\u001b[0;32mpandas/_libs/hashtable_class_helper.pxi\u001b[0m in \u001b[0;36mpandas._libs.hashtable.PyObjectHashTable.get_item\u001b[0;34m()\u001b[0m\n",
        "\u001b[0;32mpandas/_libs/hashtable_class_helper.pxi\u001b[0m in \u001b[0;36mpandas._libs.hashtable.PyObjectHashTable.get_item\u001b[0;34m()\u001b[0m\n",
        "\u001b[0;31mKeyError\u001b[0m: ('sanitized_name', 'occurred at index 0')"
       ]
      }
     ],
     "persistentId": "14bce4c0-4b3b-49fc-9039-a1b84e9f0776",
     "text": "def srr_to_url(srr_run, is_paired, url_base='ftp://ftp.sra.ebi.ac.uk/vol1/fastq/'):\n    suffix = f'{srr_run[:6]}/{srr_run}'\n    if is_paired:\n        read1 = f\"{url_base}/{suffix}/{srr_run}_1.fastq.gz\"\n        read2 = f\"{url_base}/{suffix}/{srr_run}_2.fastq.gz\"\n        reads = (read1, read2)\n    else:\n        read1 = f\"{url_base}/{suffix}/{srr_run}.fastq.gz\"\n        reads = (read1,)\n    return reads\n\ndef get_curl_commands(row):\n    template = 'curl -L {url} -o {destination}'\n    is_paired = row['LibraryLayout'] == 'PAIRED'\n    \n    read_urls = srr_to_url(row['Run'], is_paired)\n    commands = []\n    for i, url in enumerate(read_urls):\n        destination = row['Run'] + '_' + row['sanitized_name'] + f\"_R{i+1}.fastq.gz\"\n        commands.append(template.format(url=url, destination=destination))\n    return commands\n\ncommands = list(itertools.chain(*sra_run_table.apply(get_curl_commands, axis=1).values))\ncommands"
    },
    "executionTime": "2019-11-05T15:57:40.642Z"
   },
   {
    "cell": {
     "executionCount": 34,
     "executionEventId": "b9da62d1-a9b4-4eb4-b865-50fa6b8dee76",
     "hasError": false,
     "id": "430d2ec6-9a81-45dc-adfb-a8f373768989",
     "outputs": [
      {
       "name": "stdout",
       "output_type": "stream",
       "text": "> \u001b[0;32m/home/olga/code/kh-analysis--brawand2011-extract-coding/notebooks/pandas/_libs/hashtable_class_helper.pxi\u001b[0m(1608)\u001b[0;36mpandas._libs.hashtable.PyObjectHashTable.get_item\u001b[0;34m()\u001b[0m\n\n"
      },
      {
       "name": "stdin",
       "output_type": "stream",
       "text": "ipdb>  u\n"
      },
      {
       "name": "stdout",
       "output_type": "stream",
       "text": "> \u001b[0;32m/home/olga/miniconda3/envs/kmer-hashing/lib/python3.6/site-packages/pandas/core/indexes/base.py\u001b[0m(4391)\u001b[0;36mget_value\u001b[0;34m()\u001b[0m\n\u001b[0;32m   4389 \u001b[0;31m                    \u001b[0;32mraise\u001b[0m \u001b[0me1\u001b[0m\u001b[0;34m\u001b[0m\u001b[0;34m\u001b[0m\u001b[0m\n\u001b[0m\u001b[0;32m   4390 \u001b[0;31m            \u001b[0;32mexcept\u001b[0m \u001b[0mException\u001b[0m\u001b[0;34m:\u001b[0m  \u001b[0;31m# pragma: no cover\u001b[0m\u001b[0;34m\u001b[0m\u001b[0;34m\u001b[0m\u001b[0m\n\u001b[0m\u001b[0;32m-> 4391 \u001b[0;31m                \u001b[0;32mraise\u001b[0m \u001b[0me1\u001b[0m\u001b[0;34m\u001b[0m\u001b[0;34m\u001b[0m\u001b[0m\n\u001b[0m\u001b[0;32m   4392 \u001b[0;31m        \u001b[0;32mexcept\u001b[0m \u001b[0mTypeError\u001b[0m\u001b[0;34m:\u001b[0m\u001b[0;34m\u001b[0m\u001b[0;34m\u001b[0m\u001b[0m\n\u001b[0m\u001b[0;32m   4393 \u001b[0;31m            \u001b[0;31m# python 3\u001b[0m\u001b[0;34m\u001b[0m\u001b[0;34m\u001b[0m\u001b[0;34m\u001b[0m\u001b[0m\n\u001b[0m\n"
      },
      {
       "name": "stdin",
       "output_type": "stream",
       "text": "ipdb>  \n"
      },
      {
       "name": "stdout",
       "output_type": "stream",
       "text": "> \u001b[0;32m/home/olga/miniconda3/envs/kmer-hashing/lib/python3.6/site-packages/pandas/core/series.py\u001b[0m(900)\u001b[0;36m__getitem__\u001b[0;34m()\u001b[0m\n\u001b[0;32m    898 \u001b[0;31m                \u001b[0;32mif\u001b[0m \u001b[0mtype\u001b[0m\u001b[0;34m(\u001b[0m\u001b[0mnew_key\u001b[0m\u001b[0;34m)\u001b[0m \u001b[0;34m!=\u001b[0m \u001b[0mtype\u001b[0m\u001b[0;34m(\u001b[0m\u001b[0mkey\u001b[0m\u001b[0;34m)\u001b[0m\u001b[0;34m:\u001b[0m\u001b[0;34m\u001b[0m\u001b[0;34m\u001b[0m\u001b[0m\n\u001b[0m\u001b[0;32m    899 \u001b[0;31m                    \u001b[0;32mreturn\u001b[0m \u001b[0mself\u001b[0m\u001b[0;34m.\u001b[0m\u001b[0m__getitem__\u001b[0m\u001b[0;34m(\u001b[0m\u001b[0mnew_key\u001b[0m\u001b[0;34m)\u001b[0m\u001b[0;34m\u001b[0m\u001b[0;34m\u001b[0m\u001b[0m\n\u001b[0m\u001b[0;32m--> 900 \u001b[0;31m                \u001b[0;32mraise\u001b[0m\u001b[0;34m\u001b[0m\u001b[0;34m\u001b[0m\u001b[0m\n\u001b[0m\u001b[0;32m    901 \u001b[0;31m\u001b[0;34m\u001b[0m\u001b[0m\n\u001b[0m\u001b[0;32m    902 \u001b[0;31m        \u001b[0;32mexcept\u001b[0m \u001b[0mException\u001b[0m\u001b[0;34m:\u001b[0m\u001b[0;34m\u001b[0m\u001b[0;34m\u001b[0m\u001b[0m\n\u001b[0m\n"
      },
      {
       "name": "stdin",
       "output_type": "stream",
       "text": "ipdb>  u\n"
      },
      {
       "name": "stdout",
       "output_type": "stream",
       "text": "> \u001b[0;32m<ipython-input-33-0e9739caffca>\u001b[0m(19)\u001b[0;36mget_curl_commands\u001b[0;34m()\u001b[0m\n\u001b[0;32m     17 \u001b[0;31m    \u001b[0mcommands\u001b[0m \u001b[0;34m=\u001b[0m \u001b[0;34m[\u001b[0m\u001b[0;34m]\u001b[0m\u001b[0;34m\u001b[0m\u001b[0;34m\u001b[0m\u001b[0m\n\u001b[0m\u001b[0;32m     18 \u001b[0;31m    \u001b[0;32mfor\u001b[0m \u001b[0mi\u001b[0m\u001b[0;34m,\u001b[0m \u001b[0murl\u001b[0m \u001b[0;32min\u001b[0m \u001b[0menumerate\u001b[0m\u001b[0;34m(\u001b[0m\u001b[0mread_urls\u001b[0m\u001b[0;34m)\u001b[0m\u001b[0;34m:\u001b[0m\u001b[0;34m\u001b[0m\u001b[0;34m\u001b[0m\u001b[0m\n\u001b[0m\u001b[0;32m---> 19 \u001b[0;31m        \u001b[0mdestination\u001b[0m \u001b[0;34m=\u001b[0m \u001b[0mrow\u001b[0m\u001b[0;34m[\u001b[0m\u001b[0;34m'Run'\u001b[0m\u001b[0;34m]\u001b[0m \u001b[0;34m+\u001b[0m \u001b[0;34m'_'\u001b[0m \u001b[0;34m+\u001b[0m \u001b[0mrow\u001b[0m\u001b[0;34m[\u001b[0m\u001b[0;34m'sanitized_name'\u001b[0m\u001b[0;34m]\u001b[0m \u001b[0;34m+\u001b[0m \u001b[0;34mf\"_R{i+1}.fastq.gz\"\u001b[0m\u001b[0;34m\u001b[0m\u001b[0;34m\u001b[0m\u001b[0m\n\u001b[0m\u001b[0;32m     20 \u001b[0;31m        \u001b[0mcommands\u001b[0m\u001b[0;34m.\u001b[0m\u001b[0mappend\u001b[0m\u001b[0;34m(\u001b[0m\u001b[0mtemplate\u001b[0m\u001b[0;34m.\u001b[0m\u001b[0mformat\u001b[0m\u001b[0;34m(\u001b[0m\u001b[0murl\u001b[0m\u001b[0;34m=\u001b[0m\u001b[0murl\u001b[0m\u001b[0;34m,\u001b[0m \u001b[0mdestination\u001b[0m\u001b[0;34m=\u001b[0m\u001b[0mdestination\u001b[0m\u001b[0;34m)\u001b[0m\u001b[0;34m)\u001b[0m\u001b[0;34m\u001b[0m\u001b[0;34m\u001b[0m\u001b[0m\n\u001b[0m\u001b[0;32m     21 \u001b[0;31m    \u001b[0;32mreturn\u001b[0m \u001b[0mcommands\u001b[0m\u001b[0;34m\u001b[0m\u001b[0;34m\u001b[0m\u001b[0m\n\u001b[0m\n"
      },
      {
       "name": "stdin",
       "output_type": "stream",
       "text": "ipdb>  print(row)\n"
      },
      {
       "name": "stdout",
       "output_type": "stream",
       "text": "Run                                                  SRR306710\nAssay Type                                             RNA-Seq\nAvgSpotLen                                                  76\nBioProject                                         PRJNA143627\nBioSample                                         SAMN00632119\nCenter Name                                                GEO\nConsent                                                 public\nDATASTORE filetype                                         sra\nDATASTORE provider                                  gs,ncbi,s3\nDATASTORE region                gs.US,ncbi.public,s3.us-east-1\nExperiment                                           SRX081869\nGEO_Accession                                        GSM752557\nInstrument                        Illumina Genome Analyzer IIx\nLibrary Name                             GSM752557: gga br F 1\nLibraryLayout                                           SINGLE\nLibrarySelection                                          cDNA\nLibrarySource                                   TRANSCRIPTOMIC\nMBases                                                    1480\nMBytes                                                    1134\nOrganism                                         Gallus gallus\nPlatform                                              ILLUMINA\nReleaseDate                               2011-10-14T00:00:00Z\nsample_acc                                           SRS213961\nSample Name                                          GSM752557\nsource_name                                              Brain\nSRA Study                                            SRP007412\ntissue_source         Facility of Linkoping University, Sweden\ngender                                                  female\nrin                                                        9.4\nAge                                            ~1 year\\, adult\nExtraction                                        Rneasy Lipid\nsex                                                        NaN\nName: 0, dtype: object\n"
      },
      {
       "name": "stdin",
       "output_type": "stream",
       "text": "ipdb>  q\n"
      }
     ],
     "persistentId": "1ec86349-f5c0-4c53-a82a-37d10e756a1d",
     "text": "%debug"
    },
    "executionTime": "2019-11-05T15:57:59.730Z"
   },
   {
    "cell": {
     "executionCount": 35,
     "executionEventId": "19673a0e-7aa5-453d-987e-ad9748f1706a",
     "hasError": false,
     "id": "4b4b3c64-475f-45f1-a33d-b9c7a3c2fe1a",
     "outputs": [
      {
       "data": {
        "text/plain": "123    GSM752688_ppa_lv_F_1\n135    GSM752699_hsa_ht_F_1\n50     GSM752615_mmu_br_M_1\n145    GSM752707_hsa_ts_M_1\n147    GSM752660_ggo_kd_M_1\nName: sanitized_name, dtype: object"
       },
       "execution_count": 35,
       "metadata": {},
       "output_type": "execute_result"
      }
     ],
     "persistentId": "64d4bbfc-1354-42b1-8d04-cffc4b019b14",
     "text": "def sanitize_name(name):\n    stripped = name.strip()\n    no_spaces = stripped.replace(' ', '_')\n    no_colons = no_spaces.replace(':', '')\n    return no_colons\n\nsra_run_table['sanitized_name'] = sra_run_table['Library Name'].map(sanitize_name)\nsra_run_table['sanitized_name'].sample(5)"
    },
    "executionTime": "2019-11-05T15:58:17.241Z"
   },
   {
    "cell": {
     "executionCount": 36,
     "executionEventId": "69187906-325f-4bf0-bb52-a6aca8845f03",
     "hasError": false,
     "id": "d907b1f4-f356-4b3b-8751-2748813d2d19",
     "outputs": [
      {
       "data": {
        "text/plain": "['curl -L ftp://ftp.sra.ebi.ac.uk/vol1/fastq//SRR306/SRR306710/SRR306710.fastq.gz -o SRR306710_GSM752557_gga_br_F_1_R1.fastq.gz',\n 'curl -L ftp://ftp.sra.ebi.ac.uk/vol1/fastq//SRR306/SRR306711/SRR306711.fastq.gz -o SRR306711_GSM752558_gga_br_M_1_R1.fastq.gz',\n 'curl -L ftp://ftp.sra.ebi.ac.uk/vol1/fastq//SRR306/SRR306712/SRR306712.fastq.gz -o SRR306712_GSM752559_gga_cb_F_1_R1.fastq.gz',\n 'curl -L ftp://ftp.sra.ebi.ac.uk/vol1/fastq//SRR306/SRR306713/SRR306713.fastq.gz -o SRR306713_GSM752560_gga_cb_M_1_R1.fastq.gz',\n 'curl -L ftp://ftp.sra.ebi.ac.uk/vol1/fastq//SRR306/SRR306714/SRR306714.fastq.gz -o SRR306714_GSM752561_gga_ht_F_1_R1.fastq.gz',\n 'curl -L ftp://ftp.sra.ebi.ac.uk/vol1/fastq//SRR306/SRR306715/SRR306715.fastq.gz -o SRR306715_GSM752562_gga_ht_M_1_R1.fastq.gz',\n 'curl -L ftp://ftp.sra.ebi.ac.uk/vol1/fastq//SRR306/SRR306716/SRR306716.fastq.gz -o SRR306716_GSM752563_gga_kd_F_1_R1.fastq.gz',\n 'curl -L ftp://ftp.sra.ebi.ac.uk/vol1/fastq//SRR306/SRR306717/SRR306717.fastq.gz -o SRR306717_GSM752564_gga_kd_M_1_R1.fastq.gz',\n 'curl -L ftp://ftp.sra.ebi.ac.uk/vol1/fastq//SRR306/SRR306718/SRR306718.fastq.gz -o SRR306718_GSM752565_gga_lv_F_1_R1.fastq.gz',\n 'curl -L ftp://ftp.sra.ebi.ac.uk/vol1/fastq//SRR306/SRR306719/SRR306719.fastq.gz -o SRR306719_GSM752566_gga_lv_M_1_R1.fastq.gz',\n 'curl -L ftp://ftp.sra.ebi.ac.uk/vol1/fastq//SRR306/SRR306720/SRR306720.fastq.gz -o SRR306720_GSM752566_gga_lv_M_1_R1.fastq.gz',\n 'curl -L ftp://ftp.sra.ebi.ac.uk/vol1/fastq//SRR306/SRR306721/SRR306721.fastq.gz -o SRR306721_GSM752567_gga_ts_M_1_R1.fastq.gz',\n 'curl -L ftp://ftp.sra.ebi.ac.uk/vol1/fastq//SRR306/SRR306722/SRR306722.fastq.gz -o SRR306722_GSM752567_gga_ts_M_1_R1.fastq.gz',\n 'curl -L ftp://ftp.sra.ebi.ac.uk/vol1/fastq//SRR306/SRR306723/SRR306723.fastq.gz -o SRR306723_GSM752568_gga_ts_M_2_R1.fastq.gz',\n 'curl -L ftp://ftp.sra.ebi.ac.uk/vol1/fastq//SRR306/SRR306724/SRR306724.fastq.gz -o SRR306724_GSM752569_oan_br_F_1_R1.fastq.gz',\n 'curl -L ftp://ftp.sra.ebi.ac.uk/vol1/fastq//SRR306/SRR306725/SRR306725.fastq.gz -o SRR306725_GSM752569_oan_br_F_1_R1.fastq.gz',\n 'curl -L ftp://ftp.sra.ebi.ac.uk/vol1/fastq//SRR306/SRR306726/SRR306726.fastq.gz -o SRR306726_GSM752570_oan_br_M_1_R1.fastq.gz',\n 'curl -L ftp://ftp.sra.ebi.ac.uk/vol1/fastq//SRR306/SRR306727/SRR306727.fastq.gz -o SRR306727_GSM752570_oan_br_M_1_R1.fastq.gz',\n 'curl -L ftp://ftp.sra.ebi.ac.uk/vol1/fastq//SRR306/SRR306728/SRR306728.fastq.gz -o SRR306728_GSM752571_oan_cb_F_1_R1.fastq.gz',\n 'curl -L ftp://ftp.sra.ebi.ac.uk/vol1/fastq//SRR306/SRR306729/SRR306729.fastq.gz -o SRR306729_GSM752572_oan_cb_M_1_R1.fastq.gz',\n 'curl -L ftp://ftp.sra.ebi.ac.uk/vol1/fastq//SRR306/SRR306730/SRR306730.fastq.gz -o SRR306730_GSM752573_oan_ht_F_1_R1.fastq.gz',\n 'curl -L ftp://ftp.sra.ebi.ac.uk/vol1/fastq//SRR306/SRR306731/SRR306731.fastq.gz -o SRR306731_GSM752575_oan_ht_M_1_R1.fastq.gz',\n 'curl -L ftp://ftp.sra.ebi.ac.uk/vol1/fastq//SRR306/SRR306732/SRR306732.fastq.gz -o SRR306732_GSM752576_oan_kd_F_1_R1.fastq.gz',\n 'curl -L ftp://ftp.sra.ebi.ac.uk/vol1/fastq//SRR306/SRR306733/SRR306733.fastq.gz -o SRR306733_GSM752578_oan_kd_M_1_R1.fastq.gz',\n 'curl -L ftp://ftp.sra.ebi.ac.uk/vol1/fastq//SRR306/SRR306734/SRR306734.fastq.gz -o SRR306734_GSM752578_oan_kd_M_1_R1.fastq.gz',\n 'curl -L ftp://ftp.sra.ebi.ac.uk/vol1/fastq//SRR306/SRR306735/SRR306735.fastq.gz -o SRR306735_GSM752580_oan_lv_F_1_R1.fastq.gz',\n 'curl -L ftp://ftp.sra.ebi.ac.uk/vol1/fastq//SRR306/SRR306736/SRR306736.fastq.gz -o SRR306736_GSM752580_oan_lv_F_1_R1.fastq.gz',\n 'curl -L ftp://ftp.sra.ebi.ac.uk/vol1/fastq//SRR306/SRR306737/SRR306737.fastq.gz -o SRR306737_GSM752581_oan_lv_M_1_R1.fastq.gz',\n 'curl -L ftp://ftp.sra.ebi.ac.uk/vol1/fastq//SRR306/SRR306738/SRR306738.fastq.gz -o SRR306738_GSM752581_oan_lv_M_1_R1.fastq.gz',\n 'curl -L ftp://ftp.sra.ebi.ac.uk/vol1/fastq//SRR306/SRR306739/SRR306739.fastq.gz -o SRR306739_GSM752583_oan_ts_M_1_R1.fastq.gz',\n 'curl -L ftp://ftp.sra.ebi.ac.uk/vol1/fastq//SRR306/SRR306741/SRR306741.fastq.gz -o SRR306741_GSM752585_oan_ts_M_2_R1.fastq.gz',\n 'curl -L ftp://ftp.sra.ebi.ac.uk/vol1/fastq//SRR306/SRR306742/SRR306742.fastq.gz -o SRR306742_GSM752588_mdo_br_F_1_R1.fastq.gz',\n 'curl -L ftp://ftp.sra.ebi.ac.uk/vol1/fastq//SRR306/SRR306743/SRR306743.fastq.gz -o SRR306743_GSM752588_mdo_br_F_1_R1.fastq.gz',\n 'curl -L ftp://ftp.sra.ebi.ac.uk/vol1/fastq//SRR306/SRR306744/SRR306744.fastq.gz -o SRR306744_GSM752590_mdo_br_M_1_R1.fastq.gz',\n 'curl -L ftp://ftp.sra.ebi.ac.uk/vol1/fastq//SRR306/SRR306745/SRR306745.fastq.gz -o SRR306745_GSM752592_mdo_cb_F_1_R1.fastq.gz',\n 'curl -L ftp://ftp.sra.ebi.ac.uk/vol1/fastq//SRR306/SRR306746/SRR306746.fastq.gz -o SRR306746_GSM752594_mdo_cb_M_1_R1.fastq.gz',\n 'curl -L ftp://ftp.sra.ebi.ac.uk/vol1/fastq//SRR306/SRR306747/SRR306747.fastq.gz -o SRR306747_GSM752596_mdo_ht_F_1_R1.fastq.gz',\n 'curl -L ftp://ftp.sra.ebi.ac.uk/vol1/fastq//SRR306/SRR306748/SRR306748.fastq.gz -o SRR306748_GSM752596_mdo_ht_F_1_R1.fastq.gz',\n 'curl -L ftp://ftp.sra.ebi.ac.uk/vol1/fastq//SRR306/SRR306749/SRR306749.fastq.gz -o SRR306749_GSM752598_mdo_ht_M_1_R1.fastq.gz',\n 'curl -L ftp://ftp.sra.ebi.ac.uk/vol1/fastq//SRR306/SRR306750/SRR306750.fastq.gz -o SRR306750_GSM752598_mdo_ht_M_1_R1.fastq.gz',\n 'curl -L ftp://ftp.sra.ebi.ac.uk/vol1/fastq//SRR306/SRR306751/SRR306751.fastq.gz -o SRR306751_GSM752601_mdo_kd_F_1_R1.fastq.gz',\n 'curl -L ftp://ftp.sra.ebi.ac.uk/vol1/fastq//SRR306/SRR306752/SRR306752.fastq.gz -o SRR306752_GSM752603_mdo_kd_M_1_R1.fastq.gz',\n 'curl -L ftp://ftp.sra.ebi.ac.uk/vol1/fastq//SRR306/SRR306753/SRR306753.fastq.gz -o SRR306753_GSM752606_mdo_lv_F_1_R1.fastq.gz',\n 'curl -L ftp://ftp.sra.ebi.ac.uk/vol1/fastq//SRR306/SRR306754/SRR306754.fastq.gz -o SRR306754_GSM752608_mdo_lv_M_1_R1.fastq.gz',\n 'curl -L ftp://ftp.sra.ebi.ac.uk/vol1/fastq//SRR306/SRR306755/SRR306755.fastq.gz -o SRR306755_GSM752611_mdo_ts_M_1_R1.fastq.gz',\n 'curl -L ftp://ftp.sra.ebi.ac.uk/vol1/fastq//SRR306/SRR306756/SRR306756.fastq.gz -o SRR306756_GSM752613_mdo_ts_M_2_R1.fastq.gz',\n 'curl -L ftp://ftp.sra.ebi.ac.uk/vol1/fastq//SRR306/SRR306757/SRR306757.fastq.gz -o SRR306757_GSM752614_mmu_br_F_1_R1.fastq.gz',\n 'curl -L ftp://ftp.sra.ebi.ac.uk/vol1/fastq//SRR306/SRR306758/SRR306758.fastq.gz -o SRR306758_GSM752615_mmu_br_M_1_R1.fastq.gz',\n 'curl -L ftp://ftp.sra.ebi.ac.uk/vol1/fastq//SRR306/SRR306759/SRR306759.fastq.gz -o SRR306759_GSM752615_mmu_br_M_1_R1.fastq.gz',\n 'curl -L ftp://ftp.sra.ebi.ac.uk/vol1/fastq//SRR306/SRR306760/SRR306760.fastq.gz -o SRR306760_GSM752615_mmu_br_M_1_R1.fastq.gz',\n 'curl -L ftp://ftp.sra.ebi.ac.uk/vol1/fastq//SRR306/SRR306761/SRR306761.fastq.gz -o SRR306761_GSM752615_mmu_br_M_1_R1.fastq.gz',\n 'curl -L ftp://ftp.sra.ebi.ac.uk/vol1/fastq//SRR306/SRR306762/SRR306762.fastq.gz -o SRR306762_GSM752616_mmu_br_M_2_R1.fastq.gz',\n 'curl -L ftp://ftp.sra.ebi.ac.uk/vol1/fastq//SRR306/SRR306763/SRR306763.fastq.gz -o SRR306763_GSM752617_mmu_cb_F_1_R1.fastq.gz',\n 'curl -L ftp://ftp.sra.ebi.ac.uk/vol1/fastq//SRR306/SRR306764/SRR306764.fastq.gz -o SRR306764_GSM752618_mmu_cb_M_1_R1.fastq.gz',\n 'curl -L ftp://ftp.sra.ebi.ac.uk/vol1/fastq//SRR306/SRR306765/SRR306765.fastq.gz -o SRR306765_GSM752619_mmu_cb_M_2_R1.fastq.gz',\n 'curl -L ftp://ftp.sra.ebi.ac.uk/vol1/fastq//SRR306/SRR306766/SRR306766.fastq.gz -o SRR306766_GSM752620_mmu_ht_F_1_R1.fastq.gz',\n 'curl -L ftp://ftp.sra.ebi.ac.uk/vol1/fastq//SRR306/SRR306767/SRR306767.fastq.gz -o SRR306767_GSM752621_mmu_ht_M_1_R1.fastq.gz',\n 'curl -L ftp://ftp.sra.ebi.ac.uk/vol1/fastq//SRR306/SRR306768/SRR306768.fastq.gz -o SRR306768_GSM752622_mmu_ht_M_2_R1.fastq.gz',\n 'curl -L ftp://ftp.sra.ebi.ac.uk/vol1/fastq//SRR306/SRR306769/SRR306769.fastq.gz -o SRR306769_GSM752623_mmu_kd_F_1_R1.fastq.gz',\n 'curl -L ftp://ftp.sra.ebi.ac.uk/vol1/fastq//SRR306/SRR306770/SRR306770.fastq.gz -o SRR306770_GSM752624_mmu_kd_M_1_R1.fastq.gz',\n 'curl -L ftp://ftp.sra.ebi.ac.uk/vol1/fastq//SRR306/SRR306771/SRR306771.fastq.gz -o SRR306771_GSM752625_mmu_kd_M_2_R1.fastq.gz',\n 'curl -L ftp://ftp.sra.ebi.ac.uk/vol1/fastq//SRR306/SRR306772/SRR306772.fastq.gz -o SRR306772_GSM752626_mmu_lv_F_1_R1.fastq.gz',\n 'curl -L ftp://ftp.sra.ebi.ac.uk/vol1/fastq//SRR306/SRR306773/SRR306773.fastq.gz -o SRR306773_GSM752627_mmu_lv_M_1_R1.fastq.gz',\n 'curl -L ftp://ftp.sra.ebi.ac.uk/vol1/fastq//SRR306/SRR306774/SRR306774.fastq.gz -o SRR306774_GSM752628_mmu_lv_M_2_R1.fastq.gz',\n 'curl -L ftp://ftp.sra.ebi.ac.uk/vol1/fastq//SRR306/SRR306775/SRR306775.fastq.gz -o SRR306775_GSM752629_mmu_ts_M_1_R1.fastq.gz',\n 'curl -L ftp://ftp.sra.ebi.ac.uk/vol1/fastq//SRR306/SRR306776/SRR306776.fastq.gz -o SRR306776_GSM752630_mmu_ts_M_2_R1.fastq.gz',\n 'curl -L ftp://ftp.sra.ebi.ac.uk/vol1/fastq//SRR306/SRR306777/SRR306777.fastq.gz -o SRR306777_GSM752631_mml_br_F_1_R1.fastq.gz',\n 'curl -L ftp://ftp.sra.ebi.ac.uk/vol1/fastq//SRR306/SRR306778/SRR306778.fastq.gz -o SRR306778_GSM752632_mml_br_M_1_R1.fastq.gz',\n 'curl -L ftp://ftp.sra.ebi.ac.uk/vol1/fastq//SRR306/SRR306779/SRR306779_1.fastq.gz -o SRR306779_GSM752633_mml_br_M_2_R1.fastq.gz',\n 'curl -L ftp://ftp.sra.ebi.ac.uk/vol1/fastq//SRR306/SRR306779/SRR306779_2.fastq.gz -o SRR306779_GSM752633_mml_br_M_2_R2.fastq.gz',\n 'curl -L ftp://ftp.sra.ebi.ac.uk/vol1/fastq//SRR306/SRR306780/SRR306780.fastq.gz -o SRR306780_GSM752634_mml_cb_F_1_R1.fastq.gz',\n 'curl -L ftp://ftp.sra.ebi.ac.uk/vol1/fastq//SRR306/SRR306781/SRR306781.fastq.gz -o SRR306781_GSM752635_mml_cb_M_1_R1.fastq.gz',\n 'curl -L ftp://ftp.sra.ebi.ac.uk/vol1/fastq//SRR306/SRR306782/SRR306782.fastq.gz -o SRR306782_GSM752636_mml_ht_F_1_R1.fastq.gz',\n 'curl -L ftp://ftp.sra.ebi.ac.uk/vol1/fastq//SRR306/SRR306783/SRR306783.fastq.gz -o SRR306783_GSM752637_mml_ht_M_1_R1.fastq.gz',\n 'curl -L ftp://ftp.sra.ebi.ac.uk/vol1/fastq//SRR306/SRR306784/SRR306784.fastq.gz -o SRR306784_GSM752638_mml_kd_F_1_R1.fastq.gz',\n 'curl -L ftp://ftp.sra.ebi.ac.uk/vol1/fastq//SRR306/SRR306785/SRR306785.fastq.gz -o SRR306785_GSM752639_mml_kd_M_1_R1.fastq.gz',\n 'curl -L ftp://ftp.sra.ebi.ac.uk/vol1/fastq//SRR306/SRR306786/SRR306786.fastq.gz -o SRR306786_GSM752640_mml_lv_F_1_R1.fastq.gz',\n 'curl -L ftp://ftp.sra.ebi.ac.uk/vol1/fastq//SRR306/SRR306787/SRR306787.fastq.gz -o SRR306787_GSM752641_mml_lv_M_1_R1.fastq.gz',\n 'curl -L ftp://ftp.sra.ebi.ac.uk/vol1/fastq//SRR306/SRR306788/SRR306788.fastq.gz -o SRR306788_GSM752641_mml_lv_M_1_R1.fastq.gz',\n 'curl -L ftp://ftp.sra.ebi.ac.uk/vol1/fastq//SRR306/SRR306789/SRR306789.fastq.gz -o SRR306789_GSM752642_mml_ts_M_1_R1.fastq.gz',\n 'curl -L ftp://ftp.sra.ebi.ac.uk/vol1/fastq//SRR306/SRR306790/SRR306790.fastq.gz -o SRR306790_GSM752643_mml_ts_M_2_R1.fastq.gz',\n 'curl -L ftp://ftp.sra.ebi.ac.uk/vol1/fastq//SRR306/SRR306791/SRR306791.fastq.gz -o SRR306791_GSM752644_ppy_br_F_1_R1.fastq.gz',\n 'curl -L ftp://ftp.sra.ebi.ac.uk/vol1/fastq//SRR306/SRR306792/SRR306792_1.fastq.gz -o SRR306792_GSM752645_ppy_br_M_1_R1.fastq.gz',\n 'curl -L ftp://ftp.sra.ebi.ac.uk/vol1/fastq//SRR306/SRR306792/SRR306792_2.fastq.gz -o SRR306792_GSM752645_ppy_br_M_1_R2.fastq.gz',\n 'curl -L ftp://ftp.sra.ebi.ac.uk/vol1/fastq//SRR306/SRR306793/SRR306793.fastq.gz -o SRR306793_GSM752646_ppy_cb_F_1_R1.fastq.gz',\n 'curl -L ftp://ftp.sra.ebi.ac.uk/vol1/fastq//SRR306/SRR306794/SRR306794.fastq.gz -o SRR306794_GSM752647_ppy_ht_F_1_R1.fastq.gz',\n 'curl -L ftp://ftp.sra.ebi.ac.uk/vol1/fastq//SRR306/SRR306795/SRR306795.fastq.gz -o SRR306795_GSM752648_ppy_ht_M_1_R1.fastq.gz',\n 'curl -L ftp://ftp.sra.ebi.ac.uk/vol1/fastq//SRR306/SRR306796/SRR306796.fastq.gz -o SRR306796_GSM752649_ppy_kd_F_1_R1.fastq.gz',\n 'curl -L ftp://ftp.sra.ebi.ac.uk/vol1/fastq//SRR306/SRR306797/SRR306797.fastq.gz -o SRR306797_GSM752650_ppy_kd_M_1_R1.fastq.gz',\n 'curl -L ftp://ftp.sra.ebi.ac.uk/vol1/fastq//SRR306/SRR306798/SRR306798.fastq.gz -o SRR306798_GSM752651_ppy_lv_F_1_R1.fastq.gz',\n 'curl -L ftp://ftp.sra.ebi.ac.uk/vol1/fastq//SRR306/SRR306799/SRR306799.fastq.gz -o SRR306799_GSM752652_ppy_lv_M_1_R1.fastq.gz',\n 'curl -L ftp://ftp.sra.ebi.ac.uk/vol1/fastq//SRR306/SRR306800/SRR306800.fastq.gz -o SRR306800_GSM752653_ggo_br_F_1_R1.fastq.gz',\n 'curl -L ftp://ftp.sra.ebi.ac.uk/vol1/fastq//SRR306/SRR306801/SRR306801_1.fastq.gz -o SRR306801_GSM752654_ggo_br_M_1_R1.fastq.gz',\n 'curl -L ftp://ftp.sra.ebi.ac.uk/vol1/fastq//SRR306/SRR306801/SRR306801_2.fastq.gz -o SRR306801_GSM752654_ggo_br_M_1_R2.fastq.gz',\n 'curl -L ftp://ftp.sra.ebi.ac.uk/vol1/fastq//SRR306/SRR306802/SRR306802.fastq.gz -o SRR306802_GSM752655_ggo_cb_F_1_R1.fastq.gz',\n 'curl -L ftp://ftp.sra.ebi.ac.uk/vol1/fastq//SRR306/SRR306803/SRR306803.fastq.gz -o SRR306803_GSM752656_ggo_cb_M_1_R1.fastq.gz',\n 'curl -L ftp://ftp.sra.ebi.ac.uk/vol1/fastq//SRR306/SRR306804/SRR306804.fastq.gz -o SRR306804_GSM752657_ggo_ht_F_1_R1.fastq.gz',\n 'curl -L ftp://ftp.sra.ebi.ac.uk/vol1/fastq//SRR306/SRR306805/SRR306805.fastq.gz -o SRR306805_GSM752658_ggo_ht_M_1_R1.fastq.gz',\n 'curl -L ftp://ftp.sra.ebi.ac.uk/vol1/fastq//SRR306/SRR306806/SRR306806.fastq.gz -o SRR306806_GSM752659_ggo_kd_F_1_R1.fastq.gz',\n 'curl -L ftp://ftp.sra.ebi.ac.uk/vol1/fastq//SRR306/SRR306808/SRR306808.fastq.gz -o SRR306808_GSM752661_ggo_lv_F_1_R1.fastq.gz',\n 'curl -L ftp://ftp.sra.ebi.ac.uk/vol1/fastq//SRR306/SRR306809/SRR306809.fastq.gz -o SRR306809_GSM752662_ggo_lv_M_1_R1.fastq.gz',\n 'curl -L ftp://ftp.sra.ebi.ac.uk/vol1/fastq//SRR306/SRR306810/SRR306810.fastq.gz -o SRR306810_GSM752663_ggo_ts_M_1_R1.fastq.gz',\n 'curl -L ftp://ftp.sra.ebi.ac.uk/vol1/fastq//SRR306/SRR306811/SRR306811.fastq.gz -o SRR306811_GSM752664_ptr_br_F_1_R1.fastq.gz',\n 'curl -L ftp://ftp.sra.ebi.ac.uk/vol1/fastq//SRR306/SRR306812/SRR306812_1.fastq.gz -o SRR306812_GSM752665_ptr_br_M_1_R1.fastq.gz',\n 'curl -L ftp://ftp.sra.ebi.ac.uk/vol1/fastq//SRR306/SRR306812/SRR306812_2.fastq.gz -o SRR306812_GSM752665_ptr_br_M_1_R2.fastq.gz',\n 'curl -L ftp://ftp.sra.ebi.ac.uk/vol1/fastq//SRR306/SRR306813/SRR306813_1.fastq.gz -o SRR306813_GSM752666_ptr_br_M_2_R1.fastq.gz',\n 'curl -L ftp://ftp.sra.ebi.ac.uk/vol1/fastq//SRR306/SRR306813/SRR306813_2.fastq.gz -o SRR306813_GSM752666_ptr_br_M_2_R2.fastq.gz',\n 'curl -L ftp://ftp.sra.ebi.ac.uk/vol1/fastq//SRR306/SRR306814/SRR306814_1.fastq.gz -o SRR306814_GSM752667_ptr_br_M_3_R1.fastq.gz',\n 'curl -L ftp://ftp.sra.ebi.ac.uk/vol1/fastq//SRR306/SRR306814/SRR306814_2.fastq.gz -o SRR306814_GSM752667_ptr_br_M_3_R2.fastq.gz',\n 'curl -L ftp://ftp.sra.ebi.ac.uk/vol1/fastq//SRR306/SRR306815/SRR306815_1.fastq.gz -o SRR306815_GSM752668_ptr_br_M_4_R1.fastq.gz',\n 'curl -L ftp://ftp.sra.ebi.ac.uk/vol1/fastq//SRR306/SRR306815/SRR306815_2.fastq.gz -o SRR306815_GSM752668_ptr_br_M_4_R2.fastq.gz',\n 'curl -L ftp://ftp.sra.ebi.ac.uk/vol1/fastq//SRR306/SRR306816/SRR306816_1.fastq.gz -o SRR306816_GSM752669_ptr_br_M_5_R1.fastq.gz',\n 'curl -L ftp://ftp.sra.ebi.ac.uk/vol1/fastq//SRR306/SRR306816/SRR306816_2.fastq.gz -o SRR306816_GSM752669_ptr_br_M_5_R2.fastq.gz',\n 'curl -L ftp://ftp.sra.ebi.ac.uk/vol1/fastq//SRR306/SRR306817/SRR306817.fastq.gz -o SRR306817_GSM752670_ptr_cb_F_1_R1.fastq.gz',\n 'curl -L ftp://ftp.sra.ebi.ac.uk/vol1/fastq//SRR306/SRR306818/SRR306818.fastq.gz -o SRR306818_GSM752671_ptr_cb_M_1_R1.fastq.gz',\n 'curl -L ftp://ftp.sra.ebi.ac.uk/vol1/fastq//SRR306/SRR306819/SRR306819.fastq.gz -o SRR306819_GSM752672_ptr_ht_F_1_R1.fastq.gz',\n 'curl -L ftp://ftp.sra.ebi.ac.uk/vol1/fastq//SRR306/SRR306820/SRR306820.fastq.gz -o SRR306820_GSM752673_ptr_ht_M_1_R1.fastq.gz',\n 'curl -L ftp://ftp.sra.ebi.ac.uk/vol1/fastq//SRR306/SRR306821/SRR306821.fastq.gz -o SRR306821_GSM752674_ptr_kd_F_1_R1.fastq.gz',\n 'curl -L ftp://ftp.sra.ebi.ac.uk/vol1/fastq//SRR306/SRR306822/SRR306822.fastq.gz -o SRR306822_GSM752675_ptr_kd_M_1_R1.fastq.gz',\n 'curl -L ftp://ftp.sra.ebi.ac.uk/vol1/fastq//SRR306/SRR306823/SRR306823.fastq.gz -o SRR306823_GSM752676_ptr_lv_F_1_R1.fastq.gz',\n 'curl -L ftp://ftp.sra.ebi.ac.uk/vol1/fastq//SRR306/SRR306824/SRR306824.fastq.gz -o SRR306824_GSM752677_ptr_lv_M_1_R1.fastq.gz',\n 'curl -L ftp://ftp.sra.ebi.ac.uk/vol1/fastq//SRR306/SRR306825/SRR306825.fastq.gz -o SRR306825_GSM752678_ptr_ts_M_1_R1.fastq.gz',\n 'curl -L ftp://ftp.sra.ebi.ac.uk/vol1/fastq//SRR306/SRR306826/SRR306826_1.fastq.gz -o SRR306826_GSM752679_ppa_br_F_1_R1.fastq.gz',\n 'curl -L ftp://ftp.sra.ebi.ac.uk/vol1/fastq//SRR306/SRR306826/SRR306826_2.fastq.gz -o SRR306826_GSM752679_ppa_br_F_1_R2.fastq.gz',\n 'curl -L ftp://ftp.sra.ebi.ac.uk/vol1/fastq//SRR306/SRR306827/SRR306827.fastq.gz -o SRR306827_GSM752680_ppa_br_F_2_R1.fastq.gz',\n 'curl -L ftp://ftp.sra.ebi.ac.uk/vol1/fastq//SRR306/SRR306828/SRR306828.fastq.gz -o SRR306828_GSM752681_ppa_br_M_1_R1.fastq.gz',\n 'curl -L ftp://ftp.sra.ebi.ac.uk/vol1/fastq//SRR306/SRR306829/SRR306829.fastq.gz -o SRR306829_GSM752682_ppa_cb_F_1_R1.fastq.gz',\n 'curl -L ftp://ftp.sra.ebi.ac.uk/vol1/fastq//SRR306/SRR306830/SRR306830.fastq.gz -o SRR306830_GSM752683_ppa_cb_M_1_R1.fastq.gz',\n 'curl -L ftp://ftp.sra.ebi.ac.uk/vol1/fastq//SRR306/SRR306831/SRR306831.fastq.gz -o SRR306831_GSM752684_ppa_ht_F_1_R1.fastq.gz',\n 'curl -L ftp://ftp.sra.ebi.ac.uk/vol1/fastq//SRR306/SRR306832/SRR306832.fastq.gz -o SRR306832_GSM752685_ppa_ht_M_1_R1.fastq.gz',\n 'curl -L ftp://ftp.sra.ebi.ac.uk/vol1/fastq//SRR306/SRR306833/SRR306833.fastq.gz -o SRR306833_GSM752686_ppa_kd_F_1_R1.fastq.gz',\n 'curl -L ftp://ftp.sra.ebi.ac.uk/vol1/fastq//SRR306/SRR306834/SRR306834.fastq.gz -o SRR306834_GSM752687_ppa_kd_M_1_R1.fastq.gz',\n 'curl -L ftp://ftp.sra.ebi.ac.uk/vol1/fastq//SRR306/SRR306835/SRR306835.fastq.gz -o SRR306835_GSM752688_ppa_lv_F_1_R1.fastq.gz',\n 'curl -L ftp://ftp.sra.ebi.ac.uk/vol1/fastq//SRR306/SRR306836/SRR306836.fastq.gz -o SRR306836_GSM752689_ppa_lv_M_1_R1.fastq.gz',\n 'curl -L ftp://ftp.sra.ebi.ac.uk/vol1/fastq//SRR306/SRR306837/SRR306837.fastq.gz -o SRR306837_GSM752690_ppa_ts_M_1_R1.fastq.gz',\n 'curl -L ftp://ftp.sra.ebi.ac.uk/vol1/fastq//SRR306/SRR306838/SRR306838.fastq.gz -o SRR306838_GSM752691_hsa_br_F_1_R1.fastq.gz',\n 'curl -L ftp://ftp.sra.ebi.ac.uk/vol1/fastq//SRR306/SRR306839/SRR306839.fastq.gz -o SRR306839_GSM752692_hsa_br_M_3_R1.fastq.gz',\n 'curl -L ftp://ftp.sra.ebi.ac.uk/vol1/fastq//SRR306/SRR306840/SRR306840_1.fastq.gz -o SRR306840_GSM752693_hsa_br_M_1_R1.fastq.gz',\n 'curl -L ftp://ftp.sra.ebi.ac.uk/vol1/fastq//SRR306/SRR306840/SRR306840_2.fastq.gz -o SRR306840_GSM752693_hsa_br_M_1_R2.fastq.gz',\n 'curl -L ftp://ftp.sra.ebi.ac.uk/vol1/fastq//SRR306/SRR306841/SRR306841.fastq.gz -o SRR306841_GSM752694_hsa_br_M_2_R1.fastq.gz',\n 'curl -L ftp://ftp.sra.ebi.ac.uk/vol1/fastq//SRR306/SRR306842/SRR306842_1.fastq.gz -o SRR306842_GSM752695_hsa_br_M_4_R1.fastq.gz',\n 'curl -L ftp://ftp.sra.ebi.ac.uk/vol1/fastq//SRR306/SRR306842/SRR306842_2.fastq.gz -o SRR306842_GSM752695_hsa_br_M_4_R2.fastq.gz',\n 'curl -L ftp://ftp.sra.ebi.ac.uk/vol1/fastq//SRR306/SRR306843/SRR306843.fastq.gz -o SRR306843_GSM752696_hsa_br_M_5_R1.fastq.gz',\n 'curl -L ftp://ftp.sra.ebi.ac.uk/vol1/fastq//SRR306/SRR306844/SRR306844.fastq.gz -o SRR306844_GSM752697_hsa_cb_F_1_R1.fastq.gz',\n 'curl -L ftp://ftp.sra.ebi.ac.uk/vol1/fastq//SRR306/SRR306845/SRR306845.fastq.gz -o SRR306845_GSM752698_hsa_cb_M_1_R1.fastq.gz',\n 'curl -L ftp://ftp.sra.ebi.ac.uk/vol1/fastq//SRR306/SRR306846/SRR306846.fastq.gz -o SRR306846_GSM752698_hsa_cb_M_1_R1.fastq.gz',\n 'curl -L ftp://ftp.sra.ebi.ac.uk/vol1/fastq//SRR306/SRR306847/SRR306847.fastq.gz -o SRR306847_GSM752699_hsa_ht_F_1_R1.fastq.gz',\n 'curl -L ftp://ftp.sra.ebi.ac.uk/vol1/fastq//SRR306/SRR306848/SRR306848.fastq.gz -o SRR306848_GSM752700_hsa_ht_M_1_R1.fastq.gz',\n 'curl -L ftp://ftp.sra.ebi.ac.uk/vol1/fastq//SRR306/SRR306849/SRR306849.fastq.gz -o SRR306849_GSM752700_hsa_ht_M_1_R1.fastq.gz',\n 'curl -L ftp://ftp.sra.ebi.ac.uk/vol1/fastq//SRR306/SRR306850/SRR306850.fastq.gz -o SRR306850_GSM752701_hsa_ht_M_2_R1.fastq.gz',\n 'curl -L ftp://ftp.sra.ebi.ac.uk/vol1/fastq//SRR306/SRR306851/SRR306851.fastq.gz -o SRR306851_GSM752702_hsa_kd_F_1_R1.fastq.gz',\n 'curl -L ftp://ftp.sra.ebi.ac.uk/vol1/fastq//SRR306/SRR306852/SRR306852.fastq.gz -o SRR306852_GSM752703_hsa_kd_M_1_R1.fastq.gz',\n 'curl -L ftp://ftp.sra.ebi.ac.uk/vol1/fastq//SRR306/SRR306853/SRR306853.fastq.gz -o SRR306853_GSM752704_hsa_kd_M_2_R1.fastq.gz',\n 'curl -L ftp://ftp.sra.ebi.ac.uk/vol1/fastq//SRR306/SRR306854/SRR306854.fastq.gz -o SRR306854_GSM752705_hsa_lv_M_1_R1.fastq.gz',\n 'curl -L ftp://ftp.sra.ebi.ac.uk/vol1/fastq//SRR306/SRR306855/SRR306855.fastq.gz -o SRR306855_GSM752705_hsa_lv_M_1_R1.fastq.gz',\n 'curl -L ftp://ftp.sra.ebi.ac.uk/vol1/fastq//SRR306/SRR306856/SRR306856.fastq.gz -o SRR306856_GSM752706_hsa_lv_M_2_R1.fastq.gz',\n 'curl -L ftp://ftp.sra.ebi.ac.uk/vol1/fastq//SRR306/SRR306857/SRR306857.fastq.gz -o SRR306857_GSM752707_hsa_ts_M_1_R1.fastq.gz',\n 'curl -L ftp://ftp.sra.ebi.ac.uk/vol1/fastq//SRR306/SRR306858/SRR306858.fastq.gz -o SRR306858_GSM752708_hsa_ts_M_2_R1.fastq.gz',\n 'curl -L ftp://ftp.sra.ebi.ac.uk/vol1/fastq//SRR306/SRR306807/SRR306807.fastq.gz -o SRR306807_GSM752660_ggo_kd_M_1_R1.fastq.gz',\n 'curl -L ftp://ftp.sra.ebi.ac.uk/vol1/fastq//SRR306/SRR306740/SRR306740.fastq.gz -o SRR306740_GSM752585_oan_ts_M_2_R1.fastq.gz']"
       },
       "execution_count": 36,
       "metadata": {},
       "output_type": "execute_result"
      }
     ],
     "persistentId": "14bce4c0-4b3b-49fc-9039-a1b84e9f0776",
     "text": "def srr_to_url(srr_run, is_paired, url_base='ftp://ftp.sra.ebi.ac.uk/vol1/fastq/'):\n    suffix = f'{srr_run[:6]}/{srr_run}'\n    if is_paired:\n        read1 = f\"{url_base}/{suffix}/{srr_run}_1.fastq.gz\"\n        read2 = f\"{url_base}/{suffix}/{srr_run}_2.fastq.gz\"\n        reads = (read1, read2)\n    else:\n        read1 = f\"{url_base}/{suffix}/{srr_run}.fastq.gz\"\n        reads = (read1,)\n    return reads\n\ndef get_curl_commands(row):\n    template = 'curl -L {url} -o {destination}'\n    is_paired = row['LibraryLayout'] == 'PAIRED'\n    \n    read_urls = srr_to_url(row['Run'], is_paired)\n    commands = []\n    for i, url in enumerate(read_urls):\n        destination = row['Run'] + '_' + row['sanitized_name'] + f\"_R{i+1}.fastq.gz\"\n        commands.append(template.format(url=url, destination=destination))\n    return commands\n\ncommands = list(itertools.chain(*sra_run_table.apply(get_curl_commands, axis=1).values))\ncommands"
    },
    "executionTime": "2019-11-05T15:58:17.264Z"
   },
   {
    "cell": {
     "executionCount": 37,
     "executionEventId": "4d6798c1-3e7b-4687-9b86-a14460f99bd5",
     "hasError": false,
     "id": "ef2cb3df-b9af-4a86-81ef-6361fa40090f",
     "outputs": [],
     "persistentId": "a6c1e9fb-1c23-4cb8-ad86-5d4382acc985",
     "text": "folder = '/home/olga/code/kmer-hashing/kh-workflows/sra-explorer'\nsh = f\"{folder}/brawand2011_manual.sh\""
    },
    "executionTime": "2019-11-05T15:59:55.173Z"
   },
   {
    "cell": {
     "executionCount": 38,
     "executionEventId": "6b5db4ec-d4e6-4ca1-9abd-b4fca4ac18b5",
     "hasError": false,
     "id": "430d2ec6-9a81-45dc-adfb-a8f373768989",
     "outputs": [
      {
       "name": "stdout",
       "output_type": "stream",
       "text": "curl -L ftp://ftp.sra.ebi.ac.uk/vol1/fastq//SRR306/SRR306710/SRR306710.fastq.gz -o SRR306710_GSM752557_gga_br_F_1_R1.fastq.gzcurl -L ftp://ftp.sra.ebi.ac.uk/vol1/fastq//SRR306/SRR306711/SRR306711.fastq.gz -o SRR306711_GSM752558_gga_br_M_1_R1.fastq.gzcurl -L ftp://ftp.sra.ebi.ac.uk/vol1/fastq//SRR306/SRR306712/SRR306712.fastq.gz -o SRR306712_GSM752559_gga_cb_F_1_R1.fastq.gzcurl -L ftp://ftp.sra.ebi.ac.uk/vol1/fastq//SRR306/SRR306713/SRR306713.fastq.gz -o SRR306713_GSM752560_gga_cb_M_1_R1.fastq.gzcurl -L ftp://ftp.sra.ebi.ac.uk/vol1/fastq//SRR306/SRR306714/SRR306714.fastq.gz -o SRR306714_GSM752561_gga_ht_F_1_R1.fastq.gzcurl -L ftp://ftp.sra.ebi.ac.uk/vol1/fastq//SRR306/SRR306715/SRR306715.fastq.gz -o SRR306715_GSM752562_gga_ht_M_1_R1.fastq.gzcurl -L ftp://ftp.sra.ebi.ac.uk/vol1/fastq//SRR306/SRR306716/SRR306716.fastq.gz -o SRR306716_GSM752563_gga_kd_F_1_R1.fastq.gzcurl -L ftp://ftp.sra.ebi.ac.uk/vol1/fastq//SRR306/SRR306717/SRR306717.fastq.gz -o SRR306717_GSM752564_gga_kd_M_1_R1.fastq.gzcurl -L ftp://ftp.sra.ebi.ac.uk/vol1/fastq//SRR306/SRR306718/SRR306718.fastq.gz -o SRR306718_GSM752565_gga_lv_F_1_R1.fastq.gzcurl -L ftp://ftp.sra.ebi.ac.uk/vol1/fastq//SRR306/SRR306719/SRR306719.fastq.gz -o SRR306719_GSM752566_gga_lv_M_1_R1.fastq.gzcurl -L ftp://ftp.sra.ebi.ac.uk/vol1/fastq//SRR306/SRR306720/SRR306720.fastq.gz -o SRR306720_GSM752566_gga_lv_M_1_R1.fastq.gzcurl -L ftp://ftp.sra.ebi.ac.uk/vol1/fastq//SRR306/SRR306721/SRR306721.fastq.gz -o SRR306721_GSM752567_gga_ts_M_1_R1.fastq.gzcurl -L ftp://ftp.sra.ebi.ac.uk/vol1/fastq//SRR306/SRR306722/SRR306722.fastq.gz -o SRR306722_GSM752567_gga_ts_M_1_R1.fastq.gzcurl -L ftp://ftp.sra.ebi.ac.uk/vol1/fastq//SRR306/SRR306723/SRR306723.fastq.gz -o SRR306723_GSM752568_gga_ts_M_2_R1.fastq.gzcurl -L ftp://ftp.sra.ebi.ac.uk/vol1/fastq//SRR306/SRR306724/SRR306724.fastq.gz -o SRR306724_GSM752569_oan_br_F_1_R1.fastq.gzcurl -L ftp://ftp.sra.ebi.ac.uk/vol1/fastq//SRR306/SRR306725/SRR306725.fastq.gz -o SRR306725_GSM752569_oan_br_F_1_R1.fastq.gzcurl -L ftp://ftp.sra.ebi.ac.uk/vol1/fastq//SRR306/SRR306726/SRR306726.fastq.gz -o SRR306726_GSM752570_oan_br_M_1_R1.fastq.gzcurl -L ftp://ftp.sra.ebi.ac.uk/vol1/fastq//SRR306/SRR306727/SRR306727.fastq.gz -o SRR306727_GSM752570_oan_br_M_1_R1.fastq.gzcurl -L ftp://ftp.sra.ebi.ac.uk/vol1/fastq//SRR306/SRR306728/SRR306728.fastq.gz -o SRR306728_GSM752571_oan_cb_F_1_R1.fastq.gzcurl -L ftp://ftp.sra.ebi.ac.uk/vol1/fastq//SRR306/SRR306729/SRR306729.fastq.gz -o SRR306729_GSM752572_oan_cb_M_1_R1.fastq.gzcurl -L ftp://ftp.sra.ebi.ac.uk/vol1/fastq//SRR306/SRR306730/SRR306730.fastq.gz -o SRR306730_GSM752573_oan_ht_F_1_R1.fastq.gzcurl -L ftp://ftp.sra.ebi.ac.uk/vol1/fastq//SRR306/SRR306731/SRR306731.fastq.gz -o SRR306731_GSM752575_oan_ht_M_1_R1.fastq.gzcurl -L ftp://ftp.sra.ebi.ac.uk/vol1/fastq//SRR306/SRR306732/SRR306732.fastq.gz -o SRR306732_GSM752576_oan_kd_F_1_R1.fastq.gzcurl -L ftp://ftp.sra.ebi.ac.uk/vol1/fastq//SRR306/SRR306733/SRR306733.fastq.gz -o SRR306733_GSM752578_oan_kd_M_1_R1.fastq.gzcurl -L ftp://ftp.sra.ebi.ac.uk/vol1/fastq//SRR306/SRR306734/SRR306734.fastq.gz -o SRR306734_GSM752578_oan_kd_M_1_R1.fastq.gzcurl -L ftp://ftp.sra.ebi.ac.uk/vol1/fastq//SRR306/SRR306735/SRR306735.fastq.gz -o SRR306735_GSM752580_oan_lv_F_1_R1.fastq.gzcurl -L ftp://ftp.sra.ebi.ac.uk/vol1/fastq//SRR306/SRR306736/SRR306736.fastq.gz -o SRR306736_GSM752580_oan_lv_F_1_R1.fastq.gzcurl -L ftp://ftp.sra.ebi.ac.uk/vol1/fastq//SRR306/SRR306737/SRR306737.fastq.gz -o SRR306737_GSM752581_oan_lv_M_1_R1.fastq.gzcurl -L ftp://ftp.sra.ebi.ac.uk/vol1/fastq//SRR306/SRR306738/SRR306738.fastq.gz -o SRR306738_GSM752581_oan_lv_M_1_R1.fastq.gzcurl -L ftp://ftp.sra.ebi.ac.uk/vol1/fastq//SRR306/SRR306739/SRR306739.fastq.gz -o SRR306739_GSM752583_oan_ts_M_1_R1.fastq.gzcurl -L ftp://ftp.sra.ebi.ac.uk/vol1/fastq//SRR306/SRR306741/SRR306741.fastq.gz -o SRR306741_GSM752585_oan_ts_M_2_R1.fastq.gzcurl -L ftp://ftp.sra.ebi.ac.uk/vol1/fastq//SRR306/SRR306742/SRR306742.fastq.gz -o SRR306742_GSM752588_mdo_br_F_1_R1.fastq.gzcurl -L ftp://ftp.sra.ebi.ac.uk/vol1/fastq//SRR306/SRR306743/SRR306743.fastq.gz -o SRR306743_GSM752588_mdo_br_F_1_R1.fastq.gzcurl -L ftp://ftp.sra.ebi.ac.uk/vol1/fastq//SRR306/SRR306744/SRR306744.fastq.gz -o SRR306744_GSM752590_mdo_br_M_1_R1.fastq.gzcurl -L ftp://ftp.sra.ebi.ac.uk/vol1/fastq//SRR306/SRR306745/SRR306745.fastq.gz -o SRR306745_GSM752592_mdo_cb_F_1_R1.fastq.gzcurl -L ftp://ftp.sra.ebi.ac.uk/vol1/fastq//SRR306/SRR306746/SRR306746.fastq.gz -o SRR306746_GSM752594_mdo_cb_M_1_R1.fastq.gzcurl -L ftp://ftp.sra.ebi.ac.uk/vol1/fastq//SRR306/SRR306747/SRR306747.fastq.gz -o SRR306747_GSM752596_mdo_ht_F_1_R1.fastq.gzcurl -L ftp://ftp.sra.ebi.ac.uk/vol1/fastq//SRR306/SRR306748/SRR306748.fastq.gz -o SRR306748_GSM752596_mdo_ht_F_1_R1.fastq.gzcurl -L ftp://ftp.sra.ebi.ac.uk/vol1/fastq//SRR306/SRR306749/SRR306749.fastq.gz -o SRR306749_GSM752598_mdo_ht_M_1_R1.fastq.gzcurl -L ftp://ftp.sra.ebi.ac.uk/vol1/fastq//SRR306/SRR306750/SRR306750.fastq.gz -o SRR306750_GSM752598_mdo_ht_M_1_R1.fastq.gzcurl -L ftp://ftp.sra.ebi.ac.uk/vol1/fastq//SRR306/SRR306751/SRR306751.fastq.gz -o SRR306751_GSM752601_mdo_kd_F_1_R1.fastq.gzcurl -L ftp://ftp.sra.ebi.ac.uk/vol1/fastq//SRR306/SRR306752/SRR306752.fastq.gz -o SRR306752_GSM752603_mdo_kd_M_1_R1.fastq.gzcurl -L ftp://ftp.sra.ebi.ac.uk/vol1/fastq//SRR306/SRR306753/SRR306753.fastq.gz -o SRR306753_GSM752606_mdo_lv_F_1_R1.fastq.gzcurl -L ftp://ftp.sra.ebi.ac.uk/vol1/fastq//SRR306/SRR306754/SRR306754.fastq.gz -o SRR306754_GSM752608_mdo_lv_M_1_R1.fastq.gzcurl -L ftp://ftp.sra.ebi.ac.uk/vol1/fastq//SRR306/SRR306755/SRR306755.fastq.gz -o SRR306755_GSM752611_mdo_ts_M_1_R1.fastq.gzcurl -L ftp://ftp.sra.ebi.ac.uk/vol1/fastq//SRR306/SRR306756/SRR306756.fastq.gz -o SRR306756_GSM752613_mdo_ts_M_2_R1.fastq.gzcurl -L ftp://ftp.sra.ebi.ac.uk/vol1/fastq//SRR306/SRR306757/SRR306757.fastq.gz -o SRR306757_GSM752614_mmu_br_F_1_R1.fastq.gzcurl -L ftp://ftp.sra.ebi.ac.uk/vol1/fastq//SRR306/SRR306758/SRR306758.fastq.gz -o SRR306758_GSM752615_mmu_br_M_1_R1.fastq.gzcurl -L ftp://ftp.sra.ebi.ac.uk/vol1/fastq//SRR306/SRR306759/SRR306759.fastq.gz -o SRR306759_GSM752615_mmu_br_M_1_R1.fastq.gzcurl -L ftp://ftp.sra.ebi.ac.uk/vol1/fastq//SRR306/SRR306760/SRR306760.fastq.gz -o SRR306760_GSM752615_mmu_br_M_1_R1.fastq.gzcurl -L ftp://ftp.sra.ebi.ac.uk/vol1/fastq//SRR306/SRR306761/SRR306761.fastq.gz -o SRR306761_GSM752615_mmu_br_M_1_R1.fastq.gzcurl -L ftp://ftp.sra.ebi.ac.uk/vol1/fastq//SRR306/SRR306762/SRR306762.fastq.gz -o SRR306762_GSM752616_mmu_br_M_2_R1.fastq.gzcurl -L ftp://ftp.sra.ebi.ac.uk/vol1/fastq//SRR306/SRR306763/SRR306763.fastq.gz -o SRR306763_GSM752617_mmu_cb_F_1_R1.fastq.gzcurl -L ftp://ftp.sra.ebi.ac.uk/vol1/fastq//SRR306/SRR306764/SRR306764.fastq.gz -o SRR306764_GSM752618_mmu_cb_M_1_R1.fastq.gzcurl -L ftp://ftp.sra.ebi.ac.uk/vol1/fastq//SRR306/SRR306765/SRR306765.fastq.gz -o SRR306765_GSM752619_mmu_cb_M_2_R1.fastq.gzcurl -L ftp://ftp.sra.ebi.ac.uk/vol1/fastq//SRR306/SRR306766/SRR306766.fastq.gz -o SRR306766_GSM752620_mmu_ht_F_1_R1.fastq.gzcurl -L ftp://ftp.sra.ebi.ac.uk/vol1/fastq//SRR306/SRR306767/SRR306767.fastq.gz -o SRR306767_GSM752621_mmu_ht_M_1_R1.fastq.gzcurl -L ftp://ftp.sra.ebi.ac.uk/vol1/fastq//SRR306/SRR306768/SRR306768.fastq.gz -o SRR306768_GSM752622_mmu_ht_M_2_R1.fastq.gzcurl -L ftp://ftp.sra.ebi.ac.uk/vol1/fastq//SRR306/SRR306769/SRR306769.fastq.gz -o SRR306769_GSM752623_mmu_kd_F_1_R1.fastq.gzcurl -L ftp://ftp.sra.ebi.ac.uk/vol1/fastq//SRR306/SRR306770/SRR306770.fastq.gz -o SRR306770_GSM752624_mmu_kd_M_1_R1.fastq.gzcurl -L ftp://ftp.sra.ebi.ac.uk/vol1/fastq//SRR306/SRR306771/SRR306771.fastq.gz -o SRR306771_GSM752625_mmu_kd_M_2_R1.fastq.gzcurl -L ftp://ftp.sra.ebi.ac.uk/vol1/fastq//SRR306/SRR306772/SRR306772.fastq.gz -o SRR306772_GSM752626_mmu_lv_F_1_R1.fastq.gzcurl -L ftp://ftp.sra.ebi.ac.uk/vol1/fastq//SRR306/SRR306773/SRR306773.fastq.gz -o SRR306773_GSM752627_mmu_lv_M_1_R1.fastq.gzcurl -L ftp://ftp.sra.ebi.ac.uk/vol1/fastq//SRR306/SRR306774/SRR306774.fastq.gz -o SRR306774_GSM752628_mmu_lv_M_2_R1.fastq.gzcurl -L ftp://ftp.sra.ebi.ac.uk/vol1/fastq//SRR306/SRR306775/SRR306775.fastq.gz -o SRR306775_GSM752629_mmu_ts_M_1_R1.fastq.gzcurl -L ftp://ftp.sra.ebi.ac.uk/vol1/fastq//SRR306/SRR306776/SRR306776.fastq.gz -o SRR306776_GSM752630_mmu_ts_M_2_R1.fastq.gzcurl -L ftp://ftp.sra.ebi.ac.uk/vol1/fastq//SRR306/SRR306777/SRR306777.fastq.gz -o SRR306777_GSM752631_mml_br_F_1_R1.fastq.gzcurl -L ftp://ftp.sra.ebi.ac.uk/vol1/fastq//SRR306/SRR306778/SRR306778.fastq.gz -o SRR306778_GSM752632_mml_br_M_1_R1.fastq.gzcurl -L ftp://ftp.sra.ebi.ac.uk/vol1/fastq//SRR306/SRR306779/SRR306779_1.fastq.gz -o SRR306779_GSM752633_mml_br_M_2_R1.fastq.gzcurl -L ftp://ftp.sra.ebi.ac.uk/vol1/fastq//SRR306/SRR306779/SRR306779_2.fastq.gz -o SRR306779_GSM752633_mml_br_M_2_R2.fastq.gzcurl -L ftp://ftp.sra.ebi.ac.uk/vol1/fastq//SRR306/SRR306780/SRR306780.fastq.gz -o SRR306780_GSM752634_mml_cb_F_1_R1.fastq.gzcurl -L ftp://ftp.sra.ebi.ac.uk/vol1/fastq//SRR306/SRR306781/SRR306781.fastq.gz -o SRR306781_GSM752635_mml_cb_M_1_R1.fastq.gzcurl -L ftp://ftp.sra.ebi.ac.uk/vol1/fastq//SRR306/SRR306782/SRR306782.fastq.gz -o SRR306782_GSM752636_mml_ht_F_1_R1.fastq.gzcurl -L ftp://ftp.sra.ebi.ac.uk/vol1/fastq//SRR306/SRR306783/SRR306783.fastq.gz -o SRR306783_GSM752637_mml_ht_M_1_R1.fastq.gzcurl -L ftp://ftp.sra.ebi.ac.uk/vol1/fastq//SRR306/SRR306784/SRR306784.fastq.gz -o SRR306784_GSM752638_mml_kd_F_1_R1.fastq.gzcurl -L ftp://ftp.sra.ebi.ac.uk/vol1/fastq//SRR306/SRR306785/SRR306785.fastq.gz -o SRR306785_GSM752639_mml_kd_M_1_R1.fastq.gzcurl -L ftp://ftp.sra.ebi.ac.uk/vol1/fastq//SRR306/SRR306786/SRR306786.fastq.gz -o SRR306786_GSM752640_mml_lv_F_1_R1.fastq.gzcurl -L ftp://ftp.sra.ebi.ac.uk/vol1/fastq//SRR306/SRR306787/SRR306787.fastq.gz -o SRR306787_GSM752641_mml_lv_M_1_R1.fastq.gzcurl -L ftp://ftp.sra.ebi.ac.uk/vol1/fastq//SRR306/SRR306788/SRR306788.fastq.gz -o SRR306788_GSM752641_mml_lv_M_1_R1.fastq.gzcurl -L ftp://ftp.sra.ebi.ac.uk/vol1/fastq//SRR306/SRR306789/SRR306789.fastq.gz -o SRR306789_GSM752642_mml_ts_M_1_R1.fastq.gzcurl -L ftp://ftp.sra.ebi.ac.uk/vol1/fastq//SRR306/SRR306790/SRR306790.fastq.gz -o SRR306790_GSM752643_mml_ts_M_2_R1.fastq.gzcurl -L ftp://ftp.sra.ebi.ac.uk/vol1/fastq//SRR306/SRR306791/SRR306791.fastq.gz -o SRR306791_GSM752644_ppy_br_F_1_R1.fastq.gzcurl -L ftp://ftp.sra.ebi.ac.uk/vol1/fastq//SRR306/SRR306792/SRR306792_1.fastq.gz -o SRR306792_GSM752645_ppy_br_M_1_R1.fastq.gzcurl -L ftp://ftp.sra.ebi.ac.uk/vol1/fastq//SRR306/SRR306792/SRR306792_2.fastq.gz -o SRR306792_GSM752645_ppy_br_M_1_R2.fastq.gzcurl -L ftp://ftp.sra.ebi.ac.uk/vol1/fastq//SRR306/SRR306793/SRR306793.fastq.gz -o SRR306793_GSM752646_ppy_cb_F_1_R1.fastq.gzcurl -L ftp://ftp.sra.ebi.ac.uk/vol1/fastq//SRR306/SRR306794/SRR306794.fastq.gz -o SRR306794_GSM752647_ppy_ht_F_1_R1.fastq.gzcurl -L ftp://ftp.sra.ebi.ac.uk/vol1/fastq//SRR306/SRR306795/SRR306795.fastq.gz -o SRR306795_GSM752648_ppy_ht_M_1_R1.fastq.gzcurl -L ftp://ftp.sra.ebi.ac.uk/vol1/fastq//SRR306/SRR306796/SRR306796.fastq.gz -o SRR306796_GSM752649_ppy_kd_F_1_R1.fastq.gzcurl -L ftp://ftp.sra.ebi.ac.uk/vol1/fastq//SRR306/SRR306797/SRR306797.fastq.gz -o SRR306797_GSM752650_ppy_kd_M_1_R1.fastq.gzcurl -L ftp://ftp.sra.ebi.ac.uk/vol1/fastq//SRR306/SRR306798/SRR306798.fastq.gz -o SRR306798_GSM752651_ppy_lv_F_1_R1.fastq.gzcurl -L ftp://ftp.sra.ebi.ac.uk/vol1/fastq//SRR306/SRR306799/SRR306799.fastq.gz -o SRR306799_GSM752652_ppy_lv_M_1_R1.fastq.gzcurl -L ftp://ftp.sra.ebi.ac.uk/vol1/fastq//SRR306/SRR306800/SRR306800.fastq.gz -o SRR306800_GSM752653_ggo_br_F_1_R1.fastq.gzcurl -L ftp://ftp.sra.ebi.ac.uk/vol1/fastq//SRR306/SRR306801/SRR306801_1.fastq.gz -o SRR306801_GSM752654_ggo_br_M_1_R1.fastq.gzcurl -L ftp://ftp.sra.ebi.ac.uk/vol1/fastq//SRR306/SRR306801/SRR306801_2.fastq.gz -o SRR306801_GSM752654_ggo_br_M_1_R2.fastq.gzcurl -L ftp://ftp.sra.ebi.ac.uk/vol1/fastq//SRR306/SRR306802/SRR306802.fastq.gz -o SRR306802_GSM752655_ggo_cb_F_1_R1.fastq.gzcurl -L ftp://ftp.sra.ebi.ac.uk/vol1/fastq//SRR306/SRR306803/SRR306803.fastq.gz -o SRR306803_GSM752656_ggo_cb_M_1_R1.fastq.gzcurl -L ftp://ftp.sra.ebi.ac.uk/vol1/fastq//SRR306/SRR306804/SRR306804.fastq.gz -o SRR306804_GSM752657_ggo_ht_F_1_R1.fastq.gzcurl -L ftp://ftp.sra.ebi.ac.uk/vol1/fastq//SRR306/SRR306805/SRR306805.fastq.gz -o SRR306805_GSM752658_ggo_ht_M_1_R1.fastq.gzcurl -L ftp://ftp.sra.ebi.ac.uk/vol1/fastq//SRR306/SRR306806/SRR306806.fastq.gz -o SRR306806_GSM752659_ggo_kd_F_1_R1.fastq.gzcurl -L ftp://ftp.sra.ebi.ac.uk/vol1/fastq//SRR306/SRR306808/SRR306808.fastq.gz -o SRR306808_GSM752661_ggo_lv_F_1_R1.fastq.gzcurl -L ftp://ftp.sra.ebi.ac.uk/vol1/fastq//SRR306/SRR306809/SRR306809.fastq.gz -o SRR306809_GSM752662_ggo_lv_M_1_R1.fastq.gzcurl -L ftp://ftp.sra.ebi.ac.uk/vol1/fastq//SRR306/SRR306810/SRR306810.fastq.gz -o SRR306810_GSM752663_ggo_ts_M_1_R1.fastq.gzcurl -L ftp://ftp.sra.ebi.ac.uk/vol1/fastq//SRR306/SRR306811/SRR306811.fastq.gz -o SRR306811_GSM752664_ptr_br_F_1_R1.fastq.gzcurl -L ftp://ftp.sra.ebi.ac.uk/vol1/fastq//SRR306/SRR306812/SRR306812_1.fastq.gz -o SRR306812_GSM752665_ptr_br_M_1_R1.fastq.gzcurl -L ftp://ftp.sra.ebi.ac.uk/vol1/fastq//SRR306/SRR306812/SRR306812_2.fastq.gz -o SRR306812_GSM752665_ptr_br_M_1_R2.fastq.gzcurl -L ftp://ftp.sra.ebi.ac.uk/vol1/fastq//SRR306/SRR306813/SRR306813_1.fastq.gz -o SRR306813_GSM752666_ptr_br_M_2_R1.fastq.gzcurl -L ftp://ftp.sra.ebi.ac.uk/vol1/fastq//SRR306/SRR306813/SRR306813_2.fastq.gz -o SRR306813_GSM752666_ptr_br_M_2_R2.fastq.gzcurl -L ftp://ftp.sra.ebi.ac.uk/vol1/fastq//SRR306/SRR306814/SRR306814_1.fastq.gz -o SRR306814_GSM752667_ptr_br_M_3_R1.fastq.gzcurl -L ftp://ftp.sra.ebi.ac.uk/vol1/fastq//SRR306/SRR306814/SRR306814_2.fastq.gz -o SRR306814_GSM752667_ptr_br_M_3_R2.fastq.gzcurl -L ftp://ftp.sra.ebi.ac.uk/vol1/fastq//SRR306/SRR306815/SRR306815_1.fastq.gz -o SRR306815_GSM752668_ptr_br_M_4_R1.fastq.gzcurl -L ftp://ftp.sra.ebi.ac.uk/vol1/fastq//SRR306/SRR306815/SRR306815_2.fastq.gz -o SRR306815_GSM752668_ptr_br_M_4_R2.fastq.gzcurl -L ftp://ftp.sra.ebi.ac.uk/vol1/fastq//SRR306/SRR306816/SRR306816_1.fastq.gz -o SRR306816_GSM752669_ptr_br_M_5_R1.fastq.gzcurl -L ftp://ftp.sra.ebi.ac.uk/vol1/fastq//SRR306/SRR306816/SRR306816_2.fastq.gz -o SRR306816_GSM752669_ptr_br_M_5_R2.fastq.gzcurl -L ftp://ftp.sra.ebi.ac.uk/vol1/fastq//SRR306/SRR306817/SRR306817.fastq.gz -o SRR306817_GSM752670_ptr_cb_F_1_R1.fastq.gzcurl -L ftp://ftp.sra.ebi.ac.uk/vol1/fastq//SRR306/SRR306818/SRR306818.fastq.gz -o SRR306818_GSM752671_ptr_cb_M_1_R1.fastq.gzcurl -L ftp://ftp.sra.ebi.ac.uk/vol1/fastq//SRR306/SRR306819/SRR306819.fastq.gz -o SRR306819_GSM752672_ptr_ht_F_1_R1.fastq.gzcurl -L ftp://ftp.sra.ebi.ac.uk/vol1/fastq//SRR306/SRR306820/SRR306820.fastq.gz -o SRR306820_GSM752673_ptr_ht_M_1_R1.fastq.gzcurl -L ftp://ftp.sra.ebi.ac.uk/vol1/fastq//SRR306/SRR306821/SRR306821.fastq.gz -o SRR306821_GSM752674_ptr_kd_F_1_R1.fastq.gzcurl -L ftp://ftp.sra.ebi.ac.uk/vol1/fastq//SRR306/SRR306822/SRR306822.fastq.gz -o SRR306822_GSM752675_ptr_kd_M_1_R1.fastq.gzcurl -L ftp://ftp.sra.ebi.ac.uk/vol1/fastq//SRR306/SRR306823/SRR306823.fastq.gz -o SRR306823_GSM752676_ptr_lv_F_1_R1.fastq.gzcurl -L ftp://ftp.sra.ebi.ac.uk/vol1/fastq//SRR306/SRR306824/SRR306824.fastq.gz -o SRR306824_GSM752677_ptr_lv_M_1_R1.fastq.gzcurl -L ftp://ftp.sra.ebi.ac.uk/vol1/fastq//SRR306/SRR306825/SRR306825.fastq.gz -o SRR306825_GSM752678_ptr_ts_M_1_R1.fastq.gzcurl -L ftp://ftp.sra.ebi.ac.uk/vol1/fastq//SRR306/SRR306826/SRR306826_1.fastq.gz -o SRR306826_GSM752679_ppa_br_F_1_R1.fastq.gzcurl -L ftp://ftp.sra.ebi.ac.uk/vol1/fastq//SRR306/SRR306826/SRR306826_2.fastq.gz -o SRR306826_GSM752679_ppa_br_F_1_R2.fastq.gzcurl -L ftp://ftp.sra.ebi.ac.uk/vol1/fastq//SRR306/SRR306827/SRR306827.fastq.gz -o SRR306827_GSM752680_ppa_br_F_2_R1.fastq.gzcurl -L ftp://ftp.sra.ebi.ac.uk/vol1/fastq//SRR306/SRR306828/SRR306828.fastq.gz -o SRR306828_GSM752681_ppa_br_M_1_R1.fastq.gzcurl -L ftp://ftp.sra.ebi.ac.uk/vol1/fastq//SRR306/SRR306829/SRR306829.fastq.gz -o SRR306829_GSM752682_ppa_cb_F_1_R1.fastq.gzcurl -L ftp://ftp.sra.ebi.ac.uk/vol1/fastq//SRR306/SRR306830/SRR306830.fastq.gz -o SRR306830_GSM752683_ppa_cb_M_1_R1.fastq.gzcurl -L ftp://ftp.sra.ebi.ac.uk/vol1/fastq//SRR306/SRR306831/SRR306831.fastq.gz -o SRR306831_GSM752684_ppa_ht_F_1_R1.fastq.gzcurl -L ftp://ftp.sra.ebi.ac.uk/vol1/fastq//SRR306/SRR306832/SRR306832.fastq.gz -o SRR306832_GSM752685_ppa_ht_M_1_R1.fastq.gzcurl -L ftp://ftp.sra.ebi.ac.uk/vol1/fastq//SRR306/SRR306833/SRR306833.fastq.gz -o SRR306833_GSM752686_ppa_kd_F_1_R1.fastq.gzcurl -L ftp://ftp.sra.ebi.ac.uk/vol1/fastq//SRR306/SRR306834/SRR306834.fastq.gz -o SRR306834_GSM752687_ppa_kd_M_1_R1.fastq.gzcurl -L ftp://ftp.sra.ebi.ac.uk/vol1/fastq//SRR306/SRR306835/SRR306835.fastq.gz -o SRR306835_GSM752688_ppa_lv_F_1_R1.fastq.gzcurl -L ftp://ftp.sra.ebi.ac.uk/vol1/fastq//SRR306/SRR306836/SRR306836.fastq.gz -o SRR306836_GSM752689_ppa_lv_M_1_R1.fastq.gzcurl -L ftp://ftp.sra.ebi.ac.uk/vol1/fastq//SRR306/SRR306837/SRR306837.fastq.gz -o SRR306837_GSM752690_ppa_ts_M_1_R1.fastq.gzcurl -L ftp://ftp.sra.ebi.ac.uk/vol1/fastq//SRR306/SRR306838/SRR306838.fastq.gz -o SRR306838_GSM752691_hsa_br_F_1_R1.fastq.gzcurl -L ftp://ftp.sra.ebi.ac.uk/vol1/fastq//SRR306/SRR306839/SRR306839.fastq.gz -o SRR306839_GSM752692_hsa_br_M_3_R1.fastq.gzcurl -L ftp://ftp.sra.ebi.ac.uk/vol1/fastq//SRR306/SRR306840/SRR306840_1.fastq.gz -o SRR306840_GSM752693_hsa_br_M_1_R1.fastq.gzcurl -L ftp://ftp.sra.ebi.ac.uk/vol1/fastq//SRR306/SRR306840/SRR306840_2.fastq.gz -o SRR306840_GSM752693_hsa_br_M_1_R2.fastq.gzcurl -L ftp://ftp.sra.ebi.ac.uk/vol1/fastq//SRR306/SRR306841/SRR306841.fastq.gz -o SRR306841_GSM752694_hsa_br_M_2_R1.fastq.gzcurl -L ftp://ftp.sra.ebi.ac.uk/vol1/fastq//SRR306/SRR306842/SRR306842_1.fastq.gz -o SRR306842_GSM752695_hsa_br_M_4_R1.fastq.gzcurl -L ftp://ftp.sra.ebi.ac.uk/vol1/fastq//SRR306/SRR306842/SRR306842_2.fastq.gz -o SRR306842_GSM752695_hsa_br_M_4_R2.fastq.gzcurl -L ftp://ftp.sra.ebi.ac.uk/vol1/fastq//SRR306/SRR306843/SRR306843.fastq.gz -o SRR306843_GSM752696_hsa_br_M_5_R1.fastq.gzcurl -L ftp://ftp.sra.ebi.ac.uk/vol1/fastq//SRR306/SRR306844/SRR306844.fastq.gz -o SRR306844_GSM752697_hsa_cb_F_1_R1.fastq.gzcurl -L ftp://ftp.sra.ebi.ac.uk/vol1/fastq//SRR306/SRR306845/SRR306845.fastq.gz -o SRR306845_GSM752698_hsa_cb_M_1_R1.fastq.gzcurl -L ftp://ftp.sra.ebi.ac.uk/vol1/fastq//SRR306/SRR306846/SRR306846.fastq.gz -o SRR306846_GSM752698_hsa_cb_M_1_R1.fastq.gzcurl -L ftp://ftp.sra.ebi.ac.uk/vol1/fastq//SRR306/SRR306847/SRR306847.fastq.gz -o SRR306847_GSM752699_hsa_ht_F_1_R1.fastq.gzcurl -L ftp://ftp.sra.ebi.ac.uk/vol1/fastq//SRR306/SRR306848/SRR306848.fastq.gz -o SRR306848_GSM752700_hsa_ht_M_1_R1.fastq.gzcurl -L ftp://ftp.sra.ebi.ac.uk/vol1/fastq//SRR306/SRR306849/SRR306849.fastq.gz -o SRR306849_GSM752700_hsa_ht_M_1_R1.fastq.gzcurl -L ftp://ftp.sra.ebi.ac.uk/vol1/fastq//SRR306/SRR306850/SRR306850.fastq.gz -o SRR306850_GSM752701_hsa_ht_M_2_R1.fastq.gzcurl -L ftp://ftp.sra.ebi.ac.uk/vol1/fastq//SRR306/SRR306851/SRR306851.fastq.gz -o SRR306851_GSM752702_hsa_kd_F_1_R1.fastq.gzcurl -L ftp://ftp.sra.ebi.ac.uk/vol1/fastq//SRR306/SRR306852/SRR306852.fastq.gz -o SRR306852_GSM752703_hsa_kd_M_1_R1.fastq.gzcurl -L ftp://ftp.sra.ebi.ac.uk/vol1/fastq//SRR306/SRR306853/SRR306853.fastq.gz -o SRR306853_GSM752704_hsa_kd_M_2_R1.fastq.gzcurl -L ftp://ftp.sra.ebi.ac.uk/vol1/fastq//SRR306/SRR306854/SRR306854.fastq.gz -o SRR306854_GSM752705_hsa_lv_M_1_R1.fastq.gzcurl -L ftp://ftp.sra.ebi.ac.uk/vol1/fastq//SRR306/SRR306855/SRR306855.fastq.gz -o SRR306855_GSM752705_hsa_lv_M_1_R1.fastq.gzcurl -L ftp://ftp.sra.ebi.ac.uk/vol1/fastq//SRR306/SRR306856/SRR306856.fastq.gz -o SRR306856_GSM752706_hsa_lv_M_2_R1.fastq.gzcurl -L ftp://ftp.sra.ebi.ac.uk/vol1/fastq//SRR306/SRR306857/SRR306857.fastq.gz -o SRR306857_GSM752707_hsa_ts_M_1_R1.fastq.gzcurl -L ftp://ftp.sra.ebi.ac.uk/vol1/fastq//SRR306/SRR306858/SRR306858.fastq.gz -o SRR306858_GSM752708_hsa_ts_M_2_R1.fastq.gzcurl -L ftp://ftp.sra.ebi.ac.uk/vol1/fastq//SRR306/SRR306807/SRR306807.fastq.gz -o SRR306807_GSM752660_ggo_kd_M_1_R1.fastq.gzcurl -L ftp://ftp.sra.ebi.ac.uk/vol1/fastq//SRR306/SRR306740/SRR306740.fastq.gz -o SRR306740_GSM752585_oan_ts_M_2_R1.fastq.gz"
      }
     ],
     "persistentId": "1ec86349-f5c0-4c53-a82a-37d10e756a1d",
     "text": "with open(sh, 'w') as f:\n    f.writelines(commands)\n! head $sh"
    },
    "executionTime": "2019-11-05T16:00:08.258Z"
   },
   {
    "cell": {
     "executionCount": 39,
     "executionEventId": "68f94ad8-0637-447f-829a-b2edd95150ce",
     "hasError": false,
     "id": "d907b1f4-f356-4b3b-8751-2748813d2d19",
     "outputs": [
      {
       "data": {
        "text/plain": "['curl -L ftp://ftp.sra.ebi.ac.uk/vol1/fastq//SRR306/SRR306710/SRR306710.fastq.gz -o SRR306710_GSM752557_gga_br_F_1_R1.fastq.gz\\n',\n 'curl -L ftp://ftp.sra.ebi.ac.uk/vol1/fastq//SRR306/SRR306711/SRR306711.fastq.gz -o SRR306711_GSM752558_gga_br_M_1_R1.fastq.gz\\n',\n 'curl -L ftp://ftp.sra.ebi.ac.uk/vol1/fastq//SRR306/SRR306712/SRR306712.fastq.gz -o SRR306712_GSM752559_gga_cb_F_1_R1.fastq.gz\\n',\n 'curl -L ftp://ftp.sra.ebi.ac.uk/vol1/fastq//SRR306/SRR306713/SRR306713.fastq.gz -o SRR306713_GSM752560_gga_cb_M_1_R1.fastq.gz\\n',\n 'curl -L ftp://ftp.sra.ebi.ac.uk/vol1/fastq//SRR306/SRR306714/SRR306714.fastq.gz -o SRR306714_GSM752561_gga_ht_F_1_R1.fastq.gz\\n',\n 'curl -L ftp://ftp.sra.ebi.ac.uk/vol1/fastq//SRR306/SRR306715/SRR306715.fastq.gz -o SRR306715_GSM752562_gga_ht_M_1_R1.fastq.gz\\n',\n 'curl -L ftp://ftp.sra.ebi.ac.uk/vol1/fastq//SRR306/SRR306716/SRR306716.fastq.gz -o SRR306716_GSM752563_gga_kd_F_1_R1.fastq.gz\\n',\n 'curl -L ftp://ftp.sra.ebi.ac.uk/vol1/fastq//SRR306/SRR306717/SRR306717.fastq.gz -o SRR306717_GSM752564_gga_kd_M_1_R1.fastq.gz\\n',\n 'curl -L ftp://ftp.sra.ebi.ac.uk/vol1/fastq//SRR306/SRR306718/SRR306718.fastq.gz -o SRR306718_GSM752565_gga_lv_F_1_R1.fastq.gz\\n',\n 'curl -L ftp://ftp.sra.ebi.ac.uk/vol1/fastq//SRR306/SRR306719/SRR306719.fastq.gz -o SRR306719_GSM752566_gga_lv_M_1_R1.fastq.gz\\n',\n 'curl -L ftp://ftp.sra.ebi.ac.uk/vol1/fastq//SRR306/SRR306720/SRR306720.fastq.gz -o SRR306720_GSM752566_gga_lv_M_1_R1.fastq.gz\\n',\n 'curl -L ftp://ftp.sra.ebi.ac.uk/vol1/fastq//SRR306/SRR306721/SRR306721.fastq.gz -o SRR306721_GSM752567_gga_ts_M_1_R1.fastq.gz\\n',\n 'curl -L ftp://ftp.sra.ebi.ac.uk/vol1/fastq//SRR306/SRR306722/SRR306722.fastq.gz -o SRR306722_GSM752567_gga_ts_M_1_R1.fastq.gz\\n',\n 'curl -L ftp://ftp.sra.ebi.ac.uk/vol1/fastq//SRR306/SRR306723/SRR306723.fastq.gz -o SRR306723_GSM752568_gga_ts_M_2_R1.fastq.gz\\n',\n 'curl -L ftp://ftp.sra.ebi.ac.uk/vol1/fastq//SRR306/SRR306724/SRR306724.fastq.gz -o SRR306724_GSM752569_oan_br_F_1_R1.fastq.gz\\n',\n 'curl -L ftp://ftp.sra.ebi.ac.uk/vol1/fastq//SRR306/SRR306725/SRR306725.fastq.gz -o SRR306725_GSM752569_oan_br_F_1_R1.fastq.gz\\n',\n 'curl -L ftp://ftp.sra.ebi.ac.uk/vol1/fastq//SRR306/SRR306726/SRR306726.fastq.gz -o SRR306726_GSM752570_oan_br_M_1_R1.fastq.gz\\n',\n 'curl -L ftp://ftp.sra.ebi.ac.uk/vol1/fastq//SRR306/SRR306727/SRR306727.fastq.gz -o SRR306727_GSM752570_oan_br_M_1_R1.fastq.gz\\n',\n 'curl -L ftp://ftp.sra.ebi.ac.uk/vol1/fastq//SRR306/SRR306728/SRR306728.fastq.gz -o SRR306728_GSM752571_oan_cb_F_1_R1.fastq.gz\\n',\n 'curl -L ftp://ftp.sra.ebi.ac.uk/vol1/fastq//SRR306/SRR306729/SRR306729.fastq.gz -o SRR306729_GSM752572_oan_cb_M_1_R1.fastq.gz\\n',\n 'curl -L ftp://ftp.sra.ebi.ac.uk/vol1/fastq//SRR306/SRR306730/SRR306730.fastq.gz -o SRR306730_GSM752573_oan_ht_F_1_R1.fastq.gz\\n',\n 'curl -L ftp://ftp.sra.ebi.ac.uk/vol1/fastq//SRR306/SRR306731/SRR306731.fastq.gz -o SRR306731_GSM752575_oan_ht_M_1_R1.fastq.gz\\n',\n 'curl -L ftp://ftp.sra.ebi.ac.uk/vol1/fastq//SRR306/SRR306732/SRR306732.fastq.gz -o SRR306732_GSM752576_oan_kd_F_1_R1.fastq.gz\\n',\n 'curl -L ftp://ftp.sra.ebi.ac.uk/vol1/fastq//SRR306/SRR306733/SRR306733.fastq.gz -o SRR306733_GSM752578_oan_kd_M_1_R1.fastq.gz\\n',\n 'curl -L ftp://ftp.sra.ebi.ac.uk/vol1/fastq//SRR306/SRR306734/SRR306734.fastq.gz -o SRR306734_GSM752578_oan_kd_M_1_R1.fastq.gz\\n',\n 'curl -L ftp://ftp.sra.ebi.ac.uk/vol1/fastq//SRR306/SRR306735/SRR306735.fastq.gz -o SRR306735_GSM752580_oan_lv_F_1_R1.fastq.gz\\n',\n 'curl -L ftp://ftp.sra.ebi.ac.uk/vol1/fastq//SRR306/SRR306736/SRR306736.fastq.gz -o SRR306736_GSM752580_oan_lv_F_1_R1.fastq.gz\\n',\n 'curl -L ftp://ftp.sra.ebi.ac.uk/vol1/fastq//SRR306/SRR306737/SRR306737.fastq.gz -o SRR306737_GSM752581_oan_lv_M_1_R1.fastq.gz\\n',\n 'curl -L ftp://ftp.sra.ebi.ac.uk/vol1/fastq//SRR306/SRR306738/SRR306738.fastq.gz -o SRR306738_GSM752581_oan_lv_M_1_R1.fastq.gz\\n',\n 'curl -L ftp://ftp.sra.ebi.ac.uk/vol1/fastq//SRR306/SRR306739/SRR306739.fastq.gz -o SRR306739_GSM752583_oan_ts_M_1_R1.fastq.gz\\n',\n 'curl -L ftp://ftp.sra.ebi.ac.uk/vol1/fastq//SRR306/SRR306741/SRR306741.fastq.gz -o SRR306741_GSM752585_oan_ts_M_2_R1.fastq.gz\\n',\n 'curl -L ftp://ftp.sra.ebi.ac.uk/vol1/fastq//SRR306/SRR306742/SRR306742.fastq.gz -o SRR306742_GSM752588_mdo_br_F_1_R1.fastq.gz\\n',\n 'curl -L ftp://ftp.sra.ebi.ac.uk/vol1/fastq//SRR306/SRR306743/SRR306743.fastq.gz -o SRR306743_GSM752588_mdo_br_F_1_R1.fastq.gz\\n',\n 'curl -L ftp://ftp.sra.ebi.ac.uk/vol1/fastq//SRR306/SRR306744/SRR306744.fastq.gz -o SRR306744_GSM752590_mdo_br_M_1_R1.fastq.gz\\n',\n 'curl -L ftp://ftp.sra.ebi.ac.uk/vol1/fastq//SRR306/SRR306745/SRR306745.fastq.gz -o SRR306745_GSM752592_mdo_cb_F_1_R1.fastq.gz\\n',\n 'curl -L ftp://ftp.sra.ebi.ac.uk/vol1/fastq//SRR306/SRR306746/SRR306746.fastq.gz -o SRR306746_GSM752594_mdo_cb_M_1_R1.fastq.gz\\n',\n 'curl -L ftp://ftp.sra.ebi.ac.uk/vol1/fastq//SRR306/SRR306747/SRR306747.fastq.gz -o SRR306747_GSM752596_mdo_ht_F_1_R1.fastq.gz\\n',\n 'curl -L ftp://ftp.sra.ebi.ac.uk/vol1/fastq//SRR306/SRR306748/SRR306748.fastq.gz -o SRR306748_GSM752596_mdo_ht_F_1_R1.fastq.gz\\n',\n 'curl -L ftp://ftp.sra.ebi.ac.uk/vol1/fastq//SRR306/SRR306749/SRR306749.fastq.gz -o SRR306749_GSM752598_mdo_ht_M_1_R1.fastq.gz\\n',\n 'curl -L ftp://ftp.sra.ebi.ac.uk/vol1/fastq//SRR306/SRR306750/SRR306750.fastq.gz -o SRR306750_GSM752598_mdo_ht_M_1_R1.fastq.gz\\n',\n 'curl -L ftp://ftp.sra.ebi.ac.uk/vol1/fastq//SRR306/SRR306751/SRR306751.fastq.gz -o SRR306751_GSM752601_mdo_kd_F_1_R1.fastq.gz\\n',\n 'curl -L ftp://ftp.sra.ebi.ac.uk/vol1/fastq//SRR306/SRR306752/SRR306752.fastq.gz -o SRR306752_GSM752603_mdo_kd_M_1_R1.fastq.gz\\n',\n 'curl -L ftp://ftp.sra.ebi.ac.uk/vol1/fastq//SRR306/SRR306753/SRR306753.fastq.gz -o SRR306753_GSM752606_mdo_lv_F_1_R1.fastq.gz\\n',\n 'curl -L ftp://ftp.sra.ebi.ac.uk/vol1/fastq//SRR306/SRR306754/SRR306754.fastq.gz -o SRR306754_GSM752608_mdo_lv_M_1_R1.fastq.gz\\n',\n 'curl -L ftp://ftp.sra.ebi.ac.uk/vol1/fastq//SRR306/SRR306755/SRR306755.fastq.gz -o SRR306755_GSM752611_mdo_ts_M_1_R1.fastq.gz\\n',\n 'curl -L ftp://ftp.sra.ebi.ac.uk/vol1/fastq//SRR306/SRR306756/SRR306756.fastq.gz -o SRR306756_GSM752613_mdo_ts_M_2_R1.fastq.gz\\n',\n 'curl -L ftp://ftp.sra.ebi.ac.uk/vol1/fastq//SRR306/SRR306757/SRR306757.fastq.gz -o SRR306757_GSM752614_mmu_br_F_1_R1.fastq.gz\\n',\n 'curl -L ftp://ftp.sra.ebi.ac.uk/vol1/fastq//SRR306/SRR306758/SRR306758.fastq.gz -o SRR306758_GSM752615_mmu_br_M_1_R1.fastq.gz\\n',\n 'curl -L ftp://ftp.sra.ebi.ac.uk/vol1/fastq//SRR306/SRR306759/SRR306759.fastq.gz -o SRR306759_GSM752615_mmu_br_M_1_R1.fastq.gz\\n',\n 'curl -L ftp://ftp.sra.ebi.ac.uk/vol1/fastq//SRR306/SRR306760/SRR306760.fastq.gz -o SRR306760_GSM752615_mmu_br_M_1_R1.fastq.gz\\n',\n 'curl -L ftp://ftp.sra.ebi.ac.uk/vol1/fastq//SRR306/SRR306761/SRR306761.fastq.gz -o SRR306761_GSM752615_mmu_br_M_1_R1.fastq.gz\\n',\n 'curl -L ftp://ftp.sra.ebi.ac.uk/vol1/fastq//SRR306/SRR306762/SRR306762.fastq.gz -o SRR306762_GSM752616_mmu_br_M_2_R1.fastq.gz\\n',\n 'curl -L ftp://ftp.sra.ebi.ac.uk/vol1/fastq//SRR306/SRR306763/SRR306763.fastq.gz -o SRR306763_GSM752617_mmu_cb_F_1_R1.fastq.gz\\n',\n 'curl -L ftp://ftp.sra.ebi.ac.uk/vol1/fastq//SRR306/SRR306764/SRR306764.fastq.gz -o SRR306764_GSM752618_mmu_cb_M_1_R1.fastq.gz\\n',\n 'curl -L ftp://ftp.sra.ebi.ac.uk/vol1/fastq//SRR306/SRR306765/SRR306765.fastq.gz -o SRR306765_GSM752619_mmu_cb_M_2_R1.fastq.gz\\n',\n 'curl -L ftp://ftp.sra.ebi.ac.uk/vol1/fastq//SRR306/SRR306766/SRR306766.fastq.gz -o SRR306766_GSM752620_mmu_ht_F_1_R1.fastq.gz\\n',\n 'curl -L ftp://ftp.sra.ebi.ac.uk/vol1/fastq//SRR306/SRR306767/SRR306767.fastq.gz -o SRR306767_GSM752621_mmu_ht_M_1_R1.fastq.gz\\n',\n 'curl -L ftp://ftp.sra.ebi.ac.uk/vol1/fastq//SRR306/SRR306768/SRR306768.fastq.gz -o SRR306768_GSM752622_mmu_ht_M_2_R1.fastq.gz\\n',\n 'curl -L ftp://ftp.sra.ebi.ac.uk/vol1/fastq//SRR306/SRR306769/SRR306769.fastq.gz -o SRR306769_GSM752623_mmu_kd_F_1_R1.fastq.gz\\n',\n 'curl -L ftp://ftp.sra.ebi.ac.uk/vol1/fastq//SRR306/SRR306770/SRR306770.fastq.gz -o SRR306770_GSM752624_mmu_kd_M_1_R1.fastq.gz\\n',\n 'curl -L ftp://ftp.sra.ebi.ac.uk/vol1/fastq//SRR306/SRR306771/SRR306771.fastq.gz -o SRR306771_GSM752625_mmu_kd_M_2_R1.fastq.gz\\n',\n 'curl -L ftp://ftp.sra.ebi.ac.uk/vol1/fastq//SRR306/SRR306772/SRR306772.fastq.gz -o SRR306772_GSM752626_mmu_lv_F_1_R1.fastq.gz\\n',\n 'curl -L ftp://ftp.sra.ebi.ac.uk/vol1/fastq//SRR306/SRR306773/SRR306773.fastq.gz -o SRR306773_GSM752627_mmu_lv_M_1_R1.fastq.gz\\n',\n 'curl -L ftp://ftp.sra.ebi.ac.uk/vol1/fastq//SRR306/SRR306774/SRR306774.fastq.gz -o SRR306774_GSM752628_mmu_lv_M_2_R1.fastq.gz\\n',\n 'curl -L ftp://ftp.sra.ebi.ac.uk/vol1/fastq//SRR306/SRR306775/SRR306775.fastq.gz -o SRR306775_GSM752629_mmu_ts_M_1_R1.fastq.gz\\n',\n 'curl -L ftp://ftp.sra.ebi.ac.uk/vol1/fastq//SRR306/SRR306776/SRR306776.fastq.gz -o SRR306776_GSM752630_mmu_ts_M_2_R1.fastq.gz\\n',\n 'curl -L ftp://ftp.sra.ebi.ac.uk/vol1/fastq//SRR306/SRR306777/SRR306777.fastq.gz -o SRR306777_GSM752631_mml_br_F_1_R1.fastq.gz\\n',\n 'curl -L ftp://ftp.sra.ebi.ac.uk/vol1/fastq//SRR306/SRR306778/SRR306778.fastq.gz -o SRR306778_GSM752632_mml_br_M_1_R1.fastq.gz\\n',\n 'curl -L ftp://ftp.sra.ebi.ac.uk/vol1/fastq//SRR306/SRR306779/SRR306779_1.fastq.gz -o SRR306779_GSM752633_mml_br_M_2_R1.fastq.gz\\n',\n 'curl -L ftp://ftp.sra.ebi.ac.uk/vol1/fastq//SRR306/SRR306779/SRR306779_2.fastq.gz -o SRR306779_GSM752633_mml_br_M_2_R2.fastq.gz\\n',\n 'curl -L ftp://ftp.sra.ebi.ac.uk/vol1/fastq//SRR306/SRR306780/SRR306780.fastq.gz -o SRR306780_GSM752634_mml_cb_F_1_R1.fastq.gz\\n',\n 'curl -L ftp://ftp.sra.ebi.ac.uk/vol1/fastq//SRR306/SRR306781/SRR306781.fastq.gz -o SRR306781_GSM752635_mml_cb_M_1_R1.fastq.gz\\n',\n 'curl -L ftp://ftp.sra.ebi.ac.uk/vol1/fastq//SRR306/SRR306782/SRR306782.fastq.gz -o SRR306782_GSM752636_mml_ht_F_1_R1.fastq.gz\\n',\n 'curl -L ftp://ftp.sra.ebi.ac.uk/vol1/fastq//SRR306/SRR306783/SRR306783.fastq.gz -o SRR306783_GSM752637_mml_ht_M_1_R1.fastq.gz\\n',\n 'curl -L ftp://ftp.sra.ebi.ac.uk/vol1/fastq//SRR306/SRR306784/SRR306784.fastq.gz -o SRR306784_GSM752638_mml_kd_F_1_R1.fastq.gz\\n',\n 'curl -L ftp://ftp.sra.ebi.ac.uk/vol1/fastq//SRR306/SRR306785/SRR306785.fastq.gz -o SRR306785_GSM752639_mml_kd_M_1_R1.fastq.gz\\n',\n 'curl -L ftp://ftp.sra.ebi.ac.uk/vol1/fastq//SRR306/SRR306786/SRR306786.fastq.gz -o SRR306786_GSM752640_mml_lv_F_1_R1.fastq.gz\\n',\n 'curl -L ftp://ftp.sra.ebi.ac.uk/vol1/fastq//SRR306/SRR306787/SRR306787.fastq.gz -o SRR306787_GSM752641_mml_lv_M_1_R1.fastq.gz\\n',\n 'curl -L ftp://ftp.sra.ebi.ac.uk/vol1/fastq//SRR306/SRR306788/SRR306788.fastq.gz -o SRR306788_GSM752641_mml_lv_M_1_R1.fastq.gz\\n',\n 'curl -L ftp://ftp.sra.ebi.ac.uk/vol1/fastq//SRR306/SRR306789/SRR306789.fastq.gz -o SRR306789_GSM752642_mml_ts_M_1_R1.fastq.gz\\n',\n 'curl -L ftp://ftp.sra.ebi.ac.uk/vol1/fastq//SRR306/SRR306790/SRR306790.fastq.gz -o SRR306790_GSM752643_mml_ts_M_2_R1.fastq.gz\\n',\n 'curl -L ftp://ftp.sra.ebi.ac.uk/vol1/fastq//SRR306/SRR306791/SRR306791.fastq.gz -o SRR306791_GSM752644_ppy_br_F_1_R1.fastq.gz\\n',\n 'curl -L ftp://ftp.sra.ebi.ac.uk/vol1/fastq//SRR306/SRR306792/SRR306792_1.fastq.gz -o SRR306792_GSM752645_ppy_br_M_1_R1.fastq.gz\\n',\n 'curl -L ftp://ftp.sra.ebi.ac.uk/vol1/fastq//SRR306/SRR306792/SRR306792_2.fastq.gz -o SRR306792_GSM752645_ppy_br_M_1_R2.fastq.gz\\n',\n 'curl -L ftp://ftp.sra.ebi.ac.uk/vol1/fastq//SRR306/SRR306793/SRR306793.fastq.gz -o SRR306793_GSM752646_ppy_cb_F_1_R1.fastq.gz\\n',\n 'curl -L ftp://ftp.sra.ebi.ac.uk/vol1/fastq//SRR306/SRR306794/SRR306794.fastq.gz -o SRR306794_GSM752647_ppy_ht_F_1_R1.fastq.gz\\n',\n 'curl -L ftp://ftp.sra.ebi.ac.uk/vol1/fastq//SRR306/SRR306795/SRR306795.fastq.gz -o SRR306795_GSM752648_ppy_ht_M_1_R1.fastq.gz\\n',\n 'curl -L ftp://ftp.sra.ebi.ac.uk/vol1/fastq//SRR306/SRR306796/SRR306796.fastq.gz -o SRR306796_GSM752649_ppy_kd_F_1_R1.fastq.gz\\n',\n 'curl -L ftp://ftp.sra.ebi.ac.uk/vol1/fastq//SRR306/SRR306797/SRR306797.fastq.gz -o SRR306797_GSM752650_ppy_kd_M_1_R1.fastq.gz\\n',\n 'curl -L ftp://ftp.sra.ebi.ac.uk/vol1/fastq//SRR306/SRR306798/SRR306798.fastq.gz -o SRR306798_GSM752651_ppy_lv_F_1_R1.fastq.gz\\n',\n 'curl -L ftp://ftp.sra.ebi.ac.uk/vol1/fastq//SRR306/SRR306799/SRR306799.fastq.gz -o SRR306799_GSM752652_ppy_lv_M_1_R1.fastq.gz\\n',\n 'curl -L ftp://ftp.sra.ebi.ac.uk/vol1/fastq//SRR306/SRR306800/SRR306800.fastq.gz -o SRR306800_GSM752653_ggo_br_F_1_R1.fastq.gz\\n',\n 'curl -L ftp://ftp.sra.ebi.ac.uk/vol1/fastq//SRR306/SRR306801/SRR306801_1.fastq.gz -o SRR306801_GSM752654_ggo_br_M_1_R1.fastq.gz\\n',\n 'curl -L ftp://ftp.sra.ebi.ac.uk/vol1/fastq//SRR306/SRR306801/SRR306801_2.fastq.gz -o SRR306801_GSM752654_ggo_br_M_1_R2.fastq.gz\\n',\n 'curl -L ftp://ftp.sra.ebi.ac.uk/vol1/fastq//SRR306/SRR306802/SRR306802.fastq.gz -o SRR306802_GSM752655_ggo_cb_F_1_R1.fastq.gz\\n',\n 'curl -L ftp://ftp.sra.ebi.ac.uk/vol1/fastq//SRR306/SRR306803/SRR306803.fastq.gz -o SRR306803_GSM752656_ggo_cb_M_1_R1.fastq.gz\\n',\n 'curl -L ftp://ftp.sra.ebi.ac.uk/vol1/fastq//SRR306/SRR306804/SRR306804.fastq.gz -o SRR306804_GSM752657_ggo_ht_F_1_R1.fastq.gz\\n',\n 'curl -L ftp://ftp.sra.ebi.ac.uk/vol1/fastq//SRR306/SRR306805/SRR306805.fastq.gz -o SRR306805_GSM752658_ggo_ht_M_1_R1.fastq.gz\\n',\n 'curl -L ftp://ftp.sra.ebi.ac.uk/vol1/fastq//SRR306/SRR306806/SRR306806.fastq.gz -o SRR306806_GSM752659_ggo_kd_F_1_R1.fastq.gz\\n',\n 'curl -L ftp://ftp.sra.ebi.ac.uk/vol1/fastq//SRR306/SRR306808/SRR306808.fastq.gz -o SRR306808_GSM752661_ggo_lv_F_1_R1.fastq.gz\\n',\n 'curl -L ftp://ftp.sra.ebi.ac.uk/vol1/fastq//SRR306/SRR306809/SRR306809.fastq.gz -o SRR306809_GSM752662_ggo_lv_M_1_R1.fastq.gz\\n',\n 'curl -L ftp://ftp.sra.ebi.ac.uk/vol1/fastq//SRR306/SRR306810/SRR306810.fastq.gz -o SRR306810_GSM752663_ggo_ts_M_1_R1.fastq.gz\\n',\n 'curl -L ftp://ftp.sra.ebi.ac.uk/vol1/fastq//SRR306/SRR306811/SRR306811.fastq.gz -o SRR306811_GSM752664_ptr_br_F_1_R1.fastq.gz\\n',\n 'curl -L ftp://ftp.sra.ebi.ac.uk/vol1/fastq//SRR306/SRR306812/SRR306812_1.fastq.gz -o SRR306812_GSM752665_ptr_br_M_1_R1.fastq.gz\\n',\n 'curl -L ftp://ftp.sra.ebi.ac.uk/vol1/fastq//SRR306/SRR306812/SRR306812_2.fastq.gz -o SRR306812_GSM752665_ptr_br_M_1_R2.fastq.gz\\n',\n 'curl -L ftp://ftp.sra.ebi.ac.uk/vol1/fastq//SRR306/SRR306813/SRR306813_1.fastq.gz -o SRR306813_GSM752666_ptr_br_M_2_R1.fastq.gz\\n',\n 'curl -L ftp://ftp.sra.ebi.ac.uk/vol1/fastq//SRR306/SRR306813/SRR306813_2.fastq.gz -o SRR306813_GSM752666_ptr_br_M_2_R2.fastq.gz\\n',\n 'curl -L ftp://ftp.sra.ebi.ac.uk/vol1/fastq//SRR306/SRR306814/SRR306814_1.fastq.gz -o SRR306814_GSM752667_ptr_br_M_3_R1.fastq.gz\\n',\n 'curl -L ftp://ftp.sra.ebi.ac.uk/vol1/fastq//SRR306/SRR306814/SRR306814_2.fastq.gz -o SRR306814_GSM752667_ptr_br_M_3_R2.fastq.gz\\n',\n 'curl -L ftp://ftp.sra.ebi.ac.uk/vol1/fastq//SRR306/SRR306815/SRR306815_1.fastq.gz -o SRR306815_GSM752668_ptr_br_M_4_R1.fastq.gz\\n',\n 'curl -L ftp://ftp.sra.ebi.ac.uk/vol1/fastq//SRR306/SRR306815/SRR306815_2.fastq.gz -o SRR306815_GSM752668_ptr_br_M_4_R2.fastq.gz\\n',\n 'curl -L ftp://ftp.sra.ebi.ac.uk/vol1/fastq//SRR306/SRR306816/SRR306816_1.fastq.gz -o SRR306816_GSM752669_ptr_br_M_5_R1.fastq.gz\\n',\n 'curl -L ftp://ftp.sra.ebi.ac.uk/vol1/fastq//SRR306/SRR306816/SRR306816_2.fastq.gz -o SRR306816_GSM752669_ptr_br_M_5_R2.fastq.gz\\n',\n 'curl -L ftp://ftp.sra.ebi.ac.uk/vol1/fastq//SRR306/SRR306817/SRR306817.fastq.gz -o SRR306817_GSM752670_ptr_cb_F_1_R1.fastq.gz\\n',\n 'curl -L ftp://ftp.sra.ebi.ac.uk/vol1/fastq//SRR306/SRR306818/SRR306818.fastq.gz -o SRR306818_GSM752671_ptr_cb_M_1_R1.fastq.gz\\n',\n 'curl -L ftp://ftp.sra.ebi.ac.uk/vol1/fastq//SRR306/SRR306819/SRR306819.fastq.gz -o SRR306819_GSM752672_ptr_ht_F_1_R1.fastq.gz\\n',\n 'curl -L ftp://ftp.sra.ebi.ac.uk/vol1/fastq//SRR306/SRR306820/SRR306820.fastq.gz -o SRR306820_GSM752673_ptr_ht_M_1_R1.fastq.gz\\n',\n 'curl -L ftp://ftp.sra.ebi.ac.uk/vol1/fastq//SRR306/SRR306821/SRR306821.fastq.gz -o SRR306821_GSM752674_ptr_kd_F_1_R1.fastq.gz\\n',\n 'curl -L ftp://ftp.sra.ebi.ac.uk/vol1/fastq//SRR306/SRR306822/SRR306822.fastq.gz -o SRR306822_GSM752675_ptr_kd_M_1_R1.fastq.gz\\n',\n 'curl -L ftp://ftp.sra.ebi.ac.uk/vol1/fastq//SRR306/SRR306823/SRR306823.fastq.gz -o SRR306823_GSM752676_ptr_lv_F_1_R1.fastq.gz\\n',\n 'curl -L ftp://ftp.sra.ebi.ac.uk/vol1/fastq//SRR306/SRR306824/SRR306824.fastq.gz -o SRR306824_GSM752677_ptr_lv_M_1_R1.fastq.gz\\n',\n 'curl -L ftp://ftp.sra.ebi.ac.uk/vol1/fastq//SRR306/SRR306825/SRR306825.fastq.gz -o SRR306825_GSM752678_ptr_ts_M_1_R1.fastq.gz\\n',\n 'curl -L ftp://ftp.sra.ebi.ac.uk/vol1/fastq//SRR306/SRR306826/SRR306826_1.fastq.gz -o SRR306826_GSM752679_ppa_br_F_1_R1.fastq.gz\\n',\n 'curl -L ftp://ftp.sra.ebi.ac.uk/vol1/fastq//SRR306/SRR306826/SRR306826_2.fastq.gz -o SRR306826_GSM752679_ppa_br_F_1_R2.fastq.gz\\n',\n 'curl -L ftp://ftp.sra.ebi.ac.uk/vol1/fastq//SRR306/SRR306827/SRR306827.fastq.gz -o SRR306827_GSM752680_ppa_br_F_2_R1.fastq.gz\\n',\n 'curl -L ftp://ftp.sra.ebi.ac.uk/vol1/fastq//SRR306/SRR306828/SRR306828.fastq.gz -o SRR306828_GSM752681_ppa_br_M_1_R1.fastq.gz\\n',\n 'curl -L ftp://ftp.sra.ebi.ac.uk/vol1/fastq//SRR306/SRR306829/SRR306829.fastq.gz -o SRR306829_GSM752682_ppa_cb_F_1_R1.fastq.gz\\n',\n 'curl -L ftp://ftp.sra.ebi.ac.uk/vol1/fastq//SRR306/SRR306830/SRR306830.fastq.gz -o SRR306830_GSM752683_ppa_cb_M_1_R1.fastq.gz\\n',\n 'curl -L ftp://ftp.sra.ebi.ac.uk/vol1/fastq//SRR306/SRR306831/SRR306831.fastq.gz -o SRR306831_GSM752684_ppa_ht_F_1_R1.fastq.gz\\n',\n 'curl -L ftp://ftp.sra.ebi.ac.uk/vol1/fastq//SRR306/SRR306832/SRR306832.fastq.gz -o SRR306832_GSM752685_ppa_ht_M_1_R1.fastq.gz\\n',\n 'curl -L ftp://ftp.sra.ebi.ac.uk/vol1/fastq//SRR306/SRR306833/SRR306833.fastq.gz -o SRR306833_GSM752686_ppa_kd_F_1_R1.fastq.gz\\n',\n 'curl -L ftp://ftp.sra.ebi.ac.uk/vol1/fastq//SRR306/SRR306834/SRR306834.fastq.gz -o SRR306834_GSM752687_ppa_kd_M_1_R1.fastq.gz\\n',\n 'curl -L ftp://ftp.sra.ebi.ac.uk/vol1/fastq//SRR306/SRR306835/SRR306835.fastq.gz -o SRR306835_GSM752688_ppa_lv_F_1_R1.fastq.gz\\n',\n 'curl -L ftp://ftp.sra.ebi.ac.uk/vol1/fastq//SRR306/SRR306836/SRR306836.fastq.gz -o SRR306836_GSM752689_ppa_lv_M_1_R1.fastq.gz\\n',\n 'curl -L ftp://ftp.sra.ebi.ac.uk/vol1/fastq//SRR306/SRR306837/SRR306837.fastq.gz -o SRR306837_GSM752690_ppa_ts_M_1_R1.fastq.gz\\n',\n 'curl -L ftp://ftp.sra.ebi.ac.uk/vol1/fastq//SRR306/SRR306838/SRR306838.fastq.gz -o SRR306838_GSM752691_hsa_br_F_1_R1.fastq.gz\\n',\n 'curl -L ftp://ftp.sra.ebi.ac.uk/vol1/fastq//SRR306/SRR306839/SRR306839.fastq.gz -o SRR306839_GSM752692_hsa_br_M_3_R1.fastq.gz\\n',\n 'curl -L ftp://ftp.sra.ebi.ac.uk/vol1/fastq//SRR306/SRR306840/SRR306840_1.fastq.gz -o SRR306840_GSM752693_hsa_br_M_1_R1.fastq.gz\\n',\n 'curl -L ftp://ftp.sra.ebi.ac.uk/vol1/fastq//SRR306/SRR306840/SRR306840_2.fastq.gz -o SRR306840_GSM752693_hsa_br_M_1_R2.fastq.gz\\n',\n 'curl -L ftp://ftp.sra.ebi.ac.uk/vol1/fastq//SRR306/SRR306841/SRR306841.fastq.gz -o SRR306841_GSM752694_hsa_br_M_2_R1.fastq.gz\\n',\n 'curl -L ftp://ftp.sra.ebi.ac.uk/vol1/fastq//SRR306/SRR306842/SRR306842_1.fastq.gz -o SRR306842_GSM752695_hsa_br_M_4_R1.fastq.gz\\n',\n 'curl -L ftp://ftp.sra.ebi.ac.uk/vol1/fastq//SRR306/SRR306842/SRR306842_2.fastq.gz -o SRR306842_GSM752695_hsa_br_M_4_R2.fastq.gz\\n',\n 'curl -L ftp://ftp.sra.ebi.ac.uk/vol1/fastq//SRR306/SRR306843/SRR306843.fastq.gz -o SRR306843_GSM752696_hsa_br_M_5_R1.fastq.gz\\n',\n 'curl -L ftp://ftp.sra.ebi.ac.uk/vol1/fastq//SRR306/SRR306844/SRR306844.fastq.gz -o SRR306844_GSM752697_hsa_cb_F_1_R1.fastq.gz\\n',\n 'curl -L ftp://ftp.sra.ebi.ac.uk/vol1/fastq//SRR306/SRR306845/SRR306845.fastq.gz -o SRR306845_GSM752698_hsa_cb_M_1_R1.fastq.gz\\n',\n 'curl -L ftp://ftp.sra.ebi.ac.uk/vol1/fastq//SRR306/SRR306846/SRR306846.fastq.gz -o SRR306846_GSM752698_hsa_cb_M_1_R1.fastq.gz\\n',\n 'curl -L ftp://ftp.sra.ebi.ac.uk/vol1/fastq//SRR306/SRR306847/SRR306847.fastq.gz -o SRR306847_GSM752699_hsa_ht_F_1_R1.fastq.gz\\n',\n 'curl -L ftp://ftp.sra.ebi.ac.uk/vol1/fastq//SRR306/SRR306848/SRR306848.fastq.gz -o SRR306848_GSM752700_hsa_ht_M_1_R1.fastq.gz\\n',\n 'curl -L ftp://ftp.sra.ebi.ac.uk/vol1/fastq//SRR306/SRR306849/SRR306849.fastq.gz -o SRR306849_GSM752700_hsa_ht_M_1_R1.fastq.gz\\n',\n 'curl -L ftp://ftp.sra.ebi.ac.uk/vol1/fastq//SRR306/SRR306850/SRR306850.fastq.gz -o SRR306850_GSM752701_hsa_ht_M_2_R1.fastq.gz\\n',\n 'curl -L ftp://ftp.sra.ebi.ac.uk/vol1/fastq//SRR306/SRR306851/SRR306851.fastq.gz -o SRR306851_GSM752702_hsa_kd_F_1_R1.fastq.gz\\n',\n 'curl -L ftp://ftp.sra.ebi.ac.uk/vol1/fastq//SRR306/SRR306852/SRR306852.fastq.gz -o SRR306852_GSM752703_hsa_kd_M_1_R1.fastq.gz\\n',\n 'curl -L ftp://ftp.sra.ebi.ac.uk/vol1/fastq//SRR306/SRR306853/SRR306853.fastq.gz -o SRR306853_GSM752704_hsa_kd_M_2_R1.fastq.gz\\n',\n 'curl -L ftp://ftp.sra.ebi.ac.uk/vol1/fastq//SRR306/SRR306854/SRR306854.fastq.gz -o SRR306854_GSM752705_hsa_lv_M_1_R1.fastq.gz\\n',\n 'curl -L ftp://ftp.sra.ebi.ac.uk/vol1/fastq//SRR306/SRR306855/SRR306855.fastq.gz -o SRR306855_GSM752705_hsa_lv_M_1_R1.fastq.gz\\n',\n 'curl -L ftp://ftp.sra.ebi.ac.uk/vol1/fastq//SRR306/SRR306856/SRR306856.fastq.gz -o SRR306856_GSM752706_hsa_lv_M_2_R1.fastq.gz\\n',\n 'curl -L ftp://ftp.sra.ebi.ac.uk/vol1/fastq//SRR306/SRR306857/SRR306857.fastq.gz -o SRR306857_GSM752707_hsa_ts_M_1_R1.fastq.gz\\n',\n 'curl -L ftp://ftp.sra.ebi.ac.uk/vol1/fastq//SRR306/SRR306858/SRR306858.fastq.gz -o SRR306858_GSM752708_hsa_ts_M_2_R1.fastq.gz\\n',\n 'curl -L ftp://ftp.sra.ebi.ac.uk/vol1/fastq//SRR306/SRR306807/SRR306807.fastq.gz -o SRR306807_GSM752660_ggo_kd_M_1_R1.fastq.gz\\n',\n 'curl -L ftp://ftp.sra.ebi.ac.uk/vol1/fastq//SRR306/SRR306740/SRR306740.fastq.gz -o SRR306740_GSM752585_oan_ts_M_2_R1.fastq.gz\\n']"
       },
       "execution_count": 39,
       "metadata": {},
       "output_type": "execute_result"
      }
     ],
     "persistentId": "14bce4c0-4b3b-49fc-9039-a1b84e9f0776",
     "text": "def srr_to_url(srr_run, is_paired, url_base='ftp://ftp.sra.ebi.ac.uk/vol1/fastq/'):\n    suffix = f'{srr_run[:6]}/{srr_run}'\n    if is_paired:\n        read1 = f\"{url_base}/{suffix}/{srr_run}_1.fastq.gz\"\n        read2 = f\"{url_base}/{suffix}/{srr_run}_2.fastq.gz\"\n        reads = (read1, read2)\n    else:\n        read1 = f\"{url_base}/{suffix}/{srr_run}.fastq.gz\"\n        reads = (read1,)\n    return reads\n\ndef get_curl_commands(row):\n    template = 'curl -L {url} -o {destination}\\n'\n    is_paired = row['LibraryLayout'] == 'PAIRED'\n    \n    read_urls = srr_to_url(row['Run'], is_paired)\n    commands = []\n    for i, url in enumerate(read_urls):\n        destination = row['Run'] + '_' + row['sanitized_name'] + f\"_R{i+1}.fastq.gz\"\n        commands.append(template.format(url=url, destination=destination))\n    return commands\n\ncommands = list(itertools.chain(*sra_run_table.apply(get_curl_commands, axis=1).values))\ncommands"
    },
    "executionTime": "2019-11-05T16:00:25.336Z"
   },
   {
    "cell": {
     "executionCount": 40,
     "executionEventId": "f3ff3194-a4a0-43d1-b98f-2d9d62d8d197",
     "hasError": false,
     "id": "ef2cb3df-b9af-4a86-81ef-6361fa40090f",
     "outputs": [],
     "persistentId": "a6c1e9fb-1c23-4cb8-ad86-5d4382acc985",
     "text": "folder = '/home/olga/code/kmer-hashing/kh-workflows/sra-explorer'\nsh = f\"{folder}/brawand2011_manual.sh\""
    },
    "executionTime": "2019-11-05T16:00:25.892Z"
   },
   {
    "cell": {
     "executionCount": 41,
     "executionEventId": "6d94474c-2404-4bc7-b31b-2d8aa1e2bd72",
     "hasError": false,
     "id": "430d2ec6-9a81-45dc-adfb-a8f373768989",
     "outputs": [
      {
       "name": "stdout",
       "output_type": "stream",
       "text": "curl -L ftp://ftp.sra.ebi.ac.uk/vol1/fastq//SRR306/SRR306710/SRR306710.fastq.gz -o SRR306710_GSM752557_gga_br_F_1_R1.fastq.gz\ncurl -L ftp://ftp.sra.ebi.ac.uk/vol1/fastq//SRR306/SRR306711/SRR306711.fastq.gz -o SRR306711_GSM752558_gga_br_M_1_R1.fastq.gz\ncurl -L ftp://ftp.sra.ebi.ac.uk/vol1/fastq//SRR306/SRR306712/SRR306712.fastq.gz -o SRR306712_GSM752559_gga_cb_F_1_R1.fastq.gz\ncurl -L ftp://ftp.sra.ebi.ac.uk/vol1/fastq//SRR306/SRR306713/SRR306713.fastq.gz -o SRR306713_GSM752560_gga_cb_M_1_R1.fastq.gz\ncurl -L ftp://ftp.sra.ebi.ac.uk/vol1/fastq//SRR306/SRR306714/SRR306714.fastq.gz -o SRR306714_GSM752561_gga_ht_F_1_R1.fastq.gz\ncurl -L ftp://ftp.sra.ebi.ac.uk/vol1/fastq//SRR306/SRR306715/SRR306715.fastq.gz -o SRR306715_GSM752562_gga_ht_M_1_R1.fastq.gz\ncurl -L ftp://ftp.sra.ebi.ac.uk/vol1/fastq//SRR306/SRR306716/SRR306716.fastq.gz -o SRR306716_GSM752563_gga_kd_F_1_R1.fastq.gz\ncurl -L ftp://ftp.sra.ebi.ac.uk/vol1/fastq//SRR306/SRR306717/SRR306717.fastq.gz -o SRR306717_GSM752564_gga_kd_M_1_R1.fastq.gz\ncurl -L ftp://ftp.sra.ebi.ac.uk/vol1/fastq//SRR306/SRR306718/SRR306718.fastq.gz -o SRR306718_GSM752565_gga_lv_F_1_R1.fastq.gz\ncurl -L ftp://ftp.sra.ebi.ac.uk/vol1/fastq//SRR306/SRR306719/SRR306719.fastq.gz -o SRR306719_GSM752566_gga_lv_M_1_R1.fastq.gz\n"
      }
     ],
     "persistentId": "1ec86349-f5c0-4c53-a82a-37d10e756a1d",
     "text": "with open(sh, 'w') as f:\n    f.writelines(commands)\n! head $sh"
    },
    "executionTime": "2019-11-05T16:00:26.870Z"
   },
   {
    "cell": {
     "executionCount": 42,
     "executionEventId": "c1dafad7-bd71-447f-9aac-040d72382b98",
     "hasError": false,
     "id": "3bb2b7a3-341e-4b47-9f5e-d1b34a4b44c3",
     "outputs": [],
     "persistentId": "5f3a2ebd-dcc3-4fef-a303-8cedd8e746f4",
     "text": "mkdir ~/data_lg/kmer-hashing/brawand2011/rawdata/"
    },
    "executionTime": "2019-11-05T16:02:58.054Z"
   },
   {
    "cell": {
     "executionCount": 43,
     "executionEventId": "5c664ea3-be71-4137-9dcf-21e3dfa39c79",
     "hasError": false,
     "id": "91ef365f-449d-4709-a836-f766454aeb79",
     "outputs": [
      {
       "name": "stdout",
       "output_type": "stream",
       "text": "/mnt/ibm_lg/olga/kmer-hashing/brawand2011/rawdata\n"
      }
     ],
     "persistentId": "01cda5ae-c3b3-495c-88e5-25bc9fd39fc2",
     "text": "cd ~/data_lg/kmer-hashing/brawand2011/rawdata/"
    },
    "executionTime": "2019-11-05T16:03:17.138Z"
   }
  ],
  "kernelspec": {
   "display_name": "Python [conda env:kmer-hashing]",
   "language": "python",
   "name": "conda-env-kmer-hashing-py"
  },
  "language_info": {
   "codemirror_mode": {
    "name": "ipython",
    "version": 3
   },
   "file_extension": ".py",
   "mimetype": "text/x-python",
   "name": "python",
   "nbconvert_exporter": "python",
   "pygments_lexer": "ipython3",
   "version": "3.6.8"
  },
  "uuid": "f1a3efbe-79bf-4e7b-985c-c3f22b7c3178"
 },
 "nbformat": 4,
 "nbformat_minor": 4
}
