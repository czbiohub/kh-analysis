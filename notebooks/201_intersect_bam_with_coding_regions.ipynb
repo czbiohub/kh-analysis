{
 "cells": [
  {
   "cell_type": "code",
   "execution_count": 1,
   "metadata": {
    "execution_event_id": "bf2b9d0a-c41b-4d57-b719-76a62093c5a8",
    "last_executed_text": "cd ~/ibm_lg/kmer-hashing/brawand2011/nfcore-rnaseq/human/single_end/STAR ",
    "persistent_id": "5d8f48fc-4db3-4f2e-9ed5-2c1f1d9f45ee"
   },
   "outputs": [
    {
     "name": "stdout",
     "output_type": "stream",
     "text": [
      "/mnt/ibm_lg/olga/kmer-hashing/brawand2011/nfcore-rnaseq/human/single_end/STAR\n"
     ]
    }
   ],
   "source": [
    "cd ~/ibm_lg/kmer-hashing/brawand2011/nfcore-rnaseq/human/single_end/STAR "
   ]
  },
  {
   "cell_type": "code",
   "execution_count": 2,
   "metadata": {
    "execution_event_id": "578818e7-5421-4c1d-a5b6-17455d42a803",
    "last_executed_text": "sample_id = 'SRR306838_GSM752691_hsa_br_F_1'",
    "persistent_id": "fe6d35ec-2221-44f9-a287-bbf31411f7f0"
   },
   "outputs": [],
   "source": [
    "sample_id = 'SRR306838_GSM752691_hsa_br_F_1'"
   ]
  },
  {
   "cell_type": "code",
   "execution_count": 3,
   "metadata": {
    "execution_event_id": "f0bb1eee-0648-462a-97ed-00ea55600625",
    "last_executed_text": "ls -lha",
    "persistent_id": "14b848b0-0f96-4e38-9ede-c2217890b707"
   },
   "outputs": [
    {
     "name": "stdout",
     "output_type": "stream",
     "text": [
      "total 21G\n",
      "drwxr-xr-x  3 5008 5000 4.0K Sep 10 12:25 \u001b[0m\u001b[01;34m.\u001b[0m/\n",
      "drwxr-xr-x 17 5008 5000 4.0K Sep  2 12:00 \u001b[01;34m..\u001b[0m/\n",
      "drwxr-xr-x  2 5008 5000 8.0K Sep 10 12:25 \u001b[01;34mlogs\u001b[0m/\n",
      "-rw-r--r--  1 5008 5000  65M Sep 10 10:02 SRR306838_GSM752691_hsa_br_F_1Aligned.sortedByCoord.out.bam\n",
      "-rw-r--r--  1 5008 5000 2.5M Sep 10 10:02 SRR306838_GSM752691_hsa_br_F_1Aligned.sortedByCoord.out.bam.bai\n",
      "-rw-r--r--  1 5008 5000 1.3G Sep 10 10:42 SRR306839_GSM752692_hsa_br_M_3Aligned.sortedByCoord.out.bam\n",
      "-rw-r--r--  1 5008 5000 3.6M Sep 10 10:42 SRR306839_GSM752692_hsa_br_M_3Aligned.sortedByCoord.out.bam.bai\n",
      "-rw-r--r--  1 5008 5000 1.5G Sep 10 10:55 SRR306841_GSM752694_hsa_br_M_2Aligned.sortedByCoord.out.bam\n",
      "-rw-r--r--  1 5008 5000 3.8M Sep 10 10:55 SRR306841_GSM752694_hsa_br_M_2Aligned.sortedByCoord.out.bam.bai\n",
      "-rw-r--r--  1 5008 5000 405M Sep 10 09:25 SRR306843_GSM752696_hsa_br_M_5Aligned.sortedByCoord.out.bam\n",
      "-rw-r--r--  1 5008 5000 3.5M Sep 10 09:25 SRR306843_GSM752696_hsa_br_M_5Aligned.sortedByCoord.out.bam.bai\n",
      "-rw-r--r--  1 5008 5000 2.4G Sep 10 12:17 SRR306844_GSM752697_hsa_cb_F_1Aligned.sortedByCoord.out.bam\n",
      "-rw-r--r--  1 5008 5000 4.1M Sep 10 12:16 SRR306844_GSM752697_hsa_cb_F_1Aligned.sortedByCoord.out.bam.bai\n",
      "-rw-r--r--  1 5008 5000 564M Sep 10 10:39 SRR306845_GSM752698_hsa_cb_M_1Aligned.sortedByCoord.out.bam\n",
      "-rw-r--r--  1 5008 5000 3.7M Sep 10 10:39 SRR306845_GSM752698_hsa_cb_M_1Aligned.sortedByCoord.out.bam.bai\n",
      "-rw-r--r--  1 5008 5000 1.5G Sep 10 12:26 SRR306846_GSM752698_hsa_cb_M_1Aligned.sortedByCoord.out.bam\n",
      "-rw-r--r--  1 5008 5000 3.8M Sep 10 12:25 SRR306846_GSM752698_hsa_cb_M_1Aligned.sortedByCoord.out.bam.bai\n",
      "-rw-r--r--  1 5008 5000  33M Sep 10 09:24 SRR306847_GSM752699_hsa_ht_F_1Aligned.sortedByCoord.out.bam\n",
      "-rw-r--r--  1 5008 5000 2.3M Sep 10 09:24 SRR306847_GSM752699_hsa_ht_F_1Aligned.sortedByCoord.out.bam.bai\n",
      "-rw-r--r--  1 5008 5000 600M Sep 10 09:26 SRR306848_GSM752700_hsa_ht_M_1Aligned.sortedByCoord.out.bam\n",
      "-rw-r--r--  1 5008 5000 3.6M Sep 10 09:26 SRR306848_GSM752700_hsa_ht_M_1Aligned.sortedByCoord.out.bam.bai\n",
      "-rw-r--r--  1 5008 5000 1.6G Sep 10 11:09 SRR306849_GSM752700_hsa_ht_M_1Aligned.sortedByCoord.out.bam\n",
      "-rw-r--r--  1 5008 5000 3.4M Sep 10 11:09 SRR306849_GSM752700_hsa_ht_M_1Aligned.sortedByCoord.out.bam.bai\n",
      "-rw-r--r--  1 5008 5000 2.0G Sep 10 11:42 SRR306850_GSM752701_hsa_ht_M_2Aligned.sortedByCoord.out.bam\n",
      "-rw-r--r--  1 5008 5000 3.6M Sep 10 11:41 SRR306850_GSM752701_hsa_ht_M_2Aligned.sortedByCoord.out.bam.bai\n",
      "-rw-r--r--  1 5008 5000  97M Sep 10 10:23 SRR306851_GSM752702_hsa_kd_F_1Aligned.sortedByCoord.out.bam\n",
      "-rw-r--r--  1 5008 5000 2.4M Sep 10 10:22 SRR306851_GSM752702_hsa_kd_F_1Aligned.sortedByCoord.out.bam.bai\n",
      "-rw-r--r--  1 5008 5000 2.1G Sep 10 12:12 SRR306853_GSM752704_hsa_kd_M_2Aligned.sortedByCoord.out.bam\n",
      "-rw-r--r--  1 5008 5000 3.9M Sep 10 12:12 SRR306853_GSM752704_hsa_kd_M_2Aligned.sortedByCoord.out.bam.bai\n",
      "-rw-r--r--  1 5008 5000 354M Sep 10 10:02 SRR306854_GSM752705_hsa_lv_M_1Aligned.sortedByCoord.out.bam\n",
      "-rw-r--r--  1 5008 5000 3.7M Sep 10 10:02 SRR306854_GSM752705_hsa_lv_M_1Aligned.sortedByCoord.out.bam.bai\n",
      "-rw-r--r--  1 5008 5000 2.0G Sep 10 11:58 SRR306855_GSM752705_hsa_lv_M_1Aligned.sortedByCoord.out.bam\n",
      "-rw-r--r--  1 5008 5000 3.4M Sep 10 11:58 SRR306855_GSM752705_hsa_lv_M_1Aligned.sortedByCoord.out.bam.bai\n",
      "-rw-r--r--  1 5008 5000 1.9G Sep 10 11:25 SRR306856_GSM752706_hsa_lv_M_2Aligned.sortedByCoord.out.bam\n",
      "-rw-r--r--  1 5008 5000 3.9M Sep 10 11:24 SRR306856_GSM752706_hsa_lv_M_2Aligned.sortedByCoord.out.bam.bai\n",
      "-rw-r--r--  1 5008 5000 387M Sep 10 10:22 SRR306857_GSM752707_hsa_ts_M_1Aligned.sortedByCoord.out.bam\n",
      "-rw-r--r--  1 5008 5000 2.9M Sep 10 10:22 SRR306857_GSM752707_hsa_ts_M_1Aligned.sortedByCoord.out.bam.bai\n",
      "-rw-r--r--  1 5008 5000 2.5G Sep 10 12:18 SRR306858_GSM752708_hsa_ts_M_2Aligned.sortedByCoord.out.bam\n",
      "-rw-r--r--  1 5008 5000 3.7M Sep 10 12:18 SRR306858_GSM752708_hsa_ts_M_2Aligned.sortedByCoord.out.bam.bai\n"
     ]
    }
   ],
   "source": [
    "ls -lha"
   ]
  },
  {
   "cell_type": "markdown",
   "metadata": {
    "persistent_id": "fb357562-68db-43a2-9bf5-892f18b74616"
   },
   "source": [
    "#### Filter GTF for only CDS sequences"
   ]
  },
  {
   "cell_type": "code",
   "execution_count": 6,
   "metadata": {
    "execution_event_id": "3729b2de-7cc7-4bae-b8c4-4d1e24d0c20e",
    "last_executed_text": "gtf = '/home/olga/data_lg/czbiohub-reference/gencode/human/v30/gencode.v30.annotation.ERCC92.gtf'",
    "persistent_id": "b70f0597-303b-4852-ab73-9440968b47ea"
   },
   "outputs": [
    {
     "name": "stdout",
     "output_type": "stream",
     "text": [
      "2774396 /home/olga/data_lg/czbiohub-reference/gencode/human/v30/gencode.v30.annotation.ERCC92.gtf\n",
      "753983 /home/olga/data_lg/czbiohub-reference/gencode/human/v30/gencode.v30.annotation.ERCC92.CDS.gtf\n"
     ]
    }
   ],
   "source": [
    "gtf = '/home/olga/data_lg/czbiohub-reference/gencode/human/v30/gencode.v30.annotation.ERCC92.gtf'\n",
    "! wc -l $gtf\n",
    "\n",
    "cds_gtf = '/home/olga/data_lg/czbiohub-reference/gencode/human/v30/gencode.v30.annotation.ERCC92.CDS.gtf'\n",
    "! bioawk -c gff '$feature == \"CDS\"' $gtf > $cds_gtf\n",
    "\n",
    "! wc -l $cds_gtf"
   ]
  },
  {
   "cell_type": "code",
   "execution_count": 18,
   "metadata": {
    "execution_event_id": "6b4c76c4-aed7-4a9e-81de-09d67c333ff8",
    "last_executed_text": "\n\nexon_gtf = '/home/olga/data_lg/czbiohub-reference/gencode/human/v30/gencode.v30.annotation.ERCC92.exon.gtf'\n! bioawk -c gff '$feature == \"exon\"' $gtf > $exon_gtf\n\n! wc -l $cds_gtf",
    "persistent_id": "d09e186c-f977-4990-b591-b1e1ed88a06f"
   },
   "outputs": [
    {
     "name": "stdout",
     "output_type": "stream",
     "text": [
      "753983 /home/olga/data_lg/czbiohub-reference/gencode/human/v30/gencode.v30.annotation.ERCC92.CDS.gtf\n"
     ]
    }
   ],
   "source": [
    "\n",
    "\n",
    "noncoding_exon_gtf = '/home/olga/data_lg/czbiohub-reference/gencode/human/v30/gencode.v30.annotation.ERCC92.exon.gtf'\n",
    "! bioawk -c gff '$feature == \"exon\"' $gtf > $exon_gtf\n",
    "\n",
    "! wc -l $cds_gtf"
   ]
  },
  {
   "cell_type": "code",
   "execution_count": 19,
   "metadata": {
    "execution_event_id": "5264c934-a5ea-46c1-ad0f-36cfd8612b50",
    "last_executed_text": "\n\nutr_gtf = '/home/olga/data_lg/czbiohub-reference/gencode/human/v30/gencode.v30.annotation.ERCC92.UTR.gtf'\n! bioawk -c gff '$feature == \"UTR\"' $gtf > $utr_gtf\n\n! wc -l $cds_gtf",
    "persistent_id": "06ae9c5b-6d93-4588-93dd-0ddb71017f6c"
   },
   "outputs": [
    {
     "name": "stdout",
     "output_type": "stream",
     "text": [
      "753983 /home/olga/data_lg/czbiohub-reference/gencode/human/v30/gencode.v30.annotation.ERCC92.CDS.gtf\n"
     ]
    }
   ],
   "source": [
    "\n",
    "\n",
    "utr_gtf = '/home/olga/data_lg/czbiohub-reference/gencode/human/v30/gencode.v30.annotation.ERCC92.UTR.gtf'\n",
    "! bioawk -c gff '$feature == \"UTR\"' $gtf > $utr_gtf\n",
    "\n",
    "! wc -l $cds_gtf"
   ]
  },
  {
   "cell_type": "markdown",
   "metadata": {},
   "source": [
    "What are the feature types?"
   ]
  },
  {
   "cell_type": "code",
   "execution_count": 7,
   "metadata": {
    "execution_event_id": "6c93d42c-5a10-476e-b136-4529658204f2",
    "last_executed_text": "! cut -f 3 $gtf | sort | uniq",
    "persistent_id": "d4db0a5c-432f-469f-8b7a-18dce5ba3d0b"
   },
   "outputs": [
    {
     "name": "stdout",
     "output_type": "stream",
     "text": [
      "CDS\n",
      "##contact: gencode-help@ebi.ac.uk\n",
      "##date: 2019-03-28\n",
      "##description: evidence-based annotation of the human genome (GRCh38), version 30 (Ensembl 96)\n",
      "exon\n",
      "##format: gtf\n",
      "gene\n",
      "##provider: GENCODE\n",
      "Selenocysteine\n",
      "start_codon\n",
      "stop_codon\n",
      "transcript\n",
      "UTR\n"
     ]
    }
   ],
   "source": [
    "! cut -f 3 $gtf | sort | uniq"
   ]
  },
  {
   "cell_type": "markdown",
   "metadata": {
    "persistent_id": "e3caafec-8f5d-47c9-94eb-e8fb5eba424c"
   },
   "source": [
    "#### Filter for only stop codons\n"
   ]
  },
  {
   "cell_type": "code",
   "execution_count": 10,
   "metadata": {
    "execution_event_id": "09bc8023-33e6-41f3-989c-57fb9905719a",
    "last_executed_text": "stop_codon_gtf = '/home/olga/data_lg/czbiohub-reference/gencode/human/v30/gencode.v30.annotation.ERCC92.stop_codon.gtf'\n! bioawk -c gff '$feature == \"stop_codon\"' $gtf > $stop_codon_gtf\n! wc -l $stop_codon_gtf",
    "persistent_id": "ca963796-8328-4f39-9aa1-4b2eb202523a"
   },
   "outputs": [
    {
     "name": "stdout",
     "output_type": "stream",
     "text": [
      "79378 /home/olga/data_lg/czbiohub-reference/gencode/human/v30/gencode.v30.annotation.ERCC92.stop_codon.gtf\n"
     ]
    }
   ],
   "source": [
    "stop_codon_gtf = '/home/olga/data_lg/czbiohub-reference/gencode/human/v30/gencode.v30.annotation.ERCC92.stop_codon.gtf'\n",
    "! bioawk -c gff '$feature == \"stop_codon\"' $gtf > $stop_codon_gtf\n",
    "! wc -l $stop_codon_gtf"
   ]
  },
  {
   "cell_type": "code",
   "execution_count": null,
   "metadata": {
    "persistent_id": "56a43e91-3ffb-4546-a1e7-5eeb637a9877"
   },
   "outputs": [],
   "source": [
    "! bedtools intersect $gtf"
   ]
  },
  {
   "cell_type": "markdown",
   "metadata": {
    "persistent_id": "92355d26-61b2-4714-97a3-73e1497be16f"
   },
   "source": [
    "#### Remove CDS sequences overlapping stop codons"
   ]
  },
  {
   "cell_type": "code",
   "execution_count": 9,
   "metadata": {
    "execution_event_id": "b144e156-78a4-41c5-af3b-27ed6c8e7574",
    "last_executed_text": "cds_no_stop_codons_gtf = '/home/olga/data_lg/czbiohub-reference/gencode/human/v30/gencode.v30.annotation.ERCC92.CDS_without_stop_codon.gtf'\n\n\n! bedtools subtract -a $cds_gtf -b $stop_codon_gtf > $cds_no_stop_codons_gtf\n! wc -l $cds_no_stop_codons_gtf",
    "persistent_id": "0e4fb4f8-a316-495e-8a7e-3a2f62959a20"
   },
   "outputs": [
    {
     "name": "stdout",
     "output_type": "stream",
     "text": [
      "798376 /home/olga/data_lg/czbiohub-reference/gencode/human/v30/gencode.v30.annotation.ERCC92.CDS_without_stop_codon.gtf\n"
     ]
    }
   ],
   "source": [
    "cds_no_stop_codons_gtf = '/home/olga/data_lg/czbiohub-reference/gencode/human/v30/gencode.v30.annotation.ERCC92.CDS_without_stop_codon.gtf'\n",
    "\n",
    "\n",
    "! bedtools subtract -a $cds_gtf -b $stop_codon_gtf > $cds_no_stop_codons_gtf\n",
    "! wc -l $cds_no_stop_codons_gtf"
   ]
  },
  {
   "cell_type": "markdown",
   "metadata": {
    "persistent_id": "0da023ca-6497-4f06-b19a-f122eb0ea73f"
   },
   "source": [
    "#### Remove CDS sequences overlapping stop codons or UTRs"
   ]
  },
  {
   "cell_type": "code",
   "execution_count": 21,
   "metadata": {
    "execution_event_id": "3955f4e1-bb34-440a-9a77-e74aebf45860",
    "last_executed_text": "cds_no_stop_codons_or_utr_gtf = '/home/olga/data_lg/czbiohub-reference/gencode/human/v30/gencode.v30.annotation.ERCC92.CDS_without_stop_codon_or_utr.gtf'\n\n# -A flag to remove the whole feature in -a if it overlaps at all with -b\n! bedtools subtract -A -a $cds_gtf -b $stop_codon_gtf | bedtools subtract -A -a - -b $utr_gtf > $cds_no_stop_codons_or_utr_gtf\n! wc -l $cds_no_stop_codons_or_utr_gtf",
    "persistent_id": "d8b8f1cb-0538-458a-9885-56c05558e6c3"
   },
   "outputs": [
    {
     "name": "stdout",
     "output_type": "stream",
     "text": [
      "482824 /home/olga/data_lg/czbiohub-reference/gencode/human/v30/gencode.v30.annotation.ERCC92.CDS_without_stop_codon_or_utr.gtf\n"
     ]
    }
   ],
   "source": [
    "cds_no_stop_codons_or_utr_gtf = '/home/olga/data_lg/czbiohub-reference/gencode/human/v30/gencode.v30.annotation.ERCC92.CDS_without_stop_codon_or_utr.gtf'\n",
    "\n",
    "# -A flag to remove the whole feature in -a if it overlaps at all with -b\n",
    "! bedtools subtract -A -a $cds_gtf -b $stop_codon_gtf | bedtools subtract -A -a - -b $utr_gtf > $cds_no_stop_codons_or_utr_gtf\n",
    "! wc -l $cds_no_stop_codons_or_utr_gtf"
   ]
  },
  {
   "cell_type": "code",
   "execution_count": 37,
   "metadata": {
    "execution_event_id": "72cafe5a-ca1c-45df-b6b7-5384c757f591",
    "last_executed_text": "! head -n 20 $cds_no_stop_codons_or_utr_gtf",
    "persistent_id": "7d5a6f8e-71ea-4f49-9889-2f6f08bab172"
   },
   "outputs": [
    {
     "name": "stdout",
     "output_type": "stream",
     "text": [
      "chr1\tHAVANA\tCDS\t65565\t65573\t.\t+\t0\tgene_id \"ENSG00000186092.6\"; transcript_id \"ENST00000641515.2\"; gene_type \"protein_coding\"; gene_name \"OR4F5\"; transcript_type \"protein_coding\"; transcript_name \"OR4F5-202\"; exon_number 2; exon_id \"ENSE00003813641.1\"; level 2; protein_id \"ENSP00000493376.2\"; tag \"RNA_Seq_supported_partial\"; tag \"basic\"; havana_gene \"OTTHUMG00000001094.4\"; havana_transcript \"OTTHUMT00000003223.4\";\n",
      "chr1\tENSEMBL\tCDS\t69091\t70005\t.\t+\t0\tgene_id \"ENSG00000186092.6\"; transcript_id \"ENST00000335137.4\"; gene_type \"protein_coding\"; gene_name \"OR4F5\"; transcript_type \"protein_coding\"; transcript_name \"OR4F5-201\"; exon_number 1; exon_id \"ENSE00002319515.2\"; level 3; protein_id \"ENSP00000334393.3\"; transcript_support_level \"NA\"; tag \"basic\"; tag \"appris_principal_1\"; tag \"CCDS\"; ccdsid \"CCDS30547.1\"; havana_gene \"OTTHUMG00000001094.4\";\n",
      "chr1\tHAVANA\tCDS\t450743\t451678\t.\t-\t0\tgene_id \"ENSG00000284733.1\"; transcript_id \"ENST00000426406.3\"; gene_type \"protein_coding\"; gene_name \"OR4F29\"; transcript_type \"protein_coding\"; transcript_name \"OR4F29-201\"; exon_number 1; exon_id \"ENSE00002316283.3\"; level 2; protein_id \"ENSP00000409316.1\"; transcript_support_level \"NA\"; tag \"basic\"; tag \"appris_principal_1\"; tag \"CCDS\"; ccdsid \"CCDS72675.1\"; havana_gene \"OTTHUMG00000002860.3\"; havana_transcript \"OTTHUMT00000007999.3\";\n",
      "chr1\tHAVANA\tCDS\t685719\t686654\t.\t-\t0\tgene_id \"ENSG00000284662.1\"; transcript_id \"ENST00000332831.4\"; gene_type \"protein_coding\"; gene_name \"OR4F16\"; transcript_type \"protein_coding\"; transcript_name \"OR4F16-201\"; exon_number 1; exon_id \"ENSE00002324228.3\"; level 2; protein_id \"ENSP00000329982.2\"; transcript_support_level \"NA\"; tag \"basic\"; tag \"appris_principal_1\"; tag \"CCDS\"; ccdsid \"CCDS41221.1\"; havana_gene \"OTTHUMG00000002581.3\"; havana_transcript \"OTTHUMT00000007334.3\";\n",
      "chr1\tHAVANA\tCDS\t924432\t924948\t.\t+\t0\tgene_id \"ENSG00000187634.12\"; transcript_id \"ENST00000420190.6\"; gene_type \"protein_coding\"; gene_name \"SAMD11\"; transcript_type \"protein_coding\"; transcript_name \"SAMD11-203\"; exon_number 1; exon_id \"ENSE00001637883.2\"; level 2; protein_id \"ENSP00000411579.2\"; transcript_support_level \"3\"; tag \"alternative_5_UTR\"; tag \"CAGE_supported_TSS\"; tag \"mRNA_end_NF\"; tag \"cds_end_NF\"; havana_gene \"OTTHUMG00000040719.11\"; havana_transcript \"OTTHUMT00000316521.3\";\n",
      "chr1\tHAVANA\tCDS\t930155\t930336\t.\t+\t0\tgene_id \"ENSG00000187634.12\"; transcript_id \"ENST00000420190.6\"; gene_type \"protein_coding\"; gene_name \"SAMD11\"; transcript_type \"protein_coding\"; transcript_name \"SAMD11-203\"; exon_number 3; exon_id \"ENSE00002727207.1\"; level 2; protein_id \"ENSP00000411579.2\"; transcript_support_level \"3\"; tag \"alternative_5_UTR\"; tag \"CAGE_supported_TSS\"; tag \"mRNA_end_NF\"; tag \"cds_end_NF\"; havana_gene \"OTTHUMG00000040719.11\"; havana_transcript \"OTTHUMT00000316521.3\";\n",
      "chr1\tHAVANA\tCDS\t931039\t931089\t.\t+\t1\tgene_id \"ENSG00000187634.12\"; transcript_id \"ENST00000420190.6\"; gene_type \"protein_coding\"; gene_name \"SAMD11\"; transcript_type \"protein_coding\"; transcript_name \"SAMD11-203\"; exon_number 4; exon_id \"ENSE00002696520.1\"; level 2; protein_id \"ENSP00000411579.2\"; transcript_support_level \"3\"; tag \"alternative_5_UTR\"; tag \"CAGE_supported_TSS\"; tag \"mRNA_end_NF\"; tag \"cds_end_NF\"; havana_gene \"OTTHUMG00000040719.11\"; havana_transcript \"OTTHUMT00000316521.3\";\n",
      "chr1\tHAVANA\tCDS\t935772\t935896\t.\t+\t1\tgene_id \"ENSG00000187634.12\"; transcript_id \"ENST00000420190.6\"; gene_type \"protein_coding\"; gene_name \"SAMD11\"; transcript_type \"protein_coding\"; transcript_name \"SAMD11-203\"; exon_number 5; exon_id \"ENSE00002703998.1\"; level 2; protein_id \"ENSP00000411579.2\"; transcript_support_level \"3\"; tag \"alternative_5_UTR\"; tag \"CAGE_supported_TSS\"; tag \"mRNA_end_NF\"; tag \"cds_end_NF\"; havana_gene \"OTTHUMG00000040719.11\"; havana_transcript \"OTTHUMT00000316521.3\";\n",
      "chr1\tHAVANA\tCDS\t939040\t939129\t.\t+\t2\tgene_id \"ENSG00000187634.12\"; transcript_id \"ENST00000420190.6\"; gene_type \"protein_coding\"; gene_name \"SAMD11\"; transcript_type \"protein_coding\"; transcript_name \"SAMD11-203\"; exon_number 6; exon_id \"ENSE00002686739.1\"; level 2; protein_id \"ENSP00000411579.2\"; transcript_support_level \"3\"; tag \"alternative_5_UTR\"; tag \"CAGE_supported_TSS\"; tag \"mRNA_end_NF\"; tag \"cds_end_NF\"; havana_gene \"OTTHUMG00000040719.11\"; havana_transcript \"OTTHUMT00000316521.3\";\n",
      "chr1\tHAVANA\tCDS\t939275\t939291\t.\t+\t2\tgene_id \"ENSG00000187634.12\"; transcript_id \"ENST00000420190.6\"; gene_type \"protein_coding\"; gene_name \"SAMD11\"; transcript_type \"protein_coding\"; transcript_name \"SAMD11-203\"; exon_number 7; exon_id \"ENSE00001608769.1\"; level 2; protein_id \"ENSP00000411579.2\"; transcript_support_level \"3\"; tag \"alternative_5_UTR\"; tag \"CAGE_supported_TSS\"; tag \"mRNA_end_NF\"; tag \"cds_end_NF\"; havana_gene \"OTTHUMG00000040719.11\"; havana_transcript \"OTTHUMT00000316521.3\";\n",
      "chr1\tHAVANA\tCDS\t925942\t926013\t.\t+\t0\tgene_id \"ENSG00000187634.12\"; transcript_id \"ENST00000437963.5\"; gene_type \"protein_coding\"; gene_name \"SAMD11\"; transcript_type \"protein_coding\"; transcript_name \"SAMD11-204\"; exon_number 2; exon_id \"ENSE00001763717.1\"; level 2; protein_id \"ENSP00000393181.1\"; transcript_support_level \"5\"; tag \"alternative_5_UTR\"; tag \"mRNA_end_NF\"; tag \"cds_end_NF\"; havana_gene \"OTTHUMG00000040719.11\"; havana_transcript \"OTTHUMT00000097862.5\";\n",
      "chr1\tHAVANA\tCDS\t930155\t930336\t.\t+\t0\tgene_id \"ENSG00000187634.12\"; transcript_id \"ENST00000437963.5\"; gene_type \"protein_coding\"; gene_name \"SAMD11\"; transcript_type \"protein_coding\"; transcript_name \"SAMD11-204\"; exon_number 3; exon_id \"ENSE00002727207.1\"; level 2; protein_id \"ENSP00000393181.1\"; transcript_support_level \"5\"; tag \"alternative_5_UTR\"; tag \"mRNA_end_NF\"; tag \"cds_end_NF\"; havana_gene \"OTTHUMG00000040719.11\"; havana_transcript \"OTTHUMT00000097862.5\";\n",
      "chr1\tHAVANA\tCDS\t931039\t931089\t.\t+\t1\tgene_id \"ENSG00000187634.12\"; transcript_id \"ENST00000437963.5\"; gene_type \"protein_coding\"; gene_name \"SAMD11\"; transcript_type \"protein_coding\"; transcript_name \"SAMD11-204\"; exon_number 4; exon_id \"ENSE00002696520.1\"; level 2; protein_id \"ENSP00000393181.1\"; transcript_support_level \"5\"; tag \"alternative_5_UTR\"; tag \"mRNA_end_NF\"; tag \"cds_end_NF\"; havana_gene \"OTTHUMG00000040719.11\"; havana_transcript \"OTTHUMT00000097862.5\";\n",
      "chr1\tHAVANA\tCDS\t935772\t935793\t.\t+\t1\tgene_id \"ENSG00000187634.12\"; transcript_id \"ENST00000437963.5\"; gene_type \"protein_coding\"; gene_name \"SAMD11\"; transcript_type \"protein_coding\"; transcript_name \"SAMD11-204\"; exon_number 5; exon_id \"ENSE00001631320.1\"; level 2; protein_id \"ENSP00000393181.1\"; transcript_support_level \"5\"; tag \"alternative_5_UTR\"; tag \"mRNA_end_NF\"; tag \"cds_end_NF\"; havana_gene \"OTTHUMG00000040719.11\"; havana_transcript \"OTTHUMT00000097862.5\";\n",
      "chr1\tHAVANA\tCDS\t925942\t926013\t.\t+\t0\tgene_id \"ENSG00000187634.12\"; transcript_id \"ENST00000342066.8\"; gene_type \"protein_coding\"; gene_name \"SAMD11\"; transcript_type \"protein_coding\"; transcript_name \"SAMD11-202\"; exon_number 2; exon_id \"ENSE00001763717.1\"; level 2; protein_id \"ENSP00000342313.3\"; transcript_support_level \"5\"; tag \"basic\"; tag \"appris_principal_2\"; tag \"CCDS\"; ccdsid \"CCDS2.2\"; havana_gene \"OTTHUMG00000040719.11\"; havana_transcript \"OTTHUMT00000276866.3\";\n",
      "chr1\tHAVANA\tCDS\t930155\t930336\t.\t+\t0\tgene_id \"ENSG00000187634.12\"; transcript_id \"ENST00000342066.8\"; gene_type \"protein_coding\"; gene_name \"SAMD11\"; transcript_type \"protein_coding\"; transcript_name \"SAMD11-202\"; exon_number 3; exon_id \"ENSE00002727207.1\"; level 2; protein_id \"ENSP00000342313.3\"; transcript_support_level \"5\"; tag \"basic\"; tag \"appris_principal_2\"; tag \"CCDS\"; ccdsid \"CCDS2.2\"; havana_gene \"OTTHUMG00000040719.11\"; havana_transcript \"OTTHUMT00000276866.3\";\n",
      "chr1\tHAVANA\tCDS\t931039\t931089\t.\t+\t1\tgene_id \"ENSG00000187634.12\"; transcript_id \"ENST00000342066.8\"; gene_type \"protein_coding\"; gene_name \"SAMD11\"; transcript_type \"protein_coding\"; transcript_name \"SAMD11-202\"; exon_number 4; exon_id \"ENSE00002696520.1\"; level 2; protein_id \"ENSP00000342313.3\"; transcript_support_level \"5\"; tag \"basic\"; tag \"appris_principal_2\"; tag \"CCDS\"; ccdsid \"CCDS2.2\"; havana_gene \"OTTHUMG00000040719.11\"; havana_transcript \"OTTHUMT00000276866.3\";\n",
      "chr1\tHAVANA\tCDS\t935772\t935896\t.\t+\t1\tgene_id \"ENSG00000187634.12\"; transcript_id \"ENST00000342066.8\"; gene_type \"protein_coding\"; gene_name \"SAMD11\"; transcript_type \"protein_coding\"; transcript_name \"SAMD11-202\"; exon_number 5; exon_id \"ENSE00002703998.1\"; level 2; protein_id \"ENSP00000342313.3\"; transcript_support_level \"5\"; tag \"basic\"; tag \"appris_principal_2\"; tag \"CCDS\"; ccdsid \"CCDS2.2\"; havana_gene \"OTTHUMG00000040719.11\"; havana_transcript \"OTTHUMT00000276866.3\";\n",
      "chr1\tHAVANA\tCDS\t939040\t939129\t.\t+\t2\tgene_id \"ENSG00000187634.12\"; transcript_id \"ENST00000342066.8\"; gene_type \"protein_coding\"; gene_name \"SAMD11\"; transcript_type \"protein_coding\"; transcript_name \"SAMD11-202\"; exon_number 6; exon_id \"ENSE00002686739.1\"; level 2; protein_id \"ENSP00000342313.3\"; transcript_support_level \"5\"; tag \"basic\"; tag \"appris_principal_2\"; tag \"CCDS\"; ccdsid \"CCDS2.2\"; havana_gene \"OTTHUMG00000040719.11\"; havana_transcript \"OTTHUMT00000276866.3\";\n",
      "chr1\tHAVANA\tCDS\t939275\t939460\t.\t+\t2\tgene_id \"ENSG00000187634.12\"; transcript_id \"ENST00000342066.8\"; gene_type \"protein_coding\"; gene_name \"SAMD11\"; transcript_type \"protein_coding\"; transcript_name \"SAMD11-202\"; exon_number 7; exon_id \"ENSE00002715021.1\"; level 2; protein_id \"ENSP00000342313.3\"; transcript_support_level \"5\"; tag \"basic\"; tag \"appris_principal_2\"; tag \"CCDS\"; ccdsid \"CCDS2.2\"; havana_gene \"OTTHUMG00000040719.11\"; havana_transcript \"OTTHUMT00000276866.3\";\n"
     ]
    }
   ],
   "source": [
    "! head -n 20 $cds_no_stop_codons_or_utr_gtf"
   ]
  },
  {
   "cell_type": "markdown",
   "metadata": {
    "persistent_id": "3fa9961d-88e4-48c3-bfcc-4f22512b50a8"
   },
   "source": [
    "### Filter BAM file for only reads overlapping coding sequences"
   ]
  },
  {
   "cell_type": "code",
   "execution_count": 90,
   "metadata": {
    "execution_event_id": "f115316a-e461-4948-82af-de8d2fa721db",
    "last_executed_text": "bam = f'{sample_id}Aligned.sortedByCoord.out.bam'\ncoding_bam = f'{sample_id}Aligned.sortedByCoord.out_CDS_without_stop_codon_or_utr.bam'\noutdir = '/home/olga/data_sm/kmer-hashing/brawand2011/human/'\n\n!mkdir -p $outdir\n! bedtools intersect -wa -a $bam -b $cds_no_stop_codons_or_utr_gtf > $outdir$coding_bam",
    "persistent_id": "689cffd4-66ab-456a-aa86-bbfe608d4ea3"
   },
   "outputs": [],
   "source": [
    "bam = f'{sample_id}Aligned.sortedByCoord.out.bam'\n",
    "coding_bam = f'{sample_id}Aligned.sortedByCoord.out_CDS_without_stop_codon_or_utr.bam'\n",
    "outdir = '/home/olga/data_sm/kmer-hashing/brawand2011/human'\n",
    "\n",
    "!mkdir -p $outdir"
   ]
  },
  {
   "cell_type": "markdown",
   "metadata": {
    "persistent_id": "4be9623f-6340-4d0d-9de0-34697c29fab3"
   },
   "source": [
    "### Filter for only unspliced reads to make my life easier"
   ]
  },
  {
   "cell_type": "code",
   "execution_count": 91,
   "metadata": {
    "execution_event_id": "8dcca991-add3-45fc-b91a-bcb592025d3e",
    "last_executed_text": "pwd",
    "persistent_id": "4c56692d-67c5-4865-96bc-de0973c95f0b"
   },
   "outputs": [
    {
     "data": {
      "text/plain": [
       "'/mnt/ibm_lg/olga/kmer-hashing/brawand2011/nfcore-rnaseq/human/single_end/STAR'"
      ]
     },
     "execution_count": 91,
     "metadata": {},
     "output_type": "execute_result"
    }
   ],
   "source": [
    "pwd"
   ]
  },
  {
   "cell_type": "code",
   "execution_count": 92,
   "metadata": {
    "execution_event_id": "ca4671fd-f386-4a31-8e7c-decaabeef15a",
    "last_executed_text": "bam",
    "persistent_id": "cef6f57e-449e-4232-9452-c6c9b7ab1bbe"
   },
   "outputs": [
    {
     "data": {
      "text/plain": [
       "'SRR306838_GSM752691_hsa_br_F_1Aligned.sortedByCoord.out.bam'"
      ]
     },
     "execution_count": 92,
     "metadata": {},
     "output_type": "execute_result"
    }
   ],
   "source": [
    "bam"
   ]
  },
  {
   "cell_type": "code",
   "execution_count": 93,
   "metadata": {
    "execution_event_id": "724e18bc-37aa-4f3b-aaae-6cdd356da25d",
    "last_executed_text": "! samtools view -h -F 4 $bam | awk '$6 !~ /N/ || $1 ~ /@/' | samtools view -bS - > $outdir/$bam\\.unspliced.bam",
    "persistent_id": "d6fa4a17-2275-422a-8268-4c500e5c2af8"
   },
   "outputs": [],
   "source": [
    "! samtools view -h -F 4 $bam | awk '$6 !~ /N/ || $1 ~ /@/' | samtools view -bS - > $outdir/$bam\\.unspliced.bam"
   ]
  },
  {
   "cell_type": "code",
   "execution_count": 95,
   "metadata": {
    "execution_event_id": "69e17243-ee0c-4620-af21-afe233a4ff02",
    "last_executed_text": "! samtools view $outdir/SRR306838_GSM752691_hsa_br_F_1Aligned.sortedByCoord.out.bam.unspliced.bam | head",
    "persistent_id": "c4428eef-93ae-453c-859a-594a78640193"
   },
   "outputs": [
    {
     "name": "stdout",
     "output_type": "stream",
     "text": [
      "SRR306838.2504624\t256\tchr1\t14362\t1\t36M3D27M\t*\t0\t0\tTCCTGCACAGCTAGAGATCCTTTATTAAAAGCACACTGGTTTCTGCTCAGTTCTTTATTGATT\t-262773:5384472767787875666655876446966448:86379453866:78998886\tNH:i:4\tHI:i:2\tAS:i:53\tnM:i:0\tRG:Z:SRR306838_GSM752691_hsa_br_F_1\n",
      "SRR306838.13797218\t256\tchr1\t14978\t0\t52M\t*\t0\t0\tCTCATGACCAGCTTGTTGAAGAGATCCGACATCAAGTGCCCACCTTGGCTCG\t3254352877855542774474744666666466364788766764655485\tNH:i:10\tHI:i:2\tAS:i:51\tnM:i:0\tRG:Z:SRR306838_GSM752691_hsa_br_F_1\n",
      "SRR306838.12718178\t256\tchr1\t14985\t0\t52M\t*\t0\t0\tCCAGCTTGTTGAAGAGATCCGACATCAAGTCCCCACCTTGGCTCGTGGCTCT\t414713:668526626656774656765848876456445676864564475\tNH:i:10\tHI:i:2\tAS:i:49\tnM:i:1\tRG:Z:SRR306838_GSM752691_hsa_br_F_1\n",
      "SRR306838.7979691\t256\tchr1\t17598\t0\t64M\t*\t0\t0\tGGCCATACAGGTTCTCGGTGGTGTTGAAGAGCAGCAAGGAGCTGACAGAGCTGATGTTGCTGGG\t2535633843737:5567588675884585756865375385783445356:777658756678\tNH:i:5\tHI:i:3\tAS:i:62\tnM:i:0\tRG:Z:SRR306838_GSM752691_hsa_br_F_1\n",
      "SRR306838.11927233\t256\tchr1\t18229\t0\t68M\t*\t0\t0\tCTGCCCAGTAGCCTCAGGACACAGGGGTATGGGGACTACCTTGATGGCCTTCTTGCTGCCCTTGATCT\t,13224274595654576475879775/38556525434547566477455748966645654;4585\tNH:i:6\tHI:i:5\tAS:i:66\tnM:i:0\tRG:Z:SRR306838_GSM752691_hsa_br_F_1\n",
      "SRR306838.22570569\t256\tchr1\t19390\t0\t57M\t*\t0\t0\tCGCGACTGGGGTTCATGAGGAAAGGGAGGGGGAGGATGTGGGATGGTGGAGGGGCTG\t232603957571592675764249860856653662764765076646727564466\tNH:i:10\tHI:i:7\tAS:i:56\tnM:i:0\tRG:Z:SRR306838_GSM752691_hsa_br_F_1\n",
      "SRR306838.18293344\t272\tchr1\t20234\t0\t68M\t*\t0\t0\tCGAGTCAGCAGAATTTTGACGGCTTCTAACAAAATCTTGTAGACAAGATGGAGCTATGGGGGTTGGAG\t686556:7676647435746658545476686456845543756856563825333375583744313\tNH:i:5\tHI:i:2\tAS:i:64\tnM:i:1\tRG:Z:SRR306838_GSM752691_hsa_br_F_1\n",
      "SRR306838.17400332\t0\tchr1\t20305\t0\t42M\t*\t0\t0\tAGAACATATAGGAAAAATCAGAGCCAAATGAACCACAGCCCC\t*41136725578464576559576872657546645585756\tNH:i:5\tHI:i:1\tAS:i:41\tnM:i:0\tRG:Z:SRR306838_GSM752691_hsa_br_F_1\n",
      "SRR306838.1407510\t272\tchr1\t20661\t0\t60M6S\t*\t0\t0\tGTTAACTATAAGCTCAGTAGGGGCTAAAAGCATGTTAATCGGCATAAAAAGACAACGAGAACACTT\t624769356586966<6488389757867799754454645677676467747746569717/5/)\tNH:i:8\tHI:i:5\tAS:i:55\tnM:i:2\tRG:Z:SRR306838_GSM752691_hsa_br_F_1\n",
      "SRR306838.15078405\t272\tchr1\t20668\t0\t69M\t*\t0\t0\tATAAGCTCAGTAGGGGCTAAAAGCATGTTAATCGGCATAAAAAGGCAATGAGATCTTAGGGCACACAGC\t76474966;7457575:3666958:864465775779566544657768746225434753464051/0\tNH:i:7\tHI:i:4\tAS:i:67\tnM:i:0\tRG:Z:SRR306838_GSM752691_hsa_br_F_1\n",
      "samtools view: writing to standard output failed: Broken pipe\n",
      "samtools view: error closing standard output: -1\n"
     ]
    }
   ],
   "source": [
    "! samtools view $outdir/SRR306838_GSM752691_hsa_br_F_1Aligned.sortedByCoord.out.bam.unspliced.bam | head"
   ]
  },
  {
   "cell_type": "code",
   "execution_count": 94,
   "metadata": {
    "execution_event_id": "8e8dc6b1-8e84-439e-9cb5-a77bef340e32",
    "last_executed_text": "! samtools view $outdir/$bam\\.unspliced.bam | wc -l",
    "persistent_id": "97ce81ea-094a-4bd1-ba52-038d7b2ab652"
   },
   "outputs": [
    {
     "name": "stdout",
     "output_type": "stream",
     "text": [
      "807698\n"
     ]
    }
   ],
   "source": [
    "! samtools view $outdir/$bam\\.unspliced.bam | wc -l"
   ]
  },
  {
   "cell_type": "code",
   "execution_count": 101,
   "metadata": {
    "execution_event_id": "16f9e49a-9d26-40fa-99da-c046dee3dbed",
    "last_executed_text": "ls -lha $outdir",
    "persistent_id": "5564b283-589b-4ece-ab5b-27f57d62ca3c"
   },
   "outputs": [
    {
     "name": "stdout",
     "output_type": "stream",
     "text": [
      "total 331M\n",
      "drwxrwxr-x 2 olga olga 4.0K Sep 18 09:59 \u001b[0m\u001b[01;34m.\u001b[0m/\n",
      "drwxrwxr-x 3 olga olga 4.0K Sep 10 15:07 \u001b[01;34m..\u001b[0m/\n",
      "-rw-rw-r-- 1 olga olga  52M Sep 18 10:05 SRR306838_GSM752691_hsa_br_F_1Aligned.sortedByCoord.out.bam.unspliced.bam\n",
      "-rw-rw-r-- 1 olga olga 2.9M Sep 18 09:59 SRR306838_GSM752691_hsa_br_F_1Aligned.sortedByCoord.out.bam.unspliced.bam.bai\n",
      "-rw-rw-r-- 1 olga olga    0 Sep 18 10:10 SRR306838_GSM752691_hsa_br_F_1Aligned.sortedByCoord.out.bam.unspliced.out_CDS_without_stop_codon_or_utr.bam\n",
      "-rw-rw-r-- 1 olga olga  15M Sep 10 15:55 SRR306838_GSM752691_hsa_br_F_1Aligned.sortedByCoord.out_CDS_without_stop_codon.bam\n",
      "-rw-rw-r-- 1 olga olga 1.7M Sep 18 07:05 SRR306838_GSM752691_hsa_br_F_1Aligned.sortedByCoord.out_CDS_without_stop_codon.bam.bai\n",
      "-rw-rw-r-- 1 olga olga  15M Sep 18 07:15 SRR306838_GSM752691_hsa_br_F_1Aligned.sortedByCoord.out_CDS_without_stop_codon_or_utr.bam\n",
      "-rw-rw-r-- 1 olga olga 1.7M Sep 18 07:06 SRR306838_GSM752691_hsa_br_F_1Aligned.sortedByCoord.out_CDS_without_stop_codon_or_utr.bam.bai\n",
      "-rw-rw-r-- 1 olga olga 4.1M Sep 18 07:17 SRR306838_GSM752691_hsa_br_F_1Aligned.sortedByCoord.out_CDS_without_stop_codon_or_utr.read_ids.txt\n",
      "-rw-rw-r-- 1 olga olga 4.1M Sep 10 15:56 SRR306838_GSM752691_hsa_br_F_1Aligned.sortedByCoord.out_CDS_without_stop_codon.read_ids.txt\n",
      "-rw-r--r-- 1 olga olga 235M Sep 10 15:10 SRR306838_GSM752691_hsa_br_F_1_trimmed_k15.tsv\n"
     ]
    }
   ],
   "source": [
    "ls -lha $outdir"
   ]
  },
  {
   "cell_type": "code",
   "execution_count": 102,
   "metadata": {
    "execution_event_id": "e10d65dd-d1f7-495f-8be5-e49358496e84",
    "last_executed_text": "! time bedtools intersect -a $outdir/$bam\\.unspliced.bam -b $cds_no_stop_codons_or_utr_gtf > $outdir/$bam\\.unspliced.out_CDS_without_stop_codon_or_utr.bam",
    "persistent_id": "689cffd4-66ab-456a-aa86-bbfe608d4ea3"
   },
   "outputs": [
    {
     "name": "stdout",
     "output_type": "stream",
     "text": [
      "***** WARNING: File /home/olga/data_sm/kmer-hashing/brawand2011/human/SRR306838_GSM752691_hsa_br_F_1Aligned.sortedByCoord.out.bam.unspliced.bam has inconsistent naming convention for record:\n",
      "GL000008.2\t29409\t29480\tSRR306838.11378224\t0\t+\n",
      "\n",
      "***** WARNING: File /home/olga/data_sm/kmer-hashing/brawand2011/human/SRR306838_GSM752691_hsa_br_F_1Aligned.sortedByCoord.out.bam.unspliced.bam has inconsistent naming convention for record:\n",
      "GL000008.2\t29409\t29480\tSRR306838.11378224\t0\t+\n",
      "\n",
      "2.82user 32.63system 0:35.56elapsed 99%CPU (0avgtext+0avgdata 450136maxresident)k\n",
      "0inputs+19008outputs (0major+242578minor)pagefaults 0swaps\n"
     ]
    }
   ],
   "source": [
    "! time bedtools intersect -a $outdir/$bam\\.unspliced.bam -b $cds_no_stop_codons_or_utr_gtf > $outdir/$bam\\.unspliced.out_CDS_without_stop_codon_or_utr.bam"
   ]
  },
  {
   "cell_type": "code",
   "execution_count": 103,
   "metadata": {
    "execution_event_id": "da5b5a92-1c77-477f-ba42-8c15cb72c0e2",
    "last_executed_text": "! samtools view $outdir/$bam\\.unspliced.out_CDS_without_stop_codon_or_utr.bam | head",
    "persistent_id": "2d7a43d9-1ff9-43b6-b4f1-9b2fceab9f91"
   },
   "outputs": [
    {
     "name": "stdout",
     "output_type": "stream",
     "text": [
      "SRR306838.13598607\t0\tchr1\t945525\t255\t69M\t*\t0\t0\tCGAGAATCCCTCGGTGTCGTCCTCTTCAGAGCTGTTCAGGTCAAAGAGGTCTTTAAATTGCTTCCTGTC\t33273589652656241634:568456485768435736637444656539776445766784767539\tNH:i:1\tHI:i:1\tAS:i:67\tnM:i:0\tRG:Z:SRR306838_GSM752691_hsa_br_F_1\n",
      "SRR306838.23303318\t0\tchr1\t945534\t255\t70M\t*\t0\t0\tCTCGGTGTCGTCCTCTTCAGAGCTGTTCAGGTCAAAGAGGTCTTTAAATTGCTTCCTGTCCTCATCCTTC\t32255/54320856423955475855243842544364753684733245755564853:5796595628\tNH:i:1\tHI:i:1\tAS:i:68\tnM:i:0\tRG:Z:SRR306838_GSM752691_hsa_br_F_1\n",
      "SRR306838.19917713\t0\tchr1\t945543\t255\t69M\t*\t0\t0\tGTCCTCTTCAGAGCTGTTCAGGTCAAAGAGGTCTTTAAATTGCTTCCTGTCCTCATCCTTCCTGTCAGC\t013212745640534433447437630547327254334675548668448538849374:67647685\tNH:i:1\tHI:i:1\tAS:i:67\tnM:i:0\tRG:Z:SRR306838_GSM752691_hsa_br_F_1\n",
      "SRR306838.19937719\t0\tchr1\t945546\t255\t70M\t*\t0\t0\tCTCTTCAGAGCTGTTCAGGTCAAAAAGGTCTTTAAATTGCTTCCTGTCCTCATCCTTCCTGTCAGCCATC\t222/141512657236476374544365/655564455565677865:4473365546686585:55757\tNH:i:1\tHI:i:1\tAS:i:66\tnM:i:1\tRG:Z:SRR306838_GSM752691_hsa_br_F_1\n",
      "SRR306838.20862490\t0\tchr1\t945549\t255\t69M1S\t*\t0\t0\tTTCAGAGCTGTTCAGGTCAAAGAGGTCTTTAAATTGCTTCCTGTCCTCATCCTTCCTGTCAGCCATCTTG\t,322545373025314174444575263343553474545564372795694567475395:64269567\tNH:i:1\tHI:i:1\tAS:i:67\tnM:i:0\tRG:Z:SRR306838_GSM752691_hsa_br_F_1\n",
      "SRR306838.21924959\t0\tchr1\t945549\t255\t70M\t*\t0\t0\tTTCAGAGCTGTTCAGGTCAAAGAGGTCTTTAAATTGCTTCCTGTCCTCATCCTTCCTGTCAGCCATCTTC\t,2325555730153350854445952733435635764366653726:55854595953;596644:438\tNH:i:1\tHI:i:1\tAS:i:68\tnM:i:0\tRG:Z:SRR306838_GSM752691_hsa_br_F_1\n",
      "SRR306838.6854298\t0\tchr1\t945552\t255\t69M\t*\t0\t0\tAGAGCTGTTCAGGTCAAAGAGGTCTTTAAATTGCTTCCTGTCCTCATCCTTCCTGTCAGCCATCTTCCT\t-4061264664863765555852744353656745474765854864:5557587296:6574652955\tNH:i:1\tHI:i:1\tAS:i:67\tnM:i:0\tRG:Z:SRR306838_GSM752691_hsa_br_F_1\n",
      "SRR306838.22584038\t0\tchr1\t945586\t255\t69M\t*\t0\t0\tTTCCTGTCCTCATCCTTCCTGTCAGCCATCTTCCTTCGTTTGATCTCAGGGAAGTTCAGGTCTTCCAGC\t-23325685594683248457474837736446654864685347493736536439681189656755\tNH:i:1\tHI:i:1\tAS:i:67\tnM:i:0\tRG:Z:SRR306838_GSM752691_hsa_br_F_1\n",
      "SRR306838.14605576\t16\tchr1\t945598\t3\t2S55M14S\t*\t0\t0\tATTCCTTCCTGTCAGCCATCTTCCTTCGTTTGATCTCAGGGAAGTTCAGGTCTTTCAACCACATTTGCTAG\t55567468<7868:678;8656784976477958=87:79:667178=8:596666948814;2172:246\tNH:i:2\tHI:i:1\tAS:i:52\tnM:i:1\tRG:Z:SRR306838_GSM752691_hsa_br_F_1\n",
      "SRR306838.22585585\t0\tchr1\t946262\t255\t25M\t*\t0\t0\tCCCGGGTCAGCTTCTCCCAGGCTTC\t4136655943847:56765665566\tNH:i:1\tHI:i:1\tAS:i:24\tnM:i:0\tRG:Z:SRR306838_GSM752691_hsa_br_F_1\n",
      "samtools view: writing to standard output failed: Broken pipe\n",
      "samtools view: error closing standard output: -1\n"
     ]
    }
   ],
   "source": [
    "! samtools view $outdir/$bam\\.unspliced.out_CDS_without_stop_codon_or_utr.bam | head"
   ]
  },
  {
   "cell_type": "code",
   "execution_count": 82,
   "metadata": {
    "execution_event_id": "d38d0cba-56e4-4472-a024-45f28cffac8e",
    "last_executed_text": "ls -lha $outdir",
    "persistent_id": "95951259-47d9-4d93-a99e-ae3d9657e97a"
   },
   "outputs": [
    {
     "name": "stdout",
     "output_type": "stream",
     "text": [
      "total 337M\n",
      "drwxrwxr-x 2 olga olga 4.0K Sep 18 07:37 \u001b[0m\u001b[01;34m.\u001b[0m/\n",
      "drwxrwxr-x 3 olga olga 4.0K Sep 10 15:07 \u001b[01;34m..\u001b[0m/\n",
      "-rw-rw-r-- 1 olga olga  52M Sep 18 07:37 SRR306838_GSM752691_hsa_br_F_1Aligned.sortedByCoord.out.bam.unspliced.bam\n",
      "-rw-rw-r-- 1 olga olga 9.3M Sep 18 09:58 SRR306838_GSM752691_hsa_br_F_1Aligned.sortedByCoord.out.bam.unspliced.out_CDS_without_stop_codon_or_utr.bam\n",
      "-rw-rw-r-- 1 olga olga  15M Sep 10 15:55 SRR306838_GSM752691_hsa_br_F_1Aligned.sortedByCoord.out_CDS_without_stop_codon.bam\n",
      "-rw-rw-r-- 1 olga olga 1.7M Sep 18 07:05 SRR306838_GSM752691_hsa_br_F_1Aligned.sortedByCoord.out_CDS_without_stop_codon.bam.bai\n",
      "-rw-rw-r-- 1 olga olga  15M Sep 18 07:15 SRR306838_GSM752691_hsa_br_F_1Aligned.sortedByCoord.out_CDS_without_stop_codon_or_utr.bam\n",
      "-rw-rw-r-- 1 olga olga 1.7M Sep 18 07:06 SRR306838_GSM752691_hsa_br_F_1Aligned.sortedByCoord.out_CDS_without_stop_codon_or_utr.bam.bai\n",
      "-rw-rw-r-- 1 olga olga 4.1M Sep 18 07:17 SRR306838_GSM752691_hsa_br_F_1Aligned.sortedByCoord.out_CDS_without_stop_codon_or_utr.read_ids.txt\n",
      "-rw-rw-r-- 1 olga olga 4.1M Sep 10 15:56 SRR306838_GSM752691_hsa_br_F_1Aligned.sortedByCoord.out_CDS_without_stop_codon.read_ids.txt\n",
      "-rw-r--r-- 1 olga olga 235M Sep 10 15:10 SRR306838_GSM752691_hsa_br_F_1_trimmed_k15.tsv\n"
     ]
    }
   ],
   "source": [
    "ls -lha $outdir"
   ]
  },
  {
   "cell_type": "markdown",
   "metadata": {
    "persistent_id": "3f895a23-147d-473f-9ca9-8da6d84575d8"
   },
   "source": [
    "## Index all sam files"
   ]
  },
  {
   "cell_type": "code",
   "execution_count": 104,
   "metadata": {
    "execution_event_id": "19bf4c5c-1fd8-47d2-ad6f-310777bfe88d",
    "last_executed_text": "! samtools index $outdir/SRR306838_GSM752691_hsa_br_F_1Aligned.sortedByCoord.out.bam.unspliced.bam",
    "persistent_id": "9aa794de-61b4-4d67-94d9-dccdf7ffe025"
   },
   "outputs": [],
   "source": [
    "! samtools index $outdir/SRR306838_GSM752691_hsa_br_F_1Aligned.sortedByCoord.out.bam.unspliced.bam"
   ]
  },
  {
   "cell_type": "code",
   "execution_count": 89,
   "metadata": {
    "execution_event_id": "6200d767-7856-44e2-a4c4-18eb95b8ea20",
    "last_executed_text": "outdir",
    "persistent_id": "e87fa038-4356-4520-8676-b984f828d570"
   },
   "outputs": [
    {
     "data": {
      "text/plain": [
       "'/home/olga/data_sm/kmer-hashing/brawand2011/human/'"
      ]
     },
     "execution_count": 89,
     "metadata": {},
     "output_type": "execute_result"
    }
   ],
   "source": [
    "outdir"
   ]
  },
  {
   "cell_type": "code",
   "execution_count": 108,
   "metadata": {
    "execution_event_id": "ca177af0-9a28-4326-9644-cf3fc3126da7",
    "last_executed_text": "! samtools index $outdir/SRR306838_GSM752691_hsa_br_F_1Aligned.sortedByCoord.out.bam.unspliced.out_CDS_without_stop_codon_or_utr.bam",
    "persistent_id": "5194e001-6f0f-4f80-8577-c6f578038b7f"
   },
   "outputs": [],
   "source": [
    "! samtools index $outdir/SRR306838_GSM752691_hsa_br_F_1Aligned.sortedByCoord.out.bam.unspliced.out_CDS_without_stop_codon_or_utr.bam"
   ]
  },
  {
   "cell_type": "code",
   "execution_count": 109,
   "metadata": {
    "execution_event_id": "9c2caaa7-65bc-471d-9875-eecc4f116bf1",
    "last_executed_text": "ls -lha $outdir",
    "persistent_id": "867ca261-98df-4275-bd7b-007d28464c3e"
   },
   "outputs": [
    {
     "name": "stdout",
     "output_type": "stream",
     "text": [
      "total 342M\n",
      "drwxrwxr-x 2 olga olga 4.0K Sep 18 10:12 \u001b[0m\u001b[01;34m.\u001b[0m/\n",
      "drwxrwxr-x 3 olga olga 4.0K Sep 10 15:07 \u001b[01;34m..\u001b[0m/\n",
      "-rw-rw-r-- 1 olga olga  52M Sep 18 10:05 SRR306838_GSM752691_hsa_br_F_1Aligned.sortedByCoord.out.bam.unspliced.bam\n",
      "-rw-rw-r-- 1 olga olga 2.9M Sep 18 10:12 SRR306838_GSM752691_hsa_br_F_1Aligned.sortedByCoord.out.bam.unspliced.bam.bai\n",
      "-rw-rw-r-- 1 olga olga 9.3M Sep 18 10:12 SRR306838_GSM752691_hsa_br_F_1Aligned.sortedByCoord.out.bam.unspliced.out_CDS_without_stop_codon_or_utr.bam\n",
      "-rw-rw-r-- 1 olga olga 1.9M Sep 18 10:12 SRR306838_GSM752691_hsa_br_F_1Aligned.sortedByCoord.out.bam.unspliced.out_CDS_without_stop_codon_or_utr.bam.bai\n",
      "-rw-rw-r-- 1 olga olga  15M Sep 10 15:55 SRR306838_GSM752691_hsa_br_F_1Aligned.sortedByCoord.out_CDS_without_stop_codon.bam\n",
      "-rw-rw-r-- 1 olga olga 1.7M Sep 18 07:05 SRR306838_GSM752691_hsa_br_F_1Aligned.sortedByCoord.out_CDS_without_stop_codon.bam.bai\n",
      "-rw-rw-r-- 1 olga olga  15M Sep 18 07:15 SRR306838_GSM752691_hsa_br_F_1Aligned.sortedByCoord.out_CDS_without_stop_codon_or_utr.bam\n",
      "-rw-rw-r-- 1 olga olga 1.7M Sep 18 07:06 SRR306838_GSM752691_hsa_br_F_1Aligned.sortedByCoord.out_CDS_without_stop_codon_or_utr.bam.bai\n",
      "-rw-rw-r-- 1 olga olga 4.1M Sep 18 07:17 SRR306838_GSM752691_hsa_br_F_1Aligned.sortedByCoord.out_CDS_without_stop_codon_or_utr.read_ids.txt\n",
      "-rw-rw-r-- 1 olga olga 4.1M Sep 10 15:56 SRR306838_GSM752691_hsa_br_F_1Aligned.sortedByCoord.out_CDS_without_stop_codon.read_ids.txt\n",
      "-rw-r--r-- 1 olga olga 235M Sep 10 15:10 SRR306838_GSM752691_hsa_br_F_1_trimmed_k15.tsv\n"
     ]
    }
   ],
   "source": [
    "ls -lha $outdir"
   ]
  },
  {
   "cell_type": "code",
   "execution_count": 87,
   "metadata": {
    "execution_event_id": "9e536fb2-0aa1-4c3b-848c-52cd8a4b427a",
    "last_executed_text": "ls -lha $outdir",
    "persistent_id": "01ad4559-7157-4546-a694-d17d8476be36"
   },
   "outputs": [
    {
     "name": "stdout",
     "output_type": "stream",
     "text": [
      "total 334M\n",
      "drwxrwxr-x 2 olga olga 4.0K Sep 18 09:59 \u001b[0m\u001b[01;34m.\u001b[0m/\n",
      "drwxrwxr-x 3 olga olga 4.0K Sep 10 15:07 \u001b[01;34m..\u001b[0m/\n",
      "-rw-rw-r-- 1 olga olga  52M Sep 18 07:37 SRR306838_GSM752691_hsa_br_F_1Aligned.sortedByCoord.out.bam.unspliced.bam\n",
      "-rw-rw-r-- 1 olga olga 2.9M Sep 18 09:59 SRR306838_GSM752691_hsa_br_F_1Aligned.sortedByCoord.out.bam.unspliced.bam.bai\n",
      "-rw-rw-r-- 1 olga olga 2.9M Sep 18 09:59 SRR306838_GSM752691_hsa_br_F_1Aligned.sortedByCoord.out.bam.unspliced.out_CDS_without_stop_codon_or_utr.bam\n",
      "-rw-rw-r-- 1 olga olga  15M Sep 10 15:55 SRR306838_GSM752691_hsa_br_F_1Aligned.sortedByCoord.out_CDS_without_stop_codon.bam\n",
      "-rw-rw-r-- 1 olga olga 1.7M Sep 18 07:05 SRR306838_GSM752691_hsa_br_F_1Aligned.sortedByCoord.out_CDS_without_stop_codon.bam.bai\n",
      "-rw-rw-r-- 1 olga olga  15M Sep 18 07:15 SRR306838_GSM752691_hsa_br_F_1Aligned.sortedByCoord.out_CDS_without_stop_codon_or_utr.bam\n",
      "-rw-rw-r-- 1 olga olga 1.7M Sep 18 07:06 SRR306838_GSM752691_hsa_br_F_1Aligned.sortedByCoord.out_CDS_without_stop_codon_or_utr.bam.bai\n",
      "-rw-rw-r-- 1 olga olga 4.1M Sep 18 07:17 SRR306838_GSM752691_hsa_br_F_1Aligned.sortedByCoord.out_CDS_without_stop_codon_or_utr.read_ids.txt\n",
      "-rw-rw-r-- 1 olga olga 4.1M Sep 10 15:56 SRR306838_GSM752691_hsa_br_F_1Aligned.sortedByCoord.out_CDS_without_stop_codon.read_ids.txt\n",
      "-rw-r--r-- 1 olga olga 235M Sep 10 15:10 SRR306838_GSM752691_hsa_br_F_1_trimmed_k15.tsv\n"
     ]
    }
   ],
   "source": [
    "ls -lha $outdir"
   ]
  },
  {
   "cell_type": "markdown",
   "metadata": {
    "persistent_id": "e56958ba-97b0-4393-8c57-c60ca0d52c58"
   },
   "source": [
    "### Extract the read ids"
   ]
  },
  {
   "cell_type": "code",
   "execution_count": 112,
   "metadata": {
    "execution_event_id": "f48dac16-5c49-42ea-9b77-5ed72144718d",
    "last_executed_text": "! samtools view $outdir/SRR306838_GSM752691_hsa_br_F_1Aligned.sortedByCoord.out.bam.unspliced.out_CDS_without_stop_codon_or_utr.bam | cut -f 1 > $outdir/SRR306838_GSM752691_hsa_br_F_1Aligned.sortedByCoord.out.bam.unspliced.out_CDS_without_stop_codon_or_utr.read_ids.txt",
    "persistent_id": "2549095e-81b1-46d0-8137-d1b9e709aae1"
   },
   "outputs": [],
   "source": [
    "! samtools view $outdir/SRR306838_GSM752691_hsa_br_F_1Aligned.sortedByCoord.out.bam.unspliced.out_CDS_without_stop_codon_or_utr.bam | cut -f 1 > $outdir/SRR306838_GSM752691_hsa_br_F_1Aligned.sortedByCoord.out.bam.unspliced.out_CDS_without_stop_codon_or_utr.read_ids.txt"
   ]
  },
  {
   "cell_type": "code",
   "execution_count": 115,
   "metadata": {
    "execution_event_id": "d56cf9b1-deb3-495f-8707-6628ccc47cb9",
    "last_executed_text": "! samtools view $outdir/SRR306838_GSM752691_hsa_br_F_1Aligned.sortedByCoord.out.bam.unspliced.bam | cut -f 1 > $outdir/SRR306838_GSM752691_hsa_br_F_1Aligned.sortedByCoord.out.bam.unspliced.read_ids.txt",
    "persistent_id": "e1de5d7b-4f72-4173-b103-02cb281e6f8b"
   },
   "outputs": [],
   "source": [
    "! samtools view $outdir/SRR306838_GSM752691_hsa_br_F_1Aligned.sortedByCoord.out.bam.unspliced.bam | cut -f 1 > $outdir/SRR306838_GSM752691_hsa_br_F_1Aligned.sortedByCoord.out.bam.unspliced.read_ids.txt"
   ]
  },
  {
   "cell_type": "code",
   "execution_count": 113,
   "metadata": {
    "execution_event_id": "5e89527e-d188-4b26-b165-e7680ff1c6a8",
    "last_executed_text": "! head $outdir/SRR306838_GSM752691_hsa_br_F_1Aligned.sortedByCoord.out.bam.unspliced.out_CDS_without_stop_codon_or_utr.read_ids.txt",
    "persistent_id": "00b69365-367c-4acc-86ef-a77f6863b989"
   },
   "outputs": [
    {
     "name": "stdout",
     "output_type": "stream",
     "text": [
      "SRR306838.13598607\n",
      "SRR306838.23303318\n",
      "SRR306838.19917713\n",
      "SRR306838.19937719\n",
      "SRR306838.20862490\n",
      "SRR306838.21924959\n",
      "SRR306838.6854298\n",
      "SRR306838.22584038\n",
      "SRR306838.14605576\n",
      "SRR306838.22585585\n"
     ]
    }
   ],
   "source": [
    "! head $outdir/SRR306838_GSM752691_hsa_br_F_1Aligned.sortedByCoord.out.bam.unspliced.out_CDS_without_stop_codon_or_utr.read_ids.txt"
   ]
  },
  {
   "cell_type": "code",
   "execution_count": 114,
   "metadata": {
    "execution_event_id": "6f1fd6da-344b-438f-8ffa-5dae6ec7afa8",
    "last_executed_text": "! wc -l $outdir/SRR306838_GSM752691_hsa_br_F_1Aligned.sortedByCoord.out.bam.unspliced.out_CDS_without_stop_codon_or_utr.read_ids.txt",
    "persistent_id": "8384dda3-7ef9-4301-a114-30a441e42445"
   },
   "outputs": [
    {
     "name": "stdout",
     "output_type": "stream",
     "text": [
      "151869 /home/olga/data_sm/kmer-hashing/brawand2011/human/SRR306838_GSM752691_hsa_br_F_1Aligned.sortedByCoord.out.bam.unspliced.out_CDS_without_stop_codon_or_utr.read_ids.txt\n"
     ]
    }
   ],
   "source": [
    "! wc -l $outdir/SRR306838_GSM752691_hsa_br_F_1Aligned.sortedByCoord.out.bam.unspliced.out_CDS_without_stop_codon_or_utr.read_ids.txt"
   ]
  },
  {
   "cell_type": "code",
   "execution_count": 69,
   "metadata": {
    "execution_event_id": "4b0d40b3-508d-4dfd-95eb-053fcaeea645",
    "last_executed_text": "! samtools view $outdir/SRR306838_GSM752691_hsa_br_F_1Aligned.sortedByCoord.out.bam.unspliced.out_CDS_without_stop_codon_or_utr.bam | head",
    "persistent_id": "25a6e7cc-3cf0-4309-be82-e439ad98f01d"
   },
   "outputs": [
    {
     "name": "stdout",
     "output_type": "stream",
     "text": [
      "[E::hts_hopen] Failed to open file /home/olga/data_sm/kmer-hashing/brawand2011/human//SRR306838_GSM752691_hsa_br_F_1Aligned.sortedByCoord.out.bam.unspliced.out_CDS_without_stop_codon_or_utr.bam\n",
      "[E::hts_open_format] Failed to open file /home/olga/data_sm/kmer-hashing/brawand2011/human//SRR306838_GSM752691_hsa_br_F_1Aligned.sortedByCoord.out.bam.unspliced.out_CDS_without_stop_codon_or_utr.bam\n",
      "samtools view: failed to open \"/home/olga/data_sm/kmer-hashing/brawand2011/human//SRR306838_GSM752691_hsa_br_F_1Aligned.sortedByCoord.out.bam.unspliced.out_CDS_without_stop_codon_or_utr.bam\" for reading: Exec format error\n"
     ]
    }
   ],
   "source": [
    "! samtools view $outdir/SRR306838_GSM752691_hsa_br_F_1Aligned.sortedByCoord.out.bam.unspliced.out_CDS_without_stop_codon_or_utr.bam | head"
   ]
  },
  {
   "cell_type": "code",
   "execution_count": null,
   "metadata": {
    "persistent_id": "3a962e6a-871b-4aa3-ba9a-195707578ddd"
   },
   "outputs": [],
   "source": [
    "! samtools view $outdir/SRR306838_GSM752691_hsa_br_F_1Aligned.sortedByCoord.out_CDS_without_stop_codon.bam "
   ]
  },
  {
   "cell_type": "code",
   "execution_count": 40,
   "metadata": {
    "execution_event_id": "6b04459f-2681-40e7-9b1e-697a514364fc",
    "last_executed_text": "outdir",
    "persistent_id": "595ebcc4-85fb-4497-9819-0a63e7f2dfd9"
   },
   "outputs": [
    {
     "data": {
      "text/plain": [
       "'/home/olga/data_sm/kmer-hashing/brawand2011/human/'"
      ]
     },
     "execution_count": 40,
     "metadata": {},
     "output_type": "execute_result"
    }
   ],
   "source": [
    "outdir"
   ]
  },
  {
   "cell_type": "code",
   "execution_count": 41,
   "metadata": {
    "execution_event_id": "916ddb78-e8e4-4f33-919d-8debf7d33730",
    "last_executed_text": "ll $outdir",
    "persistent_id": "0e8180b6-c3ae-4ddf-81b7-0d9c4a3c6db2"
   },
   "outputs": [
    {
     "name": "stdout",
     "output_type": "stream",
     "text": [
      "total 278872\n",
      "-rw-rw-r-- 1 olga  15288774 Sep 10 15:55 SRR306838_GSM752691_hsa_br_F_1Aligned.sortedByCoord.out_CDS_without_stop_codon.bam\n",
      "-rw-rw-r-- 1 olga  15288774 Sep 10 15:56 SRR306838_GSM752691_hsa_br_F_1Aligned.sortedByCoord.out_CDS_without_stop_codon_or_utr.bam\n",
      "-rw-rw-r-- 1 olga   4287738 Sep 10 15:56 SRR306838_GSM752691_hsa_br_F_1Aligned.sortedByCoord.out_CDS_without_stop_codon_or_utr.read_ids.txt\n",
      "-rw-rw-r-- 1 olga   4287738 Sep 10 15:56 SRR306838_GSM752691_hsa_br_F_1Aligned.sortedByCoord.out_CDS_without_stop_codon.read_ids.txt\n",
      "-rw-r--r-- 1 olga 246383740 Sep 10 15:10 SRR306838_GSM752691_hsa_br_F_1_trimmed_k15.tsv\n"
     ]
    }
   ],
   "source": [
    "ll $outdir"
   ]
  },
  {
   "cell_type": "code",
   "execution_count": 42,
   "metadata": {
    "execution_event_id": "c3bd645d-0739-4085-9d0e-497658a5c00a",
    "last_executed_text": "! samtools index $outdir/SRR306838_GSM752691_hsa_br_F_1Aligned.sortedByCoord.out_CDS_without_stop_codon.bam",
    "persistent_id": "341d4632-9b38-42e8-819a-77775d39db06"
   },
   "outputs": [],
   "source": [
    "! samtools index $outdir/SRR306838_GSM752691_hsa_br_F_1Aligned.sortedByCoord.out_CDS_without_stop_codon.bam"
   ]
  },
  {
   "cell_type": "code",
   "execution_count": 43,
   "metadata": {
    "execution_event_id": "f4a02d3e-7413-4a81-bb25-7385bf249273",
    "last_executed_text": "! samtools index $outdir/SRR306838_GSM752691_hsa_br_F_1Aligned.sortedByCoord.out_CDS_without_stop_codon_or_utr.bam",
    "persistent_id": "68e3cca7-76a2-40e7-a5a5-869323669a86"
   },
   "outputs": [],
   "source": [
    "! samtools index $outdir/SRR306838_GSM752691_hsa_br_F_1Aligned.sortedByCoord.out_CDS_without_stop_codon_or_utr.bam"
   ]
  },
  {
   "cell_type": "code",
   "execution_count": 68,
   "metadata": {
    "execution_event_id": "16cc4bcf-8002-4e6c-9f0f-39d083c712c8",
    "last_executed_text": "ls -lha $outdir",
    "persistent_id": "de5cd7bf-3aae-4ce1-8335-eac8e66a5bf4"
   },
   "outputs": [
    {
     "name": "stdout",
     "output_type": "stream",
     "text": [
      "total 331M\n",
      "drwxrwxr-x 2 olga olga 4.0K Sep 18 07:37 \u001b[0m\u001b[01;34m.\u001b[0m/\n",
      "drwxrwxr-x 3 olga olga 4.0K Sep 10 15:07 \u001b[01;34m..\u001b[0m/\n",
      "-rw-rw-r-- 1 olga olga  52M Sep 18 07:37 SRR306838_GSM752691_hsa_br_F_1Aligned.sortedByCoord.out.bam.unspliced.bam\n",
      "-rw-rw-r-- 1 olga olga 2.9M Sep 18 09:54 SRR306838_GSM752691_hsa_br_F_1Aligned.sortedByCoord.out.bam.unspliced.out_CDS_without_stop_codon_or_utr.bam\n",
      "-rw-rw-r-- 1 olga olga  15M Sep 10 15:55 SRR306838_GSM752691_hsa_br_F_1Aligned.sortedByCoord.out_CDS_without_stop_codon.bam\n",
      "-rw-rw-r-- 1 olga olga 1.7M Sep 18 07:05 SRR306838_GSM752691_hsa_br_F_1Aligned.sortedByCoord.out_CDS_without_stop_codon.bam.bai\n",
      "-rw-rw-r-- 1 olga olga  15M Sep 18 07:15 SRR306838_GSM752691_hsa_br_F_1Aligned.sortedByCoord.out_CDS_without_stop_codon_or_utr.bam\n",
      "-rw-rw-r-- 1 olga olga 1.7M Sep 18 07:06 SRR306838_GSM752691_hsa_br_F_1Aligned.sortedByCoord.out_CDS_without_stop_codon_or_utr.bam.bai\n",
      "-rw-rw-r-- 1 olga olga 4.1M Sep 18 07:17 SRR306838_GSM752691_hsa_br_F_1Aligned.sortedByCoord.out_CDS_without_stop_codon_or_utr.read_ids.txt\n",
      "-rw-rw-r-- 1 olga olga 4.1M Sep 10 15:56 SRR306838_GSM752691_hsa_br_F_1Aligned.sortedByCoord.out_CDS_without_stop_codon.read_ids.txt\n",
      "-rw-r--r-- 1 olga olga 235M Sep 10 15:10 SRR306838_GSM752691_hsa_br_F_1_trimmed_k15.tsv\n"
     ]
    }
   ],
   "source": [
    "ls -lha $outdir"
   ]
  },
  {
   "cell_type": "code",
   "execution_count": 39,
   "metadata": {
    "execution_event_id": "77821f16-1a5c-4656-8404-0d3b76203b9c",
    "last_executed_text": "! bioawk -c gff '$start > 148292' $cds_no_stop_codons_or_utr_gtf | head",
    "persistent_id": "6f76ce4c-d4fc-4e3f-b1bc-c32a41b18e1a"
   },
   "outputs": [
    {
     "name": "stdout",
     "output_type": "stream",
     "text": [
      "chr1\tHAVANA\tCDS\t450743\t451678\t.\t-\t0\tgene_id \"ENSG00000284733.1\"; transcript_id \"ENST00000426406.3\"; gene_type \"protein_coding\"; gene_name \"OR4F29\"; transcript_type \"protein_coding\"; transcript_name \"OR4F29-201\"; exon_number 1; exon_id \"ENSE00002316283.3\"; level 2; protein_id \"ENSP00000409316.1\"; transcript_support_level \"NA\"; tag \"basic\"; tag \"appris_principal_1\"; tag \"CCDS\"; ccdsid \"CCDS72675.1\"; havana_gene \"OTTHUMG00000002860.3\"; havana_transcript \"OTTHUMT00000007999.3\";\n",
      "chr1\tHAVANA\tCDS\t685719\t686654\t.\t-\t0\tgene_id \"ENSG00000284662.1\"; transcript_id \"ENST00000332831.4\"; gene_type \"protein_coding\"; gene_name \"OR4F16\"; transcript_type \"protein_coding\"; transcript_name \"OR4F16-201\"; exon_number 1; exon_id \"ENSE00002324228.3\"; level 2; protein_id \"ENSP00000329982.2\"; transcript_support_level \"NA\"; tag \"basic\"; tag \"appris_principal_1\"; tag \"CCDS\"; ccdsid \"CCDS41221.1\"; havana_gene \"OTTHUMG00000002581.3\"; havana_transcript \"OTTHUMT00000007334.3\";\n",
      "chr1\tHAVANA\tCDS\t924432\t924948\t.\t+\t0\tgene_id \"ENSG00000187634.12\"; transcript_id \"ENST00000420190.6\"; gene_type \"protein_coding\"; gene_name \"SAMD11\"; transcript_type \"protein_coding\"; transcript_name \"SAMD11-203\"; exon_number 1; exon_id \"ENSE00001637883.2\"; level 2; protein_id \"ENSP00000411579.2\"; transcript_support_level \"3\"; tag \"alternative_5_UTR\"; tag \"CAGE_supported_TSS\"; tag \"mRNA_end_NF\"; tag \"cds_end_NF\"; havana_gene \"OTTHUMG00000040719.11\"; havana_transcript \"OTTHUMT00000316521.3\";\n",
      "chr1\tHAVANA\tCDS\t930155\t930336\t.\t+\t0\tgene_id \"ENSG00000187634.12\"; transcript_id \"ENST00000420190.6\"; gene_type \"protein_coding\"; gene_name \"SAMD11\"; transcript_type \"protein_coding\"; transcript_name \"SAMD11-203\"; exon_number 3; exon_id \"ENSE00002727207.1\"; level 2; protein_id \"ENSP00000411579.2\"; transcript_support_level \"3\"; tag \"alternative_5_UTR\"; tag \"CAGE_supported_TSS\"; tag \"mRNA_end_NF\"; tag \"cds_end_NF\"; havana_gene \"OTTHUMG00000040719.11\"; havana_transcript \"OTTHUMT00000316521.3\";\n",
      "chr1\tHAVANA\tCDS\t931039\t931089\t.\t+\t1\tgene_id \"ENSG00000187634.12\"; transcript_id \"ENST00000420190.6\"; gene_type \"protein_coding\"; gene_name \"SAMD11\"; transcript_type \"protein_coding\"; transcript_name \"SAMD11-203\"; exon_number 4; exon_id \"ENSE00002696520.1\"; level 2; protein_id \"ENSP00000411579.2\"; transcript_support_level \"3\"; tag \"alternative_5_UTR\"; tag \"CAGE_supported_TSS\"; tag \"mRNA_end_NF\"; tag \"cds_end_NF\"; havana_gene \"OTTHUMG00000040719.11\"; havana_transcript \"OTTHUMT00000316521.3\";\n",
      "chr1\tHAVANA\tCDS\t935772\t935896\t.\t+\t1\tgene_id \"ENSG00000187634.12\"; transcript_id \"ENST00000420190.6\"; gene_type \"protein_coding\"; gene_name \"SAMD11\"; transcript_type \"protein_coding\"; transcript_name \"SAMD11-203\"; exon_number 5; exon_id \"ENSE00002703998.1\"; level 2; protein_id \"ENSP00000411579.2\"; transcript_support_level \"3\"; tag \"alternative_5_UTR\"; tag \"CAGE_supported_TSS\"; tag \"mRNA_end_NF\"; tag \"cds_end_NF\"; havana_gene \"OTTHUMG00000040719.11\"; havana_transcript \"OTTHUMT00000316521.3\";\n",
      "chr1\tHAVANA\tCDS\t939040\t939129\t.\t+\t2\tgene_id \"ENSG00000187634.12\"; transcript_id \"ENST00000420190.6\"; gene_type \"protein_coding\"; gene_name \"SAMD11\"; transcript_type \"protein_coding\"; transcript_name \"SAMD11-203\"; exon_number 6; exon_id \"ENSE00002686739.1\"; level 2; protein_id \"ENSP00000411579.2\"; transcript_support_level \"3\"; tag \"alternative_5_UTR\"; tag \"CAGE_supported_TSS\"; tag \"mRNA_end_NF\"; tag \"cds_end_NF\"; havana_gene \"OTTHUMG00000040719.11\"; havana_transcript \"OTTHUMT00000316521.3\";\n",
      "chr1\tHAVANA\tCDS\t939275\t939291\t.\t+\t2\tgene_id \"ENSG00000187634.12\"; transcript_id \"ENST00000420190.6\"; gene_type \"protein_coding\"; gene_name \"SAMD11\"; transcript_type \"protein_coding\"; transcript_name \"SAMD11-203\"; exon_number 7; exon_id \"ENSE00001608769.1\"; level 2; protein_id \"ENSP00000411579.2\"; transcript_support_level \"3\"; tag \"alternative_5_UTR\"; tag \"CAGE_supported_TSS\"; tag \"mRNA_end_NF\"; tag \"cds_end_NF\"; havana_gene \"OTTHUMG00000040719.11\"; havana_transcript \"OTTHUMT00000316521.3\";\n",
      "chr1\tHAVANA\tCDS\t925942\t926013\t.\t+\t0\tgene_id \"ENSG00000187634.12\"; transcript_id \"ENST00000437963.5\"; gene_type \"protein_coding\"; gene_name \"SAMD11\"; transcript_type \"protein_coding\"; transcript_name \"SAMD11-204\"; exon_number 2; exon_id \"ENSE00001763717.1\"; level 2; protein_id \"ENSP00000393181.1\"; transcript_support_level \"5\"; tag \"alternative_5_UTR\"; tag \"mRNA_end_NF\"; tag \"cds_end_NF\"; havana_gene \"OTTHUMG00000040719.11\"; havana_transcript \"OTTHUMT00000097862.5\";\n",
      "chr1\tHAVANA\tCDS\t930155\t930336\t.\t+\t0\tgene_id \"ENSG00000187634.12\"; transcript_id \"ENST00000437963.5\"; gene_type \"protein_coding\"; gene_name \"SAMD11\"; transcript_type \"protein_coding\"; transcript_name \"SAMD11-204\"; exon_number 3; exon_id \"ENSE00002727207.1\"; level 2; protein_id \"ENSP00000393181.1\"; transcript_support_level \"5\"; tag \"alternative_5_UTR\"; tag \"mRNA_end_NF\"; tag \"cds_end_NF\"; havana_gene \"OTTHUMG00000040719.11\"; havana_transcript \"OTTHUMT00000097862.5\";\n",
      "bioawk: write error on /dev/stdout\n",
      " input record number 168, file /home/olga/data_lg/czbiohub-reference/gencode/human/v30/gencode.v30.annotation.ERCC92.CDS_without_stop_codon_or_utr.gtf\n",
      " source line number 1\n"
     ]
    }
   ],
   "source": [
    "! bioawk -c gff '$start > 148292' $cds_no_stop_codons_or_utr_gtf | head"
   ]
  },
  {
   "cell_type": "code",
   "execution_count": null,
   "metadata": {
    "persistent_id": "8ac7a5d8-153e-4764-b898-4f1c331d2f27"
   },
   "outputs": [],
   "source": []
  }
 ],
 "metadata": {
  "history": [
   {
    "cell": {
     "executionCount": 1,
     "executionEventId": "bf2b9d0a-c41b-4d57-b719-76a62093c5a8",
     "hasError": false,
     "id": "ea3d3956-09d0-44cb-8c67-007a0116af83",
     "outputs": [
      {
       "name": "stdout",
       "output_type": "stream",
       "text": "/mnt/ibm_lg/olga/kmer-hashing/brawand2011/nfcore-rnaseq/human/single_end/STAR\n"
      }
     ],
     "persistentId": "5d8f48fc-4db3-4f2e-9ed5-2c1f1d9f45ee",
     "text": "cd ~/ibm_lg/kmer-hashing/brawand2011/nfcore-rnaseq/human/single_end/STAR "
    },
    "executionTime": "2019-09-10T21:56:43.251Z"
   },
   {
    "cell": {
     "executionCount": 2,
     "executionEventId": "578818e7-5421-4c1d-a5b6-17455d42a803",
     "hasError": false,
     "id": "b4f19685-439a-48ad-9caa-15ca7cd412cc",
     "outputs": [],
     "persistentId": "fe6d35ec-2221-44f9-a287-bbf31411f7f0",
     "text": "sample_id = 'SRR306838_GSM752691_hsa_br_F_1'"
    },
    "executionTime": "2019-09-10T21:56:58.425Z"
   },
   {
    "cell": {
     "executionCount": 3,
     "executionEventId": "f0bb1eee-0648-462a-97ed-00ea55600625",
     "hasError": false,
     "id": "c8572e31-1f1a-4bf6-9762-33638a78d19f",
     "outputs": [
      {
       "name": "stdout",
       "output_type": "stream",
       "text": "total 21G\ndrwxr-xr-x  3 5008 5000 4.0K Sep 10 12:25 \u001b[0m\u001b[01;34m.\u001b[0m/\ndrwxr-xr-x 17 5008 5000 4.0K Sep  2 12:00 \u001b[01;34m..\u001b[0m/\ndrwxr-xr-x  2 5008 5000 8.0K Sep 10 12:25 \u001b[01;34mlogs\u001b[0m/\n-rw-r--r--  1 5008 5000  65M Sep 10 10:02 SRR306838_GSM752691_hsa_br_F_1Aligned.sortedByCoord.out.bam\n-rw-r--r--  1 5008 5000 2.5M Sep 10 10:02 SRR306838_GSM752691_hsa_br_F_1Aligned.sortedByCoord.out.bam.bai\n-rw-r--r--  1 5008 5000 1.3G Sep 10 10:42 SRR306839_GSM752692_hsa_br_M_3Aligned.sortedByCoord.out.bam\n-rw-r--r--  1 5008 5000 3.6M Sep 10 10:42 SRR306839_GSM752692_hsa_br_M_3Aligned.sortedByCoord.out.bam.bai\n-rw-r--r--  1 5008 5000 1.5G Sep 10 10:55 SRR306841_GSM752694_hsa_br_M_2Aligned.sortedByCoord.out.bam\n-rw-r--r--  1 5008 5000 3.8M Sep 10 10:55 SRR306841_GSM752694_hsa_br_M_2Aligned.sortedByCoord.out.bam.bai\n-rw-r--r--  1 5008 5000 405M Sep 10 09:25 SRR306843_GSM752696_hsa_br_M_5Aligned.sortedByCoord.out.bam\n-rw-r--r--  1 5008 5000 3.5M Sep 10 09:25 SRR306843_GSM752696_hsa_br_M_5Aligned.sortedByCoord.out.bam.bai\n-rw-r--r--  1 5008 5000 2.4G Sep 10 12:17 SRR306844_GSM752697_hsa_cb_F_1Aligned.sortedByCoord.out.bam\n-rw-r--r--  1 5008 5000 4.1M Sep 10 12:16 SRR306844_GSM752697_hsa_cb_F_1Aligned.sortedByCoord.out.bam.bai\n-rw-r--r--  1 5008 5000 564M Sep 10 10:39 SRR306845_GSM752698_hsa_cb_M_1Aligned.sortedByCoord.out.bam\n-rw-r--r--  1 5008 5000 3.7M Sep 10 10:39 SRR306845_GSM752698_hsa_cb_M_1Aligned.sortedByCoord.out.bam.bai\n-rw-r--r--  1 5008 5000 1.5G Sep 10 12:26 SRR306846_GSM752698_hsa_cb_M_1Aligned.sortedByCoord.out.bam\n-rw-r--r--  1 5008 5000 3.8M Sep 10 12:25 SRR306846_GSM752698_hsa_cb_M_1Aligned.sortedByCoord.out.bam.bai\n-rw-r--r--  1 5008 5000  33M Sep 10 09:24 SRR306847_GSM752699_hsa_ht_F_1Aligned.sortedByCoord.out.bam\n-rw-r--r--  1 5008 5000 2.3M Sep 10 09:24 SRR306847_GSM752699_hsa_ht_F_1Aligned.sortedByCoord.out.bam.bai\n-rw-r--r--  1 5008 5000 600M Sep 10 09:26 SRR306848_GSM752700_hsa_ht_M_1Aligned.sortedByCoord.out.bam\n-rw-r--r--  1 5008 5000 3.6M Sep 10 09:26 SRR306848_GSM752700_hsa_ht_M_1Aligned.sortedByCoord.out.bam.bai\n-rw-r--r--  1 5008 5000 1.6G Sep 10 11:09 SRR306849_GSM752700_hsa_ht_M_1Aligned.sortedByCoord.out.bam\n-rw-r--r--  1 5008 5000 3.4M Sep 10 11:09 SRR306849_GSM752700_hsa_ht_M_1Aligned.sortedByCoord.out.bam.bai\n-rw-r--r--  1 5008 5000 2.0G Sep 10 11:42 SRR306850_GSM752701_hsa_ht_M_2Aligned.sortedByCoord.out.bam\n-rw-r--r--  1 5008 5000 3.6M Sep 10 11:41 SRR306850_GSM752701_hsa_ht_M_2Aligned.sortedByCoord.out.bam.bai\n-rw-r--r--  1 5008 5000  97M Sep 10 10:23 SRR306851_GSM752702_hsa_kd_F_1Aligned.sortedByCoord.out.bam\n-rw-r--r--  1 5008 5000 2.4M Sep 10 10:22 SRR306851_GSM752702_hsa_kd_F_1Aligned.sortedByCoord.out.bam.bai\n-rw-r--r--  1 5008 5000 2.1G Sep 10 12:12 SRR306853_GSM752704_hsa_kd_M_2Aligned.sortedByCoord.out.bam\n-rw-r--r--  1 5008 5000 3.9M Sep 10 12:12 SRR306853_GSM752704_hsa_kd_M_2Aligned.sortedByCoord.out.bam.bai\n-rw-r--r--  1 5008 5000 354M Sep 10 10:02 SRR306854_GSM752705_hsa_lv_M_1Aligned.sortedByCoord.out.bam\n-rw-r--r--  1 5008 5000 3.7M Sep 10 10:02 SRR306854_GSM752705_hsa_lv_M_1Aligned.sortedByCoord.out.bam.bai\n-rw-r--r--  1 5008 5000 2.0G Sep 10 11:58 SRR306855_GSM752705_hsa_lv_M_1Aligned.sortedByCoord.out.bam\n-rw-r--r--  1 5008 5000 3.4M Sep 10 11:58 SRR306855_GSM752705_hsa_lv_M_1Aligned.sortedByCoord.out.bam.bai\n-rw-r--r--  1 5008 5000 1.9G Sep 10 11:25 SRR306856_GSM752706_hsa_lv_M_2Aligned.sortedByCoord.out.bam\n-rw-r--r--  1 5008 5000 3.9M Sep 10 11:24 SRR306856_GSM752706_hsa_lv_M_2Aligned.sortedByCoord.out.bam.bai\n-rw-r--r--  1 5008 5000 387M Sep 10 10:22 SRR306857_GSM752707_hsa_ts_M_1Aligned.sortedByCoord.out.bam\n-rw-r--r--  1 5008 5000 2.9M Sep 10 10:22 SRR306857_GSM752707_hsa_ts_M_1Aligned.sortedByCoord.out.bam.bai\n-rw-r--r--  1 5008 5000 2.5G Sep 10 12:18 SRR306858_GSM752708_hsa_ts_M_2Aligned.sortedByCoord.out.bam\n-rw-r--r--  1 5008 5000 3.7M Sep 10 12:18 SRR306858_GSM752708_hsa_ts_M_2Aligned.sortedByCoord.out.bam.bai\n"
      }
     ],
     "persistentId": "14b848b0-0f96-4e38-9ede-c2217890b707",
     "text": "ls -lha"
    },
    "executionTime": "2019-09-10T21:57:42.858Z"
   },
   {
    "cell": {
     "executionCount": 4,
     "executionEventId": "0d9d7c48-62e8-423b-ab25-3be87cc51108",
     "hasError": false,
     "id": "4f6b0dfe-ae1a-48ed-a88e-bd4dbcc062ca",
     "outputs": [
      {
       "name": "stdout",
       "output_type": "stream",
       "text": "^C\n"
      }
     ],
     "persistentId": "6bd94e74-b3fb-43a1-812b-1f64d065ac9a",
     "text": "! bioawk -c gff '$feature == \"CDS\"' $gtf > /home/olga/data_lg/czbiohub-reference/gencode/human/v30/gencode.v30.annotation.ERCC92.CDS.gtf"
    },
    "executionTime": "2019-09-10T21:59:46.766Z"
   },
   {
    "cell": {
     "executionCount": 5,
     "executionEventId": "3729b2de-7cc7-4bae-b8c4-4d1e24d0c20e",
     "hasError": false,
     "id": "dbeaf892-254a-4bb1-aa43-3aad39cbe15a",
     "outputs": [],
     "persistentId": "b70f0597-303b-4852-ab73-9440968b47ea",
     "text": "gtf = '/home/olga/data_lg/czbiohub-reference/gencode/human/v30/gencode.v30.annotation.ERCC92.gtf'"
    },
    "executionTime": "2019-09-10T21:59:48.942Z"
   },
   {
    "cell": {
     "executionCount": 7,
     "executionEventId": "6c93d42c-5a10-476e-b136-4529658204f2",
     "hasError": false,
     "id": "e430cd73-25d7-4aae-913b-82b157dd5bbf",
     "outputs": [
      {
       "name": "stdout",
       "output_type": "stream",
       "text": "CDS\n##contact: gencode-help@ebi.ac.uk\n##date: 2019-03-28\n##description: evidence-based annotation of the human genome (GRCh38), version 30 (Ensembl 96)\nexon\n##format: gtf\ngene\n##provider: GENCODE\nSelenocysteine\nstart_codon\nstop_codon\ntranscript\nUTR\n"
      }
     ],
     "persistentId": "d4db0a5c-432f-469f-8b7a-18dce5ba3d0b",
     "text": "! cut -f 3 $gtf | sort | uniq"
    },
    "executionTime": "2019-09-10T22:02:08.574Z"
   },
   {
    "cell": {
     "executionCount": 8,
     "executionEventId": "424cff53-69a0-4647-a78d-1ab84f2eaf6a",
     "hasError": false,
     "id": "b00d82c4-72fe-4dd1-954c-cf4f4681b5a4",
     "outputs": [],
     "persistentId": "ca963796-8328-4f39-9aa1-4b2eb202523a",
     "text": "stop_codon_gtf = '/home/olga/data_lg/czbiohub-reference/gencode/human/v30/gencode.v30.annotation.ERCC92.stop_codon.gtf'\n! bioawk -c gff '$feature == \"stop_codon\"' $gtf > $stop_codon_gtf"
    },
    "executionTime": "2019-09-10T22:02:39.967Z"
   },
   {
    "cell": {
     "executionCount": 9,
     "executionEventId": "b144e156-78a4-41c5-af3b-27ed6c8e7574",
     "hasError": false,
     "id": "34c1fa09-4470-44aa-a524-8e20e0a18a58",
     "outputs": [
      {
       "name": "stdout",
       "output_type": "stream",
       "text": "798376 /home/olga/data_lg/czbiohub-reference/gencode/human/v30/gencode.v30.annotation.ERCC92.CDS_without_stop_codon.gtf\n"
      }
     ],
     "persistentId": "0e4fb4f8-a316-495e-8a7e-3a2f62959a20",
     "text": "cds_no_stop_codons_gtf = '/home/olga/data_lg/czbiohub-reference/gencode/human/v30/gencode.v30.annotation.ERCC92.CDS_without_stop_codon.gtf'\n\n\n! bedtools subtract -a $cds_gtf -b $stop_codon_gtf > $cds_no_stop_codons_gtf\n! wc -l $cds_no_stop_codons_gtf"
    },
    "executionTime": "2019-09-10T22:04:45.171Z"
   },
   {
    "cell": {
     "executionCount": 10,
     "executionEventId": "09bc8023-33e6-41f3-989c-57fb9905719a",
     "hasError": false,
     "id": "b00d82c4-72fe-4dd1-954c-cf4f4681b5a4",
     "outputs": [
      {
       "name": "stdout",
       "output_type": "stream",
       "text": "79378 /home/olga/data_lg/czbiohub-reference/gencode/human/v30/gencode.v30.annotation.ERCC92.stop_codon.gtf\n"
      }
     ],
     "persistentId": "ca963796-8328-4f39-9aa1-4b2eb202523a",
     "text": "stop_codon_gtf = '/home/olga/data_lg/czbiohub-reference/gencode/human/v30/gencode.v30.annotation.ERCC92.stop_codon.gtf'\n! bioawk -c gff '$feature == \"stop_codon\"' $gtf > $stop_codon_gtf\n! wc -l $stop_codon_gtf"
    },
    "executionTime": "2019-09-10T22:04:50.030Z"
   },
   {
    "cell": {
     "executionCount": 14,
     "executionEventId": "546e4011-36b1-4713-9624-0a00e0690268",
     "hasError": false,
     "id": "7648f152-2179-4531-8680-03eb9adaf516",
     "outputs": [
      {
       "name": "stdout",
       "output_type": "stream",
       "text": "ndnd\n"
      }
     ],
     "persistentId": "95951259-47d9-4d93-a99e-ae3d9657e97a",
     "text": "!hostname"
    },
    "executionTime": "2019-09-10T22:07:17.316Z"
   },
   {
    "cell": {
     "executionCount": 16,
     "executionEventId": "2e366e31-2398-4707-b4ef-f58d6cc40976",
     "hasError": false,
     "id": "7648f152-2179-4531-8680-03eb9adaf516",
     "outputs": [
      {
       "name": "stdout",
       "output_type": "stream",
       "text": "total 21560\n-rw-rw-r-- 1 olga 22070930 Sep 10 15:08 SRR306838_GSM752691_hsa_br_F_1Aligned.sortedByCoord.out_CDS_without_stop_codon.bam\n"
      }
     ],
     "persistentId": "95951259-47d9-4d93-a99e-ae3d9657e97a",
     "text": "ll $outdir"
    },
    "executionTime": "2019-09-10T22:09:23.232Z"
   },
   {
    "cell": {
     "executionCount": 17,
     "executionEventId": "b3bd0562-ad9d-465d-851a-00758620ceda",
     "hasError": false,
     "id": "7648f152-2179-4531-8680-03eb9adaf516",
     "outputs": [
      {
       "name": "stdout",
       "output_type": "stream",
       "text": "total 22M\ndrwxrwxr-x 2 olga olga 4.0K Sep 10 15:07 \u001b[0m\u001b[01;34m.\u001b[0m/\ndrwxrwxr-x 3 olga olga 4.0K Sep 10 15:07 \u001b[01;34m..\u001b[0m/\n-rw-rw-r-- 1 olga olga  22M Sep 10 15:08 SRR306838_GSM752691_hsa_br_F_1Aligned.sortedByCoord.out_CDS_without_stop_codon.bam\n"
      }
     ],
     "persistentId": "95951259-47d9-4d93-a99e-ae3d9657e97a",
     "text": "ls -lha $outdir"
    },
    "executionTime": "2019-09-10T22:10:57.562Z"
   },
   {
    "cell": {
     "executionCount": 18,
     "executionEventId": "6b4c76c4-aed7-4a9e-81de-09d67c333ff8",
     "hasError": false,
     "id": "baafd5bb-bb7e-433e-9c73-ceec60911e44",
     "outputs": [
      {
       "name": "stdout",
       "output_type": "stream",
       "text": "753983 /home/olga/data_lg/czbiohub-reference/gencode/human/v30/gencode.v30.annotation.ERCC92.CDS.gtf\n"
      }
     ],
     "persistentId": "d09e186c-f977-4990-b591-b1e1ed88a06f",
     "text": "\n\nexon_gtf = '/home/olga/data_lg/czbiohub-reference/gencode/human/v30/gencode.v30.annotation.ERCC92.exon.gtf'\n! bioawk -c gff '$feature == \"exon\"' $gtf > $exon_gtf\n\n! wc -l $cds_gtf"
    },
    "executionTime": "2019-09-10T22:46:26.794Z"
   },
   {
    "cell": {
     "executionCount": 19,
     "executionEventId": "5264c934-a5ea-46c1-ad0f-36cfd8612b50",
     "hasError": false,
     "id": "5586b656-87b1-46a6-b0cb-bd7acfec4bd7",
     "outputs": [
      {
       "name": "stdout",
       "output_type": "stream",
       "text": "753983 /home/olga/data_lg/czbiohub-reference/gencode/human/v30/gencode.v30.annotation.ERCC92.CDS.gtf\n"
      }
     ],
     "persistentId": "06ae9c5b-6d93-4588-93dd-0ddb71017f6c",
     "text": "\n\nutr_gtf = '/home/olga/data_lg/czbiohub-reference/gencode/human/v30/gencode.v30.annotation.ERCC92.UTR.gtf'\n! bioawk -c gff '$feature == \"UTR\"' $gtf > $utr_gtf\n\n! wc -l $cds_gtf"
    },
    "executionTime": "2019-09-10T22:46:40.581Z"
   },
   {
    "cell": {
     "executionCount": 21,
     "executionEventId": "3955f4e1-bb34-440a-9a77-e74aebf45860",
     "hasError": false,
     "id": "6b4319e4-3a07-4eb9-a419-7f22e0c2d71d",
     "outputs": [
      {
       "name": "stdout",
       "output_type": "stream",
       "text": "482824 /home/olga/data_lg/czbiohub-reference/gencode/human/v30/gencode.v30.annotation.ERCC92.CDS_without_stop_codon_or_utr.gtf\n"
      }
     ],
     "persistentId": "d8b8f1cb-0538-458a-9885-56c05558e6c3",
     "text": "cds_no_stop_codons_or_utr_gtf = '/home/olga/data_lg/czbiohub-reference/gencode/human/v30/gencode.v30.annotation.ERCC92.CDS_without_stop_codon_or_utr.gtf'\n\n# -A flag to remove the whole feature in -a if it overlaps at all with -b\n! bedtools subtract -A -a $cds_gtf -b $stop_codon_gtf | bedtools subtract -A -a - -b $utr_gtf > $cds_no_stop_codons_or_utr_gtf\n! wc -l $cds_no_stop_codons_or_utr_gtf"
    },
    "executionTime": "2019-09-10T22:52:12.780Z"
   },
   {
    "cell": {
     "executionCount": 23,
     "executionEventId": "089c75bb-edd1-4fd3-9336-17c6fdf23f22",
     "hasError": false,
     "id": "7648f152-2179-4531-8680-03eb9adaf516",
     "outputs": [
      {
       "name": "stdout",
       "output_type": "stream",
       "text": "total 262M\ndrwxrwxr-x 2 olga olga 4.0K Sep 10 15:13 \u001b[0m\u001b[01;34m.\u001b[0m/\ndrwxrwxr-x 3 olga olga 4.0K Sep 10 15:07 \u001b[01;34m..\u001b[0m/\n-rw-rw-r-- 1 olga olga  22M Sep 10 15:52 SRR306838_GSM752691_hsa_br_F_1Aligned.sortedByCoord.out_CDS_without_stop_codon.bam\n-rw-rw-r-- 1 olga olga 6.0M Sep 10 15:13 SRR306838_GSM752691_hsa_br_F_1Aligned.sortedByCoord.out_CDS_without_stop_codon.read_ids.txt\n-rw-r--r-- 1 olga olga 235M Sep 10 15:10 SRR306838_GSM752691_hsa_br_F_1_trimmed_k15.tsv\n"
      }
     ],
     "persistentId": "95951259-47d9-4d93-a99e-ae3d9657e97a",
     "text": "ls -lha $outdir"
    },
    "executionTime": "2019-09-10T22:53:02.208Z"
   },
   {
    "cell": {
     "executionCount": 24,
     "executionEventId": "2d64fe0e-464d-407c-98aa-21ff0d4bf410",
     "hasError": false,
     "id": "4bde1da5-d18b-4781-98fd-83a2390deb87",
     "outputs": [
      {
       "name": "stdout",
       "output_type": "stream",
       "text": "/bin/sh: 1: cannot create /SRR306838_GSM752691_hsa_br_F_1Aligned.sortedByCoord.out_CDS_without_stop_codon.read_ids.txt: Permission denied\n[E::hts_open_format] Failed to open file /SRR306838_GSM752691_hsa_br_F_1Aligned.sortedByCoord.out_CDS_without_stop_codon.bam\nsamtools view: failed to open \"/SRR306838_GSM752691_hsa_br_F_1Aligned.sortedByCoord.out_CDS_without_stop_codon.bam\" for reading: No such file or directory\n"
      }
     ],
     "persistentId": "2549095e-81b1-46d0-8137-d1b9e709aae1",
     "text": "! samtools view $folder/SRR306838_GSM752691_hsa_br_F_1Aligned.sortedByCoord.out_CDS_without_stop_codon.bam | cut -f 1 > $folder/SRR306838_GSM752691_hsa_br_F_1Aligned.sortedByCoord.out_CDS_without_stop_codon.read_ids.txt"
    },
    "executionTime": "2019-09-10T22:53:02.410Z"
   },
   {
    "cell": {
     "executionCount": 25,
     "executionEventId": "58342a75-ca4d-43cb-83e4-54fce886413c",
     "hasError": false,
     "id": "4bde1da5-d18b-4781-98fd-83a2390deb87",
     "outputs": [],
     "persistentId": "2549095e-81b1-46d0-8137-d1b9e709aae1",
     "text": "folder = '/home/olga/data_sm/kmer-hashing/brawand2011/human/'\n! samtools view $folder/SRR306838_GSM752691_hsa_br_F_1Aligned.sortedByCoord.out_CDS_without_stop_codon.bam | cut -f 1 > $folder/SRR306838_GSM752691_hsa_br_F_1Aligned.sortedByCoord.out_CDS_without_stop_codon.read_ids.txt"
    },
    "executionTime": "2019-09-10T22:53:58.966Z"
   },
   {
    "cell": {
     "executionCount": 26,
     "executionEventId": "6dcf3ef5-b316-45f7-9e65-54c9563c52f4",
     "hasError": false,
     "id": "4bde1da5-d18b-4781-98fd-83a2390deb87",
     "outputs": [],
     "persistentId": "2549095e-81b1-46d0-8137-d1b9e709aae1",
     "text": "! samtools view $outdir$coding_bam | cut -f 1 > $outdir/$sample_id\\Aligned.sortedByCoord.out_CDS_without_stop_codon.read_ids.txt"
    },
    "executionTime": "2019-09-10T22:55:15.021Z"
   },
   {
    "cell": {
     "executionCount": 27,
     "executionEventId": "f66cfb04-ec2d-4532-80df-09cc073edaf7",
     "hasError": false,
     "id": "7648f152-2179-4531-8680-03eb9adaf516",
     "outputs": [
      {
       "name": "stdout",
       "output_type": "stream",
       "text": "total 262M\ndrwxrwxr-x 2 olga olga 4.0K Sep 10 15:13 \u001b[0m\u001b[01;34m.\u001b[0m/\ndrwxrwxr-x 3 olga olga 4.0K Sep 10 15:07 \u001b[01;34m..\u001b[0m/\n-rw-rw-r-- 1 olga olga  22M Sep 10 15:52 SRR306838_GSM752691_hsa_br_F_1Aligned.sortedByCoord.out_CDS_without_stop_codon.bam\n-rw-rw-r-- 1 olga olga 6.0M Sep 10 15:54 SRR306838_GSM752691_hsa_br_F_1Aligned.sortedByCoord.out_CDS_without_stop_codon.read_ids.txt\n-rw-r--r-- 1 olga olga 235M Sep 10 15:10 SRR306838_GSM752691_hsa_br_F_1_trimmed_k15.tsv\n"
      }
     ],
     "persistentId": "95951259-47d9-4d93-a99e-ae3d9657e97a",
     "text": "ls -lha $outdir"
    },
    "executionTime": "2019-09-10T22:55:29.769Z"
   },
   {
    "cell": {
     "executionCount": 30,
     "executionEventId": "ccabb83c-14d7-47e6-a3a8-8ad524dab72b",
     "hasError": false,
     "id": "7648f152-2179-4531-8680-03eb9adaf516",
     "outputs": [
      {
       "name": "stdout",
       "output_type": "stream",
       "text": "total 271M\ndrwxrwxr-x 2 olga olga 4.0K Sep 10 15:55 \u001b[0m\u001b[01;34m.\u001b[0m/\ndrwxrwxr-x 3 olga olga 4.0K Sep 10 15:07 \u001b[01;34m..\u001b[0m/\n-rw-rw-r-- 1 olga olga  15M Sep 10 15:55 SRR306838_GSM752691_hsa_br_F_1Aligned.sortedByCoord.out_CDS_without_stop_codon.bam\n-rw-rw-r-- 1 olga olga  15M Sep 10 15:56 SRR306838_GSM752691_hsa_br_F_1Aligned.sortedByCoord.out_CDS_without_stop_codon_or_utr.bam\n-rw-rw-r-- 1 olga olga 6.0M Sep 10 15:54 SRR306838_GSM752691_hsa_br_F_1Aligned.sortedByCoord.out_CDS_without_stop_codon.read_ids.txt\n-rw-r--r-- 1 olga olga 235M Sep 10 15:10 SRR306838_GSM752691_hsa_br_F_1_trimmed_k15.tsv\n"
      }
     ],
     "persistentId": "95951259-47d9-4d93-a99e-ae3d9657e97a",
     "text": "ls -lha $outdir"
    },
    "executionTime": "2019-09-10T22:57:05.750Z"
   },
   {
    "cell": {
     "executionCount": 32,
     "executionEventId": "82dd7360-caf7-427d-930c-4270c3a72339",
     "hasError": false,
     "id": "4bde1da5-d18b-4781-98fd-83a2390deb87",
     "outputs": [],
     "persistentId": "2549095e-81b1-46d0-8137-d1b9e709aae1",
     "text": "! samtools view $outdir$coding_bam | cut -f 1 > $outdir/$sample_id\\Aligned.sortedByCoord.out_CDS_without_stop_codon_or_utr.read_ids.txt"
    },
    "executionTime": "2019-09-10T22:57:07.634Z"
   },
   {
    "cell": {
     "executionCount": 33,
     "executionEventId": "9cbb536c-24ad-4685-b2c0-1a80e29c5c68",
     "hasError": false,
     "id": "c51ab420-d2eb-46d8-95fa-5d4e9e6777f1",
     "outputs": [
      {
       "name": "stdout",
       "output_type": "stream",
       "text": "SRR306838.4372206\nSRR306838.8987619\nSRR306838.1769955\nSRR306838.13854784\nSRR306838.16922853\nSRR306838.8439693\nSRR306838.22981338\nSRR306838.19915799\nSRR306838.13598607\nSRR306838.23303318\n"
      }
     ],
     "persistentId": "00b69365-367c-4acc-86ef-a77f6863b989",
     "text": "! head $outdir/$sample_id\\Aligned.sortedByCoord.out_CDS_without_stop_codon_or_utr.read_ids.txt"
    },
    "executionTime": "2019-09-13T20:48:27.527Z"
   },
   {
    "cell": {
     "executionCount": 34,
     "executionEventId": "144a077e-3a49-4957-a7bf-3711e753a361",
     "hasError": false,
     "id": "60c43ac8-f3ab-4720-8900-b3e15ff2110f",
     "outputs": [
      {
       "name": "stdout",
       "output_type": "stream",
       "text": "[E::hts_open_format] Failed to open file SRR306838_GSM752691_hsa_br_F_1Aligned.sortedByCoord.out_CDS_without_stop_codon.bam\nsamtools view: failed to open \"SRR306838_GSM752691_hsa_br_F_1Aligned.sortedByCoord.out_CDS_without_stop_codon.bam\" for reading: No such file or directory\n"
      }
     ],
     "persistentId": "25a6e7cc-3cf0-4309-be82-e439ad98f01d",
     "text": "! samtools view SRR306838_GSM752691_hsa_br_F_1Aligned.sortedByCoord.out_CDS_without_stop_codon.bam | head"
    },
    "executionTime": "2019-09-18T14:01:07.561Z"
   },
   {
    "cell": {
     "executionCount": 35,
     "executionEventId": "2c573157-2edb-43b9-8d7f-1e4519c1b62e",
     "hasError": false,
     "id": "60c43ac8-f3ab-4720-8900-b3e15ff2110f",
     "outputs": [
      {
       "name": "stdout",
       "output_type": "stream",
       "text": "SRR306838.4372206\t272\tchr1\t148292\t1\t15M485283N54M\t*\t0\t0\tCAATCTTCATAGCAGCACTATTCCTCATCACCCAACTAAAAACATTAAACACAAACTACCACCTACCTC\t6757957874858957364634896;57648776366856416643573647832820945483/74-3\tNH:i:3\tHI:i:3\tAS:i:50\tnM:i:3\tRG:Z:SRR306838_GSM752691_hsa_br_F_1\nSRR306838.8987619\t272\tchr1\t386039\t3\t13M247514N57M\t*\t0\t0\tAAATGAGATAAATCCATAATTACCCCCATACTCCTTACACTATTCCTCATCACCCAACTAAAAACATTAA\t5658:9784685357:46:42266669964846834275624438927876478673702786774214.\tNH:i:2\tHI:i:2\tAS:i:56\tnM:i:1\tRG:Z:SRR306838_GSM752691_hsa_br_F_1\nSRR306838.1769955\t272\tchr1\t394252\t1\t10M237004N58M\t*\t0\t0\tCAGATGTTGCATAATCTTCTTCATAGTAATACCCATCATAATCGGAGGCTTTGGCAACTGACTAGTTC\t79:767457996558836735885664675157576773322759578745682683786465333/0\tNH:i:4\tHI:i:4\tAS:i:56\tnM:i:0\tRG:Z:SRR306838_GSM752691_hsa_br_F_1\nSRR306838.13854784\t0\tchr1\t420628\t3\t15M213007N55M\t*\t0\t0\tCTCACATGCTCTCACCAAAGCCCATAAAAATAAAAAATTATAACAAACCCTGAGAACCAAAATGAACGAA\t52433674658386365548876646254586644348467646563775:7677566546698846776\tNH:i:2\tHI:i:2\tAS:i:60\tnM:i:3\tRG:Z:SRR306838_GSM752691_hsa_br_F_1\nSRR306838.16922853\t256\tchr1\t440649\t1\t11M193959N58M\t*\t0\t0\tCCTGGAGATGTGGGATAATCCTATTTATTACCTCAGAAGTTTTTTTCTTCGCAGGATTTTTCTGAGCCT\t3007646262/654/2212566354433134554595273355484663474686756664:8:4:657\tNH:i:3\tHI:i:2\tAS:i:57\tnM:i:0\tRG:Z:SRR306838_GSM752691_hsa_br_F_1\nSRR306838.8439693\t0\tchr1\t448847\t255\t13M180941N52M\t*\t0\t0\tTGTTGAAGAGGATAGCTGCCATCAAGTATTTCCTCACGCAAGCAACCGCATCCATAATCCTTCTA\t-6037626326233455738847749275698738559573665335454576745568455:56\tNH:i:1\tHI:i:1\tAS:i:53\tnM:i:0\tRG:Z:SRR306838_GSM752691_hsa_br_F_1\nSRR306838.22981338\t256\tchr1\t629882\t1\t58M177709N11M\t*\t0\t0\tCGGACAATGAACCATAACCAATACTACCAATCAATACTCATCATTAATAATCATAATGAACCATAACCA\t233126144626653437466547345555477543659866566656447885577765788364754\tNH:i:3\tHI:i:3\tAS:i:55\tnM:i:1\tRG:Z:SRR306838_GSM752691_hsa_br_F_1\nSRR306838.19915799\t0\tchr1\t945125\t255\t22M371N44M\t*\t0\t0\tGTGCTCAGGGGCCTCAGTATCCCTCTCTCCGAGAATCCCTCGGTGTCGTCCTCTTCAGAGCTGTTC\t215315154275666564568677647384657754744645425464355756484946587468\tNH:i:1\tHI:i:1\tAS:i:66\tnM:i:0\tRG:Z:SRR306838_GSM752691_hsa_br_F_1\nSRR306838.13598607\t0\tchr1\t945525\t255\t69M\t*\t0\t0\tCGAGAATCCCTCGGTGTCGTCCTCTTCAGAGCTGTTCAGGTCAAAGAGGTCTTTAAATTGCTTCCTGTC\t33273589652656241634:568456485768435736637444656539776445766784767539\tNH:i:1\tHI:i:1\tAS:i:67\tnM:i:0\tRG:Z:SRR306838_GSM752691_hsa_br_F_1\nSRR306838.23303318\t0\tchr1\t945534\t255\t70M\t*\t0\t0\tCTCGGTGTCGTCCTCTTCAGAGCTGTTCAGGTCAAAGAGGTCTTTAAATTGCTTCCTGTCCTCATCCTTC\t32255/54320856423955475855243842544364753684733245755564853:5796595628\tNH:i:1\tHI:i:1\tAS:i:68\tnM:i:0\tRG:Z:SRR306838_GSM752691_hsa_br_F_1\nsamtools view: writing to standard output failed: Broken pipe\nsamtools view: error closing standard output: -1\n"
      }
     ],
     "persistentId": "25a6e7cc-3cf0-4309-be82-e439ad98f01d",
     "text": "! samtools view $outdir/SRR306838_GSM752691_hsa_br_F_1Aligned.sortedByCoord.out_CDS_without_stop_codon.bam | head"
    },
    "executionTime": "2019-09-18T14:01:15.042Z"
   },
   {
    "cell": {
     "executionCount": 36,
     "executionEventId": "407282d1-2ac4-4d60-82f5-273a41e99d17",
     "hasError": false,
     "id": "1ad34bb1-9a80-403f-9ce7-e2e687b6d4b9",
     "outputs": [
      {
       "name": "stdout",
       "output_type": "stream",
       "text": "chr1\tHAVANA\tCDS\t65565\t65573\t.\t+\t0\tgene_id \"ENSG00000186092.6\"; transcript_id \"ENST00000641515.2\"; gene_type \"protein_coding\"; gene_name \"OR4F5\"; transcript_type \"protein_coding\"; transcript_name \"OR4F5-202\"; exon_number 2; exon_id \"ENSE00003813641.1\"; level 2; protein_id \"ENSP00000493376.2\"; tag \"RNA_Seq_supported_partial\"; tag \"basic\"; havana_gene \"OTTHUMG00000001094.4\"; havana_transcript \"OTTHUMT00000003223.4\";\nchr1\tENSEMBL\tCDS\t69091\t70005\t.\t+\t0\tgene_id \"ENSG00000186092.6\"; transcript_id \"ENST00000335137.4\"; gene_type \"protein_coding\"; gene_name \"OR4F5\"; transcript_type \"protein_coding\"; transcript_name \"OR4F5-201\"; exon_number 1; exon_id \"ENSE00002319515.2\"; level 3; protein_id \"ENSP00000334393.3\"; transcript_support_level \"NA\"; tag \"basic\"; tag \"appris_principal_1\"; tag \"CCDS\"; ccdsid \"CCDS30547.1\"; havana_gene \"OTTHUMG00000001094.4\";\nchr1\tHAVANA\tCDS\t450743\t451678\t.\t-\t0\tgene_id \"ENSG00000284733.1\"; transcript_id \"ENST00000426406.3\"; gene_type \"protein_coding\"; gene_name \"OR4F29\"; transcript_type \"protein_coding\"; transcript_name \"OR4F29-201\"; exon_number 1; exon_id \"ENSE00002316283.3\"; level 2; protein_id \"ENSP00000409316.1\"; transcript_support_level \"NA\"; tag \"basic\"; tag \"appris_principal_1\"; tag \"CCDS\"; ccdsid \"CCDS72675.1\"; havana_gene \"OTTHUMG00000002860.3\"; havana_transcript \"OTTHUMT00000007999.3\";\nchr1\tHAVANA\tCDS\t685719\t686654\t.\t-\t0\tgene_id \"ENSG00000284662.1\"; transcript_id \"ENST00000332831.4\"; gene_type \"protein_coding\"; gene_name \"OR4F16\"; transcript_type \"protein_coding\"; transcript_name \"OR4F16-201\"; exon_number 1; exon_id \"ENSE00002324228.3\"; level 2; protein_id \"ENSP00000329982.2\"; transcript_support_level \"NA\"; tag \"basic\"; tag \"appris_principal_1\"; tag \"CCDS\"; ccdsid \"CCDS41221.1\"; havana_gene \"OTTHUMG00000002581.3\"; havana_transcript \"OTTHUMT00000007334.3\";\nchr1\tHAVANA\tCDS\t924432\t924948\t.\t+\t0\tgene_id \"ENSG00000187634.12\"; transcript_id \"ENST00000420190.6\"; gene_type \"protein_coding\"; gene_name \"SAMD11\"; transcript_type \"protein_coding\"; transcript_name \"SAMD11-203\"; exon_number 1; exon_id \"ENSE00001637883.2\"; level 2; protein_id \"ENSP00000411579.2\"; transcript_support_level \"3\"; tag \"alternative_5_UTR\"; tag \"CAGE_supported_TSS\"; tag \"mRNA_end_NF\"; tag \"cds_end_NF\"; havana_gene \"OTTHUMG00000040719.11\"; havana_transcript \"OTTHUMT00000316521.3\";\nchr1\tHAVANA\tCDS\t930155\t930336\t.\t+\t0\tgene_id \"ENSG00000187634.12\"; transcript_id \"ENST00000420190.6\"; gene_type \"protein_coding\"; gene_name \"SAMD11\"; transcript_type \"protein_coding\"; transcript_name \"SAMD11-203\"; exon_number 3; exon_id \"ENSE00002727207.1\"; level 2; protein_id \"ENSP00000411579.2\"; transcript_support_level \"3\"; tag \"alternative_5_UTR\"; tag \"CAGE_supported_TSS\"; tag \"mRNA_end_NF\"; tag \"cds_end_NF\"; havana_gene \"OTTHUMG00000040719.11\"; havana_transcript \"OTTHUMT00000316521.3\";\nchr1\tHAVANA\tCDS\t931039\t931089\t.\t+\t1\tgene_id \"ENSG00000187634.12\"; transcript_id \"ENST00000420190.6\"; gene_type \"protein_coding\"; gene_name \"SAMD11\"; transcript_type \"protein_coding\"; transcript_name \"SAMD11-203\"; exon_number 4; exon_id \"ENSE00002696520.1\"; level 2; protein_id \"ENSP00000411579.2\"; transcript_support_level \"3\"; tag \"alternative_5_UTR\"; tag \"CAGE_supported_TSS\"; tag \"mRNA_end_NF\"; tag \"cds_end_NF\"; havana_gene \"OTTHUMG00000040719.11\"; havana_transcript \"OTTHUMT00000316521.3\";\nchr1\tHAVANA\tCDS\t935772\t935896\t.\t+\t1\tgene_id \"ENSG00000187634.12\"; transcript_id \"ENST00000420190.6\"; gene_type \"protein_coding\"; gene_name \"SAMD11\"; transcript_type \"protein_coding\"; transcript_name \"SAMD11-203\"; exon_number 5; exon_id \"ENSE00002703998.1\"; level 2; protein_id \"ENSP00000411579.2\"; transcript_support_level \"3\"; tag \"alternative_5_UTR\"; tag \"CAGE_supported_TSS\"; tag \"mRNA_end_NF\"; tag \"cds_end_NF\"; havana_gene \"OTTHUMG00000040719.11\"; havana_transcript \"OTTHUMT00000316521.3\";\nchr1\tHAVANA\tCDS\t939040\t939129\t.\t+\t2\tgene_id \"ENSG00000187634.12\"; transcript_id \"ENST00000420190.6\"; gene_type \"protein_coding\"; gene_name \"SAMD11\"; transcript_type \"protein_coding\"; transcript_name \"SAMD11-203\"; exon_number 6; exon_id \"ENSE00002686739.1\"; level 2; protein_id \"ENSP00000411579.2\"; transcript_support_level \"3\"; tag \"alternative_5_UTR\"; tag \"CAGE_supported_TSS\"; tag \"mRNA_end_NF\"; tag \"cds_end_NF\"; havana_gene \"OTTHUMG00000040719.11\"; havana_transcript \"OTTHUMT00000316521.3\";\nchr1\tHAVANA\tCDS\t939275\t939291\t.\t+\t2\tgene_id \"ENSG00000187634.12\"; transcript_id \"ENST00000420190.6\"; gene_type \"protein_coding\"; gene_name \"SAMD11\"; transcript_type \"protein_coding\"; transcript_name \"SAMD11-203\"; exon_number 7; exon_id \"ENSE00001608769.1\"; level 2; protein_id \"ENSP00000411579.2\"; transcript_support_level \"3\"; tag \"alternative_5_UTR\"; tag \"CAGE_supported_TSS\"; tag \"mRNA_end_NF\"; tag \"cds_end_NF\"; havana_gene \"OTTHUMG00000040719.11\"; havana_transcript \"OTTHUMT00000316521.3\";\n"
      }
     ],
     "persistentId": "7d5a6f8e-71ea-4f49-9889-2f6f08bab172",
     "text": "! head $cds_no_stop_codons_or_utr_gtf"
    },
    "executionTime": "2019-09-18T14:04:03.284Z"
   },
   {
    "cell": {
     "executionCount": 37,
     "executionEventId": "72cafe5a-ca1c-45df-b6b7-5384c757f591",
     "hasError": false,
     "id": "1ad34bb1-9a80-403f-9ce7-e2e687b6d4b9",
     "outputs": [
      {
       "name": "stdout",
       "output_type": "stream",
       "text": "chr1\tHAVANA\tCDS\t65565\t65573\t.\t+\t0\tgene_id \"ENSG00000186092.6\"; transcript_id \"ENST00000641515.2\"; gene_type \"protein_coding\"; gene_name \"OR4F5\"; transcript_type \"protein_coding\"; transcript_name \"OR4F5-202\"; exon_number 2; exon_id \"ENSE00003813641.1\"; level 2; protein_id \"ENSP00000493376.2\"; tag \"RNA_Seq_supported_partial\"; tag \"basic\"; havana_gene \"OTTHUMG00000001094.4\"; havana_transcript \"OTTHUMT00000003223.4\";\nchr1\tENSEMBL\tCDS\t69091\t70005\t.\t+\t0\tgene_id \"ENSG00000186092.6\"; transcript_id \"ENST00000335137.4\"; gene_type \"protein_coding\"; gene_name \"OR4F5\"; transcript_type \"protein_coding\"; transcript_name \"OR4F5-201\"; exon_number 1; exon_id \"ENSE00002319515.2\"; level 3; protein_id \"ENSP00000334393.3\"; transcript_support_level \"NA\"; tag \"basic\"; tag \"appris_principal_1\"; tag \"CCDS\"; ccdsid \"CCDS30547.1\"; havana_gene \"OTTHUMG00000001094.4\";\nchr1\tHAVANA\tCDS\t450743\t451678\t.\t-\t0\tgene_id \"ENSG00000284733.1\"; transcript_id \"ENST00000426406.3\"; gene_type \"protein_coding\"; gene_name \"OR4F29\"; transcript_type \"protein_coding\"; transcript_name \"OR4F29-201\"; exon_number 1; exon_id \"ENSE00002316283.3\"; level 2; protein_id \"ENSP00000409316.1\"; transcript_support_level \"NA\"; tag \"basic\"; tag \"appris_principal_1\"; tag \"CCDS\"; ccdsid \"CCDS72675.1\"; havana_gene \"OTTHUMG00000002860.3\"; havana_transcript \"OTTHUMT00000007999.3\";\nchr1\tHAVANA\tCDS\t685719\t686654\t.\t-\t0\tgene_id \"ENSG00000284662.1\"; transcript_id \"ENST00000332831.4\"; gene_type \"protein_coding\"; gene_name \"OR4F16\"; transcript_type \"protein_coding\"; transcript_name \"OR4F16-201\"; exon_number 1; exon_id \"ENSE00002324228.3\"; level 2; protein_id \"ENSP00000329982.2\"; transcript_support_level \"NA\"; tag \"basic\"; tag \"appris_principal_1\"; tag \"CCDS\"; ccdsid \"CCDS41221.1\"; havana_gene \"OTTHUMG00000002581.3\"; havana_transcript \"OTTHUMT00000007334.3\";\nchr1\tHAVANA\tCDS\t924432\t924948\t.\t+\t0\tgene_id \"ENSG00000187634.12\"; transcript_id \"ENST00000420190.6\"; gene_type \"protein_coding\"; gene_name \"SAMD11\"; transcript_type \"protein_coding\"; transcript_name \"SAMD11-203\"; exon_number 1; exon_id \"ENSE00001637883.2\"; level 2; protein_id \"ENSP00000411579.2\"; transcript_support_level \"3\"; tag \"alternative_5_UTR\"; tag \"CAGE_supported_TSS\"; tag \"mRNA_end_NF\"; tag \"cds_end_NF\"; havana_gene \"OTTHUMG00000040719.11\"; havana_transcript \"OTTHUMT00000316521.3\";\nchr1\tHAVANA\tCDS\t930155\t930336\t.\t+\t0\tgene_id \"ENSG00000187634.12\"; transcript_id \"ENST00000420190.6\"; gene_type \"protein_coding\"; gene_name \"SAMD11\"; transcript_type \"protein_coding\"; transcript_name \"SAMD11-203\"; exon_number 3; exon_id \"ENSE00002727207.1\"; level 2; protein_id \"ENSP00000411579.2\"; transcript_support_level \"3\"; tag \"alternative_5_UTR\"; tag \"CAGE_supported_TSS\"; tag \"mRNA_end_NF\"; tag \"cds_end_NF\"; havana_gene \"OTTHUMG00000040719.11\"; havana_transcript \"OTTHUMT00000316521.3\";\nchr1\tHAVANA\tCDS\t931039\t931089\t.\t+\t1\tgene_id \"ENSG00000187634.12\"; transcript_id \"ENST00000420190.6\"; gene_type \"protein_coding\"; gene_name \"SAMD11\"; transcript_type \"protein_coding\"; transcript_name \"SAMD11-203\"; exon_number 4; exon_id \"ENSE00002696520.1\"; level 2; protein_id \"ENSP00000411579.2\"; transcript_support_level \"3\"; tag \"alternative_5_UTR\"; tag \"CAGE_supported_TSS\"; tag \"mRNA_end_NF\"; tag \"cds_end_NF\"; havana_gene \"OTTHUMG00000040719.11\"; havana_transcript \"OTTHUMT00000316521.3\";\nchr1\tHAVANA\tCDS\t935772\t935896\t.\t+\t1\tgene_id \"ENSG00000187634.12\"; transcript_id \"ENST00000420190.6\"; gene_type \"protein_coding\"; gene_name \"SAMD11\"; transcript_type \"protein_coding\"; transcript_name \"SAMD11-203\"; exon_number 5; exon_id \"ENSE00002703998.1\"; level 2; protein_id \"ENSP00000411579.2\"; transcript_support_level \"3\"; tag \"alternative_5_UTR\"; tag \"CAGE_supported_TSS\"; tag \"mRNA_end_NF\"; tag \"cds_end_NF\"; havana_gene \"OTTHUMG00000040719.11\"; havana_transcript \"OTTHUMT00000316521.3\";\nchr1\tHAVANA\tCDS\t939040\t939129\t.\t+\t2\tgene_id \"ENSG00000187634.12\"; transcript_id \"ENST00000420190.6\"; gene_type \"protein_coding\"; gene_name \"SAMD11\"; transcript_type \"protein_coding\"; transcript_name \"SAMD11-203\"; exon_number 6; exon_id \"ENSE00002686739.1\"; level 2; protein_id \"ENSP00000411579.2\"; transcript_support_level \"3\"; tag \"alternative_5_UTR\"; tag \"CAGE_supported_TSS\"; tag \"mRNA_end_NF\"; tag \"cds_end_NF\"; havana_gene \"OTTHUMG00000040719.11\"; havana_transcript \"OTTHUMT00000316521.3\";\nchr1\tHAVANA\tCDS\t939275\t939291\t.\t+\t2\tgene_id \"ENSG00000187634.12\"; transcript_id \"ENST00000420190.6\"; gene_type \"protein_coding\"; gene_name \"SAMD11\"; transcript_type \"protein_coding\"; transcript_name \"SAMD11-203\"; exon_number 7; exon_id \"ENSE00001608769.1\"; level 2; protein_id \"ENSP00000411579.2\"; transcript_support_level \"3\"; tag \"alternative_5_UTR\"; tag \"CAGE_supported_TSS\"; tag \"mRNA_end_NF\"; tag \"cds_end_NF\"; havana_gene \"OTTHUMG00000040719.11\"; havana_transcript \"OTTHUMT00000316521.3\";\nchr1\tHAVANA\tCDS\t925942\t926013\t.\t+\t0\tgene_id \"ENSG00000187634.12\"; transcript_id \"ENST00000437963.5\"; gene_type \"protein_coding\"; gene_name \"SAMD11\"; transcript_type \"protein_coding\"; transcript_name \"SAMD11-204\"; exon_number 2; exon_id \"ENSE00001763717.1\"; level 2; protein_id \"ENSP00000393181.1\"; transcript_support_level \"5\"; tag \"alternative_5_UTR\"; tag \"mRNA_end_NF\"; tag \"cds_end_NF\"; havana_gene \"OTTHUMG00000040719.11\"; havana_transcript \"OTTHUMT00000097862.5\";\nchr1\tHAVANA\tCDS\t930155\t930336\t.\t+\t0\tgene_id \"ENSG00000187634.12\"; transcript_id \"ENST00000437963.5\"; gene_type \"protein_coding\"; gene_name \"SAMD11\"; transcript_type \"protein_coding\"; transcript_name \"SAMD11-204\"; exon_number 3; exon_id \"ENSE00002727207.1\"; level 2; protein_id \"ENSP00000393181.1\"; transcript_support_level \"5\"; tag \"alternative_5_UTR\"; tag \"mRNA_end_NF\"; tag \"cds_end_NF\"; havana_gene \"OTTHUMG00000040719.11\"; havana_transcript \"OTTHUMT00000097862.5\";\nchr1\tHAVANA\tCDS\t931039\t931089\t.\t+\t1\tgene_id \"ENSG00000187634.12\"; transcript_id \"ENST00000437963.5\"; gene_type \"protein_coding\"; gene_name \"SAMD11\"; transcript_type \"protein_coding\"; transcript_name \"SAMD11-204\"; exon_number 4; exon_id \"ENSE00002696520.1\"; level 2; protein_id \"ENSP00000393181.1\"; transcript_support_level \"5\"; tag \"alternative_5_UTR\"; tag \"mRNA_end_NF\"; tag \"cds_end_NF\"; havana_gene \"OTTHUMG00000040719.11\"; havana_transcript \"OTTHUMT00000097862.5\";\nchr1\tHAVANA\tCDS\t935772\t935793\t.\t+\t1\tgene_id \"ENSG00000187634.12\"; transcript_id \"ENST00000437963.5\"; gene_type \"protein_coding\"; gene_name \"SAMD11\"; transcript_type \"protein_coding\"; transcript_name \"SAMD11-204\"; exon_number 5; exon_id \"ENSE00001631320.1\"; level 2; protein_id \"ENSP00000393181.1\"; transcript_support_level \"5\"; tag \"alternative_5_UTR\"; tag \"mRNA_end_NF\"; tag \"cds_end_NF\"; havana_gene \"OTTHUMG00000040719.11\"; havana_transcript \"OTTHUMT00000097862.5\";\nchr1\tHAVANA\tCDS\t925942\t926013\t.\t+\t0\tgene_id \"ENSG00000187634.12\"; transcript_id \"ENST00000342066.8\"; gene_type \"protein_coding\"; gene_name \"SAMD11\"; transcript_type \"protein_coding\"; transcript_name \"SAMD11-202\"; exon_number 2; exon_id \"ENSE00001763717.1\"; level 2; protein_id \"ENSP00000342313.3\"; transcript_support_level \"5\"; tag \"basic\"; tag \"appris_principal_2\"; tag \"CCDS\"; ccdsid \"CCDS2.2\"; havana_gene \"OTTHUMG00000040719.11\"; havana_transcript \"OTTHUMT00000276866.3\";\nchr1\tHAVANA\tCDS\t930155\t930336\t.\t+\t0\tgene_id \"ENSG00000187634.12\"; transcript_id \"ENST00000342066.8\"; gene_type \"protein_coding\"; gene_name \"SAMD11\"; transcript_type \"protein_coding\"; transcript_name \"SAMD11-202\"; exon_number 3; exon_id \"ENSE00002727207.1\"; level 2; protein_id \"ENSP00000342313.3\"; transcript_support_level \"5\"; tag \"basic\"; tag \"appris_principal_2\"; tag \"CCDS\"; ccdsid \"CCDS2.2\"; havana_gene \"OTTHUMG00000040719.11\"; havana_transcript \"OTTHUMT00000276866.3\";\nchr1\tHAVANA\tCDS\t931039\t931089\t.\t+\t1\tgene_id \"ENSG00000187634.12\"; transcript_id \"ENST00000342066.8\"; gene_type \"protein_coding\"; gene_name \"SAMD11\"; transcript_type \"protein_coding\"; transcript_name \"SAMD11-202\"; exon_number 4; exon_id \"ENSE00002696520.1\"; level 2; protein_id \"ENSP00000342313.3\"; transcript_support_level \"5\"; tag \"basic\"; tag \"appris_principal_2\"; tag \"CCDS\"; ccdsid \"CCDS2.2\"; havana_gene \"OTTHUMG00000040719.11\"; havana_transcript \"OTTHUMT00000276866.3\";\nchr1\tHAVANA\tCDS\t935772\t935896\t.\t+\t1\tgene_id \"ENSG00000187634.12\"; transcript_id \"ENST00000342066.8\"; gene_type \"protein_coding\"; gene_name \"SAMD11\"; transcript_type \"protein_coding\"; transcript_name \"SAMD11-202\"; exon_number 5; exon_id \"ENSE00002703998.1\"; level 2; protein_id \"ENSP00000342313.3\"; transcript_support_level \"5\"; tag \"basic\"; tag \"appris_principal_2\"; tag \"CCDS\"; ccdsid \"CCDS2.2\"; havana_gene \"OTTHUMG00000040719.11\"; havana_transcript \"OTTHUMT00000276866.3\";\nchr1\tHAVANA\tCDS\t939040\t939129\t.\t+\t2\tgene_id \"ENSG00000187634.12\"; transcript_id \"ENST00000342066.8\"; gene_type \"protein_coding\"; gene_name \"SAMD11\"; transcript_type \"protein_coding\"; transcript_name \"SAMD11-202\"; exon_number 6; exon_id \"ENSE00002686739.1\"; level 2; protein_id \"ENSP00000342313.3\"; transcript_support_level \"5\"; tag \"basic\"; tag \"appris_principal_2\"; tag \"CCDS\"; ccdsid \"CCDS2.2\"; havana_gene \"OTTHUMG00000040719.11\"; havana_transcript \"OTTHUMT00000276866.3\";\nchr1\tHAVANA\tCDS\t939275\t939460\t.\t+\t2\tgene_id \"ENSG00000187634.12\"; transcript_id \"ENST00000342066.8\"; gene_type \"protein_coding\"; gene_name \"SAMD11\"; transcript_type \"protein_coding\"; transcript_name \"SAMD11-202\"; exon_number 7; exon_id \"ENSE00002715021.1\"; level 2; protein_id \"ENSP00000342313.3\"; transcript_support_level \"5\"; tag \"basic\"; tag \"appris_principal_2\"; tag \"CCDS\"; ccdsid \"CCDS2.2\"; havana_gene \"OTTHUMG00000040719.11\"; havana_transcript \"OTTHUMT00000276866.3\";\n"
      }
     ],
     "persistentId": "7d5a6f8e-71ea-4f49-9889-2f6f08bab172",
     "text": "! head -n 20 $cds_no_stop_codons_or_utr_gtf"
    },
    "executionTime": "2019-09-18T14:04:47.042Z"
   },
   {
    "cell": {
     "executionCount": 39,
     "executionEventId": "77821f16-1a5c-4656-8404-0d3b76203b9c",
     "hasError": false,
     "id": "a0bca408-8393-415e-99be-aa3856dd4e56",
     "outputs": [
      {
       "name": "stdout",
       "output_type": "stream",
       "text": "chr1\tHAVANA\tCDS\t450743\t451678\t.\t-\t0\tgene_id \"ENSG00000284733.1\"; transcript_id \"ENST00000426406.3\"; gene_type \"protein_coding\"; gene_name \"OR4F29\"; transcript_type \"protein_coding\"; transcript_name \"OR4F29-201\"; exon_number 1; exon_id \"ENSE00002316283.3\"; level 2; protein_id \"ENSP00000409316.1\"; transcript_support_level \"NA\"; tag \"basic\"; tag \"appris_principal_1\"; tag \"CCDS\"; ccdsid \"CCDS72675.1\"; havana_gene \"OTTHUMG00000002860.3\"; havana_transcript \"OTTHUMT00000007999.3\";\nchr1\tHAVANA\tCDS\t685719\t686654\t.\t-\t0\tgene_id \"ENSG00000284662.1\"; transcript_id \"ENST00000332831.4\"; gene_type \"protein_coding\"; gene_name \"OR4F16\"; transcript_type \"protein_coding\"; transcript_name \"OR4F16-201\"; exon_number 1; exon_id \"ENSE00002324228.3\"; level 2; protein_id \"ENSP00000329982.2\"; transcript_support_level \"NA\"; tag \"basic\"; tag \"appris_principal_1\"; tag \"CCDS\"; ccdsid \"CCDS41221.1\"; havana_gene \"OTTHUMG00000002581.3\"; havana_transcript \"OTTHUMT00000007334.3\";\nchr1\tHAVANA\tCDS\t924432\t924948\t.\t+\t0\tgene_id \"ENSG00000187634.12\"; transcript_id \"ENST00000420190.6\"; gene_type \"protein_coding\"; gene_name \"SAMD11\"; transcript_type \"protein_coding\"; transcript_name \"SAMD11-203\"; exon_number 1; exon_id \"ENSE00001637883.2\"; level 2; protein_id \"ENSP00000411579.2\"; transcript_support_level \"3\"; tag \"alternative_5_UTR\"; tag \"CAGE_supported_TSS\"; tag \"mRNA_end_NF\"; tag \"cds_end_NF\"; havana_gene \"OTTHUMG00000040719.11\"; havana_transcript \"OTTHUMT00000316521.3\";\nchr1\tHAVANA\tCDS\t930155\t930336\t.\t+\t0\tgene_id \"ENSG00000187634.12\"; transcript_id \"ENST00000420190.6\"; gene_type \"protein_coding\"; gene_name \"SAMD11\"; transcript_type \"protein_coding\"; transcript_name \"SAMD11-203\"; exon_number 3; exon_id \"ENSE00002727207.1\"; level 2; protein_id \"ENSP00000411579.2\"; transcript_support_level \"3\"; tag \"alternative_5_UTR\"; tag \"CAGE_supported_TSS\"; tag \"mRNA_end_NF\"; tag \"cds_end_NF\"; havana_gene \"OTTHUMG00000040719.11\"; havana_transcript \"OTTHUMT00000316521.3\";\nchr1\tHAVANA\tCDS\t931039\t931089\t.\t+\t1\tgene_id \"ENSG00000187634.12\"; transcript_id \"ENST00000420190.6\"; gene_type \"protein_coding\"; gene_name \"SAMD11\"; transcript_type \"protein_coding\"; transcript_name \"SAMD11-203\"; exon_number 4; exon_id \"ENSE00002696520.1\"; level 2; protein_id \"ENSP00000411579.2\"; transcript_support_level \"3\"; tag \"alternative_5_UTR\"; tag \"CAGE_supported_TSS\"; tag \"mRNA_end_NF\"; tag \"cds_end_NF\"; havana_gene \"OTTHUMG00000040719.11\"; havana_transcript \"OTTHUMT00000316521.3\";\nchr1\tHAVANA\tCDS\t935772\t935896\t.\t+\t1\tgene_id \"ENSG00000187634.12\"; transcript_id \"ENST00000420190.6\"; gene_type \"protein_coding\"; gene_name \"SAMD11\"; transcript_type \"protein_coding\"; transcript_name \"SAMD11-203\"; exon_number 5; exon_id \"ENSE00002703998.1\"; level 2; protein_id \"ENSP00000411579.2\"; transcript_support_level \"3\"; tag \"alternative_5_UTR\"; tag \"CAGE_supported_TSS\"; tag \"mRNA_end_NF\"; tag \"cds_end_NF\"; havana_gene \"OTTHUMG00000040719.11\"; havana_transcript \"OTTHUMT00000316521.3\";\nchr1\tHAVANA\tCDS\t939040\t939129\t.\t+\t2\tgene_id \"ENSG00000187634.12\"; transcript_id \"ENST00000420190.6\"; gene_type \"protein_coding\"; gene_name \"SAMD11\"; transcript_type \"protein_coding\"; transcript_name \"SAMD11-203\"; exon_number 6; exon_id \"ENSE00002686739.1\"; level 2; protein_id \"ENSP00000411579.2\"; transcript_support_level \"3\"; tag \"alternative_5_UTR\"; tag \"CAGE_supported_TSS\"; tag \"mRNA_end_NF\"; tag \"cds_end_NF\"; havana_gene \"OTTHUMG00000040719.11\"; havana_transcript \"OTTHUMT00000316521.3\";\nchr1\tHAVANA\tCDS\t939275\t939291\t.\t+\t2\tgene_id \"ENSG00000187634.12\"; transcript_id \"ENST00000420190.6\"; gene_type \"protein_coding\"; gene_name \"SAMD11\"; transcript_type \"protein_coding\"; transcript_name \"SAMD11-203\"; exon_number 7; exon_id \"ENSE00001608769.1\"; level 2; protein_id \"ENSP00000411579.2\"; transcript_support_level \"3\"; tag \"alternative_5_UTR\"; tag \"CAGE_supported_TSS\"; tag \"mRNA_end_NF\"; tag \"cds_end_NF\"; havana_gene \"OTTHUMG00000040719.11\"; havana_transcript \"OTTHUMT00000316521.3\";\nchr1\tHAVANA\tCDS\t925942\t926013\t.\t+\t0\tgene_id \"ENSG00000187634.12\"; transcript_id \"ENST00000437963.5\"; gene_type \"protein_coding\"; gene_name \"SAMD11\"; transcript_type \"protein_coding\"; transcript_name \"SAMD11-204\"; exon_number 2; exon_id \"ENSE00001763717.1\"; level 2; protein_id \"ENSP00000393181.1\"; transcript_support_level \"5\"; tag \"alternative_5_UTR\"; tag \"mRNA_end_NF\"; tag \"cds_end_NF\"; havana_gene \"OTTHUMG00000040719.11\"; havana_transcript \"OTTHUMT00000097862.5\";\nchr1\tHAVANA\tCDS\t930155\t930336\t.\t+\t0\tgene_id \"ENSG00000187634.12\"; transcript_id \"ENST00000437963.5\"; gene_type \"protein_coding\"; gene_name \"SAMD11\"; transcript_type \"protein_coding\"; transcript_name \"SAMD11-204\"; exon_number 3; exon_id \"ENSE00002727207.1\"; level 2; protein_id \"ENSP00000393181.1\"; transcript_support_level \"5\"; tag \"alternative_5_UTR\"; tag \"mRNA_end_NF\"; tag \"cds_end_NF\"; havana_gene \"OTTHUMG00000040719.11\"; havana_transcript \"OTTHUMT00000097862.5\";\nbioawk: write error on /dev/stdout\n input record number 168, file /home/olga/data_lg/czbiohub-reference/gencode/human/v30/gencode.v30.annotation.ERCC92.CDS_without_stop_codon_or_utr.gtf\n source line number 1\n"
      }
     ],
     "persistentId": "6f76ce4c-d4fc-4e3f-b1bc-c32a41b18e1a",
     "text": "! bioawk -c gff '$start > 148292' $cds_no_stop_codons_or_utr_gtf | head"
    },
    "executionTime": "2019-09-18T14:05:47.290Z"
   },
   {
    "cell": {
     "executionCount": 40,
     "executionEventId": "6b04459f-2681-40e7-9b1e-697a514364fc",
     "hasError": false,
     "id": "864c698f-44fd-4494-bb01-6658ffae0fd5",
     "outputs": [
      {
       "data": {
        "text/plain": "'/home/olga/data_sm/kmer-hashing/brawand2011/human/'"
       },
       "execution_count": 40,
       "metadata": {},
       "output_type": "execute_result"
      }
     ],
     "persistentId": "595ebcc4-85fb-4497-9819-0a63e7f2dfd9",
     "text": "outdir"
    },
    "executionTime": "2019-09-18T14:05:54.643Z"
   },
   {
    "cell": {
     "executionCount": 41,
     "executionEventId": "916ddb78-e8e4-4f33-919d-8debf7d33730",
     "hasError": false,
     "id": "c23f3feb-bedd-4d85-bb17-0b1b1524055e",
     "outputs": [
      {
       "name": "stdout",
       "output_type": "stream",
       "text": "total 278872\n-rw-rw-r-- 1 olga  15288774 Sep 10 15:55 SRR306838_GSM752691_hsa_br_F_1Aligned.sortedByCoord.out_CDS_without_stop_codon.bam\n-rw-rw-r-- 1 olga  15288774 Sep 10 15:56 SRR306838_GSM752691_hsa_br_F_1Aligned.sortedByCoord.out_CDS_without_stop_codon_or_utr.bam\n-rw-rw-r-- 1 olga   4287738 Sep 10 15:56 SRR306838_GSM752691_hsa_br_F_1Aligned.sortedByCoord.out_CDS_without_stop_codon_or_utr.read_ids.txt\n-rw-rw-r-- 1 olga   4287738 Sep 10 15:56 SRR306838_GSM752691_hsa_br_F_1Aligned.sortedByCoord.out_CDS_without_stop_codon.read_ids.txt\n-rw-r--r-- 1 olga 246383740 Sep 10 15:10 SRR306838_GSM752691_hsa_br_F_1_trimmed_k15.tsv\n"
      }
     ],
     "persistentId": "0e8180b6-c3ae-4ddf-81b7-0d9c4a3c6db2",
     "text": "ll $outdir"
    },
    "executionTime": "2019-09-18T14:06:01.682Z"
   },
   {
    "cell": {
     "executionCount": 42,
     "executionEventId": "c3bd645d-0739-4085-9d0e-497658a5c00a",
     "hasError": false,
     "id": "e64e7c23-84e3-4b99-a074-1da97bfa8e9e",
     "outputs": [],
     "persistentId": "341d4632-9b38-42e8-819a-77775d39db06",
     "text": "! samtools index $outdir/SRR306838_GSM752691_hsa_br_F_1Aligned.sortedByCoord.out_CDS_without_stop_codon.bam"
    },
    "executionTime": "2019-09-18T14:06:46.226Z"
   },
   {
    "cell": {
     "executionCount": 43,
     "executionEventId": "f4a02d3e-7413-4a81-bb25-7385bf249273",
     "hasError": false,
     "id": "aae67b73-1574-4bbc-af77-ea07bcb250cc",
     "outputs": [],
     "persistentId": "68e3cca7-76a2-40e7-a5a5-869323669a86",
     "text": "! samtools index $outdir/SRR306838_GSM752691_hsa_br_F_1Aligned.sortedByCoord.out_CDS_without_stop_codon_or_utr.bam"
    },
    "executionTime": "2019-09-18T14:06:54.052Z"
   },
   {
    "cell": {
     "executionCount": 44,
     "executionEventId": "f115316a-e461-4948-82af-de8d2fa721db",
     "hasError": false,
     "id": "8401f439-c574-4c13-befd-050b9587cb02",
     "outputs": [
      {
       "name": "stdout",
       "output_type": "stream",
       "text": "***** WARNING: File SRR306838_GSM752691_hsa_br_F_1Aligned.sortedByCoord.out.bam has inconsistent naming convention for record:\nGL000008.2\t29409\t29480\tSRR306838.11378224\t0\t+\n\n***** WARNING: File SRR306838_GSM752691_hsa_br_F_1Aligned.sortedByCoord.out.bam has inconsistent naming convention for record:\nGL000008.2\t29409\t29480\tSRR306838.11378224\t0\t+\n\n"
      }
     ],
     "persistentId": "689cffd4-66ab-456a-aa86-bbfe608d4ea3",
     "text": "bam = f'{sample_id}Aligned.sortedByCoord.out.bam'\ncoding_bam = f'{sample_id}Aligned.sortedByCoord.out_CDS_without_stop_codon_or_utr.bam'\noutdir = '/home/olga/data_sm/kmer-hashing/brawand2011/human/'\n\n!mkdir -p $outdir\n! bedtools intersect -wa -a $bam -b $cds_no_stop_codons_or_utr_gtf > $outdir$coding_bam"
    },
    "executionTime": "2019-09-18T14:16:22.412Z"
   },
   {
    "cell": {
     "executionCount": 45,
     "executionEventId": "f07cb37c-3836-432d-b281-6a8986c1f0c6",
     "hasError": false,
     "id": "fc8fd0d2-84e6-439f-a6b1-d00a4c922077",
     "outputs": [
      {
       "name": "stdout",
       "output_type": "stream",
       "text": "total 276M\ndrwxrwxr-x 2 olga olga 4.0K Sep 18 07:06 \u001b[0m\u001b[01;34m.\u001b[0m/\ndrwxrwxr-x 3 olga olga 4.0K Sep 10 15:07 \u001b[01;34m..\u001b[0m/\n-rw-rw-r-- 1 olga olga  15M Sep 10 15:55 SRR306838_GSM752691_hsa_br_F_1Aligned.sortedByCoord.out_CDS_without_stop_codon.bam\n-rw-rw-r-- 1 olga olga 1.7M Sep 18 07:05 SRR306838_GSM752691_hsa_br_F_1Aligned.sortedByCoord.out_CDS_without_stop_codon.bam.bai\n-rw-rw-r-- 1 olga olga  15M Sep 18 07:15 SRR306838_GSM752691_hsa_br_F_1Aligned.sortedByCoord.out_CDS_without_stop_codon_or_utr.bam\n-rw-rw-r-- 1 olga olga 1.7M Sep 18 07:06 SRR306838_GSM752691_hsa_br_F_1Aligned.sortedByCoord.out_CDS_without_stop_codon_or_utr.bam.bai\n-rw-rw-r-- 1 olga olga 4.1M Sep 10 15:56 SRR306838_GSM752691_hsa_br_F_1Aligned.sortedByCoord.out_CDS_without_stop_codon_or_utr.read_ids.txt\n-rw-rw-r-- 1 olga olga 4.1M Sep 10 15:56 SRR306838_GSM752691_hsa_br_F_1Aligned.sortedByCoord.out_CDS_without_stop_codon.read_ids.txt\n-rw-r--r-- 1 olga olga 235M Sep 10 15:10 SRR306838_GSM752691_hsa_br_F_1_trimmed_k15.tsv\n"
      }
     ],
     "persistentId": "95951259-47d9-4d93-a99e-ae3d9657e97a",
     "text": "ls -lha $outdir"
    },
    "executionTime": "2019-09-18T14:18:00.648Z"
   },
   {
    "cell": {
     "executionCount": 46,
     "executionEventId": "6b357469-6927-4b8c-9a1f-e6a93a5085ae",
     "hasError": false,
     "id": "f0dfbc5d-dccb-41e2-bcb4-d4f45e470bd6",
     "outputs": [],
     "persistentId": "2549095e-81b1-46d0-8137-d1b9e709aae1",
     "text": "! samtools view $outdir$coding_bam | cut -f 1 > $outdir/$sample_id\\Aligned.sortedByCoord.out_CDS_without_stop_codon_or_utr.read_ids.txt"
    },
    "executionTime": "2019-09-18T14:18:01.635Z"
   },
   {
    "cell": {
     "executionCount": 47,
     "executionEventId": "9b694867-fc66-4a31-b54f-068535690dcc",
     "hasError": false,
     "id": "1ac1fa2c-e9ad-4937-9867-535ec7647008",
     "outputs": [
      {
       "name": "stdout",
       "output_type": "stream",
       "text": "SRR306838.4372206\nSRR306838.8987619\nSRR306838.1769955\nSRR306838.13854784\nSRR306838.16922853\nSRR306838.8439693\nSRR306838.22981338\nSRR306838.19915799\nSRR306838.13598607\nSRR306838.23303318\n"
      }
     ],
     "persistentId": "00b69365-367c-4acc-86ef-a77f6863b989",
     "text": "! head $outdir/$sample_id\\Aligned.sortedByCoord.out_CDS_without_stop_codon_or_utr.read_ids.txt"
    },
    "executionTime": "2019-09-18T14:18:01.903Z"
   },
   {
    "cell": {
     "executionCount": 48,
     "executionEventId": "661ead97-6ff9-4697-a403-086d0d0bcc57",
     "hasError": false,
     "id": "60c43ac8-f3ab-4720-8900-b3e15ff2110f",
     "outputs": [
      {
       "name": "stdout",
       "output_type": "stream",
       "text": "SRR306838.4372206\t272\tchr1\t148292\t1\t15M485283N54M\t*\t0\t0\tCAATCTTCATAGCAGCACTATTCCTCATCACCCAACTAAAAACATTAAACACAAACTACCACCTACCTC\t6757957874858957364634896;57648776366856416643573647832820945483/74-3\tNH:i:3\tHI:i:3\tAS:i:50\tnM:i:3\tRG:Z:SRR306838_GSM752691_hsa_br_F_1\nSRR306838.8987619\t272\tchr1\t386039\t3\t13M247514N57M\t*\t0\t0\tAAATGAGATAAATCCATAATTACCCCCATACTCCTTACACTATTCCTCATCACCCAACTAAAAACATTAA\t5658:9784685357:46:42266669964846834275624438927876478673702786774214.\tNH:i:2\tHI:i:2\tAS:i:56\tnM:i:1\tRG:Z:SRR306838_GSM752691_hsa_br_F_1\nSRR306838.1769955\t272\tchr1\t394252\t1\t10M237004N58M\t*\t0\t0\tCAGATGTTGCATAATCTTCTTCATAGTAATACCCATCATAATCGGAGGCTTTGGCAACTGACTAGTTC\t79:767457996558836735885664675157576773322759578745682683786465333/0\tNH:i:4\tHI:i:4\tAS:i:56\tnM:i:0\tRG:Z:SRR306838_GSM752691_hsa_br_F_1\nSRR306838.13854784\t0\tchr1\t420628\t3\t15M213007N55M\t*\t0\t0\tCTCACATGCTCTCACCAAAGCCCATAAAAATAAAAAATTATAACAAACCCTGAGAACCAAAATGAACGAA\t52433674658386365548876646254586644348467646563775:7677566546698846776\tNH:i:2\tHI:i:2\tAS:i:60\tnM:i:3\tRG:Z:SRR306838_GSM752691_hsa_br_F_1\nSRR306838.16922853\t256\tchr1\t440649\t1\t11M193959N58M\t*\t0\t0\tCCTGGAGATGTGGGATAATCCTATTTATTACCTCAGAAGTTTTTTTCTTCGCAGGATTTTTCTGAGCCT\t3007646262/654/2212566354433134554595273355484663474686756664:8:4:657\tNH:i:3\tHI:i:2\tAS:i:57\tnM:i:0\tRG:Z:SRR306838_GSM752691_hsa_br_F_1\nSRR306838.8439693\t0\tchr1\t448847\t255\t13M180941N52M\t*\t0\t0\tTGTTGAAGAGGATAGCTGCCATCAAGTATTTCCTCACGCAAGCAACCGCATCCATAATCCTTCTA\t-6037626326233455738847749275698738559573665335454576745568455:56\tNH:i:1\tHI:i:1\tAS:i:53\tnM:i:0\tRG:Z:SRR306838_GSM752691_hsa_br_F_1\nSRR306838.22981338\t256\tchr1\t629882\t1\t58M177709N11M\t*\t0\t0\tCGGACAATGAACCATAACCAATACTACCAATCAATACTCATCATTAATAATCATAATGAACCATAACCA\t233126144626653437466547345555477543659866566656447885577765788364754\tNH:i:3\tHI:i:3\tAS:i:55\tnM:i:1\tRG:Z:SRR306838_GSM752691_hsa_br_F_1\nSRR306838.19915799\t0\tchr1\t945125\t255\t22M371N44M\t*\t0\t0\tGTGCTCAGGGGCCTCAGTATCCCTCTCTCCGAGAATCCCTCGGTGTCGTCCTCTTCAGAGCTGTTC\t215315154275666564568677647384657754744645425464355756484946587468\tNH:i:1\tHI:i:1\tAS:i:66\tnM:i:0\tRG:Z:SRR306838_GSM752691_hsa_br_F_1\nSRR306838.13598607\t0\tchr1\t945525\t255\t69M\t*\t0\t0\tCGAGAATCCCTCGGTGTCGTCCTCTTCAGAGCTGTTCAGGTCAAAGAGGTCTTTAAATTGCTTCCTGTC\t33273589652656241634:568456485768435736637444656539776445766784767539\tNH:i:1\tHI:i:1\tAS:i:67\tnM:i:0\tRG:Z:SRR306838_GSM752691_hsa_br_F_1\nSRR306838.23303318\t0\tchr1\t945534\t255\t70M\t*\t0\t0\tCTCGGTGTCGTCCTCTTCAGAGCTGTTCAGGTCAAAGAGGTCTTTAAATTGCTTCCTGTCCTCATCCTTC\t32255/54320856423955475855243842544364753684733245755564853:5796595628\tNH:i:1\tHI:i:1\tAS:i:68\tnM:i:0\tRG:Z:SRR306838_GSM752691_hsa_br_F_1\nsamtools view: writing to standard output failed: Broken pipe\nsamtools view: error closing standard output: -1\n"
      }
     ],
     "persistentId": "25a6e7cc-3cf0-4309-be82-e439ad98f01d",
     "text": "! samtools view $outdir/SRR306838_GSM752691_hsa_br_F_1Aligned.sortedByCoord.out_CDS_without_stop_codon.bam | head"
    },
    "executionTime": "2019-09-18T14:18:02.177Z"
   },
   {
    "cell": {
     "executionCount": 49,
     "executionEventId": "07505e82-dbe8-4760-94e7-cad48dddfddf",
     "hasError": false,
     "id": "545382ea-953e-4a98-82b4-24d93e135c89",
     "outputs": [
      {
       "name": "stdout",
       "output_type": "stream",
       "text": "/bin/sh: 1: cannot create .unspliced.bam: Permission denied\nsamtools view: No input provided or missing option argument.\n\nUsage: samtools view [options] <in.bam>|<in.sam>|<in.cram> [region ...]\n\nOptions:\n  -b       output BAM\n  -C       output CRAM (requires -T)\n  -1       use fast BAM compression (implies -b)\n  -u       uncompressed BAM output (implies -b)\n  -h       include header in SAM output\n  -H       print SAM header only (no alignments)\n  -c       print only the count of matching records\n  -o FILE  output file name [stdout]\n  -U FILE  output reads not selected by filters to FILE [null]\n  -t FILE  FILE listing reference names and lengths (see long help) [null]\n  -L FILE  only include reads overlapping this BED FILE [null]\n  -r STR   only include reads in read group STR [null]\n  -R FILE  only include reads with read group listed in FILE [null]\n  -q INT   only include reads with mapping quality >= INT [0]\n  -l STR   only include reads in library STR [null]\n  -m INT   only include reads with number of CIGAR operations consuming\n           query sequence >= INT [0]\n  -f INT   only include reads with all  of the FLAGs in INT present [0]\n  -F INT   only include reads with none of the FLAGS in INT present [0]\n  -G INT   only EXCLUDE reads with all  of the FLAGs in INT present [0]\n  -s FLOAT subsample reads (given INT.FRAC option value, 0.FRAC is the\n           fraction of templates/read pairs to keep; INT part sets seed)\n  -M       use the multi-region iterator (increases the speed, removes\n           duplicates and outputs the reads as they are ordered in the file)\n  -x STR   read tag to strip (repeatable) [null]\n  -B       collapse the backward CIGAR operation\n  -?       print long help, including note about region specification\n  -S       ignored (input format is auto-detected)\n      --input-fmt-option OPT[=VAL]\n               Specify a single input file format option in the form\n               of OPTION or OPTION=VALUE\n  -O, --output-fmt FORMAT[,OPT[=VAL]]...\n               Specify output format (SAM, BAM, CRAM)\n      --output-fmt-option OPT[=VAL]\n               Specify a single output file format option in the form\n               of OPTION or OPTION=VALUE\n  -T, --reference FILE\n               Reference sequence FASTA FILE [null]\n  -@, --threads INT\n               Number of additional threads to use [0]\n\n"
      }
     ],
     "persistentId": "d6fa4a17-2275-422a-8268-4c500e5c2af8",
     "text": "! samtools view -h -F 4 $bam | awk '$6 !~ /N/ || $1 ~ /@/' | samtools view -bS - > $bam.unspliced.bam"
    },
    "executionTime": "2019-09-18T14:36:45.013Z"
   },
   {
    "cell": {
     "executionCount": 50,
     "executionEventId": "18ecc1eb-4e42-4032-9a6c-f340e09f6657",
     "hasError": false,
     "id": "545382ea-953e-4a98-82b4-24d93e135c89",
     "outputs": [
      {
       "name": "stdout",
       "output_type": "stream",
       "text": "/bin/sh: 1: cannot create /.unspliced.bam: Permission denied\nsamtools view: No input provided or missing option argument.\n\nUsage: samtools view [options] <in.bam>|<in.sam>|<in.cram> [region ...]\n\nOptions:\n  -b       output BAM\n  -C       output CRAM (requires -T)\n  -1       use fast BAM compression (implies -b)\n  -u       uncompressed BAM output (implies -b)\n  -h       include header in SAM output\n  -H       print SAM header only (no alignments)\n  -c       print only the count of matching records\n  -o FILE  output file name [stdout]\n  -U FILE  output reads not selected by filters to FILE [null]\n  -t FILE  FILE listing reference names and lengths (see long help) [null]\n  -L FILE  only include reads overlapping this BED FILE [null]\n  -r STR   only include reads in read group STR [null]\n  -R FILE  only include reads with read group listed in FILE [null]\n  -q INT   only include reads with mapping quality >= INT [0]\n  -l STR   only include reads in library STR [null]\n  -m INT   only include reads with number of CIGAR operations consuming\n           query sequence >= INT [0]\n  -f INT   only include reads with all  of the FLAGs in INT present [0]\n  -F INT   only include reads with none of the FLAGS in INT present [0]\n  -G INT   only EXCLUDE reads with all  of the FLAGs in INT present [0]\n  -s FLOAT subsample reads (given INT.FRAC option value, 0.FRAC is the\n           fraction of templates/read pairs to keep; INT part sets seed)\n  -M       use the multi-region iterator (increases the speed, removes\n           duplicates and outputs the reads as they are ordered in the file)\n  -x STR   read tag to strip (repeatable) [null]\n  -B       collapse the backward CIGAR operation\n  -?       print long help, including note about region specification\n  -S       ignored (input format is auto-detected)\n      --input-fmt-option OPT[=VAL]\n               Specify a single input file format option in the form\n               of OPTION or OPTION=VALUE\n  -O, --output-fmt FORMAT[,OPT[=VAL]]...\n               Specify output format (SAM, BAM, CRAM)\n      --output-fmt-option OPT[=VAL]\n               Specify a single output file format option in the form\n               of OPTION or OPTION=VALUE\n  -T, --reference FILE\n               Reference sequence FASTA FILE [null]\n  -@, --threads INT\n               Number of additional threads to use [0]\n\n"
      }
     ],
     "persistentId": "d6fa4a17-2275-422a-8268-4c500e5c2af8",
     "text": "! samtools view -h -F 4 $bam | awk '$6 !~ /N/ || $1 ~ /@/' | samtools view -bS - > $outdir/$bam.unspliced.bam"
    },
    "executionTime": "2019-09-18T14:36:54.451Z"
   },
   {
    "cell": {
     "executionCount": 52,
     "executionEventId": "b9d77370-4640-42f5-a0af-1abe363170bc",
     "hasError": false,
     "id": "545382ea-953e-4a98-82b4-24d93e135c89",
     "outputs": [
      {
       "name": "stdout",
       "output_type": "stream",
       "text": "/bin/sh: 1: cannot create /.unspliced.bam: Permission denied\nsamtools view: No input provided or missing option argument.\n\nUsage: samtools view [options] <in.bam>|<in.sam>|<in.cram> [region ...]\n\nOptions:\n  -b       output BAM\n  -C       output CRAM (requires -T)\n  -1       use fast BAM compression (implies -b)\n  -u       uncompressed BAM output (implies -b)\n  -h       include header in SAM output\n  -H       print SAM header only (no alignments)\n  -c       print only the count of matching records\n  -o FILE  output file name [stdout]\n  -U FILE  output reads not selected by filters to FILE [null]\n  -t FILE  FILE listing reference names and lengths (see long help) [null]\n  -L FILE  only include reads overlapping this BED FILE [null]\n  -r STR   only include reads in read group STR [null]\n  -R FILE  only include reads with read group listed in FILE [null]\n  -q INT   only include reads with mapping quality >= INT [0]\n  -l STR   only include reads in library STR [null]\n  -m INT   only include reads with number of CIGAR operations consuming\n           query sequence >= INT [0]\n  -f INT   only include reads with all  of the FLAGs in INT present [0]\n  -F INT   only include reads with none of the FLAGS in INT present [0]\n  -G INT   only EXCLUDE reads with all  of the FLAGs in INT present [0]\n  -s FLOAT subsample reads (given INT.FRAC option value, 0.FRAC is the\n           fraction of templates/read pairs to keep; INT part sets seed)\n  -M       use the multi-region iterator (increases the speed, removes\n           duplicates and outputs the reads as they are ordered in the file)\n  -x STR   read tag to strip (repeatable) [null]\n  -B       collapse the backward CIGAR operation\n  -?       print long help, including note about region specification\n  -S       ignored (input format is auto-detected)\n      --input-fmt-option OPT[=VAL]\n               Specify a single input file format option in the form\n               of OPTION or OPTION=VALUE\n  -O, --output-fmt FORMAT[,OPT[=VAL]]...\n               Specify output format (SAM, BAM, CRAM)\n      --output-fmt-option OPT[=VAL]\n               Specify a single output file format option in the form\n               of OPTION or OPTION=VALUE\n  -T, --reference FILE\n               Reference sequence FASTA FILE [null]\n  -@, --threads INT\n               Number of additional threads to use [0]\n\n"
      }
     ],
     "persistentId": "d6fa4a17-2275-422a-8268-4c500e5c2af8",
     "text": "! samtools view -h -F 4 $bam | awk '$6 !~ /N/ || $1 ~ /@/' | samtools view -bS - > $outdir/$bam.unspliced.bam"
    },
    "executionTime": "2019-09-18T14:37:04.383Z"
   },
   {
    "cell": {
     "executionCount": 53,
     "executionEventId": "3f08f964-16dc-4e5c-bed1-b709f127c187",
     "hasError": false,
     "id": "4a6987e3-baf0-4a16-8ce1-d2fb8b13dea8",
     "outputs": [
      {
       "data": {
        "text/plain": "'SRR306838_GSM752691_hsa_br_F_1Aligned.sortedByCoord.out.bam'"
       },
       "execution_count": 53,
       "metadata": {},
       "output_type": "execute_result"
      }
     ],
     "persistentId": "cef6f57e-449e-4232-9452-c6c9b7ab1bbe",
     "text": "bam"
    },
    "executionTime": "2019-09-18T14:37:32.399Z"
   },
   {
    "cell": {
     "executionCount": 54,
     "executionEventId": "6ba68dbd-68db-47a3-b77b-2aa07c223db5",
     "hasError": false,
     "id": "fd4bc84c-5189-4544-bc41-1d6d87332d8d",
     "outputs": [
      {
       "data": {
        "text/plain": "'/mnt/ibm_lg/olga/kmer-hashing/brawand2011/nfcore-rnaseq/human/single_end/STAR'"
       },
       "execution_count": 54,
       "metadata": {},
       "output_type": "execute_result"
      }
     ],
     "persistentId": "4c56692d-67c5-4865-96bc-de0973c95f0b",
     "text": "pwd"
    },
    "executionTime": "2019-09-18T14:37:39.444Z"
   },
   {
    "cell": {
     "executionCount": 55,
     "executionEventId": "417239a4-c1d9-4bdc-aa2f-6f345fac8787",
     "hasError": false,
     "id": "545382ea-953e-4a98-82b4-24d93e135c89",
     "outputs": [],
     "persistentId": "d6fa4a17-2275-422a-8268-4c500e5c2af8",
     "text": "! samtools view -h -F 4 $bam | awk '$6 !~ /N/ || $1 ~ /@/' | samtools view -bS - > $outdir/$bam\\.unspliced.bam"
    },
    "executionTime": "2019-09-18T14:37:57.349Z"
   },
   {
    "cell": {
     "executionCount": 56,
     "executionEventId": "c976d9e4-7ba8-4479-9486-1b47b47c04bb",
     "hasError": false,
     "id": "de1b1bed-3543-4f3c-8e11-be868942eb50",
     "outputs": [
      {
       "name": "stdout",
       "output_type": "stream",
       "text": "total 335320\n-rw-rw-r-- 1 olga  54241942 Sep 18 07:37 SRR306838_GSM752691_hsa_br_F_1Aligned.sortedByCoord.out.bam.unspliced.bam\n-rw-rw-r-- 1 olga  15288774 Sep 10 15:55 SRR306838_GSM752691_hsa_br_F_1Aligned.sortedByCoord.out_CDS_without_stop_codon.bam\n-rw-rw-r-- 1 olga   1770688 Sep 18 07:05 SRR306838_GSM752691_hsa_br_F_1Aligned.sortedByCoord.out_CDS_without_stop_codon.bam.bai\n-rw-rw-r-- 1 olga  15288774 Sep 18 07:15 SRR306838_GSM752691_hsa_br_F_1Aligned.sortedByCoord.out_CDS_without_stop_codon_or_utr.bam\n-rw-rw-r-- 1 olga   1770688 Sep 18 07:06 SRR306838_GSM752691_hsa_br_F_1Aligned.sortedByCoord.out_CDS_without_stop_codon_or_utr.bam.bai\n-rw-rw-r-- 1 olga   4287738 Sep 18 07:17 SRR306838_GSM752691_hsa_br_F_1Aligned.sortedByCoord.out_CDS_without_stop_codon_or_utr.read_ids.txt\n-rw-rw-r-- 1 olga   4287738 Sep 10 15:56 SRR306838_GSM752691_hsa_br_F_1Aligned.sortedByCoord.out_CDS_without_stop_codon.read_ids.txt\n-rw-r--r-- 1 olga 246383740 Sep 10 15:10 SRR306838_GSM752691_hsa_br_F_1_trimmed_k15.tsv\n"
      }
     ],
     "persistentId": "5564b283-589b-4ece-ab5b-27f57d62ca3c",
     "text": "ll $outdir"
    },
    "executionTime": "2019-09-18T14:38:05.800Z"
   },
   {
    "cell": {
     "executionCount": 57,
     "executionEventId": "78afc754-e28f-4467-9e44-08549001be25",
     "hasError": false,
     "id": "de1b1bed-3543-4f3c-8e11-be868942eb50",
     "outputs": [
      {
       "name": "stdout",
       "output_type": "stream",
       "text": "total 328M\ndrwxrwxr-x 2 olga olga 4.0K Sep 18 07:37 \u001b[0m\u001b[01;34m.\u001b[0m/\ndrwxrwxr-x 3 olga olga 4.0K Sep 10 15:07 \u001b[01;34m..\u001b[0m/\n-rw-rw-r-- 1 olga olga  52M Sep 18 07:37 SRR306838_GSM752691_hsa_br_F_1Aligned.sortedByCoord.out.bam.unspliced.bam\n-rw-rw-r-- 1 olga olga  15M Sep 10 15:55 SRR306838_GSM752691_hsa_br_F_1Aligned.sortedByCoord.out_CDS_without_stop_codon.bam\n-rw-rw-r-- 1 olga olga 1.7M Sep 18 07:05 SRR306838_GSM752691_hsa_br_F_1Aligned.sortedByCoord.out_CDS_without_stop_codon.bam.bai\n-rw-rw-r-- 1 olga olga  15M Sep 18 07:15 SRR306838_GSM752691_hsa_br_F_1Aligned.sortedByCoord.out_CDS_without_stop_codon_or_utr.bam\n-rw-rw-r-- 1 olga olga 1.7M Sep 18 07:06 SRR306838_GSM752691_hsa_br_F_1Aligned.sortedByCoord.out_CDS_without_stop_codon_or_utr.bam.bai\n-rw-rw-r-- 1 olga olga 4.1M Sep 18 07:17 SRR306838_GSM752691_hsa_br_F_1Aligned.sortedByCoord.out_CDS_without_stop_codon_or_utr.read_ids.txt\n-rw-rw-r-- 1 olga olga 4.1M Sep 10 15:56 SRR306838_GSM752691_hsa_br_F_1Aligned.sortedByCoord.out_CDS_without_stop_codon.read_ids.txt\n-rw-r--r-- 1 olga olga 235M Sep 10 15:10 SRR306838_GSM752691_hsa_br_F_1_trimmed_k15.tsv\n"
      }
     ],
     "persistentId": "5564b283-589b-4ece-ab5b-27f57d62ca3c",
     "text": "ls -lha $outdir"
    },
    "executionTime": "2019-09-18T14:38:10.404Z"
   },
   {
    "cell": {
     "executionCount": 58,
     "executionEventId": "6b077829-82dd-474a-8766-e2338fe97420",
     "hasError": false,
     "id": "f899356e-d5bc-4026-b638-a60079a43482",
     "outputs": [
      {
       "name": "stdout",
       "output_type": "stream",
       "text": "***** WARNING: File /home/olga/data_sm/kmer-hashing/brawand2011/human//SRR306838_GSM752691_hsa_br_F_1Aligned.sortedByCoord.out.bam.unspliced.bam has inconsistent naming convention for record:\nGL000008.2\t29409\t29480\tSRR306838.11378224\t0\t+\n\n***** WARNING: File /home/olga/data_sm/kmer-hashing/brawand2011/human//SRR306838_GSM752691_hsa_br_F_1Aligned.sortedByCoord.out.bam.unspliced.bam has inconsistent naming convention for record:\nGL000008.2\t29409\t29480\tSRR306838.11378224\t0\t+\n\n"
      }
     ],
     "persistentId": "689cffd4-66ab-456a-aa86-bbfe608d4ea3",
     "text": "! bedtools intersect -wa -a $outdir/$bam\\.unspliced.bam -b $cds_no_stop_codons_or_utr_gtf > $outdir/$bam\\.unspliced.out_CDS_without_stop_codon_or_utr.bam"
    },
    "executionTime": "2019-09-18T14:39:11.053Z"
   },
   {
    "cell": {
     "executionCount": 59,
     "executionEventId": "9914894d-7227-45b7-895b-54c4067dde6a",
     "hasError": false,
     "id": "fc8fd0d2-84e6-439f-a6b1-d00a4c922077",
     "outputs": [
      {
       "name": "stdout",
       "output_type": "stream",
       "text": "total 337M\ndrwxrwxr-x 2 olga olga 4.0K Sep 18 07:37 \u001b[0m\u001b[01;34m.\u001b[0m/\ndrwxrwxr-x 3 olga olga 4.0K Sep 10 15:07 \u001b[01;34m..\u001b[0m/\n-rw-rw-r-- 1 olga olga  52M Sep 18 07:37 SRR306838_GSM752691_hsa_br_F_1Aligned.sortedByCoord.out.bam.unspliced.bam\n-rw-rw-r-- 1 olga olga 9.3M Sep 18 07:38 SRR306838_GSM752691_hsa_br_F_1Aligned.sortedByCoord.out.bam.unspliced.out_CDS_without_stop_codon_or_utr.bam\n-rw-rw-r-- 1 olga olga  15M Sep 10 15:55 SRR306838_GSM752691_hsa_br_F_1Aligned.sortedByCoord.out_CDS_without_stop_codon.bam\n-rw-rw-r-- 1 olga olga 1.7M Sep 18 07:05 SRR306838_GSM752691_hsa_br_F_1Aligned.sortedByCoord.out_CDS_without_stop_codon.bam.bai\n-rw-rw-r-- 1 olga olga  15M Sep 18 07:15 SRR306838_GSM752691_hsa_br_F_1Aligned.sortedByCoord.out_CDS_without_stop_codon_or_utr.bam\n-rw-rw-r-- 1 olga olga 1.7M Sep 18 07:06 SRR306838_GSM752691_hsa_br_F_1Aligned.sortedByCoord.out_CDS_without_stop_codon_or_utr.bam.bai\n-rw-rw-r-- 1 olga olga 4.1M Sep 18 07:17 SRR306838_GSM752691_hsa_br_F_1Aligned.sortedByCoord.out_CDS_without_stop_codon_or_utr.read_ids.txt\n-rw-rw-r-- 1 olga olga 4.1M Sep 10 15:56 SRR306838_GSM752691_hsa_br_F_1Aligned.sortedByCoord.out_CDS_without_stop_codon.read_ids.txt\n-rw-r--r-- 1 olga olga 235M Sep 10 15:10 SRR306838_GSM752691_hsa_br_F_1_trimmed_k15.tsv\n"
      }
     ],
     "persistentId": "95951259-47d9-4d93-a99e-ae3d9657e97a",
     "text": "ls -lha $outdir"
    },
    "executionTime": "2019-09-18T14:39:11.289Z"
   },
   {
    "cell": {
     "executionCount": 60,
     "executionEventId": "d4290aba-3ae4-4b19-bbbb-0ed1b0ae5019",
     "hasError": false,
     "id": "de1b1bed-3543-4f3c-8e11-be868942eb50",
     "outputs": [
      {
       "name": "stdout",
       "output_type": "stream",
       "text": "total 337M\ndrwxrwxr-x 2 olga olga 4.0K Sep 18 07:37 \u001b[0m\u001b[01;34m.\u001b[0m/\ndrwxrwxr-x 3 olga olga 4.0K Sep 10 15:07 \u001b[01;34m..\u001b[0m/\n-rw-rw-r-- 1 olga olga  52M Sep 18 07:37 SRR306838_GSM752691_hsa_br_F_1Aligned.sortedByCoord.out.bam.unspliced.bam\n-rw-rw-r-- 1 olga olga 9.3M Sep 18 07:38 SRR306838_GSM752691_hsa_br_F_1Aligned.sortedByCoord.out.bam.unspliced.out_CDS_without_stop_codon_or_utr.bam\n-rw-rw-r-- 1 olga olga  15M Sep 10 15:55 SRR306838_GSM752691_hsa_br_F_1Aligned.sortedByCoord.out_CDS_without_stop_codon.bam\n-rw-rw-r-- 1 olga olga 1.7M Sep 18 07:05 SRR306838_GSM752691_hsa_br_F_1Aligned.sortedByCoord.out_CDS_without_stop_codon.bam.bai\n-rw-rw-r-- 1 olga olga  15M Sep 18 07:15 SRR306838_GSM752691_hsa_br_F_1Aligned.sortedByCoord.out_CDS_without_stop_codon_or_utr.bam\n-rw-rw-r-- 1 olga olga 1.7M Sep 18 07:06 SRR306838_GSM752691_hsa_br_F_1Aligned.sortedByCoord.out_CDS_without_stop_codon_or_utr.bam.bai\n-rw-rw-r-- 1 olga olga 4.1M Sep 18 07:17 SRR306838_GSM752691_hsa_br_F_1Aligned.sortedByCoord.out_CDS_without_stop_codon_or_utr.read_ids.txt\n-rw-rw-r-- 1 olga olga 4.1M Sep 10 15:56 SRR306838_GSM752691_hsa_br_F_1Aligned.sortedByCoord.out_CDS_without_stop_codon.read_ids.txt\n-rw-r--r-- 1 olga olga 235M Sep 10 15:10 SRR306838_GSM752691_hsa_br_F_1_trimmed_k15.tsv\n"
      }
     ],
     "persistentId": "5564b283-589b-4ece-ab5b-27f57d62ca3c",
     "text": "ls -lha $outdir"
    },
    "executionTime": "2019-09-18T14:42:16.209Z"
   },
   {
    "cell": {
     "executionCount": 61,
     "executionEventId": "efcb8ca5-1b3e-4ca0-9a0a-6c226f632e46",
     "hasError": false,
     "id": "fc8fd0d2-84e6-439f-a6b1-d00a4c922077",
     "outputs": [
      {
       "name": "stdout",
       "output_type": "stream",
       "text": "total 337M\ndrwxrwxr-x 2 olga olga 4.0K Sep 18 07:37 \u001b[0m\u001b[01;34m.\u001b[0m/\ndrwxrwxr-x 3 olga olga 4.0K Sep 10 15:07 \u001b[01;34m..\u001b[0m/\n-rw-rw-r-- 1 olga olga  52M Sep 18 07:37 SRR306838_GSM752691_hsa_br_F_1Aligned.sortedByCoord.out.bam.unspliced.bam\n-rw-rw-r-- 1 olga olga 9.3M Sep 18 07:38 SRR306838_GSM752691_hsa_br_F_1Aligned.sortedByCoord.out.bam.unspliced.out_CDS_without_stop_codon_or_utr.bam\n-rw-rw-r-- 1 olga olga  15M Sep 10 15:55 SRR306838_GSM752691_hsa_br_F_1Aligned.sortedByCoord.out_CDS_without_stop_codon.bam\n-rw-rw-r-- 1 olga olga 1.7M Sep 18 07:05 SRR306838_GSM752691_hsa_br_F_1Aligned.sortedByCoord.out_CDS_without_stop_codon.bam.bai\n-rw-rw-r-- 1 olga olga  15M Sep 18 07:15 SRR306838_GSM752691_hsa_br_F_1Aligned.sortedByCoord.out_CDS_without_stop_codon_or_utr.bam\n-rw-rw-r-- 1 olga olga 1.7M Sep 18 07:06 SRR306838_GSM752691_hsa_br_F_1Aligned.sortedByCoord.out_CDS_without_stop_codon_or_utr.bam.bai\n-rw-rw-r-- 1 olga olga 4.1M Sep 18 07:17 SRR306838_GSM752691_hsa_br_F_1Aligned.sortedByCoord.out_CDS_without_stop_codon_or_utr.read_ids.txt\n-rw-rw-r-- 1 olga olga 4.1M Sep 10 15:56 SRR306838_GSM752691_hsa_br_F_1Aligned.sortedByCoord.out_CDS_without_stop_codon.read_ids.txt\n-rw-r--r-- 1 olga olga 235M Sep 10 15:10 SRR306838_GSM752691_hsa_br_F_1_trimmed_k15.tsv\n"
      }
     ],
     "persistentId": "95951259-47d9-4d93-a99e-ae3d9657e97a",
     "text": "ls -lha $outdir"
    },
    "executionTime": "2019-09-18T14:42:19.088Z"
   },
   {
    "cell": {
     "executionCount": 62,
     "executionEventId": "810b2151-fbdf-4f9f-bfe0-eb69db4fb0e1",
     "hasError": false,
     "id": "d2a2a4e2-f351-4542-a5fe-ca9c9db0effd",
     "outputs": [],
     "persistentId": "9aa794de-61b4-4d67-94d9-dccdf7ffe025",
     "text": "! samtools index $outdir/*.bam"
    },
    "executionTime": "2019-09-18T14:42:40.539Z"
   },
   {
    "cell": {
     "executionCount": 63,
     "executionEventId": "12c90a09-8b3c-4318-ac6a-f5fca8d4580d",
     "hasError": false,
     "id": "60c43ac8-f3ab-4720-8900-b3e15ff2110f",
     "outputs": [
      {
       "name": "stdout",
       "output_type": "stream",
       "text": "[E::hts_hopen] Failed to open file /home/olga/data_sm/kmer-hashing/brawand2011/human//SRR306838_GSM752691_hsa_br_F_1Aligned.sortedByCoord.out.bam.unspliced.out_CDS_without_stop_codon_or_utr.bam\n[E::hts_open_format] Failed to open file /home/olga/data_sm/kmer-hashing/brawand2011/human//SRR306838_GSM752691_hsa_br_F_1Aligned.sortedByCoord.out.bam.unspliced.out_CDS_without_stop_codon_or_utr.bam\nsamtools view: failed to open \"/home/olga/data_sm/kmer-hashing/brawand2011/human//SRR306838_GSM752691_hsa_br_F_1Aligned.sortedByCoord.out.bam.unspliced.out_CDS_without_stop_codon_or_utr.bam\" for reading: Exec format error\n"
      }
     ],
     "persistentId": "25a6e7cc-3cf0-4309-be82-e439ad98f01d",
     "text": "! samtools view $outdir/SRR306838_GSM752691_hsa_br_F_1Aligned.sortedByCoord.out.bam.unspliced.out_CDS_without_stop_codon_or_utr.bam | head"
    },
    "executionTime": "2019-09-18T16:53:17.274Z"
   },
   {
    "cell": {
     "executionCount": 64,
     "executionEventId": "d941dca2-5994-4c67-bb84-744dfbdd157b",
     "hasError": false,
     "id": "f899356e-d5bc-4026-b638-a60079a43482",
     "outputs": [
      {
       "name": "stdout",
       "output_type": "stream",
       "text": "***** WARNING: File /home/olga/data_sm/kmer-hashing/brawand2011/human//SRR306838_GSM752691_hsa_br_F_1Aligned.sortedByCoord.out.bam.unspliced.bam has inconsistent naming convention for record:\nGL000008.2\t29409\t29480\tSRR306838.11378224\t0\t+\n\n***** WARNING: File /home/olga/data_sm/kmer-hashing/brawand2011/human//SRR306838_GSM752691_hsa_br_F_1Aligned.sortedByCoord.out.bam.unspliced.bam has inconsistent naming convention for record:\nGL000008.2\t29409\t29480\tSRR306838.11378224\t0\t+\n\n"
      }
     ],
     "persistentId": "689cffd4-66ab-456a-aa86-bbfe608d4ea3",
     "text": "! bedtools intersect -wa -a $outdir/$bam\\.unspliced.bam -b $cds_no_stop_codons_or_utr_gtf > $outdir/$bam\\.unspliced.out_CDS_without_stop_codon_or_utr.bam"
    },
    "executionTime": "2019-09-18T16:54:17.182Z"
   },
   {
    "cell": {
     "executionCount": 65,
     "executionEventId": "79d9854f-c4b7-424b-a65e-821204dc4aa1",
     "hasError": false,
     "id": "fc8fd0d2-84e6-439f-a6b1-d00a4c922077",
     "outputs": [
      {
       "name": "stdout",
       "output_type": "stream",
       "text": "total 337M\ndrwxrwxr-x 2 olga olga 4.0K Sep 18 07:37 \u001b[0m\u001b[01;34m.\u001b[0m/\ndrwxrwxr-x 3 olga olga 4.0K Sep 10 15:07 \u001b[01;34m..\u001b[0m/\n-rw-rw-r-- 1 olga olga  52M Sep 18 07:37 SRR306838_GSM752691_hsa_br_F_1Aligned.sortedByCoord.out.bam.unspliced.bam\n-rw-rw-r-- 1 olga olga 9.3M Sep 18 09:53 SRR306838_GSM752691_hsa_br_F_1Aligned.sortedByCoord.out.bam.unspliced.out_CDS_without_stop_codon_or_utr.bam\n-rw-rw-r-- 1 olga olga  15M Sep 10 15:55 SRR306838_GSM752691_hsa_br_F_1Aligned.sortedByCoord.out_CDS_without_stop_codon.bam\n-rw-rw-r-- 1 olga olga 1.7M Sep 18 07:05 SRR306838_GSM752691_hsa_br_F_1Aligned.sortedByCoord.out_CDS_without_stop_codon.bam.bai\n-rw-rw-r-- 1 olga olga  15M Sep 18 07:15 SRR306838_GSM752691_hsa_br_F_1Aligned.sortedByCoord.out_CDS_without_stop_codon_or_utr.bam\n-rw-rw-r-- 1 olga olga 1.7M Sep 18 07:06 SRR306838_GSM752691_hsa_br_F_1Aligned.sortedByCoord.out_CDS_without_stop_codon_or_utr.bam.bai\n-rw-rw-r-- 1 olga olga 4.1M Sep 18 07:17 SRR306838_GSM752691_hsa_br_F_1Aligned.sortedByCoord.out_CDS_without_stop_codon_or_utr.read_ids.txt\n-rw-rw-r-- 1 olga olga 4.1M Sep 10 15:56 SRR306838_GSM752691_hsa_br_F_1Aligned.sortedByCoord.out_CDS_without_stop_codon.read_ids.txt\n-rw-r--r-- 1 olga olga 235M Sep 10 15:10 SRR306838_GSM752691_hsa_br_F_1_trimmed_k15.tsv\n"
      }
     ],
     "persistentId": "95951259-47d9-4d93-a99e-ae3d9657e97a",
     "text": "ls -lha $outdir"
    },
    "executionTime": "2019-09-18T16:54:17.386Z"
   },
   {
    "cell": {
     "executionCount": 66,
     "executionEventId": "774b8948-2c48-42ad-a4f8-3cf2360c5205",
     "hasError": false,
     "id": "d2a2a4e2-f351-4542-a5fe-ca9c9db0effd",
     "outputs": [],
     "persistentId": "9aa794de-61b4-4d67-94d9-dccdf7ffe025",
     "text": "! samtools index $outdir/*.bam"
    },
    "executionTime": "2019-09-18T16:54:18.420Z"
   },
   {
    "cell": {
     "executionCount": 67,
     "executionEventId": "05ed714c-c1a6-4ac5-9227-c8fccae1185f",
     "hasError": false,
     "id": "d2a2a4e2-f351-4542-a5fe-ca9c9db0effd",
     "outputs": [],
     "persistentId": "9aa794de-61b4-4d67-94d9-dccdf7ffe025",
     "text": "! samtools index $outdir/*.bam"
    },
    "executionTime": "2019-09-18T16:55:02.298Z"
   },
   {
    "cell": {
     "executionCount": 68,
     "executionEventId": "16cc4bcf-8002-4e6c-9f0f-39d083c712c8",
     "hasError": false,
     "id": "d5500a8a-845d-4523-af59-0bf74aa08291",
     "outputs": [
      {
       "name": "stdout",
       "output_type": "stream",
       "text": "total 331M\ndrwxrwxr-x 2 olga olga 4.0K Sep 18 07:37 \u001b[0m\u001b[01;34m.\u001b[0m/\ndrwxrwxr-x 3 olga olga 4.0K Sep 10 15:07 \u001b[01;34m..\u001b[0m/\n-rw-rw-r-- 1 olga olga  52M Sep 18 07:37 SRR306838_GSM752691_hsa_br_F_1Aligned.sortedByCoord.out.bam.unspliced.bam\n-rw-rw-r-- 1 olga olga 2.9M Sep 18 09:54 SRR306838_GSM752691_hsa_br_F_1Aligned.sortedByCoord.out.bam.unspliced.out_CDS_without_stop_codon_or_utr.bam\n-rw-rw-r-- 1 olga olga  15M Sep 10 15:55 SRR306838_GSM752691_hsa_br_F_1Aligned.sortedByCoord.out_CDS_without_stop_codon.bam\n-rw-rw-r-- 1 olga olga 1.7M Sep 18 07:05 SRR306838_GSM752691_hsa_br_F_1Aligned.sortedByCoord.out_CDS_without_stop_codon.bam.bai\n-rw-rw-r-- 1 olga olga  15M Sep 18 07:15 SRR306838_GSM752691_hsa_br_F_1Aligned.sortedByCoord.out_CDS_without_stop_codon_or_utr.bam\n-rw-rw-r-- 1 olga olga 1.7M Sep 18 07:06 SRR306838_GSM752691_hsa_br_F_1Aligned.sortedByCoord.out_CDS_without_stop_codon_or_utr.bam.bai\n-rw-rw-r-- 1 olga olga 4.1M Sep 18 07:17 SRR306838_GSM752691_hsa_br_F_1Aligned.sortedByCoord.out_CDS_without_stop_codon_or_utr.read_ids.txt\n-rw-rw-r-- 1 olga olga 4.1M Sep 10 15:56 SRR306838_GSM752691_hsa_br_F_1Aligned.sortedByCoord.out_CDS_without_stop_codon.read_ids.txt\n-rw-r--r-- 1 olga olga 235M Sep 10 15:10 SRR306838_GSM752691_hsa_br_F_1_trimmed_k15.tsv\n"
      }
     ],
     "persistentId": "de5cd7bf-3aae-4ce1-8335-eac8e66a5bf4",
     "text": "ls -lha $outdir"
    },
    "executionTime": "2019-09-18T16:55:05.393Z"
   },
   {
    "cell": {
     "executionCount": 69,
     "executionEventId": "4b0d40b3-508d-4dfd-95eb-053fcaeea645",
     "hasError": false,
     "id": "60c43ac8-f3ab-4720-8900-b3e15ff2110f",
     "outputs": [
      {
       "name": "stdout",
       "output_type": "stream",
       "text": "[E::hts_hopen] Failed to open file /home/olga/data_sm/kmer-hashing/brawand2011/human//SRR306838_GSM752691_hsa_br_F_1Aligned.sortedByCoord.out.bam.unspliced.out_CDS_without_stop_codon_or_utr.bam\n[E::hts_open_format] Failed to open file /home/olga/data_sm/kmer-hashing/brawand2011/human//SRR306838_GSM752691_hsa_br_F_1Aligned.sortedByCoord.out.bam.unspliced.out_CDS_without_stop_codon_or_utr.bam\nsamtools view: failed to open \"/home/olga/data_sm/kmer-hashing/brawand2011/human//SRR306838_GSM752691_hsa_br_F_1Aligned.sortedByCoord.out.bam.unspliced.out_CDS_without_stop_codon_or_utr.bam\" for reading: Exec format error\n"
      }
     ],
     "persistentId": "25a6e7cc-3cf0-4309-be82-e439ad98f01d",
     "text": "! samtools view $outdir/SRR306838_GSM752691_hsa_br_F_1Aligned.sortedByCoord.out.bam.unspliced.out_CDS_without_stop_codon_or_utr.bam | head"
    },
    "executionTime": "2019-09-18T16:55:15.091Z"
   },
   {
    "cell": {
     "executionCount": 70,
     "executionEventId": "ef572fe9-88f2-45ac-9ff0-bd3ef9fdacfd",
     "hasError": false,
     "id": "f476f433-3044-41a5-ad68-42fb1b97a3a0",
     "outputs": [
      {
       "name": "stdout",
       "output_type": "stream",
       "text": "BAI\u0001�\u0002\u0000\u0000(\u0013\u0000\u0000\u0003 \u0000\u0000\u0001\u0000\u0000\u0000�j��\u001a\u0000\u0000\u0000�k��\u001a\u0000\u0000@\u0000\u0000\u0001\u0000\u0000\u0000ҵ�\u0005=\u0000\u0000\u0000*��\u0005=\u0000\u0000\u0000\u000b\u0000\u0000\u0000\u0001\u0000\u0000\u0000�޵{\u000f\u0000\u0000\u0000�ߵ{\u000f\u0000\u0000\u0000\u0013@\u0000\u0000\u0001\u0000\u0000\u0000*��\u0005=\u0000\u0000\u0000���\u0005=\u0000\u0000\u0000\u0019@\u0000\u0000\u0001\u0000\u0000\u0000���\u0005=\u0000\u0000\u0000���\u0005=\u0000\u0000\u0000\u001b \u0000\u0000\u0001\u0000\u0000\u0000�k��\u001a\u0000\u0000\u0000bl��\u001a\u0000\u0000\u0000\u001c\u0000\u0000\u0000\u0001\u0000\u0000\u0000��bl5\u0000\u0000\u0000}�bl5\u0000\u0000\u0000\u001d \u0000\u0000\u0001\u0000\u0000\u0000bl��\u001a\u0000\u0000\u00006m��\u001a\u0000\u0000\u0000\u001b@\u0000\u0000\u0001\u0000\u0000\u0000���\u0005=\u0000\u0000\u0000a��\u0005=\u0000\u0000\u0000\u001f \u0000\u0000\u0001\u0000\u0000\u00006m��\u001a\u0000\u0000\u0000\u0007n��\u001a\u0000\u0000\u0000  \u0000\u0000\u0001\u0000\u0000\u0000\u0007n��\u001a\u0000\u0000\u0000�n��\u001a\u0000\u0000\u0000\u001e@\u0000\u0000\u0001\u0000\u0000\u0000a��\u0005=\u0000\u0000\u0000���\u0005=\u0000\u0000\u0000% \u0000\u0000\u0001\u0000\u0000\u0000�n��\u001a\u0000\u0000\u0000qp��\u001a\u0000\u0000\u0000+ \u0000\u0000\u0001\u0000\u0000\u0000qp��\u001a\u0000\u0000\u0000Gq��\u001a\u0000\u0000\u0000- \u0000\u0000\u0001\u0000\u0000\u0000Gq��\u001a\u0000\u0000\u0000\u001cr��\u001a\u0000\u0000\u0000. \u0000\u0000\u0001\u0000\u0000\u0000\u001cr��\u001a\u0000\u0000\u0000�r��\u001a\u0000\u0000\u00000 \u0000\u0000\u0001\u0000\u0000\u0000�r��\u001a\u0000\u0000\u0000�t��\u001a\u0000\u0000\u00002@\u0000\u0000\u0001\u0000\u0000\u0000���\u0005=\u0000\u0000\u0000O��\u0005=\u0000\u0000\u00003 \u0000\u0000\u0001\u0000\u0000\u0000�t��\u001a\u0000\u0000\u00005v��\u001a\u0000\u0000\u00003@\u0000\u0000\u0001\u0000\u0000\u0000O��\u0005=\u0000\u0000\u0000$ǃ\u0005=\u0000\u0000\u00005@\u0000\u0000\u0001\u0000\u0000\u0000$ǃ\u0005=\u0000\u0000\u0000�ǃ\u0005=\u0000\u0000\u0000: \u0000\u0000\u0001\u0000\u0000\u00005v��\u001a\u0000\u0000\u0000�x��\u001a\u0000\u0000\u0000; \u0000\u0000\u0001\u0000\u0000\u0000�x��\u001a\u0000\u0000\u0000�y��\u001a\u0000\u0000\u0000< \u0000\u0000\u0001\u0000\u0000\u0000�y��\u001a\u0000\u0000\u0000ez��\u001a\u0000\u0000\u0000= \u0000\u0000\u0001\u0000\u0000\u0000ez��\u001a\u0000\u0000\u0000e��\u001a\u0000\u0000\u0000> \u0000\u0000\u0001\u0000\u0000\u0000e��\u001a\u0000\u0000\u0000����\u001a\u0000\u0000\u0000;@\u0000\u0000\u0001\u0000\u0000\u0000�ǃ\u0005=\u0000\u0000\u0000Iڃ\u0005=\u0000\u0000\u0000A@\u0000\u0000\u0001\u0000\u0000\u0000Iڃ\u0005=\u0000\u0000\u0000;��\u0005=\u0000\u0000\u0000C \u0000\u0000\u0001\u0000\u0000\u0000����\u001a\u0000\u0000\u0000_���\u001a\u0000\u0000\u0000D \u0000\u0000\u0001\u0000\u0000\u0000_���\u001a\u0000\u0000\u00001���\u001a\u0000\u0000\u0000E \u0000\u0000\u0001\u0000\u0000\u00001���\u001a\u0000\u0000\u00005���\u001a\u0000\u0000\u0000F \u0000\u0000\u0001\u0000\u0000\u00005���\u001a\u0000\u0000\u0000)���\u001a\u0000\u0000\u0000G \u0000\u0000\u0001\u0000\u0000\u0000)���\u001a\u0000\u0000\u0000����\u001a\u0000\u0000\u0000H@\u0000\u0000\u0001\u0000\u0000\u0000\u0010�\u0005=\u0000\u0000\u0000��\u0005=\u0000\u0000\u0000I \u0000\u0000\u0001\u0000\u0000\u0000����\u001a\u0000\u0000\u0000ǹ��\u001a\u0000\u0000\u0000J\u0000\u0000\u0000\u0001\u0000\u0000\u0000F\u0015�\u0019\n\u0000\u0000\u0000\u001c\u0016�\u0019\n\u0014H\u001c\u0000\u0000\u0000�%\u0014H\u001c\u0000\u0000\u0000�!\u0000\u0000\u0001\u0000\u0000\u0000�%\u0014H\u001c\u0000\u0000\u0000�&\u0014H\u001c\u0000\u0000\u0000�A\u0000\u0000\u0001\u0000\u0000\u0000\u0007�\u001b�=\u0000\u0000\u0000��\u001b�=\u0000\u0000\u0000�!\u0000\u0000\u0001\u0000\u0000\u0000�&\u0014H\u001c\u0000\u0000\u0000�'\u0014H\u001c\u0000\u0000\u0000�!\u0000\u0000\u0001\u0000\u0000\u0000�'\u0014H\u001c\u0000\u0000\u0000M(\u0014H\u001c\u0000\u0000\u0000�!\u0000\u0000\u0001\u0000\u0000\u0000M(\u0014H\u001c\u0000\u0000\u0000#)\u0014H\u001c\u0000\u0000\u0000�!\u0000\u0000\u0001\u0000\u0000\u0000#)\u0014H\u001c\u0000\u0000\u0000{,\u0014H\u001c\u0000\u0000\u0000�!\u0000\u0000\u0001\u0000\u0000\u0000{,\u0014H\u001c\u0000\u0000\u0000�.\u0014H\u001c\u0000\u0000\u0000�A\u0000\u0000\u0001\u0000\u0000\u0000��\u001b�=\u0000\u0000\u0000��\u001b�=\u0000\u0000\u0000�!\u0000\u0000\u0001\u0000\u0000\u0000�.\u0014H\u001c\u0000\u0000\u0000�/\u0014H\u001c\u0000\u0000\u0000\u0000\"\u0000\u0000\u0001\u0000\u0000\u0000�/\u0014H\u001c\u0000\u0000\u0000�0\u0014H\u001c\u0000\u0000\u0000\u0001\"\u0000\u0000\u0001\u0000\u0000\u0000�0\u0014H\u001c\u0000\u0000\u0000n1\u0014H\u001c\u0000\u0000\u0000\u0004\"\u0000\u0000\u0001\u0000\u0000\u0000n1\u0014H\u001c\u0000\u0000\u0000D2\u0014H\u001c\u0000\u0000\u0000\u0004B\u0000\u0000\u0001\u0000\u0000\u0000��\u001b�=\u0000\u0000\u0000\u0016�\u001b�=\u0000\u0000\u0000\u0006\"\u0000\u0000\u0001\u0000\u0000\u0000D2\u0014H\u001c\u0000\u0000\u0000\u00143\u0014H\u001c\u0000\u0000\u0000\u0007\"\u0000\u0000\u0001\u0000\u0000\u0000\u00143\u0014H\u001c\u0000\u0000\u0000�4\u0014H\u001c\u0000\u0000\"\u0000\u0000\u0001\u0000\u0000\u0000�4\u0014H\u001c\u0000\u0000\u0000S6\u0014H\u001c\u0000\u0000\u0000\t\"\u0000\u0000\u0001\u0000\u0000\u0000S6\u0014H\u001c\u0000\u0000\u0000,7\u0014H\u001c\u0000\u0000\u0000!\u0000\u0000\u0001\u0000\u0000\u0000����\u001b\u0000\u0000\u0000iǕ�\u001b\u0000\u0000\u0000�!\u0000\u0000\u0001\u0000\u0000\u0000iǕ�\u001b\u0000\u0000\u0000�ʕ�\u001b\u0000\u0000\u0000�!\u0000\u0000\u0001\u0000\u0000\u0000�ʕ�\u001b\u0000\u0000\u0000(͕�\u001b\u0000\u0000\u0000�!\u0000\u0000\u0001\u0000\u0000\u0000(͕�\u001b\u0000\u0000\u0000�͕�\u001b\u0000\u0000\u0000�!\u0000\u0000\u0001\u0000\u0000\u0000�͕�\u001b\u0000\u0000\u00009Е�\u001b\u0000\u0000\u0000�!\u0000\u0000\u0001\u0000\u0000\u00009Е�\u001b\u0000\u0000\u0000\u0011ѕ�\u001b\u0000\u0000\u0000�!\u0000\u0000\u0001\u0000\u0000\u0000\u0011ѕ�\u001b\u0000\u0000\u0000�ѕ�\u001b\u0000\u0000\u0000�!\u0000\u0000\u0001\u0000\u0000\u0000�ѕ�\u001b\u0000\u0000\u0000Nԕ�\u001b\u0000\u0000\u0000�!\u0000\u0000\u0001\u0000\u0000\u0000Nԕ�\u001b\u0000\u0000\u0000�핝\u001b\u0000\u0000\u0000�!\u0000\u0000\u0001\u0000\u0000\u0000�핝\u001b\u0000\u0000\u00000\u0004H�\u001b\u0000\u0000\u0000�!\u0000\u0000\u0001\u0000\u0000\u00000\u0004H�\u001b\u0000\u0000\u0000�\u001aH�\u001b\u0000\u0000\u0000�!\u0000\u0000\u0001\u0000\u0000\u0000�\u001aH�\u001b\u0000\u0000\u0000QG\u0003\u001b�=\u0000\u0000\u0000w\u0000\u0000\u0000\u0001\u0000\u0000\u0000yx�p\u0018\u0000\u0000\u0000Ry�p\u0018\u0000\u0000\u0000w \u0000\u0000\u0001\u0000\u0000\u0000����\u001a\u0000\u0000\u0000����\u001a\u0000\u0000\u0000x \u0000\u0000\u0001\u0000\u0000\u0000����\u001a\u0000\u0000\u0000U���\u001a\u0000\u0000\u0000� \u0000\u0000\u0001\u0000\u0000\u0000U���\u001a\u0000\u0000\u0000����\u001a\u0000\u0000\u0000� \u0000\u0000\u0001\u0000\u0000\u0000����\u001a\u0000\u0000\u0000����\u001a\u0000\u0000\u0000� \u0000\u0000\u0001\u0000\u0000\u0000����\u001a\u0000\u0000\u0000����\u001a\u0000\u0000\u0000�\u0000\u0000\u0000\u0001\u0000\u0000\u0000\f��\u001c\u0000\u0000\u0000���\u001c\u0000\u0000\u0000� \u0000\u0000\u0001\u0000\u0000\u0000����\u001a\u0000\u0000\u0000!���\u001a\u0000\u0000\u0000� \u0000\u0000\u0001\u0000\u0000\u0000!���\u001a\u0000\u0000\u0000����\u001a\u0000\u0000\u0000� \u0000\u0000\u0001\u0000\u0000\u0000����\u001a\u0000\u0000\u0000\"���\u001a\u0000\u0000\u0000� \u0000\u0000\u0001\u0000\u0000\u0000\"���\u001a\u0000\u0000\u0000����\u001a\u0000\u0000\u0000� \u0000\u0000\u0001\u0000\u0000\u0000����\u001a\u0000\u0000\u0000P\u0007X=\u001b\u0000\u0000\u0000� \u0000\u0000\u0001\u0000\u0000\u0000P\u0007X=\u001b\u0000\u0000\u0000)\u0015X=\u001b\u0000\u0000\u0000� \u0000\u0000\u0001\u0000\u0000\u0000)\u0015X=\u001b\u0000\u0000\u0000�\u001bX=\u001b\u0000\u0000\u0000�\u0000\u0000\u0000\u0002\u0000\u0000\u0000�X\"�\u001e\u0000\u0000\u0000�Y\"�\u001e\u0000\u0000\u0000�\u0017�\u001a\u001f\u0000\u0000\u0000\\Z�\u001a\u001f\u0000\u0000\u0000�@\u0000\u0000\u0001\u0000\u0000\u0000G\u0003\u001b�=\u0000\u0000\u0000M\u001e\u001b�=\u0000\u0000\u0000�@\u0000\u0000\u0001\u0000\u0000\u0000M\u001e\u001b�=\u0000\u0000\u0000\"\u001f\u001b�=\u0000\u0000\u0000�@\u0000\u0000\u0001\u0000\u0000\u0000\"\u001f\u001b�=\u0000\u0000\u0000� \u001b�=\u0000\u0000\u0000�@\u0000\u0000\u0001\u0000\u0000\u0000� \u001b�=\u0000\u0000\u0000�!\u001b�=\u0000\u0000\u0000�@\u0000\u0000\u0001\u0000\u0000\u0000�!\u001b�=\u0000\u0000\u0000z\"\u001b�=\u0000\u0000\u0000�@\u0000\u0000\u0001\u0000\u0000\u0000z\"\u001b�=\u0000\u0000\u0000�#\u001b�=\u0000\u0000\u0000� \u0000\u0000\u0001\u0000\u0000\u0000�\u001bX=\u001b\u0000\u0000\u0000�\u001cX=\u001b\u0000\u0000\u0000�\u0000\u0000\u0000\u0001\u0000\u0000\u0000����%\u0000\u0000\u0000p���%\u0000\u0000\u0000�@\u0000\u0000\u0001\u0000\u0000\u0000�#\u001b�=\u0000\u0000\u0000�$\u001b�=\u0000\u0000\u0000�@\u0000\u0000\u0001\u0000\u0000\u0000�$\u001b�=\u0000\u0000\u0000a&\u001b�=\u0000\u0000\u0000�@\u0000\u0000\u0001\u0000\u0000\u0000a&\u001b�=\u0000\u0000\u00002'\u001b�=\u0000\u0000\u0000�@\u0000\u0000\u0001\u0000\u0000\u00002'\u001b�=\u0000\u0000\u0000�(\u001b�=\u0000\u0000\u0000� \u0000\u0000\u0001\u0000\u0000\u0000�\u001cX=\u001b\u0000\u0000\u0000� X=\u001b\u0000\u0000\u0000� \u0000\u0000\u0001\u0000\u0000\u0000� X=\u001b\u0000\u0000\u0000:#X=\u001b\u0000\u0000\u0000� \u0000\u0000\u0001\u0000\u0000\u0000:#X=\u001b\u0000\u0000\u0000�%X=\u001b\u0000\u0000\u0000� \u0000\u0000\u0001\u0000\u0000\u0000�%X=\u001b\u0000\u0000\u0000v&X=\u001b\u0000\u0000\u0000� \u0000\u0000\u0001\u0000\u0000\u0000v&X=\u001b\u0000\u0000\u0000K'X=\u001b\u0000\u0000\u0000� \u0000\u0000\u0001\u0000\u0000\u0000K'X=\u001b\u0000\u0000\u0000\u001a(X=\u001b\u0000\u0000\u0000� \u0000\u0000\u0001\u0000\u0000\u0000\u001a(X=\u001b\u0000\u0000\u0000�)X=\u001b\u0000\u0000\u0000�@\u0000\u0000\u0001\u0000\u0000\u0000�(\u001b�=\u0000\u0000\u0000o)\u001b�=\u0000\u0000\u0000�\u0000\u0000\u0000\u0001\u0000\u0000\u0000\u0013e{�,\u0000\u0000\u0000�e{�,\u0000\u0000\u0000� \u0000\u0000\u0001\u0000\u0000\u0000�)X=\u001b\u0000\u0000\u0000�*X=\u001b\u0000\u0000\u0000� \u0000\u0000\u0001\u0000\u0000\u0000�*X=\u001b\u0000\u0000\u0000\u001b+X=\u001b\u0000\u0000\u0000�\u0000\u0000\u0000\u0001\u0000\u0000\u0000�r��0\u0000\u0000\u0000����0\u0000\u0000\u0000�\u0000\u0000\u0000\u0002\u0000\u0000\u0000O�'t3\u0000\u0000\u0000!�\u001b4\u0000\u0000\u00004�K�4\u0000\u0000\u0000>�K�4\u0000\u0000\u0000� \u0000\u0000\u0001\u0000\u0000\u0000\u001b+X=\u001b\u0000\u0000\u0000�+X=\u001b\u0000\u0000\u0000� \u0000\u0000\u0001\u0000\u0000\u0000�+X=\u001b\u0000\u0000\u0000�-X=\u001b\u0000\u0000\u0000� \u0000\u0000\u0001\u0000\u0000\u0000�-X=\u001b\u0000\u0000\u0000o.X=\u001b\u0000\u0000\u0000�@\u0000\u0000\u0001\u0000\u0000\u0000o)\u001b�=\u0000\u0000\u00008*\u001b�=\u0000\u0000\u0000� \u0000\u0000\u0001\u0000\u0000\u0000o.X=\u001b\u0000\u0000\u0000\u001d8X=\u001b\u0000\u0000\u0000� \u0000\u0000\u0001\u0000\u0000\u0000\u001d8X=\u001b\u0000\u0000\u0000�SX=\u001b\u0000\u0000\u0000�@\u0000\u0000\u0001\u0000\u0000\u00008*\u001b�=\u0000\u0000\u0000�,\u001b�=\u0000\u0000\u0000�@\u0000\u0000\u0001\u0000\u0000\u0000�,\u001b�=\u0000\u0000\u0000�8\u001b�=\u0000\u0000\u0000� \u0000\u0000\u0001\u0000\u0000\u0000�SX=\u001b\u0000\u0000\u0000RTX=\u001b\u0000\u0000\u0000�@\u0000\u0000\u0001\u0000\u0000\u0000�8\u001b�=\u0000\u0000\u0000�9\u001b�=\u0000\u0000\u0000� \u0000\u0000\u0001\u0000\u0000\u0000RTX=\u001b\u0000\u0000\u0000%UX=\u001b\u0000\u0000\u0000� \u0000\u0000\u0001\u0000\u0000\u0000%UX=\u001b\u0000\u0000\u0000\u0019_X=\u001b\u0000\u0000\u0000� \u0000\u0000\u0001\u0000\u0000\u0000\u0019_X=\u001b\u0000\u0000\u0000�_X=\u001b\u0000\u0000\u0000� \u0000\u0000\u0001\u0000\u0000\u0000�_X=\u001b\u0000\u0000\u0000�cX=\u001b\u0000\u0000\u0000\u0001!\u0000\u0000\u0001\u0000\u0000\u0000�cX=\u001b\u0000\u0000\u0000(eX=\u001b\u0000\u0000\u0000�\u0000\u0000\u0000\u0001\u0000\u0000\u0000Ť�\u0005=\u0000\u0000\u0000���\u0005=\u0000\u0000\u0000\u0007!\u0000\u0000\u0001\u0000\u0000\u0000(eX=\u001b\u0000\u0000\u0000�eX=\u001b\u0000\u0000\u0000\tA\u0000\u0000\u0001\u0000\u0000\u0000�9\u001b�=\u0000\u0000\u0000�:\u001b�=\u0000\u0000\u0000\u000b\u0001\u0000\u0000\u0001\u0000\u0000\u0000�\u001bI�?\u0000\u0000\u0000}vI�?\u0000\u0000\u0000\f!\u0000\u0000\u0001\u0000\u0000\u0000�eX=\u001b\u0000\u0000\u0000�rX=\u001b\u0000\u0000\u0000\u0011A\u0000\u0000\u0001\u0000\u0000\u0000�:\u001b�=\u0000\u0000\u0000�=\u001b�=\u0000\u0000\u0000\u0013A\u0000\u0000\u0001\u0000\u0000\u0000�=\u001b�=\u0000\u0000\u0000�>\u001b�=\u0000\u0000\u0000\u0014A\u0000\u0000\u0001\u0000\u0000\u0000�>\u001b�=\u0000\u0000\u0000�?\u001b�=\u0000\u0000\u0000\u0015A\u0000\u0000\u0001\u0000\u0000\u0000�?\u001b�=\u0000\u0000\u0000\u0005B\u001b�=\u0000\u0000\u0000\u0016\u0001\u0000\u0000\u0001\u0000\u0000\u0000�RҬB\u0000\u0000\u0000�kҬB\u0000\u0000\u0000\u0017A\u0000\u0000\u0001\u0000\u0000\u0000\u0005B\u001b�=\u0000\u0000\u0000\u001eF\u001b�=\u0000\u0000\u0000\u0018!\u0000\u0000\u0001\u0000\u0000\u0000�rX=\u001b\u0000\u0000\u0000}uX=\u001b\u0000\u0000\u0000\u0018A\u0000\u0000\u0001\u0000\u0000\u0000\u001eF\u001b�=\u0000\u0000\u0000�F\u001b�=\u0000\u0000\u0000\u001a!\u0000\u0000\u0001\u0000\u0000\u0000}uX=\u001b\u0000\u0000\u00001vX=\u001b\u0000\u0000\u0000\u001b!\u0000\u0000\u0001\u0000\u0000\u00001vX=\u001b\u0000\u0000\u0000�{X=\u001b\u0000\u0000\u0000\u001aA\u0000\u0000\u0001\u0000\u0000\u0000�F\u001b�=\u0000\u0000\u0000�G\u001b�=\u0000\u0000\u0000\u001dA\u0000\u0000\u0001\u0000\u0000\u0000�G\u001b�=\u0000\u0000\u0000�H\u001b�=\u0000\u0000\u0000\u001f!\u0000\u0000\u0001\u0000\u0000\u0000�{X=\u001b\u0000\u0000\u0000�~X=\u001b\u0000\u0000\u0000 !\u0000\u0000\u0001\u0000\u0000\u0000�~X=\u001b\u0000\u0000\u0000�X=\u001b\u0000\u0000\u0000\u001eA\u0000\u0000\u0001\u0000\u0000\u0000�H\u001b�=\u0000\u0000\u0000XI\u001b�=\u0000\u0000\u0000!A\u0000\u0000\u0001\u0000\u0000\u0000\u0005K\u001b�=\u0000\u0000\u0000�K\u001b�=\u0000\u0000\u0000 A\u0000\u0000\u0001\u0000\u0000\u0000XI\u001b�=\u0000\u0000\u0000\u0005K\u001b�=\u0000\u0000\u0000\"A\u0000\u0000\u0001\u0000\u0000\u0000�K\u001b�=\u0000\u0000\u0000�L\u001b�=\u0000\u0000\u0000 \u0001\u0000\u0000\u0001\u0000\u0000\u0000�J�\u001cE\u0000\u0000\u0000TK�\u001cE\u0000\u0000\u0000,!\u0000\u0000\u0001\u0000\u0000\u0000�X=\u001b\u0000\u0000\u0000��X=\u001b\u0000\u0000\u0000-!\u0000\u0000\u0001\u0000\u0000\u0000��X=\u001b\u0000\u0000\u0000��X=\u001b\u0000\u0000\u0000.!\u0000\u0000\u0001\u0000\u0000\u0000��X=\u001b\u0000\u0000\u0000ĶX=\u001b\u0000\u0000\u0000/!\u0000\u0000\u0001\u0000\u0000\u0000ĶX=\u001b\u0000\u0000\u0000j�X=\u001b\u0000\u0000\u00000!\u0000\u0000\u0001\u0000\u0000\u0000j�X=\u001b\u0000\u0000\u0000��X=\u001b\u0000\u0000\u0000/A\u0000\u0000\u0001\u0000\u0000\u0000,O\u001b�=\u0000\u0000\u0000\u0001P\u001b�=\u0000\u0000\u00000A\u0000\u0000\u0001\u0000\u0000\u0000\u0001P\u001b�=\u0000\u0000\u0000�P\u001b�=\u0000\u0000\u00001A\u0000\u0000\u0001\u0000\u0000\u0000�P\u001b�=\u0000\u0000\u0000�R\u001b�=\u0000\u0000\u0000<!\u0000\u0000\u0001\u0000\u0000\u0000��X=\u001b\u0000\u0000\u0000��X=\u001b\u0000\u0000\u0000>!\u0000\u0000\u0001\u0000\u0000\u0000��X=\u001b\u0000\u0000\u0000��X=\u001b\u0000\u0000\u0000?!\u0000\u0000\u0001\u0000\u0000\u0000��X=\u001b\u0000\u0000\u0000��X=\u001b\u0000\u0000\u00006A\u0000\u0000\u0001\u0000\u0000\u0000�R\u001b�=\u0000\u0000\u0000\u0003U\u001b�=\u0000\u0000\u0000;A\u0000\u0000\u0001\u0000\u0000\u0000\u0003U\u001b�=\u0000\u0000\u0000�U\u001b�=\u0000\u0000\u0000B!\u0000\u0000\u0001\u0000\u0000\u0000��X=\u001b\u0000\u0000\u0000��X=\u001b\u0000\u0000\u0000C!\u0000\u0000\u0001\u0000\u0000\u0000��X=\u001b\u0000\u0000\u0000Z�X=\u001b\u0000\u0000\u0000D!\u0000\u0000\u0001\u0000\u0000\u0000Z�X=\u001b\u0000\u0000\u0000��X=\u001b\u0000\u0000\u0000E!\u0000\u0000\u0001\u0000\u0000\u0000��X=\u001b\u0000\u0000\u0000��X=\u001b\u0000\u0000\u0000F!\u0000\u0000\u0001\u0000\u0000\u0000��X=\u001b\u0000\u0000\u0000P�X=\u001b\u0000\u0000\u0000G!\u0000\u0000\u0001\u0000\u0000\u0000P�X=\u001b\u0000\u0000\u0000��X=\u001b\u0000\u0000\u0000H!\u0000\u0000\u0001\u0000\u0000\u0000��X=\u001b\u0000\u0000\u0000y�X=\u001b\u0000\u0000\u0000-A\u0000\u0000\u0001\u0000\u0000\u0000�L\u001b�=\u0000\u0000\u0000,O\u001b�=\u0000\u0000\u0000J!\u0000\u0000\u0001\u0000\u0000\u0000y�X=\u001b\u0000\u0000\u0000Q�X=\u001b\u0000\u0000\u0000EA\u0000\u0000\u0001\u0000\u0000\u0000�U\u001b�=\u0000\u0000\u0000�V\u001b�=\u0000\u0000\u0000KA\u0000\u0000\u0001\u0000\u0000\u0000]�\u001b�=\u0000\u0000\u0000؂\u001b�=\u0000\u0000\u0000GA\u0000\u0000\u0001\u0000\u0000\u0000�V\u001b�=\u0000\u0000\u0000rW\u001b�=\u0000\u0000\u0000HA\u0000\u0000\u0001\u0000\u0000\u0000rW\u001b�=\u0000\u0000\u0000)X\u001b�=\u0000\u0000\u0000LA\u0000\u0000\u0001\u0000\u0000\u0000؂\u001b�=\u0000\u0000\u0000��\u001b�=\u0000\u0000\u0000JA\u0000\u0000\u0001\u0000\u0000\u0000)X\u001b�=\u0000\u0000\u0000]�\u001b�=\u0000\u0000\u0000NA\u0000\u0000\u0001\u0000\u0000\u0000i�\u001b�=\u0000\u0000\u0000��\u001b�=\u0000\u0000\u0000MA\u0000\u0000\u0001\u0000\u0000\u0000��\u001b�=\u0000\u0000\u0000i�\u001b�=\u0000\u0000\u0000PA\u0000\u0000\u0001\u0000\u0000\u0000��\u001b�=\u0000\u0000\u0000ˉ\u001b�=\u0000\u0000\u0000ZA\u0000\u0000\u0001\u0000\u0000\u0000 �\u001b�=\u0000\u0000\u0000)�\u001b�=\u0000\u0000\u0000[A\u0000\u0000\u0001\u0000\u0000\u0000)�\u001b�=\u0000\u0000\u0000�\u001b�=\u0000\u0000\u0000\\A\u0000\u0000\u0001\u0000\u0000\u0000�\u001b�=\u0000\u0000\u0000��\u001b�=\u0000\u0000\u0000]A\u0000\u0000\u0001\u0000\u0000\u0000��\u001b�=\u0000\u0000\u0000H�\u001b�=\u0000\u0000\u0000^A\u0000\u0000\u0001\u0000\u0000\u0000H�\u001b�=\u0000\u0000\u0000\u001a�\u001b�=\u0000\u0000\u0000_A\u0000\u0000\u0001\u0000\u0000\u0000\u001a�\u001b�=\u0000\u0000\u0000\u0007�\u001b�=\u0000\u0000\u0000`A\u0000\u0000\u0001\u0000\u0000\u0000\u0007�\u001b�=\u0000\u0000\u0000G�\u001b�=\u0000\u0000\u0000bA\u0000\u0000\u0001\u0000\u0000\u0000G�\u001b�=\u0000\u0000\u0000�\u001b�=\u0000\u0000\u0000d!\u0000\u0000\u0001\u0000\u0000\u0000Q�X=\u001b\u0000\u0000\u0000��X=\u001b\u0000\u0000\u0000/\u0001\u0000\u0000\u0001\u0000\u0000\u0000g�c�H\u0000\u0000\u0000��c�H\u0000\u0000\u0000g!\u0000\u0000\u0001\u0000\u0000\u0000��X=\u001b\u0000\u0000\u0000��X=\u001b\u0000\u0000\u0000h!\u0000\u0000\u0001\u0000\u0000\u0000��X=\u001b\u0000\u0000\u0000\u0000\u0000��\u001b\u0000\u0000\u0000i!\u0000\u0000\u0001\u0000\u0000\u0000\u0000\u0000��\u001b\u0000\u0000\u0000�\u0001��\u001b\u0000\u0000\u0000gA\u0000\u0000\u0001\u0000\u0000\u0000�\u001b�=\u0000\u0000\u0000��\u001b�=\u0000\u0000\u0000hA\u0000\u0000\u0001\u0000\u0000\u0000��\u001b�=\u0000\u0000\u0000��\u001b�=\u0000\u0000\u0000l!\u0000\u0000\u0001\u0000\u0000\u0000�\u0001��\u001b\u0000\u0000\u0000|\u0002��\u001b\u0000\u0000\u0000mA\u0000\u0000\u0001\u0000\u0000\u0000��\u001b�=\u0000\u0000\u0000̫\u001b�=\u0000\u0000\u0000n!\u0000\u0000\u0001\u0000\u0000\u0000|\u0002��\u001b\u0000\u0000\u0000�\t��\u001b\u0000\u0000\u0000o!\u0000\u0000\u0001\u0000\u0000\u0000�\t��\u001b\u0000\u0000\u0000�\u0011��\u001b\u0000\u0000\u0000p!\u0000\u0000\u0001\u0000\u0000\u0000�\u0011��\u001b\u0000\u0000\u0000\u0002\u0016��\u001b\u0000\u0000\u0000q!\u0000\u0000\u0001\u0000\u0000\u0000\u0002\u0016��\u001b\u0000\u0000\u0000�\u0016��\u001b\u0000\u0000\u0000qA\u0000\u0000\u0001\u0000\u0000\u0000̫\u001b�=\u0000\u0000\u0000��\u001b�=\u0000\u0000\u0000s!\u0000\u0000\u0001\u0000\u0000\u0000�\u0016��\u001b\u0000\u0000\u0000�\u0018��\u001b\u0000\u0000\u0000t!\u0000\u0000\u0001\u0000\u0000\u0000�\u0018��\u001b\u0000\u0000\u0000i\u001d��\u001b\u0000\u0000\u0000u!\u0000\u0000\u0001\u0000\u0000\u0000i\u001d��\u001b\u0000\u0000\u0000A!��\u001b\u0000\u0000\u0000v!\u0000\u0000\u0001\u0000\u0000\u0000A!��\u001b\u0000\u0000\u0000x,��\u001b\u0000\u0000\u0000sA\u0000\u0000\u0001\u0000\u0000\u0000��\u001b�=\u0000\u0000\u0000h�\u001b�=\u0000\u0000\u00001\u0001\u0000\u0000\u0001\u0000\u0000\u0000�\u0018��I\u0000\u0000\u0000ک��I\u0000\u0000\u0000�A\u0000\u0000\u0001\u0000\u0000\u0000h�\u001b�=\u0000\u0000\u0000;�\u001b�=\u0000\u0000\u0000�A\u0000\u0000\u0001\u0000\u0000\u0000;�\u001b�=\u0000\u0000\u0000\u000b�\u001b�=\u0000\u0000\u0000�!\u0000\u0000\u0001\u0000\u0000\u0000x,��\u001b\u0000\u0000\u0000J-��\u001b\u0000\u0000\u0000�!\u0000\u0000\u0001\u0000\u0000\u0000J-��\u001b\u0000\u0000\u0000�.��\u001b\u0000\u0000\u0000�A\u0000\u0000\u0001\u0000\u0000\u0000\u000b�\u001b�=\u0000\u0000\u0000�\u001b�=\u0000\u0000\u0000�A\u0000\u0000\u0001\u0000\u0000\u0000�\u001b�=\u0000\u0000\u0000��\u001b�=\u0000\u0000\u0000�A\u0000\u0000\u0001\u0000\u0000\u0000��\u001b�=\u0000\u0000\u0000t�\u001b�=\u0000\u0000\u0000�A\u0000\u0000\u0001\u0000\u0000\u0000t�\u001b�=\u0000\u0000\u0000ǳ\u001b�=\u0000\u0000\u0000�A\u0000\u0000\u0001\u0000\u0000\u0000ǳ\u001b�=\u0000\u0000\u0000��\u001b�=\u0000\u0000\u0000�A\u0000\u0000\u0001\u0000\u0000\u0000��\u001b�=\u0000\u0000\u0000:�\u001b�=\u0000\u0000\u0000�A\u0000\u0000\u0001\u0000\u0000\u0000:�\u001b�=\u0000\u0000\u00005�\u001b�=\u0000\u0000\u0000�!\u0000\u0000\u0001\u0000\u0000\u0000�.��\u001b\u0000\u0000\u0000�/��\u001b\u0000\u0000\u0000�A\u0000\u0000\u0001\u0000\u0000\u00005�\u001b�=\u0000\u0000\u0000\u000b�\u001b�=\u0000\u0000\u0000�!\u0000\u0000\u0001\u0000\u0000\u0000�/��\u001b\u0000\u0000\u0000Z1��\u001b\u0000\u0000\u0000�!\u0000\u0000\u0001\u0000\u0000\u0000Z1��\u001b\u0000\u0000\u000072��\u001b\u0000\u0000\u0000�!\u0000\u0000\u0001\u0000\u0000\u000072��\u001b\u0000\u0000\u0000\nV\u001d>\u0000\u0000\u0000&\"\u0000\u0000\u0001\u0000\u0000\u00002�\u0014H\u001c\u0000\u0000\u0000\u0000\u000eB\u0000\u0000\u0001\u0000\u0000\u0000\u0016�\u001b�=\u0000\u0000\u0000��\u001b�=\u0000\u0000\u0000\u000f\"\u0000\u0000\u0001\u0000\u0000\u0000�=\u0014H\u001c\u0000\u0000\u0000�@\u0014H\u001c\u0000\u0000\u0000\u0010B\u0000\u0000\u0001\u0000\u0000\u0000��\u001b�=\u0000\u0000\u0000�\u0004V\u001d>\u0000\u0000\u0000\u0011\"\u0000\u0000\u0001\u0000\u0000\u0000�@\u0014H\u001c\u0000\u0000\u0000�B\u0014H\u001c\u0000\u0000\u0000\u0012\"\u0000\u0000\u0001\u0000\u0000\u0000�B\u0014H\u001c\u0000\u0000\u0000jC\u0014H\u001c\u0000\u0000\u0000\u0014\"\u0000\u0000\u0001\u0000\u0000\u0000jC\u0014H\u001c\u0000\u0000\u0000\u000eD\u0014H\u001c\u0000\u0000\u0000\u0015\"\u0000\u0000\u0001\u0000\u0000\u0000\u000eD\u0014H\u001c\u0000\u0000\u0000�E\u0014H\u001c\u0000\u0000\u0000\u0016B\u0000\u0000\u0001\u0000\u0000\u0000h\u0005V\u001d>\u0000\u0000\u0000\u0001\u0006V\u001d>\u0000\u0000\u0000\u0011B\u0000\u0000\u0001\u0000\u0000\u0000�\u0004V\u001d>\u0000\u0000\u0000h\u0005V\u001d>\u0000\u0000\u0000\u0018\"\u0000\u0000\u0001\u0000\u0000\u0000�E\u0014H\u001c\u0000\u0000\u0000$H\u0014H\u001c\u0000\u0000\u0000\u0019\"\u0000\u0000\u0001\u0000\u0000\u0000$H\u0014H\u001c\u0000\u0000\u0000�H\u0014H\u001c\u0000\u0000\u0000\u001a\"\u0000\u0000\u0001\u0000\u0000\u0000�H\u0014H\u001c\u0000\u0000\u0000�N\u0014H\u001c\u0000\u0000\u0000\u001b\"\u0000\u0000\u0001\u0000\u0000\u0000�N\u0014H\u001c\u0000\u0000\u0000�W\u0014H\u001c\u0000\u0000\u0000\u001c\"\u0000\u0000\u0001\u0000\u0000\u0000�W\u0014H\u001c\u0000\u0000\u00002�\u0014H\u001c\u0000\u0000\u0000\u001dB\u0000\u0000\u0001\u0000\u0000\u0000\u0001\u0006V\u001d>\u0000\u0000\u0000�\u0006V\u001d>\u0000\u0000\u0000\u001eB\u0000\u0000\u0001\u0000\u0000\u0000�\u0006V\u001d>\u0000\u0000\u0000�\u0007V\u001d>\u0000\u0000\u0000\u001fB\u0000\u0000\u0001\u0000\u0000\u0000�\u0007V\u001d>\u0000\u0000\u0000{\u000bV\u001d>\u0000\u0000\u0000 B\u0000\u0000\u0001\u0000\u0000\u0000{\u000bV\u001d>\u0000\u0000\u0000�\n�\u0014H\u001c\u0000\u0000\u0000'\"\u0000\u0000\u0001\u0000\u0000\u0000\n\u0007�\u001c\u0000\u0000\u0000�\"\u0000\u0000\u0001\u0000\u0000\u0000*\"\u0000\u0000\u0001\u0000\u0000\u0000\u0000�\u0014H\u001c\u0000\u0000\u0000Պ\u0014H\u001c\u0000\u0000\u0000+\"\u0000\u0000\u0001\u0000\u0000\u0000Պ\u0014H\u001c\u0000\u0000\u0000g�\u0014H\u001c\u0000\u0000\u0000,\"\u0000\u0000\u0001\u0000\u0000\u0000g�\u0014H\u001c\u0000\u0000\u0000�\u0014H\u001c\u0000\u0000\u0000-\"\u0000\u0000\u0001\u0000\u0000\u0000�\u0014H\u001c\u0000\u0000\u0000K�\u0014H\u001c\u0000\u0000\u0000.\"\u0000\u0000\u0001\u0000\u0000\u0000K�\u0014H\u001c\u0000\u0000\u0000�\u0014H\u001c\u0000\u0000\u0000/\"\u0000\u0000\u0001\u0000\u0000\u0000�\u0014H\u001c\u0000\u0000\u0000B�\u0014H\u001c\u0000\u0000\u00000\"\u0000\u0000\u0001\u0000\u0000\u0000B�\u0014H\u001c\u0000\u0000\u0000\u001a�\u0014H\u001c\u0000\u0000\u0000+B\u0000\u0000\u0001\u0000\u0000\u0000�\u001aV\u001d>\u0000\u0000\u0000mKV\u001d>\u0000\u0000\u0000(B\u0000\u0000\u0001\u0000\u0000\u0000\u0013\u0016V\u001d>\u0000\u0000\u0000�\u0016V\u001d>\u0000\u0000\u0000)B\u0000\u0000\u0001\u0000\u0000\u0000�\u0016V\u001d>\u0000\u0000\u0000�\u0017V\u001d>\u0000\u0000\u00009\"\u0000\u0000\u0001\u0000\u0000\u0000��\u0014H\u001c\u0000\u0000\u0000o�\u0014H\u001c\u0000\u0000\u0000:\"\u0000\u0000\u0001\u0000\u0000\u0000o�\u0014H\u001c\u0000\u0000\u0000\u0014�\u0014H\u001c\u0000\u0000\u0000;\"\u0000\u0000\u0001\u0000\u0000\u0000\u0014�\u0014H\u001c\u0000\u0000\u0000��\u0014H\u001c\u0000\u0000\u0000<\"\u0000\u0000\u0001\u0000\u0000\u0000��\u0014H\u001c\u0000\u0000\u0000i�\u0014H\u001c\u0000\u0000\u00003B\u0000\u0000\u0001\u0000\u0000\u00007�V\u001d>\u0000\u0000\u0000\u0007�V\u001d>\u0000\u0000\u0000>\"\u0000\u0000\u0001\u0000\u0000\u0000i�\u0014H\u001c\u0000\u0000\u0000��\u0014H\u001c\u0000\u0000\u0000?\"\u0000\u0000\u0001\u0000\u0000\u0000��\u0014H\u001c\u0000\u0000\u0000\n�\u001c\u0000\u0000\u0000A\"\u0000\u0000\u0001\u0000\u0000\u0000�\n#\u0000\u0000\u0001\u0000\u0000\u0000�\u000f\u0002\u001d\u0000\u0000\u0000,�\u000f\u0002\u001d\u0000\u0000\u0000�B\u0000\u0000\u0001\u0000\u0000\u0000\u000b~I�?\u0000\u0000\u0000r�I�?\u0000\u0000\u0000\u000f#\u0000\u0000\u0001\u0000\u0000\u0000,�\u000f\u0002\u001d\u0000\u0000\u0000f�\u000f\u0002\u001d\u0000\u0000\u0000\u0001C\u0000\u0000\u0001\u0000\u0000\u0000i�I�?\u0000\u0000\u0000ŦI�?\u0000\u0000\u0000�B\u0000\u0000\u0001\u0000\u0000\u0000ǖI�?\u0000\u0000\u0000��I�?\u0000\u0000\u0000\u0004C\u0000\u0000\u0001\u0000\u0000\u0000��I�?\u0000\u0000\u0000O�I�?\u0000\u0000\u0000\u0014#\u0000\u0000\u0001\u0000\u0000\u0000f�\u000f\u0002\u001d\u0000\u0000\u0000��\u000f\u0002\u001d\u0000\u0000\u0000\u0015#\u0000\u0000\u0001\u0000\u0000\u0000��\u000f\u0002\u001d\u0000\u0000\u0000��\u000f\u0002\u001d\u0000\u0000\u0000\u0016#\u0000\u0000\u0001\u0000\u0000\u0000��\u000f\u0002\u001d\u0000\u0000\u0000��\u000f\u0002\u001d\u0000\u0000\u0000�B\u0000\u0000\u0001\u0000\u0000\u0000�xI�?\u0000\u0000\u0000�{I�?\u0000\u0000\u0000\u0003C\u0000\u0000\u0001\u0000\u0000\u0000ŦI�?\u0000\u0000\u0000��I�?\u0000\u0000\u0000\u000fC\u0000\u0000\u0001\u0000\u0000\u0000\u0004\u0004\u0003�?\u0000\u0000\u0000�\u0004\u0003�?\u0000\u0000\u0000\u0005C\u0000\u0000\u0001\u0000\u0000\u0000O�I�?\u0000\u0000\u0000��I�?\u0000\u0000\u0000�B\u0000\u0000\u0001\u0000\u0000\u0000��I�?\u0000\u0000\u0000i�I�?\u0000\u0000\u0000�B\u0000\u0000\u0001\u0000\u0000\u0000_}I�?\u0000\u0000\u0000\u000b~I�?\u0000\u0000C\u0000\u0000\u0001\u0000\u0000\u0000��I�?\u0000\u0000\u0000��I�?\u0000\u0000\u0000�B\u0000\u0000\u0001\u0000\u0000\u0000r�I�?\u0000\u0000\u0000T�I�?\u0000\u0000\u0000\u0015C\u0000\u0000\u0001\u0000\u0000\u0000�\f\u0003�?\u0000\u0000\u00009\u000f\u0003�?\u0000\u0000\u0000\u0011C\u0000\u0000\u0001\u0000\u0000\u0000�\u0004\u0003�?\u0000\u0000\u0000s\u0006\u0003�?\u0000\u0000\u0000\fC\u0000\u0000\u0001\u0000\u0000\u0000\\�I�?\u0000\u0000\u0000\u0014�I�?\u0000\u0000\u0000\u0006C\u0000\u0000\u0001\u0000\u0000\u0000��I�?\u0000\u0000\u0000��I�?\u0000\u0000\u0000\u0007C\u0000\u0000\u0001\u0000\u0000\u0000��I�?\u0000\u0000\u0000��I�?\u0000\u0000\u0000\u001eC\u0000\u0000\u0001\u0000\u0000\u00009\u000f\u0003�?\u0000\u0000\u0000�\u0010\u0003�?\u0000\u0000\u0000\tC\u0000\u0000\u0001\u0000\u0000\u0000��I�?\u0000\u0000\u0000\\�I�?\u0000\u0000\u0000 C\u0000\u0000\u0001\u0000\u0000\u0000�\u0011\u0003�?\u0000\u0000\u0000T\u0013\u0003�?\u0000\u0000\u0000\u0012C\u0000\u0000\u0001\u0000\u0000\u0000s\u0006\u0003�?\u0000\u0000\u00009\u001c\u0000\u0000\u0000���\u001c\u0000\u0000\u0000�\"\u0000\u0000\u0001\u0000\u0000\u0000���\u001c\u0000\u0000\u0000���\u001c\u0000\u0000\u0000�\"\u0000\u0000\u0001\u0000\u0000\u0000���\u001c\u0000\u0000\u0000���\u001c\u0000\u0000\u0000�\"\u0000\u0000\u0001\u0000\u0000\u0000z��\u001c\u0000\u0000\u0000P��\u001c\u0000\u0000\u0000�B\u0000\u0000\u0001\u0000\u0000\u0000�{I�?\u0000\u0000\u0000�|I�?\u0000\u0000\u0000�\"\u0000\u0000\u0001\u0000\u0000\u0000���\u001c\u0000\u0000\u0000z��\u001c\u0000\u0000\u0000�\"\u0000\u0000\u0001\u0000\u0000\u0000P��\u001c\u0000\u0000\u0000&��\u001c\u0000\u0000\u0000�\"\u0000\u0000\u0001\u0000\u0000\u0000&��\u001c\u0000\u0000\u0000���\u001c\u0000\u0000\u0000�\"\u0000\u0000\u0001\u0000\u0000\u0000���\u001c\u0000\u0000\u0000G��\u001c\u0000\u0000\u0000�\"\u0000\u0000\u0001\u0000\u0000\u0000G��\u001c\u0000\u0000\u0000\f��\u001c\u0000\u0000\u0000�\"\u0000\u0000\u0001\u0000\u0000\u0000\f��\u001c\u0000\u0000\u0000���\u001c\u0000\u0000\u0000�\"\u0000\u0000\u0001\u0000\u0000\u0000���\u001c\u0000\u0000\u0000���\u001c\u0000\u0000\u0000�\"\u0000\u0000\u0001\u0000\u0000\u0000���\u001c\u0000\u0000\u0000N��\u001c\u0000\u0000\u0000�\u0002\u0000\u0000\u0001\u0000\u0000\u0000@�}�\u000f\u0000\u0000\u0000\t�\u001d1\u0010\u0000\u0000\u0000\u0000#\u0000\u0000\u0001\u0000\u0000\u0000N��\u001c\u0000\u0000\u0000\u0000\u0000\u000f\u0002\u001d\u0000\u0000\u0000\u0001#\u0000\u0000\u0001\u0000\u0000\u0000\u0000\u0000\u000f\u0002\u001d\u0000\u0000\u0000q'\u000f\u0002\u001d\u0000\u0000\u0000\u0002#\u0000\u0000\u0001\u0000\u0000\u0000q'\u000f\u0002\u001d\u0000\u0000\u0000^S\u000f\u0002\u001d\u0000\u0000\u0000\u0003#\u0000\u0000\u0001\u0000\u0000\u0000^S\u000f\u0002\u001d\u0000\u0000\u0000\u0005U\u000f\u0002\u001d\u0000\u0000\u0000\u0004#\u0000\u0000\u0001\u0000\u0000\u0000\u0005U\u000f\u0002\u001d\u0000\u0000\u0000�[\u000f\u0002\u001d\u0000\u0000\u0000�B\u0000\u0000\u0001\u0000\u0000\u0000�|I�?\u0000\u0000\u0000_}I�?\u0000\u0000\u0000�B\u0000\u0000\u0001\u0000\u0000\u0000��I�?\u0000\u0000\u0000ǖI�?\u0000\u0000\u0000\u0007#\u0000\u0000\u0001\u0000\u0000\u0000�[\u000f\u0002\u001d\u0000\u0000\u0000��\u000f\u0002\u001d\u0000\u0000#\u0000\u0000\u0001\u0000\u0000\u0000��\u000f\u0002\u001d\u0000\u0000\u0000&�\u000f\u0002\u001d\u0000\u0000\u0000\t#\u0000\u0000\u0001\u0000\u0000\u0000&�\u000f\u0002\u001d\u0000\u0000\u0000`�\u000f\u0002\u001d\u0000\u0000\u0000�B\u0000\u0000\u0001\u0000\u0000\u0000T�I�?\u0000\u0000\u0000��I�?\u0000\u0000\u0000\u000b#\u0000\u0000\u0001\u0000\u0000\u0000`�\u000f\u0002\u001d\u0000\u0000\u0000��\u000f\u0002\u001d\u0000\u0000\u0000\f#\u0000\u0000\u0001\u0000\u0000\u0000��\u000f\u0002\u001d\u0000\u0000\u0000�\u000f\u0002\u001d\u0000\u0000\u0000\n\u0003�?\u0000\u0000\u0000\u0013C\u0000\u0000\u0001\u0000\u0000\u00009\nC\u0000\u0000\u0001\u0000\u0000\u0000\u0014�I�?\u0000\u0000\u00003�I�?\u0000\u0000\u0000\u000eC\u0000\u0000\u0001\u0000\u0000\u00003�I�?\u0000\u0000\u0000\u0004\u0004\u0003�?\u0000\u0000\u0000+#\u0000\u0000\u0001\u0000\u0000\u0000��\u000f\u0002\u001d\u0000\u0000\u0000��\u000f\u0002\u001d\u0000\u0000\u0000#C\u0000\u0000\u0001\u0000\u0000\u0000,\u0014\u0003�?\u0000\u0000\u0000\u0001\u0015\u0003�?\u0000\u0000\u0000\u001fC\u0000\u0000\u0001\u0000\u0000\u0000�\u0010\u0003�?\u0000\u0000\u0000�\u0011\u0003�?\u0000\u0000\u0000\u0014C\u0000\u0000\u0001\u0000\u0000\u0000�\u000b\u0003�?\u0000\u0000\u0000�\f\u0003�?\u0000\u0000\u0000'C\u0000\u0000\u0001\u0000\u0000\u0000\u0001\u0015\u0003�?\u0000\u0000\u0000�\u0017\u0003�?\u0000\u0000\u0000(C\u0000\u0000\u0001\u0000\u0000\u0000�\u0017\u0003�?\u0000\u0000\u0000�\u001c\u0003�?\u0000\u0000\u00006#\u0000\u0000\u0001\u0000\u0000\u0000��\u000f\u0002\u001d\u0000\u0000\u0000�\u0001�]\u001d\u0000\u0000\u00007#\u0000\u0000\u0001\u0000\u0000\u0000�\u0001�]\u001d\u0000\u0000\u0000�\u0005�]\u001d\u0000\u0000\u00003C\u0000\u0000\u0001\u0000\u0000\u0000\u00165k5@\u0000\u0000\u0000\u0014:k5@\u0000\u0000\u0000:\u0003\u0000\u0000\u0001\u0000\u0000\u0000�\u0012\u0000\u0000\u0000E\u00038�\u0012\u0000\u0000\u0000:#\u0000\u0000\u0001\u0000\u0000\u0000�\u0005�]\u001d\u0000\u0000\u0000kC�]\u001d\u0000\u0000\u0000;#\u0000\u0000\u0001\u0000\u0000\u0000kC�]\u001d\u0000\u0000\u0000;D�]\u001d\u0000\u0000\u0000!C\u0000\u0000\u0001\u0000\u0000\u0000T\u0013\u0003�?\u0000\u0000\u0000,\u0014\u0003�?\u0000\u0000\u0000>#\u0000\u0000\u0001\u0000\u0000\u0000;D�]\u001d\u0000\u0000\u0000\u000bE�]\u001d\u0000\u0000\u00001C\u0000\u0000\u0001\u0000\u0000\u0000�\u000bk5@\u0000\u0000\u0000�\u0019k5@\u0000\u0000\u00002C\u0000\u0000\u0001\u0000\u0000\u0000�\u0019k5@\u0000\u0000\u0000\u00165k5@\u0000\u0000\u0000B\u0003\u0000\u0000\u0001\u0000\u0000\u0000��\u0013/\u0013\u0000\u0000\u0000�\u001f��\u0013\u0000\u0000\u00009C\u0000\u0000\u0001\u0000\u0000\u00000=k5@\u0000\u0000\u0000�Jk5@\u0000\u0000\u00005C\u0000\u0000\u0001\u0000\u0000\u0000\u0014:k5@\u0000\u0000\u0000�:k5@\u0000\u0000\u0000EC\u0000\u0000\u0001\u0000\u0000\u0000�Lk5@\u0000\u0000\u0000wMk5@\u0000\u0000\u00007C\u0000\u0000\u0001\u0000\u0000\u0000�:k5@\u0000\u0000\u0000�;k5@\u0000\u0000\u00008C\u0000\u0000\u0001\u0000\u0000\u0000�;k5@\u0000\u0000\u00000=k5@\u0000\u0000\u0000H#\u0000\u0000\u0001\u0000\u0000\u0000\u000bE�]\u001d\u0000\u0000\u0000�E�]\u001d\u0000\u0000\u0000HC\u0000\u0000\u0001\u0000\u0000\u0000wMk5@\u0000\u0000\u00004Wk5@\u0000\u0000\u0000M#\u0000\u0000\u0001\u0000\u0000\u0000�E�]\u001d\u0000\u0000\u0000�F�]\u001d\u0000\u0000\u0000N#\u0000\u0000\u0001\u0000\u0000\u0000�F�]\u001d\u0000\u0000\u0000&o�]\u001d\u0000\u0000\u0000O#\u0000\u0000\u0001\u0000\u0000\u0000&o�]\u001d\u0000\u0000\u0000p#\u0010�\u001d\u0000\u0000\u0000S#\u0000\u0000\u0001\u0000\u0000\u0000p#\u0010�\u001d\u0000\u0000\u0000:$\u0010�\u001d\u0000\u0000\u0000T#\u0000\u0000\u0001\u0000\u0000\u0000:$\u0010�\u001d\u0000\u0000\u0000�%\u0010�\u001d\u0000\u0000\u0000U\u0003\u0000\u0000\u0001\u0000\u0000\u0000X3��\u0013\u0000\u0000\u0000�\u0007�=\u0014\u0000\u0000\u0000V#\u0000\u0000\u0001\u0000\u0000\u0000�%\u0010�\u001d\u0000\u0000\u0000�&\u0010�\u001d\u0000\u0000\u0000QC\u0000\u0000\u0001\u0000\u0000\u0000��k5@\u0000\u0000\u0000��k5@\u0000\u0000\u0000X\u0003\u0000\u0000\u0001\u0000\u0000\u0000�h�=\u0014\u0000\u0000\u0000ן�=\u0014\u0000\u0000\u0000Z#\u0000\u0000\u0001\u0000\u0000\u0000�&\u0010�\u001d\u0000\u0000\u00006)\u0010�\u001d\u0000\u0000\u0000[#\u0000\u0000\u0001\u0000\u0000\u00006)\u0010�\u001d\u0000\u0000\u0000�*\u0010�\u001d\u0000\u0000\u0000RC\u0000\u0000\u0001\u0000\u0000\u0000��k5@\u0000\u0000\u0000;�k5@\u0000\u0000\u0000ZC\u0000\u0000\u0001\u0000\u0000\u0000Aw��@\u0000\u0000\u0000\u0014x��@\u0000\u0000\u0000^\u0003\u0000\u0000\u0001\u0000\u0000\u0000��G�\u0014\u0000\u0000\u0000��G�\u0014\u0000\u0000\u0000_#\u0000\u0000\u0001\u0000\u0000\u0000�*\u0010�\u001d\u0000\u0000\u0000�+\u0010�\u001d\u0000\u0000\u0000VC\u0000\u0000\u0001\u0000\u0000\u0000\u000eb��@\u0000\u0000\u0000�c��@\u0000\u0000\u0000a#\u0000\u0000\u0001\u0000\u0000\u0000�+\u0010�\u001d\u0000\u0000\u0000 -\u0010�\u001d\u0000\u0000\u0000>C\u0000\u0000\u0001\u0000\u0000\u0000�Jk5@\u0000\u0000\u0000�Lk5@\u0000\u0000\u0000TC\u0000\u0000\u0001\u0000\u0000\u0000;�k5@\u0000\u0000\u0000\u000e!��@\u0000\u0000\u0000UC\u0000\u0000\u0001\u0000\u0000\u0000\u000e!��@\u0000\u0000\u0000\u000eb��@\u0000\u0000\u0000cC\u0000\u0000\u0001\u0000\u0000\u0000�z��@\u0000\u0000\u0000Ё��@\u0000\u0000\u0000XC\u0000\u0000\u0001\u0000\u0000\u0000�c��@\u0000\u0000\u0000�j��@\u0000\u0000\u0000YC\u0000\u0000\u0001\u0000\u0000\u0000�j��@\u0000\u0000\u0000Aw��@\u0000\u0000\u0000i\u0003\u0000\u0000\u0001\u0000\u0000\u0000\u0015_y�\u0014\u0000\u0000\u0000҅y�\u0014\u0000\u0000\u0000j#\u0000\u0000\u0001\u0000\u0000\u0000 -\u0010�\u001d\u0000\u0000\u0000�-\u0010�\u001d\u0000\u0000\u0000aC\u0000\u0000\u0001\u0000\u0000\u0000�y��@\u0000\u0000\u0000�z��@\u0000\u0000\u0000n#\u0000\u0000\u0001\u0000\u0000\u0000�-\u0010�\u001d\u0000\u0000\u0000�.\u0010�\u001d\u0000\u0000\u0000o#\u0000\u0000\u0001\u0000\u0000\u0000�.\u0010�\u001d\u0000\u0000\u0000r<\u0010�\u001d\u0000\u0000\u0000p#\u0000\u0000\u0001\u0000\u0000\u0000r<\u0010�\u001d\u0000\u0000\u0000>=\u0010�\u001d\u0000\u0000\u0000pC\u0000\u0000\u0001\u0000\u0000\u0000\u0016���@\u0000\u0000\u0000���@\u0000\u0000\u0000r#\u0000\u0000\u0001\u0000\u0000\u0000>=\u0010�\u001d\u0000\u0000\u0000\u0014>\u0010�\u001d\u0000\u0000\u0000dC\u0000\u0000\u0001\u0000\u0000\u0000Ё��@\u0000\u0000\u0000����@\u0000\u0000\u0000_C\u0000\u0000\u0001\u0000\u0000\u0000�x��@\u0000\u0000\u0000�y��@\u0000\u0000\u0000u#\u0000\u0000\u0001\u0000\u0000\u0000\u0014>\u0010�\u001d\u0000\u0000\u0000�>\u0010�\u001d\u0000\u0000\u0000uC\u0000\u0000\u0001\u0000\u0000\u0000����@\u0000\u0000\u0000����@\u0000\u0000\u0000w\u0003\u0000\u0000\u0001\u0000\u0000\u0000�_p�\u0015\u0000\u0000\u0000d\u0005��\u0015\u0000\u0000\u0000w#\u0000\u0000\u0001\u0000\u0000\u0000�>\u0010�\u001d\u0000\u0000\u0000�?\u0010�\u001d\u0000\u0000\u0000x#\u0000\u0000\u0001\u0000\u0000\u0000�?\u0010�\u001d\u0000\u0000\u0000�@\u0010�\u001d\u0000\u0000\u0000y#\u0000\u0000\u0001\u0000\u0000\u0000�@\u0010�\u001d\u0000\u0000\u0000bA\u0010�\u001d\u0000\u0000\u0000{#\u0000\u0000\u0001\u0000\u0000\u0000bA\u0010�\u001d\u0000\u0000\u0000@B\u0010�\u001d\u0000\u0000\u0000rC\u0000\u0000\u0001\u0000\u0000\u0000����@\u0000\u0000\u0000����@\u0000\u0000\u0000wC\u0000\u0000\u0001\u0000\u0000\u0000W���@\u0000\u0000\u0000���@\u0000\u0000\u0000xC\u0000\u0000\u0001\u0000\u0000\u0000���@\u0000\u0000\u0000}���@\u0000\u0000\u0000[C\u0000\u0000\u0001\u0000\u0000\u0000\u0014x��@\u0000\u0000\u0000�x��@\u0000\u0000\u0000qC\u0000\u0000\u0001\u0000\u0000\u0000���@\u0000\u0000\u0000����@\u0000\u0000\u0000eC\u0000\u0000\u0001\u0000\u0000\u0000����@\u0000\u0000\u0000\u0016���@\u0000\u0000\u0000�#\u0000\u0000\u0001\u0000\u0000\u0000@B\u0010�\u001d\u0000\u0000\u0000�C\u0010�\u001d\u0000\u0000\u0000�#\u0000\u0000\u0001\u0000\u0000\u0000�C\u0010�\u001d\u0000\u0000\u0000�D\u0010�\u001d\u0000\u0000\u0000�#\u0000\u0000\u0001\u0000\u0000\u0000�D\u0010�\u001d\u0000\u0000\u0000�O\u0010�\u001d\u0000\u0000\u0000�#\u0000\u0000\u0001\u0000\u0000\u0000�O\u0010�\u001d\u0000\u0000\u0000�Q\u0010�\u001d\u0000\u0000\u0000|C\u0000\u0000\u0001\u0000\u0000\u0000����@\u0000\u0000\u0000C���@\u0000\u0000\u0000}C\u0000\u0000\u0001\u0000\u0000\u0000C���@\u0000\u0000\u0000���@\u0000\u0000\u0000yC\u0000\u0000\u0001\u0000\u0000\u0000}���@\u0000\u0000\u0000����@\u0000\u0000\u0000�#\u0000\u0000\u0001\u0000\u0000\u0000�Q\u0010�\u001d\u0000\u0000\u0000�R\u0010�\u001d\u0000\u0000\u0000�\u0003\u0000\u0000\u0001\u0000\u0000\u0000!\u0014\u0019�\u0016\u0000\u0000\u0000�U\u0019�\u0016\u0000\u0000\u0000vC\u0000\u0000\u0001\u0000\u0000\u0000����@\u0000\u0000\u0000W���@\u0000\u0000\u0000�\u0003\u0000\u0000\u0001\u0000\u0000\u0000&`\u0019�\u0016\u0000\u0000\u0000ל\u0019�\u0016\u0000\u0000\u0000�\u0003\u0000\u0000\u0001\u0000\u0000\u0000ל\u0019�\u0016\u0000\u0000\u0000z\u0019�\u0005\u0017\u0000\u0000\u0000�\u0003\u0000\u0000\u0001\u0000\u0000\u0000z\u0019�\u0005\u0017\u0000\u0000\u0000�H�\u0005\u0017\u0000\u0000\u0000�\u0003\u0000\u0000\u0001\u0000\u0000\u0000�H�\u0005\u0017\u0000\u0000\u0000Gm�\u0005\u0017\u0000\u0000\u0000�#\u0000\u0000\u0001\u0000\u0000\u0000bS\u0010�\u001d\u0000\u0000\u0000�T\u0010�\u001d\u0000\u0000\u0000�#\u0000\u0000\u0001\u0000\u0000\u0000�T\u0010�\u001d\u0000\u0000\u0000�U\u0010�\u001d\u0000\u0000\u0000�#\u0000\u0000\u0001\u0000\u0000\u0000�R\u0010�\u001d\u0000\u0000\u0000bS\u0010�\u001d\u0000\u0000\u0000�\u0003\u0000\u0000\u0001\u0000\u0000\u0000���\u0005\u0017\u0000\u0000\u0000���\u0005\u0017\u0000\u0000\u0000C\u0000\u0000\u0001\u0000\u0000\u0000����@\u0000\u0000\u0000����@\u0000\u0000\u0000�#\u0000\u0000\u0001\u0000\u0000\u0000�U\u0010�\u001d\u0000\u0000\u0000ZV\u0010�\u001d\u0000\u0000\u0000zC\u0000\u0000\u0001\u0000\u0000\u0000����@\u0000\u0000\u0000g���@\u0000\u0000\u0000{C\u0000\u0000\u0001\u0000\u0000\u0000g���@\u0000\u0000\u0000����@\u0000\u0000\u0000�C\u0000\u0000\u0001\u0000\u0000\u0000N���@\u0000\u0000\u0000 ���@\u0000\u0000\u0000�C\u0000\u0000\u0001\u0000\u0000\u0000,���@\u0000\u0000\u0000W\u0007�7A\u0000\u0000\u0000~C\u0000\u0000\u0001\u0000\u0000\u0000���@\u0000\u0000\u0000����@\u0000\u0000\u0000�#\u0000\u0000\u0001\u0000\u0000\u0000ZV\u0010�\u001d\u0000\u0000\u00000W\u0010�\u001d\u0000\u0000\u0000�#\u0000\u0000\u0001\u0000\u0000\u00000W\u0010�\u001d\u0000\u0000\u0000�W\u0010�\u001d\u0000\u0000\u0000�C\u0000\u0000\u0001\u0000\u0000\u0000����@\u0000\u0000\u0000����@\u0000\u0000\u0000�C\u0000\u0000\u0001\u0000\u0000\u0000����@\u0000\u0000\u0000N���@\u0000\u0000\u0000�#\u0000\u0000\u0001\u0000\u0000\u0000�W\u0010�\u001d\u0000\u0000\u0000�X\u0010�\u001d\u0000\u0000\u0000�C\u0000\u0000\u0001\u0000\u0000\u0000W\u0007�7A\u0000\u0000\u0000�\f�7A\u0000\u0000\u0000�C\u0000\u0000\u0001\u0000\u0000\u0000 ���@\u0000\u0000\u0000c���@\u0000\u0000\u0000�#\u0000\u0000\u0001\u0000\u0000\u0000�X\u0010�\u001d\u0000\u0000\u0000gZ\u0010�\u001d\u0000\u0000\u0000�#\u0000\u0000\u0001\u0000\u0000\u0000gZ\u0010�\u001d\u0000\u0000\u0000>[\u0010�\u001d\u0000\u0000\u0000�C\u0000\u0000\u0001\u0000\u0000\u0000�+�7A\u0000\u0000\u0000\u0000-�7A\u0000\u0000\u0000�C\u0000\u0000\u0001\u0000\u0000\u0000�\f�7A\u0000\u0000\u0000�\u000f�7A\u0000\u0000\u0000�C\u0000\u0000\u0001\u0000\u0000\u0000�\u000f�7A\u0000\u0000\u0000v\u0010�7A\u0000\u0000\u0000�\u0003\u0000\u0000\u0001\u0000\u0000\u0000\u001e:�\u0017\u0018\u0000\u0000\u0000���\u0017\u0018\u0000\u0000\u0000�C\u0000\u0000\u0001\u0000\u0000\u0000c���@\u0000\u0000\u0000,���@\u0000\u0000\u0000�C\u0000\u0000\u0001\u0000\u0000\u0000\u0002{�7A\u0000\u0000\u0000�{�7A\u0000\u0000\u0000�C\u0000\u0000\u0001\u0000\u0000\u0000r�7A\u0000\u0000\u0000ˆ�7A\u0000\u0000\u0000�C\u0000\u0000\u0001\u0000\u0000\u0000v\u0010�7A\u0000\u0000\u0000�!�7A\u0000\u0000\u0000�C\u0000\u0000\u0001\u0000\u0000\u0000U}�7A\u0000\u0000\u0000r�7A\u0000\u0000\u0000�C\u0000\u0000\u0001\u0000\u0000\u0000s��7A\u0000\u0000\u0000���7A\u0000\u0000\u0000�C\u0000\u0000\u0001\u0000\u0000\u0000���7A\u0000\u0000\u0000s��7A\u0000\u0000\u0000�C\u0000\u0000\u0001\u0000\u0000\u0000ˆ�7A\u0000\u0000\u0000���7A\u0000\u0000\u0000�C\u0000\u0000\u0001\u0000\u0000\u0000�{�7A\u0000\u0000\u0000U}�7A\u0000\u0000\u0000�C\u0000\u0000\u0001\u0000\u0000\u0000���7A\u0000\u0000\u0000���7A\u0000\u0000\u0000�C\u0000\u0000\u0001\u0000\u0000\u0000���7A\u0000\u0000\u0000���7A\u0000\u0000\u0000�C\u0000\u0000\u0001\u0000\u0000\u0000���7A\u0000\u0000\u0000\n"
      }
     ],
     "persistentId": "f388ab8e-5647-4373-8b7f-dce7c7de9af5",
     "text": "! head $outdir/$bam\\.unspliced.out_CDS_without_stop_codon_or_utr.bam"
    },
    "executionTime": "2019-09-18T16:55:28.974Z"
   },
   {
    "cell": {
     "executionCount": 71,
     "executionEventId": "6e5628d2-2e28-4f3c-a6d5-549cdb28a831",
     "hasError": false,
     "id": "f899356e-d5bc-4026-b638-a60079a43482",
     "outputs": [
      {
       "name": "stdout",
       "output_type": "stream",
       "text": "***** WARNING: File /home/olga/data_sm/kmer-hashing/brawand2011/human//SRR306838_GSM752691_hsa_br_F_1Aligned.sortedByCoord.out.bam.unspliced.bam has inconsistent naming convention for record:\nGL000008.2\t29409\t29480\tSRR306838.11378224\t0\t+\n\n***** WARNING: File /home/olga/data_sm/kmer-hashing/brawand2011/human//SRR306838_GSM752691_hsa_br_F_1Aligned.sortedByCoord.out.bam.unspliced.bam has inconsistent naming convention for record:\nGL000008.2\t29409\t29480\tSRR306838.11378224\t0\t+\n\n"
      }
     ],
     "persistentId": "689cffd4-66ab-456a-aa86-bbfe608d4ea3",
     "text": "! bedtools intersect -a $outdir/$bam\\.unspliced.bam -b $cds_no_stop_codons_or_utr_gtf > $outdir/$bam\\.unspliced.out_CDS_without_stop_codon_or_utr.bam"
    },
    "executionTime": "2019-09-18T16:56:19.900Z"
   },
   {
    "cell": {
     "executionCount": 72,
     "executionEventId": "dd578587-34ad-4c2e-b149-e85fdada2a55",
     "hasError": false,
     "id": "fc8fd0d2-84e6-439f-a6b1-d00a4c922077",
     "outputs": [
      {
       "name": "stdout",
       "output_type": "stream",
       "text": "total 337M\ndrwxrwxr-x 2 olga olga 4.0K Sep 18 07:37 \u001b[0m\u001b[01;34m.\u001b[0m/\ndrwxrwxr-x 3 olga olga 4.0K Sep 10 15:07 \u001b[01;34m..\u001b[0m/\n-rw-rw-r-- 1 olga olga  52M Sep 18 07:37 SRR306838_GSM752691_hsa_br_F_1Aligned.sortedByCoord.out.bam.unspliced.bam\n-rw-rw-r-- 1 olga olga 9.3M Sep 18 09:55 SRR306838_GSM752691_hsa_br_F_1Aligned.sortedByCoord.out.bam.unspliced.out_CDS_without_stop_codon_or_utr.bam\n-rw-rw-r-- 1 olga olga  15M Sep 10 15:55 SRR306838_GSM752691_hsa_br_F_1Aligned.sortedByCoord.out_CDS_without_stop_codon.bam\n-rw-rw-r-- 1 olga olga 1.7M Sep 18 07:05 SRR306838_GSM752691_hsa_br_F_1Aligned.sortedByCoord.out_CDS_without_stop_codon.bam.bai\n-rw-rw-r-- 1 olga olga  15M Sep 18 07:15 SRR306838_GSM752691_hsa_br_F_1Aligned.sortedByCoord.out_CDS_without_stop_codon_or_utr.bam\n-rw-rw-r-- 1 olga olga 1.7M Sep 18 07:06 SRR306838_GSM752691_hsa_br_F_1Aligned.sortedByCoord.out_CDS_without_stop_codon_or_utr.bam.bai\n-rw-rw-r-- 1 olga olga 4.1M Sep 18 07:17 SRR306838_GSM752691_hsa_br_F_1Aligned.sortedByCoord.out_CDS_without_stop_codon_or_utr.read_ids.txt\n-rw-rw-r-- 1 olga olga 4.1M Sep 10 15:56 SRR306838_GSM752691_hsa_br_F_1Aligned.sortedByCoord.out_CDS_without_stop_codon.read_ids.txt\n-rw-r--r-- 1 olga olga 235M Sep 10 15:10 SRR306838_GSM752691_hsa_br_F_1_trimmed_k15.tsv\n"
      }
     ],
     "persistentId": "95951259-47d9-4d93-a99e-ae3d9657e97a",
     "text": "ls -lha $outdir"
    },
    "executionTime": "2019-09-18T16:56:20.184Z"
   },
   {
    "cell": {
     "executionCount": 73,
     "executionEventId": "6c296967-6866-42a0-9e9f-17abfe889a37",
     "hasError": false,
     "id": "fc8fd0d2-84e6-439f-a6b1-d00a4c922077",
     "outputs": [
      {
       "name": "stdout",
       "output_type": "stream",
       "text": "total 337M\ndrwxrwxr-x 2 olga olga 4.0K Sep 18 07:37 \u001b[0m\u001b[01;34m.\u001b[0m/\ndrwxrwxr-x 3 olga olga 4.0K Sep 10 15:07 \u001b[01;34m..\u001b[0m/\n-rw-rw-r-- 1 olga olga  52M Sep 18 07:37 SRR306838_GSM752691_hsa_br_F_1Aligned.sortedByCoord.out.bam.unspliced.bam\n-rw-rw-r-- 1 olga olga 9.3M Sep 18 09:55 SRR306838_GSM752691_hsa_br_F_1Aligned.sortedByCoord.out.bam.unspliced.out_CDS_without_stop_codon_or_utr.bam\n-rw-rw-r-- 1 olga olga  15M Sep 10 15:55 SRR306838_GSM752691_hsa_br_F_1Aligned.sortedByCoord.out_CDS_without_stop_codon.bam\n-rw-rw-r-- 1 olga olga 1.7M Sep 18 07:05 SRR306838_GSM752691_hsa_br_F_1Aligned.sortedByCoord.out_CDS_without_stop_codon.bam.bai\n-rw-rw-r-- 1 olga olga  15M Sep 18 07:15 SRR306838_GSM752691_hsa_br_F_1Aligned.sortedByCoord.out_CDS_without_stop_codon_or_utr.bam\n-rw-rw-r-- 1 olga olga 1.7M Sep 18 07:06 SRR306838_GSM752691_hsa_br_F_1Aligned.sortedByCoord.out_CDS_without_stop_codon_or_utr.bam.bai\n-rw-rw-r-- 1 olga olga 4.1M Sep 18 07:17 SRR306838_GSM752691_hsa_br_F_1Aligned.sortedByCoord.out_CDS_without_stop_codon_or_utr.read_ids.txt\n-rw-rw-r-- 1 olga olga 4.1M Sep 10 15:56 SRR306838_GSM752691_hsa_br_F_1Aligned.sortedByCoord.out_CDS_without_stop_codon.read_ids.txt\n-rw-r--r-- 1 olga olga 235M Sep 10 15:10 SRR306838_GSM752691_hsa_br_F_1_trimmed_k15.tsv\n"
      }
     ],
     "persistentId": "95951259-47d9-4d93-a99e-ae3d9657e97a",
     "text": "ls -lha $outdir"
    },
    "executionTime": "2019-09-18T16:56:30.829Z"
   },
   {
    "cell": {
     "executionCount": 74,
     "executionEventId": "163c8e9b-713c-44cf-89b9-aa9535916778",
     "hasError": false,
     "id": "d2a2a4e2-f351-4542-a5fe-ca9c9db0effd",
     "outputs": [],
     "persistentId": "9aa794de-61b4-4d67-94d9-dccdf7ffe025",
     "text": "! samtools index $outdir/*.bam"
    },
    "executionTime": "2019-09-18T16:56:54.869Z"
   },
   {
    "cell": {
     "executionCount": 75,
     "executionEventId": "b3f3bf6d-3c09-43bb-804f-f1a292cd184a",
     "hasError": false,
     "id": "8646931b-9889-4eb8-ad11-c9f7a614ca33",
     "outputs": [
      {
       "name": "stdout",
       "output_type": "stream",
       "text": "ls: cannot access '0lha': No such file or directory\n/home/olga/data_sm/kmer-hashing/brawand2011/human/:\nSRR306838_GSM752691_hsa_br_F_1Aligned.sortedByCoord.out.bam.unspliced.bam\nSRR306838_GSM752691_hsa_br_F_1Aligned.sortedByCoord.out.bam.unspliced.out_CDS_without_stop_codon_or_utr.bam\nSRR306838_GSM752691_hsa_br_F_1Aligned.sortedByCoord.out_CDS_without_stop_codon.bam\nSRR306838_GSM752691_hsa_br_F_1Aligned.sortedByCoord.out_CDS_without_stop_codon.bam.bai\nSRR306838_GSM752691_hsa_br_F_1Aligned.sortedByCoord.out_CDS_without_stop_codon_or_utr.bam\nSRR306838_GSM752691_hsa_br_F_1Aligned.sortedByCoord.out_CDS_without_stop_codon_or_utr.bam.bai\nSRR306838_GSM752691_hsa_br_F_1Aligned.sortedByCoord.out_CDS_without_stop_codon_or_utr.read_ids.txt\nSRR306838_GSM752691_hsa_br_F_1Aligned.sortedByCoord.out_CDS_without_stop_codon.read_ids.txt\nSRR306838_GSM752691_hsa_br_F_1_trimmed_k15.tsv\n"
      }
     ],
     "persistentId": "01ad4559-7157-4546-a694-d17d8476be36",
     "text": "ls 0lha $outdir"
    },
    "executionTime": "2019-09-18T16:57:02.777Z"
   },
   {
    "cell": {
     "executionCount": 76,
     "executionEventId": "1cad3f16-1fef-43bb-a942-1d9b4b8bbc7e",
     "hasError": false,
     "id": "d2a2a4e2-f351-4542-a5fe-ca9c9db0effd",
     "outputs": [],
     "persistentId": "9aa794de-61b4-4d67-94d9-dccdf7ffe025",
     "text": "! samtools index $outdir/*unspliced*.bam"
    },
    "executionTime": "2019-09-18T16:57:14.048Z"
   },
   {
    "cell": {
     "executionCount": 77,
     "executionEventId": "bd846cd4-baeb-429a-a496-2cc7ce30aaff",
     "hasError": false,
     "id": "d2a2a4e2-f351-4542-a5fe-ca9c9db0effd",
     "outputs": [],
     "persistentId": "9aa794de-61b4-4d67-94d9-dccdf7ffe025",
     "text": "! samtools index $outdir/*unspliced*.bam"
    },
    "executionTime": "2019-09-18T16:57:22.271Z"
   },
   {
    "cell": {
     "executionCount": 78,
     "executionEventId": "227e0bf0-3f79-4ec7-a14b-1f9da79d198d",
     "hasError": false,
     "id": "8646931b-9889-4eb8-ad11-c9f7a614ca33",
     "outputs": [
      {
       "name": "stdout",
       "output_type": "stream",
       "text": "ls: cannot access '0lha': No such file or directory\n/home/olga/data_sm/kmer-hashing/brawand2011/human/:\nSRR306838_GSM752691_hsa_br_F_1Aligned.sortedByCoord.out.bam.unspliced.bam\nSRR306838_GSM752691_hsa_br_F_1Aligned.sortedByCoord.out.bam.unspliced.out_CDS_without_stop_codon_or_utr.bam\nSRR306838_GSM752691_hsa_br_F_1Aligned.sortedByCoord.out_CDS_without_stop_codon.bam\nSRR306838_GSM752691_hsa_br_F_1Aligned.sortedByCoord.out_CDS_without_stop_codon.bam.bai\nSRR306838_GSM752691_hsa_br_F_1Aligned.sortedByCoord.out_CDS_without_stop_codon_or_utr.bam\nSRR306838_GSM752691_hsa_br_F_1Aligned.sortedByCoord.out_CDS_without_stop_codon_or_utr.bam.bai\nSRR306838_GSM752691_hsa_br_F_1Aligned.sortedByCoord.out_CDS_without_stop_codon_or_utr.read_ids.txt\nSRR306838_GSM752691_hsa_br_F_1Aligned.sortedByCoord.out_CDS_without_stop_codon.read_ids.txt\nSRR306838_GSM752691_hsa_br_F_1_trimmed_k15.tsv\n"
      }
     ],
     "persistentId": "01ad4559-7157-4546-a694-d17d8476be36",
     "text": "ls 0lha $outdir"
    },
    "executionTime": "2019-09-18T16:57:22.444Z"
   },
   {
    "cell": {
     "executionCount": 79,
     "executionEventId": "7c208f2d-36b3-4bc8-9aeb-440f1a34664e",
     "hasError": false,
     "id": "f123c61a-ef6b-4cb9-a7f0-0a686a689191",
     "outputs": [
      {
       "name": "stdout",
       "output_type": "stream",
       "text": "[E::hts_open_format] Failed to open file SRR306838_GSM752691_hsa_br_F_1Aligned.sortedByCoord.out.bam.unspliced.bam\nsamtools view: failed to open \"SRR306838_GSM752691_hsa_br_F_1Aligned.sortedByCoord.out.bam.unspliced.bam\" for reading: No such file or directory\n"
      }
     ],
     "persistentId": "ae157389-300c-490b-95bc-7678b1feb1da",
     "text": "! samtools view  SRR306838_GSM752691_hsa_br_F_1Aligned.sortedByCoord.out.bam.unspliced.bam | head"
    },
    "executionTime": "2019-09-18T16:57:36.248Z"
   },
   {
    "cell": {
     "executionCount": 80,
     "executionEventId": "1ae3c11a-cbea-4035-bba3-c9ebe88889de",
     "hasError": false,
     "id": "f123c61a-ef6b-4cb9-a7f0-0a686a689191",
     "outputs": [
      {
       "name": "stdout",
       "output_type": "stream",
       "text": "SRR306838.2504624\t256\tchr1\t14362\t1\t36M3D27M\t*\t0\t0\tTCCTGCACAGCTAGAGATCCTTTATTAAAAGCACACTGGTTTCTGCTCAGTTCTTTATTGATT\t-262773:5384472767787875666655876446966448:86379453866:78998886\tNH:i:4\tHI:i:2\tAS:i:53\tnM:i:0\tRG:Z:SRR306838_GSM752691_hsa_br_F_1\nSRR306838.13797218\t256\tchr1\t14978\t0\t52M\t*\t0\t0\tCTCATGACCAGCTTGTTGAAGAGATCCGACATCAAGTGCCCACCTTGGCTCG\t3254352877855542774474744666666466364788766764655485\tNH:i:10\tHI:i:2\tAS:i:51\tnM:i:0\tRG:Z:SRR306838_GSM752691_hsa_br_F_1\nSRR306838.12718178\t256\tchr1\t14985\t0\t52M\t*\t0\t0\tCCAGCTTGTTGAAGAGATCCGACATCAAGTCCCCACCTTGGCTCGTGGCTCT\t414713:668526626656774656765848876456445676864564475\tNH:i:10\tHI:i:2\tAS:i:49\tnM:i:1\tRG:Z:SRR306838_GSM752691_hsa_br_F_1\nSRR306838.7979691\t256\tchr1\t17598\t0\t64M\t*\t0\t0\tGGCCATACAGGTTCTCGGTGGTGTTGAAGAGCAGCAAGGAGCTGACAGAGCTGATGTTGCTGGG\t2535633843737:5567588675884585756865375385783445356:777658756678\tNH:i:5\tHI:i:3\tAS:i:62\tnM:i:0\tRG:Z:SRR306838_GSM752691_hsa_br_F_1\nSRR306838.11927233\t256\tchr1\t18229\t0\t68M\t*\t0\t0\tCTGCCCAGTAGCCTCAGGACACAGGGGTATGGGGACTACCTTGATGGCCTTCTTGCTGCCCTTGATCT\t,13224274595654576475879775/38556525434547566477455748966645654;4585\tNH:i:6\tHI:i:5\tAS:i:66\tnM:i:0\tRG:Z:SRR306838_GSM752691_hsa_br_F_1\nSRR306838.22570569\t256\tchr1\t19390\t0\t57M\t*\t0\t0\tCGCGACTGGGGTTCATGAGGAAAGGGAGGGGGAGGATGTGGGATGGTGGAGGGGCTG\t232603957571592675764249860856653662764765076646727564466\tNH:i:10\tHI:i:7\tAS:i:56\tnM:i:0\tRG:Z:SRR306838_GSM752691_hsa_br_F_1\nSRR306838.18293344\t272\tchr1\t20234\t0\t68M\t*\t0\t0\tCGAGTCAGCAGAATTTTGACGGCTTCTAACAAAATCTTGTAGACAAGATGGAGCTATGGGGGTTGGAG\t686556:7676647435746658545476686456845543756856563825333375583744313\tNH:i:5\tHI:i:2\tAS:i:64\tnM:i:1\tRG:Z:SRR306838_GSM752691_hsa_br_F_1\nSRR306838.17400332\t0\tchr1\t20305\t0\t42M\t*\t0\t0\tAGAACATATAGGAAAAATCAGAGCCAAATGAACCACAGCCCC\t*41136725578464576559576872657546645585756\tNH:i:5\tHI:i:1\tAS:i:41\tnM:i:0\tRG:Z:SRR306838_GSM752691_hsa_br_F_1\nSRR306838.1407510\t272\tchr1\t20661\t0\t60M6S\t*\t0\t0\tGTTAACTATAAGCTCAGTAGGGGCTAAAAGCATGTTAATCGGCATAAAAAGACAACGAGAACACTT\t624769356586966<6488389757867799754454645677676467747746569717/5/)\tNH:i:8\tHI:i:5\tAS:i:55\tnM:i:2\tRG:Z:SRR306838_GSM752691_hsa_br_F_1\nSRR306838.15078405\t272\tchr1\t20668\t0\t69M\t*\t0\t0\tATAAGCTCAGTAGGGGCTAAAAGCATGTTAATCGGCATAAAAAGGCAATGAGATCTTAGGGCACACAGC\t76474966;7457575:3666958:864465775779566544657768746225434753464051/0\tNH:i:7\tHI:i:4\tAS:i:67\tnM:i:0\tRG:Z:SRR306838_GSM752691_hsa_br_F_1\nsamtools view: writing to standard output failed: Broken pipe\nsamtools view: error closing standard output: -1\n"
      }
     ],
     "persistentId": "ae157389-300c-490b-95bc-7678b1feb1da",
     "text": "! samtools view $outdir/SRR306838_GSM752691_hsa_br_F_1Aligned.sortedByCoord.out.bam.unspliced.bam | head"
    },
    "executionTime": "2019-09-18T16:57:41.562Z"
   },
   {
    "cell": {
     "executionCount": 81,
     "executionEventId": "4e6070ec-feac-42b6-8d14-a4f8e6a1b718",
     "hasError": false,
     "id": "f899356e-d5bc-4026-b638-a60079a43482",
     "outputs": [
      {
       "name": "stdout",
       "output_type": "stream",
       "text": "***** WARNING: File /home/olga/data_sm/kmer-hashing/brawand2011/human//SRR306838_GSM752691_hsa_br_F_1Aligned.sortedByCoord.out.bam.unspliced.bam has inconsistent naming convention for record:\nGL000008.2\t29409\t29480\tSRR306838.11378224\t0\t+\n\n***** WARNING: File /home/olga/data_sm/kmer-hashing/brawand2011/human//SRR306838_GSM752691_hsa_br_F_1Aligned.sortedByCoord.out.bam.unspliced.bam has inconsistent naming convention for record:\nGL000008.2\t29409\t29480\tSRR306838.11378224\t0\t+\n\n"
      }
     ],
     "persistentId": "689cffd4-66ab-456a-aa86-bbfe608d4ea3",
     "text": "! bedtools intersect -abam $outdir/$bam\\.unspliced.bam -b $cds_no_stop_codons_or_utr_gtf > $outdir/$bam\\.unspliced.out_CDS_without_stop_codon_or_utr.bam"
    },
    "executionTime": "2019-09-18T16:59:25.987Z"
   },
   {
    "cell": {
     "executionCount": 82,
     "executionEventId": "d38d0cba-56e4-4472-a024-45f28cffac8e",
     "hasError": false,
     "id": "fc8fd0d2-84e6-439f-a6b1-d00a4c922077",
     "outputs": [
      {
       "name": "stdout",
       "output_type": "stream",
       "text": "total 337M\ndrwxrwxr-x 2 olga olga 4.0K Sep 18 07:37 \u001b[0m\u001b[01;34m.\u001b[0m/\ndrwxrwxr-x 3 olga olga 4.0K Sep 10 15:07 \u001b[01;34m..\u001b[0m/\n-rw-rw-r-- 1 olga olga  52M Sep 18 07:37 SRR306838_GSM752691_hsa_br_F_1Aligned.sortedByCoord.out.bam.unspliced.bam\n-rw-rw-r-- 1 olga olga 9.3M Sep 18 09:58 SRR306838_GSM752691_hsa_br_F_1Aligned.sortedByCoord.out.bam.unspliced.out_CDS_without_stop_codon_or_utr.bam\n-rw-rw-r-- 1 olga olga  15M Sep 10 15:55 SRR306838_GSM752691_hsa_br_F_1Aligned.sortedByCoord.out_CDS_without_stop_codon.bam\n-rw-rw-r-- 1 olga olga 1.7M Sep 18 07:05 SRR306838_GSM752691_hsa_br_F_1Aligned.sortedByCoord.out_CDS_without_stop_codon.bam.bai\n-rw-rw-r-- 1 olga olga  15M Sep 18 07:15 SRR306838_GSM752691_hsa_br_F_1Aligned.sortedByCoord.out_CDS_without_stop_codon_or_utr.bam\n-rw-rw-r-- 1 olga olga 1.7M Sep 18 07:06 SRR306838_GSM752691_hsa_br_F_1Aligned.sortedByCoord.out_CDS_without_stop_codon_or_utr.bam.bai\n-rw-rw-r-- 1 olga olga 4.1M Sep 18 07:17 SRR306838_GSM752691_hsa_br_F_1Aligned.sortedByCoord.out_CDS_without_stop_codon_or_utr.read_ids.txt\n-rw-rw-r-- 1 olga olga 4.1M Sep 10 15:56 SRR306838_GSM752691_hsa_br_F_1Aligned.sortedByCoord.out_CDS_without_stop_codon.read_ids.txt\n-rw-r--r-- 1 olga olga 235M Sep 10 15:10 SRR306838_GSM752691_hsa_br_F_1_trimmed_k15.tsv\n"
      }
     ],
     "persistentId": "95951259-47d9-4d93-a99e-ae3d9657e97a",
     "text": "ls -lha $outdir"
    },
    "executionTime": "2019-09-18T17:00:27.773Z"
   },
   {
    "cell": {
     "executionCount": 83,
     "executionEventId": "9c732910-cf20-4e9d-b47b-5649eba33261",
     "hasError": false,
     "id": "d2a2a4e2-f351-4542-a5fe-ca9c9db0effd",
     "outputs": [],
     "persistentId": "9aa794de-61b4-4d67-94d9-dccdf7ffe025",
     "text": "! samtools index $outdir/*unspliced*.bam"
    },
    "executionTime": "2019-09-18T17:00:33.104Z"
   },
   {
    "cell": {
     "executionCount": 84,
     "executionEventId": "1e56551e-25f1-4b4c-ae29-49d44552d706",
     "hasError": false,
     "id": "8646931b-9889-4eb8-ad11-c9f7a614ca33",
     "outputs": [
      {
       "name": "stdout",
       "output_type": "stream",
       "text": "ls: cannot access '0lha': No such file or directory\n/home/olga/data_sm/kmer-hashing/brawand2011/human/:\nSRR306838_GSM752691_hsa_br_F_1Aligned.sortedByCoord.out.bam.unspliced.bam\nSRR306838_GSM752691_hsa_br_F_1Aligned.sortedByCoord.out.bam.unspliced.out_CDS_without_stop_codon_or_utr.bam\nSRR306838_GSM752691_hsa_br_F_1Aligned.sortedByCoord.out_CDS_without_stop_codon.bam\nSRR306838_GSM752691_hsa_br_F_1Aligned.sortedByCoord.out_CDS_without_stop_codon.bam.bai\nSRR306838_GSM752691_hsa_br_F_1Aligned.sortedByCoord.out_CDS_without_stop_codon_or_utr.bam\nSRR306838_GSM752691_hsa_br_F_1Aligned.sortedByCoord.out_CDS_without_stop_codon_or_utr.bam.bai\nSRR306838_GSM752691_hsa_br_F_1Aligned.sortedByCoord.out_CDS_without_stop_codon_or_utr.read_ids.txt\nSRR306838_GSM752691_hsa_br_F_1Aligned.sortedByCoord.out_CDS_without_stop_codon.read_ids.txt\nSRR306838_GSM752691_hsa_br_F_1_trimmed_k15.tsv\n"
      }
     ],
     "persistentId": "01ad4559-7157-4546-a694-d17d8476be36",
     "text": "ls 0lha $outdir"
    },
    "executionTime": "2019-09-18T17:00:34.486Z"
   },
   {
    "cell": {
     "executionCount": 85,
     "executionEventId": "ecc3768b-930c-43bf-9301-163b4c9d7076",
     "hasError": false,
     "id": "d2a2a4e2-f351-4542-a5fe-ca9c9db0effd",
     "outputs": [],
     "persistentId": "9aa794de-61b4-4d67-94d9-dccdf7ffe025",
     "text": "! samtools index $outdir/SRR306838_GSM752691_hsa_br_F_1Aligned.sortedByCoord.out.bam.unspliced.bam"
    },
    "executionTime": "2019-09-18T17:00:50.205Z"
   },
   {
    "cell": {
     "executionCount": 86,
     "executionEventId": "f57e35d3-3e9e-4de1-85e7-33bf1f98b047",
     "hasError": false,
     "id": "9dddd80d-0f9b-416d-ba73-8e8ed57cd298",
     "outputs": [
      {
       "name": "stdout",
       "output_type": "stream",
       "text": "[E::hts_hopen] Failed to open file /home/olga/data_sm/kmer-hashing/brawand2011/human//SRR306838_GSM752691_hsa_br_F_1Aligned.sortedByCoord.out.bam.unspliced.out_CDS_without_stop_codon_or_utr.bam\n[E::hts_open_format] Failed to open file /home/olga/data_sm/kmer-hashing/brawand2011/human//SRR306838_GSM752691_hsa_br_F_1Aligned.sortedByCoord.out.bam.unspliced.out_CDS_without_stop_codon_or_utr.bam\nsamtools index: failed to open \"/home/olga/data_sm/kmer-hashing/brawand2011/human//SRR306838_GSM752691_hsa_br_F_1Aligned.sortedByCoord.out.bam.unspliced.out_CDS_without_stop_codon_or_utr.bam\": Exec format error\n"
      }
     ],
     "persistentId": "5194e001-6f0f-4f80-8577-c6f578038b7f",
     "text": "! samtools index $outdir/SRR306838_GSM752691_hsa_br_F_1Aligned.sortedByCoord.out.bam.unspliced.out_CDS_without_stop_codon_or_utr.bam"
    },
    "executionTime": "2019-09-18T17:01:04.220Z"
   },
   {
    "cell": {
     "executionCount": 87,
     "executionEventId": "9e536fb2-0aa1-4c3b-848c-52cd8a4b427a",
     "hasError": false,
     "id": "8646931b-9889-4eb8-ad11-c9f7a614ca33",
     "outputs": [
      {
       "name": "stdout",
       "output_type": "stream",
       "text": "total 334M\ndrwxrwxr-x 2 olga olga 4.0K Sep 18 09:59 \u001b[0m\u001b[01;34m.\u001b[0m/\ndrwxrwxr-x 3 olga olga 4.0K Sep 10 15:07 \u001b[01;34m..\u001b[0m/\n-rw-rw-r-- 1 olga olga  52M Sep 18 07:37 SRR306838_GSM752691_hsa_br_F_1Aligned.sortedByCoord.out.bam.unspliced.bam\n-rw-rw-r-- 1 olga olga 2.9M Sep 18 09:59 SRR306838_GSM752691_hsa_br_F_1Aligned.sortedByCoord.out.bam.unspliced.bam.bai\n-rw-rw-r-- 1 olga olga 2.9M Sep 18 09:59 SRR306838_GSM752691_hsa_br_F_1Aligned.sortedByCoord.out.bam.unspliced.out_CDS_without_stop_codon_or_utr.bam\n-rw-rw-r-- 1 olga olga  15M Sep 10 15:55 SRR306838_GSM752691_hsa_br_F_1Aligned.sortedByCoord.out_CDS_without_stop_codon.bam\n-rw-rw-r-- 1 olga olga 1.7M Sep 18 07:05 SRR306838_GSM752691_hsa_br_F_1Aligned.sortedByCoord.out_CDS_without_stop_codon.bam.bai\n-rw-rw-r-- 1 olga olga  15M Sep 18 07:15 SRR306838_GSM752691_hsa_br_F_1Aligned.sortedByCoord.out_CDS_without_stop_codon_or_utr.bam\n-rw-rw-r-- 1 olga olga 1.7M Sep 18 07:06 SRR306838_GSM752691_hsa_br_F_1Aligned.sortedByCoord.out_CDS_without_stop_codon_or_utr.bam.bai\n-rw-rw-r-- 1 olga olga 4.1M Sep 18 07:17 SRR306838_GSM752691_hsa_br_F_1Aligned.sortedByCoord.out_CDS_without_stop_codon_or_utr.read_ids.txt\n-rw-rw-r-- 1 olga olga 4.1M Sep 10 15:56 SRR306838_GSM752691_hsa_br_F_1Aligned.sortedByCoord.out_CDS_without_stop_codon.read_ids.txt\n-rw-r--r-- 1 olga olga 235M Sep 10 15:10 SRR306838_GSM752691_hsa_br_F_1_trimmed_k15.tsv\n"
      }
     ],
     "persistentId": "01ad4559-7157-4546-a694-d17d8476be36",
     "text": "ls -lha $outdir"
    },
    "executionTime": "2019-09-18T17:01:04.726Z"
   },
   {
    "cell": {
     "executionCount": 88,
     "executionEventId": "29e95764-2d4f-4bfa-be45-3e9cbfcf6051",
     "hasError": false,
     "id": "517a0ce5-196f-48b5-a939-c8663ba9d617",
     "outputs": [
      {
       "name": "stdout",
       "output_type": "stream",
       "text": "[E::hts_hopen] Failed to open file /home/olga/data_sm/kmer-hashing/brawand2011/human//SRR306838_GSM752691_hsa_br_F_1Aligned.sortedByCoord.out.bam.unspliced.out_CDS_without_stop_codon_or_utr.bam\n[E::hts_open_format] Failed to open file /home/olga/data_sm/kmer-hashing/brawand2011/human//SRR306838_GSM752691_hsa_br_F_1Aligned.sortedByCoord.out.bam.unspliced.out_CDS_without_stop_codon_or_utr.bam\nsamtools view: failed to open \"/home/olga/data_sm/kmer-hashing/brawand2011/human//SRR306838_GSM752691_hsa_br_F_1Aligned.sortedByCoord.out.bam.unspliced.out_CDS_without_stop_codon_or_utr.bam\" for reading: Exec format error\n"
      }
     ],
     "persistentId": "867ca261-98df-4275-bd7b-007d28464c3e",
     "text": "! samtools view $outdir/SRR306838_GSM752691_hsa_br_F_1Aligned.sortedByCoord.out.bam.unspliced.out_CDS_without_stop_codon_or_utr.bam"
    },
    "executionTime": "2019-09-18T17:01:22.158Z"
   },
   {
    "cell": {
     "executionCount": 89,
     "executionEventId": "6200d767-7856-44e2-a4c4-18eb95b8ea20",
     "hasError": false,
     "id": "8c600df9-7cd6-489c-ace2-cd72634f0dd5",
     "outputs": [
      {
       "data": {
        "text/plain": "'/home/olga/data_sm/kmer-hashing/brawand2011/human/'"
       },
       "execution_count": 89,
       "metadata": {},
       "output_type": "execute_result"
      }
     ],
     "persistentId": "e87fa038-4356-4520-8676-b984f828d570",
     "text": "outdir"
    },
    "executionTime": "2019-09-18T17:05:51.921Z"
   },
   {
    "cell": {
     "executionCount": 91,
     "executionEventId": "8dcca991-add3-45fc-b91a-bcb592025d3e",
     "hasError": false,
     "id": "fd4bc84c-5189-4544-bc41-1d6d87332d8d",
     "outputs": [
      {
       "data": {
        "text/plain": "'/mnt/ibm_lg/olga/kmer-hashing/brawand2011/nfcore-rnaseq/human/single_end/STAR'"
       },
       "execution_count": 91,
       "metadata": {},
       "output_type": "execute_result"
      }
     ],
     "persistentId": "4c56692d-67c5-4865-96bc-de0973c95f0b",
     "text": "pwd"
    },
    "executionTime": "2019-09-18T17:06:02.445Z"
   },
   {
    "cell": {
     "executionCount": 92,
     "executionEventId": "ca4671fd-f386-4a31-8e7c-decaabeef15a",
     "hasError": false,
     "id": "4a6987e3-baf0-4a16-8ce1-d2fb8b13dea8",
     "outputs": [
      {
       "data": {
        "text/plain": "'SRR306838_GSM752691_hsa_br_F_1Aligned.sortedByCoord.out.bam'"
       },
       "execution_count": 92,
       "metadata": {},
       "output_type": "execute_result"
      }
     ],
     "persistentId": "cef6f57e-449e-4232-9452-c6c9b7ab1bbe",
     "text": "bam"
    },
    "executionTime": "2019-09-18T17:06:07.923Z"
   },
   {
    "cell": {
     "executionCount": 93,
     "executionEventId": "724e18bc-37aa-4f3b-aaae-6cdd356da25d",
     "hasError": false,
     "id": "545382ea-953e-4a98-82b4-24d93e135c89",
     "outputs": [],
     "persistentId": "d6fa4a17-2275-422a-8268-4c500e5c2af8",
     "text": "! samtools view -h -F 4 $bam | awk '$6 !~ /N/ || $1 ~ /@/' | samtools view -bS - > $outdir/$bam\\.unspliced.bam"
    },
    "executionTime": "2019-09-18T17:06:22.700Z"
   },
   {
    "cell": {
     "executionCount": 94,
     "executionEventId": "8e8dc6b1-8e84-439e-9cb5-a77bef340e32",
     "hasError": false,
     "id": "72b0edbd-67df-43b1-bba4-dda15d314d9f",
     "outputs": [
      {
       "name": "stdout",
       "output_type": "stream",
       "text": "807698\n"
      }
     ],
     "persistentId": "97ce81ea-094a-4bd1-ba52-038d7b2ab652",
     "text": "! samtools view $outdir/$bam\\.unspliced.bam | wc -l"
    },
    "executionTime": "2019-09-18T17:06:30.483Z"
   },
   {
    "cell": {
     "executionCount": 95,
     "executionEventId": "69e17243-ee0c-4620-af21-afe233a4ff02",
     "hasError": false,
     "id": "b60f96f3-1aa1-4a98-8735-9af775c682c0",
     "outputs": [
      {
       "name": "stdout",
       "output_type": "stream",
       "text": "SRR306838.2504624\t256\tchr1\t14362\t1\t36M3D27M\t*\t0\t0\tTCCTGCACAGCTAGAGATCCTTTATTAAAAGCACACTGGTTTCTGCTCAGTTCTTTATTGATT\t-262773:5384472767787875666655876446966448:86379453866:78998886\tNH:i:4\tHI:i:2\tAS:i:53\tnM:i:0\tRG:Z:SRR306838_GSM752691_hsa_br_F_1\nSRR306838.13797218\t256\tchr1\t14978\t0\t52M\t*\t0\t0\tCTCATGACCAGCTTGTTGAAGAGATCCGACATCAAGTGCCCACCTTGGCTCG\t3254352877855542774474744666666466364788766764655485\tNH:i:10\tHI:i:2\tAS:i:51\tnM:i:0\tRG:Z:SRR306838_GSM752691_hsa_br_F_1\nSRR306838.12718178\t256\tchr1\t14985\t0\t52M\t*\t0\t0\tCCAGCTTGTTGAAGAGATCCGACATCAAGTCCCCACCTTGGCTCGTGGCTCT\t414713:668526626656774656765848876456445676864564475\tNH:i:10\tHI:i:2\tAS:i:49\tnM:i:1\tRG:Z:SRR306838_GSM752691_hsa_br_F_1\nSRR306838.7979691\t256\tchr1\t17598\t0\t64M\t*\t0\t0\tGGCCATACAGGTTCTCGGTGGTGTTGAAGAGCAGCAAGGAGCTGACAGAGCTGATGTTGCTGGG\t2535633843737:5567588675884585756865375385783445356:777658756678\tNH:i:5\tHI:i:3\tAS:i:62\tnM:i:0\tRG:Z:SRR306838_GSM752691_hsa_br_F_1\nSRR306838.11927233\t256\tchr1\t18229\t0\t68M\t*\t0\t0\tCTGCCCAGTAGCCTCAGGACACAGGGGTATGGGGACTACCTTGATGGCCTTCTTGCTGCCCTTGATCT\t,13224274595654576475879775/38556525434547566477455748966645654;4585\tNH:i:6\tHI:i:5\tAS:i:66\tnM:i:0\tRG:Z:SRR306838_GSM752691_hsa_br_F_1\nSRR306838.22570569\t256\tchr1\t19390\t0\t57M\t*\t0\t0\tCGCGACTGGGGTTCATGAGGAAAGGGAGGGGGAGGATGTGGGATGGTGGAGGGGCTG\t232603957571592675764249860856653662764765076646727564466\tNH:i:10\tHI:i:7\tAS:i:56\tnM:i:0\tRG:Z:SRR306838_GSM752691_hsa_br_F_1\nSRR306838.18293344\t272\tchr1\t20234\t0\t68M\t*\t0\t0\tCGAGTCAGCAGAATTTTGACGGCTTCTAACAAAATCTTGTAGACAAGATGGAGCTATGGGGGTTGGAG\t686556:7676647435746658545476686456845543756856563825333375583744313\tNH:i:5\tHI:i:2\tAS:i:64\tnM:i:1\tRG:Z:SRR306838_GSM752691_hsa_br_F_1\nSRR306838.17400332\t0\tchr1\t20305\t0\t42M\t*\t0\t0\tAGAACATATAGGAAAAATCAGAGCCAAATGAACCACAGCCCC\t*41136725578464576559576872657546645585756\tNH:i:5\tHI:i:1\tAS:i:41\tnM:i:0\tRG:Z:SRR306838_GSM752691_hsa_br_F_1\nSRR306838.1407510\t272\tchr1\t20661\t0\t60M6S\t*\t0\t0\tGTTAACTATAAGCTCAGTAGGGGCTAAAAGCATGTTAATCGGCATAAAAAGACAACGAGAACACTT\t624769356586966<6488389757867799754454645677676467747746569717/5/)\tNH:i:8\tHI:i:5\tAS:i:55\tnM:i:2\tRG:Z:SRR306838_GSM752691_hsa_br_F_1\nSRR306838.15078405\t272\tchr1\t20668\t0\t69M\t*\t0\t0\tATAAGCTCAGTAGGGGCTAAAAGCATGTTAATCGGCATAAAAAGGCAATGAGATCTTAGGGCACACAGC\t76474966;7457575:3666958:864465775779566544657768746225434753464051/0\tNH:i:7\tHI:i:4\tAS:i:67\tnM:i:0\tRG:Z:SRR306838_GSM752691_hsa_br_F_1\nsamtools view: writing to standard output failed: Broken pipe\nsamtools view: error closing standard output: -1\n"
      }
     ],
     "persistentId": "c4428eef-93ae-453c-859a-594a78640193",
     "text": "! samtools view $outdir/SRR306838_GSM752691_hsa_br_F_1Aligned.sortedByCoord.out.bam.unspliced.bam | head"
    },
    "executionTime": "2019-09-18T17:07:15.749Z"
   },
   {
    "cell": {
     "executionCount": 96,
     "executionEventId": "0c26f50e-6bfc-44a2-9bc1-675b572c2f62",
     "hasError": false,
     "id": "7e85d9e1-8fdc-43d3-888d-285ef2cc1c38",
     "outputs": [
      {
       "name": "stdout",
       "output_type": "stream",
       "text": "BAI\u0001�\u0002\u0000\u0000(\u0013\u0000\u0000\u0003 \u0000\u0000\u0001\u0000\u0000\u0000�j��\u001a\u0000\u0000\u0000�k��\u001a\u0000\u0000@\u0000\u0000\u0001\u0000\u0000\u0000ҵ�\u0005=\u0000\u0000\u0000*��\u0005=\u0000\u0000\u0000\u000b\u0000\u0000\u0000\u0001\u0000\u0000\u0000�޵{\u000f\u0000\u0000\u0000�ߵ{\u000f\u0000\u0000\u0000\u0013@\u0000\u0000\u0001\u0000\u0000\u0000*��\u0005=\u0000\u0000\u0000���\u0005=\u0000\u0000\u0000\u0019@\u0000\u0000\u0001\u0000\u0000\u0000���\u0005=\u0000\u0000\u0000���\u0005=\u0000\u0000\u0000\u001b \u0000\u0000\u0001\u0000\u0000\u0000�k��\u001a\u0000\u0000\u0000bl��\u001a\u0000\u0000\u0000\u001c\u0000\u0000\u0000\u0001\u0000\u0000\u0000��bl5\u0000\u0000\u0000}�bl5\u0000\u0000\u0000\u001d \u0000\u0000\u0001\u0000\u0000\u0000bl��\u001a\u0000\u0000\u00006m��\u001a\u0000\u0000\u0000\u001b@\u0000\u0000\u0001\u0000\u0000\u0000���\u0005=\u0000\u0000\u0000a��\u0005=\u0000\u0000\u0000\u001f \u0000\u0000\u0001\u0000\u0000\u00006m��\u001a\u0000\u0000\u0000\u0007n��\u001a\u0000\u0000\u0000  \u0000\u0000\u0001\u0000\u0000\u0000\u0007n��\u001a\u0000\u0000\u0000�n��\u001a\u0000\u0000\u0000\u001e@\u0000\u0000\u0001\u0000\u0000\u0000a��\u0005=\u0000\u0000\u0000���\u0005=\u0000\u0000\u0000% \u0000\u0000\u0001\u0000\u0000\u0000�n��\u001a\u0000\u0000\u0000qp��\u001a\u0000\u0000\u0000+ \u0000\u0000\u0001\u0000\u0000\u0000qp��\u001a\u0000\u0000\u0000Gq��\u001a\u0000\u0000\u0000- \u0000\u0000\u0001\u0000\u0000\u0000Gq��\u001a\u0000\u0000\u0000\u001cr��\u001a\u0000\u0000\u0000. \u0000\u0000\u0001\u0000\u0000\u0000\u001cr��\u001a\u0000\u0000\u0000�r��\u001a\u0000\u0000\u00000 \u0000\u0000\u0001\u0000\u0000\u0000�r��\u001a\u0000\u0000\u0000�t��\u001a\u0000\u0000\u00002@\u0000\u0000\u0001\u0000\u0000\u0000���\u0005=\u0000\u0000\u0000O��\u0005=\u0000\u0000\u00003 \u0000\u0000\u0001\u0000\u0000\u0000�t��\u001a\u0000\u0000\u00005v��\u001a\u0000\u0000\u00003@\u0000\u0000\u0001\u0000\u0000\u0000O��\u0005=\u0000\u0000\u0000$ǃ\u0005=\u0000\u0000\u00005@\u0000\u0000\u0001\u0000\u0000\u0000$ǃ\u0005=\u0000\u0000\u0000�ǃ\u0005=\u0000\u0000\u0000: \u0000\u0000\u0001\u0000\u0000\u00005v��\u001a\u0000\u0000\u0000�x��\u001a\u0000\u0000\u0000; \u0000\u0000\u0001\u0000\u0000\u0000�x��\u001a\u0000\u0000\u0000�y��\u001a\u0000\u0000\u0000< \u0000\u0000\u0001\u0000\u0000\u0000�y��\u001a\u0000\u0000\u0000ez��\u001a\u0000\u0000\u0000= \u0000\u0000\u0001\u0000\u0000\u0000ez��\u001a\u0000\u0000\u0000e��\u001a\u0000\u0000\u0000> \u0000\u0000\u0001\u0000\u0000\u0000e��\u001a\u0000\u0000\u0000����\u001a\u0000\u0000\u0000;@\u0000\u0000\u0001\u0000\u0000\u0000�ǃ\u0005=\u0000\u0000\u0000Iڃ\u0005=\u0000\u0000\u0000A@\u0000\u0000\u0001\u0000\u0000\u0000Iڃ\u0005=\u0000\u0000\u0000;��\u0005=\u0000\u0000\u0000C \u0000\u0000\u0001\u0000\u0000\u0000����\u001a\u0000\u0000\u0000_���\u001a\u0000\u0000\u0000D \u0000\u0000\u0001\u0000\u0000\u0000_���\u001a\u0000\u0000\u00001���\u001a\u0000\u0000\u0000E \u0000\u0000\u0001\u0000\u0000\u00001���\u001a\u0000\u0000\u00005���\u001a\u0000\u0000\u0000F \u0000\u0000\u0001\u0000\u0000\u00005���\u001a\u0000\u0000\u0000)���\u001a\u0000\u0000\u0000G \u0000\u0000\u0001\u0000\u0000\u0000)���\u001a\u0000\u0000\u0000����\u001a\u0000\u0000\u0000H@\u0000\u0000\u0001\u0000\u0000\u0000\u0010�\u0005=\u0000\u0000\u0000��\u0005=\u0000\u0000\u0000I \u0000\u0000\u0001\u0000\u0000\u0000����\u001a\u0000\u0000\u0000ǹ��\u001a\u0000\u0000\u0000J\u0000\u0000\u0000\u0001\u0000\u0000\u0000F\u0015�\u0019\n\u0000\u0000\u0000\u001c\u0016�\u0019\n\u0014H\u001c\u0000\u0000\u0000�%\u0014H\u001c\u0000\u0000\u0000�!\u0000\u0000\u0001\u0000\u0000\u0000�%\u0014H\u001c\u0000\u0000\u0000�&\u0014H\u001c\u0000\u0000\u0000�A\u0000\u0000\u0001\u0000\u0000\u0000\u0007�\u001b�=\u0000\u0000\u0000��\u001b�=\u0000\u0000\u0000�!\u0000\u0000\u0001\u0000\u0000\u0000�&\u0014H\u001c\u0000\u0000\u0000�'\u0014H\u001c\u0000\u0000\u0000�!\u0000\u0000\u0001\u0000\u0000\u0000�'\u0014H\u001c\u0000\u0000\u0000M(\u0014H\u001c\u0000\u0000\u0000�!\u0000\u0000\u0001\u0000\u0000\u0000M(\u0014H\u001c\u0000\u0000\u0000#)\u0014H\u001c\u0000\u0000\u0000�!\u0000\u0000\u0001\u0000\u0000\u0000#)\u0014H\u001c\u0000\u0000\u0000{,\u0014H\u001c\u0000\u0000\u0000�!\u0000\u0000\u0001\u0000\u0000\u0000{,\u0014H\u001c\u0000\u0000\u0000�.\u0014H\u001c\u0000\u0000\u0000�A\u0000\u0000\u0001\u0000\u0000\u0000��\u001b�=\u0000\u0000\u0000��\u001b�=\u0000\u0000\u0000�!\u0000\u0000\u0001\u0000\u0000\u0000�.\u0014H\u001c\u0000\u0000\u0000�/\u0014H\u001c\u0000\u0000\u0000\u0000\"\u0000\u0000\u0001\u0000\u0000\u0000�/\u0014H\u001c\u0000\u0000\u0000�0\u0014H\u001c\u0000\u0000\u0000\u0001\"\u0000\u0000\u0001\u0000\u0000\u0000�0\u0014H\u001c\u0000\u0000\u0000n1\u0014H\u001c\u0000\u0000\u0000\u0004\"\u0000\u0000\u0001\u0000\u0000\u0000n1\u0014H\u001c\u0000\u0000\u0000D2\u0014H\u001c\u0000\u0000\u0000\u0004B\u0000\u0000\u0001\u0000\u0000\u0000��\u001b�=\u0000\u0000\u0000\u0016�\u001b�=\u0000\u0000\u0000\u0006\"\u0000\u0000\u0001\u0000\u0000\u0000D2\u0014H\u001c\u0000\u0000\u0000\u00143\u0014H\u001c\u0000\u0000\u0000\u0007\"\u0000\u0000\u0001\u0000\u0000\u0000\u00143\u0014H\u001c\u0000\u0000\u0000�4\u0014H\u001c\u0000\u0000\"\u0000\u0000\u0001\u0000\u0000\u0000�4\u0014H\u001c\u0000\u0000\u0000S6\u0014H\u001c\u0000\u0000\u0000\t\"\u0000\u0000\u0001\u0000\u0000\u0000S6\u0014H\u001c\u0000\u0000\u0000,7\u0014H\u001c\u0000\u0000\u0000!\u0000\u0000\u0001\u0000\u0000\u0000����\u001b\u0000\u0000\u0000iǕ�\u001b\u0000\u0000\u0000�!\u0000\u0000\u0001\u0000\u0000\u0000iǕ�\u001b\u0000\u0000\u0000�ʕ�\u001b\u0000\u0000\u0000�!\u0000\u0000\u0001\u0000\u0000\u0000�ʕ�\u001b\u0000\u0000\u0000(͕�\u001b\u0000\u0000\u0000�!\u0000\u0000\u0001\u0000\u0000\u0000(͕�\u001b\u0000\u0000\u0000�͕�\u001b\u0000\u0000\u0000�!\u0000\u0000\u0001\u0000\u0000\u0000�͕�\u001b\u0000\u0000\u00009Е�\u001b\u0000\u0000\u0000�!\u0000\u0000\u0001\u0000\u0000\u00009Е�\u001b\u0000\u0000\u0000\u0011ѕ�\u001b\u0000\u0000\u0000�!\u0000\u0000\u0001\u0000\u0000\u0000\u0011ѕ�\u001b\u0000\u0000\u0000�ѕ�\u001b\u0000\u0000\u0000�!\u0000\u0000\u0001\u0000\u0000\u0000�ѕ�\u001b\u0000\u0000\u0000Nԕ�\u001b\u0000\u0000\u0000�!\u0000\u0000\u0001\u0000\u0000\u0000Nԕ�\u001b\u0000\u0000\u0000�핝\u001b\u0000\u0000\u0000�!\u0000\u0000\u0001\u0000\u0000\u0000�핝\u001b\u0000\u0000\u00000\u0004H�\u001b\u0000\u0000\u0000�!\u0000\u0000\u0001\u0000\u0000\u00000\u0004H�\u001b\u0000\u0000\u0000�\u001aH�\u001b\u0000\u0000\u0000�!\u0000\u0000\u0001\u0000\u0000\u0000�\u001aH�\u001b\u0000\u0000\u0000QG\u0003\u001b�=\u0000\u0000\u0000w\u0000\u0000\u0000\u0001\u0000\u0000\u0000yx�p\u0018\u0000\u0000\u0000Ry�p\u0018\u0000\u0000\u0000w \u0000\u0000\u0001\u0000\u0000\u0000����\u001a\u0000\u0000\u0000����\u001a\u0000\u0000\u0000x \u0000\u0000\u0001\u0000\u0000\u0000����\u001a\u0000\u0000\u0000U���\u001a\u0000\u0000\u0000� \u0000\u0000\u0001\u0000\u0000\u0000U���\u001a\u0000\u0000\u0000����\u001a\u0000\u0000\u0000� \u0000\u0000\u0001\u0000\u0000\u0000����\u001a\u0000\u0000\u0000����\u001a\u0000\u0000\u0000� \u0000\u0000\u0001\u0000\u0000\u0000����\u001a\u0000\u0000\u0000����\u001a\u0000\u0000\u0000�\u0000\u0000\u0000\u0001\u0000\u0000\u0000\f��\u001c\u0000\u0000\u0000���\u001c\u0000\u0000\u0000� \u0000\u0000\u0001\u0000\u0000\u0000����\u001a\u0000\u0000\u0000!���\u001a\u0000\u0000\u0000� \u0000\u0000\u0001\u0000\u0000\u0000!���\u001a\u0000\u0000\u0000����\u001a\u0000\u0000\u0000� \u0000\u0000\u0001\u0000\u0000\u0000����\u001a\u0000\u0000\u0000\"���\u001a\u0000\u0000\u0000� \u0000\u0000\u0001\u0000\u0000\u0000\"���\u001a\u0000\u0000\u0000����\u001a\u0000\u0000\u0000� \u0000\u0000\u0001\u0000\u0000\u0000����\u001a\u0000\u0000\u0000P\u0007X=\u001b\u0000\u0000\u0000� \u0000\u0000\u0001\u0000\u0000\u0000P\u0007X=\u001b\u0000\u0000\u0000)\u0015X=\u001b\u0000\u0000\u0000� \u0000\u0000\u0001\u0000\u0000\u0000)\u0015X=\u001b\u0000\u0000\u0000�\u001bX=\u001b\u0000\u0000\u0000�\u0000\u0000\u0000\u0002\u0000\u0000\u0000�X\"�\u001e\u0000\u0000\u0000�Y\"�\u001e\u0000\u0000\u0000�\u0017�\u001a\u001f\u0000\u0000\u0000\\Z�\u001a\u001f\u0000\u0000\u0000�@\u0000\u0000\u0001\u0000\u0000\u0000G\u0003\u001b�=\u0000\u0000\u0000M\u001e\u001b�=\u0000\u0000\u0000�@\u0000\u0000\u0001\u0000\u0000\u0000M\u001e\u001b�=\u0000\u0000\u0000\"\u001f\u001b�=\u0000\u0000\u0000�@\u0000\u0000\u0001\u0000\u0000\u0000\"\u001f\u001b�=\u0000\u0000\u0000� \u001b�=\u0000\u0000\u0000�@\u0000\u0000\u0001\u0000\u0000\u0000� \u001b�=\u0000\u0000\u0000�!\u001b�=\u0000\u0000\u0000�@\u0000\u0000\u0001\u0000\u0000\u0000�!\u001b�=\u0000\u0000\u0000z\"\u001b�=\u0000\u0000\u0000�@\u0000\u0000\u0001\u0000\u0000\u0000z\"\u001b�=\u0000\u0000\u0000�#\u001b�=\u0000\u0000\u0000� \u0000\u0000\u0001\u0000\u0000\u0000�\u001bX=\u001b\u0000\u0000\u0000�\u001cX=\u001b\u0000\u0000\u0000�\u0000\u0000\u0000\u0001\u0000\u0000\u0000����%\u0000\u0000\u0000p���%\u0000\u0000\u0000�@\u0000\u0000\u0001\u0000\u0000\u0000�#\u001b�=\u0000\u0000\u0000�$\u001b�=\u0000\u0000\u0000�@\u0000\u0000\u0001\u0000\u0000\u0000�$\u001b�=\u0000\u0000\u0000a&\u001b�=\u0000\u0000\u0000�@\u0000\u0000\u0001\u0000\u0000\u0000a&\u001b�=\u0000\u0000\u00002'\u001b�=\u0000\u0000\u0000�@\u0000\u0000\u0001\u0000\u0000\u00002'\u001b�=\u0000\u0000\u0000�(\u001b�=\u0000\u0000\u0000� \u0000\u0000\u0001\u0000\u0000\u0000�\u001cX=\u001b\u0000\u0000\u0000� X=\u001b\u0000\u0000\u0000� \u0000\u0000\u0001\u0000\u0000\u0000� X=\u001b\u0000\u0000\u0000:#X=\u001b\u0000\u0000\u0000� \u0000\u0000\u0001\u0000\u0000\u0000:#X=\u001b\u0000\u0000\u0000�%X=\u001b\u0000\u0000\u0000� \u0000\u0000\u0001\u0000\u0000\u0000�%X=\u001b\u0000\u0000\u0000v&X=\u001b\u0000\u0000\u0000� \u0000\u0000\u0001\u0000\u0000\u0000v&X=\u001b\u0000\u0000\u0000K'X=\u001b\u0000\u0000\u0000� \u0000\u0000\u0001\u0000\u0000\u0000K'X=\u001b\u0000\u0000\u0000\u001a(X=\u001b\u0000\u0000\u0000� \u0000\u0000\u0001\u0000\u0000\u0000\u001a(X=\u001b\u0000\u0000\u0000�)X=\u001b\u0000\u0000\u0000�@\u0000\u0000\u0001\u0000\u0000\u0000�(\u001b�=\u0000\u0000\u0000o)\u001b�=\u0000\u0000\u0000�\u0000\u0000\u0000\u0001\u0000\u0000\u0000\u0013e{�,\u0000\u0000\u0000�e{�,\u0000\u0000\u0000� \u0000\u0000\u0001\u0000\u0000\u0000�)X=\u001b\u0000\u0000\u0000�*X=\u001b\u0000\u0000\u0000� \u0000\u0000\u0001\u0000\u0000\u0000�*X=\u001b\u0000\u0000\u0000\u001b+X=\u001b\u0000\u0000\u0000�\u0000\u0000\u0000\u0001\u0000\u0000\u0000�r��0\u0000\u0000\u0000����0\u0000\u0000\u0000�\u0000\u0000\u0000\u0002\u0000\u0000\u0000O�'t3\u0000\u0000\u0000!�\u001b4\u0000\u0000\u00004�K�4\u0000\u0000\u0000>�K�4\u0000\u0000\u0000� \u0000\u0000\u0001\u0000\u0000\u0000\u001b+X=\u001b\u0000\u0000\u0000�+X=\u001b\u0000\u0000\u0000� \u0000\u0000\u0001\u0000\u0000\u0000�+X=\u001b\u0000\u0000\u0000�-X=\u001b\u0000\u0000\u0000� \u0000\u0000\u0001\u0000\u0000\u0000�-X=\u001b\u0000\u0000\u0000o.X=\u001b\u0000\u0000\u0000�@\u0000\u0000\u0001\u0000\u0000\u0000o)\u001b�=\u0000\u0000\u00008*\u001b�=\u0000\u0000\u0000� \u0000\u0000\u0001\u0000\u0000\u0000o.X=\u001b\u0000\u0000\u0000\u001d8X=\u001b\u0000\u0000\u0000� \u0000\u0000\u0001\u0000\u0000\u0000\u001d8X=\u001b\u0000\u0000\u0000�SX=\u001b\u0000\u0000\u0000�@\u0000\u0000\u0001\u0000\u0000\u00008*\u001b�=\u0000\u0000\u0000�,\u001b�=\u0000\u0000\u0000�@\u0000\u0000\u0001\u0000\u0000\u0000�,\u001b�=\u0000\u0000\u0000�8\u001b�=\u0000\u0000\u0000� \u0000\u0000\u0001\u0000\u0000\u0000�SX=\u001b\u0000\u0000\u0000RTX=\u001b\u0000\u0000\u0000�@\u0000\u0000\u0001\u0000\u0000\u0000�8\u001b�=\u0000\u0000\u0000�9\u001b�=\u0000\u0000\u0000� \u0000\u0000\u0001\u0000\u0000\u0000RTX=\u001b\u0000\u0000\u0000%UX=\u001b\u0000\u0000\u0000� \u0000\u0000\u0001\u0000\u0000\u0000%UX=\u001b\u0000\u0000\u0000\u0019_X=\u001b\u0000\u0000\u0000� \u0000\u0000\u0001\u0000\u0000\u0000\u0019_X=\u001b\u0000\u0000\u0000�_X=\u001b\u0000\u0000\u0000� \u0000\u0000\u0001\u0000\u0000\u0000�_X=\u001b\u0000\u0000\u0000�cX=\u001b\u0000\u0000\u0000\u0001!\u0000\u0000\u0001\u0000\u0000\u0000�cX=\u001b\u0000\u0000\u0000(eX=\u001b\u0000\u0000\u0000�\u0000\u0000\u0000\u0001\u0000\u0000\u0000Ť�\u0005=\u0000\u0000\u0000���\u0005=\u0000\u0000\u0000\u0007!\u0000\u0000\u0001\u0000\u0000\u0000(eX=\u001b\u0000\u0000\u0000�eX=\u001b\u0000\u0000\u0000\tA\u0000\u0000\u0001\u0000\u0000\u0000�9\u001b�=\u0000\u0000\u0000�:\u001b�=\u0000\u0000\u0000\u000b\u0001\u0000\u0000\u0001\u0000\u0000\u0000�\u001bI�?\u0000\u0000\u0000}vI�?\u0000\u0000\u0000\f!\u0000\u0000\u0001\u0000\u0000\u0000�eX=\u001b\u0000\u0000\u0000�rX=\u001b\u0000\u0000\u0000\u0011A\u0000\u0000\u0001\u0000\u0000\u0000�:\u001b�=\u0000\u0000\u0000�=\u001b�=\u0000\u0000\u0000\u0013A\u0000\u0000\u0001\u0000\u0000\u0000�=\u001b�=\u0000\u0000\u0000�>\u001b�=\u0000\u0000\u0000\u0014A\u0000\u0000\u0001\u0000\u0000\u0000�>\u001b�=\u0000\u0000\u0000�?\u001b�=\u0000\u0000\u0000\u0015A\u0000\u0000\u0001\u0000\u0000\u0000�?\u001b�=\u0000\u0000\u0000\u0005B\u001b�=\u0000\u0000\u0000\u0016\u0001\u0000\u0000\u0001\u0000\u0000\u0000�RҬB\u0000\u0000\u0000�kҬB\u0000\u0000\u0000\u0017A\u0000\u0000\u0001\u0000\u0000\u0000\u0005B\u001b�=\u0000\u0000\u0000\u001eF\u001b�=\u0000\u0000\u0000\u0018!\u0000\u0000\u0001\u0000\u0000\u0000�rX=\u001b\u0000\u0000\u0000}uX=\u001b\u0000\u0000\u0000\u0018A\u0000\u0000\u0001\u0000\u0000\u0000\u001eF\u001b�=\u0000\u0000\u0000�F\u001b�=\u0000\u0000\u0000\u001a!\u0000\u0000\u0001\u0000\u0000\u0000}uX=\u001b\u0000\u0000\u00001vX=\u001b\u0000\u0000\u0000\u001b!\u0000\u0000\u0001\u0000\u0000\u00001vX=\u001b\u0000\u0000\u0000�{X=\u001b\u0000\u0000\u0000\u001aA\u0000\u0000\u0001\u0000\u0000\u0000�F\u001b�=\u0000\u0000\u0000�G\u001b�=\u0000\u0000\u0000\u001dA\u0000\u0000\u0001\u0000\u0000\u0000�G\u001b�=\u0000\u0000\u0000�H\u001b�=\u0000\u0000\u0000\u001f!\u0000\u0000\u0001\u0000\u0000\u0000�{X=\u001b\u0000\u0000\u0000�~X=\u001b\u0000\u0000\u0000 !\u0000\u0000\u0001\u0000\u0000\u0000�~X=\u001b\u0000\u0000\u0000�X=\u001b\u0000\u0000\u0000\u001eA\u0000\u0000\u0001\u0000\u0000\u0000�H\u001b�=\u0000\u0000\u0000XI\u001b�=\u0000\u0000\u0000!A\u0000\u0000\u0001\u0000\u0000\u0000\u0005K\u001b�=\u0000\u0000\u0000�K\u001b�=\u0000\u0000\u0000 A\u0000\u0000\u0001\u0000\u0000\u0000XI\u001b�=\u0000\u0000\u0000\u0005K\u001b�=\u0000\u0000\u0000\"A\u0000\u0000\u0001\u0000\u0000\u0000�K\u001b�=\u0000\u0000\u0000�L\u001b�=\u0000\u0000\u0000 \u0001\u0000\u0000\u0001\u0000\u0000\u0000�J�\u001cE\u0000\u0000\u0000TK�\u001cE\u0000\u0000\u0000,!\u0000\u0000\u0001\u0000\u0000\u0000�X=\u001b\u0000\u0000\u0000��X=\u001b\u0000\u0000\u0000-!\u0000\u0000\u0001\u0000\u0000\u0000��X=\u001b\u0000\u0000\u0000��X=\u001b\u0000\u0000\u0000.!\u0000\u0000\u0001\u0000\u0000\u0000��X=\u001b\u0000\u0000\u0000ĶX=\u001b\u0000\u0000\u0000/!\u0000\u0000\u0001\u0000\u0000\u0000ĶX=\u001b\u0000\u0000\u0000j�X=\u001b\u0000\u0000\u00000!\u0000\u0000\u0001\u0000\u0000\u0000j�X=\u001b\u0000\u0000\u0000��X=\u001b\u0000\u0000\u0000/A\u0000\u0000\u0001\u0000\u0000\u0000,O\u001b�=\u0000\u0000\u0000\u0001P\u001b�=\u0000\u0000\u00000A\u0000\u0000\u0001\u0000\u0000\u0000\u0001P\u001b�=\u0000\u0000\u0000�P\u001b�=\u0000\u0000\u00001A\u0000\u0000\u0001\u0000\u0000\u0000�P\u001b�=\u0000\u0000\u0000�R\u001b�=\u0000\u0000\u0000<!\u0000\u0000\u0001\u0000\u0000\u0000��X=\u001b\u0000\u0000\u0000��X=\u001b\u0000\u0000\u0000>!\u0000\u0000\u0001\u0000\u0000\u0000��X=\u001b\u0000\u0000\u0000��X=\u001b\u0000\u0000\u0000?!\u0000\u0000\u0001\u0000\u0000\u0000��X=\u001b\u0000\u0000\u0000��X=\u001b\u0000\u0000\u00006A\u0000\u0000\u0001\u0000\u0000\u0000�R\u001b�=\u0000\u0000\u0000\u0003U\u001b�=\u0000\u0000\u0000;A\u0000\u0000\u0001\u0000\u0000\u0000\u0003U\u001b�=\u0000\u0000\u0000�U\u001b�=\u0000\u0000\u0000B!\u0000\u0000\u0001\u0000\u0000\u0000��X=\u001b\u0000\u0000\u0000��X=\u001b\u0000\u0000\u0000C!\u0000\u0000\u0001\u0000\u0000\u0000��X=\u001b\u0000\u0000\u0000Z�X=\u001b\u0000\u0000\u0000D!\u0000\u0000\u0001\u0000\u0000\u0000Z�X=\u001b\u0000\u0000\u0000��X=\u001b\u0000\u0000\u0000E!\u0000\u0000\u0001\u0000\u0000\u0000��X=\u001b\u0000\u0000\u0000��X=\u001b\u0000\u0000\u0000F!\u0000\u0000\u0001\u0000\u0000\u0000��X=\u001b\u0000\u0000\u0000P�X=\u001b\u0000\u0000\u0000G!\u0000\u0000\u0001\u0000\u0000\u0000P�X=\u001b\u0000\u0000\u0000��X=\u001b\u0000\u0000\u0000H!\u0000\u0000\u0001\u0000\u0000\u0000��X=\u001b\u0000\u0000\u0000y�X=\u001b\u0000\u0000\u0000-A\u0000\u0000\u0001\u0000\u0000\u0000�L\u001b�=\u0000\u0000\u0000,O\u001b�=\u0000\u0000\u0000J!\u0000\u0000\u0001\u0000\u0000\u0000y�X=\u001b\u0000\u0000\u0000Q�X=\u001b\u0000\u0000\u0000EA\u0000\u0000\u0001\u0000\u0000\u0000�U\u001b�=\u0000\u0000\u0000�V\u001b�=\u0000\u0000\u0000KA\u0000\u0000\u0001\u0000\u0000\u0000]�\u001b�=\u0000\u0000\u0000؂\u001b�=\u0000\u0000\u0000GA\u0000\u0000\u0001\u0000\u0000\u0000�V\u001b�=\u0000\u0000\u0000rW\u001b�=\u0000\u0000\u0000HA\u0000\u0000\u0001\u0000\u0000\u0000rW\u001b�=\u0000\u0000\u0000)X\u001b�=\u0000\u0000\u0000LA\u0000\u0000\u0001\u0000\u0000\u0000؂\u001b�=\u0000\u0000\u0000��\u001b�=\u0000\u0000\u0000JA\u0000\u0000\u0001\u0000\u0000\u0000)X\u001b�=\u0000\u0000\u0000]�\u001b�=\u0000\u0000\u0000NA\u0000\u0000\u0001\u0000\u0000\u0000i�\u001b�=\u0000\u0000\u0000��\u001b�=\u0000\u0000\u0000MA\u0000\u0000\u0001\u0000\u0000\u0000��\u001b�=\u0000\u0000\u0000i�\u001b�=\u0000\u0000\u0000PA\u0000\u0000\u0001\u0000\u0000\u0000��\u001b�=\u0000\u0000\u0000ˉ\u001b�=\u0000\u0000\u0000ZA\u0000\u0000\u0001\u0000\u0000\u0000 �\u001b�=\u0000\u0000\u0000)�\u001b�=\u0000\u0000\u0000[A\u0000\u0000\u0001\u0000\u0000\u0000)�\u001b�=\u0000\u0000\u0000�\u001b�=\u0000\u0000\u0000\\A\u0000\u0000\u0001\u0000\u0000\u0000�\u001b�=\u0000\u0000\u0000��\u001b�=\u0000\u0000\u0000]A\u0000\u0000\u0001\u0000\u0000\u0000��\u001b�=\u0000\u0000\u0000H�\u001b�=\u0000\u0000\u0000^A\u0000\u0000\u0001\u0000\u0000\u0000H�\u001b�=\u0000\u0000\u0000\u001a�\u001b�=\u0000\u0000\u0000_A\u0000\u0000\u0001\u0000\u0000\u0000\u001a�\u001b�=\u0000\u0000\u0000\u0007�\u001b�=\u0000\u0000\u0000`A\u0000\u0000\u0001\u0000\u0000\u0000\u0007�\u001b�=\u0000\u0000\u0000G�\u001b�=\u0000\u0000\u0000bA\u0000\u0000\u0001\u0000\u0000\u0000G�\u001b�=\u0000\u0000\u0000�\u001b�=\u0000\u0000\u0000d!\u0000\u0000\u0001\u0000\u0000\u0000Q�X=\u001b\u0000\u0000\u0000��X=\u001b\u0000\u0000\u0000/\u0001\u0000\u0000\u0001\u0000\u0000\u0000g�c�H\u0000\u0000\u0000��c�H\u0000\u0000\u0000g!\u0000\u0000\u0001\u0000\u0000\u0000��X=\u001b\u0000\u0000\u0000��X=\u001b\u0000\u0000\u0000h!\u0000\u0000\u0001\u0000\u0000\u0000��X=\u001b\u0000\u0000\u0000\u0000\u0000��\u001b\u0000\u0000\u0000i!\u0000\u0000\u0001\u0000\u0000\u0000\u0000\u0000��\u001b\u0000\u0000\u0000�\u0001��\u001b\u0000\u0000\u0000gA\u0000\u0000\u0001\u0000\u0000\u0000�\u001b�=\u0000\u0000\u0000��\u001b�=\u0000\u0000\u0000hA\u0000\u0000\u0001\u0000\u0000\u0000��\u001b�=\u0000\u0000\u0000��\u001b�=\u0000\u0000\u0000l!\u0000\u0000\u0001\u0000\u0000\u0000�\u0001��\u001b\u0000\u0000\u0000|\u0002��\u001b\u0000\u0000\u0000mA\u0000\u0000\u0001\u0000\u0000\u0000��\u001b�=\u0000\u0000\u0000̫\u001b�=\u0000\u0000\u0000n!\u0000\u0000\u0001\u0000\u0000\u0000|\u0002��\u001b\u0000\u0000\u0000�\t��\u001b\u0000\u0000\u0000o!\u0000\u0000\u0001\u0000\u0000\u0000�\t��\u001b\u0000\u0000\u0000�\u0011��\u001b\u0000\u0000\u0000p!\u0000\u0000\u0001\u0000\u0000\u0000�\u0011��\u001b\u0000\u0000\u0000\u0002\u0016��\u001b\u0000\u0000\u0000q!\u0000\u0000\u0001\u0000\u0000\u0000\u0002\u0016��\u001b\u0000\u0000\u0000�\u0016��\u001b\u0000\u0000\u0000qA\u0000\u0000\u0001\u0000\u0000\u0000̫\u001b�=\u0000\u0000\u0000��\u001b�=\u0000\u0000\u0000s!\u0000\u0000\u0001\u0000\u0000\u0000�\u0016��\u001b\u0000\u0000\u0000�\u0018��\u001b\u0000\u0000\u0000t!\u0000\u0000\u0001\u0000\u0000\u0000�\u0018��\u001b\u0000\u0000\u0000i\u001d��\u001b\u0000\u0000\u0000u!\u0000\u0000\u0001\u0000\u0000\u0000i\u001d��\u001b\u0000\u0000\u0000A!��\u001b\u0000\u0000\u0000v!\u0000\u0000\u0001\u0000\u0000\u0000A!��\u001b\u0000\u0000\u0000x,��\u001b\u0000\u0000\u0000sA\u0000\u0000\u0001\u0000\u0000\u0000��\u001b�=\u0000\u0000\u0000h�\u001b�=\u0000\u0000\u00001\u0001\u0000\u0000\u0001\u0000\u0000\u0000�\u0018��I\u0000\u0000\u0000ک��I\u0000\u0000\u0000�A\u0000\u0000\u0001\u0000\u0000\u0000h�\u001b�=\u0000\u0000\u0000;�\u001b�=\u0000\u0000\u0000�A\u0000\u0000\u0001\u0000\u0000\u0000;�\u001b�=\u0000\u0000\u0000\u000b�\u001b�=\u0000\u0000\u0000�!\u0000\u0000\u0001\u0000\u0000\u0000x,��\u001b\u0000\u0000\u0000J-��\u001b\u0000\u0000\u0000�!\u0000\u0000\u0001\u0000\u0000\u0000J-��\u001b\u0000\u0000\u0000�.��\u001b\u0000\u0000\u0000�A\u0000\u0000\u0001\u0000\u0000\u0000\u000b�\u001b�=\u0000\u0000\u0000�\u001b�=\u0000\u0000\u0000�A\u0000\u0000\u0001\u0000\u0000\u0000�\u001b�=\u0000\u0000\u0000��\u001b�=\u0000\u0000\u0000�A\u0000\u0000\u0001\u0000\u0000\u0000��\u001b�=\u0000\u0000\u0000t�\u001b�=\u0000\u0000\u0000�A\u0000\u0000\u0001\u0000\u0000\u0000t�\u001b�=\u0000\u0000\u0000ǳ\u001b�=\u0000\u0000\u0000�A\u0000\u0000\u0001\u0000\u0000\u0000ǳ\u001b�=\u0000\u0000\u0000��\u001b�=\u0000\u0000\u0000�A\u0000\u0000\u0001\u0000\u0000\u0000��\u001b�=\u0000\u0000\u0000:�\u001b�=\u0000\u0000\u0000�A\u0000\u0000\u0001\u0000\u0000\u0000:�\u001b�=\u0000\u0000\u00005�\u001b�=\u0000\u0000\u0000�!\u0000\u0000\u0001\u0000\u0000\u0000�.��\u001b\u0000\u0000\u0000�/��\u001b\u0000\u0000\u0000�A\u0000\u0000\u0001\u0000\u0000\u00005�\u001b�=\u0000\u0000\u0000\u000b�\u001b�=\u0000\u0000\u0000�!\u0000\u0000\u0001\u0000\u0000\u0000�/��\u001b\u0000\u0000\u0000Z1��\u001b\u0000\u0000\u0000�!\u0000\u0000\u0001\u0000\u0000\u0000Z1��\u001b\u0000\u0000\u000072��\u001b\u0000\u0000\u0000�!\u0000\u0000\u0001\u0000\u0000\u000072��\u001b\u0000\u0000\u0000\nV\u001d>\u0000\u0000\u0000&\"\u0000\u0000\u0001\u0000\u0000\u00002�\u0014H\u001c\u0000\u0000\u0000\u0000\u000eB\u0000\u0000\u0001\u0000\u0000\u0000\u0016�\u001b�=\u0000\u0000\u0000��\u001b�=\u0000\u0000\u0000\u000f\"\u0000\u0000\u0001\u0000\u0000\u0000�=\u0014H\u001c\u0000\u0000\u0000�@\u0014H\u001c\u0000\u0000\u0000\u0010B\u0000\u0000\u0001\u0000\u0000\u0000��\u001b�=\u0000\u0000\u0000�\u0004V\u001d>\u0000\u0000\u0000\u0011\"\u0000\u0000\u0001\u0000\u0000\u0000�@\u0014H\u001c\u0000\u0000\u0000�B\u0014H\u001c\u0000\u0000\u0000\u0012\"\u0000\u0000\u0001\u0000\u0000\u0000�B\u0014H\u001c\u0000\u0000\u0000jC\u0014H\u001c\u0000\u0000\u0000\u0014\"\u0000\u0000\u0001\u0000\u0000\u0000jC\u0014H\u001c\u0000\u0000\u0000\u000eD\u0014H\u001c\u0000\u0000\u0000\u0015\"\u0000\u0000\u0001\u0000\u0000\u0000\u000eD\u0014H\u001c\u0000\u0000\u0000�E\u0014H\u001c\u0000\u0000\u0000\u0016B\u0000\u0000\u0001\u0000\u0000\u0000h\u0005V\u001d>\u0000\u0000\u0000\u0001\u0006V\u001d>\u0000\u0000\u0000\u0011B\u0000\u0000\u0001\u0000\u0000\u0000�\u0004V\u001d>\u0000\u0000\u0000h\u0005V\u001d>\u0000\u0000\u0000\u0018\"\u0000\u0000\u0001\u0000\u0000\u0000�E\u0014H\u001c\u0000\u0000\u0000$H\u0014H\u001c\u0000\u0000\u0000\u0019\"\u0000\u0000\u0001\u0000\u0000\u0000$H\u0014H\u001c\u0000\u0000\u0000�H\u0014H\u001c\u0000\u0000\u0000\u001a\"\u0000\u0000\u0001\u0000\u0000\u0000�H\u0014H\u001c\u0000\u0000\u0000�N\u0014H\u001c\u0000\u0000\u0000\u001b\"\u0000\u0000\u0001\u0000\u0000\u0000�N\u0014H\u001c\u0000\u0000\u0000�W\u0014H\u001c\u0000\u0000\u0000\u001c\"\u0000\u0000\u0001\u0000\u0000\u0000�W\u0014H\u001c\u0000\u0000\u00002�\u0014H\u001c\u0000\u0000\u0000\u001dB\u0000\u0000\u0001\u0000\u0000\u0000\u0001\u0006V\u001d>\u0000\u0000\u0000�\u0006V\u001d>\u0000\u0000\u0000\u001eB\u0000\u0000\u0001\u0000\u0000\u0000�\u0006V\u001d>\u0000\u0000\u0000�\u0007V\u001d>\u0000\u0000\u0000\u001fB\u0000\u0000\u0001\u0000\u0000\u0000�\u0007V\u001d>\u0000\u0000\u0000{\u000bV\u001d>\u0000\u0000\u0000 B\u0000\u0000\u0001\u0000\u0000\u0000{\u000bV\u001d>\u0000\u0000\u0000�\n�\u0014H\u001c\u0000\u0000\u0000'\"\u0000\u0000\u0001\u0000\u0000\u0000\n\u0007�\u001c\u0000\u0000\u0000�\"\u0000\u0000\u0001\u0000\u0000\u0000*\"\u0000\u0000\u0001\u0000\u0000\u0000\u0000�\u0014H\u001c\u0000\u0000\u0000Պ\u0014H\u001c\u0000\u0000\u0000+\"\u0000\u0000\u0001\u0000\u0000\u0000Պ\u0014H\u001c\u0000\u0000\u0000g�\u0014H\u001c\u0000\u0000\u0000,\"\u0000\u0000\u0001\u0000\u0000\u0000g�\u0014H\u001c\u0000\u0000\u0000�\u0014H\u001c\u0000\u0000\u0000-\"\u0000\u0000\u0001\u0000\u0000\u0000�\u0014H\u001c\u0000\u0000\u0000K�\u0014H\u001c\u0000\u0000\u0000.\"\u0000\u0000\u0001\u0000\u0000\u0000K�\u0014H\u001c\u0000\u0000\u0000�\u0014H\u001c\u0000\u0000\u0000/\"\u0000\u0000\u0001\u0000\u0000\u0000�\u0014H\u001c\u0000\u0000\u0000B�\u0014H\u001c\u0000\u0000\u00000\"\u0000\u0000\u0001\u0000\u0000\u0000B�\u0014H\u001c\u0000\u0000\u0000\u001a�\u0014H\u001c\u0000\u0000\u0000+B\u0000\u0000\u0001\u0000\u0000\u0000�\u001aV\u001d>\u0000\u0000\u0000mKV\u001d>\u0000\u0000\u0000(B\u0000\u0000\u0001\u0000\u0000\u0000\u0013\u0016V\u001d>\u0000\u0000\u0000�\u0016V\u001d>\u0000\u0000\u0000)B\u0000\u0000\u0001\u0000\u0000\u0000�\u0016V\u001d>\u0000\u0000\u0000�\u0017V\u001d>\u0000\u0000\u00009\"\u0000\u0000\u0001\u0000\u0000\u0000��\u0014H\u001c\u0000\u0000\u0000o�\u0014H\u001c\u0000\u0000\u0000:\"\u0000\u0000\u0001\u0000\u0000\u0000o�\u0014H\u001c\u0000\u0000\u0000\u0014�\u0014H\u001c\u0000\u0000\u0000;\"\u0000\u0000\u0001\u0000\u0000\u0000\u0014�\u0014H\u001c\u0000\u0000\u0000��\u0014H\u001c\u0000\u0000\u0000<\"\u0000\u0000\u0001\u0000\u0000\u0000��\u0014H\u001c\u0000\u0000\u0000i�\u0014H\u001c\u0000\u0000\u00003B\u0000\u0000\u0001\u0000\u0000\u00007�V\u001d>\u0000\u0000\u0000\u0007�V\u001d>\u0000\u0000\u0000>\"\u0000\u0000\u0001\u0000\u0000\u0000i�\u0014H\u001c\u0000\u0000\u0000��\u0014H\u001c\u0000\u0000\u0000?\"\u0000\u0000\u0001\u0000\u0000\u0000��\u0014H\u001c\u0000\u0000\u0000\n�\u001c\u0000\u0000\u0000A\"\u0000\u0000\u0001\u0000\u0000\u0000�\n#\u0000\u0000\u0001\u0000\u0000\u0000�\u000f\u0002\u001d\u0000\u0000\u0000,�\u000f\u0002\u001d\u0000\u0000\u0000�B\u0000\u0000\u0001\u0000\u0000\u0000\u000b~I�?\u0000\u0000\u0000r�I�?\u0000\u0000\u0000\u000f#\u0000\u0000\u0001\u0000\u0000\u0000,�\u000f\u0002\u001d\u0000\u0000\u0000f�\u000f\u0002\u001d\u0000\u0000\u0000\u0001C\u0000\u0000\u0001\u0000\u0000\u0000i�I�?\u0000\u0000\u0000ŦI�?\u0000\u0000\u0000�B\u0000\u0000\u0001\u0000\u0000\u0000ǖI�?\u0000\u0000\u0000��I�?\u0000\u0000\u0000\u0004C\u0000\u0000\u0001\u0000\u0000\u0000��I�?\u0000\u0000\u0000O�I�?\u0000\u0000\u0000\u0014#\u0000\u0000\u0001\u0000\u0000\u0000f�\u000f\u0002\u001d\u0000\u0000\u0000��\u000f\u0002\u001d\u0000\u0000\u0000\u0015#\u0000\u0000\u0001\u0000\u0000\u0000��\u000f\u0002\u001d\u0000\u0000\u0000��\u000f\u0002\u001d\u0000\u0000\u0000\u0016#\u0000\u0000\u0001\u0000\u0000\u0000��\u000f\u0002\u001d\u0000\u0000\u0000��\u000f\u0002\u001d\u0000\u0000\u0000�B\u0000\u0000\u0001\u0000\u0000\u0000�xI�?\u0000\u0000\u0000�{I�?\u0000\u0000\u0000\u0003C\u0000\u0000\u0001\u0000\u0000\u0000ŦI�?\u0000\u0000\u0000��I�?\u0000\u0000\u0000\u000fC\u0000\u0000\u0001\u0000\u0000\u0000\u0004\u0004\u0003�?\u0000\u0000\u0000�\u0004\u0003�?\u0000\u0000\u0000\u0005C\u0000\u0000\u0001\u0000\u0000\u0000O�I�?\u0000\u0000\u0000��I�?\u0000\u0000\u0000�B\u0000\u0000\u0001\u0000\u0000\u0000��I�?\u0000\u0000\u0000i�I�?\u0000\u0000\u0000�B\u0000\u0000\u0001\u0000\u0000\u0000_}I�?\u0000\u0000\u0000\u000b~I�?\u0000\u0000C\u0000\u0000\u0001\u0000\u0000\u0000��I�?\u0000\u0000\u0000��I�?\u0000\u0000\u0000�B\u0000\u0000\u0001\u0000\u0000\u0000r�I�?\u0000\u0000\u0000T�I�?\u0000\u0000\u0000\u0015C\u0000\u0000\u0001\u0000\u0000\u0000�\f\u0003�?\u0000\u0000\u00009\u000f\u0003�?\u0000\u0000\u0000\u0011C\u0000\u0000\u0001\u0000\u0000\u0000�\u0004\u0003�?\u0000\u0000\u0000s\u0006\u0003�?\u0000\u0000\u0000\fC\u0000\u0000\u0001\u0000\u0000\u0000\\�I�?\u0000\u0000\u0000\u0014�I�?\u0000\u0000\u0000\u0006C\u0000\u0000\u0001\u0000\u0000\u0000��I�?\u0000\u0000\u0000��I�?\u0000\u0000\u0000\u0007C\u0000\u0000\u0001\u0000\u0000\u0000��I�?\u0000\u0000\u0000��I�?\u0000\u0000\u0000\u001eC\u0000\u0000\u0001\u0000\u0000\u00009\u000f\u0003�?\u0000\u0000\u0000�\u0010\u0003�?\u0000\u0000\u0000\tC\u0000\u0000\u0001\u0000\u0000\u0000��I�?\u0000\u0000\u0000\\�I�?\u0000\u0000\u0000 C\u0000\u0000\u0001\u0000\u0000\u0000�\u0011\u0003�?\u0000\u0000\u0000T\u0013\u0003�?\u0000\u0000\u0000\u0012C\u0000\u0000\u0001\u0000\u0000\u0000s\u0006\u0003�?\u0000\u0000\u00009\u001c\u0000\u0000\u0000���\u001c\u0000\u0000\u0000�\"\u0000\u0000\u0001\u0000\u0000\u0000���\u001c\u0000\u0000\u0000���\u001c\u0000\u0000\u0000�\"\u0000\u0000\u0001\u0000\u0000\u0000���\u001c\u0000\u0000\u0000���\u001c\u0000\u0000\u0000�\"\u0000\u0000\u0001\u0000\u0000\u0000z��\u001c\u0000\u0000\u0000P��\u001c\u0000\u0000\u0000�B\u0000\u0000\u0001\u0000\u0000\u0000�{I�?\u0000\u0000\u0000�|I�?\u0000\u0000\u0000�\"\u0000\u0000\u0001\u0000\u0000\u0000���\u001c\u0000\u0000\u0000z��\u001c\u0000\u0000\u0000�\"\u0000\u0000\u0001\u0000\u0000\u0000P��\u001c\u0000\u0000\u0000&��\u001c\u0000\u0000\u0000�\"\u0000\u0000\u0001\u0000\u0000\u0000&��\u001c\u0000\u0000\u0000���\u001c\u0000\u0000\u0000�\"\u0000\u0000\u0001\u0000\u0000\u0000���\u001c\u0000\u0000\u0000G��\u001c\u0000\u0000\u0000�\"\u0000\u0000\u0001\u0000\u0000\u0000G��\u001c\u0000\u0000\u0000\f��\u001c\u0000\u0000\u0000�\"\u0000\u0000\u0001\u0000\u0000\u0000\f��\u001c\u0000\u0000\u0000���\u001c\u0000\u0000\u0000�\"\u0000\u0000\u0001\u0000\u0000\u0000���\u001c\u0000\u0000\u0000���\u001c\u0000\u0000\u0000�\"\u0000\u0000\u0001\u0000\u0000\u0000���\u001c\u0000\u0000\u0000N��\u001c\u0000\u0000\u0000�\u0002\u0000\u0000\u0001\u0000\u0000\u0000@�}�\u000f\u0000\u0000\u0000\t�\u001d1\u0010\u0000\u0000\u0000\u0000#\u0000\u0000\u0001\u0000\u0000\u0000N��\u001c\u0000\u0000\u0000\u0000\u0000\u000f\u0002\u001d\u0000\u0000\u0000\u0001#\u0000\u0000\u0001\u0000\u0000\u0000\u0000\u0000\u000f\u0002\u001d\u0000\u0000\u0000q'\u000f\u0002\u001d\u0000\u0000\u0000\u0002#\u0000\u0000\u0001\u0000\u0000\u0000q'\u000f\u0002\u001d\u0000\u0000\u0000^S\u000f\u0002\u001d\u0000\u0000\u0000\u0003#\u0000\u0000\u0001\u0000\u0000\u0000^S\u000f\u0002\u001d\u0000\u0000\u0000\u0005U\u000f\u0002\u001d\u0000\u0000\u0000\u0004#\u0000\u0000\u0001\u0000\u0000\u0000\u0005U\u000f\u0002\u001d\u0000\u0000\u0000�[\u000f\u0002\u001d\u0000\u0000\u0000�B\u0000\u0000\u0001\u0000\u0000\u0000�|I�?\u0000\u0000\u0000_}I�?\u0000\u0000\u0000�B\u0000\u0000\u0001\u0000\u0000\u0000��I�?\u0000\u0000\u0000ǖI�?\u0000\u0000\u0000\u0007#\u0000\u0000\u0001\u0000\u0000\u0000�[\u000f\u0002\u001d\u0000\u0000\u0000��\u000f\u0002\u001d\u0000\u0000#\u0000\u0000\u0001\u0000\u0000\u0000��\u000f\u0002\u001d\u0000\u0000\u0000&�\u000f\u0002\u001d\u0000\u0000\u0000\t#\u0000\u0000\u0001\u0000\u0000\u0000&�\u000f\u0002\u001d\u0000\u0000\u0000`�\u000f\u0002\u001d\u0000\u0000\u0000�B\u0000\u0000\u0001\u0000\u0000\u0000T�I�?\u0000\u0000\u0000��I�?\u0000\u0000\u0000\u000b#\u0000\u0000\u0001\u0000\u0000\u0000`�\u000f\u0002\u001d\u0000\u0000\u0000��\u000f\u0002\u001d\u0000\u0000\u0000\f#\u0000\u0000\u0001\u0000\u0000\u0000��\u000f\u0002\u001d\u0000\u0000\u0000�\u000f\u0002\u001d\u0000\u0000\u0000\n\u0003�?\u0000\u0000\u0000\u0013C\u0000\u0000\u0001\u0000\u0000\u00009\nC\u0000\u0000\u0001\u0000\u0000\u0000\u0014�I�?\u0000\u0000\u00003�I�?\u0000\u0000\u0000\u000eC\u0000\u0000\u0001\u0000\u0000\u00003�I�?\u0000\u0000\u0000\u0004\u0004\u0003�?\u0000\u0000\u0000+#\u0000\u0000\u0001\u0000\u0000\u0000��\u000f\u0002\u001d\u0000\u0000\u0000��\u000f\u0002\u001d\u0000\u0000\u0000#C\u0000\u0000\u0001\u0000\u0000\u0000,\u0014\u0003�?\u0000\u0000\u0000\u0001\u0015\u0003�?\u0000\u0000\u0000\u001fC\u0000\u0000\u0001\u0000\u0000\u0000�\u0010\u0003�?\u0000\u0000\u0000�\u0011\u0003�?\u0000\u0000\u0000\u0014C\u0000\u0000\u0001\u0000\u0000\u0000�\u000b\u0003�?\u0000\u0000\u0000�\f\u0003�?\u0000\u0000\u0000'C\u0000\u0000\u0001\u0000\u0000\u0000\u0001\u0015\u0003�?\u0000\u0000\u0000�\u0017\u0003�?\u0000\u0000\u0000(C\u0000\u0000\u0001\u0000\u0000\u0000�\u0017\u0003�?\u0000\u0000\u0000�\u001c\u0003�?\u0000\u0000\u00006#\u0000\u0000\u0001\u0000\u0000\u0000��\u000f\u0002\u001d\u0000\u0000\u0000�\u0001�]\u001d\u0000\u0000\u00007#\u0000\u0000\u0001\u0000\u0000\u0000�\u0001�]\u001d\u0000\u0000\u0000�\u0005�]\u001d\u0000\u0000\u00003C\u0000\u0000\u0001\u0000\u0000\u0000\u00165k5@\u0000\u0000\u0000\u0014:k5@\u0000\u0000\u0000:\u0003\u0000\u0000\u0001\u0000\u0000\u0000�\u0012\u0000\u0000\u0000E\u00038�\u0012\u0000\u0000\u0000:#\u0000\u0000\u0001\u0000\u0000\u0000�\u0005�]\u001d\u0000\u0000\u0000kC�]\u001d\u0000\u0000\u0000;#\u0000\u0000\u0001\u0000\u0000\u0000kC�]\u001d\u0000\u0000\u0000;D�]\u001d\u0000\u0000\u0000!C\u0000\u0000\u0001\u0000\u0000\u0000T\u0013\u0003�?\u0000\u0000\u0000,\u0014\u0003�?\u0000\u0000\u0000>#\u0000\u0000\u0001\u0000\u0000\u0000;D�]\u001d\u0000\u0000\u0000\u000bE�]\u001d\u0000\u0000\u00001C\u0000\u0000\u0001\u0000\u0000\u0000�\u000bk5@\u0000\u0000\u0000�\u0019k5@\u0000\u0000\u00002C\u0000\u0000\u0001\u0000\u0000\u0000�\u0019k5@\u0000\u0000\u0000\u00165k5@\u0000\u0000\u0000B\u0003\u0000\u0000\u0001\u0000\u0000\u0000��\u0013/\u0013\u0000\u0000\u0000�\u001f��\u0013\u0000\u0000\u00009C\u0000\u0000\u0001\u0000\u0000\u00000=k5@\u0000\u0000\u0000�Jk5@\u0000\u0000\u00005C\u0000\u0000\u0001\u0000\u0000\u0000\u0014:k5@\u0000\u0000\u0000�:k5@\u0000\u0000\u0000EC\u0000\u0000\u0001\u0000\u0000\u0000�Lk5@\u0000\u0000\u0000wMk5@\u0000\u0000\u00007C\u0000\u0000\u0001\u0000\u0000\u0000�:k5@\u0000\u0000\u0000�;k5@\u0000\u0000\u00008C\u0000\u0000\u0001\u0000\u0000\u0000�;k5@\u0000\u0000\u00000=k5@\u0000\u0000\u0000H#\u0000\u0000\u0001\u0000\u0000\u0000\u000bE�]\u001d\u0000\u0000\u0000�E�]\u001d\u0000\u0000\u0000HC\u0000\u0000\u0001\u0000\u0000\u0000wMk5@\u0000\u0000\u00004Wk5@\u0000\u0000\u0000M#\u0000\u0000\u0001\u0000\u0000\u0000�E�]\u001d\u0000\u0000\u0000�F�]\u001d\u0000\u0000\u0000N#\u0000\u0000\u0001\u0000\u0000\u0000�F�]\u001d\u0000\u0000\u0000&o�]\u001d\u0000\u0000\u0000O#\u0000\u0000\u0001\u0000\u0000\u0000&o�]\u001d\u0000\u0000\u0000p#\u0010�\u001d\u0000\u0000\u0000S#\u0000\u0000\u0001\u0000\u0000\u0000p#\u0010�\u001d\u0000\u0000\u0000:$\u0010�\u001d\u0000\u0000\u0000T#\u0000\u0000\u0001\u0000\u0000\u0000:$\u0010�\u001d\u0000\u0000\u0000�%\u0010�\u001d\u0000\u0000\u0000U\u0003\u0000\u0000\u0001\u0000\u0000\u0000X3��\u0013\u0000\u0000\u0000�\u0007�=\u0014\u0000\u0000\u0000V#\u0000\u0000\u0001\u0000\u0000\u0000�%\u0010�\u001d\u0000\u0000\u0000�&\u0010�\u001d\u0000\u0000\u0000QC\u0000\u0000\u0001\u0000\u0000\u0000��k5@\u0000\u0000\u0000��k5@\u0000\u0000\u0000X\u0003\u0000\u0000\u0001\u0000\u0000\u0000�h�=\u0014\u0000\u0000\u0000ן�=\u0014\u0000\u0000\u0000Z#\u0000\u0000\u0001\u0000\u0000\u0000�&\u0010�\u001d\u0000\u0000\u00006)\u0010�\u001d\u0000\u0000\u0000[#\u0000\u0000\u0001\u0000\u0000\u00006)\u0010�\u001d\u0000\u0000\u0000�*\u0010�\u001d\u0000\u0000\u0000RC\u0000\u0000\u0001\u0000\u0000\u0000��k5@\u0000\u0000\u0000;�k5@\u0000\u0000\u0000ZC\u0000\u0000\u0001\u0000\u0000\u0000Aw��@\u0000\u0000\u0000\u0014x��@\u0000\u0000\u0000^\u0003\u0000\u0000\u0001\u0000\u0000\u0000��G�\u0014\u0000\u0000\u0000��G�\u0014\u0000\u0000\u0000_#\u0000\u0000\u0001\u0000\u0000\u0000�*\u0010�\u001d\u0000\u0000\u0000�+\u0010�\u001d\u0000\u0000\u0000VC\u0000\u0000\u0001\u0000\u0000\u0000\u000eb��@\u0000\u0000\u0000�c��@\u0000\u0000\u0000a#\u0000\u0000\u0001\u0000\u0000\u0000�+\u0010�\u001d\u0000\u0000\u0000 -\u0010�\u001d\u0000\u0000\u0000>C\u0000\u0000\u0001\u0000\u0000\u0000�Jk5@\u0000\u0000\u0000�Lk5@\u0000\u0000\u0000TC\u0000\u0000\u0001\u0000\u0000\u0000;�k5@\u0000\u0000\u0000\u000e!��@\u0000\u0000\u0000UC\u0000\u0000\u0001\u0000\u0000\u0000\u000e!��@\u0000\u0000\u0000\u000eb��@\u0000\u0000\u0000cC\u0000\u0000\u0001\u0000\u0000\u0000�z��@\u0000\u0000\u0000Ё��@\u0000\u0000\u0000XC\u0000\u0000\u0001\u0000\u0000\u0000�c��@\u0000\u0000\u0000�j��@\u0000\u0000\u0000YC\u0000\u0000\u0001\u0000\u0000\u0000�j��@\u0000\u0000\u0000Aw��@\u0000\u0000\u0000i\u0003\u0000\u0000\u0001\u0000\u0000\u0000\u0015_y�\u0014\u0000\u0000\u0000҅y�\u0014\u0000\u0000\u0000j#\u0000\u0000\u0001\u0000\u0000\u0000 -\u0010�\u001d\u0000\u0000\u0000�-\u0010�\u001d\u0000\u0000\u0000aC\u0000\u0000\u0001\u0000\u0000\u0000�y��@\u0000\u0000\u0000�z��@\u0000\u0000\u0000n#\u0000\u0000\u0001\u0000\u0000\u0000�-\u0010�\u001d\u0000\u0000\u0000�.\u0010�\u001d\u0000\u0000\u0000o#\u0000\u0000\u0001\u0000\u0000\u0000�.\u0010�\u001d\u0000\u0000\u0000r<\u0010�\u001d\u0000\u0000\u0000p#\u0000\u0000\u0001\u0000\u0000\u0000r<\u0010�\u001d\u0000\u0000\u0000>=\u0010�\u001d\u0000\u0000\u0000pC\u0000\u0000\u0001\u0000\u0000\u0000\u0016���@\u0000\u0000\u0000���@\u0000\u0000\u0000r#\u0000\u0000\u0001\u0000\u0000\u0000>=\u0010�\u001d\u0000\u0000\u0000\u0014>\u0010�\u001d\u0000\u0000\u0000dC\u0000\u0000\u0001\u0000\u0000\u0000Ё��@\u0000\u0000\u0000����@\u0000\u0000\u0000_C\u0000\u0000\u0001\u0000\u0000\u0000�x��@\u0000\u0000\u0000�y��@\u0000\u0000\u0000u#\u0000\u0000\u0001\u0000\u0000\u0000\u0014>\u0010�\u001d\u0000\u0000\u0000�>\u0010�\u001d\u0000\u0000\u0000uC\u0000\u0000\u0001\u0000\u0000\u0000����@\u0000\u0000\u0000����@\u0000\u0000\u0000w\u0003\u0000\u0000\u0001\u0000\u0000\u0000�_p�\u0015\u0000\u0000\u0000d\u0005��\u0015\u0000\u0000\u0000w#\u0000\u0000\u0001\u0000\u0000\u0000�>\u0010�\u001d\u0000\u0000\u0000�?\u0010�\u001d\u0000\u0000\u0000x#\u0000\u0000\u0001\u0000\u0000\u0000�?\u0010�\u001d\u0000\u0000\u0000�@\u0010�\u001d\u0000\u0000\u0000y#\u0000\u0000\u0001\u0000\u0000\u0000�@\u0010�\u001d\u0000\u0000\u0000bA\u0010�\u001d\u0000\u0000\u0000{#\u0000\u0000\u0001\u0000\u0000\u0000bA\u0010�\u001d\u0000\u0000\u0000@B\u0010�\u001d\u0000\u0000\u0000rC\u0000\u0000\u0001\u0000\u0000\u0000����@\u0000\u0000\u0000����@\u0000\u0000\u0000wC\u0000\u0000\u0001\u0000\u0000\u0000W���@\u0000\u0000\u0000���@\u0000\u0000\u0000xC\u0000\u0000\u0001\u0000\u0000\u0000���@\u0000\u0000\u0000}���@\u0000\u0000\u0000[C\u0000\u0000\u0001\u0000\u0000\u0000\u0014x��@\u0000\u0000\u0000�x��@\u0000\u0000\u0000qC\u0000\u0000\u0001\u0000\u0000\u0000���@\u0000\u0000\u0000����@\u0000\u0000\u0000eC\u0000\u0000\u0001\u0000\u0000\u0000����@\u0000\u0000\u0000\u0016���@\u0000\u0000\u0000�#\u0000\u0000\u0001\u0000\u0000\u0000@B\u0010�\u001d\u0000\u0000\u0000�C\u0010�\u001d\u0000\u0000\u0000�#\u0000\u0000\u0001\u0000\u0000\u0000�C\u0010�\u001d\u0000\u0000\u0000�D\u0010�\u001d\u0000\u0000\u0000�#\u0000\u0000\u0001\u0000\u0000\u0000�D\u0010�\u001d\u0000\u0000\u0000�O\u0010�\u001d\u0000\u0000\u0000�#\u0000\u0000\u0001\u0000\u0000\u0000�O\u0010�\u001d\u0000\u0000\u0000�Q\u0010�\u001d\u0000\u0000\u0000|C\u0000\u0000\u0001\u0000\u0000\u0000����@\u0000\u0000\u0000C���@\u0000\u0000\u0000}C\u0000\u0000\u0001\u0000\u0000\u0000C���@\u0000\u0000\u0000���@\u0000\u0000\u0000yC\u0000\u0000\u0001\u0000\u0000\u0000}���@\u0000\u0000\u0000����@\u0000\u0000\u0000�#\u0000\u0000\u0001\u0000\u0000\u0000�Q\u0010�\u001d\u0000\u0000\u0000�R\u0010�\u001d\u0000\u0000\u0000�\u0003\u0000\u0000\u0001\u0000\u0000\u0000!\u0014\u0019�\u0016\u0000\u0000\u0000�U\u0019�\u0016\u0000\u0000\u0000vC\u0000\u0000\u0001\u0000\u0000\u0000����@\u0000\u0000\u0000W���@\u0000\u0000\u0000�\u0003\u0000\u0000\u0001\u0000\u0000\u0000&`\u0019�\u0016\u0000\u0000\u0000ל\u0019�\u0016\u0000\u0000\u0000�\u0003\u0000\u0000\u0001\u0000\u0000\u0000ל\u0019�\u0016\u0000\u0000\u0000z\u0019�\u0005\u0017\u0000\u0000\u0000�\u0003\u0000\u0000\u0001\u0000\u0000\u0000z\u0019�\u0005\u0017\u0000\u0000\u0000�H�\u0005\u0017\u0000\u0000\u0000�\u0003\u0000\u0000\u0001\u0000\u0000\u0000�H�\u0005\u0017\u0000\u0000\u0000Gm�\u0005\u0017\u0000\u0000\u0000�#\u0000\u0000\u0001\u0000\u0000\u0000bS\u0010�\u001d\u0000\u0000\u0000�T\u0010�\u001d\u0000\u0000\u0000�#\u0000\u0000\u0001\u0000\u0000\u0000�T\u0010�\u001d\u0000\u0000\u0000�U\u0010�\u001d\u0000\u0000\u0000�#\u0000\u0000\u0001\u0000\u0000\u0000�R\u0010�\u001d\u0000\u0000\u0000bS\u0010�\u001d\u0000\u0000\u0000�\u0003\u0000\u0000\u0001\u0000\u0000\u0000���\u0005\u0017\u0000\u0000\u0000���\u0005\u0017\u0000\u0000\u0000C\u0000\u0000\u0001\u0000\u0000\u0000����@\u0000\u0000\u0000����@\u0000\u0000\u0000�#\u0000\u0000\u0001\u0000\u0000\u0000�U\u0010�\u001d\u0000\u0000\u0000ZV\u0010�\u001d\u0000\u0000\u0000zC\u0000\u0000\u0001\u0000\u0000\u0000����@\u0000\u0000\u0000g���@\u0000\u0000\u0000{C\u0000\u0000\u0001\u0000\u0000\u0000g���@\u0000\u0000\u0000����@\u0000\u0000\u0000�C\u0000\u0000\u0001\u0000\u0000\u0000N���@\u0000\u0000\u0000 ���@\u0000\u0000\u0000�C\u0000\u0000\u0001\u0000\u0000\u0000,���@\u0000\u0000\u0000W\u0007�7A\u0000\u0000\u0000~C\u0000\u0000\u0001\u0000\u0000\u0000���@\u0000\u0000\u0000����@\u0000\u0000\u0000�#\u0000\u0000\u0001\u0000\u0000\u0000ZV\u0010�\u001d\u0000\u0000\u00000W\u0010�\u001d\u0000\u0000\u0000�#\u0000\u0000\u0001\u0000\u0000\u00000W\u0010�\u001d\u0000\u0000\u0000�W\u0010�\u001d\u0000\u0000\u0000�C\u0000\u0000\u0001\u0000\u0000\u0000����@\u0000\u0000\u0000����@\u0000\u0000\u0000�C\u0000\u0000\u0001\u0000\u0000\u0000����@\u0000\u0000\u0000N���@\u0000\u0000\u0000�#\u0000\u0000\u0001\u0000\u0000\u0000�W\u0010�\u001d\u0000\u0000\u0000�X\u0010�\u001d\u0000\u0000\u0000�C\u0000\u0000\u0001\u0000\u0000\u0000W\u0007�7A\u0000\u0000\u0000�\f�7A\u0000\u0000\u0000�C\u0000\u0000\u0001\u0000\u0000\u0000 ���@\u0000\u0000\u0000c���@\u0000\u0000\u0000�#\u0000\u0000\u0001\u0000\u0000\u0000�X\u0010�\u001d\u0000\u0000\u0000gZ\u0010�\u001d\u0000\u0000\u0000�#\u0000\u0000\u0001\u0000\u0000\u0000gZ\u0010�\u001d\u0000\u0000\u0000>[\u0010�\u001d\u0000\u0000\u0000�C\u0000\u0000\u0001\u0000\u0000\u0000�+�7A\u0000\u0000\u0000\u0000-�7A\u0000\u0000\u0000�C\u0000\u0000\u0001\u0000\u0000\u0000�\f�7A\u0000\u0000\u0000�\u000f�7A\u0000\u0000\u0000�C\u0000\u0000\u0001\u0000\u0000\u0000�\u000f�7A\u0000\u0000\u0000v\u0010�7A\u0000\u0000\u0000�\u0003\u0000\u0000\u0001\u0000\u0000\u0000\u001e:�\u0017\u0018\u0000\u0000\u0000���\u0017\u0018\u0000\u0000\u0000�C\u0000\u0000\u0001\u0000\u0000\u0000c���@\u0000\u0000\u0000,���@\u0000\u0000\u0000�C\u0000\u0000\u0001\u0000\u0000\u0000\u0002{�7A\u0000\u0000\u0000�{�7A\u0000\u0000\u0000�C\u0000\u0000\u0001\u0000\u0000\u0000r�7A\u0000\u0000\u0000ˆ�7A\u0000\u0000\u0000�C\u0000\u0000\u0001\u0000\u0000\u0000v\u0010�7A\u0000\u0000\u0000�!�7A\u0000\u0000\u0000�C\u0000\u0000\u0001\u0000\u0000\u0000U}�7A\u0000\u0000\u0000r�7A\u0000\u0000\u0000�C\u0000\u0000\u0001\u0000\u0000\u0000s��7A\u0000\u0000\u0000���7A\u0000\u0000\u0000�C\u0000\u0000\u0001\u0000\u0000\u0000���7A\u0000\u0000\u0000s��7A\u0000\u0000\u0000�C\u0000\u0000\u0001\u0000\u0000\u0000ˆ�7A\u0000\u0000\u0000���7A\u0000\u0000\u0000�C\u0000\u0000\u0001\u0000\u0000\u0000�{�7A\u0000\u0000\u0000U}�7A\u0000\u0000\u0000�C\u0000\u0000\u0001\u0000\u0000\u0000���7A\u0000\u0000\u0000���7A\u0000\u0000\u0000�C\u0000\u0000\u0001\u0000\u0000\u0000���7A\u0000\u0000\u0000���7A\u0000\u0000\u0000�C\u0000\u0000\u0001\u0000\u0000\u0000���7A\u0000\u0000\u0000\n"
      }
     ],
     "persistentId": "2d7a43d9-1ff9-43b6-b4f1-9b2fceab9f91",
     "text": "! head $outdir/$bam\\.unspliced.out_CDS_without_stop_codon_or_utr.bam"
    },
    "executionTime": "2019-09-18T17:09:37.901Z"
   },
   {
    "cell": {
     "executionCount": 97,
     "executionEventId": "db017fae-fed3-4fef-9aa5-912b1d6505df",
     "hasError": false,
     "id": "f899356e-d5bc-4026-b638-a60079a43482",
     "outputs": [
      {
       "name": "stdout",
       "output_type": "stream",
       "text": "\nTool:    bedtools intersect (aka intersectBed)\nVersion: v2.28.0\nSummary: Report overlaps between two feature files.\n\nUsage:   bedtools intersect [OPTIONS] -a <bed/gff/vcf/bam> -b <bed/gff/vcf/bam>\n\n\tNote: -b may be followed with multiple databases and/or \n\twildcard (*) character(s). \nOptions: \n\t-wa\tWrite the original entry in A for each overlap.\n\n\t-wb\tWrite the original entry in B for each overlap.\n\t\t- Useful for knowing _what_ A overlaps. Restricted by -f and -r.\n\n\t-loj\tPerform a \"left outer join\". That is, for each feature in A\n\t\treport each overlap with B.  If no overlaps are found, \n\t\treport a NULL feature for B.\n\n\t-wo\tWrite the original A and B entries plus the number of base\n\t\tpairs of overlap between the two features.\n\t\t- Overlaps restricted by -f and -r.\n\t\t  Only A features with overlap are reported.\n\n\t-wao\tWrite the original A and B entries plus the number of base\n\t\tpairs of overlap between the two features.\n\t\t- Overlapping features restricted by -f and -r.\n\t\t  However, A features w/o overlap are also reported\n\t\t  with a NULL B feature and overlap = 0.\n\n\t-u\tWrite the original A entry _once_ if _any_ overlaps found in B.\n\t\t- In other words, just report the fact >=1 hit was found.\n\t\t- Overlaps restricted by -f and -r.\n\n\t-c\tFor each entry in A, report the number of overlaps with B.\n\t\t- Reports 0 for A entries that have no overlap with B.\n\t\t- Overlaps restricted by -f and -r.\n\n\t-v\tOnly report those entries in A that have _no overlaps_ with B.\n\t\t- Similar to \"grep -v\" (an homage).\n\n\t-ubam\tWrite uncompressed BAM output. Default writes compressed BAM.\n\n\t-s\tRequire same strandedness.  That is, only report hits in B\n\t\tthat overlap A on the _same_ strand.\n\t\t- By default, overlaps are reported without respect to strand.\n\n\t-S\tRequire different strandedness.  That is, only report hits in B\n\t\tthat overlap A on the _opposite_ strand.\n\t\t- By default, overlaps are reported without respect to strand.\n\n\t-f\tMinimum overlap required as a fraction of A.\n\t\t- Default is 1E-9 (i.e., 1bp).\n\t\t- FLOAT (e.g. 0.50)\n\n\t-F\tMinimum overlap required as a fraction of B.\n\t\t- Default is 1E-9 (i.e., 1bp).\n\t\t- FLOAT (e.g. 0.50)\n\n\t-r\tRequire that the fraction overlap be reciprocal for A AND B.\n\t\t- In other words, if -f is 0.90 and -r is used, this requires\n\t\t  that B overlap 90% of A and A _also_ overlaps 90% of B.\n\n\t-e\tRequire that the minimum fraction be satisfied for A OR B.\n\t\t- In other words, if -e is used with -f 0.90 and -F 0.10 this requires\n\t\t  that either 90% of A is covered OR 10% of  B is covered.\n\t\t  Without -e, both fractions would have to be satisfied.\n\n\t-split\tTreat \"split\" BAM or BED12 entries as distinct BED intervals.\n\n\t-g\tProvide a genome file to enforce consistent chromosome sort order\n\t\tacross input files. Only applies when used with -sorted option.\n\n\t-nonamecheck\tFor sorted data, don't throw an error if the file has different naming conventions\n\t\t\tfor the same chromosome. ex. \"chr1\" vs \"chr01\".\n\n\t-sorted\tUse the \"chromsweep\" algorithm for sorted (-k1,1 -k2,2n) input.\n\n\t-names\tWhen using multiple databases, provide an alias for each that\n\t\twill appear instead of a fileId when also printing the DB record.\n\n\t-filenames\tWhen using multiple databases, show each complete filename\n\t\t\tinstead of a fileId when also printing the DB record.\n\n\t-sortout\tWhen using multiple databases, sort the output DB hits\n\t\t\tfor each record.\n\n\t-bed\tIf using BAM input, write output as BED.\n\n\t-header\tPrint the header from the A file prior to results.\n\n\t-nobuf\tDisable buffered output. Using this option will cause each line\n\t\tof output to be printed as it is generated, rather than saved\n\t\tin a buffer. This will make printing large output files \n\t\tnoticeably slower, but can be useful in conjunction with\n\t\tother software tools and scripts that need to process one\n\t\tline of bedtools output at a time.\n\n\t-iobuf\tSpecify amount of memory to use for input buffer.\n\t\tTakes an integer argument. Optional suffixes K/M/G supported.\n\t\tNote: currently has no effect with compressed files.\n\nNotes: \n\t(1) When a BAM file is used for the A file, the alignment is retained if overlaps exist,\n\tand excluded if an overlap cannot be found.  If multiple overlaps exist, they are not\n\treported, as we are only testing for one or more overlaps.\n\n\n\n\n***** ERROR: writeAllOverlap option is not valid with BAM query input, unless bed output is specified with -bed option. *****\n"
      }
     ],
     "persistentId": "689cffd4-66ab-456a-aa86-bbfe608d4ea3",
     "text": "! bedtools intersect -wo -abam $outdir/$bam\\.unspliced.bam -b $cds_no_stop_codons_or_utr_gtf > $outdir/$bam\\.unspliced.out_CDS_without_stop_codon_or_utr.bam"
    },
    "executionTime": "2019-09-18T17:10:59.892Z"
   },
   {
    "cell": {
     "executionCount": 98,
     "executionEventId": "a3873aaa-621c-43d6-ba26-f78158634b56",
     "hasError": false,
     "id": "f899356e-d5bc-4026-b638-a60079a43482",
     "outputs": [
      {
       "name": "stdout",
       "output_type": "stream",
       "text": "\nTool:    bedtools intersect (aka intersectBed)\nVersion: v2.28.0\nSummary: Report overlaps between two feature files.\n\nUsage:   bedtools intersect [OPTIONS] -a <bed/gff/vcf/bam> -b <bed/gff/vcf/bam>\n\n\tNote: -b may be followed with multiple databases and/or \n\twildcard (*) character(s). \nOptions: \n\t-wa\tWrite the original entry in A for each overlap.\n\n\t-wb\tWrite the original entry in B for each overlap.\n\t\t- Useful for knowing _what_ A overlaps. Restricted by -f and -r.\n\n\t-loj\tPerform a \"left outer join\". That is, for each feature in A\n\t\treport each overlap with B.  If no overlaps are found, \n\t\treport a NULL feature for B.\n\n\t-wo\tWrite the original A and B entries plus the number of base\n\t\tpairs of overlap between the two features.\n\t\t- Overlaps restricted by -f and -r.\n\t\t  Only A features with overlap are reported.\n\n\t-wao\tWrite the original A and B entries plus the number of base\n\t\tpairs of overlap between the two features.\n\t\t- Overlapping features restricted by -f and -r.\n\t\t  However, A features w/o overlap are also reported\n\t\t  with a NULL B feature and overlap = 0.\n\n\t-u\tWrite the original A entry _once_ if _any_ overlaps found in B.\n\t\t- In other words, just report the fact >=1 hit was found.\n\t\t- Overlaps restricted by -f and -r.\n\n\t-c\tFor each entry in A, report the number of overlaps with B.\n\t\t- Reports 0 for A entries that have no overlap with B.\n\t\t- Overlaps restricted by -f and -r.\n\n\t-v\tOnly report those entries in A that have _no overlaps_ with B.\n\t\t- Similar to \"grep -v\" (an homage).\n\n\t-ubam\tWrite uncompressed BAM output. Default writes compressed BAM.\n\n\t-s\tRequire same strandedness.  That is, only report hits in B\n\t\tthat overlap A on the _same_ strand.\n\t\t- By default, overlaps are reported without respect to strand.\n\n\t-S\tRequire different strandedness.  That is, only report hits in B\n\t\tthat overlap A on the _opposite_ strand.\n\t\t- By default, overlaps are reported without respect to strand.\n\n\t-f\tMinimum overlap required as a fraction of A.\n\t\t- Default is 1E-9 (i.e., 1bp).\n\t\t- FLOAT (e.g. 0.50)\n\n\t-F\tMinimum overlap required as a fraction of B.\n\t\t- Default is 1E-9 (i.e., 1bp).\n\t\t- FLOAT (e.g. 0.50)\n\n\t-r\tRequire that the fraction overlap be reciprocal for A AND B.\n\t\t- In other words, if -f is 0.90 and -r is used, this requires\n\t\t  that B overlap 90% of A and A _also_ overlaps 90% of B.\n\n\t-e\tRequire that the minimum fraction be satisfied for A OR B.\n\t\t- In other words, if -e is used with -f 0.90 and -F 0.10 this requires\n\t\t  that either 90% of A is covered OR 10% of  B is covered.\n\t\t  Without -e, both fractions would have to be satisfied.\n\n\t-split\tTreat \"split\" BAM or BED12 entries as distinct BED intervals.\n\n\t-g\tProvide a genome file to enforce consistent chromosome sort order\n\t\tacross input files. Only applies when used with -sorted option.\n\n\t-nonamecheck\tFor sorted data, don't throw an error if the file has different naming conventions\n\t\t\tfor the same chromosome. ex. \"chr1\" vs \"chr01\".\n\n\t-sorted\tUse the \"chromsweep\" algorithm for sorted (-k1,1 -k2,2n) input.\n\n\t-names\tWhen using multiple databases, provide an alias for each that\n\t\twill appear instead of a fileId when also printing the DB record.\n\n\t-filenames\tWhen using multiple databases, show each complete filename\n\t\t\tinstead of a fileId when also printing the DB record.\n\n\t-sortout\tWhen using multiple databases, sort the output DB hits\n\t\t\tfor each record.\n\n\t-bed\tIf using BAM input, write output as BED.\n\n\t-header\tPrint the header from the A file prior to results.\n\n\t-nobuf\tDisable buffered output. Using this option will cause each line\n\t\tof output to be printed as it is generated, rather than saved\n\t\tin a buffer. This will make printing large output files \n\t\tnoticeably slower, but can be useful in conjunction with\n\t\tother software tools and scripts that need to process one\n\t\tline of bedtools output at a time.\n\n\t-iobuf\tSpecify amount of memory to use for input buffer.\n\t\tTakes an integer argument. Optional suffixes K/M/G supported.\n\t\tNote: currently has no effect with compressed files.\n\nNotes: \n\t(1) When a BAM file is used for the A file, the alignment is retained if overlaps exist,\n\tand excluded if an overlap cannot be found.  If multiple overlaps exist, they are not\n\treported, as we are only testing for one or more overlaps.\n\n\n\n\n***** ERROR: writeAllOverlap option is not valid with BAM query input, unless bed output is specified with -bed option. *****\n"
      }
     ],
     "persistentId": "689cffd4-66ab-456a-aa86-bbfe608d4ea3",
     "text": "! bedtools intersect -wo -a $outdir/$bam\\.unspliced.bam -b $cds_no_stop_codons_or_utr_gtf > $outdir/$bam\\.unspliced.out_CDS_without_stop_codon_or_utr.bam"
    },
    "executionTime": "2019-09-18T17:11:11.635Z"
   },
   {
    "cell": {
     "executionCount": 99,
     "executionEventId": "aee66f34-fc30-4b27-8219-65ad8bd75205",
     "hasError": false,
     "id": "f899356e-d5bc-4026-b638-a60079a43482",
     "outputs": [
      {
       "name": "stdout",
       "output_type": "stream",
       "text": "\nTool:    bedtools intersect (aka intersectBed)\nVersion: v2.28.0\nSummary: Report overlaps between two feature files.\n\nUsage:   bedtools intersect [OPTIONS] -a <bed/gff/vcf/bam> -b <bed/gff/vcf/bam>\n\n\tNote: -b may be followed with multiple databases and/or \n\twildcard (*) character(s). \nOptions: \n\t-wa\tWrite the original entry in A for each overlap.\n\n\t-wb\tWrite the original entry in B for each overlap.\n\t\t- Useful for knowing _what_ A overlaps. Restricted by -f and -r.\n\n\t-loj\tPerform a \"left outer join\". That is, for each feature in A\n\t\treport each overlap with B.  If no overlaps are found, \n\t\treport a NULL feature for B.\n\n\t-wo\tWrite the original A and B entries plus the number of base\n\t\tpairs of overlap between the two features.\n\t\t- Overlaps restricted by -f and -r.\n\t\t  Only A features with overlap are reported.\n\n\t-wao\tWrite the original A and B entries plus the number of base\n\t\tpairs of overlap between the two features.\n\t\t- Overlapping features restricted by -f and -r.\n\t\t  However, A features w/o overlap are also reported\n\t\t  with a NULL B feature and overlap = 0.\n\n\t-u\tWrite the original A entry _once_ if _any_ overlaps found in B.\n\t\t- In other words, just report the fact >=1 hit was found.\n\t\t- Overlaps restricted by -f and -r.\n\n\t-c\tFor each entry in A, report the number of overlaps with B.\n\t\t- Reports 0 for A entries that have no overlap with B.\n\t\t- Overlaps restricted by -f and -r.\n\n\t-v\tOnly report those entries in A that have _no overlaps_ with B.\n\t\t- Similar to \"grep -v\" (an homage).\n\n\t-ubam\tWrite uncompressed BAM output. Default writes compressed BAM.\n\n\t-s\tRequire same strandedness.  That is, only report hits in B\n\t\tthat overlap A on the _same_ strand.\n\t\t- By default, overlaps are reported without respect to strand.\n\n\t-S\tRequire different strandedness.  That is, only report hits in B\n\t\tthat overlap A on the _opposite_ strand.\n\t\t- By default, overlaps are reported without respect to strand.\n\n\t-f\tMinimum overlap required as a fraction of A.\n\t\t- Default is 1E-9 (i.e., 1bp).\n\t\t- FLOAT (e.g. 0.50)\n\n\t-F\tMinimum overlap required as a fraction of B.\n\t\t- Default is 1E-9 (i.e., 1bp).\n\t\t- FLOAT (e.g. 0.50)\n\n\t-r\tRequire that the fraction overlap be reciprocal for A AND B.\n\t\t- In other words, if -f is 0.90 and -r is used, this requires\n\t\t  that B overlap 90% of A and A _also_ overlaps 90% of B.\n\n\t-e\tRequire that the minimum fraction be satisfied for A OR B.\n\t\t- In other words, if -e is used with -f 0.90 and -F 0.10 this requires\n\t\t  that either 90% of A is covered OR 10% of  B is covered.\n\t\t  Without -e, both fractions would have to be satisfied.\n\n\t-split\tTreat \"split\" BAM or BED12 entries as distinct BED intervals.\n\n\t-g\tProvide a genome file to enforce consistent chromosome sort order\n\t\tacross input files. Only applies when used with -sorted option.\n\n\t-nonamecheck\tFor sorted data, don't throw an error if the file has different naming conventions\n\t\t\tfor the same chromosome. ex. \"chr1\" vs \"chr01\".\n\n\t-sorted\tUse the \"chromsweep\" algorithm for sorted (-k1,1 -k2,2n) input.\n\n\t-names\tWhen using multiple databases, provide an alias for each that\n\t\twill appear instead of a fileId when also printing the DB record.\n\n\t-filenames\tWhen using multiple databases, show each complete filename\n\t\t\tinstead of a fileId when also printing the DB record.\n\n\t-sortout\tWhen using multiple databases, sort the output DB hits\n\t\t\tfor each record.\n\n\t-bed\tIf using BAM input, write output as BED.\n\n\t-header\tPrint the header from the A file prior to results.\n\n\t-nobuf\tDisable buffered output. Using this option will cause each line\n\t\tof output to be printed as it is generated, rather than saved\n\t\tin a buffer. This will make printing large output files \n\t\tnoticeably slower, but can be useful in conjunction with\n\t\tother software tools and scripts that need to process one\n\t\tline of bedtools output at a time.\n\n\t-iobuf\tSpecify amount of memory to use for input buffer.\n\t\tTakes an integer argument. Optional suffixes K/M/G supported.\n\t\tNote: currently has no effect with compressed files.\n\nNotes: \n\t(1) When a BAM file is used for the A file, the alignment is retained if overlaps exist,\n\tand excluded if an overlap cannot be found.  If multiple overlaps exist, they are not\n\treported, as we are only testing for one or more overlaps.\n\n\n\n\n***** ERROR: writeAllOverlap option is not valid with BAM query input, unless bed output is specified with -bed option. *****\n"
      }
     ],
     "persistentId": "689cffd4-66ab-456a-aa86-bbfe608d4ea3",
     "text": "! bedtools intersect -wo -a $outdir/SRR306838_GSM752691_hsa_br_F_1Aligned.sortedByCoord.out.bam.unspliced.bam -b $cds_no_stop_codons_or_utr_gtf > $outdir/$bam\\.unspliced.out_CDS_without_stop_codon_or_utr.bam"
    },
    "executionTime": "2019-09-18T17:11:28.470Z"
   },
   {
    "cell": {
     "executionCount": 100,
     "executionEventId": "41701171-647a-4f51-add3-151cfe557ab2",
     "hasError": false,
     "id": "f899356e-d5bc-4026-b638-a60079a43482",
     "outputs": [
      {
       "name": "stdout",
       "output_type": "stream",
       "text": "\nTool:    bedtools intersect (aka intersectBed)\nVersion: v2.28.0\nSummary: Report overlaps between two feature files.\n\nUsage:   bedtools intersect [OPTIONS] -a <bed/gff/vcf/bam> -b <bed/gff/vcf/bam>\n\n\tNote: -b may be followed with multiple databases and/or \n\twildcard (*) character(s). \nOptions: \n\t-wa\tWrite the original entry in A for each overlap.\n\n\t-wb\tWrite the original entry in B for each overlap.\n\t\t- Useful for knowing _what_ A overlaps. Restricted by -f and -r.\n\n\t-loj\tPerform a \"left outer join\". That is, for each feature in A\n\t\treport each overlap with B.  If no overlaps are found, \n\t\treport a NULL feature for B.\n\n\t-wo\tWrite the original A and B entries plus the number of base\n\t\tpairs of overlap between the two features.\n\t\t- Overlaps restricted by -f and -r.\n\t\t  Only A features with overlap are reported.\n\n\t-wao\tWrite the original A and B entries plus the number of base\n\t\tpairs of overlap between the two features.\n\t\t- Overlapping features restricted by -f and -r.\n\t\t  However, A features w/o overlap are also reported\n\t\t  with a NULL B feature and overlap = 0.\n\n\t-u\tWrite the original A entry _once_ if _any_ overlaps found in B.\n\t\t- In other words, just report the fact >=1 hit was found.\n\t\t- Overlaps restricted by -f and -r.\n\n\t-c\tFor each entry in A, report the number of overlaps with B.\n\t\t- Reports 0 for A entries that have no overlap with B.\n\t\t- Overlaps restricted by -f and -r.\n\n\t-v\tOnly report those entries in A that have _no overlaps_ with B.\n\t\t- Similar to \"grep -v\" (an homage).\n\n\t-ubam\tWrite uncompressed BAM output. Default writes compressed BAM.\n\n\t-s\tRequire same strandedness.  That is, only report hits in B\n\t\tthat overlap A on the _same_ strand.\n\t\t- By default, overlaps are reported without respect to strand.\n\n\t-S\tRequire different strandedness.  That is, only report hits in B\n\t\tthat overlap A on the _opposite_ strand.\n\t\t- By default, overlaps are reported without respect to strand.\n\n\t-f\tMinimum overlap required as a fraction of A.\n\t\t- Default is 1E-9 (i.e., 1bp).\n\t\t- FLOAT (e.g. 0.50)\n\n\t-F\tMinimum overlap required as a fraction of B.\n\t\t- Default is 1E-9 (i.e., 1bp).\n\t\t- FLOAT (e.g. 0.50)\n\n\t-r\tRequire that the fraction overlap be reciprocal for A AND B.\n\t\t- In other words, if -f is 0.90 and -r is used, this requires\n\t\t  that B overlap 90% of A and A _also_ overlaps 90% of B.\n\n\t-e\tRequire that the minimum fraction be satisfied for A OR B.\n\t\t- In other words, if -e is used with -f 0.90 and -F 0.10 this requires\n\t\t  that either 90% of A is covered OR 10% of  B is covered.\n\t\t  Without -e, both fractions would have to be satisfied.\n\n\t-split\tTreat \"split\" BAM or BED12 entries as distinct BED intervals.\n\n\t-g\tProvide a genome file to enforce consistent chromosome sort order\n\t\tacross input files. Only applies when used with -sorted option.\n\n\t-nonamecheck\tFor sorted data, don't throw an error if the file has different naming conventions\n\t\t\tfor the same chromosome. ex. \"chr1\" vs \"chr01\".\n\n\t-sorted\tUse the \"chromsweep\" algorithm for sorted (-k1,1 -k2,2n) input.\n\n\t-names\tWhen using multiple databases, provide an alias for each that\n\t\twill appear instead of a fileId when also printing the DB record.\n\n\t-filenames\tWhen using multiple databases, show each complete filename\n\t\t\tinstead of a fileId when also printing the DB record.\n\n\t-sortout\tWhen using multiple databases, sort the output DB hits\n\t\t\tfor each record.\n\n\t-bed\tIf using BAM input, write output as BED.\n\n\t-header\tPrint the header from the A file prior to results.\n\n\t-nobuf\tDisable buffered output. Using this option will cause each line\n\t\tof output to be printed as it is generated, rather than saved\n\t\tin a buffer. This will make printing large output files \n\t\tnoticeably slower, but can be useful in conjunction with\n\t\tother software tools and scripts that need to process one\n\t\tline of bedtools output at a time.\n\n\t-iobuf\tSpecify amount of memory to use for input buffer.\n\t\tTakes an integer argument. Optional suffixes K/M/G supported.\n\t\tNote: currently has no effect with compressed files.\n\nNotes: \n\t(1) When a BAM file is used for the A file, the alignment is retained if overlaps exist,\n\tand excluded if an overlap cannot be found.  If multiple overlaps exist, they are not\n\treported, as we are only testing for one or more overlaps.\n\n\n\n\n***** ERROR: writeAllOverlap option is not valid with BAM query input, unless bed output is specified with -bed option. *****\n"
      }
     ],
     "persistentId": "689cffd4-66ab-456a-aa86-bbfe608d4ea3",
     "text": "! bedtools intersect -wao -a $outdir/$bam\\.unspliced.bam -b $cds_no_stop_codons_or_utr_gtf > $outdir/$bam\\.unspliced.out_CDS_without_stop_codon_or_utr.bam"
    },
    "executionTime": "2019-09-18T17:11:40.004Z"
   },
   {
    "cell": {
     "executionCount": 101,
     "executionEventId": "16f9e49a-9d26-40fa-99da-c046dee3dbed",
     "hasError": false,
     "id": "de1b1bed-3543-4f3c-8e11-be868942eb50",
     "outputs": [
      {
       "name": "stdout",
       "output_type": "stream",
       "text": "total 331M\ndrwxrwxr-x 2 olga olga 4.0K Sep 18 09:59 \u001b[0m\u001b[01;34m.\u001b[0m/\ndrwxrwxr-x 3 olga olga 4.0K Sep 10 15:07 \u001b[01;34m..\u001b[0m/\n-rw-rw-r-- 1 olga olga  52M Sep 18 10:05 SRR306838_GSM752691_hsa_br_F_1Aligned.sortedByCoord.out.bam.unspliced.bam\n-rw-rw-r-- 1 olga olga 2.9M Sep 18 09:59 SRR306838_GSM752691_hsa_br_F_1Aligned.sortedByCoord.out.bam.unspliced.bam.bai\n-rw-rw-r-- 1 olga olga    0 Sep 18 10:10 SRR306838_GSM752691_hsa_br_F_1Aligned.sortedByCoord.out.bam.unspliced.out_CDS_without_stop_codon_or_utr.bam\n-rw-rw-r-- 1 olga olga  15M Sep 10 15:55 SRR306838_GSM752691_hsa_br_F_1Aligned.sortedByCoord.out_CDS_without_stop_codon.bam\n-rw-rw-r-- 1 olga olga 1.7M Sep 18 07:05 SRR306838_GSM752691_hsa_br_F_1Aligned.sortedByCoord.out_CDS_without_stop_codon.bam.bai\n-rw-rw-r-- 1 olga olga  15M Sep 18 07:15 SRR306838_GSM752691_hsa_br_F_1Aligned.sortedByCoord.out_CDS_without_stop_codon_or_utr.bam\n-rw-rw-r-- 1 olga olga 1.7M Sep 18 07:06 SRR306838_GSM752691_hsa_br_F_1Aligned.sortedByCoord.out_CDS_without_stop_codon_or_utr.bam.bai\n-rw-rw-r-- 1 olga olga 4.1M Sep 18 07:17 SRR306838_GSM752691_hsa_br_F_1Aligned.sortedByCoord.out_CDS_without_stop_codon_or_utr.read_ids.txt\n-rw-rw-r-- 1 olga olga 4.1M Sep 10 15:56 SRR306838_GSM752691_hsa_br_F_1Aligned.sortedByCoord.out_CDS_without_stop_codon.read_ids.txt\n-rw-r--r-- 1 olga olga 235M Sep 10 15:10 SRR306838_GSM752691_hsa_br_F_1_trimmed_k15.tsv\n"
      }
     ],
     "persistentId": "5564b283-589b-4ece-ab5b-27f57d62ca3c",
     "text": "ls -lha $outdir"
    },
    "executionTime": "2019-09-18T17:11:45.193Z"
   },
   {
    "cell": {
     "executionCount": 102,
     "executionEventId": "e10d65dd-d1f7-495f-8be5-e49358496e84",
     "hasError": false,
     "id": "f899356e-d5bc-4026-b638-a60079a43482",
     "outputs": [
      {
       "name": "stdout",
       "output_type": "stream",
       "text": "***** WARNING: File /home/olga/data_sm/kmer-hashing/brawand2011/human/SRR306838_GSM752691_hsa_br_F_1Aligned.sortedByCoord.out.bam.unspliced.bam has inconsistent naming convention for record:\nGL000008.2\t29409\t29480\tSRR306838.11378224\t0\t+\n\n***** WARNING: File /home/olga/data_sm/kmer-hashing/brawand2011/human/SRR306838_GSM752691_hsa_br_F_1Aligned.sortedByCoord.out.bam.unspliced.bam has inconsistent naming convention for record:\nGL000008.2\t29409\t29480\tSRR306838.11378224\t0\t+\n\n2.82user 32.63system 0:35.56elapsed 99%CPU (0avgtext+0avgdata 450136maxresident)k\n0inputs+19008outputs (0major+242578minor)pagefaults 0swaps\n"
      }
     ],
     "persistentId": "689cffd4-66ab-456a-aa86-bbfe608d4ea3",
     "text": "! time bedtools intersect -a $outdir/$bam\\.unspliced.bam -b $cds_no_stop_codons_or_utr_gtf > $outdir/$bam\\.unspliced.out_CDS_without_stop_codon_or_utr.bam"
    },
    "executionTime": "2019-09-18T17:12:54.483Z"
   },
   {
    "cell": {
     "executionCount": 103,
     "executionEventId": "da5b5a92-1c77-477f-ba42-8c15cb72c0e2",
     "hasError": false,
     "id": "7e85d9e1-8fdc-43d3-888d-285ef2cc1c38",
     "outputs": [
      {
       "name": "stdout",
       "output_type": "stream",
       "text": "SRR306838.13598607\t0\tchr1\t945525\t255\t69M\t*\t0\t0\tCGAGAATCCCTCGGTGTCGTCCTCTTCAGAGCTGTTCAGGTCAAAGAGGTCTTTAAATTGCTTCCTGTC\t33273589652656241634:568456485768435736637444656539776445766784767539\tNH:i:1\tHI:i:1\tAS:i:67\tnM:i:0\tRG:Z:SRR306838_GSM752691_hsa_br_F_1\nSRR306838.23303318\t0\tchr1\t945534\t255\t70M\t*\t0\t0\tCTCGGTGTCGTCCTCTTCAGAGCTGTTCAGGTCAAAGAGGTCTTTAAATTGCTTCCTGTCCTCATCCTTC\t32255/54320856423955475855243842544364753684733245755564853:5796595628\tNH:i:1\tHI:i:1\tAS:i:68\tnM:i:0\tRG:Z:SRR306838_GSM752691_hsa_br_F_1\nSRR306838.19917713\t0\tchr1\t945543\t255\t69M\t*\t0\t0\tGTCCTCTTCAGAGCTGTTCAGGTCAAAGAGGTCTTTAAATTGCTTCCTGTCCTCATCCTTCCTGTCAGC\t013212745640534433447437630547327254334675548668448538849374:67647685\tNH:i:1\tHI:i:1\tAS:i:67\tnM:i:0\tRG:Z:SRR306838_GSM752691_hsa_br_F_1\nSRR306838.19937719\t0\tchr1\t945546\t255\t70M\t*\t0\t0\tCTCTTCAGAGCTGTTCAGGTCAAAAAGGTCTTTAAATTGCTTCCTGTCCTCATCCTTCCTGTCAGCCATC\t222/141512657236476374544365/655564455565677865:4473365546686585:55757\tNH:i:1\tHI:i:1\tAS:i:66\tnM:i:1\tRG:Z:SRR306838_GSM752691_hsa_br_F_1\nSRR306838.20862490\t0\tchr1\t945549\t255\t69M1S\t*\t0\t0\tTTCAGAGCTGTTCAGGTCAAAGAGGTCTTTAAATTGCTTCCTGTCCTCATCCTTCCTGTCAGCCATCTTG\t,322545373025314174444575263343553474545564372795694567475395:64269567\tNH:i:1\tHI:i:1\tAS:i:67\tnM:i:0\tRG:Z:SRR306838_GSM752691_hsa_br_F_1\nSRR306838.21924959\t0\tchr1\t945549\t255\t70M\t*\t0\t0\tTTCAGAGCTGTTCAGGTCAAAGAGGTCTTTAAATTGCTTCCTGTCCTCATCCTTCCTGTCAGCCATCTTC\t,2325555730153350854445952733435635764366653726:55854595953;596644:438\tNH:i:1\tHI:i:1\tAS:i:68\tnM:i:0\tRG:Z:SRR306838_GSM752691_hsa_br_F_1\nSRR306838.6854298\t0\tchr1\t945552\t255\t69M\t*\t0\t0\tAGAGCTGTTCAGGTCAAAGAGGTCTTTAAATTGCTTCCTGTCCTCATCCTTCCTGTCAGCCATCTTCCT\t-4061264664863765555852744353656745474765854864:5557587296:6574652955\tNH:i:1\tHI:i:1\tAS:i:67\tnM:i:0\tRG:Z:SRR306838_GSM752691_hsa_br_F_1\nSRR306838.22584038\t0\tchr1\t945586\t255\t69M\t*\t0\t0\tTTCCTGTCCTCATCCTTCCTGTCAGCCATCTTCCTTCGTTTGATCTCAGGGAAGTTCAGGTCTTCCAGC\t-23325685594683248457474837736446654864685347493736536439681189656755\tNH:i:1\tHI:i:1\tAS:i:67\tnM:i:0\tRG:Z:SRR306838_GSM752691_hsa_br_F_1\nSRR306838.14605576\t16\tchr1\t945598\t3\t2S55M14S\t*\t0\t0\tATTCCTTCCTGTCAGCCATCTTCCTTCGTTTGATCTCAGGGAAGTTCAGGTCTTTCAACCACATTTGCTAG\t55567468<7868:678;8656784976477958=87:79:667178=8:596666948814;2172:246\tNH:i:2\tHI:i:1\tAS:i:52\tnM:i:1\tRG:Z:SRR306838_GSM752691_hsa_br_F_1\nSRR306838.22585585\t0\tchr1\t946262\t255\t25M\t*\t0\t0\tCCCGGGTCAGCTTCTCCCAGGCTTC\t4136655943847:56765665566\tNH:i:1\tHI:i:1\tAS:i:24\tnM:i:0\tRG:Z:SRR306838_GSM752691_hsa_br_F_1\nsamtools view: writing to standard output failed: Broken pipe\nsamtools view: error closing standard output: -1\n"
      }
     ],
     "persistentId": "2d7a43d9-1ff9-43b6-b4f1-9b2fceab9f91",
     "text": "! samtools view $outdir/$bam\\.unspliced.out_CDS_without_stop_codon_or_utr.bam | head"
    },
    "executionTime": "2019-09-18T17:12:54.746Z"
   },
   {
    "cell": {
     "executionCount": 104,
     "executionEventId": "19bf4c5c-1fd8-47d2-ad6f-310777bfe88d",
     "hasError": false,
     "id": "d2a2a4e2-f351-4542-a5fe-ca9c9db0effd",
     "outputs": [],
     "persistentId": "9aa794de-61b4-4d67-94d9-dccdf7ffe025",
     "text": "! samtools index $outdir/SRR306838_GSM752691_hsa_br_F_1Aligned.sortedByCoord.out.bam.unspliced.bam"
    },
    "executionTime": "2019-09-18T17:13:19.593Z"
   },
   {
    "cell": {
     "executionCount": 105,
     "executionEventId": "1ea6c37a-1df1-4c70-82ee-853a3d4cfd7c",
     "hasError": false,
     "id": "9dddd80d-0f9b-416d-ba73-8e8ed57cd298",
     "outputs": [
      {
       "name": "stdout",
       "output_type": "stream",
       "text": "[E::hts_open_format] Failed to open file /home/olga/data_sm/kmer-hashing/brawand2011/humanSRR306838_GSM752691_hsa_br_F_1Aligned.sortedByCoord.out.bam.unspliced.out_CDS_without_stop_codon_or_utr.bam\nsamtools index: failed to open \"/home/olga/data_sm/kmer-hashing/brawand2011/humanSRR306838_GSM752691_hsa_br_F_1Aligned.sortedByCoord.out.bam.unspliced.out_CDS_without_stop_codon_or_utr.bam\": No such file or directory\n"
      }
     ],
     "persistentId": "5194e001-6f0f-4f80-8577-c6f578038b7f",
     "text": "! samtools index $outdir\\SRR306838_GSM752691_hsa_br_F_1Aligned.sortedByCoord.out.bam.unspliced.out_CDS_without_stop_codon_or_utr.bam"
    },
    "executionTime": "2019-09-18T17:13:22.238Z"
   },
   {
    "cell": {
     "executionCount": 106,
     "executionEventId": "e0667cf3-31c2-460d-905e-78f485951931",
     "hasError": false,
     "id": "517a0ce5-196f-48b5-a939-c8663ba9d617",
     "outputs": [
      {
       "name": "stdout",
       "output_type": "stream",
       "text": "total 21G\ndrwxr-xr-x  3 5008 5000 4.0K Sep 10 12:25 \u001b[0m\u001b[01;34m.\u001b[0m/\ndrwxr-xr-x 17 5008 5000 4.0K Sep  2 12:00 \u001b[01;34m..\u001b[0m/\ndrwxr-xr-x  2 5008 5000 8.0K Sep 10 12:25 \u001b[01;34mlogs\u001b[0m/\n-rw-r--r--  1 5008 5000  65M Sep 10 10:02 SRR306838_GSM752691_hsa_br_F_1Aligned.sortedByCoord.out.bam\n-rw-r--r--  1 5008 5000 2.5M Sep 10 10:02 SRR306838_GSM752691_hsa_br_F_1Aligned.sortedByCoord.out.bam.bai\n-rw-r--r--  1 5008 5000 1.3G Sep 10 10:42 SRR306839_GSM752692_hsa_br_M_3Aligned.sortedByCoord.out.bam\n-rw-r--r--  1 5008 5000 3.6M Sep 10 10:42 SRR306839_GSM752692_hsa_br_M_3Aligned.sortedByCoord.out.bam.bai\n-rw-r--r--  1 5008 5000 1.5G Sep 10 10:55 SRR306841_GSM752694_hsa_br_M_2Aligned.sortedByCoord.out.bam\n-rw-r--r--  1 5008 5000 3.8M Sep 10 10:55 SRR306841_GSM752694_hsa_br_M_2Aligned.sortedByCoord.out.bam.bai\n-rw-r--r--  1 5008 5000 405M Sep 10 09:25 SRR306843_GSM752696_hsa_br_M_5Aligned.sortedByCoord.out.bam\n-rw-r--r--  1 5008 5000 3.5M Sep 10 09:25 SRR306843_GSM752696_hsa_br_M_5Aligned.sortedByCoord.out.bam.bai\n-rw-r--r--  1 5008 5000 2.4G Sep 10 12:17 SRR306844_GSM752697_hsa_cb_F_1Aligned.sortedByCoord.out.bam\n-rw-r--r--  1 5008 5000 4.1M Sep 10 12:16 SRR306844_GSM752697_hsa_cb_F_1Aligned.sortedByCoord.out.bam.bai\n-rw-r--r--  1 5008 5000 564M Sep 10 10:39 SRR306845_GSM752698_hsa_cb_M_1Aligned.sortedByCoord.out.bam\n-rw-r--r--  1 5008 5000 3.7M Sep 10 10:39 SRR306845_GSM752698_hsa_cb_M_1Aligned.sortedByCoord.out.bam.bai\n-rw-r--r--  1 5008 5000 1.5G Sep 10 12:26 SRR306846_GSM752698_hsa_cb_M_1Aligned.sortedByCoord.out.bam\n-rw-r--r--  1 5008 5000 3.8M Sep 10 12:25 SRR306846_GSM752698_hsa_cb_M_1Aligned.sortedByCoord.out.bam.bai\n-rw-r--r--  1 5008 5000  33M Sep 10 09:24 SRR306847_GSM752699_hsa_ht_F_1Aligned.sortedByCoord.out.bam\n-rw-r--r--  1 5008 5000 2.3M Sep 10 09:24 SRR306847_GSM752699_hsa_ht_F_1Aligned.sortedByCoord.out.bam.bai\n-rw-r--r--  1 5008 5000 600M Sep 10 09:26 SRR306848_GSM752700_hsa_ht_M_1Aligned.sortedByCoord.out.bam\n-rw-r--r--  1 5008 5000 3.6M Sep 10 09:26 SRR306848_GSM752700_hsa_ht_M_1Aligned.sortedByCoord.out.bam.bai\n-rw-r--r--  1 5008 5000 1.6G Sep 10 11:09 SRR306849_GSM752700_hsa_ht_M_1Aligned.sortedByCoord.out.bam\n-rw-r--r--  1 5008 5000 3.4M Sep 10 11:09 SRR306849_GSM752700_hsa_ht_M_1Aligned.sortedByCoord.out.bam.bai\n-rw-r--r--  1 5008 5000 2.0G Sep 10 11:42 SRR306850_GSM752701_hsa_ht_M_2Aligned.sortedByCoord.out.bam\n-rw-r--r--  1 5008 5000 3.6M Sep 10 11:41 SRR306850_GSM752701_hsa_ht_M_2Aligned.sortedByCoord.out.bam.bai\n-rw-r--r--  1 5008 5000  97M Sep 10 10:23 SRR306851_GSM752702_hsa_kd_F_1Aligned.sortedByCoord.out.bam\n-rw-r--r--  1 5008 5000 2.4M Sep 10 10:22 SRR306851_GSM752702_hsa_kd_F_1Aligned.sortedByCoord.out.bam.bai\n-rw-r--r--  1 5008 5000 2.1G Sep 10 12:12 SRR306853_GSM752704_hsa_kd_M_2Aligned.sortedByCoord.out.bam\n-rw-r--r--  1 5008 5000 3.9M Sep 10 12:12 SRR306853_GSM752704_hsa_kd_M_2Aligned.sortedByCoord.out.bam.bai\n-rw-r--r--  1 5008 5000 354M Sep 10 10:02 SRR306854_GSM752705_hsa_lv_M_1Aligned.sortedByCoord.out.bam\n-rw-r--r--  1 5008 5000 3.7M Sep 10 10:02 SRR306854_GSM752705_hsa_lv_M_1Aligned.sortedByCoord.out.bam.bai\n-rw-r--r--  1 5008 5000 2.0G Sep 10 11:58 SRR306855_GSM752705_hsa_lv_M_1Aligned.sortedByCoord.out.bam\n-rw-r--r--  1 5008 5000 3.4M Sep 10 11:58 SRR306855_GSM752705_hsa_lv_M_1Aligned.sortedByCoord.out.bam.bai\n-rw-r--r--  1 5008 5000 1.9G Sep 10 11:25 SRR306856_GSM752706_hsa_lv_M_2Aligned.sortedByCoord.out.bam\n-rw-r--r--  1 5008 5000 3.9M Sep 10 11:24 SRR306856_GSM752706_hsa_lv_M_2Aligned.sortedByCoord.out.bam.bai\n-rw-r--r--  1 5008 5000 387M Sep 10 10:22 SRR306857_GSM752707_hsa_ts_M_1Aligned.sortedByCoord.out.bam\n-rw-r--r--  1 5008 5000 2.9M Sep 10 10:22 SRR306857_GSM752707_hsa_ts_M_1Aligned.sortedByCoord.out.bam.bai\n-rw-r--r--  1 5008 5000 2.5G Sep 10 12:18 SRR306858_GSM752708_hsa_ts_M_2Aligned.sortedByCoord.out.bam\n-rw-r--r--  1 5008 5000 3.7M Sep 10 12:18 SRR306858_GSM752708_hsa_ts_M_2Aligned.sortedByCoord.out.bam.bai\n"
      }
     ],
     "persistentId": "867ca261-98df-4275-bd7b-007d28464c3e",
     "text": "ls -lha"
    },
    "executionTime": "2019-09-18T17:13:26.540Z"
   },
   {
    "cell": {
     "executionCount": 107,
     "executionEventId": "b5d5ccbb-1c84-492b-9f02-a415ac3dfcb2",
     "hasError": false,
     "id": "517a0ce5-196f-48b5-a939-c8663ba9d617",
     "outputs": [
      {
       "name": "stdout",
       "output_type": "stream",
       "text": "total 340M\ndrwxrwxr-x 2 olga olga 4.0K Sep 18 09:59 \u001b[0m\u001b[01;34m.\u001b[0m/\ndrwxrwxr-x 3 olga olga 4.0K Sep 10 15:07 \u001b[01;34m..\u001b[0m/\n-rw-rw-r-- 1 olga olga  52M Sep 18 10:05 SRR306838_GSM752691_hsa_br_F_1Aligned.sortedByCoord.out.bam.unspliced.bam\n-rw-rw-r-- 1 olga olga 2.9M Sep 18 10:12 SRR306838_GSM752691_hsa_br_F_1Aligned.sortedByCoord.out.bam.unspliced.bam.bai\n-rw-rw-r-- 1 olga olga 9.3M Sep 18 10:12 SRR306838_GSM752691_hsa_br_F_1Aligned.sortedByCoord.out.bam.unspliced.out_CDS_without_stop_codon_or_utr.bam\n-rw-rw-r-- 1 olga olga  15M Sep 10 15:55 SRR306838_GSM752691_hsa_br_F_1Aligned.sortedByCoord.out_CDS_without_stop_codon.bam\n-rw-rw-r-- 1 olga olga 1.7M Sep 18 07:05 SRR306838_GSM752691_hsa_br_F_1Aligned.sortedByCoord.out_CDS_without_stop_codon.bam.bai\n-rw-rw-r-- 1 olga olga  15M Sep 18 07:15 SRR306838_GSM752691_hsa_br_F_1Aligned.sortedByCoord.out_CDS_without_stop_codon_or_utr.bam\n-rw-rw-r-- 1 olga olga 1.7M Sep 18 07:06 SRR306838_GSM752691_hsa_br_F_1Aligned.sortedByCoord.out_CDS_without_stop_codon_or_utr.bam.bai\n-rw-rw-r-- 1 olga olga 4.1M Sep 18 07:17 SRR306838_GSM752691_hsa_br_F_1Aligned.sortedByCoord.out_CDS_without_stop_codon_or_utr.read_ids.txt\n-rw-rw-r-- 1 olga olga 4.1M Sep 10 15:56 SRR306838_GSM752691_hsa_br_F_1Aligned.sortedByCoord.out_CDS_without_stop_codon.read_ids.txt\n-rw-r--r-- 1 olga olga 235M Sep 10 15:10 SRR306838_GSM752691_hsa_br_F_1_trimmed_k15.tsv\n"
      }
     ],
     "persistentId": "867ca261-98df-4275-bd7b-007d28464c3e",
     "text": "ls -lha $outdir"
    },
    "executionTime": "2019-09-18T17:13:29.713Z"
   },
   {
    "cell": {
     "executionCount": 108,
     "executionEventId": "ca177af0-9a28-4326-9644-cf3fc3126da7",
     "hasError": false,
     "id": "9dddd80d-0f9b-416d-ba73-8e8ed57cd298",
     "outputs": [],
     "persistentId": "5194e001-6f0f-4f80-8577-c6f578038b7f",
     "text": "! samtools index $outdir/SRR306838_GSM752691_hsa_br_F_1Aligned.sortedByCoord.out.bam.unspliced.out_CDS_without_stop_codon_or_utr.bam"
    },
    "executionTime": "2019-09-18T17:13:37.180Z"
   },
   {
    "cell": {
     "executionCount": 109,
     "executionEventId": "9c2caaa7-65bc-471d-9875-eecc4f116bf1",
     "hasError": false,
     "id": "517a0ce5-196f-48b5-a939-c8663ba9d617",
     "outputs": [
      {
       "name": "stdout",
       "output_type": "stream",
       "text": "total 342M\ndrwxrwxr-x 2 olga olga 4.0K Sep 18 10:12 \u001b[0m\u001b[01;34m.\u001b[0m/\ndrwxrwxr-x 3 olga olga 4.0K Sep 10 15:07 \u001b[01;34m..\u001b[0m/\n-rw-rw-r-- 1 olga olga  52M Sep 18 10:05 SRR306838_GSM752691_hsa_br_F_1Aligned.sortedByCoord.out.bam.unspliced.bam\n-rw-rw-r-- 1 olga olga 2.9M Sep 18 10:12 SRR306838_GSM752691_hsa_br_F_1Aligned.sortedByCoord.out.bam.unspliced.bam.bai\n-rw-rw-r-- 1 olga olga 9.3M Sep 18 10:12 SRR306838_GSM752691_hsa_br_F_1Aligned.sortedByCoord.out.bam.unspliced.out_CDS_without_stop_codon_or_utr.bam\n-rw-rw-r-- 1 olga olga 1.9M Sep 18 10:12 SRR306838_GSM752691_hsa_br_F_1Aligned.sortedByCoord.out.bam.unspliced.out_CDS_without_stop_codon_or_utr.bam.bai\n-rw-rw-r-- 1 olga olga  15M Sep 10 15:55 SRR306838_GSM752691_hsa_br_F_1Aligned.sortedByCoord.out_CDS_without_stop_codon.bam\n-rw-rw-r-- 1 olga olga 1.7M Sep 18 07:05 SRR306838_GSM752691_hsa_br_F_1Aligned.sortedByCoord.out_CDS_without_stop_codon.bam.bai\n-rw-rw-r-- 1 olga olga  15M Sep 18 07:15 SRR306838_GSM752691_hsa_br_F_1Aligned.sortedByCoord.out_CDS_without_stop_codon_or_utr.bam\n-rw-rw-r-- 1 olga olga 1.7M Sep 18 07:06 SRR306838_GSM752691_hsa_br_F_1Aligned.sortedByCoord.out_CDS_without_stop_codon_or_utr.bam.bai\n-rw-rw-r-- 1 olga olga 4.1M Sep 18 07:17 SRR306838_GSM752691_hsa_br_F_1Aligned.sortedByCoord.out_CDS_without_stop_codon_or_utr.read_ids.txt\n-rw-rw-r-- 1 olga olga 4.1M Sep 10 15:56 SRR306838_GSM752691_hsa_br_F_1Aligned.sortedByCoord.out_CDS_without_stop_codon.read_ids.txt\n-rw-r--r-- 1 olga olga 235M Sep 10 15:10 SRR306838_GSM752691_hsa_br_F_1_trimmed_k15.tsv\n"
      }
     ],
     "persistentId": "867ca261-98df-4275-bd7b-007d28464c3e",
     "text": "ls -lha $outdir"
    },
    "executionTime": "2019-09-18T17:13:38.837Z"
   },
   {
    "cell": {
     "executionCount": 110,
     "executionEventId": "cd2dbb37-9c92-4e10-b851-636672b6b02b",
     "hasError": false,
     "id": "f0dfbc5d-dccb-41e2-bcb4-d4f45e470bd6",
     "outputs": [
      {
       "name": "stdout",
       "output_type": "stream",
       "text": "[E::hts_open_format] Failed to open file /home/olga/data_sm/kmer-hashing/brawand2011/humanSRR306838_GSM752691_hsa_br_F_1Aligned.sortedByCoord.out_CDS_without_stop_codon_or_utr.bam\nsamtools view: failed to open \"/home/olga/data_sm/kmer-hashing/brawand2011/humanSRR306838_GSM752691_hsa_br_F_1Aligned.sortedByCoord.out_CDS_without_stop_codon_or_utr.bam\" for reading: No such file or directory\n"
      }
     ],
     "persistentId": "2549095e-81b1-46d0-8137-d1b9e709aae1",
     "text": "! samtools view $outdir$coding_bam | cut -f 1 > $outdir/$sample_id\\Aligned.sortedByCoord.out_CDS_without_stop_codon_or_utr.read_ids.txt"
    },
    "executionTime": "2019-09-18T17:14:54.449Z"
   },
   {
    "cell": {
     "executionCount": 111,
     "executionEventId": "d97bc1d3-6cc4-4b37-a8a8-c8abda16fe8f",
     "hasError": false,
     "id": "f0dfbc5d-dccb-41e2-bcb4-d4f45e470bd6",
     "outputs": [],
     "persistentId": "2549095e-81b1-46d0-8137-d1b9e709aae1",
     "text": "! samtools view $outdir/SRR306838_GSM752691_hsa_br_F_1Aligned.sortedByCoord.out.bam.unspliced.out_CDS_without_stop_codon_or_utr.bam | cut -f 1 > $outdir/$sample_id\\Aligned.sortedByCoord.out_CDS_without_stop_codon_or_utr.read_ids.txt"
    },
    "executionTime": "2019-09-18T17:15:06.759Z"
   },
   {
    "cell": {
     "executionCount": 112,
     "executionEventId": "f48dac16-5c49-42ea-9b77-5ed72144718d",
     "hasError": false,
     "id": "f0dfbc5d-dccb-41e2-bcb4-d4f45e470bd6",
     "outputs": [],
     "persistentId": "2549095e-81b1-46d0-8137-d1b9e709aae1",
     "text": "! samtools view $outdir/SRR306838_GSM752691_hsa_br_F_1Aligned.sortedByCoord.out.bam.unspliced.out_CDS_without_stop_codon_or_utr.bam | cut -f 1 > $outdir/SRR306838_GSM752691_hsa_br_F_1Aligned.sortedByCoord.out.bam.unspliced.out_CDS_without_stop_codon_or_utr.read_ids.txt"
    },
    "executionTime": "2019-09-18T17:15:16.957Z"
   },
   {
    "cell": {
     "executionCount": 113,
     "executionEventId": "5e89527e-d188-4b26-b165-e7680ff1c6a8",
     "hasError": false,
     "id": "1ac1fa2c-e9ad-4937-9867-535ec7647008",
     "outputs": [
      {
       "name": "stdout",
       "output_type": "stream",
       "text": "SRR306838.13598607\nSRR306838.23303318\nSRR306838.19917713\nSRR306838.19937719\nSRR306838.20862490\nSRR306838.21924959\nSRR306838.6854298\nSRR306838.22584038\nSRR306838.14605576\nSRR306838.22585585\n"
      }
     ],
     "persistentId": "00b69365-367c-4acc-86ef-a77f6863b989",
     "text": "! head $outdir/SRR306838_GSM752691_hsa_br_F_1Aligned.sortedByCoord.out.bam.unspliced.out_CDS_without_stop_codon_or_utr.read_ids.txt"
    },
    "executionTime": "2019-09-18T17:15:22.858Z"
   },
   {
    "cell": {
     "executionCount": 114,
     "executionEventId": "6f1fd6da-344b-438f-8ffa-5dae6ec7afa8",
     "hasError": false,
     "id": "d5399ba5-36ea-4232-becc-78ebe868c2dd",
     "outputs": [
      {
       "name": "stdout",
       "output_type": "stream",
       "text": "151869 /home/olga/data_sm/kmer-hashing/brawand2011/human/SRR306838_GSM752691_hsa_br_F_1Aligned.sortedByCoord.out.bam.unspliced.out_CDS_without_stop_codon_or_utr.read_ids.txt\n"
      }
     ],
     "persistentId": "8384dda3-7ef9-4301-a114-30a441e42445",
     "text": "! wc -l $outdir/SRR306838_GSM752691_hsa_br_F_1Aligned.sortedByCoord.out.bam.unspliced.out_CDS_without_stop_codon_or_utr.read_ids.txt"
    },
    "executionTime": "2019-09-18T17:15:31.303Z"
   },
   {
    "cell": {
     "executionCount": 115,
     "executionEventId": "d56cf9b1-deb3-495f-8707-6628ccc47cb9",
     "hasError": false,
     "id": "78d1dc51-d29f-4ad8-b15a-e84a27b010f9",
     "outputs": [],
     "persistentId": "e1de5d7b-4f72-4173-b103-02cb281e6f8b",
     "text": "! samtools view $outdir/SRR306838_GSM752691_hsa_br_F_1Aligned.sortedByCoord.out.bam.unspliced.bam | cut -f 1 > $outdir/SRR306838_GSM752691_hsa_br_F_1Aligned.sortedByCoord.out.bam.unspliced.read_ids.txt"
    },
    "executionTime": "2019-09-18T17:16:30.040Z"
   }
  ],
  "kernelspec": {
   "display_name": "Python [conda env:sourmash-sbt2knn]",
   "language": "python",
   "name": "conda-env-sourmash-sbt2knn-py"
  },
  "language_info": {
   "codemirror_mode": {
    "name": "ipython",
    "version": 3
   },
   "file_extension": ".py",
   "mimetype": "text/x-python",
   "name": "python",
   "nbconvert_exporter": "python",
   "pygments_lexer": "ipython3",
   "version": "3.7.3"
  },
  "uuid": "c9ce13db-88d5-46cf-a9ac-d99114a48039"
 },
 "nbformat": 4,
 "nbformat_minor": 4
}
