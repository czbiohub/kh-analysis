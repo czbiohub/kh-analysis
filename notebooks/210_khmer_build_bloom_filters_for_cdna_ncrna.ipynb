{
 "cells": [
  {
   "cell_type": "code",
   "execution_count": 1,
   "metadata": {
    "execution_event_id": "23c28ad4-0bf3-4af8-a661-746b9941ebd2",
    "last_executed_text": "folder = '/home/olga/data_sm/kmer-hashing/classify_coding_vs_noncoding/'",
    "persistent_id": "e49fcd4b-b18e-4fb3-b9b3-3eda5aeb7a6a"
   },
   "outputs": [],
   "source": [
    "folder = '/home/olga/data_sm/kmer-hashing/classify_coding_vs_noncoding/'"
   ]
  },
  {
   "cell_type": "code",
   "execution_count": 2,
   "metadata": {
    "execution_event_id": "bd070692-e114-4a14-9c03-c61a9a339307",
    "last_executed_text": "mkdir $folder",
    "persistent_id": "c177780f-3f3b-4c84-94a6-66360b05fd08"
   },
   "outputs": [],
   "source": [
    "mkdir $folder"
   ]
  },
  {
   "cell_type": "code",
   "execution_count": 3,
   "metadata": {
    "execution_event_id": "27fff1b8-fc7e-45dd-947f-3a64e404ee78",
    "last_executed_text": "cd $folder",
    "persistent_id": "6ac4bae4-47af-493f-a7bd-b6bedf685826"
   },
   "outputs": [
    {
     "name": "stdout",
     "output_type": "stream",
     "text": [
      "/home/seqbot/ibm_sm/olga/kmer-hashing/classify_coding_vs_noncoding\n"
     ]
    }
   ],
   "source": [
    "cd $folder"
   ]
  },
  {
   "cell_type": "markdown",
   "metadata": {
    "persistent_id": "276fec40-e4b8-487f-95af-daa9bf8b274c"
   },
   "source": [
    "## Download CDS, ncRNA, peptide sequences from ENSEMBL"
   ]
  },
  {
   "cell_type": "code",
   "execution_count": 4,
   "metadata": {
    "execution_event_id": "6ec2291f-817e-44f7-ac86-05588a8c8072",
    "last_executed_text": "! wget ftp://ftp.ensembl.org/pub/release-97/fasta/homo_sapiens/cds/Homo_sapiens.GRCh38.cds.all.fa.gz",
    "persistent_id": "5d747a65-fe7b-460e-bcaa-21ba549c8e3b"
   },
   "outputs": [
    {
     "name": "stdout",
     "output_type": "stream",
     "text": [
      "--2019-09-14 06:46:27--  ftp://ftp.ensembl.org/pub/release-97/fasta/homo_sapiens/cds/Homo_sapiens.GRCh38.cds.all.fa.gz\n",
      "           => ‘Homo_sapiens.GRCh38.cds.all.fa.gz’\n",
      "Resolving ftp.ensembl.org (ftp.ensembl.org)... 193.62.193.8\n",
      "Connecting to ftp.ensembl.org (ftp.ensembl.org)|193.62.193.8|:21... connected.\n",
      "Logging in as anonymous ... Logged in!\n",
      "==> SYST ... done.    ==> PWD ... done.\n",
      "==> TYPE I ... done.  ==> CWD (1) /pub/release-97/fasta/homo_sapiens/cds ... done.\n",
      "==> SIZE Homo_sapiens.GRCh38.cds.all.fa.gz ... 21628188\n",
      "==> PASV ... done.    ==> RETR Homo_sapiens.GRCh38.cds.all.fa.gz ... done.\n",
      "Length: 21628188 (21M) (unauthoritative)\n",
      "\n",
      "Homo_sapiens.GRCh38 100%[===================>]  20.63M   326KB/s    in 33s     \n",
      "\n",
      "2019-09-14 06:47:04 (643 KB/s) - ‘Homo_sapiens.GRCh38.cds.all.fa.gz’ saved [21628188]\n",
      "\n"
     ]
    }
   ],
   "source": [
    "! wget ftp://ftp.ensembl.org/pub/release-97/fasta/homo_sapiens/cds/Homo_sapiens.GRCh38.cds.all.fa.gz"
   ]
  },
  {
   "cell_type": "code",
   "execution_count": 5,
   "metadata": {
    "execution_event_id": "3e68dbb1-8a04-4cf1-b6b6-13d5c640f428",
    "last_executed_text": "! wget ftp://ftp.ensembl.org/pub/release-97/fasta/homo_sapiens/ncrna/Homo_sapiens.GRCh38.ncrna.fa.gz",
    "persistent_id": "cc52aca4-5029-4b4e-9c23-1acc8779d6d8"
   },
   "outputs": [
    {
     "name": "stdout",
     "output_type": "stream",
     "text": [
      "--2019-09-14 06:47:04--  ftp://ftp.ensembl.org/pub/release-97/fasta/homo_sapiens/ncrna/Homo_sapiens.GRCh38.ncrna.fa.gz\n",
      "           => ‘Homo_sapiens.GRCh38.ncrna.fa.gz’\n",
      "Resolving ftp.ensembl.org (ftp.ensembl.org)... 193.62.193.8\n",
      "Connecting to ftp.ensembl.org (ftp.ensembl.org)|193.62.193.8|:21... connected.\n",
      "Logging in as anonymous ... Logged in!\n",
      "==> SYST ... done.    ==> PWD ... done.\n",
      "==> TYPE I ... done.  ==> CWD (1) /pub/release-97/fasta/homo_sapiens/ncrna ... done.\n",
      "==> SIZE Homo_sapiens.GRCh38.ncrna.fa.gz ... 16335856\n",
      "==> PASV ... done.    ==> RETR Homo_sapiens.GRCh38.ncrna.fa.gz ... done.\n",
      "Length: 16335856 (16M) (unauthoritative)\n",
      "\n",
      "Homo_sapiens.GRCh38 100%[===================>]  15.58M  1.51MB/s    in 25s     \n",
      "\n",
      "2019-09-14 06:47:32 (649 KB/s) - ‘Homo_sapiens.GRCh38.ncrna.fa.gz’ saved [16335856]\n",
      "\n"
     ]
    }
   ],
   "source": [
    "! wget ftp://ftp.ensembl.org/pub/release-97/fasta/homo_sapiens/ncrna/Homo_sapiens.GRCh38.ncrna.fa.gz"
   ]
  },
  {
   "cell_type": "code",
   "execution_count": 6,
   "metadata": {
    "execution_event_id": "1c4b491c-3236-4281-9fc6-a2b0a03cb2a3",
    "last_executed_text": "! wget ftp://ftp.ensembl.org/pub/release-97/fasta/homo_sapiens/pep/Homo_sapiens.GRCh38.pep.all.fa.gz",
    "persistent_id": "da0c8f4f-baa2-4361-9c16-56dafe01b026"
   },
   "outputs": [
    {
     "name": "stdout",
     "output_type": "stream",
     "text": [
      "--2019-09-14 06:47:32--  ftp://ftp.ensembl.org/pub/release-97/fasta/homo_sapiens/pep/Homo_sapiens.GRCh38.pep.all.fa.gz\n",
      "           => ‘Homo_sapiens.GRCh38.pep.all.fa.gz’\n",
      "Resolving ftp.ensembl.org (ftp.ensembl.org)... 193.62.193.8\n",
      "Connecting to ftp.ensembl.org (ftp.ensembl.org)|193.62.193.8|:21... connected.\n",
      "Logging in as anonymous ... Logged in!\n",
      "==> SYST ... done.    ==> PWD ... done.\n",
      "==> TYPE I ... done.  ==> CWD (1) /pub/release-97/fasta/homo_sapiens/pep ... done.\n",
      "==> SIZE Homo_sapiens.GRCh38.pep.all.fa.gz ... 14155330\n",
      "==> PASV ... done.    ==> RETR Homo_sapiens.GRCh38.pep.all.fa.gz ... done.\n",
      "Length: 14155330 (13M) (unauthoritative)\n",
      "\n",
      "Homo_sapiens.GRCh38 100%[===================>]  13.50M   832KB/s    in 15s     \n",
      "\n",
      "2019-09-14 06:47:50 (943 KB/s) - ‘Homo_sapiens.GRCh38.pep.all.fa.gz’ saved [14155330]\n",
      "\n"
     ]
    }
   ],
   "source": [
    "! wget ftp://ftp.ensembl.org/pub/release-97/fasta/homo_sapiens/pep/Homo_sapiens.GRCh38.pep.all.fa.gz"
   ]
  },
  {
   "cell_type": "code",
   "execution_count": 7,
   "metadata": {
    "execution_event_id": "185108a2-3760-4038-adf4-56c93475ad45",
    "last_executed_text": "\n! /home/olga/miniconda3/envs/khmer-dev/bin/load-graph.py --help",
    "persistent_id": "7e4da3a9-c76b-447c-89b8-21ad0948f40b"
   },
   "outputs": [
    {
     "name": "stdout",
     "output_type": "stream",
     "text": [
      "\n",
      "|| This is the script load-graph.py in khmer.\n",
      "|| You are running khmer version 2.1.2\n",
      "|| You are also using screed version 1.0\n",
      "||\n",
      "|| If you use this script in a publication, please cite EACH of the following:\n",
      "||\n",
      "||   * MR Crusoe et al., 2015. http://dx.doi.org/10.12688/f1000research.6924.1\n",
      "||   * J Pell et al., http://dx.doi.org/10.1073/pnas.1121464109\n",
      "||   * A. Döring et al. http://dx.doi.org:80/10.1186/1471-2105-9-11\n",
      "||\n",
      "|| Please see http://khmer.readthedocs.io/en/latest/citations.html for details.\n",
      "\n",
      "usage: load-graph.py [--version] [--info] [-h] [-k KSIZE] [-U UNIQUE_KMERS]\n",
      "                     [--fp-rate FP_RATE] [-M MAX_MEMORY_USAGE] [-T THREADS]\n",
      "                     [--no-build-tagset] [-f]\n",
      "                     output_nodegraph_filename input_sequence_filename\n",
      "                     [input_sequence_filename ...]\n",
      "\n",
      "Load sequences into the compressible graph format plus optional tagset.\n",
      "\n",
      "positional arguments:\n",
      "  output_nodegraph_filename\n",
      "                        output k-mer nodegraph filename.\n",
      "  input_sequence_filename\n",
      "                        input FAST[AQ] sequence filename\n",
      "\n",
      "optional arguments:\n",
      "  --version             show program's version number and exit\n",
      "  --info                print citation information\n",
      "  -h, --help            show this help message and exit\n",
      "  -k KSIZE, --ksize KSIZE\n",
      "                        k-mer size to use (default: 32)\n",
      "  -U UNIQUE_KMERS, --unique-kmers UNIQUE_KMERS\n",
      "                        approximate number of unique kmers in the input set\n",
      "                        (default: 0)\n",
      "  --fp-rate FP_RATE     Override the automatic FP rate setting for the current\n",
      "                        script (default: None)\n",
      "  -M MAX_MEMORY_USAGE, --max-memory-usage MAX_MEMORY_USAGE\n",
      "                        maximum amount of memory to use for data structure\n",
      "                        (default: None)\n",
      "  -T THREADS, --threads THREADS\n",
      "                        Number of simultaneous threads to execute (default: 1)\n",
      "  --no-build-tagset, -n\n",
      "                        Do NOT construct tagset while loading sequences\n",
      "                        (default: False)\n",
      "  -f, --force           Overwrite output file if it exists (default: False)\n"
     ]
    }
   ],
   "source": [
    "! /home/olga/miniconda3/envs/khmer-dev/bin/load-graph.py --help"
   ]
  },
  {
   "cell_type": "code",
   "execution_count": null,
   "metadata": {
    "execution_event_id": "6d9eb4a3-c65d-4b6f-90de-e0aa07572b6b",
    "last_executed_text": "data_filenames = {'cds': 'Homo_sapiens.GRCh38.cds.all.fa.gz',\n                  'ncrna': 'Homo_sapiens.GRCh38.ncrna.fa.gz'}\n\nksizes = 15, 17, 19, 21, 23, 25, 27, 31",
    "persistent_id": "15f6fd04-d7d9-42a6-afbe-4b3423278990"
   },
   "outputs": [
    {
     "name": "stdout",
     "output_type": "stream",
     "text": [
      "15\n",
      "\tcds\n",
      "\n",
      "|| This is the script load-graph.py in khmer.\n",
      "|| You are running khmer version 2.1.2\n",
      "|| You are also using screed version 1.0\n",
      "||\n",
      "|| If you use this script in a publication, please cite EACH of the following:\n",
      "||\n",
      "||   * MR Crusoe et al., 2015. http://dx.doi.org/10.12688/f1000research.6924.1\n",
      "||   * J Pell et al., http://dx.doi.org/10.1073/pnas.1121464109\n",
      "||   * A. Döring et al. http://dx.doi.org:80/10.1186/1471-2105-9-11\n",
      "||\n",
      "|| Please see http://khmer.readthedocs.io/en/latest/citations.html for details.\n",
      "\n",
      "\n",
      "PARAMETERS:\n",
      " - kmer size =     15 \t\t(-k)\n",
      " - n tables =      4 \t\t(-N)\n",
      " - max tablesize = 3.2e+10 \t(-x)\n",
      "Estimated memory usage is 16.0 Gb (1.6e+10 bytes = 4 bytes x 3.2e+10 entries / 8 entries per byte)\n",
      "--------\n",
      "Saving k-mer nodegraph to human_cds_k15.nodegraph\n",
      "Loading kmers from sequences in ['Homo_sapiens.GRCh38.cds.all.fa.gz']\n",
      "We WILL NOT build the tagset.\n",
      "making nodegraph\n",
      "Total number of unique k-mers: 34235039\n",
      "saving k-mer nodegraph in human_cds_k15.nodegraph\n",
      "false positive rate estimated to be 0.000\n",
      "wrote to human_cds_k15.nodegraph.info and human_cds_k15.nodegraph\n",
      "\tncrna\n",
      "\n",
      "|| This is the script load-graph.py in khmer.\n",
      "|| You are running khmer version 2.1.2\n",
      "|| You are also using screed version 1.0\n",
      "||\n",
      "|| If you use this script in a publication, please cite EACH of the following:\n",
      "||\n",
      "||   * MR Crusoe et al., 2015. http://dx.doi.org/10.12688/f1000research.6924.1\n",
      "||   * J Pell et al., http://dx.doi.org/10.1073/pnas.1121464109\n",
      "||   * A. Döring et al. http://dx.doi.org:80/10.1186/1471-2105-9-11\n",
      "||\n",
      "|| Please see http://khmer.readthedocs.io/en/latest/citations.html for details.\n",
      "\n",
      "\n",
      "PARAMETERS:\n",
      " - kmer size =     15 \t\t(-k)\n",
      " - n tables =      4 \t\t(-N)\n",
      " - max tablesize = 3.2e+10 \t(-x)\n",
      "Estimated memory usage is 16.0 Gb (1.6e+10 bytes = 4 bytes x 3.2e+10 entries / 8 entries per byte)\n",
      "--------\n",
      "Saving k-mer nodegraph to human_ncrna_k15.nodegraph\n",
      "Loading kmers from sequences in ['Homo_sapiens.GRCh38.ncrna.fa.gz']\n",
      "We WILL NOT build the tagset.\n",
      "making nodegraph\n",
      "Total number of unique k-mers: 27257732\n",
      "saving k-mer nodegraph in human_ncrna_k15.nodegraph\n",
      "false positive rate estimated to be 0.000\n",
      "wrote to human_ncrna_k15.nodegraph.info and human_ncrna_k15.nodegraph\n",
      "17\n",
      "\tcds\n",
      "\n",
      "|| This is the script load-graph.py in khmer.\n",
      "|| You are running khmer version 2.1.2\n",
      "|| You are also using screed version 1.0\n",
      "||\n",
      "|| If you use this script in a publication, please cite EACH of the following:\n",
      "||\n",
      "||   * MR Crusoe et al., 2015. http://dx.doi.org/10.12688/f1000research.6924.1\n",
      "||   * J Pell et al., http://dx.doi.org/10.1073/pnas.1121464109\n",
      "||   * A. Döring et al. http://dx.doi.org:80/10.1186/1471-2105-9-11\n",
      "||\n",
      "|| Please see http://khmer.readthedocs.io/en/latest/citations.html for details.\n",
      "\n",
      "\n",
      "PARAMETERS:\n",
      " - kmer size =     17 \t\t(-k)\n",
      " - n tables =      4 \t\t(-N)\n",
      " - max tablesize = 3.2e+10 \t(-x)\n",
      "Estimated memory usage is 16.0 Gb (1.6e+10 bytes = 4 bytes x 3.2e+10 entries / 8 entries per byte)\n",
      "--------\n",
      "Saving k-mer nodegraph to human_cds_k17.nodegraph\n",
      "Loading kmers from sequences in ['Homo_sapiens.GRCh38.cds.all.fa.gz']\n",
      "We WILL NOT build the tagset.\n",
      "making nodegraph\n",
      "Total number of unique k-mers: 38219524\n",
      "saving k-mer nodegraph in human_cds_k17.nodegraph\n",
      "false positive rate estimated to be 0.000\n",
      "wrote to human_cds_k17.nodegraph.info and human_cds_k17.nodegraph\n",
      "\tncrna\n",
      "\n",
      "|| This is the script load-graph.py in khmer.\n",
      "|| You are running khmer version 2.1.2\n",
      "|| You are also using screed version 1.0\n",
      "||\n",
      "|| If you use this script in a publication, please cite EACH of the following:\n",
      "||\n",
      "||   * MR Crusoe et al., 2015. http://dx.doi.org/10.12688/f1000research.6924.1\n",
      "||   * J Pell et al., http://dx.doi.org/10.1073/pnas.1121464109\n",
      "||   * A. Döring et al. http://dx.doi.org:80/10.1186/1471-2105-9-11\n",
      "||\n",
      "|| Please see http://khmer.readthedocs.io/en/latest/citations.html for details.\n",
      "\n",
      "\n",
      "PARAMETERS:\n",
      " - kmer size =     17 \t\t(-k)\n",
      " - n tables =      4 \t\t(-N)\n",
      " - max tablesize = 3.2e+10 \t(-x)\n",
      "Estimated memory usage is 16.0 Gb (1.6e+10 bytes = 4 bytes x 3.2e+10 entries / 8 entries per byte)\n",
      "--------\n",
      "Saving k-mer nodegraph to human_ncrna_k17.nodegraph\n",
      "Loading kmers from sequences in ['Homo_sapiens.GRCh38.ncrna.fa.gz']\n",
      "We WILL NOT build the tagset.\n",
      "making nodegraph\n",
      "Total number of unique k-mers: 30178100\n",
      "saving k-mer nodegraph in human_ncrna_k17.nodegraph\n",
      "false positive rate estimated to be 0.000\n",
      "wrote to human_ncrna_k17.nodegraph.info and human_ncrna_k17.nodegraph\n",
      "19\n",
      "\tcds\n",
      "\n",
      "|| This is the script load-graph.py in khmer.\n",
      "|| You are running khmer version 2.1.2\n",
      "|| You are also using screed version 1.0\n",
      "||\n",
      "|| If you use this script in a publication, please cite EACH of the following:\n",
      "||\n",
      "||   * MR Crusoe et al., 2015. http://dx.doi.org/10.12688/f1000research.6924.1\n",
      "||   * J Pell et al., http://dx.doi.org/10.1073/pnas.1121464109\n",
      "||   * A. Döring et al. http://dx.doi.org:80/10.1186/1471-2105-9-11\n",
      "||\n",
      "|| Please see http://khmer.readthedocs.io/en/latest/citations.html for details.\n",
      "\n",
      "\n",
      "PARAMETERS:\n",
      " - kmer size =     19 \t\t(-k)\n",
      " - n tables =      4 \t\t(-N)\n",
      " - max tablesize = 3.2e+10 \t(-x)\n",
      "Estimated memory usage is 16.0 Gb (1.6e+10 bytes = 4 bytes x 3.2e+10 entries / 8 entries per byte)\n",
      "--------\n",
      "Saving k-mer nodegraph to human_cds_k19.nodegraph\n",
      "Loading kmers from sequences in ['Homo_sapiens.GRCh38.cds.all.fa.gz']\n",
      "We WILL NOT build the tagset.\n",
      "making nodegraph\n",
      "Total number of unique k-mers: 40083203\n",
      "saving k-mer nodegraph in human_cds_k19.nodegraph\n",
      "false positive rate estimated to be 0.000\n",
      "wrote to human_cds_k19.nodegraph.info and human_cds_k19.nodegraph\n",
      "\tncrna\n",
      "\n",
      "|| This is the script load-graph.py in khmer.\n",
      "|| You are running khmer version 2.1.2\n",
      "|| You are also using screed version 1.0\n",
      "||\n",
      "|| If you use this script in a publication, please cite EACH of the following:\n",
      "||\n",
      "||   * MR Crusoe et al., 2015. http://dx.doi.org/10.12688/f1000research.6924.1\n",
      "||   * J Pell et al., http://dx.doi.org/10.1073/pnas.1121464109\n",
      "||   * A. Döring et al. http://dx.doi.org:80/10.1186/1471-2105-9-11\n",
      "||\n",
      "|| Please see http://khmer.readthedocs.io/en/latest/citations.html for details.\n",
      "\n",
      "\n",
      "PARAMETERS:\n",
      " - kmer size =     19 \t\t(-k)\n",
      " - n tables =      4 \t\t(-N)\n",
      " - max tablesize = 3.2e+10 \t(-x)\n",
      "Estimated memory usage is 16.0 Gb (1.6e+10 bytes = 4 bytes x 3.2e+10 entries / 8 entries per byte)\n",
      "--------\n",
      "Saving k-mer nodegraph to human_ncrna_k19.nodegraph\n",
      "Loading kmers from sequences in ['Homo_sapiens.GRCh38.ncrna.fa.gz']\n",
      "We WILL NOT build the tagset.\n",
      "making nodegraph\n"
     ]
    }
   ],
   "source": [
    "data_filenames = {'cds': 'Homo_sapiens.GRCh38.cds.all.fa.gz',\n",
    "                  'ncrna': 'Homo_sapiens.GRCh38.ncrna.fa.gz'}\n",
    "\n",
    "ksizes = 15, 17, 19, 21, 23, 25, 27, 31\n",
    "\n",
    "for ksize in ksizes:\n",
    "    print(f\"--- {ksize} ---\")\n",
    "    for name, filename in data_filenames.items():\n",
    "        print(f'\\t--- {name} ---')\n",
    "        output = f'human_{name}_k{ksize}.nodegraph'\n",
    "        ! /home/olga/miniconda3/envs/khmer-dev/bin/load-graph.py --no-build-tagset -M 16G -k $ksize $output --threads 4 $filename"
   ]
  },
  {
   "cell_type": "code",
   "execution_count": null,
   "metadata": {
    "persistent_id": "bcab0a6e-123d-42e0-91ac-7bf9108a8bd8"
   },
   "outputs": [],
   "source": []
  }
 ],
 "metadata": {
  "history": [
   {
    "cell": {
     "executionCount": 1,
     "executionEventId": "23c28ad4-0bf3-4af8-a661-746b9941ebd2",
     "hasError": false,
     "id": "ad6e09c9-d4b3-4ade-b83e-c7a7fb26ab3b",
     "outputs": [],
     "persistentId": "e49fcd4b-b18e-4fb3-b9b3-3eda5aeb7a6a",
     "text": "folder = '/home/olga/data_sm/kmer-hashing/classify_coding_vs_noncoding/'"
    },
    "executionTime": "2019-09-14T13:45:47.659Z"
   },
   {
    "cell": {
     "executionCount": 2,
     "executionEventId": "bd070692-e114-4a14-9c03-c61a9a339307",
     "hasError": false,
     "id": "567a79fb-dd6c-4d54-94a3-67f89b396b32",
     "outputs": [],
     "persistentId": "c177780f-3f3b-4c84-94a6-66360b05fd08",
     "text": "mkdir $folder"
    },
    "executionTime": "2019-09-14T13:45:51.700Z"
   },
   {
    "cell": {
     "executionCount": 3,
     "executionEventId": "27fff1b8-fc7e-45dd-947f-3a64e404ee78",
     "hasError": false,
     "id": "7bbb2641-9897-4234-bdcc-2760383baaef",
     "outputs": [
      {
       "name": "stdout",
       "output_type": "stream",
       "text": "/home/seqbot/ibm_sm/olga/kmer-hashing/classify_coding_vs_noncoding\n"
      }
     ],
     "persistentId": "6ac4bae4-47af-493f-a7bd-b6bedf685826",
     "text": "cd $folder"
    },
    "executionTime": "2019-09-14T13:45:53.946Z"
   },
   {
    "cell": {
     "executionCount": 4,
     "executionEventId": "6ec2291f-817e-44f7-ac86-05588a8c8072",
     "hasError": false,
     "id": "9e9a866d-e37c-4aab-928b-cf712d3c2b05",
     "outputs": [
      {
       "name": "stdout",
       "output_type": "stream",
       "text": "--2019-09-14 06:46:27--  ftp://ftp.ensembl.org/pub/release-97/fasta/homo_sapiens/cds/Homo_sapiens.GRCh38.cds.all.fa.gz\n           => ‘Homo_sapiens.GRCh38.cds.all.fa.gz’\nResolving ftp.ensembl.org (ftp.ensembl.org)... 193.62.193.8\nConnecting to ftp.ensembl.org (ftp.ensembl.org)|193.62.193.8|:21... connected.\nLogging in as anonymous ... Logged in!\n==> SYST ... done.    ==> PWD ... done.\n==> TYPE I ... done.  ==> CWD (1) /pub/release-97/fasta/homo_sapiens/cds ... done.\n==> SIZE Homo_sapiens.GRCh38.cds.all.fa.gz ... 21628188\n==> PASV ... done.    ==> RETR Homo_sapiens.GRCh38.cds.all.fa.gz ... done.\nLength: 21628188 (21M) (unauthoritative)\n\nHomo_sapiens.GRCh38 100%[===================>]  20.63M   326KB/s    in 33s     \n\n2019-09-14 06:47:04 (643 KB/s) - ‘Homo_sapiens.GRCh38.cds.all.fa.gz’ saved [21628188]\n\n"
      }
     ],
     "persistentId": "5d747a65-fe7b-460e-bcaa-21ba549c8e3b",
     "text": "! wget ftp://ftp.ensembl.org/pub/release-97/fasta/homo_sapiens/cds/Homo_sapiens.GRCh38.cds.all.fa.gz"
    },
    "executionTime": "2019-09-14T13:47:03.820Z"
   },
   {
    "cell": {
     "executionCount": 5,
     "executionEventId": "3e68dbb1-8a04-4cf1-b6b6-13d5c640f428",
     "hasError": false,
     "id": "ba473842-134c-4b53-9132-a2c50ea2654b",
     "outputs": [
      {
       "name": "stdout",
       "output_type": "stream",
       "text": "--2019-09-14 06:47:04--  ftp://ftp.ensembl.org/pub/release-97/fasta/homo_sapiens/ncrna/Homo_sapiens.GRCh38.ncrna.fa.gz\n           => ‘Homo_sapiens.GRCh38.ncrna.fa.gz’\nResolving ftp.ensembl.org (ftp.ensembl.org)... 193.62.193.8\nConnecting to ftp.ensembl.org (ftp.ensembl.org)|193.62.193.8|:21... connected.\nLogging in as anonymous ... Logged in!\n==> SYST ... done.    ==> PWD ... done.\n==> TYPE I ... done.  ==> CWD (1) /pub/release-97/fasta/homo_sapiens/ncrna ... done.\n==> SIZE Homo_sapiens.GRCh38.ncrna.fa.gz ... 16335856\n==> PASV ... done.    ==> RETR Homo_sapiens.GRCh38.ncrna.fa.gz ... done.\nLength: 16335856 (16M) (unauthoritative)\n\nHomo_sapiens.GRCh38 100%[===================>]  15.58M  1.51MB/s    in 25s     \n\n2019-09-14 06:47:32 (649 KB/s) - ‘Homo_sapiens.GRCh38.ncrna.fa.gz’ saved [16335856]\n\n"
      }
     ],
     "persistentId": "cc52aca4-5029-4b4e-9c23-1acc8779d6d8",
     "text": "! wget ftp://ftp.ensembl.org/pub/release-97/fasta/homo_sapiens/ncrna/Homo_sapiens.GRCh38.ncrna.fa.gz"
    },
    "executionTime": "2019-09-14T13:47:31.455Z"
   },
   {
    "cell": {
     "executionCount": 6,
     "executionEventId": "1c4b491c-3236-4281-9fc6-a2b0a03cb2a3",
     "hasError": false,
     "id": "c901214d-ae28-48d3-a5a2-476ecf5d0b5b",
     "outputs": [
      {
       "name": "stdout",
       "output_type": "stream",
       "text": "--2019-09-14 06:47:32--  ftp://ftp.ensembl.org/pub/release-97/fasta/homo_sapiens/pep/Homo_sapiens.GRCh38.pep.all.fa.gz\n           => ‘Homo_sapiens.GRCh38.pep.all.fa.gz’\nResolving ftp.ensembl.org (ftp.ensembl.org)... 193.62.193.8\nConnecting to ftp.ensembl.org (ftp.ensembl.org)|193.62.193.8|:21... connected.\nLogging in as anonymous ... Logged in!\n==> SYST ... done.    ==> PWD ... done.\n==> TYPE I ... done.  ==> CWD (1) /pub/release-97/fasta/homo_sapiens/pep ... done.\n==> SIZE Homo_sapiens.GRCh38.pep.all.fa.gz ... 14155330\n==> PASV ... done.    ==> RETR Homo_sapiens.GRCh38.pep.all.fa.gz ... done.\nLength: 14155330 (13M) (unauthoritative)\n\nHomo_sapiens.GRCh38 100%[===================>]  13.50M   832KB/s    in 15s     \n\n2019-09-14 06:47:50 (943 KB/s) - ‘Homo_sapiens.GRCh38.pep.all.fa.gz’ saved [14155330]\n\n"
      }
     ],
     "persistentId": "da0c8f4f-baa2-4361-9c16-56dafe01b026",
     "text": "! wget ftp://ftp.ensembl.org/pub/release-97/fasta/homo_sapiens/pep/Homo_sapiens.GRCh38.pep.all.fa.gz"
    },
    "executionTime": "2019-09-14T13:47:49.297Z"
   },
   {
    "cell": {
     "executionCount": 7,
     "executionEventId": "185108a2-3760-4038-adf4-56c93475ad45",
     "hasError": false,
     "id": "1ba82bb9-202f-412f-9f89-8a81472849f4",
     "outputs": [
      {
       "name": "stdout",
       "output_type": "stream",
       "text": "\n|| This is the script load-graph.py in khmer.\n|| You are running khmer version 2.1.2\n|| You are also using screed version 1.0\n||\n|| If you use this script in a publication, please cite EACH of the following:\n||\n||   * MR Crusoe et al., 2015. http://dx.doi.org/10.12688/f1000research.6924.1\n||   * J Pell et al., http://dx.doi.org/10.1073/pnas.1121464109\n||   * A. Döring et al. http://dx.doi.org:80/10.1186/1471-2105-9-11\n||\n|| Please see http://khmer.readthedocs.io/en/latest/citations.html for details.\n\nusage: load-graph.py [--version] [--info] [-h] [-k KSIZE] [-U UNIQUE_KMERS]\n                     [--fp-rate FP_RATE] [-M MAX_MEMORY_USAGE] [-T THREADS]\n                     [--no-build-tagset] [-f]\n                     output_nodegraph_filename input_sequence_filename\n                     [input_sequence_filename ...]\n\nLoad sequences into the compressible graph format plus optional tagset.\n\npositional arguments:\n  output_nodegraph_filename\n                        output k-mer nodegraph filename.\n  input_sequence_filename\n                        input FAST[AQ] sequence filename\n\noptional arguments:\n  --version             show program's version number and exit\n  --info                print citation information\n  -h, --help            show this help message and exit\n  -k KSIZE, --ksize KSIZE\n                        k-mer size to use (default: 32)\n  -U UNIQUE_KMERS, --unique-kmers UNIQUE_KMERS\n                        approximate number of unique kmers in the input set\n                        (default: 0)\n  --fp-rate FP_RATE     Override the automatic FP rate setting for the current\n                        script (default: None)\n  -M MAX_MEMORY_USAGE, --max-memory-usage MAX_MEMORY_USAGE\n                        maximum amount of memory to use for data structure\n                        (default: None)\n  -T THREADS, --threads THREADS\n                        Number of simultaneous threads to execute (default: 1)\n  --no-build-tagset, -n\n                        Do NOT construct tagset while loading sequences\n                        (default: False)\n  -f, --force           Overwrite output file if it exists (default: False)\n"
      }
     ],
     "persistentId": "7e4da3a9-c76b-447c-89b8-21ad0948f40b",
     "text": "\n! /home/olga/miniconda3/envs/khmer-dev/bin/load-graph.py --help"
    },
    "executionTime": "2019-09-14T13:47:49.547Z"
   },
   {
    "cell": {
     "executionCount": 8,
     "executionEventId": "26bc61da-b649-45c4-a487-212e4d2e289d",
     "hasError": true,
     "id": "822a3be3-8ec2-4dbd-b106-5171395669a6",
     "outputs": [
      {
       "ename": "NameError",
       "evalue": "name 'ksizes' is not defined",
       "output_type": "error",
       "traceback": [
        "\u001b[0;31m---------------------------------------------------------------------------\u001b[0m",
        "\u001b[0;31mNameError\u001b[0m                                 Traceback (most recent call last)",
        "\u001b[0;32m<ipython-input-8-1fec7edc4f60>\u001b[0m in \u001b[0;36m<module>\u001b[0;34m()\u001b[0m\n\u001b[0;32m----> 1\u001b[0;31m \u001b[0;32mfor\u001b[0m \u001b[0mksize\u001b[0m \u001b[0;32min\u001b[0m \u001b[0mksizes\u001b[0m\u001b[0;34m:\u001b[0m\u001b[0;34m\u001b[0m\u001b[0;34m\u001b[0m\u001b[0m\n\u001b[0m\u001b[1;32m      2\u001b[0m     \u001b[0mprint\u001b[0m\u001b[0;34m(\u001b[0m\u001b[0mksize\u001b[0m\u001b[0;34m)\u001b[0m\u001b[0;34m\u001b[0m\u001b[0;34m\u001b[0m\u001b[0m\n\u001b[1;32m      3\u001b[0m     \u001b[0;32mfor\u001b[0m \u001b[0mname\u001b[0m\u001b[0;34m,\u001b[0m \u001b[0mfilename\u001b[0m \u001b[0;32min\u001b[0m \u001b[0mdata_filenames\u001b[0m\u001b[0;34m.\u001b[0m\u001b[0mitems\u001b[0m\u001b[0;34m(\u001b[0m\u001b[0;34m)\u001b[0m\u001b[0;34m:\u001b[0m\u001b[0;34m\u001b[0m\u001b[0;34m\u001b[0m\u001b[0m\n\u001b[1;32m      4\u001b[0m         \u001b[0mprint\u001b[0m\u001b[0;34m(\u001b[0m\u001b[0;34mf'\\t{name}'\u001b[0m\u001b[0;34m)\u001b[0m\u001b[0;34m\u001b[0m\u001b[0;34m\u001b[0m\u001b[0m\n\u001b[1;32m      5\u001b[0m         \u001b[0moutput\u001b[0m \u001b[0;34m=\u001b[0m \u001b[0;34mf'human_{name}_k{ksize}.nodegraph'\u001b[0m\u001b[0;34m\u001b[0m\u001b[0;34m\u001b[0m\u001b[0m\n",
        "\u001b[0;31mNameError\u001b[0m: name 'ksizes' is not defined"
       ]
      }
     ],
     "persistentId": "037a7822-cc04-44e5-bf05-538b23009e7f",
     "text": "for ksize in ksizes:\n    print(ksize)\n    for name, filename in data_filenames.items():\n        print(f'\\t{name}')\n        output = f'human_{name}_k{ksize}.nodegraph'\n        ! /home/olga/miniconda3/envs/khmer-dev/bin/load-graph.py --ksize $ksize $output --threads 4 $filename"
    },
    "executionTime": "2019-09-14T13:50:44.727Z"
   },
   {
    "cell": {
     "executionCount": 9,
     "executionEventId": "6d9eb4a3-c65d-4b6f-90de-e0aa07572b6b",
     "hasError": false,
     "id": "90cb7ccd-2cc0-4616-a1d7-b14471a73f15",
     "outputs": [],
     "persistentId": "15f6fd04-d7d9-42a6-afbe-4b3423278990",
     "text": "data_filenames = {'cds': 'Homo_sapiens.GRCh38.cds.all.fa.gz',\n                  'ncrna': 'Homo_sapiens.GRCh38.ncrna.fa.gz'}\n\nksizes = 15, 17, 19, 21, 23, 25, 27, 31"
    },
    "executionTime": "2019-09-14T13:50:46.896Z"
   }
  ],
  "kernelspec": {
   "display_name": "Python 3",
   "language": "python",
   "name": "python3"
  },
  "language_info": {
   "codemirror_mode": {
    "name": "ipython",
    "version": 3
   },
   "file_extension": ".py",
   "mimetype": "text/x-python",
   "name": "python",
   "nbconvert_exporter": "python",
   "pygments_lexer": "ipython3",
   "version": "3.6.7"
  },
  "uuid": "357f5cbf-e9f9-4f51-baf6-3760704b64d4"
 },
 "nbformat": 4,
 "nbformat_minor": 4
}
