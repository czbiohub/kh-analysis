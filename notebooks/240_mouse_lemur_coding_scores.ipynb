{
 "cells": [
  {
   "cell_type": "code",
   "execution_count": 7,
   "metadata": {
    "execution_event_id": "23bdebc6-2918-463c-956f-8b6b6abec71a",
    "last_executed_text": "folder = '/home/olga/data_sm/kmer-hashing/classify_coding_vs_noncoding/'",
    "persistent_id": "be8b5206-0d9b-4936-9609-d2c98c47d9e1"
   },
   "outputs": [],
   "source": [
    "folder = '/home/olga/data_sm/kmer-hashing/classify_coding_vs_noncoding/'"
   ]
  },
  {
   "cell_type": "code",
   "execution_count": 1,
   "metadata": {
    "execution_event_id": "25f564ac-811b-4d89-a0fa-431239b1431b",
    "last_executed_text": "cd /mnt/data_sm/olga/kmer-hashing/classify_coding_vs_noncoding/mouse_lemur_B001498_B109060_A8_S8__all_unspliced_reads",
    "persistent_id": "5297a6e5-543a-40fd-9ff3-7a818f2499c3"
   },
   "outputs": [
    {
     "name": "stdout",
     "output_type": "stream",
     "text": [
      "/mnt/data_sm/olga/kmer-hashing/classify_coding_vs_noncoding/mouse_lemur_B001498_B109060_A8_S8__all_unspliced_reads\n"
     ]
    }
   ],
   "source": [
    "cd /mnt/data_sm/olga/kmer-hashing/classify_coding_vs_noncoding/mouse_lemur_B001498_B109060_A8_S8__all_unspliced_reads"
   ]
  },
  {
   "cell_type": "code",
   "execution_count": 2,
   "metadata": {
    "execution_event_id": "54ec704e-7102-4fb4-a93f-afa4c5f5e7ab",
    "last_executed_text": "fastq_folder = '/home/olga/data_sm/tabula-microcebus/rawdata/fastqs/smartseq2/antoine__190812_A00111_0356_AHMHLCDSXX/B001498_B109060_A8_S8'",
    "persistent_id": "1b79f550-b4fb-4d6e-8a10-2970fd4cb65b"
   },
   "outputs": [],
   "source": [
    "fastq_folder = '/home/olga/data_sm/tabula-microcebus/rawdata/fastqs/smartseq2/antoine__190812_A00111_0356_AHMHLCDSXX/B001498_B109060_A8_S8'"
   ]
  },
  {
   "cell_type": "code",
   "execution_count": 4,
   "metadata": {
    "execution_event_id": "ac800404-c45b-4f22-b016-402775f0531c",
    "last_executed_text": "ls -lha $fastq_folder",
    "persistent_id": "88cf1696-2913-4e36-9d52-d87c733c0b80"
   },
   "outputs": [
    {
     "name": "stdout",
     "output_type": "stream",
     "text": [
      "total 283M\n",
      "drwxrwxrwx 2 5008 root 4.0K Oct 22 06:22 \u001b[0m\u001b[34;42m.\u001b[0m/\n",
      "drwxrwxrwx 4 5008 root 4.0K Oct 14 22:39 \u001b[34;42m..\u001b[0m/\n",
      "-rw-rw-r-- 1 olga olga  68M Oct 22 06:22 \u001b[01;31mB001498_B109060_A8_S8_R1_001.fastp_trimmed.fastq.gz\u001b[0m\n",
      "-rwxrwxrwx 1 5008 root  72M Aug 15 15:29 \u001b[01;32mB001498_B109060_A8_S8_R1_001.fastq.gz\u001b[0m*\n",
      "-rw-r--r-- 1 5008 czb  271K Oct 14 16:52 B001498_B109060_A8_S8_R1_001__subsampled.fastq\n",
      "-rw-rw-r-- 1 olga olga  70M Oct 22 06:22 \u001b[01;31mB001498_B109060_A8_S8_R2_001.fastp_trimmed.fastq.gz\u001b[0m\n",
      "-rwxrwxrwx 1 5008 root  74M Aug 15 15:29 \u001b[01;32mB001498_B109060_A8_S8_R2_001.fastq.gz\u001b[0m*\n",
      "-rw-r--r-- 1 5008 czb  271K Oct 14 16:53 B001498_B109060_A8_S8_R2_001__subsampled.fastq\n",
      "-rw-rw-r-- 1 olga olga 454K Oct 22 06:22 fastp.html\n",
      "-rw-rw-r-- 1 olga olga 115K Oct 22 06:22 fastp.json\n"
     ]
    }
   ],
   "source": [
    "ls -lha $fastq_folder"
   ]
  },
  {
   "cell_type": "markdown",
   "metadata": {
    "persistent_id": "1dbbf0df-e00c-4c2e-ad55-657e790bc526"
   },
   "source": [
    "### Link trimmed reads"
   ]
  },
  {
   "cell_type": "code",
   "execution_count": 5,
   "metadata": {
    "execution_event_id": "33e27751-730d-414a-b137-bff2d37c8f8c",
    "last_executed_text": "! ln -s $fastq_folder/B001498_B109060_A8_S8_R1_001.fastp_trimmed.fastq.gz .\n! ln -s $fastq_folder/B001498_B109060_A8_S8_R2_001.fastp_trimmed.fastq.gz .",
    "persistent_id": "02aa7546-3a43-426f-9a12-2604f8bfb646"
   },
   "outputs": [],
   "source": [
    "! ln -s $fastq_folder/B001498_B109060_A8_S8_R1_001.fastp_trimmed.fastq.gz .\n",
    "! ln -s $fastq_folder/B001498_B109060_A8_S8_R2_001.fastp_trimmed.fastq.gz ."
   ]
  },
  {
   "cell_type": "markdown",
   "metadata": {
    "persistent_id": "4505ea28-214a-4d1d-9095-54d11606b5d0"
   },
   "source": [
    "### Link untrimmed reads"
   ]
  },
  {
   "cell_type": "code",
   "execution_count": null,
   "metadata": {
    "persistent_id": "75cca7f7-a10f-473e-b3a0-b7f4861a9a03"
   },
   "outputs": [],
   "source": [
    "! ln -s $fastq_folder/B001498_B109060_A8_S8_R1_001.fastq.gz .\n",
    "! ln -s $fastq_folder/B001498_B109060_A8_S8_R2_001.fastq.gz ."
   ]
  },
  {
   "cell_type": "code",
   "execution_count": 6,
   "metadata": {
    "execution_event_id": "f46999d3-2f0b-435c-b3e2-61b69cb9b669",
    "last_executed_text": "ls -lha",
    "persistent_id": "d9013ec2-4d74-4ae2-b92d-11c99bbf416f"
   },
   "outputs": [
    {
     "name": "stdout",
     "output_type": "stream",
     "text": [
      "total 9.5K\n",
      "drwxrwxr-x 2 olga olga 4.0K Oct 22 07:32 \u001b[0m\u001b[01;34m.\u001b[0m/\n",
      "drwxrwxr-x 5 olga olga 8.0K Oct 22 06:19 \u001b[01;34m..\u001b[0m/\n",
      "lrwxrwxrwx 1 olga olga  174 Oct 22 07:32 \u001b[01;36mB001498_B109060_A8_S8_R1_001.fastp_trimmed.fastq.gz\u001b[0m -> \u001b[01;31m/home/olga/data_sm/tabula-microcebus/rawdata/fastqs/smartseq2/antoine__190812_A00111_0356_AHMHLCDSXX/B001498_B109060_A8_S8/B001498_B109060_A8_S8_R1_001.fastp_trimmed.fastq.gz\u001b[0m\u001b[K\n",
      "lrwxrwxrwx 1 olga olga  174 Oct 22 07:32 \u001b[01;36mB001498_B109060_A8_S8_R2_001.fastp_trimmed.fastq.gz\u001b[0m -> \u001b[01;31m/home/olga/data_sm/tabula-microcebus/rawdata/fastqs/smartseq2/antoine__190812_A00111_0356_AHMHLCDSXX/B001498_B109060_A8_S8/B001498_B109060_A8_S8_R2_001.fastp_trimmed.fastq.gz\u001b[0m\u001b[K\n"
     ]
    }
   ],
   "source": [
    "ls -lha"
   ]
  },
  {
   "cell_type": "code",
   "execution_count": null,
   "metadata": {
    "persistent_id": "dbab1bf0-2836-46e7-99a0-27d1dca0950c"
   },
   "outputs": [],
   "source": []
  },
  {
   "cell_type": "code",
   "execution_count": 9,
   "metadata": {
    "execution_event_id": "f886148f-9ee6-46ff-8a0f-dc70c5c5cf09",
    "last_executed_text": "ls $folder",
    "persistent_id": "e44d63b0-c6a6-422b-a698-da1b48189ad3"
   },
   "outputs": [
    {
     "name": "stdout",
     "output_type": "stream",
     "text": [
      "B001498_B109060_A8_S8_ground_truth_read_ids.txt\n",
      "B001498_B109060_A8_S8_R1_001_ground_truth.fastp_trimmed.fastq\n",
      "B001498_B109060_A8_S8_R1_001_ground_truth.fastp_trimmed_truseq.fastq\n",
      "B001498_B109060_A8_S8_R1_001_ground_truth.fastq\n",
      "B001498_B109060_A8_S8_R1_coding_ground_truth.csv\n",
      "B001498_B109060_A8_S8_R2_001_ground_truth.fastp_trimmed.fastq\n",
      "B001498_B109060_A8_S8_R2_001_ground_truth.fastp_trimmed_truseq.fastq\n",
      "B001498_B109060_A8_S8_R2_001_ground_truth.fastq\n",
      "B001498_B109060_A8_S8_R2_coding_ground_truth.csv\n",
      "fastp.html\n",
      "fastp.json\n",
      "\u001b[0m\u001b[01;31mHomo_sapiens.GRCh38.cds.all.fa.gz\u001b[0m\n",
      "\u001b[01;31mHomo_sapiens.GRCh38.ncrna.fa.gz\u001b[0m\n",
      "\u001b[01;31mHomo_sapiens.GRCh38.pep.all.fa.gz\u001b[0m\n",
      "Homo_sapiens.GRCh38.pep.subset.fa\n",
      "\u001b[01;31mHomo_sapiens.GRCh38.pep.subset.fa.gz\u001b[0m\n",
      "human_cds_k15.nodegraph\n",
      "human_cds_k15.nodegraph.info\n",
      "human_cds_k17.nodegraph\n",
      "human_cds_k17.nodegraph.info\n",
      "human_cds_k19.nodegraph\n",
      "human_cds_k19.nodegraph.info\n",
      "human_cds_k21.nodegraph\n",
      "human_cds_k21.nodegraph.info\n",
      "human_cds_k23.nodegraph\n",
      "human_cds_k23.nodegraph.info\n",
      "human_cds_k25.nodegraph\n",
      "human_cds_k25.nodegraph.info\n",
      "human_cds_k27.nodegraph\n",
      "human_cds_k27.nodegraph.info\n",
      "human_cds_k31.nodegraph\n",
      "human_cds_k31.nodegraph.info\n",
      "human_ncrna_k15.nodegraph\n",
      "human_ncrna_k15.nodegraph.info\n",
      "human_ncrna_k15.nodegraph.tagset\n",
      "human_ncrna_k17.nodegraph\n",
      "human_ncrna_k17.nodegraph.info\n",
      "human_ncrna_k19.nodegraph\n",
      "human_ncrna_k19.nodegraph.info\n",
      "human_ncrna_k21.nodegraph\n",
      "human_ncrna_k21.nodegraph.info\n",
      "human_ncrna_k23.nodegraph\n",
      "human_ncrna_k23.nodegraph.info\n",
      "human_ncrna_k25.nodegraph\n",
      "human_ncrna_k25.nodegraph.info\n",
      "human_ncrna_k27.nodegraph\n",
      "human_ncrna_k27.nodegraph.info\n",
      "human_ncrna_k31.nodegraph\n",
      "human_ncrna_k31.nodegraph.info\n",
      "Lambert_Jolma_Campitelli_etal_2018_human_transcription_factors.csv\n",
      "\u001b[01;34mmouse_lemur_B001498_B109060_A8_S8__all_unspliced_reads\u001b[0m/\n",
      "\u001b[01;34mmouse_lemur_B001498_B109060_A8_S8_test\u001b[0m/\n",
      "\u001b[01;34mmouse_lemur_test\u001b[0m/\n",
      "\u001b[01;31mSRR306838_GSM752691_hsa_br_F_1_trimmed.fq.gz\u001b[0m\n",
      "SRR306838_GSM752691_hsa_br_F_1_trimmed_subsampled.coding_peptides.fasta\n",
      "\u001b[01;31mSRR306838_GSM752691_hsa_br_F_1_trimmed_subsampled.fq.gz\u001b[0m\n",
      "SRR306838_GSM752691_hsa_br_F_1_trimmed_subsampled.low_complexity_nucleotides.fasta\n",
      "SRR306838_GSM752691_hsa_br_F_1_trimmed_subsampled.low_complexity_peptides.fasta\n",
      "SRR306838_GSM752691_hsa_br_F_1_trimmed_subsampled.noncoding_nucleotides.fasta\n"
     ]
    }
   ],
   "source": [
    "ls $folder"
   ]
  },
  {
   "cell_type": "code",
   "execution_count": 12,
   "metadata": {
    "execution_event_id": "0418f78c-94df-4b27-83ad-5bd2ad699ee5",
    "last_executed_text": "!/home/olga/miniconda3/envs/kmer-hashing/bin/khtools partition --help",
    "persistent_id": "69b9420a-a66d-49f1-a5b8-02039874af80"
   },
   "outputs": [
    {
     "name": "stdout",
     "output_type": "stream",
     "text": [
      "Usage: khtools partition [OPTIONS] PEPTIDES [READS]...\n",
      "\n",
      "  Parameters\n",
      "  ----------\n",
      "  reads : str\n",
      "      Sequence file of reads to filter\n",
      "  peptides : str\n",
      "      Sequence file of peptides\n",
      "  peptide_ksize : int\n",
      "      Number of characters in amino acid words\n",
      "\n",
      "  long_reads verbose\n",
      "\n",
      "  Returns\n",
      "  -------\n",
      "\n",
      "Options:\n",
      "  --peptide-ksize INTEGER      K-mer size of the peptide sequence to use.\n",
      "                               Default: 7\n",
      "  --save-peptide-bloom-filter  If specified, save the peptide bloom filter.\n",
      "                               Default filename is the name of the\n",
      "  --peptides-are-bloom-filter  Peptide file is already a bloom filter\n",
      "  --jaccard-threshold FLOAT    Minimum fraction of peptide k-mers from read in\n",
      "                               the peptide database for this read to be called\n",
      "                               a 'coding read'. Default: 0.9\n",
      "  --molecule TEXT              The type of amino acid encoding to use. Default\n",
      "                               is 'protein', but 'dayhoff' or 'hydrophobic-\n",
      "                               polar' can be used\n",
      "  --csv                        Name of csv file to write with all sequence\n",
      "                               reads and their coding scores\n",
      "  --long-reads                 If set, then only considers reading frames\n",
      "                               starting with start codon (ATG) and ending in a\n",
      "                               stop codon (TAG, TAA, TGA)\n",
      "  --verbose                    Print more output\n",
      "  --debug                      Print developer debugger output, including\n",
      "                               warnings\n",
      "  -h, --help                   Show this message and exit.\n"
     ]
    }
   ],
   "source": [
    "!/home/olga/miniconda3/envs/kmer-hashing/bin/khtools partition --help"
   ]
  },
  {
   "cell_type": "markdown",
   "metadata": {
    "persistent_id": "c8f50cd0-17d7-47d1-83d2-2526b4a26d8d"
   },
   "source": [
    "## Run partition on *trimmed* reads"
   ]
  },
  {
   "cell_type": "code",
   "execution_count": null,
   "metadata": {
    "execution_event_id": "b74b7834-0457-4c35-9d2c-24efb277aff2",
    "last_executed_text": "%%time\n\nreads = 'B001498_B109060_A8_S8_R1_001.fastp_trimmed.fastq.gz B001498_B109060_A8_S8_R2_001.fastp_trimmed.fastq.gz'\npeptides = f\"{folder}/Homo_sapiens.GRCh38.pep.all.fa.gz\"\npartition = '/home/olga/miniconda3/envs/kmer-hashing/bin/khtools partition'\n\nfrom itertools import product\n\nksizes = range(4, 22)\nmolecules = 'protein', 'dayhoff', 'hp'\n\nfor ksize, molecule in product(ksizes, molecules):\n    print(f\"ksize: {ksize}, molecule: {molecule}\")\n    ! time $partition --csv --peptide-ksize $ksize --molecule $molecule $peptides $reads",
    "persistent_id": "22c72e98-f4fe-425f-b5cb-297e70a11b4a"
   },
   "outputs": [
    {
     "name": "stdout",
     "output_type": "stream",
     "text": [
      "ksize: 4, molecule: protein\n",
      "Creating peptide bloom filter with file: /home/olga/data_sm/kmer-hashing/classify_coding_vs_noncoding//Homo_sapiens.GRCh38.pep.all.fa.gz\n",
      "Using ksize: 4 and molecule: protein ...\n",
      "\tDone!\n",
      "Writing peptide bloom filter to /home/olga/data_sm/kmer-hashing/classify_coding_vs_noncoding//Homo_sapiens.GRCh38.pep.all.fa.molecule-protein_ksize-4.bloomfilter.nodegraph\n",
      "\tDone!\n",
      "Writing Noncoding nucleotides to B001498_B109060_A8_S8_R1_001.fastp_trimmed.fastq__Homo_sapiens.GRCh38.pep.all.fa.gz__molecule-protein__ksize-4.noncoding_nucleotides.fasta\n",
      "Writing all valid protein-coding translation frames to B001498_B109060_A8_S8_R1_001.fastp_trimmed.fastq__Homo_sapiens.GRCh38.pep.all.fa.gz__molecule-protein__ksize-4.coding_peptides.fasta\n",
      "Writing low complexity (low entropy) nucleotides to B001498_B109060_A8_S8_R1_001.fastp_trimmed.fastq__Homo_sapiens.GRCh38.pep.all.fa.gz__molecule-protein__ksize-4.low_complexity_nucleotides.fasta\n",
      "Writing low complexity (low entropy) peptides to B001498_B109060_A8_S8_R1_001.fastp_trimmed.fastq__Homo_sapiens.GRCh38.pep.all.fa.gz__molecule-protein__ksize-4.low_complexity_peptides.fasta\n",
      "1387571it [10:57, 2109.62it/s]\n",
      "Writing coding scores of reads to B001498_B109060_A8_S8_R1_001.fastp_trimmed.fastq__Homo_sapiens.GRCh38.pep.all.fa.gz__molecule-protein__ksize-4__coding_scores.csv\n",
      "Writing Noncoding nucleotides to B001498_B109060_A8_S8_R2_001.fastp_trimmed.fastq__Homo_sapiens.GRCh38.pep.all.fa.gz__molecule-protein__ksize-4.noncoding_nucleotides.fasta\n",
      "Writing all valid protein-coding translation frames to B001498_B109060_A8_S8_R2_001.fastp_trimmed.fastq__Homo_sapiens.GRCh38.pep.all.fa.gz__molecule-protein__ksize-4.coding_peptides.fasta\n",
      "Writing low complexity (low entropy) nucleotides to B001498_B109060_A8_S8_R2_001.fastp_trimmed.fastq__Homo_sapiens.GRCh38.pep.all.fa.gz__molecule-protein__ksize-4.low_complexity_nucleotides.fasta\n",
      "Writing low complexity (low entropy) peptides to B001498_B109060_A8_S8_R2_001.fastp_trimmed.fastq__Homo_sapiens.GRCh38.pep.all.fa.gz__molecule-protein__ksize-4.low_complexity_peptides.fasta\n",
      "1387571it [10:51, 2130.85it/s]\n",
      "Writing coding scores of reads to B001498_B109060_A8_S8_R2_001.fastp_trimmed.fastq__Homo_sapiens.GRCh38.pep.all.fa.gz__molecule-protein__ksize-4__coding_scores.csv\n",
      "1356.33user 25.30system 23:39.62elapsed 97%CPU (0avgtext+0avgdata 5735940maxresident)k\n",
      "104inputs+11418712outputs (1major+11980378minor)pagefaults 0swaps\n",
      "ksize: 4, molecule: dayhoff\n",
      "Creating peptide bloom filter with file: /home/olga/data_sm/kmer-hashing/classify_coding_vs_noncoding//Homo_sapiens.GRCh38.pep.all.fa.gz\n",
      "Using ksize: 4 and molecule: dayhoff ...\n",
      "\tDone!\n",
      "Writing peptide bloom filter to /home/olga/data_sm/kmer-hashing/classify_coding_vs_noncoding//Homo_sapiens.GRCh38.pep.all.fa.molecule-dayhoff_ksize-4.bloomfilter.nodegraph\n",
      "\tDone!\n",
      "Writing Noncoding nucleotides to B001498_B109060_A8_S8_R1_001.fastp_trimmed.fastq__Homo_sapiens.GRCh38.pep.all.fa.gz__molecule-dayhoff__ksize-4.noncoding_nucleotides.fasta\n",
      "Writing all valid protein-coding translation frames to B001498_B109060_A8_S8_R1_001.fastp_trimmed.fastq__Homo_sapiens.GRCh38.pep.all.fa.gz__molecule-dayhoff__ksize-4.coding_peptides.fasta\n",
      "Writing low complexity (low entropy) nucleotides to B001498_B109060_A8_S8_R1_001.fastp_trimmed.fastq__Homo_sapiens.GRCh38.pep.all.fa.gz__molecule-dayhoff__ksize-4.low_complexity_nucleotides.fasta\n",
      "Writing low complexity (low entropy) peptides to B001498_B109060_A8_S8_R1_001.fastp_trimmed.fastq__Homo_sapiens.GRCh38.pep.all.fa.gz__molecule-dayhoff__ksize-4.low_complexity_peptides.fasta\n",
      "633946it [06:09, 1839.53it/s]"
     ]
    },
    {
     "name": "stderr",
     "output_type": "stream",
     "text": [
      "IOPub message rate exceeded.\n",
      "The notebook server will temporarily stop sending output\n",
      "to the client in order to avoid crashing it.\n",
      "To change this limit, set the config variable\n",
      "`--NotebookApp.iopub_msg_rate_limit`.\n",
      "\n",
      "Current values:\n",
      "NotebookApp.iopub_msg_rate_limit=1000.0 (msgs/sec)\n",
      "NotebookApp.rate_limit_window=3.0 (secs)\n",
      "\n"
     ]
    },
    {
     "name": "stdout",
     "output_type": "stream",
     "text": [
      "1387571it [12:49, 1803.09it/s]\n",
      "Writing coding scores of reads to B001498_B109060_A8_S8_R1_001.fastp_trimmed.fastq__Homo_sapiens.GRCh38.pep.all.fa.gz__molecule-dayhoff__ksize-4__coding_scores.csv\n",
      "Writing Noncoding nucleotides to B001498_B109060_A8_S8_R2_001.fastp_trimmed.fastq__Homo_sapiens.GRCh38.pep.all.fa.gz__molecule-dayhoff__ksize-4.noncoding_nucleotides.fasta\n",
      "Writing all valid protein-coding translation frames to B001498_B109060_A8_S8_R2_001.fastp_trimmed.fastq__Homo_sapiens.GRCh38.pep.all.fa.gz__molecule-dayhoff__ksize-4.coding_peptides.fasta\n",
      "Writing low complexity (low entropy) nucleotides to B001498_B109060_A8_S8_R2_001.fastp_trimmed.fastq__Homo_sapiens.GRCh38.pep.all.fa.gz__molecule-dayhoff__ksize-4.low_complexity_nucleotides.fasta\n",
      "Writing low complexity (low entropy) peptides to B001498_B109060_A8_S8_R2_001.fastp_trimmed.fastq__Homo_sapiens.GRCh38.pep.all.fa.gz__molecule-dayhoff__ksize-4.low_complexity_peptides.fasta\n",
      "1011892it [07:56, 2138.78it/s]"
     ]
    }
   ],
   "source": [
    "%%time\n",
    "\n",
    "reads = 'B001498_B109060_A8_S8_R1_001.fastp_trimmed.fastq.gz B001498_B109060_A8_S8_R2_001.fastp_trimmed.fastq.gz'\n",
    "peptides = f\"{folder}/Homo_sapiens.GRCh38.pep.all.fa.gz\"\n",
    "partition = '/home/olga/miniconda3/envs/kmer-hashing/bin/khtools partition --save-peptide-bloom-filter'\n",
    "\n",
    "from itertools import product\n",
    "\n",
    "ksizes = range(4, 22)\n",
    "molecules = 'protein', 'dayhoff', 'hp'\n",
    "\n",
    "for ksize, molecule in product(ksizes, molecules):\n",
    "    print(f\"ksize: {ksize}, molecule: {molecule}\")\n",
    "    ! time $partition --csv --peptide-ksize $ksize --molecule $molecule $peptides $reads"
   ]
  },
  {
   "cell_type": "markdown",
   "metadata": {
    "persistent_id": "f92702ae-87a4-4ba7-a1ed-91ebc70b3f76"
   },
   "source": [
    "## Run partition on *untrimmed* reads"
   ]
  },
  {
   "cell_type": "code",
   "execution_count": null,
   "metadata": {
    "persistent_id": "5f4433a7-b9ea-446b-973d-56ebfcdc384e"
   },
   "outputs": [],
   "source": [
    "%%time\n",
    "\n",
    "reads = 'B001498_B109060_A8_S8_R1_001.fastq.gz B001498_B109060_A8_S8_R2_001.fastq.gz'\n",
    "peptides = f\"{folder}/Homo_sapiens.GRCh38.pep.all.fa.gz\"\n",
    "partition = '/home/olga/miniconda3/envs/kmer-hashing/bin/khtools partition --save-peptide-bloom-filter'\n",
    "\n",
    "from itertools import product\n",
    "\n",
    "ksizes = range(4, 22)\n",
    "molecules = 'protein', 'dayhoff', 'hp'\n",
    "\n",
    "for ksize, molecule in product(ksizes, molecules):\n",
    "    print(f\"ksize: {ksize}, molecule: {molecule}\")\n",
    "    ! time $partition --csv --peptide-ksize $ksize --molecule $molecule $peptides $reads"
   ]
  },
  {
   "cell_type": "code",
   "execution_count": null,
   "metadata": {
    "persistent_id": "1b1de173-8e72-448d-b8d3-62b7190053cb"
   },
   "outputs": [],
   "source": []
  }
 ],
 "metadata": {
  "history": [
   {
    "cell": {
     "executionCount": 1,
     "executionEventId": "25f564ac-811b-4d89-a0fa-431239b1431b",
     "hasError": false,
     "id": "ed66beed-0efc-494c-b5b7-64ee9cdd0d4d",
     "outputs": [
      {
       "name": "stdout",
       "output_type": "stream",
       "text": "/mnt/data_sm/olga/kmer-hashing/classify_coding_vs_noncoding/mouse_lemur_B001498_B109060_A8_S8__all_unspliced_reads\n"
      }
     ],
     "persistentId": "5297a6e5-543a-40fd-9ff3-7a818f2499c3",
     "text": "cd /mnt/data_sm/olga/kmer-hashing/classify_coding_vs_noncoding/mouse_lemur_B001498_B109060_A8_S8__all_unspliced_reads"
    },
    "executionTime": "2019-10-22T14:32:13.179Z"
   },
   {
    "cell": {
     "executionCount": 2,
     "executionEventId": "54ec704e-7102-4fb4-a93f-afa4c5f5e7ab",
     "hasError": false,
     "id": "922f1359-93b0-43e6-8ff4-25199ba47779",
     "outputs": [],
     "persistentId": "1b79f550-b4fb-4d6e-8a10-2970fd4cb65b",
     "text": "fastq_folder = '/home/olga/data_sm/tabula-microcebus/rawdata/fastqs/smartseq2/antoine__190812_A00111_0356_AHMHLCDSXX/B001498_B109060_A8_S8'"
    },
    "executionTime": "2019-10-22T14:32:36.375Z"
   },
   {
    "cell": {
     "executionCount": 3,
     "executionEventId": "1b99fc59-eb5b-4188-9fd8-0b7e9b8f73a8",
     "hasError": false,
     "id": "a3c68292-2d4a-455a-8b98-eb5b6ec1bc6a",
     "outputs": [
      {
       "name": "stdout",
       "output_type": "stream",
       "text": "\u001b[0m\u001b[01;31mB001498_B109060_A8_S8_R1_001.fastp_trimmed.fastq.gz\u001b[0m\n\u001b[01;32mB001498_B109060_A8_S8_R1_001.fastq.gz\u001b[0m*\nB001498_B109060_A8_S8_R1_001__subsampled.fastq\n\u001b[01;31mB001498_B109060_A8_S8_R2_001.fastp_trimmed.fastq.gz\u001b[0m\n\u001b[01;32mB001498_B109060_A8_S8_R2_001.fastq.gz\u001b[0m*\nB001498_B109060_A8_S8_R2_001__subsampled.fastq\nfastp.html\nfastp.json\n"
      }
     ],
     "persistentId": "88cf1696-2913-4e36-9d52-d87c733c0b80",
     "text": "ls $fastq_folder"
    },
    "executionTime": "2019-10-22T14:32:44.707Z"
   },
   {
    "cell": {
     "executionCount": 4,
     "executionEventId": "ac800404-c45b-4f22-b016-402775f0531c",
     "hasError": false,
     "id": "a3c68292-2d4a-455a-8b98-eb5b6ec1bc6a",
     "outputs": [
      {
       "name": "stdout",
       "output_type": "stream",
       "text": "total 283M\ndrwxrwxrwx 2 5008 root 4.0K Oct 22 06:22 \u001b[0m\u001b[34;42m.\u001b[0m/\ndrwxrwxrwx 4 5008 root 4.0K Oct 14 22:39 \u001b[34;42m..\u001b[0m/\n-rw-rw-r-- 1 olga olga  68M Oct 22 06:22 \u001b[01;31mB001498_B109060_A8_S8_R1_001.fastp_trimmed.fastq.gz\u001b[0m\n-rwxrwxrwx 1 5008 root  72M Aug 15 15:29 \u001b[01;32mB001498_B109060_A8_S8_R1_001.fastq.gz\u001b[0m*\n-rw-r--r-- 1 5008 czb  271K Oct 14 16:52 B001498_B109060_A8_S8_R1_001__subsampled.fastq\n-rw-rw-r-- 1 olga olga  70M Oct 22 06:22 \u001b[01;31mB001498_B109060_A8_S8_R2_001.fastp_trimmed.fastq.gz\u001b[0m\n-rwxrwxrwx 1 5008 root  74M Aug 15 15:29 \u001b[01;32mB001498_B109060_A8_S8_R2_001.fastq.gz\u001b[0m*\n-rw-r--r-- 1 5008 czb  271K Oct 14 16:53 B001498_B109060_A8_S8_R2_001__subsampled.fastq\n-rw-rw-r-- 1 olga olga 454K Oct 22 06:22 fastp.html\n-rw-rw-r-- 1 olga olga 115K Oct 22 06:22 fastp.json\n"
      }
     ],
     "persistentId": "88cf1696-2913-4e36-9d52-d87c733c0b80",
     "text": "ls -lha $fastq_folder"
    },
    "executionTime": "2019-10-22T14:32:48.776Z"
   },
   {
    "cell": {
     "executionCount": 5,
     "executionEventId": "33e27751-730d-414a-b137-bff2d37c8f8c",
     "hasError": false,
     "id": "95c69a19-9a6b-4649-8245-dffd3d24af6c",
     "outputs": [],
     "persistentId": "02aa7546-3a43-426f-9a12-2604f8bfb646",
     "text": "! ln -s $fastq_folder/B001498_B109060_A8_S8_R1_001.fastp_trimmed.fastq.gz .\n! ln -s $fastq_folder/B001498_B109060_A8_S8_R2_001.fastp_trimmed.fastq.gz ."
    },
    "executionTime": "2019-10-22T14:33:19.768Z"
   },
   {
    "cell": {
     "executionCount": 6,
     "executionEventId": "f46999d3-2f0b-435c-b3e2-61b69cb9b669",
     "hasError": false,
     "id": "94a3a07b-3d06-4aa1-8818-772675129398",
     "outputs": [
      {
       "name": "stdout",
       "output_type": "stream",
       "text": "total 9.5K\ndrwxrwxr-x 2 olga olga 4.0K Oct 22 07:32 \u001b[0m\u001b[01;34m.\u001b[0m/\ndrwxrwxr-x 5 olga olga 8.0K Oct 22 06:19 \u001b[01;34m..\u001b[0m/\nlrwxrwxrwx 1 olga olga  174 Oct 22 07:32 \u001b[01;36mB001498_B109060_A8_S8_R1_001.fastp_trimmed.fastq.gz\u001b[0m -> \u001b[01;31m/home/olga/data_sm/tabula-microcebus/rawdata/fastqs/smartseq2/antoine__190812_A00111_0356_AHMHLCDSXX/B001498_B109060_A8_S8/B001498_B109060_A8_S8_R1_001.fastp_trimmed.fastq.gz\u001b[0m\u001b[K\nlrwxrwxrwx 1 olga olga  174 Oct 22 07:32 \u001b[01;36mB001498_B109060_A8_S8_R2_001.fastp_trimmed.fastq.gz\u001b[0m -> \u001b[01;31m/home/olga/data_sm/tabula-microcebus/rawdata/fastqs/smartseq2/antoine__190812_A00111_0356_AHMHLCDSXX/B001498_B109060_A8_S8/B001498_B109060_A8_S8_R2_001.fastp_trimmed.fastq.gz\u001b[0m\u001b[K\n"
      }
     ],
     "persistentId": "d9013ec2-4d74-4ae2-b92d-11c99bbf416f",
     "text": "ls -lha"
    },
    "executionTime": "2019-10-22T14:33:21.289Z"
   },
   {
    "cell": {
     "executionCount": 7,
     "executionEventId": "23bdebc6-2918-463c-956f-8b6b6abec71a",
     "hasError": false,
     "id": "2efc8387-82d8-4e1f-81d3-901fe17b0a5f",
     "outputs": [],
     "persistentId": "be8b5206-0d9b-4936-9609-d2c98c47d9e1",
     "text": "folder = '/home/olga/data_sm/kmer-hashing/classify_coding_vs_noncoding/'"
    },
    "executionTime": "2019-10-22T14:35:54.935Z"
   },
   {
    "cell": {
     "executionCount": 8,
     "executionEventId": "b74b7834-0457-4c35-9d2c-24efb277aff2",
     "hasError": true,
     "id": "c45dfdfd-18c9-42f6-ae31-e32c23eb6c7a",
     "outputs": [
      {
       "name": "stdout",
       "output_type": "stream",
       "text": "ksize: 4, molecule: protein\nCreating peptide bloom filter with file: /home/olga/data_sm/kmer-hashing/classify_coding_vs_noncoding//Homo_sapiens.GRCh38.pep.all.fa.gz\nUsing ksize: 4 and molecule: protein ...\nksize: 4, molecule: dayhoff\n"
      },
      {
       "ename": "UnboundLocalError",
       "evalue": "local variable 'child' referenced before assignment",
       "output_type": "error",
       "traceback": [
        "\u001b[0;31m---------------------------------------------------------------------------\u001b[0m",
        "\u001b[0;31mKeyboardInterrupt\u001b[0m                         Traceback (most recent call last)",
        "\u001b[0;32m~/miniconda3/envs/kmer-hashing/lib/python3.6/site-packages/IPython/utils/_process_posix.py\u001b[0m in \u001b[0;36msystem\u001b[0;34m(self, cmd)\u001b[0m\n\u001b[1;32m    155\u001b[0m             \u001b[0;32melse\u001b[0m\u001b[0;34m:\u001b[0m\u001b[0;34m\u001b[0m\u001b[0;34m\u001b[0m\u001b[0m\n\u001b[0;32m--> 156\u001b[0;31m                 \u001b[0mchild\u001b[0m \u001b[0;34m=\u001b[0m \u001b[0mpexpect\u001b[0m\u001b[0;34m.\u001b[0m\u001b[0mspawn\u001b[0m\u001b[0;34m(\u001b[0m\u001b[0mself\u001b[0m\u001b[0;34m.\u001b[0m\u001b[0msh\u001b[0m\u001b[0;34m,\u001b[0m \u001b[0margs\u001b[0m\u001b[0;34m=\u001b[0m\u001b[0;34m[\u001b[0m\u001b[0;34m'-c'\u001b[0m\u001b[0;34m,\u001b[0m \u001b[0mcmd\u001b[0m\u001b[0;34m]\u001b[0m\u001b[0;34m)\u001b[0m  \u001b[0;31m# Vanilla Pexpect\u001b[0m\u001b[0;34m\u001b[0m\u001b[0;34m\u001b[0m\u001b[0m\n\u001b[0m\u001b[1;32m    157\u001b[0m             \u001b[0mflush\u001b[0m \u001b[0;34m=\u001b[0m \u001b[0msys\u001b[0m\u001b[0;34m.\u001b[0m\u001b[0mstdout\u001b[0m\u001b[0;34m.\u001b[0m\u001b[0mflush\u001b[0m\u001b[0;34m\u001b[0m\u001b[0;34m\u001b[0m\u001b[0m\n",
        "\u001b[0;32m~/miniconda3/envs/kmer-hashing/lib/python3.6/site-packages/pexpect/pty_spawn.py\u001b[0m in \u001b[0;36m__init__\u001b[0;34m(self, command, args, timeout, maxread, searchwindowsize, logfile, cwd, env, ignore_sighup, echo, preexec_fn, encoding, codec_errors, dimensions, use_poll)\u001b[0m\n\u001b[1;32m    203\u001b[0m         \u001b[0;32melse\u001b[0m\u001b[0;34m:\u001b[0m\u001b[0;34m\u001b[0m\u001b[0;34m\u001b[0m\u001b[0m\n\u001b[0;32m--> 204\u001b[0;31m             \u001b[0mself\u001b[0m\u001b[0;34m.\u001b[0m\u001b[0m_spawn\u001b[0m\u001b[0;34m(\u001b[0m\u001b[0mcommand\u001b[0m\u001b[0;34m,\u001b[0m \u001b[0margs\u001b[0m\u001b[0;34m,\u001b[0m \u001b[0mpreexec_fn\u001b[0m\u001b[0;34m,\u001b[0m \u001b[0mdimensions\u001b[0m\u001b[0;34m)\u001b[0m\u001b[0;34m\u001b[0m\u001b[0;34m\u001b[0m\u001b[0m\n\u001b[0m\u001b[1;32m    205\u001b[0m         \u001b[0mself\u001b[0m\u001b[0;34m.\u001b[0m\u001b[0muse_poll\u001b[0m \u001b[0;34m=\u001b[0m \u001b[0muse_poll\u001b[0m\u001b[0;34m\u001b[0m\u001b[0;34m\u001b[0m\u001b[0m\n",
        "\u001b[0;32m~/miniconda3/envs/kmer-hashing/lib/python3.6/site-packages/pexpect/pty_spawn.py\u001b[0m in \u001b[0;36m_spawn\u001b[0;34m(self, command, args, preexec_fn, dimensions)\u001b[0m\n\u001b[1;32m    302\u001b[0m         self.ptyproc = self._spawnpty(self.args, env=self.env,\n\u001b[0;32m--> 303\u001b[0;31m                                      cwd=self.cwd, **kwargs)\n\u001b[0m\u001b[1;32m    304\u001b[0m \u001b[0;34m\u001b[0m\u001b[0m\n",
        "\u001b[0;32m~/miniconda3/envs/kmer-hashing/lib/python3.6/site-packages/pexpect/pty_spawn.py\u001b[0m in \u001b[0;36m_spawnpty\u001b[0;34m(self, args, **kwargs)\u001b[0m\n\u001b[1;32m    313\u001b[0m         \u001b[0;34m'''Spawn a pty and return an instance of PtyProcess.'''\u001b[0m\u001b[0;34m\u001b[0m\u001b[0;34m\u001b[0m\u001b[0m\n\u001b[0;32m--> 314\u001b[0;31m         \u001b[0;32mreturn\u001b[0m \u001b[0mptyprocess\u001b[0m\u001b[0;34m.\u001b[0m\u001b[0mPtyProcess\u001b[0m\u001b[0;34m.\u001b[0m\u001b[0mspawn\u001b[0m\u001b[0;34m(\u001b[0m\u001b[0margs\u001b[0m\u001b[0;34m,\u001b[0m \u001b[0;34m**\u001b[0m\u001b[0mkwargs\u001b[0m\u001b[0;34m)\u001b[0m\u001b[0;34m\u001b[0m\u001b[0;34m\u001b[0m\u001b[0m\n\u001b[0m\u001b[1;32m    315\u001b[0m \u001b[0;34m\u001b[0m\u001b[0m\n",
        "\u001b[0;32m~/miniconda3/envs/kmer-hashing/lib/python3.6/site-packages/ptyprocess/ptyprocess.py\u001b[0m in \u001b[0;36mspawn\u001b[0;34m(cls, argv, cwd, env, echo, preexec_fn, dimensions)\u001b[0m\n\u001b[1;32m    308\u001b[0m         \u001b[0mos\u001b[0m\u001b[0;34m.\u001b[0m\u001b[0mclose\u001b[0m\u001b[0;34m(\u001b[0m\u001b[0mexec_err_pipe_write\u001b[0m\u001b[0;34m)\u001b[0m\u001b[0;34m\u001b[0m\u001b[0;34m\u001b[0m\u001b[0m\n\u001b[0;32m--> 309\u001b[0;31m         \u001b[0mexec_err_data\u001b[0m \u001b[0;34m=\u001b[0m \u001b[0mos\u001b[0m\u001b[0;34m.\u001b[0m\u001b[0mread\u001b[0m\u001b[0;34m(\u001b[0m\u001b[0mexec_err_pipe_read\u001b[0m\u001b[0;34m,\u001b[0m \u001b[0;36m4096\u001b[0m\u001b[0;34m)\u001b[0m\u001b[0;34m\u001b[0m\u001b[0;34m\u001b[0m\u001b[0m\n\u001b[0m\u001b[1;32m    310\u001b[0m         \u001b[0mos\u001b[0m\u001b[0;34m.\u001b[0m\u001b[0mclose\u001b[0m\u001b[0;34m(\u001b[0m\u001b[0mexec_err_pipe_read\u001b[0m\u001b[0;34m)\u001b[0m\u001b[0;34m\u001b[0m\u001b[0;34m\u001b[0m\u001b[0m\n",
        "\u001b[0;31mKeyboardInterrupt\u001b[0m: ",
        "\nDuring handling of the above exception, another exception occurred:\n",
        "\u001b[0;31mUnboundLocalError\u001b[0m                         Traceback (most recent call last)",
        "\u001b[0;32m<timed exec>\u001b[0m in \u001b[0;36m<module>\u001b[0;34m()\u001b[0m\n",
        "\u001b[0;32m~/miniconda3/envs/kmer-hashing/lib/python3.6/site-packages/IPython/core/interactiveshell.py\u001b[0m in \u001b[0;36msystem_piped\u001b[0;34m(self, cmd)\u001b[0m\n\u001b[1;32m   2259\u001b[0m         \u001b[0;31m# a non-None value would trigger :func:`sys.displayhook` calls.\u001b[0m\u001b[0;34m\u001b[0m\u001b[0;34m\u001b[0m\u001b[0;34m\u001b[0m\u001b[0m\n\u001b[1;32m   2260\u001b[0m         \u001b[0;31m# Instead, we store the exit_code in user_ns.\u001b[0m\u001b[0;34m\u001b[0m\u001b[0;34m\u001b[0m\u001b[0;34m\u001b[0m\u001b[0m\n\u001b[0;32m-> 2261\u001b[0;31m         \u001b[0mself\u001b[0m\u001b[0;34m.\u001b[0m\u001b[0muser_ns\u001b[0m\u001b[0;34m[\u001b[0m\u001b[0;34m'_exit_code'\u001b[0m\u001b[0;34m]\u001b[0m \u001b[0;34m=\u001b[0m \u001b[0msystem\u001b[0m\u001b[0;34m(\u001b[0m\u001b[0mself\u001b[0m\u001b[0;34m.\u001b[0m\u001b[0mvar_expand\u001b[0m\u001b[0;34m(\u001b[0m\u001b[0mcmd\u001b[0m\u001b[0;34m,\u001b[0m \u001b[0mdepth\u001b[0m\u001b[0;34m=\u001b[0m\u001b[0;36m1\u001b[0m\u001b[0;34m)\u001b[0m\u001b[0;34m)\u001b[0m\u001b[0;34m\u001b[0m\u001b[0;34m\u001b[0m\u001b[0m\n\u001b[0m\u001b[1;32m   2262\u001b[0m \u001b[0;34m\u001b[0m\u001b[0m\n\u001b[1;32m   2263\u001b[0m     \u001b[0;32mdef\u001b[0m \u001b[0msystem_raw\u001b[0m\u001b[0;34m(\u001b[0m\u001b[0mself\u001b[0m\u001b[0;34m,\u001b[0m \u001b[0mcmd\u001b[0m\u001b[0;34m)\u001b[0m\u001b[0;34m:\u001b[0m\u001b[0;34m\u001b[0m\u001b[0;34m\u001b[0m\u001b[0m\n",
        "\u001b[0;32m~/miniconda3/envs/kmer-hashing/lib/python3.6/site-packages/IPython/utils/_process_posix.py\u001b[0m in \u001b[0;36msystem\u001b[0;34m(self, cmd)\u001b[0m\n\u001b[1;32m    170\u001b[0m             \u001b[0;31m# (the character is known as ETX for 'End of Text', see\u001b[0m\u001b[0;34m\u001b[0m\u001b[0;34m\u001b[0m\u001b[0;34m\u001b[0m\u001b[0m\n\u001b[1;32m    171\u001b[0m             \u001b[0;31m# curses.ascii.ETX).\u001b[0m\u001b[0;34m\u001b[0m\u001b[0;34m\u001b[0m\u001b[0;34m\u001b[0m\u001b[0m\n\u001b[0;32m--> 172\u001b[0;31m             \u001b[0mchild\u001b[0m\u001b[0;34m.\u001b[0m\u001b[0msendline\u001b[0m\u001b[0;34m(\u001b[0m\u001b[0mchr\u001b[0m\u001b[0;34m(\u001b[0m\u001b[0;36m3\u001b[0m\u001b[0;34m)\u001b[0m\u001b[0;34m)\u001b[0m\u001b[0;34m\u001b[0m\u001b[0;34m\u001b[0m\u001b[0m\n\u001b[0m\u001b[1;32m    173\u001b[0m             \u001b[0;31m# Read and print any more output the program might produce on its\u001b[0m\u001b[0;34m\u001b[0m\u001b[0;34m\u001b[0m\u001b[0;34m\u001b[0m\u001b[0m\n\u001b[1;32m    174\u001b[0m             \u001b[0;31m# way out.\u001b[0m\u001b[0;34m\u001b[0m\u001b[0;34m\u001b[0m\u001b[0;34m\u001b[0m\u001b[0m\n",
        "\u001b[0;31mUnboundLocalError\u001b[0m: local variable 'child' referenced before assignment"
       ]
      }
     ],
     "persistentId": "22c72e98-f4fe-425f-b5cb-297e70a11b4a",
     "text": "%%time\n\nreads = 'B001498_B109060_A8_S8_R1_001.fastp_trimmed.fastq.gz B001498_B109060_A8_S8_R2_001.fastp_trimmed.fastq.gz'\npeptides = f\"{folder}/Homo_sapiens.GRCh38.pep.all.fa.gz\"\npartition = '/home/olga/miniconda3/envs/kmer-hashing/bin/khtools partition'\n\nfrom itertools import product\n\nksizes = range(4, 22)\nmolecules = 'protein', 'dayhoff', 'hp'\n\nfor ksize, molecule in product(ksizes, molecules):\n    print(f\"ksize: {ksize}, molecule: {molecule}\")\n    ! time $partition --csv --peptide-ksize $ksize --molecule $molecule $peptides $reads"
    },
    "executionTime": "2019-10-22T14:36:28.135Z"
   },
   {
    "cell": {
     "executionCount": 9,
     "executionEventId": "f886148f-9ee6-46ff-8a0f-dc70c5c5cf09",
     "hasError": false,
     "id": "30bf0d7a-1d77-4d32-8e83-294de5f74887",
     "outputs": [
      {
       "name": "stdout",
       "output_type": "stream",
       "text": "B001498_B109060_A8_S8_ground_truth_read_ids.txt\nB001498_B109060_A8_S8_R1_001_ground_truth.fastp_trimmed.fastq\nB001498_B109060_A8_S8_R1_001_ground_truth.fastp_trimmed_truseq.fastq\nB001498_B109060_A8_S8_R1_001_ground_truth.fastq\nB001498_B109060_A8_S8_R1_coding_ground_truth.csv\nB001498_B109060_A8_S8_R2_001_ground_truth.fastp_trimmed.fastq\nB001498_B109060_A8_S8_R2_001_ground_truth.fastp_trimmed_truseq.fastq\nB001498_B109060_A8_S8_R2_001_ground_truth.fastq\nB001498_B109060_A8_S8_R2_coding_ground_truth.csv\nfastp.html\nfastp.json\n\u001b[0m\u001b[01;31mHomo_sapiens.GRCh38.cds.all.fa.gz\u001b[0m\n\u001b[01;31mHomo_sapiens.GRCh38.ncrna.fa.gz\u001b[0m\n\u001b[01;31mHomo_sapiens.GRCh38.pep.all.fa.gz\u001b[0m\nHomo_sapiens.GRCh38.pep.subset.fa\n\u001b[01;31mHomo_sapiens.GRCh38.pep.subset.fa.gz\u001b[0m\nhuman_cds_k15.nodegraph\nhuman_cds_k15.nodegraph.info\nhuman_cds_k17.nodegraph\nhuman_cds_k17.nodegraph.info\nhuman_cds_k19.nodegraph\nhuman_cds_k19.nodegraph.info\nhuman_cds_k21.nodegraph\nhuman_cds_k21.nodegraph.info\nhuman_cds_k23.nodegraph\nhuman_cds_k23.nodegraph.info\nhuman_cds_k25.nodegraph\nhuman_cds_k25.nodegraph.info\nhuman_cds_k27.nodegraph\nhuman_cds_k27.nodegraph.info\nhuman_cds_k31.nodegraph\nhuman_cds_k31.nodegraph.info\nhuman_ncrna_k15.nodegraph\nhuman_ncrna_k15.nodegraph.info\nhuman_ncrna_k15.nodegraph.tagset\nhuman_ncrna_k17.nodegraph\nhuman_ncrna_k17.nodegraph.info\nhuman_ncrna_k19.nodegraph\nhuman_ncrna_k19.nodegraph.info\nhuman_ncrna_k21.nodegraph\nhuman_ncrna_k21.nodegraph.info\nhuman_ncrna_k23.nodegraph\nhuman_ncrna_k23.nodegraph.info\nhuman_ncrna_k25.nodegraph\nhuman_ncrna_k25.nodegraph.info\nhuman_ncrna_k27.nodegraph\nhuman_ncrna_k27.nodegraph.info\nhuman_ncrna_k31.nodegraph\nhuman_ncrna_k31.nodegraph.info\nLambert_Jolma_Campitelli_etal_2018_human_transcription_factors.csv\n\u001b[01;34mmouse_lemur_B001498_B109060_A8_S8__all_unspliced_reads\u001b[0m/\n\u001b[01;34mmouse_lemur_B001498_B109060_A8_S8_test\u001b[0m/\n\u001b[01;34mmouse_lemur_test\u001b[0m/\n\u001b[01;31mSRR306838_GSM752691_hsa_br_F_1_trimmed.fq.gz\u001b[0m\nSRR306838_GSM752691_hsa_br_F_1_trimmed_subsampled.coding_peptides.fasta\n\u001b[01;31mSRR306838_GSM752691_hsa_br_F_1_trimmed_subsampled.fq.gz\u001b[0m\nSRR306838_GSM752691_hsa_br_F_1_trimmed_subsampled.low_complexity_nucleotides.fasta\nSRR306838_GSM752691_hsa_br_F_1_trimmed_subsampled.low_complexity_peptides.fasta\nSRR306838_GSM752691_hsa_br_F_1_trimmed_subsampled.noncoding_nucleotides.fasta\n"
      }
     ],
     "persistentId": "e44d63b0-c6a6-422b-a698-da1b48189ad3",
     "text": "ls $folder"
    },
    "executionTime": "2019-10-22T14:36:39.191Z"
   },
   {
    "cell": {
     "executionCount": 10,
     "executionEventId": "8ad7eba7-1198-4f7e-9234-2d32bea7b891",
     "hasError": true,
     "id": "fb9f87f7-2146-4900-846e-788800b6217c",
     "outputs": [
      {
       "ename": "SyntaxError",
       "evalue": "invalid syntax (<ipython-input-10-61dcf0c314a7>, line 1)",
       "output_type": "error",
       "traceback": [
        "\u001b[0;36m  File \u001b[0;32m\"<ipython-input-10-61dcf0c314a7>\"\u001b[0;36m, line \u001b[0;32m1\u001b[0m\n\u001b[0;31m    home(/olga/miniconda3/envs/kmer-hashing/bin/khtools, partition)\u001b[0m\n\u001b[0m         ^\u001b[0m\n\u001b[0;31mSyntaxError\u001b[0m\u001b[0;31m:\u001b[0m invalid syntax\n"
       ]
      }
     ],
     "persistentId": "69b9420a-a66d-49f1-a5b8-02039874af80",
     "text": "/home/olga/miniconda3/envs/kmer-hashing/bin/khtools partition"
    },
    "executionTime": "2019-10-22T14:36:56.646Z"
   },
   {
    "cell": {
     "executionCount": 11,
     "executionEventId": "4f53468a-94ad-43cf-a3be-335c7515d9dc",
     "hasError": false,
     "id": "fb9f87f7-2146-4900-846e-788800b6217c",
     "outputs": [
      {
       "name": "stdout",
       "output_type": "stream",
       "text": "Usage: khtools partition [OPTIONS] PEPTIDES [READS]...\nTry \"khtools partition -h\" for help.\n\nError: Missing argument \"PEPTIDES\".\n"
      }
     ],
     "persistentId": "69b9420a-a66d-49f1-a5b8-02039874af80",
     "text": "!/home/olga/miniconda3/envs/kmer-hashing/bin/khtools partition"
    },
    "executionTime": "2019-10-22T14:37:01.155Z"
   },
   {
    "cell": {
     "executionCount": 12,
     "executionEventId": "0418f78c-94df-4b27-83ad-5bd2ad699ee5",
     "hasError": false,
     "id": "fb9f87f7-2146-4900-846e-788800b6217c",
     "outputs": [
      {
       "name": "stdout",
       "output_type": "stream",
       "text": "Usage: khtools partition [OPTIONS] PEPTIDES [READS]...\n\n  Parameters\n  ----------\n  reads : str\n      Sequence file of reads to filter\n  peptides : str\n      Sequence file of peptides\n  peptide_ksize : int\n      Number of characters in amino acid words\n\n  long_reads verbose\n\n  Returns\n  -------\n\nOptions:\n  --peptide-ksize INTEGER      K-mer size of the peptide sequence to use.\n                               Default: 7\n  --save-peptide-bloom-filter  If specified, save the peptide bloom filter.\n                               Default filename is the name of the\n  --peptides-are-bloom-filter  Peptide file is already a bloom filter\n  --jaccard-threshold FLOAT    Minimum fraction of peptide k-mers from read in\n                               the peptide database for this read to be called\n                               a 'coding read'. Default: 0.9\n  --molecule TEXT              The type of amino acid encoding to use. Default\n                               is 'protein', but 'dayhoff' or 'hydrophobic-\n                               polar' can be used\n  --csv                        Name of csv file to write with all sequence\n                               reads and their coding scores\n  --long-reads                 If set, then only considers reading frames\n                               starting with start codon (ATG) and ending in a\n                               stop codon (TAG, TAA, TGA)\n  --verbose                    Print more output\n  --debug                      Print developer debugger output, including\n                               warnings\n  -h, --help                   Show this message and exit.\n"
      }
     ],
     "persistentId": "69b9420a-a66d-49f1-a5b8-02039874af80",
     "text": "!/home/olga/miniconda3/envs/kmer-hashing/bin/khtools partition --help"
    },
    "executionTime": "2019-10-22T14:37:05.913Z"
   }
  ],
  "kernelspec": {
   "display_name": "Python [conda env:kmer-hashing]",
   "language": "python",
   "name": "conda-env-kmer-hashing-py"
  },
  "language_info": {
   "codemirror_mode": {
    "name": "ipython",
    "version": 3
   },
   "file_extension": ".py",
   "mimetype": "text/x-python",
   "name": "python",
   "nbconvert_exporter": "python",
   "pygments_lexer": "ipython3",
   "version": "3.6.8"
  },
  "uuid": "fdc51e43-e008-4a6b-8612-dbb03b05fa98"
 },
 "nbformat": 4,
 "nbformat_minor": 4
}
