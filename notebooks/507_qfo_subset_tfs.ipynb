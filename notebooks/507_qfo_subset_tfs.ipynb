{
 "cells": [
  {
   "cell_type": "code",
   "execution_count": 98,
   "metadata": {},
   "outputs": [],
   "source": [
    "from glob import iglob\n",
    "import os\n",
    "\n",
    "import pandas as pd\n",
    "import screed\n",
    "import seaborn as sns\n",
    "import tqdm"
   ]
  },
  {
   "cell_type": "code",
   "execution_count": 2,
   "metadata": {},
   "outputs": [
    {
     "name": "stdout",
     "output_type": "stream",
     "text": [
      "/mnt/data_sm/olga/kmer-hashing/quest-for-orthologs/analysis/2019\n"
     ]
    }
   ],
   "source": [
    "cd ~/data_sm/kmer-hashing/quest-for-orthologs/analysis/2019/"
   ]
  },
  {
   "cell_type": "code",
   "execution_count": 3,
   "metadata": {},
   "outputs": [
    {
     "name": "stdout",
     "output_type": "stream",
     "text": [
      "total 6.3M\n",
      "drwxr-xr-x 3 olga czb 4.0K Jan  8 07:43 \u001b[0m\u001b[01;34m.\u001b[0m/\n",
      "drwxr-xr-x 3 olga czb 4.0K Dec 25 19:12 \u001b[01;34m..\u001b[0m/\n",
      "-rw-r--r-- 1 olga czb 6.2M Sep  6  2018 \u001b[01;31mGO.83ebff415cfec35b9ae1888e.tsv.gz\u001b[0m\n",
      "drwxr-xr-x 2 olga czb 128K Jan  8 07:42 \u001b[01;34mintermediates\u001b[0m/\n"
     ]
    }
   ],
   "source": [
    "ls -lha"
   ]
  },
  {
   "cell_type": "markdown",
   "metadata": {},
   "source": [
    "# Download orthology and transcription factor data"
   ]
  },
  {
   "cell_type": "markdown",
   "metadata": {},
   "source": [
    "## Download OMA GETHOGs benchmark results\n",
    "\n",
    "This had the most number of ortholog pairs of all the services submitted to the [Quest for Orthologs' benchmarking service - Gene Ontology Conservation test](https://orthology.benchmarkservice.org/cgi-bin/gateway.pl?f=CheckResults&p1=10f28e6c09fd6acc1a90ade6)"
   ]
  },
  {
   "cell_type": "code",
   "execution_count": 4,
   "metadata": {},
   "outputs": [],
   "source": [
    "# ! wget https://orthology.benchmarkservice.org/raw//GO/GO.83ebff415cfec35b9ae1888e.tsv.gz\n",
    "# ! zcat GO.83ebff415cfec35b9ae1888e.tsv.gz | head"
   ]
  },
  {
   "cell_type": "code",
   "execution_count": 5,
   "metadata": {},
   "outputs": [
    {
     "name": "stdout",
     "output_type": "stream",
     "text": [
      "(927900, 3)\n"
     ]
    },
    {
     "data": {
      "text/html": [
       "<div>\n",
       "<style scoped>\n",
       "    .dataframe tbody tr th:only-of-type {\n",
       "        vertical-align: middle;\n",
       "    }\n",
       "\n",
       "    .dataframe tbody tr th {\n",
       "        vertical-align: top;\n",
       "    }\n",
       "\n",
       "    .dataframe thead th {\n",
       "        text-align: right;\n",
       "    }\n",
       "</style>\n",
       "<table border=\"1\" class=\"dataframe\">\n",
       "  <thead>\n",
       "    <tr style=\"text-align: right;\">\n",
       "      <th></th>\n",
       "      <th>protein_id1</th>\n",
       "      <th>protein_id2</th>\n",
       "      <th>go_similarity</th>\n",
       "    </tr>\n",
       "  </thead>\n",
       "  <tbody>\n",
       "    <tr>\n",
       "      <th>0</th>\n",
       "      <td>Q5JCX3</td>\n",
       "      <td>P07650</td>\n",
       "      <td>0.373544</td>\n",
       "    </tr>\n",
       "    <tr>\n",
       "      <th>1</th>\n",
       "      <td>Q5JCX3</td>\n",
       "      <td>P19971</td>\n",
       "      <td>0.467737</td>\n",
       "    </tr>\n",
       "    <tr>\n",
       "      <th>2</th>\n",
       "      <td>Q5JDA9</td>\n",
       "      <td>O67379</td>\n",
       "      <td>1.000000</td>\n",
       "    </tr>\n",
       "    <tr>\n",
       "      <th>3</th>\n",
       "      <td>Q5JF32</td>\n",
       "      <td>Q9DEA3</td>\n",
       "      <td>0.460952</td>\n",
       "    </tr>\n",
       "    <tr>\n",
       "      <th>4</th>\n",
       "      <td>Q5JF32</td>\n",
       "      <td>P17918</td>\n",
       "      <td>0.575735</td>\n",
       "    </tr>\n",
       "  </tbody>\n",
       "</table>\n",
       "</div>"
      ],
      "text/plain": [
       "  protein_id1 protein_id2  go_similarity\n",
       "0      Q5JCX3      P07650       0.373544\n",
       "1      Q5JCX3      P19971       0.467737\n",
       "2      Q5JDA9      O67379       1.000000\n",
       "3      Q5JF32      Q9DEA3       0.460952\n",
       "4      Q5JF32      P17918       0.575735"
      ]
     },
     "execution_count": 5,
     "metadata": {},
     "output_type": "execute_result"
    }
   ],
   "source": [
    "oma = pd.read_csv('GO.83ebff415cfec35b9ae1888e.tsv.gz', sep='\\t', skiprows=2, header=None)\n",
    "oma.columns = ['protein_id1', 'protein_id2', 'go_similarity']\n",
    "print(oma.shape)\n",
    "oma.head()"
   ]
  },
  {
   "cell_type": "code",
   "execution_count": 6,
   "metadata": {},
   "outputs": [
    {
     "data": {
      "text/plain": [
       "<matplotlib.axes._subplots.AxesSubplot at 0x7f892508b5e0>"
      ]
     },
     "execution_count": 6,
     "metadata": {},
     "output_type": "execute_result"
    },
    {
     "data": {
      "image/png": "[encoded data removed]",
      "text/plain": [
       "<Figure size 432x288 with 1 Axes>"
      ]
     },
     "metadata": {
      "needs_background": "light"
     },
     "output_type": "display_data"
    }
   ],
   "source": [
    "sns.distplot(oma.go_similarity)"
   ]
  },
  {
   "cell_type": "markdown",
   "metadata": {},
   "source": [
    "## Read transcription factors "
   ]
  },
  {
   "cell_type": "code",
   "execution_count": 7,
   "metadata": {},
   "outputs": [
    {
     "name": "stdout",
     "output_type": "stream",
     "text": [
      "(1639, 5)\n"
     ]
    },
    {
     "data": {
      "text/html": [
       "<div>\n",
       "<style scoped>\n",
       "    .dataframe tbody tr th:only-of-type {\n",
       "        vertical-align: middle;\n",
       "    }\n",
       "\n",
       "    .dataframe tbody tr th {\n",
       "        vertical-align: top;\n",
       "    }\n",
       "\n",
       "    .dataframe thead th {\n",
       "        text-align: right;\n",
       "    }\n",
       "</style>\n",
       "<table border=\"1\" class=\"dataframe\">\n",
       "  <thead>\n",
       "    <tr style=\"text-align: right;\">\n",
       "      <th></th>\n",
       "      <th>Gene</th>\n",
       "      <th>ID</th>\n",
       "      <th>DBD</th>\n",
       "      <th>Motif status (Feb 2018)(Link to human TFs annotation)</th>\n",
       "      <th>IUPAC consensus (from selected PWM)</th>\n",
       "    </tr>\n",
       "  </thead>\n",
       "  <tbody>\n",
       "    <tr>\n",
       "      <th>0</th>\n",
       "      <td>AC008770.3</td>\n",
       "      <td>ENSG00000267179</td>\n",
       "      <td>C2H2 ZF</td>\n",
       "      <td>Likely sequence specific TF according to liter...</td>\n",
       "      <td>NaN</td>\n",
       "    </tr>\n",
       "    <tr>\n",
       "      <th>1</th>\n",
       "      <td>AC023509.3</td>\n",
       "      <td>ENSG00000267281</td>\n",
       "      <td>bZIP</td>\n",
       "      <td>Known motif – from protein with 100% identical...</td>\n",
       "      <td>RTGACGTCAY</td>\n",
       "    </tr>\n",
       "    <tr>\n",
       "      <th>2</th>\n",
       "      <td>AC092835.1</td>\n",
       "      <td>ENSG00000233757</td>\n",
       "      <td>C2H2 ZF</td>\n",
       "      <td>Likely sequence specific TF according to liter...</td>\n",
       "      <td>NaN</td>\n",
       "    </tr>\n",
       "    <tr>\n",
       "      <th>3</th>\n",
       "      <td>AC138696.1</td>\n",
       "      <td>ENSG00000264668</td>\n",
       "      <td>C2H2 ZF</td>\n",
       "      <td>Known motif – from protein with 100% identical...</td>\n",
       "      <td>RYGGAGAGTTAGC</td>\n",
       "    </tr>\n",
       "    <tr>\n",
       "      <th>4</th>\n",
       "      <td>ADNP</td>\n",
       "      <td>ENSG00000101126</td>\n",
       "      <td>Homeodomain</td>\n",
       "      <td>Likely sequence specific TF according to liter...</td>\n",
       "      <td>NaN</td>\n",
       "    </tr>\n",
       "  </tbody>\n",
       "</table>\n",
       "</div>"
      ],
      "text/plain": [
       "         Gene               ID          DBD  \\\n",
       "0  AC008770.3  ENSG00000267179      C2H2 ZF   \n",
       "1  AC023509.3  ENSG00000267281         bZIP   \n",
       "2  AC092835.1  ENSG00000233757      C2H2 ZF   \n",
       "3  AC138696.1  ENSG00000264668      C2H2 ZF   \n",
       "4        ADNP  ENSG00000101126  Homeodomain   \n",
       "\n",
       "  Motif status (Feb 2018)(Link to human TFs annotation)  \\\n",
       "0  Likely sequence specific TF according to liter...      \n",
       "1  Known motif – from protein with 100% identical...      \n",
       "2  Likely sequence specific TF according to liter...      \n",
       "3  Known motif – from protein with 100% identical...      \n",
       "4  Likely sequence specific TF according to liter...      \n",
       "\n",
       "  IUPAC consensus (from selected PWM)  \n",
       "0                                 NaN  \n",
       "1                          RTGACGTCAY  \n",
       "2                                 NaN  \n",
       "3                       RYGGAGAGTTAGC  \n",
       "4                                 NaN  "
      ]
     },
     "execution_count": 7,
     "metadata": {},
     "output_type": "execute_result"
    }
   ],
   "source": [
    "tf_df = pd.read_html('https://en.wikipedia.org/wiki/List_of_human_transcription_factors')[0]\n",
    "print(tf_df.shape)\n",
    "tf_df.head()"
   ]
  },
  {
   "cell_type": "markdown",
   "metadata": {},
   "source": [
    "# Go to Quest for Orthologs fastas"
   ]
  },
  {
   "cell_type": "code",
   "execution_count": 8,
   "metadata": {},
   "outputs": [
    {
     "name": "stdout",
     "output_type": "stream",
     "text": [
      "/mnt/data_sm/olga/kmer-hashing/quest-for-orthologs/data/2019\n"
     ]
    }
   ],
   "source": [
    "cd /home/olga/data_sm/kmer-hashing/quest-for-orthologs/data/2019"
   ]
  },
  {
   "cell_type": "code",
   "execution_count": 9,
   "metadata": {},
   "outputs": [
    {
     "name": "stdout",
     "output_type": "stream",
     "text": [
      "total 2.6G\n",
      "drwxr-xr-x 5 olga root 4.0K Jan  7 11:13 \u001b[0m\u001b[01;34m.\u001b[0m/\n",
      "drwxr-xr-x 3 olga root 4.0K Dec 25 17:48 \u001b[01;34m..\u001b[0m/\n",
      "drwxr-xr-x 5 olga czb  4.0K Dec 26 19:44 \u001b[01;34mArchaea\u001b[0m/\n",
      "drwxr-xr-x 5 olga czb   16K Dec 26 19:44 \u001b[01;34mBacteria\u001b[0m/\n",
      "drwxr-xr-x 6 olga czb   32K Dec 26 19:49 \u001b[01;34mEukaryota\u001b[0m/\n",
      "-rw-r--r-- 1 olga czb  2.6G Dec 25 18:46 \u001b[01;31mQfO_release_2019_04.tar.gz\u001b[0m\n",
      "-rw-r--r-- 1 olga czb   18K May 10  2019 README\n",
      "-rw-r--r-- 1 olga czb   12K Jan  7 11:13 species_metadata.csv\n"
     ]
    }
   ],
   "source": [
    "ls -lha"
   ]
  },
  {
   "cell_type": "markdown",
   "metadata": {},
   "source": [
    "## Read species metadata"
   ]
  },
  {
   "cell_type": "code",
   "execution_count": 11,
   "metadata": {},
   "outputs": [
    {
     "name": "stdout",
     "output_type": "stream",
     "text": [
      "(78, 10)\n"
     ]
    },
    {
     "data": {
      "text/html": [
       "<div>\n",
       "<style scoped>\n",
       "    .dataframe tbody tr th:only-of-type {\n",
       "        vertical-align: middle;\n",
       "    }\n",
       "\n",
       "    .dataframe tbody tr th {\n",
       "        vertical-align: top;\n",
       "    }\n",
       "\n",
       "    .dataframe thead th {\n",
       "        text-align: right;\n",
       "    }\n",
       "</style>\n",
       "<table border=\"1\" class=\"dataframe\">\n",
       "  <thead>\n",
       "    <tr style=\"text-align: right;\">\n",
       "      <th></th>\n",
       "      <th>proteome_id</th>\n",
       "      <th>tax_id</th>\n",
       "      <th>oscode</th>\n",
       "      <th>n_main_fasta_canonical</th>\n",
       "      <th>n_additional_fasta_isoforms</th>\n",
       "      <th>n_gene2acc</th>\n",
       "      <th>species_name</th>\n",
       "      <th>divergence_from_human_mya</th>\n",
       "      <th>scientific_name</th>\n",
       "      <th>common_name_or_strain</th>\n",
       "    </tr>\n",
       "  </thead>\n",
       "  <tbody>\n",
       "    <tr>\n",
       "      <th>0</th>\n",
       "      <td>UP000007062</td>\n",
       "      <td>7165</td>\n",
       "      <td>ANOGA</td>\n",
       "      <td>12553</td>\n",
       "      <td>971</td>\n",
       "      <td>13619</td>\n",
       "      <td>Anopheles gambiae (African malaria mosquito)</td>\n",
       "      <td>797.0</td>\n",
       "      <td>Anopheles gambiae</td>\n",
       "      <td>African malaria mosquito</td>\n",
       "    </tr>\n",
       "    <tr>\n",
       "      <th>1</th>\n",
       "      <td>UP000000798</td>\n",
       "      <td>224324</td>\n",
       "      <td>AQUAE</td>\n",
       "      <td>1553</td>\n",
       "      <td>0</td>\n",
       "      <td>1557</td>\n",
       "      <td>Aquifex aeolicus (strain VF5)</td>\n",
       "      <td>4290.0</td>\n",
       "      <td>Aquifex aeolicus</td>\n",
       "      <td>strain VF5</td>\n",
       "    </tr>\n",
       "    <tr>\n",
       "      <th>2</th>\n",
       "      <td>UP000006548</td>\n",
       "      <td>3702</td>\n",
       "      <td>ARATH</td>\n",
       "      <td>27475</td>\n",
       "      <td>14123</td>\n",
       "      <td>41920</td>\n",
       "      <td>Arabidopsis thaliana (Mouse-ear cress)</td>\n",
       "      <td>1496.0</td>\n",
       "      <td>Arabidopsis thaliana</td>\n",
       "      <td>Mouse-ear cress</td>\n",
       "    </tr>\n",
       "    <tr>\n",
       "      <th>3</th>\n",
       "      <td>UP000001570</td>\n",
       "      <td>224308</td>\n",
       "      <td>BACSU</td>\n",
       "      <td>4260</td>\n",
       "      <td>7</td>\n",
       "      <td>4268</td>\n",
       "      <td>Bacillus subtilis (strain 168)</td>\n",
       "      <td>4290.0</td>\n",
       "      <td>Bacillus subtilis</td>\n",
       "      <td>strain 168</td>\n",
       "    </tr>\n",
       "    <tr>\n",
       "      <th>4</th>\n",
       "      <td>UP000001414</td>\n",
       "      <td>226186</td>\n",
       "      <td>BACTN</td>\n",
       "      <td>4782</td>\n",
       "      <td>0</td>\n",
       "      <td>4823</td>\n",
       "      <td>Bacteroides thetaiotaomicron (strain ATCC 2914...</td>\n",
       "      <td>4290.0</td>\n",
       "      <td>Bacteroides thetaiotaomicron</td>\n",
       "      <td>strain ATCC 29148 / DSM 2079 / NCTC 10582 / E5...</td>\n",
       "    </tr>\n",
       "  </tbody>\n",
       "</table>\n",
       "</div>"
      ],
      "text/plain": [
       "   proteome_id  tax_id oscode  n_main_fasta_canonical  \\\n",
       "0  UP000007062    7165  ANOGA                   12553   \n",
       "1  UP000000798  224324  AQUAE                    1553   \n",
       "2  UP000006548    3702  ARATH                   27475   \n",
       "3  UP000001570  224308  BACSU                    4260   \n",
       "4  UP000001414  226186  BACTN                    4782   \n",
       "\n",
       "   n_additional_fasta_isoforms  n_gene2acc  \\\n",
       "0                          971       13619   \n",
       "1                            0        1557   \n",
       "2                        14123       41920   \n",
       "3                            7        4268   \n",
       "4                            0        4823   \n",
       "\n",
       "                                        species_name  \\\n",
       "0       Anopheles gambiae (African malaria mosquito)   \n",
       "1                      Aquifex aeolicus (strain VF5)   \n",
       "2             Arabidopsis thaliana (Mouse-ear cress)   \n",
       "3                     Bacillus subtilis (strain 168)   \n",
       "4  Bacteroides thetaiotaomicron (strain ATCC 2914...   \n",
       "\n",
       "   divergence_from_human_mya               scientific_name  \\\n",
       "0                      797.0             Anopheles gambiae   \n",
       "1                     4290.0              Aquifex aeolicus   \n",
       "2                     1496.0          Arabidopsis thaliana   \n",
       "3                     4290.0             Bacillus subtilis   \n",
       "4                     4290.0  Bacteroides thetaiotaomicron   \n",
       "\n",
       "                               common_name_or_strain  \n",
       "0                           African malaria mosquito  \n",
       "1                                         strain VF5  \n",
       "2                                    Mouse-ear cress  \n",
       "3                                         strain 168  \n",
       "4  strain ATCC 29148 / DSM 2079 / NCTC 10582 / E5...  "
      ]
     },
     "execution_count": 11,
     "metadata": {},
     "output_type": "execute_result"
    }
   ],
   "source": [
    "species_metadata = pd.read_csv(\"species_metadata.csv\")\n",
    "print(species_metadata.shape)\n",
    "species_metadata.head()"
   ]
  },
  {
   "cell_type": "markdown",
   "metadata": {},
   "source": [
    "### Subset to opisthokonts"
   ]
  },
  {
   "cell_type": "code",
   "execution_count": 121,
   "metadata": {},
   "outputs": [
    {
     "name": "stdout",
     "output_type": "stream",
     "text": [
      "(35, 10)\n"
     ]
    },
    {
     "data": {
      "text/html": [
       "<div>\n",
       "<style scoped>\n",
       "    .dataframe tbody tr th:only-of-type {\n",
       "        vertical-align: middle;\n",
       "    }\n",
       "\n",
       "    .dataframe tbody tr th {\n",
       "        vertical-align: top;\n",
       "    }\n",
       "\n",
       "    .dataframe thead th {\n",
       "        text-align: right;\n",
       "    }\n",
       "</style>\n",
       "<table border=\"1\" class=\"dataframe\">\n",
       "  <thead>\n",
       "    <tr style=\"text-align: right;\">\n",
       "      <th></th>\n",
       "      <th>proteome_id</th>\n",
       "      <th>tax_id</th>\n",
       "      <th>oscode</th>\n",
       "      <th>n_main_fasta_canonical</th>\n",
       "      <th>n_additional_fasta_isoforms</th>\n",
       "      <th>n_gene2acc</th>\n",
       "      <th>species_name</th>\n",
       "      <th>divergence_from_human_mya</th>\n",
       "      <th>scientific_name</th>\n",
       "      <th>common_name_or_strain</th>\n",
       "    </tr>\n",
       "  </thead>\n",
       "  <tbody>\n",
       "    <tr>\n",
       "      <th>0</th>\n",
       "      <td>UP000007062</td>\n",
       "      <td>7165</td>\n",
       "      <td>ANOGA</td>\n",
       "      <td>12553</td>\n",
       "      <td>971</td>\n",
       "      <td>13619</td>\n",
       "      <td>Anopheles gambiae (African malaria mosquito)</td>\n",
       "      <td>797.0</td>\n",
       "      <td>Anopheles gambiae</td>\n",
       "      <td>African malaria mosquito</td>\n",
       "    </tr>\n",
       "    <tr>\n",
       "      <th>5</th>\n",
       "      <td>UP000007241</td>\n",
       "      <td>684364</td>\n",
       "      <td>BATDJ</td>\n",
       "      <td>8610</td>\n",
       "      <td>0</td>\n",
       "      <td>8685</td>\n",
       "      <td>Batrachochytrium dendrobatidis (strain JAM81 /...</td>\n",
       "      <td>1105.0</td>\n",
       "      <td>Batrachochytrium dendrobatidis</td>\n",
       "      <td>strain JAM81 / FGSC 10211</td>\n",
       "    </tr>\n",
       "    <tr>\n",
       "      <th>6</th>\n",
       "      <td>UP000009136</td>\n",
       "      <td>9913</td>\n",
       "      <td>BOVIN</td>\n",
       "      <td>23774</td>\n",
       "      <td>14534</td>\n",
       "      <td>38438</td>\n",
       "      <td>Bos taurus (Bovine)</td>\n",
       "      <td>96.0</td>\n",
       "      <td>Bos taurus</td>\n",
       "      <td>Bovine</td>\n",
       "    </tr>\n",
       "    <tr>\n",
       "      <th>8</th>\n",
       "      <td>UP000001554</td>\n",
       "      <td>7739</td>\n",
       "      <td>BRAFL</td>\n",
       "      <td>28542</td>\n",
       "      <td>2</td>\n",
       "      <td>28608</td>\n",
       "      <td>Branchiostoma floridae (Florida lancelet) (Amp...</td>\n",
       "      <td>684.0</td>\n",
       "      <td>Branchiostoma floridae</td>\n",
       "      <td>Florida lancelet</td>\n",
       "    </tr>\n",
       "    <tr>\n",
       "      <th>9</th>\n",
       "      <td>UP000001940</td>\n",
       "      <td>6239</td>\n",
       "      <td>CAEEL</td>\n",
       "      <td>19986</td>\n",
       "      <td>8309</td>\n",
       "      <td>28507</td>\n",
       "      <td>Caenorhabditis elegans</td>\n",
       "      <td>797.0</td>\n",
       "      <td>Caenorhabditis elegans</td>\n",
       "      <td>NaN</td>\n",
       "    </tr>\n",
       "  </tbody>\n",
       "</table>\n",
       "</div>"
      ],
      "text/plain": [
       "   proteome_id  tax_id oscode  n_main_fasta_canonical  \\\n",
       "0  UP000007062    7165  ANOGA                   12553   \n",
       "5  UP000007241  684364  BATDJ                    8610   \n",
       "6  UP000009136    9913  BOVIN                   23774   \n",
       "8  UP000001554    7739  BRAFL                   28542   \n",
       "9  UP000001940    6239  CAEEL                   19986   \n",
       "\n",
       "   n_additional_fasta_isoforms  n_gene2acc  \\\n",
       "0                          971       13619   \n",
       "5                            0        8685   \n",
       "6                        14534       38438   \n",
       "8                            2       28608   \n",
       "9                         8309       28507   \n",
       "\n",
       "                                        species_name  \\\n",
       "0       Anopheles gambiae (African malaria mosquito)   \n",
       "5  Batrachochytrium dendrobatidis (strain JAM81 /...   \n",
       "6                                Bos taurus (Bovine)   \n",
       "8  Branchiostoma floridae (Florida lancelet) (Amp...   \n",
       "9                             Caenorhabditis elegans   \n",
       "\n",
       "   divergence_from_human_mya                 scientific_name  \\\n",
       "0                      797.0               Anopheles gambiae   \n",
       "5                     1105.0  Batrachochytrium dendrobatidis   \n",
       "6                       96.0                      Bos taurus   \n",
       "8                      684.0          Branchiostoma floridae   \n",
       "9                      797.0          Caenorhabditis elegans   \n",
       "\n",
       "       common_name_or_strain  \n",
       "0   African malaria mosquito  \n",
       "5  strain JAM81 / FGSC 10211  \n",
       "6                     Bovine  \n",
       "8           Florida lancelet  \n",
       "9                        NaN  "
      ]
     },
     "execution_count": 121,
     "metadata": {},
     "output_type": "execute_result"
    }
   ],
   "source": [
    "# Estimated opisthokonta divergence time from http://timetree.org/\n",
    "t = 1105\n",
    "opisthokonts = species_metadata.query('divergence_from_human_mya <= @t')\n",
    "print(opisthokonts.shape)\n",
    "opisthokonts.head()"
   ]
  },
  {
   "cell_type": "code",
   "execution_count": 122,
   "metadata": {},
   "outputs": [
    {
     "data": {
      "text/html": [
       "<div>\n",
       "<style scoped>\n",
       "    .dataframe tbody tr th:only-of-type {\n",
       "        vertical-align: middle;\n",
       "    }\n",
       "\n",
       "    .dataframe tbody tr th {\n",
       "        vertical-align: top;\n",
       "    }\n",
       "\n",
       "    .dataframe thead th {\n",
       "        text-align: right;\n",
       "    }\n",
       "</style>\n",
       "<table border=\"1\" class=\"dataframe\">\n",
       "  <thead>\n",
       "    <tr style=\"text-align: right;\">\n",
       "      <th></th>\n",
       "      <th>proteome_id</th>\n",
       "      <th>tax_id</th>\n",
       "      <th>oscode</th>\n",
       "      <th>n_main_fasta_canonical</th>\n",
       "      <th>n_additional_fasta_isoforms</th>\n",
       "      <th>n_gene2acc</th>\n",
       "      <th>species_name</th>\n",
       "      <th>divergence_from_human_mya</th>\n",
       "      <th>scientific_name</th>\n",
       "      <th>common_name_or_strain</th>\n",
       "    </tr>\n",
       "  </thead>\n",
       "  <tbody>\n",
       "    <tr>\n",
       "      <th>32</th>\n",
       "      <td>UP000005640</td>\n",
       "      <td>9606</td>\n",
       "      <td>HUMAN</td>\n",
       "      <td>21146</td>\n",
       "      <td>74769</td>\n",
       "      <td>96332</td>\n",
       "      <td>Homo sapiens (Human)</td>\n",
       "      <td>0.0</td>\n",
       "      <td>Homo sapiens</td>\n",
       "      <td>Human</td>\n",
       "    </tr>\n",
       "  </tbody>\n",
       "</table>\n",
       "</div>"
      ],
      "text/plain": [
       "    proteome_id  tax_id oscode  n_main_fasta_canonical  \\\n",
       "32  UP000005640    9606  HUMAN                   21146   \n",
       "\n",
       "    n_additional_fasta_isoforms  n_gene2acc          species_name  \\\n",
       "32                        74769       96332  Homo sapiens (Human)   \n",
       "\n",
       "    divergence_from_human_mya scientific_name common_name_or_strain  \n",
       "32                        0.0    Homo sapiens                 Human  "
      ]
     },
     "execution_count": 122,
     "metadata": {},
     "output_type": "execute_result"
    }
   ],
   "source": [
    "opisthokonts.query('scientific_name == \"Homo sapiens\"')"
   ]
  },
  {
   "cell_type": "markdown",
   "metadata": {},
   "source": [
    "## Subset human proteins to TFs"
   ]
  },
  {
   "cell_type": "code",
   "execution_count": 13,
   "metadata": {},
   "outputs": [],
   "source": [
    "human_proteome_id = 'UP000005640'"
   ]
  },
  {
   "cell_type": "code",
   "execution_count": 14,
   "metadata": {},
   "outputs": [
    {
     "name": "stdout",
     "output_type": "stream",
     "text": [
      "total 1\n",
      "lrwxrwxrwx 1 olga 104 Dec 26 19:44 \u001b[0m\u001b[01;36mUP000005640_9606_additional.fasta\u001b[0m -> /mnt/data_sm/olga/kmer-hashing/quest-for-orthologs/data/2019/Eukaryota/UP000005640_9606_additional.fasta\n",
      "lrwxrwxrwx 1 olga  93 Dec 26 19:44 \u001b[01;36mUP000005640_9606.fasta\u001b[0m -> /mnt/data_sm/olga/kmer-hashing/quest-for-orthologs/data/2019/Eukaryota/UP000005640_9606.fasta\n"
     ]
    }
   ],
   "source": [
    "ll Eukaryota/human-protein-fastas/"
   ]
  },
  {
   "cell_type": "code",
   "execution_count": 18,
   "metadata": {},
   "outputs": [
    {
     "name": "stdout",
     "output_type": "stream",
     "text": [
      "==> Eukaryota/human-protein-fastas/UP000005640_9606.fasta <==\n",
      ">tr|A0A024R1R8|A0A024R1R8_HUMAN HCG2014768, isoform CRA_a OS=Homo sapiens OX=9606 GN=hCG_2014768 PE=4 SV=1\n",
      "MSSHEGGKKKALKQPKKQAKEMDEEEKAFKQKQKEEQKKLEVLKAKVVGKGPLATGGIKK\n",
      "SGKK\n",
      ">sp|A0A024RBG1|NUD4B_HUMAN Diphosphoinositol polyphosphate phosphohydrolase NUDT4B OS=Homo sapiens OX=9606 GN=NUDT4B PE=3 SV=1\n",
      "MMKFKPNQTRTYDREGFKKRAACLCFRSEQEDEVLLVSSSRYPDQWIVPGGGMEPEEEPG\n",
      "GAAVREVYEEAGVKGKLGRLLGIFEQNQDRKHRTYVYVLTVTEILEDWEDSVNIGRKREW\n",
      "FKVEDAIKVLQCHKPVHAEYLEKLKLGCSPANGNSTVPSLPDNNALFVTAAQTSGLPSSV\n",
      "R\n",
      ">tr|A0A075B6H5|A0A075B6H5_HUMAN T cell receptor beta variable 20/OR9-2 (non-functional) (Fragment) OS=Homo sapiens OX=9606 GN=TRBV20OR9-2 PE=4 SV=1\n",
      "METVVTTLPREGGVGPSRKMLLLLLLLGPGSGLSAVVSQHPSRVICKSGTSVNIECRSLD\n",
      "\n",
      "==> Eukaryota/human-protein-fastas/UP000005640_9606_additional.fasta <==\n",
      ">tr|A0A024QYW1|A0A024QYW1_HUMAN Isoform of A6NGB0, Transmembrane protein 191C OS=Homo sapiens OX=9606 GN=TMEM191C PE=4 SV=1\n",
      "MVNNTDFLMLNNLWNKLCLVSMDFCFPLDFVSNVFWIFASKFIIVTGQIKADFKRTSWEA\n",
      "KAEGSLEPGRLKLQLASIVPLYSSLVTAGPASKIIILKRTSLPTVSPSNERAYLPPVSFT\n",
      "DLAHVFYLSYFSINAKSNSFSLDIIIALGIPHNTQAHFNH\n",
      ">tr|A0A024QZ18|A0A024QZ18_HUMAN Isoform of Q9H6Y5, PDZ domain containing, X chromosome, isoform CRA_a OS=Homo sapiens OX=9606 GN=MAGIX PE=1 SV=1\n",
      "MPLLWITGPRYHLILLSEASCLRANYVHLCPLFQHRWLETCNAPPQLIQGKARSAPKPSQ\n",
      "ASGHFSVELVRGYAGFGLTLGGGRDVAGDTPLAVRGLLKDGPAQRCGRLEVGDLVLHING\n",
      "ESTQGLTHAQAVERIRAGGPQLHLVIRRPLETHPGKPRGVGEPRKGVVPSWPDRSPDPGG\n",
      "PEVTGSRSSSTSLVQHPPSRTTLKKTRGSPEPSPEAAADGPTVSPPERRAEDPNDQIPGS\n",
      "PGPWLVPSEERLSRALGVRGAAQLAQEMAAGRRRH\n"
     ]
    }
   ],
   "source": [
    "!head Eukaryota/human-protein-fastas/*"
   ]
  },
  {
   "cell_type": "code",
   "execution_count": 24,
   "metadata": {},
   "outputs": [
    {
     "name": "stdout",
     "output_type": "stream",
     "text": [
      "-rw-r--r-- 1 olga   36918952 Apr 12  2019 Eukaryota/UP000005640_9606_additional.fasta\n",
      "-rw-r--r-- 1 olga   34929850 Apr 13  2019 Eukaryota/UP000005640_9606_DNA.fasta\n",
      "-rw-r--r-- 1 olga      20163 Apr 13  2019 Eukaryota/UP000005640_9606_DNA.miss\n",
      "-rw-r--r-- 1 olga   13737946 Apr 12  2019 Eukaryota/UP000005640_9606.fasta\n",
      "-rw-r--r-- 1 olga      50862 May  6  2019 Eukaryota/UP000005640_9606_gcoord.miss\n",
      "-rw-r--r-- 1 olga 1010405266 May  6  2019 Eukaryota/UP000005640_9606_gcoord.xml\n",
      "-rw-r--r-- 1 olga    2805864 Apr 12  2019 Eukaryota/UP000005640_9606.gene2acc\n",
      "-rw-r--r-- 1 olga   69939964 May  3  2019 Eukaryota/UP000005640_9606.idmapping\n",
      "-rw-r--r-- 1 olga  122397065 May 10  2019 Eukaryota/UP000005640_9606.xml\n"
     ]
    }
   ],
   "source": [
    "ll Eukaryota/UP000005640*"
   ]
  },
  {
   "cell_type": "code",
   "execution_count": 31,
   "metadata": {},
   "outputs": [
    {
     "name": "stdout",
     "output_type": "stream",
     "text": [
      "Eukaryota/UP000005640_9606.gene2acc:ENSG00000267179\tF5H0A9\tENSG00000267179\n",
      "Eukaryota/UP000005640_9606.gene2acc:ENSG00000267179\tK7EJH5\tENSG00000267179\n",
      "Eukaryota/UP000005640_9606.gene2acc:ENSG00000267179\tK7EPL6\tENSG00000267179\n",
      "Eukaryota/UP000005640_9606.idmapping:K7EJH5\tBioMuta\tENSG00000267179\n",
      "Eukaryota/UP000005640_9606.idmapping:K7EJH5\tEnsembl\tENSG00000267179\n",
      "Eukaryota/UP000005640_9606.idmapping:K7EJH5\tGeneCards\tENSG00000267179\n",
      "Eukaryota/UP000005640_9606.idmapping:K7EPL6\tBioMuta\tENSG00000267179\n",
      "Eukaryota/UP000005640_9606.idmapping:K7EPL6\tEnsembl\tENSG00000267179\n",
      "Eukaryota/UP000005640_9606.idmapping:K7EPL6\tGeneCards\tENSG00000267179\n",
      "Eukaryota/UP000005640_9606.idmapping:F5H0A9\tBioMuta\tENSG00000267179\n",
      "Eukaryota/UP000005640_9606.idmapping:F5H0A9\tEnsembl\tENSG00000267179\n",
      "Eukaryota/UP000005640_9606.idmapping:F5H0A9\tGeneCards\tENSG00000267179\n",
      "Eukaryota/UP000005640_9606_gcoord.xml:    <gnCoordinate ensembl_gene_id=\"ENSG00000267179\" ensembl_transcript_id=\"ENST00000591944\" ensembl_translation_id=\"ENSP00000465172\">\n",
      "Eukaryota/UP000005640_9606_gcoord.xml:    <gnCoordinate ensembl_gene_id=\"ENSG00000267179\" ensembl_transcript_id=\"ENST00000591441\" ensembl_translation_id=\"ENSP00000467438\">\n",
      "Eukaryota/UP000005640_9606_gcoord.xml:    <gnCoordinate ensembl_gene_id=\"ENSG00000267179\" ensembl_transcript_id=\"ENST00000590798\" ensembl_translation_id=\"ENSP00000467286\">\n"
     ]
    }
   ],
   "source": [
    "!grep 'ENSG00000267179' Eukaryota/UP000005640*"
   ]
  },
  {
   "cell_type": "markdown",
   "metadata": {},
   "source": [
    "## Read Gene Accession file\n",
    "\n",
    "```\n",
    "Gene mapping files (*.gene2acc)\n",
    "===============================\n",
    "\n",
    "Column 1 is a unique gene symbol that is chosen with the following order of\n",
    "preference from the annotation found in:\n",
    "1) Model Organism Database (MOD)\n",
    "2) Ensembl or Ensembl Genomes database\n",
    "3) UniProt Ordered Locus Name (OLN)\n",
    "4) UniProt Open Reading Frame (ORF)\n",
    "5) UniProt Gene Name\n",
    "A dash symbol ('-') is used when the gene encoding a protein is unknown.\n",
    "\n",
    "Column 2 is the UniProtKB accession or isoform identifier for the given gene\n",
    "symbol. This column may have redundancy when two or more genes have identical\n",
    "translations.\n",
    "\n",
    "Column 3 is the gene symbol of the canonical accession used to represent the\n",
    "respective gene group and the first row of the sequence is the canonical one.\n",
    "```"
   ]
  },
  {
   "cell_type": "code",
   "execution_count": 109,
   "metadata": {},
   "outputs": [
    {
     "name": "stdout",
     "output_type": "stream",
     "text": [
      "(96332, 3)\n"
     ]
    },
    {
     "data": {
      "text/html": [
       "<div>\n",
       "<style scoped>\n",
       "    .dataframe tbody tr th:only-of-type {\n",
       "        vertical-align: middle;\n",
       "    }\n",
       "\n",
       "    .dataframe tbody tr th {\n",
       "        vertical-align: top;\n",
       "    }\n",
       "\n",
       "    .dataframe thead th {\n",
       "        text-align: right;\n",
       "    }\n",
       "</style>\n",
       "<table border=\"1\" class=\"dataframe\">\n",
       "  <thead>\n",
       "    <tr style=\"text-align: right;\">\n",
       "      <th></th>\n",
       "      <th>maybe_ensembl_id</th>\n",
       "      <th>uniprot_id</th>\n",
       "      <th>canonical_accession</th>\n",
       "    </tr>\n",
       "  </thead>\n",
       "  <tbody>\n",
       "    <tr>\n",
       "      <th>0</th>\n",
       "      <td>NaN</td>\n",
       "      <td>A0A075B7B6</td>\n",
       "      <td>NaN</td>\n",
       "    </tr>\n",
       "    <tr>\n",
       "      <th>1</th>\n",
       "      <td>NaN</td>\n",
       "      <td>A0A075B714</td>\n",
       "      <td>NaN</td>\n",
       "    </tr>\n",
       "    <tr>\n",
       "      <th>2</th>\n",
       "      <td>NaN</td>\n",
       "      <td>A0A075B713</td>\n",
       "      <td>NaN</td>\n",
       "    </tr>\n",
       "    <tr>\n",
       "      <th>3</th>\n",
       "      <td>NaN</td>\n",
       "      <td>A0A075B712</td>\n",
       "      <td>NaN</td>\n",
       "    </tr>\n",
       "    <tr>\n",
       "      <th>4</th>\n",
       "      <td>NaN</td>\n",
       "      <td>A0A075B711</td>\n",
       "      <td>NaN</td>\n",
       "    </tr>\n",
       "  </tbody>\n",
       "</table>\n",
       "</div>"
      ],
      "text/plain": [
       "  maybe_ensembl_id  uniprot_id canonical_accession\n",
       "0              NaN  A0A075B7B6                 NaN\n",
       "1              NaN  A0A075B714                 NaN\n",
       "2              NaN  A0A075B713                 NaN\n",
       "3              NaN  A0A075B712                 NaN\n",
       "4              NaN  A0A075B711                 NaN"
      ]
     },
     "execution_count": 109,
     "metadata": {},
     "output_type": "execute_result"
    }
   ],
   "source": [
    "\n",
    "def read_gene2acc(gene2acc, names=['maybe_ensembl_id', 'uniprot_id', 'canonical_accession']):\n",
    "    df = pd.read_csv(gene2acc, sep='\\t', header=None, na_values='-', names=columns)\n",
    "    return df\n",
    "\n",
    "gene2acc = read_gene2acc('Eukaryota/UP000005640_9606.gene2acc')\n",
    "# gene2acc = pd.read_csv('Eukaryota/UP000005640_9606.gene2acc', sep='\\t', header=None, na_values='-', names=columns)\n",
    "print(gene2acc.shape)\n",
    "gene2acc.head()"
   ]
  },
  {
   "cell_type": "code",
   "execution_count": 29,
   "metadata": {},
   "outputs": [
    {
     "data": {
      "text/html": [
       "<div>\n",
       "<style scoped>\n",
       "    .dataframe tbody tr th:only-of-type {\n",
       "        vertical-align: middle;\n",
       "    }\n",
       "\n",
       "    .dataframe tbody tr th {\n",
       "        vertical-align: top;\n",
       "    }\n",
       "\n",
       "    .dataframe thead th {\n",
       "        text-align: right;\n",
       "    }\n",
       "</style>\n",
       "<table border=\"1\" class=\"dataframe\">\n",
       "  <thead>\n",
       "    <tr style=\"text-align: right;\">\n",
       "      <th></th>\n",
       "      <th>maybe_ensembl_id</th>\n",
       "      <th>uniprot_id</th>\n",
       "      <th>canonical_accession</th>\n",
       "    </tr>\n",
       "  </thead>\n",
       "  <tbody>\n",
       "    <tr>\n",
       "      <th>600</th>\n",
       "      <td>ACOT7L</td>\n",
       "      <td>Q6ZUV0</td>\n",
       "      <td>ACOT7L</td>\n",
       "    </tr>\n",
       "    <tr>\n",
       "      <th>601</th>\n",
       "      <td>BARGIN</td>\n",
       "      <td>Q6ZT62</td>\n",
       "      <td>BARGIN</td>\n",
       "    </tr>\n",
       "    <tr>\n",
       "      <th>602</th>\n",
       "      <td>BARGIN</td>\n",
       "      <td>Q6ZT62-2</td>\n",
       "      <td>BARGIN</td>\n",
       "    </tr>\n",
       "    <tr>\n",
       "      <th>603</th>\n",
       "      <td>BCE1</td>\n",
       "      <td>O60756</td>\n",
       "      <td>BCE1</td>\n",
       "    </tr>\n",
       "    <tr>\n",
       "      <th>604</th>\n",
       "      <td>C1orf140</td>\n",
       "      <td>Q5VVS0</td>\n",
       "      <td>C1orf140</td>\n",
       "    </tr>\n",
       "    <tr>\n",
       "      <th>...</th>\n",
       "      <td>...</td>\n",
       "      <td>...</td>\n",
       "      <td>...</td>\n",
       "    </tr>\n",
       "    <tr>\n",
       "      <th>96327</th>\n",
       "      <td>UNQ6190/PRO20217</td>\n",
       "      <td>Q6UXQ8</td>\n",
       "      <td>UNQ6190/PRO20217</td>\n",
       "    </tr>\n",
       "    <tr>\n",
       "      <th>96328</th>\n",
       "      <td>UNQ6493/PRO21345</td>\n",
       "      <td>Q6UXR8</td>\n",
       "      <td>UNQ6493/PRO21345</td>\n",
       "    </tr>\n",
       "    <tr>\n",
       "      <th>96329</th>\n",
       "      <td>UNQ6494/PRO21346</td>\n",
       "      <td>Q6UXR6</td>\n",
       "      <td>UNQ6494/PRO21346</td>\n",
       "    </tr>\n",
       "    <tr>\n",
       "      <th>96330</th>\n",
       "      <td>UNQ9165/PRO28630</td>\n",
       "      <td>Q6UXU0</td>\n",
       "      <td>UNQ9165/PRO28630</td>\n",
       "    </tr>\n",
       "    <tr>\n",
       "      <th>96331</th>\n",
       "      <td>UNQ9370/PRO34162</td>\n",
       "      <td>Q6UXP9</td>\n",
       "      <td>UNQ9370/PRO34162</td>\n",
       "    </tr>\n",
       "  </tbody>\n",
       "</table>\n",
       "<p>95732 rows × 3 columns</p>\n",
       "</div>"
      ],
      "text/plain": [
       "       maybe_ensembl_id uniprot_id canonical_accession\n",
       "600              ACOT7L     Q6ZUV0              ACOT7L\n",
       "601              BARGIN     Q6ZT62              BARGIN\n",
       "602              BARGIN   Q6ZT62-2              BARGIN\n",
       "603                BCE1     O60756                BCE1\n",
       "604            C1orf140     Q5VVS0            C1orf140\n",
       "...                 ...        ...                 ...\n",
       "96327  UNQ6190/PRO20217     Q6UXQ8    UNQ6190/PRO20217\n",
       "96328  UNQ6493/PRO21345     Q6UXR8    UNQ6493/PRO21345\n",
       "96329  UNQ6494/PRO21346     Q6UXR6    UNQ6494/PRO21346\n",
       "96330  UNQ9165/PRO28630     Q6UXU0    UNQ9165/PRO28630\n",
       "96331  UNQ9370/PRO34162     Q6UXP9    UNQ9370/PRO34162\n",
       "\n",
       "[95732 rows x 3 columns]"
      ]
     },
     "execution_count": 29,
     "metadata": {},
     "output_type": "execute_result"
    }
   ],
   "source": [
    "gene2acc.dropna()"
   ]
  },
  {
   "cell_type": "markdown",
   "metadata": {},
   "source": [
    "## Read ID mapping file\n",
    "\n",
    "```\n",
    "Database mapping files (*.idmapping)\n",
    "====================================\n",
    "\n",
    "These files contain mappings from UniProtKB to other databases for each\n",
    "reference proteome.\n",
    "The format consists of three tab-separated columns:\n",
    "\n",
    "1. UniProtKB accession\n",
    "2. ID_type:\n",
    "   Database name as shown in UniProtKB cross-references and supported by the ID\n",
    "   mapping tool on the UniProt web site (http://www.uniprot.org/mapping)\n",
    "3. ID:\n",
    "   Identifier in the cross-referenced database.\n",
    "\n",
    "```"
   ]
  },
  {
   "cell_type": "code",
   "execution_count": 34,
   "metadata": {},
   "outputs": [
    {
     "name": "stdout",
     "output_type": "stream",
     "text": [
      "(2668934, 3)\n"
     ]
    },
    {
     "data": {
      "text/html": [
       "<div>\n",
       "<style scoped>\n",
       "    .dataframe tbody tr th:only-of-type {\n",
       "        vertical-align: middle;\n",
       "    }\n",
       "\n",
       "    .dataframe tbody tr th {\n",
       "        vertical-align: top;\n",
       "    }\n",
       "\n",
       "    .dataframe thead th {\n",
       "        text-align: right;\n",
       "    }\n",
       "</style>\n",
       "<table border=\"1\" class=\"dataframe\">\n",
       "  <thead>\n",
       "    <tr style=\"text-align: right;\">\n",
       "      <th></th>\n",
       "      <th>uniprot_id</th>\n",
       "      <th>id_type</th>\n",
       "      <th>db_id</th>\n",
       "    </tr>\n",
       "  </thead>\n",
       "  <tbody>\n",
       "    <tr>\n",
       "      <th>0</th>\n",
       "      <td>P62258-2</td>\n",
       "      <td>UniParc</td>\n",
       "      <td>UPI00001E6021</td>\n",
       "    </tr>\n",
       "    <tr>\n",
       "      <th>1</th>\n",
       "      <td>P62258-2</td>\n",
       "      <td>Ensembl_TRS</td>\n",
       "      <td>ENST00000571732</td>\n",
       "    </tr>\n",
       "    <tr>\n",
       "      <th>2</th>\n",
       "      <td>P62258-2</td>\n",
       "      <td>Ensembl_PRO</td>\n",
       "      <td>ENSP00000461762</td>\n",
       "    </tr>\n",
       "    <tr>\n",
       "      <th>3</th>\n",
       "      <td>P62258-2</td>\n",
       "      <td>Ensembl_TRS</td>\n",
       "      <td>ENST00000616643</td>\n",
       "    </tr>\n",
       "    <tr>\n",
       "      <th>4</th>\n",
       "      <td>P62258-2</td>\n",
       "      <td>Ensembl_PRO</td>\n",
       "      <td>ENSP00000481059</td>\n",
       "    </tr>\n",
       "  </tbody>\n",
       "</table>\n",
       "</div>"
      ],
      "text/plain": [
       "  uniprot_id      id_type            db_id\n",
       "0   P62258-2      UniParc    UPI00001E6021\n",
       "1   P62258-2  Ensembl_TRS  ENST00000571732\n",
       "2   P62258-2  Ensembl_PRO  ENSP00000461762\n",
       "3   P62258-2  Ensembl_TRS  ENST00000616643\n",
       "4   P62258-2  Ensembl_PRO  ENSP00000481059"
      ]
     },
     "execution_count": 34,
     "metadata": {},
     "output_type": "execute_result"
    }
   ],
   "source": [
    "id_mapping = pd.read_csv('Eukaryota/UP000005640_9606.idmapping', sep='\\t', header=None, names=['uniprot_id', 'id_type', 'db_id'])\n",
    "print(id_mapping.shape)\n",
    "id_mapping.head()"
   ]
  },
  {
   "cell_type": "code",
   "execution_count": 36,
   "metadata": {},
   "outputs": [
    {
     "data": {
      "text/plain": [
       "EMBL          273867\n",
       "GI            270441\n",
       "EMBL-CDS      198723\n",
       "eggNOG        110646\n",
       "UniParc        95965\n",
       "               ...  \n",
       "Allergome         77\n",
       "PeroxiBase        33\n",
       "REBASE             5\n",
       "GeneDB             2\n",
       "PATRIC             1\n",
       "Name: id_type, Length: 68, dtype: int64"
      ]
     },
     "execution_count": 36,
     "metadata": {},
     "output_type": "execute_result"
    }
   ],
   "source": [
    "id_mapping.id_type.value_counts()"
   ]
  },
  {
   "cell_type": "code",
   "execution_count": 44,
   "metadata": {},
   "outputs": [
    {
     "data": {
      "text/plain": [
       "68"
      ]
     },
     "execution_count": 44,
     "metadata": {},
     "output_type": "execute_result"
    }
   ],
   "source": [
    "id_mapping.id_type.nunique()"
   ]
  },
  {
   "cell_type": "markdown",
   "metadata": {},
   "source": [
    "### Get ENSEMBL id mapping"
   ]
  },
  {
   "cell_type": "code",
   "execution_count": 40,
   "metadata": {},
   "outputs": [
    {
     "name": "stdout",
     "output_type": "stream",
     "text": [
      "(78145, 3)\n"
     ]
    },
    {
     "data": {
      "text/html": [
       "<div>\n",
       "<style scoped>\n",
       "    .dataframe tbody tr th:only-of-type {\n",
       "        vertical-align: middle;\n",
       "    }\n",
       "\n",
       "    .dataframe tbody tr th {\n",
       "        vertical-align: top;\n",
       "    }\n",
       "\n",
       "    .dataframe thead th {\n",
       "        text-align: right;\n",
       "    }\n",
       "</style>\n",
       "<table border=\"1\" class=\"dataframe\">\n",
       "  <thead>\n",
       "    <tr style=\"text-align: right;\">\n",
       "      <th></th>\n",
       "      <th>uniprot_id</th>\n",
       "      <th>id_type</th>\n",
       "      <th>db_id</th>\n",
       "    </tr>\n",
       "  </thead>\n",
       "  <tbody>\n",
       "    <tr>\n",
       "      <th>80</th>\n",
       "      <td>P61981</td>\n",
       "      <td>Ensembl</td>\n",
       "      <td>ENSG00000170027</td>\n",
       "    </tr>\n",
       "    <tr>\n",
       "      <th>178</th>\n",
       "      <td>P27348</td>\n",
       "      <td>Ensembl</td>\n",
       "      <td>ENSG00000134308</td>\n",
       "    </tr>\n",
       "    <tr>\n",
       "      <th>279</th>\n",
       "      <td>P30443</td>\n",
       "      <td>Ensembl</td>\n",
       "      <td>ENSG00000229215</td>\n",
       "    </tr>\n",
       "    <tr>\n",
       "      <th>282</th>\n",
       "      <td>P30443</td>\n",
       "      <td>Ensembl</td>\n",
       "      <td>ENSG00000224320</td>\n",
       "    </tr>\n",
       "    <tr>\n",
       "      <th>342</th>\n",
       "      <td>Q96QU6</td>\n",
       "      <td>Ensembl</td>\n",
       "      <td>ENSG00000110455</td>\n",
       "    </tr>\n",
       "  </tbody>\n",
       "</table>\n",
       "</div>"
      ],
      "text/plain": [
       "    uniprot_id  id_type            db_id\n",
       "80      P61981  Ensembl  ENSG00000170027\n",
       "178     P27348  Ensembl  ENSG00000134308\n",
       "279     P30443  Ensembl  ENSG00000229215\n",
       "282     P30443  Ensembl  ENSG00000224320\n",
       "342     Q96QU6  Ensembl  ENSG00000110455"
      ]
     },
     "execution_count": 40,
     "metadata": {},
     "output_type": "execute_result"
    }
   ],
   "source": [
    "ensembl_mapping = id_mapping.query('id_type == \"Ensembl\"')\n",
    "print(ensembl_mapping.shape)\n",
    "ensembl_mapping.head()"
   ]
  },
  {
   "cell_type": "markdown",
   "metadata": {},
   "source": [
    "### Get ENSEMBL TF ID mapping"
   ]
  },
  {
   "cell_type": "code",
   "execution_count": 42,
   "metadata": {},
   "outputs": [
    {
     "name": "stdout",
     "output_type": "stream",
     "text": [
      "(5753, 3)\n"
     ]
    },
    {
     "data": {
      "text/html": [
       "<div>\n",
       "<style scoped>\n",
       "    .dataframe tbody tr th:only-of-type {\n",
       "        vertical-align: middle;\n",
       "    }\n",
       "\n",
       "    .dataframe tbody tr th {\n",
       "        vertical-align: top;\n",
       "    }\n",
       "\n",
       "    .dataframe thead th {\n",
       "        text-align: right;\n",
       "    }\n",
       "</style>\n",
       "<table border=\"1\" class=\"dataframe\">\n",
       "  <thead>\n",
       "    <tr style=\"text-align: right;\">\n",
       "      <th></th>\n",
       "      <th>uniprot_id</th>\n",
       "      <th>id_type</th>\n",
       "      <th>db_id</th>\n",
       "    </tr>\n",
       "  </thead>\n",
       "  <tbody>\n",
       "    <tr>\n",
       "      <th>11056</th>\n",
       "      <td>Q6IQ32</td>\n",
       "      <td>Ensembl</td>\n",
       "      <td>ENSG00000101544</td>\n",
       "    </tr>\n",
       "    <tr>\n",
       "      <th>13379</th>\n",
       "      <td>P35869</td>\n",
       "      <td>Ensembl</td>\n",
       "      <td>ENSG00000106546</td>\n",
       "    </tr>\n",
       "    <tr>\n",
       "      <th>13744</th>\n",
       "      <td>O43918</td>\n",
       "      <td>Ensembl</td>\n",
       "      <td>ENSG00000160224</td>\n",
       "    </tr>\n",
       "    <tr>\n",
       "      <th>16547</th>\n",
       "      <td>O95076</td>\n",
       "      <td>Ensembl</td>\n",
       "      <td>ENSG00000156150</td>\n",
       "    </tr>\n",
       "    <tr>\n",
       "      <th>24705</th>\n",
       "      <td>Q14865</td>\n",
       "      <td>Ensembl</td>\n",
       "      <td>ENSG00000150347</td>\n",
       "    </tr>\n",
       "  </tbody>\n",
       "</table>\n",
       "</div>"
      ],
      "text/plain": [
       "      uniprot_id  id_type            db_id\n",
       "11056     Q6IQ32  Ensembl  ENSG00000101544\n",
       "13379     P35869  Ensembl  ENSG00000106546\n",
       "13744     O43918  Ensembl  ENSG00000160224\n",
       "16547     O95076  Ensembl  ENSG00000156150\n",
       "24705     Q14865  Ensembl  ENSG00000150347"
      ]
     },
     "execution_count": 42,
     "metadata": {},
     "output_type": "execute_result"
    }
   ],
   "source": [
    "ensembl_mapping_tfs = ensembl_mapping.query('db_id in @tf_df.ID')\n",
    "print(ensembl_mapping_tfs.shape)\n",
    "ensembl_mapping_tfs.head()"
   ]
  },
  {
   "cell_type": "code",
   "execution_count": 77,
   "metadata": {},
   "outputs": [
    {
     "name": "stdout",
     "output_type": "stream",
     "text": [
      "(5753, 8)\n"
     ]
    },
    {
     "data": {
      "text/html": [
       "<div>\n",
       "<style scoped>\n",
       "    .dataframe tbody tr th:only-of-type {\n",
       "        vertical-align: middle;\n",
       "    }\n",
       "\n",
       "    .dataframe tbody tr th {\n",
       "        vertical-align: top;\n",
       "    }\n",
       "\n",
       "    .dataframe thead th {\n",
       "        text-align: right;\n",
       "    }\n",
       "</style>\n",
       "<table border=\"1\" class=\"dataframe\">\n",
       "  <thead>\n",
       "    <tr style=\"text-align: right;\">\n",
       "      <th></th>\n",
       "      <th>Gene</th>\n",
       "      <th>ID</th>\n",
       "      <th>DBD</th>\n",
       "      <th>Motif status (Feb 2018)(Link to human TFs annotation)</th>\n",
       "      <th>IUPAC consensus (from selected PWM)</th>\n",
       "      <th>uniprot_id</th>\n",
       "      <th>id_type</th>\n",
       "      <th>db_id</th>\n",
       "    </tr>\n",
       "  </thead>\n",
       "  <tbody>\n",
       "    <tr>\n",
       "      <th>0</th>\n",
       "      <td>AC008770.3</td>\n",
       "      <td>ENSG00000267179</td>\n",
       "      <td>C2H2 ZF</td>\n",
       "      <td>Likely sequence specific TF according to liter...</td>\n",
       "      <td>NaN</td>\n",
       "      <td>K7EJH5</td>\n",
       "      <td>Ensembl</td>\n",
       "      <td>ENSG00000267179</td>\n",
       "    </tr>\n",
       "    <tr>\n",
       "      <th>1</th>\n",
       "      <td>AC008770.3</td>\n",
       "      <td>ENSG00000267179</td>\n",
       "      <td>C2H2 ZF</td>\n",
       "      <td>Likely sequence specific TF according to liter...</td>\n",
       "      <td>NaN</td>\n",
       "      <td>K7EPL6</td>\n",
       "      <td>Ensembl</td>\n",
       "      <td>ENSG00000267179</td>\n",
       "    </tr>\n",
       "    <tr>\n",
       "      <th>2</th>\n",
       "      <td>AC008770.3</td>\n",
       "      <td>ENSG00000267179</td>\n",
       "      <td>C2H2 ZF</td>\n",
       "      <td>Likely sequence specific TF according to liter...</td>\n",
       "      <td>NaN</td>\n",
       "      <td>F5H0A9</td>\n",
       "      <td>Ensembl</td>\n",
       "      <td>ENSG00000267179</td>\n",
       "    </tr>\n",
       "    <tr>\n",
       "      <th>3</th>\n",
       "      <td>AC023509.3</td>\n",
       "      <td>ENSG00000267281</td>\n",
       "      <td>bZIP</td>\n",
       "      <td>Known motif – from protein with 100% identical...</td>\n",
       "      <td>RTGACGTCAY</td>\n",
       "      <td>K7ELQ4</td>\n",
       "      <td>Ensembl</td>\n",
       "      <td>ENSG00000267281</td>\n",
       "    </tr>\n",
       "    <tr>\n",
       "      <th>4</th>\n",
       "      <td>AC092835.1</td>\n",
       "      <td>ENSG00000233757</td>\n",
       "      <td>C2H2 ZF</td>\n",
       "      <td>Likely sequence specific TF according to liter...</td>\n",
       "      <td>NaN</td>\n",
       "      <td>A0A087WUV0</td>\n",
       "      <td>Ensembl</td>\n",
       "      <td>ENSG00000233757</td>\n",
       "    </tr>\n",
       "  </tbody>\n",
       "</table>\n",
       "</div>"
      ],
      "text/plain": [
       "         Gene               ID      DBD  \\\n",
       "0  AC008770.3  ENSG00000267179  C2H2 ZF   \n",
       "1  AC008770.3  ENSG00000267179  C2H2 ZF   \n",
       "2  AC008770.3  ENSG00000267179  C2H2 ZF   \n",
       "3  AC023509.3  ENSG00000267281     bZIP   \n",
       "4  AC092835.1  ENSG00000233757  C2H2 ZF   \n",
       "\n",
       "  Motif status (Feb 2018)(Link to human TFs annotation)  \\\n",
       "0  Likely sequence specific TF according to liter...      \n",
       "1  Likely sequence specific TF according to liter...      \n",
       "2  Likely sequence specific TF according to liter...      \n",
       "3  Known motif – from protein with 100% identical...      \n",
       "4  Likely sequence specific TF according to liter...      \n",
       "\n",
       "  IUPAC consensus (from selected PWM)  uniprot_id  id_type            db_id  \n",
       "0                                 NaN      K7EJH5  Ensembl  ENSG00000267179  \n",
       "1                                 NaN      K7EPL6  Ensembl  ENSG00000267179  \n",
       "2                                 NaN      F5H0A9  Ensembl  ENSG00000267179  \n",
       "3                          RTGACGTCAY      K7ELQ4  Ensembl  ENSG00000267281  \n",
       "4                                 NaN  A0A087WUV0  Ensembl  ENSG00000233757  "
      ]
     },
     "execution_count": 77,
     "metadata": {},
     "output_type": "execute_result"
    }
   ],
   "source": [
    "tf_df_uniprot = tf_df.merge(ensembl_mapping, left_on='ID', right_on='db_id')\n",
    "print(tf_df_uniprot.shape)\n",
    "tf_df_uniprot.head()"
   ]
  },
  {
   "cell_type": "code",
   "execution_count": 56,
   "metadata": {},
   "outputs": [
    {
     "data": {
      "text/plain": [
       "5749"
      ]
     },
     "execution_count": 56,
     "metadata": {},
     "output_type": "execute_result"
    }
   ],
   "source": [
    "ensembl_mapping_tfs.uniprot_id.nunique()"
   ]
  },
  {
   "cell_type": "code",
   "execution_count": 43,
   "metadata": {},
   "outputs": [
    {
     "data": {
      "text/plain": [
       "1633"
      ]
     },
     "execution_count": 43,
     "metadata": {},
     "output_type": "execute_result"
    }
   ],
   "source": [
    "ensembl_mapping_tfs.db_id.nunique()"
   ]
  },
  {
   "cell_type": "code",
   "execution_count": null,
   "metadata": {},
   "outputs": [],
   "source": [
    "ensembl_protein = id_mapping.query('')"
   ]
  },
  {
   "cell_type": "code",
   "execution_count": 20,
   "metadata": {},
   "outputs": [],
   "source": [
    "# !grep ENSG Eukaryota/human-protein-fastas/* "
   ]
  },
  {
   "cell_type": "code",
   "execution_count": 15,
   "metadata": {},
   "outputs": [],
   "source": [
    "human_outdir = 'Eukaryota/human-transcription-factor-fastas/'\n",
    "! mkdir $human_outdir"
   ]
  },
  {
   "cell_type": "markdown",
   "metadata": {},
   "source": [
    "# Read human proteins and subset to human tfs"
   ]
  },
  {
   "cell_type": "code",
   "execution_count": 57,
   "metadata": {},
   "outputs": [],
   "source": [
    "tf_records = []\n",
    "\n",
    "\n",
    "for filename in iglob('Eukaryota/human-protein-fastas/*.fasta'):\n",
    "    with screed.open(filename) as records:\n",
    "        for record in records:\n",
    "            name = record['name']\n",
    "            record_id = name.split()[0]\n",
    "            uniprot_id = record_id.split('|')[1]\n",
    "            if uniprot_id in ensembl_mapping_tfs.uniprot_id.values:\n",
    "                tf_records.append(record)\n",
    "print(len(tf_records))\n"
   ]
  },
  {
   "cell_type": "code",
   "execution_count": 58,
   "metadata": {},
   "outputs": [
    {
     "data": {
      "text/plain": [
       "[{'name': 'tr|A0A087WUV0|A0A087WUV0_HUMAN Uncharacterized protein OS=Homo sapiens OX=9606 PE=1 SV=1', 'sequence': 'MEPEGRGSLFEDSDLLHAGNPKENDVTAVLLTPGSQELMIRDMAEALTQWRQLNSPQGDVPEKPRNLVLLGLPISTPDVISQLEHEEELEREVSKAASQKHWETIPESKELTPEKDISEEESAPGVLIVRFSKESSSECEDSLESQQENHEKHLIQEAVTEKSSRERSYQSDEFRRNCTQRSLLVQQQGERLHHCDSFKNNLKQNSDIIRHERICAGKKPWKCNECEKAFSYYSAFVLHQRIHTGEKPYECNECGKAFSQSIHLTLHQRIHTGEKPYECHECGKAFSHRSALIRHHIIHTGEKPYECNECGKAFNQSSYLTQHQRIHTGEKPYECNECGKAFSQSTFLTQHQVIHTGEKPYKCNECGKAFSDRSGLIQHQRTHTGERPYECNECGKAFGYCSALTQHQRTHTGEKPYKCNDCAKAFSDRSALIRHQRTHTGEKPYKCKDCGKAFSQSSSLTKHQKTHTGEKPYKCKECGKAFSQSSSLSQHQKTHAGVKTKKYVQALSEHLTFGQHKRIHTG', 'description': ''},\n",
       " {'name': 'sp|A0AVK6|E2F8_HUMAN Transcription factor E2F8 OS=Homo sapiens OX=9606 GN=E2F8 PE=1 SV=1', 'sequence': 'MENEKENLFCEPHKRGLMKTPLKESTTANIVLAEIQPDFGPLTTPTKPKEGSQGEPWTPTANLKMLISAVSPEIRNRDQKRGLFDNRSGLPEAKDCIHEHLSGDEFEKSQPSRKEKSLGLLCHKFLARYPNYPNPAVNNDICLDEVAEELNVERRRIYDIVNVLESLHMVSRLAKNRYTWHGRHNLNKTLGTLKSIGEENKYAEQIMMIKKKEYEQEFDFIKSYSIEDHIIKSNTGPNGHPDMCFVELPGVEFRAASVNSRKDKSLRVMSQKFVMLFLVSTPQIVSLEVAAKILIGEDHVEDLDKSKFKTKIRRLYDIANVLSSLDLIKKVHVTEERGRKPAFKWTGPEISPNTSGSSPVIHFTPSDLEVRRSSKENCAKNLFSTRGKPNFTRHPSLIKLVKSIESDRRKINSAPSSPIKTNKAESSQNSAPFPSKMAQLAAICKMQLEEQSSESRQKVKVQLARSGPCKPVAPLDPPVNAEMELTAPSLIQPLGMVPLIPSPLSSAVPLILPQAPSGPSYAIYLQPTQAHQSVTPPQGLSPTVCTTHSSKATGSKDSTDATTEKAANDTSKASASTRPGSLLPAPERQGAKSRTREPAGERGSKRASMLEDSGSKKKFKEDLKGLENVSATLFPSGYLIPLTQCSSLGAESILSGKENSSALSPNHRIYSSPIAGVIPVTSSELTAVNFPSFHVTPLKLMVSPTSVAAVPVGNSPALASSHPVPIQNPSSAIVNFTLQHLGLISPNVQLSASPGSGIVPVSPRIESVNVAPENAGTQQGRATNYDSPVPGQSQPNGQSVAVTGAQQPVPVTPKGSQLVAESFFRTPGGPTKPTSSSCMDFEGANKTSLGTLFVPQRKLEVSTEDVH', 'description': ''},\n",
       " {'name': 'sp|A0PJY2|FEZF1_HUMAN Fez family zinc finger protein 1 OS=Homo sapiens OX=9606 GN=FEZF1 PE=1 SV=1', 'sequence': 'MDSSCHNATTKMLATAPARGNMMSTSKPLAFSIERIMARTPEPKALPVPHFLQGALPKGEPKHSLHLNSSIPCMIPFVPVAYDTSPKAGVTGSEPRKASLEAPAAPAAVPSAPAFSCSDLLNCALSLKGDLARDALPLQQYKLVRPRVVNHSSFHAMGALCYLNRGDGPCHPAAGVNIHPVASYFLSSPLHPQPKTYLAERNKLVVPAVEKYPSGVAFKDLSQAQLQHYMKESAQLLSEKIAFKTSDFSRGSPNAKPKVFTCEVCGKVFNAHYNLTRHMPVHTGARPFVCKVCGKGFRQASTLCRHKIIHTQEKPHKCNQCGKAFNRSSTLNTHTRIHAGYKPFVCEFCGKGFHQKGNYKNHKLTHSGEKQFKCNICNKAFHQVYNLTFHMHTHNDKKPFTCPTCGKGFCRNFDLKKHVRKLHDSSLGLARTPAGEPGTEPPPPLPQQPPMTLPPLQPPLPTPGPLQPGLHQGHQ', 'description': ''}]"
      ]
     },
     "execution_count": 58,
     "metadata": {},
     "output_type": "execute_result"
    }
   ],
   "source": [
    "tf_records[:3]"
   ]
  },
  {
   "cell_type": "markdown",
   "metadata": {},
   "source": [
    "## Write output"
   ]
  },
  {
   "cell_type": "code",
   "execution_count": 61,
   "metadata": {},
   "outputs": [],
   "source": [
    "\n",
    "with open(f'{human_outdir}/human_transcription_factor_proteins.fasta', 'w') as f:\n",
    "    for record in tf_records:\n",
    "        f.write(\">{name}\\n{sequence}\\n\".format(**record))"
   ]
  },
  {
   "cell_type": "markdown",
   "metadata": {},
   "source": [
    "# Read non-human proteins and subset if they are an ortholog of a TF"
   ]
  },
  {
   "cell_type": "markdown",
   "metadata": {},
   "source": [
    "## Make outdir"
   ]
  },
  {
   "cell_type": "code",
   "execution_count": 100,
   "metadata": {},
   "outputs": [
    {
     "name": "stdout",
     "output_type": "stream",
     "text": [
      "mkdir: cannot create directory ‘Eukaryota/not-human-transcription-factor-fastas/’: File exists\n"
     ]
    }
   ],
   "source": [
    "not_human_outdir = 'Eukaryota/not-human-transcription-factor-fastas/'\n",
    "! mkdir $not_human_outdir\n"
   ]
  },
  {
   "cell_type": "markdown",
   "metadata": {},
   "source": [
    "## Subset OMA to only orthologs of ensembl tfs"
   ]
  },
  {
   "cell_type": "code",
   "execution_count": 65,
   "metadata": {},
   "outputs": [
    {
     "name": "stdout",
     "output_type": "stream",
     "text": [
      "(927900, 3)\n"
     ]
    },
    {
     "data": {
      "text/html": [
       "<div>\n",
       "<style scoped>\n",
       "    .dataframe tbody tr th:only-of-type {\n",
       "        vertical-align: middle;\n",
       "    }\n",
       "\n",
       "    .dataframe tbody tr th {\n",
       "        vertical-align: top;\n",
       "    }\n",
       "\n",
       "    .dataframe thead th {\n",
       "        text-align: right;\n",
       "    }\n",
       "</style>\n",
       "<table border=\"1\" class=\"dataframe\">\n",
       "  <thead>\n",
       "    <tr style=\"text-align: right;\">\n",
       "      <th></th>\n",
       "      <th>protein_id1</th>\n",
       "      <th>protein_id2</th>\n",
       "      <th>go_similarity</th>\n",
       "    </tr>\n",
       "  </thead>\n",
       "  <tbody>\n",
       "    <tr>\n",
       "      <th>0</th>\n",
       "      <td>Q5JCX3</td>\n",
       "      <td>P07650</td>\n",
       "      <td>0.373544</td>\n",
       "    </tr>\n",
       "    <tr>\n",
       "      <th>1</th>\n",
       "      <td>Q5JCX3</td>\n",
       "      <td>P19971</td>\n",
       "      <td>0.467737</td>\n",
       "    </tr>\n",
       "    <tr>\n",
       "      <th>2</th>\n",
       "      <td>Q5JDA9</td>\n",
       "      <td>O67379</td>\n",
       "      <td>1.000000</td>\n",
       "    </tr>\n",
       "    <tr>\n",
       "      <th>3</th>\n",
       "      <td>Q5JF32</td>\n",
       "      <td>Q9DEA3</td>\n",
       "      <td>0.460952</td>\n",
       "    </tr>\n",
       "    <tr>\n",
       "      <th>4</th>\n",
       "      <td>Q5JF32</td>\n",
       "      <td>P17918</td>\n",
       "      <td>0.575735</td>\n",
       "    </tr>\n",
       "  </tbody>\n",
       "</table>\n",
       "</div>"
      ],
      "text/plain": [
       "  protein_id1 protein_id2  go_similarity\n",
       "0      Q5JCX3      P07650       0.373544\n",
       "1      Q5JCX3      P19971       0.467737\n",
       "2      Q5JDA9      O67379       1.000000\n",
       "3      Q5JF32      Q9DEA3       0.460952\n",
       "4      Q5JF32      P17918       0.575735"
      ]
     },
     "execution_count": 65,
     "metadata": {},
     "output_type": "execute_result"
    }
   ],
   "source": [
    "print(oma.shape)\n",
    "oma.head()"
   ]
  },
  {
   "cell_type": "markdown",
   "metadata": {},
   "source": [
    "## is OMA reciprocal? -- YES!"
   ]
  },
  {
   "cell_type": "code",
   "execution_count": 79,
   "metadata": {},
   "outputs": [
    {
     "data": {
      "text/html": [
       "<div>\n",
       "<style scoped>\n",
       "    .dataframe tbody tr th:only-of-type {\n",
       "        vertical-align: middle;\n",
       "    }\n",
       "\n",
       "    .dataframe tbody tr th {\n",
       "        vertical-align: top;\n",
       "    }\n",
       "\n",
       "    .dataframe thead th {\n",
       "        text-align: right;\n",
       "    }\n",
       "</style>\n",
       "<table border=\"1\" class=\"dataframe\">\n",
       "  <thead>\n",
       "    <tr style=\"text-align: right;\">\n",
       "      <th></th>\n",
       "      <th>protein_id1</th>\n",
       "      <th>protein_id2</th>\n",
       "      <th>go_similarity</th>\n",
       "    </tr>\n",
       "  </thead>\n",
       "  <tbody>\n",
       "    <tr>\n",
       "      <th>0</th>\n",
       "      <td>Q5JCX3</td>\n",
       "      <td>P07650</td>\n",
       "      <td>0.373544</td>\n",
       "    </tr>\n",
       "  </tbody>\n",
       "</table>\n",
       "</div>"
      ],
      "text/plain": [
       "  protein_id1 protein_id2  go_similarity\n",
       "0      Q5JCX3      P07650       0.373544"
      ]
     },
     "execution_count": 79,
     "metadata": {},
     "output_type": "execute_result"
    }
   ],
   "source": [
    "oma.query('protein_id2 == \"P07650\" & protein_id1 == \"Q5JCX3\"')"
   ]
  },
  {
   "cell_type": "code",
   "execution_count": 63,
   "metadata": {},
   "outputs": [
    {
     "data": {
      "text/html": [
       "<div>\n",
       "<style scoped>\n",
       "    .dataframe tbody tr th:only-of-type {\n",
       "        vertical-align: middle;\n",
       "    }\n",
       "\n",
       "    .dataframe tbody tr th {\n",
       "        vertical-align: top;\n",
       "    }\n",
       "\n",
       "    .dataframe thead th {\n",
       "        text-align: right;\n",
       "    }\n",
       "</style>\n",
       "<table border=\"1\" class=\"dataframe\">\n",
       "  <thead>\n",
       "    <tr style=\"text-align: right;\">\n",
       "      <th></th>\n",
       "      <th>uniprot_id</th>\n",
       "      <th>id_type</th>\n",
       "      <th>db_id</th>\n",
       "    </tr>\n",
       "  </thead>\n",
       "  <tbody>\n",
       "    <tr>\n",
       "      <th>11056</th>\n",
       "      <td>Q6IQ32</td>\n",
       "      <td>Ensembl</td>\n",
       "      <td>ENSG00000101544</td>\n",
       "    </tr>\n",
       "    <tr>\n",
       "      <th>13379</th>\n",
       "      <td>P35869</td>\n",
       "      <td>Ensembl</td>\n",
       "      <td>ENSG00000106546</td>\n",
       "    </tr>\n",
       "    <tr>\n",
       "      <th>13744</th>\n",
       "      <td>O43918</td>\n",
       "      <td>Ensembl</td>\n",
       "      <td>ENSG00000160224</td>\n",
       "    </tr>\n",
       "    <tr>\n",
       "      <th>16547</th>\n",
       "      <td>O95076</td>\n",
       "      <td>Ensembl</td>\n",
       "      <td>ENSG00000156150</td>\n",
       "    </tr>\n",
       "    <tr>\n",
       "      <th>24705</th>\n",
       "      <td>Q14865</td>\n",
       "      <td>Ensembl</td>\n",
       "      <td>ENSG00000150347</td>\n",
       "    </tr>\n",
       "  </tbody>\n",
       "</table>\n",
       "</div>"
      ],
      "text/plain": [
       "      uniprot_id  id_type            db_id\n",
       "11056     Q6IQ32  Ensembl  ENSG00000101544\n",
       "13379     P35869  Ensembl  ENSG00000106546\n",
       "13744     O43918  Ensembl  ENSG00000160224\n",
       "16547     O95076  Ensembl  ENSG00000156150\n",
       "24705     Q14865  Ensembl  ENSG00000150347"
      ]
     },
     "execution_count": 63,
     "metadata": {},
     "output_type": "execute_result"
    }
   ],
   "source": [
    "ensembl_mapping_tfs.head()"
   ]
  },
  {
   "cell_type": "code",
   "execution_count": 75,
   "metadata": {},
   "outputs": [
    {
     "data": {
      "text/plain": [
       "5749"
      ]
     },
     "execution_count": 75,
     "metadata": {},
     "output_type": "execute_result"
    }
   ],
   "source": [
    "uniprot_tfs = set(ensembl_mapping_tfs.uniprot_id)\n",
    "len(uniprot_tfs)"
   ]
  },
  {
   "cell_type": "markdown",
   "metadata": {},
   "source": [
    "## Add OMA to TF + uniprot dataframe"
   ]
  },
  {
   "cell_type": "code",
   "execution_count": 80,
   "metadata": {},
   "outputs": [
    {
     "name": "stdout",
     "output_type": "stream",
     "text": [
      "(21350, 11)\n"
     ]
    },
    {
     "data": {
      "text/html": [
       "<div>\n",
       "<style scoped>\n",
       "    .dataframe tbody tr th:only-of-type {\n",
       "        vertical-align: middle;\n",
       "    }\n",
       "\n",
       "    .dataframe tbody tr th {\n",
       "        vertical-align: top;\n",
       "    }\n",
       "\n",
       "    .dataframe thead th {\n",
       "        text-align: right;\n",
       "    }\n",
       "</style>\n",
       "<table border=\"1\" class=\"dataframe\">\n",
       "  <thead>\n",
       "    <tr style=\"text-align: right;\">\n",
       "      <th></th>\n",
       "      <th>Gene</th>\n",
       "      <th>ID</th>\n",
       "      <th>DBD</th>\n",
       "      <th>Motif status (Feb 2018)(Link to human TFs annotation)</th>\n",
       "      <th>IUPAC consensus (from selected PWM)</th>\n",
       "      <th>uniprot_id</th>\n",
       "      <th>id_type</th>\n",
       "      <th>db_id</th>\n",
       "      <th>protein_id1</th>\n",
       "      <th>protein_id2</th>\n",
       "      <th>go_similarity</th>\n",
       "    </tr>\n",
       "  </thead>\n",
       "  <tbody>\n",
       "    <tr>\n",
       "      <th>0</th>\n",
       "      <td>ARNT</td>\n",
       "      <td>ENSG00000143437</td>\n",
       "      <td>bHLH</td>\n",
       "      <td>Known motif – from protein with 100% identical...</td>\n",
       "      <td>KCACGTGM</td>\n",
       "      <td>P27540</td>\n",
       "      <td>Ensembl</td>\n",
       "      <td>ENSG00000143437</td>\n",
       "      <td>P27540</td>\n",
       "      <td>Q9BE97</td>\n",
       "      <td>0.621954</td>\n",
       "    </tr>\n",
       "    <tr>\n",
       "      <th>1</th>\n",
       "      <td>CDC5L</td>\n",
       "      <td>ENSG00000096401</td>\n",
       "      <td>Myb/SANT</td>\n",
       "      <td>Known motif – In vivo/Misc source [91]</td>\n",
       "      <td>VBGWKDTAAYRWAWB</td>\n",
       "      <td>Q99459</td>\n",
       "      <td>Ensembl</td>\n",
       "      <td>ENSG00000096401</td>\n",
       "      <td>Q99459</td>\n",
       "      <td>P92948</td>\n",
       "      <td>0.475321</td>\n",
       "    </tr>\n",
       "    <tr>\n",
       "      <th>2</th>\n",
       "      <td>CEBPZ</td>\n",
       "      <td>ENSG00000115816</td>\n",
       "      <td>Unknown</td>\n",
       "      <td>Known motif – In vivo/Misc source [100]</td>\n",
       "      <td>DSTSATTGGCT</td>\n",
       "      <td>Q03701</td>\n",
       "      <td>Ensembl</td>\n",
       "      <td>ENSG00000115816</td>\n",
       "      <td>Q03701</td>\n",
       "      <td>F4IDC2</td>\n",
       "      <td>0.103061</td>\n",
       "    </tr>\n",
       "    <tr>\n",
       "      <th>3</th>\n",
       "      <td>CRX</td>\n",
       "      <td>ENSG00000105392</td>\n",
       "      <td>Homeodomain</td>\n",
       "      <td>Known motif – High-throughput in vitro [124]</td>\n",
       "      <td>TAATCC</td>\n",
       "      <td>O43186</td>\n",
       "      <td>Ensembl</td>\n",
       "      <td>ENSG00000105392</td>\n",
       "      <td>O43186</td>\n",
       "      <td>Q9XSK0</td>\n",
       "      <td>0.622423</td>\n",
       "    </tr>\n",
       "    <tr>\n",
       "      <th>4</th>\n",
       "      <td>CXXC4</td>\n",
       "      <td>ENSG00000168772</td>\n",
       "      <td>CxxC</td>\n",
       "      <td>Likely sequence specific TF according to liter...</td>\n",
       "      <td>NaN</td>\n",
       "      <td>Q9H2H0</td>\n",
       "      <td>Ensembl</td>\n",
       "      <td>ENSG00000168772</td>\n",
       "      <td>Q9H2H0</td>\n",
       "      <td>Q0VFP6</td>\n",
       "      <td>0.076427</td>\n",
       "    </tr>\n",
       "  </tbody>\n",
       "</table>\n",
       "</div>"
      ],
      "text/plain": [
       "    Gene               ID          DBD  \\\n",
       "0   ARNT  ENSG00000143437         bHLH   \n",
       "1  CDC5L  ENSG00000096401     Myb/SANT   \n",
       "2  CEBPZ  ENSG00000115816      Unknown   \n",
       "3    CRX  ENSG00000105392  Homeodomain   \n",
       "4  CXXC4  ENSG00000168772         CxxC   \n",
       "\n",
       "  Motif status (Feb 2018)(Link to human TFs annotation)  \\\n",
       "0  Known motif – from protein with 100% identical...      \n",
       "1             Known motif – In vivo/Misc source [91]      \n",
       "2            Known motif – In vivo/Misc source [100]      \n",
       "3       Known motif – High-throughput in vitro [124]      \n",
       "4  Likely sequence specific TF according to liter...      \n",
       "\n",
       "  IUPAC consensus (from selected PWM) uniprot_id  id_type            db_id  \\\n",
       "0                            KCACGTGM     P27540  Ensembl  ENSG00000143437   \n",
       "1                     VBGWKDTAAYRWAWB     Q99459  Ensembl  ENSG00000096401   \n",
       "2                         DSTSATTGGCT     Q03701  Ensembl  ENSG00000115816   \n",
       "3                              TAATCC     O43186  Ensembl  ENSG00000105392   \n",
       "4                                 NaN     Q9H2H0  Ensembl  ENSG00000168772   \n",
       "\n",
       "  protein_id1 protein_id2  go_similarity  \n",
       "0      P27540      Q9BE97       0.621954  \n",
       "1      Q99459      P92948       0.475321  \n",
       "2      Q03701      F4IDC2       0.103061  \n",
       "3      O43186      Q9XSK0       0.622423  \n",
       "4      Q9H2H0      Q0VFP6       0.076427  "
      ]
     },
     "execution_count": 80,
     "metadata": {},
     "output_type": "execute_result"
    }
   ],
   "source": [
    "tfs_uniprot_oma = tf_df_uniprot.merge(oma, left_on='uniprot_id', right_on='protein_id1')\n",
    "print(tfs_uniprot_oma.shape)\n",
    "tfs_uniprot_oma.head()"
   ]
  },
  {
   "cell_type": "code",
   "execution_count": 87,
   "metadata": {},
   "outputs": [
    {
     "data": {
      "text/plain": [
       "ENSG00000142528    352\n",
       "ENSG00000171817    352\n",
       "ENSG00000170631    352\n",
       "ENSG00000172273    352\n",
       "ENSG00000102189    352\n",
       "                  ... \n",
       "ENSG00000127445      1\n",
       "ENSG00000105392      1\n",
       "ENSG00000185129      1\n",
       "ENSG00000170515      1\n",
       "ENSG00000100644      1\n",
       "Name: ID, Length: 112, dtype: int64"
      ]
     },
     "execution_count": 87,
     "metadata": {},
     "output_type": "execute_result"
    }
   ],
   "source": [
    "tfs_uniprot_oma.ID.value_counts()"
   ]
  },
  {
   "cell_type": "markdown",
   "metadata": {},
   "source": [
    "## Which species are these orthologous TFs in?"
   ]
  },
  {
   "cell_type": "code",
   "execution_count": 107,
   "metadata": {},
   "outputs": [
    {
     "name": "stdout",
     "output_type": "stream",
     "text": [
      "-rw-r--r-- 1 olga 2598262 Apr 11  2019 Eukaryota/UP000000437_7955.gene2acc\n",
      "-rw-r--r-- 1 olga 1300443 Apr 11  2019 Eukaryota/UP000000539_9031.gene2acc\n",
      "-rw-r--r-- 1 olga  274395 Apr 11  2019 Eukaryota/UP000000542_5664.gene2acc\n",
      "-rw-r--r-- 1 olga  271989 Apr 11  2019 Eukaryota/UP000000559_237561.gene2acc\n",
      "-rw-r--r-- 1 olga  221943 Apr 11  2019 Eukaryota/UP000000561_237631.gene2acc\n",
      "-rw-r--r-- 1 olga 1973957 Apr 11  2019 Eukaryota/UP000000589_10090.gene2acc\n",
      "-rw-r--r-- 1 olga 1698073 Apr 11  2019 Eukaryota/UP000000600_5888.gene2acc\n",
      "-rw-r--r-- 1 olga 1113953 Apr 11  2019 Eukaryota/UP000000803_7227.gene2acc\n",
      "-rw-r--r-- 1 olga 1703916 Apr 11  2019 Eukaryota/UP000001038_8090.gene2acc\n",
      "-rw-r--r-- 1 olga  464020 Apr 11  2019 Eukaryota/UP000001055_321614.gene2acc\n"
     ]
    }
   ],
   "source": [
    "ll Eukaryota/*gene2acc | head"
   ]
  },
  {
   "cell_type": "code",
   "execution_count": 108,
   "metadata": {},
   "outputs": [
    {
     "name": "stdout",
     "output_type": "stream",
     "text": [
      "==> Eukaryota/UP000000437_7955.gene2acc <==\n",
      "-\tA0A0J9YJK1\t-\n",
      "-\tA0A0J9YJH4\t-\n",
      "-\tA0A0J9YJF6\t-\n",
      "-\tA0A0J9YJD3\t-\n",
      "-\tA0A0J9YJD0\t-\n",
      "-\tA0A0J9YJA9\t-\n",
      "-\tA0A0J9YJ97\t-\n",
      "-\tA0A0J9YJ90\t-\n",
      "-\tA0A0J9YJ89\t-\n",
      "-\tA0A0J9YJ87\t-\n",
      "\n",
      "==> Eukaryota/UP000000539_9031.gene2acc <==\n",
      "-\tP12275\t-\n",
      "-\tP12264\t-\n",
      "-\tP12105\t-\n",
      "-\tP11722\t-\n",
      "-\tP11682\t-\n",
      "-\tP11148\t-\n",
      "-\tP10399\t-\n",
      "-\tP0C915\t-\n",
      "-\tP09987\t-\n",
      "-\tP09859\t-\n",
      "\n",
      "==> Eukaryota/UP000000542_5664.gene2acc <==\n",
      "LMJF_01_0010\tE9ABZ0\tLMJF_01_0010\n",
      "LMJF_01_0020\tE9ABZ1\tLMJF_01_0020\n",
      "LMJF_01_0030\tE9ABZ2\tLMJF_01_0030\n",
      "LMJF_01_0040\tE9ABZ3\tLMJF_01_0040\n",
      "LMJF_01_0050\tE9ABZ4\tLMJF_01_0050\n",
      "LMJF_01_0060\tE9ABZ5\tLMJF_01_0060\n",
      "LMJF_01_0070\tE9ABZ6\tLMJF_01_0070\n",
      "LMJF_01_0080\tE9ABZ7\tLMJF_01_0080\n",
      "LMJF_01_0090\tE9ABZ8\tLMJF_01_0090\n",
      "LMJF_01_0100\tE9ABZ9\tLMJF_01_0100\n"
     ]
    }
   ],
   "source": [
    "ls -1 Eukaryota/*gene2acc | head -n 3 | xargs head"
   ]
  },
  {
   "cell_type": "code",
   "execution_count": 111,
   "metadata": {},
   "outputs": [
    {
     "name": "stdout",
     "output_type": "stream",
     "text": [
      "(1262251, 4)\n"
     ]
    },
    {
     "data": {
      "text/html": [
       "<div>\n",
       "<style scoped>\n",
       "    .dataframe tbody tr th:only-of-type {\n",
       "        vertical-align: middle;\n",
       "    }\n",
       "\n",
       "    .dataframe tbody tr th {\n",
       "        vertical-align: top;\n",
       "    }\n",
       "\n",
       "    .dataframe thead th {\n",
       "        text-align: right;\n",
       "    }\n",
       "</style>\n",
       "<table border=\"1\" class=\"dataframe\">\n",
       "  <thead>\n",
       "    <tr style=\"text-align: right;\">\n",
       "      <th></th>\n",
       "      <th>maybe_ensembl_id</th>\n",
       "      <th>uniprot_id</th>\n",
       "      <th>canonical_accession</th>\n",
       "      <th>species_id</th>\n",
       "    </tr>\n",
       "  </thead>\n",
       "  <tbody>\n",
       "    <tr>\n",
       "      <th>0</th>\n",
       "      <td>NaN</td>\n",
       "      <td>Q0N4G7</td>\n",
       "      <td>NaN</td>\n",
       "      <td>UP000001593</td>\n",
       "    </tr>\n",
       "    <tr>\n",
       "      <th>1</th>\n",
       "      <td>NaN</td>\n",
       "      <td>Q0N4G2</td>\n",
       "      <td>NaN</td>\n",
       "      <td>UP000001593</td>\n",
       "    </tr>\n",
       "    <tr>\n",
       "      <th>2</th>\n",
       "      <td>NaN</td>\n",
       "      <td>Q0N4A8</td>\n",
       "      <td>NaN</td>\n",
       "      <td>UP000001593</td>\n",
       "    </tr>\n",
       "    <tr>\n",
       "      <th>3</th>\n",
       "      <td>NaN</td>\n",
       "      <td>A8DWV8</td>\n",
       "      <td>NaN</td>\n",
       "      <td>UP000001593</td>\n",
       "    </tr>\n",
       "    <tr>\n",
       "      <th>4</th>\n",
       "      <td>NaN</td>\n",
       "      <td>A8DWV7</td>\n",
       "      <td>NaN</td>\n",
       "      <td>UP000001593</td>\n",
       "    </tr>\n",
       "  </tbody>\n",
       "</table>\n",
       "</div>"
      ],
      "text/plain": [
       "  maybe_ensembl_id uniprot_id canonical_accession   species_id\n",
       "0              NaN     Q0N4G7                 NaN  UP000001593\n",
       "1              NaN     Q0N4G2                 NaN  UP000001593\n",
       "2              NaN     Q0N4A8                 NaN  UP000001593\n",
       "3              NaN     A8DWV8                 NaN  UP000001593\n",
       "4              NaN     A8DWV7                 NaN  UP000001593"
      ]
     },
     "execution_count": 111,
     "metadata": {},
     "output_type": "execute_result"
    }
   ],
   "source": [
    "dfs = []\n",
    "\n",
    "for filename in iglob('Eukaryota/*gene2acc'):\n",
    "    basename = os.path.basename(filename)\n",
    "    species_id = basename.split('_')[0]\n",
    "    df = read_gene2acc(filename)\n",
    "    df['species_id'] = species_id\n",
    "    dfs.append(df)\n",
    "gene2acc = pd.concat(dfs)\n",
    "print(gene2acc.shape)\n",
    "gene2acc.head()"
   ]
  },
  {
   "cell_type": "code",
   "execution_count": 112,
   "metadata": {},
   "outputs": [
    {
     "data": {
      "text/html": [
       "<div>\n",
       "<style scoped>\n",
       "    .dataframe tbody tr th:only-of-type {\n",
       "        vertical-align: middle;\n",
       "    }\n",
       "\n",
       "    .dataframe tbody tr th {\n",
       "        vertical-align: top;\n",
       "    }\n",
       "\n",
       "    .dataframe thead th {\n",
       "        text-align: right;\n",
       "    }\n",
       "</style>\n",
       "<table border=\"1\" class=\"dataframe\">\n",
       "  <thead>\n",
       "    <tr style=\"text-align: right;\">\n",
       "      <th></th>\n",
       "      <th>proteome_id</th>\n",
       "      <th>tax_id</th>\n",
       "      <th>oscode</th>\n",
       "      <th>n_main_fasta_canonical</th>\n",
       "      <th>n_additional_fasta_isoforms</th>\n",
       "      <th>n_gene2acc</th>\n",
       "      <th>species_name</th>\n",
       "      <th>divergence_from_human_mya</th>\n",
       "      <th>scientific_name</th>\n",
       "      <th>common_name_or_strain</th>\n",
       "    </tr>\n",
       "  </thead>\n",
       "  <tbody>\n",
       "    <tr>\n",
       "      <th>0</th>\n",
       "      <td>UP000007062</td>\n",
       "      <td>7165</td>\n",
       "      <td>ANOGA</td>\n",
       "      <td>12553</td>\n",
       "      <td>971</td>\n",
       "      <td>13619</td>\n",
       "      <td>Anopheles gambiae (African malaria mosquito)</td>\n",
       "      <td>797.0</td>\n",
       "      <td>Anopheles gambiae</td>\n",
       "      <td>African malaria mosquito</td>\n",
       "    </tr>\n",
       "    <tr>\n",
       "      <th>1</th>\n",
       "      <td>UP000000798</td>\n",
       "      <td>224324</td>\n",
       "      <td>AQUAE</td>\n",
       "      <td>1553</td>\n",
       "      <td>0</td>\n",
       "      <td>1557</td>\n",
       "      <td>Aquifex aeolicus (strain VF5)</td>\n",
       "      <td>4290.0</td>\n",
       "      <td>Aquifex aeolicus</td>\n",
       "      <td>strain VF5</td>\n",
       "    </tr>\n",
       "    <tr>\n",
       "      <th>2</th>\n",
       "      <td>UP000006548</td>\n",
       "      <td>3702</td>\n",
       "      <td>ARATH</td>\n",
       "      <td>27475</td>\n",
       "      <td>14123</td>\n",
       "      <td>41920</td>\n",
       "      <td>Arabidopsis thaliana (Mouse-ear cress)</td>\n",
       "      <td>1496.0</td>\n",
       "      <td>Arabidopsis thaliana</td>\n",
       "      <td>Mouse-ear cress</td>\n",
       "    </tr>\n",
       "    <tr>\n",
       "      <th>3</th>\n",
       "      <td>UP000001570</td>\n",
       "      <td>224308</td>\n",
       "      <td>BACSU</td>\n",
       "      <td>4260</td>\n",
       "      <td>7</td>\n",
       "      <td>4268</td>\n",
       "      <td>Bacillus subtilis (strain 168)</td>\n",
       "      <td>4290.0</td>\n",
       "      <td>Bacillus subtilis</td>\n",
       "      <td>strain 168</td>\n",
       "    </tr>\n",
       "    <tr>\n",
       "      <th>4</th>\n",
       "      <td>UP000001414</td>\n",
       "      <td>226186</td>\n",
       "      <td>BACTN</td>\n",
       "      <td>4782</td>\n",
       "      <td>0</td>\n",
       "      <td>4823</td>\n",
       "      <td>Bacteroides thetaiotaomicron (strain ATCC 2914...</td>\n",
       "      <td>4290.0</td>\n",
       "      <td>Bacteroides thetaiotaomicron</td>\n",
       "      <td>strain ATCC 29148 / DSM 2079 / NCTC 10582 / E5...</td>\n",
       "    </tr>\n",
       "  </tbody>\n",
       "</table>\n",
       "</div>"
      ],
      "text/plain": [
       "   proteome_id  tax_id oscode  n_main_fasta_canonical  \\\n",
       "0  UP000007062    7165  ANOGA                   12553   \n",
       "1  UP000000798  224324  AQUAE                    1553   \n",
       "2  UP000006548    3702  ARATH                   27475   \n",
       "3  UP000001570  224308  BACSU                    4260   \n",
       "4  UP000001414  226186  BACTN                    4782   \n",
       "\n",
       "   n_additional_fasta_isoforms  n_gene2acc  \\\n",
       "0                          971       13619   \n",
       "1                            0        1557   \n",
       "2                        14123       41920   \n",
       "3                            7        4268   \n",
       "4                            0        4823   \n",
       "\n",
       "                                        species_name  \\\n",
       "0       Anopheles gambiae (African malaria mosquito)   \n",
       "1                      Aquifex aeolicus (strain VF5)   \n",
       "2             Arabidopsis thaliana (Mouse-ear cress)   \n",
       "3                     Bacillus subtilis (strain 168)   \n",
       "4  Bacteroides thetaiotaomicron (strain ATCC 2914...   \n",
       "\n",
       "   divergence_from_human_mya               scientific_name  \\\n",
       "0                      797.0             Anopheles gambiae   \n",
       "1                     4290.0              Aquifex aeolicus   \n",
       "2                     1496.0          Arabidopsis thaliana   \n",
       "3                     4290.0             Bacillus subtilis   \n",
       "4                     4290.0  Bacteroides thetaiotaomicron   \n",
       "\n",
       "                               common_name_or_strain  \n",
       "0                           African malaria mosquito  \n",
       "1                                         strain VF5  \n",
       "2                                    Mouse-ear cress  \n",
       "3                                         strain 168  \n",
       "4  strain ATCC 29148 / DSM 2079 / NCTC 10582 / E5...  "
      ]
     },
     "execution_count": 112,
     "metadata": {},
     "output_type": "execute_result"
    }
   ],
   "source": [
    "species_metadata.head()"
   ]
  },
  {
   "cell_type": "code",
   "execution_count": 123,
   "metadata": {},
   "outputs": [
    {
     "name": "stdout",
     "output_type": "stream",
     "text": [
      "(857155, 14)\n"
     ]
    },
    {
     "data": {
      "text/html": [
       "<div>\n",
       "<style scoped>\n",
       "    .dataframe tbody tr th:only-of-type {\n",
       "        vertical-align: middle;\n",
       "    }\n",
       "\n",
       "    .dataframe tbody tr th {\n",
       "        vertical-align: top;\n",
       "    }\n",
       "\n",
       "    .dataframe thead th {\n",
       "        text-align: right;\n",
       "    }\n",
       "</style>\n",
       "<table border=\"1\" class=\"dataframe\">\n",
       "  <thead>\n",
       "    <tr style=\"text-align: right;\">\n",
       "      <th></th>\n",
       "      <th>maybe_ensembl_id</th>\n",
       "      <th>uniprot_id</th>\n",
       "      <th>canonical_accession</th>\n",
       "      <th>species_id</th>\n",
       "      <th>proteome_id</th>\n",
       "      <th>tax_id</th>\n",
       "      <th>oscode</th>\n",
       "      <th>n_main_fasta_canonical</th>\n",
       "      <th>n_additional_fasta_isoforms</th>\n",
       "      <th>n_gene2acc</th>\n",
       "      <th>species_name</th>\n",
       "      <th>divergence_from_human_mya</th>\n",
       "      <th>scientific_name</th>\n",
       "      <th>common_name_or_strain</th>\n",
       "    </tr>\n",
       "  </thead>\n",
       "  <tbody>\n",
       "    <tr>\n",
       "      <th>0</th>\n",
       "      <td>NaN</td>\n",
       "      <td>Q0N4G7</td>\n",
       "      <td>NaN</td>\n",
       "      <td>UP000001593</td>\n",
       "      <td>UP000001593</td>\n",
       "      <td>45351</td>\n",
       "      <td>NEMVE</td>\n",
       "      <td>24429</td>\n",
       "      <td>15</td>\n",
       "      <td>24622</td>\n",
       "      <td>Nematostella vectensis (Starlet sea anemone)</td>\n",
       "      <td>824.0</td>\n",
       "      <td>Nematostella vectensis</td>\n",
       "      <td>Starlet sea anemone</td>\n",
       "    </tr>\n",
       "    <tr>\n",
       "      <th>1</th>\n",
       "      <td>NaN</td>\n",
       "      <td>Q0N4G2</td>\n",
       "      <td>NaN</td>\n",
       "      <td>UP000001593</td>\n",
       "      <td>UP000001593</td>\n",
       "      <td>45351</td>\n",
       "      <td>NEMVE</td>\n",
       "      <td>24429</td>\n",
       "      <td>15</td>\n",
       "      <td>24622</td>\n",
       "      <td>Nematostella vectensis (Starlet sea anemone)</td>\n",
       "      <td>824.0</td>\n",
       "      <td>Nematostella vectensis</td>\n",
       "      <td>Starlet sea anemone</td>\n",
       "    </tr>\n",
       "    <tr>\n",
       "      <th>2</th>\n",
       "      <td>NaN</td>\n",
       "      <td>Q0N4A8</td>\n",
       "      <td>NaN</td>\n",
       "      <td>UP000001593</td>\n",
       "      <td>UP000001593</td>\n",
       "      <td>45351</td>\n",
       "      <td>NEMVE</td>\n",
       "      <td>24429</td>\n",
       "      <td>15</td>\n",
       "      <td>24622</td>\n",
       "      <td>Nematostella vectensis (Starlet sea anemone)</td>\n",
       "      <td>824.0</td>\n",
       "      <td>Nematostella vectensis</td>\n",
       "      <td>Starlet sea anemone</td>\n",
       "    </tr>\n",
       "    <tr>\n",
       "      <th>3</th>\n",
       "      <td>NaN</td>\n",
       "      <td>A8DWV8</td>\n",
       "      <td>NaN</td>\n",
       "      <td>UP000001593</td>\n",
       "      <td>UP000001593</td>\n",
       "      <td>45351</td>\n",
       "      <td>NEMVE</td>\n",
       "      <td>24429</td>\n",
       "      <td>15</td>\n",
       "      <td>24622</td>\n",
       "      <td>Nematostella vectensis (Starlet sea anemone)</td>\n",
       "      <td>824.0</td>\n",
       "      <td>Nematostella vectensis</td>\n",
       "      <td>Starlet sea anemone</td>\n",
       "    </tr>\n",
       "    <tr>\n",
       "      <th>4</th>\n",
       "      <td>NaN</td>\n",
       "      <td>A8DWV7</td>\n",
       "      <td>NaN</td>\n",
       "      <td>UP000001593</td>\n",
       "      <td>UP000001593</td>\n",
       "      <td>45351</td>\n",
       "      <td>NEMVE</td>\n",
       "      <td>24429</td>\n",
       "      <td>15</td>\n",
       "      <td>24622</td>\n",
       "      <td>Nematostella vectensis (Starlet sea anemone)</td>\n",
       "      <td>824.0</td>\n",
       "      <td>Nematostella vectensis</td>\n",
       "      <td>Starlet sea anemone</td>\n",
       "    </tr>\n",
       "  </tbody>\n",
       "</table>\n",
       "</div>"
      ],
      "text/plain": [
       "  maybe_ensembl_id uniprot_id canonical_accession   species_id  proteome_id  \\\n",
       "0              NaN     Q0N4G7                 NaN  UP000001593  UP000001593   \n",
       "1              NaN     Q0N4G2                 NaN  UP000001593  UP000001593   \n",
       "2              NaN     Q0N4A8                 NaN  UP000001593  UP000001593   \n",
       "3              NaN     A8DWV8                 NaN  UP000001593  UP000001593   \n",
       "4              NaN     A8DWV7                 NaN  UP000001593  UP000001593   \n",
       "\n",
       "   tax_id oscode  n_main_fasta_canonical  n_additional_fasta_isoforms  \\\n",
       "0   45351  NEMVE                   24429                           15   \n",
       "1   45351  NEMVE                   24429                           15   \n",
       "2   45351  NEMVE                   24429                           15   \n",
       "3   45351  NEMVE                   24429                           15   \n",
       "4   45351  NEMVE                   24429                           15   \n",
       "\n",
       "   n_gene2acc                                  species_name  \\\n",
       "0       24622  Nematostella vectensis (Starlet sea anemone)   \n",
       "1       24622  Nematostella vectensis (Starlet sea anemone)   \n",
       "2       24622  Nematostella vectensis (Starlet sea anemone)   \n",
       "3       24622  Nematostella vectensis (Starlet sea anemone)   \n",
       "4       24622  Nematostella vectensis (Starlet sea anemone)   \n",
       "\n",
       "   divergence_from_human_mya         scientific_name common_name_or_strain  \n",
       "0                      824.0  Nematostella vectensis   Starlet sea anemone  \n",
       "1                      824.0  Nematostella vectensis   Starlet sea anemone  \n",
       "2                      824.0  Nematostella vectensis   Starlet sea anemone  \n",
       "3                      824.0  Nematostella vectensis   Starlet sea anemone  \n",
       "4                      824.0  Nematostella vectensis   Starlet sea anemone  "
      ]
     },
     "execution_count": 123,
     "metadata": {},
     "output_type": "execute_result"
    }
   ],
   "source": [
    "gene2acc_species = gene2acc.merge(opisthokonts, left_on='species_id', right_on='proteome_id')\n",
    "print(gene2acc_species.shape)\n",
    "gene2acc_species.head()"
   ]
  },
  {
   "cell_type": "markdown",
   "metadata": {},
   "source": [
    "### Merge gene2acc_species with tfs_uniprot_oma"
   ]
  },
  {
   "cell_type": "code",
   "execution_count": 124,
   "metadata": {},
   "outputs": [
    {
     "name": "stdout",
     "output_type": "stream",
     "text": [
      "(18, 25)\n"
     ]
    },
    {
     "data": {
      "text/html": [
       "<div>\n",
       "<style scoped>\n",
       "    .dataframe tbody tr th:only-of-type {\n",
       "        vertical-align: middle;\n",
       "    }\n",
       "\n",
       "    .dataframe tbody tr th {\n",
       "        vertical-align: top;\n",
       "    }\n",
       "\n",
       "    .dataframe thead th {\n",
       "        text-align: right;\n",
       "    }\n",
       "</style>\n",
       "<table border=\"1\" class=\"dataframe\">\n",
       "  <thead>\n",
       "    <tr style=\"text-align: right;\">\n",
       "      <th></th>\n",
       "      <th>Gene</th>\n",
       "      <th>ID</th>\n",
       "      <th>DBD</th>\n",
       "      <th>Motif status (Feb 2018)(Link to human TFs annotation)</th>\n",
       "      <th>IUPAC consensus (from selected PWM)</th>\n",
       "      <th>uniprot_id_x</th>\n",
       "      <th>id_type</th>\n",
       "      <th>db_id</th>\n",
       "      <th>protein_id1</th>\n",
       "      <th>protein_id2</th>\n",
       "      <th>...</th>\n",
       "      <th>proteome_id</th>\n",
       "      <th>tax_id</th>\n",
       "      <th>oscode</th>\n",
       "      <th>n_main_fasta_canonical</th>\n",
       "      <th>n_additional_fasta_isoforms</th>\n",
       "      <th>n_gene2acc</th>\n",
       "      <th>species_name</th>\n",
       "      <th>divergence_from_human_mya</th>\n",
       "      <th>scientific_name</th>\n",
       "      <th>common_name_or_strain</th>\n",
       "    </tr>\n",
       "  </thead>\n",
       "  <tbody>\n",
       "    <tr>\n",
       "      <th>0</th>\n",
       "      <td>ARNT</td>\n",
       "      <td>ENSG00000143437</td>\n",
       "      <td>bHLH</td>\n",
       "      <td>Known motif – from protein with 100% identical...</td>\n",
       "      <td>KCACGTGM</td>\n",
       "      <td>P27540</td>\n",
       "      <td>Ensembl</td>\n",
       "      <td>ENSG00000143437</td>\n",
       "      <td>P27540</td>\n",
       "      <td>Q9BE97</td>\n",
       "      <td>...</td>\n",
       "      <td>UP000009136</td>\n",
       "      <td>9913</td>\n",
       "      <td>BOVIN</td>\n",
       "      <td>23774</td>\n",
       "      <td>14534</td>\n",
       "      <td>38438</td>\n",
       "      <td>Bos taurus (Bovine)</td>\n",
       "      <td>96.0</td>\n",
       "      <td>Bos taurus</td>\n",
       "      <td>Bovine</td>\n",
       "    </tr>\n",
       "    <tr>\n",
       "      <th>1</th>\n",
       "      <td>CRX</td>\n",
       "      <td>ENSG00000105392</td>\n",
       "      <td>Homeodomain</td>\n",
       "      <td>Known motif – High-throughput in vitro [124]</td>\n",
       "      <td>TAATCC</td>\n",
       "      <td>O43186</td>\n",
       "      <td>Ensembl</td>\n",
       "      <td>ENSG00000105392</td>\n",
       "      <td>O43186</td>\n",
       "      <td>Q9XSK0</td>\n",
       "      <td>...</td>\n",
       "      <td>UP000009136</td>\n",
       "      <td>9913</td>\n",
       "      <td>BOVIN</td>\n",
       "      <td>23774</td>\n",
       "      <td>14534</td>\n",
       "      <td>38438</td>\n",
       "      <td>Bos taurus (Bovine)</td>\n",
       "      <td>96.0</td>\n",
       "      <td>Bos taurus</td>\n",
       "      <td>Bovine</td>\n",
       "    </tr>\n",
       "    <tr>\n",
       "      <th>2</th>\n",
       "      <td>CXXC4</td>\n",
       "      <td>ENSG00000168772</td>\n",
       "      <td>CxxC</td>\n",
       "      <td>Likely sequence specific TF according to liter...</td>\n",
       "      <td>NaN</td>\n",
       "      <td>Q9H2H0</td>\n",
       "      <td>Ensembl</td>\n",
       "      <td>ENSG00000168772</td>\n",
       "      <td>Q9H2H0</td>\n",
       "      <td>Q0VFP6</td>\n",
       "      <td>...</td>\n",
       "      <td>UP000008143</td>\n",
       "      <td>8364</td>\n",
       "      <td>XENTR</td>\n",
       "      <td>24386</td>\n",
       "      <td>5307</td>\n",
       "      <td>29884</td>\n",
       "      <td>Xenopus tropicalis (Western clawed frog) (Silu...</td>\n",
       "      <td>351.8</td>\n",
       "      <td>Xenopus tropicalis</td>\n",
       "      <td>Western clawed frog</td>\n",
       "    </tr>\n",
       "    <tr>\n",
       "      <th>3</th>\n",
       "      <td>ESR1</td>\n",
       "      <td>ENSG00000091831</td>\n",
       "      <td>Nuclear receptor</td>\n",
       "      <td>Known motif – High-throughput in vitro [206]</td>\n",
       "      <td>AGGTCAYSRTGACCT</td>\n",
       "      <td>P03372</td>\n",
       "      <td>Ensembl</td>\n",
       "      <td>ENSG00000091831</td>\n",
       "      <td>P03372</td>\n",
       "      <td>F1MX59</td>\n",
       "      <td>...</td>\n",
       "      <td>UP000009136</td>\n",
       "      <td>9913</td>\n",
       "      <td>BOVIN</td>\n",
       "      <td>23774</td>\n",
       "      <td>14534</td>\n",
       "      <td>38438</td>\n",
       "      <td>Bos taurus (Bovine)</td>\n",
       "      <td>96.0</td>\n",
       "      <td>Bos taurus</td>\n",
       "      <td>Bovine</td>\n",
       "    </tr>\n",
       "    <tr>\n",
       "      <th>4</th>\n",
       "      <td>ESR1</td>\n",
       "      <td>ENSG00000091831</td>\n",
       "      <td>Nuclear receptor</td>\n",
       "      <td>Known motif – High-throughput in vitro [206]</td>\n",
       "      <td>AGGTCAYSRTGACCT</td>\n",
       "      <td>P03372</td>\n",
       "      <td>Ensembl</td>\n",
       "      <td>ENSG00000091831</td>\n",
       "      <td>P03372</td>\n",
       "      <td>P49884</td>\n",
       "      <td>...</td>\n",
       "      <td>UP000009136</td>\n",
       "      <td>9913</td>\n",
       "      <td>BOVIN</td>\n",
       "      <td>23774</td>\n",
       "      <td>14534</td>\n",
       "      <td>38438</td>\n",
       "      <td>Bos taurus (Bovine)</td>\n",
       "      <td>96.0</td>\n",
       "      <td>Bos taurus</td>\n",
       "      <td>Bovine</td>\n",
       "    </tr>\n",
       "  </tbody>\n",
       "</table>\n",
       "<p>5 rows × 25 columns</p>\n",
       "</div>"
      ],
      "text/plain": [
       "    Gene               ID               DBD  \\\n",
       "0   ARNT  ENSG00000143437              bHLH   \n",
       "1    CRX  ENSG00000105392       Homeodomain   \n",
       "2  CXXC4  ENSG00000168772              CxxC   \n",
       "3   ESR1  ENSG00000091831  Nuclear receptor   \n",
       "4   ESR1  ENSG00000091831  Nuclear receptor   \n",
       "\n",
       "  Motif status (Feb 2018)(Link to human TFs annotation)  \\\n",
       "0  Known motif – from protein with 100% identical...      \n",
       "1       Known motif – High-throughput in vitro [124]      \n",
       "2  Likely sequence specific TF according to liter...      \n",
       "3       Known motif – High-throughput in vitro [206]      \n",
       "4       Known motif – High-throughput in vitro [206]      \n",
       "\n",
       "  IUPAC consensus (from selected PWM) uniprot_id_x  id_type            db_id  \\\n",
       "0                            KCACGTGM       P27540  Ensembl  ENSG00000143437   \n",
       "1                              TAATCC       O43186  Ensembl  ENSG00000105392   \n",
       "2                                 NaN       Q9H2H0  Ensembl  ENSG00000168772   \n",
       "3                     AGGTCAYSRTGACCT       P03372  Ensembl  ENSG00000091831   \n",
       "4                     AGGTCAYSRTGACCT       P03372  Ensembl  ENSG00000091831   \n",
       "\n",
       "  protein_id1 protein_id2  ...  proteome_id tax_id oscode  \\\n",
       "0      P27540      Q9BE97  ...  UP000009136   9913  BOVIN   \n",
       "1      O43186      Q9XSK0  ...  UP000009136   9913  BOVIN   \n",
       "2      Q9H2H0      Q0VFP6  ...  UP000008143   8364  XENTR   \n",
       "3      P03372      F1MX59  ...  UP000009136   9913  BOVIN   \n",
       "4      P03372      P49884  ...  UP000009136   9913  BOVIN   \n",
       "\n",
       "  n_main_fasta_canonical n_additional_fasta_isoforms n_gene2acc  \\\n",
       "0                  23774                       14534      38438   \n",
       "1                  23774                       14534      38438   \n",
       "2                  24386                        5307      29884   \n",
       "3                  23774                       14534      38438   \n",
       "4                  23774                       14534      38438   \n",
       "\n",
       "                                        species_name  \\\n",
       "0                                Bos taurus (Bovine)   \n",
       "1                                Bos taurus (Bovine)   \n",
       "2  Xenopus tropicalis (Western clawed frog) (Silu...   \n",
       "3                                Bos taurus (Bovine)   \n",
       "4                                Bos taurus (Bovine)   \n",
       "\n",
       "  divergence_from_human_mya     scientific_name  common_name_or_strain  \n",
       "0                      96.0          Bos taurus                 Bovine  \n",
       "1                      96.0          Bos taurus                 Bovine  \n",
       "2                     351.8  Xenopus tropicalis    Western clawed frog  \n",
       "3                      96.0          Bos taurus                 Bovine  \n",
       "4                      96.0          Bos taurus                 Bovine  \n",
       "\n",
       "[5 rows x 25 columns]"
      ]
     },
     "execution_count": 124,
     "metadata": {},
     "output_type": "execute_result"
    }
   ],
   "source": [
    "tfs_uniprot_oma_species = tfs_uniprot_oma.merge(gene2acc_species, left_on='protein_id2', right_on='uniprot_id', how='inner')\n",
    "print(tfs_uniprot_oma_species.shape)\n",
    "tfs_uniprot_oma_species.head()"
   ]
  },
  {
   "cell_type": "code",
   "execution_count": 127,
   "metadata": {},
   "outputs": [
    {
     "data": {
      "text/plain": [
       "Bos taurus (Bovine)                                               12\n",
       "Xenopus tropicalis (Western clawed frog) (Silurana tropicalis)     6\n",
       "Name: species_name, dtype: int64"
      ]
     },
     "execution_count": 127,
     "metadata": {},
     "output_type": "execute_result"
    }
   ],
   "source": [
    "tfs_uniprot_oma_species.species_name.value_counts()"
   ]
  },
  {
   "cell_type": "code",
   "execution_count": null,
   "metadata": {},
   "outputs": [],
   "source": [
    "tfs_uniprot_oma_species_opisthokonta"
   ]
  },
  {
   "cell_type": "code",
   "execution_count": 91,
   "metadata": {},
   "outputs": [
    {
     "name": "stdout",
     "output_type": "stream",
     "text": [
      "(32690, 3)\n"
     ]
    },
    {
     "data": {
      "text/html": [
       "<div>\n",
       "<style scoped>\n",
       "    .dataframe tbody tr th:only-of-type {\n",
       "        vertical-align: middle;\n",
       "    }\n",
       "\n",
       "    .dataframe tbody tr th {\n",
       "        vertical-align: top;\n",
       "    }\n",
       "\n",
       "    .dataframe thead th {\n",
       "        text-align: right;\n",
       "    }\n",
       "</style>\n",
       "<table border=\"1\" class=\"dataframe\">\n",
       "  <thead>\n",
       "    <tr style=\"text-align: right;\">\n",
       "      <th></th>\n",
       "      <th>protein_id1</th>\n",
       "      <th>protein_id2</th>\n",
       "      <th>go_similarity</th>\n",
       "    </tr>\n",
       "  </thead>\n",
       "  <tbody>\n",
       "    <tr>\n",
       "      <th>1601</th>\n",
       "      <td>O84462</td>\n",
       "      <td>A2RRD8</td>\n",
       "      <td>0.387866</td>\n",
       "    </tr>\n",
       "    <tr>\n",
       "      <th>1674</th>\n",
       "      <td>O84462</td>\n",
       "      <td>P17020</td>\n",
       "      <td>0.387866</td>\n",
       "    </tr>\n",
       "    <tr>\n",
       "      <th>1675</th>\n",
       "      <td>O84462</td>\n",
       "      <td>P17024</td>\n",
       "      <td>0.387866</td>\n",
       "    </tr>\n",
       "    <tr>\n",
       "      <th>1676</th>\n",
       "      <td>O84462</td>\n",
       "      <td>P17027</td>\n",
       "      <td>0.387866</td>\n",
       "    </tr>\n",
       "    <tr>\n",
       "      <th>1677</th>\n",
       "      <td>O84462</td>\n",
       "      <td>P17031</td>\n",
       "      <td>0.387866</td>\n",
       "    </tr>\n",
       "  </tbody>\n",
       "</table>\n",
       "</div>"
      ],
      "text/plain": [
       "     protein_id1 protein_id2  go_similarity\n",
       "1601      O84462      A2RRD8       0.387866\n",
       "1674      O84462      P17020       0.387866\n",
       "1675      O84462      P17024       0.387866\n",
       "1676      O84462      P17027       0.387866\n",
       "1677      O84462      P17031       0.387866"
      ]
     },
     "execution_count": 91,
     "metadata": {},
     "output_type": "execute_result"
    }
   ],
   "source": [
    "oma_tfs = oma.query('protein_id1 in @uniprot_tfs or protein_id2 in @uniprot_tfs')\n",
    "print(oma_tfs.shape)\n",
    "oma_tfs.head()"
   ]
  },
  {
   "cell_type": "code",
   "execution_count": 92,
   "metadata": {},
   "outputs": [
    {
     "data": {
      "text/plain": [
       "111"
      ]
     },
     "execution_count": 92,
     "metadata": {},
     "output_type": "execute_result"
    }
   ],
   "source": [
    "tf_orthologs = set(oma_tfs.protein_id1) & set(oma_tfs.protein_id2)\n",
    "len(tf_orthologs)"
   ]
  },
  {
   "cell_type": "code",
   "execution_count": 103,
   "metadata": {},
   "outputs": [
    {
     "data": {
      "text/plain": [
       "['A2RRD8', 'O43186', 'O60765', 'O60870', 'O94892']"
      ]
     },
     "execution_count": 103,
     "metadata": {},
     "output_type": "execute_result"
    }
   ],
   "source": [
    "sorted(list(tf_orthologs))[:5]"
   ]
  },
  {
   "cell_type": "markdown",
   "metadata": {},
   "source": [
    "## How much compute is this?"
   ]
  },
  {
   "cell_type": "code",
   "execution_count": 95,
   "metadata": {},
   "outputs": [
    {
     "data": {
      "text/plain": [
       "638583"
      ]
     },
     "execution_count": 95,
     "metadata": {},
     "output_type": "execute_result"
    }
   ],
   "source": [
    "len(tf_orthologs) * len(ensembl_mapping_tfs)"
   ]
  },
  {
   "cell_type": "code",
   "execution_count": 97,
   "metadata": {},
   "outputs": [
    {
     "data": {
      "text/plain": [
       "383.14979999999997"
      ]
     },
     "execution_count": 97,
     "metadata": {},
     "output_type": "execute_result"
    }
   ],
   "source": [
    "len(tf_orthologs) * len(ensembl_mapping_tfs) * 0.0006 "
   ]
  },
  {
   "cell_type": "markdown",
   "metadata": {},
   "source": [
    "\n",
    "### wow this is only going to take an hour?"
   ]
  },
  {
   "cell_type": "markdown",
   "metadata": {},
   "source": [
    "## Read in protein fastas with screed"
   ]
  },
  {
   "cell_type": "code",
   "execution_count": 105,
   "metadata": {},
   "outputs": [],
   "source": [
    "\n",
    "\n",
    "for filename in iglob('Eukaryota/not-human-protein-fastas/*.fasta'):\n",
    "    tf_records = []\n",
    "\n",
    "    basename = os.path.basename(filename)\n",
    "    with screed.open(filename) as records:\n",
    "        for record in records:\n",
    "            name = record['name']\n",
    "            record_id = name.split()[0]\n",
    "            uniprot_id = record_id.split('|')[1]\n",
    "            if uniprot_id in tf_orthologs:\n",
    "                tf_records.append(record)\n",
    "                \n",
    "    if len(tf_records) > 0:\n",
    "        print(filename)\n",
    "        print(f\"\\tlen(tf_records): {len(tf_records)}\")\n",
    "        with open(f'{not_human_outdir}/{basename}', 'w') as f:\n",
    "            for record in tf_records:\n",
    "                f.write(\">{name}\\n{sequence}\\n\".format(**record))\n"
   ]
  },
  {
   "cell_type": "code",
   "execution_count": 104,
   "metadata": {},
   "outputs": [
    {
     "data": {
      "text/plain": [
       "'H6QVH5'"
      ]
     },
     "execution_count": 104,
     "metadata": {},
     "output_type": "execute_result"
    }
   ],
   "source": [
    "uniprot_id"
   ]
  },
  {
   "cell_type": "markdown",
   "metadata": {},
   "source": [
    "# Use ENSEMBL Rest API to get homologous TFs"
   ]
  },
  {
   "cell_type": "markdown",
   "metadata": {},
   "source": [
    "## Experimenting with ensembl_rest"
   ]
  },
  {
   "cell_type": "code",
   "execution_count": 116,
   "metadata": {},
   "outputs": [],
   "source": [
    "import ensembl_rest"
   ]
  },
  {
   "cell_type": "code",
   "execution_count": 130,
   "metadata": {},
   "outputs": [
    {
     "data": {
      "text/html": [
       "<div>\n",
       "<style scoped>\n",
       "    .dataframe tbody tr th:only-of-type {\n",
       "        vertical-align: middle;\n",
       "    }\n",
       "\n",
       "    .dataframe tbody tr th {\n",
       "        vertical-align: top;\n",
       "    }\n",
       "\n",
       "    .dataframe thead th {\n",
       "        text-align: right;\n",
       "    }\n",
       "</style>\n",
       "<table border=\"1\" class=\"dataframe\">\n",
       "  <thead>\n",
       "    <tr style=\"text-align: right;\">\n",
       "      <th></th>\n",
       "      <th>proteome_id</th>\n",
       "      <th>tax_id</th>\n",
       "      <th>oscode</th>\n",
       "      <th>n_main_fasta_canonical</th>\n",
       "      <th>n_additional_fasta_isoforms</th>\n",
       "      <th>n_gene2acc</th>\n",
       "      <th>species_name</th>\n",
       "      <th>divergence_from_human_mya</th>\n",
       "      <th>scientific_name</th>\n",
       "      <th>common_name_or_strain</th>\n",
       "    </tr>\n",
       "  </thead>\n",
       "  <tbody>\n",
       "    <tr>\n",
       "      <th>0</th>\n",
       "      <td>UP000007062</td>\n",
       "      <td>7165</td>\n",
       "      <td>ANOGA</td>\n",
       "      <td>12553</td>\n",
       "      <td>971</td>\n",
       "      <td>13619</td>\n",
       "      <td>Anopheles gambiae (African malaria mosquito)</td>\n",
       "      <td>797.0</td>\n",
       "      <td>Anopheles gambiae</td>\n",
       "      <td>African malaria mosquito</td>\n",
       "    </tr>\n",
       "    <tr>\n",
       "      <th>5</th>\n",
       "      <td>UP000007241</td>\n",
       "      <td>684364</td>\n",
       "      <td>BATDJ</td>\n",
       "      <td>8610</td>\n",
       "      <td>0</td>\n",
       "      <td>8685</td>\n",
       "      <td>Batrachochytrium dendrobatidis (strain JAM81 /...</td>\n",
       "      <td>1105.0</td>\n",
       "      <td>Batrachochytrium dendrobatidis</td>\n",
       "      <td>strain JAM81 / FGSC 10211</td>\n",
       "    </tr>\n",
       "    <tr>\n",
       "      <th>6</th>\n",
       "      <td>UP000009136</td>\n",
       "      <td>9913</td>\n",
       "      <td>BOVIN</td>\n",
       "      <td>23774</td>\n",
       "      <td>14534</td>\n",
       "      <td>38438</td>\n",
       "      <td>Bos taurus (Bovine)</td>\n",
       "      <td>96.0</td>\n",
       "      <td>Bos taurus</td>\n",
       "      <td>Bovine</td>\n",
       "    </tr>\n",
       "    <tr>\n",
       "      <th>8</th>\n",
       "      <td>UP000001554</td>\n",
       "      <td>7739</td>\n",
       "      <td>BRAFL</td>\n",
       "      <td>28542</td>\n",
       "      <td>2</td>\n",
       "      <td>28608</td>\n",
       "      <td>Branchiostoma floridae (Florida lancelet) (Amp...</td>\n",
       "      <td>684.0</td>\n",
       "      <td>Branchiostoma floridae</td>\n",
       "      <td>Florida lancelet</td>\n",
       "    </tr>\n",
       "    <tr>\n",
       "      <th>9</th>\n",
       "      <td>UP000001940</td>\n",
       "      <td>6239</td>\n",
       "      <td>CAEEL</td>\n",
       "      <td>19986</td>\n",
       "      <td>8309</td>\n",
       "      <td>28507</td>\n",
       "      <td>Caenorhabditis elegans</td>\n",
       "      <td>797.0</td>\n",
       "      <td>Caenorhabditis elegans</td>\n",
       "      <td>NaN</td>\n",
       "    </tr>\n",
       "  </tbody>\n",
       "</table>\n",
       "</div>"
      ],
      "text/plain": [
       "   proteome_id  tax_id oscode  n_main_fasta_canonical  \\\n",
       "0  UP000007062    7165  ANOGA                   12553   \n",
       "5  UP000007241  684364  BATDJ                    8610   \n",
       "6  UP000009136    9913  BOVIN                   23774   \n",
       "8  UP000001554    7739  BRAFL                   28542   \n",
       "9  UP000001940    6239  CAEEL                   19986   \n",
       "\n",
       "   n_additional_fasta_isoforms  n_gene2acc  \\\n",
       "0                          971       13619   \n",
       "5                            0        8685   \n",
       "6                        14534       38438   \n",
       "8                            2       28608   \n",
       "9                         8309       28507   \n",
       "\n",
       "                                        species_name  \\\n",
       "0       Anopheles gambiae (African malaria mosquito)   \n",
       "5  Batrachochytrium dendrobatidis (strain JAM81 /...   \n",
       "6                                Bos taurus (Bovine)   \n",
       "8  Branchiostoma floridae (Florida lancelet) (Amp...   \n",
       "9                             Caenorhabditis elegans   \n",
       "\n",
       "   divergence_from_human_mya                 scientific_name  \\\n",
       "0                      797.0               Anopheles gambiae   \n",
       "5                     1105.0  Batrachochytrium dendrobatidis   \n",
       "6                       96.0                      Bos taurus   \n",
       "8                      684.0          Branchiostoma floridae   \n",
       "9                      797.0          Caenorhabditis elegans   \n",
       "\n",
       "       common_name_or_strain  \n",
       "0   African malaria mosquito  \n",
       "5  strain JAM81 / FGSC 10211  \n",
       "6                     Bovine  \n",
       "8           Florida lancelet  \n",
       "9                        NaN  "
      ]
     },
     "execution_count": 130,
     "metadata": {},
     "output_type": "execute_result"
    }
   ],
   "source": [
    "opisthokonts.head()"
   ]
  },
  {
   "cell_type": "code",
   "execution_count": 133,
   "metadata": {},
   "outputs": [
    {
     "data": {
      "text/plain": [
       "1"
      ]
     },
     "execution_count": 133,
     "metadata": {},
     "output_type": "execute_result"
    }
   ],
   "source": [
    "response = ensembl_rest.homology_ensemblgene('ENSG00000143437', target_taxon=opisthokonts.tax_id, cigar_line=False, sequence=None)\n",
    "data = response['data']\n",
    "len(data)"
   ]
  },
  {
   "cell_type": "code",
   "execution_count": 151,
   "metadata": {},
   "outputs": [],
   "source": [
    "from pprint import pprint"
   ]
  },
  {
   "cell_type": "code",
   "execution_count": 152,
   "metadata": {},
   "outputs": [
    {
     "name": "stdout",
     "output_type": "stream",
     "text": [
      "{'dn_ds': None,\n",
      " 'method_link_type': 'ENSEMBL_ORTHOLOGUES',\n",
      " 'source': {'align_seq': 'MAATTANPEMTSDVPSLGPAIASGNSGPGIQGGGAI---VQRAIK-RR-PG-LD---FDDDGE----GN-S---KF--LRCDDDQMSNDKERFARSDDEQSSADKERLA--RENHSEIERRRRNKMTAYITELSDMVPTCSALARKPDKLTILRMAVSHMKSL--------RG-----T--G-----NTSTDGSY--KPSF-LTDQELKHLILEAADGFLFIVSCETGRVVYVSDSVTPV---L-NQPQSEWFGSTLYDQVHPDDVDKLREQLSTSE-NALT-----------------------GRILDLK-----T-----G--TVKKEGQQ---------SSMRMC----------MGSRRSFICRMRCGSSSVDPVSVNRLSFVRNRCRNG-LGSVKDG-EP----HFVVVHCTGYIKAW---PPAG-------VSLPD---DD----------------------PE-------A-GQGSKFCLVAIGRLQVTS-SPNCTDMS-NV-----CQPTE--FISRHNIEG--IFTFVD--HRCVATVGYQPQELLGKNIVEFCHPED-------QQLLRDSFQQVVKLKGQVLSVMFRFRSKNQEWLWMRTSSFTFQNP--YSDEI-EYIICTNTNV-----KNSSQEPRPTLSNTIQRPQLGPTANLPLEMGS--GQLA-PRQQQQQTELDMVPGRDGL-ASYNHS-------Q-V-----V-Q-PVTTTGPEHSKPLEKSDGLFAQDRDPRFSEIYHNINADQSKGISSST-VPATQQLFS---QGNTFPPTPRPAENF-R----NSG-----LA-PPVTIVQP-SA-SAGQMLAQI--------S-----RHSNPTQGATPTWTPTTRS-GF-----SAQ----QVAT-QATAKTR---T-SQ--FGVGSFQTPSSFS----S---MS-LPGAPTASPGAAAYP---SLTNRGSNFAPET-GQTAGQF-QTRTAEGVGVWPQWQGQQPHHRSSS--SEQ--HV-QQPPAQQPGQPEVFQEMLSMLGDQSNSYNNEEFPDLTMFPPFSE',\n",
      "            'cigar_line': '36M3D6MD2MD2MD2M3D6M4D2MDM3D2M2D31M2D52M8D2M5DM2DM5D8M2D4MD38M3DMD32MD4M23D7M5DM5DM2D8M9D6M10D36MD7MD2M4D14M3D4M7D5M3D2M22D2M7DMD18MD8MD2M5D5M2D9M2D6M2D27M7D45M2D5MD10M5D32M2D4MD19MD6M7DMDM5DMDMD47MD9M3D15MDM4D3M5D2MD8MD2MD9M8DM5D19MD2M5D3M4D4MD7M3DMD2M2D13M4DM3D2MD15M3D13MD7MD25M2D3M2D2MD44M',\n",
      "            'id': 'ENSG00000143437',\n",
      "            'perc_id': 15.5894,\n",
      "            'perc_pos': 27.6299,\n",
      "            'protein_id': 'ENSP00000351407',\n",
      "            'species': 'homo_sapiens',\n",
      "            'taxon_id': 9606},\n",
      " 'target': {'align_seq': '------------------------------------MAAPETGNTGSTGSAG--STG-----SGSGSGSGSGSSSDPA-------------------------------NGREARNLAEKQRRDKLNASIQELATMVPHAAESSRRLDKTAVLRFATHGLRLQYVFGKSASR-RRKKTGLKGTGMSASPVGD---LPNPSLHLTD----TLM-QLLDCCFLTLTC-SGQIVLVSTSVEQLLGH-C---QSDLYGQNLLQITHPDDQDLLRQQLIPRDIETLFYQHQHHQQQGHNPQQHSTSTSASTSGSDLEEEEMETEEHRLGRQQGEADDDEDHPYNRRTPSPRRMAHLATIDDRLRM-DRRCFTVRLA------------R----------AS--T---RAEATRHYERV--KIDGCFRRSDSSLT-GGAAANYPIVSQ-LIRRSRNNNMLAAAAAVAAEAATVPPQHDAIAQAALHGISGNDIVLVAMARVLREERPPEETEGTVGLTIYRQPEPYQLEYHTRHLIDGSI----IDCDQRIGLVAGYMKDEVRNLSPFCFMHLDDVRWVIVALRQMYDCNSD----YGES---CYRLLSRNGRFIYLHTKG--FLEVDRGSNKVHSF-LCVNTLLDEEAGRQKVQEMKEKFSTI------------------IKAEMPT---QSSSPDL---------P----ASQAPQQLERIVLYLIENLQKS-----------VDSAETVGG-----Q------------G--MESLMD-----D--GYSS----------PANTLTLEELAPSPTPALALVP--------PAPSSVKSSIS--KSVSVVNVTAARKFQQEHQKQRER-------DREQLKERTNSTQGVIRQ---L------SSCLSEAETAS------------CILSPASSLSA-----SEAPDT----PDP-HSNT-------SP-------PPS-----------------LHTRPSVLHRTLTSTLR-------------------------------------------',\n",
      "            'cigar_line': '36D16M2D3M5D16M31D63MD19M3D10M4D3MD12MD17MDM3D112MD10M12DM10D2M2DM3D11M2D14MD12MD91M4D48M4D4M3D18M2D14MD26M18D7M3D7M9DM4D22M11D9M5DM12DM2D6M5DM2D4M10D22M8D11M2D24M7D18M3DM6D11M12D11M5D6M4D3MD4M7D2M7D3M17D17M43D',\n",
      "            'id': 'FBgn0002723',\n",
      "            'perc_id': 17.1788,\n",
      "            'perc_pos': 30.4469,\n",
      "            'protein_id': 'FBpp0310182',\n",
      "            'species': 'drosophila_melanogaster',\n",
      "            'taxon_id': 7227},\n",
      " 'taxonomy_level': 'Bilateria',\n",
      " 'type': 'ortholog_many2many'}\n"
     ]
    }
   ],
   "source": [
    "homologies = data[0]['homologies']\n",
    "len(homologies)\n",
    "pprint(homologies[0])"
   ]
  },
  {
   "cell_type": "code",
   "execution_count": 146,
   "metadata": {},
   "outputs": [],
   "source": [
    "ignore_fields = ['align_seq', 'cigar_line', 'target', 'source']"
   ]
  },
  {
   "cell_type": "code",
   "execution_count": 147,
   "metadata": {},
   "outputs": [
    {
     "data": {
      "text/plain": [
       "{'align_seq': '------------------------------------MAAPETGNTGSTGSAG--STG-----SGSGSGSGSGSSSDPA-------------------------------NGREARNLAEKQRRDKLNASIQELATMVPHAAESSRRLDKTAVLRFATHGLRLQYVFGKSASR-RRKKTGLKGTGMSASPVGD---LPNPSLHLTD----TLM-QLLDCCFLTLTC-SGQIVLVSTSVEQLLGH-C---QSDLYGQNLLQITHPDDQDLLRQQLIPRDIETLFYQHQHHQQQGHNPQQHSTSTSASTSGSDLEEEEMETEEHRLGRQQGEADDDEDHPYNRRTPSPRRMAHLATIDDRLRM-DRRCFTVRLA------------R----------AS--T---RAEATRHYERV--KIDGCFRRSDSSLT-GGAAANYPIVSQ-LIRRSRNNNMLAAAAAVAAEAATVPPQHDAIAQAALHGISGNDIVLVAMARVLREERPPEETEGTVGLTIYRQPEPYQLEYHTRHLIDGSI----IDCDQRIGLVAGYMKDEVRNLSPFCFMHLDDVRWVIVALRQMYDCNSD----YGES---CYRLLSRNGRFIYLHTKG--FLEVDRGSNKVHSF-LCVNTLLDEEAGRQKVQEMKEKFSTI------------------IKAEMPT---QSSSPDL---------P----ASQAPQQLERIVLYLIENLQKS-----------VDSAETVGG-----Q------------G--MESLMD-----D--GYSS----------PANTLTLEELAPSPTPALALVP--------PAPSSVKSSIS--KSVSVVNVTAARKFQQEHQKQRER-------DREQLKERTNSTQGVIRQ---L------SSCLSEAETAS------------CILSPASSLSA-----SEAPDT----PDP-HSNT-------SP-------PPS-----------------LHTRPSVLHRTLTSTLR-------------------------------------------',\n",
       " 'perc_pos': 30.4469,\n",
       " 'species': 'drosophila_melanogaster',\n",
       " 'cigar_line': '36D16M2D3M5D16M31D63MD19M3D10M4D3MD12MD17MDM3D112MD10M12DM10D2M2DM3D11M2D14MD12MD91M4D48M4D4M3D18M2D14MD26M18D7M3D7M9DM4D22M11D9M5DM12DM2D6M5DM2D4M10D22M8D11M2D24M7D18M3DM6D11M12D11M5D6M4D3MD4M7D2M7D3M17D17M43D',\n",
       " 'protein_id': 'FBpp0310182',\n",
       " 'taxon_id': 7227,\n",
       " 'id': 'FBgn0002723',\n",
       " 'perc_id': 17.1788}"
      ]
     },
     "execution_count": 147,
     "metadata": {},
     "output_type": "execute_result"
    }
   ],
   "source": [
    "homologies[0]['target']"
   ]
  },
  {
   "cell_type": "code",
   "execution_count": 148,
   "metadata": {},
   "outputs": [],
   "source": [
    "homology = homologies[0]"
   ]
  },
  {
   "cell_type": "code",
   "execution_count": 155,
   "metadata": {},
   "outputs": [],
   "source": [
    "def single_homology_to_series(homology):\n",
    "\n",
    "    homology_for_series = {}\n",
    "    for key, value in homology.items():\n",
    "        if not key in ignore_fields:\n",
    "            homology_for_series[key] = value\n",
    "        if key in ('target', 'source'):\n",
    "            for k, v in value.items():\n",
    "                if not k in ignore_fields:\n",
    "                    homology_for_series[f\"{key}__{k}\"] = v\n",
    "\n",
    "    series = pd.Series(homology_for_series)\n",
    "    return series"
   ]
  },
  {
   "cell_type": "code",
   "execution_count": 156,
   "metadata": {},
   "outputs": [
    {
     "data": {
      "text/html": [
       "<div>\n",
       "<style scoped>\n",
       "    .dataframe tbody tr th:only-of-type {\n",
       "        vertical-align: middle;\n",
       "    }\n",
       "\n",
       "    .dataframe tbody tr th {\n",
       "        vertical-align: top;\n",
       "    }\n",
       "\n",
       "    .dataframe thead th {\n",
       "        text-align: right;\n",
       "    }\n",
       "</style>\n",
       "<table border=\"1\" class=\"dataframe\">\n",
       "  <thead>\n",
       "    <tr style=\"text-align: right;\">\n",
       "      <th></th>\n",
       "      <th>dn_ds</th>\n",
       "      <th>target__perc_pos</th>\n",
       "      <th>target__species</th>\n",
       "      <th>target__protein_id</th>\n",
       "      <th>target__taxon_id</th>\n",
       "      <th>target__id</th>\n",
       "      <th>target__perc_id</th>\n",
       "      <th>source__perc_id</th>\n",
       "      <th>source__id</th>\n",
       "      <th>source__taxon_id</th>\n",
       "      <th>source__protein_id</th>\n",
       "      <th>source__species</th>\n",
       "      <th>source__perc_pos</th>\n",
       "      <th>method_link_type</th>\n",
       "      <th>taxonomy_level</th>\n",
       "      <th>type</th>\n",
       "    </tr>\n",
       "  </thead>\n",
       "  <tbody>\n",
       "    <tr>\n",
       "      <th>0</th>\n",
       "      <td>NaN</td>\n",
       "      <td>30.4469</td>\n",
       "      <td>drosophila_melanogaster</td>\n",
       "      <td>FBpp0310182</td>\n",
       "      <td>7227</td>\n",
       "      <td>FBgn0002723</td>\n",
       "      <td>17.1788</td>\n",
       "      <td>15.58940</td>\n",
       "      <td>ENSG00000143437</td>\n",
       "      <td>9606</td>\n",
       "      <td>ENSP00000351407</td>\n",
       "      <td>homo_sapiens</td>\n",
       "      <td>27.6299</td>\n",
       "      <td>ENSEMBL_ORTHOLOGUES</td>\n",
       "      <td>Bilateria</td>\n",
       "      <td>ortholog_many2many</td>\n",
       "    </tr>\n",
       "    <tr>\n",
       "      <th>1</th>\n",
       "      <td>NaN</td>\n",
       "      <td>24.5047</td>\n",
       "      <td>drosophila_melanogaster</td>\n",
       "      <td>FBpp0292296</td>\n",
       "      <td>7227</td>\n",
       "      <td>FBgn0261703</td>\n",
       "      <td>13.6601</td>\n",
       "      <td>16.60330</td>\n",
       "      <td>ENSG00000143437</td>\n",
       "      <td>9606</td>\n",
       "      <td>ENSP00000351407</td>\n",
       "      <td>homo_sapiens</td>\n",
       "      <td>29.7845</td>\n",
       "      <td>ENSEMBL_ORTHOLOGUES</td>\n",
       "      <td>Bilateria</td>\n",
       "      <td>ortholog_many2many</td>\n",
       "    </tr>\n",
       "    <tr>\n",
       "      <th>2</th>\n",
       "      <td>NaN</td>\n",
       "      <td>66.7883</td>\n",
       "      <td>ciona_savignyi</td>\n",
       "      <td>ENSCSAVP00000018549</td>\n",
       "      <td>51511</td>\n",
       "      <td>ENSCSAVG00000010893</td>\n",
       "      <td>49.8175</td>\n",
       "      <td>34.60080</td>\n",
       "      <td>ENSG00000143437</td>\n",
       "      <td>9606</td>\n",
       "      <td>ENSP00000351407</td>\n",
       "      <td>homo_sapiens</td>\n",
       "      <td>46.3878</td>\n",
       "      <td>ENSEMBL_ORTHOLOGUES</td>\n",
       "      <td>Bilateria</td>\n",
       "      <td>ortholog_one2many</td>\n",
       "    </tr>\n",
       "    <tr>\n",
       "      <th>3</th>\n",
       "      <td>NaN</td>\n",
       "      <td>62.6168</td>\n",
       "      <td>drosophila_melanogaster</td>\n",
       "      <td>FBpp0081483</td>\n",
       "      <td>7227</td>\n",
       "      <td>FBgn0264075</td>\n",
       "      <td>48.5981</td>\n",
       "      <td>39.54370</td>\n",
       "      <td>ENSG00000143437</td>\n",
       "      <td>9606</td>\n",
       "      <td>ENSP00000351407</td>\n",
       "      <td>homo_sapiens</td>\n",
       "      <td>50.9506</td>\n",
       "      <td>ENSEMBL_ORTHOLOGUES</td>\n",
       "      <td>Bilateria</td>\n",
       "      <td>ortholog_many2many</td>\n",
       "    </tr>\n",
       "    <tr>\n",
       "      <th>4</th>\n",
       "      <td>NaN</td>\n",
       "      <td>67.8899</td>\n",
       "      <td>ciona_intestinalis</td>\n",
       "      <td>ENSCINP00000016558</td>\n",
       "      <td>7719</td>\n",
       "      <td>ENSCING00000008102</td>\n",
       "      <td>50.8257</td>\n",
       "      <td>35.10770</td>\n",
       "      <td>ENSG00000143437</td>\n",
       "      <td>9606</td>\n",
       "      <td>ENSP00000351407</td>\n",
       "      <td>homo_sapiens</td>\n",
       "      <td>46.8948</td>\n",
       "      <td>ENSEMBL_ORTHOLOGUES</td>\n",
       "      <td>Bilateria</td>\n",
       "      <td>ortholog_one2many</td>\n",
       "    </tr>\n",
       "    <tr>\n",
       "      <th>...</th>\n",
       "      <td>...</td>\n",
       "      <td>...</td>\n",
       "      <td>...</td>\n",
       "      <td>...</td>\n",
       "      <td>...</td>\n",
       "      <td>...</td>\n",
       "      <td>...</td>\n",
       "      <td>...</td>\n",
       "      <td>...</td>\n",
       "      <td>...</td>\n",
       "      <td>...</td>\n",
       "      <td>...</td>\n",
       "      <td>...</td>\n",
       "      <td>...</td>\n",
       "      <td>...</td>\n",
       "      <td>...</td>\n",
       "    </tr>\n",
       "    <tr>\n",
       "      <th>206</th>\n",
       "      <td>NaN</td>\n",
       "      <td>69.7403</td>\n",
       "      <td>kryptolebias_marmoratus</td>\n",
       "      <td>ENSKMAP00000001530</td>\n",
       "      <td>37003</td>\n",
       "      <td>ENSKMAG00000001221</td>\n",
       "      <td>55.9740</td>\n",
       "      <td>54.62610</td>\n",
       "      <td>ENSG00000143437</td>\n",
       "      <td>9606</td>\n",
       "      <td>ENSP00000351407</td>\n",
       "      <td>homo_sapiens</td>\n",
       "      <td>68.0608</td>\n",
       "      <td>ENSEMBL_ORTHOLOGUES</td>\n",
       "      <td>Euteleostomi</td>\n",
       "      <td>ortholog_one2one</td>\n",
       "    </tr>\n",
       "    <tr>\n",
       "      <th>207</th>\n",
       "      <td>NaN</td>\n",
       "      <td>63.7427</td>\n",
       "      <td>eptatretus_burgeri</td>\n",
       "      <td>ENSEBUP00000019653</td>\n",
       "      <td>7764</td>\n",
       "      <td>ENSEBUG00000012206</td>\n",
       "      <td>45.6140</td>\n",
       "      <td>9.88593</td>\n",
       "      <td>ENSG00000143437</td>\n",
       "      <td>9606</td>\n",
       "      <td>ENSP00000351407</td>\n",
       "      <td>homo_sapiens</td>\n",
       "      <td>13.8150</td>\n",
       "      <td>ENSEMBL_ORTHOLOGUES</td>\n",
       "      <td>Vertebrata</td>\n",
       "      <td>ortholog_one2many</td>\n",
       "    </tr>\n",
       "    <tr>\n",
       "      <th>208</th>\n",
       "      <td>NaN</td>\n",
       "      <td>73.4551</td>\n",
       "      <td>eptatretus_burgeri</td>\n",
       "      <td>ENSEBUP00000009538</td>\n",
       "      <td>7764</td>\n",
       "      <td>ENSEBUG00000006087</td>\n",
       "      <td>61.2360</td>\n",
       "      <td>55.25980</td>\n",
       "      <td>ENSG00000143437</td>\n",
       "      <td>9606</td>\n",
       "      <td>ENSP00000351407</td>\n",
       "      <td>homo_sapiens</td>\n",
       "      <td>66.2864</td>\n",
       "      <td>ENSEMBL_ORTHOLOGUES</td>\n",
       "      <td>Vertebrata</td>\n",
       "      <td>ortholog_one2many</td>\n",
       "    </tr>\n",
       "    <tr>\n",
       "      <th>209</th>\n",
       "      <td>NaN</td>\n",
       "      <td>75.0789</td>\n",
       "      <td>eptatretus_burgeri</td>\n",
       "      <td>ENSEBUP00000023036</td>\n",
       "      <td>7764</td>\n",
       "      <td>ENSEBUG00000014190</td>\n",
       "      <td>64.0379</td>\n",
       "      <td>25.72880</td>\n",
       "      <td>ENSG00000143437</td>\n",
       "      <td>9606</td>\n",
       "      <td>ENSP00000351407</td>\n",
       "      <td>homo_sapiens</td>\n",
       "      <td>30.1648</td>\n",
       "      <td>ENSEMBL_ORTHOLOGUES</td>\n",
       "      <td>Vertebrata</td>\n",
       "      <td>ortholog_one2many</td>\n",
       "    </tr>\n",
       "    <tr>\n",
       "      <th>210</th>\n",
       "      <td>NaN</td>\n",
       "      <td>50.6527</td>\n",
       "      <td>petromyzon_marinus</td>\n",
       "      <td>ENSPMAP00000005954</td>\n",
       "      <td>7757</td>\n",
       "      <td>ENSPMAG00000005395</td>\n",
       "      <td>36.2924</td>\n",
       "      <td>17.61720</td>\n",
       "      <td>ENSG00000143437</td>\n",
       "      <td>9606</td>\n",
       "      <td>ENSP00000351407</td>\n",
       "      <td>homo_sapiens</td>\n",
       "      <td>24.5881</td>\n",
       "      <td>ENSEMBL_ORTHOLOGUES</td>\n",
       "      <td>Vertebrata</td>\n",
       "      <td>ortholog_one2one</td>\n",
       "    </tr>\n",
       "  </tbody>\n",
       "</table>\n",
       "<p>211 rows × 16 columns</p>\n",
       "</div>"
      ],
      "text/plain": [
       "     dn_ds  target__perc_pos          target__species   target__protein_id  \\\n",
       "0      NaN           30.4469  drosophila_melanogaster          FBpp0310182   \n",
       "1      NaN           24.5047  drosophila_melanogaster          FBpp0292296   \n",
       "2      NaN           66.7883           ciona_savignyi  ENSCSAVP00000018549   \n",
       "3      NaN           62.6168  drosophila_melanogaster          FBpp0081483   \n",
       "4      NaN           67.8899       ciona_intestinalis   ENSCINP00000016558   \n",
       "..     ...               ...                      ...                  ...   \n",
       "206    NaN           69.7403  kryptolebias_marmoratus   ENSKMAP00000001530   \n",
       "207    NaN           63.7427       eptatretus_burgeri   ENSEBUP00000019653   \n",
       "208    NaN           73.4551       eptatretus_burgeri   ENSEBUP00000009538   \n",
       "209    NaN           75.0789       eptatretus_burgeri   ENSEBUP00000023036   \n",
       "210    NaN           50.6527       petromyzon_marinus   ENSPMAP00000005954   \n",
       "\n",
       "     target__taxon_id           target__id  target__perc_id  source__perc_id  \\\n",
       "0                7227          FBgn0002723          17.1788         15.58940   \n",
       "1                7227          FBgn0261703          13.6601         16.60330   \n",
       "2               51511  ENSCSAVG00000010893          49.8175         34.60080   \n",
       "3                7227          FBgn0264075          48.5981         39.54370   \n",
       "4                7719   ENSCING00000008102          50.8257         35.10770   \n",
       "..                ...                  ...              ...              ...   \n",
       "206             37003   ENSKMAG00000001221          55.9740         54.62610   \n",
       "207              7764   ENSEBUG00000012206          45.6140          9.88593   \n",
       "208              7764   ENSEBUG00000006087          61.2360         55.25980   \n",
       "209              7764   ENSEBUG00000014190          64.0379         25.72880   \n",
       "210              7757   ENSPMAG00000005395          36.2924         17.61720   \n",
       "\n",
       "          source__id  source__taxon_id source__protein_id source__species  \\\n",
       "0    ENSG00000143437              9606    ENSP00000351407    homo_sapiens   \n",
       "1    ENSG00000143437              9606    ENSP00000351407    homo_sapiens   \n",
       "2    ENSG00000143437              9606    ENSP00000351407    homo_sapiens   \n",
       "3    ENSG00000143437              9606    ENSP00000351407    homo_sapiens   \n",
       "4    ENSG00000143437              9606    ENSP00000351407    homo_sapiens   \n",
       "..               ...               ...                ...             ...   \n",
       "206  ENSG00000143437              9606    ENSP00000351407    homo_sapiens   \n",
       "207  ENSG00000143437              9606    ENSP00000351407    homo_sapiens   \n",
       "208  ENSG00000143437              9606    ENSP00000351407    homo_sapiens   \n",
       "209  ENSG00000143437              9606    ENSP00000351407    homo_sapiens   \n",
       "210  ENSG00000143437              9606    ENSP00000351407    homo_sapiens   \n",
       "\n",
       "     source__perc_pos     method_link_type taxonomy_level                type  \n",
       "0             27.6299  ENSEMBL_ORTHOLOGUES      Bilateria  ortholog_many2many  \n",
       "1             29.7845  ENSEMBL_ORTHOLOGUES      Bilateria  ortholog_many2many  \n",
       "2             46.3878  ENSEMBL_ORTHOLOGUES      Bilateria   ortholog_one2many  \n",
       "3             50.9506  ENSEMBL_ORTHOLOGUES      Bilateria  ortholog_many2many  \n",
       "4             46.8948  ENSEMBL_ORTHOLOGUES      Bilateria   ortholog_one2many  \n",
       "..                ...                  ...            ...                 ...  \n",
       "206           68.0608  ENSEMBL_ORTHOLOGUES   Euteleostomi    ortholog_one2one  \n",
       "207           13.8150  ENSEMBL_ORTHOLOGUES     Vertebrata   ortholog_one2many  \n",
       "208           66.2864  ENSEMBL_ORTHOLOGUES     Vertebrata   ortholog_one2many  \n",
       "209           30.1648  ENSEMBL_ORTHOLOGUES     Vertebrata   ortholog_one2many  \n",
       "210           24.5881  ENSEMBL_ORTHOLOGUES     Vertebrata    ortholog_one2one  \n",
       "\n",
       "[211 rows x 16 columns]"
      ]
     },
     "execution_count": 156,
     "metadata": {},
     "output_type": "execute_result"
    }
   ],
   "source": [
    "pd.DataFrame(map(single_homology_to_series, homologies))"
   ]
  },
  {
   "cell_type": "markdown",
   "metadata": {},
   "source": [
    "## Actually run it"
   ]
  },
  {
   "cell_type": "code",
   "execution_count": null,
   "metadata": {},
   "outputs": [],
   "source": [
    "dfs = []\n",
    "\n",
    "for ensembl_id in tf_df.ID:\n",
    "    response = ensembl_rest.homology_ensemblgene(ensembl_id, target_taxon=opisthokonts.tax_id, cigar_line=False, sequence=None)\n",
    "    data = response['data']\n",
    "    homologies = data[0]['homologies']\n",
    "    df = pd.DataFrame(map(single_homology_to_series, homologies))\n",
    "    dfs.append(df)\n",
    "tfs_opsithokonts = pd.concat(dfs, ignore_index=True)\n",
    "print(tfs_opsithokonts.shape)\n",
    "tfs_opsithokonts.head()"
   ]
  },
  {
   "cell_type": "code",
   "execution_count": null,
   "metadata": {},
   "outputs": [],
   "source": []
  }
 ],
 "metadata": {
  "kernelspec": {
   "display_name": "Python [conda env:khtools--compare-kmers--encodings]",
   "language": "python",
   "name": "conda-env-khtools--compare-kmers--encodings-py"
  },
  "language_info": {
   "codemirror_mode": {
    "name": "ipython",
    "version": 3
   },
   "file_extension": ".py",
   "mimetype": "text/x-python",
   "name": "python",
   "nbconvert_exporter": "python",
   "pygments_lexer": "ipython3",
   "version": "3.8.0"
  }
 },
 "nbformat": 4,
 "nbformat_minor": 4
}
