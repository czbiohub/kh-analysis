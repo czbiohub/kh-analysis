{
 "cells": [
  {
   "cell_type": "code",
   "execution_count": 3,
   "metadata": {
    "execution_event_id": "907a5457-acba-4a8f-bcc5-7904bd29b0f0",
    "last_executed_text": "%load_ext autoreload\n%autoreload 2\n\n\nfrom glob import glob\nfrom itertools import chain, combinations\nimport math\nimport re\n\n# import ensembl_rest\nimport numpy as np\nimport pandas as pd\nfrom sourmash import load_signatures\n\nimport requests, sys\nfrom pprint import pprint\n\nimport seaborn as sns\nimport matplotlib.pyplot as plt\n \nfrom sklearn.metrics import auc, roc_curve\n\nimport tqdm\n\nfrom sklearn import metrics\n\nimport seaborn as sns\nimport vaex\n\nfrom khtools.ensembl import get_sequence, maybe_get_cds\n\n\nfrom khtools.compare_peptide import compare_all_seqs\nfrom khtools.homology import HomologyTable\n\n",
    "persistent_id": "0981b532-e819-464a-a47d-cc3e400c51bf"
   },
   "outputs": [
    {
     "name": "stdout",
     "output_type": "stream",
     "text": [
      "The autoreload extension is already loaded. To reload it, use:\n",
      "  %reload_ext autoreload\n"
     ]
    }
   ],
   "source": [
    "%load_ext autoreload\n",
    "%autoreload 2\n",
    "\n",
    "\n",
    "from glob import glob\n",
    "from itertools import chain, combinations\n",
    "import math\n",
    "import re\n",
    "\n",
    "# import ensembl_rest\n",
    "import numpy as np\n",
    "import pandas as pd\n",
    "from sourmash import load_signatures\n",
    "\n",
    "import requests, sys\n",
    "from pprint import pprint\n",
    "\n",
    "import seaborn as sns\n",
    "import matplotlib.pyplot as plt\n",
    " \n",
    "from sklearn.metrics import auc, roc_curve\n",
    "\n",
    "import tqdm\n",
    "\n",
    "from sklearn import metrics\n",
    "\n",
    "import seaborn as sns\n",
    "import vaex\n",
    "\n",
    "from khtools.ensembl import get_sequence, maybe_get_cds\n",
    "\n",
    "\n",
    "from khtools.compare_peptide import compare_all_seqs\n",
    "from khtools.homology import HomologyTable\n",
    "\n"
   ]
  },
  {
   "cell_type": "code",
   "execution_count": 7,
   "metadata": {
    "execution_event_id": "d91a1b65-eeca-4d59-b7fd-6a818fd3b952",
    "last_executed_text": "%%time\n\noutput_folder = '/home/olga/data_sm/kmer-hashing/orthologues/human-vs-mouse'\nn_subset = 10000\nprotein_coding_peptide_orthology = pd.read_csv(f\"{output_folder}/protein_coding_peptide_orthology_nsubset{n_subset}_seed0.csv\", index_col=0)\nprint(protein_coding_peptide_orthology.shape)\nprotein_coding_peptide_orthology.head()",
    "persistent_id": "6a8f807c-9767-4e2d-b189-c190745cc820"
   },
   "outputs": [
    {
     "name": "stderr",
     "output_type": "stream",
     "text": [
      "/home/olga/miniconda3/envs/kmer-hashing/lib/python3.6/site-packages/numpy/lib/arraysetops.py:472: FutureWarning: elementwise comparison failed; returning scalar instead, but in the future will perform elementwise comparison\n",
      "  mask |= (ar1 == a)\n"
     ]
    },
    {
     "name": "stdout",
     "output_type": "stream",
     "text": [
      "(198625830, 29)\n",
      "CPU times: user 15min 26s, sys: 7min 57s, total: 23min 23s\n",
      "Wall time: 23min 26s\n"
     ]
    }
   ],
   "source": [
    "%%time\n",
    "\n",
    "output_folder = '/home/olga/data_sm/kmer-hashing/orthologues/human-vs-mouse'\n",
    "n_subset = 10000\n",
    "protein_coding_peptide_orthology = pd.read_csv(f\"{output_folder}/protein_coding_peptide_orthology_nsubset{n_subset}_seed0.csv\", index_col=0)\n",
    "print(protein_coding_peptide_orthology.shape)\n",
    "protein_coding_peptide_orthology.head()"
   ]
  },
  {
   "cell_type": "code",
   "execution_count": 8,
   "metadata": {
    "execution_event_id": "afe93209-bcac-4f7e-9748-752a5ac9f86f",
    "last_executed_text": "protein_coding_peptide_orthology.head()",
    "persistent_id": "02dc7a37-e400-42dd-987b-ac138ed1d891"
   },
   "outputs": [
    {
     "data": {
      "text/html": [
       "<div>\n",
       "<style scoped>\n",
       "    .dataframe tbody tr th:only-of-type {\n",
       "        vertical-align: middle;\n",
       "    }\n",
       "\n",
       "    .dataframe tbody tr th {\n",
       "        vertical-align: top;\n",
       "    }\n",
       "\n",
       "    .dataframe thead th {\n",
       "        text-align: right;\n",
       "    }\n",
       "</style>\n",
       "<table border=\"1\" class=\"dataframe\">\n",
       "  <thead>\n",
       "    <tr style=\"text-align: right;\">\n",
       "      <th></th>\n",
       "      <th>id1</th>\n",
       "      <th>id2</th>\n",
       "      <th>ksize</th>\n",
       "      <th>jaccard</th>\n",
       "      <th>molecule</th>\n",
       "      <th>species1</th>\n",
       "      <th>species2</th>\n",
       "      <th>species_species</th>\n",
       "      <th>Gene stable ID</th>\n",
       "      <th>Gene stable ID version</th>\n",
       "      <th>...</th>\n",
       "      <th>Last common ancestor with Mouse</th>\n",
       "      <th>Mouse homology type</th>\n",
       "      <th>%id. target Mouse gene identical to query gene</th>\n",
       "      <th>%id. query gene identical to target Mouse gene</th>\n",
       "      <th>Mouse Gene-order conservation score</th>\n",
       "      <th>Mouse Whole-genome alignment coverage</th>\n",
       "      <th>dN with Mouse</th>\n",
       "      <th>dS with Mouse</th>\n",
       "      <th>Mouse orthology confidence [0 low, 1 high]</th>\n",
       "      <th>is_homologue</th>\n",
       "    </tr>\n",
       "  </thead>\n",
       "  <tbody>\n",
       "    <tr>\n",
       "      <th>0</th>\n",
       "      <td>ENSP00000482393</td>\n",
       "      <td>ENSMUSP00000022095</td>\n",
       "      <td>2</td>\n",
       "      <td>0.909091</td>\n",
       "      <td>protein</td>\n",
       "      <td>human</td>\n",
       "      <td>mouse</td>\n",
       "      <td>human_mouse</td>\n",
       "      <td>ENSG00000113430</td>\n",
       "      <td>ENSG00000113430.10</td>\n",
       "      <td>...</td>\n",
       "      <td>Eutheria</td>\n",
       "      <td>ortholog_one2one</td>\n",
       "      <td>77.7982</td>\n",
       "      <td>82.3301</td>\n",
       "      <td>100.0</td>\n",
       "      <td>100.0</td>\n",
       "      <td>0.0881</td>\n",
       "      <td>1.0015</td>\n",
       "      <td>1.0</td>\n",
       "      <td>True</td>\n",
       "    </tr>\n",
       "    <tr>\n",
       "      <th>1</th>\n",
       "      <td>ENSP00000482393</td>\n",
       "      <td>ENSMUSP00000022095</td>\n",
       "      <td>3</td>\n",
       "      <td>0.678879</td>\n",
       "      <td>protein</td>\n",
       "      <td>human</td>\n",
       "      <td>mouse</td>\n",
       "      <td>human_mouse</td>\n",
       "      <td>ENSG00000113430</td>\n",
       "      <td>ENSG00000113430.10</td>\n",
       "      <td>...</td>\n",
       "      <td>Eutheria</td>\n",
       "      <td>ortholog_one2one</td>\n",
       "      <td>77.7982</td>\n",
       "      <td>82.3301</td>\n",
       "      <td>100.0</td>\n",
       "      <td>100.0</td>\n",
       "      <td>0.0881</td>\n",
       "      <td>1.0015</td>\n",
       "      <td>1.0</td>\n",
       "      <td>True</td>\n",
       "    </tr>\n",
       "    <tr>\n",
       "      <th>2</th>\n",
       "      <td>ENSP00000482393</td>\n",
       "      <td>ENSMUSP00000022095</td>\n",
       "      <td>4</td>\n",
       "      <td>0.582178</td>\n",
       "      <td>protein</td>\n",
       "      <td>human</td>\n",
       "      <td>mouse</td>\n",
       "      <td>human_mouse</td>\n",
       "      <td>ENSG00000113430</td>\n",
       "      <td>ENSG00000113430.10</td>\n",
       "      <td>...</td>\n",
       "      <td>Eutheria</td>\n",
       "      <td>ortholog_one2one</td>\n",
       "      <td>77.7982</td>\n",
       "      <td>82.3301</td>\n",
       "      <td>100.0</td>\n",
       "      <td>100.0</td>\n",
       "      <td>0.0881</td>\n",
       "      <td>1.0015</td>\n",
       "      <td>1.0</td>\n",
       "      <td>True</td>\n",
       "    </tr>\n",
       "    <tr>\n",
       "      <th>3</th>\n",
       "      <td>ENSP00000482393</td>\n",
       "      <td>ENSMUSP00000022095</td>\n",
       "      <td>5</td>\n",
       "      <td>0.523529</td>\n",
       "      <td>protein</td>\n",
       "      <td>human</td>\n",
       "      <td>mouse</td>\n",
       "      <td>human_mouse</td>\n",
       "      <td>ENSG00000113430</td>\n",
       "      <td>ENSG00000113430.10</td>\n",
       "      <td>...</td>\n",
       "      <td>Eutheria</td>\n",
       "      <td>ortholog_one2one</td>\n",
       "      <td>77.7982</td>\n",
       "      <td>82.3301</td>\n",
       "      <td>100.0</td>\n",
       "      <td>100.0</td>\n",
       "      <td>0.0881</td>\n",
       "      <td>1.0015</td>\n",
       "      <td>1.0</td>\n",
       "      <td>True</td>\n",
       "    </tr>\n",
       "    <tr>\n",
       "      <th>4</th>\n",
       "      <td>ENSP00000482393</td>\n",
       "      <td>ENSMUSP00000022095</td>\n",
       "      <td>6</td>\n",
       "      <td>0.482353</td>\n",
       "      <td>protein</td>\n",
       "      <td>human</td>\n",
       "      <td>mouse</td>\n",
       "      <td>human_mouse</td>\n",
       "      <td>ENSG00000113430</td>\n",
       "      <td>ENSG00000113430.10</td>\n",
       "      <td>...</td>\n",
       "      <td>Eutheria</td>\n",
       "      <td>ortholog_one2one</td>\n",
       "      <td>77.7982</td>\n",
       "      <td>82.3301</td>\n",
       "      <td>100.0</td>\n",
       "      <td>100.0</td>\n",
       "      <td>0.0881</td>\n",
       "      <td>1.0015</td>\n",
       "      <td>1.0</td>\n",
       "      <td>True</td>\n",
       "    </tr>\n",
       "  </tbody>\n",
       "</table>\n",
       "<p>5 rows × 29 columns</p>\n",
       "</div>"
      ],
      "text/plain": [
       "               id1                 id2  ksize   jaccard molecule species1  \\\n",
       "0  ENSP00000482393  ENSMUSP00000022095      2  0.909091  protein    human   \n",
       "1  ENSP00000482393  ENSMUSP00000022095      3  0.678879  protein    human   \n",
       "2  ENSP00000482393  ENSMUSP00000022095      4  0.582178  protein    human   \n",
       "3  ENSP00000482393  ENSMUSP00000022095      5  0.523529  protein    human   \n",
       "4  ENSP00000482393  ENSMUSP00000022095      6  0.482353  protein    human   \n",
       "\n",
       "  species2 species_species   Gene stable ID Gene stable ID version  ...  \\\n",
       "0    mouse     human_mouse  ENSG00000113430     ENSG00000113430.10  ...   \n",
       "1    mouse     human_mouse  ENSG00000113430     ENSG00000113430.10  ...   \n",
       "2    mouse     human_mouse  ENSG00000113430     ENSG00000113430.10  ...   \n",
       "3    mouse     human_mouse  ENSG00000113430     ENSG00000113430.10  ...   \n",
       "4    mouse     human_mouse  ENSG00000113430     ENSG00000113430.10  ...   \n",
       "\n",
       "  Last common ancestor with Mouse Mouse homology type  \\\n",
       "0                        Eutheria    ortholog_one2one   \n",
       "1                        Eutheria    ortholog_one2one   \n",
       "2                        Eutheria    ortholog_one2one   \n",
       "3                        Eutheria    ortholog_one2one   \n",
       "4                        Eutheria    ortholog_one2one   \n",
       "\n",
       "  %id. target Mouse gene identical to query gene  \\\n",
       "0                                        77.7982   \n",
       "1                                        77.7982   \n",
       "2                                        77.7982   \n",
       "3                                        77.7982   \n",
       "4                                        77.7982   \n",
       "\n",
       "  %id. query gene identical to target Mouse gene  \\\n",
       "0                                        82.3301   \n",
       "1                                        82.3301   \n",
       "2                                        82.3301   \n",
       "3                                        82.3301   \n",
       "4                                        82.3301   \n",
       "\n",
       "  Mouse Gene-order conservation score Mouse Whole-genome alignment coverage  \\\n",
       "0                               100.0                                 100.0   \n",
       "1                               100.0                                 100.0   \n",
       "2                               100.0                                 100.0   \n",
       "3                               100.0                                 100.0   \n",
       "4                               100.0                                 100.0   \n",
       "\n",
       "  dN with Mouse dS with Mouse Mouse orthology confidence [0 low, 1 high]  \\\n",
       "0        0.0881        1.0015                                        1.0   \n",
       "1        0.0881        1.0015                                        1.0   \n",
       "2        0.0881        1.0015                                        1.0   \n",
       "3        0.0881        1.0015                                        1.0   \n",
       "4        0.0881        1.0015                                        1.0   \n",
       "\n",
       "  is_homologue  \n",
       "0         True  \n",
       "1         True  \n",
       "2         True  \n",
       "3         True  \n",
       "4         True  \n",
       "\n",
       "[5 rows x 29 columns]"
      ]
     },
     "execution_count": 8,
     "metadata": {},
     "output_type": "execute_result"
    }
   ],
   "source": [
    "protein_coding_peptide_orthology.head()"
   ]
  },
  {
   "cell_type": "code",
   "execution_count": null,
   "metadata": {
    "persistent_id": "15a78c9e-7eb6-4efd-a9aa-372329aa17d0"
   },
   "outputs": [],
   "source": []
  }
 ],
 "metadata": {
  "history": [
   {
    "cell": {
     "executionCount": 5,
     "executionEventId": "faf4a201-446f-4a06-afdc-0d501e70bd4d",
     "hasError": false,
     "id": "756b67c5-117f-4b57-9703-c4efe1762a36",
     "outputs": [
      {
       "name": "stdout",
       "output_type": "stream",
       "text": "(1716000, 30)\n"
      }
     ],
     "persistentId": "6a8f807c-9767-4e2d-b189-c190745cc820",
     "text": "output_folder = '/home/olga/data_sm/kmer-hashing/orthologues/human-vs-mouse'\nnon_coding_orthology = pd.read_csv(f\"{output_folder}/non_coding_orthology_nsubset1000_seed0.csv\")\nprint(non_coding_orthology.shape)"
    },
    "executionTime": "2019-09-17T05:29:05.765Z"
   },
   {
    "cell": {
     "executionCount": 1,
     "executionEventId": "9a0fcb00-a2a3-47eb-a258-99416d82895e",
     "hasError": false,
     "id": "33793506-78e9-4fe3-b368-0a7cc59ac830",
     "outputs": [],
     "persistentId": "0981b532-e819-464a-a47d-cc3e400c51bf",
     "text": "%load_ext autoreload\n%autoreload 2\n\n\nfrom glob import glob\nfrom itertools import chain, combinations\nimport math\nimport re\n\n# import ensembl_rest\nimport numpy as np\nimport pandas as pd\nfrom sourmash import load_signatures\n\nimport requests, sys\nfrom pprint import pprint\n\nimport seaborn as sns\nimport matplotlib.pyplot as plt\n \nfrom sklearn.metrics import auc, roc_curve\n\nimport tqdm\n\nfrom sklearn import metrics\n\nimport seaborn as sns\n\nfrom khtools.ensembl import get_sequence, maybe_get_cds\n\n\nfrom khtools.compare_peptide import compare_all_seqs\nfrom khtools.homology import HomologyTable\n\n"
    },
    "executionTime": "2019-09-17T05:54:00.012Z"
   },
   {
    "cell": {
     "executionCount": 2,
     "executionEventId": "88471422-56ca-4ee9-8d49-c30504cf3226",
     "hasError": true,
     "id": "e35707f5-412f-4c27-a187-b306f9633b6d",
     "outputs": [
      {
       "ename": "NameError",
       "evalue": "name 'vaex' is not defined",
       "output_type": "error",
       "traceback": [
        "\u001b[0;31m---------------------------------------------------------------------------\u001b[0m",
        "\u001b[0;31mNameError\u001b[0m                                 Traceback (most recent call last)",
        "\u001b[0;32m<timed exec>\u001b[0m in \u001b[0;36m<module>\u001b[0;34m()\u001b[0m\n",
        "\u001b[0;31mNameError\u001b[0m: name 'vaex' is not defined"
       ]
      }
     ],
     "persistentId": "6a8f807c-9767-4e2d-b189-c190745cc820",
     "text": "%%time\n\noutput_folder = '/home/olga/data_sm/kmer-hashing/orthologues/human-vs-mouse'\nn_subset = 10000\nprotein_coding_peptide_orthology = vaex.from_csv(f\"{output_folder}/protein_coding_peptide_orthology_nsubset{n_subset}_seed0.csv\")\nprint(protein_coding_peptide_orthology.shape)\nprotein_coding_peptide_orthology.head()"
    },
    "executionTime": "2019-09-17T07:10:49.526Z"
   },
   {
    "cell": {
     "executionCount": 3,
     "executionEventId": "907a5457-acba-4a8f-bcc5-7904bd29b0f0",
     "hasError": false,
     "id": "33793506-78e9-4fe3-b368-0a7cc59ac830",
     "outputs": [
      {
       "name": "stdout",
       "output_type": "stream",
       "text": "The autoreload extension is already loaded. To reload it, use:\n  %reload_ext autoreload\n"
      }
     ],
     "persistentId": "0981b532-e819-464a-a47d-cc3e400c51bf",
     "text": "%load_ext autoreload\n%autoreload 2\n\n\nfrom glob import glob\nfrom itertools import chain, combinations\nimport math\nimport re\n\n# import ensembl_rest\nimport numpy as np\nimport pandas as pd\nfrom sourmash import load_signatures\n\nimport requests, sys\nfrom pprint import pprint\n\nimport seaborn as sns\nimport matplotlib.pyplot as plt\n \nfrom sklearn.metrics import auc, roc_curve\n\nimport tqdm\n\nfrom sklearn import metrics\n\nimport seaborn as sns\nimport vaex\n\nfrom khtools.ensembl import get_sequence, maybe_get_cds\n\n\nfrom khtools.compare_peptide import compare_all_seqs\nfrom khtools.homology import HomologyTable\n\n"
    },
    "executionTime": "2019-09-17T07:10:50.858Z"
   },
   {
    "cell": {
     "executionCount": 5,
     "executionEventId": "a2347eb5-6ae2-4045-8386-056406da73b1",
     "hasError": false,
     "id": "ad4c6c66-7183-4476-b842-febf20b7506e",
     "outputs": [
      {
       "data": {
        "text/html": "<table class='table-striped'><thead><tr><th>#</th><th>Unnamed: 0</th><th>ksize</th><th>jaccard</th><th>index</th></tr></thead><tr><td>0</td><td>0</td><td>2</td><td>0.9090909090909092</td><td>0</td></tr><tr><td>1</td><td>1</td><td>3</td><td>0.6788793103448276</td><td>1</td></tr><tr><td>2</td><td>2</td><td>4</td><td>0.5821782178217821</td><td>2</td></tr><tr><td>3</td><td>3</td><td>5</td><td>0.5235294117647059</td><td>3</td></tr><tr><td>4</td><td>4</td><td>6</td><td>0.4823529411764706</td><td>4</td></tr><tr><td>5</td><td>5</td><td>7</td><td>0.4538310412573674</td><td>5</td></tr><tr><td>6</td><td>6</td><td>8</td><td>0.4330708661417323</td><td>6</td></tr><tr><td>7</td><td>7</td><td>9</td><td>0.4142011834319527</td><td>7</td></tr><tr><td>8</td><td>8</td><td>10</td><td>0.3972332015810277</td><td>8</td></tr><tr><td>9</td><td>9</td><td>11</td><td>0.3821782178217822</td><td>9</td></tr></table>",
        "text/plain": "<IPython.core.display.HTML object>"
       },
       "metadata": {},
       "output_type": "display_data"
      }
     ],
     "persistentId": "02dc7a37-e400-42dd-987b-ac138ed1d891",
     "text": "protein_coding_peptide_orthology.head()"
    },
    "executionTime": "2019-09-18T11:55:58.942Z"
   },
   {
    "cell": {
     "executionCount": 6,
     "executionEventId": "67aa014c-fc34-461d-b7c6-06d4b1afdf58",
     "hasError": true,
     "id": "1c9e8758-232a-46c7-9b6a-fa79361dfe61",
     "outputs": [
      {
       "ename": "NameError",
       "evalue": "name 'non_coding_orthology' is not defined",
       "output_type": "error",
       "traceback": [
        "\u001b[0;31m---------------------------------------------------------------------------\u001b[0m",
        "\u001b[0;31mNameError\u001b[0m                                 Traceback (most recent call last)",
        "\u001b[0;32m<ipython-input-6-ca141c52835f>\u001b[0m in \u001b[0;36m<module>\u001b[0;34m()\u001b[0m\n\u001b[0;32m----> 1\u001b[0;31m \u001b[0mnon_coding_orthology\u001b[0m\u001b[0;34m.\u001b[0m\u001b[0mhead\u001b[0m\u001b[0;34m(\u001b[0m\u001b[0;34m)\u001b[0m\u001b[0;34m\u001b[0m\u001b[0;34m\u001b[0m\u001b[0m\n\u001b[0m",
        "\u001b[0;31mNameError\u001b[0m: name 'non_coding_orthology' is not defined"
       ]
      }
     ],
     "persistentId": "fbda577c-7a1f-489c-843d-303a2297b6fc",
     "text": "non_coding_orthology.head()"
    },
    "executionTime": "2019-09-18T11:55:58.967Z"
   },
   {
    "cell": {
     "executionCount": 7,
     "executionEventId": "d91a1b65-eeca-4d59-b7fd-6a818fd3b952",
     "hasError": false,
     "id": "5daa9552-d0c0-4832-b11e-5bc2259ffd9a",
     "outputs": [
      {
       "name": "stderr",
       "output_type": "stream",
       "text": "/home/olga/miniconda3/envs/kmer-hashing/lib/python3.6/site-packages/numpy/lib/arraysetops.py:472: FutureWarning: elementwise comparison failed; returning scalar instead, but in the future will perform elementwise comparison\n  mask |= (ar1 == a)\n"
      },
      {
       "name": "stdout",
       "output_type": "stream",
       "text": "(198625830, 29)\nCPU times: user 15min 26s, sys: 7min 57s, total: 23min 23s\nWall time: 23min 26s\n"
      }
     ],
     "persistentId": "6a8f807c-9767-4e2d-b189-c190745cc820",
     "text": "%%time\n\noutput_folder = '/home/olga/data_sm/kmer-hashing/orthologues/human-vs-mouse'\nn_subset = 10000\nprotein_coding_peptide_orthology = pd.read_csv(f\"{output_folder}/protein_coding_peptide_orthology_nsubset{n_subset}_seed0.csv\", index_col=0)\nprint(protein_coding_peptide_orthology.shape)\nprotein_coding_peptide_orthology.head()"
    },
    "executionTime": "2019-09-18T12:19:45.868Z"
   },
   {
    "cell": {
     "executionCount": 8,
     "executionEventId": "afe93209-bcac-4f7e-9748-752a5ac9f86f",
     "hasError": false,
     "id": "ad4c6c66-7183-4476-b842-febf20b7506e",
     "outputs": [
      {
       "data": {
        "text/html": "<div>\n<style scoped>\n    .dataframe tbody tr th:only-of-type {\n        vertical-align: middle;\n    }\n\n    .dataframe tbody tr th {\n        vertical-align: top;\n    }\n\n    .dataframe thead th {\n        text-align: right;\n    }\n</style>\n<table border=\"1\" class=\"dataframe\">\n  <thead>\n    <tr style=\"text-align: right;\">\n      <th></th>\n      <th>id1</th>\n      <th>id2</th>\n      <th>ksize</th>\n      <th>jaccard</th>\n      <th>molecule</th>\n      <th>species1</th>\n      <th>species2</th>\n      <th>species_species</th>\n      <th>Gene stable ID</th>\n      <th>Gene stable ID version</th>\n      <th>...</th>\n      <th>Last common ancestor with Mouse</th>\n      <th>Mouse homology type</th>\n      <th>%id. target Mouse gene identical to query gene</th>\n      <th>%id. query gene identical to target Mouse gene</th>\n      <th>Mouse Gene-order conservation score</th>\n      <th>Mouse Whole-genome alignment coverage</th>\n      <th>dN with Mouse</th>\n      <th>dS with Mouse</th>\n      <th>Mouse orthology confidence [0 low, 1 high]</th>\n      <th>is_homologue</th>\n    </tr>\n  </thead>\n  <tbody>\n    <tr>\n      <th>0</th>\n      <td>ENSP00000482393</td>\n      <td>ENSMUSP00000022095</td>\n      <td>2</td>\n      <td>0.909091</td>\n      <td>protein</td>\n      <td>human</td>\n      <td>mouse</td>\n      <td>human_mouse</td>\n      <td>ENSG00000113430</td>\n      <td>ENSG00000113430.10</td>\n      <td>...</td>\n      <td>Eutheria</td>\n      <td>ortholog_one2one</td>\n      <td>77.7982</td>\n      <td>82.3301</td>\n      <td>100.0</td>\n      <td>100.0</td>\n      <td>0.0881</td>\n      <td>1.0015</td>\n      <td>1.0</td>\n      <td>True</td>\n    </tr>\n    <tr>\n      <th>1</th>\n      <td>ENSP00000482393</td>\n      <td>ENSMUSP00000022095</td>\n      <td>3</td>\n      <td>0.678879</td>\n      <td>protein</td>\n      <td>human</td>\n      <td>mouse</td>\n      <td>human_mouse</td>\n      <td>ENSG00000113430</td>\n      <td>ENSG00000113430.10</td>\n      <td>...</td>\n      <td>Eutheria</td>\n      <td>ortholog_one2one</td>\n      <td>77.7982</td>\n      <td>82.3301</td>\n      <td>100.0</td>\n      <td>100.0</td>\n      <td>0.0881</td>\n      <td>1.0015</td>\n      <td>1.0</td>\n      <td>True</td>\n    </tr>\n    <tr>\n      <th>2</th>\n      <td>ENSP00000482393</td>\n      <td>ENSMUSP00000022095</td>\n      <td>4</td>\n      <td>0.582178</td>\n      <td>protein</td>\n      <td>human</td>\n      <td>mouse</td>\n      <td>human_mouse</td>\n      <td>ENSG00000113430</td>\n      <td>ENSG00000113430.10</td>\n      <td>...</td>\n      <td>Eutheria</td>\n      <td>ortholog_one2one</td>\n      <td>77.7982</td>\n      <td>82.3301</td>\n      <td>100.0</td>\n      <td>100.0</td>\n      <td>0.0881</td>\n      <td>1.0015</td>\n      <td>1.0</td>\n      <td>True</td>\n    </tr>\n    <tr>\n      <th>3</th>\n      <td>ENSP00000482393</td>\n      <td>ENSMUSP00000022095</td>\n      <td>5</td>\n      <td>0.523529</td>\n      <td>protein</td>\n      <td>human</td>\n      <td>mouse</td>\n      <td>human_mouse</td>\n      <td>ENSG00000113430</td>\n      <td>ENSG00000113430.10</td>\n      <td>...</td>\n      <td>Eutheria</td>\n      <td>ortholog_one2one</td>\n      <td>77.7982</td>\n      <td>82.3301</td>\n      <td>100.0</td>\n      <td>100.0</td>\n      <td>0.0881</td>\n      <td>1.0015</td>\n      <td>1.0</td>\n      <td>True</td>\n    </tr>\n    <tr>\n      <th>4</th>\n      <td>ENSP00000482393</td>\n      <td>ENSMUSP00000022095</td>\n      <td>6</td>\n      <td>0.482353</td>\n      <td>protein</td>\n      <td>human</td>\n      <td>mouse</td>\n      <td>human_mouse</td>\n      <td>ENSG00000113430</td>\n      <td>ENSG00000113430.10</td>\n      <td>...</td>\n      <td>Eutheria</td>\n      <td>ortholog_one2one</td>\n      <td>77.7982</td>\n      <td>82.3301</td>\n      <td>100.0</td>\n      <td>100.0</td>\n      <td>0.0881</td>\n      <td>1.0015</td>\n      <td>1.0</td>\n      <td>True</td>\n    </tr>\n  </tbody>\n</table>\n<p>5 rows × 29 columns</p>\n</div>",
        "text/plain": "               id1                 id2  ksize   jaccard molecule species1  \\\n0  ENSP00000482393  ENSMUSP00000022095      2  0.909091  protein    human   \n1  ENSP00000482393  ENSMUSP00000022095      3  0.678879  protein    human   \n2  ENSP00000482393  ENSMUSP00000022095      4  0.582178  protein    human   \n3  ENSP00000482393  ENSMUSP00000022095      5  0.523529  protein    human   \n4  ENSP00000482393  ENSMUSP00000022095      6  0.482353  protein    human   \n\n  species2 species_species   Gene stable ID Gene stable ID version  ...  \\\n0    mouse     human_mouse  ENSG00000113430     ENSG00000113430.10  ...   \n1    mouse     human_mouse  ENSG00000113430     ENSG00000113430.10  ...   \n2    mouse     human_mouse  ENSG00000113430     ENSG00000113430.10  ...   \n3    mouse     human_mouse  ENSG00000113430     ENSG00000113430.10  ...   \n4    mouse     human_mouse  ENSG00000113430     ENSG00000113430.10  ...   \n\n  Last common ancestor with Mouse Mouse homology type  \\\n0                        Eutheria    ortholog_one2one   \n1                        Eutheria    ortholog_one2one   \n2                        Eutheria    ortholog_one2one   \n3                        Eutheria    ortholog_one2one   \n4                        Eutheria    ortholog_one2one   \n\n  %id. target Mouse gene identical to query gene  \\\n0                                        77.7982   \n1                                        77.7982   \n2                                        77.7982   \n3                                        77.7982   \n4                                        77.7982   \n\n  %id. query gene identical to target Mouse gene  \\\n0                                        82.3301   \n1                                        82.3301   \n2                                        82.3301   \n3                                        82.3301   \n4                                        82.3301   \n\n  Mouse Gene-order conservation score Mouse Whole-genome alignment coverage  \\\n0                               100.0                                 100.0   \n1                               100.0                                 100.0   \n2                               100.0                                 100.0   \n3                               100.0                                 100.0   \n4                               100.0                                 100.0   \n\n  dN with Mouse dS with Mouse Mouse orthology confidence [0 low, 1 high]  \\\n0        0.0881        1.0015                                        1.0   \n1        0.0881        1.0015                                        1.0   \n2        0.0881        1.0015                                        1.0   \n3        0.0881        1.0015                                        1.0   \n4        0.0881        1.0015                                        1.0   \n\n  is_homologue  \n0         True  \n1         True  \n2         True  \n3         True  \n4         True  \n\n[5 rows x 29 columns]"
       },
       "execution_count": 8,
       "metadata": {},
       "output_type": "execute_result"
      }
     ],
     "persistentId": "02dc7a37-e400-42dd-987b-ac138ed1d891",
     "text": "protein_coding_peptide_orthology.head()"
    },
    "executionTime": "2019-09-18T12:19:46.098Z"
   }
  ],
  "kernelspec": {
   "display_name": "Python [conda env:kmer-hashing]",
   "language": "python",
   "name": "conda-env-kmer-hashing-py"
  },
  "language_info": {
   "codemirror_mode": {
    "name": "ipython",
    "version": 3
   },
   "file_extension": ".py",
   "mimetype": "text/x-python",
   "name": "python",
   "nbconvert_exporter": "python",
   "pygments_lexer": "ipython3",
   "version": "3.6.8"
  },
  "uuid": "e2261c3b-9d71-42cf-bcec-b5eb9e945044"
 },
 "nbformat": 4,
 "nbformat_minor": 4
}
