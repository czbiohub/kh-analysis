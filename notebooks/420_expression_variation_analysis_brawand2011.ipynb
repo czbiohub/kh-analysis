{
 "cells": [
  {
   "cell_type": "code",
   "execution_count": 1,
   "metadata": {
    "execution_event_id": "d2a49d64-6869-418a-9842-28994ae871dd",
    "last_executed_text": "if (!requireNamespace(\"BiocManager\", quietly = TRUE))\n    install.packages(\"BiocManager\")\n\nBiocManager::install(\"GSReg\")",
    "persistent_id": "f9128d28-443b-419f-9f31-c9c6dcb3f14b"
   },
   "outputs": [
    {
     "name": "stderr",
     "output_type": "stream",
     "text": [
      "Updating HTML index of packages in '.Library'\n",
      "Making 'packages.html' ... done\n",
      "Bioconductor version 3.10 (BiocManager 1.30.9), R 3.6.0 (2019-04-26)\n",
      "Installing package(s) 'BiocVersion', 'GSReg'\n",
      "also installing the dependencies ‘lambda.r’, ‘futile.options’, ‘matrixStats’, ‘futile.logger’, ‘snow’, ‘DelayedArray’, ‘bit’, ‘BiocParallel’, ‘Rhtslib’, ‘SummarizedExperiment’, ‘graph’, ‘RBGL’, ‘GenomeInfoDbData’, ‘bit64’, ‘blob’, ‘memoise’, ‘BH’, ‘bitops’, ‘zlibbioc’, ‘XML’, ‘Rsamtools’, ‘GenomicAlignments’, ‘BiocFileCache’, ‘rappdirs’, ‘OrganismDbi’, ‘GO.db’, ‘TxDb.Hsapiens.UCSC.hg19.knownGene’, ‘BiocGenerics’, ‘S4Vectors’, ‘IRanges’, ‘GenomeInfoDb’, ‘GenomicRanges’, ‘RSQLite’, ‘RCurl’, ‘XVector’, ‘Biostrings’, ‘rtracklayer’, ‘biomaRt’, ‘Biobase’, ‘Homo.sapiens’, ‘org.Hs.eg.db’, ‘GenomicFeatures’, ‘AnnotationDbi’\n",
      "\n",
      "Warning message in install.packages(...):\n",
      "“installation of package ‘biomaRt’ had non-zero exit status”Warning message in install.packages(...):\n",
      "“installation of package ‘GenomicFeatures’ had non-zero exit status”Warning message in install.packages(...):\n",
      "“installation of package ‘OrganismDbi’ had non-zero exit status”Warning message in install.packages(...):\n",
      "“installation of package ‘TxDb.Hsapiens.UCSC.hg19.knownGene’ had non-zero exit status”Warning message in install.packages(...):\n",
      "“installation of package ‘Homo.sapiens’ had non-zero exit status”Warning message in install.packages(...):\n",
      "“installation of package ‘GSReg’ had non-zero exit status”Updating HTML index of packages in '.Library'\n",
      "Making 'packages.html' ... done\n",
      "Old packages: 'KernSmooth', 'mgcv', 'prodlim', 'Rhdf5lib'\n"
     ]
    }
   ],
   "source": [
    "if (!requireNamespace(\"BiocManager\", quietly = TRUE))\n",
    "    install.packages(\"BiocManager\")\n",
    "\n",
    "BiocManager::install(\"GSReg\")"
   ]
  },
  {
   "cell_type": "code",
   "execution_count": null,
   "metadata": {},
   "outputs": [],
   "source": []
  }
 ],
 "metadata": {
  "history": [
   {
    "cell": {
     "executionCount": 1,
     "executionEventId": "d2a49d64-6869-418a-9842-28994ae871dd",
     "hasError": false,
     "id": "a587aa73-b54b-45a7-b221-85e0b8719891",
     "outputs": [
      {
       "name": "stderr",
       "output_type": "stream",
       "text": "Updating HTML index of packages in '.Library'\nMaking 'packages.html' ... done\nBioconductor version 3.10 (BiocManager 1.30.9), R 3.6.0 (2019-04-26)\nInstalling package(s) 'BiocVersion', 'GSReg'\nalso installing the dependencies ‘lambda.r’, ‘futile.options’, ‘matrixStats’, ‘futile.logger’, ‘snow’, ‘DelayedArray’, ‘bit’, ‘BiocParallel’, ‘Rhtslib’, ‘SummarizedExperiment’, ‘graph’, ‘RBGL’, ‘GenomeInfoDbData’, ‘bit64’, ‘blob’, ‘memoise’, ‘BH’, ‘bitops’, ‘zlibbioc’, ‘XML’, ‘Rsamtools’, ‘GenomicAlignments’, ‘BiocFileCache’, ‘rappdirs’, ‘OrganismDbi’, ‘GO.db’, ‘TxDb.Hsapiens.UCSC.hg19.knownGene’, ‘BiocGenerics’, ‘S4Vectors’, ‘IRanges’, ‘GenomeInfoDb’, ‘GenomicRanges’, ‘RSQLite’, ‘RCurl’, ‘XVector’, ‘Biostrings’, ‘rtracklayer’, ‘biomaRt’, ‘Biobase’, ‘Homo.sapiens’, ‘org.Hs.eg.db’, ‘GenomicFeatures’, ‘AnnotationDbi’\n\nWarning message in install.packages(...):\n“installation of package ‘biomaRt’ had non-zero exit status”Warning message in install.packages(...):\n“installation of package ‘GenomicFeatures’ had non-zero exit status”Warning message in install.packages(...):\n“installation of package ‘OrganismDbi’ had non-zero exit status”Warning message in install.packages(...):\n“installation of package ‘TxDb.Hsapiens.UCSC.hg19.knownGene’ had non-zero exit status”Warning message in install.packages(...):\n“installation of package ‘Homo.sapiens’ had non-zero exit status”Warning message in install.packages(...):\n“installation of package ‘GSReg’ had non-zero exit status”Updating HTML index of packages in '.Library'\nMaking 'packages.html' ... done\nOld packages: 'KernSmooth', 'mgcv', 'prodlim', 'Rhdf5lib'\n"
      }
     ],
     "persistentId": "f9128d28-443b-419f-9f31-c9c6dcb3f14b",
     "text": "if (!requireNamespace(\"BiocManager\", quietly = TRUE))\n    install.packages(\"BiocManager\")\n\nBiocManager::install(\"GSReg\")"
    },
    "executionTime": "2019-11-05T15:50:11.466Z"
   }
  ],
  "kernelspec": {
   "display_name": "R [conda env:sc-tutorial]",
   "language": "R",
   "name": "conda-env-sc-tutorial-r"
  },
  "language_info": {
   "codemirror_mode": "r",
   "file_extension": ".r",
   "mimetype": "text/x-r-source",
   "name": "R",
   "pygments_lexer": "r",
   "version": "3.6.0"
  },
  "uuid": "3577e111-957c-418d-8afb-b04f44657e7a"
 },
 "nbformat": 4,
 "nbformat_minor": 4
}
