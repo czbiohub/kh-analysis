{
 "cells": [
  {
   "cell_type": "code",
   "execution_count": 64,
   "metadata": {},
   "outputs": [
    {
     "name": "stdout",
     "output_type": "stream",
     "text": [
      "scanpy==1.4.4 anndata==0.6.22.post1 umap==0.3.9 numpy==1.17.0 scipy==1.3.1 pandas==0.25.0 scikit-learn==0.21.3 statsmodels==0.10.1 python-igraph==0.7.1 louvain==0.6.1\n"
     ]
    }
   ],
   "source": [
    "\n",
    "\n",
    "\n",
    "import glob\n",
    "import itertools\n",
    "import math\n",
    "import os\n",
    "import sys\n",
    "\n",
    "import igraph as ig\n",
    "import leidenalg\n",
    "import matplotlib.pyplot as plt\n",
    "import numpy as np\n",
    "import pandas as pd\n",
    "import seaborn as sns\n",
    "\n",
    "import khtools\n",
    "\n",
    "\n",
    "ksize = 21\n",
    "moltype = 'DNA'\n",
    "\n",
    "ignore_abundance = False\n",
    "downsample = False\n",
    "\n",
    "\n",
    "# Defaults from 'sourmash index'\n",
    "\n",
    "bf_size = 1e5\n",
    "n_children = 2\n",
    "scaled = False\n",
    "\n",
    "n_neighbors = 3\n",
    "\n",
    "try:\n",
    "    import scanpy.api as sc\n",
    "except FutureWarning:\n",
    "    import scanpy as sc\n",
    "\n",
    "sc.logging.print_versions()\n",
    "\n",
    "\n",
    "from sourmash import signature as sig\n",
    "from sourmash.compare import compare_all_pairs\n",
    "from sourmash.sbt import Leaf\n",
    "from sourmash.sbtmh import SigLeaf, create_sbt_index\n",
    "from sourmash import sourmash_args\n",
    "from sourmash.logging import notify\n",
    "from sourmash._minhash import hash_murmur\n",
    "import umap"
   ]
  },
  {
   "cell_type": "code",
   "execution_count": 8,
   "metadata": {},
   "outputs": [
    {
     "name": "stdout",
     "output_type": "stream",
     "text": [
      "(1612900, 6)\n"
     ]
    },
    {
     "data": {
      "text/html": [
       "<div>\n",
       "<style scoped>\n",
       "    .dataframe tbody tr th:only-of-type {\n",
       "        vertical-align: middle;\n",
       "    }\n",
       "\n",
       "    .dataframe tbody tr th {\n",
       "        vertical-align: top;\n",
       "    }\n",
       "\n",
       "    .dataframe thead th {\n",
       "        text-align: right;\n",
       "    }\n",
       "</style>\n",
       "<table border=\"1\" class=\"dataframe\">\n",
       "  <thead>\n",
       "    <tr style=\"text-align: right;\">\n",
       "      <th></th>\n",
       "      <th>cell1</th>\n",
       "      <th>cell2</th>\n",
       "      <th>similarity_without_abundance</th>\n",
       "      <th>similarity_with_abundance</th>\n",
       "      <th>cell_ontology_class_cell1</th>\n",
       "      <th>cell_ontology_class</th>\n",
       "    </tr>\n",
       "  </thead>\n",
       "  <tbody>\n",
       "    <tr>\n",
       "      <th>0</th>\n",
       "      <td>A1-B000610-3_56_F-1-1</td>\n",
       "      <td>A1-B000610-3_56_F-1-1</td>\n",
       "      <td>1.000</td>\n",
       "      <td>1.000000</td>\n",
       "      <td>bladder cell</td>\n",
       "      <td>bladder cell</td>\n",
       "    </tr>\n",
       "    <tr>\n",
       "      <th>1</th>\n",
       "      <td>A1-B000610-3_56_F-1-1</td>\n",
       "      <td>A1-B002764-3_38_F-1-1</td>\n",
       "      <td>0.018</td>\n",
       "      <td>0.228460</td>\n",
       "      <td>bladder cell</td>\n",
       "      <td>bladder urothelial cell</td>\n",
       "    </tr>\n",
       "    <tr>\n",
       "      <th>2</th>\n",
       "      <td>A1-B000610-3_56_F-1-1</td>\n",
       "      <td>A1-B002771-3_39_F-1-1</td>\n",
       "      <td>0.072</td>\n",
       "      <td>0.245190</td>\n",
       "      <td>bladder cell</td>\n",
       "      <td>bladder cell</td>\n",
       "    </tr>\n",
       "    <tr>\n",
       "      <th>3</th>\n",
       "      <td>A1-B000610-3_56_F-1-1</td>\n",
       "      <td>A1-D041914-3_8_M-1-1</td>\n",
       "      <td>0.098</td>\n",
       "      <td>0.454728</td>\n",
       "      <td>bladder cell</td>\n",
       "      <td>bladder cell</td>\n",
       "    </tr>\n",
       "    <tr>\n",
       "      <th>4</th>\n",
       "      <td>A1-B000610-3_56_F-1-1</td>\n",
       "      <td>A1-D042253-3_9_M-1-1</td>\n",
       "      <td>0.090</td>\n",
       "      <td>0.231834</td>\n",
       "      <td>bladder cell</td>\n",
       "      <td>bladder cell</td>\n",
       "    </tr>\n",
       "  </tbody>\n",
       "</table>\n",
       "</div>"
      ],
      "text/plain": [
       "                   cell1                  cell2  similarity_without_abundance  \\\n",
       "0  A1-B000610-3_56_F-1-1  A1-B000610-3_56_F-1-1                         1.000   \n",
       "1  A1-B000610-3_56_F-1-1  A1-B002764-3_38_F-1-1                         0.018   \n",
       "2  A1-B000610-3_56_F-1-1  A1-B002771-3_39_F-1-1                         0.072   \n",
       "3  A1-B000610-3_56_F-1-1   A1-D041914-3_8_M-1-1                         0.098   \n",
       "4  A1-B000610-3_56_F-1-1   A1-D042253-3_9_M-1-1                         0.090   \n",
       "\n",
       "   similarity_with_abundance cell_ontology_class_cell1  \\\n",
       "0                   1.000000              bladder cell   \n",
       "1                   0.228460              bladder cell   \n",
       "2                   0.245190              bladder cell   \n",
       "3                   0.454728              bladder cell   \n",
       "4                   0.231834              bladder cell   \n",
       "\n",
       "       cell_ontology_class  \n",
       "0             bladder cell  \n",
       "1  bladder urothelial cell  \n",
       "2             bladder cell  \n",
       "3             bladder cell  \n",
       "4             bladder cell  "
      ]
     },
     "execution_count": 8,
     "metadata": {},
     "output_type": "execute_result"
    }
   ],
   "source": [
    "similarities_tidy = pd.read_csv('s3://kmer-hashing/tabula-muris/n_hashes=500/bladder/similarities_tidy.csv')\n",
    "print(similarities_tidy.shape)\n",
    "similarities_tidy.head()"
   ]
  },
  {
   "cell_type": "code",
   "execution_count": 9,
   "metadata": {},
   "outputs": [
    {
     "name": "stdout",
     "output_type": "stream",
     "text": [
      "1270\n",
      "CPU times: user 37.6 s, sys: 116 ms, total: 37.7 s\n",
      "Wall time: 39.2 s\n"
     ]
    }
   ],
   "source": [
    "%%time\n",
    "\n",
    "annotations = pd.read_csv('https://github.com/czbiohub/tabula-muris/raw/master/00_data_ingest/18_global_annotation_csv/annotations_facs.csv', \n",
    "                          index_col='cell')\n",
    "annotations.index = annotations.index.str.replace('.', '-')\n",
    "annotations.columns = annotations.columns.str.replace('.', '_')\n",
    "annotations['sample_id'] = annotations.index\n",
    "annotations = annotations.fillna(\"NA\")\n",
    "bladder_annotations = annotations.query('tissue == \"Bladder\"')\n",
    "\n",
    "folder = '/home/olga/pureScratch/olgabot-maca/facs/sourmash/'\n",
    "\n",
    "all_signatures = glob.glob(f'{folder}/*.sig')\n",
    "basenames = [os.path.basename(x) for x in all_signatures]\n",
    "bladder_files = list(itertools.chain(*[[folder + x for x in basenames if x.startswith(cell_id)] for cell_id in bladder_annotations.index]))\n",
    "len(bladder_files)\n",
    "\n",
    "ksize = 21\n",
    "moltype = \"DNA\"\n",
    "ignore_abundance = True\n",
    "\n",
    "\n",
    "bladder_signatures = []\n",
    "for filename in bladder_files:\n",
    "     bladder_signatures.extend(sig.load_signatures(filename, ksize=ksize, select_moltype=\"DNA\"))\n",
    "print(len(bladder_signatures))\n",
    "bladder_signatures[:5]"
   ]
  },
  {
   "cell_type": "code",
   "execution_count": 10,
   "metadata": {},
   "outputs": [
    {
     "data": {
      "text/plain": [
       "SourmashSignature('A1-B000610-3_56_F-1-1_S28', 280b9bab)"
      ]
     },
     "execution_count": 10,
     "metadata": {},
     "output_type": "execute_result"
    }
   ],
   "source": [
    "# bladder cell\n",
    "cell1 = 'A1-B000610-3_56_F-1-1'\n",
    "\n",
    "sig1 = [x for x in bladder_signatures if x.name().startswith(cell1)][0]\n",
    "sig1"
   ]
  },
  {
   "cell_type": "code",
   "execution_count": 166,
   "metadata": {},
   "outputs": [
    {
     "data": {
      "text/plain": [
       "False"
      ]
     },
     "execution_count": 166,
     "metadata": {},
     "output_type": "execute_result"
    }
   ],
   "source": [
    "sig1.minhash.is_protein"
   ]
  },
  {
   "cell_type": "code",
   "execution_count": 45,
   "metadata": {},
   "outputs": [
    {
     "data": {
      "text/plain": [
       "21"
      ]
     },
     "execution_count": 45,
     "metadata": {},
     "output_type": "execute_result"
    }
   ],
   "source": [
    "sig1.minhash.ksize"
   ]
  },
  {
   "cell_type": "code",
   "execution_count": 11,
   "metadata": {},
   "outputs": [
    {
     "data": {
      "text/plain": [
       "SourmashSignature('A1-B002764-3_38_F-1-1_S291', ef185816)"
      ]
     },
     "execution_count": 11,
     "metadata": {},
     "output_type": "execute_result"
    }
   ],
   "source": [
    "# bladder urothelial cell\n",
    "cell2 = 'A1-B002764-3_38_F-1-1'\n",
    "\n",
    "sig2 = [x for x in bladder_signatures if x.name().startswith(cell2)][0]\n",
    "sig2"
   ]
  },
  {
   "cell_type": "code",
   "execution_count": 24,
   "metadata": {},
   "outputs": [
    {
     "data": {
      "text/plain": [
       "3282762037724      2\n",
       "5959368950693      1\n",
       "7215285795798     20\n",
       "11329527245923     1\n",
       "12290763577842     1\n",
       "Name: A1-B000610-3_56_F-1-1, dtype: int64"
      ]
     },
     "execution_count": 24,
     "metadata": {},
     "output_type": "execute_result"
    }
   ],
   "source": [
    "sig1_hashes = pd.Series(sig1.minhash.get_mins(with_abundance=True), name=cell1)\n",
    "sig1_hashes.head()"
   ]
  },
  {
   "cell_type": "code",
   "execution_count": 23,
   "metadata": {},
   "outputs": [
    {
     "data": {
      "text/plain": [
       "4319888920071     1\n",
       "11897683056067    4\n",
       "18288931836992    1\n",
       "27514404317028    1\n",
       "28801856705165    1\n",
       "Name: A1-B002764-3_38_F-1-1, dtype: int64"
      ]
     },
     "execution_count": 23,
     "metadata": {},
     "output_type": "execute_result"
    }
   ],
   "source": [
    "sig2_hashes = pd.Series(sig2.minhash.get_mins(with_abundance=True), name=cell2)\n",
    "sig2_hashes.head()"
   ]
  },
  {
   "cell_type": "code",
   "execution_count": 22,
   "metadata": {},
   "outputs": [
    {
     "data": {
      "text/plain": [
       "171794956858086        1.0\n",
       "394031160505449        0.0\n",
       "513049510280006        5.0\n",
       "635563321059591       54.0\n",
       "734478954482604        0.0\n",
       "790330283259107        0.0\n",
       "860437213521678       -9.0\n",
       "936637619733676       -4.0\n",
       "937624453106451    -4675.0\n",
       "1012839673718406    -240.0\n",
       "1026077759632952    -276.0\n",
       "1067106972354716       0.0\n",
       "1215285019941982       0.0\n",
       "1225906413461687       0.0\n",
       "dtype: float64"
      ]
     },
     "execution_count": 22,
     "metadata": {},
     "output_type": "execute_result"
    }
   ],
   "source": [
    "hash_diff = (sig1_hashes - sig2_hashes).dropna()\n",
    "hash_diff"
   ]
  },
  {
   "cell_type": "code",
   "execution_count": null,
   "metadata": {},
   "outputs": [],
   "source": []
  },
  {
   "cell_type": "code",
   "execution_count": 26,
   "metadata": {},
   "outputs": [
    {
     "data": {
      "text/html": [
       "<div>\n",
       "<style scoped>\n",
       "    .dataframe tbody tr th:only-of-type {\n",
       "        vertical-align: middle;\n",
       "    }\n",
       "\n",
       "    .dataframe tbody tr th {\n",
       "        vertical-align: top;\n",
       "    }\n",
       "\n",
       "    .dataframe thead th {\n",
       "        text-align: right;\n",
       "    }\n",
       "</style>\n",
       "<table border=\"1\" class=\"dataframe\">\n",
       "  <thead>\n",
       "    <tr style=\"text-align: right;\">\n",
       "      <th></th>\n",
       "      <th>A1-B000610-3_56_F-1-1</th>\n",
       "      <th>A1-B002764-3_38_F-1-1</th>\n",
       "    </tr>\n",
       "  </thead>\n",
       "  <tbody>\n",
       "    <tr>\n",
       "      <th>171794956858086</th>\n",
       "      <td>2.0</td>\n",
       "      <td>1.0</td>\n",
       "    </tr>\n",
       "    <tr>\n",
       "      <th>394031160505449</th>\n",
       "      <td>1.0</td>\n",
       "      <td>1.0</td>\n",
       "    </tr>\n",
       "    <tr>\n",
       "      <th>513049510280006</th>\n",
       "      <td>6.0</td>\n",
       "      <td>1.0</td>\n",
       "    </tr>\n",
       "    <tr>\n",
       "      <th>635563321059591</th>\n",
       "      <td>55.0</td>\n",
       "      <td>1.0</td>\n",
       "    </tr>\n",
       "    <tr>\n",
       "      <th>734478954482604</th>\n",
       "      <td>1.0</td>\n",
       "      <td>1.0</td>\n",
       "    </tr>\n",
       "    <tr>\n",
       "      <th>790330283259107</th>\n",
       "      <td>1.0</td>\n",
       "      <td>1.0</td>\n",
       "    </tr>\n",
       "    <tr>\n",
       "      <th>860437213521678</th>\n",
       "      <td>1.0</td>\n",
       "      <td>10.0</td>\n",
       "    </tr>\n",
       "    <tr>\n",
       "      <th>936637619733676</th>\n",
       "      <td>3.0</td>\n",
       "      <td>7.0</td>\n",
       "    </tr>\n",
       "    <tr>\n",
       "      <th>937624453106451</th>\n",
       "      <td>301.0</td>\n",
       "      <td>4976.0</td>\n",
       "    </tr>\n",
       "    <tr>\n",
       "      <th>1012839673718406</th>\n",
       "      <td>5.0</td>\n",
       "      <td>245.0</td>\n",
       "    </tr>\n",
       "    <tr>\n",
       "      <th>1026077759632952</th>\n",
       "      <td>39.0</td>\n",
       "      <td>315.0</td>\n",
       "    </tr>\n",
       "    <tr>\n",
       "      <th>1067106972354716</th>\n",
       "      <td>1.0</td>\n",
       "      <td>1.0</td>\n",
       "    </tr>\n",
       "    <tr>\n",
       "      <th>1215285019941982</th>\n",
       "      <td>2.0</td>\n",
       "      <td>2.0</td>\n",
       "    </tr>\n",
       "    <tr>\n",
       "      <th>1225906413461687</th>\n",
       "      <td>1.0</td>\n",
       "      <td>1.0</td>\n",
       "    </tr>\n",
       "  </tbody>\n",
       "</table>\n",
       "</div>"
      ],
      "text/plain": [
       "                  A1-B000610-3_56_F-1-1  A1-B002764-3_38_F-1-1\n",
       "171794956858086                     2.0                    1.0\n",
       "394031160505449                     1.0                    1.0\n",
       "513049510280006                     6.0                    1.0\n",
       "635563321059591                    55.0                    1.0\n",
       "734478954482604                     1.0                    1.0\n",
       "790330283259107                     1.0                    1.0\n",
       "860437213521678                     1.0                   10.0\n",
       "936637619733676                     3.0                    7.0\n",
       "937624453106451                   301.0                 4976.0\n",
       "1012839673718406                    5.0                  245.0\n",
       "1026077759632952                   39.0                  315.0\n",
       "1067106972354716                    1.0                    1.0\n",
       "1215285019941982                    2.0                    2.0\n",
       "1225906413461687                    1.0                    1.0"
      ]
     },
     "execution_count": 26,
     "metadata": {},
     "output_type": "execute_result"
    }
   ],
   "source": [
    "combined_hashes = pd.concat([sig1_hashes, sig2_hashes], axis=1)\n",
    "combined_hashes = combined_hashes.dropna()\n",
    "combined_hashes"
   ]
  },
  {
   "cell_type": "code",
   "execution_count": 42,
   "metadata": {},
   "outputs": [
    {
     "data": {
      "text/html": [
       "<div>\n",
       "<style scoped>\n",
       "    .dataframe tbody tr th:only-of-type {\n",
       "        vertical-align: middle;\n",
       "    }\n",
       "\n",
       "    .dataframe tbody tr th {\n",
       "        vertical-align: top;\n",
       "    }\n",
       "\n",
       "    .dataframe thead th {\n",
       "        text-align: right;\n",
       "    }\n",
       "</style>\n",
       "<table border=\"1\" class=\"dataframe\">\n",
       "  <thead>\n",
       "    <tr style=\"text-align: right;\">\n",
       "      <th></th>\n",
       "      <th>A1-B000610-3_56_F-1-1</th>\n",
       "      <th>A1-B002764-3_38_F-1-1</th>\n",
       "    </tr>\n",
       "  </thead>\n",
       "  <tbody>\n",
       "    <tr>\n",
       "      <th>635563321059591</th>\n",
       "      <td>55.0</td>\n",
       "      <td>1.0</td>\n",
       "    </tr>\n",
       "    <tr>\n",
       "      <th>937624453106451</th>\n",
       "      <td>301.0</td>\n",
       "      <td>4976.0</td>\n",
       "    </tr>\n",
       "    <tr>\n",
       "      <th>1012839673718406</th>\n",
       "      <td>5.0</td>\n",
       "      <td>245.0</td>\n",
       "    </tr>\n",
       "    <tr>\n",
       "      <th>1026077759632952</th>\n",
       "      <td>39.0</td>\n",
       "      <td>315.0</td>\n",
       "    </tr>\n",
       "  </tbody>\n",
       "</table>\n",
       "</div>"
      ],
      "text/plain": [
       "                  A1-B000610-3_56_F-1-1  A1-B002764-3_38_F-1-1\n",
       "635563321059591                    55.0                    1.0\n",
       "937624453106451                   301.0                 4976.0\n",
       "1012839673718406                    5.0                  245.0\n",
       "1026077759632952                   39.0                  315.0"
      ]
     },
     "execution_count": 42,
     "metadata": {},
     "output_type": "execute_result"
    }
   ],
   "source": [
    "hashes_of_interest = combined_hashes.loc[hash_diff.abs() > 50]\n",
    "hashes_of_interest"
   ]
  },
  {
   "cell_type": "code",
   "execution_count": null,
   "metadata": {},
   "outputs": [],
   "source": []
  },
  {
   "cell_type": "code",
   "execution_count": 27,
   "metadata": {},
   "outputs": [
    {
     "name": "stdout",
     "output_type": "stream",
     "text": [
      "                           PRE 170907_A00111_0051_BH2HWLDMXX/\n",
      "                           PRE 170907_A00111_0052_AH2HTCDMXX/\n",
      "                           PRE 170910_A00111_0053_BH2HGKDMXX/\n",
      "                           PRE 170910_A00111_0054_AH2HGWDMXX/\n",
      "                           PRE 170910_A00111_0054_AH2HGWDMXX__170910_A00111_0053_BH2HGKDMXX/\n",
      "                           PRE 170914_A00111_0057_BH3FY7DMXX/\n",
      "                           PRE 170914_A00111_0058_AH3FYKDMXX/\n",
      "                           PRE 170914_A00111_0058_AH3FYKDMXX__170914_A00111_0057_BH3FY7DMXX/\n",
      "                           PRE 170918_A00111_0059_BH3G22DMXX/\n",
      "                           PRE 170918_A00111_0060_AH3FYVDMXX/\n",
      "                           PRE 170918_A00111_0060_AH3FYVDMXX__170918_A00111_0059_BH3G22DMXX/\n",
      "                           PRE 170921_A00111_0062_BH3FYHDMXX/\n",
      "                           PRE 170921_A00111_0063_AH3G23DMXX/\n",
      "                           PRE 170921_A00111_0063_AH3G23DMXX__170921_A00111_0062_BH3FYHDMXX/\n",
      "                           PRE 170925_A00111_0066_AH3TKNDMXX/\n",
      "                           PRE 170925_A00111_0066_AH3TKNDMXX__170925_A00111_0067_BH3M5YDMXX/\n",
      "                           PRE 170925_A00111_0067_BH3M5YDMXX/\n",
      "                           PRE 170928_A00111_0068_AH3YKKDMXX/\n",
      "                           PRE 170928_A00111_0068_AH3YKKDMXX__170928_A00111_0069_BH52YMDMXX/\n",
      "                           PRE 170928_A00111_0069_BH52YMDMXX/\n",
      "2019-03-27 10:22:39   15777082 fastqs.csv\n",
      "2019-05-08 11:40:02   19092607 fastqs_annotated.csv\n",
      "2019-05-08 11:21:16   15777088 fastqs_read1_read2.csv\n"
     ]
    }
   ],
   "source": [
    "! aws s3 ls s3://czb-maca/Plate_seq/3_month/"
   ]
  },
  {
   "cell_type": "code",
   "execution_count": 29,
   "metadata": {},
   "outputs": [
    {
     "name": "stdout",
     "output_type": "stream",
     "text": [
      "(53760, 2)\n"
     ]
    },
    {
     "data": {
      "text/html": [
       "<div>\n",
       "<style scoped>\n",
       "    .dataframe tbody tr th:only-of-type {\n",
       "        vertical-align: middle;\n",
       "    }\n",
       "\n",
       "    .dataframe tbody tr th {\n",
       "        vertical-align: top;\n",
       "    }\n",
       "\n",
       "    .dataframe thead th {\n",
       "        text-align: right;\n",
       "    }\n",
       "</style>\n",
       "<table border=\"1\" class=\"dataframe\">\n",
       "  <thead>\n",
       "    <tr style=\"text-align: right;\">\n",
       "      <th></th>\n",
       "      <th>read1</th>\n",
       "      <th>read2</th>\n",
       "    </tr>\n",
       "    <tr>\n",
       "      <th>sample_id</th>\n",
       "      <th></th>\n",
       "      <th></th>\n",
       "    </tr>\n",
       "  </thead>\n",
       "  <tbody>\n",
       "    <tr>\n",
       "      <th>A1-B000126-3_39_F-1-1</th>\n",
       "      <td>s3://czb-maca/Plate_seq/3_month/170925_A00111_...</td>\n",
       "      <td>s3://czb-maca/Plate_seq/3_month/170925_A00111_...</td>\n",
       "    </tr>\n",
       "    <tr>\n",
       "      <th>A1-B000127-3_38_F-1-1</th>\n",
       "      <td>s3://czb-maca/Plate_seq/3_month/170914_A00111_...</td>\n",
       "      <td>s3://czb-maca/Plate_seq/3_month/170914_A00111_...</td>\n",
       "    </tr>\n",
       "    <tr>\n",
       "      <th>A1-B000167-3_56_F-1-1</th>\n",
       "      <td>s3://czb-maca/Plate_seq/3_month/170925_A00111_...</td>\n",
       "      <td>s3://czb-maca/Plate_seq/3_month/170925_A00111_...</td>\n",
       "    </tr>\n",
       "    <tr>\n",
       "      <th>A1-B000168-3_57_F-1-1</th>\n",
       "      <td>s3://czb-maca/Plate_seq/3_month/170925_A00111_...</td>\n",
       "      <td>s3://czb-maca/Plate_seq/3_month/170925_A00111_...</td>\n",
       "    </tr>\n",
       "    <tr>\n",
       "      <th>A1-B000412-3_56_F-1-1</th>\n",
       "      <td>s3://czb-maca/Plate_seq/3_month/170914_A00111_...</td>\n",
       "      <td>s3://czb-maca/Plate_seq/3_month/170914_A00111_...</td>\n",
       "    </tr>\n",
       "  </tbody>\n",
       "</table>\n",
       "</div>"
      ],
      "text/plain": [
       "                                                                   read1  \\\n",
       "sample_id                                                                  \n",
       "A1-B000126-3_39_F-1-1  s3://czb-maca/Plate_seq/3_month/170925_A00111_...   \n",
       "A1-B000127-3_38_F-1-1  s3://czb-maca/Plate_seq/3_month/170914_A00111_...   \n",
       "A1-B000167-3_56_F-1-1  s3://czb-maca/Plate_seq/3_month/170925_A00111_...   \n",
       "A1-B000168-3_57_F-1-1  s3://czb-maca/Plate_seq/3_month/170925_A00111_...   \n",
       "A1-B000412-3_56_F-1-1  s3://czb-maca/Plate_seq/3_month/170914_A00111_...   \n",
       "\n",
       "                                                                   read2  \n",
       "sample_id                                                                 \n",
       "A1-B000126-3_39_F-1-1  s3://czb-maca/Plate_seq/3_month/170925_A00111_...  \n",
       "A1-B000127-3_38_F-1-1  s3://czb-maca/Plate_seq/3_month/170914_A00111_...  \n",
       "A1-B000167-3_56_F-1-1  s3://czb-maca/Plate_seq/3_month/170925_A00111_...  \n",
       "A1-B000168-3_57_F-1-1  s3://czb-maca/Plate_seq/3_month/170925_A00111_...  \n",
       "A1-B000412-3_56_F-1-1  s3://czb-maca/Plate_seq/3_month/170914_A00111_...  "
      ]
     },
     "execution_count": 29,
     "metadata": {},
     "output_type": "execute_result"
    }
   ],
   "source": [
    "fastqs = pd.read_csv(\"s3://czb-maca/Plate_seq/3_month/fastqs_read1_read2.csv\", index_col=0)\n",
    "print(fastqs.shape)\n",
    "fastqs.head()"
   ]
  },
  {
   "cell_type": "code",
   "execution_count": 31,
   "metadata": {},
   "outputs": [
    {
     "data": {
      "text/html": [
       "<div>\n",
       "<style scoped>\n",
       "    .dataframe tbody tr th:only-of-type {\n",
       "        vertical-align: middle;\n",
       "    }\n",
       "\n",
       "    .dataframe tbody tr th {\n",
       "        vertical-align: top;\n",
       "    }\n",
       "\n",
       "    .dataframe thead th {\n",
       "        text-align: right;\n",
       "    }\n",
       "</style>\n",
       "<table border=\"1\" class=\"dataframe\">\n",
       "  <thead>\n",
       "    <tr style=\"text-align: right;\">\n",
       "      <th></th>\n",
       "      <th>read1</th>\n",
       "      <th>read2</th>\n",
       "    </tr>\n",
       "    <tr>\n",
       "      <th>sample_id</th>\n",
       "      <th></th>\n",
       "      <th></th>\n",
       "    </tr>\n",
       "  </thead>\n",
       "  <tbody>\n",
       "    <tr>\n",
       "      <th>A1-B000610-3_56_F-1-1</th>\n",
       "      <td>s3://czb-maca/Plate_seq/3_month/170914_A00111_...</td>\n",
       "      <td>s3://czb-maca/Plate_seq/3_month/170914_A00111_...</td>\n",
       "    </tr>\n",
       "    <tr>\n",
       "      <th>A1-B002764-3_38_F-1-1</th>\n",
       "      <td>s3://czb-maca/Plate_seq/3_month/170914_A00111_...</td>\n",
       "      <td>s3://czb-maca/Plate_seq/3_month/170914_A00111_...</td>\n",
       "    </tr>\n",
       "  </tbody>\n",
       "</table>\n",
       "</div>"
      ],
      "text/plain": [
       "                                                                   read1  \\\n",
       "sample_id                                                                  \n",
       "A1-B000610-3_56_F-1-1  s3://czb-maca/Plate_seq/3_month/170914_A00111_...   \n",
       "A1-B002764-3_38_F-1-1  s3://czb-maca/Plate_seq/3_month/170914_A00111_...   \n",
       "\n",
       "                                                                   read2  \n",
       "sample_id                                                                 \n",
       "A1-B000610-3_56_F-1-1  s3://czb-maca/Plate_seq/3_month/170914_A00111_...  \n",
       "A1-B002764-3_38_F-1-1  s3://czb-maca/Plate_seq/3_month/170914_A00111_...  "
      ]
     },
     "execution_count": 31,
     "metadata": {},
     "output_type": "execute_result"
    }
   ],
   "source": [
    "these_cell_fastqs = fastqs.loc[[cell1, cell2]]\n",
    "these_cell_fastqs"
   ]
  },
  {
   "cell_type": "markdown",
   "metadata": {},
   "source": [
    "### Copy fastqs over"
   ]
  },
  {
   "cell_type": "code",
   "execution_count": 56,
   "metadata": {},
   "outputs": [
    {
     "name": "stdout",
     "output_type": "stream",
     "text": [
      "s3://czb-maca/Plate_seq/3_month/170914_A00111_0058_AH3FYKDMXX__170914_A00111_0057_BH3FY7DMXX/fastqs/A1-B000610-3_56_F-1-1_R1_001.fastq.gz\n",
      "download: s3://czb-maca/Plate_seq/3_month/170914_A00111_0058_AH3FYKDMXX__170914_A00111_0057_BH3FY7DMXX/fastqs/A1-B000610-3_56_F-1-1_R1_001.fastq.gz to ../../../../pureScratch/czb-maca/Plate_Seq/3_month/170914_A00111_0058_AH3FYKDMXX__170914_A00111_0057_BH3FY7DMXX/fastqs/A1-B000610-3_56_F-1-1_R1_001.fastq.gz\n",
      "s3://czb-maca/Plate_seq/3_month/170914_A00111_0058_AH3FYKDMXX__170914_A00111_0057_BH3FY7DMXX/fastqs/A1-B000610-3_56_F-1-1_R2_001.fastq.gz\n",
      "download: s3://czb-maca/Plate_seq/3_month/170914_A00111_0058_AH3FYKDMXX__170914_A00111_0057_BH3FY7DMXX/fastqs/A1-B000610-3_56_F-1-1_R2_001.fastq.gz to ../../../../pureScratch/czb-maca/Plate_Seq/3_month/170914_A00111_0058_AH3FYKDMXX__170914_A00111_0057_BH3FY7DMXX/fastqs/A1-B000610-3_56_F-1-1_R2_001.fastq.gz\n",
      "s3://czb-maca/Plate_seq/3_month/170914_A00111_0058_AH3FYKDMXX__170914_A00111_0057_BH3FY7DMXX/fastqs/A1-B002764-3_38_F-1-1_R1_001.fastq.gz\n",
      "download: s3://czb-maca/Plate_seq/3_month/170914_A00111_0058_AH3FYKDMXX__170914_A00111_0057_BH3FY7DMXX/fastqs/A1-B002764-3_38_F-1-1_R1_001.fastq.gz to ../../../../pureScratch/czb-maca/Plate_Seq/3_month/170914_A00111_0058_AH3FYKDMXX__170914_A00111_0057_BH3FY7DMXX/fastqs/A1-B002764-3_38_F-1-1_R1_001.fastq.gz\n",
      "s3://czb-maca/Plate_seq/3_month/170914_A00111_0058_AH3FYKDMXX__170914_A00111_0057_BH3FY7DMXX/fastqs/A1-B002764-3_38_F-1-1_R2_001.fastq.gz\n",
      "download: s3://czb-maca/Plate_seq/3_month/170914_A00111_0058_AH3FYKDMXX__170914_A00111_0057_BH3FY7DMXX/fastqs/A1-B002764-3_38_F-1-1_R2_001.fastq.gz to ../../../../pureScratch/czb-maca/Plate_Seq/3_month/170914_A00111_0058_AH3FYKDMXX__170914_A00111_0057_BH3FY7DMXX/fastqs/A1-B002764-3_38_F-1-1_R2_001.fastq.gz\n"
     ]
    }
   ],
   "source": [
    "fastq_dir = '/home/olga/pureScratch/czb-maca/Plate_Seq/3_month/170914_A00111_0058_AH3FYKDMXX__170914_A00111_0057_BH3FY7DMXX/fastqs/'\n",
    "\n",
    "for fastq in these_cell_fastqs.values.flatten():\n",
    "    print(fastq)\n",
    "    ! aws s3 cp $fastq $fastq_dir"
   ]
  },
  {
   "cell_type": "code",
   "execution_count": 57,
   "metadata": {},
   "outputs": [
    {
     "data": {
      "text/plain": [
       "'/home/olga/pureScratch/czb-maca/Plate_Seq/3_month/170914_A00111_0058_AH3FYKDMXX__170914_A00111_0057_BH3FY7DMXX/fastqs/'"
      ]
     },
     "execution_count": 57,
     "metadata": {},
     "output_type": "execute_result"
    }
   ],
   "source": [
    "fastq_dir"
   ]
  },
  {
   "cell_type": "code",
   "execution_count": 54,
   "metadata": {},
   "outputs": [],
   "source": [
    "ls $fastq_dir"
   ]
  },
  {
   "cell_type": "markdown",
   "metadata": {},
   "source": [
    "## Extract reads containing the hashes of interest"
   ]
  },
  {
   "cell_type": "code",
   "execution_count": 58,
   "metadata": {},
   "outputs": [
    {
     "data": {
      "text/plain": [
       "['/home/olga/pureScratch/czb-maca/Plate_Seq/3_month/170914_A00111_0058_AH3FYKDMXX__170914_A00111_0057_BH3FY7DMXX/fastqs/A1-B000610-3_56_F-1-1_R1_001.fastq.gz',\n",
       " '/home/olga/pureScratch/czb-maca/Plate_Seq/3_month/170914_A00111_0058_AH3FYKDMXX__170914_A00111_0057_BH3FY7DMXX/fastqs/A1-B000610-3_56_F-1-1_R2_001.fastq.gz',\n",
       " '/home/olga/pureScratch/czb-maca/Plate_Seq/3_month/170914_A00111_0058_AH3FYKDMXX__170914_A00111_0057_BH3FY7DMXX/fastqs/A1-B002764-3_38_F-1-1_R1_001.fastq.gz',\n",
       " '/home/olga/pureScratch/czb-maca/Plate_Seq/3_month/170914_A00111_0058_AH3FYKDMXX__170914_A00111_0057_BH3FY7DMXX/fastqs/A1-B002764-3_38_F-1-1_R2_001.fastq.gz']"
      ]
     },
     "execution_count": 58,
     "metadata": {},
     "output_type": "execute_result"
    }
   ],
   "source": [
    "import screed\n",
    "\n",
    "ksize = 21\n",
    "\n",
    "fastqs = glob.glob(\"/home/olga/pureScratch/czb-maca/Plate_Seq/3_month/170914_A00111_0058_AH3FYKDMXX__170914_A00111_0057_BH3FY7DMXX/fastqs/*\")\n",
    "len(fastqs)\n",
    "fastqs"
   ]
  },
  {
   "cell_type": "code",
   "execution_count": 65,
   "metadata": {},
   "outputs": [
    {
     "name": "stdout",
     "output_type": "stream",
     "text": [
      "Writing load_two_cells_igv.txt\n",
      "ERROR! Session/line number was not unique in database. History logging moved to new session 584531\n"
     ]
    }
   ],
   "source": [
    "%%file load_two_cells_igv.txt\n",
    "\n",
    "genome mm10\n",
    "\n",
    "load https://czb-maca.s3-us-west-2.amazonaws.com/Plate_seq/3_month/170914_A00111_0058_AH3FYKDMXX__170914_A00111_0057_BH3FY7DMXX/results_gencode_ercc/A1-B000610-3_56_F-1-1.gencode.vM19.ERCC.Aligned.out.sorted.bam\n",
    "load https://czb-maca.s3-us-west-2.amazonaws.com/Plate_seq/3_month/170914_A00111_0058_AH3FYKDMXX__170914_A00111_0057_BH3FY7DMXX/results_gencode_ercc/A1-B002764-3_38_F-1-1.gencode.vM19.ERCC.Aligned.out.sorted.bam"
   ]
  },
  {
   "cell_type": "code",
   "execution_count": 68,
   "metadata": {},
   "outputs": [
    {
     "name": "stdout",
     "output_type": "stream",
     "text": [
      "\n",
      "genome mm10\n",
      "\n",
      "load https://czb-maca.s3-us-west-2.amazonaws.com/Plate_seq/3_month/170914_A00111_0058_AH3FYKDMXX__170914_A00111_0057_BH3FY7DMXX/results_gencode_ercc/A1-B000610-3_56_F-1-1.gencode.vM19.ERCC.Aligned.out.sorted.bam\n",
      "load https://czb-maca.s3-us-west-2.amazonaws.com/Plate_seq/3_month/170914_A00111_0058_AH3FYKDMXX__170914_A00111_0057_BH3FY7DMXX/results_gencode_ercc/A1-B002764-3_38_F-1-1.gencode.vM19.ERCC.Aligned.out.sorted.bam\n"
     ]
    }
   ],
   "source": [
    "!cat load_two_cells_igv.txt"
   ]
  },
  {
   "cell_type": "code",
   "execution_count": 70,
   "metadata": {},
   "outputs": [
    {
     "name": "stdout",
     "output_type": "stream",
     "text": [
      "total 28M\n",
      "drwxrwxr-x 4 olga olga 4.0K Aug 20 14:26 \u001b[0m\u001b[01;34m.\u001b[0m/\n",
      "drwxrwxr-x 5 olga olga 4.0K Aug  9 17:56 \u001b[01;34m..\u001b[0m/\n",
      "-rw-rw-r-- 1 olga olga 153K Apr 10 10:51 074_get_num_hashes_for_tabula_muris_signatures.ipynb\n",
      "-rw-rw-r-- 1 olga olga 203K Apr 10 10:51 075_compare_10x_facs_num_hashes.ipynb\n",
      "-rw-rw-r-- 1 olga olga 740K Aug 10 13:56 075_visualize_knn_graph_on_similarities.ipynb\n",
      "-rw-rw-r-- 1 olga olga 519K Apr 10 10:51 900_hashing_things_out.ipynb\n",
      "-rw-rw-r-- 1 olga olga 453K Apr 12 07:44 choanoflagellate_similarity_matrices.ipynb\n",
      "-rw-rw-r-- 1 olga olga 9.5K Apr 12 07:44 choanoflagellate_transcriptome_similarity_files.txt\n",
      "-rw-rw-r-- 1 olga olga 9.1M Aug  8 13:38 hematopoeisis_human_mouse_zebrafish_kidney.ipynb\n",
      "-rw-rw-r-- 1 olga olga 138K Aug  8 13:38 hematopoeisis_tf-idf.ipynb\n",
      "-rw-rw-r-- 1 olga olga  70K Aug  9 11:22 hg38_vs_mm38_orthologues-Copy1.ipynb\n",
      "-rw-rw-r-- 1 olga olga 486K Aug 10 13:54 hg38_vs_mm38_orthologues.ipynb\n",
      "-rw-rw-r-- 1 olga olga 219K Aug 19 10:57 hg38_vs_mm38_orthologues_multiprocessing.ipynb\n",
      "drwxrwxr-x 2 olga olga 4.0K Aug 20 10:45 \u001b[01;34m.ipynb_checkpoints\u001b[0m/\n",
      "-rw-rw-r-- 1 olga olga 283K Jul 26 11:53 kill_aws_batch_jobs.ipynb\n",
      "-rw-rw-r-- 1 olga olga 965K Aug  5 14:54 load_bingwu_test_data.ipynb\n",
      "-rw-rw-r-- 1 olga olga  438 Aug 20 14:26 load_two_cells_igv.txt\n",
      "-rw-rw-r-- 1 olga olga  84K Aug  7 10:42 n_kmers_per_single_cell.ipynb\n",
      "-rw-rw-r-- 1 olga olga  55K Aug 12 16:25 sb2knn_implementation.ipynb\n",
      "-rw-rw-r-- 1 olga olga 2.2M Aug 20 10:49 sbt2knn_bladder_compare_all_knn.ipynb\n",
      "-rw-rw-r-- 1 olga olga 5.2M Aug 16 14:56 sbt2knn_bladder_to_umap-Copy1.ipynb\n",
      "-rw-rw-r-- 1 olga olga 447K Aug 19 13:16 sbt2knn_bladder_tree_to_igraph.ipynb\n",
      "-rw-rw-r-- 1 olga olga  24K Aug 12 06:05 sbt2knn_check_adjacencies.ipynb\n",
      "-rw-rw-r-- 1 olga olga 1.4M Aug 20 10:00 sbt2knn_lung_adeno.ipynb\n",
      "-rw-rw-r-- 1 olga olga 396K Aug 16 12:16 sbt2knn_lung_adeno_multiple_ksizes_moltypes.ipynb\n",
      "-rw-rw-r-- 1 olga olga 127K Aug 20 10:23 sbt2knn_playing_around.ipynb\n",
      "-rw-rw-r-- 1 olga olga  46K Aug 13 10:16 sbt2knn_umap.ipynb\n",
      "-rw-rw-r-- 1 olga olga  64K Aug  9 17:57 subset_scrnaseq_bam_file_for_testing.ipynb\n",
      "-rw-rw-r-- 1 olga olga  26K Aug 16 14:04 tabula_muris_sourmash.ipynb\n",
      "-rw-rw-r-- 1 olga olga  28K Aug 12 19:46 tm_k31_no_abundance.ipynb\n",
      "drwxrwxr-x 2 olga olga 4.0K Aug 19 12:14 \u001b[01;34mUntitled Folder\u001b[0m/\n",
      "-rw-rw-r-- 1 olga olga 4.0M Aug 20 14:26 Untitled.ipynb\n"
     ]
    }
   ],
   "source": [
    "ls -lha"
   ]
  },
  {
   "cell_type": "code",
   "execution_count": 72,
   "metadata": {},
   "outputs": [
    {
     "name": "stdout",
     "output_type": "stream",
     "text": [
      "(5109, 62)\n"
     ]
    },
    {
     "data": {
      "text/html": [
       "<div>\n",
       "<style scoped>\n",
       "    .dataframe tbody tr th:only-of-type {\n",
       "        vertical-align: middle;\n",
       "    }\n",
       "\n",
       "    .dataframe tbody tr th {\n",
       "        vertical-align: top;\n",
       "    }\n",
       "\n",
       "    .dataframe thead th {\n",
       "        text-align: right;\n",
       "    }\n",
       "</style>\n",
       "<table border=\"1\" class=\"dataframe\">\n",
       "  <thead>\n",
       "    <tr style=\"text-align: right;\">\n",
       "      <th></th>\n",
       "      <th>nGene</th>\n",
       "      <th>nReads</th>\n",
       "      <th>orig.ident</th>\n",
       "      <th>well</th>\n",
       "      <th>plate</th>\n",
       "      <th>cell_id</th>\n",
       "      <th>sample_name</th>\n",
       "      <th>patient_id</th>\n",
       "      <th>DOB</th>\n",
       "      <th>gender</th>\n",
       "      <th>...</th>\n",
       "      <th>S.Score</th>\n",
       "      <th>G2M.Score</th>\n",
       "      <th>Phase</th>\n",
       "      <th>main_seurat_cluster</th>\n",
       "      <th>immune_annotation</th>\n",
       "      <th>res.1</th>\n",
       "      <th>nonimmune_seurat_cluster</th>\n",
       "      <th>nonimmune_general_annotation</th>\n",
       "      <th>epi_seurat_cluster</th>\n",
       "      <th>inferCNV_annotation</th>\n",
       "    </tr>\n",
       "  </thead>\n",
       "  <tbody>\n",
       "    <tr>\n",
       "      <th>A10_1001000407</th>\n",
       "      <td>2265</td>\n",
       "      <td>662644</td>\n",
       "      <td>SeuratProject</td>\n",
       "      <td>A10</td>\n",
       "      <td>1001000407</td>\n",
       "      <td>A10_1001000407</td>\n",
       "      <td>LT_S21</td>\n",
       "      <td>TH185</td>\n",
       "      <td>1961-12-29</td>\n",
       "      <td>Male</td>\n",
       "      <td>...</td>\n",
       "      <td>-0.185666</td>\n",
       "      <td>-0.063043</td>\n",
       "      <td>G1</td>\n",
       "      <td>3</td>\n",
       "      <td>non-immune</td>\n",
       "      <td>14</td>\n",
       "      <td>14</td>\n",
       "      <td>Epithelial</td>\n",
       "      <td>14</td>\n",
       "      <td>tumor</td>\n",
       "    </tr>\n",
       "    <tr>\n",
       "      <th>A10_B000863</th>\n",
       "      <td>1093</td>\n",
       "      <td>391731</td>\n",
       "      <td>SeuratProject</td>\n",
       "      <td>A10</td>\n",
       "      <td>B000863</td>\n",
       "      <td>A10_B000863</td>\n",
       "      <td>LT_S47</td>\n",
       "      <td>TH220</td>\n",
       "      <td>1946-09-18</td>\n",
       "      <td>Female</td>\n",
       "      <td>...</td>\n",
       "      <td>-0.124229</td>\n",
       "      <td>-0.203540</td>\n",
       "      <td>G1</td>\n",
       "      <td>3</td>\n",
       "      <td>non-immune</td>\n",
       "      <td>14</td>\n",
       "      <td>14</td>\n",
       "      <td>Epithelial</td>\n",
       "      <td>16</td>\n",
       "      <td>nontumor</td>\n",
       "    </tr>\n",
       "    <tr>\n",
       "      <th>A11_B000860</th>\n",
       "      <td>790</td>\n",
       "      <td>546027</td>\n",
       "      <td>SeuratProject</td>\n",
       "      <td>A11</td>\n",
       "      <td>B000860</td>\n",
       "      <td>A11_B000860</td>\n",
       "      <td>LT_S47</td>\n",
       "      <td>TH220</td>\n",
       "      <td>1946-09-18</td>\n",
       "      <td>Female</td>\n",
       "      <td>...</td>\n",
       "      <td>-0.059634</td>\n",
       "      <td>0.090602</td>\n",
       "      <td>G2M</td>\n",
       "      <td>3</td>\n",
       "      <td>non-immune</td>\n",
       "      <td>14</td>\n",
       "      <td>14</td>\n",
       "      <td>Epithelial</td>\n",
       "      <td>16</td>\n",
       "      <td>nontumor</td>\n",
       "    </tr>\n",
       "    <tr>\n",
       "      <th>A12_B003103</th>\n",
       "      <td>1784</td>\n",
       "      <td>900730</td>\n",
       "      <td>SeuratProject</td>\n",
       "      <td>A12</td>\n",
       "      <td>B003103</td>\n",
       "      <td>A12_B003103</td>\n",
       "      <td>LT_S72</td>\n",
       "      <td>TH222</td>\n",
       "      <td>1959-03-28</td>\n",
       "      <td>Female</td>\n",
       "      <td>...</td>\n",
       "      <td>-0.216072</td>\n",
       "      <td>-0.234825</td>\n",
       "      <td>G1</td>\n",
       "      <td>3</td>\n",
       "      <td>non-immune</td>\n",
       "      <td>14</td>\n",
       "      <td>14</td>\n",
       "      <td>Epithelial</td>\n",
       "      <td>26</td>\n",
       "      <td>nontumor</td>\n",
       "    </tr>\n",
       "    <tr>\n",
       "      <th>A15_B000420</th>\n",
       "      <td>510</td>\n",
       "      <td>140556</td>\n",
       "      <td>SeuratProject</td>\n",
       "      <td>A15</td>\n",
       "      <td>B000420</td>\n",
       "      <td>A15_B000420</td>\n",
       "      <td>LT_S66</td>\n",
       "      <td>TH238</td>\n",
       "      <td>1949-08-25</td>\n",
       "      <td>Female</td>\n",
       "      <td>...</td>\n",
       "      <td>-0.059694</td>\n",
       "      <td>-0.067962</td>\n",
       "      <td>G1</td>\n",
       "      <td>3</td>\n",
       "      <td>non-immune</td>\n",
       "      <td>14</td>\n",
       "      <td>14</td>\n",
       "      <td>Epithelial</td>\n",
       "      <td>14</td>\n",
       "      <td>nontumor</td>\n",
       "    </tr>\n",
       "  </tbody>\n",
       "</table>\n",
       "<p>5 rows × 62 columns</p>\n",
       "</div>"
      ],
      "text/plain": [
       "                nGene  nReads     orig.ident well       plate         cell_id  \\\n",
       "A10_1001000407   2265  662644  SeuratProject  A10  1001000407  A10_1001000407   \n",
       "A10_B000863      1093  391731  SeuratProject  A10     B000863     A10_B000863   \n",
       "A11_B000860       790  546027  SeuratProject  A11     B000860     A11_B000860   \n",
       "A12_B003103      1784  900730  SeuratProject  A12     B003103     A12_B003103   \n",
       "A15_B000420       510  140556  SeuratProject  A15     B000420     A15_B000420   \n",
       "\n",
       "               sample_name patient_id         DOB  gender  ...   S.Score  \\\n",
       "A10_1001000407      LT_S21      TH185  1961-12-29    Male  ... -0.185666   \n",
       "A10_B000863         LT_S47      TH220  1946-09-18  Female  ... -0.124229   \n",
       "A11_B000860         LT_S47      TH220  1946-09-18  Female  ... -0.059634   \n",
       "A12_B003103         LT_S72      TH222  1959-03-28  Female  ... -0.216072   \n",
       "A15_B000420         LT_S66      TH238  1949-08-25  Female  ... -0.059694   \n",
       "\n",
       "               G2M.Score Phase main_seurat_cluster immune_annotation res.1  \\\n",
       "A10_1001000407 -0.063043    G1                   3        non-immune    14   \n",
       "A10_B000863    -0.203540    G1                   3        non-immune    14   \n",
       "A11_B000860     0.090602   G2M                   3        non-immune    14   \n",
       "A12_B003103    -0.234825    G1                   3        non-immune    14   \n",
       "A15_B000420    -0.067962    G1                   3        non-immune    14   \n",
       "\n",
       "               nonimmune_seurat_cluster nonimmune_general_annotation  \\\n",
       "A10_1001000407                       14                   Epithelial   \n",
       "A10_B000863                          14                   Epithelial   \n",
       "A11_B000860                          14                   Epithelial   \n",
       "A12_B003103                          14                   Epithelial   \n",
       "A15_B000420                          14                   Epithelial   \n",
       "\n",
       "               epi_seurat_cluster inferCNV_annotation  \n",
       "A10_1001000407                 14               tumor  \n",
       "A10_B000863                    16            nontumor  \n",
       "A11_B000860                    16            nontumor  \n",
       "A12_B003103                    26            nontumor  \n",
       "A15_B000420                    14            nontumor  \n",
       "\n",
       "[5 rows x 62 columns]"
      ]
     },
     "execution_count": 72,
     "metadata": {},
     "output_type": "execute_result"
    }
   ],
   "source": []
  },
  {
   "cell_type": "code",
   "execution_count": 118,
   "metadata": {},
   "outputs": [
    {
     "name": "stderr",
     "output_type": "stream",
     "text": [
      "... 310000000.0 /home/olga/pureScratch/czb-maca/Plate_Seq/3_month/170914_A00111_0058_AH3FYKDMXX__170914_A00111_0057_BH3FY7DMXX/fastqs/A1-B002764-3_38_F-1-1_R2_001.fastq.gz\r"
     ]
    },
    {
     "name": "stdout",
     "output_type": "stream",
     "text": [
      "CPU times: user 3min 16s, sys: 1.26 s, total: 3min 17s\n",
      "Wall time: 3min 17s\n"
     ]
    },
    {
     "name": "stderr",
     "output_type": "stream",
     "text": [
      "... 311000000.0 /home/olga/pureScratch/czb-maca/Plate_Seq/3_month/170914_A00111_0058_AH3FYKDMXX__170914_A00111_0057_BH3FY7DMXX/fastqs/A1-B002764-3_38_F-1-1_R2_001.fastq.gz\r"
     ]
    }
   ],
   "source": [
    "%%time\n",
    "query_hashes = set(hashes_of_interest.index)\n",
    "minhash = sig1.minhash.copy_and_clear()\n",
    "\n",
    "\n",
    "# now, iterate over the input sequences and output those that add\n",
    "# hashes!\n",
    "n = 0\n",
    "m = 0\n",
    "\n",
    "NOTIFY_EVERY_BP=1e6\n",
    "\n",
    "watermark = NOTIFY_EVERY_BP\n",
    "\n",
    "with open(\"bladder_test_cells_different_hashes.fasta\", 'w') as f:\n",
    "\n",
    "    for fastq in fastqs:\n",
    "        sample_id = os.path.basename(fastq).split(\"_R\")[0]\n",
    "        for record in screed.open(fastq):\n",
    "            n += len(record.sequence)\n",
    "            while n >= watermark:\n",
    "                sys.stderr.write('... {} {}\\r'.format(watermark, fastq))\n",
    "                watermark += NOTIFY_EVERY_BP\n",
    "\n",
    "            minhash.add_sequence(record.sequence, force=True)\n",
    "            hashes = set(minhash.get_hashes())\n",
    "            match = hashes.intersection(query_hashes)\n",
    "            if match:\n",
    "                match_str = [ str(i) for i in match ]\n",
    "                match_str = \",\".join(match_str)\n",
    "                f.write('>{} {} {}\\n{}\\n'.format(record.name, sample_id, match_str,\n",
    "                                                       record.sequence))\n",
    "                m += len(record.sequence)"
   ]
  },
  {
   "cell_type": "code",
   "execution_count": null,
   "metadata": {},
   "outputs": [],
   "source": []
  },
  {
   "cell_type": "code",
   "execution_count": 116,
   "metadata": {},
   "outputs": [
    {
     "data": {
      "text/plain": [
       "'635563321059591'"
      ]
     },
     "execution_count": 116,
     "metadata": {},
     "output_type": "execute_result"
    }
   ],
   "source": [
    "match_str"
   ]
  },
  {
   "cell_type": "code",
   "execution_count": 119,
   "metadata": {},
   "outputs": [
    {
     "name": "stdout",
     "output_type": "stream",
     "text": [
      ">A00111:58:H3FYKDMXX:1:1109:19352:36323 1:N:0:CCGATGTA+GAGAGTAC A1-B000610-3_56_F-1-1 937624453106451\n",
      "GCGATGGATCGAGGTCATGACTGGACACTGCATCGGAAGACACTTCGTGCCGACACGAAGCAGCCTCAATATCTAACACGAGGATGTTCCTGTTGATACC\n",
      ">A00111:58:H3FYKDMXX:1:1109:16016:36714 1:N:0:CCGATGTA+GAGAGTAC A1-B000610-3_56_F-1-1 937624453106451\n",
      "AGCATGTTCCCCTCACCTCTCCCCACCCCCTGCCACTTGAAACCTTCTACTAATCAAGAGAAACTTCCAAGCCAACGGAATGGTCAGATCTCACAGGCTG\n",
      ">A00111:58:H3FYKDMXX:1:1109:15953:36980 1:N:0:CCGATGTA+GAGAGTAC A1-B000610-3_56_F-1-1 937624453106451\n",
      "GGTCTTTATTGCCCACCAGCCACCAACAGTTTCCCAGCCACAGACAGGGTCCTCTGGGTCTCTGTAACCCACTCTCAGGACCCTGAGATGCAGCTACAGT\n",
      ">A00111:58:H3FYKDMXX:1:1110:11388:1078 1:N:0:CCGATGTA+NAGAGTAC A1-B000610-3_56_F-1-1 937624453106451\n",
      "GTTAGGGGTAATATTCATTTAGCCTTCTGAGCTTTCTGGGCAGACTTGGTGACTTTGCCAGCTCCAGCAGCCTTCTTGTCCACAGCTTTGATGACACCCA\n",
      ">A00111:58:H3FYKDMXX:1:1110:10384:1219 1:N:0:CCGATGTA+NAGAGTAC A1-B000610-3_56_F-1-1 937624453106451\n",
      "GTTGAGGTACTCAGGTATCAGCTCGTCACAGCTGTCCATGATGAACACACGGCGGACATACAATTTGATGGTGTTCTTCTTCTTCTTGTTCTCAAAAAGG\n"
     ]
    }
   ],
   "source": [
    "! head bladder_test_cells_different_hashes.fasta"
   ]
  },
  {
   "cell_type": "code",
   "execution_count": 98,
   "metadata": {},
   "outputs": [
    {
     "name": "stdout",
     "output_type": "stream",
     "text": [
      ">A00111:58:H3FYKDMXX:1:1137:9543:21684 1:N:0:CCGATGTA+GAGAGTAC 937624453106451,635563321059591\n",
      "GCCGTGTCGTGTCACCGTTTCTGCAGGCACCATGAGCCAGGACACCGAAGTGGACATGAAAGATGTGGAGCTGAACGAGCTAGAACCGGAGAAGCAGCCC\n",
      ">A00111:58:H3FYKDMXX:1:1137:15673:21746 1:N:0:CCGATGTA+GAGAGTAC 937624453106451,635563321059591\n",
      "GACCAGAGCTCTGGGGTCGAAATAAAGCAGCAACATGAAAGCACAGAGACCAGAGCTCTGGGGTCGAAATTCATACACCTTTGCACAGGGTAGAGGAGTC\n",
      ">A00111:58:H3FYKDMXX:1:1137:29378:21966 1:N:0:CCGATGTA+GAGAGTAC 937624453106451,635563321059591\n",
      "GGGGTGCTGGAGCCACTGTCGCCGAGCTCGGGCCACGCTGCTTCTCCTCGCCAGTCGCCCCCCATCGTGCACTAGCGGTCTCAAAAGATTCAAAGTCCAA\n",
      ">A00111:58:H3FYKDMXX:1:1137:26449:22028 1:N:0:CCGATGTA+GAGAGTAC 937624453106451,635563321059591\n",
      "ATCCTCCTGTGATCAGGAGCATCAGTCAGCTCTTGAGGAAGCCAAGCAGCCCAAGAATGACAATGTAGTGATCCCCGAGTGTGCACATGGTGGTCTCTAC\n",
      ">A00111:58:H3FYKDMXX:1:1137:1705:22075 1:N:0:CCGATGTA+GAGAGTAC 937624453106451,635563321059591\n",
      "GTATCAACGCAGAGTACATGGGGCTCTTTTCCTCTGGCGCGCCACCGACGATCCTATTGTCATCATGGGCCGCCGCCCCGCCCGGGGATACCGGTAATGT\n",
      ">A00111:58:H3FYKDMXX:1:1137:32072:22435 1:N:0:CCGATGTA+GAGAGTAC 937624453106451,635563321059591\n",
      "GACCAACAGAGGCTGATCTTTGCCGGCAAGCAGCTGGAAGATGGCCGCACCCTCTCTGATTACAACATCCAGAAGGAGTCAACCCTGCACCTGGTCCTTC\n",
      ">A00111:58:H3FYKDMXX:1:1137:22137:22451 1:N:0:CCGATGTA+GAGAGTAC 937624453106451,635563321059591\n",
      "CCAACATAACTGCGATCCCTCAAGGTCTGCCTACTTCTCTCACTGAAGTGCATCTAGATGGCAACAAGATCACCAAGGTTGATGCACCCAGCCTGAAAGG\n",
      ">A00111:58:H3FYKDMXX:1:1137:11062:22561 1:N:0:CCGATGTA+GAGAGTAC 937624453106451,635563321059591\n",
      "GTACAGCCCAGCTGTGGCTGGAGTGGCAGCCACAGGCCCCTCCCTATAAATTAAGTCCCTGCAGCCACAGCTGTAGGAGAGGCCTCCTTGTAGAAGGAAG\n",
      ">A00111:58:H3FYKDMXX:1:1137:13901:22561 1:N:0:CCGATGTA+GAGAGTAC 937624453106451,635563321059591\n",
      "GCATGGTGGTTACCTTTGCTCCAGTCAATGTAACAACTGAAGTCAAGTCTGTTGAAATGCACCATGAAGCTTTGAGTGAAGCTCTTCCTGGGGACAATGT\n",
      ">A00111:58:H3FYKDMXX:1:1137:26051:22686 1:N:0:CCGATGTA+GAGAGTAC 937624453106451,635563321059591\n",
      "CACTTGGCACACCGGAAACAGTTTTTGTGCCAGGGCTTCCCAGCTCCAATGATCTTCTCCGCAGCATACACGGAATCCCCACACCTGGAACACTTCTCAG\n",
      "grep: write error: Broken pipe\n"
     ]
    }
   ],
   "source": [
    "! grep -A 1 ',' bladder_test_cells_different_hashes.fasta | head -n 20\n"
   ]
  },
  {
   "cell_type": "code",
   "execution_count": 83,
   "metadata": {},
   "outputs": [
    {
     "name": "stdout",
     "output_type": "stream",
     "text": [
      "6046332 bladder_test_cells_different_hashes.fasta\n"
     ]
    }
   ],
   "source": [
    "! wc -l bladder_test_cells_different_hashes.fasta"
   ]
  },
  {
   "cell_type": "code",
   "execution_count": 115,
   "metadata": {},
   "outputs": [
    {
     "data": {
      "text/html": [
       "<div>\n",
       "<style scoped>\n",
       "    .dataframe tbody tr th:only-of-type {\n",
       "        vertical-align: middle;\n",
       "    }\n",
       "\n",
       "    .dataframe tbody tr th {\n",
       "        vertical-align: top;\n",
       "    }\n",
       "\n",
       "    .dataframe thead th {\n",
       "        text-align: right;\n",
       "    }\n",
       "</style>\n",
       "<table border=\"1\" class=\"dataframe\">\n",
       "  <thead>\n",
       "    <tr style=\"text-align: right;\">\n",
       "      <th></th>\n",
       "      <th>A1-B000610-3_56_F-1-1</th>\n",
       "      <th>A1-B002764-3_38_F-1-1</th>\n",
       "    </tr>\n",
       "  </thead>\n",
       "  <tbody>\n",
       "    <tr>\n",
       "      <th>635563321059591</th>\n",
       "      <td>55.0</td>\n",
       "      <td>1.0</td>\n",
       "    </tr>\n",
       "    <tr>\n",
       "      <th>937624453106451</th>\n",
       "      <td>301.0</td>\n",
       "      <td>4976.0</td>\n",
       "    </tr>\n",
       "    <tr>\n",
       "      <th>1012839673718406</th>\n",
       "      <td>5.0</td>\n",
       "      <td>245.0</td>\n",
       "    </tr>\n",
       "    <tr>\n",
       "      <th>1026077759632952</th>\n",
       "      <td>39.0</td>\n",
       "      <td>315.0</td>\n",
       "    </tr>\n",
       "  </tbody>\n",
       "</table>\n",
       "</div>"
      ],
      "text/plain": [
       "                  A1-B000610-3_56_F-1-1  A1-B002764-3_38_F-1-1\n",
       "635563321059591                    55.0                    1.0\n",
       "937624453106451                   301.0                 4976.0\n",
       "1012839673718406                    5.0                  245.0\n",
       "1026077759632952                   39.0                  315.0"
      ]
     },
     "execution_count": 115,
     "metadata": {},
     "output_type": "execute_result"
    }
   ],
   "source": [
    "hashes_of_interest"
   ]
  },
  {
   "cell_type": "markdown",
   "metadata": {},
   "source": [
    "## Match the hashes to kmers"
   ]
  },
  {
   "cell_type": "code",
   "execution_count": 167,
   "metadata": {},
   "outputs": [
    {
     "name": "stdout",
     "output_type": "stream",
     "text": [
      "Something is weird! Not all the hashes were found...\n",
      "CPU times: user 0 ns, sys: 0 ns, total: 0 ns\n",
      "Wall time: 901 µs\n"
     ]
    }
   ],
   "source": [
    "%%time\n",
    "\n",
    "from collections import Counter, defaultdict\n",
    "\n",
    "fasta = 'bladder_test_cells_different_hashes.fasta'\n",
    "\n",
    "query_hashes = set(hashes_of_interest.index)\n",
    "minhash = sig1.minhash.copy_and_clear()\n",
    "\n",
    "\n",
    "ksize = sig1.minhash.ksize\n",
    "# sample_to_kmers = defaultdict(Counter)\n",
    "kmers_to_hashes = {}\n",
    "\n",
    "# now, iterate over the input sequences and output those that add\n",
    "# hashes!\n",
    "n = 0\n",
    "m = 0\n",
    "\n",
    "NOTIFY_EVERY_BP=1e4\n",
    "\n",
    "seen_hashes = Counter(query_hashes)\n",
    "\n",
    "for record in screed.open(fasta):\n",
    "    n += len(record.sequence)\n",
    "    while n >= watermark:\n",
    "        sys.stderr.write('... {} {}\\r'.format(watermark, fastq))\n",
    "        watermark += NOTIFY_EVERY_BP\n",
    "\n",
    "    minhash.add_sequence(record.sequence, force=True)\n",
    "    hashes = set(minhash.get_hashes())\n",
    "    match = hashes.intersection(query_hashes)\n",
    "    \n",
    "    sample_id = record.name.split()[2]\n",
    "    \n",
    "    if match:\n",
    "        seen_hashes.update(match)\n",
    "#         for matched_hash in match:\n",
    "        n_kmers = len(record.sequence) - ksize + 1\n",
    "        kmers = [record.sequence[i:(i+ksize)] for i in range(n_kmers)]\n",
    "        hashed_kmers = [hash_murmur(kmer) for kmer in kmers]\n",
    "        kmer_to_hash = dict(zip(kmers, hashed_kmers))\n",
    "        \n",
    "        kmer_to_hashes_of_interest = {kmer: h for kmer, h in kmer_to_hash.items() if h in query_hashes}\n",
    "        if len(kmer_to_hashes_of_interest) != len(match):\n",
    "            print(\"Something is weird! Not all the hashes were found...\")\n",
    "            break\n",
    "        kmers_to_hashes.update(kmer_to_hashes_of_interest)\n",
    "    if len(kmers_to_hashes) == len(query_hashes):\n",
    "        print(\"Seen all hashes, quitting\")\n",
    "        break\n",
    "#         sample_to_kmers[sample_id].update(kmers)\n",
    "#     if all(v > 100 for k, v in seen_hashes.items()):\n",
    "#         print(\"Seen all the hashes 100 times! ending\")\n",
    "#         break"
   ]
  },
  {
   "cell_type": "code",
   "execution_count": 168,
   "metadata": {},
   "outputs": [
    {
     "data": {
      "text/plain": [
       "{937624453106451}"
      ]
     },
     "execution_count": 168,
     "metadata": {},
     "output_type": "execute_result"
    }
   ],
   "source": [
    "match"
   ]
  },
  {
   "cell_type": "code",
   "execution_count": 169,
   "metadata": {},
   "outputs": [
    {
     "data": {
      "text/plain": [
       "{'name': 'A00111:58:H3FYKDMXX:1:1109:16016:36714 1:N:0:CCGATGTA+GAGAGTAC A1-B000610-3_56_F-1-1 937624453106451', 'sequence': 'AGCATGTTCCCCTCACCTCTCCCCACCCCCTGCCACTTGAAACCTTCTACTAATCAAGAGAAACTTCCAAGCCAACGGAATGGTCAGATCTCACAGGCTG', 'description': ''}"
      ]
     },
     "execution_count": 169,
     "metadata": {},
     "output_type": "execute_result"
    }
   ],
   "source": [
    "record"
   ]
  },
  {
   "cell_type": "code",
   "execution_count": 170,
   "metadata": {},
   "outputs": [
    {
     "data": {
      "text/plain": [
       "{}"
      ]
     },
     "execution_count": 170,
     "metadata": {},
     "output_type": "execute_result"
    }
   ],
   "source": [
    "kmer_to_hashes_of_interest"
   ]
  },
  {
   "cell_type": "code",
   "execution_count": 171,
   "metadata": {},
   "outputs": [
    {
     "data": {
      "text/plain": [
       "{}"
      ]
     },
     "execution_count": 171,
     "metadata": {},
     "output_type": "execute_result"
    }
   ],
   "source": [
    "kmer_to_hashes_of_interest"
   ]
  },
  {
   "cell_type": "code",
   "execution_count": 155,
   "metadata": {},
   "outputs": [
    {
     "data": {
      "text/plain": [
       "{635563321059591, 937624453106451, 1012839673718406, 1026077759632952}"
      ]
     },
     "execution_count": 155,
     "metadata": {},
     "output_type": "execute_result"
    }
   ],
   "source": [
    "match"
   ]
  },
  {
   "cell_type": "code",
   "execution_count": 154,
   "metadata": {},
   "outputs": [
    {
     "name": "stdout",
     "output_type": "stream",
     "text": [
      ">A00111:58:H3FYKDMXX:1:1109:19352:36323 1:N:0:CCGATGTA+GAGAGTAC A1-B000610-3_56_F-1-1 937624453106451\n",
      "GCGATGGATCGAGGTCATGACTGGACACTGCATCGGAAGACACTTCGTGCCGACACGAAGCAGCCTCAATATCTAACACGAGGATGTTCCTGTTGATACC\n",
      ">A00111:58:H3FYKDMXX:1:1109:16016:36714 1:N:0:CCGATGTA+GAGAGTAC A1-B000610-3_56_F-1-1 937624453106451\n",
      "AGCATGTTCCCCTCACCTCTCCCCACCCCCTGCCACTTGAAACCTTCTACTAATCAAGAGAAACTTCCAAGCCAACGGAATGGTCAGATCTCACAGGCTG\n",
      ">A00111:58:H3FYKDMXX:1:1109:15953:36980 1:N:0:CCGATGTA+GAGAGTAC A1-B000610-3_56_F-1-1 937624453106451\n",
      "GGTCTTTATTGCCCACCAGCCACCAACAGTTTCCCAGCCACAGACAGGGTCCTCTGGGTCTCTGTAACCCACTCTCAGGACCCTGAGATGCAGCTACAGT\n",
      ">A00111:58:H3FYKDMXX:1:1110:11388:1078 1:N:0:CCGATGTA+NAGAGTAC A1-B000610-3_56_F-1-1 937624453106451\n",
      "GTTAGGGGTAATATTCATTTAGCCTTCTGAGCTTTCTGGGCAGACTTGGTGACTTTGCCAGCTCCAGCAGCCTTCTTGTCCACAGCTTTGATGACACCCA\n",
      ">A00111:58:H3FYKDMXX:1:1110:10384:1219 1:N:0:CCGATGTA+NAGAGTAC A1-B000610-3_56_F-1-1 937624453106451\n",
      "GTTGAGGTACTCAGGTATCAGCTCGTCACAGCTGTCCATGATGAACACACGGCGGACATACAATTTGATGGTGTTCTTCTTCTTCTTGTTCTCAAAAAGG\n"
     ]
    }
   ],
   "source": [
    "! head bladder_test_cells_different_hashes.fasta"
   ]
  },
  {
   "cell_type": "code",
   "execution_count": 138,
   "metadata": {},
   "outputs": [
    {
     "data": {
      "text/plain": [
       "{'ATCGAGGTCATGACTGGACAC': 937624453106451,\n",
       " 'AGTGGACATGAAAGATGTGGA': 635563321059591,\n",
       " 'GGAGTGGGTAAATTGCGCGCC': 1012839673718406,\n",
       " 'GCTCAGTTATTGACTACGAGC': 1026077759632952}"
      ]
     },
     "execution_count": 138,
     "metadata": {},
     "output_type": "execute_result"
    }
   ],
   "source": [
    "kmers_to_hashes"
   ]
  },
  {
   "cell_type": "code",
   "execution_count": 139,
   "metadata": {},
   "outputs": [
    {
     "data": {
      "text/plain": [
       "{937624453106451: 'ATCGAGGTCATGACTGGACAC',\n",
       " 635563321059591: 'AGTGGACATGAAAGATGTGGA',\n",
       " 1012839673718406: 'GGAGTGGGTAAATTGCGCGCC',\n",
       " 1026077759632952: 'GCTCAGTTATTGACTACGAGC'}"
      ]
     },
     "execution_count": 139,
     "metadata": {},
     "output_type": "execute_result"
    }
   ],
   "source": [
    "hashes_to_kmers = {v: k for k, v in kmers_to_hashes.items()}\n",
    "hashes_to_kmers"
   ]
  },
  {
   "cell_type": "code",
   "execution_count": 172,
   "metadata": {},
   "outputs": [
    {
     "data": {
      "text/html": [
       "<div>\n",
       "<style scoped>\n",
       "    .dataframe tbody tr th:only-of-type {\n",
       "        vertical-align: middle;\n",
       "    }\n",
       "\n",
       "    .dataframe tbody tr th {\n",
       "        vertical-align: top;\n",
       "    }\n",
       "\n",
       "    .dataframe thead th {\n",
       "        text-align: right;\n",
       "    }\n",
       "</style>\n",
       "<table border=\"1\" class=\"dataframe\">\n",
       "  <thead>\n",
       "    <tr style=\"text-align: right;\">\n",
       "      <th></th>\n",
       "      <th>A1-B000610-3_56_F-1-1</th>\n",
       "      <th>A1-B002764-3_38_F-1-1</th>\n",
       "      <th>kmer</th>\n",
       "    </tr>\n",
       "  </thead>\n",
       "  <tbody>\n",
       "    <tr>\n",
       "      <th>635563321059591</th>\n",
       "      <td>55.0</td>\n",
       "      <td>1.0</td>\n",
       "      <td>AGTGGACATGAAAGATGTGGA</td>\n",
       "    </tr>\n",
       "    <tr>\n",
       "      <th>937624453106451</th>\n",
       "      <td>301.0</td>\n",
       "      <td>4976.0</td>\n",
       "      <td>ATCGAGGTCATGACTGGACAC</td>\n",
       "    </tr>\n",
       "    <tr>\n",
       "      <th>1012839673718406</th>\n",
       "      <td>5.0</td>\n",
       "      <td>245.0</td>\n",
       "      <td>GGAGTGGGTAAATTGCGCGCC</td>\n",
       "    </tr>\n",
       "    <tr>\n",
       "      <th>1026077759632952</th>\n",
       "      <td>39.0</td>\n",
       "      <td>315.0</td>\n",
       "      <td>GCTCAGTTATTGACTACGAGC</td>\n",
       "    </tr>\n",
       "  </tbody>\n",
       "</table>\n",
       "</div>"
      ],
      "text/plain": [
       "                  A1-B000610-3_56_F-1-1  A1-B002764-3_38_F-1-1  \\\n",
       "635563321059591                    55.0                    1.0   \n",
       "937624453106451                   301.0                 4976.0   \n",
       "1012839673718406                    5.0                  245.0   \n",
       "1026077759632952                   39.0                  315.0   \n",
       "\n",
       "                                   kmer  \n",
       "635563321059591   AGTGGACATGAAAGATGTGGA  \n",
       "937624453106451   ATCGAGGTCATGACTGGACAC  \n",
       "1012839673718406  GGAGTGGGTAAATTGCGCGCC  \n",
       "1026077759632952  GCTCAGTTATTGACTACGAGC  "
      ]
     },
     "execution_count": 172,
     "metadata": {},
     "output_type": "execute_result"
    }
   ],
   "source": [
    "hashes_of_interest"
   ]
  },
  {
   "cell_type": "code",
   "execution_count": 174,
   "metadata": {},
   "outputs": [
    {
     "name": "stdout",
     "output_type": "stream",
     "text": [
      "Something is weird! Not all the hashes were found...\n",
      "{937624453106451}\n",
      "Something is weird! Not all the hashes were found...\n",
      "{937624453106451}\n",
      "Something is weird! Not all the hashes were found...\n",
      "{937624453106451}\n",
      "Something is weird! Not all the hashes were found...\n",
      "{937624453106451}\n",
      "CPU times: user 188 ms, sys: 16 ms, total: 204 ms\n",
      "Wall time: 212 ms\n"
     ]
    }
   ],
   "source": [
    "%%time\n",
    "query_hashes = set(hashes_of_interest.index)\n",
    "minhash = sig1.minhash.copy_and_clear()\n",
    "\n",
    "\n",
    "# now, iterate over the input sequences and output those that add\n",
    "# hashes!\n",
    "n = 0\n",
    "m = 0\n",
    "\n",
    "NOTIFY_EVERY_BP=1e6\n",
    "\n",
    "watermark = NOTIFY_EVERY_BP\n",
    "\n",
    "with open(\"bladder_test_cells_different_hashes.fasta\", 'w') as f:\n",
    "\n",
    "    for fastq in fastqs:\n",
    "        sample_id = os.path.basename(fastq).split(\"_R\")[0]\n",
    "        for record in screed.open(fastq):\n",
    "            n += len(record.sequence)\n",
    "            while n >= watermark:\n",
    "                sys.stderr.write('... {} {}\\r'.format(watermark, fastq))\n",
    "                watermark += NOTIFY_EVERY_BP\n",
    "\n",
    "            minhash.add_sequence(record.sequence, force=True)\n",
    "            hashes = set(minhash.get_hashes())\n",
    "            match = hashes.intersection(query_hashes)\n",
    "            if match:\n",
    "                n_kmers = len(record.sequence) - ksize + 1\n",
    "                kmers = [record.sequence[i:(i+ksize)] for i in range(n_kmers)]\n",
    "                hashed_kmers = [hash_murmur(kmer) for kmer in kmers]\n",
    "                kmer_to_hash = dict(zip(kmers, hashed_kmers))\n",
    "\n",
    "                kmer_to_hashes_of_interest = {kmer: h for kmer, h in kmer_to_hash.items() if h in query_hashes}\n",
    "                if len(kmer_to_hashes_of_interest) != len(match):\n",
    "                    print(\"Something is weird! Not all the hashes were found...\")\n",
    "                    print(match)\n",
    "                    break"
   ]
  },
  {
   "cell_type": "code",
   "execution_count": 141,
   "metadata": {},
   "outputs": [
    {
     "name": "stdout",
     "output_type": "stream",
     "text": [
      ">937624453106451\n",
      "ATCGAGGTCATGACTGGACAC\n",
      ">635563321059591\n",
      "AGTGGACATGAAAGATGTGGA\n",
      ">1012839673718406\n",
      "GGAGTGGGTAAATTGCGCGCC\n",
      ">1026077759632952\n",
      "GCTCAGTTATTGACTACGAGC\n"
     ]
    }
   ],
   "source": [
    "for h, k in hashes_to_kmers.items():\n",
    "    print(f\">{h}\\n{k}\")"
   ]
  },
  {
   "cell_type": "code",
   "execution_count": 152,
   "metadata": {},
   "outputs": [
    {
     "data": {
      "text/html": [
       "<div id=\"igv_1243055\"></div>"
      ],
      "text/plain": [
       "<IPython.core.display.HTML object>"
      ]
     },
     "metadata": {},
     "output_type": "display_data"
    },
    {
     "data": {
      "text/plain": [
       "'IGV Browser not ready'"
      ]
     },
     "execution_count": 152,
     "metadata": {},
     "output_type": "execute_result"
    }
   ],
   "source": [
    "import igv\n",
    "\n",
    "b = igv.Browser({\"genome\": \"mm10\"})\n",
    "b.show()\n",
    "\n",
    "bam_base_folder = 's3://czb-maca/Plate_seq/3_month/170914_A00111_0058_AH3FYKDMXX__170914_A00111_0057_BH3FY7DMXX/results_gencode_ercc/'\n",
    "\n",
    "\n",
    "b.load_track(\n",
    "    {\n",
    "        \"name\": cell1,\n",
    "        \"url\": f\"{bam_base_folder}{cell1}.gencode.vM19.ERCC.Aligned.out.sorted.bam\",\n",
    "        \"indexURL\": f\"{bam_base_folder}{cell1}.gencode.vM19.ERCC.Aligned.out.sorted.bam.bai\",\n",
    "        \"indexed\": True\n",
    "    })\n"
   ]
  },
  {
   "cell_type": "code",
   "execution_count": 140,
   "metadata": {},
   "outputs": [
    {
     "name": "stderr",
     "output_type": "stream",
     "text": [
      "/home/olga/miniconda3/envs/sourmash-sbt2knn/lib/python3.7/site-packages/ipykernel_launcher.py:1: SettingWithCopyWarning: \n",
      "A value is trying to be set on a copy of a slice from a DataFrame.\n",
      "Try using .loc[row_indexer,col_indexer] = value instead\n",
      "\n",
      "See the caveats in the documentation: http://pandas.pydata.org/pandas-docs/stable/user_guide/indexing.html#returning-a-view-versus-a-copy\n",
      "  \"\"\"Entry point for launching an IPython kernel.\n"
     ]
    },
    {
     "data": {
      "text/html": [
       "<div>\n",
       "<style scoped>\n",
       "    .dataframe tbody tr th:only-of-type {\n",
       "        vertical-align: middle;\n",
       "    }\n",
       "\n",
       "    .dataframe tbody tr th {\n",
       "        vertical-align: top;\n",
       "    }\n",
       "\n",
       "    .dataframe thead th {\n",
       "        text-align: right;\n",
       "    }\n",
       "</style>\n",
       "<table border=\"1\" class=\"dataframe\">\n",
       "  <thead>\n",
       "    <tr style=\"text-align: right;\">\n",
       "      <th></th>\n",
       "      <th>A1-B000610-3_56_F-1-1</th>\n",
       "      <th>A1-B002764-3_38_F-1-1</th>\n",
       "      <th>kmer</th>\n",
       "    </tr>\n",
       "  </thead>\n",
       "  <tbody>\n",
       "    <tr>\n",
       "      <th>635563321059591</th>\n",
       "      <td>55.0</td>\n",
       "      <td>1.0</td>\n",
       "      <td>AGTGGACATGAAAGATGTGGA</td>\n",
       "    </tr>\n",
       "    <tr>\n",
       "      <th>937624453106451</th>\n",
       "      <td>301.0</td>\n",
       "      <td>4976.0</td>\n",
       "      <td>ATCGAGGTCATGACTGGACAC</td>\n",
       "    </tr>\n",
       "    <tr>\n",
       "      <th>1012839673718406</th>\n",
       "      <td>5.0</td>\n",
       "      <td>245.0</td>\n",
       "      <td>GGAGTGGGTAAATTGCGCGCC</td>\n",
       "    </tr>\n",
       "    <tr>\n",
       "      <th>1026077759632952</th>\n",
       "      <td>39.0</td>\n",
       "      <td>315.0</td>\n",
       "      <td>GCTCAGTTATTGACTACGAGC</td>\n",
       "    </tr>\n",
       "  </tbody>\n",
       "</table>\n",
       "</div>"
      ],
      "text/plain": [
       "                  A1-B000610-3_56_F-1-1  A1-B002764-3_38_F-1-1  \\\n",
       "635563321059591                    55.0                    1.0   \n",
       "937624453106451                   301.0                 4976.0   \n",
       "1012839673718406                    5.0                  245.0   \n",
       "1026077759632952                   39.0                  315.0   \n",
       "\n",
       "                                   kmer  \n",
       "635563321059591   AGTGGACATGAAAGATGTGGA  \n",
       "937624453106451   ATCGAGGTCATGACTGGACAC  \n",
       "1012839673718406  GGAGTGGGTAAATTGCGCGCC  \n",
       "1026077759632952  GCTCAGTTATTGACTACGAGC  "
      ]
     },
     "execution_count": 140,
     "metadata": {},
     "output_type": "execute_result"
    }
   ],
   "source": [
    "hashes_of_interest['kmer'] = hashes_of_interest.index.map(hashes_to_kmers)\n",
    "hashes_of_interest"
   ]
  },
  {
   "cell_type": "code",
   "execution_count": 136,
   "metadata": {},
   "outputs": [
    {
     "data": {
      "text/plain": [
       "15066920339359888050"
      ]
     },
     "execution_count": 136,
     "metadata": {},
     "output_type": "execute_result"
    }
   ],
   "source": [
    "hash_murmur(\"TTTTTTTTTTTTTTTTTTTTT\")"
   ]
  },
  {
   "cell_type": "code",
   "execution_count": 126,
   "metadata": {},
   "outputs": [
    {
     "data": {
      "text/plain": [
       "Counter({1026077759632952: 101,\n",
       "         937624453106451: 39829,\n",
       "         1012839673718406: 31133,\n",
       "         635563321059591: 31797})"
      ]
     },
     "execution_count": 126,
     "metadata": {},
     "output_type": "execute_result"
    }
   ],
   "source": [
    "seen_hashes"
   ]
  },
  {
   "cell_type": "code",
   "execution_count": 131,
   "metadata": {},
   "outputs": [],
   "source": [
    "# sample_to_kmers"
   ]
  },
  {
   "cell_type": "code",
   "execution_count": 127,
   "metadata": {},
   "outputs": [
    {
     "name": "stdout",
     "output_type": "stream",
     "text": [
      "937624453106451 [('TTTTTTTTTTTTTTTTTTTTT', 6670), ('AAAAAAAAAAAAAAAAAAAAA', 2270), ('CTTTTTTTTTTTTTTTTTTTT', 513), ('ACTTTTTTTTTTTTTTTTTTT', 510), ('GTACTTTTTTTTTTTTTTTTT', 508)]\n",
      "635563321059591 [('TTTTTTTTTTTTTTTTTTTTT', 5518), ('AAAAAAAAAAAAAAAAAAAAA', 1877), ('CTTTTTTTTTTTTTTTTTTTT', 417), ('ACTTTTTTTTTTTTTTTTTTT', 415), ('GTACTTTTTTTTTTTTTTTTT', 414)]\n",
      "1012839673718406 [('TTTTTTTTTTTTTTTTTTTTT', 5409), ('AAAAAAAAAAAAAAAAAAAAA', 1849), ('CTTTTTTTTTTTTTTTTTTTT', 408), ('GTACTTTTTTTTTTTTTTTTT', 406), ('ACTTTTTTTTTTTTTTTTTTT', 406)]\n",
      "1026077759632952 [('GCTCGTAGTCAATAACTGAGC', 2), ('CTCGTAGTCAATAACTGAGCC', 2), ('TCGTAGTCAATAACTGAGCCA', 2), ('CGTAGTCAATAACTGAGCCAT', 2), ('GTAGTCAATAACTGAGCCATC', 2)]\n"
     ]
    }
   ],
   "source": [
    "for k, v in hash_to_kmers.items():\n",
    "    print(k, v.most_common(5))"
   ]
  },
  {
   "cell_type": "code",
   "execution_count": 95,
   "metadata": {},
   "outputs": [
    {
     "data": {
      "text/plain": [
       "'A00111:58:H3FYKDMXX:1:1110:3332:1814 1:N:0:CCGATGTA+GAGAGTAC 937624453106451'"
      ]
     },
     "execution_count": 95,
     "metadata": {},
     "output_type": "execute_result"
    }
   ],
   "source": [
    "%%time\n",
    "\n",
    "from collections import Counter, defaultdict\n",
    "\n",
    "fasta = 'bladder_test_cells_different_hashes.fasta'\n",
    "\n",
    "query_hashes = set(hashes_of_interest.index)\n",
    "minhash = sig1.minhash.copy_and_clear()\n",
    "\n",
    "\n",
    "ksize = 21\n",
    "sample_to_kmer_counts = {}\n",
    "\n",
    "# now, iterate over the input sequences and output those that add\n",
    "# hashes!\n",
    "n = 0\n",
    "m = 0\n",
    "\n",
    "NOTIFY_EVERY_BP=1e4\n",
    "\n",
    "\n",
    "seen_hashes = Counter(query_hashes)\n",
    "\n",
    "for record in screed.open(fasta):\n",
    "    n += len(record.sequence)\n",
    "    while n >= watermark:\n",
    "        sys.stderr.write('... {} {}\\r'.format(watermark, fastq))\n",
    "        watermark += NOTIFY_EVERY_BP\n",
    "\n",
    "    minhash.add_sequence(record.sequence, force=True)\n",
    "    hashes = set(minhash.get_hashes())\n",
    "    match = hashes.intersection(query_hashes)\n",
    "    \n",
    "    \n",
    "    \n",
    "    if match:\n",
    "        seen_hashes.update(match)\n",
    "        for matched_hash in match:\n",
    "            n_kmers = len(record.sequence) - ksize + 1\n",
    "            kmers = [record.sequence[i:(i+ksize)] for i in range(n_kmers)]\n",
    "            hash_to_kmers[matched_hash].update(kmers)\n",
    "    if all(v > 100 for k, v in seen_hashes.items()):\n",
    "        print(\"Seen all the hashes 100 times! ending\")\n",
    "        break"
   ]
  },
  {
   "cell_type": "code",
   "execution_count": 122,
   "metadata": {},
   "outputs": [
    {
     "data": {
      "text/plain": [
       "'A00111:57:H3FY7DMXX:2:2488:17372:36996 2:N:0:GAGTGGTT+ACTTGGAG'"
      ]
     },
     "execution_count": 122,
     "metadata": {},
     "output_type": "execute_result"
    }
   ],
   "source": [
    "record.name"
   ]
  },
  {
   "cell_type": "code",
   "execution_count": 90,
   "metadata": {},
   "outputs": [
    {
     "data": {
      "text/plain": [
       "'GCCCAGTCCATCAGTTTCTCAGCCCAGTTCTTCTCAAAGTGAAGAAAAAGCTCCTGAGTTGCCCAAACCAAAGAAGAACAGATGTTTTATGTGTAGAAAG'"
      ]
     },
     "execution_count": 90,
     "metadata": {},
     "output_type": "execute_result"
    }
   ],
   "source": [
    "record.sequence"
   ]
  },
  {
   "cell_type": "code",
   "execution_count": 81,
   "metadata": {},
   "outputs": [],
   "source": [
    "# hash_to_kmers"
   ]
  },
  {
   "cell_type": "code",
   "execution_count": null,
   "metadata": {},
   "outputs": [],
   "source": [
    "hash_to_kmers[635563321059591]"
   ]
  },
  {
   "cell_type": "code",
   "execution_count": null,
   "metadata": {},
   "outputs": [],
   "source": [
    "%%file\n",
    "\n",
    "#! /usr/bin/env python\n",
    "\"\"\"\n",
    "Given a signature file and a collection of sequences, output all of the\n",
    "sequences that contain a k-mer in the signature file.\n",
    "\"\"\"\n",
    "import sys\n",
    "import argparse\n",
    "import sourmash\n",
    "from sourmash import sourmash_args\n",
    "import screed\n",
    "\n",
    "\n",
    "NOTIFY_EVERY_BP=1e6\n",
    "\n",
    "\n",
    "def main():\n",
    "    p = argparse.ArgumentParser()\n",
    "    p.add_argument('sigfile')\n",
    "    p.add_argument('seqfiles', nargs='+')\n",
    "    sourmash_args.add_ksize_arg(p, 31)\n",
    "    sourmash_args.add_moltype_args(p)\n",
    "    args = p.parse_args()\n",
    "\n",
    "    # load the minhash object that we'll use, and construct an empty one.\n",
    "    moltype = sourmash_args.calculate_moltype(args)\n",
    "    sig = sourmash.load_one_signature(args.sigfile,\n",
    "                                      ksize=args.ksize,\n",
    "                                      select_moltype=moltype)\n",
    "    query_hashes = set(sig.minhash.get_mins())\n",
    "    minhash = sig.minhash.copy_and_clear()\n",
    "    \n",
    "\n",
    "    # now, iterate over the input sequences and output those that add\n",
    "    # hashes!\n",
    "    n = 0\n",
    "    m = 0\n",
    "    watermark = NOTIFY_EVERY_BP\n",
    "    for filename in args.seqfiles:\n",
    "        for record in screed.open(filename):\n",
    "            n += len(record.sequence)\n",
    "            while n >= watermark:\n",
    "                sys.stderr.write('... {} {}\\r'.format(watermark, filename))\n",
    "                watermark += NOTIFY_EVERY_BP\n",
    "\n",
    "            hashes = minhash.add_sequence(record.sequence, force=True,\n",
    "                                          output_added=True)\n",
    "            hashes = set(hashes)\n",
    "            match = hashes.intersection(query_hashes)\n",
    "            if match:\n",
    "                match_str = [ str(i) for i in match ]\n",
    "                match_str = \",\".join(match_str)\n",
    "                sys.stdout.write('>{} {}\\n{}\\n'.format(record.name, match_str,\n",
    "                                                       record.sequence))\n",
    "                m += len(record.sequence)\n",
    "\n",
    "    sys.stderr.write('read {}, wrote {}\\n'.format(n, m))\n",
    "\n",
    "\n",
    "if __name__ == '__main__':\n",
    "    sys.exit(main())\n"
   ]
  },
  {
   "cell_type": "markdown",
   "metadata": {},
   "source": [
    "### Copy bams over"
   ]
  },
  {
   "cell_type": "code",
   "execution_count": 43,
   "metadata": {},
   "outputs": [
    {
     "name": "stdout",
     "output_type": "stream",
     "text": [
      "2019-03-14 14:18:06   62996320 A1-B000610-3_56_F-1-1.gencode.vM19.ERCC.Aligned.out.sorted.bam\n",
      "2019-03-14 14:18:08    1446080 A1-B000610-3_56_F-1-1.gencode.vM19.ERCC.Aligned.out.sorted.bam.bai\n",
      "2019-03-14 14:18:06     409320 A1-B000610-3_56_F-1-1.gencode.vM19.ERCC.SJ.out.tab\n",
      "2019-03-14 14:18:06     540460 A1-B000610-3_56_F-1-1.gencode.vM19.ERCC.htseq-count.txt\n",
      "2019-03-14 14:18:06       1849 A1-B000610-3_56_F-1-1.gencode.vM19.ERCC.log.final.out\n"
     ]
    }
   ],
   "source": [
    "! aws s3 ls s3://czb-maca/Plate_seq/3_month/170914_A00111_0058_AH3FYKDMXX__170914_A00111_0057_BH3FY7DMXX/results_gencode_ercc/$cell1 "
   ]
  },
  {
   "cell_type": "code",
   "execution_count": 44,
   "metadata": {},
   "outputs": [
    {
     "name": "stdout",
     "output_type": "stream",
     "text": [
      "2019-03-14 14:21:26   37259956 A1-B002764-3_38_F-1-1.gencode.vM19.ERCC.Aligned.out.sorted.bam\n",
      "2019-03-14 14:21:27    1425896 A1-B002764-3_38_F-1-1.gencode.vM19.ERCC.Aligned.out.sorted.bam.bai\n",
      "2019-03-14 14:21:26      19274 A1-B002764-3_38_F-1-1.gencode.vM19.ERCC.SJ.out.tab\n",
      "2019-03-14 14:21:26     537300 A1-B002764-3_38_F-1-1.gencode.vM19.ERCC.htseq-count.txt\n",
      "2019-03-14 14:21:26       1840 A1-B002764-3_38_F-1-1.gencode.vM19.ERCC.log.final.out\n"
     ]
    }
   ],
   "source": [
    "! aws s3 ls s3://czb-maca/Plate_seq/3_month/170914_A00111_0058_AH3FYKDMXX__170914_A00111_0057_BH3FY7DMXX/results_gencode_ercc/$cell2"
   ]
  },
  {
   "cell_type": "code",
   "execution_count": null,
   "metadata": {},
   "outputs": [],
   "source": []
  }
 ],
 "metadata": {
  "kernelspec": {
   "display_name": "Python [conda env:sourmash-sbt2knn]",
   "language": "python",
   "name": "conda-env-sourmash-sbt2knn-py"
  },
  "language_info": {
   "codemirror_mode": {
    "name": "ipython",
    "version": 3
   },
   "file_extension": ".py",
   "mimetype": "text/x-python",
   "name": "python",
   "nbconvert_exporter": "python",
   "pygments_lexer": "ipython3",
   "version": "3.7.3"
  }
 },
 "nbformat": 4,
 "nbformat_minor": 4
}
