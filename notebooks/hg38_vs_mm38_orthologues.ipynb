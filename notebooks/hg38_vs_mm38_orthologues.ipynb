{
 "cells": [
  {
   "cell_type": "code",
   "execution_count": 8,
   "metadata": {},
   "outputs": [
    {
     "name": "stdout",
     "output_type": "stream",
     "text": [
      "The autoreload extension is already loaded. To reload it, use:\n",
      "  %reload_ext autoreload\n"
     ]
    }
   ],
   "source": [
    "%load_ext autoreload\n",
    "%autoreload 2\n",
    "\n",
    "\n",
    "from glob import glob\n",
    "from itertools import chain\n",
    "\n",
    "import ensembl_rest\n",
    "import pandas as pd\n",
    "from sourmash import load_signatures\n"
   ]
  },
  {
   "cell_type": "code",
   "execution_count": 3,
   "metadata": {},
   "outputs": [
    {
     "name": "stdout",
     "output_type": "stream",
     "text": [
      "/mnt/pureScratch/olga/kmer-hashing/nextflow-intermediates/15/8d1f6b72d37d21de30e1e2249c0e62\n"
     ]
    }
   ],
   "source": [
    "cd /home/olga/pureScratch/kmer-hashing/nextflow-intermediates/15/8d1f6b72d37d21de30e1e2249c0e62"
   ]
  },
  {
   "cell_type": "code",
   "execution_count": 4,
   "metadata": {},
   "outputs": [
    {
     "name": "stdout",
     "output_type": "stream",
     "text": [
      "total 97K\n",
      "drwxrwxr-x 1 olga olga    0 Aug  5 14:53 \u001b[0m\u001b[01;34m.\u001b[0m/\n",
      "drwxrwxr-x 1 olga olga    0 Aug  5 09:57 \u001b[01;34m..\u001b[0m/\n",
      "-rw-rw-r-- 1 olga olga    0 Aug  5 13:57 .command.begin\n",
      "-rw-rw-r-- 1 olga olga  43K Aug  5 13:58 .command.err\n",
      "-rw-rw-r-- 1 olga olga  43K Aug  5 13:58 .command.log\n",
      "-rw-rw-r-- 1 olga olga    0 Aug  5 13:57 .command.out\n",
      "-rw-rw-r-- 1 olga olga 9.8K Aug  5 13:57 .command.run\n",
      "-rw-rw-r-- 1 olga olga  189 Aug  5 13:57 .command.sh\n",
      "-rw-r--r-- 1 root root    0 Aug  5 13:57 .command.trace\n",
      "-rw-rw-r-- 1 olga olga    3 Aug  5 14:53 .exitcode\n",
      "lrwxrwxrwx 1 olga olga  169 Aug  5 13:57 \u001b[01;36mgencode.v30.pc_translations.fa_molecule-protein_ksize-51_log2sketchsize-5.sig\u001b[0m\u001b[K -> /mnt/pureScratch/olga/kmer-hashing/nextflow-intermediates/a2/2db47d056a1be7d1d6157fb705be1f/gencode.v30.pc_translations.fa_molecule-protein_ksize-51_log2sketchsize-5.sig\n",
      "lrwxrwxrwx 1 olga olga  170 Aug  5 13:57 \u001b[01;36mgencode.vM21.pc_translations.fa_molecule-protein_ksize-51_log2sketchsize-5.sig\u001b[0m\u001b[K -> /mnt/pureScratch/olga/kmer-hashing/nextflow-intermediates/6a/e1eec7e6922248146ec0517f74df29/gencode.vM21.pc_translations.fa_molecule-protein_ksize-51_log2sketchsize-5.sig\n",
      "-rw-r--r-- 1 root root    0 Aug  5 13:57 similarities_molecule-protein_ksize-51_log2sketchsize-5.csv\n"
     ]
    }
   ],
   "source": [
    "ls -lha"
   ]
  },
  {
   "cell_type": "code",
   "execution_count": 5,
   "metadata": {},
   "outputs": [],
   "source": [
    "filenames = glob(\"*.sig\")\n"
   ]
  },
  {
   "cell_type": "code",
   "execution_count": 26,
   "metadata": {},
   "outputs": [
    {
     "name": "stderr",
     "output_type": "stream",
     "text": [
      "...sig loading 99,730\n",
      "...sig loading 66,649\n"
     ]
    }
   ],
   "source": [
    "loaded_signatures = chain(*[load_signatures(f) for f in filenames])\n",
    "\n",
    "name_to_signature = {x.name(): x for x in loaded_signatures}"
   ]
  },
  {
   "cell_type": "code",
   "execution_count": 52,
   "metadata": {},
   "outputs": [
    {
     "data": {
      "text/plain": [
       "166381"
      ]
     },
     "execution_count": 52,
     "metadata": {},
     "output_type": "execute_result"
    }
   ],
   "source": [
    "len(name_to_signature)"
   ]
  },
  {
   "cell_type": "code",
   "execution_count": null,
   "metadata": {},
   "outputs": [],
   "source": []
  },
  {
   "cell_type": "code",
   "execution_count": 55,
   "metadata": {},
   "outputs": [
    {
     "data": {
      "text/plain": [
       "ENSP00000493376    1\n",
       "ENSP00000334393    1\n",
       "ENSP00000409316    1\n",
       "ENSP00000329982    1\n",
       "ENSP00000411579    1\n",
       "dtype: int64"
      ]
     },
     "execution_count": 55,
     "metadata": {},
     "output_type": "execute_result"
    }
   ],
   "source": [
    "from collections import Counter\n",
    "\n",
    "protein_id_counter = Counter(key.split(\"|\")[0].split(\".\")[0] for key, value in name_to_signature.items())\n",
    "protein_ids = pd.Series(protein_id_counter)\n",
    "protein_ids.head()"
   ]
  },
  {
   "cell_type": "code",
   "execution_count": 62,
   "metadata": {},
   "outputs": [
    {
     "data": {
      "text/plain": [
       "ENSP00000381976    2\n",
       "ENSP00000394848    2\n",
       "ENSP00000412018    2\n",
       "ENSP00000400904    2\n",
       "ENSP00000371073    2\n",
       "ENSP00000371079    2\n",
       "ENSP00000408558    2\n",
       "ENSP00000399510    2\n",
       "ENSP00000405307    2\n",
       "ENSP00000414181    2\n",
       "ENSP00000316598    2\n",
       "ENSP00000375080    2\n",
       "ENSP00000371038    2\n",
       "ENSP00000370990    2\n",
       "ENSP00000335505    2\n",
       "ENSP00000370987    2\n",
       "ENSP00000370978    2\n",
       "ENSP00000383641    2\n",
       "ENSP00000485269    2\n",
       "ENSP00000370979    2\n",
       "ENSP00000370940    2\n",
       "ENSP00000440491    2\n",
       "ENSP00000394227    2\n",
       "ENSP00000370935    2\n",
       "ENSP00000410667    2\n",
       "ENSP00000416437    2\n",
       "ENSP00000370920    2\n",
       "ENSP00000476684    2\n",
       "ENSP00000348058    2\n",
       "ENSP00000436825    2\n",
       "                  ..\n",
       "ENSP00000370639    2\n",
       "ENSP00000370627    2\n",
       "ENSP00000370631    2\n",
       "ENSP00000392053    2\n",
       "ENSP00000334113    2\n",
       "ENSP00000391778    2\n",
       "ENSP00000402741    2\n",
       "ENSP00000403045    2\n",
       "ENSP00000420788    2\n",
       "ENSP00000370620    2\n",
       "ENSP00000370621    2\n",
       "ENSP00000498725    2\n",
       "ENSP00000370616    2\n",
       "ENSP00000419148    2\n",
       "ENSP00000479999    2\n",
       "ENSP00000370582    2\n",
       "ENSP00000370579    2\n",
       "ENSP00000370588    2\n",
       "ENSP00000494027    2\n",
       "ENSP00000485427    2\n",
       "ENSP00000370573    2\n",
       "ENSP00000485545    2\n",
       "ENSP00000370570    2\n",
       "ENSP00000302978    2\n",
       "ENSP00000286448    2\n",
       "ENSP00000430039    2\n",
       "ENSP00000262640    2\n",
       "ENSP00000427822    2\n",
       "ENSP00000244174    2\n",
       "ENSP00000358431    2\n",
       "Length: 74, dtype: int64"
      ]
     },
     "execution_count": 62,
     "metadata": {},
     "output_type": "execute_result"
    }
   ],
   "source": [
    "protein_ids[protein_ids > 1]"
   ]
  },
  {
   "cell_type": "code",
   "execution_count": 61,
   "metadata": {},
   "outputs": [
    {
     "data": {
      "text/plain": [
       "74"
      ]
     },
     "execution_count": 61,
     "metadata": {},
     "output_type": "execute_result"
    }
   ],
   "source": [
    "len(name_to_signature) - len(protein_ids)"
   ]
  },
  {
   "cell_type": "code",
   "execution_count": 56,
   "metadata": {},
   "outputs": [
    {
     "data": {
      "text/plain": [
       "[('ENSP00000381976', 2),\n",
       " ('ENSP00000394848', 2),\n",
       " ('ENSP00000412018', 2),\n",
       " ('ENSP00000400904', 2),\n",
       " ('ENSP00000371073', 2),\n",
       " ('ENSP00000371079', 2),\n",
       " ('ENSP00000408558', 2),\n",
       " ('ENSP00000399510', 2),\n",
       " ('ENSP00000405307', 2),\n",
       " ('ENSP00000414181', 2)]"
      ]
     },
     "execution_count": 56,
     "metadata": {},
     "output_type": "execute_result"
    }
   ],
   "source": [
    "protein_id_counter.most_common(10)"
   ]
  },
  {
   "cell_type": "code",
   "execution_count": 60,
   "metadata": {},
   "outputs": [
    {
     "data": {
      "text/plain": [
       "['ENSP00000371079.3|ENST00000381663.8|ENSG00000182378.14|OTTHUMG00000022693.6|-|PLCXD1-202|PLCXD1|323',\n",
       " 'ENSP00000371079.3|ENST00000381663.8_PAR_Y|ENSG00000182378.14_PAR_Y|OTTHUMG00000022693.6|-|PLCXD1-202|PLCXD1|323']"
      ]
     },
     "execution_count": 60,
     "metadata": {},
     "output_type": "execute_result"
    }
   ],
   "source": [
    "[x for x in name_to_signature.keys() if 'ENSP00000371079' in x]"
   ]
  },
  {
   "cell_type": "code",
   "execution_count": 63,
   "metadata": {},
   "outputs": [
    {
     "data": {
      "text/plain": [
       "{'db_type': 'core',\n",
       " 'length': 323,\n",
       " 'id': 'ENSP00000371079',\n",
       " 'species': 'homo_sapiens',\n",
       " 'start': 284188,\n",
       " 'object_type': 'Translation',\n",
       " 'Parent': 'ENST00000381663',\n",
       " 'end': 299335}"
      ]
     },
     "execution_count": 63,
     "metadata": {},
     "output_type": "execute_result"
    }
   ],
   "source": [
    "ensembl_rest.lookup(\"ENSP00000371079\")"
   ]
  },
  {
   "cell_type": "code",
   "execution_count": 54,
   "metadata": {},
   "outputs": [
    {
     "data": {
      "text/plain": [
       "166307"
      ]
     },
     "execution_count": 54,
     "metadata": {},
     "output_type": "execute_result"
    }
   ],
   "source": [
    "protein_id_to_signature = {key.split(\"|\")[0].split(\".\")[0]: value for key, value in name_to_signature.items()}\n",
    "len(protein_id_to_signature)"
   ]
  },
  {
   "cell_type": "code",
   "execution_count": 46,
   "metadata": {},
   "outputs": [],
   "source": [
    "gene_id_to_signature = {key.split(\"|\")[2].split(\".\")[0]: value for key, value in name_to_signature.items()}"
   ]
  },
  {
   "cell_type": "code",
   "execution_count": 51,
   "metadata": {},
   "outputs": [
    {
     "data": {
      "text/plain": [
       "42850"
      ]
     },
     "execution_count": 51,
     "metadata": {},
     "output_type": "execute_result"
    }
   ],
   "source": [
    "len(gene_id_to_signature)"
   ]
  },
  {
   "cell_type": "code",
   "execution_count": 45,
   "metadata": {},
   "outputs": [
    {
     "name": "stdout",
     "output_type": "stream",
     "text": [
      "ENSP00000493376.2|ENST00000641515.2|ENSG00000186092.6|OTTHUMG00000001094.4|OTTHUMT00000003223.4|OR4F5-202|OR4F5|326\n",
      "ENSP00000334393.3|ENST00000335137.4|ENSG00000186092.6|OTTHUMG00000001094.4|-|OR4F5-201|OR4F5|305\n",
      "ENSP00000409316.1|ENST00000426406.3|ENSG00000284733.1|OTTHUMG00000002860.3|OTTHUMT00000007999.3|OR4F29-201|OR4F29|312\n",
      "ENSP00000329982.2|ENST00000332831.4|ENSG00000284662.1|OTTHUMG00000002581.3|OTTHUMT00000007334.3|OR4F16-201|OR4F16|312\n",
      "ENSP00000411579.2|ENST00000420190.6|ENSG00000187634.12|OTTHUMG00000040719.11|OTTHUMT00000316521.3|SAMD11-203|SAMD11|358\n",
      "ENSP00000393181.1|ENST00000437963.5|ENSG00000187634.12|OTTHUMG00000040719.11|OTTHUMT00000097862.5|SAMD11-204|SAMD11|109\n",
      "ENSP00000342313.3|ENST00000342066.8|ENSG00000187634.12|OTTHUMG00000040719.11|OTTHUMT00000276866.3|SAMD11-202|SAMD11|681\n",
      "ENSP00000480870.1|ENST00000618181.4|ENSG00000187634.12|OTTHUMG00000040719.11|-|SAMD11-213|SAMD11|556\n",
      "ENSP00000482138.1|ENST00000622503.4|ENSG00000187634.12|OTTHUMG00000040719.11|-|SAMD11-217|SAMD11|682\n",
      "ENSP00000480678.1|ENST00000618323.4|ENSG00000187634.12|OTTHUMG00000040719.11|-|SAMD11-214|SAMD11|321\n"
     ]
    }
   ],
   "source": [
    "for i, key in zip(range(10), name_to_signature.keys()):\n",
    "    print(key)\n",
    "#     print(ensembl_rest.homology_ensemblgene(key, target_species='mus_musuclus'))"
   ]
  },
  {
   "cell_type": "code",
   "execution_count": 27,
   "metadata": {},
   "outputs": [
    {
     "data": {
      "text/plain": [
       "{'species': 'homo_sapiens',\n",
       " 'start': 65565,\n",
       " 'end': 70008,\n",
       " 'Parent': 'ENST00000641515',\n",
       " 'object_type': 'Translation',\n",
       " 'db_type': 'core',\n",
       " 'id': 'ENSP00000493376',\n",
       " 'length': 326}"
      ]
     },
     "execution_count": 27,
     "metadata": {},
     "output_type": "execute_result"
    }
   ],
   "source": [
    "ensembl_rest.lookup(\"ENSP00000493376\")"
   ]
  },
  {
   "cell_type": "code",
   "execution_count": 64,
   "metadata": {},
   "outputs": [
    {
     "name": "stdout",
     "output_type": "stream",
     "text": [
      "---- ENSG00000186092 ----\n",
      "---- ENSG00000284733 ----\n"
     ]
    }
   ],
   "source": [
    "for i, (gene_id, sig) in zip(range(2), gene_id_to_signature.items()):\n",
    "    print('----', gene_id, '----')\n",
    "    ensembl_data = ensembl_rest.homology_ensemblgene(gene_id, target_species='mus_musuclus')\n",
    "    "
   ]
  },
  {
   "cell_type": "code",
   "execution_count": 71,
   "metadata": {},
   "outputs": [
    {
     "data": {
      "text/plain": [
       "1"
      ]
     },
     "execution_count": 71,
     "metadata": {},
     "output_type": "execute_result"
    }
   ],
   "source": [
    "data = ensembl_data['data']\n",
    "len(data)"
   ]
  },
  {
   "cell_type": "code",
   "execution_count": 73,
   "metadata": {},
   "outputs": [
    {
     "data": {
      "text/plain": [
       "dict_keys(['homologies', 'id'])"
      ]
     },
     "execution_count": 73,
     "metadata": {},
     "output_type": "execute_result"
    }
   ],
   "source": [
    "data[0].keys()"
   ]
  },
  {
   "cell_type": "code",
   "execution_count": 74,
   "metadata": {},
   "outputs": [
    {
     "data": {
      "text/plain": [
       "'ENSG00000284733'"
      ]
     },
     "execution_count": 74,
     "metadata": {},
     "output_type": "execute_result"
    }
   ],
   "source": [
    "data[0]['id']"
   ]
  },
  {
   "cell_type": "code",
   "execution_count": 76,
   "metadata": {},
   "outputs": [
    {
     "data": {
      "text/plain": [
       "215"
      ]
     },
     "execution_count": 76,
     "metadata": {},
     "output_type": "execute_result"
    }
   ],
   "source": [
    "homologies = data[0]['homologies']\n",
    "len(homologies)"
   ]
  },
  {
   "cell_type": "code",
   "execution_count": 77,
   "metadata": {},
   "outputs": [
    {
     "data": {
      "text/plain": [
       "{'method_link_type': 'ENSEMBL_PARALOGUES',\n",
       " 'target': {'protein_id': 'ENSP00000467301',\n",
       "  'species': 'homo_sapiens',\n",
       "  'align_seq': '-------MVTEFIFLGLSDSQGLQTFLFMLFFVFYGGIVFGNLLIVITVVSDSHLHSPMYFLLANLSLIDLSLSSVTAPKMITDFFSQRKVISFKGCLVQIFLLHFFGGSEMVILIAMGFDRYIAICKPLHYTTIMCGNACVGIMAVAWGIGFLHSVSQLAFAVHLPFCGPNEVDSFYCDLPRVIKLACTDTYRLDIMVIANSGVLTVCSFVLLIISYTIILMTIQHRPLD-KSSKALSTLTAHITVVLLFFGPCVFIYAWPFP-IKSLDKFLAVFYSVITPLLNPIIYTLRNKDMKTAIRQL-RKWDA--HSSVKF--',\n",
       "  'cigar_line': '7D224MD32MD38MD5M2D6M2D',\n",
       "  'perc_pos': 72.7869,\n",
       "  'taxon_id': 9606,\n",
       "  'id': 'ENSG00000176695',\n",
       "  'perc_id': 57.0492},\n",
       " 'type': 'other_paralog',\n",
       " 'dn_ds': 0.1908,\n",
       " 'taxonomy_level': 'Vertebrata',\n",
       " 'source': {'protein_id': 'ENSP00000409316',\n",
       "  'species': 'homo_sapiens',\n",
       "  'perc_pos': 71.1538,\n",
       "  'cigar_line': '228MD37MD39M2D3MD2MDMD2M',\n",
       "  'align_seq': 'MDGENHSVVSEFLFLGLTHSWEIQLLLLVFSSVLYVASITGNILIVFSVTTDPHLHSPMYFLLASLSFIDLGACSVTSPKMIYDLFRKRKVISFGGCIAQIFFIHVVGGVEMVLLIAMAFDRYVALCKPLHYLTIMSPRMCLSFLAVAWTLGVSHSLFQLAFLVNLAFCGPNVLDSFYCDLPRLLRLACTDTYRLQFMVTVNSGFICVGTFFILLISYVFILFTVWKH-SSGGSSKALSTLSAHSTVVLLFFGPPMFVYTRPHPNS-QMDKFLAIFDAVLTPFLNPVVYTFRNKEMKAAIKRVCKQ--LVI-YK-R-IS',\n",
       "  'taxon_id': 9606,\n",
       "  'id': 'ENSG00000284733',\n",
       "  'perc_id': 55.7692}}"
      ]
     },
     "execution_count": 77,
     "metadata": {},
     "output_type": "execute_result"
    }
   ],
   "source": [
    "homology = homologies[0]\n",
    "homology"
   ]
  },
  {
   "cell_type": "code",
   "execution_count": 86,
   "metadata": {},
   "outputs": [
    {
     "name": "stdout",
     "output_type": "stream",
     "text": [
      "-------MVTEFIFLGLSDSQGLQTFLFMLFFVFYGGIVFGNLLIVITVVSDSHLHSPMYFLLANLSLIDLSLSSVTAPKMITDFFSQRKVISFKGCLVQ\n",
      "MDGENHSVVSEFLFLGLTHSWEIQLLLLVFSSVLYVASITGNILIVFSVTTDPHLHSPMYFLLASLSFIDLGACSVTSPKMIYDLFRKRKVISFGGCIAQ\n"
     ]
    }
   ],
   "source": [
    "print(homology['target']['align_seq'][:100])\n",
    "print(homology['source']['align_seq'][:100])"
   ]
  },
  {
   "cell_type": "code",
   "execution_count": 96,
   "metadata": {},
   "outputs": [
    {
     "name": "stdout",
     "output_type": "stream",
     "text": [
      "target_seq: MVTEFIFLGLSDSQGLQTFLFMLFFVFYGGIVFGNLLIVITVVSDSHLHSPMYFLLANLSLIDLSLSSVTAPKMITDFFSQRKVISFKGCLVQIFLLHFFGGSEMVILIAMGFDRYIAICKPLHYTTIMCGNACVGIMAVAWGIGFLHSVSQLAFAVHLPFCGPNEVDSFYCDLPRVIKLACTDTYRLDIMVIANSGVLTVCSFVLLIISYTIILMTIQHRPLDKSSKALSTLTAHITVVLLFFGPCVFIYAWPFPIKSLDKFLAVFYSVITPLLNPIIYTLRNKDMKTAIRQLRKWDAHSSVKF\n",
      "source_seq: MDGENHSVVSEFLFLGLTHSWEIQLLLLVFSSVLYVASITGNILIVFSVTTDPHLHSPMYFLLASLSFIDLGACSVTSPKMIYDLFRKRKVISFGGCIAQIFFIHVVGGVEMVLLIAMAFDRYVALCKPLHYLTIMSPRMCLSFLAVAWTLGVSHSLFQLAFLVNLAFCGPNVLDSFYCDLPRLLRLACTDTYRLQFMVTVNSGFICVGTFFILLISYVFILFTVWKHSSGGSSKALSTLSAHSTVVLLFFGPPMFVYTRPHPNSQMDKFLAIFDAVLTPFLNPVVYTFRNKEMKAAIKRVCKQLVIYKRIS\n"
     ]
    }
   ],
   "source": [
    "target_seq = homology['target']['align_seq'].replace('-', '')\n",
    "print(\"target_seq:\", target_seq)\n",
    "source_seq = homology['source']['align_seq'].replace('-', '')\n",
    "print(\"source_seq:\", source_seq)\n"
   ]
  },
  {
   "cell_type": "code",
   "execution_count": 118,
   "metadata": {},
   "outputs": [],
   "source": [
    "\n",
    "\n",
    "ksize = 7\n",
    "\n",
    "target_kmers = set(target_seq[i:i+ksize] for i in range(len(target_seq)-ksize+1))"
   ]
  },
  {
   "cell_type": "code",
   "execution_count": 119,
   "metadata": {},
   "outputs": [],
   "source": [
    "source_kmers = set(source_seq[i:i+ksize] for i in range(len(source_seq)-ksize+1))"
   ]
  },
  {
   "cell_type": "code",
   "execution_count": 120,
   "metadata": {},
   "outputs": [
    {
     "data": {
      "text/plain": [
       "299"
      ]
     },
     "execution_count": 120,
     "metadata": {},
     "output_type": "execute_result"
    }
   ],
   "source": [
    "len(target_kmers)"
   ]
  },
  {
   "cell_type": "code",
   "execution_count": 121,
   "metadata": {},
   "outputs": [
    {
     "data": {
      "text/plain": [
       "306"
      ]
     },
     "execution_count": 121,
     "metadata": {},
     "output_type": "execute_result"
    }
   ],
   "source": [
    "len(source_kmers)"
   ]
  },
  {
   "cell_type": "code",
   "execution_count": 122,
   "metadata": {},
   "outputs": [],
   "source": [
    "# target_kmers.intersection(source_kmers)"
   ]
  },
  {
   "cell_type": "code",
   "execution_count": 123,
   "metadata": {},
   "outputs": [
    {
     "data": {
      "text/plain": [
       "0.05351170568561873"
      ]
     },
     "execution_count": 123,
     "metadata": {},
     "output_type": "execute_result"
    }
   ],
   "source": [
    "len(target_kmers.intersection(source_kmers))/min(len(source_kmers), len(target_kmers))"
   ]
  },
  {
   "cell_type": "code",
   "execution_count": 125,
   "metadata": {},
   "outputs": [
    {
     "name": "stdout",
     "output_type": "stream",
     "text": [
      "--- 2 ---\n",
      "len(target_kmers): 181\n",
      "len(source_kmers): 186\n",
      "intersection: 0.7292817679558011\n",
      "--- 3 ---\n",
      "len(target_kmers): 287\n",
      "len(source_kmers): 298\n",
      "intersection: 0.31010452961672474\n",
      "--- 4 ---\n",
      "len(target_kmers): 301\n",
      "len(source_kmers): 309\n",
      "intersection: 0.16279069767441862\n",
      "--- 5 ---\n",
      "len(target_kmers): 301\n",
      "len(source_kmers): 308\n",
      "intersection: 0.10631229235880399\n",
      "--- 6 ---\n",
      "len(target_kmers): 300\n",
      "len(source_kmers): 307\n",
      "intersection: 0.07666666666666666\n",
      "--- 7 ---\n",
      "len(target_kmers): 299\n",
      "len(source_kmers): 306\n",
      "intersection: 0.05351170568561873\n",
      "--- 8 ---\n",
      "len(target_kmers): 298\n",
      "len(source_kmers): 305\n",
      "intersection: 0.03691275167785235\n",
      "--- 9 ---\n",
      "len(target_kmers): 297\n",
      "len(source_kmers): 304\n",
      "intersection: 0.020202020202020204\n"
     ]
    }
   ],
   "source": [
    "ksizes = 2, 3, 4, 5, 6, 7, 8, 9\n",
    "\n",
    "for ksize in ksizes:\n",
    "    print(f\"--- {ksize} ---\")\n",
    "    target_kmers = set(target_seq[i:i+ksize] for i in range(len(target_seq)-ksize+1))\n",
    "    source_kmers = set(source_seq[i:i+ksize] for i in range(len(source_seq)-ksize+1))\n",
    "    print(\"len(target_kmers):\", len(target_kmers))\n",
    "    print(\"len(source_kmers):\", len(source_kmers))\n",
    "    print(\"intersection:\", len(target_kmers.intersection(source_kmers))/min(len(source_kmers), len(target_kmers)))"
   ]
  },
  {
   "cell_type": "markdown",
   "metadata": {},
   "source": [
    " | Amino acid    | Property              | Dayhoff |\n",
    " |---------------|-----------------------|---------|\n",
    " | C             | Sulfur polymerization | a       |\n",
    " | A, G, P, S, T | Small                 | b       |\n",
    " | D, E, N, Q    | Acid and amide        | c       |\n",
    " | H, K, R       | Basic                 | d       |\n",
    " | I, L, M, V    | Hydrophobic           | e       |\n",
    " | F, W, Y       | Aromatic              | f       |\n"
   ]
  },
  {
   "cell_type": "code",
   "execution_count": 133,
   "metadata": {},
   "outputs": [
    {
     "data": {
      "text/plain": [
       "'eebcfefebebcbcbecbfefeeffeffbbeefbceeeeebeebcbdedbbeffeebcebeecebebbebbbdeebcffbcddeebfdbaeecefeedffbbbceeeeebebfcdfebeadbedfbbeeabcbaebeebebfbebfedbebcebfbedebfabbccecbffacebdeedebabcbfdeceeeebcbbeebeabfeeeeebfbeeeebecddbecdbbdbebbebbdebeeeeffbbaefefbfbfbedbecdfebeffbeebbeecbeefbedcdcedbbedceddfcbdbbedf'"
      ]
     },
     "execution_count": 133,
     "metadata": {},
     "output_type": "execute_result"
    }
   ],
   "source": [
    "dayhoff_mapping = {\n",
    "    \"C\": \"a\",\n",
    "    \n",
    "    # Small\n",
    "    \"A\": \"b\",\n",
    "    \"G\": \"b\",\n",
    "    \"P\": \"b\",\n",
    "    \"S\": \"b\",\n",
    "    \"T\": \"b\",\n",
    "    \n",
    "    # Acid and amide\n",
    "    \"D\": \"c\",\n",
    "    \"E\": \"c\",\n",
    "    \"N\": \"c\",\n",
    "    \"Q\": \"c\",\n",
    "    \n",
    "    # Basic\n",
    "    \"H\": \"d\",\n",
    "    \"K\": \"d\",\n",
    "    \"R\": \"d\",\n",
    "    \n",
    "    # Hydrophobic\n",
    "    \"I\": \"e\",\n",
    "    \"L\": \"e\",\n",
    "    \"M\": \"e\",\n",
    "    \"V\": \"e\",\n",
    "    \n",
    "    # Aromatic\n",
    "    \"F\": \"f\",\n",
    "    \"W\": \"f\",\n",
    "    \"Y\": \"f\"\n",
    "}\n",
    "dayhoff_mapping = str.maketrans(dayhoff_mapping)\n",
    "\n",
    "# print(dayhoff_mapping)\n",
    "target_dayhoff = target_seq.translate(dayhoff_mapping)\n",
    "target_dayhoff"
   ]
  },
  {
   "cell_type": "code",
   "execution_count": 134,
   "metadata": {},
   "outputs": [],
   "source": [
    "source_dayhoff = source_seq.translate(dayhoff_mapping)"
   ]
  },
  {
   "cell_type": "code",
   "execution_count": 136,
   "metadata": {},
   "outputs": [
    {
     "name": "stdout",
     "output_type": "stream",
     "text": [
      "--- 2 ---\n",
      "len(target_kmers): 32\n",
      "len(source_kmers): 32\n",
      "intersection: 1.0\n",
      "--- 3 ---\n",
      "len(target_kmers): 110\n",
      "len(source_kmers): 111\n",
      "intersection: 0.8363636363636363\n",
      "--- 4 ---\n",
      "len(target_kmers): 204\n",
      "len(source_kmers): 222\n",
      "intersection: 0.5980392156862745\n",
      "--- 5 ---\n",
      "len(target_kmers): 268\n",
      "len(source_kmers): 283\n",
      "intersection: 0.417910447761194\n",
      "--- 6 ---\n",
      "len(target_kmers): 290\n",
      "len(source_kmers): 301\n",
      "intersection: 0.29310344827586204\n",
      "--- 7 ---\n",
      "len(target_kmers): 295\n",
      "len(source_kmers): 305\n",
      "intersection: 0.2305084745762712\n",
      "--- 8 ---\n",
      "len(target_kmers): 296\n",
      "len(source_kmers): 305\n",
      "intersection: 0.18243243243243243\n",
      "--- 9 ---\n",
      "len(target_kmers): 296\n",
      "len(source_kmers): 304\n",
      "intersection: 0.14864864864864866\n"
     ]
    }
   ],
   "source": [
    "ksizes = 2, 3, 4, 5, 6, 7, 8, 9\n",
    "\n",
    "for ksize in ksizes:\n",
    "    print(f\"--- {ksize} ---\")\n",
    "    target_kmers = set(target_dayhoff[i:i+ksize] for i in range(len(target_dayhoff)-ksize+1))\n",
    "    source_kmers = set(source_dayhoff[i:i+ksize] for i in range(len(source_dayhoff)-ksize+1))\n",
    "    print(\"len(target_kmers):\", len(target_kmers))\n",
    "    print(\"len(source_kmers):\", len(source_kmers))\n",
    "    print(\"intersection:\", len(target_kmers.intersection(source_kmers))/min(len(source_kmers), len(target_kmers)))"
   ]
  },
  {
   "cell_type": "code",
   "execution_count": 124,
   "metadata": {},
   "outputs": [
    {
     "data": {
      "text/plain": [
       "dict_keys(['method_link_type', 'target', 'type', 'dn_ds', 'taxonomy_level', 'source'])"
      ]
     },
     "execution_count": 124,
     "metadata": {},
     "output_type": "execute_result"
    }
   ],
   "source": [
    "homology.keys()"
   ]
  },
  {
   "cell_type": "code",
   "execution_count": 84,
   "metadata": {},
   "outputs": [
    {
     "data": {
      "text/plain": [
       "[{'align_type': None,\n",
       "  'interpro': '',\n",
       "  'id': 'SSF81321',\n",
       "  'Parent': 'ENST00000585993',\n",
       "  'type': 'SuperFamily',\n",
       "  'description': '',\n",
       "  'cigar_string': '',\n",
       "  'feature_type': 'protein_feature',\n",
       "  'translation_id': 1589091,\n",
       "  'hseqname': 'SSF81321',\n",
       "  'start': 2,\n",
       "  'seq_region_name': 'ENSP00000467301',\n",
       "  'hit_start': 0,\n",
       "  'hit_end': 0,\n",
       "  'end': 297},\n",
       " {'interpro': 'IPR000276',\n",
       "  'align_type': None,\n",
       "  'id': 'PS00237',\n",
       "  'cigar_string': '',\n",
       "  'feature_type': 'protein_feature',\n",
       "  'translation_id': 1589091,\n",
       "  'hseqname': 'PS00237',\n",
       "  'type': 'Prosite_patterns',\n",
       "  'Parent': 'ENST00000585993',\n",
       "  'description': 'G protein-coupled receptor, rhodopsin-like',\n",
       "  'start': 103,\n",
       "  'end': 119,\n",
       "  'hit_end': 0,\n",
       "  'seq_region_name': 'ENSP00000467301',\n",
       "  'hit_start': 0},\n",
       " {'interpro': '',\n",
       "  'align_type': None,\n",
       "  'id': 'TMhelix',\n",
       "  'type': 'TMHMM',\n",
       "  'Parent': 'ENST00000585993',\n",
       "  'description': '',\n",
       "  'feature_type': 'protein_feature',\n",
       "  'hseqname': 'TMhelix',\n",
       "  'translation_id': 1589091,\n",
       "  'cigar_string': '',\n",
       "  'start': 196,\n",
       "  'hit_start': 0,\n",
       "  'seq_region_name': 'ENSP00000467301',\n",
       "  'hit_end': 0,\n",
       "  'end': 218},\n",
       " {'id': 'TMhelix',\n",
       "  'align_type': None,\n",
       "  'interpro': '',\n",
       "  'feature_type': 'protein_feature',\n",
       "  'translation_id': 1589091,\n",
       "  'hseqname': 'TMhelix',\n",
       "  'cigar_string': '',\n",
       "  'description': '',\n",
       "  'Parent': 'ENST00000585993',\n",
       "  'type': 'TMHMM',\n",
       "  'start': 91,\n",
       "  'end': 113,\n",
       "  'hit_start': 0,\n",
       "  'seq_region_name': 'ENSP00000467301',\n",
       "  'hit_end': 0},\n",
       " {'seq_region_name': 'ENSP00000467301',\n",
       "  'hit_end': 0,\n",
       "  'hit_start': 0,\n",
       "  'end': 282,\n",
       "  'start': 263,\n",
       "  'description': '',\n",
       "  'Parent': 'ENST00000585993',\n",
       "  'type': 'TMHMM',\n",
       "  'feature_type': 'protein_feature',\n",
       "  'translation_id': 1589091,\n",
       "  'cigar_string': '',\n",
       "  'hseqname': 'TMhelix',\n",
       "  'id': 'TMhelix',\n",
       "  'align_type': None,\n",
       "  'interpro': ''},\n",
       " {'id': 'TMhelix',\n",
       "  'interpro': '',\n",
       "  'align_type': None,\n",
       "  'type': 'TMHMM',\n",
       "  'Parent': 'ENST00000585993',\n",
       "  'description': '',\n",
       "  'cigar_string': '',\n",
       "  'feature_type': 'protein_feature',\n",
       "  'translation_id': 1589091,\n",
       "  'hseqname': 'TMhelix',\n",
       "  'start': 125,\n",
       "  'seq_region_name': 'ENSP00000467301',\n",
       "  'hit_start': 0,\n",
       "  'hit_end': 0,\n",
       "  'end': 147},\n",
       " {'id': 'TMhelix',\n",
       "  'interpro': '',\n",
       "  'align_type': None,\n",
       "  'translation_id': 1589091,\n",
       "  'feature_type': 'protein_feature',\n",
       "  'hseqname': 'TMhelix',\n",
       "  'cigar_string': '',\n",
       "  'Parent': 'ENST00000585993',\n",
       "  'type': 'TMHMM',\n",
       "  'description': '',\n",
       "  'start': 231,\n",
       "  'end': 253,\n",
       "  'hit_end': 0,\n",
       "  'seq_region_name': 'ENSP00000467301',\n",
       "  'hit_start': 0},\n",
       " {'seq_region_name': 'ENSP00000467301',\n",
       "  'hit_end': 0,\n",
       "  'hit_start': 0,\n",
       "  'end': 76,\n",
       "  'start': 54,\n",
       "  'description': '',\n",
       "  'Parent': 'ENST00000585993',\n",
       "  'type': 'TMHMM',\n",
       "  'feature_type': 'protein_feature',\n",
       "  'hseqname': 'TMhelix',\n",
       "  'translation_id': 1589091,\n",
       "  'cigar_string': '',\n",
       "  'id': 'TMhelix',\n",
       "  'align_type': None,\n",
       "  'interpro': ''},\n",
       " {'end': 42,\n",
       "  'seq_region_name': 'ENSP00000467301',\n",
       "  'hit_end': 0,\n",
       "  'hit_start': 0,\n",
       "  'start': 20,\n",
       "  'feature_type': 'protein_feature',\n",
       "  'translation_id': 1589091,\n",
       "  'cigar_string': '',\n",
       "  'hseqname': 'TMhelix',\n",
       "  'Parent': 'ENST00000585993',\n",
       "  'type': 'TMHMM',\n",
       "  'description': '',\n",
       "  'id': 'TMhelix',\n",
       "  'align_type': None,\n",
       "  'interpro': ''},\n",
       " {'Parent': 'ENST00000585993',\n",
       "  'description': '',\n",
       "  'type': 'CDD',\n",
       "  'translation_id': 1589091,\n",
       "  'feature_type': 'protein_feature',\n",
       "  'cigar_string': '',\n",
       "  'hseqname': 'cd15226',\n",
       "  'id': 'cd15226',\n",
       "  'align_type': None,\n",
       "  'interpro': '',\n",
       "  'hit_end': 0,\n",
       "  'seq_region_name': 'ENSP00000467301',\n",
       "  'hit_start': 0,\n",
       "  'end': 284,\n",
       "  'start': 19},\n",
       " {'id': 'PR00237',\n",
       "  'interpro': 'IPR000276',\n",
       "  'align_type': None,\n",
       "  'description': 'G protein-coupled receptor, rhodopsin-like',\n",
       "  'Parent': 'ENST00000585993',\n",
       "  'type': 'PRINTS',\n",
       "  'feature_type': 'protein_feature',\n",
       "  'translation_id': 1589091,\n",
       "  'hseqname': 'PR00237',\n",
       "  'cigar_string': '',\n",
       "  'start': 52,\n",
       "  'hit_end': 0,\n",
       "  'seq_region_name': 'ENSP00000467301',\n",
       "  'hit_start': 0,\n",
       "  'end': 73},\n",
       " {'start': 19,\n",
       "  'hit_start': 0,\n",
       "  'seq_region_name': 'ENSP00000467301',\n",
       "  'hit_end': 0,\n",
       "  'end': 43,\n",
       "  'id': 'PR00237',\n",
       "  'interpro': 'IPR000276',\n",
       "  'align_type': None,\n",
       "  'Parent': 'ENST00000585993',\n",
       "  'description': 'G protein-coupled receptor, rhodopsin-like',\n",
       "  'type': 'PRINTS',\n",
       "  'feature_type': 'protein_feature',\n",
       "  'hseqname': 'PR00237',\n",
       "  'translation_id': 1589091,\n",
       "  'cigar_string': ''},\n",
       " {'hit_start': 0,\n",
       "  'seq_region_name': 'ENSP00000467301',\n",
       "  'hit_end': 0,\n",
       "  'end': 119,\n",
       "  'start': 97,\n",
       "  'type': 'PRINTS',\n",
       "  'Parent': 'ENST00000585993',\n",
       "  'description': 'G protein-coupled receptor, rhodopsin-like',\n",
       "  'feature_type': 'protein_feature',\n",
       "  'hseqname': 'PR00237',\n",
       "  'translation_id': 1589091,\n",
       "  'cigar_string': '',\n",
       "  'align_type': None,\n",
       "  'interpro': 'IPR000276',\n",
       "  'id': 'PR00237'},\n",
       " {'id': 'PR00237',\n",
       "  'interpro': 'IPR000276',\n",
       "  'align_type': None,\n",
       "  'feature_type': 'protein_feature',\n",
       "  'cigar_string': '',\n",
       "  'translation_id': 1589091,\n",
       "  'hseqname': 'PR00237',\n",
       "  'Parent': 'ENST00000585993',\n",
       "  'description': 'G protein-coupled receptor, rhodopsin-like',\n",
       "  'type': 'PRINTS',\n",
       "  'start': 262,\n",
       "  'end': 288,\n",
       "  'seq_region_name': 'ENSP00000467301',\n",
       "  'hit_end': 0,\n",
       "  'hit_start': 0},\n",
       " {'description': 'Olfactory receptor',\n",
       "  'Parent': 'ENST00000585993',\n",
       "  'type': 'PRINTS',\n",
       "  'translation_id': 1589091,\n",
       "  'feature_type': 'protein_feature',\n",
       "  'hseqname': 'PR00245',\n",
       "  'cigar_string': '',\n",
       "  'id': 'PR00245',\n",
       "  'interpro': 'IPR000725',\n",
       "  'align_type': None,\n",
       "  'seq_region_name': 'ENSP00000467301',\n",
       "  'hit_start': 0,\n",
       "  'hit_end': 0,\n",
       "  'end': 134,\n",
       "  'start': 122},\n",
       " {'start': 228,\n",
       "  'seq_region_name': 'ENSP00000467301',\n",
       "  'hit_start': 0,\n",
       "  'hit_end': 0,\n",
       "  'end': 237,\n",
       "  'interpro': 'IPR000725',\n",
       "  'align_type': None,\n",
       "  'id': 'PR00245',\n",
       "  'Parent': 'ENST00000585993',\n",
       "  'type': 'PRINTS',\n",
       "  'description': 'Olfactory receptor',\n",
       "  'feature_type': 'protein_feature',\n",
       "  'translation_id': 1589091,\n",
       "  'hseqname': 'PR00245',\n",
       "  'cigar_string': ''},\n",
       " {'end': 284,\n",
       "  'seq_region_name': 'ENSP00000467301',\n",
       "  'hit_start': 0,\n",
       "  'hit_end': 0,\n",
       "  'start': 273,\n",
       "  'feature_type': 'protein_feature',\n",
       "  'hseqname': 'PR00245',\n",
       "  'translation_id': 1589091,\n",
       "  'cigar_string': '',\n",
       "  'Parent': 'ENST00000585993',\n",
       "  'description': 'Olfactory receptor',\n",
       "  'type': 'PRINTS',\n",
       "  'id': 'PR00245',\n",
       "  'interpro': 'IPR000725',\n",
       "  'align_type': None},\n",
       " {'id': 'PR00245',\n",
       "  'align_type': None,\n",
       "  'interpro': 'IPR000725',\n",
       "  'cigar_string': '',\n",
       "  'feature_type': 'protein_feature',\n",
       "  'translation_id': 1589091,\n",
       "  'hseqname': 'PR00245',\n",
       "  'Parent': 'ENST00000585993',\n",
       "  'description': 'Olfactory receptor',\n",
       "  'type': 'PRINTS',\n",
       "  'start': 85,\n",
       "  'end': 96,\n",
       "  'seq_region_name': 'ENSP00000467301',\n",
       "  'hit_end': 0,\n",
       "  'hit_start': 0},\n",
       " {'translation_id': 1589091,\n",
       "  'feature_type': 'protein_feature',\n",
       "  'cigar_string': '',\n",
       "  'hseqname': 'PR00245',\n",
       "  'description': 'Olfactory receptor',\n",
       "  'Parent': 'ENST00000585993',\n",
       "  'type': 'PRINTS',\n",
       "  'interpro': 'IPR000725',\n",
       "  'align_type': None,\n",
       "  'id': 'PR00245',\n",
       "  'end': 185,\n",
       "  'hit_start': 0,\n",
       "  'seq_region_name': 'ENSP00000467301',\n",
       "  'hit_end': 0,\n",
       "  'start': 169},\n",
       " {'Parent': 'ENST00000585993',\n",
       "  'description': '',\n",
       "  'type': 'Gene3D',\n",
       "  'translation_id': 1589091,\n",
       "  'feature_type': 'protein_feature',\n",
       "  'cigar_string': '',\n",
       "  'hseqname': '1.20.1070.10',\n",
       "  'align_type': None,\n",
       "  'interpro': '',\n",
       "  'id': '1.20.1070.10',\n",
       "  'hit_start': 19,\n",
       "  'seq_region_name': 'ENSP00000467301',\n",
       "  'hit_end': 323,\n",
       "  'end': 300,\n",
       "  'start': 11},\n",
       " {'start': 1,\n",
       "  'seq_region_name': 'ENSP00000467301',\n",
       "  'hit_start': 2,\n",
       "  'hit_end': 301,\n",
       "  'end': 300,\n",
       "  'id': 'PTHR26451:SF179',\n",
       "  'align_type': None,\n",
       "  'interpro': '',\n",
       "  'Parent': 'ENST00000585993',\n",
       "  'description': '',\n",
       "  'type': 'PANTHER',\n",
       "  'hseqname': 'PTHR26451:SF179',\n",
       "  'feature_type': 'protein_feature',\n",
       "  'translation_id': 1589091,\n",
       "  'cigar_string': ''},\n",
       " {'Parent': 'ENST00000585993',\n",
       "  'type': 'PANTHER',\n",
       "  'description': '',\n",
       "  'feature_type': 'protein_feature',\n",
       "  'translation_id': 1589091,\n",
       "  'cigar_string': '',\n",
       "  'hseqname': 'PTHR26451',\n",
       "  'align_type': None,\n",
       "  'interpro': '',\n",
       "  'id': 'PTHR26451',\n",
       "  'hit_start': 2,\n",
       "  'seq_region_name': 'ENSP00000467301',\n",
       "  'hit_end': 301,\n",
       "  'end': 300,\n",
       "  'start': 1},\n",
       " {'hit_end': 0,\n",
       "  'seq_region_name': 'ENSP00000467301',\n",
       "  'hit_start': 0,\n",
       "  'end': 68,\n",
       "  'start': 55,\n",
       "  'Parent': 'ENST00000585993',\n",
       "  'description': '',\n",
       "  'type': 'Seg',\n",
       "  'feature_type': 'protein_feature',\n",
       "  'hseqname': 'seg',\n",
       "  'translation_id': 1589091,\n",
       "  'cigar_string': '',\n",
       "  'interpro': '',\n",
       "  'align_type': None,\n",
       "  'id': 'seg'},\n",
       " {'seq_region_name': 'ENSP00000467301',\n",
       "  'hit_end': 0,\n",
       "  'hit_start': 0,\n",
       "  'end': 280,\n",
       "  'start': 34,\n",
       "  'description': 'GPCR, rhodopsin-like, 7TM',\n",
       "  'Parent': 'ENST00000585993',\n",
       "  'type': 'Prosite_profiles',\n",
       "  'feature_type': 'protein_feature',\n",
       "  'hseqname': 'PS50262',\n",
       "  'translation_id': 1589091,\n",
       "  'cigar_string': '',\n",
       "  'id': 'PS50262',\n",
       "  'align_type': None,\n",
       "  'interpro': 'IPR017452'},\n",
       " {'start': 27,\n",
       "  'hit_start': 4,\n",
       "  'seq_region_name': 'ENSP00000467301',\n",
       "  'hit_end': 276,\n",
       "  'end': 294,\n",
       "  'interpro': 'IPR000725',\n",
       "  'align_type': None,\n",
       "  'id': 'PF13853',\n",
       "  'description': 'Olfactory receptor',\n",
       "  'Parent': 'ENST00000585993',\n",
       "  'type': 'Pfam',\n",
       "  'feature_type': 'protein_feature',\n",
       "  'translation_id': 1589091,\n",
       "  'hseqname': 'PF13853',\n",
       "  'cigar_string': ''}]"
      ]
     },
     "execution_count": 84,
     "metadata": {},
     "output_type": "execute_result"
    }
   ],
   "source": [
    "ensembl_rest.overlap_translation(\"ENSP00000467301\")"
   ]
  },
  {
   "cell_type": "code",
   "execution_count": 79,
   "metadata": {},
   "outputs": [],
   "source": [
    "target_protein_id = homology['target']['protein_id']\n",
    "source_protein_id = homology['source']['protein_id']\n",
    "\n",
    "target_sig = protein_id_to_signature[target_protein_id]\n",
    "source_sig = protein_id_to_signature[source_protein_id]\n",
    "\n"
   ]
  },
  {
   "cell_type": "code",
   "execution_count": 80,
   "metadata": {},
   "outputs": [
    {
     "data": {
      "text/plain": [
       "0.0"
      ]
     },
     "execution_count": 80,
     "metadata": {},
     "output_type": "execute_result"
    }
   ],
   "source": [
    "target_sig.similarity(source_sig)"
   ]
  },
  {
   "cell_type": "code",
   "execution_count": null,
   "metadata": {},
   "outputs": [],
   "source": [
    "for homology in homologies:\n"
   ]
  },
  {
   "cell_type": "code",
   "execution_count": 28,
   "metadata": {},
   "outputs": [
    {
     "data": {
      "text/plain": [
       "{'db_type': 'core',\n",
       " 'source': 'havana',\n",
       " 'object_type': 'Transcript',\n",
       " 'biotype': 'protein_coding',\n",
       " 'logic_name': 'havana',\n",
       " 'assembly_name': 'GRCh38',\n",
       " 'seq_region_name': '1',\n",
       " 'id': 'ENST00000641515',\n",
       " 'is_canonical': 0,\n",
       " 'start': 65419,\n",
       " 'end': 71585,\n",
       " 'Parent': 'ENSG00000186092',\n",
       " 'version': 2,\n",
       " 'display_name': 'OR4F5-202',\n",
       " 'species': 'homo_sapiens',\n",
       " 'strand': 1}"
      ]
     },
     "execution_count": 28,
     "metadata": {},
     "output_type": "execute_result"
    }
   ],
   "source": [
    "ensembl_rest.lookup(\"ENST00000641515\")"
   ]
  },
  {
   "cell_type": "code",
   "execution_count": 36,
   "metadata": {},
   "outputs": [],
   "source": [
    "# ensembl_rest.homology_ensemblgene(\"ENSG00000186092\", target_species='mus_musculus', type='orthologues')"
   ]
  },
  {
   "cell_type": "code",
   "execution_count": 44,
   "metadata": {},
   "outputs": [
    {
     "name": "stdout",
     "output_type": "stream",
     "text": [
      "{'data': [{'homologies': [{'dn_ds': 0.04787,\n",
      "                           'method_link_type': 'ENSEMBL_ORTHOLOGUES',\n",
      "                           'source': {'align_seq': '-------------------MAALSGGGGGGAEPGQALFNGDMEPEAGAGAGAAASSAADPAIPEEVWNIKQMIKLTQEHIEALLDKFGGEHNPPSIYLEAYEEYTSKLDALQQREQQLL-ESLGNGTDFSVSSSASMDTVTSSSSSSLSVLPSSLSVFQNPTDVARSNPKSPQKPIVRVFLPNKQRTVVPARCGVTVRDSLKKALMMRGLIPECCAVYRIQDG-EKKPIGWDTDISWLTGEELHVEVLENVPLTTHNFVRKTFFTLAFCDFCRKLLFQGFRCQTCGYKFHQRCSTEVPLMCVNYDQLDLLFVSKFFEHHPIPQEEASLAETALTSGSSPSAPASDSIGPQILTSPSPSKSIPIPQPFRPADEDHRNQFGQRDRSSSAPNVHINTIEPVNIDD-------------LIRDQGFRGDG----------------------------------------GSTTGLSATPPASLPGSLTNVKALQKSPGPQRERKSSSSS--EDRNRMKTLGRRDSSDDWEIPDGQITVGQRIGSGSFGTVYKGKWHGDVAVKMLNVTAPTPQQLQAFKNEVGVLRKTRHVNILLFMGYSTKPQLAIVTQWCEGSSLYHHLHIIETKFEMIKLIDIARQTAQGMDYLHAKSIIHRDLKSNNIFLHEDLTVKIGDFGLATVKSRWSGSHQFEQLSGSILWMAPEVIRMQDKNPYSFQSDVYAFGIVLYELMTGQLPYSNINNRDQIIFMVGRGYLSPDLSKVRSNCPKAMKRLMAECLKKKRDERPLFPQILASIELLARSLPKIHRSASEPSLNRAGFQTEDFSLYACASPKTPIQAGGYGEFAAFK',\n",
      "                                      'cigar_line': '19D100MD103MD178M13D11M40D40M2D335M',\n",
      "                                      'id': 'ENSG00000157764',\n",
      "                                      'perc_id': 92.4381,\n",
      "                                      'perc_pos': 93.09,\n",
      "                                      'protein_id': 'ENSP00000419060',\n",
      "                                      'species': 'homo_sapiens',\n",
      "                                      'taxon_id': 9606},\n",
      "                           'target': {'align_seq': 'MAALSGGGGSSSGGGGGGGGGGGGGDGGGGAEQGQALFNGDMEPEAG--AGAAASSAADPAIPEEVWNIKQMIKLTQEHIEALLDKFGGEHNPPSIYLEAYEEYTSKLDALQQREQQL-LESL---------------------------------VFQTPTDASRNNPKSPQKPIVRVFLPNKQRTVVPARCGVTVRDSLKKALMMRGLIPECCAVYRIQD-GEKKPIGWDTDISWLTGEELHVEVLENVPLTTHNFVRKTFFTLAFCDFCRKLLFQGFRCQTCGYKFHQRCSTEVPLMCVNYDQLDLLFVSKFFEHHPVPQEEASFPETALPSGSS-SAPPSDSTGPQILTSPSPSKSIPIPQPFRPADEDHRNQFGQRDRSSSAPNVHINTIEPVNIDEKFPEVELQDQRDL-IRDQGFRGDGAPLNQLMRCLRKYQSRTPSPLLHSVPSEIVFDFEPGPVFRGSTTGLSATPPASLPGSLTNVKALQKSPGPQRERKSSSSSSSEDRSRMKTLGRRDSSDDWEIPDGQITVGQRIGSGSFGTVYKGKWHGDVAVKMLNVTAPTPQQLQAFKNEVGVLRKTRHVNILLFMGYSTKPQLAIVTQWCEGSSLYHHLHIIETKFEMIKLIDIARQTAQGMDYLHAKSIIHRDLKSNNIFLHEDLTVKIGDFGLATVKSRWSGSHQFEQLSGSILWMAPEVIRMQDKNPYSFQSDVYAFGIVLYELMTGQLPYSNINNRDQIIFMVGRGYLSPDLSKVRSNCPKAMKRLMAECLKKKRDERPLFPQILASIELLARSLPKIHRSASEPSLNRAGFQTEDFSLYACASPKTPIQAGGYGEFAAFK',\n",
      "                                      'cigar_line': '47M2D69MD4M33D66MD115MD76MD427M',\n",
      "                                      'id': 'ENSMUSG00000002413',\n",
      "                                      'perc_id': 88.1841,\n",
      "                                      'perc_pos': 88.806,\n",
      "                                      'protein_id': 'ENSMUSP00000002487',\n",
      "                                      'species': 'mus_musculus',\n",
      "                                      'taxon_id': 10090},\n",
      "                           'taxonomy_level': 'Euarchontoglires',\n",
      "                           'type': 'ortholog_one2one'}],\n",
      "           'id': 'ENSG00000157764'}]}\n"
     ]
    }
   ],
   "source": [
    "import requests, sys\n",
    "from pprint import pprint\n",
    " \n",
    "server = \"https://rest.ensembl.org\"\n",
    "ext = \"/homology/id/ENSG00000157764?target_species=mouse;type=orthologues\"\n",
    " \n",
    "r = requests.get(server+ext, headers={ \"Content-Type\" : \"application/json\"})\n",
    " \n",
    "if not r.ok:\n",
    "    r.raise_for_status()\n",
    "    sys.exit()\n",
    "\n",
    "decoded = r.json()\n",
    "# print(repr(decoded))\n",
    "pprint(decoded)"
   ]
  },
  {
   "cell_type": "code",
   "execution_count": null,
   "metadata": {},
   "outputs": [],
   "source": [
    "pprint()"
   ]
  },
  {
   "cell_type": "code",
   "execution_count": null,
   "metadata": {},
   "outputs": [],
   "source": [
    "import requests, sys\n",
    " \n",
    "server = \"https://rest.ensembl.org\"\n",
    "ext = \"/homology/id/ENSG00000157764?target_species=mouse;type=orthologues\"\n",
    " \n",
    "r = requests.get(server+ext, headers={ \"Content-Type\" : \"application/json\"})\n",
    " \n",
    "if not r.ok:\n",
    "    r.raise_for_status()\n",
    "    sys.exit()\n",
    "\n",
    "decoded = r.json()\n",
    "print(repr(decoded))"
   ]
  },
  {
   "cell_type": "code",
   "execution_count": 37,
   "metadata": {},
   "outputs": [
    {
     "ename": "HTTPError",
     "evalue": "404 Client Error: Not Found for url: http://rest.ensembl.org/homology/id/human/ENSG00000186092?format=condensed;target_species=mouse;type=orthologues",
     "output_type": "error",
     "traceback": [
      "\u001b[0;31m---------------------------------------------------------------------------\u001b[0m",
      "\u001b[0;31mHTTPError\u001b[0m                                 Traceback (most recent call last)",
      "\u001b[0;32m<ipython-input-37-380ebfb84097>\u001b[0m in \u001b[0;36m<module>\u001b[0;34m()\u001b[0m\n\u001b[1;32m      7\u001b[0m \u001b[0;34m\u001b[0m\u001b[0m\n\u001b[1;32m      8\u001b[0m \u001b[0;32mif\u001b[0m \u001b[0;32mnot\u001b[0m \u001b[0mr\u001b[0m\u001b[0;34m.\u001b[0m\u001b[0mok\u001b[0m\u001b[0;34m:\u001b[0m\u001b[0;34m\u001b[0m\u001b[0;34m\u001b[0m\u001b[0m\n\u001b[0;32m----> 9\u001b[0;31m   \u001b[0mr\u001b[0m\u001b[0;34m.\u001b[0m\u001b[0mraise_for_status\u001b[0m\u001b[0;34m(\u001b[0m\u001b[0;34m)\u001b[0m\u001b[0;34m\u001b[0m\u001b[0;34m\u001b[0m\u001b[0m\n\u001b[0m\u001b[1;32m     10\u001b[0m   \u001b[0msys\u001b[0m\u001b[0;34m.\u001b[0m\u001b[0mexit\u001b[0m\u001b[0;34m(\u001b[0m\u001b[0;34m)\u001b[0m\u001b[0;34m\u001b[0m\u001b[0;34m\u001b[0m\u001b[0m\n\u001b[1;32m     11\u001b[0m \u001b[0;34m\u001b[0m\u001b[0m\n",
      "\u001b[0;32m~/miniconda3/envs/kmer-hashing/lib/python3.6/site-packages/requests/models.py\u001b[0m in \u001b[0;36mraise_for_status\u001b[0;34m(self)\u001b[0m\n\u001b[1;32m    907\u001b[0m \u001b[0;34m\u001b[0m\u001b[0m\n\u001b[1;32m    908\u001b[0m         \u001b[0;32mif\u001b[0m \u001b[0mhttp_error_msg\u001b[0m\u001b[0;34m:\u001b[0m\u001b[0;34m\u001b[0m\u001b[0;34m\u001b[0m\u001b[0m\n\u001b[0;32m--> 909\u001b[0;31m             \u001b[0;32mraise\u001b[0m \u001b[0mHTTPError\u001b[0m\u001b[0;34m(\u001b[0m\u001b[0mhttp_error_msg\u001b[0m\u001b[0;34m,\u001b[0m \u001b[0mresponse\u001b[0m\u001b[0;34m=\u001b[0m\u001b[0mself\u001b[0m\u001b[0;34m)\u001b[0m\u001b[0;34m\u001b[0m\u001b[0;34m\u001b[0m\u001b[0m\n\u001b[0m\u001b[1;32m    910\u001b[0m \u001b[0;34m\u001b[0m\u001b[0m\n\u001b[1;32m    911\u001b[0m     \u001b[0;32mdef\u001b[0m \u001b[0mclose\u001b[0m\u001b[0;34m(\u001b[0m\u001b[0mself\u001b[0m\u001b[0;34m)\u001b[0m\u001b[0;34m:\u001b[0m\u001b[0;34m\u001b[0m\u001b[0;34m\u001b[0m\u001b[0m\n",
      "\u001b[0;31mHTTPError\u001b[0m: 404 Client Error: Not Found for url: http://rest.ensembl.org/homology/id/human/ENSG00000186092?format=condensed;target_species=mouse;type=orthologues"
     ]
    }
   ],
   "source": [
    "import requests, sys\n",
    " \n",
    "server = \"http://rest.ensembl.org\"\n",
    "ext = \"/homology/id/human/ENSG00000186092?format=condensed;target_species=mouse;type=orthologues\"\n",
    " \n",
    "r = requests.get(server+ext, headers={ \"Content-Type\" : \"application/json\"})\n",
    " \n",
    "if not r.ok:\n",
    "  r.raise_for_status()\n",
    "  sys.exit()\n",
    " \n",
    "decoded = r.json()\n",
    "print(repr(decoded))\n",
    " "
   ]
  },
  {
   "cell_type": "code",
   "execution_count": 19,
   "metadata": {},
   "outputs": [],
   "source": [
    "gene_id_with_orthology = 'ENSG00000198888'"
   ]
  },
  {
   "cell_type": "code",
   "execution_count": 20,
   "metadata": {},
   "outputs": [
    {
     "data": {
      "text/plain": [
       "{'biotype': 'protein_coding',\n",
       " 'strand': 1,\n",
       " 'display_name': 'MT-ND1',\n",
       " 'version': 2,\n",
       " 'species': 'homo_sapiens',\n",
       " 'end': 4262,\n",
       " 'object_type': 'Gene',\n",
       " 'start': 3307,\n",
       " 'source': 'insdc',\n",
       " 'description': 'mitochondrially encoded NADH:ubiquinone oxidoreductase core subunit 1 [Source:HGNC Symbol;Acc:HGNC:7455]',\n",
       " 'id': 'ENSG00000198888',\n",
       " 'seq_region_name': 'MT',\n",
       " 'db_type': 'core',\n",
       " 'logic_name': 'mt_genbank_import',\n",
       " 'assembly_name': 'GRCh38'}"
      ]
     },
     "execution_count": 20,
     "metadata": {},
     "output_type": "execute_result"
    }
   ],
   "source": [
    "ensembl_rest.lookup(gene_id_with_orthology)"
   ]
  },
  {
   "cell_type": "code",
   "execution_count": 25,
   "metadata": {},
   "outputs": [
    {
     "ename": "HTTPError",
     "evalue": "Server returned HTTP status code: 404\nContent: {'error': 'page not found. Please check your uri and refer to our documentation https://rest.ensembl.org/'}",
     "output_type": "error",
     "traceback": [
      "\u001b[0;31m---------------------------------------------------------------------------\u001b[0m",
      "\u001b[0;31mHTTPError\u001b[0m                                 Traceback (most recent call last)",
      "\u001b[0;32m<ipython-input-25-9c83cf7d8049>\u001b[0m in \u001b[0;36m<module>\u001b[0;34m()\u001b[0m\n\u001b[0;32m----> 1\u001b[0;31m \u001b[0mensembl_rest\u001b[0m\u001b[0;34m.\u001b[0m\u001b[0moverlap_region\u001b[0m\u001b[0;34m(\u001b[0m\u001b[0mgene_id_with_orthology\u001b[0m\u001b[0;34m)\u001b[0m\u001b[0;34m\u001b[0m\u001b[0;34m\u001b[0m\u001b[0m\n\u001b[0m",
      "\u001b[0;32m~/miniconda3/envs/kmer-hashing/lib/python3.6/site-packages/ensembl_rest/__init__.py\u001b[0m in \u001b[0;36moverlap_region\u001b[0;34m(*args, **kwargs)\u001b[0m\n",
      "\u001b[0;32m~/miniconda3/envs/kmer-hashing/lib/python3.6/site-packages/ensembl_rest/core/baseclient.py\u001b[0m in \u001b[0;36mmethod\u001b[0;34m(self, *args, **kwargs)\u001b[0m\n\u001b[1;32m    140\u001b[0m \u001b[0;34m\u001b[0m\u001b[0m\n\u001b[1;32m    141\u001b[0m     \u001b[0;32mdef\u001b[0m \u001b[0mmethod\u001b[0m\u001b[0;34m(\u001b[0m\u001b[0mself\u001b[0m\u001b[0;34m,\u001b[0m \u001b[0;34m*\u001b[0m\u001b[0margs\u001b[0m\u001b[0;34m,\u001b[0m \u001b[0;34m**\u001b[0m\u001b[0mkwargs\u001b[0m\u001b[0;34m)\u001b[0m\u001b[0;34m:\u001b[0m\u001b[0;34m\u001b[0m\u001b[0;34m\u001b[0m\u001b[0m\n\u001b[0;32m--> 142\u001b[0;31m         \u001b[0;32mreturn\u001b[0m \u001b[0mself\u001b[0m\u001b[0;34m.\u001b[0m\u001b[0mmake_request\u001b[0m\u001b[0;34m(\u001b[0m\u001b[0mendpoint\u001b[0m\u001b[0;34m[\u001b[0m\u001b[0;34m'resource_string'\u001b[0m\u001b[0;34m]\u001b[0m\u001b[0;34m,\u001b[0m \u001b[0;34m*\u001b[0m\u001b[0margs\u001b[0m\u001b[0;34m,\u001b[0m \u001b[0;34m**\u001b[0m\u001b[0mkwargs\u001b[0m\u001b[0;34m)\u001b[0m\u001b[0;34m\u001b[0m\u001b[0;34m\u001b[0m\u001b[0m\n\u001b[0m\u001b[1;32m    143\u001b[0m     \u001b[0;31m# ---\u001b[0m\u001b[0;34m\u001b[0m\u001b[0;34m\u001b[0m\u001b[0;34m\u001b[0m\u001b[0m\n\u001b[1;32m    144\u001b[0m \u001b[0;34m\u001b[0m\u001b[0m\n",
      "\u001b[0;32m~/miniconda3/envs/kmer-hashing/lib/python3.6/site-packages/ensembl_rest/core/baseclient.py\u001b[0m in \u001b[0;36mmake_request\u001b[0;34m(self, resource, params, headers, *args, **kwargs)\u001b[0m\n\u001b[1;32m     33\u001b[0m         \u001b[0;32mwhile\u001b[0m \u001b[0;32mTrue\u001b[0m\u001b[0;34m:\u001b[0m\u001b[0;34m\u001b[0m\u001b[0;34m\u001b[0m\u001b[0m\n\u001b[1;32m     34\u001b[0m             \u001b[0;32mtry\u001b[0m\u001b[0;34m:\u001b[0m\u001b[0;34m\u001b[0m\u001b[0;34m\u001b[0m\u001b[0m\n\u001b[0;32m---> 35\u001b[0;31m                 \u001b[0;32mreturn\u001b[0m \u001b[0mendpoint\u001b[0m\u001b[0;34m.\u001b[0m\u001b[0mdo\u001b[0m\u001b[0;34m(\u001b[0m\u001b[0mrequest_type\u001b[0m\u001b[0;34m,\u001b[0m \u001b[0mparams\u001b[0m\u001b[0;34m,\u001b[0m \u001b[0mheaders\u001b[0m\u001b[0;34m=\u001b[0m\u001b[0mheaders\u001b[0m\u001b[0;34m)\u001b[0m\u001b[0;34m\u001b[0m\u001b[0;34m\u001b[0m\u001b[0m\n\u001b[0m\u001b[1;32m     36\u001b[0m \u001b[0;34m\u001b[0m\u001b[0m\n\u001b[1;32m     37\u001b[0m             \u001b[0;31m# Handle rate limit\u001b[0m\u001b[0;34m\u001b[0m\u001b[0;34m\u001b[0m\u001b[0;34m\u001b[0m\u001b[0m\n",
      "\u001b[0;32m~/miniconda3/envs/kmer-hashing/lib/python3.6/site-packages/ensembl_rest/core/restclient.py\u001b[0m in \u001b[0;36mdo\u001b[0;34m(self, method, params, **kwargs)\u001b[0m\n\u001b[1;32m    111\u001b[0m         \u001b[0mcontent\u001b[0m \u001b[0;34m=\u001b[0m \u001b[0mresponse\u001b[0m\u001b[0;34m.\u001b[0m\u001b[0mcontent\u001b[0m\u001b[0;34m.\u001b[0m\u001b[0mdecode\u001b[0m\u001b[0;34m(\u001b[0m\u001b[0;34m'UTF-8'\u001b[0m\u001b[0;34m)\u001b[0m\u001b[0;34m\u001b[0m\u001b[0;34m\u001b[0m\u001b[0m\n\u001b[1;32m    112\u001b[0m         \u001b[0;32mif\u001b[0m \u001b[0mresponse\u001b[0m\u001b[0;34m.\u001b[0m\u001b[0mstatus_code\u001b[0m \u001b[0;32mnot\u001b[0m \u001b[0;32min\u001b[0m \u001b[0mrange\u001b[0m\u001b[0;34m(\u001b[0m\u001b[0;36m200\u001b[0m\u001b[0;34m,\u001b[0m\u001b[0;36m300\u001b[0m\u001b[0;34m)\u001b[0m\u001b[0;34m:\u001b[0m\u001b[0;34m\u001b[0m\u001b[0;34m\u001b[0m\u001b[0m\n\u001b[0;32m--> 113\u001b[0;31m             \u001b[0;32mraise\u001b[0m \u001b[0mHTTPError\u001b[0m\u001b[0;34m(\u001b[0m\u001b[0mresponse\u001b[0m\u001b[0;34m)\u001b[0m\u001b[0;34m\u001b[0m\u001b[0;34m\u001b[0m\u001b[0m\n\u001b[0m\u001b[1;32m    114\u001b[0m \u001b[0;34m\u001b[0m\u001b[0m\n\u001b[1;32m    115\u001b[0m         \u001b[0;32mtry\u001b[0m\u001b[0;34m:\u001b[0m\u001b[0;34m\u001b[0m\u001b[0;34m\u001b[0m\u001b[0m\n",
      "\u001b[0;31mHTTPError\u001b[0m: Server returned HTTP status code: 404\nContent: {'error': 'page not found. Please check your uri and refer to our documentation https://rest.ensembl.org/'}"
     ]
    }
   ],
   "source": [
    "ensembl_rest.overlap_region(gene_id_with_orthology)"
   ]
  },
  {
   "cell_type": "code",
   "execution_count": 21,
   "metadata": {},
   "outputs": [
    {
     "data": {
      "text/plain": [
       "[{'info_text': '',\n",
       "  'version': '0',\n",
       "  'display_id': 'ENSG00000198888',\n",
       "  'description': None,\n",
       "  'synonyms': [],\n",
       "  'primary_id': 'ENSG00000198888',\n",
       "  'info_type': 'DIRECT',\n",
       "  'db_display_name': 'Expression Atlas',\n",
       "  'dbname': 'ArrayExpress'},\n",
       " {'dbname': 'EntrezGene',\n",
       "  'db_display_name': 'NCBI gene',\n",
       "  'synonyms': [],\n",
       "  'primary_id': '4535',\n",
       "  'info_type': 'DEPENDENT',\n",
       "  'description': 'NADH dehydrogenase, subunit 1 (complex I)',\n",
       "  'info_text': '',\n",
       "  'display_id': 'ND1',\n",
       "  'version': '0'},\n",
       " {'display_id': 'MT-ND1',\n",
       "  'version': '0',\n",
       "  'info_text': 'Generated via ensembl_manual',\n",
       "  'description': 'mitochondrially encoded NADH:ubiquinone oxidoreductase core subunit 1',\n",
       "  'info_type': 'DIRECT',\n",
       "  'synonyms': ['MTND1', 'NAD1', 'ND1'],\n",
       "  'primary_id': 'HGNC:7455',\n",
       "  'dbname': 'HGNC',\n",
       "  'db_display_name': 'HGNC Symbol'},\n",
       " {'dbname': 'MIM_GENE',\n",
       "  'db_display_name': 'MIM gene',\n",
       "  'synonyms': [],\n",
       "  'primary_id': '516000',\n",
       "  'info_type': 'DEPENDENT',\n",
       "  'description': 'COMPLEX I, SUBUNIT ND1; MTND1;;NADH-UBIQUINONE OXIDOREDUCTASE, SUBUNIT ND1;;NADH DEHYDROGENASE, SUBUNIT 1MITOCHONDRIAL COMPLEX I DEFICIENCY, MITOCHONDRIAL TYPE 3, INCLUDED;MC1DM3, INCLUDED',\n",
       "  'info_text': '',\n",
       "  'display_id': 'COMPLEX I, SUBUNIT ND1; MTND1 [*516000]',\n",
       "  'version': '0'},\n",
       " {'dbname': 'MIM_MORBID',\n",
       "  'db_display_name': 'MIM morbid',\n",
       "  'synonyms': [],\n",
       "  'primary_id': '535000',\n",
       "  'info_type': 'DEPENDENT',\n",
       "  'description': 'LEBER OPTIC ATROPHY;;LEBER HEREDITARY OPTIC NEUROPATHY; LHON',\n",
       "  'info_text': '',\n",
       "  'display_id': 'LEBER OPTIC ATROPHY [#535000]',\n",
       "  'version': '0'},\n",
       " {'info_type': 'DEPENDENT',\n",
       "  'primary_id': '540000',\n",
       "  'synonyms': [],\n",
       "  'dbname': 'MIM_MORBID',\n",
       "  'db_display_name': 'MIM morbid',\n",
       "  'display_id': 'MITOCHONDRIAL MYOPATHY, ENCEPHALOPATHY, LACTIC ACIDOSIS, AND STROKE-LIKEEPISODES; MELAS [#540000]',\n",
       "  'version': '0',\n",
       "  'info_text': '',\n",
       "  'description': 'MITOCHONDRIAL MYOPATHY, ENCEPHALOPATHY, LACTIC ACIDOSIS, AND STROKE-LIKEEPISODES; MELAS;;MELAS SYNDROME'},\n",
       " {'description': 'Metabolism',\n",
       "  'info_text': 'Generated via gene',\n",
       "  'display_id': 'R-HSA-1430728',\n",
       "  'version': '0',\n",
       "  'dbname': 'Reactome_gene',\n",
       "  'db_display_name': 'Reactome gene',\n",
       "  'synonyms': [],\n",
       "  'primary_id': 'R-HSA-1430728',\n",
       "  'info_type': 'DIRECT'},\n",
       " {'info_text': 'Generated via gene',\n",
       "  'version': '0',\n",
       "  'display_id': 'R-HSA-1428517',\n",
       "  'description': 'The citric acid (TCA) cycle and respiratory electron transport',\n",
       "  'synonyms': [],\n",
       "  'primary_id': 'R-HSA-1428517',\n",
       "  'info_type': 'DIRECT',\n",
       "  'db_display_name': 'Reactome gene',\n",
       "  'dbname': 'Reactome_gene'},\n",
       " {'primary_id': 'R-HSA-163200',\n",
       "  'synonyms': [],\n",
       "  'info_type': 'DIRECT',\n",
       "  'dbname': 'Reactome_gene',\n",
       "  'db_display_name': 'Reactome gene',\n",
       "  'info_text': 'Generated via gene',\n",
       "  'display_id': 'R-HSA-163200',\n",
       "  'version': '0',\n",
       "  'description': 'Respiratory electron transport, ATP synthesis by chemiosmotic coupling, and heat production by uncoupling proteins.'},\n",
       " {'info_text': 'Generated via gene',\n",
       "  'version': '0',\n",
       "  'display_id': 'R-HSA-611105',\n",
       "  'description': 'Respiratory electron transport',\n",
       "  'synonyms': [],\n",
       "  'primary_id': 'R-HSA-611105',\n",
       "  'info_type': 'DIRECT',\n",
       "  'db_display_name': 'Reactome gene',\n",
       "  'dbname': 'Reactome_gene'},\n",
       " {'synonyms': [],\n",
       "  'primary_id': 'R-HSA-6799198',\n",
       "  'info_type': 'DIRECT',\n",
       "  'db_display_name': 'Reactome gene',\n",
       "  'dbname': 'Reactome_gene',\n",
       "  'info_text': 'Generated via gene',\n",
       "  'version': '0',\n",
       "  'display_id': 'R-HSA-6799198',\n",
       "  'description': 'Complex I biogenesis'},\n",
       " {'dbname': 'Uniprot_gn',\n",
       "  'db_display_name': 'UniProtKB Gene Name',\n",
       "  'synonyms': [],\n",
       "  'primary_id': 'P03886',\n",
       "  'info_type': 'DEPENDENT',\n",
       "  'description': '',\n",
       "  'info_text': '',\n",
       "  'display_id': 'MT-ND1',\n",
       "  'version': '0'},\n",
       " {'info_text': '',\n",
       "  'version': '0',\n",
       "  'display_id': 'ND1',\n",
       "  'description': '',\n",
       "  'synonyms': [],\n",
       "  'primary_id': 'U5Z754',\n",
       "  'info_type': 'DEPENDENT',\n",
       "  'db_display_name': 'UniProtKB Gene Name',\n",
       "  'dbname': 'Uniprot_gn'},\n",
       " {'synonyms': [],\n",
       "  'primary_id': '4535',\n",
       "  'info_type': 'DEPENDENT',\n",
       "  'dbname': 'WikiGene',\n",
       "  'db_display_name': 'WikiGene',\n",
       "  'info_text': '',\n",
       "  'display_id': 'ND1',\n",
       "  'version': '0',\n",
       "  'description': 'NADH dehydrogenase, subunit 1 (complex I)'}]"
      ]
     },
     "execution_count": 21,
     "metadata": {},
     "output_type": "execute_result"
    }
   ],
   "source": [
    "ensembl_rest.xref_id(gene_id_with_orthology, all_levels=True)"
   ]
  },
  {
   "cell_type": "code",
   "execution_count": 15,
   "metadata": {},
   "outputs": [
    {
     "data": {
      "text/plain": [
       "{'data': []}"
      ]
     },
     "execution_count": 15,
     "metadata": {},
     "output_type": "execute_result"
    }
   ],
   "source": [
    "ensembl_rest.homology_ensemblgene(key)"
   ]
  },
  {
   "cell_type": "code",
   "execution_count": null,
   "metadata": {},
   "outputs": [],
   "source": []
  },
  {
   "cell_type": "code",
   "execution_count": 12,
   "metadata": {},
   "outputs": [
    {
     "data": {
      "text/plain": [
       "{'data': []}"
      ]
     },
     "execution_count": 12,
     "metadata": {},
     "output_type": "execute_result"
    }
   ],
   "source": []
  },
  {
   "cell_type": "code",
   "execution_count": 25,
   "metadata": {},
   "outputs": [
    {
     "name": "stdout",
     "output_type": "stream",
     "text": [
      "(249084, 15)\n"
     ]
    },
    {
     "data": {
      "text/html": [
       "<div>\n",
       "<style scoped>\n",
       "    .dataframe tbody tr th:only-of-type {\n",
       "        vertical-align: middle;\n",
       "    }\n",
       "\n",
       "    .dataframe tbody tr th {\n",
       "        vertical-align: top;\n",
       "    }\n",
       "\n",
       "    .dataframe thead th {\n",
       "        text-align: right;\n",
       "    }\n",
       "</style>\n",
       "<table border=\"1\" class=\"dataframe\">\n",
       "  <thead>\n",
       "    <tr style=\"text-align: right;\">\n",
       "      <th></th>\n",
       "      <th>Gene stable ID</th>\n",
       "      <th>Transcript stable ID</th>\n",
       "      <th>Mouse gene stable ID</th>\n",
       "      <th>Mouse gene name</th>\n",
       "      <th>Mouse protein or transcript stable ID</th>\n",
       "      <th>Mouse homology type</th>\n",
       "      <th>%id. target Mouse gene identical to query gene</th>\n",
       "      <th>%id. query gene identical to target Mouse gene</th>\n",
       "      <th>Mouse Gene-order conservation score</th>\n",
       "      <th>Mouse Whole-genome alignment coverage</th>\n",
       "      <th>dS with Mouse</th>\n",
       "      <th>dN with Mouse</th>\n",
       "      <th>Mouse orthology confidence [0 low, 1 high]</th>\n",
       "      <th>Last common ancestor with Mouse</th>\n",
       "      <th>Query protein or transcript ID</th>\n",
       "    </tr>\n",
       "  </thead>\n",
       "  <tbody>\n",
       "    <tr>\n",
       "      <th>0</th>\n",
       "      <td>ENSG00000210049</td>\n",
       "      <td>ENST00000387314</td>\n",
       "      <td>NaN</td>\n",
       "      <td>NaN</td>\n",
       "      <td>NaN</td>\n",
       "      <td>NaN</td>\n",
       "      <td>NaN</td>\n",
       "      <td>NaN</td>\n",
       "      <td>NaN</td>\n",
       "      <td>NaN</td>\n",
       "      <td>NaN</td>\n",
       "      <td>NaN</td>\n",
       "      <td>NaN</td>\n",
       "      <td>NaN</td>\n",
       "      <td>NaN</td>\n",
       "    </tr>\n",
       "    <tr>\n",
       "      <th>1</th>\n",
       "      <td>ENSG00000211459</td>\n",
       "      <td>ENST00000389680</td>\n",
       "      <td>NaN</td>\n",
       "      <td>NaN</td>\n",
       "      <td>NaN</td>\n",
       "      <td>NaN</td>\n",
       "      <td>NaN</td>\n",
       "      <td>NaN</td>\n",
       "      <td>NaN</td>\n",
       "      <td>NaN</td>\n",
       "      <td>NaN</td>\n",
       "      <td>NaN</td>\n",
       "      <td>NaN</td>\n",
       "      <td>NaN</td>\n",
       "      <td>NaN</td>\n",
       "    </tr>\n",
       "    <tr>\n",
       "      <th>2</th>\n",
       "      <td>ENSG00000210077</td>\n",
       "      <td>ENST00000387342</td>\n",
       "      <td>NaN</td>\n",
       "      <td>NaN</td>\n",
       "      <td>NaN</td>\n",
       "      <td>NaN</td>\n",
       "      <td>NaN</td>\n",
       "      <td>NaN</td>\n",
       "      <td>NaN</td>\n",
       "      <td>NaN</td>\n",
       "      <td>NaN</td>\n",
       "      <td>NaN</td>\n",
       "      <td>NaN</td>\n",
       "      <td>NaN</td>\n",
       "      <td>NaN</td>\n",
       "    </tr>\n",
       "    <tr>\n",
       "      <th>3</th>\n",
       "      <td>ENSG00000210082</td>\n",
       "      <td>ENST00000387347</td>\n",
       "      <td>NaN</td>\n",
       "      <td>NaN</td>\n",
       "      <td>NaN</td>\n",
       "      <td>NaN</td>\n",
       "      <td>NaN</td>\n",
       "      <td>NaN</td>\n",
       "      <td>NaN</td>\n",
       "      <td>NaN</td>\n",
       "      <td>NaN</td>\n",
       "      <td>NaN</td>\n",
       "      <td>NaN</td>\n",
       "      <td>NaN</td>\n",
       "      <td>NaN</td>\n",
       "    </tr>\n",
       "    <tr>\n",
       "      <th>4</th>\n",
       "      <td>ENSG00000209082</td>\n",
       "      <td>ENST00000386347</td>\n",
       "      <td>NaN</td>\n",
       "      <td>NaN</td>\n",
       "      <td>NaN</td>\n",
       "      <td>NaN</td>\n",
       "      <td>NaN</td>\n",
       "      <td>NaN</td>\n",
       "      <td>NaN</td>\n",
       "      <td>NaN</td>\n",
       "      <td>NaN</td>\n",
       "      <td>NaN</td>\n",
       "      <td>NaN</td>\n",
       "      <td>NaN</td>\n",
       "      <td>NaN</td>\n",
       "    </tr>\n",
       "  </tbody>\n",
       "</table>\n",
       "</div>"
      ],
      "text/plain": [
       "    Gene stable ID Transcript stable ID Mouse gene stable ID Mouse gene name  \\\n",
       "0  ENSG00000210049      ENST00000387314                  NaN             NaN   \n",
       "1  ENSG00000211459      ENST00000389680                  NaN             NaN   \n",
       "2  ENSG00000210077      ENST00000387342                  NaN             NaN   \n",
       "3  ENSG00000210082      ENST00000387347                  NaN             NaN   \n",
       "4  ENSG00000209082      ENST00000386347                  NaN             NaN   \n",
       "\n",
       "  Mouse protein or transcript stable ID Mouse homology type  \\\n",
       "0                                   NaN                 NaN   \n",
       "1                                   NaN                 NaN   \n",
       "2                                   NaN                 NaN   \n",
       "3                                   NaN                 NaN   \n",
       "4                                   NaN                 NaN   \n",
       "\n",
       "   %id. target Mouse gene identical to query gene  \\\n",
       "0                                             NaN   \n",
       "1                                             NaN   \n",
       "2                                             NaN   \n",
       "3                                             NaN   \n",
       "4                                             NaN   \n",
       "\n",
       "   %id. query gene identical to target Mouse gene  \\\n",
       "0                                             NaN   \n",
       "1                                             NaN   \n",
       "2                                             NaN   \n",
       "3                                             NaN   \n",
       "4                                             NaN   \n",
       "\n",
       "   Mouse Gene-order conservation score  Mouse Whole-genome alignment coverage  \\\n",
       "0                                  NaN                                    NaN   \n",
       "1                                  NaN                                    NaN   \n",
       "2                                  NaN                                    NaN   \n",
       "3                                  NaN                                    NaN   \n",
       "4                                  NaN                                    NaN   \n",
       "\n",
       "   dS with Mouse  dN with Mouse  Mouse orthology confidence [0 low, 1 high]  \\\n",
       "0            NaN            NaN                                         NaN   \n",
       "1            NaN            NaN                                         NaN   \n",
       "2            NaN            NaN                                         NaN   \n",
       "3            NaN            NaN                                         NaN   \n",
       "4            NaN            NaN                                         NaN   \n",
       "\n",
       "  Last common ancestor with Mouse Query protein or transcript ID  \n",
       "0                             NaN                            NaN  \n",
       "1                             NaN                            NaN  \n",
       "2                             NaN                            NaN  \n",
       "3                             NaN                            NaN  \n",
       "4                             NaN                            NaN  "
      ]
     },
     "execution_count": 25,
     "metadata": {},
     "output_type": "execute_result"
    }
   ],
   "source": [
    "orthologues = pd.read_csv(\"s3://kmer-hashing/hg38_mm38_protein_coding/hg38_mm38_ensembl_compara_orthologues.txt\", sep='\\t')\n",
    "print(orthologues.shape)\n",
    "orthologues.head()"
   ]
  },
  {
   "cell_type": "code",
   "execution_count": null,
   "metadata": {},
   "outputs": [],
   "source": []
  }
 ],
 "metadata": {
  "kernelspec": {
   "display_name": "Python [conda env:kmer-hashing]",
   "language": "python",
   "name": "conda-env-kmer-hashing-py"
  },
  "language_info": {
   "codemirror_mode": {
    "name": "ipython",
    "version": 3
   },
   "file_extension": ".py",
   "mimetype": "text/x-python",
   "name": "python",
   "nbconvert_exporter": "python",
   "pygments_lexer": "ipython3",
   "version": "3.6.8"
  }
 },
 "nbformat": 4,
 "nbformat_minor": 4
}
