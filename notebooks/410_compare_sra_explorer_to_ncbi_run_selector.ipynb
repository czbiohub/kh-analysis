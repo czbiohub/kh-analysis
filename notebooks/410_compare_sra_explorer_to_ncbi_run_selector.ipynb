{
 "cells": [
  {
   "cell_type": "code",
   "execution_count": 1,
   "metadata": {
    "execution_event_id": "1b80fe96-f371-440b-ada8-bc07db520baa",
    "last_executed_text": "import pandas as pd",
    "persistent_id": "abdd9461-30dc-4fb6-b622-790c27605ade"
   },
   "outputs": [],
   "source": [
    "import pandas as pd"
   ]
  },
  {
   "cell_type": "markdown",
   "metadata": {},
   "source": [
    "Read in a csv that was originally made with the SRA explorer output and then cleaned:"
   ]
  },
  {
   "cell_type": "code",
   "execution_count": 22,
   "metadata": {
    "execution_event_id": "9b593715-6dd3-48a0-85b2-85592fd06d5b",
    "last_executed_text": "sra_explorer_metadata = pd.read_csv('/home/olga/ibm_lg/kmer-hashing/brawand2011/sample_metadata_handmade.csv', index_col=0)\nprint(sra_explorer_metadata.shape)\nsra_explorer_metadata.head()",
    "persistent_id": "6bc79692-ba0f-4163-a248-58a297ad72a2"
   },
   "outputs": [
    {
     "name": "stdout",
     "output_type": "stream",
     "text": [
      "(117, 11)\n"
     ]
    },
    {
     "data": {
      "text/html": [
       "<div>\n",
       "<style scoped>\n",
       "    .dataframe tbody tr th:only-of-type {\n",
       "        vertical-align: middle;\n",
       "    }\n",
       "\n",
       "    .dataframe tbody tr th {\n",
       "        vertical-align: top;\n",
       "    }\n",
       "\n",
       "    .dataframe thead th {\n",
       "        text-align: right;\n",
       "    }\n",
       "</style>\n",
       "<table border=\"1\" class=\"dataframe\">\n",
       "  <thead>\n",
       "    <tr style=\"text-align: right;\">\n",
       "      <th></th>\n",
       "      <th>filename</th>\n",
       "      <th>basename</th>\n",
       "      <th>sra_id</th>\n",
       "      <th>geo_id</th>\n",
       "      <th>animal_abbrev</th>\n",
       "      <th>tissue_abbrev</th>\n",
       "      <th>sex</th>\n",
       "      <th>replicate</th>\n",
       "      <th>read_number</th>\n",
       "      <th>animal</th>\n",
       "      <th>tissue</th>\n",
       "    </tr>\n",
       "    <tr>\n",
       "      <th>sample_id</th>\n",
       "      <th></th>\n",
       "      <th></th>\n",
       "      <th></th>\n",
       "      <th></th>\n",
       "      <th></th>\n",
       "      <th></th>\n",
       "      <th></th>\n",
       "      <th></th>\n",
       "      <th></th>\n",
       "      <th></th>\n",
       "      <th></th>\n",
       "    </tr>\n",
       "  </thead>\n",
       "  <tbody>\n",
       "    <tr>\n",
       "      <td>SRR306786_GSM752640_mml_lv_F_1</td>\n",
       "      <td>/mnt/ibm_lg/olga/sra-explorer/brawand2011/SRR3...</td>\n",
       "      <td>SRR306786_GSM752640_mml_lv_F_1.fastq.gz</td>\n",
       "      <td>SRR306786</td>\n",
       "      <td>GSM752640</td>\n",
       "      <td>mml</td>\n",
       "      <td>lv</td>\n",
       "      <td>F</td>\n",
       "      <td>1</td>\n",
       "      <td>1</td>\n",
       "      <td>Mouse</td>\n",
       "      <td>Liver</td>\n",
       "    </tr>\n",
       "    <tr>\n",
       "      <td>SRR306823_GSM752676_ptr_lv_F_1</td>\n",
       "      <td>/mnt/ibm_lg/olga/sra-explorer/brawand2011/SRR3...</td>\n",
       "      <td>SRR306823_GSM752676_ptr_lv_F_1.fastq.gz</td>\n",
       "      <td>SRR306823</td>\n",
       "      <td>GSM752676</td>\n",
       "      <td>ptr</td>\n",
       "      <td>lv</td>\n",
       "      <td>F</td>\n",
       "      <td>1</td>\n",
       "      <td>1</td>\n",
       "      <td>Chimpanzee</td>\n",
       "      <td>Liver</td>\n",
       "    </tr>\n",
       "    <tr>\n",
       "      <td>SRR306758_GSM752615_mmu_br_M_1</td>\n",
       "      <td>/mnt/ibm_lg/olga/sra-explorer/brawand2011/SRR3...</td>\n",
       "      <td>SRR306758_GSM752615_mmu_br_M_1.fastq.gz</td>\n",
       "      <td>SRR306758</td>\n",
       "      <td>GSM752615</td>\n",
       "      <td>mmu</td>\n",
       "      <td>br</td>\n",
       "      <td>M</td>\n",
       "      <td>1</td>\n",
       "      <td>1</td>\n",
       "      <td>NaN</td>\n",
       "      <td>Brain</td>\n",
       "    </tr>\n",
       "    <tr>\n",
       "      <td>SRR306845_GSM752698_hsa_cb_M_1</td>\n",
       "      <td>/mnt/ibm_lg/olga/sra-explorer/brawand2011/SRR3...</td>\n",
       "      <td>SRR306845_GSM752698_hsa_cb_M_1.fastq.gz</td>\n",
       "      <td>SRR306845</td>\n",
       "      <td>GSM752698</td>\n",
       "      <td>hsa</td>\n",
       "      <td>cb</td>\n",
       "      <td>M</td>\n",
       "      <td>1</td>\n",
       "      <td>1</td>\n",
       "      <td>Human</td>\n",
       "      <td>Cerebellum</td>\n",
       "    </tr>\n",
       "    <tr>\n",
       "      <td>SRR306827_GSM752680_ppa_br_F_2</td>\n",
       "      <td>/mnt/ibm_lg/olga/sra-explorer/brawand2011/SRR3...</td>\n",
       "      <td>SRR306827_GSM752680_ppa_br_F_2.fastq.gz</td>\n",
       "      <td>SRR306827</td>\n",
       "      <td>GSM752680</td>\n",
       "      <td>ppa</td>\n",
       "      <td>br</td>\n",
       "      <td>F</td>\n",
       "      <td>2</td>\n",
       "      <td>1</td>\n",
       "      <td>Bonobo</td>\n",
       "      <td>Brain</td>\n",
       "    </tr>\n",
       "  </tbody>\n",
       "</table>\n",
       "</div>"
      ],
      "text/plain": [
       "                                                                         filename  \\\n",
       "sample_id                                                                           \n",
       "SRR306786_GSM752640_mml_lv_F_1  /mnt/ibm_lg/olga/sra-explorer/brawand2011/SRR3...   \n",
       "SRR306823_GSM752676_ptr_lv_F_1  /mnt/ibm_lg/olga/sra-explorer/brawand2011/SRR3...   \n",
       "SRR306758_GSM752615_mmu_br_M_1  /mnt/ibm_lg/olga/sra-explorer/brawand2011/SRR3...   \n",
       "SRR306845_GSM752698_hsa_cb_M_1  /mnt/ibm_lg/olga/sra-explorer/brawand2011/SRR3...   \n",
       "SRR306827_GSM752680_ppa_br_F_2  /mnt/ibm_lg/olga/sra-explorer/brawand2011/SRR3...   \n",
       "\n",
       "                                                               basename  \\\n",
       "sample_id                                                                 \n",
       "SRR306786_GSM752640_mml_lv_F_1  SRR306786_GSM752640_mml_lv_F_1.fastq.gz   \n",
       "SRR306823_GSM752676_ptr_lv_F_1  SRR306823_GSM752676_ptr_lv_F_1.fastq.gz   \n",
       "SRR306758_GSM752615_mmu_br_M_1  SRR306758_GSM752615_mmu_br_M_1.fastq.gz   \n",
       "SRR306845_GSM752698_hsa_cb_M_1  SRR306845_GSM752698_hsa_cb_M_1.fastq.gz   \n",
       "SRR306827_GSM752680_ppa_br_F_2  SRR306827_GSM752680_ppa_br_F_2.fastq.gz   \n",
       "\n",
       "                                   sra_id     geo_id animal_abbrev  \\\n",
       "sample_id                                                            \n",
       "SRR306786_GSM752640_mml_lv_F_1  SRR306786  GSM752640           mml   \n",
       "SRR306823_GSM752676_ptr_lv_F_1  SRR306823  GSM752676           ptr   \n",
       "SRR306758_GSM752615_mmu_br_M_1  SRR306758  GSM752615           mmu   \n",
       "SRR306845_GSM752698_hsa_cb_M_1  SRR306845  GSM752698           hsa   \n",
       "SRR306827_GSM752680_ppa_br_F_2  SRR306827  GSM752680           ppa   \n",
       "\n",
       "                               tissue_abbrev sex  replicate  read_number  \\\n",
       "sample_id                                                                  \n",
       "SRR306786_GSM752640_mml_lv_F_1            lv   F          1            1   \n",
       "SRR306823_GSM752676_ptr_lv_F_1            lv   F          1            1   \n",
       "SRR306758_GSM752615_mmu_br_M_1            br   M          1            1   \n",
       "SRR306845_GSM752698_hsa_cb_M_1            cb   M          1            1   \n",
       "SRR306827_GSM752680_ppa_br_F_2            br   F          2            1   \n",
       "\n",
       "                                    animal      tissue  \n",
       "sample_id                                               \n",
       "SRR306786_GSM752640_mml_lv_F_1       Mouse       Liver  \n",
       "SRR306823_GSM752676_ptr_lv_F_1  Chimpanzee       Liver  \n",
       "SRR306758_GSM752615_mmu_br_M_1         NaN       Brain  \n",
       "SRR306845_GSM752698_hsa_cb_M_1       Human  Cerebellum  \n",
       "SRR306827_GSM752680_ppa_br_F_2      Bonobo       Brain  "
      ]
     },
     "execution_count": 22,
     "metadata": {},
     "output_type": "execute_result"
    }
   ],
   "source": [
    "sra_explorer_metadata = pd.read_csv('/home/olga/ibm_lg/kmer-hashing/brawand2011/sample_metadata_handmade.csv', index_col=0)\n",
    "print(sra_explorer_metadata.shape)\n",
    "sra_explorer_metadata.head()"
   ]
  },
  {
   "cell_type": "code",
   "execution_count": 24,
   "metadata": {
    "execution_event_id": "b504c24b-4f8e-4942-8b11-6aada85ff0c3",
    "last_executed_text": "sra_explorer_metadata.columns.values",
    "persistent_id": "0a241519-7c9f-4b34-a011-47c4d8331e99"
   },
   "outputs": [
    {
     "data": {
      "text/plain": [
       "array(['filename', 'basename', 'sra_id', 'geo_id', 'animal_abbrev',\n",
       "       'tissue_abbrev', 'sex', 'replicate', 'read_number', 'animal',\n",
       "       'tissue'], dtype=object)"
      ]
     },
     "execution_count": 24,
     "metadata": {},
     "output_type": "execute_result"
    }
   ],
   "source": [
    "sra_explorer_metadata.columns.values"
   ]
  },
  {
   "cell_type": "markdown",
   "metadata": {
    "persistent_id": "17fc81ed-6137-4cf7-9b78-64ea0a8bf6da"
   },
   "source": [
    "### Get unique samples"
   ]
  },
  {
   "cell_type": "code",
   "execution_count": 26,
   "metadata": {
    "execution_event_id": "6e1a2995-3f66-4133-91d6-f177dc56c86f",
    "last_executed_text": "sra_explorer_metadata.index.value_counts()",
    "persistent_id": "8b83e71e-3c95-48d4-8887-7f8c7a31e945"
   },
   "outputs": [
    {
     "data": {
      "text/plain": [
       "SRR306826_GSM752679_ppa_br_F_1    2\n",
       "SRR306801_GSM752654_ggo_br_M_1    2\n",
       "SRR306842_GSM752695_hsa_br_M_4    2\n",
       "SRR306792_GSM752645_ppy_br_M_1    2\n",
       "SRR306815_GSM752668_ptr_br_M_4    2\n",
       "                                 ..\n",
       "SRR306818_GSM752671_ptr_cb_M_1    1\n",
       "SRR306755_GSM752611_mdo_ts_M_1    1\n",
       "SRR306822_GSM752675_ptr_kd_M_1    1\n",
       "SRR306790_GSM752643_mml_ts_M_2    1\n",
       "SRR306854_GSM752705_hsa_lv_M_1    1\n",
       "Name: sample_id, Length: 106, dtype: int64"
      ]
     },
     "execution_count": 26,
     "metadata": {},
     "output_type": "execute_result"
    }
   ],
   "source": [
    "sra_explorer_metadata.index.value_counts()"
   ]
  },
  {
   "cell_type": "code",
   "execution_count": 10,
   "metadata": {
    "execution_event_id": "906c4e46-088f-4af1-b355-37a8699ec562",
    "last_executed_text": "ncbi_run_table_metadata = pd.read_csv(\"../metadata/brawand2011_metadata.csv\", index_col=0)\nprint(ncbi_run_table_metadata.shape)\nncbi_run_table_metadata.head()",
    "persistent_id": "c48df44d-4404-47f1-bda2-935d8c474f3c"
   },
   "outputs": [
    {
     "name": "stdout",
     "output_type": "stream",
     "text": [
      "(149, 35)\n"
     ]
    },
    {
     "data": {
      "text/html": [
       "<div>\n",
       "<style scoped>\n",
       "    .dataframe tbody tr th:only-of-type {\n",
       "        vertical-align: middle;\n",
       "    }\n",
       "\n",
       "    .dataframe tbody tr th {\n",
       "        vertical-align: top;\n",
       "    }\n",
       "\n",
       "    .dataframe thead th {\n",
       "        text-align: right;\n",
       "    }\n",
       "</style>\n",
       "<table border=\"1\" class=\"dataframe\">\n",
       "  <thead>\n",
       "    <tr style=\"text-align: right;\">\n",
       "      <th></th>\n",
       "      <th>Assay Type</th>\n",
       "      <th>AvgSpotLen</th>\n",
       "      <th>BioProject</th>\n",
       "      <th>BioSample</th>\n",
       "      <th>Center Name</th>\n",
       "      <th>Consent</th>\n",
       "      <th>DATASTORE filetype</th>\n",
       "      <th>DATASTORE provider</th>\n",
       "      <th>DATASTORE region</th>\n",
       "      <th>Experiment</th>\n",
       "      <th>...</th>\n",
       "      <th>tissue_source</th>\n",
       "      <th>gender</th>\n",
       "      <th>rin</th>\n",
       "      <th>Age</th>\n",
       "      <th>Extraction</th>\n",
       "      <th>sex</th>\n",
       "      <th>sanitized_name</th>\n",
       "      <th>sanitized_name_with_run</th>\n",
       "      <th>sex_cleaned</th>\n",
       "      <th>tissue</th>\n",
       "    </tr>\n",
       "    <tr>\n",
       "      <th>Run</th>\n",
       "      <th></th>\n",
       "      <th></th>\n",
       "      <th></th>\n",
       "      <th></th>\n",
       "      <th></th>\n",
       "      <th></th>\n",
       "      <th></th>\n",
       "      <th></th>\n",
       "      <th></th>\n",
       "      <th></th>\n",
       "      <th></th>\n",
       "      <th></th>\n",
       "      <th></th>\n",
       "      <th></th>\n",
       "      <th></th>\n",
       "      <th></th>\n",
       "      <th></th>\n",
       "      <th></th>\n",
       "      <th></th>\n",
       "      <th></th>\n",
       "      <th></th>\n",
       "    </tr>\n",
       "  </thead>\n",
       "  <tbody>\n",
       "    <tr>\n",
       "      <td>SRR306710</td>\n",
       "      <td>RNA-Seq</td>\n",
       "      <td>76</td>\n",
       "      <td>PRJNA143627</td>\n",
       "      <td>SAMN00632119</td>\n",
       "      <td>GEO</td>\n",
       "      <td>public</td>\n",
       "      <td>sra</td>\n",
       "      <td>gs,ncbi,s3</td>\n",
       "      <td>gs.US,ncbi.public,s3.us-east-1</td>\n",
       "      <td>SRX081869</td>\n",
       "      <td>...</td>\n",
       "      <td>Facility of Linkoping University, Sweden</td>\n",
       "      <td>female</td>\n",
       "      <td>9.4</td>\n",
       "      <td>~1 year\\, adult</td>\n",
       "      <td>Rneasy Lipid</td>\n",
       "      <td>NaN</td>\n",
       "      <td>GSM752557_gga_br_F_1</td>\n",
       "      <td>SRR306710_GSM752557_gga_br_F_1</td>\n",
       "      <td>female</td>\n",
       "      <td>Brain</td>\n",
       "    </tr>\n",
       "    <tr>\n",
       "      <td>SRR306711</td>\n",
       "      <td>RNA-Seq</td>\n",
       "      <td>76</td>\n",
       "      <td>PRJNA143627</td>\n",
       "      <td>SAMN00632120</td>\n",
       "      <td>GEO</td>\n",
       "      <td>public</td>\n",
       "      <td>sra</td>\n",
       "      <td>gs,ncbi,s3</td>\n",
       "      <td>gs.US,ncbi.public,s3.us-east-1</td>\n",
       "      <td>SRX081870</td>\n",
       "      <td>...</td>\n",
       "      <td>Facility of Linkoping University, Sweden</td>\n",
       "      <td>male</td>\n",
       "      <td>9.1</td>\n",
       "      <td>~1 year\\, adult</td>\n",
       "      <td>Standard</td>\n",
       "      <td>NaN</td>\n",
       "      <td>GSM752558_gga_br_M_1</td>\n",
       "      <td>SRR306711_GSM752558_gga_br_M_1</td>\n",
       "      <td>male</td>\n",
       "      <td>Brain</td>\n",
       "    </tr>\n",
       "    <tr>\n",
       "      <td>SRR306712</td>\n",
       "      <td>RNA-Seq</td>\n",
       "      <td>76</td>\n",
       "      <td>PRJNA143627</td>\n",
       "      <td>SAMN00632121</td>\n",
       "      <td>GEO</td>\n",
       "      <td>public</td>\n",
       "      <td>sra</td>\n",
       "      <td>gs,ncbi,s3</td>\n",
       "      <td>gs.US,ncbi.public,s3.us-east-1</td>\n",
       "      <td>SRX081871</td>\n",
       "      <td>...</td>\n",
       "      <td>Facility of Linkoping University, Sweden</td>\n",
       "      <td>female</td>\n",
       "      <td>9.6</td>\n",
       "      <td>~1 year\\, adult</td>\n",
       "      <td>Standard</td>\n",
       "      <td>NaN</td>\n",
       "      <td>GSM752559_gga_cb_F_1</td>\n",
       "      <td>SRR306712_GSM752559_gga_cb_F_1</td>\n",
       "      <td>female</td>\n",
       "      <td>Cerebellum</td>\n",
       "    </tr>\n",
       "    <tr>\n",
       "      <td>SRR306713</td>\n",
       "      <td>RNA-Seq</td>\n",
       "      <td>76</td>\n",
       "      <td>PRJNA143627</td>\n",
       "      <td>SAMN00632122</td>\n",
       "      <td>GEO</td>\n",
       "      <td>public</td>\n",
       "      <td>sra</td>\n",
       "      <td>gs,ncbi,s3</td>\n",
       "      <td>gs.US,ncbi.public,s3.us-east-1</td>\n",
       "      <td>SRX081872</td>\n",
       "      <td>...</td>\n",
       "      <td>Facility of Linkoping University, Sweden</td>\n",
       "      <td>male</td>\n",
       "      <td>9.2</td>\n",
       "      <td>~1 year\\, adult</td>\n",
       "      <td>Rneasy Lipid</td>\n",
       "      <td>NaN</td>\n",
       "      <td>GSM752560_gga_cb_M_1</td>\n",
       "      <td>SRR306713_GSM752560_gga_cb_M_1</td>\n",
       "      <td>male</td>\n",
       "      <td>Cerebellum</td>\n",
       "    </tr>\n",
       "    <tr>\n",
       "      <td>SRR306714</td>\n",
       "      <td>RNA-Seq</td>\n",
       "      <td>76</td>\n",
       "      <td>PRJNA143627</td>\n",
       "      <td>SAMN00632123</td>\n",
       "      <td>GEO</td>\n",
       "      <td>public</td>\n",
       "      <td>sra</td>\n",
       "      <td>gs,ncbi,s3</td>\n",
       "      <td>gs.US,ncbi.public,s3.us-east-1</td>\n",
       "      <td>SRX081873</td>\n",
       "      <td>...</td>\n",
       "      <td>Facility of Linkoping University, Sweden</td>\n",
       "      <td>female</td>\n",
       "      <td>9.0</td>\n",
       "      <td>~1 year\\, adult</td>\n",
       "      <td>Standard</td>\n",
       "      <td>NaN</td>\n",
       "      <td>GSM752561_gga_ht_F_1</td>\n",
       "      <td>SRR306714_GSM752561_gga_ht_F_1</td>\n",
       "      <td>female</td>\n",
       "      <td>Heart</td>\n",
       "    </tr>\n",
       "  </tbody>\n",
       "</table>\n",
       "<p>5 rows × 35 columns</p>\n",
       "</div>"
      ],
      "text/plain": [
       "          Assay Type  AvgSpotLen   BioProject     BioSample Center Name  \\\n",
       "Run                                                                       \n",
       "SRR306710    RNA-Seq          76  PRJNA143627  SAMN00632119         GEO   \n",
       "SRR306711    RNA-Seq          76  PRJNA143627  SAMN00632120         GEO   \n",
       "SRR306712    RNA-Seq          76  PRJNA143627  SAMN00632121         GEO   \n",
       "SRR306713    RNA-Seq          76  PRJNA143627  SAMN00632122         GEO   \n",
       "SRR306714    RNA-Seq          76  PRJNA143627  SAMN00632123         GEO   \n",
       "\n",
       "          Consent DATASTORE filetype DATASTORE provider  \\\n",
       "Run                                                       \n",
       "SRR306710  public                sra         gs,ncbi,s3   \n",
       "SRR306711  public                sra         gs,ncbi,s3   \n",
       "SRR306712  public                sra         gs,ncbi,s3   \n",
       "SRR306713  public                sra         gs,ncbi,s3   \n",
       "SRR306714  public                sra         gs,ncbi,s3   \n",
       "\n",
       "                         DATASTORE region Experiment  ...  \\\n",
       "Run                                                   ...   \n",
       "SRR306710  gs.US,ncbi.public,s3.us-east-1  SRX081869  ...   \n",
       "SRR306711  gs.US,ncbi.public,s3.us-east-1  SRX081870  ...   \n",
       "SRR306712  gs.US,ncbi.public,s3.us-east-1  SRX081871  ...   \n",
       "SRR306713  gs.US,ncbi.public,s3.us-east-1  SRX081872  ...   \n",
       "SRR306714  gs.US,ncbi.public,s3.us-east-1  SRX081873  ...   \n",
       "\n",
       "                                      tissue_source  gender  rin  \\\n",
       "Run                                                                \n",
       "SRR306710  Facility of Linkoping University, Sweden  female  9.4   \n",
       "SRR306711  Facility of Linkoping University, Sweden    male  9.1   \n",
       "SRR306712  Facility of Linkoping University, Sweden  female  9.6   \n",
       "SRR306713  Facility of Linkoping University, Sweden    male  9.2   \n",
       "SRR306714  Facility of Linkoping University, Sweden  female  9.0   \n",
       "\n",
       "                       Age    Extraction  sex        sanitized_name  \\\n",
       "Run                                                                   \n",
       "SRR306710  ~1 year\\, adult  Rneasy Lipid  NaN  GSM752557_gga_br_F_1   \n",
       "SRR306711  ~1 year\\, adult      Standard  NaN  GSM752558_gga_br_M_1   \n",
       "SRR306712  ~1 year\\, adult      Standard  NaN  GSM752559_gga_cb_F_1   \n",
       "SRR306713  ~1 year\\, adult  Rneasy Lipid  NaN  GSM752560_gga_cb_M_1   \n",
       "SRR306714  ~1 year\\, adult      Standard  NaN  GSM752561_gga_ht_F_1   \n",
       "\n",
       "                  sanitized_name_with_run sex_cleaned      tissue  \n",
       "Run                                                                \n",
       "SRR306710  SRR306710_GSM752557_gga_br_F_1      female       Brain  \n",
       "SRR306711  SRR306711_GSM752558_gga_br_M_1        male       Brain  \n",
       "SRR306712  SRR306712_GSM752559_gga_cb_F_1      female  Cerebellum  \n",
       "SRR306713  SRR306713_GSM752560_gga_cb_M_1        male  Cerebellum  \n",
       "SRR306714  SRR306714_GSM752561_gga_ht_F_1      female       Heart  \n",
       "\n",
       "[5 rows x 35 columns]"
      ]
     },
     "execution_count": 10,
     "metadata": {},
     "output_type": "execute_result"
    }
   ],
   "source": [
    "ncbi_run_table_metadata = pd.read_csv(\"../metadata/brawand2011_metadata.csv\", index_col=0)\n",
    "print(ncbi_run_table_metadata.shape)\n",
    "ncbi_run_table_metadata.head()"
   ]
  },
  {
   "cell_type": "code",
   "execution_count": 19,
   "metadata": {
    "execution_event_id": "2af296ef-90b3-4f4f-bce5-5affc86fe354",
    "last_executed_text": "ncbi_run_table_metadata.tail()",
    "persistent_id": "c60a9be8-0934-4f6e-9dd7-aabc3e91a0a7"
   },
   "outputs": [
    {
     "data": {
      "text/html": [
       "<div>\n",
       "<style scoped>\n",
       "    .dataframe tbody tr th:only-of-type {\n",
       "        vertical-align: middle;\n",
       "    }\n",
       "\n",
       "    .dataframe tbody tr th {\n",
       "        vertical-align: top;\n",
       "    }\n",
       "\n",
       "    .dataframe thead th {\n",
       "        text-align: right;\n",
       "    }\n",
       "</style>\n",
       "<table border=\"1\" class=\"dataframe\">\n",
       "  <thead>\n",
       "    <tr style=\"text-align: right;\">\n",
       "      <th></th>\n",
       "      <th>Assay Type</th>\n",
       "      <th>AvgSpotLen</th>\n",
       "      <th>BioProject</th>\n",
       "      <th>BioSample</th>\n",
       "      <th>Center Name</th>\n",
       "      <th>Consent</th>\n",
       "      <th>DATASTORE filetype</th>\n",
       "      <th>DATASTORE provider</th>\n",
       "      <th>DATASTORE region</th>\n",
       "      <th>Experiment</th>\n",
       "      <th>...</th>\n",
       "      <th>tissue_source</th>\n",
       "      <th>gender</th>\n",
       "      <th>rin</th>\n",
       "      <th>Age</th>\n",
       "      <th>Extraction</th>\n",
       "      <th>sex</th>\n",
       "      <th>sanitized_name</th>\n",
       "      <th>sanitized_name_with_run</th>\n",
       "      <th>sex_cleaned</th>\n",
       "      <th>tissue</th>\n",
       "    </tr>\n",
       "    <tr>\n",
       "      <th>Run</th>\n",
       "      <th></th>\n",
       "      <th></th>\n",
       "      <th></th>\n",
       "      <th></th>\n",
       "      <th></th>\n",
       "      <th></th>\n",
       "      <th></th>\n",
       "      <th></th>\n",
       "      <th></th>\n",
       "      <th></th>\n",
       "      <th></th>\n",
       "      <th></th>\n",
       "      <th></th>\n",
       "      <th></th>\n",
       "      <th></th>\n",
       "      <th></th>\n",
       "      <th></th>\n",
       "      <th></th>\n",
       "      <th></th>\n",
       "      <th></th>\n",
       "      <th></th>\n",
       "    </tr>\n",
       "  </thead>\n",
       "  <tbody>\n",
       "    <tr>\n",
       "      <td>SRR306856</td>\n",
       "      <td>RNA-Seq</td>\n",
       "      <td>76</td>\n",
       "      <td>PRJNA143627</td>\n",
       "      <td>SAMN00632247</td>\n",
       "      <td>GEO</td>\n",
       "      <td>public</td>\n",
       "      <td>sra</td>\n",
       "      <td>gs,ncbi,s3</td>\n",
       "      <td>gs.US,ncbi.public,s3.us-east-1</td>\n",
       "      <td>SRX081997</td>\n",
       "      <td>...</td>\n",
       "      <td>National Disease Research Interchange, USA (NDRI)</td>\n",
       "      <td>male</td>\n",
       "      <td>8.6</td>\n",
       "      <td>NaN</td>\n",
       "      <td>NaN</td>\n",
       "      <td>NaN</td>\n",
       "      <td>GSM752706_hsa_lv_M_2</td>\n",
       "      <td>SRR306856_GSM752706_hsa_lv_M_2</td>\n",
       "      <td>male</td>\n",
       "      <td>Liver</td>\n",
       "    </tr>\n",
       "    <tr>\n",
       "      <td>SRR306857</td>\n",
       "      <td>RNA-Seq</td>\n",
       "      <td>76</td>\n",
       "      <td>PRJNA143627</td>\n",
       "      <td>SAMN00632248</td>\n",
       "      <td>GEO</td>\n",
       "      <td>public</td>\n",
       "      <td>sra</td>\n",
       "      <td>gs,ncbi,s3</td>\n",
       "      <td>gs.US,ncbi.public,s3.us-east-1</td>\n",
       "      <td>SRX081998</td>\n",
       "      <td>...</td>\n",
       "      <td>Commercial / AMS biotechnology</td>\n",
       "      <td>male</td>\n",
       "      <td>7.3</td>\n",
       "      <td>NaN</td>\n",
       "      <td>NaN</td>\n",
       "      <td>NaN</td>\n",
       "      <td>GSM752707_hsa_ts_M_1</td>\n",
       "      <td>SRR306857_GSM752707_hsa_ts_M_1</td>\n",
       "      <td>male</td>\n",
       "      <td>Testis</td>\n",
       "    </tr>\n",
       "    <tr>\n",
       "      <td>SRR306858</td>\n",
       "      <td>RNA-Seq</td>\n",
       "      <td>76</td>\n",
       "      <td>PRJNA143627</td>\n",
       "      <td>SAMN00632249</td>\n",
       "      <td>GEO</td>\n",
       "      <td>public</td>\n",
       "      <td>sra</td>\n",
       "      <td>gs,ncbi,s3</td>\n",
       "      <td>gs.US,ncbi.public,s3.us-east-1</td>\n",
       "      <td>SRX081999</td>\n",
       "      <td>...</td>\n",
       "      <td>National Disease Research Interchange, USA (NDRI)</td>\n",
       "      <td>male</td>\n",
       "      <td>7.9</td>\n",
       "      <td>NaN</td>\n",
       "      <td>NaN</td>\n",
       "      <td>NaN</td>\n",
       "      <td>GSM752708_hsa_ts_M_2</td>\n",
       "      <td>SRR306858_GSM752708_hsa_ts_M_2</td>\n",
       "      <td>male</td>\n",
       "      <td>Testis</td>\n",
       "    </tr>\n",
       "    <tr>\n",
       "      <td>SRR306807</td>\n",
       "      <td>RNA-Seq</td>\n",
       "      <td>76</td>\n",
       "      <td>PRJNA143627</td>\n",
       "      <td>SAMN00632201</td>\n",
       "      <td>GEO</td>\n",
       "      <td>public</td>\n",
       "      <td>sra</td>\n",
       "      <td>gs,ncbi,s3</td>\n",
       "      <td>gs.US,ncbi.public,s3.us-east-1</td>\n",
       "      <td>SRX081951</td>\n",
       "      <td>...</td>\n",
       "      <td>Zoo Frankfurt, Germany</td>\n",
       "      <td>male</td>\n",
       "      <td>8.4</td>\n",
       "      <td>51 years</td>\n",
       "      <td>RNeasy</td>\n",
       "      <td>NaN</td>\n",
       "      <td>GSM752660_ggo_kd_M_1</td>\n",
       "      <td>SRR306807_GSM752660_ggo_kd_M_1</td>\n",
       "      <td>male</td>\n",
       "      <td>Kidney</td>\n",
       "    </tr>\n",
       "    <tr>\n",
       "      <td>SRR306740</td>\n",
       "      <td>RNA-Seq</td>\n",
       "      <td>76</td>\n",
       "      <td>PRJNA143627</td>\n",
       "      <td>SAMN00632142</td>\n",
       "      <td>GEO</td>\n",
       "      <td>public</td>\n",
       "      <td>sra</td>\n",
       "      <td>gs,ncbi,s3</td>\n",
       "      <td>gs.US,ncbi.public,s3.us-east-1</td>\n",
       "      <td>SRX081892</td>\n",
       "      <td>...</td>\n",
       "      <td>Captured in New South Wales, Australia (provid...</td>\n",
       "      <td>male</td>\n",
       "      <td>8.0</td>\n",
       "      <td>adult</td>\n",
       "      <td>Standard</td>\n",
       "      <td>NaN</td>\n",
       "      <td>GSM752585_oan_ts_M_2</td>\n",
       "      <td>SRR306740_GSM752585_oan_ts_M_2</td>\n",
       "      <td>male</td>\n",
       "      <td>Testis</td>\n",
       "    </tr>\n",
       "  </tbody>\n",
       "</table>\n",
       "<p>5 rows × 35 columns</p>\n",
       "</div>"
      ],
      "text/plain": [
       "          Assay Type  AvgSpotLen   BioProject     BioSample Center Name  \\\n",
       "Run                                                                       \n",
       "SRR306856    RNA-Seq          76  PRJNA143627  SAMN00632247         GEO   \n",
       "SRR306857    RNA-Seq          76  PRJNA143627  SAMN00632248         GEO   \n",
       "SRR306858    RNA-Seq          76  PRJNA143627  SAMN00632249         GEO   \n",
       "SRR306807    RNA-Seq          76  PRJNA143627  SAMN00632201         GEO   \n",
       "SRR306740    RNA-Seq          76  PRJNA143627  SAMN00632142         GEO   \n",
       "\n",
       "          Consent DATASTORE filetype DATASTORE provider  \\\n",
       "Run                                                       \n",
       "SRR306856  public                sra         gs,ncbi,s3   \n",
       "SRR306857  public                sra         gs,ncbi,s3   \n",
       "SRR306858  public                sra         gs,ncbi,s3   \n",
       "SRR306807  public                sra         gs,ncbi,s3   \n",
       "SRR306740  public                sra         gs,ncbi,s3   \n",
       "\n",
       "                         DATASTORE region Experiment  ...  \\\n",
       "Run                                                   ...   \n",
       "SRR306856  gs.US,ncbi.public,s3.us-east-1  SRX081997  ...   \n",
       "SRR306857  gs.US,ncbi.public,s3.us-east-1  SRX081998  ...   \n",
       "SRR306858  gs.US,ncbi.public,s3.us-east-1  SRX081999  ...   \n",
       "SRR306807  gs.US,ncbi.public,s3.us-east-1  SRX081951  ...   \n",
       "SRR306740  gs.US,ncbi.public,s3.us-east-1  SRX081892  ...   \n",
       "\n",
       "                                               tissue_source gender  rin  \\\n",
       "Run                                                                        \n",
       "SRR306856  National Disease Research Interchange, USA (NDRI)   male  8.6   \n",
       "SRR306857                     Commercial / AMS biotechnology   male  7.3   \n",
       "SRR306858  National Disease Research Interchange, USA (NDRI)   male  7.9   \n",
       "SRR306807                             Zoo Frankfurt, Germany   male  8.4   \n",
       "SRR306740  Captured in New South Wales, Australia (provid...   male  8.0   \n",
       "\n",
       "                Age Extraction  sex        sanitized_name  \\\n",
       "Run                                                         \n",
       "SRR306856       NaN        NaN  NaN  GSM752706_hsa_lv_M_2   \n",
       "SRR306857       NaN        NaN  NaN  GSM752707_hsa_ts_M_1   \n",
       "SRR306858       NaN        NaN  NaN  GSM752708_hsa_ts_M_2   \n",
       "SRR306807  51 years     RNeasy  NaN  GSM752660_ggo_kd_M_1   \n",
       "SRR306740     adult   Standard  NaN  GSM752585_oan_ts_M_2   \n",
       "\n",
       "                  sanitized_name_with_run sex_cleaned  tissue  \n",
       "Run                                                            \n",
       "SRR306856  SRR306856_GSM752706_hsa_lv_M_2        male   Liver  \n",
       "SRR306857  SRR306857_GSM752707_hsa_ts_M_1        male  Testis  \n",
       "SRR306858  SRR306858_GSM752708_hsa_ts_M_2        male  Testis  \n",
       "SRR306807  SRR306807_GSM752660_ggo_kd_M_1        male  Kidney  \n",
       "SRR306740  SRR306740_GSM752585_oan_ts_M_2        male  Testis  \n",
       "\n",
       "[5 rows x 35 columns]"
      ]
     },
     "execution_count": 19,
     "metadata": {},
     "output_type": "execute_result"
    }
   ],
   "source": [
    "ncbi_run_table_metadata.tail()"
   ]
  },
  {
   "cell_type": "code",
   "execution_count": 11,
   "metadata": {
    "execution_event_id": "7b60f7e3-65df-4c4d-85a3-865eb6a87d4c",
    "last_executed_text": "runs_not_in_sra_explorer = list(ncbi_run_table_metadata.index.difference(sra_explorer_metadata['sra_id']))\nlen(runs_not_in_sra_explorer)",
    "persistent_id": "6ce1b168-1f44-4ee3-943c-3f012ad42bac"
   },
   "outputs": [
    {
     "data": {
      "text/plain": [
       "43"
      ]
     },
     "execution_count": 11,
     "metadata": {},
     "output_type": "execute_result"
    }
   ],
   "source": [
    "runs_not_in_sra_explorer = list(ncbi_run_table_metadata.index.difference(sra_explorer_metadata['sra_id']))\n",
    "len(runs_not_in_sra_explorer)"
   ]
  },
  {
   "cell_type": "code",
   "execution_count": 28,
   "metadata": {
    "execution_event_id": "ed961f1c-3b0b-4cca-af52-74c872fd243d",
    "last_executed_text": "sra_explorer_metadata.sra_id.sort_values()",
    "persistent_id": "0acd5d2d-5b7e-4841-a75e-e9ae0976ee48"
   },
   "outputs": [
    {
     "data": {
      "text/plain": [
       "sample_id\n",
       "SRR306752_GSM752603_mdo_kd_M_1    SRR306752\n",
       "SRR306753_GSM752606_mdo_lv_F_1    SRR306753\n",
       "SRR306754_GSM752608_mdo_lv_M_1    SRR306754\n",
       "SRR306755_GSM752611_mdo_ts_M_1    SRR306755\n",
       "SRR306756_GSM752613_mdo_ts_M_2    SRR306756\n",
       "                                    ...    \n",
       "SRR306854_GSM752705_hsa_lv_M_1    SRR306854\n",
       "SRR306855_GSM752705_hsa_lv_M_1    SRR306855\n",
       "SRR306856_GSM752706_hsa_lv_M_2    SRR306856\n",
       "SRR306857_GSM752707_hsa_ts_M_1    SRR306857\n",
       "SRR306858_GSM752708_hsa_ts_M_2    SRR306858\n",
       "Name: sra_id, Length: 117, dtype: object"
      ]
     },
     "execution_count": 28,
     "metadata": {},
     "output_type": "execute_result"
    }
   ],
   "source": [
    "sra_explorer_metadata.sra_id.sort_values()"
   ]
  },
  {
   "cell_type": "code",
   "execution_count": 18,
   "metadata": {
    "execution_event_id": "1686e2a2-ea56-4a8f-a613-a0fab999e936",
    "last_executed_text": "runs_not_in_sra_explorer",
    "persistent_id": "6e32f055-a817-4e61-90a6-8d4a0ccea66c"
   },
   "outputs": [
    {
     "data": {
      "text/plain": [
       "['SRR306710',\n",
       " 'SRR306711',\n",
       " 'SRR306712',\n",
       " 'SRR306713',\n",
       " 'SRR306714',\n",
       " 'SRR306715',\n",
       " 'SRR306716',\n",
       " 'SRR306717',\n",
       " 'SRR306718',\n",
       " 'SRR306719',\n",
       " 'SRR306720',\n",
       " 'SRR306721',\n",
       " 'SRR306722',\n",
       " 'SRR306723',\n",
       " 'SRR306724',\n",
       " 'SRR306725',\n",
       " 'SRR306726',\n",
       " 'SRR306727',\n",
       " 'SRR306728',\n",
       " 'SRR306729',\n",
       " 'SRR306730',\n",
       " 'SRR306731',\n",
       " 'SRR306732',\n",
       " 'SRR306733',\n",
       " 'SRR306734',\n",
       " 'SRR306735',\n",
       " 'SRR306736',\n",
       " 'SRR306737',\n",
       " 'SRR306738',\n",
       " 'SRR306739',\n",
       " 'SRR306740',\n",
       " 'SRR306741',\n",
       " 'SRR306742',\n",
       " 'SRR306743',\n",
       " 'SRR306744',\n",
       " 'SRR306745',\n",
       " 'SRR306746',\n",
       " 'SRR306747',\n",
       " 'SRR306748',\n",
       " 'SRR306749',\n",
       " 'SRR306750',\n",
       " 'SRR306751',\n",
       " 'SRR306852']"
      ]
     },
     "execution_count": 18,
     "metadata": {},
     "output_type": "execute_result"
    }
   ],
   "source": [
    "runs_not_in_sra_explorer"
   ]
  },
  {
   "cell_type": "code",
   "execution_count": 13,
   "metadata": {
    "execution_event_id": "c256aacc-4c34-41a1-b989-85f9fda07705",
    "last_executed_text": "runs_not_in_explorer_metadata = ncbi_run_table_metadata.loc[runs_not_in_sra_explorer]\nprint(runs_not_in_explorer_metadata.shape)\nruns_not_in_explorer_metadata.head()",
    "persistent_id": "0c06982b-0cfe-4548-8d9f-74460ca65709"
   },
   "outputs": [
    {
     "name": "stdout",
     "output_type": "stream",
     "text": [
      "(43, 35)\n"
     ]
    },
    {
     "data": {
      "text/html": [
       "<div>\n",
       "<style scoped>\n",
       "    .dataframe tbody tr th:only-of-type {\n",
       "        vertical-align: middle;\n",
       "    }\n",
       "\n",
       "    .dataframe tbody tr th {\n",
       "        vertical-align: top;\n",
       "    }\n",
       "\n",
       "    .dataframe thead th {\n",
       "        text-align: right;\n",
       "    }\n",
       "</style>\n",
       "<table border=\"1\" class=\"dataframe\">\n",
       "  <thead>\n",
       "    <tr style=\"text-align: right;\">\n",
       "      <th></th>\n",
       "      <th>Assay Type</th>\n",
       "      <th>AvgSpotLen</th>\n",
       "      <th>BioProject</th>\n",
       "      <th>BioSample</th>\n",
       "      <th>Center Name</th>\n",
       "      <th>Consent</th>\n",
       "      <th>DATASTORE filetype</th>\n",
       "      <th>DATASTORE provider</th>\n",
       "      <th>DATASTORE region</th>\n",
       "      <th>Experiment</th>\n",
       "      <th>...</th>\n",
       "      <th>tissue_source</th>\n",
       "      <th>gender</th>\n",
       "      <th>rin</th>\n",
       "      <th>Age</th>\n",
       "      <th>Extraction</th>\n",
       "      <th>sex</th>\n",
       "      <th>sanitized_name</th>\n",
       "      <th>sanitized_name_with_run</th>\n",
       "      <th>sex_cleaned</th>\n",
       "      <th>tissue</th>\n",
       "    </tr>\n",
       "    <tr>\n",
       "      <th>Run</th>\n",
       "      <th></th>\n",
       "      <th></th>\n",
       "      <th></th>\n",
       "      <th></th>\n",
       "      <th></th>\n",
       "      <th></th>\n",
       "      <th></th>\n",
       "      <th></th>\n",
       "      <th></th>\n",
       "      <th></th>\n",
       "      <th></th>\n",
       "      <th></th>\n",
       "      <th></th>\n",
       "      <th></th>\n",
       "      <th></th>\n",
       "      <th></th>\n",
       "      <th></th>\n",
       "      <th></th>\n",
       "      <th></th>\n",
       "      <th></th>\n",
       "      <th></th>\n",
       "    </tr>\n",
       "  </thead>\n",
       "  <tbody>\n",
       "    <tr>\n",
       "      <td>SRR306710</td>\n",
       "      <td>RNA-Seq</td>\n",
       "      <td>76</td>\n",
       "      <td>PRJNA143627</td>\n",
       "      <td>SAMN00632119</td>\n",
       "      <td>GEO</td>\n",
       "      <td>public</td>\n",
       "      <td>sra</td>\n",
       "      <td>gs,ncbi,s3</td>\n",
       "      <td>gs.US,ncbi.public,s3.us-east-1</td>\n",
       "      <td>SRX081869</td>\n",
       "      <td>...</td>\n",
       "      <td>Facility of Linkoping University, Sweden</td>\n",
       "      <td>female</td>\n",
       "      <td>9.4</td>\n",
       "      <td>~1 year\\, adult</td>\n",
       "      <td>Rneasy Lipid</td>\n",
       "      <td>NaN</td>\n",
       "      <td>GSM752557_gga_br_F_1</td>\n",
       "      <td>SRR306710_GSM752557_gga_br_F_1</td>\n",
       "      <td>female</td>\n",
       "      <td>Brain</td>\n",
       "    </tr>\n",
       "    <tr>\n",
       "      <td>SRR306711</td>\n",
       "      <td>RNA-Seq</td>\n",
       "      <td>76</td>\n",
       "      <td>PRJNA143627</td>\n",
       "      <td>SAMN00632120</td>\n",
       "      <td>GEO</td>\n",
       "      <td>public</td>\n",
       "      <td>sra</td>\n",
       "      <td>gs,ncbi,s3</td>\n",
       "      <td>gs.US,ncbi.public,s3.us-east-1</td>\n",
       "      <td>SRX081870</td>\n",
       "      <td>...</td>\n",
       "      <td>Facility of Linkoping University, Sweden</td>\n",
       "      <td>male</td>\n",
       "      <td>9.1</td>\n",
       "      <td>~1 year\\, adult</td>\n",
       "      <td>Standard</td>\n",
       "      <td>NaN</td>\n",
       "      <td>GSM752558_gga_br_M_1</td>\n",
       "      <td>SRR306711_GSM752558_gga_br_M_1</td>\n",
       "      <td>male</td>\n",
       "      <td>Brain</td>\n",
       "    </tr>\n",
       "    <tr>\n",
       "      <td>SRR306712</td>\n",
       "      <td>RNA-Seq</td>\n",
       "      <td>76</td>\n",
       "      <td>PRJNA143627</td>\n",
       "      <td>SAMN00632121</td>\n",
       "      <td>GEO</td>\n",
       "      <td>public</td>\n",
       "      <td>sra</td>\n",
       "      <td>gs,ncbi,s3</td>\n",
       "      <td>gs.US,ncbi.public,s3.us-east-1</td>\n",
       "      <td>SRX081871</td>\n",
       "      <td>...</td>\n",
       "      <td>Facility of Linkoping University, Sweden</td>\n",
       "      <td>female</td>\n",
       "      <td>9.6</td>\n",
       "      <td>~1 year\\, adult</td>\n",
       "      <td>Standard</td>\n",
       "      <td>NaN</td>\n",
       "      <td>GSM752559_gga_cb_F_1</td>\n",
       "      <td>SRR306712_GSM752559_gga_cb_F_1</td>\n",
       "      <td>female</td>\n",
       "      <td>Cerebellum</td>\n",
       "    </tr>\n",
       "    <tr>\n",
       "      <td>SRR306713</td>\n",
       "      <td>RNA-Seq</td>\n",
       "      <td>76</td>\n",
       "      <td>PRJNA143627</td>\n",
       "      <td>SAMN00632122</td>\n",
       "      <td>GEO</td>\n",
       "      <td>public</td>\n",
       "      <td>sra</td>\n",
       "      <td>gs,ncbi,s3</td>\n",
       "      <td>gs.US,ncbi.public,s3.us-east-1</td>\n",
       "      <td>SRX081872</td>\n",
       "      <td>...</td>\n",
       "      <td>Facility of Linkoping University, Sweden</td>\n",
       "      <td>male</td>\n",
       "      <td>9.2</td>\n",
       "      <td>~1 year\\, adult</td>\n",
       "      <td>Rneasy Lipid</td>\n",
       "      <td>NaN</td>\n",
       "      <td>GSM752560_gga_cb_M_1</td>\n",
       "      <td>SRR306713_GSM752560_gga_cb_M_1</td>\n",
       "      <td>male</td>\n",
       "      <td>Cerebellum</td>\n",
       "    </tr>\n",
       "    <tr>\n",
       "      <td>SRR306714</td>\n",
       "      <td>RNA-Seq</td>\n",
       "      <td>76</td>\n",
       "      <td>PRJNA143627</td>\n",
       "      <td>SAMN00632123</td>\n",
       "      <td>GEO</td>\n",
       "      <td>public</td>\n",
       "      <td>sra</td>\n",
       "      <td>gs,ncbi,s3</td>\n",
       "      <td>gs.US,ncbi.public,s3.us-east-1</td>\n",
       "      <td>SRX081873</td>\n",
       "      <td>...</td>\n",
       "      <td>Facility of Linkoping University, Sweden</td>\n",
       "      <td>female</td>\n",
       "      <td>9.0</td>\n",
       "      <td>~1 year\\, adult</td>\n",
       "      <td>Standard</td>\n",
       "      <td>NaN</td>\n",
       "      <td>GSM752561_gga_ht_F_1</td>\n",
       "      <td>SRR306714_GSM752561_gga_ht_F_1</td>\n",
       "      <td>female</td>\n",
       "      <td>Heart</td>\n",
       "    </tr>\n",
       "  </tbody>\n",
       "</table>\n",
       "<p>5 rows × 35 columns</p>\n",
       "</div>"
      ],
      "text/plain": [
       "          Assay Type  AvgSpotLen   BioProject     BioSample Center Name  \\\n",
       "Run                                                                       \n",
       "SRR306710    RNA-Seq          76  PRJNA143627  SAMN00632119         GEO   \n",
       "SRR306711    RNA-Seq          76  PRJNA143627  SAMN00632120         GEO   \n",
       "SRR306712    RNA-Seq          76  PRJNA143627  SAMN00632121         GEO   \n",
       "SRR306713    RNA-Seq          76  PRJNA143627  SAMN00632122         GEO   \n",
       "SRR306714    RNA-Seq          76  PRJNA143627  SAMN00632123         GEO   \n",
       "\n",
       "          Consent DATASTORE filetype DATASTORE provider  \\\n",
       "Run                                                       \n",
       "SRR306710  public                sra         gs,ncbi,s3   \n",
       "SRR306711  public                sra         gs,ncbi,s3   \n",
       "SRR306712  public                sra         gs,ncbi,s3   \n",
       "SRR306713  public                sra         gs,ncbi,s3   \n",
       "SRR306714  public                sra         gs,ncbi,s3   \n",
       "\n",
       "                         DATASTORE region Experiment  ...  \\\n",
       "Run                                                   ...   \n",
       "SRR306710  gs.US,ncbi.public,s3.us-east-1  SRX081869  ...   \n",
       "SRR306711  gs.US,ncbi.public,s3.us-east-1  SRX081870  ...   \n",
       "SRR306712  gs.US,ncbi.public,s3.us-east-1  SRX081871  ...   \n",
       "SRR306713  gs.US,ncbi.public,s3.us-east-1  SRX081872  ...   \n",
       "SRR306714  gs.US,ncbi.public,s3.us-east-1  SRX081873  ...   \n",
       "\n",
       "                                      tissue_source  gender  rin  \\\n",
       "Run                                                                \n",
       "SRR306710  Facility of Linkoping University, Sweden  female  9.4   \n",
       "SRR306711  Facility of Linkoping University, Sweden    male  9.1   \n",
       "SRR306712  Facility of Linkoping University, Sweden  female  9.6   \n",
       "SRR306713  Facility of Linkoping University, Sweden    male  9.2   \n",
       "SRR306714  Facility of Linkoping University, Sweden  female  9.0   \n",
       "\n",
       "                       Age    Extraction  sex        sanitized_name  \\\n",
       "Run                                                                   \n",
       "SRR306710  ~1 year\\, adult  Rneasy Lipid  NaN  GSM752557_gga_br_F_1   \n",
       "SRR306711  ~1 year\\, adult      Standard  NaN  GSM752558_gga_br_M_1   \n",
       "SRR306712  ~1 year\\, adult      Standard  NaN  GSM752559_gga_cb_F_1   \n",
       "SRR306713  ~1 year\\, adult  Rneasy Lipid  NaN  GSM752560_gga_cb_M_1   \n",
       "SRR306714  ~1 year\\, adult      Standard  NaN  GSM752561_gga_ht_F_1   \n",
       "\n",
       "                  sanitized_name_with_run sex_cleaned      tissue  \n",
       "Run                                                                \n",
       "SRR306710  SRR306710_GSM752557_gga_br_F_1      female       Brain  \n",
       "SRR306711  SRR306711_GSM752558_gga_br_M_1        male       Brain  \n",
       "SRR306712  SRR306712_GSM752559_gga_cb_F_1      female  Cerebellum  \n",
       "SRR306713  SRR306713_GSM752560_gga_cb_M_1        male  Cerebellum  \n",
       "SRR306714  SRR306714_GSM752561_gga_ht_F_1      female       Heart  \n",
       "\n",
       "[5 rows x 35 columns]"
      ]
     },
     "execution_count": 13,
     "metadata": {},
     "output_type": "execute_result"
    }
   ],
   "source": [
    "runs_not_in_explorer_metadata = ncbi_run_table_metadata.loc[runs_not_in_sra_explorer]\n",
    "print(runs_not_in_explorer_metadata.shape)\n",
    "runs_not_in_explorer_metadata.head()"
   ]
  },
  {
   "cell_type": "code",
   "execution_count": 14,
   "metadata": {
    "execution_event_id": "5d050046-d2a1-451f-b352-7a25e12afbd2",
    "last_executed_text": "runs_not_in_explorer_metadata.Organism.value_counts()",
    "persistent_id": "1b6d87b8-1377-45d8-b105-6ee6b47da5d4"
   },
   "outputs": [
    {
     "data": {
      "text/plain": [
       "Ornithorhynchus anatinus    18\n",
       "Gallus gallus               14\n",
       "Monodelphis domestica       10\n",
       "Homo sapiens                 1\n",
       "Name: Organism, dtype: int64"
      ]
     },
     "execution_count": 14,
     "metadata": {},
     "output_type": "execute_result"
    }
   ],
   "source": [
    "\n",
    "runs_not_in_explorer_metadata.Organism.value_counts()"
   ]
  },
  {
   "cell_type": "code",
   "execution_count": 16,
   "metadata": {
    "execution_event_id": "8a5ba6fb-0e5e-4955-aeee-7b5ed51fcc79",
    "last_executed_text": "\nruns_not_in_explorer_metadata.sex_cleaned.value_counts()",
    "persistent_id": "27a9b27b-db73-4f14-9266-6afb11fdd6b1"
   },
   "outputs": [
    {
     "data": {
      "text/plain": [
       "male      25\n",
       "female    18\n",
       "Name: sex_cleaned, dtype: int64"
      ]
     },
     "execution_count": 16,
     "metadata": {},
     "output_type": "execute_result"
    }
   ],
   "source": [
    "\n",
    "runs_not_in_explorer_metadata.sex_cleaned.value_counts()"
   ]
  },
  {
   "cell_type": "code",
   "execution_count": 17,
   "metadata": {
    "execution_event_id": "2e29073e-e85d-4807-8f3a-3bcda186ab10",
    "last_executed_text": "\nruns_not_in_explorer_metadata.tissue.value_counts()",
    "persistent_id": "599723e4-f857-4bd0-b840-b9a443e1dd14"
   },
   "outputs": [
    {
     "data": {
      "text/plain": [
       "Brain         9\n",
       "Heart         8\n",
       "Liver         7\n",
       "Kidney        7\n",
       "Testis        6\n",
       "Cerebellum    6\n",
       "Name: tissue, dtype: int64"
      ]
     },
     "execution_count": 17,
     "metadata": {},
     "output_type": "execute_result"
    }
   ],
   "source": [
    "runs_not_in_explorer_metadata.tissue.value_counts()"
   ]
  },
  {
   "cell_type": "code",
   "execution_count": null,
   "metadata": {},
   "outputs": [],
   "source": []
  }
 ],
 "metadata": {
  "history": [
   {
    "cell": {
     "executionCount": 1,
     "executionEventId": "1b80fe96-f371-440b-ada8-bc07db520baa",
     "hasError": false,
     "id": "5a265e76-213f-4375-a6c4-9faa778c8e52",
     "outputs": [],
     "persistentId": "abdd9461-30dc-4fb6-b622-790c27605ade",
     "text": "import pandas as pd"
    },
    "executionTime": "2019-11-05T18:04:37.117Z"
   },
   {
    "cell": {
     "executionCount": 2,
     "executionEventId": "4106ccd2-34f2-4aa8-8798-c715c6ca5684",
     "hasError": false,
     "id": "a48c0d03-aca2-485c-9498-5b6631550d7f",
     "outputs": [
      {
       "name": "stdout",
       "output_type": "stream",
       "text": "(117, 11)\n"
      },
      {
       "data": {
        "text/html": "<div>\n<style scoped>\n    .dataframe tbody tr th:only-of-type {\n        vertical-align: middle;\n    }\n\n    .dataframe tbody tr th {\n        vertical-align: top;\n    }\n\n    .dataframe thead th {\n        text-align: right;\n    }\n</style>\n<table border=\"1\" class=\"dataframe\">\n  <thead>\n    <tr style=\"text-align: right;\">\n      <th></th>\n      <th>filename</th>\n      <th>basename</th>\n      <th>sra_id</th>\n      <th>geo_id</th>\n      <th>animal_abbrev</th>\n      <th>tissue_abbrev</th>\n      <th>sex</th>\n      <th>replicate</th>\n      <th>read_number</th>\n      <th>animal</th>\n      <th>tissue</th>\n    </tr>\n    <tr>\n      <th>sample_id</th>\n      <th></th>\n      <th></th>\n      <th></th>\n      <th></th>\n      <th></th>\n      <th></th>\n      <th></th>\n      <th></th>\n      <th></th>\n      <th></th>\n      <th></th>\n    </tr>\n  </thead>\n  <tbody>\n    <tr>\n      <td>SRR306786_GSM752640_mml_lv_F_1</td>\n      <td>/mnt/ibm_lg/olga/sra-explorer/brawand2011/SRR3...</td>\n      <td>SRR306786_GSM752640_mml_lv_F_1.fastq.gz</td>\n      <td>SRR306786</td>\n      <td>GSM752640</td>\n      <td>mml</td>\n      <td>lv</td>\n      <td>F</td>\n      <td>1</td>\n      <td>1</td>\n      <td>Mouse</td>\n      <td>Liver</td>\n    </tr>\n    <tr>\n      <td>SRR306823_GSM752676_ptr_lv_F_1</td>\n      <td>/mnt/ibm_lg/olga/sra-explorer/brawand2011/SRR3...</td>\n      <td>SRR306823_GSM752676_ptr_lv_F_1.fastq.gz</td>\n      <td>SRR306823</td>\n      <td>GSM752676</td>\n      <td>ptr</td>\n      <td>lv</td>\n      <td>F</td>\n      <td>1</td>\n      <td>1</td>\n      <td>Chimpanzee</td>\n      <td>Liver</td>\n    </tr>\n    <tr>\n      <td>SRR306758_GSM752615_mmu_br_M_1</td>\n      <td>/mnt/ibm_lg/olga/sra-explorer/brawand2011/SRR3...</td>\n      <td>SRR306758_GSM752615_mmu_br_M_1.fastq.gz</td>\n      <td>SRR306758</td>\n      <td>GSM752615</td>\n      <td>mmu</td>\n      <td>br</td>\n      <td>M</td>\n      <td>1</td>\n      <td>1</td>\n      <td>NaN</td>\n      <td>Brain</td>\n    </tr>\n    <tr>\n      <td>SRR306845_GSM752698_hsa_cb_M_1</td>\n      <td>/mnt/ibm_lg/olga/sra-explorer/brawand2011/SRR3...</td>\n      <td>SRR306845_GSM752698_hsa_cb_M_1.fastq.gz</td>\n      <td>SRR306845</td>\n      <td>GSM752698</td>\n      <td>hsa</td>\n      <td>cb</td>\n      <td>M</td>\n      <td>1</td>\n      <td>1</td>\n      <td>Human</td>\n      <td>Cerebellum</td>\n    </tr>\n    <tr>\n      <td>SRR306827_GSM752680_ppa_br_F_2</td>\n      <td>/mnt/ibm_lg/olga/sra-explorer/brawand2011/SRR3...</td>\n      <td>SRR306827_GSM752680_ppa_br_F_2.fastq.gz</td>\n      <td>SRR306827</td>\n      <td>GSM752680</td>\n      <td>ppa</td>\n      <td>br</td>\n      <td>F</td>\n      <td>2</td>\n      <td>1</td>\n      <td>Bonobo</td>\n      <td>Brain</td>\n    </tr>\n  </tbody>\n</table>\n</div>",
        "text/plain": "                                                                         filename  \\\nsample_id                                                                           \nSRR306786_GSM752640_mml_lv_F_1  /mnt/ibm_lg/olga/sra-explorer/brawand2011/SRR3...   \nSRR306823_GSM752676_ptr_lv_F_1  /mnt/ibm_lg/olga/sra-explorer/brawand2011/SRR3...   \nSRR306758_GSM752615_mmu_br_M_1  /mnt/ibm_lg/olga/sra-explorer/brawand2011/SRR3...   \nSRR306845_GSM752698_hsa_cb_M_1  /mnt/ibm_lg/olga/sra-explorer/brawand2011/SRR3...   \nSRR306827_GSM752680_ppa_br_F_2  /mnt/ibm_lg/olga/sra-explorer/brawand2011/SRR3...   \n\n                                                               basename  \\\nsample_id                                                                 \nSRR306786_GSM752640_mml_lv_F_1  SRR306786_GSM752640_mml_lv_F_1.fastq.gz   \nSRR306823_GSM752676_ptr_lv_F_1  SRR306823_GSM752676_ptr_lv_F_1.fastq.gz   \nSRR306758_GSM752615_mmu_br_M_1  SRR306758_GSM752615_mmu_br_M_1.fastq.gz   \nSRR306845_GSM752698_hsa_cb_M_1  SRR306845_GSM752698_hsa_cb_M_1.fastq.gz   \nSRR306827_GSM752680_ppa_br_F_2  SRR306827_GSM752680_ppa_br_F_2.fastq.gz   \n\n                                   sra_id     geo_id animal_abbrev  \\\nsample_id                                                            \nSRR306786_GSM752640_mml_lv_F_1  SRR306786  GSM752640           mml   \nSRR306823_GSM752676_ptr_lv_F_1  SRR306823  GSM752676           ptr   \nSRR306758_GSM752615_mmu_br_M_1  SRR306758  GSM752615           mmu   \nSRR306845_GSM752698_hsa_cb_M_1  SRR306845  GSM752698           hsa   \nSRR306827_GSM752680_ppa_br_F_2  SRR306827  GSM752680           ppa   \n\n                               tissue_abbrev sex  replicate  read_number  \\\nsample_id                                                                  \nSRR306786_GSM752640_mml_lv_F_1            lv   F          1            1   \nSRR306823_GSM752676_ptr_lv_F_1            lv   F          1            1   \nSRR306758_GSM752615_mmu_br_M_1            br   M          1            1   \nSRR306845_GSM752698_hsa_cb_M_1            cb   M          1            1   \nSRR306827_GSM752680_ppa_br_F_2            br   F          2            1   \n\n                                    animal      tissue  \nsample_id                                               \nSRR306786_GSM752640_mml_lv_F_1       Mouse       Liver  \nSRR306823_GSM752676_ptr_lv_F_1  Chimpanzee       Liver  \nSRR306758_GSM752615_mmu_br_M_1         NaN       Brain  \nSRR306845_GSM752698_hsa_cb_M_1       Human  Cerebellum  \nSRR306827_GSM752680_ppa_br_F_2      Bonobo       Brain  "
       },
       "execution_count": 2,
       "metadata": {},
       "output_type": "execute_result"
      }
     ],
     "persistentId": "6bc79692-ba0f-4163-a248-58a297ad72a2",
     "text": "sra_explorer_metadata = pd.read_csv('/home/olga/ibm_lg/kmer-hashing/brawand2011/sample_metadata_handmade.csv', index_col=0)\nprint(sra_explorer_metadata.shape)\nsra_explorer_metadata.head()"
    },
    "executionTime": "2019-11-05T18:04:56.075Z"
   },
   {
    "cell": {
     "executionCount": 3,
     "executionEventId": "bde6ec74-9b84-409b-8b8a-3c91aafb71f4",
     "hasError": false,
     "id": "c9cadf15-8e9d-42fd-8b29-7739534158bb",
     "outputs": [
      {
       "name": "stdout",
       "output_type": "stream",
       "text": "(149, 37)\n"
      },
      {
       "data": {
        "text/html": "<div>\n<style scoped>\n    .dataframe tbody tr th:only-of-type {\n        vertical-align: middle;\n    }\n\n    .dataframe tbody tr th {\n        vertical-align: top;\n    }\n\n    .dataframe thead th {\n        text-align: right;\n    }\n</style>\n<table border=\"1\" class=\"dataframe\">\n  <thead>\n    <tr style=\"text-align: right;\">\n      <th></th>\n      <th>Unnamed: 0</th>\n      <th>Run</th>\n      <th>Assay Type</th>\n      <th>AvgSpotLen</th>\n      <th>BioProject</th>\n      <th>BioSample</th>\n      <th>Center Name</th>\n      <th>Consent</th>\n      <th>DATASTORE filetype</th>\n      <th>DATASTORE provider</th>\n      <th>...</th>\n      <th>tissue_source</th>\n      <th>gender</th>\n      <th>rin</th>\n      <th>Age</th>\n      <th>Extraction</th>\n      <th>sex</th>\n      <th>sanitized_name</th>\n      <th>sanitized_name_with_run</th>\n      <th>sex_cleaned</th>\n      <th>tissue</th>\n    </tr>\n  </thead>\n  <tbody>\n    <tr>\n      <td>0</td>\n      <td>0</td>\n      <td>SRR306710</td>\n      <td>RNA-Seq</td>\n      <td>76</td>\n      <td>PRJNA143627</td>\n      <td>SAMN00632119</td>\n      <td>GEO</td>\n      <td>public</td>\n      <td>sra</td>\n      <td>gs,ncbi,s3</td>\n      <td>...</td>\n      <td>Facility of Linkoping University, Sweden</td>\n      <td>female</td>\n      <td>9.4</td>\n      <td>~1 year\\, adult</td>\n      <td>Rneasy Lipid</td>\n      <td>NaN</td>\n      <td>GSM752557_gga_br_F_1</td>\n      <td>SRR306710_GSM752557_gga_br_F_1</td>\n      <td>female</td>\n      <td>Brain</td>\n    </tr>\n    <tr>\n      <td>1</td>\n      <td>1</td>\n      <td>SRR306711</td>\n      <td>RNA-Seq</td>\n      <td>76</td>\n      <td>PRJNA143627</td>\n      <td>SAMN00632120</td>\n      <td>GEO</td>\n      <td>public</td>\n      <td>sra</td>\n      <td>gs,ncbi,s3</td>\n      <td>...</td>\n      <td>Facility of Linkoping University, Sweden</td>\n      <td>male</td>\n      <td>9.1</td>\n      <td>~1 year\\, adult</td>\n      <td>Standard</td>\n      <td>NaN</td>\n      <td>GSM752558_gga_br_M_1</td>\n      <td>SRR306711_GSM752558_gga_br_M_1</td>\n      <td>male</td>\n      <td>Brain</td>\n    </tr>\n    <tr>\n      <td>2</td>\n      <td>2</td>\n      <td>SRR306712</td>\n      <td>RNA-Seq</td>\n      <td>76</td>\n      <td>PRJNA143627</td>\n      <td>SAMN00632121</td>\n      <td>GEO</td>\n      <td>public</td>\n      <td>sra</td>\n      <td>gs,ncbi,s3</td>\n      <td>...</td>\n      <td>Facility of Linkoping University, Sweden</td>\n      <td>female</td>\n      <td>9.6</td>\n      <td>~1 year\\, adult</td>\n      <td>Standard</td>\n      <td>NaN</td>\n      <td>GSM752559_gga_cb_F_1</td>\n      <td>SRR306712_GSM752559_gga_cb_F_1</td>\n      <td>female</td>\n      <td>Cerebellum</td>\n    </tr>\n    <tr>\n      <td>3</td>\n      <td>3</td>\n      <td>SRR306713</td>\n      <td>RNA-Seq</td>\n      <td>76</td>\n      <td>PRJNA143627</td>\n      <td>SAMN00632122</td>\n      <td>GEO</td>\n      <td>public</td>\n      <td>sra</td>\n      <td>gs,ncbi,s3</td>\n      <td>...</td>\n      <td>Facility of Linkoping University, Sweden</td>\n      <td>male</td>\n      <td>9.2</td>\n      <td>~1 year\\, adult</td>\n      <td>Rneasy Lipid</td>\n      <td>NaN</td>\n      <td>GSM752560_gga_cb_M_1</td>\n      <td>SRR306713_GSM752560_gga_cb_M_1</td>\n      <td>male</td>\n      <td>Cerebellum</td>\n    </tr>\n    <tr>\n      <td>4</td>\n      <td>4</td>\n      <td>SRR306714</td>\n      <td>RNA-Seq</td>\n      <td>76</td>\n      <td>PRJNA143627</td>\n      <td>SAMN00632123</td>\n      <td>GEO</td>\n      <td>public</td>\n      <td>sra</td>\n      <td>gs,ncbi,s3</td>\n      <td>...</td>\n      <td>Facility of Linkoping University, Sweden</td>\n      <td>female</td>\n      <td>9.0</td>\n      <td>~1 year\\, adult</td>\n      <td>Standard</td>\n      <td>NaN</td>\n      <td>GSM752561_gga_ht_F_1</td>\n      <td>SRR306714_GSM752561_gga_ht_F_1</td>\n      <td>female</td>\n      <td>Heart</td>\n    </tr>\n  </tbody>\n</table>\n<p>5 rows × 37 columns</p>\n</div>",
        "text/plain": "   Unnamed: 0        Run Assay Type  AvgSpotLen   BioProject     BioSample  \\\n0           0  SRR306710    RNA-Seq          76  PRJNA143627  SAMN00632119   \n1           1  SRR306711    RNA-Seq          76  PRJNA143627  SAMN00632120   \n2           2  SRR306712    RNA-Seq          76  PRJNA143627  SAMN00632121   \n3           3  SRR306713    RNA-Seq          76  PRJNA143627  SAMN00632122   \n4           4  SRR306714    RNA-Seq          76  PRJNA143627  SAMN00632123   \n\n  Center Name Consent DATASTORE filetype DATASTORE provider  ...  \\\n0         GEO  public                sra         gs,ncbi,s3  ...   \n1         GEO  public                sra         gs,ncbi,s3  ...   \n2         GEO  public                sra         gs,ncbi,s3  ...   \n3         GEO  public                sra         gs,ncbi,s3  ...   \n4         GEO  public                sra         gs,ncbi,s3  ...   \n\n                              tissue_source  gender  rin              Age  \\\n0  Facility of Linkoping University, Sweden  female  9.4  ~1 year\\, adult   \n1  Facility of Linkoping University, Sweden    male  9.1  ~1 year\\, adult   \n2  Facility of Linkoping University, Sweden  female  9.6  ~1 year\\, adult   \n3  Facility of Linkoping University, Sweden    male  9.2  ~1 year\\, adult   \n4  Facility of Linkoping University, Sweden  female  9.0  ~1 year\\, adult   \n\n     Extraction  sex        sanitized_name         sanitized_name_with_run  \\\n0  Rneasy Lipid  NaN  GSM752557_gga_br_F_1  SRR306710_GSM752557_gga_br_F_1   \n1      Standard  NaN  GSM752558_gga_br_M_1  SRR306711_GSM752558_gga_br_M_1   \n2      Standard  NaN  GSM752559_gga_cb_F_1  SRR306712_GSM752559_gga_cb_F_1   \n3  Rneasy Lipid  NaN  GSM752560_gga_cb_M_1  SRR306713_GSM752560_gga_cb_M_1   \n4      Standard  NaN  GSM752561_gga_ht_F_1  SRR306714_GSM752561_gga_ht_F_1   \n\n   sex_cleaned      tissue  \n0       female       Brain  \n1         male       Brain  \n2       female  Cerebellum  \n3         male  Cerebellum  \n4       female       Heart  \n\n[5 rows x 37 columns]"
       },
       "execution_count": 3,
       "metadata": {},
       "output_type": "execute_result"
      }
     ],
     "persistentId": "c48df44d-4404-47f1-bda2-935d8c474f3c",
     "text": "ncbi_run_table_metadata = pd.read_csv(\"../metadata/brawand2011_metadata.csv\")\nprint(ncbi_run_table_metadata.shape)\nncbi_run_table_metadata.head()"
    },
    "executionTime": "2019-11-05T18:06:06.643Z"
   },
   {
    "cell": {
     "executionCount": 4,
     "executionEventId": "49c93d19-ff6a-4554-9e0d-caec6214f000",
     "hasError": false,
     "id": "c9cadf15-8e9d-42fd-8b29-7739534158bb",
     "outputs": [
      {
       "name": "stdout",
       "output_type": "stream",
       "text": "(149, 36)\n"
      },
      {
       "data": {
        "text/html": "<div>\n<style scoped>\n    .dataframe tbody tr th:only-of-type {\n        vertical-align: middle;\n    }\n\n    .dataframe tbody tr th {\n        vertical-align: top;\n    }\n\n    .dataframe thead th {\n        text-align: right;\n    }\n</style>\n<table border=\"1\" class=\"dataframe\">\n  <thead>\n    <tr style=\"text-align: right;\">\n      <th></th>\n      <th>Run</th>\n      <th>Assay Type</th>\n      <th>AvgSpotLen</th>\n      <th>BioProject</th>\n      <th>BioSample</th>\n      <th>Center Name</th>\n      <th>Consent</th>\n      <th>DATASTORE filetype</th>\n      <th>DATASTORE provider</th>\n      <th>DATASTORE region</th>\n      <th>...</th>\n      <th>tissue_source</th>\n      <th>gender</th>\n      <th>rin</th>\n      <th>Age</th>\n      <th>Extraction</th>\n      <th>sex</th>\n      <th>sanitized_name</th>\n      <th>sanitized_name_with_run</th>\n      <th>sex_cleaned</th>\n      <th>tissue</th>\n    </tr>\n  </thead>\n  <tbody>\n    <tr>\n      <td>0</td>\n      <td>SRR306710</td>\n      <td>RNA-Seq</td>\n      <td>76</td>\n      <td>PRJNA143627</td>\n      <td>SAMN00632119</td>\n      <td>GEO</td>\n      <td>public</td>\n      <td>sra</td>\n      <td>gs,ncbi,s3</td>\n      <td>gs.US,ncbi.public,s3.us-east-1</td>\n      <td>...</td>\n      <td>Facility of Linkoping University, Sweden</td>\n      <td>female</td>\n      <td>9.4</td>\n      <td>~1 year\\, adult</td>\n      <td>Rneasy Lipid</td>\n      <td>NaN</td>\n      <td>GSM752557_gga_br_F_1</td>\n      <td>SRR306710_GSM752557_gga_br_F_1</td>\n      <td>female</td>\n      <td>Brain</td>\n    </tr>\n    <tr>\n      <td>1</td>\n      <td>SRR306711</td>\n      <td>RNA-Seq</td>\n      <td>76</td>\n      <td>PRJNA143627</td>\n      <td>SAMN00632120</td>\n      <td>GEO</td>\n      <td>public</td>\n      <td>sra</td>\n      <td>gs,ncbi,s3</td>\n      <td>gs.US,ncbi.public,s3.us-east-1</td>\n      <td>...</td>\n      <td>Facility of Linkoping University, Sweden</td>\n      <td>male</td>\n      <td>9.1</td>\n      <td>~1 year\\, adult</td>\n      <td>Standard</td>\n      <td>NaN</td>\n      <td>GSM752558_gga_br_M_1</td>\n      <td>SRR306711_GSM752558_gga_br_M_1</td>\n      <td>male</td>\n      <td>Brain</td>\n    </tr>\n    <tr>\n      <td>2</td>\n      <td>SRR306712</td>\n      <td>RNA-Seq</td>\n      <td>76</td>\n      <td>PRJNA143627</td>\n      <td>SAMN00632121</td>\n      <td>GEO</td>\n      <td>public</td>\n      <td>sra</td>\n      <td>gs,ncbi,s3</td>\n      <td>gs.US,ncbi.public,s3.us-east-1</td>\n      <td>...</td>\n      <td>Facility of Linkoping University, Sweden</td>\n      <td>female</td>\n      <td>9.6</td>\n      <td>~1 year\\, adult</td>\n      <td>Standard</td>\n      <td>NaN</td>\n      <td>GSM752559_gga_cb_F_1</td>\n      <td>SRR306712_GSM752559_gga_cb_F_1</td>\n      <td>female</td>\n      <td>Cerebellum</td>\n    </tr>\n    <tr>\n      <td>3</td>\n      <td>SRR306713</td>\n      <td>RNA-Seq</td>\n      <td>76</td>\n      <td>PRJNA143627</td>\n      <td>SAMN00632122</td>\n      <td>GEO</td>\n      <td>public</td>\n      <td>sra</td>\n      <td>gs,ncbi,s3</td>\n      <td>gs.US,ncbi.public,s3.us-east-1</td>\n      <td>...</td>\n      <td>Facility of Linkoping University, Sweden</td>\n      <td>male</td>\n      <td>9.2</td>\n      <td>~1 year\\, adult</td>\n      <td>Rneasy Lipid</td>\n      <td>NaN</td>\n      <td>GSM752560_gga_cb_M_1</td>\n      <td>SRR306713_GSM752560_gga_cb_M_1</td>\n      <td>male</td>\n      <td>Cerebellum</td>\n    </tr>\n    <tr>\n      <td>4</td>\n      <td>SRR306714</td>\n      <td>RNA-Seq</td>\n      <td>76</td>\n      <td>PRJNA143627</td>\n      <td>SAMN00632123</td>\n      <td>GEO</td>\n      <td>public</td>\n      <td>sra</td>\n      <td>gs,ncbi,s3</td>\n      <td>gs.US,ncbi.public,s3.us-east-1</td>\n      <td>...</td>\n      <td>Facility of Linkoping University, Sweden</td>\n      <td>female</td>\n      <td>9.0</td>\n      <td>~1 year\\, adult</td>\n      <td>Standard</td>\n      <td>NaN</td>\n      <td>GSM752561_gga_ht_F_1</td>\n      <td>SRR306714_GSM752561_gga_ht_F_1</td>\n      <td>female</td>\n      <td>Heart</td>\n    </tr>\n  </tbody>\n</table>\n<p>5 rows × 36 columns</p>\n</div>",
        "text/plain": "         Run Assay Type  AvgSpotLen   BioProject     BioSample Center Name  \\\n0  SRR306710    RNA-Seq          76  PRJNA143627  SAMN00632119         GEO   \n1  SRR306711    RNA-Seq          76  PRJNA143627  SAMN00632120         GEO   \n2  SRR306712    RNA-Seq          76  PRJNA143627  SAMN00632121         GEO   \n3  SRR306713    RNA-Seq          76  PRJNA143627  SAMN00632122         GEO   \n4  SRR306714    RNA-Seq          76  PRJNA143627  SAMN00632123         GEO   \n\n  Consent DATASTORE filetype DATASTORE provider  \\\n0  public                sra         gs,ncbi,s3   \n1  public                sra         gs,ncbi,s3   \n2  public                sra         gs,ncbi,s3   \n3  public                sra         gs,ncbi,s3   \n4  public                sra         gs,ncbi,s3   \n\n                 DATASTORE region  ...  \\\n0  gs.US,ncbi.public,s3.us-east-1  ...   \n1  gs.US,ncbi.public,s3.us-east-1  ...   \n2  gs.US,ncbi.public,s3.us-east-1  ...   \n3  gs.US,ncbi.public,s3.us-east-1  ...   \n4  gs.US,ncbi.public,s3.us-east-1  ...   \n\n                              tissue_source  gender  rin              Age  \\\n0  Facility of Linkoping University, Sweden  female  9.4  ~1 year\\, adult   \n1  Facility of Linkoping University, Sweden    male  9.1  ~1 year\\, adult   \n2  Facility of Linkoping University, Sweden  female  9.6  ~1 year\\, adult   \n3  Facility of Linkoping University, Sweden    male  9.2  ~1 year\\, adult   \n4  Facility of Linkoping University, Sweden  female  9.0  ~1 year\\, adult   \n\n     Extraction  sex        sanitized_name         sanitized_name_with_run  \\\n0  Rneasy Lipid  NaN  GSM752557_gga_br_F_1  SRR306710_GSM752557_gga_br_F_1   \n1      Standard  NaN  GSM752558_gga_br_M_1  SRR306711_GSM752558_gga_br_M_1   \n2      Standard  NaN  GSM752559_gga_cb_F_1  SRR306712_GSM752559_gga_cb_F_1   \n3  Rneasy Lipid  NaN  GSM752560_gga_cb_M_1  SRR306713_GSM752560_gga_cb_M_1   \n4      Standard  NaN  GSM752561_gga_ht_F_1  SRR306714_GSM752561_gga_ht_F_1   \n\n   sex_cleaned      tissue  \n0       female       Brain  \n1         male       Brain  \n2       female  Cerebellum  \n3         male  Cerebellum  \n4       female       Heart  \n\n[5 rows x 36 columns]"
       },
       "execution_count": 4,
       "metadata": {},
       "output_type": "execute_result"
      }
     ],
     "persistentId": "c48df44d-4404-47f1-bda2-935d8c474f3c",
     "text": "ncbi_run_table_metadata = pd.read_csv(\"../metadata/brawand2011_metadata.csv\")\nprint(ncbi_run_table_metadata.shape)\nncbi_run_table_metadata.head()"
    },
    "executionTime": "2019-11-05T18:06:18.032Z"
   },
   {
    "cell": {
     "executionCount": 5,
     "executionEventId": "da373b6a-9629-49bb-adf6-6bc96b2d63cc",
     "hasError": false,
     "id": "d28f377b-b5b5-42b6-b0a3-712110296e4d",
     "outputs": [
      {
       "data": {
        "text/plain": "{'SRR306710',\n 'SRR306711',\n 'SRR306712',\n 'SRR306713',\n 'SRR306714',\n 'SRR306715',\n 'SRR306716',\n 'SRR306717',\n 'SRR306718',\n 'SRR306719',\n 'SRR306720',\n 'SRR306721',\n 'SRR306722',\n 'SRR306723',\n 'SRR306724',\n 'SRR306725',\n 'SRR306726',\n 'SRR306727',\n 'SRR306728',\n 'SRR306729',\n 'SRR306730',\n 'SRR306731',\n 'SRR306732',\n 'SRR306733',\n 'SRR306734',\n 'SRR306735',\n 'SRR306736',\n 'SRR306737',\n 'SRR306738',\n 'SRR306739',\n 'SRR306740',\n 'SRR306741',\n 'SRR306742',\n 'SRR306743',\n 'SRR306744',\n 'SRR306745',\n 'SRR306746',\n 'SRR306747',\n 'SRR306748',\n 'SRR306749',\n 'SRR306750',\n 'SRR306751',\n 'SRR306852'}"
       },
       "execution_count": 5,
       "metadata": {},
       "output_type": "execute_result"
      }
     ],
     "persistentId": "6ce1b168-1f44-4ee3-943c-3f012ad42bac",
     "text": "set(ncbi_run_table_metadata['Run']).difference(sra_explorer_metadata['sra_id'])"
    },
    "executionTime": "2019-11-05T18:06:46.785Z"
   },
   {
    "cell": {
     "executionCount": 6,
     "executionEventId": "dd619eba-2910-4cb2-bc72-011ce7aa8898",
     "hasError": false,
     "id": "d28f377b-b5b5-42b6-b0a3-712110296e4d",
     "outputs": [
      {
       "data": {
        "text/plain": "{'SRR306710',\n 'SRR306711',\n 'SRR306712',\n 'SRR306713',\n 'SRR306714',\n 'SRR306715',\n 'SRR306716',\n 'SRR306717',\n 'SRR306718',\n 'SRR306719',\n 'SRR306720',\n 'SRR306721',\n 'SRR306722',\n 'SRR306723',\n 'SRR306724',\n 'SRR306725',\n 'SRR306726',\n 'SRR306727',\n 'SRR306728',\n 'SRR306729',\n 'SRR306730',\n 'SRR306731',\n 'SRR306732',\n 'SRR306733',\n 'SRR306734',\n 'SRR306735',\n 'SRR306736',\n 'SRR306737',\n 'SRR306738',\n 'SRR306739',\n 'SRR306740',\n 'SRR306741',\n 'SRR306742',\n 'SRR306743',\n 'SRR306744',\n 'SRR306745',\n 'SRR306746',\n 'SRR306747',\n 'SRR306748',\n 'SRR306749',\n 'SRR306750',\n 'SRR306751',\n 'SRR306852'}"
       },
       "execution_count": 6,
       "metadata": {},
       "output_type": "execute_result"
      }
     ],
     "persistentId": "6ce1b168-1f44-4ee3-943c-3f012ad42bac",
     "text": "runs_not_in_sra_explorer = set(ncbi_run_table_metadata['Run']).difference(sra_explorer_metadata['sra_id'])\nruns_not_in_sra_explorer"
    },
    "executionTime": "2019-11-05T18:06:57.275Z"
   },
   {
    "cell": {
     "executionCount": 7,
     "executionEventId": "7773a0a7-1ec8-4fb1-99e6-bef6a5924b97",
     "hasError": false,
     "id": "d28f377b-b5b5-42b6-b0a3-712110296e4d",
     "outputs": [
      {
       "data": {
        "text/plain": "['SRR306736',\n 'SRR306727',\n 'SRR306852',\n 'SRR306744',\n 'SRR306726',\n 'SRR306741',\n 'SRR306731',\n 'SRR306747',\n 'SRR306710',\n 'SRR306713',\n 'SRR306749',\n 'SRR306720',\n 'SRR306745',\n 'SRR306737',\n 'SRR306748',\n 'SRR306722',\n 'SRR306716',\n 'SRR306717',\n 'SRR306719',\n 'SRR306739',\n 'SRR306723',\n 'SRR306734',\n 'SRR306718',\n 'SRR306729',\n 'SRR306750',\n 'SRR306711',\n 'SRR306715',\n 'SRR306712',\n 'SRR306725',\n 'SRR306743',\n 'SRR306746',\n 'SRR306730',\n 'SRR306732',\n 'SRR306724',\n 'SRR306733',\n 'SRR306721',\n 'SRR306738',\n 'SRR306751',\n 'SRR306742',\n 'SRR306714',\n 'SRR306728',\n 'SRR306740',\n 'SRR306735']"
       },
       "execution_count": 7,
       "metadata": {},
       "output_type": "execute_result"
      }
     ],
     "persistentId": "6ce1b168-1f44-4ee3-943c-3f012ad42bac",
     "text": "runs_not_in_sra_explorer = list(set(ncbi_run_table_metadata['Run']).difference(sra_explorer_metadata['sra_id']))\nruns_not_in_sra_explorer"
    },
    "executionTime": "2019-11-05T18:07:00.450Z"
   },
   {
    "cell": {
     "executionCount": 8,
     "executionEventId": "d521c65f-f837-4327-8de9-22d65f05db0f",
     "hasError": false,
     "id": "d28f377b-b5b5-42b6-b0a3-712110296e4d",
     "outputs": [
      {
       "data": {
        "text/plain": "43"
       },
       "execution_count": 8,
       "metadata": {},
       "output_type": "execute_result"
      }
     ],
     "persistentId": "6ce1b168-1f44-4ee3-943c-3f012ad42bac",
     "text": "runs_not_in_sra_explorer = list(set(ncbi_run_table_metadata['Run']).difference(sra_explorer_metadata['sra_id']))\nlen(runs_not_in_sra_explorer)"
    },
    "executionTime": "2019-11-05T18:07:02.979Z"
   },
   {
    "cell": {
     "executionCount": 9,
     "executionEventId": "33ededc1-03fd-4fcf-a439-1d347a5e57a8",
     "hasError": true,
     "id": "ad07a62f-d560-44e6-9336-c63539a7b32f",
     "outputs": [
      {
       "ename": "KeyError",
       "evalue": "\"None of [Index(['SRR306736', 'SRR306727', 'SRR306852', 'SRR306744', 'SRR306726',\\n       'SRR306741', 'SRR306731', 'SRR306747', 'SRR306710', 'SRR306713',\\n       'SRR306749', 'SRR306720', 'SRR306745', 'SRR306737', 'SRR306748',\\n       'SRR306722', 'SRR306716', 'SRR306717', 'SRR306719', 'SRR306739',\\n       'SRR306723', 'SRR306734', 'SRR306718', 'SRR306729', 'SRR306750',\\n       'SRR306711', 'SRR306715', 'SRR306712', 'SRR306725', 'SRR306743',\\n       'SRR306746', 'SRR306730', 'SRR306732', 'SRR306724', 'SRR306733',\\n       'SRR306721', 'SRR306738', 'SRR306751', 'SRR306742', 'SRR306714',\\n       'SRR306728', 'SRR306740', 'SRR306735'],\\n      dtype='object')] are in the [index]\"",
       "output_type": "error",
       "traceback": [
        "\u001b[0;31m---------------------------------------------------------------------------\u001b[0m",
        "\u001b[0;31mKeyError\u001b[0m                                  Traceback (most recent call last)",
        "\u001b[0;32m<ipython-input-9-7febff5d5b7e>\u001b[0m in \u001b[0;36m<module>\u001b[0;34m()\u001b[0m\n\u001b[0;32m----> 1\u001b[0;31m \u001b[0mncbi_run_table_metadata\u001b[0m\u001b[0;34m.\u001b[0m\u001b[0mloc\u001b[0m\u001b[0;34m[\u001b[0m\u001b[0mruns_not_in_sra_explorer\u001b[0m\u001b[0;34m]\u001b[0m\u001b[0;34m\u001b[0m\u001b[0;34m\u001b[0m\u001b[0m\n\u001b[0m",
        "\u001b[0;32m~/miniconda3/envs/kmer-hashing/lib/python3.6/site-packages/pandas/core/indexing.py\u001b[0m in \u001b[0;36m__getitem__\u001b[0;34m(self, key)\u001b[0m\n\u001b[1;32m   1422\u001b[0m \u001b[0;34m\u001b[0m\u001b[0m\n\u001b[1;32m   1423\u001b[0m             \u001b[0mmaybe_callable\u001b[0m \u001b[0;34m=\u001b[0m \u001b[0mcom\u001b[0m\u001b[0;34m.\u001b[0m\u001b[0mapply_if_callable\u001b[0m\u001b[0;34m(\u001b[0m\u001b[0mkey\u001b[0m\u001b[0;34m,\u001b[0m \u001b[0mself\u001b[0m\u001b[0;34m.\u001b[0m\u001b[0mobj\u001b[0m\u001b[0;34m)\u001b[0m\u001b[0;34m\u001b[0m\u001b[0;34m\u001b[0m\u001b[0m\n\u001b[0;32m-> 1424\u001b[0;31m             \u001b[0;32mreturn\u001b[0m \u001b[0mself\u001b[0m\u001b[0;34m.\u001b[0m\u001b[0m_getitem_axis\u001b[0m\u001b[0;34m(\u001b[0m\u001b[0mmaybe_callable\u001b[0m\u001b[0;34m,\u001b[0m \u001b[0maxis\u001b[0m\u001b[0;34m=\u001b[0m\u001b[0maxis\u001b[0m\u001b[0;34m)\u001b[0m\u001b[0;34m\u001b[0m\u001b[0;34m\u001b[0m\u001b[0m\n\u001b[0m\u001b[1;32m   1425\u001b[0m \u001b[0;34m\u001b[0m\u001b[0m\n\u001b[1;32m   1426\u001b[0m     \u001b[0;32mdef\u001b[0m \u001b[0m_is_scalar_access\u001b[0m\u001b[0;34m(\u001b[0m\u001b[0mself\u001b[0m\u001b[0;34m,\u001b[0m \u001b[0mkey\u001b[0m\u001b[0;34m:\u001b[0m \u001b[0mTuple\u001b[0m\u001b[0;34m)\u001b[0m\u001b[0;34m:\u001b[0m\u001b[0;34m\u001b[0m\u001b[0;34m\u001b[0m\u001b[0m\n",
        "\u001b[0;32m~/miniconda3/envs/kmer-hashing/lib/python3.6/site-packages/pandas/core/indexing.py\u001b[0m in \u001b[0;36m_getitem_axis\u001b[0;34m(self, key, axis)\u001b[0m\n\u001b[1;32m   1837\u001b[0m                     \u001b[0;32mraise\u001b[0m \u001b[0mValueError\u001b[0m\u001b[0;34m(\u001b[0m\u001b[0;34m\"Cannot index with multidimensional key\"\u001b[0m\u001b[0;34m)\u001b[0m\u001b[0;34m\u001b[0m\u001b[0;34m\u001b[0m\u001b[0m\n\u001b[1;32m   1838\u001b[0m \u001b[0;34m\u001b[0m\u001b[0m\n\u001b[0;32m-> 1839\u001b[0;31m                 \u001b[0;32mreturn\u001b[0m \u001b[0mself\u001b[0m\u001b[0;34m.\u001b[0m\u001b[0m_getitem_iterable\u001b[0m\u001b[0;34m(\u001b[0m\u001b[0mkey\u001b[0m\u001b[0;34m,\u001b[0m \u001b[0maxis\u001b[0m\u001b[0;34m=\u001b[0m\u001b[0maxis\u001b[0m\u001b[0;34m)\u001b[0m\u001b[0;34m\u001b[0m\u001b[0;34m\u001b[0m\u001b[0m\n\u001b[0m\u001b[1;32m   1840\u001b[0m \u001b[0;34m\u001b[0m\u001b[0m\n\u001b[1;32m   1841\u001b[0m             \u001b[0;31m# nested tuple slicing\u001b[0m\u001b[0;34m\u001b[0m\u001b[0;34m\u001b[0m\u001b[0;34m\u001b[0m\u001b[0m\n",
        "\u001b[0;32m~/miniconda3/envs/kmer-hashing/lib/python3.6/site-packages/pandas/core/indexing.py\u001b[0m in \u001b[0;36m_getitem_iterable\u001b[0;34m(self, key, axis)\u001b[0m\n\u001b[1;32m   1131\u001b[0m         \u001b[0;32melse\u001b[0m\u001b[0;34m:\u001b[0m\u001b[0;34m\u001b[0m\u001b[0;34m\u001b[0m\u001b[0m\n\u001b[1;32m   1132\u001b[0m             \u001b[0;31m# A collection of keys\u001b[0m\u001b[0;34m\u001b[0m\u001b[0;34m\u001b[0m\u001b[0;34m\u001b[0m\u001b[0m\n\u001b[0;32m-> 1133\u001b[0;31m             \u001b[0mkeyarr\u001b[0m\u001b[0;34m,\u001b[0m \u001b[0mindexer\u001b[0m \u001b[0;34m=\u001b[0m \u001b[0mself\u001b[0m\u001b[0;34m.\u001b[0m\u001b[0m_get_listlike_indexer\u001b[0m\u001b[0;34m(\u001b[0m\u001b[0mkey\u001b[0m\u001b[0;34m,\u001b[0m \u001b[0maxis\u001b[0m\u001b[0;34m,\u001b[0m \u001b[0mraise_missing\u001b[0m\u001b[0;34m=\u001b[0m\u001b[0;32mFalse\u001b[0m\u001b[0;34m)\u001b[0m\u001b[0;34m\u001b[0m\u001b[0;34m\u001b[0m\u001b[0m\n\u001b[0m\u001b[1;32m   1134\u001b[0m             return self.obj._reindex_with_indexers(\n\u001b[1;32m   1135\u001b[0m                 \u001b[0;34m{\u001b[0m\u001b[0maxis\u001b[0m\u001b[0;34m:\u001b[0m \u001b[0;34m[\u001b[0m\u001b[0mkeyarr\u001b[0m\u001b[0;34m,\u001b[0m \u001b[0mindexer\u001b[0m\u001b[0;34m]\u001b[0m\u001b[0;34m}\u001b[0m\u001b[0;34m,\u001b[0m \u001b[0mcopy\u001b[0m\u001b[0;34m=\u001b[0m\u001b[0;32mTrue\u001b[0m\u001b[0;34m,\u001b[0m \u001b[0mallow_dups\u001b[0m\u001b[0;34m=\u001b[0m\u001b[0;32mTrue\u001b[0m\u001b[0;34m\u001b[0m\u001b[0;34m\u001b[0m\u001b[0m\n",
        "\u001b[0;32m~/miniconda3/envs/kmer-hashing/lib/python3.6/site-packages/pandas/core/indexing.py\u001b[0m in \u001b[0;36m_get_listlike_indexer\u001b[0;34m(self, key, axis, raise_missing)\u001b[0m\n\u001b[1;32m   1090\u001b[0m \u001b[0;34m\u001b[0m\u001b[0m\n\u001b[1;32m   1091\u001b[0m         self._validate_read_indexer(\n\u001b[0;32m-> 1092\u001b[0;31m             \u001b[0mkeyarr\u001b[0m\u001b[0;34m,\u001b[0m \u001b[0mindexer\u001b[0m\u001b[0;34m,\u001b[0m \u001b[0mo\u001b[0m\u001b[0;34m.\u001b[0m\u001b[0m_get_axis_number\u001b[0m\u001b[0;34m(\u001b[0m\u001b[0maxis\u001b[0m\u001b[0;34m)\u001b[0m\u001b[0;34m,\u001b[0m \u001b[0mraise_missing\u001b[0m\u001b[0;34m=\u001b[0m\u001b[0mraise_missing\u001b[0m\u001b[0;34m\u001b[0m\u001b[0;34m\u001b[0m\u001b[0m\n\u001b[0m\u001b[1;32m   1093\u001b[0m         )\n\u001b[1;32m   1094\u001b[0m         \u001b[0;32mreturn\u001b[0m \u001b[0mkeyarr\u001b[0m\u001b[0;34m,\u001b[0m \u001b[0mindexer\u001b[0m\u001b[0;34m\u001b[0m\u001b[0;34m\u001b[0m\u001b[0m\n",
        "\u001b[0;32m~/miniconda3/envs/kmer-hashing/lib/python3.6/site-packages/pandas/core/indexing.py\u001b[0m in \u001b[0;36m_validate_read_indexer\u001b[0;34m(self, key, indexer, axis, raise_missing)\u001b[0m\n\u001b[1;32m   1175\u001b[0m                 raise KeyError(\n\u001b[1;32m   1176\u001b[0m                     \"None of [{key}] are in the [{axis}]\".format(\n\u001b[0;32m-> 1177\u001b[0;31m                         \u001b[0mkey\u001b[0m\u001b[0;34m=\u001b[0m\u001b[0mkey\u001b[0m\u001b[0;34m,\u001b[0m \u001b[0maxis\u001b[0m\u001b[0;34m=\u001b[0m\u001b[0mself\u001b[0m\u001b[0;34m.\u001b[0m\u001b[0mobj\u001b[0m\u001b[0;34m.\u001b[0m\u001b[0m_get_axis_name\u001b[0m\u001b[0;34m(\u001b[0m\u001b[0maxis\u001b[0m\u001b[0;34m)\u001b[0m\u001b[0;34m\u001b[0m\u001b[0;34m\u001b[0m\u001b[0m\n\u001b[0m\u001b[1;32m   1178\u001b[0m                     )\n\u001b[1;32m   1179\u001b[0m                 )\n",
        "\u001b[0;31mKeyError\u001b[0m: \"None of [Index(['SRR306736', 'SRR306727', 'SRR306852', 'SRR306744', 'SRR306726',\\n       'SRR306741', 'SRR306731', 'SRR306747', 'SRR306710', 'SRR306713',\\n       'SRR306749', 'SRR306720', 'SRR306745', 'SRR306737', 'SRR306748',\\n       'SRR306722', 'SRR306716', 'SRR306717', 'SRR306719', 'SRR306739',\\n       'SRR306723', 'SRR306734', 'SRR306718', 'SRR306729', 'SRR306750',\\n       'SRR306711', 'SRR306715', 'SRR306712', 'SRR306725', 'SRR306743',\\n       'SRR306746', 'SRR306730', 'SRR306732', 'SRR306724', 'SRR306733',\\n       'SRR306721', 'SRR306738', 'SRR306751', 'SRR306742', 'SRR306714',\\n       'SRR306728', 'SRR306740', 'SRR306735'],\\n      dtype='object')] are in the [index]\""
       ]
      }
     ],
     "persistentId": "0c06982b-0cfe-4548-8d9f-74460ca65709",
     "text": "ncbi_run_table_metadata.loc[runs_not_in_sra_explorer]"
    },
    "executionTime": "2019-11-05T18:07:09.494Z"
   },
   {
    "cell": {
     "executionCount": 10,
     "executionEventId": "906c4e46-088f-4af1-b355-37a8699ec562",
     "hasError": false,
     "id": "c9cadf15-8e9d-42fd-8b29-7739534158bb",
     "outputs": [
      {
       "name": "stdout",
       "output_type": "stream",
       "text": "(149, 35)\n"
      },
      {
       "data": {
        "text/html": "<div>\n<style scoped>\n    .dataframe tbody tr th:only-of-type {\n        vertical-align: middle;\n    }\n\n    .dataframe tbody tr th {\n        vertical-align: top;\n    }\n\n    .dataframe thead th {\n        text-align: right;\n    }\n</style>\n<table border=\"1\" class=\"dataframe\">\n  <thead>\n    <tr style=\"text-align: right;\">\n      <th></th>\n      <th>Assay Type</th>\n      <th>AvgSpotLen</th>\n      <th>BioProject</th>\n      <th>BioSample</th>\n      <th>Center Name</th>\n      <th>Consent</th>\n      <th>DATASTORE filetype</th>\n      <th>DATASTORE provider</th>\n      <th>DATASTORE region</th>\n      <th>Experiment</th>\n      <th>...</th>\n      <th>tissue_source</th>\n      <th>gender</th>\n      <th>rin</th>\n      <th>Age</th>\n      <th>Extraction</th>\n      <th>sex</th>\n      <th>sanitized_name</th>\n      <th>sanitized_name_with_run</th>\n      <th>sex_cleaned</th>\n      <th>tissue</th>\n    </tr>\n    <tr>\n      <th>Run</th>\n      <th></th>\n      <th></th>\n      <th></th>\n      <th></th>\n      <th></th>\n      <th></th>\n      <th></th>\n      <th></th>\n      <th></th>\n      <th></th>\n      <th></th>\n      <th></th>\n      <th></th>\n      <th></th>\n      <th></th>\n      <th></th>\n      <th></th>\n      <th></th>\n      <th></th>\n      <th></th>\n      <th></th>\n    </tr>\n  </thead>\n  <tbody>\n    <tr>\n      <td>SRR306710</td>\n      <td>RNA-Seq</td>\n      <td>76</td>\n      <td>PRJNA143627</td>\n      <td>SAMN00632119</td>\n      <td>GEO</td>\n      <td>public</td>\n      <td>sra</td>\n      <td>gs,ncbi,s3</td>\n      <td>gs.US,ncbi.public,s3.us-east-1</td>\n      <td>SRX081869</td>\n      <td>...</td>\n      <td>Facility of Linkoping University, Sweden</td>\n      <td>female</td>\n      <td>9.4</td>\n      <td>~1 year\\, adult</td>\n      <td>Rneasy Lipid</td>\n      <td>NaN</td>\n      <td>GSM752557_gga_br_F_1</td>\n      <td>SRR306710_GSM752557_gga_br_F_1</td>\n      <td>female</td>\n      <td>Brain</td>\n    </tr>\n    <tr>\n      <td>SRR306711</td>\n      <td>RNA-Seq</td>\n      <td>76</td>\n      <td>PRJNA143627</td>\n      <td>SAMN00632120</td>\n      <td>GEO</td>\n      <td>public</td>\n      <td>sra</td>\n      <td>gs,ncbi,s3</td>\n      <td>gs.US,ncbi.public,s3.us-east-1</td>\n      <td>SRX081870</td>\n      <td>...</td>\n      <td>Facility of Linkoping University, Sweden</td>\n      <td>male</td>\n      <td>9.1</td>\n      <td>~1 year\\, adult</td>\n      <td>Standard</td>\n      <td>NaN</td>\n      <td>GSM752558_gga_br_M_1</td>\n      <td>SRR306711_GSM752558_gga_br_M_1</td>\n      <td>male</td>\n      <td>Brain</td>\n    </tr>\n    <tr>\n      <td>SRR306712</td>\n      <td>RNA-Seq</td>\n      <td>76</td>\n      <td>PRJNA143627</td>\n      <td>SAMN00632121</td>\n      <td>GEO</td>\n      <td>public</td>\n      <td>sra</td>\n      <td>gs,ncbi,s3</td>\n      <td>gs.US,ncbi.public,s3.us-east-1</td>\n      <td>SRX081871</td>\n      <td>...</td>\n      <td>Facility of Linkoping University, Sweden</td>\n      <td>female</td>\n      <td>9.6</td>\n      <td>~1 year\\, adult</td>\n      <td>Standard</td>\n      <td>NaN</td>\n      <td>GSM752559_gga_cb_F_1</td>\n      <td>SRR306712_GSM752559_gga_cb_F_1</td>\n      <td>female</td>\n      <td>Cerebellum</td>\n    </tr>\n    <tr>\n      <td>SRR306713</td>\n      <td>RNA-Seq</td>\n      <td>76</td>\n      <td>PRJNA143627</td>\n      <td>SAMN00632122</td>\n      <td>GEO</td>\n      <td>public</td>\n      <td>sra</td>\n      <td>gs,ncbi,s3</td>\n      <td>gs.US,ncbi.public,s3.us-east-1</td>\n      <td>SRX081872</td>\n      <td>...</td>\n      <td>Facility of Linkoping University, Sweden</td>\n      <td>male</td>\n      <td>9.2</td>\n      <td>~1 year\\, adult</td>\n      <td>Rneasy Lipid</td>\n      <td>NaN</td>\n      <td>GSM752560_gga_cb_M_1</td>\n      <td>SRR306713_GSM752560_gga_cb_M_1</td>\n      <td>male</td>\n      <td>Cerebellum</td>\n    </tr>\n    <tr>\n      <td>SRR306714</td>\n      <td>RNA-Seq</td>\n      <td>76</td>\n      <td>PRJNA143627</td>\n      <td>SAMN00632123</td>\n      <td>GEO</td>\n      <td>public</td>\n      <td>sra</td>\n      <td>gs,ncbi,s3</td>\n      <td>gs.US,ncbi.public,s3.us-east-1</td>\n      <td>SRX081873</td>\n      <td>...</td>\n      <td>Facility of Linkoping University, Sweden</td>\n      <td>female</td>\n      <td>9.0</td>\n      <td>~1 year\\, adult</td>\n      <td>Standard</td>\n      <td>NaN</td>\n      <td>GSM752561_gga_ht_F_1</td>\n      <td>SRR306714_GSM752561_gga_ht_F_1</td>\n      <td>female</td>\n      <td>Heart</td>\n    </tr>\n  </tbody>\n</table>\n<p>5 rows × 35 columns</p>\n</div>",
        "text/plain": "          Assay Type  AvgSpotLen   BioProject     BioSample Center Name  \\\nRun                                                                       \nSRR306710    RNA-Seq          76  PRJNA143627  SAMN00632119         GEO   \nSRR306711    RNA-Seq          76  PRJNA143627  SAMN00632120         GEO   \nSRR306712    RNA-Seq          76  PRJNA143627  SAMN00632121         GEO   \nSRR306713    RNA-Seq          76  PRJNA143627  SAMN00632122         GEO   \nSRR306714    RNA-Seq          76  PRJNA143627  SAMN00632123         GEO   \n\n          Consent DATASTORE filetype DATASTORE provider  \\\nRun                                                       \nSRR306710  public                sra         gs,ncbi,s3   \nSRR306711  public                sra         gs,ncbi,s3   \nSRR306712  public                sra         gs,ncbi,s3   \nSRR306713  public                sra         gs,ncbi,s3   \nSRR306714  public                sra         gs,ncbi,s3   \n\n                         DATASTORE region Experiment  ...  \\\nRun                                                   ...   \nSRR306710  gs.US,ncbi.public,s3.us-east-1  SRX081869  ...   \nSRR306711  gs.US,ncbi.public,s3.us-east-1  SRX081870  ...   \nSRR306712  gs.US,ncbi.public,s3.us-east-1  SRX081871  ...   \nSRR306713  gs.US,ncbi.public,s3.us-east-1  SRX081872  ...   \nSRR306714  gs.US,ncbi.public,s3.us-east-1  SRX081873  ...   \n\n                                      tissue_source  gender  rin  \\\nRun                                                                \nSRR306710  Facility of Linkoping University, Sweden  female  9.4   \nSRR306711  Facility of Linkoping University, Sweden    male  9.1   \nSRR306712  Facility of Linkoping University, Sweden  female  9.6   \nSRR306713  Facility of Linkoping University, Sweden    male  9.2   \nSRR306714  Facility of Linkoping University, Sweden  female  9.0   \n\n                       Age    Extraction  sex        sanitized_name  \\\nRun                                                                   \nSRR306710  ~1 year\\, adult  Rneasy Lipid  NaN  GSM752557_gga_br_F_1   \nSRR306711  ~1 year\\, adult      Standard  NaN  GSM752558_gga_br_M_1   \nSRR306712  ~1 year\\, adult      Standard  NaN  GSM752559_gga_cb_F_1   \nSRR306713  ~1 year\\, adult  Rneasy Lipid  NaN  GSM752560_gga_cb_M_1   \nSRR306714  ~1 year\\, adult      Standard  NaN  GSM752561_gga_ht_F_1   \n\n                  sanitized_name_with_run sex_cleaned      tissue  \nRun                                                                \nSRR306710  SRR306710_GSM752557_gga_br_F_1      female       Brain  \nSRR306711  SRR306711_GSM752558_gga_br_M_1        male       Brain  \nSRR306712  SRR306712_GSM752559_gga_cb_F_1      female  Cerebellum  \nSRR306713  SRR306713_GSM752560_gga_cb_M_1        male  Cerebellum  \nSRR306714  SRR306714_GSM752561_gga_ht_F_1      female       Heart  \n\n[5 rows x 35 columns]"
       },
       "execution_count": 10,
       "metadata": {},
       "output_type": "execute_result"
      }
     ],
     "persistentId": "c48df44d-4404-47f1-bda2-935d8c474f3c",
     "text": "ncbi_run_table_metadata = pd.read_csv(\"../metadata/brawand2011_metadata.csv\", index_col=0)\nprint(ncbi_run_table_metadata.shape)\nncbi_run_table_metadata.head()"
    },
    "executionTime": "2019-11-05T18:07:15.180Z"
   },
   {
    "cell": {
     "executionCount": 11,
     "executionEventId": "7b60f7e3-65df-4c4d-85a3-865eb6a87d4c",
     "hasError": false,
     "id": "d28f377b-b5b5-42b6-b0a3-712110296e4d",
     "outputs": [
      {
       "data": {
        "text/plain": "43"
       },
       "execution_count": 11,
       "metadata": {},
       "output_type": "execute_result"
      }
     ],
     "persistentId": "6ce1b168-1f44-4ee3-943c-3f012ad42bac",
     "text": "runs_not_in_sra_explorer = list(ncbi_run_table_metadata.index.difference(sra_explorer_metadata['sra_id']))\nlen(runs_not_in_sra_explorer)"
    },
    "executionTime": "2019-11-05T18:07:23.419Z"
   },
   {
    "cell": {
     "executionCount": 12,
     "executionEventId": "0bd6862a-c630-4dd4-b40f-10217d2de8fa",
     "hasError": false,
     "id": "ad07a62f-d560-44e6-9336-c63539a7b32f",
     "outputs": [
      {
       "data": {
        "text/html": "<div>\n<style scoped>\n    .dataframe tbody tr th:only-of-type {\n        vertical-align: middle;\n    }\n\n    .dataframe tbody tr th {\n        vertical-align: top;\n    }\n\n    .dataframe thead th {\n        text-align: right;\n    }\n</style>\n<table border=\"1\" class=\"dataframe\">\n  <thead>\n    <tr style=\"text-align: right;\">\n      <th></th>\n      <th>Assay Type</th>\n      <th>AvgSpotLen</th>\n      <th>BioProject</th>\n      <th>BioSample</th>\n      <th>Center Name</th>\n      <th>Consent</th>\n      <th>DATASTORE filetype</th>\n      <th>DATASTORE provider</th>\n      <th>DATASTORE region</th>\n      <th>Experiment</th>\n      <th>...</th>\n      <th>tissue_source</th>\n      <th>gender</th>\n      <th>rin</th>\n      <th>Age</th>\n      <th>Extraction</th>\n      <th>sex</th>\n      <th>sanitized_name</th>\n      <th>sanitized_name_with_run</th>\n      <th>sex_cleaned</th>\n      <th>tissue</th>\n    </tr>\n    <tr>\n      <th>Run</th>\n      <th></th>\n      <th></th>\n      <th></th>\n      <th></th>\n      <th></th>\n      <th></th>\n      <th></th>\n      <th></th>\n      <th></th>\n      <th></th>\n      <th></th>\n      <th></th>\n      <th></th>\n      <th></th>\n      <th></th>\n      <th></th>\n      <th></th>\n      <th></th>\n      <th></th>\n      <th></th>\n      <th></th>\n    </tr>\n  </thead>\n  <tbody>\n    <tr>\n      <td>SRR306710</td>\n      <td>RNA-Seq</td>\n      <td>76</td>\n      <td>PRJNA143627</td>\n      <td>SAMN00632119</td>\n      <td>GEO</td>\n      <td>public</td>\n      <td>sra</td>\n      <td>gs,ncbi,s3</td>\n      <td>gs.US,ncbi.public,s3.us-east-1</td>\n      <td>SRX081869</td>\n      <td>...</td>\n      <td>Facility of Linkoping University, Sweden</td>\n      <td>female</td>\n      <td>9.4</td>\n      <td>~1 year\\, adult</td>\n      <td>Rneasy Lipid</td>\n      <td>NaN</td>\n      <td>GSM752557_gga_br_F_1</td>\n      <td>SRR306710_GSM752557_gga_br_F_1</td>\n      <td>female</td>\n      <td>Brain</td>\n    </tr>\n    <tr>\n      <td>SRR306711</td>\n      <td>RNA-Seq</td>\n      <td>76</td>\n      <td>PRJNA143627</td>\n      <td>SAMN00632120</td>\n      <td>GEO</td>\n      <td>public</td>\n      <td>sra</td>\n      <td>gs,ncbi,s3</td>\n      <td>gs.US,ncbi.public,s3.us-east-1</td>\n      <td>SRX081870</td>\n      <td>...</td>\n      <td>Facility of Linkoping University, Sweden</td>\n      <td>male</td>\n      <td>9.1</td>\n      <td>~1 year\\, adult</td>\n      <td>Standard</td>\n      <td>NaN</td>\n      <td>GSM752558_gga_br_M_1</td>\n      <td>SRR306711_GSM752558_gga_br_M_1</td>\n      <td>male</td>\n      <td>Brain</td>\n    </tr>\n    <tr>\n      <td>SRR306712</td>\n      <td>RNA-Seq</td>\n      <td>76</td>\n      <td>PRJNA143627</td>\n      <td>SAMN00632121</td>\n      <td>GEO</td>\n      <td>public</td>\n      <td>sra</td>\n      <td>gs,ncbi,s3</td>\n      <td>gs.US,ncbi.public,s3.us-east-1</td>\n      <td>SRX081871</td>\n      <td>...</td>\n      <td>Facility of Linkoping University, Sweden</td>\n      <td>female</td>\n      <td>9.6</td>\n      <td>~1 year\\, adult</td>\n      <td>Standard</td>\n      <td>NaN</td>\n      <td>GSM752559_gga_cb_F_1</td>\n      <td>SRR306712_GSM752559_gga_cb_F_1</td>\n      <td>female</td>\n      <td>Cerebellum</td>\n    </tr>\n    <tr>\n      <td>SRR306713</td>\n      <td>RNA-Seq</td>\n      <td>76</td>\n      <td>PRJNA143627</td>\n      <td>SAMN00632122</td>\n      <td>GEO</td>\n      <td>public</td>\n      <td>sra</td>\n      <td>gs,ncbi,s3</td>\n      <td>gs.US,ncbi.public,s3.us-east-1</td>\n      <td>SRX081872</td>\n      <td>...</td>\n      <td>Facility of Linkoping University, Sweden</td>\n      <td>male</td>\n      <td>9.2</td>\n      <td>~1 year\\, adult</td>\n      <td>Rneasy Lipid</td>\n      <td>NaN</td>\n      <td>GSM752560_gga_cb_M_1</td>\n      <td>SRR306713_GSM752560_gga_cb_M_1</td>\n      <td>male</td>\n      <td>Cerebellum</td>\n    </tr>\n    <tr>\n      <td>SRR306714</td>\n      <td>RNA-Seq</td>\n      <td>76</td>\n      <td>PRJNA143627</td>\n      <td>SAMN00632123</td>\n      <td>GEO</td>\n      <td>public</td>\n      <td>sra</td>\n      <td>gs,ncbi,s3</td>\n      <td>gs.US,ncbi.public,s3.us-east-1</td>\n      <td>SRX081873</td>\n      <td>...</td>\n      <td>Facility of Linkoping University, Sweden</td>\n      <td>female</td>\n      <td>9.0</td>\n      <td>~1 year\\, adult</td>\n      <td>Standard</td>\n      <td>NaN</td>\n      <td>GSM752561_gga_ht_F_1</td>\n      <td>SRR306714_GSM752561_gga_ht_F_1</td>\n      <td>female</td>\n      <td>Heart</td>\n    </tr>\n    <tr>\n      <td>SRR306715</td>\n      <td>RNA-Seq</td>\n      <td>76</td>\n      <td>PRJNA143627</td>\n      <td>SAMN00632124</td>\n      <td>GEO</td>\n      <td>public</td>\n      <td>sra</td>\n      <td>gs,ncbi,s3</td>\n      <td>gs.US,ncbi.public,s3.us-east-1</td>\n      <td>SRX081874</td>\n      <td>...</td>\n      <td>Facility of Linkoping University, Sweden</td>\n      <td>male</td>\n      <td>NaN</td>\n      <td>~1 year\\, adult</td>\n      <td>Standard</td>\n      <td>NaN</td>\n      <td>GSM752562_gga_ht_M_1</td>\n      <td>SRR306715_GSM752562_gga_ht_M_1</td>\n      <td>male</td>\n      <td>Heart</td>\n    </tr>\n    <tr>\n      <td>SRR306716</td>\n      <td>RNA-Seq</td>\n      <td>76</td>\n      <td>PRJNA143627</td>\n      <td>SAMN00632125</td>\n      <td>GEO</td>\n      <td>public</td>\n      <td>sra</td>\n      <td>gs,ncbi,s3</td>\n      <td>gs.US,ncbi.public,s3.us-east-1</td>\n      <td>SRX081875</td>\n      <td>...</td>\n      <td>Facility of Linkoping University, Sweden</td>\n      <td>female</td>\n      <td>9.3</td>\n      <td>~1 year\\, adult</td>\n      <td>Standard</td>\n      <td>NaN</td>\n      <td>GSM752563_gga_kd_F_1</td>\n      <td>SRR306716_GSM752563_gga_kd_F_1</td>\n      <td>female</td>\n      <td>Kidney</td>\n    </tr>\n    <tr>\n      <td>SRR306717</td>\n      <td>RNA-Seq</td>\n      <td>76</td>\n      <td>PRJNA143627</td>\n      <td>SAMN00632126</td>\n      <td>GEO</td>\n      <td>public</td>\n      <td>sra</td>\n      <td>gs,ncbi,s3</td>\n      <td>gs.US,ncbi.public,s3.us-east-1</td>\n      <td>SRX081876</td>\n      <td>...</td>\n      <td>Facility of Linkoping University, Sweden</td>\n      <td>male</td>\n      <td>9.1</td>\n      <td>~1 year\\, adult</td>\n      <td>Standard</td>\n      <td>NaN</td>\n      <td>GSM752564_gga_kd_M_1</td>\n      <td>SRR306717_GSM752564_gga_kd_M_1</td>\n      <td>male</td>\n      <td>Kidney</td>\n    </tr>\n    <tr>\n      <td>SRR306718</td>\n      <td>RNA-Seq</td>\n      <td>76</td>\n      <td>PRJNA143627</td>\n      <td>SAMN00632127</td>\n      <td>GEO</td>\n      <td>public</td>\n      <td>sra</td>\n      <td>gs,ncbi,s3</td>\n      <td>gs.US,ncbi.public,s3.us-east-1</td>\n      <td>SRX081877</td>\n      <td>...</td>\n      <td>Facility of Linkoping University, Sweden</td>\n      <td>female</td>\n      <td>8.9</td>\n      <td>~1 year\\, adult</td>\n      <td>Standard</td>\n      <td>NaN</td>\n      <td>GSM752565_gga_lv_F_1</td>\n      <td>SRR306718_GSM752565_gga_lv_F_1</td>\n      <td>female</td>\n      <td>Liver</td>\n    </tr>\n    <tr>\n      <td>SRR306719</td>\n      <td>RNA-Seq</td>\n      <td>76</td>\n      <td>PRJNA143627</td>\n      <td>SAMN00632128</td>\n      <td>GEO</td>\n      <td>public</td>\n      <td>sra</td>\n      <td>gs,ncbi,s3</td>\n      <td>gs.US,ncbi.public,s3.us-east-1</td>\n      <td>SRX081878</td>\n      <td>...</td>\n      <td>Facility of Linkoping University, Sweden</td>\n      <td>male</td>\n      <td>9.2</td>\n      <td>~1 year\\, adult</td>\n      <td>Standard</td>\n      <td>NaN</td>\n      <td>GSM752566_gga_lv_M_1</td>\n      <td>SRR306719_GSM752566_gga_lv_M_1</td>\n      <td>male</td>\n      <td>Liver</td>\n    </tr>\n    <tr>\n      <td>SRR306720</td>\n      <td>RNA-Seq</td>\n      <td>76</td>\n      <td>PRJNA143627</td>\n      <td>SAMN00632128</td>\n      <td>GEO</td>\n      <td>public</td>\n      <td>sra</td>\n      <td>gs,ncbi,s3</td>\n      <td>gs.US,ncbi.public,s3.us-east-1</td>\n      <td>SRX081878</td>\n      <td>...</td>\n      <td>Facility of Linkoping University, Sweden</td>\n      <td>male</td>\n      <td>9.2</td>\n      <td>~1 year\\, adult</td>\n      <td>Standard</td>\n      <td>NaN</td>\n      <td>GSM752566_gga_lv_M_1</td>\n      <td>SRR306720_GSM752566_gga_lv_M_1</td>\n      <td>male</td>\n      <td>Liver</td>\n    </tr>\n    <tr>\n      <td>SRR306721</td>\n      <td>RNA-Seq</td>\n      <td>76</td>\n      <td>PRJNA143627</td>\n      <td>SAMN00632129</td>\n      <td>GEO</td>\n      <td>public</td>\n      <td>sra</td>\n      <td>gs,ncbi,s3</td>\n      <td>gs.US,ncbi.public,s3.us-east-1</td>\n      <td>SRX081879</td>\n      <td>...</td>\n      <td>Facility of Linkoping University, Sweden</td>\n      <td>male</td>\n      <td>8.6</td>\n      <td>~1 year\\, adult</td>\n      <td>Standard</td>\n      <td>NaN</td>\n      <td>GSM752567_gga_ts_M_1</td>\n      <td>SRR306721_GSM752567_gga_ts_M_1</td>\n      <td>male</td>\n      <td>Testis</td>\n    </tr>\n    <tr>\n      <td>SRR306722</td>\n      <td>RNA-Seq</td>\n      <td>76</td>\n      <td>PRJNA143627</td>\n      <td>SAMN00632129</td>\n      <td>GEO</td>\n      <td>public</td>\n      <td>sra</td>\n      <td>gs,ncbi,s3</td>\n      <td>gs.US,ncbi.public,s3.us-east-1</td>\n      <td>SRX081879</td>\n      <td>...</td>\n      <td>Facility of Linkoping University, Sweden</td>\n      <td>male</td>\n      <td>8.6</td>\n      <td>~1 year\\, adult</td>\n      <td>Standard</td>\n      <td>NaN</td>\n      <td>GSM752567_gga_ts_M_1</td>\n      <td>SRR306722_GSM752567_gga_ts_M_1</td>\n      <td>male</td>\n      <td>Testis</td>\n    </tr>\n    <tr>\n      <td>SRR306723</td>\n      <td>RNA-Seq</td>\n      <td>76</td>\n      <td>PRJNA143627</td>\n      <td>SAMN00632130</td>\n      <td>GEO</td>\n      <td>public</td>\n      <td>sra</td>\n      <td>gs,ncbi,s3</td>\n      <td>gs.US,ncbi.public,s3.us-east-1</td>\n      <td>SRX081880</td>\n      <td>...</td>\n      <td>Facility of Linkoping University, Sweden</td>\n      <td>male</td>\n      <td>8.9</td>\n      <td>~1 year\\, adult</td>\n      <td>Standard</td>\n      <td>NaN</td>\n      <td>GSM752568_gga_ts_M_2</td>\n      <td>SRR306723_GSM752568_gga_ts_M_2</td>\n      <td>male</td>\n      <td>Testis</td>\n    </tr>\n    <tr>\n      <td>SRR306724</td>\n      <td>RNA-Seq</td>\n      <td>76</td>\n      <td>PRJNA143627</td>\n      <td>SAMN00632131</td>\n      <td>GEO</td>\n      <td>public</td>\n      <td>sra</td>\n      <td>gs,ncbi,s3</td>\n      <td>gs.US,ncbi.public,s3.us-east-1</td>\n      <td>SRX081881</td>\n      <td>...</td>\n      <td>Captured in New South Wales, Australia (provid...</td>\n      <td>female</td>\n      <td>6.9</td>\n      <td>adult</td>\n      <td>Standard</td>\n      <td>NaN</td>\n      <td>GSM752569_oan_br_F_1</td>\n      <td>SRR306724_GSM752569_oan_br_F_1</td>\n      <td>female</td>\n      <td>Brain</td>\n    </tr>\n    <tr>\n      <td>SRR306725</td>\n      <td>RNA-Seq</td>\n      <td>76</td>\n      <td>PRJNA143627</td>\n      <td>SAMN00632131</td>\n      <td>GEO</td>\n      <td>public</td>\n      <td>sra</td>\n      <td>gs,ncbi,s3</td>\n      <td>gs.US,ncbi.public,s3.us-east-1</td>\n      <td>SRX081881</td>\n      <td>...</td>\n      <td>Captured in New South Wales, Australia (provid...</td>\n      <td>female</td>\n      <td>6.9</td>\n      <td>adult</td>\n      <td>Standard</td>\n      <td>NaN</td>\n      <td>GSM752569_oan_br_F_1</td>\n      <td>SRR306725_GSM752569_oan_br_F_1</td>\n      <td>female</td>\n      <td>Brain</td>\n    </tr>\n    <tr>\n      <td>SRR306726</td>\n      <td>RNA-Seq</td>\n      <td>76</td>\n      <td>PRJNA143627</td>\n      <td>SAMN00632132</td>\n      <td>GEO</td>\n      <td>public</td>\n      <td>sra</td>\n      <td>gs,ncbi,s3</td>\n      <td>gs.US,ncbi.public,s3.us-east-1</td>\n      <td>SRX081882</td>\n      <td>...</td>\n      <td>Captured in New South Wales, Australia (provid...</td>\n      <td>male</td>\n      <td>7.3</td>\n      <td>adult</td>\n      <td>Standard</td>\n      <td>NaN</td>\n      <td>GSM752570_oan_br_M_1</td>\n      <td>SRR306726_GSM752570_oan_br_M_1</td>\n      <td>male</td>\n      <td>Brain</td>\n    </tr>\n    <tr>\n      <td>SRR306727</td>\n      <td>RNA-Seq</td>\n      <td>76</td>\n      <td>PRJNA143627</td>\n      <td>SAMN00632132</td>\n      <td>GEO</td>\n      <td>public</td>\n      <td>sra</td>\n      <td>gs,ncbi,s3</td>\n      <td>gs.US,ncbi.public,s3.us-east-1</td>\n      <td>SRX081882</td>\n      <td>...</td>\n      <td>Captured in New South Wales, Australia (provid...</td>\n      <td>male</td>\n      <td>7.3</td>\n      <td>adult</td>\n      <td>Standard</td>\n      <td>NaN</td>\n      <td>GSM752570_oan_br_M_1</td>\n      <td>SRR306727_GSM752570_oan_br_M_1</td>\n      <td>male</td>\n      <td>Brain</td>\n    </tr>\n    <tr>\n      <td>SRR306728</td>\n      <td>RNA-Seq</td>\n      <td>76</td>\n      <td>PRJNA143627</td>\n      <td>SAMN00632133</td>\n      <td>GEO</td>\n      <td>public</td>\n      <td>sra</td>\n      <td>gs,ncbi,s3</td>\n      <td>gs.US,ncbi.public,s3.us-east-1</td>\n      <td>SRX081883</td>\n      <td>...</td>\n      <td>Captured in New South Wales, Australia (provid...</td>\n      <td>female</td>\n      <td>8.3</td>\n      <td>adult</td>\n      <td>Standard</td>\n      <td>NaN</td>\n      <td>GSM752571_oan_cb_F_1</td>\n      <td>SRR306728_GSM752571_oan_cb_F_1</td>\n      <td>female</td>\n      <td>Cerebellum</td>\n    </tr>\n    <tr>\n      <td>SRR306729</td>\n      <td>RNA-Seq</td>\n      <td>76</td>\n      <td>PRJNA143627</td>\n      <td>SAMN00632134</td>\n      <td>GEO</td>\n      <td>public</td>\n      <td>sra</td>\n      <td>gs,ncbi,s3</td>\n      <td>gs.US,ncbi.public,s3.us-east-1</td>\n      <td>SRX081884</td>\n      <td>...</td>\n      <td>Captured in New South Wales, Australia (provid...</td>\n      <td>male</td>\n      <td>7.3</td>\n      <td>adult</td>\n      <td>Standard</td>\n      <td>NaN</td>\n      <td>GSM752572_oan_cb_M_1</td>\n      <td>SRR306729_GSM752572_oan_cb_M_1</td>\n      <td>male</td>\n      <td>Cerebellum</td>\n    </tr>\n    <tr>\n      <td>SRR306730</td>\n      <td>RNA-Seq</td>\n      <td>76</td>\n      <td>PRJNA143627</td>\n      <td>SAMN00632135</td>\n      <td>GEO</td>\n      <td>public</td>\n      <td>sra</td>\n      <td>gs,ncbi,s3</td>\n      <td>gs.US,ncbi.public,s3.us-east-1</td>\n      <td>SRX081885</td>\n      <td>...</td>\n      <td>Captured in New South Wales, Australia (provid...</td>\n      <td>female</td>\n      <td>7.8</td>\n      <td>adult</td>\n      <td>Standard</td>\n      <td>NaN</td>\n      <td>GSM752573_oan_ht_F_1</td>\n      <td>SRR306730_GSM752573_oan_ht_F_1</td>\n      <td>female</td>\n      <td>Heart</td>\n    </tr>\n    <tr>\n      <td>SRR306731</td>\n      <td>RNA-Seq</td>\n      <td>76</td>\n      <td>PRJNA143627</td>\n      <td>SAMN00632136</td>\n      <td>GEO</td>\n      <td>public</td>\n      <td>sra</td>\n      <td>gs,ncbi,s3</td>\n      <td>gs.US,ncbi.public,s3.us-east-1</td>\n      <td>SRX081886</td>\n      <td>...</td>\n      <td>Captured in New South Wales, Australia (provid...</td>\n      <td>male</td>\n      <td>7.3</td>\n      <td>adult</td>\n      <td>Standard</td>\n      <td>NaN</td>\n      <td>GSM752575_oan_ht_M_1</td>\n      <td>SRR306731_GSM752575_oan_ht_M_1</td>\n      <td>male</td>\n      <td>Heart</td>\n    </tr>\n    <tr>\n      <td>SRR306732</td>\n      <td>RNA-Seq</td>\n      <td>76</td>\n      <td>PRJNA143627</td>\n      <td>SAMN00632137</td>\n      <td>GEO</td>\n      <td>public</td>\n      <td>sra</td>\n      <td>gs,ncbi,s3</td>\n      <td>gs.US,ncbi.public,s3.us-east-1</td>\n      <td>SRX081887</td>\n      <td>...</td>\n      <td>Captured in New South Wales, Australia (provid...</td>\n      <td>female</td>\n      <td>9.0</td>\n      <td>adult</td>\n      <td>Standard</td>\n      <td>NaN</td>\n      <td>GSM752576_oan_kd_F_1</td>\n      <td>SRR306732_GSM752576_oan_kd_F_1</td>\n      <td>female</td>\n      <td>Kidney</td>\n    </tr>\n    <tr>\n      <td>SRR306733</td>\n      <td>RNA-Seq</td>\n      <td>76</td>\n      <td>PRJNA143627</td>\n      <td>SAMN00632138</td>\n      <td>GEO</td>\n      <td>public</td>\n      <td>sra</td>\n      <td>gs,ncbi,s3</td>\n      <td>gs.US,ncbi.public,s3.us-east-1</td>\n      <td>SRX081888</td>\n      <td>...</td>\n      <td>Captured in New South Wales, Australia (provid...</td>\n      <td>male</td>\n      <td>7.8</td>\n      <td>adult</td>\n      <td>Standard</td>\n      <td>NaN</td>\n      <td>GSM752578_oan_kd_M_1</td>\n      <td>SRR306733_GSM752578_oan_kd_M_1</td>\n      <td>male</td>\n      <td>Kidney</td>\n    </tr>\n    <tr>\n      <td>SRR306734</td>\n      <td>RNA-Seq</td>\n      <td>76</td>\n      <td>PRJNA143627</td>\n      <td>SAMN00632138</td>\n      <td>GEO</td>\n      <td>public</td>\n      <td>sra</td>\n      <td>gs,ncbi,s3</td>\n      <td>gs.US,ncbi.public,s3.us-east-1</td>\n      <td>SRX081888</td>\n      <td>...</td>\n      <td>Captured in New South Wales, Australia (provid...</td>\n      <td>male</td>\n      <td>7.8</td>\n      <td>adult</td>\n      <td>Standard</td>\n      <td>NaN</td>\n      <td>GSM752578_oan_kd_M_1</td>\n      <td>SRR306734_GSM752578_oan_kd_M_1</td>\n      <td>male</td>\n      <td>Kidney</td>\n    </tr>\n    <tr>\n      <td>SRR306735</td>\n      <td>RNA-Seq</td>\n      <td>76</td>\n      <td>PRJNA143627</td>\n      <td>SAMN00632139</td>\n      <td>GEO</td>\n      <td>public</td>\n      <td>sra</td>\n      <td>gs,ncbi,s3</td>\n      <td>gs.US,ncbi.public,s3.us-east-1</td>\n      <td>SRX081889</td>\n      <td>...</td>\n      <td>Captured in New South Wales, Australia (provid...</td>\n      <td>female</td>\n      <td>7.6</td>\n      <td>adult</td>\n      <td>Standard</td>\n      <td>NaN</td>\n      <td>GSM752580_oan_lv_F_1</td>\n      <td>SRR306735_GSM752580_oan_lv_F_1</td>\n      <td>female</td>\n      <td>Liver</td>\n    </tr>\n    <tr>\n      <td>SRR306736</td>\n      <td>RNA-Seq</td>\n      <td>76</td>\n      <td>PRJNA143627</td>\n      <td>SAMN00632139</td>\n      <td>GEO</td>\n      <td>public</td>\n      <td>sra</td>\n      <td>gs,ncbi,s3</td>\n      <td>gs.US,ncbi.public,s3.us-east-1</td>\n      <td>SRX081889</td>\n      <td>...</td>\n      <td>Captured in New South Wales, Australia (provid...</td>\n      <td>female</td>\n      <td>7.6</td>\n      <td>adult</td>\n      <td>Standard</td>\n      <td>NaN</td>\n      <td>GSM752580_oan_lv_F_1</td>\n      <td>SRR306736_GSM752580_oan_lv_F_1</td>\n      <td>female</td>\n      <td>Liver</td>\n    </tr>\n    <tr>\n      <td>SRR306737</td>\n      <td>RNA-Seq</td>\n      <td>76</td>\n      <td>PRJNA143627</td>\n      <td>SAMN00632140</td>\n      <td>GEO</td>\n      <td>public</td>\n      <td>sra</td>\n      <td>gs,ncbi,s3</td>\n      <td>gs.US,ncbi.public,s3.us-east-1</td>\n      <td>SRX081890</td>\n      <td>...</td>\n      <td>Captured in New South Wales, Australia (provid...</td>\n      <td>male</td>\n      <td>8.6</td>\n      <td>adult</td>\n      <td>Standard</td>\n      <td>NaN</td>\n      <td>GSM752581_oan_lv_M_1</td>\n      <td>SRR306737_GSM752581_oan_lv_M_1</td>\n      <td>male</td>\n      <td>Liver</td>\n    </tr>\n    <tr>\n      <td>SRR306738</td>\n      <td>RNA-Seq</td>\n      <td>76</td>\n      <td>PRJNA143627</td>\n      <td>SAMN00632140</td>\n      <td>GEO</td>\n      <td>public</td>\n      <td>sra</td>\n      <td>gs,ncbi,s3</td>\n      <td>gs.US,ncbi.public,s3.us-east-1</td>\n      <td>SRX081890</td>\n      <td>...</td>\n      <td>Captured in New South Wales, Australia (provid...</td>\n      <td>male</td>\n      <td>8.6</td>\n      <td>adult</td>\n      <td>Standard</td>\n      <td>NaN</td>\n      <td>GSM752581_oan_lv_M_1</td>\n      <td>SRR306738_GSM752581_oan_lv_M_1</td>\n      <td>male</td>\n      <td>Liver</td>\n    </tr>\n    <tr>\n      <td>SRR306739</td>\n      <td>RNA-Seq</td>\n      <td>76</td>\n      <td>PRJNA143627</td>\n      <td>SAMN00632141</td>\n      <td>GEO</td>\n      <td>public</td>\n      <td>sra</td>\n      <td>gs,ncbi,s3</td>\n      <td>gs.US,ncbi.public,s3.us-east-1</td>\n      <td>SRX081891</td>\n      <td>...</td>\n      <td>Captured in New South Wales, Australia (provid...</td>\n      <td>male</td>\n      <td>8.6</td>\n      <td>adult</td>\n      <td>Standard</td>\n      <td>NaN</td>\n      <td>GSM752583_oan_ts_M_1</td>\n      <td>SRR306739_GSM752583_oan_ts_M_1</td>\n      <td>male</td>\n      <td>Testis</td>\n    </tr>\n    <tr>\n      <td>SRR306740</td>\n      <td>RNA-Seq</td>\n      <td>76</td>\n      <td>PRJNA143627</td>\n      <td>SAMN00632142</td>\n      <td>GEO</td>\n      <td>public</td>\n      <td>sra</td>\n      <td>gs,ncbi,s3</td>\n      <td>gs.US,ncbi.public,s3.us-east-1</td>\n      <td>SRX081892</td>\n      <td>...</td>\n      <td>Captured in New South Wales, Australia (provid...</td>\n      <td>male</td>\n      <td>8.0</td>\n      <td>adult</td>\n      <td>Standard</td>\n      <td>NaN</td>\n      <td>GSM752585_oan_ts_M_2</td>\n      <td>SRR306740_GSM752585_oan_ts_M_2</td>\n      <td>male</td>\n      <td>Testis</td>\n    </tr>\n    <tr>\n      <td>SRR306741</td>\n      <td>RNA-Seq</td>\n      <td>76</td>\n      <td>PRJNA143627</td>\n      <td>SAMN00632142</td>\n      <td>GEO</td>\n      <td>public</td>\n      <td>sra</td>\n      <td>gs,ncbi,s3</td>\n      <td>gs.US,ncbi.public,s3.us-east-1</td>\n      <td>SRX081892</td>\n      <td>...</td>\n      <td>Captured in New South Wales, Australia (provid...</td>\n      <td>male</td>\n      <td>8.0</td>\n      <td>adult</td>\n      <td>Standard</td>\n      <td>NaN</td>\n      <td>GSM752585_oan_ts_M_2</td>\n      <td>SRR306741_GSM752585_oan_ts_M_2</td>\n      <td>male</td>\n      <td>Testis</td>\n    </tr>\n    <tr>\n      <td>SRR306742</td>\n      <td>RNA-Seq</td>\n      <td>76</td>\n      <td>PRJNA143627</td>\n      <td>SAMN00632143</td>\n      <td>GEO</td>\n      <td>public</td>\n      <td>sra</td>\n      <td>gs,ncbi,s3</td>\n      <td>gs.US,ncbi.public,s3.us-east-1</td>\n      <td>SRX081893</td>\n      <td>...</td>\n      <td>Opossum colonies from the Museum of Natural Hi...</td>\n      <td>female</td>\n      <td>7.5</td>\n      <td>20 months</td>\n      <td>RNeasy</td>\n      <td>NaN</td>\n      <td>GSM752588_mdo_br_F_1</td>\n      <td>SRR306742_GSM752588_mdo_br_F_1</td>\n      <td>female</td>\n      <td>Brain</td>\n    </tr>\n    <tr>\n      <td>SRR306743</td>\n      <td>RNA-Seq</td>\n      <td>76</td>\n      <td>PRJNA143627</td>\n      <td>SAMN00632143</td>\n      <td>GEO</td>\n      <td>public</td>\n      <td>sra</td>\n      <td>gs,ncbi,s3</td>\n      <td>gs.US,ncbi.public,s3.us-east-1</td>\n      <td>SRX081893</td>\n      <td>...</td>\n      <td>Opossum colonies from the Museum of Natural Hi...</td>\n      <td>female</td>\n      <td>7.5</td>\n      <td>20 months</td>\n      <td>RNeasy</td>\n      <td>NaN</td>\n      <td>GSM752588_mdo_br_F_1</td>\n      <td>SRR306743_GSM752588_mdo_br_F_1</td>\n      <td>female</td>\n      <td>Brain</td>\n    </tr>\n    <tr>\n      <td>SRR306744</td>\n      <td>RNA-Seq</td>\n      <td>76</td>\n      <td>PRJNA143627</td>\n      <td>SAMN00632144</td>\n      <td>GEO</td>\n      <td>public</td>\n      <td>sra</td>\n      <td>gs,ncbi,s3</td>\n      <td>gs.US,ncbi.public,s3.us-east-1</td>\n      <td>SRX081894</td>\n      <td>...</td>\n      <td>Opossum colonies from the Museum of Natural Hi...</td>\n      <td>male</td>\n      <td>7.2</td>\n      <td>6 months</td>\n      <td>miRNeasy</td>\n      <td>NaN</td>\n      <td>GSM752590_mdo_br_M_1</td>\n      <td>SRR306744_GSM752590_mdo_br_M_1</td>\n      <td>male</td>\n      <td>Brain</td>\n    </tr>\n    <tr>\n      <td>SRR306745</td>\n      <td>RNA-Seq</td>\n      <td>76</td>\n      <td>PRJNA143627</td>\n      <td>SAMN00632145</td>\n      <td>GEO</td>\n      <td>public</td>\n      <td>sra</td>\n      <td>gs,ncbi,s3</td>\n      <td>gs.US,ncbi.public,s3.us-east-1</td>\n      <td>SRX081895</td>\n      <td>...</td>\n      <td>Opossum colonies from the Museum of Natural Hi...</td>\n      <td>female</td>\n      <td>7.9</td>\n      <td>20 months</td>\n      <td>RNeasy</td>\n      <td>NaN</td>\n      <td>GSM752592_mdo_cb_F_1</td>\n      <td>SRR306745_GSM752592_mdo_cb_F_1</td>\n      <td>female</td>\n      <td>Cerebellum</td>\n    </tr>\n    <tr>\n      <td>SRR306746</td>\n      <td>RNA-Seq</td>\n      <td>76</td>\n      <td>PRJNA143627</td>\n      <td>SAMN00632146</td>\n      <td>GEO</td>\n      <td>public</td>\n      <td>sra</td>\n      <td>gs,ncbi,s3</td>\n      <td>gs.US,ncbi.public,s3.us-east-1</td>\n      <td>SRX081896</td>\n      <td>...</td>\n      <td>Opossum colonies from the Museum of Natural Hi...</td>\n      <td>male</td>\n      <td>8.4</td>\n      <td>6 months</td>\n      <td>RNeasy</td>\n      <td>NaN</td>\n      <td>GSM752594_mdo_cb_M_1</td>\n      <td>SRR306746_GSM752594_mdo_cb_M_1</td>\n      <td>male</td>\n      <td>Cerebellum</td>\n    </tr>\n    <tr>\n      <td>SRR306747</td>\n      <td>RNA-Seq</td>\n      <td>76</td>\n      <td>PRJNA143627</td>\n      <td>SAMN00632147</td>\n      <td>GEO</td>\n      <td>public</td>\n      <td>sra</td>\n      <td>gs,ncbi,s3</td>\n      <td>gs.US,ncbi.public,s3.us-east-1</td>\n      <td>SRX081897</td>\n      <td>...</td>\n      <td>Opossum colonies from the Museum of Natural Hi...</td>\n      <td>female</td>\n      <td>9.1</td>\n      <td>25 months</td>\n      <td>Standard</td>\n      <td>NaN</td>\n      <td>GSM752596_mdo_ht_F_1</td>\n      <td>SRR306747_GSM752596_mdo_ht_F_1</td>\n      <td>female</td>\n      <td>Heart</td>\n    </tr>\n    <tr>\n      <td>SRR306748</td>\n      <td>RNA-Seq</td>\n      <td>76</td>\n      <td>PRJNA143627</td>\n      <td>SAMN00632147</td>\n      <td>GEO</td>\n      <td>public</td>\n      <td>sra</td>\n      <td>gs,ncbi,s3</td>\n      <td>gs.US,ncbi.public,s3.us-east-1</td>\n      <td>SRX081897</td>\n      <td>...</td>\n      <td>Opossum colonies from the Museum of Natural Hi...</td>\n      <td>female</td>\n      <td>9.1</td>\n      <td>25 months</td>\n      <td>Standard</td>\n      <td>NaN</td>\n      <td>GSM752596_mdo_ht_F_1</td>\n      <td>SRR306748_GSM752596_mdo_ht_F_1</td>\n      <td>female</td>\n      <td>Heart</td>\n    </tr>\n    <tr>\n      <td>SRR306749</td>\n      <td>RNA-Seq</td>\n      <td>76</td>\n      <td>PRJNA143627</td>\n      <td>SAMN00632148</td>\n      <td>GEO</td>\n      <td>public</td>\n      <td>sra</td>\n      <td>gs,ncbi,s3</td>\n      <td>gs.US,ncbi.public,s3.us-east-1</td>\n      <td>SRX081898</td>\n      <td>...</td>\n      <td>Opossum colonies from the Museum of Natural Hi...</td>\n      <td>male</td>\n      <td>9.1</td>\n      <td>6 months</td>\n      <td>Standard</td>\n      <td>NaN</td>\n      <td>GSM752598_mdo_ht_M_1</td>\n      <td>SRR306749_GSM752598_mdo_ht_M_1</td>\n      <td>male</td>\n      <td>Heart</td>\n    </tr>\n    <tr>\n      <td>SRR306750</td>\n      <td>RNA-Seq</td>\n      <td>76</td>\n      <td>PRJNA143627</td>\n      <td>SAMN00632148</td>\n      <td>GEO</td>\n      <td>public</td>\n      <td>sra</td>\n      <td>gs,ncbi,s3</td>\n      <td>gs.US,ncbi.public,s3.us-east-1</td>\n      <td>SRX081898</td>\n      <td>...</td>\n      <td>Opossum colonies from the Museum of Natural Hi...</td>\n      <td>male</td>\n      <td>9.1</td>\n      <td>6 months</td>\n      <td>Standard</td>\n      <td>NaN</td>\n      <td>GSM752598_mdo_ht_M_1</td>\n      <td>SRR306750_GSM752598_mdo_ht_M_1</td>\n      <td>male</td>\n      <td>Heart</td>\n    </tr>\n    <tr>\n      <td>SRR306751</td>\n      <td>RNA-Seq</td>\n      <td>76</td>\n      <td>PRJNA143627</td>\n      <td>SAMN00632149</td>\n      <td>GEO</td>\n      <td>public</td>\n      <td>sra</td>\n      <td>gs,ncbi,s3</td>\n      <td>gs.US,ncbi.public,s3.us-east-1</td>\n      <td>SRX081899</td>\n      <td>...</td>\n      <td>Opossum colonies from the Museum of Natural Hi...</td>\n      <td>female</td>\n      <td>8.8</td>\n      <td>25 months</td>\n      <td>Standard</td>\n      <td>NaN</td>\n      <td>GSM752601_mdo_kd_F_1</td>\n      <td>SRR306751_GSM752601_mdo_kd_F_1</td>\n      <td>female</td>\n      <td>Kidney</td>\n    </tr>\n    <tr>\n      <td>SRR306852</td>\n      <td>RNA-Seq</td>\n      <td>76</td>\n      <td>PRJNA143627</td>\n      <td>SAMN00632244</td>\n      <td>GEO</td>\n      <td>public</td>\n      <td>sra</td>\n      <td>gs,ncbi,s3</td>\n      <td>gs.US,ncbi.public,s3.us-east-1</td>\n      <td>SRX081994</td>\n      <td>...</td>\n      <td>Commercial / AMS biotechnology</td>\n      <td>male</td>\n      <td>7.7</td>\n      <td>NaN</td>\n      <td>NaN</td>\n      <td>NaN</td>\n      <td>GSM752703_hsa_kd_M_1</td>\n      <td>SRR306852_GSM752703_hsa_kd_M_1</td>\n      <td>male</td>\n      <td>Kidney</td>\n    </tr>\n  </tbody>\n</table>\n<p>43 rows × 35 columns</p>\n</div>",
        "text/plain": "          Assay Type  AvgSpotLen   BioProject     BioSample Center Name  \\\nRun                                                                       \nSRR306710    RNA-Seq          76  PRJNA143627  SAMN00632119         GEO   \nSRR306711    RNA-Seq          76  PRJNA143627  SAMN00632120         GEO   \nSRR306712    RNA-Seq          76  PRJNA143627  SAMN00632121         GEO   \nSRR306713    RNA-Seq          76  PRJNA143627  SAMN00632122         GEO   \nSRR306714    RNA-Seq          76  PRJNA143627  SAMN00632123         GEO   \nSRR306715    RNA-Seq          76  PRJNA143627  SAMN00632124         GEO   \nSRR306716    RNA-Seq          76  PRJNA143627  SAMN00632125         GEO   \nSRR306717    RNA-Seq          76  PRJNA143627  SAMN00632126         GEO   \nSRR306718    RNA-Seq          76  PRJNA143627  SAMN00632127         GEO   \nSRR306719    RNA-Seq          76  PRJNA143627  SAMN00632128         GEO   \nSRR306720    RNA-Seq          76  PRJNA143627  SAMN00632128         GEO   \nSRR306721    RNA-Seq          76  PRJNA143627  SAMN00632129         GEO   \nSRR306722    RNA-Seq          76  PRJNA143627  SAMN00632129         GEO   \nSRR306723    RNA-Seq          76  PRJNA143627  SAMN00632130         GEO   \nSRR306724    RNA-Seq          76  PRJNA143627  SAMN00632131         GEO   \nSRR306725    RNA-Seq          76  PRJNA143627  SAMN00632131         GEO   \nSRR306726    RNA-Seq          76  PRJNA143627  SAMN00632132         GEO   \nSRR306727    RNA-Seq          76  PRJNA143627  SAMN00632132         GEO   \nSRR306728    RNA-Seq          76  PRJNA143627  SAMN00632133         GEO   \nSRR306729    RNA-Seq          76  PRJNA143627  SAMN00632134         GEO   \nSRR306730    RNA-Seq          76  PRJNA143627  SAMN00632135         GEO   \nSRR306731    RNA-Seq          76  PRJNA143627  SAMN00632136         GEO   \nSRR306732    RNA-Seq          76  PRJNA143627  SAMN00632137         GEO   \nSRR306733    RNA-Seq          76  PRJNA143627  SAMN00632138         GEO   \nSRR306734    RNA-Seq          76  PRJNA143627  SAMN00632138         GEO   \nSRR306735    RNA-Seq          76  PRJNA143627  SAMN00632139         GEO   \nSRR306736    RNA-Seq          76  PRJNA143627  SAMN00632139         GEO   \nSRR306737    RNA-Seq          76  PRJNA143627  SAMN00632140         GEO   \nSRR306738    RNA-Seq          76  PRJNA143627  SAMN00632140         GEO   \nSRR306739    RNA-Seq          76  PRJNA143627  SAMN00632141         GEO   \nSRR306740    RNA-Seq          76  PRJNA143627  SAMN00632142         GEO   \nSRR306741    RNA-Seq          76  PRJNA143627  SAMN00632142         GEO   \nSRR306742    RNA-Seq          76  PRJNA143627  SAMN00632143         GEO   \nSRR306743    RNA-Seq          76  PRJNA143627  SAMN00632143         GEO   \nSRR306744    RNA-Seq          76  PRJNA143627  SAMN00632144         GEO   \nSRR306745    RNA-Seq          76  PRJNA143627  SAMN00632145         GEO   \nSRR306746    RNA-Seq          76  PRJNA143627  SAMN00632146         GEO   \nSRR306747    RNA-Seq          76  PRJNA143627  SAMN00632147         GEO   \nSRR306748    RNA-Seq          76  PRJNA143627  SAMN00632147         GEO   \nSRR306749    RNA-Seq          76  PRJNA143627  SAMN00632148         GEO   \nSRR306750    RNA-Seq          76  PRJNA143627  SAMN00632148         GEO   \nSRR306751    RNA-Seq          76  PRJNA143627  SAMN00632149         GEO   \nSRR306852    RNA-Seq          76  PRJNA143627  SAMN00632244         GEO   \n\n          Consent DATASTORE filetype DATASTORE provider  \\\nRun                                                       \nSRR306710  public                sra         gs,ncbi,s3   \nSRR306711  public                sra         gs,ncbi,s3   \nSRR306712  public                sra         gs,ncbi,s3   \nSRR306713  public                sra         gs,ncbi,s3   \nSRR306714  public                sra         gs,ncbi,s3   \nSRR306715  public                sra         gs,ncbi,s3   \nSRR306716  public                sra         gs,ncbi,s3   \nSRR306717  public                sra         gs,ncbi,s3   \nSRR306718  public                sra         gs,ncbi,s3   \nSRR306719  public                sra         gs,ncbi,s3   \nSRR306720  public                sra         gs,ncbi,s3   \nSRR306721  public                sra         gs,ncbi,s3   \nSRR306722  public                sra         gs,ncbi,s3   \nSRR306723  public                sra         gs,ncbi,s3   \nSRR306724  public                sra         gs,ncbi,s3   \nSRR306725  public                sra         gs,ncbi,s3   \nSRR306726  public                sra         gs,ncbi,s3   \nSRR306727  public                sra         gs,ncbi,s3   \nSRR306728  public                sra         gs,ncbi,s3   \nSRR306729  public                sra         gs,ncbi,s3   \nSRR306730  public                sra         gs,ncbi,s3   \nSRR306731  public                sra         gs,ncbi,s3   \nSRR306732  public                sra         gs,ncbi,s3   \nSRR306733  public                sra         gs,ncbi,s3   \nSRR306734  public                sra         gs,ncbi,s3   \nSRR306735  public                sra         gs,ncbi,s3   \nSRR306736  public                sra         gs,ncbi,s3   \nSRR306737  public                sra         gs,ncbi,s3   \nSRR306738  public                sra         gs,ncbi,s3   \nSRR306739  public                sra         gs,ncbi,s3   \nSRR306740  public                sra         gs,ncbi,s3   \nSRR306741  public                sra         gs,ncbi,s3   \nSRR306742  public                sra         gs,ncbi,s3   \nSRR306743  public                sra         gs,ncbi,s3   \nSRR306744  public                sra         gs,ncbi,s3   \nSRR306745  public                sra         gs,ncbi,s3   \nSRR306746  public                sra         gs,ncbi,s3   \nSRR306747  public                sra         gs,ncbi,s3   \nSRR306748  public                sra         gs,ncbi,s3   \nSRR306749  public                sra         gs,ncbi,s3   \nSRR306750  public                sra         gs,ncbi,s3   \nSRR306751  public                sra         gs,ncbi,s3   \nSRR306852  public                sra         gs,ncbi,s3   \n\n                         DATASTORE region Experiment  ...  \\\nRun                                                   ...   \nSRR306710  gs.US,ncbi.public,s3.us-east-1  SRX081869  ...   \nSRR306711  gs.US,ncbi.public,s3.us-east-1  SRX081870  ...   \nSRR306712  gs.US,ncbi.public,s3.us-east-1  SRX081871  ...   \nSRR306713  gs.US,ncbi.public,s3.us-east-1  SRX081872  ...   \nSRR306714  gs.US,ncbi.public,s3.us-east-1  SRX081873  ...   \nSRR306715  gs.US,ncbi.public,s3.us-east-1  SRX081874  ...   \nSRR306716  gs.US,ncbi.public,s3.us-east-1  SRX081875  ...   \nSRR306717  gs.US,ncbi.public,s3.us-east-1  SRX081876  ...   \nSRR306718  gs.US,ncbi.public,s3.us-east-1  SRX081877  ...   \nSRR306719  gs.US,ncbi.public,s3.us-east-1  SRX081878  ...   \nSRR306720  gs.US,ncbi.public,s3.us-east-1  SRX081878  ...   \nSRR306721  gs.US,ncbi.public,s3.us-east-1  SRX081879  ...   \nSRR306722  gs.US,ncbi.public,s3.us-east-1  SRX081879  ...   \nSRR306723  gs.US,ncbi.public,s3.us-east-1  SRX081880  ...   \nSRR306724  gs.US,ncbi.public,s3.us-east-1  SRX081881  ...   \nSRR306725  gs.US,ncbi.public,s3.us-east-1  SRX081881  ...   \nSRR306726  gs.US,ncbi.public,s3.us-east-1  SRX081882  ...   \nSRR306727  gs.US,ncbi.public,s3.us-east-1  SRX081882  ...   \nSRR306728  gs.US,ncbi.public,s3.us-east-1  SRX081883  ...   \nSRR306729  gs.US,ncbi.public,s3.us-east-1  SRX081884  ...   \nSRR306730  gs.US,ncbi.public,s3.us-east-1  SRX081885  ...   \nSRR306731  gs.US,ncbi.public,s3.us-east-1  SRX081886  ...   \nSRR306732  gs.US,ncbi.public,s3.us-east-1  SRX081887  ...   \nSRR306733  gs.US,ncbi.public,s3.us-east-1  SRX081888  ...   \nSRR306734  gs.US,ncbi.public,s3.us-east-1  SRX081888  ...   \nSRR306735  gs.US,ncbi.public,s3.us-east-1  SRX081889  ...   \nSRR306736  gs.US,ncbi.public,s3.us-east-1  SRX081889  ...   \nSRR306737  gs.US,ncbi.public,s3.us-east-1  SRX081890  ...   \nSRR306738  gs.US,ncbi.public,s3.us-east-1  SRX081890  ...   \nSRR306739  gs.US,ncbi.public,s3.us-east-1  SRX081891  ...   \nSRR306740  gs.US,ncbi.public,s3.us-east-1  SRX081892  ...   \nSRR306741  gs.US,ncbi.public,s3.us-east-1  SRX081892  ...   \nSRR306742  gs.US,ncbi.public,s3.us-east-1  SRX081893  ...   \nSRR306743  gs.US,ncbi.public,s3.us-east-1  SRX081893  ...   \nSRR306744  gs.US,ncbi.public,s3.us-east-1  SRX081894  ...   \nSRR306745  gs.US,ncbi.public,s3.us-east-1  SRX081895  ...   \nSRR306746  gs.US,ncbi.public,s3.us-east-1  SRX081896  ...   \nSRR306747  gs.US,ncbi.public,s3.us-east-1  SRX081897  ...   \nSRR306748  gs.US,ncbi.public,s3.us-east-1  SRX081897  ...   \nSRR306749  gs.US,ncbi.public,s3.us-east-1  SRX081898  ...   \nSRR306750  gs.US,ncbi.public,s3.us-east-1  SRX081898  ...   \nSRR306751  gs.US,ncbi.public,s3.us-east-1  SRX081899  ...   \nSRR306852  gs.US,ncbi.public,s3.us-east-1  SRX081994  ...   \n\n                                               tissue_source  gender  rin  \\\nRun                                                                         \nSRR306710           Facility of Linkoping University, Sweden  female  9.4   \nSRR306711           Facility of Linkoping University, Sweden    male  9.1   \nSRR306712           Facility of Linkoping University, Sweden  female  9.6   \nSRR306713           Facility of Linkoping University, Sweden    male  9.2   \nSRR306714           Facility of Linkoping University, Sweden  female  9.0   \nSRR306715           Facility of Linkoping University, Sweden    male  NaN   \nSRR306716           Facility of Linkoping University, Sweden  female  9.3   \nSRR306717           Facility of Linkoping University, Sweden    male  9.1   \nSRR306718           Facility of Linkoping University, Sweden  female  8.9   \nSRR306719           Facility of Linkoping University, Sweden    male  9.2   \nSRR306720           Facility of Linkoping University, Sweden    male  9.2   \nSRR306721           Facility of Linkoping University, Sweden    male  8.6   \nSRR306722           Facility of Linkoping University, Sweden    male  8.6   \nSRR306723           Facility of Linkoping University, Sweden    male  8.9   \nSRR306724  Captured in New South Wales, Australia (provid...  female  6.9   \nSRR306725  Captured in New South Wales, Australia (provid...  female  6.9   \nSRR306726  Captured in New South Wales, Australia (provid...    male  7.3   \nSRR306727  Captured in New South Wales, Australia (provid...    male  7.3   \nSRR306728  Captured in New South Wales, Australia (provid...  female  8.3   \nSRR306729  Captured in New South Wales, Australia (provid...    male  7.3   \nSRR306730  Captured in New South Wales, Australia (provid...  female  7.8   \nSRR306731  Captured in New South Wales, Australia (provid...    male  7.3   \nSRR306732  Captured in New South Wales, Australia (provid...  female  9.0   \nSRR306733  Captured in New South Wales, Australia (provid...    male  7.8   \nSRR306734  Captured in New South Wales, Australia (provid...    male  7.8   \nSRR306735  Captured in New South Wales, Australia (provid...  female  7.6   \nSRR306736  Captured in New South Wales, Australia (provid...  female  7.6   \nSRR306737  Captured in New South Wales, Australia (provid...    male  8.6   \nSRR306738  Captured in New South Wales, Australia (provid...    male  8.6   \nSRR306739  Captured in New South Wales, Australia (provid...    male  8.6   \nSRR306740  Captured in New South Wales, Australia (provid...    male  8.0   \nSRR306741  Captured in New South Wales, Australia (provid...    male  8.0   \nSRR306742  Opossum colonies from the Museum of Natural Hi...  female  7.5   \nSRR306743  Opossum colonies from the Museum of Natural Hi...  female  7.5   \nSRR306744  Opossum colonies from the Museum of Natural Hi...    male  7.2   \nSRR306745  Opossum colonies from the Museum of Natural Hi...  female  7.9   \nSRR306746  Opossum colonies from the Museum of Natural Hi...    male  8.4   \nSRR306747  Opossum colonies from the Museum of Natural Hi...  female  9.1   \nSRR306748  Opossum colonies from the Museum of Natural Hi...  female  9.1   \nSRR306749  Opossum colonies from the Museum of Natural Hi...    male  9.1   \nSRR306750  Opossum colonies from the Museum of Natural Hi...    male  9.1   \nSRR306751  Opossum colonies from the Museum of Natural Hi...  female  8.8   \nSRR306852                     Commercial / AMS biotechnology    male  7.7   \n\n                       Age    Extraction  sex        sanitized_name  \\\nRun                                                                   \nSRR306710  ~1 year\\, adult  Rneasy Lipid  NaN  GSM752557_gga_br_F_1   \nSRR306711  ~1 year\\, adult      Standard  NaN  GSM752558_gga_br_M_1   \nSRR306712  ~1 year\\, adult      Standard  NaN  GSM752559_gga_cb_F_1   \nSRR306713  ~1 year\\, adult  Rneasy Lipid  NaN  GSM752560_gga_cb_M_1   \nSRR306714  ~1 year\\, adult      Standard  NaN  GSM752561_gga_ht_F_1   \nSRR306715  ~1 year\\, adult      Standard  NaN  GSM752562_gga_ht_M_1   \nSRR306716  ~1 year\\, adult      Standard  NaN  GSM752563_gga_kd_F_1   \nSRR306717  ~1 year\\, adult      Standard  NaN  GSM752564_gga_kd_M_1   \nSRR306718  ~1 year\\, adult      Standard  NaN  GSM752565_gga_lv_F_1   \nSRR306719  ~1 year\\, adult      Standard  NaN  GSM752566_gga_lv_M_1   \nSRR306720  ~1 year\\, adult      Standard  NaN  GSM752566_gga_lv_M_1   \nSRR306721  ~1 year\\, adult      Standard  NaN  GSM752567_gga_ts_M_1   \nSRR306722  ~1 year\\, adult      Standard  NaN  GSM752567_gga_ts_M_1   \nSRR306723  ~1 year\\, adult      Standard  NaN  GSM752568_gga_ts_M_2   \nSRR306724            adult      Standard  NaN  GSM752569_oan_br_F_1   \nSRR306725            adult      Standard  NaN  GSM752569_oan_br_F_1   \nSRR306726            adult      Standard  NaN  GSM752570_oan_br_M_1   \nSRR306727            adult      Standard  NaN  GSM752570_oan_br_M_1   \nSRR306728            adult      Standard  NaN  GSM752571_oan_cb_F_1   \nSRR306729            adult      Standard  NaN  GSM752572_oan_cb_M_1   \nSRR306730            adult      Standard  NaN  GSM752573_oan_ht_F_1   \nSRR306731            adult      Standard  NaN  GSM752575_oan_ht_M_1   \nSRR306732            adult      Standard  NaN  GSM752576_oan_kd_F_1   \nSRR306733            adult      Standard  NaN  GSM752578_oan_kd_M_1   \nSRR306734            adult      Standard  NaN  GSM752578_oan_kd_M_1   \nSRR306735            adult      Standard  NaN  GSM752580_oan_lv_F_1   \nSRR306736            adult      Standard  NaN  GSM752580_oan_lv_F_1   \nSRR306737            adult      Standard  NaN  GSM752581_oan_lv_M_1   \nSRR306738            adult      Standard  NaN  GSM752581_oan_lv_M_1   \nSRR306739            adult      Standard  NaN  GSM752583_oan_ts_M_1   \nSRR306740            adult      Standard  NaN  GSM752585_oan_ts_M_2   \nSRR306741            adult      Standard  NaN  GSM752585_oan_ts_M_2   \nSRR306742        20 months        RNeasy  NaN  GSM752588_mdo_br_F_1   \nSRR306743        20 months        RNeasy  NaN  GSM752588_mdo_br_F_1   \nSRR306744         6 months      miRNeasy  NaN  GSM752590_mdo_br_M_1   \nSRR306745        20 months        RNeasy  NaN  GSM752592_mdo_cb_F_1   \nSRR306746         6 months        RNeasy  NaN  GSM752594_mdo_cb_M_1   \nSRR306747        25 months      Standard  NaN  GSM752596_mdo_ht_F_1   \nSRR306748        25 months      Standard  NaN  GSM752596_mdo_ht_F_1   \nSRR306749         6 months      Standard  NaN  GSM752598_mdo_ht_M_1   \nSRR306750         6 months      Standard  NaN  GSM752598_mdo_ht_M_1   \nSRR306751        25 months      Standard  NaN  GSM752601_mdo_kd_F_1   \nSRR306852              NaN           NaN  NaN  GSM752703_hsa_kd_M_1   \n\n                  sanitized_name_with_run sex_cleaned      tissue  \nRun                                                                \nSRR306710  SRR306710_GSM752557_gga_br_F_1      female       Brain  \nSRR306711  SRR306711_GSM752558_gga_br_M_1        male       Brain  \nSRR306712  SRR306712_GSM752559_gga_cb_F_1      female  Cerebellum  \nSRR306713  SRR306713_GSM752560_gga_cb_M_1        male  Cerebellum  \nSRR306714  SRR306714_GSM752561_gga_ht_F_1      female       Heart  \nSRR306715  SRR306715_GSM752562_gga_ht_M_1        male       Heart  \nSRR306716  SRR306716_GSM752563_gga_kd_F_1      female      Kidney  \nSRR306717  SRR306717_GSM752564_gga_kd_M_1        male      Kidney  \nSRR306718  SRR306718_GSM752565_gga_lv_F_1      female       Liver  \nSRR306719  SRR306719_GSM752566_gga_lv_M_1        male       Liver  \nSRR306720  SRR306720_GSM752566_gga_lv_M_1        male       Liver  \nSRR306721  SRR306721_GSM752567_gga_ts_M_1        male      Testis  \nSRR306722  SRR306722_GSM752567_gga_ts_M_1        male      Testis  \nSRR306723  SRR306723_GSM752568_gga_ts_M_2        male      Testis  \nSRR306724  SRR306724_GSM752569_oan_br_F_1      female       Brain  \nSRR306725  SRR306725_GSM752569_oan_br_F_1      female       Brain  \nSRR306726  SRR306726_GSM752570_oan_br_M_1        male       Brain  \nSRR306727  SRR306727_GSM752570_oan_br_M_1        male       Brain  \nSRR306728  SRR306728_GSM752571_oan_cb_F_1      female  Cerebellum  \nSRR306729  SRR306729_GSM752572_oan_cb_M_1        male  Cerebellum  \nSRR306730  SRR306730_GSM752573_oan_ht_F_1      female       Heart  \nSRR306731  SRR306731_GSM752575_oan_ht_M_1        male       Heart  \nSRR306732  SRR306732_GSM752576_oan_kd_F_1      female      Kidney  \nSRR306733  SRR306733_GSM752578_oan_kd_M_1        male      Kidney  \nSRR306734  SRR306734_GSM752578_oan_kd_M_1        male      Kidney  \nSRR306735  SRR306735_GSM752580_oan_lv_F_1      female       Liver  \nSRR306736  SRR306736_GSM752580_oan_lv_F_1      female       Liver  \nSRR306737  SRR306737_GSM752581_oan_lv_M_1        male       Liver  \nSRR306738  SRR306738_GSM752581_oan_lv_M_1        male       Liver  \nSRR306739  SRR306739_GSM752583_oan_ts_M_1        male      Testis  \nSRR306740  SRR306740_GSM752585_oan_ts_M_2        male      Testis  \nSRR306741  SRR306741_GSM752585_oan_ts_M_2        male      Testis  \nSRR306742  SRR306742_GSM752588_mdo_br_F_1      female       Brain  \nSRR306743  SRR306743_GSM752588_mdo_br_F_1      female       Brain  \nSRR306744  SRR306744_GSM752590_mdo_br_M_1        male       Brain  \nSRR306745  SRR306745_GSM752592_mdo_cb_F_1      female  Cerebellum  \nSRR306746  SRR306746_GSM752594_mdo_cb_M_1        male  Cerebellum  \nSRR306747  SRR306747_GSM752596_mdo_ht_F_1      female       Heart  \nSRR306748  SRR306748_GSM752596_mdo_ht_F_1      female       Heart  \nSRR306749  SRR306749_GSM752598_mdo_ht_M_1        male       Heart  \nSRR306750  SRR306750_GSM752598_mdo_ht_M_1        male       Heart  \nSRR306751  SRR306751_GSM752601_mdo_kd_F_1      female      Kidney  \nSRR306852  SRR306852_GSM752703_hsa_kd_M_1        male      Kidney  \n\n[43 rows x 35 columns]"
       },
       "execution_count": 12,
       "metadata": {},
       "output_type": "execute_result"
      }
     ],
     "persistentId": "0c06982b-0cfe-4548-8d9f-74460ca65709",
     "text": "ncbi_run_table_metadata.loc[runs_not_in_sra_explorer]"
    },
    "executionTime": "2019-11-05T18:07:24.087Z"
   },
   {
    "cell": {
     "executionCount": 13,
     "executionEventId": "c256aacc-4c34-41a1-b989-85f9fda07705",
     "hasError": false,
     "id": "ad07a62f-d560-44e6-9336-c63539a7b32f",
     "outputs": [
      {
       "name": "stdout",
       "output_type": "stream",
       "text": "(43, 35)\n"
      },
      {
       "data": {
        "text/html": "<div>\n<style scoped>\n    .dataframe tbody tr th:only-of-type {\n        vertical-align: middle;\n    }\n\n    .dataframe tbody tr th {\n        vertical-align: top;\n    }\n\n    .dataframe thead th {\n        text-align: right;\n    }\n</style>\n<table border=\"1\" class=\"dataframe\">\n  <thead>\n    <tr style=\"text-align: right;\">\n      <th></th>\n      <th>Assay Type</th>\n      <th>AvgSpotLen</th>\n      <th>BioProject</th>\n      <th>BioSample</th>\n      <th>Center Name</th>\n      <th>Consent</th>\n      <th>DATASTORE filetype</th>\n      <th>DATASTORE provider</th>\n      <th>DATASTORE region</th>\n      <th>Experiment</th>\n      <th>...</th>\n      <th>tissue_source</th>\n      <th>gender</th>\n      <th>rin</th>\n      <th>Age</th>\n      <th>Extraction</th>\n      <th>sex</th>\n      <th>sanitized_name</th>\n      <th>sanitized_name_with_run</th>\n      <th>sex_cleaned</th>\n      <th>tissue</th>\n    </tr>\n    <tr>\n      <th>Run</th>\n      <th></th>\n      <th></th>\n      <th></th>\n      <th></th>\n      <th></th>\n      <th></th>\n      <th></th>\n      <th></th>\n      <th></th>\n      <th></th>\n      <th></th>\n      <th></th>\n      <th></th>\n      <th></th>\n      <th></th>\n      <th></th>\n      <th></th>\n      <th></th>\n      <th></th>\n      <th></th>\n      <th></th>\n    </tr>\n  </thead>\n  <tbody>\n    <tr>\n      <td>SRR306710</td>\n      <td>RNA-Seq</td>\n      <td>76</td>\n      <td>PRJNA143627</td>\n      <td>SAMN00632119</td>\n      <td>GEO</td>\n      <td>public</td>\n      <td>sra</td>\n      <td>gs,ncbi,s3</td>\n      <td>gs.US,ncbi.public,s3.us-east-1</td>\n      <td>SRX081869</td>\n      <td>...</td>\n      <td>Facility of Linkoping University, Sweden</td>\n      <td>female</td>\n      <td>9.4</td>\n      <td>~1 year\\, adult</td>\n      <td>Rneasy Lipid</td>\n      <td>NaN</td>\n      <td>GSM752557_gga_br_F_1</td>\n      <td>SRR306710_GSM752557_gga_br_F_1</td>\n      <td>female</td>\n      <td>Brain</td>\n    </tr>\n    <tr>\n      <td>SRR306711</td>\n      <td>RNA-Seq</td>\n      <td>76</td>\n      <td>PRJNA143627</td>\n      <td>SAMN00632120</td>\n      <td>GEO</td>\n      <td>public</td>\n      <td>sra</td>\n      <td>gs,ncbi,s3</td>\n      <td>gs.US,ncbi.public,s3.us-east-1</td>\n      <td>SRX081870</td>\n      <td>...</td>\n      <td>Facility of Linkoping University, Sweden</td>\n      <td>male</td>\n      <td>9.1</td>\n      <td>~1 year\\, adult</td>\n      <td>Standard</td>\n      <td>NaN</td>\n      <td>GSM752558_gga_br_M_1</td>\n      <td>SRR306711_GSM752558_gga_br_M_1</td>\n      <td>male</td>\n      <td>Brain</td>\n    </tr>\n    <tr>\n      <td>SRR306712</td>\n      <td>RNA-Seq</td>\n      <td>76</td>\n      <td>PRJNA143627</td>\n      <td>SAMN00632121</td>\n      <td>GEO</td>\n      <td>public</td>\n      <td>sra</td>\n      <td>gs,ncbi,s3</td>\n      <td>gs.US,ncbi.public,s3.us-east-1</td>\n      <td>SRX081871</td>\n      <td>...</td>\n      <td>Facility of Linkoping University, Sweden</td>\n      <td>female</td>\n      <td>9.6</td>\n      <td>~1 year\\, adult</td>\n      <td>Standard</td>\n      <td>NaN</td>\n      <td>GSM752559_gga_cb_F_1</td>\n      <td>SRR306712_GSM752559_gga_cb_F_1</td>\n      <td>female</td>\n      <td>Cerebellum</td>\n    </tr>\n    <tr>\n      <td>SRR306713</td>\n      <td>RNA-Seq</td>\n      <td>76</td>\n      <td>PRJNA143627</td>\n      <td>SAMN00632122</td>\n      <td>GEO</td>\n      <td>public</td>\n      <td>sra</td>\n      <td>gs,ncbi,s3</td>\n      <td>gs.US,ncbi.public,s3.us-east-1</td>\n      <td>SRX081872</td>\n      <td>...</td>\n      <td>Facility of Linkoping University, Sweden</td>\n      <td>male</td>\n      <td>9.2</td>\n      <td>~1 year\\, adult</td>\n      <td>Rneasy Lipid</td>\n      <td>NaN</td>\n      <td>GSM752560_gga_cb_M_1</td>\n      <td>SRR306713_GSM752560_gga_cb_M_1</td>\n      <td>male</td>\n      <td>Cerebellum</td>\n    </tr>\n    <tr>\n      <td>SRR306714</td>\n      <td>RNA-Seq</td>\n      <td>76</td>\n      <td>PRJNA143627</td>\n      <td>SAMN00632123</td>\n      <td>GEO</td>\n      <td>public</td>\n      <td>sra</td>\n      <td>gs,ncbi,s3</td>\n      <td>gs.US,ncbi.public,s3.us-east-1</td>\n      <td>SRX081873</td>\n      <td>...</td>\n      <td>Facility of Linkoping University, Sweden</td>\n      <td>female</td>\n      <td>9.0</td>\n      <td>~1 year\\, adult</td>\n      <td>Standard</td>\n      <td>NaN</td>\n      <td>GSM752561_gga_ht_F_1</td>\n      <td>SRR306714_GSM752561_gga_ht_F_1</td>\n      <td>female</td>\n      <td>Heart</td>\n    </tr>\n  </tbody>\n</table>\n<p>5 rows × 35 columns</p>\n</div>",
        "text/plain": "          Assay Type  AvgSpotLen   BioProject     BioSample Center Name  \\\nRun                                                                       \nSRR306710    RNA-Seq          76  PRJNA143627  SAMN00632119         GEO   \nSRR306711    RNA-Seq          76  PRJNA143627  SAMN00632120         GEO   \nSRR306712    RNA-Seq          76  PRJNA143627  SAMN00632121         GEO   \nSRR306713    RNA-Seq          76  PRJNA143627  SAMN00632122         GEO   \nSRR306714    RNA-Seq          76  PRJNA143627  SAMN00632123         GEO   \n\n          Consent DATASTORE filetype DATASTORE provider  \\\nRun                                                       \nSRR306710  public                sra         gs,ncbi,s3   \nSRR306711  public                sra         gs,ncbi,s3   \nSRR306712  public                sra         gs,ncbi,s3   \nSRR306713  public                sra         gs,ncbi,s3   \nSRR306714  public                sra         gs,ncbi,s3   \n\n                         DATASTORE region Experiment  ...  \\\nRun                                                   ...   \nSRR306710  gs.US,ncbi.public,s3.us-east-1  SRX081869  ...   \nSRR306711  gs.US,ncbi.public,s3.us-east-1  SRX081870  ...   \nSRR306712  gs.US,ncbi.public,s3.us-east-1  SRX081871  ...   \nSRR306713  gs.US,ncbi.public,s3.us-east-1  SRX081872  ...   \nSRR306714  gs.US,ncbi.public,s3.us-east-1  SRX081873  ...   \n\n                                      tissue_source  gender  rin  \\\nRun                                                                \nSRR306710  Facility of Linkoping University, Sweden  female  9.4   \nSRR306711  Facility of Linkoping University, Sweden    male  9.1   \nSRR306712  Facility of Linkoping University, Sweden  female  9.6   \nSRR306713  Facility of Linkoping University, Sweden    male  9.2   \nSRR306714  Facility of Linkoping University, Sweden  female  9.0   \n\n                       Age    Extraction  sex        sanitized_name  \\\nRun                                                                   \nSRR306710  ~1 year\\, adult  Rneasy Lipid  NaN  GSM752557_gga_br_F_1   \nSRR306711  ~1 year\\, adult      Standard  NaN  GSM752558_gga_br_M_1   \nSRR306712  ~1 year\\, adult      Standard  NaN  GSM752559_gga_cb_F_1   \nSRR306713  ~1 year\\, adult  Rneasy Lipid  NaN  GSM752560_gga_cb_M_1   \nSRR306714  ~1 year\\, adult      Standard  NaN  GSM752561_gga_ht_F_1   \n\n                  sanitized_name_with_run sex_cleaned      tissue  \nRun                                                                \nSRR306710  SRR306710_GSM752557_gga_br_F_1      female       Brain  \nSRR306711  SRR306711_GSM752558_gga_br_M_1        male       Brain  \nSRR306712  SRR306712_GSM752559_gga_cb_F_1      female  Cerebellum  \nSRR306713  SRR306713_GSM752560_gga_cb_M_1        male  Cerebellum  \nSRR306714  SRR306714_GSM752561_gga_ht_F_1      female       Heart  \n\n[5 rows x 35 columns]"
       },
       "execution_count": 13,
       "metadata": {},
       "output_type": "execute_result"
      }
     ],
     "persistentId": "0c06982b-0cfe-4548-8d9f-74460ca65709",
     "text": "runs_not_in_explorer_metadata = ncbi_run_table_metadata.loc[runs_not_in_sra_explorer]\nprint(runs_not_in_explorer_metadata.shape)\nruns_not_in_explorer_metadata.head()"
    },
    "executionTime": "2019-11-05T18:07:57.778Z"
   },
   {
    "cell": {
     "executionCount": 14,
     "executionEventId": "5d050046-d2a1-451f-b352-7a25e12afbd2",
     "hasError": false,
     "id": "c715f143-2d40-4b2d-b66a-80af20a4e8a7",
     "outputs": [
      {
       "data": {
        "text/plain": "Ornithorhynchus anatinus    18\nGallus gallus               14\nMonodelphis domestica       10\nHomo sapiens                 1\nName: Organism, dtype: int64"
       },
       "execution_count": 14,
       "metadata": {},
       "output_type": "execute_result"
      }
     ],
     "persistentId": "1b6d87b8-1377-45d8-b105-6ee6b47da5d4",
     "text": "runs_not_in_explorer_metadata.Organism.value_counts()"
    },
    "executionTime": "2019-11-05T18:08:04.687Z"
   },
   {
    "cell": {
     "executionCount": 15,
     "executionEventId": "2a068ddc-c08b-427e-9b35-95755be68357",
     "hasError": true,
     "id": "dc1833f5-7599-49fd-82b8-42d07dd39797",
     "outputs": [
      {
       "ename": "AttributeError",
       "evalue": "'Series' object has no attribute 'sex_cleaned'",
       "output_type": "error",
       "traceback": [
        "\u001b[0;31m---------------------------------------------------------------------------\u001b[0m",
        "\u001b[0;31mAttributeError\u001b[0m                            Traceback (most recent call last)",
        "\u001b[0;32m<ipython-input-15-a10a1743a22d>\u001b[0m in \u001b[0;36m<module>\u001b[0;34m()\u001b[0m\n\u001b[1;32m      1\u001b[0m \u001b[0;34m\u001b[0m\u001b[0m\n\u001b[0;32m----> 2\u001b[0;31m \u001b[0mruns_not_in_explorer_metadata\u001b[0m\u001b[0;34m.\u001b[0m\u001b[0mOrganism\u001b[0m\u001b[0;34m.\u001b[0m\u001b[0msex_cleaned\u001b[0m\u001b[0;34m(\u001b[0m\u001b[0;34m)\u001b[0m\u001b[0;34m\u001b[0m\u001b[0;34m\u001b[0m\u001b[0m\n\u001b[0m",
        "\u001b[0;32m~/miniconda3/envs/kmer-hashing/lib/python3.6/site-packages/pandas/core/generic.py\u001b[0m in \u001b[0;36m__getattr__\u001b[0;34m(self, name)\u001b[0m\n\u001b[1;32m   5177\u001b[0m             \u001b[0;32mif\u001b[0m \u001b[0mself\u001b[0m\u001b[0;34m.\u001b[0m\u001b[0m_info_axis\u001b[0m\u001b[0;34m.\u001b[0m\u001b[0m_can_hold_identifiers_and_holds_name\u001b[0m\u001b[0;34m(\u001b[0m\u001b[0mname\u001b[0m\u001b[0;34m)\u001b[0m\u001b[0;34m:\u001b[0m\u001b[0;34m\u001b[0m\u001b[0;34m\u001b[0m\u001b[0m\n\u001b[1;32m   5178\u001b[0m                 \u001b[0;32mreturn\u001b[0m \u001b[0mself\u001b[0m\u001b[0;34m[\u001b[0m\u001b[0mname\u001b[0m\u001b[0;34m]\u001b[0m\u001b[0;34m\u001b[0m\u001b[0;34m\u001b[0m\u001b[0m\n\u001b[0;32m-> 5179\u001b[0;31m             \u001b[0;32mreturn\u001b[0m \u001b[0mobject\u001b[0m\u001b[0;34m.\u001b[0m\u001b[0m__getattribute__\u001b[0m\u001b[0;34m(\u001b[0m\u001b[0mself\u001b[0m\u001b[0;34m,\u001b[0m \u001b[0mname\u001b[0m\u001b[0;34m)\u001b[0m\u001b[0;34m\u001b[0m\u001b[0;34m\u001b[0m\u001b[0m\n\u001b[0m\u001b[1;32m   5180\u001b[0m \u001b[0;34m\u001b[0m\u001b[0m\n\u001b[1;32m   5181\u001b[0m     \u001b[0;32mdef\u001b[0m \u001b[0m__setattr__\u001b[0m\u001b[0;34m(\u001b[0m\u001b[0mself\u001b[0m\u001b[0;34m,\u001b[0m \u001b[0mname\u001b[0m\u001b[0;34m,\u001b[0m \u001b[0mvalue\u001b[0m\u001b[0;34m)\u001b[0m\u001b[0;34m:\u001b[0m\u001b[0;34m\u001b[0m\u001b[0;34m\u001b[0m\u001b[0m\n",
        "\u001b[0;31mAttributeError\u001b[0m: 'Series' object has no attribute 'sex_cleaned'"
       ]
      }
     ],
     "persistentId": "27a9b27b-db73-4f14-9266-6afb11fdd6b1",
     "text": "\nruns_not_in_explorer_metadata.Organism.sex_cleaned()"
    },
    "executionTime": "2019-11-05T18:08:17.500Z"
   },
   {
    "cell": {
     "executionCount": 16,
     "executionEventId": "8a5ba6fb-0e5e-4955-aeee-7b5ed51fcc79",
     "hasError": false,
     "id": "dc1833f5-7599-49fd-82b8-42d07dd39797",
     "outputs": [
      {
       "data": {
        "text/plain": "male      25\nfemale    18\nName: sex_cleaned, dtype: int64"
       },
       "execution_count": 16,
       "metadata": {},
       "output_type": "execute_result"
      }
     ],
     "persistentId": "27a9b27b-db73-4f14-9266-6afb11fdd6b1",
     "text": "\nruns_not_in_explorer_metadata.sex_cleaned.value_counts()"
    },
    "executionTime": "2019-11-05T18:08:22.355Z"
   },
   {
    "cell": {
     "executionCount": 17,
     "executionEventId": "2e29073e-e85d-4807-8f3a-3bcda186ab10",
     "hasError": false,
     "id": "410b834c-7bfb-4cf1-baab-62d03535aa50",
     "outputs": [
      {
       "data": {
        "text/plain": "Brain         9\nHeart         8\nLiver         7\nKidney        7\nTestis        6\nCerebellum    6\nName: tissue, dtype: int64"
       },
       "execution_count": 17,
       "metadata": {},
       "output_type": "execute_result"
      }
     ],
     "persistentId": "599723e4-f857-4bd0-b840-b9a443e1dd14",
     "text": "\nruns_not_in_explorer_metadata.tissue.value_counts()"
    },
    "executionTime": "2019-11-05T18:08:25.432Z"
   },
   {
    "cell": {
     "executionCount": 18,
     "executionEventId": "1686e2a2-ea56-4a8f-a613-a0fab999e936",
     "hasError": false,
     "id": "de8ba43c-b4b6-461d-bee5-9c2bc2b23d55",
     "outputs": [
      {
       "data": {
        "text/plain": "['SRR306710',\n 'SRR306711',\n 'SRR306712',\n 'SRR306713',\n 'SRR306714',\n 'SRR306715',\n 'SRR306716',\n 'SRR306717',\n 'SRR306718',\n 'SRR306719',\n 'SRR306720',\n 'SRR306721',\n 'SRR306722',\n 'SRR306723',\n 'SRR306724',\n 'SRR306725',\n 'SRR306726',\n 'SRR306727',\n 'SRR306728',\n 'SRR306729',\n 'SRR306730',\n 'SRR306731',\n 'SRR306732',\n 'SRR306733',\n 'SRR306734',\n 'SRR306735',\n 'SRR306736',\n 'SRR306737',\n 'SRR306738',\n 'SRR306739',\n 'SRR306740',\n 'SRR306741',\n 'SRR306742',\n 'SRR306743',\n 'SRR306744',\n 'SRR306745',\n 'SRR306746',\n 'SRR306747',\n 'SRR306748',\n 'SRR306749',\n 'SRR306750',\n 'SRR306751',\n 'SRR306852']"
       },
       "execution_count": 18,
       "metadata": {},
       "output_type": "execute_result"
      }
     ],
     "persistentId": "6e32f055-a817-4e61-90a6-8d4a0ccea66c",
     "text": "runs_not_in_sra_explorer"
    },
    "executionTime": "2019-11-05T18:08:36.132Z"
   },
   {
    "cell": {
     "executionCount": 19,
     "executionEventId": "2af296ef-90b3-4f4f-bce5-5affc86fe354",
     "hasError": false,
     "id": "921f625f-4bf9-4eca-8120-f0558ef78acd",
     "outputs": [
      {
       "data": {
        "text/html": "<div>\n<style scoped>\n    .dataframe tbody tr th:only-of-type {\n        vertical-align: middle;\n    }\n\n    .dataframe tbody tr th {\n        vertical-align: top;\n    }\n\n    .dataframe thead th {\n        text-align: right;\n    }\n</style>\n<table border=\"1\" class=\"dataframe\">\n  <thead>\n    <tr style=\"text-align: right;\">\n      <th></th>\n      <th>Assay Type</th>\n      <th>AvgSpotLen</th>\n      <th>BioProject</th>\n      <th>BioSample</th>\n      <th>Center Name</th>\n      <th>Consent</th>\n      <th>DATASTORE filetype</th>\n      <th>DATASTORE provider</th>\n      <th>DATASTORE region</th>\n      <th>Experiment</th>\n      <th>...</th>\n      <th>tissue_source</th>\n      <th>gender</th>\n      <th>rin</th>\n      <th>Age</th>\n      <th>Extraction</th>\n      <th>sex</th>\n      <th>sanitized_name</th>\n      <th>sanitized_name_with_run</th>\n      <th>sex_cleaned</th>\n      <th>tissue</th>\n    </tr>\n    <tr>\n      <th>Run</th>\n      <th></th>\n      <th></th>\n      <th></th>\n      <th></th>\n      <th></th>\n      <th></th>\n      <th></th>\n      <th></th>\n      <th></th>\n      <th></th>\n      <th></th>\n      <th></th>\n      <th></th>\n      <th></th>\n      <th></th>\n      <th></th>\n      <th></th>\n      <th></th>\n      <th></th>\n      <th></th>\n      <th></th>\n    </tr>\n  </thead>\n  <tbody>\n    <tr>\n      <td>SRR306856</td>\n      <td>RNA-Seq</td>\n      <td>76</td>\n      <td>PRJNA143627</td>\n      <td>SAMN00632247</td>\n      <td>GEO</td>\n      <td>public</td>\n      <td>sra</td>\n      <td>gs,ncbi,s3</td>\n      <td>gs.US,ncbi.public,s3.us-east-1</td>\n      <td>SRX081997</td>\n      <td>...</td>\n      <td>National Disease Research Interchange, USA (NDRI)</td>\n      <td>male</td>\n      <td>8.6</td>\n      <td>NaN</td>\n      <td>NaN</td>\n      <td>NaN</td>\n      <td>GSM752706_hsa_lv_M_2</td>\n      <td>SRR306856_GSM752706_hsa_lv_M_2</td>\n      <td>male</td>\n      <td>Liver</td>\n    </tr>\n    <tr>\n      <td>SRR306857</td>\n      <td>RNA-Seq</td>\n      <td>76</td>\n      <td>PRJNA143627</td>\n      <td>SAMN00632248</td>\n      <td>GEO</td>\n      <td>public</td>\n      <td>sra</td>\n      <td>gs,ncbi,s3</td>\n      <td>gs.US,ncbi.public,s3.us-east-1</td>\n      <td>SRX081998</td>\n      <td>...</td>\n      <td>Commercial / AMS biotechnology</td>\n      <td>male</td>\n      <td>7.3</td>\n      <td>NaN</td>\n      <td>NaN</td>\n      <td>NaN</td>\n      <td>GSM752707_hsa_ts_M_1</td>\n      <td>SRR306857_GSM752707_hsa_ts_M_1</td>\n      <td>male</td>\n      <td>Testis</td>\n    </tr>\n    <tr>\n      <td>SRR306858</td>\n      <td>RNA-Seq</td>\n      <td>76</td>\n      <td>PRJNA143627</td>\n      <td>SAMN00632249</td>\n      <td>GEO</td>\n      <td>public</td>\n      <td>sra</td>\n      <td>gs,ncbi,s3</td>\n      <td>gs.US,ncbi.public,s3.us-east-1</td>\n      <td>SRX081999</td>\n      <td>...</td>\n      <td>National Disease Research Interchange, USA (NDRI)</td>\n      <td>male</td>\n      <td>7.9</td>\n      <td>NaN</td>\n      <td>NaN</td>\n      <td>NaN</td>\n      <td>GSM752708_hsa_ts_M_2</td>\n      <td>SRR306858_GSM752708_hsa_ts_M_2</td>\n      <td>male</td>\n      <td>Testis</td>\n    </tr>\n    <tr>\n      <td>SRR306807</td>\n      <td>RNA-Seq</td>\n      <td>76</td>\n      <td>PRJNA143627</td>\n      <td>SAMN00632201</td>\n      <td>GEO</td>\n      <td>public</td>\n      <td>sra</td>\n      <td>gs,ncbi,s3</td>\n      <td>gs.US,ncbi.public,s3.us-east-1</td>\n      <td>SRX081951</td>\n      <td>...</td>\n      <td>Zoo Frankfurt, Germany</td>\n      <td>male</td>\n      <td>8.4</td>\n      <td>51 years</td>\n      <td>RNeasy</td>\n      <td>NaN</td>\n      <td>GSM752660_ggo_kd_M_1</td>\n      <td>SRR306807_GSM752660_ggo_kd_M_1</td>\n      <td>male</td>\n      <td>Kidney</td>\n    </tr>\n    <tr>\n      <td>SRR306740</td>\n      <td>RNA-Seq</td>\n      <td>76</td>\n      <td>PRJNA143627</td>\n      <td>SAMN00632142</td>\n      <td>GEO</td>\n      <td>public</td>\n      <td>sra</td>\n      <td>gs,ncbi,s3</td>\n      <td>gs.US,ncbi.public,s3.us-east-1</td>\n      <td>SRX081892</td>\n      <td>...</td>\n      <td>Captured in New South Wales, Australia (provid...</td>\n      <td>male</td>\n      <td>8.0</td>\n      <td>adult</td>\n      <td>Standard</td>\n      <td>NaN</td>\n      <td>GSM752585_oan_ts_M_2</td>\n      <td>SRR306740_GSM752585_oan_ts_M_2</td>\n      <td>male</td>\n      <td>Testis</td>\n    </tr>\n  </tbody>\n</table>\n<p>5 rows × 35 columns</p>\n</div>",
        "text/plain": "          Assay Type  AvgSpotLen   BioProject     BioSample Center Name  \\\nRun                                                                       \nSRR306856    RNA-Seq          76  PRJNA143627  SAMN00632247         GEO   \nSRR306857    RNA-Seq          76  PRJNA143627  SAMN00632248         GEO   \nSRR306858    RNA-Seq          76  PRJNA143627  SAMN00632249         GEO   \nSRR306807    RNA-Seq          76  PRJNA143627  SAMN00632201         GEO   \nSRR306740    RNA-Seq          76  PRJNA143627  SAMN00632142         GEO   \n\n          Consent DATASTORE filetype DATASTORE provider  \\\nRun                                                       \nSRR306856  public                sra         gs,ncbi,s3   \nSRR306857  public                sra         gs,ncbi,s3   \nSRR306858  public                sra         gs,ncbi,s3   \nSRR306807  public                sra         gs,ncbi,s3   \nSRR306740  public                sra         gs,ncbi,s3   \n\n                         DATASTORE region Experiment  ...  \\\nRun                                                   ...   \nSRR306856  gs.US,ncbi.public,s3.us-east-1  SRX081997  ...   \nSRR306857  gs.US,ncbi.public,s3.us-east-1  SRX081998  ...   \nSRR306858  gs.US,ncbi.public,s3.us-east-1  SRX081999  ...   \nSRR306807  gs.US,ncbi.public,s3.us-east-1  SRX081951  ...   \nSRR306740  gs.US,ncbi.public,s3.us-east-1  SRX081892  ...   \n\n                                               tissue_source gender  rin  \\\nRun                                                                        \nSRR306856  National Disease Research Interchange, USA (NDRI)   male  8.6   \nSRR306857                     Commercial / AMS biotechnology   male  7.3   \nSRR306858  National Disease Research Interchange, USA (NDRI)   male  7.9   \nSRR306807                             Zoo Frankfurt, Germany   male  8.4   \nSRR306740  Captured in New South Wales, Australia (provid...   male  8.0   \n\n                Age Extraction  sex        sanitized_name  \\\nRun                                                         \nSRR306856       NaN        NaN  NaN  GSM752706_hsa_lv_M_2   \nSRR306857       NaN        NaN  NaN  GSM752707_hsa_ts_M_1   \nSRR306858       NaN        NaN  NaN  GSM752708_hsa_ts_M_2   \nSRR306807  51 years     RNeasy  NaN  GSM752660_ggo_kd_M_1   \nSRR306740     adult   Standard  NaN  GSM752585_oan_ts_M_2   \n\n                  sanitized_name_with_run sex_cleaned  tissue  \nRun                                                            \nSRR306856  SRR306856_GSM752706_hsa_lv_M_2        male   Liver  \nSRR306857  SRR306857_GSM752707_hsa_ts_M_1        male  Testis  \nSRR306858  SRR306858_GSM752708_hsa_ts_M_2        male  Testis  \nSRR306807  SRR306807_GSM752660_ggo_kd_M_1        male  Kidney  \nSRR306740  SRR306740_GSM752585_oan_ts_M_2        male  Testis  \n\n[5 rows x 35 columns]"
       },
       "execution_count": 19,
       "metadata": {},
       "output_type": "execute_result"
      }
     ],
     "persistentId": "c60a9be8-0934-4f6e-9dd7-aabc3e91a0a7",
     "text": "ncbi_run_table_metadata.tail()"
    },
    "executionTime": "2019-11-05T18:08:48.658Z"
   },
   {
    "cell": {
     "executionCount": 20,
     "executionEventId": "b0bdbfe0-2e99-438e-9bc3-586eb9312d85",
     "hasError": true,
     "id": "bae68007-a718-4e51-a6a1-30861c7d9fb9",
     "outputs": [
      {
       "ename": "AttributeError",
       "evalue": "'DataFrame' object has no attribute 'sample_id'",
       "output_type": "error",
       "traceback": [
        "\u001b[0;31m---------------------------------------------------------------------------\u001b[0m",
        "\u001b[0;31mAttributeError\u001b[0m                            Traceback (most recent call last)",
        "\u001b[0;32m<ipython-input-20-237cf33c3164>\u001b[0m in \u001b[0;36m<module>\u001b[0;34m()\u001b[0m\n\u001b[0;32m----> 1\u001b[0;31m \u001b[0msra_explorer_metadata\u001b[0m\u001b[0;34m.\u001b[0m\u001b[0msample_id\u001b[0m\u001b[0;34m.\u001b[0m\u001b[0mvalue_counts\u001b[0m\u001b[0;34m(\u001b[0m\u001b[0;34m)\u001b[0m\u001b[0;34m\u001b[0m\u001b[0;34m\u001b[0m\u001b[0m\n\u001b[0m",
        "\u001b[0;32m~/miniconda3/envs/kmer-hashing/lib/python3.6/site-packages/pandas/core/generic.py\u001b[0m in \u001b[0;36m__getattr__\u001b[0;34m(self, name)\u001b[0m\n\u001b[1;32m   5177\u001b[0m             \u001b[0;32mif\u001b[0m \u001b[0mself\u001b[0m\u001b[0;34m.\u001b[0m\u001b[0m_info_axis\u001b[0m\u001b[0;34m.\u001b[0m\u001b[0m_can_hold_identifiers_and_holds_name\u001b[0m\u001b[0;34m(\u001b[0m\u001b[0mname\u001b[0m\u001b[0;34m)\u001b[0m\u001b[0;34m:\u001b[0m\u001b[0;34m\u001b[0m\u001b[0;34m\u001b[0m\u001b[0m\n\u001b[1;32m   5178\u001b[0m                 \u001b[0;32mreturn\u001b[0m \u001b[0mself\u001b[0m\u001b[0;34m[\u001b[0m\u001b[0mname\u001b[0m\u001b[0;34m]\u001b[0m\u001b[0;34m\u001b[0m\u001b[0;34m\u001b[0m\u001b[0m\n\u001b[0;32m-> 5179\u001b[0;31m             \u001b[0;32mreturn\u001b[0m \u001b[0mobject\u001b[0m\u001b[0;34m.\u001b[0m\u001b[0m__getattribute__\u001b[0m\u001b[0;34m(\u001b[0m\u001b[0mself\u001b[0m\u001b[0;34m,\u001b[0m \u001b[0mname\u001b[0m\u001b[0;34m)\u001b[0m\u001b[0;34m\u001b[0m\u001b[0;34m\u001b[0m\u001b[0m\n\u001b[0m\u001b[1;32m   5180\u001b[0m \u001b[0;34m\u001b[0m\u001b[0m\n\u001b[1;32m   5181\u001b[0m     \u001b[0;32mdef\u001b[0m \u001b[0m__setattr__\u001b[0m\u001b[0;34m(\u001b[0m\u001b[0mself\u001b[0m\u001b[0;34m,\u001b[0m \u001b[0mname\u001b[0m\u001b[0;34m,\u001b[0m \u001b[0mvalue\u001b[0m\u001b[0;34m)\u001b[0m\u001b[0;34m:\u001b[0m\u001b[0;34m\u001b[0m\u001b[0;34m\u001b[0m\u001b[0m\n",
        "\u001b[0;31mAttributeError\u001b[0m: 'DataFrame' object has no attribute 'sample_id'"
       ]
      }
     ],
     "persistentId": "8b83e71e-3c95-48d4-8887-7f8c7a31e945",
     "text": "sra_explorer_metadata.sample_id.value_counts()"
    },
    "executionTime": "2019-11-05T18:17:07.677Z"
   },
   {
    "cell": {
     "executionCount": 21,
     "executionEventId": "d4a8dcd2-7a38-416d-b595-d36978c11d76",
     "hasError": true,
     "id": "bae68007-a718-4e51-a6a1-30861c7d9fb9",
     "outputs": [
      {
       "ename": "AttributeError",
       "evalue": "'DataFrame' object has no attribute 'sample_id'",
       "output_type": "error",
       "traceback": [
        "\u001b[0;31m---------------------------------------------------------------------------\u001b[0m",
        "\u001b[0;31mAttributeError\u001b[0m                            Traceback (most recent call last)",
        "\u001b[0;32m<ipython-input-21-237cf33c3164>\u001b[0m in \u001b[0;36m<module>\u001b[0;34m()\u001b[0m\n\u001b[0;32m----> 1\u001b[0;31m \u001b[0msra_explorer_metadata\u001b[0m\u001b[0;34m.\u001b[0m\u001b[0msample_id\u001b[0m\u001b[0;34m.\u001b[0m\u001b[0mvalue_counts\u001b[0m\u001b[0;34m(\u001b[0m\u001b[0;34m)\u001b[0m\u001b[0;34m\u001b[0m\u001b[0;34m\u001b[0m\u001b[0m\n\u001b[0m",
        "\u001b[0;32m~/miniconda3/envs/kmer-hashing/lib/python3.6/site-packages/pandas/core/generic.py\u001b[0m in \u001b[0;36m__getattr__\u001b[0;34m(self, name)\u001b[0m\n\u001b[1;32m   5177\u001b[0m             \u001b[0;32mif\u001b[0m \u001b[0mself\u001b[0m\u001b[0;34m.\u001b[0m\u001b[0m_info_axis\u001b[0m\u001b[0;34m.\u001b[0m\u001b[0m_can_hold_identifiers_and_holds_name\u001b[0m\u001b[0;34m(\u001b[0m\u001b[0mname\u001b[0m\u001b[0;34m)\u001b[0m\u001b[0;34m:\u001b[0m\u001b[0;34m\u001b[0m\u001b[0;34m\u001b[0m\u001b[0m\n\u001b[1;32m   5178\u001b[0m                 \u001b[0;32mreturn\u001b[0m \u001b[0mself\u001b[0m\u001b[0;34m[\u001b[0m\u001b[0mname\u001b[0m\u001b[0;34m]\u001b[0m\u001b[0;34m\u001b[0m\u001b[0;34m\u001b[0m\u001b[0m\n\u001b[0;32m-> 5179\u001b[0;31m             \u001b[0;32mreturn\u001b[0m \u001b[0mobject\u001b[0m\u001b[0;34m.\u001b[0m\u001b[0m__getattribute__\u001b[0m\u001b[0;34m(\u001b[0m\u001b[0mself\u001b[0m\u001b[0;34m,\u001b[0m \u001b[0mname\u001b[0m\u001b[0;34m)\u001b[0m\u001b[0;34m\u001b[0m\u001b[0;34m\u001b[0m\u001b[0m\n\u001b[0m\u001b[1;32m   5180\u001b[0m \u001b[0;34m\u001b[0m\u001b[0m\n\u001b[1;32m   5181\u001b[0m     \u001b[0;32mdef\u001b[0m \u001b[0m__setattr__\u001b[0m\u001b[0;34m(\u001b[0m\u001b[0mself\u001b[0m\u001b[0;34m,\u001b[0m \u001b[0mname\u001b[0m\u001b[0;34m,\u001b[0m \u001b[0mvalue\u001b[0m\u001b[0;34m)\u001b[0m\u001b[0;34m:\u001b[0m\u001b[0;34m\u001b[0m\u001b[0;34m\u001b[0m\u001b[0m\n",
        "\u001b[0;31mAttributeError\u001b[0m: 'DataFrame' object has no attribute 'sample_id'"
       ]
      }
     ],
     "persistentId": "8b83e71e-3c95-48d4-8887-7f8c7a31e945",
     "text": "sra_explorer_metadata.sample_id.value_counts()"
    },
    "executionTime": "2019-11-05T18:17:13.632Z"
   },
   {
    "cell": {
     "executionCount": 22,
     "executionEventId": "9b593715-6dd3-48a0-85b2-85592fd06d5b",
     "hasError": false,
     "id": "a48c0d03-aca2-485c-9498-5b6631550d7f",
     "outputs": [
      {
       "name": "stdout",
       "output_type": "stream",
       "text": "(117, 11)\n"
      },
      {
       "data": {
        "text/html": "<div>\n<style scoped>\n    .dataframe tbody tr th:only-of-type {\n        vertical-align: middle;\n    }\n\n    .dataframe tbody tr th {\n        vertical-align: top;\n    }\n\n    .dataframe thead th {\n        text-align: right;\n    }\n</style>\n<table border=\"1\" class=\"dataframe\">\n  <thead>\n    <tr style=\"text-align: right;\">\n      <th></th>\n      <th>filename</th>\n      <th>basename</th>\n      <th>sra_id</th>\n      <th>geo_id</th>\n      <th>animal_abbrev</th>\n      <th>tissue_abbrev</th>\n      <th>sex</th>\n      <th>replicate</th>\n      <th>read_number</th>\n      <th>animal</th>\n      <th>tissue</th>\n    </tr>\n    <tr>\n      <th>sample_id</th>\n      <th></th>\n      <th></th>\n      <th></th>\n      <th></th>\n      <th></th>\n      <th></th>\n      <th></th>\n      <th></th>\n      <th></th>\n      <th></th>\n      <th></th>\n    </tr>\n  </thead>\n  <tbody>\n    <tr>\n      <td>SRR306786_GSM752640_mml_lv_F_1</td>\n      <td>/mnt/ibm_lg/olga/sra-explorer/brawand2011/SRR3...</td>\n      <td>SRR306786_GSM752640_mml_lv_F_1.fastq.gz</td>\n      <td>SRR306786</td>\n      <td>GSM752640</td>\n      <td>mml</td>\n      <td>lv</td>\n      <td>F</td>\n      <td>1</td>\n      <td>1</td>\n      <td>Mouse</td>\n      <td>Liver</td>\n    </tr>\n    <tr>\n      <td>SRR306823_GSM752676_ptr_lv_F_1</td>\n      <td>/mnt/ibm_lg/olga/sra-explorer/brawand2011/SRR3...</td>\n      <td>SRR306823_GSM752676_ptr_lv_F_1.fastq.gz</td>\n      <td>SRR306823</td>\n      <td>GSM752676</td>\n      <td>ptr</td>\n      <td>lv</td>\n      <td>F</td>\n      <td>1</td>\n      <td>1</td>\n      <td>Chimpanzee</td>\n      <td>Liver</td>\n    </tr>\n    <tr>\n      <td>SRR306758_GSM752615_mmu_br_M_1</td>\n      <td>/mnt/ibm_lg/olga/sra-explorer/brawand2011/SRR3...</td>\n      <td>SRR306758_GSM752615_mmu_br_M_1.fastq.gz</td>\n      <td>SRR306758</td>\n      <td>GSM752615</td>\n      <td>mmu</td>\n      <td>br</td>\n      <td>M</td>\n      <td>1</td>\n      <td>1</td>\n      <td>NaN</td>\n      <td>Brain</td>\n    </tr>\n    <tr>\n      <td>SRR306845_GSM752698_hsa_cb_M_1</td>\n      <td>/mnt/ibm_lg/olga/sra-explorer/brawand2011/SRR3...</td>\n      <td>SRR306845_GSM752698_hsa_cb_M_1.fastq.gz</td>\n      <td>SRR306845</td>\n      <td>GSM752698</td>\n      <td>hsa</td>\n      <td>cb</td>\n      <td>M</td>\n      <td>1</td>\n      <td>1</td>\n      <td>Human</td>\n      <td>Cerebellum</td>\n    </tr>\n    <tr>\n      <td>SRR306827_GSM752680_ppa_br_F_2</td>\n      <td>/mnt/ibm_lg/olga/sra-explorer/brawand2011/SRR3...</td>\n      <td>SRR306827_GSM752680_ppa_br_F_2.fastq.gz</td>\n      <td>SRR306827</td>\n      <td>GSM752680</td>\n      <td>ppa</td>\n      <td>br</td>\n      <td>F</td>\n      <td>2</td>\n      <td>1</td>\n      <td>Bonobo</td>\n      <td>Brain</td>\n    </tr>\n  </tbody>\n</table>\n</div>",
        "text/plain": "                                                                         filename  \\\nsample_id                                                                           \nSRR306786_GSM752640_mml_lv_F_1  /mnt/ibm_lg/olga/sra-explorer/brawand2011/SRR3...   \nSRR306823_GSM752676_ptr_lv_F_1  /mnt/ibm_lg/olga/sra-explorer/brawand2011/SRR3...   \nSRR306758_GSM752615_mmu_br_M_1  /mnt/ibm_lg/olga/sra-explorer/brawand2011/SRR3...   \nSRR306845_GSM752698_hsa_cb_M_1  /mnt/ibm_lg/olga/sra-explorer/brawand2011/SRR3...   \nSRR306827_GSM752680_ppa_br_F_2  /mnt/ibm_lg/olga/sra-explorer/brawand2011/SRR3...   \n\n                                                               basename  \\\nsample_id                                                                 \nSRR306786_GSM752640_mml_lv_F_1  SRR306786_GSM752640_mml_lv_F_1.fastq.gz   \nSRR306823_GSM752676_ptr_lv_F_1  SRR306823_GSM752676_ptr_lv_F_1.fastq.gz   \nSRR306758_GSM752615_mmu_br_M_1  SRR306758_GSM752615_mmu_br_M_1.fastq.gz   \nSRR306845_GSM752698_hsa_cb_M_1  SRR306845_GSM752698_hsa_cb_M_1.fastq.gz   \nSRR306827_GSM752680_ppa_br_F_2  SRR306827_GSM752680_ppa_br_F_2.fastq.gz   \n\n                                   sra_id     geo_id animal_abbrev  \\\nsample_id                                                            \nSRR306786_GSM752640_mml_lv_F_1  SRR306786  GSM752640           mml   \nSRR306823_GSM752676_ptr_lv_F_1  SRR306823  GSM752676           ptr   \nSRR306758_GSM752615_mmu_br_M_1  SRR306758  GSM752615           mmu   \nSRR306845_GSM752698_hsa_cb_M_1  SRR306845  GSM752698           hsa   \nSRR306827_GSM752680_ppa_br_F_2  SRR306827  GSM752680           ppa   \n\n                               tissue_abbrev sex  replicate  read_number  \\\nsample_id                                                                  \nSRR306786_GSM752640_mml_lv_F_1            lv   F          1            1   \nSRR306823_GSM752676_ptr_lv_F_1            lv   F          1            1   \nSRR306758_GSM752615_mmu_br_M_1            br   M          1            1   \nSRR306845_GSM752698_hsa_cb_M_1            cb   M          1            1   \nSRR306827_GSM752680_ppa_br_F_2            br   F          2            1   \n\n                                    animal      tissue  \nsample_id                                               \nSRR306786_GSM752640_mml_lv_F_1       Mouse       Liver  \nSRR306823_GSM752676_ptr_lv_F_1  Chimpanzee       Liver  \nSRR306758_GSM752615_mmu_br_M_1         NaN       Brain  \nSRR306845_GSM752698_hsa_cb_M_1       Human  Cerebellum  \nSRR306827_GSM752680_ppa_br_F_2      Bonobo       Brain  "
       },
       "execution_count": 22,
       "metadata": {},
       "output_type": "execute_result"
      }
     ],
     "persistentId": "6bc79692-ba0f-4163-a248-58a297ad72a2",
     "text": "sra_explorer_metadata = pd.read_csv('/home/olga/ibm_lg/kmer-hashing/brawand2011/sample_metadata_handmade.csv', index_col=0)\nprint(sra_explorer_metadata.shape)\nsra_explorer_metadata.head()"
    },
    "executionTime": "2019-11-05T18:17:16.022Z"
   },
   {
    "cell": {
     "executionCount": 23,
     "executionEventId": "80f32758-e41a-4aee-b646-a7a7af89229d",
     "hasError": true,
     "id": "bae68007-a718-4e51-a6a1-30861c7d9fb9",
     "outputs": [
      {
       "ename": "AttributeError",
       "evalue": "'DataFrame' object has no attribute 'sample_id'",
       "output_type": "error",
       "traceback": [
        "\u001b[0;31m---------------------------------------------------------------------------\u001b[0m",
        "\u001b[0;31mAttributeError\u001b[0m                            Traceback (most recent call last)",
        "\u001b[0;32m<ipython-input-23-237cf33c3164>\u001b[0m in \u001b[0;36m<module>\u001b[0;34m()\u001b[0m\n\u001b[0;32m----> 1\u001b[0;31m \u001b[0msra_explorer_metadata\u001b[0m\u001b[0;34m.\u001b[0m\u001b[0msample_id\u001b[0m\u001b[0;34m.\u001b[0m\u001b[0mvalue_counts\u001b[0m\u001b[0;34m(\u001b[0m\u001b[0;34m)\u001b[0m\u001b[0;34m\u001b[0m\u001b[0;34m\u001b[0m\u001b[0m\n\u001b[0m",
        "\u001b[0;32m~/miniconda3/envs/kmer-hashing/lib/python3.6/site-packages/pandas/core/generic.py\u001b[0m in \u001b[0;36m__getattr__\u001b[0;34m(self, name)\u001b[0m\n\u001b[1;32m   5177\u001b[0m             \u001b[0;32mif\u001b[0m \u001b[0mself\u001b[0m\u001b[0;34m.\u001b[0m\u001b[0m_info_axis\u001b[0m\u001b[0;34m.\u001b[0m\u001b[0m_can_hold_identifiers_and_holds_name\u001b[0m\u001b[0;34m(\u001b[0m\u001b[0mname\u001b[0m\u001b[0;34m)\u001b[0m\u001b[0;34m:\u001b[0m\u001b[0;34m\u001b[0m\u001b[0;34m\u001b[0m\u001b[0m\n\u001b[1;32m   5178\u001b[0m                 \u001b[0;32mreturn\u001b[0m \u001b[0mself\u001b[0m\u001b[0;34m[\u001b[0m\u001b[0mname\u001b[0m\u001b[0;34m]\u001b[0m\u001b[0;34m\u001b[0m\u001b[0;34m\u001b[0m\u001b[0m\n\u001b[0;32m-> 5179\u001b[0;31m             \u001b[0;32mreturn\u001b[0m \u001b[0mobject\u001b[0m\u001b[0;34m.\u001b[0m\u001b[0m__getattribute__\u001b[0m\u001b[0;34m(\u001b[0m\u001b[0mself\u001b[0m\u001b[0;34m,\u001b[0m \u001b[0mname\u001b[0m\u001b[0;34m)\u001b[0m\u001b[0;34m\u001b[0m\u001b[0;34m\u001b[0m\u001b[0m\n\u001b[0m\u001b[1;32m   5180\u001b[0m \u001b[0;34m\u001b[0m\u001b[0m\n\u001b[1;32m   5181\u001b[0m     \u001b[0;32mdef\u001b[0m \u001b[0m__setattr__\u001b[0m\u001b[0;34m(\u001b[0m\u001b[0mself\u001b[0m\u001b[0;34m,\u001b[0m \u001b[0mname\u001b[0m\u001b[0;34m,\u001b[0m \u001b[0mvalue\u001b[0m\u001b[0;34m)\u001b[0m\u001b[0;34m:\u001b[0m\u001b[0;34m\u001b[0m\u001b[0;34m\u001b[0m\u001b[0m\n",
        "\u001b[0;31mAttributeError\u001b[0m: 'DataFrame' object has no attribute 'sample_id'"
       ]
      }
     ],
     "persistentId": "8b83e71e-3c95-48d4-8887-7f8c7a31e945",
     "text": "sra_explorer_metadata.sample_id.value_counts()"
    },
    "executionTime": "2019-11-05T18:17:16.248Z"
   },
   {
    "cell": {
     "executionCount": 24,
     "executionEventId": "b504c24b-4f8e-4942-8b11-6aada85ff0c3",
     "hasError": false,
     "id": "9d5f5ecb-fbbc-4e76-8de4-049b79daf836",
     "outputs": [
      {
       "data": {
        "text/plain": "array(['filename', 'basename', 'sra_id', 'geo_id', 'animal_abbrev',\n       'tissue_abbrev', 'sex', 'replicate', 'read_number', 'animal',\n       'tissue'], dtype=object)"
       },
       "execution_count": 24,
       "metadata": {},
       "output_type": "execute_result"
      }
     ],
     "persistentId": "0a241519-7c9f-4b34-a011-47c4d8331e99",
     "text": "sra_explorer_metadata.columns.values"
    },
    "executionTime": "2019-11-05T18:17:24.343Z"
   },
   {
    "cell": {
     "executionCount": 25,
     "executionEventId": "ce35d8c8-ed84-4574-9d6d-815231802029",
     "hasError": true,
     "id": "bae68007-a718-4e51-a6a1-30861c7d9fb9",
     "outputs": [
      {
       "ename": "AttributeError",
       "evalue": "'DataFrame' object has no attribute 'inde'",
       "output_type": "error",
       "traceback": [
        "\u001b[0;31m---------------------------------------------------------------------------\u001b[0m",
        "\u001b[0;31mAttributeError\u001b[0m                            Traceback (most recent call last)",
        "\u001b[0;32m<ipython-input-25-fb10f24bd386>\u001b[0m in \u001b[0;36m<module>\u001b[0;34m()\u001b[0m\n\u001b[0;32m----> 1\u001b[0;31m \u001b[0msra_explorer_metadata\u001b[0m\u001b[0;34m.\u001b[0m\u001b[0minde\u001b[0m\u001b[0;34m.\u001b[0m\u001b[0mvalue_counts\u001b[0m\u001b[0;34m(\u001b[0m\u001b[0;34m)\u001b[0m\u001b[0;34m\u001b[0m\u001b[0;34m\u001b[0m\u001b[0m\n\u001b[0m",
        "\u001b[0;32m~/miniconda3/envs/kmer-hashing/lib/python3.6/site-packages/pandas/core/generic.py\u001b[0m in \u001b[0;36m__getattr__\u001b[0;34m(self, name)\u001b[0m\n\u001b[1;32m   5177\u001b[0m             \u001b[0;32mif\u001b[0m \u001b[0mself\u001b[0m\u001b[0;34m.\u001b[0m\u001b[0m_info_axis\u001b[0m\u001b[0;34m.\u001b[0m\u001b[0m_can_hold_identifiers_and_holds_name\u001b[0m\u001b[0;34m(\u001b[0m\u001b[0mname\u001b[0m\u001b[0;34m)\u001b[0m\u001b[0;34m:\u001b[0m\u001b[0;34m\u001b[0m\u001b[0;34m\u001b[0m\u001b[0m\n\u001b[1;32m   5178\u001b[0m                 \u001b[0;32mreturn\u001b[0m \u001b[0mself\u001b[0m\u001b[0;34m[\u001b[0m\u001b[0mname\u001b[0m\u001b[0;34m]\u001b[0m\u001b[0;34m\u001b[0m\u001b[0;34m\u001b[0m\u001b[0m\n\u001b[0;32m-> 5179\u001b[0;31m             \u001b[0;32mreturn\u001b[0m \u001b[0mobject\u001b[0m\u001b[0;34m.\u001b[0m\u001b[0m__getattribute__\u001b[0m\u001b[0;34m(\u001b[0m\u001b[0mself\u001b[0m\u001b[0;34m,\u001b[0m \u001b[0mname\u001b[0m\u001b[0;34m)\u001b[0m\u001b[0;34m\u001b[0m\u001b[0;34m\u001b[0m\u001b[0m\n\u001b[0m\u001b[1;32m   5180\u001b[0m \u001b[0;34m\u001b[0m\u001b[0m\n\u001b[1;32m   5181\u001b[0m     \u001b[0;32mdef\u001b[0m \u001b[0m__setattr__\u001b[0m\u001b[0;34m(\u001b[0m\u001b[0mself\u001b[0m\u001b[0;34m,\u001b[0m \u001b[0mname\u001b[0m\u001b[0;34m,\u001b[0m \u001b[0mvalue\u001b[0m\u001b[0;34m)\u001b[0m\u001b[0;34m:\u001b[0m\u001b[0;34m\u001b[0m\u001b[0;34m\u001b[0m\u001b[0m\n",
        "\u001b[0;31mAttributeError\u001b[0m: 'DataFrame' object has no attribute 'inde'"
       ]
      }
     ],
     "persistentId": "8b83e71e-3c95-48d4-8887-7f8c7a31e945",
     "text": "sra_explorer_metadata.inde.value_counts()"
    },
    "executionTime": "2019-11-05T18:17:29.595Z"
   },
   {
    "cell": {
     "executionCount": 26,
     "executionEventId": "6e1a2995-3f66-4133-91d6-f177dc56c86f",
     "hasError": false,
     "id": "bae68007-a718-4e51-a6a1-30861c7d9fb9",
     "outputs": [
      {
       "data": {
        "text/plain": "SRR306826_GSM752679_ppa_br_F_1    2\nSRR306801_GSM752654_ggo_br_M_1    2\nSRR306842_GSM752695_hsa_br_M_4    2\nSRR306792_GSM752645_ppy_br_M_1    2\nSRR306815_GSM752668_ptr_br_M_4    2\n                                 ..\nSRR306818_GSM752671_ptr_cb_M_1    1\nSRR306755_GSM752611_mdo_ts_M_1    1\nSRR306822_GSM752675_ptr_kd_M_1    1\nSRR306790_GSM752643_mml_ts_M_2    1\nSRR306854_GSM752705_hsa_lv_M_1    1\nName: sample_id, Length: 106, dtype: int64"
       },
       "execution_count": 26,
       "metadata": {},
       "output_type": "execute_result"
      }
     ],
     "persistentId": "8b83e71e-3c95-48d4-8887-7f8c7a31e945",
     "text": "sra_explorer_metadata.index.value_counts()"
    },
    "executionTime": "2019-11-05T18:17:31.023Z"
   },
   {
    "cell": {
     "executionCount": 27,
     "executionEventId": "8e11217b-8f91-48d6-988c-7b9592440dcf",
     "hasError": false,
     "id": "3f7a5178-c38e-479f-b00d-64be439da4f8",
     "outputs": [
      {
       "data": {
        "text/plain": "sample_id\nSRR306786_GSM752640_mml_lv_F_1    SRR306786\nSRR306823_GSM752676_ptr_lv_F_1    SRR306823\nSRR306758_GSM752615_mmu_br_M_1    SRR306758\nSRR306845_GSM752698_hsa_cb_M_1    SRR306845\nSRR306827_GSM752680_ppa_br_F_2    SRR306827\n                                    ...    \nSRR306818_GSM752671_ptr_cb_M_1    SRR306818\nSRR306850_GSM752701_hsa_ht_M_2    SRR306850\nSRR306822_GSM752675_ptr_kd_M_1    SRR306822\nSRR306846_GSM752698_hsa_cb_M_1    SRR306846\nSRR306787_GSM752641_mml_lv_M_1    SRR306787\nName: sra_id, Length: 117, dtype: object"
       },
       "execution_count": 27,
       "metadata": {},
       "output_type": "execute_result"
      }
     ],
     "persistentId": "0acd5d2d-5b7e-4841-a75e-e9ae0976ee48",
     "text": "sra_explorer_metadata.sra_id"
    },
    "executionTime": "2019-11-05T18:18:36.956Z"
   },
   {
    "cell": {
     "executionCount": 28,
     "executionEventId": "ed961f1c-3b0b-4cca-af52-74c872fd243d",
     "hasError": false,
     "id": "3f7a5178-c38e-479f-b00d-64be439da4f8",
     "outputs": [
      {
       "data": {
        "text/plain": "sample_id\nSRR306752_GSM752603_mdo_kd_M_1    SRR306752\nSRR306753_GSM752606_mdo_lv_F_1    SRR306753\nSRR306754_GSM752608_mdo_lv_M_1    SRR306754\nSRR306755_GSM752611_mdo_ts_M_1    SRR306755\nSRR306756_GSM752613_mdo_ts_M_2    SRR306756\n                                    ...    \nSRR306854_GSM752705_hsa_lv_M_1    SRR306854\nSRR306855_GSM752705_hsa_lv_M_1    SRR306855\nSRR306856_GSM752706_hsa_lv_M_2    SRR306856\nSRR306857_GSM752707_hsa_ts_M_1    SRR306857\nSRR306858_GSM752708_hsa_ts_M_2    SRR306858\nName: sra_id, Length: 117, dtype: object"
       },
       "execution_count": 28,
       "metadata": {},
       "output_type": "execute_result"
      }
     ],
     "persistentId": "0acd5d2d-5b7e-4841-a75e-e9ae0976ee48",
     "text": "sra_explorer_metadata.sra_id.sort_values()"
    },
    "executionTime": "2019-11-05T18:18:45.598Z"
   }
  ],
  "kernelspec": {
   "display_name": "Python [conda env:kmer-hashing]",
   "language": "python",
   "name": "conda-env-kmer-hashing-py"
  },
  "language_info": {
   "codemirror_mode": {
    "name": "ipython",
    "version": 3
   },
   "file_extension": ".py",
   "mimetype": "text/x-python",
   "name": "python",
   "nbconvert_exporter": "python",
   "pygments_lexer": "ipython3",
   "version": "3.6.8"
  },
  "uuid": "401112e0-3ebb-465a-99dd-c712207beb20"
 },
 "nbformat": 4,
 "nbformat_minor": 4
}
