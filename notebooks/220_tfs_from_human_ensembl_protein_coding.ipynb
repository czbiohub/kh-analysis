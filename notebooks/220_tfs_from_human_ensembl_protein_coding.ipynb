{
 "cells": [
  {
   "cell_type": "code",
   "execution_count": 9,
   "metadata": {
    "execution_event_id": "ee676c5d-870d-45e4-969b-0941a4bc050f",
    "last_executed_text": "%load_ext autoreload\n%autoreload 2\n\nfolder = '/home/olga/data_sm/kmer-hashing/classify_coding_vs_noncoding/'\n",
    "persistent_id": "d6fd9d66-4ea7-4801-a845-4f037d12d176"
   },
   "outputs": [
    {
     "name": "stdout",
     "output_type": "stream",
     "text": [
      "The autoreload extension is already loaded. To reload it, use:\n",
      "  %reload_ext autoreload\n"
     ]
    }
   ],
   "source": [
    "%load_ext autoreload\n",
    "%autoreload 2\n",
    "\n",
    "folder = '/home/olga/data_sm/kmer-hashing/classify_coding_vs_noncoding/'\n"
   ]
  },
  {
   "cell_type": "code",
   "execution_count": 10,
   "metadata": {
    "execution_event_id": "7ebef338-2eda-4f6f-92ff-0538833a6636",
    "last_executed_text": "cd $folder",
    "persistent_id": "d82e3576-770b-4e60-b55a-93801fb6c09a"
   },
   "outputs": [
    {
     "name": "stdout",
     "output_type": "stream",
     "text": [
      "/mnt/data_sm/olga/kmer-hashing/classify_coding_vs_noncoding\n"
     ]
    }
   ],
   "source": [
    "cd $folder"
   ]
  },
  {
   "cell_type": "code",
   "execution_count": 20,
   "metadata": {
    "execution_event_id": "a915bc78-4559-4ded-9de6-3d71a3ffee12",
    "last_executed_text": "import re\n\nimport pandas as pd\nimport screed",
    "persistent_id": "865243fe-64ce-4011-a5a7-ae93f13b1d6d"
   },
   "outputs": [],
   "source": [
    "import re\n",
    "\n",
    "import pandas as pd\n",
    "import screed"
   ]
  },
  {
   "cell_type": "markdown",
   "metadata": {
    "persistent_id": "ace6f208-e775-432e-bab3-c6dc6fd9c3b5"
   },
   "source": [
    "Read supplementary material csvs from https://www.ncbi.nlm.nih.gov/pubmed/29425488"
   ]
  },
  {
   "cell_type": "code",
   "execution_count": 4,
   "metadata": {
    "execution_event_id": "bcca95bd-2713-4073-b553-1ca6515e2d0f",
    "last_executed_text": "\n\nhuman_tfs = pd.read_csv(\"http://humantfs.ccbr.utoronto.ca/download/v_1.01/DatabaseExtract_v_1.01.csv\", index_col=0)\nprint(human_tfs.shape)\nhuman_tfs.head()",
    "persistent_id": "b9fd7d90-7ea4-4e28-8d0d-bc71deb1120b"
   },
   "outputs": [
    {
     "name": "stdout",
     "output_type": "stream",
     "text": [
      "(2765, 28)\n"
     ]
    },
    {
     "data": {
      "text/html": [
       "<div>\n",
       "<style scoped>\n",
       "    .dataframe tbody tr th:only-of-type {\n",
       "        vertical-align: middle;\n",
       "    }\n",
       "\n",
       "    .dataframe tbody tr th {\n",
       "        vertical-align: top;\n",
       "    }\n",
       "\n",
       "    .dataframe thead th {\n",
       "        text-align: right;\n",
       "    }\n",
       "</style>\n",
       "<table border=\"1\" class=\"dataframe\">\n",
       "  <thead>\n",
       "    <tr style=\"text-align: right;\">\n",
       "      <th></th>\n",
       "      <th>Ensembl ID</th>\n",
       "      <th>HGNC symbol</th>\n",
       "      <th>DBD</th>\n",
       "      <th>Is TF?</th>\n",
       "      <th>TF assessment</th>\n",
       "      <th>Binding mode</th>\n",
       "      <th>Motif status</th>\n",
       "      <th>Final Notes</th>\n",
       "      <th>Final Comments</th>\n",
       "      <th>Interpro ID(s)</th>\n",
       "      <th>...</th>\n",
       "      <th>CisBP considers it a TF?</th>\n",
       "      <th>TFCat classification</th>\n",
       "      <th>Is a GO TF?</th>\n",
       "      <th>Initial assessment</th>\n",
       "      <th>Curator 1</th>\n",
       "      <th>Curator 2</th>\n",
       "      <th>TFclass considers it a TF?</th>\n",
       "      <th>Go Evidence</th>\n",
       "      <th>Pfam Domains (By ENSP ID)</th>\n",
       "      <th>Is C2H2 ZF(KRAB)?</th>\n",
       "    </tr>\n",
       "  </thead>\n",
       "  <tbody>\n",
       "    <tr>\n",
       "      <th>0</th>\n",
       "      <td>ENSG00000137203</td>\n",
       "      <td>TFAP2A</td>\n",
       "      <td>AP-2</td>\n",
       "      <td>Yes</td>\n",
       "      <td>Known motif</td>\n",
       "      <td>Monomer or homomultimer</td>\n",
       "      <td>High-throughput in vitro</td>\n",
       "      <td>None</td>\n",
       "      <td>None</td>\n",
       "      <td>IPR008121;IPR013854</td>\n",
       "      <td>...</td>\n",
       "      <td>Yes</td>\n",
       "      <td>TF Gene_DNA-Binding: sequence-specific_DNA Bin...</td>\n",
       "      <td>Yes</td>\n",
       "      <td>1a1, Direct HQ evidence</td>\n",
       "      <td>Sam Lambert</td>\n",
       "      <td>Yimeng Yin</td>\n",
       "      <td>Yes</td>\n",
       "      <td>$#ENSG00000137203#GO:0000981#sequence-specific...</td>\n",
       "      <td>$#ENSP00000368928#ENSG00000137203#ENST00000379...</td>\n",
       "      <td>False</td>\n",
       "    </tr>\n",
       "    <tr>\n",
       "      <th>1</th>\n",
       "      <td>ENSG00000008196</td>\n",
       "      <td>TFAP2B</td>\n",
       "      <td>AP-2</td>\n",
       "      <td>Yes</td>\n",
       "      <td>Known motif</td>\n",
       "      <td>Monomer or homomultimer</td>\n",
       "      <td>High-throughput in vitro</td>\n",
       "      <td>None</td>\n",
       "      <td>None</td>\n",
       "      <td>IPR008122;IPR013854</td>\n",
       "      <td>...</td>\n",
       "      <td>Yes</td>\n",
       "      <td>TF Gene_DNA-Binding: sequence-specific_DNA Bin...</td>\n",
       "      <td>Yes</td>\n",
       "      <td>1a1, Direct HQ evidence</td>\n",
       "      <td>Matt Weirauch</td>\n",
       "      <td>Yimeng Yin</td>\n",
       "      <td>Yes</td>\n",
       "      <td>$#ENSG00000008196#GO:0000981#sequence-specific...</td>\n",
       "      <td>$#ENSP00000377265#ENSG00000008196#ENST00000393...</td>\n",
       "      <td>False</td>\n",
       "    </tr>\n",
       "    <tr>\n",
       "      <th>2</th>\n",
       "      <td>ENSG00000087510</td>\n",
       "      <td>TFAP2C</td>\n",
       "      <td>AP-2</td>\n",
       "      <td>Yes</td>\n",
       "      <td>Known motif</td>\n",
       "      <td>Monomer or homomultimer</td>\n",
       "      <td>High-throughput in vitro</td>\n",
       "      <td>None</td>\n",
       "      <td>None</td>\n",
       "      <td>IPR008123;IPR013854</td>\n",
       "      <td>...</td>\n",
       "      <td>Yes</td>\n",
       "      <td>No</td>\n",
       "      <td>Yes</td>\n",
       "      <td>1a1, Direct HQ evidence</td>\n",
       "      <td>Matt Weirauch</td>\n",
       "      <td>Yimeng Yin</td>\n",
       "      <td>Yes</td>\n",
       "      <td>$#ENSG00000087510#GO:0001077#RNA polymerase II...</td>\n",
       "      <td>$#ENSP00000201031#ENSG00000087510#ENST00000201...</td>\n",
       "      <td>False</td>\n",
       "    </tr>\n",
       "    <tr>\n",
       "      <th>3</th>\n",
       "      <td>ENSG00000008197</td>\n",
       "      <td>TFAP2D</td>\n",
       "      <td>AP-2</td>\n",
       "      <td>Yes</td>\n",
       "      <td>Known motif</td>\n",
       "      <td>Monomer or homomultimer</td>\n",
       "      <td>In vivo/Misc source</td>\n",
       "      <td>Only known motifs are from Transfac or HocoMoc...</td>\n",
       "      <td>Binds the same GCCTGAGGC sequence as the other...</td>\n",
       "      <td>IPR013854;</td>\n",
       "      <td>...</td>\n",
       "      <td>Yes</td>\n",
       "      <td>No</td>\n",
       "      <td>Yes</td>\n",
       "      <td>2a1, Lower confidence direct evidence</td>\n",
       "      <td>Arttu Jolma</td>\n",
       "      <td>Sam Lambert</td>\n",
       "      <td>Yes</td>\n",
       "      <td>$#ENSG00000008197#GO:0000981#sequence-specific...</td>\n",
       "      <td>$#ENSP00000008391#ENSG00000008197#ENST00000008...</td>\n",
       "      <td>False</td>\n",
       "    </tr>\n",
       "    <tr>\n",
       "      <th>4</th>\n",
       "      <td>ENSG00000116819</td>\n",
       "      <td>TFAP2E</td>\n",
       "      <td>AP-2</td>\n",
       "      <td>Yes</td>\n",
       "      <td>Known motif</td>\n",
       "      <td>Monomer or homomultimer</td>\n",
       "      <td>High-throughput in vitro</td>\n",
       "      <td>None</td>\n",
       "      <td>None</td>\n",
       "      <td>IPR013854;</td>\n",
       "      <td>...</td>\n",
       "      <td>Yes</td>\n",
       "      <td>TF Gene_DNA-Binding: sequence-specific_DNA Bin...</td>\n",
       "      <td>Yes</td>\n",
       "      <td>1a1, Direct HQ evidence</td>\n",
       "      <td>Sam Lambert</td>\n",
       "      <td>Laura Campitelli</td>\n",
       "      <td>Yes</td>\n",
       "      <td>$#ENSG00000116819#GO:0000981#sequence-specific...</td>\n",
       "      <td>$#ENSP00000362332#ENSG00000116819#ENST00000373...</td>\n",
       "      <td>False</td>\n",
       "    </tr>\n",
       "  </tbody>\n",
       "</table>\n",
       "<p>5 rows × 28 columns</p>\n",
       "</div>"
      ],
      "text/plain": [
       "        Ensembl ID HGNC symbol   DBD Is TF? TF assessment  \\\n",
       "0  ENSG00000137203      TFAP2A  AP-2    Yes   Known motif   \n",
       "1  ENSG00000008196      TFAP2B  AP-2    Yes   Known motif   \n",
       "2  ENSG00000087510      TFAP2C  AP-2    Yes   Known motif   \n",
       "3  ENSG00000008197      TFAP2D  AP-2    Yes   Known motif   \n",
       "4  ENSG00000116819      TFAP2E  AP-2    Yes   Known motif   \n",
       "\n",
       "              Binding mode              Motif status  \\\n",
       "0  Monomer or homomultimer  High-throughput in vitro   \n",
       "1  Monomer or homomultimer  High-throughput in vitro   \n",
       "2  Monomer or homomultimer  High-throughput in vitro   \n",
       "3  Monomer or homomultimer       In vivo/Misc source   \n",
       "4  Monomer or homomultimer  High-throughput in vitro   \n",
       "\n",
       "                                         Final Notes  \\\n",
       "0                                               None   \n",
       "1                                               None   \n",
       "2                                               None   \n",
       "3  Only known motifs are from Transfac or HocoMoc...   \n",
       "4                                               None   \n",
       "\n",
       "                                      Final Comments       Interpro ID(s)  \\\n",
       "0                                               None  IPR008121;IPR013854   \n",
       "1                                               None  IPR008122;IPR013854   \n",
       "2                                               None  IPR008123;IPR013854   \n",
       "3  Binds the same GCCTGAGGC sequence as the other...           IPR013854;   \n",
       "4                                               None           IPR013854;   \n",
       "\n",
       "   ... CisBP considers it a TF?  \\\n",
       "0  ...                      Yes   \n",
       "1  ...                      Yes   \n",
       "2  ...                      Yes   \n",
       "3  ...                      Yes   \n",
       "4  ...                      Yes   \n",
       "\n",
       "                                TFCat classification Is a GO TF?  \\\n",
       "0  TF Gene_DNA-Binding: sequence-specific_DNA Bin...         Yes   \n",
       "1  TF Gene_DNA-Binding: sequence-specific_DNA Bin...         Yes   \n",
       "2                                                 No         Yes   \n",
       "3                                                 No         Yes   \n",
       "4  TF Gene_DNA-Binding: sequence-specific_DNA Bin...         Yes   \n",
       "\n",
       "                     Initial assessment       Curator 1         Curator 2  \\\n",
       "0                1a1, Direct HQ evidence    Sam Lambert        Yimeng Yin   \n",
       "1                1a1, Direct HQ evidence  Matt Weirauch        Yimeng Yin   \n",
       "2                1a1, Direct HQ evidence  Matt Weirauch        Yimeng Yin   \n",
       "3  2a1, Lower confidence direct evidence    Arttu Jolma       Sam Lambert   \n",
       "4                1a1, Direct HQ evidence    Sam Lambert  Laura Campitelli   \n",
       "\n",
       "  TFclass considers it a TF?   \\\n",
       "0                         Yes   \n",
       "1                         Yes   \n",
       "2                         Yes   \n",
       "3                         Yes   \n",
       "4                         Yes   \n",
       "\n",
       "                                         Go Evidence  \\\n",
       "0  $#ENSG00000137203#GO:0000981#sequence-specific...   \n",
       "1  $#ENSG00000008196#GO:0000981#sequence-specific...   \n",
       "2  $#ENSG00000087510#GO:0001077#RNA polymerase II...   \n",
       "3  $#ENSG00000008197#GO:0000981#sequence-specific...   \n",
       "4  $#ENSG00000116819#GO:0000981#sequence-specific...   \n",
       "\n",
       "                           Pfam Domains (By ENSP ID) Is C2H2 ZF(KRAB)?  \n",
       "0  $#ENSP00000368928#ENSG00000137203#ENST00000379...             False  \n",
       "1  $#ENSP00000377265#ENSG00000008196#ENST00000393...             False  \n",
       "2  $#ENSP00000201031#ENSG00000087510#ENST00000201...             False  \n",
       "3  $#ENSP00000008391#ENSG00000008197#ENST00000008...             False  \n",
       "4  $#ENSP00000362332#ENSG00000116819#ENST00000373...             False  \n",
       "\n",
       "[5 rows x 28 columns]"
      ]
     },
     "execution_count": 4,
     "metadata": {},
     "output_type": "execute_result"
    }
   ],
   "source": [
    "\n",
    "\n",
    "human_tfs = pd.read_csv(\"http://humantfs.ccbr.utoronto.ca/download/v_1.01/DatabaseExtract_v_1.01.csv\", index_col=0)\n",
    "print(human_tfs.shape)\n",
    "human_tfs.head()"
   ]
  },
  {
   "cell_type": "code",
   "execution_count": 16,
   "metadata": {
    "execution_event_id": "4678a285-7b54-4e3e-ae48-05a981701541",
    "last_executed_text": "human_tfs.to_csv(\"Lambert_Jolma_Campitelli_etal_2018_human_transcription_factors.csv\", index=False)",
    "persistent_id": "3f04a1a0-efd9-43e0-a3e7-418bac6a43f7"
   },
   "outputs": [],
   "source": [
    "human_tfs.to_csv(\"Lambert_Jolma_Campitelli_etal_2018_human_transcription_factors.csv\", index=False)"
   ]
  },
  {
   "cell_type": "code",
   "execution_count": 5,
   "metadata": {
    "execution_event_id": "c16919f9-dc44-4172-9fdb-e82d410dc36d",
    "last_executed_text": "true_tfs = human_tfs.loc[human_tfs['Is TF?'] == \"Yes\"]\nprint(true_tfs.shape)\ntrue_tfs.head()",
    "persistent_id": "6a4d9376-7e7d-4166-aa17-7176361ae4b1"
   },
   "outputs": [
    {
     "name": "stdout",
     "output_type": "stream",
     "text": [
      "(1639, 28)\n"
     ]
    },
    {
     "data": {
      "text/html": [
       "<div>\n",
       "<style scoped>\n",
       "    .dataframe tbody tr th:only-of-type {\n",
       "        vertical-align: middle;\n",
       "    }\n",
       "\n",
       "    .dataframe tbody tr th {\n",
       "        vertical-align: top;\n",
       "    }\n",
       "\n",
       "    .dataframe thead th {\n",
       "        text-align: right;\n",
       "    }\n",
       "</style>\n",
       "<table border=\"1\" class=\"dataframe\">\n",
       "  <thead>\n",
       "    <tr style=\"text-align: right;\">\n",
       "      <th></th>\n",
       "      <th>Ensembl ID</th>\n",
       "      <th>HGNC symbol</th>\n",
       "      <th>DBD</th>\n",
       "      <th>Is TF?</th>\n",
       "      <th>TF assessment</th>\n",
       "      <th>Binding mode</th>\n",
       "      <th>Motif status</th>\n",
       "      <th>Final Notes</th>\n",
       "      <th>Final Comments</th>\n",
       "      <th>Interpro ID(s)</th>\n",
       "      <th>...</th>\n",
       "      <th>CisBP considers it a TF?</th>\n",
       "      <th>TFCat classification</th>\n",
       "      <th>Is a GO TF?</th>\n",
       "      <th>Initial assessment</th>\n",
       "      <th>Curator 1</th>\n",
       "      <th>Curator 2</th>\n",
       "      <th>TFclass considers it a TF?</th>\n",
       "      <th>Go Evidence</th>\n",
       "      <th>Pfam Domains (By ENSP ID)</th>\n",
       "      <th>Is C2H2 ZF(KRAB)?</th>\n",
       "    </tr>\n",
       "  </thead>\n",
       "  <tbody>\n",
       "    <tr>\n",
       "      <th>0</th>\n",
       "      <td>ENSG00000137203</td>\n",
       "      <td>TFAP2A</td>\n",
       "      <td>AP-2</td>\n",
       "      <td>Yes</td>\n",
       "      <td>Known motif</td>\n",
       "      <td>Monomer or homomultimer</td>\n",
       "      <td>High-throughput in vitro</td>\n",
       "      <td>None</td>\n",
       "      <td>None</td>\n",
       "      <td>IPR008121;IPR013854</td>\n",
       "      <td>...</td>\n",
       "      <td>Yes</td>\n",
       "      <td>TF Gene_DNA-Binding: sequence-specific_DNA Bin...</td>\n",
       "      <td>Yes</td>\n",
       "      <td>1a1, Direct HQ evidence</td>\n",
       "      <td>Sam Lambert</td>\n",
       "      <td>Yimeng Yin</td>\n",
       "      <td>Yes</td>\n",
       "      <td>$#ENSG00000137203#GO:0000981#sequence-specific...</td>\n",
       "      <td>$#ENSP00000368928#ENSG00000137203#ENST00000379...</td>\n",
       "      <td>False</td>\n",
       "    </tr>\n",
       "    <tr>\n",
       "      <th>1</th>\n",
       "      <td>ENSG00000008196</td>\n",
       "      <td>TFAP2B</td>\n",
       "      <td>AP-2</td>\n",
       "      <td>Yes</td>\n",
       "      <td>Known motif</td>\n",
       "      <td>Monomer or homomultimer</td>\n",
       "      <td>High-throughput in vitro</td>\n",
       "      <td>None</td>\n",
       "      <td>None</td>\n",
       "      <td>IPR008122;IPR013854</td>\n",
       "      <td>...</td>\n",
       "      <td>Yes</td>\n",
       "      <td>TF Gene_DNA-Binding: sequence-specific_DNA Bin...</td>\n",
       "      <td>Yes</td>\n",
       "      <td>1a1, Direct HQ evidence</td>\n",
       "      <td>Matt Weirauch</td>\n",
       "      <td>Yimeng Yin</td>\n",
       "      <td>Yes</td>\n",
       "      <td>$#ENSG00000008196#GO:0000981#sequence-specific...</td>\n",
       "      <td>$#ENSP00000377265#ENSG00000008196#ENST00000393...</td>\n",
       "      <td>False</td>\n",
       "    </tr>\n",
       "    <tr>\n",
       "      <th>2</th>\n",
       "      <td>ENSG00000087510</td>\n",
       "      <td>TFAP2C</td>\n",
       "      <td>AP-2</td>\n",
       "      <td>Yes</td>\n",
       "      <td>Known motif</td>\n",
       "      <td>Monomer or homomultimer</td>\n",
       "      <td>High-throughput in vitro</td>\n",
       "      <td>None</td>\n",
       "      <td>None</td>\n",
       "      <td>IPR008123;IPR013854</td>\n",
       "      <td>...</td>\n",
       "      <td>Yes</td>\n",
       "      <td>No</td>\n",
       "      <td>Yes</td>\n",
       "      <td>1a1, Direct HQ evidence</td>\n",
       "      <td>Matt Weirauch</td>\n",
       "      <td>Yimeng Yin</td>\n",
       "      <td>Yes</td>\n",
       "      <td>$#ENSG00000087510#GO:0001077#RNA polymerase II...</td>\n",
       "      <td>$#ENSP00000201031#ENSG00000087510#ENST00000201...</td>\n",
       "      <td>False</td>\n",
       "    </tr>\n",
       "    <tr>\n",
       "      <th>3</th>\n",
       "      <td>ENSG00000008197</td>\n",
       "      <td>TFAP2D</td>\n",
       "      <td>AP-2</td>\n",
       "      <td>Yes</td>\n",
       "      <td>Known motif</td>\n",
       "      <td>Monomer or homomultimer</td>\n",
       "      <td>In vivo/Misc source</td>\n",
       "      <td>Only known motifs are from Transfac or HocoMoc...</td>\n",
       "      <td>Binds the same GCCTGAGGC sequence as the other...</td>\n",
       "      <td>IPR013854;</td>\n",
       "      <td>...</td>\n",
       "      <td>Yes</td>\n",
       "      <td>No</td>\n",
       "      <td>Yes</td>\n",
       "      <td>2a1, Lower confidence direct evidence</td>\n",
       "      <td>Arttu Jolma</td>\n",
       "      <td>Sam Lambert</td>\n",
       "      <td>Yes</td>\n",
       "      <td>$#ENSG00000008197#GO:0000981#sequence-specific...</td>\n",
       "      <td>$#ENSP00000008391#ENSG00000008197#ENST00000008...</td>\n",
       "      <td>False</td>\n",
       "    </tr>\n",
       "    <tr>\n",
       "      <th>4</th>\n",
       "      <td>ENSG00000116819</td>\n",
       "      <td>TFAP2E</td>\n",
       "      <td>AP-2</td>\n",
       "      <td>Yes</td>\n",
       "      <td>Known motif</td>\n",
       "      <td>Monomer or homomultimer</td>\n",
       "      <td>High-throughput in vitro</td>\n",
       "      <td>None</td>\n",
       "      <td>None</td>\n",
       "      <td>IPR013854;</td>\n",
       "      <td>...</td>\n",
       "      <td>Yes</td>\n",
       "      <td>TF Gene_DNA-Binding: sequence-specific_DNA Bin...</td>\n",
       "      <td>Yes</td>\n",
       "      <td>1a1, Direct HQ evidence</td>\n",
       "      <td>Sam Lambert</td>\n",
       "      <td>Laura Campitelli</td>\n",
       "      <td>Yes</td>\n",
       "      <td>$#ENSG00000116819#GO:0000981#sequence-specific...</td>\n",
       "      <td>$#ENSP00000362332#ENSG00000116819#ENST00000373...</td>\n",
       "      <td>False</td>\n",
       "    </tr>\n",
       "  </tbody>\n",
       "</table>\n",
       "<p>5 rows × 28 columns</p>\n",
       "</div>"
      ],
      "text/plain": [
       "        Ensembl ID HGNC symbol   DBD Is TF? TF assessment  \\\n",
       "0  ENSG00000137203      TFAP2A  AP-2    Yes   Known motif   \n",
       "1  ENSG00000008196      TFAP2B  AP-2    Yes   Known motif   \n",
       "2  ENSG00000087510      TFAP2C  AP-2    Yes   Known motif   \n",
       "3  ENSG00000008197      TFAP2D  AP-2    Yes   Known motif   \n",
       "4  ENSG00000116819      TFAP2E  AP-2    Yes   Known motif   \n",
       "\n",
       "              Binding mode              Motif status  \\\n",
       "0  Monomer or homomultimer  High-throughput in vitro   \n",
       "1  Monomer or homomultimer  High-throughput in vitro   \n",
       "2  Monomer or homomultimer  High-throughput in vitro   \n",
       "3  Monomer or homomultimer       In vivo/Misc source   \n",
       "4  Monomer or homomultimer  High-throughput in vitro   \n",
       "\n",
       "                                         Final Notes  \\\n",
       "0                                               None   \n",
       "1                                               None   \n",
       "2                                               None   \n",
       "3  Only known motifs are from Transfac or HocoMoc...   \n",
       "4                                               None   \n",
       "\n",
       "                                      Final Comments       Interpro ID(s)  \\\n",
       "0                                               None  IPR008121;IPR013854   \n",
       "1                                               None  IPR008122;IPR013854   \n",
       "2                                               None  IPR008123;IPR013854   \n",
       "3  Binds the same GCCTGAGGC sequence as the other...           IPR013854;   \n",
       "4                                               None           IPR013854;   \n",
       "\n",
       "   ... CisBP considers it a TF?  \\\n",
       "0  ...                      Yes   \n",
       "1  ...                      Yes   \n",
       "2  ...                      Yes   \n",
       "3  ...                      Yes   \n",
       "4  ...                      Yes   \n",
       "\n",
       "                                TFCat classification Is a GO TF?  \\\n",
       "0  TF Gene_DNA-Binding: sequence-specific_DNA Bin...         Yes   \n",
       "1  TF Gene_DNA-Binding: sequence-specific_DNA Bin...         Yes   \n",
       "2                                                 No         Yes   \n",
       "3                                                 No         Yes   \n",
       "4  TF Gene_DNA-Binding: sequence-specific_DNA Bin...         Yes   \n",
       "\n",
       "                     Initial assessment       Curator 1         Curator 2  \\\n",
       "0                1a1, Direct HQ evidence    Sam Lambert        Yimeng Yin   \n",
       "1                1a1, Direct HQ evidence  Matt Weirauch        Yimeng Yin   \n",
       "2                1a1, Direct HQ evidence  Matt Weirauch        Yimeng Yin   \n",
       "3  2a1, Lower confidence direct evidence    Arttu Jolma       Sam Lambert   \n",
       "4                1a1, Direct HQ evidence    Sam Lambert  Laura Campitelli   \n",
       "\n",
       "  TFclass considers it a TF?   \\\n",
       "0                         Yes   \n",
       "1                         Yes   \n",
       "2                         Yes   \n",
       "3                         Yes   \n",
       "4                         Yes   \n",
       "\n",
       "                                         Go Evidence  \\\n",
       "0  $#ENSG00000137203#GO:0000981#sequence-specific...   \n",
       "1  $#ENSG00000008196#GO:0000981#sequence-specific...   \n",
       "2  $#ENSG00000087510#GO:0001077#RNA polymerase II...   \n",
       "3  $#ENSG00000008197#GO:0000981#sequence-specific...   \n",
       "4  $#ENSG00000116819#GO:0000981#sequence-specific...   \n",
       "\n",
       "                           Pfam Domains (By ENSP ID) Is C2H2 ZF(KRAB)?  \n",
       "0  $#ENSP00000368928#ENSG00000137203#ENST00000379...             False  \n",
       "1  $#ENSP00000377265#ENSG00000008196#ENST00000393...             False  \n",
       "2  $#ENSP00000201031#ENSG00000087510#ENST00000201...             False  \n",
       "3  $#ENSP00000008391#ENSG00000008197#ENST00000008...             False  \n",
       "4  $#ENSP00000362332#ENSG00000116819#ENST00000373...             False  \n",
       "\n",
       "[5 rows x 28 columns]"
      ]
     },
     "execution_count": 5,
     "metadata": {},
     "output_type": "execute_result"
    }
   ],
   "source": [
    "true_tfs = human_tfs.loc[human_tfs['Is TF?'] == \"Yes\"]\n",
    "print(true_tfs.shape)\n",
    "true_tfs.head()"
   ]
  },
  {
   "cell_type": "code",
   "execution_count": 13,
   "metadata": {
    "execution_event_id": "50d97f03-b8f8-4572-b5eb-62c697fbf25b",
    "last_executed_text": "\ntf_records = []\n\n# with open(\"Homo_sapiens.GRCh38.pep.transcription_factors.fa\") as f:\nwith screed.open(\"Homo_sapiens.GRCh38.pep.all.fa.gz\") as records:\n    for record in records:\n        if '*' in record['sequence']:\n            continue\n        if any(x in record['name'] for x in true_tfs['Ensembl ID']):\n            tf_records.append(record)",
    "persistent_id": "846e8897-69d4-43b5-91f4-02974e41dca5"
   },
   "outputs": [],
   "source": [
    "\n",
    "tf_records = []\n",
    "\n",
    "# with open(\"Homo_sapiens.GRCh38.pep.transcription_factors.fa\") as f:\n",
    "with screed.open(\"Homo_sapiens.GRCh38.pep.all.fa.gz\") as records:\n",
    "    for record in records:\n",
    "        if '*' in record['sequence']:\n",
    "            continue\n",
    "        if any(x in record['name'] for x in true_tfs['Ensembl ID']):\n",
    "            tf_records.append(record)"
   ]
  },
  {
   "cell_type": "code",
   "execution_count": null,
   "metadata": {
    "persistent_id": "446feb4b-9752-41d0-ab17-2bc0d3f396fa"
   },
   "outputs": [],
   "source": []
  },
  {
   "cell_type": "code",
   "execution_count": 14,
   "metadata": {
    "execution_event_id": "57ba2a7f-0672-4d9f-9cad-e0d9ef9274ec",
    "last_executed_text": "len(tf_records)",
    "persistent_id": "dc5167f9-3791-4fa4-b969-00cfbba1e750"
   },
   "outputs": [
    {
     "data": {
      "text/plain": [
       "8337"
      ]
     },
     "execution_count": 14,
     "metadata": {},
     "output_type": "execute_result"
    }
   ],
   "source": [
    "len(tf_records)"
   ]
  },
  {
   "cell_type": "code",
   "execution_count": 18,
   "metadata": {
    "execution_event_id": "3df82d31-c5f4-44ac-83bb-25fc50e648ab",
    "last_executed_text": "r = tf_records[0]\nr",
    "persistent_id": "cd4bea90-240b-42af-9ac8-3b487217f998"
   },
   "outputs": [
    {
     "data": {
      "text/plain": [
       "{'name': 'ENSP00000306523.3 pep chromosome:GRCh38:14:35534164:35537054:1 gene:ENSG00000168348.4 transcript:ENST00000307169.4 gene_biotype:protein_coding transcript_biotype:protein_coding gene_symbol:INSM2 description:INSM transcriptional repressor 2 [Source:HGNC Symbol;Acc:HGNC:17539]', 'sequence': 'MPRGFLVKRTKRTGGLYRVRLAERVFPLLGPQGAPPFLEEAPSASLPGAERATPPTREEPGKGLTAEAAREQSGSPCRAAGVSPGTGGREGAEWRAGGREGPGPSPSPSPSPAKPAGAELRRAFLERCLSSPVSAESFPGGAAAVAAFSCSVAPAAAPTPGEQFLLPLRAPFPEPALQPDPAPLSAALQSLKRAAGGERRGKAPTDCASGPAAAGIKKPKAMRKLSFADEVTTSPVLGLKIKEEEPGAPSRGLGGSRTPLGEFICQLCKEQYADPFALAQHRCSRIVRVEYRCPECDKVFSCPANLASHRRWHKPRPAAANAATVSSADGKPPSSSSSSSRDSGAIASFLAEGKENSRIERTADQHPQARDSSGADQHPDSAPRQGLQVLTHPEPPLPQGPYTEGVLGRRVPVPGSTSGGRGSEIFVCPYCHKKFRRQAYLRKHLSTHEAGSARALAPGFGSERGAPLAFACPLCGAHFPTADIREKHRLWHAVREELLLPALAGAPPETSGPSGPSDGSAQQIFSCKHCPSTFFSSPGLTRHINKCHPSESRQVLLLQMPLRPGC', 'description': ''}"
      ]
     },
     "execution_count": 18,
     "metadata": {},
     "output_type": "execute_result"
    }
   ],
   "source": [
    "r = tf_records[0]\n",
    "r"
   ]
  },
  {
   "cell_type": "code",
   "execution_count": 19,
   "metadata": {
    "execution_event_id": "5f29cc93-c0cb-4955-9392-bb35be0a69f8",
    "last_executed_text": "r['name']",
    "persistent_id": "11101019-7233-4c86-ab42-0b52000b656e"
   },
   "outputs": [
    {
     "data": {
      "text/plain": [
       "'ENSP00000306523.3 pep chromosome:GRCh38:14:35534164:35537054:1 gene:ENSG00000168348.4 transcript:ENST00000307169.4 gene_biotype:protein_coding transcript_biotype:protein_coding gene_symbol:INSM2 description:INSM transcriptional repressor 2 [Source:HGNC Symbol;Acc:HGNC:17539]'"
      ]
     },
     "execution_count": 19,
     "metadata": {},
     "output_type": "execute_result"
    }
   ],
   "source": [
    "r['name']"
   ]
  },
  {
   "cell_type": "markdown",
   "metadata": {},
   "source": [
    "regex made with: https://regex101.com/r/7IzJgx/1"
   ]
  },
  {
   "cell_type": "code",
   "execution_count": 26,
   "metadata": {
    "execution_event_id": "00ac51f6-d313-4594-8979-6d6abc86c5b8",
    "last_executed_text": "pattern = \"(?P<protein_id>ENSP\\d+\\.\\d+) (?P<seqtype>\\w+) (?P<location>chromosome:GRCh38:[\\dXY]+:\\d+:\\d+:\\d+) gene:(?P<gene_id>ENSG\\d+\\.\\d+) transcript:(?P<transcript_id>ENST\\d+\\.\\d+) gene_biotype:(?P<gene_biotype>\\w+) transcript_biotype:(?P<transcript_biotype>\\w+) gene_symbol:(?P<gene_symbol>\\w+) description:(?P<description>[\\w ]+) (?P<source>\\[Source:[\\w ]+ Symbol;Acc:HGNC:\\d+\\])\"\nm = re.match(pattern, r['name'])\n",
    "persistent_id": "c742220c-cf6b-4d4a-8e34-a0504bf91d55"
   },
   "outputs": [],
   "source": [
    "pattern = \"(?P<protein_id>ENSP\\d+\\.\\d+) (?P<seqtype>\\w+) (?P<location>chromosome:GRCh38:[\\dXY]+:\\d+:\\d+:\\d+) gene:(?P<gene_id>ENSG\\d+\\.\\d+) transcript:(?P<transcript_id>ENST\\d+\\.\\d+) gene_biotype:(?P<gene_biotype>\\w+) transcript_biotype:(?P<transcript_biotype>\\w+) gene_symbol:(?P<gene_symbol>\\w+) description:(?P<description>[\\w ]+) (?P<source>\\[Source:[\\w ]+ Symbol;Acc:HGNC:\\d+\\])\"\n",
    "m = re.match(pattern, r['name'])\n"
   ]
  },
  {
   "cell_type": "code",
   "execution_count": 27,
   "metadata": {
    "execution_event_id": "b513454e-949b-4744-b8cc-3bf139b37580",
    "last_executed_text": "m.groupdict()",
    "persistent_id": "79410eec-1aac-4efc-8c3a-4c4ae74455c9"
   },
   "outputs": [
    {
     "data": {
      "text/plain": [
       "{'protein_id': 'ENSP00000306523.3',\n",
       " 'seqtype': 'pep',\n",
       " 'location': 'chromosome:GRCh38:14:35534164:35537054:1',\n",
       " 'gene_id': 'ENSG00000168348.4',\n",
       " 'transcript_id': 'ENST00000307169.4',\n",
       " 'gene_biotype': 'protein_coding',\n",
       " 'transcript_biotype': 'protein_coding',\n",
       " 'gene_symbol': 'INSM2',\n",
       " 'description': 'INSM transcriptional repressor 2',\n",
       " 'source': '[Source:HGNC Symbol;Acc:HGNC:17539]'}"
      ]
     },
     "execution_count": 27,
     "metadata": {},
     "output_type": "execute_result"
    }
   ],
   "source": [
    "m.groupdict()"
   ]
  },
  {
   "cell_type": "markdown",
   "metadata": {},
   "source": [
    "Updated regex to work with all fasta entries of TFs: https://regex101.com/r/7IzJgx/2"
   ]
  },
  {
   "cell_type": "code",
   "execution_count": 60,
   "metadata": {
    "execution_event_id": "21eb4409-499f-4c0f-9cc2-c4d34ab091a2",
    "last_executed_text": "lines = []\n\nPATTERN = r\"(?P<protein_id>ENSP\\d+\\.\\d+) (?P<seqtype>\\w+) (?P<location>chromosome:GRCh38:[\\dXY]+:\\d+:\\d+:-?\\d+) gene:(?P<gene_id>ENSG\\d+\\.\\d+) transcript:(?P<transcript_id>ENST\\d+\\.\\d+) gene_biotype:(?P<gene_biotype>\\w+) transcript_biotype:(?P<transcript_biotype>\\w+) gene_symbol:(?P<gene_symbol>[\\w\\.\\-]+) description:(?P<description>[\\w\\d\\-',/ \\.]+)(?P<source>\\[Source:[\\w ]+;Acc:[\\w:\\d]+\\])?\"\npattern = re.compile(PATTERN.strip())\n\nfor record in tf_records:\n    m = re.match(pattern, record['name'])\n\n    try:\n        series = pd.Series(m.groupdict())\n    except AttributeError:\n        # If it doesn't work, break on the record it didn't work on\n        print(record['name'])\n        break\n    lines.append(series)\ntf_metadata = pd.DataFrame.from_records(lines)\nprint(tf_metadata.shape)",
    "persistent_id": "2b29ea18-e316-4a11-a506-a0d5ee059fa8"
   },
   "outputs": [
    {
     "name": "stdout",
     "output_type": "stream",
     "text": [
      "(8337, 10)\n"
     ]
    }
   ],
   "source": [
    "lines = []\n",
    "\n",
    "PATTERN = r\"(?P<protein_id>ENSP\\d+\\.\\d+) (?P<seqtype>\\w+) (?P<location>chromosome:GRCh38:[\\dXY]+:\\d+:\\d+:-?\\d+) gene:(?P<gene_id>ENSG\\d+\\.\\d+) transcript:(?P<transcript_id>ENST\\d+\\.\\d+) gene_biotype:(?P<gene_biotype>\\w+) transcript_biotype:(?P<transcript_biotype>\\w+) gene_symbol:(?P<gene_symbol>[\\w\\.\\-]+) description:(?P<description>[\\w\\d\\-',/ \\.]+)(?P<source>\\[Source:[\\w ]+;Acc:[\\w:\\d]+\\])?\"\n",
    "pattern = re.compile(PATTERN.strip())\n",
    "\n",
    "for record in tf_records:\n",
    "    m = re.match(pattern, record['name'])\n",
    "\n",
    "    try:\n",
    "        series = pd.Series(m.groupdict())\n",
    "    except AttributeError:\n",
    "        # If it doesn't work, break on the record it didn't work on\n",
    "        print(record['name'])\n",
    "        break\n",
    "    lines.append(series)\n",
    "tf_metadata = pd.DataFrame.from_records(lines)\n",
    "print(tf_metadata.shape)"
   ]
  },
  {
   "cell_type": "code",
   "execution_count": 52,
   "metadata": {
    "execution_event_id": "083de886-2715-477b-a9d8-b790fbcb4b4b",
    "last_executed_text": "PATTERN",
    "persistent_id": "e31c6b2e-9c79-4cf3-84f1-7d1ff403932a"
   },
   "outputs": [
    {
     "data": {
      "text/plain": [
       "'(?P<protein_id>ENSP\\\\d+\\\\.\\\\d+) (?P<seqtype>\\\\w+) (?P<location>chromosome:GRCh38:[\\\\dXY]+:\\\\d+:\\\\d+:-?\\\\d+) gene:(?P<gene_id>ENSG\\\\d+\\\\.\\\\d+) transcript:(?P<transcript_id>ENST\\\\d+\\\\.\\\\d+) gene_biotype:(?P<gene_biotype>\\\\w+) transcript_biotype:(?P<transcript_biotype>\\\\w+) gene_symbol:(?P<gene_symbol>\\\\w+) description:(?P<description>[\\\\w ]+) (?P<source>\\\\[Source:[\\\\w ]+;Acc:HGNC:\\\\d+\\\\])'"
      ]
     },
     "execution_count": 52,
     "metadata": {},
     "output_type": "execute_result"
    }
   ],
   "source": [
    "PATTERN"
   ]
  },
  {
   "cell_type": "code",
   "execution_count": 46,
   "metadata": {
    "execution_event_id": "2e730945-1467-42c2-afba-eed7177bbfb4",
    "last_executed_text": "re.findall(PATTERN, record['name'])",
    "persistent_id": "2969d570-315d-4be3-8e5f-d6f9e41d2e0f"
   },
   "outputs": [
    {
     "data": {
      "text/plain": [
       "[]"
      ]
     },
     "execution_count": 46,
     "metadata": {},
     "output_type": "execute_result"
    }
   ],
   "source": [
    "re.findall(PATTERN, record['name'])"
   ]
  },
  {
   "cell_type": "code",
   "execution_count": 53,
   "metadata": {
    "execution_event_id": "9d31e69e-91e3-4108-ace5-56c07c09cc8f",
    "last_executed_text": "record['name']",
    "persistent_id": "dab53934-cbf1-4391-8a0b-13580d094672"
   },
   "outputs": [
    {
     "data": {
      "text/plain": [
       "\"ENSP00000361010.3 pep chromosome:GRCh38:9:133406062:133418010:-1 gene:ENSG00000148300.12 transcript:ENST00000371942.8 gene_biotype:protein_coding transcript_biotype:protein_coding gene_symbol:REXO4 description:REX4 homolog, 3'-5' exonuclease [Source:HGNC Symbol;Acc:HGNC:12820]\""
      ]
     },
     "execution_count": 53,
     "metadata": {},
     "output_type": "execute_result"
    }
   ],
   "source": [
    "record['name']"
   ]
  },
  {
   "cell_type": "code",
   "execution_count": 36,
   "metadata": {
    "execution_event_id": "565125d3-24bd-4522-b36b-0bafe0188779",
    "last_executed_text": "m",
    "persistent_id": "0e463298-10e8-40eb-a80e-71ec816ec37e"
   },
   "outputs": [],
   "source": [
    "m"
   ]
  },
  {
   "cell_type": "code",
   "execution_count": 61,
   "metadata": {
    "execution_event_id": "afe2c95a-d6df-4c4e-ab61-a814be5dd153",
    "last_executed_text": "tf_metadata.head()",
    "persistent_id": "6ccc8bc3-02f2-4b09-adaa-9828957c2271"
   },
   "outputs": [
    {
     "data": {
      "text/html": [
       "<div>\n",
       "<style scoped>\n",
       "    .dataframe tbody tr th:only-of-type {\n",
       "        vertical-align: middle;\n",
       "    }\n",
       "\n",
       "    .dataframe tbody tr th {\n",
       "        vertical-align: top;\n",
       "    }\n",
       "\n",
       "    .dataframe thead th {\n",
       "        text-align: right;\n",
       "    }\n",
       "</style>\n",
       "<table border=\"1\" class=\"dataframe\">\n",
       "  <thead>\n",
       "    <tr style=\"text-align: right;\">\n",
       "      <th></th>\n",
       "      <th>protein_id</th>\n",
       "      <th>seqtype</th>\n",
       "      <th>location</th>\n",
       "      <th>gene_id</th>\n",
       "      <th>transcript_id</th>\n",
       "      <th>gene_biotype</th>\n",
       "      <th>transcript_biotype</th>\n",
       "      <th>gene_symbol</th>\n",
       "      <th>description</th>\n",
       "      <th>source</th>\n",
       "    </tr>\n",
       "  </thead>\n",
       "  <tbody>\n",
       "    <tr>\n",
       "      <th>0</th>\n",
       "      <td>ENSP00000306523.3</td>\n",
       "      <td>pep</td>\n",
       "      <td>chromosome:GRCh38:14:35534164:35537054:1</td>\n",
       "      <td>ENSG00000168348.4</td>\n",
       "      <td>ENST00000307169.4</td>\n",
       "      <td>protein_coding</td>\n",
       "      <td>protein_coding</td>\n",
       "      <td>INSM2</td>\n",
       "      <td>INSM transcriptional repressor 2</td>\n",
       "      <td>[Source:HGNC Symbol;Acc:HGNC:17539]</td>\n",
       "    </tr>\n",
       "    <tr>\n",
       "      <th>1</th>\n",
       "      <td>ENSP00000394757.2</td>\n",
       "      <td>pep</td>\n",
       "      <td>chromosome:GRCh38:18:76357682:76495242:-1</td>\n",
       "      <td>ENSG00000101493.11</td>\n",
       "      <td>ENST00000443185.7</td>\n",
       "      <td>protein_coding</td>\n",
       "      <td>protein_coding</td>\n",
       "      <td>ZNF516</td>\n",
       "      <td>zinc finger protein 516</td>\n",
       "      <td>[Source:HGNC Symbol;Acc:HGNC:28990]</td>\n",
       "    </tr>\n",
       "    <tr>\n",
       "      <th>2</th>\n",
       "      <td>ENSP00000478712.1</td>\n",
       "      <td>pep</td>\n",
       "      <td>chromosome:GRCh38:18:76361768:76380285:-1</td>\n",
       "      <td>ENSG00000101493.11</td>\n",
       "      <td>ENST00000617840.1</td>\n",
       "      <td>protein_coding</td>\n",
       "      <td>protein_coding</td>\n",
       "      <td>ZNF516</td>\n",
       "      <td>zinc finger protein 516</td>\n",
       "      <td>[Source:HGNC Symbol;Acc:HGNC:28990]</td>\n",
       "    </tr>\n",
       "    <tr>\n",
       "      <th>3</th>\n",
       "      <td>ENSP00000445902.1</td>\n",
       "      <td>pep</td>\n",
       "      <td>chromosome:GRCh38:18:76362271:76378913:-1</td>\n",
       "      <td>ENSG00000101493.11</td>\n",
       "      <td>ENST00000542818.1</td>\n",
       "      <td>protein_coding</td>\n",
       "      <td>protein_coding</td>\n",
       "      <td>ZNF516</td>\n",
       "      <td>zinc finger protein 516</td>\n",
       "      <td>[Source:HGNC Symbol;Acc:HGNC:28990]</td>\n",
       "    </tr>\n",
       "    <tr>\n",
       "      <th>4</th>\n",
       "      <td>ENSP00000446211.1</td>\n",
       "      <td>pep</td>\n",
       "      <td>chromosome:GRCh38:18:76442829:76490779:-1</td>\n",
       "      <td>ENSG00000101493.11</td>\n",
       "      <td>ENST00000532857.1</td>\n",
       "      <td>protein_coding</td>\n",
       "      <td>protein_coding</td>\n",
       "      <td>ZNF516</td>\n",
       "      <td>zinc finger protein 516</td>\n",
       "      <td>[Source:HGNC Symbol;Acc:HGNC:28990]</td>\n",
       "    </tr>\n",
       "  </tbody>\n",
       "</table>\n",
       "</div>"
      ],
      "text/plain": [
       "          protein_id seqtype                                   location  \\\n",
       "0  ENSP00000306523.3     pep   chromosome:GRCh38:14:35534164:35537054:1   \n",
       "1  ENSP00000394757.2     pep  chromosome:GRCh38:18:76357682:76495242:-1   \n",
       "2  ENSP00000478712.1     pep  chromosome:GRCh38:18:76361768:76380285:-1   \n",
       "3  ENSP00000445902.1     pep  chromosome:GRCh38:18:76362271:76378913:-1   \n",
       "4  ENSP00000446211.1     pep  chromosome:GRCh38:18:76442829:76490779:-1   \n",
       "\n",
       "              gene_id      transcript_id    gene_biotype transcript_biotype  \\\n",
       "0   ENSG00000168348.4  ENST00000307169.4  protein_coding     protein_coding   \n",
       "1  ENSG00000101493.11  ENST00000443185.7  protein_coding     protein_coding   \n",
       "2  ENSG00000101493.11  ENST00000617840.1  protein_coding     protein_coding   \n",
       "3  ENSG00000101493.11  ENST00000542818.1  protein_coding     protein_coding   \n",
       "4  ENSG00000101493.11  ENST00000532857.1  protein_coding     protein_coding   \n",
       "\n",
       "  gene_symbol                        description  \\\n",
       "0       INSM2  INSM transcriptional repressor 2    \n",
       "1      ZNF516           zinc finger protein 516    \n",
       "2      ZNF516           zinc finger protein 516    \n",
       "3      ZNF516           zinc finger protein 516    \n",
       "4      ZNF516           zinc finger protein 516    \n",
       "\n",
       "                                source  \n",
       "0  [Source:HGNC Symbol;Acc:HGNC:17539]  \n",
       "1  [Source:HGNC Symbol;Acc:HGNC:28990]  \n",
       "2  [Source:HGNC Symbol;Acc:HGNC:28990]  \n",
       "3  [Source:HGNC Symbol;Acc:HGNC:28990]  \n",
       "4  [Source:HGNC Symbol;Acc:HGNC:28990]  "
      ]
     },
     "execution_count": 61,
     "metadata": {},
     "output_type": "execute_result"
    }
   ],
   "source": [
    "tf_metadata.head()"
   ]
  },
  {
   "cell_type": "code",
   "execution_count": 62,
   "metadata": {
    "execution_event_id": "948a48a6-7028-4d61-b4b6-f9680ffe62e0",
    "last_executed_text": "tf_metadata.gene_id.nunique()",
    "persistent_id": "707c8abe-fe87-41cd-afc9-f081ac84cbea"
   },
   "outputs": [
    {
     "data": {
      "text/plain": [
       "1635"
      ]
     },
     "execution_count": 62,
     "metadata": {},
     "output_type": "execute_result"
    }
   ],
   "source": [
    "tf_metadata.gene_id.nunique()"
   ]
  },
  {
   "cell_type": "code",
   "execution_count": 63,
   "metadata": {
    "execution_event_id": "56f3c45a-a112-45da-a66f-8815f14b56e4",
    "last_executed_text": "tf_metadata['gene_id_no_version'] = tf_metadata.gene_id.str.split('.').str[0]\n",
    "persistent_id": "82972882-4995-4fed-bd68-83287f89af87"
   },
   "outputs": [],
   "source": [
    "tf_metadata['gene_id_no_version'] = tf_metadata.gene_id.str.split('.').str[0]\n"
   ]
  },
  {
   "cell_type": "code",
   "execution_count": 66,
   "metadata": {
    "execution_event_id": "1fc591bb-9f52-4533-a959-5569595d39aa",
    "last_executed_text": "rows = true_tfs['Ensembl ID'].isin(tf_metadata['gene_id_no_version'])\ntrue_tfs_not_in_ensembl97 = true_tfs.loc[~rows]\ntrue_tfs_not_in_ensembl97",
    "persistent_id": "a057ea15-708a-4265-9cff-243a33461a7b"
   },
   "outputs": [
    {
     "data": {
      "text/html": [
       "<div>\n",
       "<style scoped>\n",
       "    .dataframe tbody tr th:only-of-type {\n",
       "        vertical-align: middle;\n",
       "    }\n",
       "\n",
       "    .dataframe tbody tr th {\n",
       "        vertical-align: top;\n",
       "    }\n",
       "\n",
       "    .dataframe thead th {\n",
       "        text-align: right;\n",
       "    }\n",
       "</style>\n",
       "<table border=\"1\" class=\"dataframe\">\n",
       "  <thead>\n",
       "    <tr style=\"text-align: right;\">\n",
       "      <th></th>\n",
       "      <th>Ensembl ID</th>\n",
       "      <th>HGNC symbol</th>\n",
       "      <th>DBD</th>\n",
       "      <th>Is TF?</th>\n",
       "      <th>TF assessment</th>\n",
       "      <th>Binding mode</th>\n",
       "      <th>Motif status</th>\n",
       "      <th>Final Notes</th>\n",
       "      <th>Final Comments</th>\n",
       "      <th>Interpro ID(s)</th>\n",
       "      <th>...</th>\n",
       "      <th>CisBP considers it a TF?</th>\n",
       "      <th>TFCat classification</th>\n",
       "      <th>Is a GO TF?</th>\n",
       "      <th>Initial assessment</th>\n",
       "      <th>Curator 1</th>\n",
       "      <th>Curator 2</th>\n",
       "      <th>TFclass considers it a TF?</th>\n",
       "      <th>Go Evidence</th>\n",
       "      <th>Pfam Domains (By ENSP ID)</th>\n",
       "      <th>Is C2H2 ZF(KRAB)?</th>\n",
       "    </tr>\n",
       "  </thead>\n",
       "  <tbody>\n",
       "    <tr>\n",
       "      <th>912</th>\n",
       "      <td>ENSG00000214189</td>\n",
       "      <td>ZNF788</td>\n",
       "      <td>C2H2 ZF</td>\n",
       "      <td>Yes</td>\n",
       "      <td>Likely to be sequence specific TF</td>\n",
       "      <td>Monomer or homomultimer</td>\n",
       "      <td>No motif</td>\n",
       "      <td>None</td>\n",
       "      <td>Virtually nothing is known for this protein ex...</td>\n",
       "      <td>None</td>\n",
       "      <td>...</td>\n",
       "      <td>Yes</td>\n",
       "      <td>No</td>\n",
       "      <td>No</td>\n",
       "      <td>4a, two or more datasets predict it as a TF</td>\n",
       "      <td>Sam Lambert</td>\n",
       "      <td>Arttu Jolma</td>\n",
       "      <td>Yes</td>\n",
       "      <td>None</td>\n",
       "      <td>$#ENSP00000391703#ENSG00000214189#ENST00000430...</td>\n",
       "      <td>False</td>\n",
       "    </tr>\n",
       "    <tr>\n",
       "      <th>958</th>\n",
       "      <td>ENSG00000228623</td>\n",
       "      <td>ZNF883</td>\n",
       "      <td>C2H2 ZF</td>\n",
       "      <td>Yes</td>\n",
       "      <td>Known motif</td>\n",
       "      <td>Monomer or homomultimer</td>\n",
       "      <td>In vivo/Misc source</td>\n",
       "      <td>Only known motifs are from Transfac or HocoMoc...</td>\n",
       "      <td>None</td>\n",
       "      <td>IPR007087;</td>\n",
       "      <td>...</td>\n",
       "      <td>Yes</td>\n",
       "      <td>No</td>\n",
       "      <td>Yes</td>\n",
       "      <td>2a1, Lower confidence direct evidence</td>\n",
       "      <td>Sam Lambert</td>\n",
       "      <td>Jussi Taipale</td>\n",
       "      <td>Yes</td>\n",
       "      <td>$#ENSG00000228623#GO:0003700#sequence-specific...</td>\n",
       "      <td>$#ENSP00000490059#ENSG00000228623#ENST00000619...</td>\n",
       "      <td>False</td>\n",
       "    </tr>\n",
       "    <tr>\n",
       "      <th>1306</th>\n",
       "      <td>DUX1_HUMAN</td>\n",
       "      <td>DUX1</td>\n",
       "      <td>Homeodomain</td>\n",
       "      <td>Yes</td>\n",
       "      <td>Known motif</td>\n",
       "      <td>Monomer or homomultimer</td>\n",
       "      <td>In vivo/Misc source</td>\n",
       "      <td>Only known motifs are from Transfac or HocoMoc...</td>\n",
       "      <td>Not included in Ensembl. Binds GATCTGAGTCTAATT...</td>\n",
       "      <td>None</td>\n",
       "      <td>...</td>\n",
       "      <td>Yes</td>\n",
       "      <td>No</td>\n",
       "      <td>No</td>\n",
       "      <td>Protein added after initial stage, no initial ...</td>\n",
       "      <td>Arttu Jolma</td>\n",
       "      <td>Sam Lambert</td>\n",
       "      <td>Yes</td>\n",
       "      <td>None</td>\n",
       "      <td>None</td>\n",
       "      <td>False</td>\n",
       "    </tr>\n",
       "    <tr>\n",
       "      <th>1307</th>\n",
       "      <td>DUX3_HUMAN</td>\n",
       "      <td>DUX3</td>\n",
       "      <td>Homeodomain</td>\n",
       "      <td>Yes</td>\n",
       "      <td>Known motif</td>\n",
       "      <td>Monomer or homomultimer</td>\n",
       "      <td>In vivo/Misc source</td>\n",
       "      <td>Only known motifs are from Transfac or HocoMoc...</td>\n",
       "      <td>Not included in Ensembl.</td>\n",
       "      <td>None</td>\n",
       "      <td>...</td>\n",
       "      <td>Yes</td>\n",
       "      <td>No</td>\n",
       "      <td>No</td>\n",
       "      <td>Protein added after initial stage, no initial ...</td>\n",
       "      <td>Arttu Jolma</td>\n",
       "      <td>Sam Lambert</td>\n",
       "      <td>Yes</td>\n",
       "      <td>None</td>\n",
       "      <td>None</td>\n",
       "      <td>False</td>\n",
       "    </tr>\n",
       "  </tbody>\n",
       "</table>\n",
       "<p>4 rows × 28 columns</p>\n",
       "</div>"
      ],
      "text/plain": [
       "           Ensembl ID HGNC symbol          DBD Is TF?  \\\n",
       "912   ENSG00000214189      ZNF788      C2H2 ZF    Yes   \n",
       "958   ENSG00000228623      ZNF883      C2H2 ZF    Yes   \n",
       "1306       DUX1_HUMAN        DUX1  Homeodomain    Yes   \n",
       "1307       DUX3_HUMAN        DUX3  Homeodomain    Yes   \n",
       "\n",
       "                          TF assessment             Binding mode  \\\n",
       "912   Likely to be sequence specific TF  Monomer or homomultimer   \n",
       "958                         Known motif  Monomer or homomultimer   \n",
       "1306                        Known motif  Monomer or homomultimer   \n",
       "1307                        Known motif  Monomer or homomultimer   \n",
       "\n",
       "             Motif status                                        Final Notes  \\\n",
       "912              No motif                                               None   \n",
       "958   In vivo/Misc source  Only known motifs are from Transfac or HocoMoc...   \n",
       "1306  In vivo/Misc source  Only known motifs are from Transfac or HocoMoc...   \n",
       "1307  In vivo/Misc source  Only known motifs are from Transfac or HocoMoc...   \n",
       "\n",
       "                                         Final Comments Interpro ID(s)  ...  \\\n",
       "912   Virtually nothing is known for this protein ex...           None  ...   \n",
       "958                                                None     IPR007087;  ...   \n",
       "1306  Not included in Ensembl. Binds GATCTGAGTCTAATT...           None  ...   \n",
       "1307                           Not included in Ensembl.           None  ...   \n",
       "\n",
       "     CisBP considers it a TF? TFCat classification Is a GO TF?  \\\n",
       "912                       Yes                   No          No   \n",
       "958                       Yes                   No         Yes   \n",
       "1306                      Yes                   No          No   \n",
       "1307                      Yes                   No          No   \n",
       "\n",
       "                                    Initial assessment     Curator 1  \\\n",
       "912         4a, two or more datasets predict it as a TF  Sam Lambert   \n",
       "958               2a1, Lower confidence direct evidence  Sam Lambert   \n",
       "1306  Protein added after initial stage, no initial ...  Arttu Jolma   \n",
       "1307  Protein added after initial stage, no initial ...  Arttu Jolma   \n",
       "\n",
       "          Curator 2 TFclass considers it a TF?   \\\n",
       "912     Arttu Jolma                         Yes   \n",
       "958   Jussi Taipale                         Yes   \n",
       "1306    Sam Lambert                         Yes   \n",
       "1307    Sam Lambert                         Yes   \n",
       "\n",
       "                                            Go Evidence  \\\n",
       "912                                                None   \n",
       "958   $#ENSG00000228623#GO:0003700#sequence-specific...   \n",
       "1306                                               None   \n",
       "1307                                               None   \n",
       "\n",
       "                              Pfam Domains (By ENSP ID) Is C2H2 ZF(KRAB)?  \n",
       "912   $#ENSP00000391703#ENSG00000214189#ENST00000430...             False  \n",
       "958   $#ENSP00000490059#ENSG00000228623#ENST00000619...             False  \n",
       "1306                                               None             False  \n",
       "1307                                               None             False  \n",
       "\n",
       "[4 rows x 28 columns]"
      ]
     },
     "execution_count": 66,
     "metadata": {},
     "output_type": "execute_result"
    }
   ],
   "source": [
    "rows = true_tfs['Ensembl ID'].isin(tf_metadata['gene_id_no_version'])\n",
    "true_tfs_not_in_ensembl97 = true_tfs.loc[~rows]\n",
    "true_tfs_not_in_ensembl97"
   ]
  },
  {
   "cell_type": "code",
   "execution_count": 77,
   "metadata": {
    "execution_event_id": "c5782e6c-ab44-4f94-a158-3b2fae648234",
    "last_executed_text": "print(true_tfs_not_in_ensembl97.loc[:, ['Ensembl ID', 'HGNC symbol','DBD', 'Is TF?', 'Final Comments']].to_csv(index=False))",
    "persistent_id": "a776e4c5-e4c3-4201-b737-71dbbb313bbd"
   },
   "outputs": [
    {
     "name": "stdout",
     "output_type": "stream",
     "text": [
      "Ensembl ID,HGNC symbol,DBD,Is TF?,Final Comments\n",
      "ENSG00000214189,ZNF788,C2H2 ZF,Yes,Virtually nothing is known for this protein except that it has a decent cassette of znfC2H2 domains\n",
      "ENSG00000228623,ZNF883,C2H2 ZF,Yes,None\n",
      "DUX1_HUMAN,DUX1,Homeodomain,Yes,Not included in Ensembl. Binds GATCTGAGTCTAATTGAGAATTACTGTAC in EMSA (PMID: 9736770)\n",
      "DUX3_HUMAN,DUX3,Homeodomain,Yes,Not included in Ensembl.\n",
      "\n"
     ]
    }
   ],
   "source": [
    "print(true_tfs_not_in_ensembl97.loc[:, ['Ensembl ID', 'HGNC symbol','DBD', 'Is TF?', 'Final Comments']].to_csv(index=False))"
   ]
  },
  {
   "cell_type": "markdown",
   "metadata": {},
   "source": [
    "Are these TFs in the fasta file? `DUX1` and `DUX3` are likely not"
   ]
  },
  {
   "cell_type": "code",
   "execution_count": 65,
   "metadata": {
    "execution_event_id": "d92a0248-914b-4b94-b9c6-aab98e8eaf31",
    "last_executed_text": "! zcat Homo_sapiens.GRCh38.pep.all.fa.gz | grep  ZNF788",
    "persistent_id": "a427146b-36a7-4e55-b621-c3f18ab5f57e"
   },
   "outputs": [],
   "source": [
    "! zcat Homo_sapiens.GRCh38.pep.all.fa.gz | grep  ZNF788"
   ]
  },
  {
   "cell_type": "code",
   "execution_count": 70,
   "metadata": {
    "execution_event_id": "9215f3f7-ee32-4e72-8ad8-2b349e0869cf",
    "last_executed_text": "for i, (ensembl_id, gene_symbol) in true_tfs_not_in_ensembl97[['Ensembl ID', 'HGNC symbol']].iterrows():\n    print(f\"Grep for {ensembl_id}\")\n    ! zcat Homo_sapiens.GRCh38.pep.all.fa.gz | grep $ensembl_id\n    \n    print(f\"Grep for {gene_symbol}\")\n    ! zcat Homo_sapiens.GRCh38.pep.all.fa.gz | grep $gene_symbol",
    "persistent_id": "803387ef-9016-483f-af8b-9379eaa00b14"
   },
   "outputs": [
    {
     "name": "stdout",
     "output_type": "stream",
     "text": [
      "Grep for ENSG00000214189\n",
      "Grep for ZNF788\n",
      "Grep for ENSG00000228623\n",
      "Grep for ZNF883\n",
      ">ENSP00000490059.1 pep chromosome:GRCh38:9:112997120:113050043:-1 gene:ENSG00000285447.1 transcript:ENST00000619044.1 gene_biotype:protein_coding transcript_biotype:protein_coding gene_symbol:ZNF883 description:zinc finger protein 883 [Source:NCBI gene;Acc:169834]\n",
      "Grep for DUX1_HUMAN\n",
      "Grep for DUX1\n",
      "Grep for DUX3_HUMAN\n",
      "Grep for DUX3\n"
     ]
    }
   ],
   "source": [
    "for i, (ensembl_id, gene_symbol) in true_tfs_not_in_ensembl97[['Ensembl ID', 'HGNC symbol']].iterrows():\n",
    "    print(f\"Grep for {ensembl_id}\")\n",
    "    ! zcat Homo_sapiens.GRCh38.pep.all.fa.gz | grep $ensembl_id\n",
    "    \n",
    "    print(f\"Grep for {gene_symbol}\")\n",
    "    ! zcat Homo_sapiens.GRCh38.pep.all.fa.gz | grep $gene_symbol"
   ]
  },
  {
   "cell_type": "code",
   "execution_count": null,
   "metadata": {
    "persistent_id": "7243c243-6276-4911-be42-14c0687fd8e0"
   },
   "outputs": [],
   "source": []
  }
 ],
 "metadata": {
  "history": [
   {
    "cell": {
     "executionCount": 1,
     "executionEventId": "0225cc1f-8961-4c61-90c1-59ae6bd09c09",
     "hasError": false,
     "id": "f0ad2328-8cfd-4161-ac73-904c4d9db965",
     "outputs": [],
     "persistentId": "865243fe-64ce-4011-a5a7-ae93f13b1d6d",
     "text": "import pandas as pd"
    },
    "executionTime": "2019-10-19T21:07:20.553Z"
   },
   {
    "cell": {
     "executionCount": 2,
     "executionEventId": "ab74a5e4-f4f1-4c94-9f6a-03d36298420c",
     "hasError": false,
     "id": "f1c2c3d5-f079-4d6c-884c-1da5f60a41d9",
     "outputs": [],
     "persistentId": "b9fd7d90-7ea4-4e28-8d0d-bc71deb1120b",
     "text": "\n\nhuman_tfs = pd.read_csv(\"http://humantfs.ccbr.utoronto.ca/download/v_1.01/DatabaseExtract_v_1.01.csv\")"
    },
    "executionTime": "2019-10-19T21:07:50.822Z"
   },
   {
    "cell": {
     "executionCount": 3,
     "executionEventId": "b60d960d-2101-405c-bf38-e84539ca6cee",
     "hasError": false,
     "id": "f1c2c3d5-f079-4d6c-884c-1da5f60a41d9",
     "outputs": [
      {
       "name": "stdout",
       "output_type": "stream",
       "text": "(2765, 29)\n"
      },
      {
       "data": {
        "text/html": "<div>\n<style scoped>\n    .dataframe tbody tr th:only-of-type {\n        vertical-align: middle;\n    }\n\n    .dataframe tbody tr th {\n        vertical-align: top;\n    }\n\n    .dataframe thead th {\n        text-align: right;\n    }\n</style>\n<table border=\"1\" class=\"dataframe\">\n  <thead>\n    <tr style=\"text-align: right;\">\n      <th></th>\n      <th>Unnamed: 0</th>\n      <th>Ensembl ID</th>\n      <th>HGNC symbol</th>\n      <th>DBD</th>\n      <th>Is TF?</th>\n      <th>TF assessment</th>\n      <th>Binding mode</th>\n      <th>Motif status</th>\n      <th>Final Notes</th>\n      <th>Final Comments</th>\n      <th>...</th>\n      <th>CisBP considers it a TF?</th>\n      <th>TFCat classification</th>\n      <th>Is a GO TF?</th>\n      <th>Initial assessment</th>\n      <th>Curator 1</th>\n      <th>Curator 2</th>\n      <th>TFclass considers it a TF?</th>\n      <th>Go Evidence</th>\n      <th>Pfam Domains (By ENSP ID)</th>\n      <th>Is C2H2 ZF(KRAB)?</th>\n    </tr>\n  </thead>\n  <tbody>\n    <tr>\n      <th>0</th>\n      <td>0</td>\n      <td>ENSG00000137203</td>\n      <td>TFAP2A</td>\n      <td>AP-2</td>\n      <td>Yes</td>\n      <td>Known motif</td>\n      <td>Monomer or homomultimer</td>\n      <td>High-throughput in vitro</td>\n      <td>None</td>\n      <td>None</td>\n      <td>...</td>\n      <td>Yes</td>\n      <td>TF Gene_DNA-Binding: sequence-specific_DNA Bin...</td>\n      <td>Yes</td>\n      <td>1a1, Direct HQ evidence</td>\n      <td>Sam Lambert</td>\n      <td>Yimeng Yin</td>\n      <td>Yes</td>\n      <td>$#ENSG00000137203#GO:0000981#sequence-specific...</td>\n      <td>$#ENSP00000368928#ENSG00000137203#ENST00000379...</td>\n      <td>False</td>\n    </tr>\n    <tr>\n      <th>1</th>\n      <td>1</td>\n      <td>ENSG00000008196</td>\n      <td>TFAP2B</td>\n      <td>AP-2</td>\n      <td>Yes</td>\n      <td>Known motif</td>\n      <td>Monomer or homomultimer</td>\n      <td>High-throughput in vitro</td>\n      <td>None</td>\n      <td>None</td>\n      <td>...</td>\n      <td>Yes</td>\n      <td>TF Gene_DNA-Binding: sequence-specific_DNA Bin...</td>\n      <td>Yes</td>\n      <td>1a1, Direct HQ evidence</td>\n      <td>Matt Weirauch</td>\n      <td>Yimeng Yin</td>\n      <td>Yes</td>\n      <td>$#ENSG00000008196#GO:0000981#sequence-specific...</td>\n      <td>$#ENSP00000377265#ENSG00000008196#ENST00000393...</td>\n      <td>False</td>\n    </tr>\n    <tr>\n      <th>2</th>\n      <td>2</td>\n      <td>ENSG00000087510</td>\n      <td>TFAP2C</td>\n      <td>AP-2</td>\n      <td>Yes</td>\n      <td>Known motif</td>\n      <td>Monomer or homomultimer</td>\n      <td>High-throughput in vitro</td>\n      <td>None</td>\n      <td>None</td>\n      <td>...</td>\n      <td>Yes</td>\n      <td>No</td>\n      <td>Yes</td>\n      <td>1a1, Direct HQ evidence</td>\n      <td>Matt Weirauch</td>\n      <td>Yimeng Yin</td>\n      <td>Yes</td>\n      <td>$#ENSG00000087510#GO:0001077#RNA polymerase II...</td>\n      <td>$#ENSP00000201031#ENSG00000087510#ENST00000201...</td>\n      <td>False</td>\n    </tr>\n    <tr>\n      <th>3</th>\n      <td>3</td>\n      <td>ENSG00000008197</td>\n      <td>TFAP2D</td>\n      <td>AP-2</td>\n      <td>Yes</td>\n      <td>Known motif</td>\n      <td>Monomer or homomultimer</td>\n      <td>In vivo/Misc source</td>\n      <td>Only known motifs are from Transfac or HocoMoc...</td>\n      <td>Binds the same GCCTGAGGC sequence as the other...</td>\n      <td>...</td>\n      <td>Yes</td>\n      <td>No</td>\n      <td>Yes</td>\n      <td>2a1, Lower confidence direct evidence</td>\n      <td>Arttu Jolma</td>\n      <td>Sam Lambert</td>\n      <td>Yes</td>\n      <td>$#ENSG00000008197#GO:0000981#sequence-specific...</td>\n      <td>$#ENSP00000008391#ENSG00000008197#ENST00000008...</td>\n      <td>False</td>\n    </tr>\n    <tr>\n      <th>4</th>\n      <td>4</td>\n      <td>ENSG00000116819</td>\n      <td>TFAP2E</td>\n      <td>AP-2</td>\n      <td>Yes</td>\n      <td>Known motif</td>\n      <td>Monomer or homomultimer</td>\n      <td>High-throughput in vitro</td>\n      <td>None</td>\n      <td>None</td>\n      <td>...</td>\n      <td>Yes</td>\n      <td>TF Gene_DNA-Binding: sequence-specific_DNA Bin...</td>\n      <td>Yes</td>\n      <td>1a1, Direct HQ evidence</td>\n      <td>Sam Lambert</td>\n      <td>Laura Campitelli</td>\n      <td>Yes</td>\n      <td>$#ENSG00000116819#GO:0000981#sequence-specific...</td>\n      <td>$#ENSP00000362332#ENSG00000116819#ENST00000373...</td>\n      <td>False</td>\n    </tr>\n  </tbody>\n</table>\n<p>5 rows × 29 columns</p>\n</div>",
        "text/plain": "   Unnamed: 0       Ensembl ID HGNC symbol   DBD Is TF? TF assessment  \\\n0           0  ENSG00000137203      TFAP2A  AP-2    Yes   Known motif   \n1           1  ENSG00000008196      TFAP2B  AP-2    Yes   Known motif   \n2           2  ENSG00000087510      TFAP2C  AP-2    Yes   Known motif   \n3           3  ENSG00000008197      TFAP2D  AP-2    Yes   Known motif   \n4           4  ENSG00000116819      TFAP2E  AP-2    Yes   Known motif   \n\n              Binding mode              Motif status  \\\n0  Monomer or homomultimer  High-throughput in vitro   \n1  Monomer or homomultimer  High-throughput in vitro   \n2  Monomer or homomultimer  High-throughput in vitro   \n3  Monomer or homomultimer       In vivo/Misc source   \n4  Monomer or homomultimer  High-throughput in vitro   \n\n                                         Final Notes  \\\n0                                               None   \n1                                               None   \n2                                               None   \n3  Only known motifs are from Transfac or HocoMoc...   \n4                                               None   \n\n                                      Final Comments  ...  \\\n0                                               None  ...   \n1                                               None  ...   \n2                                               None  ...   \n3  Binds the same GCCTGAGGC sequence as the other...  ...   \n4                                               None  ...   \n\n  CisBP considers it a TF?                               TFCat classification  \\\n0                      Yes  TF Gene_DNA-Binding: sequence-specific_DNA Bin...   \n1                      Yes  TF Gene_DNA-Binding: sequence-specific_DNA Bin...   \n2                      Yes                                                 No   \n3                      Yes                                                 No   \n4                      Yes  TF Gene_DNA-Binding: sequence-specific_DNA Bin...   \n\n  Is a GO TF?                    Initial assessment       Curator 1  \\\n0         Yes                1a1, Direct HQ evidence    Sam Lambert   \n1         Yes                1a1, Direct HQ evidence  Matt Weirauch   \n2         Yes                1a1, Direct HQ evidence  Matt Weirauch   \n3         Yes  2a1, Lower confidence direct evidence    Arttu Jolma   \n4         Yes                1a1, Direct HQ evidence    Sam Lambert   \n\n          Curator 2 TFclass considers it a TF?   \\\n0        Yimeng Yin                         Yes   \n1        Yimeng Yin                         Yes   \n2        Yimeng Yin                         Yes   \n3       Sam Lambert                         Yes   \n4  Laura Campitelli                         Yes   \n\n                                         Go Evidence  \\\n0  $#ENSG00000137203#GO:0000981#sequence-specific...   \n1  $#ENSG00000008196#GO:0000981#sequence-specific...   \n2  $#ENSG00000087510#GO:0001077#RNA polymerase II...   \n3  $#ENSG00000008197#GO:0000981#sequence-specific...   \n4  $#ENSG00000116819#GO:0000981#sequence-specific...   \n\n                           Pfam Domains (By ENSP ID) Is C2H2 ZF(KRAB)?  \n0  $#ENSP00000368928#ENSG00000137203#ENST00000379...             False  \n1  $#ENSP00000377265#ENSG00000008196#ENST00000393...             False  \n2  $#ENSP00000201031#ENSG00000087510#ENST00000201...             False  \n3  $#ENSP00000008391#ENSG00000008197#ENST00000008...             False  \n4  $#ENSP00000362332#ENSG00000116819#ENST00000373...             False  \n\n[5 rows x 29 columns]"
       },
       "execution_count": 3,
       "metadata": {},
       "output_type": "execute_result"
      }
     ],
     "persistentId": "b9fd7d90-7ea4-4e28-8d0d-bc71deb1120b",
     "text": "\n\nhuman_tfs = pd.read_csv(\"http://humantfs.ccbr.utoronto.ca/download/v_1.01/DatabaseExtract_v_1.01.csv\")\nprint(human_tfs.shape)\nhuman_tfs.head()"
    },
    "executionTime": "2019-10-19T21:08:00.147Z"
   },
   {
    "cell": {
     "executionCount": 4,
     "executionEventId": "bcca95bd-2713-4073-b553-1ca6515e2d0f",
     "hasError": false,
     "id": "f1c2c3d5-f079-4d6c-884c-1da5f60a41d9",
     "outputs": [
      {
       "name": "stdout",
       "output_type": "stream",
       "text": "(2765, 28)\n"
      },
      {
       "data": {
        "text/html": "<div>\n<style scoped>\n    .dataframe tbody tr th:only-of-type {\n        vertical-align: middle;\n    }\n\n    .dataframe tbody tr th {\n        vertical-align: top;\n    }\n\n    .dataframe thead th {\n        text-align: right;\n    }\n</style>\n<table border=\"1\" class=\"dataframe\">\n  <thead>\n    <tr style=\"text-align: right;\">\n      <th></th>\n      <th>Ensembl ID</th>\n      <th>HGNC symbol</th>\n      <th>DBD</th>\n      <th>Is TF?</th>\n      <th>TF assessment</th>\n      <th>Binding mode</th>\n      <th>Motif status</th>\n      <th>Final Notes</th>\n      <th>Final Comments</th>\n      <th>Interpro ID(s)</th>\n      <th>...</th>\n      <th>CisBP considers it a TF?</th>\n      <th>TFCat classification</th>\n      <th>Is a GO TF?</th>\n      <th>Initial assessment</th>\n      <th>Curator 1</th>\n      <th>Curator 2</th>\n      <th>TFclass considers it a TF?</th>\n      <th>Go Evidence</th>\n      <th>Pfam Domains (By ENSP ID)</th>\n      <th>Is C2H2 ZF(KRAB)?</th>\n    </tr>\n  </thead>\n  <tbody>\n    <tr>\n      <th>0</th>\n      <td>ENSG00000137203</td>\n      <td>TFAP2A</td>\n      <td>AP-2</td>\n      <td>Yes</td>\n      <td>Known motif</td>\n      <td>Monomer or homomultimer</td>\n      <td>High-throughput in vitro</td>\n      <td>None</td>\n      <td>None</td>\n      <td>IPR008121;IPR013854</td>\n      <td>...</td>\n      <td>Yes</td>\n      <td>TF Gene_DNA-Binding: sequence-specific_DNA Bin...</td>\n      <td>Yes</td>\n      <td>1a1, Direct HQ evidence</td>\n      <td>Sam Lambert</td>\n      <td>Yimeng Yin</td>\n      <td>Yes</td>\n      <td>$#ENSG00000137203#GO:0000981#sequence-specific...</td>\n      <td>$#ENSP00000368928#ENSG00000137203#ENST00000379...</td>\n      <td>False</td>\n    </tr>\n    <tr>\n      <th>1</th>\n      <td>ENSG00000008196</td>\n      <td>TFAP2B</td>\n      <td>AP-2</td>\n      <td>Yes</td>\n      <td>Known motif</td>\n      <td>Monomer or homomultimer</td>\n      <td>High-throughput in vitro</td>\n      <td>None</td>\n      <td>None</td>\n      <td>IPR008122;IPR013854</td>\n      <td>...</td>\n      <td>Yes</td>\n      <td>TF Gene_DNA-Binding: sequence-specific_DNA Bin...</td>\n      <td>Yes</td>\n      <td>1a1, Direct HQ evidence</td>\n      <td>Matt Weirauch</td>\n      <td>Yimeng Yin</td>\n      <td>Yes</td>\n      <td>$#ENSG00000008196#GO:0000981#sequence-specific...</td>\n      <td>$#ENSP00000377265#ENSG00000008196#ENST00000393...</td>\n      <td>False</td>\n    </tr>\n    <tr>\n      <th>2</th>\n      <td>ENSG00000087510</td>\n      <td>TFAP2C</td>\n      <td>AP-2</td>\n      <td>Yes</td>\n      <td>Known motif</td>\n      <td>Monomer or homomultimer</td>\n      <td>High-throughput in vitro</td>\n      <td>None</td>\n      <td>None</td>\n      <td>IPR008123;IPR013854</td>\n      <td>...</td>\n      <td>Yes</td>\n      <td>No</td>\n      <td>Yes</td>\n      <td>1a1, Direct HQ evidence</td>\n      <td>Matt Weirauch</td>\n      <td>Yimeng Yin</td>\n      <td>Yes</td>\n      <td>$#ENSG00000087510#GO:0001077#RNA polymerase II...</td>\n      <td>$#ENSP00000201031#ENSG00000087510#ENST00000201...</td>\n      <td>False</td>\n    </tr>\n    <tr>\n      <th>3</th>\n      <td>ENSG00000008197</td>\n      <td>TFAP2D</td>\n      <td>AP-2</td>\n      <td>Yes</td>\n      <td>Known motif</td>\n      <td>Monomer or homomultimer</td>\n      <td>In vivo/Misc source</td>\n      <td>Only known motifs are from Transfac or HocoMoc...</td>\n      <td>Binds the same GCCTGAGGC sequence as the other...</td>\n      <td>IPR013854;</td>\n      <td>...</td>\n      <td>Yes</td>\n      <td>No</td>\n      <td>Yes</td>\n      <td>2a1, Lower confidence direct evidence</td>\n      <td>Arttu Jolma</td>\n      <td>Sam Lambert</td>\n      <td>Yes</td>\n      <td>$#ENSG00000008197#GO:0000981#sequence-specific...</td>\n      <td>$#ENSP00000008391#ENSG00000008197#ENST00000008...</td>\n      <td>False</td>\n    </tr>\n    <tr>\n      <th>4</th>\n      <td>ENSG00000116819</td>\n      <td>TFAP2E</td>\n      <td>AP-2</td>\n      <td>Yes</td>\n      <td>Known motif</td>\n      <td>Monomer or homomultimer</td>\n      <td>High-throughput in vitro</td>\n      <td>None</td>\n      <td>None</td>\n      <td>IPR013854;</td>\n      <td>...</td>\n      <td>Yes</td>\n      <td>TF Gene_DNA-Binding: sequence-specific_DNA Bin...</td>\n      <td>Yes</td>\n      <td>1a1, Direct HQ evidence</td>\n      <td>Sam Lambert</td>\n      <td>Laura Campitelli</td>\n      <td>Yes</td>\n      <td>$#ENSG00000116819#GO:0000981#sequence-specific...</td>\n      <td>$#ENSP00000362332#ENSG00000116819#ENST00000373...</td>\n      <td>False</td>\n    </tr>\n  </tbody>\n</table>\n<p>5 rows × 28 columns</p>\n</div>",
        "text/plain": "        Ensembl ID HGNC symbol   DBD Is TF? TF assessment  \\\n0  ENSG00000137203      TFAP2A  AP-2    Yes   Known motif   \n1  ENSG00000008196      TFAP2B  AP-2    Yes   Known motif   \n2  ENSG00000087510      TFAP2C  AP-2    Yes   Known motif   \n3  ENSG00000008197      TFAP2D  AP-2    Yes   Known motif   \n4  ENSG00000116819      TFAP2E  AP-2    Yes   Known motif   \n\n              Binding mode              Motif status  \\\n0  Monomer or homomultimer  High-throughput in vitro   \n1  Monomer or homomultimer  High-throughput in vitro   \n2  Monomer or homomultimer  High-throughput in vitro   \n3  Monomer or homomultimer       In vivo/Misc source   \n4  Monomer or homomultimer  High-throughput in vitro   \n\n                                         Final Notes  \\\n0                                               None   \n1                                               None   \n2                                               None   \n3  Only known motifs are from Transfac or HocoMoc...   \n4                                               None   \n\n                                      Final Comments       Interpro ID(s)  \\\n0                                               None  IPR008121;IPR013854   \n1                                               None  IPR008122;IPR013854   \n2                                               None  IPR008123;IPR013854   \n3  Binds the same GCCTGAGGC sequence as the other...           IPR013854;   \n4                                               None           IPR013854;   \n\n   ... CisBP considers it a TF?  \\\n0  ...                      Yes   \n1  ...                      Yes   \n2  ...                      Yes   \n3  ...                      Yes   \n4  ...                      Yes   \n\n                                TFCat classification Is a GO TF?  \\\n0  TF Gene_DNA-Binding: sequence-specific_DNA Bin...         Yes   \n1  TF Gene_DNA-Binding: sequence-specific_DNA Bin...         Yes   \n2                                                 No         Yes   \n3                                                 No         Yes   \n4  TF Gene_DNA-Binding: sequence-specific_DNA Bin...         Yes   \n\n                     Initial assessment       Curator 1         Curator 2  \\\n0                1a1, Direct HQ evidence    Sam Lambert        Yimeng Yin   \n1                1a1, Direct HQ evidence  Matt Weirauch        Yimeng Yin   \n2                1a1, Direct HQ evidence  Matt Weirauch        Yimeng Yin   \n3  2a1, Lower confidence direct evidence    Arttu Jolma       Sam Lambert   \n4                1a1, Direct HQ evidence    Sam Lambert  Laura Campitelli   \n\n  TFclass considers it a TF?   \\\n0                         Yes   \n1                         Yes   \n2                         Yes   \n3                         Yes   \n4                         Yes   \n\n                                         Go Evidence  \\\n0  $#ENSG00000137203#GO:0000981#sequence-specific...   \n1  $#ENSG00000008196#GO:0000981#sequence-specific...   \n2  $#ENSG00000087510#GO:0001077#RNA polymerase II...   \n3  $#ENSG00000008197#GO:0000981#sequence-specific...   \n4  $#ENSG00000116819#GO:0000981#sequence-specific...   \n\n                           Pfam Domains (By ENSP ID) Is C2H2 ZF(KRAB)?  \n0  $#ENSP00000368928#ENSG00000137203#ENST00000379...             False  \n1  $#ENSP00000377265#ENSG00000008196#ENST00000393...             False  \n2  $#ENSP00000201031#ENSG00000087510#ENST00000201...             False  \n3  $#ENSP00000008391#ENSG00000008197#ENST00000008...             False  \n4  $#ENSP00000362332#ENSG00000116819#ENST00000373...             False  \n\n[5 rows x 28 columns]"
       },
       "execution_count": 4,
       "metadata": {},
       "output_type": "execute_result"
      }
     ],
     "persistentId": "b9fd7d90-7ea4-4e28-8d0d-bc71deb1120b",
     "text": "\n\nhuman_tfs = pd.read_csv(\"http://humantfs.ccbr.utoronto.ca/download/v_1.01/DatabaseExtract_v_1.01.csv\", index_col=0)\nprint(human_tfs.shape)\nhuman_tfs.head()"
    },
    "executionTime": "2019-10-19T21:08:08.025Z"
   },
   {
    "cell": {
     "executionCount": 5,
     "executionEventId": "c16919f9-dc44-4172-9fdb-e82d410dc36d",
     "hasError": false,
     "id": "56902ad1-8bb5-4eb1-94eb-11b47329414c",
     "outputs": [
      {
       "name": "stdout",
       "output_type": "stream",
       "text": "(1639, 28)\n"
      },
      {
       "data": {
        "text/html": "<div>\n<style scoped>\n    .dataframe tbody tr th:only-of-type {\n        vertical-align: middle;\n    }\n\n    .dataframe tbody tr th {\n        vertical-align: top;\n    }\n\n    .dataframe thead th {\n        text-align: right;\n    }\n</style>\n<table border=\"1\" class=\"dataframe\">\n  <thead>\n    <tr style=\"text-align: right;\">\n      <th></th>\n      <th>Ensembl ID</th>\n      <th>HGNC symbol</th>\n      <th>DBD</th>\n      <th>Is TF?</th>\n      <th>TF assessment</th>\n      <th>Binding mode</th>\n      <th>Motif status</th>\n      <th>Final Notes</th>\n      <th>Final Comments</th>\n      <th>Interpro ID(s)</th>\n      <th>...</th>\n      <th>CisBP considers it a TF?</th>\n      <th>TFCat classification</th>\n      <th>Is a GO TF?</th>\n      <th>Initial assessment</th>\n      <th>Curator 1</th>\n      <th>Curator 2</th>\n      <th>TFclass considers it a TF?</th>\n      <th>Go Evidence</th>\n      <th>Pfam Domains (By ENSP ID)</th>\n      <th>Is C2H2 ZF(KRAB)?</th>\n    </tr>\n  </thead>\n  <tbody>\n    <tr>\n      <th>0</th>\n      <td>ENSG00000137203</td>\n      <td>TFAP2A</td>\n      <td>AP-2</td>\n      <td>Yes</td>\n      <td>Known motif</td>\n      <td>Monomer or homomultimer</td>\n      <td>High-throughput in vitro</td>\n      <td>None</td>\n      <td>None</td>\n      <td>IPR008121;IPR013854</td>\n      <td>...</td>\n      <td>Yes</td>\n      <td>TF Gene_DNA-Binding: sequence-specific_DNA Bin...</td>\n      <td>Yes</td>\n      <td>1a1, Direct HQ evidence</td>\n      <td>Sam Lambert</td>\n      <td>Yimeng Yin</td>\n      <td>Yes</td>\n      <td>$#ENSG00000137203#GO:0000981#sequence-specific...</td>\n      <td>$#ENSP00000368928#ENSG00000137203#ENST00000379...</td>\n      <td>False</td>\n    </tr>\n    <tr>\n      <th>1</th>\n      <td>ENSG00000008196</td>\n      <td>TFAP2B</td>\n      <td>AP-2</td>\n      <td>Yes</td>\n      <td>Known motif</td>\n      <td>Monomer or homomultimer</td>\n      <td>High-throughput in vitro</td>\n      <td>None</td>\n      <td>None</td>\n      <td>IPR008122;IPR013854</td>\n      <td>...</td>\n      <td>Yes</td>\n      <td>TF Gene_DNA-Binding: sequence-specific_DNA Bin...</td>\n      <td>Yes</td>\n      <td>1a1, Direct HQ evidence</td>\n      <td>Matt Weirauch</td>\n      <td>Yimeng Yin</td>\n      <td>Yes</td>\n      <td>$#ENSG00000008196#GO:0000981#sequence-specific...</td>\n      <td>$#ENSP00000377265#ENSG00000008196#ENST00000393...</td>\n      <td>False</td>\n    </tr>\n    <tr>\n      <th>2</th>\n      <td>ENSG00000087510</td>\n      <td>TFAP2C</td>\n      <td>AP-2</td>\n      <td>Yes</td>\n      <td>Known motif</td>\n      <td>Monomer or homomultimer</td>\n      <td>High-throughput in vitro</td>\n      <td>None</td>\n      <td>None</td>\n      <td>IPR008123;IPR013854</td>\n      <td>...</td>\n      <td>Yes</td>\n      <td>No</td>\n      <td>Yes</td>\n      <td>1a1, Direct HQ evidence</td>\n      <td>Matt Weirauch</td>\n      <td>Yimeng Yin</td>\n      <td>Yes</td>\n      <td>$#ENSG00000087510#GO:0001077#RNA polymerase II...</td>\n      <td>$#ENSP00000201031#ENSG00000087510#ENST00000201...</td>\n      <td>False</td>\n    </tr>\n    <tr>\n      <th>3</th>\n      <td>ENSG00000008197</td>\n      <td>TFAP2D</td>\n      <td>AP-2</td>\n      <td>Yes</td>\n      <td>Known motif</td>\n      <td>Monomer or homomultimer</td>\n      <td>In vivo/Misc source</td>\n      <td>Only known motifs are from Transfac or HocoMoc...</td>\n      <td>Binds the same GCCTGAGGC sequence as the other...</td>\n      <td>IPR013854;</td>\n      <td>...</td>\n      <td>Yes</td>\n      <td>No</td>\n      <td>Yes</td>\n      <td>2a1, Lower confidence direct evidence</td>\n      <td>Arttu Jolma</td>\n      <td>Sam Lambert</td>\n      <td>Yes</td>\n      <td>$#ENSG00000008197#GO:0000981#sequence-specific...</td>\n      <td>$#ENSP00000008391#ENSG00000008197#ENST00000008...</td>\n      <td>False</td>\n    </tr>\n    <tr>\n      <th>4</th>\n      <td>ENSG00000116819</td>\n      <td>TFAP2E</td>\n      <td>AP-2</td>\n      <td>Yes</td>\n      <td>Known motif</td>\n      <td>Monomer or homomultimer</td>\n      <td>High-throughput in vitro</td>\n      <td>None</td>\n      <td>None</td>\n      <td>IPR013854;</td>\n      <td>...</td>\n      <td>Yes</td>\n      <td>TF Gene_DNA-Binding: sequence-specific_DNA Bin...</td>\n      <td>Yes</td>\n      <td>1a1, Direct HQ evidence</td>\n      <td>Sam Lambert</td>\n      <td>Laura Campitelli</td>\n      <td>Yes</td>\n      <td>$#ENSG00000116819#GO:0000981#sequence-specific...</td>\n      <td>$#ENSP00000362332#ENSG00000116819#ENST00000373...</td>\n      <td>False</td>\n    </tr>\n  </tbody>\n</table>\n<p>5 rows × 28 columns</p>\n</div>",
        "text/plain": "        Ensembl ID HGNC symbol   DBD Is TF? TF assessment  \\\n0  ENSG00000137203      TFAP2A  AP-2    Yes   Known motif   \n1  ENSG00000008196      TFAP2B  AP-2    Yes   Known motif   \n2  ENSG00000087510      TFAP2C  AP-2    Yes   Known motif   \n3  ENSG00000008197      TFAP2D  AP-2    Yes   Known motif   \n4  ENSG00000116819      TFAP2E  AP-2    Yes   Known motif   \n\n              Binding mode              Motif status  \\\n0  Monomer or homomultimer  High-throughput in vitro   \n1  Monomer or homomultimer  High-throughput in vitro   \n2  Monomer or homomultimer  High-throughput in vitro   \n3  Monomer or homomultimer       In vivo/Misc source   \n4  Monomer or homomultimer  High-throughput in vitro   \n\n                                         Final Notes  \\\n0                                               None   \n1                                               None   \n2                                               None   \n3  Only known motifs are from Transfac or HocoMoc...   \n4                                               None   \n\n                                      Final Comments       Interpro ID(s)  \\\n0                                               None  IPR008121;IPR013854   \n1                                               None  IPR008122;IPR013854   \n2                                               None  IPR008123;IPR013854   \n3  Binds the same GCCTGAGGC sequence as the other...           IPR013854;   \n4                                               None           IPR013854;   \n\n   ... CisBP considers it a TF?  \\\n0  ...                      Yes   \n1  ...                      Yes   \n2  ...                      Yes   \n3  ...                      Yes   \n4  ...                      Yes   \n\n                                TFCat classification Is a GO TF?  \\\n0  TF Gene_DNA-Binding: sequence-specific_DNA Bin...         Yes   \n1  TF Gene_DNA-Binding: sequence-specific_DNA Bin...         Yes   \n2                                                 No         Yes   \n3                                                 No         Yes   \n4  TF Gene_DNA-Binding: sequence-specific_DNA Bin...         Yes   \n\n                     Initial assessment       Curator 1         Curator 2  \\\n0                1a1, Direct HQ evidence    Sam Lambert        Yimeng Yin   \n1                1a1, Direct HQ evidence  Matt Weirauch        Yimeng Yin   \n2                1a1, Direct HQ evidence  Matt Weirauch        Yimeng Yin   \n3  2a1, Lower confidence direct evidence    Arttu Jolma       Sam Lambert   \n4                1a1, Direct HQ evidence    Sam Lambert  Laura Campitelli   \n\n  TFclass considers it a TF?   \\\n0                         Yes   \n1                         Yes   \n2                         Yes   \n3                         Yes   \n4                         Yes   \n\n                                         Go Evidence  \\\n0  $#ENSG00000137203#GO:0000981#sequence-specific...   \n1  $#ENSG00000008196#GO:0000981#sequence-specific...   \n2  $#ENSG00000087510#GO:0001077#RNA polymerase II...   \n3  $#ENSG00000008197#GO:0000981#sequence-specific...   \n4  $#ENSG00000116819#GO:0000981#sequence-specific...   \n\n                           Pfam Domains (By ENSP ID) Is C2H2 ZF(KRAB)?  \n0  $#ENSP00000368928#ENSG00000137203#ENST00000379...             False  \n1  $#ENSP00000377265#ENSG00000008196#ENST00000393...             False  \n2  $#ENSP00000201031#ENSG00000087510#ENST00000201...             False  \n3  $#ENSP00000008391#ENSG00000008197#ENST00000008...             False  \n4  $#ENSP00000362332#ENSG00000116819#ENST00000373...             False  \n\n[5 rows x 28 columns]"
       },
       "execution_count": 5,
       "metadata": {},
       "output_type": "execute_result"
      }
     ],
     "persistentId": "6a4d9376-7e7d-4166-aa17-7176361ae4b1",
     "text": "true_tfs = human_tfs.loc[human_tfs['Is TF?'] == \"Yes\"]\nprint(true_tfs.shape)\ntrue_tfs.head()"
    },
    "executionTime": "2019-10-19T21:08:36.766Z"
   },
   {
    "cell": {
     "executionCount": 6,
     "executionEventId": "b9cb79ee-e573-4a50-9c74-45a90464d736",
     "hasError": false,
     "id": "3657bc1f-f016-4c30-8e9a-3f2615143f8c",
     "outputs": [],
     "persistentId": "d6fd9d66-4ea7-4801-a845-4f037d12d176",
     "text": "%load_ext autoreload\n%autoreload 2\n\nfolder = '/home/olga/data_sm/kmer-hashing/classify_coding_vs_noncoding/'\n"
    },
    "executionTime": "2019-10-19T21:10:28.794Z"
   },
   {
    "cell": {
     "executionCount": 7,
     "executionEventId": "44ef7a73-8f4c-48a3-bc3e-c33ce1c80d33",
     "hasError": false,
     "id": "f6901c9e-2cba-498c-b577-d5b89d814576",
     "outputs": [
      {
       "name": "stdout",
       "output_type": "stream",
       "text": "/mnt/data_sm/olga/kmer-hashing/classify_coding_vs_noncoding\n"
      }
     ],
     "persistentId": "d82e3576-770b-4e60-b55a-93801fb6c09a",
     "text": "cd $folder"
    },
    "executionTime": "2019-10-19T21:10:32.810Z"
   },
   {
    "cell": {
     "executionCount": 8,
     "executionEventId": "d47f33a5-1ee5-45b4-ac7b-61627510c6d2",
     "hasError": true,
     "id": "9fcdd214-9490-454e-a730-472abe6bbf8e",
     "outputs": [
      {
       "ename": "NameError",
       "evalue": "name 'screed' is not defined",
       "output_type": "error",
       "traceback": [
        "\u001b[0;31m---------------------------------------------------------------------------\u001b[0m",
        "\u001b[0;31mNameError\u001b[0m                                 Traceback (most recent call last)",
        "\u001b[0;32m<ipython-input-8-69eb52350c43>\u001b[0m in \u001b[0;36m<module>\u001b[0;34m()\u001b[0m\n\u001b[1;32m      3\u001b[0m \u001b[0;34m\u001b[0m\u001b[0m\n\u001b[1;32m      4\u001b[0m \u001b[0;31m# with open(\"Homo_sapiens.GRCh38.pep.transcription_factors.fa\") as f:\u001b[0m\u001b[0;34m\u001b[0m\u001b[0;34m\u001b[0m\u001b[0;34m\u001b[0m\u001b[0m\n\u001b[0;32m----> 5\u001b[0;31m \u001b[0;32mwith\u001b[0m \u001b[0mscreed\u001b[0m\u001b[0;34m.\u001b[0m\u001b[0mopen\u001b[0m\u001b[0;34m(\u001b[0m\u001b[0;34m\"Homo_sapiens.GRCh38.pep.all.fa.gz\"\u001b[0m\u001b[0;34m)\u001b[0m \u001b[0;32mas\u001b[0m \u001b[0mrecords\u001b[0m\u001b[0;34m:\u001b[0m\u001b[0;34m\u001b[0m\u001b[0;34m\u001b[0m\u001b[0m\n\u001b[0m\u001b[1;32m      6\u001b[0m     \u001b[0;32mfor\u001b[0m \u001b[0mrecord\u001b[0m \u001b[0;32min\u001b[0m \u001b[0mrecords\u001b[0m\u001b[0;34m:\u001b[0m\u001b[0;34m\u001b[0m\u001b[0;34m\u001b[0m\u001b[0m\n\u001b[1;32m      7\u001b[0m         \u001b[0;32mif\u001b[0m \u001b[0;34m'*'\u001b[0m \u001b[0;32min\u001b[0m \u001b[0mrecord\u001b[0m\u001b[0;34m[\u001b[0m\u001b[0;34m'sequence'\u001b[0m\u001b[0;34m]\u001b[0m\u001b[0;34m:\u001b[0m\u001b[0;34m\u001b[0m\u001b[0;34m\u001b[0m\u001b[0m\n",
        "\u001b[0;31mNameError\u001b[0m: name 'screed' is not defined"
       ]
      }
     ],
     "persistentId": "846e8897-69d4-43b5-91f4-02974e41dca5",
     "text": "\ntf_records = []\n\n# with open(\"Homo_sapiens.GRCh38.pep.transcription_factors.fa\") as f:\nwith screed.open(\"Homo_sapiens.GRCh38.pep.all.fa.gz\") as records:\n    for record in records:\n        if '*' in record['sequence']:\n            continue\n        if any(true_tfs['Ensembl ID'] in record['name']):\n            tf_records.append(record)"
    },
    "executionTime": "2019-10-19T21:12:03.132Z"
   },
   {
    "cell": {
     "executionCount": 9,
     "executionEventId": "ee676c5d-870d-45e4-969b-0941a4bc050f",
     "hasError": false,
     "id": "3657bc1f-f016-4c30-8e9a-3f2615143f8c",
     "outputs": [
      {
       "name": "stdout",
       "output_type": "stream",
       "text": "The autoreload extension is already loaded. To reload it, use:\n  %reload_ext autoreload\n"
      }
     ],
     "persistentId": "d6fd9d66-4ea7-4801-a845-4f037d12d176",
     "text": "%load_ext autoreload\n%autoreload 2\n\nfolder = '/home/olga/data_sm/kmer-hashing/classify_coding_vs_noncoding/'\n"
    },
    "executionTime": "2019-10-19T21:12:05.782Z"
   },
   {
    "cell": {
     "executionCount": 10,
     "executionEventId": "7ebef338-2eda-4f6f-92ff-0538833a6636",
     "hasError": false,
     "id": "f6901c9e-2cba-498c-b577-d5b89d814576",
     "outputs": [
      {
       "name": "stdout",
       "output_type": "stream",
       "text": "/mnt/data_sm/olga/kmer-hashing/classify_coding_vs_noncoding\n"
      }
     ],
     "persistentId": "d82e3576-770b-4e60-b55a-93801fb6c09a",
     "text": "cd $folder"
    },
    "executionTime": "2019-10-19T21:12:05.907Z"
   },
   {
    "cell": {
     "executionCount": 11,
     "executionEventId": "eb88262f-8884-4f81-9f5b-57a361ea7cb1",
     "hasError": false,
     "id": "f0ad2328-8cfd-4161-ac73-904c4d9db965",
     "outputs": [],
     "persistentId": "865243fe-64ce-4011-a5a7-ae93f13b1d6d",
     "text": "import pandas as pd\nimport screed"
    },
    "executionTime": "2019-10-19T21:12:06.042Z"
   },
   {
    "cell": {
     "executionCount": 12,
     "executionEventId": "41bbf66b-8d64-4eaf-b53d-b8e726ffd3a6",
     "hasError": true,
     "id": "9fcdd214-9490-454e-a730-472abe6bbf8e",
     "outputs": [
      {
       "ename": "TypeError",
       "evalue": "'in <string>' requires string as left operand, not Series",
       "output_type": "error",
       "traceback": [
        "\u001b[0;31m---------------------------------------------------------------------------\u001b[0m",
        "\u001b[0;31mTypeError\u001b[0m                                 Traceback (most recent call last)",
        "\u001b[0;32m<ipython-input-12-69eb52350c43>\u001b[0m in \u001b[0;36m<module>\u001b[0;34m()\u001b[0m\n\u001b[1;32m      7\u001b[0m         \u001b[0;32mif\u001b[0m \u001b[0;34m'*'\u001b[0m \u001b[0;32min\u001b[0m \u001b[0mrecord\u001b[0m\u001b[0;34m[\u001b[0m\u001b[0;34m'sequence'\u001b[0m\u001b[0;34m]\u001b[0m\u001b[0;34m:\u001b[0m\u001b[0;34m\u001b[0m\u001b[0;34m\u001b[0m\u001b[0m\n\u001b[1;32m      8\u001b[0m             \u001b[0;32mcontinue\u001b[0m\u001b[0;34m\u001b[0m\u001b[0;34m\u001b[0m\u001b[0m\n\u001b[0;32m----> 9\u001b[0;31m         \u001b[0;32mif\u001b[0m \u001b[0many\u001b[0m\u001b[0;34m(\u001b[0m\u001b[0mtrue_tfs\u001b[0m\u001b[0;34m[\u001b[0m\u001b[0;34m'Ensembl ID'\u001b[0m\u001b[0;34m]\u001b[0m \u001b[0;32min\u001b[0m \u001b[0mrecord\u001b[0m\u001b[0;34m[\u001b[0m\u001b[0;34m'name'\u001b[0m\u001b[0;34m]\u001b[0m\u001b[0;34m)\u001b[0m\u001b[0;34m:\u001b[0m\u001b[0;34m\u001b[0m\u001b[0;34m\u001b[0m\u001b[0m\n\u001b[0m\u001b[1;32m     10\u001b[0m             \u001b[0mtf_records\u001b[0m\u001b[0;34m.\u001b[0m\u001b[0mappend\u001b[0m\u001b[0;34m(\u001b[0m\u001b[0mrecord\u001b[0m\u001b[0;34m)\u001b[0m\u001b[0;34m\u001b[0m\u001b[0;34m\u001b[0m\u001b[0m\n",
        "\u001b[0;31mTypeError\u001b[0m: 'in <string>' requires string as left operand, not Series"
       ]
      }
     ],
     "persistentId": "846e8897-69d4-43b5-91f4-02974e41dca5",
     "text": "\ntf_records = []\n\n# with open(\"Homo_sapiens.GRCh38.pep.transcription_factors.fa\") as f:\nwith screed.open(\"Homo_sapiens.GRCh38.pep.all.fa.gz\") as records:\n    for record in records:\n        if '*' in record['sequence']:\n            continue\n        if any(true_tfs['Ensembl ID'] in record['name']):\n            tf_records.append(record)"
    },
    "executionTime": "2019-10-19T21:12:08.858Z"
   },
   {
    "cell": {
     "executionCount": 13,
     "executionEventId": "50d97f03-b8f8-4572-b5eb-62c697fbf25b",
     "hasError": false,
     "id": "9fcdd214-9490-454e-a730-472abe6bbf8e",
     "outputs": [],
     "persistentId": "846e8897-69d4-43b5-91f4-02974e41dca5",
     "text": "\ntf_records = []\n\n# with open(\"Homo_sapiens.GRCh38.pep.transcription_factors.fa\") as f:\nwith screed.open(\"Homo_sapiens.GRCh38.pep.all.fa.gz\") as records:\n    for record in records:\n        if '*' in record['sequence']:\n            continue\n        if any(x in record['name'] for x in true_tfs['Ensembl ID']):\n            tf_records.append(record)"
    },
    "executionTime": "2019-10-19T21:14:41.994Z"
   },
   {
    "cell": {
     "executionCount": 14,
     "executionEventId": "57ba2a7f-0672-4d9f-9cad-e0d9ef9274ec",
     "hasError": false,
     "id": "dea36345-72a9-47de-8d41-49553519613d",
     "outputs": [
      {
       "data": {
        "text/plain": "8337"
       },
       "execution_count": 14,
       "metadata": {},
       "output_type": "execute_result"
      }
     ],
     "persistentId": "dc5167f9-3791-4fa4-b969-00cfbba1e750",
     "text": "len(tf_records)"
    },
    "executionTime": "2019-10-19T21:14:42.006Z"
   },
   {
    "cell": {
     "executionCount": 16,
     "executionEventId": "4678a285-7b54-4e3e-ae48-05a981701541",
     "hasError": false,
     "id": "3cac9510-d470-4fb0-8abd-e9cbb96e6a49",
     "outputs": [],
     "persistentId": "3f04a1a0-efd9-43e0-a3e7-418bac6a43f7",
     "text": "human_tfs.to_csv(\"Lambert_Jolma_Campitelli_etal_2018_human_transcription_factors.csv\", index=False)"
    },
    "executionTime": "2019-10-19T21:14:42.279Z"
   },
   {
    "cell": {
     "executionCount": 17,
     "executionEventId": "f5f55c38-34f6-4832-ae93-78255849134c",
     "hasError": false,
     "id": "92bd0ef7-7560-40bf-929e-229b764861ea",
     "outputs": [
      {
       "data": {
        "text/plain": "{'name': 'ENSP00000365567.3 pep chromosome:GRCh38:13:99501417:99564006:1 gene:ENSG00000125304.9 transcript:ENST00000376387.4 gene_biotype:protein_coding transcript_biotype:protein_coding gene_symbol:TM9SF2 description:transmembrane 9 superfamily member 2 [Source:HGNC Symbol;Acc:HGNC:11865]', 'sequence': 'MSARLPVLSPPRWPRLLLLSLLLLGAVPGPRRSGAFYLPGLAPVNFCDEEKKSDECKAEIELFVNRLDSVESVLPYEYTAFDFCQASEGKRPSENLGQVLFGERIEPSPYKFTFNKKETCKLVCTKTYHTEKAEDKQKLEFLKKSMLLNYQHHWIVDNMPVTWCYDVEDGQRFCNPGFPIGCYITDKGHAKDACVISSDFHERDTFYIFNHVDIKIYYHVVETGSMGARLVAAKLEPKSFKHTHIDKPDCSGPPMDISNKASGEIKIAYTYSVSFEEDDKIRWASRWDYILESMPHTHIQWFSIMNSLVIVLFLSGMVAMIMLRTLHKDIARYNQMDSTEDAQEEFGWKLVHGDIFRPPRKGMLLSVFLGSGTQILIMTFVTLFFACLGFLSPANRGALMTCAVVLWVLLGTPAGYVAARFYKSFGGEKWKTNVLLTSFLCPGIVFADFFIMNLILWGEGSSAAIPFGTLVAILALWFCISVPLTFIGAYFGFKKNAIEHPVRTNQIPRQIPEQSFYTKPLPGIIMGGILPFGCIFIQLFFILNSIWSHQMYYMFGFLFLVFIILVITCSEATILLCYFHLCAEDYHWQWRSFLTSGFTAVYFLIYAVHYFFSKLQITGTASTILYFGYTMIMVLIFFLFTGTIGFFACFWFVTKIYSVVKVD', 'description': ''}"
       },
       "execution_count": 17,
       "metadata": {},
       "output_type": "execute_result"
      }
     ],
     "persistentId": "cd4bea90-240b-42af-9ac8-3b487217f998",
     "text": "record"
    },
    "executionTime": "2019-10-19T21:25:33.179Z"
   },
   {
    "cell": {
     "executionCount": 18,
     "executionEventId": "3df82d31-c5f4-44ac-83bb-25fc50e648ab",
     "hasError": false,
     "id": "92bd0ef7-7560-40bf-929e-229b764861ea",
     "outputs": [
      {
       "data": {
        "text/plain": "{'name': 'ENSP00000306523.3 pep chromosome:GRCh38:14:35534164:35537054:1 gene:ENSG00000168348.4 transcript:ENST00000307169.4 gene_biotype:protein_coding transcript_biotype:protein_coding gene_symbol:INSM2 description:INSM transcriptional repressor 2 [Source:HGNC Symbol;Acc:HGNC:17539]', 'sequence': 'MPRGFLVKRTKRTGGLYRVRLAERVFPLLGPQGAPPFLEEAPSASLPGAERATPPTREEPGKGLTAEAAREQSGSPCRAAGVSPGTGGREGAEWRAGGREGPGPSPSPSPSPAKPAGAELRRAFLERCLSSPVSAESFPGGAAAVAAFSCSVAPAAAPTPGEQFLLPLRAPFPEPALQPDPAPLSAALQSLKRAAGGERRGKAPTDCASGPAAAGIKKPKAMRKLSFADEVTTSPVLGLKIKEEEPGAPSRGLGGSRTPLGEFICQLCKEQYADPFALAQHRCSRIVRVEYRCPECDKVFSCPANLASHRRWHKPRPAAANAATVSSADGKPPSSSSSSSRDSGAIASFLAEGKENSRIERTADQHPQARDSSGADQHPDSAPRQGLQVLTHPEPPLPQGPYTEGVLGRRVPVPGSTSGGRGSEIFVCPYCHKKFRRQAYLRKHLSTHEAGSARALAPGFGSERGAPLAFACPLCGAHFPTADIREKHRLWHAVREELLLPALAGAPPETSGPSGPSDGSAQQIFSCKHCPSTFFSSPGLTRHINKCHPSESRQVLLLQMPLRPGC', 'description': ''}"
       },
       "execution_count": 18,
       "metadata": {},
       "output_type": "execute_result"
      }
     ],
     "persistentId": "cd4bea90-240b-42af-9ac8-3b487217f998",
     "text": "r = tf_records[0]\nr"
    },
    "executionTime": "2019-10-19T21:25:41.325Z"
   },
   {
    "cell": {
     "executionCount": 19,
     "executionEventId": "5f29cc93-c0cb-4955-9392-bb35be0a69f8",
     "hasError": false,
     "id": "d4fe313d-54ad-440d-b18d-2beae8cda1e1",
     "outputs": [
      {
       "data": {
        "text/plain": "'ENSP00000306523.3 pep chromosome:GRCh38:14:35534164:35537054:1 gene:ENSG00000168348.4 transcript:ENST00000307169.4 gene_biotype:protein_coding transcript_biotype:protein_coding gene_symbol:INSM2 description:INSM transcriptional repressor 2 [Source:HGNC Symbol;Acc:HGNC:17539]'"
       },
       "execution_count": 19,
       "metadata": {},
       "output_type": "execute_result"
      }
     ],
     "persistentId": "11101019-7233-4c86-ab42-0b52000b656e",
     "text": "r['name']"
    },
    "executionTime": "2019-10-19T21:25:47.512Z"
   },
   {
    "cell": {
     "executionCount": 20,
     "executionEventId": "a915bc78-4559-4ded-9de6-3d71a3ffee12",
     "hasError": false,
     "id": "f0ad2328-8cfd-4161-ac73-904c4d9db965",
     "outputs": [],
     "persistentId": "865243fe-64ce-4011-a5a7-ae93f13b1d6d",
     "text": "import re\n\nimport pandas as pd\nimport screed"
    },
    "executionTime": "2019-10-19T21:31:05.575Z"
   },
   {
    "cell": {
     "executionCount": 21,
     "executionEventId": "d3019423-9482-4226-aa7a-7430c87af0f5",
     "hasError": false,
     "id": "85ef2277-19b6-4bb0-92e9-aa76481ed5d4",
     "outputs": [
      {
       "data": {
        "text/plain": "[('ENSP00000306523.3',\n  'pep',\n  'chromosome:GRCh38:14:35534164:35537054:1',\n  'gene:ENSG00000168348.4',\n  'transcript:ENST00000307169.4',\n  'gene_biotype:protein_coding',\n  'transcript_biotype:protein_coding',\n  'gene_symbol:INSM2',\n  'description:INSM transcriptional repressor 2',\n  '[Source:HGNC Symbol;Acc:HGNC:17539]')]"
       },
       "execution_count": 21,
       "metadata": {},
       "output_type": "execute_result"
      }
     ],
     "persistentId": "c742220c-cf6b-4d4a-8e34-a0504bf91d55",
     "text": "pattern = '(?P<protein_id>ENSP\\d+\\.\\d+) (?P<seqtype>\\w+) (?P<location>chromosome:GRCh38:[\\dXY]+:\\d+:\\d+:\\d+) (?P<gene_id>gene:ENSG\\d+\\.\\d+) (?P<transcript_id>transcript:ENST\\d+\\.\\d+) (?P<gene_biotype>gene_biotype:\\w+) (?P<transcript_biotype>transcript_biotype:\\w+) (?P<gene_symbol>gene_symbol:\\w+) (?P<description>description:[\\w ]+) (?P<source>\\[Source:[\\w ]+ Symbol;Acc:HGNC:\\d+\\])'\nre.findall(pattern, r['name'])"
    },
    "executionTime": "2019-10-19T21:31:13.602Z"
   },
   {
    "cell": {
     "executionCount": 22,
     "executionEventId": "5dd3b118-d6e4-496a-8fa8-be0603f1dc73",
     "hasError": false,
     "id": "85ef2277-19b6-4bb0-92e9-aa76481ed5d4",
     "outputs": [
      {
       "data": {
        "text/plain": "<_sre.SRE_Match object; span=(0, 275), match='ENSP00000306523.3 pep chromosome:GRCh38:14:355341>"
       },
       "execution_count": 22,
       "metadata": {},
       "output_type": "execute_result"
      }
     ],
     "persistentId": "c742220c-cf6b-4d4a-8e34-a0504bf91d55",
     "text": "pattern = '(?P<protein_id>ENSP\\d+\\.\\d+) (?P<seqtype>\\w+) (?P<location>chromosome:GRCh38:[\\dXY]+:\\d+:\\d+:\\d+) (?P<gene_id>gene:ENSG\\d+\\.\\d+) (?P<transcript_id>transcript:ENST\\d+\\.\\d+) (?P<gene_biotype>gene_biotype:\\w+) (?P<transcript_biotype>transcript_biotype:\\w+) (?P<gene_symbol>gene_symbol:\\w+) (?P<description>description:[\\w ]+) (?P<source>\\[Source:[\\w ]+ Symbol;Acc:HGNC:\\d+\\])'\nre.match(pattern, r['name'])"
    },
    "executionTime": "2019-10-19T21:31:21.002Z"
   },
   {
    "cell": {
     "executionCount": 23,
     "executionEventId": "8cb89ce7-50a8-431c-8220-5e5d8db883d4",
     "hasError": false,
     "id": "85ef2277-19b6-4bb0-92e9-aa76481ed5d4",
     "outputs": [
      {
       "data": {
        "text/plain": "<function SRE_Match.groups(default=None)>"
       },
       "execution_count": 23,
       "metadata": {},
       "output_type": "execute_result"
      }
     ],
     "persistentId": "c742220c-cf6b-4d4a-8e34-a0504bf91d55",
     "text": "pattern = '(?P<protein_id>ENSP\\d+\\.\\d+) (?P<seqtype>\\w+) (?P<location>chromosome:GRCh38:[\\dXY]+:\\d+:\\d+:\\d+) (?P<gene_id>gene:ENSG\\d+\\.\\d+) (?P<transcript_id>transcript:ENST\\d+\\.\\d+) (?P<gene_biotype>gene_biotype:\\w+) (?P<transcript_biotype>transcript_biotype:\\w+) (?P<gene_symbol>gene_symbol:\\w+) (?P<description>description:[\\w ]+) (?P<source>\\[Source:[\\w ]+ Symbol;Acc:HGNC:\\d+\\])'\nre.match(pattern, r['name']).groups"
    },
    "executionTime": "2019-10-19T21:31:26.185Z"
   },
   {
    "cell": {
     "executionCount": 24,
     "executionEventId": "c0a17066-c093-4e7c-944d-890cce788acd",
     "hasError": false,
     "id": "85ef2277-19b6-4bb0-92e9-aa76481ed5d4",
     "outputs": [
      {
       "data": {
        "text/plain": "('ENSP00000306523.3',\n 'pep',\n 'chromosome:GRCh38:14:35534164:35537054:1',\n 'gene:ENSG00000168348.4',\n 'transcript:ENST00000307169.4',\n 'gene_biotype:protein_coding',\n 'transcript_biotype:protein_coding',\n 'gene_symbol:INSM2',\n 'description:INSM transcriptional repressor 2',\n '[Source:HGNC Symbol;Acc:HGNC:17539]')"
       },
       "execution_count": 24,
       "metadata": {},
       "output_type": "execute_result"
      }
     ],
     "persistentId": "c742220c-cf6b-4d4a-8e34-a0504bf91d55",
     "text": "pattern = '(?P<protein_id>ENSP\\d+\\.\\d+) (?P<seqtype>\\w+) (?P<location>chromosome:GRCh38:[\\dXY]+:\\d+:\\d+:\\d+) (?P<gene_id>gene:ENSG\\d+\\.\\d+) (?P<transcript_id>transcript:ENST\\d+\\.\\d+) (?P<gene_biotype>gene_biotype:\\w+) (?P<transcript_biotype>transcript_biotype:\\w+) (?P<gene_symbol>gene_symbol:\\w+) (?P<description>description:[\\w ]+) (?P<source>\\[Source:[\\w ]+ Symbol;Acc:HGNC:\\d+\\])'\nre.match(pattern, r['name']).groups()"
    },
    "executionTime": "2019-10-19T21:31:27.786Z"
   },
   {
    "cell": {
     "executionCount": 25,
     "executionEventId": "41c3a445-1e4d-44f8-880a-9403d92abcfd",
     "hasError": false,
     "id": "85ef2277-19b6-4bb0-92e9-aa76481ed5d4",
     "outputs": [
      {
       "data": {
        "text/plain": "('ENSP00000306523.3',\n 'pep',\n 'chromosome:GRCh38:14:35534164:35537054:1',\n 'ENSG00000168348.4',\n 'ENST00000307169.4',\n 'protein_coding',\n 'protein_coding',\n 'INSM2',\n 'INSM transcriptional repressor 2',\n '[Source:HGNC Symbol;Acc:HGNC:17539]')"
       },
       "execution_count": 25,
       "metadata": {},
       "output_type": "execute_result"
      }
     ],
     "persistentId": "c742220c-cf6b-4d4a-8e34-a0504bf91d55",
     "text": "pattern = \"(?P<protein_id>ENSP\\d+\\.\\d+) (?P<seqtype>\\w+) (?P<location>chromosome:GRCh38:[\\dXY]+:\\d+:\\d+:\\d+) gene:(?P<gene_id>ENSG\\d+\\.\\d+) transcript:(?P<transcript_id>ENST\\d+\\.\\d+) gene_biotype:(?P<gene_biotype>\\w+) transcript_biotype:(?P<transcript_biotype>\\w+) gene_symbol:(?P<gene_symbol>\\w+) description:(?P<description>[\\w ]+) (?P<source>\\[Source:[\\w ]+ Symbol;Acc:HGNC:\\d+\\])\"\nre.match(pattern, r['name']).groups()"
    },
    "executionTime": "2019-10-19T21:32:42.998Z"
   },
   {
    "cell": {
     "executionCount": 26,
     "executionEventId": "00ac51f6-d313-4594-8979-6d6abc86c5b8",
     "hasError": false,
     "id": "85ef2277-19b6-4bb0-92e9-aa76481ed5d4",
     "outputs": [],
     "persistentId": "c742220c-cf6b-4d4a-8e34-a0504bf91d55",
     "text": "pattern = \"(?P<protein_id>ENSP\\d+\\.\\d+) (?P<seqtype>\\w+) (?P<location>chromosome:GRCh38:[\\dXY]+:\\d+:\\d+:\\d+) gene:(?P<gene_id>ENSG\\d+\\.\\d+) transcript:(?P<transcript_id>ENST\\d+\\.\\d+) gene_biotype:(?P<gene_biotype>\\w+) transcript_biotype:(?P<transcript_biotype>\\w+) gene_symbol:(?P<gene_symbol>\\w+) description:(?P<description>[\\w ]+) (?P<source>\\[Source:[\\w ]+ Symbol;Acc:HGNC:\\d+\\])\"\nm = re.match(pattern, r['name'])\n"
    },
    "executionTime": "2019-10-19T21:32:58.216Z"
   },
   {
    "cell": {
     "executionCount": 27,
     "executionEventId": "b513454e-949b-4744-b8cc-3bf139b37580",
     "hasError": false,
     "id": "ea625a06-3a3b-47c3-a068-934a8c4bf1cc",
     "outputs": [
      {
       "data": {
        "text/plain": "{'protein_id': 'ENSP00000306523.3',\n 'seqtype': 'pep',\n 'location': 'chromosome:GRCh38:14:35534164:35537054:1',\n 'gene_id': 'ENSG00000168348.4',\n 'transcript_id': 'ENST00000307169.4',\n 'gene_biotype': 'protein_coding',\n 'transcript_biotype': 'protein_coding',\n 'gene_symbol': 'INSM2',\n 'description': 'INSM transcriptional repressor 2',\n 'source': '[Source:HGNC Symbol;Acc:HGNC:17539]'}"
       },
       "execution_count": 27,
       "metadata": {},
       "output_type": "execute_result"
      }
     ],
     "persistentId": "79410eec-1aac-4efc-8c3a-4c4ae74455c9",
     "text": "m.groupdict()"
    },
    "executionTime": "2019-10-19T21:33:06.151Z"
   },
   {
    "cell": {
     "executionCount": 28,
     "executionEventId": "3466ee8b-d78f-4a8c-9c34-4c1f374e554e",
     "hasError": false,
     "id": "0af59044-1c38-4993-a053-2fb99ea5462f",
     "outputs": [
      {
       "name": "stdout",
       "output_type": "stream",
       "text": "(83370,)\n"
      }
     ],
     "persistentId": "2b29ea18-e316-4a11-a506-a0d5ee059fa8",
     "text": "lines = []\n\nfor record in tf_records:\n    m = re.match(pattern, r['name'])\n\n    series = pd.Series(m.groupdict())\n    lines.append(series)\ntf_metadata = pd.concat(lines)\nprint(tf_metadata.shape)"
    },
    "executionTime": "2019-10-19T21:34:47.124Z"
   },
   {
    "cell": {
     "executionCount": 29,
     "executionEventId": "37f99460-1bac-4944-9d22-df1144afddd1",
     "hasError": false,
     "id": "662fe5e3-29d2-454e-b16a-57b36cb5a44c",
     "outputs": [
      {
       "data": {
        "text/plain": "protein_id                              ENSP00000306523.3\nseqtype                                               pep\nlocation         chromosome:GRCh38:14:35534164:35537054:1\ngene_id                                 ENSG00000168348.4\ntranscript_id                           ENST00000307169.4\ndtype: object"
       },
       "execution_count": 29,
       "metadata": {},
       "output_type": "execute_result"
      }
     ],
     "persistentId": "6ccc8bc3-02f2-4b09-adaa-9828957c2271",
     "text": "tf_metadata.head()"
    },
    "executionTime": "2019-10-19T21:34:49.686Z"
   },
   {
    "cell": {
     "executionCount": 30,
     "executionEventId": "ddfa7340-ea8a-4335-bfe3-abdf0b771ea3",
     "hasError": false,
     "id": "0af59044-1c38-4993-a053-2fb99ea5462f",
     "outputs": [
      {
       "name": "stdout",
       "output_type": "stream",
       "text": "(8337, 10)\n"
      }
     ],
     "persistentId": "2b29ea18-e316-4a11-a506-a0d5ee059fa8",
     "text": "lines = []\n\nfor record in tf_records:\n    m = re.match(pattern, r['name'])\n\n    series = pd.Series(m.groupdict())\n    lines.append(series)\ntf_metadata = pd.DataFrame.from_records(lines)\nprint(tf_metadata.shape)"
    },
    "executionTime": "2019-10-19T21:35:01.027Z"
   },
   {
    "cell": {
     "executionCount": 31,
     "executionEventId": "a0c6c229-f61e-49a6-844f-46773e813d9a",
     "hasError": false,
     "id": "662fe5e3-29d2-454e-b16a-57b36cb5a44c",
     "outputs": [
      {
       "data": {
        "text/html": "<div>\n<style scoped>\n    .dataframe tbody tr th:only-of-type {\n        vertical-align: middle;\n    }\n\n    .dataframe tbody tr th {\n        vertical-align: top;\n    }\n\n    .dataframe thead th {\n        text-align: right;\n    }\n</style>\n<table border=\"1\" class=\"dataframe\">\n  <thead>\n    <tr style=\"text-align: right;\">\n      <th></th>\n      <th>protein_id</th>\n      <th>seqtype</th>\n      <th>location</th>\n      <th>gene_id</th>\n      <th>transcript_id</th>\n      <th>gene_biotype</th>\n      <th>transcript_biotype</th>\n      <th>gene_symbol</th>\n      <th>description</th>\n      <th>source</th>\n    </tr>\n  </thead>\n  <tbody>\n    <tr>\n      <th>0</th>\n      <td>ENSP00000306523.3</td>\n      <td>pep</td>\n      <td>chromosome:GRCh38:14:35534164:35537054:1</td>\n      <td>ENSG00000168348.4</td>\n      <td>ENST00000307169.4</td>\n      <td>protein_coding</td>\n      <td>protein_coding</td>\n      <td>INSM2</td>\n      <td>INSM transcriptional repressor 2</td>\n      <td>[Source:HGNC Symbol;Acc:HGNC:17539]</td>\n    </tr>\n    <tr>\n      <th>1</th>\n      <td>ENSP00000306523.3</td>\n      <td>pep</td>\n      <td>chromosome:GRCh38:14:35534164:35537054:1</td>\n      <td>ENSG00000168348.4</td>\n      <td>ENST00000307169.4</td>\n      <td>protein_coding</td>\n      <td>protein_coding</td>\n      <td>INSM2</td>\n      <td>INSM transcriptional repressor 2</td>\n      <td>[Source:HGNC Symbol;Acc:HGNC:17539]</td>\n    </tr>\n    <tr>\n      <th>2</th>\n      <td>ENSP00000306523.3</td>\n      <td>pep</td>\n      <td>chromosome:GRCh38:14:35534164:35537054:1</td>\n      <td>ENSG00000168348.4</td>\n      <td>ENST00000307169.4</td>\n      <td>protein_coding</td>\n      <td>protein_coding</td>\n      <td>INSM2</td>\n      <td>INSM transcriptional repressor 2</td>\n      <td>[Source:HGNC Symbol;Acc:HGNC:17539]</td>\n    </tr>\n    <tr>\n      <th>3</th>\n      <td>ENSP00000306523.3</td>\n      <td>pep</td>\n      <td>chromosome:GRCh38:14:35534164:35537054:1</td>\n      <td>ENSG00000168348.4</td>\n      <td>ENST00000307169.4</td>\n      <td>protein_coding</td>\n      <td>protein_coding</td>\n      <td>INSM2</td>\n      <td>INSM transcriptional repressor 2</td>\n      <td>[Source:HGNC Symbol;Acc:HGNC:17539]</td>\n    </tr>\n    <tr>\n      <th>4</th>\n      <td>ENSP00000306523.3</td>\n      <td>pep</td>\n      <td>chromosome:GRCh38:14:35534164:35537054:1</td>\n      <td>ENSG00000168348.4</td>\n      <td>ENST00000307169.4</td>\n      <td>protein_coding</td>\n      <td>protein_coding</td>\n      <td>INSM2</td>\n      <td>INSM transcriptional repressor 2</td>\n      <td>[Source:HGNC Symbol;Acc:HGNC:17539]</td>\n    </tr>\n  </tbody>\n</table>\n</div>",
        "text/plain": "          protein_id seqtype                                  location  \\\n0  ENSP00000306523.3     pep  chromosome:GRCh38:14:35534164:35537054:1   \n1  ENSP00000306523.3     pep  chromosome:GRCh38:14:35534164:35537054:1   \n2  ENSP00000306523.3     pep  chromosome:GRCh38:14:35534164:35537054:1   \n3  ENSP00000306523.3     pep  chromosome:GRCh38:14:35534164:35537054:1   \n4  ENSP00000306523.3     pep  chromosome:GRCh38:14:35534164:35537054:1   \n\n             gene_id      transcript_id    gene_biotype transcript_biotype  \\\n0  ENSG00000168348.4  ENST00000307169.4  protein_coding     protein_coding   \n1  ENSG00000168348.4  ENST00000307169.4  protein_coding     protein_coding   \n2  ENSG00000168348.4  ENST00000307169.4  protein_coding     protein_coding   \n3  ENSG00000168348.4  ENST00000307169.4  protein_coding     protein_coding   \n4  ENSG00000168348.4  ENST00000307169.4  protein_coding     protein_coding   \n\n  gene_symbol                       description  \\\n0       INSM2  INSM transcriptional repressor 2   \n1       INSM2  INSM transcriptional repressor 2   \n2       INSM2  INSM transcriptional repressor 2   \n3       INSM2  INSM transcriptional repressor 2   \n4       INSM2  INSM transcriptional repressor 2   \n\n                                source  \n0  [Source:HGNC Symbol;Acc:HGNC:17539]  \n1  [Source:HGNC Symbol;Acc:HGNC:17539]  \n2  [Source:HGNC Symbol;Acc:HGNC:17539]  \n3  [Source:HGNC Symbol;Acc:HGNC:17539]  \n4  [Source:HGNC Symbol;Acc:HGNC:17539]  "
       },
       "execution_count": 31,
       "metadata": {},
       "output_type": "execute_result"
      }
     ],
     "persistentId": "6ccc8bc3-02f2-4b09-adaa-9828957c2271",
     "text": "tf_metadata.head()"
    },
    "executionTime": "2019-10-19T21:35:03.593Z"
   },
   {
    "cell": {
     "executionCount": 32,
     "executionEventId": "c918d2e5-f352-4d58-93ac-7994a1d95309",
     "hasError": false,
     "id": "106c508b-104b-4cfd-82a7-0e43035e83b1",
     "outputs": [
      {
       "data": {
        "text/plain": "1"
       },
       "execution_count": 32,
       "metadata": {},
       "output_type": "execute_result"
      }
     ],
     "persistentId": "707c8abe-fe87-41cd-afc9-f081ac84cbea",
     "text": "tf_metadata.gene_id.nunique()"
    },
    "executionTime": "2019-10-19T21:35:16.079Z"
   },
   {
    "cell": {
     "executionCount": 33,
     "executionEventId": "cd68fc1f-b9ba-4c8f-a2a8-7a53d3dbd3d1",
     "hasError": true,
     "id": "0af59044-1c38-4993-a053-2fb99ea5462f",
     "outputs": [
      {
       "ename": "AttributeError",
       "evalue": "'NoneType' object has no attribute 'groupdict'",
       "output_type": "error",
       "traceback": [
        "\u001b[0;31m---------------------------------------------------------------------------\u001b[0m",
        "\u001b[0;31mAttributeError\u001b[0m                            Traceback (most recent call last)",
        "\u001b[0;32m<ipython-input-33-84d899dd52c9>\u001b[0m in \u001b[0;36m<module>\u001b[0;34m()\u001b[0m\n\u001b[1;32m      4\u001b[0m     \u001b[0mm\u001b[0m \u001b[0;34m=\u001b[0m \u001b[0mre\u001b[0m\u001b[0;34m.\u001b[0m\u001b[0mmatch\u001b[0m\u001b[0;34m(\u001b[0m\u001b[0mpattern\u001b[0m\u001b[0;34m,\u001b[0m \u001b[0mrecord\u001b[0m\u001b[0;34m[\u001b[0m\u001b[0;34m'name'\u001b[0m\u001b[0;34m]\u001b[0m\u001b[0;34m)\u001b[0m\u001b[0;34m\u001b[0m\u001b[0;34m\u001b[0m\u001b[0m\n\u001b[1;32m      5\u001b[0m \u001b[0;34m\u001b[0m\u001b[0m\n\u001b[0;32m----> 6\u001b[0;31m     \u001b[0mseries\u001b[0m \u001b[0;34m=\u001b[0m \u001b[0mpd\u001b[0m\u001b[0;34m.\u001b[0m\u001b[0mSeries\u001b[0m\u001b[0;34m(\u001b[0m\u001b[0mm\u001b[0m\u001b[0;34m.\u001b[0m\u001b[0mgroupdict\u001b[0m\u001b[0;34m(\u001b[0m\u001b[0;34m)\u001b[0m\u001b[0;34m)\u001b[0m\u001b[0;34m\u001b[0m\u001b[0;34m\u001b[0m\u001b[0m\n\u001b[0m\u001b[1;32m      7\u001b[0m     \u001b[0mlines\u001b[0m\u001b[0;34m.\u001b[0m\u001b[0mappend\u001b[0m\u001b[0;34m(\u001b[0m\u001b[0mseries\u001b[0m\u001b[0;34m)\u001b[0m\u001b[0;34m\u001b[0m\u001b[0;34m\u001b[0m\u001b[0m\n\u001b[1;32m      8\u001b[0m \u001b[0mtf_metadata\u001b[0m \u001b[0;34m=\u001b[0m \u001b[0mpd\u001b[0m\u001b[0;34m.\u001b[0m\u001b[0mDataFrame\u001b[0m\u001b[0;34m.\u001b[0m\u001b[0mfrom_records\u001b[0m\u001b[0;34m(\u001b[0m\u001b[0mlines\u001b[0m\u001b[0;34m)\u001b[0m\u001b[0;34m\u001b[0m\u001b[0;34m\u001b[0m\u001b[0m\n",
        "\u001b[0;31mAttributeError\u001b[0m: 'NoneType' object has no attribute 'groupdict'"
       ]
      }
     ],
     "persistentId": "2b29ea18-e316-4a11-a506-a0d5ee059fa8",
     "text": "lines = []\n\nfor record in tf_records:\n    m = re.match(pattern, record['name'])\n\n    series = pd.Series(m.groupdict())\n    lines.append(series)\ntf_metadata = pd.DataFrame.from_records(lines)\nprint(tf_metadata.shape)"
    },
    "executionTime": "2019-10-19T21:35:26.167Z"
   },
   {
    "cell": {
     "executionCount": 34,
     "executionEventId": "033688f6-0394-4dc1-8047-f9a974b8f565",
     "hasError": false,
     "id": "21a881a7-aea2-4582-a1d7-23c773170aa6",
     "outputs": [
      {
       "data": {
        "text/plain": "'ENSP00000394757.2 pep chromosome:GRCh38:18:76357682:76495242:-1 gene:ENSG00000101493.11 transcript:ENST00000443185.7 gene_biotype:protein_coding transcript_biotype:protein_coding gene_symbol:ZNF516 description:zinc finger protein 516 [Source:HGNC Symbol;Acc:HGNC:28990]'"
       },
       "execution_count": 34,
       "metadata": {},
       "output_type": "execute_result"
      }
     ],
     "persistentId": "0e463298-10e8-40eb-a80e-71ec816ec37e",
     "text": "record['name']"
    },
    "executionTime": "2019-10-19T21:35:41.368Z"
   },
   {
    "cell": {
     "executionCount": 35,
     "executionEventId": "23b56f0b-454d-46c3-9248-c56bd556ec47",
     "hasError": true,
     "id": "0af59044-1c38-4993-a053-2fb99ea5462f",
     "outputs": [
      {
       "ename": "AttributeError",
       "evalue": "'NoneType' object has no attribute 'groupdict'",
       "output_type": "error",
       "traceback": [
        "\u001b[0;31m---------------------------------------------------------------------------\u001b[0m",
        "\u001b[0;31mAttributeError\u001b[0m                            Traceback (most recent call last)",
        "\u001b[0;32m<ipython-input-35-27e9ffe6e4df>\u001b[0m in \u001b[0;36m<module>\u001b[0;34m()\u001b[0m\n\u001b[1;32m      7\u001b[0m     \u001b[0mm\u001b[0m \u001b[0;34m=\u001b[0m \u001b[0mre\u001b[0m\u001b[0;34m.\u001b[0m\u001b[0mmatch\u001b[0m\u001b[0;34m(\u001b[0m\u001b[0mpattern\u001b[0m\u001b[0;34m,\u001b[0m \u001b[0mrecord\u001b[0m\u001b[0;34m[\u001b[0m\u001b[0;34m'name'\u001b[0m\u001b[0;34m]\u001b[0m\u001b[0;34m)\u001b[0m\u001b[0;34m\u001b[0m\u001b[0;34m\u001b[0m\u001b[0m\n\u001b[1;32m      8\u001b[0m \u001b[0;34m\u001b[0m\u001b[0m\n\u001b[0;32m----> 9\u001b[0;31m     \u001b[0mseries\u001b[0m \u001b[0;34m=\u001b[0m \u001b[0mpd\u001b[0m\u001b[0;34m.\u001b[0m\u001b[0mSeries\u001b[0m\u001b[0;34m(\u001b[0m\u001b[0mm\u001b[0m\u001b[0;34m.\u001b[0m\u001b[0mgroupdict\u001b[0m\u001b[0;34m(\u001b[0m\u001b[0;34m)\u001b[0m\u001b[0;34m)\u001b[0m\u001b[0;34m\u001b[0m\u001b[0;34m\u001b[0m\u001b[0m\n\u001b[0m\u001b[1;32m     10\u001b[0m     \u001b[0mlines\u001b[0m\u001b[0;34m.\u001b[0m\u001b[0mappend\u001b[0m\u001b[0;34m(\u001b[0m\u001b[0mseries\u001b[0m\u001b[0;34m)\u001b[0m\u001b[0;34m\u001b[0m\u001b[0;34m\u001b[0m\u001b[0m\n\u001b[1;32m     11\u001b[0m \u001b[0mtf_metadata\u001b[0m \u001b[0;34m=\u001b[0m \u001b[0mpd\u001b[0m\u001b[0;34m.\u001b[0m\u001b[0mDataFrame\u001b[0m\u001b[0;34m.\u001b[0m\u001b[0mfrom_records\u001b[0m\u001b[0;34m(\u001b[0m\u001b[0mlines\u001b[0m\u001b[0;34m)\u001b[0m\u001b[0;34m\u001b[0m\u001b[0;34m\u001b[0m\u001b[0m\n",
        "\u001b[0;31mAttributeError\u001b[0m: 'NoneType' object has no attribute 'groupdict'"
       ]
      }
     ],
     "persistentId": "2b29ea18-e316-4a11-a506-a0d5ee059fa8",
     "text": "lines = []\n\npattern = \"(?P<protein_id>ENSP\\d+\\.\\d+) (?P<seqtype>\\w+) (?P<location>chromosome:GRCh38:[\\dXY]+:\\d+:\\d+:\\d+) gene:(?P<gene_id>ENSG\\d+\\.\\d+) transcript:(?P<transcript_id>ENST\\d+\\.\\d+) gene_biotype:(?P<gene_biotype>\\w+) transcript_biotype:(?P<transcript_biotype>\\w+) gene_symbol:(?P<gene_symbol>\\w+) description:(?P<description>[\\w ]+) (?P<source>\\[Source:[\\w ]+ Symbol;Acc:HGNC:\\d+\\])\"\n\n\nfor record in tf_records:\n    m = re.match(pattern, record['name'])\n\n    series = pd.Series(m.groupdict())\n    lines.append(series)\ntf_metadata = pd.DataFrame.from_records(lines)\nprint(tf_metadata.shape)"
    },
    "executionTime": "2019-10-19T21:36:03.015Z"
   },
   {
    "cell": {
     "executionCount": 36,
     "executionEventId": "565125d3-24bd-4522-b36b-0bafe0188779",
     "hasError": false,
     "id": "21a881a7-aea2-4582-a1d7-23c773170aa6",
     "outputs": [],
     "persistentId": "0e463298-10e8-40eb-a80e-71ec816ec37e",
     "text": "m"
    },
    "executionTime": "2019-10-19T21:36:06.562Z"
   },
   {
    "cell": {
     "executionCount": 37,
     "executionEventId": "3ed4791d-fce8-4ac1-b7fb-a9f9263ba400",
     "hasError": false,
     "id": "de44e583-6e16-492c-acd6-45e9ddd9d3f5",
     "outputs": [
      {
       "data": {
        "text/plain": "'ENSP00000394757.2 pep chromosome:GRCh38:18:76357682:76495242:-1 gene:ENSG00000101493.11 transcript:ENST00000443185.7 gene_biotype:protein_coding transcript_biotype:protein_coding gene_symbol:ZNF516 description:zinc finger protein 516 [Source:HGNC Symbol;Acc:HGNC:28990]'"
       },
       "execution_count": 37,
       "metadata": {},
       "output_type": "execute_result"
      }
     ],
     "persistentId": "2969d570-315d-4be3-8e5f-d6f9e41d2e0f",
     "text": "record['name']"
    },
    "executionTime": "2019-10-19T21:36:21.557Z"
   },
   {
    "cell": {
     "executionCount": 38,
     "executionEventId": "937e2e6d-b27d-447e-8bf6-e64143e9712f",
     "hasError": true,
     "id": "de44e583-6e16-492c-acd6-45e9ddd9d3f5",
     "outputs": [
      {
       "ename": "TypeError",
       "evalue": "findall() missing 1 required positional argument: 'string'",
       "output_type": "error",
       "traceback": [
        "\u001b[0;31m---------------------------------------------------------------------------\u001b[0m",
        "\u001b[0;31mTypeError\u001b[0m                                 Traceback (most recent call last)",
        "\u001b[0;32m<ipython-input-38-771e16515275>\u001b[0m in \u001b[0;36m<module>\u001b[0;34m()\u001b[0m\n\u001b[0;32m----> 1\u001b[0;31m \u001b[0mre\u001b[0m\u001b[0;34m.\u001b[0m\u001b[0mfindall\u001b[0m\u001b[0;34m(\u001b[0m\u001b[0mrecord\u001b[0m\u001b[0;34m[\u001b[0m\u001b[0;34m'name'\u001b[0m\u001b[0;34m]\u001b[0m\u001b[0;34m)\u001b[0m\u001b[0;34m\u001b[0m\u001b[0;34m\u001b[0m\u001b[0m\n\u001b[0m",
        "\u001b[0;31mTypeError\u001b[0m: findall() missing 1 required positional argument: 'string'"
       ]
      }
     ],
     "persistentId": "2969d570-315d-4be3-8e5f-d6f9e41d2e0f",
     "text": "re.findall(record['name'])"
    },
    "executionTime": "2019-10-19T21:36:27.089Z"
   },
   {
    "cell": {
     "executionCount": 39,
     "executionEventId": "c2ab6bcc-3027-4eab-8fcf-732e5a6aaa69",
     "hasError": false,
     "id": "de44e583-6e16-492c-acd6-45e9ddd9d3f5",
     "outputs": [
      {
       "data": {
        "text/plain": "[]"
       },
       "execution_count": 39,
       "metadata": {},
       "output_type": "execute_result"
      }
     ],
     "persistentId": "2969d570-315d-4be3-8e5f-d6f9e41d2e0f",
     "text": "re.findall(pattern, record['name'])"
    },
    "executionTime": "2019-10-19T21:36:30.173Z"
   },
   {
    "cell": {
     "executionCount": 40,
     "executionEventId": "d56a57b5-504d-4cc5-b400-7c2288a46aac",
     "hasError": false,
     "id": "1ed41401-d245-42a9-be31-9f58eec3bd00",
     "outputs": [
      {
       "data": {
        "text/plain": "'ENSP00000394757.2 pep chromosome:GRCh38:18:76357682:76495242:-1 gene:ENSG00000101493.11 transcript:ENST00000443185.7 gene_biotype:protein_coding transcript_biotype:protein_coding gene_symbol:ZNF516 description:zinc finger protein 516 [Source:HGNC Symbol;Acc:HGNC:28990]'"
       },
       "execution_count": 40,
       "metadata": {},
       "output_type": "execute_result"
      }
     ],
     "persistentId": "dab53934-cbf1-4391-8a0b-13580d094672",
     "text": "record['name']"
    },
    "executionTime": "2019-10-19T21:36:40.736Z"
   },
   {
    "cell": {
     "executionCount": 41,
     "executionEventId": "de2454a4-465a-4161-afa5-1952c548b76b",
     "hasError": true,
     "id": "0af59044-1c38-4993-a053-2fb99ea5462f",
     "outputs": [
      {
       "ename": "AttributeError",
       "evalue": "'NoneType' object has no attribute 'groupdict'",
       "output_type": "error",
       "traceback": [
        "\u001b[0;31m---------------------------------------------------------------------------\u001b[0m",
        "\u001b[0;31mAttributeError\u001b[0m                            Traceback (most recent call last)",
        "\u001b[0;32m<ipython-input-41-a18ba724b5e5>\u001b[0m in \u001b[0;36m<module>\u001b[0;34m()\u001b[0m\n\u001b[1;32m      8\u001b[0m     \u001b[0mm\u001b[0m \u001b[0;34m=\u001b[0m \u001b[0mre\u001b[0m\u001b[0;34m.\u001b[0m\u001b[0mmatch\u001b[0m\u001b[0;34m(\u001b[0m\u001b[0mpattern\u001b[0m\u001b[0;34m,\u001b[0m \u001b[0mrecord\u001b[0m\u001b[0;34m[\u001b[0m\u001b[0;34m'name'\u001b[0m\u001b[0;34m]\u001b[0m\u001b[0;34m)\u001b[0m\u001b[0;34m\u001b[0m\u001b[0;34m\u001b[0m\u001b[0m\n\u001b[1;32m      9\u001b[0m \u001b[0;34m\u001b[0m\u001b[0m\n\u001b[0;32m---> 10\u001b[0;31m     \u001b[0mseries\u001b[0m \u001b[0;34m=\u001b[0m \u001b[0mpd\u001b[0m\u001b[0;34m.\u001b[0m\u001b[0mSeries\u001b[0m\u001b[0;34m(\u001b[0m\u001b[0mm\u001b[0m\u001b[0;34m.\u001b[0m\u001b[0mgroupdict\u001b[0m\u001b[0;34m(\u001b[0m\u001b[0;34m)\u001b[0m\u001b[0;34m)\u001b[0m\u001b[0;34m\u001b[0m\u001b[0;34m\u001b[0m\u001b[0m\n\u001b[0m\u001b[1;32m     11\u001b[0m     \u001b[0mlines\u001b[0m\u001b[0;34m.\u001b[0m\u001b[0mappend\u001b[0m\u001b[0;34m(\u001b[0m\u001b[0mseries\u001b[0m\u001b[0;34m)\u001b[0m\u001b[0;34m\u001b[0m\u001b[0;34m\u001b[0m\u001b[0m\n\u001b[1;32m     12\u001b[0m \u001b[0mtf_metadata\u001b[0m \u001b[0;34m=\u001b[0m \u001b[0mpd\u001b[0m\u001b[0;34m.\u001b[0m\u001b[0mDataFrame\u001b[0m\u001b[0;34m.\u001b[0m\u001b[0mfrom_records\u001b[0m\u001b[0;34m(\u001b[0m\u001b[0mlines\u001b[0m\u001b[0;34m)\u001b[0m\u001b[0;34m\u001b[0m\u001b[0;34m\u001b[0m\u001b[0m\n",
        "\u001b[0;31mAttributeError\u001b[0m: 'NoneType' object has no attribute 'groupdict'"
       ]
      }
     ],
     "persistentId": "2b29ea18-e316-4a11-a506-a0d5ee059fa8",
     "text": "lines = []\n\npattern = \"\"\"\n(?P<protein_id>ENSP\\d+\\.\\d+) (?P<seqtype>\\w+) (?P<location>chromosome:GRCh38:[\\dXY]+:\\d+:\\d+:-?\\d+) gene:(?P<gene_id>ENSG\\d+\\.\\d+) transcript:(?P<transcript_id>ENST\\d+\\.\\d+) gene_biotype:(?P<gene_biotype>\\w+) transcript_biotype:(?P<transcript_biotype>\\w+) gene_symbol:(?P<gene_symbol>\\w+) description:(?P<description>[\\w ]+) (?P<source>\\[Source:[\\w ]+;Acc:HGNC:\\d+\\])\n\"\"\"\n\nfor record in tf_records:\n    m = re.match(pattern, record['name'])\n\n    series = pd.Series(m.groupdict())\n    lines.append(series)\ntf_metadata = pd.DataFrame.from_records(lines)\nprint(tf_metadata.shape)"
    },
    "executionTime": "2019-10-19T21:38:16.808Z"
   },
   {
    "cell": {
     "executionCount": 42,
     "executionEventId": "45e203ba-17c0-4251-96cf-a1bbdb24b1d6",
     "hasError": false,
     "id": "de44e583-6e16-492c-acd6-45e9ddd9d3f5",
     "outputs": [
      {
       "data": {
        "text/plain": "[]"
       },
       "execution_count": 42,
       "metadata": {},
       "output_type": "execute_result"
      }
     ],
     "persistentId": "2969d570-315d-4be3-8e5f-d6f9e41d2e0f",
     "text": "re.findall(pattern, record['name'])"
    },
    "executionTime": "2019-10-19T21:38:20.162Z"
   },
   {
    "cell": {
     "executionCount": 43,
     "executionEventId": "2f54369e-c112-4f62-9d03-1c46df7d3ec5",
     "hasError": false,
     "id": "1ed41401-d245-42a9-be31-9f58eec3bd00",
     "outputs": [
      {
       "data": {
        "text/plain": "'ENSP00000306523.3 pep chromosome:GRCh38:14:35534164:35537054:1 gene:ENSG00000168348.4 transcript:ENST00000307169.4 gene_biotype:protein_coding transcript_biotype:protein_coding gene_symbol:INSM2 description:INSM transcriptional repressor 2 [Source:HGNC Symbol;Acc:HGNC:17539]'"
       },
       "execution_count": 43,
       "metadata": {},
       "output_type": "execute_result"
      }
     ],
     "persistentId": "dab53934-cbf1-4391-8a0b-13580d094672",
     "text": "record['name']"
    },
    "executionTime": "2019-10-19T21:38:21.385Z"
   },
   {
    "cell": {
     "executionCount": 44,
     "executionEventId": "d37e99b5-2148-43ef-ba58-3121ccfa86ea",
     "hasError": true,
     "id": "0af59044-1c38-4993-a053-2fb99ea5462f",
     "outputs": [
      {
       "ename": "AttributeError",
       "evalue": "'NoneType' object has no attribute 'groupdict'",
       "output_type": "error",
       "traceback": [
        "\u001b[0;31m---------------------------------------------------------------------------\u001b[0m",
        "\u001b[0;31mAttributeError\u001b[0m                            Traceback (most recent call last)",
        "\u001b[0;32m<ipython-input-44-465d5254439c>\u001b[0m in \u001b[0;36m<module>\u001b[0;34m()\u001b[0m\n\u001b[1;32m      9\u001b[0m     \u001b[0mm\u001b[0m \u001b[0;34m=\u001b[0m \u001b[0mre\u001b[0m\u001b[0;34m.\u001b[0m\u001b[0mmatch\u001b[0m\u001b[0;34m(\u001b[0m\u001b[0mpattern\u001b[0m\u001b[0;34m,\u001b[0m \u001b[0mrecord\u001b[0m\u001b[0;34m[\u001b[0m\u001b[0;34m'name'\u001b[0m\u001b[0;34m]\u001b[0m\u001b[0;34m)\u001b[0m\u001b[0;34m\u001b[0m\u001b[0;34m\u001b[0m\u001b[0m\n\u001b[1;32m     10\u001b[0m \u001b[0;34m\u001b[0m\u001b[0m\n\u001b[0;32m---> 11\u001b[0;31m     \u001b[0mseries\u001b[0m \u001b[0;34m=\u001b[0m \u001b[0mpd\u001b[0m\u001b[0;34m.\u001b[0m\u001b[0mSeries\u001b[0m\u001b[0;34m(\u001b[0m\u001b[0mm\u001b[0m\u001b[0;34m.\u001b[0m\u001b[0mgroupdict\u001b[0m\u001b[0;34m(\u001b[0m\u001b[0;34m)\u001b[0m\u001b[0;34m)\u001b[0m\u001b[0;34m\u001b[0m\u001b[0;34m\u001b[0m\u001b[0m\n\u001b[0m\u001b[1;32m     12\u001b[0m     \u001b[0mlines\u001b[0m\u001b[0;34m.\u001b[0m\u001b[0mappend\u001b[0m\u001b[0;34m(\u001b[0m\u001b[0mseries\u001b[0m\u001b[0;34m)\u001b[0m\u001b[0;34m\u001b[0m\u001b[0;34m\u001b[0m\u001b[0m\n\u001b[1;32m     13\u001b[0m \u001b[0mtf_metadata\u001b[0m \u001b[0;34m=\u001b[0m \u001b[0mpd\u001b[0m\u001b[0;34m.\u001b[0m\u001b[0mDataFrame\u001b[0m\u001b[0;34m.\u001b[0m\u001b[0mfrom_records\u001b[0m\u001b[0;34m(\u001b[0m\u001b[0mlines\u001b[0m\u001b[0;34m)\u001b[0m\u001b[0;34m\u001b[0m\u001b[0;34m\u001b[0m\u001b[0m\n",
        "\u001b[0;31mAttributeError\u001b[0m: 'NoneType' object has no attribute 'groupdict'"
       ]
      }
     ],
     "persistentId": "2b29ea18-e316-4a11-a506-a0d5ee059fa8",
     "text": "lines = []\n\npattern = \"\"\"\n(?P<protein_id>ENSP\\d+\\.\\d+) (?P<seqtype>\\w+) (?P<location>chromosome:GRCh38:[\\dXY]+:\\d+:\\d+:-?\\d+) gene:(?P<gene_id>ENSG\\d+\\.\\d+) transcript:(?P<transcript_id>ENST\\d+\\.\\d+) gene_biotype:(?P<gene_biotype>\\w+) transcript_biotype:(?P<transcript_biotype>\\w+) gene_symbol:(?P<gene_symbol>\\w+) description:(?P<description>[\\w ]+) (?P<source>\\[Source:[\\w ]+;Acc:HGNC:\\d+\\])\n\"\"\"\npattern = re.compile(pattern.strip())\n\nfor record in tf_records:\n    m = re.match(pattern, record['name'])\n\n    series = pd.Series(m.groupdict())\n    lines.append(series)\ntf_metadata = pd.DataFrame.from_records(lines)\nprint(tf_metadata.shape)"
    },
    "executionTime": "2019-10-19T21:38:49.268Z"
   },
   {
    "cell": {
     "executionCount": 45,
     "executionEventId": "134880fd-aeab-4392-9f3b-76da980689d0",
     "hasError": true,
     "id": "0af59044-1c38-4993-a053-2fb99ea5462f",
     "outputs": [
      {
       "ename": "AttributeError",
       "evalue": "'NoneType' object has no attribute 'groupdict'",
       "output_type": "error",
       "traceback": [
        "\u001b[0;31m---------------------------------------------------------------------------\u001b[0m",
        "\u001b[0;31mAttributeError\u001b[0m                            Traceback (most recent call last)",
        "\u001b[0;32m<ipython-input-45-7e8fb56460fa>\u001b[0m in \u001b[0;36m<module>\u001b[0;34m()\u001b[0m\n\u001b[1;32m      9\u001b[0m     \u001b[0mm\u001b[0m \u001b[0;34m=\u001b[0m \u001b[0mre\u001b[0m\u001b[0;34m.\u001b[0m\u001b[0mmatch\u001b[0m\u001b[0;34m(\u001b[0m\u001b[0mpattern\u001b[0m\u001b[0;34m,\u001b[0m \u001b[0mrecord\u001b[0m\u001b[0;34m[\u001b[0m\u001b[0;34m'name'\u001b[0m\u001b[0;34m]\u001b[0m\u001b[0;34m)\u001b[0m\u001b[0;34m\u001b[0m\u001b[0;34m\u001b[0m\u001b[0m\n\u001b[1;32m     10\u001b[0m \u001b[0;34m\u001b[0m\u001b[0m\n\u001b[0;32m---> 11\u001b[0;31m     \u001b[0mseries\u001b[0m \u001b[0;34m=\u001b[0m \u001b[0mpd\u001b[0m\u001b[0;34m.\u001b[0m\u001b[0mSeries\u001b[0m\u001b[0;34m(\u001b[0m\u001b[0mm\u001b[0m\u001b[0;34m.\u001b[0m\u001b[0mgroupdict\u001b[0m\u001b[0;34m(\u001b[0m\u001b[0;34m)\u001b[0m\u001b[0;34m)\u001b[0m\u001b[0;34m\u001b[0m\u001b[0;34m\u001b[0m\u001b[0m\n\u001b[0m\u001b[1;32m     12\u001b[0m     \u001b[0mlines\u001b[0m\u001b[0;34m.\u001b[0m\u001b[0mappend\u001b[0m\u001b[0;34m(\u001b[0m\u001b[0mseries\u001b[0m\u001b[0;34m)\u001b[0m\u001b[0;34m\u001b[0m\u001b[0;34m\u001b[0m\u001b[0m\n\u001b[1;32m     13\u001b[0m \u001b[0mtf_metadata\u001b[0m \u001b[0;34m=\u001b[0m \u001b[0mpd\u001b[0m\u001b[0;34m.\u001b[0m\u001b[0mDataFrame\u001b[0m\u001b[0;34m.\u001b[0m\u001b[0mfrom_records\u001b[0m\u001b[0;34m(\u001b[0m\u001b[0mlines\u001b[0m\u001b[0;34m)\u001b[0m\u001b[0;34m\u001b[0m\u001b[0;34m\u001b[0m\u001b[0m\n",
        "\u001b[0;31mAttributeError\u001b[0m: 'NoneType' object has no attribute 'groupdict'"
       ]
      }
     ],
     "persistentId": "2b29ea18-e316-4a11-a506-a0d5ee059fa8",
     "text": "lines = []\n\nPATTERN = \"\"\"\n(?P<protein_id>ENSP\\d+\\.\\d+) (?P<seqtype>\\w+) (?P<location>chromosome:GRCh38:[\\dXY]+:\\d+:\\d+:-?\\d+) gene:(?P<gene_id>ENSG\\d+\\.\\d+) transcript:(?P<transcript_id>ENST\\d+\\.\\d+) gene_biotype:(?P<gene_biotype>\\w+) transcript_biotype:(?P<transcript_biotype>\\w+) gene_symbol:(?P<gene_symbol>\\w+) description:(?P<description>[\\w ]+) (?P<source>\\[Source:[\\w ]+;Acc:HGNC:\\d+\\])\n\"\"\"\npattern = re.compile(PATTERN.strip())\n\nfor record in tf_records:\n    m = re.match(pattern, record['name'])\n\n    series = pd.Series(m.groupdict())\n    lines.append(series)\ntf_metadata = pd.DataFrame.from_records(lines)\nprint(tf_metadata.shape)"
    },
    "executionTime": "2019-10-19T21:38:58.876Z"
   },
   {
    "cell": {
     "executionCount": 46,
     "executionEventId": "2e730945-1467-42c2-afba-eed7177bbfb4",
     "hasError": false,
     "id": "de44e583-6e16-492c-acd6-45e9ddd9d3f5",
     "outputs": [
      {
       "data": {
        "text/plain": "[]"
       },
       "execution_count": 46,
       "metadata": {},
       "output_type": "execute_result"
      }
     ],
     "persistentId": "2969d570-315d-4be3-8e5f-d6f9e41d2e0f",
     "text": "re.findall(PATTERN, record['name'])"
    },
    "executionTime": "2019-10-19T21:39:01.218Z"
   },
   {
    "cell": {
     "executionCount": 47,
     "executionEventId": "401cfc51-b693-4399-8ab7-523a90a6b995",
     "hasError": false,
     "id": "6da42b27-b059-4455-a5c5-2d1354f3c98c",
     "outputs": [
      {
       "data": {
        "text/plain": "re.compile(r'(?P<protein_id>ENSP\\d+\\.\\d+) (?P<seqtype>\\w+) (?P<location>chromosome:GRCh38:[\\dXY]+:\\d+:\\d+:-?\\d+) gene:(?P<gene_id>ENSG\\d+\\.\\d+) transcript:(?P<transcript_id>ENST\\d+\\.\\d+) gene_biotype:(?P<gene_biotype>\\w+) transcript_biotype:(?P<transcript_biotype>\\w+) gene_symbol:(?P<gene_symbol>\\w+) description:(?P<description>[\\w ]+) (?P<source>\\[Source:[\\w ]+;Acc:HGNC:\\d+\\])',\nre.UNICODE)"
       },
       "execution_count": 47,
       "metadata": {},
       "output_type": "execute_result"
      }
     ],
     "persistentId": "e31c6b2e-9c79-4cf3-84f1-7d1ff403932a",
     "text": "pattern"
    },
    "executionTime": "2019-10-19T21:39:03.704Z"
   },
   {
    "cell": {
     "executionCount": 48,
     "executionEventId": "c5da35d9-4c68-4a8e-b409-c7a7479b6a0b",
     "hasError": true,
     "id": "6da42b27-b059-4455-a5c5-2d1354f3c98c",
     "outputs": [
      {
       "ename": "NameError",
       "evalue": "name 'PATTERn' is not defined",
       "output_type": "error",
       "traceback": [
        "\u001b[0;31m---------------------------------------------------------------------------\u001b[0m",
        "\u001b[0;31mNameError\u001b[0m                                 Traceback (most recent call last)",
        "\u001b[0;32m<ipython-input-48-bd63706e7a8b>\u001b[0m in \u001b[0;36m<module>\u001b[0;34m()\u001b[0m\n\u001b[0;32m----> 1\u001b[0;31m \u001b[0mPATTERn\u001b[0m\u001b[0;34m\u001b[0m\u001b[0;34m\u001b[0m\u001b[0m\n\u001b[0m",
        "\u001b[0;31mNameError\u001b[0m: name 'PATTERn' is not defined"
       ]
      }
     ],
     "persistentId": "e31c6b2e-9c79-4cf3-84f1-7d1ff403932a",
     "text": "PATTERn"
    },
    "executionTime": "2019-10-19T21:39:09.959Z"
   },
   {
    "cell": {
     "executionCount": 49,
     "executionEventId": "26811649-71c6-4b46-901e-fa5710136c24",
     "hasError": false,
     "id": "6da42b27-b059-4455-a5c5-2d1354f3c98c",
     "outputs": [
      {
       "data": {
        "text/plain": "'\\n(?P<protein_id>ENSP\\\\d+\\\\.\\\\d+) (?P<seqtype>\\\\w+) (?P<location>chromosome:GRCh38:[\\\\dXY]+:\\\\d+:\\\\d+:-?\\\\d+) gene:(?P<gene_id>ENSG\\\\d+\\\\.\\\\d+) transcript:(?P<transcript_id>ENST\\\\d+\\\\.\\\\d+) gene_biotype:(?P<gene_biotype>\\\\w+) transcript_biotype:(?P<transcript_biotype>\\\\w+) gene_symbol:(?P<gene_symbol>\\\\w+) description:(?P<description>[\\\\w ]+) (?P<source>\\\\[Source:[\\\\w ]+;Acc:HGNC:\\\\d+\\\\])\\n'"
       },
       "execution_count": 49,
       "metadata": {},
       "output_type": "execute_result"
      }
     ],
     "persistentId": "e31c6b2e-9c79-4cf3-84f1-7d1ff403932a",
     "text": "PATTERN\n"
    },
    "executionTime": "2019-10-19T21:39:13.198Z"
   },
   {
    "cell": {
     "executionCount": 50,
     "executionEventId": "7702658a-3ed6-4fad-90b0-7724a3d8d507",
     "hasError": true,
     "id": "0af59044-1c38-4993-a053-2fb99ea5462f",
     "outputs": [
      {
       "ename": "AttributeError",
       "evalue": "'NoneType' object has no attribute 'groupdict'",
       "output_type": "error",
       "traceback": [
        "\u001b[0;31m---------------------------------------------------------------------------\u001b[0m",
        "\u001b[0;31mAttributeError\u001b[0m                            Traceback (most recent call last)",
        "\u001b[0;32m<ipython-input-50-ef0165dd919a>\u001b[0m in \u001b[0;36m<module>\u001b[0;34m()\u001b[0m\n\u001b[1;32m      7\u001b[0m     \u001b[0mm\u001b[0m \u001b[0;34m=\u001b[0m \u001b[0mre\u001b[0m\u001b[0;34m.\u001b[0m\u001b[0mmatch\u001b[0m\u001b[0;34m(\u001b[0m\u001b[0mpattern\u001b[0m\u001b[0;34m,\u001b[0m \u001b[0mrecord\u001b[0m\u001b[0;34m[\u001b[0m\u001b[0;34m'name'\u001b[0m\u001b[0;34m]\u001b[0m\u001b[0;34m)\u001b[0m\u001b[0;34m\u001b[0m\u001b[0;34m\u001b[0m\u001b[0m\n\u001b[1;32m      8\u001b[0m \u001b[0;34m\u001b[0m\u001b[0m\n\u001b[0;32m----> 9\u001b[0;31m     \u001b[0mseries\u001b[0m \u001b[0;34m=\u001b[0m \u001b[0mpd\u001b[0m\u001b[0;34m.\u001b[0m\u001b[0mSeries\u001b[0m\u001b[0;34m(\u001b[0m\u001b[0mm\u001b[0m\u001b[0;34m.\u001b[0m\u001b[0mgroupdict\u001b[0m\u001b[0;34m(\u001b[0m\u001b[0;34m)\u001b[0m\u001b[0;34m)\u001b[0m\u001b[0;34m\u001b[0m\u001b[0;34m\u001b[0m\u001b[0m\n\u001b[0m\u001b[1;32m     10\u001b[0m     \u001b[0mlines\u001b[0m\u001b[0;34m.\u001b[0m\u001b[0mappend\u001b[0m\u001b[0;34m(\u001b[0m\u001b[0mseries\u001b[0m\u001b[0;34m)\u001b[0m\u001b[0;34m\u001b[0m\u001b[0;34m\u001b[0m\u001b[0m\n\u001b[1;32m     11\u001b[0m \u001b[0mtf_metadata\u001b[0m \u001b[0;34m=\u001b[0m \u001b[0mpd\u001b[0m\u001b[0;34m.\u001b[0m\u001b[0mDataFrame\u001b[0m\u001b[0;34m.\u001b[0m\u001b[0mfrom_records\u001b[0m\u001b[0;34m(\u001b[0m\u001b[0mlines\u001b[0m\u001b[0;34m)\u001b[0m\u001b[0;34m\u001b[0m\u001b[0;34m\u001b[0m\u001b[0m\n",
        "\u001b[0;31mAttributeError\u001b[0m: 'NoneType' object has no attribute 'groupdict'"
       ]
      }
     ],
     "persistentId": "2b29ea18-e316-4a11-a506-a0d5ee059fa8",
     "text": "lines = []\n\nPATTERN = r\"(?P<protein_id>ENSP\\d+\\.\\d+) (?P<seqtype>\\w+) (?P<location>chromosome:GRCh38:[\\dXY]+:\\d+:\\d+:-?\\d+) gene:(?P<gene_id>ENSG\\d+\\.\\d+) transcript:(?P<transcript_id>ENST\\d+\\.\\d+) gene_biotype:(?P<gene_biotype>\\w+) transcript_biotype:(?P<transcript_biotype>\\w+) gene_symbol:(?P<gene_symbol>\\w+) description:(?P<description>[\\w ]+) (?P<source>\\[Source:[\\w ]+;Acc:HGNC:\\d+\\])\"\npattern = re.compile(PATTERN.strip())\n\nfor record in tf_records:\n    m = re.match(pattern, record['name'])\n\n    series = pd.Series(m.groupdict())\n    lines.append(series)\ntf_metadata = pd.DataFrame.from_records(lines)\nprint(tf_metadata.shape)"
    },
    "executionTime": "2019-10-19T21:39:26.444Z"
   },
   {
    "cell": {
     "executionCount": 51,
     "executionEventId": "6405ac14-82bf-424b-9cb4-bfd48cdbbd4a",
     "hasError": true,
     "id": "6da42b27-b059-4455-a5c5-2d1354f3c98c",
     "outputs": [
      {
       "ename": "SyntaxError",
       "evalue": "invalid syntax (<ipython-input-51-b2051349674b>, line 3)",
       "output_type": "error",
       "traceback": [
        "\u001b[0;36m  File \u001b[0;32m\"<ipython-input-51-b2051349674b>\"\u001b[0;36m, line \u001b[0;32m3\u001b[0m\n\u001b[0;31m    |\u001b[0m\n\u001b[0m    ^\u001b[0m\n\u001b[0;31mSyntaxError\u001b[0m\u001b[0;31m:\u001b[0m invalid syntax\n"
       ]
      }
     ],
     "persistentId": "e31c6b2e-9c79-4cf3-84f1-7d1ff403932a",
     "text": "PATTERN\n\n|"
    },
    "executionTime": "2019-10-19T21:39:29.094Z"
   },
   {
    "cell": {
     "executionCount": 52,
     "executionEventId": "083de886-2715-477b-a9d8-b790fbcb4b4b",
     "hasError": false,
     "id": "6da42b27-b059-4455-a5c5-2d1354f3c98c",
     "outputs": [
      {
       "data": {
        "text/plain": "'(?P<protein_id>ENSP\\\\d+\\\\.\\\\d+) (?P<seqtype>\\\\w+) (?P<location>chromosome:GRCh38:[\\\\dXY]+:\\\\d+:\\\\d+:-?\\\\d+) gene:(?P<gene_id>ENSG\\\\d+\\\\.\\\\d+) transcript:(?P<transcript_id>ENST\\\\d+\\\\.\\\\d+) gene_biotype:(?P<gene_biotype>\\\\w+) transcript_biotype:(?P<transcript_biotype>\\\\w+) gene_symbol:(?P<gene_symbol>\\\\w+) description:(?P<description>[\\\\w ]+) (?P<source>\\\\[Source:[\\\\w ]+;Acc:HGNC:\\\\d+\\\\])'"
       },
       "execution_count": 52,
       "metadata": {},
       "output_type": "execute_result"
      }
     ],
     "persistentId": "e31c6b2e-9c79-4cf3-84f1-7d1ff403932a",
     "text": "PATTERN"
    },
    "executionTime": "2019-10-19T21:39:32.934Z"
   },
   {
    "cell": {
     "executionCount": 53,
     "executionEventId": "9d31e69e-91e3-4108-ace5-56c07c09cc8f",
     "hasError": false,
     "id": "1ed41401-d245-42a9-be31-9f58eec3bd00",
     "outputs": [
      {
       "data": {
        "text/plain": "\"ENSP00000361010.3 pep chromosome:GRCh38:9:133406062:133418010:-1 gene:ENSG00000148300.12 transcript:ENST00000371942.8 gene_biotype:protein_coding transcript_biotype:protein_coding gene_symbol:REXO4 description:REX4 homolog, 3'-5' exonuclease [Source:HGNC Symbol;Acc:HGNC:12820]\""
       },
       "execution_count": 53,
       "metadata": {},
       "output_type": "execute_result"
      }
     ],
     "persistentId": "dab53934-cbf1-4391-8a0b-13580d094672",
     "text": "record['name']"
    },
    "executionTime": "2019-10-19T21:39:36.073Z"
   },
   {
    "cell": {
     "executionCount": 54,
     "executionEventId": "5e998710-b071-4f0e-a6fd-0cb0e79dfabc",
     "hasError": true,
     "id": "0af59044-1c38-4993-a053-2fb99ea5462f",
     "outputs": [
      {
       "ename": "AttributeError",
       "evalue": "'NoneType' object has no attribute 'groupdict'",
       "output_type": "error",
       "traceback": [
        "\u001b[0;31m---------------------------------------------------------------------------\u001b[0m",
        "\u001b[0;31mAttributeError\u001b[0m                            Traceback (most recent call last)",
        "\u001b[0;32m<ipython-input-54-e892bf78b495>\u001b[0m in \u001b[0;36m<module>\u001b[0;34m()\u001b[0m\n\u001b[1;32m      7\u001b[0m     \u001b[0mm\u001b[0m \u001b[0;34m=\u001b[0m \u001b[0mre\u001b[0m\u001b[0;34m.\u001b[0m\u001b[0mmatch\u001b[0m\u001b[0;34m(\u001b[0m\u001b[0mpattern\u001b[0m\u001b[0;34m,\u001b[0m \u001b[0mrecord\u001b[0m\u001b[0;34m[\u001b[0m\u001b[0;34m'name'\u001b[0m\u001b[0;34m]\u001b[0m\u001b[0;34m)\u001b[0m\u001b[0;34m\u001b[0m\u001b[0;34m\u001b[0m\u001b[0m\n\u001b[1;32m      8\u001b[0m \u001b[0;34m\u001b[0m\u001b[0m\n\u001b[0;32m----> 9\u001b[0;31m     \u001b[0mseries\u001b[0m \u001b[0;34m=\u001b[0m \u001b[0mpd\u001b[0m\u001b[0;34m.\u001b[0m\u001b[0mSeries\u001b[0m\u001b[0;34m(\u001b[0m\u001b[0mm\u001b[0m\u001b[0;34m.\u001b[0m\u001b[0mgroupdict\u001b[0m\u001b[0;34m(\u001b[0m\u001b[0;34m)\u001b[0m\u001b[0;34m)\u001b[0m\u001b[0;34m\u001b[0m\u001b[0;34m\u001b[0m\u001b[0m\n\u001b[0m\u001b[1;32m     10\u001b[0m     \u001b[0mlines\u001b[0m\u001b[0;34m.\u001b[0m\u001b[0mappend\u001b[0m\u001b[0;34m(\u001b[0m\u001b[0mseries\u001b[0m\u001b[0;34m)\u001b[0m\u001b[0;34m\u001b[0m\u001b[0;34m\u001b[0m\u001b[0m\n\u001b[1;32m     11\u001b[0m \u001b[0mtf_metadata\u001b[0m \u001b[0;34m=\u001b[0m \u001b[0mpd\u001b[0m\u001b[0;34m.\u001b[0m\u001b[0mDataFrame\u001b[0m\u001b[0;34m.\u001b[0m\u001b[0mfrom_records\u001b[0m\u001b[0;34m(\u001b[0m\u001b[0mlines\u001b[0m\u001b[0;34m)\u001b[0m\u001b[0;34m\u001b[0m\u001b[0;34m\u001b[0m\u001b[0m\n",
        "\u001b[0;31mAttributeError\u001b[0m: 'NoneType' object has no attribute 'groupdict'"
       ]
      }
     ],
     "persistentId": "2b29ea18-e316-4a11-a506-a0d5ee059fa8",
     "text": "lines = []\n\nPATTERN = r\"(?P<protein_id>ENSP\\d+\\.\\d+) (?P<seqtype>\\w+) (?P<location>chromosome:GRCh38:[\\dXY]+:\\d+:\\d+:-?\\d+) gene:(?P<gene_id>ENSG\\d+\\.\\d+) transcript:(?P<transcript_id>ENST\\d+\\.\\d+) gene_biotype:(?P<gene_biotype>\\w+) transcript_biotype:(?P<transcript_biotype>\\w+) gene_symbol:(?P<gene_symbol>\\w+) description:(?P<description>[\\w\\d\\-', ]+) (?P<source>\\[Source:[\\w ]+;Acc:HGNC:\\d+\\])\"\npattern = re.compile(PATTERN.strip())\n\nfor record in tf_records:\n    m = re.match(pattern, record['name'])\n\n    series = pd.Series(m.groupdict())\n    lines.append(series)\ntf_metadata = pd.DataFrame.from_records(lines)\nprint(tf_metadata.shape)"
    },
    "executionTime": "2019-10-19T21:40:21.508Z"
   },
   {
    "cell": {
     "executionCount": 55,
     "executionEventId": "60b2409e-b06d-4b66-9eea-77b7f4e446b1",
     "hasError": false,
     "id": "0af59044-1c38-4993-a053-2fb99ea5462f",
     "outputs": [
      {
       "name": "stdout",
       "output_type": "stream",
       "text": "ENSP00000264808.3 pep chromosome:GRCh38:4:120691915:120922849:-1 gene:ENSG00000138738.10 transcript:ENST00000264808.7 gene_biotype:protein_coding transcript_biotype:protein_coding gene_symbol:PRDM5 description:PR/SET domain 5 [Source:HGNC Symbol;Acc:HGNC:9349]\n(181, 10)\n"
      }
     ],
     "persistentId": "2b29ea18-e316-4a11-a506-a0d5ee059fa8",
     "text": "lines = []\n\nPATTERN = r\"(?P<protein_id>ENSP\\d+\\.\\d+) (?P<seqtype>\\w+) (?P<location>chromosome:GRCh38:[\\dXY]+:\\d+:\\d+:-?\\d+) gene:(?P<gene_id>ENSG\\d+\\.\\d+) transcript:(?P<transcript_id>ENST\\d+\\.\\d+) gene_biotype:(?P<gene_biotype>\\w+) transcript_biotype:(?P<transcript_biotype>\\w+) gene_symbol:(?P<gene_symbol>\\w+) description:(?P<description>[\\w\\d\\-', ]+) (?P<source>\\[Source:[\\w ]+;Acc:HGNC:\\d+\\])\"\npattern = re.compile(PATTERN.strip())\n\nfor record in tf_records:\n    m = re.match(pattern, record['name'])\n\n    try:\n        series = pd.Series(m.groupdict())\n    except AttributeError:\n        print(record['name'])\n        break\n    lines.append(series)\ntf_metadata = pd.DataFrame.from_records(lines)\nprint(tf_metadata.shape)"
    },
    "executionTime": "2019-10-19T21:40:40.033Z"
   },
   {
    "cell": {
     "executionCount": 56,
     "executionEventId": "4a6d9313-5a8f-45e6-a0cc-c5e035be7a9e",
     "hasError": false,
     "id": "0af59044-1c38-4993-a053-2fb99ea5462f",
     "outputs": [
      {
       "name": "stdout",
       "output_type": "stream",
       "text": "ENSP00000443827.2 pep chromosome:GRCh38:12:53326575:53336354:-1 gene:ENSG00000170374.6 transcript:ENST00000536324.4 gene_biotype:protein_coding transcript_biotype:protein_coding gene_symbol:AC073611.1 description:Sp7 transcription factor [Source:NCBI gene;Acc:121340]\n(254, 10)\n"
      }
     ],
     "persistentId": "2b29ea18-e316-4a11-a506-a0d5ee059fa8",
     "text": "lines = []\n\nPATTERN = r\"(?P<protein_id>ENSP\\d+\\.\\d+) (?P<seqtype>\\w+) (?P<location>chromosome:GRCh38:[\\dXY]+:\\d+:\\d+:-?\\d+) gene:(?P<gene_id>ENSG\\d+\\.\\d+) transcript:(?P<transcript_id>ENST\\d+\\.\\d+) gene_biotype:(?P<gene_biotype>\\w+) transcript_biotype:(?P<transcript_biotype>\\w+) gene_symbol:(?P<gene_symbol>\\w+) description:(?P<description>[\\w\\d\\-',/ ]+) (?P<source>\\[Source:[\\w ]+;Acc:HGNC:\\d+\\])\"\n\npattern = re.compile(PATTERN.strip())\n\nfor record in tf_records:\n    m = re.match(pattern, record['name'])\n\n    try:\n        series = pd.Series(m.groupdict())\n    except AttributeError:\n        print(record['name'])\n        break\n    lines.append(series)\ntf_metadata = pd.DataFrame.from_records(lines)\nprint(tf_metadata.shape)"
    },
    "executionTime": "2019-10-19T21:41:08.639Z"
   },
   {
    "cell": {
     "executionCount": 57,
     "executionEventId": "f6fc8031-5173-460d-8835-28eae538d064",
     "hasError": false,
     "id": "0af59044-1c38-4993-a053-2fb99ea5462f",
     "outputs": [
      {
       "name": "stdout",
       "output_type": "stream",
       "text": "ENSP00000421868.1 pep chromosome:GRCh38:13:36168794:36297842:-1 gene:ENSG00000250709.1 transcript:ENST00000511166.1 gene_biotype:protein_coding transcript_biotype:protein_coding gene_symbol:CCDC169-SOHLH2 description:CCDC169-SOHLH2 readthrough [Source:HGNC Symbol;Acc:HGNC:38866]\n(310, 10)\n"
      }
     ],
     "persistentId": "2b29ea18-e316-4a11-a506-a0d5ee059fa8",
     "text": "lines = []\n\nPATTERN = r\"(?P<protein_id>ENSP\\d+\\.\\d+) (?P<seqtype>\\w+) (?P<location>chromosome:GRCh38:[\\dXY]+:\\d+:\\d+:-?\\d+) gene:(?P<gene_id>ENSG\\d+\\.\\d+) transcript:(?P<transcript_id>ENST\\d+\\.\\d+) gene_biotype:(?P<gene_biotype>\\w+) transcript_biotype:(?P<transcript_biotype>\\w+) gene_symbol:(?P<gene_symbol>[\\w\\.]+) description:(?P<description>[\\w\\d\\-',/ ]+) (?P<source>\\[Source:[\\w ]+;Acc:[\\w:\\d]+\\])\"\n\npattern = re.compile(PATTERN.strip())\n\nfor record in tf_records:\n    m = re.match(pattern, record['name'])\n\n    try:\n        series = pd.Series(m.groupdict())\n    except AttributeError:\n        print(record['name'])\n        break\n    lines.append(series)\ntf_metadata = pd.DataFrame.from_records(lines)\nprint(tf_metadata.shape)"
    },
    "executionTime": "2019-10-19T21:43:10.180Z"
   },
   {
    "cell": {
     "executionCount": 58,
     "executionEventId": "31f76404-7532-4bd8-959f-b72e095925f1",
     "hasError": false,
     "id": "0af59044-1c38-4993-a053-2fb99ea5462f",
     "outputs": [
      {
       "name": "stdout",
       "output_type": "stream",
       "text": "ENSP00000355870.5 pep chromosome:GRCh38:1:220879443:220885059:1 gene:ENSG00000136630.13 transcript:ENST00000366903.8 gene_biotype:protein_coding transcript_biotype:protein_coding gene_symbol:HLX description:H2.0 like homeobox [Source:HGNC Symbol;Acc:HGNC:4978]\n(523, 10)\n"
      }
     ],
     "persistentId": "2b29ea18-e316-4a11-a506-a0d5ee059fa8",
     "text": "lines = []\n\nPATTERN = r\"(?P<protein_id>ENSP\\d+\\.\\d+) (?P<seqtype>\\w+) (?P<location>chromosome:GRCh38:[\\dXY]+:\\d+:\\d+:-?\\d+) gene:(?P<gene_id>ENSG\\d+\\.\\d+) transcript:(?P<transcript_id>ENST\\d+\\.\\d+) gene_biotype:(?P<gene_biotype>\\w+) transcript_biotype:(?P<transcript_biotype>\\w+) gene_symbol:(?P<gene_symbol>[\\w\\.\\-]+) description:(?P<description>[\\w\\d\\-',/ ]+) (?P<source>\\[Source:[\\w ]+;Acc:[\\w:\\d]+\\])\"\n\npattern = re.compile(PATTERN.strip())\n\nfor record in tf_records:\n    m = re.match(pattern, record['name'])\n\n    try:\n        series = pd.Series(m.groupdict())\n    except AttributeError:\n        print(record['name'])\n        break\n    lines.append(series)\ntf_metadata = pd.DataFrame.from_records(lines)\nprint(tf_metadata.shape)"
    },
    "executionTime": "2019-10-19T21:43:30.390Z"
   },
   {
    "cell": {
     "executionCount": 59,
     "executionEventId": "aa340b07-1619-4dce-899d-7ed8199eeba7",
     "hasError": false,
     "id": "0af59044-1c38-4993-a053-2fb99ea5462f",
     "outputs": [
      {
       "name": "stdout",
       "output_type": "stream",
       "text": "ENSP00000467286.1 pep chromosome:GRCh38:19:11925075:11979290:1 gene:ENSG00000267179.1 transcript:ENST00000590798.1 gene_biotype:protein_coding transcript_biotype:protein_coding gene_symbol:AC008770.2 description:novel protein\n(2640, 10)\n"
      }
     ],
     "persistentId": "2b29ea18-e316-4a11-a506-a0d5ee059fa8",
     "text": "lines = []\n\nPATTERN = r\"(?P<protein_id>ENSP\\d+\\.\\d+) (?P<seqtype>\\w+) (?P<location>chromosome:GRCh38:[\\dXY]+:\\d+:\\d+:-?\\d+) gene:(?P<gene_id>ENSG\\d+\\.\\d+) transcript:(?P<transcript_id>ENST\\d+\\.\\d+) gene_biotype:(?P<gene_biotype>\\w+) transcript_biotype:(?P<transcript_biotype>\\w+) gene_symbol:(?P<gene_symbol>[\\w\\.\\-]+) description:(?P<description>[\\w\\d\\-',/ \\.]+) (?P<source>\\[Source:[\\w ]+;Acc:[\\w:\\d]+\\])\"\n\npattern = re.compile(PATTERN.strip())\n\nfor record in tf_records:\n    m = re.match(pattern, record['name'])\n\n    try:\n        series = pd.Series(m.groupdict())\n    except AttributeError:\n        print(record['name'])\n        break\n    lines.append(series)\ntf_metadata = pd.DataFrame.from_records(lines)\nprint(tf_metadata.shape)"
    },
    "executionTime": "2019-10-19T21:44:00.884Z"
   },
   {
    "cell": {
     "executionCount": 60,
     "executionEventId": "21eb4409-499f-4c0f-9cc2-c4d34ab091a2",
     "hasError": false,
     "id": "0af59044-1c38-4993-a053-2fb99ea5462f",
     "outputs": [
      {
       "name": "stdout",
       "output_type": "stream",
       "text": "(8337, 10)\n"
      }
     ],
     "persistentId": "2b29ea18-e316-4a11-a506-a0d5ee059fa8",
     "text": "lines = []\n\nPATTERN = r\"(?P<protein_id>ENSP\\d+\\.\\d+) (?P<seqtype>\\w+) (?P<location>chromosome:GRCh38:[\\dXY]+:\\d+:\\d+:-?\\d+) gene:(?P<gene_id>ENSG\\d+\\.\\d+) transcript:(?P<transcript_id>ENST\\d+\\.\\d+) gene_biotype:(?P<gene_biotype>\\w+) transcript_biotype:(?P<transcript_biotype>\\w+) gene_symbol:(?P<gene_symbol>[\\w\\.\\-]+) description:(?P<description>[\\w\\d\\-',/ \\.]+)(?P<source>\\[Source:[\\w ]+;Acc:[\\w:\\d]+\\])?\"\npattern = re.compile(PATTERN.strip())\n\nfor record in tf_records:\n    m = re.match(pattern, record['name'])\n\n    try:\n        series = pd.Series(m.groupdict())\n    except AttributeError:\n        # If it doesn't work, break on the record it didn't work on\n        print(record['name'])\n        break\n    lines.append(series)\ntf_metadata = pd.DataFrame.from_records(lines)\nprint(tf_metadata.shape)"
    },
    "executionTime": "2019-10-19T21:44:59.095Z"
   },
   {
    "cell": {
     "executionCount": 61,
     "executionEventId": "afe2c95a-d6df-4c4e-ab61-a814be5dd153",
     "hasError": false,
     "id": "662fe5e3-29d2-454e-b16a-57b36cb5a44c",
     "outputs": [
      {
       "data": {
        "text/html": "<div>\n<style scoped>\n    .dataframe tbody tr th:only-of-type {\n        vertical-align: middle;\n    }\n\n    .dataframe tbody tr th {\n        vertical-align: top;\n    }\n\n    .dataframe thead th {\n        text-align: right;\n    }\n</style>\n<table border=\"1\" class=\"dataframe\">\n  <thead>\n    <tr style=\"text-align: right;\">\n      <th></th>\n      <th>protein_id</th>\n      <th>seqtype</th>\n      <th>location</th>\n      <th>gene_id</th>\n      <th>transcript_id</th>\n      <th>gene_biotype</th>\n      <th>transcript_biotype</th>\n      <th>gene_symbol</th>\n      <th>description</th>\n      <th>source</th>\n    </tr>\n  </thead>\n  <tbody>\n    <tr>\n      <th>0</th>\n      <td>ENSP00000306523.3</td>\n      <td>pep</td>\n      <td>chromosome:GRCh38:14:35534164:35537054:1</td>\n      <td>ENSG00000168348.4</td>\n      <td>ENST00000307169.4</td>\n      <td>protein_coding</td>\n      <td>protein_coding</td>\n      <td>INSM2</td>\n      <td>INSM transcriptional repressor 2</td>\n      <td>[Source:HGNC Symbol;Acc:HGNC:17539]</td>\n    </tr>\n    <tr>\n      <th>1</th>\n      <td>ENSP00000394757.2</td>\n      <td>pep</td>\n      <td>chromosome:GRCh38:18:76357682:76495242:-1</td>\n      <td>ENSG00000101493.11</td>\n      <td>ENST00000443185.7</td>\n      <td>protein_coding</td>\n      <td>protein_coding</td>\n      <td>ZNF516</td>\n      <td>zinc finger protein 516</td>\n      <td>[Source:HGNC Symbol;Acc:HGNC:28990]</td>\n    </tr>\n    <tr>\n      <th>2</th>\n      <td>ENSP00000478712.1</td>\n      <td>pep</td>\n      <td>chromosome:GRCh38:18:76361768:76380285:-1</td>\n      <td>ENSG00000101493.11</td>\n      <td>ENST00000617840.1</td>\n      <td>protein_coding</td>\n      <td>protein_coding</td>\n      <td>ZNF516</td>\n      <td>zinc finger protein 516</td>\n      <td>[Source:HGNC Symbol;Acc:HGNC:28990]</td>\n    </tr>\n    <tr>\n      <th>3</th>\n      <td>ENSP00000445902.1</td>\n      <td>pep</td>\n      <td>chromosome:GRCh38:18:76362271:76378913:-1</td>\n      <td>ENSG00000101493.11</td>\n      <td>ENST00000542818.1</td>\n      <td>protein_coding</td>\n      <td>protein_coding</td>\n      <td>ZNF516</td>\n      <td>zinc finger protein 516</td>\n      <td>[Source:HGNC Symbol;Acc:HGNC:28990]</td>\n    </tr>\n    <tr>\n      <th>4</th>\n      <td>ENSP00000446211.1</td>\n      <td>pep</td>\n      <td>chromosome:GRCh38:18:76442829:76490779:-1</td>\n      <td>ENSG00000101493.11</td>\n      <td>ENST00000532857.1</td>\n      <td>protein_coding</td>\n      <td>protein_coding</td>\n      <td>ZNF516</td>\n      <td>zinc finger protein 516</td>\n      <td>[Source:HGNC Symbol;Acc:HGNC:28990]</td>\n    </tr>\n  </tbody>\n</table>\n</div>",
        "text/plain": "          protein_id seqtype                                   location  \\\n0  ENSP00000306523.3     pep   chromosome:GRCh38:14:35534164:35537054:1   \n1  ENSP00000394757.2     pep  chromosome:GRCh38:18:76357682:76495242:-1   \n2  ENSP00000478712.1     pep  chromosome:GRCh38:18:76361768:76380285:-1   \n3  ENSP00000445902.1     pep  chromosome:GRCh38:18:76362271:76378913:-1   \n4  ENSP00000446211.1     pep  chromosome:GRCh38:18:76442829:76490779:-1   \n\n              gene_id      transcript_id    gene_biotype transcript_biotype  \\\n0   ENSG00000168348.4  ENST00000307169.4  protein_coding     protein_coding   \n1  ENSG00000101493.11  ENST00000443185.7  protein_coding     protein_coding   \n2  ENSG00000101493.11  ENST00000617840.1  protein_coding     protein_coding   \n3  ENSG00000101493.11  ENST00000542818.1  protein_coding     protein_coding   \n4  ENSG00000101493.11  ENST00000532857.1  protein_coding     protein_coding   \n\n  gene_symbol                        description  \\\n0       INSM2  INSM transcriptional repressor 2    \n1      ZNF516           zinc finger protein 516    \n2      ZNF516           zinc finger protein 516    \n3      ZNF516           zinc finger protein 516    \n4      ZNF516           zinc finger protein 516    \n\n                                source  \n0  [Source:HGNC Symbol;Acc:HGNC:17539]  \n1  [Source:HGNC Symbol;Acc:HGNC:28990]  \n2  [Source:HGNC Symbol;Acc:HGNC:28990]  \n3  [Source:HGNC Symbol;Acc:HGNC:28990]  \n4  [Source:HGNC Symbol;Acc:HGNC:28990]  "
       },
       "execution_count": 61,
       "metadata": {},
       "output_type": "execute_result"
      }
     ],
     "persistentId": "6ccc8bc3-02f2-4b09-adaa-9828957c2271",
     "text": "tf_metadata.head()"
    },
    "executionTime": "2019-10-19T21:45:29.852Z"
   },
   {
    "cell": {
     "executionCount": 62,
     "executionEventId": "948a48a6-7028-4d61-b4b6-f9680ffe62e0",
     "hasError": false,
     "id": "106c508b-104b-4cfd-82a7-0e43035e83b1",
     "outputs": [
      {
       "data": {
        "text/plain": "1635"
       },
       "execution_count": 62,
       "metadata": {},
       "output_type": "execute_result"
      }
     ],
     "persistentId": "707c8abe-fe87-41cd-afc9-f081ac84cbea",
     "text": "tf_metadata.gene_id.nunique()"
    },
    "executionTime": "2019-10-19T21:45:32.381Z"
   },
   {
    "cell": {
     "executionCount": 63,
     "executionEventId": "56f3c45a-a112-45da-a66f-8815f14b56e4",
     "hasError": false,
     "id": "7102ee6b-94ba-47db-90c7-374290c785d1",
     "outputs": [],
     "persistentId": "82972882-4995-4fed-bd68-83287f89af87",
     "text": "tf_metadata['gene_id_no_version'] = tf_metadata.gene_id.str.split('.').str[0]\n"
    },
    "executionTime": "2019-10-19T21:46:14.622Z"
   },
   {
    "cell": {
     "executionCount": 64,
     "executionEventId": "e58e209e-6439-4236-a118-9f5fbf57485f",
     "hasError": false,
     "id": "d5d16382-588e-439a-8fae-c62e34656b69",
     "outputs": [
      {
       "data": {
        "text/html": "<div>\n<style scoped>\n    .dataframe tbody tr th:only-of-type {\n        vertical-align: middle;\n    }\n\n    .dataframe tbody tr th {\n        vertical-align: top;\n    }\n\n    .dataframe thead th {\n        text-align: right;\n    }\n</style>\n<table border=\"1\" class=\"dataframe\">\n  <thead>\n    <tr style=\"text-align: right;\">\n      <th></th>\n      <th>Ensembl ID</th>\n      <th>HGNC symbol</th>\n      <th>DBD</th>\n      <th>Is TF?</th>\n      <th>TF assessment</th>\n      <th>Binding mode</th>\n      <th>Motif status</th>\n      <th>Final Notes</th>\n      <th>Final Comments</th>\n      <th>Interpro ID(s)</th>\n      <th>...</th>\n      <th>CisBP considers it a TF?</th>\n      <th>TFCat classification</th>\n      <th>Is a GO TF?</th>\n      <th>Initial assessment</th>\n      <th>Curator 1</th>\n      <th>Curator 2</th>\n      <th>TFclass considers it a TF?</th>\n      <th>Go Evidence</th>\n      <th>Pfam Domains (By ENSP ID)</th>\n      <th>Is C2H2 ZF(KRAB)?</th>\n    </tr>\n  </thead>\n  <tbody>\n    <tr>\n      <th>912</th>\n      <td>ENSG00000214189</td>\n      <td>ZNF788</td>\n      <td>C2H2 ZF</td>\n      <td>Yes</td>\n      <td>Likely to be sequence specific TF</td>\n      <td>Monomer or homomultimer</td>\n      <td>No motif</td>\n      <td>None</td>\n      <td>Virtually nothing is known for this protein ex...</td>\n      <td>None</td>\n      <td>...</td>\n      <td>Yes</td>\n      <td>No</td>\n      <td>No</td>\n      <td>4a, two or more datasets predict it as a TF</td>\n      <td>Sam Lambert</td>\n      <td>Arttu Jolma</td>\n      <td>Yes</td>\n      <td>None</td>\n      <td>$#ENSP00000391703#ENSG00000214189#ENST00000430...</td>\n      <td>False</td>\n    </tr>\n    <tr>\n      <th>958</th>\n      <td>ENSG00000228623</td>\n      <td>ZNF883</td>\n      <td>C2H2 ZF</td>\n      <td>Yes</td>\n      <td>Known motif</td>\n      <td>Monomer or homomultimer</td>\n      <td>In vivo/Misc source</td>\n      <td>Only known motifs are from Transfac or HocoMoc...</td>\n      <td>None</td>\n      <td>IPR007087;</td>\n      <td>...</td>\n      <td>Yes</td>\n      <td>No</td>\n      <td>Yes</td>\n      <td>2a1, Lower confidence direct evidence</td>\n      <td>Sam Lambert</td>\n      <td>Jussi Taipale</td>\n      <td>Yes</td>\n      <td>$#ENSG00000228623#GO:0003700#sequence-specific...</td>\n      <td>$#ENSP00000490059#ENSG00000228623#ENST00000619...</td>\n      <td>False</td>\n    </tr>\n    <tr>\n      <th>1306</th>\n      <td>DUX1_HUMAN</td>\n      <td>DUX1</td>\n      <td>Homeodomain</td>\n      <td>Yes</td>\n      <td>Known motif</td>\n      <td>Monomer or homomultimer</td>\n      <td>In vivo/Misc source</td>\n      <td>Only known motifs are from Transfac or HocoMoc...</td>\n      <td>Not included in Ensembl. Binds GATCTGAGTCTAATT...</td>\n      <td>None</td>\n      <td>...</td>\n      <td>Yes</td>\n      <td>No</td>\n      <td>No</td>\n      <td>Protein added after initial stage, no initial ...</td>\n      <td>Arttu Jolma</td>\n      <td>Sam Lambert</td>\n      <td>Yes</td>\n      <td>None</td>\n      <td>None</td>\n      <td>False</td>\n    </tr>\n    <tr>\n      <th>1307</th>\n      <td>DUX3_HUMAN</td>\n      <td>DUX3</td>\n      <td>Homeodomain</td>\n      <td>Yes</td>\n      <td>Known motif</td>\n      <td>Monomer or homomultimer</td>\n      <td>In vivo/Misc source</td>\n      <td>Only known motifs are from Transfac or HocoMoc...</td>\n      <td>Not included in Ensembl.</td>\n      <td>None</td>\n      <td>...</td>\n      <td>Yes</td>\n      <td>No</td>\n      <td>No</td>\n      <td>Protein added after initial stage, no initial ...</td>\n      <td>Arttu Jolma</td>\n      <td>Sam Lambert</td>\n      <td>Yes</td>\n      <td>None</td>\n      <td>None</td>\n      <td>False</td>\n    </tr>\n  </tbody>\n</table>\n<p>4 rows × 28 columns</p>\n</div>",
        "text/plain": "           Ensembl ID HGNC symbol          DBD Is TF?  \\\n912   ENSG00000214189      ZNF788      C2H2 ZF    Yes   \n958   ENSG00000228623      ZNF883      C2H2 ZF    Yes   \n1306       DUX1_HUMAN        DUX1  Homeodomain    Yes   \n1307       DUX3_HUMAN        DUX3  Homeodomain    Yes   \n\n                          TF assessment             Binding mode  \\\n912   Likely to be sequence specific TF  Monomer or homomultimer   \n958                         Known motif  Monomer or homomultimer   \n1306                        Known motif  Monomer or homomultimer   \n1307                        Known motif  Monomer or homomultimer   \n\n             Motif status                                        Final Notes  \\\n912              No motif                                               None   \n958   In vivo/Misc source  Only known motifs are from Transfac or HocoMoc...   \n1306  In vivo/Misc source  Only known motifs are from Transfac or HocoMoc...   \n1307  In vivo/Misc source  Only known motifs are from Transfac or HocoMoc...   \n\n                                         Final Comments Interpro ID(s)  ...  \\\n912   Virtually nothing is known for this protein ex...           None  ...   \n958                                                None     IPR007087;  ...   \n1306  Not included in Ensembl. Binds GATCTGAGTCTAATT...           None  ...   \n1307                           Not included in Ensembl.           None  ...   \n\n     CisBP considers it a TF? TFCat classification Is a GO TF?  \\\n912                       Yes                   No          No   \n958                       Yes                   No         Yes   \n1306                      Yes                   No          No   \n1307                      Yes                   No          No   \n\n                                    Initial assessment     Curator 1  \\\n912         4a, two or more datasets predict it as a TF  Sam Lambert   \n958               2a1, Lower confidence direct evidence  Sam Lambert   \n1306  Protein added after initial stage, no initial ...  Arttu Jolma   \n1307  Protein added after initial stage, no initial ...  Arttu Jolma   \n\n          Curator 2 TFclass considers it a TF?   \\\n912     Arttu Jolma                         Yes   \n958   Jussi Taipale                         Yes   \n1306    Sam Lambert                         Yes   \n1307    Sam Lambert                         Yes   \n\n                                            Go Evidence  \\\n912                                                None   \n958   $#ENSG00000228623#GO:0003700#sequence-specific...   \n1306                                               None   \n1307                                               None   \n\n                              Pfam Domains (By ENSP ID) Is C2H2 ZF(KRAB)?  \n912   $#ENSP00000391703#ENSG00000214189#ENST00000430...             False  \n958   $#ENSP00000490059#ENSG00000228623#ENST00000619...             False  \n1306                                               None             False  \n1307                                               None             False  \n\n[4 rows x 28 columns]"
       },
       "execution_count": 64,
       "metadata": {},
       "output_type": "execute_result"
      }
     ],
     "persistentId": "a057ea15-708a-4265-9cff-243a33461a7b",
     "text": "rows = true_tfs['Ensembl ID'].isin(tf_metadata['gene_id_no_version'])\ntrue_tfs.loc[~rows]"
    },
    "executionTime": "2019-10-19T21:46:59.150Z"
   },
   {
    "cell": {
     "executionCount": 65,
     "executionEventId": "d92a0248-914b-4b94-b9c6-aab98e8eaf31",
     "hasError": false,
     "id": "ece53244-2691-44bd-b2ee-5c8c594caf1f",
     "outputs": [],
     "persistentId": "a427146b-36a7-4e55-b621-c3f18ab5f57e",
     "text": "! zcat Homo_sapiens.GRCh38.pep.all.fa.gz | grep  ZNF788"
    },
    "executionTime": "2019-10-19T21:48:14.001Z"
   },
   {
    "cell": {
     "executionCount": 66,
     "executionEventId": "1fc591bb-9f52-4533-a959-5569595d39aa",
     "hasError": false,
     "id": "d5d16382-588e-439a-8fae-c62e34656b69",
     "outputs": [
      {
       "data": {
        "text/html": "<div>\n<style scoped>\n    .dataframe tbody tr th:only-of-type {\n        vertical-align: middle;\n    }\n\n    .dataframe tbody tr th {\n        vertical-align: top;\n    }\n\n    .dataframe thead th {\n        text-align: right;\n    }\n</style>\n<table border=\"1\" class=\"dataframe\">\n  <thead>\n    <tr style=\"text-align: right;\">\n      <th></th>\n      <th>Ensembl ID</th>\n      <th>HGNC symbol</th>\n      <th>DBD</th>\n      <th>Is TF?</th>\n      <th>TF assessment</th>\n      <th>Binding mode</th>\n      <th>Motif status</th>\n      <th>Final Notes</th>\n      <th>Final Comments</th>\n      <th>Interpro ID(s)</th>\n      <th>...</th>\n      <th>CisBP considers it a TF?</th>\n      <th>TFCat classification</th>\n      <th>Is a GO TF?</th>\n      <th>Initial assessment</th>\n      <th>Curator 1</th>\n      <th>Curator 2</th>\n      <th>TFclass considers it a TF?</th>\n      <th>Go Evidence</th>\n      <th>Pfam Domains (By ENSP ID)</th>\n      <th>Is C2H2 ZF(KRAB)?</th>\n    </tr>\n  </thead>\n  <tbody>\n    <tr>\n      <th>912</th>\n      <td>ENSG00000214189</td>\n      <td>ZNF788</td>\n      <td>C2H2 ZF</td>\n      <td>Yes</td>\n      <td>Likely to be sequence specific TF</td>\n      <td>Monomer or homomultimer</td>\n      <td>No motif</td>\n      <td>None</td>\n      <td>Virtually nothing is known for this protein ex...</td>\n      <td>None</td>\n      <td>...</td>\n      <td>Yes</td>\n      <td>No</td>\n      <td>No</td>\n      <td>4a, two or more datasets predict it as a TF</td>\n      <td>Sam Lambert</td>\n      <td>Arttu Jolma</td>\n      <td>Yes</td>\n      <td>None</td>\n      <td>$#ENSP00000391703#ENSG00000214189#ENST00000430...</td>\n      <td>False</td>\n    </tr>\n    <tr>\n      <th>958</th>\n      <td>ENSG00000228623</td>\n      <td>ZNF883</td>\n      <td>C2H2 ZF</td>\n      <td>Yes</td>\n      <td>Known motif</td>\n      <td>Monomer or homomultimer</td>\n      <td>In vivo/Misc source</td>\n      <td>Only known motifs are from Transfac or HocoMoc...</td>\n      <td>None</td>\n      <td>IPR007087;</td>\n      <td>...</td>\n      <td>Yes</td>\n      <td>No</td>\n      <td>Yes</td>\n      <td>2a1, Lower confidence direct evidence</td>\n      <td>Sam Lambert</td>\n      <td>Jussi Taipale</td>\n      <td>Yes</td>\n      <td>$#ENSG00000228623#GO:0003700#sequence-specific...</td>\n      <td>$#ENSP00000490059#ENSG00000228623#ENST00000619...</td>\n      <td>False</td>\n    </tr>\n    <tr>\n      <th>1306</th>\n      <td>DUX1_HUMAN</td>\n      <td>DUX1</td>\n      <td>Homeodomain</td>\n      <td>Yes</td>\n      <td>Known motif</td>\n      <td>Monomer or homomultimer</td>\n      <td>In vivo/Misc source</td>\n      <td>Only known motifs are from Transfac or HocoMoc...</td>\n      <td>Not included in Ensembl. Binds GATCTGAGTCTAATT...</td>\n      <td>None</td>\n      <td>...</td>\n      <td>Yes</td>\n      <td>No</td>\n      <td>No</td>\n      <td>Protein added after initial stage, no initial ...</td>\n      <td>Arttu Jolma</td>\n      <td>Sam Lambert</td>\n      <td>Yes</td>\n      <td>None</td>\n      <td>None</td>\n      <td>False</td>\n    </tr>\n    <tr>\n      <th>1307</th>\n      <td>DUX3_HUMAN</td>\n      <td>DUX3</td>\n      <td>Homeodomain</td>\n      <td>Yes</td>\n      <td>Known motif</td>\n      <td>Monomer or homomultimer</td>\n      <td>In vivo/Misc source</td>\n      <td>Only known motifs are from Transfac or HocoMoc...</td>\n      <td>Not included in Ensembl.</td>\n      <td>None</td>\n      <td>...</td>\n      <td>Yes</td>\n      <td>No</td>\n      <td>No</td>\n      <td>Protein added after initial stage, no initial ...</td>\n      <td>Arttu Jolma</td>\n      <td>Sam Lambert</td>\n      <td>Yes</td>\n      <td>None</td>\n      <td>None</td>\n      <td>False</td>\n    </tr>\n  </tbody>\n</table>\n<p>4 rows × 28 columns</p>\n</div>",
        "text/plain": "           Ensembl ID HGNC symbol          DBD Is TF?  \\\n912   ENSG00000214189      ZNF788      C2H2 ZF    Yes   \n958   ENSG00000228623      ZNF883      C2H2 ZF    Yes   \n1306       DUX1_HUMAN        DUX1  Homeodomain    Yes   \n1307       DUX3_HUMAN        DUX3  Homeodomain    Yes   \n\n                          TF assessment             Binding mode  \\\n912   Likely to be sequence specific TF  Monomer or homomultimer   \n958                         Known motif  Monomer or homomultimer   \n1306                        Known motif  Monomer or homomultimer   \n1307                        Known motif  Monomer or homomultimer   \n\n             Motif status                                        Final Notes  \\\n912              No motif                                               None   \n958   In vivo/Misc source  Only known motifs are from Transfac or HocoMoc...   \n1306  In vivo/Misc source  Only known motifs are from Transfac or HocoMoc...   \n1307  In vivo/Misc source  Only known motifs are from Transfac or HocoMoc...   \n\n                                         Final Comments Interpro ID(s)  ...  \\\n912   Virtually nothing is known for this protein ex...           None  ...   \n958                                                None     IPR007087;  ...   \n1306  Not included in Ensembl. Binds GATCTGAGTCTAATT...           None  ...   \n1307                           Not included in Ensembl.           None  ...   \n\n     CisBP considers it a TF? TFCat classification Is a GO TF?  \\\n912                       Yes                   No          No   \n958                       Yes                   No         Yes   \n1306                      Yes                   No          No   \n1307                      Yes                   No          No   \n\n                                    Initial assessment     Curator 1  \\\n912         4a, two or more datasets predict it as a TF  Sam Lambert   \n958               2a1, Lower confidence direct evidence  Sam Lambert   \n1306  Protein added after initial stage, no initial ...  Arttu Jolma   \n1307  Protein added after initial stage, no initial ...  Arttu Jolma   \n\n          Curator 2 TFclass considers it a TF?   \\\n912     Arttu Jolma                         Yes   \n958   Jussi Taipale                         Yes   \n1306    Sam Lambert                         Yes   \n1307    Sam Lambert                         Yes   \n\n                                            Go Evidence  \\\n912                                                None   \n958   $#ENSG00000228623#GO:0003700#sequence-specific...   \n1306                                               None   \n1307                                               None   \n\n                              Pfam Domains (By ENSP ID) Is C2H2 ZF(KRAB)?  \n912   $#ENSP00000391703#ENSG00000214189#ENST00000430...             False  \n958   $#ENSP00000490059#ENSG00000228623#ENST00000619...             False  \n1306                                               None             False  \n1307                                               None             False  \n\n[4 rows x 28 columns]"
       },
       "execution_count": 66,
       "metadata": {},
       "output_type": "execute_result"
      }
     ],
     "persistentId": "a057ea15-708a-4265-9cff-243a33461a7b",
     "text": "rows = true_tfs['Ensembl ID'].isin(tf_metadata['gene_id_no_version'])\ntrue_tfs_not_in_ensembl97 = true_tfs.loc[~rows]\ntrue_tfs_not_in_ensembl97"
    },
    "executionTime": "2019-10-19T21:48:30.110Z"
   },
   {
    "cell": {
     "executionCount": 67,
     "executionEventId": "f1c37283-489d-4a7c-b9f9-1e59bda7bdfa",
     "hasError": true,
     "id": "ac1bb033-ca28-4dd1-a5d2-f0d85de48610",
     "outputs": [
      {
       "ename": "ValueError",
       "evalue": "too many values to unpack (expected 2)",
       "output_type": "error",
       "traceback": [
        "\u001b[0;31m---------------------------------------------------------------------------\u001b[0m",
        "\u001b[0;31mValueError\u001b[0m                                Traceback (most recent call last)",
        "\u001b[0;32m<ipython-input-67-c07ab8e370f9>\u001b[0m in \u001b[0;36m<module>\u001b[0;34m()\u001b[0m\n\u001b[0;32m----> 1\u001b[0;31m \u001b[0;32mfor\u001b[0m \u001b[0mensembl_id\u001b[0m\u001b[0;34m,\u001b[0m \u001b[0mgene_symbol\u001b[0m \u001b[0;32min\u001b[0m \u001b[0mtrue_tfs_not_in_ensembl97\u001b[0m\u001b[0;34m[\u001b[0m\u001b[0;34m[\u001b[0m\u001b[0;34m'Ensembl ID'\u001b[0m\u001b[0;34m,\u001b[0m \u001b[0;34m'HGNC symbol'\u001b[0m\u001b[0;34m]\u001b[0m\u001b[0;34m]\u001b[0m\u001b[0;34m:\u001b[0m\u001b[0;34m\u001b[0m\u001b[0;34m\u001b[0m\u001b[0m\n\u001b[0m\u001b[1;32m      2\u001b[0m     \u001b[0mprint\u001b[0m\u001b[0;34m(\u001b[0m\u001b[0mensembl_id\u001b[0m\u001b[0;34m,\u001b[0m \u001b[0mgene_symbol\u001b[0m\u001b[0;34m)\u001b[0m\u001b[0;34m\u001b[0m\u001b[0;34m\u001b[0m\u001b[0m\n",
        "\u001b[0;31mValueError\u001b[0m: too many values to unpack (expected 2)"
       ]
      }
     ],
     "persistentId": "803387ef-9016-483f-af8b-9379eaa00b14",
     "text": "for ensembl_id, gene_symbol in true_tfs_not_in_ensembl97[['Ensembl ID', 'HGNC symbol']]:\n    print(ensembl_id, gene_symbol)"
    },
    "executionTime": "2019-10-19T21:49:03.674Z"
   },
   {
    "cell": {
     "executionCount": 68,
     "executionEventId": "1047340b-0a19-481e-8bd3-2b0358851a19",
     "hasError": true,
     "id": "ac1bb033-ca28-4dd1-a5d2-f0d85de48610",
     "outputs": [
      {
       "ename": "SyntaxError",
       "evalue": "invalid syntax (<ipython-input-68-bdbff776cf31>, line 1)",
       "output_type": "error",
       "traceback": [
        "\u001b[0;36m  File \u001b[0;32m\"<ipython-input-68-bdbff776cf31>\"\u001b[0;36m, line \u001b[0;32m1\u001b[0m\n\u001b[0;31m    for i, (ensembl_id, gene_symbol() in true_tfs_not_in_ensembl97[['Ensembl ID', 'HGNC symbol']].iterrows():\u001b[0m\n\u001b[0m                                                                                                            ^\u001b[0m\n\u001b[0;31mSyntaxError\u001b[0m\u001b[0;31m:\u001b[0m invalid syntax\n"
       ]
      }
     ],
     "persistentId": "803387ef-9016-483f-af8b-9379eaa00b14",
     "text": "for i, (ensembl_id, gene_symbol() in true_tfs_not_in_ensembl97[['Ensembl ID', 'HGNC symbol']].iterrows():\n    print(ensembl_id, gene_symbol)"
    },
    "executionTime": "2019-10-19T21:49:15.582Z"
   },
   {
    "cell": {
     "executionCount": 69,
     "executionEventId": "0c4d7a3d-acab-40c0-98ca-cf28a836485e",
     "hasError": false,
     "id": "ac1bb033-ca28-4dd1-a5d2-f0d85de48610",
     "outputs": [
      {
       "name": "stdout",
       "output_type": "stream",
       "text": "ENSG00000214189 ZNF788\nENSG00000228623 ZNF883\nDUX1_HUMAN DUX1\nDUX3_HUMAN DUX3\n"
      }
     ],
     "persistentId": "803387ef-9016-483f-af8b-9379eaa00b14",
     "text": "for i, (ensembl_id, gene_symbol) in true_tfs_not_in_ensembl97[['Ensembl ID', 'HGNC symbol']].iterrows():\n    print(ensembl_id, gene_symbol)"
    },
    "executionTime": "2019-10-19T21:49:19.333Z"
   },
   {
    "cell": {
     "executionCount": 70,
     "executionEventId": "9215f3f7-ee32-4e72-8ad8-2b349e0869cf",
     "hasError": false,
     "id": "ac1bb033-ca28-4dd1-a5d2-f0d85de48610",
     "outputs": [
      {
       "name": "stdout",
       "output_type": "stream",
       "text": "Grep for ENSG00000214189\nGrep for ZNF788\nGrep for ENSG00000228623\nGrep for ZNF883\n>ENSP00000490059.1 pep chromosome:GRCh38:9:112997120:113050043:-1 gene:ENSG00000285447.1 transcript:ENST00000619044.1 gene_biotype:protein_coding transcript_biotype:protein_coding gene_symbol:ZNF883 description:zinc finger protein 883 [Source:NCBI gene;Acc:169834]\nGrep for DUX1_HUMAN\nGrep for DUX1\nGrep for DUX3_HUMAN\nGrep for DUX3\n"
      }
     ],
     "persistentId": "803387ef-9016-483f-af8b-9379eaa00b14",
     "text": "for i, (ensembl_id, gene_symbol) in true_tfs_not_in_ensembl97[['Ensembl ID', 'HGNC symbol']].iterrows():\n    print(f\"Grep for {ensembl_id}\")\n    ! zcat Homo_sapiens.GRCh38.pep.all.fa.gz | grep $ensembl_id\n    \n    print(f\"Grep for {gene_symbol}\")\n    ! zcat Homo_sapiens.GRCh38.pep.all.fa.gz | grep $gene_symbol"
    },
    "executionTime": "2019-10-19T21:49:52.193Z"
   },
   {
    "cell": {
     "executionCount": 71,
     "executionEventId": "1d6134fc-abe9-4b82-b638-d53c16abd846",
     "hasError": false,
     "id": "54b150ba-aded-4c2b-9c41-2fa0e531038f",
     "outputs": [
      {
       "data": {
        "text/html": "<div>\n<style scoped>\n    .dataframe tbody tr th:only-of-type {\n        vertical-align: middle;\n    }\n\n    .dataframe tbody tr th {\n        vertical-align: top;\n    }\n\n    .dataframe thead th {\n        text-align: right;\n    }\n</style>\n<table border=\"1\" class=\"dataframe\">\n  <thead>\n    <tr style=\"text-align: right;\">\n      <th></th>\n      <th>Ensembl ID</th>\n      <th>HGNC symbol</th>\n      <th>DBD</th>\n      <th>Is TF?</th>\n      <th>TF assessment</th>\n    </tr>\n  </thead>\n  <tbody>\n    <tr>\n      <th>912</th>\n      <td>ENSG00000214189</td>\n      <td>ZNF788</td>\n      <td>C2H2 ZF</td>\n      <td>Yes</td>\n      <td>Likely to be sequence specific TF</td>\n    </tr>\n    <tr>\n      <th>958</th>\n      <td>ENSG00000228623</td>\n      <td>ZNF883</td>\n      <td>C2H2 ZF</td>\n      <td>Yes</td>\n      <td>Known motif</td>\n    </tr>\n    <tr>\n      <th>1306</th>\n      <td>DUX1_HUMAN</td>\n      <td>DUX1</td>\n      <td>Homeodomain</td>\n      <td>Yes</td>\n      <td>Known motif</td>\n    </tr>\n    <tr>\n      <th>1307</th>\n      <td>DUX3_HUMAN</td>\n      <td>DUX3</td>\n      <td>Homeodomain</td>\n      <td>Yes</td>\n      <td>Known motif</td>\n    </tr>\n  </tbody>\n</table>\n</div>",
        "text/plain": "           Ensembl ID HGNC symbol          DBD Is TF?  \\\n912   ENSG00000214189      ZNF788      C2H2 ZF    Yes   \n958   ENSG00000228623      ZNF883      C2H2 ZF    Yes   \n1306       DUX1_HUMAN        DUX1  Homeodomain    Yes   \n1307       DUX3_HUMAN        DUX3  Homeodomain    Yes   \n\n                          TF assessment  \n912   Likely to be sequence specific TF  \n958                         Known motif  \n1306                        Known motif  \n1307                        Known motif  "
       },
       "execution_count": 71,
       "metadata": {},
       "output_type": "execute_result"
      }
     ],
     "persistentId": "a776e4c5-e4c3-4201-b737-71dbbb313bbd",
     "text": "true_tfs_not_in_ensembl97.iloc[:, :5]"
    },
    "executionTime": "2019-10-19T21:53:28.107Z"
   },
   {
    "cell": {
     "executionCount": 72,
     "executionEventId": "439909cb-63a0-4c64-89ed-4ae0a26f0914",
     "hasError": false,
     "id": "54b150ba-aded-4c2b-9c41-2fa0e531038f",
     "outputs": [
      {
       "data": {
        "text/html": "<div>\n<style scoped>\n    .dataframe tbody tr th:only-of-type {\n        vertical-align: middle;\n    }\n\n    .dataframe tbody tr th {\n        vertical-align: top;\n    }\n\n    .dataframe thead th {\n        text-align: right;\n    }\n</style>\n<table border=\"1\" class=\"dataframe\">\n  <thead>\n    <tr style=\"text-align: right;\">\n      <th></th>\n      <th>Ensembl ID</th>\n      <th>HGNC symbol</th>\n      <th>DBD</th>\n      <th>Is TF?</th>\n      <th>TF assessment</th>\n      <th>Binding mode</th>\n      <th>Motif status</th>\n      <th>Final Notes</th>\n      <th>Final Comments</th>\n      <th>Interpro ID(s)</th>\n    </tr>\n  </thead>\n  <tbody>\n    <tr>\n      <th>912</th>\n      <td>ENSG00000214189</td>\n      <td>ZNF788</td>\n      <td>C2H2 ZF</td>\n      <td>Yes</td>\n      <td>Likely to be sequence specific TF</td>\n      <td>Monomer or homomultimer</td>\n      <td>No motif</td>\n      <td>None</td>\n      <td>Virtually nothing is known for this protein ex...</td>\n      <td>None</td>\n    </tr>\n    <tr>\n      <th>958</th>\n      <td>ENSG00000228623</td>\n      <td>ZNF883</td>\n      <td>C2H2 ZF</td>\n      <td>Yes</td>\n      <td>Known motif</td>\n      <td>Monomer or homomultimer</td>\n      <td>In vivo/Misc source</td>\n      <td>Only known motifs are from Transfac or HocoMoc...</td>\n      <td>None</td>\n      <td>IPR007087;</td>\n    </tr>\n    <tr>\n      <th>1306</th>\n      <td>DUX1_HUMAN</td>\n      <td>DUX1</td>\n      <td>Homeodomain</td>\n      <td>Yes</td>\n      <td>Known motif</td>\n      <td>Monomer or homomultimer</td>\n      <td>In vivo/Misc source</td>\n      <td>Only known motifs are from Transfac or HocoMoc...</td>\n      <td>Not included in Ensembl. Binds GATCTGAGTCTAATT...</td>\n      <td>None</td>\n    </tr>\n    <tr>\n      <th>1307</th>\n      <td>DUX3_HUMAN</td>\n      <td>DUX3</td>\n      <td>Homeodomain</td>\n      <td>Yes</td>\n      <td>Known motif</td>\n      <td>Monomer or homomultimer</td>\n      <td>In vivo/Misc source</td>\n      <td>Only known motifs are from Transfac or HocoMoc...</td>\n      <td>Not included in Ensembl.</td>\n      <td>None</td>\n    </tr>\n  </tbody>\n</table>\n</div>",
        "text/plain": "           Ensembl ID HGNC symbol          DBD Is TF?  \\\n912   ENSG00000214189      ZNF788      C2H2 ZF    Yes   \n958   ENSG00000228623      ZNF883      C2H2 ZF    Yes   \n1306       DUX1_HUMAN        DUX1  Homeodomain    Yes   \n1307       DUX3_HUMAN        DUX3  Homeodomain    Yes   \n\n                          TF assessment             Binding mode  \\\n912   Likely to be sequence specific TF  Monomer or homomultimer   \n958                         Known motif  Monomer or homomultimer   \n1306                        Known motif  Monomer or homomultimer   \n1307                        Known motif  Monomer or homomultimer   \n\n             Motif status                                        Final Notes  \\\n912              No motif                                               None   \n958   In vivo/Misc source  Only known motifs are from Transfac or HocoMoc...   \n1306  In vivo/Misc source  Only known motifs are from Transfac or HocoMoc...   \n1307  In vivo/Misc source  Only known motifs are from Transfac or HocoMoc...   \n\n                                         Final Comments Interpro ID(s)  \n912   Virtually nothing is known for this protein ex...           None  \n958                                                None     IPR007087;  \n1306  Not included in Ensembl. Binds GATCTGAGTCTAATT...           None  \n1307                           Not included in Ensembl.           None  "
       },
       "execution_count": 72,
       "metadata": {},
       "output_type": "execute_result"
      }
     ],
     "persistentId": "a776e4c5-e4c3-4201-b737-71dbbb313bbd",
     "text": "true_tfs_not_in_ensembl97.iloc[:, :10]"
    },
    "executionTime": "2019-10-19T21:53:32.086Z"
   },
   {
    "cell": {
     "executionCount": 73,
     "executionEventId": "8771d05b-9d3c-424c-9ec0-6310f0854529",
     "hasError": false,
     "id": "54b150ba-aded-4c2b-9c41-2fa0e531038f",
     "outputs": [
      {
       "data": {
        "text/html": "<div>\n<style scoped>\n    .dataframe tbody tr th:only-of-type {\n        vertical-align: middle;\n    }\n\n    .dataframe tbody tr th {\n        vertical-align: top;\n    }\n\n    .dataframe thead th {\n        text-align: right;\n    }\n</style>\n<table border=\"1\" class=\"dataframe\">\n  <thead>\n    <tr style=\"text-align: right;\">\n      <th></th>\n      <th>Ensembl ID</th>\n      <th>HGNC symbol</th>\n      <th>DBD</th>\n      <th>Is TF?</th>\n      <th>TF assessment</th>\n      <th>Binding mode</th>\n      <th>Motif status</th>\n      <th>Final Notes</th>\n      <th>Final Comments</th>\n    </tr>\n  </thead>\n  <tbody>\n    <tr>\n      <th>912</th>\n      <td>ENSG00000214189</td>\n      <td>ZNF788</td>\n      <td>C2H2 ZF</td>\n      <td>Yes</td>\n      <td>Likely to be sequence specific TF</td>\n      <td>Monomer or homomultimer</td>\n      <td>No motif</td>\n      <td>None</td>\n      <td>Virtually nothing is known for this protein ex...</td>\n    </tr>\n    <tr>\n      <th>958</th>\n      <td>ENSG00000228623</td>\n      <td>ZNF883</td>\n      <td>C2H2 ZF</td>\n      <td>Yes</td>\n      <td>Known motif</td>\n      <td>Monomer or homomultimer</td>\n      <td>In vivo/Misc source</td>\n      <td>Only known motifs are from Transfac or HocoMoc...</td>\n      <td>None</td>\n    </tr>\n    <tr>\n      <th>1306</th>\n      <td>DUX1_HUMAN</td>\n      <td>DUX1</td>\n      <td>Homeodomain</td>\n      <td>Yes</td>\n      <td>Known motif</td>\n      <td>Monomer or homomultimer</td>\n      <td>In vivo/Misc source</td>\n      <td>Only known motifs are from Transfac or HocoMoc...</td>\n      <td>Not included in Ensembl. Binds GATCTGAGTCTAATT...</td>\n    </tr>\n    <tr>\n      <th>1307</th>\n      <td>DUX3_HUMAN</td>\n      <td>DUX3</td>\n      <td>Homeodomain</td>\n      <td>Yes</td>\n      <td>Known motif</td>\n      <td>Monomer or homomultimer</td>\n      <td>In vivo/Misc source</td>\n      <td>Only known motifs are from Transfac or HocoMoc...</td>\n      <td>Not included in Ensembl.</td>\n    </tr>\n  </tbody>\n</table>\n</div>",
        "text/plain": "           Ensembl ID HGNC symbol          DBD Is TF?  \\\n912   ENSG00000214189      ZNF788      C2H2 ZF    Yes   \n958   ENSG00000228623      ZNF883      C2H2 ZF    Yes   \n1306       DUX1_HUMAN        DUX1  Homeodomain    Yes   \n1307       DUX3_HUMAN        DUX3  Homeodomain    Yes   \n\n                          TF assessment             Binding mode  \\\n912   Likely to be sequence specific TF  Monomer or homomultimer   \n958                         Known motif  Monomer or homomultimer   \n1306                        Known motif  Monomer or homomultimer   \n1307                        Known motif  Monomer or homomultimer   \n\n             Motif status                                        Final Notes  \\\n912              No motif                                               None   \n958   In vivo/Misc source  Only known motifs are from Transfac or HocoMoc...   \n1306  In vivo/Misc source  Only known motifs are from Transfac or HocoMoc...   \n1307  In vivo/Misc source  Only known motifs are from Transfac or HocoMoc...   \n\n                                         Final Comments  \n912   Virtually nothing is known for this protein ex...  \n958                                                None  \n1306  Not included in Ensembl. Binds GATCTGAGTCTAATT...  \n1307                           Not included in Ensembl.  "
       },
       "execution_count": 73,
       "metadata": {},
       "output_type": "execute_result"
      }
     ],
     "persistentId": "a776e4c5-e4c3-4201-b737-71dbbb313bbd",
     "text": "true_tfs_not_in_ensembl97.iloc[:, :9]"
    },
    "executionTime": "2019-10-19T21:53:36.195Z"
   },
   {
    "cell": {
     "executionCount": 74,
     "executionEventId": "bca78a70-dd8c-43b8-83e9-d91594d51876",
     "hasError": false,
     "id": "54b150ba-aded-4c2b-9c41-2fa0e531038f",
     "outputs": [
      {
       "data": {
        "text/plain": "',Ensembl ID,HGNC symbol,DBD,Is TF?,TF assessment,Binding mode,Motif status,Final Notes,Final Comments\\n912,ENSG00000214189,ZNF788,C2H2 ZF,Yes,Likely to be sequence specific TF,Monomer or homomultimer,No motif,None,Virtually nothing is known for this protein except that it has a decent cassette of znfC2H2 domains\\n958,ENSG00000228623,ZNF883,C2H2 ZF,Yes,Known motif,Monomer or homomultimer,In vivo/Misc source,Only known motifs are from Transfac or HocoMoco - origin is uncertain,None\\n1306,DUX1_HUMAN,DUX1,Homeodomain,Yes,Known motif,Monomer or homomultimer,In vivo/Misc source,Only known motifs are from Transfac or HocoMoco - origin is uncertain,Not included in Ensembl. Binds GATCTGAGTCTAATTGAGAATTACTGTAC in EMSA (PMID: 9736770)\\n1307,DUX3_HUMAN,DUX3,Homeodomain,Yes,Known motif,Monomer or homomultimer,In vivo/Misc source,Only known motifs are from Transfac or HocoMoco - origin is uncertain,Not included in Ensembl.\\n'"
       },
       "execution_count": 74,
       "metadata": {},
       "output_type": "execute_result"
      }
     ],
     "persistentId": "a776e4c5-e4c3-4201-b737-71dbbb313bbd",
     "text": "true_tfs_not_in_ensembl97.iloc[:, :9].to_csv()"
    },
    "executionTime": "2019-10-19T21:53:42.736Z"
   },
   {
    "cell": {
     "executionCount": 75,
     "executionEventId": "0bacb88d-3988-4071-97d3-35f0df74554b",
     "hasError": false,
     "id": "54b150ba-aded-4c2b-9c41-2fa0e531038f",
     "outputs": [
      {
       "name": "stdout",
       "output_type": "stream",
       "text": ",Ensembl ID,HGNC symbol,DBD,Is TF?,TF assessment,Binding mode,Motif status,Final Notes,Final Comments\n912,ENSG00000214189,ZNF788,C2H2 ZF,Yes,Likely to be sequence specific TF,Monomer or homomultimer,No motif,None,Virtually nothing is known for this protein except that it has a decent cassette of znfC2H2 domains\n958,ENSG00000228623,ZNF883,C2H2 ZF,Yes,Known motif,Monomer or homomultimer,In vivo/Misc source,Only known motifs are from Transfac or HocoMoco - origin is uncertain,None\n1306,DUX1_HUMAN,DUX1,Homeodomain,Yes,Known motif,Monomer or homomultimer,In vivo/Misc source,Only known motifs are from Transfac or HocoMoco - origin is uncertain,Not included in Ensembl. Binds GATCTGAGTCTAATTGAGAATTACTGTAC in EMSA (PMID: 9736770)\n1307,DUX3_HUMAN,DUX3,Homeodomain,Yes,Known motif,Monomer or homomultimer,In vivo/Misc source,Only known motifs are from Transfac or HocoMoco - origin is uncertain,Not included in Ensembl.\n\n"
      }
     ],
     "persistentId": "a776e4c5-e4c3-4201-b737-71dbbb313bbd",
     "text": "print(true_tfs_not_in_ensembl97.iloc[:, :9].to_csv())"
    },
    "executionTime": "2019-10-19T21:53:46.522Z"
   },
   {
    "cell": {
     "executionCount": 76,
     "executionEventId": "18459a11-ed77-4936-bc08-2771b0d2627e",
     "hasError": false,
     "id": "54b150ba-aded-4c2b-9c41-2fa0e531038f",
     "outputs": [
      {
       "name": "stdout",
       "output_type": "stream",
       "text": "Ensembl ID,HGNC symbol,DBD,Is TF?,TF assessment,Binding mode,Motif status,Final Notes,Final Comments\nENSG00000214189,ZNF788,C2H2 ZF,Yes,Likely to be sequence specific TF,Monomer or homomultimer,No motif,None,Virtually nothing is known for this protein except that it has a decent cassette of znfC2H2 domains\nENSG00000228623,ZNF883,C2H2 ZF,Yes,Known motif,Monomer or homomultimer,In vivo/Misc source,Only known motifs are from Transfac or HocoMoco - origin is uncertain,None\nDUX1_HUMAN,DUX1,Homeodomain,Yes,Known motif,Monomer or homomultimer,In vivo/Misc source,Only known motifs are from Transfac or HocoMoco - origin is uncertain,Not included in Ensembl. Binds GATCTGAGTCTAATTGAGAATTACTGTAC in EMSA (PMID: 9736770)\nDUX3_HUMAN,DUX3,Homeodomain,Yes,Known motif,Monomer or homomultimer,In vivo/Misc source,Only known motifs are from Transfac or HocoMoco - origin is uncertain,Not included in Ensembl.\n\n"
      }
     ],
     "persistentId": "a776e4c5-e4c3-4201-b737-71dbbb313bbd",
     "text": "print(true_tfs_not_in_ensembl97.iloc[:, :9].to_csv(index=False))"
    },
    "executionTime": "2019-10-19T21:53:53.127Z"
   },
   {
    "cell": {
     "executionCount": 77,
     "executionEventId": "c5782e6c-ab44-4f94-a158-3b2fae648234",
     "hasError": false,
     "id": "54b150ba-aded-4c2b-9c41-2fa0e531038f",
     "outputs": [
      {
       "name": "stdout",
       "output_type": "stream",
       "text": "Ensembl ID,HGNC symbol,DBD,Is TF?,Final Comments\nENSG00000214189,ZNF788,C2H2 ZF,Yes,Virtually nothing is known for this protein except that it has a decent cassette of znfC2H2 domains\nENSG00000228623,ZNF883,C2H2 ZF,Yes,None\nDUX1_HUMAN,DUX1,Homeodomain,Yes,Not included in Ensembl. Binds GATCTGAGTCTAATTGAGAATTACTGTAC in EMSA (PMID: 9736770)\nDUX3_HUMAN,DUX3,Homeodomain,Yes,Not included in Ensembl.\n\n"
      }
     ],
     "persistentId": "a776e4c5-e4c3-4201-b737-71dbbb313bbd",
     "text": "print(true_tfs_not_in_ensembl97.loc[:, ['Ensembl ID', 'HGNC symbol','DBD', 'Is TF?', 'Final Comments']].to_csv(index=False))"
    },
    "executionTime": "2019-10-19T21:56:44.857Z"
   }
  ],
  "kernelspec": {
   "display_name": "Python [conda env:kmer-hashing]",
   "language": "python",
   "name": "conda-env-kmer-hashing-py"
  },
  "language_info": {
   "codemirror_mode": {
    "name": "ipython",
    "version": 3
   },
   "file_extension": ".py",
   "mimetype": "text/x-python",
   "name": "python",
   "nbconvert_exporter": "python",
   "pygments_lexer": "ipython3",
   "version": "3.6.8"
  },
  "uuid": "8edbb353-c1b2-4edf-9f74-9b8027e0238b"
 },
 "nbformat": 4,
 "nbformat_minor": 4
}
