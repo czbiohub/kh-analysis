{
 "cells": [
  {
   "cell_type": "code",
   "execution_count": 1,
   "metadata": {},
   "outputs": [
    {
     "name": "stdout",
     "output_type": "stream",
     "text": [
      "/mnt/pureScratch/olga/olgabot-maca/facs\n"
     ]
    }
   ],
   "source": [
    "cd /home/olga/pureScratch/olgabot-maca/facs/"
   ]
  },
  {
   "cell_type": "code",
   "execution_count": 107,
   "metadata": {},
   "outputs": [
    {
     "name": "stdout",
     "output_type": "stream",
     "text": [
      "The autoreload extension is already loaded. To reload it, use:\n",
      "  %reload_ext autoreload\n"
     ]
    }
   ],
   "source": [
    "import glob\n",
    "import itertools\n",
    "import math\n",
    "\n",
    "import numpy as np\n",
    "import scipy.sparse\n",
    "from umap.umap_ import smooth_knn_dist, compute_membership_strengths\n",
    "\n",
    "from umap.spectral import spectral_layout\n",
    "\n",
    "%load_ext autoreload\n",
    "%autoreload 2"
   ]
  },
  {
   "cell_type": "code",
   "execution_count": 3,
   "metadata": {},
   "outputs": [],
   "source": [
    "import sourmash"
   ]
  },
  {
   "cell_type": "code",
   "execution_count": 4,
   "metadata": {},
   "outputs": [
    {
     "data": {
      "text/plain": [
       "'/home/olga/code/sourmash/sourmash/__init__.py'"
      ]
     },
     "execution_count": 4,
     "metadata": {},
     "output_type": "execute_result"
    }
   ],
   "source": [
    "sourmash.__file__"
   ]
  },
  {
   "cell_type": "code",
   "execution_count": 5,
   "metadata": {},
   "outputs": [],
   "source": [
    "# from sourmash."
   ]
  },
  {
   "cell_type": "code",
   "execution_count": 6,
   "metadata": {},
   "outputs": [],
   "source": [
    "# Defaults from 'sourmash index'\n",
    "\n",
    "ksize = 21\n",
    "moltype = 'DNA'\n",
    "\n",
    "bf_size = 1e5\n",
    "n_children = 2\n",
    "scaled = False\n",
    "\n",
    "from sourmash import signature as sig\n",
    "from sourmash.sbt import Leaf\n",
    "from sourmash.sbtmh import SigLeaf, create_sbt_index\n",
    "from sourmash import sourmash_args\n",
    "from sourmash.logging import notify"
   ]
  },
  {
   "cell_type": "code",
   "execution_count": 7,
   "metadata": {},
   "outputs": [
    {
     "name": "stdout",
     "output_type": "stream",
     "text": [
      "len(signatures): 16\n"
     ]
    }
   ],
   "source": [
    "\n",
    "folder = '/home/olga/pureScratch/olgabot-maca/facs/sourmash/'\n",
    "\n",
    "signatures = glob.glob('/home/olga/pureScratch/olgabot-maca/facs/sourmash/A10-D*')\n",
    "print(f\"len(signatures): {len(signatures)}\")\n",
    "\n",
    "def build_sbt(signatures, ksize, moltype, scaled, bf_size=1e5, n_children=2):\n",
    "    tree = create_sbt_index(bf_size, n_children=n_children)\n",
    "\n",
    "    inp_files = sourmash_args.traverse_find_sigs(signatures)\n",
    "\n",
    "    n = 0\n",
    "    ksizes = set()\n",
    "    moltypes = set()\n",
    "    nums = set()\n",
    "    scaleds = set()\n",
    "\n",
    "    for filename in inp_files:\n",
    "        notify('loading {}', filename, end='\\r')\n",
    "        siglist = sig.load_signatures(filename,\n",
    "                                     ksize=ksize,\n",
    "                                     select_moltype=moltype)\n",
    "        siglist = list(siglist)\n",
    "        if not siglist:\n",
    "            notify('\\nwarning: no signatures loaded at given ksize/molecule type from {}', filename)\n",
    "\n",
    "        # load all matching signatures in this file\n",
    "        ss = None\n",
    "        for ss in siglist:\n",
    "            ksizes.add(ss.minhash.ksize)\n",
    "            moltypes.add(sourmash_args.get_moltype(ss))\n",
    "            nums.add(ss.minhash.num)\n",
    "\n",
    "            if scaled:\n",
    "                ss.minhash = ss.minhash.downsample_scaled(args.scaled)\n",
    "            scaleds.add(ss.minhash.scaled)\n",
    "\n",
    "            leaf = SigLeaf(ss.md5sum(), ss)\n",
    "            tree.add_node(leaf)\n",
    "            n += 1\n",
    "\n",
    "        if not ss:\n",
    "            continue\n",
    "\n",
    "        # check to make sure we aren't loading incompatible signatures\n",
    "        if len(ksizes) > 1 or len(moltypes) > 1:\n",
    "            error('multiple k-mer sizes or molecule types present; fail.')\n",
    "            error('specify --dna/--protein and --ksize as necessary')\n",
    "            error('ksizes: {}; moltypes: {}',\n",
    "                  \", \".join(map(str, ksizes)), \", \".join(moltypes))\n",
    "            sys.exit(-1)\n",
    "\n",
    "        if nums == { 0 } and len(scaleds) == 1:\n",
    "            pass # good\n",
    "        elif scaleds == { 0 } and len(nums) == 1:\n",
    "            pass # also good\n",
    "        else:\n",
    "            error('trying to build an SBT with incompatible signatures.')\n",
    "            error('nums = {}; scaleds = {}', repr(nums), repr(scaleds))\n",
    "            sys.exit(-1)\n",
    "            \n",
    "    return tree"
   ]
  },
  {
   "cell_type": "code",
   "execution_count": 8,
   "metadata": {},
   "outputs": [
    {
     "name": "stderr",
     "output_type": "stream",
     "text": [
      "\u001b[Kloading /home/olga/pureScratch/olgabot-maca/facs/sourmash/P9-MAA001884-3_38_F-1-1_S151.siggloading /home/olga/pureScratch/olgabot-maca/facs/sourmash/P10-D045058-3_39_F-1-1_S49.sig\r"
     ]
    },
    {
     "name": "stdout",
     "output_type": "stream",
     "text": [
      "CPU times: user 18min 19s, sys: 12.9 s, total: 18min 32s\n",
      "Wall time: 21min 21s\n"
     ]
    },
    {
     "name": "stderr",
     "output_type": "stream",
     "text": [
      "\u001b[Kloading /home/olga/pureScratch/olgabot-maca/facs/sourmash/P9-MAA001869-3_38_F-1-1_S207.sig\r"
     ]
    }
   ],
   "source": [
    "%time tree = build_sbt([folder], ksize=21, moltype=\"DNA\", scaled=False)"
   ]
  },
  {
   "cell_type": "code",
   "execution_count": 13,
   "metadata": {},
   "outputs": [
    {
     "name": "stderr",
     "output_type": "stream",
     "text": [
      "\u001b[K100623 of 100623 nodes saved\n",
      "Finished saving nodes, now saving SBT json file.\n"
     ]
    },
    {
     "name": "stdout",
     "output_type": "stream",
     "text": [
      "CPU times: user 2min 7s, sys: 39.9 s, total: 2min 47s\n",
      "Wall time: 7min 27s\n"
     ]
    },
    {
     "data": {
      "text/plain": [
       "'/home/olga/pureScratch/olgabot-maca/facs/tabula-muris-k21.sbt.json'"
      ]
     },
     "execution_count": 13,
     "metadata": {},
     "output_type": "execute_result"
    }
   ],
   "source": [
    "%time tree.save(\"/home/olga/pureScratch/olgabot-maca/facs/tabula-muris-k21.sbt.json\")"
   ]
  },
  {
   "cell_type": "code",
   "execution_count": null,
   "metadata": {},
   "outputs": [],
   "source": [
    "%%time\n",
    "\n",
    "# initialize search queue with top node of tree\n",
    "n_neighbors = 5\n",
    "n_parent_levels = math.log2(n_neighbors) + 1\n",
    "adjacencies = []\n",
    "matches = []\n",
    "visited, queue = set(), [0]\n",
    "\n",
    "ignore_abundance = False\n",
    "downsample = False\n",
    "\n",
    "def get_leaves_under(tree, node_position):\n",
    "    visited, queue = set(), [node_position]\n",
    "    leaves = []\n",
    "    \n",
    "    while queue:\n",
    "        position = queue.pop(0)\n",
    "        node = tree.nodes.get(position, None)\n",
    "        \n",
    "        if isinstance(node, Leaf):\n",
    "            leaves.append(node)\n",
    "        else:\n",
    "            queue.extend(c.pos for c in tree.children(position))\n",
    "    return leaves\n",
    "\n",
    "# while the queue is not empty, load each node and apply search\n",
    "# function.\n",
    "while queue:\n",
    "    position = queue.pop(0)\n",
    "    node = tree.nodes.get(position, None)\n",
    "    \n",
    "    # repair while searching.\n",
    "    if node is None:\n",
    "#         print(\"repairing...\")\n",
    "        if position in tree.missing_nodes:\n",
    "            tree._rebuild_node(node)\n",
    "            node = tree.nodes[position]\n",
    "        else:\n",
    "            continue\n",
    "            \n",
    "    # if we have not visited this node before,\n",
    "    if position not in visited:\n",
    "        visited.add(position)\n",
    "        \n",
    "    # Add \n",
    "    if isinstance(node, SigLeaf):\n",
    "#         print(node.data)\n",
    "        n = 1\n",
    "        upper_internal_node = tree.parent(position)\n",
    "        while n < n_parent_levels:\n",
    "            upper_internal_node = tree.parent(upper_internal_node.pos)\n",
    "            n += 1\n",
    "#         print(\"upper_internal_node:\", upper_internal_node)\n",
    "        leaves = get_leaves_under(tree, upper_internal_node.pos)\n",
    "\n",
    "        \n",
    "        similarities = []\n",
    "        for leaf in leaves:\n",
    "            # Ignore self-simililarity\n",
    "            if leaf == node:\n",
    "                continue\n",
    "#             print(leaf.data)\n",
    "            similarity = node.data.similarity(leaf.data, \n",
    "                                              ignore_abundance=ignore_abundance, \n",
    "                                              downsample=downsample)\n",
    "            similarities.append([node.data.name(), leaf.data.name(), similarity])\n",
    "        adjacent = sorted(similarities, key=lambda x: x[1])[-n_neighbors:]\n",
    "#         print(adjacent)\n",
    "        adjacencies.extend(adjacent)\n",
    "            \n",
    "#         break\n",
    "        \n",
    "    else:\n",
    "        queue.extend(c.pos for c in tree.children(position))\n",
    "    \n",
    "#     print(node)\n",
    "#     print(node.data)\n",
    "#     print()\n",
    "    visited.add(node)\n",
    "\n",
    "print(len(adjacencies))"
   ]
  },
  {
   "cell_type": "code",
   "execution_count": null,
   "metadata": {},
   "outputs": [],
   "source": [
    "# %%time\n",
    "\n",
    "# adjacencies = tree.nearest_neighbor_adjacencies(n_neighbors=5, ignore_abundance=True, \n",
    "#                                                 downsample=False)\n",
    "\n",
    "# print(\"len(adjacencies)\", len(adjacencies))\n",
    "# adjacencies[:10]"
   ]
  },
  {
   "cell_type": "code",
   "execution_count": 21,
   "metadata": {},
   "outputs": [],
   "source": [
    "# list(tree.leaves_under(37482))"
   ]
  },
  {
   "cell_type": "code",
   "execution_count": 31,
   "metadata": {},
   "outputs": [
    {
     "data": {
      "text/plain": [
       "100623"
      ]
     },
     "execution_count": 31,
     "metadata": {},
     "output_type": "execute_result"
    }
   ],
   "source": [
    "len(tree.nodes)"
   ]
  },
  {
   "cell_type": "code",
   "execution_count": 33,
   "metadata": {},
   "outputs": [],
   "source": [
    "\n",
    "from sourmash.sbt import Leaf"
   ]
  },
  {
   "cell_type": "code",
   "execution_count": 78,
   "metadata": {},
   "outputs": [
    {
     "data": {
      "text/plain": [
       "50312"
      ]
     },
     "execution_count": 78,
     "metadata": {},
     "output_type": "execute_result"
    }
   ],
   "source": [
    "def leaves(tree):\n",
    "    for i, node in tree.nodes.items():\n",
    "        if isinstance(node, SigLeaf) or instance(node, Leaf):\n",
    "            yield node\n",
    "        \n",
    "sum(1 for _ in leaves(tree))"
   ]
  },
  {
   "cell_type": "code",
   "execution_count": null,
   "metadata": {},
   "outputs": [],
   "source": []
  },
  {
   "cell_type": "code",
   "execution_count": 79,
   "metadata": {},
   "outputs": [
    {
     "data": {
      "text/plain": [
       "50312"
      ]
     },
     "execution_count": 79,
     "metadata": {},
     "output_type": "execute_result"
    }
   ],
   "source": [
    "leaf_to_index = dict((node.data.name(), i) for i, node in enumerate(leaves(tree)))\n",
    "index_to_leaf = dict(zip(leaf_to_index.values(), leaf_to_index.keys()))\n",
    "\n",
    "len(leaf_to_index)"
   ]
  },
  {
   "cell_type": "code",
   "execution_count": 80,
   "metadata": {},
   "outputs": [
    {
     "data": {
      "text/plain": [
       "50311"
      ]
     },
     "execution_count": 80,
     "metadata": {},
     "output_type": "execute_result"
    }
   ],
   "source": [
    "max(leaf_to_index.values())"
   ]
  },
  {
   "cell_type": "code",
   "execution_count": 43,
   "metadata": {},
   "outputs": [
    {
     "data": {
      "text/plain": [
       "[('A8-B002777-3_39_F-1-1_S59', 50311),\n",
       " ('I15-B001750-3_38_F-1-1_S220', 50312),\n",
       " ('D8-MAA000871-3_11_M-1-1_S63', 50313),\n",
       " ('I15-MAA000586-3_8_M-1-1_S260', 50314),\n",
       " ('B7-MAA001857-3_38_F-1-1_S124', 50315),\n",
       " ('I15-MAA000590-3_9_M-1-1_S203', 50316),\n",
       " ('D9-B000826-3_39_F-1-1_S242', 50317),\n",
       " ('I15-MAA000439-3_10_M-1-1_S146', 50318),\n",
       " ('A19-D041904-3_10_M-1-1_S157', 50319),\n",
       " ('I15-MAA000409-3_10_M-1-1_S282', 50320)]"
      ]
     },
     "execution_count": 43,
     "metadata": {},
     "output_type": "execute_result"
    }
   ],
   "source": [
    "list(leaf_to_index.items())[:10]"
   ]
  },
  {
   "cell_type": "code",
   "execution_count": null,
   "metadata": {},
   "outputs": [],
   "source": []
  },
  {
   "cell_type": "markdown",
   "metadata": {},
   "source": [
    "## Build UMAP on adjacencies\n",
    "\n",
    "- [umap's nearest neighbors](https://github.com/lmcinnes/umap/blob/834184f9c0455f26db13ab148c0abd2d3767d968//umap/umap_.py#L159:5)\n",
    "- [UMAP's transform](https://github.com/lmcinnes/umap/blob/master/umap/umap_.py#L1427)\n",
    "\n",
    "How [UMAP does it internally when the metric is precomputed](https://github.com/lmcinnes/umap/blob/master//umap/umap_.py#L200):\n",
    "\n",
    "```python\n",
    "    if metric == \"precomputed\":\n",
    "        # Note that this does not support sparse distance matrices yet ...\n",
    "        # Compute indices of n nearest neighbors\n",
    "        knn_indices = np.argsort(X)[:, :n_neighbors]\n",
    "        # Compute the nearest neighbor distances\n",
    "        #   (equivalent to np.sort(X)[:,:n_neighbors])\n",
    "        knn_dists = X[np.arange(X.shape[0])[:, None], knn_indices].copy()\n",
    "```"
   ]
  },
  {
   "cell_type": "code",
   "execution_count": 81,
   "metadata": {},
   "outputs": [
    {
     "name": "stdout",
     "output_type": "stream",
     "text": [
      "knn_indices: [[50307, 50305, 50297, 50301, 50303], [50307, 50305, 50297, 50301, 50303]]\n",
      "knn_dists: [[0.8980427004179393, 0.9599218185483611, 0.9839423609219159, 0.9990180328504167, 0.979380403003595], [0.9628889870576949, 0.4797842985273033, 0.48082970657557933, 0.9834741500789255, 0.5998726152045757]]\n"
     ]
    }
   ],
   "source": [
    "knn_indices = []\n",
    "knn_dists = []\n",
    "\n",
    "for u, items in itertools.groupby(adjacencies[:10], key=lambda x: x[0]):\n",
    "    knn_indices_line = []\n",
    "    knn_dists_line = []\n",
    "    for u, v, similarity in items:\n",
    "        knn_indices_line.append(leaf_to_index[v])\n",
    "        knn_dists_line.append(1-similarity)\n",
    "    knn_indices.append(knn_indices_line)\n",
    "    knn_dists.append(knn_dists_line)\n",
    "print(f\"knn_indices: {knn_indices}\")\n",
    "print(f\"knn_dists: {knn_dists}\")"
   ]
  },
  {
   "cell_type": "code",
   "execution_count": 83,
   "metadata": {},
   "outputs": [
    {
     "name": "stdout",
     "output_type": "stream",
     "text": [
      "knn_indices: [[50307, 50305, 50297, 50301, 50303], [50309, 50307, 50305, 50297, 50301], [50307, 50305, 50297, 50301, 50303], [50309, 50307, 50297, 50301, 50303], [50307, 50305, 50297, 50301, 50303], [50309, 50305, 50297, 50301, 50303], [50307, 50305, 50297, 50301, 50303], [50307, 50305, 50297, 50301, 50303], [50307, 50305, 50297, 50301, 50303], [50307, 50305, 50297, 50301, 50303]]\n",
      "knn_dists: [[0.9778139394407598, 0.5865537452356665, 0.5916232897670664, 0.98692031043282, 0.682226850530286], [0.5300652108409426, 0.9920402425804716, 0.6772386593777987, 0.660234167482528, 0.9887831152269003], [0.9781602437008845, 0.5478392578407241, 0.5322415135173466, 0.985198052660397, 0.6666717421966621], [0.6641045046439364, 0.9789997887267935, 0.4498235089138267, 0.9848128448550353, 0.6772386593777987], [0.9723907241140146, 0.7921952958910957, 0.7887829664318484, 0.9927943425894896, 0.8339212803609773], [0.9999661326169812, 0.9789997887267935, 0.9765970894122245, 0.9993956385880218, 0.9920402425804716], [0.971202502818202, 0.9872194558721272, 0.9943507081419497, 0.999447085711627, 0.9865978297683592], [0.9999661326169812, 0.6641045046439364, 0.6410900746504026, 0.9881750683404811, 0.5300652108409426], [0.9919337405130148, 0.4823480405742884, 0.41169403123366577, 0.9835492126780758, 0.6637059504705093], [0.9593906861217201, 0.6166316530834255, 0.5166653787957415, 0.9851138861829171, 0.7651702591206534]]\n"
     ]
    }
   ],
   "source": [
    "knn_indices = []\n",
    "knn_dists = []\n",
    "\n",
    "for u, items in itertools.groupby(adjacencies, key=lambda x: x[0]):\n",
    "    knn_indices_line = []\n",
    "    knn_dists_line = []\n",
    "    for u, v, similarity in items:\n",
    "        knn_indices_line.append(leaf_to_index[v])\n",
    "        knn_dists_line.append(1-similarity)\n",
    "    knn_indices.append(knn_indices_line)\n",
    "    knn_dists.append(knn_dists_line)\n",
    "print(f\"knn_indices: {knn_indices[-10:]}\")\n",
    "print(f\"knn_dists: {knn_dists[-10:]}\")"
   ]
  },
  {
   "cell_type": "code",
   "execution_count": 84,
   "metadata": {},
   "outputs": [],
   "source": [
    "knn_dists_np = np.array(knn_dists)\n",
    "knn_indices_np = np.array(knn_indices)"
   ]
  },
  {
   "cell_type": "code",
   "execution_count": null,
   "metadata": {},
   "outputs": [],
   "source": []
  },
  {
   "cell_type": "markdown",
   "metadata": {},
   "source": [
    "### Fuzzy Simplicial Set\n",
    "\n",
    "\n",
    "\n",
    "Called within [`UMAP.fit`](https://github.com/lmcinnes/umap/blob/master//umap/umap_.py#L1437):\n",
    "\n",
    "```python\n",
    "graph_ = fuzzy_simplicial_set(\n",
    "                X,\n",
    "                self.n_neighbors,\n",
    "                random_state,\n",
    "                self.metric,\n",
    "                self._metric_kwds,\n",
    "                self._knn_indices,\n",
    "                self._knn_dists,\n",
    "                self.angular_rp_forest,\n",
    "                self.set_op_mix_ratio,\n",
    "                self.local_connectivity,\n",
    "                self.verbose,\n",
    "            )\n",
    "```\n",
    "\n",
    "[`fuzzy_simplicial_set` from `umap-learn`](https://github.com/lmcinnes/umap/blob/master//umap/umap_.py#L474)\n",
    "\n",
    "\n",
    "```python\n",
    "    if knn_indices is None or knn_dists is None:\n",
    "        knn_indices, knn_dists, _ = nearest_neighbors(\n",
    "            X, n_neighbors, metric, metric_kwds, angular, random_state, verbose=verbose\n",
    "        )\n",
    "\n",
    "    sigmas, rhos = smooth_knn_dist(\n",
    "        knn_dists, n_neighbors, local_connectivity=local_connectivity\n",
    "    )\n",
    "\n",
    "    rows, cols, vals = compute_membership_strengths(\n",
    "        knn_indices, knn_dists, sigmas, rhos\n",
    "    )\n",
    "\n",
    "    result = scipy.sparse.coo_matrix(\n",
    "        (vals, (rows, cols)), shape=(X.shape[0], X.shape[0])\n",
    "    )\n",
    "    result.eliminate_zeros()\n",
    "\n",
    "    transpose = result.transpose()\n",
    "\n",
    "    prod_matrix = result.multiply(transpose)\n",
    "\n",
    "    result = (\n",
    "        set_op_mix_ratio * (result + transpose - prod_matrix)\n",
    "        + (1.0 - set_op_mix_ratio) * prod_matrix\n",
    "    )\n",
    "\n",
    "    result.eliminate_zeros()\n",
    "\n",
    "    return result\n",
    "```"
   ]
  },
  {
   "cell_type": "code",
   "execution_count": null,
   "metadata": {},
   "outputs": [],
   "source": [
    "knn_dists_np.shape"
   ]
  },
  {
   "cell_type": "code",
   "execution_count": null,
   "metadata": {},
   "outputs": [],
   "source": [
    "n_components"
   ]
  },
  {
   "cell_type": "code",
   "execution_count": 86,
   "metadata": {},
   "outputs": [
    {
     "data": {
      "text/plain": [
       "(50312, 5)"
      ]
     },
     "execution_count": 86,
     "metadata": {},
     "output_type": "execute_result"
    }
   ],
   "source": [
    "knn_dists_np.shape"
   ]
  },
  {
   "cell_type": "code",
   "execution_count": 87,
   "metadata": {},
   "outputs": [
    {
     "data": {
      "text/plain": [
       "(50312, 5)"
      ]
     },
     "execution_count": 87,
     "metadata": {},
     "output_type": "execute_result"
    }
   ],
   "source": [
    "knn_indices_np.shape"
   ]
  },
  {
   "cell_type": "code",
   "execution_count": 88,
   "metadata": {},
   "outputs": [
    {
     "data": {
      "text/plain": [
       "50309"
      ]
     },
     "execution_count": 88,
     "metadata": {},
     "output_type": "execute_result"
    }
   ],
   "source": [
    "knn_indices_np.max()"
   ]
  },
  {
   "cell_type": "code",
   "execution_count": 99,
   "metadata": {},
   "outputs": [],
   "source": [
    "# Default in UMAP\n",
    "# https://github.com/lmcinnes/umap/blob/master///umap/umap_.py#L1246\n",
    "local_connectivity = 1\n",
    "set_op_mix_ratio = 1\n",
    "\n",
    "sigmas, rhos = smooth_knn_dist(\n",
    "        knn_dists_np, n_neighbors, local_connectivity=local_connectivity\n",
    "    )\n",
    "\n",
    "rows, cols, vals = compute_membership_strengths(\n",
    "        knn_indices_np, knn_dists_np, sigmas, rhos\n",
    "    )\n",
    "\n",
    "result = scipy.sparse.coo_matrix(\n",
    "        (vals, (rows, cols)), shape=(knn_dists_np.shape[0], knn_dists_np.shape[0])\n",
    "    )\n",
    "result.eliminate_zeros()\n",
    "\n",
    "transpose = result.transpose()\n",
    "\n",
    "prod_matrix = result.multiply(transpose)\n",
    "\n",
    "result = (\n",
    "    set_op_mix_ratio * (result + transpose - prod_matrix)\n",
    "    + (1.0 - set_op_mix_ratio) * prod_matrix\n",
    ")\n",
    "\n",
    "result.eliminate_zeros()\n",
    "\n",
    "\n",
    "graph_ = result"
   ]
  },
  {
   "cell_type": "code",
   "execution_count": 93,
   "metadata": {},
   "outputs": [
    {
     "data": {
      "text/plain": [
       "50312"
      ]
     },
     "execution_count": 93,
     "metadata": {},
     "output_type": "execute_result"
    }
   ],
   "source": [
    "n_samples = knn_dists_np.shape[0]\n",
    "n_samples"
   ]
  },
  {
   "cell_type": "code",
   "execution_count": 95,
   "metadata": {},
   "outputs": [],
   "source": [
    "_search_graph = scipy.sparse.lil_matrix(\n",
    "    (n_samples, n_samples), dtype=np.int8\n",
    ")\n",
    "_search_graph.rows = knn_indices_np\n",
    "_search_graph.data = (knn_dists_np != 0).astype(np.int8)\n",
    "_search_graph = _search_graph.maximum(\n",
    "    _search_graph.transpose()\n",
    ").tocsr()"
   ]
  },
  {
   "cell_type": "markdown",
   "metadata": {},
   "source": [
    "#### Don't need any of the below because metric is precomputed"
   ]
  },
  {
   "cell_type": "code",
   "execution_count": 96,
   "metadata": {},
   "outputs": [],
   "source": [
    "# if callable(self.metric):\n",
    "#     self._distance_func = self.metric\n",
    "# elif self.metric in dist.named_distances:\n",
    "#     self._distance_func = dist.named_distances[self.metric]\n",
    "# elif self.metric == \"precomputed\":\n",
    "#     warn(\n",
    "#         \"Using precomputed metric; transform will be unavailable for new data\"\n",
    "#     )\n",
    "# else:\n",
    "#     raise ValueError(\n",
    "#         \"Metric is neither callable, \" + \"nor a recognised string\"\n",
    "#     )\n",
    "\n",
    "# if self.metric != \"precomputed\":\n",
    "#     self._dist_args = tuple(self._metric_kwds.values())\n",
    "\n",
    "#     self._random_init, self._tree_init = make_initialisations(\n",
    "#         self._distance_func, self._dist_args\n",
    "#     )\n",
    "#     self._search = make_initialized_nnd_search(\n",
    "#         self._distance_func, self._dist_args\n",
    "#     )"
   ]
  },
  {
   "cell_type": "markdown",
   "metadata": {},
   "source": [
    "## Actually do the embedding\n",
    "\n",
    "n_epochs = None\n",
    "\n",
    "```python\n",
    "embedding_ = simplicial_set_embedding(\n",
    "    self._raw_data,\n",
    "    self.graph_,\n",
    "    self.n_components,\n",
    "    self._initial_alpha,\n",
    "    self._a,\n",
    "    self._b,\n",
    "    self.repulsion_strength,\n",
    "    self.negative_sample_rate,\n",
    "    n_epochs,\n",
    "    init,\n",
    "    random_state,\n",
    "    self.metric,\n",
    "    self._metric_kwds,\n",
    "    self.verbose,\n",
    ")\n",
    "```\n",
    "\n",
    "\n",
    "Calls [simplicial_set_embedding](https://github.com/lmcinnes/umap/blob/master//umap/umap_.py#L857)"
   ]
  },
  {
   "cell_type": "code",
   "execution_count": 103,
   "metadata": {},
   "outputs": [
    {
     "data": {
      "text/plain": [
       "200"
      ]
     },
     "execution_count": 103,
     "metadata": {},
     "output_type": "execute_result"
    }
   ],
   "source": [
    "n_epochs = 0\n",
    "\n",
    "graph = graph_.tocoo()\n",
    "graph.sum_duplicates()\n",
    "n_vertices = graph.shape[1]\n",
    "\n",
    "if n_epochs <= 0:\n",
    "    # For smaller datasets we can use more epochs\n",
    "    if graph.shape[0] <= 10000:\n",
    "        n_epochs = 500\n",
    "    else:\n",
    "        n_epochs = 200\n",
    "n_epochs"
   ]
  },
  {
   "cell_type": "code",
   "execution_count": 104,
   "metadata": {},
   "outputs": [],
   "source": [
    "graph.data[graph.data < (graph.data.max() / float(n_epochs))] = 0.0\n",
    "graph.eliminate_zeros()"
   ]
  },
  {
   "cell_type": "markdown",
   "metadata": {},
   "source": [
    "[Default initialization is \"spectral\"](https://github.com/lmcinnes/umap/blob/master//umap/umap_.py#L1242)"
   ]
  },
  {
   "cell_type": "code",
   "execution_count": 105,
   "metadata": {},
   "outputs": [],
   "source": [
    "\n",
    "init = \"spectral\""
   ]
  },
  {
   "cell_type": "code",
   "execution_count": 108,
   "metadata": {},
   "outputs": [],
   "source": [
    "# We add a little noise to avoid local minima for optimization to come\n",
    "initialisation = spectral_layout(\n",
    "    data,\n",
    "    graph,\n",
    "    n_components,\n",
    "    random_state,\n",
    "    metric=metric,\n",
    "    metric_kwds=metric_kwds,\n",
    ")"
   ]
  },
  {
   "cell_type": "markdown",
   "metadata": {},
   "source": [
    "### Witihin [spectral_layout](https://github.com/lmcinnes/umap/blob/master///umap/spectral.py#L199)"
   ]
  },
  {
   "cell_type": "code",
   "execution_count": 110,
   "metadata": {},
   "outputs": [
    {
     "data": {
      "text/plain": [
       "3144"
      ]
     },
     "execution_count": 110,
     "metadata": {},
     "output_type": "execute_result"
    }
   ],
   "source": [
    "n_samples = graph.shape[0]\n",
    "n_components, labels = scipy.sparse.csgraph.connected_components(graph)\n",
    "n_components"
   ]
  },
  {
   "cell_type": "markdown",
   "metadata": {},
   "source": [
    "### if `n_components > 1`: [call `multi_component_layout`](https://github.com/lmcinnes/umap/blob/master////umap/spectral.py#L65)\n",
    "\n",
    "\n",
    "```python\n",
    "    if n_components > 1:\n",
    "        warn(\n",
    "            \"Embedding a total of {} separate connected components using meta-embedding (experimental)\".format(\n",
    "                n_components\n",
    "            )\n",
    "        )\n",
    "        return multi_component_layout(\n",
    "            data,\n",
    "            graph,\n",
    "            n_components,\n",
    "            labels,\n",
    "            dim,\n",
    "            random_state,\n",
    "            metric=metric,\n",
    "            metric_kwds=metric_kwds,\n",
    "        )\n",
    "```"
   ]
  },
  {
   "cell_type": "code",
   "execution_count": 120,
   "metadata": {},
   "outputs": [
    {
     "data": {
      "text/plain": [
       "2"
      ]
     },
     "execution_count": 120,
     "metadata": {},
     "output_type": "execute_result"
    }
   ],
   "source": [
    "dim = 2\n",
    "dim"
   ]
  },
  {
   "cell_type": "code",
   "execution_count": null,
   "metadata": {},
   "outputs": [],
   "source": [
    "n_components"
   ]
  },
  {
   "cell_type": "code",
   "execution_count": 115,
   "metadata": {},
   "outputs": [],
   "source": [
    "result = np.empty((graph.shape[0], dim), dtype=np.float32)"
   ]
  },
  {
   "cell_type": "markdown",
   "metadata": {},
   "source": [
    "### If lots and lots of components...\n",
    "\n",
    "```python\n",
    "if n_components > 2 * dim:\n",
    "    meta_embedding = component_layout(\n",
    "        data,\n",
    "        n_components,\n",
    "        component_labels,\n",
    "        dim,\n",
    "        metric=metric,\n",
    "        metric_kwds=metric_kwds,\n",
    "    )\n",
    "```"
   ]
  },
  {
   "cell_type": "code",
   "execution_count": null,
   "metadata": {},
   "outputs": [],
   "source": []
  },
  {
   "cell_type": "markdown",
   "metadata": {},
   "source": [
    "### [Within `component_layout`](https://github.com/lmcinnes/umap/blob/master/////umap/spectral.py#L11:5)\n",
    "\n",
    "\n"
   ]
  },
  {
   "cell_type": "code",
   "execution_count": 121,
   "metadata": {},
   "outputs": [
    {
     "data": {
      "text/plain": [
       "(50312, 50312)"
      ]
     },
     "execution_count": 121,
     "metadata": {},
     "output_type": "execute_result"
    }
   ],
   "source": [
    "graph.shape"
   ]
  },
  {
   "cell_type": "code",
   "execution_count": null,
   "metadata": {},
   "outputs": [],
   "source": [
    "index_to_leaf = dict(zip(leaf_to_index.values(), leaf_to_index.keys()))"
   ]
  },
  {
   "cell_type": "code",
   "execution_count": null,
   "metadata": {},
   "outputs": [],
   "source": [
    "for i, label in zip(range(2), range(n_components)):\n",
    "    "
   ]
  },
  {
   "cell_type": "code",
   "execution_count": null,
   "metadata": {},
   "outputs": [],
   "source": [
    "def component_layout(sbt, n_features, n_components, component_labels, dim):\n",
    "    component_centroids = np.empty((n_components, data.shape[1]), dtype=np.float64)\n",
    "    \n"
   ]
  },
  {
   "cell_type": "code",
   "execution_count": null,
   "metadata": {},
   "outputs": [],
   "source": []
  },
  {
   "cell_type": "markdown",
   "metadata": {},
   "source": [
    "## Let's just do random embedding for now"
   ]
  },
  {
   "cell_type": "code",
   "execution_count": null,
   "metadata": {},
   "outputs": [],
   "source": [
    "embedding = random_state.uniform(\n",
    "    low=-10.0, high=10.0, size=(graph.shape[0], n_components)\n",
    ").astype(np.float32)"
   ]
  },
  {
   "cell_type": "code",
   "execution_count": 111,
   "metadata": {},
   "outputs": [
    {
     "ename": "NameError",
     "evalue": "name 'initialisation' is not defined",
     "output_type": "error",
     "traceback": [
      "\u001b[0;31m---------------------------------------------------------------------------\u001b[0m",
      "\u001b[0;31mNameError\u001b[0m                                 Traceback (most recent call last)",
      "\u001b[0;32m<ipython-input-111-eabdfef887f9>\u001b[0m in \u001b[0;36m<module>\u001b[0;34m\u001b[0m\n\u001b[0;32m----> 1\u001b[0;31m \u001b[0mexpansion\u001b[0m \u001b[0;34m=\u001b[0m \u001b[0;36m10.0\u001b[0m \u001b[0;34m/\u001b[0m \u001b[0mnp\u001b[0m\u001b[0;34m.\u001b[0m\u001b[0mabs\u001b[0m\u001b[0;34m(\u001b[0m\u001b[0minitialisation\u001b[0m\u001b[0;34m)\u001b[0m\u001b[0;34m.\u001b[0m\u001b[0mmax\u001b[0m\u001b[0;34m(\u001b[0m\u001b[0;34m)\u001b[0m\u001b[0;34m\u001b[0m\u001b[0;34m\u001b[0m\u001b[0m\n\u001b[0m\u001b[1;32m      2\u001b[0m embedding = (initialisation * expansion).astype(\n\u001b[1;32m      3\u001b[0m     \u001b[0mnp\u001b[0m\u001b[0;34m.\u001b[0m\u001b[0mfloat32\u001b[0m\u001b[0;34m\u001b[0m\u001b[0;34m\u001b[0m\u001b[0m\n\u001b[1;32m      4\u001b[0m \u001b[0;34m)\u001b[0m \u001b[0;34m+\u001b[0m \u001b[0mrandom_state\u001b[0m\u001b[0;34m.\u001b[0m\u001b[0mnormal\u001b[0m\u001b[0;34m(\u001b[0m\u001b[0;34m\u001b[0m\u001b[0;34m\u001b[0m\u001b[0m\n\u001b[1;32m      5\u001b[0m     \u001b[0mscale\u001b[0m\u001b[0;34m=\u001b[0m\u001b[0;36m0.0001\u001b[0m\u001b[0;34m,\u001b[0m \u001b[0msize\u001b[0m\u001b[0;34m=\u001b[0m\u001b[0;34m[\u001b[0m\u001b[0mgraph\u001b[0m\u001b[0;34m.\u001b[0m\u001b[0mshape\u001b[0m\u001b[0;34m[\u001b[0m\u001b[0;36m0\u001b[0m\u001b[0;34m]\u001b[0m\u001b[0;34m,\u001b[0m \u001b[0mn_components\u001b[0m\u001b[0;34m]\u001b[0m\u001b[0;34m\u001b[0m\u001b[0;34m\u001b[0m\u001b[0m\n",
      "\u001b[0;31mNameError\u001b[0m: name 'initialisation' is not defined"
     ]
    }
   ],
   "source": [
    "expansion = 10.0 / np.abs(initialisation).max()\n",
    "embedding = (initialisation * expansion).astype(\n",
    "    np.float32\n",
    ") + random_state.normal(\n",
    "    scale=0.0001, size=[graph.shape[0], n_components]\n",
    ").astype(\n",
    "    np.float32\n",
    ")\n",
    "\n",
    "\n",
    "epochs_per_sample = make_epochs_per_sample(graph.data, n_epochs)\n",
    "\n",
    "head = graph.row\n",
    "tail = graph.col\n",
    "\n",
    "rng_state = random_state.randint(INT32_MIN, INT32_MAX, 3).astype(np.int64)\n",
    "embedding = optimize_layout(\n",
    "    embedding,\n",
    "    embedding,\n",
    "    head,\n",
    "    tail,\n",
    "    n_epochs,\n",
    "    n_vertices,\n",
    "    epochs_per_sample,\n",
    "    a,\n",
    "    b,\n",
    "    rng_state,\n",
    "    gamma,\n",
    "    initial_alpha,\n",
    "    negative_sample_rate,\n",
    "    verbose=verbose,\n",
    ")"
   ]
  },
  {
   "cell_type": "code",
   "execution_count": null,
   "metadata": {},
   "outputs": [],
   "source": []
  },
  {
   "cell_type": "code",
   "execution_count": 50,
   "metadata": {},
   "outputs": [
    {
     "data": {
      "text/plain": [
       "[[], []]"
      ]
     },
     "execution_count": 50,
     "metadata": {},
     "output_type": "execute_result"
    }
   ],
   "source": [
    "knn_dists"
   ]
  },
  {
   "cell_type": "code",
   "execution_count": null,
   "metadata": {},
   "outputs": [],
   "source": []
  },
  {
   "cell_type": "code",
   "execution_count": 38,
   "metadata": {},
   "outputs": [
    {
     "data": {
      "text/plain": [
       "True"
      ]
     },
     "execution_count": 38,
     "metadata": {},
     "output_type": "execute_result"
    }
   ],
   "source": [
    "isinstance(node, SigLeaf)"
   ]
  },
  {
   "cell_type": "code",
   "execution_count": 22,
   "metadata": {},
   "outputs": [
    {
     "data": {
      "text/plain": [
       "251560"
      ]
     },
     "execution_count": 22,
     "metadata": {},
     "output_type": "execute_result"
    }
   ],
   "source": [
    "len(adjacencies)"
   ]
  },
  {
   "cell_type": "code",
   "execution_count": 23,
   "metadata": {},
   "outputs": [
    {
     "data": {
      "text/plain": [
       "100623"
      ]
     },
     "execution_count": 23,
     "metadata": {},
     "output_type": "execute_result"
    }
   ],
   "source": [
    "len(tree.nodes)"
   ]
  },
  {
   "cell_type": "code",
   "execution_count": 26,
   "metadata": {},
   "outputs": [
    {
     "data": {
      "text/plain": [
       "array([[7, 0, 1, 2, 8],\n",
       "       [4, 9, 6, 0, 1],\n",
       "       [8, 4, 9, 2, 5],\n",
       "       [6, 4, 2, 1, 0],\n",
       "       [1, 0, 8, 4, 2],\n",
       "       [8, 9, 0, 5, 2],\n",
       "       [1, 2, 9, 0, 3],\n",
       "       [4, 0, 6, 3, 2],\n",
       "       [5, 9, 0, 7, 6],\n",
       "       [8, 0, 2, 4, 1]])"
      ]
     },
     "execution_count": 26,
     "metadata": {},
     "output_type": "execute_result"
    }
   ],
   "source": [
    "X = np.random.randn(100).reshape(10, 10)\n",
    "\n",
    "np.argsort(X)[:, :n_neighbors]"
   ]
  },
  {
   "cell_type": "code",
   "execution_count": null,
   "metadata": {},
   "outputs": [],
   "source": []
  },
  {
   "cell_type": "code",
   "execution_count": null,
   "metadata": {},
   "outputs": [],
   "source": [
    "knn"
   ]
  },
  {
   "cell_type": "code",
   "execution_count": null,
   "metadata": {},
   "outputs": [],
   "source": [
    "knn_indices = np.argsort(X)[:, :n_neighbors]\n",
    "# Compute the nearest neighbor distances\n",
    "#   (equivalent to np.sort(X)[:,:n_neighbors])\n",
    "knn_dists = X[np.arange(X.shape[0])[:, None], knn_indices].copy()\n",
    "\n",
    "rp_forest = []"
   ]
  },
  {
   "cell_type": "code",
   "execution_count": 11,
   "metadata": {},
   "outputs": [
    {
     "ename": "NameError",
     "evalue": "name 'adjacencies' is not defined",
     "output_type": "error",
     "traceback": [
      "\u001b[0;31m---------------------------------------------------------------------------\u001b[0m",
      "\u001b[0;31mNameError\u001b[0m                                 Traceback (most recent call last)",
      "\u001b[0;32m<ipython-input-11-008f044d6072>\u001b[0m in \u001b[0;36m<module>\u001b[0;34m\u001b[0m\n\u001b[0;32m----> 1\u001b[0;31m \u001b[0mlen\u001b[0m\u001b[0;34m(\u001b[0m\u001b[0madjacencies\u001b[0m\u001b[0;34m)\u001b[0m\u001b[0;34m\u001b[0m\u001b[0;34m\u001b[0m\u001b[0m\n\u001b[0m",
      "\u001b[0;31mNameError\u001b[0m: name 'adjacencies' is not defined"
     ]
    }
   ],
   "source": [
    "len(adjacencies)"
   ]
  },
  {
   "cell_type": "code",
   "execution_count": 26,
   "metadata": {},
   "outputs": [
    {
     "data": {
      "text/plain": [
       "[]"
      ]
     },
     "execution_count": 26,
     "metadata": {},
     "output_type": "execute_result"
    }
   ],
   "source": [
    "adjacencies[:10]"
   ]
  },
  {
   "cell_type": "code",
   "execution_count": 20,
   "metadata": {},
   "outputs": [
    {
     "data": {
      "text/plain": [
       "[['A8-B002777-3_39_F-1-1_S59', 'P9-MAA001884-3_38_F-1-1_S151', 0.04],\n",
       " ['A8-B002777-3_39_F-1-1_S59', 'P9-MAA001888-3_39_F-1-1_S244', 0.044],\n",
       " ['A8-B002777-3_39_F-1-1_S59', 'P9-MAA001889-3_38_F-1-1_S151', 0.028],\n",
       " ['A8-B002777-3_39_F-1-1_S59', 'P9-MAA001892-3_38_F-1-1_S225', 0.034],\n",
       " ['A8-B002777-3_39_F-1-1_S59', 'P9-MAA001894-3_39_F-1-1_S35', 0.034],\n",
       " ['I15-B001750-3_38_F-1-1_S220', 'P9-MAA001884-3_38_F-1-1_S151', 0.042],\n",
       " ['I15-B001750-3_38_F-1-1_S220', 'P9-MAA001888-3_39_F-1-1_S244', 0.04],\n",
       " ['I15-B001750-3_38_F-1-1_S220', 'P9-MAA001889-3_38_F-1-1_S151', 0.042],\n",
       " ['I15-B001750-3_38_F-1-1_S220', 'P9-MAA001892-3_38_F-1-1_S225', 0.044],\n",
       " ['I15-B001750-3_38_F-1-1_S220', 'P9-MAA001894-3_39_F-1-1_S35', 0.028],\n",
       " ['D8-MAA000871-3_11_M-1-1_S63', 'P9-MAA001884-3_38_F-1-1_S151', 0.048],\n",
       " ['D8-MAA000871-3_11_M-1-1_S63', 'P9-MAA001888-3_39_F-1-1_S244', 0.036],\n",
       " ['D8-MAA000871-3_11_M-1-1_S63', 'P9-MAA001889-3_38_F-1-1_S151', 0.02],\n",
       " ['D8-MAA000871-3_11_M-1-1_S63', 'P9-MAA001892-3_38_F-1-1_S225', 0.034],\n",
       " ['D8-MAA000871-3_11_M-1-1_S63', 'P9-MAA001894-3_39_F-1-1_S35', 0.028],\n",
       " ['I15-MAA000586-3_8_M-1-1_S260', 'P9-MAA001884-3_38_F-1-1_S151', 0.028],\n",
       " ['I15-MAA000586-3_8_M-1-1_S260', 'P9-MAA001888-3_39_F-1-1_S244', 0.028],\n",
       " ['I15-MAA000586-3_8_M-1-1_S260', 'P9-MAA001889-3_38_F-1-1_S151', 0.018],\n",
       " ['I15-MAA000586-3_8_M-1-1_S260', 'P9-MAA001892-3_38_F-1-1_S225', 0.04],\n",
       " ['I15-MAA000586-3_8_M-1-1_S260', 'P9-MAA001894-3_39_F-1-1_S35', 0.04],\n",
       " ['B7-MAA001857-3_38_F-1-1_S124', 'P9-MAA001884-3_38_F-1-1_S151', 0.028],\n",
       " ['B7-MAA001857-3_38_F-1-1_S124', 'P9-MAA001888-3_39_F-1-1_S244', 0.032],\n",
       " ['B7-MAA001857-3_38_F-1-1_S124', 'P9-MAA001889-3_38_F-1-1_S151', 0.026],\n",
       " ['B7-MAA001857-3_38_F-1-1_S124', 'P9-MAA001892-3_38_F-1-1_S225', 0.036],\n",
       " ['B7-MAA001857-3_38_F-1-1_S124', 'P9-MAA001894-3_39_F-1-1_S35', 0.038],\n",
       " ['I15-MAA000590-3_9_M-1-1_S203', 'P9-MAA001884-3_38_F-1-1_S151', 0.032],\n",
       " ['I15-MAA000590-3_9_M-1-1_S203', 'P9-MAA001888-3_39_F-1-1_S244', 0.03],\n",
       " ['I15-MAA000590-3_9_M-1-1_S203', 'P9-MAA001889-3_38_F-1-1_S151', 0.018],\n",
       " ['I15-MAA000590-3_9_M-1-1_S203', 'P9-MAA001892-3_38_F-1-1_S225', 0.022],\n",
       " ['I15-MAA000590-3_9_M-1-1_S203', 'P9-MAA001894-3_39_F-1-1_S35', 0.024],\n",
       " ['D9-B000826-3_39_F-1-1_S242', 'P9-MAA001884-3_38_F-1-1_S151', 0.036],\n",
       " ['D9-B000826-3_39_F-1-1_S242', 'P9-MAA001888-3_39_F-1-1_S244', 0.074],\n",
       " ['D9-B000826-3_39_F-1-1_S242', 'P9-MAA001889-3_38_F-1-1_S151', 0.036],\n",
       " ['D9-B000826-3_39_F-1-1_S242', 'P9-MAA001892-3_38_F-1-1_S225', 0.034],\n",
       " ['D9-B000826-3_39_F-1-1_S242', 'P9-MAA001894-3_39_F-1-1_S35', 0.044],\n",
       " ['I15-MAA000439-3_10_M-1-1_S146', 'P9-MAA001884-3_38_F-1-1_S151', 0.042],\n",
       " ['I15-MAA000439-3_10_M-1-1_S146', 'P9-MAA001888-3_39_F-1-1_S244', 0.046],\n",
       " ['I15-MAA000439-3_10_M-1-1_S146', 'P9-MAA001889-3_38_F-1-1_S151', 0.032],\n",
       " ['I15-MAA000439-3_10_M-1-1_S146', 'P9-MAA001892-3_38_F-1-1_S225', 0.026],\n",
       " ['I15-MAA000439-3_10_M-1-1_S146', 'P9-MAA001894-3_39_F-1-1_S35', 0.02],\n",
       " ['A19-D041904-3_10_M-1-1_S157', 'I15-MAA000377-3_9_M-1-1_S147', 0.056],\n",
       " ['A19-D041904-3_10_M-1-1_S157', 'I15-MAA000409-3_10_M-1-1_S282', 0.046],\n",
       " ['A19-D041904-3_10_M-1-1_S157', 'I15-MAA000427-3_11_M-1-1_S69', 0.07],\n",
       " ['A19-D041904-3_10_M-1-1_S157', 'I15-MAA000556-3_9_M-1-1_S235', 0.07],\n",
       " ['A19-D041904-3_10_M-1-1_S157', 'I15-MAA000560-3_10_M-1-1_S124', 0.076],\n",
       " ['I15-MAA000409-3_10_M-1-1_S282', 'I15-D042105-3_11_M-1-1_S23', 0.036],\n",
       " ['I15-MAA000409-3_10_M-1-1_S282', 'I15-MAA000377-3_9_M-1-1_S147', 0.036],\n",
       " ['I15-MAA000409-3_10_M-1-1_S282', 'I15-MAA000427-3_11_M-1-1_S69', 0.036],\n",
       " ['I15-MAA000409-3_10_M-1-1_S282', 'I15-MAA000556-3_9_M-1-1_S235', 0.03],\n",
       " ['I15-MAA000409-3_10_M-1-1_S282', 'I15-MAA000560-3_10_M-1-1_S124', 0.036],\n",
       " ['D9-B000166-3_56_F-1-1_S90', 'I15-MAA000377-3_9_M-1-1_S147', 0.064],\n",
       " ['D9-B000166-3_56_F-1-1_S90', 'I15-MAA000409-3_10_M-1-1_S282', 0.044],\n",
       " ['D9-B000166-3_56_F-1-1_S90', 'I15-MAA000427-3_11_M-1-1_S69', 0.078],\n",
       " ['D9-B000166-3_56_F-1-1_S90', 'I15-MAA000556-3_9_M-1-1_S235', 0.084],\n",
       " ['D9-B000166-3_56_F-1-1_S90', 'I15-MAA000560-3_10_M-1-1_S124', 0.094],\n",
       " ['I15-MAA000427-3_11_M-1-1_S69', 'I15-D042105-3_11_M-1-1_S23', 0.052],\n",
       " ['I15-MAA000427-3_11_M-1-1_S69', 'I15-MAA000377-3_9_M-1-1_S147', 0.046],\n",
       " ['I15-MAA000427-3_11_M-1-1_S69', 'I15-MAA000409-3_10_M-1-1_S282', 0.036],\n",
       " ['I15-MAA000427-3_11_M-1-1_S69', 'I15-MAA000556-3_9_M-1-1_S235', 0.044],\n",
       " ['I15-MAA000427-3_11_M-1-1_S69', 'I15-MAA000560-3_10_M-1-1_S124', 0.05],\n",
       " ['B7-MAA001632-3_56_F-1-1_S292', 'I15-MAA000377-3_9_M-1-1_S147', 0.048],\n",
       " ['B7-MAA001632-3_56_F-1-1_S292', 'I15-MAA000409-3_10_M-1-1_S282', 0.04],\n",
       " ['B7-MAA001632-3_56_F-1-1_S292', 'I15-MAA000427-3_11_M-1-1_S69', 0.052],\n",
       " ['B7-MAA001632-3_56_F-1-1_S292', 'I15-MAA000556-3_9_M-1-1_S235', 0.054],\n",
       " ['B7-MAA001632-3_56_F-1-1_S292', 'I15-MAA000560-3_10_M-1-1_S124', 0.074],\n",
       " ['I15-B002429-3_38_F-1-1_S158', 'I15-MAA000377-3_9_M-1-1_S147', 0.032],\n",
       " ['I15-B002429-3_38_F-1-1_S158', 'I15-MAA000409-3_10_M-1-1_S282', 0.028],\n",
       " ['I15-B002429-3_38_F-1-1_S158', 'I15-MAA000427-3_11_M-1-1_S69', 0.03],\n",
       " ['I15-B002429-3_38_F-1-1_S158', 'I15-MAA000556-3_9_M-1-1_S235', 0.032],\n",
       " ['I15-B002429-3_38_F-1-1_S158', 'I15-MAA000560-3_10_M-1-1_S124', 0.034],\n",
       " ['D9-B000168-3_57_F-1-1_S209', 'I15-MAA000377-3_9_M-1-1_S147', 0.0],\n",
       " ['D9-B000168-3_57_F-1-1_S209', 'I15-MAA000409-3_10_M-1-1_S282', 0.002],\n",
       " ['D9-B000168-3_57_F-1-1_S209', 'I15-MAA000427-3_11_M-1-1_S69', 0.002],\n",
       " ['D9-B000168-3_57_F-1-1_S209', 'I15-MAA000556-3_9_M-1-1_S235', 0.002],\n",
       " ['D9-B000168-3_57_F-1-1_S209', 'I15-MAA000560-3_10_M-1-1_S124', 0.002],\n",
       " ['I15-MAA000560-3_10_M-1-1_S124', 'I15-D042105-3_11_M-1-1_S23', 0.044],\n",
       " ['I15-MAA000560-3_10_M-1-1_S124', 'I15-MAA000377-3_9_M-1-1_S147', 0.04],\n",
       " ['I15-MAA000560-3_10_M-1-1_S124', 'I15-MAA000409-3_10_M-1-1_S282', 0.036],\n",
       " ['I15-MAA000560-3_10_M-1-1_S124', 'I15-MAA000427-3_11_M-1-1_S69', 0.05],\n",
       " ['I15-MAA000560-3_10_M-1-1_S124', 'I15-MAA000556-3_9_M-1-1_S235', 0.06],\n",
       " ['A8-MAA000600-3_8_M-1-1_S35', 'I15-MAA000377-3_9_M-1-1_S147', 0.054],\n",
       " ['A8-MAA000600-3_8_M-1-1_S35', 'I15-MAA000409-3_10_M-1-1_S282', 0.046],\n",
       " ['A8-MAA000600-3_8_M-1-1_S35', 'I15-MAA000427-3_11_M-1-1_S69', 0.06],\n",
       " ['A8-MAA000600-3_8_M-1-1_S35', 'I15-MAA000556-3_9_M-1-1_S235', 0.056],\n",
       " ['A8-MAA000600-3_8_M-1-1_S35', 'I15-MAA000560-3_10_M-1-1_S124', 0.07],\n",
       " ['I15-MAA000556-3_9_M-1-1_S235', 'I15-D042105-3_11_M-1-1_S23', 0.056],\n",
       " ['I15-MAA000556-3_9_M-1-1_S235', 'I15-MAA000377-3_9_M-1-1_S147', 0.048],\n",
       " ['I15-MAA000556-3_9_M-1-1_S235', 'I15-MAA000409-3_10_M-1-1_S282', 0.03],\n",
       " ['I15-MAA000556-3_9_M-1-1_S235', 'I15-MAA000427-3_11_M-1-1_S69', 0.044],\n",
       " ['I15-MAA000556-3_9_M-1-1_S235', 'I15-MAA000560-3_10_M-1-1_S124', 0.06],\n",
       " ['D9-B000633-3_56_F-1-1_S23', 'I15-MAA000377-3_9_M-1-1_S147', 0.06],\n",
       " ['D9-B000633-3_56_F-1-1_S23', 'I15-MAA000409-3_10_M-1-1_S282', 0.042],\n",
       " ['D9-B000633-3_56_F-1-1_S23', 'I15-MAA000427-3_11_M-1-1_S69', 0.064],\n",
       " ['D9-B000633-3_56_F-1-1_S23', 'I15-MAA000556-3_9_M-1-1_S235', 0.09],\n",
       " ['D9-B000633-3_56_F-1-1_S23', 'I15-MAA000560-3_10_M-1-1_S124', 0.058],\n",
       " ['I15-B002435-3_39_F-1-1_S65', 'I15-MAA000377-3_9_M-1-1_S147', 0.07],\n",
       " ['I15-B002435-3_39_F-1-1_S65', 'I15-MAA000409-3_10_M-1-1_S282', 0.042],\n",
       " ['I15-B002435-3_39_F-1-1_S65', 'I15-MAA000427-3_11_M-1-1_S69', 0.068],\n",
       " ['I15-B002435-3_39_F-1-1_S65', 'I15-MAA000556-3_9_M-1-1_S235', 0.084],\n",
       " ['I15-B002435-3_39_F-1-1_S65', 'I15-MAA000560-3_10_M-1-1_S124', 0.076]]"
      ]
     },
     "execution_count": 20,
     "metadata": {},
     "output_type": "execute_result"
    }
   ],
   "source": [
    "adjacencies[:100]"
   ]
  },
  {
   "cell_type": "code",
   "execution_count": 48,
   "metadata": {},
   "outputs": [],
   "source": [
    "# adjacencies = []\n",
    "\n",
    "# n_neighbors = 5\n",
    "\n",
    "# for i, leaf in zip(range(10), tree.leaves()):\n",
    "#     print(leaf)\n",
    "#     print(leaf.data)\n",
    "#     print()"
   ]
  },
  {
   "cell_type": "code",
   "execution_count": 79,
   "metadata": {},
   "outputs": [
    {
     "data": {
      "text/plain": [
       "3"
      ]
     },
     "execution_count": 79,
     "metadata": {},
     "output_type": "execute_result"
    }
   ],
   "source": [
    "adjacencies = []\n",
    "\n",
    "n_neighbors = 3\n",
    "\n",
    "n_parent_levels = math.ceil(math.log2(n_neighbors)) + 1\n",
    "n_parent_levels"
   ]
  },
  {
   "cell_type": "code",
   "execution_count": 93,
   "metadata": {},
   "outputs": [
    {
     "name": "stdout",
     "output_type": "stream",
     "text": [
      "upper_internal_node: NodePos(pos=1, node=<sourmash.sbt.Node object at 0x7f02e3da5ba8>)\n",
      "upper_internal_node: NodePos(pos=1, node=<sourmash.sbt.Node object at 0x7f02e3da5ba8>)\n",
      "upper_internal_node: NodePos(pos=1, node=<sourmash.sbt.Node object at 0x7f02e3da5ba8>)\n",
      "upper_internal_node: NodePos(pos=1, node=<sourmash.sbt.Node object at 0x7f02e3da5ba8>)\n",
      "upper_internal_node: NodePos(pos=1, node=<sourmash.sbt.Node object at 0x7f02e3da5ba8>)\n",
      "upper_internal_node: NodePos(pos=1, node=<sourmash.sbt.Node object at 0x7f02e3da5ba8>)\n",
      "upper_internal_node: NodePos(pos=1, node=<sourmash.sbt.Node object at 0x7f02e3da5ba8>)\n",
      "upper_internal_node: NodePos(pos=1, node=<sourmash.sbt.Node object at 0x7f02e3da5ba8>)\n",
      "upper_internal_node: NodePos(pos=2, node=<sourmash.sbt.Node object at 0x7f02e3da5c88>)\n",
      "upper_internal_node: NodePos(pos=2, node=<sourmash.sbt.Node object at 0x7f02e3da5c88>)\n",
      "upper_internal_node: NodePos(pos=2, node=<sourmash.sbt.Node object at 0x7f02e3da5c88>)\n",
      "upper_internal_node: NodePos(pos=2, node=<sourmash.sbt.Node object at 0x7f02e3da5c88>)\n",
      "upper_internal_node: NodePos(pos=2, node=<sourmash.sbt.Node object at 0x7f02e3da5c88>)\n",
      "upper_internal_node: NodePos(pos=2, node=<sourmash.sbt.Node object at 0x7f02e3da5c88>)\n",
      "upper_internal_node: NodePos(pos=2, node=<sourmash.sbt.Node object at 0x7f02e3da5c88>)\n",
      "upper_internal_node: NodePos(pos=2, node=<sourmash.sbt.Node object at 0x7f02e3da5c88>)\n"
     ]
    }
   ],
   "source": [
    "# initialize search queue with top node of tree\n",
    "matches = []\n",
    "visited, queue = set(), [0]\n",
    "\n",
    "ignore_abundance = True\n",
    "downsample = False\n",
    "\n",
    "def get_leaves_under(tree, node_position):\n",
    "    visited, queue = set(), [node_position]\n",
    "    leaves = []\n",
    "    \n",
    "    while queue:\n",
    "        position = queue.pop(0)\n",
    "        node = tree.nodes.get(position, None)\n",
    "        \n",
    "        if isinstance(node, Leaf):\n",
    "            leaves.append(node)\n",
    "        else:\n",
    "            queue.extend(c.pos for c in tree.children(position))\n",
    "    return leaves\n",
    "\n",
    "# while the queue is not empty, load each node and apply search\n",
    "# function.\n",
    "while queue:\n",
    "    position = queue.pop(0)\n",
    "    node = tree.nodes.get(position, None)\n",
    "    \n",
    "    # repair while searching.\n",
    "    if node is None:\n",
    "        print(\"repairing...\")\n",
    "        if position in tree.missing_nodes:\n",
    "            tree._rebuild_node(node)\n",
    "            node = tree.nodes[position]\n",
    "        else:\n",
    "            continue\n",
    "            \n",
    "    # if we have not visited this node before,\n",
    "    if position not in visited:\n",
    "        visited.add(position)\n",
    "        \n",
    "    # Add \n",
    "    if isinstance(node, Leaf):\n",
    "#         print(node.data)\n",
    "        n = 1\n",
    "        upper_internal_node = tree.parent(position)\n",
    "        while n < n_parent_levels:\n",
    "            upper_internal_node = tree.parent(upper_internal_node.pos)\n",
    "            n += 1\n",
    "        print(\"upper_internal_node:\", upper_internal_node)\n",
    "        leaves = get_leaves_under(tree, upper_internal_node.pos)\n",
    "\n",
    "        \n",
    "        similarities = []\n",
    "        for leaf in leaves:\n",
    "            # Ignore self-simililarity\n",
    "            if leaf == node:\n",
    "                continue\n",
    "#             print(leaf.data)\n",
    "            similarity = node.data.similarity(leaf.data, \n",
    "                                              ignore_abundance=ignore_abundance, \n",
    "                                              downsample=downsample)\n",
    "            similarities.append([node.data.name(), leaf.data.name(), similarity])\n",
    "        adjacent = sorted(similarities, key=lambda x: x[1])[-n_neighbors:]\n",
    "#         print(adjacent)\n",
    "        adjacencies.extend(adjacent)\n",
    "            \n",
    "#         break\n",
    "        \n",
    "    else:\n",
    "        queue.extend(c.pos for c in tree.children(position))\n",
    "    \n",
    "#     print(node)\n",
    "#     print(node.data)\n",
    "#     print()\n",
    "    visited.add(node)"
   ]
  },
  {
   "cell_type": "code",
   "execution_count": null,
   "metadata": {},
   "outputs": [],
   "source": []
  },
  {
   "cell_type": "code",
   "execution_count": 25,
   "metadata": {},
   "outputs": [
    {
     "data": {
      "text/plain": [
       "[]"
      ]
     },
     "execution_count": 25,
     "metadata": {},
     "output_type": "execute_result"
    }
   ],
   "source": [
    "adjacencies[:10]"
   ]
  },
  {
   "cell_type": "code",
   "execution_count": 69,
   "metadata": {},
   "outputs": [
    {
     "data": {
      "text/plain": [
       "[<sourmash.sbtmh.SigLeaf at 0x7f02e3da5e48>,\n",
       " <sourmash.sbtmh.SigLeaf at 0x7f02e3da5860>]"
      ]
     },
     "execution_count": 69,
     "metadata": {},
     "output_type": "execute_result"
    }
   ],
   "source": [
    "leaves"
   ]
  },
  {
   "cell_type": "code",
   "execution_count": 61,
   "metadata": {},
   "outputs": [
    {
     "data": {
      "text/plain": [
       "[NodePos(pos=15, node=<sourmash.sbtmh.SigLeaf object at 0x7f02e3da5e48>),\n",
       " NodePos(pos=16, node=<sourmash.sbtmh.SigLeaf object at 0x7f02e3da5860>)]"
      ]
     },
     "execution_count": 61,
     "metadata": {},
     "output_type": "execute_result"
    }
   ],
   "source": [
    "tree.children(7)"
   ]
  },
  {
   "cell_type": "code",
   "execution_count": 47,
   "metadata": {},
   "outputs": [
    {
     "data": {
      "text/plain": [
       "311"
      ]
     },
     "execution_count": 47,
     "metadata": {},
     "output_type": "execute_result"
    }
   ],
   "source": [
    "len(visited)"
   ]
  },
  {
   "cell_type": "code",
   "execution_count": 36,
   "metadata": {},
   "outputs": [
    {
     "data": {
      "text/plain": [
       "[NodePos(pos=19, node=<sourmash.sbt.Node object at 0x7f0320088dd8>),\n",
       " NodePos(pos=20, node=<sourmash.sbt.Node object at 0x7f0320088ba8>)]"
      ]
     },
     "execution_count": 36,
     "metadata": {},
     "output_type": "execute_result"
    }
   ],
   "source": [
    "tree.children(pos)"
   ]
  },
  {
   "cell_type": "code",
   "execution_count": 37,
   "metadata": {},
   "outputs": [
    {
     "name": "stdout",
     "output_type": "stream",
     "text": [
      "NodePos(pos=19, node=<sourmash.sbt.Node object at 0x7f0320088dd8>)\n",
      "[NodePos(pos=39, node=<sourmash.sbt.Node object at 0x7f0320039208>), NodePos(pos=40, node=<sourmash.sbt.Node object at 0x7f03200392e8>)]\n",
      "NodePos(pos=20, node=<sourmash.sbt.Node object at 0x7f0320088ba8>)\n",
      "[NodePos(pos=41, node=<sourmash.sbt.Node object at 0x7f0320055668>), NodePos(pos=42, node=<sourmash.sbt.Node object at 0x7f0320055940>)]\n"
     ]
    }
   ],
   "source": [
    "is_leaf = False\n",
    "\n",
    "for child in tree.children(pos):\n",
    "    print(child)\n",
    "    print(tree.children(child.pos))"
   ]
  },
  {
   "cell_type": "code",
   "execution_count": 31,
   "metadata": {},
   "outputs": [
    {
     "data": {
      "text/plain": [
       "20"
      ]
     },
     "execution_count": 31,
     "metadata": {},
     "output_type": "execute_result"
    }
   ],
   "source": [
    "children.pos"
   ]
  },
  {
   "cell_type": "code",
   "execution_count": null,
   "metadata": {},
   "outputs": [],
   "source": []
  }
 ],
 "metadata": {
  "kernelspec": {
   "display_name": "Python [conda env:sourmash-sbt2knn]",
   "language": "python",
   "name": "conda-env-sourmash-sbt2knn-py"
  },
  "language_info": {
   "codemirror_mode": {
    "name": "ipython",
    "version": 3
   },
   "file_extension": ".py",
   "mimetype": "text/x-python",
   "name": "python",
   "nbconvert_exporter": "python",
   "pygments_lexer": "ipython3",
   "version": "3.7.3"
  }
 },
 "nbformat": 4,
 "nbformat_minor": 4
}
