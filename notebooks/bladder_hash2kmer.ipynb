{
 "cells": [
  {
   "cell_type": "markdown",
   "metadata": {
    "persistent_id": "66ba5d52-747e-40ac-9f84-1a2377c50265"
   },
   "source": [
    "# Extract k-mers that have different abundances from otherwise similar bladder cells"
   ]
  },
  {
   "cell_type": "code",
   "execution_count": 10,
   "metadata": {
    "execution_event_id": "ed201190-df6a-4ff2-b11e-87eb9efb31f0",
    "last_executed_text": "ksize = 21",
    "persistent_id": "2557f8dc-3478-4102-b800-9721ae5aa2bc"
   },
   "outputs": [],
   "source": [
    "ksize = 21"
   ]
  },
  {
   "cell_type": "code",
   "execution_count": 1,
   "metadata": {
    "execution_event_id": "84ce3cbb-92dc-4a03-bc3e-8451963203d3",
    "last_executed_text": "ll /home/olga/miniconda3/envs/sourmash-hash2kmer/lib/python3.7/site-packages/sourmash",
    "persistent_id": "82429d39-b5b3-48fc-8ded-f3f2e0d2af8a"
   },
   "outputs": [
    {
     "name": "stdout",
     "output_type": "stream",
     "text": [
      "ls: cannot access '/home/olga/miniconda3/envs/sourmash-hash2kmer/lib/python3.7/site-packages/sourmash': No such file or directory\n"
     ]
    }
   ],
   "source": [
    "ll /home/olga/miniconda3/envs/sourmash-hash2kmer/lib/python3.7/site-packages/sourmash"
   ]
  },
  {
   "cell_type": "code",
   "execution_count": 5,
   "metadata": {
    "execution_event_id": "c8459cd0-af82-4da6-81f3-4eb315d32898",
    "last_executed_text": "! /home/olga/code/sourmash/utils/hashvals-to-signature.py --help",
    "persistent_id": "314d7527-2ed0-4f2c-b510-58945cb15d33"
   },
   "outputs": [
    {
     "name": "stdout",
     "output_type": "stream",
     "text": [
      "usage: hashvals-to-signature.py [-h] [-o OUTPUT] [-k KSIZE] [--scaled SCALED]\n",
      "                                [--num NUM] [--name NAME]\n",
      "                                [--filename FILENAME]\n",
      "                                hashfile\n",
      "\n",
      "positional arguments:\n",
      "  hashfile\n",
      "\n",
      "optional arguments:\n",
      "  -h, --help            show this help message and exit\n",
      "  -o OUTPUT, --output OUTPUT\n",
      "                        file to output signature to\n",
      "  -k KSIZE, --ksize KSIZE\n",
      "  --scaled SCALED\n",
      "  --num NUM\n",
      "  --name NAME           signature name\n",
      "  --filename FILENAME   filename to add to signature\n"
     ]
    }
   ],
   "source": [
    "! /home/olga/code/sourmash/utils/hashvals-to-signature.py --help"
   ]
  },
  {
   "cell_type": "code",
   "execution_count": 18,
   "metadata": {
    "execution_event_id": "19ed2a63-98ff-42f9-b2fd-5404214f82b6",
    "last_executed_text": "%%bash\n/home/olga/code/sourmash/utils/hashvals-to-signature.py \\\n    --ksize 21 \\\n    --output bladder_hashes_different_abundances.sig \\\n    bladder_hashes_different_abundances.txt",
    "persistent_id": "ea0a84b2-931f-4566-bab4-c1ac9cd815c4"
   },
   "outputs": [
    {
     "name": "stderr",
     "output_type": "stream",
     "text": [
      "\u001b[Kloaded 4 distinct hashes from bladder_hashes_different_abundances.txt\n",
      "\u001b[Ksetting --num automatically from the number of hashes.\n",
      "\u001b[Kwrote signature to bladder_hashes_different_abundances.sig\n"
     ]
    }
   ],
   "source": [
    "%%bash\n",
    "/home/olga/code/sourmash/utils/hashvals-to-signature.py \\\n",
    "    --ksize 21 \\\n",
    "    --output bladder_hashes_different_abundances.sig \\\n",
    "    bladder_hashes_different_abundances.txt"
   ]
  },
  {
   "cell_type": "code",
   "execution_count": 13,
   "metadata": {
    "execution_event_id": "e2032518-86be-4d06-a5f1-6f6aeaca7049",
    "last_executed_text": "! /home/olga/code/sourmash/utils/signature-to-kmers.py --help",
    "persistent_id": "d018d8cb-2eda-4a10-b21d-97d9ab3a2049"
   },
   "outputs": [
    {
     "name": "stdout",
     "output_type": "stream",
     "text": [
      "usage: signature-to-kmers.py [-h] [--output-sequences OUTPUT_SEQUENCES]\n",
      "                             [--output-kmers OUTPUT_KMERS]\n",
      "                             query seqfiles [seqfiles ...]\n",
      "\n",
      "positional arguments:\n",
      "  query\n",
      "  seqfiles\n",
      "\n",
      "optional arguments:\n",
      "  -h, --help            show this help message and exit\n",
      "  --output-sequences OUTPUT_SEQUENCES\n",
      "                        save matching sequences to this file.\n",
      "  --output-kmers OUTPUT_KMERS\n",
      "                        save matching kmers to this file.\n"
     ]
    }
   ],
   "source": [
    "! /home/olga/code/sourmash/utils/signature-to-kmers.py --help"
   ]
  },
  {
   "cell_type": "code",
   "execution_count": 14,
   "metadata": {
    "execution_event_id": "f66d8df2-5745-4d03-ae5b-e299eda717cd",
    "last_executed_text": "%%bash\n\nCELL1_R1=/home/olga/pureScratch/czb-maca/Plate_Seq/3_month/170914_A00111_0058_AH3FYKDMXX__170914_A00111_0057_BH3FY7DMXX/fastqs/A1-B000610-3_56_F-1-1_R1_001.fastq.gz\nCELL1_R2=/home/olga/pureScratch/czb-maca/Plate_Seq/3_month/170914_A00111_0058_AH3FYKDMXX__170914_A00111_0057_BH3FY7DMXX/fastqs/A1-B000610-3_56_F-1-1_R2_001.fastq.gz\n\n\n/home/olga/code/sourmash/utils/signature-to-kmers.py \\\n    --output-kmers bladder_hashes_different_abundances_kmers.txt \\\n    --output-sequences bladder_hashes_different_abundances_sequences.txt \\\n    bladder_hashes_different_abundances.sig $CELL1_R1 $CELL1_R2",
    "persistent_id": "648b87f8-cb8b-4666-9c17-71c3cf690162"
   },
   "outputs": [
    {
     "name": "stderr",
     "output_type": "stream",
     "text": [
      "\u001b[Kread 159324600 bp, wrote 84100 bp in matching sequencesate_Seq/3_month/170914_A00111_0058_AH3FYKDMXX__170914_A00111_0057_BH3FY7DMXX/fastqs/A1-B000610-3_56_F-1-1_R2_001.fastq.gz\n",
      "\u001b[Kread 159324600 bp, found 4 kmers matching hashvals\n"
     ]
    }
   ],
   "source": [
    "%%bash\n",
    "\n",
    "CELL1_R1=/home/olga/pureScratch/czb-maca/Plate_Seq/3_month/170914_A00111_0058_AH3FYKDMXX__170914_A00111_0057_BH3FY7DMXX/fastqs/A1-B000610-3_56_F-1-1_R1_001.fastq.gz\n",
    "CELL1_R2=/home/olga/pureScratch/czb-maca/Plate_Seq/3_month/170914_A00111_0058_AH3FYKDMXX__170914_A00111_0057_BH3FY7DMXX/fastqs/A1-B000610-3_56_F-1-1_R2_001.fastq.gz\n",
    "\n",
    "\n",
    "/home/olga/code/sourmash/utils/signature-to-kmers.py \\\n",
    "    --output-kmers bladder_hashes_different_abundances_kmers.txt \\\n",
    "    --output-sequences bladder_hashes_different_abundances_sequences.txt \\\n",
    "    bladder_hashes_different_abundances.sig $CELL1_R1 $CELL1_R2"
   ]
  },
  {
   "cell_type": "code",
   "execution_count": 15,
   "metadata": {
    "execution_event_id": "06bd2696-ceb9-4bca-8025-8509928bfd9c",
    "last_executed_text": "! cat bladder_hashes_different_abundances_kmers.txt",
    "persistent_id": "82ccb334-60f9-489e-81c2-c3ae32bd5f65"
   },
   "outputs": [
    {
     "name": "stdout",
     "output_type": "stream",
     "text": [
      "kmer,hashval\n",
      "ATCGAGGTCATGACTGGACAC,937624453106451\n",
      "AGTGGACATGAAAGATGTGGA,635563321059591\n",
      "GGAGTGGGTAAATTGCGCGCC,1012839673718406\n",
      "GCTCAGTTATTGACTACGAGC,1026077759632952\n"
     ]
    }
   ],
   "source": [
    "! cat bladder_hashes_different_abundances_kmers.txt"
   ]
  },
  {
   "cell_type": "code",
   "execution_count": 16,
   "metadata": {
    "execution_event_id": "052f2b5d-a2e1-4dec-8565-bab29ab5c84f",
    "last_executed_text": "! cat bladder_hashes_different_abundances_kmers.txt | cut -f 1 -d,",
    "persistent_id": "a87a9eb0-b96e-4ad1-a80b-13caf3320784"
   },
   "outputs": [
    {
     "name": "stdout",
     "output_type": "stream",
     "text": [
      "kmer\n",
      "ATCGAGGTCATGACTGGACAC\n",
      "AGTGGACATGAAAGATGTGGA\n",
      "GGAGTGGGTAAATTGCGCGCC\n",
      "GCTCAGTTATTGACTACGAGC\n"
     ]
    }
   ],
   "source": [
    "! cat bladder_hashes_different_abundances_kmers.txt | cut -f 1 -d,"
   ]
  },
  {
   "cell_type": "markdown",
   "metadata": {
    "persistent_id": "8db4eaab-29a6-43f1-aac8-e25c88c83045"
   },
   "source": [
    "## Since there's only 14 shared hashes anyway, look at all of them!"
   ]
  },
  {
   "cell_type": "code",
   "execution_count": 20,
   "metadata": {
    "execution_event_id": "e18c39c2-2283-47e5-8bba-9fd612a0844d",
    "last_executed_text": "%%bash\n/home/olga/code/sourmash/utils/hashvals-to-signature.py \\\n    --ksize 21 \\\n    --output bladder_combined_hashes.sig \\\n    bladder_combined_hashes.txt",
    "persistent_id": "cfddfaad-8276-45cc-ad74-73af2c4a03f9"
   },
   "outputs": [
    {
     "name": "stderr",
     "output_type": "stream",
     "text": [
      "\u001b[Kloaded 14 distinct hashes from bladder_combined_hashes.txt\n",
      "\u001b[Ksetting --num automatically from the number of hashes.\n",
      "\u001b[Kwrote signature to bladder_combined_hashes.sig\n"
     ]
    }
   ],
   "source": [
    "%%bash\n",
    "/home/olga/code/sourmash/utils/hashvals-to-signature.py \\\n",
    "    --ksize 21 \\\n",
    "    --output bladder_combined_hashes.sig \\\n",
    "    bladder_combined_hashes.txt"
   ]
  },
  {
   "cell_type": "code",
   "execution_count": 24,
   "metadata": {
    "execution_event_id": "417326e7-6ebf-437f-9753-9e46609352b6",
    "last_executed_text": "%%bash\n\nCELL1_R1=/home/olga/pureScratch/czb-maca/Plate_Seq/3_month/170914_A00111_0058_AH3FYKDMXX__170914_A00111_0057_BH3FY7DMXX/fastqs/A1-B000610-3_56_F-1-1_R1_001.fastq.gz\nCELL1_R2=/home/olga/pureScratch/czb-maca/Plate_Seq/3_month/170914_A00111_0058_AH3FYKDMXX__170914_A00111_0057_BH3FY7DMXX/fastqs/A1-B000610-3_56_F-1-1_R2_001.fastq.gz\nCELL2_R1=/home/olga/pureScratch/czb-maca/Plate_Seq/3_month/170914_A00111_0058_AH3FYKDMXX__170914_A00111_0057_BH3FY7DMXX/fastqs/A1-B002764-3_38_F-1-1_R1_001.fastq.gz\nCELL2_R2=/home/olga/pureScratch/czb-maca/Plate_Seq/3_month/170914_A00111_0058_AH3FYKDMXX__170914_A00111_0057_BH3FY7DMXX/fastqs/A1-B002764-3_38_F-1-1_R2_001.fastq.gz\n\n/home/olga/code/sourmash/utils/signature-to-kmers.py \\\n    --output-kmers bladder_combined_hashes_kmers.txt \\\n    --output-sequences bladder_combined_hashes_sequences.txt \\\n    bladder_combined_hashes.sig $CELL1_R1 $CELL1_R2 $CELL2_R1 $CELL2_R2",
    "persistent_id": "f120dc59-6599-4a10-8b08-f6b7e2d98873"
   },
   "outputs": [
    {
     "name": "stderr",
     "output_type": "stream",
     "text": [
      "\u001b[Kread 311332200 bp, wrote 1177900 bp in matching sequencese_Seq/3_month/170914_A00111_0058_AH3FYKDMXX__170914_A00111_0057_BH3FY7DMXX/fastqs/A1-B002764-3_38_F-1-1_R2_001.fastq.gz\n",
      "\u001b[Kread 311332200 bp, found 11 kmers matching hashvals\n"
     ]
    }
   ],
   "source": [
    "%%bash\n",
    "\n",
    "CELL1_R1=/home/olga/pureScratch/czb-maca/Plate_Seq/3_month/170914_A00111_0058_AH3FYKDMXX__170914_A00111_0057_BH3FY7DMXX/fastqs/A1-B000610-3_56_F-1-1_R1_001.fastq.gz\n",
    "CELL1_R2=/home/olga/pureScratch/czb-maca/Plate_Seq/3_month/170914_A00111_0058_AH3FYKDMXX__170914_A00111_0057_BH3FY7DMXX/fastqs/A1-B000610-3_56_F-1-1_R2_001.fastq.gz\n",
    "CELL2_R1=/home/olga/pureScratch/czb-maca/Plate_Seq/3_month/170914_A00111_0058_AH3FYKDMXX__170914_A00111_0057_BH3FY7DMXX/fastqs/A1-B002764-3_38_F-1-1_R1_001.fastq.gz\n",
    "CELL2_R2=/home/olga/pureScratch/czb-maca/Plate_Seq/3_month/170914_A00111_0058_AH3FYKDMXX__170914_A00111_0057_BH3FY7DMXX/fastqs/A1-B002764-3_38_F-1-1_R2_001.fastq.gz\n",
    "\n",
    "/home/olga/code/sourmash/utils/signature-to-kmers.py \\\n",
    "    --output-kmers bladder_combined_hashes_kmers.txt \\\n",
    "    --output-sequences bladder_combined_hashes_sequences.txt \\\n",
    "    bladder_combined_hashes.sig $CELL1_R1 $CELL1_R2 $CELL2_R1 $CELL2_R2"
   ]
  },
  {
   "cell_type": "code",
   "execution_count": 22,
   "metadata": {
    "execution_event_id": "0c0fabd1-613a-4192-823d-48e207696c7c",
    "last_executed_text": "! cat  bladder_combined_hashes_kmers.txt",
    "persistent_id": "c0da9197-820e-493f-a15f-d0b9a31dda1b"
   },
   "outputs": [
    {
     "name": "stdout",
     "output_type": "stream",
     "text": [
      "kmer,hashval\n",
      "ATCGAGGTCATGACTGGACAC,937624453106451\n",
      "AGTGGACATGAAAGATGTGGA,635563321059591\n",
      "GGAGTGGGTAAATTGCGCGCC,1012839673718406\n",
      "GAGGATGGTGAAGTAAAGACC,1067106972354716\n",
      "GCTCAGTTATTGACTACGAGC,1026077759632952\n",
      "ACTGTGGTAATTCTAGAGCTG,936637619733676\n",
      "GTGTAATATAAAAAAAAACCA,1215285019941982\n",
      "AAAAATAAAAAAAAAAACACA,171794956858086\n",
      "AAGAGGGTCGGCCGGGGGCAT,513049510280006\n",
      "AAAGTCGTCGGAAGATCCTGA,860437213521678\n",
      "CATGATTAAGAGTGACTGCCG,394031160505449\n"
     ]
    }
   ],
   "source": [
    "! cat bladder_combined_hashes_kmers.txt"
   ]
  },
  {
   "cell_type": "code",
   "execution_count": 31,
   "metadata": {
    "execution_event_id": "247eb4e0-751f-42df-b70f-db31fd026141",
    "last_executed_text": "import pandas as pd\n\nkmer_hashes = pd.read_csv('bladder_combined_hashes_kmers.txt')\nkmer_hashes = kmer_hashes.sort_values('hashval')\nkmer_hashes",
    "persistent_id": "b93a5320-a432-43eb-88c4-b66bd6125d52"
   },
   "outputs": [
    {
     "data": {
      "text/html": [
       "<div>\n",
       "<style scoped>\n",
       "    .dataframe tbody tr th:only-of-type {\n",
       "        vertical-align: middle;\n",
       "    }\n",
       "\n",
       "    .dataframe tbody tr th {\n",
       "        vertical-align: top;\n",
       "    }\n",
       "\n",
       "    .dataframe thead th {\n",
       "        text-align: right;\n",
       "    }\n",
       "</style>\n",
       "<table border=\"1\" class=\"dataframe\">\n",
       "  <thead>\n",
       "    <tr style=\"text-align: right;\">\n",
       "      <th></th>\n",
       "      <th>kmer</th>\n",
       "      <th>hashval</th>\n",
       "    </tr>\n",
       "  </thead>\n",
       "  <tbody>\n",
       "    <tr>\n",
       "      <td>7</td>\n",
       "      <td>AAAAATAAAAAAAAAAACACA</td>\n",
       "      <td>171794956858086</td>\n",
       "    </tr>\n",
       "    <tr>\n",
       "      <td>10</td>\n",
       "      <td>CATGATTAAGAGTGACTGCCG</td>\n",
       "      <td>394031160505449</td>\n",
       "    </tr>\n",
       "    <tr>\n",
       "      <td>8</td>\n",
       "      <td>AAGAGGGTCGGCCGGGGGCAT</td>\n",
       "      <td>513049510280006</td>\n",
       "    </tr>\n",
       "    <tr>\n",
       "      <td>1</td>\n",
       "      <td>AGTGGACATGAAAGATGTGGA</td>\n",
       "      <td>635563321059591</td>\n",
       "    </tr>\n",
       "    <tr>\n",
       "      <td>9</td>\n",
       "      <td>AAAGTCGTCGGAAGATCCTGA</td>\n",
       "      <td>860437213521678</td>\n",
       "    </tr>\n",
       "    <tr>\n",
       "      <td>5</td>\n",
       "      <td>ACTGTGGTAATTCTAGAGCTG</td>\n",
       "      <td>936637619733676</td>\n",
       "    </tr>\n",
       "    <tr>\n",
       "      <td>0</td>\n",
       "      <td>ATCGAGGTCATGACTGGACAC</td>\n",
       "      <td>937624453106451</td>\n",
       "    </tr>\n",
       "    <tr>\n",
       "      <td>2</td>\n",
       "      <td>GGAGTGGGTAAATTGCGCGCC</td>\n",
       "      <td>1012839673718406</td>\n",
       "    </tr>\n",
       "    <tr>\n",
       "      <td>4</td>\n",
       "      <td>GCTCAGTTATTGACTACGAGC</td>\n",
       "      <td>1026077759632952</td>\n",
       "    </tr>\n",
       "    <tr>\n",
       "      <td>3</td>\n",
       "      <td>GAGGATGGTGAAGTAAAGACC</td>\n",
       "      <td>1067106972354716</td>\n",
       "    </tr>\n",
       "    <tr>\n",
       "      <td>6</td>\n",
       "      <td>GTGTAATATAAAAAAAAACCA</td>\n",
       "      <td>1215285019941982</td>\n",
       "    </tr>\n",
       "  </tbody>\n",
       "</table>\n",
       "</div>"
      ],
      "text/plain": [
       "                     kmer           hashval\n",
       "7   AAAAATAAAAAAAAAAACACA   171794956858086\n",
       "10  CATGATTAAGAGTGACTGCCG   394031160505449\n",
       "8   AAGAGGGTCGGCCGGGGGCAT   513049510280006\n",
       "1   AGTGGACATGAAAGATGTGGA   635563321059591\n",
       "9   AAAGTCGTCGGAAGATCCTGA   860437213521678\n",
       "5   ACTGTGGTAATTCTAGAGCTG   936637619733676\n",
       "0   ATCGAGGTCATGACTGGACAC   937624453106451\n",
       "2   GGAGTGGGTAAATTGCGCGCC  1012839673718406\n",
       "4   GCTCAGTTATTGACTACGAGC  1026077759632952\n",
       "3   GAGGATGGTGAAGTAAAGACC  1067106972354716\n",
       "6   GTGTAATATAAAAAAAAACCA  1215285019941982"
      ]
     },
     "execution_count": 31,
     "metadata": {},
     "output_type": "execute_result"
    }
   ],
   "source": [
    "import pandas as pd\n",
    "\n",
    "kmer_hashes = pd.read_csv('bladder_combined_hashes_kmers.txt')\n",
    "kmer_hashes = kmer_hashes.sort_values('hashval')\n",
    "kmer_hashes"
   ]
  },
  {
   "cell_type": "code",
   "execution_count": 33,
   "metadata": {
    "execution_event_id": "fe433a07-673c-4ad6-b634-d6146362a308",
    "last_executed_text": "fasta = 'bladder_combined_hashes_kmers.fasta'\n\nwith open(fasta, 'w') as f:\n    for i, (_, row) in enumerate(kmer_hashes.iterrows()):\n        f.write(\">kmer{i:02}_{hashval}\\n{kmer}\\n\".format(i=i, **row))\n! cat $fasta",
    "persistent_id": "46ef6c72-9006-400c-89b9-932fbdb4fefa"
   },
   "outputs": [
    {
     "name": "stdout",
     "output_type": "stream",
     "text": [
      ">kmer00_171794956858086\n",
      "AAAAATAAAAAAAAAAACACA\n",
      ">kmer01_394031160505449\n",
      "CATGATTAAGAGTGACTGCCG\n",
      ">kmer02_513049510280006\n",
      "AAGAGGGTCGGCCGGGGGCAT\n",
      ">kmer03_635563321059591\n",
      "AGTGGACATGAAAGATGTGGA\n",
      ">kmer04_860437213521678\n",
      "AAAGTCGTCGGAAGATCCTGA\n",
      ">kmer05_936637619733676\n",
      "ACTGTGGTAATTCTAGAGCTG\n",
      ">kmer06_937624453106451\n",
      "ATCGAGGTCATGACTGGACAC\n",
      ">kmer07_1012839673718406\n",
      "GGAGTGGGTAAATTGCGCGCC\n",
      ">kmer08_1026077759632952\n",
      "GCTCAGTTATTGACTACGAGC\n",
      ">kmer09_1067106972354716\n",
      "GAGGATGGTGAAGTAAAGACC\n",
      ">kmer10_1215285019941982\n",
      "GTGTAATATAAAAAAAAACCA\n"
     ]
    }
   ],
   "source": [
    "fasta = 'bladder_combined_hashes_kmers.fasta'\n",
    "\n",
    "with open(fasta, 'w') as f:\n",
    "    for i, (_, row) in enumerate(kmer_hashes.iterrows()):\n",
    "        f.write(\">kmer{i:02}_{hashval}\\n{kmer}\\n\".format(i=i, **row))\n",
    "! cat $fasta"
   ]
  },
  {
   "cell_type": "code",
   "execution_count": null,
   "metadata": {},
   "outputs": [],
   "source": []
  }
 ],
 "metadata": {
  "history": [
   {
    "cell": {
     "executionCount": 1,
     "executionEventId": "84ce3cbb-92dc-4a03-bc3e-8451963203d3",
     "hasError": false,
     "id": "e4d5a9fe-2565-4152-bf3a-5307a59be3b5",
     "outputs": [
      {
       "name": "stdout",
       "output_type": "stream",
       "text": "ls: cannot access '/home/olga/miniconda3/envs/sourmash-hash2kmer/lib/python3.7/site-packages/sourmash': No such file or directory\n"
      }
     ],
     "persistentId": "82429d39-b5b3-48fc-8ded-f3f2e0d2af8a",
     "text": "ll /home/olga/miniconda3/envs/sourmash-hash2kmer/lib/python3.7/site-packages/sourmash"
    },
    "executionTime": "2019-09-08T17:57:21.695Z"
   },
   {
    "cell": {
     "executionCount": 2,
     "executionEventId": "aceb4791-582b-415c-9c78-c46592ae0570",
     "hasError": false,
     "id": "bb0826fd-3b42-4ec9-9290-e26d6867146f",
     "outputs": [
      {
       "name": "stdout",
       "output_type": "stream",
       "text": "-rwxrwxr-x 1 olga 2830 Sep  8 10:53 \u001b[0m\u001b[01;32m/home/olga/code/sourmash/utils/hashvals-to-signature.py\u001b[0m*\n"
      }
     ],
     "persistentId": "314d7527-2ed0-4f2c-b510-58945cb15d33",
     "text": "ll /home/olga/code/sourmash/utils/hashvals-to-signature.py"
    },
    "executionTime": "2019-09-08T17:57:48.071Z"
   },
   {
    "cell": {
     "executionCount": 3,
     "executionEventId": "9ed8d2f3-558d-48d5-81fb-b9d6ab88b9f8",
     "hasError": true,
     "id": "bb0826fd-3b42-4ec9-9290-e26d6867146f",
     "outputs": [
      {
       "ename": "NameError",
       "evalue": "name 'home' is not defined",
       "output_type": "error",
       "traceback": [
        "\u001b[0;31m---------------------------------------------------------------------------\u001b[0m",
        "\u001b[0;31mNameError\u001b[0m                                 Traceback (most recent call last)",
        "\u001b[0;32m<ipython-input-3-191f8f59d3f3>\u001b[0m in \u001b[0;36m<module>\u001b[0;34m\u001b[0m\n\u001b[0;32m----> 1\u001b[0;31m \u001b[0mhome\u001b[0m\u001b[0;34m/\u001b[0m\u001b[0molga\u001b[0m\u001b[0;34m/\u001b[0m\u001b[0mcode\u001b[0m\u001b[0;34m/\u001b[0m\u001b[0msourmash\u001b[0m\u001b[0;34m/\u001b[0m\u001b[0mutils\u001b[0m\u001b[0;34m/\u001b[0m\u001b[0mhashvals\u001b[0m\u001b[0;34m-\u001b[0m\u001b[0mto\u001b[0m\u001b[0;34m-\u001b[0m\u001b[0msignature\u001b[0m\u001b[0;34m.\u001b[0m\u001b[0mpy\u001b[0m\u001b[0;34m(\u001b[0m\u001b[0;34m)\u001b[0m\u001b[0;34m\u001b[0m\u001b[0;34m\u001b[0m\u001b[0m\n\u001b[0m",
        "\u001b[0;31mNameError\u001b[0m: name 'home' is not defined"
       ]
      }
     ],
     "persistentId": "314d7527-2ed0-4f2c-b510-58945cb15d33",
     "text": "/home/olga/code/sourmash/utils/hashvals-to-signature.py"
    },
    "executionTime": "2019-09-08T17:57:52.655Z"
   },
   {
    "cell": {
     "executionCount": 4,
     "executionEventId": "821c058f-b75d-4ba2-85d6-7ec576662eb7",
     "hasError": false,
     "id": "bb0826fd-3b42-4ec9-9290-e26d6867146f",
     "outputs": [
      {
       "name": "stdout",
       "output_type": "stream",
       "text": "usage: hashvals-to-signature.py [-h] [-o OUTPUT] [-k KSIZE] [--scaled SCALED]\n                                [--num NUM] [--name NAME]\n                                [--filename FILENAME]\n                                hashfile\nhashvals-to-signature.py: error: the following arguments are required: hashfile\n"
      }
     ],
     "persistentId": "314d7527-2ed0-4f2c-b510-58945cb15d33",
     "text": "! /home/olga/code/sourmash/utils/hashvals-to-signature.py"
    },
    "executionTime": "2019-09-08T17:57:57.958Z"
   },
   {
    "cell": {
     "executionCount": 5,
     "executionEventId": "c8459cd0-af82-4da6-81f3-4eb315d32898",
     "hasError": false,
     "id": "bb0826fd-3b42-4ec9-9290-e26d6867146f",
     "outputs": [
      {
       "name": "stdout",
       "output_type": "stream",
       "text": "usage: hashvals-to-signature.py [-h] [-o OUTPUT] [-k KSIZE] [--scaled SCALED]\n                                [--num NUM] [--name NAME]\n                                [--filename FILENAME]\n                                hashfile\n\npositional arguments:\n  hashfile\n\noptional arguments:\n  -h, --help            show this help message and exit\n  -o OUTPUT, --output OUTPUT\n                        file to output signature to\n  -k KSIZE, --ksize KSIZE\n  --scaled SCALED\n  --num NUM\n  --name NAME           signature name\n  --filename FILENAME   filename to add to signature\n"
      }
     ],
     "persistentId": "314d7527-2ed0-4f2c-b510-58945cb15d33",
     "text": "! /home/olga/code/sourmash/utils/hashvals-to-signature.py --help"
    },
    "executionTime": "2019-09-08T17:59:25.421Z"
   },
   {
    "cell": {
     "executionCount": 6,
     "executionEventId": "27d12ee7-f32c-45cb-bd08-4f5dbab69439",
     "hasError": false,
     "id": "2f017d44-fd3e-4d94-b27d-18728b2fa370",
     "outputs": [
      {
       "name": "stdout",
       "output_type": "stream",
       "text": "\u001b[Kmust specify --ksize\n"
      }
     ],
     "persistentId": "ea0a84b2-931f-4566-bab4-c1ac9cd815c4",
     "text": "! /home/olga/code/sourmash/utils/hashvals-to-signature.py bladder_hashes_different_abundances.txt"
    },
    "executionTime": "2019-09-08T17:59:33.371Z"
   },
   {
    "cell": {
     "executionCount": 7,
     "executionEventId": "d4d88c30-afe6-411f-ab49-f923f3cb4638",
     "hasError": false,
     "id": "6cf4e26d-2200-40a7-bb3f-918f4a344d18",
     "outputs": [],
     "persistentId": "2557f8dc-3478-4102-b800-9721ae5aa2bc",
     "text": "ksize = 21"
    },
    "executionTime": "2019-09-08T18:00:28.801Z"
   },
   {
    "cell": {
     "executionCount": 8,
     "executionEventId": "abbc899f-0b70-4a46-a0c0-d9f95e91381f",
     "hasError": false,
     "id": "2f017d44-fd3e-4d94-b27d-18728b2fa370",
     "outputs": [
      {
       "name": "stdout",
       "output_type": "stream",
       "text": "\u001b[Kmust specify --output\n"
      }
     ],
     "persistentId": "ea0a84b2-931f-4566-bab4-c1ac9cd815c4",
     "text": "! /home/olga/code/sourmash/utils/hashvals-to-signature.py --ksize $ksize bladder_hashes_different_abundances.txt"
    },
    "executionTime": "2019-09-08T18:00:31.707Z"
   },
   {
    "cell": {
     "executionCount": 9,
     "executionEventId": "b4b44950-2330-4913-a392-b92f0d49c4cc",
     "hasError": true,
     "id": "2f017d44-fd3e-4d94-b27d-18728b2fa370",
     "outputs": [
      {
       "name": "stderr",
       "output_type": "stream",
       "text": "usage: hashvals-to-signature.py [-h] [-o OUTPUT] [-k KSIZE] [--scaled SCALED]\n                                [--num NUM] [--name NAME]\n                                [--filename FILENAME]\n                                hashfile\nhashvals-to-signature.py: error: argument -k/--ksize: expected one argument\n"
      },
      {
       "ename": "CalledProcessError",
       "evalue": "Command 'b'/home/olga/code/sourmash/utils/hashvals-to-signature.py \\\\\\n    --ksize $ksize \\\\\\n    --output bladder_hashes_different_abundances.sig \\\\\\n    bladder_hashes_different_abundances.txt\\n'' returned non-zero exit status 2.",
       "output_type": "error",
       "traceback": [
        "\u001b[0;31m---------------------------------------------------------------------------\u001b[0m",
        "\u001b[0;31mCalledProcessError\u001b[0m                        Traceback (most recent call last)",
        "\u001b[0;32m<ipython-input-9-bae979743d46>\u001b[0m in \u001b[0;36m<module>\u001b[0;34m\u001b[0m\n\u001b[0;32m----> 1\u001b[0;31m \u001b[0mget_ipython\u001b[0m\u001b[0;34m(\u001b[0m\u001b[0;34m)\u001b[0m\u001b[0;34m.\u001b[0m\u001b[0mrun_cell_magic\u001b[0m\u001b[0;34m(\u001b[0m\u001b[0;34m'bash'\u001b[0m\u001b[0;34m,\u001b[0m \u001b[0;34m''\u001b[0m\u001b[0;34m,\u001b[0m \u001b[0;34m'/home/olga/code/sourmash/utils/hashvals-to-signature.py \\\\\\n    --ksize $ksize \\\\\\n    --output bladder_hashes_different_abundances.sig \\\\\\n    bladder_hashes_different_abundances.txt\\n'\u001b[0m\u001b[0;34m)\u001b[0m\u001b[0;34m\u001b[0m\u001b[0;34m\u001b[0m\u001b[0m\n\u001b[0m",
        "\u001b[0;32m~/miniconda3/envs/sourmash-hash2kmer/lib/python3.7/site-packages/IPython/core/interactiveshell.py\u001b[0m in \u001b[0;36mrun_cell_magic\u001b[0;34m(self, magic_name, line, cell)\u001b[0m\n\u001b[1;32m   2357\u001b[0m             \u001b[0;32mwith\u001b[0m \u001b[0mself\u001b[0m\u001b[0;34m.\u001b[0m\u001b[0mbuiltin_trap\u001b[0m\u001b[0;34m:\u001b[0m\u001b[0;34m\u001b[0m\u001b[0;34m\u001b[0m\u001b[0m\n\u001b[1;32m   2358\u001b[0m                 \u001b[0margs\u001b[0m \u001b[0;34m=\u001b[0m \u001b[0;34m(\u001b[0m\u001b[0mmagic_arg_s\u001b[0m\u001b[0;34m,\u001b[0m \u001b[0mcell\u001b[0m\u001b[0;34m)\u001b[0m\u001b[0;34m\u001b[0m\u001b[0;34m\u001b[0m\u001b[0m\n\u001b[0;32m-> 2359\u001b[0;31m                 \u001b[0mresult\u001b[0m \u001b[0;34m=\u001b[0m \u001b[0mfn\u001b[0m\u001b[0;34m(\u001b[0m\u001b[0;34m*\u001b[0m\u001b[0margs\u001b[0m\u001b[0;34m,\u001b[0m \u001b[0;34m**\u001b[0m\u001b[0mkwargs\u001b[0m\u001b[0;34m)\u001b[0m\u001b[0;34m\u001b[0m\u001b[0;34m\u001b[0m\u001b[0m\n\u001b[0m\u001b[1;32m   2360\u001b[0m             \u001b[0;32mreturn\u001b[0m \u001b[0mresult\u001b[0m\u001b[0;34m\u001b[0m\u001b[0;34m\u001b[0m\u001b[0m\n\u001b[1;32m   2361\u001b[0m \u001b[0;34m\u001b[0m\u001b[0m\n",
        "\u001b[0;32m~/miniconda3/envs/sourmash-hash2kmer/lib/python3.7/site-packages/IPython/core/magics/script.py\u001b[0m in \u001b[0;36mnamed_script_magic\u001b[0;34m(line, cell)\u001b[0m\n\u001b[1;32m    140\u001b[0m             \u001b[0;32melse\u001b[0m\u001b[0;34m:\u001b[0m\u001b[0;34m\u001b[0m\u001b[0;34m\u001b[0m\u001b[0m\n\u001b[1;32m    141\u001b[0m                 \u001b[0mline\u001b[0m \u001b[0;34m=\u001b[0m \u001b[0mscript\u001b[0m\u001b[0;34m\u001b[0m\u001b[0;34m\u001b[0m\u001b[0m\n\u001b[0;32m--> 142\u001b[0;31m             \u001b[0;32mreturn\u001b[0m \u001b[0mself\u001b[0m\u001b[0;34m.\u001b[0m\u001b[0mshebang\u001b[0m\u001b[0;34m(\u001b[0m\u001b[0mline\u001b[0m\u001b[0;34m,\u001b[0m \u001b[0mcell\u001b[0m\u001b[0;34m)\u001b[0m\u001b[0;34m\u001b[0m\u001b[0;34m\u001b[0m\u001b[0m\n\u001b[0m\u001b[1;32m    143\u001b[0m \u001b[0;34m\u001b[0m\u001b[0m\n\u001b[1;32m    144\u001b[0m         \u001b[0;31m# write a basic docstring:\u001b[0m\u001b[0;34m\u001b[0m\u001b[0;34m\u001b[0m\u001b[0;34m\u001b[0m\u001b[0m\n",
        "\u001b[0;32m</home/olga/miniconda3/envs/sourmash-hash2kmer/lib/python3.7/site-packages/decorator.py:decorator-gen-110>\u001b[0m in \u001b[0;36mshebang\u001b[0;34m(self, line, cell)\u001b[0m\n",
        "\u001b[0;32m~/miniconda3/envs/sourmash-hash2kmer/lib/python3.7/site-packages/IPython/core/magic.py\u001b[0m in \u001b[0;36m<lambda>\u001b[0;34m(f, *a, **k)\u001b[0m\n\u001b[1;32m    185\u001b[0m     \u001b[0;31m# but it's overkill for just that one bit of state.\u001b[0m\u001b[0;34m\u001b[0m\u001b[0;34m\u001b[0m\u001b[0;34m\u001b[0m\u001b[0m\n\u001b[1;32m    186\u001b[0m     \u001b[0;32mdef\u001b[0m \u001b[0mmagic_deco\u001b[0m\u001b[0;34m(\u001b[0m\u001b[0marg\u001b[0m\u001b[0;34m)\u001b[0m\u001b[0;34m:\u001b[0m\u001b[0;34m\u001b[0m\u001b[0;34m\u001b[0m\u001b[0m\n\u001b[0;32m--> 187\u001b[0;31m         \u001b[0mcall\u001b[0m \u001b[0;34m=\u001b[0m \u001b[0;32mlambda\u001b[0m \u001b[0mf\u001b[0m\u001b[0;34m,\u001b[0m \u001b[0;34m*\u001b[0m\u001b[0ma\u001b[0m\u001b[0;34m,\u001b[0m \u001b[0;34m**\u001b[0m\u001b[0mk\u001b[0m\u001b[0;34m:\u001b[0m \u001b[0mf\u001b[0m\u001b[0;34m(\u001b[0m\u001b[0;34m*\u001b[0m\u001b[0ma\u001b[0m\u001b[0;34m,\u001b[0m \u001b[0;34m**\u001b[0m\u001b[0mk\u001b[0m\u001b[0;34m)\u001b[0m\u001b[0;34m\u001b[0m\u001b[0;34m\u001b[0m\u001b[0m\n\u001b[0m\u001b[1;32m    188\u001b[0m \u001b[0;34m\u001b[0m\u001b[0m\n\u001b[1;32m    189\u001b[0m         \u001b[0;32mif\u001b[0m \u001b[0mcallable\u001b[0m\u001b[0;34m(\u001b[0m\u001b[0marg\u001b[0m\u001b[0;34m)\u001b[0m\u001b[0;34m:\u001b[0m\u001b[0;34m\u001b[0m\u001b[0;34m\u001b[0m\u001b[0m\n",
        "\u001b[0;32m~/miniconda3/envs/sourmash-hash2kmer/lib/python3.7/site-packages/IPython/core/magics/script.py\u001b[0m in \u001b[0;36mshebang\u001b[0;34m(self, line, cell)\u001b[0m\n\u001b[1;32m    243\u001b[0m             \u001b[0msys\u001b[0m\u001b[0;34m.\u001b[0m\u001b[0mstderr\u001b[0m\u001b[0;34m.\u001b[0m\u001b[0mflush\u001b[0m\u001b[0;34m(\u001b[0m\u001b[0;34m)\u001b[0m\u001b[0;34m\u001b[0m\u001b[0;34m\u001b[0m\u001b[0m\n\u001b[1;32m    244\u001b[0m         \u001b[0;32mif\u001b[0m \u001b[0margs\u001b[0m\u001b[0;34m.\u001b[0m\u001b[0mraise_error\u001b[0m \u001b[0;32mand\u001b[0m \u001b[0mp\u001b[0m\u001b[0;34m.\u001b[0m\u001b[0mreturncode\u001b[0m\u001b[0;34m!=\u001b[0m\u001b[0;36m0\u001b[0m\u001b[0;34m:\u001b[0m\u001b[0;34m\u001b[0m\u001b[0;34m\u001b[0m\u001b[0m\n\u001b[0;32m--> 245\u001b[0;31m             \u001b[0;32mraise\u001b[0m \u001b[0mCalledProcessError\u001b[0m\u001b[0;34m(\u001b[0m\u001b[0mp\u001b[0m\u001b[0;34m.\u001b[0m\u001b[0mreturncode\u001b[0m\u001b[0;34m,\u001b[0m \u001b[0mcell\u001b[0m\u001b[0;34m,\u001b[0m \u001b[0moutput\u001b[0m\u001b[0;34m=\u001b[0m\u001b[0mout\u001b[0m\u001b[0;34m,\u001b[0m \u001b[0mstderr\u001b[0m\u001b[0;34m=\u001b[0m\u001b[0merr\u001b[0m\u001b[0;34m)\u001b[0m\u001b[0;34m\u001b[0m\u001b[0;34m\u001b[0m\u001b[0m\n\u001b[0m\u001b[1;32m    246\u001b[0m \u001b[0;34m\u001b[0m\u001b[0m\n\u001b[1;32m    247\u001b[0m     \u001b[0;32mdef\u001b[0m \u001b[0m_run_script\u001b[0m\u001b[0;34m(\u001b[0m\u001b[0mself\u001b[0m\u001b[0;34m,\u001b[0m \u001b[0mp\u001b[0m\u001b[0;34m,\u001b[0m \u001b[0mcell\u001b[0m\u001b[0;34m,\u001b[0m \u001b[0mto_close\u001b[0m\u001b[0;34m)\u001b[0m\u001b[0;34m:\u001b[0m\u001b[0;34m\u001b[0m\u001b[0;34m\u001b[0m\u001b[0m\n",
        "\u001b[0;31mCalledProcessError\u001b[0m: Command 'b'/home/olga/code/sourmash/utils/hashvals-to-signature.py \\\\\\n    --ksize $ksize \\\\\\n    --output bladder_hashes_different_abundances.sig \\\\\\n    bladder_hashes_different_abundances.txt\\n'' returned non-zero exit status 2."
       ]
      }
     ],
     "persistentId": "ea0a84b2-931f-4566-bab4-c1ac9cd815c4",
     "text": "%%bash\n/home/olga/code/sourmash/utils/hashvals-to-signature.py \\\n    --ksize $ksize \\\n    --output bladder_hashes_different_abundances.sig \\\n    bladder_hashes_different_abundances.txt"
    },
    "executionTime": "2019-09-08T18:01:00.362Z"
   },
   {
    "cell": {
     "executionCount": 10,
     "executionEventId": "ed201190-df6a-4ff2-b11e-87eb9efb31f0",
     "hasError": false,
     "id": "6cf4e26d-2200-40a7-bb3f-918f4a344d18",
     "outputs": [],
     "persistentId": "2557f8dc-3478-4102-b800-9721ae5aa2bc",
     "text": "ksize = 21"
    },
    "executionTime": "2019-09-08T18:01:15.141Z"
   },
   {
    "cell": {
     "executionCount": 11,
     "executionEventId": "4ab92d4f-6906-457c-8bec-1d6145931416",
     "hasError": true,
     "id": "2f017d44-fd3e-4d94-b27d-18728b2fa370",
     "outputs": [
      {
       "name": "stderr",
       "output_type": "stream",
       "text": "\u001b[Kloaded 4 distinct hashes from bladder_hashes_different_abundances.txt\n\u001b[Ksetting --num automatically from the number of hashes.\nTraceback (most recent call last):\n  File \"/home/olga/code/sourmash/utils/hashvals-to-signature.py\", line 92, in <module>\n    sys.exit(main())\n  File \"/home/olga/code/sourmash/utils/hashvals-to-signature.py\", line 68, in main\n    minhash.add_many(hashval)\n  File \"sourmash/_minhash.pyx\", line 198, in sourmash._minhash.MinHash.add_many\nTypeError: 'int' object is not iterable\n"
      },
      {
       "ename": "CalledProcessError",
       "evalue": "Command 'b'/home/olga/code/sourmash/utils/hashvals-to-signature.py \\\\\\n    --ksize 21 \\\\\\n    --output bladder_hashes_different_abundances.sig \\\\\\n    bladder_hashes_different_abundances.txt\\n'' returned non-zero exit status 1.",
       "output_type": "error",
       "traceback": [
        "\u001b[0;31m---------------------------------------------------------------------------\u001b[0m",
        "\u001b[0;31mCalledProcessError\u001b[0m                        Traceback (most recent call last)",
        "\u001b[0;32m<ipython-input-11-718afb3d3e8d>\u001b[0m in \u001b[0;36m<module>\u001b[0;34m\u001b[0m\n\u001b[0;32m----> 1\u001b[0;31m \u001b[0mget_ipython\u001b[0m\u001b[0;34m(\u001b[0m\u001b[0;34m)\u001b[0m\u001b[0;34m.\u001b[0m\u001b[0mrun_cell_magic\u001b[0m\u001b[0;34m(\u001b[0m\u001b[0;34m'bash'\u001b[0m\u001b[0;34m,\u001b[0m \u001b[0;34m''\u001b[0m\u001b[0;34m,\u001b[0m \u001b[0;34m'/home/olga/code/sourmash/utils/hashvals-to-signature.py \\\\\\n    --ksize 21 \\\\\\n    --output bladder_hashes_different_abundances.sig \\\\\\n    bladder_hashes_different_abundances.txt\\n'\u001b[0m\u001b[0;34m)\u001b[0m\u001b[0;34m\u001b[0m\u001b[0;34m\u001b[0m\u001b[0m\n\u001b[0m",
        "\u001b[0;32m~/miniconda3/envs/sourmash-hash2kmer/lib/python3.7/site-packages/IPython/core/interactiveshell.py\u001b[0m in \u001b[0;36mrun_cell_magic\u001b[0;34m(self, magic_name, line, cell)\u001b[0m\n\u001b[1;32m   2357\u001b[0m             \u001b[0;32mwith\u001b[0m \u001b[0mself\u001b[0m\u001b[0;34m.\u001b[0m\u001b[0mbuiltin_trap\u001b[0m\u001b[0;34m:\u001b[0m\u001b[0;34m\u001b[0m\u001b[0;34m\u001b[0m\u001b[0m\n\u001b[1;32m   2358\u001b[0m                 \u001b[0margs\u001b[0m \u001b[0;34m=\u001b[0m \u001b[0;34m(\u001b[0m\u001b[0mmagic_arg_s\u001b[0m\u001b[0;34m,\u001b[0m \u001b[0mcell\u001b[0m\u001b[0;34m)\u001b[0m\u001b[0;34m\u001b[0m\u001b[0;34m\u001b[0m\u001b[0m\n\u001b[0;32m-> 2359\u001b[0;31m                 \u001b[0mresult\u001b[0m \u001b[0;34m=\u001b[0m \u001b[0mfn\u001b[0m\u001b[0;34m(\u001b[0m\u001b[0;34m*\u001b[0m\u001b[0margs\u001b[0m\u001b[0;34m,\u001b[0m \u001b[0;34m**\u001b[0m\u001b[0mkwargs\u001b[0m\u001b[0;34m)\u001b[0m\u001b[0;34m\u001b[0m\u001b[0;34m\u001b[0m\u001b[0m\n\u001b[0m\u001b[1;32m   2360\u001b[0m             \u001b[0;32mreturn\u001b[0m \u001b[0mresult\u001b[0m\u001b[0;34m\u001b[0m\u001b[0;34m\u001b[0m\u001b[0m\n\u001b[1;32m   2361\u001b[0m \u001b[0;34m\u001b[0m\u001b[0m\n",
        "\u001b[0;32m~/miniconda3/envs/sourmash-hash2kmer/lib/python3.7/site-packages/IPython/core/magics/script.py\u001b[0m in \u001b[0;36mnamed_script_magic\u001b[0;34m(line, cell)\u001b[0m\n\u001b[1;32m    140\u001b[0m             \u001b[0;32melse\u001b[0m\u001b[0;34m:\u001b[0m\u001b[0;34m\u001b[0m\u001b[0;34m\u001b[0m\u001b[0m\n\u001b[1;32m    141\u001b[0m                 \u001b[0mline\u001b[0m \u001b[0;34m=\u001b[0m \u001b[0mscript\u001b[0m\u001b[0;34m\u001b[0m\u001b[0;34m\u001b[0m\u001b[0m\n\u001b[0;32m--> 142\u001b[0;31m             \u001b[0;32mreturn\u001b[0m \u001b[0mself\u001b[0m\u001b[0;34m.\u001b[0m\u001b[0mshebang\u001b[0m\u001b[0;34m(\u001b[0m\u001b[0mline\u001b[0m\u001b[0;34m,\u001b[0m \u001b[0mcell\u001b[0m\u001b[0;34m)\u001b[0m\u001b[0;34m\u001b[0m\u001b[0;34m\u001b[0m\u001b[0m\n\u001b[0m\u001b[1;32m    143\u001b[0m \u001b[0;34m\u001b[0m\u001b[0m\n\u001b[1;32m    144\u001b[0m         \u001b[0;31m# write a basic docstring:\u001b[0m\u001b[0;34m\u001b[0m\u001b[0;34m\u001b[0m\u001b[0;34m\u001b[0m\u001b[0m\n",
        "\u001b[0;32m</home/olga/miniconda3/envs/sourmash-hash2kmer/lib/python3.7/site-packages/decorator.py:decorator-gen-110>\u001b[0m in \u001b[0;36mshebang\u001b[0;34m(self, line, cell)\u001b[0m\n",
        "\u001b[0;32m~/miniconda3/envs/sourmash-hash2kmer/lib/python3.7/site-packages/IPython/core/magic.py\u001b[0m in \u001b[0;36m<lambda>\u001b[0;34m(f, *a, **k)\u001b[0m\n\u001b[1;32m    185\u001b[0m     \u001b[0;31m# but it's overkill for just that one bit of state.\u001b[0m\u001b[0;34m\u001b[0m\u001b[0;34m\u001b[0m\u001b[0;34m\u001b[0m\u001b[0m\n\u001b[1;32m    186\u001b[0m     \u001b[0;32mdef\u001b[0m \u001b[0mmagic_deco\u001b[0m\u001b[0;34m(\u001b[0m\u001b[0marg\u001b[0m\u001b[0;34m)\u001b[0m\u001b[0;34m:\u001b[0m\u001b[0;34m\u001b[0m\u001b[0;34m\u001b[0m\u001b[0m\n\u001b[0;32m--> 187\u001b[0;31m         \u001b[0mcall\u001b[0m \u001b[0;34m=\u001b[0m \u001b[0;32mlambda\u001b[0m \u001b[0mf\u001b[0m\u001b[0;34m,\u001b[0m \u001b[0;34m*\u001b[0m\u001b[0ma\u001b[0m\u001b[0;34m,\u001b[0m \u001b[0;34m**\u001b[0m\u001b[0mk\u001b[0m\u001b[0;34m:\u001b[0m \u001b[0mf\u001b[0m\u001b[0;34m(\u001b[0m\u001b[0;34m*\u001b[0m\u001b[0ma\u001b[0m\u001b[0;34m,\u001b[0m \u001b[0;34m**\u001b[0m\u001b[0mk\u001b[0m\u001b[0;34m)\u001b[0m\u001b[0;34m\u001b[0m\u001b[0;34m\u001b[0m\u001b[0m\n\u001b[0m\u001b[1;32m    188\u001b[0m \u001b[0;34m\u001b[0m\u001b[0m\n\u001b[1;32m    189\u001b[0m         \u001b[0;32mif\u001b[0m \u001b[0mcallable\u001b[0m\u001b[0;34m(\u001b[0m\u001b[0marg\u001b[0m\u001b[0;34m)\u001b[0m\u001b[0;34m:\u001b[0m\u001b[0;34m\u001b[0m\u001b[0;34m\u001b[0m\u001b[0m\n",
        "\u001b[0;32m~/miniconda3/envs/sourmash-hash2kmer/lib/python3.7/site-packages/IPython/core/magics/script.py\u001b[0m in \u001b[0;36mshebang\u001b[0;34m(self, line, cell)\u001b[0m\n\u001b[1;32m    243\u001b[0m             \u001b[0msys\u001b[0m\u001b[0;34m.\u001b[0m\u001b[0mstderr\u001b[0m\u001b[0;34m.\u001b[0m\u001b[0mflush\u001b[0m\u001b[0;34m(\u001b[0m\u001b[0;34m)\u001b[0m\u001b[0;34m\u001b[0m\u001b[0;34m\u001b[0m\u001b[0m\n\u001b[1;32m    244\u001b[0m         \u001b[0;32mif\u001b[0m \u001b[0margs\u001b[0m\u001b[0;34m.\u001b[0m\u001b[0mraise_error\u001b[0m \u001b[0;32mand\u001b[0m \u001b[0mp\u001b[0m\u001b[0;34m.\u001b[0m\u001b[0mreturncode\u001b[0m\u001b[0;34m!=\u001b[0m\u001b[0;36m0\u001b[0m\u001b[0;34m:\u001b[0m\u001b[0;34m\u001b[0m\u001b[0;34m\u001b[0m\u001b[0m\n\u001b[0;32m--> 245\u001b[0;31m             \u001b[0;32mraise\u001b[0m \u001b[0mCalledProcessError\u001b[0m\u001b[0;34m(\u001b[0m\u001b[0mp\u001b[0m\u001b[0;34m.\u001b[0m\u001b[0mreturncode\u001b[0m\u001b[0;34m,\u001b[0m \u001b[0mcell\u001b[0m\u001b[0;34m,\u001b[0m \u001b[0moutput\u001b[0m\u001b[0;34m=\u001b[0m\u001b[0mout\u001b[0m\u001b[0;34m,\u001b[0m \u001b[0mstderr\u001b[0m\u001b[0;34m=\u001b[0m\u001b[0merr\u001b[0m\u001b[0;34m)\u001b[0m\u001b[0;34m\u001b[0m\u001b[0;34m\u001b[0m\u001b[0m\n\u001b[0m\u001b[1;32m    246\u001b[0m \u001b[0;34m\u001b[0m\u001b[0m\n\u001b[1;32m    247\u001b[0m     \u001b[0;32mdef\u001b[0m \u001b[0m_run_script\u001b[0m\u001b[0;34m(\u001b[0m\u001b[0mself\u001b[0m\u001b[0;34m,\u001b[0m \u001b[0mp\u001b[0m\u001b[0;34m,\u001b[0m \u001b[0mcell\u001b[0m\u001b[0;34m,\u001b[0m \u001b[0mto_close\u001b[0m\u001b[0;34m)\u001b[0m\u001b[0;34m:\u001b[0m\u001b[0;34m\u001b[0m\u001b[0;34m\u001b[0m\u001b[0m\n",
        "\u001b[0;31mCalledProcessError\u001b[0m: Command 'b'/home/olga/code/sourmash/utils/hashvals-to-signature.py \\\\\\n    --ksize 21 \\\\\\n    --output bladder_hashes_different_abundances.sig \\\\\\n    bladder_hashes_different_abundances.txt\\n'' returned non-zero exit status 1."
       ]
      }
     ],
     "persistentId": "ea0a84b2-931f-4566-bab4-c1ac9cd815c4",
     "text": "%%bash\n/home/olga/code/sourmash/utils/hashvals-to-signature.py \\\n    --ksize 21 \\\n    --output bladder_hashes_different_abundances.sig \\\n    bladder_hashes_different_abundances.txt"
    },
    "executionTime": "2019-09-08T18:01:17.917Z"
   },
   {
    "cell": {
     "executionCount": 12,
     "executionEventId": "41e0a82b-4c71-4bff-b7d2-18c2c38a0cf4",
     "hasError": false,
     "id": "2f017d44-fd3e-4d94-b27d-18728b2fa370",
     "outputs": [
      {
       "name": "stderr",
       "output_type": "stream",
       "text": "\u001b[Kloaded 4 distinct hashes from bladder_hashes_different_abundances.txt\n\u001b[Ksetting --num automatically from the number of hashes.\n\u001b[Kwrote signature to bladder_hashes_different_abundances.sig\n"
      }
     ],
     "persistentId": "ea0a84b2-931f-4566-bab4-c1ac9cd815c4",
     "text": "%%bash\n/home/olga/code/sourmash/utils/hashvals-to-signature.py \\\n    --ksize 21 \\\n    --output bladder_hashes_different_abundances.sig \\\n    bladder_hashes_different_abundances.txt"
    },
    "executionTime": "2019-09-08T18:04:27.367Z"
   },
   {
    "cell": {
     "executionCount": 13,
     "executionEventId": "e2032518-86be-4d06-a5f1-6f6aeaca7049",
     "hasError": false,
     "id": "4eeed14d-173e-4cdf-bc0a-403e81516eb3",
     "outputs": [
      {
       "name": "stdout",
       "output_type": "stream",
       "text": "usage: signature-to-kmers.py [-h] [--output-sequences OUTPUT_SEQUENCES]\n                             [--output-kmers OUTPUT_KMERS]\n                             query seqfiles [seqfiles ...]\n\npositional arguments:\n  query\n  seqfiles\n\noptional arguments:\n  -h, --help            show this help message and exit\n  --output-sequences OUTPUT_SEQUENCES\n                        save matching sequences to this file.\n  --output-kmers OUTPUT_KMERS\n                        save matching kmers to this file.\n"
      }
     ],
     "persistentId": "d018d8cb-2eda-4a10-b21d-97d9ab3a2049",
     "text": "! /home/olga/code/sourmash/utils/signature-to-kmers.py --help"
    },
    "executionTime": "2019-09-08T18:04:57.914Z"
   },
   {
    "cell": {
     "executionCount": 14,
     "executionEventId": "f66d8df2-5745-4d03-ae5b-e299eda717cd",
     "hasError": false,
     "id": "7925c25a-e447-4c31-a52e-7fd1061f8fa2",
     "outputs": [
      {
       "name": "stderr",
       "output_type": "stream",
       "text": "\u001b[Kread 159324600 bp, wrote 84100 bp in matching sequencesate_Seq/3_month/170914_A00111_0058_AH3FYKDMXX__170914_A00111_0057_BH3FY7DMXX/fastqs/A1-B000610-3_56_F-1-1_R2_001.fastq.gz\n\u001b[Kread 159324600 bp, found 4 kmers matching hashvals\n"
      }
     ],
     "persistentId": "648b87f8-cb8b-4666-9c17-71c3cf690162",
     "text": "%%bash\n\nCELL1_R1=/home/olga/pureScratch/czb-maca/Plate_Seq/3_month/170914_A00111_0058_AH3FYKDMXX__170914_A00111_0057_BH3FY7DMXX/fastqs/A1-B000610-3_56_F-1-1_R1_001.fastq.gz\nCELL1_R2=/home/olga/pureScratch/czb-maca/Plate_Seq/3_month/170914_A00111_0058_AH3FYKDMXX__170914_A00111_0057_BH3FY7DMXX/fastqs/A1-B000610-3_56_F-1-1_R2_001.fastq.gz\n\n\n/home/olga/code/sourmash/utils/signature-to-kmers.py \\\n    --output-kmers bladder_hashes_different_abundances_kmers.txt \\\n    --output-sequences bladder_hashes_different_abundances_sequences.txt \\\n    bladder_hashes_different_abundances.sig $CELL1_R1 $CELL1_R2"
    },
    "executionTime": "2019-09-08T18:07:44.027Z"
   },
   {
    "cell": {
     "executionCount": 15,
     "executionEventId": "06bd2696-ceb9-4bca-8025-8509928bfd9c",
     "hasError": false,
     "id": "0c0b5cb1-9695-4a27-9d58-6f175495f39f",
     "outputs": [
      {
       "name": "stdout",
       "output_type": "stream",
       "text": "kmer,hashval\nATCGAGGTCATGACTGGACAC,937624453106451\nAGTGGACATGAAAGATGTGGA,635563321059591\nGGAGTGGGTAAATTGCGCGCC,1012839673718406\nGCTCAGTTATTGACTACGAGC,1026077759632952\n"
      }
     ],
     "persistentId": "82ccb334-60f9-489e-81c2-c3ae32bd5f65",
     "text": "! cat bladder_hashes_different_abundances_kmers.txt"
    },
    "executionTime": "2019-09-08T18:07:52.712Z"
   },
   {
    "cell": {
     "executionCount": 16,
     "executionEventId": "052f2b5d-a2e1-4dec-8565-bab29ab5c84f",
     "hasError": false,
     "id": "937e7ba7-3499-470a-966a-5bdb1f294a03",
     "outputs": [
      {
       "name": "stdout",
       "output_type": "stream",
       "text": "kmer\nATCGAGGTCATGACTGGACAC\nAGTGGACATGAAAGATGTGGA\nGGAGTGGGTAAATTGCGCGCC\nGCTCAGTTATTGACTACGAGC\n"
      }
     ],
     "persistentId": "a87a9eb0-b96e-4ad1-a80b-13caf3320784",
     "text": "! cat bladder_hashes_different_abundances_kmers.txt | cut -f 1 -d,"
    },
    "executionTime": "2019-09-08T18:10:12.141Z"
   },
   {
    "cell": {
     "executionCount": 17,
     "executionEventId": "f0837bfb-7a89-4fb3-9cb7-81f6c50e5c6a",
     "hasError": false,
     "id": "2f017d44-fd3e-4d94-b27d-18728b2fa370",
     "outputs": [
      {
       "name": "stderr",
       "output_type": "stream",
       "text": "\u001b[Kloaded 14 distinct hashes from bladder_combined_hashes.txt\n\u001b[Ksetting --num automatically from the number of hashes.\n\u001b[Kwrote signature to bladder_hashes_different_abundances.sig\n"
      }
     ],
     "persistentId": "ea0a84b2-931f-4566-bab4-c1ac9cd815c4",
     "text": "%%bash\n/home/olga/code/sourmash/utils/hashvals-to-signature.py \\\n    --ksize 21 \\\n    --output bladder_hashes_different_abundances.sig \\\n    bladder_combined_hashes.txt"
    },
    "executionTime": "2019-09-08T18:23:19.697Z"
   },
   {
    "cell": {
     "executionCount": 18,
     "executionEventId": "19ed2a63-98ff-42f9-b2fd-5404214f82b6",
     "hasError": false,
     "id": "2f017d44-fd3e-4d94-b27d-18728b2fa370",
     "outputs": [
      {
       "name": "stderr",
       "output_type": "stream",
       "text": "\u001b[Kloaded 4 distinct hashes from bladder_hashes_different_abundances.txt\n\u001b[Ksetting --num automatically from the number of hashes.\n\u001b[Kwrote signature to bladder_hashes_different_abundances.sig\n"
      }
     ],
     "persistentId": "ea0a84b2-931f-4566-bab4-c1ac9cd815c4",
     "text": "%%bash\n/home/olga/code/sourmash/utils/hashvals-to-signature.py \\\n    --ksize 21 \\\n    --output bladder_hashes_different_abundances.sig \\\n    bladder_hashes_different_abundances.txt"
    },
    "executionTime": "2019-09-08T18:23:39.853Z"
   },
   {
    "cell": {
     "executionCount": 19,
     "executionEventId": "d5871570-8361-43f8-a954-3a2480cd2d47",
     "hasError": false,
     "id": "638dc0b0-c998-4c8a-9af9-f4e024aa9e19",
     "outputs": [
      {
       "name": "stderr",
       "output_type": "stream",
       "text": "\u001b[Kloaded 14 distinct hashes from bladder_combined_hashes.txt\n\u001b[Ksetting --num automatically from the number of hashes.\n\u001b[Kwrote signature to bladder_combined_hashes.sig\n"
      }
     ],
     "persistentId": "cfddfaad-8276-45cc-ad74-73af2c4a03f9",
     "text": "%%bash\n/home/olga/code/sourmash/utils/hashvals-to-signature.py \\\n    --ksize 21 \\\n    --output bladder_combined_hashes.sig \\\n    bladder_combined_hashes.txt"
    },
    "executionTime": "2019-09-08T18:23:40.623Z"
   },
   {
    "cell": {
     "executionCount": 20,
     "executionEventId": "e18c39c2-2283-47e5-8bba-9fd612a0844d",
     "hasError": false,
     "id": "638dc0b0-c998-4c8a-9af9-f4e024aa9e19",
     "outputs": [
      {
       "name": "stderr",
       "output_type": "stream",
       "text": "\u001b[Kloaded 14 distinct hashes from bladder_combined_hashes.txt\n\u001b[Ksetting --num automatically from the number of hashes.\n\u001b[Kwrote signature to bladder_combined_hashes.sig\n"
      }
     ],
     "persistentId": "cfddfaad-8276-45cc-ad74-73af2c4a03f9",
     "text": "%%bash\n/home/olga/code/sourmash/utils/hashvals-to-signature.py \\\n    --ksize 21 \\\n    --output bladder_combined_hashes.sig \\\n    bladder_combined_hashes.txt"
    },
    "executionTime": "2019-09-08T18:24:40.453Z"
   },
   {
    "cell": {
     "executionCount": 21,
     "executionEventId": "eaa81f18-619b-4fab-aa05-42568b86bb91",
     "hasError": false,
     "id": "3587221e-f94a-48c9-9794-d58dc1efbadc",
     "outputs": [
      {
       "name": "stderr",
       "output_type": "stream",
       "text": "\u001b[Kread 159324600 bp, wrote 86600 bp in matching sequencesate_Seq/3_month/170914_A00111_0058_AH3FYKDMXX__170914_A00111_0057_BH3FY7DMXX/fastqs/A1-B000610-3_56_F-1-1_R2_001.fastq.gz\n\u001b[Kread 159324600 bp, found 11 kmers matching hashvals\n"
      }
     ],
     "persistentId": "f120dc59-6599-4a10-8b08-f6b7e2d98873",
     "text": "%%bash\n\nCELL1_R1=/home/olga/pureScratch/czb-maca/Plate_Seq/3_month/170914_A00111_0058_AH3FYKDMXX__170914_A00111_0057_BH3FY7DMXX/fastqs/A1-B000610-3_56_F-1-1_R1_001.fastq.gz\nCELL1_R2=/home/olga/pureScratch/czb-maca/Plate_Seq/3_month/170914_A00111_0058_AH3FYKDMXX__170914_A00111_0057_BH3FY7DMXX/fastqs/A1-B000610-3_56_F-1-1_R2_001.fastq.gz\n\n\n/home/olga/code/sourmash/utils/signature-to-kmers.py \\\n    --output-kmers bladder_combined_hashes_kmers.txt \\\n    --output-sequences bladder_combined_hashes_sequences.txt \\\n    bladder_combined_hashes.sig $CELL1_R1 $CELL1_R2"
    },
    "executionTime": "2019-09-08T18:26:09.756Z"
   },
   {
    "cell": {
     "executionCount": 22,
     "executionEventId": "0c0fabd1-613a-4192-823d-48e207696c7c",
     "hasError": false,
     "id": "141351ed-334e-4644-bf4c-34dc9a6c1c8e",
     "outputs": [
      {
       "name": "stdout",
       "output_type": "stream",
       "text": "kmer,hashval\nATCGAGGTCATGACTGGACAC,937624453106451\nAGTGGACATGAAAGATGTGGA,635563321059591\nGGAGTGGGTAAATTGCGCGCC,1012839673718406\nGAGGATGGTGAAGTAAAGACC,1067106972354716\nGCTCAGTTATTGACTACGAGC,1026077759632952\nACTGTGGTAATTCTAGAGCTG,936637619733676\nGTGTAATATAAAAAAAAACCA,1215285019941982\nAAAAATAAAAAAAAAAACACA,171794956858086\nAAGAGGGTCGGCCGGGGGCAT,513049510280006\nAAAGTCGTCGGAAGATCCTGA,860437213521678\nCATGATTAAGAGTGACTGCCG,394031160505449\n"
      }
     ],
     "persistentId": "c0da9197-820e-493f-a15f-d0b9a31dda1b",
     "text": "! cat  bladder_combined_hashes_kmers.txt"
    },
    "executionTime": "2019-09-08T18:26:09.927Z"
   },
   {
    "cell": {
     "executionCount": 24,
     "executionEventId": "417326e7-6ebf-437f-9753-9e46609352b6",
     "hasError": false,
     "id": "3587221e-f94a-48c9-9794-d58dc1efbadc",
     "outputs": [
      {
       "name": "stderr",
       "output_type": "stream",
       "text": "\u001b[Kread 311332200 bp, wrote 1177900 bp in matching sequencese_Seq/3_month/170914_A00111_0058_AH3FYKDMXX__170914_A00111_0057_BH3FY7DMXX/fastqs/A1-B002764-3_38_F-1-1_R2_001.fastq.gz\n\u001b[Kread 311332200 bp, found 11 kmers matching hashvals\n"
      }
     ],
     "persistentId": "f120dc59-6599-4a10-8b08-f6b7e2d98873",
     "text": "%%bash\n\nCELL1_R1=/home/olga/pureScratch/czb-maca/Plate_Seq/3_month/170914_A00111_0058_AH3FYKDMXX__170914_A00111_0057_BH3FY7DMXX/fastqs/A1-B000610-3_56_F-1-1_R1_001.fastq.gz\nCELL1_R2=/home/olga/pureScratch/czb-maca/Plate_Seq/3_month/170914_A00111_0058_AH3FYKDMXX__170914_A00111_0057_BH3FY7DMXX/fastqs/A1-B000610-3_56_F-1-1_R2_001.fastq.gz\nCELL2_R1=/home/olga/pureScratch/czb-maca/Plate_Seq/3_month/170914_A00111_0058_AH3FYKDMXX__170914_A00111_0057_BH3FY7DMXX/fastqs/A1-B002764-3_38_F-1-1_R1_001.fastq.gz\nCELL2_R2=/home/olga/pureScratch/czb-maca/Plate_Seq/3_month/170914_A00111_0058_AH3FYKDMXX__170914_A00111_0057_BH3FY7DMXX/fastqs/A1-B002764-3_38_F-1-1_R2_001.fastq.gz\n\n/home/olga/code/sourmash/utils/signature-to-kmers.py \\\n    --output-kmers bladder_combined_hashes_kmers.txt \\\n    --output-sequences bladder_combined_hashes_sequences.txt \\\n    bladder_combined_hashes.sig $CELL1_R1 $CELL1_R2 $CELL2_R1 $CELL2_R2"
    },
    "executionTime": "2019-09-08T18:31:46.948Z"
   },
   {
    "cell": {
     "executionCount": 25,
     "executionEventId": "dd608627-f55f-4c22-9f1a-4182368403da",
     "hasError": true,
     "id": "95f9d046-a6ed-45aa-81c8-69659dbeb7aa",
     "outputs": [
      {
       "ename": "NameError",
       "evalue": "name 'pd' is not defined",
       "output_type": "error",
       "traceback": [
        "\u001b[0;31m---------------------------------------------------------------------------\u001b[0m",
        "\u001b[0;31mNameError\u001b[0m                                 Traceback (most recent call last)",
        "\u001b[0;32m<ipython-input-25-d22856a83c34>\u001b[0m in \u001b[0;36m<module>\u001b[0;34m\u001b[0m\n\u001b[0;32m----> 1\u001b[0;31m \u001b[0mkmer_hashes\u001b[0m \u001b[0;34m=\u001b[0m \u001b[0mpd\u001b[0m\u001b[0;34m.\u001b[0m\u001b[0mread_csv\u001b[0m\u001b[0;34m(\u001b[0m\u001b[0;34m'bladder_combined_hashes_kmers.txt'\u001b[0m\u001b[0;34m)\u001b[0m\u001b[0;34m\u001b[0m\u001b[0;34m\u001b[0m\u001b[0m\n\u001b[0m\u001b[1;32m      2\u001b[0m \u001b[0mkmer_hashes\u001b[0m\u001b[0;34m\u001b[0m\u001b[0;34m\u001b[0m\u001b[0m\n",
        "\u001b[0;31mNameError\u001b[0m: name 'pd' is not defined"
       ]
      }
     ],
     "persistentId": "b93a5320-a432-43eb-88c4-b66bd6125d52",
     "text": "kmer_hashes = pd.read_csv('bladder_combined_hashes_kmers.txt')\nkmer_hashes"
    },
    "executionTime": "2019-09-08T18:31:46.957Z"
   },
   {
    "cell": {
     "executionCount": 26,
     "executionEventId": "b08d3494-5aa3-463f-8f1e-b9e0d6d19531",
     "hasError": false,
     "id": "95f9d046-a6ed-45aa-81c8-69659dbeb7aa",
     "outputs": [
      {
       "data": {
        "text/html": "<div>\n<style scoped>\n    .dataframe tbody tr th:only-of-type {\n        vertical-align: middle;\n    }\n\n    .dataframe tbody tr th {\n        vertical-align: top;\n    }\n\n    .dataframe thead th {\n        text-align: right;\n    }\n</style>\n<table border=\"1\" class=\"dataframe\">\n  <thead>\n    <tr style=\"text-align: right;\">\n      <th></th>\n      <th>kmer</th>\n      <th>hashval</th>\n    </tr>\n  </thead>\n  <tbody>\n    <tr>\n      <td>0</td>\n      <td>ATCGAGGTCATGACTGGACAC</td>\n      <td>937624453106451</td>\n    </tr>\n    <tr>\n      <td>1</td>\n      <td>AGTGGACATGAAAGATGTGGA</td>\n      <td>635563321059591</td>\n    </tr>\n    <tr>\n      <td>2</td>\n      <td>GGAGTGGGTAAATTGCGCGCC</td>\n      <td>1012839673718406</td>\n    </tr>\n    <tr>\n      <td>3</td>\n      <td>GAGGATGGTGAAGTAAAGACC</td>\n      <td>1067106972354716</td>\n    </tr>\n    <tr>\n      <td>4</td>\n      <td>GCTCAGTTATTGACTACGAGC</td>\n      <td>1026077759632952</td>\n    </tr>\n    <tr>\n      <td>5</td>\n      <td>ACTGTGGTAATTCTAGAGCTG</td>\n      <td>936637619733676</td>\n    </tr>\n    <tr>\n      <td>6</td>\n      <td>GTGTAATATAAAAAAAAACCA</td>\n      <td>1215285019941982</td>\n    </tr>\n    <tr>\n      <td>7</td>\n      <td>AAAAATAAAAAAAAAAACACA</td>\n      <td>171794956858086</td>\n    </tr>\n    <tr>\n      <td>8</td>\n      <td>AAGAGGGTCGGCCGGGGGCAT</td>\n      <td>513049510280006</td>\n    </tr>\n    <tr>\n      <td>9</td>\n      <td>AAAGTCGTCGGAAGATCCTGA</td>\n      <td>860437213521678</td>\n    </tr>\n    <tr>\n      <td>10</td>\n      <td>CATGATTAAGAGTGACTGCCG</td>\n      <td>394031160505449</td>\n    </tr>\n  </tbody>\n</table>\n</div>",
        "text/plain": "                     kmer           hashval\n0   ATCGAGGTCATGACTGGACAC   937624453106451\n1   AGTGGACATGAAAGATGTGGA   635563321059591\n2   GGAGTGGGTAAATTGCGCGCC  1012839673718406\n3   GAGGATGGTGAAGTAAAGACC  1067106972354716\n4   GCTCAGTTATTGACTACGAGC  1026077759632952\n5   ACTGTGGTAATTCTAGAGCTG   936637619733676\n6   GTGTAATATAAAAAAAAACCA  1215285019941982\n7   AAAAATAAAAAAAAAAACACA   171794956858086\n8   AAGAGGGTCGGCCGGGGGCAT   513049510280006\n9   AAAGTCGTCGGAAGATCCTGA   860437213521678\n10  CATGATTAAGAGTGACTGCCG   394031160505449"
       },
       "execution_count": 26,
       "metadata": {},
       "output_type": "execute_result"
      }
     ],
     "persistentId": "b93a5320-a432-43eb-88c4-b66bd6125d52",
     "text": "import pandas as pd\n\nkmer_hashes = pd.read_csv('bladder_combined_hashes_kmers.txt')\nkmer_hashes"
    },
    "executionTime": "2019-09-08T18:33:36.513Z"
   },
   {
    "cell": {
     "executionCount": 27,
     "executionEventId": "8a00ee49-ac21-4c14-8563-b157f1a8a253",
     "hasError": true,
     "id": "f79789a3-14f0-4dba-b651-dacd50332104",
     "outputs": [
      {
       "ename": "FileNotFoundError",
       "evalue": "[Errno 2] No such file or directory: 'bladder_combined_hashes_kmers.fasta'",
       "output_type": "error",
       "traceback": [
        "\u001b[0;31m---------------------------------------------------------------------------\u001b[0m",
        "\u001b[0;31mFileNotFoundError\u001b[0m                         Traceback (most recent call last)",
        "\u001b[0;32m<ipython-input-27-669af6ecfdf3>\u001b[0m in \u001b[0;36m<module>\u001b[0;34m\u001b[0m\n\u001b[1;32m      1\u001b[0m \u001b[0mfasta\u001b[0m \u001b[0;34m=\u001b[0m \u001b[0;34m'bladder_combined_hashes_kmers.fasta'\u001b[0m\u001b[0;34m\u001b[0m\u001b[0;34m\u001b[0m\u001b[0m\n\u001b[1;32m      2\u001b[0m \u001b[0;34m\u001b[0m\u001b[0m\n\u001b[0;32m----> 3\u001b[0;31m \u001b[0;32mwith\u001b[0m \u001b[0mopen\u001b[0m\u001b[0;34m(\u001b[0m\u001b[0mfasta\u001b[0m\u001b[0;34m)\u001b[0m \u001b[0;32mas\u001b[0m \u001b[0mf\u001b[0m\u001b[0;34m:\u001b[0m\u001b[0;34m\u001b[0m\u001b[0;34m\u001b[0m\u001b[0m\n\u001b[0m\u001b[1;32m      4\u001b[0m     \u001b[0;32mfor\u001b[0m \u001b[0mi\u001b[0m\u001b[0;34m,\u001b[0m \u001b[0mrow\u001b[0m \u001b[0;32min\u001b[0m \u001b[0mkmer_hashes\u001b[0m\u001b[0;34m.\u001b[0m\u001b[0miterrows\u001b[0m\u001b[0;34m(\u001b[0m\u001b[0;34m)\u001b[0m\u001b[0;34m:\u001b[0m\u001b[0;34m\u001b[0m\u001b[0;34m\u001b[0m\u001b[0m\n\u001b[1;32m      5\u001b[0m         \u001b[0mf\u001b[0m\u001b[0;34m.\u001b[0m\u001b[0mwrite\u001b[0m\u001b[0;34m(\u001b[0m\u001b[0;34m\">kmer{i:02}_{kmer}\\n{hashval}\"\u001b[0m\u001b[0;34m.\u001b[0m\u001b[0mformat\u001b[0m\u001b[0;34m(\u001b[0m\u001b[0mi\u001b[0m\u001b[0;34m=\u001b[0m\u001b[0mi\u001b[0m\u001b[0;34m,\u001b[0m \u001b[0;34m**\u001b[0m\u001b[0mrow\u001b[0m\u001b[0;34m)\u001b[0m\u001b[0;34m)\u001b[0m\u001b[0;34m\u001b[0m\u001b[0;34m\u001b[0m\u001b[0m\n",
        "\u001b[0;31mFileNotFoundError\u001b[0m: [Errno 2] No such file or directory: 'bladder_combined_hashes_kmers.fasta'"
       ]
      }
     ],
     "persistentId": "46ef6c72-9006-400c-89b9-932fbdb4fefa",
     "text": "fasta = 'bladder_combined_hashes_kmers.fasta'\n\nwith open(fasta) as f:\n    for i, row in kmer_hashes.iterrows():\n        f.write(\">kmer{i:02}_{kmer}\\n{hashval}\".format(i=i, **row))\n! cat $fasta"
    },
    "executionTime": "2019-09-08T18:33:36.732Z"
   },
   {
    "cell": {
     "executionCount": 28,
     "executionEventId": "43278365-2672-4702-b7bf-1ac84b23da6d",
     "hasError": false,
     "id": "f79789a3-14f0-4dba-b651-dacd50332104",
     "outputs": [
      {
       "name": "stdout",
       "output_type": "stream",
       "text": ">kmer00_ATCGAGGTCATGACTGGACAC\n937624453106451>kmer01_AGTGGACATGAAAGATGTGGA\n635563321059591>kmer02_GGAGTGGGTAAATTGCGCGCC\n1012839673718406>kmer03_GAGGATGGTGAAGTAAAGACC\n1067106972354716>kmer04_GCTCAGTTATTGACTACGAGC\n1026077759632952>kmer05_ACTGTGGTAATTCTAGAGCTG\n936637619733676>kmer06_GTGTAATATAAAAAAAAACCA\n1215285019941982>kmer07_AAAAATAAAAAAAAAAACACA\n171794956858086>kmer08_AAGAGGGTCGGCCGGGGGCAT\n513049510280006>kmer09_AAAGTCGTCGGAAGATCCTGA\n860437213521678>kmer10_CATGATTAAGAGTGACTGCCG\n394031160505449"
      }
     ],
     "persistentId": "46ef6c72-9006-400c-89b9-932fbdb4fefa",
     "text": "fasta = 'bladder_combined_hashes_kmers.fasta'\n\nwith open(fasta, 'w') as f:\n    for i, row in kmer_hashes.iterrows():\n        f.write(\">kmer{i:02}_{kmer}\\n{hashval}\".format(i=i, **row))\n! cat $fasta"
    },
    "executionTime": "2019-09-08T18:33:43.890Z"
   },
   {
    "cell": {
     "executionCount": 29,
     "executionEventId": "ff8e4960-4aa6-46e5-a0e8-c407470e8806",
     "hasError": false,
     "id": "f79789a3-14f0-4dba-b651-dacd50332104",
     "outputs": [
      {
       "name": "stdout",
       "output_type": "stream",
       "text": ">kmer00_ATCGAGGTCATGACTGGACAC\n937624453106451\n>kmer01_AGTGGACATGAAAGATGTGGA\n635563321059591\n>kmer02_GGAGTGGGTAAATTGCGCGCC\n1012839673718406\n>kmer03_GAGGATGGTGAAGTAAAGACC\n1067106972354716\n>kmer04_GCTCAGTTATTGACTACGAGC\n1026077759632952\n>kmer05_ACTGTGGTAATTCTAGAGCTG\n936637619733676\n>kmer06_GTGTAATATAAAAAAAAACCA\n1215285019941982\n>kmer07_AAAAATAAAAAAAAAAACACA\n171794956858086\n>kmer08_AAGAGGGTCGGCCGGGGGCAT\n513049510280006\n>kmer09_AAAGTCGTCGGAAGATCCTGA\n860437213521678\n>kmer10_CATGATTAAGAGTGACTGCCG\n394031160505449\n"
      }
     ],
     "persistentId": "46ef6c72-9006-400c-89b9-932fbdb4fefa",
     "text": "fasta = 'bladder_combined_hashes_kmers.fasta'\n\nwith open(fasta, 'w') as f:\n    for i, row in kmer_hashes.iterrows():\n        f.write(\">kmer{i:02}_{kmer}\\n{hashval}\\n\".format(i=i, **row))\n! cat $fasta"
    },
    "executionTime": "2019-09-08T18:33:52.580Z"
   },
   {
    "cell": {
     "executionCount": 30,
     "executionEventId": "058e4978-4065-4792-8163-99b698d860c0",
     "hasError": false,
     "id": "f79789a3-14f0-4dba-b651-dacd50332104",
     "outputs": [
      {
       "name": "stdout",
       "output_type": "stream",
       "text": ">kmer00_937624453106451\nATCGAGGTCATGACTGGACAC\n>kmer01_635563321059591\nAGTGGACATGAAAGATGTGGA\n>kmer02_1012839673718406\nGGAGTGGGTAAATTGCGCGCC\n>kmer03_1067106972354716\nGAGGATGGTGAAGTAAAGACC\n>kmer04_1026077759632952\nGCTCAGTTATTGACTACGAGC\n>kmer05_936637619733676\nACTGTGGTAATTCTAGAGCTG\n>kmer06_1215285019941982\nGTGTAATATAAAAAAAAACCA\n>kmer07_171794956858086\nAAAAATAAAAAAAAAAACACA\n>kmer08_513049510280006\nAAGAGGGTCGGCCGGGGGCAT\n>kmer09_860437213521678\nAAAGTCGTCGGAAGATCCTGA\n>kmer10_394031160505449\nCATGATTAAGAGTGACTGCCG\n"
      }
     ],
     "persistentId": "46ef6c72-9006-400c-89b9-932fbdb4fefa",
     "text": "fasta = 'bladder_combined_hashes_kmers.fasta'\n\nwith open(fasta, 'w') as f:\n    for i, row in kmer_hashes.iterrows():\n        f.write(\">kmer{i:02}_{hashval}\\n{kmer}\\n\".format(i=i, **row))\n! cat $fasta"
    },
    "executionTime": "2019-09-08T18:34:01.318Z"
   },
   {
    "cell": {
     "executionCount": 31,
     "executionEventId": "247eb4e0-751f-42df-b70f-db31fd026141",
     "hasError": false,
     "id": "95f9d046-a6ed-45aa-81c8-69659dbeb7aa",
     "outputs": [
      {
       "data": {
        "text/html": "<div>\n<style scoped>\n    .dataframe tbody tr th:only-of-type {\n        vertical-align: middle;\n    }\n\n    .dataframe tbody tr th {\n        vertical-align: top;\n    }\n\n    .dataframe thead th {\n        text-align: right;\n    }\n</style>\n<table border=\"1\" class=\"dataframe\">\n  <thead>\n    <tr style=\"text-align: right;\">\n      <th></th>\n      <th>kmer</th>\n      <th>hashval</th>\n    </tr>\n  </thead>\n  <tbody>\n    <tr>\n      <td>7</td>\n      <td>AAAAATAAAAAAAAAAACACA</td>\n      <td>171794956858086</td>\n    </tr>\n    <tr>\n      <td>10</td>\n      <td>CATGATTAAGAGTGACTGCCG</td>\n      <td>394031160505449</td>\n    </tr>\n    <tr>\n      <td>8</td>\n      <td>AAGAGGGTCGGCCGGGGGCAT</td>\n      <td>513049510280006</td>\n    </tr>\n    <tr>\n      <td>1</td>\n      <td>AGTGGACATGAAAGATGTGGA</td>\n      <td>635563321059591</td>\n    </tr>\n    <tr>\n      <td>9</td>\n      <td>AAAGTCGTCGGAAGATCCTGA</td>\n      <td>860437213521678</td>\n    </tr>\n    <tr>\n      <td>5</td>\n      <td>ACTGTGGTAATTCTAGAGCTG</td>\n      <td>936637619733676</td>\n    </tr>\n    <tr>\n      <td>0</td>\n      <td>ATCGAGGTCATGACTGGACAC</td>\n      <td>937624453106451</td>\n    </tr>\n    <tr>\n      <td>2</td>\n      <td>GGAGTGGGTAAATTGCGCGCC</td>\n      <td>1012839673718406</td>\n    </tr>\n    <tr>\n      <td>4</td>\n      <td>GCTCAGTTATTGACTACGAGC</td>\n      <td>1026077759632952</td>\n    </tr>\n    <tr>\n      <td>3</td>\n      <td>GAGGATGGTGAAGTAAAGACC</td>\n      <td>1067106972354716</td>\n    </tr>\n    <tr>\n      <td>6</td>\n      <td>GTGTAATATAAAAAAAAACCA</td>\n      <td>1215285019941982</td>\n    </tr>\n  </tbody>\n</table>\n</div>",
        "text/plain": "                     kmer           hashval\n7   AAAAATAAAAAAAAAAACACA   171794956858086\n10  CATGATTAAGAGTGACTGCCG   394031160505449\n8   AAGAGGGTCGGCCGGGGGCAT   513049510280006\n1   AGTGGACATGAAAGATGTGGA   635563321059591\n9   AAAGTCGTCGGAAGATCCTGA   860437213521678\n5   ACTGTGGTAATTCTAGAGCTG   936637619733676\n0   ATCGAGGTCATGACTGGACAC   937624453106451\n2   GGAGTGGGTAAATTGCGCGCC  1012839673718406\n4   GCTCAGTTATTGACTACGAGC  1026077759632952\n3   GAGGATGGTGAAGTAAAGACC  1067106972354716\n6   GTGTAATATAAAAAAAAACCA  1215285019941982"
       },
       "execution_count": 31,
       "metadata": {},
       "output_type": "execute_result"
      }
     ],
     "persistentId": "b93a5320-a432-43eb-88c4-b66bd6125d52",
     "text": "import pandas as pd\n\nkmer_hashes = pd.read_csv('bladder_combined_hashes_kmers.txt')\nkmer_hashes = kmer_hashes.sort_values('hashval')\nkmer_hashes"
    },
    "executionTime": "2019-09-08T18:34:52.529Z"
   },
   {
    "cell": {
     "executionCount": 32,
     "executionEventId": "8c4c3e3f-bcc8-48ef-9b2a-121665f424df",
     "hasError": false,
     "id": "f79789a3-14f0-4dba-b651-dacd50332104",
     "outputs": [
      {
       "name": "stdout",
       "output_type": "stream",
       "text": ">kmer07_171794956858086\nAAAAATAAAAAAAAAAACACA\n>kmer10_394031160505449\nCATGATTAAGAGTGACTGCCG\n>kmer08_513049510280006\nAAGAGGGTCGGCCGGGGGCAT\n>kmer01_635563321059591\nAGTGGACATGAAAGATGTGGA\n>kmer09_860437213521678\nAAAGTCGTCGGAAGATCCTGA\n>kmer05_936637619733676\nACTGTGGTAATTCTAGAGCTG\n>kmer00_937624453106451\nATCGAGGTCATGACTGGACAC\n>kmer02_1012839673718406\nGGAGTGGGTAAATTGCGCGCC\n>kmer04_1026077759632952\nGCTCAGTTATTGACTACGAGC\n>kmer03_1067106972354716\nGAGGATGGTGAAGTAAAGACC\n>kmer06_1215285019941982\nGTGTAATATAAAAAAAAACCA\n"
      }
     ],
     "persistentId": "46ef6c72-9006-400c-89b9-932fbdb4fefa",
     "text": "fasta = 'bladder_combined_hashes_kmers.fasta'\n\nwith open(fasta, 'w') as f:\n    for i, row in kmer_hashes.iterrows():\n        f.write(\">kmer{i:02}_{hashval}\\n{kmer}\\n\".format(i=i, **row))\n! cat $fasta"
    },
    "executionTime": "2019-09-08T18:34:53.568Z"
   },
   {
    "cell": {
     "executionCount": 33,
     "executionEventId": "fe433a07-673c-4ad6-b634-d6146362a308",
     "hasError": false,
     "id": "f79789a3-14f0-4dba-b651-dacd50332104",
     "outputs": [
      {
       "name": "stdout",
       "output_type": "stream",
       "text": ">kmer00_171794956858086\nAAAAATAAAAAAAAAAACACA\n>kmer01_394031160505449\nCATGATTAAGAGTGACTGCCG\n>kmer02_513049510280006\nAAGAGGGTCGGCCGGGGGCAT\n>kmer03_635563321059591\nAGTGGACATGAAAGATGTGGA\n>kmer04_860437213521678\nAAAGTCGTCGGAAGATCCTGA\n>kmer05_936637619733676\nACTGTGGTAATTCTAGAGCTG\n>kmer06_937624453106451\nATCGAGGTCATGACTGGACAC\n>kmer07_1012839673718406\nGGAGTGGGTAAATTGCGCGCC\n>kmer08_1026077759632952\nGCTCAGTTATTGACTACGAGC\n>kmer09_1067106972354716\nGAGGATGGTGAAGTAAAGACC\n>kmer10_1215285019941982\nGTGTAATATAAAAAAAAACCA\n"
      }
     ],
     "persistentId": "46ef6c72-9006-400c-89b9-932fbdb4fefa",
     "text": "fasta = 'bladder_combined_hashes_kmers.fasta'\n\nwith open(fasta, 'w') as f:\n    for i, (_, row) in enumerate(kmer_hashes.iterrows()):\n        f.write(\">kmer{i:02}_{hashval}\\n{kmer}\\n\".format(i=i, **row))\n! cat $fasta"
    },
    "executionTime": "2019-09-08T18:55:01.194Z"
   }
  ],
  "kernelspec": {
   "display_name": "Python [conda env:sourmash-hash2kmer]",
   "language": "python",
   "name": "conda-env-sourmash-hash2kmer-py"
  },
  "language_info": {
   "codemirror_mode": {
    "name": "ipython",
    "version": 3
   },
   "file_extension": ".py",
   "mimetype": "text/x-python",
   "name": "python",
   "nbconvert_exporter": "python",
   "pygments_lexer": "ipython3",
   "version": "3.7.3"
  },
  "uuid": "f20becd1-a359-4c02-b5af-24ae72758e8b"
 },
 "nbformat": 4,
 "nbformat_minor": 4
}
