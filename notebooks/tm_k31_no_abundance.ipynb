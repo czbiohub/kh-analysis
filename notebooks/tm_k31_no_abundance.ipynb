{
 "cells": [
  {
   "cell_type": "markdown",
   "metadata": {},
   "source": [
    "# Compare k-mer abundance and presence/absence vs \"traditional\" single-cell RNA-seq processing\n",
    "\n",
    "- 500 k-mers, with abundance, were hashed from ~50k cells in Tabula Muris using `sourmash`\n"
   ]
  },
  {
   "cell_type": "markdown",
   "metadata": {},
   "source": [
    "## Load Tabula Muris Senis data with fixed annotations"
   ]
  },
  {
   "cell_type": "code",
   "execution_count": 1,
   "metadata": {},
   "outputs": [],
   "source": [
    "import dask.dataframe as dd\n",
    "import numpy as np\n",
    "import pandas as pd\n",
    "\n",
    "import khtools\n",
    "\n",
    "%load_ext autoreload\n",
    "%autoreload 2"
   ]
  },
  {
   "cell_type": "code",
   "execution_count": 2,
   "metadata": {},
   "outputs": [
    {
     "name": "stdout",
     "output_type": "stream",
     "text": [
      "scanpy==1.3.2 anndata==0.6.11 numpy==1.14.6 scipy==1.2.1 pandas==0.24.2 scikit-learn==0.20.3 statsmodels==0.9.0 python-igraph==0.7.1 louvain==0.6.1 \n"
     ]
    }
   ],
   "source": [
    "import scanpy.api as sc\n",
    "sc. logging.print_versions()"
   ]
  },
  {
   "cell_type": "code",
   "execution_count": 4,
   "metadata": {},
   "outputs": [],
   "source": [
    "# %%time\n",
    "\n",
    "# h5ad = '/home/olga/ibm_lg/tabula-muris-senis/maca-facs-re-processed-annotated-fixed-tissues.h5ad'\n",
    "\n",
    "# tms = sc.read_h5ad(h5ad)\n",
    "# tms"
   ]
  },
  {
   "cell_type": "markdown",
   "metadata": {},
   "source": [
    "## Read 50k x 50k similarity matrix (~50GB csv file)"
   ]
  },
  {
   "cell_type": "code",
   "execution_count": 5,
   "metadata": {},
   "outputs": [
    {
     "name": "stdout",
     "output_type": "stream",
     "text": [
      "-rw-rw-r-- 1 olga olga 14G Aug  7 11:51 /home/olga/pureScratch/olgabot-maca/facs/sourmash_compare_k31_ignore_abundance.csv\n"
     ]
    }
   ],
   "source": [
    "csv = '/home/olga/pureScratch/olgabot-maca/facs/sourmash_compare_k31_ignore_abundance.csv'\n",
    "! ls -lha $csv"
   ]
  },
  {
   "cell_type": "markdown",
   "metadata": {},
   "source": [
    "Had to increase `sample` to be the number of bytes(?) per row for `dd.read_csv` to be happy"
   ]
  },
  {
   "cell_type": "code",
   "execution_count": null,
   "metadata": {},
   "outputs": [],
   "source": [
    "%time similarity = dd.read_csv(csv, sample=2048000)"
   ]
  },
  {
   "cell_type": "code",
   "execution_count": null,
   "metadata": {},
   "outputs": [],
   "source": [
    "%time similarity.iloc[:, :5].head()"
   ]
  },
  {
   "cell_type": "code",
   "execution_count": null,
   "metadata": {},
   "outputs": [],
   "source": [
    "annotations = pd.read_csv('https://github.com/czbiohub/tabula-muris/raw/master/00_data_ingest/18_global_annotation_csv/annotations_facs.csv', \n",
    "                          index_col='cell')\n",
    "annotations.index = annotations.index.str.replace('.', '-')\n",
    "annotations.columns = annotations.columns.str.replace('.', '_')\n",
    "annotations['sample_id'] = annotations.index\n",
    "annotations = annotations.fillna(\"NA\")\n",
    "print(annotations.shape)\n",
    "annotations.head()"
   ]
  },
  {
   "cell_type": "code",
   "execution_count": null,
   "metadata": {},
   "outputs": [],
   "source": [
    "color_cols = ['tissue', 'subtissue', 'cell_ontology_class', 'mouse_id', 'mouse_sex', 'plate_barcode']\n",
    "palette_names = ['tab20', 'tab10', 'cubehelix', 'husl', 'Paired', 'Set2']\n",
    "palettes = dict(zip(color_cols, palette_names))\n",
    "palettes"
   ]
  },
  {
   "cell_type": "code",
   "execution_count": null,
   "metadata": {},
   "outputs": [],
   "source": [
    "graphs = {}\n",
    "positions = {}"
   ]
  },
  {
   "cell_type": "code",
   "execution_count": null,
   "metadata": {},
   "outputs": [],
   "source": [
    "key = 'k31_with_abundance'\n",
    "\n",
    "n_neighbors = 5\n",
    "figure_folder = 's3://kmer-hashing/tabula-muris/n_hashes=500/'\n",
    "figure_prefix = 'molecule=DNA_ksize=31_ignore-abundance=True'\n",
    "title = 'Tabula Muris'\n",
    "\n",
    "g, pos = khtools.knn.build_graph_and_plot(similarity, annotations, n_neighbors,\n",
    "                                          color_cols, palettes, figure_folder, figure_prefix, title)\n",
    "\n",
    "graphs[key] = g\n",
    "positions[key] = pos"
   ]
  },
  {
   "cell_type": "code",
   "execution_count": 27,
   "metadata": {},
   "outputs": [
    {
     "data": {
      "text/plain": [
       "'0.1.0'"
      ]
     },
     "execution_count": 27,
     "metadata": {},
     "output_type": "execute_result"
    }
   ],
   "source": [
    "khtools.__version__"
   ]
  },
  {
   "cell_type": "markdown",
   "metadata": {},
   "source": [
    "## Run Leiden Clustering\n",
    "\n",
    "\n",
    "Below is excerpted from [scanpy's leiden clustering algorithm](https://github.com/theislab/scanpy/blob/master/scanpy/tools/_leiden.py)"
   ]
  },
  {
   "cell_type": "code",
   "execution_count": 6,
   "metadata": {},
   "outputs": [
    {
     "ename": "ImportError",
     "evalue": "Please install the leiden algorithm: `pip3 install leidenalg`.",
     "output_type": "error",
     "traceback": [
      "\u001b[0;31m---------------------------------------------------------------------------\u001b[0m",
      "\u001b[0;31mModuleNotFoundError\u001b[0m                       Traceback (most recent call last)",
      "\u001b[0;32m<ipython-input-6-84434ec4b56a>\u001b[0m in \u001b[0;36m<module>\u001b[0;34m()\u001b[0m\n\u001b[1;32m      1\u001b[0m \u001b[0;32mtry\u001b[0m\u001b[0;34m:\u001b[0m\u001b[0;34m\u001b[0m\u001b[0;34m\u001b[0m\u001b[0m\n\u001b[0;32m----> 2\u001b[0;31m     \u001b[0;32mimport\u001b[0m \u001b[0mleidenalg\u001b[0m\u001b[0;34m\u001b[0m\u001b[0;34m\u001b[0m\u001b[0m\n\u001b[0m\u001b[1;32m      3\u001b[0m \u001b[0;32mexcept\u001b[0m \u001b[0mImportError\u001b[0m\u001b[0;34m:\u001b[0m\u001b[0;34m\u001b[0m\u001b[0;34m\u001b[0m\u001b[0m\n",
      "\u001b[0;31mModuleNotFoundError\u001b[0m: No module named 'leidenalg'",
      "\nDuring handling of the above exception, another exception occurred:\n",
      "\u001b[0;31mImportError\u001b[0m                               Traceback (most recent call last)",
      "\u001b[0;32m<ipython-input-6-84434ec4b56a>\u001b[0m in \u001b[0;36m<module>\u001b[0;34m()\u001b[0m\n\u001b[1;32m      2\u001b[0m     \u001b[0;32mimport\u001b[0m \u001b[0mleidenalg\u001b[0m\u001b[0;34m\u001b[0m\u001b[0;34m\u001b[0m\u001b[0m\n\u001b[1;32m      3\u001b[0m \u001b[0;32mexcept\u001b[0m \u001b[0mImportError\u001b[0m\u001b[0;34m:\u001b[0m\u001b[0;34m\u001b[0m\u001b[0;34m\u001b[0m\u001b[0m\n\u001b[0;32m----> 4\u001b[0;31m     \u001b[0;32mraise\u001b[0m \u001b[0mImportError\u001b[0m\u001b[0;34m(\u001b[0m\u001b[0;34m'Please install the leiden algorithm: `pip3 install leidenalg`.'\u001b[0m\u001b[0;34m)\u001b[0m\u001b[0;34m\u001b[0m\u001b[0;34m\u001b[0m\u001b[0m\n\u001b[0m",
      "\u001b[0;31mImportError\u001b[0m: Please install the leiden algorithm: `pip3 install leidenalg`."
     ]
    }
   ],
   "source": [
    "\n",
    "\n",
    "try:\n",
    "    import leidenalg\n",
    "except ImportError:\n",
    "    raise ImportError('Please install the leiden algorithm: `pip3 install leidenalg`.')\n",
    "\n",
    "# convert it to igraph\n",
    "g = scanpy.utils.get_igraph_from_adjacency(adjacency, directed=directed)\n",
    "# flip to the default partition type if not overriden by the user\n",
    "if partition_type is None:\n",
    "    partition_type = leidenalg.RBConfigurationVertexPartition\n",
    "# prepare find_partition arguments as a dictionary, appending to whatever the user provided\n",
    "# it needs to be this way as this allows for the accounting of a None resolution\n",
    "# (in the case of a partition variant that doesn't take it on input)\n",
    "\n",
    "partition_kwargs = None\n",
    "\n",
    "if partition_kwargs is None:\n",
    "    partition_kwargs = {}\n",
    "if use_weights:\n",
    "    partition_kwargs['weights'] = np.array(g.es['weight']).astype(np.float64)\n",
    "partition_kwargs['n_iterations'] = n_iterations\n",
    "partition_kwargs['seed'] = random_state\n",
    "if resolution is not None:\n",
    "    partition_kwargs['resolution_parameter'] = resolution\n",
    "# clustering proper\n",
    "part = leidenalg.find_partition(g, partition_type, **partition_kwargs)\n",
    "# store output into adata.obs\n",
    "groups = np.array(part.membership)\n"
   ]
  },
  {
   "cell_type": "markdown",
   "metadata": {},
   "source": [
    "## Make confusion matrix with Tabula Muris Senis leiden clustering"
   ]
  },
  {
   "cell_type": "code",
   "execution_count": null,
   "metadata": {},
   "outputs": [],
   "source": [
    "tms.obs['leiden'].head()"
   ]
  }
 ],
 "metadata": {
  "kernelspec": {
   "display_name": "Python [conda env:kmer-hashing]",
   "language": "python",
   "name": "conda-env-kmer-hashing-py"
  },
  "language_info": {
   "codemirror_mode": {
    "name": "ipython",
    "version": 3
   },
   "file_extension": ".py",
   "mimetype": "text/x-python",
   "name": "python",
   "nbconvert_exporter": "python",
   "pygments_lexer": "ipython3",
   "version": "3.6.8"
  }
 },
 "nbformat": 4,
 "nbformat_minor": 4
}
