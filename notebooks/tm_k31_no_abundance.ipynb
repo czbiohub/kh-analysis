{
 "cells": [
  {
   "cell_type": "markdown",
   "metadata": {},
   "source": [
    "# Compare k-mer abundance and presence/absence vs \"traditional\" single-cell RNA-seq processing\n",
    "\n",
    "- 500 k-mers, with abundance, were hashed from ~50k cells in Tabula Muris using `sourmash`\n"
   ]
  },
  {
   "cell_type": "markdown",
   "metadata": {},
   "source": [
    "## Load Tabula Muris Senis data with fixed annotations"
   ]
  },
  {
   "cell_type": "code",
   "execution_count": 1,
   "metadata": {},
   "outputs": [],
   "source": [
    "import dask.dataframe as dd\n",
    "import numpy as np\n",
    "import pandas as pd\n",
    "\n",
    "import khtools\n",
    "\n",
    "%load_ext autoreload\n",
    "%autoreload 2"
   ]
  },
  {
   "cell_type": "code",
   "execution_count": 2,
   "metadata": {},
   "outputs": [
    {
     "name": "stdout",
     "output_type": "stream",
     "text": [
      "scanpy==1.3.2 anndata==0.6.11 numpy==1.14.6 scipy==1.2.1 pandas==0.24.2 scikit-learn==0.20.3 statsmodels==0.9.0 python-igraph==0.7.1 louvain==0.6.1 \n"
     ]
    }
   ],
   "source": [
    "import scanpy.api as sc\n",
    "sc. logging.print_versions()"
   ]
  },
  {
   "cell_type": "code",
   "execution_count": 4,
   "metadata": {},
   "outputs": [],
   "source": [
    "# %%time\n",
    "\n",
    "# h5ad = '/home/olga/ibm_lg/tabula-muris-senis/maca-facs-re-processed-annotated-fixed-tissues.h5ad'\n",
    "\n",
    "# tms = sc.read_h5ad(h5ad)\n",
    "# tms"
   ]
  },
  {
   "cell_type": "markdown",
   "metadata": {},
   "source": [
    "## Read 50k x 50k similarity matrix (~50GB csv file)"
   ]
  },
  {
   "cell_type": "code",
   "execution_count": 13,
   "metadata": {},
   "outputs": [
    {
     "name": "stdout",
     "output_type": "stream",
     "text": [
      "-rw-rw-r-- 1 olga olga 14G Aug  7 11:51 /home/olga/pureScratch/olgabot-maca/facs/sourmash_compare_k31_ignore_abundance.csv\n"
     ]
    }
   ],
   "source": [
    "csv = '/home/olga/pureScratch/olgabot-maca/facs/sourmash_compare_k31_ignore_abundance.csv'\n",
    "! ls -lha $csv"
   ]
  },
  {
   "cell_type": "markdown",
   "metadata": {},
   "source": [
    "Had to increase `sample` to be the number of bytes(?) per row for `dd.read_csv` to be happy"
   ]
  },
  {
   "cell_type": "code",
   "execution_count": 14,
   "metadata": {},
   "outputs": [
    {
     "name": "stdout",
     "output_type": "stream",
     "text": [
      "CPU times: user 6min 57s, sys: 3.74 s, total: 7min 1s\n",
      "Wall time: 7min\n"
     ]
    }
   ],
   "source": [
    "%time similarity = dd.read_csv(csv, sample=2048000)"
   ]
  },
  {
   "cell_type": "code",
   "execution_count": null,
   "metadata": {},
   "outputs": [],
   "source": [
    "similarity.iloc[:, :5].head()"
   ]
  },
  {
   "cell_type": "code",
   "execution_count": 15,
   "metadata": {},
   "outputs": [
    {
     "name": "stdout",
     "output_type": "stream",
     "text": [
      "CPU times: user 45.5 s, sys: 436 ms, total: 45.9 s\n",
      "Wall time: 45.2 s\n"
     ]
    },
    {
     "data": {
      "text/html": [
       "<div>\n",
       "<style scoped>\n",
       "    .dataframe tbody tr th:only-of-type {\n",
       "        vertical-align: middle;\n",
       "    }\n",
       "\n",
       "    .dataframe tbody tr th {\n",
       "        vertical-align: top;\n",
       "    }\n",
       "\n",
       "    .dataframe thead th {\n",
       "        text-align: right;\n",
       "    }\n",
       "</style>\n",
       "<table border=\"1\" class=\"dataframe\">\n",
       "  <thead>\n",
       "    <tr style=\"text-align: right;\">\n",
       "      <th></th>\n",
       "      <th>A1-B000127-3_38_F-1-1_S1</th>\n",
       "      <th>A1-B000126-3_39_F-1-1_S289</th>\n",
       "      <th>A1-B000167-3_56_F-1-1_S228</th>\n",
       "      <th>A1-B000168-3_57_F-1-1_S177</th>\n",
       "      <th>A1-B000412-3_56_F-1-1_S110</th>\n",
       "    </tr>\n",
       "  </thead>\n",
       "  <tbody>\n",
       "    <tr>\n",
       "      <th>0</th>\n",
       "      <td>1.000</td>\n",
       "      <td>0.048</td>\n",
       "      <td>0.052</td>\n",
       "      <td>0.000</td>\n",
       "      <td>0.034</td>\n",
       "    </tr>\n",
       "    <tr>\n",
       "      <th>1</th>\n",
       "      <td>0.048</td>\n",
       "      <td>1.000</td>\n",
       "      <td>0.094</td>\n",
       "      <td>0.002</td>\n",
       "      <td>0.034</td>\n",
       "    </tr>\n",
       "    <tr>\n",
       "      <th>2</th>\n",
       "      <td>0.052</td>\n",
       "      <td>0.094</td>\n",
       "      <td>1.000</td>\n",
       "      <td>0.000</td>\n",
       "      <td>0.036</td>\n",
       "    </tr>\n",
       "    <tr>\n",
       "      <th>3</th>\n",
       "      <td>0.000</td>\n",
       "      <td>0.002</td>\n",
       "      <td>0.000</td>\n",
       "      <td>1.000</td>\n",
       "      <td>0.000</td>\n",
       "    </tr>\n",
       "    <tr>\n",
       "      <th>4</th>\n",
       "      <td>0.034</td>\n",
       "      <td>0.034</td>\n",
       "      <td>0.036</td>\n",
       "      <td>0.000</td>\n",
       "      <td>1.000</td>\n",
       "    </tr>\n",
       "  </tbody>\n",
       "</table>\n",
       "</div>"
      ],
      "text/plain": [
       "   A1-B000127-3_38_F-1-1_S1  A1-B000126-3_39_F-1-1_S289  \\\n",
       "0                     1.000                       0.048   \n",
       "1                     0.048                       1.000   \n",
       "2                     0.052                       0.094   \n",
       "3                     0.000                       0.002   \n",
       "4                     0.034                       0.034   \n",
       "\n",
       "   A1-B000167-3_56_F-1-1_S228  A1-B000168-3_57_F-1-1_S177  \\\n",
       "0                       0.052                       0.000   \n",
       "1                       0.094                       0.002   \n",
       "2                       1.000                       0.000   \n",
       "3                       0.000                       1.000   \n",
       "4                       0.036                       0.000   \n",
       "\n",
       "   A1-B000412-3_56_F-1-1_S110  \n",
       "0                       0.034  \n",
       "1                       0.034  \n",
       "2                       0.036  \n",
       "3                       0.000  \n",
       "4                       1.000  "
      ]
     },
     "execution_count": 15,
     "metadata": {},
     "output_type": "execute_result"
    }
   ],
   "source": [
    "%time similarity.iloc[:, :5].head()"
   ]
  },
  {
   "cell_type": "code",
   "execution_count": 16,
   "metadata": {},
   "outputs": [
    {
     "name": "stdout",
     "output_type": "stream",
     "text": [
      "(44949, 24)\n"
     ]
    },
    {
     "name": "stderr",
     "output_type": "stream",
     "text": [
      "/home/olga/miniconda3/envs/kmer-hashing/lib/python3.6/site-packages/IPython/core/interactiveshell.py:2785: DtypeWarning: Columns (0,1) have mixed types. Specify dtype option on import or set low_memory=False.\n",
      "  interactivity=interactivity, compiler=compiler, result=result)\n"
     ]
    },
    {
     "data": {
      "text/html": [
       "<div>\n",
       "<style scoped>\n",
       "    .dataframe tbody tr th:only-of-type {\n",
       "        vertical-align: middle;\n",
       "    }\n",
       "\n",
       "    .dataframe tbody tr th {\n",
       "        vertical-align: top;\n",
       "    }\n",
       "\n",
       "    .dataframe thead th {\n",
       "        text-align: right;\n",
       "    }\n",
       "</style>\n",
       "<table border=\"1\" class=\"dataframe\">\n",
       "  <thead>\n",
       "    <tr style=\"text-align: right;\">\n",
       "      <th></th>\n",
       "      <th>Neurog3&gt;0_raw</th>\n",
       "      <th>Neurog3&gt;0_scaled</th>\n",
       "      <th>cell_ontology_class</th>\n",
       "      <th>cell_ontology_id</th>\n",
       "      <th>cluster_ids</th>\n",
       "      <th>free_annotation</th>\n",
       "      <th>mouse_id</th>\n",
       "      <th>mouse_sex</th>\n",
       "      <th>plate_barcode</th>\n",
       "      <th>subsetA</th>\n",
       "      <th>...</th>\n",
       "      <th>subsetC_cluster_ids</th>\n",
       "      <th>subsetD</th>\n",
       "      <th>subsetD_cluster_ids</th>\n",
       "      <th>subsetE</th>\n",
       "      <th>subsetE_cluster_ids</th>\n",
       "      <th>subtissue</th>\n",
       "      <th>tissue</th>\n",
       "      <th>tissue_tSNE_1</th>\n",
       "      <th>tissue_tSNE_2</th>\n",
       "      <th>sample_id</th>\n",
       "    </tr>\n",
       "    <tr>\n",
       "      <th>cell</th>\n",
       "      <th></th>\n",
       "      <th></th>\n",
       "      <th></th>\n",
       "      <th></th>\n",
       "      <th></th>\n",
       "      <th></th>\n",
       "      <th></th>\n",
       "      <th></th>\n",
       "      <th></th>\n",
       "      <th></th>\n",
       "      <th></th>\n",
       "      <th></th>\n",
       "      <th></th>\n",
       "      <th></th>\n",
       "      <th></th>\n",
       "      <th></th>\n",
       "      <th></th>\n",
       "      <th></th>\n",
       "      <th></th>\n",
       "      <th></th>\n",
       "      <th></th>\n",
       "    </tr>\n",
       "  </thead>\n",
       "  <tbody>\n",
       "    <tr>\n",
       "      <th>A1-B000610-3_56_F-1-1</th>\n",
       "      <td>NA</td>\n",
       "      <td>NA</td>\n",
       "      <td>bladder cell</td>\n",
       "      <td>CL:1001319</td>\n",
       "      <td>5</td>\n",
       "      <td>Bladder mesenchymal cell</td>\n",
       "      <td>3_56_F</td>\n",
       "      <td>F</td>\n",
       "      <td>B000610</td>\n",
       "      <td>NA</td>\n",
       "      <td>...</td>\n",
       "      <td>NA</td>\n",
       "      <td>NA</td>\n",
       "      <td>NA</td>\n",
       "      <td>NA</td>\n",
       "      <td>NA</td>\n",
       "      <td>NA</td>\n",
       "      <td>Bladder</td>\n",
       "      <td>-7.182841</td>\n",
       "      <td>-10.895094</td>\n",
       "      <td>A1-B000610-3_56_F-1-1</td>\n",
       "    </tr>\n",
       "    <tr>\n",
       "      <th>A1-B002764-3_38_F-1-1</th>\n",
       "      <td>NA</td>\n",
       "      <td>NA</td>\n",
       "      <td>bladder urothelial cell</td>\n",
       "      <td>CL:1001428</td>\n",
       "      <td>3</td>\n",
       "      <td>Luminal bladder epithelial cell</td>\n",
       "      <td>3_38_F</td>\n",
       "      <td>F</td>\n",
       "      <td>B002764</td>\n",
       "      <td>NA</td>\n",
       "      <td>...</td>\n",
       "      <td>NA</td>\n",
       "      <td>NA</td>\n",
       "      <td>NA</td>\n",
       "      <td>NA</td>\n",
       "      <td>NA</td>\n",
       "      <td>NA</td>\n",
       "      <td>Bladder</td>\n",
       "      <td>4.199059</td>\n",
       "      <td>-11.050240</td>\n",
       "      <td>A1-B002764-3_38_F-1-1</td>\n",
       "    </tr>\n",
       "    <tr>\n",
       "      <th>A1-B002771-3_39_F-1-1</th>\n",
       "      <td>NA</td>\n",
       "      <td>NA</td>\n",
       "      <td>bladder cell</td>\n",
       "      <td>CL:1001319</td>\n",
       "      <td>5</td>\n",
       "      <td>Bladder mesenchymal cell</td>\n",
       "      <td>3_39_F</td>\n",
       "      <td>F</td>\n",
       "      <td>B002771</td>\n",
       "      <td>NA</td>\n",
       "      <td>...</td>\n",
       "      <td>NA</td>\n",
       "      <td>NA</td>\n",
       "      <td>NA</td>\n",
       "      <td>NA</td>\n",
       "      <td>NA</td>\n",
       "      <td>NA</td>\n",
       "      <td>Bladder</td>\n",
       "      <td>-11.995435</td>\n",
       "      <td>-7.325534</td>\n",
       "      <td>A1-B002771-3_39_F-1-1</td>\n",
       "    </tr>\n",
       "    <tr>\n",
       "      <th>A1-D041914-3_8_M-1-1</th>\n",
       "      <td>NA</td>\n",
       "      <td>NA</td>\n",
       "      <td>bladder cell</td>\n",
       "      <td>CL:1001319</td>\n",
       "      <td>5</td>\n",
       "      <td>Bladder mesenchymal cell</td>\n",
       "      <td>3_8_M</td>\n",
       "      <td>M</td>\n",
       "      <td>D041914</td>\n",
       "      <td>NA</td>\n",
       "      <td>...</td>\n",
       "      <td>NA</td>\n",
       "      <td>NA</td>\n",
       "      <td>NA</td>\n",
       "      <td>NA</td>\n",
       "      <td>NA</td>\n",
       "      <td>NA</td>\n",
       "      <td>Bladder</td>\n",
       "      <td>-6.820022</td>\n",
       "      <td>-14.174246</td>\n",
       "      <td>A1-D041914-3_8_M-1-1</td>\n",
       "    </tr>\n",
       "    <tr>\n",
       "      <th>A1-D042253-3_9_M-1-1</th>\n",
       "      <td>NA</td>\n",
       "      <td>NA</td>\n",
       "      <td>bladder cell</td>\n",
       "      <td>CL:1001319</td>\n",
       "      <td>2</td>\n",
       "      <td>Bladder mesenchymal cell</td>\n",
       "      <td>3_9_M</td>\n",
       "      <td>M</td>\n",
       "      <td>D042253</td>\n",
       "      <td>NA</td>\n",
       "      <td>...</td>\n",
       "      <td>NA</td>\n",
       "      <td>NA</td>\n",
       "      <td>NA</td>\n",
       "      <td>NA</td>\n",
       "      <td>NA</td>\n",
       "      <td>NA</td>\n",
       "      <td>Bladder</td>\n",
       "      <td>-24.163538</td>\n",
       "      <td>-7.499349</td>\n",
       "      <td>A1-D042253-3_9_M-1-1</td>\n",
       "    </tr>\n",
       "  </tbody>\n",
       "</table>\n",
       "<p>5 rows × 24 columns</p>\n",
       "</div>"
      ],
      "text/plain": [
       "                      Neurog3>0_raw Neurog3>0_scaled      cell_ontology_class  \\\n",
       "cell                                                                            \n",
       "A1-B000610-3_56_F-1-1            NA               NA             bladder cell   \n",
       "A1-B002764-3_38_F-1-1            NA               NA  bladder urothelial cell   \n",
       "A1-B002771-3_39_F-1-1            NA               NA             bladder cell   \n",
       "A1-D041914-3_8_M-1-1             NA               NA             bladder cell   \n",
       "A1-D042253-3_9_M-1-1             NA               NA             bladder cell   \n",
       "\n",
       "                      cell_ontology_id  cluster_ids  \\\n",
       "cell                                                  \n",
       "A1-B000610-3_56_F-1-1       CL:1001319            5   \n",
       "A1-B002764-3_38_F-1-1       CL:1001428            3   \n",
       "A1-B002771-3_39_F-1-1       CL:1001319            5   \n",
       "A1-D041914-3_8_M-1-1        CL:1001319            5   \n",
       "A1-D042253-3_9_M-1-1        CL:1001319            2   \n",
       "\n",
       "                                       free_annotation mouse_id mouse_sex  \\\n",
       "cell                                                                        \n",
       "A1-B000610-3_56_F-1-1         Bladder mesenchymal cell   3_56_F         F   \n",
       "A1-B002764-3_38_F-1-1  Luminal bladder epithelial cell   3_38_F         F   \n",
       "A1-B002771-3_39_F-1-1         Bladder mesenchymal cell   3_39_F         F   \n",
       "A1-D041914-3_8_M-1-1          Bladder mesenchymal cell    3_8_M         M   \n",
       "A1-D042253-3_9_M-1-1          Bladder mesenchymal cell    3_9_M         M   \n",
       "\n",
       "                      plate_barcode subsetA  ... subsetC_cluster_ids subsetD  \\\n",
       "cell                                         ...                               \n",
       "A1-B000610-3_56_F-1-1       B000610      NA  ...                  NA      NA   \n",
       "A1-B002764-3_38_F-1-1       B002764      NA  ...                  NA      NA   \n",
       "A1-B002771-3_39_F-1-1       B002771      NA  ...                  NA      NA   \n",
       "A1-D041914-3_8_M-1-1        D041914      NA  ...                  NA      NA   \n",
       "A1-D042253-3_9_M-1-1        D042253      NA  ...                  NA      NA   \n",
       "\n",
       "                      subsetD_cluster_ids subsetE subsetE_cluster_ids  \\\n",
       "cell                                                                    \n",
       "A1-B000610-3_56_F-1-1                  NA      NA                  NA   \n",
       "A1-B002764-3_38_F-1-1                  NA      NA                  NA   \n",
       "A1-B002771-3_39_F-1-1                  NA      NA                  NA   \n",
       "A1-D041914-3_8_M-1-1                   NA      NA                  NA   \n",
       "A1-D042253-3_9_M-1-1                   NA      NA                  NA   \n",
       "\n",
       "                      subtissue   tissue tissue_tSNE_1 tissue_tSNE_2  \\\n",
       "cell                                                                   \n",
       "A1-B000610-3_56_F-1-1        NA  Bladder     -7.182841    -10.895094   \n",
       "A1-B002764-3_38_F-1-1        NA  Bladder      4.199059    -11.050240   \n",
       "A1-B002771-3_39_F-1-1        NA  Bladder    -11.995435     -7.325534   \n",
       "A1-D041914-3_8_M-1-1         NA  Bladder     -6.820022    -14.174246   \n",
       "A1-D042253-3_9_M-1-1         NA  Bladder    -24.163538     -7.499349   \n",
       "\n",
       "                                   sample_id  \n",
       "cell                                          \n",
       "A1-B000610-3_56_F-1-1  A1-B000610-3_56_F-1-1  \n",
       "A1-B002764-3_38_F-1-1  A1-B002764-3_38_F-1-1  \n",
       "A1-B002771-3_39_F-1-1  A1-B002771-3_39_F-1-1  \n",
       "A1-D041914-3_8_M-1-1    A1-D041914-3_8_M-1-1  \n",
       "A1-D042253-3_9_M-1-1    A1-D042253-3_9_M-1-1  \n",
       "\n",
       "[5 rows x 24 columns]"
      ]
     },
     "execution_count": 16,
     "metadata": {},
     "output_type": "execute_result"
    }
   ],
   "source": [
    "annotations = pd.read_csv('https://github.com/czbiohub/tabula-muris/raw/master/00_data_ingest/18_global_annotation_csv/annotations_facs.csv', \n",
    "                          index_col='cell')\n",
    "annotations.index = annotations.index.str.replace('.', '-')\n",
    "annotations.columns = annotations.columns.str.replace('.', '_')\n",
    "annotations['sample_id'] = annotations.index\n",
    "annotations = annotations.fillna(\"NA\")\n",
    "print(annotations.shape)\n",
    "annotations.head()"
   ]
  },
  {
   "cell_type": "markdown",
   "metadata": {},
   "source": [
    "## Dimensionality reduction"
   ]
  },
  {
   "cell_type": "markdown",
   "metadata": {},
   "source": [
    "### PCA on similarties"
   ]
  },
  {
   "cell_type": "code",
   "execution_count": 20,
   "metadata": {},
   "outputs": [],
   "source": [
    "from sklearn.decomposition import PCA\n",
    "\n",
    "pca = PCA(n_components=100, copy=False)\n"
   ]
  },
  {
   "cell_type": "code",
   "execution_count": null,
   "metadata": {},
   "outputs": [],
   "source": [
    "similarities_pca = pca.fit_transform(similarity)\n",
    "print(similarities_pca.shape)"
   ]
  },
  {
   "cell_type": "code",
   "execution_count": 18,
   "metadata": {},
   "outputs": [
    {
     "ename": "ModuleNotFoundError",
     "evalue": "No module named 'dask_ml'",
     "output_type": "error",
     "traceback": [
      "\u001b[0;31m---------------------------------------------------------------------------\u001b[0m",
      "\u001b[0;31mModuleNotFoundError\u001b[0m                       Traceback (most recent call last)",
      "\u001b[0;32m<ipython-input-18-9a6351a525ae>\u001b[0m in \u001b[0;36m<module>\u001b[0;34m()\u001b[0m\n\u001b[0;32m----> 1\u001b[0;31m \u001b[0;32mfrom\u001b[0m \u001b[0mdask_ml\u001b[0m\u001b[0;34m.\u001b[0m\u001b[0mdecomposition\u001b[0m \u001b[0;32mimport\u001b[0m \u001b[0mPCA\u001b[0m\u001b[0;34m\u001b[0m\u001b[0;34m\u001b[0m\u001b[0m\n\u001b[0m",
      "\u001b[0;31mModuleNotFoundError\u001b[0m: No module named 'dask_ml'"
     ]
    }
   ],
   "source": [
    "from dask_ml.decomposition import PCA\n",
    "\n",
    "pca = PCA(n_components=100, copy=False)"
   ]
  },
  {
   "cell_type": "code",
   "execution_count": null,
   "metadata": {},
   "outputs": [],
   "source": []
  },
  {
   "cell_type": "markdown",
   "metadata": {},
   "source": [
    "### Old way of doing nearest neighbor graphs"
   ]
  },
  {
   "cell_type": "code",
   "execution_count": null,
   "metadata": {},
   "outputs": [],
   "source": [
    "# color_cols = ['tissue', 'subtissue', 'cell_ontology_class', 'mouse_id', 'mouse_sex', 'plate_barcode']\n",
    "# palette_names = ['tab20', 'tab10', 'cubehelix', 'husl', 'Paired', 'Set2']\n",
    "# palettes = dict(zip(color_cols, palette_names))\n",
    "# palettes\n",
    "\n",
    "# graphs = {}\n",
    "# positions = {}\n",
    "\n",
    "# key = 'k31_with_abundance'\n",
    "\n",
    "# n_neighbors = 5\n",
    "# figure_folder = 's3://kmer-hashing/tabula-muris/n_hashes=500/'\n",
    "# figure_prefix = 'molecule=DNA_ksize=31_ignore-abundance=True'\n",
    "# title = 'Tabula Muris'\n",
    "\n",
    "# g, pos = khtools.knn.build_graph_and_plot(similarity, annotations, n_neighbors,\n",
    "#                                           color_cols, palettes, figure_folder, figure_prefix, title)\n",
    "\n",
    "# graphs[key] = g\n",
    "# positions[key] = pos"
   ]
  },
  {
   "cell_type": "code",
   "execution_count": null,
   "metadata": {},
   "outputs": [],
   "source": [
    "khtools.__version__"
   ]
  },
  {
   "cell_type": "markdown",
   "metadata": {},
   "source": [
    "## Run Leiden Clustering\n",
    "\n",
    "\n",
    "Below is excerpted from [scanpy's leiden clustering algorithm](https://github.com/theislab/scanpy/blob/master/scanpy/tools/_leiden.py)"
   ]
  },
  {
   "cell_type": "code",
   "execution_count": 6,
   "metadata": {},
   "outputs": [
    {
     "ename": "ImportError",
     "evalue": "Please install the leiden algorithm: `pip3 install leidenalg`.",
     "output_type": "error",
     "traceback": [
      "\u001b[0;31m---------------------------------------------------------------------------\u001b[0m",
      "\u001b[0;31mModuleNotFoundError\u001b[0m                       Traceback (most recent call last)",
      "\u001b[0;32m<ipython-input-6-84434ec4b56a>\u001b[0m in \u001b[0;36m<module>\u001b[0;34m()\u001b[0m\n\u001b[1;32m      1\u001b[0m \u001b[0;32mtry\u001b[0m\u001b[0;34m:\u001b[0m\u001b[0;34m\u001b[0m\u001b[0;34m\u001b[0m\u001b[0m\n\u001b[0;32m----> 2\u001b[0;31m     \u001b[0;32mimport\u001b[0m \u001b[0mleidenalg\u001b[0m\u001b[0;34m\u001b[0m\u001b[0;34m\u001b[0m\u001b[0m\n\u001b[0m\u001b[1;32m      3\u001b[0m \u001b[0;32mexcept\u001b[0m \u001b[0mImportError\u001b[0m\u001b[0;34m:\u001b[0m\u001b[0;34m\u001b[0m\u001b[0;34m\u001b[0m\u001b[0m\n",
      "\u001b[0;31mModuleNotFoundError\u001b[0m: No module named 'leidenalg'",
      "\nDuring handling of the above exception, another exception occurred:\n",
      "\u001b[0;31mImportError\u001b[0m                               Traceback (most recent call last)",
      "\u001b[0;32m<ipython-input-6-84434ec4b56a>\u001b[0m in \u001b[0;36m<module>\u001b[0;34m()\u001b[0m\n\u001b[1;32m      2\u001b[0m     \u001b[0;32mimport\u001b[0m \u001b[0mleidenalg\u001b[0m\u001b[0;34m\u001b[0m\u001b[0;34m\u001b[0m\u001b[0m\n\u001b[1;32m      3\u001b[0m \u001b[0;32mexcept\u001b[0m \u001b[0mImportError\u001b[0m\u001b[0;34m:\u001b[0m\u001b[0;34m\u001b[0m\u001b[0;34m\u001b[0m\u001b[0m\n\u001b[0;32m----> 4\u001b[0;31m     \u001b[0;32mraise\u001b[0m \u001b[0mImportError\u001b[0m\u001b[0;34m(\u001b[0m\u001b[0;34m'Please install the leiden algorithm: `pip3 install leidenalg`.'\u001b[0m\u001b[0;34m)\u001b[0m\u001b[0;34m\u001b[0m\u001b[0;34m\u001b[0m\u001b[0m\n\u001b[0m",
      "\u001b[0;31mImportError\u001b[0m: Please install the leiden algorithm: `pip3 install leidenalg`."
     ]
    }
   ],
   "source": [
    "\n",
    "\n",
    "try:\n",
    "    import leidenalg\n",
    "except ImportError:\n",
    "    raise ImportError('Please install the leiden algorithm: `pip3 install leidenalg`.')\n",
    "\n",
    "# convert it to igraph\n",
    "g = scanpy.utils.get_igraph_from_adjacency(adjacency, directed=directed)\n",
    "# flip to the default partition type if not overriden by the user\n",
    "if partition_type is None:\n",
    "    partition_type = leidenalg.RBConfigurationVertexPartition\n",
    "# prepare find_partition arguments as a dictionary, appending to whatever the user provided\n",
    "# it needs to be this way as this allows for the accounting of a None resolution\n",
    "# (in the case of a partition variant that doesn't take it on input)\n",
    "\n",
    "partition_kwargs = None\n",
    "\n",
    "if partition_kwargs is None:\n",
    "    partition_kwargs = {}\n",
    "if use_weights:\n",
    "    partition_kwargs['weights'] = np.array(g.es['weight']).astype(np.float64)\n",
    "partition_kwargs['n_iterations'] = n_iterations\n",
    "partition_kwargs['seed'] = random_state\n",
    "if resolution is not None:\n",
    "    partition_kwargs['resolution_parameter'] = resolution\n",
    "# clustering proper\n",
    "part = leidenalg.find_partition(g, partition_type, **partition_kwargs)\n",
    "# store output into adata.obs\n",
    "groups = np.array(part.membership)\n"
   ]
  },
  {
   "cell_type": "markdown",
   "metadata": {},
   "source": [
    "## Make confusion matrix with Tabula Muris Senis leiden clustering"
   ]
  },
  {
   "cell_type": "code",
   "execution_count": null,
   "metadata": {},
   "outputs": [],
   "source": [
    "tms.obs['leiden'].head()"
   ]
  }
 ],
 "metadata": {
  "kernelspec": {
   "display_name": "Python [conda env:kmer-hashing]",
   "language": "python",
   "name": "conda-env-kmer-hashing-py"
  },
  "language_info": {
   "codemirror_mode": {
    "name": "ipython",
    "version": 3
   },
   "file_extension": ".py",
   "mimetype": "text/x-python",
   "name": "python",
   "nbconvert_exporter": "python",
   "pygments_lexer": "ipython3",
   "version": "3.6.8"
  }
 },
 "nbformat": 4,
 "nbformat_minor": 4
}
