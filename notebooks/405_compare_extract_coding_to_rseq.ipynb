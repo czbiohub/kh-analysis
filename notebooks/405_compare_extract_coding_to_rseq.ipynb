{
 "cells": [
  {
   "cell_type": "code",
   "execution_count": 1,
   "metadata": {
    "execution_event_id": "9b1ffc79-8de3-48ce-8cdd-864502bafc1d",
    "last_executed_text": "from collections import defaultdict\nimport glob\nimport json\nimport os\n\nimport matplotlib.pyplot as plt\nimport pandas as pd\nimport seaborn as sns\nfrom tqdm import tqdm",
    "persistent_id": "d379cc1a-e006-4ed2-bb65-ca327875d507"
   },
   "outputs": [],
   "source": [
    "from collections import defaultdict\n",
    "import glob\n",
    "import json\n",
    "import os\n",
    "\n",
    "import matplotlib.pyplot as plt\n",
    "import pandas as pd\n",
    "import seaborn as sns\n",
    "from tqdm import tqdm"
   ]
  },
  {
   "cell_type": "code",
   "execution_count": 5,
   "metadata": {
    "execution_event_id": "9a99fc02-31b2-4ca9-a751-ac8f5645bd5a",
    "last_executed_text": "folder = '/home/olga/googledrive/brawand2011/data/kmermaid/results_peptide7/extract_coding'\nclassification_percentages_metadata = pd.read_csv(f'{folder}/classification_percentages_metadata.csv')\nprint(classification_percentages_metadata.shape)\nclassification_percentages_metadata.head()",
    "persistent_id": "bfe8a105-dbcf-49fd-a864-e687da32171b"
   },
   "outputs": [
    {
     "name": "stdout",
     "output_type": "stream",
     "text": [
      "(147, 16)\n"
     ]
    },
    {
     "data": {
      "text/html": [
       "<div>\n",
       "<style scoped>\n",
       "    .dataframe tbody tr th:only-of-type {\n",
       "        vertical-align: middle;\n",
       "    }\n",
       "\n",
       "    .dataframe tbody tr th {\n",
       "        vertical-align: top;\n",
       "    }\n",
       "\n",
       "    .dataframe thead th {\n",
       "        text-align: right;\n",
       "    }\n",
       "</style>\n",
       "<table border=\"1\" class=\"dataframe\">\n",
       "  <thead>\n",
       "    <tr style=\"text-align: right;\">\n",
       "      <th></th>\n",
       "      <th>Non-coding</th>\n",
       "      <th>Coding</th>\n",
       "      <th>No translation frames without stop codons</th>\n",
       "      <th>All translations shorter than peptide k-mer size + 1</th>\n",
       "      <th>Read length was shorter than 3 * peptide k-mer size</th>\n",
       "      <th>Low complexity peptide in protein encoding</th>\n",
       "      <th>filename</th>\n",
       "      <th>sample_id</th>\n",
       "      <th>sra_id</th>\n",
       "      <th>geo_id</th>\n",
       "      <th>species_abbrev</th>\n",
       "      <th>tissue_abbrev</th>\n",
       "      <th>sex</th>\n",
       "      <th>replicate</th>\n",
       "      <th>species</th>\n",
       "      <th>tissue</th>\n",
       "    </tr>\n",
       "  </thead>\n",
       "  <tbody>\n",
       "    <tr>\n",
       "      <th>0</th>\n",
       "      <td>68.549280</td>\n",
       "      <td>26.416538</td>\n",
       "      <td>4.030022</td>\n",
       "      <td>0.872370</td>\n",
       "      <td>0.075918</td>\n",
       "      <td>0.055873</td>\n",
       "      <td>/home/olga/data_lg/kmer-hashing/brawand2011/km...</td>\n",
       "      <td>SRR306802_GSM752655_ggo_cb_F_1</td>\n",
       "      <td>SRR306802</td>\n",
       "      <td>GSM752655</td>\n",
       "      <td>ggo</td>\n",
       "      <td>cb</td>\n",
       "      <td>F</td>\n",
       "      <td>1</td>\n",
       "      <td>Gorilla</td>\n",
       "      <td>Cerebellum</td>\n",
       "    </tr>\n",
       "    <tr>\n",
       "      <th>1</th>\n",
       "      <td>76.458843</td>\n",
       "      <td>18.913639</td>\n",
       "      <td>3.486677</td>\n",
       "      <td>0.801294</td>\n",
       "      <td>0.064244</td>\n",
       "      <td>0.275304</td>\n",
       "      <td>/home/olga/data_lg/kmer-hashing/brawand2011/km...</td>\n",
       "      <td>SRR306765_GSM752619_mmu_cb_M_2</td>\n",
       "      <td>SRR306765</td>\n",
       "      <td>GSM752619</td>\n",
       "      <td>mmu</td>\n",
       "      <td>cb</td>\n",
       "      <td>M</td>\n",
       "      <td>2</td>\n",
       "      <td>Mouse</td>\n",
       "      <td>Cerebellum</td>\n",
       "    </tr>\n",
       "    <tr>\n",
       "      <th>2</th>\n",
       "      <td>78.203007</td>\n",
       "      <td>16.819733</td>\n",
       "      <td>4.308748</td>\n",
       "      <td>0.599139</td>\n",
       "      <td>0.042650</td>\n",
       "      <td>0.026723</td>\n",
       "      <td>/home/olga/data_lg/kmer-hashing/brawand2011/km...</td>\n",
       "      <td>SRR306782_GSM752636_mml_ht_F_1</td>\n",
       "      <td>SRR306782</td>\n",
       "      <td>GSM752636</td>\n",
       "      <td>mml</td>\n",
       "      <td>ht</td>\n",
       "      <td>F</td>\n",
       "      <td>1</td>\n",
       "      <td>Macaque</td>\n",
       "      <td>Heart</td>\n",
       "    </tr>\n",
       "    <tr>\n",
       "      <th>3</th>\n",
       "      <td>78.245375</td>\n",
       "      <td>15.101219</td>\n",
       "      <td>5.841887</td>\n",
       "      <td>0.738069</td>\n",
       "      <td>0.015459</td>\n",
       "      <td>0.057990</td>\n",
       "      <td>/home/olga/data_lg/kmer-hashing/brawand2011/km...</td>\n",
       "      <td>SRR306750_GSM752598_mdo_ht_M_1</td>\n",
       "      <td>SRR306750</td>\n",
       "      <td>GSM752598</td>\n",
       "      <td>mdo</td>\n",
       "      <td>ht</td>\n",
       "      <td>M</td>\n",
       "      <td>1</td>\n",
       "      <td>Opossum</td>\n",
       "      <td>Heart</td>\n",
       "    </tr>\n",
       "    <tr>\n",
       "      <th>4</th>\n",
       "      <td>86.181560</td>\n",
       "      <td>9.365462</td>\n",
       "      <td>3.264713</td>\n",
       "      <td>1.088898</td>\n",
       "      <td>0.039388</td>\n",
       "      <td>0.059979</td>\n",
       "      <td>/home/olga/data_lg/kmer-hashing/brawand2011/km...</td>\n",
       "      <td>SRR306753_GSM752606_mdo_lv_F_1</td>\n",
       "      <td>SRR306753</td>\n",
       "      <td>GSM752606</td>\n",
       "      <td>mdo</td>\n",
       "      <td>lv</td>\n",
       "      <td>F</td>\n",
       "      <td>1</td>\n",
       "      <td>Opossum</td>\n",
       "      <td>Liver</td>\n",
       "    </tr>\n",
       "  </tbody>\n",
       "</table>\n",
       "</div>"
      ],
      "text/plain": [
       "   Non-coding     Coding  No translation frames without stop codons  \\\n",
       "0   68.549280  26.416538                                   4.030022   \n",
       "1   76.458843  18.913639                                   3.486677   \n",
       "2   78.203007  16.819733                                   4.308748   \n",
       "3   78.245375  15.101219                                   5.841887   \n",
       "4   86.181560   9.365462                                   3.264713   \n",
       "\n",
       "   All translations shorter than peptide k-mer size + 1  \\\n",
       "0                                           0.872370      \n",
       "1                                           0.801294      \n",
       "2                                           0.599139      \n",
       "3                                           0.738069      \n",
       "4                                           1.088898      \n",
       "\n",
       "   Read length was shorter than 3 * peptide k-mer size  \\\n",
       "0                                           0.075918     \n",
       "1                                           0.064244     \n",
       "2                                           0.042650     \n",
       "3                                           0.015459     \n",
       "4                                           0.039388     \n",
       "\n",
       "   Low complexity peptide in protein encoding  \\\n",
       "0                                    0.055873   \n",
       "1                                    0.275304   \n",
       "2                                    0.026723   \n",
       "3                                    0.057990   \n",
       "4                                    0.059979   \n",
       "\n",
       "                                            filename  \\\n",
       "0  /home/olga/data_lg/kmer-hashing/brawand2011/km...   \n",
       "1  /home/olga/data_lg/kmer-hashing/brawand2011/km...   \n",
       "2  /home/olga/data_lg/kmer-hashing/brawand2011/km...   \n",
       "3  /home/olga/data_lg/kmer-hashing/brawand2011/km...   \n",
       "4  /home/olga/data_lg/kmer-hashing/brawand2011/km...   \n",
       "\n",
       "                        sample_id     sra_id     geo_id species_abbrev  \\\n",
       "0  SRR306802_GSM752655_ggo_cb_F_1  SRR306802  GSM752655            ggo   \n",
       "1  SRR306765_GSM752619_mmu_cb_M_2  SRR306765  GSM752619            mmu   \n",
       "2  SRR306782_GSM752636_mml_ht_F_1  SRR306782  GSM752636            mml   \n",
       "3  SRR306750_GSM752598_mdo_ht_M_1  SRR306750  GSM752598            mdo   \n",
       "4  SRR306753_GSM752606_mdo_lv_F_1  SRR306753  GSM752606            mdo   \n",
       "\n",
       "  tissue_abbrev sex  replicate  species      tissue  \n",
       "0            cb   F          1  Gorilla  Cerebellum  \n",
       "1            cb   M          2    Mouse  Cerebellum  \n",
       "2            ht   F          1  Macaque       Heart  \n",
       "3            ht   M          1  Opossum       Heart  \n",
       "4            lv   F          1  Opossum       Liver  "
      ]
     },
     "execution_count": 5,
     "metadata": {},
     "output_type": "execute_result"
    }
   ],
   "source": [
    "folder = '/home/olga/googledrive/brawand2011/data/kmermaid/results_peptide7/extract_coding'\n",
    "classification_percentages_metadata = pd.read_csv(f'{folder}/classification_percentages_metadata.csv')\n",
    "print(classification_percentages_metadata.shape)\n",
    "classification_percentages_metadata.head()"
   ]
  },
  {
   "cell_type": "code",
   "execution_count": 6,
   "metadata": {
    "execution_event_id": "43dd3b29-053a-4da7-b33f-7364aa217cbb",
    "last_executed_text": "base_folder = '/home/olga/ibm_lg/kmer-hashing/brawand2011/nfcore-rnaseq'\nglobber = f'{base_folder}/*/*/rseqc/read_distribution/*'\nglob.glob(globber)",
    "persistent_id": "44ee43e6-b736-47d5-b9ca-d12846aa347e"
   },
   "outputs": [
    {
     "data": {
      "text/plain": [
       "['/home/olga/ibm_lg/kmer-hashing/brawand2011/nfcore-rnaseq/human/single_end/rseqc/read_distribution/SRR306850_GSM752701_hsa_ht_M_2Aligned.sortedByCoord.out.read_distribution.txt',\n",
       " '/home/olga/ibm_lg/kmer-hashing/brawand2011/nfcore-rnaseq/human/single_end/rseqc/read_distribution/SRR306846_GSM752698_hsa_cb_M_1Aligned.sortedByCoord.out.read_distribution.txt',\n",
       " '/home/olga/ibm_lg/kmer-hashing/brawand2011/nfcore-rnaseq/human/single_end/rseqc/read_distribution/SRR306838_GSM752691_hsa_br_F_1Aligned.sortedByCoord.out.read_distribution.txt',\n",
       " '/home/olga/ibm_lg/kmer-hashing/brawand2011/nfcore-rnaseq/human/single_end/rseqc/read_distribution/SRR306856_GSM752706_hsa_lv_M_2Aligned.sortedByCoord.out.read_distribution.txt',\n",
       " '/home/olga/ibm_lg/kmer-hashing/brawand2011/nfcore-rnaseq/human/single_end/rseqc/read_distribution/SRR306844_GSM752697_hsa_cb_F_1Aligned.sortedByCoord.out.read_distribution.txt',\n",
       " '/home/olga/ibm_lg/kmer-hashing/brawand2011/nfcore-rnaseq/human/single_end/rseqc/read_distribution/SRR306855_GSM752705_hsa_lv_M_1Aligned.sortedByCoord.out.read_distribution.txt',\n",
       " '/home/olga/ibm_lg/kmer-hashing/brawand2011/nfcore-rnaseq/human/single_end/rseqc/read_distribution/SRR306854_GSM752705_hsa_lv_M_1Aligned.sortedByCoord.out.read_distribution.txt',\n",
       " '/home/olga/ibm_lg/kmer-hashing/brawand2011/nfcore-rnaseq/human/single_end/rseqc/read_distribution/SRR306849_GSM752700_hsa_ht_M_1Aligned.sortedByCoord.out.read_distribution.txt',\n",
       " '/home/olga/ibm_lg/kmer-hashing/brawand2011/nfcore-rnaseq/human/single_end/rseqc/read_distribution/SRR306848_GSM752700_hsa_ht_M_1Aligned.sortedByCoord.out.read_distribution.txt',\n",
       " '/home/olga/ibm_lg/kmer-hashing/brawand2011/nfcore-rnaseq/human/single_end/rseqc/read_distribution/SRR306847_GSM752699_hsa_ht_F_1Aligned.sortedByCoord.out.read_distribution.txt',\n",
       " '/home/olga/ibm_lg/kmer-hashing/brawand2011/nfcore-rnaseq/human/single_end/rseqc/read_distribution/SRR306858_GSM752708_hsa_ts_M_2Aligned.sortedByCoord.out.read_distribution.txt',\n",
       " '/home/olga/ibm_lg/kmer-hashing/brawand2011/nfcore-rnaseq/human/single_end/rseqc/read_distribution/SRR306843_GSM752696_hsa_br_M_5Aligned.sortedByCoord.out.read_distribution.txt',\n",
       " '/home/olga/ibm_lg/kmer-hashing/brawand2011/nfcore-rnaseq/human/single_end/rseqc/read_distribution/SRR306845_GSM752698_hsa_cb_M_1Aligned.sortedByCoord.out.read_distribution.txt',\n",
       " '/home/olga/ibm_lg/kmer-hashing/brawand2011/nfcore-rnaseq/human/single_end/rseqc/read_distribution/SRR306857_GSM752707_hsa_ts_M_1Aligned.sortedByCoord.out.read_distribution.txt',\n",
       " '/home/olga/ibm_lg/kmer-hashing/brawand2011/nfcore-rnaseq/human/single_end/rseqc/read_distribution/SRR306851_GSM752702_hsa_kd_F_1Aligned.sortedByCoord.out.read_distribution.txt',\n",
       " '/home/olga/ibm_lg/kmer-hashing/brawand2011/nfcore-rnaseq/human/single_end/rseqc/read_distribution/SRR306853_GSM752704_hsa_kd_M_2Aligned.sortedByCoord.out.read_distribution.txt',\n",
       " '/home/olga/ibm_lg/kmer-hashing/brawand2011/nfcore-rnaseq/human/single_end/rseqc/read_distribution/SRR306841_GSM752694_hsa_br_M_2Aligned.sortedByCoord.out.read_distribution.txt',\n",
       " '/home/olga/ibm_lg/kmer-hashing/brawand2011/nfcore-rnaseq/human/single_end/rseqc/read_distribution/SRR306839_GSM752692_hsa_br_M_3Aligned.sortedByCoord.out.read_distribution.txt',\n",
       " '/home/olga/ibm_lg/kmer-hashing/brawand2011/nfcore-rnaseq/human/paired_end/rseqc/read_distribution/SRR306842_GSM752695_hsa_br_M_4_1Aligned.sortedByCoord.out.read_distribution.txt',\n",
       " '/home/olga/ibm_lg/kmer-hashing/brawand2011/nfcore-rnaseq/human/paired_end/rseqc/read_distribution/SRR306840_GSM752693_hsa_br_M_1_1Aligned.sortedByCoord.out.read_distribution.txt',\n",
       " '/home/olga/ibm_lg/kmer-hashing/brawand2011/nfcore-rnaseq/chimpanzee/single_end/rseqc/read_distribution/SRR306818_GSM752671_ptr_cb_M_1Aligned.sortedByCoord.out.read_distribution.txt',\n",
       " '/home/olga/ibm_lg/kmer-hashing/brawand2011/nfcore-rnaseq/chimpanzee/single_end/rseqc/read_distribution/SRR306821_GSM752674_ptr_kd_F_1Aligned.sortedByCoord.out.read_distribution.txt',\n",
       " '/home/olga/ibm_lg/kmer-hashing/brawand2011/nfcore-rnaseq/chimpanzee/single_end/rseqc/read_distribution/SRR306825_GSM752678_ptr_ts_M_1Aligned.sortedByCoord.out.read_distribution.txt',\n",
       " '/home/olga/ibm_lg/kmer-hashing/brawand2011/nfcore-rnaseq/chimpanzee/single_end/rseqc/read_distribution/SRR306811_GSM752664_ptr_br_F_1Aligned.sortedByCoord.out.read_distribution.txt',\n",
       " '/home/olga/ibm_lg/kmer-hashing/brawand2011/nfcore-rnaseq/chimpanzee/single_end/rseqc/read_distribution/SRR306820_GSM752673_ptr_ht_M_1Aligned.sortedByCoord.out.read_distribution.txt',\n",
       " '/home/olga/ibm_lg/kmer-hashing/brawand2011/nfcore-rnaseq/chimpanzee/single_end/rseqc/read_distribution/SRR306817_GSM752670_ptr_cb_F_1Aligned.sortedByCoord.out.read_distribution.txt',\n",
       " '/home/olga/ibm_lg/kmer-hashing/brawand2011/nfcore-rnaseq/chimpanzee/single_end/rseqc/read_distribution/SRR306822_GSM752675_ptr_kd_M_1Aligned.sortedByCoord.out.read_distribution.txt',\n",
       " '/home/olga/ibm_lg/kmer-hashing/brawand2011/nfcore-rnaseq/chimpanzee/single_end/rseqc/read_distribution/SRR306819_GSM752672_ptr_ht_F_1Aligned.sortedByCoord.out.read_distribution.txt',\n",
       " '/home/olga/ibm_lg/kmer-hashing/brawand2011/nfcore-rnaseq/chimpanzee/single_end/rseqc/read_distribution/SRR306824_GSM752677_ptr_lv_M_1Aligned.sortedByCoord.out.read_distribution.txt',\n",
       " '/home/olga/ibm_lg/kmer-hashing/brawand2011/nfcore-rnaseq/chimpanzee/single_end/rseqc/read_distribution/SRR306823_GSM752676_ptr_lv_F_1Aligned.sortedByCoord.out.read_distribution.txt',\n",
       " '/home/olga/ibm_lg/kmer-hashing/brawand2011/nfcore-rnaseq/chimpanzee/paired_end/rseqc/read_distribution/SRR306814_GSM752667_ptr_br_M_3_1Aligned.sortedByCoord.out.read_distribution.txt',\n",
       " '/home/olga/ibm_lg/kmer-hashing/brawand2011/nfcore-rnaseq/chimpanzee/paired_end/rseqc/read_distribution/SRR306812_GSM752665_ptr_br_M_1_1Aligned.sortedByCoord.out.read_distribution.txt',\n",
       " '/home/olga/ibm_lg/kmer-hashing/brawand2011/nfcore-rnaseq/chimpanzee/paired_end/rseqc/read_distribution/SRR306815_GSM752668_ptr_br_M_4_1Aligned.sortedByCoord.out.read_distribution.txt',\n",
       " '/home/olga/ibm_lg/kmer-hashing/brawand2011/nfcore-rnaseq/chimpanzee/paired_end/rseqc/read_distribution/SRR306813_GSM752666_ptr_br_M_2_1Aligned.sortedByCoord.out.read_distribution.txt',\n",
       " '/home/olga/ibm_lg/kmer-hashing/brawand2011/nfcore-rnaseq/chimpanzee/paired_end/rseqc/read_distribution/SRR306816_GSM752669_ptr_br_M_5_1Aligned.sortedByCoord.out.read_distribution.txt']"
      ]
     },
     "execution_count": 6,
     "metadata": {},
     "output_type": "execute_result"
    }
   ],
   "source": [
    "base_folder = '/home/olga/ibm_lg/kmer-hashing/brawand2011/nfcore-rnaseq'\n",
    "globber = f'{base_folder}/*/*/rseqc/read_distribution/*'\n",
    "glob.glob(globber)"
   ]
  },
  {
   "cell_type": "markdown",
   "metadata": {},
   "source": [
    "Steal [MultiQC's](https://github.com/ewels/MultiQC/blob/master/multiqc/modules/rseqc/read_distribution.py) parsing"
   ]
  },
  {
   "cell_type": "code",
   "execution_count": 40,
   "metadata": {
    "persistent_id": "e10ac85d-7060-4ec4-a0d3-5208b79a23d0"
   },
   "outputs": [
    {
     "data": {
      "text/plain": [
       "total_reads                   3.751575e+07\n",
       "total_tags                    4.286295e+07\n",
       "total_assigned_tags           3.564938e+07\n",
       "cds_exons_total_bases         8.808513e+07\n",
       "cds_exons_tag_count           2.128516e+07\n",
       "cds_exons_tags_kb             2.416400e+02\n",
       "5_utr_exons_total_bases       6.300107e+06\n",
       "5_utr_exons_tag_count         3.360410e+05\n",
       "5_utr_exons_tags_kb           5.334000e+01\n",
       "3_utr_exons_total_bases       2.959627e+07\n",
       "3_utr_exons_tag_count         7.649711e+06\n",
       "3_utr_exons_tags_kb           2.584700e+02\n",
       "introns_total_bases           1.418158e+09\n",
       "introns_tag_count             4.878900e+06\n",
       "introns_tags_kb               3.440000e+00\n",
       "tss_up_1kb_total_bases        2.880640e+07\n",
       "tss_up_1kb_tag_count          5.329400e+04\n",
       "tss_up_1kb_tags_kb            1.850000e+00\n",
       "tss_up_5kb_total_bases        1.301524e+08\n",
       "tss_up_5kb_tag_count          6.452800e+05\n",
       "tss_up_5kb_tags_kb            4.960000e+00\n",
       "tss_up_10kb_total_bases       2.352638e+08\n",
       "tss_up_10kb_tag_count         9.056750e+05\n",
       "tss_up_10kb_tags_kb           3.850000e+00\n",
       "tes_down_1kb_total_bases      3.060157e+07\n",
       "tes_down_1kb_tag_count        1.569240e+05\n",
       "tes_down_1kb_tags_kb          5.130000e+00\n",
       "tes_down_5kb_total_bases      1.341865e+08\n",
       "tes_down_5kb_tag_count        4.230750e+05\n",
       "tes_down_5kb_tags_kb          3.150000e+00\n",
       "tes_down_10kb_total_bases     2.387422e+08\n",
       "tes_down_10kb_tag_count       5.938970e+05\n",
       "tes_down_10kb_tags_kb         2.490000e+00\n",
       "other_intergenic_tag_count    7.213567e+06\n",
       "cds_exons_tag_pct             4.965864e+01\n",
       "5_utr_exons_tag_pct           7.839894e-01\n",
       "3_utr_exons_tag_pct           1.784691e+01\n",
       "introns_tag_pct               1.138256e+01\n",
       "tss_up_1kb_tag_pct            1.243358e-01\n",
       "tss_up_5kb_tag_pct            1.505449e+00\n",
       "tss_up_10kb_tag_pct           2.112955e+00\n",
       "tes_down_1kb_tag_pct          3.661064e-01\n",
       "tes_down_5kb_tag_pct          9.870413e-01\n",
       "tes_down_10kb_tag_pct         1.385572e+00\n",
       "other_intergenic_tag_pct      1.682938e+01\n",
       "Name: SRR306816_GSM752669_ptr_br_M_5, dtype: float64"
      ]
     },
     "execution_count": 40,
     "metadata": {},
     "output_type": "execute_result"
    }
   ],
   "source": [
    "import re\n",
    "\n",
    "first_regexes = {\n",
    "    'total_reads': r\"Total Reads\\s+(\\d+)\\s*\",\n",
    "    'total_tags': r\"Total Tags\\s+(\\d+)\\s*\",\n",
    "    'total_assigned_tags': r\"Total Assigned Tags\\s+(\\d+)\\s*\",\n",
    "}\n",
    "second_regexes = {\n",
    "    'cds_exons': r\"CDS_Exons\\s+(\\d+)\\s+(\\d+)\\s+([\\d\\.]+)\\s*\",\n",
    "    '5_utr_exons': r\"5'UTR_Exons\\s+(\\d+)\\s+(\\d+)\\s+([\\d\\.]+)\\s*\",\n",
    "    '3_utr_exons': r\"3'UTR_Exons\\s+(\\d+)\\s+(\\d+)\\s+([\\d\\.]+)\\s*\",\n",
    "    'introns': r\"Introns\\s+(\\d+)\\s+(\\d+)\\s+([\\d\\.]+)\\s*\",\n",
    "    'tss_up_1kb': r\"TSS_up_1kb\\s+(\\d+)\\s+(\\d+)\\s+([\\d\\.]+)\\s*\",\n",
    "    'tss_up_5kb': r\"TSS_up_5kb\\s+(\\d+)\\s+(\\d+)\\s+([\\d\\.]+)\\s*\",\n",
    "    'tss_up_10kb': r\"TSS_up_10kb\\s+(\\d+)\\s+(\\d+)\\s+([\\d\\.]+)\\s*\",\n",
    "    'tes_down_1kb': r\"TES_down_1kb\\s+(\\d+)\\s+(\\d+)\\s+([\\d\\.]+)\\s*\",\n",
    "    'tes_down_5kb': r\"TES_down_5kb\\s+(\\d+)\\s+(\\d+)\\s+([\\d\\.]+)\\s*\",\n",
    "    'tes_down_10kb': r\"TES_down_10kb\\s+(\\d+)\\s+(\\d+)\\s+([\\d\\.]+)\\s*\",\n",
    "}\n",
    "\n",
    "def parse_rseqc_read_distribution(filename):\n",
    "    sample_id = os.path.basename(filename).split('Aligned.sortedByCoord.out.read_distribution.txt')[0]\n",
    "    \n",
    "    # If there is a double number at the end, then this was a paired-end \n",
    "    # read set and need to remove the last _1\n",
    "    if re.search(r'\\d_\\d', sample_id) is not None:\n",
    "        sample_id = re.findall('(\\w+)_\\d', sample_id)[0]\n",
    "    d = dict()\n",
    "    with open(filename) as f:\n",
    "        file_content = f.read()\n",
    "        for k, r in first_regexes.items():\n",
    "            r_search = re.search(r, file_content, re.MULTILINE)\n",
    "            if r_search:\n",
    "                d[k] = int(r_search.group(1))\n",
    "        for k, r in second_regexes.items():\n",
    "            r_search = re.search(r, file_content, re.MULTILINE)\n",
    "            if r_search:\n",
    "                d['{}_total_bases'.format(k)] = int(r_search.group(1))\n",
    "                d['{}_tag_count'.format(k)] = int(r_search.group(2))\n",
    "                d['{}_tags_kb'.format(k)] = float(r_search.group(3))\n",
    "\n",
    "        d['other_intergenic_tag_count'] = d['total_tags']-d['total_assigned_tags']\n",
    "\n",
    "        # Calculate some percentages for parsed file\n",
    "        if 'total_tags' in d:\n",
    "            t = float(d['total_tags'])\n",
    "            pcts = dict()\n",
    "            for k in d:\n",
    "                if k.endswith('_tag_count'):\n",
    "                    pk = '{}_tag_pct'.format(k[:-10])\n",
    "                    pcts[pk] = (float(d[k]) / t)*100.0\n",
    "            d.update(pcts)\n",
    "            \n",
    "    series = pd.Series(d, name=sample_id)\n",
    "    return series\n",
    "\n",
    "filename = '/home/olga/ibm_lg/kmer-hashing/brawand2011/nfcore-rnaseq/chimpanzee/paired_end/rseqc/read_distribution/SRR306816_GSM752669_ptr_br_M_5_1Aligned.sortedByCoord.out.read_distribution.txt'\n",
    "parse_rseqc_read_distribution(filename)"
   ]
  },
  {
   "cell_type": "code",
   "execution_count": 41,
   "metadata": {
    "execution_event_id": "30e8c387-39bc-41a1-9414-c5503ca991d2",
    "last_executed_text": "base_folder = '/home/olga/ibm_lg/kmer-hashing/brawand2011/nfcore-rnaseq'\nglobber = f'{base_folder}/*/*/rseqc/read_distribution/*'\n\nseriess = []\n\nfor filename in glob.iglob(globber):\n    series = parse_rseqc_read_distribution(filename)\n    seriess.append(series)\nrseqc_read_distributions = pd.DataFrame(seriess)\nprint(rseqc_read_distributions.shape)\nrseqc_read_distributions.head()",
    "persistent_id": "39812504-4905-4629-bb31-330706334135"
   },
   "outputs": [
    {
     "name": "stdout",
     "output_type": "stream",
     "text": [
      "(35, 45)\n"
     ]
    },
    {
     "data": {
      "text/html": [
       "<div>\n",
       "<style scoped>\n",
       "    .dataframe tbody tr th:only-of-type {\n",
       "        vertical-align: middle;\n",
       "    }\n",
       "\n",
       "    .dataframe tbody tr th {\n",
       "        vertical-align: top;\n",
       "    }\n",
       "\n",
       "    .dataframe thead th {\n",
       "        text-align: right;\n",
       "    }\n",
       "</style>\n",
       "<table border=\"1\" class=\"dataframe\">\n",
       "  <thead>\n",
       "    <tr style=\"text-align: right;\">\n",
       "      <th></th>\n",
       "      <th>total_reads</th>\n",
       "      <th>total_tags</th>\n",
       "      <th>total_assigned_tags</th>\n",
       "      <th>cds_exons_total_bases</th>\n",
       "      <th>cds_exons_tag_count</th>\n",
       "      <th>cds_exons_tags_kb</th>\n",
       "      <th>5_utr_exons_total_bases</th>\n",
       "      <th>5_utr_exons_tag_count</th>\n",
       "      <th>5_utr_exons_tags_kb</th>\n",
       "      <th>3_utr_exons_total_bases</th>\n",
       "      <th>...</th>\n",
       "      <th>5_utr_exons_tag_pct</th>\n",
       "      <th>3_utr_exons_tag_pct</th>\n",
       "      <th>introns_tag_pct</th>\n",
       "      <th>tss_up_1kb_tag_pct</th>\n",
       "      <th>tss_up_5kb_tag_pct</th>\n",
       "      <th>tss_up_10kb_tag_pct</th>\n",
       "      <th>tes_down_1kb_tag_pct</th>\n",
       "      <th>tes_down_5kb_tag_pct</th>\n",
       "      <th>tes_down_10kb_tag_pct</th>\n",
       "      <th>other_intergenic_tag_pct</th>\n",
       "    </tr>\n",
       "  </thead>\n",
       "  <tbody>\n",
       "    <tr>\n",
       "      <th>SRR306850_GSM752701_hsa_ht_M_2</th>\n",
       "      <td>21292867.0</td>\n",
       "      <td>25258488.0</td>\n",
       "      <td>24387237.0</td>\n",
       "      <td>97553390.0</td>\n",
       "      <td>19675431.0</td>\n",
       "      <td>201.69</td>\n",
       "      <td>6708876.0</td>\n",
       "      <td>376547.0</td>\n",
       "      <td>56.13</td>\n",
       "      <td>32534150.0</td>\n",
       "      <td>...</td>\n",
       "      <td>1.490774</td>\n",
       "      <td>11.312506</td>\n",
       "      <td>5.375496</td>\n",
       "      <td>0.079280</td>\n",
       "      <td>0.133900</td>\n",
       "      <td>0.165841</td>\n",
       "      <td>0.118602</td>\n",
       "      <td>0.252719</td>\n",
       "      <td>0.309730</td>\n",
       "      <td>3.449339</td>\n",
       "    </tr>\n",
       "    <tr>\n",
       "      <th>SRR306846_GSM752698_hsa_cb_M_1</th>\n",
       "      <td>15800648.0</td>\n",
       "      <td>18379213.0</td>\n",
       "      <td>17615565.0</td>\n",
       "      <td>97553390.0</td>\n",
       "      <td>12662565.0</td>\n",
       "      <td>129.80</td>\n",
       "      <td>6708876.0</td>\n",
       "      <td>196081.0</td>\n",
       "      <td>29.23</td>\n",
       "      <td>32534150.0</td>\n",
       "      <td>...</td>\n",
       "      <td>1.066863</td>\n",
       "      <td>15.304480</td>\n",
       "      <td>9.503900</td>\n",
       "      <td>0.103867</td>\n",
       "      <td>0.230325</td>\n",
       "      <td>0.325966</td>\n",
       "      <td>0.218132</td>\n",
       "      <td>0.578784</td>\n",
       "      <td>0.747714</td>\n",
       "      <td>4.154955</td>\n",
       "    </tr>\n",
       "    <tr>\n",
       "      <th>SRR306838_GSM752691_hsa_br_F_1</th>\n",
       "      <td>780690.0</td>\n",
       "      <td>889131.0</td>\n",
       "      <td>867476.0</td>\n",
       "      <td>97553390.0</td>\n",
       "      <td>537910.0</td>\n",
       "      <td>5.51</td>\n",
       "      <td>6708876.0</td>\n",
       "      <td>4158.0</td>\n",
       "      <td>0.62</td>\n",
       "      <td>32534150.0</td>\n",
       "      <td>...</td>\n",
       "      <td>0.467648</td>\n",
       "      <td>26.638932</td>\n",
       "      <td>8.776997</td>\n",
       "      <td>0.058821</td>\n",
       "      <td>0.188049</td>\n",
       "      <td>0.274425</td>\n",
       "      <td>0.299169</td>\n",
       "      <td>0.725877</td>\n",
       "      <td>0.908078</td>\n",
       "      <td>2.435524</td>\n",
       "    </tr>\n",
       "    <tr>\n",
       "      <th>SRR306856_GSM752706_hsa_lv_M_2</th>\n",
       "      <td>20479674.0</td>\n",
       "      <td>25412159.0</td>\n",
       "      <td>24423554.0</td>\n",
       "      <td>97553390.0</td>\n",
       "      <td>20272780.0</td>\n",
       "      <td>207.81</td>\n",
       "      <td>6708876.0</td>\n",
       "      <td>244771.0</td>\n",
       "      <td>36.48</td>\n",
       "      <td>32534150.0</td>\n",
       "      <td>...</td>\n",
       "      <td>0.963204</td>\n",
       "      <td>8.959223</td>\n",
       "      <td>5.672659</td>\n",
       "      <td>0.069628</td>\n",
       "      <td>0.152541</td>\n",
       "      <td>0.290511</td>\n",
       "      <td>0.170481</td>\n",
       "      <td>0.361547</td>\n",
       "      <td>0.448215</td>\n",
       "      <td>3.890283</td>\n",
       "    </tr>\n",
       "    <tr>\n",
       "      <th>SRR306844_GSM752697_hsa_cb_F_1</th>\n",
       "      <td>26696068.0</td>\n",
       "      <td>30804199.0</td>\n",
       "      <td>29400439.0</td>\n",
       "      <td>97553390.0</td>\n",
       "      <td>20372273.0</td>\n",
       "      <td>208.83</td>\n",
       "      <td>6708876.0</td>\n",
       "      <td>514939.0</td>\n",
       "      <td>76.75</td>\n",
       "      <td>32534150.0</td>\n",
       "      <td>...</td>\n",
       "      <td>1.671652</td>\n",
       "      <td>12.543702</td>\n",
       "      <td>13.763228</td>\n",
       "      <td>0.142536</td>\n",
       "      <td>0.290792</td>\n",
       "      <td>0.399877</td>\n",
       "      <td>0.244973</td>\n",
       "      <td>0.686747</td>\n",
       "      <td>0.929773</td>\n",
       "      <td>4.557041</td>\n",
       "    </tr>\n",
       "  </tbody>\n",
       "</table>\n",
       "<p>5 rows × 45 columns</p>\n",
       "</div>"
      ],
      "text/plain": [
       "                                total_reads  total_tags  total_assigned_tags  \\\n",
       "SRR306850_GSM752701_hsa_ht_M_2   21292867.0  25258488.0           24387237.0   \n",
       "SRR306846_GSM752698_hsa_cb_M_1   15800648.0  18379213.0           17615565.0   \n",
       "SRR306838_GSM752691_hsa_br_F_1     780690.0    889131.0             867476.0   \n",
       "SRR306856_GSM752706_hsa_lv_M_2   20479674.0  25412159.0           24423554.0   \n",
       "SRR306844_GSM752697_hsa_cb_F_1   26696068.0  30804199.0           29400439.0   \n",
       "\n",
       "                                cds_exons_total_bases  cds_exons_tag_count  \\\n",
       "SRR306850_GSM752701_hsa_ht_M_2             97553390.0           19675431.0   \n",
       "SRR306846_GSM752698_hsa_cb_M_1             97553390.0           12662565.0   \n",
       "SRR306838_GSM752691_hsa_br_F_1             97553390.0             537910.0   \n",
       "SRR306856_GSM752706_hsa_lv_M_2             97553390.0           20272780.0   \n",
       "SRR306844_GSM752697_hsa_cb_F_1             97553390.0           20372273.0   \n",
       "\n",
       "                                cds_exons_tags_kb  5_utr_exons_total_bases  \\\n",
       "SRR306850_GSM752701_hsa_ht_M_2             201.69                6708876.0   \n",
       "SRR306846_GSM752698_hsa_cb_M_1             129.80                6708876.0   \n",
       "SRR306838_GSM752691_hsa_br_F_1               5.51                6708876.0   \n",
       "SRR306856_GSM752706_hsa_lv_M_2             207.81                6708876.0   \n",
       "SRR306844_GSM752697_hsa_cb_F_1             208.83                6708876.0   \n",
       "\n",
       "                                5_utr_exons_tag_count  5_utr_exons_tags_kb  \\\n",
       "SRR306850_GSM752701_hsa_ht_M_2               376547.0                56.13   \n",
       "SRR306846_GSM752698_hsa_cb_M_1               196081.0                29.23   \n",
       "SRR306838_GSM752691_hsa_br_F_1                 4158.0                 0.62   \n",
       "SRR306856_GSM752706_hsa_lv_M_2               244771.0                36.48   \n",
       "SRR306844_GSM752697_hsa_cb_F_1               514939.0                76.75   \n",
       "\n",
       "                                3_utr_exons_total_bases  ...  \\\n",
       "SRR306850_GSM752701_hsa_ht_M_2               32534150.0  ...   \n",
       "SRR306846_GSM752698_hsa_cb_M_1               32534150.0  ...   \n",
       "SRR306838_GSM752691_hsa_br_F_1               32534150.0  ...   \n",
       "SRR306856_GSM752706_hsa_lv_M_2               32534150.0  ...   \n",
       "SRR306844_GSM752697_hsa_cb_F_1               32534150.0  ...   \n",
       "\n",
       "                                5_utr_exons_tag_pct  3_utr_exons_tag_pct  \\\n",
       "SRR306850_GSM752701_hsa_ht_M_2             1.490774            11.312506   \n",
       "SRR306846_GSM752698_hsa_cb_M_1             1.066863            15.304480   \n",
       "SRR306838_GSM752691_hsa_br_F_1             0.467648            26.638932   \n",
       "SRR306856_GSM752706_hsa_lv_M_2             0.963204             8.959223   \n",
       "SRR306844_GSM752697_hsa_cb_F_1             1.671652            12.543702   \n",
       "\n",
       "                                introns_tag_pct  tss_up_1kb_tag_pct  \\\n",
       "SRR306850_GSM752701_hsa_ht_M_2         5.375496            0.079280   \n",
       "SRR306846_GSM752698_hsa_cb_M_1         9.503900            0.103867   \n",
       "SRR306838_GSM752691_hsa_br_F_1         8.776997            0.058821   \n",
       "SRR306856_GSM752706_hsa_lv_M_2         5.672659            0.069628   \n",
       "SRR306844_GSM752697_hsa_cb_F_1        13.763228            0.142536   \n",
       "\n",
       "                                tss_up_5kb_tag_pct  tss_up_10kb_tag_pct  \\\n",
       "SRR306850_GSM752701_hsa_ht_M_2            0.133900             0.165841   \n",
       "SRR306846_GSM752698_hsa_cb_M_1            0.230325             0.325966   \n",
       "SRR306838_GSM752691_hsa_br_F_1            0.188049             0.274425   \n",
       "SRR306856_GSM752706_hsa_lv_M_2            0.152541             0.290511   \n",
       "SRR306844_GSM752697_hsa_cb_F_1            0.290792             0.399877   \n",
       "\n",
       "                                tes_down_1kb_tag_pct  tes_down_5kb_tag_pct  \\\n",
       "SRR306850_GSM752701_hsa_ht_M_2              0.118602              0.252719   \n",
       "SRR306846_GSM752698_hsa_cb_M_1              0.218132              0.578784   \n",
       "SRR306838_GSM752691_hsa_br_F_1              0.299169              0.725877   \n",
       "SRR306856_GSM752706_hsa_lv_M_2              0.170481              0.361547   \n",
       "SRR306844_GSM752697_hsa_cb_F_1              0.244973              0.686747   \n",
       "\n",
       "                                tes_down_10kb_tag_pct  \\\n",
       "SRR306850_GSM752701_hsa_ht_M_2               0.309730   \n",
       "SRR306846_GSM752698_hsa_cb_M_1               0.747714   \n",
       "SRR306838_GSM752691_hsa_br_F_1               0.908078   \n",
       "SRR306856_GSM752706_hsa_lv_M_2               0.448215   \n",
       "SRR306844_GSM752697_hsa_cb_F_1               0.929773   \n",
       "\n",
       "                                other_intergenic_tag_pct  \n",
       "SRR306850_GSM752701_hsa_ht_M_2                  3.449339  \n",
       "SRR306846_GSM752698_hsa_cb_M_1                  4.154955  \n",
       "SRR306838_GSM752691_hsa_br_F_1                  2.435524  \n",
       "SRR306856_GSM752706_hsa_lv_M_2                  3.890283  \n",
       "SRR306844_GSM752697_hsa_cb_F_1                  4.557041  \n",
       "\n",
       "[5 rows x 45 columns]"
      ]
     },
     "execution_count": 41,
     "metadata": {},
     "output_type": "execute_result"
    }
   ],
   "source": [
    "base_folder = '/home/olga/ibm_lg/kmer-hashing/brawand2011/nfcore-rnaseq'\n",
    "globber = f'{base_folder}/*/*/rseqc/read_distribution/*'\n",
    "\n",
    "seriess = []\n",
    "\n",
    "for filename in glob.iglob(globber):\n",
    "    series = parse_rseqc_read_distribution(filename)\n",
    "    seriess.append(series)\n",
    "rseqc_read_distributions = pd.DataFrame(seriess)\n",
    "print(rseqc_read_distributions.shape)\n",
    "rseqc_read_distributions.head()"
   ]
  },
  {
   "cell_type": "code",
   "execution_count": 42,
   "metadata": {
    "execution_event_id": "ccb69f70-b84e-45c4-b53d-5bc8f7e11d21",
    "last_executed_text": "rseqc_read_distributions",
    "persistent_id": "25ec9583-f158-4372-9631-944b2e4a37f4"
   },
   "outputs": [
    {
     "data": {
      "text/html": [
       "<div>\n",
       "<style scoped>\n",
       "    .dataframe tbody tr th:only-of-type {\n",
       "        vertical-align: middle;\n",
       "    }\n",
       "\n",
       "    .dataframe tbody tr th {\n",
       "        vertical-align: top;\n",
       "    }\n",
       "\n",
       "    .dataframe thead th {\n",
       "        text-align: right;\n",
       "    }\n",
       "</style>\n",
       "<table border=\"1\" class=\"dataframe\">\n",
       "  <thead>\n",
       "    <tr style=\"text-align: right;\">\n",
       "      <th></th>\n",
       "      <th>total_reads</th>\n",
       "      <th>total_tags</th>\n",
       "      <th>total_assigned_tags</th>\n",
       "      <th>cds_exons_total_bases</th>\n",
       "      <th>cds_exons_tag_count</th>\n",
       "      <th>cds_exons_tags_kb</th>\n",
       "      <th>5_utr_exons_total_bases</th>\n",
       "      <th>5_utr_exons_tag_count</th>\n",
       "      <th>5_utr_exons_tags_kb</th>\n",
       "      <th>3_utr_exons_total_bases</th>\n",
       "      <th>...</th>\n",
       "      <th>5_utr_exons_tag_pct</th>\n",
       "      <th>3_utr_exons_tag_pct</th>\n",
       "      <th>introns_tag_pct</th>\n",
       "      <th>tss_up_1kb_tag_pct</th>\n",
       "      <th>tss_up_5kb_tag_pct</th>\n",
       "      <th>tss_up_10kb_tag_pct</th>\n",
       "      <th>tes_down_1kb_tag_pct</th>\n",
       "      <th>tes_down_5kb_tag_pct</th>\n",
       "      <th>tes_down_10kb_tag_pct</th>\n",
       "      <th>other_intergenic_tag_pct</th>\n",
       "    </tr>\n",
       "  </thead>\n",
       "  <tbody>\n",
       "    <tr>\n",
       "      <th>SRR306850_GSM752701_hsa_ht_M_2</th>\n",
       "      <td>21292867.0</td>\n",
       "      <td>25258488.0</td>\n",
       "      <td>24387237.0</td>\n",
       "      <td>97553390.0</td>\n",
       "      <td>19675431.0</td>\n",
       "      <td>201.69</td>\n",
       "      <td>6708876.0</td>\n",
       "      <td>376547.0</td>\n",
       "      <td>56.13</td>\n",
       "      <td>32534150.0</td>\n",
       "      <td>...</td>\n",
       "      <td>1.490774</td>\n",
       "      <td>11.312506</td>\n",
       "      <td>5.375496</td>\n",
       "      <td>0.079280</td>\n",
       "      <td>0.133900</td>\n",
       "      <td>0.165841</td>\n",
       "      <td>0.118602</td>\n",
       "      <td>0.252719</td>\n",
       "      <td>0.309730</td>\n",
       "      <td>3.449339</td>\n",
       "    </tr>\n",
       "    <tr>\n",
       "      <th>SRR306846_GSM752698_hsa_cb_M_1</th>\n",
       "      <td>15800648.0</td>\n",
       "      <td>18379213.0</td>\n",
       "      <td>17615565.0</td>\n",
       "      <td>97553390.0</td>\n",
       "      <td>12662565.0</td>\n",
       "      <td>129.80</td>\n",
       "      <td>6708876.0</td>\n",
       "      <td>196081.0</td>\n",
       "      <td>29.23</td>\n",
       "      <td>32534150.0</td>\n",
       "      <td>...</td>\n",
       "      <td>1.066863</td>\n",
       "      <td>15.304480</td>\n",
       "      <td>9.503900</td>\n",
       "      <td>0.103867</td>\n",
       "      <td>0.230325</td>\n",
       "      <td>0.325966</td>\n",
       "      <td>0.218132</td>\n",
       "      <td>0.578784</td>\n",
       "      <td>0.747714</td>\n",
       "      <td>4.154955</td>\n",
       "    </tr>\n",
       "    <tr>\n",
       "      <th>SRR306838_GSM752691_hsa_br_F_1</th>\n",
       "      <td>780690.0</td>\n",
       "      <td>889131.0</td>\n",
       "      <td>867476.0</td>\n",
       "      <td>97553390.0</td>\n",
       "      <td>537910.0</td>\n",
       "      <td>5.51</td>\n",
       "      <td>6708876.0</td>\n",
       "      <td>4158.0</td>\n",
       "      <td>0.62</td>\n",
       "      <td>32534150.0</td>\n",
       "      <td>...</td>\n",
       "      <td>0.467648</td>\n",
       "      <td>26.638932</td>\n",
       "      <td>8.776997</td>\n",
       "      <td>0.058821</td>\n",
       "      <td>0.188049</td>\n",
       "      <td>0.274425</td>\n",
       "      <td>0.299169</td>\n",
       "      <td>0.725877</td>\n",
       "      <td>0.908078</td>\n",
       "      <td>2.435524</td>\n",
       "    </tr>\n",
       "    <tr>\n",
       "      <th>SRR306856_GSM752706_hsa_lv_M_2</th>\n",
       "      <td>20479674.0</td>\n",
       "      <td>25412159.0</td>\n",
       "      <td>24423554.0</td>\n",
       "      <td>97553390.0</td>\n",
       "      <td>20272780.0</td>\n",
       "      <td>207.81</td>\n",
       "      <td>6708876.0</td>\n",
       "      <td>244771.0</td>\n",
       "      <td>36.48</td>\n",
       "      <td>32534150.0</td>\n",
       "      <td>...</td>\n",
       "      <td>0.963204</td>\n",
       "      <td>8.959223</td>\n",
       "      <td>5.672659</td>\n",
       "      <td>0.069628</td>\n",
       "      <td>0.152541</td>\n",
       "      <td>0.290511</td>\n",
       "      <td>0.170481</td>\n",
       "      <td>0.361547</td>\n",
       "      <td>0.448215</td>\n",
       "      <td>3.890283</td>\n",
       "    </tr>\n",
       "    <tr>\n",
       "      <th>SRR306844_GSM752697_hsa_cb_F_1</th>\n",
       "      <td>26696068.0</td>\n",
       "      <td>30804199.0</td>\n",
       "      <td>29400439.0</td>\n",
       "      <td>97553390.0</td>\n",
       "      <td>20372273.0</td>\n",
       "      <td>208.83</td>\n",
       "      <td>6708876.0</td>\n",
       "      <td>514939.0</td>\n",
       "      <td>76.75</td>\n",
       "      <td>32534150.0</td>\n",
       "      <td>...</td>\n",
       "      <td>1.671652</td>\n",
       "      <td>12.543702</td>\n",
       "      <td>13.763228</td>\n",
       "      <td>0.142536</td>\n",
       "      <td>0.290792</td>\n",
       "      <td>0.399877</td>\n",
       "      <td>0.244973</td>\n",
       "      <td>0.686747</td>\n",
       "      <td>0.929773</td>\n",
       "      <td>4.557041</td>\n",
       "    </tr>\n",
       "    <tr>\n",
       "      <th>SRR306855_GSM752705_hsa_lv_M_1</th>\n",
       "      <td>21960165.0</td>\n",
       "      <td>26848271.0</td>\n",
       "      <td>25799169.0</td>\n",
       "      <td>97553390.0</td>\n",
       "      <td>21789234.0</td>\n",
       "      <td>223.36</td>\n",
       "      <td>6708876.0</td>\n",
       "      <td>126948.0</td>\n",
       "      <td>18.92</td>\n",
       "      <td>32534150.0</td>\n",
       "      <td>...</td>\n",
       "      <td>0.472835</td>\n",
       "      <td>9.830242</td>\n",
       "      <td>4.077585</td>\n",
       "      <td>0.051337</td>\n",
       "      <td>0.103321</td>\n",
       "      <td>0.133573</td>\n",
       "      <td>0.192631</td>\n",
       "      <td>0.363290</td>\n",
       "      <td>0.421308</td>\n",
       "      <td>3.907522</td>\n",
       "    </tr>\n",
       "    <tr>\n",
       "      <th>SRR306854_GSM752705_hsa_lv_M_1</th>\n",
       "      <td>4522780.0</td>\n",
       "      <td>5069567.0</td>\n",
       "      <td>4838211.0</td>\n",
       "      <td>97553390.0</td>\n",
       "      <td>3933657.0</td>\n",
       "      <td>40.32</td>\n",
       "      <td>6708876.0</td>\n",
       "      <td>22615.0</td>\n",
       "      <td>3.37</td>\n",
       "      <td>32534150.0</td>\n",
       "      <td>...</td>\n",
       "      <td>0.446093</td>\n",
       "      <td>10.984982</td>\n",
       "      <td>5.466384</td>\n",
       "      <td>0.123975</td>\n",
       "      <td>0.241046</td>\n",
       "      <td>0.295469</td>\n",
       "      <td>0.337129</td>\n",
       "      <td>0.555452</td>\n",
       "      <td>0.649898</td>\n",
       "      <td>4.563624</td>\n",
       "    </tr>\n",
       "    <tr>\n",
       "      <th>SRR306849_GSM752700_hsa_ht_M_1</th>\n",
       "      <td>14274919.0</td>\n",
       "      <td>16907263.0</td>\n",
       "      <td>15884800.0</td>\n",
       "      <td>97553390.0</td>\n",
       "      <td>13048919.0</td>\n",
       "      <td>133.76</td>\n",
       "      <td>6708876.0</td>\n",
       "      <td>165992.0</td>\n",
       "      <td>24.74</td>\n",
       "      <td>32534150.0</td>\n",
       "      <td>...</td>\n",
       "      <td>0.981779</td>\n",
       "      <td>7.265061</td>\n",
       "      <td>8.076825</td>\n",
       "      <td>0.076086</td>\n",
       "      <td>0.130323</td>\n",
       "      <td>0.166449</td>\n",
       "      <td>0.078830</td>\n",
       "      <td>0.220450</td>\n",
       "      <td>0.283038</td>\n",
       "      <td>6.047478</td>\n",
       "    </tr>\n",
       "    <tr>\n",
       "      <th>SRR306848_GSM752700_hsa_ht_M_1</th>\n",
       "      <td>6943569.0</td>\n",
       "      <td>7641330.0</td>\n",
       "      <td>7188113.0</td>\n",
       "      <td>97553390.0</td>\n",
       "      <td>5788876.0</td>\n",
       "      <td>59.34</td>\n",
       "      <td>6708876.0</td>\n",
       "      <td>70803.0</td>\n",
       "      <td>10.55</td>\n",
       "      <td>32534150.0</td>\n",
       "      <td>...</td>\n",
       "      <td>0.926580</td>\n",
       "      <td>7.977826</td>\n",
       "      <td>8.744577</td>\n",
       "      <td>0.144962</td>\n",
       "      <td>0.224398</td>\n",
       "      <td>0.276863</td>\n",
       "      <td>0.123565</td>\n",
       "      <td>0.297658</td>\n",
       "      <td>0.385587</td>\n",
       "      <td>5.931127</td>\n",
       "    </tr>\n",
       "    <tr>\n",
       "      <th>SRR306847_GSM752699_hsa_ht_F_1</th>\n",
       "      <td>390128.0</td>\n",
       "      <td>430498.0</td>\n",
       "      <td>419659.0</td>\n",
       "      <td>97553390.0</td>\n",
       "      <td>317984.0</td>\n",
       "      <td>3.26</td>\n",
       "      <td>6708876.0</td>\n",
       "      <td>1351.0</td>\n",
       "      <td>0.20</td>\n",
       "      <td>32534150.0</td>\n",
       "      <td>...</td>\n",
       "      <td>0.313823</td>\n",
       "      <td>13.413070</td>\n",
       "      <td>9.244642</td>\n",
       "      <td>0.035773</td>\n",
       "      <td>0.100813</td>\n",
       "      <td>0.150523</td>\n",
       "      <td>0.169803</td>\n",
       "      <td>0.392569</td>\n",
       "      <td>0.495937</td>\n",
       "      <td>2.517782</td>\n",
       "    </tr>\n",
       "    <tr>\n",
       "      <th>SRR306858_GSM752708_hsa_ts_M_2</th>\n",
       "      <td>26601239.0</td>\n",
       "      <td>32690692.0</td>\n",
       "      <td>31304035.0</td>\n",
       "      <td>97553390.0</td>\n",
       "      <td>24618308.0</td>\n",
       "      <td>252.36</td>\n",
       "      <td>6708876.0</td>\n",
       "      <td>592079.0</td>\n",
       "      <td>88.25</td>\n",
       "      <td>32534150.0</td>\n",
       "      <td>...</td>\n",
       "      <td>1.811155</td>\n",
       "      <td>8.145686</td>\n",
       "      <td>9.061769</td>\n",
       "      <td>0.284420</td>\n",
       "      <td>0.549187</td>\n",
       "      <td>0.805820</td>\n",
       "      <td>0.168785</td>\n",
       "      <td>0.441095</td>\n",
       "      <td>0.627041</td>\n",
       "      <td>4.241749</td>\n",
       "    </tr>\n",
       "    <tr>\n",
       "      <th>SRR306843_GSM752696_hsa_br_M_5</th>\n",
       "      <td>4001686.0</td>\n",
       "      <td>4552986.0</td>\n",
       "      <td>4283860.0</td>\n",
       "      <td>97553390.0</td>\n",
       "      <td>3221235.0</td>\n",
       "      <td>33.02</td>\n",
       "      <td>6708876.0</td>\n",
       "      <td>64169.0</td>\n",
       "      <td>9.56</td>\n",
       "      <td>32534150.0</td>\n",
       "      <td>...</td>\n",
       "      <td>1.409383</td>\n",
       "      <td>13.224881</td>\n",
       "      <td>7.703955</td>\n",
       "      <td>0.158094</td>\n",
       "      <td>0.287504</td>\n",
       "      <td>0.372481</td>\n",
       "      <td>0.170042</td>\n",
       "      <td>0.504284</td>\n",
       "      <td>0.628379</td>\n",
       "      <td>5.910978</td>\n",
       "    </tr>\n",
       "    <tr>\n",
       "      <th>SRR306845_GSM752698_hsa_cb_M_1</th>\n",
       "      <td>6930461.0</td>\n",
       "      <td>7677352.0</td>\n",
       "      <td>7343963.0</td>\n",
       "      <td>97553390.0</td>\n",
       "      <td>5070150.0</td>\n",
       "      <td>51.97</td>\n",
       "      <td>6708876.0</td>\n",
       "      <td>71209.0</td>\n",
       "      <td>10.61</td>\n",
       "      <td>32534150.0</td>\n",
       "      <td>...</td>\n",
       "      <td>0.927520</td>\n",
       "      <td>16.962359</td>\n",
       "      <td>10.449540</td>\n",
       "      <td>0.112565</td>\n",
       "      <td>0.265573</td>\n",
       "      <td>0.383466</td>\n",
       "      <td>0.281738</td>\n",
       "      <td>0.695383</td>\n",
       "      <td>0.894267</td>\n",
       "      <td>4.342500</td>\n",
       "    </tr>\n",
       "    <tr>\n",
       "      <th>SRR306857_GSM752707_hsa_ts_M_1</th>\n",
       "      <td>3813048.0</td>\n",
       "      <td>4632287.0</td>\n",
       "      <td>4423313.0</td>\n",
       "      <td>97553390.0</td>\n",
       "      <td>3627815.0</td>\n",
       "      <td>37.19</td>\n",
       "      <td>6708876.0</td>\n",
       "      <td>65867.0</td>\n",
       "      <td>9.82</td>\n",
       "      <td>32534150.0</td>\n",
       "      <td>...</td>\n",
       "      <td>1.421911</td>\n",
       "      <td>9.655447</td>\n",
       "      <td>5.062769</td>\n",
       "      <td>0.215574</td>\n",
       "      <td>0.388750</td>\n",
       "      <td>0.525313</td>\n",
       "      <td>0.159684</td>\n",
       "      <td>0.388253</td>\n",
       "      <td>0.507460</td>\n",
       "      <td>4.511249</td>\n",
       "    </tr>\n",
       "    <tr>\n",
       "      <th>SRR306851_GSM752702_hsa_kd_F_1</th>\n",
       "      <td>1129920.0</td>\n",
       "      <td>1335951.0</td>\n",
       "      <td>1296072.0</td>\n",
       "      <td>97553390.0</td>\n",
       "      <td>995396.0</td>\n",
       "      <td>10.20</td>\n",
       "      <td>6708876.0</td>\n",
       "      <td>6981.0</td>\n",
       "      <td>1.04</td>\n",
       "      <td>32534150.0</td>\n",
       "      <td>...</td>\n",
       "      <td>0.522549</td>\n",
       "      <td>15.289633</td>\n",
       "      <td>5.931206</td>\n",
       "      <td>0.053445</td>\n",
       "      <td>0.133987</td>\n",
       "      <td>0.188779</td>\n",
       "      <td>0.229574</td>\n",
       "      <td>0.478536</td>\n",
       "      <td>0.574347</td>\n",
       "      <td>2.985065</td>\n",
       "    </tr>\n",
       "    <tr>\n",
       "      <th>SRR306853_GSM752704_hsa_kd_M_2</th>\n",
       "      <td>21872694.0</td>\n",
       "      <td>25848254.0</td>\n",
       "      <td>24754716.0</td>\n",
       "      <td>97553390.0</td>\n",
       "      <td>19255260.0</td>\n",
       "      <td>197.38</td>\n",
       "      <td>6708876.0</td>\n",
       "      <td>220318.0</td>\n",
       "      <td>32.84</td>\n",
       "      <td>32534150.0</td>\n",
       "      <td>...</td>\n",
       "      <td>0.852352</td>\n",
       "      <td>12.921871</td>\n",
       "      <td>6.740695</td>\n",
       "      <td>0.092161</td>\n",
       "      <td>0.181525</td>\n",
       "      <td>0.246229</td>\n",
       "      <td>0.199890</td>\n",
       "      <td>0.426849</td>\n",
       "      <td>0.514781</td>\n",
       "      <td>4.230607</td>\n",
       "    </tr>\n",
       "    <tr>\n",
       "      <th>SRR306841_GSM752694_hsa_br_M_2</th>\n",
       "      <td>16761049.0</td>\n",
       "      <td>19216332.0</td>\n",
       "      <td>18568499.0</td>\n",
       "      <td>97553390.0</td>\n",
       "      <td>12958130.0</td>\n",
       "      <td>132.83</td>\n",
       "      <td>6708876.0</td>\n",
       "      <td>147369.0</td>\n",
       "      <td>21.97</td>\n",
       "      <td>32534150.0</td>\n",
       "      <td>...</td>\n",
       "      <td>0.766895</td>\n",
       "      <td>20.357376</td>\n",
       "      <td>7.018785</td>\n",
       "      <td>0.092578</td>\n",
       "      <td>0.222930</td>\n",
       "      <td>0.316033</td>\n",
       "      <td>0.244381</td>\n",
       "      <td>0.582973</td>\n",
       "      <td>0.736748</td>\n",
       "      <td>3.371263</td>\n",
       "    </tr>\n",
       "    <tr>\n",
       "      <th>SRR306839_GSM752692_hsa_br_M_3</th>\n",
       "      <td>14292758.0</td>\n",
       "      <td>16605716.0</td>\n",
       "      <td>16015077.0</td>\n",
       "      <td>97553390.0</td>\n",
       "      <td>12414279.0</td>\n",
       "      <td>127.26</td>\n",
       "      <td>6708876.0</td>\n",
       "      <td>247882.0</td>\n",
       "      <td>36.95</td>\n",
       "      <td>32534150.0</td>\n",
       "      <td>...</td>\n",
       "      <td>1.492751</td>\n",
       "      <td>13.497521</td>\n",
       "      <td>5.982374</td>\n",
       "      <td>0.121512</td>\n",
       "      <td>0.210235</td>\n",
       "      <td>0.276477</td>\n",
       "      <td>0.148310</td>\n",
       "      <td>0.343508</td>\n",
       "      <td>0.434965</td>\n",
       "      <td>3.556842</td>\n",
       "    </tr>\n",
       "    <tr>\n",
       "      <th>SRR306842_GSM752695_hsa_br_M_4</th>\n",
       "      <td>28685415.0</td>\n",
       "      <td>32711214.0</td>\n",
       "      <td>31646644.0</td>\n",
       "      <td>97553390.0</td>\n",
       "      <td>22420725.0</td>\n",
       "      <td>229.83</td>\n",
       "      <td>6708876.0</td>\n",
       "      <td>382853.0</td>\n",
       "      <td>57.07</td>\n",
       "      <td>32534150.0</td>\n",
       "      <td>...</td>\n",
       "      <td>1.170403</td>\n",
       "      <td>15.085334</td>\n",
       "      <td>11.140699</td>\n",
       "      <td>0.086768</td>\n",
       "      <td>0.197211</td>\n",
       "      <td>0.278770</td>\n",
       "      <td>0.140401</td>\n",
       "      <td>0.380710</td>\n",
       "      <td>0.528941</td>\n",
       "      <td>3.254450</td>\n",
       "    </tr>\n",
       "    <tr>\n",
       "      <th>SRR306840_GSM752693_hsa_br_M_1</th>\n",
       "      <td>37620020.0</td>\n",
       "      <td>43324632.0</td>\n",
       "      <td>41459998.0</td>\n",
       "      <td>97553390.0</td>\n",
       "      <td>28761557.0</td>\n",
       "      <td>294.83</td>\n",
       "      <td>6708876.0</td>\n",
       "      <td>453023.0</td>\n",
       "      <td>67.53</td>\n",
       "      <td>32534150.0</td>\n",
       "      <td>...</td>\n",
       "      <td>1.045648</td>\n",
       "      <td>16.197645</td>\n",
       "      <td>11.064334</td>\n",
       "      <td>0.084571</td>\n",
       "      <td>0.210160</td>\n",
       "      <td>0.302909</td>\n",
       "      <td>0.182674</td>\n",
       "      <td>0.516277</td>\n",
       "      <td>0.699445</td>\n",
       "      <td>4.303866</td>\n",
       "    </tr>\n",
       "    <tr>\n",
       "      <th>SRR306818_GSM752671_ptr_cb_M_1</th>\n",
       "      <td>15044868.0</td>\n",
       "      <td>17130707.0</td>\n",
       "      <td>15642931.0</td>\n",
       "      <td>88085127.0</td>\n",
       "      <td>9670889.0</td>\n",
       "      <td>109.79</td>\n",
       "      <td>6300107.0</td>\n",
       "      <td>228149.0</td>\n",
       "      <td>36.21</td>\n",
       "      <td>29596271.0</td>\n",
       "      <td>...</td>\n",
       "      <td>1.331813</td>\n",
       "      <td>14.903045</td>\n",
       "      <td>15.584441</td>\n",
       "      <td>0.221970</td>\n",
       "      <td>0.940358</td>\n",
       "      <td>1.429252</td>\n",
       "      <td>0.396312</td>\n",
       "      <td>1.157891</td>\n",
       "      <td>1.613068</td>\n",
       "      <td>8.684849</td>\n",
       "    </tr>\n",
       "    <tr>\n",
       "      <th>SRR306821_GSM752674_ptr_kd_F_1</th>\n",
       "      <td>22251061.0</td>\n",
       "      <td>26416231.0</td>\n",
       "      <td>22845581.0</td>\n",
       "      <td>88085127.0</td>\n",
       "      <td>15409907.0</td>\n",
       "      <td>174.94</td>\n",
       "      <td>6300107.0</td>\n",
       "      <td>290277.0</td>\n",
       "      <td>46.07</td>\n",
       "      <td>29596271.0</td>\n",
       "      <td>...</td>\n",
       "      <td>1.098859</td>\n",
       "      <td>11.086052</td>\n",
       "      <td>12.188711</td>\n",
       "      <td>0.216556</td>\n",
       "      <td>1.688564</td>\n",
       "      <td>2.488061</td>\n",
       "      <td>0.383563</td>\n",
       "      <td>0.916675</td>\n",
       "      <td>1.286444</td>\n",
       "      <td>13.516879</td>\n",
       "    </tr>\n",
       "    <tr>\n",
       "      <th>SRR306825_GSM752678_ptr_ts_M_1</th>\n",
       "      <td>18236158.0</td>\n",
       "      <td>21628091.0</td>\n",
       "      <td>19839355.0</td>\n",
       "      <td>88085127.0</td>\n",
       "      <td>14037941.0</td>\n",
       "      <td>159.37</td>\n",
       "      <td>6300107.0</td>\n",
       "      <td>356326.0</td>\n",
       "      <td>56.56</td>\n",
       "      <td>29596271.0</td>\n",
       "      <td>...</td>\n",
       "      <td>1.647515</td>\n",
       "      <td>8.322588</td>\n",
       "      <td>13.076841</td>\n",
       "      <td>0.471008</td>\n",
       "      <td>1.318105</td>\n",
       "      <td>2.083647</td>\n",
       "      <td>0.378494</td>\n",
       "      <td>1.072545</td>\n",
       "      <td>1.692923</td>\n",
       "      <td>8.270429</td>\n",
       "    </tr>\n",
       "    <tr>\n",
       "      <th>SRR306811_GSM752664_ptr_br_F_1</th>\n",
       "      <td>17642618.0</td>\n",
       "      <td>19963730.0</td>\n",
       "      <td>17571501.0</td>\n",
       "      <td>88085127.0</td>\n",
       "      <td>10994612.0</td>\n",
       "      <td>124.82</td>\n",
       "      <td>6300107.0</td>\n",
       "      <td>422260.0</td>\n",
       "      <td>67.02</td>\n",
       "      <td>29596271.0</td>\n",
       "      <td>...</td>\n",
       "      <td>2.115136</td>\n",
       "      <td>14.273134</td>\n",
       "      <td>12.422919</td>\n",
       "      <td>0.310263</td>\n",
       "      <td>1.854117</td>\n",
       "      <td>2.736027</td>\n",
       "      <td>0.363675</td>\n",
       "      <td>0.999858</td>\n",
       "      <td>1.396973</td>\n",
       "      <td>11.982876</td>\n",
       "    </tr>\n",
       "    <tr>\n",
       "      <th>SRR306820_GSM752673_ptr_ht_M_1</th>\n",
       "      <td>29380175.0</td>\n",
       "      <td>34655540.0</td>\n",
       "      <td>24669160.0</td>\n",
       "      <td>88085127.0</td>\n",
       "      <td>15590382.0</td>\n",
       "      <td>176.99</td>\n",
       "      <td>6300107.0</td>\n",
       "      <td>200975.0</td>\n",
       "      <td>31.90</td>\n",
       "      <td>29596271.0</td>\n",
       "      <td>...</td>\n",
       "      <td>0.579922</td>\n",
       "      <td>7.809897</td>\n",
       "      <td>10.523720</td>\n",
       "      <td>0.089016</td>\n",
       "      <td>4.348670</td>\n",
       "      <td>6.422895</td>\n",
       "      <td>0.209949</td>\n",
       "      <td>0.561821</td>\n",
       "      <td>0.860757</td>\n",
       "      <td>28.816114</td>\n",
       "    </tr>\n",
       "    <tr>\n",
       "      <th>SRR306817_GSM752670_ptr_cb_F_1</th>\n",
       "      <td>27246489.0</td>\n",
       "      <td>31600292.0</td>\n",
       "      <td>28240264.0</td>\n",
       "      <td>88085127.0</td>\n",
       "      <td>17570802.0</td>\n",
       "      <td>199.48</td>\n",
       "      <td>6300107.0</td>\n",
       "      <td>393034.0</td>\n",
       "      <td>62.39</td>\n",
       "      <td>29596271.0</td>\n",
       "      <td>...</td>\n",
       "      <td>1.243767</td>\n",
       "      <td>12.887333</td>\n",
       "      <td>16.275717</td>\n",
       "      <td>0.234539</td>\n",
       "      <td>1.148214</td>\n",
       "      <td>1.728763</td>\n",
       "      <td>0.388373</td>\n",
       "      <td>1.154632</td>\n",
       "      <td>1.628229</td>\n",
       "      <td>10.632902</td>\n",
       "    </tr>\n",
       "    <tr>\n",
       "      <th>SRR306822_GSM752675_ptr_kd_M_1</th>\n",
       "      <td>29722024.0</td>\n",
       "      <td>35132350.0</td>\n",
       "      <td>30159330.0</td>\n",
       "      <td>88085127.0</td>\n",
       "      <td>20052865.0</td>\n",
       "      <td>227.65</td>\n",
       "      <td>6300107.0</td>\n",
       "      <td>309514.0</td>\n",
       "      <td>49.13</td>\n",
       "      <td>29596271.0</td>\n",
       "      <td>...</td>\n",
       "      <td>0.880994</td>\n",
       "      <td>13.167630</td>\n",
       "      <td>11.378672</td>\n",
       "      <td>0.156198</td>\n",
       "      <td>1.388848</td>\n",
       "      <td>2.037626</td>\n",
       "      <td>0.370906</td>\n",
       "      <td>0.927598</td>\n",
       "      <td>1.301911</td>\n",
       "      <td>14.155102</td>\n",
       "    </tr>\n",
       "    <tr>\n",
       "      <th>SRR306819_GSM752672_ptr_ht_F_1</th>\n",
       "      <td>24714477.0</td>\n",
       "      <td>28916366.0</td>\n",
       "      <td>20369581.0</td>\n",
       "      <td>88085127.0</td>\n",
       "      <td>12250965.0</td>\n",
       "      <td>139.08</td>\n",
       "      <td>6300107.0</td>\n",
       "      <td>170769.0</td>\n",
       "      <td>27.11</td>\n",
       "      <td>29596271.0</td>\n",
       "      <td>...</td>\n",
       "      <td>0.590562</td>\n",
       "      <td>7.022909</td>\n",
       "      <td>12.924536</td>\n",
       "      <td>0.097077</td>\n",
       "      <td>4.700328</td>\n",
       "      <td>6.783505</td>\n",
       "      <td>0.185390</td>\n",
       "      <td>0.476675</td>\n",
       "      <td>0.754687</td>\n",
       "      <td>29.556913</td>\n",
       "    </tr>\n",
       "    <tr>\n",
       "      <th>SRR306824_GSM752677_ptr_lv_M_1</th>\n",
       "      <td>15744700.0</td>\n",
       "      <td>18519871.0</td>\n",
       "      <td>16915818.0</td>\n",
       "      <td>88085127.0</td>\n",
       "      <td>12669126.0</td>\n",
       "      <td>143.83</td>\n",
       "      <td>6300107.0</td>\n",
       "      <td>273379.0</td>\n",
       "      <td>43.39</td>\n",
       "      <td>29596271.0</td>\n",
       "      <td>...</td>\n",
       "      <td>1.476139</td>\n",
       "      <td>8.512592</td>\n",
       "      <td>9.117585</td>\n",
       "      <td>0.195072</td>\n",
       "      <td>1.834235</td>\n",
       "      <td>2.593809</td>\n",
       "      <td>0.430230</td>\n",
       "      <td>0.837155</td>\n",
       "      <td>1.230338</td>\n",
       "      <td>8.661254</td>\n",
       "    </tr>\n",
       "    <tr>\n",
       "      <th>SRR306823_GSM752676_ptr_lv_F_1</th>\n",
       "      <td>26026781.0</td>\n",
       "      <td>31855532.0</td>\n",
       "      <td>28848671.0</td>\n",
       "      <td>88085127.0</td>\n",
       "      <td>21123331.0</td>\n",
       "      <td>239.81</td>\n",
       "      <td>6300107.0</td>\n",
       "      <td>290378.0</td>\n",
       "      <td>46.09</td>\n",
       "      <td>29596271.0</td>\n",
       "      <td>...</td>\n",
       "      <td>0.911547</td>\n",
       "      <td>9.888973</td>\n",
       "      <td>8.313319</td>\n",
       "      <td>0.279967</td>\n",
       "      <td>1.105758</td>\n",
       "      <td>1.648797</td>\n",
       "      <td>0.856206</td>\n",
       "      <td>3.255491</td>\n",
       "      <td>3.488537</td>\n",
       "      <td>9.439054</td>\n",
       "    </tr>\n",
       "    <tr>\n",
       "      <th>SRR306814_GSM752667_ptr_br_M_3</th>\n",
       "      <td>26933053.0</td>\n",
       "      <td>30082726.0</td>\n",
       "      <td>25291135.0</td>\n",
       "      <td>88085127.0</td>\n",
       "      <td>14354765.0</td>\n",
       "      <td>162.96</td>\n",
       "      <td>6300107.0</td>\n",
       "      <td>212532.0</td>\n",
       "      <td>33.73</td>\n",
       "      <td>29596271.0</td>\n",
       "      <td>...</td>\n",
       "      <td>0.706492</td>\n",
       "      <td>17.941506</td>\n",
       "      <td>13.539464</td>\n",
       "      <td>0.126834</td>\n",
       "      <td>1.918626</td>\n",
       "      <td>2.807684</td>\n",
       "      <td>0.371629</td>\n",
       "      <td>0.981434</td>\n",
       "      <td>1.359172</td>\n",
       "      <td>15.928048</td>\n",
       "    </tr>\n",
       "    <tr>\n",
       "      <th>SRR306812_GSM752665_ptr_br_M_1</th>\n",
       "      <td>24913447.0</td>\n",
       "      <td>29551717.0</td>\n",
       "      <td>26487619.0</td>\n",
       "      <td>88085127.0</td>\n",
       "      <td>16938645.0</td>\n",
       "      <td>192.30</td>\n",
       "      <td>6300107.0</td>\n",
       "      <td>394801.0</td>\n",
       "      <td>62.67</td>\n",
       "      <td>29596271.0</td>\n",
       "      <td>...</td>\n",
       "      <td>1.335966</td>\n",
       "      <td>14.931021</td>\n",
       "      <td>11.949069</td>\n",
       "      <td>0.172910</td>\n",
       "      <td>1.956976</td>\n",
       "      <td>2.811779</td>\n",
       "      <td>0.352074</td>\n",
       "      <td>0.942910</td>\n",
       "      <td>1.284920</td>\n",
       "      <td>10.368596</td>\n",
       "    </tr>\n",
       "    <tr>\n",
       "      <th>SRR306815_GSM752668_ptr_br_M_4</th>\n",
       "      <td>35594647.0</td>\n",
       "      <td>41357406.0</td>\n",
       "      <td>34750637.0</td>\n",
       "      <td>88085127.0</td>\n",
       "      <td>20940732.0</td>\n",
       "      <td>237.73</td>\n",
       "      <td>6300107.0</td>\n",
       "      <td>348201.0</td>\n",
       "      <td>55.27</td>\n",
       "      <td>29596271.0</td>\n",
       "      <td>...</td>\n",
       "      <td>0.841931</td>\n",
       "      <td>18.039376</td>\n",
       "      <td>11.380380</td>\n",
       "      <td>0.129701</td>\n",
       "      <td>1.171909</td>\n",
       "      <td>1.711974</td>\n",
       "      <td>0.379431</td>\n",
       "      <td>1.046891</td>\n",
       "      <td>1.417952</td>\n",
       "      <td>15.974815</td>\n",
       "    </tr>\n",
       "    <tr>\n",
       "      <th>SRR306813_GSM752666_ptr_br_M_2</th>\n",
       "      <td>33350847.0</td>\n",
       "      <td>37602688.0</td>\n",
       "      <td>28242231.0</td>\n",
       "      <td>88085127.0</td>\n",
       "      <td>15607917.0</td>\n",
       "      <td>177.19</td>\n",
       "      <td>6300107.0</td>\n",
       "      <td>254805.0</td>\n",
       "      <td>40.44</td>\n",
       "      <td>29596271.0</td>\n",
       "      <td>...</td>\n",
       "      <td>0.677624</td>\n",
       "      <td>15.559023</td>\n",
       "      <td>12.759979</td>\n",
       "      <td>0.115875</td>\n",
       "      <td>1.935614</td>\n",
       "      <td>3.281901</td>\n",
       "      <td>0.350007</td>\n",
       "      <td>0.932332</td>\n",
       "      <td>1.320969</td>\n",
       "      <td>24.893053</td>\n",
       "    </tr>\n",
       "    <tr>\n",
       "      <th>SRR306816_GSM752669_ptr_br_M_5</th>\n",
       "      <td>37515753.0</td>\n",
       "      <td>42862950.0</td>\n",
       "      <td>35649383.0</td>\n",
       "      <td>88085127.0</td>\n",
       "      <td>21285159.0</td>\n",
       "      <td>241.64</td>\n",
       "      <td>6300107.0</td>\n",
       "      <td>336041.0</td>\n",
       "      <td>53.34</td>\n",
       "      <td>29596271.0</td>\n",
       "      <td>...</td>\n",
       "      <td>0.783989</td>\n",
       "      <td>17.846907</td>\n",
       "      <td>11.382558</td>\n",
       "      <td>0.124336</td>\n",
       "      <td>1.505449</td>\n",
       "      <td>2.112955</td>\n",
       "      <td>0.366106</td>\n",
       "      <td>0.987041</td>\n",
       "      <td>1.385572</td>\n",
       "      <td>16.829376</td>\n",
       "    </tr>\n",
       "  </tbody>\n",
       "</table>\n",
       "<p>35 rows × 45 columns</p>\n",
       "</div>"
      ],
      "text/plain": [
       "                                total_reads  total_tags  total_assigned_tags  \\\n",
       "SRR306850_GSM752701_hsa_ht_M_2   21292867.0  25258488.0           24387237.0   \n",
       "SRR306846_GSM752698_hsa_cb_M_1   15800648.0  18379213.0           17615565.0   \n",
       "SRR306838_GSM752691_hsa_br_F_1     780690.0    889131.0             867476.0   \n",
       "SRR306856_GSM752706_hsa_lv_M_2   20479674.0  25412159.0           24423554.0   \n",
       "SRR306844_GSM752697_hsa_cb_F_1   26696068.0  30804199.0           29400439.0   \n",
       "SRR306855_GSM752705_hsa_lv_M_1   21960165.0  26848271.0           25799169.0   \n",
       "SRR306854_GSM752705_hsa_lv_M_1    4522780.0   5069567.0            4838211.0   \n",
       "SRR306849_GSM752700_hsa_ht_M_1   14274919.0  16907263.0           15884800.0   \n",
       "SRR306848_GSM752700_hsa_ht_M_1    6943569.0   7641330.0            7188113.0   \n",
       "SRR306847_GSM752699_hsa_ht_F_1     390128.0    430498.0             419659.0   \n",
       "SRR306858_GSM752708_hsa_ts_M_2   26601239.0  32690692.0           31304035.0   \n",
       "SRR306843_GSM752696_hsa_br_M_5    4001686.0   4552986.0            4283860.0   \n",
       "SRR306845_GSM752698_hsa_cb_M_1    6930461.0   7677352.0            7343963.0   \n",
       "SRR306857_GSM752707_hsa_ts_M_1    3813048.0   4632287.0            4423313.0   \n",
       "SRR306851_GSM752702_hsa_kd_F_1    1129920.0   1335951.0            1296072.0   \n",
       "SRR306853_GSM752704_hsa_kd_M_2   21872694.0  25848254.0           24754716.0   \n",
       "SRR306841_GSM752694_hsa_br_M_2   16761049.0  19216332.0           18568499.0   \n",
       "SRR306839_GSM752692_hsa_br_M_3   14292758.0  16605716.0           16015077.0   \n",
       "SRR306842_GSM752695_hsa_br_M_4   28685415.0  32711214.0           31646644.0   \n",
       "SRR306840_GSM752693_hsa_br_M_1   37620020.0  43324632.0           41459998.0   \n",
       "SRR306818_GSM752671_ptr_cb_M_1   15044868.0  17130707.0           15642931.0   \n",
       "SRR306821_GSM752674_ptr_kd_F_1   22251061.0  26416231.0           22845581.0   \n",
       "SRR306825_GSM752678_ptr_ts_M_1   18236158.0  21628091.0           19839355.0   \n",
       "SRR306811_GSM752664_ptr_br_F_1   17642618.0  19963730.0           17571501.0   \n",
       "SRR306820_GSM752673_ptr_ht_M_1   29380175.0  34655540.0           24669160.0   \n",
       "SRR306817_GSM752670_ptr_cb_F_1   27246489.0  31600292.0           28240264.0   \n",
       "SRR306822_GSM752675_ptr_kd_M_1   29722024.0  35132350.0           30159330.0   \n",
       "SRR306819_GSM752672_ptr_ht_F_1   24714477.0  28916366.0           20369581.0   \n",
       "SRR306824_GSM752677_ptr_lv_M_1   15744700.0  18519871.0           16915818.0   \n",
       "SRR306823_GSM752676_ptr_lv_F_1   26026781.0  31855532.0           28848671.0   \n",
       "SRR306814_GSM752667_ptr_br_M_3   26933053.0  30082726.0           25291135.0   \n",
       "SRR306812_GSM752665_ptr_br_M_1   24913447.0  29551717.0           26487619.0   \n",
       "SRR306815_GSM752668_ptr_br_M_4   35594647.0  41357406.0           34750637.0   \n",
       "SRR306813_GSM752666_ptr_br_M_2   33350847.0  37602688.0           28242231.0   \n",
       "SRR306816_GSM752669_ptr_br_M_5   37515753.0  42862950.0           35649383.0   \n",
       "\n",
       "                                cds_exons_total_bases  cds_exons_tag_count  \\\n",
       "SRR306850_GSM752701_hsa_ht_M_2             97553390.0           19675431.0   \n",
       "SRR306846_GSM752698_hsa_cb_M_1             97553390.0           12662565.0   \n",
       "SRR306838_GSM752691_hsa_br_F_1             97553390.0             537910.0   \n",
       "SRR306856_GSM752706_hsa_lv_M_2             97553390.0           20272780.0   \n",
       "SRR306844_GSM752697_hsa_cb_F_1             97553390.0           20372273.0   \n",
       "SRR306855_GSM752705_hsa_lv_M_1             97553390.0           21789234.0   \n",
       "SRR306854_GSM752705_hsa_lv_M_1             97553390.0            3933657.0   \n",
       "SRR306849_GSM752700_hsa_ht_M_1             97553390.0           13048919.0   \n",
       "SRR306848_GSM752700_hsa_ht_M_1             97553390.0            5788876.0   \n",
       "SRR306847_GSM752699_hsa_ht_F_1             97553390.0             317984.0   \n",
       "SRR306858_GSM752708_hsa_ts_M_2             97553390.0           24618308.0   \n",
       "SRR306843_GSM752696_hsa_br_M_5             97553390.0            3221235.0   \n",
       "SRR306845_GSM752698_hsa_cb_M_1             97553390.0            5070150.0   \n",
       "SRR306857_GSM752707_hsa_ts_M_1             97553390.0            3627815.0   \n",
       "SRR306851_GSM752702_hsa_kd_F_1             97553390.0             995396.0   \n",
       "SRR306853_GSM752704_hsa_kd_M_2             97553390.0           19255260.0   \n",
       "SRR306841_GSM752694_hsa_br_M_2             97553390.0           12958130.0   \n",
       "SRR306839_GSM752692_hsa_br_M_3             97553390.0           12414279.0   \n",
       "SRR306842_GSM752695_hsa_br_M_4             97553390.0           22420725.0   \n",
       "SRR306840_GSM752693_hsa_br_M_1             97553390.0           28761557.0   \n",
       "SRR306818_GSM752671_ptr_cb_M_1             88085127.0            9670889.0   \n",
       "SRR306821_GSM752674_ptr_kd_F_1             88085127.0           15409907.0   \n",
       "SRR306825_GSM752678_ptr_ts_M_1             88085127.0           14037941.0   \n",
       "SRR306811_GSM752664_ptr_br_F_1             88085127.0           10994612.0   \n",
       "SRR306820_GSM752673_ptr_ht_M_1             88085127.0           15590382.0   \n",
       "SRR306817_GSM752670_ptr_cb_F_1             88085127.0           17570802.0   \n",
       "SRR306822_GSM752675_ptr_kd_M_1             88085127.0           20052865.0   \n",
       "SRR306819_GSM752672_ptr_ht_F_1             88085127.0           12250965.0   \n",
       "SRR306824_GSM752677_ptr_lv_M_1             88085127.0           12669126.0   \n",
       "SRR306823_GSM752676_ptr_lv_F_1             88085127.0           21123331.0   \n",
       "SRR306814_GSM752667_ptr_br_M_3             88085127.0           14354765.0   \n",
       "SRR306812_GSM752665_ptr_br_M_1             88085127.0           16938645.0   \n",
       "SRR306815_GSM752668_ptr_br_M_4             88085127.0           20940732.0   \n",
       "SRR306813_GSM752666_ptr_br_M_2             88085127.0           15607917.0   \n",
       "SRR306816_GSM752669_ptr_br_M_5             88085127.0           21285159.0   \n",
       "\n",
       "                                cds_exons_tags_kb  5_utr_exons_total_bases  \\\n",
       "SRR306850_GSM752701_hsa_ht_M_2             201.69                6708876.0   \n",
       "SRR306846_GSM752698_hsa_cb_M_1             129.80                6708876.0   \n",
       "SRR306838_GSM752691_hsa_br_F_1               5.51                6708876.0   \n",
       "SRR306856_GSM752706_hsa_lv_M_2             207.81                6708876.0   \n",
       "SRR306844_GSM752697_hsa_cb_F_1             208.83                6708876.0   \n",
       "SRR306855_GSM752705_hsa_lv_M_1             223.36                6708876.0   \n",
       "SRR306854_GSM752705_hsa_lv_M_1              40.32                6708876.0   \n",
       "SRR306849_GSM752700_hsa_ht_M_1             133.76                6708876.0   \n",
       "SRR306848_GSM752700_hsa_ht_M_1              59.34                6708876.0   \n",
       "SRR306847_GSM752699_hsa_ht_F_1               3.26                6708876.0   \n",
       "SRR306858_GSM752708_hsa_ts_M_2             252.36                6708876.0   \n",
       "SRR306843_GSM752696_hsa_br_M_5              33.02                6708876.0   \n",
       "SRR306845_GSM752698_hsa_cb_M_1              51.97                6708876.0   \n",
       "SRR306857_GSM752707_hsa_ts_M_1              37.19                6708876.0   \n",
       "SRR306851_GSM752702_hsa_kd_F_1              10.20                6708876.0   \n",
       "SRR306853_GSM752704_hsa_kd_M_2             197.38                6708876.0   \n",
       "SRR306841_GSM752694_hsa_br_M_2             132.83                6708876.0   \n",
       "SRR306839_GSM752692_hsa_br_M_3             127.26                6708876.0   \n",
       "SRR306842_GSM752695_hsa_br_M_4             229.83                6708876.0   \n",
       "SRR306840_GSM752693_hsa_br_M_1             294.83                6708876.0   \n",
       "SRR306818_GSM752671_ptr_cb_M_1             109.79                6300107.0   \n",
       "SRR306821_GSM752674_ptr_kd_F_1             174.94                6300107.0   \n",
       "SRR306825_GSM752678_ptr_ts_M_1             159.37                6300107.0   \n",
       "SRR306811_GSM752664_ptr_br_F_1             124.82                6300107.0   \n",
       "SRR306820_GSM752673_ptr_ht_M_1             176.99                6300107.0   \n",
       "SRR306817_GSM752670_ptr_cb_F_1             199.48                6300107.0   \n",
       "SRR306822_GSM752675_ptr_kd_M_1             227.65                6300107.0   \n",
       "SRR306819_GSM752672_ptr_ht_F_1             139.08                6300107.0   \n",
       "SRR306824_GSM752677_ptr_lv_M_1             143.83                6300107.0   \n",
       "SRR306823_GSM752676_ptr_lv_F_1             239.81                6300107.0   \n",
       "SRR306814_GSM752667_ptr_br_M_3             162.96                6300107.0   \n",
       "SRR306812_GSM752665_ptr_br_M_1             192.30                6300107.0   \n",
       "SRR306815_GSM752668_ptr_br_M_4             237.73                6300107.0   \n",
       "SRR306813_GSM752666_ptr_br_M_2             177.19                6300107.0   \n",
       "SRR306816_GSM752669_ptr_br_M_5             241.64                6300107.0   \n",
       "\n",
       "                                5_utr_exons_tag_count  5_utr_exons_tags_kb  \\\n",
       "SRR306850_GSM752701_hsa_ht_M_2               376547.0                56.13   \n",
       "SRR306846_GSM752698_hsa_cb_M_1               196081.0                29.23   \n",
       "SRR306838_GSM752691_hsa_br_F_1                 4158.0                 0.62   \n",
       "SRR306856_GSM752706_hsa_lv_M_2               244771.0                36.48   \n",
       "SRR306844_GSM752697_hsa_cb_F_1               514939.0                76.75   \n",
       "SRR306855_GSM752705_hsa_lv_M_1               126948.0                18.92   \n",
       "SRR306854_GSM752705_hsa_lv_M_1                22615.0                 3.37   \n",
       "SRR306849_GSM752700_hsa_ht_M_1               165992.0                24.74   \n",
       "SRR306848_GSM752700_hsa_ht_M_1                70803.0                10.55   \n",
       "SRR306847_GSM752699_hsa_ht_F_1                 1351.0                 0.20   \n",
       "SRR306858_GSM752708_hsa_ts_M_2               592079.0                88.25   \n",
       "SRR306843_GSM752696_hsa_br_M_5                64169.0                 9.56   \n",
       "SRR306845_GSM752698_hsa_cb_M_1                71209.0                10.61   \n",
       "SRR306857_GSM752707_hsa_ts_M_1                65867.0                 9.82   \n",
       "SRR306851_GSM752702_hsa_kd_F_1                 6981.0                 1.04   \n",
       "SRR306853_GSM752704_hsa_kd_M_2               220318.0                32.84   \n",
       "SRR306841_GSM752694_hsa_br_M_2               147369.0                21.97   \n",
       "SRR306839_GSM752692_hsa_br_M_3               247882.0                36.95   \n",
       "SRR306842_GSM752695_hsa_br_M_4               382853.0                57.07   \n",
       "SRR306840_GSM752693_hsa_br_M_1               453023.0                67.53   \n",
       "SRR306818_GSM752671_ptr_cb_M_1               228149.0                36.21   \n",
       "SRR306821_GSM752674_ptr_kd_F_1               290277.0                46.07   \n",
       "SRR306825_GSM752678_ptr_ts_M_1               356326.0                56.56   \n",
       "SRR306811_GSM752664_ptr_br_F_1               422260.0                67.02   \n",
       "SRR306820_GSM752673_ptr_ht_M_1               200975.0                31.90   \n",
       "SRR306817_GSM752670_ptr_cb_F_1               393034.0                62.39   \n",
       "SRR306822_GSM752675_ptr_kd_M_1               309514.0                49.13   \n",
       "SRR306819_GSM752672_ptr_ht_F_1               170769.0                27.11   \n",
       "SRR306824_GSM752677_ptr_lv_M_1               273379.0                43.39   \n",
       "SRR306823_GSM752676_ptr_lv_F_1               290378.0                46.09   \n",
       "SRR306814_GSM752667_ptr_br_M_3               212532.0                33.73   \n",
       "SRR306812_GSM752665_ptr_br_M_1               394801.0                62.67   \n",
       "SRR306815_GSM752668_ptr_br_M_4               348201.0                55.27   \n",
       "SRR306813_GSM752666_ptr_br_M_2               254805.0                40.44   \n",
       "SRR306816_GSM752669_ptr_br_M_5               336041.0                53.34   \n",
       "\n",
       "                                3_utr_exons_total_bases  ...  \\\n",
       "SRR306850_GSM752701_hsa_ht_M_2               32534150.0  ...   \n",
       "SRR306846_GSM752698_hsa_cb_M_1               32534150.0  ...   \n",
       "SRR306838_GSM752691_hsa_br_F_1               32534150.0  ...   \n",
       "SRR306856_GSM752706_hsa_lv_M_2               32534150.0  ...   \n",
       "SRR306844_GSM752697_hsa_cb_F_1               32534150.0  ...   \n",
       "SRR306855_GSM752705_hsa_lv_M_1               32534150.0  ...   \n",
       "SRR306854_GSM752705_hsa_lv_M_1               32534150.0  ...   \n",
       "SRR306849_GSM752700_hsa_ht_M_1               32534150.0  ...   \n",
       "SRR306848_GSM752700_hsa_ht_M_1               32534150.0  ...   \n",
       "SRR306847_GSM752699_hsa_ht_F_1               32534150.0  ...   \n",
       "SRR306858_GSM752708_hsa_ts_M_2               32534150.0  ...   \n",
       "SRR306843_GSM752696_hsa_br_M_5               32534150.0  ...   \n",
       "SRR306845_GSM752698_hsa_cb_M_1               32534150.0  ...   \n",
       "SRR306857_GSM752707_hsa_ts_M_1               32534150.0  ...   \n",
       "SRR306851_GSM752702_hsa_kd_F_1               32534150.0  ...   \n",
       "SRR306853_GSM752704_hsa_kd_M_2               32534150.0  ...   \n",
       "SRR306841_GSM752694_hsa_br_M_2               32534150.0  ...   \n",
       "SRR306839_GSM752692_hsa_br_M_3               32534150.0  ...   \n",
       "SRR306842_GSM752695_hsa_br_M_4               32534150.0  ...   \n",
       "SRR306840_GSM752693_hsa_br_M_1               32534150.0  ...   \n",
       "SRR306818_GSM752671_ptr_cb_M_1               29596271.0  ...   \n",
       "SRR306821_GSM752674_ptr_kd_F_1               29596271.0  ...   \n",
       "SRR306825_GSM752678_ptr_ts_M_1               29596271.0  ...   \n",
       "SRR306811_GSM752664_ptr_br_F_1               29596271.0  ...   \n",
       "SRR306820_GSM752673_ptr_ht_M_1               29596271.0  ...   \n",
       "SRR306817_GSM752670_ptr_cb_F_1               29596271.0  ...   \n",
       "SRR306822_GSM752675_ptr_kd_M_1               29596271.0  ...   \n",
       "SRR306819_GSM752672_ptr_ht_F_1               29596271.0  ...   \n",
       "SRR306824_GSM752677_ptr_lv_M_1               29596271.0  ...   \n",
       "SRR306823_GSM752676_ptr_lv_F_1               29596271.0  ...   \n",
       "SRR306814_GSM752667_ptr_br_M_3               29596271.0  ...   \n",
       "SRR306812_GSM752665_ptr_br_M_1               29596271.0  ...   \n",
       "SRR306815_GSM752668_ptr_br_M_4               29596271.0  ...   \n",
       "SRR306813_GSM752666_ptr_br_M_2               29596271.0  ...   \n",
       "SRR306816_GSM752669_ptr_br_M_5               29596271.0  ...   \n",
       "\n",
       "                                5_utr_exons_tag_pct  3_utr_exons_tag_pct  \\\n",
       "SRR306850_GSM752701_hsa_ht_M_2             1.490774            11.312506   \n",
       "SRR306846_GSM752698_hsa_cb_M_1             1.066863            15.304480   \n",
       "SRR306838_GSM752691_hsa_br_F_1             0.467648            26.638932   \n",
       "SRR306856_GSM752706_hsa_lv_M_2             0.963204             8.959223   \n",
       "SRR306844_GSM752697_hsa_cb_F_1             1.671652            12.543702   \n",
       "SRR306855_GSM752705_hsa_lv_M_1             0.472835             9.830242   \n",
       "SRR306854_GSM752705_hsa_lv_M_1             0.446093            10.984982   \n",
       "SRR306849_GSM752700_hsa_ht_M_1             0.981779             7.265061   \n",
       "SRR306848_GSM752700_hsa_ht_M_1             0.926580             7.977826   \n",
       "SRR306847_GSM752699_hsa_ht_F_1             0.313823            13.413070   \n",
       "SRR306858_GSM752708_hsa_ts_M_2             1.811155             8.145686   \n",
       "SRR306843_GSM752696_hsa_br_M_5             1.409383            13.224881   \n",
       "SRR306845_GSM752698_hsa_cb_M_1             0.927520            16.962359   \n",
       "SRR306857_GSM752707_hsa_ts_M_1             1.421911             9.655447   \n",
       "SRR306851_GSM752702_hsa_kd_F_1             0.522549            15.289633   \n",
       "SRR306853_GSM752704_hsa_kd_M_2             0.852352            12.921871   \n",
       "SRR306841_GSM752694_hsa_br_M_2             0.766895            20.357376   \n",
       "SRR306839_GSM752692_hsa_br_M_3             1.492751            13.497521   \n",
       "SRR306842_GSM752695_hsa_br_M_4             1.170403            15.085334   \n",
       "SRR306840_GSM752693_hsa_br_M_1             1.045648            16.197645   \n",
       "SRR306818_GSM752671_ptr_cb_M_1             1.331813            14.903045   \n",
       "SRR306821_GSM752674_ptr_kd_F_1             1.098859            11.086052   \n",
       "SRR306825_GSM752678_ptr_ts_M_1             1.647515             8.322588   \n",
       "SRR306811_GSM752664_ptr_br_F_1             2.115136            14.273134   \n",
       "SRR306820_GSM752673_ptr_ht_M_1             0.579922             7.809897   \n",
       "SRR306817_GSM752670_ptr_cb_F_1             1.243767            12.887333   \n",
       "SRR306822_GSM752675_ptr_kd_M_1             0.880994            13.167630   \n",
       "SRR306819_GSM752672_ptr_ht_F_1             0.590562             7.022909   \n",
       "SRR306824_GSM752677_ptr_lv_M_1             1.476139             8.512592   \n",
       "SRR306823_GSM752676_ptr_lv_F_1             0.911547             9.888973   \n",
       "SRR306814_GSM752667_ptr_br_M_3             0.706492            17.941506   \n",
       "SRR306812_GSM752665_ptr_br_M_1             1.335966            14.931021   \n",
       "SRR306815_GSM752668_ptr_br_M_4             0.841931            18.039376   \n",
       "SRR306813_GSM752666_ptr_br_M_2             0.677624            15.559023   \n",
       "SRR306816_GSM752669_ptr_br_M_5             0.783989            17.846907   \n",
       "\n",
       "                                introns_tag_pct  tss_up_1kb_tag_pct  \\\n",
       "SRR306850_GSM752701_hsa_ht_M_2         5.375496            0.079280   \n",
       "SRR306846_GSM752698_hsa_cb_M_1         9.503900            0.103867   \n",
       "SRR306838_GSM752691_hsa_br_F_1         8.776997            0.058821   \n",
       "SRR306856_GSM752706_hsa_lv_M_2         5.672659            0.069628   \n",
       "SRR306844_GSM752697_hsa_cb_F_1        13.763228            0.142536   \n",
       "SRR306855_GSM752705_hsa_lv_M_1         4.077585            0.051337   \n",
       "SRR306854_GSM752705_hsa_lv_M_1         5.466384            0.123975   \n",
       "SRR306849_GSM752700_hsa_ht_M_1         8.076825            0.076086   \n",
       "SRR306848_GSM752700_hsa_ht_M_1         8.744577            0.144962   \n",
       "SRR306847_GSM752699_hsa_ht_F_1         9.244642            0.035773   \n",
       "SRR306858_GSM752708_hsa_ts_M_2         9.061769            0.284420   \n",
       "SRR306843_GSM752696_hsa_br_M_5         7.703955            0.158094   \n",
       "SRR306845_GSM752698_hsa_cb_M_1        10.449540            0.112565   \n",
       "SRR306857_GSM752707_hsa_ts_M_1         5.062769            0.215574   \n",
       "SRR306851_GSM752702_hsa_kd_F_1         5.931206            0.053445   \n",
       "SRR306853_GSM752704_hsa_kd_M_2         6.740695            0.092161   \n",
       "SRR306841_GSM752694_hsa_br_M_2         7.018785            0.092578   \n",
       "SRR306839_GSM752692_hsa_br_M_3         5.982374            0.121512   \n",
       "SRR306842_GSM752695_hsa_br_M_4        11.140699            0.086768   \n",
       "SRR306840_GSM752693_hsa_br_M_1        11.064334            0.084571   \n",
       "SRR306818_GSM752671_ptr_cb_M_1        15.584441            0.221970   \n",
       "SRR306821_GSM752674_ptr_kd_F_1        12.188711            0.216556   \n",
       "SRR306825_GSM752678_ptr_ts_M_1        13.076841            0.471008   \n",
       "SRR306811_GSM752664_ptr_br_F_1        12.422919            0.310263   \n",
       "SRR306820_GSM752673_ptr_ht_M_1        10.523720            0.089016   \n",
       "SRR306817_GSM752670_ptr_cb_F_1        16.275717            0.234539   \n",
       "SRR306822_GSM752675_ptr_kd_M_1        11.378672            0.156198   \n",
       "SRR306819_GSM752672_ptr_ht_F_1        12.924536            0.097077   \n",
       "SRR306824_GSM752677_ptr_lv_M_1         9.117585            0.195072   \n",
       "SRR306823_GSM752676_ptr_lv_F_1         8.313319            0.279967   \n",
       "SRR306814_GSM752667_ptr_br_M_3        13.539464            0.126834   \n",
       "SRR306812_GSM752665_ptr_br_M_1        11.949069            0.172910   \n",
       "SRR306815_GSM752668_ptr_br_M_4        11.380380            0.129701   \n",
       "SRR306813_GSM752666_ptr_br_M_2        12.759979            0.115875   \n",
       "SRR306816_GSM752669_ptr_br_M_5        11.382558            0.124336   \n",
       "\n",
       "                                tss_up_5kb_tag_pct  tss_up_10kb_tag_pct  \\\n",
       "SRR306850_GSM752701_hsa_ht_M_2            0.133900             0.165841   \n",
       "SRR306846_GSM752698_hsa_cb_M_1            0.230325             0.325966   \n",
       "SRR306838_GSM752691_hsa_br_F_1            0.188049             0.274425   \n",
       "SRR306856_GSM752706_hsa_lv_M_2            0.152541             0.290511   \n",
       "SRR306844_GSM752697_hsa_cb_F_1            0.290792             0.399877   \n",
       "SRR306855_GSM752705_hsa_lv_M_1            0.103321             0.133573   \n",
       "SRR306854_GSM752705_hsa_lv_M_1            0.241046             0.295469   \n",
       "SRR306849_GSM752700_hsa_ht_M_1            0.130323             0.166449   \n",
       "SRR306848_GSM752700_hsa_ht_M_1            0.224398             0.276863   \n",
       "SRR306847_GSM752699_hsa_ht_F_1            0.100813             0.150523   \n",
       "SRR306858_GSM752708_hsa_ts_M_2            0.549187             0.805820   \n",
       "SRR306843_GSM752696_hsa_br_M_5            0.287504             0.372481   \n",
       "SRR306845_GSM752698_hsa_cb_M_1            0.265573             0.383466   \n",
       "SRR306857_GSM752707_hsa_ts_M_1            0.388750             0.525313   \n",
       "SRR306851_GSM752702_hsa_kd_F_1            0.133987             0.188779   \n",
       "SRR306853_GSM752704_hsa_kd_M_2            0.181525             0.246229   \n",
       "SRR306841_GSM752694_hsa_br_M_2            0.222930             0.316033   \n",
       "SRR306839_GSM752692_hsa_br_M_3            0.210235             0.276477   \n",
       "SRR306842_GSM752695_hsa_br_M_4            0.197211             0.278770   \n",
       "SRR306840_GSM752693_hsa_br_M_1            0.210160             0.302909   \n",
       "SRR306818_GSM752671_ptr_cb_M_1            0.940358             1.429252   \n",
       "SRR306821_GSM752674_ptr_kd_F_1            1.688564             2.488061   \n",
       "SRR306825_GSM752678_ptr_ts_M_1            1.318105             2.083647   \n",
       "SRR306811_GSM752664_ptr_br_F_1            1.854117             2.736027   \n",
       "SRR306820_GSM752673_ptr_ht_M_1            4.348670             6.422895   \n",
       "SRR306817_GSM752670_ptr_cb_F_1            1.148214             1.728763   \n",
       "SRR306822_GSM752675_ptr_kd_M_1            1.388848             2.037626   \n",
       "SRR306819_GSM752672_ptr_ht_F_1            4.700328             6.783505   \n",
       "SRR306824_GSM752677_ptr_lv_M_1            1.834235             2.593809   \n",
       "SRR306823_GSM752676_ptr_lv_F_1            1.105758             1.648797   \n",
       "SRR306814_GSM752667_ptr_br_M_3            1.918626             2.807684   \n",
       "SRR306812_GSM752665_ptr_br_M_1            1.956976             2.811779   \n",
       "SRR306815_GSM752668_ptr_br_M_4            1.171909             1.711974   \n",
       "SRR306813_GSM752666_ptr_br_M_2            1.935614             3.281901   \n",
       "SRR306816_GSM752669_ptr_br_M_5            1.505449             2.112955   \n",
       "\n",
       "                                tes_down_1kb_tag_pct  tes_down_5kb_tag_pct  \\\n",
       "SRR306850_GSM752701_hsa_ht_M_2              0.118602              0.252719   \n",
       "SRR306846_GSM752698_hsa_cb_M_1              0.218132              0.578784   \n",
       "SRR306838_GSM752691_hsa_br_F_1              0.299169              0.725877   \n",
       "SRR306856_GSM752706_hsa_lv_M_2              0.170481              0.361547   \n",
       "SRR306844_GSM752697_hsa_cb_F_1              0.244973              0.686747   \n",
       "SRR306855_GSM752705_hsa_lv_M_1              0.192631              0.363290   \n",
       "SRR306854_GSM752705_hsa_lv_M_1              0.337129              0.555452   \n",
       "SRR306849_GSM752700_hsa_ht_M_1              0.078830              0.220450   \n",
       "SRR306848_GSM752700_hsa_ht_M_1              0.123565              0.297658   \n",
       "SRR306847_GSM752699_hsa_ht_F_1              0.169803              0.392569   \n",
       "SRR306858_GSM752708_hsa_ts_M_2              0.168785              0.441095   \n",
       "SRR306843_GSM752696_hsa_br_M_5              0.170042              0.504284   \n",
       "SRR306845_GSM752698_hsa_cb_M_1              0.281738              0.695383   \n",
       "SRR306857_GSM752707_hsa_ts_M_1              0.159684              0.388253   \n",
       "SRR306851_GSM752702_hsa_kd_F_1              0.229574              0.478536   \n",
       "SRR306853_GSM752704_hsa_kd_M_2              0.199890              0.426849   \n",
       "SRR306841_GSM752694_hsa_br_M_2              0.244381              0.582973   \n",
       "SRR306839_GSM752692_hsa_br_M_3              0.148310              0.343508   \n",
       "SRR306842_GSM752695_hsa_br_M_4              0.140401              0.380710   \n",
       "SRR306840_GSM752693_hsa_br_M_1              0.182674              0.516277   \n",
       "SRR306818_GSM752671_ptr_cb_M_1              0.396312              1.157891   \n",
       "SRR306821_GSM752674_ptr_kd_F_1              0.383563              0.916675   \n",
       "SRR306825_GSM752678_ptr_ts_M_1              0.378494              1.072545   \n",
       "SRR306811_GSM752664_ptr_br_F_1              0.363675              0.999858   \n",
       "SRR306820_GSM752673_ptr_ht_M_1              0.209949              0.561821   \n",
       "SRR306817_GSM752670_ptr_cb_F_1              0.388373              1.154632   \n",
       "SRR306822_GSM752675_ptr_kd_M_1              0.370906              0.927598   \n",
       "SRR306819_GSM752672_ptr_ht_F_1              0.185390              0.476675   \n",
       "SRR306824_GSM752677_ptr_lv_M_1              0.430230              0.837155   \n",
       "SRR306823_GSM752676_ptr_lv_F_1              0.856206              3.255491   \n",
       "SRR306814_GSM752667_ptr_br_M_3              0.371629              0.981434   \n",
       "SRR306812_GSM752665_ptr_br_M_1              0.352074              0.942910   \n",
       "SRR306815_GSM752668_ptr_br_M_4              0.379431              1.046891   \n",
       "SRR306813_GSM752666_ptr_br_M_2              0.350007              0.932332   \n",
       "SRR306816_GSM752669_ptr_br_M_5              0.366106              0.987041   \n",
       "\n",
       "                                tes_down_10kb_tag_pct  \\\n",
       "SRR306850_GSM752701_hsa_ht_M_2               0.309730   \n",
       "SRR306846_GSM752698_hsa_cb_M_1               0.747714   \n",
       "SRR306838_GSM752691_hsa_br_F_1               0.908078   \n",
       "SRR306856_GSM752706_hsa_lv_M_2               0.448215   \n",
       "SRR306844_GSM752697_hsa_cb_F_1               0.929773   \n",
       "SRR306855_GSM752705_hsa_lv_M_1               0.421308   \n",
       "SRR306854_GSM752705_hsa_lv_M_1               0.649898   \n",
       "SRR306849_GSM752700_hsa_ht_M_1               0.283038   \n",
       "SRR306848_GSM752700_hsa_ht_M_1               0.385587   \n",
       "SRR306847_GSM752699_hsa_ht_F_1               0.495937   \n",
       "SRR306858_GSM752708_hsa_ts_M_2               0.627041   \n",
       "SRR306843_GSM752696_hsa_br_M_5               0.628379   \n",
       "SRR306845_GSM752698_hsa_cb_M_1               0.894267   \n",
       "SRR306857_GSM752707_hsa_ts_M_1               0.507460   \n",
       "SRR306851_GSM752702_hsa_kd_F_1               0.574347   \n",
       "SRR306853_GSM752704_hsa_kd_M_2               0.514781   \n",
       "SRR306841_GSM752694_hsa_br_M_2               0.736748   \n",
       "SRR306839_GSM752692_hsa_br_M_3               0.434965   \n",
       "SRR306842_GSM752695_hsa_br_M_4               0.528941   \n",
       "SRR306840_GSM752693_hsa_br_M_1               0.699445   \n",
       "SRR306818_GSM752671_ptr_cb_M_1               1.613068   \n",
       "SRR306821_GSM752674_ptr_kd_F_1               1.286444   \n",
       "SRR306825_GSM752678_ptr_ts_M_1               1.692923   \n",
       "SRR306811_GSM752664_ptr_br_F_1               1.396973   \n",
       "SRR306820_GSM752673_ptr_ht_M_1               0.860757   \n",
       "SRR306817_GSM752670_ptr_cb_F_1               1.628229   \n",
       "SRR306822_GSM752675_ptr_kd_M_1               1.301911   \n",
       "SRR306819_GSM752672_ptr_ht_F_1               0.754687   \n",
       "SRR306824_GSM752677_ptr_lv_M_1               1.230338   \n",
       "SRR306823_GSM752676_ptr_lv_F_1               3.488537   \n",
       "SRR306814_GSM752667_ptr_br_M_3               1.359172   \n",
       "SRR306812_GSM752665_ptr_br_M_1               1.284920   \n",
       "SRR306815_GSM752668_ptr_br_M_4               1.417952   \n",
       "SRR306813_GSM752666_ptr_br_M_2               1.320969   \n",
       "SRR306816_GSM752669_ptr_br_M_5               1.385572   \n",
       "\n",
       "                                other_intergenic_tag_pct  \n",
       "SRR306850_GSM752701_hsa_ht_M_2                  3.449339  \n",
       "SRR306846_GSM752698_hsa_cb_M_1                  4.154955  \n",
       "SRR306838_GSM752691_hsa_br_F_1                  2.435524  \n",
       "SRR306856_GSM752706_hsa_lv_M_2                  3.890283  \n",
       "SRR306844_GSM752697_hsa_cb_F_1                  4.557041  \n",
       "SRR306855_GSM752705_hsa_lv_M_1                  3.907522  \n",
       "SRR306854_GSM752705_hsa_lv_M_1                  4.563624  \n",
       "SRR306849_GSM752700_hsa_ht_M_1                  6.047478  \n",
       "SRR306848_GSM752700_hsa_ht_M_1                  5.931127  \n",
       "SRR306847_GSM752699_hsa_ht_F_1                  2.517782  \n",
       "SRR306858_GSM752708_hsa_ts_M_2                  4.241749  \n",
       "SRR306843_GSM752696_hsa_br_M_5                  5.910978  \n",
       "SRR306845_GSM752698_hsa_cb_M_1                  4.342500  \n",
       "SRR306857_GSM752707_hsa_ts_M_1                  4.511249  \n",
       "SRR306851_GSM752702_hsa_kd_F_1                  2.985065  \n",
       "SRR306853_GSM752704_hsa_kd_M_2                  4.230607  \n",
       "SRR306841_GSM752694_hsa_br_M_2                  3.371263  \n",
       "SRR306839_GSM752692_hsa_br_M_3                  3.556842  \n",
       "SRR306842_GSM752695_hsa_br_M_4                  3.254450  \n",
       "SRR306840_GSM752693_hsa_br_M_1                  4.303866  \n",
       "SRR306818_GSM752671_ptr_cb_M_1                  8.684849  \n",
       "SRR306821_GSM752674_ptr_kd_F_1                 13.516879  \n",
       "SRR306825_GSM752678_ptr_ts_M_1                  8.270429  \n",
       "SRR306811_GSM752664_ptr_br_F_1                 11.982876  \n",
       "SRR306820_GSM752673_ptr_ht_M_1                 28.816114  \n",
       "SRR306817_GSM752670_ptr_cb_F_1                 10.632902  \n",
       "SRR306822_GSM752675_ptr_kd_M_1                 14.155102  \n",
       "SRR306819_GSM752672_ptr_ht_F_1                 29.556913  \n",
       "SRR306824_GSM752677_ptr_lv_M_1                  8.661254  \n",
       "SRR306823_GSM752676_ptr_lv_F_1                  9.439054  \n",
       "SRR306814_GSM752667_ptr_br_M_3                 15.928048  \n",
       "SRR306812_GSM752665_ptr_br_M_1                 10.368596  \n",
       "SRR306815_GSM752668_ptr_br_M_4                 15.974815  \n",
       "SRR306813_GSM752666_ptr_br_M_2                 24.893053  \n",
       "SRR306816_GSM752669_ptr_br_M_5                 16.829376  \n",
       "\n",
       "[35 rows x 45 columns]"
      ]
     },
     "execution_count": 42,
     "metadata": {},
     "output_type": "execute_result"
    }
   ],
   "source": [
    "rseqc_read_distributions"
   ]
  },
  {
   "cell_type": "code",
   "execution_count": 43,
   "metadata": {
    "execution_event_id": "85db6f92-0aee-42e7-812d-d86e33b88944",
    "last_executed_text": "rseqc_read_distributions['cds_exons_tag_pct']",
    "persistent_id": "2d249ae5-1be4-41cf-9a24-8c9384d03114"
   },
   "outputs": [
    {
     "data": {
      "text/plain": [
       "SRR306850_GSM752701_hsa_ht_M_2    77.896314\n",
       "SRR306846_GSM752698_hsa_cb_M_1    68.896122\n",
       "SRR306838_GSM752691_hsa_br_F_1    60.498397\n",
       "SRR306856_GSM752706_hsa_lv_M_2    79.775906\n",
       "SRR306844_GSM752697_hsa_cb_F_1    66.134727\n",
       "SRR306855_GSM752705_hsa_lv_M_1    81.156936\n",
       "SRR306854_GSM752705_hsa_lv_M_1    77.593550\n",
       "SRR306849_GSM752700_hsa_ht_M_1    77.179370\n",
       "SRR306848_GSM752700_hsa_ht_M_1    75.757440\n",
       "SRR306847_GSM752699_hsa_ht_F_1    73.864222\n",
       "SRR306858_GSM752708_hsa_ts_M_2    75.306782\n",
       "SRR306843_GSM752696_hsa_br_M_5    70.749943\n",
       "SRR306845_GSM752698_hsa_cb_M_1    66.040348\n",
       "SRR306857_GSM752707_hsa_ts_M_1    78.315851\n",
       "SRR306851_GSM752702_hsa_kd_F_1    74.508421\n",
       "SRR306853_GSM752704_hsa_kd_M_2    74.493465\n",
       "SRR306841_GSM752694_hsa_br_M_2    67.432900\n",
       "SRR306839_GSM752692_hsa_br_M_3    74.759071\n",
       "SRR306842_GSM752695_hsa_br_M_4    68.541403\n",
       "SRR306840_GSM752693_hsa_br_M_1    66.386154\n",
       "SRR306818_GSM752671_ptr_cb_M_1    56.453531\n",
       "SRR306821_GSM752674_ptr_kd_F_1    58.334995\n",
       "SRR306825_GSM752678_ptr_ts_M_1    64.906057\n",
       "SRR306811_GSM752664_ptr_br_F_1    55.072935\n",
       "SRR306820_GSM752673_ptr_ht_M_1    44.986695\n",
       "SRR306817_GSM752670_ptr_cb_F_1    55.603290\n",
       "SRR306822_GSM752675_ptr_kd_M_1    57.078063\n",
       "SRR306819_GSM752672_ptr_ht_F_1    42.366890\n",
       "SRR306824_GSM752677_ptr_lv_M_1    68.408284\n",
       "SRR306823_GSM752676_ptr_lv_F_1    66.309773\n",
       "SRR306814_GSM752667_ptr_br_M_3    47.717634\n",
       "SRR306812_GSM752665_ptr_br_M_1    57.318649\n",
       "SRR306815_GSM752668_ptr_br_M_4    50.633572\n",
       "SRR306813_GSM752666_ptr_br_M_2    41.507450\n",
       "SRR306816_GSM752669_ptr_br_M_5    49.658642\n",
       "Name: cds_exons_tag_pct, dtype: float64"
      ]
     },
     "execution_count": 43,
     "metadata": {},
     "output_type": "execute_result"
    }
   ],
   "source": [
    "rseqc_read_distributions['cds_exons_tag_pct']"
   ]
  },
  {
   "cell_type": "code",
   "execution_count": 44,
   "metadata": {
    "execution_event_id": "c7084f7b-7fc7-4c32-b65e-6ec0c0255774",
    "last_executed_text": "pattern = r'\\d_\\d'\n%timeit re.findall(pattern, \"SRR306814_GSM752667_ptr_br_M_3_1\")",
    "persistent_id": "4278ae9c-8081-499d-91ed-f84a3a81e6b7"
   },
   "outputs": [
    {
     "name": "stdout",
     "output_type": "stream",
     "text": [
      "2.26 µs ± 243 ns per loop (mean ± std. dev. of 7 runs, 100000 loops each)\n"
     ]
    }
   ],
   "source": [
    "pattern = r'\\d_\\d'\n",
    "%timeit re.findall(pattern, \"SRR306814_GSM752667_ptr_br_M_3_1\")"
   ]
  },
  {
   "cell_type": "code",
   "execution_count": 45,
   "metadata": {
    "execution_event_id": "1139e558-38c8-4d97-aee7-a18479667530",
    "last_executed_text": "pattern2 = '(\\w+)_1'\nre.findall(pattern2, \"SRR306814_GSM752667_ptr_br_M_3_1\")",
    "persistent_id": "b12ca1db-a22e-4160-a861-55d0015e1500"
   },
   "outputs": [
    {
     "data": {
      "text/plain": [
       "['SRR306814_GSM752667_ptr_br_M_3']"
      ]
     },
     "execution_count": 45,
     "metadata": {},
     "output_type": "execute_result"
    }
   ],
   "source": [
    "pattern2 = '(\\w+)_1'\n",
    "re.findall(pattern2, \"SRR306814_GSM752667_ptr_br_M_3_1\")"
   ]
  },
  {
   "cell_type": "code",
   "execution_count": 46,
   "metadata": {
    "execution_event_id": "ea392dd5-64c9-42cf-9c96-5bce12d0b87f",
    "last_executed_text": "%timeit re.search(pattern, \"SRR306814_GSM752667_ptr_br_M_3_1\")",
    "persistent_id": "e566d178-7a09-40ad-bc55-cb082c7b1b5d"
   },
   "outputs": [
    {
     "name": "stdout",
     "output_type": "stream",
     "text": [
      "2.15 µs ± 192 ns per loop (mean ± std. dev. of 7 runs, 100000 loops each)\n"
     ]
    }
   ],
   "source": [
    "%timeit re.search(pattern, \"SRR306814_GSM752667_ptr_br_M_3_1\")"
   ]
  },
  {
   "cell_type": "code",
   "execution_count": 47,
   "metadata": {
    "execution_event_id": "c3eb7ac3-6eed-43d6-8aca-f47372fa3562",
    "last_executed_text": "kmermaid_with_cds = classification_percentages_metadata.join(rseqc_read_distributions['cds_exons_tag_pct'], \n                                         on='sample_id', how='inner')\nprint(kmermaid_with_cds.shape)\nkmermaid_with_cds.head()",
    "persistent_id": "59518d71-2e99-42ba-96af-c6f241ff407d"
   },
   "outputs": [
    {
     "name": "stdout",
     "output_type": "stream",
     "text": [
      "(34, 17)\n"
     ]
    },
    {
     "data": {
      "text/html": [
       "<div>\n",
       "<style scoped>\n",
       "    .dataframe tbody tr th:only-of-type {\n",
       "        vertical-align: middle;\n",
       "    }\n",
       "\n",
       "    .dataframe tbody tr th {\n",
       "        vertical-align: top;\n",
       "    }\n",
       "\n",
       "    .dataframe thead th {\n",
       "        text-align: right;\n",
       "    }\n",
       "</style>\n",
       "<table border=\"1\" class=\"dataframe\">\n",
       "  <thead>\n",
       "    <tr style=\"text-align: right;\">\n",
       "      <th></th>\n",
       "      <th>Non-coding</th>\n",
       "      <th>Coding</th>\n",
       "      <th>No translation frames without stop codons</th>\n",
       "      <th>All translations shorter than peptide k-mer size + 1</th>\n",
       "      <th>Read length was shorter than 3 * peptide k-mer size</th>\n",
       "      <th>Low complexity peptide in protein encoding</th>\n",
       "      <th>filename</th>\n",
       "      <th>sample_id</th>\n",
       "      <th>sra_id</th>\n",
       "      <th>geo_id</th>\n",
       "      <th>species_abbrev</th>\n",
       "      <th>tissue_abbrev</th>\n",
       "      <th>sex</th>\n",
       "      <th>replicate</th>\n",
       "      <th>species</th>\n",
       "      <th>tissue</th>\n",
       "      <th>cds_exons_tag_pct</th>\n",
       "    </tr>\n",
       "  </thead>\n",
       "  <tbody>\n",
       "    <tr>\n",
       "      <th>5</th>\n",
       "      <td>63.434188</td>\n",
       "      <td>31.277348</td>\n",
       "      <td>4.229160</td>\n",
       "      <td>1.007798</td>\n",
       "      <td>0.019810</td>\n",
       "      <td>0.031696</td>\n",
       "      <td>/home/olga/data_lg/kmer-hashing/brawand2011/km...</td>\n",
       "      <td>SRR306846_GSM752698_hsa_cb_M_1</td>\n",
       "      <td>SRR306846</td>\n",
       "      <td>GSM752698</td>\n",
       "      <td>hsa</td>\n",
       "      <td>cb</td>\n",
       "      <td>M</td>\n",
       "      <td>1</td>\n",
       "      <td>Human</td>\n",
       "      <td>Cerebellum</td>\n",
       "      <td>68.896122</td>\n",
       "    </tr>\n",
       "    <tr>\n",
       "      <th>7</th>\n",
       "      <td>56.017835</td>\n",
       "      <td>40.119855</td>\n",
       "      <td>2.909199</td>\n",
       "      <td>0.898754</td>\n",
       "      <td>0.022831</td>\n",
       "      <td>0.031526</td>\n",
       "      <td>/home/olga/data_lg/kmer-hashing/brawand2011/km...</td>\n",
       "      <td>SRR306849_GSM752700_hsa_ht_M_1</td>\n",
       "      <td>SRR306849</td>\n",
       "      <td>GSM752700</td>\n",
       "      <td>hsa</td>\n",
       "      <td>ht</td>\n",
       "      <td>M</td>\n",
       "      <td>1</td>\n",
       "      <td>Human</td>\n",
       "      <td>Heart</td>\n",
       "      <td>77.179370</td>\n",
       "    </tr>\n",
       "    <tr>\n",
       "      <th>12</th>\n",
       "      <td>70.747162</td>\n",
       "      <td>22.799928</td>\n",
       "      <td>6.143151</td>\n",
       "      <td>0.142532</td>\n",
       "      <td>0.143919</td>\n",
       "      <td>0.023308</td>\n",
       "      <td>/home/olga/data_lg/kmer-hashing/brawand2011/km...</td>\n",
       "      <td>SRR306840_GSM752693_hsa_br_M_1</td>\n",
       "      <td>SRR306840</td>\n",
       "      <td>GSM752693</td>\n",
       "      <td>hsa</td>\n",
       "      <td>br</td>\n",
       "      <td>M</td>\n",
       "      <td>1</td>\n",
       "      <td>Human</td>\n",
       "      <td>Brain</td>\n",
       "      <td>66.386154</td>\n",
       "    </tr>\n",
       "    <tr>\n",
       "      <th>19</th>\n",
       "      <td>49.656599</td>\n",
       "      <td>44.839043</td>\n",
       "      <td>3.159836</td>\n",
       "      <td>0.902119</td>\n",
       "      <td>1.414840</td>\n",
       "      <td>0.027563</td>\n",
       "      <td>/home/olga/data_lg/kmer-hashing/brawand2011/km...</td>\n",
       "      <td>SRR306856_GSM752706_hsa_lv_M_2</td>\n",
       "      <td>SRR306856</td>\n",
       "      <td>GSM752706</td>\n",
       "      <td>hsa</td>\n",
       "      <td>lv</td>\n",
       "      <td>M</td>\n",
       "      <td>2</td>\n",
       "      <td>Human</td>\n",
       "      <td>Liver</td>\n",
       "      <td>79.775906</td>\n",
       "    </tr>\n",
       "    <tr>\n",
       "      <th>23</th>\n",
       "      <td>65.102959</td>\n",
       "      <td>29.492489</td>\n",
       "      <td>4.621289</td>\n",
       "      <td>0.697142</td>\n",
       "      <td>0.059376</td>\n",
       "      <td>0.026745</td>\n",
       "      <td>/home/olga/data_lg/kmer-hashing/brawand2011/km...</td>\n",
       "      <td>SRR306853_GSM752704_hsa_kd_M_2</td>\n",
       "      <td>SRR306853</td>\n",
       "      <td>GSM752704</td>\n",
       "      <td>hsa</td>\n",
       "      <td>kd</td>\n",
       "      <td>M</td>\n",
       "      <td>2</td>\n",
       "      <td>Human</td>\n",
       "      <td>Kidney</td>\n",
       "      <td>74.493465</td>\n",
       "    </tr>\n",
       "  </tbody>\n",
       "</table>\n",
       "</div>"
      ],
      "text/plain": [
       "    Non-coding     Coding  No translation frames without stop codons  \\\n",
       "5    63.434188  31.277348                                   4.229160   \n",
       "7    56.017835  40.119855                                   2.909199   \n",
       "12   70.747162  22.799928                                   6.143151   \n",
       "19   49.656599  44.839043                                   3.159836   \n",
       "23   65.102959  29.492489                                   4.621289   \n",
       "\n",
       "    All translations shorter than peptide k-mer size + 1  \\\n",
       "5                                            1.007798      \n",
       "7                                            0.898754      \n",
       "12                                           0.142532      \n",
       "19                                           0.902119      \n",
       "23                                           0.697142      \n",
       "\n",
       "    Read length was shorter than 3 * peptide k-mer size  \\\n",
       "5                                            0.019810     \n",
       "7                                            0.022831     \n",
       "12                                           0.143919     \n",
       "19                                           1.414840     \n",
       "23                                           0.059376     \n",
       "\n",
       "    Low complexity peptide in protein encoding  \\\n",
       "5                                     0.031696   \n",
       "7                                     0.031526   \n",
       "12                                    0.023308   \n",
       "19                                    0.027563   \n",
       "23                                    0.026745   \n",
       "\n",
       "                                             filename  \\\n",
       "5   /home/olga/data_lg/kmer-hashing/brawand2011/km...   \n",
       "7   /home/olga/data_lg/kmer-hashing/brawand2011/km...   \n",
       "12  /home/olga/data_lg/kmer-hashing/brawand2011/km...   \n",
       "19  /home/olga/data_lg/kmer-hashing/brawand2011/km...   \n",
       "23  /home/olga/data_lg/kmer-hashing/brawand2011/km...   \n",
       "\n",
       "                         sample_id     sra_id     geo_id species_abbrev  \\\n",
       "5   SRR306846_GSM752698_hsa_cb_M_1  SRR306846  GSM752698            hsa   \n",
       "7   SRR306849_GSM752700_hsa_ht_M_1  SRR306849  GSM752700            hsa   \n",
       "12  SRR306840_GSM752693_hsa_br_M_1  SRR306840  GSM752693            hsa   \n",
       "19  SRR306856_GSM752706_hsa_lv_M_2  SRR306856  GSM752706            hsa   \n",
       "23  SRR306853_GSM752704_hsa_kd_M_2  SRR306853  GSM752704            hsa   \n",
       "\n",
       "   tissue_abbrev sex  replicate species      tissue  cds_exons_tag_pct  \n",
       "5             cb   M          1   Human  Cerebellum          68.896122  \n",
       "7             ht   M          1   Human       Heart          77.179370  \n",
       "12            br   M          1   Human       Brain          66.386154  \n",
       "19            lv   M          2   Human       Liver          79.775906  \n",
       "23            kd   M          2   Human      Kidney          74.493465  "
      ]
     },
     "execution_count": 47,
     "metadata": {},
     "output_type": "execute_result"
    }
   ],
   "source": [
    "kmermaid_with_cds = classification_percentages_metadata.join(rseqc_read_distributions['cds_exons_tag_pct'], \n",
    "                                         on='sample_id', how='inner')\n",
    "print(kmermaid_with_cds.shape)\n",
    "kmermaid_with_cds.head()"
   ]
  },
  {
   "cell_type": "code",
   "execution_count": 48,
   "metadata": {
    "execution_event_id": "a92cf422-74f5-48a9-b00e-341c0361afdd",
    "last_executed_text": "sns.jointplot(x='cds_exons_tag_pct', y='Coding', data=kmermaid_with_cds)",
    "persistent_id": "b904df91-4857-46e4-938c-740a23f2513d"
   },
   "outputs": [
    {
     "data": {
      "text/plain": [
       "<seaborn.axisgrid.JointGrid at 0x7f0ae60baac8>"
      ]
     },
     "execution_count": 48,
     "metadata": {},
     "output_type": "execute_result"
    },
    {
     "data": {
      "image/png": "[encoded data removed]",
      "text/plain": [
       "<Figure size 432x432 with 3 Axes>"
      ]
     },
     "metadata": {
      "needs_background": "light"
     },
     "output_type": "display_data"
    }
   ],
   "source": [
    "sns.jointplot(x='cds_exons_tag_pct', y='Coding', data=kmermaid_with_cds)"
   ]
  },
  {
   "cell_type": "code",
   "execution_count": 51,
   "metadata": {
    "execution_event_id": "df9303bd-d194-4c49-9479-b079e14bbc15",
    "last_executed_text": "sns.scatterplot(x='cds_exons_tag_pct', y='Coding', data=kmermaid_with_cds, hue='species')",
    "persistent_id": "12a8aec6-b7a5-4709-9da8-9b90f94505ff"
   },
   "outputs": [
    {
     "data": {
      "text/plain": [
       "<matplotlib.axes._subplots.AxesSubplot at 0x7f0ae2bc84e0>"
      ]
     },
     "execution_count": 51,
     "metadata": {},
     "output_type": "execute_result"
    },
    {
     "data": {
      "image/png": "[encoded data removed]",
      "text/plain": [
       "<Figure size 432x288 with 1 Axes>"
      ]
     },
     "metadata": {
      "needs_background": "light"
     },
     "output_type": "display_data"
    }
   ],
   "source": [
    "sns.scatterplot(x='cds_exons_tag_pct', y='Coding', data=kmermaid_with_cds, hue='species')"
   ]
  },
  {
   "cell_type": "code",
   "execution_count": 58,
   "metadata": {
    "execution_event_id": "97f72d2a-e279-48ee-aea5-73a8718f24c2",
    "last_executed_text": "kmermaid_with_cds['cds_exons_tag_pct'].corr(kmermaid_with_cds['Coding'])",
    "persistent_id": "c6494f4e-0fc6-4d59-8484-a6f8953f67e7"
   },
   "outputs": [
    {
     "data": {
      "text/plain": [
       "0.7903367138838998"
      ]
     },
     "execution_count": 58,
     "metadata": {},
     "output_type": "execute_result"
    }
   ],
   "source": [
    "kmermaid_with_cds['cds_exons_tag_pct'].corr(kmermaid_with_cds['Coding'])"
   ]
  },
  {
   "cell_type": "code",
   "execution_count": 57,
   "metadata": {
    "execution_event_id": "3e12e14a-86d1-4ac9-b5aa-c45107b3a397",
    "last_executed_text": "sns.lmplot(x='cds_exons_tag_pct', y='Coding', data=kmermaid_with_cds, hue='species')",
    "persistent_id": "589ccc7d-a2ef-415a-8196-593c8e4cf5b0"
   },
   "outputs": [
    {
     "data": {
      "text/plain": [
       "<seaborn.axisgrid.FacetGrid at 0x7f0ae2ad59b0>"
      ]
     },
     "execution_count": 57,
     "metadata": {},
     "output_type": "execute_result"
    },
    {
     "data": {
      "image/png": "[encoded data removed]",
      "text/plain": [
       "<Figure size 457.875x360 with 1 Axes>"
      ]
     },
     "metadata": {
      "needs_background": "light"
     },
     "output_type": "display_data"
    }
   ],
   "source": [
    "sns.lmplot(x='cds_exons_tag_pct', y='Coding', data=kmermaid_with_cds, hue='species')"
   ]
  },
  {
   "cell_type": "code",
   "execution_count": 55,
   "metadata": {
    "execution_event_id": "ad67895a-d716-40a9-8b0d-d8512f33de43",
    "last_executed_text": "sns.relplot(x='cds_exons_tag_pct', y='Coding', data=kmermaid_with_cds, hue='species')",
    "persistent_id": "a4d5d077-bbfd-4c96-a129-173b0c6eb1d7"
   },
   "outputs": [
    {
     "data": {
      "text/plain": [
       "<seaborn.axisgrid.FacetGrid at 0x7f0ae6ce4cc0>"
      ]
     },
     "execution_count": 55,
     "metadata": {},
     "output_type": "execute_result"
    },
    {
     "data": {
      "image/png": "[encoded data removed]",
      "text/plain": [
       "<Figure size 457.875x360 with 1 Axes>"
      ]
     },
     "metadata": {
      "needs_background": "light"
     },
     "output_type": "display_data"
    }
   ],
   "source": [
    "sns.relplot(x='cds_exons_tag_pct', y='Coding', data=kmermaid_with_cds, hue='species')"
   ]
  },
  {
   "cell_type": "code",
   "execution_count": 56,
   "metadata": {
    "execution_event_id": "5709a4d1-3297-4f13-a60a-b8d129372f4e",
    "last_executed_text": "sns.relplot(x='cds_exons_tag_pct', y='Coding', data=kmermaid_with_cds, hue='species', kind='reg')",
    "persistent_id": "c2cfce9e-c46a-4a6e-bbde-7e9cb9751efa"
   },
   "outputs": [
    {
     "ename": "ValueError",
     "evalue": "Plot kind reg not recognized",
     "output_type": "error",
     "traceback": [
      "\u001b[0;31m---------------------------------------------------------------------------\u001b[0m",
      "\u001b[0;31mValueError\u001b[0m                                Traceback (most recent call last)",
      "\u001b[0;32m<ipython-input-56-b4e5f69d6ecb>\u001b[0m in \u001b[0;36m<module>\u001b[0;34m\u001b[0m\n\u001b[0;32m----> 1\u001b[0;31m \u001b[0msns\u001b[0m\u001b[0;34m.\u001b[0m\u001b[0mrelplot\u001b[0m\u001b[0;34m(\u001b[0m\u001b[0mx\u001b[0m\u001b[0;34m=\u001b[0m\u001b[0;34m'cds_exons_tag_pct'\u001b[0m\u001b[0;34m,\u001b[0m \u001b[0my\u001b[0m\u001b[0;34m=\u001b[0m\u001b[0;34m'Coding'\u001b[0m\u001b[0;34m,\u001b[0m \u001b[0mdata\u001b[0m\u001b[0;34m=\u001b[0m\u001b[0mkmermaid_with_cds\u001b[0m\u001b[0;34m,\u001b[0m \u001b[0mhue\u001b[0m\u001b[0;34m=\u001b[0m\u001b[0;34m'species'\u001b[0m\u001b[0;34m,\u001b[0m \u001b[0mkind\u001b[0m\u001b[0;34m=\u001b[0m\u001b[0;34m'reg'\u001b[0m\u001b[0;34m)\u001b[0m\u001b[0;34m\u001b[0m\u001b[0;34m\u001b[0m\u001b[0m\n\u001b[0m",
      "\u001b[0;32m~/miniconda3/envs/parquet/lib/python3.7/site-packages/seaborn/relational.py\u001b[0m in \u001b[0;36mrelplot\u001b[0;34m(x, y, hue, size, style, data, row, col, col_wrap, row_order, col_order, palette, hue_order, hue_norm, sizes, size_order, size_norm, markers, dashes, style_order, legend, kind, height, aspect, facet_kws, **kwargs)\u001b[0m\n\u001b[1;32m   1566\u001b[0m     \u001b[0;32melse\u001b[0m\u001b[0;34m:\u001b[0m\u001b[0;34m\u001b[0m\u001b[0;34m\u001b[0m\u001b[0m\n\u001b[1;32m   1567\u001b[0m         \u001b[0merr\u001b[0m \u001b[0;34m=\u001b[0m \u001b[0;34m\"Plot kind {} not recognized\"\u001b[0m\u001b[0;34m.\u001b[0m\u001b[0mformat\u001b[0m\u001b[0;34m(\u001b[0m\u001b[0mkind\u001b[0m\u001b[0;34m)\u001b[0m\u001b[0;34m\u001b[0m\u001b[0;34m\u001b[0m\u001b[0m\n\u001b[0;32m-> 1568\u001b[0;31m         \u001b[0;32mraise\u001b[0m \u001b[0mValueError\u001b[0m\u001b[0;34m(\u001b[0m\u001b[0merr\u001b[0m\u001b[0;34m)\u001b[0m\u001b[0;34m\u001b[0m\u001b[0;34m\u001b[0m\u001b[0m\n\u001b[0m\u001b[1;32m   1569\u001b[0m \u001b[0;34m\u001b[0m\u001b[0m\n\u001b[1;32m   1570\u001b[0m     \u001b[0;31m# Use the full dataset to establish how to draw the semantics\u001b[0m\u001b[0;34m\u001b[0m\u001b[0;34m\u001b[0m\u001b[0;34m\u001b[0m\u001b[0m\n",
      "\u001b[0;31mValueError\u001b[0m: Plot kind reg not recognized"
     ]
    }
   ],
   "source": [
    "sns.relplot(x='cds_exons_tag_pct', y='Coding', data=kmermaid_with_cds, hue='species', kind='reg')"
   ]
  },
  {
   "cell_type": "code",
   "execution_count": null,
   "metadata": {
    "persistent_id": "f3eba379-8c20-4569-924a-fa665f8c687e"
   },
   "outputs": [],
   "source": []
  }
 ],
 "metadata": {
  "history": [
   {
    "cell": {
     "executionCount": 1,
     "executionEventId": "9b1ffc79-8de3-48ce-8cdd-864502bafc1d",
     "hasError": false,
     "id": "78f460f3-23a2-4ad3-98f5-502fa4c60bf6",
     "outputs": [],
     "persistentId": "d379cc1a-e006-4ed2-bb65-ca327875d507",
     "text": "from collections import defaultdict\nimport glob\nimport json\nimport os\n\nimport matplotlib.pyplot as plt\nimport pandas as pd\nimport seaborn as sns\nfrom tqdm import tqdm"
    },
    "executionTime": "2019-12-08T21:14:19.312Z"
   },
   {
    "cell": {
     "executionCount": 2,
     "executionEventId": "276c1d05-ae91-4294-9724-e53f86e6da73",
     "hasError": false,
     "id": "6f50fe47-65dc-4157-87ea-d84b38ff3f1f",
     "outputs": [],
     "persistentId": "bfe8a105-dbcf-49fd-a864-e687da32171b",
     "text": "folder = '/home/olga/googledrive/brawand2011/data/kmermaid/results_peptide7/extract_coding'\nclassification_percentages_metadata = pd.read_csv(f'{folder}/classification_percentages_metadata.csv')\n"
    },
    "executionTime": "2019-12-08T21:14:26.196Z"
   },
   {
    "cell": {
     "executionCount": 3,
     "executionEventId": "bb8db382-79ea-495a-91c6-ef09fde831a1",
     "hasError": false,
     "id": "6f50fe47-65dc-4157-87ea-d84b38ff3f1f",
     "outputs": [
      {
       "name": "stdout",
       "output_type": "stream",
       "text": "(147, 17)\n"
      },
      {
       "data": {
        "text/html": "<div>\n<style scoped>\n    .dataframe tbody tr th:only-of-type {\n        vertical-align: middle;\n    }\n\n    .dataframe tbody tr th {\n        vertical-align: top;\n    }\n\n    .dataframe thead th {\n        text-align: right;\n    }\n</style>\n<table border=\"1\" class=\"dataframe\">\n  <thead>\n    <tr style=\"text-align: right;\">\n      <th></th>\n      <th>Unnamed: 0</th>\n      <th>Non-coding</th>\n      <th>Coding</th>\n      <th>No translation frames without stop codons</th>\n      <th>All translations shorter than peptide k-mer size + 1</th>\n      <th>Read length was shorter than 3 * peptide k-mer size</th>\n      <th>Low complexity peptide in protein encoding</th>\n      <th>filename</th>\n      <th>sample_id</th>\n      <th>sra_id</th>\n      <th>geo_id</th>\n      <th>species_abbrev</th>\n      <th>tissue_abbrev</th>\n      <th>sex</th>\n      <th>replicate</th>\n      <th>species</th>\n      <th>tissue</th>\n    </tr>\n  </thead>\n  <tbody>\n    <tr>\n      <th>0</th>\n      <td>0</td>\n      <td>68.549280</td>\n      <td>26.416538</td>\n      <td>4.030022</td>\n      <td>0.872370</td>\n      <td>0.075918</td>\n      <td>0.055873</td>\n      <td>/home/olga/data_lg/kmer-hashing/brawand2011/km...</td>\n      <td>SRR306802_GSM752655_ggo_cb_F_1</td>\n      <td>SRR306802</td>\n      <td>GSM752655</td>\n      <td>ggo</td>\n      <td>cb</td>\n      <td>F</td>\n      <td>1</td>\n      <td>Gorilla</td>\n      <td>Cerebellum</td>\n    </tr>\n    <tr>\n      <th>1</th>\n      <td>1</td>\n      <td>76.458843</td>\n      <td>18.913639</td>\n      <td>3.486677</td>\n      <td>0.801294</td>\n      <td>0.064244</td>\n      <td>0.275304</td>\n      <td>/home/olga/data_lg/kmer-hashing/brawand2011/km...</td>\n      <td>SRR306765_GSM752619_mmu_cb_M_2</td>\n      <td>SRR306765</td>\n      <td>GSM752619</td>\n      <td>mmu</td>\n      <td>cb</td>\n      <td>M</td>\n      <td>2</td>\n      <td>Mouse</td>\n      <td>Cerebellum</td>\n    </tr>\n    <tr>\n      <th>2</th>\n      <td>2</td>\n      <td>78.203007</td>\n      <td>16.819733</td>\n      <td>4.308748</td>\n      <td>0.599139</td>\n      <td>0.042650</td>\n      <td>0.026723</td>\n      <td>/home/olga/data_lg/kmer-hashing/brawand2011/km...</td>\n      <td>SRR306782_GSM752636_mml_ht_F_1</td>\n      <td>SRR306782</td>\n      <td>GSM752636</td>\n      <td>mml</td>\n      <td>ht</td>\n      <td>F</td>\n      <td>1</td>\n      <td>Macaque</td>\n      <td>Heart</td>\n    </tr>\n    <tr>\n      <th>3</th>\n      <td>3</td>\n      <td>78.245375</td>\n      <td>15.101219</td>\n      <td>5.841887</td>\n      <td>0.738069</td>\n      <td>0.015459</td>\n      <td>0.057990</td>\n      <td>/home/olga/data_lg/kmer-hashing/brawand2011/km...</td>\n      <td>SRR306750_GSM752598_mdo_ht_M_1</td>\n      <td>SRR306750</td>\n      <td>GSM752598</td>\n      <td>mdo</td>\n      <td>ht</td>\n      <td>M</td>\n      <td>1</td>\n      <td>Opossum</td>\n      <td>Heart</td>\n    </tr>\n    <tr>\n      <th>4</th>\n      <td>4</td>\n      <td>86.181560</td>\n      <td>9.365462</td>\n      <td>3.264713</td>\n      <td>1.088898</td>\n      <td>0.039388</td>\n      <td>0.059979</td>\n      <td>/home/olga/data_lg/kmer-hashing/brawand2011/km...</td>\n      <td>SRR306753_GSM752606_mdo_lv_F_1</td>\n      <td>SRR306753</td>\n      <td>GSM752606</td>\n      <td>mdo</td>\n      <td>lv</td>\n      <td>F</td>\n      <td>1</td>\n      <td>Opossum</td>\n      <td>Liver</td>\n    </tr>\n  </tbody>\n</table>\n</div>",
        "text/plain": "   Unnamed: 0  Non-coding     Coding  \\\n0           0   68.549280  26.416538   \n1           1   76.458843  18.913639   \n2           2   78.203007  16.819733   \n3           3   78.245375  15.101219   \n4           4   86.181560   9.365462   \n\n   No translation frames without stop codons  \\\n0                                   4.030022   \n1                                   3.486677   \n2                                   4.308748   \n3                                   5.841887   \n4                                   3.264713   \n\n   All translations shorter than peptide k-mer size + 1  \\\n0                                           0.872370      \n1                                           0.801294      \n2                                           0.599139      \n3                                           0.738069      \n4                                           1.088898      \n\n   Read length was shorter than 3 * peptide k-mer size  \\\n0                                           0.075918     \n1                                           0.064244     \n2                                           0.042650     \n3                                           0.015459     \n4                                           0.039388     \n\n   Low complexity peptide in protein encoding  \\\n0                                    0.055873   \n1                                    0.275304   \n2                                    0.026723   \n3                                    0.057990   \n4                                    0.059979   \n\n                                            filename  \\\n0  /home/olga/data_lg/kmer-hashing/brawand2011/km...   \n1  /home/olga/data_lg/kmer-hashing/brawand2011/km...   \n2  /home/olga/data_lg/kmer-hashing/brawand2011/km...   \n3  /home/olga/data_lg/kmer-hashing/brawand2011/km...   \n4  /home/olga/data_lg/kmer-hashing/brawand2011/km...   \n\n                        sample_id     sra_id     geo_id species_abbrev  \\\n0  SRR306802_GSM752655_ggo_cb_F_1  SRR306802  GSM752655            ggo   \n1  SRR306765_GSM752619_mmu_cb_M_2  SRR306765  GSM752619            mmu   \n2  SRR306782_GSM752636_mml_ht_F_1  SRR306782  GSM752636            mml   \n3  SRR306750_GSM752598_mdo_ht_M_1  SRR306750  GSM752598            mdo   \n4  SRR306753_GSM752606_mdo_lv_F_1  SRR306753  GSM752606            mdo   \n\n  tissue_abbrev sex  replicate  species      tissue  \n0            cb   F          1  Gorilla  Cerebellum  \n1            cb   M          2    Mouse  Cerebellum  \n2            ht   F          1  Macaque       Heart  \n3            ht   M          1  Opossum       Heart  \n4            lv   F          1  Opossum       Liver  "
       },
       "execution_count": 3,
       "metadata": {},
       "output_type": "execute_result"
      }
     ],
     "persistentId": "bfe8a105-dbcf-49fd-a864-e687da32171b",
     "text": "folder = '/home/olga/googledrive/brawand2011/data/kmermaid/results_peptide7/extract_coding'\nclassification_percentages_metadata = pd.read_csv(f'{folder}/classification_percentages_metadata.csv')\nprint(classification_percentages_metadata.shape)\nclassification_percentages_metadata.head()"
    },
    "executionTime": "2019-12-08T21:14:32.027Z"
   },
   {
    "cell": {
     "executionCount": 4,
     "executionEventId": "4faeabdb-693c-4433-81b7-e7cc519aace6",
     "hasError": false,
     "id": "6f50fe47-65dc-4157-87ea-d84b38ff3f1f",
     "outputs": [
      {
       "name": "stdout",
       "output_type": "stream",
       "text": "(147, 17)\n"
      },
      {
       "data": {
        "text/html": "<div>\n<style scoped>\n    .dataframe tbody tr th:only-of-type {\n        vertical-align: middle;\n    }\n\n    .dataframe tbody tr th {\n        vertical-align: top;\n    }\n\n    .dataframe thead th {\n        text-align: right;\n    }\n</style>\n<table border=\"1\" class=\"dataframe\">\n  <thead>\n    <tr style=\"text-align: right;\">\n      <th></th>\n      <th>Unnamed: 0</th>\n      <th>Non-coding</th>\n      <th>Coding</th>\n      <th>No translation frames without stop codons</th>\n      <th>All translations shorter than peptide k-mer size + 1</th>\n      <th>Read length was shorter than 3 * peptide k-mer size</th>\n      <th>Low complexity peptide in protein encoding</th>\n      <th>filename</th>\n      <th>sample_id</th>\n      <th>sra_id</th>\n      <th>geo_id</th>\n      <th>species_abbrev</th>\n      <th>tissue_abbrev</th>\n      <th>sex</th>\n      <th>replicate</th>\n      <th>species</th>\n      <th>tissue</th>\n    </tr>\n  </thead>\n  <tbody>\n    <tr>\n      <th>0</th>\n      <td>0</td>\n      <td>68.549280</td>\n      <td>26.416538</td>\n      <td>4.030022</td>\n      <td>0.872370</td>\n      <td>0.075918</td>\n      <td>0.055873</td>\n      <td>/home/olga/data_lg/kmer-hashing/brawand2011/km...</td>\n      <td>SRR306802_GSM752655_ggo_cb_F_1</td>\n      <td>SRR306802</td>\n      <td>GSM752655</td>\n      <td>ggo</td>\n      <td>cb</td>\n      <td>F</td>\n      <td>1</td>\n      <td>Gorilla</td>\n      <td>Cerebellum</td>\n    </tr>\n    <tr>\n      <th>1</th>\n      <td>1</td>\n      <td>76.458843</td>\n      <td>18.913639</td>\n      <td>3.486677</td>\n      <td>0.801294</td>\n      <td>0.064244</td>\n      <td>0.275304</td>\n      <td>/home/olga/data_lg/kmer-hashing/brawand2011/km...</td>\n      <td>SRR306765_GSM752619_mmu_cb_M_2</td>\n      <td>SRR306765</td>\n      <td>GSM752619</td>\n      <td>mmu</td>\n      <td>cb</td>\n      <td>M</td>\n      <td>2</td>\n      <td>Mouse</td>\n      <td>Cerebellum</td>\n    </tr>\n    <tr>\n      <th>2</th>\n      <td>2</td>\n      <td>78.203007</td>\n      <td>16.819733</td>\n      <td>4.308748</td>\n      <td>0.599139</td>\n      <td>0.042650</td>\n      <td>0.026723</td>\n      <td>/home/olga/data_lg/kmer-hashing/brawand2011/km...</td>\n      <td>SRR306782_GSM752636_mml_ht_F_1</td>\n      <td>SRR306782</td>\n      <td>GSM752636</td>\n      <td>mml</td>\n      <td>ht</td>\n      <td>F</td>\n      <td>1</td>\n      <td>Macaque</td>\n      <td>Heart</td>\n    </tr>\n    <tr>\n      <th>3</th>\n      <td>3</td>\n      <td>78.245375</td>\n      <td>15.101219</td>\n      <td>5.841887</td>\n      <td>0.738069</td>\n      <td>0.015459</td>\n      <td>0.057990</td>\n      <td>/home/olga/data_lg/kmer-hashing/brawand2011/km...</td>\n      <td>SRR306750_GSM752598_mdo_ht_M_1</td>\n      <td>SRR306750</td>\n      <td>GSM752598</td>\n      <td>mdo</td>\n      <td>ht</td>\n      <td>M</td>\n      <td>1</td>\n      <td>Opossum</td>\n      <td>Heart</td>\n    </tr>\n    <tr>\n      <th>4</th>\n      <td>4</td>\n      <td>86.181560</td>\n      <td>9.365462</td>\n      <td>3.264713</td>\n      <td>1.088898</td>\n      <td>0.039388</td>\n      <td>0.059979</td>\n      <td>/home/olga/data_lg/kmer-hashing/brawand2011/km...</td>\n      <td>SRR306753_GSM752606_mdo_lv_F_1</td>\n      <td>SRR306753</td>\n      <td>GSM752606</td>\n      <td>mdo</td>\n      <td>lv</td>\n      <td>F</td>\n      <td>1</td>\n      <td>Opossum</td>\n      <td>Liver</td>\n    </tr>\n  </tbody>\n</table>\n</div>",
        "text/plain": "   Unnamed: 0  Non-coding     Coding  \\\n0           0   68.549280  26.416538   \n1           1   76.458843  18.913639   \n2           2   78.203007  16.819733   \n3           3   78.245375  15.101219   \n4           4   86.181560   9.365462   \n\n   No translation frames without stop codons  \\\n0                                   4.030022   \n1                                   3.486677   \n2                                   4.308748   \n3                                   5.841887   \n4                                   3.264713   \n\n   All translations shorter than peptide k-mer size + 1  \\\n0                                           0.872370      \n1                                           0.801294      \n2                                           0.599139      \n3                                           0.738069      \n4                                           1.088898      \n\n   Read length was shorter than 3 * peptide k-mer size  \\\n0                                           0.075918     \n1                                           0.064244     \n2                                           0.042650     \n3                                           0.015459     \n4                                           0.039388     \n\n   Low complexity peptide in protein encoding  \\\n0                                    0.055873   \n1                                    0.275304   \n2                                    0.026723   \n3                                    0.057990   \n4                                    0.059979   \n\n                                            filename  \\\n0  /home/olga/data_lg/kmer-hashing/brawand2011/km...   \n1  /home/olga/data_lg/kmer-hashing/brawand2011/km...   \n2  /home/olga/data_lg/kmer-hashing/brawand2011/km...   \n3  /home/olga/data_lg/kmer-hashing/brawand2011/km...   \n4  /home/olga/data_lg/kmer-hashing/brawand2011/km...   \n\n                        sample_id     sra_id     geo_id species_abbrev  \\\n0  SRR306802_GSM752655_ggo_cb_F_1  SRR306802  GSM752655            ggo   \n1  SRR306765_GSM752619_mmu_cb_M_2  SRR306765  GSM752619            mmu   \n2  SRR306782_GSM752636_mml_ht_F_1  SRR306782  GSM752636            mml   \n3  SRR306750_GSM752598_mdo_ht_M_1  SRR306750  GSM752598            mdo   \n4  SRR306753_GSM752606_mdo_lv_F_1  SRR306753  GSM752606            mdo   \n\n  tissue_abbrev sex  replicate  species      tissue  \n0            cb   F          1  Gorilla  Cerebellum  \n1            cb   M          2    Mouse  Cerebellum  \n2            ht   F          1  Macaque       Heart  \n3            ht   M          1  Opossum       Heart  \n4            lv   F          1  Opossum       Liver  "
       },
       "execution_count": 4,
       "metadata": {},
       "output_type": "execute_result"
      }
     ],
     "persistentId": "bfe8a105-dbcf-49fd-a864-e687da32171b",
     "text": "folder = '/home/olga/googledrive/brawand2011/data/kmermaid/results_peptide7/extract_coding'\nclassification_percentages_metadata = pd.read_csv(f'{folder}/classification_percentages_metadata.csv')\nprint(classification_percentages_metadata.shape)\nclassification_percentages_metadata.head()"
    },
    "executionTime": "2019-12-08T21:14:42.720Z"
   },
   {
    "cell": {
     "executionCount": 5,
     "executionEventId": "9a99fc02-31b2-4ca9-a751-ac8f5645bd5a",
     "hasError": false,
     "id": "6f50fe47-65dc-4157-87ea-d84b38ff3f1f",
     "outputs": [
      {
       "name": "stdout",
       "output_type": "stream",
       "text": "(147, 16)\n"
      },
      {
       "data": {
        "text/html": "<div>\n<style scoped>\n    .dataframe tbody tr th:only-of-type {\n        vertical-align: middle;\n    }\n\n    .dataframe tbody tr th {\n        vertical-align: top;\n    }\n\n    .dataframe thead th {\n        text-align: right;\n    }\n</style>\n<table border=\"1\" class=\"dataframe\">\n  <thead>\n    <tr style=\"text-align: right;\">\n      <th></th>\n      <th>Non-coding</th>\n      <th>Coding</th>\n      <th>No translation frames without stop codons</th>\n      <th>All translations shorter than peptide k-mer size + 1</th>\n      <th>Read length was shorter than 3 * peptide k-mer size</th>\n      <th>Low complexity peptide in protein encoding</th>\n      <th>filename</th>\n      <th>sample_id</th>\n      <th>sra_id</th>\n      <th>geo_id</th>\n      <th>species_abbrev</th>\n      <th>tissue_abbrev</th>\n      <th>sex</th>\n      <th>replicate</th>\n      <th>species</th>\n      <th>tissue</th>\n    </tr>\n  </thead>\n  <tbody>\n    <tr>\n      <th>0</th>\n      <td>68.549280</td>\n      <td>26.416538</td>\n      <td>4.030022</td>\n      <td>0.872370</td>\n      <td>0.075918</td>\n      <td>0.055873</td>\n      <td>/home/olga/data_lg/kmer-hashing/brawand2011/km...</td>\n      <td>SRR306802_GSM752655_ggo_cb_F_1</td>\n      <td>SRR306802</td>\n      <td>GSM752655</td>\n      <td>ggo</td>\n      <td>cb</td>\n      <td>F</td>\n      <td>1</td>\n      <td>Gorilla</td>\n      <td>Cerebellum</td>\n    </tr>\n    <tr>\n      <th>1</th>\n      <td>76.458843</td>\n      <td>18.913639</td>\n      <td>3.486677</td>\n      <td>0.801294</td>\n      <td>0.064244</td>\n      <td>0.275304</td>\n      <td>/home/olga/data_lg/kmer-hashing/brawand2011/km...</td>\n      <td>SRR306765_GSM752619_mmu_cb_M_2</td>\n      <td>SRR306765</td>\n      <td>GSM752619</td>\n      <td>mmu</td>\n      <td>cb</td>\n      <td>M</td>\n      <td>2</td>\n      <td>Mouse</td>\n      <td>Cerebellum</td>\n    </tr>\n    <tr>\n      <th>2</th>\n      <td>78.203007</td>\n      <td>16.819733</td>\n      <td>4.308748</td>\n      <td>0.599139</td>\n      <td>0.042650</td>\n      <td>0.026723</td>\n      <td>/home/olga/data_lg/kmer-hashing/brawand2011/km...</td>\n      <td>SRR306782_GSM752636_mml_ht_F_1</td>\n      <td>SRR306782</td>\n      <td>GSM752636</td>\n      <td>mml</td>\n      <td>ht</td>\n      <td>F</td>\n      <td>1</td>\n      <td>Macaque</td>\n      <td>Heart</td>\n    </tr>\n    <tr>\n      <th>3</th>\n      <td>78.245375</td>\n      <td>15.101219</td>\n      <td>5.841887</td>\n      <td>0.738069</td>\n      <td>0.015459</td>\n      <td>0.057990</td>\n      <td>/home/olga/data_lg/kmer-hashing/brawand2011/km...</td>\n      <td>SRR306750_GSM752598_mdo_ht_M_1</td>\n      <td>SRR306750</td>\n      <td>GSM752598</td>\n      <td>mdo</td>\n      <td>ht</td>\n      <td>M</td>\n      <td>1</td>\n      <td>Opossum</td>\n      <td>Heart</td>\n    </tr>\n    <tr>\n      <th>4</th>\n      <td>86.181560</td>\n      <td>9.365462</td>\n      <td>3.264713</td>\n      <td>1.088898</td>\n      <td>0.039388</td>\n      <td>0.059979</td>\n      <td>/home/olga/data_lg/kmer-hashing/brawand2011/km...</td>\n      <td>SRR306753_GSM752606_mdo_lv_F_1</td>\n      <td>SRR306753</td>\n      <td>GSM752606</td>\n      <td>mdo</td>\n      <td>lv</td>\n      <td>F</td>\n      <td>1</td>\n      <td>Opossum</td>\n      <td>Liver</td>\n    </tr>\n  </tbody>\n</table>\n</div>",
        "text/plain": "   Non-coding     Coding  No translation frames without stop codons  \\\n0   68.549280  26.416538                                   4.030022   \n1   76.458843  18.913639                                   3.486677   \n2   78.203007  16.819733                                   4.308748   \n3   78.245375  15.101219                                   5.841887   \n4   86.181560   9.365462                                   3.264713   \n\n   All translations shorter than peptide k-mer size + 1  \\\n0                                           0.872370      \n1                                           0.801294      \n2                                           0.599139      \n3                                           0.738069      \n4                                           1.088898      \n\n   Read length was shorter than 3 * peptide k-mer size  \\\n0                                           0.075918     \n1                                           0.064244     \n2                                           0.042650     \n3                                           0.015459     \n4                                           0.039388     \n\n   Low complexity peptide in protein encoding  \\\n0                                    0.055873   \n1                                    0.275304   \n2                                    0.026723   \n3                                    0.057990   \n4                                    0.059979   \n\n                                            filename  \\\n0  /home/olga/data_lg/kmer-hashing/brawand2011/km...   \n1  /home/olga/data_lg/kmer-hashing/brawand2011/km...   \n2  /home/olga/data_lg/kmer-hashing/brawand2011/km...   \n3  /home/olga/data_lg/kmer-hashing/brawand2011/km...   \n4  /home/olga/data_lg/kmer-hashing/brawand2011/km...   \n\n                        sample_id     sra_id     geo_id species_abbrev  \\\n0  SRR306802_GSM752655_ggo_cb_F_1  SRR306802  GSM752655            ggo   \n1  SRR306765_GSM752619_mmu_cb_M_2  SRR306765  GSM752619            mmu   \n2  SRR306782_GSM752636_mml_ht_F_1  SRR306782  GSM752636            mml   \n3  SRR306750_GSM752598_mdo_ht_M_1  SRR306750  GSM752598            mdo   \n4  SRR306753_GSM752606_mdo_lv_F_1  SRR306753  GSM752606            mdo   \n\n  tissue_abbrev sex  replicate  species      tissue  \n0            cb   F          1  Gorilla  Cerebellum  \n1            cb   M          2    Mouse  Cerebellum  \n2            ht   F          1  Macaque       Heart  \n3            ht   M          1  Opossum       Heart  \n4            lv   F          1  Opossum       Liver  "
       },
       "execution_count": 5,
       "metadata": {},
       "output_type": "execute_result"
      }
     ],
     "persistentId": "bfe8a105-dbcf-49fd-a864-e687da32171b",
     "text": "folder = '/home/olga/googledrive/brawand2011/data/kmermaid/results_peptide7/extract_coding'\nclassification_percentages_metadata = pd.read_csv(f'{folder}/classification_percentages_metadata.csv')\nprint(classification_percentages_metadata.shape)\nclassification_percentages_metadata.head()"
    },
    "executionTime": "2019-12-08T21:14:51.294Z"
   },
   {
    "cell": {
     "executionCount": 6,
     "executionEventId": "43dd3b29-053a-4da7-b33f-7364aa217cbb",
     "hasError": false,
     "id": "e10ba1ef-ab82-4a69-9385-98511e06e03f",
     "outputs": [
      {
       "data": {
        "text/plain": "['/home/olga/ibm_lg/kmer-hashing/brawand2011/nfcore-rnaseq/human/single_end/rseqc/read_distribution/SRR306850_GSM752701_hsa_ht_M_2Aligned.sortedByCoord.out.read_distribution.txt',\n '/home/olga/ibm_lg/kmer-hashing/brawand2011/nfcore-rnaseq/human/single_end/rseqc/read_distribution/SRR306846_GSM752698_hsa_cb_M_1Aligned.sortedByCoord.out.read_distribution.txt',\n '/home/olga/ibm_lg/kmer-hashing/brawand2011/nfcore-rnaseq/human/single_end/rseqc/read_distribution/SRR306838_GSM752691_hsa_br_F_1Aligned.sortedByCoord.out.read_distribution.txt',\n '/home/olga/ibm_lg/kmer-hashing/brawand2011/nfcore-rnaseq/human/single_end/rseqc/read_distribution/SRR306856_GSM752706_hsa_lv_M_2Aligned.sortedByCoord.out.read_distribution.txt',\n '/home/olga/ibm_lg/kmer-hashing/brawand2011/nfcore-rnaseq/human/single_end/rseqc/read_distribution/SRR306844_GSM752697_hsa_cb_F_1Aligned.sortedByCoord.out.read_distribution.txt',\n '/home/olga/ibm_lg/kmer-hashing/brawand2011/nfcore-rnaseq/human/single_end/rseqc/read_distribution/SRR306855_GSM752705_hsa_lv_M_1Aligned.sortedByCoord.out.read_distribution.txt',\n '/home/olga/ibm_lg/kmer-hashing/brawand2011/nfcore-rnaseq/human/single_end/rseqc/read_distribution/SRR306854_GSM752705_hsa_lv_M_1Aligned.sortedByCoord.out.read_distribution.txt',\n '/home/olga/ibm_lg/kmer-hashing/brawand2011/nfcore-rnaseq/human/single_end/rseqc/read_distribution/SRR306849_GSM752700_hsa_ht_M_1Aligned.sortedByCoord.out.read_distribution.txt',\n '/home/olga/ibm_lg/kmer-hashing/brawand2011/nfcore-rnaseq/human/single_end/rseqc/read_distribution/SRR306848_GSM752700_hsa_ht_M_1Aligned.sortedByCoord.out.read_distribution.txt',\n '/home/olga/ibm_lg/kmer-hashing/brawand2011/nfcore-rnaseq/human/single_end/rseqc/read_distribution/SRR306847_GSM752699_hsa_ht_F_1Aligned.sortedByCoord.out.read_distribution.txt',\n '/home/olga/ibm_lg/kmer-hashing/brawand2011/nfcore-rnaseq/human/single_end/rseqc/read_distribution/SRR306858_GSM752708_hsa_ts_M_2Aligned.sortedByCoord.out.read_distribution.txt',\n '/home/olga/ibm_lg/kmer-hashing/brawand2011/nfcore-rnaseq/human/single_end/rseqc/read_distribution/SRR306843_GSM752696_hsa_br_M_5Aligned.sortedByCoord.out.read_distribution.txt',\n '/home/olga/ibm_lg/kmer-hashing/brawand2011/nfcore-rnaseq/human/single_end/rseqc/read_distribution/SRR306845_GSM752698_hsa_cb_M_1Aligned.sortedByCoord.out.read_distribution.txt',\n '/home/olga/ibm_lg/kmer-hashing/brawand2011/nfcore-rnaseq/human/single_end/rseqc/read_distribution/SRR306857_GSM752707_hsa_ts_M_1Aligned.sortedByCoord.out.read_distribution.txt',\n '/home/olga/ibm_lg/kmer-hashing/brawand2011/nfcore-rnaseq/human/single_end/rseqc/read_distribution/SRR306851_GSM752702_hsa_kd_F_1Aligned.sortedByCoord.out.read_distribution.txt',\n '/home/olga/ibm_lg/kmer-hashing/brawand2011/nfcore-rnaseq/human/single_end/rseqc/read_distribution/SRR306853_GSM752704_hsa_kd_M_2Aligned.sortedByCoord.out.read_distribution.txt',\n '/home/olga/ibm_lg/kmer-hashing/brawand2011/nfcore-rnaseq/human/single_end/rseqc/read_distribution/SRR306841_GSM752694_hsa_br_M_2Aligned.sortedByCoord.out.read_distribution.txt',\n '/home/olga/ibm_lg/kmer-hashing/brawand2011/nfcore-rnaseq/human/single_end/rseqc/read_distribution/SRR306839_GSM752692_hsa_br_M_3Aligned.sortedByCoord.out.read_distribution.txt',\n '/home/olga/ibm_lg/kmer-hashing/brawand2011/nfcore-rnaseq/human/paired_end/rseqc/read_distribution/SRR306842_GSM752695_hsa_br_M_4_1Aligned.sortedByCoord.out.read_distribution.txt',\n '/home/olga/ibm_lg/kmer-hashing/brawand2011/nfcore-rnaseq/human/paired_end/rseqc/read_distribution/SRR306840_GSM752693_hsa_br_M_1_1Aligned.sortedByCoord.out.read_distribution.txt',\n '/home/olga/ibm_lg/kmer-hashing/brawand2011/nfcore-rnaseq/chimpanzee/single_end/rseqc/read_distribution/SRR306818_GSM752671_ptr_cb_M_1Aligned.sortedByCoord.out.read_distribution.txt',\n '/home/olga/ibm_lg/kmer-hashing/brawand2011/nfcore-rnaseq/chimpanzee/single_end/rseqc/read_distribution/SRR306821_GSM752674_ptr_kd_F_1Aligned.sortedByCoord.out.read_distribution.txt',\n '/home/olga/ibm_lg/kmer-hashing/brawand2011/nfcore-rnaseq/chimpanzee/single_end/rseqc/read_distribution/SRR306825_GSM752678_ptr_ts_M_1Aligned.sortedByCoord.out.read_distribution.txt',\n '/home/olga/ibm_lg/kmer-hashing/brawand2011/nfcore-rnaseq/chimpanzee/single_end/rseqc/read_distribution/SRR306811_GSM752664_ptr_br_F_1Aligned.sortedByCoord.out.read_distribution.txt',\n '/home/olga/ibm_lg/kmer-hashing/brawand2011/nfcore-rnaseq/chimpanzee/single_end/rseqc/read_distribution/SRR306820_GSM752673_ptr_ht_M_1Aligned.sortedByCoord.out.read_distribution.txt',\n '/home/olga/ibm_lg/kmer-hashing/brawand2011/nfcore-rnaseq/chimpanzee/single_end/rseqc/read_distribution/SRR306817_GSM752670_ptr_cb_F_1Aligned.sortedByCoord.out.read_distribution.txt',\n '/home/olga/ibm_lg/kmer-hashing/brawand2011/nfcore-rnaseq/chimpanzee/single_end/rseqc/read_distribution/SRR306822_GSM752675_ptr_kd_M_1Aligned.sortedByCoord.out.read_distribution.txt',\n '/home/olga/ibm_lg/kmer-hashing/brawand2011/nfcore-rnaseq/chimpanzee/single_end/rseqc/read_distribution/SRR306819_GSM752672_ptr_ht_F_1Aligned.sortedByCoord.out.read_distribution.txt',\n '/home/olga/ibm_lg/kmer-hashing/brawand2011/nfcore-rnaseq/chimpanzee/single_end/rseqc/read_distribution/SRR306824_GSM752677_ptr_lv_M_1Aligned.sortedByCoord.out.read_distribution.txt',\n '/home/olga/ibm_lg/kmer-hashing/brawand2011/nfcore-rnaseq/chimpanzee/single_end/rseqc/read_distribution/SRR306823_GSM752676_ptr_lv_F_1Aligned.sortedByCoord.out.read_distribution.txt',\n '/home/olga/ibm_lg/kmer-hashing/brawand2011/nfcore-rnaseq/chimpanzee/paired_end/rseqc/read_distribution/SRR306814_GSM752667_ptr_br_M_3_1Aligned.sortedByCoord.out.read_distribution.txt',\n '/home/olga/ibm_lg/kmer-hashing/brawand2011/nfcore-rnaseq/chimpanzee/paired_end/rseqc/read_distribution/SRR306812_GSM752665_ptr_br_M_1_1Aligned.sortedByCoord.out.read_distribution.txt',\n '/home/olga/ibm_lg/kmer-hashing/brawand2011/nfcore-rnaseq/chimpanzee/paired_end/rseqc/read_distribution/SRR306815_GSM752668_ptr_br_M_4_1Aligned.sortedByCoord.out.read_distribution.txt',\n '/home/olga/ibm_lg/kmer-hashing/brawand2011/nfcore-rnaseq/chimpanzee/paired_end/rseqc/read_distribution/SRR306813_GSM752666_ptr_br_M_2_1Aligned.sortedByCoord.out.read_distribution.txt',\n '/home/olga/ibm_lg/kmer-hashing/brawand2011/nfcore-rnaseq/chimpanzee/paired_end/rseqc/read_distribution/SRR306816_GSM752669_ptr_br_M_5_1Aligned.sortedByCoord.out.read_distribution.txt']"
       },
       "execution_count": 6,
       "metadata": {},
       "output_type": "execute_result"
      }
     ],
     "persistentId": "44ee43e6-b736-47d5-b9ca-d12846aa347e",
     "text": "base_folder = '/home/olga/ibm_lg/kmer-hashing/brawand2011/nfcore-rnaseq'\nglobber = f'{base_folder}/*/*/rseqc/read_distribution/*'\nglob.glob(globber)"
    },
    "executionTime": "2019-12-08T21:16:52.425Z"
   },
   {
    "cell": {
     "executionCount": 11,
     "executionEventId": "39ca24cc-b692-4831-b2f3-e65ea3d0ab6c",
     "hasError": true,
     "id": "0a686bb8-a605-4a69-893e-39582a575f21",
     "outputs": [
      {
       "ename": "NameError",
       "evalue": "name 'f' is not defined",
       "output_type": "error",
       "traceback": [
        "\u001b[0;31m---------------------------------------------------------------------------\u001b[0m",
        "\u001b[0;31mNameError\u001b[0m                                 Traceback (most recent call last)",
        "\u001b[0;32m<ipython-input-11-055d0c37aeda>\u001b[0m in \u001b[0;36m<module>\u001b[0;34m\u001b[0m\n\u001b[0;32m----> 1\u001b[0;31m \u001b[0mf\u001b[0m\u001b[0;34m.\u001b[0m\u001b[0mreadlines\u001b[0m\u001b[0;34m(\u001b[0m\u001b[0;34m)\u001b[0m\u001b[0;34m\u001b[0m\u001b[0;34m\u001b[0m\u001b[0m\n\u001b[0m",
        "\u001b[0;31mNameError\u001b[0m: name 'f' is not defined"
       ]
      }
     ],
     "persistentId": "7ed0285c-353b-44fa-a533-397e921900dc",
     "text": "f.readlines()"
    },
    "executionTime": "2019-12-08T21:22:32.014Z"
   },
   {
    "cell": {
     "executionCount": 12,
     "executionEventId": "eccef662-4c39-46df-918a-31787bb732ae",
     "hasError": false,
     "id": "d38ecea6-cb29-4bd9-82b2-86ee48f88306",
     "outputs": [
      {
       "name": "stdout",
       "output_type": "stream",
       "text": "> \u001b[0;32m<ipython-input-11-055d0c37aeda>\u001b[0m(1)\u001b[0;36m<module>\u001b[0;34m()\u001b[0m\n\u001b[0;32m----> 1 \u001b[0;31m\u001b[0mf\u001b[0m\u001b[0;34m.\u001b[0m\u001b[0mreadlines\u001b[0m\u001b[0;34m(\u001b[0m\u001b[0;34m)\u001b[0m\u001b[0;34m\u001b[0m\u001b[0;34m\u001b[0m\u001b[0m\n\u001b[0m\n"
      },
      {
       "name": "stdin",
       "output_type": "stream",
       "text": "ipdb>  q\n"
      }
     ],
     "persistentId": "9368f5d4-529e-461e-9ffc-767e581c3cb1",
     "text": "%debug"
    },
    "executionTime": "2019-12-08T21:22:38.233Z"
   },
   {
    "cell": {
     "executionCount": 14,
     "executionEventId": "2e459a55-285c-4ac9-974c-53c107910bb9",
     "hasError": false,
     "id": "d38ecea6-cb29-4bd9-82b2-86ee48f88306",
     "outputs": [
      {
       "name": "stdout",
       "output_type": "stream",
       "text": "> \u001b[0;32m/home/olga/miniconda3/envs/parquet/lib/python3.7/re.py\u001b[0m(183)\u001b[0;36msearch\u001b[0;34m()\u001b[0m\n\u001b[0;32m    181 \u001b[0;31m    \"\"\"Scan through string looking for a match to the pattern, returning\n\u001b[0m\u001b[0;32m    182 \u001b[0;31m    a Match object, or None if no match was found.\"\"\"\n\u001b[0m\u001b[0;32m--> 183 \u001b[0;31m    \u001b[0;32mreturn\u001b[0m \u001b[0m_compile\u001b[0m\u001b[0;34m(\u001b[0m\u001b[0mpattern\u001b[0m\u001b[0;34m,\u001b[0m \u001b[0mflags\u001b[0m\u001b[0;34m)\u001b[0m\u001b[0;34m.\u001b[0m\u001b[0msearch\u001b[0m\u001b[0;34m(\u001b[0m\u001b[0mstring\u001b[0m\u001b[0;34m)\u001b[0m\u001b[0;34m\u001b[0m\u001b[0;34m\u001b[0m\u001b[0m\n\u001b[0m\u001b[0;32m    184 \u001b[0;31m\u001b[0;34m\u001b[0m\u001b[0m\n\u001b[0m\u001b[0;32m    185 \u001b[0;31m\u001b[0;32mdef\u001b[0m \u001b[0msub\u001b[0m\u001b[0;34m(\u001b[0m\u001b[0mpattern\u001b[0m\u001b[0;34m,\u001b[0m \u001b[0mrepl\u001b[0m\u001b[0;34m,\u001b[0m \u001b[0mstring\u001b[0m\u001b[0;34m,\u001b[0m \u001b[0mcount\u001b[0m\u001b[0;34m=\u001b[0m\u001b[0;36m0\u001b[0m\u001b[0;34m,\u001b[0m \u001b[0mflags\u001b[0m\u001b[0;34m=\u001b[0m\u001b[0;36m0\u001b[0m\u001b[0;34m)\u001b[0m\u001b[0;34m:\u001b[0m\u001b[0;34m\u001b[0m\u001b[0;34m\u001b[0m\u001b[0m\n\u001b[0m\n"
      },
      {
       "name": "stdin",
       "output_type": "stream",
       "text": "ipdb>  u\n"
      },
      {
       "name": "stdout",
       "output_type": "stream",
       "text": "> \u001b[0;32m<ipython-input-13-ee1f7a705982>\u001b[0m(26)\u001b[0;36mparse_rseqc_read_distribution\u001b[0;34m()\u001b[0m\n\u001b[0;32m     24 \u001b[0;31m        \u001b[0mfile_content\u001b[0m \u001b[0;34m=\u001b[0m \u001b[0mf\u001b[0m\u001b[0;34m.\u001b[0m\u001b[0mreadlines\u001b[0m\u001b[0;34m(\u001b[0m\u001b[0;34m)\u001b[0m\u001b[0;34m\u001b[0m\u001b[0;34m\u001b[0m\u001b[0m\n\u001b[0m\u001b[0;32m     25 \u001b[0;31m        \u001b[0;32mfor\u001b[0m \u001b[0mk\u001b[0m\u001b[0;34m,\u001b[0m \u001b[0mr\u001b[0m \u001b[0;32min\u001b[0m \u001b[0mfirst_regexes\u001b[0m\u001b[0;34m.\u001b[0m\u001b[0mitems\u001b[0m\u001b[0;34m(\u001b[0m\u001b[0;34m)\u001b[0m\u001b[0;34m:\u001b[0m\u001b[0;34m\u001b[0m\u001b[0;34m\u001b[0m\u001b[0m\n\u001b[0m\u001b[0;32m---> 26 \u001b[0;31m            \u001b[0mr_search\u001b[0m \u001b[0;34m=\u001b[0m \u001b[0mre\u001b[0m\u001b[0;34m.\u001b[0m\u001b[0msearch\u001b[0m\u001b[0;34m(\u001b[0m\u001b[0mr\u001b[0m\u001b[0;34m,\u001b[0m \u001b[0mfile_content\u001b[0m\u001b[0;34m,\u001b[0m \u001b[0mre\u001b[0m\u001b[0;34m.\u001b[0m\u001b[0mMULTILINE\u001b[0m\u001b[0;34m)\u001b[0m\u001b[0;34m\u001b[0m\u001b[0;34m\u001b[0m\u001b[0m\n\u001b[0m\u001b[0;32m     27 \u001b[0;31m            \u001b[0;32mif\u001b[0m \u001b[0mr_search\u001b[0m\u001b[0;34m:\u001b[0m\u001b[0;34m\u001b[0m\u001b[0;34m\u001b[0m\u001b[0m\n\u001b[0m\u001b[0;32m     28 \u001b[0;31m                \u001b[0md\u001b[0m\u001b[0;34m[\u001b[0m\u001b[0mk\u001b[0m\u001b[0;34m]\u001b[0m \u001b[0;34m=\u001b[0m \u001b[0mint\u001b[0m\u001b[0;34m(\u001b[0m\u001b[0mr_search\u001b[0m\u001b[0;34m.\u001b[0m\u001b[0mgroup\u001b[0m\u001b[0;34m(\u001b[0m\u001b[0;36m1\u001b[0m\u001b[0;34m)\u001b[0m\u001b[0;34m)\u001b[0m\u001b[0;34m\u001b[0m\u001b[0;34m\u001b[0m\u001b[0m\n\u001b[0m\n"
      },
      {
       "name": "stdin",
       "output_type": "stream",
       "text": "ipdb>  dir()\n"
      },
      {
       "name": "stdout",
       "output_type": "stream",
       "text": "['d', 'f', 'file_content', 'filename', 'k', 'r']\n"
      },
      {
       "name": "stdin",
       "output_type": "stream",
       "text": "ipdb>  print(file_content)\n"
      },
      {
       "name": "stdout",
       "output_type": "stream",
       "text": "['Total Reads                   37515753\\n', 'Total Tags                    42862950\\n', 'Total Assigned Tags           35649383\\n', '=====================================================================\\n', 'Group               Total_bases         Tag_count           Tags/Kb             \\n', 'CDS_Exons           88085127            21285159            241.64            \\n', \"5'UTR_Exons         6300107             336041              53.34             \\n\", \"3'UTR_Exons         29596271            7649711             258.47            \\n\", 'Introns             1418158256          4878900             3.44              \\n', 'TSS_up_1kb          28806403            53294               1.85              \\n', 'TSS_up_5kb          130152374           645280              4.96              \\n', 'TSS_up_10kb         235263816           905675              3.85              \\n', 'TES_down_1kb        30601570            156924              5.13              \\n', 'TES_down_5kb        134186459           423075              3.15              \\n', 'TES_down_10kb       238742236           593897              2.49              \\n', '=====================================================================\\n']\n"
      },
      {
       "name": "stdin",
       "output_type": "stream",
       "text": "ipdb>  q\n"
      }
     ],
     "persistentId": "9368f5d4-529e-461e-9ffc-767e581c3cb1",
     "text": "%debug"
    },
    "executionTime": "2019-12-08T21:22:50.446Z"
   },
   {
    "cell": {
     "executionCount": 17,
     "executionEventId": "01eac135-3992-4671-bd13-210d0239ecd7",
     "hasError": true,
     "id": "99b956e1-6432-4c57-ad3a-b2498a481050",
     "outputs": [
      {
       "ename": "NameError",
       "evalue": "name 'iglob' is not defined",
       "output_type": "error",
       "traceback": [
        "\u001b[0;31m---------------------------------------------------------------------------\u001b[0m",
        "\u001b[0;31mNameError\u001b[0m                                 Traceback (most recent call last)",
        "\u001b[0;32m<ipython-input-17-f69f11890477>\u001b[0m in \u001b[0;36m<module>\u001b[0;34m\u001b[0m\n\u001b[1;32m      4\u001b[0m \u001b[0mseriess\u001b[0m \u001b[0;34m=\u001b[0m \u001b[0;34m[\u001b[0m\u001b[0;34m]\u001b[0m\u001b[0;34m\u001b[0m\u001b[0;34m\u001b[0m\u001b[0m\n\u001b[1;32m      5\u001b[0m \u001b[0;34m\u001b[0m\u001b[0m\n\u001b[0;32m----> 6\u001b[0;31m \u001b[0;32mfor\u001b[0m \u001b[0mfilename\u001b[0m \u001b[0;32min\u001b[0m \u001b[0miglob\u001b[0m\u001b[0;34m.\u001b[0m\u001b[0mglob\u001b[0m\u001b[0;34m(\u001b[0m\u001b[0mglobber\u001b[0m\u001b[0;34m)\u001b[0m\u001b[0;34m:\u001b[0m\u001b[0;34m\u001b[0m\u001b[0;34m\u001b[0m\u001b[0m\n\u001b[0m\u001b[1;32m      7\u001b[0m     \u001b[0mseries\u001b[0m \u001b[0;34m=\u001b[0m \u001b[0mparse_rseqc_read_distribution\u001b[0m\u001b[0;34m(\u001b[0m\u001b[0mfilename\u001b[0m\u001b[0;34m)\u001b[0m\u001b[0;34m\u001b[0m\u001b[0;34m\u001b[0m\u001b[0m\n\u001b[1;32m      8\u001b[0m     \u001b[0mseriess\u001b[0m\u001b[0;34m.\u001b[0m\u001b[0mappend\u001b[0m\u001b[0;34m(\u001b[0m\u001b[0mseries\u001b[0m\u001b[0;34m)\u001b[0m\u001b[0;34m\u001b[0m\u001b[0;34m\u001b[0m\u001b[0m\n",
        "\u001b[0;31mNameError\u001b[0m: name 'iglob' is not defined"
       ]
      }
     ],
     "persistentId": "39812504-4905-4629-bb31-330706334135",
     "text": "base_folder = '/home/olga/ibm_lg/kmer-hashing/brawand2011/nfcore-rnaseq'\nglobber = f'{base_folder}/*/*/rseqc/read_distribution/*'\n\nseriess = []\n\nfor filename in iglob.glob(globber):\n    series = parse_rseqc_read_distribution(filename)\n    seriess.append(series)\nrseqc_read_distributions = pd.concat(seriess)\nprint(rseqc_read_distributions.shape)\nrseqc_read_distributions.head"
    },
    "executionTime": "2019-12-08T21:25:15.813Z"
   },
   {
    "cell": {
     "executionCount": 18,
     "executionEventId": "cdf1517a-837a-4e18-ab35-68596f41eae9",
     "hasError": false,
     "id": "99b956e1-6432-4c57-ad3a-b2498a481050",
     "outputs": [
      {
       "name": "stdout",
       "output_type": "stream",
       "text": "(1575,)\n"
      },
      {
       "data": {
        "text/plain": "<bound method NDFrame.head of total_reads                 2.129287e+07\ntotal_tags                  2.525849e+07\ntotal_assigned_tags         2.438724e+07\ncds_exons_total_bases       9.755339e+07\ncds_exons_tag_count         1.967543e+07\n                                ...     \ntss_up_10kb_tag_pct         2.112955e+00\ntes_down_1kb_tag_pct        3.661064e-01\ntes_down_5kb_tag_pct        9.870413e-01\ntes_down_10kb_tag_pct       1.385572e+00\nother_intergenic_tag_pct    1.682938e+01\nLength: 1575, dtype: float64>"
       },
       "execution_count": 18,
       "metadata": {},
       "output_type": "execute_result"
      }
     ],
     "persistentId": "39812504-4905-4629-bb31-330706334135",
     "text": "base_folder = '/home/olga/ibm_lg/kmer-hashing/brawand2011/nfcore-rnaseq'\nglobber = f'{base_folder}/*/*/rseqc/read_distribution/*'\n\nseriess = []\n\nfor filename in glob.iglob(globber):\n    series = parse_rseqc_read_distribution(filename)\n    seriess.append(series)\nrseqc_read_distributions = pd.concat(seriess)\nprint(rseqc_read_distributions.shape)\nrseqc_read_distributions.head"
    },
    "executionTime": "2019-12-08T21:25:19.492Z"
   },
   {
    "cell": {
     "executionCount": 19,
     "executionEventId": "952692d5-6849-430d-aa5f-0cc22b977cdf",
     "hasError": false,
     "id": "99b956e1-6432-4c57-ad3a-b2498a481050",
     "outputs": [
      {
       "name": "stdout",
       "output_type": "stream",
       "text": "(1575,)\n"
      },
      {
       "data": {
        "text/plain": "total_reads              21292867.0\ntotal_tags               25258488.0\ntotal_assigned_tags      24387237.0\ncds_exons_total_bases    97553390.0\ncds_exons_tag_count      19675431.0\ndtype: float64"
       },
       "execution_count": 19,
       "metadata": {},
       "output_type": "execute_result"
      }
     ],
     "persistentId": "39812504-4905-4629-bb31-330706334135",
     "text": "base_folder = '/home/olga/ibm_lg/kmer-hashing/brawand2011/nfcore-rnaseq'\nglobber = f'{base_folder}/*/*/rseqc/read_distribution/*'\n\nseriess = []\n\nfor filename in glob.iglob(globber):\n    series = parse_rseqc_read_distribution(filename)\n    seriess.append(series)\nrseqc_read_distributions = pd.concat(seriess, axis=0)\nprint(rseqc_read_distributions.shape)\nrseqc_read_distributions.head()"
    },
    "executionTime": "2019-12-08T21:25:29.496Z"
   },
   {
    "cell": {
     "executionCount": 20,
     "executionEventId": "03db886f-6175-4f5f-a36f-f30b68cc65ae",
     "hasError": false,
     "id": "99b956e1-6432-4c57-ad3a-b2498a481050",
     "outputs": [
      {
       "name": "stdout",
       "output_type": "stream",
       "text": "(45, 35)\n"
      },
      {
       "data": {
        "text/html": "<div>\n<style scoped>\n    .dataframe tbody tr th:only-of-type {\n        vertical-align: middle;\n    }\n\n    .dataframe tbody tr th {\n        vertical-align: top;\n    }\n\n    .dataframe thead th {\n        text-align: right;\n    }\n</style>\n<table border=\"1\" class=\"dataframe\">\n  <thead>\n    <tr style=\"text-align: right;\">\n      <th></th>\n      <th>SRR306850_GSM752701_hsa_ht_M_2</th>\n      <th>SRR306846_GSM752698_hsa_cb_M_1</th>\n      <th>SRR306838_GSM752691_hsa_br_F_1</th>\n      <th>SRR306856_GSM752706_hsa_lv_M_2</th>\n      <th>SRR306844_GSM752697_hsa_cb_F_1</th>\n      <th>SRR306855_GSM752705_hsa_lv_M_1</th>\n      <th>SRR306854_GSM752705_hsa_lv_M_1</th>\n      <th>SRR306849_GSM752700_hsa_ht_M_1</th>\n      <th>SRR306848_GSM752700_hsa_ht_M_1</th>\n      <th>SRR306847_GSM752699_hsa_ht_F_1</th>\n      <th>...</th>\n      <th>SRR306817_GSM752670_ptr_cb_F_1</th>\n      <th>SRR306822_GSM752675_ptr_kd_M_1</th>\n      <th>SRR306819_GSM752672_ptr_ht_F_1</th>\n      <th>SRR306824_GSM752677_ptr_lv_M_1</th>\n      <th>SRR306823_GSM752676_ptr_lv_F_1</th>\n      <th>SRR306814_GSM752667_ptr_br_M_3_1</th>\n      <th>SRR306812_GSM752665_ptr_br_M_1_1</th>\n      <th>SRR306815_GSM752668_ptr_br_M_4_1</th>\n      <th>SRR306813_GSM752666_ptr_br_M_2_1</th>\n      <th>SRR306816_GSM752669_ptr_br_M_5_1</th>\n    </tr>\n  </thead>\n  <tbody>\n    <tr>\n      <th>total_reads</th>\n      <td>21292867.0</td>\n      <td>15800648.0</td>\n      <td>780690.0</td>\n      <td>20479674.0</td>\n      <td>26696068.0</td>\n      <td>21960165.0</td>\n      <td>4522780.0</td>\n      <td>14274919.0</td>\n      <td>6943569.0</td>\n      <td>390128.0</td>\n      <td>...</td>\n      <td>27246489.0</td>\n      <td>29722024.0</td>\n      <td>24714477.0</td>\n      <td>15744700.0</td>\n      <td>26026781.0</td>\n      <td>26933053.0</td>\n      <td>24913447.0</td>\n      <td>35594647.0</td>\n      <td>33350847.0</td>\n      <td>37515753.0</td>\n    </tr>\n    <tr>\n      <th>total_tags</th>\n      <td>25258488.0</td>\n      <td>18379213.0</td>\n      <td>889131.0</td>\n      <td>25412159.0</td>\n      <td>30804199.0</td>\n      <td>26848271.0</td>\n      <td>5069567.0</td>\n      <td>16907263.0</td>\n      <td>7641330.0</td>\n      <td>430498.0</td>\n      <td>...</td>\n      <td>31600292.0</td>\n      <td>35132350.0</td>\n      <td>28916366.0</td>\n      <td>18519871.0</td>\n      <td>31855532.0</td>\n      <td>30082726.0</td>\n      <td>29551717.0</td>\n      <td>41357406.0</td>\n      <td>37602688.0</td>\n      <td>42862950.0</td>\n    </tr>\n    <tr>\n      <th>total_assigned_tags</th>\n      <td>24387237.0</td>\n      <td>17615565.0</td>\n      <td>867476.0</td>\n      <td>24423554.0</td>\n      <td>29400439.0</td>\n      <td>25799169.0</td>\n      <td>4838211.0</td>\n      <td>15884800.0</td>\n      <td>7188113.0</td>\n      <td>419659.0</td>\n      <td>...</td>\n      <td>28240264.0</td>\n      <td>30159330.0</td>\n      <td>20369581.0</td>\n      <td>16915818.0</td>\n      <td>28848671.0</td>\n      <td>25291135.0</td>\n      <td>26487619.0</td>\n      <td>34750637.0</td>\n      <td>28242231.0</td>\n      <td>35649383.0</td>\n    </tr>\n    <tr>\n      <th>cds_exons_total_bases</th>\n      <td>97553390.0</td>\n      <td>97553390.0</td>\n      <td>97553390.0</td>\n      <td>97553390.0</td>\n      <td>97553390.0</td>\n      <td>97553390.0</td>\n      <td>97553390.0</td>\n      <td>97553390.0</td>\n      <td>97553390.0</td>\n      <td>97553390.0</td>\n      <td>...</td>\n      <td>88085127.0</td>\n      <td>88085127.0</td>\n      <td>88085127.0</td>\n      <td>88085127.0</td>\n      <td>88085127.0</td>\n      <td>88085127.0</td>\n      <td>88085127.0</td>\n      <td>88085127.0</td>\n      <td>88085127.0</td>\n      <td>88085127.0</td>\n    </tr>\n    <tr>\n      <th>cds_exons_tag_count</th>\n      <td>19675431.0</td>\n      <td>12662565.0</td>\n      <td>537910.0</td>\n      <td>20272780.0</td>\n      <td>20372273.0</td>\n      <td>21789234.0</td>\n      <td>3933657.0</td>\n      <td>13048919.0</td>\n      <td>5788876.0</td>\n      <td>317984.0</td>\n      <td>...</td>\n      <td>17570802.0</td>\n      <td>20052865.0</td>\n      <td>12250965.0</td>\n      <td>12669126.0</td>\n      <td>21123331.0</td>\n      <td>14354765.0</td>\n      <td>16938645.0</td>\n      <td>20940732.0</td>\n      <td>15607917.0</td>\n      <td>21285159.0</td>\n    </tr>\n  </tbody>\n</table>\n<p>5 rows × 35 columns</p>\n</div>",
        "text/plain": "                       SRR306850_GSM752701_hsa_ht_M_2  \\\ntotal_reads                                21292867.0   \ntotal_tags                                 25258488.0   \ntotal_assigned_tags                        24387237.0   \ncds_exons_total_bases                      97553390.0   \ncds_exons_tag_count                        19675431.0   \n\n                       SRR306846_GSM752698_hsa_cb_M_1  \\\ntotal_reads                                15800648.0   \ntotal_tags                                 18379213.0   \ntotal_assigned_tags                        17615565.0   \ncds_exons_total_bases                      97553390.0   \ncds_exons_tag_count                        12662565.0   \n\n                       SRR306838_GSM752691_hsa_br_F_1  \\\ntotal_reads                                  780690.0   \ntotal_tags                                   889131.0   \ntotal_assigned_tags                          867476.0   \ncds_exons_total_bases                      97553390.0   \ncds_exons_tag_count                          537910.0   \n\n                       SRR306856_GSM752706_hsa_lv_M_2  \\\ntotal_reads                                20479674.0   \ntotal_tags                                 25412159.0   \ntotal_assigned_tags                        24423554.0   \ncds_exons_total_bases                      97553390.0   \ncds_exons_tag_count                        20272780.0   \n\n                       SRR306844_GSM752697_hsa_cb_F_1  \\\ntotal_reads                                26696068.0   \ntotal_tags                                 30804199.0   \ntotal_assigned_tags                        29400439.0   \ncds_exons_total_bases                      97553390.0   \ncds_exons_tag_count                        20372273.0   \n\n                       SRR306855_GSM752705_hsa_lv_M_1  \\\ntotal_reads                                21960165.0   \ntotal_tags                                 26848271.0   \ntotal_assigned_tags                        25799169.0   \ncds_exons_total_bases                      97553390.0   \ncds_exons_tag_count                        21789234.0   \n\n                       SRR306854_GSM752705_hsa_lv_M_1  \\\ntotal_reads                                 4522780.0   \ntotal_tags                                  5069567.0   \ntotal_assigned_tags                         4838211.0   \ncds_exons_total_bases                      97553390.0   \ncds_exons_tag_count                         3933657.0   \n\n                       SRR306849_GSM752700_hsa_ht_M_1  \\\ntotal_reads                                14274919.0   \ntotal_tags                                 16907263.0   \ntotal_assigned_tags                        15884800.0   \ncds_exons_total_bases                      97553390.0   \ncds_exons_tag_count                        13048919.0   \n\n                       SRR306848_GSM752700_hsa_ht_M_1  \\\ntotal_reads                                 6943569.0   \ntotal_tags                                  7641330.0   \ntotal_assigned_tags                         7188113.0   \ncds_exons_total_bases                      97553390.0   \ncds_exons_tag_count                         5788876.0   \n\n                       SRR306847_GSM752699_hsa_ht_F_1  ...  \\\ntotal_reads                                  390128.0  ...   \ntotal_tags                                   430498.0  ...   \ntotal_assigned_tags                          419659.0  ...   \ncds_exons_total_bases                      97553390.0  ...   \ncds_exons_tag_count                          317984.0  ...   \n\n                       SRR306817_GSM752670_ptr_cb_F_1  \\\ntotal_reads                                27246489.0   \ntotal_tags                                 31600292.0   \ntotal_assigned_tags                        28240264.0   \ncds_exons_total_bases                      88085127.0   \ncds_exons_tag_count                        17570802.0   \n\n                       SRR306822_GSM752675_ptr_kd_M_1  \\\ntotal_reads                                29722024.0   \ntotal_tags                                 35132350.0   \ntotal_assigned_tags                        30159330.0   \ncds_exons_total_bases                      88085127.0   \ncds_exons_tag_count                        20052865.0   \n\n                       SRR306819_GSM752672_ptr_ht_F_1  \\\ntotal_reads                                24714477.0   \ntotal_tags                                 28916366.0   \ntotal_assigned_tags                        20369581.0   \ncds_exons_total_bases                      88085127.0   \ncds_exons_tag_count                        12250965.0   \n\n                       SRR306824_GSM752677_ptr_lv_M_1  \\\ntotal_reads                                15744700.0   \ntotal_tags                                 18519871.0   \ntotal_assigned_tags                        16915818.0   \ncds_exons_total_bases                      88085127.0   \ncds_exons_tag_count                        12669126.0   \n\n                       SRR306823_GSM752676_ptr_lv_F_1  \\\ntotal_reads                                26026781.0   \ntotal_tags                                 31855532.0   \ntotal_assigned_tags                        28848671.0   \ncds_exons_total_bases                      88085127.0   \ncds_exons_tag_count                        21123331.0   \n\n                       SRR306814_GSM752667_ptr_br_M_3_1  \\\ntotal_reads                                  26933053.0   \ntotal_tags                                   30082726.0   \ntotal_assigned_tags                          25291135.0   \ncds_exons_total_bases                        88085127.0   \ncds_exons_tag_count                          14354765.0   \n\n                       SRR306812_GSM752665_ptr_br_M_1_1  \\\ntotal_reads                                  24913447.0   \ntotal_tags                                   29551717.0   \ntotal_assigned_tags                          26487619.0   \ncds_exons_total_bases                        88085127.0   \ncds_exons_tag_count                          16938645.0   \n\n                       SRR306815_GSM752668_ptr_br_M_4_1  \\\ntotal_reads                                  35594647.0   \ntotal_tags                                   41357406.0   \ntotal_assigned_tags                          34750637.0   \ncds_exons_total_bases                        88085127.0   \ncds_exons_tag_count                          20940732.0   \n\n                       SRR306813_GSM752666_ptr_br_M_2_1  \\\ntotal_reads                                  33350847.0   \ntotal_tags                                   37602688.0   \ntotal_assigned_tags                          28242231.0   \ncds_exons_total_bases                        88085127.0   \ncds_exons_tag_count                          15607917.0   \n\n                       SRR306816_GSM752669_ptr_br_M_5_1  \ntotal_reads                                  37515753.0  \ntotal_tags                                   42862950.0  \ntotal_assigned_tags                          35649383.0  \ncds_exons_total_bases                        88085127.0  \ncds_exons_tag_count                          21285159.0  \n\n[5 rows x 35 columns]"
       },
       "execution_count": 20,
       "metadata": {},
       "output_type": "execute_result"
      }
     ],
     "persistentId": "39812504-4905-4629-bb31-330706334135",
     "text": "base_folder = '/home/olga/ibm_lg/kmer-hashing/brawand2011/nfcore-rnaseq'\nglobber = f'{base_folder}/*/*/rseqc/read_distribution/*'\n\nseriess = []\n\nfor filename in glob.iglob(globber):\n    series = parse_rseqc_read_distribution(filename)\n    seriess.append(series)\nrseqc_read_distributions = pd.concat(seriess, axis=1)\nprint(rseqc_read_distributions.shape)\nrseqc_read_distributions.head()"
    },
    "executionTime": "2019-12-08T21:25:33.455Z"
   },
   {
    "cell": {
     "executionCount": 21,
     "executionEventId": "9a97bb72-3d08-49fd-bdfd-8e3630cdb251",
     "hasError": true,
     "id": "99b956e1-6432-4c57-ad3a-b2498a481050",
     "outputs": [
      {
       "ename": "ValueError",
       "evalue": "No axis named 2 for object type <class 'pandas.core.frame.DataFrame'>",
       "output_type": "error",
       "traceback": [
        "\u001b[0;31m---------------------------------------------------------------------------\u001b[0m",
        "\u001b[0;31mValueError\u001b[0m                                Traceback (most recent call last)",
        "\u001b[0;32m<ipython-input-21-d963e00704ac>\u001b[0m in \u001b[0;36m<module>\u001b[0;34m\u001b[0m\n\u001b[1;32m      7\u001b[0m     \u001b[0mseries\u001b[0m \u001b[0;34m=\u001b[0m \u001b[0mparse_rseqc_read_distribution\u001b[0m\u001b[0;34m(\u001b[0m\u001b[0mfilename\u001b[0m\u001b[0;34m)\u001b[0m\u001b[0;34m\u001b[0m\u001b[0;34m\u001b[0m\u001b[0m\n\u001b[1;32m      8\u001b[0m     \u001b[0mseriess\u001b[0m\u001b[0;34m.\u001b[0m\u001b[0mappend\u001b[0m\u001b[0;34m(\u001b[0m\u001b[0mseries\u001b[0m\u001b[0;34m)\u001b[0m\u001b[0;34m\u001b[0m\u001b[0;34m\u001b[0m\u001b[0m\n\u001b[0;32m----> 9\u001b[0;31m \u001b[0mrseqc_read_distributions\u001b[0m \u001b[0;34m=\u001b[0m \u001b[0mpd\u001b[0m\u001b[0;34m.\u001b[0m\u001b[0mconcat\u001b[0m\u001b[0;34m(\u001b[0m\u001b[0mseriess\u001b[0m\u001b[0;34m,\u001b[0m \u001b[0maxis\u001b[0m\u001b[0;34m=\u001b[0m\u001b[0;36m2\u001b[0m\u001b[0;34m)\u001b[0m\u001b[0;34m\u001b[0m\u001b[0;34m\u001b[0m\u001b[0m\n\u001b[0m\u001b[1;32m     10\u001b[0m \u001b[0mprint\u001b[0m\u001b[0;34m(\u001b[0m\u001b[0mrseqc_read_distributions\u001b[0m\u001b[0;34m.\u001b[0m\u001b[0mshape\u001b[0m\u001b[0;34m)\u001b[0m\u001b[0;34m\u001b[0m\u001b[0;34m\u001b[0m\u001b[0m\n\u001b[1;32m     11\u001b[0m \u001b[0mrseqc_read_distributions\u001b[0m\u001b[0;34m.\u001b[0m\u001b[0mhead\u001b[0m\u001b[0;34m(\u001b[0m\u001b[0;34m)\u001b[0m\u001b[0;34m\u001b[0m\u001b[0;34m\u001b[0m\u001b[0m\n",
        "\u001b[0;32m~/miniconda3/envs/parquet/lib/python3.7/site-packages/pandas/core/reshape/concat.py\u001b[0m in \u001b[0;36mconcat\u001b[0;34m(objs, axis, join, join_axes, ignore_index, keys, levels, names, verify_integrity, sort, copy)\u001b[0m\n\u001b[1;32m    253\u001b[0m         \u001b[0mverify_integrity\u001b[0m\u001b[0;34m=\u001b[0m\u001b[0mverify_integrity\u001b[0m\u001b[0;34m,\u001b[0m\u001b[0;34m\u001b[0m\u001b[0;34m\u001b[0m\u001b[0m\n\u001b[1;32m    254\u001b[0m         \u001b[0mcopy\u001b[0m\u001b[0;34m=\u001b[0m\u001b[0mcopy\u001b[0m\u001b[0;34m,\u001b[0m\u001b[0;34m\u001b[0m\u001b[0;34m\u001b[0m\u001b[0m\n\u001b[0;32m--> 255\u001b[0;31m         \u001b[0msort\u001b[0m\u001b[0;34m=\u001b[0m\u001b[0msort\u001b[0m\u001b[0;34m,\u001b[0m\u001b[0;34m\u001b[0m\u001b[0;34m\u001b[0m\u001b[0m\n\u001b[0m\u001b[1;32m    256\u001b[0m     )\n\u001b[1;32m    257\u001b[0m \u001b[0;34m\u001b[0m\u001b[0m\n",
        "\u001b[0;32m~/miniconda3/envs/parquet/lib/python3.7/site-packages/pandas/core/reshape/concat.py\u001b[0m in \u001b[0;36m__init__\u001b[0;34m(self, objs, axis, join, join_axes, keys, levels, names, ignore_index, verify_integrity, copy, sort)\u001b[0m\n\u001b[1;32m    366\u001b[0m         \u001b[0;31m# Standardize axis parameter to int\u001b[0m\u001b[0;34m\u001b[0m\u001b[0;34m\u001b[0m\u001b[0;34m\u001b[0m\u001b[0m\n\u001b[1;32m    367\u001b[0m         \u001b[0;32mif\u001b[0m \u001b[0misinstance\u001b[0m\u001b[0;34m(\u001b[0m\u001b[0msample\u001b[0m\u001b[0;34m,\u001b[0m \u001b[0mSeries\u001b[0m\u001b[0;34m)\u001b[0m\u001b[0;34m:\u001b[0m\u001b[0;34m\u001b[0m\u001b[0;34m\u001b[0m\u001b[0m\n\u001b[0;32m--> 368\u001b[0;31m             \u001b[0maxis\u001b[0m \u001b[0;34m=\u001b[0m \u001b[0mDataFrame\u001b[0m\u001b[0;34m.\u001b[0m\u001b[0m_get_axis_number\u001b[0m\u001b[0;34m(\u001b[0m\u001b[0maxis\u001b[0m\u001b[0;34m)\u001b[0m\u001b[0;34m\u001b[0m\u001b[0;34m\u001b[0m\u001b[0m\n\u001b[0m\u001b[1;32m    369\u001b[0m         \u001b[0;32melse\u001b[0m\u001b[0;34m:\u001b[0m\u001b[0;34m\u001b[0m\u001b[0;34m\u001b[0m\u001b[0m\n\u001b[1;32m    370\u001b[0m             \u001b[0maxis\u001b[0m \u001b[0;34m=\u001b[0m \u001b[0msample\u001b[0m\u001b[0;34m.\u001b[0m\u001b[0m_get_axis_number\u001b[0m\u001b[0;34m(\u001b[0m\u001b[0maxis\u001b[0m\u001b[0;34m)\u001b[0m\u001b[0;34m\u001b[0m\u001b[0;34m\u001b[0m\u001b[0m\n",
        "\u001b[0;32m~/miniconda3/envs/parquet/lib/python3.7/site-packages/pandas/core/generic.py\u001b[0m in \u001b[0;36m_get_axis_number\u001b[0;34m(cls, axis)\u001b[0m\n\u001b[1;32m    409\u001b[0m             \u001b[0;32mexcept\u001b[0m \u001b[0mKeyError\u001b[0m\u001b[0;34m:\u001b[0m\u001b[0;34m\u001b[0m\u001b[0;34m\u001b[0m\u001b[0m\n\u001b[1;32m    410\u001b[0m                 \u001b[0;32mpass\u001b[0m\u001b[0;34m\u001b[0m\u001b[0;34m\u001b[0m\u001b[0m\n\u001b[0;32m--> 411\u001b[0;31m         \u001b[0;32mraise\u001b[0m \u001b[0mValueError\u001b[0m\u001b[0;34m(\u001b[0m\u001b[0;34m\"No axis named {0} for object type {1}\"\u001b[0m\u001b[0;34m.\u001b[0m\u001b[0mformat\u001b[0m\u001b[0;34m(\u001b[0m\u001b[0maxis\u001b[0m\u001b[0;34m,\u001b[0m \u001b[0mcls\u001b[0m\u001b[0;34m)\u001b[0m\u001b[0;34m)\u001b[0m\u001b[0;34m\u001b[0m\u001b[0;34m\u001b[0m\u001b[0m\n\u001b[0m\u001b[1;32m    412\u001b[0m \u001b[0;34m\u001b[0m\u001b[0m\n\u001b[1;32m    413\u001b[0m     \u001b[0;34m@\u001b[0m\u001b[0mclassmethod\u001b[0m\u001b[0;34m\u001b[0m\u001b[0;34m\u001b[0m\u001b[0m\n",
        "\u001b[0;31mValueError\u001b[0m: No axis named 2 for object type <class 'pandas.core.frame.DataFrame'>"
       ]
      }
     ],
     "persistentId": "39812504-4905-4629-bb31-330706334135",
     "text": "base_folder = '/home/olga/ibm_lg/kmer-hashing/brawand2011/nfcore-rnaseq'\nglobber = f'{base_folder}/*/*/rseqc/read_distribution/*'\n\nseriess = []\n\nfor filename in glob.iglob(globber):\n    series = parse_rseqc_read_distribution(filename)\n    seriess.append(series)\nrseqc_read_distributions = pd.concat(seriess, axis=2)\nprint(rseqc_read_distributions.shape)\nrseqc_read_distributions.head()"
    },
    "executionTime": "2019-12-08T21:26:44.330Z"
   },
   {
    "cell": {
     "executionCount": 22,
     "executionEventId": "1e796f41-cecf-46a8-83d6-4df6bb7d2e36",
     "hasError": false,
     "id": "99b956e1-6432-4c57-ad3a-b2498a481050",
     "outputs": [
      {
       "name": "stdout",
       "output_type": "stream",
       "text": "(1575,)\n"
      },
      {
       "data": {
        "text/plain": "total_reads              21292867.0\ntotal_tags               25258488.0\ntotal_assigned_tags      24387237.0\ncds_exons_total_bases    97553390.0\ncds_exons_tag_count      19675431.0\ndtype: float64"
       },
       "execution_count": 22,
       "metadata": {},
       "output_type": "execute_result"
      }
     ],
     "persistentId": "39812504-4905-4629-bb31-330706334135",
     "text": "base_folder = '/home/olga/ibm_lg/kmer-hashing/brawand2011/nfcore-rnaseq'\nglobber = f'{base_folder}/*/*/rseqc/read_distribution/*'\n\nseriess = []\n\nfor filename in glob.iglob(globber):\n    series = parse_rseqc_read_distribution(filename)\n    seriess.append(series)\nrseqc_read_distributions = pd.concat(seriess, axis=0)\nprint(rseqc_read_distributions.shape)\nrseqc_read_distributions.head()"
    },
    "executionTime": "2019-12-08T21:26:49.300Z"
   },
   {
    "cell": {
     "executionCount": 23,
     "executionEventId": "f5930c5e-f40c-4779-a589-ee0a91b7cd50",
     "hasError": false,
     "id": "99b956e1-6432-4c57-ad3a-b2498a481050",
     "outputs": [
      {
       "name": "stdout",
       "output_type": "stream",
       "text": "(45, 35)\n"
      },
      {
       "data": {
        "text/html": "<div>\n<style scoped>\n    .dataframe tbody tr th:only-of-type {\n        vertical-align: middle;\n    }\n\n    .dataframe tbody tr th {\n        vertical-align: top;\n    }\n\n    .dataframe thead th {\n        text-align: right;\n    }\n</style>\n<table border=\"1\" class=\"dataframe\">\n  <thead>\n    <tr style=\"text-align: right;\">\n      <th></th>\n      <th>SRR306850_GSM752701_hsa_ht_M_2</th>\n      <th>SRR306846_GSM752698_hsa_cb_M_1</th>\n      <th>SRR306838_GSM752691_hsa_br_F_1</th>\n      <th>SRR306856_GSM752706_hsa_lv_M_2</th>\n      <th>SRR306844_GSM752697_hsa_cb_F_1</th>\n      <th>SRR306855_GSM752705_hsa_lv_M_1</th>\n      <th>SRR306854_GSM752705_hsa_lv_M_1</th>\n      <th>SRR306849_GSM752700_hsa_ht_M_1</th>\n      <th>SRR306848_GSM752700_hsa_ht_M_1</th>\n      <th>SRR306847_GSM752699_hsa_ht_F_1</th>\n      <th>...</th>\n      <th>SRR306817_GSM752670_ptr_cb_F_1</th>\n      <th>SRR306822_GSM752675_ptr_kd_M_1</th>\n      <th>SRR306819_GSM752672_ptr_ht_F_1</th>\n      <th>SRR306824_GSM752677_ptr_lv_M_1</th>\n      <th>SRR306823_GSM752676_ptr_lv_F_1</th>\n      <th>SRR306814_GSM752667_ptr_br_M_3_1</th>\n      <th>SRR306812_GSM752665_ptr_br_M_1_1</th>\n      <th>SRR306815_GSM752668_ptr_br_M_4_1</th>\n      <th>SRR306813_GSM752666_ptr_br_M_2_1</th>\n      <th>SRR306816_GSM752669_ptr_br_M_5_1</th>\n    </tr>\n  </thead>\n  <tbody>\n    <tr>\n      <th>total_reads</th>\n      <td>21292867.0</td>\n      <td>15800648.0</td>\n      <td>780690.0</td>\n      <td>20479674.0</td>\n      <td>26696068.0</td>\n      <td>21960165.0</td>\n      <td>4522780.0</td>\n      <td>14274919.0</td>\n      <td>6943569.0</td>\n      <td>390128.0</td>\n      <td>...</td>\n      <td>27246489.0</td>\n      <td>29722024.0</td>\n      <td>24714477.0</td>\n      <td>15744700.0</td>\n      <td>26026781.0</td>\n      <td>26933053.0</td>\n      <td>24913447.0</td>\n      <td>35594647.0</td>\n      <td>33350847.0</td>\n      <td>37515753.0</td>\n    </tr>\n    <tr>\n      <th>total_tags</th>\n      <td>25258488.0</td>\n      <td>18379213.0</td>\n      <td>889131.0</td>\n      <td>25412159.0</td>\n      <td>30804199.0</td>\n      <td>26848271.0</td>\n      <td>5069567.0</td>\n      <td>16907263.0</td>\n      <td>7641330.0</td>\n      <td>430498.0</td>\n      <td>...</td>\n      <td>31600292.0</td>\n      <td>35132350.0</td>\n      <td>28916366.0</td>\n      <td>18519871.0</td>\n      <td>31855532.0</td>\n      <td>30082726.0</td>\n      <td>29551717.0</td>\n      <td>41357406.0</td>\n      <td>37602688.0</td>\n      <td>42862950.0</td>\n    </tr>\n    <tr>\n      <th>total_assigned_tags</th>\n      <td>24387237.0</td>\n      <td>17615565.0</td>\n      <td>867476.0</td>\n      <td>24423554.0</td>\n      <td>29400439.0</td>\n      <td>25799169.0</td>\n      <td>4838211.0</td>\n      <td>15884800.0</td>\n      <td>7188113.0</td>\n      <td>419659.0</td>\n      <td>...</td>\n      <td>28240264.0</td>\n      <td>30159330.0</td>\n      <td>20369581.0</td>\n      <td>16915818.0</td>\n      <td>28848671.0</td>\n      <td>25291135.0</td>\n      <td>26487619.0</td>\n      <td>34750637.0</td>\n      <td>28242231.0</td>\n      <td>35649383.0</td>\n    </tr>\n    <tr>\n      <th>cds_exons_total_bases</th>\n      <td>97553390.0</td>\n      <td>97553390.0</td>\n      <td>97553390.0</td>\n      <td>97553390.0</td>\n      <td>97553390.0</td>\n      <td>97553390.0</td>\n      <td>97553390.0</td>\n      <td>97553390.0</td>\n      <td>97553390.0</td>\n      <td>97553390.0</td>\n      <td>...</td>\n      <td>88085127.0</td>\n      <td>88085127.0</td>\n      <td>88085127.0</td>\n      <td>88085127.0</td>\n      <td>88085127.0</td>\n      <td>88085127.0</td>\n      <td>88085127.0</td>\n      <td>88085127.0</td>\n      <td>88085127.0</td>\n      <td>88085127.0</td>\n    </tr>\n    <tr>\n      <th>cds_exons_tag_count</th>\n      <td>19675431.0</td>\n      <td>12662565.0</td>\n      <td>537910.0</td>\n      <td>20272780.0</td>\n      <td>20372273.0</td>\n      <td>21789234.0</td>\n      <td>3933657.0</td>\n      <td>13048919.0</td>\n      <td>5788876.0</td>\n      <td>317984.0</td>\n      <td>...</td>\n      <td>17570802.0</td>\n      <td>20052865.0</td>\n      <td>12250965.0</td>\n      <td>12669126.0</td>\n      <td>21123331.0</td>\n      <td>14354765.0</td>\n      <td>16938645.0</td>\n      <td>20940732.0</td>\n      <td>15607917.0</td>\n      <td>21285159.0</td>\n    </tr>\n  </tbody>\n</table>\n<p>5 rows × 35 columns</p>\n</div>",
        "text/plain": "                       SRR306850_GSM752701_hsa_ht_M_2  \\\ntotal_reads                                21292867.0   \ntotal_tags                                 25258488.0   \ntotal_assigned_tags                        24387237.0   \ncds_exons_total_bases                      97553390.0   \ncds_exons_tag_count                        19675431.0   \n\n                       SRR306846_GSM752698_hsa_cb_M_1  \\\ntotal_reads                                15800648.0   \ntotal_tags                                 18379213.0   \ntotal_assigned_tags                        17615565.0   \ncds_exons_total_bases                      97553390.0   \ncds_exons_tag_count                        12662565.0   \n\n                       SRR306838_GSM752691_hsa_br_F_1  \\\ntotal_reads                                  780690.0   \ntotal_tags                                   889131.0   \ntotal_assigned_tags                          867476.0   \ncds_exons_total_bases                      97553390.0   \ncds_exons_tag_count                          537910.0   \n\n                       SRR306856_GSM752706_hsa_lv_M_2  \\\ntotal_reads                                20479674.0   \ntotal_tags                                 25412159.0   \ntotal_assigned_tags                        24423554.0   \ncds_exons_total_bases                      97553390.0   \ncds_exons_tag_count                        20272780.0   \n\n                       SRR306844_GSM752697_hsa_cb_F_1  \\\ntotal_reads                                26696068.0   \ntotal_tags                                 30804199.0   \ntotal_assigned_tags                        29400439.0   \ncds_exons_total_bases                      97553390.0   \ncds_exons_tag_count                        20372273.0   \n\n                       SRR306855_GSM752705_hsa_lv_M_1  \\\ntotal_reads                                21960165.0   \ntotal_tags                                 26848271.0   \ntotal_assigned_tags                        25799169.0   \ncds_exons_total_bases                      97553390.0   \ncds_exons_tag_count                        21789234.0   \n\n                       SRR306854_GSM752705_hsa_lv_M_1  \\\ntotal_reads                                 4522780.0   \ntotal_tags                                  5069567.0   \ntotal_assigned_tags                         4838211.0   \ncds_exons_total_bases                      97553390.0   \ncds_exons_tag_count                         3933657.0   \n\n                       SRR306849_GSM752700_hsa_ht_M_1  \\\ntotal_reads                                14274919.0   \ntotal_tags                                 16907263.0   \ntotal_assigned_tags                        15884800.0   \ncds_exons_total_bases                      97553390.0   \ncds_exons_tag_count                        13048919.0   \n\n                       SRR306848_GSM752700_hsa_ht_M_1  \\\ntotal_reads                                 6943569.0   \ntotal_tags                                  7641330.0   \ntotal_assigned_tags                         7188113.0   \ncds_exons_total_bases                      97553390.0   \ncds_exons_tag_count                         5788876.0   \n\n                       SRR306847_GSM752699_hsa_ht_F_1  ...  \\\ntotal_reads                                  390128.0  ...   \ntotal_tags                                   430498.0  ...   \ntotal_assigned_tags                          419659.0  ...   \ncds_exons_total_bases                      97553390.0  ...   \ncds_exons_tag_count                          317984.0  ...   \n\n                       SRR306817_GSM752670_ptr_cb_F_1  \\\ntotal_reads                                27246489.0   \ntotal_tags                                 31600292.0   \ntotal_assigned_tags                        28240264.0   \ncds_exons_total_bases                      88085127.0   \ncds_exons_tag_count                        17570802.0   \n\n                       SRR306822_GSM752675_ptr_kd_M_1  \\\ntotal_reads                                29722024.0   \ntotal_tags                                 35132350.0   \ntotal_assigned_tags                        30159330.0   \ncds_exons_total_bases                      88085127.0   \ncds_exons_tag_count                        20052865.0   \n\n                       SRR306819_GSM752672_ptr_ht_F_1  \\\ntotal_reads                                24714477.0   \ntotal_tags                                 28916366.0   \ntotal_assigned_tags                        20369581.0   \ncds_exons_total_bases                      88085127.0   \ncds_exons_tag_count                        12250965.0   \n\n                       SRR306824_GSM752677_ptr_lv_M_1  \\\ntotal_reads                                15744700.0   \ntotal_tags                                 18519871.0   \ntotal_assigned_tags                        16915818.0   \ncds_exons_total_bases                      88085127.0   \ncds_exons_tag_count                        12669126.0   \n\n                       SRR306823_GSM752676_ptr_lv_F_1  \\\ntotal_reads                                26026781.0   \ntotal_tags                                 31855532.0   \ntotal_assigned_tags                        28848671.0   \ncds_exons_total_bases                      88085127.0   \ncds_exons_tag_count                        21123331.0   \n\n                       SRR306814_GSM752667_ptr_br_M_3_1  \\\ntotal_reads                                  26933053.0   \ntotal_tags                                   30082726.0   \ntotal_assigned_tags                          25291135.0   \ncds_exons_total_bases                        88085127.0   \ncds_exons_tag_count                          14354765.0   \n\n                       SRR306812_GSM752665_ptr_br_M_1_1  \\\ntotal_reads                                  24913447.0   \ntotal_tags                                   29551717.0   \ntotal_assigned_tags                          26487619.0   \ncds_exons_total_bases                        88085127.0   \ncds_exons_tag_count                          16938645.0   \n\n                       SRR306815_GSM752668_ptr_br_M_4_1  \\\ntotal_reads                                  35594647.0   \ntotal_tags                                   41357406.0   \ntotal_assigned_tags                          34750637.0   \ncds_exons_total_bases                        88085127.0   \ncds_exons_tag_count                          20940732.0   \n\n                       SRR306813_GSM752666_ptr_br_M_2_1  \\\ntotal_reads                                  33350847.0   \ntotal_tags                                   37602688.0   \ntotal_assigned_tags                          28242231.0   \ncds_exons_total_bases                        88085127.0   \ncds_exons_tag_count                          15607917.0   \n\n                       SRR306816_GSM752669_ptr_br_M_5_1  \ntotal_reads                                  37515753.0  \ntotal_tags                                   42862950.0  \ntotal_assigned_tags                          35649383.0  \ncds_exons_total_bases                        88085127.0  \ncds_exons_tag_count                          21285159.0  \n\n[5 rows x 35 columns]"
       },
       "execution_count": 23,
       "metadata": {},
       "output_type": "execute_result"
      }
     ],
     "persistentId": "39812504-4905-4629-bb31-330706334135",
     "text": "base_folder = '/home/olga/ibm_lg/kmer-hashing/brawand2011/nfcore-rnaseq'\nglobber = f'{base_folder}/*/*/rseqc/read_distribution/*'\n\nseriess = []\n\nfor filename in glob.iglob(globber):\n    series = parse_rseqc_read_distribution(filename)\n    seriess.append(series)\nrseqc_read_distributions = pd.concat(seriess, axis=1)\nprint(rseqc_read_distributions.shape)\nrseqc_read_distributions.head()"
    },
    "executionTime": "2019-12-08T21:26:52.310Z"
   },
   {
    "cell": {
     "executionCount": 24,
     "executionEventId": "4c7aea2e-11ff-4c6d-825e-9dc9dd00d80b",
     "hasError": false,
     "id": "99b956e1-6432-4c57-ad3a-b2498a481050",
     "outputs": [
      {
       "name": "stdout",
       "output_type": "stream",
       "text": "(35, 45)\n"
      },
      {
       "data": {
        "text/html": "<div>\n<style scoped>\n    .dataframe tbody tr th:only-of-type {\n        vertical-align: middle;\n    }\n\n    .dataframe tbody tr th {\n        vertical-align: top;\n    }\n\n    .dataframe thead th {\n        text-align: right;\n    }\n</style>\n<table border=\"1\" class=\"dataframe\">\n  <thead>\n    <tr style=\"text-align: right;\">\n      <th></th>\n      <th>total_reads</th>\n      <th>total_tags</th>\n      <th>total_assigned_tags</th>\n      <th>cds_exons_total_bases</th>\n      <th>cds_exons_tag_count</th>\n      <th>cds_exons_tags_kb</th>\n      <th>5_utr_exons_total_bases</th>\n      <th>5_utr_exons_tag_count</th>\n      <th>5_utr_exons_tags_kb</th>\n      <th>3_utr_exons_total_bases</th>\n      <th>...</th>\n      <th>5_utr_exons_tag_pct</th>\n      <th>3_utr_exons_tag_pct</th>\n      <th>introns_tag_pct</th>\n      <th>tss_up_1kb_tag_pct</th>\n      <th>tss_up_5kb_tag_pct</th>\n      <th>tss_up_10kb_tag_pct</th>\n      <th>tes_down_1kb_tag_pct</th>\n      <th>tes_down_5kb_tag_pct</th>\n      <th>tes_down_10kb_tag_pct</th>\n      <th>other_intergenic_tag_pct</th>\n    </tr>\n  </thead>\n  <tbody>\n    <tr>\n      <th>SRR306850_GSM752701_hsa_ht_M_2</th>\n      <td>21292867.0</td>\n      <td>25258488.0</td>\n      <td>24387237.0</td>\n      <td>97553390.0</td>\n      <td>19675431.0</td>\n      <td>201.69</td>\n      <td>6708876.0</td>\n      <td>376547.0</td>\n      <td>56.13</td>\n      <td>32534150.0</td>\n      <td>...</td>\n      <td>1.490774</td>\n      <td>11.312506</td>\n      <td>5.375496</td>\n      <td>0.079280</td>\n      <td>0.133900</td>\n      <td>0.165841</td>\n      <td>0.118602</td>\n      <td>0.252719</td>\n      <td>0.309730</td>\n      <td>3.449339</td>\n    </tr>\n    <tr>\n      <th>SRR306846_GSM752698_hsa_cb_M_1</th>\n      <td>15800648.0</td>\n      <td>18379213.0</td>\n      <td>17615565.0</td>\n      <td>97553390.0</td>\n      <td>12662565.0</td>\n      <td>129.80</td>\n      <td>6708876.0</td>\n      <td>196081.0</td>\n      <td>29.23</td>\n      <td>32534150.0</td>\n      <td>...</td>\n      <td>1.066863</td>\n      <td>15.304480</td>\n      <td>9.503900</td>\n      <td>0.103867</td>\n      <td>0.230325</td>\n      <td>0.325966</td>\n      <td>0.218132</td>\n      <td>0.578784</td>\n      <td>0.747714</td>\n      <td>4.154955</td>\n    </tr>\n    <tr>\n      <th>SRR306838_GSM752691_hsa_br_F_1</th>\n      <td>780690.0</td>\n      <td>889131.0</td>\n      <td>867476.0</td>\n      <td>97553390.0</td>\n      <td>537910.0</td>\n      <td>5.51</td>\n      <td>6708876.0</td>\n      <td>4158.0</td>\n      <td>0.62</td>\n      <td>32534150.0</td>\n      <td>...</td>\n      <td>0.467648</td>\n      <td>26.638932</td>\n      <td>8.776997</td>\n      <td>0.058821</td>\n      <td>0.188049</td>\n      <td>0.274425</td>\n      <td>0.299169</td>\n      <td>0.725877</td>\n      <td>0.908078</td>\n      <td>2.435524</td>\n    </tr>\n    <tr>\n      <th>SRR306856_GSM752706_hsa_lv_M_2</th>\n      <td>20479674.0</td>\n      <td>25412159.0</td>\n      <td>24423554.0</td>\n      <td>97553390.0</td>\n      <td>20272780.0</td>\n      <td>207.81</td>\n      <td>6708876.0</td>\n      <td>244771.0</td>\n      <td>36.48</td>\n      <td>32534150.0</td>\n      <td>...</td>\n      <td>0.963204</td>\n      <td>8.959223</td>\n      <td>5.672659</td>\n      <td>0.069628</td>\n      <td>0.152541</td>\n      <td>0.290511</td>\n      <td>0.170481</td>\n      <td>0.361547</td>\n      <td>0.448215</td>\n      <td>3.890283</td>\n    </tr>\n    <tr>\n      <th>SRR306844_GSM752697_hsa_cb_F_1</th>\n      <td>26696068.0</td>\n      <td>30804199.0</td>\n      <td>29400439.0</td>\n      <td>97553390.0</td>\n      <td>20372273.0</td>\n      <td>208.83</td>\n      <td>6708876.0</td>\n      <td>514939.0</td>\n      <td>76.75</td>\n      <td>32534150.0</td>\n      <td>...</td>\n      <td>1.671652</td>\n      <td>12.543702</td>\n      <td>13.763228</td>\n      <td>0.142536</td>\n      <td>0.290792</td>\n      <td>0.399877</td>\n      <td>0.244973</td>\n      <td>0.686747</td>\n      <td>0.929773</td>\n      <td>4.557041</td>\n    </tr>\n  </tbody>\n</table>\n<p>5 rows × 45 columns</p>\n</div>",
        "text/plain": "                                total_reads  total_tags  total_assigned_tags  \\\nSRR306850_GSM752701_hsa_ht_M_2   21292867.0  25258488.0           24387237.0   \nSRR306846_GSM752698_hsa_cb_M_1   15800648.0  18379213.0           17615565.0   \nSRR306838_GSM752691_hsa_br_F_1     780690.0    889131.0             867476.0   \nSRR306856_GSM752706_hsa_lv_M_2   20479674.0  25412159.0           24423554.0   \nSRR306844_GSM752697_hsa_cb_F_1   26696068.0  30804199.0           29400439.0   \n\n                                cds_exons_total_bases  cds_exons_tag_count  \\\nSRR306850_GSM752701_hsa_ht_M_2             97553390.0           19675431.0   \nSRR306846_GSM752698_hsa_cb_M_1             97553390.0           12662565.0   \nSRR306838_GSM752691_hsa_br_F_1             97553390.0             537910.0   \nSRR306856_GSM752706_hsa_lv_M_2             97553390.0           20272780.0   \nSRR306844_GSM752697_hsa_cb_F_1             97553390.0           20372273.0   \n\n                                cds_exons_tags_kb  5_utr_exons_total_bases  \\\nSRR306850_GSM752701_hsa_ht_M_2             201.69                6708876.0   \nSRR306846_GSM752698_hsa_cb_M_1             129.80                6708876.0   \nSRR306838_GSM752691_hsa_br_F_1               5.51                6708876.0   \nSRR306856_GSM752706_hsa_lv_M_2             207.81                6708876.0   \nSRR306844_GSM752697_hsa_cb_F_1             208.83                6708876.0   \n\n                                5_utr_exons_tag_count  5_utr_exons_tags_kb  \\\nSRR306850_GSM752701_hsa_ht_M_2               376547.0                56.13   \nSRR306846_GSM752698_hsa_cb_M_1               196081.0                29.23   \nSRR306838_GSM752691_hsa_br_F_1                 4158.0                 0.62   \nSRR306856_GSM752706_hsa_lv_M_2               244771.0                36.48   \nSRR306844_GSM752697_hsa_cb_F_1               514939.0                76.75   \n\n                                3_utr_exons_total_bases  ...  \\\nSRR306850_GSM752701_hsa_ht_M_2               32534150.0  ...   \nSRR306846_GSM752698_hsa_cb_M_1               32534150.0  ...   \nSRR306838_GSM752691_hsa_br_F_1               32534150.0  ...   \nSRR306856_GSM752706_hsa_lv_M_2               32534150.0  ...   \nSRR306844_GSM752697_hsa_cb_F_1               32534150.0  ...   \n\n                                5_utr_exons_tag_pct  3_utr_exons_tag_pct  \\\nSRR306850_GSM752701_hsa_ht_M_2             1.490774            11.312506   \nSRR306846_GSM752698_hsa_cb_M_1             1.066863            15.304480   \nSRR306838_GSM752691_hsa_br_F_1             0.467648            26.638932   \nSRR306856_GSM752706_hsa_lv_M_2             0.963204             8.959223   \nSRR306844_GSM752697_hsa_cb_F_1             1.671652            12.543702   \n\n                                introns_tag_pct  tss_up_1kb_tag_pct  \\\nSRR306850_GSM752701_hsa_ht_M_2         5.375496            0.079280   \nSRR306846_GSM752698_hsa_cb_M_1         9.503900            0.103867   \nSRR306838_GSM752691_hsa_br_F_1         8.776997            0.058821   \nSRR306856_GSM752706_hsa_lv_M_2         5.672659            0.069628   \nSRR306844_GSM752697_hsa_cb_F_1        13.763228            0.142536   \n\n                                tss_up_5kb_tag_pct  tss_up_10kb_tag_pct  \\\nSRR306850_GSM752701_hsa_ht_M_2            0.133900             0.165841   \nSRR306846_GSM752698_hsa_cb_M_1            0.230325             0.325966   \nSRR306838_GSM752691_hsa_br_F_1            0.188049             0.274425   \nSRR306856_GSM752706_hsa_lv_M_2            0.152541             0.290511   \nSRR306844_GSM752697_hsa_cb_F_1            0.290792             0.399877   \n\n                                tes_down_1kb_tag_pct  tes_down_5kb_tag_pct  \\\nSRR306850_GSM752701_hsa_ht_M_2              0.118602              0.252719   \nSRR306846_GSM752698_hsa_cb_M_1              0.218132              0.578784   \nSRR306838_GSM752691_hsa_br_F_1              0.299169              0.725877   \nSRR306856_GSM752706_hsa_lv_M_2              0.170481              0.361547   \nSRR306844_GSM752697_hsa_cb_F_1              0.244973              0.686747   \n\n                                tes_down_10kb_tag_pct  \\\nSRR306850_GSM752701_hsa_ht_M_2               0.309730   \nSRR306846_GSM752698_hsa_cb_M_1               0.747714   \nSRR306838_GSM752691_hsa_br_F_1               0.908078   \nSRR306856_GSM752706_hsa_lv_M_2               0.448215   \nSRR306844_GSM752697_hsa_cb_F_1               0.929773   \n\n                                other_intergenic_tag_pct  \nSRR306850_GSM752701_hsa_ht_M_2                  3.449339  \nSRR306846_GSM752698_hsa_cb_M_1                  4.154955  \nSRR306838_GSM752691_hsa_br_F_1                  2.435524  \nSRR306856_GSM752706_hsa_lv_M_2                  3.890283  \nSRR306844_GSM752697_hsa_cb_F_1                  4.557041  \n\n[5 rows x 45 columns]"
       },
       "execution_count": 24,
       "metadata": {},
       "output_type": "execute_result"
      }
     ],
     "persistentId": "39812504-4905-4629-bb31-330706334135",
     "text": "base_folder = '/home/olga/ibm_lg/kmer-hashing/brawand2011/nfcore-rnaseq'\nglobber = f'{base_folder}/*/*/rseqc/read_distribution/*'\n\nseriess = []\n\nfor filename in glob.iglob(globber):\n    series = parse_rseqc_read_distribution(filename)\n    seriess.append(series)\nrseqc_read_distributions = pd.concat(seriess, axis=1).T\nprint(rseqc_read_distributions.shape)\nrseqc_read_distributions.head()"
    },
    "executionTime": "2019-12-08T21:26:54.451Z"
   },
   {
    "cell": {
     "executionCount": 25,
     "executionEventId": "63ac9df8-eff0-4269-899b-2e19fc7f6944",
     "hasError": false,
     "id": "99b956e1-6432-4c57-ad3a-b2498a481050",
     "outputs": [
      {
       "name": "stdout",
       "output_type": "stream",
       "text": "(45, 1)\n"
      },
      {
       "data": {
        "text/html": "<div>\n<style scoped>\n    .dataframe tbody tr th:only-of-type {\n        vertical-align: middle;\n    }\n\n    .dataframe tbody tr th {\n        vertical-align: top;\n    }\n\n    .dataframe thead th {\n        text-align: right;\n    }\n</style>\n<table border=\"1\" class=\"dataframe\">\n  <thead>\n    <tr style=\"text-align: right;\">\n      <th></th>\n      <th>SRR306816_GSM752669_ptr_br_M_5_1</th>\n    </tr>\n  </thead>\n  <tbody>\n    <tr>\n      <th>total_reads</th>\n      <td>37515753.0</td>\n    </tr>\n    <tr>\n      <th>total_tags</th>\n      <td>42862950.0</td>\n    </tr>\n    <tr>\n      <th>total_assigned_tags</th>\n      <td>35649383.0</td>\n    </tr>\n    <tr>\n      <th>cds_exons_total_bases</th>\n      <td>88085127.0</td>\n    </tr>\n    <tr>\n      <th>cds_exons_tag_count</th>\n      <td>21285159.0</td>\n    </tr>\n  </tbody>\n</table>\n</div>",
        "text/plain": "                       SRR306816_GSM752669_ptr_br_M_5_1\ntotal_reads                                  37515753.0\ntotal_tags                                   42862950.0\ntotal_assigned_tags                          35649383.0\ncds_exons_total_bases                        88085127.0\ncds_exons_tag_count                          21285159.0"
       },
       "execution_count": 25,
       "metadata": {},
       "output_type": "execute_result"
      }
     ],
     "persistentId": "39812504-4905-4629-bb31-330706334135",
     "text": "base_folder = '/home/olga/ibm_lg/kmer-hashing/brawand2011/nfcore-rnaseq'\nglobber = f'{base_folder}/*/*/rseqc/read_distribution/*'\n\nseriess = []\n\nfor filename in glob.iglob(globber):\n    series = parse_rseqc_read_distribution(filename)\n    seriess.append(series)\nrseqc_read_distributions = pd.DataFrame(series)\nprint(rseqc_read_distributions.shape)\nrseqc_read_distributions.head()"
    },
    "executionTime": "2019-12-08T21:27:07.150Z"
   },
   {
    "cell": {
     "executionCount": 26,
     "executionEventId": "45d25717-881d-4187-b2a8-2c9d81555aba",
     "hasError": false,
     "id": "99b956e1-6432-4c57-ad3a-b2498a481050",
     "outputs": [
      {
       "name": "stdout",
       "output_type": "stream",
       "text": "(35, 45)\n"
      },
      {
       "data": {
        "text/html": "<div>\n<style scoped>\n    .dataframe tbody tr th:only-of-type {\n        vertical-align: middle;\n    }\n\n    .dataframe tbody tr th {\n        vertical-align: top;\n    }\n\n    .dataframe thead th {\n        text-align: right;\n    }\n</style>\n<table border=\"1\" class=\"dataframe\">\n  <thead>\n    <tr style=\"text-align: right;\">\n      <th></th>\n      <th>total_reads</th>\n      <th>total_tags</th>\n      <th>total_assigned_tags</th>\n      <th>cds_exons_total_bases</th>\n      <th>cds_exons_tag_count</th>\n      <th>cds_exons_tags_kb</th>\n      <th>5_utr_exons_total_bases</th>\n      <th>5_utr_exons_tag_count</th>\n      <th>5_utr_exons_tags_kb</th>\n      <th>3_utr_exons_total_bases</th>\n      <th>...</th>\n      <th>5_utr_exons_tag_pct</th>\n      <th>3_utr_exons_tag_pct</th>\n      <th>introns_tag_pct</th>\n      <th>tss_up_1kb_tag_pct</th>\n      <th>tss_up_5kb_tag_pct</th>\n      <th>tss_up_10kb_tag_pct</th>\n      <th>tes_down_1kb_tag_pct</th>\n      <th>tes_down_5kb_tag_pct</th>\n      <th>tes_down_10kb_tag_pct</th>\n      <th>other_intergenic_tag_pct</th>\n    </tr>\n  </thead>\n  <tbody>\n    <tr>\n      <th>SRR306850_GSM752701_hsa_ht_M_2</th>\n      <td>21292867.0</td>\n      <td>25258488.0</td>\n      <td>24387237.0</td>\n      <td>97553390.0</td>\n      <td>19675431.0</td>\n      <td>201.69</td>\n      <td>6708876.0</td>\n      <td>376547.0</td>\n      <td>56.13</td>\n      <td>32534150.0</td>\n      <td>...</td>\n      <td>1.490774</td>\n      <td>11.312506</td>\n      <td>5.375496</td>\n      <td>0.079280</td>\n      <td>0.133900</td>\n      <td>0.165841</td>\n      <td>0.118602</td>\n      <td>0.252719</td>\n      <td>0.309730</td>\n      <td>3.449339</td>\n    </tr>\n    <tr>\n      <th>SRR306846_GSM752698_hsa_cb_M_1</th>\n      <td>15800648.0</td>\n      <td>18379213.0</td>\n      <td>17615565.0</td>\n      <td>97553390.0</td>\n      <td>12662565.0</td>\n      <td>129.80</td>\n      <td>6708876.0</td>\n      <td>196081.0</td>\n      <td>29.23</td>\n      <td>32534150.0</td>\n      <td>...</td>\n      <td>1.066863</td>\n      <td>15.304480</td>\n      <td>9.503900</td>\n      <td>0.103867</td>\n      <td>0.230325</td>\n      <td>0.325966</td>\n      <td>0.218132</td>\n      <td>0.578784</td>\n      <td>0.747714</td>\n      <td>4.154955</td>\n    </tr>\n    <tr>\n      <th>SRR306838_GSM752691_hsa_br_F_1</th>\n      <td>780690.0</td>\n      <td>889131.0</td>\n      <td>867476.0</td>\n      <td>97553390.0</td>\n      <td>537910.0</td>\n      <td>5.51</td>\n      <td>6708876.0</td>\n      <td>4158.0</td>\n      <td>0.62</td>\n      <td>32534150.0</td>\n      <td>...</td>\n      <td>0.467648</td>\n      <td>26.638932</td>\n      <td>8.776997</td>\n      <td>0.058821</td>\n      <td>0.188049</td>\n      <td>0.274425</td>\n      <td>0.299169</td>\n      <td>0.725877</td>\n      <td>0.908078</td>\n      <td>2.435524</td>\n    </tr>\n    <tr>\n      <th>SRR306856_GSM752706_hsa_lv_M_2</th>\n      <td>20479674.0</td>\n      <td>25412159.0</td>\n      <td>24423554.0</td>\n      <td>97553390.0</td>\n      <td>20272780.0</td>\n      <td>207.81</td>\n      <td>6708876.0</td>\n      <td>244771.0</td>\n      <td>36.48</td>\n      <td>32534150.0</td>\n      <td>...</td>\n      <td>0.963204</td>\n      <td>8.959223</td>\n      <td>5.672659</td>\n      <td>0.069628</td>\n      <td>0.152541</td>\n      <td>0.290511</td>\n      <td>0.170481</td>\n      <td>0.361547</td>\n      <td>0.448215</td>\n      <td>3.890283</td>\n    </tr>\n    <tr>\n      <th>SRR306844_GSM752697_hsa_cb_F_1</th>\n      <td>26696068.0</td>\n      <td>30804199.0</td>\n      <td>29400439.0</td>\n      <td>97553390.0</td>\n      <td>20372273.0</td>\n      <td>208.83</td>\n      <td>6708876.0</td>\n      <td>514939.0</td>\n      <td>76.75</td>\n      <td>32534150.0</td>\n      <td>...</td>\n      <td>1.671652</td>\n      <td>12.543702</td>\n      <td>13.763228</td>\n      <td>0.142536</td>\n      <td>0.290792</td>\n      <td>0.399877</td>\n      <td>0.244973</td>\n      <td>0.686747</td>\n      <td>0.929773</td>\n      <td>4.557041</td>\n    </tr>\n  </tbody>\n</table>\n<p>5 rows × 45 columns</p>\n</div>",
        "text/plain": "                                total_reads  total_tags  total_assigned_tags  \\\nSRR306850_GSM752701_hsa_ht_M_2   21292867.0  25258488.0           24387237.0   \nSRR306846_GSM752698_hsa_cb_M_1   15800648.0  18379213.0           17615565.0   \nSRR306838_GSM752691_hsa_br_F_1     780690.0    889131.0             867476.0   \nSRR306856_GSM752706_hsa_lv_M_2   20479674.0  25412159.0           24423554.0   \nSRR306844_GSM752697_hsa_cb_F_1   26696068.0  30804199.0           29400439.0   \n\n                                cds_exons_total_bases  cds_exons_tag_count  \\\nSRR306850_GSM752701_hsa_ht_M_2             97553390.0           19675431.0   \nSRR306846_GSM752698_hsa_cb_M_1             97553390.0           12662565.0   \nSRR306838_GSM752691_hsa_br_F_1             97553390.0             537910.0   \nSRR306856_GSM752706_hsa_lv_M_2             97553390.0           20272780.0   \nSRR306844_GSM752697_hsa_cb_F_1             97553390.0           20372273.0   \n\n                                cds_exons_tags_kb  5_utr_exons_total_bases  \\\nSRR306850_GSM752701_hsa_ht_M_2             201.69                6708876.0   \nSRR306846_GSM752698_hsa_cb_M_1             129.80                6708876.0   \nSRR306838_GSM752691_hsa_br_F_1               5.51                6708876.0   \nSRR306856_GSM752706_hsa_lv_M_2             207.81                6708876.0   \nSRR306844_GSM752697_hsa_cb_F_1             208.83                6708876.0   \n\n                                5_utr_exons_tag_count  5_utr_exons_tags_kb  \\\nSRR306850_GSM752701_hsa_ht_M_2               376547.0                56.13   \nSRR306846_GSM752698_hsa_cb_M_1               196081.0                29.23   \nSRR306838_GSM752691_hsa_br_F_1                 4158.0                 0.62   \nSRR306856_GSM752706_hsa_lv_M_2               244771.0                36.48   \nSRR306844_GSM752697_hsa_cb_F_1               514939.0                76.75   \n\n                                3_utr_exons_total_bases  ...  \\\nSRR306850_GSM752701_hsa_ht_M_2               32534150.0  ...   \nSRR306846_GSM752698_hsa_cb_M_1               32534150.0  ...   \nSRR306838_GSM752691_hsa_br_F_1               32534150.0  ...   \nSRR306856_GSM752706_hsa_lv_M_2               32534150.0  ...   \nSRR306844_GSM752697_hsa_cb_F_1               32534150.0  ...   \n\n                                5_utr_exons_tag_pct  3_utr_exons_tag_pct  \\\nSRR306850_GSM752701_hsa_ht_M_2             1.490774            11.312506   \nSRR306846_GSM752698_hsa_cb_M_1             1.066863            15.304480   \nSRR306838_GSM752691_hsa_br_F_1             0.467648            26.638932   \nSRR306856_GSM752706_hsa_lv_M_2             0.963204             8.959223   \nSRR306844_GSM752697_hsa_cb_F_1             1.671652            12.543702   \n\n                                introns_tag_pct  tss_up_1kb_tag_pct  \\\nSRR306850_GSM752701_hsa_ht_M_2         5.375496            0.079280   \nSRR306846_GSM752698_hsa_cb_M_1         9.503900            0.103867   \nSRR306838_GSM752691_hsa_br_F_1         8.776997            0.058821   \nSRR306856_GSM752706_hsa_lv_M_2         5.672659            0.069628   \nSRR306844_GSM752697_hsa_cb_F_1        13.763228            0.142536   \n\n                                tss_up_5kb_tag_pct  tss_up_10kb_tag_pct  \\\nSRR306850_GSM752701_hsa_ht_M_2            0.133900             0.165841   \nSRR306846_GSM752698_hsa_cb_M_1            0.230325             0.325966   \nSRR306838_GSM752691_hsa_br_F_1            0.188049             0.274425   \nSRR306856_GSM752706_hsa_lv_M_2            0.152541             0.290511   \nSRR306844_GSM752697_hsa_cb_F_1            0.290792             0.399877   \n\n                                tes_down_1kb_tag_pct  tes_down_5kb_tag_pct  \\\nSRR306850_GSM752701_hsa_ht_M_2              0.118602              0.252719   \nSRR306846_GSM752698_hsa_cb_M_1              0.218132              0.578784   \nSRR306838_GSM752691_hsa_br_F_1              0.299169              0.725877   \nSRR306856_GSM752706_hsa_lv_M_2              0.170481              0.361547   \nSRR306844_GSM752697_hsa_cb_F_1              0.244973              0.686747   \n\n                                tes_down_10kb_tag_pct  \\\nSRR306850_GSM752701_hsa_ht_M_2               0.309730   \nSRR306846_GSM752698_hsa_cb_M_1               0.747714   \nSRR306838_GSM752691_hsa_br_F_1               0.908078   \nSRR306856_GSM752706_hsa_lv_M_2               0.448215   \nSRR306844_GSM752697_hsa_cb_F_1               0.929773   \n\n                                other_intergenic_tag_pct  \nSRR306850_GSM752701_hsa_ht_M_2                  3.449339  \nSRR306846_GSM752698_hsa_cb_M_1                  4.154955  \nSRR306838_GSM752691_hsa_br_F_1                  2.435524  \nSRR306856_GSM752706_hsa_lv_M_2                  3.890283  \nSRR306844_GSM752697_hsa_cb_F_1                  4.557041  \n\n[5 rows x 45 columns]"
       },
       "execution_count": 26,
       "metadata": {},
       "output_type": "execute_result"
      }
     ],
     "persistentId": "39812504-4905-4629-bb31-330706334135",
     "text": "base_folder = '/home/olga/ibm_lg/kmer-hashing/brawand2011/nfcore-rnaseq'\nglobber = f'{base_folder}/*/*/rseqc/read_distribution/*'\n\nseriess = []\n\nfor filename in glob.iglob(globber):\n    series = parse_rseqc_read_distribution(filename)\n    seriess.append(series)\nrseqc_read_distributions = pd.DataFrame(seriess)\nprint(rseqc_read_distributions.shape)\nrseqc_read_distributions.head()"
    },
    "executionTime": "2019-12-08T21:27:09.260Z"
   },
   {
    "cell": {
     "executionCount": 27,
     "executionEventId": "f474a6a1-e82e-49a8-8a8b-d56915a96737",
     "hasError": false,
     "id": "77356fe3-be26-4f78-b591-45e69d1a92e1",
     "outputs": [
      {
       "data": {
        "text/plain": "SRR306850_GSM752701_hsa_ht_M_2      77.896314\nSRR306846_GSM752698_hsa_cb_M_1      68.896122\nSRR306838_GSM752691_hsa_br_F_1      60.498397\nSRR306856_GSM752706_hsa_lv_M_2      79.775906\nSRR306844_GSM752697_hsa_cb_F_1      66.134727\nSRR306855_GSM752705_hsa_lv_M_1      81.156936\nSRR306854_GSM752705_hsa_lv_M_1      77.593550\nSRR306849_GSM752700_hsa_ht_M_1      77.179370\nSRR306848_GSM752700_hsa_ht_M_1      75.757440\nSRR306847_GSM752699_hsa_ht_F_1      73.864222\nSRR306858_GSM752708_hsa_ts_M_2      75.306782\nSRR306843_GSM752696_hsa_br_M_5      70.749943\nSRR306845_GSM752698_hsa_cb_M_1      66.040348\nSRR306857_GSM752707_hsa_ts_M_1      78.315851\nSRR306851_GSM752702_hsa_kd_F_1      74.508421\nSRR306853_GSM752704_hsa_kd_M_2      74.493465\nSRR306841_GSM752694_hsa_br_M_2      67.432900\nSRR306839_GSM752692_hsa_br_M_3      74.759071\nSRR306842_GSM752695_hsa_br_M_4_1    68.541403\nSRR306840_GSM752693_hsa_br_M_1_1    66.386154\nSRR306818_GSM752671_ptr_cb_M_1      56.453531\nSRR306821_GSM752674_ptr_kd_F_1      58.334995\nSRR306825_GSM752678_ptr_ts_M_1      64.906057\nSRR306811_GSM752664_ptr_br_F_1      55.072935\nSRR306820_GSM752673_ptr_ht_M_1      44.986695\nSRR306817_GSM752670_ptr_cb_F_1      55.603290\nSRR306822_GSM752675_ptr_kd_M_1      57.078063\nSRR306819_GSM752672_ptr_ht_F_1      42.366890\nSRR306824_GSM752677_ptr_lv_M_1      68.408284\nSRR306823_GSM752676_ptr_lv_F_1      66.309773\nSRR306814_GSM752667_ptr_br_M_3_1    47.717634\nSRR306812_GSM752665_ptr_br_M_1_1    57.318649\nSRR306815_GSM752668_ptr_br_M_4_1    50.633572\nSRR306813_GSM752666_ptr_br_M_2_1    41.507450\nSRR306816_GSM752669_ptr_br_M_5_1    49.658642\nName: cds_exons_tag_pct, dtype: float64"
       },
       "execution_count": 27,
       "metadata": {},
       "output_type": "execute_result"
      }
     ],
     "persistentId": "2d249ae5-1be4-41cf-9a24-8c9384d03114",
     "text": "rseqc_read_distributions['cds_exons_tag_pct']"
    },
    "executionTime": "2019-12-08T21:29:06.184Z"
   },
   {
    "cell": {
     "executionCount": 28,
     "executionEventId": "c61b4ec5-74b4-4a26-a86b-c40b3195dae0",
     "hasError": false,
     "id": "78fbc1b0-f2cc-43d1-ac6f-bdfafeaa101a",
     "outputs": [
      {
       "name": "stdout",
       "output_type": "stream",
       "text": "(27, 17)\n"
      },
      {
       "data": {
        "text/html": "<div>\n<style scoped>\n    .dataframe tbody tr th:only-of-type {\n        vertical-align: middle;\n    }\n\n    .dataframe tbody tr th {\n        vertical-align: top;\n    }\n\n    .dataframe thead th {\n        text-align: right;\n    }\n</style>\n<table border=\"1\" class=\"dataframe\">\n  <thead>\n    <tr style=\"text-align: right;\">\n      <th></th>\n      <th>Non-coding</th>\n      <th>Coding</th>\n      <th>No translation frames without stop codons</th>\n      <th>All translations shorter than peptide k-mer size + 1</th>\n      <th>Read length was shorter than 3 * peptide k-mer size</th>\n      <th>Low complexity peptide in protein encoding</th>\n      <th>filename</th>\n      <th>sample_id</th>\n      <th>sra_id</th>\n      <th>geo_id</th>\n      <th>species_abbrev</th>\n      <th>tissue_abbrev</th>\n      <th>sex</th>\n      <th>replicate</th>\n      <th>species</th>\n      <th>tissue</th>\n      <th>cds_exons_tag_pct</th>\n    </tr>\n  </thead>\n  <tbody>\n    <tr>\n      <th>5</th>\n      <td>63.434188</td>\n      <td>31.277348</td>\n      <td>4.229160</td>\n      <td>1.007798</td>\n      <td>0.019810</td>\n      <td>0.031696</td>\n      <td>/home/olga/data_lg/kmer-hashing/brawand2011/km...</td>\n      <td>SRR306846_GSM752698_hsa_cb_M_1</td>\n      <td>SRR306846</td>\n      <td>GSM752698</td>\n      <td>hsa</td>\n      <td>cb</td>\n      <td>M</td>\n      <td>1</td>\n      <td>Human</td>\n      <td>Cerebellum</td>\n      <td>68.896122</td>\n    </tr>\n    <tr>\n      <th>7</th>\n      <td>56.017835</td>\n      <td>40.119855</td>\n      <td>2.909199</td>\n      <td>0.898754</td>\n      <td>0.022831</td>\n      <td>0.031526</td>\n      <td>/home/olga/data_lg/kmer-hashing/brawand2011/km...</td>\n      <td>SRR306849_GSM752700_hsa_ht_M_1</td>\n      <td>SRR306849</td>\n      <td>GSM752700</td>\n      <td>hsa</td>\n      <td>ht</td>\n      <td>M</td>\n      <td>1</td>\n      <td>Human</td>\n      <td>Heart</td>\n      <td>77.179370</td>\n    </tr>\n    <tr>\n      <th>19</th>\n      <td>49.656599</td>\n      <td>44.839043</td>\n      <td>3.159836</td>\n      <td>0.902119</td>\n      <td>1.414840</td>\n      <td>0.027563</td>\n      <td>/home/olga/data_lg/kmer-hashing/brawand2011/km...</td>\n      <td>SRR306856_GSM752706_hsa_lv_M_2</td>\n      <td>SRR306856</td>\n      <td>GSM752706</td>\n      <td>hsa</td>\n      <td>lv</td>\n      <td>M</td>\n      <td>2</td>\n      <td>Human</td>\n      <td>Liver</td>\n      <td>79.775906</td>\n    </tr>\n    <tr>\n      <th>23</th>\n      <td>65.102959</td>\n      <td>29.492489</td>\n      <td>4.621289</td>\n      <td>0.697142</td>\n      <td>0.059376</td>\n      <td>0.026745</td>\n      <td>/home/olga/data_lg/kmer-hashing/brawand2011/km...</td>\n      <td>SRR306853_GSM752704_hsa_kd_M_2</td>\n      <td>SRR306853</td>\n      <td>GSM752704</td>\n      <td>hsa</td>\n      <td>kd</td>\n      <td>M</td>\n      <td>2</td>\n      <td>Human</td>\n      <td>Kidney</td>\n      <td>74.493465</td>\n    </tr>\n    <tr>\n      <th>30</th>\n      <td>59.461028</td>\n      <td>38.703518</td>\n      <td>1.687100</td>\n      <td>0.029324</td>\n      <td>0.090467</td>\n      <td>0.028563</td>\n      <td>/home/olga/data_lg/kmer-hashing/brawand2011/km...</td>\n      <td>SRR306824_GSM752677_ptr_lv_M_1</td>\n      <td>SRR306824</td>\n      <td>GSM752677</td>\n      <td>ptr</td>\n      <td>lv</td>\n      <td>M</td>\n      <td>1</td>\n      <td>Chimpanzee</td>\n      <td>Liver</td>\n      <td>68.408284</td>\n    </tr>\n  </tbody>\n</table>\n</div>",
        "text/plain": "    Non-coding     Coding  No translation frames without stop codons  \\\n5    63.434188  31.277348                                   4.229160   \n7    56.017835  40.119855                                   2.909199   \n19   49.656599  44.839043                                   3.159836   \n23   65.102959  29.492489                                   4.621289   \n30   59.461028  38.703518                                   1.687100   \n\n    All translations shorter than peptide k-mer size + 1  \\\n5                                            1.007798      \n7                                            0.898754      \n19                                           0.902119      \n23                                           0.697142      \n30                                           0.029324      \n\n    Read length was shorter than 3 * peptide k-mer size  \\\n5                                            0.019810     \n7                                            0.022831     \n19                                           1.414840     \n23                                           0.059376     \n30                                           0.090467     \n\n    Low complexity peptide in protein encoding  \\\n5                                     0.031696   \n7                                     0.031526   \n19                                    0.027563   \n23                                    0.026745   \n30                                    0.028563   \n\n                                             filename  \\\n5   /home/olga/data_lg/kmer-hashing/brawand2011/km...   \n7   /home/olga/data_lg/kmer-hashing/brawand2011/km...   \n19  /home/olga/data_lg/kmer-hashing/brawand2011/km...   \n23  /home/olga/data_lg/kmer-hashing/brawand2011/km...   \n30  /home/olga/data_lg/kmer-hashing/brawand2011/km...   \n\n                         sample_id     sra_id     geo_id species_abbrev  \\\n5   SRR306846_GSM752698_hsa_cb_M_1  SRR306846  GSM752698            hsa   \n7   SRR306849_GSM752700_hsa_ht_M_1  SRR306849  GSM752700            hsa   \n19  SRR306856_GSM752706_hsa_lv_M_2  SRR306856  GSM752706            hsa   \n23  SRR306853_GSM752704_hsa_kd_M_2  SRR306853  GSM752704            hsa   \n30  SRR306824_GSM752677_ptr_lv_M_1  SRR306824  GSM752677            ptr   \n\n   tissue_abbrev sex  replicate     species      tissue  cds_exons_tag_pct  \n5             cb   M          1       Human  Cerebellum          68.896122  \n7             ht   M          1       Human       Heart          77.179370  \n19            lv   M          2       Human       Liver          79.775906  \n23            kd   M          2       Human      Kidney          74.493465  \n30            lv   M          1  Chimpanzee       Liver          68.408284  "
       },
       "execution_count": 28,
       "metadata": {},
       "output_type": "execute_result"
      }
     ],
     "persistentId": "59518d71-2e99-42ba-96af-c6f241ff407d",
     "text": "kmermaid_with_cds = classification_percentages_metadata.join(rseqc_read_distributions['cds_exons_tag_pct'], \n                                         on='sample_id', how='inner')\nprint(kmermaid_with_cds.shape)\nkmermaid_with_cds.head()"
    },
    "executionTime": "2019-12-08T21:30:01.358Z"
   },
   {
    "cell": {
     "executionCount": 29,
     "executionEventId": "31bb9de0-b2f4-480f-9e8d-0b97f8d0ef9d",
     "hasError": true,
     "id": "137aeb0c-e908-4cdb-a8cf-91aadbb76ed4",
     "outputs": [
      {
       "ename": "TypeError",
       "evalue": "match() missing 1 required positional argument: 'string'",
       "output_type": "error",
       "traceback": [
        "\u001b[0;31m---------------------------------------------------------------------------\u001b[0m",
        "\u001b[0;31mTypeError\u001b[0m                                 Traceback (most recent call last)",
        "\u001b[0;32m<ipython-input-29-7c9ffc31feab>\u001b[0m in \u001b[0;36m<module>\u001b[0;34m\u001b[0m\n\u001b[1;32m      1\u001b[0m \u001b[0mpattern\u001b[0m \u001b[0;34m=\u001b[0m \u001b[0;34mr'\\d_\\d'\u001b[0m\u001b[0;34m\u001b[0m\u001b[0;34m\u001b[0m\u001b[0m\n\u001b[0;32m----> 2\u001b[0;31m \u001b[0mre\u001b[0m\u001b[0;34m.\u001b[0m\u001b[0mmatch\u001b[0m\u001b[0;34m(\u001b[0m\u001b[0;34m\"SRR306814_GSM752667_ptr_br_M_3_1\"\u001b[0m\u001b[0;34m)\u001b[0m\u001b[0;34m\u001b[0m\u001b[0;34m\u001b[0m\u001b[0m\n\u001b[0m",
        "\u001b[0;31mTypeError\u001b[0m: match() missing 1 required positional argument: 'string'"
       ]
      }
     ],
     "persistentId": "4278ae9c-8081-499d-91ed-f84a3a81e6b7",
     "text": "pattern = r'\\d_\\d'\nre.match(\"SRR306814_GSM752667_ptr_br_M_3_1\")"
    },
    "executionTime": "2019-12-08T21:31:19.065Z"
   },
   {
    "cell": {
     "executionCount": 30,
     "executionEventId": "c5030d5c-b08a-4aad-8278-3e32816bad8b",
     "hasError": false,
     "id": "137aeb0c-e908-4cdb-a8cf-91aadbb76ed4",
     "outputs": [],
     "persistentId": "4278ae9c-8081-499d-91ed-f84a3a81e6b7",
     "text": "pattern = r'\\d_\\d'\nre.match(pattern, \"SRR306814_GSM752667_ptr_br_M_3_1\")"
    },
    "executionTime": "2019-12-08T21:31:22.743Z"
   },
   {
    "cell": {
     "executionCount": 31,
     "executionEventId": "9cc3760b-036d-43a9-82a3-4d9392a8fc46",
     "hasError": false,
     "id": "137aeb0c-e908-4cdb-a8cf-91aadbb76ed4",
     "outputs": [
      {
       "data": {
        "text/plain": "['3_1']"
       },
       "execution_count": 31,
       "metadata": {},
       "output_type": "execute_result"
      }
     ],
     "persistentId": "4278ae9c-8081-499d-91ed-f84a3a81e6b7",
     "text": "pattern = r'\\d_\\d'\nre.findall(pattern, \"SRR306814_GSM752667_ptr_br_M_3_1\")"
    },
    "executionTime": "2019-12-08T21:31:38.813Z"
   },
   {
    "cell": {
     "executionCount": 32,
     "executionEventId": "fdbcd510-3ca6-4263-84da-21c6515202a9",
     "hasError": false,
     "id": "137aeb0c-e908-4cdb-a8cf-91aadbb76ed4",
     "outputs": [
      {
       "data": {
        "text/plain": "['3_1']"
       },
       "execution_count": 32,
       "metadata": {},
       "output_type": "execute_result"
      }
     ],
     "persistentId": "4278ae9c-8081-499d-91ed-f84a3a81e6b7",
     "text": "pattern = r'\\d_\\d$'\nre.findall(pattern, \"SRR306814_GSM752667_ptr_br_M_3_1\")"
    },
    "executionTime": "2019-12-08T21:31:42.907Z"
   },
   {
    "cell": {
     "executionCount": 33,
     "executionEventId": "99eef57a-1aae-4e67-9619-e1d82bd44150",
     "hasError": false,
     "id": "137aeb0c-e908-4cdb-a8cf-91aadbb76ed4",
     "outputs": [],
     "persistentId": "4278ae9c-8081-499d-91ed-f84a3a81e6b7",
     "text": "pattern = r'\\d_\\d$'\nre.match(pattern, \"SRR306814_GSM752667_ptr_br_M_3_1\")"
    },
    "executionTime": "2019-12-08T21:31:44.839Z"
   },
   {
    "cell": {
     "executionCount": 34,
     "executionEventId": "177600d7-d696-43f8-aad1-4445e27b351e",
     "hasError": false,
     "id": "137aeb0c-e908-4cdb-a8cf-91aadbb76ed4",
     "outputs": [
      {
       "data": {
        "text/plain": "['3_1']"
       },
       "execution_count": 34,
       "metadata": {},
       "output_type": "execute_result"
      }
     ],
     "persistentId": "4278ae9c-8081-499d-91ed-f84a3a81e6b7",
     "text": "pattern = r'\\d_\\d$'\nre.findall(pattern, \"SRR306814_GSM752667_ptr_br_M_3_1\")"
    },
    "executionTime": "2019-12-08T21:31:50.425Z"
   },
   {
    "cell": {
     "executionCount": 35,
     "executionEventId": "1a85f32d-e2df-4c53-b295-6173f2a00eb3",
     "hasError": false,
     "id": "137aeb0c-e908-4cdb-a8cf-91aadbb76ed4",
     "outputs": [
      {
       "data": {
        "text/plain": "['3_1']"
       },
       "execution_count": 35,
       "metadata": {},
       "output_type": "execute_result"
      }
     ],
     "persistentId": "4278ae9c-8081-499d-91ed-f84a3a81e6b7",
     "text": "pattern = r'\\d_\\d'\nre.findall(pattern, \"SRR306814_GSM752667_ptr_br_M_3_1\")"
    },
    "executionTime": "2019-12-08T21:31:51.667Z"
   },
   {
    "cell": {
     "executionCount": 36,
     "executionEventId": "a09c3057-ffbf-4fd3-8148-f847dd3c52d2",
     "hasError": false,
     "id": "137aeb0c-e908-4cdb-a8cf-91aadbb76ed4",
     "outputs": [
      {
       "data": {
        "text/plain": "<re.Match object; span=(29, 32), match='3_1'>"
       },
       "execution_count": 36,
       "metadata": {},
       "output_type": "execute_result"
      }
     ],
     "persistentId": "4278ae9c-8081-499d-91ed-f84a3a81e6b7",
     "text": "pattern = r'\\d_\\d'\nre.search(pattern, \"SRR306814_GSM752667_ptr_br_M_3_1\")"
    },
    "executionTime": "2019-12-08T21:32:32.795Z"
   },
   {
    "cell": {
     "executionCount": 37,
     "executionEventId": "95d5fc74-4296-49ca-be9d-c7fb6bd54ca7",
     "hasError": false,
     "id": "db9724e8-c577-41e8-bec1-9cb99ea4fcb7",
     "outputs": [
      {
       "name": "stdout",
       "output_type": "stream",
       "text": "2.01 µs ± 67.5 ns per loop (mean ± std. dev. of 7 runs, 1000000 loops each)\n"
      }
     ],
     "persistentId": "e566d178-7a09-40ad-bc55-cb082c7b1b5d",
     "text": "%timeit re.search(pattern, \"SRR306814_GSM752667_ptr_br_M_3_1\")"
    },
    "executionTime": "2019-12-08T21:32:58.508Z"
   },
   {
    "cell": {
     "executionCount": 38,
     "executionEventId": "163dd498-2a92-4e79-abf7-75258536ca8c",
     "hasError": false,
     "id": "137aeb0c-e908-4cdb-a8cf-91aadbb76ed4",
     "outputs": [
      {
       "name": "stdout",
       "output_type": "stream",
       "text": "2.26 µs ± 386 ns per loop (mean ± std. dev. of 7 runs, 100000 loops each)\n"
      }
     ],
     "persistentId": "4278ae9c-8081-499d-91ed-f84a3a81e6b7",
     "text": "pattern = r'\\d_\\d'\n%timeit re.findall(pattern, \"SRR306814_GSM752667_ptr_br_M_3_1\")"
    },
    "executionTime": "2019-12-08T21:33:00.522Z"
   },
   {
    "cell": {
     "executionCount": 39,
     "executionEventId": "12f0af76-83ee-475f-8600-8e23f1f438ed",
     "hasError": false,
     "id": "e955dfdf-b2ed-49e3-ada4-0a81331ed650",
     "outputs": [
      {
       "data": {
        "text/plain": "['SRR306814_GSM752667_ptr_br_M_3']"
       },
       "execution_count": 39,
       "metadata": {},
       "output_type": "execute_result"
      }
     ],
     "persistentId": "b12ca1db-a22e-4160-a861-55d0015e1500",
     "text": "pattern2 = '(\\w+)_1'\nre.findall(pattern2, \"SRR306814_GSM752667_ptr_br_M_3_1\")"
    },
    "executionTime": "2019-12-08T21:34:28.192Z"
   },
   {
    "cell": {
     "executionCount": 41,
     "executionEventId": "30e8c387-39bc-41a1-9414-c5503ca991d2",
     "hasError": false,
     "id": "99b956e1-6432-4c57-ad3a-b2498a481050",
     "outputs": [
      {
       "name": "stdout",
       "output_type": "stream",
       "text": "(35, 45)\n"
      },
      {
       "data": {
        "text/html": "<div>\n<style scoped>\n    .dataframe tbody tr th:only-of-type {\n        vertical-align: middle;\n    }\n\n    .dataframe tbody tr th {\n        vertical-align: top;\n    }\n\n    .dataframe thead th {\n        text-align: right;\n    }\n</style>\n<table border=\"1\" class=\"dataframe\">\n  <thead>\n    <tr style=\"text-align: right;\">\n      <th></th>\n      <th>total_reads</th>\n      <th>total_tags</th>\n      <th>total_assigned_tags</th>\n      <th>cds_exons_total_bases</th>\n      <th>cds_exons_tag_count</th>\n      <th>cds_exons_tags_kb</th>\n      <th>5_utr_exons_total_bases</th>\n      <th>5_utr_exons_tag_count</th>\n      <th>5_utr_exons_tags_kb</th>\n      <th>3_utr_exons_total_bases</th>\n      <th>...</th>\n      <th>5_utr_exons_tag_pct</th>\n      <th>3_utr_exons_tag_pct</th>\n      <th>introns_tag_pct</th>\n      <th>tss_up_1kb_tag_pct</th>\n      <th>tss_up_5kb_tag_pct</th>\n      <th>tss_up_10kb_tag_pct</th>\n      <th>tes_down_1kb_tag_pct</th>\n      <th>tes_down_5kb_tag_pct</th>\n      <th>tes_down_10kb_tag_pct</th>\n      <th>other_intergenic_tag_pct</th>\n    </tr>\n  </thead>\n  <tbody>\n    <tr>\n      <th>SRR306850_GSM752701_hsa_ht_M_2</th>\n      <td>21292867.0</td>\n      <td>25258488.0</td>\n      <td>24387237.0</td>\n      <td>97553390.0</td>\n      <td>19675431.0</td>\n      <td>201.69</td>\n      <td>6708876.0</td>\n      <td>376547.0</td>\n      <td>56.13</td>\n      <td>32534150.0</td>\n      <td>...</td>\n      <td>1.490774</td>\n      <td>11.312506</td>\n      <td>5.375496</td>\n      <td>0.079280</td>\n      <td>0.133900</td>\n      <td>0.165841</td>\n      <td>0.118602</td>\n      <td>0.252719</td>\n      <td>0.309730</td>\n      <td>3.449339</td>\n    </tr>\n    <tr>\n      <th>SRR306846_GSM752698_hsa_cb_M_1</th>\n      <td>15800648.0</td>\n      <td>18379213.0</td>\n      <td>17615565.0</td>\n      <td>97553390.0</td>\n      <td>12662565.0</td>\n      <td>129.80</td>\n      <td>6708876.0</td>\n      <td>196081.0</td>\n      <td>29.23</td>\n      <td>32534150.0</td>\n      <td>...</td>\n      <td>1.066863</td>\n      <td>15.304480</td>\n      <td>9.503900</td>\n      <td>0.103867</td>\n      <td>0.230325</td>\n      <td>0.325966</td>\n      <td>0.218132</td>\n      <td>0.578784</td>\n      <td>0.747714</td>\n      <td>4.154955</td>\n    </tr>\n    <tr>\n      <th>SRR306838_GSM752691_hsa_br_F_1</th>\n      <td>780690.0</td>\n      <td>889131.0</td>\n      <td>867476.0</td>\n      <td>97553390.0</td>\n      <td>537910.0</td>\n      <td>5.51</td>\n      <td>6708876.0</td>\n      <td>4158.0</td>\n      <td>0.62</td>\n      <td>32534150.0</td>\n      <td>...</td>\n      <td>0.467648</td>\n      <td>26.638932</td>\n      <td>8.776997</td>\n      <td>0.058821</td>\n      <td>0.188049</td>\n      <td>0.274425</td>\n      <td>0.299169</td>\n      <td>0.725877</td>\n      <td>0.908078</td>\n      <td>2.435524</td>\n    </tr>\n    <tr>\n      <th>SRR306856_GSM752706_hsa_lv_M_2</th>\n      <td>20479674.0</td>\n      <td>25412159.0</td>\n      <td>24423554.0</td>\n      <td>97553390.0</td>\n      <td>20272780.0</td>\n      <td>207.81</td>\n      <td>6708876.0</td>\n      <td>244771.0</td>\n      <td>36.48</td>\n      <td>32534150.0</td>\n      <td>...</td>\n      <td>0.963204</td>\n      <td>8.959223</td>\n      <td>5.672659</td>\n      <td>0.069628</td>\n      <td>0.152541</td>\n      <td>0.290511</td>\n      <td>0.170481</td>\n      <td>0.361547</td>\n      <td>0.448215</td>\n      <td>3.890283</td>\n    </tr>\n    <tr>\n      <th>SRR306844_GSM752697_hsa_cb_F_1</th>\n      <td>26696068.0</td>\n      <td>30804199.0</td>\n      <td>29400439.0</td>\n      <td>97553390.0</td>\n      <td>20372273.0</td>\n      <td>208.83</td>\n      <td>6708876.0</td>\n      <td>514939.0</td>\n      <td>76.75</td>\n      <td>32534150.0</td>\n      <td>...</td>\n      <td>1.671652</td>\n      <td>12.543702</td>\n      <td>13.763228</td>\n      <td>0.142536</td>\n      <td>0.290792</td>\n      <td>0.399877</td>\n      <td>0.244973</td>\n      <td>0.686747</td>\n      <td>0.929773</td>\n      <td>4.557041</td>\n    </tr>\n  </tbody>\n</table>\n<p>5 rows × 45 columns</p>\n</div>",
        "text/plain": "                                total_reads  total_tags  total_assigned_tags  \\\nSRR306850_GSM752701_hsa_ht_M_2   21292867.0  25258488.0           24387237.0   \nSRR306846_GSM752698_hsa_cb_M_1   15800648.0  18379213.0           17615565.0   \nSRR306838_GSM752691_hsa_br_F_1     780690.0    889131.0             867476.0   \nSRR306856_GSM752706_hsa_lv_M_2   20479674.0  25412159.0           24423554.0   \nSRR306844_GSM752697_hsa_cb_F_1   26696068.0  30804199.0           29400439.0   \n\n                                cds_exons_total_bases  cds_exons_tag_count  \\\nSRR306850_GSM752701_hsa_ht_M_2             97553390.0           19675431.0   \nSRR306846_GSM752698_hsa_cb_M_1             97553390.0           12662565.0   \nSRR306838_GSM752691_hsa_br_F_1             97553390.0             537910.0   \nSRR306856_GSM752706_hsa_lv_M_2             97553390.0           20272780.0   \nSRR306844_GSM752697_hsa_cb_F_1             97553390.0           20372273.0   \n\n                                cds_exons_tags_kb  5_utr_exons_total_bases  \\\nSRR306850_GSM752701_hsa_ht_M_2             201.69                6708876.0   \nSRR306846_GSM752698_hsa_cb_M_1             129.80                6708876.0   \nSRR306838_GSM752691_hsa_br_F_1               5.51                6708876.0   \nSRR306856_GSM752706_hsa_lv_M_2             207.81                6708876.0   \nSRR306844_GSM752697_hsa_cb_F_1             208.83                6708876.0   \n\n                                5_utr_exons_tag_count  5_utr_exons_tags_kb  \\\nSRR306850_GSM752701_hsa_ht_M_2               376547.0                56.13   \nSRR306846_GSM752698_hsa_cb_M_1               196081.0                29.23   \nSRR306838_GSM752691_hsa_br_F_1                 4158.0                 0.62   \nSRR306856_GSM752706_hsa_lv_M_2               244771.0                36.48   \nSRR306844_GSM752697_hsa_cb_F_1               514939.0                76.75   \n\n                                3_utr_exons_total_bases  ...  \\\nSRR306850_GSM752701_hsa_ht_M_2               32534150.0  ...   \nSRR306846_GSM752698_hsa_cb_M_1               32534150.0  ...   \nSRR306838_GSM752691_hsa_br_F_1               32534150.0  ...   \nSRR306856_GSM752706_hsa_lv_M_2               32534150.0  ...   \nSRR306844_GSM752697_hsa_cb_F_1               32534150.0  ...   \n\n                                5_utr_exons_tag_pct  3_utr_exons_tag_pct  \\\nSRR306850_GSM752701_hsa_ht_M_2             1.490774            11.312506   \nSRR306846_GSM752698_hsa_cb_M_1             1.066863            15.304480   \nSRR306838_GSM752691_hsa_br_F_1             0.467648            26.638932   \nSRR306856_GSM752706_hsa_lv_M_2             0.963204             8.959223   \nSRR306844_GSM752697_hsa_cb_F_1             1.671652            12.543702   \n\n                                introns_tag_pct  tss_up_1kb_tag_pct  \\\nSRR306850_GSM752701_hsa_ht_M_2         5.375496            0.079280   \nSRR306846_GSM752698_hsa_cb_M_1         9.503900            0.103867   \nSRR306838_GSM752691_hsa_br_F_1         8.776997            0.058821   \nSRR306856_GSM752706_hsa_lv_M_2         5.672659            0.069628   \nSRR306844_GSM752697_hsa_cb_F_1        13.763228            0.142536   \n\n                                tss_up_5kb_tag_pct  tss_up_10kb_tag_pct  \\\nSRR306850_GSM752701_hsa_ht_M_2            0.133900             0.165841   \nSRR306846_GSM752698_hsa_cb_M_1            0.230325             0.325966   \nSRR306838_GSM752691_hsa_br_F_1            0.188049             0.274425   \nSRR306856_GSM752706_hsa_lv_M_2            0.152541             0.290511   \nSRR306844_GSM752697_hsa_cb_F_1            0.290792             0.399877   \n\n                                tes_down_1kb_tag_pct  tes_down_5kb_tag_pct  \\\nSRR306850_GSM752701_hsa_ht_M_2              0.118602              0.252719   \nSRR306846_GSM752698_hsa_cb_M_1              0.218132              0.578784   \nSRR306838_GSM752691_hsa_br_F_1              0.299169              0.725877   \nSRR306856_GSM752706_hsa_lv_M_2              0.170481              0.361547   \nSRR306844_GSM752697_hsa_cb_F_1              0.244973              0.686747   \n\n                                tes_down_10kb_tag_pct  \\\nSRR306850_GSM752701_hsa_ht_M_2               0.309730   \nSRR306846_GSM752698_hsa_cb_M_1               0.747714   \nSRR306838_GSM752691_hsa_br_F_1               0.908078   \nSRR306856_GSM752706_hsa_lv_M_2               0.448215   \nSRR306844_GSM752697_hsa_cb_F_1               0.929773   \n\n                                other_intergenic_tag_pct  \nSRR306850_GSM752701_hsa_ht_M_2                  3.449339  \nSRR306846_GSM752698_hsa_cb_M_1                  4.154955  \nSRR306838_GSM752691_hsa_br_F_1                  2.435524  \nSRR306856_GSM752706_hsa_lv_M_2                  3.890283  \nSRR306844_GSM752697_hsa_cb_F_1                  4.557041  \n\n[5 rows x 45 columns]"
       },
       "execution_count": 41,
       "metadata": {},
       "output_type": "execute_result"
      }
     ],
     "persistentId": "39812504-4905-4629-bb31-330706334135",
     "text": "base_folder = '/home/olga/ibm_lg/kmer-hashing/brawand2011/nfcore-rnaseq'\nglobber = f'{base_folder}/*/*/rseqc/read_distribution/*'\n\nseriess = []\n\nfor filename in glob.iglob(globber):\n    series = parse_rseqc_read_distribution(filename)\n    seriess.append(series)\nrseqc_read_distributions = pd.DataFrame(seriess)\nprint(rseqc_read_distributions.shape)\nrseqc_read_distributions.head()"
    },
    "executionTime": "2019-12-08T21:35:27.798Z"
   },
   {
    "cell": {
     "executionCount": 42,
     "executionEventId": "ccb69f70-b84e-45c4-b53d-5bc8f7e11d21",
     "hasError": false,
     "id": "9b1318cd-7903-44a9-b427-4cd87f662dcb",
     "outputs": [
      {
       "data": {
        "text/html": "<div>\n<style scoped>\n    .dataframe tbody tr th:only-of-type {\n        vertical-align: middle;\n    }\n\n    .dataframe tbody tr th {\n        vertical-align: top;\n    }\n\n    .dataframe thead th {\n        text-align: right;\n    }\n</style>\n<table border=\"1\" class=\"dataframe\">\n  <thead>\n    <tr style=\"text-align: right;\">\n      <th></th>\n      <th>total_reads</th>\n      <th>total_tags</th>\n      <th>total_assigned_tags</th>\n      <th>cds_exons_total_bases</th>\n      <th>cds_exons_tag_count</th>\n      <th>cds_exons_tags_kb</th>\n      <th>5_utr_exons_total_bases</th>\n      <th>5_utr_exons_tag_count</th>\n      <th>5_utr_exons_tags_kb</th>\n      <th>3_utr_exons_total_bases</th>\n      <th>...</th>\n      <th>5_utr_exons_tag_pct</th>\n      <th>3_utr_exons_tag_pct</th>\n      <th>introns_tag_pct</th>\n      <th>tss_up_1kb_tag_pct</th>\n      <th>tss_up_5kb_tag_pct</th>\n      <th>tss_up_10kb_tag_pct</th>\n      <th>tes_down_1kb_tag_pct</th>\n      <th>tes_down_5kb_tag_pct</th>\n      <th>tes_down_10kb_tag_pct</th>\n      <th>other_intergenic_tag_pct</th>\n    </tr>\n  </thead>\n  <tbody>\n    <tr>\n      <th>SRR306850_GSM752701_hsa_ht_M_2</th>\n      <td>21292867.0</td>\n      <td>25258488.0</td>\n      <td>24387237.0</td>\n      <td>97553390.0</td>\n      <td>19675431.0</td>\n      <td>201.69</td>\n      <td>6708876.0</td>\n      <td>376547.0</td>\n      <td>56.13</td>\n      <td>32534150.0</td>\n      <td>...</td>\n      <td>1.490774</td>\n      <td>11.312506</td>\n      <td>5.375496</td>\n      <td>0.079280</td>\n      <td>0.133900</td>\n      <td>0.165841</td>\n      <td>0.118602</td>\n      <td>0.252719</td>\n      <td>0.309730</td>\n      <td>3.449339</td>\n    </tr>\n    <tr>\n      <th>SRR306846_GSM752698_hsa_cb_M_1</th>\n      <td>15800648.0</td>\n      <td>18379213.0</td>\n      <td>17615565.0</td>\n      <td>97553390.0</td>\n      <td>12662565.0</td>\n      <td>129.80</td>\n      <td>6708876.0</td>\n      <td>196081.0</td>\n      <td>29.23</td>\n      <td>32534150.0</td>\n      <td>...</td>\n      <td>1.066863</td>\n      <td>15.304480</td>\n      <td>9.503900</td>\n      <td>0.103867</td>\n      <td>0.230325</td>\n      <td>0.325966</td>\n      <td>0.218132</td>\n      <td>0.578784</td>\n      <td>0.747714</td>\n      <td>4.154955</td>\n    </tr>\n    <tr>\n      <th>SRR306838_GSM752691_hsa_br_F_1</th>\n      <td>780690.0</td>\n      <td>889131.0</td>\n      <td>867476.0</td>\n      <td>97553390.0</td>\n      <td>537910.0</td>\n      <td>5.51</td>\n      <td>6708876.0</td>\n      <td>4158.0</td>\n      <td>0.62</td>\n      <td>32534150.0</td>\n      <td>...</td>\n      <td>0.467648</td>\n      <td>26.638932</td>\n      <td>8.776997</td>\n      <td>0.058821</td>\n      <td>0.188049</td>\n      <td>0.274425</td>\n      <td>0.299169</td>\n      <td>0.725877</td>\n      <td>0.908078</td>\n      <td>2.435524</td>\n    </tr>\n    <tr>\n      <th>SRR306856_GSM752706_hsa_lv_M_2</th>\n      <td>20479674.0</td>\n      <td>25412159.0</td>\n      <td>24423554.0</td>\n      <td>97553390.0</td>\n      <td>20272780.0</td>\n      <td>207.81</td>\n      <td>6708876.0</td>\n      <td>244771.0</td>\n      <td>36.48</td>\n      <td>32534150.0</td>\n      <td>...</td>\n      <td>0.963204</td>\n      <td>8.959223</td>\n      <td>5.672659</td>\n      <td>0.069628</td>\n      <td>0.152541</td>\n      <td>0.290511</td>\n      <td>0.170481</td>\n      <td>0.361547</td>\n      <td>0.448215</td>\n      <td>3.890283</td>\n    </tr>\n    <tr>\n      <th>SRR306844_GSM752697_hsa_cb_F_1</th>\n      <td>26696068.0</td>\n      <td>30804199.0</td>\n      <td>29400439.0</td>\n      <td>97553390.0</td>\n      <td>20372273.0</td>\n      <td>208.83</td>\n      <td>6708876.0</td>\n      <td>514939.0</td>\n      <td>76.75</td>\n      <td>32534150.0</td>\n      <td>...</td>\n      <td>1.671652</td>\n      <td>12.543702</td>\n      <td>13.763228</td>\n      <td>0.142536</td>\n      <td>0.290792</td>\n      <td>0.399877</td>\n      <td>0.244973</td>\n      <td>0.686747</td>\n      <td>0.929773</td>\n      <td>4.557041</td>\n    </tr>\n    <tr>\n      <th>SRR306855_GSM752705_hsa_lv_M_1</th>\n      <td>21960165.0</td>\n      <td>26848271.0</td>\n      <td>25799169.0</td>\n      <td>97553390.0</td>\n      <td>21789234.0</td>\n      <td>223.36</td>\n      <td>6708876.0</td>\n      <td>126948.0</td>\n      <td>18.92</td>\n      <td>32534150.0</td>\n      <td>...</td>\n      <td>0.472835</td>\n      <td>9.830242</td>\n      <td>4.077585</td>\n      <td>0.051337</td>\n      <td>0.103321</td>\n      <td>0.133573</td>\n      <td>0.192631</td>\n      <td>0.363290</td>\n      <td>0.421308</td>\n      <td>3.907522</td>\n    </tr>\n    <tr>\n      <th>SRR306854_GSM752705_hsa_lv_M_1</th>\n      <td>4522780.0</td>\n      <td>5069567.0</td>\n      <td>4838211.0</td>\n      <td>97553390.0</td>\n      <td>3933657.0</td>\n      <td>40.32</td>\n      <td>6708876.0</td>\n      <td>22615.0</td>\n      <td>3.37</td>\n      <td>32534150.0</td>\n      <td>...</td>\n      <td>0.446093</td>\n      <td>10.984982</td>\n      <td>5.466384</td>\n      <td>0.123975</td>\n      <td>0.241046</td>\n      <td>0.295469</td>\n      <td>0.337129</td>\n      <td>0.555452</td>\n      <td>0.649898</td>\n      <td>4.563624</td>\n    </tr>\n    <tr>\n      <th>SRR306849_GSM752700_hsa_ht_M_1</th>\n      <td>14274919.0</td>\n      <td>16907263.0</td>\n      <td>15884800.0</td>\n      <td>97553390.0</td>\n      <td>13048919.0</td>\n      <td>133.76</td>\n      <td>6708876.0</td>\n      <td>165992.0</td>\n      <td>24.74</td>\n      <td>32534150.0</td>\n      <td>...</td>\n      <td>0.981779</td>\n      <td>7.265061</td>\n      <td>8.076825</td>\n      <td>0.076086</td>\n      <td>0.130323</td>\n      <td>0.166449</td>\n      <td>0.078830</td>\n      <td>0.220450</td>\n      <td>0.283038</td>\n      <td>6.047478</td>\n    </tr>\n    <tr>\n      <th>SRR306848_GSM752700_hsa_ht_M_1</th>\n      <td>6943569.0</td>\n      <td>7641330.0</td>\n      <td>7188113.0</td>\n      <td>97553390.0</td>\n      <td>5788876.0</td>\n      <td>59.34</td>\n      <td>6708876.0</td>\n      <td>70803.0</td>\n      <td>10.55</td>\n      <td>32534150.0</td>\n      <td>...</td>\n      <td>0.926580</td>\n      <td>7.977826</td>\n      <td>8.744577</td>\n      <td>0.144962</td>\n      <td>0.224398</td>\n      <td>0.276863</td>\n      <td>0.123565</td>\n      <td>0.297658</td>\n      <td>0.385587</td>\n      <td>5.931127</td>\n    </tr>\n    <tr>\n      <th>SRR306847_GSM752699_hsa_ht_F_1</th>\n      <td>390128.0</td>\n      <td>430498.0</td>\n      <td>419659.0</td>\n      <td>97553390.0</td>\n      <td>317984.0</td>\n      <td>3.26</td>\n      <td>6708876.0</td>\n      <td>1351.0</td>\n      <td>0.20</td>\n      <td>32534150.0</td>\n      <td>...</td>\n      <td>0.313823</td>\n      <td>13.413070</td>\n      <td>9.244642</td>\n      <td>0.035773</td>\n      <td>0.100813</td>\n      <td>0.150523</td>\n      <td>0.169803</td>\n      <td>0.392569</td>\n      <td>0.495937</td>\n      <td>2.517782</td>\n    </tr>\n    <tr>\n      <th>SRR306858_GSM752708_hsa_ts_M_2</th>\n      <td>26601239.0</td>\n      <td>32690692.0</td>\n      <td>31304035.0</td>\n      <td>97553390.0</td>\n      <td>24618308.0</td>\n      <td>252.36</td>\n      <td>6708876.0</td>\n      <td>592079.0</td>\n      <td>88.25</td>\n      <td>32534150.0</td>\n      <td>...</td>\n      <td>1.811155</td>\n      <td>8.145686</td>\n      <td>9.061769</td>\n      <td>0.284420</td>\n      <td>0.549187</td>\n      <td>0.805820</td>\n      <td>0.168785</td>\n      <td>0.441095</td>\n      <td>0.627041</td>\n      <td>4.241749</td>\n    </tr>\n    <tr>\n      <th>SRR306843_GSM752696_hsa_br_M_5</th>\n      <td>4001686.0</td>\n      <td>4552986.0</td>\n      <td>4283860.0</td>\n      <td>97553390.0</td>\n      <td>3221235.0</td>\n      <td>33.02</td>\n      <td>6708876.0</td>\n      <td>64169.0</td>\n      <td>9.56</td>\n      <td>32534150.0</td>\n      <td>...</td>\n      <td>1.409383</td>\n      <td>13.224881</td>\n      <td>7.703955</td>\n      <td>0.158094</td>\n      <td>0.287504</td>\n      <td>0.372481</td>\n      <td>0.170042</td>\n      <td>0.504284</td>\n      <td>0.628379</td>\n      <td>5.910978</td>\n    </tr>\n    <tr>\n      <th>SRR306845_GSM752698_hsa_cb_M_1</th>\n      <td>6930461.0</td>\n      <td>7677352.0</td>\n      <td>7343963.0</td>\n      <td>97553390.0</td>\n      <td>5070150.0</td>\n      <td>51.97</td>\n      <td>6708876.0</td>\n      <td>71209.0</td>\n      <td>10.61</td>\n      <td>32534150.0</td>\n      <td>...</td>\n      <td>0.927520</td>\n      <td>16.962359</td>\n      <td>10.449540</td>\n      <td>0.112565</td>\n      <td>0.265573</td>\n      <td>0.383466</td>\n      <td>0.281738</td>\n      <td>0.695383</td>\n      <td>0.894267</td>\n      <td>4.342500</td>\n    </tr>\n    <tr>\n      <th>SRR306857_GSM752707_hsa_ts_M_1</th>\n      <td>3813048.0</td>\n      <td>4632287.0</td>\n      <td>4423313.0</td>\n      <td>97553390.0</td>\n      <td>3627815.0</td>\n      <td>37.19</td>\n      <td>6708876.0</td>\n      <td>65867.0</td>\n      <td>9.82</td>\n      <td>32534150.0</td>\n      <td>...</td>\n      <td>1.421911</td>\n      <td>9.655447</td>\n      <td>5.062769</td>\n      <td>0.215574</td>\n      <td>0.388750</td>\n      <td>0.525313</td>\n      <td>0.159684</td>\n      <td>0.388253</td>\n      <td>0.507460</td>\n      <td>4.511249</td>\n    </tr>\n    <tr>\n      <th>SRR306851_GSM752702_hsa_kd_F_1</th>\n      <td>1129920.0</td>\n      <td>1335951.0</td>\n      <td>1296072.0</td>\n      <td>97553390.0</td>\n      <td>995396.0</td>\n      <td>10.20</td>\n      <td>6708876.0</td>\n      <td>6981.0</td>\n      <td>1.04</td>\n      <td>32534150.0</td>\n      <td>...</td>\n      <td>0.522549</td>\n      <td>15.289633</td>\n      <td>5.931206</td>\n      <td>0.053445</td>\n      <td>0.133987</td>\n      <td>0.188779</td>\n      <td>0.229574</td>\n      <td>0.478536</td>\n      <td>0.574347</td>\n      <td>2.985065</td>\n    </tr>\n    <tr>\n      <th>SRR306853_GSM752704_hsa_kd_M_2</th>\n      <td>21872694.0</td>\n      <td>25848254.0</td>\n      <td>24754716.0</td>\n      <td>97553390.0</td>\n      <td>19255260.0</td>\n      <td>197.38</td>\n      <td>6708876.0</td>\n      <td>220318.0</td>\n      <td>32.84</td>\n      <td>32534150.0</td>\n      <td>...</td>\n      <td>0.852352</td>\n      <td>12.921871</td>\n      <td>6.740695</td>\n      <td>0.092161</td>\n      <td>0.181525</td>\n      <td>0.246229</td>\n      <td>0.199890</td>\n      <td>0.426849</td>\n      <td>0.514781</td>\n      <td>4.230607</td>\n    </tr>\n    <tr>\n      <th>SRR306841_GSM752694_hsa_br_M_2</th>\n      <td>16761049.0</td>\n      <td>19216332.0</td>\n      <td>18568499.0</td>\n      <td>97553390.0</td>\n      <td>12958130.0</td>\n      <td>132.83</td>\n      <td>6708876.0</td>\n      <td>147369.0</td>\n      <td>21.97</td>\n      <td>32534150.0</td>\n      <td>...</td>\n      <td>0.766895</td>\n      <td>20.357376</td>\n      <td>7.018785</td>\n      <td>0.092578</td>\n      <td>0.222930</td>\n      <td>0.316033</td>\n      <td>0.244381</td>\n      <td>0.582973</td>\n      <td>0.736748</td>\n      <td>3.371263</td>\n    </tr>\n    <tr>\n      <th>SRR306839_GSM752692_hsa_br_M_3</th>\n      <td>14292758.0</td>\n      <td>16605716.0</td>\n      <td>16015077.0</td>\n      <td>97553390.0</td>\n      <td>12414279.0</td>\n      <td>127.26</td>\n      <td>6708876.0</td>\n      <td>247882.0</td>\n      <td>36.95</td>\n      <td>32534150.0</td>\n      <td>...</td>\n      <td>1.492751</td>\n      <td>13.497521</td>\n      <td>5.982374</td>\n      <td>0.121512</td>\n      <td>0.210235</td>\n      <td>0.276477</td>\n      <td>0.148310</td>\n      <td>0.343508</td>\n      <td>0.434965</td>\n      <td>3.556842</td>\n    </tr>\n    <tr>\n      <th>SRR306842_GSM752695_hsa_br_M_4</th>\n      <td>28685415.0</td>\n      <td>32711214.0</td>\n      <td>31646644.0</td>\n      <td>97553390.0</td>\n      <td>22420725.0</td>\n      <td>229.83</td>\n      <td>6708876.0</td>\n      <td>382853.0</td>\n      <td>57.07</td>\n      <td>32534150.0</td>\n      <td>...</td>\n      <td>1.170403</td>\n      <td>15.085334</td>\n      <td>11.140699</td>\n      <td>0.086768</td>\n      <td>0.197211</td>\n      <td>0.278770</td>\n      <td>0.140401</td>\n      <td>0.380710</td>\n      <td>0.528941</td>\n      <td>3.254450</td>\n    </tr>\n    <tr>\n      <th>SRR306840_GSM752693_hsa_br_M_1</th>\n      <td>37620020.0</td>\n      <td>43324632.0</td>\n      <td>41459998.0</td>\n      <td>97553390.0</td>\n      <td>28761557.0</td>\n      <td>294.83</td>\n      <td>6708876.0</td>\n      <td>453023.0</td>\n      <td>67.53</td>\n      <td>32534150.0</td>\n      <td>...</td>\n      <td>1.045648</td>\n      <td>16.197645</td>\n      <td>11.064334</td>\n      <td>0.084571</td>\n      <td>0.210160</td>\n      <td>0.302909</td>\n      <td>0.182674</td>\n      <td>0.516277</td>\n      <td>0.699445</td>\n      <td>4.303866</td>\n    </tr>\n    <tr>\n      <th>SRR306818_GSM752671_ptr_cb_M_1</th>\n      <td>15044868.0</td>\n      <td>17130707.0</td>\n      <td>15642931.0</td>\n      <td>88085127.0</td>\n      <td>9670889.0</td>\n      <td>109.79</td>\n      <td>6300107.0</td>\n      <td>228149.0</td>\n      <td>36.21</td>\n      <td>29596271.0</td>\n      <td>...</td>\n      <td>1.331813</td>\n      <td>14.903045</td>\n      <td>15.584441</td>\n      <td>0.221970</td>\n      <td>0.940358</td>\n      <td>1.429252</td>\n      <td>0.396312</td>\n      <td>1.157891</td>\n      <td>1.613068</td>\n      <td>8.684849</td>\n    </tr>\n    <tr>\n      <th>SRR306821_GSM752674_ptr_kd_F_1</th>\n      <td>22251061.0</td>\n      <td>26416231.0</td>\n      <td>22845581.0</td>\n      <td>88085127.0</td>\n      <td>15409907.0</td>\n      <td>174.94</td>\n      <td>6300107.0</td>\n      <td>290277.0</td>\n      <td>46.07</td>\n      <td>29596271.0</td>\n      <td>...</td>\n      <td>1.098859</td>\n      <td>11.086052</td>\n      <td>12.188711</td>\n      <td>0.216556</td>\n      <td>1.688564</td>\n      <td>2.488061</td>\n      <td>0.383563</td>\n      <td>0.916675</td>\n      <td>1.286444</td>\n      <td>13.516879</td>\n    </tr>\n    <tr>\n      <th>SRR306825_GSM752678_ptr_ts_M_1</th>\n      <td>18236158.0</td>\n      <td>21628091.0</td>\n      <td>19839355.0</td>\n      <td>88085127.0</td>\n      <td>14037941.0</td>\n      <td>159.37</td>\n      <td>6300107.0</td>\n      <td>356326.0</td>\n      <td>56.56</td>\n      <td>29596271.0</td>\n      <td>...</td>\n      <td>1.647515</td>\n      <td>8.322588</td>\n      <td>13.076841</td>\n      <td>0.471008</td>\n      <td>1.318105</td>\n      <td>2.083647</td>\n      <td>0.378494</td>\n      <td>1.072545</td>\n      <td>1.692923</td>\n      <td>8.270429</td>\n    </tr>\n    <tr>\n      <th>SRR306811_GSM752664_ptr_br_F_1</th>\n      <td>17642618.0</td>\n      <td>19963730.0</td>\n      <td>17571501.0</td>\n      <td>88085127.0</td>\n      <td>10994612.0</td>\n      <td>124.82</td>\n      <td>6300107.0</td>\n      <td>422260.0</td>\n      <td>67.02</td>\n      <td>29596271.0</td>\n      <td>...</td>\n      <td>2.115136</td>\n      <td>14.273134</td>\n      <td>12.422919</td>\n      <td>0.310263</td>\n      <td>1.854117</td>\n      <td>2.736027</td>\n      <td>0.363675</td>\n      <td>0.999858</td>\n      <td>1.396973</td>\n      <td>11.982876</td>\n    </tr>\n    <tr>\n      <th>SRR306820_GSM752673_ptr_ht_M_1</th>\n      <td>29380175.0</td>\n      <td>34655540.0</td>\n      <td>24669160.0</td>\n      <td>88085127.0</td>\n      <td>15590382.0</td>\n      <td>176.99</td>\n      <td>6300107.0</td>\n      <td>200975.0</td>\n      <td>31.90</td>\n      <td>29596271.0</td>\n      <td>...</td>\n      <td>0.579922</td>\n      <td>7.809897</td>\n      <td>10.523720</td>\n      <td>0.089016</td>\n      <td>4.348670</td>\n      <td>6.422895</td>\n      <td>0.209949</td>\n      <td>0.561821</td>\n      <td>0.860757</td>\n      <td>28.816114</td>\n    </tr>\n    <tr>\n      <th>SRR306817_GSM752670_ptr_cb_F_1</th>\n      <td>27246489.0</td>\n      <td>31600292.0</td>\n      <td>28240264.0</td>\n      <td>88085127.0</td>\n      <td>17570802.0</td>\n      <td>199.48</td>\n      <td>6300107.0</td>\n      <td>393034.0</td>\n      <td>62.39</td>\n      <td>29596271.0</td>\n      <td>...</td>\n      <td>1.243767</td>\n      <td>12.887333</td>\n      <td>16.275717</td>\n      <td>0.234539</td>\n      <td>1.148214</td>\n      <td>1.728763</td>\n      <td>0.388373</td>\n      <td>1.154632</td>\n      <td>1.628229</td>\n      <td>10.632902</td>\n    </tr>\n    <tr>\n      <th>SRR306822_GSM752675_ptr_kd_M_1</th>\n      <td>29722024.0</td>\n      <td>35132350.0</td>\n      <td>30159330.0</td>\n      <td>88085127.0</td>\n      <td>20052865.0</td>\n      <td>227.65</td>\n      <td>6300107.0</td>\n      <td>309514.0</td>\n      <td>49.13</td>\n      <td>29596271.0</td>\n      <td>...</td>\n      <td>0.880994</td>\n      <td>13.167630</td>\n      <td>11.378672</td>\n      <td>0.156198</td>\n      <td>1.388848</td>\n      <td>2.037626</td>\n      <td>0.370906</td>\n      <td>0.927598</td>\n      <td>1.301911</td>\n      <td>14.155102</td>\n    </tr>\n    <tr>\n      <th>SRR306819_GSM752672_ptr_ht_F_1</th>\n      <td>24714477.0</td>\n      <td>28916366.0</td>\n      <td>20369581.0</td>\n      <td>88085127.0</td>\n      <td>12250965.0</td>\n      <td>139.08</td>\n      <td>6300107.0</td>\n      <td>170769.0</td>\n      <td>27.11</td>\n      <td>29596271.0</td>\n      <td>...</td>\n      <td>0.590562</td>\n      <td>7.022909</td>\n      <td>12.924536</td>\n      <td>0.097077</td>\n      <td>4.700328</td>\n      <td>6.783505</td>\n      <td>0.185390</td>\n      <td>0.476675</td>\n      <td>0.754687</td>\n      <td>29.556913</td>\n    </tr>\n    <tr>\n      <th>SRR306824_GSM752677_ptr_lv_M_1</th>\n      <td>15744700.0</td>\n      <td>18519871.0</td>\n      <td>16915818.0</td>\n      <td>88085127.0</td>\n      <td>12669126.0</td>\n      <td>143.83</td>\n      <td>6300107.0</td>\n      <td>273379.0</td>\n      <td>43.39</td>\n      <td>29596271.0</td>\n      <td>...</td>\n      <td>1.476139</td>\n      <td>8.512592</td>\n      <td>9.117585</td>\n      <td>0.195072</td>\n      <td>1.834235</td>\n      <td>2.593809</td>\n      <td>0.430230</td>\n      <td>0.837155</td>\n      <td>1.230338</td>\n      <td>8.661254</td>\n    </tr>\n    <tr>\n      <th>SRR306823_GSM752676_ptr_lv_F_1</th>\n      <td>26026781.0</td>\n      <td>31855532.0</td>\n      <td>28848671.0</td>\n      <td>88085127.0</td>\n      <td>21123331.0</td>\n      <td>239.81</td>\n      <td>6300107.0</td>\n      <td>290378.0</td>\n      <td>46.09</td>\n      <td>29596271.0</td>\n      <td>...</td>\n      <td>0.911547</td>\n      <td>9.888973</td>\n      <td>8.313319</td>\n      <td>0.279967</td>\n      <td>1.105758</td>\n      <td>1.648797</td>\n      <td>0.856206</td>\n      <td>3.255491</td>\n      <td>3.488537</td>\n      <td>9.439054</td>\n    </tr>\n    <tr>\n      <th>SRR306814_GSM752667_ptr_br_M_3</th>\n      <td>26933053.0</td>\n      <td>30082726.0</td>\n      <td>25291135.0</td>\n      <td>88085127.0</td>\n      <td>14354765.0</td>\n      <td>162.96</td>\n      <td>6300107.0</td>\n      <td>212532.0</td>\n      <td>33.73</td>\n      <td>29596271.0</td>\n      <td>...</td>\n      <td>0.706492</td>\n      <td>17.941506</td>\n      <td>13.539464</td>\n      <td>0.126834</td>\n      <td>1.918626</td>\n      <td>2.807684</td>\n      <td>0.371629</td>\n      <td>0.981434</td>\n      <td>1.359172</td>\n      <td>15.928048</td>\n    </tr>\n    <tr>\n      <th>SRR306812_GSM752665_ptr_br_M_1</th>\n      <td>24913447.0</td>\n      <td>29551717.0</td>\n      <td>26487619.0</td>\n      <td>88085127.0</td>\n      <td>16938645.0</td>\n      <td>192.30</td>\n      <td>6300107.0</td>\n      <td>394801.0</td>\n      <td>62.67</td>\n      <td>29596271.0</td>\n      <td>...</td>\n      <td>1.335966</td>\n      <td>14.931021</td>\n      <td>11.949069</td>\n      <td>0.172910</td>\n      <td>1.956976</td>\n      <td>2.811779</td>\n      <td>0.352074</td>\n      <td>0.942910</td>\n      <td>1.284920</td>\n      <td>10.368596</td>\n    </tr>\n    <tr>\n      <th>SRR306815_GSM752668_ptr_br_M_4</th>\n      <td>35594647.0</td>\n      <td>41357406.0</td>\n      <td>34750637.0</td>\n      <td>88085127.0</td>\n      <td>20940732.0</td>\n      <td>237.73</td>\n      <td>6300107.0</td>\n      <td>348201.0</td>\n      <td>55.27</td>\n      <td>29596271.0</td>\n      <td>...</td>\n      <td>0.841931</td>\n      <td>18.039376</td>\n      <td>11.380380</td>\n      <td>0.129701</td>\n      <td>1.171909</td>\n      <td>1.711974</td>\n      <td>0.379431</td>\n      <td>1.046891</td>\n      <td>1.417952</td>\n      <td>15.974815</td>\n    </tr>\n    <tr>\n      <th>SRR306813_GSM752666_ptr_br_M_2</th>\n      <td>33350847.0</td>\n      <td>37602688.0</td>\n      <td>28242231.0</td>\n      <td>88085127.0</td>\n      <td>15607917.0</td>\n      <td>177.19</td>\n      <td>6300107.0</td>\n      <td>254805.0</td>\n      <td>40.44</td>\n      <td>29596271.0</td>\n      <td>...</td>\n      <td>0.677624</td>\n      <td>15.559023</td>\n      <td>12.759979</td>\n      <td>0.115875</td>\n      <td>1.935614</td>\n      <td>3.281901</td>\n      <td>0.350007</td>\n      <td>0.932332</td>\n      <td>1.320969</td>\n      <td>24.893053</td>\n    </tr>\n    <tr>\n      <th>SRR306816_GSM752669_ptr_br_M_5</th>\n      <td>37515753.0</td>\n      <td>42862950.0</td>\n      <td>35649383.0</td>\n      <td>88085127.0</td>\n      <td>21285159.0</td>\n      <td>241.64</td>\n      <td>6300107.0</td>\n      <td>336041.0</td>\n      <td>53.34</td>\n      <td>29596271.0</td>\n      <td>...</td>\n      <td>0.783989</td>\n      <td>17.846907</td>\n      <td>11.382558</td>\n      <td>0.124336</td>\n      <td>1.505449</td>\n      <td>2.112955</td>\n      <td>0.366106</td>\n      <td>0.987041</td>\n      <td>1.385572</td>\n      <td>16.829376</td>\n    </tr>\n  </tbody>\n</table>\n<p>35 rows × 45 columns</p>\n</div>",
        "text/plain": "                                total_reads  total_tags  total_assigned_tags  \\\nSRR306850_GSM752701_hsa_ht_M_2   21292867.0  25258488.0           24387237.0   \nSRR306846_GSM752698_hsa_cb_M_1   15800648.0  18379213.0           17615565.0   \nSRR306838_GSM752691_hsa_br_F_1     780690.0    889131.0             867476.0   \nSRR306856_GSM752706_hsa_lv_M_2   20479674.0  25412159.0           24423554.0   \nSRR306844_GSM752697_hsa_cb_F_1   26696068.0  30804199.0           29400439.0   \nSRR306855_GSM752705_hsa_lv_M_1   21960165.0  26848271.0           25799169.0   \nSRR306854_GSM752705_hsa_lv_M_1    4522780.0   5069567.0            4838211.0   \nSRR306849_GSM752700_hsa_ht_M_1   14274919.0  16907263.0           15884800.0   \nSRR306848_GSM752700_hsa_ht_M_1    6943569.0   7641330.0            7188113.0   \nSRR306847_GSM752699_hsa_ht_F_1     390128.0    430498.0             419659.0   \nSRR306858_GSM752708_hsa_ts_M_2   26601239.0  32690692.0           31304035.0   \nSRR306843_GSM752696_hsa_br_M_5    4001686.0   4552986.0            4283860.0   \nSRR306845_GSM752698_hsa_cb_M_1    6930461.0   7677352.0            7343963.0   \nSRR306857_GSM752707_hsa_ts_M_1    3813048.0   4632287.0            4423313.0   \nSRR306851_GSM752702_hsa_kd_F_1    1129920.0   1335951.0            1296072.0   \nSRR306853_GSM752704_hsa_kd_M_2   21872694.0  25848254.0           24754716.0   \nSRR306841_GSM752694_hsa_br_M_2   16761049.0  19216332.0           18568499.0   \nSRR306839_GSM752692_hsa_br_M_3   14292758.0  16605716.0           16015077.0   \nSRR306842_GSM752695_hsa_br_M_4   28685415.0  32711214.0           31646644.0   \nSRR306840_GSM752693_hsa_br_M_1   37620020.0  43324632.0           41459998.0   \nSRR306818_GSM752671_ptr_cb_M_1   15044868.0  17130707.0           15642931.0   \nSRR306821_GSM752674_ptr_kd_F_1   22251061.0  26416231.0           22845581.0   \nSRR306825_GSM752678_ptr_ts_M_1   18236158.0  21628091.0           19839355.0   \nSRR306811_GSM752664_ptr_br_F_1   17642618.0  19963730.0           17571501.0   \nSRR306820_GSM752673_ptr_ht_M_1   29380175.0  34655540.0           24669160.0   \nSRR306817_GSM752670_ptr_cb_F_1   27246489.0  31600292.0           28240264.0   \nSRR306822_GSM752675_ptr_kd_M_1   29722024.0  35132350.0           30159330.0   \nSRR306819_GSM752672_ptr_ht_F_1   24714477.0  28916366.0           20369581.0   \nSRR306824_GSM752677_ptr_lv_M_1   15744700.0  18519871.0           16915818.0   \nSRR306823_GSM752676_ptr_lv_F_1   26026781.0  31855532.0           28848671.0   \nSRR306814_GSM752667_ptr_br_M_3   26933053.0  30082726.0           25291135.0   \nSRR306812_GSM752665_ptr_br_M_1   24913447.0  29551717.0           26487619.0   \nSRR306815_GSM752668_ptr_br_M_4   35594647.0  41357406.0           34750637.0   \nSRR306813_GSM752666_ptr_br_M_2   33350847.0  37602688.0           28242231.0   \nSRR306816_GSM752669_ptr_br_M_5   37515753.0  42862950.0           35649383.0   \n\n                                cds_exons_total_bases  cds_exons_tag_count  \\\nSRR306850_GSM752701_hsa_ht_M_2             97553390.0           19675431.0   \nSRR306846_GSM752698_hsa_cb_M_1             97553390.0           12662565.0   \nSRR306838_GSM752691_hsa_br_F_1             97553390.0             537910.0   \nSRR306856_GSM752706_hsa_lv_M_2             97553390.0           20272780.0   \nSRR306844_GSM752697_hsa_cb_F_1             97553390.0           20372273.0   \nSRR306855_GSM752705_hsa_lv_M_1             97553390.0           21789234.0   \nSRR306854_GSM752705_hsa_lv_M_1             97553390.0            3933657.0   \nSRR306849_GSM752700_hsa_ht_M_1             97553390.0           13048919.0   \nSRR306848_GSM752700_hsa_ht_M_1             97553390.0            5788876.0   \nSRR306847_GSM752699_hsa_ht_F_1             97553390.0             317984.0   \nSRR306858_GSM752708_hsa_ts_M_2             97553390.0           24618308.0   \nSRR306843_GSM752696_hsa_br_M_5             97553390.0            3221235.0   \nSRR306845_GSM752698_hsa_cb_M_1             97553390.0            5070150.0   \nSRR306857_GSM752707_hsa_ts_M_1             97553390.0            3627815.0   \nSRR306851_GSM752702_hsa_kd_F_1             97553390.0             995396.0   \nSRR306853_GSM752704_hsa_kd_M_2             97553390.0           19255260.0   \nSRR306841_GSM752694_hsa_br_M_2             97553390.0           12958130.0   \nSRR306839_GSM752692_hsa_br_M_3             97553390.0           12414279.0   \nSRR306842_GSM752695_hsa_br_M_4             97553390.0           22420725.0   \nSRR306840_GSM752693_hsa_br_M_1             97553390.0           28761557.0   \nSRR306818_GSM752671_ptr_cb_M_1             88085127.0            9670889.0   \nSRR306821_GSM752674_ptr_kd_F_1             88085127.0           15409907.0   \nSRR306825_GSM752678_ptr_ts_M_1             88085127.0           14037941.0   \nSRR306811_GSM752664_ptr_br_F_1             88085127.0           10994612.0   \nSRR306820_GSM752673_ptr_ht_M_1             88085127.0           15590382.0   \nSRR306817_GSM752670_ptr_cb_F_1             88085127.0           17570802.0   \nSRR306822_GSM752675_ptr_kd_M_1             88085127.0           20052865.0   \nSRR306819_GSM752672_ptr_ht_F_1             88085127.0           12250965.0   \nSRR306824_GSM752677_ptr_lv_M_1             88085127.0           12669126.0   \nSRR306823_GSM752676_ptr_lv_F_1             88085127.0           21123331.0   \nSRR306814_GSM752667_ptr_br_M_3             88085127.0           14354765.0   \nSRR306812_GSM752665_ptr_br_M_1             88085127.0           16938645.0   \nSRR306815_GSM752668_ptr_br_M_4             88085127.0           20940732.0   \nSRR306813_GSM752666_ptr_br_M_2             88085127.0           15607917.0   \nSRR306816_GSM752669_ptr_br_M_5             88085127.0           21285159.0   \n\n                                cds_exons_tags_kb  5_utr_exons_total_bases  \\\nSRR306850_GSM752701_hsa_ht_M_2             201.69                6708876.0   \nSRR306846_GSM752698_hsa_cb_M_1             129.80                6708876.0   \nSRR306838_GSM752691_hsa_br_F_1               5.51                6708876.0   \nSRR306856_GSM752706_hsa_lv_M_2             207.81                6708876.0   \nSRR306844_GSM752697_hsa_cb_F_1             208.83                6708876.0   \nSRR306855_GSM752705_hsa_lv_M_1             223.36                6708876.0   \nSRR306854_GSM752705_hsa_lv_M_1              40.32                6708876.0   \nSRR306849_GSM752700_hsa_ht_M_1             133.76                6708876.0   \nSRR306848_GSM752700_hsa_ht_M_1              59.34                6708876.0   \nSRR306847_GSM752699_hsa_ht_F_1               3.26                6708876.0   \nSRR306858_GSM752708_hsa_ts_M_2             252.36                6708876.0   \nSRR306843_GSM752696_hsa_br_M_5              33.02                6708876.0   \nSRR306845_GSM752698_hsa_cb_M_1              51.97                6708876.0   \nSRR306857_GSM752707_hsa_ts_M_1              37.19                6708876.0   \nSRR306851_GSM752702_hsa_kd_F_1              10.20                6708876.0   \nSRR306853_GSM752704_hsa_kd_M_2             197.38                6708876.0   \nSRR306841_GSM752694_hsa_br_M_2             132.83                6708876.0   \nSRR306839_GSM752692_hsa_br_M_3             127.26                6708876.0   \nSRR306842_GSM752695_hsa_br_M_4             229.83                6708876.0   \nSRR306840_GSM752693_hsa_br_M_1             294.83                6708876.0   \nSRR306818_GSM752671_ptr_cb_M_1             109.79                6300107.0   \nSRR306821_GSM752674_ptr_kd_F_1             174.94                6300107.0   \nSRR306825_GSM752678_ptr_ts_M_1             159.37                6300107.0   \nSRR306811_GSM752664_ptr_br_F_1             124.82                6300107.0   \nSRR306820_GSM752673_ptr_ht_M_1             176.99                6300107.0   \nSRR306817_GSM752670_ptr_cb_F_1             199.48                6300107.0   \nSRR306822_GSM752675_ptr_kd_M_1             227.65                6300107.0   \nSRR306819_GSM752672_ptr_ht_F_1             139.08                6300107.0   \nSRR306824_GSM752677_ptr_lv_M_1             143.83                6300107.0   \nSRR306823_GSM752676_ptr_lv_F_1             239.81                6300107.0   \nSRR306814_GSM752667_ptr_br_M_3             162.96                6300107.0   \nSRR306812_GSM752665_ptr_br_M_1             192.30                6300107.0   \nSRR306815_GSM752668_ptr_br_M_4             237.73                6300107.0   \nSRR306813_GSM752666_ptr_br_M_2             177.19                6300107.0   \nSRR306816_GSM752669_ptr_br_M_5             241.64                6300107.0   \n\n                                5_utr_exons_tag_count  5_utr_exons_tags_kb  \\\nSRR306850_GSM752701_hsa_ht_M_2               376547.0                56.13   \nSRR306846_GSM752698_hsa_cb_M_1               196081.0                29.23   \nSRR306838_GSM752691_hsa_br_F_1                 4158.0                 0.62   \nSRR306856_GSM752706_hsa_lv_M_2               244771.0                36.48   \nSRR306844_GSM752697_hsa_cb_F_1               514939.0                76.75   \nSRR306855_GSM752705_hsa_lv_M_1               126948.0                18.92   \nSRR306854_GSM752705_hsa_lv_M_1                22615.0                 3.37   \nSRR306849_GSM752700_hsa_ht_M_1               165992.0                24.74   \nSRR306848_GSM752700_hsa_ht_M_1                70803.0                10.55   \nSRR306847_GSM752699_hsa_ht_F_1                 1351.0                 0.20   \nSRR306858_GSM752708_hsa_ts_M_2               592079.0                88.25   \nSRR306843_GSM752696_hsa_br_M_5                64169.0                 9.56   \nSRR306845_GSM752698_hsa_cb_M_1                71209.0                10.61   \nSRR306857_GSM752707_hsa_ts_M_1                65867.0                 9.82   \nSRR306851_GSM752702_hsa_kd_F_1                 6981.0                 1.04   \nSRR306853_GSM752704_hsa_kd_M_2               220318.0                32.84   \nSRR306841_GSM752694_hsa_br_M_2               147369.0                21.97   \nSRR306839_GSM752692_hsa_br_M_3               247882.0                36.95   \nSRR306842_GSM752695_hsa_br_M_4               382853.0                57.07   \nSRR306840_GSM752693_hsa_br_M_1               453023.0                67.53   \nSRR306818_GSM752671_ptr_cb_M_1               228149.0                36.21   \nSRR306821_GSM752674_ptr_kd_F_1               290277.0                46.07   \nSRR306825_GSM752678_ptr_ts_M_1               356326.0                56.56   \nSRR306811_GSM752664_ptr_br_F_1               422260.0                67.02   \nSRR306820_GSM752673_ptr_ht_M_1               200975.0                31.90   \nSRR306817_GSM752670_ptr_cb_F_1               393034.0                62.39   \nSRR306822_GSM752675_ptr_kd_M_1               309514.0                49.13   \nSRR306819_GSM752672_ptr_ht_F_1               170769.0                27.11   \nSRR306824_GSM752677_ptr_lv_M_1               273379.0                43.39   \nSRR306823_GSM752676_ptr_lv_F_1               290378.0                46.09   \nSRR306814_GSM752667_ptr_br_M_3               212532.0                33.73   \nSRR306812_GSM752665_ptr_br_M_1               394801.0                62.67   \nSRR306815_GSM752668_ptr_br_M_4               348201.0                55.27   \nSRR306813_GSM752666_ptr_br_M_2               254805.0                40.44   \nSRR306816_GSM752669_ptr_br_M_5               336041.0                53.34   \n\n                                3_utr_exons_total_bases  ...  \\\nSRR306850_GSM752701_hsa_ht_M_2               32534150.0  ...   \nSRR306846_GSM752698_hsa_cb_M_1               32534150.0  ...   \nSRR306838_GSM752691_hsa_br_F_1               32534150.0  ...   \nSRR306856_GSM752706_hsa_lv_M_2               32534150.0  ...   \nSRR306844_GSM752697_hsa_cb_F_1               32534150.0  ...   \nSRR306855_GSM752705_hsa_lv_M_1               32534150.0  ...   \nSRR306854_GSM752705_hsa_lv_M_1               32534150.0  ...   \nSRR306849_GSM752700_hsa_ht_M_1               32534150.0  ...   \nSRR306848_GSM752700_hsa_ht_M_1               32534150.0  ...   \nSRR306847_GSM752699_hsa_ht_F_1               32534150.0  ...   \nSRR306858_GSM752708_hsa_ts_M_2               32534150.0  ...   \nSRR306843_GSM752696_hsa_br_M_5               32534150.0  ...   \nSRR306845_GSM752698_hsa_cb_M_1               32534150.0  ...   \nSRR306857_GSM752707_hsa_ts_M_1               32534150.0  ...   \nSRR306851_GSM752702_hsa_kd_F_1               32534150.0  ...   \nSRR306853_GSM752704_hsa_kd_M_2               32534150.0  ...   \nSRR306841_GSM752694_hsa_br_M_2               32534150.0  ...   \nSRR306839_GSM752692_hsa_br_M_3               32534150.0  ...   \nSRR306842_GSM752695_hsa_br_M_4               32534150.0  ...   \nSRR306840_GSM752693_hsa_br_M_1               32534150.0  ...   \nSRR306818_GSM752671_ptr_cb_M_1               29596271.0  ...   \nSRR306821_GSM752674_ptr_kd_F_1               29596271.0  ...   \nSRR306825_GSM752678_ptr_ts_M_1               29596271.0  ...   \nSRR306811_GSM752664_ptr_br_F_1               29596271.0  ...   \nSRR306820_GSM752673_ptr_ht_M_1               29596271.0  ...   \nSRR306817_GSM752670_ptr_cb_F_1               29596271.0  ...   \nSRR306822_GSM752675_ptr_kd_M_1               29596271.0  ...   \nSRR306819_GSM752672_ptr_ht_F_1               29596271.0  ...   \nSRR306824_GSM752677_ptr_lv_M_1               29596271.0  ...   \nSRR306823_GSM752676_ptr_lv_F_1               29596271.0  ...   \nSRR306814_GSM752667_ptr_br_M_3               29596271.0  ...   \nSRR306812_GSM752665_ptr_br_M_1               29596271.0  ...   \nSRR306815_GSM752668_ptr_br_M_4               29596271.0  ...   \nSRR306813_GSM752666_ptr_br_M_2               29596271.0  ...   \nSRR306816_GSM752669_ptr_br_M_5               29596271.0  ...   \n\n                                5_utr_exons_tag_pct  3_utr_exons_tag_pct  \\\nSRR306850_GSM752701_hsa_ht_M_2             1.490774            11.312506   \nSRR306846_GSM752698_hsa_cb_M_1             1.066863            15.304480   \nSRR306838_GSM752691_hsa_br_F_1             0.467648            26.638932   \nSRR306856_GSM752706_hsa_lv_M_2             0.963204             8.959223   \nSRR306844_GSM752697_hsa_cb_F_1             1.671652            12.543702   \nSRR306855_GSM752705_hsa_lv_M_1             0.472835             9.830242   \nSRR306854_GSM752705_hsa_lv_M_1             0.446093            10.984982   \nSRR306849_GSM752700_hsa_ht_M_1             0.981779             7.265061   \nSRR306848_GSM752700_hsa_ht_M_1             0.926580             7.977826   \nSRR306847_GSM752699_hsa_ht_F_1             0.313823            13.413070   \nSRR306858_GSM752708_hsa_ts_M_2             1.811155             8.145686   \nSRR306843_GSM752696_hsa_br_M_5             1.409383            13.224881   \nSRR306845_GSM752698_hsa_cb_M_1             0.927520            16.962359   \nSRR306857_GSM752707_hsa_ts_M_1             1.421911             9.655447   \nSRR306851_GSM752702_hsa_kd_F_1             0.522549            15.289633   \nSRR306853_GSM752704_hsa_kd_M_2             0.852352            12.921871   \nSRR306841_GSM752694_hsa_br_M_2             0.766895            20.357376   \nSRR306839_GSM752692_hsa_br_M_3             1.492751            13.497521   \nSRR306842_GSM752695_hsa_br_M_4             1.170403            15.085334   \nSRR306840_GSM752693_hsa_br_M_1             1.045648            16.197645   \nSRR306818_GSM752671_ptr_cb_M_1             1.331813            14.903045   \nSRR306821_GSM752674_ptr_kd_F_1             1.098859            11.086052   \nSRR306825_GSM752678_ptr_ts_M_1             1.647515             8.322588   \nSRR306811_GSM752664_ptr_br_F_1             2.115136            14.273134   \nSRR306820_GSM752673_ptr_ht_M_1             0.579922             7.809897   \nSRR306817_GSM752670_ptr_cb_F_1             1.243767            12.887333   \nSRR306822_GSM752675_ptr_kd_M_1             0.880994            13.167630   \nSRR306819_GSM752672_ptr_ht_F_1             0.590562             7.022909   \nSRR306824_GSM752677_ptr_lv_M_1             1.476139             8.512592   \nSRR306823_GSM752676_ptr_lv_F_1             0.911547             9.888973   \nSRR306814_GSM752667_ptr_br_M_3             0.706492            17.941506   \nSRR306812_GSM752665_ptr_br_M_1             1.335966            14.931021   \nSRR306815_GSM752668_ptr_br_M_4             0.841931            18.039376   \nSRR306813_GSM752666_ptr_br_M_2             0.677624            15.559023   \nSRR306816_GSM752669_ptr_br_M_5             0.783989            17.846907   \n\n                                introns_tag_pct  tss_up_1kb_tag_pct  \\\nSRR306850_GSM752701_hsa_ht_M_2         5.375496            0.079280   \nSRR306846_GSM752698_hsa_cb_M_1         9.503900            0.103867   \nSRR306838_GSM752691_hsa_br_F_1         8.776997            0.058821   \nSRR306856_GSM752706_hsa_lv_M_2         5.672659            0.069628   \nSRR306844_GSM752697_hsa_cb_F_1        13.763228            0.142536   \nSRR306855_GSM752705_hsa_lv_M_1         4.077585            0.051337   \nSRR306854_GSM752705_hsa_lv_M_1         5.466384            0.123975   \nSRR306849_GSM752700_hsa_ht_M_1         8.076825            0.076086   \nSRR306848_GSM752700_hsa_ht_M_1         8.744577            0.144962   \nSRR306847_GSM752699_hsa_ht_F_1         9.244642            0.035773   \nSRR306858_GSM752708_hsa_ts_M_2         9.061769            0.284420   \nSRR306843_GSM752696_hsa_br_M_5         7.703955            0.158094   \nSRR306845_GSM752698_hsa_cb_M_1        10.449540            0.112565   \nSRR306857_GSM752707_hsa_ts_M_1         5.062769            0.215574   \nSRR306851_GSM752702_hsa_kd_F_1         5.931206            0.053445   \nSRR306853_GSM752704_hsa_kd_M_2         6.740695            0.092161   \nSRR306841_GSM752694_hsa_br_M_2         7.018785            0.092578   \nSRR306839_GSM752692_hsa_br_M_3         5.982374            0.121512   \nSRR306842_GSM752695_hsa_br_M_4        11.140699            0.086768   \nSRR306840_GSM752693_hsa_br_M_1        11.064334            0.084571   \nSRR306818_GSM752671_ptr_cb_M_1        15.584441            0.221970   \nSRR306821_GSM752674_ptr_kd_F_1        12.188711            0.216556   \nSRR306825_GSM752678_ptr_ts_M_1        13.076841            0.471008   \nSRR306811_GSM752664_ptr_br_F_1        12.422919            0.310263   \nSRR306820_GSM752673_ptr_ht_M_1        10.523720            0.089016   \nSRR306817_GSM752670_ptr_cb_F_1        16.275717            0.234539   \nSRR306822_GSM752675_ptr_kd_M_1        11.378672            0.156198   \nSRR306819_GSM752672_ptr_ht_F_1        12.924536            0.097077   \nSRR306824_GSM752677_ptr_lv_M_1         9.117585            0.195072   \nSRR306823_GSM752676_ptr_lv_F_1         8.313319            0.279967   \nSRR306814_GSM752667_ptr_br_M_3        13.539464            0.126834   \nSRR306812_GSM752665_ptr_br_M_1        11.949069            0.172910   \nSRR306815_GSM752668_ptr_br_M_4        11.380380            0.129701   \nSRR306813_GSM752666_ptr_br_M_2        12.759979            0.115875   \nSRR306816_GSM752669_ptr_br_M_5        11.382558            0.124336   \n\n                                tss_up_5kb_tag_pct  tss_up_10kb_tag_pct  \\\nSRR306850_GSM752701_hsa_ht_M_2            0.133900             0.165841   \nSRR306846_GSM752698_hsa_cb_M_1            0.230325             0.325966   \nSRR306838_GSM752691_hsa_br_F_1            0.188049             0.274425   \nSRR306856_GSM752706_hsa_lv_M_2            0.152541             0.290511   \nSRR306844_GSM752697_hsa_cb_F_1            0.290792             0.399877   \nSRR306855_GSM752705_hsa_lv_M_1            0.103321             0.133573   \nSRR306854_GSM752705_hsa_lv_M_1            0.241046             0.295469   \nSRR306849_GSM752700_hsa_ht_M_1            0.130323             0.166449   \nSRR306848_GSM752700_hsa_ht_M_1            0.224398             0.276863   \nSRR306847_GSM752699_hsa_ht_F_1            0.100813             0.150523   \nSRR306858_GSM752708_hsa_ts_M_2            0.549187             0.805820   \nSRR306843_GSM752696_hsa_br_M_5            0.287504             0.372481   \nSRR306845_GSM752698_hsa_cb_M_1            0.265573             0.383466   \nSRR306857_GSM752707_hsa_ts_M_1            0.388750             0.525313   \nSRR306851_GSM752702_hsa_kd_F_1            0.133987             0.188779   \nSRR306853_GSM752704_hsa_kd_M_2            0.181525             0.246229   \nSRR306841_GSM752694_hsa_br_M_2            0.222930             0.316033   \nSRR306839_GSM752692_hsa_br_M_3            0.210235             0.276477   \nSRR306842_GSM752695_hsa_br_M_4            0.197211             0.278770   \nSRR306840_GSM752693_hsa_br_M_1            0.210160             0.302909   \nSRR306818_GSM752671_ptr_cb_M_1            0.940358             1.429252   \nSRR306821_GSM752674_ptr_kd_F_1            1.688564             2.488061   \nSRR306825_GSM752678_ptr_ts_M_1            1.318105             2.083647   \nSRR306811_GSM752664_ptr_br_F_1            1.854117             2.736027   \nSRR306820_GSM752673_ptr_ht_M_1            4.348670             6.422895   \nSRR306817_GSM752670_ptr_cb_F_1            1.148214             1.728763   \nSRR306822_GSM752675_ptr_kd_M_1            1.388848             2.037626   \nSRR306819_GSM752672_ptr_ht_F_1            4.700328             6.783505   \nSRR306824_GSM752677_ptr_lv_M_1            1.834235             2.593809   \nSRR306823_GSM752676_ptr_lv_F_1            1.105758             1.648797   \nSRR306814_GSM752667_ptr_br_M_3            1.918626             2.807684   \nSRR306812_GSM752665_ptr_br_M_1            1.956976             2.811779   \nSRR306815_GSM752668_ptr_br_M_4            1.171909             1.711974   \nSRR306813_GSM752666_ptr_br_M_2            1.935614             3.281901   \nSRR306816_GSM752669_ptr_br_M_5            1.505449             2.112955   \n\n                                tes_down_1kb_tag_pct  tes_down_5kb_tag_pct  \\\nSRR306850_GSM752701_hsa_ht_M_2              0.118602              0.252719   \nSRR306846_GSM752698_hsa_cb_M_1              0.218132              0.578784   \nSRR306838_GSM752691_hsa_br_F_1              0.299169              0.725877   \nSRR306856_GSM752706_hsa_lv_M_2              0.170481              0.361547   \nSRR306844_GSM752697_hsa_cb_F_1              0.244973              0.686747   \nSRR306855_GSM752705_hsa_lv_M_1              0.192631              0.363290   \nSRR306854_GSM752705_hsa_lv_M_1              0.337129              0.555452   \nSRR306849_GSM752700_hsa_ht_M_1              0.078830              0.220450   \nSRR306848_GSM752700_hsa_ht_M_1              0.123565              0.297658   \nSRR306847_GSM752699_hsa_ht_F_1              0.169803              0.392569   \nSRR306858_GSM752708_hsa_ts_M_2              0.168785              0.441095   \nSRR306843_GSM752696_hsa_br_M_5              0.170042              0.504284   \nSRR306845_GSM752698_hsa_cb_M_1              0.281738              0.695383   \nSRR306857_GSM752707_hsa_ts_M_1              0.159684              0.388253   \nSRR306851_GSM752702_hsa_kd_F_1              0.229574              0.478536   \nSRR306853_GSM752704_hsa_kd_M_2              0.199890              0.426849   \nSRR306841_GSM752694_hsa_br_M_2              0.244381              0.582973   \nSRR306839_GSM752692_hsa_br_M_3              0.148310              0.343508   \nSRR306842_GSM752695_hsa_br_M_4              0.140401              0.380710   \nSRR306840_GSM752693_hsa_br_M_1              0.182674              0.516277   \nSRR306818_GSM752671_ptr_cb_M_1              0.396312              1.157891   \nSRR306821_GSM752674_ptr_kd_F_1              0.383563              0.916675   \nSRR306825_GSM752678_ptr_ts_M_1              0.378494              1.072545   \nSRR306811_GSM752664_ptr_br_F_1              0.363675              0.999858   \nSRR306820_GSM752673_ptr_ht_M_1              0.209949              0.561821   \nSRR306817_GSM752670_ptr_cb_F_1              0.388373              1.154632   \nSRR306822_GSM752675_ptr_kd_M_1              0.370906              0.927598   \nSRR306819_GSM752672_ptr_ht_F_1              0.185390              0.476675   \nSRR306824_GSM752677_ptr_lv_M_1              0.430230              0.837155   \nSRR306823_GSM752676_ptr_lv_F_1              0.856206              3.255491   \nSRR306814_GSM752667_ptr_br_M_3              0.371629              0.981434   \nSRR306812_GSM752665_ptr_br_M_1              0.352074              0.942910   \nSRR306815_GSM752668_ptr_br_M_4              0.379431              1.046891   \nSRR306813_GSM752666_ptr_br_M_2              0.350007              0.932332   \nSRR306816_GSM752669_ptr_br_M_5              0.366106              0.987041   \n\n                                tes_down_10kb_tag_pct  \\\nSRR306850_GSM752701_hsa_ht_M_2               0.309730   \nSRR306846_GSM752698_hsa_cb_M_1               0.747714   \nSRR306838_GSM752691_hsa_br_F_1               0.908078   \nSRR306856_GSM752706_hsa_lv_M_2               0.448215   \nSRR306844_GSM752697_hsa_cb_F_1               0.929773   \nSRR306855_GSM752705_hsa_lv_M_1               0.421308   \nSRR306854_GSM752705_hsa_lv_M_1               0.649898   \nSRR306849_GSM752700_hsa_ht_M_1               0.283038   \nSRR306848_GSM752700_hsa_ht_M_1               0.385587   \nSRR306847_GSM752699_hsa_ht_F_1               0.495937   \nSRR306858_GSM752708_hsa_ts_M_2               0.627041   \nSRR306843_GSM752696_hsa_br_M_5               0.628379   \nSRR306845_GSM752698_hsa_cb_M_1               0.894267   \nSRR306857_GSM752707_hsa_ts_M_1               0.507460   \nSRR306851_GSM752702_hsa_kd_F_1               0.574347   \nSRR306853_GSM752704_hsa_kd_M_2               0.514781   \nSRR306841_GSM752694_hsa_br_M_2               0.736748   \nSRR306839_GSM752692_hsa_br_M_3               0.434965   \nSRR306842_GSM752695_hsa_br_M_4               0.528941   \nSRR306840_GSM752693_hsa_br_M_1               0.699445   \nSRR306818_GSM752671_ptr_cb_M_1               1.613068   \nSRR306821_GSM752674_ptr_kd_F_1               1.286444   \nSRR306825_GSM752678_ptr_ts_M_1               1.692923   \nSRR306811_GSM752664_ptr_br_F_1               1.396973   \nSRR306820_GSM752673_ptr_ht_M_1               0.860757   \nSRR306817_GSM752670_ptr_cb_F_1               1.628229   \nSRR306822_GSM752675_ptr_kd_M_1               1.301911   \nSRR306819_GSM752672_ptr_ht_F_1               0.754687   \nSRR306824_GSM752677_ptr_lv_M_1               1.230338   \nSRR306823_GSM752676_ptr_lv_F_1               3.488537   \nSRR306814_GSM752667_ptr_br_M_3               1.359172   \nSRR306812_GSM752665_ptr_br_M_1               1.284920   \nSRR306815_GSM752668_ptr_br_M_4               1.417952   \nSRR306813_GSM752666_ptr_br_M_2               1.320969   \nSRR306816_GSM752669_ptr_br_M_5               1.385572   \n\n                                other_intergenic_tag_pct  \nSRR306850_GSM752701_hsa_ht_M_2                  3.449339  \nSRR306846_GSM752698_hsa_cb_M_1                  4.154955  \nSRR306838_GSM752691_hsa_br_F_1                  2.435524  \nSRR306856_GSM752706_hsa_lv_M_2                  3.890283  \nSRR306844_GSM752697_hsa_cb_F_1                  4.557041  \nSRR306855_GSM752705_hsa_lv_M_1                  3.907522  \nSRR306854_GSM752705_hsa_lv_M_1                  4.563624  \nSRR306849_GSM752700_hsa_ht_M_1                  6.047478  \nSRR306848_GSM752700_hsa_ht_M_1                  5.931127  \nSRR306847_GSM752699_hsa_ht_F_1                  2.517782  \nSRR306858_GSM752708_hsa_ts_M_2                  4.241749  \nSRR306843_GSM752696_hsa_br_M_5                  5.910978  \nSRR306845_GSM752698_hsa_cb_M_1                  4.342500  \nSRR306857_GSM752707_hsa_ts_M_1                  4.511249  \nSRR306851_GSM752702_hsa_kd_F_1                  2.985065  \nSRR306853_GSM752704_hsa_kd_M_2                  4.230607  \nSRR306841_GSM752694_hsa_br_M_2                  3.371263  \nSRR306839_GSM752692_hsa_br_M_3                  3.556842  \nSRR306842_GSM752695_hsa_br_M_4                  3.254450  \nSRR306840_GSM752693_hsa_br_M_1                  4.303866  \nSRR306818_GSM752671_ptr_cb_M_1                  8.684849  \nSRR306821_GSM752674_ptr_kd_F_1                 13.516879  \nSRR306825_GSM752678_ptr_ts_M_1                  8.270429  \nSRR306811_GSM752664_ptr_br_F_1                 11.982876  \nSRR306820_GSM752673_ptr_ht_M_1                 28.816114  \nSRR306817_GSM752670_ptr_cb_F_1                 10.632902  \nSRR306822_GSM752675_ptr_kd_M_1                 14.155102  \nSRR306819_GSM752672_ptr_ht_F_1                 29.556913  \nSRR306824_GSM752677_ptr_lv_M_1                  8.661254  \nSRR306823_GSM752676_ptr_lv_F_1                  9.439054  \nSRR306814_GSM752667_ptr_br_M_3                 15.928048  \nSRR306812_GSM752665_ptr_br_M_1                 10.368596  \nSRR306815_GSM752668_ptr_br_M_4                 15.974815  \nSRR306813_GSM752666_ptr_br_M_2                 24.893053  \nSRR306816_GSM752669_ptr_br_M_5                 16.829376  \n\n[35 rows x 45 columns]"
       },
       "execution_count": 42,
       "metadata": {},
       "output_type": "execute_result"
      }
     ],
     "persistentId": "25ec9583-f158-4372-9631-944b2e4a37f4",
     "text": "rseqc_read_distributions"
    },
    "executionTime": "2019-12-08T21:35:27.843Z"
   },
   {
    "cell": {
     "executionCount": 43,
     "executionEventId": "85db6f92-0aee-42e7-812d-d86e33b88944",
     "hasError": false,
     "id": "77356fe3-be26-4f78-b591-45e69d1a92e1",
     "outputs": [
      {
       "data": {
        "text/plain": "SRR306850_GSM752701_hsa_ht_M_2    77.896314\nSRR306846_GSM752698_hsa_cb_M_1    68.896122\nSRR306838_GSM752691_hsa_br_F_1    60.498397\nSRR306856_GSM752706_hsa_lv_M_2    79.775906\nSRR306844_GSM752697_hsa_cb_F_1    66.134727\nSRR306855_GSM752705_hsa_lv_M_1    81.156936\nSRR306854_GSM752705_hsa_lv_M_1    77.593550\nSRR306849_GSM752700_hsa_ht_M_1    77.179370\nSRR306848_GSM752700_hsa_ht_M_1    75.757440\nSRR306847_GSM752699_hsa_ht_F_1    73.864222\nSRR306858_GSM752708_hsa_ts_M_2    75.306782\nSRR306843_GSM752696_hsa_br_M_5    70.749943\nSRR306845_GSM752698_hsa_cb_M_1    66.040348\nSRR306857_GSM752707_hsa_ts_M_1    78.315851\nSRR306851_GSM752702_hsa_kd_F_1    74.508421\nSRR306853_GSM752704_hsa_kd_M_2    74.493465\nSRR306841_GSM752694_hsa_br_M_2    67.432900\nSRR306839_GSM752692_hsa_br_M_3    74.759071\nSRR306842_GSM752695_hsa_br_M_4    68.541403\nSRR306840_GSM752693_hsa_br_M_1    66.386154\nSRR306818_GSM752671_ptr_cb_M_1    56.453531\nSRR306821_GSM752674_ptr_kd_F_1    58.334995\nSRR306825_GSM752678_ptr_ts_M_1    64.906057\nSRR306811_GSM752664_ptr_br_F_1    55.072935\nSRR306820_GSM752673_ptr_ht_M_1    44.986695\nSRR306817_GSM752670_ptr_cb_F_1    55.603290\nSRR306822_GSM752675_ptr_kd_M_1    57.078063\nSRR306819_GSM752672_ptr_ht_F_1    42.366890\nSRR306824_GSM752677_ptr_lv_M_1    68.408284\nSRR306823_GSM752676_ptr_lv_F_1    66.309773\nSRR306814_GSM752667_ptr_br_M_3    47.717634\nSRR306812_GSM752665_ptr_br_M_1    57.318649\nSRR306815_GSM752668_ptr_br_M_4    50.633572\nSRR306813_GSM752666_ptr_br_M_2    41.507450\nSRR306816_GSM752669_ptr_br_M_5    49.658642\nName: cds_exons_tag_pct, dtype: float64"
       },
       "execution_count": 43,
       "metadata": {},
       "output_type": "execute_result"
      }
     ],
     "persistentId": "2d249ae5-1be4-41cf-9a24-8c9384d03114",
     "text": "rseqc_read_distributions['cds_exons_tag_pct']"
    },
    "executionTime": "2019-12-08T21:35:27.942Z"
   },
   {
    "cell": {
     "executionCount": 44,
     "executionEventId": "c7084f7b-7fc7-4c32-b65e-6ec0c0255774",
     "hasError": false,
     "id": "137aeb0c-e908-4cdb-a8cf-91aadbb76ed4",
     "outputs": [
      {
       "name": "stdout",
       "output_type": "stream",
       "text": "2.26 µs ± 243 ns per loop (mean ± std. dev. of 7 runs, 100000 loops each)\n"
      }
     ],
     "persistentId": "4278ae9c-8081-499d-91ed-f84a3a81e6b7",
     "text": "pattern = r'\\d_\\d'\n%timeit re.findall(pattern, \"SRR306814_GSM752667_ptr_br_M_3_1\")"
    },
    "executionTime": "2019-12-08T21:35:33.012Z"
   },
   {
    "cell": {
     "executionCount": 45,
     "executionEventId": "1139e558-38c8-4d97-aee7-a18479667530",
     "hasError": false,
     "id": "e955dfdf-b2ed-49e3-ada4-0a81331ed650",
     "outputs": [
      {
       "data": {
        "text/plain": "['SRR306814_GSM752667_ptr_br_M_3']"
       },
       "execution_count": 45,
       "metadata": {},
       "output_type": "execute_result"
      }
     ],
     "persistentId": "b12ca1db-a22e-4160-a861-55d0015e1500",
     "text": "pattern2 = '(\\w+)_1'\nre.findall(pattern2, \"SRR306814_GSM752667_ptr_br_M_3_1\")"
    },
    "executionTime": "2019-12-08T21:35:33.031Z"
   },
   {
    "cell": {
     "executionCount": 46,
     "executionEventId": "ea392dd5-64c9-42cf-9c96-5bce12d0b87f",
     "hasError": false,
     "id": "db9724e8-c577-41e8-bec1-9cb99ea4fcb7",
     "outputs": [
      {
       "name": "stdout",
       "output_type": "stream",
       "text": "2.15 µs ± 192 ns per loop (mean ± std. dev. of 7 runs, 100000 loops each)\n"
      }
     ],
     "persistentId": "e566d178-7a09-40ad-bc55-cb082c7b1b5d",
     "text": "%timeit re.search(pattern, \"SRR306814_GSM752667_ptr_br_M_3_1\")"
    },
    "executionTime": "2019-12-08T21:35:34.806Z"
   },
   {
    "cell": {
     "executionCount": 47,
     "executionEventId": "c3eb7ac3-6eed-43d6-8aca-f47372fa3562",
     "hasError": false,
     "id": "78fbc1b0-f2cc-43d1-ac6f-bdfafeaa101a",
     "outputs": [
      {
       "name": "stdout",
       "output_type": "stream",
       "text": "(34, 17)\n"
      },
      {
       "data": {
        "text/html": "<div>\n<style scoped>\n    .dataframe tbody tr th:only-of-type {\n        vertical-align: middle;\n    }\n\n    .dataframe tbody tr th {\n        vertical-align: top;\n    }\n\n    .dataframe thead th {\n        text-align: right;\n    }\n</style>\n<table border=\"1\" class=\"dataframe\">\n  <thead>\n    <tr style=\"text-align: right;\">\n      <th></th>\n      <th>Non-coding</th>\n      <th>Coding</th>\n      <th>No translation frames without stop codons</th>\n      <th>All translations shorter than peptide k-mer size + 1</th>\n      <th>Read length was shorter than 3 * peptide k-mer size</th>\n      <th>Low complexity peptide in protein encoding</th>\n      <th>filename</th>\n      <th>sample_id</th>\n      <th>sra_id</th>\n      <th>geo_id</th>\n      <th>species_abbrev</th>\n      <th>tissue_abbrev</th>\n      <th>sex</th>\n      <th>replicate</th>\n      <th>species</th>\n      <th>tissue</th>\n      <th>cds_exons_tag_pct</th>\n    </tr>\n  </thead>\n  <tbody>\n    <tr>\n      <th>5</th>\n      <td>63.434188</td>\n      <td>31.277348</td>\n      <td>4.229160</td>\n      <td>1.007798</td>\n      <td>0.019810</td>\n      <td>0.031696</td>\n      <td>/home/olga/data_lg/kmer-hashing/brawand2011/km...</td>\n      <td>SRR306846_GSM752698_hsa_cb_M_1</td>\n      <td>SRR306846</td>\n      <td>GSM752698</td>\n      <td>hsa</td>\n      <td>cb</td>\n      <td>M</td>\n      <td>1</td>\n      <td>Human</td>\n      <td>Cerebellum</td>\n      <td>68.896122</td>\n    </tr>\n    <tr>\n      <th>7</th>\n      <td>56.017835</td>\n      <td>40.119855</td>\n      <td>2.909199</td>\n      <td>0.898754</td>\n      <td>0.022831</td>\n      <td>0.031526</td>\n      <td>/home/olga/data_lg/kmer-hashing/brawand2011/km...</td>\n      <td>SRR306849_GSM752700_hsa_ht_M_1</td>\n      <td>SRR306849</td>\n      <td>GSM752700</td>\n      <td>hsa</td>\n      <td>ht</td>\n      <td>M</td>\n      <td>1</td>\n      <td>Human</td>\n      <td>Heart</td>\n      <td>77.179370</td>\n    </tr>\n    <tr>\n      <th>12</th>\n      <td>70.747162</td>\n      <td>22.799928</td>\n      <td>6.143151</td>\n      <td>0.142532</td>\n      <td>0.143919</td>\n      <td>0.023308</td>\n      <td>/home/olga/data_lg/kmer-hashing/brawand2011/km...</td>\n      <td>SRR306840_GSM752693_hsa_br_M_1</td>\n      <td>SRR306840</td>\n      <td>GSM752693</td>\n      <td>hsa</td>\n      <td>br</td>\n      <td>M</td>\n      <td>1</td>\n      <td>Human</td>\n      <td>Brain</td>\n      <td>66.386154</td>\n    </tr>\n    <tr>\n      <th>19</th>\n      <td>49.656599</td>\n      <td>44.839043</td>\n      <td>3.159836</td>\n      <td>0.902119</td>\n      <td>1.414840</td>\n      <td>0.027563</td>\n      <td>/home/olga/data_lg/kmer-hashing/brawand2011/km...</td>\n      <td>SRR306856_GSM752706_hsa_lv_M_2</td>\n      <td>SRR306856</td>\n      <td>GSM752706</td>\n      <td>hsa</td>\n      <td>lv</td>\n      <td>M</td>\n      <td>2</td>\n      <td>Human</td>\n      <td>Liver</td>\n      <td>79.775906</td>\n    </tr>\n    <tr>\n      <th>23</th>\n      <td>65.102959</td>\n      <td>29.492489</td>\n      <td>4.621289</td>\n      <td>0.697142</td>\n      <td>0.059376</td>\n      <td>0.026745</td>\n      <td>/home/olga/data_lg/kmer-hashing/brawand2011/km...</td>\n      <td>SRR306853_GSM752704_hsa_kd_M_2</td>\n      <td>SRR306853</td>\n      <td>GSM752704</td>\n      <td>hsa</td>\n      <td>kd</td>\n      <td>M</td>\n      <td>2</td>\n      <td>Human</td>\n      <td>Kidney</td>\n      <td>74.493465</td>\n    </tr>\n  </tbody>\n</table>\n</div>",
        "text/plain": "    Non-coding     Coding  No translation frames without stop codons  \\\n5    63.434188  31.277348                                   4.229160   \n7    56.017835  40.119855                                   2.909199   \n12   70.747162  22.799928                                   6.143151   \n19   49.656599  44.839043                                   3.159836   \n23   65.102959  29.492489                                   4.621289   \n\n    All translations shorter than peptide k-mer size + 1  \\\n5                                            1.007798      \n7                                            0.898754      \n12                                           0.142532      \n19                                           0.902119      \n23                                           0.697142      \n\n    Read length was shorter than 3 * peptide k-mer size  \\\n5                                            0.019810     \n7                                            0.022831     \n12                                           0.143919     \n19                                           1.414840     \n23                                           0.059376     \n\n    Low complexity peptide in protein encoding  \\\n5                                     0.031696   \n7                                     0.031526   \n12                                    0.023308   \n19                                    0.027563   \n23                                    0.026745   \n\n                                             filename  \\\n5   /home/olga/data_lg/kmer-hashing/brawand2011/km...   \n7   /home/olga/data_lg/kmer-hashing/brawand2011/km...   \n12  /home/olga/data_lg/kmer-hashing/brawand2011/km...   \n19  /home/olga/data_lg/kmer-hashing/brawand2011/km...   \n23  /home/olga/data_lg/kmer-hashing/brawand2011/km...   \n\n                         sample_id     sra_id     geo_id species_abbrev  \\\n5   SRR306846_GSM752698_hsa_cb_M_1  SRR306846  GSM752698            hsa   \n7   SRR306849_GSM752700_hsa_ht_M_1  SRR306849  GSM752700            hsa   \n12  SRR306840_GSM752693_hsa_br_M_1  SRR306840  GSM752693            hsa   \n19  SRR306856_GSM752706_hsa_lv_M_2  SRR306856  GSM752706            hsa   \n23  SRR306853_GSM752704_hsa_kd_M_2  SRR306853  GSM752704            hsa   \n\n   tissue_abbrev sex  replicate species      tissue  cds_exons_tag_pct  \n5             cb   M          1   Human  Cerebellum          68.896122  \n7             ht   M          1   Human       Heart          77.179370  \n12            br   M          1   Human       Brain          66.386154  \n19            lv   M          2   Human       Liver          79.775906  \n23            kd   M          2   Human      Kidney          74.493465  "
       },
       "execution_count": 47,
       "metadata": {},
       "output_type": "execute_result"
      }
     ],
     "persistentId": "59518d71-2e99-42ba-96af-c6f241ff407d",
     "text": "kmermaid_with_cds = classification_percentages_metadata.join(rseqc_read_distributions['cds_exons_tag_pct'], \n                                         on='sample_id', how='inner')\nprint(kmermaid_with_cds.shape)\nkmermaid_with_cds.head()"
    },
    "executionTime": "2019-12-08T21:35:34.815Z"
   },
   {
    "cell": {
     "executionCount": 48,
     "executionEventId": "a92cf422-74f5-48a9-b00e-341c0361afdd",
     "hasError": false,
     "id": "9d1f6e17-f4ed-42cb-a1d1-60227f236f7f",
     "outputs": [
      {
       "data": {
        "text/plain": "<seaborn.axisgrid.JointGrid at 0x7f0ae60baac8>"
       },
       "execution_count": 48,
       "metadata": {},
       "output_type": "execute_result"
      },
      {
       "data": {
        "image/png": "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\n",
        "text/plain": "<Figure size 432x432 with 3 Axes>"
       },
       "metadata": {
        "needs_background": "light"
       },
       "output_type": "display_data"
      }
     ],
     "persistentId": "b904df91-4857-46e4-938c-740a23f2513d",
     "text": "sns.jointplot(x='cds_exons_tag_pct', y='Coding', data=kmermaid_with_cds)"
    },
    "executionTime": "2019-12-08T21:35:59.531Z"
   },
   {
    "cell": {
     "executionCount": 49,
     "executionEventId": "4771eb28-334b-4624-ba78-f3740bb19941",
     "hasError": true,
     "id": "7773b95e-eb89-4c45-aae8-b48a4e384e2d",
     "outputs": [
      {
       "ename": "AttributeError",
       "evalue": "'PathCollection' object has no property 'hue'",
       "output_type": "error",
       "traceback": [
        "\u001b[0;31m---------------------------------------------------------------------------\u001b[0m",
        "\u001b[0;31mAttributeError\u001b[0m                            Traceback (most recent call last)",
        "\u001b[0;32m<ipython-input-49-91f825355639>\u001b[0m in \u001b[0;36m<module>\u001b[0;34m\u001b[0m\n\u001b[0;32m----> 1\u001b[0;31m \u001b[0msns\u001b[0m\u001b[0;34m.\u001b[0m\u001b[0mjointplot\u001b[0m\u001b[0;34m(\u001b[0m\u001b[0mx\u001b[0m\u001b[0;34m=\u001b[0m\u001b[0;34m'cds_exons_tag_pct'\u001b[0m\u001b[0;34m,\u001b[0m \u001b[0my\u001b[0m\u001b[0;34m=\u001b[0m\u001b[0;34m'Coding'\u001b[0m\u001b[0;34m,\u001b[0m \u001b[0mdata\u001b[0m\u001b[0;34m=\u001b[0m\u001b[0mkmermaid_with_cds\u001b[0m\u001b[0;34m,\u001b[0m \u001b[0mhue\u001b[0m\u001b[0;34m=\u001b[0m\u001b[0;34m'Species'\u001b[0m\u001b[0;34m)\u001b[0m\u001b[0;34m\u001b[0m\u001b[0;34m\u001b[0m\u001b[0m\n\u001b[0m",
        "\u001b[0;32m~/miniconda3/envs/parquet/lib/python3.7/site-packages/seaborn/axisgrid.py\u001b[0m in \u001b[0;36mjointplot\u001b[0;34m(x, y, data, kind, stat_func, color, height, ratio, space, dropna, xlim, ylim, joint_kws, marginal_kws, annot_kws, **kwargs)\u001b[0m\n\u001b[1;32m   2288\u001b[0m \u001b[0;34m\u001b[0m\u001b[0m\n\u001b[1;32m   2289\u001b[0m         \u001b[0mjoint_kws\u001b[0m\u001b[0;34m.\u001b[0m\u001b[0msetdefault\u001b[0m\u001b[0;34m(\u001b[0m\u001b[0;34m\"color\"\u001b[0m\u001b[0;34m,\u001b[0m \u001b[0mcolor\u001b[0m\u001b[0;34m)\u001b[0m\u001b[0;34m\u001b[0m\u001b[0;34m\u001b[0m\u001b[0m\n\u001b[0;32m-> 2290\u001b[0;31m         \u001b[0mgrid\u001b[0m\u001b[0;34m.\u001b[0m\u001b[0mplot_joint\u001b[0m\u001b[0;34m(\u001b[0m\u001b[0mplt\u001b[0m\u001b[0;34m.\u001b[0m\u001b[0mscatter\u001b[0m\u001b[0;34m,\u001b[0m \u001b[0;34m**\u001b[0m\u001b[0mjoint_kws\u001b[0m\u001b[0;34m)\u001b[0m\u001b[0;34m\u001b[0m\u001b[0;34m\u001b[0m\u001b[0m\n\u001b[0m\u001b[1;32m   2291\u001b[0m \u001b[0;34m\u001b[0m\u001b[0m\n\u001b[1;32m   2292\u001b[0m         \u001b[0mmarginal_kws\u001b[0m\u001b[0;34m.\u001b[0m\u001b[0msetdefault\u001b[0m\u001b[0;34m(\u001b[0m\u001b[0;34m\"kde\"\u001b[0m\u001b[0;34m,\u001b[0m \u001b[0;32mFalse\u001b[0m\u001b[0;34m)\u001b[0m\u001b[0;34m\u001b[0m\u001b[0;34m\u001b[0m\u001b[0m\n",
        "\u001b[0;32m~/miniconda3/envs/parquet/lib/python3.7/site-packages/seaborn/axisgrid.py\u001b[0m in \u001b[0;36mplot_joint\u001b[0;34m(self, func, **kwargs)\u001b[0m\n\u001b[1;32m   1782\u001b[0m         \"\"\"\n\u001b[1;32m   1783\u001b[0m         \u001b[0mplt\u001b[0m\u001b[0;34m.\u001b[0m\u001b[0msca\u001b[0m\u001b[0;34m(\u001b[0m\u001b[0mself\u001b[0m\u001b[0;34m.\u001b[0m\u001b[0max_joint\u001b[0m\u001b[0;34m)\u001b[0m\u001b[0;34m\u001b[0m\u001b[0;34m\u001b[0m\u001b[0m\n\u001b[0;32m-> 1784\u001b[0;31m         \u001b[0mfunc\u001b[0m\u001b[0;34m(\u001b[0m\u001b[0mself\u001b[0m\u001b[0;34m.\u001b[0m\u001b[0mx\u001b[0m\u001b[0;34m,\u001b[0m \u001b[0mself\u001b[0m\u001b[0;34m.\u001b[0m\u001b[0my\u001b[0m\u001b[0;34m,\u001b[0m \u001b[0;34m**\u001b[0m\u001b[0mkwargs\u001b[0m\u001b[0;34m)\u001b[0m\u001b[0;34m\u001b[0m\u001b[0;34m\u001b[0m\u001b[0m\n\u001b[0m\u001b[1;32m   1785\u001b[0m \u001b[0;34m\u001b[0m\u001b[0m\n\u001b[1;32m   1786\u001b[0m         \u001b[0;32mreturn\u001b[0m \u001b[0mself\u001b[0m\u001b[0;34m\u001b[0m\u001b[0;34m\u001b[0m\u001b[0m\n",
        "\u001b[0;32m~/miniconda3/envs/parquet/lib/python3.7/site-packages/matplotlib/pyplot.py\u001b[0m in \u001b[0;36mscatter\u001b[0;34m(x, y, s, c, marker, cmap, norm, vmin, vmax, alpha, linewidths, verts, edgecolors, plotnonfinite, data, **kwargs)\u001b[0m\n\u001b[1;32m   2839\u001b[0m         \u001b[0mverts\u001b[0m\u001b[0;34m=\u001b[0m\u001b[0mverts\u001b[0m\u001b[0;34m,\u001b[0m \u001b[0medgecolors\u001b[0m\u001b[0;34m=\u001b[0m\u001b[0medgecolors\u001b[0m\u001b[0;34m,\u001b[0m\u001b[0;34m\u001b[0m\u001b[0;34m\u001b[0m\u001b[0m\n\u001b[1;32m   2840\u001b[0m         plotnonfinite=plotnonfinite, **({\"data\": data} if data is not\n\u001b[0;32m-> 2841\u001b[0;31m         None else {}), **kwargs)\n\u001b[0m\u001b[1;32m   2842\u001b[0m     \u001b[0msci\u001b[0m\u001b[0;34m(\u001b[0m\u001b[0m__ret\u001b[0m\u001b[0;34m)\u001b[0m\u001b[0;34m\u001b[0m\u001b[0;34m\u001b[0m\u001b[0m\n\u001b[1;32m   2843\u001b[0m     \u001b[0;32mreturn\u001b[0m \u001b[0m__ret\u001b[0m\u001b[0;34m\u001b[0m\u001b[0;34m\u001b[0m\u001b[0m\n",
        "\u001b[0;32m~/miniconda3/envs/parquet/lib/python3.7/site-packages/matplotlib/__init__.py\u001b[0m in \u001b[0;36minner\u001b[0;34m(ax, data, *args, **kwargs)\u001b[0m\n\u001b[1;32m   1597\u001b[0m     \u001b[0;32mdef\u001b[0m \u001b[0minner\u001b[0m\u001b[0;34m(\u001b[0m\u001b[0max\u001b[0m\u001b[0;34m,\u001b[0m \u001b[0;34m*\u001b[0m\u001b[0margs\u001b[0m\u001b[0;34m,\u001b[0m \u001b[0mdata\u001b[0m\u001b[0;34m=\u001b[0m\u001b[0;32mNone\u001b[0m\u001b[0;34m,\u001b[0m \u001b[0;34m**\u001b[0m\u001b[0mkwargs\u001b[0m\u001b[0;34m)\u001b[0m\u001b[0;34m:\u001b[0m\u001b[0;34m\u001b[0m\u001b[0;34m\u001b[0m\u001b[0m\n\u001b[1;32m   1598\u001b[0m         \u001b[0;32mif\u001b[0m \u001b[0mdata\u001b[0m \u001b[0;32mis\u001b[0m \u001b[0;32mNone\u001b[0m\u001b[0;34m:\u001b[0m\u001b[0;34m\u001b[0m\u001b[0;34m\u001b[0m\u001b[0m\n\u001b[0;32m-> 1599\u001b[0;31m             \u001b[0;32mreturn\u001b[0m \u001b[0mfunc\u001b[0m\u001b[0;34m(\u001b[0m\u001b[0max\u001b[0m\u001b[0;34m,\u001b[0m \u001b[0;34m*\u001b[0m\u001b[0mmap\u001b[0m\u001b[0;34m(\u001b[0m\u001b[0msanitize_sequence\u001b[0m\u001b[0;34m,\u001b[0m \u001b[0margs\u001b[0m\u001b[0;34m)\u001b[0m\u001b[0;34m,\u001b[0m \u001b[0;34m**\u001b[0m\u001b[0mkwargs\u001b[0m\u001b[0;34m)\u001b[0m\u001b[0;34m\u001b[0m\u001b[0;34m\u001b[0m\u001b[0m\n\u001b[0m\u001b[1;32m   1600\u001b[0m \u001b[0;34m\u001b[0m\u001b[0m\n\u001b[1;32m   1601\u001b[0m         \u001b[0mbound\u001b[0m \u001b[0;34m=\u001b[0m \u001b[0mnew_sig\u001b[0m\u001b[0;34m.\u001b[0m\u001b[0mbind\u001b[0m\u001b[0;34m(\u001b[0m\u001b[0max\u001b[0m\u001b[0;34m,\u001b[0m \u001b[0;34m*\u001b[0m\u001b[0margs\u001b[0m\u001b[0;34m,\u001b[0m \u001b[0;34m**\u001b[0m\u001b[0mkwargs\u001b[0m\u001b[0;34m)\u001b[0m\u001b[0;34m\u001b[0m\u001b[0;34m\u001b[0m\u001b[0m\n",
        "\u001b[0;32m~/miniconda3/envs/parquet/lib/python3.7/site-packages/matplotlib/axes/_axes.py\u001b[0m in \u001b[0;36mscatter\u001b[0;34m(self, x, y, s, c, marker, cmap, norm, vmin, vmax, alpha, linewidths, verts, edgecolors, plotnonfinite, **kwargs)\u001b[0m\n\u001b[1;32m   4498\u001b[0m                 )\n\u001b[1;32m   4499\u001b[0m         \u001b[0mcollection\u001b[0m\u001b[0;34m.\u001b[0m\u001b[0mset_transform\u001b[0m\u001b[0;34m(\u001b[0m\u001b[0mmtransforms\u001b[0m\u001b[0;34m.\u001b[0m\u001b[0mIdentityTransform\u001b[0m\u001b[0;34m(\u001b[0m\u001b[0;34m)\u001b[0m\u001b[0;34m)\u001b[0m\u001b[0;34m\u001b[0m\u001b[0;34m\u001b[0m\u001b[0m\n\u001b[0;32m-> 4500\u001b[0;31m         \u001b[0mcollection\u001b[0m\u001b[0;34m.\u001b[0m\u001b[0mupdate\u001b[0m\u001b[0;34m(\u001b[0m\u001b[0mkwargs\u001b[0m\u001b[0;34m)\u001b[0m\u001b[0;34m\u001b[0m\u001b[0;34m\u001b[0m\u001b[0m\n\u001b[0m\u001b[1;32m   4501\u001b[0m \u001b[0;34m\u001b[0m\u001b[0m\n\u001b[1;32m   4502\u001b[0m         \u001b[0;32mif\u001b[0m \u001b[0mcolors\u001b[0m \u001b[0;32mis\u001b[0m \u001b[0;32mNone\u001b[0m\u001b[0;34m:\u001b[0m\u001b[0;34m\u001b[0m\u001b[0;34m\u001b[0m\u001b[0m\n",
        "\u001b[0;32m~/miniconda3/envs/parquet/lib/python3.7/site-packages/matplotlib/artist.py\u001b[0m in \u001b[0;36mupdate\u001b[0;34m(self, props)\u001b[0m\n\u001b[1;32m    972\u001b[0m \u001b[0;34m\u001b[0m\u001b[0m\n\u001b[1;32m    973\u001b[0m         \u001b[0;32mwith\u001b[0m \u001b[0mcbook\u001b[0m\u001b[0;34m.\u001b[0m\u001b[0m_setattr_cm\u001b[0m\u001b[0;34m(\u001b[0m\u001b[0mself\u001b[0m\u001b[0;34m,\u001b[0m \u001b[0meventson\u001b[0m\u001b[0;34m=\u001b[0m\u001b[0;32mFalse\u001b[0m\u001b[0;34m)\u001b[0m\u001b[0;34m:\u001b[0m\u001b[0;34m\u001b[0m\u001b[0;34m\u001b[0m\u001b[0m\n\u001b[0;32m--> 974\u001b[0;31m             \u001b[0mret\u001b[0m \u001b[0;34m=\u001b[0m \u001b[0;34m[\u001b[0m\u001b[0m_update_property\u001b[0m\u001b[0;34m(\u001b[0m\u001b[0mself\u001b[0m\u001b[0;34m,\u001b[0m \u001b[0mk\u001b[0m\u001b[0;34m,\u001b[0m \u001b[0mv\u001b[0m\u001b[0;34m)\u001b[0m \u001b[0;32mfor\u001b[0m \u001b[0mk\u001b[0m\u001b[0;34m,\u001b[0m \u001b[0mv\u001b[0m \u001b[0;32min\u001b[0m \u001b[0mprops\u001b[0m\u001b[0;34m.\u001b[0m\u001b[0mitems\u001b[0m\u001b[0;34m(\u001b[0m\u001b[0;34m)\u001b[0m\u001b[0;34m]\u001b[0m\u001b[0;34m\u001b[0m\u001b[0;34m\u001b[0m\u001b[0m\n\u001b[0m\u001b[1;32m    975\u001b[0m \u001b[0;34m\u001b[0m\u001b[0m\n\u001b[1;32m    976\u001b[0m         \u001b[0;32mif\u001b[0m \u001b[0mlen\u001b[0m\u001b[0;34m(\u001b[0m\u001b[0mret\u001b[0m\u001b[0;34m)\u001b[0m\u001b[0;34m:\u001b[0m\u001b[0;34m\u001b[0m\u001b[0;34m\u001b[0m\u001b[0m\n",
        "\u001b[0;32m~/miniconda3/envs/parquet/lib/python3.7/site-packages/matplotlib/artist.py\u001b[0m in \u001b[0;36m<listcomp>\u001b[0;34m(.0)\u001b[0m\n\u001b[1;32m    972\u001b[0m \u001b[0;34m\u001b[0m\u001b[0m\n\u001b[1;32m    973\u001b[0m         \u001b[0;32mwith\u001b[0m \u001b[0mcbook\u001b[0m\u001b[0;34m.\u001b[0m\u001b[0m_setattr_cm\u001b[0m\u001b[0;34m(\u001b[0m\u001b[0mself\u001b[0m\u001b[0;34m,\u001b[0m \u001b[0meventson\u001b[0m\u001b[0;34m=\u001b[0m\u001b[0;32mFalse\u001b[0m\u001b[0;34m)\u001b[0m\u001b[0;34m:\u001b[0m\u001b[0;34m\u001b[0m\u001b[0;34m\u001b[0m\u001b[0m\n\u001b[0;32m--> 974\u001b[0;31m             \u001b[0mret\u001b[0m \u001b[0;34m=\u001b[0m \u001b[0;34m[\u001b[0m\u001b[0m_update_property\u001b[0m\u001b[0;34m(\u001b[0m\u001b[0mself\u001b[0m\u001b[0;34m,\u001b[0m \u001b[0mk\u001b[0m\u001b[0;34m,\u001b[0m \u001b[0mv\u001b[0m\u001b[0;34m)\u001b[0m \u001b[0;32mfor\u001b[0m \u001b[0mk\u001b[0m\u001b[0;34m,\u001b[0m \u001b[0mv\u001b[0m \u001b[0;32min\u001b[0m \u001b[0mprops\u001b[0m\u001b[0;34m.\u001b[0m\u001b[0mitems\u001b[0m\u001b[0;34m(\u001b[0m\u001b[0;34m)\u001b[0m\u001b[0;34m]\u001b[0m\u001b[0;34m\u001b[0m\u001b[0;34m\u001b[0m\u001b[0m\n\u001b[0m\u001b[1;32m    975\u001b[0m \u001b[0;34m\u001b[0m\u001b[0m\n\u001b[1;32m    976\u001b[0m         \u001b[0;32mif\u001b[0m \u001b[0mlen\u001b[0m\u001b[0;34m(\u001b[0m\u001b[0mret\u001b[0m\u001b[0;34m)\u001b[0m\u001b[0;34m:\u001b[0m\u001b[0;34m\u001b[0m\u001b[0;34m\u001b[0m\u001b[0m\n",
        "\u001b[0;32m~/miniconda3/envs/parquet/lib/python3.7/site-packages/matplotlib/artist.py\u001b[0m in \u001b[0;36m_update_property\u001b[0;34m(self, k, v)\u001b[0m\n\u001b[1;32m    968\u001b[0m                 \u001b[0;32mif\u001b[0m \u001b[0;32mnot\u001b[0m \u001b[0mcallable\u001b[0m\u001b[0;34m(\u001b[0m\u001b[0mfunc\u001b[0m\u001b[0;34m)\u001b[0m\u001b[0;34m:\u001b[0m\u001b[0;34m\u001b[0m\u001b[0;34m\u001b[0m\u001b[0m\n\u001b[1;32m    969\u001b[0m                     raise AttributeError('{!r} object has no property {!r}'\n\u001b[0;32m--> 970\u001b[0;31m                                          .format(type(self).__name__, k))\n\u001b[0m\u001b[1;32m    971\u001b[0m                 \u001b[0;32mreturn\u001b[0m \u001b[0mfunc\u001b[0m\u001b[0;34m(\u001b[0m\u001b[0mv\u001b[0m\u001b[0;34m)\u001b[0m\u001b[0;34m\u001b[0m\u001b[0;34m\u001b[0m\u001b[0m\n\u001b[1;32m    972\u001b[0m \u001b[0;34m\u001b[0m\u001b[0m\n",
        "\u001b[0;31mAttributeError\u001b[0m: 'PathCollection' object has no property 'hue'"
       ]
      },
      {
       "data": {
        "image/png": "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\n",
        "text/plain": "<Figure size 432x432 with 3 Axes>"
       },
       "metadata": {
        "needs_background": "light"
       },
       "output_type": "display_data"
      }
     ],
     "persistentId": "12a8aec6-b7a5-4709-9da8-9b90f94505ff",
     "text": "sns.jointplot(x='cds_exons_tag_pct', y='Coding', data=kmermaid_with_cds, hue='Species')"
    },
    "executionTime": "2019-12-08T21:36:55.103Z"
   },
   {
    "cell": {
     "executionCount": 50,
     "executionEventId": "e0520ff5-db47-41e0-8d39-9917b52f5b7b",
     "hasError": true,
     "id": "7773b95e-eb89-4c45-aae8-b48a4e384e2d",
     "outputs": [
      {
       "ename": "AttributeError",
       "evalue": "'PathCollection' object has no property 'hue'",
       "output_type": "error",
       "traceback": [
        "\u001b[0;31m---------------------------------------------------------------------------\u001b[0m",
        "\u001b[0;31mAttributeError\u001b[0m                            Traceback (most recent call last)",
        "\u001b[0;32m<ipython-input-50-5289594c88dc>\u001b[0m in \u001b[0;36m<module>\u001b[0;34m\u001b[0m\n\u001b[0;32m----> 1\u001b[0;31m \u001b[0msns\u001b[0m\u001b[0;34m.\u001b[0m\u001b[0mjointplot\u001b[0m\u001b[0;34m(\u001b[0m\u001b[0mx\u001b[0m\u001b[0;34m=\u001b[0m\u001b[0;34m'cds_exons_tag_pct'\u001b[0m\u001b[0;34m,\u001b[0m \u001b[0my\u001b[0m\u001b[0;34m=\u001b[0m\u001b[0;34m'Coding'\u001b[0m\u001b[0;34m,\u001b[0m \u001b[0mdata\u001b[0m\u001b[0;34m=\u001b[0m\u001b[0mkmermaid_with_cds\u001b[0m\u001b[0;34m,\u001b[0m \u001b[0mhue\u001b[0m\u001b[0;34m=\u001b[0m\u001b[0;34m'species'\u001b[0m\u001b[0;34m)\u001b[0m\u001b[0;34m\u001b[0m\u001b[0;34m\u001b[0m\u001b[0m\n\u001b[0m",
        "\u001b[0;32m~/miniconda3/envs/parquet/lib/python3.7/site-packages/seaborn/axisgrid.py\u001b[0m in \u001b[0;36mjointplot\u001b[0;34m(x, y, data, kind, stat_func, color, height, ratio, space, dropna, xlim, ylim, joint_kws, marginal_kws, annot_kws, **kwargs)\u001b[0m\n\u001b[1;32m   2288\u001b[0m \u001b[0;34m\u001b[0m\u001b[0m\n\u001b[1;32m   2289\u001b[0m         \u001b[0mjoint_kws\u001b[0m\u001b[0;34m.\u001b[0m\u001b[0msetdefault\u001b[0m\u001b[0;34m(\u001b[0m\u001b[0;34m\"color\"\u001b[0m\u001b[0;34m,\u001b[0m \u001b[0mcolor\u001b[0m\u001b[0;34m)\u001b[0m\u001b[0;34m\u001b[0m\u001b[0;34m\u001b[0m\u001b[0m\n\u001b[0;32m-> 2290\u001b[0;31m         \u001b[0mgrid\u001b[0m\u001b[0;34m.\u001b[0m\u001b[0mplot_joint\u001b[0m\u001b[0;34m(\u001b[0m\u001b[0mplt\u001b[0m\u001b[0;34m.\u001b[0m\u001b[0mscatter\u001b[0m\u001b[0;34m,\u001b[0m \u001b[0;34m**\u001b[0m\u001b[0mjoint_kws\u001b[0m\u001b[0;34m)\u001b[0m\u001b[0;34m\u001b[0m\u001b[0;34m\u001b[0m\u001b[0m\n\u001b[0m\u001b[1;32m   2291\u001b[0m \u001b[0;34m\u001b[0m\u001b[0m\n\u001b[1;32m   2292\u001b[0m         \u001b[0mmarginal_kws\u001b[0m\u001b[0;34m.\u001b[0m\u001b[0msetdefault\u001b[0m\u001b[0;34m(\u001b[0m\u001b[0;34m\"kde\"\u001b[0m\u001b[0;34m,\u001b[0m \u001b[0;32mFalse\u001b[0m\u001b[0;34m)\u001b[0m\u001b[0;34m\u001b[0m\u001b[0;34m\u001b[0m\u001b[0m\n",
        "\u001b[0;32m~/miniconda3/envs/parquet/lib/python3.7/site-packages/seaborn/axisgrid.py\u001b[0m in \u001b[0;36mplot_joint\u001b[0;34m(self, func, **kwargs)\u001b[0m\n\u001b[1;32m   1782\u001b[0m         \"\"\"\n\u001b[1;32m   1783\u001b[0m         \u001b[0mplt\u001b[0m\u001b[0;34m.\u001b[0m\u001b[0msca\u001b[0m\u001b[0;34m(\u001b[0m\u001b[0mself\u001b[0m\u001b[0;34m.\u001b[0m\u001b[0max_joint\u001b[0m\u001b[0;34m)\u001b[0m\u001b[0;34m\u001b[0m\u001b[0;34m\u001b[0m\u001b[0m\n\u001b[0;32m-> 1784\u001b[0;31m         \u001b[0mfunc\u001b[0m\u001b[0;34m(\u001b[0m\u001b[0mself\u001b[0m\u001b[0;34m.\u001b[0m\u001b[0mx\u001b[0m\u001b[0;34m,\u001b[0m \u001b[0mself\u001b[0m\u001b[0;34m.\u001b[0m\u001b[0my\u001b[0m\u001b[0;34m,\u001b[0m \u001b[0;34m**\u001b[0m\u001b[0mkwargs\u001b[0m\u001b[0;34m)\u001b[0m\u001b[0;34m\u001b[0m\u001b[0;34m\u001b[0m\u001b[0m\n\u001b[0m\u001b[1;32m   1785\u001b[0m \u001b[0;34m\u001b[0m\u001b[0m\n\u001b[1;32m   1786\u001b[0m         \u001b[0;32mreturn\u001b[0m \u001b[0mself\u001b[0m\u001b[0;34m\u001b[0m\u001b[0;34m\u001b[0m\u001b[0m\n",
        "\u001b[0;32m~/miniconda3/envs/parquet/lib/python3.7/site-packages/matplotlib/pyplot.py\u001b[0m in \u001b[0;36mscatter\u001b[0;34m(x, y, s, c, marker, cmap, norm, vmin, vmax, alpha, linewidths, verts, edgecolors, plotnonfinite, data, **kwargs)\u001b[0m\n\u001b[1;32m   2839\u001b[0m         \u001b[0mverts\u001b[0m\u001b[0;34m=\u001b[0m\u001b[0mverts\u001b[0m\u001b[0;34m,\u001b[0m \u001b[0medgecolors\u001b[0m\u001b[0;34m=\u001b[0m\u001b[0medgecolors\u001b[0m\u001b[0;34m,\u001b[0m\u001b[0;34m\u001b[0m\u001b[0;34m\u001b[0m\u001b[0m\n\u001b[1;32m   2840\u001b[0m         plotnonfinite=plotnonfinite, **({\"data\": data} if data is not\n\u001b[0;32m-> 2841\u001b[0;31m         None else {}), **kwargs)\n\u001b[0m\u001b[1;32m   2842\u001b[0m     \u001b[0msci\u001b[0m\u001b[0;34m(\u001b[0m\u001b[0m__ret\u001b[0m\u001b[0;34m)\u001b[0m\u001b[0;34m\u001b[0m\u001b[0;34m\u001b[0m\u001b[0m\n\u001b[1;32m   2843\u001b[0m     \u001b[0;32mreturn\u001b[0m \u001b[0m__ret\u001b[0m\u001b[0;34m\u001b[0m\u001b[0;34m\u001b[0m\u001b[0m\n",
        "\u001b[0;32m~/miniconda3/envs/parquet/lib/python3.7/site-packages/matplotlib/__init__.py\u001b[0m in \u001b[0;36minner\u001b[0;34m(ax, data, *args, **kwargs)\u001b[0m\n\u001b[1;32m   1597\u001b[0m     \u001b[0;32mdef\u001b[0m \u001b[0minner\u001b[0m\u001b[0;34m(\u001b[0m\u001b[0max\u001b[0m\u001b[0;34m,\u001b[0m \u001b[0;34m*\u001b[0m\u001b[0margs\u001b[0m\u001b[0;34m,\u001b[0m \u001b[0mdata\u001b[0m\u001b[0;34m=\u001b[0m\u001b[0;32mNone\u001b[0m\u001b[0;34m,\u001b[0m \u001b[0;34m**\u001b[0m\u001b[0mkwargs\u001b[0m\u001b[0;34m)\u001b[0m\u001b[0;34m:\u001b[0m\u001b[0;34m\u001b[0m\u001b[0;34m\u001b[0m\u001b[0m\n\u001b[1;32m   1598\u001b[0m         \u001b[0;32mif\u001b[0m \u001b[0mdata\u001b[0m \u001b[0;32mis\u001b[0m \u001b[0;32mNone\u001b[0m\u001b[0;34m:\u001b[0m\u001b[0;34m\u001b[0m\u001b[0;34m\u001b[0m\u001b[0m\n\u001b[0;32m-> 1599\u001b[0;31m             \u001b[0;32mreturn\u001b[0m \u001b[0mfunc\u001b[0m\u001b[0;34m(\u001b[0m\u001b[0max\u001b[0m\u001b[0;34m,\u001b[0m \u001b[0;34m*\u001b[0m\u001b[0mmap\u001b[0m\u001b[0;34m(\u001b[0m\u001b[0msanitize_sequence\u001b[0m\u001b[0;34m,\u001b[0m \u001b[0margs\u001b[0m\u001b[0;34m)\u001b[0m\u001b[0;34m,\u001b[0m \u001b[0;34m**\u001b[0m\u001b[0mkwargs\u001b[0m\u001b[0;34m)\u001b[0m\u001b[0;34m\u001b[0m\u001b[0;34m\u001b[0m\u001b[0m\n\u001b[0m\u001b[1;32m   1600\u001b[0m \u001b[0;34m\u001b[0m\u001b[0m\n\u001b[1;32m   1601\u001b[0m         \u001b[0mbound\u001b[0m \u001b[0;34m=\u001b[0m \u001b[0mnew_sig\u001b[0m\u001b[0;34m.\u001b[0m\u001b[0mbind\u001b[0m\u001b[0;34m(\u001b[0m\u001b[0max\u001b[0m\u001b[0;34m,\u001b[0m \u001b[0;34m*\u001b[0m\u001b[0margs\u001b[0m\u001b[0;34m,\u001b[0m \u001b[0;34m**\u001b[0m\u001b[0mkwargs\u001b[0m\u001b[0;34m)\u001b[0m\u001b[0;34m\u001b[0m\u001b[0;34m\u001b[0m\u001b[0m\n",
        "\u001b[0;32m~/miniconda3/envs/parquet/lib/python3.7/site-packages/matplotlib/axes/_axes.py\u001b[0m in \u001b[0;36mscatter\u001b[0;34m(self, x, y, s, c, marker, cmap, norm, vmin, vmax, alpha, linewidths, verts, edgecolors, plotnonfinite, **kwargs)\u001b[0m\n\u001b[1;32m   4498\u001b[0m                 )\n\u001b[1;32m   4499\u001b[0m         \u001b[0mcollection\u001b[0m\u001b[0;34m.\u001b[0m\u001b[0mset_transform\u001b[0m\u001b[0;34m(\u001b[0m\u001b[0mmtransforms\u001b[0m\u001b[0;34m.\u001b[0m\u001b[0mIdentityTransform\u001b[0m\u001b[0;34m(\u001b[0m\u001b[0;34m)\u001b[0m\u001b[0;34m)\u001b[0m\u001b[0;34m\u001b[0m\u001b[0;34m\u001b[0m\u001b[0m\n\u001b[0;32m-> 4500\u001b[0;31m         \u001b[0mcollection\u001b[0m\u001b[0;34m.\u001b[0m\u001b[0mupdate\u001b[0m\u001b[0;34m(\u001b[0m\u001b[0mkwargs\u001b[0m\u001b[0;34m)\u001b[0m\u001b[0;34m\u001b[0m\u001b[0;34m\u001b[0m\u001b[0m\n\u001b[0m\u001b[1;32m   4501\u001b[0m \u001b[0;34m\u001b[0m\u001b[0m\n\u001b[1;32m   4502\u001b[0m         \u001b[0;32mif\u001b[0m \u001b[0mcolors\u001b[0m \u001b[0;32mis\u001b[0m \u001b[0;32mNone\u001b[0m\u001b[0;34m:\u001b[0m\u001b[0;34m\u001b[0m\u001b[0;34m\u001b[0m\u001b[0m\n",
        "\u001b[0;32m~/miniconda3/envs/parquet/lib/python3.7/site-packages/matplotlib/artist.py\u001b[0m in \u001b[0;36mupdate\u001b[0;34m(self, props)\u001b[0m\n\u001b[1;32m    972\u001b[0m \u001b[0;34m\u001b[0m\u001b[0m\n\u001b[1;32m    973\u001b[0m         \u001b[0;32mwith\u001b[0m \u001b[0mcbook\u001b[0m\u001b[0;34m.\u001b[0m\u001b[0m_setattr_cm\u001b[0m\u001b[0;34m(\u001b[0m\u001b[0mself\u001b[0m\u001b[0;34m,\u001b[0m \u001b[0meventson\u001b[0m\u001b[0;34m=\u001b[0m\u001b[0;32mFalse\u001b[0m\u001b[0;34m)\u001b[0m\u001b[0;34m:\u001b[0m\u001b[0;34m\u001b[0m\u001b[0;34m\u001b[0m\u001b[0m\n\u001b[0;32m--> 974\u001b[0;31m             \u001b[0mret\u001b[0m \u001b[0;34m=\u001b[0m \u001b[0;34m[\u001b[0m\u001b[0m_update_property\u001b[0m\u001b[0;34m(\u001b[0m\u001b[0mself\u001b[0m\u001b[0;34m,\u001b[0m \u001b[0mk\u001b[0m\u001b[0;34m,\u001b[0m \u001b[0mv\u001b[0m\u001b[0;34m)\u001b[0m \u001b[0;32mfor\u001b[0m \u001b[0mk\u001b[0m\u001b[0;34m,\u001b[0m \u001b[0mv\u001b[0m \u001b[0;32min\u001b[0m \u001b[0mprops\u001b[0m\u001b[0;34m.\u001b[0m\u001b[0mitems\u001b[0m\u001b[0;34m(\u001b[0m\u001b[0;34m)\u001b[0m\u001b[0;34m]\u001b[0m\u001b[0;34m\u001b[0m\u001b[0;34m\u001b[0m\u001b[0m\n\u001b[0m\u001b[1;32m    975\u001b[0m \u001b[0;34m\u001b[0m\u001b[0m\n\u001b[1;32m    976\u001b[0m         \u001b[0;32mif\u001b[0m \u001b[0mlen\u001b[0m\u001b[0;34m(\u001b[0m\u001b[0mret\u001b[0m\u001b[0;34m)\u001b[0m\u001b[0;34m:\u001b[0m\u001b[0;34m\u001b[0m\u001b[0;34m\u001b[0m\u001b[0m\n",
        "\u001b[0;32m~/miniconda3/envs/parquet/lib/python3.7/site-packages/matplotlib/artist.py\u001b[0m in \u001b[0;36m<listcomp>\u001b[0;34m(.0)\u001b[0m\n\u001b[1;32m    972\u001b[0m \u001b[0;34m\u001b[0m\u001b[0m\n\u001b[1;32m    973\u001b[0m         \u001b[0;32mwith\u001b[0m \u001b[0mcbook\u001b[0m\u001b[0;34m.\u001b[0m\u001b[0m_setattr_cm\u001b[0m\u001b[0;34m(\u001b[0m\u001b[0mself\u001b[0m\u001b[0;34m,\u001b[0m \u001b[0meventson\u001b[0m\u001b[0;34m=\u001b[0m\u001b[0;32mFalse\u001b[0m\u001b[0;34m)\u001b[0m\u001b[0;34m:\u001b[0m\u001b[0;34m\u001b[0m\u001b[0;34m\u001b[0m\u001b[0m\n\u001b[0;32m--> 974\u001b[0;31m             \u001b[0mret\u001b[0m \u001b[0;34m=\u001b[0m \u001b[0;34m[\u001b[0m\u001b[0m_update_property\u001b[0m\u001b[0;34m(\u001b[0m\u001b[0mself\u001b[0m\u001b[0;34m,\u001b[0m \u001b[0mk\u001b[0m\u001b[0;34m,\u001b[0m \u001b[0mv\u001b[0m\u001b[0;34m)\u001b[0m \u001b[0;32mfor\u001b[0m \u001b[0mk\u001b[0m\u001b[0;34m,\u001b[0m \u001b[0mv\u001b[0m \u001b[0;32min\u001b[0m \u001b[0mprops\u001b[0m\u001b[0;34m.\u001b[0m\u001b[0mitems\u001b[0m\u001b[0;34m(\u001b[0m\u001b[0;34m)\u001b[0m\u001b[0;34m]\u001b[0m\u001b[0;34m\u001b[0m\u001b[0;34m\u001b[0m\u001b[0m\n\u001b[0m\u001b[1;32m    975\u001b[0m \u001b[0;34m\u001b[0m\u001b[0m\n\u001b[1;32m    976\u001b[0m         \u001b[0;32mif\u001b[0m \u001b[0mlen\u001b[0m\u001b[0;34m(\u001b[0m\u001b[0mret\u001b[0m\u001b[0;34m)\u001b[0m\u001b[0;34m:\u001b[0m\u001b[0;34m\u001b[0m\u001b[0;34m\u001b[0m\u001b[0m\n",
        "\u001b[0;32m~/miniconda3/envs/parquet/lib/python3.7/site-packages/matplotlib/artist.py\u001b[0m in \u001b[0;36m_update_property\u001b[0;34m(self, k, v)\u001b[0m\n\u001b[1;32m    968\u001b[0m                 \u001b[0;32mif\u001b[0m \u001b[0;32mnot\u001b[0m \u001b[0mcallable\u001b[0m\u001b[0;34m(\u001b[0m\u001b[0mfunc\u001b[0m\u001b[0;34m)\u001b[0m\u001b[0;34m:\u001b[0m\u001b[0;34m\u001b[0m\u001b[0;34m\u001b[0m\u001b[0m\n\u001b[1;32m    969\u001b[0m                     raise AttributeError('{!r} object has no property {!r}'\n\u001b[0;32m--> 970\u001b[0;31m                                          .format(type(self).__name__, k))\n\u001b[0m\u001b[1;32m    971\u001b[0m                 \u001b[0;32mreturn\u001b[0m \u001b[0mfunc\u001b[0m\u001b[0;34m(\u001b[0m\u001b[0mv\u001b[0m\u001b[0;34m)\u001b[0m\u001b[0;34m\u001b[0m\u001b[0;34m\u001b[0m\u001b[0m\n\u001b[1;32m    972\u001b[0m \u001b[0;34m\u001b[0m\u001b[0m\n",
        "\u001b[0;31mAttributeError\u001b[0m: 'PathCollection' object has no property 'hue'"
       ]
      },
      {
       "data": {
        "image/png": "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\n",
        "text/plain": "<Figure size 432x432 with 3 Axes>"
       },
       "metadata": {
        "needs_background": "light"
       },
       "output_type": "display_data"
      }
     ],
     "persistentId": "12a8aec6-b7a5-4709-9da8-9b90f94505ff",
     "text": "sns.jointplot(x='cds_exons_tag_pct', y='Coding', data=kmermaid_with_cds, hue='species')"
    },
    "executionTime": "2019-12-08T21:36:57.095Z"
   },
   {
    "cell": {
     "executionCount": 51,
     "executionEventId": "df9303bd-d194-4c49-9479-b079e14bbc15",
     "hasError": false,
     "id": "7773b95e-eb89-4c45-aae8-b48a4e384e2d",
     "outputs": [
      {
       "data": {
        "text/plain": "<matplotlib.axes._subplots.AxesSubplot at 0x7f0ae2bc84e0>"
       },
       "execution_count": 51,
       "metadata": {},
       "output_type": "execute_result"
      },
      {
       "data": {
        "image/png": "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\n",
        "text/plain": "<Figure size 432x288 with 1 Axes>"
       },
       "metadata": {
        "needs_background": "light"
       },
       "output_type": "display_data"
      }
     ],
     "persistentId": "12a8aec6-b7a5-4709-9da8-9b90f94505ff",
     "text": "sns.scatterplot(x='cds_exons_tag_pct', y='Coding', data=kmermaid_with_cds, hue='species')"
    },
    "executionTime": "2019-12-08T21:37:07.636Z"
   },
   {
    "cell": {
     "executionCount": 52,
     "executionEventId": "05a3f55f-a852-4be0-825c-ab554cad8b00",
     "hasError": true,
     "id": "696c2fff-0dc0-4758-a42a-bbcf35401784",
     "outputs": [
      {
       "ename": "TypeError",
       "evalue": "regplot() got an unexpected keyword argument 'hue'",
       "output_type": "error",
       "traceback": [
        "\u001b[0;31m---------------------------------------------------------------------------\u001b[0m",
        "\u001b[0;31mTypeError\u001b[0m                                 Traceback (most recent call last)",
        "\u001b[0;32m<ipython-input-52-82308a595c04>\u001b[0m in \u001b[0;36m<module>\u001b[0;34m\u001b[0m\n\u001b[0;32m----> 1\u001b[0;31m \u001b[0msns\u001b[0m\u001b[0;34m.\u001b[0m\u001b[0mregplot\u001b[0m\u001b[0;34m(\u001b[0m\u001b[0mx\u001b[0m\u001b[0;34m=\u001b[0m\u001b[0;34m'cds_exons_tag_pct'\u001b[0m\u001b[0;34m,\u001b[0m \u001b[0my\u001b[0m\u001b[0;34m=\u001b[0m\u001b[0;34m'Coding'\u001b[0m\u001b[0;34m,\u001b[0m \u001b[0mdata\u001b[0m\u001b[0;34m=\u001b[0m\u001b[0mkmermaid_with_cds\u001b[0m\u001b[0;34m,\u001b[0m \u001b[0mhue\u001b[0m\u001b[0;34m=\u001b[0m\u001b[0;34m'species'\u001b[0m\u001b[0;34m)\u001b[0m\u001b[0;34m\u001b[0m\u001b[0;34m\u001b[0m\u001b[0m\n\u001b[0m",
        "\u001b[0;31mTypeError\u001b[0m: regplot() got an unexpected keyword argument 'hue'"
       ]
      }
     ],
     "persistentId": "c2cfce9e-c46a-4a6e-bbde-7e9cb9751efa",
     "text": "sns.regplot(x='cds_exons_tag_pct', y='Coding', data=kmermaid_with_cds, hue='species')"
    },
    "executionTime": "2019-12-08T21:37:22.853Z"
   },
   {
    "cell": {
     "executionCount": 53,
     "executionEventId": "9c9a5dfd-740d-4b62-93dc-0f76a4b5507c",
     "hasError": true,
     "id": "696c2fff-0dc0-4758-a42a-bbcf35401784",
     "outputs": [
      {
       "name": "stderr",
       "output_type": "stream",
       "text": "/home/olga/miniconda3/envs/parquet/lib/python3.7/site-packages/seaborn/categorical.py:3666: UserWarning: The `factorplot` function has been renamed to `catplot`. The original name will be removed in a future release. Please update your code. Note that the default `kind` in `factorplot` (`'point'`) has changed `'strip'` in `catplot`.\n  warnings.warn(msg)\n"
      },
      {
       "ename": "ValueError",
       "evalue": "Plot kind 'reg' is not recognized",
       "output_type": "error",
       "traceback": [
        "\u001b[0;31m---------------------------------------------------------------------------\u001b[0m",
        "\u001b[0;31mKeyError\u001b[0m                                  Traceback (most recent call last)",
        "\u001b[0;32m~/miniconda3/envs/parquet/lib/python3.7/site-packages/seaborn/categorical.py\u001b[0m in \u001b[0;36mcatplot\u001b[0;34m(x, y, hue, data, row, col, col_wrap, estimator, ci, n_boot, units, order, hue_order, row_order, col_order, kind, height, aspect, orient, color, palette, legend, legend_out, sharex, sharey, margin_titles, facet_kws, **kwargs)\u001b[0m\n\u001b[1;32m   3695\u001b[0m     \u001b[0;32mtry\u001b[0m\u001b[0;34m:\u001b[0m\u001b[0;34m\u001b[0m\u001b[0;34m\u001b[0m\u001b[0m\n\u001b[0;32m-> 3696\u001b[0;31m         \u001b[0mplot_func\u001b[0m \u001b[0;34m=\u001b[0m \u001b[0mglobals\u001b[0m\u001b[0;34m(\u001b[0m\u001b[0;34m)\u001b[0m\u001b[0;34m[\u001b[0m\u001b[0mkind\u001b[0m \u001b[0;34m+\u001b[0m \u001b[0;34m\"plot\"\u001b[0m\u001b[0;34m]\u001b[0m\u001b[0;34m\u001b[0m\u001b[0;34m\u001b[0m\u001b[0m\n\u001b[0m\u001b[1;32m   3697\u001b[0m     \u001b[0;32mexcept\u001b[0m \u001b[0mKeyError\u001b[0m\u001b[0;34m:\u001b[0m\u001b[0;34m\u001b[0m\u001b[0;34m\u001b[0m\u001b[0m\n",
        "\u001b[0;31mKeyError\u001b[0m: 'regplot'",
        "\nDuring handling of the above exception, another exception occurred:\n",
        "\u001b[0;31mValueError\u001b[0m                                Traceback (most recent call last)",
        "\u001b[0;32m<ipython-input-53-860fd311548d>\u001b[0m in \u001b[0;36m<module>\u001b[0;34m\u001b[0m\n\u001b[0;32m----> 1\u001b[0;31m \u001b[0msns\u001b[0m\u001b[0;34m.\u001b[0m\u001b[0mfactorplot\u001b[0m\u001b[0;34m(\u001b[0m\u001b[0mx\u001b[0m\u001b[0;34m=\u001b[0m\u001b[0;34m'cds_exons_tag_pct'\u001b[0m\u001b[0;34m,\u001b[0m \u001b[0my\u001b[0m\u001b[0;34m=\u001b[0m\u001b[0;34m'Coding'\u001b[0m\u001b[0;34m,\u001b[0m \u001b[0mdata\u001b[0m\u001b[0;34m=\u001b[0m\u001b[0mkmermaid_with_cds\u001b[0m\u001b[0;34m,\u001b[0m \u001b[0mhue\u001b[0m\u001b[0;34m=\u001b[0m\u001b[0;34m'species'\u001b[0m\u001b[0;34m,\u001b[0m \u001b[0mkind\u001b[0m\u001b[0;34m=\u001b[0m\u001b[0;34m'reg'\u001b[0m\u001b[0;34m)\u001b[0m\u001b[0;34m\u001b[0m\u001b[0;34m\u001b[0m\u001b[0m\n\u001b[0m",
        "\u001b[0;32m~/miniconda3/envs/parquet/lib/python3.7/site-packages/seaborn/categorical.py\u001b[0m in \u001b[0;36mfactorplot\u001b[0;34m(*args, **kwargs)\u001b[0m\n\u001b[1;32m   3674\u001b[0m     \u001b[0mkwargs\u001b[0m\u001b[0;34m.\u001b[0m\u001b[0msetdefault\u001b[0m\u001b[0;34m(\u001b[0m\u001b[0;34m\"kind\"\u001b[0m\u001b[0;34m,\u001b[0m \u001b[0;34m\"point\"\u001b[0m\u001b[0;34m)\u001b[0m\u001b[0;34m\u001b[0m\u001b[0;34m\u001b[0m\u001b[0m\n\u001b[1;32m   3675\u001b[0m \u001b[0;34m\u001b[0m\u001b[0m\n\u001b[0;32m-> 3676\u001b[0;31m     \u001b[0;32mreturn\u001b[0m \u001b[0mcatplot\u001b[0m\u001b[0;34m(\u001b[0m\u001b[0;34m*\u001b[0m\u001b[0margs\u001b[0m\u001b[0;34m,\u001b[0m \u001b[0;34m**\u001b[0m\u001b[0mkwargs\u001b[0m\u001b[0;34m)\u001b[0m\u001b[0;34m\u001b[0m\u001b[0;34m\u001b[0m\u001b[0m\n\u001b[0m\u001b[1;32m   3677\u001b[0m \u001b[0;34m\u001b[0m\u001b[0m\n\u001b[1;32m   3678\u001b[0m \u001b[0;34m\u001b[0m\u001b[0m\n",
        "\u001b[0;32m~/miniconda3/envs/parquet/lib/python3.7/site-packages/seaborn/categorical.py\u001b[0m in \u001b[0;36mcatplot\u001b[0;34m(x, y, hue, data, row, col, col_wrap, estimator, ci, n_boot, units, order, hue_order, row_order, col_order, kind, height, aspect, orient, color, palette, legend, legend_out, sharex, sharey, margin_titles, facet_kws, **kwargs)\u001b[0m\n\u001b[1;32m   3697\u001b[0m     \u001b[0;32mexcept\u001b[0m \u001b[0mKeyError\u001b[0m\u001b[0;34m:\u001b[0m\u001b[0;34m\u001b[0m\u001b[0;34m\u001b[0m\u001b[0m\n\u001b[1;32m   3698\u001b[0m         \u001b[0merr\u001b[0m \u001b[0;34m=\u001b[0m \u001b[0;34m\"Plot kind '{}' is not recognized\"\u001b[0m\u001b[0;34m.\u001b[0m\u001b[0mformat\u001b[0m\u001b[0;34m(\u001b[0m\u001b[0mkind\u001b[0m\u001b[0;34m)\u001b[0m\u001b[0;34m\u001b[0m\u001b[0;34m\u001b[0m\u001b[0m\n\u001b[0;32m-> 3699\u001b[0;31m         \u001b[0;32mraise\u001b[0m \u001b[0mValueError\u001b[0m\u001b[0;34m(\u001b[0m\u001b[0merr\u001b[0m\u001b[0;34m)\u001b[0m\u001b[0;34m\u001b[0m\u001b[0;34m\u001b[0m\u001b[0m\n\u001b[0m\u001b[1;32m   3700\u001b[0m \u001b[0;34m\u001b[0m\u001b[0m\n\u001b[1;32m   3701\u001b[0m     \u001b[0;31m# Alias the input variables to determine categorical order and palette\u001b[0m\u001b[0;34m\u001b[0m\u001b[0;34m\u001b[0m\u001b[0;34m\u001b[0m\u001b[0m\n",
        "\u001b[0;31mValueError\u001b[0m: Plot kind 'reg' is not recognized"
       ]
      }
     ],
     "persistentId": "c2cfce9e-c46a-4a6e-bbde-7e9cb9751efa",
     "text": "sns.factorplot(x='cds_exons_tag_pct', y='Coding', data=kmermaid_with_cds, hue='species', kind='reg')"
    },
    "executionTime": "2019-12-08T21:37:41.282Z"
   },
   {
    "cell": {
     "executionCount": 54,
     "executionEventId": "10ce6cf3-2330-4e2b-bab4-c942c9e908c8",
     "hasError": false,
     "id": "4881bfe9-4195-416d-96fa-35ea44f8f848",
     "outputs": [
      {
       "data": {
        "text/plain": "<seaborn.axisgrid.FacetGrid at 0x7f0ae4e460f0>"
       },
       "execution_count": 54,
       "metadata": {},
       "output_type": "execute_result"
      },
      {
       "data": {
        "image/png": "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\n",
        "text/plain": "<Figure size 457.875x360 with 1 Axes>"
       },
       "metadata": {
        "needs_background": "light"
       },
       "output_type": "display_data"
      }
     ],
     "persistentId": "a4d5d077-bbfd-4c96-a129-173b0c6eb1d7",
     "text": "sns.factorplot(x='cds_exons_tag_pct', y='Coding', data=kmermaid_with_cds, hue='species')"
    },
    "executionTime": "2019-12-08T21:37:46.736Z"
   },
   {
    "cell": {
     "executionCount": 55,
     "executionEventId": "ad67895a-d716-40a9-8b0d-d8512f33de43",
     "hasError": false,
     "id": "4881bfe9-4195-416d-96fa-35ea44f8f848",
     "outputs": [
      {
       "data": {
        "text/plain": "<seaborn.axisgrid.FacetGrid at 0x7f0ae6ce4cc0>"
       },
       "execution_count": 55,
       "metadata": {},
       "output_type": "execute_result"
      },
      {
       "data": {
        "image/png": "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\n",
        "text/plain": "<Figure size 457.875x360 with 1 Axes>"
       },
       "metadata": {
        "needs_background": "light"
       },
       "output_type": "display_data"
      }
     ],
     "persistentId": "a4d5d077-bbfd-4c96-a129-173b0c6eb1d7",
     "text": "sns.relplot(x='cds_exons_tag_pct', y='Coding', data=kmermaid_with_cds, hue='species')"
    },
    "executionTime": "2019-12-08T21:38:27.937Z"
   },
   {
    "cell": {
     "executionCount": 56,
     "executionEventId": "5709a4d1-3297-4f13-a60a-b8d129372f4e",
     "hasError": true,
     "id": "696c2fff-0dc0-4758-a42a-bbcf35401784",
     "outputs": [
      {
       "ename": "ValueError",
       "evalue": "Plot kind reg not recognized",
       "output_type": "error",
       "traceback": [
        "\u001b[0;31m---------------------------------------------------------------------------\u001b[0m",
        "\u001b[0;31mValueError\u001b[0m                                Traceback (most recent call last)",
        "\u001b[0;32m<ipython-input-56-b4e5f69d6ecb>\u001b[0m in \u001b[0;36m<module>\u001b[0;34m\u001b[0m\n\u001b[0;32m----> 1\u001b[0;31m \u001b[0msns\u001b[0m\u001b[0;34m.\u001b[0m\u001b[0mrelplot\u001b[0m\u001b[0;34m(\u001b[0m\u001b[0mx\u001b[0m\u001b[0;34m=\u001b[0m\u001b[0;34m'cds_exons_tag_pct'\u001b[0m\u001b[0;34m,\u001b[0m \u001b[0my\u001b[0m\u001b[0;34m=\u001b[0m\u001b[0;34m'Coding'\u001b[0m\u001b[0;34m,\u001b[0m \u001b[0mdata\u001b[0m\u001b[0;34m=\u001b[0m\u001b[0mkmermaid_with_cds\u001b[0m\u001b[0;34m,\u001b[0m \u001b[0mhue\u001b[0m\u001b[0;34m=\u001b[0m\u001b[0;34m'species'\u001b[0m\u001b[0;34m,\u001b[0m \u001b[0mkind\u001b[0m\u001b[0;34m=\u001b[0m\u001b[0;34m'reg'\u001b[0m\u001b[0;34m)\u001b[0m\u001b[0;34m\u001b[0m\u001b[0;34m\u001b[0m\u001b[0m\n\u001b[0m",
        "\u001b[0;32m~/miniconda3/envs/parquet/lib/python3.7/site-packages/seaborn/relational.py\u001b[0m in \u001b[0;36mrelplot\u001b[0;34m(x, y, hue, size, style, data, row, col, col_wrap, row_order, col_order, palette, hue_order, hue_norm, sizes, size_order, size_norm, markers, dashes, style_order, legend, kind, height, aspect, facet_kws, **kwargs)\u001b[0m\n\u001b[1;32m   1566\u001b[0m     \u001b[0;32melse\u001b[0m\u001b[0;34m:\u001b[0m\u001b[0;34m\u001b[0m\u001b[0;34m\u001b[0m\u001b[0m\n\u001b[1;32m   1567\u001b[0m         \u001b[0merr\u001b[0m \u001b[0;34m=\u001b[0m \u001b[0;34m\"Plot kind {} not recognized\"\u001b[0m\u001b[0;34m.\u001b[0m\u001b[0mformat\u001b[0m\u001b[0;34m(\u001b[0m\u001b[0mkind\u001b[0m\u001b[0;34m)\u001b[0m\u001b[0;34m\u001b[0m\u001b[0;34m\u001b[0m\u001b[0m\n\u001b[0;32m-> 1568\u001b[0;31m         \u001b[0;32mraise\u001b[0m \u001b[0mValueError\u001b[0m\u001b[0;34m(\u001b[0m\u001b[0merr\u001b[0m\u001b[0;34m)\u001b[0m\u001b[0;34m\u001b[0m\u001b[0;34m\u001b[0m\u001b[0m\n\u001b[0m\u001b[1;32m   1569\u001b[0m \u001b[0;34m\u001b[0m\u001b[0m\n\u001b[1;32m   1570\u001b[0m     \u001b[0;31m# Use the full dataset to establish how to draw the semantics\u001b[0m\u001b[0;34m\u001b[0m\u001b[0;34m\u001b[0m\u001b[0;34m\u001b[0m\u001b[0m\n",
        "\u001b[0;31mValueError\u001b[0m: Plot kind reg not recognized"
       ]
      }
     ],
     "persistentId": "c2cfce9e-c46a-4a6e-bbde-7e9cb9751efa",
     "text": "sns.relplot(x='cds_exons_tag_pct', y='Coding', data=kmermaid_with_cds, hue='species', kind='reg')"
    },
    "executionTime": "2019-12-08T21:38:59.093Z"
   },
   {
    "cell": {
     "executionCount": 57,
     "executionEventId": "3e12e14a-86d1-4ac9-b5aa-c45107b3a397",
     "hasError": false,
     "id": "8fa0f52f-2fcb-4c80-9355-22c0d9218b96",
     "outputs": [
      {
       "data": {
        "text/plain": "<seaborn.axisgrid.FacetGrid at 0x7f0ae2ad59b0>"
       },
       "execution_count": 57,
       "metadata": {},
       "output_type": "execute_result"
      },
      {
       "data": {
        "image/png": "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\n",
        "text/plain": "<Figure size 457.875x360 with 1 Axes>"
       },
       "metadata": {
        "needs_background": "light"
       },
       "output_type": "display_data"
      }
     ],
     "persistentId": "589ccc7d-a2ef-415a-8196-593c8e4cf5b0",
     "text": "sns.lmplot(x='cds_exons_tag_pct', y='Coding', data=kmermaid_with_cds, hue='species')"
    },
    "executionTime": "2019-12-08T21:39:14.511Z"
   },
   {
    "cell": {
     "executionCount": 58,
     "executionEventId": "97f72d2a-e279-48ee-aea5-73a8718f24c2",
     "hasError": false,
     "id": "4d949e5f-15d9-4dcd-8eff-81dffc7b7633",
     "outputs": [
      {
       "data": {
        "text/plain": "0.7903367138838998"
       },
       "execution_count": 58,
       "metadata": {},
       "output_type": "execute_result"
      }
     ],
     "persistentId": "c6494f4e-0fc6-4d59-8484-a6f8953f67e7",
     "text": "kmermaid_with_cds['cds_exons_tag_pct'].corr(kmermaid_with_cds['Coding'])"
    },
    "executionTime": "2019-12-08T21:40:17.476Z"
   }
  ],
  "kernelspec": {
   "display_name": "Python [conda env:parquet]",
   "language": "python",
   "name": "conda-env-parquet-py"
  },
  "language_info": {
   "codemirror_mode": {
    "name": "ipython",
    "version": 3
   },
   "file_extension": ".py",
   "mimetype": "text/x-python",
   "name": "python",
   "nbconvert_exporter": "python",
   "pygments_lexer": "ipython3",
   "version": "3.7.3"
  },
  "uuid": "bc604286-ae41-4ff8-a44b-055a278f653a"
 },
 "nbformat": 4,
 "nbformat_minor": 4
}
