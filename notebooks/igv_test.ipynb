{
 "cells": [
  {
   "cell_type": "code",
   "execution_count": 2,
   "metadata": {},
   "outputs": [],
   "source": [
    "cell1 = 'A1-B000610-3_56_F-1-1'\n"
   ]
  },
  {
   "cell_type": "code",
   "execution_count": 3,
   "metadata": {},
   "outputs": [
    {
     "data": {
      "text/html": [
       "<div id=\"igv_7825973\"></div>"
      ],
      "text/plain": [
       "<IPython.core.display.HTML object>"
      ]
     },
     "metadata": {},
     "output_type": "display_data"
    },
    {
     "data": {
      "text/plain": [
       "'IGV Browser not ready'"
      ]
     },
     "execution_count": 3,
     "metadata": {},
     "output_type": "execute_result"
    }
   ],
   "source": [
    "import igv\n",
    "\n",
    "b = igv.Browser({\"genome\": \"mm10\"})\n",
    "b.show()\n",
    "\n",
    "bam_base_folder = 's3://czb-maca/Plate_seq/3_month/170914_A00111_0058_AH3FYKDMXX__170914_A00111_0057_BH3FY7DMXX/results_gencode_ercc/'\n",
    "\n",
    "\n",
    "b.load_track(\n",
    "    {\n",
    "        \"name\": cell1,\n",
    "        \"url\": f\"{bam_base_folder}{cell1}.gencode.vM19.ERCC.Aligned.out.sorted.bam\",\n",
    "        \"indexURL\": f\"{bam_base_folder}{cell1}.gencode.vM19.ERCC.Aligned.out.sorted.bam.bai\",\n",
    "        \"indexed\": True\n",
    "    })\n"
   ]
  },
  {
   "cell_type": "code",
   "execution_count": null,
   "metadata": {},
   "outputs": [],
   "source": []
  }
 ],
 "metadata": {
  "history": [],
  "kernelspec": {
   "display_name": "Python 3",
   "language": "python",
   "name": "python3"
  },
  "language_info": {
   "codemirror_mode": {
    "name": "ipython",
    "version": 3
   },
   "file_extension": ".py",
   "mimetype": "text/x-python",
   "name": "python",
   "nbconvert_exporter": "python",
   "pygments_lexer": "ipython3",
   "version": "3.6.7"
  },
  "uuid": "7a428ad3-b55c-486a-8766-0a72160f80eb"
 },
 "nbformat": 4,
 "nbformat_minor": 4
}
