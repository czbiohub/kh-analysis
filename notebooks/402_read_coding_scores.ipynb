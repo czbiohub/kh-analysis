{
 "cells": [
  {
   "cell_type": "code",
   "execution_count": 1,
   "metadata": {
    "execution_event_id": "9f964302-97cf-464a-b607-59db91e0c88c",
    "last_executed_text": "import os\nimport glob\n\n\n# import ray\n# # use fewer CPUs so the OS doesn't run out of processes\n# ray.init(num_cpus=16)\n# import modin.pandas as pd\nimport pandas as pd\nimport seaborn as sns",
    "persistent_id": "9101ba02-87fc-4db3-be7e-3fde4f92cbc2"
   },
   "outputs": [],
   "source": [
    "import os\n",
    "import glob\n",
    "\n",
    "\n",
    "# import ray\n",
    "# # use fewer CPUs so the OS doesn't run out of processes\n",
    "# ray.init(num_cpus=16)\n",
    "# import modin.pandas as pd\n",
    "import pandas as pd\n",
    "import seaborn as sns"
   ]
  },
  {
   "cell_type": "code",
   "execution_count": 2,
   "metadata": {
    "execution_event_id": "232a8e4d-1620-408a-822c-edd54d1e7416",
    "last_executed_text": "cd ~/data_lg/kmer-hashing/brawand2011/kmermaid/results_dayhoff11_extract_coding_jaccard_threshold05/extract_coding",
    "persistent_id": "23969cb6-1090-464a-ab9f-3bcd20e4c596"
   },
   "outputs": [
    {
     "name": "stdout",
     "output_type": "stream",
     "text": [
      "/mnt/ibm_lg/olga/kmer-hashing/brawand2011/kmermaid/results_dayhoff11_extract_coding_jaccard_threshold05/extract_coding\n"
     ]
    }
   ],
   "source": [
    "cd ~/data_lg/kmer-hashing/brawand2011/kmermaid/results_dayhoff11_extract_coding_jaccard_threshold05/extract_coding"
   ]
  },
  {
   "cell_type": "markdown",
   "metadata": {},
   "source": [
    "Look at just the opossum (*Monodelphis domestica*) data for now"
   ]
  },
  {
   "cell_type": "code",
   "execution_count": 3,
   "metadata": {
    "execution_event_id": "cba5961a-66c9-4110-ab3d-bcaf549da0af",
    "last_executed_text": "ls -lha *mdo*csv",
    "persistent_id": "35248e0d-c908-4ba0-b18d-69d11c2e4169"
   },
   "outputs": [
    {
     "name": "stdout",
     "output_type": "stream",
     "text": [
      "-rw-r--r-- 1 olga olga 474M Nov  4 19:54 SRR306752_GSM752603_mdo_kd_M_1_trimmed__coding_scores.csv\n",
      "-rw-r--r-- 1 olga olga 2.1G Nov  4 13:41 SRR306753_GSM752606_mdo_lv_F_1_trimmed__coding_scores.csv\n",
      "-rw-r--r-- 1 olga olga 1.8G Nov  4 17:59 SRR306754_GSM752608_mdo_lv_M_1_trimmed__coding_scores.csv\n",
      "-rw-r--r-- 1 olga olga 1.7G Nov  4 22:26 SRR306755_GSM752611_mdo_ts_M_1_trimmed__coding_scores.csv\n",
      "-rw-r--r-- 1 olga olga 3.7G Nov  4 15:53 SRR306756_GSM752613_mdo_ts_M_2_trimmed__coding_scores.csv\n"
     ]
    }
   ],
   "source": [
    "ls -lha *mdo*csv"
   ]
  },
  {
   "cell_type": "code",
   "execution_count": 4,
   "metadata": {
    "execution_event_id": "26b195d4-7c92-4272-b663-5fb1f0a6dca8",
    "last_executed_text": "df = pd.read_csv('SRR306752_GSM752603_mdo_kd_M_1_trimmed__coding_scores.csv')\nprint(df.shape)\ndf.head()",
    "persistent_id": "5df7490d-8149-4742-a2fa-28feb4a39f78"
   },
   "outputs": [
    {
     "name": "stdout",
     "output_type": "stream",
     "text": [
      "(3748455, 5)\n"
     ]
    },
    {
     "data": {
      "text/html": [
       "<div>\n",
       "<style scoped>\n",
       "    .dataframe tbody tr th:only-of-type {\n",
       "        vertical-align: middle;\n",
       "    }\n",
       "\n",
       "    .dataframe tbody tr th {\n",
       "        vertical-align: top;\n",
       "    }\n",
       "\n",
       "    .dataframe thead th {\n",
       "        text-align: right;\n",
       "    }\n",
       "</style>\n",
       "<table border=\"1\" class=\"dataframe\">\n",
       "  <thead>\n",
       "    <tr style=\"text-align: right;\">\n",
       "      <th></th>\n",
       "      <th>read_id</th>\n",
       "      <th>jaccard_in_peptide_db</th>\n",
       "      <th>n_kmers</th>\n",
       "      <th>classification</th>\n",
       "      <th>filename</th>\n",
       "    </tr>\n",
       "  </thead>\n",
       "  <tbody>\n",
       "    <tr>\n",
       "      <td>0</td>\n",
       "      <td>SRR306752.24755 Ibis_Run090629:7:1:286:693/1</td>\n",
       "      <td>NaN</td>\n",
       "      <td>NaN</td>\n",
       "      <td>All translations shorter than peptide k-mer si...</td>\n",
       "      <td>SRR306752_GSM752603_mdo_kd_M_1_trimmed.fq.gz</td>\n",
       "    </tr>\n",
       "    <tr>\n",
       "      <td>1</td>\n",
       "      <td>SRR306752.26212 Ibis_Run090629:7:1:304:224/1</td>\n",
       "      <td>NaN</td>\n",
       "      <td>NaN</td>\n",
       "      <td>All translations shorter than peptide k-mer si...</td>\n",
       "      <td>SRR306752_GSM752603_mdo_kd_M_1_trimmed.fq.gz</td>\n",
       "    </tr>\n",
       "    <tr>\n",
       "      <td>2</td>\n",
       "      <td>SRR306752.27035 Ibis_Run090629:7:1:313:423/1</td>\n",
       "      <td>1.0</td>\n",
       "      <td>3.0</td>\n",
       "      <td>Coding</td>\n",
       "      <td>SRR306752_GSM752603_mdo_kd_M_1_trimmed.fq.gz</td>\n",
       "    </tr>\n",
       "    <tr>\n",
       "      <td>3</td>\n",
       "      <td>SRR306752.31741 Ibis_Run090629:7:1:369:831/1</td>\n",
       "      <td>NaN</td>\n",
       "      <td>NaN</td>\n",
       "      <td>All translations shorter than peptide k-mer si...</td>\n",
       "      <td>SRR306752_GSM752603_mdo_kd_M_1_trimmed.fq.gz</td>\n",
       "    </tr>\n",
       "    <tr>\n",
       "      <td>4</td>\n",
       "      <td>SRR306752.32553 Ibis_Run090629:7:1:378:170/1</td>\n",
       "      <td>0.1</td>\n",
       "      <td>10.0</td>\n",
       "      <td>Non-coding</td>\n",
       "      <td>SRR306752_GSM752603_mdo_kd_M_1_trimmed.fq.gz</td>\n",
       "    </tr>\n",
       "  </tbody>\n",
       "</table>\n",
       "</div>"
      ],
      "text/plain": [
       "                                        read_id  jaccard_in_peptide_db  \\\n",
       "0  SRR306752.24755 Ibis_Run090629:7:1:286:693/1                    NaN   \n",
       "1  SRR306752.26212 Ibis_Run090629:7:1:304:224/1                    NaN   \n",
       "2  SRR306752.27035 Ibis_Run090629:7:1:313:423/1                    1.0   \n",
       "3  SRR306752.31741 Ibis_Run090629:7:1:369:831/1                    NaN   \n",
       "4  SRR306752.32553 Ibis_Run090629:7:1:378:170/1                    0.1   \n",
       "\n",
       "   n_kmers                                     classification  \\\n",
       "0      NaN  All translations shorter than peptide k-mer si...   \n",
       "1      NaN  All translations shorter than peptide k-mer si...   \n",
       "2      3.0                                             Coding   \n",
       "3      NaN  All translations shorter than peptide k-mer si...   \n",
       "4     10.0                                         Non-coding   \n",
       "\n",
       "                                       filename  \n",
       "0  SRR306752_GSM752603_mdo_kd_M_1_trimmed.fq.gz  \n",
       "1  SRR306752_GSM752603_mdo_kd_M_1_trimmed.fq.gz  \n",
       "2  SRR306752_GSM752603_mdo_kd_M_1_trimmed.fq.gz  \n",
       "3  SRR306752_GSM752603_mdo_kd_M_1_trimmed.fq.gz  \n",
       "4  SRR306752_GSM752603_mdo_kd_M_1_trimmed.fq.gz  "
      ]
     },
     "execution_count": 4,
     "metadata": {},
     "output_type": "execute_result"
    }
   ],
   "source": [
    "df = pd.read_csv('SRR306752_GSM752603_mdo_kd_M_1_trimmed__coding_scores.csv')\n",
    "print(df.shape)\n",
    "df.head()"
   ]
  },
  {
   "cell_type": "code",
   "execution_count": 5,
   "metadata": {
    "execution_event_id": "e246cd8c-f45c-400c-8ed4-4854d443e2b9",
    "last_executed_text": "ls -lha SRR306752_GSM752603_mdo_kd_M_1_trimmed__coding_scores.csv",
    "persistent_id": "fd3fb0f0-aa33-437a-91dc-807b882e9859"
   },
   "outputs": [
    {
     "name": "stdout",
     "output_type": "stream",
     "text": [
      "-rw-r--r-- 1 olga olga 474M Nov  4 19:54 SRR306752_GSM752603_mdo_kd_M_1_trimmed__coding_scores.csv\n"
     ]
    }
   ],
   "source": [
    "ls -lha SRR306752_GSM752603_mdo_kd_M_1_trimmed__coding_scores.csv"
   ]
  },
  {
   "cell_type": "code",
   "execution_count": null,
   "metadata": {
    "execution_event_id": "756f26ae-610d-469f-ad6e-d9b87d3cbdb2",
    "last_executed_text": "%%time\n\ndfs = []\n\nfor csv in glob.glob(\"*.csv\"):\n    print(f'--- {csv} ---')\n    print(\"Reading csv ...\")\n    %time df = pd.read_csv(csv)\n    print(\"\\tDone!\")\n    parquet = csv.replace('.csv', '.parquet')\n    print(\"Writing Parquet ...\")\n    %time df.to_parquet(parquet)\n    print(\"\\tDone!\")\n    dfs.append(df)\nall_coding_scores = pd.concat(dfs)",
    "persistent_id": "e7d17187-4e34-43ca-acaa-d93622198ac4"
   },
   "outputs": [
    {
     "name": "stdout",
     "output_type": "stream",
     "text": [
      "--- SRR306827_GSM752680_ppa_br_F_2_trimmed__coding_scores.csv ---\n",
      "Reading csv ...\n",
      "CPU times: user 32.2 s, sys: 4.06 s, total: 36.3 s\n",
      "Wall time: 36.8 s\n",
      "\tDone!\n",
      "\tDone!\n",
      "--- SRR306775_GSM752629_mmu_ts_M_1_trimmed__coding_scores.csv ---\n",
      "Reading csv ...\n",
      "CPU times: user 24.3 s, sys: 3.08 s, total: 27.4 s\n",
      "Wall time: 27.9 s\n",
      "\tDone!\n",
      "\tDone!\n",
      "--- SRR306826_GSM752679_ppa_br_F_1__coding_scores.csv ---\n",
      "Reading csv ...\n",
      "CPU times: user 46.9 s, sys: 7.34 s, total: 54.3 s\n",
      "Wall time: 54.9 s\n",
      "\tDone!\n",
      "\tDone!\n",
      "--- SRR306845_GSM752698_hsa_cb_M_1_trimmed__coding_scores.csv ---\n",
      "Reading csv ...\n",
      "CPU times: user 9.99 s, sys: 1.42 s, total: 11.4 s\n",
      "Wall time: 11.7 s\n",
      "\tDone!\n",
      "\tDone!\n",
      "--- SRR306795_GSM752648_ppy_ht_M_1_trimmed__coding_scores.csv ---\n",
      "Reading csv ...\n",
      "CPU times: user 43.1 s, sys: 7.66 s, total: 50.8 s\n",
      "Wall time: 51.3 s\n",
      "\tDone!\n",
      "\tDone!\n",
      "--- SRR306839_GSM752692_hsa_br_M_3_trimmed__coding_scores.csv ---\n",
      "Reading csv ...\n",
      "CPU times: user 19.7 s, sys: 4.54 s, total: 24.3 s\n",
      "Wall time: 24.6 s\n",
      "\tDone!\n",
      "\tDone!\n",
      "--- SRR306819_GSM752672_ptr_ht_F_1_trimmed__coding_scores.csv ---\n",
      "Reading csv ...\n",
      "CPU times: user 40.5 s, sys: 8.68 s, total: 49.2 s\n",
      "Wall time: 50.5 s\n",
      "\tDone!\n",
      "\tDone!\n",
      "--- SRR306832_GSM752685_ppa_ht_M_1_trimmed__coding_scores.csv ---\n",
      "Reading csv ...\n",
      "CPU times: user 35.1 s, sys: 7.25 s, total: 42.4 s\n",
      "Wall time: 44.8 s\n",
      "\tDone!\n",
      "\tDone!\n",
      "--- SRR306789_GSM752642_mml_ts_M_1_trimmed__coding_scores.csv ---\n",
      "Reading csv ...\n",
      "CPU times: user 20.7 s, sys: 4.64 s, total: 25.3 s\n",
      "Wall time: 26.2 s\n",
      "\tDone!\n",
      "\tDone!\n",
      "--- SRR306851_GSM752702_hsa_kd_F_1_trimmed__coding_scores.csv ---\n",
      "Reading csv ...\n",
      "CPU times: user 1.6 s, sys: 420 ms, total: 2.02 s\n",
      "Wall time: 2.11 s\n",
      "\tDone!\n",
      "\tDone!\n",
      "--- SRR306777_GSM752631_mml_br_F_1_trimmed__coding_scores.csv ---\n",
      "Reading csv ...\n",
      "CPU times: user 20.8 s, sys: 3.78 s, total: 24.6 s\n",
      "Wall time: 25.3 s\n",
      "\tDone!\n",
      "\tDone!\n",
      "--- SRR306771_GSM752625_mmu_kd_M_2_trimmed__coding_scores.csv ---\n",
      "Reading csv ...\n",
      "CPU times: user 38 s, sys: 8.82 s, total: 46.8 s\n",
      "Wall time: 47.8 s\n",
      "\tDone!\n",
      "\tDone!\n",
      "--- SRR306844_GSM752697_hsa_cb_F_1_trimmed__coding_scores.csv ---\n",
      "Reading csv ...\n",
      "CPU times: user 40.2 s, sys: 9.78 s, total: 50 s\n",
      "Wall time: 51.1 s\n",
      "\tDone!\n",
      "\tDone!\n",
      "--- SRR306841_GSM752694_hsa_br_M_2_trimmed__coding_scores.csv ---\n",
      "Reading csv ...\n",
      "CPU times: user 24.9 s, sys: 5.98 s, total: 30.9 s\n",
      "Wall time: 31.3 s\n",
      "\tDone!\n",
      "\tDone!\n",
      "--- SRR306855_GSM752705_hsa_lv_M_1_trimmed__coding_scores.csv ---\n",
      "Reading csv ...\n",
      "CPU times: user 35.2 s, sys: 10.2 s, total: 45.4 s\n",
      "Wall time: 46.1 s\n",
      "\tDone!\n",
      "\tDone!\n",
      "--- SRR306807_GSM752660_ggo_kd_M_1_trimmed__coding_scores.csv ---\n",
      "Reading csv ...\n",
      "CPU times: user 38.6 s, sys: 9.13 s, total: 47.7 s\n",
      "Wall time: 48.6 s\n",
      "\tDone!\n",
      "\tDone!\n",
      "--- SRR306836_GSM752689_ppa_lv_M_1_trimmed__coding_scores.csv ---\n",
      "Reading csv ...\n",
      "CPU times: user 27.3 s, sys: 6.97 s, total: 34.2 s\n",
      "Wall time: 36.3 s\n",
      "\tDone!\n",
      "\tDone!\n",
      "--- SRR306779_GSM752633_mml_br_M_2__coding_scores.csv ---\n",
      "Reading csv ...\n",
      "CPU times: user 1min 2s, sys: 19.7 s, total: 1min 22s\n",
      "Wall time: 1min 28s\n",
      "\tDone!\n",
      "\tDone!\n",
      "--- SRR306756_GSM752613_mdo_ts_M_2_trimmed__coding_scores.csv ---\n",
      "Reading csv ...\n",
      "CPU times: user 45.7 s, sys: 12.2 s, total: 57.9 s\n",
      "Wall time: 1min 1s\n",
      "\tDone!\n",
      "\tDone!\n",
      "--- SRR306831_GSM752684_ppa_ht_F_1_trimmed__coding_scores.csv ---\n",
      "Reading csv ...\n",
      "CPU times: user 43.3 s, sys: 11.1 s, total: 54.4 s\n",
      "Wall time: 55.9 s\n",
      "\tDone!\n",
      "\tDone!\n",
      "--- SRR306847_GSM752699_hsa_ht_F_1_trimmed__coding_scores.csv ---\n",
      "Reading csv ...\n",
      "CPU times: user 664 ms, sys: 132 ms, total: 796 ms\n",
      "Wall time: 806 ms\n",
      "\tDone!\n",
      "\tDone!\n",
      "--- SRR306784_GSM752638_mml_kd_F_1_trimmed__coding_scores.csv ---\n",
      "Reading csv ...\n",
      "CPU times: user 21.3 s, sys: 5.52 s, total: 26.8 s\n",
      "Wall time: 27.8 s\n",
      "\tDone!\n",
      "\tDone!\n",
      "--- SRR306837_GSM752690_ppa_ts_M_1_trimmed__coding_scores.csv ---\n",
      "Reading csv ...\n",
      "CPU times: user 25.1 s, sys: 6.62 s, total: 31.7 s\n",
      "Wall time: 33.4 s\n",
      "\tDone!\n",
      "\tDone!\n",
      "--- SRR306780_GSM752634_mml_cb_F_1_trimmed__coding_scores.csv ---\n",
      "Reading csv ...\n",
      "CPU times: user 30.1 s, sys: 8.23 s, total: 38.4 s\n",
      "Wall time: 40.8 s\n",
      "\tDone!\n",
      "\tDone!\n",
      "--- SRR306829_GSM752682_ppa_cb_F_1_trimmed__coding_scores.csv ---\n",
      "Reading csv ...\n",
      "CPU times: user 39.8 s, sys: 10.8 s, total: 50.6 s\n",
      "Wall time: 52.6 s\n",
      "\tDone!\n",
      "\tDone!\n",
      "--- SRR306857_GSM752707_hsa_ts_M_1_trimmed__coding_scores.csv ---\n",
      "Reading csv ...\n",
      "CPU times: user 5.28 s, sys: 824 ms, total: 6.1 s\n",
      "Wall time: 6.25 s\n",
      "\tDone!\n",
      "\tDone!\n",
      "--- SRR306801_GSM752654_ggo_br_M_1__coding_scores.csv ---\n",
      "Reading csv ...\n",
      "CPU times: user 47.7 s, sys: 13.6 s, total: 1min 1s\n",
      "Wall time: 1min 2s\n",
      "\tDone!\n",
      "\tDone!\n",
      "--- SRR306858_GSM752708_hsa_ts_M_2_trimmed__coding_scores.csv ---\n",
      "Reading csv ...\n",
      "CPU times: user 44.5 s, sys: 11.9 s, total: 56.4 s\n",
      "Wall time: 57.5 s\n",
      "\tDone!\n",
      "\tDone!\n",
      "--- SRR306760_GSM752615_mmu_br_M_1_trimmed__coding_scores.csv ---\n",
      "Reading csv ...\n",
      "CPU times: user 19.9 s, sys: 4.83 s, total: 24.7 s\n",
      "Wall time: 25.2 s\n",
      "\tDone!\n",
      "\tDone!\n",
      "--- SRR306808_GSM752661_ggo_lv_F_1_trimmed__coding_scores.csv ---\n",
      "Reading csv ...\n",
      "CPU times: user 42.9 s, sys: 11.4 s, total: 54.3 s\n",
      "Wall time: 55.5 s\n",
      "\tDone!\n",
      "\tDone!\n",
      "--- SRR306843_GSM752696_hsa_br_M_5_trimmed__coding_scores.csv ---\n",
      "Reading csv ...\n",
      "CPU times: user 6.17 s, sys: 1.58 s, total: 7.75 s\n",
      "Wall time: 7.87 s\n",
      "\tDone!\n",
      "\tDone!\n",
      "--- SRR306854_GSM752705_hsa_lv_M_1_trimmed__coding_scores.csv ---\n",
      "Reading csv ...\n",
      "CPU times: user 6.84 s, sys: 2.14 s, total: 8.98 s\n",
      "Wall time: 9.42 s\n",
      "\tDone!\n",
      "\tDone!\n",
      "--- SRR306804_GSM752657_ggo_ht_F_1_trimmed__coding_scores.csv ---\n",
      "Reading csv ...\n",
      "CPU times: user 39.6 s, sys: 10.6 s, total: 50.1 s\n",
      "Wall time: 51.3 s\n",
      "\tDone!\n",
      "\tDone!\n",
      "--- SRR306830_GSM752683_ppa_cb_M_1_trimmed__coding_scores.csv ---\n",
      "Reading csv ...\n",
      "CPU times: user 47.7 s, sys: 11.3 s, total: 59 s\n",
      "Wall time: 1min\n",
      "\tDone!\n",
      "\tDone!\n",
      "--- SRR306846_GSM752698_hsa_cb_M_1_trimmed__coding_scores.csv ---\n",
      "Reading csv ...\n",
      "CPU times: user 25.2 s, sys: 6.41 s, total: 31.6 s\n",
      "Wall time: 32.5 s\n",
      "\tDone!\n",
      "\tDone!\n",
      "--- SRR306812_GSM752665_ptr_br_M_1__coding_scores.csv ---\n",
      "Reading csv ...\n",
      "CPU times: user 41.8 s, sys: 12 s, total: 53.8 s\n",
      "Wall time: 55.1 s\n",
      "\tDone!\n",
      "\tDone!\n",
      "--- SRR306776_GSM752630_mmu_ts_M_2_trimmed__coding_scores.csv ---\n",
      "Reading csv ...\n",
      "CPU times: user 42.5 s, sys: 11 s, total: 53.5 s\n",
      "Wall time: 54.6 s\n",
      "\tDone!\n",
      "\tDone!\n",
      "--- SRR306835_GSM752688_ppa_lv_F_1_trimmed__coding_scores.csv ---\n",
      "Reading csv ...\n",
      "CPU times: user 38.1 s, sys: 10.3 s, total: 48.4 s\n",
      "Wall time: 49.5 s\n",
      "\tDone!\n",
      "\tDone!\n",
      "--- SRR306754_GSM752608_mdo_lv_M_1_trimmed__coding_scores.csv ---\n",
      "Reading csv ...\n",
      "CPU times: user 22.1 s, sys: 5.48 s, total: 27.6 s\n",
      "Wall time: 28.2 s\n",
      "\tDone!\n",
      "\tDone!\n",
      "--- SRR306817_GSM752670_ptr_cb_F_1_trimmed__coding_scores.csv ---\n",
      "Reading csv ...\n",
      "CPU times: user 45.7 s, sys: 12.8 s, total: 58.6 s\n",
      "Wall time: 59.8 s\n",
      "\tDone!\n",
      "\tDone!\n",
      "--- SRR306765_GSM752619_mmu_cb_M_2_trimmed__coding_scores.csv ---\n",
      "Reading csv ...\n",
      "CPU times: user 37.2 s, sys: 9.78 s, total: 47 s\n",
      "Wall time: 47.9 s\n",
      "\tDone!\n",
      "\tDone!\n",
      "--- SRR306783_GSM752637_mml_ht_M_1_trimmed__coding_scores.csv ---\n",
      "Reading csv ...\n",
      "CPU times: user 24.2 s, sys: 6.07 s, total: 30.3 s\n",
      "Wall time: 31 s\n",
      "\tDone!\n",
      "\tDone!\n",
      "--- SRR306793_GSM752646_ppy_cb_F_1_trimmed__coding_scores.csv ---\n",
      "Reading csv ...\n",
      "CPU times: user 23.2 s, sys: 5.8 s, total: 29 s\n",
      "Wall time: 29.6 s\n",
      "\tDone!\n",
      "\tDone!\n",
      "--- SRR306797_GSM752650_ppy_kd_M_1_trimmed__coding_scores.csv ---\n",
      "Reading csv ...\n",
      "CPU times: user 40.3 s, sys: 11.7 s, total: 52 s\n",
      "Wall time: 54.7 s\n",
      "\tDone!\n",
      "\tDone!\n",
      "--- SRR306794_GSM752647_ppy_ht_F_1_trimmed__coding_scores.csv ---\n",
      "Reading csv ...\n",
      "CPU times: user 46.9 s, sys: 13.2 s, total: 1min\n",
      "Wall time: 1min 2s\n",
      "\tDone!\n",
      "\tDone!\n",
      "--- SRR306786_GSM752640_mml_lv_F_1_trimmed__coding_scores.csv ---\n",
      "Reading csv ...\n",
      "CPU times: user 22.7 s, sys: 5.36 s, total: 28.1 s\n",
      "Wall time: 28.8 s\n",
      "\tDone!\n",
      "\tDone!\n",
      "--- SRR306773_GSM752627_mmu_lv_M_1_trimmed__coding_scores.csv ---\n",
      "Reading csv ...\n",
      "CPU times: user 20.1 s, sys: 5.32 s, total: 25.4 s\n",
      "Wall time: 25.9 s\n",
      "\tDone!\n",
      "\tDone!\n",
      "--- SRR306803_GSM752656_ggo_cb_M_1_trimmed__coding_scores.csv ---\n",
      "Reading csv ...\n",
      "CPU times: user 22.4 s, sys: 5.43 s, total: 27.8 s\n",
      "Wall time: 28.3 s\n",
      "\tDone!\n",
      "\tDone!\n",
      "--- SRR306752_GSM752603_mdo_kd_M_1_trimmed__coding_scores.csv ---\n",
      "Reading csv ...\n",
      "CPU times: user 4.62 s, sys: 1.21 s, total: 5.83 s\n",
      "Wall time: 5.95 s\n",
      "\tDone!\n",
      "\tDone!\n",
      "--- SRR306816_GSM752669_ptr_br_M_5__coding_scores.csv ---\n",
      "Reading csv ...\n",
      "CPU times: user 1min 2s, sys: 16.9 s, total: 1min 19s\n",
      "Wall time: 1min 21s\n",
      "\tDone!\n",
      "\tDone!\n",
      "--- SRR306764_GSM752618_mmu_cb_M_1_trimmed__coding_scores.csv ---\n",
      "Reading csv ...\n",
      "CPU times: user 21.8 s, sys: 6.29 s, total: 28 s\n",
      "Wall time: 28.7 s\n",
      "\tDone!\n",
      "\tDone!\n",
      "--- SRR306782_GSM752636_mml_ht_F_1_trimmed__coding_scores.csv ---\n",
      "Reading csv ...\n",
      "CPU times: user 33.1 s, sys: 8.65 s, total: 41.8 s\n",
      "Wall time: 42.6 s\n",
      "\tDone!\n",
      "\tDone!\n",
      "--- SRR306834_GSM752687_ppa_kd_M_1_trimmed__coding_scores.csv ---\n",
      "Reading csv ...\n",
      "CPU times: user 31.4 s, sys: 7.98 s, total: 39.4 s\n",
      "Wall time: 40.1 s\n",
      "\tDone!\n",
      "\tDone!\n",
      "--- SRR306853_GSM752704_hsa_kd_M_2_trimmed__coding_scores.csv ---\n",
      "Reading csv ...\n",
      "CPU times: user 33.2 s, sys: 8.37 s, total: 41.6 s\n",
      "Wall time: 42.5 s\n",
      "\tDone!\n",
      "\tDone!\n",
      "--- SRR306842_GSM752695_hsa_br_M_4__coding_scores.csv ---\n",
      "Reading csv ...\n",
      "CPU times: user 41 s, sys: 10.4 s, total: 51.5 s\n",
      "Wall time: 52.5 s\n",
      "\tDone!\n",
      "\tDone!\n",
      "--- SRR306850_GSM752701_hsa_ht_M_2_trimmed__coding_scores.csv ---\n",
      "Reading csv ...\n",
      "CPU times: user 33.7 s, sys: 8.44 s, total: 42.1 s\n",
      "Wall time: 42.9 s\n",
      "\tDone!\n",
      "\tDone!\n",
      "--- SRR306802_GSM752655_ggo_cb_F_1_trimmed__coding_scores.csv ---\n",
      "Reading csv ...\n",
      "CPU times: user 36.7 s, sys: 8.9 s, total: 45.6 s\n",
      "Wall time: 46.4 s\n",
      "\tDone!\n",
      "\tDone!\n",
      "--- SRR306757_GSM752614_mmu_br_F_1_trimmed__coding_scores.csv ---\n",
      "Reading csv ...\n",
      "CPU times: user 32.9 s, sys: 8.49 s, total: 41.4 s\n",
      "Wall time: 42.3 s\n",
      "\tDone!\n",
      "\tDone!\n",
      "--- SRR306856_GSM752706_hsa_lv_M_2_trimmed__coding_scores.csv ---\n",
      "Reading csv ...\n",
      "CPU times: user 30.6 s, sys: 7.3 s, total: 37.9 s\n",
      "Wall time: 38.7 s\n",
      "\tDone!\n",
      "\tDone!\n",
      "--- SRR306787_GSM752641_mml_lv_M_1_trimmed__coding_scores.csv ---\n",
      "Reading csv ...\n",
      "CPU times: user 9.04 s, sys: 2.97 s, total: 12 s\n",
      "Wall time: 12.3 s\n",
      "\tDone!\n",
      "\tDone!\n",
      "--- SRR306823_GSM752676_ptr_lv_F_1_trimmed__coding_scores.csv ---\n",
      "Reading csv ...\n",
      "CPU times: user 39.3 s, sys: 9.05 s, total: 48.4 s\n",
      "Wall time: 49.3 s\n",
      "\tDone!\n",
      "\tDone!\n",
      "--- SRR306788_GSM752641_mml_lv_M_1_trimmed__coding_scores.csv ---\n",
      "Reading csv ...\n",
      "CPU times: user 28 s, sys: 7.98 s, total: 36 s\n",
      "Wall time: 36.7 s\n",
      "\tDone!\n",
      "\tDone!\n",
      "--- SRR306848_GSM752700_hsa_ht_M_1_trimmed__coding_scores.csv ---\n",
      "Reading csv ...\n",
      "CPU times: user 10 s, sys: 2.33 s, total: 12.4 s\n",
      "Wall time: 12.5 s\n",
      "\tDone!\n",
      "\tDone!\n",
      "--- SRR306759_GSM752615_mmu_br_M_1_trimmed__coding_scores.csv ---\n",
      "Reading csv ...\n",
      "CPU times: user 9.78 s, sys: 2.81 s, total: 12.6 s\n",
      "Wall time: 12.9 s\n",
      "\tDone!\n",
      "\tDone!\n",
      "--- SRR306774_GSM752628_mmu_lv_M_2_trimmed__coding_scores.csv ---\n",
      "Reading csv ...\n",
      "CPU times: user 44.8 s, sys: 11.9 s, total: 56.8 s\n",
      "Wall time: 57.9 s\n",
      "\tDone!\n",
      "\tDone!\n",
      "--- SRR306798_GSM752651_ppy_lv_F_1_trimmed__coding_scores.csv ---\n",
      "Reading csv ...\n",
      "CPU times: user 28.7 s, sys: 8.66 s, total: 37.3 s\n",
      "Wall time: 38 s\n",
      "\tDone!\n",
      "\tDone!\n",
      "--- SRR306768_GSM752622_mmu_ht_M_2_trimmed__coding_scores.csv ---\n",
      "Reading csv ...\n",
      "CPU times: user 32.7 s, sys: 8.53 s, total: 41.2 s\n",
      "Wall time: 42 s\n",
      "\tDone!\n",
      "\tDone!\n",
      "--- SRR306800_GSM752653_ggo_br_F_1_trimmed__coding_scores.csv ---\n",
      "Reading csv ...\n",
      "CPU times: user 46.7 s, sys: 11.9 s, total: 58.6 s\n",
      "Wall time: 59.7 s\n",
      "\tDone!\n",
      "\tDone!\n",
      "--- SRR306809_GSM752662_ggo_lv_M_1_trimmed__coding_scores.csv ---\n",
      "Reading csv ...\n",
      "CPU times: user 51.8 s, sys: 12.5 s, total: 1min 4s\n",
      "Wall time: 1min 5s\n",
      "\tDone!\n",
      "\tDone!\n",
      "--- SRR306805_GSM752658_ggo_ht_M_1_trimmed__coding_scores.csv ---\n",
      "Reading csv ...\n",
      "CPU times: user 42.3 s, sys: 11.1 s, total: 53.4 s\n",
      "Wall time: 54.3 s\n",
      "\tDone!\n",
      "\tDone!\n",
      "--- SRR306767_GSM752621_mmu_ht_M_1_trimmed__coding_scores.csv ---\n",
      "Reading csv ...\n",
      "CPU times: user 33.7 s, sys: 8.52 s, total: 42.2 s\n",
      "Wall time: 43 s\n",
      "\tDone!\n",
      "\tDone!\n",
      "--- SRR306828_GSM752681_ppa_br_M_1_trimmed__coding_scores.csv ---\n",
      "Reading csv ...\n",
      "CPU times: user 54.2 s, sys: 14.5 s, total: 1min 8s\n",
      "Wall time: 1min 11s\n",
      "\tDone!\n",
      "\tDone!\n",
      "--- SRR306811_GSM752664_ptr_br_F_1_trimmed__coding_scores.csv ---\n",
      "Reading csv ...\n",
      "CPU times: user 26.2 s, sys: 6.18 s, total: 32.4 s\n",
      "Wall time: 33 s\n",
      "\tDone!\n",
      "\tDone!\n",
      "--- SRR306833_GSM752686_ppa_kd_F_1_trimmed__coding_scores.csv ---\n",
      "Reading csv ...\n",
      "CPU times: user 43.2 s, sys: 11.1 s, total: 54.3 s\n",
      "Wall time: 56.5 s\n",
      "\tDone!\n",
      "\tDone!\n",
      "--- SRR306810_GSM752663_ggo_ts_M_1_trimmed__coding_scores.csv ---\n",
      "Reading csv ...\n",
      "CPU times: user 25.6 s, sys: 6.04 s, total: 31.6 s\n",
      "Wall time: 33 s\n",
      "\tDone!\n",
      "\tDone!\n",
      "--- SRR306821_GSM752674_ptr_kd_F_1_trimmed__coding_scores.csv ---\n",
      "Reading csv ...\n",
      "CPU times: user 34.1 s, sys: 8.61 s, total: 42.7 s\n",
      "Wall time: 44.5 s\n",
      "\tDone!\n",
      "\tDone!\n",
      "--- SRR306813_GSM752666_ptr_br_M_2__coding_scores.csv ---\n",
      "Reading csv ...\n",
      "CPU times: user 55 s, sys: 14.6 s, total: 1min 9s\n",
      "Wall time: 1min 13s\n",
      "\tDone!\n",
      "\tDone!\n",
      "--- SRR306770_GSM752624_mmu_kd_M_1_trimmed__coding_scores.csv ---\n",
      "Reading csv ...\n",
      "CPU times: user 23.1 s, sys: 6.76 s, total: 29.9 s\n",
      "Wall time: 31.3 s\n",
      "\tDone!\n",
      "\tDone!\n",
      "--- SRR306791_GSM752644_ppy_br_F_1_trimmed__coding_scores.csv ---\n",
      "Reading csv ...\n",
      "CPU times: user 47.5 s, sys: 12.2 s, total: 59.7 s\n",
      "Wall time: 1min 2s\n",
      "\tDone!\n",
      "\tDone!\n",
      "--- SRR306838_GSM752691_hsa_br_F_1_trimmed__coding_scores.csv ---\n",
      "Reading csv ...\n",
      "CPU times: user 1.05 s, sys: 292 ms, total: 1.34 s\n",
      "Wall time: 1.39 s\n",
      "\tDone!\n",
      "\tDone!\n",
      "--- SRR306849_GSM752700_hsa_ht_M_1_trimmed__coding_scores.csv ---\n",
      "Reading csv ...\n",
      "CPU times: user 19.6 s, sys: 5.78 s, total: 25.4 s\n",
      "Wall time: 26.8 s\n",
      "\tDone!\n",
      "\tDone!\n",
      "--- test.csv ---\n",
      "Reading csv ...\n",
      "CPU times: user 8 ms, sys: 0 ns, total: 8 ms\n",
      "Wall time: 33 ms\n",
      "\tDone!\n",
      "\tDone!\n",
      "--- SRR306825_GSM752678_ptr_ts_M_1_trimmed__coding_scores.csv ---\n",
      "Reading csv ...\n",
      "CPU times: user 29 s, sys: 7.3 s, total: 36.3 s\n",
      "Wall time: 38.7 s\n",
      "\tDone!\n",
      "\tDone!\n",
      "--- SRR306822_GSM752675_ptr_kd_M_1_trimmed__coding_scores.csv ---\n",
      "Reading csv ...\n",
      "CPU times: user 45.3 s, sys: 12.2 s, total: 57.5 s\n",
      "Wall time: 1min 2s\n",
      "\tDone!\n",
      "\tDone!\n",
      "--- SRR306820_GSM752673_ptr_ht_M_1_trimmed__coding_scores.csv ---\n",
      "Reading csv ...\n",
      "CPU times: user 51.9 s, sys: 14.5 s, total: 1min 6s\n",
      "Wall time: 1min 10s\n",
      "\tDone!\n",
      "\tDone!\n",
      "--- SRR306772_GSM752626_mmu_lv_F_1_trimmed__coding_scores.csv ---\n",
      "Reading csv ...\n",
      "CPU times: user 55.6 s, sys: 15.8 s, total: 1min 11s\n",
      "Wall time: 1min 16s\n",
      "\tDone!\n",
      "\tDone!\n",
      "--- SRR306766_GSM752620_mmu_ht_F_1_trimmed__coding_scores.csv ---\n",
      "Reading csv ...\n",
      "CPU times: user 53.5 s, sys: 15.2 s, total: 1min 8s\n",
      "Wall time: 1min 12s\n",
      "\tDone!\n",
      "\tDone!\n",
      "--- SRR306762_GSM752616_mmu_br_M_2_trimmed__coding_scores.csv ---\n",
      "Reading csv ...\n",
      "CPU times: user 20.3 s, sys: 5.34 s, total: 25.7 s\n",
      "Wall time: 26.8 s\n",
      "\tDone!\n",
      "\tDone!\n",
      "--- SRR306763_GSM752617_mmu_cb_F_1_trimmed__coding_scores.csv ---\n",
      "Reading csv ...\n",
      "CPU times: user 52.4 s, sys: 14.2 s, total: 1min 6s\n",
      "Wall time: 1min 12s\n",
      "\tDone!\n",
      "\tDone!\n",
      "--- SRR306799_GSM752652_ppy_lv_M_1_trimmed__coding_scores.csv ---\n",
      "Reading csv ...\n",
      "CPU times: user 45.1 s, sys: 12.5 s, total: 57.6 s\n",
      "Wall time: 1min 2s\n",
      "\tDone!\n",
      "\tDone!\n",
      "--- SRR306806_GSM752659_ggo_kd_F_1_trimmed__coding_scores.csv ---\n",
      "Reading csv ...\n",
      "CPU times: user 23.4 s, sys: 5.45 s, total: 28.9 s\n",
      "Wall time: 30.7 s\n",
      "\tDone!\n",
      "\tDone!\n",
      "--- SRR306781_GSM752635_mml_cb_M_1_trimmed__coding_scores.csv ---\n",
      "Reading csv ...\n",
      "CPU times: user 23.4 s, sys: 6.95 s, total: 30.4 s\n",
      "Wall time: 31.9 s\n",
      "\tDone!\n",
      "\tDone!\n",
      "--- SRR306785_GSM752639_mml_kd_M_1_trimmed__coding_scores.csv ---\n",
      "Reading csv ...\n",
      "CPU times: user 20.2 s, sys: 4.76 s, total: 25 s\n",
      "Wall time: 26.8 s\n",
      "\tDone!\n",
      "\tDone!\n",
      "--- SRR306758_GSM752615_mmu_br_M_1_trimmed__coding_scores.csv ---\n",
      "Reading csv ...\n",
      "CPU times: user 17.1 s, sys: 5.34 s, total: 22.4 s\n",
      "Wall time: 24.1 s\n",
      "\tDone!\n",
      "\tDone!\n",
      "--- SRR306753_GSM752606_mdo_lv_F_1_trimmed__coding_scores.csv ---\n",
      "Reading csv ...\n",
      "CPU times: user 23.5 s, sys: 5.87 s, total: 29.4 s\n",
      "Wall time: 31.5 s\n",
      "\tDone!\n",
      "\tDone!\n",
      "--- SRR306824_GSM752677_ptr_lv_M_1_trimmed__coding_scores.csv ---\n",
      "Reading csv ...\n",
      "CPU times: user 22.3 s, sys: 5.66 s, total: 28 s\n",
      "Wall time: 29.4 s\n",
      "\tDone!\n",
      "\tDone!\n",
      "--- SRR306796_GSM752649_ppy_kd_F_1_trimmed__coding_scores.csv ---\n",
      "Reading csv ...\n",
      "CPU times: user 39.1 s, sys: 10.9 s, total: 50 s\n",
      "Wall time: 53.8 s\n",
      "\tDone!\n",
      "\tDone!\n",
      "--- SRR306818_GSM752671_ptr_cb_M_1_trimmed__coding_scores.csv ---\n",
      "Reading csv ...\n",
      "CPU times: user 21.6 s, sys: 6.99 s, total: 28.6 s\n",
      "Wall time: 30.6 s\n",
      "\tDone!\n",
      "\tDone!\n",
      "--- SRR306761_GSM752615_mmu_br_M_1_trimmed__coding_scores.csv ---\n",
      "Reading csv ...\n",
      "CPU times: user 17.2 s, sys: 3.63 s, total: 20.8 s\n",
      "Wall time: 22.3 s\n",
      "\tDone!\n",
      "\tDone!\n",
      "--- SRR306790_GSM752643_mml_ts_M_2_trimmed__coding_scores.csv ---\n",
      "Reading csv ...\n",
      "CPU times: user 41 s, sys: 12.2 s, total: 53.2 s\n",
      "Wall time: 56.8 s\n",
      "\tDone!\n",
      "\tDone!\n",
      "--- SRR306840_GSM752693_hsa_br_M_1__coding_scores.csv ---\n",
      "Reading csv ...\n",
      "CPU times: user 1min 1s, sys: 17.3 s, total: 1min 18s\n",
      "Wall time: 1min 25s\n",
      "\tDone!\n",
      "\tDone!\n",
      "--- SRR306792_GSM752645_ppy_br_M_1__coding_scores.csv ---\n",
      "Reading csv ...\n",
      "CPU times: user 46.3 s, sys: 12.9 s, total: 59.2 s\n",
      "Wall time: 1min 4s\n",
      "\tDone!\n",
      "\tDone!\n",
      "--- SRR306814_GSM752667_ptr_br_M_3__coding_scores.csv ---\n",
      "Reading csv ...\n",
      "CPU times: user 40.6 s, sys: 11.6 s, total: 52.3 s\n",
      "Wall time: 56.1 s\n",
      "\tDone!\n",
      "\tDone!\n",
      "--- SRR306815_GSM752668_ptr_br_M_4__coding_scores.csv ---\n",
      "Reading csv ...\n",
      "CPU times: user 58.3 s, sys: 16.7 s, total: 1min 15s\n",
      "Wall time: 1min 24s\n",
      "\tDone!\n",
      "\tDone!\n",
      "--- SRR306769_GSM752623_mmu_kd_F_1_trimmed__coding_scores.csv ---\n",
      "Reading csv ...\n",
      "CPU times: user 55.5 s, sys: 15.3 s, total: 1min 10s\n",
      "Wall time: 1min 14s\n",
      "\tDone!\n",
      "\tDone!\n",
      "--- SRR306778_GSM752632_mml_br_M_1_trimmed__coding_scores.csv ---\n",
      "Reading csv ...\n",
      "CPU times: user 13.7 s, sys: 4.04 s, total: 17.7 s\n",
      "Wall time: 18.6 s\n",
      "\tDone!\n",
      "\tDone!\n",
      "--- SRR306755_GSM752611_mdo_ts_M_1_trimmed__coding_scores.csv ---\n",
      "Reading csv ...\n",
      "CPU times: user 19.8 s, sys: 4.78 s, total: 24.6 s\n",
      "Wall time: 26 s\n",
      "\tDone!\n",
      "\tDone!\n"
     ]
    }
   ],
   "source": [
    "%%time\n",
    "\n",
    "dfs = []\n",
    "\n",
    "for csv in glob.glob(\"*.csv\"):\n",
    "    print(f'--- {csv} ---')\n",
    "    print(\"Reading csv ...\")\n",
    "    %time df = pd.read_csv(csv)\n",
    "    print(\"\\tDone!\")\n",
    "#     parquet = csv.replace('.csv', '.parquet')\n",
    "#     print(\"Writing Parquet ...\")\n",
    "#     %time df.to_parquet(parquet)\n",
    "#     print(\"\\tDone!\")\n",
    "    dfs.append(df)\n",
    "all_coding_scores = pd.concat(dfs)"
   ]
  },
  {
   "cell_type": "code",
   "execution_count": 8,
   "metadata": {
    "execution_event_id": "e83b449e-58b1-4766-8bb4-f6c1435f2364",
    "last_executed_text": "all_coding_scores.shape",
    "persistent_id": "1353db91-7d95-4de2-ba84-22db0cfc79de"
   },
   "outputs": [
    {
     "data": {
      "text/plain": [
       "(2414663118, 5)"
      ]
     },
     "execution_count": 8,
     "metadata": {},
     "output_type": "execute_result"
    }
   ],
   "source": [
    "all_coding_scores.shape"
   ]
  },
  {
   "cell_type": "code",
   "execution_count": 10,
   "metadata": {
    "execution_event_id": "1cd7f1f8-cfcc-4429-91d1-0859003f0ba7",
    "last_executed_text": "pwd",
    "persistent_id": "be8e3aac-0165-4c77-abd8-20df69d8a098"
   },
   "outputs": [
    {
     "data": {
      "text/plain": [
       "'/mnt/ibm_lg/olga/kmer-hashing/brawand2011/kmermaid/results_dayhoff11_extract_coding_jaccard_threshold05/extract_coding'"
      ]
     },
     "execution_count": 10,
     "metadata": {},
     "output_type": "execute_result"
    }
   ],
   "source": [
    "pwd"
   ]
  },
  {
   "cell_type": "code",
   "execution_count": null,
   "metadata": {
    "persistent_id": "91b5e3bf-95f9-4845-a4c3-07304a4bfb0c"
   },
   "outputs": [],
   "source": []
  },
  {
   "cell_type": "code",
   "execution_count": 11,
   "metadata": {
    "execution_event_id": "55617e14-e070-417a-8ab1-4a67113dc649",
    "last_executed_text": "filename = 'all_coding_scores.parquet'\nall_coding_scores.to_parquet(filename)",
    "persistent_id": "ad38f052-25b2-404c-b8fd-fe504cc09bd2"
   },
   "outputs": [
    {
     "ename": "AttributeError",
     "evalue": "module 'pyarrow' has no attribute 'compat'",
     "output_type": "error",
     "traceback": [
      "\u001b[0;31m---------------------------------------------------------------------------\u001b[0m",
      "\u001b[0;31mAttributeError\u001b[0m                            Traceback (most recent call last)",
      "\u001b[0;32m<ipython-input-11-24ba40645368>\u001b[0m in \u001b[0;36m<module>\u001b[0;34m()\u001b[0m\n\u001b[1;32m      1\u001b[0m \u001b[0mfilename\u001b[0m \u001b[0;34m=\u001b[0m \u001b[0;34m'all_coding_scores.parquet'\u001b[0m\u001b[0;34m\u001b[0m\u001b[0;34m\u001b[0m\u001b[0m\n\u001b[0;32m----> 2\u001b[0;31m \u001b[0mall_coding_scores\u001b[0m\u001b[0;34m.\u001b[0m\u001b[0mto_parquet\u001b[0m\u001b[0;34m(\u001b[0m\u001b[0mfilename\u001b[0m\u001b[0;34m)\u001b[0m\u001b[0;34m\u001b[0m\u001b[0;34m\u001b[0m\u001b[0m\n\u001b[0m",
      "\u001b[0;32m~/miniconda3/envs/kmer-hashing/lib/python3.6/site-packages/pandas/core/frame.py\u001b[0m in \u001b[0;36mto_parquet\u001b[0;34m(self, fname, engine, compression, index, partition_cols, **kwargs)\u001b[0m\n\u001b[1;32m   2220\u001b[0m             \u001b[0mindex\u001b[0m\u001b[0;34m=\u001b[0m\u001b[0mindex\u001b[0m\u001b[0;34m,\u001b[0m\u001b[0;34m\u001b[0m\u001b[0;34m\u001b[0m\u001b[0m\n\u001b[1;32m   2221\u001b[0m             \u001b[0mpartition_cols\u001b[0m\u001b[0;34m=\u001b[0m\u001b[0mpartition_cols\u001b[0m\u001b[0;34m,\u001b[0m\u001b[0;34m\u001b[0m\u001b[0;34m\u001b[0m\u001b[0m\n\u001b[0;32m-> 2222\u001b[0;31m             \u001b[0;34m**\u001b[0m\u001b[0mkwargs\u001b[0m\u001b[0;34m\u001b[0m\u001b[0;34m\u001b[0m\u001b[0m\n\u001b[0m\u001b[1;32m   2223\u001b[0m         )\n\u001b[1;32m   2224\u001b[0m \u001b[0;34m\u001b[0m\u001b[0m\n",
      "\u001b[0;32m~/miniconda3/envs/kmer-hashing/lib/python3.6/site-packages/pandas/io/parquet.py\u001b[0m in \u001b[0;36mto_parquet\u001b[0;34m(df, path, engine, compression, index, partition_cols, **kwargs)\u001b[0m\n\u001b[1;32m    245\u001b[0m         \u001b[0mAdditional\u001b[0m \u001b[0mkeyword\u001b[0m \u001b[0marguments\u001b[0m \u001b[0mpassed\u001b[0m \u001b[0mto\u001b[0m \u001b[0mthe\u001b[0m \u001b[0mengine\u001b[0m\u001b[0;34m\u001b[0m\u001b[0;34m\u001b[0m\u001b[0m\n\u001b[1;32m    246\u001b[0m     \"\"\"\n\u001b[0;32m--> 247\u001b[0;31m     \u001b[0mimpl\u001b[0m \u001b[0;34m=\u001b[0m \u001b[0mget_engine\u001b[0m\u001b[0;34m(\u001b[0m\u001b[0mengine\u001b[0m\u001b[0;34m)\u001b[0m\u001b[0;34m\u001b[0m\u001b[0;34m\u001b[0m\u001b[0m\n\u001b[0m\u001b[1;32m    248\u001b[0m     return impl.write(\n\u001b[1;32m    249\u001b[0m         \u001b[0mdf\u001b[0m\u001b[0;34m,\u001b[0m\u001b[0;34m\u001b[0m\u001b[0;34m\u001b[0m\u001b[0m\n",
      "\u001b[0;32m~/miniconda3/envs/kmer-hashing/lib/python3.6/site-packages/pandas/io/parquet.py\u001b[0m in \u001b[0;36mget_engine\u001b[0;34m(engine)\u001b[0m\n\u001b[1;32m     20\u001b[0m         \u001b[0;31m# try engines in this order\u001b[0m\u001b[0;34m\u001b[0m\u001b[0;34m\u001b[0m\u001b[0;34m\u001b[0m\u001b[0m\n\u001b[1;32m     21\u001b[0m         \u001b[0;32mtry\u001b[0m\u001b[0;34m:\u001b[0m\u001b[0;34m\u001b[0m\u001b[0;34m\u001b[0m\u001b[0m\n\u001b[0;32m---> 22\u001b[0;31m             \u001b[0;32mreturn\u001b[0m \u001b[0mPyArrowImpl\u001b[0m\u001b[0;34m(\u001b[0m\u001b[0;34m)\u001b[0m\u001b[0;34m\u001b[0m\u001b[0;34m\u001b[0m\u001b[0m\n\u001b[0m\u001b[1;32m     23\u001b[0m         \u001b[0;32mexcept\u001b[0m \u001b[0mImportError\u001b[0m\u001b[0;34m:\u001b[0m\u001b[0;34m\u001b[0m\u001b[0;34m\u001b[0m\u001b[0m\n\u001b[1;32m     24\u001b[0m             \u001b[0;32mpass\u001b[0m\u001b[0;34m\u001b[0m\u001b[0;34m\u001b[0m\u001b[0m\n",
      "\u001b[0;32m~/miniconda3/envs/kmer-hashing/lib/python3.6/site-packages/pandas/io/parquet.py\u001b[0m in \u001b[0;36m__init__\u001b[0;34m(self)\u001b[0m\n\u001b[1;32m     76\u001b[0m     \u001b[0;32mdef\u001b[0m \u001b[0m__init__\u001b[0m\u001b[0;34m(\u001b[0m\u001b[0mself\u001b[0m\u001b[0;34m)\u001b[0m\u001b[0;34m:\u001b[0m\u001b[0;34m\u001b[0m\u001b[0;34m\u001b[0m\u001b[0m\n\u001b[1;32m     77\u001b[0m         pyarrow = import_optional_dependency(\n\u001b[0;32m---> 78\u001b[0;31m             \u001b[0;34m\"pyarrow\"\u001b[0m\u001b[0;34m,\u001b[0m \u001b[0mextra\u001b[0m\u001b[0;34m=\u001b[0m\u001b[0;34m\"pyarrow is required for parquet support.\"\u001b[0m\u001b[0;34m\u001b[0m\u001b[0;34m\u001b[0m\u001b[0m\n\u001b[0m\u001b[1;32m     79\u001b[0m         )\n\u001b[1;32m     80\u001b[0m         \u001b[0;32mimport\u001b[0m \u001b[0mpyarrow\u001b[0m\u001b[0;34m.\u001b[0m\u001b[0mparquet\u001b[0m\u001b[0;34m\u001b[0m\u001b[0;34m\u001b[0m\u001b[0m\n",
      "\u001b[0;32m~/miniconda3/envs/kmer-hashing/lib/python3.6/site-packages/pandas/compat/_optional.py\u001b[0m in \u001b[0;36mimport_optional_dependency\u001b[0;34m(name, extra, raise_on_missing, on_version)\u001b[0m\n\u001b[1;32m     88\u001b[0m     \"\"\"\n\u001b[1;32m     89\u001b[0m     \u001b[0;32mtry\u001b[0m\u001b[0;34m:\u001b[0m\u001b[0;34m\u001b[0m\u001b[0;34m\u001b[0m\u001b[0m\n\u001b[0;32m---> 90\u001b[0;31m         \u001b[0mmodule\u001b[0m \u001b[0;34m=\u001b[0m \u001b[0mimportlib\u001b[0m\u001b[0;34m.\u001b[0m\u001b[0mimport_module\u001b[0m\u001b[0;34m(\u001b[0m\u001b[0mname\u001b[0m\u001b[0;34m)\u001b[0m\u001b[0;34m\u001b[0m\u001b[0;34m\u001b[0m\u001b[0m\n\u001b[0m\u001b[1;32m     91\u001b[0m     \u001b[0;32mexcept\u001b[0m \u001b[0mImportError\u001b[0m\u001b[0;34m:\u001b[0m\u001b[0;34m\u001b[0m\u001b[0;34m\u001b[0m\u001b[0m\n\u001b[1;32m     92\u001b[0m         \u001b[0;32mif\u001b[0m \u001b[0mraise_on_missing\u001b[0m\u001b[0;34m:\u001b[0m\u001b[0;34m\u001b[0m\u001b[0;34m\u001b[0m\u001b[0m\n",
      "\u001b[0;32m~/miniconda3/envs/kmer-hashing/lib/python3.6/importlib/__init__.py\u001b[0m in \u001b[0;36mimport_module\u001b[0;34m(name, package)\u001b[0m\n\u001b[1;32m    124\u001b[0m                 \u001b[0;32mbreak\u001b[0m\u001b[0;34m\u001b[0m\u001b[0;34m\u001b[0m\u001b[0m\n\u001b[1;32m    125\u001b[0m             \u001b[0mlevel\u001b[0m \u001b[0;34m+=\u001b[0m \u001b[0;36m1\u001b[0m\u001b[0;34m\u001b[0m\u001b[0;34m\u001b[0m\u001b[0m\n\u001b[0;32m--> 126\u001b[0;31m     \u001b[0;32mreturn\u001b[0m \u001b[0m_bootstrap\u001b[0m\u001b[0;34m.\u001b[0m\u001b[0m_gcd_import\u001b[0m\u001b[0;34m(\u001b[0m\u001b[0mname\u001b[0m\u001b[0;34m[\u001b[0m\u001b[0mlevel\u001b[0m\u001b[0;34m:\u001b[0m\u001b[0;34m]\u001b[0m\u001b[0;34m,\u001b[0m \u001b[0mpackage\u001b[0m\u001b[0;34m,\u001b[0m \u001b[0mlevel\u001b[0m\u001b[0;34m)\u001b[0m\u001b[0;34m\u001b[0m\u001b[0;34m\u001b[0m\u001b[0m\n\u001b[0m\u001b[1;32m    127\u001b[0m \u001b[0;34m\u001b[0m\u001b[0m\n\u001b[1;32m    128\u001b[0m \u001b[0;34m\u001b[0m\u001b[0m\n",
      "\u001b[0;32m~/miniconda3/envs/kmer-hashing/lib/python3.6/importlib/_bootstrap.py\u001b[0m in \u001b[0;36m_gcd_import\u001b[0;34m(name, package, level)\u001b[0m\n",
      "\u001b[0;32m~/miniconda3/envs/kmer-hashing/lib/python3.6/importlib/_bootstrap.py\u001b[0m in \u001b[0;36m_find_and_load\u001b[0;34m(name, import_)\u001b[0m\n",
      "\u001b[0;32m~/miniconda3/envs/kmer-hashing/lib/python3.6/importlib/_bootstrap.py\u001b[0m in \u001b[0;36m_find_and_load_unlocked\u001b[0;34m(name, import_)\u001b[0m\n",
      "\u001b[0;32m~/miniconda3/envs/kmer-hashing/lib/python3.6/importlib/_bootstrap.py\u001b[0m in \u001b[0;36m_load_unlocked\u001b[0;34m(spec)\u001b[0m\n",
      "\u001b[0;32m~/miniconda3/envs/kmer-hashing/lib/python3.6/importlib/_bootstrap_external.py\u001b[0m in \u001b[0;36mexec_module\u001b[0;34m(self, module)\u001b[0m\n",
      "\u001b[0;32m~/miniconda3/envs/kmer-hashing/lib/python3.6/importlib/_bootstrap.py\u001b[0m in \u001b[0;36m_call_with_frames_removed\u001b[0;34m(f, *args, **kwds)\u001b[0m\n",
      "\u001b[0;32m~/miniconda3/envs/kmer-hashing/lib/python3.6/site-packages/pyarrow/__init__.py\u001b[0m in \u001b[0;36m<module>\u001b[0;34m()\u001b[0m\n\u001b[1;32m     45\u001b[0m \u001b[0;34m\u001b[0m\u001b[0m\n\u001b[1;32m     46\u001b[0m \u001b[0;34m\u001b[0m\u001b[0m\n\u001b[0;32m---> 47\u001b[0;31m \u001b[0;32mimport\u001b[0m \u001b[0mpyarrow\u001b[0m\u001b[0;34m.\u001b[0m\u001b[0mcompat\u001b[0m \u001b[0;32mas\u001b[0m \u001b[0mcompat\u001b[0m\u001b[0;34m\u001b[0m\u001b[0;34m\u001b[0m\u001b[0m\n\u001b[0m\u001b[1;32m     48\u001b[0m \u001b[0;34m\u001b[0m\u001b[0m\n\u001b[1;32m     49\u001b[0m \u001b[0;32mfrom\u001b[0m \u001b[0mpyarrow\u001b[0m\u001b[0;34m.\u001b[0m\u001b[0mlib\u001b[0m \u001b[0;32mimport\u001b[0m \u001b[0mcpu_count\u001b[0m\u001b[0;34m,\u001b[0m \u001b[0mset_cpu_count\u001b[0m\u001b[0;34m\u001b[0m\u001b[0;34m\u001b[0m\u001b[0m\n",
      "\u001b[0;31mAttributeError\u001b[0m: module 'pyarrow' has no attribute 'compat'"
     ]
    }
   ],
   "source": [
    "filename = 'all_coding_scores.parquet'\n",
    "all_coding_scores.to_parquet(filename)"
   ]
  },
  {
   "cell_type": "code",
   "execution_count": 9,
   "metadata": {
    "execution_event_id": "1b748b04-b117-4e12-b0c8-1b3bca338468",
    "last_executed_text": "! which -a pip",
    "persistent_id": "08001904-36a0-4e56-bd58-a9628d378c6e"
   },
   "outputs": [
    {
     "name": "stdout",
     "output_type": "stream",
     "text": [
      "/home/olga/anaconda/bin/pip\n",
      "/home/olga/anaconda/bin/pip\n",
      "/usr/local/bin/pip\n",
      "/home/olga/miniconda3/envs/kmer-hashing/bin/pip\n",
      "/home/olga/anaconda/bin/pip\n",
      "/usr/local/bin/pip\n",
      "/usr/local/bin/pip\n"
     ]
    }
   ],
   "source": [
    "! which -a pip"
   ]
  },
  {
   "cell_type": "code",
   "execution_count": 12,
   "metadata": {
    "execution_event_id": "173a9a87-b455-4068-ae10-e83c2cab4cca",
    "last_executed_text": "import pyarrow",
    "persistent_id": "a356f2b7-06bd-406a-bce8-1cf9b91f4416"
   },
   "outputs": [
    {
     "ename": "AttributeError",
     "evalue": "module 'pyarrow' has no attribute 'compat'",
     "output_type": "error",
     "traceback": [
      "\u001b[0;31m---------------------------------------------------------------------------\u001b[0m",
      "\u001b[0;31mAttributeError\u001b[0m                            Traceback (most recent call last)",
      "\u001b[0;32m<ipython-input-12-f1048abcb32d>\u001b[0m in \u001b[0;36m<module>\u001b[0;34m()\u001b[0m\n\u001b[0;32m----> 1\u001b[0;31m \u001b[0;32mimport\u001b[0m \u001b[0mpyarrow\u001b[0m\u001b[0;34m\u001b[0m\u001b[0;34m\u001b[0m\u001b[0m\n\u001b[0m",
      "\u001b[0;32m~/miniconda3/envs/kmer-hashing/lib/python3.6/site-packages/pyarrow/__init__.py\u001b[0m in \u001b[0;36m<module>\u001b[0;34m()\u001b[0m\n\u001b[1;32m     45\u001b[0m \u001b[0;34m\u001b[0m\u001b[0m\n\u001b[1;32m     46\u001b[0m \u001b[0;34m\u001b[0m\u001b[0m\n\u001b[0;32m---> 47\u001b[0;31m \u001b[0;32mimport\u001b[0m \u001b[0mpyarrow\u001b[0m\u001b[0;34m.\u001b[0m\u001b[0mcompat\u001b[0m \u001b[0;32mas\u001b[0m \u001b[0mcompat\u001b[0m\u001b[0;34m\u001b[0m\u001b[0;34m\u001b[0m\u001b[0m\n\u001b[0m\u001b[1;32m     48\u001b[0m \u001b[0;34m\u001b[0m\u001b[0m\n\u001b[1;32m     49\u001b[0m \u001b[0;32mfrom\u001b[0m \u001b[0mpyarrow\u001b[0m\u001b[0;34m.\u001b[0m\u001b[0mlib\u001b[0m \u001b[0;32mimport\u001b[0m \u001b[0mcpu_count\u001b[0m\u001b[0;34m,\u001b[0m \u001b[0mset_cpu_count\u001b[0m\u001b[0;34m\u001b[0m\u001b[0;34m\u001b[0m\u001b[0m\n",
      "\u001b[0;31mAttributeError\u001b[0m: module 'pyarrow' has no attribute 'compat'"
     ]
    }
   ],
   "source": [
    "import pyarrow"
   ]
  },
  {
   "cell_type": "code",
   "execution_count": null,
   "metadata": {
    "persistent_id": "10de597a-93f3-4645-9296-e511cff56ea7"
   },
   "outputs": [],
   "source": []
  }
 ],
 "metadata": {
  "history": [
   {
    "cell": {
     "executionCount": 1,
     "executionEventId": "a92b2b5f-4181-4ba7-a206-69598ee92ce9",
     "hasError": false,
     "id": "9be10d8b-3bb8-4179-998e-3e93be874db0",
     "outputs": [
      {
       "name": "stdout",
       "output_type": "stream",
       "text": "/mnt/ibm_lg/olga/kmer-hashing/brawand2011/kmermaid/results_dayhoff11_extract_coding_jaccard_threshold05/extract_coding\n"
      }
     ],
     "persistentId": "23969cb6-1090-464a-ab9f-3bcd20e4c596",
     "text": "cd ~/data_lg/kmer-hashing/brawand2011/kmermaid/results_dayhoff11_extract_coding_jaccard_threshold05/extract_coding"
    },
    "executionTime": "2019-11-05T16:05:28.761Z"
   },
   {
    "cell": {
     "executionCount": 2,
     "executionEventId": "0a3069ec-5518-4b4c-90a7-e8cb3a571cbc",
     "hasError": false,
     "id": "ebf44c93-6094-4cc1-9312-0cf339e812f6",
     "outputs": [],
     "persistentId": "9101ba02-87fc-4db3-be7e-3fde4f92cbc2",
     "text": "import os\nimport glob\n\nimport pandas as pd"
    },
    "executionTime": "2019-11-05T16:05:44.026Z"
   },
   {
    "cell": {
     "executionCount": 3,
     "executionEventId": "fe8fa9b2-587a-498d-92d0-e59d0d653808",
     "hasError": false,
     "id": "ebf44c93-6094-4cc1-9312-0cf339e812f6",
     "outputs": [],
     "persistentId": "9101ba02-87fc-4db3-be7e-3fde4f92cbc2",
     "text": "import os\nimport glob\n\nimport pandas as pd\nimport seaborn as sns"
    },
    "executionTime": "2019-11-05T16:05:50.056Z"
   },
   {
    "cell": {
     "executionCount": 4,
     "executionEventId": "a2ca27a9-3972-44b9-96dc-f3b734388e43",
     "hasError": false,
     "id": "4ee688af-2fae-4b56-b6a8-e94c5aca7dd8",
     "outputs": [
      {
       "name": "stdout",
       "output_type": "stream",
       "text": "-rw-r--r-- 1 root  496044303 Nov  4 19:54 SRR306752_GSM752603_mdo_kd_M_1_trimmed__coding_scores.csv\n-rw-r--r-- 1 root 2236120026 Nov  4 13:41 SRR306753_GSM752606_mdo_lv_F_1_trimmed__coding_scores.csv\n-rw-r--r-- 1 root 1839389073 Nov  4 17:59 SRR306754_GSM752608_mdo_lv_M_1_trimmed__coding_scores.csv\n-rw-r--r-- 1 root 1756350556 Nov  4 22:26 SRR306755_GSM752611_mdo_ts_M_1_trimmed__coding_scores.csv\n-rw-r--r-- 1 root 3959121094 Nov  4 15:53 SRR306756_GSM752613_mdo_ts_M_2_trimmed__coding_scores.csv\n-rw-r--r-- 1 root 3137731813 Nov  4 19:33 SRR306757_GSM752614_mmu_br_F_1_trimmed__coding_scores.csv\n-rw-r--r-- 1 olga 1616655283 Nov  4 09:57 SRR306758_GSM752615_mmu_br_M_1_trimmed__coding_scores.csv\n-rw-r--r-- 1 olga  913443492 Nov  4 11:49 SRR306759_GSM752615_mmu_br_M_1_trimmed__coding_scores.csv\n-rw-r--r-- 1 root 1716039018 Nov  4 21:44 SRR306760_GSM752615_mmu_br_M_1_trimmed__coding_scores.csv\n-rw-r--r-- 1 root 1657322856 Nov  4 15:41 SRR306761_GSM752615_mmu_br_M_1_trimmed__coding_scores.csv\n-rw-r--r-- 1 root 2000186635 Nov  4 20:10 SRR306762_GSM752616_mmu_br_M_2_trimmed__coding_scores.csv\n-rw-r--r-- 1 root 4619031559 Nov  4 21:18 SRR306763_GSM752617_mmu_cb_F_1_trimmed__coding_scores.csv\n-rw-r--r-- 1 root 2111698026 Nov  4 17:27 SRR306764_GSM752618_mmu_cb_M_1_trimmed__coding_scores.csv\n-rw-r--r-- 1 root 3316921579 Nov  4 18:07 SRR306765_GSM752619_mmu_cb_M_2_trimmed__coding_scores.csv\n-rw-r--r-- 1 root 5199165954 Nov  4 21:50 SRR306766_GSM752620_mmu_ht_F_1_trimmed__coding_scores.csv\n-rw-r--r-- 1 root 2528947855 Nov  4 21:27 SRR306767_GSM752621_mmu_ht_M_1_trimmed__coding_scores.csv\n-rw-r--r-- 1 root 2931034678 Nov  4 14:19 SRR306768_GSM752622_mmu_ht_M_2_trimmed__coding_scores.csv\n-rw-r--r-- 1 root 5448770030 Nov  5 02:43 SRR306769_GSM752623_mmu_kd_F_1_trimmed__coding_scores.csv\n-rw-r--r-- 1 root 2143835679 Nov  4 13:32 SRR306770_GSM752624_mmu_kd_M_1_trimmed__coding_scores.csv\n-rw-r--r-- 1 root 3470044840 Nov  4 20:41 SRR306771_GSM752625_mmu_kd_M_2_trimmed__coding_scores.csv\n-rw-r--r-- 1 root 5075572420 Nov  4 19:12 SRR306772_GSM752626_mmu_lv_F_1_trimmed__coding_scores.csv\n-rw-r--r-- 1 root 2047162471 Nov  4 20:22 SRR306773_GSM752627_mmu_lv_M_1_trimmed__coding_scores.csv\n-rw-r--r-- 1 root 4015869218 Nov  4 15:30 SRR306774_GSM752628_mmu_lv_M_2_trimmed__coding_scores.csv\n-rw-r--r-- 1 root 2226703789 Nov  4 13:43 SRR306775_GSM752629_mmu_ts_M_1_trimmed__coding_scores.csv\n-rw-r--r-- 1 root 3610720188 Nov  4 21:09 SRR306776_GSM752630_mmu_ts_M_2_trimmed__coding_scores.csv\n-rw-r--r-- 1 root 1954024984 Nov  4 22:21 SRR306777_GSM752631_mml_br_F_1_trimmed__coding_scores.csv\n-rw-r--r-- 1 root 1299337372 Nov  4 18:04 SRR306778_GSM752632_mml_br_M_1_trimmed__coding_scores.csv\n-rw-r--r-- 1 root 5409786695 Nov  4 17:57 SRR306779_GSM752633_mml_br_M_2__coding_scores.csv\n-rw-r--r-- 1 root 2558142244 Nov  4 13:48 SRR306780_GSM752634_mml_cb_F_1_trimmed__coding_scores.csv\n-rw-r--r-- 1 root 2242805515 Nov  4 22:17 SRR306781_GSM752635_mml_cb_M_1_trimmed__coding_scores.csv\n-rw-r--r-- 1 root 3197782181 Nov  4 14:43 SRR306782_GSM752636_mml_ht_F_1_trimmed__coding_scores.csv\n-rw-r--r-- 1 olga 2221597633 Nov  4 13:11 SRR306783_GSM752637_mml_ht_M_1_trimmed__coding_scores.csv\n-rw-r--r-- 1 root 1800600340 Nov  4 17:31 SRR306784_GSM752638_mml_kd_F_1_trimmed__coding_scores.csv\n-rw-r--r-- 1 olga 1738058919 Nov  4 09:51 SRR306785_GSM752639_mml_kd_M_1_trimmed__coding_scores.csv\n-rw-r--r-- 1 root 2316075113 Nov  4 18:14 SRR306786_GSM752640_mml_lv_F_1_trimmed__coding_scores.csv\n-rw-r--r-- 1 olga  900586682 Nov  4 12:09 SRR306787_GSM752641_mml_lv_M_1_trimmed__coding_scores.csv\n-rw-r--r-- 1 root 2518997970 Nov  4 15:11 SRR306788_GSM752641_mml_lv_M_1_trimmed__coding_scores.csv\n-rw-r--r-- 1 root 1918482330 Nov  4 18:19 SRR306789_GSM752642_mml_ts_M_1_trimmed__coding_scores.csv\n-rw-r--r-- 1 root 4041346175 Nov  5 00:36 SRR306790_GSM752643_mml_ts_M_2_trimmed__coding_scores.csv\n-rw-r--r-- 1 root 4431570845 Nov  4 22:54 SRR306791_GSM752644_ppy_br_F_1_trimmed__coding_scores.csv\n-rw-r--r-- 1 root 4517896960 Nov  4 16:39 SRR306792_GSM752645_ppy_br_M_1__coding_scores.csv\n-rw-r--r-- 1 root 2158803124 Nov  4 16:02 SRR306793_GSM752646_ppy_cb_F_1_trimmed__coding_scores.csv\n-rw-r--r-- 1 root 4232342379 Nov  4 15:57 SRR306794_GSM752647_ppy_ht_F_1_trimmed__coding_scores.csv\n-rw-r--r-- 1 root 3956101818 Nov  4 15:44 SRR306795_GSM752648_ppy_ht_M_1_trimmed__coding_scores.csv\n-rw-r--r-- 1 root 3652314035 Nov  4 15:04 SRR306796_GSM752649_ppy_kd_F_1_trimmed__coding_scores.csv\n-rw-r--r-- 1 root 3559798636 Nov  4 19:30 SRR306797_GSM752650_ppy_kd_M_1_trimmed__coding_scores.csv\n-rw-r--r-- 1 root 2563483589 Nov  4 18:45 SRR306798_GSM752651_ppy_lv_F_1_trimmed__coding_scores.csv\n-rw-r--r-- 1 root 4393458428 Nov  4 20:08 SRR306799_GSM752652_ppy_lv_M_1_trimmed__coding_scores.csv\n-rw-r--r-- 1 root 4518172482 Nov  4 21:38 SRR306800_GSM752653_ggo_br_F_1_trimmed__coding_scores.csv\n-rw-r--r-- 1 root 4124108919 Nov  4 16:24 SRR306801_GSM752654_ggo_br_M_1__coding_scores.csv\n-rw-r--r-- 1 root 3538542577 Nov  4 20:04 SRR306802_GSM752655_ggo_cb_F_1_trimmed__coding_scores.csv\n-rw-r--r-- 1 root 2275451604 Nov  4 18:32 SRR306803_GSM752656_ggo_cb_M_1_trimmed__coding_scores.csv\n-rw-r--r-- 1 root 3526188565 Nov  4 15:08 SRR306804_GSM752657_ggo_ht_F_1_trimmed__coding_scores.csv\n-rw-r--r-- 1 root 3676455244 Nov  4 21:42 SRR306805_GSM752658_ggo_ht_M_1_trimmed__coding_scores.csv\n-rw-r--r-- 1 root 2149408377 Nov  4 20:56 SRR306806_GSM752659_ggo_kd_F_1_trimmed__coding_scores.csv\n-rw-r--r-- 1 root 3435927101 Nov  4 16:20 SRR306807_GSM752660_ggo_kd_M_1_trimmed__coding_scores.csv\n-rw-r--r-- 1 root 3861757070 Nov  4 15:38 SRR306808_GSM752661_ggo_lv_F_1_trimmed__coding_scores.csv\n-rw-r--r-- 1 root 4251866731 Nov  5 00:05 SRR306809_GSM752662_ggo_lv_M_1_trimmed__coding_scores.csv\n-rw-r--r-- 1 root 2375020958 Nov  4 17:24 SRR306810_GSM752663_ggo_ts_M_1_trimmed__coding_scores.csv\n-rw-r--r-- 1 root 2456928970 Nov  4 20:20 SRR306811_GSM752664_ptr_br_F_1_trimmed__coding_scores.csv\n-rw-r--r-- 1 root 3450353029 Nov  4 15:27 SRR306812_GSM752665_ptr_br_M_1__coding_scores.csv\n-rw-r--r-- 1 root 5238331582 Nov  4 17:21 SRR306813_GSM752666_ptr_br_M_2__coding_scores.csv\n-rw-r--r-- 1 root 4002973142 Nov  4 22:12 SRR306814_GSM752667_ptr_br_M_3__coding_scores.csv\n-rw-r--r-- 1 root 5828303677 Nov  5 01:02 SRR306815_GSM752668_ptr_br_M_4__coding_scores.csv\n-rw-r--r-- 1 root 6194342728 Nov  4 18:42 SRR306816_GSM752669_ptr_br_M_5__coding_scores.csv\n-rw-r--r-- 1 root 4088285142 Nov  4 22:36 SRR306817_GSM752670_ptr_cb_F_1_trimmed__coding_scores.csv\n-rw-r--r-- 1 root 2133491533 Nov  4 13:37 SRR306818_GSM752671_ptr_cb_M_1_trimmed__coding_scores.csv\n-rw-r--r-- 1 root 3720302711 Nov  4 18:03 SRR306819_GSM752672_ptr_ht_F_1_trimmed__coding_scores.csv\n-rw-r--r-- 1 root 5081129613 Nov  4 23:51 SRR306820_GSM752673_ptr_ht_M_1_trimmed__coding_scores.csv\n-rw-r--r-- 1 root 3138986176 Nov  4 22:09 SRR306821_GSM752674_ptr_kd_F_1_trimmed__coding_scores.csv\n-rw-r--r-- 1 root 4202308137 Nov  4 21:01 SRR306822_GSM752675_ptr_kd_M_1_trimmed__coding_scores.csv\n-rw-r--r-- 1 root 3671949785 Nov  4 15:34 SRR306823_GSM752676_ptr_lv_F_1_trimmed__coding_scores.csv\n-rw-r--r-- 1 root 2139425195 Nov  4 16:07 SRR306824_GSM752677_ptr_lv_M_1_trimmed__coding_scores.csv\n-rw-r--r-- 1 root 2868387113 Nov  4 17:50 SRR306825_GSM752678_ptr_ts_M_1_trimmed__coding_scores.csv\n-rw-r--r-- 1 root 4290058125 Nov  4 16:32 SRR306826_GSM752679_ppa_br_F_1__coding_scores.csv\n-rw-r--r-- 1 root 3099547036 Nov  5 00:09 SRR306827_GSM752680_ppa_br_F_2_trimmed__coding_scores.csv\n-rw-r--r-- 1 root 4707176154 Nov  4 21:57 SRR306828_GSM752681_ppa_br_M_1_trimmed__coding_scores.csv\n-rw-r--r-- 1 root 3570745823 Nov  4 22:24 SRR306829_GSM752682_ppa_cb_F_1_trimmed__coding_scores.csv\n-rw-r--r-- 1 root 4280769200 Nov  4 23:39 SRR306830_GSM752683_ppa_cb_M_1_trimmed__coding_scores.csv\n-rw-r--r-- 1 root 3696114826 Nov  4 22:01 SRR306831_GSM752684_ppa_ht_F_1_trimmed__coding_scores.csv\n-rw-r--r-- 1 root 3203906164 Nov  4 14:36 SRR306832_GSM752685_ppa_ht_M_1_trimmed__coding_scores.csv\n-rw-r--r-- 1 root 3814796020 Nov  4 22:15 SRR306833_GSM752686_ppa_kd_F_1_trimmed__coding_scores.csv\n-rw-r--r-- 1 root 3166681743 Nov  4 14:46 SRR306834_GSM752687_ppa_kd_M_1_trimmed__coding_scores.csv\n-rw-r--r-- 1 root 3449034301 Nov  4 17:47 SRR306835_GSM752688_ppa_lv_F_1_trimmed__coding_scores.csv\n-rw-r--r-- 1 olga 2223238934 Nov  4 13:26 SRR306836_GSM752689_ppa_lv_M_1_trimmed__coding_scores.csv\n-rw-r--r-- 1 olga 1946023808 Nov  4 13:21 SRR306837_GSM752690_ppa_ts_M_1_trimmed__coding_scores.csv\n-rw-r--r-- 1 olga  102525557 Nov  4 11:05 SRR306838_GSM752691_hsa_br_F_1_trimmed__coding_scores.csv\n-rw-r--r-- 1 root 1864924283 Nov  4 21:06 SRR306839_GSM752692_hsa_br_M_3_trimmed__coding_scores.csv\n-rw-r--r-- 1 root 5937741535 Nov  4 18:18 SRR306840_GSM752693_hsa_br_M_1__coding_scores.csv\n-rw-r--r-- 1 root 2275720960 Nov  4 15:49 SRR306841_GSM752694_hsa_br_M_2_trimmed__coding_scores.csv\n-rw-r--r-- 1 root 4122648306 Nov  4 16:00 SRR306842_GSM752695_hsa_br_M_4__coding_scores.csv\n-rw-r--r-- 1 olga  548966988 Nov  4 11:38 SRR306843_GSM752696_hsa_br_M_5_trimmed__coding_scores.csv\n-rw-r--r-- 1 root 3619932900 Nov  5 00:13 SRR306844_GSM752697_hsa_cb_F_1_trimmed__coding_scores.csv\n-rw-r--r-- 1 olga  936669182 Nov  4 13:02 SRR306845_GSM752698_hsa_cb_M_1_trimmed__coding_scores.csv\n-rw-r--r-- 1 root 2116895712 Nov  4 20:43 SRR306846_GSM752698_hsa_cb_M_1_trimmed__coding_scores.csv\n-rw-r--r-- 1 olga   51159957 Nov  3 15:19 SRR306847_GSM752699_hsa_ht_F_1_trimmed__coding_scores.csv\n-rw-r--r-- 1 root  896603066 Nov  4 16:50 SRR306848_GSM752700_hsa_ht_M_1_trimmed__coding_scores.csv\n-rw-r--r-- 1 root 1794559275 Nov  4 16:05 SRR306849_GSM752700_hsa_ht_M_1_trimmed__coding_scores.csv\n-rw-r--r-- 1 root 3124639709 Nov  4 21:53 SRR306850_GSM752701_hsa_ht_M_2_trimmed__coding_scores.csv\n-rw-r--r-- 1 olga  147370218 Nov  4 11:09 SRR306851_GSM752702_hsa_kd_F_1_trimmed__coding_scores.csv\n-rw-r--r-- 1 root 3427611709 Nov  4 17:53 SRR306853_GSM752704_hsa_kd_M_2_trimmed__coding_scores.csv\n-rw-r--r-- 1 olga  612304417 Nov  4 12:11 SRR306854_GSM752705_hsa_lv_M_1_trimmed__coding_scores.csv\n-rw-r--r-- 1 root 2988670072 Nov  4 18:22 SRR306855_GSM752705_hsa_lv_M_1_trimmed__coding_scores.csv\n-rw-r--r-- 1 root 2871086977 Nov  4 23:36 SRR306856_GSM752706_hsa_lv_M_2_trimmed__coding_scores.csv\n-rw-r--r-- 1 root  470293375 Nov  4 18:03 SRR306857_GSM752707_hsa_ts_M_1_trimmed__coding_scores.csv\n-rw-r--r-- 1 root 3906062057 Nov  4 20:47 SRR306858_GSM752708_hsa_ts_M_2_trimmed__coding_scores.csv\n-rw-rw-r-- 1 olga      12713 Nov  4 13:28 test.csv\n"
      }
     ],
     "persistentId": "35248e0d-c908-4ba0-b18d-69d11c2e4169",
     "text": "ll *csv"
    },
    "executionTime": "2019-11-05T16:08:35.342Z"
   },
   {
    "cell": {
     "executionCount": 6,
     "executionEventId": "86e4c295-6ec7-4d1f-88a8-f9dbacee9f34",
     "hasError": false,
     "id": "44408e4f-b497-48fa-a4f3-f9774e9d1f77",
     "outputs": [
      {
       "name": "stdout",
       "output_type": "stream",
       "text": "(3748455, 5)\n"
      },
      {
       "data": {
        "text/html": "<div>\n<style scoped>\n    .dataframe tbody tr th:only-of-type {\n        vertical-align: middle;\n    }\n\n    .dataframe tbody tr th {\n        vertical-align: top;\n    }\n\n    .dataframe thead th {\n        text-align: right;\n    }\n</style>\n<table border=\"1\" class=\"dataframe\">\n  <thead>\n    <tr style=\"text-align: right;\">\n      <th></th>\n      <th>read_id</th>\n      <th>jaccard_in_peptide_db</th>\n      <th>n_kmers</th>\n      <th>classification</th>\n      <th>filename</th>\n    </tr>\n  </thead>\n  <tbody>\n    <tr>\n      <th>0</th>\n      <td>SRR306752.24755 Ibis_Run090629:7:1:286:693/1</td>\n      <td>NaN</td>\n      <td>NaN</td>\n      <td>All translations shorter than peptide k-mer si...</td>\n      <td>SRR306752_GSM752603_mdo_kd_M_1_trimmed.fq.gz</td>\n    </tr>\n    <tr>\n      <th>1</th>\n      <td>SRR306752.26212 Ibis_Run090629:7:1:304:224/1</td>\n      <td>NaN</td>\n      <td>NaN</td>\n      <td>All translations shorter than peptide k-mer si...</td>\n      <td>SRR306752_GSM752603_mdo_kd_M_1_trimmed.fq.gz</td>\n    </tr>\n    <tr>\n      <th>2</th>\n      <td>SRR306752.27035 Ibis_Run090629:7:1:313:423/1</td>\n      <td>1.0</td>\n      <td>3.0</td>\n      <td>Coding</td>\n      <td>SRR306752_GSM752603_mdo_kd_M_1_trimmed.fq.gz</td>\n    </tr>\n    <tr>\n      <th>3</th>\n      <td>SRR306752.31741 Ibis_Run090629:7:1:369:831/1</td>\n      <td>NaN</td>\n      <td>NaN</td>\n      <td>All translations shorter than peptide k-mer si...</td>\n      <td>SRR306752_GSM752603_mdo_kd_M_1_trimmed.fq.gz</td>\n    </tr>\n    <tr>\n      <th>4</th>\n      <td>SRR306752.32553 Ibis_Run090629:7:1:378:170/1</td>\n      <td>0.1</td>\n      <td>10.0</td>\n      <td>Non-coding</td>\n      <td>SRR306752_GSM752603_mdo_kd_M_1_trimmed.fq.gz</td>\n    </tr>\n  </tbody>\n</table>\n</div>",
        "text/plain": "                                        read_id  jaccard_in_peptide_db  \\\n0  SRR306752.24755 Ibis_Run090629:7:1:286:693/1                    NaN   \n1  SRR306752.26212 Ibis_Run090629:7:1:304:224/1                    NaN   \n2  SRR306752.27035 Ibis_Run090629:7:1:313:423/1                    1.0   \n3  SRR306752.31741 Ibis_Run090629:7:1:369:831/1                    NaN   \n4  SRR306752.32553 Ibis_Run090629:7:1:378:170/1                    0.1   \n\n   n_kmers                                     classification  \\\n0      NaN  All translations shorter than peptide k-mer si...   \n1      NaN  All translations shorter than peptide k-mer si...   \n2      3.0                                             Coding   \n3      NaN  All translations shorter than peptide k-mer si...   \n4     10.0                                         Non-coding   \n\n                                       filename  \n0  SRR306752_GSM752603_mdo_kd_M_1_trimmed.fq.gz  \n1  SRR306752_GSM752603_mdo_kd_M_1_trimmed.fq.gz  \n2  SRR306752_GSM752603_mdo_kd_M_1_trimmed.fq.gz  \n3  SRR306752_GSM752603_mdo_kd_M_1_trimmed.fq.gz  \n4  SRR306752_GSM752603_mdo_kd_M_1_trimmed.fq.gz  "
       },
       "execution_count": 6,
       "metadata": {},
       "output_type": "execute_result"
      }
     ],
     "persistentId": "5df7490d-8149-4742-a2fa-28feb4a39f78",
     "text": "df = pd.read_csv('SRR306752_GSM752603_mdo_kd_M_1_trimmed__coding_scores.csv')\nprint(df.shape)\ndf.head()"
    },
    "executionTime": "2019-11-05T16:09:00.932Z"
   },
   {
    "cell": {
     "executionCount": 7,
     "executionEventId": "1ca02902-725e-42ff-89c3-4abdf113d7b2",
     "hasError": false,
     "id": "4ee688af-2fae-4b56-b6a8-e94c5aca7dd8",
     "outputs": [
      {
       "name": "stdout",
       "output_type": "stream",
       "text": "-rw-r--r-- 1 root root 474M Nov  4 19:54 SRR306752_GSM752603_mdo_kd_M_1_trimmed__coding_scores.csv\n-rw-r--r-- 1 root root 2.1G Nov  4 13:41 SRR306753_GSM752606_mdo_lv_F_1_trimmed__coding_scores.csv\n-rw-r--r-- 1 root root 1.8G Nov  4 17:59 SRR306754_GSM752608_mdo_lv_M_1_trimmed__coding_scores.csv\n-rw-r--r-- 1 root root 1.7G Nov  4 22:26 SRR306755_GSM752611_mdo_ts_M_1_trimmed__coding_scores.csv\n-rw-r--r-- 1 root root 3.7G Nov  4 15:53 SRR306756_GSM752613_mdo_ts_M_2_trimmed__coding_scores.csv\n-rw-r--r-- 1 root root 3.0G Nov  4 19:33 SRR306757_GSM752614_mmu_br_F_1_trimmed__coding_scores.csv\n-rw-r--r-- 1 olga olga 1.6G Nov  4 09:57 SRR306758_GSM752615_mmu_br_M_1_trimmed__coding_scores.csv\n-rw-r--r-- 1 olga olga 872M Nov  4 11:49 SRR306759_GSM752615_mmu_br_M_1_trimmed__coding_scores.csv\n-rw-r--r-- 1 root root 1.6G Nov  4 21:44 SRR306760_GSM752615_mmu_br_M_1_trimmed__coding_scores.csv\n-rw-r--r-- 1 root root 1.6G Nov  4 15:41 SRR306761_GSM752615_mmu_br_M_1_trimmed__coding_scores.csv\n-rw-r--r-- 1 root root 1.9G Nov  4 20:10 SRR306762_GSM752616_mmu_br_M_2_trimmed__coding_scores.csv\n-rw-r--r-- 1 root root 4.4G Nov  4 21:18 SRR306763_GSM752617_mmu_cb_F_1_trimmed__coding_scores.csv\n-rw-r--r-- 1 root root 2.0G Nov  4 17:27 SRR306764_GSM752618_mmu_cb_M_1_trimmed__coding_scores.csv\n-rw-r--r-- 1 root root 3.1G Nov  4 18:07 SRR306765_GSM752619_mmu_cb_M_2_trimmed__coding_scores.csv\n-rw-r--r-- 1 root root 4.9G Nov  4 21:50 SRR306766_GSM752620_mmu_ht_F_1_trimmed__coding_scores.csv\n-rw-r--r-- 1 root root 2.4G Nov  4 21:27 SRR306767_GSM752621_mmu_ht_M_1_trimmed__coding_scores.csv\n-rw-r--r-- 1 root root 2.8G Nov  4 14:19 SRR306768_GSM752622_mmu_ht_M_2_trimmed__coding_scores.csv\n-rw-r--r-- 1 root root 5.1G Nov  5 02:43 SRR306769_GSM752623_mmu_kd_F_1_trimmed__coding_scores.csv\n-rw-r--r-- 1 root root 2.0G Nov  4 13:32 SRR306770_GSM752624_mmu_kd_M_1_trimmed__coding_scores.csv\n-rw-r--r-- 1 root root 3.3G Nov  4 20:41 SRR306771_GSM752625_mmu_kd_M_2_trimmed__coding_scores.csv\n-rw-r--r-- 1 root root 4.8G Nov  4 19:12 SRR306772_GSM752626_mmu_lv_F_1_trimmed__coding_scores.csv\n-rw-r--r-- 1 root root 2.0G Nov  4 20:22 SRR306773_GSM752627_mmu_lv_M_1_trimmed__coding_scores.csv\n-rw-r--r-- 1 root root 3.8G Nov  4 15:30 SRR306774_GSM752628_mmu_lv_M_2_trimmed__coding_scores.csv\n-rw-r--r-- 1 root root 2.1G Nov  4 13:43 SRR306775_GSM752629_mmu_ts_M_1_trimmed__coding_scores.csv\n-rw-r--r-- 1 root root 3.4G Nov  4 21:09 SRR306776_GSM752630_mmu_ts_M_2_trimmed__coding_scores.csv\n-rw-r--r-- 1 root root 1.9G Nov  4 22:21 SRR306777_GSM752631_mml_br_F_1_trimmed__coding_scores.csv\n-rw-r--r-- 1 root root 1.3G Nov  4 18:04 SRR306778_GSM752632_mml_br_M_1_trimmed__coding_scores.csv\n-rw-r--r-- 1 root root 5.1G Nov  4 17:57 SRR306779_GSM752633_mml_br_M_2__coding_scores.csv\n-rw-r--r-- 1 root root 2.4G Nov  4 13:48 SRR306780_GSM752634_mml_cb_F_1_trimmed__coding_scores.csv\n-rw-r--r-- 1 root root 2.1G Nov  4 22:17 SRR306781_GSM752635_mml_cb_M_1_trimmed__coding_scores.csv\n-rw-r--r-- 1 root root 3.0G Nov  4 14:43 SRR306782_GSM752636_mml_ht_F_1_trimmed__coding_scores.csv\n-rw-r--r-- 1 olga olga 2.1G Nov  4 13:11 SRR306783_GSM752637_mml_ht_M_1_trimmed__coding_scores.csv\n-rw-r--r-- 1 root root 1.7G Nov  4 17:31 SRR306784_GSM752638_mml_kd_F_1_trimmed__coding_scores.csv\n-rw-r--r-- 1 olga olga 1.7G Nov  4 09:51 SRR306785_GSM752639_mml_kd_M_1_trimmed__coding_scores.csv\n-rw-r--r-- 1 root root 2.2G Nov  4 18:14 SRR306786_GSM752640_mml_lv_F_1_trimmed__coding_scores.csv\n-rw-r--r-- 1 olga olga 859M Nov  4 12:09 SRR306787_GSM752641_mml_lv_M_1_trimmed__coding_scores.csv\n-rw-r--r-- 1 root root 2.4G Nov  4 15:11 SRR306788_GSM752641_mml_lv_M_1_trimmed__coding_scores.csv\n-rw-r--r-- 1 root root 1.8G Nov  4 18:19 SRR306789_GSM752642_mml_ts_M_1_trimmed__coding_scores.csv\n-rw-r--r-- 1 root root 3.8G Nov  5 00:36 SRR306790_GSM752643_mml_ts_M_2_trimmed__coding_scores.csv\n-rw-r--r-- 1 root root 4.2G Nov  4 22:54 SRR306791_GSM752644_ppy_br_F_1_trimmed__coding_scores.csv\n-rw-r--r-- 1 root root 4.3G Nov  4 16:39 SRR306792_GSM752645_ppy_br_M_1__coding_scores.csv\n-rw-r--r-- 1 root root 2.1G Nov  4 16:02 SRR306793_GSM752646_ppy_cb_F_1_trimmed__coding_scores.csv\n-rw-r--r-- 1 root root 4.0G Nov  4 15:57 SRR306794_GSM752647_ppy_ht_F_1_trimmed__coding_scores.csv\n-rw-r--r-- 1 root root 3.7G Nov  4 15:44 SRR306795_GSM752648_ppy_ht_M_1_trimmed__coding_scores.csv\n-rw-r--r-- 1 root root 3.5G Nov  4 15:04 SRR306796_GSM752649_ppy_kd_F_1_trimmed__coding_scores.csv\n-rw-r--r-- 1 root root 3.4G Nov  4 19:30 SRR306797_GSM752650_ppy_kd_M_1_trimmed__coding_scores.csv\n-rw-r--r-- 1 root root 2.4G Nov  4 18:45 SRR306798_GSM752651_ppy_lv_F_1_trimmed__coding_scores.csv\n-rw-r--r-- 1 root root 4.1G Nov  4 20:08 SRR306799_GSM752652_ppy_lv_M_1_trimmed__coding_scores.csv\n-rw-r--r-- 1 root root 4.3G Nov  4 21:38 SRR306800_GSM752653_ggo_br_F_1_trimmed__coding_scores.csv\n-rw-r--r-- 1 root root 3.9G Nov  4 16:24 SRR306801_GSM752654_ggo_br_M_1__coding_scores.csv\n-rw-r--r-- 1 root root 3.3G Nov  4 20:04 SRR306802_GSM752655_ggo_cb_F_1_trimmed__coding_scores.csv\n-rw-r--r-- 1 root root 2.2G Nov  4 18:32 SRR306803_GSM752656_ggo_cb_M_1_trimmed__coding_scores.csv\n-rw-r--r-- 1 root root 3.3G Nov  4 15:08 SRR306804_GSM752657_ggo_ht_F_1_trimmed__coding_scores.csv\n-rw-r--r-- 1 root root 3.5G Nov  4 21:42 SRR306805_GSM752658_ggo_ht_M_1_trimmed__coding_scores.csv\n-rw-r--r-- 1 root root 2.1G Nov  4 20:56 SRR306806_GSM752659_ggo_kd_F_1_trimmed__coding_scores.csv\n-rw-r--r-- 1 root root 3.2G Nov  4 16:20 SRR306807_GSM752660_ggo_kd_M_1_trimmed__coding_scores.csv\n-rw-r--r-- 1 root root 3.6G Nov  4 15:38 SRR306808_GSM752661_ggo_lv_F_1_trimmed__coding_scores.csv\n-rw-r--r-- 1 root root 4.0G Nov  5 00:05 SRR306809_GSM752662_ggo_lv_M_1_trimmed__coding_scores.csv\n-rw-r--r-- 1 root root 2.3G Nov  4 17:24 SRR306810_GSM752663_ggo_ts_M_1_trimmed__coding_scores.csv\n-rw-r--r-- 1 root root 2.3G Nov  4 20:20 SRR306811_GSM752664_ptr_br_F_1_trimmed__coding_scores.csv\n-rw-r--r-- 1 root root 3.3G Nov  4 15:27 SRR306812_GSM752665_ptr_br_M_1__coding_scores.csv\n-rw-r--r-- 1 root root 4.9G Nov  4 17:21 SRR306813_GSM752666_ptr_br_M_2__coding_scores.csv\n-rw-r--r-- 1 root root 3.8G Nov  4 22:12 SRR306814_GSM752667_ptr_br_M_3__coding_scores.csv\n-rw-r--r-- 1 root root 5.5G Nov  5 01:02 SRR306815_GSM752668_ptr_br_M_4__coding_scores.csv\n-rw-r--r-- 1 root root 5.8G Nov  4 18:42 SRR306816_GSM752669_ptr_br_M_5__coding_scores.csv\n-rw-r--r-- 1 root root 3.9G Nov  4 22:36 SRR306817_GSM752670_ptr_cb_F_1_trimmed__coding_scores.csv\n-rw-r--r-- 1 root root 2.0G Nov  4 13:37 SRR306818_GSM752671_ptr_cb_M_1_trimmed__coding_scores.csv\n-rw-r--r-- 1 root root 3.5G Nov  4 18:03 SRR306819_GSM752672_ptr_ht_F_1_trimmed__coding_scores.csv\n-rw-r--r-- 1 root root 4.8G Nov  4 23:51 SRR306820_GSM752673_ptr_ht_M_1_trimmed__coding_scores.csv\n-rw-r--r-- 1 root root 3.0G Nov  4 22:09 SRR306821_GSM752674_ptr_kd_F_1_trimmed__coding_scores.csv\n-rw-r--r-- 1 root root 4.0G Nov  4 21:01 SRR306822_GSM752675_ptr_kd_M_1_trimmed__coding_scores.csv\n-rw-r--r-- 1 root root 3.5G Nov  4 15:34 SRR306823_GSM752676_ptr_lv_F_1_trimmed__coding_scores.csv\n-rw-r--r-- 1 root root 2.0G Nov  4 16:07 SRR306824_GSM752677_ptr_lv_M_1_trimmed__coding_scores.csv\n-rw-r--r-- 1 root root 2.7G Nov  4 17:50 SRR306825_GSM752678_ptr_ts_M_1_trimmed__coding_scores.csv\n-rw-r--r-- 1 root root 4.0G Nov  4 16:32 SRR306826_GSM752679_ppa_br_F_1__coding_scores.csv\n-rw-r--r-- 1 root root 2.9G Nov  5 00:09 SRR306827_GSM752680_ppa_br_F_2_trimmed__coding_scores.csv\n-rw-r--r-- 1 root root 4.4G Nov  4 21:57 SRR306828_GSM752681_ppa_br_M_1_trimmed__coding_scores.csv\n-rw-r--r-- 1 root root 3.4G Nov  4 22:24 SRR306829_GSM752682_ppa_cb_F_1_trimmed__coding_scores.csv\n-rw-r--r-- 1 root root 4.0G Nov  4 23:39 SRR306830_GSM752683_ppa_cb_M_1_trimmed__coding_scores.csv\n-rw-r--r-- 1 root root 3.5G Nov  4 22:01 SRR306831_GSM752684_ppa_ht_F_1_trimmed__coding_scores.csv\n-rw-r--r-- 1 root root 3.0G Nov  4 14:36 SRR306832_GSM752685_ppa_ht_M_1_trimmed__coding_scores.csv\n-rw-r--r-- 1 root root 3.6G Nov  4 22:15 SRR306833_GSM752686_ppa_kd_F_1_trimmed__coding_scores.csv\n-rw-r--r-- 1 root root 3.0G Nov  4 14:46 SRR306834_GSM752687_ppa_kd_M_1_trimmed__coding_scores.csv\n-rw-r--r-- 1 root root 3.3G Nov  4 17:47 SRR306835_GSM752688_ppa_lv_F_1_trimmed__coding_scores.csv\n-rw-r--r-- 1 olga olga 2.1G Nov  4 13:26 SRR306836_GSM752689_ppa_lv_M_1_trimmed__coding_scores.csv\n-rw-r--r-- 1 olga olga 1.9G Nov  4 13:21 SRR306837_GSM752690_ppa_ts_M_1_trimmed__coding_scores.csv\n-rw-r--r-- 1 olga olga  98M Nov  4 11:05 SRR306838_GSM752691_hsa_br_F_1_trimmed__coding_scores.csv\n-rw-r--r-- 1 root root 1.8G Nov  4 21:06 SRR306839_GSM752692_hsa_br_M_3_trimmed__coding_scores.csv\n-rw-r--r-- 1 root root 5.6G Nov  4 18:18 SRR306840_GSM752693_hsa_br_M_1__coding_scores.csv\n-rw-r--r-- 1 root root 2.2G Nov  4 15:49 SRR306841_GSM752694_hsa_br_M_2_trimmed__coding_scores.csv\n-rw-r--r-- 1 root root 3.9G Nov  4 16:00 SRR306842_GSM752695_hsa_br_M_4__coding_scores.csv\n-rw-r--r-- 1 olga olga 524M Nov  4 11:38 SRR306843_GSM752696_hsa_br_M_5_trimmed__coding_scores.csv\n-rw-r--r-- 1 root root 3.4G Nov  5 00:13 SRR306844_GSM752697_hsa_cb_F_1_trimmed__coding_scores.csv\n-rw-r--r-- 1 olga olga 894M Nov  4 13:02 SRR306845_GSM752698_hsa_cb_M_1_trimmed__coding_scores.csv\n-rw-r--r-- 1 root root 2.0G Nov  4 20:43 SRR306846_GSM752698_hsa_cb_M_1_trimmed__coding_scores.csv\n-rw-r--r-- 1 olga olga  49M Nov  3 15:19 SRR306847_GSM752699_hsa_ht_F_1_trimmed__coding_scores.csv\n-rw-r--r-- 1 root root 856M Nov  4 16:50 SRR306848_GSM752700_hsa_ht_M_1_trimmed__coding_scores.csv\n-rw-r--r-- 1 root root 1.7G Nov  4 16:05 SRR306849_GSM752700_hsa_ht_M_1_trimmed__coding_scores.csv\n-rw-r--r-- 1 root root 3.0G Nov  4 21:53 SRR306850_GSM752701_hsa_ht_M_2_trimmed__coding_scores.csv\n-rw-r--r-- 1 olga olga 141M Nov  4 11:09 SRR306851_GSM752702_hsa_kd_F_1_trimmed__coding_scores.csv\n-rw-r--r-- 1 root root 3.2G Nov  4 17:53 SRR306853_GSM752704_hsa_kd_M_2_trimmed__coding_scores.csv\n-rw-r--r-- 1 olga olga 584M Nov  4 12:11 SRR306854_GSM752705_hsa_lv_M_1_trimmed__coding_scores.csv\n-rw-r--r-- 1 root root 2.8G Nov  4 18:22 SRR306855_GSM752705_hsa_lv_M_1_trimmed__coding_scores.csv\n-rw-r--r-- 1 root root 2.7G Nov  4 23:36 SRR306856_GSM752706_hsa_lv_M_2_trimmed__coding_scores.csv\n-rw-r--r-- 1 root root 449M Nov  4 18:03 SRR306857_GSM752707_hsa_ts_M_1_trimmed__coding_scores.csv\n-rw-r--r-- 1 root root 3.7G Nov  4 20:47 SRR306858_GSM752708_hsa_ts_M_2_trimmed__coding_scores.csv\n-rw-rw-r-- 1 olga olga  13K Nov  4 13:28 test.csv\n"
      }
     ],
     "persistentId": "35248e0d-c908-4ba0-b18d-69d11c2e4169",
     "text": "ls -lha *csv"
    },
    "executionTime": "2019-11-05T16:09:01.039Z"
   },
   {
    "cell": {
     "executionCount": 1,
     "executionEventId": "2ff7f817-aeac-41b9-a523-aca377934fb3",
     "hasError": false,
     "id": "ebf44c93-6094-4cc1-9312-0cf339e812f6",
     "outputs": [],
     "persistentId": "9101ba02-87fc-4db3-be7e-3fde4f92cbc2",
     "text": "import os\nimport glob\n\nimport modin.pandas as pd\nimport seaborn as sns"
    },
    "executionTime": "2019-11-05T16:13:11.747Z"
   },
   {
    "cell": {
     "executionCount": 2,
     "executionEventId": "a2037ed6-5663-4dbf-b316-76b0f41a96ed",
     "hasError": false,
     "id": "9be10d8b-3bb8-4179-998e-3e93be874db0",
     "outputs": [
      {
       "name": "stdout",
       "output_type": "stream",
       "text": "/mnt/ibm_lg/olga/kmer-hashing/brawand2011/kmermaid/results_dayhoff11_extract_coding_jaccard_threshold05/extract_coding\n"
      }
     ],
     "persistentId": "23969cb6-1090-464a-ab9f-3bcd20e4c596",
     "text": "cd ~/data_lg/kmer-hashing/brawand2011/kmermaid/results_dayhoff11_extract_coding_jaccard_threshold05/extract_coding"
    },
    "executionTime": "2019-11-05T16:13:11.761Z"
   },
   {
    "cell": {
     "executionCount": 3,
     "executionEventId": "a80e909f-4207-4f4b-aa4e-af64e5af9355",
     "hasError": false,
     "id": "4ee688af-2fae-4b56-b6a8-e94c5aca7dd8",
     "outputs": [
      {
       "name": "stdout",
       "output_type": "stream",
       "text": "-rw-r--r-- 1 root root 474M Nov  4 19:54 SRR306752_GSM752603_mdo_kd_M_1_trimmed__coding_scores.csv\n-rw-r--r-- 1 root root 2.1G Nov  4 13:41 SRR306753_GSM752606_mdo_lv_F_1_trimmed__coding_scores.csv\n-rw-r--r-- 1 root root 1.8G Nov  4 17:59 SRR306754_GSM752608_mdo_lv_M_1_trimmed__coding_scores.csv\n-rw-r--r-- 1 root root 1.7G Nov  4 22:26 SRR306755_GSM752611_mdo_ts_M_1_trimmed__coding_scores.csv\n-rw-r--r-- 1 root root 3.7G Nov  4 15:53 SRR306756_GSM752613_mdo_ts_M_2_trimmed__coding_scores.csv\n"
      }
     ],
     "persistentId": "35248e0d-c908-4ba0-b18d-69d11c2e4169",
     "text": "ls -lha *mdo*csv"
    },
    "executionTime": "2019-11-05T16:13:16.894Z"
   },
   {
    "cell": {
     "executionCount": 4,
     "executionEventId": "d7d29877-670b-4053-bb39-ddd9610b4fa5",
     "hasError": true,
     "id": "44408e4f-b497-48fa-a4f3-f9774e9d1f77",
     "outputs": [
      {
       "ename": "RayTaskError",
       "evalue": "\u001b[36mray_worker\u001b[39m (pid=97571, host=ndnd)\n  File \"/home/olga/miniconda3/envs/kmer-hashing/lib/python3.6/site-packages/modin/engines/ray/pandas_on_ray/io.py\", line 83, in _read_csv_with_offset_pandas_on_ray\n    bio = file_open(fname, \"rb\", kwargs.pop(\"compression\", \"infer\"))\n  File \"/home/olga/miniconda3/envs/kmer-hashing/lib/python3.6/site-packages/modin/engines/ray/generic/io.py\", line 91, in file_open\n    return open(file_path, mode=mode)\nFileNotFoundError: [Errno 2] No such file or directory: 'SRR306752_GSM752603_mdo_kd_M_1_trimmed__coding_scores.csv'\n",
       "output_type": "error",
       "traceback": [
        "\u001b[0;31m---------------------------------------------------------------------------\u001b[0m",
        "\u001b[0;31mRayTaskError\u001b[0m                              Traceback (most recent call last)",
        "\u001b[0;32m<ipython-input-4-b99fdd77ce7a>\u001b[0m in \u001b[0;36m<module>\u001b[0;34m()\u001b[0m\n\u001b[0;32m----> 1\u001b[0;31m \u001b[0mdf\u001b[0m \u001b[0;34m=\u001b[0m \u001b[0mpd\u001b[0m\u001b[0;34m.\u001b[0m\u001b[0mread_csv\u001b[0m\u001b[0;34m(\u001b[0m\u001b[0;34m'SRR306752_GSM752603_mdo_kd_M_1_trimmed__coding_scores.csv'\u001b[0m\u001b[0;34m)\u001b[0m\u001b[0;34m\u001b[0m\u001b[0;34m\u001b[0m\u001b[0m\n\u001b[0m\u001b[1;32m      2\u001b[0m \u001b[0mprint\u001b[0m\u001b[0;34m(\u001b[0m\u001b[0mdf\u001b[0m\u001b[0;34m.\u001b[0m\u001b[0mshape\u001b[0m\u001b[0;34m)\u001b[0m\u001b[0;34m\u001b[0m\u001b[0;34m\u001b[0m\u001b[0m\n\u001b[1;32m      3\u001b[0m \u001b[0mdf\u001b[0m\u001b[0;34m.\u001b[0m\u001b[0mhead\u001b[0m\u001b[0;34m(\u001b[0m\u001b[0;34m)\u001b[0m\u001b[0;34m\u001b[0m\u001b[0;34m\u001b[0m\u001b[0m\n",
        "\u001b[0;32m~/miniconda3/envs/kmer-hashing/lib/python3.6/site-packages/modin/pandas/io.py\u001b[0m in \u001b[0;36mparser_func\u001b[0;34m(filepath_or_buffer, sep, delimiter, header, names, index_col, usecols, squeeze, prefix, mangle_dupe_cols, dtype, engine, converters, true_values, false_values, skipinitialspace, skiprows, nrows, na_values, keep_default_na, na_filter, verbose, skip_blank_lines, parse_dates, infer_datetime_format, keep_date_col, date_parser, dayfirst, cache_dates, iterator, chunksize, compression, thousands, decimal, lineterminator, quotechar, quoting, escapechar, comment, encoding, dialect, error_bad_lines, warn_bad_lines, skipfooter, doublequote, delim_whitespace, low_memory, memory_map, float_precision)\u001b[0m\n\u001b[1;32m     95\u001b[0m         \u001b[0;32mif\u001b[0m \u001b[0;32mnot\u001b[0m \u001b[0mkwargs\u001b[0m\u001b[0;34m.\u001b[0m\u001b[0mget\u001b[0m\u001b[0;34m(\u001b[0m\u001b[0;34m\"sep\"\u001b[0m\u001b[0;34m,\u001b[0m \u001b[0msep\u001b[0m\u001b[0;34m)\u001b[0m\u001b[0;34m:\u001b[0m\u001b[0;34m\u001b[0m\u001b[0;34m\u001b[0m\u001b[0m\n\u001b[1;32m     96\u001b[0m             \u001b[0mkwargs\u001b[0m\u001b[0;34m[\u001b[0m\u001b[0;34m\"sep\"\u001b[0m\u001b[0;34m]\u001b[0m \u001b[0;34m=\u001b[0m \u001b[0;34m\"\\t\"\u001b[0m\u001b[0;34m\u001b[0m\u001b[0;34m\u001b[0m\u001b[0m\n\u001b[0;32m---> 97\u001b[0;31m         \u001b[0;32mreturn\u001b[0m \u001b[0m_read\u001b[0m\u001b[0;34m(\u001b[0m\u001b[0;34m**\u001b[0m\u001b[0mkwargs\u001b[0m\u001b[0;34m)\u001b[0m\u001b[0;34m\u001b[0m\u001b[0;34m\u001b[0m\u001b[0m\n\u001b[0m\u001b[1;32m     98\u001b[0m \u001b[0;34m\u001b[0m\u001b[0m\n\u001b[1;32m     99\u001b[0m     \u001b[0;32mreturn\u001b[0m \u001b[0mparser_func\u001b[0m\u001b[0;34m\u001b[0m\u001b[0;34m\u001b[0m\u001b[0m\n",
        "\u001b[0;32m~/miniconda3/envs/kmer-hashing/lib/python3.6/site-packages/modin/pandas/io.py\u001b[0m in \u001b[0;36m_read\u001b[0;34m(**kwargs)\u001b[0m\n\u001b[1;32m    108\u001b[0m         \u001b[0mkwargs\u001b[0m\u001b[0;34m:\u001b[0m \u001b[0mKeyword\u001b[0m \u001b[0marguments\u001b[0m \u001b[0;32min\u001b[0m \u001b[0mpandas\u001b[0m\u001b[0;34m.\u001b[0m\u001b[0mread_csv\u001b[0m\u001b[0;34m\u001b[0m\u001b[0;34m\u001b[0m\u001b[0m\n\u001b[1;32m    109\u001b[0m     \"\"\"\n\u001b[0;32m--> 110\u001b[0;31m     \u001b[0mpd_obj\u001b[0m \u001b[0;34m=\u001b[0m \u001b[0mBaseFactory\u001b[0m\u001b[0;34m.\u001b[0m\u001b[0mread_csv\u001b[0m\u001b[0;34m(\u001b[0m\u001b[0;34m**\u001b[0m\u001b[0mkwargs\u001b[0m\u001b[0;34m)\u001b[0m\u001b[0;34m\u001b[0m\u001b[0;34m\u001b[0m\u001b[0m\n\u001b[0m\u001b[1;32m    111\u001b[0m     \u001b[0;31m# This happens when `read_csv` returns a TextFileReader object for iterating through\u001b[0m\u001b[0;34m\u001b[0m\u001b[0;34m\u001b[0m\u001b[0;34m\u001b[0m\u001b[0m\n\u001b[1;32m    112\u001b[0m     \u001b[0;32mif\u001b[0m \u001b[0misinstance\u001b[0m\u001b[0;34m(\u001b[0m\u001b[0mpd_obj\u001b[0m\u001b[0;34m,\u001b[0m \u001b[0mpandas\u001b[0m\u001b[0;34m.\u001b[0m\u001b[0mio\u001b[0m\u001b[0;34m.\u001b[0m\u001b[0mparsers\u001b[0m\u001b[0;34m.\u001b[0m\u001b[0mTextFileReader\u001b[0m\u001b[0;34m)\u001b[0m\u001b[0;34m:\u001b[0m\u001b[0;34m\u001b[0m\u001b[0;34m\u001b[0m\u001b[0m\n",
        "\u001b[0;32m~/miniconda3/envs/kmer-hashing/lib/python3.6/site-packages/modin/data_management/factories.py\u001b[0m in \u001b[0;36mread_csv\u001b[0;34m(cls, **kwargs)\u001b[0m\n\u001b[1;32m     50\u001b[0m     \u001b[0;34m@\u001b[0m\u001b[0mclassmethod\u001b[0m\u001b[0;34m\u001b[0m\u001b[0;34m\u001b[0m\u001b[0m\n\u001b[1;32m     51\u001b[0m     \u001b[0;32mdef\u001b[0m \u001b[0mread_csv\u001b[0m\u001b[0;34m(\u001b[0m\u001b[0mcls\u001b[0m\u001b[0;34m,\u001b[0m \u001b[0;34m**\u001b[0m\u001b[0mkwargs\u001b[0m\u001b[0;34m)\u001b[0m\u001b[0;34m:\u001b[0m\u001b[0;34m\u001b[0m\u001b[0;34m\u001b[0m\u001b[0m\n\u001b[0;32m---> 52\u001b[0;31m         \u001b[0;32mreturn\u001b[0m \u001b[0mcls\u001b[0m\u001b[0;34m.\u001b[0m\u001b[0m_determine_engine\u001b[0m\u001b[0;34m(\u001b[0m\u001b[0;34m)\u001b[0m\u001b[0;34m.\u001b[0m\u001b[0m_read_csv\u001b[0m\u001b[0;34m(\u001b[0m\u001b[0;34m**\u001b[0m\u001b[0mkwargs\u001b[0m\u001b[0;34m)\u001b[0m\u001b[0;34m\u001b[0m\u001b[0;34m\u001b[0m\u001b[0m\n\u001b[0m\u001b[1;32m     53\u001b[0m \u001b[0;34m\u001b[0m\u001b[0m\n\u001b[1;32m     54\u001b[0m     \u001b[0;34m@\u001b[0m\u001b[0mclassmethod\u001b[0m\u001b[0;34m\u001b[0m\u001b[0;34m\u001b[0m\u001b[0m\n",
        "\u001b[0;32m~/miniconda3/envs/kmer-hashing/lib/python3.6/site-packages/modin/data_management/factories.py\u001b[0m in \u001b[0;36m_read_csv\u001b[0;34m(cls, **kwargs)\u001b[0m\n\u001b[1;32m     54\u001b[0m     \u001b[0;34m@\u001b[0m\u001b[0mclassmethod\u001b[0m\u001b[0;34m\u001b[0m\u001b[0;34m\u001b[0m\u001b[0m\n\u001b[1;32m     55\u001b[0m     \u001b[0;32mdef\u001b[0m \u001b[0m_read_csv\u001b[0m\u001b[0;34m(\u001b[0m\u001b[0mcls\u001b[0m\u001b[0;34m,\u001b[0m \u001b[0;34m**\u001b[0m\u001b[0mkwargs\u001b[0m\u001b[0;34m)\u001b[0m\u001b[0;34m:\u001b[0m\u001b[0;34m\u001b[0m\u001b[0;34m\u001b[0m\u001b[0m\n\u001b[0;32m---> 56\u001b[0;31m         \u001b[0;32mreturn\u001b[0m \u001b[0mcls\u001b[0m\u001b[0;34m.\u001b[0m\u001b[0mio_cls\u001b[0m\u001b[0;34m.\u001b[0m\u001b[0mread_csv\u001b[0m\u001b[0;34m(\u001b[0m\u001b[0;34m**\u001b[0m\u001b[0mkwargs\u001b[0m\u001b[0;34m)\u001b[0m\u001b[0;34m\u001b[0m\u001b[0;34m\u001b[0m\u001b[0m\n\u001b[0m\u001b[1;32m     57\u001b[0m \u001b[0;34m\u001b[0m\u001b[0m\n\u001b[1;32m     58\u001b[0m     \u001b[0;34m@\u001b[0m\u001b[0mclassmethod\u001b[0m\u001b[0;34m\u001b[0m\u001b[0;34m\u001b[0m\u001b[0m\n",
        "\u001b[0;32m~/miniconda3/envs/kmer-hashing/lib/python3.6/site-packages/modin/engines/ray/generic/io.py\u001b[0m in \u001b[0;36mread_csv\u001b[0;34m(cls, filepath_or_buffer, sep, delimiter, header, names, index_col, usecols, squeeze, prefix, mangle_dupe_cols, dtype, engine, converters, true_values, false_values, skipinitialspace, skiprows, nrows, na_values, keep_default_na, na_filter, verbose, skip_blank_lines, parse_dates, infer_datetime_format, keep_date_col, date_parser, dayfirst, cache_dates, iterator, chunksize, compression, thousands, decimal, lineterminator, quotechar, quoting, escapechar, comment, encoding, dialect, error_bad_lines, warn_bad_lines, skipfooter, doublequote, delim_whitespace, low_memory, memory_map, float_precision)\u001b[0m\n\u001b[1;32m    680\u001b[0m         \u001b[0;32mif\u001b[0m \u001b[0mcls\u001b[0m\u001b[0;34m.\u001b[0m\u001b[0mread_csv_remote_task\u001b[0m \u001b[0;32mis\u001b[0m \u001b[0;32mNone\u001b[0m\u001b[0;34m:\u001b[0m\u001b[0;34m\u001b[0m\u001b[0;34m\u001b[0m\u001b[0m\n\u001b[1;32m    681\u001b[0m             \u001b[0;32mreturn\u001b[0m \u001b[0msuper\u001b[0m\u001b[0;34m(\u001b[0m\u001b[0mRayIO\u001b[0m\u001b[0;34m,\u001b[0m \u001b[0mcls\u001b[0m\u001b[0;34m)\u001b[0m\u001b[0;34m.\u001b[0m\u001b[0mread_csv\u001b[0m\u001b[0;34m(\u001b[0m\u001b[0;34m**\u001b[0m\u001b[0mkwargs\u001b[0m\u001b[0;34m)\u001b[0m\u001b[0;34m\u001b[0m\u001b[0;34m\u001b[0m\u001b[0m\n\u001b[0;32m--> 682\u001b[0;31m         \u001b[0;32mreturn\u001b[0m \u001b[0mcls\u001b[0m\u001b[0;34m.\u001b[0m\u001b[0m_read\u001b[0m\u001b[0;34m(\u001b[0m\u001b[0;34m**\u001b[0m\u001b[0mkwargs\u001b[0m\u001b[0;34m)\u001b[0m\u001b[0;34m\u001b[0m\u001b[0;34m\u001b[0m\u001b[0m\n\u001b[0m\u001b[1;32m    683\u001b[0m \u001b[0;34m\u001b[0m\u001b[0m\n\u001b[1;32m    684\u001b[0m     \u001b[0;34m@\u001b[0m\u001b[0mclassmethod\u001b[0m\u001b[0;34m\u001b[0m\u001b[0;34m\u001b[0m\u001b[0m\n",
        "\u001b[0;32m~/miniconda3/envs/kmer-hashing/lib/python3.6/site-packages/modin/engines/ray/generic/io.py\u001b[0m in \u001b[0;36m_read\u001b[0;34m(cls, filepath_or_buffer, **kwargs)\u001b[0m\n\u001b[1;32m    766\u001b[0m             \u001b[0;32mreturn\u001b[0m \u001b[0mcls\u001b[0m\u001b[0;34m.\u001b[0m\u001b[0m_read_csv_from_pandas\u001b[0m\u001b[0;34m(\u001b[0m\u001b[0mfilepath_or_buffer\u001b[0m\u001b[0;34m,\u001b[0m \u001b[0mfiltered_kwargs\u001b[0m\u001b[0;34m)\u001b[0m\u001b[0;34m\u001b[0m\u001b[0;34m\u001b[0m\u001b[0m\n\u001b[1;32m    767\u001b[0m         \u001b[0;32melse\u001b[0m\u001b[0;34m:\u001b[0m\u001b[0;34m\u001b[0m\u001b[0;34m\u001b[0m\u001b[0m\n\u001b[0;32m--> 768\u001b[0;31m             \u001b[0;32mreturn\u001b[0m \u001b[0mcls\u001b[0m\u001b[0;34m.\u001b[0m\u001b[0m_read_csv_from_file_ray\u001b[0m\u001b[0;34m(\u001b[0m\u001b[0mfilepath_or_buffer\u001b[0m\u001b[0;34m,\u001b[0m \u001b[0mfiltered_kwargs\u001b[0m\u001b[0;34m)\u001b[0m\u001b[0;34m\u001b[0m\u001b[0;34m\u001b[0m\u001b[0m\n\u001b[0m\u001b[1;32m    769\u001b[0m \u001b[0;34m\u001b[0m\u001b[0m\n\u001b[1;32m    770\u001b[0m     \u001b[0;34m@\u001b[0m\u001b[0mclassmethod\u001b[0m\u001b[0;34m\u001b[0m\u001b[0;34m\u001b[0m\u001b[0m\n",
        "\u001b[0;32m~/miniconda3/envs/kmer-hashing/lib/python3.6/site-packages/modin/engines/ray/generic/io.py\u001b[0m in \u001b[0;36m_read_csv_from_file_ray\u001b[0;34m(cls, filepath, kwargs)\u001b[0m\n\u001b[1;32m    490\u001b[0m         \u001b[0;31m# or based on the column(s) that were requested.\u001b[0m\u001b[0;34m\u001b[0m\u001b[0;34m\u001b[0m\u001b[0;34m\u001b[0m\u001b[0m\n\u001b[1;32m    491\u001b[0m         \u001b[0;32mif\u001b[0m \u001b[0mindex_col\u001b[0m \u001b[0;32mis\u001b[0m \u001b[0;32mNone\u001b[0m\u001b[0;34m:\u001b[0m\u001b[0;34m\u001b[0m\u001b[0;34m\u001b[0m\u001b[0m\n\u001b[0;32m--> 492\u001b[0;31m             \u001b[0mrow_lengths\u001b[0m \u001b[0;34m=\u001b[0m \u001b[0mray\u001b[0m\u001b[0;34m.\u001b[0m\u001b[0mget\u001b[0m\u001b[0;34m(\u001b[0m\u001b[0mindex_ids\u001b[0m\u001b[0;34m)\u001b[0m\u001b[0;34m\u001b[0m\u001b[0;34m\u001b[0m\u001b[0m\n\u001b[0m\u001b[1;32m    493\u001b[0m             \u001b[0mnew_index\u001b[0m \u001b[0;34m=\u001b[0m \u001b[0mpandas\u001b[0m\u001b[0;34m.\u001b[0m\u001b[0mRangeIndex\u001b[0m\u001b[0;34m(\u001b[0m\u001b[0msum\u001b[0m\u001b[0;34m(\u001b[0m\u001b[0mrow_lengths\u001b[0m\u001b[0;34m)\u001b[0m\u001b[0;34m)\u001b[0m\u001b[0;34m\u001b[0m\u001b[0;34m\u001b[0m\u001b[0m\n\u001b[1;32m    494\u001b[0m         \u001b[0;32melse\u001b[0m\u001b[0;34m:\u001b[0m\u001b[0;34m\u001b[0m\u001b[0;34m\u001b[0m\u001b[0m\n",
        "\u001b[0;32m~/miniconda3/envs/kmer-hashing/lib/python3.6/site-packages/ray/worker.py\u001b[0m in \u001b[0;36mget\u001b[0;34m(object_ids)\u001b[0m\n\u001b[1;32m   2245\u001b[0m             \u001b[0;32mif\u001b[0m \u001b[0misinstance\u001b[0m\u001b[0;34m(\u001b[0m\u001b[0mvalue\u001b[0m\u001b[0;34m,\u001b[0m \u001b[0mRayError\u001b[0m\u001b[0;34m)\u001b[0m\u001b[0;34m:\u001b[0m\u001b[0;34m\u001b[0m\u001b[0;34m\u001b[0m\u001b[0m\n\u001b[1;32m   2246\u001b[0m                 \u001b[0mlast_task_error_raise_time\u001b[0m \u001b[0;34m=\u001b[0m \u001b[0mtime\u001b[0m\u001b[0;34m.\u001b[0m\u001b[0mtime\u001b[0m\u001b[0;34m(\u001b[0m\u001b[0;34m)\u001b[0m\u001b[0;34m\u001b[0m\u001b[0;34m\u001b[0m\u001b[0m\n\u001b[0;32m-> 2247\u001b[0;31m                 \u001b[0;32mraise\u001b[0m \u001b[0mvalue\u001b[0m\u001b[0;34m\u001b[0m\u001b[0;34m\u001b[0m\u001b[0m\n\u001b[0m\u001b[1;32m   2248\u001b[0m \u001b[0;34m\u001b[0m\u001b[0m\n\u001b[1;32m   2249\u001b[0m         \u001b[0;31m# Run post processors.\u001b[0m\u001b[0;34m\u001b[0m\u001b[0;34m\u001b[0m\u001b[0;34m\u001b[0m\u001b[0m\n",
        "\u001b[0;31mRayTaskError\u001b[0m: \u001b[36mray_worker\u001b[39m (pid=97571, host=ndnd)\n  File \"/home/olga/miniconda3/envs/kmer-hashing/lib/python3.6/site-packages/modin/engines/ray/pandas_on_ray/io.py\", line 83, in _read_csv_with_offset_pandas_on_ray\n    bio = file_open(fname, \"rb\", kwargs.pop(\"compression\", \"infer\"))\n  File \"/home/olga/miniconda3/envs/kmer-hashing/lib/python3.6/site-packages/modin/engines/ray/generic/io.py\", line 91, in file_open\n    return open(file_path, mode=mode)\nFileNotFoundError: [Errno 2] No such file or directory: 'SRR306752_GSM752603_mdo_kd_M_1_trimmed__coding_scores.csv'\n"
       ]
      }
     ],
     "persistentId": "5df7490d-8149-4742-a2fa-28feb4a39f78",
     "text": "df = pd.read_csv('SRR306752_GSM752603_mdo_kd_M_1_trimmed__coding_scores.csv')\nprint(df.shape)\ndf.head()"
    },
    "executionTime": "2019-11-05T16:14:48.399Z"
   },
   {
    "cell": {
     "executionCount": 5,
     "executionEventId": "d07cc91b-83b4-4db9-b91f-ca379f9cdca1",
     "hasError": false,
     "id": "9094ba82-524d-4071-a1c5-3a42898716a3",
     "outputs": [
      {
       "name": "stdout",
       "output_type": "stream",
       "text": "SRR306752_GSM752603_mdo_kd_M_1_trimmed__coding_scores.csv\n"
      }
     ],
     "persistentId": "fd3fb0f0-aa33-437a-91dc-807b882e9859",
     "text": "ls SRR306752_GSM752603_mdo_kd_M_1_trimmed__coding_scores.csv"
    },
    "executionTime": "2019-11-05T16:15:15.041Z"
   },
   {
    "cell": {
     "executionCount": 6,
     "executionEventId": "70bb6912-0651-465e-934c-e9ea75f09f46",
     "hasError": false,
     "id": "9094ba82-524d-4071-a1c5-3a42898716a3",
     "outputs": [
      {
       "name": "stdout",
       "output_type": "stream",
       "text": "-rw-r--r-- 1 root root 474M Nov  4 19:54 SRR306752_GSM752603_mdo_kd_M_1_trimmed__coding_scores.csv\n"
      }
     ],
     "persistentId": "fd3fb0f0-aa33-437a-91dc-807b882e9859",
     "text": "ls -lha SRR306752_GSM752603_mdo_kd_M_1_trimmed__coding_scores.csv"
    },
    "executionTime": "2019-11-05T16:15:18.499Z"
   },
   {
    "cell": {
     "executionCount": 7,
     "executionEventId": "fff9d446-43ed-4fbf-b372-1daeca4c02cc",
     "hasError": false,
     "id": "9094ba82-524d-4071-a1c5-3a42898716a3",
     "outputs": [
      {
       "name": "stdout",
       "output_type": "stream",
       "text": "-rw-r--r-- 1 olga olga 474M Nov  4 19:54 SRR306752_GSM752603_mdo_kd_M_1_trimmed__coding_scores.csv\n"
      }
     ],
     "persistentId": "fd3fb0f0-aa33-437a-91dc-807b882e9859",
     "text": "ls -lha SRR306752_GSM752603_mdo_kd_M_1_trimmed__coding_scores.csv"
    },
    "executionTime": "2019-11-05T16:15:38.471Z"
   },
   {
    "cell": {
     "executionCount": 8,
     "executionEventId": "21278fb9-074e-4cd3-8d58-5e06568c8888",
     "hasError": false,
     "id": "4ee688af-2fae-4b56-b6a8-e94c5aca7dd8",
     "outputs": [
      {
       "name": "stdout",
       "output_type": "stream",
       "text": "-rw-r--r-- 1 olga olga 474M Nov  4 19:54 SRR306752_GSM752603_mdo_kd_M_1_trimmed__coding_scores.csv\n-rw-r--r-- 1 olga olga 2.1G Nov  4 13:41 SRR306753_GSM752606_mdo_lv_F_1_trimmed__coding_scores.csv\n-rw-r--r-- 1 olga olga 1.8G Nov  4 17:59 SRR306754_GSM752608_mdo_lv_M_1_trimmed__coding_scores.csv\n-rw-r--r-- 1 olga olga 1.7G Nov  4 22:26 SRR306755_GSM752611_mdo_ts_M_1_trimmed__coding_scores.csv\n-rw-r--r-- 1 olga olga 3.7G Nov  4 15:53 SRR306756_GSM752613_mdo_ts_M_2_trimmed__coding_scores.csv\n"
      }
     ],
     "persistentId": "35248e0d-c908-4ba0-b18d-69d11c2e4169",
     "text": "ls -lha *mdo*csv"
    },
    "executionTime": "2019-11-05T16:15:40.872Z"
   },
   {
    "cell": {
     "executionCount": 9,
     "executionEventId": "0d98d83a-10bd-4c74-9d91-efc7c0c18359",
     "hasError": true,
     "id": "44408e4f-b497-48fa-a4f3-f9774e9d1f77",
     "outputs": [
      {
       "ename": "RayTaskError",
       "evalue": "\u001b[36mray_worker\u001b[39m (pid=97565, host=ndnd)\n  File \"/home/olga/miniconda3/envs/kmer-hashing/lib/python3.6/site-packages/modin/engines/ray/pandas_on_ray/io.py\", line 83, in _read_csv_with_offset_pandas_on_ray\n    bio = file_open(fname, \"rb\", kwargs.pop(\"compression\", \"infer\"))\n  File \"/home/olga/miniconda3/envs/kmer-hashing/lib/python3.6/site-packages/modin/engines/ray/generic/io.py\", line 91, in file_open\n    return open(file_path, mode=mode)\nFileNotFoundError: [Errno 2] No such file or directory: 'SRR306752_GSM752603_mdo_kd_M_1_trimmed__coding_scores.csv'\n",
       "output_type": "error",
       "traceback": [
        "\u001b[0;31m---------------------------------------------------------------------------\u001b[0m",
        "\u001b[0;31mRayTaskError\u001b[0m                              Traceback (most recent call last)",
        "\u001b[0;32m<ipython-input-9-b99fdd77ce7a>\u001b[0m in \u001b[0;36m<module>\u001b[0;34m()\u001b[0m\n\u001b[0;32m----> 1\u001b[0;31m \u001b[0mdf\u001b[0m \u001b[0;34m=\u001b[0m \u001b[0mpd\u001b[0m\u001b[0;34m.\u001b[0m\u001b[0mread_csv\u001b[0m\u001b[0;34m(\u001b[0m\u001b[0;34m'SRR306752_GSM752603_mdo_kd_M_1_trimmed__coding_scores.csv'\u001b[0m\u001b[0;34m)\u001b[0m\u001b[0;34m\u001b[0m\u001b[0;34m\u001b[0m\u001b[0m\n\u001b[0m\u001b[1;32m      2\u001b[0m \u001b[0mprint\u001b[0m\u001b[0;34m(\u001b[0m\u001b[0mdf\u001b[0m\u001b[0;34m.\u001b[0m\u001b[0mshape\u001b[0m\u001b[0;34m)\u001b[0m\u001b[0;34m\u001b[0m\u001b[0;34m\u001b[0m\u001b[0m\n\u001b[1;32m      3\u001b[0m \u001b[0mdf\u001b[0m\u001b[0;34m.\u001b[0m\u001b[0mhead\u001b[0m\u001b[0;34m(\u001b[0m\u001b[0;34m)\u001b[0m\u001b[0;34m\u001b[0m\u001b[0;34m\u001b[0m\u001b[0m\n",
        "\u001b[0;32m~/miniconda3/envs/kmer-hashing/lib/python3.6/site-packages/modin/pandas/io.py\u001b[0m in \u001b[0;36mparser_func\u001b[0;34m(filepath_or_buffer, sep, delimiter, header, names, index_col, usecols, squeeze, prefix, mangle_dupe_cols, dtype, engine, converters, true_values, false_values, skipinitialspace, skiprows, nrows, na_values, keep_default_na, na_filter, verbose, skip_blank_lines, parse_dates, infer_datetime_format, keep_date_col, date_parser, dayfirst, cache_dates, iterator, chunksize, compression, thousands, decimal, lineterminator, quotechar, quoting, escapechar, comment, encoding, dialect, error_bad_lines, warn_bad_lines, skipfooter, doublequote, delim_whitespace, low_memory, memory_map, float_precision)\u001b[0m\n\u001b[1;32m     95\u001b[0m         \u001b[0;32mif\u001b[0m \u001b[0;32mnot\u001b[0m \u001b[0mkwargs\u001b[0m\u001b[0;34m.\u001b[0m\u001b[0mget\u001b[0m\u001b[0;34m(\u001b[0m\u001b[0;34m\"sep\"\u001b[0m\u001b[0;34m,\u001b[0m \u001b[0msep\u001b[0m\u001b[0;34m)\u001b[0m\u001b[0;34m:\u001b[0m\u001b[0;34m\u001b[0m\u001b[0;34m\u001b[0m\u001b[0m\n\u001b[1;32m     96\u001b[0m             \u001b[0mkwargs\u001b[0m\u001b[0;34m[\u001b[0m\u001b[0;34m\"sep\"\u001b[0m\u001b[0;34m]\u001b[0m \u001b[0;34m=\u001b[0m \u001b[0;34m\"\\t\"\u001b[0m\u001b[0;34m\u001b[0m\u001b[0;34m\u001b[0m\u001b[0m\n\u001b[0;32m---> 97\u001b[0;31m         \u001b[0;32mreturn\u001b[0m \u001b[0m_read\u001b[0m\u001b[0;34m(\u001b[0m\u001b[0;34m**\u001b[0m\u001b[0mkwargs\u001b[0m\u001b[0;34m)\u001b[0m\u001b[0;34m\u001b[0m\u001b[0;34m\u001b[0m\u001b[0m\n\u001b[0m\u001b[1;32m     98\u001b[0m \u001b[0;34m\u001b[0m\u001b[0m\n\u001b[1;32m     99\u001b[0m     \u001b[0;32mreturn\u001b[0m \u001b[0mparser_func\u001b[0m\u001b[0;34m\u001b[0m\u001b[0;34m\u001b[0m\u001b[0m\n",
        "\u001b[0;32m~/miniconda3/envs/kmer-hashing/lib/python3.6/site-packages/modin/pandas/io.py\u001b[0m in \u001b[0;36m_read\u001b[0;34m(**kwargs)\u001b[0m\n\u001b[1;32m    108\u001b[0m         \u001b[0mkwargs\u001b[0m\u001b[0;34m:\u001b[0m \u001b[0mKeyword\u001b[0m \u001b[0marguments\u001b[0m \u001b[0;32min\u001b[0m \u001b[0mpandas\u001b[0m\u001b[0;34m.\u001b[0m\u001b[0mread_csv\u001b[0m\u001b[0;34m\u001b[0m\u001b[0;34m\u001b[0m\u001b[0m\n\u001b[1;32m    109\u001b[0m     \"\"\"\n\u001b[0;32m--> 110\u001b[0;31m     \u001b[0mpd_obj\u001b[0m \u001b[0;34m=\u001b[0m \u001b[0mBaseFactory\u001b[0m\u001b[0;34m.\u001b[0m\u001b[0mread_csv\u001b[0m\u001b[0;34m(\u001b[0m\u001b[0;34m**\u001b[0m\u001b[0mkwargs\u001b[0m\u001b[0;34m)\u001b[0m\u001b[0;34m\u001b[0m\u001b[0;34m\u001b[0m\u001b[0m\n\u001b[0m\u001b[1;32m    111\u001b[0m     \u001b[0;31m# This happens when `read_csv` returns a TextFileReader object for iterating through\u001b[0m\u001b[0;34m\u001b[0m\u001b[0;34m\u001b[0m\u001b[0;34m\u001b[0m\u001b[0m\n\u001b[1;32m    112\u001b[0m     \u001b[0;32mif\u001b[0m \u001b[0misinstance\u001b[0m\u001b[0;34m(\u001b[0m\u001b[0mpd_obj\u001b[0m\u001b[0;34m,\u001b[0m \u001b[0mpandas\u001b[0m\u001b[0;34m.\u001b[0m\u001b[0mio\u001b[0m\u001b[0;34m.\u001b[0m\u001b[0mparsers\u001b[0m\u001b[0;34m.\u001b[0m\u001b[0mTextFileReader\u001b[0m\u001b[0;34m)\u001b[0m\u001b[0;34m:\u001b[0m\u001b[0;34m\u001b[0m\u001b[0;34m\u001b[0m\u001b[0m\n",
        "\u001b[0;32m~/miniconda3/envs/kmer-hashing/lib/python3.6/site-packages/modin/data_management/factories.py\u001b[0m in \u001b[0;36mread_csv\u001b[0;34m(cls, **kwargs)\u001b[0m\n\u001b[1;32m     50\u001b[0m     \u001b[0;34m@\u001b[0m\u001b[0mclassmethod\u001b[0m\u001b[0;34m\u001b[0m\u001b[0;34m\u001b[0m\u001b[0m\n\u001b[1;32m     51\u001b[0m     \u001b[0;32mdef\u001b[0m \u001b[0mread_csv\u001b[0m\u001b[0;34m(\u001b[0m\u001b[0mcls\u001b[0m\u001b[0;34m,\u001b[0m \u001b[0;34m**\u001b[0m\u001b[0mkwargs\u001b[0m\u001b[0;34m)\u001b[0m\u001b[0;34m:\u001b[0m\u001b[0;34m\u001b[0m\u001b[0;34m\u001b[0m\u001b[0m\n\u001b[0;32m---> 52\u001b[0;31m         \u001b[0;32mreturn\u001b[0m \u001b[0mcls\u001b[0m\u001b[0;34m.\u001b[0m\u001b[0m_determine_engine\u001b[0m\u001b[0;34m(\u001b[0m\u001b[0;34m)\u001b[0m\u001b[0;34m.\u001b[0m\u001b[0m_read_csv\u001b[0m\u001b[0;34m(\u001b[0m\u001b[0;34m**\u001b[0m\u001b[0mkwargs\u001b[0m\u001b[0;34m)\u001b[0m\u001b[0;34m\u001b[0m\u001b[0;34m\u001b[0m\u001b[0m\n\u001b[0m\u001b[1;32m     53\u001b[0m \u001b[0;34m\u001b[0m\u001b[0m\n\u001b[1;32m     54\u001b[0m     \u001b[0;34m@\u001b[0m\u001b[0mclassmethod\u001b[0m\u001b[0;34m\u001b[0m\u001b[0;34m\u001b[0m\u001b[0m\n",
        "\u001b[0;32m~/miniconda3/envs/kmer-hashing/lib/python3.6/site-packages/modin/data_management/factories.py\u001b[0m in \u001b[0;36m_read_csv\u001b[0;34m(cls, **kwargs)\u001b[0m\n\u001b[1;32m     54\u001b[0m     \u001b[0;34m@\u001b[0m\u001b[0mclassmethod\u001b[0m\u001b[0;34m\u001b[0m\u001b[0;34m\u001b[0m\u001b[0m\n\u001b[1;32m     55\u001b[0m     \u001b[0;32mdef\u001b[0m \u001b[0m_read_csv\u001b[0m\u001b[0;34m(\u001b[0m\u001b[0mcls\u001b[0m\u001b[0;34m,\u001b[0m \u001b[0;34m**\u001b[0m\u001b[0mkwargs\u001b[0m\u001b[0;34m)\u001b[0m\u001b[0;34m:\u001b[0m\u001b[0;34m\u001b[0m\u001b[0;34m\u001b[0m\u001b[0m\n\u001b[0;32m---> 56\u001b[0;31m         \u001b[0;32mreturn\u001b[0m \u001b[0mcls\u001b[0m\u001b[0;34m.\u001b[0m\u001b[0mio_cls\u001b[0m\u001b[0;34m.\u001b[0m\u001b[0mread_csv\u001b[0m\u001b[0;34m(\u001b[0m\u001b[0;34m**\u001b[0m\u001b[0mkwargs\u001b[0m\u001b[0;34m)\u001b[0m\u001b[0;34m\u001b[0m\u001b[0;34m\u001b[0m\u001b[0m\n\u001b[0m\u001b[1;32m     57\u001b[0m \u001b[0;34m\u001b[0m\u001b[0m\n\u001b[1;32m     58\u001b[0m     \u001b[0;34m@\u001b[0m\u001b[0mclassmethod\u001b[0m\u001b[0;34m\u001b[0m\u001b[0;34m\u001b[0m\u001b[0m\n",
        "\u001b[0;32m~/miniconda3/envs/kmer-hashing/lib/python3.6/site-packages/modin/engines/ray/generic/io.py\u001b[0m in \u001b[0;36mread_csv\u001b[0;34m(cls, filepath_or_buffer, sep, delimiter, header, names, index_col, usecols, squeeze, prefix, mangle_dupe_cols, dtype, engine, converters, true_values, false_values, skipinitialspace, skiprows, nrows, na_values, keep_default_na, na_filter, verbose, skip_blank_lines, parse_dates, infer_datetime_format, keep_date_col, date_parser, dayfirst, cache_dates, iterator, chunksize, compression, thousands, decimal, lineterminator, quotechar, quoting, escapechar, comment, encoding, dialect, error_bad_lines, warn_bad_lines, skipfooter, doublequote, delim_whitespace, low_memory, memory_map, float_precision)\u001b[0m\n\u001b[1;32m    680\u001b[0m         \u001b[0;32mif\u001b[0m \u001b[0mcls\u001b[0m\u001b[0;34m.\u001b[0m\u001b[0mread_csv_remote_task\u001b[0m \u001b[0;32mis\u001b[0m \u001b[0;32mNone\u001b[0m\u001b[0;34m:\u001b[0m\u001b[0;34m\u001b[0m\u001b[0;34m\u001b[0m\u001b[0m\n\u001b[1;32m    681\u001b[0m             \u001b[0;32mreturn\u001b[0m \u001b[0msuper\u001b[0m\u001b[0;34m(\u001b[0m\u001b[0mRayIO\u001b[0m\u001b[0;34m,\u001b[0m \u001b[0mcls\u001b[0m\u001b[0;34m)\u001b[0m\u001b[0;34m.\u001b[0m\u001b[0mread_csv\u001b[0m\u001b[0;34m(\u001b[0m\u001b[0;34m**\u001b[0m\u001b[0mkwargs\u001b[0m\u001b[0;34m)\u001b[0m\u001b[0;34m\u001b[0m\u001b[0;34m\u001b[0m\u001b[0m\n\u001b[0;32m--> 682\u001b[0;31m         \u001b[0;32mreturn\u001b[0m \u001b[0mcls\u001b[0m\u001b[0;34m.\u001b[0m\u001b[0m_read\u001b[0m\u001b[0;34m(\u001b[0m\u001b[0;34m**\u001b[0m\u001b[0mkwargs\u001b[0m\u001b[0;34m)\u001b[0m\u001b[0;34m\u001b[0m\u001b[0;34m\u001b[0m\u001b[0m\n\u001b[0m\u001b[1;32m    683\u001b[0m \u001b[0;34m\u001b[0m\u001b[0m\n\u001b[1;32m    684\u001b[0m     \u001b[0;34m@\u001b[0m\u001b[0mclassmethod\u001b[0m\u001b[0;34m\u001b[0m\u001b[0;34m\u001b[0m\u001b[0m\n",
        "\u001b[0;32m~/miniconda3/envs/kmer-hashing/lib/python3.6/site-packages/modin/engines/ray/generic/io.py\u001b[0m in \u001b[0;36m_read\u001b[0;34m(cls, filepath_or_buffer, **kwargs)\u001b[0m\n\u001b[1;32m    766\u001b[0m             \u001b[0;32mreturn\u001b[0m \u001b[0mcls\u001b[0m\u001b[0;34m.\u001b[0m\u001b[0m_read_csv_from_pandas\u001b[0m\u001b[0;34m(\u001b[0m\u001b[0mfilepath_or_buffer\u001b[0m\u001b[0;34m,\u001b[0m \u001b[0mfiltered_kwargs\u001b[0m\u001b[0;34m)\u001b[0m\u001b[0;34m\u001b[0m\u001b[0;34m\u001b[0m\u001b[0m\n\u001b[1;32m    767\u001b[0m         \u001b[0;32melse\u001b[0m\u001b[0;34m:\u001b[0m\u001b[0;34m\u001b[0m\u001b[0;34m\u001b[0m\u001b[0m\n\u001b[0;32m--> 768\u001b[0;31m             \u001b[0;32mreturn\u001b[0m \u001b[0mcls\u001b[0m\u001b[0;34m.\u001b[0m\u001b[0m_read_csv_from_file_ray\u001b[0m\u001b[0;34m(\u001b[0m\u001b[0mfilepath_or_buffer\u001b[0m\u001b[0;34m,\u001b[0m \u001b[0mfiltered_kwargs\u001b[0m\u001b[0;34m)\u001b[0m\u001b[0;34m\u001b[0m\u001b[0;34m\u001b[0m\u001b[0m\n\u001b[0m\u001b[1;32m    769\u001b[0m \u001b[0;34m\u001b[0m\u001b[0m\n\u001b[1;32m    770\u001b[0m     \u001b[0;34m@\u001b[0m\u001b[0mclassmethod\u001b[0m\u001b[0;34m\u001b[0m\u001b[0;34m\u001b[0m\u001b[0m\n",
        "\u001b[0;32m~/miniconda3/envs/kmer-hashing/lib/python3.6/site-packages/modin/engines/ray/generic/io.py\u001b[0m in \u001b[0;36m_read_csv_from_file_ray\u001b[0;34m(cls, filepath, kwargs)\u001b[0m\n\u001b[1;32m    490\u001b[0m         \u001b[0;31m# or based on the column(s) that were requested.\u001b[0m\u001b[0;34m\u001b[0m\u001b[0;34m\u001b[0m\u001b[0;34m\u001b[0m\u001b[0m\n\u001b[1;32m    491\u001b[0m         \u001b[0;32mif\u001b[0m \u001b[0mindex_col\u001b[0m \u001b[0;32mis\u001b[0m \u001b[0;32mNone\u001b[0m\u001b[0;34m:\u001b[0m\u001b[0;34m\u001b[0m\u001b[0;34m\u001b[0m\u001b[0m\n\u001b[0;32m--> 492\u001b[0;31m             \u001b[0mrow_lengths\u001b[0m \u001b[0;34m=\u001b[0m \u001b[0mray\u001b[0m\u001b[0;34m.\u001b[0m\u001b[0mget\u001b[0m\u001b[0;34m(\u001b[0m\u001b[0mindex_ids\u001b[0m\u001b[0;34m)\u001b[0m\u001b[0;34m\u001b[0m\u001b[0;34m\u001b[0m\u001b[0m\n\u001b[0m\u001b[1;32m    493\u001b[0m             \u001b[0mnew_index\u001b[0m \u001b[0;34m=\u001b[0m \u001b[0mpandas\u001b[0m\u001b[0;34m.\u001b[0m\u001b[0mRangeIndex\u001b[0m\u001b[0;34m(\u001b[0m\u001b[0msum\u001b[0m\u001b[0;34m(\u001b[0m\u001b[0mrow_lengths\u001b[0m\u001b[0;34m)\u001b[0m\u001b[0;34m)\u001b[0m\u001b[0;34m\u001b[0m\u001b[0;34m\u001b[0m\u001b[0m\n\u001b[1;32m    494\u001b[0m         \u001b[0;32melse\u001b[0m\u001b[0;34m:\u001b[0m\u001b[0;34m\u001b[0m\u001b[0;34m\u001b[0m\u001b[0m\n",
        "\u001b[0;32m~/miniconda3/envs/kmer-hashing/lib/python3.6/site-packages/ray/worker.py\u001b[0m in \u001b[0;36mget\u001b[0;34m(object_ids)\u001b[0m\n\u001b[1;32m   2245\u001b[0m             \u001b[0;32mif\u001b[0m \u001b[0misinstance\u001b[0m\u001b[0;34m(\u001b[0m\u001b[0mvalue\u001b[0m\u001b[0;34m,\u001b[0m \u001b[0mRayError\u001b[0m\u001b[0;34m)\u001b[0m\u001b[0;34m:\u001b[0m\u001b[0;34m\u001b[0m\u001b[0;34m\u001b[0m\u001b[0m\n\u001b[1;32m   2246\u001b[0m                 \u001b[0mlast_task_error_raise_time\u001b[0m \u001b[0;34m=\u001b[0m \u001b[0mtime\u001b[0m\u001b[0;34m.\u001b[0m\u001b[0mtime\u001b[0m\u001b[0;34m(\u001b[0m\u001b[0;34m)\u001b[0m\u001b[0;34m\u001b[0m\u001b[0;34m\u001b[0m\u001b[0m\n\u001b[0;32m-> 2247\u001b[0;31m                 \u001b[0;32mraise\u001b[0m \u001b[0mvalue\u001b[0m\u001b[0;34m\u001b[0m\u001b[0;34m\u001b[0m\u001b[0m\n\u001b[0m\u001b[1;32m   2248\u001b[0m \u001b[0;34m\u001b[0m\u001b[0m\n\u001b[1;32m   2249\u001b[0m         \u001b[0;31m# Run post processors.\u001b[0m\u001b[0;34m\u001b[0m\u001b[0;34m\u001b[0m\u001b[0;34m\u001b[0m\u001b[0m\n",
        "\u001b[0;31mRayTaskError\u001b[0m: \u001b[36mray_worker\u001b[39m (pid=97565, host=ndnd)\n  File \"/home/olga/miniconda3/envs/kmer-hashing/lib/python3.6/site-packages/modin/engines/ray/pandas_on_ray/io.py\", line 83, in _read_csv_with_offset_pandas_on_ray\n    bio = file_open(fname, \"rb\", kwargs.pop(\"compression\", \"infer\"))\n  File \"/home/olga/miniconda3/envs/kmer-hashing/lib/python3.6/site-packages/modin/engines/ray/generic/io.py\", line 91, in file_open\n    return open(file_path, mode=mode)\nFileNotFoundError: [Errno 2] No such file or directory: 'SRR306752_GSM752603_mdo_kd_M_1_trimmed__coding_scores.csv'\n"
       ]
      }
     ],
     "persistentId": "5df7490d-8149-4742-a2fa-28feb4a39f78",
     "text": "df = pd.read_csv('SRR306752_GSM752603_mdo_kd_M_1_trimmed__coding_scores.csv')\nprint(df.shape)\ndf.head()"
    },
    "executionTime": "2019-11-05T16:15:42.611Z"
   },
   {
    "cell": {
     "executionCount": 10,
     "executionEventId": "9645663c-ce8e-4604-a91c-f6a4f7986521",
     "hasError": true,
     "id": "ebf44c93-6094-4cc1-9312-0cf339e812f6",
     "outputs": [
      {
       "name": "stderr",
       "output_type": "stream",
       "text": "2019-11-05 08:18:02,918\tWARNING worker.py:1373 -- WARNING: Not updating worker name since `setproctitle` is not installed. Install this with `pip install setproctitle` (or ray[debug]) to enable monitoring of worker processes.\n"
      },
      {
       "ename": "Exception",
       "evalue": "Perhaps you called ray.init twice by accident? This error can be suppressed by passing in 'ignore_reinit_error=True' or by calling 'ray.shutdown()' prior to 'ray.init()'.",
       "output_type": "error",
       "traceback": [
        "\u001b[0;31m---------------------------------------------------------------------------\u001b[0m",
        "\u001b[0;31mException\u001b[0m                                 Traceback (most recent call last)",
        "\u001b[0;32m<ipython-input-10-3809ae46892f>\u001b[0m in \u001b[0;36m<module>\u001b[0;34m()\u001b[0m\n\u001b[1;32m      5\u001b[0m \u001b[0;32mimport\u001b[0m \u001b[0mray\u001b[0m\u001b[0;34m\u001b[0m\u001b[0;34m\u001b[0m\u001b[0m\n\u001b[1;32m      6\u001b[0m \u001b[0;31m# use fewer CPUs so the OS doesn't run out of processes\u001b[0m\u001b[0;34m\u001b[0m\u001b[0;34m\u001b[0m\u001b[0;34m\u001b[0m\u001b[0m\n\u001b[0;32m----> 7\u001b[0;31m \u001b[0mray\u001b[0m\u001b[0;34m.\u001b[0m\u001b[0minit\u001b[0m\u001b[0;34m(\u001b[0m\u001b[0mnum_cpus\u001b[0m\u001b[0;34m=\u001b[0m\u001b[0;36m16\u001b[0m\u001b[0;34m)\u001b[0m\u001b[0;34m\u001b[0m\u001b[0;34m\u001b[0m\u001b[0m\n\u001b[0m\u001b[1;32m      8\u001b[0m \u001b[0;32mimport\u001b[0m \u001b[0mmodin\u001b[0m\u001b[0;34m.\u001b[0m\u001b[0mpandas\u001b[0m \u001b[0;32mas\u001b[0m \u001b[0mpd\u001b[0m\u001b[0;34m\u001b[0m\u001b[0;34m\u001b[0m\u001b[0m\n\u001b[1;32m      9\u001b[0m \u001b[0;32mimport\u001b[0m \u001b[0mseaborn\u001b[0m \u001b[0;32mas\u001b[0m \u001b[0msns\u001b[0m\u001b[0;34m\u001b[0m\u001b[0;34m\u001b[0m\u001b[0m\n",
        "\u001b[0;32m~/miniconda3/envs/kmer-hashing/lib/python3.6/site-packages/ray/worker.py\u001b[0m in \u001b[0;36minit\u001b[0;34m(redis_address, num_cpus, num_gpus, resources, object_store_memory, redis_max_memory, log_to_driver, node_ip_address, object_id_seed, local_mode, redirect_worker_output, redirect_output, ignore_reinit_error, num_redis_shards, redis_max_clients, redis_password, plasma_directory, huge_pages, include_webui, job_id, configure_logging, logging_level, logging_format, plasma_store_socket_name, raylet_socket_name, temp_dir, load_code_from_local, _internal_config)\u001b[0m\n\u001b[1;32m   1381\u001b[0m             \u001b[0;32mreturn\u001b[0m\u001b[0;34m\u001b[0m\u001b[0;34m\u001b[0m\u001b[0m\n\u001b[1;32m   1382\u001b[0m         \u001b[0;32melse\u001b[0m\u001b[0;34m:\u001b[0m\u001b[0;34m\u001b[0m\u001b[0;34m\u001b[0m\u001b[0m\n\u001b[0;32m-> 1383\u001b[0;31m             raise Exception(\"Perhaps you called ray.init twice by accident? \"\n\u001b[0m\u001b[1;32m   1384\u001b[0m                             \u001b[0;34m\"This error can be suppressed by passing in \"\u001b[0m\u001b[0;34m\u001b[0m\u001b[0;34m\u001b[0m\u001b[0m\n\u001b[1;32m   1385\u001b[0m                             \u001b[0;34m\"'ignore_reinit_error=True' or by calling \"\u001b[0m\u001b[0;34m\u001b[0m\u001b[0;34m\u001b[0m\u001b[0m\n",
        "\u001b[0;31mException\u001b[0m: Perhaps you called ray.init twice by accident? This error can be suppressed by passing in 'ignore_reinit_error=True' or by calling 'ray.shutdown()' prior to 'ray.init()'."
       ]
      }
     ],
     "persistentId": "9101ba02-87fc-4db3-be7e-3fde4f92cbc2",
     "text": "import os\nimport glob\n\n\nimport ray\n# use fewer CPUs so the OS doesn't run out of processes\nray.init(num_cpus=16)\nimport modin.pandas as pd\nimport seaborn as sns"
    },
    "executionTime": "2019-11-05T16:18:01.946Z"
   },
   {
    "cell": {
     "executionCount": 1,
     "executionEventId": "fbf0b07a-3eba-4a88-97a9-5c0648003540",
     "hasError": false,
     "id": "ebf44c93-6094-4cc1-9312-0cf339e812f6",
     "outputs": [
      {
       "name": "stderr",
       "output_type": "stream",
       "text": "2019-11-05 08:18:08,005\tWARNING worker.py:1373 -- WARNING: Not updating worker name since `setproctitle` is not installed. Install this with `pip install setproctitle` (or ray[debug]) to enable monitoring of worker processes.\n2019-11-05 08:18:08,008\tINFO node.py:498 -- Process STDOUT and STDERR is being redirected to /tmp/ray/session_2019-11-05_08-18-08_006962_98660/logs.\n2019-11-05 08:18:08,120\tINFO services.py:409 -- Waiting for redis server at 127.0.0.1:39230 to respond...\n2019-11-05 08:18:08,247\tINFO services.py:409 -- Waiting for redis server at 127.0.0.1:17442 to respond...\n2019-11-05 08:18:08,252\tINFO services.py:809 -- Starting Redis shard with 10.0 GB max memory.\n2019-11-05 08:18:08,286\tINFO node.py:512 -- Process STDOUT and STDERR is being redirected to /tmp/ray/session_2019-11-05_08-18-08_006962_98660/logs.\n2019-11-05 08:18:08,291\tWARNING services.py:1301 -- Warning: Capping object memory store to 20.0GB. To increase this further, specify `object_store_memory` when calling ray.init() or ray start.\n2019-11-05 08:18:08,293\tINFO services.py:1475 -- Starting the Plasma object store with 20.0 GB memory using /dev/shm.\n"
      }
     ],
     "persistentId": "9101ba02-87fc-4db3-be7e-3fde4f92cbc2",
     "text": "import os\nimport glob\n\n\nimport ray\n# use fewer CPUs so the OS doesn't run out of processes\nray.init(num_cpus=16)\nimport modin.pandas as pd\nimport seaborn as sns"
    },
    "executionTime": "2019-11-05T16:18:08.624Z"
   },
   {
    "cell": {
     "executionCount": 2,
     "executionEventId": "0f6bc76e-8013-4bae-b855-170d4765f7a9",
     "hasError": false,
     "id": "9be10d8b-3bb8-4179-998e-3e93be874db0",
     "outputs": [
      {
       "name": "stdout",
       "output_type": "stream",
       "text": "/mnt/ibm_lg/olga/kmer-hashing/brawand2011/kmermaid/results_dayhoff11_extract_coding_jaccard_threshold05/extract_coding\n"
      }
     ],
     "persistentId": "23969cb6-1090-464a-ab9f-3bcd20e4c596",
     "text": "cd ~/data_lg/kmer-hashing/brawand2011/kmermaid/results_dayhoff11_extract_coding_jaccard_threshold05/extract_coding"
    },
    "executionTime": "2019-11-05T16:18:08.632Z"
   },
   {
    "cell": {
     "executionCount": 3,
     "executionEventId": "edb8b52d-d5b4-4b88-9efe-29faf3cc2d11",
     "hasError": false,
     "id": "4ee688af-2fae-4b56-b6a8-e94c5aca7dd8",
     "outputs": [
      {
       "name": "stdout",
       "output_type": "stream",
       "text": "-rw-r--r-- 1 olga olga 474M Nov  4 19:54 SRR306752_GSM752603_mdo_kd_M_1_trimmed__coding_scores.csv\n-rw-r--r-- 1 olga olga 2.1G Nov  4 13:41 SRR306753_GSM752606_mdo_lv_F_1_trimmed__coding_scores.csv\n-rw-r--r-- 1 olga olga 1.8G Nov  4 17:59 SRR306754_GSM752608_mdo_lv_M_1_trimmed__coding_scores.csv\n-rw-r--r-- 1 olga olga 1.7G Nov  4 22:26 SRR306755_GSM752611_mdo_ts_M_1_trimmed__coding_scores.csv\n-rw-r--r-- 1 olga olga 3.7G Nov  4 15:53 SRR306756_GSM752613_mdo_ts_M_2_trimmed__coding_scores.csv\n"
      }
     ],
     "persistentId": "35248e0d-c908-4ba0-b18d-69d11c2e4169",
     "text": "ls -lha *mdo*csv"
    },
    "executionTime": "2019-11-05T16:18:08.838Z"
   },
   {
    "cell": {
     "executionCount": 4,
     "executionEventId": "69016fa6-5398-4af7-904f-7d32ffc55fcb",
     "hasError": true,
     "id": "44408e4f-b497-48fa-a4f3-f9774e9d1f77",
     "outputs": [
      {
       "ename": "RayTaskError",
       "evalue": "\u001b[36mray_worker\u001b[39m (pid=98844, host=ndnd)\n  File \"/home/olga/miniconda3/envs/kmer-hashing/lib/python3.6/site-packages/modin/engines/ray/pandas_on_ray/io.py\", line 83, in _read_csv_with_offset_pandas_on_ray\n    bio = file_open(fname, \"rb\", kwargs.pop(\"compression\", \"infer\"))\n  File \"/home/olga/miniconda3/envs/kmer-hashing/lib/python3.6/site-packages/modin/engines/ray/generic/io.py\", line 91, in file_open\n    return open(file_path, mode=mode)\nFileNotFoundError: [Errno 2] No such file or directory: 'SRR306752_GSM752603_mdo_kd_M_1_trimmed__coding_scores.csv'\n",
       "output_type": "error",
       "traceback": [
        "\u001b[0;31m---------------------------------------------------------------------------\u001b[0m",
        "\u001b[0;31mRayTaskError\u001b[0m                              Traceback (most recent call last)",
        "\u001b[0;32m<ipython-input-4-b99fdd77ce7a>\u001b[0m in \u001b[0;36m<module>\u001b[0;34m()\u001b[0m\n\u001b[0;32m----> 1\u001b[0;31m \u001b[0mdf\u001b[0m \u001b[0;34m=\u001b[0m \u001b[0mpd\u001b[0m\u001b[0;34m.\u001b[0m\u001b[0mread_csv\u001b[0m\u001b[0;34m(\u001b[0m\u001b[0;34m'SRR306752_GSM752603_mdo_kd_M_1_trimmed__coding_scores.csv'\u001b[0m\u001b[0;34m)\u001b[0m\u001b[0;34m\u001b[0m\u001b[0;34m\u001b[0m\u001b[0m\n\u001b[0m\u001b[1;32m      2\u001b[0m \u001b[0mprint\u001b[0m\u001b[0;34m(\u001b[0m\u001b[0mdf\u001b[0m\u001b[0;34m.\u001b[0m\u001b[0mshape\u001b[0m\u001b[0;34m)\u001b[0m\u001b[0;34m\u001b[0m\u001b[0;34m\u001b[0m\u001b[0m\n\u001b[1;32m      3\u001b[0m \u001b[0mdf\u001b[0m\u001b[0;34m.\u001b[0m\u001b[0mhead\u001b[0m\u001b[0;34m(\u001b[0m\u001b[0;34m)\u001b[0m\u001b[0;34m\u001b[0m\u001b[0;34m\u001b[0m\u001b[0m\n",
        "\u001b[0;32m~/miniconda3/envs/kmer-hashing/lib/python3.6/site-packages/modin/pandas/io.py\u001b[0m in \u001b[0;36mparser_func\u001b[0;34m(filepath_or_buffer, sep, delimiter, header, names, index_col, usecols, squeeze, prefix, mangle_dupe_cols, dtype, engine, converters, true_values, false_values, skipinitialspace, skiprows, nrows, na_values, keep_default_na, na_filter, verbose, skip_blank_lines, parse_dates, infer_datetime_format, keep_date_col, date_parser, dayfirst, cache_dates, iterator, chunksize, compression, thousands, decimal, lineterminator, quotechar, quoting, escapechar, comment, encoding, dialect, error_bad_lines, warn_bad_lines, skipfooter, doublequote, delim_whitespace, low_memory, memory_map, float_precision)\u001b[0m\n\u001b[1;32m     95\u001b[0m         \u001b[0;32mif\u001b[0m \u001b[0;32mnot\u001b[0m \u001b[0mkwargs\u001b[0m\u001b[0;34m.\u001b[0m\u001b[0mget\u001b[0m\u001b[0;34m(\u001b[0m\u001b[0;34m\"sep\"\u001b[0m\u001b[0;34m,\u001b[0m \u001b[0msep\u001b[0m\u001b[0;34m)\u001b[0m\u001b[0;34m:\u001b[0m\u001b[0;34m\u001b[0m\u001b[0;34m\u001b[0m\u001b[0m\n\u001b[1;32m     96\u001b[0m             \u001b[0mkwargs\u001b[0m\u001b[0;34m[\u001b[0m\u001b[0;34m\"sep\"\u001b[0m\u001b[0;34m]\u001b[0m \u001b[0;34m=\u001b[0m \u001b[0;34m\"\\t\"\u001b[0m\u001b[0;34m\u001b[0m\u001b[0;34m\u001b[0m\u001b[0m\n\u001b[0;32m---> 97\u001b[0;31m         \u001b[0;32mreturn\u001b[0m \u001b[0m_read\u001b[0m\u001b[0;34m(\u001b[0m\u001b[0;34m**\u001b[0m\u001b[0mkwargs\u001b[0m\u001b[0;34m)\u001b[0m\u001b[0;34m\u001b[0m\u001b[0;34m\u001b[0m\u001b[0m\n\u001b[0m\u001b[1;32m     98\u001b[0m \u001b[0;34m\u001b[0m\u001b[0m\n\u001b[1;32m     99\u001b[0m     \u001b[0;32mreturn\u001b[0m \u001b[0mparser_func\u001b[0m\u001b[0;34m\u001b[0m\u001b[0;34m\u001b[0m\u001b[0m\n",
        "\u001b[0;32m~/miniconda3/envs/kmer-hashing/lib/python3.6/site-packages/modin/pandas/io.py\u001b[0m in \u001b[0;36m_read\u001b[0;34m(**kwargs)\u001b[0m\n\u001b[1;32m    108\u001b[0m         \u001b[0mkwargs\u001b[0m\u001b[0;34m:\u001b[0m \u001b[0mKeyword\u001b[0m \u001b[0marguments\u001b[0m \u001b[0;32min\u001b[0m \u001b[0mpandas\u001b[0m\u001b[0;34m.\u001b[0m\u001b[0mread_csv\u001b[0m\u001b[0;34m\u001b[0m\u001b[0;34m\u001b[0m\u001b[0m\n\u001b[1;32m    109\u001b[0m     \"\"\"\n\u001b[0;32m--> 110\u001b[0;31m     \u001b[0mpd_obj\u001b[0m \u001b[0;34m=\u001b[0m \u001b[0mBaseFactory\u001b[0m\u001b[0;34m.\u001b[0m\u001b[0mread_csv\u001b[0m\u001b[0;34m(\u001b[0m\u001b[0;34m**\u001b[0m\u001b[0mkwargs\u001b[0m\u001b[0;34m)\u001b[0m\u001b[0;34m\u001b[0m\u001b[0;34m\u001b[0m\u001b[0m\n\u001b[0m\u001b[1;32m    111\u001b[0m     \u001b[0;31m# This happens when `read_csv` returns a TextFileReader object for iterating through\u001b[0m\u001b[0;34m\u001b[0m\u001b[0;34m\u001b[0m\u001b[0;34m\u001b[0m\u001b[0m\n\u001b[1;32m    112\u001b[0m     \u001b[0;32mif\u001b[0m \u001b[0misinstance\u001b[0m\u001b[0;34m(\u001b[0m\u001b[0mpd_obj\u001b[0m\u001b[0;34m,\u001b[0m \u001b[0mpandas\u001b[0m\u001b[0;34m.\u001b[0m\u001b[0mio\u001b[0m\u001b[0;34m.\u001b[0m\u001b[0mparsers\u001b[0m\u001b[0;34m.\u001b[0m\u001b[0mTextFileReader\u001b[0m\u001b[0;34m)\u001b[0m\u001b[0;34m:\u001b[0m\u001b[0;34m\u001b[0m\u001b[0;34m\u001b[0m\u001b[0m\n",
        "\u001b[0;32m~/miniconda3/envs/kmer-hashing/lib/python3.6/site-packages/modin/data_management/factories.py\u001b[0m in \u001b[0;36mread_csv\u001b[0;34m(cls, **kwargs)\u001b[0m\n\u001b[1;32m     50\u001b[0m     \u001b[0;34m@\u001b[0m\u001b[0mclassmethod\u001b[0m\u001b[0;34m\u001b[0m\u001b[0;34m\u001b[0m\u001b[0m\n\u001b[1;32m     51\u001b[0m     \u001b[0;32mdef\u001b[0m \u001b[0mread_csv\u001b[0m\u001b[0;34m(\u001b[0m\u001b[0mcls\u001b[0m\u001b[0;34m,\u001b[0m \u001b[0;34m**\u001b[0m\u001b[0mkwargs\u001b[0m\u001b[0;34m)\u001b[0m\u001b[0;34m:\u001b[0m\u001b[0;34m\u001b[0m\u001b[0;34m\u001b[0m\u001b[0m\n\u001b[0;32m---> 52\u001b[0;31m         \u001b[0;32mreturn\u001b[0m \u001b[0mcls\u001b[0m\u001b[0;34m.\u001b[0m\u001b[0m_determine_engine\u001b[0m\u001b[0;34m(\u001b[0m\u001b[0;34m)\u001b[0m\u001b[0;34m.\u001b[0m\u001b[0m_read_csv\u001b[0m\u001b[0;34m(\u001b[0m\u001b[0;34m**\u001b[0m\u001b[0mkwargs\u001b[0m\u001b[0;34m)\u001b[0m\u001b[0;34m\u001b[0m\u001b[0;34m\u001b[0m\u001b[0m\n\u001b[0m\u001b[1;32m     53\u001b[0m \u001b[0;34m\u001b[0m\u001b[0m\n\u001b[1;32m     54\u001b[0m     \u001b[0;34m@\u001b[0m\u001b[0mclassmethod\u001b[0m\u001b[0;34m\u001b[0m\u001b[0;34m\u001b[0m\u001b[0m\n",
        "\u001b[0;32m~/miniconda3/envs/kmer-hashing/lib/python3.6/site-packages/modin/data_management/factories.py\u001b[0m in \u001b[0;36m_read_csv\u001b[0;34m(cls, **kwargs)\u001b[0m\n\u001b[1;32m     54\u001b[0m     \u001b[0;34m@\u001b[0m\u001b[0mclassmethod\u001b[0m\u001b[0;34m\u001b[0m\u001b[0;34m\u001b[0m\u001b[0m\n\u001b[1;32m     55\u001b[0m     \u001b[0;32mdef\u001b[0m \u001b[0m_read_csv\u001b[0m\u001b[0;34m(\u001b[0m\u001b[0mcls\u001b[0m\u001b[0;34m,\u001b[0m \u001b[0;34m**\u001b[0m\u001b[0mkwargs\u001b[0m\u001b[0;34m)\u001b[0m\u001b[0;34m:\u001b[0m\u001b[0;34m\u001b[0m\u001b[0;34m\u001b[0m\u001b[0m\n\u001b[0;32m---> 56\u001b[0;31m         \u001b[0;32mreturn\u001b[0m \u001b[0mcls\u001b[0m\u001b[0;34m.\u001b[0m\u001b[0mio_cls\u001b[0m\u001b[0;34m.\u001b[0m\u001b[0mread_csv\u001b[0m\u001b[0;34m(\u001b[0m\u001b[0;34m**\u001b[0m\u001b[0mkwargs\u001b[0m\u001b[0;34m)\u001b[0m\u001b[0;34m\u001b[0m\u001b[0;34m\u001b[0m\u001b[0m\n\u001b[0m\u001b[1;32m     57\u001b[0m \u001b[0;34m\u001b[0m\u001b[0m\n\u001b[1;32m     58\u001b[0m     \u001b[0;34m@\u001b[0m\u001b[0mclassmethod\u001b[0m\u001b[0;34m\u001b[0m\u001b[0;34m\u001b[0m\u001b[0m\n",
        "\u001b[0;32m~/miniconda3/envs/kmer-hashing/lib/python3.6/site-packages/modin/engines/ray/generic/io.py\u001b[0m in \u001b[0;36mread_csv\u001b[0;34m(cls, filepath_or_buffer, sep, delimiter, header, names, index_col, usecols, squeeze, prefix, mangle_dupe_cols, dtype, engine, converters, true_values, false_values, skipinitialspace, skiprows, nrows, na_values, keep_default_na, na_filter, verbose, skip_blank_lines, parse_dates, infer_datetime_format, keep_date_col, date_parser, dayfirst, cache_dates, iterator, chunksize, compression, thousands, decimal, lineterminator, quotechar, quoting, escapechar, comment, encoding, dialect, error_bad_lines, warn_bad_lines, skipfooter, doublequote, delim_whitespace, low_memory, memory_map, float_precision)\u001b[0m\n\u001b[1;32m    680\u001b[0m         \u001b[0;32mif\u001b[0m \u001b[0mcls\u001b[0m\u001b[0;34m.\u001b[0m\u001b[0mread_csv_remote_task\u001b[0m \u001b[0;32mis\u001b[0m \u001b[0;32mNone\u001b[0m\u001b[0;34m:\u001b[0m\u001b[0;34m\u001b[0m\u001b[0;34m\u001b[0m\u001b[0m\n\u001b[1;32m    681\u001b[0m             \u001b[0;32mreturn\u001b[0m \u001b[0msuper\u001b[0m\u001b[0;34m(\u001b[0m\u001b[0mRayIO\u001b[0m\u001b[0;34m,\u001b[0m \u001b[0mcls\u001b[0m\u001b[0;34m)\u001b[0m\u001b[0;34m.\u001b[0m\u001b[0mread_csv\u001b[0m\u001b[0;34m(\u001b[0m\u001b[0;34m**\u001b[0m\u001b[0mkwargs\u001b[0m\u001b[0;34m)\u001b[0m\u001b[0;34m\u001b[0m\u001b[0;34m\u001b[0m\u001b[0m\n\u001b[0;32m--> 682\u001b[0;31m         \u001b[0;32mreturn\u001b[0m \u001b[0mcls\u001b[0m\u001b[0;34m.\u001b[0m\u001b[0m_read\u001b[0m\u001b[0;34m(\u001b[0m\u001b[0;34m**\u001b[0m\u001b[0mkwargs\u001b[0m\u001b[0;34m)\u001b[0m\u001b[0;34m\u001b[0m\u001b[0;34m\u001b[0m\u001b[0m\n\u001b[0m\u001b[1;32m    683\u001b[0m \u001b[0;34m\u001b[0m\u001b[0m\n\u001b[1;32m    684\u001b[0m     \u001b[0;34m@\u001b[0m\u001b[0mclassmethod\u001b[0m\u001b[0;34m\u001b[0m\u001b[0;34m\u001b[0m\u001b[0m\n",
        "\u001b[0;32m~/miniconda3/envs/kmer-hashing/lib/python3.6/site-packages/modin/engines/ray/generic/io.py\u001b[0m in \u001b[0;36m_read\u001b[0;34m(cls, filepath_or_buffer, **kwargs)\u001b[0m\n\u001b[1;32m    766\u001b[0m             \u001b[0;32mreturn\u001b[0m \u001b[0mcls\u001b[0m\u001b[0;34m.\u001b[0m\u001b[0m_read_csv_from_pandas\u001b[0m\u001b[0;34m(\u001b[0m\u001b[0mfilepath_or_buffer\u001b[0m\u001b[0;34m,\u001b[0m \u001b[0mfiltered_kwargs\u001b[0m\u001b[0;34m)\u001b[0m\u001b[0;34m\u001b[0m\u001b[0;34m\u001b[0m\u001b[0m\n\u001b[1;32m    767\u001b[0m         \u001b[0;32melse\u001b[0m\u001b[0;34m:\u001b[0m\u001b[0;34m\u001b[0m\u001b[0;34m\u001b[0m\u001b[0m\n\u001b[0;32m--> 768\u001b[0;31m             \u001b[0;32mreturn\u001b[0m \u001b[0mcls\u001b[0m\u001b[0;34m.\u001b[0m\u001b[0m_read_csv_from_file_ray\u001b[0m\u001b[0;34m(\u001b[0m\u001b[0mfilepath_or_buffer\u001b[0m\u001b[0;34m,\u001b[0m \u001b[0mfiltered_kwargs\u001b[0m\u001b[0;34m)\u001b[0m\u001b[0;34m\u001b[0m\u001b[0;34m\u001b[0m\u001b[0m\n\u001b[0m\u001b[1;32m    769\u001b[0m \u001b[0;34m\u001b[0m\u001b[0m\n\u001b[1;32m    770\u001b[0m     \u001b[0;34m@\u001b[0m\u001b[0mclassmethod\u001b[0m\u001b[0;34m\u001b[0m\u001b[0;34m\u001b[0m\u001b[0m\n",
        "\u001b[0;32m~/miniconda3/envs/kmer-hashing/lib/python3.6/site-packages/modin/engines/ray/generic/io.py\u001b[0m in \u001b[0;36m_read_csv_from_file_ray\u001b[0;34m(cls, filepath, kwargs)\u001b[0m\n\u001b[1;32m    490\u001b[0m         \u001b[0;31m# or based on the column(s) that were requested.\u001b[0m\u001b[0;34m\u001b[0m\u001b[0;34m\u001b[0m\u001b[0;34m\u001b[0m\u001b[0m\n\u001b[1;32m    491\u001b[0m         \u001b[0;32mif\u001b[0m \u001b[0mindex_col\u001b[0m \u001b[0;32mis\u001b[0m \u001b[0;32mNone\u001b[0m\u001b[0;34m:\u001b[0m\u001b[0;34m\u001b[0m\u001b[0;34m\u001b[0m\u001b[0m\n\u001b[0;32m--> 492\u001b[0;31m             \u001b[0mrow_lengths\u001b[0m \u001b[0;34m=\u001b[0m \u001b[0mray\u001b[0m\u001b[0;34m.\u001b[0m\u001b[0mget\u001b[0m\u001b[0;34m(\u001b[0m\u001b[0mindex_ids\u001b[0m\u001b[0;34m)\u001b[0m\u001b[0;34m\u001b[0m\u001b[0;34m\u001b[0m\u001b[0m\n\u001b[0m\u001b[1;32m    493\u001b[0m             \u001b[0mnew_index\u001b[0m \u001b[0;34m=\u001b[0m \u001b[0mpandas\u001b[0m\u001b[0;34m.\u001b[0m\u001b[0mRangeIndex\u001b[0m\u001b[0;34m(\u001b[0m\u001b[0msum\u001b[0m\u001b[0;34m(\u001b[0m\u001b[0mrow_lengths\u001b[0m\u001b[0;34m)\u001b[0m\u001b[0;34m)\u001b[0m\u001b[0;34m\u001b[0m\u001b[0;34m\u001b[0m\u001b[0m\n\u001b[1;32m    494\u001b[0m         \u001b[0;32melse\u001b[0m\u001b[0;34m:\u001b[0m\u001b[0;34m\u001b[0m\u001b[0;34m\u001b[0m\u001b[0m\n",
        "\u001b[0;32m~/miniconda3/envs/kmer-hashing/lib/python3.6/site-packages/ray/worker.py\u001b[0m in \u001b[0;36mget\u001b[0;34m(object_ids)\u001b[0m\n\u001b[1;32m   2245\u001b[0m             \u001b[0;32mif\u001b[0m \u001b[0misinstance\u001b[0m\u001b[0;34m(\u001b[0m\u001b[0mvalue\u001b[0m\u001b[0;34m,\u001b[0m \u001b[0mRayError\u001b[0m\u001b[0;34m)\u001b[0m\u001b[0;34m:\u001b[0m\u001b[0;34m\u001b[0m\u001b[0;34m\u001b[0m\u001b[0m\n\u001b[1;32m   2246\u001b[0m                 \u001b[0mlast_task_error_raise_time\u001b[0m \u001b[0;34m=\u001b[0m \u001b[0mtime\u001b[0m\u001b[0;34m.\u001b[0m\u001b[0mtime\u001b[0m\u001b[0;34m(\u001b[0m\u001b[0;34m)\u001b[0m\u001b[0;34m\u001b[0m\u001b[0;34m\u001b[0m\u001b[0m\n\u001b[0;32m-> 2247\u001b[0;31m                 \u001b[0;32mraise\u001b[0m \u001b[0mvalue\u001b[0m\u001b[0;34m\u001b[0m\u001b[0;34m\u001b[0m\u001b[0m\n\u001b[0m\u001b[1;32m   2248\u001b[0m \u001b[0;34m\u001b[0m\u001b[0m\n\u001b[1;32m   2249\u001b[0m         \u001b[0;31m# Run post processors.\u001b[0m\u001b[0;34m\u001b[0m\u001b[0;34m\u001b[0m\u001b[0;34m\u001b[0m\u001b[0m\n",
        "\u001b[0;31mRayTaskError\u001b[0m: \u001b[36mray_worker\u001b[39m (pid=98844, host=ndnd)\n  File \"/home/olga/miniconda3/envs/kmer-hashing/lib/python3.6/site-packages/modin/engines/ray/pandas_on_ray/io.py\", line 83, in _read_csv_with_offset_pandas_on_ray\n    bio = file_open(fname, \"rb\", kwargs.pop(\"compression\", \"infer\"))\n  File \"/home/olga/miniconda3/envs/kmer-hashing/lib/python3.6/site-packages/modin/engines/ray/generic/io.py\", line 91, in file_open\n    return open(file_path, mode=mode)\nFileNotFoundError: [Errno 2] No such file or directory: 'SRR306752_GSM752603_mdo_kd_M_1_trimmed__coding_scores.csv'\n"
       ]
      }
     ],
     "persistentId": "5df7490d-8149-4742-a2fa-28feb4a39f78",
     "text": "df = pd.read_csv('SRR306752_GSM752603_mdo_kd_M_1_trimmed__coding_scores.csv')\nprint(df.shape)\ndf.head()"
    },
    "executionTime": "2019-11-05T16:18:09.174Z"
   },
   {
    "cell": {
     "executionCount": 5,
     "executionEventId": "756f26ae-610d-469f-ad6e-d9b87d3cbdb2",
     "hasError": true,
     "id": "7c756941-1903-4921-8c5d-37160b1a4204",
     "outputs": [
      {
       "name": "stdout",
       "output_type": "stream",
       "text": "--- SRR306827_GSM752680_ppa_br_F_2_trimmed__coding_scores.csv ---\nReading csv ...\n"
      },
      {
       "ename": "RayTaskError",
       "evalue": "\u001b[36mray_worker\u001b[39m (pid=98844, host=ndnd)\n  File \"/home/olga/miniconda3/envs/kmer-hashing/lib/python3.6/site-packages/modin/engines/ray/pandas_on_ray/io.py\", line 83, in _read_csv_with_offset_pandas_on_ray\n    bio = file_open(fname, \"rb\", kwargs.pop(\"compression\", \"infer\"))\n  File \"/home/olga/miniconda3/envs/kmer-hashing/lib/python3.6/site-packages/modin/engines/ray/generic/io.py\", line 91, in file_open\n    return open(file_path, mode=mode)\nFileNotFoundError: [Errno 2] No such file or directory: 'SRR306827_GSM752680_ppa_br_F_2_trimmed__coding_scores.csv'\n",
       "output_type": "error",
       "traceback": [
        "\u001b[0;31m---------------------------------------------------------------------------\u001b[0m",
        "\u001b[0;31mRayTaskError\u001b[0m                              Traceback (most recent call last)",
        "\u001b[0;32m<timed exec>\u001b[0m in \u001b[0;36m<module>\u001b[0;34m()\u001b[0m\n",
        "\u001b[0;32m~/miniconda3/envs/kmer-hashing/lib/python3.6/site-packages/modin/pandas/io.py\u001b[0m in \u001b[0;36mparser_func\u001b[0;34m(filepath_or_buffer, sep, delimiter, header, names, index_col, usecols, squeeze, prefix, mangle_dupe_cols, dtype, engine, converters, true_values, false_values, skipinitialspace, skiprows, nrows, na_values, keep_default_na, na_filter, verbose, skip_blank_lines, parse_dates, infer_datetime_format, keep_date_col, date_parser, dayfirst, cache_dates, iterator, chunksize, compression, thousands, decimal, lineterminator, quotechar, quoting, escapechar, comment, encoding, dialect, error_bad_lines, warn_bad_lines, skipfooter, doublequote, delim_whitespace, low_memory, memory_map, float_precision)\u001b[0m\n\u001b[1;32m     95\u001b[0m         \u001b[0;32mif\u001b[0m \u001b[0;32mnot\u001b[0m \u001b[0mkwargs\u001b[0m\u001b[0;34m.\u001b[0m\u001b[0mget\u001b[0m\u001b[0;34m(\u001b[0m\u001b[0;34m\"sep\"\u001b[0m\u001b[0;34m,\u001b[0m \u001b[0msep\u001b[0m\u001b[0;34m)\u001b[0m\u001b[0;34m:\u001b[0m\u001b[0;34m\u001b[0m\u001b[0;34m\u001b[0m\u001b[0m\n\u001b[1;32m     96\u001b[0m             \u001b[0mkwargs\u001b[0m\u001b[0;34m[\u001b[0m\u001b[0;34m\"sep\"\u001b[0m\u001b[0;34m]\u001b[0m \u001b[0;34m=\u001b[0m \u001b[0;34m\"\\t\"\u001b[0m\u001b[0;34m\u001b[0m\u001b[0;34m\u001b[0m\u001b[0m\n\u001b[0;32m---> 97\u001b[0;31m         \u001b[0;32mreturn\u001b[0m \u001b[0m_read\u001b[0m\u001b[0;34m(\u001b[0m\u001b[0;34m**\u001b[0m\u001b[0mkwargs\u001b[0m\u001b[0;34m)\u001b[0m\u001b[0;34m\u001b[0m\u001b[0;34m\u001b[0m\u001b[0m\n\u001b[0m\u001b[1;32m     98\u001b[0m \u001b[0;34m\u001b[0m\u001b[0m\n\u001b[1;32m     99\u001b[0m     \u001b[0;32mreturn\u001b[0m \u001b[0mparser_func\u001b[0m\u001b[0;34m\u001b[0m\u001b[0;34m\u001b[0m\u001b[0m\n",
        "\u001b[0;32m~/miniconda3/envs/kmer-hashing/lib/python3.6/site-packages/modin/pandas/io.py\u001b[0m in \u001b[0;36m_read\u001b[0;34m(**kwargs)\u001b[0m\n\u001b[1;32m    108\u001b[0m         \u001b[0mkwargs\u001b[0m\u001b[0;34m:\u001b[0m \u001b[0mKeyword\u001b[0m \u001b[0marguments\u001b[0m \u001b[0;32min\u001b[0m \u001b[0mpandas\u001b[0m\u001b[0;34m.\u001b[0m\u001b[0mread_csv\u001b[0m\u001b[0;34m\u001b[0m\u001b[0;34m\u001b[0m\u001b[0m\n\u001b[1;32m    109\u001b[0m     \"\"\"\n\u001b[0;32m--> 110\u001b[0;31m     \u001b[0mpd_obj\u001b[0m \u001b[0;34m=\u001b[0m \u001b[0mBaseFactory\u001b[0m\u001b[0;34m.\u001b[0m\u001b[0mread_csv\u001b[0m\u001b[0;34m(\u001b[0m\u001b[0;34m**\u001b[0m\u001b[0mkwargs\u001b[0m\u001b[0;34m)\u001b[0m\u001b[0;34m\u001b[0m\u001b[0;34m\u001b[0m\u001b[0m\n\u001b[0m\u001b[1;32m    111\u001b[0m     \u001b[0;31m# This happens when `read_csv` returns a TextFileReader object for iterating through\u001b[0m\u001b[0;34m\u001b[0m\u001b[0;34m\u001b[0m\u001b[0;34m\u001b[0m\u001b[0m\n\u001b[1;32m    112\u001b[0m     \u001b[0;32mif\u001b[0m \u001b[0misinstance\u001b[0m\u001b[0;34m(\u001b[0m\u001b[0mpd_obj\u001b[0m\u001b[0;34m,\u001b[0m \u001b[0mpandas\u001b[0m\u001b[0;34m.\u001b[0m\u001b[0mio\u001b[0m\u001b[0;34m.\u001b[0m\u001b[0mparsers\u001b[0m\u001b[0;34m.\u001b[0m\u001b[0mTextFileReader\u001b[0m\u001b[0;34m)\u001b[0m\u001b[0;34m:\u001b[0m\u001b[0;34m\u001b[0m\u001b[0;34m\u001b[0m\u001b[0m\n",
        "\u001b[0;32m~/miniconda3/envs/kmer-hashing/lib/python3.6/site-packages/modin/data_management/factories.py\u001b[0m in \u001b[0;36mread_csv\u001b[0;34m(cls, **kwargs)\u001b[0m\n\u001b[1;32m     50\u001b[0m     \u001b[0;34m@\u001b[0m\u001b[0mclassmethod\u001b[0m\u001b[0;34m\u001b[0m\u001b[0;34m\u001b[0m\u001b[0m\n\u001b[1;32m     51\u001b[0m     \u001b[0;32mdef\u001b[0m \u001b[0mread_csv\u001b[0m\u001b[0;34m(\u001b[0m\u001b[0mcls\u001b[0m\u001b[0;34m,\u001b[0m \u001b[0;34m**\u001b[0m\u001b[0mkwargs\u001b[0m\u001b[0;34m)\u001b[0m\u001b[0;34m:\u001b[0m\u001b[0;34m\u001b[0m\u001b[0;34m\u001b[0m\u001b[0m\n\u001b[0;32m---> 52\u001b[0;31m         \u001b[0;32mreturn\u001b[0m \u001b[0mcls\u001b[0m\u001b[0;34m.\u001b[0m\u001b[0m_determine_engine\u001b[0m\u001b[0;34m(\u001b[0m\u001b[0;34m)\u001b[0m\u001b[0;34m.\u001b[0m\u001b[0m_read_csv\u001b[0m\u001b[0;34m(\u001b[0m\u001b[0;34m**\u001b[0m\u001b[0mkwargs\u001b[0m\u001b[0;34m)\u001b[0m\u001b[0;34m\u001b[0m\u001b[0;34m\u001b[0m\u001b[0m\n\u001b[0m\u001b[1;32m     53\u001b[0m \u001b[0;34m\u001b[0m\u001b[0m\n\u001b[1;32m     54\u001b[0m     \u001b[0;34m@\u001b[0m\u001b[0mclassmethod\u001b[0m\u001b[0;34m\u001b[0m\u001b[0;34m\u001b[0m\u001b[0m\n",
        "\u001b[0;32m~/miniconda3/envs/kmer-hashing/lib/python3.6/site-packages/modin/data_management/factories.py\u001b[0m in \u001b[0;36m_read_csv\u001b[0;34m(cls, **kwargs)\u001b[0m\n\u001b[1;32m     54\u001b[0m     \u001b[0;34m@\u001b[0m\u001b[0mclassmethod\u001b[0m\u001b[0;34m\u001b[0m\u001b[0;34m\u001b[0m\u001b[0m\n\u001b[1;32m     55\u001b[0m     \u001b[0;32mdef\u001b[0m \u001b[0m_read_csv\u001b[0m\u001b[0;34m(\u001b[0m\u001b[0mcls\u001b[0m\u001b[0;34m,\u001b[0m \u001b[0;34m**\u001b[0m\u001b[0mkwargs\u001b[0m\u001b[0;34m)\u001b[0m\u001b[0;34m:\u001b[0m\u001b[0;34m\u001b[0m\u001b[0;34m\u001b[0m\u001b[0m\n\u001b[0;32m---> 56\u001b[0;31m         \u001b[0;32mreturn\u001b[0m \u001b[0mcls\u001b[0m\u001b[0;34m.\u001b[0m\u001b[0mio_cls\u001b[0m\u001b[0;34m.\u001b[0m\u001b[0mread_csv\u001b[0m\u001b[0;34m(\u001b[0m\u001b[0;34m**\u001b[0m\u001b[0mkwargs\u001b[0m\u001b[0;34m)\u001b[0m\u001b[0;34m\u001b[0m\u001b[0;34m\u001b[0m\u001b[0m\n\u001b[0m\u001b[1;32m     57\u001b[0m \u001b[0;34m\u001b[0m\u001b[0m\n\u001b[1;32m     58\u001b[0m     \u001b[0;34m@\u001b[0m\u001b[0mclassmethod\u001b[0m\u001b[0;34m\u001b[0m\u001b[0;34m\u001b[0m\u001b[0m\n",
        "\u001b[0;32m~/miniconda3/envs/kmer-hashing/lib/python3.6/site-packages/modin/engines/ray/generic/io.py\u001b[0m in \u001b[0;36mread_csv\u001b[0;34m(cls, filepath_or_buffer, sep, delimiter, header, names, index_col, usecols, squeeze, prefix, mangle_dupe_cols, dtype, engine, converters, true_values, false_values, skipinitialspace, skiprows, nrows, na_values, keep_default_na, na_filter, verbose, skip_blank_lines, parse_dates, infer_datetime_format, keep_date_col, date_parser, dayfirst, cache_dates, iterator, chunksize, compression, thousands, decimal, lineterminator, quotechar, quoting, escapechar, comment, encoding, dialect, error_bad_lines, warn_bad_lines, skipfooter, doublequote, delim_whitespace, low_memory, memory_map, float_precision)\u001b[0m\n\u001b[1;32m    680\u001b[0m         \u001b[0;32mif\u001b[0m \u001b[0mcls\u001b[0m\u001b[0;34m.\u001b[0m\u001b[0mread_csv_remote_task\u001b[0m \u001b[0;32mis\u001b[0m \u001b[0;32mNone\u001b[0m\u001b[0;34m:\u001b[0m\u001b[0;34m\u001b[0m\u001b[0;34m\u001b[0m\u001b[0m\n\u001b[1;32m    681\u001b[0m             \u001b[0;32mreturn\u001b[0m \u001b[0msuper\u001b[0m\u001b[0;34m(\u001b[0m\u001b[0mRayIO\u001b[0m\u001b[0;34m,\u001b[0m \u001b[0mcls\u001b[0m\u001b[0;34m)\u001b[0m\u001b[0;34m.\u001b[0m\u001b[0mread_csv\u001b[0m\u001b[0;34m(\u001b[0m\u001b[0;34m**\u001b[0m\u001b[0mkwargs\u001b[0m\u001b[0;34m)\u001b[0m\u001b[0;34m\u001b[0m\u001b[0;34m\u001b[0m\u001b[0m\n\u001b[0;32m--> 682\u001b[0;31m         \u001b[0;32mreturn\u001b[0m \u001b[0mcls\u001b[0m\u001b[0;34m.\u001b[0m\u001b[0m_read\u001b[0m\u001b[0;34m(\u001b[0m\u001b[0;34m**\u001b[0m\u001b[0mkwargs\u001b[0m\u001b[0;34m)\u001b[0m\u001b[0;34m\u001b[0m\u001b[0;34m\u001b[0m\u001b[0m\n\u001b[0m\u001b[1;32m    683\u001b[0m \u001b[0;34m\u001b[0m\u001b[0m\n\u001b[1;32m    684\u001b[0m     \u001b[0;34m@\u001b[0m\u001b[0mclassmethod\u001b[0m\u001b[0;34m\u001b[0m\u001b[0;34m\u001b[0m\u001b[0m\n",
        "\u001b[0;32m~/miniconda3/envs/kmer-hashing/lib/python3.6/site-packages/modin/engines/ray/generic/io.py\u001b[0m in \u001b[0;36m_read\u001b[0;34m(cls, filepath_or_buffer, **kwargs)\u001b[0m\n\u001b[1;32m    766\u001b[0m             \u001b[0;32mreturn\u001b[0m \u001b[0mcls\u001b[0m\u001b[0;34m.\u001b[0m\u001b[0m_read_csv_from_pandas\u001b[0m\u001b[0;34m(\u001b[0m\u001b[0mfilepath_or_buffer\u001b[0m\u001b[0;34m,\u001b[0m \u001b[0mfiltered_kwargs\u001b[0m\u001b[0;34m)\u001b[0m\u001b[0;34m\u001b[0m\u001b[0;34m\u001b[0m\u001b[0m\n\u001b[1;32m    767\u001b[0m         \u001b[0;32melse\u001b[0m\u001b[0;34m:\u001b[0m\u001b[0;34m\u001b[0m\u001b[0;34m\u001b[0m\u001b[0m\n\u001b[0;32m--> 768\u001b[0;31m             \u001b[0;32mreturn\u001b[0m \u001b[0mcls\u001b[0m\u001b[0;34m.\u001b[0m\u001b[0m_read_csv_from_file_ray\u001b[0m\u001b[0;34m(\u001b[0m\u001b[0mfilepath_or_buffer\u001b[0m\u001b[0;34m,\u001b[0m \u001b[0mfiltered_kwargs\u001b[0m\u001b[0;34m)\u001b[0m\u001b[0;34m\u001b[0m\u001b[0;34m\u001b[0m\u001b[0m\n\u001b[0m\u001b[1;32m    769\u001b[0m \u001b[0;34m\u001b[0m\u001b[0m\n\u001b[1;32m    770\u001b[0m     \u001b[0;34m@\u001b[0m\u001b[0mclassmethod\u001b[0m\u001b[0;34m\u001b[0m\u001b[0;34m\u001b[0m\u001b[0m\n",
        "\u001b[0;32m~/miniconda3/envs/kmer-hashing/lib/python3.6/site-packages/modin/engines/ray/generic/io.py\u001b[0m in \u001b[0;36m_read_csv_from_file_ray\u001b[0;34m(cls, filepath, kwargs)\u001b[0m\n\u001b[1;32m    490\u001b[0m         \u001b[0;31m# or based on the column(s) that were requested.\u001b[0m\u001b[0;34m\u001b[0m\u001b[0;34m\u001b[0m\u001b[0;34m\u001b[0m\u001b[0m\n\u001b[1;32m    491\u001b[0m         \u001b[0;32mif\u001b[0m \u001b[0mindex_col\u001b[0m \u001b[0;32mis\u001b[0m \u001b[0;32mNone\u001b[0m\u001b[0;34m:\u001b[0m\u001b[0;34m\u001b[0m\u001b[0;34m\u001b[0m\u001b[0m\n\u001b[0;32m--> 492\u001b[0;31m             \u001b[0mrow_lengths\u001b[0m \u001b[0;34m=\u001b[0m \u001b[0mray\u001b[0m\u001b[0;34m.\u001b[0m\u001b[0mget\u001b[0m\u001b[0;34m(\u001b[0m\u001b[0mindex_ids\u001b[0m\u001b[0;34m)\u001b[0m\u001b[0;34m\u001b[0m\u001b[0;34m\u001b[0m\u001b[0m\n\u001b[0m\u001b[1;32m    493\u001b[0m             \u001b[0mnew_index\u001b[0m \u001b[0;34m=\u001b[0m \u001b[0mpandas\u001b[0m\u001b[0;34m.\u001b[0m\u001b[0mRangeIndex\u001b[0m\u001b[0;34m(\u001b[0m\u001b[0msum\u001b[0m\u001b[0;34m(\u001b[0m\u001b[0mrow_lengths\u001b[0m\u001b[0;34m)\u001b[0m\u001b[0;34m)\u001b[0m\u001b[0;34m\u001b[0m\u001b[0;34m\u001b[0m\u001b[0m\n\u001b[1;32m    494\u001b[0m         \u001b[0;32melse\u001b[0m\u001b[0;34m:\u001b[0m\u001b[0;34m\u001b[0m\u001b[0;34m\u001b[0m\u001b[0m\n",
        "\u001b[0;32m~/miniconda3/envs/kmer-hashing/lib/python3.6/site-packages/ray/worker.py\u001b[0m in \u001b[0;36mget\u001b[0;34m(object_ids)\u001b[0m\n\u001b[1;32m   2245\u001b[0m             \u001b[0;32mif\u001b[0m \u001b[0misinstance\u001b[0m\u001b[0;34m(\u001b[0m\u001b[0mvalue\u001b[0m\u001b[0;34m,\u001b[0m \u001b[0mRayError\u001b[0m\u001b[0;34m)\u001b[0m\u001b[0;34m:\u001b[0m\u001b[0;34m\u001b[0m\u001b[0;34m\u001b[0m\u001b[0m\n\u001b[1;32m   2246\u001b[0m                 \u001b[0mlast_task_error_raise_time\u001b[0m \u001b[0;34m=\u001b[0m \u001b[0mtime\u001b[0m\u001b[0;34m.\u001b[0m\u001b[0mtime\u001b[0m\u001b[0;34m(\u001b[0m\u001b[0;34m)\u001b[0m\u001b[0;34m\u001b[0m\u001b[0;34m\u001b[0m\u001b[0m\n\u001b[0;32m-> 2247\u001b[0;31m                 \u001b[0;32mraise\u001b[0m \u001b[0mvalue\u001b[0m\u001b[0;34m\u001b[0m\u001b[0;34m\u001b[0m\u001b[0m\n\u001b[0m\u001b[1;32m   2248\u001b[0m \u001b[0;34m\u001b[0m\u001b[0m\n\u001b[1;32m   2249\u001b[0m         \u001b[0;31m# Run post processors.\u001b[0m\u001b[0;34m\u001b[0m\u001b[0;34m\u001b[0m\u001b[0;34m\u001b[0m\u001b[0m\n",
        "\u001b[0;31mRayTaskError\u001b[0m: \u001b[36mray_worker\u001b[39m (pid=98844, host=ndnd)\n  File \"/home/olga/miniconda3/envs/kmer-hashing/lib/python3.6/site-packages/modin/engines/ray/pandas_on_ray/io.py\", line 83, in _read_csv_with_offset_pandas_on_ray\n    bio = file_open(fname, \"rb\", kwargs.pop(\"compression\", \"infer\"))\n  File \"/home/olga/miniconda3/envs/kmer-hashing/lib/python3.6/site-packages/modin/engines/ray/generic/io.py\", line 91, in file_open\n    return open(file_path, mode=mode)\nFileNotFoundError: [Errno 2] No such file or directory: 'SRR306827_GSM752680_ppa_br_F_2_trimmed__coding_scores.csv'\n"
       ]
      },
      {
       "name": "stdout",
       "output_type": "stream",
       "text": "\tDone!\nWriting Parquet ...\n"
      },
      {
       "ename": "NameError",
       "evalue": "name 'df' is not defined",
       "output_type": "error",
       "traceback": [
        "\u001b[0;31m---------------------------------------------------------------------------\u001b[0m",
        "\u001b[0;31mNameError\u001b[0m                                 Traceback (most recent call last)",
        "\u001b[0;32m<timed eval>\u001b[0m in \u001b[0;36m<module>\u001b[0;34m()\u001b[0m\n",
        "\u001b[0;31mNameError\u001b[0m: name 'df' is not defined"
       ]
      },
      {
       "name": "stdout",
       "output_type": "stream",
       "text": "\tDone!\n"
      },
      {
       "ename": "NameError",
       "evalue": "name 'df' is not defined",
       "output_type": "error",
       "traceback": [
        "\u001b[0;31m---------------------------------------------------------------------------\u001b[0m",
        "\u001b[0;31mNameError\u001b[0m                                 Traceback (most recent call last)",
        "\u001b[0;32m<timed exec>\u001b[0m in \u001b[0;36m<module>\u001b[0;34m()\u001b[0m\n",
        "\u001b[0;31mNameError\u001b[0m: name 'df' is not defined"
       ]
      }
     ],
     "persistentId": "e7d17187-4e34-43ca-acaa-d93622198ac4",
     "text": "%%time\n\ndfs = []\n\nfor csv in glob.glob(\"*.csv\"):\n    print(f'--- {csv} ---')\n    print(\"Reading csv ...\")\n    %time df = pd.read_csv(csv)\n    print(\"\\tDone!\")\n    parquet = csv.replace('.csv', '.parquet')\n    print(\"Writing Parquet ...\")\n    %time df.to_parquet(parquet)\n    print(\"\\tDone!\")\n    dfs.append(df)\nall_coding_scores = pd.concat(dfs)"
    },
    "executionTime": "2019-11-05T16:21:32.341Z"
   },
   {
    "cell": {
     "executionCount": 1,
     "executionEventId": "9f964302-97cf-464a-b607-59db91e0c88c",
     "hasError": false,
     "id": "ebf44c93-6094-4cc1-9312-0cf339e812f6",
     "outputs": [],
     "persistentId": "9101ba02-87fc-4db3-be7e-3fde4f92cbc2",
     "text": "import os\nimport glob\n\n\n# import ray\n# # use fewer CPUs so the OS doesn't run out of processes\n# ray.init(num_cpus=16)\n# import modin.pandas as pd\nimport pandas as pd\nimport seaborn as sns"
    },
    "executionTime": "2019-11-05T16:22:23.911Z"
   },
   {
    "cell": {
     "executionCount": 2,
     "executionEventId": "232a8e4d-1620-408a-822c-edd54d1e7416",
     "hasError": false,
     "id": "9be10d8b-3bb8-4179-998e-3e93be874db0",
     "outputs": [
      {
       "name": "stdout",
       "output_type": "stream",
       "text": "/mnt/ibm_lg/olga/kmer-hashing/brawand2011/kmermaid/results_dayhoff11_extract_coding_jaccard_threshold05/extract_coding\n"
      }
     ],
     "persistentId": "23969cb6-1090-464a-ab9f-3bcd20e4c596",
     "text": "cd ~/data_lg/kmer-hashing/brawand2011/kmermaid/results_dayhoff11_extract_coding_jaccard_threshold05/extract_coding"
    },
    "executionTime": "2019-11-05T16:22:23.915Z"
   },
   {
    "cell": {
     "executionCount": 3,
     "executionEventId": "cba5961a-66c9-4110-ab3d-bcaf549da0af",
     "hasError": false,
     "id": "4ee688af-2fae-4b56-b6a8-e94c5aca7dd8",
     "outputs": [
      {
       "name": "stdout",
       "output_type": "stream",
       "text": "-rw-r--r-- 1 olga olga 474M Nov  4 19:54 SRR306752_GSM752603_mdo_kd_M_1_trimmed__coding_scores.csv\n-rw-r--r-- 1 olga olga 2.1G Nov  4 13:41 SRR306753_GSM752606_mdo_lv_F_1_trimmed__coding_scores.csv\n-rw-r--r-- 1 olga olga 1.8G Nov  4 17:59 SRR306754_GSM752608_mdo_lv_M_1_trimmed__coding_scores.csv\n-rw-r--r-- 1 olga olga 1.7G Nov  4 22:26 SRR306755_GSM752611_mdo_ts_M_1_trimmed__coding_scores.csv\n-rw-r--r-- 1 olga olga 3.7G Nov  4 15:53 SRR306756_GSM752613_mdo_ts_M_2_trimmed__coding_scores.csv\n"
      }
     ],
     "persistentId": "35248e0d-c908-4ba0-b18d-69d11c2e4169",
     "text": "ls -lha *mdo*csv"
    },
    "executionTime": "2019-11-05T16:22:24.030Z"
   },
   {
    "cell": {
     "executionCount": 4,
     "executionEventId": "26b195d4-7c92-4272-b663-5fb1f0a6dca8",
     "hasError": false,
     "id": "44408e4f-b497-48fa-a4f3-f9774e9d1f77",
     "outputs": [
      {
       "name": "stdout",
       "output_type": "stream",
       "text": "(3748455, 5)\n"
      },
      {
       "data": {
        "text/html": "<div>\n<style scoped>\n    .dataframe tbody tr th:only-of-type {\n        vertical-align: middle;\n    }\n\n    .dataframe tbody tr th {\n        vertical-align: top;\n    }\n\n    .dataframe thead th {\n        text-align: right;\n    }\n</style>\n<table border=\"1\" class=\"dataframe\">\n  <thead>\n    <tr style=\"text-align: right;\">\n      <th></th>\n      <th>read_id</th>\n      <th>jaccard_in_peptide_db</th>\n      <th>n_kmers</th>\n      <th>classification</th>\n      <th>filename</th>\n    </tr>\n  </thead>\n  <tbody>\n    <tr>\n      <td>0</td>\n      <td>SRR306752.24755 Ibis_Run090629:7:1:286:693/1</td>\n      <td>NaN</td>\n      <td>NaN</td>\n      <td>All translations shorter than peptide k-mer si...</td>\n      <td>SRR306752_GSM752603_mdo_kd_M_1_trimmed.fq.gz</td>\n    </tr>\n    <tr>\n      <td>1</td>\n      <td>SRR306752.26212 Ibis_Run090629:7:1:304:224/1</td>\n      <td>NaN</td>\n      <td>NaN</td>\n      <td>All translations shorter than peptide k-mer si...</td>\n      <td>SRR306752_GSM752603_mdo_kd_M_1_trimmed.fq.gz</td>\n    </tr>\n    <tr>\n      <td>2</td>\n      <td>SRR306752.27035 Ibis_Run090629:7:1:313:423/1</td>\n      <td>1.0</td>\n      <td>3.0</td>\n      <td>Coding</td>\n      <td>SRR306752_GSM752603_mdo_kd_M_1_trimmed.fq.gz</td>\n    </tr>\n    <tr>\n      <td>3</td>\n      <td>SRR306752.31741 Ibis_Run090629:7:1:369:831/1</td>\n      <td>NaN</td>\n      <td>NaN</td>\n      <td>All translations shorter than peptide k-mer si...</td>\n      <td>SRR306752_GSM752603_mdo_kd_M_1_trimmed.fq.gz</td>\n    </tr>\n    <tr>\n      <td>4</td>\n      <td>SRR306752.32553 Ibis_Run090629:7:1:378:170/1</td>\n      <td>0.1</td>\n      <td>10.0</td>\n      <td>Non-coding</td>\n      <td>SRR306752_GSM752603_mdo_kd_M_1_trimmed.fq.gz</td>\n    </tr>\n  </tbody>\n</table>\n</div>",
        "text/plain": "                                        read_id  jaccard_in_peptide_db  \\\n0  SRR306752.24755 Ibis_Run090629:7:1:286:693/1                    NaN   \n1  SRR306752.26212 Ibis_Run090629:7:1:304:224/1                    NaN   \n2  SRR306752.27035 Ibis_Run090629:7:1:313:423/1                    1.0   \n3  SRR306752.31741 Ibis_Run090629:7:1:369:831/1                    NaN   \n4  SRR306752.32553 Ibis_Run090629:7:1:378:170/1                    0.1   \n\n   n_kmers                                     classification  \\\n0      NaN  All translations shorter than peptide k-mer si...   \n1      NaN  All translations shorter than peptide k-mer si...   \n2      3.0                                             Coding   \n3      NaN  All translations shorter than peptide k-mer si...   \n4     10.0                                         Non-coding   \n\n                                       filename  \n0  SRR306752_GSM752603_mdo_kd_M_1_trimmed.fq.gz  \n1  SRR306752_GSM752603_mdo_kd_M_1_trimmed.fq.gz  \n2  SRR306752_GSM752603_mdo_kd_M_1_trimmed.fq.gz  \n3  SRR306752_GSM752603_mdo_kd_M_1_trimmed.fq.gz  \n4  SRR306752_GSM752603_mdo_kd_M_1_trimmed.fq.gz  "
       },
       "execution_count": 4,
       "metadata": {},
       "output_type": "execute_result"
      }
     ],
     "persistentId": "5df7490d-8149-4742-a2fa-28feb4a39f78",
     "text": "df = pd.read_csv('SRR306752_GSM752603_mdo_kd_M_1_trimmed__coding_scores.csv')\nprint(df.shape)\ndf.head()"
    },
    "executionTime": "2019-11-05T16:22:30.508Z"
   },
   {
    "cell": {
     "executionCount": 5,
     "executionEventId": "e246cd8c-f45c-400c-8ed4-4854d443e2b9",
     "hasError": false,
     "id": "9094ba82-524d-4071-a1c5-3a42898716a3",
     "outputs": [
      {
       "name": "stdout",
       "output_type": "stream",
       "text": "-rw-r--r-- 1 olga olga 474M Nov  4 19:54 SRR306752_GSM752603_mdo_kd_M_1_trimmed__coding_scores.csv\n"
      }
     ],
     "persistentId": "fd3fb0f0-aa33-437a-91dc-807b882e9859",
     "text": "ls -lha SRR306752_GSM752603_mdo_kd_M_1_trimmed__coding_scores.csv"
    },
    "executionTime": "2019-11-05T16:22:30.595Z"
   },
   {
    "cell": {
     "executionCount": 8,
     "executionEventId": "e83b449e-58b1-4766-8bb4-f6c1435f2364",
     "hasError": false,
     "id": "e5a2d027-6e92-4771-8828-916cbdd098ff",
     "outputs": [
      {
       "data": {
        "text/plain": "(2414663118, 5)"
       },
       "execution_count": 8,
       "metadata": {},
       "output_type": "execute_result"
      }
     ],
     "persistentId": "1353db91-7d95-4de2-ba84-22db0cfc79de",
     "text": "all_coding_scores.shape"
    },
    "executionTime": "2019-11-07T16:04:53.558Z"
   },
   {
    "cell": {
     "executionCount": 9,
     "executionEventId": "1b748b04-b117-4e12-b0c8-1b3bca338468",
     "hasError": false,
     "id": "328c334a-efa7-4ebd-97df-5626799e1d44",
     "outputs": [
      {
       "name": "stdout",
       "output_type": "stream",
       "text": "/home/olga/anaconda/bin/pip\n/home/olga/anaconda/bin/pip\n/usr/local/bin/pip\n/home/olga/miniconda3/envs/kmer-hashing/bin/pip\n/home/olga/anaconda/bin/pip\n/usr/local/bin/pip\n/usr/local/bin/pip\n"
      }
     ],
     "persistentId": "08001904-36a0-4e56-bd58-a9628d378c6e",
     "text": "! which -a pip"
    },
    "executionTime": "2019-11-07T16:05:24.828Z"
   },
   {
    "cell": {
     "executionCount": 10,
     "executionEventId": "1cd7f1f8-cfcc-4429-91d1-0859003f0ba7",
     "hasError": false,
     "id": "49095241-0468-4f88-8475-ca3df1308408",
     "outputs": [
      {
       "data": {
        "text/plain": "'/mnt/ibm_lg/olga/kmer-hashing/brawand2011/kmermaid/results_dayhoff11_extract_coding_jaccard_threshold05/extract_coding'"
       },
       "execution_count": 10,
       "metadata": {},
       "output_type": "execute_result"
      }
     ],
     "persistentId": "be8e3aac-0165-4c77-abd8-20df69d8a098",
     "text": "pwd"
    },
    "executionTime": "2019-11-07T16:06:39.524Z"
   },
   {
    "cell": {
     "executionCount": 11,
     "executionEventId": "55617e14-e070-417a-8ab1-4a67113dc649",
     "hasError": true,
     "id": "aceb6f88-2f1d-46c1-b891-07c9fe2877bb",
     "outputs": [
      {
       "ename": "AttributeError",
       "evalue": "module 'pyarrow' has no attribute 'compat'",
       "output_type": "error",
       "traceback": [
        "\u001b[0;31m---------------------------------------------------------------------------\u001b[0m",
        "\u001b[0;31mAttributeError\u001b[0m                            Traceback (most recent call last)",
        "\u001b[0;32m<ipython-input-11-24ba40645368>\u001b[0m in \u001b[0;36m<module>\u001b[0;34m()\u001b[0m\n\u001b[1;32m      1\u001b[0m \u001b[0mfilename\u001b[0m \u001b[0;34m=\u001b[0m \u001b[0;34m'all_coding_scores.parquet'\u001b[0m\u001b[0;34m\u001b[0m\u001b[0;34m\u001b[0m\u001b[0m\n\u001b[0;32m----> 2\u001b[0;31m \u001b[0mall_coding_scores\u001b[0m\u001b[0;34m.\u001b[0m\u001b[0mto_parquet\u001b[0m\u001b[0;34m(\u001b[0m\u001b[0mfilename\u001b[0m\u001b[0;34m)\u001b[0m\u001b[0;34m\u001b[0m\u001b[0;34m\u001b[0m\u001b[0m\n\u001b[0m",
        "\u001b[0;32m~/miniconda3/envs/kmer-hashing/lib/python3.6/site-packages/pandas/core/frame.py\u001b[0m in \u001b[0;36mto_parquet\u001b[0;34m(self, fname, engine, compression, index, partition_cols, **kwargs)\u001b[0m\n\u001b[1;32m   2220\u001b[0m             \u001b[0mindex\u001b[0m\u001b[0;34m=\u001b[0m\u001b[0mindex\u001b[0m\u001b[0;34m,\u001b[0m\u001b[0;34m\u001b[0m\u001b[0;34m\u001b[0m\u001b[0m\n\u001b[1;32m   2221\u001b[0m             \u001b[0mpartition_cols\u001b[0m\u001b[0;34m=\u001b[0m\u001b[0mpartition_cols\u001b[0m\u001b[0;34m,\u001b[0m\u001b[0;34m\u001b[0m\u001b[0;34m\u001b[0m\u001b[0m\n\u001b[0;32m-> 2222\u001b[0;31m             \u001b[0;34m**\u001b[0m\u001b[0mkwargs\u001b[0m\u001b[0;34m\u001b[0m\u001b[0;34m\u001b[0m\u001b[0m\n\u001b[0m\u001b[1;32m   2223\u001b[0m         )\n\u001b[1;32m   2224\u001b[0m \u001b[0;34m\u001b[0m\u001b[0m\n",
        "\u001b[0;32m~/miniconda3/envs/kmer-hashing/lib/python3.6/site-packages/pandas/io/parquet.py\u001b[0m in \u001b[0;36mto_parquet\u001b[0;34m(df, path, engine, compression, index, partition_cols, **kwargs)\u001b[0m\n\u001b[1;32m    245\u001b[0m         \u001b[0mAdditional\u001b[0m \u001b[0mkeyword\u001b[0m \u001b[0marguments\u001b[0m \u001b[0mpassed\u001b[0m \u001b[0mto\u001b[0m \u001b[0mthe\u001b[0m \u001b[0mengine\u001b[0m\u001b[0;34m\u001b[0m\u001b[0;34m\u001b[0m\u001b[0m\n\u001b[1;32m    246\u001b[0m     \"\"\"\n\u001b[0;32m--> 247\u001b[0;31m     \u001b[0mimpl\u001b[0m \u001b[0;34m=\u001b[0m \u001b[0mget_engine\u001b[0m\u001b[0;34m(\u001b[0m\u001b[0mengine\u001b[0m\u001b[0;34m)\u001b[0m\u001b[0;34m\u001b[0m\u001b[0;34m\u001b[0m\u001b[0m\n\u001b[0m\u001b[1;32m    248\u001b[0m     return impl.write(\n\u001b[1;32m    249\u001b[0m         \u001b[0mdf\u001b[0m\u001b[0;34m,\u001b[0m\u001b[0;34m\u001b[0m\u001b[0;34m\u001b[0m\u001b[0m\n",
        "\u001b[0;32m~/miniconda3/envs/kmer-hashing/lib/python3.6/site-packages/pandas/io/parquet.py\u001b[0m in \u001b[0;36mget_engine\u001b[0;34m(engine)\u001b[0m\n\u001b[1;32m     20\u001b[0m         \u001b[0;31m# try engines in this order\u001b[0m\u001b[0;34m\u001b[0m\u001b[0;34m\u001b[0m\u001b[0;34m\u001b[0m\u001b[0m\n\u001b[1;32m     21\u001b[0m         \u001b[0;32mtry\u001b[0m\u001b[0;34m:\u001b[0m\u001b[0;34m\u001b[0m\u001b[0;34m\u001b[0m\u001b[0m\n\u001b[0;32m---> 22\u001b[0;31m             \u001b[0;32mreturn\u001b[0m \u001b[0mPyArrowImpl\u001b[0m\u001b[0;34m(\u001b[0m\u001b[0;34m)\u001b[0m\u001b[0;34m\u001b[0m\u001b[0;34m\u001b[0m\u001b[0m\n\u001b[0m\u001b[1;32m     23\u001b[0m         \u001b[0;32mexcept\u001b[0m \u001b[0mImportError\u001b[0m\u001b[0;34m:\u001b[0m\u001b[0;34m\u001b[0m\u001b[0;34m\u001b[0m\u001b[0m\n\u001b[1;32m     24\u001b[0m             \u001b[0;32mpass\u001b[0m\u001b[0;34m\u001b[0m\u001b[0;34m\u001b[0m\u001b[0m\n",
        "\u001b[0;32m~/miniconda3/envs/kmer-hashing/lib/python3.6/site-packages/pandas/io/parquet.py\u001b[0m in \u001b[0;36m__init__\u001b[0;34m(self)\u001b[0m\n\u001b[1;32m     76\u001b[0m     \u001b[0;32mdef\u001b[0m \u001b[0m__init__\u001b[0m\u001b[0;34m(\u001b[0m\u001b[0mself\u001b[0m\u001b[0;34m)\u001b[0m\u001b[0;34m:\u001b[0m\u001b[0;34m\u001b[0m\u001b[0;34m\u001b[0m\u001b[0m\n\u001b[1;32m     77\u001b[0m         pyarrow = import_optional_dependency(\n\u001b[0;32m---> 78\u001b[0;31m             \u001b[0;34m\"pyarrow\"\u001b[0m\u001b[0;34m,\u001b[0m \u001b[0mextra\u001b[0m\u001b[0;34m=\u001b[0m\u001b[0;34m\"pyarrow is required for parquet support.\"\u001b[0m\u001b[0;34m\u001b[0m\u001b[0;34m\u001b[0m\u001b[0m\n\u001b[0m\u001b[1;32m     79\u001b[0m         )\n\u001b[1;32m     80\u001b[0m         \u001b[0;32mimport\u001b[0m \u001b[0mpyarrow\u001b[0m\u001b[0;34m.\u001b[0m\u001b[0mparquet\u001b[0m\u001b[0;34m\u001b[0m\u001b[0;34m\u001b[0m\u001b[0m\n",
        "\u001b[0;32m~/miniconda3/envs/kmer-hashing/lib/python3.6/site-packages/pandas/compat/_optional.py\u001b[0m in \u001b[0;36mimport_optional_dependency\u001b[0;34m(name, extra, raise_on_missing, on_version)\u001b[0m\n\u001b[1;32m     88\u001b[0m     \"\"\"\n\u001b[1;32m     89\u001b[0m     \u001b[0;32mtry\u001b[0m\u001b[0;34m:\u001b[0m\u001b[0;34m\u001b[0m\u001b[0;34m\u001b[0m\u001b[0m\n\u001b[0;32m---> 90\u001b[0;31m         \u001b[0mmodule\u001b[0m \u001b[0;34m=\u001b[0m \u001b[0mimportlib\u001b[0m\u001b[0;34m.\u001b[0m\u001b[0mimport_module\u001b[0m\u001b[0;34m(\u001b[0m\u001b[0mname\u001b[0m\u001b[0;34m)\u001b[0m\u001b[0;34m\u001b[0m\u001b[0;34m\u001b[0m\u001b[0m\n\u001b[0m\u001b[1;32m     91\u001b[0m     \u001b[0;32mexcept\u001b[0m \u001b[0mImportError\u001b[0m\u001b[0;34m:\u001b[0m\u001b[0;34m\u001b[0m\u001b[0;34m\u001b[0m\u001b[0m\n\u001b[1;32m     92\u001b[0m         \u001b[0;32mif\u001b[0m \u001b[0mraise_on_missing\u001b[0m\u001b[0;34m:\u001b[0m\u001b[0;34m\u001b[0m\u001b[0;34m\u001b[0m\u001b[0m\n",
        "\u001b[0;32m~/miniconda3/envs/kmer-hashing/lib/python3.6/importlib/__init__.py\u001b[0m in \u001b[0;36mimport_module\u001b[0;34m(name, package)\u001b[0m\n\u001b[1;32m    124\u001b[0m                 \u001b[0;32mbreak\u001b[0m\u001b[0;34m\u001b[0m\u001b[0;34m\u001b[0m\u001b[0m\n\u001b[1;32m    125\u001b[0m             \u001b[0mlevel\u001b[0m \u001b[0;34m+=\u001b[0m \u001b[0;36m1\u001b[0m\u001b[0;34m\u001b[0m\u001b[0;34m\u001b[0m\u001b[0m\n\u001b[0;32m--> 126\u001b[0;31m     \u001b[0;32mreturn\u001b[0m \u001b[0m_bootstrap\u001b[0m\u001b[0;34m.\u001b[0m\u001b[0m_gcd_import\u001b[0m\u001b[0;34m(\u001b[0m\u001b[0mname\u001b[0m\u001b[0;34m[\u001b[0m\u001b[0mlevel\u001b[0m\u001b[0;34m:\u001b[0m\u001b[0;34m]\u001b[0m\u001b[0;34m,\u001b[0m \u001b[0mpackage\u001b[0m\u001b[0;34m,\u001b[0m \u001b[0mlevel\u001b[0m\u001b[0;34m)\u001b[0m\u001b[0;34m\u001b[0m\u001b[0;34m\u001b[0m\u001b[0m\n\u001b[0m\u001b[1;32m    127\u001b[0m \u001b[0;34m\u001b[0m\u001b[0m\n\u001b[1;32m    128\u001b[0m \u001b[0;34m\u001b[0m\u001b[0m\n",
        "\u001b[0;32m~/miniconda3/envs/kmer-hashing/lib/python3.6/importlib/_bootstrap.py\u001b[0m in \u001b[0;36m_gcd_import\u001b[0;34m(name, package, level)\u001b[0m\n",
        "\u001b[0;32m~/miniconda3/envs/kmer-hashing/lib/python3.6/importlib/_bootstrap.py\u001b[0m in \u001b[0;36m_find_and_load\u001b[0;34m(name, import_)\u001b[0m\n",
        "\u001b[0;32m~/miniconda3/envs/kmer-hashing/lib/python3.6/importlib/_bootstrap.py\u001b[0m in \u001b[0;36m_find_and_load_unlocked\u001b[0;34m(name, import_)\u001b[0m\n",
        "\u001b[0;32m~/miniconda3/envs/kmer-hashing/lib/python3.6/importlib/_bootstrap.py\u001b[0m in \u001b[0;36m_load_unlocked\u001b[0;34m(spec)\u001b[0m\n",
        "\u001b[0;32m~/miniconda3/envs/kmer-hashing/lib/python3.6/importlib/_bootstrap_external.py\u001b[0m in \u001b[0;36mexec_module\u001b[0;34m(self, module)\u001b[0m\n",
        "\u001b[0;32m~/miniconda3/envs/kmer-hashing/lib/python3.6/importlib/_bootstrap.py\u001b[0m in \u001b[0;36m_call_with_frames_removed\u001b[0;34m(f, *args, **kwds)\u001b[0m\n",
        "\u001b[0;32m~/miniconda3/envs/kmer-hashing/lib/python3.6/site-packages/pyarrow/__init__.py\u001b[0m in \u001b[0;36m<module>\u001b[0;34m()\u001b[0m\n\u001b[1;32m     45\u001b[0m \u001b[0;34m\u001b[0m\u001b[0m\n\u001b[1;32m     46\u001b[0m \u001b[0;34m\u001b[0m\u001b[0m\n\u001b[0;32m---> 47\u001b[0;31m \u001b[0;32mimport\u001b[0m \u001b[0mpyarrow\u001b[0m\u001b[0;34m.\u001b[0m\u001b[0mcompat\u001b[0m \u001b[0;32mas\u001b[0m \u001b[0mcompat\u001b[0m\u001b[0;34m\u001b[0m\u001b[0;34m\u001b[0m\u001b[0m\n\u001b[0m\u001b[1;32m     48\u001b[0m \u001b[0;34m\u001b[0m\u001b[0m\n\u001b[1;32m     49\u001b[0m \u001b[0;32mfrom\u001b[0m \u001b[0mpyarrow\u001b[0m\u001b[0;34m.\u001b[0m\u001b[0mlib\u001b[0m \u001b[0;32mimport\u001b[0m \u001b[0mcpu_count\u001b[0m\u001b[0;34m,\u001b[0m \u001b[0mset_cpu_count\u001b[0m\u001b[0;34m\u001b[0m\u001b[0;34m\u001b[0m\u001b[0m\n",
        "\u001b[0;31mAttributeError\u001b[0m: module 'pyarrow' has no attribute 'compat'"
       ]
      }
     ],
     "persistentId": "ad38f052-25b2-404c-b8fd-fe504cc09bd2",
     "text": "filename = 'all_coding_scores.parquet'\nall_coding_scores.to_parquet(filename)"
    },
    "executionTime": "2019-11-07T16:06:50.191Z"
   },
   {
    "cell": {
     "executionCount": 12,
     "executionEventId": "173a9a87-b455-4068-ae10-e83c2cab4cca",
     "hasError": true,
     "id": "81712c24-835e-4ebc-8332-a17cf220cad4",
     "outputs": [
      {
       "ename": "AttributeError",
       "evalue": "module 'pyarrow' has no attribute 'compat'",
       "output_type": "error",
       "traceback": [
        "\u001b[0;31m---------------------------------------------------------------------------\u001b[0m",
        "\u001b[0;31mAttributeError\u001b[0m                            Traceback (most recent call last)",
        "\u001b[0;32m<ipython-input-12-f1048abcb32d>\u001b[0m in \u001b[0;36m<module>\u001b[0;34m()\u001b[0m\n\u001b[0;32m----> 1\u001b[0;31m \u001b[0;32mimport\u001b[0m \u001b[0mpyarrow\u001b[0m\u001b[0;34m\u001b[0m\u001b[0;34m\u001b[0m\u001b[0m\n\u001b[0m",
        "\u001b[0;32m~/miniconda3/envs/kmer-hashing/lib/python3.6/site-packages/pyarrow/__init__.py\u001b[0m in \u001b[0;36m<module>\u001b[0;34m()\u001b[0m\n\u001b[1;32m     45\u001b[0m \u001b[0;34m\u001b[0m\u001b[0m\n\u001b[1;32m     46\u001b[0m \u001b[0;34m\u001b[0m\u001b[0m\n\u001b[0;32m---> 47\u001b[0;31m \u001b[0;32mimport\u001b[0m \u001b[0mpyarrow\u001b[0m\u001b[0;34m.\u001b[0m\u001b[0mcompat\u001b[0m \u001b[0;32mas\u001b[0m \u001b[0mcompat\u001b[0m\u001b[0;34m\u001b[0m\u001b[0;34m\u001b[0m\u001b[0m\n\u001b[0m\u001b[1;32m     48\u001b[0m \u001b[0;34m\u001b[0m\u001b[0m\n\u001b[1;32m     49\u001b[0m \u001b[0;32mfrom\u001b[0m \u001b[0mpyarrow\u001b[0m\u001b[0;34m.\u001b[0m\u001b[0mlib\u001b[0m \u001b[0;32mimport\u001b[0m \u001b[0mcpu_count\u001b[0m\u001b[0;34m,\u001b[0m \u001b[0mset_cpu_count\u001b[0m\u001b[0;34m\u001b[0m\u001b[0;34m\u001b[0m\u001b[0m\n",
        "\u001b[0;31mAttributeError\u001b[0m: module 'pyarrow' has no attribute 'compat'"
       ]
      }
     ],
     "persistentId": "a356f2b7-06bd-406a-bce8-1cf9b91f4416",
     "text": "import pyarrow"
    },
    "executionTime": "2019-11-07T16:08:26.109Z"
   }
  ],
  "kernelspec": {
   "display_name": "Python [conda env:kmer-hashing]",
   "language": "python",
   "name": "conda-env-kmer-hashing-py"
  },
  "language_info": {
   "codemirror_mode": {
    "name": "ipython",
    "version": 3
   },
   "file_extension": ".py",
   "mimetype": "text/x-python",
   "name": "python",
   "nbconvert_exporter": "python",
   "pygments_lexer": "ipython3",
   "version": "3.6.8"
  },
  "uuid": "90dbbc4e-690b-430d-bce0-2a94ab983f8b"
 },
 "nbformat": 4,
 "nbformat_minor": 4
}
