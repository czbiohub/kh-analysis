{
 "cells": [
  {
   "cell_type": "code",
   "execution_count": 1,
   "metadata": {
    "execution_event_id": "9f964302-97cf-464a-b607-59db91e0c88c",
    "last_executed_text": "import os\nimport glob\n\n\n# import ray\n# # use fewer CPUs so the OS doesn't run out of processes\n# ray.init(num_cpus=16)\n# import modin.pandas as pd\nimport pandas as pd\nimport seaborn as sns",
    "persistent_id": "9101ba02-87fc-4db3-be7e-3fde4f92cbc2"
   },
   "outputs": [],
   "source": [
    "import os\n",
    "import glob\n",
    "\n",
    "\n",
    "# import ray\n",
    "# # use fewer CPUs so the OS doesn't run out of processes\n",
    "# ray.init(num_cpus=16)\n",
    "# import modin.pandas as pd\n",
    "import pandas as pd\n",
    "import seaborn as sns"
   ]
  },
  {
   "cell_type": "code",
   "execution_count": 2,
   "metadata": {
    "execution_event_id": "232a8e4d-1620-408a-822c-edd54d1e7416",
    "last_executed_text": "cd ~/data_lg/kmer-hashing/brawand2011/kmermaid/results_dayhoff11_extract_coding_jaccard_threshold05/extract_coding",
    "persistent_id": "23969cb6-1090-464a-ab9f-3bcd20e4c596"
   },
   "outputs": [
    {
     "name": "stdout",
     "output_type": "stream",
     "text": [
      "/mnt/ibm_lg/olga/kmer-hashing/brawand2011/kmermaid/results_dayhoff11_extract_coding_jaccard_threshold05/extract_coding\n"
     ]
    }
   ],
   "source": [
    "cd ~/data_lg/kmer-hashing/brawand2011/kmermaid/results_dayhoff11_extract_coding_jaccard_threshold05/extract_coding"
   ]
  },
  {
   "cell_type": "markdown",
   "metadata": {},
   "source": [
    "Look at just the opossum (*Monodelphis domestica*) data for now"
   ]
  },
  {
   "cell_type": "code",
   "execution_count": 3,
   "metadata": {
    "execution_event_id": "cba5961a-66c9-4110-ab3d-bcaf549da0af",
    "last_executed_text": "ls -lha *mdo*csv",
    "persistent_id": "35248e0d-c908-4ba0-b18d-69d11c2e4169"
   },
   "outputs": [
    {
     "name": "stdout",
     "output_type": "stream",
     "text": [
      "-rw-r--r-- 1 olga olga 474M Nov  4 19:54 SRR306752_GSM752603_mdo_kd_M_1_trimmed__coding_scores.csv\n",
      "-rw-r--r-- 1 olga olga 2.1G Nov  4 13:41 SRR306753_GSM752606_mdo_lv_F_1_trimmed__coding_scores.csv\n",
      "-rw-r--r-- 1 olga olga 1.8G Nov  4 17:59 SRR306754_GSM752608_mdo_lv_M_1_trimmed__coding_scores.csv\n",
      "-rw-r--r-- 1 olga olga 1.7G Nov  4 22:26 SRR306755_GSM752611_mdo_ts_M_1_trimmed__coding_scores.csv\n",
      "-rw-r--r-- 1 olga olga 3.7G Nov  4 15:53 SRR306756_GSM752613_mdo_ts_M_2_trimmed__coding_scores.csv\n"
     ]
    }
   ],
   "source": [
    "ls -lha *mdo*csv"
   ]
  },
  {
   "cell_type": "code",
   "execution_count": 4,
   "metadata": {
    "execution_event_id": "26b195d4-7c92-4272-b663-5fb1f0a6dca8",
    "last_executed_text": "df = pd.read_csv('SRR306752_GSM752603_mdo_kd_M_1_trimmed__coding_scores.csv')\nprint(df.shape)\ndf.head()",
    "persistent_id": "5df7490d-8149-4742-a2fa-28feb4a39f78"
   },
   "outputs": [
    {
     "name": "stdout",
     "output_type": "stream",
     "text": [
      "(3748455, 5)\n"
     ]
    },
    {
     "data": {
      "text/html": [
       "<div>\n",
       "<style scoped>\n",
       "    .dataframe tbody tr th:only-of-type {\n",
       "        vertical-align: middle;\n",
       "    }\n",
       "\n",
       "    .dataframe tbody tr th {\n",
       "        vertical-align: top;\n",
       "    }\n",
       "\n",
       "    .dataframe thead th {\n",
       "        text-align: right;\n",
       "    }\n",
       "</style>\n",
       "<table border=\"1\" class=\"dataframe\">\n",
       "  <thead>\n",
       "    <tr style=\"text-align: right;\">\n",
       "      <th></th>\n",
       "      <th>read_id</th>\n",
       "      <th>jaccard_in_peptide_db</th>\n",
       "      <th>n_kmers</th>\n",
       "      <th>classification</th>\n",
       "      <th>filename</th>\n",
       "    </tr>\n",
       "  </thead>\n",
       "  <tbody>\n",
       "    <tr>\n",
       "      <td>0</td>\n",
       "      <td>SRR306752.24755 Ibis_Run090629:7:1:286:693/1</td>\n",
       "      <td>NaN</td>\n",
       "      <td>NaN</td>\n",
       "      <td>All translations shorter than peptide k-mer si...</td>\n",
       "      <td>SRR306752_GSM752603_mdo_kd_M_1_trimmed.fq.gz</td>\n",
       "    </tr>\n",
       "    <tr>\n",
       "      <td>1</td>\n",
       "      <td>SRR306752.26212 Ibis_Run090629:7:1:304:224/1</td>\n",
       "      <td>NaN</td>\n",
       "      <td>NaN</td>\n",
       "      <td>All translations shorter than peptide k-mer si...</td>\n",
       "      <td>SRR306752_GSM752603_mdo_kd_M_1_trimmed.fq.gz</td>\n",
       "    </tr>\n",
       "    <tr>\n",
       "      <td>2</td>\n",
       "      <td>SRR306752.27035 Ibis_Run090629:7:1:313:423/1</td>\n",
       "      <td>1.0</td>\n",
       "      <td>3.0</td>\n",
       "      <td>Coding</td>\n",
       "      <td>SRR306752_GSM752603_mdo_kd_M_1_trimmed.fq.gz</td>\n",
       "    </tr>\n",
       "    <tr>\n",
       "      <td>3</td>\n",
       "      <td>SRR306752.31741 Ibis_Run090629:7:1:369:831/1</td>\n",
       "      <td>NaN</td>\n",
       "      <td>NaN</td>\n",
       "      <td>All translations shorter than peptide k-mer si...</td>\n",
       "      <td>SRR306752_GSM752603_mdo_kd_M_1_trimmed.fq.gz</td>\n",
       "    </tr>\n",
       "    <tr>\n",
       "      <td>4</td>\n",
       "      <td>SRR306752.32553 Ibis_Run090629:7:1:378:170/1</td>\n",
       "      <td>0.1</td>\n",
       "      <td>10.0</td>\n",
       "      <td>Non-coding</td>\n",
       "      <td>SRR306752_GSM752603_mdo_kd_M_1_trimmed.fq.gz</td>\n",
       "    </tr>\n",
       "  </tbody>\n",
       "</table>\n",
       "</div>"
      ],
      "text/plain": [
       "                                        read_id  jaccard_in_peptide_db  \\\n",
       "0  SRR306752.24755 Ibis_Run090629:7:1:286:693/1                    NaN   \n",
       "1  SRR306752.26212 Ibis_Run090629:7:1:304:224/1                    NaN   \n",
       "2  SRR306752.27035 Ibis_Run090629:7:1:313:423/1                    1.0   \n",
       "3  SRR306752.31741 Ibis_Run090629:7:1:369:831/1                    NaN   \n",
       "4  SRR306752.32553 Ibis_Run090629:7:1:378:170/1                    0.1   \n",
       "\n",
       "   n_kmers                                     classification  \\\n",
       "0      NaN  All translations shorter than peptide k-mer si...   \n",
       "1      NaN  All translations shorter than peptide k-mer si...   \n",
       "2      3.0                                             Coding   \n",
       "3      NaN  All translations shorter than peptide k-mer si...   \n",
       "4     10.0                                         Non-coding   \n",
       "\n",
       "                                       filename  \n",
       "0  SRR306752_GSM752603_mdo_kd_M_1_trimmed.fq.gz  \n",
       "1  SRR306752_GSM752603_mdo_kd_M_1_trimmed.fq.gz  \n",
       "2  SRR306752_GSM752603_mdo_kd_M_1_trimmed.fq.gz  \n",
       "3  SRR306752_GSM752603_mdo_kd_M_1_trimmed.fq.gz  \n",
       "4  SRR306752_GSM752603_mdo_kd_M_1_trimmed.fq.gz  "
      ]
     },
     "execution_count": 4,
     "metadata": {},
     "output_type": "execute_result"
    }
   ],
   "source": [
    "df = pd.read_csv('SRR306752_GSM752603_mdo_kd_M_1_trimmed__coding_scores.csv')\n",
    "print(df.shape)\n",
    "df.head()"
   ]
  },
  {
   "cell_type": "code",
   "execution_count": 5,
   "metadata": {
    "execution_event_id": "e246cd8c-f45c-400c-8ed4-4854d443e2b9",
    "last_executed_text": "ls -lha SRR306752_GSM752603_mdo_kd_M_1_trimmed__coding_scores.csv",
    "persistent_id": "fd3fb0f0-aa33-437a-91dc-807b882e9859"
   },
   "outputs": [
    {
     "name": "stdout",
     "output_type": "stream",
     "text": [
      "-rw-r--r-- 1 olga olga 474M Nov  4 19:54 SRR306752_GSM752603_mdo_kd_M_1_trimmed__coding_scores.csv\n"
     ]
    }
   ],
   "source": [
    "ls -lha SRR306752_GSM752603_mdo_kd_M_1_trimmed__coding_scores.csv"
   ]
  },
  {
   "cell_type": "code",
   "execution_count": null,
   "metadata": {
    "execution_event_id": "756f26ae-610d-469f-ad6e-d9b87d3cbdb2",
    "last_executed_text": "%%time\n\ndfs = []\n\nfor csv in glob.glob(\"*.csv\"):\n    print(f'--- {csv} ---')\n    print(\"Reading csv ...\")\n    %time df = pd.read_csv(csv)\n    print(\"\\tDone!\")\n    parquet = csv.replace('.csv', '.parquet')\n    print(\"Writing Parquet ...\")\n    %time df.to_parquet(parquet)\n    print(\"\\tDone!\")\n    dfs.append(df)\nall_coding_scores = pd.concat(dfs)",
    "persistent_id": "e7d17187-4e34-43ca-acaa-d93622198ac4"
   },
   "outputs": [
    {
     "name": "stdout",
     "output_type": "stream",
     "text": [
      "--- SRR306827_GSM752680_ppa_br_F_2_trimmed__coding_scores.csv ---\n",
      "Reading csv ...\n",
      "CPU times: user 32.2 s, sys: 4.06 s, total: 36.3 s\n",
      "Wall time: 36.8 s\n",
      "\tDone!\n",
      "\tDone!\n",
      "--- SRR306775_GSM752629_mmu_ts_M_1_trimmed__coding_scores.csv ---\n",
      "Reading csv ...\n",
      "CPU times: user 24.3 s, sys: 3.08 s, total: 27.4 s\n",
      "Wall time: 27.9 s\n",
      "\tDone!\n",
      "\tDone!\n",
      "--- SRR306826_GSM752679_ppa_br_F_1__coding_scores.csv ---\n",
      "Reading csv ...\n",
      "CPU times: user 46.9 s, sys: 7.34 s, total: 54.3 s\n",
      "Wall time: 54.9 s\n",
      "\tDone!\n",
      "\tDone!\n",
      "--- SRR306845_GSM752698_hsa_cb_M_1_trimmed__coding_scores.csv ---\n",
      "Reading csv ...\n",
      "CPU times: user 9.99 s, sys: 1.42 s, total: 11.4 s\n",
      "Wall time: 11.7 s\n",
      "\tDone!\n",
      "\tDone!\n",
      "--- SRR306795_GSM752648_ppy_ht_M_1_trimmed__coding_scores.csv ---\n",
      "Reading csv ...\n",
      "CPU times: user 43.1 s, sys: 7.66 s, total: 50.8 s\n",
      "Wall time: 51.3 s\n",
      "\tDone!\n",
      "\tDone!\n",
      "--- SRR306839_GSM752692_hsa_br_M_3_trimmed__coding_scores.csv ---\n",
      "Reading csv ...\n",
      "CPU times: user 19.7 s, sys: 4.54 s, total: 24.3 s\n",
      "Wall time: 24.6 s\n",
      "\tDone!\n",
      "\tDone!\n",
      "--- SRR306819_GSM752672_ptr_ht_F_1_trimmed__coding_scores.csv ---\n",
      "Reading csv ...\n",
      "CPU times: user 40.5 s, sys: 8.68 s, total: 49.2 s\n",
      "Wall time: 50.5 s\n",
      "\tDone!\n",
      "\tDone!\n",
      "--- SRR306832_GSM752685_ppa_ht_M_1_trimmed__coding_scores.csv ---\n",
      "Reading csv ...\n",
      "CPU times: user 35.1 s, sys: 7.25 s, total: 42.4 s\n",
      "Wall time: 44.8 s\n",
      "\tDone!\n",
      "\tDone!\n",
      "--- SRR306789_GSM752642_mml_ts_M_1_trimmed__coding_scores.csv ---\n",
      "Reading csv ...\n",
      "CPU times: user 20.7 s, sys: 4.64 s, total: 25.3 s\n",
      "Wall time: 26.2 s\n",
      "\tDone!\n",
      "\tDone!\n",
      "--- SRR306851_GSM752702_hsa_kd_F_1_trimmed__coding_scores.csv ---\n",
      "Reading csv ...\n",
      "CPU times: user 1.6 s, sys: 420 ms, total: 2.02 s\n",
      "Wall time: 2.11 s\n",
      "\tDone!\n",
      "\tDone!\n",
      "--- SRR306777_GSM752631_mml_br_F_1_trimmed__coding_scores.csv ---\n",
      "Reading csv ...\n",
      "CPU times: user 20.8 s, sys: 3.78 s, total: 24.6 s\n",
      "Wall time: 25.3 s\n",
      "\tDone!\n",
      "\tDone!\n",
      "--- SRR306771_GSM752625_mmu_kd_M_2_trimmed__coding_scores.csv ---\n",
      "Reading csv ...\n",
      "CPU times: user 38 s, sys: 8.82 s, total: 46.8 s\n",
      "Wall time: 47.8 s\n",
      "\tDone!\n",
      "\tDone!\n",
      "--- SRR306844_GSM752697_hsa_cb_F_1_trimmed__coding_scores.csv ---\n",
      "Reading csv ...\n",
      "CPU times: user 40.2 s, sys: 9.78 s, total: 50 s\n",
      "Wall time: 51.1 s\n",
      "\tDone!\n",
      "\tDone!\n",
      "--- SRR306841_GSM752694_hsa_br_M_2_trimmed__coding_scores.csv ---\n",
      "Reading csv ...\n",
      "CPU times: user 24.9 s, sys: 5.98 s, total: 30.9 s\n",
      "Wall time: 31.3 s\n",
      "\tDone!\n",
      "\tDone!\n",
      "--- SRR306855_GSM752705_hsa_lv_M_1_trimmed__coding_scores.csv ---\n",
      "Reading csv ...\n",
      "CPU times: user 35.2 s, sys: 10.2 s, total: 45.4 s\n",
      "Wall time: 46.1 s\n",
      "\tDone!\n",
      "\tDone!\n",
      "--- SRR306807_GSM752660_ggo_kd_M_1_trimmed__coding_scores.csv ---\n",
      "Reading csv ...\n",
      "CPU times: user 38.6 s, sys: 9.13 s, total: 47.7 s\n",
      "Wall time: 48.6 s\n",
      "\tDone!\n",
      "\tDone!\n",
      "--- SRR306836_GSM752689_ppa_lv_M_1_trimmed__coding_scores.csv ---\n",
      "Reading csv ...\n",
      "CPU times: user 27.3 s, sys: 6.97 s, total: 34.2 s\n",
      "Wall time: 36.3 s\n",
      "\tDone!\n",
      "\tDone!\n",
      "--- SRR306779_GSM752633_mml_br_M_2__coding_scores.csv ---\n",
      "Reading csv ...\n",
      "CPU times: user 1min 2s, sys: 19.7 s, total: 1min 22s\n",
      "Wall time: 1min 28s\n",
      "\tDone!\n",
      "\tDone!\n",
      "--- SRR306756_GSM752613_mdo_ts_M_2_trimmed__coding_scores.csv ---\n",
      "Reading csv ...\n",
      "CPU times: user 45.7 s, sys: 12.2 s, total: 57.9 s\n",
      "Wall time: 1min 1s\n",
      "\tDone!\n",
      "\tDone!\n",
      "--- SRR306831_GSM752684_ppa_ht_F_1_trimmed__coding_scores.csv ---\n",
      "Reading csv ...\n",
      "CPU times: user 43.3 s, sys: 11.1 s, total: 54.4 s\n",
      "Wall time: 55.9 s\n",
      "\tDone!\n",
      "\tDone!\n",
      "--- SRR306847_GSM752699_hsa_ht_F_1_trimmed__coding_scores.csv ---\n",
      "Reading csv ...\n",
      "CPU times: user 664 ms, sys: 132 ms, total: 796 ms\n",
      "Wall time: 806 ms\n",
      "\tDone!\n",
      "\tDone!\n",
      "--- SRR306784_GSM752638_mml_kd_F_1_trimmed__coding_scores.csv ---\n",
      "Reading csv ...\n",
      "CPU times: user 21.3 s, sys: 5.52 s, total: 26.8 s\n",
      "Wall time: 27.8 s\n",
      "\tDone!\n",
      "\tDone!\n",
      "--- SRR306837_GSM752690_ppa_ts_M_1_trimmed__coding_scores.csv ---\n",
      "Reading csv ...\n",
      "CPU times: user 25.1 s, sys: 6.62 s, total: 31.7 s\n",
      "Wall time: 33.4 s\n",
      "\tDone!\n",
      "\tDone!\n",
      "--- SRR306780_GSM752634_mml_cb_F_1_trimmed__coding_scores.csv ---\n",
      "Reading csv ...\n",
      "CPU times: user 30.1 s, sys: 8.23 s, total: 38.4 s\n",
      "Wall time: 40.8 s\n",
      "\tDone!\n",
      "\tDone!\n",
      "--- SRR306829_GSM752682_ppa_cb_F_1_trimmed__coding_scores.csv ---\n",
      "Reading csv ...\n"
     ]
    }
   ],
   "source": [
    "%%time\n",
    "\n",
    "dfs = []\n",
    "\n",
    "for csv in glob.glob(\"*.csv\"):\n",
    "    print(f'--- {csv} ---')\n",
    "    print(\"Reading csv ...\")\n",
    "    %time df = pd.read_csv(csv)\n",
    "    print(\"\\tDone!\")\n",
    "#     parquet = csv.replace('.csv', '.parquet')\n",
    "#     print(\"Writing Parquet ...\")\n",
    "#     %time df.to_parquet(parquet)\n",
    "#     print(\"\\tDone!\")\n",
    "    dfs.append(df)\n",
    "all_coding_scores = pd.concat(dfs)"
   ]
  },
  {
   "cell_type": "code",
   "execution_count": null,
   "metadata": {},
   "outputs": [],
   "source": []
  }
 ],
 "metadata": {
  "history": [
   {
    "cell": {
     "executionCount": 1,
     "executionEventId": "a92b2b5f-4181-4ba7-a206-69598ee92ce9",
     "hasError": false,
     "id": "9be10d8b-3bb8-4179-998e-3e93be874db0",
     "outputs": [
      {
       "name": "stdout",
       "output_type": "stream",
       "text": "/mnt/ibm_lg/olga/kmer-hashing/brawand2011/kmermaid/results_dayhoff11_extract_coding_jaccard_threshold05/extract_coding\n"
      }
     ],
     "persistentId": "23969cb6-1090-464a-ab9f-3bcd20e4c596",
     "text": "cd ~/data_lg/kmer-hashing/brawand2011/kmermaid/results_dayhoff11_extract_coding_jaccard_threshold05/extract_coding"
    },
    "executionTime": "2019-11-05T16:05:28.761Z"
   },
   {
    "cell": {
     "executionCount": 2,
     "executionEventId": "0a3069ec-5518-4b4c-90a7-e8cb3a571cbc",
     "hasError": false,
     "id": "ebf44c93-6094-4cc1-9312-0cf339e812f6",
     "outputs": [],
     "persistentId": "9101ba02-87fc-4db3-be7e-3fde4f92cbc2",
     "text": "import os\nimport glob\n\nimport pandas as pd"
    },
    "executionTime": "2019-11-05T16:05:44.026Z"
   },
   {
    "cell": {
     "executionCount": 3,
     "executionEventId": "fe8fa9b2-587a-498d-92d0-e59d0d653808",
     "hasError": false,
     "id": "ebf44c93-6094-4cc1-9312-0cf339e812f6",
     "outputs": [],
     "persistentId": "9101ba02-87fc-4db3-be7e-3fde4f92cbc2",
     "text": "import os\nimport glob\n\nimport pandas as pd\nimport seaborn as sns"
    },
    "executionTime": "2019-11-05T16:05:50.056Z"
   },
   {
    "cell": {
     "executionCount": 4,
     "executionEventId": "a2ca27a9-3972-44b9-96dc-f3b734388e43",
     "hasError": false,
     "id": "4ee688af-2fae-4b56-b6a8-e94c5aca7dd8",
     "outputs": [
      {
       "name": "stdout",
       "output_type": "stream",
       "text": "-rw-r--r-- 1 root  496044303 Nov  4 19:54 SRR306752_GSM752603_mdo_kd_M_1_trimmed__coding_scores.csv\n-rw-r--r-- 1 root 2236120026 Nov  4 13:41 SRR306753_GSM752606_mdo_lv_F_1_trimmed__coding_scores.csv\n-rw-r--r-- 1 root 1839389073 Nov  4 17:59 SRR306754_GSM752608_mdo_lv_M_1_trimmed__coding_scores.csv\n-rw-r--r-- 1 root 1756350556 Nov  4 22:26 SRR306755_GSM752611_mdo_ts_M_1_trimmed__coding_scores.csv\n-rw-r--r-- 1 root 3959121094 Nov  4 15:53 SRR306756_GSM752613_mdo_ts_M_2_trimmed__coding_scores.csv\n-rw-r--r-- 1 root 3137731813 Nov  4 19:33 SRR306757_GSM752614_mmu_br_F_1_trimmed__coding_scores.csv\n-rw-r--r-- 1 olga 1616655283 Nov  4 09:57 SRR306758_GSM752615_mmu_br_M_1_trimmed__coding_scores.csv\n-rw-r--r-- 1 olga  913443492 Nov  4 11:49 SRR306759_GSM752615_mmu_br_M_1_trimmed__coding_scores.csv\n-rw-r--r-- 1 root 1716039018 Nov  4 21:44 SRR306760_GSM752615_mmu_br_M_1_trimmed__coding_scores.csv\n-rw-r--r-- 1 root 1657322856 Nov  4 15:41 SRR306761_GSM752615_mmu_br_M_1_trimmed__coding_scores.csv\n-rw-r--r-- 1 root 2000186635 Nov  4 20:10 SRR306762_GSM752616_mmu_br_M_2_trimmed__coding_scores.csv\n-rw-r--r-- 1 root 4619031559 Nov  4 21:18 SRR306763_GSM752617_mmu_cb_F_1_trimmed__coding_scores.csv\n-rw-r--r-- 1 root 2111698026 Nov  4 17:27 SRR306764_GSM752618_mmu_cb_M_1_trimmed__coding_scores.csv\n-rw-r--r-- 1 root 3316921579 Nov  4 18:07 SRR306765_GSM752619_mmu_cb_M_2_trimmed__coding_scores.csv\n-rw-r--r-- 1 root 5199165954 Nov  4 21:50 SRR306766_GSM752620_mmu_ht_F_1_trimmed__coding_scores.csv\n-rw-r--r-- 1 root 2528947855 Nov  4 21:27 SRR306767_GSM752621_mmu_ht_M_1_trimmed__coding_scores.csv\n-rw-r--r-- 1 root 2931034678 Nov  4 14:19 SRR306768_GSM752622_mmu_ht_M_2_trimmed__coding_scores.csv\n-rw-r--r-- 1 root 5448770030 Nov  5 02:43 SRR306769_GSM752623_mmu_kd_F_1_trimmed__coding_scores.csv\n-rw-r--r-- 1 root 2143835679 Nov  4 13:32 SRR306770_GSM752624_mmu_kd_M_1_trimmed__coding_scores.csv\n-rw-r--r-- 1 root 3470044840 Nov  4 20:41 SRR306771_GSM752625_mmu_kd_M_2_trimmed__coding_scores.csv\n-rw-r--r-- 1 root 5075572420 Nov  4 19:12 SRR306772_GSM752626_mmu_lv_F_1_trimmed__coding_scores.csv\n-rw-r--r-- 1 root 2047162471 Nov  4 20:22 SRR306773_GSM752627_mmu_lv_M_1_trimmed__coding_scores.csv\n-rw-r--r-- 1 root 4015869218 Nov  4 15:30 SRR306774_GSM752628_mmu_lv_M_2_trimmed__coding_scores.csv\n-rw-r--r-- 1 root 2226703789 Nov  4 13:43 SRR306775_GSM752629_mmu_ts_M_1_trimmed__coding_scores.csv\n-rw-r--r-- 1 root 3610720188 Nov  4 21:09 SRR306776_GSM752630_mmu_ts_M_2_trimmed__coding_scores.csv\n-rw-r--r-- 1 root 1954024984 Nov  4 22:21 SRR306777_GSM752631_mml_br_F_1_trimmed__coding_scores.csv\n-rw-r--r-- 1 root 1299337372 Nov  4 18:04 SRR306778_GSM752632_mml_br_M_1_trimmed__coding_scores.csv\n-rw-r--r-- 1 root 5409786695 Nov  4 17:57 SRR306779_GSM752633_mml_br_M_2__coding_scores.csv\n-rw-r--r-- 1 root 2558142244 Nov  4 13:48 SRR306780_GSM752634_mml_cb_F_1_trimmed__coding_scores.csv\n-rw-r--r-- 1 root 2242805515 Nov  4 22:17 SRR306781_GSM752635_mml_cb_M_1_trimmed__coding_scores.csv\n-rw-r--r-- 1 root 3197782181 Nov  4 14:43 SRR306782_GSM752636_mml_ht_F_1_trimmed__coding_scores.csv\n-rw-r--r-- 1 olga 2221597633 Nov  4 13:11 SRR306783_GSM752637_mml_ht_M_1_trimmed__coding_scores.csv\n-rw-r--r-- 1 root 1800600340 Nov  4 17:31 SRR306784_GSM752638_mml_kd_F_1_trimmed__coding_scores.csv\n-rw-r--r-- 1 olga 1738058919 Nov  4 09:51 SRR306785_GSM752639_mml_kd_M_1_trimmed__coding_scores.csv\n-rw-r--r-- 1 root 2316075113 Nov  4 18:14 SRR306786_GSM752640_mml_lv_F_1_trimmed__coding_scores.csv\n-rw-r--r-- 1 olga  900586682 Nov  4 12:09 SRR306787_GSM752641_mml_lv_M_1_trimmed__coding_scores.csv\n-rw-r--r-- 1 root 2518997970 Nov  4 15:11 SRR306788_GSM752641_mml_lv_M_1_trimmed__coding_scores.csv\n-rw-r--r-- 1 root 1918482330 Nov  4 18:19 SRR306789_GSM752642_mml_ts_M_1_trimmed__coding_scores.csv\n-rw-r--r-- 1 root 4041346175 Nov  5 00:36 SRR306790_GSM752643_mml_ts_M_2_trimmed__coding_scores.csv\n-rw-r--r-- 1 root 4431570845 Nov  4 22:54 SRR306791_GSM752644_ppy_br_F_1_trimmed__coding_scores.csv\n-rw-r--r-- 1 root 4517896960 Nov  4 16:39 SRR306792_GSM752645_ppy_br_M_1__coding_scores.csv\n-rw-r--r-- 1 root 2158803124 Nov  4 16:02 SRR306793_GSM752646_ppy_cb_F_1_trimmed__coding_scores.csv\n-rw-r--r-- 1 root 4232342379 Nov  4 15:57 SRR306794_GSM752647_ppy_ht_F_1_trimmed__coding_scores.csv\n-rw-r--r-- 1 root 3956101818 Nov  4 15:44 SRR306795_GSM752648_ppy_ht_M_1_trimmed__coding_scores.csv\n-rw-r--r-- 1 root 3652314035 Nov  4 15:04 SRR306796_GSM752649_ppy_kd_F_1_trimmed__coding_scores.csv\n-rw-r--r-- 1 root 3559798636 Nov  4 19:30 SRR306797_GSM752650_ppy_kd_M_1_trimmed__coding_scores.csv\n-rw-r--r-- 1 root 2563483589 Nov  4 18:45 SRR306798_GSM752651_ppy_lv_F_1_trimmed__coding_scores.csv\n-rw-r--r-- 1 root 4393458428 Nov  4 20:08 SRR306799_GSM752652_ppy_lv_M_1_trimmed__coding_scores.csv\n-rw-r--r-- 1 root 4518172482 Nov  4 21:38 SRR306800_GSM752653_ggo_br_F_1_trimmed__coding_scores.csv\n-rw-r--r-- 1 root 4124108919 Nov  4 16:24 SRR306801_GSM752654_ggo_br_M_1__coding_scores.csv\n-rw-r--r-- 1 root 3538542577 Nov  4 20:04 SRR306802_GSM752655_ggo_cb_F_1_trimmed__coding_scores.csv\n-rw-r--r-- 1 root 2275451604 Nov  4 18:32 SRR306803_GSM752656_ggo_cb_M_1_trimmed__coding_scores.csv\n-rw-r--r-- 1 root 3526188565 Nov  4 15:08 SRR306804_GSM752657_ggo_ht_F_1_trimmed__coding_scores.csv\n-rw-r--r-- 1 root 3676455244 Nov  4 21:42 SRR306805_GSM752658_ggo_ht_M_1_trimmed__coding_scores.csv\n-rw-r--r-- 1 root 2149408377 Nov  4 20:56 SRR306806_GSM752659_ggo_kd_F_1_trimmed__coding_scores.csv\n-rw-r--r-- 1 root 3435927101 Nov  4 16:20 SRR306807_GSM752660_ggo_kd_M_1_trimmed__coding_scores.csv\n-rw-r--r-- 1 root 3861757070 Nov  4 15:38 SRR306808_GSM752661_ggo_lv_F_1_trimmed__coding_scores.csv\n-rw-r--r-- 1 root 4251866731 Nov  5 00:05 SRR306809_GSM752662_ggo_lv_M_1_trimmed__coding_scores.csv\n-rw-r--r-- 1 root 2375020958 Nov  4 17:24 SRR306810_GSM752663_ggo_ts_M_1_trimmed__coding_scores.csv\n-rw-r--r-- 1 root 2456928970 Nov  4 20:20 SRR306811_GSM752664_ptr_br_F_1_trimmed__coding_scores.csv\n-rw-r--r-- 1 root 3450353029 Nov  4 15:27 SRR306812_GSM752665_ptr_br_M_1__coding_scores.csv\n-rw-r--r-- 1 root 5238331582 Nov  4 17:21 SRR306813_GSM752666_ptr_br_M_2__coding_scores.csv\n-rw-r--r-- 1 root 4002973142 Nov  4 22:12 SRR306814_GSM752667_ptr_br_M_3__coding_scores.csv\n-rw-r--r-- 1 root 5828303677 Nov  5 01:02 SRR306815_GSM752668_ptr_br_M_4__coding_scores.csv\n-rw-r--r-- 1 root 6194342728 Nov  4 18:42 SRR306816_GSM752669_ptr_br_M_5__coding_scores.csv\n-rw-r--r-- 1 root 4088285142 Nov  4 22:36 SRR306817_GSM752670_ptr_cb_F_1_trimmed__coding_scores.csv\n-rw-r--r-- 1 root 2133491533 Nov  4 13:37 SRR306818_GSM752671_ptr_cb_M_1_trimmed__coding_scores.csv\n-rw-r--r-- 1 root 3720302711 Nov  4 18:03 SRR306819_GSM752672_ptr_ht_F_1_trimmed__coding_scores.csv\n-rw-r--r-- 1 root 5081129613 Nov  4 23:51 SRR306820_GSM752673_ptr_ht_M_1_trimmed__coding_scores.csv\n-rw-r--r-- 1 root 3138986176 Nov  4 22:09 SRR306821_GSM752674_ptr_kd_F_1_trimmed__coding_scores.csv\n-rw-r--r-- 1 root 4202308137 Nov  4 21:01 SRR306822_GSM752675_ptr_kd_M_1_trimmed__coding_scores.csv\n-rw-r--r-- 1 root 3671949785 Nov  4 15:34 SRR306823_GSM752676_ptr_lv_F_1_trimmed__coding_scores.csv\n-rw-r--r-- 1 root 2139425195 Nov  4 16:07 SRR306824_GSM752677_ptr_lv_M_1_trimmed__coding_scores.csv\n-rw-r--r-- 1 root 2868387113 Nov  4 17:50 SRR306825_GSM752678_ptr_ts_M_1_trimmed__coding_scores.csv\n-rw-r--r-- 1 root 4290058125 Nov  4 16:32 SRR306826_GSM752679_ppa_br_F_1__coding_scores.csv\n-rw-r--r-- 1 root 3099547036 Nov  5 00:09 SRR306827_GSM752680_ppa_br_F_2_trimmed__coding_scores.csv\n-rw-r--r-- 1 root 4707176154 Nov  4 21:57 SRR306828_GSM752681_ppa_br_M_1_trimmed__coding_scores.csv\n-rw-r--r-- 1 root 3570745823 Nov  4 22:24 SRR306829_GSM752682_ppa_cb_F_1_trimmed__coding_scores.csv\n-rw-r--r-- 1 root 4280769200 Nov  4 23:39 SRR306830_GSM752683_ppa_cb_M_1_trimmed__coding_scores.csv\n-rw-r--r-- 1 root 3696114826 Nov  4 22:01 SRR306831_GSM752684_ppa_ht_F_1_trimmed__coding_scores.csv\n-rw-r--r-- 1 root 3203906164 Nov  4 14:36 SRR306832_GSM752685_ppa_ht_M_1_trimmed__coding_scores.csv\n-rw-r--r-- 1 root 3814796020 Nov  4 22:15 SRR306833_GSM752686_ppa_kd_F_1_trimmed__coding_scores.csv\n-rw-r--r-- 1 root 3166681743 Nov  4 14:46 SRR306834_GSM752687_ppa_kd_M_1_trimmed__coding_scores.csv\n-rw-r--r-- 1 root 3449034301 Nov  4 17:47 SRR306835_GSM752688_ppa_lv_F_1_trimmed__coding_scores.csv\n-rw-r--r-- 1 olga 2223238934 Nov  4 13:26 SRR306836_GSM752689_ppa_lv_M_1_trimmed__coding_scores.csv\n-rw-r--r-- 1 olga 1946023808 Nov  4 13:21 SRR306837_GSM752690_ppa_ts_M_1_trimmed__coding_scores.csv\n-rw-r--r-- 1 olga  102525557 Nov  4 11:05 SRR306838_GSM752691_hsa_br_F_1_trimmed__coding_scores.csv\n-rw-r--r-- 1 root 1864924283 Nov  4 21:06 SRR306839_GSM752692_hsa_br_M_3_trimmed__coding_scores.csv\n-rw-r--r-- 1 root 5937741535 Nov  4 18:18 SRR306840_GSM752693_hsa_br_M_1__coding_scores.csv\n-rw-r--r-- 1 root 2275720960 Nov  4 15:49 SRR306841_GSM752694_hsa_br_M_2_trimmed__coding_scores.csv\n-rw-r--r-- 1 root 4122648306 Nov  4 16:00 SRR306842_GSM752695_hsa_br_M_4__coding_scores.csv\n-rw-r--r-- 1 olga  548966988 Nov  4 11:38 SRR306843_GSM752696_hsa_br_M_5_trimmed__coding_scores.csv\n-rw-r--r-- 1 root 3619932900 Nov  5 00:13 SRR306844_GSM752697_hsa_cb_F_1_trimmed__coding_scores.csv\n-rw-r--r-- 1 olga  936669182 Nov  4 13:02 SRR306845_GSM752698_hsa_cb_M_1_trimmed__coding_scores.csv\n-rw-r--r-- 1 root 2116895712 Nov  4 20:43 SRR306846_GSM752698_hsa_cb_M_1_trimmed__coding_scores.csv\n-rw-r--r-- 1 olga   51159957 Nov  3 15:19 SRR306847_GSM752699_hsa_ht_F_1_trimmed__coding_scores.csv\n-rw-r--r-- 1 root  896603066 Nov  4 16:50 SRR306848_GSM752700_hsa_ht_M_1_trimmed__coding_scores.csv\n-rw-r--r-- 1 root 1794559275 Nov  4 16:05 SRR306849_GSM752700_hsa_ht_M_1_trimmed__coding_scores.csv\n-rw-r--r-- 1 root 3124639709 Nov  4 21:53 SRR306850_GSM752701_hsa_ht_M_2_trimmed__coding_scores.csv\n-rw-r--r-- 1 olga  147370218 Nov  4 11:09 SRR306851_GSM752702_hsa_kd_F_1_trimmed__coding_scores.csv\n-rw-r--r-- 1 root 3427611709 Nov  4 17:53 SRR306853_GSM752704_hsa_kd_M_2_trimmed__coding_scores.csv\n-rw-r--r-- 1 olga  612304417 Nov  4 12:11 SRR306854_GSM752705_hsa_lv_M_1_trimmed__coding_scores.csv\n-rw-r--r-- 1 root 2988670072 Nov  4 18:22 SRR306855_GSM752705_hsa_lv_M_1_trimmed__coding_scores.csv\n-rw-r--r-- 1 root 2871086977 Nov  4 23:36 SRR306856_GSM752706_hsa_lv_M_2_trimmed__coding_scores.csv\n-rw-r--r-- 1 root  470293375 Nov  4 18:03 SRR306857_GSM752707_hsa_ts_M_1_trimmed__coding_scores.csv\n-rw-r--r-- 1 root 3906062057 Nov  4 20:47 SRR306858_GSM752708_hsa_ts_M_2_trimmed__coding_scores.csv\n-rw-rw-r-- 1 olga      12713 Nov  4 13:28 test.csv\n"
      }
     ],
     "persistentId": "35248e0d-c908-4ba0-b18d-69d11c2e4169",
     "text": "ll *csv"
    },
    "executionTime": "2019-11-05T16:08:35.342Z"
   },
   {
    "cell": {
     "executionCount": 6,
     "executionEventId": "86e4c295-6ec7-4d1f-88a8-f9dbacee9f34",
     "hasError": false,
     "id": "44408e4f-b497-48fa-a4f3-f9774e9d1f77",
     "outputs": [
      {
       "name": "stdout",
       "output_type": "stream",
       "text": "(3748455, 5)\n"
      },
      {
       "data": {
        "text/html": "<div>\n<style scoped>\n    .dataframe tbody tr th:only-of-type {\n        vertical-align: middle;\n    }\n\n    .dataframe tbody tr th {\n        vertical-align: top;\n    }\n\n    .dataframe thead th {\n        text-align: right;\n    }\n</style>\n<table border=\"1\" class=\"dataframe\">\n  <thead>\n    <tr style=\"text-align: right;\">\n      <th></th>\n      <th>read_id</th>\n      <th>jaccard_in_peptide_db</th>\n      <th>n_kmers</th>\n      <th>classification</th>\n      <th>filename</th>\n    </tr>\n  </thead>\n  <tbody>\n    <tr>\n      <th>0</th>\n      <td>SRR306752.24755 Ibis_Run090629:7:1:286:693/1</td>\n      <td>NaN</td>\n      <td>NaN</td>\n      <td>All translations shorter than peptide k-mer si...</td>\n      <td>SRR306752_GSM752603_mdo_kd_M_1_trimmed.fq.gz</td>\n    </tr>\n    <tr>\n      <th>1</th>\n      <td>SRR306752.26212 Ibis_Run090629:7:1:304:224/1</td>\n      <td>NaN</td>\n      <td>NaN</td>\n      <td>All translations shorter than peptide k-mer si...</td>\n      <td>SRR306752_GSM752603_mdo_kd_M_1_trimmed.fq.gz</td>\n    </tr>\n    <tr>\n      <th>2</th>\n      <td>SRR306752.27035 Ibis_Run090629:7:1:313:423/1</td>\n      <td>1.0</td>\n      <td>3.0</td>\n      <td>Coding</td>\n      <td>SRR306752_GSM752603_mdo_kd_M_1_trimmed.fq.gz</td>\n    </tr>\n    <tr>\n      <th>3</th>\n      <td>SRR306752.31741 Ibis_Run090629:7:1:369:831/1</td>\n      <td>NaN</td>\n      <td>NaN</td>\n      <td>All translations shorter than peptide k-mer si...</td>\n      <td>SRR306752_GSM752603_mdo_kd_M_1_trimmed.fq.gz</td>\n    </tr>\n    <tr>\n      <th>4</th>\n      <td>SRR306752.32553 Ibis_Run090629:7:1:378:170/1</td>\n      <td>0.1</td>\n      <td>10.0</td>\n      <td>Non-coding</td>\n      <td>SRR306752_GSM752603_mdo_kd_M_1_trimmed.fq.gz</td>\n    </tr>\n  </tbody>\n</table>\n</div>",
        "text/plain": "                                        read_id  jaccard_in_peptide_db  \\\n0  SRR306752.24755 Ibis_Run090629:7:1:286:693/1                    NaN   \n1  SRR306752.26212 Ibis_Run090629:7:1:304:224/1                    NaN   \n2  SRR306752.27035 Ibis_Run090629:7:1:313:423/1                    1.0   \n3  SRR306752.31741 Ibis_Run090629:7:1:369:831/1                    NaN   \n4  SRR306752.32553 Ibis_Run090629:7:1:378:170/1                    0.1   \n\n   n_kmers                                     classification  \\\n0      NaN  All translations shorter than peptide k-mer si...   \n1      NaN  All translations shorter than peptide k-mer si...   \n2      3.0                                             Coding   \n3      NaN  All translations shorter than peptide k-mer si...   \n4     10.0                                         Non-coding   \n\n                                       filename  \n0  SRR306752_GSM752603_mdo_kd_M_1_trimmed.fq.gz  \n1  SRR306752_GSM752603_mdo_kd_M_1_trimmed.fq.gz  \n2  SRR306752_GSM752603_mdo_kd_M_1_trimmed.fq.gz  \n3  SRR306752_GSM752603_mdo_kd_M_1_trimmed.fq.gz  \n4  SRR306752_GSM752603_mdo_kd_M_1_trimmed.fq.gz  "
       },
       "execution_count": 6,
       "metadata": {},
       "output_type": "execute_result"
      }
     ],
     "persistentId": "5df7490d-8149-4742-a2fa-28feb4a39f78",
     "text": "df = pd.read_csv('SRR306752_GSM752603_mdo_kd_M_1_trimmed__coding_scores.csv')\nprint(df.shape)\ndf.head()"
    },
    "executionTime": "2019-11-05T16:09:00.932Z"
   },
   {
    "cell": {
     "executionCount": 7,
     "executionEventId": "1ca02902-725e-42ff-89c3-4abdf113d7b2",
     "hasError": false,
     "id": "4ee688af-2fae-4b56-b6a8-e94c5aca7dd8",
     "outputs": [
      {
       "name": "stdout",
       "output_type": "stream",
       "text": "-rw-r--r-- 1 root root 474M Nov  4 19:54 SRR306752_GSM752603_mdo_kd_M_1_trimmed__coding_scores.csv\n-rw-r--r-- 1 root root 2.1G Nov  4 13:41 SRR306753_GSM752606_mdo_lv_F_1_trimmed__coding_scores.csv\n-rw-r--r-- 1 root root 1.8G Nov  4 17:59 SRR306754_GSM752608_mdo_lv_M_1_trimmed__coding_scores.csv\n-rw-r--r-- 1 root root 1.7G Nov  4 22:26 SRR306755_GSM752611_mdo_ts_M_1_trimmed__coding_scores.csv\n-rw-r--r-- 1 root root 3.7G Nov  4 15:53 SRR306756_GSM752613_mdo_ts_M_2_trimmed__coding_scores.csv\n-rw-r--r-- 1 root root 3.0G Nov  4 19:33 SRR306757_GSM752614_mmu_br_F_1_trimmed__coding_scores.csv\n-rw-r--r-- 1 olga olga 1.6G Nov  4 09:57 SRR306758_GSM752615_mmu_br_M_1_trimmed__coding_scores.csv\n-rw-r--r-- 1 olga olga 872M Nov  4 11:49 SRR306759_GSM752615_mmu_br_M_1_trimmed__coding_scores.csv\n-rw-r--r-- 1 root root 1.6G Nov  4 21:44 SRR306760_GSM752615_mmu_br_M_1_trimmed__coding_scores.csv\n-rw-r--r-- 1 root root 1.6G Nov  4 15:41 SRR306761_GSM752615_mmu_br_M_1_trimmed__coding_scores.csv\n-rw-r--r-- 1 root root 1.9G Nov  4 20:10 SRR306762_GSM752616_mmu_br_M_2_trimmed__coding_scores.csv\n-rw-r--r-- 1 root root 4.4G Nov  4 21:18 SRR306763_GSM752617_mmu_cb_F_1_trimmed__coding_scores.csv\n-rw-r--r-- 1 root root 2.0G Nov  4 17:27 SRR306764_GSM752618_mmu_cb_M_1_trimmed__coding_scores.csv\n-rw-r--r-- 1 root root 3.1G Nov  4 18:07 SRR306765_GSM752619_mmu_cb_M_2_trimmed__coding_scores.csv\n-rw-r--r-- 1 root root 4.9G Nov  4 21:50 SRR306766_GSM752620_mmu_ht_F_1_trimmed__coding_scores.csv\n-rw-r--r-- 1 root root 2.4G Nov  4 21:27 SRR306767_GSM752621_mmu_ht_M_1_trimmed__coding_scores.csv\n-rw-r--r-- 1 root root 2.8G Nov  4 14:19 SRR306768_GSM752622_mmu_ht_M_2_trimmed__coding_scores.csv\n-rw-r--r-- 1 root root 5.1G Nov  5 02:43 SRR306769_GSM752623_mmu_kd_F_1_trimmed__coding_scores.csv\n-rw-r--r-- 1 root root 2.0G Nov  4 13:32 SRR306770_GSM752624_mmu_kd_M_1_trimmed__coding_scores.csv\n-rw-r--r-- 1 root root 3.3G Nov  4 20:41 SRR306771_GSM752625_mmu_kd_M_2_trimmed__coding_scores.csv\n-rw-r--r-- 1 root root 4.8G Nov  4 19:12 SRR306772_GSM752626_mmu_lv_F_1_trimmed__coding_scores.csv\n-rw-r--r-- 1 root root 2.0G Nov  4 20:22 SRR306773_GSM752627_mmu_lv_M_1_trimmed__coding_scores.csv\n-rw-r--r-- 1 root root 3.8G Nov  4 15:30 SRR306774_GSM752628_mmu_lv_M_2_trimmed__coding_scores.csv\n-rw-r--r-- 1 root root 2.1G Nov  4 13:43 SRR306775_GSM752629_mmu_ts_M_1_trimmed__coding_scores.csv\n-rw-r--r-- 1 root root 3.4G Nov  4 21:09 SRR306776_GSM752630_mmu_ts_M_2_trimmed__coding_scores.csv\n-rw-r--r-- 1 root root 1.9G Nov  4 22:21 SRR306777_GSM752631_mml_br_F_1_trimmed__coding_scores.csv\n-rw-r--r-- 1 root root 1.3G Nov  4 18:04 SRR306778_GSM752632_mml_br_M_1_trimmed__coding_scores.csv\n-rw-r--r-- 1 root root 5.1G Nov  4 17:57 SRR306779_GSM752633_mml_br_M_2__coding_scores.csv\n-rw-r--r-- 1 root root 2.4G Nov  4 13:48 SRR306780_GSM752634_mml_cb_F_1_trimmed__coding_scores.csv\n-rw-r--r-- 1 root root 2.1G Nov  4 22:17 SRR306781_GSM752635_mml_cb_M_1_trimmed__coding_scores.csv\n-rw-r--r-- 1 root root 3.0G Nov  4 14:43 SRR306782_GSM752636_mml_ht_F_1_trimmed__coding_scores.csv\n-rw-r--r-- 1 olga olga 2.1G Nov  4 13:11 SRR306783_GSM752637_mml_ht_M_1_trimmed__coding_scores.csv\n-rw-r--r-- 1 root root 1.7G Nov  4 17:31 SRR306784_GSM752638_mml_kd_F_1_trimmed__coding_scores.csv\n-rw-r--r-- 1 olga olga 1.7G Nov  4 09:51 SRR306785_GSM752639_mml_kd_M_1_trimmed__coding_scores.csv\n-rw-r--r-- 1 root root 2.2G Nov  4 18:14 SRR306786_GSM752640_mml_lv_F_1_trimmed__coding_scores.csv\n-rw-r--r-- 1 olga olga 859M Nov  4 12:09 SRR306787_GSM752641_mml_lv_M_1_trimmed__coding_scores.csv\n-rw-r--r-- 1 root root 2.4G Nov  4 15:11 SRR306788_GSM752641_mml_lv_M_1_trimmed__coding_scores.csv\n-rw-r--r-- 1 root root 1.8G Nov  4 18:19 SRR306789_GSM752642_mml_ts_M_1_trimmed__coding_scores.csv\n-rw-r--r-- 1 root root 3.8G Nov  5 00:36 SRR306790_GSM752643_mml_ts_M_2_trimmed__coding_scores.csv\n-rw-r--r-- 1 root root 4.2G Nov  4 22:54 SRR306791_GSM752644_ppy_br_F_1_trimmed__coding_scores.csv\n-rw-r--r-- 1 root root 4.3G Nov  4 16:39 SRR306792_GSM752645_ppy_br_M_1__coding_scores.csv\n-rw-r--r-- 1 root root 2.1G Nov  4 16:02 SRR306793_GSM752646_ppy_cb_F_1_trimmed__coding_scores.csv\n-rw-r--r-- 1 root root 4.0G Nov  4 15:57 SRR306794_GSM752647_ppy_ht_F_1_trimmed__coding_scores.csv\n-rw-r--r-- 1 root root 3.7G Nov  4 15:44 SRR306795_GSM752648_ppy_ht_M_1_trimmed__coding_scores.csv\n-rw-r--r-- 1 root root 3.5G Nov  4 15:04 SRR306796_GSM752649_ppy_kd_F_1_trimmed__coding_scores.csv\n-rw-r--r-- 1 root root 3.4G Nov  4 19:30 SRR306797_GSM752650_ppy_kd_M_1_trimmed__coding_scores.csv\n-rw-r--r-- 1 root root 2.4G Nov  4 18:45 SRR306798_GSM752651_ppy_lv_F_1_trimmed__coding_scores.csv\n-rw-r--r-- 1 root root 4.1G Nov  4 20:08 SRR306799_GSM752652_ppy_lv_M_1_trimmed__coding_scores.csv\n-rw-r--r-- 1 root root 4.3G Nov  4 21:38 SRR306800_GSM752653_ggo_br_F_1_trimmed__coding_scores.csv\n-rw-r--r-- 1 root root 3.9G Nov  4 16:24 SRR306801_GSM752654_ggo_br_M_1__coding_scores.csv\n-rw-r--r-- 1 root root 3.3G Nov  4 20:04 SRR306802_GSM752655_ggo_cb_F_1_trimmed__coding_scores.csv\n-rw-r--r-- 1 root root 2.2G Nov  4 18:32 SRR306803_GSM752656_ggo_cb_M_1_trimmed__coding_scores.csv\n-rw-r--r-- 1 root root 3.3G Nov  4 15:08 SRR306804_GSM752657_ggo_ht_F_1_trimmed__coding_scores.csv\n-rw-r--r-- 1 root root 3.5G Nov  4 21:42 SRR306805_GSM752658_ggo_ht_M_1_trimmed__coding_scores.csv\n-rw-r--r-- 1 root root 2.1G Nov  4 20:56 SRR306806_GSM752659_ggo_kd_F_1_trimmed__coding_scores.csv\n-rw-r--r-- 1 root root 3.2G Nov  4 16:20 SRR306807_GSM752660_ggo_kd_M_1_trimmed__coding_scores.csv\n-rw-r--r-- 1 root root 3.6G Nov  4 15:38 SRR306808_GSM752661_ggo_lv_F_1_trimmed__coding_scores.csv\n-rw-r--r-- 1 root root 4.0G Nov  5 00:05 SRR306809_GSM752662_ggo_lv_M_1_trimmed__coding_scores.csv\n-rw-r--r-- 1 root root 2.3G Nov  4 17:24 SRR306810_GSM752663_ggo_ts_M_1_trimmed__coding_scores.csv\n-rw-r--r-- 1 root root 2.3G Nov  4 20:20 SRR306811_GSM752664_ptr_br_F_1_trimmed__coding_scores.csv\n-rw-r--r-- 1 root root 3.3G Nov  4 15:27 SRR306812_GSM752665_ptr_br_M_1__coding_scores.csv\n-rw-r--r-- 1 root root 4.9G Nov  4 17:21 SRR306813_GSM752666_ptr_br_M_2__coding_scores.csv\n-rw-r--r-- 1 root root 3.8G Nov  4 22:12 SRR306814_GSM752667_ptr_br_M_3__coding_scores.csv\n-rw-r--r-- 1 root root 5.5G Nov  5 01:02 SRR306815_GSM752668_ptr_br_M_4__coding_scores.csv\n-rw-r--r-- 1 root root 5.8G Nov  4 18:42 SRR306816_GSM752669_ptr_br_M_5__coding_scores.csv\n-rw-r--r-- 1 root root 3.9G Nov  4 22:36 SRR306817_GSM752670_ptr_cb_F_1_trimmed__coding_scores.csv\n-rw-r--r-- 1 root root 2.0G Nov  4 13:37 SRR306818_GSM752671_ptr_cb_M_1_trimmed__coding_scores.csv\n-rw-r--r-- 1 root root 3.5G Nov  4 18:03 SRR306819_GSM752672_ptr_ht_F_1_trimmed__coding_scores.csv\n-rw-r--r-- 1 root root 4.8G Nov  4 23:51 SRR306820_GSM752673_ptr_ht_M_1_trimmed__coding_scores.csv\n-rw-r--r-- 1 root root 3.0G Nov  4 22:09 SRR306821_GSM752674_ptr_kd_F_1_trimmed__coding_scores.csv\n-rw-r--r-- 1 root root 4.0G Nov  4 21:01 SRR306822_GSM752675_ptr_kd_M_1_trimmed__coding_scores.csv\n-rw-r--r-- 1 root root 3.5G Nov  4 15:34 SRR306823_GSM752676_ptr_lv_F_1_trimmed__coding_scores.csv\n-rw-r--r-- 1 root root 2.0G Nov  4 16:07 SRR306824_GSM752677_ptr_lv_M_1_trimmed__coding_scores.csv\n-rw-r--r-- 1 root root 2.7G Nov  4 17:50 SRR306825_GSM752678_ptr_ts_M_1_trimmed__coding_scores.csv\n-rw-r--r-- 1 root root 4.0G Nov  4 16:32 SRR306826_GSM752679_ppa_br_F_1__coding_scores.csv\n-rw-r--r-- 1 root root 2.9G Nov  5 00:09 SRR306827_GSM752680_ppa_br_F_2_trimmed__coding_scores.csv\n-rw-r--r-- 1 root root 4.4G Nov  4 21:57 SRR306828_GSM752681_ppa_br_M_1_trimmed__coding_scores.csv\n-rw-r--r-- 1 root root 3.4G Nov  4 22:24 SRR306829_GSM752682_ppa_cb_F_1_trimmed__coding_scores.csv\n-rw-r--r-- 1 root root 4.0G Nov  4 23:39 SRR306830_GSM752683_ppa_cb_M_1_trimmed__coding_scores.csv\n-rw-r--r-- 1 root root 3.5G Nov  4 22:01 SRR306831_GSM752684_ppa_ht_F_1_trimmed__coding_scores.csv\n-rw-r--r-- 1 root root 3.0G Nov  4 14:36 SRR306832_GSM752685_ppa_ht_M_1_trimmed__coding_scores.csv\n-rw-r--r-- 1 root root 3.6G Nov  4 22:15 SRR306833_GSM752686_ppa_kd_F_1_trimmed__coding_scores.csv\n-rw-r--r-- 1 root root 3.0G Nov  4 14:46 SRR306834_GSM752687_ppa_kd_M_1_trimmed__coding_scores.csv\n-rw-r--r-- 1 root root 3.3G Nov  4 17:47 SRR306835_GSM752688_ppa_lv_F_1_trimmed__coding_scores.csv\n-rw-r--r-- 1 olga olga 2.1G Nov  4 13:26 SRR306836_GSM752689_ppa_lv_M_1_trimmed__coding_scores.csv\n-rw-r--r-- 1 olga olga 1.9G Nov  4 13:21 SRR306837_GSM752690_ppa_ts_M_1_trimmed__coding_scores.csv\n-rw-r--r-- 1 olga olga  98M Nov  4 11:05 SRR306838_GSM752691_hsa_br_F_1_trimmed__coding_scores.csv\n-rw-r--r-- 1 root root 1.8G Nov  4 21:06 SRR306839_GSM752692_hsa_br_M_3_trimmed__coding_scores.csv\n-rw-r--r-- 1 root root 5.6G Nov  4 18:18 SRR306840_GSM752693_hsa_br_M_1__coding_scores.csv\n-rw-r--r-- 1 root root 2.2G Nov  4 15:49 SRR306841_GSM752694_hsa_br_M_2_trimmed__coding_scores.csv\n-rw-r--r-- 1 root root 3.9G Nov  4 16:00 SRR306842_GSM752695_hsa_br_M_4__coding_scores.csv\n-rw-r--r-- 1 olga olga 524M Nov  4 11:38 SRR306843_GSM752696_hsa_br_M_5_trimmed__coding_scores.csv\n-rw-r--r-- 1 root root 3.4G Nov  5 00:13 SRR306844_GSM752697_hsa_cb_F_1_trimmed__coding_scores.csv\n-rw-r--r-- 1 olga olga 894M Nov  4 13:02 SRR306845_GSM752698_hsa_cb_M_1_trimmed__coding_scores.csv\n-rw-r--r-- 1 root root 2.0G Nov  4 20:43 SRR306846_GSM752698_hsa_cb_M_1_trimmed__coding_scores.csv\n-rw-r--r-- 1 olga olga  49M Nov  3 15:19 SRR306847_GSM752699_hsa_ht_F_1_trimmed__coding_scores.csv\n-rw-r--r-- 1 root root 856M Nov  4 16:50 SRR306848_GSM752700_hsa_ht_M_1_trimmed__coding_scores.csv\n-rw-r--r-- 1 root root 1.7G Nov  4 16:05 SRR306849_GSM752700_hsa_ht_M_1_trimmed__coding_scores.csv\n-rw-r--r-- 1 root root 3.0G Nov  4 21:53 SRR306850_GSM752701_hsa_ht_M_2_trimmed__coding_scores.csv\n-rw-r--r-- 1 olga olga 141M Nov  4 11:09 SRR306851_GSM752702_hsa_kd_F_1_trimmed__coding_scores.csv\n-rw-r--r-- 1 root root 3.2G Nov  4 17:53 SRR306853_GSM752704_hsa_kd_M_2_trimmed__coding_scores.csv\n-rw-r--r-- 1 olga olga 584M Nov  4 12:11 SRR306854_GSM752705_hsa_lv_M_1_trimmed__coding_scores.csv\n-rw-r--r-- 1 root root 2.8G Nov  4 18:22 SRR306855_GSM752705_hsa_lv_M_1_trimmed__coding_scores.csv\n-rw-r--r-- 1 root root 2.7G Nov  4 23:36 SRR306856_GSM752706_hsa_lv_M_2_trimmed__coding_scores.csv\n-rw-r--r-- 1 root root 449M Nov  4 18:03 SRR306857_GSM752707_hsa_ts_M_1_trimmed__coding_scores.csv\n-rw-r--r-- 1 root root 3.7G Nov  4 20:47 SRR306858_GSM752708_hsa_ts_M_2_trimmed__coding_scores.csv\n-rw-rw-r-- 1 olga olga  13K Nov  4 13:28 test.csv\n"
      }
     ],
     "persistentId": "35248e0d-c908-4ba0-b18d-69d11c2e4169",
     "text": "ls -lha *csv"
    },
    "executionTime": "2019-11-05T16:09:01.039Z"
   },
   {
    "cell": {
     "executionCount": 1,
     "executionEventId": "2ff7f817-aeac-41b9-a523-aca377934fb3",
     "hasError": false,
     "id": "ebf44c93-6094-4cc1-9312-0cf339e812f6",
     "outputs": [],
     "persistentId": "9101ba02-87fc-4db3-be7e-3fde4f92cbc2",
     "text": "import os\nimport glob\n\nimport modin.pandas as pd\nimport seaborn as sns"
    },
    "executionTime": "2019-11-05T16:13:11.747Z"
   },
   {
    "cell": {
     "executionCount": 2,
     "executionEventId": "a2037ed6-5663-4dbf-b316-76b0f41a96ed",
     "hasError": false,
     "id": "9be10d8b-3bb8-4179-998e-3e93be874db0",
     "outputs": [
      {
       "name": "stdout",
       "output_type": "stream",
       "text": "/mnt/ibm_lg/olga/kmer-hashing/brawand2011/kmermaid/results_dayhoff11_extract_coding_jaccard_threshold05/extract_coding\n"
      }
     ],
     "persistentId": "23969cb6-1090-464a-ab9f-3bcd20e4c596",
     "text": "cd ~/data_lg/kmer-hashing/brawand2011/kmermaid/results_dayhoff11_extract_coding_jaccard_threshold05/extract_coding"
    },
    "executionTime": "2019-11-05T16:13:11.761Z"
   },
   {
    "cell": {
     "executionCount": 3,
     "executionEventId": "a80e909f-4207-4f4b-aa4e-af64e5af9355",
     "hasError": false,
     "id": "4ee688af-2fae-4b56-b6a8-e94c5aca7dd8",
     "outputs": [
      {
       "name": "stdout",
       "output_type": "stream",
       "text": "-rw-r--r-- 1 root root 474M Nov  4 19:54 SRR306752_GSM752603_mdo_kd_M_1_trimmed__coding_scores.csv\n-rw-r--r-- 1 root root 2.1G Nov  4 13:41 SRR306753_GSM752606_mdo_lv_F_1_trimmed__coding_scores.csv\n-rw-r--r-- 1 root root 1.8G Nov  4 17:59 SRR306754_GSM752608_mdo_lv_M_1_trimmed__coding_scores.csv\n-rw-r--r-- 1 root root 1.7G Nov  4 22:26 SRR306755_GSM752611_mdo_ts_M_1_trimmed__coding_scores.csv\n-rw-r--r-- 1 root root 3.7G Nov  4 15:53 SRR306756_GSM752613_mdo_ts_M_2_trimmed__coding_scores.csv\n"
      }
     ],
     "persistentId": "35248e0d-c908-4ba0-b18d-69d11c2e4169",
     "text": "ls -lha *mdo*csv"
    },
    "executionTime": "2019-11-05T16:13:16.894Z"
   },
   {
    "cell": {
     "executionCount": 4,
     "executionEventId": "d7d29877-670b-4053-bb39-ddd9610b4fa5",
     "hasError": true,
     "id": "44408e4f-b497-48fa-a4f3-f9774e9d1f77",
     "outputs": [
      {
       "ename": "RayTaskError",
       "evalue": "\u001b[36mray_worker\u001b[39m (pid=97571, host=ndnd)\n  File \"/home/olga/miniconda3/envs/kmer-hashing/lib/python3.6/site-packages/modin/engines/ray/pandas_on_ray/io.py\", line 83, in _read_csv_with_offset_pandas_on_ray\n    bio = file_open(fname, \"rb\", kwargs.pop(\"compression\", \"infer\"))\n  File \"/home/olga/miniconda3/envs/kmer-hashing/lib/python3.6/site-packages/modin/engines/ray/generic/io.py\", line 91, in file_open\n    return open(file_path, mode=mode)\nFileNotFoundError: [Errno 2] No such file or directory: 'SRR306752_GSM752603_mdo_kd_M_1_trimmed__coding_scores.csv'\n",
       "output_type": "error",
       "traceback": [
        "\u001b[0;31m---------------------------------------------------------------------------\u001b[0m",
        "\u001b[0;31mRayTaskError\u001b[0m                              Traceback (most recent call last)",
        "\u001b[0;32m<ipython-input-4-b99fdd77ce7a>\u001b[0m in \u001b[0;36m<module>\u001b[0;34m()\u001b[0m\n\u001b[0;32m----> 1\u001b[0;31m \u001b[0mdf\u001b[0m \u001b[0;34m=\u001b[0m \u001b[0mpd\u001b[0m\u001b[0;34m.\u001b[0m\u001b[0mread_csv\u001b[0m\u001b[0;34m(\u001b[0m\u001b[0;34m'SRR306752_GSM752603_mdo_kd_M_1_trimmed__coding_scores.csv'\u001b[0m\u001b[0;34m)\u001b[0m\u001b[0;34m\u001b[0m\u001b[0;34m\u001b[0m\u001b[0m\n\u001b[0m\u001b[1;32m      2\u001b[0m \u001b[0mprint\u001b[0m\u001b[0;34m(\u001b[0m\u001b[0mdf\u001b[0m\u001b[0;34m.\u001b[0m\u001b[0mshape\u001b[0m\u001b[0;34m)\u001b[0m\u001b[0;34m\u001b[0m\u001b[0;34m\u001b[0m\u001b[0m\n\u001b[1;32m      3\u001b[0m \u001b[0mdf\u001b[0m\u001b[0;34m.\u001b[0m\u001b[0mhead\u001b[0m\u001b[0;34m(\u001b[0m\u001b[0;34m)\u001b[0m\u001b[0;34m\u001b[0m\u001b[0;34m\u001b[0m\u001b[0m\n",
        "\u001b[0;32m~/miniconda3/envs/kmer-hashing/lib/python3.6/site-packages/modin/pandas/io.py\u001b[0m in \u001b[0;36mparser_func\u001b[0;34m(filepath_or_buffer, sep, delimiter, header, names, index_col, usecols, squeeze, prefix, mangle_dupe_cols, dtype, engine, converters, true_values, false_values, skipinitialspace, skiprows, nrows, na_values, keep_default_na, na_filter, verbose, skip_blank_lines, parse_dates, infer_datetime_format, keep_date_col, date_parser, dayfirst, cache_dates, iterator, chunksize, compression, thousands, decimal, lineterminator, quotechar, quoting, escapechar, comment, encoding, dialect, error_bad_lines, warn_bad_lines, skipfooter, doublequote, delim_whitespace, low_memory, memory_map, float_precision)\u001b[0m\n\u001b[1;32m     95\u001b[0m         \u001b[0;32mif\u001b[0m \u001b[0;32mnot\u001b[0m \u001b[0mkwargs\u001b[0m\u001b[0;34m.\u001b[0m\u001b[0mget\u001b[0m\u001b[0;34m(\u001b[0m\u001b[0;34m\"sep\"\u001b[0m\u001b[0;34m,\u001b[0m \u001b[0msep\u001b[0m\u001b[0;34m)\u001b[0m\u001b[0;34m:\u001b[0m\u001b[0;34m\u001b[0m\u001b[0;34m\u001b[0m\u001b[0m\n\u001b[1;32m     96\u001b[0m             \u001b[0mkwargs\u001b[0m\u001b[0;34m[\u001b[0m\u001b[0;34m\"sep\"\u001b[0m\u001b[0;34m]\u001b[0m \u001b[0;34m=\u001b[0m \u001b[0;34m\"\\t\"\u001b[0m\u001b[0;34m\u001b[0m\u001b[0;34m\u001b[0m\u001b[0m\n\u001b[0;32m---> 97\u001b[0;31m         \u001b[0;32mreturn\u001b[0m \u001b[0m_read\u001b[0m\u001b[0;34m(\u001b[0m\u001b[0;34m**\u001b[0m\u001b[0mkwargs\u001b[0m\u001b[0;34m)\u001b[0m\u001b[0;34m\u001b[0m\u001b[0;34m\u001b[0m\u001b[0m\n\u001b[0m\u001b[1;32m     98\u001b[0m \u001b[0;34m\u001b[0m\u001b[0m\n\u001b[1;32m     99\u001b[0m     \u001b[0;32mreturn\u001b[0m \u001b[0mparser_func\u001b[0m\u001b[0;34m\u001b[0m\u001b[0;34m\u001b[0m\u001b[0m\n",
        "\u001b[0;32m~/miniconda3/envs/kmer-hashing/lib/python3.6/site-packages/modin/pandas/io.py\u001b[0m in \u001b[0;36m_read\u001b[0;34m(**kwargs)\u001b[0m\n\u001b[1;32m    108\u001b[0m         \u001b[0mkwargs\u001b[0m\u001b[0;34m:\u001b[0m \u001b[0mKeyword\u001b[0m \u001b[0marguments\u001b[0m \u001b[0;32min\u001b[0m \u001b[0mpandas\u001b[0m\u001b[0;34m.\u001b[0m\u001b[0mread_csv\u001b[0m\u001b[0;34m\u001b[0m\u001b[0;34m\u001b[0m\u001b[0m\n\u001b[1;32m    109\u001b[0m     \"\"\"\n\u001b[0;32m--> 110\u001b[0;31m     \u001b[0mpd_obj\u001b[0m \u001b[0;34m=\u001b[0m \u001b[0mBaseFactory\u001b[0m\u001b[0;34m.\u001b[0m\u001b[0mread_csv\u001b[0m\u001b[0;34m(\u001b[0m\u001b[0;34m**\u001b[0m\u001b[0mkwargs\u001b[0m\u001b[0;34m)\u001b[0m\u001b[0;34m\u001b[0m\u001b[0;34m\u001b[0m\u001b[0m\n\u001b[0m\u001b[1;32m    111\u001b[0m     \u001b[0;31m# This happens when `read_csv` returns a TextFileReader object for iterating through\u001b[0m\u001b[0;34m\u001b[0m\u001b[0;34m\u001b[0m\u001b[0;34m\u001b[0m\u001b[0m\n\u001b[1;32m    112\u001b[0m     \u001b[0;32mif\u001b[0m \u001b[0misinstance\u001b[0m\u001b[0;34m(\u001b[0m\u001b[0mpd_obj\u001b[0m\u001b[0;34m,\u001b[0m \u001b[0mpandas\u001b[0m\u001b[0;34m.\u001b[0m\u001b[0mio\u001b[0m\u001b[0;34m.\u001b[0m\u001b[0mparsers\u001b[0m\u001b[0;34m.\u001b[0m\u001b[0mTextFileReader\u001b[0m\u001b[0;34m)\u001b[0m\u001b[0;34m:\u001b[0m\u001b[0;34m\u001b[0m\u001b[0;34m\u001b[0m\u001b[0m\n",
        "\u001b[0;32m~/miniconda3/envs/kmer-hashing/lib/python3.6/site-packages/modin/data_management/factories.py\u001b[0m in \u001b[0;36mread_csv\u001b[0;34m(cls, **kwargs)\u001b[0m\n\u001b[1;32m     50\u001b[0m     \u001b[0;34m@\u001b[0m\u001b[0mclassmethod\u001b[0m\u001b[0;34m\u001b[0m\u001b[0;34m\u001b[0m\u001b[0m\n\u001b[1;32m     51\u001b[0m     \u001b[0;32mdef\u001b[0m \u001b[0mread_csv\u001b[0m\u001b[0;34m(\u001b[0m\u001b[0mcls\u001b[0m\u001b[0;34m,\u001b[0m \u001b[0;34m**\u001b[0m\u001b[0mkwargs\u001b[0m\u001b[0;34m)\u001b[0m\u001b[0;34m:\u001b[0m\u001b[0;34m\u001b[0m\u001b[0;34m\u001b[0m\u001b[0m\n\u001b[0;32m---> 52\u001b[0;31m         \u001b[0;32mreturn\u001b[0m \u001b[0mcls\u001b[0m\u001b[0;34m.\u001b[0m\u001b[0m_determine_engine\u001b[0m\u001b[0;34m(\u001b[0m\u001b[0;34m)\u001b[0m\u001b[0;34m.\u001b[0m\u001b[0m_read_csv\u001b[0m\u001b[0;34m(\u001b[0m\u001b[0;34m**\u001b[0m\u001b[0mkwargs\u001b[0m\u001b[0;34m)\u001b[0m\u001b[0;34m\u001b[0m\u001b[0;34m\u001b[0m\u001b[0m\n\u001b[0m\u001b[1;32m     53\u001b[0m \u001b[0;34m\u001b[0m\u001b[0m\n\u001b[1;32m     54\u001b[0m     \u001b[0;34m@\u001b[0m\u001b[0mclassmethod\u001b[0m\u001b[0;34m\u001b[0m\u001b[0;34m\u001b[0m\u001b[0m\n",
        "\u001b[0;32m~/miniconda3/envs/kmer-hashing/lib/python3.6/site-packages/modin/data_management/factories.py\u001b[0m in \u001b[0;36m_read_csv\u001b[0;34m(cls, **kwargs)\u001b[0m\n\u001b[1;32m     54\u001b[0m     \u001b[0;34m@\u001b[0m\u001b[0mclassmethod\u001b[0m\u001b[0;34m\u001b[0m\u001b[0;34m\u001b[0m\u001b[0m\n\u001b[1;32m     55\u001b[0m     \u001b[0;32mdef\u001b[0m \u001b[0m_read_csv\u001b[0m\u001b[0;34m(\u001b[0m\u001b[0mcls\u001b[0m\u001b[0;34m,\u001b[0m \u001b[0;34m**\u001b[0m\u001b[0mkwargs\u001b[0m\u001b[0;34m)\u001b[0m\u001b[0;34m:\u001b[0m\u001b[0;34m\u001b[0m\u001b[0;34m\u001b[0m\u001b[0m\n\u001b[0;32m---> 56\u001b[0;31m         \u001b[0;32mreturn\u001b[0m \u001b[0mcls\u001b[0m\u001b[0;34m.\u001b[0m\u001b[0mio_cls\u001b[0m\u001b[0;34m.\u001b[0m\u001b[0mread_csv\u001b[0m\u001b[0;34m(\u001b[0m\u001b[0;34m**\u001b[0m\u001b[0mkwargs\u001b[0m\u001b[0;34m)\u001b[0m\u001b[0;34m\u001b[0m\u001b[0;34m\u001b[0m\u001b[0m\n\u001b[0m\u001b[1;32m     57\u001b[0m \u001b[0;34m\u001b[0m\u001b[0m\n\u001b[1;32m     58\u001b[0m     \u001b[0;34m@\u001b[0m\u001b[0mclassmethod\u001b[0m\u001b[0;34m\u001b[0m\u001b[0;34m\u001b[0m\u001b[0m\n",
        "\u001b[0;32m~/miniconda3/envs/kmer-hashing/lib/python3.6/site-packages/modin/engines/ray/generic/io.py\u001b[0m in \u001b[0;36mread_csv\u001b[0;34m(cls, filepath_or_buffer, sep, delimiter, header, names, index_col, usecols, squeeze, prefix, mangle_dupe_cols, dtype, engine, converters, true_values, false_values, skipinitialspace, skiprows, nrows, na_values, keep_default_na, na_filter, verbose, skip_blank_lines, parse_dates, infer_datetime_format, keep_date_col, date_parser, dayfirst, cache_dates, iterator, chunksize, compression, thousands, decimal, lineterminator, quotechar, quoting, escapechar, comment, encoding, dialect, error_bad_lines, warn_bad_lines, skipfooter, doublequote, delim_whitespace, low_memory, memory_map, float_precision)\u001b[0m\n\u001b[1;32m    680\u001b[0m         \u001b[0;32mif\u001b[0m \u001b[0mcls\u001b[0m\u001b[0;34m.\u001b[0m\u001b[0mread_csv_remote_task\u001b[0m \u001b[0;32mis\u001b[0m \u001b[0;32mNone\u001b[0m\u001b[0;34m:\u001b[0m\u001b[0;34m\u001b[0m\u001b[0;34m\u001b[0m\u001b[0m\n\u001b[1;32m    681\u001b[0m             \u001b[0;32mreturn\u001b[0m \u001b[0msuper\u001b[0m\u001b[0;34m(\u001b[0m\u001b[0mRayIO\u001b[0m\u001b[0;34m,\u001b[0m \u001b[0mcls\u001b[0m\u001b[0;34m)\u001b[0m\u001b[0;34m.\u001b[0m\u001b[0mread_csv\u001b[0m\u001b[0;34m(\u001b[0m\u001b[0;34m**\u001b[0m\u001b[0mkwargs\u001b[0m\u001b[0;34m)\u001b[0m\u001b[0;34m\u001b[0m\u001b[0;34m\u001b[0m\u001b[0m\n\u001b[0;32m--> 682\u001b[0;31m         \u001b[0;32mreturn\u001b[0m \u001b[0mcls\u001b[0m\u001b[0;34m.\u001b[0m\u001b[0m_read\u001b[0m\u001b[0;34m(\u001b[0m\u001b[0;34m**\u001b[0m\u001b[0mkwargs\u001b[0m\u001b[0;34m)\u001b[0m\u001b[0;34m\u001b[0m\u001b[0;34m\u001b[0m\u001b[0m\n\u001b[0m\u001b[1;32m    683\u001b[0m \u001b[0;34m\u001b[0m\u001b[0m\n\u001b[1;32m    684\u001b[0m     \u001b[0;34m@\u001b[0m\u001b[0mclassmethod\u001b[0m\u001b[0;34m\u001b[0m\u001b[0;34m\u001b[0m\u001b[0m\n",
        "\u001b[0;32m~/miniconda3/envs/kmer-hashing/lib/python3.6/site-packages/modin/engines/ray/generic/io.py\u001b[0m in \u001b[0;36m_read\u001b[0;34m(cls, filepath_or_buffer, **kwargs)\u001b[0m\n\u001b[1;32m    766\u001b[0m             \u001b[0;32mreturn\u001b[0m \u001b[0mcls\u001b[0m\u001b[0;34m.\u001b[0m\u001b[0m_read_csv_from_pandas\u001b[0m\u001b[0;34m(\u001b[0m\u001b[0mfilepath_or_buffer\u001b[0m\u001b[0;34m,\u001b[0m \u001b[0mfiltered_kwargs\u001b[0m\u001b[0;34m)\u001b[0m\u001b[0;34m\u001b[0m\u001b[0;34m\u001b[0m\u001b[0m\n\u001b[1;32m    767\u001b[0m         \u001b[0;32melse\u001b[0m\u001b[0;34m:\u001b[0m\u001b[0;34m\u001b[0m\u001b[0;34m\u001b[0m\u001b[0m\n\u001b[0;32m--> 768\u001b[0;31m             \u001b[0;32mreturn\u001b[0m \u001b[0mcls\u001b[0m\u001b[0;34m.\u001b[0m\u001b[0m_read_csv_from_file_ray\u001b[0m\u001b[0;34m(\u001b[0m\u001b[0mfilepath_or_buffer\u001b[0m\u001b[0;34m,\u001b[0m \u001b[0mfiltered_kwargs\u001b[0m\u001b[0;34m)\u001b[0m\u001b[0;34m\u001b[0m\u001b[0;34m\u001b[0m\u001b[0m\n\u001b[0m\u001b[1;32m    769\u001b[0m \u001b[0;34m\u001b[0m\u001b[0m\n\u001b[1;32m    770\u001b[0m     \u001b[0;34m@\u001b[0m\u001b[0mclassmethod\u001b[0m\u001b[0;34m\u001b[0m\u001b[0;34m\u001b[0m\u001b[0m\n",
        "\u001b[0;32m~/miniconda3/envs/kmer-hashing/lib/python3.6/site-packages/modin/engines/ray/generic/io.py\u001b[0m in \u001b[0;36m_read_csv_from_file_ray\u001b[0;34m(cls, filepath, kwargs)\u001b[0m\n\u001b[1;32m    490\u001b[0m         \u001b[0;31m# or based on the column(s) that were requested.\u001b[0m\u001b[0;34m\u001b[0m\u001b[0;34m\u001b[0m\u001b[0;34m\u001b[0m\u001b[0m\n\u001b[1;32m    491\u001b[0m         \u001b[0;32mif\u001b[0m \u001b[0mindex_col\u001b[0m \u001b[0;32mis\u001b[0m \u001b[0;32mNone\u001b[0m\u001b[0;34m:\u001b[0m\u001b[0;34m\u001b[0m\u001b[0;34m\u001b[0m\u001b[0m\n\u001b[0;32m--> 492\u001b[0;31m             \u001b[0mrow_lengths\u001b[0m \u001b[0;34m=\u001b[0m \u001b[0mray\u001b[0m\u001b[0;34m.\u001b[0m\u001b[0mget\u001b[0m\u001b[0;34m(\u001b[0m\u001b[0mindex_ids\u001b[0m\u001b[0;34m)\u001b[0m\u001b[0;34m\u001b[0m\u001b[0;34m\u001b[0m\u001b[0m\n\u001b[0m\u001b[1;32m    493\u001b[0m             \u001b[0mnew_index\u001b[0m \u001b[0;34m=\u001b[0m \u001b[0mpandas\u001b[0m\u001b[0;34m.\u001b[0m\u001b[0mRangeIndex\u001b[0m\u001b[0;34m(\u001b[0m\u001b[0msum\u001b[0m\u001b[0;34m(\u001b[0m\u001b[0mrow_lengths\u001b[0m\u001b[0;34m)\u001b[0m\u001b[0;34m)\u001b[0m\u001b[0;34m\u001b[0m\u001b[0;34m\u001b[0m\u001b[0m\n\u001b[1;32m    494\u001b[0m         \u001b[0;32melse\u001b[0m\u001b[0;34m:\u001b[0m\u001b[0;34m\u001b[0m\u001b[0;34m\u001b[0m\u001b[0m\n",
        "\u001b[0;32m~/miniconda3/envs/kmer-hashing/lib/python3.6/site-packages/ray/worker.py\u001b[0m in \u001b[0;36mget\u001b[0;34m(object_ids)\u001b[0m\n\u001b[1;32m   2245\u001b[0m             \u001b[0;32mif\u001b[0m \u001b[0misinstance\u001b[0m\u001b[0;34m(\u001b[0m\u001b[0mvalue\u001b[0m\u001b[0;34m,\u001b[0m \u001b[0mRayError\u001b[0m\u001b[0;34m)\u001b[0m\u001b[0;34m:\u001b[0m\u001b[0;34m\u001b[0m\u001b[0;34m\u001b[0m\u001b[0m\n\u001b[1;32m   2246\u001b[0m                 \u001b[0mlast_task_error_raise_time\u001b[0m \u001b[0;34m=\u001b[0m \u001b[0mtime\u001b[0m\u001b[0;34m.\u001b[0m\u001b[0mtime\u001b[0m\u001b[0;34m(\u001b[0m\u001b[0;34m)\u001b[0m\u001b[0;34m\u001b[0m\u001b[0;34m\u001b[0m\u001b[0m\n\u001b[0;32m-> 2247\u001b[0;31m                 \u001b[0;32mraise\u001b[0m \u001b[0mvalue\u001b[0m\u001b[0;34m\u001b[0m\u001b[0;34m\u001b[0m\u001b[0m\n\u001b[0m\u001b[1;32m   2248\u001b[0m \u001b[0;34m\u001b[0m\u001b[0m\n\u001b[1;32m   2249\u001b[0m         \u001b[0;31m# Run post processors.\u001b[0m\u001b[0;34m\u001b[0m\u001b[0;34m\u001b[0m\u001b[0;34m\u001b[0m\u001b[0m\n",
        "\u001b[0;31mRayTaskError\u001b[0m: \u001b[36mray_worker\u001b[39m (pid=97571, host=ndnd)\n  File \"/home/olga/miniconda3/envs/kmer-hashing/lib/python3.6/site-packages/modin/engines/ray/pandas_on_ray/io.py\", line 83, in _read_csv_with_offset_pandas_on_ray\n    bio = file_open(fname, \"rb\", kwargs.pop(\"compression\", \"infer\"))\n  File \"/home/olga/miniconda3/envs/kmer-hashing/lib/python3.6/site-packages/modin/engines/ray/generic/io.py\", line 91, in file_open\n    return open(file_path, mode=mode)\nFileNotFoundError: [Errno 2] No such file or directory: 'SRR306752_GSM752603_mdo_kd_M_1_trimmed__coding_scores.csv'\n"
       ]
      }
     ],
     "persistentId": "5df7490d-8149-4742-a2fa-28feb4a39f78",
     "text": "df = pd.read_csv('SRR306752_GSM752603_mdo_kd_M_1_trimmed__coding_scores.csv')\nprint(df.shape)\ndf.head()"
    },
    "executionTime": "2019-11-05T16:14:48.399Z"
   },
   {
    "cell": {
     "executionCount": 5,
     "executionEventId": "d07cc91b-83b4-4db9-b91f-ca379f9cdca1",
     "hasError": false,
     "id": "9094ba82-524d-4071-a1c5-3a42898716a3",
     "outputs": [
      {
       "name": "stdout",
       "output_type": "stream",
       "text": "SRR306752_GSM752603_mdo_kd_M_1_trimmed__coding_scores.csv\n"
      }
     ],
     "persistentId": "fd3fb0f0-aa33-437a-91dc-807b882e9859",
     "text": "ls SRR306752_GSM752603_mdo_kd_M_1_trimmed__coding_scores.csv"
    },
    "executionTime": "2019-11-05T16:15:15.041Z"
   },
   {
    "cell": {
     "executionCount": 6,
     "executionEventId": "70bb6912-0651-465e-934c-e9ea75f09f46",
     "hasError": false,
     "id": "9094ba82-524d-4071-a1c5-3a42898716a3",
     "outputs": [
      {
       "name": "stdout",
       "output_type": "stream",
       "text": "-rw-r--r-- 1 root root 474M Nov  4 19:54 SRR306752_GSM752603_mdo_kd_M_1_trimmed__coding_scores.csv\n"
      }
     ],
     "persistentId": "fd3fb0f0-aa33-437a-91dc-807b882e9859",
     "text": "ls -lha SRR306752_GSM752603_mdo_kd_M_1_trimmed__coding_scores.csv"
    },
    "executionTime": "2019-11-05T16:15:18.499Z"
   },
   {
    "cell": {
     "executionCount": 7,
     "executionEventId": "fff9d446-43ed-4fbf-b372-1daeca4c02cc",
     "hasError": false,
     "id": "9094ba82-524d-4071-a1c5-3a42898716a3",
     "outputs": [
      {
       "name": "stdout",
       "output_type": "stream",
       "text": "-rw-r--r-- 1 olga olga 474M Nov  4 19:54 SRR306752_GSM752603_mdo_kd_M_1_trimmed__coding_scores.csv\n"
      }
     ],
     "persistentId": "fd3fb0f0-aa33-437a-91dc-807b882e9859",
     "text": "ls -lha SRR306752_GSM752603_mdo_kd_M_1_trimmed__coding_scores.csv"
    },
    "executionTime": "2019-11-05T16:15:38.471Z"
   },
   {
    "cell": {
     "executionCount": 8,
     "executionEventId": "21278fb9-074e-4cd3-8d58-5e06568c8888",
     "hasError": false,
     "id": "4ee688af-2fae-4b56-b6a8-e94c5aca7dd8",
     "outputs": [
      {
       "name": "stdout",
       "output_type": "stream",
       "text": "-rw-r--r-- 1 olga olga 474M Nov  4 19:54 SRR306752_GSM752603_mdo_kd_M_1_trimmed__coding_scores.csv\n-rw-r--r-- 1 olga olga 2.1G Nov  4 13:41 SRR306753_GSM752606_mdo_lv_F_1_trimmed__coding_scores.csv\n-rw-r--r-- 1 olga olga 1.8G Nov  4 17:59 SRR306754_GSM752608_mdo_lv_M_1_trimmed__coding_scores.csv\n-rw-r--r-- 1 olga olga 1.7G Nov  4 22:26 SRR306755_GSM752611_mdo_ts_M_1_trimmed__coding_scores.csv\n-rw-r--r-- 1 olga olga 3.7G Nov  4 15:53 SRR306756_GSM752613_mdo_ts_M_2_trimmed__coding_scores.csv\n"
      }
     ],
     "persistentId": "35248e0d-c908-4ba0-b18d-69d11c2e4169",
     "text": "ls -lha *mdo*csv"
    },
    "executionTime": "2019-11-05T16:15:40.872Z"
   },
   {
    "cell": {
     "executionCount": 9,
     "executionEventId": "0d98d83a-10bd-4c74-9d91-efc7c0c18359",
     "hasError": true,
     "id": "44408e4f-b497-48fa-a4f3-f9774e9d1f77",
     "outputs": [
      {
       "ename": "RayTaskError",
       "evalue": "\u001b[36mray_worker\u001b[39m (pid=97565, host=ndnd)\n  File \"/home/olga/miniconda3/envs/kmer-hashing/lib/python3.6/site-packages/modin/engines/ray/pandas_on_ray/io.py\", line 83, in _read_csv_with_offset_pandas_on_ray\n    bio = file_open(fname, \"rb\", kwargs.pop(\"compression\", \"infer\"))\n  File \"/home/olga/miniconda3/envs/kmer-hashing/lib/python3.6/site-packages/modin/engines/ray/generic/io.py\", line 91, in file_open\n    return open(file_path, mode=mode)\nFileNotFoundError: [Errno 2] No such file or directory: 'SRR306752_GSM752603_mdo_kd_M_1_trimmed__coding_scores.csv'\n",
       "output_type": "error",
       "traceback": [
        "\u001b[0;31m---------------------------------------------------------------------------\u001b[0m",
        "\u001b[0;31mRayTaskError\u001b[0m                              Traceback (most recent call last)",
        "\u001b[0;32m<ipython-input-9-b99fdd77ce7a>\u001b[0m in \u001b[0;36m<module>\u001b[0;34m()\u001b[0m\n\u001b[0;32m----> 1\u001b[0;31m \u001b[0mdf\u001b[0m \u001b[0;34m=\u001b[0m \u001b[0mpd\u001b[0m\u001b[0;34m.\u001b[0m\u001b[0mread_csv\u001b[0m\u001b[0;34m(\u001b[0m\u001b[0;34m'SRR306752_GSM752603_mdo_kd_M_1_trimmed__coding_scores.csv'\u001b[0m\u001b[0;34m)\u001b[0m\u001b[0;34m\u001b[0m\u001b[0;34m\u001b[0m\u001b[0m\n\u001b[0m\u001b[1;32m      2\u001b[0m \u001b[0mprint\u001b[0m\u001b[0;34m(\u001b[0m\u001b[0mdf\u001b[0m\u001b[0;34m.\u001b[0m\u001b[0mshape\u001b[0m\u001b[0;34m)\u001b[0m\u001b[0;34m\u001b[0m\u001b[0;34m\u001b[0m\u001b[0m\n\u001b[1;32m      3\u001b[0m \u001b[0mdf\u001b[0m\u001b[0;34m.\u001b[0m\u001b[0mhead\u001b[0m\u001b[0;34m(\u001b[0m\u001b[0;34m)\u001b[0m\u001b[0;34m\u001b[0m\u001b[0;34m\u001b[0m\u001b[0m\n",
        "\u001b[0;32m~/miniconda3/envs/kmer-hashing/lib/python3.6/site-packages/modin/pandas/io.py\u001b[0m in \u001b[0;36mparser_func\u001b[0;34m(filepath_or_buffer, sep, delimiter, header, names, index_col, usecols, squeeze, prefix, mangle_dupe_cols, dtype, engine, converters, true_values, false_values, skipinitialspace, skiprows, nrows, na_values, keep_default_na, na_filter, verbose, skip_blank_lines, parse_dates, infer_datetime_format, keep_date_col, date_parser, dayfirst, cache_dates, iterator, chunksize, compression, thousands, decimal, lineterminator, quotechar, quoting, escapechar, comment, encoding, dialect, error_bad_lines, warn_bad_lines, skipfooter, doublequote, delim_whitespace, low_memory, memory_map, float_precision)\u001b[0m\n\u001b[1;32m     95\u001b[0m         \u001b[0;32mif\u001b[0m \u001b[0;32mnot\u001b[0m \u001b[0mkwargs\u001b[0m\u001b[0;34m.\u001b[0m\u001b[0mget\u001b[0m\u001b[0;34m(\u001b[0m\u001b[0;34m\"sep\"\u001b[0m\u001b[0;34m,\u001b[0m \u001b[0msep\u001b[0m\u001b[0;34m)\u001b[0m\u001b[0;34m:\u001b[0m\u001b[0;34m\u001b[0m\u001b[0;34m\u001b[0m\u001b[0m\n\u001b[1;32m     96\u001b[0m             \u001b[0mkwargs\u001b[0m\u001b[0;34m[\u001b[0m\u001b[0;34m\"sep\"\u001b[0m\u001b[0;34m]\u001b[0m \u001b[0;34m=\u001b[0m \u001b[0;34m\"\\t\"\u001b[0m\u001b[0;34m\u001b[0m\u001b[0;34m\u001b[0m\u001b[0m\n\u001b[0;32m---> 97\u001b[0;31m         \u001b[0;32mreturn\u001b[0m \u001b[0m_read\u001b[0m\u001b[0;34m(\u001b[0m\u001b[0;34m**\u001b[0m\u001b[0mkwargs\u001b[0m\u001b[0;34m)\u001b[0m\u001b[0;34m\u001b[0m\u001b[0;34m\u001b[0m\u001b[0m\n\u001b[0m\u001b[1;32m     98\u001b[0m \u001b[0;34m\u001b[0m\u001b[0m\n\u001b[1;32m     99\u001b[0m     \u001b[0;32mreturn\u001b[0m \u001b[0mparser_func\u001b[0m\u001b[0;34m\u001b[0m\u001b[0;34m\u001b[0m\u001b[0m\n",
        "\u001b[0;32m~/miniconda3/envs/kmer-hashing/lib/python3.6/site-packages/modin/pandas/io.py\u001b[0m in \u001b[0;36m_read\u001b[0;34m(**kwargs)\u001b[0m\n\u001b[1;32m    108\u001b[0m         \u001b[0mkwargs\u001b[0m\u001b[0;34m:\u001b[0m \u001b[0mKeyword\u001b[0m \u001b[0marguments\u001b[0m \u001b[0;32min\u001b[0m \u001b[0mpandas\u001b[0m\u001b[0;34m.\u001b[0m\u001b[0mread_csv\u001b[0m\u001b[0;34m\u001b[0m\u001b[0;34m\u001b[0m\u001b[0m\n\u001b[1;32m    109\u001b[0m     \"\"\"\n\u001b[0;32m--> 110\u001b[0;31m     \u001b[0mpd_obj\u001b[0m \u001b[0;34m=\u001b[0m \u001b[0mBaseFactory\u001b[0m\u001b[0;34m.\u001b[0m\u001b[0mread_csv\u001b[0m\u001b[0;34m(\u001b[0m\u001b[0;34m**\u001b[0m\u001b[0mkwargs\u001b[0m\u001b[0;34m)\u001b[0m\u001b[0;34m\u001b[0m\u001b[0;34m\u001b[0m\u001b[0m\n\u001b[0m\u001b[1;32m    111\u001b[0m     \u001b[0;31m# This happens when `read_csv` returns a TextFileReader object for iterating through\u001b[0m\u001b[0;34m\u001b[0m\u001b[0;34m\u001b[0m\u001b[0;34m\u001b[0m\u001b[0m\n\u001b[1;32m    112\u001b[0m     \u001b[0;32mif\u001b[0m \u001b[0misinstance\u001b[0m\u001b[0;34m(\u001b[0m\u001b[0mpd_obj\u001b[0m\u001b[0;34m,\u001b[0m \u001b[0mpandas\u001b[0m\u001b[0;34m.\u001b[0m\u001b[0mio\u001b[0m\u001b[0;34m.\u001b[0m\u001b[0mparsers\u001b[0m\u001b[0;34m.\u001b[0m\u001b[0mTextFileReader\u001b[0m\u001b[0;34m)\u001b[0m\u001b[0;34m:\u001b[0m\u001b[0;34m\u001b[0m\u001b[0;34m\u001b[0m\u001b[0m\n",
        "\u001b[0;32m~/miniconda3/envs/kmer-hashing/lib/python3.6/site-packages/modin/data_management/factories.py\u001b[0m in \u001b[0;36mread_csv\u001b[0;34m(cls, **kwargs)\u001b[0m\n\u001b[1;32m     50\u001b[0m     \u001b[0;34m@\u001b[0m\u001b[0mclassmethod\u001b[0m\u001b[0;34m\u001b[0m\u001b[0;34m\u001b[0m\u001b[0m\n\u001b[1;32m     51\u001b[0m     \u001b[0;32mdef\u001b[0m \u001b[0mread_csv\u001b[0m\u001b[0;34m(\u001b[0m\u001b[0mcls\u001b[0m\u001b[0;34m,\u001b[0m \u001b[0;34m**\u001b[0m\u001b[0mkwargs\u001b[0m\u001b[0;34m)\u001b[0m\u001b[0;34m:\u001b[0m\u001b[0;34m\u001b[0m\u001b[0;34m\u001b[0m\u001b[0m\n\u001b[0;32m---> 52\u001b[0;31m         \u001b[0;32mreturn\u001b[0m \u001b[0mcls\u001b[0m\u001b[0;34m.\u001b[0m\u001b[0m_determine_engine\u001b[0m\u001b[0;34m(\u001b[0m\u001b[0;34m)\u001b[0m\u001b[0;34m.\u001b[0m\u001b[0m_read_csv\u001b[0m\u001b[0;34m(\u001b[0m\u001b[0;34m**\u001b[0m\u001b[0mkwargs\u001b[0m\u001b[0;34m)\u001b[0m\u001b[0;34m\u001b[0m\u001b[0;34m\u001b[0m\u001b[0m\n\u001b[0m\u001b[1;32m     53\u001b[0m \u001b[0;34m\u001b[0m\u001b[0m\n\u001b[1;32m     54\u001b[0m     \u001b[0;34m@\u001b[0m\u001b[0mclassmethod\u001b[0m\u001b[0;34m\u001b[0m\u001b[0;34m\u001b[0m\u001b[0m\n",
        "\u001b[0;32m~/miniconda3/envs/kmer-hashing/lib/python3.6/site-packages/modin/data_management/factories.py\u001b[0m in \u001b[0;36m_read_csv\u001b[0;34m(cls, **kwargs)\u001b[0m\n\u001b[1;32m     54\u001b[0m     \u001b[0;34m@\u001b[0m\u001b[0mclassmethod\u001b[0m\u001b[0;34m\u001b[0m\u001b[0;34m\u001b[0m\u001b[0m\n\u001b[1;32m     55\u001b[0m     \u001b[0;32mdef\u001b[0m \u001b[0m_read_csv\u001b[0m\u001b[0;34m(\u001b[0m\u001b[0mcls\u001b[0m\u001b[0;34m,\u001b[0m \u001b[0;34m**\u001b[0m\u001b[0mkwargs\u001b[0m\u001b[0;34m)\u001b[0m\u001b[0;34m:\u001b[0m\u001b[0;34m\u001b[0m\u001b[0;34m\u001b[0m\u001b[0m\n\u001b[0;32m---> 56\u001b[0;31m         \u001b[0;32mreturn\u001b[0m \u001b[0mcls\u001b[0m\u001b[0;34m.\u001b[0m\u001b[0mio_cls\u001b[0m\u001b[0;34m.\u001b[0m\u001b[0mread_csv\u001b[0m\u001b[0;34m(\u001b[0m\u001b[0;34m**\u001b[0m\u001b[0mkwargs\u001b[0m\u001b[0;34m)\u001b[0m\u001b[0;34m\u001b[0m\u001b[0;34m\u001b[0m\u001b[0m\n\u001b[0m\u001b[1;32m     57\u001b[0m \u001b[0;34m\u001b[0m\u001b[0m\n\u001b[1;32m     58\u001b[0m     \u001b[0;34m@\u001b[0m\u001b[0mclassmethod\u001b[0m\u001b[0;34m\u001b[0m\u001b[0;34m\u001b[0m\u001b[0m\n",
        "\u001b[0;32m~/miniconda3/envs/kmer-hashing/lib/python3.6/site-packages/modin/engines/ray/generic/io.py\u001b[0m in \u001b[0;36mread_csv\u001b[0;34m(cls, filepath_or_buffer, sep, delimiter, header, names, index_col, usecols, squeeze, prefix, mangle_dupe_cols, dtype, engine, converters, true_values, false_values, skipinitialspace, skiprows, nrows, na_values, keep_default_na, na_filter, verbose, skip_blank_lines, parse_dates, infer_datetime_format, keep_date_col, date_parser, dayfirst, cache_dates, iterator, chunksize, compression, thousands, decimal, lineterminator, quotechar, quoting, escapechar, comment, encoding, dialect, error_bad_lines, warn_bad_lines, skipfooter, doublequote, delim_whitespace, low_memory, memory_map, float_precision)\u001b[0m\n\u001b[1;32m    680\u001b[0m         \u001b[0;32mif\u001b[0m \u001b[0mcls\u001b[0m\u001b[0;34m.\u001b[0m\u001b[0mread_csv_remote_task\u001b[0m \u001b[0;32mis\u001b[0m \u001b[0;32mNone\u001b[0m\u001b[0;34m:\u001b[0m\u001b[0;34m\u001b[0m\u001b[0;34m\u001b[0m\u001b[0m\n\u001b[1;32m    681\u001b[0m             \u001b[0;32mreturn\u001b[0m \u001b[0msuper\u001b[0m\u001b[0;34m(\u001b[0m\u001b[0mRayIO\u001b[0m\u001b[0;34m,\u001b[0m \u001b[0mcls\u001b[0m\u001b[0;34m)\u001b[0m\u001b[0;34m.\u001b[0m\u001b[0mread_csv\u001b[0m\u001b[0;34m(\u001b[0m\u001b[0;34m**\u001b[0m\u001b[0mkwargs\u001b[0m\u001b[0;34m)\u001b[0m\u001b[0;34m\u001b[0m\u001b[0;34m\u001b[0m\u001b[0m\n\u001b[0;32m--> 682\u001b[0;31m         \u001b[0;32mreturn\u001b[0m \u001b[0mcls\u001b[0m\u001b[0;34m.\u001b[0m\u001b[0m_read\u001b[0m\u001b[0;34m(\u001b[0m\u001b[0;34m**\u001b[0m\u001b[0mkwargs\u001b[0m\u001b[0;34m)\u001b[0m\u001b[0;34m\u001b[0m\u001b[0;34m\u001b[0m\u001b[0m\n\u001b[0m\u001b[1;32m    683\u001b[0m \u001b[0;34m\u001b[0m\u001b[0m\n\u001b[1;32m    684\u001b[0m     \u001b[0;34m@\u001b[0m\u001b[0mclassmethod\u001b[0m\u001b[0;34m\u001b[0m\u001b[0;34m\u001b[0m\u001b[0m\n",
        "\u001b[0;32m~/miniconda3/envs/kmer-hashing/lib/python3.6/site-packages/modin/engines/ray/generic/io.py\u001b[0m in \u001b[0;36m_read\u001b[0;34m(cls, filepath_or_buffer, **kwargs)\u001b[0m\n\u001b[1;32m    766\u001b[0m             \u001b[0;32mreturn\u001b[0m \u001b[0mcls\u001b[0m\u001b[0;34m.\u001b[0m\u001b[0m_read_csv_from_pandas\u001b[0m\u001b[0;34m(\u001b[0m\u001b[0mfilepath_or_buffer\u001b[0m\u001b[0;34m,\u001b[0m \u001b[0mfiltered_kwargs\u001b[0m\u001b[0;34m)\u001b[0m\u001b[0;34m\u001b[0m\u001b[0;34m\u001b[0m\u001b[0m\n\u001b[1;32m    767\u001b[0m         \u001b[0;32melse\u001b[0m\u001b[0;34m:\u001b[0m\u001b[0;34m\u001b[0m\u001b[0;34m\u001b[0m\u001b[0m\n\u001b[0;32m--> 768\u001b[0;31m             \u001b[0;32mreturn\u001b[0m \u001b[0mcls\u001b[0m\u001b[0;34m.\u001b[0m\u001b[0m_read_csv_from_file_ray\u001b[0m\u001b[0;34m(\u001b[0m\u001b[0mfilepath_or_buffer\u001b[0m\u001b[0;34m,\u001b[0m \u001b[0mfiltered_kwargs\u001b[0m\u001b[0;34m)\u001b[0m\u001b[0;34m\u001b[0m\u001b[0;34m\u001b[0m\u001b[0m\n\u001b[0m\u001b[1;32m    769\u001b[0m \u001b[0;34m\u001b[0m\u001b[0m\n\u001b[1;32m    770\u001b[0m     \u001b[0;34m@\u001b[0m\u001b[0mclassmethod\u001b[0m\u001b[0;34m\u001b[0m\u001b[0;34m\u001b[0m\u001b[0m\n",
        "\u001b[0;32m~/miniconda3/envs/kmer-hashing/lib/python3.6/site-packages/modin/engines/ray/generic/io.py\u001b[0m in \u001b[0;36m_read_csv_from_file_ray\u001b[0;34m(cls, filepath, kwargs)\u001b[0m\n\u001b[1;32m    490\u001b[0m         \u001b[0;31m# or based on the column(s) that were requested.\u001b[0m\u001b[0;34m\u001b[0m\u001b[0;34m\u001b[0m\u001b[0;34m\u001b[0m\u001b[0m\n\u001b[1;32m    491\u001b[0m         \u001b[0;32mif\u001b[0m \u001b[0mindex_col\u001b[0m \u001b[0;32mis\u001b[0m \u001b[0;32mNone\u001b[0m\u001b[0;34m:\u001b[0m\u001b[0;34m\u001b[0m\u001b[0;34m\u001b[0m\u001b[0m\n\u001b[0;32m--> 492\u001b[0;31m             \u001b[0mrow_lengths\u001b[0m \u001b[0;34m=\u001b[0m \u001b[0mray\u001b[0m\u001b[0;34m.\u001b[0m\u001b[0mget\u001b[0m\u001b[0;34m(\u001b[0m\u001b[0mindex_ids\u001b[0m\u001b[0;34m)\u001b[0m\u001b[0;34m\u001b[0m\u001b[0;34m\u001b[0m\u001b[0m\n\u001b[0m\u001b[1;32m    493\u001b[0m             \u001b[0mnew_index\u001b[0m \u001b[0;34m=\u001b[0m \u001b[0mpandas\u001b[0m\u001b[0;34m.\u001b[0m\u001b[0mRangeIndex\u001b[0m\u001b[0;34m(\u001b[0m\u001b[0msum\u001b[0m\u001b[0;34m(\u001b[0m\u001b[0mrow_lengths\u001b[0m\u001b[0;34m)\u001b[0m\u001b[0;34m)\u001b[0m\u001b[0;34m\u001b[0m\u001b[0;34m\u001b[0m\u001b[0m\n\u001b[1;32m    494\u001b[0m         \u001b[0;32melse\u001b[0m\u001b[0;34m:\u001b[0m\u001b[0;34m\u001b[0m\u001b[0;34m\u001b[0m\u001b[0m\n",
        "\u001b[0;32m~/miniconda3/envs/kmer-hashing/lib/python3.6/site-packages/ray/worker.py\u001b[0m in \u001b[0;36mget\u001b[0;34m(object_ids)\u001b[0m\n\u001b[1;32m   2245\u001b[0m             \u001b[0;32mif\u001b[0m \u001b[0misinstance\u001b[0m\u001b[0;34m(\u001b[0m\u001b[0mvalue\u001b[0m\u001b[0;34m,\u001b[0m \u001b[0mRayError\u001b[0m\u001b[0;34m)\u001b[0m\u001b[0;34m:\u001b[0m\u001b[0;34m\u001b[0m\u001b[0;34m\u001b[0m\u001b[0m\n\u001b[1;32m   2246\u001b[0m                 \u001b[0mlast_task_error_raise_time\u001b[0m \u001b[0;34m=\u001b[0m \u001b[0mtime\u001b[0m\u001b[0;34m.\u001b[0m\u001b[0mtime\u001b[0m\u001b[0;34m(\u001b[0m\u001b[0;34m)\u001b[0m\u001b[0;34m\u001b[0m\u001b[0;34m\u001b[0m\u001b[0m\n\u001b[0;32m-> 2247\u001b[0;31m                 \u001b[0;32mraise\u001b[0m \u001b[0mvalue\u001b[0m\u001b[0;34m\u001b[0m\u001b[0;34m\u001b[0m\u001b[0m\n\u001b[0m\u001b[1;32m   2248\u001b[0m \u001b[0;34m\u001b[0m\u001b[0m\n\u001b[1;32m   2249\u001b[0m         \u001b[0;31m# Run post processors.\u001b[0m\u001b[0;34m\u001b[0m\u001b[0;34m\u001b[0m\u001b[0;34m\u001b[0m\u001b[0m\n",
        "\u001b[0;31mRayTaskError\u001b[0m: \u001b[36mray_worker\u001b[39m (pid=97565, host=ndnd)\n  File \"/home/olga/miniconda3/envs/kmer-hashing/lib/python3.6/site-packages/modin/engines/ray/pandas_on_ray/io.py\", line 83, in _read_csv_with_offset_pandas_on_ray\n    bio = file_open(fname, \"rb\", kwargs.pop(\"compression\", \"infer\"))\n  File \"/home/olga/miniconda3/envs/kmer-hashing/lib/python3.6/site-packages/modin/engines/ray/generic/io.py\", line 91, in file_open\n    return open(file_path, mode=mode)\nFileNotFoundError: [Errno 2] No such file or directory: 'SRR306752_GSM752603_mdo_kd_M_1_trimmed__coding_scores.csv'\n"
       ]
      }
     ],
     "persistentId": "5df7490d-8149-4742-a2fa-28feb4a39f78",
     "text": "df = pd.read_csv('SRR306752_GSM752603_mdo_kd_M_1_trimmed__coding_scores.csv')\nprint(df.shape)\ndf.head()"
    },
    "executionTime": "2019-11-05T16:15:42.611Z"
   },
   {
    "cell": {
     "executionCount": 10,
     "executionEventId": "9645663c-ce8e-4604-a91c-f6a4f7986521",
     "hasError": true,
     "id": "ebf44c93-6094-4cc1-9312-0cf339e812f6",
     "outputs": [
      {
       "name": "stderr",
       "output_type": "stream",
       "text": "2019-11-05 08:18:02,918\tWARNING worker.py:1373 -- WARNING: Not updating worker name since `setproctitle` is not installed. Install this with `pip install setproctitle` (or ray[debug]) to enable monitoring of worker processes.\n"
      },
      {
       "ename": "Exception",
       "evalue": "Perhaps you called ray.init twice by accident? This error can be suppressed by passing in 'ignore_reinit_error=True' or by calling 'ray.shutdown()' prior to 'ray.init()'.",
       "output_type": "error",
       "traceback": [
        "\u001b[0;31m---------------------------------------------------------------------------\u001b[0m",
        "\u001b[0;31mException\u001b[0m                                 Traceback (most recent call last)",
        "\u001b[0;32m<ipython-input-10-3809ae46892f>\u001b[0m in \u001b[0;36m<module>\u001b[0;34m()\u001b[0m\n\u001b[1;32m      5\u001b[0m \u001b[0;32mimport\u001b[0m \u001b[0mray\u001b[0m\u001b[0;34m\u001b[0m\u001b[0;34m\u001b[0m\u001b[0m\n\u001b[1;32m      6\u001b[0m \u001b[0;31m# use fewer CPUs so the OS doesn't run out of processes\u001b[0m\u001b[0;34m\u001b[0m\u001b[0;34m\u001b[0m\u001b[0;34m\u001b[0m\u001b[0m\n\u001b[0;32m----> 7\u001b[0;31m \u001b[0mray\u001b[0m\u001b[0;34m.\u001b[0m\u001b[0minit\u001b[0m\u001b[0;34m(\u001b[0m\u001b[0mnum_cpus\u001b[0m\u001b[0;34m=\u001b[0m\u001b[0;36m16\u001b[0m\u001b[0;34m)\u001b[0m\u001b[0;34m\u001b[0m\u001b[0;34m\u001b[0m\u001b[0m\n\u001b[0m\u001b[1;32m      8\u001b[0m \u001b[0;32mimport\u001b[0m \u001b[0mmodin\u001b[0m\u001b[0;34m.\u001b[0m\u001b[0mpandas\u001b[0m \u001b[0;32mas\u001b[0m \u001b[0mpd\u001b[0m\u001b[0;34m\u001b[0m\u001b[0;34m\u001b[0m\u001b[0m\n\u001b[1;32m      9\u001b[0m \u001b[0;32mimport\u001b[0m \u001b[0mseaborn\u001b[0m \u001b[0;32mas\u001b[0m \u001b[0msns\u001b[0m\u001b[0;34m\u001b[0m\u001b[0;34m\u001b[0m\u001b[0m\n",
        "\u001b[0;32m~/miniconda3/envs/kmer-hashing/lib/python3.6/site-packages/ray/worker.py\u001b[0m in \u001b[0;36minit\u001b[0;34m(redis_address, num_cpus, num_gpus, resources, object_store_memory, redis_max_memory, log_to_driver, node_ip_address, object_id_seed, local_mode, redirect_worker_output, redirect_output, ignore_reinit_error, num_redis_shards, redis_max_clients, redis_password, plasma_directory, huge_pages, include_webui, job_id, configure_logging, logging_level, logging_format, plasma_store_socket_name, raylet_socket_name, temp_dir, load_code_from_local, _internal_config)\u001b[0m\n\u001b[1;32m   1381\u001b[0m             \u001b[0;32mreturn\u001b[0m\u001b[0;34m\u001b[0m\u001b[0;34m\u001b[0m\u001b[0m\n\u001b[1;32m   1382\u001b[0m         \u001b[0;32melse\u001b[0m\u001b[0;34m:\u001b[0m\u001b[0;34m\u001b[0m\u001b[0;34m\u001b[0m\u001b[0m\n\u001b[0;32m-> 1383\u001b[0;31m             raise Exception(\"Perhaps you called ray.init twice by accident? \"\n\u001b[0m\u001b[1;32m   1384\u001b[0m                             \u001b[0;34m\"This error can be suppressed by passing in \"\u001b[0m\u001b[0;34m\u001b[0m\u001b[0;34m\u001b[0m\u001b[0m\n\u001b[1;32m   1385\u001b[0m                             \u001b[0;34m\"'ignore_reinit_error=True' or by calling \"\u001b[0m\u001b[0;34m\u001b[0m\u001b[0;34m\u001b[0m\u001b[0m\n",
        "\u001b[0;31mException\u001b[0m: Perhaps you called ray.init twice by accident? This error can be suppressed by passing in 'ignore_reinit_error=True' or by calling 'ray.shutdown()' prior to 'ray.init()'."
       ]
      }
     ],
     "persistentId": "9101ba02-87fc-4db3-be7e-3fde4f92cbc2",
     "text": "import os\nimport glob\n\n\nimport ray\n# use fewer CPUs so the OS doesn't run out of processes\nray.init(num_cpus=16)\nimport modin.pandas as pd\nimport seaborn as sns"
    },
    "executionTime": "2019-11-05T16:18:01.946Z"
   },
   {
    "cell": {
     "executionCount": 1,
     "executionEventId": "fbf0b07a-3eba-4a88-97a9-5c0648003540",
     "hasError": false,
     "id": "ebf44c93-6094-4cc1-9312-0cf339e812f6",
     "outputs": [
      {
       "name": "stderr",
       "output_type": "stream",
       "text": "2019-11-05 08:18:08,005\tWARNING worker.py:1373 -- WARNING: Not updating worker name since `setproctitle` is not installed. Install this with `pip install setproctitle` (or ray[debug]) to enable monitoring of worker processes.\n2019-11-05 08:18:08,008\tINFO node.py:498 -- Process STDOUT and STDERR is being redirected to /tmp/ray/session_2019-11-05_08-18-08_006962_98660/logs.\n2019-11-05 08:18:08,120\tINFO services.py:409 -- Waiting for redis server at 127.0.0.1:39230 to respond...\n2019-11-05 08:18:08,247\tINFO services.py:409 -- Waiting for redis server at 127.0.0.1:17442 to respond...\n2019-11-05 08:18:08,252\tINFO services.py:809 -- Starting Redis shard with 10.0 GB max memory.\n2019-11-05 08:18:08,286\tINFO node.py:512 -- Process STDOUT and STDERR is being redirected to /tmp/ray/session_2019-11-05_08-18-08_006962_98660/logs.\n2019-11-05 08:18:08,291\tWARNING services.py:1301 -- Warning: Capping object memory store to 20.0GB. To increase this further, specify `object_store_memory` when calling ray.init() or ray start.\n2019-11-05 08:18:08,293\tINFO services.py:1475 -- Starting the Plasma object store with 20.0 GB memory using /dev/shm.\n"
      }
     ],
     "persistentId": "9101ba02-87fc-4db3-be7e-3fde4f92cbc2",
     "text": "import os\nimport glob\n\n\nimport ray\n# use fewer CPUs so the OS doesn't run out of processes\nray.init(num_cpus=16)\nimport modin.pandas as pd\nimport seaborn as sns"
    },
    "executionTime": "2019-11-05T16:18:08.624Z"
   },
   {
    "cell": {
     "executionCount": 2,
     "executionEventId": "0f6bc76e-8013-4bae-b855-170d4765f7a9",
     "hasError": false,
     "id": "9be10d8b-3bb8-4179-998e-3e93be874db0",
     "outputs": [
      {
       "name": "stdout",
       "output_type": "stream",
       "text": "/mnt/ibm_lg/olga/kmer-hashing/brawand2011/kmermaid/results_dayhoff11_extract_coding_jaccard_threshold05/extract_coding\n"
      }
     ],
     "persistentId": "23969cb6-1090-464a-ab9f-3bcd20e4c596",
     "text": "cd ~/data_lg/kmer-hashing/brawand2011/kmermaid/results_dayhoff11_extract_coding_jaccard_threshold05/extract_coding"
    },
    "executionTime": "2019-11-05T16:18:08.632Z"
   },
   {
    "cell": {
     "executionCount": 3,
     "executionEventId": "edb8b52d-d5b4-4b88-9efe-29faf3cc2d11",
     "hasError": false,
     "id": "4ee688af-2fae-4b56-b6a8-e94c5aca7dd8",
     "outputs": [
      {
       "name": "stdout",
       "output_type": "stream",
       "text": "-rw-r--r-- 1 olga olga 474M Nov  4 19:54 SRR306752_GSM752603_mdo_kd_M_1_trimmed__coding_scores.csv\n-rw-r--r-- 1 olga olga 2.1G Nov  4 13:41 SRR306753_GSM752606_mdo_lv_F_1_trimmed__coding_scores.csv\n-rw-r--r-- 1 olga olga 1.8G Nov  4 17:59 SRR306754_GSM752608_mdo_lv_M_1_trimmed__coding_scores.csv\n-rw-r--r-- 1 olga olga 1.7G Nov  4 22:26 SRR306755_GSM752611_mdo_ts_M_1_trimmed__coding_scores.csv\n-rw-r--r-- 1 olga olga 3.7G Nov  4 15:53 SRR306756_GSM752613_mdo_ts_M_2_trimmed__coding_scores.csv\n"
      }
     ],
     "persistentId": "35248e0d-c908-4ba0-b18d-69d11c2e4169",
     "text": "ls -lha *mdo*csv"
    },
    "executionTime": "2019-11-05T16:18:08.838Z"
   },
   {
    "cell": {
     "executionCount": 4,
     "executionEventId": "69016fa6-5398-4af7-904f-7d32ffc55fcb",
     "hasError": true,
     "id": "44408e4f-b497-48fa-a4f3-f9774e9d1f77",
     "outputs": [
      {
       "ename": "RayTaskError",
       "evalue": "\u001b[36mray_worker\u001b[39m (pid=98844, host=ndnd)\n  File \"/home/olga/miniconda3/envs/kmer-hashing/lib/python3.6/site-packages/modin/engines/ray/pandas_on_ray/io.py\", line 83, in _read_csv_with_offset_pandas_on_ray\n    bio = file_open(fname, \"rb\", kwargs.pop(\"compression\", \"infer\"))\n  File \"/home/olga/miniconda3/envs/kmer-hashing/lib/python3.6/site-packages/modin/engines/ray/generic/io.py\", line 91, in file_open\n    return open(file_path, mode=mode)\nFileNotFoundError: [Errno 2] No such file or directory: 'SRR306752_GSM752603_mdo_kd_M_1_trimmed__coding_scores.csv'\n",
       "output_type": "error",
       "traceback": [
        "\u001b[0;31m---------------------------------------------------------------------------\u001b[0m",
        "\u001b[0;31mRayTaskError\u001b[0m                              Traceback (most recent call last)",
        "\u001b[0;32m<ipython-input-4-b99fdd77ce7a>\u001b[0m in \u001b[0;36m<module>\u001b[0;34m()\u001b[0m\n\u001b[0;32m----> 1\u001b[0;31m \u001b[0mdf\u001b[0m \u001b[0;34m=\u001b[0m \u001b[0mpd\u001b[0m\u001b[0;34m.\u001b[0m\u001b[0mread_csv\u001b[0m\u001b[0;34m(\u001b[0m\u001b[0;34m'SRR306752_GSM752603_mdo_kd_M_1_trimmed__coding_scores.csv'\u001b[0m\u001b[0;34m)\u001b[0m\u001b[0;34m\u001b[0m\u001b[0;34m\u001b[0m\u001b[0m\n\u001b[0m\u001b[1;32m      2\u001b[0m \u001b[0mprint\u001b[0m\u001b[0;34m(\u001b[0m\u001b[0mdf\u001b[0m\u001b[0;34m.\u001b[0m\u001b[0mshape\u001b[0m\u001b[0;34m)\u001b[0m\u001b[0;34m\u001b[0m\u001b[0;34m\u001b[0m\u001b[0m\n\u001b[1;32m      3\u001b[0m \u001b[0mdf\u001b[0m\u001b[0;34m.\u001b[0m\u001b[0mhead\u001b[0m\u001b[0;34m(\u001b[0m\u001b[0;34m)\u001b[0m\u001b[0;34m\u001b[0m\u001b[0;34m\u001b[0m\u001b[0m\n",
        "\u001b[0;32m~/miniconda3/envs/kmer-hashing/lib/python3.6/site-packages/modin/pandas/io.py\u001b[0m in \u001b[0;36mparser_func\u001b[0;34m(filepath_or_buffer, sep, delimiter, header, names, index_col, usecols, squeeze, prefix, mangle_dupe_cols, dtype, engine, converters, true_values, false_values, skipinitialspace, skiprows, nrows, na_values, keep_default_na, na_filter, verbose, skip_blank_lines, parse_dates, infer_datetime_format, keep_date_col, date_parser, dayfirst, cache_dates, iterator, chunksize, compression, thousands, decimal, lineterminator, quotechar, quoting, escapechar, comment, encoding, dialect, error_bad_lines, warn_bad_lines, skipfooter, doublequote, delim_whitespace, low_memory, memory_map, float_precision)\u001b[0m\n\u001b[1;32m     95\u001b[0m         \u001b[0;32mif\u001b[0m \u001b[0;32mnot\u001b[0m \u001b[0mkwargs\u001b[0m\u001b[0;34m.\u001b[0m\u001b[0mget\u001b[0m\u001b[0;34m(\u001b[0m\u001b[0;34m\"sep\"\u001b[0m\u001b[0;34m,\u001b[0m \u001b[0msep\u001b[0m\u001b[0;34m)\u001b[0m\u001b[0;34m:\u001b[0m\u001b[0;34m\u001b[0m\u001b[0;34m\u001b[0m\u001b[0m\n\u001b[1;32m     96\u001b[0m             \u001b[0mkwargs\u001b[0m\u001b[0;34m[\u001b[0m\u001b[0;34m\"sep\"\u001b[0m\u001b[0;34m]\u001b[0m \u001b[0;34m=\u001b[0m \u001b[0;34m\"\\t\"\u001b[0m\u001b[0;34m\u001b[0m\u001b[0;34m\u001b[0m\u001b[0m\n\u001b[0;32m---> 97\u001b[0;31m         \u001b[0;32mreturn\u001b[0m \u001b[0m_read\u001b[0m\u001b[0;34m(\u001b[0m\u001b[0;34m**\u001b[0m\u001b[0mkwargs\u001b[0m\u001b[0;34m)\u001b[0m\u001b[0;34m\u001b[0m\u001b[0;34m\u001b[0m\u001b[0m\n\u001b[0m\u001b[1;32m     98\u001b[0m \u001b[0;34m\u001b[0m\u001b[0m\n\u001b[1;32m     99\u001b[0m     \u001b[0;32mreturn\u001b[0m \u001b[0mparser_func\u001b[0m\u001b[0;34m\u001b[0m\u001b[0;34m\u001b[0m\u001b[0m\n",
        "\u001b[0;32m~/miniconda3/envs/kmer-hashing/lib/python3.6/site-packages/modin/pandas/io.py\u001b[0m in \u001b[0;36m_read\u001b[0;34m(**kwargs)\u001b[0m\n\u001b[1;32m    108\u001b[0m         \u001b[0mkwargs\u001b[0m\u001b[0;34m:\u001b[0m \u001b[0mKeyword\u001b[0m \u001b[0marguments\u001b[0m \u001b[0;32min\u001b[0m \u001b[0mpandas\u001b[0m\u001b[0;34m.\u001b[0m\u001b[0mread_csv\u001b[0m\u001b[0;34m\u001b[0m\u001b[0;34m\u001b[0m\u001b[0m\n\u001b[1;32m    109\u001b[0m     \"\"\"\n\u001b[0;32m--> 110\u001b[0;31m     \u001b[0mpd_obj\u001b[0m \u001b[0;34m=\u001b[0m \u001b[0mBaseFactory\u001b[0m\u001b[0;34m.\u001b[0m\u001b[0mread_csv\u001b[0m\u001b[0;34m(\u001b[0m\u001b[0;34m**\u001b[0m\u001b[0mkwargs\u001b[0m\u001b[0;34m)\u001b[0m\u001b[0;34m\u001b[0m\u001b[0;34m\u001b[0m\u001b[0m\n\u001b[0m\u001b[1;32m    111\u001b[0m     \u001b[0;31m# This happens when `read_csv` returns a TextFileReader object for iterating through\u001b[0m\u001b[0;34m\u001b[0m\u001b[0;34m\u001b[0m\u001b[0;34m\u001b[0m\u001b[0m\n\u001b[1;32m    112\u001b[0m     \u001b[0;32mif\u001b[0m \u001b[0misinstance\u001b[0m\u001b[0;34m(\u001b[0m\u001b[0mpd_obj\u001b[0m\u001b[0;34m,\u001b[0m \u001b[0mpandas\u001b[0m\u001b[0;34m.\u001b[0m\u001b[0mio\u001b[0m\u001b[0;34m.\u001b[0m\u001b[0mparsers\u001b[0m\u001b[0;34m.\u001b[0m\u001b[0mTextFileReader\u001b[0m\u001b[0;34m)\u001b[0m\u001b[0;34m:\u001b[0m\u001b[0;34m\u001b[0m\u001b[0;34m\u001b[0m\u001b[0m\n",
        "\u001b[0;32m~/miniconda3/envs/kmer-hashing/lib/python3.6/site-packages/modin/data_management/factories.py\u001b[0m in \u001b[0;36mread_csv\u001b[0;34m(cls, **kwargs)\u001b[0m\n\u001b[1;32m     50\u001b[0m     \u001b[0;34m@\u001b[0m\u001b[0mclassmethod\u001b[0m\u001b[0;34m\u001b[0m\u001b[0;34m\u001b[0m\u001b[0m\n\u001b[1;32m     51\u001b[0m     \u001b[0;32mdef\u001b[0m \u001b[0mread_csv\u001b[0m\u001b[0;34m(\u001b[0m\u001b[0mcls\u001b[0m\u001b[0;34m,\u001b[0m \u001b[0;34m**\u001b[0m\u001b[0mkwargs\u001b[0m\u001b[0;34m)\u001b[0m\u001b[0;34m:\u001b[0m\u001b[0;34m\u001b[0m\u001b[0;34m\u001b[0m\u001b[0m\n\u001b[0;32m---> 52\u001b[0;31m         \u001b[0;32mreturn\u001b[0m \u001b[0mcls\u001b[0m\u001b[0;34m.\u001b[0m\u001b[0m_determine_engine\u001b[0m\u001b[0;34m(\u001b[0m\u001b[0;34m)\u001b[0m\u001b[0;34m.\u001b[0m\u001b[0m_read_csv\u001b[0m\u001b[0;34m(\u001b[0m\u001b[0;34m**\u001b[0m\u001b[0mkwargs\u001b[0m\u001b[0;34m)\u001b[0m\u001b[0;34m\u001b[0m\u001b[0;34m\u001b[0m\u001b[0m\n\u001b[0m\u001b[1;32m     53\u001b[0m \u001b[0;34m\u001b[0m\u001b[0m\n\u001b[1;32m     54\u001b[0m     \u001b[0;34m@\u001b[0m\u001b[0mclassmethod\u001b[0m\u001b[0;34m\u001b[0m\u001b[0;34m\u001b[0m\u001b[0m\n",
        "\u001b[0;32m~/miniconda3/envs/kmer-hashing/lib/python3.6/site-packages/modin/data_management/factories.py\u001b[0m in \u001b[0;36m_read_csv\u001b[0;34m(cls, **kwargs)\u001b[0m\n\u001b[1;32m     54\u001b[0m     \u001b[0;34m@\u001b[0m\u001b[0mclassmethod\u001b[0m\u001b[0;34m\u001b[0m\u001b[0;34m\u001b[0m\u001b[0m\n\u001b[1;32m     55\u001b[0m     \u001b[0;32mdef\u001b[0m \u001b[0m_read_csv\u001b[0m\u001b[0;34m(\u001b[0m\u001b[0mcls\u001b[0m\u001b[0;34m,\u001b[0m \u001b[0;34m**\u001b[0m\u001b[0mkwargs\u001b[0m\u001b[0;34m)\u001b[0m\u001b[0;34m:\u001b[0m\u001b[0;34m\u001b[0m\u001b[0;34m\u001b[0m\u001b[0m\n\u001b[0;32m---> 56\u001b[0;31m         \u001b[0;32mreturn\u001b[0m \u001b[0mcls\u001b[0m\u001b[0;34m.\u001b[0m\u001b[0mio_cls\u001b[0m\u001b[0;34m.\u001b[0m\u001b[0mread_csv\u001b[0m\u001b[0;34m(\u001b[0m\u001b[0;34m**\u001b[0m\u001b[0mkwargs\u001b[0m\u001b[0;34m)\u001b[0m\u001b[0;34m\u001b[0m\u001b[0;34m\u001b[0m\u001b[0m\n\u001b[0m\u001b[1;32m     57\u001b[0m \u001b[0;34m\u001b[0m\u001b[0m\n\u001b[1;32m     58\u001b[0m     \u001b[0;34m@\u001b[0m\u001b[0mclassmethod\u001b[0m\u001b[0;34m\u001b[0m\u001b[0;34m\u001b[0m\u001b[0m\n",
        "\u001b[0;32m~/miniconda3/envs/kmer-hashing/lib/python3.6/site-packages/modin/engines/ray/generic/io.py\u001b[0m in \u001b[0;36mread_csv\u001b[0;34m(cls, filepath_or_buffer, sep, delimiter, header, names, index_col, usecols, squeeze, prefix, mangle_dupe_cols, dtype, engine, converters, true_values, false_values, skipinitialspace, skiprows, nrows, na_values, keep_default_na, na_filter, verbose, skip_blank_lines, parse_dates, infer_datetime_format, keep_date_col, date_parser, dayfirst, cache_dates, iterator, chunksize, compression, thousands, decimal, lineterminator, quotechar, quoting, escapechar, comment, encoding, dialect, error_bad_lines, warn_bad_lines, skipfooter, doublequote, delim_whitespace, low_memory, memory_map, float_precision)\u001b[0m\n\u001b[1;32m    680\u001b[0m         \u001b[0;32mif\u001b[0m \u001b[0mcls\u001b[0m\u001b[0;34m.\u001b[0m\u001b[0mread_csv_remote_task\u001b[0m \u001b[0;32mis\u001b[0m \u001b[0;32mNone\u001b[0m\u001b[0;34m:\u001b[0m\u001b[0;34m\u001b[0m\u001b[0;34m\u001b[0m\u001b[0m\n\u001b[1;32m    681\u001b[0m             \u001b[0;32mreturn\u001b[0m \u001b[0msuper\u001b[0m\u001b[0;34m(\u001b[0m\u001b[0mRayIO\u001b[0m\u001b[0;34m,\u001b[0m \u001b[0mcls\u001b[0m\u001b[0;34m)\u001b[0m\u001b[0;34m.\u001b[0m\u001b[0mread_csv\u001b[0m\u001b[0;34m(\u001b[0m\u001b[0;34m**\u001b[0m\u001b[0mkwargs\u001b[0m\u001b[0;34m)\u001b[0m\u001b[0;34m\u001b[0m\u001b[0;34m\u001b[0m\u001b[0m\n\u001b[0;32m--> 682\u001b[0;31m         \u001b[0;32mreturn\u001b[0m \u001b[0mcls\u001b[0m\u001b[0;34m.\u001b[0m\u001b[0m_read\u001b[0m\u001b[0;34m(\u001b[0m\u001b[0;34m**\u001b[0m\u001b[0mkwargs\u001b[0m\u001b[0;34m)\u001b[0m\u001b[0;34m\u001b[0m\u001b[0;34m\u001b[0m\u001b[0m\n\u001b[0m\u001b[1;32m    683\u001b[0m \u001b[0;34m\u001b[0m\u001b[0m\n\u001b[1;32m    684\u001b[0m     \u001b[0;34m@\u001b[0m\u001b[0mclassmethod\u001b[0m\u001b[0;34m\u001b[0m\u001b[0;34m\u001b[0m\u001b[0m\n",
        "\u001b[0;32m~/miniconda3/envs/kmer-hashing/lib/python3.6/site-packages/modin/engines/ray/generic/io.py\u001b[0m in \u001b[0;36m_read\u001b[0;34m(cls, filepath_or_buffer, **kwargs)\u001b[0m\n\u001b[1;32m    766\u001b[0m             \u001b[0;32mreturn\u001b[0m \u001b[0mcls\u001b[0m\u001b[0;34m.\u001b[0m\u001b[0m_read_csv_from_pandas\u001b[0m\u001b[0;34m(\u001b[0m\u001b[0mfilepath_or_buffer\u001b[0m\u001b[0;34m,\u001b[0m \u001b[0mfiltered_kwargs\u001b[0m\u001b[0;34m)\u001b[0m\u001b[0;34m\u001b[0m\u001b[0;34m\u001b[0m\u001b[0m\n\u001b[1;32m    767\u001b[0m         \u001b[0;32melse\u001b[0m\u001b[0;34m:\u001b[0m\u001b[0;34m\u001b[0m\u001b[0;34m\u001b[0m\u001b[0m\n\u001b[0;32m--> 768\u001b[0;31m             \u001b[0;32mreturn\u001b[0m \u001b[0mcls\u001b[0m\u001b[0;34m.\u001b[0m\u001b[0m_read_csv_from_file_ray\u001b[0m\u001b[0;34m(\u001b[0m\u001b[0mfilepath_or_buffer\u001b[0m\u001b[0;34m,\u001b[0m \u001b[0mfiltered_kwargs\u001b[0m\u001b[0;34m)\u001b[0m\u001b[0;34m\u001b[0m\u001b[0;34m\u001b[0m\u001b[0m\n\u001b[0m\u001b[1;32m    769\u001b[0m \u001b[0;34m\u001b[0m\u001b[0m\n\u001b[1;32m    770\u001b[0m     \u001b[0;34m@\u001b[0m\u001b[0mclassmethod\u001b[0m\u001b[0;34m\u001b[0m\u001b[0;34m\u001b[0m\u001b[0m\n",
        "\u001b[0;32m~/miniconda3/envs/kmer-hashing/lib/python3.6/site-packages/modin/engines/ray/generic/io.py\u001b[0m in \u001b[0;36m_read_csv_from_file_ray\u001b[0;34m(cls, filepath, kwargs)\u001b[0m\n\u001b[1;32m    490\u001b[0m         \u001b[0;31m# or based on the column(s) that were requested.\u001b[0m\u001b[0;34m\u001b[0m\u001b[0;34m\u001b[0m\u001b[0;34m\u001b[0m\u001b[0m\n\u001b[1;32m    491\u001b[0m         \u001b[0;32mif\u001b[0m \u001b[0mindex_col\u001b[0m \u001b[0;32mis\u001b[0m \u001b[0;32mNone\u001b[0m\u001b[0;34m:\u001b[0m\u001b[0;34m\u001b[0m\u001b[0;34m\u001b[0m\u001b[0m\n\u001b[0;32m--> 492\u001b[0;31m             \u001b[0mrow_lengths\u001b[0m \u001b[0;34m=\u001b[0m \u001b[0mray\u001b[0m\u001b[0;34m.\u001b[0m\u001b[0mget\u001b[0m\u001b[0;34m(\u001b[0m\u001b[0mindex_ids\u001b[0m\u001b[0;34m)\u001b[0m\u001b[0;34m\u001b[0m\u001b[0;34m\u001b[0m\u001b[0m\n\u001b[0m\u001b[1;32m    493\u001b[0m             \u001b[0mnew_index\u001b[0m \u001b[0;34m=\u001b[0m \u001b[0mpandas\u001b[0m\u001b[0;34m.\u001b[0m\u001b[0mRangeIndex\u001b[0m\u001b[0;34m(\u001b[0m\u001b[0msum\u001b[0m\u001b[0;34m(\u001b[0m\u001b[0mrow_lengths\u001b[0m\u001b[0;34m)\u001b[0m\u001b[0;34m)\u001b[0m\u001b[0;34m\u001b[0m\u001b[0;34m\u001b[0m\u001b[0m\n\u001b[1;32m    494\u001b[0m         \u001b[0;32melse\u001b[0m\u001b[0;34m:\u001b[0m\u001b[0;34m\u001b[0m\u001b[0;34m\u001b[0m\u001b[0m\n",
        "\u001b[0;32m~/miniconda3/envs/kmer-hashing/lib/python3.6/site-packages/ray/worker.py\u001b[0m in \u001b[0;36mget\u001b[0;34m(object_ids)\u001b[0m\n\u001b[1;32m   2245\u001b[0m             \u001b[0;32mif\u001b[0m \u001b[0misinstance\u001b[0m\u001b[0;34m(\u001b[0m\u001b[0mvalue\u001b[0m\u001b[0;34m,\u001b[0m \u001b[0mRayError\u001b[0m\u001b[0;34m)\u001b[0m\u001b[0;34m:\u001b[0m\u001b[0;34m\u001b[0m\u001b[0;34m\u001b[0m\u001b[0m\n\u001b[1;32m   2246\u001b[0m                 \u001b[0mlast_task_error_raise_time\u001b[0m \u001b[0;34m=\u001b[0m \u001b[0mtime\u001b[0m\u001b[0;34m.\u001b[0m\u001b[0mtime\u001b[0m\u001b[0;34m(\u001b[0m\u001b[0;34m)\u001b[0m\u001b[0;34m\u001b[0m\u001b[0;34m\u001b[0m\u001b[0m\n\u001b[0;32m-> 2247\u001b[0;31m                 \u001b[0;32mraise\u001b[0m \u001b[0mvalue\u001b[0m\u001b[0;34m\u001b[0m\u001b[0;34m\u001b[0m\u001b[0m\n\u001b[0m\u001b[1;32m   2248\u001b[0m \u001b[0;34m\u001b[0m\u001b[0m\n\u001b[1;32m   2249\u001b[0m         \u001b[0;31m# Run post processors.\u001b[0m\u001b[0;34m\u001b[0m\u001b[0;34m\u001b[0m\u001b[0;34m\u001b[0m\u001b[0m\n",
        "\u001b[0;31mRayTaskError\u001b[0m: \u001b[36mray_worker\u001b[39m (pid=98844, host=ndnd)\n  File \"/home/olga/miniconda3/envs/kmer-hashing/lib/python3.6/site-packages/modin/engines/ray/pandas_on_ray/io.py\", line 83, in _read_csv_with_offset_pandas_on_ray\n    bio = file_open(fname, \"rb\", kwargs.pop(\"compression\", \"infer\"))\n  File \"/home/olga/miniconda3/envs/kmer-hashing/lib/python3.6/site-packages/modin/engines/ray/generic/io.py\", line 91, in file_open\n    return open(file_path, mode=mode)\nFileNotFoundError: [Errno 2] No such file or directory: 'SRR306752_GSM752603_mdo_kd_M_1_trimmed__coding_scores.csv'\n"
       ]
      }
     ],
     "persistentId": "5df7490d-8149-4742-a2fa-28feb4a39f78",
     "text": "df = pd.read_csv('SRR306752_GSM752603_mdo_kd_M_1_trimmed__coding_scores.csv')\nprint(df.shape)\ndf.head()"
    },
    "executionTime": "2019-11-05T16:18:09.174Z"
   },
   {
    "cell": {
     "executionCount": 5,
     "executionEventId": "756f26ae-610d-469f-ad6e-d9b87d3cbdb2",
     "hasError": true,
     "id": "7c756941-1903-4921-8c5d-37160b1a4204",
     "outputs": [
      {
       "name": "stdout",
       "output_type": "stream",
       "text": "--- SRR306827_GSM752680_ppa_br_F_2_trimmed__coding_scores.csv ---\nReading csv ...\n"
      },
      {
       "ename": "RayTaskError",
       "evalue": "\u001b[36mray_worker\u001b[39m (pid=98844, host=ndnd)\n  File \"/home/olga/miniconda3/envs/kmer-hashing/lib/python3.6/site-packages/modin/engines/ray/pandas_on_ray/io.py\", line 83, in _read_csv_with_offset_pandas_on_ray\n    bio = file_open(fname, \"rb\", kwargs.pop(\"compression\", \"infer\"))\n  File \"/home/olga/miniconda3/envs/kmer-hashing/lib/python3.6/site-packages/modin/engines/ray/generic/io.py\", line 91, in file_open\n    return open(file_path, mode=mode)\nFileNotFoundError: [Errno 2] No such file or directory: 'SRR306827_GSM752680_ppa_br_F_2_trimmed__coding_scores.csv'\n",
       "output_type": "error",
       "traceback": [
        "\u001b[0;31m---------------------------------------------------------------------------\u001b[0m",
        "\u001b[0;31mRayTaskError\u001b[0m                              Traceback (most recent call last)",
        "\u001b[0;32m<timed exec>\u001b[0m in \u001b[0;36m<module>\u001b[0;34m()\u001b[0m\n",
        "\u001b[0;32m~/miniconda3/envs/kmer-hashing/lib/python3.6/site-packages/modin/pandas/io.py\u001b[0m in \u001b[0;36mparser_func\u001b[0;34m(filepath_or_buffer, sep, delimiter, header, names, index_col, usecols, squeeze, prefix, mangle_dupe_cols, dtype, engine, converters, true_values, false_values, skipinitialspace, skiprows, nrows, na_values, keep_default_na, na_filter, verbose, skip_blank_lines, parse_dates, infer_datetime_format, keep_date_col, date_parser, dayfirst, cache_dates, iterator, chunksize, compression, thousands, decimal, lineterminator, quotechar, quoting, escapechar, comment, encoding, dialect, error_bad_lines, warn_bad_lines, skipfooter, doublequote, delim_whitespace, low_memory, memory_map, float_precision)\u001b[0m\n\u001b[1;32m     95\u001b[0m         \u001b[0;32mif\u001b[0m \u001b[0;32mnot\u001b[0m \u001b[0mkwargs\u001b[0m\u001b[0;34m.\u001b[0m\u001b[0mget\u001b[0m\u001b[0;34m(\u001b[0m\u001b[0;34m\"sep\"\u001b[0m\u001b[0;34m,\u001b[0m \u001b[0msep\u001b[0m\u001b[0;34m)\u001b[0m\u001b[0;34m:\u001b[0m\u001b[0;34m\u001b[0m\u001b[0;34m\u001b[0m\u001b[0m\n\u001b[1;32m     96\u001b[0m             \u001b[0mkwargs\u001b[0m\u001b[0;34m[\u001b[0m\u001b[0;34m\"sep\"\u001b[0m\u001b[0;34m]\u001b[0m \u001b[0;34m=\u001b[0m \u001b[0;34m\"\\t\"\u001b[0m\u001b[0;34m\u001b[0m\u001b[0;34m\u001b[0m\u001b[0m\n\u001b[0;32m---> 97\u001b[0;31m         \u001b[0;32mreturn\u001b[0m \u001b[0m_read\u001b[0m\u001b[0;34m(\u001b[0m\u001b[0;34m**\u001b[0m\u001b[0mkwargs\u001b[0m\u001b[0;34m)\u001b[0m\u001b[0;34m\u001b[0m\u001b[0;34m\u001b[0m\u001b[0m\n\u001b[0m\u001b[1;32m     98\u001b[0m \u001b[0;34m\u001b[0m\u001b[0m\n\u001b[1;32m     99\u001b[0m     \u001b[0;32mreturn\u001b[0m \u001b[0mparser_func\u001b[0m\u001b[0;34m\u001b[0m\u001b[0;34m\u001b[0m\u001b[0m\n",
        "\u001b[0;32m~/miniconda3/envs/kmer-hashing/lib/python3.6/site-packages/modin/pandas/io.py\u001b[0m in \u001b[0;36m_read\u001b[0;34m(**kwargs)\u001b[0m\n\u001b[1;32m    108\u001b[0m         \u001b[0mkwargs\u001b[0m\u001b[0;34m:\u001b[0m \u001b[0mKeyword\u001b[0m \u001b[0marguments\u001b[0m \u001b[0;32min\u001b[0m \u001b[0mpandas\u001b[0m\u001b[0;34m.\u001b[0m\u001b[0mread_csv\u001b[0m\u001b[0;34m\u001b[0m\u001b[0;34m\u001b[0m\u001b[0m\n\u001b[1;32m    109\u001b[0m     \"\"\"\n\u001b[0;32m--> 110\u001b[0;31m     \u001b[0mpd_obj\u001b[0m \u001b[0;34m=\u001b[0m \u001b[0mBaseFactory\u001b[0m\u001b[0;34m.\u001b[0m\u001b[0mread_csv\u001b[0m\u001b[0;34m(\u001b[0m\u001b[0;34m**\u001b[0m\u001b[0mkwargs\u001b[0m\u001b[0;34m)\u001b[0m\u001b[0;34m\u001b[0m\u001b[0;34m\u001b[0m\u001b[0m\n\u001b[0m\u001b[1;32m    111\u001b[0m     \u001b[0;31m# This happens when `read_csv` returns a TextFileReader object for iterating through\u001b[0m\u001b[0;34m\u001b[0m\u001b[0;34m\u001b[0m\u001b[0;34m\u001b[0m\u001b[0m\n\u001b[1;32m    112\u001b[0m     \u001b[0;32mif\u001b[0m \u001b[0misinstance\u001b[0m\u001b[0;34m(\u001b[0m\u001b[0mpd_obj\u001b[0m\u001b[0;34m,\u001b[0m \u001b[0mpandas\u001b[0m\u001b[0;34m.\u001b[0m\u001b[0mio\u001b[0m\u001b[0;34m.\u001b[0m\u001b[0mparsers\u001b[0m\u001b[0;34m.\u001b[0m\u001b[0mTextFileReader\u001b[0m\u001b[0;34m)\u001b[0m\u001b[0;34m:\u001b[0m\u001b[0;34m\u001b[0m\u001b[0;34m\u001b[0m\u001b[0m\n",
        "\u001b[0;32m~/miniconda3/envs/kmer-hashing/lib/python3.6/site-packages/modin/data_management/factories.py\u001b[0m in \u001b[0;36mread_csv\u001b[0;34m(cls, **kwargs)\u001b[0m\n\u001b[1;32m     50\u001b[0m     \u001b[0;34m@\u001b[0m\u001b[0mclassmethod\u001b[0m\u001b[0;34m\u001b[0m\u001b[0;34m\u001b[0m\u001b[0m\n\u001b[1;32m     51\u001b[0m     \u001b[0;32mdef\u001b[0m \u001b[0mread_csv\u001b[0m\u001b[0;34m(\u001b[0m\u001b[0mcls\u001b[0m\u001b[0;34m,\u001b[0m \u001b[0;34m**\u001b[0m\u001b[0mkwargs\u001b[0m\u001b[0;34m)\u001b[0m\u001b[0;34m:\u001b[0m\u001b[0;34m\u001b[0m\u001b[0;34m\u001b[0m\u001b[0m\n\u001b[0;32m---> 52\u001b[0;31m         \u001b[0;32mreturn\u001b[0m \u001b[0mcls\u001b[0m\u001b[0;34m.\u001b[0m\u001b[0m_determine_engine\u001b[0m\u001b[0;34m(\u001b[0m\u001b[0;34m)\u001b[0m\u001b[0;34m.\u001b[0m\u001b[0m_read_csv\u001b[0m\u001b[0;34m(\u001b[0m\u001b[0;34m**\u001b[0m\u001b[0mkwargs\u001b[0m\u001b[0;34m)\u001b[0m\u001b[0;34m\u001b[0m\u001b[0;34m\u001b[0m\u001b[0m\n\u001b[0m\u001b[1;32m     53\u001b[0m \u001b[0;34m\u001b[0m\u001b[0m\n\u001b[1;32m     54\u001b[0m     \u001b[0;34m@\u001b[0m\u001b[0mclassmethod\u001b[0m\u001b[0;34m\u001b[0m\u001b[0;34m\u001b[0m\u001b[0m\n",
        "\u001b[0;32m~/miniconda3/envs/kmer-hashing/lib/python3.6/site-packages/modin/data_management/factories.py\u001b[0m in \u001b[0;36m_read_csv\u001b[0;34m(cls, **kwargs)\u001b[0m\n\u001b[1;32m     54\u001b[0m     \u001b[0;34m@\u001b[0m\u001b[0mclassmethod\u001b[0m\u001b[0;34m\u001b[0m\u001b[0;34m\u001b[0m\u001b[0m\n\u001b[1;32m     55\u001b[0m     \u001b[0;32mdef\u001b[0m \u001b[0m_read_csv\u001b[0m\u001b[0;34m(\u001b[0m\u001b[0mcls\u001b[0m\u001b[0;34m,\u001b[0m \u001b[0;34m**\u001b[0m\u001b[0mkwargs\u001b[0m\u001b[0;34m)\u001b[0m\u001b[0;34m:\u001b[0m\u001b[0;34m\u001b[0m\u001b[0;34m\u001b[0m\u001b[0m\n\u001b[0;32m---> 56\u001b[0;31m         \u001b[0;32mreturn\u001b[0m \u001b[0mcls\u001b[0m\u001b[0;34m.\u001b[0m\u001b[0mio_cls\u001b[0m\u001b[0;34m.\u001b[0m\u001b[0mread_csv\u001b[0m\u001b[0;34m(\u001b[0m\u001b[0;34m**\u001b[0m\u001b[0mkwargs\u001b[0m\u001b[0;34m)\u001b[0m\u001b[0;34m\u001b[0m\u001b[0;34m\u001b[0m\u001b[0m\n\u001b[0m\u001b[1;32m     57\u001b[0m \u001b[0;34m\u001b[0m\u001b[0m\n\u001b[1;32m     58\u001b[0m     \u001b[0;34m@\u001b[0m\u001b[0mclassmethod\u001b[0m\u001b[0;34m\u001b[0m\u001b[0;34m\u001b[0m\u001b[0m\n",
        "\u001b[0;32m~/miniconda3/envs/kmer-hashing/lib/python3.6/site-packages/modin/engines/ray/generic/io.py\u001b[0m in \u001b[0;36mread_csv\u001b[0;34m(cls, filepath_or_buffer, sep, delimiter, header, names, index_col, usecols, squeeze, prefix, mangle_dupe_cols, dtype, engine, converters, true_values, false_values, skipinitialspace, skiprows, nrows, na_values, keep_default_na, na_filter, verbose, skip_blank_lines, parse_dates, infer_datetime_format, keep_date_col, date_parser, dayfirst, cache_dates, iterator, chunksize, compression, thousands, decimal, lineterminator, quotechar, quoting, escapechar, comment, encoding, dialect, error_bad_lines, warn_bad_lines, skipfooter, doublequote, delim_whitespace, low_memory, memory_map, float_precision)\u001b[0m\n\u001b[1;32m    680\u001b[0m         \u001b[0;32mif\u001b[0m \u001b[0mcls\u001b[0m\u001b[0;34m.\u001b[0m\u001b[0mread_csv_remote_task\u001b[0m \u001b[0;32mis\u001b[0m \u001b[0;32mNone\u001b[0m\u001b[0;34m:\u001b[0m\u001b[0;34m\u001b[0m\u001b[0;34m\u001b[0m\u001b[0m\n\u001b[1;32m    681\u001b[0m             \u001b[0;32mreturn\u001b[0m \u001b[0msuper\u001b[0m\u001b[0;34m(\u001b[0m\u001b[0mRayIO\u001b[0m\u001b[0;34m,\u001b[0m \u001b[0mcls\u001b[0m\u001b[0;34m)\u001b[0m\u001b[0;34m.\u001b[0m\u001b[0mread_csv\u001b[0m\u001b[0;34m(\u001b[0m\u001b[0;34m**\u001b[0m\u001b[0mkwargs\u001b[0m\u001b[0;34m)\u001b[0m\u001b[0;34m\u001b[0m\u001b[0;34m\u001b[0m\u001b[0m\n\u001b[0;32m--> 682\u001b[0;31m         \u001b[0;32mreturn\u001b[0m \u001b[0mcls\u001b[0m\u001b[0;34m.\u001b[0m\u001b[0m_read\u001b[0m\u001b[0;34m(\u001b[0m\u001b[0;34m**\u001b[0m\u001b[0mkwargs\u001b[0m\u001b[0;34m)\u001b[0m\u001b[0;34m\u001b[0m\u001b[0;34m\u001b[0m\u001b[0m\n\u001b[0m\u001b[1;32m    683\u001b[0m \u001b[0;34m\u001b[0m\u001b[0m\n\u001b[1;32m    684\u001b[0m     \u001b[0;34m@\u001b[0m\u001b[0mclassmethod\u001b[0m\u001b[0;34m\u001b[0m\u001b[0;34m\u001b[0m\u001b[0m\n",
        "\u001b[0;32m~/miniconda3/envs/kmer-hashing/lib/python3.6/site-packages/modin/engines/ray/generic/io.py\u001b[0m in \u001b[0;36m_read\u001b[0;34m(cls, filepath_or_buffer, **kwargs)\u001b[0m\n\u001b[1;32m    766\u001b[0m             \u001b[0;32mreturn\u001b[0m \u001b[0mcls\u001b[0m\u001b[0;34m.\u001b[0m\u001b[0m_read_csv_from_pandas\u001b[0m\u001b[0;34m(\u001b[0m\u001b[0mfilepath_or_buffer\u001b[0m\u001b[0;34m,\u001b[0m \u001b[0mfiltered_kwargs\u001b[0m\u001b[0;34m)\u001b[0m\u001b[0;34m\u001b[0m\u001b[0;34m\u001b[0m\u001b[0m\n\u001b[1;32m    767\u001b[0m         \u001b[0;32melse\u001b[0m\u001b[0;34m:\u001b[0m\u001b[0;34m\u001b[0m\u001b[0;34m\u001b[0m\u001b[0m\n\u001b[0;32m--> 768\u001b[0;31m             \u001b[0;32mreturn\u001b[0m \u001b[0mcls\u001b[0m\u001b[0;34m.\u001b[0m\u001b[0m_read_csv_from_file_ray\u001b[0m\u001b[0;34m(\u001b[0m\u001b[0mfilepath_or_buffer\u001b[0m\u001b[0;34m,\u001b[0m \u001b[0mfiltered_kwargs\u001b[0m\u001b[0;34m)\u001b[0m\u001b[0;34m\u001b[0m\u001b[0;34m\u001b[0m\u001b[0m\n\u001b[0m\u001b[1;32m    769\u001b[0m \u001b[0;34m\u001b[0m\u001b[0m\n\u001b[1;32m    770\u001b[0m     \u001b[0;34m@\u001b[0m\u001b[0mclassmethod\u001b[0m\u001b[0;34m\u001b[0m\u001b[0;34m\u001b[0m\u001b[0m\n",
        "\u001b[0;32m~/miniconda3/envs/kmer-hashing/lib/python3.6/site-packages/modin/engines/ray/generic/io.py\u001b[0m in \u001b[0;36m_read_csv_from_file_ray\u001b[0;34m(cls, filepath, kwargs)\u001b[0m\n\u001b[1;32m    490\u001b[0m         \u001b[0;31m# or based on the column(s) that were requested.\u001b[0m\u001b[0;34m\u001b[0m\u001b[0;34m\u001b[0m\u001b[0;34m\u001b[0m\u001b[0m\n\u001b[1;32m    491\u001b[0m         \u001b[0;32mif\u001b[0m \u001b[0mindex_col\u001b[0m \u001b[0;32mis\u001b[0m \u001b[0;32mNone\u001b[0m\u001b[0;34m:\u001b[0m\u001b[0;34m\u001b[0m\u001b[0;34m\u001b[0m\u001b[0m\n\u001b[0;32m--> 492\u001b[0;31m             \u001b[0mrow_lengths\u001b[0m \u001b[0;34m=\u001b[0m \u001b[0mray\u001b[0m\u001b[0;34m.\u001b[0m\u001b[0mget\u001b[0m\u001b[0;34m(\u001b[0m\u001b[0mindex_ids\u001b[0m\u001b[0;34m)\u001b[0m\u001b[0;34m\u001b[0m\u001b[0;34m\u001b[0m\u001b[0m\n\u001b[0m\u001b[1;32m    493\u001b[0m             \u001b[0mnew_index\u001b[0m \u001b[0;34m=\u001b[0m \u001b[0mpandas\u001b[0m\u001b[0;34m.\u001b[0m\u001b[0mRangeIndex\u001b[0m\u001b[0;34m(\u001b[0m\u001b[0msum\u001b[0m\u001b[0;34m(\u001b[0m\u001b[0mrow_lengths\u001b[0m\u001b[0;34m)\u001b[0m\u001b[0;34m)\u001b[0m\u001b[0;34m\u001b[0m\u001b[0;34m\u001b[0m\u001b[0m\n\u001b[1;32m    494\u001b[0m         \u001b[0;32melse\u001b[0m\u001b[0;34m:\u001b[0m\u001b[0;34m\u001b[0m\u001b[0;34m\u001b[0m\u001b[0m\n",
        "\u001b[0;32m~/miniconda3/envs/kmer-hashing/lib/python3.6/site-packages/ray/worker.py\u001b[0m in \u001b[0;36mget\u001b[0;34m(object_ids)\u001b[0m\n\u001b[1;32m   2245\u001b[0m             \u001b[0;32mif\u001b[0m \u001b[0misinstance\u001b[0m\u001b[0;34m(\u001b[0m\u001b[0mvalue\u001b[0m\u001b[0;34m,\u001b[0m \u001b[0mRayError\u001b[0m\u001b[0;34m)\u001b[0m\u001b[0;34m:\u001b[0m\u001b[0;34m\u001b[0m\u001b[0;34m\u001b[0m\u001b[0m\n\u001b[1;32m   2246\u001b[0m                 \u001b[0mlast_task_error_raise_time\u001b[0m \u001b[0;34m=\u001b[0m \u001b[0mtime\u001b[0m\u001b[0;34m.\u001b[0m\u001b[0mtime\u001b[0m\u001b[0;34m(\u001b[0m\u001b[0;34m)\u001b[0m\u001b[0;34m\u001b[0m\u001b[0;34m\u001b[0m\u001b[0m\n\u001b[0;32m-> 2247\u001b[0;31m                 \u001b[0;32mraise\u001b[0m \u001b[0mvalue\u001b[0m\u001b[0;34m\u001b[0m\u001b[0;34m\u001b[0m\u001b[0m\n\u001b[0m\u001b[1;32m   2248\u001b[0m \u001b[0;34m\u001b[0m\u001b[0m\n\u001b[1;32m   2249\u001b[0m         \u001b[0;31m# Run post processors.\u001b[0m\u001b[0;34m\u001b[0m\u001b[0;34m\u001b[0m\u001b[0;34m\u001b[0m\u001b[0m\n",
        "\u001b[0;31mRayTaskError\u001b[0m: \u001b[36mray_worker\u001b[39m (pid=98844, host=ndnd)\n  File \"/home/olga/miniconda3/envs/kmer-hashing/lib/python3.6/site-packages/modin/engines/ray/pandas_on_ray/io.py\", line 83, in _read_csv_with_offset_pandas_on_ray\n    bio = file_open(fname, \"rb\", kwargs.pop(\"compression\", \"infer\"))\n  File \"/home/olga/miniconda3/envs/kmer-hashing/lib/python3.6/site-packages/modin/engines/ray/generic/io.py\", line 91, in file_open\n    return open(file_path, mode=mode)\nFileNotFoundError: [Errno 2] No such file or directory: 'SRR306827_GSM752680_ppa_br_F_2_trimmed__coding_scores.csv'\n"
       ]
      },
      {
       "name": "stdout",
       "output_type": "stream",
       "text": "\tDone!\nWriting Parquet ...\n"
      },
      {
       "ename": "NameError",
       "evalue": "name 'df' is not defined",
       "output_type": "error",
       "traceback": [
        "\u001b[0;31m---------------------------------------------------------------------------\u001b[0m",
        "\u001b[0;31mNameError\u001b[0m                                 Traceback (most recent call last)",
        "\u001b[0;32m<timed eval>\u001b[0m in \u001b[0;36m<module>\u001b[0;34m()\u001b[0m\n",
        "\u001b[0;31mNameError\u001b[0m: name 'df' is not defined"
       ]
      },
      {
       "name": "stdout",
       "output_type": "stream",
       "text": "\tDone!\n"
      },
      {
       "ename": "NameError",
       "evalue": "name 'df' is not defined",
       "output_type": "error",
       "traceback": [
        "\u001b[0;31m---------------------------------------------------------------------------\u001b[0m",
        "\u001b[0;31mNameError\u001b[0m                                 Traceback (most recent call last)",
        "\u001b[0;32m<timed exec>\u001b[0m in \u001b[0;36m<module>\u001b[0;34m()\u001b[0m\n",
        "\u001b[0;31mNameError\u001b[0m: name 'df' is not defined"
       ]
      }
     ],
     "persistentId": "e7d17187-4e34-43ca-acaa-d93622198ac4",
     "text": "%%time\n\ndfs = []\n\nfor csv in glob.glob(\"*.csv\"):\n    print(f'--- {csv} ---')\n    print(\"Reading csv ...\")\n    %time df = pd.read_csv(csv)\n    print(\"\\tDone!\")\n    parquet = csv.replace('.csv', '.parquet')\n    print(\"Writing Parquet ...\")\n    %time df.to_parquet(parquet)\n    print(\"\\tDone!\")\n    dfs.append(df)\nall_coding_scores = pd.concat(dfs)"
    },
    "executionTime": "2019-11-05T16:21:32.341Z"
   },
   {
    "cell": {
     "executionCount": 1,
     "executionEventId": "9f964302-97cf-464a-b607-59db91e0c88c",
     "hasError": false,
     "id": "ebf44c93-6094-4cc1-9312-0cf339e812f6",
     "outputs": [],
     "persistentId": "9101ba02-87fc-4db3-be7e-3fde4f92cbc2",
     "text": "import os\nimport glob\n\n\n# import ray\n# # use fewer CPUs so the OS doesn't run out of processes\n# ray.init(num_cpus=16)\n# import modin.pandas as pd\nimport pandas as pd\nimport seaborn as sns"
    },
    "executionTime": "2019-11-05T16:22:23.911Z"
   },
   {
    "cell": {
     "executionCount": 2,
     "executionEventId": "232a8e4d-1620-408a-822c-edd54d1e7416",
     "hasError": false,
     "id": "9be10d8b-3bb8-4179-998e-3e93be874db0",
     "outputs": [
      {
       "name": "stdout",
       "output_type": "stream",
       "text": "/mnt/ibm_lg/olga/kmer-hashing/brawand2011/kmermaid/results_dayhoff11_extract_coding_jaccard_threshold05/extract_coding\n"
      }
     ],
     "persistentId": "23969cb6-1090-464a-ab9f-3bcd20e4c596",
     "text": "cd ~/data_lg/kmer-hashing/brawand2011/kmermaid/results_dayhoff11_extract_coding_jaccard_threshold05/extract_coding"
    },
    "executionTime": "2019-11-05T16:22:23.915Z"
   },
   {
    "cell": {
     "executionCount": 3,
     "executionEventId": "cba5961a-66c9-4110-ab3d-bcaf549da0af",
     "hasError": false,
     "id": "4ee688af-2fae-4b56-b6a8-e94c5aca7dd8",
     "outputs": [
      {
       "name": "stdout",
       "output_type": "stream",
       "text": "-rw-r--r-- 1 olga olga 474M Nov  4 19:54 SRR306752_GSM752603_mdo_kd_M_1_trimmed__coding_scores.csv\n-rw-r--r-- 1 olga olga 2.1G Nov  4 13:41 SRR306753_GSM752606_mdo_lv_F_1_trimmed__coding_scores.csv\n-rw-r--r-- 1 olga olga 1.8G Nov  4 17:59 SRR306754_GSM752608_mdo_lv_M_1_trimmed__coding_scores.csv\n-rw-r--r-- 1 olga olga 1.7G Nov  4 22:26 SRR306755_GSM752611_mdo_ts_M_1_trimmed__coding_scores.csv\n-rw-r--r-- 1 olga olga 3.7G Nov  4 15:53 SRR306756_GSM752613_mdo_ts_M_2_trimmed__coding_scores.csv\n"
      }
     ],
     "persistentId": "35248e0d-c908-4ba0-b18d-69d11c2e4169",
     "text": "ls -lha *mdo*csv"
    },
    "executionTime": "2019-11-05T16:22:24.030Z"
   },
   {
    "cell": {
     "executionCount": 4,
     "executionEventId": "26b195d4-7c92-4272-b663-5fb1f0a6dca8",
     "hasError": false,
     "id": "44408e4f-b497-48fa-a4f3-f9774e9d1f77",
     "outputs": [
      {
       "name": "stdout",
       "output_type": "stream",
       "text": "(3748455, 5)\n"
      },
      {
       "data": {
        "text/html": "<div>\n<style scoped>\n    .dataframe tbody tr th:only-of-type {\n        vertical-align: middle;\n    }\n\n    .dataframe tbody tr th {\n        vertical-align: top;\n    }\n\n    .dataframe thead th {\n        text-align: right;\n    }\n</style>\n<table border=\"1\" class=\"dataframe\">\n  <thead>\n    <tr style=\"text-align: right;\">\n      <th></th>\n      <th>read_id</th>\n      <th>jaccard_in_peptide_db</th>\n      <th>n_kmers</th>\n      <th>classification</th>\n      <th>filename</th>\n    </tr>\n  </thead>\n  <tbody>\n    <tr>\n      <td>0</td>\n      <td>SRR306752.24755 Ibis_Run090629:7:1:286:693/1</td>\n      <td>NaN</td>\n      <td>NaN</td>\n      <td>All translations shorter than peptide k-mer si...</td>\n      <td>SRR306752_GSM752603_mdo_kd_M_1_trimmed.fq.gz</td>\n    </tr>\n    <tr>\n      <td>1</td>\n      <td>SRR306752.26212 Ibis_Run090629:7:1:304:224/1</td>\n      <td>NaN</td>\n      <td>NaN</td>\n      <td>All translations shorter than peptide k-mer si...</td>\n      <td>SRR306752_GSM752603_mdo_kd_M_1_trimmed.fq.gz</td>\n    </tr>\n    <tr>\n      <td>2</td>\n      <td>SRR306752.27035 Ibis_Run090629:7:1:313:423/1</td>\n      <td>1.0</td>\n      <td>3.0</td>\n      <td>Coding</td>\n      <td>SRR306752_GSM752603_mdo_kd_M_1_trimmed.fq.gz</td>\n    </tr>\n    <tr>\n      <td>3</td>\n      <td>SRR306752.31741 Ibis_Run090629:7:1:369:831/1</td>\n      <td>NaN</td>\n      <td>NaN</td>\n      <td>All translations shorter than peptide k-mer si...</td>\n      <td>SRR306752_GSM752603_mdo_kd_M_1_trimmed.fq.gz</td>\n    </tr>\n    <tr>\n      <td>4</td>\n      <td>SRR306752.32553 Ibis_Run090629:7:1:378:170/1</td>\n      <td>0.1</td>\n      <td>10.0</td>\n      <td>Non-coding</td>\n      <td>SRR306752_GSM752603_mdo_kd_M_1_trimmed.fq.gz</td>\n    </tr>\n  </tbody>\n</table>\n</div>",
        "text/plain": "                                        read_id  jaccard_in_peptide_db  \\\n0  SRR306752.24755 Ibis_Run090629:7:1:286:693/1                    NaN   \n1  SRR306752.26212 Ibis_Run090629:7:1:304:224/1                    NaN   \n2  SRR306752.27035 Ibis_Run090629:7:1:313:423/1                    1.0   \n3  SRR306752.31741 Ibis_Run090629:7:1:369:831/1                    NaN   \n4  SRR306752.32553 Ibis_Run090629:7:1:378:170/1                    0.1   \n\n   n_kmers                                     classification  \\\n0      NaN  All translations shorter than peptide k-mer si...   \n1      NaN  All translations shorter than peptide k-mer si...   \n2      3.0                                             Coding   \n3      NaN  All translations shorter than peptide k-mer si...   \n4     10.0                                         Non-coding   \n\n                                       filename  \n0  SRR306752_GSM752603_mdo_kd_M_1_trimmed.fq.gz  \n1  SRR306752_GSM752603_mdo_kd_M_1_trimmed.fq.gz  \n2  SRR306752_GSM752603_mdo_kd_M_1_trimmed.fq.gz  \n3  SRR306752_GSM752603_mdo_kd_M_1_trimmed.fq.gz  \n4  SRR306752_GSM752603_mdo_kd_M_1_trimmed.fq.gz  "
       },
       "execution_count": 4,
       "metadata": {},
       "output_type": "execute_result"
      }
     ],
     "persistentId": "5df7490d-8149-4742-a2fa-28feb4a39f78",
     "text": "df = pd.read_csv('SRR306752_GSM752603_mdo_kd_M_1_trimmed__coding_scores.csv')\nprint(df.shape)\ndf.head()"
    },
    "executionTime": "2019-11-05T16:22:30.508Z"
   },
   {
    "cell": {
     "executionCount": 5,
     "executionEventId": "e246cd8c-f45c-400c-8ed4-4854d443e2b9",
     "hasError": false,
     "id": "9094ba82-524d-4071-a1c5-3a42898716a3",
     "outputs": [
      {
       "name": "stdout",
       "output_type": "stream",
       "text": "-rw-r--r-- 1 olga olga 474M Nov  4 19:54 SRR306752_GSM752603_mdo_kd_M_1_trimmed__coding_scores.csv\n"
      }
     ],
     "persistentId": "fd3fb0f0-aa33-437a-91dc-807b882e9859",
     "text": "ls -lha SRR306752_GSM752603_mdo_kd_M_1_trimmed__coding_scores.csv"
    },
    "executionTime": "2019-11-05T16:22:30.595Z"
   }
  ],
  "kernelspec": {
   "display_name": "Python [conda env:kmer-hashing]",
   "language": "python",
   "name": "conda-env-kmer-hashing-py"
  },
  "language_info": {
   "codemirror_mode": {
    "name": "ipython",
    "version": 3
   },
   "file_extension": ".py",
   "mimetype": "text/x-python",
   "name": "python",
   "nbconvert_exporter": "python",
   "pygments_lexer": "ipython3",
   "version": "3.6.8"
  },
  "uuid": "90dbbc4e-690b-430d-bce0-2a94ab983f8b"
 },
 "nbformat": 4,
 "nbformat_minor": 4
}
