{
 "cells": [
  {
   "cell_type": "markdown",
   "metadata": {},
   "source": [
    "# Compare k-mer abundance and presence/absence vs \"traditional\" single-cell RNA-seq processing\n",
    "\n",
    "- 500 k-mers, with abundance, were hashed from ~50k cells in Tabula Muris using `sourmash`\n"
   ]
  },
  {
   "cell_type": "markdown",
   "metadata": {},
   "source": [
    "## Load Tabula Muris Senis data with fixed annotations"
   ]
  },
  {
   "cell_type": "code",
   "execution_count": 16,
   "metadata": {},
   "outputs": [
    {
     "data": {
      "text/plain": [
       "'1.3.2'"
      ]
     },
     "execution_count": 16,
     "metadata": {},
     "output_type": "execute_result"
    }
   ],
   "source": [
    "sc.__version__"
   ]
  },
  {
   "cell_type": "code",
   "execution_count": 14,
   "metadata": {},
   "outputs": [
    {
     "ename": "AttributeError",
     "evalue": "module 'scanpy' has no attribute 'logging'",
     "output_type": "error",
     "traceback": [
      "\u001b[0;31m---------------------------------------------------------------------------\u001b[0m",
      "\u001b[0;31mAttributeError\u001b[0m                            Traceback (most recent call last)",
      "\u001b[0;32m<ipython-input-14-9b3bab5e5498>\u001b[0m in \u001b[0;36m<module>\u001b[0;34m()\u001b[0m\n\u001b[1;32m      1\u001b[0m \u001b[0;32mimport\u001b[0m \u001b[0mscanpy\u001b[0m \u001b[0;32mas\u001b[0m \u001b[0msc\u001b[0m\u001b[0;34m\u001b[0m\u001b[0;34m\u001b[0m\u001b[0m\n\u001b[0;32m----> 2\u001b[0;31m \u001b[0msc\u001b[0m\u001b[0;34m.\u001b[0m\u001b[0mlogging\u001b[0m\u001b[0;34m.\u001b[0m\u001b[0mprint_versions\u001b[0m\u001b[0;34m(\u001b[0m\u001b[0;34m)\u001b[0m\u001b[0;34m\u001b[0m\u001b[0;34m\u001b[0m\u001b[0m\n\u001b[0m",
      "\u001b[0;31mAttributeError\u001b[0m: module 'scanpy' has no attribute 'logging'"
     ]
    }
   ],
   "source": [
    "import scanpy as sc\n",
    "sc.logging.print_versions()"
   ]
  },
  {
   "cell_type": "code",
   "execution_count": 13,
   "metadata": {},
   "outputs": [
    {
     "ename": "AttributeError",
     "evalue": "module 'scanpy' has no attribute 'read_h5ad'",
     "output_type": "error",
     "traceback": [
      "\u001b[0;31m---------------------------------------------------------------------------\u001b[0m",
      "\u001b[0;31mAttributeError\u001b[0m                            Traceback (most recent call last)",
      "\u001b[0;32m<ipython-input-13-7b1e9d91dba4>\u001b[0m in \u001b[0;36m<module>\u001b[0;34m()\u001b[0m\n\u001b[1;32m      3\u001b[0m \u001b[0mh5ad\u001b[0m \u001b[0;34m=\u001b[0m \u001b[0;34m'/home/olga/ibm_lg/tabula-muris-senis/maca-facs-re-processed-annotated-fixed-tissues.h5ad'\u001b[0m\u001b[0;34m\u001b[0m\u001b[0;34m\u001b[0m\u001b[0m\n\u001b[1;32m      4\u001b[0m \u001b[0;34m\u001b[0m\u001b[0m\n\u001b[0;32m----> 5\u001b[0;31m \u001b[0mtms\u001b[0m \u001b[0;34m=\u001b[0m \u001b[0msc\u001b[0m\u001b[0;34m.\u001b[0m\u001b[0mread_h5ad\u001b[0m\u001b[0;34m(\u001b[0m\u001b[0mh5ad\u001b[0m\u001b[0;34m)\u001b[0m\u001b[0;34m\u001b[0m\u001b[0;34m\u001b[0m\u001b[0m\n\u001b[0m\u001b[1;32m      6\u001b[0m \u001b[0mtms\u001b[0m\u001b[0;34m\u001b[0m\u001b[0;34m\u001b[0m\u001b[0m\n",
      "\u001b[0;31mAttributeError\u001b[0m: module 'scanpy' has no attribute 'read_h5ad'"
     ]
    }
   ],
   "source": [
    "h5ad = '/home/olga/ibm_lg/tabula-muris-senis/maca-facs-re-processed-annotated-fixed-tissues.h5ad'\n",
    "\n",
    "tms = sc.read_h5ad(h5ad)\n",
    "tms"
   ]
  },
  {
   "cell_type": "code",
   "execution_count": 2,
   "metadata": {},
   "outputs": [],
   "source": [
    "import dask.dataframe as dd\n",
    "import numpy as np\n",
    "import pandas as pd\n",
    "\n",
    "import khtools\n",
    "\n",
    "%load_ext autoreload\n",
    "%autoreload 2"
   ]
  },
  {
   "cell_type": "markdown",
   "metadata": {},
   "source": [
    "## Read 50k x 50k similarity matrix (~50GB csv file)"
   ]
  },
  {
   "cell_type": "code",
   "execution_count": null,
   "metadata": {},
   "outputs": [],
   "source": [
    "csv = '/home/olga/pureScratch/olgabot-maca/facs/sourmash_compare_k31.csv'\n",
    "! ls -lha $csv"
   ]
  },
  {
   "cell_type": "markdown",
   "metadata": {},
   "source": [
    "Had to increase `sample` to be the number of bytes(?) per row for `dd.read_csv` to be happy"
   ]
  },
  {
   "cell_type": "code",
   "execution_count": 3,
   "metadata": {},
   "outputs": [
    {
     "name": "stdout",
     "output_type": "stream",
     "text": [
      "CPU times: user 26min 26s, sys: 16.7 s, total: 26min 43s\n",
      "Wall time: 26min 44s\n"
     ]
    }
   ],
   "source": [
    "%time similarity = dd.read_csv(csv, sample=2048000)"
   ]
  },
  {
   "cell_type": "code",
   "execution_count": 5,
   "metadata": {},
   "outputs": [
    {
     "name": "stdout",
     "output_type": "stream",
     "text": [
      "CPU times: user 41.5 s, sys: 300 ms, total: 41.8 s\n",
      "Wall time: 41.8 s\n"
     ]
    },
    {
     "data": {
      "text/html": [
       "<div>\n",
       "<style scoped>\n",
       "    .dataframe tbody tr th:only-of-type {\n",
       "        vertical-align: middle;\n",
       "    }\n",
       "\n",
       "    .dataframe tbody tr th {\n",
       "        vertical-align: top;\n",
       "    }\n",
       "\n",
       "    .dataframe thead th {\n",
       "        text-align: right;\n",
       "    }\n",
       "</style>\n",
       "<table border=\"1\" class=\"dataframe\">\n",
       "  <thead>\n",
       "    <tr style=\"text-align: right;\">\n",
       "      <th></th>\n",
       "      <th>A1-B000127-3_38_F-1-1_S1</th>\n",
       "      <th>A1-B000126-3_39_F-1-1_S289</th>\n",
       "      <th>A1-B000167-3_56_F-1-1_S228</th>\n",
       "      <th>A1-B000168-3_57_F-1-1_S177</th>\n",
       "      <th>A1-B000412-3_56_F-1-1_S110</th>\n",
       "    </tr>\n",
       "  </thead>\n",
       "  <tbody>\n",
       "    <tr>\n",
       "      <th>0</th>\n",
       "      <td>1.000000</td>\n",
       "      <td>0.076156</td>\n",
       "      <td>0.059748</td>\n",
       "      <td>0.000</td>\n",
       "      <td>0.081841</td>\n",
       "    </tr>\n",
       "    <tr>\n",
       "      <th>1</th>\n",
       "      <td>0.076156</td>\n",
       "      <td>1.000000</td>\n",
       "      <td>0.295386</td>\n",
       "      <td>0.001</td>\n",
       "      <td>0.089142</td>\n",
       "    </tr>\n",
       "    <tr>\n",
       "      <th>2</th>\n",
       "      <td>0.059748</td>\n",
       "      <td>0.295386</td>\n",
       "      <td>1.000000</td>\n",
       "      <td>0.000</td>\n",
       "      <td>0.096213</td>\n",
       "    </tr>\n",
       "    <tr>\n",
       "      <th>3</th>\n",
       "      <td>0.000000</td>\n",
       "      <td>0.001000</td>\n",
       "      <td>0.000000</td>\n",
       "      <td>1.000</td>\n",
       "      <td>0.000000</td>\n",
       "    </tr>\n",
       "    <tr>\n",
       "      <th>4</th>\n",
       "      <td>0.081841</td>\n",
       "      <td>0.089142</td>\n",
       "      <td>0.096213</td>\n",
       "      <td>0.000</td>\n",
       "      <td>1.000000</td>\n",
       "    </tr>\n",
       "  </tbody>\n",
       "</table>\n",
       "</div>"
      ],
      "text/plain": [
       "   A1-B000127-3_38_F-1-1_S1  A1-B000126-3_39_F-1-1_S289  \\\n",
       "0                  1.000000                    0.076156   \n",
       "1                  0.076156                    1.000000   \n",
       "2                  0.059748                    0.295386   \n",
       "3                  0.000000                    0.001000   \n",
       "4                  0.081841                    0.089142   \n",
       "\n",
       "   A1-B000167-3_56_F-1-1_S228  A1-B000168-3_57_F-1-1_S177  \\\n",
       "0                    0.059748                       0.000   \n",
       "1                    0.295386                       0.001   \n",
       "2                    1.000000                       0.000   \n",
       "3                    0.000000                       1.000   \n",
       "4                    0.096213                       0.000   \n",
       "\n",
       "   A1-B000412-3_56_F-1-1_S110  \n",
       "0                    0.081841  \n",
       "1                    0.089142  \n",
       "2                    0.096213  \n",
       "3                    0.000000  \n",
       "4                    1.000000  "
      ]
     },
     "execution_count": 5,
     "metadata": {},
     "output_type": "execute_result"
    }
   ],
   "source": [
    "%time similarity.iloc[:, :5].head()"
   ]
  },
  {
   "cell_type": "code",
   "execution_count": 9,
   "metadata": {},
   "outputs": [
    {
     "name": "stderr",
     "output_type": "stream",
     "text": [
      "/home/olga/miniconda3/envs/kmer-hashing/lib/python3.6/site-packages/IPython/core/interactiveshell.py:2785: DtypeWarning: Columns (0,1) have mixed types. Specify dtype option on import or set low_memory=False.\n",
      "  interactivity=interactivity, compiler=compiler, result=result)\n"
     ]
    },
    {
     "name": "stdout",
     "output_type": "stream",
     "text": [
      "(44949, 24)\n"
     ]
    },
    {
     "data": {
      "text/html": [
       "<div>\n",
       "<style scoped>\n",
       "    .dataframe tbody tr th:only-of-type {\n",
       "        vertical-align: middle;\n",
       "    }\n",
       "\n",
       "    .dataframe tbody tr th {\n",
       "        vertical-align: top;\n",
       "    }\n",
       "\n",
       "    .dataframe thead th {\n",
       "        text-align: right;\n",
       "    }\n",
       "</style>\n",
       "<table border=\"1\" class=\"dataframe\">\n",
       "  <thead>\n",
       "    <tr style=\"text-align: right;\">\n",
       "      <th></th>\n",
       "      <th>Neurog3&gt;0_raw</th>\n",
       "      <th>Neurog3&gt;0_scaled</th>\n",
       "      <th>cell_ontology_class</th>\n",
       "      <th>cell_ontology_id</th>\n",
       "      <th>cluster_ids</th>\n",
       "      <th>free_annotation</th>\n",
       "      <th>mouse_id</th>\n",
       "      <th>mouse_sex</th>\n",
       "      <th>plate_barcode</th>\n",
       "      <th>subsetA</th>\n",
       "      <th>...</th>\n",
       "      <th>subsetC_cluster_ids</th>\n",
       "      <th>subsetD</th>\n",
       "      <th>subsetD_cluster_ids</th>\n",
       "      <th>subsetE</th>\n",
       "      <th>subsetE_cluster_ids</th>\n",
       "      <th>subtissue</th>\n",
       "      <th>tissue</th>\n",
       "      <th>tissue_tSNE_1</th>\n",
       "      <th>tissue_tSNE_2</th>\n",
       "      <th>sample_id</th>\n",
       "    </tr>\n",
       "    <tr>\n",
       "      <th>cell</th>\n",
       "      <th></th>\n",
       "      <th></th>\n",
       "      <th></th>\n",
       "      <th></th>\n",
       "      <th></th>\n",
       "      <th></th>\n",
       "      <th></th>\n",
       "      <th></th>\n",
       "      <th></th>\n",
       "      <th></th>\n",
       "      <th></th>\n",
       "      <th></th>\n",
       "      <th></th>\n",
       "      <th></th>\n",
       "      <th></th>\n",
       "      <th></th>\n",
       "      <th></th>\n",
       "      <th></th>\n",
       "      <th></th>\n",
       "      <th></th>\n",
       "      <th></th>\n",
       "    </tr>\n",
       "  </thead>\n",
       "  <tbody>\n",
       "    <tr>\n",
       "      <th>A1-B000610-3_56_F-1-1</th>\n",
       "      <td>NA</td>\n",
       "      <td>NA</td>\n",
       "      <td>bladder cell</td>\n",
       "      <td>CL:1001319</td>\n",
       "      <td>5</td>\n",
       "      <td>Bladder mesenchymal cell</td>\n",
       "      <td>3_56_F</td>\n",
       "      <td>F</td>\n",
       "      <td>B000610</td>\n",
       "      <td>NA</td>\n",
       "      <td>...</td>\n",
       "      <td>NA</td>\n",
       "      <td>NA</td>\n",
       "      <td>NA</td>\n",
       "      <td>NA</td>\n",
       "      <td>NA</td>\n",
       "      <td>NA</td>\n",
       "      <td>Bladder</td>\n",
       "      <td>-7.182841</td>\n",
       "      <td>-10.895094</td>\n",
       "      <td>A1-B000610-3_56_F-1-1</td>\n",
       "    </tr>\n",
       "    <tr>\n",
       "      <th>A1-B002764-3_38_F-1-1</th>\n",
       "      <td>NA</td>\n",
       "      <td>NA</td>\n",
       "      <td>bladder urothelial cell</td>\n",
       "      <td>CL:1001428</td>\n",
       "      <td>3</td>\n",
       "      <td>Luminal bladder epithelial cell</td>\n",
       "      <td>3_38_F</td>\n",
       "      <td>F</td>\n",
       "      <td>B002764</td>\n",
       "      <td>NA</td>\n",
       "      <td>...</td>\n",
       "      <td>NA</td>\n",
       "      <td>NA</td>\n",
       "      <td>NA</td>\n",
       "      <td>NA</td>\n",
       "      <td>NA</td>\n",
       "      <td>NA</td>\n",
       "      <td>Bladder</td>\n",
       "      <td>4.199059</td>\n",
       "      <td>-11.050240</td>\n",
       "      <td>A1-B002764-3_38_F-1-1</td>\n",
       "    </tr>\n",
       "    <tr>\n",
       "      <th>A1-B002771-3_39_F-1-1</th>\n",
       "      <td>NA</td>\n",
       "      <td>NA</td>\n",
       "      <td>bladder cell</td>\n",
       "      <td>CL:1001319</td>\n",
       "      <td>5</td>\n",
       "      <td>Bladder mesenchymal cell</td>\n",
       "      <td>3_39_F</td>\n",
       "      <td>F</td>\n",
       "      <td>B002771</td>\n",
       "      <td>NA</td>\n",
       "      <td>...</td>\n",
       "      <td>NA</td>\n",
       "      <td>NA</td>\n",
       "      <td>NA</td>\n",
       "      <td>NA</td>\n",
       "      <td>NA</td>\n",
       "      <td>NA</td>\n",
       "      <td>Bladder</td>\n",
       "      <td>-11.995435</td>\n",
       "      <td>-7.325534</td>\n",
       "      <td>A1-B002771-3_39_F-1-1</td>\n",
       "    </tr>\n",
       "    <tr>\n",
       "      <th>A1-D041914-3_8_M-1-1</th>\n",
       "      <td>NA</td>\n",
       "      <td>NA</td>\n",
       "      <td>bladder cell</td>\n",
       "      <td>CL:1001319</td>\n",
       "      <td>5</td>\n",
       "      <td>Bladder mesenchymal cell</td>\n",
       "      <td>3_8_M</td>\n",
       "      <td>M</td>\n",
       "      <td>D041914</td>\n",
       "      <td>NA</td>\n",
       "      <td>...</td>\n",
       "      <td>NA</td>\n",
       "      <td>NA</td>\n",
       "      <td>NA</td>\n",
       "      <td>NA</td>\n",
       "      <td>NA</td>\n",
       "      <td>NA</td>\n",
       "      <td>Bladder</td>\n",
       "      <td>-6.820022</td>\n",
       "      <td>-14.174246</td>\n",
       "      <td>A1-D041914-3_8_M-1-1</td>\n",
       "    </tr>\n",
       "    <tr>\n",
       "      <th>A1-D042253-3_9_M-1-1</th>\n",
       "      <td>NA</td>\n",
       "      <td>NA</td>\n",
       "      <td>bladder cell</td>\n",
       "      <td>CL:1001319</td>\n",
       "      <td>2</td>\n",
       "      <td>Bladder mesenchymal cell</td>\n",
       "      <td>3_9_M</td>\n",
       "      <td>M</td>\n",
       "      <td>D042253</td>\n",
       "      <td>NA</td>\n",
       "      <td>...</td>\n",
       "      <td>NA</td>\n",
       "      <td>NA</td>\n",
       "      <td>NA</td>\n",
       "      <td>NA</td>\n",
       "      <td>NA</td>\n",
       "      <td>NA</td>\n",
       "      <td>Bladder</td>\n",
       "      <td>-24.163538</td>\n",
       "      <td>-7.499349</td>\n",
       "      <td>A1-D042253-3_9_M-1-1</td>\n",
       "    </tr>\n",
       "  </tbody>\n",
       "</table>\n",
       "<p>5 rows × 24 columns</p>\n",
       "</div>"
      ],
      "text/plain": [
       "                      Neurog3>0_raw Neurog3>0_scaled      cell_ontology_class  \\\n",
       "cell                                                                            \n",
       "A1-B000610-3_56_F-1-1            NA               NA             bladder cell   \n",
       "A1-B002764-3_38_F-1-1            NA               NA  bladder urothelial cell   \n",
       "A1-B002771-3_39_F-1-1            NA               NA             bladder cell   \n",
       "A1-D041914-3_8_M-1-1             NA               NA             bladder cell   \n",
       "A1-D042253-3_9_M-1-1             NA               NA             bladder cell   \n",
       "\n",
       "                      cell_ontology_id  cluster_ids  \\\n",
       "cell                                                  \n",
       "A1-B000610-3_56_F-1-1       CL:1001319            5   \n",
       "A1-B002764-3_38_F-1-1       CL:1001428            3   \n",
       "A1-B002771-3_39_F-1-1       CL:1001319            5   \n",
       "A1-D041914-3_8_M-1-1        CL:1001319            5   \n",
       "A1-D042253-3_9_M-1-1        CL:1001319            2   \n",
       "\n",
       "                                       free_annotation mouse_id mouse_sex  \\\n",
       "cell                                                                        \n",
       "A1-B000610-3_56_F-1-1         Bladder mesenchymal cell   3_56_F         F   \n",
       "A1-B002764-3_38_F-1-1  Luminal bladder epithelial cell   3_38_F         F   \n",
       "A1-B002771-3_39_F-1-1         Bladder mesenchymal cell   3_39_F         F   \n",
       "A1-D041914-3_8_M-1-1          Bladder mesenchymal cell    3_8_M         M   \n",
       "A1-D042253-3_9_M-1-1          Bladder mesenchymal cell    3_9_M         M   \n",
       "\n",
       "                      plate_barcode subsetA  ... subsetC_cluster_ids subsetD  \\\n",
       "cell                                         ...                               \n",
       "A1-B000610-3_56_F-1-1       B000610      NA  ...                  NA      NA   \n",
       "A1-B002764-3_38_F-1-1       B002764      NA  ...                  NA      NA   \n",
       "A1-B002771-3_39_F-1-1       B002771      NA  ...                  NA      NA   \n",
       "A1-D041914-3_8_M-1-1        D041914      NA  ...                  NA      NA   \n",
       "A1-D042253-3_9_M-1-1        D042253      NA  ...                  NA      NA   \n",
       "\n",
       "                      subsetD_cluster_ids subsetE subsetE_cluster_ids  \\\n",
       "cell                                                                    \n",
       "A1-B000610-3_56_F-1-1                  NA      NA                  NA   \n",
       "A1-B002764-3_38_F-1-1                  NA      NA                  NA   \n",
       "A1-B002771-3_39_F-1-1                  NA      NA                  NA   \n",
       "A1-D041914-3_8_M-1-1                   NA      NA                  NA   \n",
       "A1-D042253-3_9_M-1-1                   NA      NA                  NA   \n",
       "\n",
       "                      subtissue   tissue tissue_tSNE_1 tissue_tSNE_2  \\\n",
       "cell                                                                   \n",
       "A1-B000610-3_56_F-1-1        NA  Bladder     -7.182841    -10.895094   \n",
       "A1-B002764-3_38_F-1-1        NA  Bladder      4.199059    -11.050240   \n",
       "A1-B002771-3_39_F-1-1        NA  Bladder    -11.995435     -7.325534   \n",
       "A1-D041914-3_8_M-1-1         NA  Bladder     -6.820022    -14.174246   \n",
       "A1-D042253-3_9_M-1-1         NA  Bladder    -24.163538     -7.499349   \n",
       "\n",
       "                                   sample_id  \n",
       "cell                                          \n",
       "A1-B000610-3_56_F-1-1  A1-B000610-3_56_F-1-1  \n",
       "A1-B002764-3_38_F-1-1  A1-B002764-3_38_F-1-1  \n",
       "A1-B002771-3_39_F-1-1  A1-B002771-3_39_F-1-1  \n",
       "A1-D041914-3_8_M-1-1    A1-D041914-3_8_M-1-1  \n",
       "A1-D042253-3_9_M-1-1    A1-D042253-3_9_M-1-1  \n",
       "\n",
       "[5 rows x 24 columns]"
      ]
     },
     "execution_count": 9,
     "metadata": {},
     "output_type": "execute_result"
    }
   ],
   "source": [
    "annotations = pd.read_csv('https://github.com/czbiohub/tabula-muris/raw/master/00_data_ingest/18_global_annotation_csv/annotations_facs.csv', \n",
    "                          index_col='cell')\n",
    "annotations.index = annotations.index.str.replace('.', '-')\n",
    "annotations.columns = annotations.columns.str.replace('.', '_')\n",
    "annotations['sample_id'] = annotations.index\n",
    "annotations = annotations.fillna(\"NA\")\n",
    "print(annotations.shape)\n",
    "annotations.head()"
   ]
  },
  {
   "cell_type": "code",
   "execution_count": 26,
   "metadata": {},
   "outputs": [
    {
     "data": {
      "text/plain": [
       "{'tissue': 'tab20',\n",
       " 'subtissue': 'tab10',\n",
       " 'cell_ontology_class': 'cubehelix',\n",
       " 'mouse_id': 'husl',\n",
       " 'mouse_sex': 'Paired',\n",
       " 'plate_barcode': 'Set2'}"
      ]
     },
     "execution_count": 26,
     "metadata": {},
     "output_type": "execute_result"
    }
   ],
   "source": [
    "color_cols = ['tissue', 'subtissue', 'cell_ontology_class', 'mouse_id', 'mouse_sex', 'plate_barcode']\n",
    "palette_names = ['tab20', 'tab10', 'cubehelix', 'husl', 'Paired', 'Set2']\n",
    "palettes = dict(zip(color_cols, palette_names))\n",
    "palettes"
   ]
  },
  {
   "cell_type": "code",
   "execution_count": 27,
   "metadata": {},
   "outputs": [],
   "source": [
    "graphs = {}\n",
    "positions = {}"
   ]
  },
  {
   "cell_type": "code",
   "execution_count": null,
   "metadata": {},
   "outputs": [],
   "source": [
    "key = 'k31_with_abundance'\n",
    "\n",
    "n_neighbors = 5\n",
    "figure_folder = 's3://kmer-hashing/tabula-muris/n_hashes=500/'\n",
    "figure_prefix = 'molecule=DNA_ksize=31_ignore-abundance=False'\n",
    "title = 'Tabula Muris'\n",
    "\n",
    "g, pos = khtools.knn.build_graph_and_plot(similarity, annotations, n_neighbors,\n",
    "                                          color_cols, palettes, figure_folder, figure_prefix, title)\n",
    "\n",
    "graphs[key] = g\n",
    "positions[key] = pos"
   ]
  },
  {
   "cell_type": "code",
   "execution_count": 27,
   "metadata": {},
   "outputs": [
    {
     "data": {
      "text/plain": [
       "'0.1.0'"
      ]
     },
     "execution_count": 27,
     "metadata": {},
     "output_type": "execute_result"
    }
   ],
   "source": [
    "khtools.__version__"
   ]
  },
  {
   "cell_type": "markdown",
   "metadata": {},
   "source": [
    "## Run Leiden Clustering\n",
    "\n",
    "\n",
    "Below is excerpted from [scanpy's leiden clustering algorithm](https://github.com/theislab/scanpy/blob/master/scanpy/tools/_leiden.py)"
   ]
  },
  {
   "cell_type": "code",
   "execution_count": 6,
   "metadata": {},
   "outputs": [
    {
     "ename": "ImportError",
     "evalue": "Please install the leiden algorithm: `pip3 install leidenalg`.",
     "output_type": "error",
     "traceback": [
      "\u001b[0;31m---------------------------------------------------------------------------\u001b[0m",
      "\u001b[0;31mModuleNotFoundError\u001b[0m                       Traceback (most recent call last)",
      "\u001b[0;32m<ipython-input-6-84434ec4b56a>\u001b[0m in \u001b[0;36m<module>\u001b[0;34m()\u001b[0m\n\u001b[1;32m      1\u001b[0m \u001b[0;32mtry\u001b[0m\u001b[0;34m:\u001b[0m\u001b[0;34m\u001b[0m\u001b[0;34m\u001b[0m\u001b[0m\n\u001b[0;32m----> 2\u001b[0;31m     \u001b[0;32mimport\u001b[0m \u001b[0mleidenalg\u001b[0m\u001b[0;34m\u001b[0m\u001b[0;34m\u001b[0m\u001b[0m\n\u001b[0m\u001b[1;32m      3\u001b[0m \u001b[0;32mexcept\u001b[0m \u001b[0mImportError\u001b[0m\u001b[0;34m:\u001b[0m\u001b[0;34m\u001b[0m\u001b[0;34m\u001b[0m\u001b[0m\n",
      "\u001b[0;31mModuleNotFoundError\u001b[0m: No module named 'leidenalg'",
      "\nDuring handling of the above exception, another exception occurred:\n",
      "\u001b[0;31mImportError\u001b[0m                               Traceback (most recent call last)",
      "\u001b[0;32m<ipython-input-6-84434ec4b56a>\u001b[0m in \u001b[0;36m<module>\u001b[0;34m()\u001b[0m\n\u001b[1;32m      2\u001b[0m     \u001b[0;32mimport\u001b[0m \u001b[0mleidenalg\u001b[0m\u001b[0;34m\u001b[0m\u001b[0;34m\u001b[0m\u001b[0m\n\u001b[1;32m      3\u001b[0m \u001b[0;32mexcept\u001b[0m \u001b[0mImportError\u001b[0m\u001b[0;34m:\u001b[0m\u001b[0;34m\u001b[0m\u001b[0;34m\u001b[0m\u001b[0m\n\u001b[0;32m----> 4\u001b[0;31m     \u001b[0;32mraise\u001b[0m \u001b[0mImportError\u001b[0m\u001b[0;34m(\u001b[0m\u001b[0;34m'Please install the leiden algorithm: `pip3 install leidenalg`.'\u001b[0m\u001b[0;34m)\u001b[0m\u001b[0;34m\u001b[0m\u001b[0;34m\u001b[0m\u001b[0m\n\u001b[0m",
      "\u001b[0;31mImportError\u001b[0m: Please install the leiden algorithm: `pip3 install leidenalg`."
     ]
    }
   ],
   "source": [
    "\n",
    "\n",
    "try:\n",
    "    import leidenalg\n",
    "except ImportError:\n",
    "    raise ImportError('Please install the leiden algorithm: `pip3 install leidenalg`.')\n",
    "\n",
    "# convert it to igraph\n",
    "g = scanpy.utils.get_igraph_from_adjacency(adjacency, directed=directed)\n",
    "# flip to the default partition type if not overriden by the user\n",
    "if partition_type is None:\n",
    "    partition_type = leidenalg.RBConfigurationVertexPartition\n",
    "# prepare find_partition arguments as a dictionary, appending to whatever the user provided\n",
    "# it needs to be this way as this allows for the accounting of a None resolution\n",
    "# (in the case of a partition variant that doesn't take it on input)\n",
    "\n",
    "partition_kwargs = None\n",
    "\n",
    "if partition_kwargs is None:\n",
    "    partition_kwargs = {}\n",
    "if use_weights:\n",
    "    partition_kwargs['weights'] = np.array(g.es['weight']).astype(np.float64)\n",
    "partition_kwargs['n_iterations'] = n_iterations\n",
    "partition_kwargs['seed'] = random_state\n",
    "if resolution is not None:\n",
    "    partition_kwargs['resolution_parameter'] = resolution\n",
    "# clustering proper\n",
    "part = leidenalg.find_partition(g, partition_type, **partition_kwargs)\n",
    "# store output into adata.obs\n",
    "groups = np.array(part.membership)\n"
   ]
  },
  {
   "cell_type": "markdown",
   "metadata": {},
   "source": [
    "## Make confusion matrix with Tabula Muris Senis leiden clustering"
   ]
  },
  {
   "cell_type": "code",
   "execution_count": null,
   "metadata": {},
   "outputs": [],
   "source": [
    "tms.obs['leiden'].head()"
   ]
  }
 ],
 "metadata": {
  "kernelspec": {
   "display_name": "Python [conda env:kmer-hashing]",
   "language": "python",
   "name": "conda-env-kmer-hashing-py"
  },
  "language_info": {
   "codemirror_mode": {
    "name": "ipython",
    "version": 3
   },
   "file_extension": ".py",
   "mimetype": "text/x-python",
   "name": "python",
   "nbconvert_exporter": "python",
   "pygments_lexer": "ipython3",
   "version": "3.6.8"
  }
 },
 "nbformat": 4,
 "nbformat_minor": 4
}
