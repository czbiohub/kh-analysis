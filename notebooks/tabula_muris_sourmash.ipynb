{
 "cells": [
  {
   "cell_type": "markdown",
   "metadata": {},
   "source": [
    "# Compare k-mer abundance and presence/absence vs \"traditional\" single-cell RNA-seq processing\n",
    "\n",
    "- 500 k-mers, with abundance, were hashed from ~50k cells in Tabula Muris using `sourmash`\n"
   ]
  },
  {
   "cell_type": "markdown",
   "metadata": {},
   "source": [
    "## Load Tabula Muris Senis data with fixed annotations"
   ]
  },
  {
   "cell_type": "code",
   "execution_count": 2,
   "metadata": {
    "persistent_id": "eed4e736-3500-44d7-968e-6b242abc2e11"
   },
   "outputs": [],
   "source": [
    "# import scanpy.api as sc\n",
    "# sc.logging.print_versions()\n",
    "\n",
    "# h5ad = '/home/olga/ibm_lg/tabula-muris-senis/maca-facs-re-processed-annotated-fixed-tissues.h5ad'\n",
    "\n",
    "# tms = sc.read_h5ad(h5ad)\n",
    "# tms"
   ]
  },
  {
   "cell_type": "code",
   "execution_count": 3,
   "metadata": {
    "execution_event_id": "65b88af2-f54c-4538-a076-557659a9078c",
    "last_executed_text": "import dask.dataframe as dd\nimport numpy as np\nimport pandas as pd\n\nimport khtools\n\n%load_ext autoreload\n%autoreload 2",
    "persistent_id": "5ed6d18a-a087-4bac-8295-b0865dfc580f"
   },
   "outputs": [],
   "source": [
    "import dask.dataframe as dd\n",
    "import numpy as np\n",
    "import pandas as pd\n",
    "\n",
    "import khtools\n",
    "\n",
    "%load_ext autoreload\n",
    "%autoreload 2"
   ]
  },
  {
   "cell_type": "markdown",
   "metadata": {},
   "source": [
    "## Read 50k x 50k similarity matrix (~50GB csv file)"
   ]
  },
  {
   "cell_type": "code",
   "execution_count": 2,
   "metadata": {
    "execution_event_id": "a14e75f9-74ac-47fb-a824-9b0f1592bd04",
    "last_executed_text": "csv = '/home/olga/pureScratch/olgabot-maca/facs/sourmash_compare_k31_ignore_abundance.csv'\n! ls -lha $csv",
    "persistent_id": "f6666ae2-cf03-4e7d-a9f8-9f497d8af25f"
   },
   "outputs": [
    {
     "name": "stdout",
     "output_type": "stream",
     "text": [
      "-rw-rw-r-- 1 olga olga 14G Aug  7 11:51 /home/olga/pureScratch/olgabot-maca/facs/sourmash_compare_k31_ignore_abundance.csv\n"
     ]
    }
   ],
   "source": [
    "csv = '/home/olga/pureScratch/olgabot-maca/facs/sourmash_compare_k31_ignore_abundance.csv'\n",
    "! ls -lha $csv"
   ]
  },
  {
   "cell_type": "code",
   "execution_count": 3,
   "metadata": {
    "execution_event_id": "b4468497-7966-481a-bfdb-e5233127aced",
    "last_executed_text": "%time similarity = dd.read_csv(csv, sample=2048000)",
    "persistent_id": "b28224c8-2924-4a1b-8ecc-104d11615ad0"
   },
   "outputs": [
    {
     "name": "stdout",
     "output_type": "stream",
     "text": [
      "CPU times: user 6min 49s, sys: 952 ms, total: 6min 50s\n",
      "Wall time: 6min 50s\n"
     ]
    }
   ],
   "source": [
    "%time similarity = dd.read_csv(csv, sample=2048000)"
   ]
  },
  {
   "cell_type": "code",
   "execution_count": null,
   "metadata": {
    "execution_event_id": "ea1b6612-c5c1-49c0-98f3-4736be7a371d",
    "last_executed_text": "similarity.shape",
    "persistent_id": "10548222-5f15-4ba8-97f6-51ea16e6c35d"
   },
   "outputs": [],
   "source": [
    "similarity.shape"
   ]
  },
  {
   "cell_type": "markdown",
   "metadata": {},
   "source": [
    "Had to increase `sample` to be the number of bytes(?) per row for `dd.read_csv` to be happy"
   ]
  },
  {
   "cell_type": "code",
   "execution_count": 7,
   "metadata": {
    "persistent_id": "7962dd32-d34a-412d-8fcb-88867ae61258"
   },
   "outputs": [],
   "source": [
    "# similarity.dtypes"
   ]
  },
  {
   "cell_type": "code",
   "execution_count": null,
   "metadata": {
    "persistent_id": "87013dcd-a2fc-4b8c-8c24-68a5aefaa2bb"
   },
   "outputs": [],
   "source": [
    "# %time similarity = dd.read_csv(csv, sample=2048000)"
   ]
  },
  {
   "cell_type": "code",
   "execution_count": null,
   "metadata": {
    "persistent_id": "9dd3f742-26c8-4a16-9d6b-9082ffb08b47"
   },
   "outputs": [],
   "source": [
    "# similarity_pd = similarity.to_"
   ]
  },
  {
   "cell_type": "code",
   "execution_count": null,
   "metadata": {
    "persistent_id": "2f195fb3-edae-48fa-b88a-f51773fceca7"
   },
   "outputs": [],
   "source": [
    "%time similarity.iloc[:, :5].head()"
   ]
  },
  {
   "cell_type": "code",
   "execution_count": null,
   "metadata": {
    "persistent_id": "9797fec5-54f2-45f7-a0f3-bb45cec2e0d3"
   },
   "outputs": [],
   "source": [
    "# similarity.to_dask_array?"
   ]
  },
  {
   "cell_type": "code",
   "execution_count": null,
   "metadata": {
    "persistent_id": "8f1ad6dd-7ce6-4aae-a058-17c1e5ee7c37"
   },
   "outputs": [],
   "source": [
    "similarity_da = similarity.to_dask_array(lengths=True)"
   ]
  },
  {
   "cell_type": "code",
   "execution_count": 7,
   "metadata": {
    "execution_event_id": "f2832592-90a1-48b8-8986-3cd27bc1c7ea",
    "last_executed_text": "similarity_da.shape",
    "persistent_id": "c34537c2-4d82-46a1-9e90-f815165ae677"
   },
   "outputs": [
    {
     "data": {
      "text/plain": [
       "(50312, 50312)"
      ]
     },
     "execution_count": 7,
     "metadata": {},
     "output_type": "execute_result"
    }
   ],
   "source": [
    "similarity_da.shape"
   ]
  },
  {
   "cell_type": "code",
   "execution_count": 2,
   "metadata": {
    "execution_event_id": "f1ad3cfd-2cba-4a2f-a64d-9926eb7c7064",
    "last_executed_text": "2+2",
    "persistent_id": "c65c7fe4-2e9b-4431-9a4f-139292a7c963"
   },
   "outputs": [
    {
     "data": {
      "text/plain": [
       "4"
      ]
     },
     "execution_count": 2,
     "metadata": {},
     "output_type": "execute_result"
    }
   ],
   "source": [
    "2+2"
   ]
  },
  {
   "cell_type": "code",
   "execution_count": 29,
   "metadata": {
    "persistent_id": "ab9c30a1-4f2d-476e-8ce0-4cfc1958ef01"
   },
   "outputs": [],
   "source": [
    "# Can't save to hdf5 because there's a limit of 2000 columns\n",
    "# https://stackoverflow.com/q/16639503/1628971\n",
    "\n",
    "# similarity.to_hdf(csv.replace(\".csv\", '.hdf5'), 'data')"
   ]
  },
  {
   "cell_type": "markdown",
   "metadata": {},
   "source": [
    "## Dimensionality Reduction"
   ]
  },
  {
   "cell_type": "markdown",
   "metadata": {},
   "source": [
    "### Run PCA on jaccard"
   ]
  },
  {
   "cell_type": "code",
   "execution_count": null,
   "metadata": {
    "execution_event_id": "343ae666-847e-4025-a4a5-b7b298c447fa",
    "last_executed_text": "from dask_ml.decomposition import PCA\n\npca = PCA(n_components=50, copy=False, svd_solver='randomized')\n\nsimilarities_pca = pca.fit_transform(similarity_da)\n# print(similarities_pca.shape)",
    "persistent_id": "31903b99-7625-4868-be2c-1a1d2e123fd6"
   },
   "outputs": [],
   "source": [
    "%%time\n",
    "\n",
    "from dask_ml.decomposition import PCA\n",
    "\n",
    "pca = PCA(n_components=50, copy=False, svd_solver='randomized')\n",
    "\n",
    "similarities_pca = pca.fit_transform(similarity_da)\n",
    "# print(similarities_pca.shape)"
   ]
  },
  {
   "cell_type": "code",
   "execution_count": 11,
   "metadata": {
    "execution_event_id": "da327da1-eb89-4799-bc63-b44c481569dc",
    "last_executed_text": "similarities_pca.shape",
    "persistent_id": "c69ddec6-86c6-416a-adec-f1f34ba0c4f6"
   },
   "outputs": [
    {
     "data": {
      "text/plain": [
       "(50312, 50)"
      ]
     },
     "execution_count": 11,
     "metadata": {},
     "output_type": "execute_result"
    }
   ],
   "source": [
    "similarities_pca.shape"
   ]
  },
  {
   "cell_type": "code",
   "execution_count": 12,
   "metadata": {
    "execution_event_id": "58342b52-c5aa-4681-89c6-cb1e6a7cbe2c",
    "last_executed_text": "annotations = pd.read_csv('https://github.com/czbiohub/tabula-muris/raw/master/00_data_ingest/18_global_annotation_csv/annotations_facs.csv', \n                          index_col='cell')\nannotations.index = annotations.index.str.replace('.', '-')\nannotations.columns = annotations.columns.str.replace('.', '_')\nannotations['sample_id'] = annotations.index\nannotations = annotations.fillna(\"NA\")\nprint(annotations.shape)\nannotations.head()",
    "persistent_id": "ccc39ce8-9a99-4ef3-a61e-1d453d36f3ec"
   },
   "outputs": [
    {
     "name": "stdout",
     "output_type": "stream",
     "text": [
      "(44949, 24)\n"
     ]
    },
    {
     "name": "stderr",
     "output_type": "stream",
     "text": [
      "/home/olga/miniconda3/envs/kmer-hashing/lib/python3.6/site-packages/IPython/core/interactiveshell.py:2785: DtypeWarning: Columns (0,1) have mixed types. Specify dtype option on import or set low_memory=False.\n",
      "  interactivity=interactivity, compiler=compiler, result=result)\n"
     ]
    },
    {
     "data": {
      "text/html": [
       "<div>\n",
       "<style scoped>\n",
       "    .dataframe tbody tr th:only-of-type {\n",
       "        vertical-align: middle;\n",
       "    }\n",
       "\n",
       "    .dataframe tbody tr th {\n",
       "        vertical-align: top;\n",
       "    }\n",
       "\n",
       "    .dataframe thead th {\n",
       "        text-align: right;\n",
       "    }\n",
       "</style>\n",
       "<table border=\"1\" class=\"dataframe\">\n",
       "  <thead>\n",
       "    <tr style=\"text-align: right;\">\n",
       "      <th></th>\n",
       "      <th>Neurog3&gt;0_raw</th>\n",
       "      <th>Neurog3&gt;0_scaled</th>\n",
       "      <th>cell_ontology_class</th>\n",
       "      <th>cell_ontology_id</th>\n",
       "      <th>cluster_ids</th>\n",
       "      <th>free_annotation</th>\n",
       "      <th>mouse_id</th>\n",
       "      <th>mouse_sex</th>\n",
       "      <th>plate_barcode</th>\n",
       "      <th>subsetA</th>\n",
       "      <th>...</th>\n",
       "      <th>subsetC_cluster_ids</th>\n",
       "      <th>subsetD</th>\n",
       "      <th>subsetD_cluster_ids</th>\n",
       "      <th>subsetE</th>\n",
       "      <th>subsetE_cluster_ids</th>\n",
       "      <th>subtissue</th>\n",
       "      <th>tissue</th>\n",
       "      <th>tissue_tSNE_1</th>\n",
       "      <th>tissue_tSNE_2</th>\n",
       "      <th>sample_id</th>\n",
       "    </tr>\n",
       "    <tr>\n",
       "      <th>cell</th>\n",
       "      <th></th>\n",
       "      <th></th>\n",
       "      <th></th>\n",
       "      <th></th>\n",
       "      <th></th>\n",
       "      <th></th>\n",
       "      <th></th>\n",
       "      <th></th>\n",
       "      <th></th>\n",
       "      <th></th>\n",
       "      <th></th>\n",
       "      <th></th>\n",
       "      <th></th>\n",
       "      <th></th>\n",
       "      <th></th>\n",
       "      <th></th>\n",
       "      <th></th>\n",
       "      <th></th>\n",
       "      <th></th>\n",
       "      <th></th>\n",
       "      <th></th>\n",
       "    </tr>\n",
       "  </thead>\n",
       "  <tbody>\n",
       "    <tr>\n",
       "      <th>A1-B000610-3_56_F-1-1</th>\n",
       "      <td>NA</td>\n",
       "      <td>NA</td>\n",
       "      <td>bladder cell</td>\n",
       "      <td>CL:1001319</td>\n",
       "      <td>5</td>\n",
       "      <td>Bladder mesenchymal cell</td>\n",
       "      <td>3_56_F</td>\n",
       "      <td>F</td>\n",
       "      <td>B000610</td>\n",
       "      <td>NA</td>\n",
       "      <td>...</td>\n",
       "      <td>NA</td>\n",
       "      <td>NA</td>\n",
       "      <td>NA</td>\n",
       "      <td>NA</td>\n",
       "      <td>NA</td>\n",
       "      <td>NA</td>\n",
       "      <td>Bladder</td>\n",
       "      <td>-7.182841</td>\n",
       "      <td>-10.895094</td>\n",
       "      <td>A1-B000610-3_56_F-1-1</td>\n",
       "    </tr>\n",
       "    <tr>\n",
       "      <th>A1-B002764-3_38_F-1-1</th>\n",
       "      <td>NA</td>\n",
       "      <td>NA</td>\n",
       "      <td>bladder urothelial cell</td>\n",
       "      <td>CL:1001428</td>\n",
       "      <td>3</td>\n",
       "      <td>Luminal bladder epithelial cell</td>\n",
       "      <td>3_38_F</td>\n",
       "      <td>F</td>\n",
       "      <td>B002764</td>\n",
       "      <td>NA</td>\n",
       "      <td>...</td>\n",
       "      <td>NA</td>\n",
       "      <td>NA</td>\n",
       "      <td>NA</td>\n",
       "      <td>NA</td>\n",
       "      <td>NA</td>\n",
       "      <td>NA</td>\n",
       "      <td>Bladder</td>\n",
       "      <td>4.199059</td>\n",
       "      <td>-11.050240</td>\n",
       "      <td>A1-B002764-3_38_F-1-1</td>\n",
       "    </tr>\n",
       "    <tr>\n",
       "      <th>A1-B002771-3_39_F-1-1</th>\n",
       "      <td>NA</td>\n",
       "      <td>NA</td>\n",
       "      <td>bladder cell</td>\n",
       "      <td>CL:1001319</td>\n",
       "      <td>5</td>\n",
       "      <td>Bladder mesenchymal cell</td>\n",
       "      <td>3_39_F</td>\n",
       "      <td>F</td>\n",
       "      <td>B002771</td>\n",
       "      <td>NA</td>\n",
       "      <td>...</td>\n",
       "      <td>NA</td>\n",
       "      <td>NA</td>\n",
       "      <td>NA</td>\n",
       "      <td>NA</td>\n",
       "      <td>NA</td>\n",
       "      <td>NA</td>\n",
       "      <td>Bladder</td>\n",
       "      <td>-11.995435</td>\n",
       "      <td>-7.325534</td>\n",
       "      <td>A1-B002771-3_39_F-1-1</td>\n",
       "    </tr>\n",
       "    <tr>\n",
       "      <th>A1-D041914-3_8_M-1-1</th>\n",
       "      <td>NA</td>\n",
       "      <td>NA</td>\n",
       "      <td>bladder cell</td>\n",
       "      <td>CL:1001319</td>\n",
       "      <td>5</td>\n",
       "      <td>Bladder mesenchymal cell</td>\n",
       "      <td>3_8_M</td>\n",
       "      <td>M</td>\n",
       "      <td>D041914</td>\n",
       "      <td>NA</td>\n",
       "      <td>...</td>\n",
       "      <td>NA</td>\n",
       "      <td>NA</td>\n",
       "      <td>NA</td>\n",
       "      <td>NA</td>\n",
       "      <td>NA</td>\n",
       "      <td>NA</td>\n",
       "      <td>Bladder</td>\n",
       "      <td>-6.820022</td>\n",
       "      <td>-14.174246</td>\n",
       "      <td>A1-D041914-3_8_M-1-1</td>\n",
       "    </tr>\n",
       "    <tr>\n",
       "      <th>A1-D042253-3_9_M-1-1</th>\n",
       "      <td>NA</td>\n",
       "      <td>NA</td>\n",
       "      <td>bladder cell</td>\n",
       "      <td>CL:1001319</td>\n",
       "      <td>2</td>\n",
       "      <td>Bladder mesenchymal cell</td>\n",
       "      <td>3_9_M</td>\n",
       "      <td>M</td>\n",
       "      <td>D042253</td>\n",
       "      <td>NA</td>\n",
       "      <td>...</td>\n",
       "      <td>NA</td>\n",
       "      <td>NA</td>\n",
       "      <td>NA</td>\n",
       "      <td>NA</td>\n",
       "      <td>NA</td>\n",
       "      <td>NA</td>\n",
       "      <td>Bladder</td>\n",
       "      <td>-24.163538</td>\n",
       "      <td>-7.499349</td>\n",
       "      <td>A1-D042253-3_9_M-1-1</td>\n",
       "    </tr>\n",
       "  </tbody>\n",
       "</table>\n",
       "<p>5 rows × 24 columns</p>\n",
       "</div>"
      ],
      "text/plain": [
       "                      Neurog3>0_raw Neurog3>0_scaled      cell_ontology_class  \\\n",
       "cell                                                                            \n",
       "A1-B000610-3_56_F-1-1            NA               NA             bladder cell   \n",
       "A1-B002764-3_38_F-1-1            NA               NA  bladder urothelial cell   \n",
       "A1-B002771-3_39_F-1-1            NA               NA             bladder cell   \n",
       "A1-D041914-3_8_M-1-1             NA               NA             bladder cell   \n",
       "A1-D042253-3_9_M-1-1             NA               NA             bladder cell   \n",
       "\n",
       "                      cell_ontology_id  cluster_ids  \\\n",
       "cell                                                  \n",
       "A1-B000610-3_56_F-1-1       CL:1001319            5   \n",
       "A1-B002764-3_38_F-1-1       CL:1001428            3   \n",
       "A1-B002771-3_39_F-1-1       CL:1001319            5   \n",
       "A1-D041914-3_8_M-1-1        CL:1001319            5   \n",
       "A1-D042253-3_9_M-1-1        CL:1001319            2   \n",
       "\n",
       "                                       free_annotation mouse_id mouse_sex  \\\n",
       "cell                                                                        \n",
       "A1-B000610-3_56_F-1-1         Bladder mesenchymal cell   3_56_F         F   \n",
       "A1-B002764-3_38_F-1-1  Luminal bladder epithelial cell   3_38_F         F   \n",
       "A1-B002771-3_39_F-1-1         Bladder mesenchymal cell   3_39_F         F   \n",
       "A1-D041914-3_8_M-1-1          Bladder mesenchymal cell    3_8_M         M   \n",
       "A1-D042253-3_9_M-1-1          Bladder mesenchymal cell    3_9_M         M   \n",
       "\n",
       "                      plate_barcode subsetA  ... subsetC_cluster_ids subsetD  \\\n",
       "cell                                         ...                               \n",
       "A1-B000610-3_56_F-1-1       B000610      NA  ...                  NA      NA   \n",
       "A1-B002764-3_38_F-1-1       B002764      NA  ...                  NA      NA   \n",
       "A1-B002771-3_39_F-1-1       B002771      NA  ...                  NA      NA   \n",
       "A1-D041914-3_8_M-1-1        D041914      NA  ...                  NA      NA   \n",
       "A1-D042253-3_9_M-1-1        D042253      NA  ...                  NA      NA   \n",
       "\n",
       "                      subsetD_cluster_ids subsetE subsetE_cluster_ids  \\\n",
       "cell                                                                    \n",
       "A1-B000610-3_56_F-1-1                  NA      NA                  NA   \n",
       "A1-B002764-3_38_F-1-1                  NA      NA                  NA   \n",
       "A1-B002771-3_39_F-1-1                  NA      NA                  NA   \n",
       "A1-D041914-3_8_M-1-1                   NA      NA                  NA   \n",
       "A1-D042253-3_9_M-1-1                   NA      NA                  NA   \n",
       "\n",
       "                      subtissue   tissue tissue_tSNE_1 tissue_tSNE_2  \\\n",
       "cell                                                                   \n",
       "A1-B000610-3_56_F-1-1        NA  Bladder     -7.182841    -10.895094   \n",
       "A1-B002764-3_38_F-1-1        NA  Bladder      4.199059    -11.050240   \n",
       "A1-B002771-3_39_F-1-1        NA  Bladder    -11.995435     -7.325534   \n",
       "A1-D041914-3_8_M-1-1         NA  Bladder     -6.820022    -14.174246   \n",
       "A1-D042253-3_9_M-1-1         NA  Bladder    -24.163538     -7.499349   \n",
       "\n",
       "                                   sample_id  \n",
       "cell                                          \n",
       "A1-B000610-3_56_F-1-1  A1-B000610-3_56_F-1-1  \n",
       "A1-B002764-3_38_F-1-1  A1-B002764-3_38_F-1-1  \n",
       "A1-B002771-3_39_F-1-1  A1-B002771-3_39_F-1-1  \n",
       "A1-D041914-3_8_M-1-1    A1-D041914-3_8_M-1-1  \n",
       "A1-D042253-3_9_M-1-1    A1-D042253-3_9_M-1-1  \n",
       "\n",
       "[5 rows x 24 columns]"
      ]
     },
     "execution_count": 12,
     "metadata": {},
     "output_type": "execute_result"
    }
   ],
   "source": [
    "annotations = pd.read_csv('https://github.com/czbiohub/tabula-muris/raw/master/00_data_ingest/18_global_annotation_csv/annotations_facs.csv', \n",
    "                          index_col='cell')\n",
    "annotations.index = annotations.index.str.replace('.', '-')\n",
    "annotations.columns = annotations.columns.str.replace('.', '_')\n",
    "annotations['sample_id'] = annotations.index\n",
    "annotations = annotations.fillna(\"NA\")\n",
    "print(annotations.shape)\n",
    "annotations.head()"
   ]
  },
  {
   "cell_type": "code",
   "execution_count": 13,
   "metadata": {
    "execution_event_id": "4cb088f2-68bb-4f71-a473-80538c20879d",
    "last_executed_text": "color_cols = ['tissue', 'subtissue', 'cell_ontology_class', 'mouse_id', 'mouse_sex', 'plate_barcode']\npalette_names = ['tab20', 'tab10', 'cubehelix', 'husl', 'Paired', 'Set2']\npalettes = dict(zip(color_cols, palette_names))\npalettes",
    "persistent_id": "c4a0b589-f0a3-4268-818d-bb1386e54af4"
   },
   "outputs": [
    {
     "data": {
      "text/plain": [
       "{'tissue': 'tab20',\n",
       " 'subtissue': 'tab10',\n",
       " 'cell_ontology_class': 'cubehelix',\n",
       " 'mouse_id': 'husl',\n",
       " 'mouse_sex': 'Paired',\n",
       " 'plate_barcode': 'Set2'}"
      ]
     },
     "execution_count": 13,
     "metadata": {},
     "output_type": "execute_result"
    }
   ],
   "source": [
    "color_cols = ['tissue', 'subtissue', 'cell_ontology_class', 'mouse_id', 'mouse_sex', 'plate_barcode']\n",
    "palette_names = ['tab20', 'tab10', 'cubehelix', 'husl', 'Paired', 'Set2']\n",
    "palettes = dict(zip(color_cols, palette_names))\n",
    "palettes"
   ]
  },
  {
   "cell_type": "code",
   "execution_count": 14,
   "metadata": {
    "execution_event_id": "4e2bbad1-a9d0-43c0-9b00-70b984ec5cba",
    "last_executed_text": "import umap",
    "persistent_id": "b0c30f70-2793-4ef2-ac9e-773849431aee"
   },
   "outputs": [],
   "source": [
    "import umap"
   ]
  },
  {
   "cell_type": "code",
   "execution_count": null,
   "metadata": {
    "persistent_id": "fd3f6ecf-addd-4f50-a08c-7ae72d8d8c47"
   },
   "outputs": [],
   "source": [
    "\n",
    "\n",
    "embedding = umap.UMAP(n_neighbors=15, verbose=True).fit_transform(similarities_pca)\n",
    "\n",
    "embedding"
   ]
  },
  {
   "cell_type": "code",
   "execution_count": null,
   "metadata": {
    "persistent_id": "ff25fd36-217f-4277-968b-230bfe842814"
   },
   "outputs": [],
   "source": [
    "hue = annotations.loc[similarity.columns, 'cell_ontology_class']\n",
    "hue.head()"
   ]
  },
  {
   "cell_type": "code",
   "execution_count": null,
   "metadata": {
    "persistent_id": "ef967bcf-4b5a-4ecf-9438-ea0fc1a2e476"
   },
   "outputs": [],
   "source": [
    "x = embedding[:, 0]\n",
    "y = embedding[:, 1]\n",
    "\n",
    "sns.scatterplot(x, y, hue=hue)"
   ]
  },
  {
   "cell_type": "code",
   "execution_count": null,
   "metadata": {
    "persistent_id": "6d4ad1dd-b362-4d89-8d9a-f0781bff3f7e"
   },
   "outputs": [],
   "source": [
    "for color_col, palette in palettes.items():\n",
    "    fig, ax = plt.subplots()\n",
    "    \n",
    "    hue = annotations.loc[similarity.columns, color_col]\n",
    "    sns.scatterplot(x, y, hue=hue, palette=palette)\n",
    "    ax.set(title=color_col)"
   ]
  },
  {
   "cell_type": "code",
   "execution_count": null,
   "metadata": {
    "persistent_id": "03f46b47-1999-4e05-9751-cf47dde2bb7d"
   },
   "outputs": [],
   "source": [
    "graphs = {}\n",
    "positions = {}"
   ]
  },
  {
   "cell_type": "code",
   "execution_count": null,
   "metadata": {
    "persistent_id": "5e6adb3b-c9da-48d9-abe0-febe7f72ac95"
   },
   "outputs": [],
   "source": []
  },
  {
   "cell_type": "markdown",
   "metadata": {},
   "source": [
    "### Build KNN on similarities"
   ]
  },
  {
   "cell_type": "code",
   "execution_count": null,
   "metadata": {
    "persistent_id": "d323c002-c28d-4b4c-9631-a826aa441133"
   },
   "outputs": [],
   "source": [
    "%%time\n",
    "\n",
    "key = 'k31_without_abundance'\n",
    "\n",
    "n_neighbors = 5\n",
    "figure_folder = 's3://kmer-hashing/tabula-muris/n_hashes=500/'\n",
    "figure_prefix = 'molecule=DNA_ksize=31_ignore-abundance=False'\n",
    "title = 'Tabula Muris'\n",
    "\n",
    "g, pos = khtools.knn.build_graph_and_plot(similarity, annotations, n_neighbors,\n",
    "                                          color_cols, palettes, figure_folder, figure_prefix, title)\n",
    "\n",
    "graphs[key] = g\n",
    "positions[key] = pos"
   ]
  },
  {
   "cell_type": "code",
   "execution_count": 27,
   "metadata": {
    "persistent_id": "9949c6e2-36e6-4b60-8262-4b6f301baefa"
   },
   "outputs": [
    {
     "data": {
      "text/plain": [
       "'0.1.0'"
      ]
     },
     "execution_count": 27,
     "metadata": {},
     "output_type": "execute_result"
    }
   ],
   "source": [
    "khtools.__version__"
   ]
  },
  {
   "cell_type": "markdown",
   "metadata": {},
   "source": [
    "## Run Leiden Clustering\n",
    "\n",
    "\n",
    "Below is excerpted from [scanpy's leiden clustering algorithm](https://github.com/theislab/scanpy/blob/master/scanpy/tools/_leiden.py)"
   ]
  },
  {
   "cell_type": "code",
   "execution_count": 6,
   "metadata": {
    "persistent_id": "9c42f99e-7fcc-49e8-b5b5-563ae6870439"
   },
   "outputs": [
    {
     "ename": "ImportError",
     "evalue": "Please install the leiden algorithm: `pip3 install leidenalg`.",
     "output_type": "error",
     "traceback": [
      "\u001b[0;31m---------------------------------------------------------------------------\u001b[0m",
      "\u001b[0;31mModuleNotFoundError\u001b[0m                       Traceback (most recent call last)",
      "\u001b[0;32m<ipython-input-6-84434ec4b56a>\u001b[0m in \u001b[0;36m<module>\u001b[0;34m()\u001b[0m\n\u001b[1;32m      1\u001b[0m \u001b[0;32mtry\u001b[0m\u001b[0;34m:\u001b[0m\u001b[0;34m\u001b[0m\u001b[0;34m\u001b[0m\u001b[0m\n\u001b[0;32m----> 2\u001b[0;31m     \u001b[0;32mimport\u001b[0m \u001b[0mleidenalg\u001b[0m\u001b[0;34m\u001b[0m\u001b[0;34m\u001b[0m\u001b[0m\n\u001b[0m\u001b[1;32m      3\u001b[0m \u001b[0;32mexcept\u001b[0m \u001b[0mImportError\u001b[0m\u001b[0;34m:\u001b[0m\u001b[0;34m\u001b[0m\u001b[0;34m\u001b[0m\u001b[0m\n",
      "\u001b[0;31mModuleNotFoundError\u001b[0m: No module named 'leidenalg'",
      "\nDuring handling of the above exception, another exception occurred:\n",
      "\u001b[0;31mImportError\u001b[0m                               Traceback (most recent call last)",
      "\u001b[0;32m<ipython-input-6-84434ec4b56a>\u001b[0m in \u001b[0;36m<module>\u001b[0;34m()\u001b[0m\n\u001b[1;32m      2\u001b[0m     \u001b[0;32mimport\u001b[0m \u001b[0mleidenalg\u001b[0m\u001b[0;34m\u001b[0m\u001b[0;34m\u001b[0m\u001b[0m\n\u001b[1;32m      3\u001b[0m \u001b[0;32mexcept\u001b[0m \u001b[0mImportError\u001b[0m\u001b[0;34m:\u001b[0m\u001b[0;34m\u001b[0m\u001b[0;34m\u001b[0m\u001b[0m\n\u001b[0;32m----> 4\u001b[0;31m     \u001b[0;32mraise\u001b[0m \u001b[0mImportError\u001b[0m\u001b[0;34m(\u001b[0m\u001b[0;34m'Please install the leiden algorithm: `pip3 install leidenalg`.'\u001b[0m\u001b[0;34m)\u001b[0m\u001b[0;34m\u001b[0m\u001b[0;34m\u001b[0m\u001b[0m\n\u001b[0m",
      "\u001b[0;31mImportError\u001b[0m: Please install the leiden algorithm: `pip3 install leidenalg`."
     ]
    }
   ],
   "source": [
    "\n",
    "\n",
    "try:\n",
    "    import leidenalg\n",
    "except ImportError:\n",
    "    raise ImportError('Please install the leiden algorithm: `pip3 install leidenalg`.')\n",
    "\n",
    "# convert it to igraph\n",
    "g = scanpy.utils.get_igraph_from_adjacency(adjacency, directed=directed)\n",
    "# flip to the default partition type if not overriden by the user\n",
    "if partition_type is None:\n",
    "    partition_type = leidenalg.RBConfigurationVertexPartition\n",
    "# prepare find_partition arguments as a dictionary, appending to whatever the user provided\n",
    "# it needs to be this way as this allows for the accounting of a None resolution\n",
    "# (in the case of a partition variant that doesn't take it on input)\n",
    "\n",
    "partition_kwargs = None\n",
    "\n",
    "if partition_kwargs is None:\n",
    "    partition_kwargs = {}\n",
    "if use_weights:\n",
    "    partition_kwargs['weights'] = np.array(g.es['weight']).astype(np.float64)\n",
    "partition_kwargs['n_iterations'] = n_iterations\n",
    "partition_kwargs['seed'] = random_state\n",
    "if resolution is not None:\n",
    "    partition_kwargs['resolution_parameter'] = resolution\n",
    "# clustering proper\n",
    "part = leidenalg.find_partition(g, partition_type, **partition_kwargs)\n",
    "# store output into adata.obs\n",
    "groups = np.array(part.membership)\n"
   ]
  },
  {
   "cell_type": "markdown",
   "metadata": {},
   "source": [
    "## Make confusion matrix with Tabula Muris Senis leiden clustering"
   ]
  },
  {
   "cell_type": "code",
   "execution_count": null,
   "metadata": {
    "persistent_id": "0447b5e9-42c7-4921-a5d6-3cb12f5d9d38"
   },
   "outputs": [],
   "source": [
    "tms.obs['leiden'].head()"
   ]
  }
 ],
 "metadata": {
  "history": [
   {
    "cell": {
     "executionCount": 1,
     "executionEventId": "8a8cb650-9f5d-4e74-aebb-b28d3ee32279",
     "hasError": false,
     "id": "9f4840ae-b039-4c9c-b560-e02b384d0e19",
     "outputs": [],
     "persistentId": "5ed6d18a-a087-4bac-8295-b0865dfc580f",
     "text": "import dask.dataframe as dd\nimport numpy as np\nimport pandas as pd\n\nimport khtools\n\n%load_ext autoreload\n%autoreload 2"
    },
    "executionTime": "2019-10-12T20:20:58.378Z"
   },
   {
    "cell": {
     "executionCount": 2,
     "executionEventId": "a14e75f9-74ac-47fb-a824-9b0f1592bd04",
     "hasError": false,
     "id": "7b50fa7e-87f3-4d50-80ec-ef575ef8a6f1",
     "outputs": [
      {
       "name": "stdout",
       "output_type": "stream",
       "text": "-rw-rw-r-- 1 olga olga 14G Aug  7 11:51 /home/olga/pureScratch/olgabot-maca/facs/sourmash_compare_k31_ignore_abundance.csv\n"
      }
     ],
     "persistentId": "f6666ae2-cf03-4e7d-a9f8-9f497d8af25f",
     "text": "csv = '/home/olga/pureScratch/olgabot-maca/facs/sourmash_compare_k31_ignore_abundance.csv'\n! ls -lha $csv"
    },
    "executionTime": "2019-10-12T20:20:58.608Z"
   },
   {
    "cell": {
     "executionCount": 3,
     "executionEventId": "b4468497-7966-481a-bfdb-e5233127aced",
     "hasError": false,
     "id": "883284d0-d578-4f51-825a-aee779c34872",
     "outputs": [
      {
       "name": "stdout",
       "output_type": "stream",
       "text": "CPU times: user 6min 49s, sys: 952 ms, total: 6min 50s\nWall time: 6min 50s\n"
      }
     ],
     "persistentId": "b28224c8-2924-4a1b-8ecc-104d11615ad0",
     "text": "%time similarity = dd.read_csv(csv, sample=2048000)"
    },
    "executionTime": "2019-10-12T20:27:49.420Z"
   },
   {
    "cell": {
     "executionCount": 4,
     "executionEventId": "ea1b6612-c5c1-49c0-98f3-4736be7a371d",
     "hasError": false,
     "id": "c908a571-0369-402d-bfa6-17f530c3d6cb",
     "outputs": [
      {
       "data": {
        "text/plain": "(Delayed('int-223b075e-0172-45ce-91c3-ea6ec9f9c84b'), 50312)"
       },
       "execution_count": 4,
       "metadata": {},
       "output_type": "execute_result"
      }
     ],
     "persistentId": "10548222-5f15-4ba8-97f6-51ea16e6c35d",
     "text": "similarity.shape"
    },
    "executionTime": "2019-10-12T20:27:49.599Z"
   },
   {
    "cell": {
     "executionCount": 5,
     "executionEventId": "343ae666-847e-4025-a4a5-b7b298c447fa",
     "hasError": true,
     "id": "29269618-5bb0-477b-971c-a1900e36c495",
     "outputs": [
      {
       "ename": "NameError",
       "evalue": "name 'similarity_da' is not defined",
       "output_type": "error",
       "traceback": [
        "\u001b[0;31m---------------------------------------------------------------------------\u001b[0m",
        "\u001b[0;31mNameError\u001b[0m                                 Traceback (most recent call last)",
        "\u001b[0;32m<ipython-input-5-b4975fcee807>\u001b[0m in \u001b[0;36m<module>\u001b[0;34m()\u001b[0m\n\u001b[1;32m      3\u001b[0m \u001b[0mpca\u001b[0m \u001b[0;34m=\u001b[0m \u001b[0mPCA\u001b[0m\u001b[0;34m(\u001b[0m\u001b[0mn_components\u001b[0m\u001b[0;34m=\u001b[0m\u001b[0;36m50\u001b[0m\u001b[0;34m,\u001b[0m \u001b[0mcopy\u001b[0m\u001b[0;34m=\u001b[0m\u001b[0;32mFalse\u001b[0m\u001b[0;34m,\u001b[0m \u001b[0msvd_solver\u001b[0m\u001b[0;34m=\u001b[0m\u001b[0;34m'randomized'\u001b[0m\u001b[0;34m)\u001b[0m\u001b[0;34m\u001b[0m\u001b[0;34m\u001b[0m\u001b[0m\n\u001b[1;32m      4\u001b[0m \u001b[0;34m\u001b[0m\u001b[0m\n\u001b[0;32m----> 5\u001b[0;31m \u001b[0msimilarities_pca\u001b[0m \u001b[0;34m=\u001b[0m \u001b[0mpca\u001b[0m\u001b[0;34m.\u001b[0m\u001b[0mfit_transform\u001b[0m\u001b[0;34m(\u001b[0m\u001b[0msimilarity_da\u001b[0m\u001b[0;34m)\u001b[0m\u001b[0;34m\u001b[0m\u001b[0;34m\u001b[0m\u001b[0m\n\u001b[0m\u001b[1;32m      6\u001b[0m \u001b[0;31m# print(similarities_pca.shape)\u001b[0m\u001b[0;34m\u001b[0m\u001b[0;34m\u001b[0m\u001b[0;34m\u001b[0m\u001b[0m\n",
        "\u001b[0;31mNameError\u001b[0m: name 'similarity_da' is not defined"
       ]
      }
     ],
     "persistentId": "31903b99-7625-4868-be2c-1a1d2e123fd6",
     "text": "from dask_ml.decomposition import PCA\n\npca = PCA(n_components=50, copy=False, svd_solver='randomized')\n\nsimilarities_pca = pca.fit_transform(similarity_da)\n# print(similarities_pca.shape)"
    },
    "executionTime": "2019-10-12T21:38:26.403Z"
   },
   {
    "cell": {
     "executionCount": 7,
     "executionEventId": "f2832592-90a1-48b8-8986-3cd27bc1c7ea",
     "hasError": false,
     "id": "8d783cca-2253-46ea-89e6-e81d92680fdc",
     "outputs": [
      {
       "data": {
        "text/plain": "(50312, 50312)"
       },
       "execution_count": 7,
       "metadata": {},
       "output_type": "execute_result"
      }
     ],
     "persistentId": "c34537c2-4d82-46a1-9e90-f815165ae677",
     "text": "similarity_da.shape"
    },
    "executionTime": "2019-10-13T18:02:50.682Z"
   },
   {
    "cell": {
     "executionCount": 11,
     "executionEventId": "da327da1-eb89-4799-bc63-b44c481569dc",
     "hasError": false,
     "id": "6be65951-7d27-4b69-bba6-aa8881862874",
     "outputs": [
      {
       "data": {
        "text/plain": "(50312, 50)"
       },
       "execution_count": 11,
       "metadata": {},
       "output_type": "execute_result"
      }
     ],
     "persistentId": "c69ddec6-86c6-416a-adec-f1f34ba0c4f6",
     "text": "similarities_pca.shape"
    },
    "executionTime": "2019-10-14T06:24:03.580Z"
   },
   {
    "cell": {
     "executionCount": 12,
     "executionEventId": "58342b52-c5aa-4681-89c6-cb1e6a7cbe2c",
     "hasError": false,
     "id": "c9fa9d22-04c6-42ee-b129-9132068236e7",
     "outputs": [
      {
       "name": "stdout",
       "output_type": "stream",
       "text": "(44949, 24)\n"
      },
      {
       "name": "stderr",
       "output_type": "stream",
       "text": "/home/olga/miniconda3/envs/kmer-hashing/lib/python3.6/site-packages/IPython/core/interactiveshell.py:2785: DtypeWarning: Columns (0,1) have mixed types. Specify dtype option on import or set low_memory=False.\n  interactivity=interactivity, compiler=compiler, result=result)\n"
      },
      {
       "data": {
        "text/html": "<div>\n<style scoped>\n    .dataframe tbody tr th:only-of-type {\n        vertical-align: middle;\n    }\n\n    .dataframe tbody tr th {\n        vertical-align: top;\n    }\n\n    .dataframe thead th {\n        text-align: right;\n    }\n</style>\n<table border=\"1\" class=\"dataframe\">\n  <thead>\n    <tr style=\"text-align: right;\">\n      <th></th>\n      <th>Neurog3&gt;0_raw</th>\n      <th>Neurog3&gt;0_scaled</th>\n      <th>cell_ontology_class</th>\n      <th>cell_ontology_id</th>\n      <th>cluster_ids</th>\n      <th>free_annotation</th>\n      <th>mouse_id</th>\n      <th>mouse_sex</th>\n      <th>plate_barcode</th>\n      <th>subsetA</th>\n      <th>...</th>\n      <th>subsetC_cluster_ids</th>\n      <th>subsetD</th>\n      <th>subsetD_cluster_ids</th>\n      <th>subsetE</th>\n      <th>subsetE_cluster_ids</th>\n      <th>subtissue</th>\n      <th>tissue</th>\n      <th>tissue_tSNE_1</th>\n      <th>tissue_tSNE_2</th>\n      <th>sample_id</th>\n    </tr>\n    <tr>\n      <th>cell</th>\n      <th></th>\n      <th></th>\n      <th></th>\n      <th></th>\n      <th></th>\n      <th></th>\n      <th></th>\n      <th></th>\n      <th></th>\n      <th></th>\n      <th></th>\n      <th></th>\n      <th></th>\n      <th></th>\n      <th></th>\n      <th></th>\n      <th></th>\n      <th></th>\n      <th></th>\n      <th></th>\n      <th></th>\n    </tr>\n  </thead>\n  <tbody>\n    <tr>\n      <th>A1-B000610-3_56_F-1-1</th>\n      <td>NA</td>\n      <td>NA</td>\n      <td>bladder cell</td>\n      <td>CL:1001319</td>\n      <td>5</td>\n      <td>Bladder mesenchymal cell</td>\n      <td>3_56_F</td>\n      <td>F</td>\n      <td>B000610</td>\n      <td>NA</td>\n      <td>...</td>\n      <td>NA</td>\n      <td>NA</td>\n      <td>NA</td>\n      <td>NA</td>\n      <td>NA</td>\n      <td>NA</td>\n      <td>Bladder</td>\n      <td>-7.182841</td>\n      <td>-10.895094</td>\n      <td>A1-B000610-3_56_F-1-1</td>\n    </tr>\n    <tr>\n      <th>A1-B002764-3_38_F-1-1</th>\n      <td>NA</td>\n      <td>NA</td>\n      <td>bladder urothelial cell</td>\n      <td>CL:1001428</td>\n      <td>3</td>\n      <td>Luminal bladder epithelial cell</td>\n      <td>3_38_F</td>\n      <td>F</td>\n      <td>B002764</td>\n      <td>NA</td>\n      <td>...</td>\n      <td>NA</td>\n      <td>NA</td>\n      <td>NA</td>\n      <td>NA</td>\n      <td>NA</td>\n      <td>NA</td>\n      <td>Bladder</td>\n      <td>4.199059</td>\n      <td>-11.050240</td>\n      <td>A1-B002764-3_38_F-1-1</td>\n    </tr>\n    <tr>\n      <th>A1-B002771-3_39_F-1-1</th>\n      <td>NA</td>\n      <td>NA</td>\n      <td>bladder cell</td>\n      <td>CL:1001319</td>\n      <td>5</td>\n      <td>Bladder mesenchymal cell</td>\n      <td>3_39_F</td>\n      <td>F</td>\n      <td>B002771</td>\n      <td>NA</td>\n      <td>...</td>\n      <td>NA</td>\n      <td>NA</td>\n      <td>NA</td>\n      <td>NA</td>\n      <td>NA</td>\n      <td>NA</td>\n      <td>Bladder</td>\n      <td>-11.995435</td>\n      <td>-7.325534</td>\n      <td>A1-B002771-3_39_F-1-1</td>\n    </tr>\n    <tr>\n      <th>A1-D041914-3_8_M-1-1</th>\n      <td>NA</td>\n      <td>NA</td>\n      <td>bladder cell</td>\n      <td>CL:1001319</td>\n      <td>5</td>\n      <td>Bladder mesenchymal cell</td>\n      <td>3_8_M</td>\n      <td>M</td>\n      <td>D041914</td>\n      <td>NA</td>\n      <td>...</td>\n      <td>NA</td>\n      <td>NA</td>\n      <td>NA</td>\n      <td>NA</td>\n      <td>NA</td>\n      <td>NA</td>\n      <td>Bladder</td>\n      <td>-6.820022</td>\n      <td>-14.174246</td>\n      <td>A1-D041914-3_8_M-1-1</td>\n    </tr>\n    <tr>\n      <th>A1-D042253-3_9_M-1-1</th>\n      <td>NA</td>\n      <td>NA</td>\n      <td>bladder cell</td>\n      <td>CL:1001319</td>\n      <td>2</td>\n      <td>Bladder mesenchymal cell</td>\n      <td>3_9_M</td>\n      <td>M</td>\n      <td>D042253</td>\n      <td>NA</td>\n      <td>...</td>\n      <td>NA</td>\n      <td>NA</td>\n      <td>NA</td>\n      <td>NA</td>\n      <td>NA</td>\n      <td>NA</td>\n      <td>Bladder</td>\n      <td>-24.163538</td>\n      <td>-7.499349</td>\n      <td>A1-D042253-3_9_M-1-1</td>\n    </tr>\n  </tbody>\n</table>\n<p>5 rows × 24 columns</p>\n</div>",
        "text/plain": "                      Neurog3>0_raw Neurog3>0_scaled      cell_ontology_class  \\\ncell                                                                            \nA1-B000610-3_56_F-1-1            NA               NA             bladder cell   \nA1-B002764-3_38_F-1-1            NA               NA  bladder urothelial cell   \nA1-B002771-3_39_F-1-1            NA               NA             bladder cell   \nA1-D041914-3_8_M-1-1             NA               NA             bladder cell   \nA1-D042253-3_9_M-1-1             NA               NA             bladder cell   \n\n                      cell_ontology_id  cluster_ids  \\\ncell                                                  \nA1-B000610-3_56_F-1-1       CL:1001319            5   \nA1-B002764-3_38_F-1-1       CL:1001428            3   \nA1-B002771-3_39_F-1-1       CL:1001319            5   \nA1-D041914-3_8_M-1-1        CL:1001319            5   \nA1-D042253-3_9_M-1-1        CL:1001319            2   \n\n                                       free_annotation mouse_id mouse_sex  \\\ncell                                                                        \nA1-B000610-3_56_F-1-1         Bladder mesenchymal cell   3_56_F         F   \nA1-B002764-3_38_F-1-1  Luminal bladder epithelial cell   3_38_F         F   \nA1-B002771-3_39_F-1-1         Bladder mesenchymal cell   3_39_F         F   \nA1-D041914-3_8_M-1-1          Bladder mesenchymal cell    3_8_M         M   \nA1-D042253-3_9_M-1-1          Bladder mesenchymal cell    3_9_M         M   \n\n                      plate_barcode subsetA  ... subsetC_cluster_ids subsetD  \\\ncell                                         ...                               \nA1-B000610-3_56_F-1-1       B000610      NA  ...                  NA      NA   \nA1-B002764-3_38_F-1-1       B002764      NA  ...                  NA      NA   \nA1-B002771-3_39_F-1-1       B002771      NA  ...                  NA      NA   \nA1-D041914-3_8_M-1-1        D041914      NA  ...                  NA      NA   \nA1-D042253-3_9_M-1-1        D042253      NA  ...                  NA      NA   \n\n                      subsetD_cluster_ids subsetE subsetE_cluster_ids  \\\ncell                                                                    \nA1-B000610-3_56_F-1-1                  NA      NA                  NA   \nA1-B002764-3_38_F-1-1                  NA      NA                  NA   \nA1-B002771-3_39_F-1-1                  NA      NA                  NA   \nA1-D041914-3_8_M-1-1                   NA      NA                  NA   \nA1-D042253-3_9_M-1-1                   NA      NA                  NA   \n\n                      subtissue   tissue tissue_tSNE_1 tissue_tSNE_2  \\\ncell                                                                   \nA1-B000610-3_56_F-1-1        NA  Bladder     -7.182841    -10.895094   \nA1-B002764-3_38_F-1-1        NA  Bladder      4.199059    -11.050240   \nA1-B002771-3_39_F-1-1        NA  Bladder    -11.995435     -7.325534   \nA1-D041914-3_8_M-1-1         NA  Bladder     -6.820022    -14.174246   \nA1-D042253-3_9_M-1-1         NA  Bladder    -24.163538     -7.499349   \n\n                                   sample_id  \ncell                                          \nA1-B000610-3_56_F-1-1  A1-B000610-3_56_F-1-1  \nA1-B002764-3_38_F-1-1  A1-B002764-3_38_F-1-1  \nA1-B002771-3_39_F-1-1  A1-B002771-3_39_F-1-1  \nA1-D041914-3_8_M-1-1    A1-D041914-3_8_M-1-1  \nA1-D042253-3_9_M-1-1    A1-D042253-3_9_M-1-1  \n\n[5 rows x 24 columns]"
       },
       "execution_count": 12,
       "metadata": {},
       "output_type": "execute_result"
      }
     ],
     "persistentId": "ccc39ce8-9a99-4ef3-a61e-1d453d36f3ec",
     "text": "annotations = pd.read_csv('https://github.com/czbiohub/tabula-muris/raw/master/00_data_ingest/18_global_annotation_csv/annotations_facs.csv', \n                          index_col='cell')\nannotations.index = annotations.index.str.replace('.', '-')\nannotations.columns = annotations.columns.str.replace('.', '_')\nannotations['sample_id'] = annotations.index\nannotations = annotations.fillna(\"NA\")\nprint(annotations.shape)\nannotations.head()"
    },
    "executionTime": "2019-10-14T06:24:21.826Z"
   },
   {
    "cell": {
     "executionCount": 13,
     "executionEventId": "4cb088f2-68bb-4f71-a473-80538c20879d",
     "hasError": false,
     "id": "16bde540-d8c5-4be0-b6d5-82d9a4dc9d0e",
     "outputs": [
      {
       "data": {
        "text/plain": "{'tissue': 'tab20',\n 'subtissue': 'tab10',\n 'cell_ontology_class': 'cubehelix',\n 'mouse_id': 'husl',\n 'mouse_sex': 'Paired',\n 'plate_barcode': 'Set2'}"
       },
       "execution_count": 13,
       "metadata": {},
       "output_type": "execute_result"
      }
     ],
     "persistentId": "c4a0b589-f0a3-4268-818d-bb1386e54af4",
     "text": "color_cols = ['tissue', 'subtissue', 'cell_ontology_class', 'mouse_id', 'mouse_sex', 'plate_barcode']\npalette_names = ['tab20', 'tab10', 'cubehelix', 'husl', 'Paired', 'Set2']\npalettes = dict(zip(color_cols, palette_names))\npalettes"
    },
    "executionTime": "2019-10-14T06:24:21.886Z"
   },
   {
    "cell": {
     "executionCount": 14,
     "executionEventId": "4e2bbad1-a9d0-43c0-9b00-70b984ec5cba",
     "hasError": false,
     "id": "6ea68d67-24f7-4c7e-b762-3ee14c2918db",
     "outputs": [],
     "persistentId": "b0c30f70-2793-4ef2-ac9e-773849431aee",
     "text": "import umap"
    },
    "executionTime": "2019-10-14T06:24:32.029Z"
   },
   {
    "cell": {
     "executionCount": 2,
     "executionEventId": "f1ad3cfd-2cba-4a2f-a64d-9926eb7c7064",
     "hasError": false,
     "id": "3d3b5cae-c769-4c77-9348-fcfee991db49",
     "outputs": [
      {
       "data": {
        "text/plain": "4"
       },
       "execution_count": 2,
       "metadata": {},
       "output_type": "execute_result"
      }
     ],
     "persistentId": "c65c7fe4-2e9b-4431-9a4f-139292a7c963",
     "text": "2+2"
    },
    "executionTime": "2019-11-04T00:04:38.469Z"
   },
   {
    "cell": {
     "executionCount": 3,
     "executionEventId": "65b88af2-f54c-4538-a076-557659a9078c",
     "hasError": false,
     "id": "3ce6e968-1645-4c39-b676-10e6a6a3e5da",
     "outputs": [],
     "persistentId": "5ed6d18a-a087-4bac-8295-b0865dfc580f",
     "text": "import dask.dataframe as dd\nimport numpy as np\nimport pandas as pd\n\nimport khtools\n\n%load_ext autoreload\n%autoreload 2"
    },
    "executionTime": "2019-11-04T00:04:47.076Z"
   }
  ],
  "kernelspec": {
   "display_name": "Python [conda env:kmer-hashing]",
   "language": "python",
   "name": "conda-env-kmer-hashing-py"
  },
  "language_info": {
   "codemirror_mode": {
    "name": "ipython",
    "version": 3
   },
   "file_extension": ".py",
   "mimetype": "text/x-python",
   "name": "python",
   "nbconvert_exporter": "python",
   "pygments_lexer": "ipython3",
   "version": "3.6.8"
  },
  "uuid": "6b9008a7-5ef8-4e11-b32a-c633c34d376e"
 },
 "nbformat": 4,
 "nbformat_minor": 4
}
