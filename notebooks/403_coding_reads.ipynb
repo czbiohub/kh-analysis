{
 "cells": [
  {
   "cell_type": "code",
   "execution_count": 3,
   "metadata": {
    "execution_event_id": "1d6d68df-3c90-4b16-9583-48948847c2b6",
    "last_executed_text": "%load_ext autoreload\n%autoreload 2\n\nimport pickle\n\nimport click\nimport screed\n\nfrom Bio.Blast import NCBIWWW\n\nfrom khtools.bloom_filter import load_nodegraph, make_peptide_set\nfrom khtools.extract_coding import score_single_translation, encode_peptide, kmerize",
    "persistent_id": "19fc72d9-e3e1-4898-8f7e-b28058f9ea00"
   },
   "outputs": [
    {
     "name": "stdout",
     "output_type": "stream",
     "text": [
      "The autoreload extension is already loaded. To reload it, use:\n",
      "  %reload_ext autoreload\n"
     ]
    }
   ],
   "source": [
    "%load_ext autoreload\n",
    "%autoreload 2\n",
    "\n",
    "import pickle\n",
    "\n",
    "import click\n",
    "import screed\n",
    "\n",
    "from Bio.Blast import NCBIWWW\n",
    "\n",
    "from khtools.bloom_filter import load_nodegraph, make_peptide_set\n",
    "from khtools.extract_coding import score_single_translation, encode_peptide, kmerize"
   ]
  },
  {
   "cell_type": "code",
   "execution_count": 4,
   "metadata": {
    "execution_event_id": "0c258044-1af4-4974-997c-6cc1790fd0bc",
    "last_executed_text": "cd ~/data_lg/kmer-hashing/brawand2011/kmermaid/results_dayhoff11_extract_coding_jaccard_threshold05/extract_coding",
    "persistent_id": "a333f7f5-26e1-4bd2-b6f0-c6599c9e7c74"
   },
   "outputs": [
    {
     "name": "stdout",
     "output_type": "stream",
     "text": [
      "/mnt/ibm_lg/olga/kmer-hashing/brawand2011/kmermaid/results_dayhoff11_extract_coding_jaccard_threshold05/extract_coding\n"
     ]
    }
   ],
   "source": [
    "cd ~/data_lg/kmer-hashing/brawand2011/kmermaid/results_dayhoff11_extract_coding_jaccard_threshold05/extract_coding"
   ]
  },
  {
   "cell_type": "code",
   "execution_count": 5,
   "metadata": {
    "execution_event_id": "8aa91ec9-4a72-4b5a-8b59-b4300661f12b",
    "last_executed_text": "ls -lha *mdo*coding_reads_peptides.fasta",
    "persistent_id": "3bcf02b2-7459-4a77-83ba-02e324539a88"
   },
   "outputs": [
    {
     "name": "stdout",
     "output_type": "stream",
     "text": [
      "-rw-r--r-- 1 olga olga 123M Nov  4 19:54 SRR306752_GSM752603_mdo_kd_M_1_trimmed__coding_reads_peptides.fasta\n",
      "-rw-r--r-- 1 olga olga 1.5G Nov  4 13:39 SRR306753_GSM752606_mdo_lv_F_1_trimmed__coding_reads_peptides.fasta\n",
      "-rw-r--r-- 1 olga olga 1.1G Nov  4 17:58 SRR306754_GSM752608_mdo_lv_M_1_trimmed__coding_reads_peptides.fasta\n",
      "-rw-r--r-- 1 olga olga 1.5G Nov  4 22:24 SRR306755_GSM752611_mdo_ts_M_1_trimmed__coding_reads_peptides.fasta\n",
      "-rw-r--r-- 1 olga olga 3.2G Nov  4 15:50 SRR306756_GSM752613_mdo_ts_M_2_trimmed__coding_reads_peptides.fasta\n"
     ]
    }
   ],
   "source": [
    "ls -lha *mdo*coding_reads_peptides.fasta"
   ]
  },
  {
   "cell_type": "code",
   "execution_count": 6,
   "metadata": {
    "execution_event_id": "e4fc47c8-ea2b-4e81-b947-5af3bf212515",
    "last_executed_text": "! head SRR306752_GSM752603_mdo_kd_M_1_trimmed__coding_reads_peptides.fasta > test.fasta\n! cat test.fasta",
    "persistent_id": "75cb3c6d-d439-4088-9e9f-2b245cf24bd9"
   },
   "outputs": [
    {
     "name": "stdout",
     "output_type": "stream",
     "text": [
      ">SRR306752.27035 Ibis_Run090629:7:1:313:423/1 translation_frame: 3\n",
      "IAILTGDFPSLEP\n",
      ">SRR306752.27035 Ibis_Run090629:7:1:313:423/1 translation_frame: -1\n",
      "WFKGWKVTRKDGN\n",
      ">SRR306752.27035 Ibis_Run090629:7:1:313:423/1 translation_frame: -2\n",
      "GSRDGKSPVRMAM\n",
      ">SRR306752.32778 Ibis_Run090629:7:1:381:125/1 translation_frame: 3\n",
      "LALSSINTTVSTITFSILFLLT\n",
      ">SRR306752.32778 Ibis_Run090629:7:1:381:125/1 translation_frame: -2\n",
      "VRRNRIENVMVETVVLIDDRAK\n"
     ]
    }
   ],
   "source": [
    "! head SRR306752_GSM752603_mdo_kd_M_1_trimmed__coding_reads_peptides.fasta > test.fasta\n",
    "! cat test.fasta"
   ]
  },
  {
   "cell_type": "markdown",
   "metadata": {},
   "source": [
    "The NCBI Blast takes hella long so skip this step"
   ]
  },
  {
   "cell_type": "code",
   "execution_count": 7,
   "metadata": {
    "execution_event_id": "a2a4cfab-a4f4-4d48-846a-0735c38a3f65",
    "last_executed_text": "# fasta_string = '''>SRR306752.27035 Ibis_Run090629:7:1:313:423/1 translation_frame: 3\n# IAILTGDFPSLEP\n# >SRR306752.27035 Ibis_Run090629:7:1:313:423/1 translation_frame: -1\n# WFKGWKVTRKDGN\n# >SRR306752.27035 Ibis_Run090629:7:1:313:423/1 translation_frame: -2\n# GSRDGKSPVRMAM\n# >SRR306752.32778 Ibis_Run090629:7:1:381:125/1 translation_frame: 3\n# LALSSINTTVSTITFSILFLLT\n# >SRR306752.32778 Ibis_Run090629:7:1:381:125/1 translation_frame: -2\n# VRRNRIENVMVETVVLIDDRAK'''\n# result_handle = NCBIWWW.qblast(\"tblastn\", \"nt\", fasta_string)",
    "persistent_id": "ade12d03-fa5f-4697-9e8f-2bb19d9105e9"
   },
   "outputs": [],
   "source": [
    "# fasta_string = '''>SRR306752.27035 Ibis_Run090629:7:1:313:423/1 translation_frame: 3\n",
    "# IAILTGDFPSLEP\n",
    "# >SRR306752.27035 Ibis_Run090629:7:1:313:423/1 translation_frame: -1\n",
    "# WFKGWKVTRKDGN\n",
    "# >SRR306752.27035 Ibis_Run090629:7:1:313:423/1 translation_frame: -2\n",
    "# GSRDGKSPVRMAM\n",
    "# >SRR306752.32778 Ibis_Run090629:7:1:381:125/1 translation_frame: 3\n",
    "# LALSSINTTVSTITFSILFLLT\n",
    "# >SRR306752.32778 Ibis_Run090629:7:1:381:125/1 translation_frame: -2\n",
    "# VRRNRIENVMVETVVLIDDRAK'''\n",
    "# result_handle = NCBIWWW.qblast(\"tblastn\", \"nt\", fasta_string)"
   ]
  },
  {
   "cell_type": "code",
   "execution_count": 9,
   "metadata": {
    "execution_event_id": "5c185ce1-f14a-443f-9c19-c038acea468f",
    "last_executed_text": "csv = 'SRR306752_GSM752603_mdo_kd_M_1_trimmed__coding_scores.csv'",
    "persistent_id": "d8f7cdb9-e57c-49dd-a023-1f030954ae4e"
   },
   "outputs": [],
   "source": [
    "csv = 'SRR306752_GSM752603_mdo_kd_M_1_trimmed__coding_scores.csv'"
   ]
  },
  {
   "cell_type": "code",
   "execution_count": 10,
   "metadata": {
    "execution_event_id": "c2a544d5-9523-4413-b4a8-bacdb352f4f5",
    "last_executed_text": "! head $csv",
    "persistent_id": "ceb49264-f761-4130-8f7e-8e8dadf88f1b"
   },
   "outputs": [
    {
     "name": "stdout",
     "output_type": "stream",
     "text": [
      "read_id,jaccard_in_peptide_db,n_kmers,classification,filename\n",
      "SRR306752.24755 Ibis_Run090629:7:1:286:693/1,,,All translations shorter than peptide k-mer size + 1,SRR306752_GSM752603_mdo_kd_M_1_trimmed.fq.gz\n",
      "SRR306752.26212 Ibis_Run090629:7:1:304:224/1,,,All translations shorter than peptide k-mer size + 1,SRR306752_GSM752603_mdo_kd_M_1_trimmed.fq.gz\n",
      "SRR306752.27035 Ibis_Run090629:7:1:313:423/1,1.0,3.0,Coding,SRR306752_GSM752603_mdo_kd_M_1_trimmed.fq.gz\n",
      "SRR306752.31741 Ibis_Run090629:7:1:369:831/1,,,All translations shorter than peptide k-mer size + 1,SRR306752_GSM752603_mdo_kd_M_1_trimmed.fq.gz\n",
      "SRR306752.32553 Ibis_Run090629:7:1:378:170/1,0.1,10.0,Non-coding,SRR306752_GSM752603_mdo_kd_M_1_trimmed.fq.gz\n",
      "SRR306752.32778 Ibis_Run090629:7:1:381:125/1,0.8333333333333334,12.0,Coding,SRR306752_GSM752603_mdo_kd_M_1_trimmed.fq.gz\n",
      "SRR306752.33021 Ibis_Run090629:7:1:384:223/1,0.8333333333333334,12.0,Coding,SRR306752_GSM752603_mdo_kd_M_1_trimmed.fq.gz\n",
      "SRR306752.33073 Ibis_Run090629:7:1:385:523/1,0.1111111111111111,9.0,Non-coding,SRR306752_GSM752603_mdo_kd_M_1_trimmed.fq.gz\n",
      "SRR306752.33108 Ibis_Run090629:7:1:385:155/1,,,All translations shorter than peptide k-mer size + 1,SRR306752_GSM752603_mdo_kd_M_1_trimmed.fq.gz\n"
     ]
    }
   ],
   "source": [
    "! head $csv"
   ]
  },
  {
   "cell_type": "code",
   "execution_count": 11,
   "metadata": {
    "execution_event_id": "0f5b2833-e51e-47d7-90ed-2123d75a801e",
    "last_executed_text": "read_id = 'SRR306752.27035 Ibis_Run090629:7:1:313:423/1'\n! grep \"$read_id\" $csv",
    "persistent_id": "38b3d02d-f791-4acf-b4ce-e24cde81d043"
   },
   "outputs": [
    {
     "name": "stdout",
     "output_type": "stream",
     "text": [
      "SRR306752.27035 Ibis_Run090629:7:1:313:423/1,1.0,3.0,Coding,SRR306752_GSM752603_mdo_kd_M_1_trimmed.fq.gz\n"
     ]
    }
   ],
   "source": [
    "read_id = 'SRR306752.27035 Ibis_Run090629:7:1:313:423/1'\n",
    "! grep \"$read_id\" $csv"
   ]
  },
  {
   "cell_type": "code",
   "execution_count": 12,
   "metadata": {
    "execution_event_id": "0cb212fa-a8e1-455f-a28f-7c3a813f70c4",
    "last_executed_text": "single_end_folder = '/home/olga/data_lg/kmer-hashing/brawand2011/nfcore-rnaseq-single-end/allspecies/trim_galore'",
    "persistent_id": "062df609-79fc-44c0-b4ed-0a4693b23764"
   },
   "outputs": [],
   "source": [
    "single_end_folder = '/home/olga/data_lg/kmer-hashing/brawand2011/nfcore-rnaseq-single-end/allspecies/trim_galore'"
   ]
  },
  {
   "cell_type": "code",
   "execution_count": 13,
   "metadata": {
    "execution_event_id": "9007ad4e-6653-4d20-add8-98a5a369dbb0",
    "last_executed_text": "! zgrep -A 3 \"$read_id\" $single_end_folder/SRR306752_GSM752603_mdo_kd_M_1_trimmed*",
    "persistent_id": "e8daa7ae-db21-489d-ba20-695fb470fad5"
   },
   "outputs": [
    {
     "name": "stdout",
     "output_type": "stream",
     "text": [
      "@SRR306752.27035 Ibis_Run090629:7:1:313:423/1\n",
      "GCATTGCCATCCTTACGGGTGACTTTCCATCCCTTGAACCA\n",
      "+\n",
      "44867167967675;84.2439987584<45666423;779\n"
     ]
    }
   ],
   "source": [
    "! zgrep -A 3 \"$read_id\" $single_end_folder/SRR306752_GSM752603_mdo_kd_M_1_trimmed*"
   ]
  },
  {
   "cell_type": "code",
   "execution_count": null,
   "metadata": {
    "execution_event_id": "91d9f1bd-c772-45c4-8001-9fdbd1bc630d",
    "last_executed_text": "from khtools.bloom_filter import load_nodegraph",
    "persistent_id": "15bb1827-fabf-45c4-a64a-9a4407b05b0c"
   },
   "outputs": [],
   "source": []
  },
  {
   "cell_type": "code",
   "execution_count": 14,
   "metadata": {
    "execution_event_id": "116c7ec0-adbd-467d-87a0-fe1ad263b157",
    "last_executed_text": "outdir = '/home/olga/data_lg/kmer-hashing/brawand2011/kmermaid/results_dayhoff11_extract_coding_jaccard_threshold05'\npeptide_bloom_filter = load_nodegraph(f\"{outdir}/bloom_filter/Homo_sapiens__molecule-dayhoff_ksize-11.bloomfilter\")",
    "persistent_id": "890aeff6-597c-494a-ac11-e03fa639c740"
   },
   "outputs": [],
   "source": [
    "outdir = '/home/olga/data_lg/kmer-hashing/brawand2011/kmermaid/results_dayhoff11_extract_coding_jaccard_threshold05'\n",
    "peptide_bloom_filter = load_nodegraph(f\"{outdir}/bloom_filter/Homo_sapiens__molecule-dayhoff_ksize-11.bloomfilter\")"
   ]
  },
  {
   "cell_type": "code",
   "execution_count": null,
   "metadata": {
    "execution_event_id": "9c64ae33-1352-4b66-b9f5-b6ae9476efa4",
    "last_executed_text": "from khtools.extract_coding import score_single_translation",
    "persistent_id": "4a31f046-1f43-481a-b521-fd116bcf5efc"
   },
   "outputs": [],
   "source": []
  },
  {
   "cell_type": "code",
   "execution_count": 30,
   "metadata": {
    "execution_event_id": "4543fe96-ae83-470e-8070-b5a27dcb5dd2",
    "last_executed_text": "molecule = 'dayhoff'\npeptide_ksize = 12\n\n# score_single_translation('IAILTGDFPSLEP', peptide_bloom_filter, peptide_ksize=peptide_ksize, molecule=molecule)",
    "persistent_id": "ccfa0fbd-3315-48d1-be82-c6f0b24b1046"
   },
   "outputs": [],
   "source": [
    "molecule = 'dayhoff'\n",
    "peptide_ksize = 12\n",
    "\n",
    "# score_single_translation('IAILTGDFPSLEP', peptide_bloom_filter, peptide_ksize=peptide_ksize, molecule=molecule)"
   ]
  },
  {
   "cell_type": "code",
   "execution_count": 31,
   "metadata": {
    "execution_event_id": "81625e14-331f-4933-b246-e9107202839c",
    "last_executed_text": "\n# score_single_translation('WFKGWKVTRKDGN', peptide_bloom_filter, peptide_ksize=peptide_ksize, molecule=molecule)",
    "persistent_id": "4b082fd2-0d93-47c3-8baf-25c92b8bca6e"
   },
   "outputs": [],
   "source": [
    "\n",
    "# score_single_translation('WFKGWKVTRKDGN', peptide_bloom_filter, peptide_ksize=peptide_ksize, molecule=molecule)"
   ]
  },
  {
   "cell_type": "code",
   "execution_count": 32,
   "metadata": {
    "execution_event_id": "362e156a-485e-4a85-9791-4f1fa97fca11",
    "last_executed_text": "# score_single_translation('GSRDGKSPVRMAM', peptide_bloom_filter, peptide_ksize=peptide_ksize, molecule=molecule)",
    "persistent_id": "83a6373e-ac94-4228-8830-3c2844fcc4c2"
   },
   "outputs": [],
   "source": [
    "# score_single_translation('GSRDGKSPVRMAM', peptide_bloom_filter, peptide_ksize=peptide_ksize, molecule=molecule)"
   ]
  },
  {
   "cell_type": "code",
   "execution_count": null,
   "metadata": {
    "execution_event_id": "8f1e83d9-7d82-41be-ae68-0c88389e6190",
    "last_executed_text": "def score_single_translation_from_set(translation,\n                             peptide_kmer_set,\n                             peptide_ksize,\n                             molecule='protein',\n                             verbose=True):\n    encoded = encode_peptide(translation, molecule)\n    kmers = kmerize(str(encoded), peptide_ksize)\n    kmers_in_peptide_db = peptide_kmer_set.intersection(kmers)\n    n_kmers_in_peptide_db = len(kmers_in_peptide_db)\n    \n    n_kmers = len(kmers)\n\n    if verbose > 1:\n        click.echo(f\"\\ttranslation: \\t{encoded}\", err=True)\n        click.echo(\"\\tkmers:\", ' '.join(kmers), err=True)\n\n    if verbose > 1:\n        kmers_in_peptide_db = {(k, h): peptide_bloom_filter.get(h)\n                               for k, h in zip(kmers, hashes)}\n        # Print keys (kmers) only\n        click.echo(f\"\\tK-mers in peptide database:\", err=True)\n        click.echo(kmers_in_peptide_db, err=True)\n\n    fraction_in_peptide_db = n_kmers_in_peptide_db / n_kmers\n\n    return fraction_in_peptide_db, n_kmers\n",
    "persistent_id": "8c81cf3b-7e0b-4569-bdcf-4d9bf3b7d4c8"
   },
   "outputs": [],
   "source": []
  },
  {
   "cell_type": "code",
   "execution_count": 33,
   "metadata": {
    "execution_event_id": "659370e1-f7d8-47ef-8d7a-da2639d05006",
    "last_executed_text": "peptide_fasta = '/home/olga/data_lg/czbiohub-reference/ensembl/release-97/fasta/homo_sapiens/pep/Homo_sapiens.GRCh38.pep.all.fa.gz'\n\nall_peptide_kmers = make_peptide_set(peptide_fasta, peptide_ksize, molecule)\nlen(all_peptide_kmers)",
    "persistent_id": "40a1d5e2-043d-4fce-acb5-1a1b3a588965"
   },
   "outputs": [
    {
     "name": "stderr",
     "output_type": "stream",
     "text": [
      "110048it [00:17, 6118.52it/s]\n"
     ]
    },
    {
     "data": {
      "text/plain": [
       "9540952"
      ]
     },
     "execution_count": 33,
     "metadata": {},
     "output_type": "execute_result"
    }
   ],
   "source": [
    "peptide_fasta = '/home/olga/data_lg/czbiohub-reference/ensembl/release-97/fasta/homo_sapiens/pep/Homo_sapiens.GRCh38.pep.all.fa.gz'\n",
    "\n",
    "all_peptide_kmers = make_peptide_set(peptide_fasta, peptide_ksize, molecule)\n",
    "len(all_peptide_kmers)"
   ]
  },
  {
   "cell_type": "code",
   "execution_count": 34,
   "metadata": {
    "execution_event_id": "42d313d9-8952-4396-a099-da453397270c",
    "last_executed_text": "def score_single_translation_from_set(translation,\n                             peptide_kmer_set,\n                             peptide_ksize,\n                             molecule='protein',\n                             verbose=True):\n    encoded = encode_peptide(translation, molecule)\n    kmers = kmerize(str(encoded), peptide_ksize)\n    kmers_in_peptide_db = peptide_kmer_set.intersection(kmers)\n#     import pdb ; pdb.set_trace()\n    n_kmers_in_peptide_db = len(kmers_in_peptide_db)\n    \n    n_kmers = len(kmers)\n\n    if verbose > 1:\n        print(f\"\\ttranslation: \\t{encoded}\")\n        print(\"\\tkmers:\", ' '.join(kmers))\n\n    if verbose > 1:\n        # Print keys (kmers) only\n        print(f\"\\tK-mers in peptide database:\")\n        print(kmers_in_peptide_db)\n\n    fraction_in_peptide_db = n_kmers_in_peptide_db / n_kmers\n\n    return fraction_in_peptide_db, n_kmers\n\n\nfor record in screed.open('test.fasta'):\n    name = record['name']\n    print(f'\\n--- {name} ---')\n    seq = record['sequence']\n    print(seq)\n    fraction_in_peptide_db, n_kmers = score_single_translation_from_set(seq, all_peptide_kmers, \n                                                                      peptide_ksize=peptide_ksize,\n                                                                      molecule=molecule, verbose=2)\n    print(f'fraction_in_peptide_db: {fraction_in_peptide_db}')\n    print(f'n_kmers: {n_kmers}')",
    "persistent_id": "929b3bae-4d5a-45b3-bcaf-925de1e25a76"
   },
   "outputs": [
    {
     "name": "stdout",
     "output_type": "stream",
     "text": [
      "\n",
      "--- SRR306752.27035 Ibis_Run090629:7:1:313:423/1 translation_frame: 3 ---\n",
      "IAILTGDFPSLEP\n",
      "\ttranslation: \tebeebbcfbbecb\n",
      "\tkmers: ebeebbcfbbec beebbcfbbecb\n",
      "\tK-mers in peptide database:\n",
      "{'beebbcfbbecb'}\n",
      "fraction_in_peptide_db: 0.5\n",
      "n_kmers: 2\n",
      "\n",
      "--- SRR306752.27035 Ibis_Run090629:7:1:313:423/1 translation_frame: -1 ---\n",
      "WFKGWKVTRKDGN\n",
      "\ttranslation: \tffdbfdebddcbc\n",
      "\tkmers: ffdbfdebddcb fdbfdebddcbc\n",
      "\tK-mers in peptide database:\n",
      "{'ffdbfdebddcb', 'fdbfdebddcbc'}\n",
      "fraction_in_peptide_db: 1.0\n",
      "n_kmers: 2\n",
      "\n",
      "--- SRR306752.27035 Ibis_Run090629:7:1:313:423/1 translation_frame: -2 ---\n",
      "GSRDGKSPVRMAM\n",
      "\ttranslation: \tbbdcbdbbedebe\n",
      "\tkmers: bbdcbdbbedeb bdcbdbbedebe\n",
      "\tK-mers in peptide database:\n",
      "{'bbdcbdbbedeb', 'bdcbdbbedebe'}\n",
      "fraction_in_peptide_db: 1.0\n",
      "n_kmers: 2\n",
      "\n",
      "--- SRR306752.32778 Ibis_Run090629:7:1:381:125/1 translation_frame: 3 ---\n",
      "LALSSINTTVSTITFSILFLLT\n",
      "\ttranslation: \tebebbecbbebbebfbeefeeb\n",
      "\tkmers: bebbecbbebbe bebbebfbeefe bbebfbeefeeb becbbebbebfb cbbebbebfbee ebebbecbbebb ecbbebbebfbe ebbecbbebbeb bbebbebfbeef ebbebfbeefee bbecbbebbebf\n",
      "\tK-mers in peptide database:\n",
      "{'bbebfbeefeeb', 'becbbebbebfb', 'ebebbecbbebb', 'ebbecbbebbeb', 'bebbecbbebbe'}\n",
      "fraction_in_peptide_db: 0.45454545454545453\n",
      "n_kmers: 11\n",
      "\n",
      "--- SRR306752.32778 Ibis_Run090629:7:1:381:125/1 translation_frame: -2 ---\n",
      "VRRNRIENVMVETVVLIDDRAK\n",
      "\ttranslation: \teddcdecceeecbeeeeccdbd\n",
      "\tkmers: cdecceeecbee dcdecceeecbe decceeecbeee eeecbeeeeccd ddcdecceeecb ecceeecbeeee cceeecbeeeec eddcdecceeec eecbeeeeccdb ecbeeeeccdbd ceeecbeeeecc\n",
      "\tK-mers in peptide database:\n",
      "set()\n",
      "fraction_in_peptide_db: 0.0\n",
      "n_kmers: 11\n"
     ]
    }
   ],
   "source": [
    "def score_single_translation_from_set(translation,\n",
    "                             peptide_kmer_set,\n",
    "                             peptide_ksize,\n",
    "                             molecule='protein',\n",
    "                             verbose=True):\n",
    "    encoded = encode_peptide(translation, molecule)\n",
    "    kmers = kmerize(str(encoded), peptide_ksize)\n",
    "    kmers_in_peptide_db = peptide_kmer_set.intersection(kmers)\n",
    "#     import pdb ; pdb.set_trace()\n",
    "    n_kmers_in_peptide_db = len(kmers_in_peptide_db)\n",
    "    \n",
    "    n_kmers = len(kmers)\n",
    "\n",
    "    if verbose > 1:\n",
    "        print(f\"\\ttranslation: \\t{encoded}\")\n",
    "        print(\"\\tkmers:\", ' '.join(kmers))\n",
    "\n",
    "    if verbose > 1:\n",
    "        # Print keys (kmers) only\n",
    "        print(f\"\\tK-mers in peptide database:\")\n",
    "        print(kmers_in_peptide_db)\n",
    "\n",
    "    fraction_in_peptide_db = n_kmers_in_peptide_db / n_kmers\n",
    "\n",
    "    return fraction_in_peptide_db, n_kmers\n",
    "\n",
    "\n",
    "for record in screed.open('test.fasta'):\n",
    "    name = record['name']\n",
    "    print(f'\\n--- {name} ---')\n",
    "    seq = record['sequence']\n",
    "    print(seq)\n",
    "    fraction_in_peptide_db, n_kmers = score_single_translation_from_set(seq, all_peptide_kmers, \n",
    "                                                                      peptide_ksize=peptide_ksize,\n",
    "                                                                      molecule=molecule, verbose=2)\n",
    "    print(f'fraction_in_peptide_db: {fraction_in_peptide_db}')\n",
    "    print(f'n_kmers: {n_kmers}')"
   ]
  },
  {
   "cell_type": "code",
   "execution_count": 26,
   "metadata": {
    "execution_event_id": "521d73c8-f089-4bdc-aacf-5bad77d3bf83",
    "last_executed_text": "6**11",
    "persistent_id": "76cd6cf2-c1e2-44ac-a7f8-6f5f71d7dc2d"
   },
   "outputs": [
    {
     "data": {
      "text/plain": [
       "362797056"
      ]
     },
     "execution_count": 26,
     "metadata": {},
     "output_type": "execute_result"
    }
   ],
   "source": [
    "6**11"
   ]
  },
  {
   "cell_type": "code",
   "execution_count": 27,
   "metadata": {
    "execution_event_id": "ded5a5c0-555d-4d07-96e6-2f374ac74afb",
    "last_executed_text": "len(all_peptide_kmers)",
    "persistent_id": "eb77744d-87e3-44f5-9c88-19cf2e3c62b2"
   },
   "outputs": [
    {
     "data": {
      "text/plain": [
       "7850417"
      ]
     },
     "execution_count": 27,
     "metadata": {},
     "output_type": "execute_result"
    }
   ],
   "source": [
    "len(all_peptide_kmers)"
   ]
  },
  {
   "cell_type": "code",
   "execution_count": 28,
   "metadata": {
    "execution_event_id": "98dadc19-d3ad-43a2-9d32-1f474792da5d",
    "last_executed_text": "100*len(all_peptide_kmers)/6**11",
    "persistent_id": "2ec5e325-b7e4-43cb-a6c4-3a516af4bc4a"
   },
   "outputs": [
    {
     "data": {
      "text/plain": [
       "2.1638590694627906"
      ]
     },
     "execution_count": 28,
     "metadata": {},
     "output_type": "execute_result"
    }
   ],
   "source": [
    "100*len(all_peptide_kmers)/6**11"
   ]
  },
  {
   "cell_type": "code",
   "execution_count": null,
   "metadata": {
    "persistent_id": "fa61664a-35dd-4df7-8848-463630016a2a"
   },
   "outputs": [],
   "source": []
  }
 ],
 "metadata": {
  "history": [
   {
    "cell": {
     "executionCount": 1,
     "executionEventId": "22e83a24-fa49-4fb9-b55c-a28091648452",
     "hasError": false,
     "id": "5f8b97c1-b017-4cb8-afba-fb8337aef1a1",
     "outputs": [
      {
       "name": "stdout",
       "output_type": "stream",
       "text": "/mnt/ibm_lg/olga/kmer-hashing/brawand2011/kmermaid/results_dayhoff11_extract_coding_jaccard_threshold05/extract_coding\n"
      }
     ],
     "persistentId": "a333f7f5-26e1-4bd2-b6f0-c6599c9e7c74",
     "text": "cd ~/data_lg/kmer-hashing/brawand2011/kmermaid/results_dayhoff11_extract_coding_jaccard_threshold05/extract_coding"
    },
    "executionTime": "2019-11-05T16:24:57.982Z"
   },
   {
    "cell": {
     "executionCount": 2,
     "executionEventId": "f0217947-5f7e-4af8-ab57-66df25ae7cdf",
     "hasError": false,
     "id": "a6720b77-897c-410e-8503-b3132c6c2d96",
     "outputs": [
      {
       "name": "stdout",
       "output_type": "stream",
       "text": "-rw-r--r-- 1 olga olga  123M Nov  4 19:54 SRR306752_GSM752603_mdo_kd_M_1_trimmed__coding_reads_peptides.fasta\n-rw-r--r-- 1 olga olga  1.5G Nov  4 13:39 SRR306753_GSM752606_mdo_lv_F_1_trimmed__coding_reads_peptides.fasta\n-rw-r--r-- 1 olga olga  1.1G Nov  4 17:58 SRR306754_GSM752608_mdo_lv_M_1_trimmed__coding_reads_peptides.fasta\n-rw-r--r-- 1 olga olga  1.5G Nov  4 22:24 SRR306755_GSM752611_mdo_ts_M_1_trimmed__coding_reads_peptides.fasta\n-rw-r--r-- 1 olga olga  3.2G Nov  4 15:50 SRR306756_GSM752613_mdo_ts_M_2_trimmed__coding_reads_peptides.fasta\n-rw-r--r-- 1 olga olga  2.5G Nov  4 19:31 SRR306757_GSM752614_mmu_br_F_1_trimmed__coding_reads_peptides.fasta\n-rw-r--r-- 1 olga olga  1.1G Nov  4 09:56 SRR306758_GSM752615_mmu_br_M_1_trimmed__coding_reads_peptides.fasta\n-rw-r--r-- 1 olga olga  228M Nov  4 11:48 SRR306759_GSM752615_mmu_br_M_1_trimmed__coding_reads_peptides.fasta\n-rw-r--r-- 1 olga olga  1.2G Nov  4 21:43 SRR306760_GSM752615_mmu_br_M_1_trimmed__coding_reads_peptides.fasta\n-rw-r--r-- 1 olga olga 1022M Nov  4 15:39 SRR306761_GSM752615_mmu_br_M_1_trimmed__coding_reads_peptides.fasta\n-rw-r--r-- 1 olga olga  1.5G Nov  4 20:09 SRR306762_GSM752616_mmu_br_M_2_trimmed__coding_reads_peptides.fasta\n-rw-r--r-- 1 olga olga  3.7G Nov  4 21:15 SRR306763_GSM752617_mmu_cb_F_1_trimmed__coding_reads_peptides.fasta\n-rw-r--r-- 1 olga olga  1.6G Nov  4 17:26 SRR306764_GSM752618_mmu_cb_M_1_trimmed__coding_reads_peptides.fasta\n-rw-r--r-- 1 olga olga  2.8G Nov  4 18:05 SRR306765_GSM752619_mmu_cb_M_2_trimmed__coding_reads_peptides.fasta\n-rw-r--r-- 1 olga olga  4.2G Nov  4 21:47 SRR306766_GSM752620_mmu_ht_F_1_trimmed__coding_reads_peptides.fasta\n-rw-r--r-- 1 olga olga  1.8G Nov  4 21:25 SRR306767_GSM752621_mmu_ht_M_1_trimmed__coding_reads_peptides.fasta\n-rw-r--r-- 1 olga olga  2.8G Nov  4 14:17 SRR306768_GSM752622_mmu_ht_M_2_trimmed__coding_reads_peptides.fasta\n-rw-r--r-- 1 olga olga  3.2G Nov  5 02:41 SRR306769_GSM752623_mmu_kd_F_1_trimmed__coding_reads_peptides.fasta\n-rw-r--r-- 1 olga olga  1.3G Nov  4 13:30 SRR306770_GSM752624_mmu_kd_M_1_trimmed__coding_reads_peptides.fasta\n-rw-r--r-- 1 olga olga  3.0G Nov  4 20:38 SRR306771_GSM752625_mmu_kd_M_2_trimmed__coding_reads_peptides.fasta\n-rw-r--r-- 1 olga olga  3.4G Nov  4 19:09 SRR306772_GSM752626_mmu_lv_F_1_trimmed__coding_reads_peptides.fasta\n-rw-r--r-- 1 olga olga  1.3G Nov  4 20:21 SRR306773_GSM752627_mmu_lv_M_1_trimmed__coding_reads_peptides.fasta\n-rw-r--r-- 1 olga olga  3.2G Nov  4 15:28 SRR306774_GSM752628_mmu_lv_M_2_trimmed__coding_reads_peptides.fasta\n-rw-r--r-- 1 olga olga  1.5G Nov  4 13:41 SRR306775_GSM752629_mmu_ts_M_1_trimmed__coding_reads_peptides.fasta\n-rw-r--r-- 1 olga olga  3.3G Nov  4 21:07 SRR306776_GSM752630_mmu_ts_M_2_trimmed__coding_reads_peptides.fasta\n-rw-r--r-- 1 olga olga  1.5G Nov  4 22:20 SRR306777_GSM752631_mml_br_F_1_trimmed__coding_reads_peptides.fasta\n-rw-r--r-- 1 olga olga  721M Nov  4 18:03 SRR306778_GSM752632_mml_br_M_1_trimmed__coding_reads_peptides.fasta\n-rw-r--r-- 1 olga olga  5.3G Nov  4 17:55 SRR306779_GSM752633_mml_br_M_2__coding_reads_peptides.fasta\n-rw-r--r-- 1 olga olga  1.6G Nov  4 13:46 SRR306780_GSM752634_mml_cb_F_1_trimmed__coding_reads_peptides.fasta\n-rw-r--r-- 1 olga olga  1.6G Nov  4 22:16 SRR306781_GSM752635_mml_cb_M_1_trimmed__coding_reads_peptides.fasta\n-rw-r--r-- 1 olga olga  2.6G Nov  4 14:41 SRR306782_GSM752636_mml_ht_F_1_trimmed__coding_reads_peptides.fasta\n-rw-r--r-- 1 olga olga  1.7G Nov  4 13:10 SRR306783_GSM752637_mml_ht_M_1_trimmed__coding_reads_peptides.fasta\n-rw-r--r-- 1 olga olga  1.5G Nov  4 17:29 SRR306784_GSM752638_mml_kd_F_1_trimmed__coding_reads_peptides.fasta\n-rw-r--r-- 1 olga olga  903M Nov  4 09:50 SRR306785_GSM752639_mml_kd_M_1_trimmed__coding_reads_peptides.fasta\n-rw-r--r-- 1 olga olga  2.0G Nov  4 18:12 SRR306786_GSM752640_mml_lv_F_1_trimmed__coding_reads_peptides.fasta\n-rw-r--r-- 1 olga olga  883M Nov  4 12:08 SRR306787_GSM752641_mml_lv_M_1_trimmed__coding_reads_peptides.fasta\n-rw-r--r-- 1 olga olga  2.7G Nov  4 15:09 SRR306788_GSM752641_mml_lv_M_1_trimmed__coding_reads_peptides.fasta\n-rw-r--r-- 1 olga olga  1.2G Nov  4 18:18 SRR306789_GSM752642_mml_ts_M_1_trimmed__coding_reads_peptides.fasta\n-rw-r--r-- 1 olga olga  3.9G Nov  5 00:34 SRR306790_GSM752643_mml_ts_M_2_trimmed__coding_reads_peptides.fasta\n-rw-r--r-- 1 olga olga  3.7G Nov  4 22:52 SRR306791_GSM752644_ppy_br_F_1_trimmed__coding_reads_peptides.fasta\n-rw-r--r-- 1 olga olga  4.2G Nov  4 16:37 SRR306792_GSM752645_ppy_br_M_1__coding_reads_peptides.fasta\n-rw-r--r-- 1 olga olga  1.6G Nov  4 16:01 SRR306793_GSM752646_ppy_cb_F_1_trimmed__coding_reads_peptides.fasta\n-rw-r--r-- 1 olga olga  2.9G Nov  4 15:54 SRR306794_GSM752647_ppy_ht_F_1_trimmed__coding_reads_peptides.fasta\n-rw-r--r-- 1 olga olga  3.3G Nov  4 15:42 SRR306795_GSM752648_ppy_ht_M_1_trimmed__coding_reads_peptides.fasta\n-rw-r--r-- 1 olga olga  3.0G Nov  4 15:02 SRR306796_GSM752649_ppy_kd_F_1_trimmed__coding_reads_peptides.fasta\n-rw-r--r-- 1 olga olga  2.9G Nov  4 19:27 SRR306797_GSM752650_ppy_kd_M_1_trimmed__coding_reads_peptides.fasta\n-rw-r--r-- 1 olga olga  2.5G Nov  4 18:43 SRR306798_GSM752651_ppy_lv_F_1_trimmed__coding_reads_peptides.fasta\n-rw-r--r-- 1 olga olga  3.8G Nov  4 20:05 SRR306799_GSM752652_ppy_lv_M_1_trimmed__coding_reads_peptides.fasta\n-rw-r--r-- 1 olga olga  4.1G Nov  4 21:35 SRR306800_GSM752653_ggo_br_F_1_trimmed__coding_reads_peptides.fasta\n-rw-r--r-- 1 olga olga  4.3G Nov  4 16:22 SRR306801_GSM752654_ggo_br_M_1__coding_reads_peptides.fasta\n-rw-r--r-- 1 olga olga  3.2G Nov  4 20:01 SRR306802_GSM752655_ggo_cb_F_1_trimmed__coding_reads_peptides.fasta\n-rw-r--r-- 1 olga olga  1.7G Nov  4 18:30 SRR306803_GSM752656_ggo_cb_M_1_trimmed__coding_reads_peptides.fasta\n-rw-r--r-- 1 olga olga  3.1G Nov  4 15:05 SRR306804_GSM752657_ggo_ht_F_1_trimmed__coding_reads_peptides.fasta\n-rw-r--r-- 1 olga olga  2.8G Nov  4 21:40 SRR306805_GSM752658_ggo_ht_M_1_trimmed__coding_reads_peptides.fasta\n-rw-r--r-- 1 olga olga  1.9G Nov  4 20:55 SRR306806_GSM752659_ggo_kd_F_1_trimmed__coding_reads_peptides.fasta\n-rw-r--r-- 1 olga olga  2.6G Nov  4 16:18 SRR306807_GSM752660_ggo_kd_M_1_trimmed__coding_reads_peptides.fasta\n-rw-r--r-- 1 olga olga  3.6G Nov  4 15:35 SRR306808_GSM752661_ggo_lv_F_1_trimmed__coding_reads_peptides.fasta\n-rw-r--r-- 1 olga olga  3.5G Nov  5 00:02 SRR306809_GSM752662_ggo_lv_M_1_trimmed__coding_reads_peptides.fasta\n-rw-r--r-- 1 olga olga  2.1G Nov  4 17:23 SRR306810_GSM752663_ggo_ts_M_1_trimmed__coding_reads_peptides.fasta\n-rw-r--r-- 1 olga olga  2.9G Nov  4 20:18 SRR306811_GSM752664_ptr_br_F_1_trimmed__coding_reads_peptides.fasta\n-rw-r--r-- 1 olga olga  3.7G Nov  4 15:24 SRR306812_GSM752665_ptr_br_M_1__coding_reads_peptides.fasta\n-rw-r--r-- 1 olga olga  4.2G Nov  4 17:19 SRR306813_GSM752666_ptr_br_M_2__coding_reads_peptides.fasta\n-rw-r--r-- 1 olga olga  3.4G Nov  4 22:10 SRR306814_GSM752667_ptr_br_M_3__coding_reads_peptides.fasta\n-rw-r--r-- 1 olga olga  4.5G Nov  5 01:00 SRR306815_GSM752668_ptr_br_M_4__coding_reads_peptides.fasta\n-rw-r--r-- 1 olga olga  5.2G Nov  4 18:38 SRR306816_GSM752669_ptr_br_M_5__coding_reads_peptides.fasta\n-rw-r--r-- 1 olga olga  3.8G Nov  4 22:33 SRR306817_GSM752670_ptr_cb_F_1_trimmed__coding_reads_peptides.fasta\n-rw-r--r-- 1 olga olga  1.9G Nov  4 13:35 SRR306818_GSM752671_ptr_cb_M_1_trimmed__coding_reads_peptides.fasta\n-rw-r--r-- 1 olga olga  2.9G Nov  4 18:00 SRR306819_GSM752672_ptr_ht_F_1_trimmed__coding_reads_peptides.fasta\n-rw-r--r-- 1 olga olga  3.7G Nov  4 23:48 SRR306820_GSM752673_ptr_ht_M_1_trimmed__coding_reads_peptides.fasta\n-rw-r--r-- 1 olga olga  3.1G Nov  4 22:07 SRR306821_GSM752674_ptr_kd_F_1_trimmed__coding_reads_peptides.fasta\n-rw-r--r-- 1 olga olga  3.6G Nov  4 20:59 SRR306822_GSM752675_ptr_kd_M_1_trimmed__coding_reads_peptides.fasta\n-rw-r--r-- 1 olga olga  3.8G Nov  4 15:31 SRR306823_GSM752676_ptr_lv_F_1_trimmed__coding_reads_peptides.fasta\n-rw-r--r-- 1 olga olga  2.8G Nov  4 16:06 SRR306824_GSM752677_ptr_lv_M_1_trimmed__coding_reads_peptides.fasta\n-rw-r--r-- 1 olga olga  2.3G Nov  4 17:48 SRR306825_GSM752678_ptr_ts_M_1_trimmed__coding_reads_peptides.fasta\n-rw-r--r-- 1 olga olga  4.8G Nov  4 16:29 SRR306826_GSM752679_ppa_br_F_1__coding_reads_peptides.fasta\n-rw-r--r-- 1 olga olga  2.7G Nov  5 00:07 SRR306827_GSM752680_ppa_br_F_2_trimmed__coding_reads_peptides.fasta\n-rw-r--r-- 1 olga olga  3.4G Nov  4 21:54 SRR306828_GSM752681_ppa_br_M_1_trimmed__coding_reads_peptides.fasta\n-rw-r--r-- 1 olga olga  2.6G Nov  4 22:22 SRR306829_GSM752682_ppa_cb_F_1_trimmed__coding_reads_peptides.fasta\n-rw-r--r-- 1 olga olga  3.6G Nov  4 23:37 SRR306830_GSM752683_ppa_cb_M_1_trimmed__coding_reads_peptides.fasta\n-rw-r--r-- 1 olga olga  3.3G Nov  4 21:59 SRR306831_GSM752684_ppa_ht_F_1_trimmed__coding_reads_peptides.fasta\n-rw-r--r-- 1 olga olga  2.4G Nov  4 14:34 SRR306832_GSM752685_ppa_ht_M_1_trimmed__coding_reads_peptides.fasta\n-rw-r--r-- 1 olga olga  3.3G Nov  4 22:13 SRR306833_GSM752686_ppa_kd_F_1_trimmed__coding_reads_peptides.fasta\n-rw-r--r-- 1 olga olga  2.6G Nov  4 14:44 SRR306834_GSM752687_ppa_kd_M_1_trimmed__coding_reads_peptides.fasta\n-rw-r--r-- 1 olga olga  3.1G Nov  4 17:44 SRR306835_GSM752688_ppa_lv_F_1_trimmed__coding_reads_peptides.fasta\n-rw-r--r-- 1 olga olga  1.7G Nov  4 13:25 SRR306836_GSM752689_ppa_lv_M_1_trimmed__coding_reads_peptides.fasta\n-rw-r--r-- 1 olga olga  2.6G Nov  4 13:19 SRR306837_GSM752690_ppa_ts_M_1_trimmed__coding_reads_peptides.fasta\n-rw-r--r-- 1 olga olga   47M Nov  4 11:05 SRR306838_GSM752691_hsa_br_F_1_trimmed__coding_reads_peptides.fasta\n-rw-r--r-- 1 olga olga  2.1G Nov  4 21:05 SRR306839_GSM752692_hsa_br_M_3_trimmed__coding_reads_peptides.fasta\n-rw-r--r-- 1 olga olga  5.4G Nov  4 18:15 SRR306840_GSM752693_hsa_br_M_1__coding_reads_peptides.fasta\n-rw-r--r-- 1 olga olga  1.6G Nov  4 15:47 SRR306841_GSM752694_hsa_br_M_2_trimmed__coding_reads_peptides.fasta\n-rw-r--r-- 1 olga olga  4.1G Nov  4 15:58 SRR306842_GSM752695_hsa_br_M_4__coding_reads_peptides.fasta\n-rw-r--r-- 1 olga olga  460M Nov  4 11:38 SRR306843_GSM752696_hsa_br_M_5_trimmed__coding_reads_peptides.fasta\n-rw-r--r-- 1 olga olga  4.0G Nov  5 00:10 SRR306844_GSM752697_hsa_cb_F_1_trimmed__coding_reads_peptides.fasta\n-rw-r--r-- 1 olga olga  398M Nov  4 13:02 SRR306845_GSM752698_hsa_cb_M_1_trimmed__coding_reads_peptides.fasta\n-rw-r--r-- 1 olga olga  1.8G Nov  4 20:41 SRR306846_GSM752698_hsa_cb_M_1_trimmed__coding_reads_peptides.fasta\n-rw-r--r-- 1 olga olga   25M Nov  3 15:19 SRR306847_GSM752699_hsa_ht_F_1_trimmed__coding_reads_peptides.fasta\n-rw-r--r-- 1 olga olga  586M Nov  4 16:50 SRR306848_GSM752700_hsa_ht_M_1_trimmed__coding_reads_peptides.fasta\n-rw-r--r-- 1 olga olga  1.8G Nov  4 16:03 SRR306849_GSM752700_hsa_ht_M_1_trimmed__coding_reads_peptides.fasta\n-rw-r--r-- 1 olga olga  3.8G Nov  4 21:51 SRR306850_GSM752701_hsa_ht_M_2_trimmed__coding_reads_peptides.fasta\n-rw-r--r-- 1 olga olga   98M Nov  4 11:09 SRR306851_GSM752702_hsa_kd_F_1_trimmed__coding_reads_peptides.fasta\n-rw-r--r-- 1 olga olga  3.0G Nov  4 17:51 SRR306853_GSM752704_hsa_kd_M_2_trimmed__coding_reads_peptides.fasta\n-rw-r--r-- 1 olga olga  195M Nov  4 12:11 SRR306854_GSM752705_hsa_lv_M_1_trimmed__coding_reads_peptides.fasta\n-rw-r--r-- 1 olga olga  2.6G Nov  4 18:20 SRR306855_GSM752705_hsa_lv_M_1_trimmed__coding_reads_peptides.fasta\n-rw-r--r-- 1 olga olga  3.1G Nov  4 23:34 SRR306856_GSM752706_hsa_lv_M_2_trimmed__coding_reads_peptides.fasta\n-rw-r--r-- 1 olga olga  446M Nov  4 18:03 SRR306857_GSM752707_hsa_ts_M_1_trimmed__coding_reads_peptides.fasta\n-rw-r--r-- 1 olga olga  4.0G Nov  4 20:44 SRR306858_GSM752708_hsa_ts_M_2_trimmed__coding_reads_peptides.fasta\n"
      }
     ],
     "persistentId": "3bcf02b2-7459-4a77-83ba-02e324539a88",
     "text": "ls -lha *coding_reads_peptides.fasta"
    },
    "executionTime": "2019-11-05T16:25:20.457Z"
   },
   {
    "cell": {
     "executionCount": 3,
     "executionEventId": "437fca66-9214-4239-b9eb-edf6fb3a10df",
     "hasError": false,
     "id": "c574d68a-dec0-4b51-a9e3-a30c241b1753",
     "outputs": [
      {
       "name": "stdout",
       "output_type": "stream",
       "text": ">SRR306752.27035 Ibis_Run090629:7:1:313:423/1 translation_frame: 3\nIAILTGDFPSLEP\n>SRR306752.27035 Ibis_Run090629:7:1:313:423/1 translation_frame: -1\nWFKGWKVTRKDGN\n>SRR306752.27035 Ibis_Run090629:7:1:313:423/1 translation_frame: -2\nGSRDGKSPVRMAM\n>SRR306752.32778 Ibis_Run090629:7:1:381:125/1 translation_frame: 3\nLALSSINTTVSTITFSILFLLT\n>SRR306752.32778 Ibis_Run090629:7:1:381:125/1 translation_frame: -2\nVRRNRIENVMVETVVLIDDRAK\n"
      }
     ],
     "persistentId": "75cb3c6d-d439-4088-9e9f-2b245cf24bd9",
     "text": "! head SRR306752_GSM752603_mdo_kd_M_1_trimmed__coding_reads_peptides.fasta"
    },
    "executionTime": "2019-11-05T16:25:41.290Z"
   },
   {
    "cell": {
     "executionCount": 4,
     "executionEventId": "daaed3e6-80a3-4611-8376-f52b2ff7be05",
     "hasError": false,
     "id": "a5d9a47e-093d-42f5-a94d-f9feb49a32d1",
     "outputs": [],
     "persistentId": "ade12d03-fa5f-4697-9e8f-2bb19d9105e9",
     "text": "from Bio.Blast import NCBIWWW\nfasta_string = '''>SRR306752.27035 Ibis_Run090629:7:1:313:423/1 translation_frame: 3\nIAILTGDFPSLEP\n>SRR306752.27035 Ibis_Run090629:7:1:313:423/1 translation_frame: -1\nWFKGWKVTRKDGN\n>SRR306752.27035 Ibis_Run090629:7:1:313:423/1 translation_frame: -2\nGSRDGKSPVRMAM\n>SRR306752.32778 Ibis_Run090629:7:1:381:125/1 translation_frame: 3\nLALSSINTTVSTITFSILFLLT\n>SRR306752.32778 Ibis_Run090629:7:1:381:125/1 translation_frame: -2\nVRRNRIENVMVETVVLIDDRAK'''\nresult_handle = NCBIWWW.qblast(\"tblastn\", \"nt\", fasta_string)"
    },
    "executionTime": "2019-11-05T16:31:08.288Z"
   },
   {
    "cell": {
     "executionCount": 5,
     "executionEventId": "bffa4192-b54b-4112-b6a5-fc82cd343ab0",
     "hasError": false,
     "id": "bcc7e810-bb35-41c6-87b9-2a2f9ed53dbe",
     "outputs": [
      {
       "data": {
        "text/plain": "<_io.StringIO at 0x7f935c253ee8>"
       },
       "execution_count": 5,
       "metadata": {},
       "output_type": "execute_result"
      }
     ],
     "persistentId": "3daa7e84-95f4-4efa-b4a1-0128fd9d2e8a",
     "text": "result_handle"
    },
    "executionTime": "2019-11-05T16:31:12.686Z"
   },
   {
    "cell": {
     "executionCount": 6,
     "executionEventId": "dc100e73-f420-41f4-8582-035493fdf05a",
     "hasError": false,
     "id": "206e991c-4712-4996-bf09-672dcdcf4a19",
     "outputs": [
      {
       "name": "stdout",
       "output_type": "stream",
       "text": "read_id,jaccard_in_peptide_db,n_kmers,classification,filename\nSRR306752.24755 Ibis_Run090629:7:1:286:693/1,,,All translations shorter than peptide k-mer size + 1,SRR306752_GSM752603_mdo_kd_M_1_trimmed.fq.gz\nSRR306752.26212 Ibis_Run090629:7:1:304:224/1,,,All translations shorter than peptide k-mer size + 1,SRR306752_GSM752603_mdo_kd_M_1_trimmed.fq.gz\nSRR306752.27035 Ibis_Run090629:7:1:313:423/1,1.0,3.0,Coding,SRR306752_GSM752603_mdo_kd_M_1_trimmed.fq.gz\nSRR306752.31741 Ibis_Run090629:7:1:369:831/1,,,All translations shorter than peptide k-mer size + 1,SRR306752_GSM752603_mdo_kd_M_1_trimmed.fq.gz\nSRR306752.32553 Ibis_Run090629:7:1:378:170/1,0.1,10.0,Non-coding,SRR306752_GSM752603_mdo_kd_M_1_trimmed.fq.gz\nSRR306752.32778 Ibis_Run090629:7:1:381:125/1,0.8333333333333334,12.0,Coding,SRR306752_GSM752603_mdo_kd_M_1_trimmed.fq.gz\nSRR306752.33021 Ibis_Run090629:7:1:384:223/1,0.8333333333333334,12.0,Coding,SRR306752_GSM752603_mdo_kd_M_1_trimmed.fq.gz\nSRR306752.33073 Ibis_Run090629:7:1:385:523/1,0.1111111111111111,9.0,Non-coding,SRR306752_GSM752603_mdo_kd_M_1_trimmed.fq.gz\nSRR306752.33108 Ibis_Run090629:7:1:385:155/1,,,All translations shorter than peptide k-mer size + 1,SRR306752_GSM752603_mdo_kd_M_1_trimmed.fq.gz\n"
      }
     ],
     "persistentId": "ceb49264-f761-4130-8f7e-8e8dadf88f1b",
     "text": "! head SRR306752_GSM752603_mdo_kd_M_1_trimmed__coding_scores.csv"
    },
    "executionTime": "2019-11-05T16:34:16.931Z"
   },
   {
    "cell": {
     "executionCount": 7,
     "executionEventId": "e8043a1e-ac3c-4540-be95-bab51af7ed66",
     "hasError": true,
     "id": "8bcbd605-9fb9-483a-b4c1-7246516bd316",
     "outputs": [
      {
       "ename": "NameError",
       "evalue": "name 'SRR306752_GSM752603_mdo_kd_M_1_trimmed__coding_scores' is not defined",
       "output_type": "error",
       "traceback": [
        "\u001b[0;31m---------------------------------------------------------------------------\u001b[0m",
        "\u001b[0;31mNameError\u001b[0m                                 Traceback (most recent call last)",
        "\u001b[0;32m<ipython-input-7-00b22baa07c2>\u001b[0m in \u001b[0;36m<module>\u001b[0;34m()\u001b[0m\n\u001b[0;32m----> 1\u001b[0;31m \u001b[0mcsv\u001b[0m \u001b[0;34m=\u001b[0m \u001b[0mSRR306752_GSM752603_mdo_kd_M_1_trimmed__coding_scores\u001b[0m\u001b[0;34m.\u001b[0m\u001b[0mcsv\u001b[0m\u001b[0;34m\u001b[0m\u001b[0;34m\u001b[0m\u001b[0m\n\u001b[0m",
        "\u001b[0;31mNameError\u001b[0m: name 'SRR306752_GSM752603_mdo_kd_M_1_trimmed__coding_scores' is not defined"
       ]
      }
     ],
     "persistentId": "d8f7cdb9-e57c-49dd-a023-1f030954ae4e",
     "text": "csv = SRR306752_GSM752603_mdo_kd_M_1_trimmed__coding_scores.csv"
    },
    "executionTime": "2019-11-05T16:34:40.538Z"
   },
   {
    "cell": {
     "executionCount": 8,
     "executionEventId": "a3f9361f-9ef2-46dc-ad96-de45e89781f9",
     "hasError": false,
     "id": "8bcbd605-9fb9-483a-b4c1-7246516bd316",
     "outputs": [],
     "persistentId": "d8f7cdb9-e57c-49dd-a023-1f030954ae4e",
     "text": "csv = 'SRR306752_GSM752603_mdo_kd_M_1_trimmed__coding_scores.csv'"
    },
    "executionTime": "2019-11-05T16:34:43.673Z"
   },
   {
    "cell": {
     "executionCount": 9,
     "executionEventId": "5ac7ded0-b49f-4db0-945f-0a6f2bc9ad73",
     "hasError": false,
     "id": "206e991c-4712-4996-bf09-672dcdcf4a19",
     "outputs": [
      {
       "name": "stdout",
       "output_type": "stream",
       "text": "read_id,jaccard_in_peptide_db,n_kmers,classification,filename\nSRR306752.24755 Ibis_Run090629:7:1:286:693/1,,,All translations shorter than peptide k-mer size + 1,SRR306752_GSM752603_mdo_kd_M_1_trimmed.fq.gz\nSRR306752.26212 Ibis_Run090629:7:1:304:224/1,,,All translations shorter than peptide k-mer size + 1,SRR306752_GSM752603_mdo_kd_M_1_trimmed.fq.gz\nSRR306752.27035 Ibis_Run090629:7:1:313:423/1,1.0,3.0,Coding,SRR306752_GSM752603_mdo_kd_M_1_trimmed.fq.gz\nSRR306752.31741 Ibis_Run090629:7:1:369:831/1,,,All translations shorter than peptide k-mer size + 1,SRR306752_GSM752603_mdo_kd_M_1_trimmed.fq.gz\nSRR306752.32553 Ibis_Run090629:7:1:378:170/1,0.1,10.0,Non-coding,SRR306752_GSM752603_mdo_kd_M_1_trimmed.fq.gz\nSRR306752.32778 Ibis_Run090629:7:1:381:125/1,0.8333333333333334,12.0,Coding,SRR306752_GSM752603_mdo_kd_M_1_trimmed.fq.gz\nSRR306752.33021 Ibis_Run090629:7:1:384:223/1,0.8333333333333334,12.0,Coding,SRR306752_GSM752603_mdo_kd_M_1_trimmed.fq.gz\nSRR306752.33073 Ibis_Run090629:7:1:385:523/1,0.1111111111111111,9.0,Non-coding,SRR306752_GSM752603_mdo_kd_M_1_trimmed.fq.gz\nSRR306752.33108 Ibis_Run090629:7:1:385:155/1,,,All translations shorter than peptide k-mer size + 1,SRR306752_GSM752603_mdo_kd_M_1_trimmed.fq.gz\n"
      }
     ],
     "persistentId": "ceb49264-f761-4130-8f7e-8e8dadf88f1b",
     "text": "! head $csv"
    },
    "executionTime": "2019-11-05T16:34:46.923Z"
   },
   {
    "cell": {
     "executionCount": 10,
     "executionEventId": "7ce1e2bc-e76c-4932-82f0-095fe9e723b7",
     "hasError": false,
     "id": "be3ad657-c08e-4484-8f50-a0783943de32",
     "outputs": [
      {
       "name": "stdout",
       "output_type": "stream",
       "text": "SRR306752.27035 Ibis_Run090629:7:1:313:423/1,1.0,3.0,Coding,SRR306752_GSM752603_mdo_kd_M_1_trimmed.fq.gz\n"
      }
     ],
     "persistentId": "38b3d02d-f791-4acf-b4ce-e24cde81d043",
     "text": "! grep 'SRR306752.27035 Ibis_Run090629:7:1:313:423/1' $csv"
    },
    "executionTime": "2019-11-05T16:34:49.058Z"
   },
   {
    "cell": {
     "executionCount": 11,
     "executionEventId": "fe596a5f-2ee0-41ca-ab25-1fde8713d81d",
     "hasError": false,
     "id": "be3ad657-c08e-4484-8f50-a0783943de32",
     "outputs": [
      {
       "name": "stdout",
       "output_type": "stream",
       "text": "grep: Ibis_Run090629:7:1:313:423/1: No such file or directory\nSRR306752_GSM752603_mdo_kd_M_1_trimmed__coding_scores.csv:SRR306752.27035 Ibis_Run090629:7:1:313:423/1,1.0,3.0,Coding,SRR306752_GSM752603_mdo_kd_M_1_trimmed.fq.gz\nSRR306752_GSM752603_mdo_kd_M_1_trimmed__coding_scores.csv:SRR306752.270351 Ibis_Run090629:7:2:1312:754/1,,,All translations shorter than peptide k-mer size + 1,SRR306752_GSM752603_mdo_kd_M_1_trimmed.fq.gz\nSRR306752_GSM752603_mdo_kd_M_1_trimmed__coding_scores.csv:SRR306752.270354 Ibis_Run090629:7:2:1312:125/1,,,All translations shorter than peptide k-mer size + 1,SRR306752_GSM752603_mdo_kd_M_1_trimmed.fq.gz\nSRR306752_GSM752603_mdo_kd_M_1_trimmed__coding_scores.csv:SRR306752.270355 Ibis_Run090629:7:2:1312:1386/1,,,All translations shorter than peptide k-mer size + 1,SRR306752_GSM752603_mdo_kd_M_1_trimmed.fq.gz\n"
      }
     ],
     "persistentId": "38b3d02d-f791-4acf-b4ce-e24cde81d043",
     "text": "read_id = 'SRR306752.27035 Ibis_Run090629:7:1:313:423/1'\n! grep $read_id $csv"
    },
    "executionTime": "2019-11-05T16:37:39.818Z"
   },
   {
    "cell": {
     "executionCount": 12,
     "executionEventId": "91f0b898-d89d-4ed0-96ed-c45dd8a2e4f1",
     "hasError": false,
     "id": "be3ad657-c08e-4484-8f50-a0783943de32",
     "outputs": [
      {
       "name": "stdout",
       "output_type": "stream",
       "text": "SRR306752.27035 Ibis_Run090629:7:1:313:423/1,1.0,3.0,Coding,SRR306752_GSM752603_mdo_kd_M_1_trimmed.fq.gz\n"
      }
     ],
     "persistentId": "38b3d02d-f791-4acf-b4ce-e24cde81d043",
     "text": "read_id = 'SRR306752.27035 Ibis_Run090629:7:1:313:423/1'\n! grep \"$read_id\" $csv"
    },
    "executionTime": "2019-11-05T16:37:51.098Z"
   },
   {
    "cell": {
     "executionCount": 13,
     "executionEventId": "875eb0b0-3dc7-4447-9826-c292bb62287a",
     "hasError": false,
     "id": "bd627169-b1bd-4739-abfa-a0a03a712fd1",
     "outputs": [
      {
       "name": "stdout",
       "output_type": "stream",
       "text": "grep: /SRR306752_GSM752603_mdo_kd_M_1_trimmed*: No such file or directory\n"
      }
     ],
     "persistentId": "e8daa7ae-db21-489d-ba20-695fb470fad5",
     "text": "! grep -A 3 \"$read_id\" $single_end_folder/SRR306752_GSM752603_mdo_kd_M_1_trimmed*"
    },
    "executionTime": "2019-11-05T16:38:42.317Z"
   },
   {
    "cell": {
     "executionCount": 14,
     "executionEventId": "758a9c4f-e3ca-4b00-a4a7-6a93989fe25e",
     "hasError": false,
     "id": "9cf3120c-9dc6-4087-bbec-7bcd6d12ae5d",
     "outputs": [],
     "persistentId": "062df609-79fc-44c0-b4ed-0a4693b23764",
     "text": "single_end_folder = '/home/olga/data_lg/kmer-hashing/brawand2011/nfcore-rnaseq-single-end/allspecies/trim_galore'"
    },
    "executionTime": "2019-11-05T16:38:44.913Z"
   },
   {
    "cell": {
     "executionCount": 15,
     "executionEventId": "47dd0f66-ae31-46bd-971c-b9d349e1ffb3",
     "hasError": false,
     "id": "bd627169-b1bd-4739-abfa-a0a03a712fd1",
     "outputs": [],
     "persistentId": "e8daa7ae-db21-489d-ba20-695fb470fad5",
     "text": "! grep -A 3 \"$read_id\" $single_end_folder/SRR306752_GSM752603_mdo_kd_M_1_trimmed*"
    },
    "executionTime": "2019-11-05T16:38:49.203Z"
   },
   {
    "cell": {
     "executionCount": 16,
     "executionEventId": "509fb417-636d-4d29-88b7-826042ce1c83",
     "hasError": false,
     "id": "bd627169-b1bd-4739-abfa-a0a03a712fd1",
     "outputs": [
      {
       "name": "stdout",
       "output_type": "stream",
       "text": "@SRR306752.27035 Ibis_Run090629:7:1:313:423/1\nGCATTGCCATCCTTACGGGTGACTTTCCATCCCTTGAACCA\n+\n44867167967675;84.2439987584<45666423;779\n"
      }
     ],
     "persistentId": "e8daa7ae-db21-489d-ba20-695fb470fad5",
     "text": "! zgrep -A 3 \"$read_id\" $single_end_folder/SRR306752_GSM752603_mdo_kd_M_1_trimmed*"
    },
    "executionTime": "2019-11-05T16:38:56.753Z"
   },
   {
    "cell": {
     "executionCount": 17,
     "executionEventId": "91d9f1bd-c772-45c4-8001-9fdbd1bc630d",
     "hasError": false,
     "id": "db181e6d-d284-4e59-a12a-5ee8f5cf5588",
     "outputs": [],
     "persistentId": "15bb1827-fabf-45c4-a64a-9a4407b05b0c",
     "text": "from khtools.bloom_filter import load_nodegraph"
    },
    "executionTime": "2019-11-05T16:48:25.525Z"
   },
   {
    "cell": {
     "executionCount": 18,
     "executionEventId": "4e46f121-eda0-40fe-b2af-9a5301289faa",
     "hasError": true,
     "id": "407d9f68-555c-4694-b2a1-6ad8c47de17a",
     "outputs": [
      {
       "ename": "OSError",
       "evalue": "Unknown error opening file: home/olga/data_lg/kmer-hashing/brawand2011/kmermaid/results_dayhoff11_extract_coding_jaccard_threshold05/bloom_filter/Homo_sapiens__molecule-dayhoff_ksize-11.bloomfilter No such file or directory",
       "output_type": "error",
       "traceback": [
        "\u001b[0;31m---------------------------------------------------------------------------\u001b[0m",
        "\u001b[0;31mAttributeError\u001b[0m                            Traceback (most recent call last)",
        "\u001b[0;32m~/code/kmer-hashing/kh-tools/khtools/bloom_filter.py\u001b[0m in \u001b[0;36mload_nodegraph\u001b[0;34m(*args, **kwargs)\u001b[0m\n\u001b[1;32m     24\u001b[0m         \u001b[0;31m# khmer 2.1.1\u001b[0m\u001b[0;34m\u001b[0m\u001b[0;34m\u001b[0m\u001b[0;34m\u001b[0m\u001b[0m\n\u001b[0;32m---> 25\u001b[0;31m         \u001b[0;32mreturn\u001b[0m \u001b[0mkhmer\u001b[0m\u001b[0;34m.\u001b[0m\u001b[0mload_nodegraph\u001b[0m\u001b[0;34m(\u001b[0m\u001b[0;34m*\u001b[0m\u001b[0margs\u001b[0m\u001b[0;34m,\u001b[0m \u001b[0;34m**\u001b[0m\u001b[0mkwargs\u001b[0m\u001b[0;34m)\u001b[0m\u001b[0;34m\u001b[0m\u001b[0;34m\u001b[0m\u001b[0m\n\u001b[0m\u001b[1;32m     26\u001b[0m     \u001b[0;32mexcept\u001b[0m \u001b[0mAttributeError\u001b[0m\u001b[0;34m:\u001b[0m\u001b[0;34m\u001b[0m\u001b[0;34m\u001b[0m\u001b[0m\n",
        "\u001b[0;31mAttributeError\u001b[0m: module 'khmer' has no attribute 'load_nodegraph'",
        "\nDuring handling of the above exception, another exception occurred:\n",
        "\u001b[0;31mOSError\u001b[0m                                   Traceback (most recent call last)",
        "\u001b[0;32m<ipython-input-18-08998509bd0c>\u001b[0m in \u001b[0;36m<module>\u001b[0;34m()\u001b[0m\n\u001b[1;32m      1\u001b[0m \u001b[0moutdir\u001b[0m \u001b[0;34m=\u001b[0m \u001b[0;34m'home/olga/data_lg/kmer-hashing/brawand2011/kmermaid/results_dayhoff11_extract_coding_jaccard_threshold05'\u001b[0m\u001b[0;34m\u001b[0m\u001b[0;34m\u001b[0m\u001b[0m\n\u001b[0;32m----> 2\u001b[0;31m \u001b[0mpeptide_bloom_filter\u001b[0m \u001b[0;34m=\u001b[0m \u001b[0mload_nodegraph\u001b[0m\u001b[0;34m(\u001b[0m\u001b[0;34mf\"{outdir}/bloom_filter/Homo_sapiens__molecule-dayhoff_ksize-11.bloomfilter\"\u001b[0m\u001b[0;34m)\u001b[0m\u001b[0;34m\u001b[0m\u001b[0;34m\u001b[0m\u001b[0m\n\u001b[0m",
        "\u001b[0;32m~/code/kmer-hashing/kh-tools/khtools/bloom_filter.py\u001b[0m in \u001b[0;36mload_nodegraph\u001b[0;34m(*args, **kwargs)\u001b[0m\n\u001b[1;32m     26\u001b[0m     \u001b[0;32mexcept\u001b[0m \u001b[0mAttributeError\u001b[0m\u001b[0;34m:\u001b[0m\u001b[0;34m\u001b[0m\u001b[0;34m\u001b[0m\u001b[0m\n\u001b[1;32m     27\u001b[0m         \u001b[0;31m# khmer 3+/master branch\u001b[0m\u001b[0;34m\u001b[0m\u001b[0;34m\u001b[0m\u001b[0;34m\u001b[0m\u001b[0m\n\u001b[0;32m---> 28\u001b[0;31m         \u001b[0;32mreturn\u001b[0m \u001b[0mkhmer\u001b[0m\u001b[0;34m.\u001b[0m\u001b[0mNodegraph\u001b[0m\u001b[0;34m.\u001b[0m\u001b[0mload\u001b[0m\u001b[0;34m(\u001b[0m\u001b[0;34m*\u001b[0m\u001b[0margs\u001b[0m\u001b[0;34m,\u001b[0m \u001b[0;34m**\u001b[0m\u001b[0mkwargs\u001b[0m\u001b[0;34m)\u001b[0m\u001b[0;34m\u001b[0m\u001b[0;34m\u001b[0m\u001b[0m\n\u001b[0m\u001b[1;32m     29\u001b[0m \u001b[0;34m\u001b[0m\u001b[0m\n\u001b[1;32m     30\u001b[0m \u001b[0;34m\u001b[0m\u001b[0m\n",
        "\u001b[0;32mkhmer/_oxli/graphs.pyx\u001b[0m in \u001b[0;36mkhmer._oxli.graphs.Hashtable.load\u001b[0;34m()\u001b[0m\n",
        "\u001b[0;31mOSError\u001b[0m: Unknown error opening file: home/olga/data_lg/kmer-hashing/brawand2011/kmermaid/results_dayhoff11_extract_coding_jaccard_threshold05/bloom_filter/Homo_sapiens__molecule-dayhoff_ksize-11.bloomfilter No such file or directory"
       ]
      }
     ],
     "persistentId": "890aeff6-597c-494a-ac11-e03fa639c740",
     "text": "outdir = 'home/olga/data_lg/kmer-hashing/brawand2011/kmermaid/results_dayhoff11_extract_coding_jaccard_threshold05'\npeptide_bloom_filter = load_nodegraph(f\"{outdir}/bloom_filter/Homo_sapiens__molecule-dayhoff_ksize-11.bloomfilter\")"
    },
    "executionTime": "2019-11-05T16:49:21.947Z"
   },
   {
    "cell": {
     "executionCount": 19,
     "executionEventId": "8490425d-0645-4ce0-8483-7dfa7981ac49",
     "hasError": false,
     "id": "407d9f68-555c-4694-b2a1-6ad8c47de17a",
     "outputs": [],
     "persistentId": "890aeff6-597c-494a-ac11-e03fa639c740",
     "text": "outdir = '/home/olga/data_lg/kmer-hashing/brawand2011/kmermaid/results_dayhoff11_extract_coding_jaccard_threshold05'\npeptide_bloom_filter = load_nodegraph(f\"{outdir}/bloom_filter/Homo_sapiens__molecule-dayhoff_ksize-11.bloomfilter\")"
    },
    "executionTime": "2019-11-05T16:49:33.308Z"
   },
   {
    "cell": {
     "executionCount": 20,
     "executionEventId": "9c64ae33-1352-4b66-b9f5-b6ae9476efa4",
     "hasError": false,
     "id": "d750798c-2c4d-4fb1-8402-798d9e45ad74",
     "outputs": [],
     "persistentId": "4a31f046-1f43-481a-b521-fd116bcf5efc",
     "text": "from khtools.extract_coding import score_single_translation"
    },
    "executionTime": "2019-11-05T16:50:03.679Z"
   },
   {
    "cell": {
     "executionCount": 21,
     "executionEventId": "a5c514d7-775b-4c95-b805-d54398b275ed",
     "hasError": false,
     "id": "a8da298b-569f-4279-8ca3-f74076232221",
     "outputs": [
      {
       "data": {
        "text/plain": "(1.0, 3)"
       },
       "execution_count": 21,
       "metadata": {},
       "output_type": "execute_result"
      }
     ],
     "persistentId": "ccfa0fbd-3315-48d1-be82-c6f0b24b1046",
     "text": "molecule = 'dayhoff'\npeptide_ksize = 11\n\nscore_single_translation('IAILTGDFPSLEP', peptide_bloom_filter, peptide_ksize=peptide_ksize, molecule=molecule)"
    },
    "executionTime": "2019-11-05T16:50:40.791Z"
   },
   {
    "cell": {
     "executionCount": 22,
     "executionEventId": "6101c314-43dd-4092-8b5a-0906975baaa8",
     "hasError": false,
     "id": "94cf1240-6b08-426f-8290-c1fd7cbeb7f8",
     "outputs": [
      {
       "data": {
        "text/plain": "(1.0, 3)"
       },
       "execution_count": 22,
       "metadata": {},
       "output_type": "execute_result"
      }
     ],
     "persistentId": "4b082fd2-0d93-47c3-8baf-25c92b8bca6e",
     "text": "score_single_translation('WFKGWKVTRKDGN', peptide_bloom_filter, peptide_ksize=peptide_ksize, molecule=molecule)"
    },
    "executionTime": "2019-11-05T16:51:05.751Z"
   },
   {
    "cell": {
     "executionCount": 23,
     "executionEventId": "d02e52d1-b3f4-4ebd-883b-189d5d737984",
     "hasError": false,
     "id": "cde33037-416b-4759-a5e0-b80f4ad29f02",
     "outputs": [
      {
       "data": {
        "text/plain": "(1.0, 3)"
       },
       "execution_count": 23,
       "metadata": {},
       "output_type": "execute_result"
      }
     ],
     "persistentId": "83a6373e-ac94-4228-8830-3c2844fcc4c2",
     "text": "score_single_translation('GSRDGKSPVRMAM', peptide_bloom_filter, peptide_ksize=peptide_ksize, molecule=molecule)"
    },
    "executionTime": "2019-11-05T16:51:13.446Z"
   },
   {
    "cell": {
     "executionCount": 24,
     "executionEventId": "9b5b114f-927e-465d-a845-c472947a8db1",
     "hasError": true,
     "id": "64e6ee87-255f-4633-b49b-71ecffde6287",
     "outputs": [
      {
       "ename": "TypeError",
       "evalue": "expected str, bytes or os.PathLike object, not module",
       "output_type": "error",
       "traceback": [
        "\u001b[0;31m---------------------------------------------------------------------------\u001b[0m",
        "\u001b[0;31mTypeError\u001b[0m                                 Traceback (most recent call last)",
        "\u001b[0;32m<ipython-input-24-85d6e2ba8b96>\u001b[0m in \u001b[0;36m<module>\u001b[0;34m()\u001b[0m\n\u001b[1;32m      2\u001b[0m \u001b[0;34m\u001b[0m\u001b[0m\n\u001b[1;32m      3\u001b[0m \u001b[0mfilename\u001b[0m \u001b[0;34m=\u001b[0m \u001b[0;34m'/home/olga/data_lg/kmer-hashing/Homo_sapiens.GRCh38.pep.all.fa__all_peptide_kmers.pickle'\u001b[0m\u001b[0;34m\u001b[0m\u001b[0;34m\u001b[0m\u001b[0m\n\u001b[0;32m----> 4\u001b[0;31m \u001b[0;32mwith\u001b[0m \u001b[0mopen\u001b[0m\u001b[0;34m(\u001b[0m\u001b[0mpickle\u001b[0m\u001b[0;34m,\u001b[0m \u001b[0;34m'rb'\u001b[0m\u001b[0;34m)\u001b[0m \u001b[0;32mas\u001b[0m \u001b[0mf\u001b[0m\u001b[0;34m:\u001b[0m\u001b[0;34m\u001b[0m\u001b[0;34m\u001b[0m\u001b[0m\n\u001b[0m\u001b[1;32m      5\u001b[0m     \u001b[0mall_peptide_kmers\u001b[0m \u001b[0;34m=\u001b[0m \u001b[0mpickle\u001b[0m\u001b[0;34m.\u001b[0m\u001b[0mload\u001b[0m\u001b[0;34m(\u001b[0m\u001b[0mf\u001b[0m\u001b[0;34m)\u001b[0m\u001b[0;34m\u001b[0m\u001b[0;34m\u001b[0m\u001b[0m\n",
        "\u001b[0;31mTypeError\u001b[0m: expected str, bytes or os.PathLike object, not module"
       ]
      }
     ],
     "persistentId": "40a1d5e2-043d-4fce-acb5-1a1b3a588965",
     "text": "import pickle\n\nfilename = '/home/olga/data_lg/kmer-hashing/Homo_sapiens.GRCh38.pep.all.fa__all_peptide_kmers.pickle'\nwith open(pickle, 'rb') as f:\n    all_peptide_kmers = pickle.load(f)\n"
    },
    "executionTime": "2019-11-05T17:34:45.234Z"
   },
   {
    "cell": {
     "executionCount": 25,
     "executionEventId": "ea6bc060-7daf-4b43-9cdd-62c0b3824306",
     "hasError": false,
     "id": "64e6ee87-255f-4633-b49b-71ecffde6287",
     "outputs": [],
     "persistentId": "40a1d5e2-043d-4fce-acb5-1a1b3a588965",
     "text": "import pickle\n\nfilename = '/home/olga/data_lg/kmer-hashing/Homo_sapiens.GRCh38.pep.all.fa__all_peptide_kmers.pickle'\nwith open(filename, 'rb') as f:\n    all_peptide_kmers = pickle.load(f)\n"
    },
    "executionTime": "2019-11-05T17:34:55.599Z"
   },
   {
    "cell": {
     "executionCount": 26,
     "executionEventId": "8f1e83d9-7d82-41be-ae68-0c88389e6190",
     "hasError": false,
     "id": "f47d5a42-3038-470f-a543-5208b560f5f5",
     "outputs": [],
     "persistentId": "8c81cf3b-7e0b-4569-bdcf-4d9bf3b7d4c8",
     "text": "def score_single_translation_from_set(translation,\n                             peptide_kmer_set,\n                             peptide_ksize,\n                             molecule='protein',\n                             verbose=True):\n    encoded = encode_peptide(translation, molecule)\n    kmers = kmerize(str(encoded), peptide_ksize)\n    kmers_in_peptide_db = peptide_kmer_set.intersection(kmers)\n    n_kmers_in_peptide_db = len(kmers_in_peptide_db)\n    \n    n_kmers = len(kmers)\n\n    if verbose > 1:\n        click.echo(f\"\\ttranslation: \\t{encoded}\", err=True)\n        click.echo(\"\\tkmers:\", ' '.join(kmers), err=True)\n\n    if verbose > 1:\n        kmers_in_peptide_db = {(k, h): peptide_bloom_filter.get(h)\n                               for k, h in zip(kmers, hashes)}\n        # Print keys (kmers) only\n        click.echo(f\"\\tK-mers in peptide database:\", err=True)\n        click.echo(kmers_in_peptide_db, err=True)\n\n    fraction_in_peptide_db = n_kmers_in_peptide_db / n_kmers\n\n    return fraction_in_peptide_db, n_kmers\n"
    },
    "executionTime": "2019-11-05T17:36:03.538Z"
   },
   {
    "cell": {
     "executionCount": 27,
     "executionEventId": "4cba4de9-710a-4a71-9874-fea4be8dd61b",
     "hasError": false,
     "id": "c574d68a-dec0-4b51-a9e3-a30c241b1753",
     "outputs": [],
     "persistentId": "75cb3c6d-d439-4088-9e9f-2b245cf24bd9",
     "text": "! head SRR306752_GSM752603_mdo_kd_M_1_trimmed__coding_reads_peptides.fasta > test.fasta"
    },
    "executionTime": "2019-11-05T17:36:26.410Z"
   },
   {
    "cell": {
     "executionCount": 28,
     "executionEventId": "65ef3e7b-a915-4245-9aee-3d0643155549",
     "hasError": false,
     "id": "c574d68a-dec0-4b51-a9e3-a30c241b1753",
     "outputs": [
      {
       "name": "stdout",
       "output_type": "stream",
       "text": ">SRR306752.27035 Ibis_Run090629:7:1:313:423/1 translation_frame: 3\nIAILTGDFPSLEP\n>SRR306752.27035 Ibis_Run090629:7:1:313:423/1 translation_frame: -1\nWFKGWKVTRKDGN\n>SRR306752.27035 Ibis_Run090629:7:1:313:423/1 translation_frame: -2\nGSRDGKSPVRMAM\n>SRR306752.32778 Ibis_Run090629:7:1:381:125/1 translation_frame: 3\nLALSSINTTVSTITFSILFLLT\n>SRR306752.32778 Ibis_Run090629:7:1:381:125/1 translation_frame: -2\nVRRNRIENVMVETVVLIDDRAK\n"
      }
     ],
     "persistentId": "75cb3c6d-d439-4088-9e9f-2b245cf24bd9",
     "text": "! head SRR306752_GSM752603_mdo_kd_M_1_trimmed__coding_reads_peptides.fasta > test.fasta\n! cat test.fasta"
    },
    "executionTime": "2019-11-05T17:36:30.844Z"
   },
   {
    "cell": {
     "executionCount": 29,
     "executionEventId": "df7c9669-e468-4710-848c-1e86b4e97ebc",
     "hasError": false,
     "id": "2a6d2a97-f229-47b0-a1e1-dde20cfe5bc8",
     "outputs": [],
     "persistentId": "19fc72d9-e3e1-4898-8f7e-b28058f9ea00",
     "text": "import screed"
    },
    "executionTime": "2019-11-05T17:36:37.649Z"
   },
   {
    "cell": {
     "executionCount": 30,
     "executionEventId": "6fbc98be-2ab7-42b2-b315-e1a1cbe901c9",
     "hasError": false,
     "id": "2a6d2a97-f229-47b0-a1e1-dde20cfe5bc8",
     "outputs": [],
     "persistentId": "19fc72d9-e3e1-4898-8f7e-b28058f9ea00",
     "text": "import pickle\n\n\nimport screed\n\nfrom Bio.Blast import NCBIWWW\n\n\nfrom khtools.bloom_filter import load_nodegraph\nfrom khtools.extract_coding import score_single_translation"
    },
    "executionTime": "2019-11-05T17:37:05.553Z"
   },
   {
    "cell": {
     "executionCount": 31,
     "executionEventId": "811cab2b-418f-45d2-b997-c0d0a4a89f7e",
     "hasError": false,
     "id": "71b768cd-c503-40e7-9d28-0a064a01b04b",
     "outputs": [
      {
       "name": "stdout",
       "output_type": "stream",
       "text": "--- SRR306752.27035 Ibis_Run090629:7:1:313:423/1 translation_frame: 3 ---\nIAILTGDFPSLEP\n--- SRR306752.27035 Ibis_Run090629:7:1:313:423/1 translation_frame: -1 ---\nWFKGWKVTRKDGN\n--- SRR306752.27035 Ibis_Run090629:7:1:313:423/1 translation_frame: -2 ---\nGSRDGKSPVRMAM\n--- SRR306752.32778 Ibis_Run090629:7:1:381:125/1 translation_frame: 3 ---\nLALSSINTTVSTITFSILFLLT\n--- SRR306752.32778 Ibis_Run090629:7:1:381:125/1 translation_frame: -2 ---\nVRRNRIENVMVETVVLIDDRAK\n"
      }
     ],
     "persistentId": "929b3bae-4d5a-45b3-bcaf-925de1e25a76",
     "text": "def score_single_translation_from_set(translation,\n                             peptide_kmer_set,\n                             peptide_ksize,\n                             molecule='protein',\n                             verbose=True):\n    encoded = encode_peptide(translation, molecule)\n    kmers = kmerize(str(encoded), peptide_ksize)\n    kmers_in_peptide_db = peptide_kmer_set.intersection(kmers)\n    n_kmers_in_peptide_db = len(kmers_in_peptide_db)\n    \n    n_kmers = len(kmers)\n\n    if verbose > 1:\n        click.echo(f\"\\ttranslation: \\t{encoded}\", err=True)\n        click.echo(\"\\tkmers:\", ' '.join(kmers), err=True)\n\n    if verbose > 1:\n        kmers_in_peptide_db = {(k, h): peptide_bloom_filter.get(h)\n                               for k, h in zip(kmers, hashes)}\n        # Print keys (kmers) only\n        click.echo(f\"\\tK-mers in peptide database:\", err=True)\n        click.echo(kmers_in_peptide_db, err=True)\n\n    fraction_in_peptide_db = n_kmers_in_peptide_db / n_kmers\n\n    return fraction_in_peptide_db, n_kmers\n\n\nfor record in screed.open('test.fasta'):\n    name = record['name']\n    print(f'--- {name} ---')\n    seq = record['sequence']\n    print(seq)\n    "
    },
    "executionTime": "2019-11-05T17:38:11.996Z"
   },
   {
    "cell": {
     "executionCount": 32,
     "executionEventId": "798e8613-c12d-4dc0-8436-3965952761bc",
     "hasError": true,
     "id": "71b768cd-c503-40e7-9d28-0a064a01b04b",
     "outputs": [
      {
       "name": "stdout",
       "output_type": "stream",
       "text": "--- SRR306752.27035 Ibis_Run090629:7:1:313:423/1 translation_frame: 3 ---\nIAILTGDFPSLEP\n"
      },
      {
       "ename": "NameError",
       "evalue": "name 'encode_peptide' is not defined",
       "output_type": "error",
       "traceback": [
        "\u001b[0;31m---------------------------------------------------------------------------\u001b[0m",
        "\u001b[0;31mNameError\u001b[0m                                 Traceback (most recent call last)",
        "\u001b[0;32m<ipython-input-32-2bbee1f2ad3d>\u001b[0m in \u001b[0;36m<module>\u001b[0;34m()\u001b[0m\n\u001b[1;32m     34\u001b[0m     fraction_in_peptide_db, kmers = score_single_translation_from_set(seq, all_peptide_kmers, \n\u001b[1;32m     35\u001b[0m                                                                       \u001b[0mpeptide_ksize\u001b[0m\u001b[0;34m=\u001b[0m\u001b[0mpeptide_ksize\u001b[0m\u001b[0;34m,\u001b[0m\u001b[0;34m\u001b[0m\u001b[0;34m\u001b[0m\u001b[0m\n\u001b[0;32m---> 36\u001b[0;31m                                                                       molecule=molecule, verbose=True)\n\u001b[0m",
        "\u001b[0;32m<ipython-input-32-2bbee1f2ad3d>\u001b[0m in \u001b[0;36mscore_single_translation_from_set\u001b[0;34m(translation, peptide_kmer_set, peptide_ksize, molecule, verbose)\u001b[0m\n\u001b[1;32m      4\u001b[0m                              \u001b[0mmolecule\u001b[0m\u001b[0;34m=\u001b[0m\u001b[0;34m'protein'\u001b[0m\u001b[0;34m,\u001b[0m\u001b[0;34m\u001b[0m\u001b[0;34m\u001b[0m\u001b[0m\n\u001b[1;32m      5\u001b[0m                              verbose=True):\n\u001b[0;32m----> 6\u001b[0;31m     \u001b[0mencoded\u001b[0m \u001b[0;34m=\u001b[0m \u001b[0mencode_peptide\u001b[0m\u001b[0;34m(\u001b[0m\u001b[0mtranslation\u001b[0m\u001b[0;34m,\u001b[0m \u001b[0mmolecule\u001b[0m\u001b[0;34m)\u001b[0m\u001b[0;34m\u001b[0m\u001b[0;34m\u001b[0m\u001b[0m\n\u001b[0m\u001b[1;32m      7\u001b[0m     \u001b[0mkmers\u001b[0m \u001b[0;34m=\u001b[0m \u001b[0mkmerize\u001b[0m\u001b[0;34m(\u001b[0m\u001b[0mstr\u001b[0m\u001b[0;34m(\u001b[0m\u001b[0mencoded\u001b[0m\u001b[0;34m)\u001b[0m\u001b[0;34m,\u001b[0m \u001b[0mpeptide_ksize\u001b[0m\u001b[0;34m)\u001b[0m\u001b[0;34m\u001b[0m\u001b[0;34m\u001b[0m\u001b[0m\n\u001b[1;32m      8\u001b[0m     \u001b[0mkmers_in_peptide_db\u001b[0m \u001b[0;34m=\u001b[0m \u001b[0mpeptide_kmer_set\u001b[0m\u001b[0;34m.\u001b[0m\u001b[0mintersection\u001b[0m\u001b[0;34m(\u001b[0m\u001b[0mkmers\u001b[0m\u001b[0;34m)\u001b[0m\u001b[0;34m\u001b[0m\u001b[0;34m\u001b[0m\u001b[0m\n",
        "\u001b[0;31mNameError\u001b[0m: name 'encode_peptide' is not defined"
       ]
      }
     ],
     "persistentId": "929b3bae-4d5a-45b3-bcaf-925de1e25a76",
     "text": "def score_single_translation_from_set(translation,\n                             peptide_kmer_set,\n                             peptide_ksize,\n                             molecule='protein',\n                             verbose=True):\n    encoded = encode_peptide(translation, molecule)\n    kmers = kmerize(str(encoded), peptide_ksize)\n    kmers_in_peptide_db = peptide_kmer_set.intersection(kmers)\n    n_kmers_in_peptide_db = len(kmers_in_peptide_db)\n    \n    n_kmers = len(kmers)\n\n    if verbose > 1:\n        click.echo(f\"\\ttranslation: \\t{encoded}\", err=True)\n        click.echo(\"\\tkmers:\", ' '.join(kmers), err=True)\n\n    if verbose > 1:\n        kmers_in_peptide_db = {(k, h): peptide_bloom_filter.get(h)\n                               for k, h in zip(kmers, hashes)}\n        # Print keys (kmers) only\n        click.echo(f\"\\tK-mers in peptide database:\", err=True)\n        click.echo(kmers_in_peptide_db, err=True)\n\n    fraction_in_peptide_db = n_kmers_in_peptide_db / n_kmers\n\n    return fraction_in_peptide_db, n_kmers\n\n\nfor record in screed.open('test.fasta'):\n    name = record['name']\n    print(f'--- {name} ---')\n    seq = record['sequence']\n    print(seq)\n    fraction_in_peptide_db, kmers = score_single_translation_from_set(seq, all_peptide_kmers, \n                                                                      peptide_ksize=peptide_ksize,\n                                                                      molecule=molecule, verbose=True)\n"
    },
    "executionTime": "2019-11-05T17:38:52.766Z"
   },
   {
    "cell": {
     "executionCount": 33,
     "executionEventId": "7b963dfd-3321-4549-bfe3-c8fee53b555a",
     "hasError": false,
     "id": "2a6d2a97-f229-47b0-a1e1-dde20cfe5bc8",
     "outputs": [],
     "persistentId": "19fc72d9-e3e1-4898-8f7e-b28058f9ea00",
     "text": "import pickle\n\n\nimport screed\n\nfrom Bio.Blast import NCBIWWW\n\nfrom khtools.bloom_filter import load_nodegraph\nfrom khtools.extract_coding import score_single_translation, encode_peptide"
    },
    "executionTime": "2019-11-05T17:39:03.767Z"
   },
   {
    "cell": {
     "executionCount": 34,
     "executionEventId": "3e436566-05d9-4448-a99d-dcb466468c14",
     "hasError": true,
     "id": "71b768cd-c503-40e7-9d28-0a064a01b04b",
     "outputs": [
      {
       "name": "stdout",
       "output_type": "stream",
       "text": "--- SRR306752.27035 Ibis_Run090629:7:1:313:423/1 translation_frame: 3 ---\nIAILTGDFPSLEP\n"
      },
      {
       "ename": "NameError",
       "evalue": "name 'kmerize' is not defined",
       "output_type": "error",
       "traceback": [
        "\u001b[0;31m---------------------------------------------------------------------------\u001b[0m",
        "\u001b[0;31mNameError\u001b[0m                                 Traceback (most recent call last)",
        "\u001b[0;32m<ipython-input-34-2bbee1f2ad3d>\u001b[0m in \u001b[0;36m<module>\u001b[0;34m()\u001b[0m\n\u001b[1;32m     34\u001b[0m     fraction_in_peptide_db, kmers = score_single_translation_from_set(seq, all_peptide_kmers, \n\u001b[1;32m     35\u001b[0m                                                                       \u001b[0mpeptide_ksize\u001b[0m\u001b[0;34m=\u001b[0m\u001b[0mpeptide_ksize\u001b[0m\u001b[0;34m,\u001b[0m\u001b[0;34m\u001b[0m\u001b[0;34m\u001b[0m\u001b[0m\n\u001b[0;32m---> 36\u001b[0;31m                                                                       molecule=molecule, verbose=True)\n\u001b[0m",
        "\u001b[0;32m<ipython-input-34-2bbee1f2ad3d>\u001b[0m in \u001b[0;36mscore_single_translation_from_set\u001b[0;34m(translation, peptide_kmer_set, peptide_ksize, molecule, verbose)\u001b[0m\n\u001b[1;32m      5\u001b[0m                              verbose=True):\n\u001b[1;32m      6\u001b[0m     \u001b[0mencoded\u001b[0m \u001b[0;34m=\u001b[0m \u001b[0mencode_peptide\u001b[0m\u001b[0;34m(\u001b[0m\u001b[0mtranslation\u001b[0m\u001b[0;34m,\u001b[0m \u001b[0mmolecule\u001b[0m\u001b[0;34m)\u001b[0m\u001b[0;34m\u001b[0m\u001b[0;34m\u001b[0m\u001b[0m\n\u001b[0;32m----> 7\u001b[0;31m     \u001b[0mkmers\u001b[0m \u001b[0;34m=\u001b[0m \u001b[0mkmerize\u001b[0m\u001b[0;34m(\u001b[0m\u001b[0mstr\u001b[0m\u001b[0;34m(\u001b[0m\u001b[0mencoded\u001b[0m\u001b[0;34m)\u001b[0m\u001b[0;34m,\u001b[0m \u001b[0mpeptide_ksize\u001b[0m\u001b[0;34m)\u001b[0m\u001b[0;34m\u001b[0m\u001b[0;34m\u001b[0m\u001b[0m\n\u001b[0m\u001b[1;32m      8\u001b[0m     \u001b[0mkmers_in_peptide_db\u001b[0m \u001b[0;34m=\u001b[0m \u001b[0mpeptide_kmer_set\u001b[0m\u001b[0;34m.\u001b[0m\u001b[0mintersection\u001b[0m\u001b[0;34m(\u001b[0m\u001b[0mkmers\u001b[0m\u001b[0;34m)\u001b[0m\u001b[0;34m\u001b[0m\u001b[0;34m\u001b[0m\u001b[0m\n\u001b[1;32m      9\u001b[0m     \u001b[0mn_kmers_in_peptide_db\u001b[0m \u001b[0;34m=\u001b[0m \u001b[0mlen\u001b[0m\u001b[0;34m(\u001b[0m\u001b[0mkmers_in_peptide_db\u001b[0m\u001b[0;34m)\u001b[0m\u001b[0;34m\u001b[0m\u001b[0;34m\u001b[0m\u001b[0m\n",
        "\u001b[0;31mNameError\u001b[0m: name 'kmerize' is not defined"
       ]
      }
     ],
     "persistentId": "929b3bae-4d5a-45b3-bcaf-925de1e25a76",
     "text": "def score_single_translation_from_set(translation,\n                             peptide_kmer_set,\n                             peptide_ksize,\n                             molecule='protein',\n                             verbose=True):\n    encoded = encode_peptide(translation, molecule)\n    kmers = kmerize(str(encoded), peptide_ksize)\n    kmers_in_peptide_db = peptide_kmer_set.intersection(kmers)\n    n_kmers_in_peptide_db = len(kmers_in_peptide_db)\n    \n    n_kmers = len(kmers)\n\n    if verbose > 1:\n        click.echo(f\"\\ttranslation: \\t{encoded}\", err=True)\n        click.echo(\"\\tkmers:\", ' '.join(kmers), err=True)\n\n    if verbose > 1:\n        kmers_in_peptide_db = {(k, h): peptide_bloom_filter.get(h)\n                               for k, h in zip(kmers, hashes)}\n        # Print keys (kmers) only\n        click.echo(f\"\\tK-mers in peptide database:\", err=True)\n        click.echo(kmers_in_peptide_db, err=True)\n\n    fraction_in_peptide_db = n_kmers_in_peptide_db / n_kmers\n\n    return fraction_in_peptide_db, n_kmers\n\n\nfor record in screed.open('test.fasta'):\n    name = record['name']\n    print(f'--- {name} ---')\n    seq = record['sequence']\n    print(seq)\n    fraction_in_peptide_db, kmers = score_single_translation_from_set(seq, all_peptide_kmers, \n                                                                      peptide_ksize=peptide_ksize,\n                                                                      molecule=molecule, verbose=True)\n"
    },
    "executionTime": "2019-11-05T17:39:05.230Z"
   },
   {
    "cell": {
     "executionCount": 35,
     "executionEventId": "98d2ac87-ba72-486b-9192-e459d3faca2e",
     "hasError": false,
     "id": "2a6d2a97-f229-47b0-a1e1-dde20cfe5bc8",
     "outputs": [],
     "persistentId": "19fc72d9-e3e1-4898-8f7e-b28058f9ea00",
     "text": "import pickle\n\n\nimport screed\n\nfrom Bio.Blast import NCBIWWW\n\nfrom khtools.bloom_filter import load_nodegraph\nfrom khtools.extract_coding import score_single_translation, encode_peptide, kmerize"
    },
    "executionTime": "2019-11-05T17:39:13.606Z"
   },
   {
    "cell": {
     "executionCount": 36,
     "executionEventId": "caf68d85-797e-45e8-8324-a13e377079b9",
     "hasError": false,
     "id": "71b768cd-c503-40e7-9d28-0a064a01b04b",
     "outputs": [
      {
       "name": "stdout",
       "output_type": "stream",
       "text": "--- SRR306752.27035 Ibis_Run090629:7:1:313:423/1 translation_frame: 3 ---\nIAILTGDFPSLEP\n--- SRR306752.27035 Ibis_Run090629:7:1:313:423/1 translation_frame: -1 ---\nWFKGWKVTRKDGN\n--- SRR306752.27035 Ibis_Run090629:7:1:313:423/1 translation_frame: -2 ---\nGSRDGKSPVRMAM\n--- SRR306752.32778 Ibis_Run090629:7:1:381:125/1 translation_frame: 3 ---\nLALSSINTTVSTITFSILFLLT\n--- SRR306752.32778 Ibis_Run090629:7:1:381:125/1 translation_frame: -2 ---\nVRRNRIENVMVETVVLIDDRAK\n"
      }
     ],
     "persistentId": "929b3bae-4d5a-45b3-bcaf-925de1e25a76",
     "text": "def score_single_translation_from_set(translation,\n                             peptide_kmer_set,\n                             peptide_ksize,\n                             molecule='protein',\n                             verbose=True):\n    encoded = encode_peptide(translation, molecule)\n    kmers = kmerize(str(encoded), peptide_ksize)\n    kmers_in_peptide_db = peptide_kmer_set.intersection(kmers)\n    n_kmers_in_peptide_db = len(kmers_in_peptide_db)\n    \n    n_kmers = len(kmers)\n\n    if verbose > 1:\n        click.echo(f\"\\ttranslation: \\t{encoded}\", err=True)\n        click.echo(\"\\tkmers:\", ' '.join(kmers), err=True)\n\n    if verbose > 1:\n        kmers_in_peptide_db = {(k, h): peptide_bloom_filter.get(h)\n                               for k, h in zip(kmers, hashes)}\n        # Print keys (kmers) only\n        click.echo(f\"\\tK-mers in peptide database:\", err=True)\n        click.echo(kmers_in_peptide_db, err=True)\n\n    fraction_in_peptide_db = n_kmers_in_peptide_db / n_kmers\n\n    return fraction_in_peptide_db, n_kmers\n\n\nfor record in screed.open('test.fasta'):\n    name = record['name']\n    print(f'--- {name} ---')\n    seq = record['sequence']\n    print(seq)\n    fraction_in_peptide_db, kmers = score_single_translation_from_set(seq, all_peptide_kmers, \n                                                                      peptide_ksize=peptide_ksize,\n                                                                      molecule=molecule, verbose=True)\n"
    },
    "executionTime": "2019-11-05T17:39:15.892Z"
   },
   {
    "cell": {
     "executionCount": 37,
     "executionEventId": "e3c4de58-00d2-4437-adc1-6fde38533e06",
     "hasError": false,
     "id": "71b768cd-c503-40e7-9d28-0a064a01b04b",
     "outputs": [
      {
       "name": "stdout",
       "output_type": "stream",
       "text": "--- SRR306752.27035 Ibis_Run090629:7:1:313:423/1 translation_frame: 3 ---\nIAILTGDFPSLEP\nfraction_in_peptide_db: 0.0\n--- SRR306752.27035 Ibis_Run090629:7:1:313:423/1 translation_frame: -1 ---\nWFKGWKVTRKDGN\nfraction_in_peptide_db: 0.0\n--- SRR306752.27035 Ibis_Run090629:7:1:313:423/1 translation_frame: -2 ---\nGSRDGKSPVRMAM\nfraction_in_peptide_db: 0.0\n--- SRR306752.32778 Ibis_Run090629:7:1:381:125/1 translation_frame: 3 ---\nLALSSINTTVSTITFSILFLLT\nfraction_in_peptide_db: 0.0\n--- SRR306752.32778 Ibis_Run090629:7:1:381:125/1 translation_frame: -2 ---\nVRRNRIENVMVETVVLIDDRAK\nfraction_in_peptide_db: 0.0\n"
      }
     ],
     "persistentId": "929b3bae-4d5a-45b3-bcaf-925de1e25a76",
     "text": "def score_single_translation_from_set(translation,\n                             peptide_kmer_set,\n                             peptide_ksize,\n                             molecule='protein',\n                             verbose=True):\n    encoded = encode_peptide(translation, molecule)\n    kmers = kmerize(str(encoded), peptide_ksize)\n    kmers_in_peptide_db = peptide_kmer_set.intersection(kmers)\n    n_kmers_in_peptide_db = len(kmers_in_peptide_db)\n    \n    n_kmers = len(kmers)\n\n    if verbose > 1:\n        click.echo(f\"\\ttranslation: \\t{encoded}\", err=True)\n        click.echo(\"\\tkmers:\", ' '.join(kmers), err=True)\n\n    if verbose > 1:\n        kmers_in_peptide_db = {(k, h): peptide_bloom_filter.get(h)\n                               for k, h in zip(kmers, hashes)}\n        # Print keys (kmers) only\n        click.echo(f\"\\tK-mers in peptide database:\", err=True)\n        click.echo(kmers_in_peptide_db, err=True)\n\n    fraction_in_peptide_db = n_kmers_in_peptide_db / n_kmers\n\n    return fraction_in_peptide_db, n_kmers\n\n\nfor record in screed.open('test.fasta'):\n    name = record['name']\n    print(f'--- {name} ---')\n    seq = record['sequence']\n    print(seq)\n    fraction_in_peptide_db, kmers = score_single_translation_from_set(seq, all_peptide_kmers, \n                                                                      peptide_ksize=peptide_ksize,\n                                                                      molecule=molecule, verbose=True)\n    print(f'fraction_in_peptide_db: {fraction_in_peptide_db}')"
    },
    "executionTime": "2019-11-05T17:39:26.718Z"
   },
   {
    "cell": {
     "executionCount": 38,
     "executionEventId": "7ec3e8c4-4f92-42af-9c3a-a221ddf7b5c7",
     "hasError": true,
     "id": "71b768cd-c503-40e7-9d28-0a064a01b04b",
     "outputs": [
      {
       "name": "stdout",
       "output_type": "stream",
       "text": "--- SRR306752.27035 Ibis_Run090629:7:1:313:423/1 translation_frame: 3 ---\nIAILTGDFPSLEP\n"
      },
      {
       "ename": "NameError",
       "evalue": "name 'click' is not defined",
       "output_type": "error",
       "traceback": [
        "\u001b[0;31m---------------------------------------------------------------------------\u001b[0m",
        "\u001b[0;31mNameError\u001b[0m                                 Traceback (most recent call last)",
        "\u001b[0;32m<ipython-input-38-5d4927f20d0f>\u001b[0m in \u001b[0;36m<module>\u001b[0;34m()\u001b[0m\n\u001b[1;32m     34\u001b[0m     fraction_in_peptide_db, kmers = score_single_translation_from_set(seq, all_peptide_kmers, \n\u001b[1;32m     35\u001b[0m                                                                       \u001b[0mpeptide_ksize\u001b[0m\u001b[0;34m=\u001b[0m\u001b[0mpeptide_ksize\u001b[0m\u001b[0;34m,\u001b[0m\u001b[0;34m\u001b[0m\u001b[0;34m\u001b[0m\u001b[0m\n\u001b[0;32m---> 36\u001b[0;31m                                                                       molecule=molecule, verbose=2)\n\u001b[0m\u001b[1;32m     37\u001b[0m     \u001b[0mprint\u001b[0m\u001b[0;34m(\u001b[0m\u001b[0;34mf'fraction_in_peptide_db: {fraction_in_peptide_db}'\u001b[0m\u001b[0;34m)\u001b[0m\u001b[0;34m\u001b[0m\u001b[0;34m\u001b[0m\u001b[0m\n",
        "\u001b[0;32m<ipython-input-38-5d4927f20d0f>\u001b[0m in \u001b[0;36mscore_single_translation_from_set\u001b[0;34m(translation, peptide_kmer_set, peptide_ksize, molecule, verbose)\u001b[0m\n\u001b[1;32m     12\u001b[0m \u001b[0;34m\u001b[0m\u001b[0m\n\u001b[1;32m     13\u001b[0m     \u001b[0;32mif\u001b[0m \u001b[0mverbose\u001b[0m \u001b[0;34m>\u001b[0m \u001b[0;36m1\u001b[0m\u001b[0;34m:\u001b[0m\u001b[0;34m\u001b[0m\u001b[0;34m\u001b[0m\u001b[0m\n\u001b[0;32m---> 14\u001b[0;31m         \u001b[0mclick\u001b[0m\u001b[0;34m.\u001b[0m\u001b[0mecho\u001b[0m\u001b[0;34m(\u001b[0m\u001b[0;34mf\"\\ttranslation: \\t{encoded}\"\u001b[0m\u001b[0;34m,\u001b[0m \u001b[0merr\u001b[0m\u001b[0;34m=\u001b[0m\u001b[0;32mTrue\u001b[0m\u001b[0;34m)\u001b[0m\u001b[0;34m\u001b[0m\u001b[0;34m\u001b[0m\u001b[0m\n\u001b[0m\u001b[1;32m     15\u001b[0m         \u001b[0mclick\u001b[0m\u001b[0;34m.\u001b[0m\u001b[0mecho\u001b[0m\u001b[0;34m(\u001b[0m\u001b[0;34m\"\\tkmers:\"\u001b[0m\u001b[0;34m,\u001b[0m \u001b[0;34m' '\u001b[0m\u001b[0;34m.\u001b[0m\u001b[0mjoin\u001b[0m\u001b[0;34m(\u001b[0m\u001b[0mkmers\u001b[0m\u001b[0;34m)\u001b[0m\u001b[0;34m,\u001b[0m \u001b[0merr\u001b[0m\u001b[0;34m=\u001b[0m\u001b[0;32mTrue\u001b[0m\u001b[0;34m)\u001b[0m\u001b[0;34m\u001b[0m\u001b[0;34m\u001b[0m\u001b[0m\n\u001b[1;32m     16\u001b[0m \u001b[0;34m\u001b[0m\u001b[0m\n",
        "\u001b[0;31mNameError\u001b[0m: name 'click' is not defined"
       ]
      }
     ],
     "persistentId": "929b3bae-4d5a-45b3-bcaf-925de1e25a76",
     "text": "def score_single_translation_from_set(translation,\n                             peptide_kmer_set,\n                             peptide_ksize,\n                             molecule='protein',\n                             verbose=True):\n    encoded = encode_peptide(translation, molecule)\n    kmers = kmerize(str(encoded), peptide_ksize)\n    kmers_in_peptide_db = peptide_kmer_set.intersection(kmers)\n    n_kmers_in_peptide_db = len(kmers_in_peptide_db)\n    \n    n_kmers = len(kmers)\n\n    if verbose > 1:\n        click.echo(f\"\\ttranslation: \\t{encoded}\", err=True)\n        click.echo(\"\\tkmers:\", ' '.join(kmers), err=True)\n\n    if verbose > 1:\n        kmers_in_peptide_db = {(k, h): peptide_bloom_filter.get(h)\n                               for k, h in zip(kmers, hashes)}\n        # Print keys (kmers) only\n        click.echo(f\"\\tK-mers in peptide database:\", err=True)\n        click.echo(kmers_in_peptide_db, err=True)\n\n    fraction_in_peptide_db = n_kmers_in_peptide_db / n_kmers\n\n    return fraction_in_peptide_db, n_kmers\n\n\nfor record in screed.open('test.fasta'):\n    name = record['name']\n    print(f'--- {name} ---')\n    seq = record['sequence']\n    print(seq)\n    fraction_in_peptide_db, kmers = score_single_translation_from_set(seq, all_peptide_kmers, \n                                                                      peptide_ksize=peptide_ksize,\n                                                                      molecule=molecule, verbose=2)\n    print(f'fraction_in_peptide_db: {fraction_in_peptide_db}')"
    },
    "executionTime": "2019-11-05T17:39:40.352Z"
   },
   {
    "cell": {
     "executionCount": 39,
     "executionEventId": "535ea94e-d6a2-482b-9ae5-43dc10f53590",
     "hasError": false,
     "id": "2a6d2a97-f229-47b0-a1e1-dde20cfe5bc8",
     "outputs": [],
     "persistentId": "19fc72d9-e3e1-4898-8f7e-b28058f9ea00",
     "text": "import pickle\n\nimport click\nimport screed\n\nfrom Bio.Blast import NCBIWWW\n\nfrom khtools.bloom_filter import load_nodegraph\nfrom khtools.extract_coding import score_single_translation, encode_peptide, kmerize"
    },
    "executionTime": "2019-11-05T17:39:50.229Z"
   },
   {
    "cell": {
     "executionCount": 40,
     "executionEventId": "724d08cd-7d7d-4f8e-b3bc-1bbeda660a39",
     "hasError": true,
     "id": "71b768cd-c503-40e7-9d28-0a064a01b04b",
     "outputs": [
      {
       "name": "stderr",
       "output_type": "stream",
       "text": "\ttranslation: \tebeebbcfbbecb\n"
      },
      {
       "name": "stdout",
       "output_type": "stream",
       "text": "--- SRR306752.27035 Ibis_Run090629:7:1:313:423/1 translation_frame: 3 ---\nIAILTGDFPSLEP\n"
      },
      {
       "ename": "AttributeError",
       "evalue": "'str' object has no attribute 'write'",
       "output_type": "error",
       "traceback": [
        "\u001b[0;31m---------------------------------------------------------------------------\u001b[0m",
        "\u001b[0;31mAttributeError\u001b[0m                            Traceback (most recent call last)",
        "\u001b[0;32m<ipython-input-40-5d4927f20d0f>\u001b[0m in \u001b[0;36m<module>\u001b[0;34m()\u001b[0m\n\u001b[1;32m     34\u001b[0m     fraction_in_peptide_db, kmers = score_single_translation_from_set(seq, all_peptide_kmers, \n\u001b[1;32m     35\u001b[0m                                                                       \u001b[0mpeptide_ksize\u001b[0m\u001b[0;34m=\u001b[0m\u001b[0mpeptide_ksize\u001b[0m\u001b[0;34m,\u001b[0m\u001b[0;34m\u001b[0m\u001b[0;34m\u001b[0m\u001b[0m\n\u001b[0;32m---> 36\u001b[0;31m                                                                       molecule=molecule, verbose=2)\n\u001b[0m\u001b[1;32m     37\u001b[0m     \u001b[0mprint\u001b[0m\u001b[0;34m(\u001b[0m\u001b[0;34mf'fraction_in_peptide_db: {fraction_in_peptide_db}'\u001b[0m\u001b[0;34m)\u001b[0m\u001b[0;34m\u001b[0m\u001b[0;34m\u001b[0m\u001b[0m\n",
        "\u001b[0;32m<ipython-input-40-5d4927f20d0f>\u001b[0m in \u001b[0;36mscore_single_translation_from_set\u001b[0;34m(translation, peptide_kmer_set, peptide_ksize, molecule, verbose)\u001b[0m\n\u001b[1;32m     13\u001b[0m     \u001b[0;32mif\u001b[0m \u001b[0mverbose\u001b[0m \u001b[0;34m>\u001b[0m \u001b[0;36m1\u001b[0m\u001b[0;34m:\u001b[0m\u001b[0;34m\u001b[0m\u001b[0;34m\u001b[0m\u001b[0m\n\u001b[1;32m     14\u001b[0m         \u001b[0mclick\u001b[0m\u001b[0;34m.\u001b[0m\u001b[0mecho\u001b[0m\u001b[0;34m(\u001b[0m\u001b[0;34mf\"\\ttranslation: \\t{encoded}\"\u001b[0m\u001b[0;34m,\u001b[0m \u001b[0merr\u001b[0m\u001b[0;34m=\u001b[0m\u001b[0;32mTrue\u001b[0m\u001b[0;34m)\u001b[0m\u001b[0;34m\u001b[0m\u001b[0;34m\u001b[0m\u001b[0m\n\u001b[0;32m---> 15\u001b[0;31m         \u001b[0mclick\u001b[0m\u001b[0;34m.\u001b[0m\u001b[0mecho\u001b[0m\u001b[0;34m(\u001b[0m\u001b[0;34m\"\\tkmers:\"\u001b[0m\u001b[0;34m,\u001b[0m \u001b[0;34m' '\u001b[0m\u001b[0;34m.\u001b[0m\u001b[0mjoin\u001b[0m\u001b[0;34m(\u001b[0m\u001b[0mkmers\u001b[0m\u001b[0;34m)\u001b[0m\u001b[0;34m,\u001b[0m \u001b[0merr\u001b[0m\u001b[0;34m=\u001b[0m\u001b[0;32mTrue\u001b[0m\u001b[0;34m)\u001b[0m\u001b[0;34m\u001b[0m\u001b[0;34m\u001b[0m\u001b[0m\n\u001b[0m\u001b[1;32m     16\u001b[0m \u001b[0;34m\u001b[0m\u001b[0m\n\u001b[1;32m     17\u001b[0m     \u001b[0;32mif\u001b[0m \u001b[0mverbose\u001b[0m \u001b[0;34m>\u001b[0m \u001b[0;36m1\u001b[0m\u001b[0;34m:\u001b[0m\u001b[0;34m\u001b[0m\u001b[0;34m\u001b[0m\u001b[0m\n",
        "\u001b[0;32m~/miniconda3/envs/kmer-hashing/lib/python3.6/site-packages/click/utils.py\u001b[0m in \u001b[0;36mecho\u001b[0;34m(message, file, nl, err, color)\u001b[0m\n\u001b[1;32m    258\u001b[0m \u001b[0;34m\u001b[0m\u001b[0m\n\u001b[1;32m    259\u001b[0m     \u001b[0;32mif\u001b[0m \u001b[0mmessage\u001b[0m\u001b[0;34m:\u001b[0m\u001b[0;34m\u001b[0m\u001b[0;34m\u001b[0m\u001b[0m\n\u001b[0;32m--> 260\u001b[0;31m         \u001b[0mfile\u001b[0m\u001b[0;34m.\u001b[0m\u001b[0mwrite\u001b[0m\u001b[0;34m(\u001b[0m\u001b[0mmessage\u001b[0m\u001b[0;34m)\u001b[0m\u001b[0;34m\u001b[0m\u001b[0;34m\u001b[0m\u001b[0m\n\u001b[0m\u001b[1;32m    261\u001b[0m     \u001b[0mfile\u001b[0m\u001b[0;34m.\u001b[0m\u001b[0mflush\u001b[0m\u001b[0;34m(\u001b[0m\u001b[0;34m)\u001b[0m\u001b[0;34m\u001b[0m\u001b[0;34m\u001b[0m\u001b[0m\n\u001b[1;32m    262\u001b[0m \u001b[0;34m\u001b[0m\u001b[0m\n",
        "\u001b[0;31mAttributeError\u001b[0m: 'str' object has no attribute 'write'"
       ]
      }
     ],
     "persistentId": "929b3bae-4d5a-45b3-bcaf-925de1e25a76",
     "text": "def score_single_translation_from_set(translation,\n                             peptide_kmer_set,\n                             peptide_ksize,\n                             molecule='protein',\n                             verbose=True):\n    encoded = encode_peptide(translation, molecule)\n    kmers = kmerize(str(encoded), peptide_ksize)\n    kmers_in_peptide_db = peptide_kmer_set.intersection(kmers)\n    n_kmers_in_peptide_db = len(kmers_in_peptide_db)\n    \n    n_kmers = len(kmers)\n\n    if verbose > 1:\n        click.echo(f\"\\ttranslation: \\t{encoded}\", err=True)\n        click.echo(\"\\tkmers:\", ' '.join(kmers), err=True)\n\n    if verbose > 1:\n        kmers_in_peptide_db = {(k, h): peptide_bloom_filter.get(h)\n                               for k, h in zip(kmers, hashes)}\n        # Print keys (kmers) only\n        click.echo(f\"\\tK-mers in peptide database:\", err=True)\n        click.echo(kmers_in_peptide_db, err=True)\n\n    fraction_in_peptide_db = n_kmers_in_peptide_db / n_kmers\n\n    return fraction_in_peptide_db, n_kmers\n\n\nfor record in screed.open('test.fasta'):\n    name = record['name']\n    print(f'--- {name} ---')\n    seq = record['sequence']\n    print(seq)\n    fraction_in_peptide_db, kmers = score_single_translation_from_set(seq, all_peptide_kmers, \n                                                                      peptide_ksize=peptide_ksize,\n                                                                      molecule=molecule, verbose=2)\n    print(f'fraction_in_peptide_db: {fraction_in_peptide_db}')"
    },
    "executionTime": "2019-11-05T17:39:54.856Z"
   },
   {
    "cell": {
     "executionCount": 41,
     "executionEventId": "78ad4bbb-7848-4857-b5bf-4d675a5bc38d",
     "hasError": false,
     "id": "71b768cd-c503-40e7-9d28-0a064a01b04b",
     "outputs": [
      {
       "name": "stdout",
       "output_type": "stream",
       "text": "--- SRR306752.27035 Ibis_Run090629:7:1:313:423/1 translation_frame: 3 ---\nIAILTGDFPSLEP\nfraction_in_peptide_db: 0.0\n--- SRR306752.27035 Ibis_Run090629:7:1:313:423/1 translation_frame: -1 ---\nWFKGWKVTRKDGN\nfraction_in_peptide_db: 0.0\n--- SRR306752.27035 Ibis_Run090629:7:1:313:423/1 translation_frame: -2 ---\nGSRDGKSPVRMAM\nfraction_in_peptide_db: 0.0\n--- SRR306752.32778 Ibis_Run090629:7:1:381:125/1 translation_frame: 3 ---\nLALSSINTTVSTITFSILFLLT\nfraction_in_peptide_db: 0.0\n--- SRR306752.32778 Ibis_Run090629:7:1:381:125/1 translation_frame: -2 ---\nVRRNRIENVMVETVVLIDDRAK\nfraction_in_peptide_db: 0.0\n"
      }
     ],
     "persistentId": "929b3bae-4d5a-45b3-bcaf-925de1e25a76",
     "text": "def score_single_translation_from_set(translation,\n                             peptide_kmer_set,\n                             peptide_ksize,\n                             molecule='protein',\n                             verbose=True):\n    encoded = encode_peptide(translation, molecule)\n    kmers = kmerize(str(encoded), peptide_ksize)\n    kmers_in_peptide_db = peptide_kmer_set.intersection(kmers)\n    n_kmers_in_peptide_db = len(kmers_in_peptide_db)\n    \n    n_kmers = len(kmers)\n\n    if verbose > 1:\n        click.echo(f\"\\ttranslation: \\t{encoded}\", err=True)\n        click.echo(\"\\tkmers:\", ' '.join(kmers), err=True)\n\n    if verbose > 1:\n        kmers_in_peptide_db = {(k, h): peptide_bloom_filter.get(h)\n                               for k, h in zip(kmers, hashes)}\n        # Print keys (kmers) only\n        click.echo(f\"\\tK-mers in peptide database:\", err=True)\n        click.echo(kmers_in_peptide_db, err=True)\n\n    fraction_in_peptide_db = n_kmers_in_peptide_db / n_kmers\n\n    return fraction_in_peptide_db, n_kmers\n\n\nfor record in screed.open('test.fasta'):\n    name = record['name']\n    print(f'--- {name} ---')\n    seq = record['sequence']\n    print(seq)\n    fraction_in_peptide_db, kmers = score_single_translation_from_set(seq, all_peptide_kmers, \n                                                                      peptide_ksize=peptide_ksize,\n                                                                      molecule=molecule)\n    print(f'fraction_in_peptide_db: {fraction_in_peptide_db}')"
    },
    "executionTime": "2019-11-05T17:40:13.550Z"
   },
   {
    "cell": {
     "executionCount": 42,
     "executionEventId": "f99f9927-e187-4d02-9e70-22bab70f3c2a",
     "hasError": false,
     "id": "71b768cd-c503-40e7-9d28-0a064a01b04b",
     "outputs": [
      {
       "name": "stdout",
       "output_type": "stream",
       "text": "\n--- SRR306752.27035 Ibis_Run090629:7:1:313:423/1 translation_frame: 3 ---\nIAILTGDFPSLEP\nfraction_in_peptide_db: 0.0\nn_kmers: 3\n\n--- SRR306752.27035 Ibis_Run090629:7:1:313:423/1 translation_frame: -1 ---\nWFKGWKVTRKDGN\nfraction_in_peptide_db: 0.0\nn_kmers: 3\n\n--- SRR306752.27035 Ibis_Run090629:7:1:313:423/1 translation_frame: -2 ---\nGSRDGKSPVRMAM\nfraction_in_peptide_db: 0.0\nn_kmers: 3\n\n--- SRR306752.32778 Ibis_Run090629:7:1:381:125/1 translation_frame: 3 ---\nLALSSINTTVSTITFSILFLLT\nfraction_in_peptide_db: 0.0\nn_kmers: 12\n\n--- SRR306752.32778 Ibis_Run090629:7:1:381:125/1 translation_frame: -2 ---\nVRRNRIENVMVETVVLIDDRAK\nfraction_in_peptide_db: 0.0\nn_kmers: 12\n"
      }
     ],
     "persistentId": "929b3bae-4d5a-45b3-bcaf-925de1e25a76",
     "text": "def score_single_translation_from_set(translation,\n                             peptide_kmer_set,\n                             peptide_ksize,\n                             molecule='protein',\n                             verbose=True):\n    encoded = encode_peptide(translation, molecule)\n    kmers = kmerize(str(encoded), peptide_ksize)\n    kmers_in_peptide_db = peptide_kmer_set.intersection(kmers)\n    n_kmers_in_peptide_db = len(kmers_in_peptide_db)\n    \n    n_kmers = len(kmers)\n\n    if verbose > 1:\n        click.echo(f\"\\ttranslation: \\t{encoded}\", err=True)\n        click.echo(\"\\tkmers:\", ' '.join(kmers), err=True)\n\n    if verbose > 1:\n        kmers_in_peptide_db = {(k, h): peptide_bloom_filter.get(h)\n                               for k, h in zip(kmers, hashes)}\n        # Print keys (kmers) only\n        click.echo(f\"\\tK-mers in peptide database:\", err=True)\n        click.echo(kmers_in_peptide_db, err=True)\n\n    fraction_in_peptide_db = n_kmers_in_peptide_db / n_kmers\n\n    return fraction_in_peptide_db, n_kmers\n\n\nfor record in screed.open('test.fasta'):\n    name = record['name']\n    print(f'\\n--- {name} ---')\n    seq = record['sequence']\n    print(seq)\n    fraction_in_peptide_db, n_kmers = score_single_translation_from_set(seq, all_peptide_kmers, \n                                                                      peptide_ksize=peptide_ksize,\n                                                                      molecule=molecule)\n    print(f'fraction_in_peptide_db: {fraction_in_peptide_db}')\n    print(f'n_kmers: {n_kmers}')"
    },
    "executionTime": "2019-11-05T17:40:33.311Z"
   },
   {
    "cell": {
     "executionCount": 43,
     "executionEventId": "b181bfb5-7cc4-4e3d-861b-4002224bdb01",
     "hasError": true,
     "id": "71b768cd-c503-40e7-9d28-0a064a01b04b",
     "outputs": [
      {
       "name": "stdout",
       "output_type": "stream",
       "text": "\n--- SRR306752.27035 Ibis_Run090629:7:1:313:423/1 translation_frame: 3 ---\nIAILTGDFPSLEP\n> <ipython-input-43-1c16947bbdcf>(10)score_single_translation_from_set()\n-> n_kmers_in_peptide_db = len(kmers_in_peptide_db)\n"
      },
      {
       "name": "stdin",
       "output_type": "stream",
       "text": "(Pdb)  dir()\n"
      },
      {
       "name": "stdout",
       "output_type": "stream",
       "text": "['encoded', 'kmers', 'kmers_in_peptide_db', 'molecule', 'pdb', 'peptide_kmer_set', 'peptide_ksize', 'translation', 'verbose']\n"
      },
      {
       "name": "stdin",
       "output_type": "stream",
       "text": "(Pdb)  kmers\n"
      },
      {
       "name": "stdout",
       "output_type": "stream",
       "text": "{'beebbcfbbec', 'eebbcfbbecb', 'ebeebbcfbbe'}\n"
      },
      {
       "name": "stdin",
       "output_type": "stream",
       "text": "(Pdb)  q\n"
      },
      {
       "ename": "BdbQuit",
       "evalue": "",
       "output_type": "error",
       "traceback": [
        "\u001b[0;31m---------------------------------------------------------------------------\u001b[0m",
        "\u001b[0;31mBdbQuit\u001b[0m                                   Traceback (most recent call last)",
        "\u001b[0;32m<ipython-input-43-1c16947bbdcf>\u001b[0m in \u001b[0;36m<module>\u001b[0;34m()\u001b[0m\n\u001b[1;32m     35\u001b[0m     fraction_in_peptide_db, n_kmers = score_single_translation_from_set(seq, all_peptide_kmers, \n\u001b[1;32m     36\u001b[0m                                                                       \u001b[0mpeptide_ksize\u001b[0m\u001b[0;34m=\u001b[0m\u001b[0mpeptide_ksize\u001b[0m\u001b[0;34m,\u001b[0m\u001b[0;34m\u001b[0m\u001b[0;34m\u001b[0m\u001b[0m\n\u001b[0;32m---> 37\u001b[0;31m                                                                       molecule=molecule)\n\u001b[0m\u001b[1;32m     38\u001b[0m     \u001b[0mprint\u001b[0m\u001b[0;34m(\u001b[0m\u001b[0;34mf'fraction_in_peptide_db: {fraction_in_peptide_db}'\u001b[0m\u001b[0;34m)\u001b[0m\u001b[0;34m\u001b[0m\u001b[0;34m\u001b[0m\u001b[0m\n\u001b[1;32m     39\u001b[0m     \u001b[0mprint\u001b[0m\u001b[0;34m(\u001b[0m\u001b[0;34mf'n_kmers: {n_kmers}'\u001b[0m\u001b[0;34m)\u001b[0m\u001b[0;34m\u001b[0m\u001b[0;34m\u001b[0m\u001b[0m\n",
        "\u001b[0;32m<ipython-input-43-1c16947bbdcf>\u001b[0m in \u001b[0;36mscore_single_translation_from_set\u001b[0;34m(translation, peptide_kmer_set, peptide_ksize, molecule, verbose)\u001b[0m\n\u001b[1;32m      8\u001b[0m     \u001b[0mkmers_in_peptide_db\u001b[0m \u001b[0;34m=\u001b[0m \u001b[0mpeptide_kmer_set\u001b[0m\u001b[0;34m.\u001b[0m\u001b[0mintersection\u001b[0m\u001b[0;34m(\u001b[0m\u001b[0mkmers\u001b[0m\u001b[0;34m)\u001b[0m\u001b[0;34m\u001b[0m\u001b[0;34m\u001b[0m\u001b[0m\n\u001b[1;32m      9\u001b[0m     \u001b[0;32mimport\u001b[0m \u001b[0mpdb\u001b[0m \u001b[0;34m;\u001b[0m \u001b[0mpdb\u001b[0m\u001b[0;34m.\u001b[0m\u001b[0mset_trace\u001b[0m\u001b[0;34m(\u001b[0m\u001b[0;34m)\u001b[0m\u001b[0;34m\u001b[0m\u001b[0;34m\u001b[0m\u001b[0m\n\u001b[0;32m---> 10\u001b[0;31m     \u001b[0mn_kmers_in_peptide_db\u001b[0m \u001b[0;34m=\u001b[0m \u001b[0mlen\u001b[0m\u001b[0;34m(\u001b[0m\u001b[0mkmers_in_peptide_db\u001b[0m\u001b[0;34m)\u001b[0m\u001b[0;34m\u001b[0m\u001b[0;34m\u001b[0m\u001b[0m\n\u001b[0m\u001b[1;32m     11\u001b[0m \u001b[0;34m\u001b[0m\u001b[0m\n\u001b[1;32m     12\u001b[0m     \u001b[0mn_kmers\u001b[0m \u001b[0;34m=\u001b[0m \u001b[0mlen\u001b[0m\u001b[0;34m(\u001b[0m\u001b[0mkmers\u001b[0m\u001b[0;34m)\u001b[0m\u001b[0;34m\u001b[0m\u001b[0;34m\u001b[0m\u001b[0m\n",
        "\u001b[0;32m<ipython-input-43-1c16947bbdcf>\u001b[0m in \u001b[0;36mscore_single_translation_from_set\u001b[0;34m(translation, peptide_kmer_set, peptide_ksize, molecule, verbose)\u001b[0m\n\u001b[1;32m      8\u001b[0m     \u001b[0mkmers_in_peptide_db\u001b[0m \u001b[0;34m=\u001b[0m \u001b[0mpeptide_kmer_set\u001b[0m\u001b[0;34m.\u001b[0m\u001b[0mintersection\u001b[0m\u001b[0;34m(\u001b[0m\u001b[0mkmers\u001b[0m\u001b[0;34m)\u001b[0m\u001b[0;34m\u001b[0m\u001b[0;34m\u001b[0m\u001b[0m\n\u001b[1;32m      9\u001b[0m     \u001b[0;32mimport\u001b[0m \u001b[0mpdb\u001b[0m \u001b[0;34m;\u001b[0m \u001b[0mpdb\u001b[0m\u001b[0;34m.\u001b[0m\u001b[0mset_trace\u001b[0m\u001b[0;34m(\u001b[0m\u001b[0;34m)\u001b[0m\u001b[0;34m\u001b[0m\u001b[0;34m\u001b[0m\u001b[0m\n\u001b[0;32m---> 10\u001b[0;31m     \u001b[0mn_kmers_in_peptide_db\u001b[0m \u001b[0;34m=\u001b[0m \u001b[0mlen\u001b[0m\u001b[0;34m(\u001b[0m\u001b[0mkmers_in_peptide_db\u001b[0m\u001b[0;34m)\u001b[0m\u001b[0;34m\u001b[0m\u001b[0;34m\u001b[0m\u001b[0m\n\u001b[0m\u001b[1;32m     11\u001b[0m \u001b[0;34m\u001b[0m\u001b[0m\n\u001b[1;32m     12\u001b[0m     \u001b[0mn_kmers\u001b[0m \u001b[0;34m=\u001b[0m \u001b[0mlen\u001b[0m\u001b[0;34m(\u001b[0m\u001b[0mkmers\u001b[0m\u001b[0;34m)\u001b[0m\u001b[0;34m\u001b[0m\u001b[0;34m\u001b[0m\u001b[0m\n",
        "\u001b[0;32m~/miniconda3/envs/kmer-hashing/lib/python3.6/bdb.py\u001b[0m in \u001b[0;36mtrace_dispatch\u001b[0;34m(self, frame, event, arg)\u001b[0m\n\u001b[1;32m     49\u001b[0m             \u001b[0;32mreturn\u001b[0m \u001b[0;31m# None\u001b[0m\u001b[0;34m\u001b[0m\u001b[0;34m\u001b[0m\u001b[0m\n\u001b[1;32m     50\u001b[0m         \u001b[0;32mif\u001b[0m \u001b[0mevent\u001b[0m \u001b[0;34m==\u001b[0m \u001b[0;34m'line'\u001b[0m\u001b[0;34m:\u001b[0m\u001b[0;34m\u001b[0m\u001b[0;34m\u001b[0m\u001b[0m\n\u001b[0;32m---> 51\u001b[0;31m             \u001b[0;32mreturn\u001b[0m \u001b[0mself\u001b[0m\u001b[0;34m.\u001b[0m\u001b[0mdispatch_line\u001b[0m\u001b[0;34m(\u001b[0m\u001b[0mframe\u001b[0m\u001b[0;34m)\u001b[0m\u001b[0;34m\u001b[0m\u001b[0;34m\u001b[0m\u001b[0m\n\u001b[0m\u001b[1;32m     52\u001b[0m         \u001b[0;32mif\u001b[0m \u001b[0mevent\u001b[0m \u001b[0;34m==\u001b[0m \u001b[0;34m'call'\u001b[0m\u001b[0;34m:\u001b[0m\u001b[0;34m\u001b[0m\u001b[0;34m\u001b[0m\u001b[0m\n\u001b[1;32m     53\u001b[0m             \u001b[0;32mreturn\u001b[0m \u001b[0mself\u001b[0m\u001b[0;34m.\u001b[0m\u001b[0mdispatch_call\u001b[0m\u001b[0;34m(\u001b[0m\u001b[0mframe\u001b[0m\u001b[0;34m,\u001b[0m \u001b[0marg\u001b[0m\u001b[0;34m)\u001b[0m\u001b[0;34m\u001b[0m\u001b[0;34m\u001b[0m\u001b[0m\n",
        "\u001b[0;32m~/miniconda3/envs/kmer-hashing/lib/python3.6/bdb.py\u001b[0m in \u001b[0;36mdispatch_line\u001b[0;34m(self, frame)\u001b[0m\n\u001b[1;32m     68\u001b[0m         \u001b[0;32mif\u001b[0m \u001b[0mself\u001b[0m\u001b[0;34m.\u001b[0m\u001b[0mstop_here\u001b[0m\u001b[0;34m(\u001b[0m\u001b[0mframe\u001b[0m\u001b[0;34m)\u001b[0m \u001b[0;32mor\u001b[0m \u001b[0mself\u001b[0m\u001b[0;34m.\u001b[0m\u001b[0mbreak_here\u001b[0m\u001b[0;34m(\u001b[0m\u001b[0mframe\u001b[0m\u001b[0;34m)\u001b[0m\u001b[0;34m:\u001b[0m\u001b[0;34m\u001b[0m\u001b[0;34m\u001b[0m\u001b[0m\n\u001b[1;32m     69\u001b[0m             \u001b[0mself\u001b[0m\u001b[0;34m.\u001b[0m\u001b[0muser_line\u001b[0m\u001b[0;34m(\u001b[0m\u001b[0mframe\u001b[0m\u001b[0;34m)\u001b[0m\u001b[0;34m\u001b[0m\u001b[0;34m\u001b[0m\u001b[0m\n\u001b[0;32m---> 70\u001b[0;31m             \u001b[0;32mif\u001b[0m \u001b[0mself\u001b[0m\u001b[0;34m.\u001b[0m\u001b[0mquitting\u001b[0m\u001b[0;34m:\u001b[0m \u001b[0;32mraise\u001b[0m \u001b[0mBdbQuit\u001b[0m\u001b[0;34m\u001b[0m\u001b[0;34m\u001b[0m\u001b[0m\n\u001b[0m\u001b[1;32m     71\u001b[0m         \u001b[0;32mreturn\u001b[0m \u001b[0mself\u001b[0m\u001b[0;34m.\u001b[0m\u001b[0mtrace_dispatch\u001b[0m\u001b[0;34m\u001b[0m\u001b[0;34m\u001b[0m\u001b[0m\n\u001b[1;32m     72\u001b[0m \u001b[0;34m\u001b[0m\u001b[0m\n",
        "\u001b[0;31mBdbQuit\u001b[0m: "
       ]
      }
     ],
     "persistentId": "929b3bae-4d5a-45b3-bcaf-925de1e25a76",
     "text": "def score_single_translation_from_set(translation,\n                             peptide_kmer_set,\n                             peptide_ksize,\n                             molecule='protein',\n                             verbose=True):\n    encoded = encode_peptide(translation, molecule)\n    kmers = kmerize(str(encoded), peptide_ksize)\n    kmers_in_peptide_db = peptide_kmer_set.intersection(kmers)\n    import pdb ; pdb.set_trace()\n    n_kmers_in_peptide_db = len(kmers_in_peptide_db)\n    \n    n_kmers = len(kmers)\n\n    if verbose > 1:\n        click.echo(f\"\\ttranslation: \\t{encoded}\", err=True)\n        click.echo(\"\\tkmers:\", ' '.join(kmers), err=True)\n\n    if verbose > 1:\n        kmers_in_peptide_db = {(k, h): peptide_bloom_filter.get(h)\n                               for k, h in zip(kmers, hashes)}\n        # Print keys (kmers) only\n        click.echo(f\"\\tK-mers in peptide database:\", err=True)\n        click.echo(kmers_in_peptide_db, err=True)\n\n    fraction_in_peptide_db = n_kmers_in_peptide_db / n_kmers\n\n    return fraction_in_peptide_db, n_kmers\n\n\nfor record in screed.open('test.fasta'):\n    name = record['name']\n    print(f'\\n--- {name} ---')\n    seq = record['sequence']\n    print(seq)\n    fraction_in_peptide_db, n_kmers = score_single_translation_from_set(seq, all_peptide_kmers, \n                                                                      peptide_ksize=peptide_ksize,\n                                                                      molecule=molecule)\n    print(f'fraction_in_peptide_db: {fraction_in_peptide_db}')\n    print(f'n_kmers: {n_kmers}')"
    },
    "executionTime": "2019-11-05T17:41:11.668Z"
   },
   {
    "cell": {
     "executionCount": 44,
     "executionEventId": "36d81192-47d5-4882-a4f2-d2318f5e74c8",
     "hasError": true,
     "id": "2a6d2a97-f229-47b0-a1e1-dde20cfe5bc8",
     "outputs": [
      {
       "ename": "ImportError",
       "evalue": "cannot import name 'make_peptide_set'",
       "output_type": "error",
       "traceback": [
        "\u001b[0;31m---------------------------------------------------------------------------\u001b[0m",
        "\u001b[0;31mImportError\u001b[0m                               Traceback (most recent call last)",
        "\u001b[0;32m<ipython-input-44-f01affac234f>\u001b[0m in \u001b[0;36m<module>\u001b[0;34m()\u001b[0m\n\u001b[1;32m      9\u001b[0m \u001b[0;32mfrom\u001b[0m \u001b[0mBio\u001b[0m\u001b[0;34m.\u001b[0m\u001b[0mBlast\u001b[0m \u001b[0;32mimport\u001b[0m \u001b[0mNCBIWWW\u001b[0m\u001b[0;34m\u001b[0m\u001b[0;34m\u001b[0m\u001b[0m\n\u001b[1;32m     10\u001b[0m \u001b[0;34m\u001b[0m\u001b[0m\n\u001b[0;32m---> 11\u001b[0;31m \u001b[0;32mfrom\u001b[0m \u001b[0mkhtools\u001b[0m\u001b[0;34m.\u001b[0m\u001b[0mbloom_filter\u001b[0m \u001b[0;32mimport\u001b[0m \u001b[0mload_nodegraph\u001b[0m\u001b[0;34m,\u001b[0m \u001b[0mmake_peptide_set\u001b[0m\u001b[0;34m\u001b[0m\u001b[0;34m\u001b[0m\u001b[0m\n\u001b[0m\u001b[1;32m     12\u001b[0m \u001b[0;32mfrom\u001b[0m \u001b[0mkhtools\u001b[0m\u001b[0;34m.\u001b[0m\u001b[0mextract_coding\u001b[0m \u001b[0;32mimport\u001b[0m \u001b[0mscore_single_translation\u001b[0m\u001b[0;34m,\u001b[0m \u001b[0mencode_peptide\u001b[0m\u001b[0;34m,\u001b[0m \u001b[0mkmerize\u001b[0m\u001b[0;34m\u001b[0m\u001b[0;34m\u001b[0m\u001b[0m\n",
        "\u001b[0;31mImportError\u001b[0m: cannot import name 'make_peptide_set'"
       ]
      }
     ],
     "persistentId": "19fc72d9-e3e1-4898-8f7e-b28058f9ea00",
     "text": "%load_ext autoreload\n%autoreload 2\n\nimport pickle\n\nimport click\nimport screed\n\nfrom Bio.Blast import NCBIWWW\n\nfrom khtools.bloom_filter import load_nodegraph, make_peptide_set\nfrom khtools.extract_coding import score_single_translation, encode_peptide, kmerize"
    },
    "executionTime": "2019-11-05T17:45:31.084Z"
   },
   {
    "cell": {
     "executionCount": 1,
     "executionEventId": "32abac53-befe-49c3-b437-6d44bf47e389",
     "hasError": true,
     "id": "2a6d2a97-f229-47b0-a1e1-dde20cfe5bc8",
     "outputs": [
      {
       "ename": "ImportError",
       "evalue": "cannot import name 'make_peptide_set'",
       "output_type": "error",
       "traceback": [
        "\u001b[0;31m---------------------------------------------------------------------------\u001b[0m",
        "\u001b[0;31mImportError\u001b[0m                               Traceback (most recent call last)",
        "\u001b[0;32m<ipython-input-1-f01affac234f>\u001b[0m in \u001b[0;36m<module>\u001b[0;34m()\u001b[0m\n\u001b[1;32m      9\u001b[0m \u001b[0;32mfrom\u001b[0m \u001b[0mBio\u001b[0m\u001b[0;34m.\u001b[0m\u001b[0mBlast\u001b[0m \u001b[0;32mimport\u001b[0m \u001b[0mNCBIWWW\u001b[0m\u001b[0;34m\u001b[0m\u001b[0;34m\u001b[0m\u001b[0m\n\u001b[1;32m     10\u001b[0m \u001b[0;34m\u001b[0m\u001b[0m\n\u001b[0;32m---> 11\u001b[0;31m \u001b[0;32mfrom\u001b[0m \u001b[0mkhtools\u001b[0m\u001b[0;34m.\u001b[0m\u001b[0mbloom_filter\u001b[0m \u001b[0;32mimport\u001b[0m \u001b[0mload_nodegraph\u001b[0m\u001b[0;34m,\u001b[0m \u001b[0mmake_peptide_set\u001b[0m\u001b[0;34m\u001b[0m\u001b[0;34m\u001b[0m\u001b[0m\n\u001b[0m\u001b[1;32m     12\u001b[0m \u001b[0;32mfrom\u001b[0m \u001b[0mkhtools\u001b[0m\u001b[0;34m.\u001b[0m\u001b[0mextract_coding\u001b[0m \u001b[0;32mimport\u001b[0m \u001b[0mscore_single_translation\u001b[0m\u001b[0;34m,\u001b[0m \u001b[0mencode_peptide\u001b[0m\u001b[0;34m,\u001b[0m \u001b[0mkmerize\u001b[0m\u001b[0;34m\u001b[0m\u001b[0;34m\u001b[0m\u001b[0m\n",
        "\u001b[0;31mImportError\u001b[0m: cannot import name 'make_peptide_set'"
       ]
      }
     ],
     "persistentId": "19fc72d9-e3e1-4898-8f7e-b28058f9ea00",
     "text": "%load_ext autoreload\n%autoreload 2\n\nimport pickle\n\nimport click\nimport screed\n\nfrom Bio.Blast import NCBIWWW\n\nfrom khtools.bloom_filter import load_nodegraph, make_peptide_set\nfrom khtools.extract_coding import score_single_translation, encode_peptide, kmerize"
    },
    "executionTime": "2019-11-05T17:45:40.724Z"
   },
   {
    "cell": {
     "executionCount": 2,
     "executionEventId": "8d5e8b66-0411-49d8-a170-241844216fdd",
     "hasError": false,
     "id": "a6720b77-897c-410e-8503-b3132c6c2d96",
     "outputs": [
      {
       "name": "stdout",
       "output_type": "stream",
       "text": "ls: cannot access '*mdo*coding_reads_peptides.fasta': No such file or directory\n"
      }
     ],
     "persistentId": "3bcf02b2-7459-4a77-83ba-02e324539a88",
     "text": "ls -lha *mdo*coding_reads_peptides.fasta"
    },
    "executionTime": "2019-11-05T17:45:42.049Z"
   },
   {
    "cell": {
     "executionCount": 3,
     "executionEventId": "1d6d68df-3c90-4b16-9583-48948847c2b6",
     "hasError": false,
     "id": "2a6d2a97-f229-47b0-a1e1-dde20cfe5bc8",
     "outputs": [
      {
       "name": "stdout",
       "output_type": "stream",
       "text": "The autoreload extension is already loaded. To reload it, use:\n  %reload_ext autoreload\n"
      }
     ],
     "persistentId": "19fc72d9-e3e1-4898-8f7e-b28058f9ea00",
     "text": "%load_ext autoreload\n%autoreload 2\n\nimport pickle\n\nimport click\nimport screed\n\nfrom Bio.Blast import NCBIWWW\n\nfrom khtools.bloom_filter import load_nodegraph, make_peptide_set\nfrom khtools.extract_coding import score_single_translation, encode_peptide, kmerize"
    },
    "executionTime": "2019-11-05T17:47:54.930Z"
   },
   {
    "cell": {
     "executionCount": 4,
     "executionEventId": "0c258044-1af4-4974-997c-6cc1790fd0bc",
     "hasError": false,
     "id": "5f8b97c1-b017-4cb8-afba-fb8337aef1a1",
     "outputs": [
      {
       "name": "stdout",
       "output_type": "stream",
       "text": "/mnt/ibm_lg/olga/kmer-hashing/brawand2011/kmermaid/results_dayhoff11_extract_coding_jaccard_threshold05/extract_coding\n"
      }
     ],
     "persistentId": "a333f7f5-26e1-4bd2-b6f0-c6599c9e7c74",
     "text": "cd ~/data_lg/kmer-hashing/brawand2011/kmermaid/results_dayhoff11_extract_coding_jaccard_threshold05/extract_coding"
    },
    "executionTime": "2019-11-05T17:47:56.146Z"
   },
   {
    "cell": {
     "executionCount": 5,
     "executionEventId": "8aa91ec9-4a72-4b5a-8b59-b4300661f12b",
     "hasError": false,
     "id": "a6720b77-897c-410e-8503-b3132c6c2d96",
     "outputs": [
      {
       "name": "stdout",
       "output_type": "stream",
       "text": "-rw-r--r-- 1 olga olga 123M Nov  4 19:54 SRR306752_GSM752603_mdo_kd_M_1_trimmed__coding_reads_peptides.fasta\n-rw-r--r-- 1 olga olga 1.5G Nov  4 13:39 SRR306753_GSM752606_mdo_lv_F_1_trimmed__coding_reads_peptides.fasta\n-rw-r--r-- 1 olga olga 1.1G Nov  4 17:58 SRR306754_GSM752608_mdo_lv_M_1_trimmed__coding_reads_peptides.fasta\n-rw-r--r-- 1 olga olga 1.5G Nov  4 22:24 SRR306755_GSM752611_mdo_ts_M_1_trimmed__coding_reads_peptides.fasta\n-rw-r--r-- 1 olga olga 3.2G Nov  4 15:50 SRR306756_GSM752613_mdo_ts_M_2_trimmed__coding_reads_peptides.fasta\n"
      }
     ],
     "persistentId": "3bcf02b2-7459-4a77-83ba-02e324539a88",
     "text": "ls -lha *mdo*coding_reads_peptides.fasta"
    },
    "executionTime": "2019-11-05T17:47:56.879Z"
   },
   {
    "cell": {
     "executionCount": 6,
     "executionEventId": "e4fc47c8-ea2b-4e81-b947-5af3bf212515",
     "hasError": false,
     "id": "c574d68a-dec0-4b51-a9e3-a30c241b1753",
     "outputs": [
      {
       "name": "stdout",
       "output_type": "stream",
       "text": ">SRR306752.27035 Ibis_Run090629:7:1:313:423/1 translation_frame: 3\nIAILTGDFPSLEP\n>SRR306752.27035 Ibis_Run090629:7:1:313:423/1 translation_frame: -1\nWFKGWKVTRKDGN\n>SRR306752.27035 Ibis_Run090629:7:1:313:423/1 translation_frame: -2\nGSRDGKSPVRMAM\n>SRR306752.32778 Ibis_Run090629:7:1:381:125/1 translation_frame: 3\nLALSSINTTVSTITFSILFLLT\n>SRR306752.32778 Ibis_Run090629:7:1:381:125/1 translation_frame: -2\nVRRNRIENVMVETVVLIDDRAK\n"
      }
     ],
     "persistentId": "75cb3c6d-d439-4088-9e9f-2b245cf24bd9",
     "text": "! head SRR306752_GSM752603_mdo_kd_M_1_trimmed__coding_reads_peptides.fasta > test.fasta\n! cat test.fasta"
    },
    "executionTime": "2019-11-05T17:47:57.333Z"
   },
   {
    "cell": {
     "executionCount": 7,
     "executionEventId": "a2a4cfab-a4f4-4d48-846a-0735c38a3f65",
     "hasError": false,
     "id": "a5d9a47e-093d-42f5-a94d-f9feb49a32d1",
     "outputs": [],
     "persistentId": "ade12d03-fa5f-4697-9e8f-2bb19d9105e9",
     "text": "# fasta_string = '''>SRR306752.27035 Ibis_Run090629:7:1:313:423/1 translation_frame: 3\n# IAILTGDFPSLEP\n# >SRR306752.27035 Ibis_Run090629:7:1:313:423/1 translation_frame: -1\n# WFKGWKVTRKDGN\n# >SRR306752.27035 Ibis_Run090629:7:1:313:423/1 translation_frame: -2\n# GSRDGKSPVRMAM\n# >SRR306752.32778 Ibis_Run090629:7:1:381:125/1 translation_frame: 3\n# LALSSINTTVSTITFSILFLLT\n# >SRR306752.32778 Ibis_Run090629:7:1:381:125/1 translation_frame: -2\n# VRRNRIENVMVETVVLIDDRAK'''\n# result_handle = NCBIWWW.qblast(\"tblastn\", \"nt\", fasta_string)"
    },
    "executionTime": "2019-11-05T17:50:00.319Z"
   },
   {
    "cell": {
     "executionCount": 8,
     "executionEventId": "3407f55f-d262-4a6a-bd5b-2ebbdbde18e1",
     "hasError": true,
     "id": "bcc7e810-bb35-41c6-87b9-2a2f9ed53dbe",
     "outputs": [
      {
       "ename": "SyntaxError",
       "evalue": "invalid syntax (<ipython-input-8-fcc02e305f12>, line 1)",
       "output_type": "error",
       "traceback": [
        "\u001b[0;36m  File \u001b[0;32m\"<ipython-input-8-fcc02e305f12>\"\u001b[0;36m, line \u001b[0;32m1\u001b[0m\n\u001b[0;31m    for line in result_handle\u001b[0m\n\u001b[0m                             ^\u001b[0m\n\u001b[0;31mSyntaxError\u001b[0m\u001b[0;31m:\u001b[0m invalid syntax\n"
       ]
      }
     ],
     "persistentId": "3daa7e84-95f4-4efa-b4a1-0128fd9d2e8a",
     "text": "for line in result_handle"
    },
    "executionTime": "2019-11-05T17:50:00.327Z"
   },
   {
    "cell": {
     "executionCount": 9,
     "executionEventId": "5c185ce1-f14a-443f-9c19-c038acea468f",
     "hasError": false,
     "id": "8bcbd605-9fb9-483a-b4c1-7246516bd316",
     "outputs": [],
     "persistentId": "d8f7cdb9-e57c-49dd-a023-1f030954ae4e",
     "text": "csv = 'SRR306752_GSM752603_mdo_kd_M_1_trimmed__coding_scores.csv'"
    },
    "executionTime": "2019-11-05T17:50:09.703Z"
   },
   {
    "cell": {
     "executionCount": 10,
     "executionEventId": "c2a544d5-9523-4413-b4a8-bacdb352f4f5",
     "hasError": false,
     "id": "206e991c-4712-4996-bf09-672dcdcf4a19",
     "outputs": [
      {
       "name": "stdout",
       "output_type": "stream",
       "text": "read_id,jaccard_in_peptide_db,n_kmers,classification,filename\nSRR306752.24755 Ibis_Run090629:7:1:286:693/1,,,All translations shorter than peptide k-mer size + 1,SRR306752_GSM752603_mdo_kd_M_1_trimmed.fq.gz\nSRR306752.26212 Ibis_Run090629:7:1:304:224/1,,,All translations shorter than peptide k-mer size + 1,SRR306752_GSM752603_mdo_kd_M_1_trimmed.fq.gz\nSRR306752.27035 Ibis_Run090629:7:1:313:423/1,1.0,3.0,Coding,SRR306752_GSM752603_mdo_kd_M_1_trimmed.fq.gz\nSRR306752.31741 Ibis_Run090629:7:1:369:831/1,,,All translations shorter than peptide k-mer size + 1,SRR306752_GSM752603_mdo_kd_M_1_trimmed.fq.gz\nSRR306752.32553 Ibis_Run090629:7:1:378:170/1,0.1,10.0,Non-coding,SRR306752_GSM752603_mdo_kd_M_1_trimmed.fq.gz\nSRR306752.32778 Ibis_Run090629:7:1:381:125/1,0.8333333333333334,12.0,Coding,SRR306752_GSM752603_mdo_kd_M_1_trimmed.fq.gz\nSRR306752.33021 Ibis_Run090629:7:1:384:223/1,0.8333333333333334,12.0,Coding,SRR306752_GSM752603_mdo_kd_M_1_trimmed.fq.gz\nSRR306752.33073 Ibis_Run090629:7:1:385:523/1,0.1111111111111111,9.0,Non-coding,SRR306752_GSM752603_mdo_kd_M_1_trimmed.fq.gz\nSRR306752.33108 Ibis_Run090629:7:1:385:155/1,,,All translations shorter than peptide k-mer size + 1,SRR306752_GSM752603_mdo_kd_M_1_trimmed.fq.gz\n"
      }
     ],
     "persistentId": "ceb49264-f761-4130-8f7e-8e8dadf88f1b",
     "text": "! head $csv"
    },
    "executionTime": "2019-11-05T17:50:10.149Z"
   },
   {
    "cell": {
     "executionCount": 11,
     "executionEventId": "0f5b2833-e51e-47d7-90ed-2123d75a801e",
     "hasError": false,
     "id": "be3ad657-c08e-4484-8f50-a0783943de32",
     "outputs": [
      {
       "name": "stdout",
       "output_type": "stream",
       "text": "SRR306752.27035 Ibis_Run090629:7:1:313:423/1,1.0,3.0,Coding,SRR306752_GSM752603_mdo_kd_M_1_trimmed.fq.gz\n"
      }
     ],
     "persistentId": "38b3d02d-f791-4acf-b4ce-e24cde81d043",
     "text": "read_id = 'SRR306752.27035 Ibis_Run090629:7:1:313:423/1'\n! grep \"$read_id\" $csv"
    },
    "executionTime": "2019-11-05T17:50:10.958Z"
   },
   {
    "cell": {
     "executionCount": 12,
     "executionEventId": "0cb212fa-a8e1-455f-a28f-7c3a813f70c4",
     "hasError": false,
     "id": "9cf3120c-9dc6-4087-bbec-7bcd6d12ae5d",
     "outputs": [],
     "persistentId": "062df609-79fc-44c0-b4ed-0a4693b23764",
     "text": "single_end_folder = '/home/olga/data_lg/kmer-hashing/brawand2011/nfcore-rnaseq-single-end/allspecies/trim_galore'"
    },
    "executionTime": "2019-11-05T17:50:10.990Z"
   },
   {
    "cell": {
     "executionCount": 13,
     "executionEventId": "9007ad4e-6653-4d20-add8-98a5a369dbb0",
     "hasError": false,
     "id": "bd627169-b1bd-4739-abfa-a0a03a712fd1",
     "outputs": [
      {
       "name": "stdout",
       "output_type": "stream",
       "text": "@SRR306752.27035 Ibis_Run090629:7:1:313:423/1\nGCATTGCCATCCTTACGGGTGACTTTCCATCCCTTGAACCA\n+\n44867167967675;84.2439987584<45666423;779\n"
      }
     ],
     "persistentId": "e8daa7ae-db21-489d-ba20-695fb470fad5",
     "text": "! zgrep -A 3 \"$read_id\" $single_end_folder/SRR306752_GSM752603_mdo_kd_M_1_trimmed*"
    },
    "executionTime": "2019-11-05T17:50:15.776Z"
   },
   {
    "cell": {
     "executionCount": 14,
     "executionEventId": "116c7ec0-adbd-467d-87a0-fe1ad263b157",
     "hasError": false,
     "id": "407d9f68-555c-4694-b2a1-6ad8c47de17a",
     "outputs": [],
     "persistentId": "890aeff6-597c-494a-ac11-e03fa639c740",
     "text": "outdir = '/home/olga/data_lg/kmer-hashing/brawand2011/kmermaid/results_dayhoff11_extract_coding_jaccard_threshold05'\npeptide_bloom_filter = load_nodegraph(f\"{outdir}/bloom_filter/Homo_sapiens__molecule-dayhoff_ksize-11.bloomfilter\")"
    },
    "executionTime": "2019-11-05T17:50:15.859Z"
   },
   {
    "cell": {
     "executionCount": 15,
     "executionEventId": "3a0fc46f-1f94-4ebe-88b2-e561dfb87afa",
     "hasError": false,
     "id": "a8da298b-569f-4279-8ca3-f74076232221",
     "outputs": [
      {
       "data": {
        "text/plain": "(1.0, 3)"
       },
       "execution_count": 15,
       "metadata": {},
       "output_type": "execute_result"
      }
     ],
     "persistentId": "ccfa0fbd-3315-48d1-be82-c6f0b24b1046",
     "text": "molecule = 'dayhoff'\npeptide_ksize = 11\n\nscore_single_translation('IAILTGDFPSLEP', peptide_bloom_filter, peptide_ksize=peptide_ksize, molecule=molecule)"
    },
    "executionTime": "2019-11-05T17:50:16.032Z"
   },
   {
    "cell": {
     "executionCount": 16,
     "executionEventId": "8b50e1bf-2a10-491c-b0b3-0f84fa0c3de4",
     "hasError": false,
     "id": "94cf1240-6b08-426f-8290-c1fd7cbeb7f8",
     "outputs": [
      {
       "data": {
        "text/plain": "(1.0, 3)"
       },
       "execution_count": 16,
       "metadata": {},
       "output_type": "execute_result"
      }
     ],
     "persistentId": "4b082fd2-0d93-47c3-8baf-25c92b8bca6e",
     "text": "score_single_translation('WFKGWKVTRKDGN', peptide_bloom_filter, peptide_ksize=peptide_ksize, molecule=molecule)"
    },
    "executionTime": "2019-11-05T17:50:16.055Z"
   },
   {
    "cell": {
     "executionCount": 17,
     "executionEventId": "30febe31-420b-483a-8f32-8510782a6d62",
     "hasError": false,
     "id": "cde33037-416b-4759-a5e0-b80f4ad29f02",
     "outputs": [
      {
       "data": {
        "text/plain": "(1.0, 3)"
       },
       "execution_count": 17,
       "metadata": {},
       "output_type": "execute_result"
      }
     ],
     "persistentId": "83a6373e-ac94-4228-8830-3c2844fcc4c2",
     "text": "score_single_translation('GSRDGKSPVRMAM', peptide_bloom_filter, peptide_ksize=peptide_ksize, molecule=molecule)"
    },
    "executionTime": "2019-11-05T17:50:16.071Z"
   },
   {
    "cell": {
     "executionCount": 18,
     "executionEventId": "77e4e603-867e-4a45-9f4b-6eb45f2525bc",
     "hasError": false,
     "id": "64e6ee87-255f-4633-b49b-71ecffde6287",
     "outputs": [
      {
       "name": "stderr",
       "output_type": "stream",
       "text": "110048it [00:21, 5107.38it/s]\n"
      },
      {
       "data": {
        "text/plain": "7850417"
       },
       "execution_count": 18,
       "metadata": {},
       "output_type": "execute_result"
      }
     ],
     "persistentId": "40a1d5e2-043d-4fce-acb5-1a1b3a588965",
     "text": "peptide_fasta = '/home/olga/data_lg/czbiohub-reference/ensembl/release-97/fasta/homo_sapiens/pep/Homo_sapiens.GRCh38.pep.all.fa.gz'\n\nall_peptide_kmers = make_peptide_set(peptide_fasta, peptide_ksize, molecule)\nlen(all_peptide_kmers)"
    },
    "executionTime": "2019-11-05T17:50:37.684Z"
   },
   {
    "cell": {
     "executionCount": 19,
     "executionEventId": "b86243b5-bbb5-4e60-bc4d-3761ed33100f",
     "hasError": false,
     "id": "71b768cd-c503-40e7-9d28-0a064a01b04b",
     "outputs": [
      {
       "name": "stdout",
       "output_type": "stream",
       "text": "\n--- SRR306752.27035 Ibis_Run090629:7:1:313:423/1 translation_frame: 3 ---\nIAILTGDFPSLEP\n> <ipython-input-19-1c16947bbdcf>(10)score_single_translation_from_set()\n-> n_kmers_in_peptide_db = len(kmers_in_peptide_db)\n"
      },
      {
       "name": "stdin",
       "output_type": "stream",
       "text": "(Pdb)  dir()\n"
      },
      {
       "name": "stdout",
       "output_type": "stream",
       "text": "['encoded', 'kmers', 'kmers_in_peptide_db', 'molecule', 'pdb', 'peptide_kmer_set', 'peptide_ksize', 'translation', 'verbose']\n"
      },
      {
       "name": "stdin",
       "output_type": "stream",
       "text": "(Pdb)  kmers\n"
      },
      {
       "name": "stdout",
       "output_type": "stream",
       "text": "{'eebbcfbbecb', 'ebeebbcfbbe', 'beebbcfbbec'}\n"
      },
      {
       "name": "stdin",
       "output_type": "stream",
       "text": "(Pdb)  c\n"
      },
      {
       "name": "stdout",
       "output_type": "stream",
       "text": "fraction_in_peptide_db: 1.0\nn_kmers: 3\n\n--- SRR306752.27035 Ibis_Run090629:7:1:313:423/1 translation_frame: -1 ---\nWFKGWKVTRKDGN\n> <ipython-input-19-1c16947bbdcf>(10)score_single_translation_from_set()\n-> n_kmers_in_peptide_db = len(kmers_in_peptide_db)\n"
      },
      {
       "name": "stdin",
       "output_type": "stream",
       "text": "(Pdb)  c\n"
      },
      {
       "name": "stdout",
       "output_type": "stream",
       "text": "fraction_in_peptide_db: 1.0\nn_kmers: 3\n\n--- SRR306752.27035 Ibis_Run090629:7:1:313:423/1 translation_frame: -2 ---\nGSRDGKSPVRMAM\n> <ipython-input-19-1c16947bbdcf>(10)score_single_translation_from_set()\n-> n_kmers_in_peptide_db = len(kmers_in_peptide_db)\n"
      },
      {
       "name": "stdin",
       "output_type": "stream",
       "text": "(Pdb)  c\n"
      },
      {
       "name": "stdout",
       "output_type": "stream",
       "text": "fraction_in_peptide_db: 1.0\nn_kmers: 3\n\n--- SRR306752.32778 Ibis_Run090629:7:1:381:125/1 translation_frame: 3 ---\nLALSSINTTVSTITFSILFLLT\n> <ipython-input-19-1c16947bbdcf>(10)score_single_translation_from_set()\n-> n_kmers_in_peptide_db = len(kmers_in_peptide_db)\n"
      },
      {
       "name": "stdin",
       "output_type": "stream",
       "text": "(Pdb)  c\n"
      },
      {
       "name": "stdout",
       "output_type": "stream",
       "text": "fraction_in_peptide_db: 0.8333333333333334\nn_kmers: 12\n\n--- SRR306752.32778 Ibis_Run090629:7:1:381:125/1 translation_frame: -2 ---\nVRRNRIENVMVETVVLIDDRAK\n> <ipython-input-19-1c16947bbdcf>(10)score_single_translation_from_set()\n-> n_kmers_in_peptide_db = len(kmers_in_peptide_db)\n"
      },
      {
       "name": "stdin",
       "output_type": "stream",
       "text": "(Pdb)  c\n"
      },
      {
       "name": "stdout",
       "output_type": "stream",
       "text": "fraction_in_peptide_db: 0.5833333333333334\nn_kmers: 12\n"
      }
     ],
     "persistentId": "929b3bae-4d5a-45b3-bcaf-925de1e25a76",
     "text": "def score_single_translation_from_set(translation,\n                             peptide_kmer_set,\n                             peptide_ksize,\n                             molecule='protein',\n                             verbose=True):\n    encoded = encode_peptide(translation, molecule)\n    kmers = kmerize(str(encoded), peptide_ksize)\n    kmers_in_peptide_db = peptide_kmer_set.intersection(kmers)\n    import pdb ; pdb.set_trace()\n    n_kmers_in_peptide_db = len(kmers_in_peptide_db)\n    \n    n_kmers = len(kmers)\n\n    if verbose > 1:\n        click.echo(f\"\\ttranslation: \\t{encoded}\", err=True)\n        click.echo(\"\\tkmers:\", ' '.join(kmers), err=True)\n\n    if verbose > 1:\n        kmers_in_peptide_db = {(k, h): peptide_bloom_filter.get(h)\n                               for k, h in zip(kmers, hashes)}\n        # Print keys (kmers) only\n        click.echo(f\"\\tK-mers in peptide database:\", err=True)\n        click.echo(kmers_in_peptide_db, err=True)\n\n    fraction_in_peptide_db = n_kmers_in_peptide_db / n_kmers\n\n    return fraction_in_peptide_db, n_kmers\n\n\nfor record in screed.open('test.fasta'):\n    name = record['name']\n    print(f'\\n--- {name} ---')\n    seq = record['sequence']\n    print(seq)\n    fraction_in_peptide_db, n_kmers = score_single_translation_from_set(seq, all_peptide_kmers, \n                                                                      peptide_ksize=peptide_ksize,\n                                                                      molecule=molecule)\n    print(f'fraction_in_peptide_db: {fraction_in_peptide_db}')\n    print(f'n_kmers: {n_kmers}')"
    },
    "executionTime": "2019-11-05T17:53:08.346Z"
   },
   {
    "cell": {
     "executionCount": 20,
     "executionEventId": "03f0b979-bda1-43bb-8acd-90a4b15d194f",
     "hasError": false,
     "id": "71b768cd-c503-40e7-9d28-0a064a01b04b",
     "outputs": [
      {
       "name": "stdout",
       "output_type": "stream",
       "text": "\n--- SRR306752.27035 Ibis_Run090629:7:1:313:423/1 translation_frame: 3 ---\nIAILTGDFPSLEP\nfraction_in_peptide_db: 1.0\nn_kmers: 3\n\n--- SRR306752.27035 Ibis_Run090629:7:1:313:423/1 translation_frame: -1 ---\nWFKGWKVTRKDGN\nfraction_in_peptide_db: 1.0\nn_kmers: 3\n\n--- SRR306752.27035 Ibis_Run090629:7:1:313:423/1 translation_frame: -2 ---\nGSRDGKSPVRMAM\nfraction_in_peptide_db: 1.0\nn_kmers: 3\n\n--- SRR306752.32778 Ibis_Run090629:7:1:381:125/1 translation_frame: 3 ---\nLALSSINTTVSTITFSILFLLT\nfraction_in_peptide_db: 0.8333333333333334\nn_kmers: 12\n\n--- SRR306752.32778 Ibis_Run090629:7:1:381:125/1 translation_frame: -2 ---\nVRRNRIENVMVETVVLIDDRAK\nfraction_in_peptide_db: 0.5833333333333334\nn_kmers: 12\n"
      }
     ],
     "persistentId": "929b3bae-4d5a-45b3-bcaf-925de1e25a76",
     "text": "def score_single_translation_from_set(translation,\n                             peptide_kmer_set,\n                             peptide_ksize,\n                             molecule='protein',\n                             verbose=True):\n    encoded = encode_peptide(translation, molecule)\n    kmers = kmerize(str(encoded), peptide_ksize)\n    kmers_in_peptide_db = peptide_kmer_set.intersection(kmers)\n#     import pdb ; pdb.set_trace()\n    n_kmers_in_peptide_db = len(kmers_in_peptide_db)\n    \n    n_kmers = len(kmers)\n\n    if verbose > 1:\n        click.echo(f\"\\ttranslation: \\t{encoded}\", err=True)\n        click.echo(\"\\tkmers:\", ' '.join(kmers), err=True)\n\n    if verbose > 1:\n        kmers_in_peptide_db = {(k, h): peptide_bloom_filter.get(h)\n                               for k, h in zip(kmers, hashes)}\n        # Print keys (kmers) only\n        click.echo(f\"\\tK-mers in peptide database:\", err=True)\n        click.echo(kmers_in_peptide_db, err=True)\n\n    fraction_in_peptide_db = n_kmers_in_peptide_db / n_kmers\n\n    return fraction_in_peptide_db, n_kmers\n\n\nfor record in screed.open('test.fasta'):\n    name = record['name']\n    print(f'\\n--- {name} ---')\n    seq = record['sequence']\n    print(seq)\n    fraction_in_peptide_db, n_kmers = score_single_translation_from_set(seq, all_peptide_kmers, \n                                                                      peptide_ksize=peptide_ksize,\n                                                                      molecule=molecule)\n    print(f'fraction_in_peptide_db: {fraction_in_peptide_db}')\n    print(f'n_kmers: {n_kmers}')"
    },
    "executionTime": "2019-11-05T17:53:22.288Z"
   },
   {
    "cell": {
     "executionCount": 21,
     "executionEventId": "43d31a28-6a37-4a49-87a1-e3defdcab2cd",
     "hasError": false,
     "id": "71b768cd-c503-40e7-9d28-0a064a01b04b",
     "outputs": [
      {
       "name": "stdout",
       "output_type": "stream",
       "text": "\n--- SRR306752.27035 Ibis_Run090629:7:1:313:423/1 translation_frame: 3 ---\nIAILTGDFPSLEP\nfraction_in_peptide_db: 1.0\nn_kmers: 3\n\n--- SRR306752.27035 Ibis_Run090629:7:1:313:423/1 translation_frame: -1 ---\nWFKGWKVTRKDGN\nfraction_in_peptide_db: 1.0\nn_kmers: 3\n\n--- SRR306752.27035 Ibis_Run090629:7:1:313:423/1 translation_frame: -2 ---\nGSRDGKSPVRMAM\nfraction_in_peptide_db: 1.0\nn_kmers: 3\n\n--- SRR306752.32778 Ibis_Run090629:7:1:381:125/1 translation_frame: 3 ---\nLALSSINTTVSTITFSILFLLT\nfraction_in_peptide_db: 0.8333333333333334\nn_kmers: 12\n\n--- SRR306752.32778 Ibis_Run090629:7:1:381:125/1 translation_frame: -2 ---\nVRRNRIENVMVETVVLIDDRAK\nfraction_in_peptide_db: 0.5833333333333334\nn_kmers: 12\n"
      }
     ],
     "persistentId": "929b3bae-4d5a-45b3-bcaf-925de1e25a76",
     "text": "def score_single_translation_from_set(translation,\n                             peptide_kmer_set,\n                             peptide_ksize,\n                             molecule='protein',\n                             verbose=True):\n    encoded = encode_peptide(translation, molecule)\n    kmers = kmerize(str(encoded), peptide_ksize)\n    kmers_in_peptide_db = peptide_kmer_set.intersection(kmers)\n#     import pdb ; pdb.set_trace()\n    n_kmers_in_peptide_db = len(kmers_in_peptide_db)\n    \n    n_kmers = len(kmers)\n\n    if verbose > 1:\n        print(f\"\\ttranslation: \\t{encoded}\", err=True)\n        print(\"\\tkmers:\", ' '.join(kmers), err=True)\n\n    if verbose > 1:\n        kmers_in_peptide_db = {(k, h): peptide_bloom_filter.get(h)\n                               for k, h in zip(kmers, hashes)}\n        # Print keys (kmers) only\n        print(f\"\\tK-mers in peptide database:\", err=True)\n        print(kmers_in_peptide_db, err=True)\n\n    fraction_in_peptide_db = n_kmers_in_peptide_db / n_kmers\n\n    return fraction_in_peptide_db, n_kmers\n\n\nfor record in screed.open('test.fasta'):\n    name = record['name']\n    print(f'\\n--- {name} ---')\n    seq = record['sequence']\n    print(seq)\n    fraction_in_peptide_db, n_kmers = score_single_translation_from_set(seq, all_peptide_kmers, \n                                                                      peptide_ksize=peptide_ksize,\n                                                                      molecule=molecule)\n    print(f'fraction_in_peptide_db: {fraction_in_peptide_db}')\n    print(f'n_kmers: {n_kmers}')"
    },
    "executionTime": "2019-11-05T18:29:28.644Z"
   },
   {
    "cell": {
     "executionCount": 22,
     "executionEventId": "fef0fb28-21f9-412d-a621-0de0752d76fe",
     "hasError": false,
     "id": "71b768cd-c503-40e7-9d28-0a064a01b04b",
     "outputs": [
      {
       "name": "stdout",
       "output_type": "stream",
       "text": "\n--- SRR306752.27035 Ibis_Run090629:7:1:313:423/1 translation_frame: 3 ---\nIAILTGDFPSLEP\nfraction_in_peptide_db: 1.0\nn_kmers: 3\n\n--- SRR306752.27035 Ibis_Run090629:7:1:313:423/1 translation_frame: -1 ---\nWFKGWKVTRKDGN\nfraction_in_peptide_db: 1.0\nn_kmers: 3\n\n--- SRR306752.27035 Ibis_Run090629:7:1:313:423/1 translation_frame: -2 ---\nGSRDGKSPVRMAM\nfraction_in_peptide_db: 1.0\nn_kmers: 3\n\n--- SRR306752.32778 Ibis_Run090629:7:1:381:125/1 translation_frame: 3 ---\nLALSSINTTVSTITFSILFLLT\nfraction_in_peptide_db: 0.8333333333333334\nn_kmers: 12\n\n--- SRR306752.32778 Ibis_Run090629:7:1:381:125/1 translation_frame: -2 ---\nVRRNRIENVMVETVVLIDDRAK\nfraction_in_peptide_db: 0.5833333333333334\nn_kmers: 12\n"
      }
     ],
     "persistentId": "929b3bae-4d5a-45b3-bcaf-925de1e25a76",
     "text": "def score_single_translation_from_set(translation,\n                             peptide_kmer_set,\n                             peptide_ksize,\n                             molecule='protein',\n                             verbose=True):\n    encoded = encode_peptide(translation, molecule)\n    kmers = kmerize(str(encoded), peptide_ksize)\n    kmers_in_peptide_db = peptide_kmer_set.intersection(kmers)\n#     import pdb ; pdb.set_trace()\n    n_kmers_in_peptide_db = len(kmers_in_peptide_db)\n    \n    n_kmers = len(kmers)\n\n    if verbose > 1:\n        print(f\"\\ttranslation: \\t{encoded}\", err=True)\n        print(\"\\tkmers:\", ' '.join(kmers), err=True)\n\n    if verbose > 1:\n        kmers_in_peptide_db = {(k, h): peptide_bloom_filter.get(h)\n                               for k, h in zip(kmers, hashes)}\n        # Print keys (kmers) only\n        print(f\"\\tK-mers in peptide database:\", err=True)\n        print(kmers_in_peptide_db, err=True)\n\n    fraction_in_peptide_db = n_kmers_in_peptide_db / n_kmers\n\n    return fraction_in_peptide_db, n_kmers\n\n\nfor record in screed.open('test.fasta'):\n    name = record['name']\n    print(f'\\n--- {name} ---')\n    seq = record['sequence']\n    print(seq)\n    fraction_in_peptide_db, n_kmers = score_single_translation_from_set(seq, all_peptide_kmers, \n                                                                      peptide_ksize=peptide_ksize,\n                                                                      molecule=molecule, verbose=True)\n    print(f'fraction_in_peptide_db: {fraction_in_peptide_db}')\n    print(f'n_kmers: {n_kmers}')"
    },
    "executionTime": "2019-11-05T18:29:34.000Z"
   },
   {
    "cell": {
     "executionCount": 23,
     "executionEventId": "d51a523e-9347-4def-96f8-bc66486c4482",
     "hasError": true,
     "id": "71b768cd-c503-40e7-9d28-0a064a01b04b",
     "outputs": [
      {
       "name": "stdout",
       "output_type": "stream",
       "text": "\n--- SRR306752.27035 Ibis_Run090629:7:1:313:423/1 translation_frame: 3 ---\nIAILTGDFPSLEP\n"
      },
      {
       "ename": "TypeError",
       "evalue": "'err' is an invalid keyword argument for this function",
       "output_type": "error",
       "traceback": [
        "\u001b[0;31m---------------------------------------------------------------------------\u001b[0m",
        "\u001b[0;31mTypeError\u001b[0m                                 Traceback (most recent call last)",
        "\u001b[0;32m<ipython-input-23-b54f44345bb7>\u001b[0m in \u001b[0;36m<module>\u001b[0;34m()\u001b[0m\n\u001b[1;32m     35\u001b[0m     fraction_in_peptide_db, n_kmers = score_single_translation_from_set(seq, all_peptide_kmers, \n\u001b[1;32m     36\u001b[0m                                                                       \u001b[0mpeptide_ksize\u001b[0m\u001b[0;34m=\u001b[0m\u001b[0mpeptide_ksize\u001b[0m\u001b[0;34m,\u001b[0m\u001b[0;34m\u001b[0m\u001b[0;34m\u001b[0m\u001b[0m\n\u001b[0;32m---> 37\u001b[0;31m                                                                       molecule=molecule, verbose=2)\n\u001b[0m\u001b[1;32m     38\u001b[0m     \u001b[0mprint\u001b[0m\u001b[0;34m(\u001b[0m\u001b[0;34mf'fraction_in_peptide_db: {fraction_in_peptide_db}'\u001b[0m\u001b[0;34m)\u001b[0m\u001b[0;34m\u001b[0m\u001b[0;34m\u001b[0m\u001b[0m\n\u001b[1;32m     39\u001b[0m     \u001b[0mprint\u001b[0m\u001b[0;34m(\u001b[0m\u001b[0;34mf'n_kmers: {n_kmers}'\u001b[0m\u001b[0;34m)\u001b[0m\u001b[0;34m\u001b[0m\u001b[0;34m\u001b[0m\u001b[0m\n",
        "\u001b[0;32m<ipython-input-23-b54f44345bb7>\u001b[0m in \u001b[0;36mscore_single_translation_from_set\u001b[0;34m(translation, peptide_kmer_set, peptide_ksize, molecule, verbose)\u001b[0m\n\u001b[1;32m     13\u001b[0m \u001b[0;34m\u001b[0m\u001b[0m\n\u001b[1;32m     14\u001b[0m     \u001b[0;32mif\u001b[0m \u001b[0mverbose\u001b[0m \u001b[0;34m>\u001b[0m \u001b[0;36m1\u001b[0m\u001b[0;34m:\u001b[0m\u001b[0;34m\u001b[0m\u001b[0;34m\u001b[0m\u001b[0m\n\u001b[0;32m---> 15\u001b[0;31m         \u001b[0mprint\u001b[0m\u001b[0;34m(\u001b[0m\u001b[0;34mf\"\\ttranslation: \\t{encoded}\"\u001b[0m\u001b[0;34m,\u001b[0m \u001b[0merr\u001b[0m\u001b[0;34m=\u001b[0m\u001b[0;32mTrue\u001b[0m\u001b[0;34m)\u001b[0m\u001b[0;34m\u001b[0m\u001b[0;34m\u001b[0m\u001b[0m\n\u001b[0m\u001b[1;32m     16\u001b[0m         \u001b[0mprint\u001b[0m\u001b[0;34m(\u001b[0m\u001b[0;34m\"\\tkmers:\"\u001b[0m\u001b[0;34m,\u001b[0m \u001b[0;34m' '\u001b[0m\u001b[0;34m.\u001b[0m\u001b[0mjoin\u001b[0m\u001b[0;34m(\u001b[0m\u001b[0mkmers\u001b[0m\u001b[0;34m)\u001b[0m\u001b[0;34m,\u001b[0m \u001b[0merr\u001b[0m\u001b[0;34m=\u001b[0m\u001b[0;32mTrue\u001b[0m\u001b[0;34m)\u001b[0m\u001b[0;34m\u001b[0m\u001b[0;34m\u001b[0m\u001b[0m\n\u001b[1;32m     17\u001b[0m \u001b[0;34m\u001b[0m\u001b[0m\n",
        "\u001b[0;31mTypeError\u001b[0m: 'err' is an invalid keyword argument for this function"
       ]
      }
     ],
     "persistentId": "929b3bae-4d5a-45b3-bcaf-925de1e25a76",
     "text": "def score_single_translation_from_set(translation,\n                             peptide_kmer_set,\n                             peptide_ksize,\n                             molecule='protein',\n                             verbose=True):\n    encoded = encode_peptide(translation, molecule)\n    kmers = kmerize(str(encoded), peptide_ksize)\n    kmers_in_peptide_db = peptide_kmer_set.intersection(kmers)\n#     import pdb ; pdb.set_trace()\n    n_kmers_in_peptide_db = len(kmers_in_peptide_db)\n    \n    n_kmers = len(kmers)\n\n    if verbose > 1:\n        print(f\"\\ttranslation: \\t{encoded}\", err=True)\n        print(\"\\tkmers:\", ' '.join(kmers), err=True)\n\n    if verbose > 1:\n        kmers_in_peptide_db = {(k, h): peptide_bloom_filter.get(h)\n                               for k, h in zip(kmers, hashes)}\n        # Print keys (kmers) only\n        print(f\"\\tK-mers in peptide database:\", err=True)\n        print(kmers_in_peptide_db, err=True)\n\n    fraction_in_peptide_db = n_kmers_in_peptide_db / n_kmers\n\n    return fraction_in_peptide_db, n_kmers\n\n\nfor record in screed.open('test.fasta'):\n    name = record['name']\n    print(f'\\n--- {name} ---')\n    seq = record['sequence']\n    print(seq)\n    fraction_in_peptide_db, n_kmers = score_single_translation_from_set(seq, all_peptide_kmers, \n                                                                      peptide_ksize=peptide_ksize,\n                                                                      molecule=molecule, verbose=2)\n    print(f'fraction_in_peptide_db: {fraction_in_peptide_db}')\n    print(f'n_kmers: {n_kmers}')"
    },
    "executionTime": "2019-11-05T18:29:41.543Z"
   },
   {
    "cell": {
     "executionCount": 24,
     "executionEventId": "9f4a3a09-4ef8-4b03-a395-b45b4234b90f",
     "hasError": true,
     "id": "71b768cd-c503-40e7-9d28-0a064a01b04b",
     "outputs": [
      {
       "name": "stdout",
       "output_type": "stream",
       "text": "\n--- SRR306752.27035 Ibis_Run090629:7:1:313:423/1 translation_frame: 3 ---\nIAILTGDFPSLEP\n\ttranslation: \tebeebbcfbbecb\n\tkmers: eebbcfbbecb ebeebbcfbbe beebbcfbbec\n"
      },
      {
       "ename": "NameError",
       "evalue": "name 'hashes' is not defined",
       "output_type": "error",
       "traceback": [
        "\u001b[0;31m---------------------------------------------------------------------------\u001b[0m",
        "\u001b[0;31mNameError\u001b[0m                                 Traceback (most recent call last)",
        "\u001b[0;32m<ipython-input-24-5550fc569ea9>\u001b[0m in \u001b[0;36m<module>\u001b[0;34m()\u001b[0m\n\u001b[1;32m     35\u001b[0m     fraction_in_peptide_db, n_kmers = score_single_translation_from_set(seq, all_peptide_kmers, \n\u001b[1;32m     36\u001b[0m                                                                       \u001b[0mpeptide_ksize\u001b[0m\u001b[0;34m=\u001b[0m\u001b[0mpeptide_ksize\u001b[0m\u001b[0;34m,\u001b[0m\u001b[0;34m\u001b[0m\u001b[0;34m\u001b[0m\u001b[0m\n\u001b[0;32m---> 37\u001b[0;31m                                                                       molecule=molecule, verbose=2)\n\u001b[0m\u001b[1;32m     38\u001b[0m     \u001b[0mprint\u001b[0m\u001b[0;34m(\u001b[0m\u001b[0;34mf'fraction_in_peptide_db: {fraction_in_peptide_db}'\u001b[0m\u001b[0;34m)\u001b[0m\u001b[0;34m\u001b[0m\u001b[0;34m\u001b[0m\u001b[0m\n\u001b[1;32m     39\u001b[0m     \u001b[0mprint\u001b[0m\u001b[0;34m(\u001b[0m\u001b[0;34mf'n_kmers: {n_kmers}'\u001b[0m\u001b[0;34m)\u001b[0m\u001b[0;34m\u001b[0m\u001b[0;34m\u001b[0m\u001b[0m\n",
        "\u001b[0;32m<ipython-input-24-5550fc569ea9>\u001b[0m in \u001b[0;36mscore_single_translation_from_set\u001b[0;34m(translation, peptide_kmer_set, peptide_ksize, molecule, verbose)\u001b[0m\n\u001b[1;32m     18\u001b[0m     \u001b[0;32mif\u001b[0m \u001b[0mverbose\u001b[0m \u001b[0;34m>\u001b[0m \u001b[0;36m1\u001b[0m\u001b[0;34m:\u001b[0m\u001b[0;34m\u001b[0m\u001b[0;34m\u001b[0m\u001b[0m\n\u001b[1;32m     19\u001b[0m         kmers_in_peptide_db = {(k, h): peptide_bloom_filter.get(h)\n\u001b[0;32m---> 20\u001b[0;31m                                for k, h in zip(kmers, hashes)}\n\u001b[0m\u001b[1;32m     21\u001b[0m         \u001b[0;31m# Print keys (kmers) only\u001b[0m\u001b[0;34m\u001b[0m\u001b[0;34m\u001b[0m\u001b[0;34m\u001b[0m\u001b[0m\n\u001b[1;32m     22\u001b[0m         \u001b[0mprint\u001b[0m\u001b[0;34m(\u001b[0m\u001b[0;34mf\"\\tK-mers in peptide database:\"\u001b[0m\u001b[0;34m)\u001b[0m\u001b[0;34m\u001b[0m\u001b[0;34m\u001b[0m\u001b[0m\n",
        "\u001b[0;31mNameError\u001b[0m: name 'hashes' is not defined"
       ]
      }
     ],
     "persistentId": "929b3bae-4d5a-45b3-bcaf-925de1e25a76",
     "text": "def score_single_translation_from_set(translation,\n                             peptide_kmer_set,\n                             peptide_ksize,\n                             molecule='protein',\n                             verbose=True):\n    encoded = encode_peptide(translation, molecule)\n    kmers = kmerize(str(encoded), peptide_ksize)\n    kmers_in_peptide_db = peptide_kmer_set.intersection(kmers)\n#     import pdb ; pdb.set_trace()\n    n_kmers_in_peptide_db = len(kmers_in_peptide_db)\n    \n    n_kmers = len(kmers)\n\n    if verbose > 1:\n        print(f\"\\ttranslation: \\t{encoded}\")\n        print(\"\\tkmers:\", ' '.join(kmers))\n\n    if verbose > 1:\n        kmers_in_peptide_db = {(k, h): peptide_bloom_filter.get(h)\n                               for k, h in zip(kmers, hashes)}\n        # Print keys (kmers) only\n        print(f\"\\tK-mers in peptide database:\")\n        print(kmers_in_peptide_db)\n\n    fraction_in_peptide_db = n_kmers_in_peptide_db / n_kmers\n\n    return fraction_in_peptide_db, n_kmers\n\n\nfor record in screed.open('test.fasta'):\n    name = record['name']\n    print(f'\\n--- {name} ---')\n    seq = record['sequence']\n    print(seq)\n    fraction_in_peptide_db, n_kmers = score_single_translation_from_set(seq, all_peptide_kmers, \n                                                                      peptide_ksize=peptide_ksize,\n                                                                      molecule=molecule, verbose=2)\n    print(f'fraction_in_peptide_db: {fraction_in_peptide_db}')\n    print(f'n_kmers: {n_kmers}')"
    },
    "executionTime": "2019-11-05T18:29:54.574Z"
   },
   {
    "cell": {
     "executionCount": 25,
     "executionEventId": "defb5e7b-a3a5-40b9-801b-5e572f280ec6",
     "hasError": false,
     "id": "71b768cd-c503-40e7-9d28-0a064a01b04b",
     "outputs": [
      {
       "name": "stdout",
       "output_type": "stream",
       "text": "\n--- SRR306752.27035 Ibis_Run090629:7:1:313:423/1 translation_frame: 3 ---\nIAILTGDFPSLEP\n\ttranslation: \tebeebbcfbbecb\n\tkmers: eebbcfbbecb ebeebbcfbbe beebbcfbbec\n\tK-mers in peptide database:\n{'eebbcfbbecb', 'ebeebbcfbbe', 'beebbcfbbec'}\nfraction_in_peptide_db: 1.0\nn_kmers: 3\n\n--- SRR306752.27035 Ibis_Run090629:7:1:313:423/1 translation_frame: -1 ---\nWFKGWKVTRKDGN\n\ttranslation: \tffdbfdebddcbc\n\tkmers: fdbfdebddcb ffdbfdebddc dbfdebddcbc\n\tK-mers in peptide database:\n{'fdbfdebddcb', 'dbfdebddcbc', 'ffdbfdebddc'}\nfraction_in_peptide_db: 1.0\nn_kmers: 3\n\n--- SRR306752.27035 Ibis_Run090629:7:1:313:423/1 translation_frame: -2 ---\nGSRDGKSPVRMAM\n\ttranslation: \tbbdcbdbbedebe\n\tkmers: dcbdbbedebe bdcbdbbedeb bbdcbdbbede\n\tK-mers in peptide database:\n{'dcbdbbedebe', 'bdcbdbbedeb', 'bbdcbdbbede'}\nfraction_in_peptide_db: 1.0\nn_kmers: 3\n\n--- SRR306752.32778 Ibis_Run090629:7:1:381:125/1 translation_frame: 3 ---\nLALSSINTTVSTITFSILFLLT\n\ttranslation: \tebebbecbbebbebfbeefeeb\n\tkmers: bbebfbeefee becbbebbebf cbbebbebfbe bbebbebfbee bebbecbbebb ebebbecbbeb ecbbebbebfb bebfbeefeeb ebbecbbebbe bbecbbebbeb bebbebfbeef ebbebfbeefe\n\tK-mers in peptide database:\n{'bbebfbeefee', 'becbbebbebf', 'cbbebbebfbe', 'bbebbebfbee', 'bebbecbbebb', 'ebebbecbbeb', 'ecbbebbebfb', 'bebfbeefeeb', 'ebbecbbebbe', 'bbecbbebbeb'}\nfraction_in_peptide_db: 0.8333333333333334\nn_kmers: 12\n\n--- SRR306752.32778 Ibis_Run090629:7:1:381:125/1 translation_frame: -2 ---\nVRRNRIENVMVETVVLIDDRAK\n\ttranslation: \teddcdecceeecbeeeeccdbd\n\tkmers: eeecbeeeecc eddcdecceee ecbeeeeccdb decceeecbee ceeecbeeeec cdecceeecbe ecceeecbeee cceeecbeeee dcdecceeecb ddcdecceeec cbeeeeccdbd eecbeeeeccd\n\tK-mers in peptide database:\n{'eeecbeeeecc', 'cdecceeecbe', 'ecceeecbeee', 'cceeecbeeee', 'dcdecceeecb', 'ddcdecceeec', 'cbeeeeccdbd'}\nfraction_in_peptide_db: 0.5833333333333334\nn_kmers: 12\n"
      }
     ],
     "persistentId": "929b3bae-4d5a-45b3-bcaf-925de1e25a76",
     "text": "def score_single_translation_from_set(translation,\n                             peptide_kmer_set,\n                             peptide_ksize,\n                             molecule='protein',\n                             verbose=True):\n    encoded = encode_peptide(translation, molecule)\n    kmers = kmerize(str(encoded), peptide_ksize)\n    kmers_in_peptide_db = peptide_kmer_set.intersection(kmers)\n#     import pdb ; pdb.set_trace()\n    n_kmers_in_peptide_db = len(kmers_in_peptide_db)\n    \n    n_kmers = len(kmers)\n\n    if verbose > 1:\n        print(f\"\\ttranslation: \\t{encoded}\")\n        print(\"\\tkmers:\", ' '.join(kmers))\n\n    if verbose > 1:\n        # Print keys (kmers) only\n        print(f\"\\tK-mers in peptide database:\")\n        print(kmers_in_peptide_db)\n\n    fraction_in_peptide_db = n_kmers_in_peptide_db / n_kmers\n\n    return fraction_in_peptide_db, n_kmers\n\n\nfor record in screed.open('test.fasta'):\n    name = record['name']\n    print(f'\\n--- {name} ---')\n    seq = record['sequence']\n    print(seq)\n    fraction_in_peptide_db, n_kmers = score_single_translation_from_set(seq, all_peptide_kmers, \n                                                                      peptide_ksize=peptide_ksize,\n                                                                      molecule=molecule, verbose=2)\n    print(f'fraction_in_peptide_db: {fraction_in_peptide_db}')\n    print(f'n_kmers: {n_kmers}')"
    },
    "executionTime": "2019-11-05T18:30:10.633Z"
   },
   {
    "cell": {
     "executionCount": 26,
     "executionEventId": "521d73c8-f089-4bdc-aacf-5bad77d3bf83",
     "hasError": false,
     "id": "2fe29e4e-9039-4fdb-aaf0-39b07bfe46ba",
     "outputs": [
      {
       "data": {
        "text/plain": "362797056"
       },
       "execution_count": 26,
       "metadata": {},
       "output_type": "execute_result"
      }
     ],
     "persistentId": "76cd6cf2-c1e2-44ac-a7f8-6f5f71d7dc2d",
     "text": "6**11"
    },
    "executionTime": "2019-11-05T18:31:40.835Z"
   },
   {
    "cell": {
     "executionCount": 27,
     "executionEventId": "ded5a5c0-555d-4d07-96e6-2f374ac74afb",
     "hasError": false,
     "id": "de27f0ca-f2c1-492e-8a05-f98471778670",
     "outputs": [
      {
       "data": {
        "text/plain": "7850417"
       },
       "execution_count": 27,
       "metadata": {},
       "output_type": "execute_result"
      }
     ],
     "persistentId": "eb77744d-87e3-44f5-9c88-19cf2e3c62b2",
     "text": "len(all_peptide_kmers)"
    },
    "executionTime": "2019-11-05T18:31:54.295Z"
   },
   {
    "cell": {
     "executionCount": 28,
     "executionEventId": "98dadc19-d3ad-43a2-9d32-1f474792da5d",
     "hasError": false,
     "id": "4b1f1f60-c332-4fef-a8e1-9c4bdcd2fd05",
     "outputs": [
      {
       "data": {
        "text/plain": "2.1638590694627906"
       },
       "execution_count": 28,
       "metadata": {},
       "output_type": "execute_result"
      }
     ],
     "persistentId": "2ec5e325-b7e4-43cb-a6c4-3a516af4bc4a",
     "text": "100*len(all_peptide_kmers)/6**11"
    },
    "executionTime": "2019-11-05T18:33:06.249Z"
   },
   {
    "cell": {
     "executionCount": 29,
     "executionEventId": "fb7481bf-b9c4-4b27-abf6-776878f538d1",
     "hasError": false,
     "id": "cde33037-416b-4759-a5e0-b80f4ad29f02",
     "outputs": [],
     "persistentId": "83a6373e-ac94-4228-8830-3c2844fcc4c2",
     "text": "# score_single_translation('GSRDGKSPVRMAM', peptide_bloom_filter, peptide_ksize=peptide_ksize, molecule=molecule)"
    },
    "executionTime": "2019-11-05T18:34:10.489Z"
   },
   {
    "cell": {
     "executionCount": 30,
     "executionEventId": "4543fe96-ae83-470e-8070-b5a27dcb5dd2",
     "hasError": false,
     "id": "a8da298b-569f-4279-8ca3-f74076232221",
     "outputs": [],
     "persistentId": "ccfa0fbd-3315-48d1-be82-c6f0b24b1046",
     "text": "molecule = 'dayhoff'\npeptide_ksize = 12\n\n# score_single_translation('IAILTGDFPSLEP', peptide_bloom_filter, peptide_ksize=peptide_ksize, molecule=molecule)"
    },
    "executionTime": "2019-11-05T18:34:11.885Z"
   },
   {
    "cell": {
     "executionCount": 31,
     "executionEventId": "81625e14-331f-4933-b246-e9107202839c",
     "hasError": false,
     "id": "94cf1240-6b08-426f-8290-c1fd7cbeb7f8",
     "outputs": [],
     "persistentId": "4b082fd2-0d93-47c3-8baf-25c92b8bca6e",
     "text": "\n# score_single_translation('WFKGWKVTRKDGN', peptide_bloom_filter, peptide_ksize=peptide_ksize, molecule=molecule)"
    },
    "executionTime": "2019-11-05T18:34:12.215Z"
   },
   {
    "cell": {
     "executionCount": 32,
     "executionEventId": "362e156a-485e-4a85-9791-4f1fa97fca11",
     "hasError": false,
     "id": "cde33037-416b-4759-a5e0-b80f4ad29f02",
     "outputs": [],
     "persistentId": "83a6373e-ac94-4228-8830-3c2844fcc4c2",
     "text": "# score_single_translation('GSRDGKSPVRMAM', peptide_bloom_filter, peptide_ksize=peptide_ksize, molecule=molecule)"
    },
    "executionTime": "2019-11-05T18:34:13.293Z"
   },
   {
    "cell": {
     "executionCount": 33,
     "executionEventId": "659370e1-f7d8-47ef-8d7a-da2639d05006",
     "hasError": false,
     "id": "64e6ee87-255f-4633-b49b-71ecffde6287",
     "outputs": [
      {
       "name": "stderr",
       "output_type": "stream",
       "text": "110048it [00:17, 6118.52it/s]\n"
      },
      {
       "data": {
        "text/plain": "9540952"
       },
       "execution_count": 33,
       "metadata": {},
       "output_type": "execute_result"
      }
     ],
     "persistentId": "40a1d5e2-043d-4fce-acb5-1a1b3a588965",
     "text": "peptide_fasta = '/home/olga/data_lg/czbiohub-reference/ensembl/release-97/fasta/homo_sapiens/pep/Homo_sapiens.GRCh38.pep.all.fa.gz'\n\nall_peptide_kmers = make_peptide_set(peptide_fasta, peptide_ksize, molecule)\nlen(all_peptide_kmers)"
    },
    "executionTime": "2019-11-05T18:34:33.476Z"
   },
   {
    "cell": {
     "executionCount": 34,
     "executionEventId": "42d313d9-8952-4396-a099-da453397270c",
     "hasError": false,
     "id": "71b768cd-c503-40e7-9d28-0a064a01b04b",
     "outputs": [
      {
       "name": "stdout",
       "output_type": "stream",
       "text": "\n--- SRR306752.27035 Ibis_Run090629:7:1:313:423/1 translation_frame: 3 ---\nIAILTGDFPSLEP\n\ttranslation: \tebeebbcfbbecb\n\tkmers: ebeebbcfbbec beebbcfbbecb\n\tK-mers in peptide database:\n{'beebbcfbbecb'}\nfraction_in_peptide_db: 0.5\nn_kmers: 2\n\n--- SRR306752.27035 Ibis_Run090629:7:1:313:423/1 translation_frame: -1 ---\nWFKGWKVTRKDGN\n\ttranslation: \tffdbfdebddcbc\n\tkmers: ffdbfdebddcb fdbfdebddcbc\n\tK-mers in peptide database:\n{'ffdbfdebddcb', 'fdbfdebddcbc'}\nfraction_in_peptide_db: 1.0\nn_kmers: 2\n\n--- SRR306752.27035 Ibis_Run090629:7:1:313:423/1 translation_frame: -2 ---\nGSRDGKSPVRMAM\n\ttranslation: \tbbdcbdbbedebe\n\tkmers: bbdcbdbbedeb bdcbdbbedebe\n\tK-mers in peptide database:\n{'bbdcbdbbedeb', 'bdcbdbbedebe'}\nfraction_in_peptide_db: 1.0\nn_kmers: 2\n\n--- SRR306752.32778 Ibis_Run090629:7:1:381:125/1 translation_frame: 3 ---\nLALSSINTTVSTITFSILFLLT\n\ttranslation: \tebebbecbbebbebfbeefeeb\n\tkmers: bebbecbbebbe bebbebfbeefe bbebfbeefeeb becbbebbebfb cbbebbebfbee ebebbecbbebb ecbbebbebfbe ebbecbbebbeb bbebbebfbeef ebbebfbeefee bbecbbebbebf\n\tK-mers in peptide database:\n{'bbebfbeefeeb', 'becbbebbebfb', 'ebebbecbbebb', 'ebbecbbebbeb', 'bebbecbbebbe'}\nfraction_in_peptide_db: 0.45454545454545453\nn_kmers: 11\n\n--- SRR306752.32778 Ibis_Run090629:7:1:381:125/1 translation_frame: -2 ---\nVRRNRIENVMVETVVLIDDRAK\n\ttranslation: \teddcdecceeecbeeeeccdbd\n\tkmers: cdecceeecbee dcdecceeecbe decceeecbeee eeecbeeeeccd ddcdecceeecb ecceeecbeeee cceeecbeeeec eddcdecceeec eecbeeeeccdb ecbeeeeccdbd ceeecbeeeecc\n\tK-mers in peptide database:\nset()\nfraction_in_peptide_db: 0.0\nn_kmers: 11\n"
      }
     ],
     "persistentId": "929b3bae-4d5a-45b3-bcaf-925de1e25a76",
     "text": "def score_single_translation_from_set(translation,\n                             peptide_kmer_set,\n                             peptide_ksize,\n                             molecule='protein',\n                             verbose=True):\n    encoded = encode_peptide(translation, molecule)\n    kmers = kmerize(str(encoded), peptide_ksize)\n    kmers_in_peptide_db = peptide_kmer_set.intersection(kmers)\n#     import pdb ; pdb.set_trace()\n    n_kmers_in_peptide_db = len(kmers_in_peptide_db)\n    \n    n_kmers = len(kmers)\n\n    if verbose > 1:\n        print(f\"\\ttranslation: \\t{encoded}\")\n        print(\"\\tkmers:\", ' '.join(kmers))\n\n    if verbose > 1:\n        # Print keys (kmers) only\n        print(f\"\\tK-mers in peptide database:\")\n        print(kmers_in_peptide_db)\n\n    fraction_in_peptide_db = n_kmers_in_peptide_db / n_kmers\n\n    return fraction_in_peptide_db, n_kmers\n\n\nfor record in screed.open('test.fasta'):\n    name = record['name']\n    print(f'\\n--- {name} ---')\n    seq = record['sequence']\n    print(seq)\n    fraction_in_peptide_db, n_kmers = score_single_translation_from_set(seq, all_peptide_kmers, \n                                                                      peptide_ksize=peptide_ksize,\n                                                                      molecule=molecule, verbose=2)\n    print(f'fraction_in_peptide_db: {fraction_in_peptide_db}')\n    print(f'n_kmers: {n_kmers}')"
    },
    "executionTime": "2019-11-05T18:34:33.517Z"
   }
  ],
  "kernelspec": {
   "display_name": "Python [conda env:kmer-hashing]",
   "language": "python",
   "name": "conda-env-kmer-hashing-py"
  },
  "language_info": {
   "codemirror_mode": {
    "name": "ipython",
    "version": 3
   },
   "file_extension": ".py",
   "mimetype": "text/x-python",
   "name": "python",
   "nbconvert_exporter": "python",
   "pygments_lexer": "ipython3",
   "version": "3.6.8"
  },
  "uuid": "545d6843-6776-43c1-b6bd-772d7f5043c0"
 },
 "nbformat": 4,
 "nbformat_minor": 4
}
