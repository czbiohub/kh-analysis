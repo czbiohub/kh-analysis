{
 "cells": [
  {
   "cell_type": "code",
   "execution_count": 5,
   "metadata": {
    "execution_event_id": "059d6d8b-0fc7-4d46-9be2-84db12843d4c",
    "last_executed_text": "%load_ext autoreload\n%autoreload 2",
    "persistent_id": "6181d405-1796-47b2-8c0f-bf1f1481da19"
   },
   "outputs": [],
   "source": [
    "%load_ext autoreload\n",
    "%autoreload 2"
   ]
  },
  {
   "cell_type": "code",
   "execution_count": 98,
   "metadata": {
    "execution_event_id": "980e35c4-e25d-4056-ac6b-761058813b71",
    "last_executed_text": "folder = '/home/olga/data_sm/kmer-hashing/classify_coding_vs_noncoding/'",
    "persistent_id": "a3529d9b-7b80-43aa-bf3d-f95b24e3c0fd"
   },
   "outputs": [],
   "source": [
    "folder = '/home/olga/data_sm/kmer-hashing/classify_coding_vs_noncoding/'"
   ]
  },
  {
   "cell_type": "code",
   "execution_count": 96,
   "metadata": {
    "execution_event_id": "eb06a6a3-7d95-4c5a-9e6b-a5d12d6d8a99",
    "last_executed_text": "! cd $folder",
    "persistent_id": "514aebb8-fcfc-4328-9aee-1287f16ad5fc"
   },
   "outputs": [],
   "source": [
    "! cd $folder"
   ]
  },
  {
   "cell_type": "code",
   "execution_count": 97,
   "metadata": {
    "execution_event_id": "04d2845e-3f81-4daf-80a4-2832c3a732c0",
    "last_executed_text": "import gzip\nimport itertools\nimport random\nimport requests\n\nfrom Bio import SeqIO\nimport matplotlib.pyplot as plt\nimport numpy as np\nimport pandas as pd\nimport seaborn as sns\n\nfrom khtools.ensembl import get_sequence, maybe_get_cds\nfrom khtools.compare_peptide import kmerize, jaccardize",
    "persistent_id": "7da06333-e82b-43dc-a224-ab6fdaf3026a"
   },
   "outputs": [],
   "source": [
    "import gzip\n",
    "import itertools\n",
    "import random\n",
    "import requests\n",
    "\n",
    "from Bio import SeqIO\n",
    "import matplotlib.pyplot as plt\n",
    "import numpy as np\n",
    "import pandas as pd\n",
    "import seaborn as sns\n",
    "\n",
    "from khtools.ensembl import get_sequence, maybe_get_cds\n",
    "from khtools.compare_peptide import kmerize, jaccardize"
   ]
  },
  {
   "cell_type": "code",
   "execution_count": 15,
   "metadata": {
    "execution_event_id": "bcd40d12-8ccd-4128-ab8e-9a07d8f41315",
    "last_executed_text": "len(get_sequence('ENST00000307377', type='cdna'))",
    "persistent_id": "feb62597-4e57-4d6f-a1e5-57d8d6e63d1a"
   },
   "outputs": [
    {
     "data": {
      "text/plain": [
       "2018"
      ]
     },
     "execution_count": 15,
     "metadata": {},
     "output_type": "execute_result"
    }
   ],
   "source": [
    "len(get_sequence('ENST00000307377', type='cdna'))"
   ]
  },
  {
   "cell_type": "code",
   "execution_count": 16,
   "metadata": {
    "execution_event_id": "2628f44f-3789-4420-a0fd-d735eb82b598",
    "last_executed_text": "len(get_sequence('ENST00000307377', type='cds'))",
    "persistent_id": "65829092-5653-4ddc-897b-ce068a0bde74"
   },
   "outputs": [
    {
     "data": {
      "text/plain": [
       "1641"
      ]
     },
     "execution_count": 16,
     "metadata": {},
     "output_type": "execute_result"
    }
   ],
   "source": [
    "len(get_sequence('ENST00000307377', type='cds'))"
   ]
  },
  {
   "cell_type": "code",
   "execution_count": 17,
   "metadata": {
    "execution_event_id": "4705347d-4082-4cb3-86d6-eef36be0b230",
    "last_executed_text": "GENCODE_FOLDER = '/home/olga/data_lg/czbiohub-reference/gencode/'\n! ls -lha $GENCODE_FOLDER",
    "persistent_id": "8b2c97bf-2357-45a3-ad48-0eee9b1b040f"
   },
   "outputs": [
    {
     "name": "stdout",
     "output_type": "stream",
     "text": [
      "total 2.0K\n",
      "drwxrwxr-x  4 olga 21002 4.0K Jul 16 10:06 .\n",
      "drwxrwxr-x 14 olga 21002 4.0K Sep  4 16:14 ..\n",
      "drwxrwxr-x  4 olga 21002 4.0K Jul 16 10:06 human\n",
      "drwxrwxr-x  5 olga 21002 4.0K Jul 16 10:06 mouse\n"
     ]
    }
   ],
   "source": [
    "GENCODE_FOLDER = '/home/olga/data_lg/czbiohub-reference/gencode/'\n",
    "! ls -lha $GENCODE_FOLDER"
   ]
  },
  {
   "cell_type": "code",
   "execution_count": 18,
   "metadata": {
    "execution_event_id": "657522c0-31fc-43a9-bd6c-6e75f7706330",
    "last_executed_text": "ls $GENCODE_FOLDER/human/v30/",
    "persistent_id": "deade31d-acbe-4b44-9f0c-cf962297043d"
   },
   "outputs": [
    {
     "name": "stdout",
     "output_type": "stream",
     "text": [
      "gencode.v30.annotation.ERCC92.bed\n",
      "gencode.v30.annotation.ERCC92.gene_type.bed\n",
      "\u001b[0m\u001b[01;32mgencode.v30.annotation.ERCC92.gene_type.gtf\u001b[0m*\n",
      "\u001b[01;32mgencode.v30.annotation.ERCC92.gtf\u001b[0m*\n",
      "\u001b[01;32mgencode.v30.annotation.gtf\u001b[0m*\n",
      "\u001b[01;31mgencode.v30.pc_translations.fa.gz\u001b[0m\n",
      "\u001b[01;32mgencode.v30.transcripts.ERCC92.fa\u001b[0m*\n",
      "\u001b[01;32mgencode.v30.transcripts.fa\u001b[0m*\n",
      "\u001b[01;32mgetfasta_transcript_test.fa\u001b[0m*\n",
      "\u001b[01;32mGRCh38.p12.genome.ERCC92.fa\u001b[0m*\n",
      "\u001b[01;32mGRCh38.p12.genome.fa\u001b[0m*\n",
      "\u001b[01;32mGRCh38.p12.genome.fa.fai\u001b[0m*\n",
      "Homo_sapiens.GRCh38.96.bed\n",
      "\u001b[01;32mMakefile\u001b[0m*\n",
      "\u001b[01;32mMakefile~\u001b[0m*\n",
      "\u001b[01;34msalmon_index\u001b[0m/\n",
      "\u001b[01;34mSTARIndex\u001b[0m/\n",
      "\u001b[01;32mtest_gffread_transcripts.fa\u001b[0m*\n",
      "\u001b[01;32mtest_gffread_transcripts_no_dashF.fa\u001b[0m*\n",
      "\u001b[01;32mw\u001b[0m*\n"
     ]
    }
   ],
   "source": [
    "ls $GENCODE_FOLDER/human/v30/"
   ]
  },
  {
   "cell_type": "code",
   "execution_count": 19,
   "metadata": {
    "execution_event_id": "e8b9e4ce-4897-434f-8d4d-fde02cd878ff",
    "last_executed_text": "! grep '>' $GENCODE_FOLDER/human/v30/gencode.v30.transcripts.fa | cut -f 8 -d '|' | sort | uniq -c",
    "persistent_id": "9d7fe2f3-5378-4a5a-8ab6-9eda9f4c436d"
   },
   "outputs": [
    {
     "name": "stdout",
     "output_type": "stream",
     "text": [
      "     41 3prime_overlapping_ncRNA\n",
      "  11636 antisense\n",
      "    329 bidirectional_promoter_lncRNA\n",
      "     23 IG_C_gene\n",
      "      9 IG_C_pseudogene\n",
      "     37 IG_D_gene\n",
      "     18 IG_J_gene\n",
      "      3 IG_J_pseudogene\n",
      "      1 IG_pseudogene\n",
      "    144 IG_V_gene\n",
      "    188 IG_V_pseudogene\n",
      "  14933 lincRNA\n",
      "      1 macro_lncRNA\n",
      "   1881 miRNA\n",
      "   2227 misc_RNA\n",
      "      2 Mt_rRNA\n",
      "     22 Mt_tRNA\n",
      "      1 non_coding\n",
      "  15550 nonsense_mediated_decay\n",
      "     90 non_stop_decay\n",
      "     63 polymorphic_pseudogene\n",
      "  10171 processed_pseudogene\n",
      "  28809 processed_transcript\n",
      "  83688 protein_coding\n",
      "     38 pseudogene\n",
      "  28273 retained_intron\n",
      "      8 ribozyme\n",
      "     52 rRNA\n",
      "    500 rRNA_pseudogene\n",
      "     49 scaRNA\n",
      "      1 scRNA\n",
      "    950 sense_intronic\n",
      "    368 sense_overlapping\n",
      "    954 snoRNA\n",
      "   1901 snRNA\n",
      "      5 sRNA\n",
      "   1158 TEC\n",
      "    494 transcribed_processed_pseudogene\n",
      "    131 transcribed_unitary_pseudogene\n",
      "    914 transcribed_unprocessed_pseudogene\n",
      "      2 translated_processed_pseudogene\n",
      "      6 TR_C_gene\n",
      "      4 TR_D_gene\n",
      "     79 TR_J_gene\n",
      "      4 TR_J_pseudogene\n",
      "    106 TR_V_gene\n",
      "     33 TR_V_pseudogene\n",
      "     96 unitary_pseudogene\n",
      "   2626 unprocessed_pseudogene\n",
      "      2 vaultRNA\n"
     ]
    }
   ],
   "source": [
    "! grep '>' $GENCODE_FOLDER/human/v30/gencode.v30.transcripts.fa | cut -f 8 -d '|' | sort | uniq -c"
   ]
  },
  {
   "cell_type": "code",
   "execution_count": 81,
   "metadata": {
    "execution_event_id": "288595ac-ae46-42d2-a330-c911854b202f",
    "last_executed_text": "%%time\n\nn_desired_records = 1000\n\nrandom.seed(0)\n\nlincRNA = []\nprotein_coding = []\n\nlincRNA_metadata_lines = []\nprotein_coding_metadata_lines = []\n\nrecords = list(SeqIO.parse(f\"{GENCODE_FOLDER}/human/v30/gencode.v30.transcripts.fa\", 'fasta'))\n\n# Shuffles in-place and returns none\nrandom.shuffle(records)\n\nfor record in records:\n    metadata = record.name.strip('|').split(\"|\")\n    if metadata[-1] == 'protein_coding':\n        if len(protein_coding) < n_desired_records:\n            protein_coding.append((metadata[0].split(\".\")[0], str(record.seq)))\n            protein_coding_metadata_lines.append(metadata)\n    elif metadata[-1] == 'lincRNA':\n        if len(lincRNA) < n_desired_records:\n            lincRNA.append((metadata[0].split(\".\")[0], str(record.seq)))\n            lincRNA_metadata_lines.append(metadata)\n    if len(lincRNA) >= n_desired_records and len(protein_coding) >= n_desired_records:\n        break\n# del records",
    "persistent_id": "58dee61b-27de-4664-af4c-afd27a03a50f"
   },
   "outputs": [
    {
     "name": "stdout",
     "output_type": "stream",
     "text": [
      "CPU times: user 11.1 s, sys: 744 ms, total: 11.8 s\n",
      "Wall time: 11.8 s\n"
     ]
    }
   ],
   "source": [
    "%%time\n",
    "\n",
    "n_desired_records = 1000\n",
    "\n",
    "random.seed(0)\n",
    "\n",
    "lincRNA = []\n",
    "protein_coding = []\n",
    "\n",
    "lincRNA_metadata_lines = []\n",
    "protein_coding_metadata_lines = []\n",
    "\n",
    "records = list(SeqIO.parse(f\"{GENCODE_FOLDER}/human/v30/gencode.v30.transcripts.fa\", 'fasta'))\n",
    "\n",
    "# Shuffles in-place and returns none\n",
    "random.shuffle(records)\n",
    "\n",
    "for record in records:\n",
    "    metadata = record.name.strip('|').split(\"|\")\n",
    "    if metadata[-1] == 'protein_coding':\n",
    "        if len(protein_coding) < n_desired_records:\n",
    "            protein_coding.append((metadata[0].split(\".\")[0], str(record.seq)))\n",
    "            protein_coding_metadata_lines.append(metadata)\n",
    "    elif metadata[-1] == 'lincRNA':\n",
    "        if len(lincRNA) < n_desired_records:\n",
    "            lincRNA.append((metadata[0].split(\".\")[0], str(record.seq)))\n",
    "            lincRNA_metadata_lines.append(metadata)\n",
    "    if len(lincRNA) >= n_desired_records and len(protein_coding) >= n_desired_records:\n",
    "        break\n",
    "# del records"
   ]
  },
  {
   "cell_type": "code",
   "execution_count": 82,
   "metadata": {
    "execution_event_id": "b46e0c18-d884-4f2c-876a-99215da4f2ee",
    "last_executed_text": "lncrna_df = pd.DataFrame(lincRNA_metadata_lines)\nprint(lncrna_df.shape)\nlncrna_df.head()",
    "persistent_id": "a520f97f-5218-4633-a612-5e28366d4229"
   },
   "outputs": [
    {
     "name": "stdout",
     "output_type": "stream",
     "text": [
      "(1000, 8)\n"
     ]
    },
    {
     "data": {
      "text/html": [
       "<div>\n",
       "<style scoped>\n",
       "    .dataframe tbody tr th:only-of-type {\n",
       "        vertical-align: middle;\n",
       "    }\n",
       "\n",
       "    .dataframe tbody tr th {\n",
       "        vertical-align: top;\n",
       "    }\n",
       "\n",
       "    .dataframe thead th {\n",
       "        text-align: right;\n",
       "    }\n",
       "</style>\n",
       "<table border=\"1\" class=\"dataframe\">\n",
       "  <thead>\n",
       "    <tr style=\"text-align: right;\">\n",
       "      <th></th>\n",
       "      <th>0</th>\n",
       "      <th>1</th>\n",
       "      <th>2</th>\n",
       "      <th>3</th>\n",
       "      <th>4</th>\n",
       "      <th>5</th>\n",
       "      <th>6</th>\n",
       "      <th>7</th>\n",
       "    </tr>\n",
       "  </thead>\n",
       "  <tbody>\n",
       "    <tr>\n",
       "      <th>0</th>\n",
       "      <td>ENST00000623420.1</td>\n",
       "      <td>ENSG00000279927.1</td>\n",
       "      <td>OTTHUMG00000189181.1</td>\n",
       "      <td>OTTHUMT00000479003.1</td>\n",
       "      <td>Z95114.4-201</td>\n",
       "      <td>Z95114.4</td>\n",
       "      <td>3578</td>\n",
       "      <td>lincRNA</td>\n",
       "    </tr>\n",
       "    <tr>\n",
       "      <th>1</th>\n",
       "      <td>ENST00000628547.2</td>\n",
       "      <td>ENSG00000242086.8</td>\n",
       "      <td>OTTHUMG00000155834.14</td>\n",
       "      <td>OTTHUMT00000481409.1</td>\n",
       "      <td>MUC20-OT1-308</td>\n",
       "      <td>MUC20-OT1</td>\n",
       "      <td>882</td>\n",
       "      <td>lincRNA</td>\n",
       "    </tr>\n",
       "    <tr>\n",
       "      <th>2</th>\n",
       "      <td>ENST00000411525.1</td>\n",
       "      <td>ENSG00000224429.7</td>\n",
       "      <td>OTTHUMG00000016541.3</td>\n",
       "      <td>OTTHUMT00000044126.1</td>\n",
       "      <td>LINC00539-201</td>\n",
       "      <td>LINC00539</td>\n",
       "      <td>664</td>\n",
       "      <td>lincRNA</td>\n",
       "    </tr>\n",
       "    <tr>\n",
       "      <th>3</th>\n",
       "      <td>ENST00000427111.4</td>\n",
       "      <td>ENSG00000237248.5</td>\n",
       "      <td>OTTHUMG00000168333.2</td>\n",
       "      <td>OTTHUMT00000500908.1</td>\n",
       "      <td>LINC00987-201</td>\n",
       "      <td>LINC00987</td>\n",
       "      <td>2472</td>\n",
       "      <td>lincRNA</td>\n",
       "    </tr>\n",
       "    <tr>\n",
       "      <th>4</th>\n",
       "      <td>ENST00000551227.1</td>\n",
       "      <td>ENSG00000258028.2</td>\n",
       "      <td>OTTHUMG00000170370.2</td>\n",
       "      <td>OTTHUMT00000408712.1</td>\n",
       "      <td>AL135878.1-201</td>\n",
       "      <td>AL135878.1</td>\n",
       "      <td>741</td>\n",
       "      <td>lincRNA</td>\n",
       "    </tr>\n",
       "  </tbody>\n",
       "</table>\n",
       "</div>"
      ],
      "text/plain": [
       "                   0                  1                      2  \\\n",
       "0  ENST00000623420.1  ENSG00000279927.1   OTTHUMG00000189181.1   \n",
       "1  ENST00000628547.2  ENSG00000242086.8  OTTHUMG00000155834.14   \n",
       "2  ENST00000411525.1  ENSG00000224429.7   OTTHUMG00000016541.3   \n",
       "3  ENST00000427111.4  ENSG00000237248.5   OTTHUMG00000168333.2   \n",
       "4  ENST00000551227.1  ENSG00000258028.2   OTTHUMG00000170370.2   \n",
       "\n",
       "                      3               4           5     6        7  \n",
       "0  OTTHUMT00000479003.1    Z95114.4-201    Z95114.4  3578  lincRNA  \n",
       "1  OTTHUMT00000481409.1   MUC20-OT1-308   MUC20-OT1   882  lincRNA  \n",
       "2  OTTHUMT00000044126.1   LINC00539-201   LINC00539   664  lincRNA  \n",
       "3  OTTHUMT00000500908.1   LINC00987-201   LINC00987  2472  lincRNA  \n",
       "4  OTTHUMT00000408712.1  AL135878.1-201  AL135878.1   741  lincRNA  "
      ]
     },
     "execution_count": 82,
     "metadata": {},
     "output_type": "execute_result"
    }
   ],
   "source": [
    "lncrna_df = pd.DataFrame(lincRNA_metadata_lines)\n",
    "print(lncrna_df.shape)\n",
    "lncrna_df.head()"
   ]
  },
  {
   "cell_type": "code",
   "execution_count": 83,
   "metadata": {
    "execution_event_id": "132d5de9-9b83-4478-bb1c-48f428dbe52f",
    "last_executed_text": "protein_coding_df = pd.DataFrame(protein_coding_metadata_lines)\nprint(protein_coding_df.shape)\nprotein_coding_df.head()",
    "persistent_id": "de7d6948-c834-435f-8805-0ede4025e443"
   },
   "outputs": [
    {
     "name": "stdout",
     "output_type": "stream",
     "text": [
      "(1000, 8)\n"
     ]
    },
    {
     "data": {
      "text/html": [
       "<div>\n",
       "<style scoped>\n",
       "    .dataframe tbody tr th:only-of-type {\n",
       "        vertical-align: middle;\n",
       "    }\n",
       "\n",
       "    .dataframe tbody tr th {\n",
       "        vertical-align: top;\n",
       "    }\n",
       "\n",
       "    .dataframe thead th {\n",
       "        text-align: right;\n",
       "    }\n",
       "</style>\n",
       "<table border=\"1\" class=\"dataframe\">\n",
       "  <thead>\n",
       "    <tr style=\"text-align: right;\">\n",
       "      <th></th>\n",
       "      <th>0</th>\n",
       "      <th>1</th>\n",
       "      <th>2</th>\n",
       "      <th>3</th>\n",
       "      <th>4</th>\n",
       "      <th>5</th>\n",
       "      <th>6</th>\n",
       "      <th>7</th>\n",
       "    </tr>\n",
       "  </thead>\n",
       "  <tbody>\n",
       "    <tr>\n",
       "      <th>0</th>\n",
       "      <td>ENST00000525764.5</td>\n",
       "      <td>ENSG00000149150.9</td>\n",
       "      <td>OTTHUMG00000167030.4</td>\n",
       "      <td>OTTHUMT00000392591.2</td>\n",
       "      <td>SLC43A1-203</td>\n",
       "      <td>SLC43A1</td>\n",
       "      <td>556</td>\n",
       "      <td>protein_coding</td>\n",
       "    </tr>\n",
       "    <tr>\n",
       "      <th>1</th>\n",
       "      <td>ENST00000576452.5</td>\n",
       "      <td>ENSG00000108523.15</td>\n",
       "      <td>OTTHUMG00000099397.5</td>\n",
       "      <td>OTTHUMT00000438729.1</td>\n",
       "      <td>RNF167-215</td>\n",
       "      <td>RNF167</td>\n",
       "      <td>589</td>\n",
       "      <td>protein_coding</td>\n",
       "    </tr>\n",
       "    <tr>\n",
       "      <th>2</th>\n",
       "      <td>ENST00000307377.12</td>\n",
       "      <td>ENSG00000170266.16</td>\n",
       "      <td>OTTHUMG00000155781.8</td>\n",
       "      <td>OTTHUMT00000341571.1</td>\n",
       "      <td>GLB1-202</td>\n",
       "      <td>GLB1</td>\n",
       "      <td>2018</td>\n",
       "      <td>protein_coding</td>\n",
       "    </tr>\n",
       "    <tr>\n",
       "      <th>3</th>\n",
       "      <td>ENST00000649592.1</td>\n",
       "      <td>ENSG00000114861.20</td>\n",
       "      <td>OTTHUMG00000158803.17</td>\n",
       "      <td>OTTHUMT00000497729.1</td>\n",
       "      <td>FOXP1-260</td>\n",
       "      <td>FOXP1</td>\n",
       "      <td>1975</td>\n",
       "      <td>protein_coding</td>\n",
       "    </tr>\n",
       "    <tr>\n",
       "      <th>4</th>\n",
       "      <td>ENST00000454061.5</td>\n",
       "      <td>ENSG00000214413.8</td>\n",
       "      <td>OTTHUMG00000019046.6</td>\n",
       "      <td>OTTHUMT00000050350.2</td>\n",
       "      <td>BBIP1-208</td>\n",
       "      <td>BBIP1</td>\n",
       "      <td>812</td>\n",
       "      <td>protein_coding</td>\n",
       "    </tr>\n",
       "  </tbody>\n",
       "</table>\n",
       "</div>"
      ],
      "text/plain": [
       "                    0                   1                      2  \\\n",
       "0   ENST00000525764.5   ENSG00000149150.9   OTTHUMG00000167030.4   \n",
       "1   ENST00000576452.5  ENSG00000108523.15   OTTHUMG00000099397.5   \n",
       "2  ENST00000307377.12  ENSG00000170266.16   OTTHUMG00000155781.8   \n",
       "3   ENST00000649592.1  ENSG00000114861.20  OTTHUMG00000158803.17   \n",
       "4   ENST00000454061.5   ENSG00000214413.8   OTTHUMG00000019046.6   \n",
       "\n",
       "                      3            4        5     6               7  \n",
       "0  OTTHUMT00000392591.2  SLC43A1-203  SLC43A1   556  protein_coding  \n",
       "1  OTTHUMT00000438729.1   RNF167-215   RNF167   589  protein_coding  \n",
       "2  OTTHUMT00000341571.1     GLB1-202     GLB1  2018  protein_coding  \n",
       "3  OTTHUMT00000497729.1    FOXP1-260    FOXP1  1975  protein_coding  \n",
       "4  OTTHUMT00000050350.2    BBIP1-208    BBIP1   812  protein_coding  "
      ]
     },
     "execution_count": 83,
     "metadata": {},
     "output_type": "execute_result"
    }
   ],
   "source": [
    "protein_coding_df = pd.DataFrame(protein_coding_metadata_lines)\n",
    "print(protein_coding_df.shape)\n",
    "protein_coding_df.head()"
   ]
  },
  {
   "cell_type": "code",
   "execution_count": 84,
   "metadata": {
    "execution_event_id": "4f8ba6ac-56b6-49c3-841e-5ed823aa2137",
    "last_executed_text": "lincRNA[:2]",
    "persistent_id": "a74c5fe2-756b-4ea6-bf6b-e4ee3459bfbf"
   },
   "outputs": [
    {
     "data": {
      "text/plain": [
       "[('ENST00000623420',\n",
       "  'GCCCTGCCAGCCACTGTTCTAAGCACTTTTTCCCTGTTCCTGCCGATTTGCTCCTCACAACAACCATAGGAAGTGGAGACTATGATTATCCCCGTTGCACAGTAAGGAAACTGAGGCAAAAGGCGGTTAGGTAACTTGGCGATGTCTCCCGGCTAGGGATAGCAGAATGGGATAGAAACGCAGGCCACGCGGTCTGGAGCGGTGGCTCACGCCTTTAATCCCAGTACTTAGGGAGGCCGAGGCGGGCGGGTTACCTGGGGTCAGGAGTTCGAGACCAGCCTGGCCAACATGGTGAAACCCTATCTCTACTAAAAATACAAAAATTAGTCGGGGTGGGCACCTGTAATCCCAGCTACTCGAGGCTGAGGCAAAAGAATCGCTTGAACCCAGGAGGCAGAGGTGGCAGTGAGCCGAGATCACCCCACTGCACTTCAGCCTGGGTGGCAGAACAAGACTCTGTCTCAAAAAAAAAAAAAAGAATAAAAAAAAGAAAGGCAGGCCACCCGGTGGTGGTCCCTGTGCTCCTCCCCACCCACCCCCGCACTGTGCTGGGCGGTGAGGAGGCGGCTGGCCCAGGAGGTGGGGGTGTGGAGTGGGGCACATCAGAGATTTCAAATTGACCAAGGTCTGTTTTGTGTCAGTTTGTCAGTTTTATGTGTCAGCTTGGCTAAACTATGGTCTCCTGTTATTTGATCAAACACTAATCTATTTTTTCTTTTAGTTTAAAAAATAATAATTAAATGAAAAAATCCTGGCTAATGTTTTTTTTTTTGTAGAGACAGGGTTTTGCCTTGTTGCCCAGGCTGGCCTCTGACCCTTGGGCTCAAGTGATCTGCCACCATGCCTAGCCTCAAACACTAATCTAGATGTTGCTTGAAGGCATTTTGTAGATGTGATTTGTCTATAATTAGTTTACTTCAAGTAAGGGAGATTATCCCAGATAATCTGGGTGAGTCTGAAAGACTTTATGGGTAGAACTGAGGTGCCCTTGAAGAGGAAGAAATTCTGCCAGCCAATAGCAATTTCAGCTTGTGCTGAAGAGTTCCAGCCTTCCTAACAACCAGCCCTACAAATTTCGGACTTGCCTAGCCAGCCCTGTGTGTATAAACCAATTCCTTGCAATAATCACACCTACACCCTCACCCCACCCCCCTCCCCAAATACATGTATATATGGAGAGAGAGGGAGAGAGAATATAAAATCATACATATATCATATATCTCCTATTTGTTCTGTGTCTTTAATTTCTCTAGTTGACCCCTGACTGATGCAATGACCCAAGAGCAGGCAGATGCCCGGGGGGCGTTTATGATACCTCTCCTAGGACTTGGCTCAATCTGAGTCCCTCAACGGCCATCTGCAACCCTGAGGAGGGTAGGAAAATCCCAAATTGACTGAGATTACATTTCCATCATCAACAGCAATGGAGAATCAATAAAGAAATTTAGTTCAGATATTGAAAAATGAAGAGGGCTGGGTGCAGTGGCTCACGCCTGTAATCCCAGCACTTTGGGAGGCCGAGGCGGGTGGATCACCTGAGGTCGGGAGTTCGAGACCGGCCTGGCCAACATGGTGAAAACTCATCTTTACTAAAAATACAAAAATTAGTTCTGGTGGGTGCCTGTAATCCCAGCTACTCGGGAGGCTGAGGCAGGAGAATTGTTTGAACCCATTAGGCAGAGGTGGCAGTGAGCCGAGATCACCCCATTGCACTTCAGCCTGGGTGACAGAACAAGACTCCGTCTCAAGGAAAAGAAAAAAAAAAGAAGAAAGTCACAGTTTTTGCACTATCAAGTTTATGTGCTAAGATTCATACCTCATTTTAACAGCCTACATCTACTTCTGCGTGGACCAGAAGGACAGAGCCACAATAACACTGACCAAACCATAGTAATAGCACAATCGTTGCTACAAAACATTTGCAAATAATCAGATAATATATCTGATTAGGGCCTTGTATCCAGAATATATAAAGAGCTCTTATTGCAACAACAAGTAGAAAACAGATCAATTTAAAAATGGGCAAAGGTAGGCCAGGCACAGTGGCTCACACCTATAATCCCAGCACTTAGGGAGGCCGAGGCGGGTGGATCACCTGAGGTCAGGAGTTTGAGACCAGCCTGGCCAACATGGCGAAACTCCGTCTCTACTAAAAGTACAAAATTGAGCCGGACGTGGTGGTGAGAGTCTGTAATCCCAGCTACTTGGGAGGCTGAGGCAGGAGAATCGCTTGAACCCAGGAGATGGAGGTTGCAGTGAGCTGAGATCTCGCCATTGCACTCCAGCCTGGGCGACAAGAGTGAGACTCTGTCTCAAAATAAAAAATAAAATAAAATAGGCAAAGGACTTGAATATCCAAAGAAGATAAACAAATGGCCAATAAGCAAACAATACTTTCAAGCACAAAAGATGCTCGACATAATTAGTCATCAAGGAAAAGGCAAATCAGAACCACACGGGACTCACTTCACATCCACCAGGATGACTATAGTCCTTACAGTAAGAGAATAGCAGATGGCAGGTATTGTGCTTTACTTGTATTAAGTAACTTAATCCTCACAGTAGCCTCGTGAAGGAGGGATGGCTATTAGCTCATTTACAAAAGAGGAACTGAGGCCTGGAAAGGTGAAATGATTGCCCCAGTGTTCCACGGCTGGTCAGTGGGTGTCAGAATTTAAGACCTGGGCTGTCTGCTTCCAAAGCTGTGCTATCCAGCTTTAATGACTGTGCTATACTGGTCTCTAGCAAAATTATTGAAAATTTCCCTCTCAGACCCACCATTTACCTTTATTGCTCCCAGAGACCCTCACATGTGCTCCTTAGCTACCAAAAACAGACTTCTTCTTTCTCCTGGCATTTGTCCCATGTCCTTTGGTCAGTCCAGAACTCACTAGGAGGCTCCCAGACGCTGTGTCCGTGTTTCTCCTCCAGACCGACGATGCTGCCTGTGTCACTGCCTCAGGGCCATGTCACTGCTGCTGCCCCACTGGACTCCCACGGTCCTAGCCACCAGCCACTCCCCTCCTTCTTCCTGGCTAGCAAGGTTTACTGACTACCATAGAGGCGGAAAATGCCAGATGCTCGGTTTCCCAGGTTCCCTTTACAGTTACAGGTGACCATGTGACCGTGTTCTGGTCAATGACATATAAGGAGAGTCTTCTGAGAAAGATTTTCTCTCCTGGCCAGAATAGAGAGAGAGGGTGAGGTAGATGGAAAGAGCGGGAAGCTGGGCGCAGTGGTTCACACCTGTAATCCCAACACTTTGGGAGGCCAAGGCAGGTGGATCACCTGAGGTCAGGAGTTCGAGACCAGCCTGGCCACATGATGAAACCTTGTCTCTACTAAAAATACAAAAATTAGCTGGGTGTGGTGGTGTGGGCCTGTAATCCCAGCTATTTGGGAGGCTGAGGCACGTGAATCACTTGAACCCAGGAGGCGGAGATTGCAGTGTGCTGATCATGCCACTGCACTCCAGCCTGGGCAACAGAGTGAGACTCCGCCTCAAAACACACACACACACACACACACACACACACACACACACACACACACAAAACAGTGGGAGAGAGAGTAAGAGT'),\n",
       " ('ENST00000628547',\n",
       "  'CTGGCAGGAGCAGATTCCAAAGGCACAGGAAGAAGCTTGCAGTACAAAGATAAAAATCTAAAGTGGTTGCTGTGGAGGACAGGGGTCAGTGGTGGAAGTGAGACCGAAATAGACTCTGAAGTAATATCTGGACTTTGAAATTGTTGCCTGTTCACTCTGCCTGGTCATATGCAGAAAACCGAAACTAGACCCCTTGCTGACACTTATACAAAAATTAACTCAAGATGCATTAAAGATTTAAACGTGAGACCTAAAACCAGAAAAATCCTAGAAGAAAACCTAGGCAACACCATTGAGGACGTAAGCATGGGCAAAGACTTCATGACTAAAACACCAAAAGAAATGGCAACAAAAGCCAAAATTGACAAAAGGTTTCCTTAATGACAACAAAAAAGGGAGTAATCCTACCCACTGTAAGAGTCATGACTCTTGATTGCAGCTGACAGAAACTCATGACAGCCTGCTTTAGATGAAGGGGGAGAGAAGGACTGGAAGAATCTTGGAGTTGGGAATGTCACACGCAGCTGCTCCCAACCCCAGAACCTTTGCTGTCTTGGGACGGATCACCGCTGCAAGAGGGGAAGTTGCTACTGTGATGAATTCTGCCATGTGGCACCAGACTGCCACCCAGACCACAGTGTCCTCTGCAACCCTGGTAACTCACATACAGGCCCGATTCCACCTACAGCAAAGCTGGATGCGATGGCTGGCAGAGGCAAACCCTTTGCCTGCACTTCAGGCCAAAGCCGGGATGTGGCCTAGATGGTTCCTAAGGTCCCTGACAATCCTGAGATCTTGCATCTTGTCTATTTCAGGTCAAAGCTTCTCAGATGACCAAGATGGTGCTGCAGATGGTGCTGAGGATGGAGAACCCACCAAGCC')]"
      ]
     },
     "execution_count": 84,
     "metadata": {},
     "output_type": "execute_result"
    }
   ],
   "source": [
    "lincRNA[:2]"
   ]
  },
  {
   "cell_type": "code",
   "execution_count": 85,
   "metadata": {
    "execution_event_id": "fc54822b-80e1-4d4e-bf6e-d474fb48edde",
    "last_executed_text": "protein_coding[:2]",
    "persistent_id": "f1df8f36-e80c-436b-a076-a885aa300034"
   },
   "outputs": [
    {
     "data": {
      "text/plain": [
       "[('ENST00000525764',\n",
       "  'CACCAACACCACCCAGGATGAGCAGCGCAGGTGGCCAGGCTGTGACCAGCAGGACGAGATGCTCAACCTGGGCTTCACCATTGGTTCCTTCGTGCTCAGCGCCACCACCCTGCCACTGGGGATCCTCATGGACCGCTTTGGCCCCCGACCCGTGCGGCTGGTTGGCAGTGCCTGCTTCACTGCGTCCTGCACCCTCATGGCCCTGGCCTCCCGGGACGTGGAAGCTCTGTCTCCGTTGATATTCCTGGCGCTGTCCCTGAATGGCTTTGGTGGCATCTGCCTAACGTTCACTTCACTCACGGGACGGGGTTGCTACCAAATCCATCAGACCACGCTACTGCAAGATCCAAAAGCTCACCAATGCCATCAGTGCCTTCACCCTGACCAACCTGCTGCTTGTGGGTTTTGGCATCACCTGTCTCATCAACAACTTACACCTCCAGTTTGTGACCTTTGTCCTGCACACCATTGTTCGAGGTTTCTTCCACTCAGCCTGTGGGAGTCTCTATGCTGCAGTGTTCCCATCCAACCACTTTGGGACGCTGACAGGCCTGCA'),\n",
       " ('ENST00000576452',\n",
       "  'AGGAGGAGCTTGATGGAAGCGTGCGAGAAGGGGCGTAACTGATTTGGAAACCAGAGGAAAGGCGCTGTTTTCACCGAATTAGAATCGCGGGAAAATAGAGAAGAGTTTGTTTGAAGGTCTCGCGAGATCGAGTGAGTACGGCTCGCCAAGTTGGAGCGCTCTCGCGATAGACACAGCAACTATTCAGCTGCGAGGGGACGGGAGAGGTGGTGAGCACTCTCGCGAGATTTGAAGGAGCGGCGGAGGCCAGAGGGAGGAGAGGACGCGCGGCCTCCTCAGCCTCTTTCCTCCCGCTGCCATGCACCCTGCAGCCTTCCCGCTTCCTGTGGTTGTGGCCGCTGTGCTGTGGGGAGCGGCCCCGACCCGGGGGCTCATTCGAGCGACCTCGGACCACAATGCCAGCATGGACTTTGCAGACCTTCCAGCTCTGTTTGGGGCTACCTTGAGCCAGGAGGGCCTCCAGGGGTTCCTTGTGGAGGCTCACCCAGACAATGCCTGCAGCCCCATTGCCCCACCACCCCCAGCCCCGGTCAATGGGTCAGTCTTTATTGCGCTGCTTCGAAGATTCGACTGCAACTTTGACCTCAAG')]"
      ]
     },
     "execution_count": 85,
     "metadata": {},
     "output_type": "execute_result"
    }
   ],
   "source": [
    "protein_coding[:2]"
   ]
  },
  {
   "cell_type": "code",
   "execution_count": 86,
   "metadata": {
    "execution_event_id": "7c5808bd-b395-4f74-aa7a-c5e48847a978",
    "last_executed_text": "ksize = 7\nprint(f\"total possible k-mers of size {ksize}\", 4**ksize)\n\nlincrna_kmers = set(itertools.chain(*[kmerize(seq, ksize) for transcript_id, seq in lincRNA]))\nprint(len(lincrna_kmers))",
    "persistent_id": "2ae37154-2adb-435f-92a5-31ff4f713183"
   },
   "outputs": [
    {
     "name": "stdout",
     "output_type": "stream",
     "text": [
      "total possible k-mers of size 7 16384\n",
      "16371\n"
     ]
    }
   ],
   "source": [
    "ksize = 7\n",
    "print(f\"total possible k-mers of size {ksize}\", 4**ksize)\n",
    "\n",
    "lincrna_kmers = set(itertools.chain(*[kmerize(seq, ksize) for transcript_id, seq in lincRNA]))\n",
    "print(len(lincrna_kmers))"
   ]
  },
  {
   "cell_type": "code",
   "execution_count": 87,
   "metadata": {
    "execution_event_id": "6865b5c1-9118-449e-bd0b-4be329bc2432",
    "last_executed_text": "protein_coding_cdna_kmers = set(itertools.chain(*[kmerize(seq, ksize) for transcript_id, seq in protein_coding if seq is not None]))\nprint(len(protein_coding_cdna_kmers))",
    "persistent_id": "9025319d-e48d-4baf-817d-bc5594bbcb03"
   },
   "outputs": [
    {
     "name": "stdout",
     "output_type": "stream",
     "text": [
      "16384\n"
     ]
    }
   ],
   "source": [
    "protein_coding_cdna_kmers = set(itertools.chain(*[kmerize(seq, ksize) for transcript_id, seq in protein_coding if seq is not None]))\n",
    "print(len(protein_coding_cdna_kmers))"
   ]
  },
  {
   "cell_type": "code",
   "execution_count": 88,
   "metadata": {
    "execution_event_id": "62e1e33c-0c14-490e-b66e-e2a0b0d8ad7f",
    "last_executed_text": "jaccardize(protein_coding_cdna_kmers, lincrna_kmers)",
    "persistent_id": "1a18bc1b-04c4-4de3-8c01-3f1020f1731e"
   },
   "outputs": [
    {
     "data": {
      "text/plain": [
       "1.0"
      ]
     },
     "execution_count": 88,
     "metadata": {},
     "output_type": "execute_result"
    }
   ],
   "source": [
    "jaccardize(protein_coding_cdna_kmers, lincrna_kmers)"
   ]
  },
  {
   "cell_type": "code",
   "execution_count": 89,
   "metadata": {
    "execution_event_id": "6ea1ac8c-47e6-49b0-a82c-e0c34dbc5a1c",
    "last_executed_text": "%%time\n\nprotein_coding_cds_only = [(transcript_id, maybe_get_cds(transcript_id)) for transcript_id, seq in protein_coding]\nlen(protein_coding_cds_only)\n",
    "persistent_id": "a3217612-1e52-4db6-8b29-7080816162d8"
   },
   "outputs": [
    {
     "ename": "TypeError",
     "evalue": "get_sequence() got an unexpected keyword argument 'type'",
     "output_type": "error",
     "traceback": [
      "\u001b[0;31m---------------------------------------------------------------------------\u001b[0m",
      "\u001b[0;31mTypeError\u001b[0m                                 Traceback (most recent call last)",
      "\u001b[0;32m<timed exec>\u001b[0m in \u001b[0;36m<module>\u001b[0;34m\u001b[0m\n",
      "\u001b[0;32m<timed exec>\u001b[0m in \u001b[0;36m<listcomp>\u001b[0;34m(.0)\u001b[0m\n",
      "\u001b[0;32m~/code/kmer-hashing/kh-tools/khtools/ensembl.py\u001b[0m in \u001b[0;36mmaybe_get_cds\u001b[0;34m(transcript_id)\u001b[0m\n\u001b[1;32m      5\u001b[0m \u001b[0;32mdef\u001b[0m \u001b[0mmaybe_get_cds\u001b[0m\u001b[0;34m(\u001b[0m\u001b[0mtranscript_id\u001b[0m\u001b[0;34m)\u001b[0m\u001b[0;34m:\u001b[0m\u001b[0;34m\u001b[0m\u001b[0;34m\u001b[0m\u001b[0m\n\u001b[1;32m      6\u001b[0m     \u001b[0;32mtry\u001b[0m\u001b[0;34m:\u001b[0m\u001b[0;34m\u001b[0m\u001b[0;34m\u001b[0m\u001b[0m\n\u001b[0;32m----> 7\u001b[0;31m         \u001b[0;32mreturn\u001b[0m \u001b[0mget_sequence\u001b[0m\u001b[0;34m(\u001b[0m\u001b[0mtranscript_id\u001b[0m\u001b[0;34m,\u001b[0m \u001b[0mtype\u001b[0m\u001b[0;34m=\u001b[0m\u001b[0;34m'cds'\u001b[0m\u001b[0;34m,\u001b[0m \u001b[0mverbose\u001b[0m\u001b[0;34m=\u001b[0m\u001b[0;32mFalse\u001b[0m\u001b[0;34m)\u001b[0m\u001b[0;34m\u001b[0m\u001b[0;34m\u001b[0m\u001b[0m\n\u001b[0m\u001b[1;32m      8\u001b[0m     \u001b[0;32mexcept\u001b[0m \u001b[0mrequests\u001b[0m\u001b[0;34m.\u001b[0m\u001b[0mexceptions\u001b[0m\u001b[0;34m.\u001b[0m\u001b[0mHTTPError\u001b[0m\u001b[0;34m:\u001b[0m\u001b[0;34m\u001b[0m\u001b[0;34m\u001b[0m\u001b[0m\n\u001b[1;32m      9\u001b[0m         \u001b[0;32mreturn\u001b[0m \u001b[0;32mNone\u001b[0m\u001b[0;34m\u001b[0m\u001b[0;34m\u001b[0m\u001b[0m\n",
      "\u001b[0;31mTypeError\u001b[0m: get_sequence() got an unexpected keyword argument 'type'"
     ]
    }
   ],
   "source": [
    "%%time\n",
    "\n",
    "protein_coding_cds_only = [(transcript_id, maybe_get_cds(transcript_id)) for transcript_id, seq in protein_coding]\n",
    "len(protein_coding_cds_only)\n"
   ]
  },
  {
   "cell_type": "code",
   "execution_count": 90,
   "metadata": {
    "execution_event_id": "a10d9da1-ddbf-4d4e-82cf-f61ff248976e",
    "last_executed_text": "protein_coding_cds_only[:2]",
    "persistent_id": "aba44400-7776-4cf8-a895-aff2c54f285a"
   },
   "outputs": [
    {
     "data": {
      "text/plain": [
       "[('ENST00000525764',\n",
       "  'NNCACCAACACCACCCAGGATGAGCAGCGCAGGTGGCCAGGCTGTGACCAGCAGGACGAGATGCTCAACCTGGGCTTCACCATTGGTTCCTTCGTGCTCAGCGCCACCACCCTGCCACTGGGGATCCTCATGGACCGCTTTGGCCCCCGACCCGTGCGGCTGGTTGGCAGTGCCTGCTTCACTGCGTCCTGCACCCTCATGGCCCTGGCCTCCCGGGACGTGGAAGCTCTGTCTCCGTTGATATTCCTGGCGCTGTCCCTGAATGGCTTTGGTGGCATCTGCCTAACGTTCACTTCACTCACGGGACGGGGTTGCTACCAAATCCATCAGACCACGCTACTGCAAGATCCAAAAGCTCACCAATGCCATCAGTGCCTTCACCCTGACCAACCTGCTGCTTGTGGGTTTTGGCATCACCTGTCTCATCAACAACTTACACCTCCAGTTTGTGACCTTTGTCCTGCACACCATTGTTCGAGGTTTCTTCCACTCAGCCTGTGGGAGTCTCTATGCTGCAGTGTTCCCATCCAACCACTTTGGGACGCTGACAGGCCTGCA'),\n",
       " ('ENST00000576452',\n",
       "  'ATGCACCCTGCAGCCTTCCCGCTTCCTGTGGTTGTGGCCGCTGTGCTGTGGGGAGCGGCCCCGACCCGGGGGCTCATTCGAGCGACCTCGGACCACAATGCCAGCATGGACTTTGCAGACCTTCCAGCTCTGTTTGGGGCTACCTTGAGCCAGGAGGGCCTCCAGGGGTTCCTTGTGGAGGCTCACCCAGACAATGCCTGCAGCCCCATTGCCCCACCACCCCCAGCCCCGGTCAATGGGTCAGTCTTTATTGCGCTGCTTCGAAGATTCGACTGCAACTTTGACCTCAAG')]"
      ]
     },
     "execution_count": 90,
     "metadata": {},
     "output_type": "execute_result"
    }
   ],
   "source": [
    "protein_coding_cds_only[:2]"
   ]
  },
  {
   "cell_type": "code",
   "execution_count": 91,
   "metadata": {
    "execution_event_id": "9fa783f1-3a87-44d5-97b8-4eabc58059e1",
    "last_executed_text": "ksize = 7",
    "persistent_id": "5fafdb94-ada1-48f6-a83b-321a5fb9e48c"
   },
   "outputs": [],
   "source": [
    "ksize = 7"
   ]
  },
  {
   "cell_type": "code",
   "execution_count": 92,
   "metadata": {
    "execution_event_id": "fe7468ac-9dd6-4f77-9be7-8b117ff6dd86",
    "last_executed_text": "\nprotein_coding_kmers = set(itertools.chain(*[kmerize(seq, ksize) for transcript_id, seq in protein_coding_cds_only if seq is not None]))\nprint(len(protein_coding_kmers))",
    "persistent_id": "2ae37154-2adb-435f-92a5-31ff4f713183"
   },
   "outputs": [
    {
     "name": "stdout",
     "output_type": "stream",
     "text": [
      "16399\n"
     ]
    }
   ],
   "source": [
    "\n",
    "protein_coding_kmers = set(itertools.chain(*[kmerize(seq, ksize) for transcript_id, seq in protein_coding_cds_only if seq is not None]))\n",
    "print(len(protein_coding_kmers))"
   ]
  },
  {
   "cell_type": "code",
   "execution_count": 93,
   "metadata": {
    "execution_event_id": "2665be14-fed3-49d4-b8ce-d581ac43babe",
    "last_executed_text": "jaccardize(protein_coding_kmers, lincrna_kmers)",
    "persistent_id": "634d3b76-32c7-43f4-a674-a927e13e99b3"
   },
   "outputs": [
    {
     "data": {
      "text/plain": [
       "0.998533993036467"
      ]
     },
     "execution_count": 93,
     "metadata": {},
     "output_type": "execute_result"
    }
   ],
   "source": [
    "jaccardize(protein_coding_kmers, lincrna_kmers)"
   ]
  },
  {
   "cell_type": "code",
   "execution_count": 94,
   "metadata": {
    "execution_event_id": "b27388ff-1886-4e8f-b746-f552e7d0c945",
    "last_executed_text": "%%time\n\nksizes = range(5, 22)\n\nlines = []\nn_kmer_lines = []\n\ndef kmerize_count_append(id_seqs, name):\n    kmers = set(itertools.chain(*[kmerize(seq, ksize) for transcript_id, seq in id_seqs if seq is not None]))\n    n_kmers = len(kmers)\n    \n    n_kmer_lines.append([ksize, len(kmers), name])\n    return kmers, n_kmer_lines\n\nfor ksize in ksizes:\n    n_possible_kmers = 4**ksize\n    n_kmer_lines.append([ksize, n_possible_kmers, 'total possible: 4^k'])\n    \n    print(f\"total possible k-mers of size {ksize}: \", n_possible_kmers)\n    \n    # lincRNAs\n    lincrna_kmers, n_kmer_lines = kmerize_count_append(lincRNA, 'lincRNA')\n    \n    # Protein-coding CDNA (whole transcript)\n    protein_coding_cdna_kmers, n_kmer_lines = kmerize_count_append(protein_coding, 'protein_coding_cdna')\n    \n    # Protein-coding CDS (translated part only)\n    protein_coding_cds_kmers, n_kmer_lines = kmerize_count_append(protein_coding_cds_only, 'protein_coding_cdna')\n\n    jaccard = jaccardize(protein_coding_cds_kmers, lincrna_kmers)\n    lines.append([ksize, jaccard, 'lincRNA vs protein-coding CDS'])\n\n    jaccard = jaccardize(protein_coding_cdna_kmers, lincrna_kmers)\n    lines.append([ksize, jaccard, 'lincRNA vs protein-coding cDNA'])\n\n\nn_kmer_df = pd.DataFrame(n_kmer_lines, columns=['ksize', 'count', 'category'])\nprint(n_kmer_df.shape)\n\n    \nprotein_coding_vs_lncrna_df = pd.DataFrame(lines, columns=['ksize', 'jaccard', 'comparison'])\nprint(protein_coding_vs_lncrna_df.shape)\nprotein_coding_vs_lncrna_df.head()",
    "persistent_id": "f732ef44-dbbc-4e4b-a370-d38eb57c5bd2"
   },
   "outputs": [
    {
     "name": "stdout",
     "output_type": "stream",
     "text": [
      "total possible k-mers of size 5:  1024\n",
      "total possible k-mers of size 6:  4096\n",
      "total possible k-mers of size 7:  16384\n",
      "total possible k-mers of size 8:  65536\n",
      "total possible k-mers of size 9:  262144\n",
      "total possible k-mers of size 10:  1048576\n",
      "total possible k-mers of size 11:  4194304\n",
      "total possible k-mers of size 12:  16777216\n",
      "total possible k-mers of size 13:  67108864\n",
      "total possible k-mers of size 14:  268435456\n",
      "total possible k-mers of size 15:  1073741824\n",
      "total possible k-mers of size 16:  4294967296\n",
      "total possible k-mers of size 17:  17179869184\n",
      "total possible k-mers of size 18:  68719476736\n",
      "total possible k-mers of size 19:  274877906944\n",
      "total possible k-mers of size 20:  1099511627776\n",
      "total possible k-mers of size 21:  4398046511104\n",
      "(68, 3)\n",
      "(34, 3)\n",
      "CPU times: user 29.9 s, sys: 11.8 s, total: 41.8 s\n",
      "Wall time: 41.8 s\n"
     ]
    }
   ],
   "source": [
    "%%time\n",
    "\n",
    "ksizes = range(5, 22)\n",
    "\n",
    "lines = []\n",
    "n_kmer_lines = []\n",
    "\n",
    "def kmerize_count_append(id_seqs, name):\n",
    "    kmers = set(itertools.chain(*[kmerize(seq, ksize) for transcript_id, seq in id_seqs if seq is not None]))\n",
    "    n_kmers = len(kmers)\n",
    "    \n",
    "    n_kmer_lines.append([ksize, len(kmers), name])\n",
    "    return kmers, n_kmer_lines\n",
    "\n",
    "for ksize in ksizes:\n",
    "    n_possible_kmers = 4**ksize\n",
    "    n_kmer_lines.append([ksize, n_possible_kmers, 'total possible: 4^k'])\n",
    "    \n",
    "    print(f\"total possible k-mers of size {ksize}: \", n_possible_kmers)\n",
    "    \n",
    "    # lincRNAs\n",
    "    lincrna_kmers, n_kmer_lines = kmerize_count_append(lincRNA, 'lincRNA')\n",
    "    \n",
    "    # Protein-coding CDNA (whole transcript)\n",
    "    protein_coding_cdna_kmers, n_kmer_lines = kmerize_count_append(protein_coding, 'protein_coding_cdna')\n",
    "    \n",
    "    # Protein-coding CDS (translated part only)\n",
    "    protein_coding_cds_kmers, n_kmer_lines = kmerize_count_append(protein_coding_cds_only, 'protein_coding_cdna')\n",
    "\n",
    "    jaccard = jaccardize(protein_coding_cds_kmers, lincrna_kmers)\n",
    "    lines.append([ksize, jaccard, 'lincRNA vs protein-coding CDS'])\n",
    "\n",
    "    jaccard = jaccardize(protein_coding_cdna_kmers, lincrna_kmers)\n",
    "    lines.append([ksize, jaccard, 'lincRNA vs protein-coding cDNA'])\n",
    "\n",
    "\n",
    "n_kmer_df = pd.DataFrame(n_kmer_lines, columns=['ksize', 'count', 'category'])\n",
    "print(n_kmer_df.shape)\n",
    "\n",
    "    \n",
    "protein_coding_vs_lncrna_df = pd.DataFrame(lines, columns=['ksize', 'jaccard', 'comparison'])\n",
    "print(protein_coding_vs_lncrna_df.shape)\n",
    "protein_coding_vs_lncrna_df.head()"
   ]
  },
  {
   "cell_type": "code",
   "execution_count": 63,
   "metadata": {
    "execution_event_id": "c03aa11e-6f92-4e0c-b478-c141c7b477d3",
    "last_executed_text": "n_kmer_df = pd.DataFrame(n_kmer_lines, columns=['ksize', 'count', 'category'])\nprint(n_kmer_df.shape)\nn_kmer_df.head()",
    "persistent_id": "ffe7fce2-b519-4e87-97f9-451a06c32661"
   },
   "outputs": [
    {
     "name": "stdout",
     "output_type": "stream",
     "text": [
      "(68, 3)\n"
     ]
    },
    {
     "data": {
      "text/html": [
       "<div>\n",
       "<style scoped>\n",
       "    .dataframe tbody tr th:only-of-type {\n",
       "        vertical-align: middle;\n",
       "    }\n",
       "\n",
       "    .dataframe tbody tr th {\n",
       "        vertical-align: top;\n",
       "    }\n",
       "\n",
       "    .dataframe thead th {\n",
       "        text-align: right;\n",
       "    }\n",
       "</style>\n",
       "<table border=\"1\" class=\"dataframe\">\n",
       "  <thead>\n",
       "    <tr style=\"text-align: right;\">\n",
       "      <th></th>\n",
       "      <th>ksize</th>\n",
       "      <th>count</th>\n",
       "      <th>category</th>\n",
       "    </tr>\n",
       "  </thead>\n",
       "  <tbody>\n",
       "    <tr>\n",
       "      <th>0</th>\n",
       "      <td>5</td>\n",
       "      <td>1024</td>\n",
       "      <td>total possible: 4^k</td>\n",
       "    </tr>\n",
       "    <tr>\n",
       "      <th>1</th>\n",
       "      <td>5</td>\n",
       "      <td>1024</td>\n",
       "      <td>lincRNA</td>\n",
       "    </tr>\n",
       "    <tr>\n",
       "      <th>2</th>\n",
       "      <td>5</td>\n",
       "      <td>1024</td>\n",
       "      <td>protein_coding_cdna</td>\n",
       "    </tr>\n",
       "    <tr>\n",
       "      <th>3</th>\n",
       "      <td>5</td>\n",
       "      <td>1059</td>\n",
       "      <td>protein_coding_cdna</td>\n",
       "    </tr>\n",
       "    <tr>\n",
       "      <th>4</th>\n",
       "      <td>6</td>\n",
       "      <td>4096</td>\n",
       "      <td>total possible: 4^k</td>\n",
       "    </tr>\n",
       "  </tbody>\n",
       "</table>\n",
       "</div>"
      ],
      "text/plain": [
       "   ksize  count             category\n",
       "0      5   1024  total possible: 4^k\n",
       "1      5   1024              lincRNA\n",
       "2      5   1024  protein_coding_cdna\n",
       "3      5   1059  protein_coding_cdna\n",
       "4      6   4096  total possible: 4^k"
      ]
     },
     "execution_count": 63,
     "metadata": {},
     "output_type": "execute_result"
    }
   ],
   "source": [
    "n_kmer_df = pd.DataFrame(n_kmer_lines, columns=['ksize', 'count', 'category'])\n",
    "print(n_kmer_df.shape)\n",
    "n_kmer_df.head()"
   ]
  },
  {
   "cell_type": "code",
   "execution_count": 80,
   "metadata": {
    "execution_event_id": "cb718b2d-e4d8-461f-81d0-25d2436d6246",
    "last_executed_text": "sns.catplot(x='ksize', y='jaccard', data=protein_coding_vs_lncrna_df, hue='comparison', kind='point')\nax = plt.gca()\nax.set(title=\"K-mer similarity between coding (CDS) and non-coding (ncRNA) transcripts\\nHuman Gencode V30, Ensembl v97\")",
    "persistent_id": "6ffe7471-0adf-4be5-a22d-cd75ae8af89f"
   },
   "outputs": [
    {
     "data": {
      "text/plain": [
       "[Text(0.5, 1, 'K-mer similarity between coding (CDS) and non-coding (ncRNA) transcripts\\nHuman Gencode V30, Ensembl v97')]"
      ]
     },
     "execution_count": 80,
     "metadata": {},
     "output_type": "execute_result"
    },
    {
     "data": {
      "image/png": "[encoded data removed]",
      "text/plain": [
       "<Figure size 555.75x360 with 1 Axes>"
      ]
     },
     "metadata": {
      "needs_background": "light"
     },
     "output_type": "display_data"
    }
   ],
   "source": [
    "sns.catplot(x='ksize', y='jaccard', data=protein_coding_vs_lncrna_df, hue='comparison', kind='point')\n",
    "ax = plt.gca()\n",
    "ax.set(title=\"K-mer similarity between coding (CDS) and non-coding (ncRNA) transcripts\\nHuman Gencode V30, Ensembl v97\")"
   ]
  },
  {
   "cell_type": "code",
   "execution_count": 68,
   "metadata": {
    "execution_event_id": "53930876-67eb-459a-a61a-6d5be923190f",
    "last_executed_text": "sns.factorplot(x='ksize', y='count', data=n_kmer_df, hue='category')\nax = plt.gca()\nax.set(title=\"K-mer similarity between lincRNA transcripts and protein-coding CDS\\nHuman Gencode V30, Ensembl v97\")",
    "persistent_id": "0e89d563-4d0b-49cd-8d74-300f70bd180e"
   },
   "outputs": [
    {
     "data": {
      "text/plain": [
       "[Text(0.5, 1, 'K-mer similarity between lincRNA transcripts and protein-coding CDS\\nHuman Gencode V30, Ensembl v97')]"
      ]
     },
     "execution_count": 68,
     "metadata": {},
     "output_type": "execute_result"
    },
    {
     "data": {
      "image/png": "[encoded data removed]",
      "text/plain": [
       "<Figure size 499.5x360 with 1 Axes>"
      ]
     },
     "metadata": {
      "needs_background": "light"
     },
     "output_type": "display_data"
    }
   ],
   "source": [
    "sns.factorplot(x='ksize', y='count', data=n_kmer_df, hue='category')\n",
    "ax = plt.gca()\n",
    "ax.set(title=\"K-mer similarity between lincRNA transcripts and protein-coding CDS\\nHuman Gencode V30, Ensembl v97\")"
   ]
  },
  {
   "cell_type": "code",
   "execution_count": 67,
   "metadata": {
    "execution_event_id": "0045edf5-02ce-4eeb-8f56-a5dc757b1833",
    "last_executed_text": "n_kmer_df['count_log2'] = np.log2(n_kmer_df['count'])\nn_kmer_df.head()",
    "persistent_id": "bf145fc2-715d-4263-a978-d3d488d3ef79"
   },
   "outputs": [
    {
     "data": {
      "text/html": [
       "<div>\n",
       "<style scoped>\n",
       "    .dataframe tbody tr th:only-of-type {\n",
       "        vertical-align: middle;\n",
       "    }\n",
       "\n",
       "    .dataframe tbody tr th {\n",
       "        vertical-align: top;\n",
       "    }\n",
       "\n",
       "    .dataframe thead th {\n",
       "        text-align: right;\n",
       "    }\n",
       "</style>\n",
       "<table border=\"1\" class=\"dataframe\">\n",
       "  <thead>\n",
       "    <tr style=\"text-align: right;\">\n",
       "      <th></th>\n",
       "      <th>ksize</th>\n",
       "      <th>count</th>\n",
       "      <th>category</th>\n",
       "      <th>count_log2</th>\n",
       "    </tr>\n",
       "  </thead>\n",
       "  <tbody>\n",
       "    <tr>\n",
       "      <th>0</th>\n",
       "      <td>5</td>\n",
       "      <td>1024</td>\n",
       "      <td>total possible: 4^k</td>\n",
       "      <td>10.000000</td>\n",
       "    </tr>\n",
       "    <tr>\n",
       "      <th>1</th>\n",
       "      <td>5</td>\n",
       "      <td>1024</td>\n",
       "      <td>lincRNA</td>\n",
       "      <td>10.000000</td>\n",
       "    </tr>\n",
       "    <tr>\n",
       "      <th>2</th>\n",
       "      <td>5</td>\n",
       "      <td>1024</td>\n",
       "      <td>protein_coding_cdna</td>\n",
       "      <td>10.000000</td>\n",
       "    </tr>\n",
       "    <tr>\n",
       "      <th>3</th>\n",
       "      <td>5</td>\n",
       "      <td>1059</td>\n",
       "      <td>protein_coding_cdna</td>\n",
       "      <td>10.048487</td>\n",
       "    </tr>\n",
       "    <tr>\n",
       "      <th>4</th>\n",
       "      <td>6</td>\n",
       "      <td>4096</td>\n",
       "      <td>total possible: 4^k</td>\n",
       "      <td>12.000000</td>\n",
       "    </tr>\n",
       "  </tbody>\n",
       "</table>\n",
       "</div>"
      ],
      "text/plain": [
       "   ksize  count             category  count_log2\n",
       "0      5   1024  total possible: 4^k   10.000000\n",
       "1      5   1024              lincRNA   10.000000\n",
       "2      5   1024  protein_coding_cdna   10.000000\n",
       "3      5   1059  protein_coding_cdna   10.048487\n",
       "4      6   4096  total possible: 4^k   12.000000"
      ]
     },
     "execution_count": 67,
     "metadata": {},
     "output_type": "execute_result"
    }
   ],
   "source": [
    "n_kmer_df['count_log2'] = np.log2(n_kmer_df['count'])\n",
    "n_kmer_df.head()"
   ]
  },
  {
   "cell_type": "code",
   "execution_count": 70,
   "metadata": {
    "execution_event_id": "03b99379-a424-4f53-a3c3-542a750c4583",
    "last_executed_text": "sns.factorplot(x='ksize', y='count_log2', data=n_kmer_df, hue='category')\nax = plt.gca()\n# ax.set(title=\"K-mer similarity between lincRNA transcripts and protein-coding CDS\\nHuman Gencode V30, Ensembl v97\")",
    "persistent_id": "fe29a887-932e-41a2-a7e6-7036ab2c70b9"
   },
   "outputs": [
    {
     "data": {
      "image/png": "[encoded data removed]",
      "text/plain": [
       "<Figure size 499.5x360 with 1 Axes>"
      ]
     },
     "metadata": {
      "needs_background": "light"
     },
     "output_type": "display_data"
    }
   ],
   "source": [
    "sns.factorplot(x='ksize', y='count_log2', data=n_kmer_df, hue='category')\n",
    "ax = plt.gca()\n",
    "# ax.set(title=\"K-mer similarity between lincRNA transcripts and protein-coding CDS\\nHuman Gencode V30, Ensembl v97\")"
   ]
  },
  {
   "cell_type": "markdown",
   "metadata": {
    "persistent_id": "b419c56d-edd4-4591-8466-b7c1541a1739"
   },
   "source": [
    "### After counting bases and kmers with rust"
   ]
  },
  {
   "cell_type": "code",
   "execution_count": 72,
   "metadata": {
    "execution_event_id": "9179645e-2f62-462c-8ebf-94bebeee4cee",
    "last_executed_text": "f'{4**15:,}'",
    "persistent_id": "39234fe2-574c-4897-af40-9013d914e0f8"
   },
   "outputs": [
    {
     "data": {
      "text/plain": [
       "'1,073,741,824'"
      ]
     },
     "execution_count": 72,
     "metadata": {},
     "output_type": "execute_result"
    }
   ],
   "source": [
    "f'{4**15:,}'"
   ]
  },
  {
   "cell_type": "markdown",
   "metadata": {},
   "source": [
    "Number of bases in human CDS"
   ]
  },
  {
   "cell_type": "code",
   "execution_count": 74,
   "metadata": {
    "execution_event_id": "adbaa56a-aa9e-416d-8af9-e6f83173bb85",
    "last_executed_text": "f'{125185305:,}'",
    "persistent_id": "e7b4e51a-f00e-43a7-aef4-aa8932d4d4e1"
   },
   "outputs": [
    {
     "data": {
      "text/plain": [
       "'125,185,305'"
      ]
     },
     "execution_count": 74,
     "metadata": {},
     "output_type": "execute_result"
    }
   ],
   "source": [
    "f'{125185305:,}'"
   ]
  },
  {
   "cell_type": "markdown",
   "metadata": {
    "execution_event_id": "382755dd-198a-42b9-8db6-56749fb5be6c",
    "last_executed_text": "Number of kmers in human cDNA",
    "persistent_id": "84dfc838-548b-4a93-b197-3dcc5a092f0f"
   },
   "source": [
    "Number of kmers in human CDS"
   ]
  },
  {
   "cell_type": "code",
   "execution_count": 78,
   "metadata": {
    "execution_event_id": "92034af0-3226-4042-bbe9-6b355f811d7d",
    "last_executed_text": "f\"{31877955:,}\"",
    "persistent_id": "783e30b5-f376-49b8-abe6-c6ce3696b95f"
   },
   "outputs": [
    {
     "data": {
      "text/plain": [
       "'31,877,955'"
      ]
     },
     "execution_count": 78,
     "metadata": {},
     "output_type": "execute_result"
    }
   ],
   "source": [
    "f\"{31877955:,}\""
   ]
  },
  {
   "cell_type": "markdown",
   "metadata": {},
   "source": [
    "Number of bases in human ncRNA"
   ]
  },
  {
   "cell_type": "code",
   "execution_count": 76,
   "metadata": {
    "execution_event_id": "7f8f5fc9-4edf-4992-a9dd-9d5d70606d4d",
    "last_executed_text": "f'{65790873:,}'",
    "persistent_id": "c00c6b85-06cf-46c1-8a29-54081ec225c3"
   },
   "outputs": [
    {
     "data": {
      "text/plain": [
       "'65,790,873'"
      ]
     },
     "execution_count": 76,
     "metadata": {},
     "output_type": "execute_result"
    }
   ],
   "source": [
    "f'{65790873:,}'"
   ]
  },
  {
   "cell_type": "markdown",
   "metadata": {},
   "source": [
    "Number of kmers in human ncRNA"
   ]
  },
  {
   "cell_type": "code",
   "execution_count": 77,
   "metadata": {
    "execution_event_id": "ec0181b8-1b6c-4999-a431-05387517c675",
    "last_executed_text": "f'{28493287:,}'",
    "persistent_id": "37525a28-d735-44bc-8c5d-7d1abf09a782"
   },
   "outputs": [
    {
     "data": {
      "text/plain": [
       "'28,493,287'"
      ]
     },
     "execution_count": 77,
     "metadata": {},
     "output_type": "execute_result"
    }
   ],
   "source": [
    "f'{28493287:,}'"
   ]
  },
  {
   "cell_type": "code",
   "execution_count": 75,
   "metadata": {
    "execution_event_id": "e55506f7-8331-4ed1-b462-32cb458ab866",
    "last_executed_text": "125185305/4**15",
    "persistent_id": "7028d6c5-f0fd-48ec-839d-0c368bab0551"
   },
   "outputs": [
    {
     "data": {
      "text/plain": [
       "0.11658790055662394"
      ]
     },
     "execution_count": 75,
     "metadata": {},
     "output_type": "execute_result"
    }
   ],
   "source": [
    "125185305/"
   ]
  },
  {
   "cell_type": "code",
   "execution_count": null,
   "metadata": {
    "persistent_id": "fed55e6f-bfd4-4e4a-83e3-1ef210ca8120"
   },
   "outputs": [],
   "source": []
  },
  {
   "cell_type": "code",
   "execution_count": null,
   "metadata": {
    "execution_event_id": "b8eea0c6-86de-471b-8fdf-1784e01987b1",
    "last_executed_text": "sns.factorplot(x='ksize', y='n_protein_coding_kmers', data=protein_coding_vs_lncrna_df)\nax = plt.gca()\nax.set(title=\"K-mer similarity between lincRNA transcripts and protein-coding CDS\\nHuman Gencode V30, Ensembl v97\")",
    "persistent_id": "da9216bc-dad1-4cde-adbc-318d20c1f358"
   },
   "outputs": [],
   "source": [
    "sns.factorplot(x='ksize', y='n_protein_coding_kmers', data=protein_coding_vs_lncrna_df)\n",
    "# ax = plt.gca()\n",
    "# ax.set(title=\"K-mer similarity between lincRNA transcripts and protein-coding CDS\\nHuman Gencode V30, Ensembl v97\")"
   ]
  },
  {
   "cell_type": "code",
   "execution_count": null,
   "metadata": {
    "persistent_id": "aa35c9ed-86ba-4087-aad0-4f18b33b96ae"
   },
   "outputs": [],
   "source": []
  }
 ],
 "metadata": {
  "history": [
   {
    "cell": {
     "executionCount": 1,
     "executionEventId": "4b926f54-7639-4345-a7cf-a86d4df8075d",
     "hasError": true,
     "id": "e993fe13-b894-42bc-a89c-be6b5660df44",
     "outputs": [
      {
       "ename": "ModuleNotFoundError",
       "evalue": "No module named 'Bio'",
       "output_type": "error",
       "traceback": [
        "\u001b[0;31m---------------------------------------------------------------------------\u001b[0m",
        "\u001b[0;31mModuleNotFoundError\u001b[0m                       Traceback (most recent call last)",
        "\u001b[0;32m<ipython-input-1-f0dda5d88681>\u001b[0m in \u001b[0;36m<module>\u001b[0;34m\u001b[0m\n\u001b[0;32m----> 1\u001b[0;31m \u001b[0;32mfrom\u001b[0m \u001b[0mBio\u001b[0m \u001b[0;32mimport\u001b[0m \u001b[0mSeqIO\u001b[0m\u001b[0;34m\u001b[0m\u001b[0;34m\u001b[0m\u001b[0m\n\u001b[0m\u001b[1;32m      2\u001b[0m \u001b[0;34m\u001b[0m\u001b[0m\n\u001b[1;32m      3\u001b[0m \u001b[0;32mimport\u001b[0m \u001b[0mpandas\u001b[0m \u001b[0;32mas\u001b[0m \u001b[0mpd\u001b[0m\u001b[0;34m\u001b[0m\u001b[0;34m\u001b[0m\u001b[0m\n",
        "\u001b[0;31mModuleNotFoundError\u001b[0m: No module named 'Bio'"
       ]
      }
     ],
     "persistentId": "7da06333-e82b-43dc-a224-ab6fdaf3026a",
     "text": "from Bio import SeqIO\n\nimport pandas as pd"
    },
    "executionTime": "2019-09-05T13:26:51.201Z"
   },
   {
    "cell": {
     "executionCount": 1,
     "executionEventId": "ef0882b9-51f1-478a-9613-82cb4c0ce6db",
     "hasError": false,
     "id": "e993fe13-b894-42bc-a89c-be6b5660df44",
     "outputs": [],
     "persistentId": "7da06333-e82b-43dc-a224-ab6fdaf3026a",
     "text": "from Bio import SeqIO\n\nimport pandas as pd"
    },
    "executionTime": "2019-09-05T13:27:03.294Z"
   },
   {
    "cell": {
     "executionCount": 2,
     "executionEventId": "12dfe176-6d29-4d33-a39b-18b158818236",
     "hasError": false,
     "id": "2a0e56b1-1dd0-4229-bcc9-f859dca3637e",
     "outputs": [
      {
       "name": "stdout",
       "output_type": "stream",
       "text": "total 2.0K\ndrwxrwxr-x  4 olga 21002 4.0K Jul 16 10:06 .\ndrwxrwxr-x 14 olga 21002 4.0K Sep  4 16:14 ..\ndrwxrwxr-x  4 olga 21002 4.0K Jul 16 10:06 human\ndrwxrwxr-x  5 olga 21002 4.0K Jul 16 10:06 mouse\n"
      }
     ],
     "persistentId": "8b2c97bf-2357-45a3-ad48-0eee9b1b040f",
     "text": "GENCODE_FOLDER = '/home/olga/data_lg/czbiohub-reference/gencode/'\n! ls -lha $GENCODE_FOLDER"
    },
    "executionTime": "2019-09-05T13:27:33.242Z"
   },
   {
    "cell": {
     "executionCount": 3,
     "executionEventId": "6dfbb609-023a-4e7c-8285-3b8ecc683e12",
     "hasError": false,
     "id": "3665a846-92ee-4f98-9f22-13e1cb353fef",
     "outputs": [
      {
       "name": "stdout",
       "output_type": "stream",
       "text": "gencode.v30.annotation.ERCC92.bed\ngencode.v30.annotation.ERCC92.gene_type.bed\n\u001b[0m\u001b[01;32mgencode.v30.annotation.ERCC92.gene_type.gtf\u001b[0m*\n\u001b[01;32mgencode.v30.annotation.ERCC92.gtf\u001b[0m*\n\u001b[01;32mgencode.v30.annotation.gtf\u001b[0m*\n\u001b[01;31mgencode.v30.pc_translations.fa.gz\u001b[0m\n\u001b[01;32mgencode.v30.transcripts.ERCC92.fa\u001b[0m*\n\u001b[01;32mgencode.v30.transcripts.fa\u001b[0m*\n\u001b[01;32mgetfasta_transcript_test.fa\u001b[0m*\n\u001b[01;32mGRCh38.p12.genome.ERCC92.fa\u001b[0m*\n\u001b[01;32mGRCh38.p12.genome.fa\u001b[0m*\n\u001b[01;32mGRCh38.p12.genome.fa.fai\u001b[0m*\nHomo_sapiens.GRCh38.96.bed\n\u001b[01;32mMakefile\u001b[0m*\n\u001b[01;32mMakefile~\u001b[0m*\n\u001b[01;34msalmon_index\u001b[0m/\n\u001b[01;34mSTARIndex\u001b[0m/\n\u001b[01;32mtest_gffread_transcripts.fa\u001b[0m*\n\u001b[01;32mtest_gffread_transcripts_no_dashF.fa\u001b[0m*\n\u001b[01;32mw\u001b[0m*\n"
      }
     ],
     "persistentId": "deade31d-acbe-4b44-9f0c-cf962297043d",
     "text": "ls $GENCODE_FOLDER/human/v30/"
    },
    "executionTime": "2019-09-05T13:27:43.540Z"
   },
   {
    "cell": {
     "executionCount": 4,
     "executionEventId": "9eece358-fce6-4050-a0a2-74f272f44c11",
     "hasError": false,
     "id": "42899698-fdb3-4aa2-aa05-7c1944eb906c",
     "outputs": [
      {
       "name": "stdout",
       "output_type": "stream",
       "text": ">ENST00000456328.2|ENSG00000223972.5|OTTHUMG00000000961.2|OTTHUMT00000362751.1|DDX11L1-202|DDX11L1|1657|processed_transcript|\n>ENST00000450305.2|ENSG00000223972.5|OTTHUMG00000000961.2|OTTHUMT00000002844.2|DDX11L1-201|DDX11L1|632|transcribed_unprocessed_pseudogene|\n>ENST00000488147.1|ENSG00000227232.5|OTTHUMG00000000958.1|OTTHUMT00000002839.1|WASH7P-201|WASH7P|1351|unprocessed_pseudogene|\n>ENST00000619216.1|ENSG00000278267.1|-|-|MIR6859-1-201|MIR6859-1|68|miRNA|\n>ENST00000473358.1|ENSG00000243485.5|OTTHUMG00000000959.2|OTTHUMT00000002840.1|MIR1302-2HG-202|MIR1302-2HG|712|lincRNA|\n>ENST00000469289.1|ENSG00000243485.5|OTTHUMG00000000959.2|OTTHUMT00000002841.2|MIR1302-2HG-201|MIR1302-2HG|535|lincRNA|\n>ENST00000607096.1|ENSG00000284332.1|-|-|MIR1302-2-201|MIR1302-2|138|miRNA|\n>ENST00000417324.1|ENSG00000237613.2|OTTHUMG00000000960.1|OTTHUMT00000002842.1|FAM138A-201|FAM138A|1187|lincRNA|\n>ENST00000461467.1|ENSG00000237613.2|OTTHUMG00000000960.1|OTTHUMT00000002843.1|FAM138A-202|FAM138A|590|lincRNA|\n>ENST00000606857.1|ENSG00000268020.3|OTTHUMG00000185779.1|OTTHUMT00000471235.1|OR4G4P-201|OR4G4P|840|unprocessed_pseudogene|\ngrep: write error: Broken pipe\n"
      }
     ],
     "persistentId": "9d7fe2f3-5378-4a5a-8ab6-9eda9f4c436d",
     "text": "! grep '>' $GENCODE_FOLDER/human/v30/gencode.v30.transcripts.fa | head"
    },
    "executionTime": "2019-09-05T13:28:12.816Z"
   },
   {
    "cell": {
     "executionCount": 5,
     "executionEventId": "a22966be-824b-4d4e-8407-95c045068c73",
     "hasError": false,
     "id": "e993fe13-b894-42bc-a89c-be6b5660df44",
     "outputs": [],
     "persistentId": "7da06333-e82b-43dc-a224-ab6fdaf3026a",
     "text": "import random\n\nfrom Bio import SeqIO\n\nimport pandas as pd"
    },
    "executionTime": "2019-09-05T13:29:12.998Z"
   },
   {
    "cell": {
     "executionCount": 6,
     "executionEventId": "765ad2c1-e928-433c-b947-0a33a9b80e65",
     "hasError": false,
     "id": "42899698-fdb3-4aa2-aa05-7c1944eb906c",
     "outputs": [
      {
       "name": "stdout",
       "output_type": "stream",
       "text": "processed_transcript\ntranscribed_unprocessed_pseudogene\nunprocessed_pseudogene\nmiRNA\nlincRNA\nlincRNA\nmiRNA\nlincRNA\nlincRNA\nunprocessed_pseudogene\ngrep: write error: Broken pipe\n"
      }
     ],
     "persistentId": "9d7fe2f3-5378-4a5a-8ab6-9eda9f4c436d",
     "text": "! grep '>' $GENCODE_FOLDER/human/v30/gencode.v30.transcripts.fa | head | cut -f 8 -d '|'"
    },
    "executionTime": "2019-09-05T13:32:26.824Z"
   },
   {
    "cell": {
     "executionCount": 7,
     "executionEventId": "4543abea-d0db-4a99-9b23-84ace9035401",
     "hasError": false,
     "id": "42899698-fdb3-4aa2-aa05-7c1944eb906c",
     "outputs": [
      {
       "name": "stdout",
       "output_type": "stream",
       "text": "3prime_overlapping_ncRNA\nantisense\nbidirectional_promoter_lncRNA\nIG_C_gene\nIG_C_pseudogene\nIG_D_gene\nIG_J_gene\nIG_J_pseudogene\nIG_pseudogene\nIG_V_gene\nIG_V_pseudogene\nlincRNA\nmacro_lncRNA\nmiRNA\nmisc_RNA\nMt_rRNA\nMt_tRNA\nnon_coding\nnonsense_mediated_decay\nnon_stop_decay\npolymorphic_pseudogene\nprocessed_pseudogene\nprocessed_transcript\nprotein_coding\npseudogene\nretained_intron\nribozyme\nrRNA\nrRNA_pseudogene\nscaRNA\nscRNA\nsense_intronic\nsense_overlapping\nsnoRNA\nsnRNA\nsRNA\nTEC\ntranscribed_processed_pseudogene\ntranscribed_unitary_pseudogene\ntranscribed_unprocessed_pseudogene\ntranslated_processed_pseudogene\nTR_C_gene\nTR_D_gene\nTR_J_gene\nTR_J_pseudogene\nTR_V_gene\nTR_V_pseudogene\nunitary_pseudogene\nunprocessed_pseudogene\nvaultRNA\n"
      }
     ],
     "persistentId": "9d7fe2f3-5378-4a5a-8ab6-9eda9f4c436d",
     "text": "! grep '>' $GENCODE_FOLDER/human/v30/gencode.v30.transcripts.fa | cut -f 8 -d '|' | sort | uniq"
    },
    "executionTime": "2019-09-05T13:32:39.479Z"
   },
   {
    "cell": {
     "executionCount": 8,
     "executionEventId": "90dc1c1b-5f71-4910-a0d9-029115f96117",
     "hasError": false,
     "id": "42899698-fdb3-4aa2-aa05-7c1944eb906c",
     "outputs": [
      {
       "name": "stdout",
       "output_type": "stream",
       "text": "     41 3prime_overlapping_ncRNA\n  11636 antisense\n    329 bidirectional_promoter_lncRNA\n     23 IG_C_gene\n      9 IG_C_pseudogene\n     37 IG_D_gene\n     18 IG_J_gene\n      3 IG_J_pseudogene\n      1 IG_pseudogene\n    144 IG_V_gene\n    188 IG_V_pseudogene\n  14933 lincRNA\n      1 macro_lncRNA\n   1881 miRNA\n   2227 misc_RNA\n      2 Mt_rRNA\n     22 Mt_tRNA\n      1 non_coding\n  15550 nonsense_mediated_decay\n     90 non_stop_decay\n     63 polymorphic_pseudogene\n  10171 processed_pseudogene\n  28809 processed_transcript\n  83688 protein_coding\n     38 pseudogene\n  28273 retained_intron\n      8 ribozyme\n     52 rRNA\n    500 rRNA_pseudogene\n     49 scaRNA\n      1 scRNA\n    950 sense_intronic\n    368 sense_overlapping\n    954 snoRNA\n   1901 snRNA\n      5 sRNA\n   1158 TEC\n    494 transcribed_processed_pseudogene\n    131 transcribed_unitary_pseudogene\n    914 transcribed_unprocessed_pseudogene\n      2 translated_processed_pseudogene\n      6 TR_C_gene\n      4 TR_D_gene\n     79 TR_J_gene\n      4 TR_J_pseudogene\n    106 TR_V_gene\n     33 TR_V_pseudogene\n     96 unitary_pseudogene\n   2626 unprocessed_pseudogene\n      2 vaultRNA\n"
      }
     ],
     "persistentId": "9d7fe2f3-5378-4a5a-8ab6-9eda9f4c436d",
     "text": "! grep '>' $GENCODE_FOLDER/human/v30/gencode.v30.transcripts.fa | cut -f 8 -d '|' | sort | uniq -c"
    },
    "executionTime": "2019-09-05T13:33:25.030Z"
   },
   {
    "cell": {
     "executionCount": 9,
     "executionEventId": "44674e81-4fc1-40d8-af30-47d86f6e6058",
     "hasError": true,
     "id": "982e9287-dd13-4d67-b6ca-6ba9f56e9caa",
     "outputs": [
      {
       "ename": "SyntaxError",
       "evalue": "invalid syntax (<ipython-input-9-8d2aa9b42eac>, line 20)",
       "output_type": "error",
       "traceback": [
        "\u001b[0;36m  File \u001b[0;32m\"<ipython-input-9-8d2aa9b42eac>\"\u001b[0;36m, line \u001b[0;32m20\u001b[0m\n\u001b[0;31m    else metadata[-1] == 'lincRNA':\u001b[0m\n\u001b[0m                ^\u001b[0m\n\u001b[0;31mSyntaxError\u001b[0m\u001b[0;31m:\u001b[0m invalid syntax\n"
       ]
      }
     ],
     "persistentId": "58dee61b-27de-4664-af4c-afd27a03a50f",
     "text": "n_desired_records = 100\n\nlincRNA = []\nprotein_coding = []\n\nlincRNA_metadata_lines = []\nprotein_coding_metadata_lines = []\n\nrecords = SeqIO.parse(f\"{GENCODE_FOLDER}/human/v30/gencode.v30.transcripts.fa\")\n\n# Shuffles in-place and returns none\nrandom.shuffle(records)\n\nfor record in records:\n    metadata = record.id.split(\"|\")\n    if metadata[-1] == 'protein_coding':\n        if len(protein_coding) < n_desired_records:\n            protein_coding.append(record)\n            protein_coding_metadata_lines.append(metadata)\n    else metadata[-1] == 'lincRNA':\n        if len(lincRNA) < n_desired_records:\n            lincRNA.append(record)\n            lincRNA_metadata_lines.append(metadata)\n    if len(linRNA) >= n_desired_records and len(protein_coding) >= n_desired_records:\n        break"
    },
    "executionTime": "2019-09-05T13:36:21.457Z"
   },
   {
    "cell": {
     "executionCount": 10,
     "executionEventId": "a50c9c01-0b8e-4cd6-a22c-22271e5ec643",
     "hasError": true,
     "id": "982e9287-dd13-4d67-b6ca-6ba9f56e9caa",
     "outputs": [
      {
       "ename": "TypeError",
       "evalue": "parse() missing 1 required positional argument: 'format'",
       "output_type": "error",
       "traceback": [
        "\u001b[0;31m---------------------------------------------------------------------------\u001b[0m",
        "\u001b[0;31mTypeError\u001b[0m                                 Traceback (most recent call last)",
        "\u001b[0;32m<ipython-input-10-e819b6fd68fc>\u001b[0m in \u001b[0;36m<module>\u001b[0;34m()\u001b[0m\n\u001b[1;32m      7\u001b[0m \u001b[0mprotein_coding_metadata_lines\u001b[0m \u001b[0;34m=\u001b[0m \u001b[0;34m[\u001b[0m\u001b[0;34m]\u001b[0m\u001b[0;34m\u001b[0m\u001b[0;34m\u001b[0m\u001b[0m\n\u001b[1;32m      8\u001b[0m \u001b[0;34m\u001b[0m\u001b[0m\n\u001b[0;32m----> 9\u001b[0;31m \u001b[0mrecords\u001b[0m \u001b[0;34m=\u001b[0m \u001b[0mSeqIO\u001b[0m\u001b[0;34m.\u001b[0m\u001b[0mparse\u001b[0m\u001b[0;34m(\u001b[0m\u001b[0;34mf\"{GENCODE_FOLDER}/human/v30/gencode.v30.transcripts.fa\"\u001b[0m\u001b[0;34m)\u001b[0m\u001b[0;34m\u001b[0m\u001b[0;34m\u001b[0m\u001b[0m\n\u001b[0m\u001b[1;32m     10\u001b[0m \u001b[0;34m\u001b[0m\u001b[0m\n\u001b[1;32m     11\u001b[0m \u001b[0;31m# Shuffles in-place and returns none\u001b[0m\u001b[0;34m\u001b[0m\u001b[0;34m\u001b[0m\u001b[0;34m\u001b[0m\u001b[0m\n",
        "\u001b[0;31mTypeError\u001b[0m: parse() missing 1 required positional argument: 'format'"
       ]
      }
     ],
     "persistentId": "58dee61b-27de-4664-af4c-afd27a03a50f",
     "text": "n_desired_records = 100\n\nlincRNA = []\nprotein_coding = []\n\nlincRNA_metadata_lines = []\nprotein_coding_metadata_lines = []\n\nrecords = SeqIO.parse(f\"{GENCODE_FOLDER}/human/v30/gencode.v30.transcripts.fa\")\n\n# Shuffles in-place and returns none\nrandom.shuffle(records)\n\nfor record in records:\n    metadata = record.id.split(\"|\")\n    if metadata[-1] == 'protein_coding':\n        if len(protein_coding) < n_desired_records:\n            protein_coding.append(record)\n            protein_coding_metadata_lines.append(metadata)\n    elif metadata[-1] == 'lincRNA':\n        if len(lincRNA) < n_desired_records:\n            lincRNA.append(record)\n            lincRNA_metadata_lines.append(metadata)\n    if len(linRNA) >= n_desired_records and len(protein_coding) >= n_desired_records:\n        break"
    },
    "executionTime": "2019-09-05T13:36:27.497Z"
   },
   {
    "cell": {
     "executionCount": 11,
     "executionEventId": "70c91288-edbb-460a-b26e-1ffd726a8b40",
     "hasError": true,
     "id": "982e9287-dd13-4d67-b6ca-6ba9f56e9caa",
     "outputs": [
      {
       "ename": "TypeError",
       "evalue": "object of type 'generator' has no len()",
       "output_type": "error",
       "traceback": [
        "\u001b[0;31m---------------------------------------------------------------------------\u001b[0m",
        "\u001b[0;31mTypeError\u001b[0m                                 Traceback (most recent call last)",
        "\u001b[0;32m<ipython-input-11-083084b361c1>\u001b[0m in \u001b[0;36m<module>\u001b[0;34m()\u001b[0m\n\u001b[1;32m     10\u001b[0m \u001b[0;34m\u001b[0m\u001b[0m\n\u001b[1;32m     11\u001b[0m \u001b[0;31m# Shuffles in-place and returns none\u001b[0m\u001b[0;34m\u001b[0m\u001b[0;34m\u001b[0m\u001b[0;34m\u001b[0m\u001b[0m\n\u001b[0;32m---> 12\u001b[0;31m \u001b[0mrandom\u001b[0m\u001b[0;34m.\u001b[0m\u001b[0mshuffle\u001b[0m\u001b[0;34m(\u001b[0m\u001b[0mrecords\u001b[0m\u001b[0;34m)\u001b[0m\u001b[0;34m\u001b[0m\u001b[0;34m\u001b[0m\u001b[0m\n\u001b[0m\u001b[1;32m     13\u001b[0m \u001b[0;34m\u001b[0m\u001b[0m\n\u001b[1;32m     14\u001b[0m \u001b[0;32mfor\u001b[0m \u001b[0mrecord\u001b[0m \u001b[0;32min\u001b[0m \u001b[0mrecords\u001b[0m\u001b[0;34m:\u001b[0m\u001b[0;34m\u001b[0m\u001b[0;34m\u001b[0m\u001b[0m\n",
        "\u001b[0;32m~/miniconda3/envs/kmer-hashing/lib/python3.6/random.py\u001b[0m in \u001b[0;36mshuffle\u001b[0;34m(self, x, random)\u001b[0m\n\u001b[1;32m    272\u001b[0m         \u001b[0;32mif\u001b[0m \u001b[0mrandom\u001b[0m \u001b[0;32mis\u001b[0m \u001b[0;32mNone\u001b[0m\u001b[0;34m:\u001b[0m\u001b[0;34m\u001b[0m\u001b[0;34m\u001b[0m\u001b[0m\n\u001b[1;32m    273\u001b[0m             \u001b[0mrandbelow\u001b[0m \u001b[0;34m=\u001b[0m \u001b[0mself\u001b[0m\u001b[0;34m.\u001b[0m\u001b[0m_randbelow\u001b[0m\u001b[0;34m\u001b[0m\u001b[0;34m\u001b[0m\u001b[0m\n\u001b[0;32m--> 274\u001b[0;31m             \u001b[0;32mfor\u001b[0m \u001b[0mi\u001b[0m \u001b[0;32min\u001b[0m \u001b[0mreversed\u001b[0m\u001b[0;34m(\u001b[0m\u001b[0mrange\u001b[0m\u001b[0;34m(\u001b[0m\u001b[0;36m1\u001b[0m\u001b[0;34m,\u001b[0m \u001b[0mlen\u001b[0m\u001b[0;34m(\u001b[0m\u001b[0mx\u001b[0m\u001b[0;34m)\u001b[0m\u001b[0;34m)\u001b[0m\u001b[0;34m)\u001b[0m\u001b[0;34m:\u001b[0m\u001b[0;34m\u001b[0m\u001b[0;34m\u001b[0m\u001b[0m\n\u001b[0m\u001b[1;32m    275\u001b[0m                 \u001b[0;31m# pick an element in x[:i+1] with which to exchange x[i]\u001b[0m\u001b[0;34m\u001b[0m\u001b[0;34m\u001b[0m\u001b[0;34m\u001b[0m\u001b[0m\n\u001b[1;32m    276\u001b[0m                 \u001b[0mj\u001b[0m \u001b[0;34m=\u001b[0m \u001b[0mrandbelow\u001b[0m\u001b[0;34m(\u001b[0m\u001b[0mi\u001b[0m\u001b[0;34m+\u001b[0m\u001b[0;36m1\u001b[0m\u001b[0;34m)\u001b[0m\u001b[0;34m\u001b[0m\u001b[0;34m\u001b[0m\u001b[0m\n",
        "\u001b[0;31mTypeError\u001b[0m: object of type 'generator' has no len()"
       ]
      }
     ],
     "persistentId": "58dee61b-27de-4664-af4c-afd27a03a50f",
     "text": "n_desired_records = 100\n\nlincRNA = []\nprotein_coding = []\n\nlincRNA_metadata_lines = []\nprotein_coding_metadata_lines = []\n\nrecords = SeqIO.parse(f\"{GENCODE_FOLDER}/human/v30/gencode.v30.transcripts.fa\", 'fasta')\n\n# Shuffles in-place and returns none\nrandom.shuffle(records)\n\nfor record in records:\n    metadata = record.id.split(\"|\")\n    if metadata[-1] == 'protein_coding':\n        if len(protein_coding) < n_desired_records:\n            protein_coding.append(record)\n            protein_coding_metadata_lines.append(metadata)\n    elif metadata[-1] == 'lincRNA':\n        if len(lincRNA) < n_desired_records:\n            lincRNA.append(record)\n            lincRNA_metadata_lines.append(metadata)\n    if len(linRNA) >= n_desired_records and len(protein_coding) >= n_desired_records:\n        break"
    },
    "executionTime": "2019-09-05T13:36:35.225Z"
   },
   {
    "cell": {
     "executionCount": 12,
     "executionEventId": "ef5a4147-ec20-4715-8c7f-730a6add1619",
     "hasError": true,
     "id": "982e9287-dd13-4d67-b6ca-6ba9f56e9caa",
     "outputs": [
      {
       "ename": "NameError",
       "evalue": "name 'linRNA' is not defined",
       "output_type": "error",
       "traceback": [
        "\u001b[0;31m---------------------------------------------------------------------------\u001b[0m",
        "\u001b[0;31mNameError\u001b[0m                                 Traceback (most recent call last)",
        "\u001b[0;32m<ipython-input-12-1ac896ea4a08>\u001b[0m in \u001b[0;36m<module>\u001b[0;34m()\u001b[0m\n\u001b[1;32m     22\u001b[0m             \u001b[0mlincRNA\u001b[0m\u001b[0;34m.\u001b[0m\u001b[0mappend\u001b[0m\u001b[0;34m(\u001b[0m\u001b[0mrecord\u001b[0m\u001b[0;34m)\u001b[0m\u001b[0;34m\u001b[0m\u001b[0;34m\u001b[0m\u001b[0m\n\u001b[1;32m     23\u001b[0m             \u001b[0mlincRNA_metadata_lines\u001b[0m\u001b[0;34m.\u001b[0m\u001b[0mappend\u001b[0m\u001b[0;34m(\u001b[0m\u001b[0mmetadata\u001b[0m\u001b[0;34m)\u001b[0m\u001b[0;34m\u001b[0m\u001b[0;34m\u001b[0m\u001b[0m\n\u001b[0;32m---> 24\u001b[0;31m     \u001b[0;32mif\u001b[0m \u001b[0mlen\u001b[0m\u001b[0;34m(\u001b[0m\u001b[0mlinRNA\u001b[0m\u001b[0;34m)\u001b[0m \u001b[0;34m>=\u001b[0m \u001b[0mn_desired_records\u001b[0m \u001b[0;32mand\u001b[0m \u001b[0mlen\u001b[0m\u001b[0;34m(\u001b[0m\u001b[0mprotein_coding\u001b[0m\u001b[0;34m)\u001b[0m \u001b[0;34m>=\u001b[0m \u001b[0mn_desired_records\u001b[0m\u001b[0;34m:\u001b[0m\u001b[0;34m\u001b[0m\u001b[0;34m\u001b[0m\u001b[0m\n\u001b[0m\u001b[1;32m     25\u001b[0m         \u001b[0;32mbreak\u001b[0m\u001b[0;34m\u001b[0m\u001b[0;34m\u001b[0m\u001b[0m\n",
        "\u001b[0;31mNameError\u001b[0m: name 'linRNA' is not defined"
       ]
      }
     ],
     "persistentId": "58dee61b-27de-4664-af4c-afd27a03a50f",
     "text": "n_desired_records = 100\n\nlincRNA = []\nprotein_coding = []\n\nlincRNA_metadata_lines = []\nprotein_coding_metadata_lines = []\n\nrecords = list(SeqIO.parse(f\"{GENCODE_FOLDER}/human/v30/gencode.v30.transcripts.fa\", 'fasta'))\n\n# Shuffles in-place and returns none\nrandom.shuffle(records)\n\nfor record in records:\n    metadata = record.id.split(\"|\")\n    if metadata[-1] == 'protein_coding':\n        if len(protein_coding) < n_desired_records:\n            protein_coding.append(record)\n            protein_coding_metadata_lines.append(metadata)\n    elif metadata[-1] == 'lincRNA':\n        if len(lincRNA) < n_desired_records:\n            lincRNA.append(record)\n            lincRNA_metadata_lines.append(metadata)\n    if len(linRNA) >= n_desired_records and len(protein_coding) >= n_desired_records:\n        break"
    },
    "executionTime": "2019-09-05T13:36:47.027Z"
   },
   {
    "cell": {
     "executionCount": 13,
     "executionEventId": "c4229b83-72ea-4f95-a272-f3a7510fe62a",
     "hasError": false,
     "id": "982e9287-dd13-4d67-b6ca-6ba9f56e9caa",
     "outputs": [],
     "persistentId": "58dee61b-27de-4664-af4c-afd27a03a50f",
     "text": "n_desired_records = 100\n\nlincRNA = []\nprotein_coding = []\n\nlincRNA_metadata_lines = []\nprotein_coding_metadata_lines = []\n\nrecords = list(SeqIO.parse(f\"{GENCODE_FOLDER}/human/v30/gencode.v30.transcripts.fa\", 'fasta'))\n\n# Shuffles in-place and returns none\nrandom.shuffle(records)\n\nfor record in records:\n    metadata = record.id.split(\"|\")\n    if metadata[-1] == 'protein_coding':\n        if len(protein_coding) < n_desired_records:\n            protein_coding.append(record)\n            protein_coding_metadata_lines.append(metadata)\n    elif metadata[-1] == 'lincRNA':\n        if len(lincRNA) < n_desired_records:\n            lincRNA.append(record)\n            lincRNA_metadata_lines.append(metadata)\n    if len(lincRNA) >= n_desired_records and len(protein_coding) >= n_desired_records:\n        break\ndel records"
    },
    "executionTime": "2019-09-05T13:37:20.341Z"
   },
   {
    "cell": {
     "executionCount": 14,
     "executionEventId": "73e0a5b4-454a-454c-adef-ee2c83dfaf2f",
     "hasError": false,
     "id": "a3ddbc88-b397-4a67-b8bf-65a461536b77",
     "outputs": [
      {
       "data": {
        "text/plain": "[]"
       },
       "execution_count": 14,
       "metadata": {},
       "output_type": "execute_result"
      }
     ],
     "persistentId": "a74c5fe2-756b-4ea6-bf6b-e4ee3459bfbf",
     "text": "lincRNA[:5]"
    },
    "executionTime": "2019-09-05T13:37:20.528Z"
   },
   {
    "cell": {
     "executionCount": 15,
     "executionEventId": "66bcfb4a-21aa-49f2-951e-cf23b9ac8de4",
     "hasError": false,
     "id": "b61b41f7-8594-4f16-91e5-42751dc169d1",
     "outputs": [
      {
       "data": {
        "text/plain": "[]"
       },
       "execution_count": 15,
       "metadata": {},
       "output_type": "execute_result"
      }
     ],
     "persistentId": "f1df8f36-e80c-436b-a076-a885aa300034",
     "text": "protein_coding[:3]"
    },
    "executionTime": "2019-09-05T13:37:21.980Z"
   },
   {
    "cell": {
     "executionCount": 16,
     "executionEventId": "a776f147-93c4-45ff-9788-b743729e8a36",
     "hasError": true,
     "id": "71894c13-8aae-4513-8024-4501f46dd0de",
     "outputs": [
      {
       "ename": "NameError",
       "evalue": "name 'records' is not defined",
       "output_type": "error",
       "traceback": [
        "\u001b[0;31m---------------------------------------------------------------------------\u001b[0m",
        "\u001b[0;31mNameError\u001b[0m                                 Traceback (most recent call last)",
        "\u001b[0;32m<ipython-input-16-f8d3eda2fc1d>\u001b[0m in \u001b[0;36m<module>\u001b[0;34m()\u001b[0m\n\u001b[0;32m----> 1\u001b[0;31m \u001b[0mrecords\u001b[0m\u001b[0;34m\u001b[0m\u001b[0;34m\u001b[0m\u001b[0m\n\u001b[0m",
        "\u001b[0;31mNameError\u001b[0m: name 'records' is not defined"
       ]
      }
     ],
     "persistentId": "b8216098-173f-403e-82e9-c8c34a84b8bc",
     "text": "records"
    },
    "executionTime": "2019-09-05T13:37:27.175Z"
   },
   {
    "cell": {
     "executionCount": 17,
     "executionEventId": "771c7f19-e45d-4baf-a02d-fd2201ee932f",
     "hasError": false,
     "id": "982e9287-dd13-4d67-b6ca-6ba9f56e9caa",
     "outputs": [],
     "persistentId": "58dee61b-27de-4664-af4c-afd27a03a50f",
     "text": "n_desired_records = 100\n\nlincRNA = []\nprotein_coding = []\n\nlincRNA_metadata_lines = []\nprotein_coding_metadata_lines = []\n\nrecords = list(SeqIO.parse(f\"{GENCODE_FOLDER}/human/v30/gencode.v30.transcripts.fa\", 'fasta'))\n\n# Shuffles in-place and returns none\nrandom.shuffle(records)\n\nfor record in records:\n    metadata = record.id.split(\"|\")\n    if metadata[-1] == 'protein_coding':\n        if len(protein_coding) < n_desired_records:\n            protein_coding.append(record)\n            protein_coding_metadata_lines.append(metadata)\n    elif metadata[-1] == 'lincRNA':\n        if len(lincRNA) < n_desired_records:\n            lincRNA.append(record)\n            lincRNA_metadata_lines.append(metadata)\n    if len(lincRNA) >= n_desired_records and len(protein_coding) >= n_desired_records:\n        break\n# del records"
    },
    "executionTime": "2019-09-05T13:37:34.439Z"
   },
   {
    "cell": {
     "executionCount": 18,
     "executionEventId": "b88ae770-fd1f-468c-8712-1f164989b938",
     "hasError": false,
     "id": "a3ddbc88-b397-4a67-b8bf-65a461536b77",
     "outputs": [
      {
       "data": {
        "text/plain": "[]"
       },
       "execution_count": 18,
       "metadata": {},
       "output_type": "execute_result"
      }
     ],
     "persistentId": "a74c5fe2-756b-4ea6-bf6b-e4ee3459bfbf",
     "text": "lincRNA[:5]"
    },
    "executionTime": "2019-09-05T13:37:51.909Z"
   },
   {
    "cell": {
     "executionCount": 19,
     "executionEventId": "2333d43f-14e1-42a8-9b6f-a3a399b97e69",
     "hasError": false,
     "id": "71894c13-8aae-4513-8024-4501f46dd0de",
     "outputs": [
      {
       "data": {
        "text/plain": "[SeqRecord(seq=Seq('CGGAGAAGGATGACACCGGAGTTTGACGAAGAGGTGGTTTTTGAGAATTCTCCA...CTG', SingleLetterAlphabet()), id='ENST00000548371.5|ENSG00000028203.18|OTTHUMG00000170182.4|OTTHUMT00000407955.1|VEZT-216|VEZT|999|nonsense_mediated_decay|', name='ENST00000548371.5|ENSG00000028203.18|OTTHUMG00000170182.4|OTTHUMT00000407955.1|VEZT-216|VEZT|999|nonsense_mediated_decay|', description='ENST00000548371.5|ENSG00000028203.18|OTTHUMG00000170182.4|OTTHUMT00000407955.1|VEZT-216|VEZT|999|nonsense_mediated_decay|', dbxrefs=[]),\n SeqRecord(seq=Seq('GTTCAGTTCTCACAGTGATCTAGTGTCTGACTTTTCTAGGGAATCCAATCAATA...TAA', SingleLetterAlphabet()), id='ENST00000532757.5|ENSG00000135426.16|OTTHUMG00000165407.4|OTTHUMT00000383825.2|TESPA1-211|TESPA1|592|protein_coding|', name='ENST00000532757.5|ENSG00000135426.16|OTTHUMG00000165407.4|OTTHUMT00000383825.2|TESPA1-211|TESPA1|592|protein_coding|', description='ENST00000532757.5|ENSG00000135426.16|OTTHUMG00000165407.4|OTTHUMT00000383825.2|TESPA1-211|TESPA1|592|protein_coding|', dbxrefs=[]),\n SeqRecord(seq=Seq('GGCCGACGCAGCCAGCATGTCCGGGGTGCGCGCAGTGCGGATCAGCATCGAATC...AGT', SingleLetterAlphabet()), id='ENST00000640521.1|ENSG00000042429.12|OTTHUMG00000167497.6|OTTHUMT00000491355.2|MED17-227|MED17|2047|protein_coding|', name='ENST00000640521.1|ENSG00000042429.12|OTTHUMG00000167497.6|OTTHUMT00000491355.2|MED17-227|MED17|2047|protein_coding|', description='ENST00000640521.1|ENSG00000042429.12|OTTHUMG00000167497.6|OTTHUMT00000491355.2|MED17-227|MED17|2047|protein_coding|', dbxrefs=[]),\n SeqRecord(seq=Seq('ACTCTGCATTTCTTTCCCGCCCTCTGCAGTATGGTTTGAAGTGGTGAACATGGA...TCA', SingleLetterAlphabet()), id='ENST00000401592.6|ENSG00000164828.18|OTTHUMG00000151426.10|OTTHUMT00000322570.2|SUN1-203|SUN1|4010|protein_coding|', name='ENST00000401592.6|ENSG00000164828.18|OTTHUMG00000151426.10|OTTHUMT00000322570.2|SUN1-203|SUN1|4010|protein_coding|', description='ENST00000401592.6|ENSG00000164828.18|OTTHUMG00000151426.10|OTTHUMT00000322570.2|SUN1-203|SUN1|4010|protein_coding|', dbxrefs=[]),\n SeqRecord(seq=Seq('AGATCATGAGCCATCAGCTCCTCTGGGGCCAGCTATAGGACAACAGAACTCTCA...AAA', SingleLetterAlphabet()), id='ENST00000476873.5|ENSG00000189334.9|OTTHUMG00000035030.5|OTTHUMT00000084786.1|S100A14-206|S100A14|1025|protein_coding|', name='ENST00000476873.5|ENSG00000189334.9|OTTHUMG00000035030.5|OTTHUMT00000084786.1|S100A14-206|S100A14|1025|protein_coding|', description='ENST00000476873.5|ENSG00000189334.9|OTTHUMG00000035030.5|OTTHUMT00000084786.1|S100A14-206|S100A14|1025|protein_coding|', dbxrefs=[])]"
       },
       "execution_count": 19,
       "metadata": {},
       "output_type": "execute_result"
      }
     ],
     "persistentId": "b8216098-173f-403e-82e9-c8c34a84b8bc",
     "text": "records[:5]"
    },
    "executionTime": "2019-09-05T13:38:04.787Z"
   },
   {
    "cell": {
     "executionCount": 20,
     "executionEventId": "ceb52f95-ed7e-4573-87e2-f050a4a2bcb3",
     "hasError": true,
     "id": "982e9287-dd13-4d67-b6ca-6ba9f56e9caa",
     "outputs": [
      {
       "ename": "TypeError",
       "evalue": "'int' object is not subscriptable",
       "output_type": "error",
       "traceback": [
        "\u001b[0;31m---------------------------------------------------------------------------\u001b[0m",
        "\u001b[0;31mTypeError\u001b[0m                                 Traceback (most recent call last)",
        "\u001b[0;32m<ipython-input-20-4994a296f67b>\u001b[0m in \u001b[0;36m<module>\u001b[0;34m()\u001b[0m\n\u001b[1;32m      9\u001b[0m \u001b[0mrecords\u001b[0m \u001b[0;34m=\u001b[0m \u001b[0mlist\u001b[0m\u001b[0;34m(\u001b[0m\u001b[0mSeqIO\u001b[0m\u001b[0;34m.\u001b[0m\u001b[0mparse\u001b[0m\u001b[0;34m(\u001b[0m\u001b[0;34mf\"{GENCODE_FOLDER}/human/v30/gencode.v30.transcripts.fa\"\u001b[0m\u001b[0;34m,\u001b[0m \u001b[0;34m'fasta'\u001b[0m\u001b[0;34m)\u001b[0m\u001b[0;34m)\u001b[0m\u001b[0;34m\u001b[0m\u001b[0;34m\u001b[0m\u001b[0m\n\u001b[1;32m     10\u001b[0m \u001b[0;34m\u001b[0m\u001b[0m\n\u001b[0;32m---> 11\u001b[0;31m \u001b[0mrandom\u001b[0m\u001b[0;34m.\u001b[0m\u001b[0msetstate\u001b[0m\u001b[0;34m(\u001b[0m\u001b[0;36m0\u001b[0m\u001b[0;34m)\u001b[0m\u001b[0;34m\u001b[0m\u001b[0;34m\u001b[0m\u001b[0m\n\u001b[0m\u001b[1;32m     12\u001b[0m \u001b[0;31m# Shuffles in-place and returns none\u001b[0m\u001b[0;34m\u001b[0m\u001b[0;34m\u001b[0m\u001b[0;34m\u001b[0m\u001b[0m\n\u001b[1;32m     13\u001b[0m \u001b[0mrandom\u001b[0m\u001b[0;34m.\u001b[0m\u001b[0mshuffle\u001b[0m\u001b[0;34m(\u001b[0m\u001b[0mrecords\u001b[0m\u001b[0;34m)\u001b[0m\u001b[0;34m\u001b[0m\u001b[0;34m\u001b[0m\u001b[0m\n",
        "\u001b[0;32m~/miniconda3/envs/kmer-hashing/lib/python3.6/random.py\u001b[0m in \u001b[0;36msetstate\u001b[0;34m(self, state)\u001b[0m\n\u001b[1;32m    132\u001b[0m     \u001b[0;32mdef\u001b[0m \u001b[0msetstate\u001b[0m\u001b[0;34m(\u001b[0m\u001b[0mself\u001b[0m\u001b[0;34m,\u001b[0m \u001b[0mstate\u001b[0m\u001b[0;34m)\u001b[0m\u001b[0;34m:\u001b[0m\u001b[0;34m\u001b[0m\u001b[0;34m\u001b[0m\u001b[0m\n\u001b[1;32m    133\u001b[0m         \u001b[0;34m\"\"\"Restore internal state from object returned by getstate().\"\"\"\u001b[0m\u001b[0;34m\u001b[0m\u001b[0;34m\u001b[0m\u001b[0m\n\u001b[0;32m--> 134\u001b[0;31m         \u001b[0mversion\u001b[0m \u001b[0;34m=\u001b[0m \u001b[0mstate\u001b[0m\u001b[0;34m[\u001b[0m\u001b[0;36m0\u001b[0m\u001b[0;34m]\u001b[0m\u001b[0;34m\u001b[0m\u001b[0;34m\u001b[0m\u001b[0m\n\u001b[0m\u001b[1;32m    135\u001b[0m         \u001b[0;32mif\u001b[0m \u001b[0mversion\u001b[0m \u001b[0;34m==\u001b[0m \u001b[0;36m3\u001b[0m\u001b[0;34m:\u001b[0m\u001b[0;34m\u001b[0m\u001b[0;34m\u001b[0m\u001b[0m\n\u001b[1;32m    136\u001b[0m             \u001b[0mversion\u001b[0m\u001b[0;34m,\u001b[0m \u001b[0minternalstate\u001b[0m\u001b[0;34m,\u001b[0m \u001b[0mself\u001b[0m\u001b[0;34m.\u001b[0m\u001b[0mgauss_next\u001b[0m \u001b[0;34m=\u001b[0m \u001b[0mstate\u001b[0m\u001b[0;34m\u001b[0m\u001b[0;34m\u001b[0m\u001b[0m\n",
        "\u001b[0;31mTypeError\u001b[0m: 'int' object is not subscriptable"
       ]
      }
     ],
     "persistentId": "58dee61b-27de-4664-af4c-afd27a03a50f",
     "text": "n_desired_records = 100\n\nlincRNA = []\nprotein_coding = []\n\nlincRNA_metadata_lines = []\nprotein_coding_metadata_lines = []\n\nrecords = list(SeqIO.parse(f\"{GENCODE_FOLDER}/human/v30/gencode.v30.transcripts.fa\", 'fasta'))\n\nrandom.setstate(0)\n# Shuffles in-place and returns none\nrandom.shuffle(records)\n\nfor record in records:\n    metadata = record.id.split(\"|\")\n    if metadata[-1] == 'protein_coding':\n        if len(protein_coding) < n_desired_records:\n            protein_coding.append(record)\n            protein_coding_metadata_lines.append(metadata)\n    elif metadata[-1] == 'lincRNA':\n        if len(lincRNA) < n_desired_records:\n            lincRNA.append(record)\n            lincRNA_metadata_lines.append(metadata)\n    if len(lincRNA) >= n_desired_records and len(protein_coding) >= n_desired_records:\n        break\n# del records"
    },
    "executionTime": "2019-09-05T13:38:28.258Z"
   },
   {
    "cell": {
     "executionCount": 21,
     "executionEventId": "a11ba95a-fabf-4a9f-9621-18722332fece",
     "hasError": false,
     "id": "982e9287-dd13-4d67-b6ca-6ba9f56e9caa",
     "outputs": [],
     "persistentId": "58dee61b-27de-4664-af4c-afd27a03a50f",
     "text": "n_desired_records = 100\n\nrandom.seed(0)\n\nlincRNA = []\nprotein_coding = []\n\nlincRNA_metadata_lines = []\nprotein_coding_metadata_lines = []\n\nrecords = list(SeqIO.parse(f\"{GENCODE_FOLDER}/human/v30/gencode.v30.transcripts.fa\", 'fasta'))\n\n# Shuffles in-place and returns none\nrandom.shuffle(records)\n\nfor record in records:\n    metadata = record.id.split(\"|\")\n    if metadata[-1] == 'protein_coding':\n        if len(protein_coding) < n_desired_records:\n            protein_coding.append(record)\n            protein_coding_metadata_lines.append(metadata)\n    elif metadata[-1] == 'lincRNA':\n        if len(lincRNA) < n_desired_records:\n            lincRNA.append(record)\n            lincRNA_metadata_lines.append(metadata)\n    if len(lincRNA) >= n_desired_records and len(protein_coding) >= n_desired_records:\n        break\n# del records"
    },
    "executionTime": "2019-09-05T13:38:51.270Z"
   },
   {
    "cell": {
     "executionCount": 22,
     "executionEventId": "9b21f3fe-29cc-4a3a-8931-536f6c103cd0",
     "hasError": false,
     "id": "c8153875-1d66-4413-a09e-78e226e569e5",
     "outputs": [
      {
       "data": {
        "text/plain": "['ENST00000486151.5',\n 'ENSG00000170324.21',\n 'OTTHUMG00000018171.7',\n 'OTTHUMT00000277028.1',\n 'FRMPD2-207',\n 'FRMPD2',\n '3466',\n 'retained_intron',\n '']"
       },
       "execution_count": 22,
       "metadata": {},
       "output_type": "execute_result"
      }
     ],
     "persistentId": "8be4a380-e1d7-4056-a804-c105ffd40318",
     "text": "record.name.split(\"|\")"
    },
    "executionTime": "2019-09-05T13:39:38.321Z"
   },
   {
    "cell": {
     "executionCount": 23,
     "executionEventId": "877a770f-4604-4a18-9205-2690fc892b6e",
     "hasError": false,
     "id": "c8153875-1d66-4413-a09e-78e226e569e5",
     "outputs": [
      {
       "data": {
        "text/plain": "['ENST00000486151.5',\n 'ENSG00000170324.21',\n 'OTTHUMG00000018171.7',\n 'OTTHUMT00000277028.1',\n 'FRMPD2-207',\n 'FRMPD2',\n '3466',\n 'retained_intron',\n '']"
       },
       "execution_count": 23,
       "metadata": {},
       "output_type": "execute_result"
      }
     ],
     "persistentId": "8be4a380-e1d7-4056-a804-c105ffd40318",
     "text": "record.name.strip().split(\"|\")"
    },
    "executionTime": "2019-09-05T13:39:49.287Z"
   },
   {
    "cell": {
     "executionCount": 24,
     "executionEventId": "189283d1-35d4-4798-9aff-a463dac3b5ac",
     "hasError": false,
     "id": "c8153875-1d66-4413-a09e-78e226e569e5",
     "outputs": [
      {
       "data": {
        "text/plain": "['ENST00000486151.5',\n 'ENSG00000170324.21',\n 'OTTHUMG00000018171.7',\n 'OTTHUMT00000277028.1',\n 'FRMPD2-207',\n 'FRMPD2',\n '3466',\n 'retained_intron']"
       },
       "execution_count": 24,
       "metadata": {},
       "output_type": "execute_result"
      }
     ],
     "persistentId": "8be4a380-e1d7-4056-a804-c105ffd40318",
     "text": "record.name.strip('|').split(\"|\")"
    },
    "executionTime": "2019-09-05T13:40:01.089Z"
   },
   {
    "cell": {
     "executionCount": 25,
     "executionEventId": "c531e1a1-541a-43b8-aa47-10a4a1724c18",
     "hasError": false,
     "id": "982e9287-dd13-4d67-b6ca-6ba9f56e9caa",
     "outputs": [],
     "persistentId": "58dee61b-27de-4664-af4c-afd27a03a50f",
     "text": "n_desired_records = 100\n\nrandom.seed(0)\n\nlincRNA = []\nprotein_coding = []\n\nlincRNA_metadata_lines = []\nprotein_coding_metadata_lines = []\n\nrecords = list(SeqIO.parse(f\"{GENCODE_FOLDER}/human/v30/gencode.v30.transcripts.fa\", 'fasta'))\n\n# Shuffles in-place and returns none\nrandom.shuffle(records)\n\nfor record in records:\n    metadata = record.name.strip('|').split(\"|\")\n    if metadata[-1] == 'protein_coding':\n        if len(protein_coding) < n_desired_records:\n            protein_coding.append(record)\n            protein_coding_metadata_lines.append(metadata)\n    elif metadata[-1] == 'lincRNA':\n        if len(lincRNA) < n_desired_records:\n            lincRNA.append(record)\n            lincRNA_metadata_lines.append(metadata)\n    if len(lincRNA) >= n_desired_records and len(protein_coding) >= n_desired_records:\n        break\n# del records"
    },
    "executionTime": "2019-09-05T13:40:08.758Z"
   },
   {
    "cell": {
     "executionCount": 26,
     "executionEventId": "f3d22a66-3243-427c-854b-02d2e43adbac",
     "hasError": false,
     "id": "a3ddbc88-b397-4a67-b8bf-65a461536b77",
     "outputs": [
      {
       "data": {
        "text/plain": "[SeqRecord(seq=Seq('GCCCTGCCAGCCACTGTTCTAAGCACTTTTTCCCTGTTCCTGCCGATTTGCTCC...AGT', SingleLetterAlphabet()), id='ENST00000623420.1|ENSG00000279927.1|OTTHUMG00000189181.1|OTTHUMT00000479003.1|Z95114.4-201|Z95114.4|3578|lincRNA|', name='ENST00000623420.1|ENSG00000279927.1|OTTHUMG00000189181.1|OTTHUMT00000479003.1|Z95114.4-201|Z95114.4|3578|lincRNA|', description='ENST00000623420.1|ENSG00000279927.1|OTTHUMG00000189181.1|OTTHUMT00000479003.1|Z95114.4-201|Z95114.4|3578|lincRNA|', dbxrefs=[]),\n SeqRecord(seq=Seq('CTGGCAGGAGCAGATTCCAAAGGCACAGGAAGAAGCTTGCAGTACAAAGATAAA...GCC', SingleLetterAlphabet()), id='ENST00000628547.2|ENSG00000242086.8|OTTHUMG00000155834.14|OTTHUMT00000481409.1|MUC20-OT1-308|MUC20-OT1|882|lincRNA|', name='ENST00000628547.2|ENSG00000242086.8|OTTHUMG00000155834.14|OTTHUMT00000481409.1|MUC20-OT1-308|MUC20-OT1|882|lincRNA|', description='ENST00000628547.2|ENSG00000242086.8|OTTHUMG00000155834.14|OTTHUMT00000481409.1|MUC20-OT1-308|MUC20-OT1|882|lincRNA|', dbxrefs=[]),\n SeqRecord(seq=Seq('TCATCCTGTCCTCACAATGGCTGGTGTGGAGACCCACAGACTTCATCCTTAGGA...GTA', SingleLetterAlphabet()), id='ENST00000411525.1|ENSG00000224429.7|OTTHUMG00000016541.3|OTTHUMT00000044126.1|LINC00539-201|LINC00539|664|lincRNA|', name='ENST00000411525.1|ENSG00000224429.7|OTTHUMG00000016541.3|OTTHUMT00000044126.1|LINC00539-201|LINC00539|664|lincRNA|', description='ENST00000411525.1|ENSG00000224429.7|OTTHUMG00000016541.3|OTTHUMT00000044126.1|LINC00539-201|LINC00539|664|lincRNA|', dbxrefs=[]),\n SeqRecord(seq=Seq('TTTTTTGCCGTCTGGTCATCCTCGTCGGTCTTCTGCTTCTGGGTATCGACATCG...AAA', SingleLetterAlphabet()), id='ENST00000427111.4|ENSG00000237248.5|OTTHUMG00000168333.2|OTTHUMT00000500908.1|LINC00987-201|LINC00987|2472|lincRNA|', name='ENST00000427111.4|ENSG00000237248.5|OTTHUMG00000168333.2|OTTHUMT00000500908.1|LINC00987-201|LINC00987|2472|lincRNA|', description='ENST00000427111.4|ENSG00000237248.5|OTTHUMG00000168333.2|OTTHUMT00000500908.1|LINC00987-201|LINC00987|2472|lincRNA|', dbxrefs=[]),\n SeqRecord(seq=Seq('GGTTTGTCACAGATACACTAATCATATAAATGTAACTCATACATTTACAAGGCT...CCC', SingleLetterAlphabet()), id='ENST00000551227.1|ENSG00000258028.2|OTTHUMG00000170370.2|OTTHUMT00000408712.1|AL135878.1-201|AL135878.1|741|lincRNA|', name='ENST00000551227.1|ENSG00000258028.2|OTTHUMG00000170370.2|OTTHUMT00000408712.1|AL135878.1-201|AL135878.1|741|lincRNA|', description='ENST00000551227.1|ENSG00000258028.2|OTTHUMG00000170370.2|OTTHUMT00000408712.1|AL135878.1-201|AL135878.1|741|lincRNA|', dbxrefs=[])]"
       },
       "execution_count": 26,
       "metadata": {},
       "output_type": "execute_result"
      }
     ],
     "persistentId": "a74c5fe2-756b-4ea6-bf6b-e4ee3459bfbf",
     "text": "lincRNA[:5]"
    },
    "executionTime": "2019-09-05T13:40:25.556Z"
   },
   {
    "cell": {
     "executionCount": 27,
     "executionEventId": "cb14f2b0-e569-4319-aadf-940e87e95f44",
     "hasError": false,
     "id": "b61b41f7-8594-4f16-91e5-42751dc169d1",
     "outputs": [
      {
       "data": {
        "text/plain": "[SeqRecord(seq=Seq('CACCAACACCACCCAGGATGAGCAGCGCAGGTGGCCAGGCTGTGACCAGCAGGA...GCA', SingleLetterAlphabet()), id='ENST00000525764.5|ENSG00000149150.9|OTTHUMG00000167030.4|OTTHUMT00000392591.2|SLC43A1-203|SLC43A1|556|protein_coding|', name='ENST00000525764.5|ENSG00000149150.9|OTTHUMG00000167030.4|OTTHUMT00000392591.2|SLC43A1-203|SLC43A1|556|protein_coding|', description='ENST00000525764.5|ENSG00000149150.9|OTTHUMG00000167030.4|OTTHUMT00000392591.2|SLC43A1-203|SLC43A1|556|protein_coding|', dbxrefs=[]),\n SeqRecord(seq=Seq('AGGAGGAGCTTGATGGAAGCGTGCGAGAAGGGGCGTAACTGATTTGGAAACCAG...AAG', SingleLetterAlphabet()), id='ENST00000576452.5|ENSG00000108523.15|OTTHUMG00000099397.5|OTTHUMT00000438729.1|RNF167-215|RNF167|589|protein_coding|', name='ENST00000576452.5|ENSG00000108523.15|OTTHUMG00000099397.5|OTTHUMT00000438729.1|RNF167-215|RNF167|589|protein_coding|', description='ENST00000576452.5|ENSG00000108523.15|OTTHUMG00000099397.5|OTTHUMT00000438729.1|RNF167-215|RNF167|589|protein_coding|', dbxrefs=[]),\n SeqRecord(seq=Seq('AGTCAAGTGACGCGAAGCGGCCGGCCTGGGCGCCGACTGCAGAGCCGGGAGGCT...ATG', SingleLetterAlphabet()), id='ENST00000307377.12|ENSG00000170266.16|OTTHUMG00000155781.8|OTTHUMT00000341571.1|GLB1-202|GLB1|2018|protein_coding|', name='ENST00000307377.12|ENSG00000170266.16|OTTHUMG00000155781.8|OTTHUMT00000341571.1|GLB1-202|GLB1|2018|protein_coding|', description='ENST00000307377.12|ENSG00000170266.16|OTTHUMG00000155781.8|OTTHUMT00000341571.1|GLB1-202|GLB1|2018|protein_coding|', dbxrefs=[])]"
       },
       "execution_count": 27,
       "metadata": {},
       "output_type": "execute_result"
      }
     ],
     "persistentId": "f1df8f36-e80c-436b-a076-a885aa300034",
     "text": "protein_coding[:3]"
    },
    "executionTime": "2019-09-05T13:40:26.623Z"
   },
   {
    "cell": {
     "executionCount": 28,
     "executionEventId": "28a7bd5a-9a12-4182-b89b-a2469d4658b6",
     "hasError": false,
     "id": "a821e1b3-a403-4918-94ad-b375aac572f7",
     "outputs": [],
     "persistentId": "2ae37154-2adb-435f-92a5-31ff4f713183",
     "text": "from khtools.ensembl import get_sequence"
    },
    "executionTime": "2019-09-05T13:42:25.100Z"
   },
   {
    "cell": {
     "executionCount": 29,
     "executionEventId": "7eb78b7e-1dd8-4f09-8da3-5959ba209b07",
     "hasError": false,
     "id": "dfd153a6-b6cd-4936-9a52-df82500b9d73",
     "outputs": [
      {
       "data": {
        "text/plain": "'CACCAACACCACCCAGGATGAGCAGCGCAGGTGGCCAGGCTGTGACCAGCAGGACGAGATGCTCAACCTGGGCTTCACCATTGGTTCCTTCGTGCTCAGCGCCACCACCCTGCCACTGGGGATCCTCATGGACCGCTTTGGCCCCCGACCCGTGCGGCTGGTTGGCAGGTGAGGTGGCTGGGCTATGGGGAACGGGAGGACAGGGACCGTGCTGCAGGGGGAGGGGAGGGGGGGTGCTCACAGGCCAACCCCTCGCCCTTCCCTGTGTCTCCACAGTGCCTGCTTCACTGCGTCCTGCACCCTCATGGCCCTGGCCTCCCGGGACGTGGAAGGTGAGTTGTCTGTCCTCTTGTGGCCCCACAAGAAAAGAATAGGTGGGATGAAGGCGGATGTTTACCCCAGCTCCCGCCCTTGGCTTCCCACAGCTCCCCAAATGCCCTCATCTGCTGCTTTCCCCTTTCCAGCTCTGTCTCCGTTGATATTCCTGGCGCTGTCCCTGAATGGCTTTGGTGGCATCTGCCTAACGTTCACTTCACTCACGGTGAGTGTCACAGGCCTGGCCTGGCAGCAGAGTTCCCCCGAGTGGGGTGAGGGCAGAGTGAGTGGGGTGAGGGCAGTATGAATGGGCTGGGGGAGGGGCCTGTGGACGCAGATCACTAGATCAAGTGAGTGTGTGAGAAACTGTGCAGGTGGCTGCAAAGAGCAGGTGTGAGGCTGTGTGTGTGTGGATGAGGCTGTGTGTCGGGGTGTATGTTAATGTGTGTGTTTGTGTGTACAGAGCCCATGAATGTCCATGGAGCTCTGTTCTAGGTCCTGGACTACAGCACAATCAGGACTGACCGAGTCATCCTCCCTGCTGGAGGTTACATTTTGGGGGTGAGGGGCACAGATAACCCAATAAACAAGTAAACTAATAAATTATGTCAGTCGTCATAGGTGCTGGGAAGAAAATAAAACTGGGTAACATGATCTTGAGGGGGAGGGAGCAGCTTGAGATAGCGTGTGCACGCTTGCCATGTCGTGGGAGAGTGGGTGTGTGACCCCGTCCCTGTGAAAGCCATGAGTTGGTAGGTGTGTTTGTGAGTGTACTAGGTTGAACCATATGAAATTGTCGACACCTCGTCGTGCACATGGCTTGACCTATTACATGTGGTGAGTGGTGTATGTGTGTTGCTCAAAGTGTGTTTATTTATGTGAGTGTGTAAACGCGTTAAAGGCTTAGGAGTGTTAAAGGCTTAGGGAGGTTGGAGGGGAAGGTTCCTGGCCGGGCTGGCTCGGACTGTTTATCTCTGAGAAGGGCTGCCTGACTGGGTGGTTTTGGCTGAATTTCACCTCTCCCCAGCAGCCGCCTTTAATTCCAACCGGGGACATTTCACAGCTCTAAAGGAAGGAAGCGGATCCCTTTCTCCCCGCCCCTCTGCGCAGCCCCTTCTCCCTGCTGTGCAACTTGGCCCAGGGCCCTAAATCCCTTCTCTCCGGCGCTTGACCTCAGACCCTCCCTGGCGGCCGGGTGGGGCTTGTCCAGCGGCTCCTCCCTGCTATGTCCCCGCCTCCTGTAATCTCCAGCCAATGGCAGGGTCCGGCGCTGGCACCGCCCCTCAGCCTCTCCCCGCTCCCTCTGGCCGGCCCCGCCCCCTGGGCCGCTGCTCTTGGCCCAGACTTGGACGAGGACGTCCCGTGCTGAGTCTTGCGGGCCCAGCTGCTGTTGCCACGCACGCTGCAAGGCCGCCAGCCCGGGGTTAGCCGGCCGGCCTCGCCTTACCCACGGTACTGGGCGCAGACAGCGTTTGTGGCCCCTTGGAGGGGAGGGGGCCCTGCCCCTCTCCAGGCCTGGCAGCCTTCCGTGGCGTCCTTGGCAGTGGTGCCTCACGGATGCAGGGTGCAGGAAAACCTCTGCCTGAGTGGGTAGAGGTTTTTCCTGAGCCAGCCACTTCAGGGGAAGGGGGAAGGATAATTTAGTTATATGTGTTTAAACACCATTTTTTTTTTTTTTGTTGAGACGGAGTCTCGCAGTGTCGCCCAGGCTGGAGTGCAGTGGCGCGATCTCGGCTCACTGCAACCTCTGCCTCCTAGGTTCAAGCAATTCTCCTGCCTCAGCCTCCCGAGTAGCTGGGACTACAGGTGCACGCCTCCACGCCCGGCTAATTTTTTCGTATTTTAGTGGAGACGGGGTTTCACCGTGTTGCTCAGGCTGGTCGCGAACTCCTGAGCTCAGGCAATCCACCCGCCTCGGCCTCCCAAAGTGCTGGGATTACAGGTGTGAGCCACTGCGCCCGGCCTAAACGCCTTTTTTACCAGAGCTGTTGAGGCCTCCCTTCAGAGTCTCAGTTTCCCCCTCTGTGGAGTGTGTTTAGGCTTTGTACGGATCCTAAGGTCCTTCTCAGCTGTGGGATCTAGTGACTTGGGGAGGATGGTGGGGCCAGAGGAGGGTGTGTGCGAAGGGCATCCTGACTTTGCCTTCCCCTGCCCTGAGGGCTTGGCTGAGGCAGGTGAGTGGAACACATGATCAATTAAATTCTCTCCTGGTGTGGGTTCTGACCCTGCTCTGCGTCAGAGCCACCTCCTCTGGAGACTGTCTGCCCTGGCTCAGTTCCCTCCCTTATTTCCACCCTCACCTCCCAGGATGTGATTTGTCCTGATTAGGCAGAAACTGGGCTGGGACGTCAACCGAGAGGGTTAAGAGGCACTGCCTATTACCGGGACACAGCCATGGTCACAGCCTTGGGTTAGGGCTGGGACAACGACAATGGGGAGAAAGCCATTAATGTGCTCTGTGAACTTGAGTACACTTTTCCTCCCTGGGTCTCAATTGTCTCATCTCAAATGGGTTGGACAAGATCACTGTTTCTTTCTTTTCTTTTCTTTTTTTTTGGGGGGTGGGGACATAGTCTCGCTCTGTCACCCAGGCTAAAGTGCAGTGGTGCGATCTCGGCTCACTGCAACCTCCACCTCCCAGGTTCAAGCGATTCTCCTGCCTCAGCCTCTGGAGTAGGTGGGATTACAGGCGCATGCCACCATGCCTAGCTAATTTTTGTATTTTTGGTGGAGATGGGGTTTCACCATGTTGTCCAGGCTGGTCTTGAACTCCTGACCTCAAGCTTCCCACCAGCTTCGGCTTCCCAAAGTGCTGGGATTACAGGCATGAGCCACTGCGCCCAGCCAAGATCAGTGTTTCTTAAGCACCTATTCCATGTGTTTTTCAGAGGTGTTACGTAACAAACTTGGGAAACCTGGAATTAAACAAAATTAACAAAATGTCTCTCTGAGGGGTGTCTGGGAGCCTTTTTGAAGCTAAAGGGCACTGTGACTGTGTAGGCAGGGGGCAGAGTACAGTTTCCCACATTGATTTTTCTGTTTGTTTTACCTTGGGGCTTTTCTGCTGCGTCTCCTGGGGCTATTGTATGGAGCAGGGCTGGGAATGCTGGGCAAGGGTCACGGTGTCCCCACCTCATGGGTGCTGCTTTCCCTCCTCAGCTGCCCAACATGTTTGGGAACCTGCGCTCCACGTTAATGGCCCTCATGATTGGCTCTTACGCCTCTTCTGCCATTACGTTCCCAGGAATCAAGGTATGAGGCCACCTGGGTTTTCTTTTTGTCTTGACACAAGAACCGGGTGGGGCCGAGTGAGCAGCAGCTAGTGCTGACCCACGGGTCTGACTTCTCCGCTCTCCTTTCTCTGTCATCATCCCAATGCAGGCCTTCCCCCTCTCTCCTGGGCCACAGCAAGCTTTCTCAGCTGGTCTCCCTGCCTCTGATTCTTTTTCTCTGTACTCTGTCACTCACGTGACTTCCAGAAAGATCTCAGATGGGGAACTGGCTCACACACTGCTGAAAAACCTTCAGTGGTTTAGCTTCACCTACAGAATCAAGTCCAGCCCCTTCACATGCGTTCAAGGTCCCTGACTCTCTGGCTTTATTCAGCCTTTGGGGCCACATTTTTCCACACCTTCCAGAGAGGATGGGTGGTTTGGTCCAAGGTCACAAAGTGAGTTTATGCCAGGCTGGATCCTGGACAGGTCAACCTGGTGTACCTCGAAGCCAGGGGACCAAAGTTTTAGCTCAGTGCAAGATGGGGGCCTCAATTTCCTCTGTCAAATATCAAAGGACCCTTTGACTGAGCCATGCCATGCTCCTCAACCTCCACGGTGGGCAGTACCAAACTGCATACCGTTTTGCACTTTACAAAGAGTACTAAAGAAGGTACTTTTGCTCAGTGTCTCCAAAGGAGTTTGAGAGAGCGCATGGGTGGGGGGGCCATCAGTTGTTCTGGTGGGCAGGCATGGAGGGTGGGCAGTTCTCCCTTCTTTTCAACTGAAGTAGTGTTTGAAGAGCCAGATCTTACCTCCACACATTTGGGGGTGTGGCCCTTTGAAGCTCTGTCCTGCCCCTAGGGAGGAAAAGGCACCAAGGTCCAAGACTGCAGAGAAAAAGGTTTGAGCAGGAGCCTGAGGGGAGAGCAGACATTAATTATCCTGGTCAGATGGTATGGGGAGGACAAGAGGACAGATGGTGCATCAGCTTCTTCCATAAGAAGGGCTGACACATTTGCACAGAATCTCATTCAATTGAGAACTTACCTGCCCTGGGGTTGAGAGCCCTTGGGCAGAGCACTTGCACCTCCCTCTCCCCAACCCCCCCAGTTGTTGCACGTGGGAGGACCTGGGAAAGGTGAGAAAAGGCTGAGCATGAGCAGTCTGGGTTTGCCTTTTCCCCTGGGGAATGTGCCAGGAAGGGGCAGGATAAACACGATTAGGCCCGGTAAACCTAGAGCACTAAGTTTCCTTTGTACGTACTATGAAATGGACATTTTTGTGCGAACATGAACATGAATGTTTGTGGAGTCATAGGCAAAAATGTATGTATTTTTTTAAGATAATGGAAATTTCAGAGATATTTTGAGCCAGTGGCCAGCAACTTCAGGCTTTGTGGAGACTATTTCATAGCTCTCTAGGGGGCCTCAAGTGAAAAAGAAAAAGGAATGATGGGTCTTCTGAGTCTGACTCTAAACTTCTGGTCTTGGTTTCCTCATCTGCAAATTGGGCACAAGGACAAGGGGAGAAGAGAACTTCTTTAAGGCCTCTGAGGCCTGGGATCTACCTTGGTGGGGTCTGGGGCCAGGCAGTCTCCCCCACGGGCCTGCCCCCTCCTCTCACAGCTGATCTACGATGCCGGTGTGGCCTTCGTGGTCATCATGTTCACCTGGTCTGGCCTGGCCTGCCTTATCTTTCTGAACTGCACCCTCAACTGGCCCATCGAAGCCTTTCCTGCCCCTGAGGAAGTCAATTACACGTGAGTGGCTGGAGTGGGCAGAGACTCTCCCTGGGGCAGAGAGGGCTGTGGTGATATGATAGACGGAATTAACTTTGGATTCAGAGAGACCTCGGCTTGGACCTCTGCTTGGCAAATCGCTTGAGCCCTCCAAGCTCTGCTTTCTCATCTGTACTATGAGCCTGTTCCTACCTACCCACAGGTCGCTTTTGTTTGTTTGTTTGTTTAGAGGCAGTGTCTTGCTCTGTCACTCAGGCTGGAGTGTAGTGTCTTGGTCCTGGCTCACTGCAACCTAAAACTGCTGGGCTCAAGCGAACCTCTCCCTCTGCCTCCCGAGGAGCTGGGGTTACAGGCACACACCACCATGCCCAGTTAATTTTTTTATTTTTTGTAGAGACAGGGCTTACTGTGTTACCTAGGCTGGTTTTGAACTCCTGGCCTTAAGGGATCCTCCCCCCTTGCCCTTCCAAAGTGTCCGATTACAGGCGTGAGCCACTGTGCCCAGCCTCCCATGGGTGTTTTTAAGTAATACAGTTGGCACATAACAGGTGGTCAAAACATGGTAAATATTTATTTATTTATTTATTTATTTTTGAGACAGAGTCTCATTCTGTCGCCCAGGCTGGAGTGCAGTGGCATGATTTCAGTGAACTGCAACCTCTGCCTCCTGAATAGCTGGGATTACAGGCACGCGCCACCACACCCAGCTAATTTTTGTATTTTTTAGTGGAGACGGGGTTTCACCATGTTGGCCAGGCTGGTCTTGAACTCCTGGCCTCAAGTGATCCGCCTGGCTCAGCCTCCCAAAGTGCTGGGATTGCAGGCGTGAGCCACCATGCTCAGCTCATGGTAACTATTTATGTGGGTGCAAAAGTAATTGTGGTTTTTGCCATTAAAAGTAATGGGCCAGGCGCAGTGGGTCATGCCTATAATCCCAGCACTTTGGGAGGCCGAAGAGGGTGGATCGCCTGAGGTCGGGAGTTCTAGACCAGCCTGACCAACATGGAGAAACACCGTCTCTACTAAAAATACAAAATTAGCTGGGTGTGGTGGTGCATGCCTGTAATCCCAGCTAGTCAGGAGGCTGAGGCAGGAGAATCACTTGAACCCTAGAGGCTGAGGTTGCGGTGAGCCGAGATCGTGCCATTGCACTCCAGCCTGGGCAACAAGATCAAAAACTCCGTCTCAAAAAAAAAAAAAAAGTAATGACAAATACTGTTTTCATCCTTTCTGGGTTTGGAGGAGATCTGAGTAGGAGGCACCTCAGCAATGGCACTCGATGCCATGTGGTCCCAAAAAGAGGGACATAAAAGAATCAAGCACCCCATCTTTTGTGGAGCCACCTGAATGCCAACTTTTTCCAGCCCCCTGTCAGTTCAGCAGAGGCAAGAGGTGATACTCCACACCAAGCACATAAGGTGACATTACAGAACTGACAGTTATGCCAGGCACTGTACTTAGCCCCTATACCATCCTCAAACAGCTGTATGATGTAGATTGGGTATTAACCCCATTAATAACAAAAGTACAGGGAACAAAGTGACTTTCCAAAGGTCATGCCATTCAAAGGAGGGTGAATCTTAGGTTGGACGCAGGCTGTCTGACTCTGGAGTCTGAGGTGTTAATGCTGCCTCCTCCATGGGAACAGCCCAAGTGAAAAACAGCTGATCCACTCTTCATTTACTTGGCATCTGTGCTAAGCTGGTCCCTGAGCCAAGCTCTGAGCAACAGAAACAGAAGCTCTGCATTAGGAGCTTGTGAGCATGTCAATGCCGGGTAAAGGAGTGCTGGAAACCGCTGGGATGGCCGCCGAGCACTAGGCCGTTGAAGGTGGGCTCTGTGTGACTGGTTCCTCTACACTCTGGCCTGGCTGCCTGCAGGAAGAAGATCAAGCTGAGTGGGCTGGCCCTGGACCACAAGGTGACAGGTGACCTCTTCTACACCCATGTGACCACCATGGGCCAGAGGCTCAGCCAGAAGGCCCCCAGCCTGGAGGACGGTTCGGATGCCTTCATGTCACCCCAGGATGTTCGGGGCACCTCAGAAAACCTTCCTGAGAGTGAGTGTCTGGTCAAGGTGCCGGCCTTGGGGGATAGTGATGGTGGGTCCTCATATTCAGTGAGCACTCATGGTTGAGTATTTATTCGCACCCCTCTTCAGTCCTTACAACACCCCATGATGTAGGTGGGGCATGCTCCTCATTTACAGATGGGCACATCAAAGCTCAGCTAACGCTGGGAAGTTCAGATTCAGGGTTACCCTGCTGGATTCCTGGGATTGGGGAGGGAGGAGCTTCCAAAATGGGGACAAGGTCTCTGGGCCTGTCGGGTAGCTGGTTTCCTCAGGGCCCCTTGCAACCTCTGAGCTTATTGCATCAGGTGCAGCCAGGCCCGTGAGCCTCCTGGCAGGGGTCCTCCACACCTGGCTGTCTTTTGCCCCCTGCTGGTCACAGGAGGAGCTGCAGCACCTGCCTGGGCTGCTTCTCAGGAGGGTACATGAAGATCCCAGGACCGCCAGCTCCATGATAAGTGGAAGGAGCTCCTTGGAGTCAGGAGCGGGAGTTGAGGAGTTTGAGTCCTGCTCTCCAGTTATAGGCTATGTGACTTGTGTAGATCACCTAACCTTGCTCTTGATTTCCTTACCTCTTAAACTAGCACTAAAAGCACCCCACAAACTGTAAAGTTAGTTGTGATGATTGAATGACACCATGGGTGTGGAAGCTCTTTGTAAAGTGCAAAACGGTGTGCAGTTTGAGGGTGGTTACCCCCAGTGCCGATTCTCAGAGGGCAACATGGCTAAGGGCACGAGCTGGAGTTAGGCTGACCTGCTGCTTCCAGCCCTGTGAGCTTGAGCAAGTCATTTAACTTCCTGAGCTGCAGTTTCCTCATCAGTAAAATGTGATAAGGATAGGGTTGTTGTAAGATTTTATTAAATGGGGTAATAAATGTCAAGTATGTAGCCCATAGTGAGTGCTTCAGAGTTTTTTTCTTTTGTTTCTTTCCCCCCCGCCCCGAGATGGAGCCTTACTCTGTTGCCCAGGCTGGAGTGCAGTGGCATGATCTTGGCTCACTGCAACCTCCGCCTCCCGGGTTCAAGCAATTCTCCTGCCTCAGCCTCCCAAATAGCTGGGACTACAGGCGTGCACCACCATGCTCGGCTAATTTTTGTATCTTTAGTAGAGACGGGGTTTCACCATGTTGGCCAGGCTGGTCTCGAACTCCTGACCTCATGATGCTCCTGCCTCAGCCTCCGAAAGTTTTGGGATTACAAGTGTGAGCCACCGTGCCCTGCCAGGTTTTTTTTTTTTTTTTTTTTTGTAAAATAGAGACAGGGTATTGCTGTTGCCTGGGCTGGAGTGCGGTAGTGCAATCATAGTTCACTGCAGCCTTGACCTCCTGGGCTCAAGTGATCCTCCTGCCTCAGCCTCCTGAGTAGCTGGGAATACAGGTGTGCACAACCATGCCTGGCTTATTTTTTTATATATATATATATATATATATATATATATATATATACACAAAATTATATATATTATATTATTATATATTATATTATATATTATATTATTTTTTATATATAAATTATATATATATTTATATTATATTTTATATATATATATATTTTTTAGAGATAGGGTCTTGCTATGTTGACCACCAGGCTGGTCTTGAACTCCTGGGCTCAAGCAATCCTCCTGCCTCAGCCTCCTGAGTAGCTGGGAATACAGGTGTGCACCACCATGCCTGGCTTATTTCATATATATATATTTTTATATATATGTATATTTATATATATAAATATATATATAATTTCTGTATATAAATAAATAAATAAATATATATATATATTTTTAGAGATAGGGTCTTGCTATGTTGACCACCAGGTCTTGAACTCCTGGGCTCAAGTGATCCTCCTACCTCTGCCTTTCAAAGTGTTGGGATTACAGGCGTGAGCCATGGCACCTAACTGAGTTATTTTTACCACACGAAGCATAGGACATACATCCAAAAATGTTCTGAGCTGAGCAAGAGCCTGGAGGCAAGTGAATCTGAACTTTCCCGTCTTTGAAGAAACCAGTCTCTCTCCAAAGTCACATAGTTAGTGTCACTCCCCCCAAGAACTGCATGAGCTGGGACAATCAGAGGGCAGTGGAAGGTCTGGGGCTCAGGGGCGCCCCCTGCTGTCTCCCCAGGGTCTGTCCCCTTACGCAAGAGCCTCTGCTCCCCCACTTTCCTGTGGAGCCTCCTCACCATGGGCATGACCCAGCTGCGGATCATCTTCTACATGGCTGCTGTGAACAAGATGCTGGAGTACCTTGTGACTGGTGGCCAGGAGCATGGTGAGGCACCGCTGAGGCCCCTGGGGGTTGGGGGCACAGGCGGGTCACCCTGGCTGAGCTCCCCTCACCATACGTTTCCCTACCCACAGAGACAAATGAACAGCAACAAAAGGTGGCAGAGACAGGTAGGGCTATGAAAGCAGGGCCCTGGCTCACGCCCACCCCACTGCAACCCGCTTCTCAGGGGGCGGGACTCCTCTAGGCCTGGGCCCACCCAGGTAACCCTTTTGTGGGATGTAAGAGTCTGGGTTCAGAGGAAGGCTATTTTGGTGCTCTCTGGCCTCCGCTGGAAGGGGTGATAGTGTCCACTGAGTGCCAGTTCCTGACCCCACTGCCCTTCCCATCCTGCCCAGTTGGGTTCTACTCCTCCGTCTTCGGGGCCATGCAGCTGTTGTGCCTTCTCACCTGCCCCCTCATTGGCTACATCATGGACTGGCGGATCAAGGACTGCGTGGACGCCCCAACTCAGGGCACTGTCCTCGGAGATGCCAGGTGACCTGCCTGTACAGGGATGGTGACAGCAAGTGGTCAGGCAGTGCTTTTCATTTTCTCTGTGCGTTTACATCCAGCAACTTGTTGCTTTCTCCCAAGAACCCTAGGAGATCAGGGGTACCTCCCCATTTTACAGATGAGGAAACTGAGGCTAGGAAGGGACCTGGCTTGCTTAATAATAAGAATAGCTAATGCAGAGTGCTGACTGTGCACTTGGCACCTTGCCTTGTTTAGTCCTACAACACCTCTTTGAGGTAGATGCGTTAATATCTTCATTTTGCAGTTGAGGAAACCGAGGTACAGGGTTGCACAGTTAGGTCATTCACCCAAGATCACACAGCTTTCAGTGGCAGCCTCCAGAACCTGTGTTATAAGGGTACACGCTAAAGTCTTGTTAGGGCTAGAATAGGTAGAGTTGGTATATTAGATATTTATTGCTGTATAACAAATCACCCCAAGGCTTGGCATTTTAAAACAACAAACACTTCTCATCTCATACAGTTTCTGACAGTCAGAAATCAGGGAGAGACTCAGCCGGCTGATTCTGAGTCACAGTCTCTCATGAAGACATAGTCAGGCTGTCAGCCAGGGCTGCAGTCATCTGAAGGGCTGACTGGGGTTGGAGAATCTATGTCAGTTCAATTACCCCCATGGCCTCTCCATAGGGCTGCTCAGGACACAGCACCTGCTTTCCCTTGAGCAAGAGGGCTAAGCGACAGAGACCCCGTATCTTCTCTCACATAATCTCAGACGTAGCATACCATCACTTCTGTTACGTTCTATTATAGGCACAGAGCAACCCTGATATACTGTGGAAGGAGACTGGACAAAGCAGGGGAATACCAGGAGGCAGGATCCTTGAGGGCTGTCTTGTTGGCTGGAGACCACCATTGAGGGTTTTTTTTTTTTTTTTTATTGAGACAGTCTTGCTCTGTCGCCCAGGCTGGAGTGCAGTGGCACGATCTCAGCTCACTGCAACCTCTGCCTCCCAGGTTCAAGCGATTCTCCTGCCTCAGCCTCCCGAGTAGCTGGGATTCACCATGGAGTCTTGAACCCAGATTCTGTGACTGCTTTTGCTCTTTTTGTGTTCATCCAAACAGTCCCTGTTTATCCTAAGAGGATGGGAGAAAGAGACTGGGAGAGAAGGAAATCCAGTGGCCTCCCTCCCTGCTAGCAGAGCCTGGCCCTGGCACTGAGCCTTCCTCCTCTACCCTCTGCTCCTAATGGTGAGGGTCCCCTAGCAGGGCCCTTCTGTCCAGGACACATGGGCCGCCTGTCCTCACCCCAGCCTACTGACCTCTCTCCTGGGCTGGCCTCAGTGCCCTTGATTGTGCCGGAGAGAGGAAGCGCTGGACAGTCAGGCCAAGCTGCTGTCCCCAGGAGGGCATCTGCTTATGTCTAGGGCAGGGACACCTTCCTGAGGACTTCTGATGAGAGACGGTGTGAGAGCTTCCCACTTCCCACCTTCCTTCCCATCCTTGGTTCTCAAACCTTCAAGTGTGCATGAGAATCACTTAGTGGGGGATATTTGTCCAAATGCAGATTTGCAGATATCCCCGCTGAGATTCTGAGGGCCGAGATGAGGCCTGTGAATCTGCATGTTAAGAAAGCACCCGCTTTGATGCGTGTGTCATTGGGTAGGGGAGCAACACTTTGAGAAACATGGAGCTAGAGAACGTGGGTTTCTATGGGTTTCCCATAGAAACATGGATTTCTGTGTTTTCTGCTGCCCTGACATCGAAGGCACATCTGAAGGGGGAGGGGCCAGGCCAAGAACCAGGGAGTCCTGGGAACGTAGAGGCAGCAGCCAGTGACTTCCCGTACTCCTCAGGGACGGGGTTGCTACCAAATCCATCAGACCACGCTACTGCAAGATCCAAAAGCTCACCAATGCCATCAGTGCCTTCACCCTGACCAACCTGCTGCTTGTGGGTTTTGGCATCACCTGTCTCATCAACAACTTACACCTCCAGGTACCCACCTTCATCCTTCCCCTCTCCCTGCCTCCCGAGGCTCCTCCAAAGGGATGGTCCATCCAGCACCTGCCTTCCAGGAAGCGCAGTTCTGGTCTTCTGATCTGGATCTATTTTCCGGGTTCTCCAGGAAGTGTTTCTAGTAGATTGGGTTGGCGAGGGGGTGGGAATTGAGGCCCAGTTGGCCTCTTCGCCCTACCCCTCCTTCCTCCAGCCTCCACACACTCTCCTAACCTCTTCACTCTCTCTTTTTGGTTTTAGTTTGTGACCTTTGTCCTGCACACCATTGTTCGAGGTTTCTTCCACTCAGCCTGTGGGAGTCTCTATGCTGCAGTGTGAGTCTGTTGGGCTGAAATGCCTTCCTGAGCTTTGCAACCGTGATCAGAGAACCCCAGGGAAGGGTTGGGAGGGCCCCAGGCATCCCCTAATGCACCTCTCTCTGAGACCCTCTGATGGCAGGGAGCTCACTTCCTTAAAGGCAGCCTATCCTGCTGTAATTGACTCCCCCTGTTGGAGTCTTCCCTTAGAGGAAGCTGAAATACCTGGCTTGATGACACTTTGGTTCTATGTCTGCTGTTTGAAACGGCCCCCAGAATGGCCTCCCCTCCATGCCCACCCTGAAGAAATTTCCCAAGGGCAGCCATTTGCCTTATAATTTTCCTCTTCATGTTGGACAGTCCCCACTTGCATCTCTCTCCTGGTTTCCCCTGCTGGGCGCTGCTGAGGGACTCTCCCCTGTGTATGTGATGGAGTAACAGGACATTACAATAATGATGACAAAATGACAACCATTATCAAGTGCTCCGTTGGTGCAGGCAGCAGGCAGGATCCTTGACCATCACTCCCTGAGTTCAGCCTCACTGCAGCGGTCTCGGCAGAGGGCAGCTCTCTTTCCTTCATCTGCTCAAGCCAGAACCCTGGAGTTTCCTTGATGTTTCTCTCCCTCACACTCCATGTTCACTCCGTCCTCAGTACAGCCAGCAGCAGCTTCTACACACCCCAAATCTGACCCTTCTTGTCACCTCCACTGCTGCCTCTCCAGTCCTAGCCACCAACATCTCTAGCCTGGATTATTGTGGCAGCCTTTAGTCTCCCACATCTGCCCTGGCCCCGCTGTCTCAGTCTATTTTTAACACAGGGGCTGCAGTCACCTGTCAGGACATAAGTCTCTTCACATCACTCTGTGGTGTCCTGTCTCATCTGTCTCAGAGTAAAAGCCAAAGGCTTTACTATGGCCTAAAAAGCCCTGCAAGCTCTGGCCCCAGCACTTCACTCCCCTCTAGCTCCCCCTCCTCCATTGTTCACTCTGCCACAGCCACAGTGCTTCCTAGTGCTCCGGAAGTCTCAAGTGTGTTCCCTGCTTGGCATCTTTGCATGTACTAGTCCCTGTTTCTAGAACATTCTTCTCCAGATATCTGCAAGGTGCCCAATCTTACCTTCTCTCCTTCTTCAGGTCTTTCCCTGACTGTCCTCTTCTCAGTGAGGCCTCCCTTGGCTGTCCCATGTACAATTGCAACCTCCCTACTGCCCGCTTCTCTGCTTGGTTTTTCTCAGCGTTTATCACTAACACTCTGCCTATCTCTTGCTTATTGTCTGACCGCCACCTGCTCCATGGGAATGCCACCTCCTCGATGGCAGGAATCTGTTGACTTGCTTGATCGTGGTATCTCCAGCACCTAGAGCAGTGCCTGGCACATAGTAGGTTCTCAGCTAAATGTTTGTTGACAGAATACAGTGGACAGTCCTGCGAGGTCAATGCCATCCCTGTTATTAGTGGAGGAAGTGGGGCTCAGGGAGTTTGAGCCACTTGCCAATATCACACATACAGGAGGTGTGAGAACCCAGCTCAGTGGCCCTGAAGTTGGAGCATTTGCCCTCAAGGCTGGGGACCAAAGAGCCCATGCAAAGAGCCCGAACGCTTAAGCACCACCCTGCCTGGCCAGCGGGGACCATGGTGGGGAGGGGATAGGAGAGGTGCTGGCCTGGGCTGGAGAGGGCCACACACCCCTGATACTCCCCGTCTCGTGGACAGGTTCCCATCCAACCACTTTGGGACGCTGACAGGCCTGCA'"
       },
       "execution_count": 29,
       "metadata": {},
       "output_type": "execute_result"
      }
     ],
     "persistentId": "634d3b76-32c7-43f4-a674-a927e13e99b3",
     "text": "get_sequence('ENST00000525764')"
    },
    "executionTime": "2019-09-05T13:42:37.466Z"
   },
   {
    "cell": {
     "executionCount": 30,
     "executionEventId": "7ec9f0fb-990c-4d05-a3d1-784aaf6bce84",
     "hasError": true,
     "id": "dfd153a6-b6cd-4936-9a52-df82500b9d73",
     "outputs": [
      {
       "ename": "TypeError",
       "evalue": "get_sequence() got an unexpected keyword argument 'type'",
       "output_type": "error",
       "traceback": [
        "\u001b[0;31m---------------------------------------------------------------------------\u001b[0m",
        "\u001b[0;31mTypeError\u001b[0m                                 Traceback (most recent call last)",
        "\u001b[0;32m<ipython-input-30-e1be7bdf061f>\u001b[0m in \u001b[0;36m<module>\u001b[0;34m()\u001b[0m\n\u001b[0;32m----> 1\u001b[0;31m \u001b[0mlen\u001b[0m\u001b[0;34m(\u001b[0m\u001b[0mget_sequence\u001b[0m\u001b[0;34m(\u001b[0m\u001b[0;34m'ENST00000525764'\u001b[0m\u001b[0;34m,\u001b[0m \u001b[0mtype\u001b[0m\u001b[0;34m=\u001b[0m\u001b[0;34m'cdna'\u001b[0m\u001b[0;34m)\u001b[0m\u001b[0;34m)\u001b[0m\u001b[0;34m\u001b[0m\u001b[0;34m\u001b[0m\u001b[0m\n\u001b[0m",
        "\u001b[0;31mTypeError\u001b[0m: get_sequence() got an unexpected keyword argument 'type'"
       ]
      }
     ],
     "persistentId": "634d3b76-32c7-43f4-a674-a927e13e99b3",
     "text": "len(get_sequence('ENST00000525764', type='cdna'))"
    },
    "executionTime": "2019-09-05T13:42:49.060Z"
   },
   {
    "cell": {
     "executionCount": 31,
     "executionEventId": "ed45190a-1e2b-40fc-8283-4dae248b6e71",
     "hasError": true,
     "id": "dfd153a6-b6cd-4936-9a52-df82500b9d73",
     "outputs": [
      {
       "ename": "TypeError",
       "evalue": "get_sequence() got an unexpected keyword argument 'type'",
       "output_type": "error",
       "traceback": [
        "\u001b[0;31m---------------------------------------------------------------------------\u001b[0m",
        "\u001b[0;31mTypeError\u001b[0m                                 Traceback (most recent call last)",
        "\u001b[0;32m<ipython-input-31-e1be7bdf061f>\u001b[0m in \u001b[0;36m<module>\u001b[0;34m()\u001b[0m\n\u001b[0;32m----> 1\u001b[0;31m \u001b[0mlen\u001b[0m\u001b[0;34m(\u001b[0m\u001b[0mget_sequence\u001b[0m\u001b[0;34m(\u001b[0m\u001b[0;34m'ENST00000525764'\u001b[0m\u001b[0;34m,\u001b[0m \u001b[0mtype\u001b[0m\u001b[0;34m=\u001b[0m\u001b[0;34m'cdna'\u001b[0m\u001b[0;34m)\u001b[0m\u001b[0;34m)\u001b[0m\u001b[0;34m\u001b[0m\u001b[0;34m\u001b[0m\u001b[0m\n\u001b[0m",
        "\u001b[0;31mTypeError\u001b[0m: get_sequence() got an unexpected keyword argument 'type'"
       ]
      }
     ],
     "persistentId": "634d3b76-32c7-43f4-a674-a927e13e99b3",
     "text": "len(get_sequence('ENST00000525764', type='cdna'))"
    },
    "executionTime": "2019-09-05T13:45:00.836Z"
   },
   {
    "cell": {
     "executionCount": 32,
     "executionEventId": "5e73ab4e-f886-4410-a1fa-31e5ad897c41",
     "hasError": false,
     "id": "a821e1b3-a403-4918-94ad-b375aac572f7",
     "outputs": [],
     "persistentId": "2ae37154-2adb-435f-92a5-31ff4f713183",
     "text": "from khtools.ensembl import get_sequence"
    },
    "executionTime": "2019-09-05T13:45:02.046Z"
   },
   {
    "cell": {
     "executionCount": 33,
     "executionEventId": "7b5ec771-7384-4de7-817c-b8827cf13e79",
     "hasError": false,
     "id": "dee7e9cf-f707-4d03-a76a-c82254330909",
     "outputs": [],
     "persistentId": "6181d405-1796-47b2-8c0f-bf1f1481da19",
     "text": "%load_ext autoreload\n%autoreload 2"
    },
    "executionTime": "2019-09-05T13:45:16.549Z"
   },
   {
    "cell": {
     "executionCount": 1,
     "executionEventId": "f8ecb56d-3258-496e-a92b-3c4fd7a5d5be",
     "hasError": false,
     "id": "dee7e9cf-f707-4d03-a76a-c82254330909",
     "outputs": [],
     "persistentId": "6181d405-1796-47b2-8c0f-bf1f1481da19",
     "text": "%load_ext autoreload\n%autoreload 2"
    },
    "executionTime": "2019-09-05T13:45:27.597Z"
   },
   {
    "cell": {
     "executionCount": 2,
     "executionEventId": "4ca20055-a429-4f05-8a21-8f83c959e348",
     "hasError": false,
     "id": "e993fe13-b894-42bc-a89c-be6b5660df44",
     "outputs": [],
     "persistentId": "7da06333-e82b-43dc-a224-ab6fdaf3026a",
     "text": "import random\n\nfrom Bio import SeqIO\nimport pandas as pd\n\nfrom khtools.ensembl import get_sequence"
    },
    "executionTime": "2019-09-05T13:45:29.738Z"
   },
   {
    "cell": {
     "executionCount": 3,
     "executionEventId": "43ca8835-99d3-40c4-84e8-ac2d9efcadd6",
     "hasError": true,
     "id": "0cd314bd-2515-40f3-8481-57bfc115321f",
     "outputs": [
      {
       "ename": "HTTPError",
       "evalue": "400 Client Error: Bad Request for url: https://rest.ensembl.org/sequence/id/ENST00000525764;?type=cdna",
       "output_type": "error",
       "traceback": [
        "\u001b[0;31m---------------------------------------------------------------------------\u001b[0m",
        "\u001b[0;31mHTTPError\u001b[0m                                 Traceback (most recent call last)",
        "\u001b[0;32m<ipython-input-3-e1be7bdf061f>\u001b[0m in \u001b[0;36m<module>\u001b[0;34m()\u001b[0m\n\u001b[0;32m----> 1\u001b[0;31m \u001b[0mlen\u001b[0m\u001b[0;34m(\u001b[0m\u001b[0mget_sequence\u001b[0m\u001b[0;34m(\u001b[0m\u001b[0;34m'ENST00000525764'\u001b[0m\u001b[0;34m,\u001b[0m \u001b[0mtype\u001b[0m\u001b[0;34m=\u001b[0m\u001b[0;34m'cdna'\u001b[0m\u001b[0;34m)\u001b[0m\u001b[0;34m)\u001b[0m\u001b[0;34m\u001b[0m\u001b[0;34m\u001b[0m\u001b[0m\n\u001b[0m",
        "\u001b[0;32m~/code/kmer-hashing/kh-tools/khtools/ensembl.py\u001b[0m in \u001b[0;36mget_sequence\u001b[0;34m(ensembl_id, verbose, type)\u001b[0m\n\u001b[1;32m     10\u001b[0m \u001b[0;34m\u001b[0m\u001b[0m\n\u001b[1;32m     11\u001b[0m     \u001b[0;32mif\u001b[0m \u001b[0;32mnot\u001b[0m \u001b[0mr\u001b[0m\u001b[0;34m.\u001b[0m\u001b[0mok\u001b[0m\u001b[0;34m:\u001b[0m\u001b[0;34m\u001b[0m\u001b[0;34m\u001b[0m\u001b[0m\n\u001b[0;32m---> 12\u001b[0;31m         \u001b[0mr\u001b[0m\u001b[0;34m.\u001b[0m\u001b[0mraise_for_status\u001b[0m\u001b[0;34m(\u001b[0m\u001b[0;34m)\u001b[0m\u001b[0;34m\u001b[0m\u001b[0;34m\u001b[0m\u001b[0m\n\u001b[0m\u001b[1;32m     13\u001b[0m         \u001b[0msys\u001b[0m\u001b[0;34m.\u001b[0m\u001b[0mexit\u001b[0m\u001b[0;34m(\u001b[0m\u001b[0;34m)\u001b[0m\u001b[0;34m\u001b[0m\u001b[0;34m\u001b[0m\u001b[0m\n\u001b[1;32m     14\u001b[0m \u001b[0;34m\u001b[0m\u001b[0m\n",
        "\u001b[0;32m~/miniconda3/envs/kmer-hashing/lib/python3.6/site-packages/requests/models.py\u001b[0m in \u001b[0;36mraise_for_status\u001b[0;34m(self)\u001b[0m\n\u001b[1;32m    907\u001b[0m \u001b[0;34m\u001b[0m\u001b[0m\n\u001b[1;32m    908\u001b[0m         \u001b[0;32mif\u001b[0m \u001b[0mhttp_error_msg\u001b[0m\u001b[0;34m:\u001b[0m\u001b[0;34m\u001b[0m\u001b[0;34m\u001b[0m\u001b[0m\n\u001b[0;32m--> 909\u001b[0;31m             \u001b[0;32mraise\u001b[0m \u001b[0mHTTPError\u001b[0m\u001b[0;34m(\u001b[0m\u001b[0mhttp_error_msg\u001b[0m\u001b[0;34m,\u001b[0m \u001b[0mresponse\u001b[0m\u001b[0;34m=\u001b[0m\u001b[0mself\u001b[0m\u001b[0;34m)\u001b[0m\u001b[0;34m\u001b[0m\u001b[0;34m\u001b[0m\u001b[0m\n\u001b[0m\u001b[1;32m    910\u001b[0m \u001b[0;34m\u001b[0m\u001b[0m\n\u001b[1;32m    911\u001b[0m     \u001b[0;32mdef\u001b[0m \u001b[0mclose\u001b[0m\u001b[0;34m(\u001b[0m\u001b[0mself\u001b[0m\u001b[0;34m)\u001b[0m\u001b[0;34m:\u001b[0m\u001b[0;34m\u001b[0m\u001b[0;34m\u001b[0m\u001b[0m\n",
        "\u001b[0;31mHTTPError\u001b[0m: 400 Client Error: Bad Request for url: https://rest.ensembl.org/sequence/id/ENST00000525764;?type=cdna"
       ]
      }
     ],
     "persistentId": "feb62597-4e57-4d6f-a1e5-57d8d6e63d1a",
     "text": "len(get_sequence('ENST00000525764', type='cdna'))"
    },
    "executionTime": "2019-09-05T13:45:32.250Z"
   },
   {
    "cell": {
     "executionCount": 4,
     "executionEventId": "beca9634-66d8-4028-a593-87bb69b34641",
     "hasError": false,
     "id": "0cd314bd-2515-40f3-8481-57bfc115321f",
     "outputs": [
      {
       "data": {
        "text/plain": "556"
       },
       "execution_count": 4,
       "metadata": {},
       "output_type": "execute_result"
      }
     ],
     "persistentId": "feb62597-4e57-4d6f-a1e5-57d8d6e63d1a",
     "text": "len(get_sequence('ENST00000525764', type='cdna'))"
    },
    "executionTime": "2019-09-05T13:46:40.037Z"
   },
   {
    "cell": {
     "executionCount": 5,
     "executionEventId": "ebb3d104-092a-4ccc-b651-c136edee112e",
     "hasError": false,
     "id": "23354826-950d-4ff2-af27-6f70f6b0205c",
     "outputs": [
      {
       "data": {
        "text/plain": "558"
       },
       "execution_count": 5,
       "metadata": {},
       "output_type": "execute_result"
      }
     ],
     "persistentId": "65829092-5653-4ddc-897b-ce068a0bde74",
     "text": "len(get_sequence('ENST00000525764', type='cds'))"
    },
    "executionTime": "2019-09-05T13:46:43.970Z"
   },
   {
    "cell": {
     "executionCount": 6,
     "executionEventId": "e5124b03-3721-456a-b783-f65c1f75398a",
     "hasError": true,
     "id": "0cd314bd-2515-40f3-8481-57bfc115321f",
     "outputs": [
      {
       "ename": "HTTPError",
       "evalue": "400 Client Error: Bad Request for url: https://rest.ensembl.org/sequence/id/ENST00000307377.12?type=cdna",
       "output_type": "error",
       "traceback": [
        "\u001b[0;31m---------------------------------------------------------------------------\u001b[0m",
        "\u001b[0;31mHTTPError\u001b[0m                                 Traceback (most recent call last)",
        "\u001b[0;32m<ipython-input-6-4ae10df513b9>\u001b[0m in \u001b[0;36m<module>\u001b[0;34m()\u001b[0m\n\u001b[0;32m----> 1\u001b[0;31m \u001b[0mlen\u001b[0m\u001b[0;34m(\u001b[0m\u001b[0mget_sequence\u001b[0m\u001b[0;34m(\u001b[0m\u001b[0;34m'ENST00000307377.12'\u001b[0m\u001b[0;34m,\u001b[0m \u001b[0mtype\u001b[0m\u001b[0;34m=\u001b[0m\u001b[0;34m'cdna'\u001b[0m\u001b[0;34m)\u001b[0m\u001b[0;34m)\u001b[0m\u001b[0;34m\u001b[0m\u001b[0;34m\u001b[0m\u001b[0m\n\u001b[0m",
        "\u001b[0;32m~/code/kmer-hashing/kh-tools/khtools/ensembl.py\u001b[0m in \u001b[0;36mget_sequence\u001b[0;34m(ensembl_id, verbose, type)\u001b[0m\n\u001b[1;32m     10\u001b[0m \u001b[0;34m\u001b[0m\u001b[0m\n\u001b[1;32m     11\u001b[0m     \u001b[0;32mif\u001b[0m \u001b[0;32mnot\u001b[0m \u001b[0mr\u001b[0m\u001b[0;34m.\u001b[0m\u001b[0mok\u001b[0m\u001b[0;34m:\u001b[0m\u001b[0;34m\u001b[0m\u001b[0;34m\u001b[0m\u001b[0m\n\u001b[0;32m---> 12\u001b[0;31m         \u001b[0mr\u001b[0m\u001b[0;34m.\u001b[0m\u001b[0mraise_for_status\u001b[0m\u001b[0;34m(\u001b[0m\u001b[0;34m)\u001b[0m\u001b[0;34m\u001b[0m\u001b[0;34m\u001b[0m\u001b[0m\n\u001b[0m\u001b[1;32m     13\u001b[0m         \u001b[0msys\u001b[0m\u001b[0;34m.\u001b[0m\u001b[0mexit\u001b[0m\u001b[0;34m(\u001b[0m\u001b[0;34m)\u001b[0m\u001b[0;34m\u001b[0m\u001b[0;34m\u001b[0m\u001b[0m\n\u001b[1;32m     14\u001b[0m \u001b[0;34m\u001b[0m\u001b[0m\n",
        "\u001b[0;32m~/miniconda3/envs/kmer-hashing/lib/python3.6/site-packages/requests/models.py\u001b[0m in \u001b[0;36mraise_for_status\u001b[0;34m(self)\u001b[0m\n\u001b[1;32m    907\u001b[0m \u001b[0;34m\u001b[0m\u001b[0m\n\u001b[1;32m    908\u001b[0m         \u001b[0;32mif\u001b[0m \u001b[0mhttp_error_msg\u001b[0m\u001b[0;34m:\u001b[0m\u001b[0;34m\u001b[0m\u001b[0;34m\u001b[0m\u001b[0m\n\u001b[0;32m--> 909\u001b[0;31m             \u001b[0;32mraise\u001b[0m \u001b[0mHTTPError\u001b[0m\u001b[0;34m(\u001b[0m\u001b[0mhttp_error_msg\u001b[0m\u001b[0;34m,\u001b[0m \u001b[0mresponse\u001b[0m\u001b[0;34m=\u001b[0m\u001b[0mself\u001b[0m\u001b[0;34m)\u001b[0m\u001b[0;34m\u001b[0m\u001b[0;34m\u001b[0m\u001b[0m\n\u001b[0m\u001b[1;32m    910\u001b[0m \u001b[0;34m\u001b[0m\u001b[0m\n\u001b[1;32m    911\u001b[0m     \u001b[0;32mdef\u001b[0m \u001b[0mclose\u001b[0m\u001b[0;34m(\u001b[0m\u001b[0mself\u001b[0m\u001b[0;34m)\u001b[0m\u001b[0;34m:\u001b[0m\u001b[0;34m\u001b[0m\u001b[0;34m\u001b[0m\u001b[0m\n",
        "\u001b[0;31mHTTPError\u001b[0m: 400 Client Error: Bad Request for url: https://rest.ensembl.org/sequence/id/ENST00000307377.12?type=cdna"
       ]
      }
     ],
     "persistentId": "feb62597-4e57-4d6f-a1e5-57d8d6e63d1a",
     "text": "len(get_sequence('ENST00000307377.12', type='cdna'))"
    },
    "executionTime": "2019-09-05T13:47:07.314Z"
   },
   {
    "cell": {
     "executionCount": 7,
     "executionEventId": "611331af-3e6a-4adf-9cd3-7174604bde7e",
     "hasError": false,
     "id": "0cd314bd-2515-40f3-8481-57bfc115321f",
     "outputs": [
      {
       "data": {
        "text/plain": "2018"
       },
       "execution_count": 7,
       "metadata": {},
       "output_type": "execute_result"
      }
     ],
     "persistentId": "feb62597-4e57-4d6f-a1e5-57d8d6e63d1a",
     "text": "len(get_sequence('ENST00000307377', type='cdna'))"
    },
    "executionTime": "2019-09-05T13:47:09.826Z"
   },
   {
    "cell": {
     "executionCount": 8,
     "executionEventId": "4bcc7daa-7f8d-4e62-a6e6-928ac7bf8b8f",
     "hasError": false,
     "id": "23354826-950d-4ff2-af27-6f70f6b0205c",
     "outputs": [
      {
       "data": {
        "text/plain": "1641"
       },
       "execution_count": 8,
       "metadata": {},
       "output_type": "execute_result"
      }
     ],
     "persistentId": "65829092-5653-4ddc-897b-ce068a0bde74",
     "text": "len(get_sequence('ENST00000307377', type='cds'))"
    },
    "executionTime": "2019-09-05T13:47:15.918Z"
   },
   {
    "cell": {
     "executionCount": 9,
     "executionEventId": "c7c54d7b-b3f7-4808-a813-547221a05d52",
     "hasError": true,
     "id": "b1d96436-5fdb-4268-9813-0fae940bb428",
     "outputs": [
      {
       "ename": "NameError",
       "evalue": "name 'lincRNA_metadata_lines' is not defined",
       "output_type": "error",
       "traceback": [
        "\u001b[0;31m---------------------------------------------------------------------------\u001b[0m",
        "\u001b[0;31mNameError\u001b[0m                                 Traceback (most recent call last)",
        "\u001b[0;32m<ipython-input-9-89a831be61f6>\u001b[0m in \u001b[0;36m<module>\u001b[0;34m()\u001b[0m\n\u001b[0;32m----> 1\u001b[0;31m \u001b[0mlincRNA_metadata_lines\u001b[0m\u001b[0;34m\u001b[0m\u001b[0;34m\u001b[0m\u001b[0m\n\u001b[0m",
        "\u001b[0;31mNameError\u001b[0m: name 'lincRNA_metadata_lines' is not defined"
       ]
      }
     ],
     "persistentId": "a520f97f-5218-4633-a612-5e28366d4229",
     "text": "lincRNA_metadata_lines"
    },
    "executionTime": "2019-09-05T13:48:03.771Z"
   },
   {
    "cell": {
     "executionCount": 10,
     "executionEventId": "fda8e87e-74c1-4d2e-ac09-f2a1b6a33fed",
     "hasError": false,
     "id": "2a0e56b1-1dd0-4229-bcc9-f859dca3637e",
     "outputs": [
      {
       "name": "stdout",
       "output_type": "stream",
       "text": "total 2.0K\ndrwxrwxr-x  4 olga 21002 4.0K Jul 16 10:06 .\ndrwxrwxr-x 14 olga 21002 4.0K Sep  4 16:14 ..\ndrwxrwxr-x  4 olga 21002 4.0K Jul 16 10:06 human\ndrwxrwxr-x  5 olga 21002 4.0K Jul 16 10:06 mouse\n"
      }
     ],
     "persistentId": "8b2c97bf-2357-45a3-ad48-0eee9b1b040f",
     "text": "GENCODE_FOLDER = '/home/olga/data_lg/czbiohub-reference/gencode/'\n! ls -lha $GENCODE_FOLDER"
    },
    "executionTime": "2019-09-05T13:48:09.517Z"
   },
   {
    "cell": {
     "executionCount": 11,
     "executionEventId": "734ba501-c00d-42d4-9fb9-1ab541d9ad73",
     "hasError": false,
     "id": "3665a846-92ee-4f98-9f22-13e1cb353fef",
     "outputs": [
      {
       "name": "stdout",
       "output_type": "stream",
       "text": "gencode.v30.annotation.ERCC92.bed\ngencode.v30.annotation.ERCC92.gene_type.bed\n\u001b[0m\u001b[01;32mgencode.v30.annotation.ERCC92.gene_type.gtf\u001b[0m*\n\u001b[01;32mgencode.v30.annotation.ERCC92.gtf\u001b[0m*\n\u001b[01;32mgencode.v30.annotation.gtf\u001b[0m*\n\u001b[01;31mgencode.v30.pc_translations.fa.gz\u001b[0m\n\u001b[01;32mgencode.v30.transcripts.ERCC92.fa\u001b[0m*\n\u001b[01;32mgencode.v30.transcripts.fa\u001b[0m*\n\u001b[01;32mgetfasta_transcript_test.fa\u001b[0m*\n\u001b[01;32mGRCh38.p12.genome.ERCC92.fa\u001b[0m*\n\u001b[01;32mGRCh38.p12.genome.fa\u001b[0m*\n\u001b[01;32mGRCh38.p12.genome.fa.fai\u001b[0m*\nHomo_sapiens.GRCh38.96.bed\n\u001b[01;32mMakefile\u001b[0m*\n\u001b[01;32mMakefile~\u001b[0m*\n\u001b[01;34msalmon_index\u001b[0m/\n\u001b[01;34mSTARIndex\u001b[0m/\n\u001b[01;32mtest_gffread_transcripts.fa\u001b[0m*\n\u001b[01;32mtest_gffread_transcripts_no_dashF.fa\u001b[0m*\n\u001b[01;32mw\u001b[0m*\n"
      }
     ],
     "persistentId": "deade31d-acbe-4b44-9f0c-cf962297043d",
     "text": "ls $GENCODE_FOLDER/human/v30/"
    },
    "executionTime": "2019-09-05T13:48:09.768Z"
   },
   {
    "cell": {
     "executionCount": 12,
     "executionEventId": "3f031e9a-2e93-4ec0-853c-09223ffc9424",
     "hasError": false,
     "id": "42899698-fdb3-4aa2-aa05-7c1944eb906c",
     "outputs": [
      {
       "name": "stdout",
       "output_type": "stream",
       "text": "     41 3prime_overlapping_ncRNA\n  11636 antisense\n    329 bidirectional_promoter_lncRNA\n     23 IG_C_gene\n      9 IG_C_pseudogene\n     37 IG_D_gene\n     18 IG_J_gene\n      3 IG_J_pseudogene\n      1 IG_pseudogene\n    144 IG_V_gene\n    188 IG_V_pseudogene\n  14933 lincRNA\n      1 macro_lncRNA\n   1881 miRNA\n   2227 misc_RNA\n      2 Mt_rRNA\n     22 Mt_tRNA\n      1 non_coding\n  15550 nonsense_mediated_decay\n     90 non_stop_decay\n     63 polymorphic_pseudogene\n  10171 processed_pseudogene\n  28809 processed_transcript\n  83688 protein_coding\n     38 pseudogene\n  28273 retained_intron\n      8 ribozyme\n     52 rRNA\n    500 rRNA_pseudogene\n     49 scaRNA\n      1 scRNA\n    950 sense_intronic\n    368 sense_overlapping\n    954 snoRNA\n   1901 snRNA\n      5 sRNA\n   1158 TEC\n    494 transcribed_processed_pseudogene\n    131 transcribed_unitary_pseudogene\n    914 transcribed_unprocessed_pseudogene\n      2 translated_processed_pseudogene\n      6 TR_C_gene\n      4 TR_D_gene\n     79 TR_J_gene\n      4 TR_J_pseudogene\n    106 TR_V_gene\n     33 TR_V_pseudogene\n     96 unitary_pseudogene\n   2626 unprocessed_pseudogene\n      2 vaultRNA\n"
      }
     ],
     "persistentId": "9d7fe2f3-5378-4a5a-8ab6-9eda9f4c436d",
     "text": "! grep '>' $GENCODE_FOLDER/human/v30/gencode.v30.transcripts.fa | cut -f 8 -d '|' | sort | uniq -c"
    },
    "executionTime": "2019-09-05T13:48:10.281Z"
   },
   {
    "cell": {
     "executionCount": 13,
     "executionEventId": "27eca6a1-4b3c-4f44-bfe1-1de453878d2e",
     "hasError": false,
     "id": "982e9287-dd13-4d67-b6ca-6ba9f56e9caa",
     "outputs": [],
     "persistentId": "58dee61b-27de-4664-af4c-afd27a03a50f",
     "text": "n_desired_records = 100\n\nrandom.seed(0)\n\nlincRNA = []\nprotein_coding = []\n\nlincRNA_metadata_lines = []\nprotein_coding_metadata_lines = []\n\nrecords = list(SeqIO.parse(f\"{GENCODE_FOLDER}/human/v30/gencode.v30.transcripts.fa\", 'fasta'))\n\n# Shuffles in-place and returns none\nrandom.shuffle(records)\n\nfor record in records:\n    metadata = record.name.strip('|').split(\"|\")\n    if metadata[-1] == 'protein_coding':\n        if len(protein_coding) < n_desired_records:\n            protein_coding.append(record)\n            protein_coding_metadata_lines.append(metadata)\n    elif metadata[-1] == 'lincRNA':\n        if len(lincRNA) < n_desired_records:\n            lincRNA.append(record)\n            lincRNA_metadata_lines.append(metadata)\n    if len(lincRNA) >= n_desired_records and len(protein_coding) >= n_desired_records:\n        break\n# del records"
    },
    "executionTime": "2019-09-05T13:48:14.884Z"
   },
   {
    "cell": {
     "executionCount": 14,
     "executionEventId": "4e6589e6-d0bb-4869-9a18-7973d1a36164",
     "hasError": false,
     "id": "b1d96436-5fdb-4268-9813-0fae940bb428",
     "outputs": [
      {
       "data": {
        "text/plain": "[['ENST00000623420.1',\n  'ENSG00000279927.1',\n  'OTTHUMG00000189181.1',\n  'OTTHUMT00000479003.1',\n  'Z95114.4-201',\n  'Z95114.4',\n  '3578',\n  'lincRNA'],\n ['ENST00000628547.2',\n  'ENSG00000242086.8',\n  'OTTHUMG00000155834.14',\n  'OTTHUMT00000481409.1',\n  'MUC20-OT1-308',\n  'MUC20-OT1',\n  '882',\n  'lincRNA'],\n ['ENST00000411525.1',\n  'ENSG00000224429.7',\n  'OTTHUMG00000016541.3',\n  'OTTHUMT00000044126.1',\n  'LINC00539-201',\n  'LINC00539',\n  '664',\n  'lincRNA'],\n ['ENST00000427111.4',\n  'ENSG00000237248.5',\n  'OTTHUMG00000168333.2',\n  'OTTHUMT00000500908.1',\n  'LINC00987-201',\n  'LINC00987',\n  '2472',\n  'lincRNA'],\n ['ENST00000551227.1',\n  'ENSG00000258028.2',\n  'OTTHUMG00000170370.2',\n  'OTTHUMT00000408712.1',\n  'AL135878.1-201',\n  'AL135878.1',\n  '741',\n  'lincRNA'],\n ['ENST00000423408.5',\n  'ENSG00000232453.6',\n  'OTTHUMG00000008375.3',\n  'OTTHUMT00000023040.1',\n  'AC105277.1-201',\n  'AC105277.1',\n  '1211',\n  'lincRNA'],\n ['ENST00000576171.1',\n  'ENSG00000273172.1',\n  'OTTHUMG00000132133.2',\n  'OTTHUMT00000255178.2',\n  'LINC02091-201',\n  'LINC02091',\n  '1185',\n  'lincRNA'],\n ['ENST00000422558.1',\n  'ENSG00000228262.9',\n  'OTTHUMG00000152144.9',\n  'OTTHUMT00000325415.1',\n  'LINC01320-202',\n  'LINC01320',\n  '567',\n  'lincRNA'],\n ['ENST00000624927.3',\n  'ENSG00000228794.8',\n  'OTTHUMG00000002468.8',\n  'OTTHUMT00000479121.1',\n  'LINC01128-215',\n  'LINC01128',\n  '677',\n  'lincRNA'],\n ['ENST00000640920.1',\n  'ENSG00000284428.1',\n  'OTTHUMG00000183235.3',\n  'OTTHUMT00000465759.2',\n  'AC092329.4-209',\n  'AC092329.4',\n  '924',\n  'lincRNA'],\n ['ENST00000438352.1',\n  'ENSG00000228669.1',\n  'OTTHUMG00000017019.1',\n  'OTTHUMT00000045192.1',\n  'LINC00448-201',\n  'LINC00448',\n  '402',\n  'lincRNA'],\n ['ENST00000538790.1',\n  'ENSG00000256546.1',\n  'OTTHUMG00000168952.1',\n  'OTTHUMT00000401714.1',\n  'AC156455.1-201',\n  'AC156455.1',\n  '851',\n  'lincRNA'],\n ['ENST00000422117.1',\n  'ENSG00000235731.2',\n  'OTTHUMG00000056663.3',\n  'OTTHUMT00000126738.2',\n  'LINC02250-201',\n  'LINC02250',\n  '2491',\n  'lincRNA'],\n ['ENST00000614137.1',\n  'ENSG00000278254.4',\n  'OTTHUMG00000189027.1',\n  'OTTHUMT00000478448.1',\n  'AC004852.2-204',\n  'AC004852.2',\n  '1370',\n  'lincRNA'],\n ['ENST00000416774.1',\n  'ENSG00000223823.1',\n  'OTTHUMG00000000827.1',\n  'OTTHUMT00000002221.1',\n  'LINC01342-201',\n  'LINC01342',\n  '1620',\n  'lincRNA'],\n ['ENST00000527317.2',\n  'ENSG00000255087.3',\n  'OTTHUMG00000165810.3',\n  'OTTHUMT00000386316.2',\n  'AP001993.1-203',\n  'AP001993.1',\n  '2337',\n  'lincRNA'],\n ['ENST00000634642.1',\n  'ENSG00000229425.2',\n  'OTTHUMG00000074333.3',\n  'OTTHUMT00000488669.1',\n  'AJ009632.2-201',\n  'AJ009632.2',\n  '1047',\n  'lincRNA'],\n ['ENST00000618460.1',\n  'ENSG00000273565.1',\n  'OTTHUMG00000186997.1',\n  'OTTHUMT00000474221.1',\n  'AL691403.2-201',\n  'AL691403.2',\n  '490',\n  'lincRNA'],\n ['ENST00000568836.1',\n  'ENSG00000259967.1',\n  'OTTHUMG00000176729.1',\n  'OTTHUMT00000433316.1',\n  'AC087761.1-201',\n  'AC087761.1',\n  '556',\n  'lincRNA'],\n ['ENST00000512873.1',\n  'ENSG00000249699.1',\n  'OTTHUMG00000161689.1',\n  'OTTHUMT00000365728.1',\n  'LINC02261-201',\n  'LINC02261',\n  '2802',\n  'lincRNA'],\n ['ENST00000611627.1',\n  'ENSG00000276417.1',\n  'OTTHUMG00000187118.1',\n  'OTTHUMT00000474448.1',\n  'AC092111.2-201',\n  'AC092111.2',\n  '1414',\n  'lincRNA'],\n ['ENST00000641327.1',\n  'ENSG00000262454.3',\n  'OTTHUMG00000177423.4',\n  'OTTHUMT00000493285.1',\n  'MIR193BHG-210',\n  'MIR193BHG',\n  '515',\n  'lincRNA'],\n ['ENST00000650020.1',\n  'ENSG00000258791.8',\n  'OTTHUMG00000171059.6',\n  'OTTHUMT00000498487.1',\n  'LINC00520-211',\n  'LINC00520',\n  '405',\n  'lincRNA'],\n ['ENST00000438026.1',\n  'ENSG00000224610.1',\n  'OTTHUMG00000024094.1',\n  'OTTHUMT00000060658.1',\n  'AC108879.1-201',\n  'AC108879.1',\n  '828',\n  'lincRNA'],\n ['ENST00000437330.1',\n  'ENSG00000229203.1',\n  'OTTHUMG00000153714.1',\n  'OTTHUMT00000332207.1',\n  'AC103564.1-201',\n  'AC103564.1',\n  '562',\n  'lincRNA'],\n ['ENST00000451348.1',\n  'ENSG00000227509.1',\n  'OTTHUMG00000156714.1',\n  'OTTHUMT00000345423.1',\n  'LINC01839-201',\n  'LINC01839',\n  '727',\n  'lincRNA'],\n ['ENST00000562480.1',\n  'ENSG00000259870.1',\n  'OTTHUMG00000172742.2',\n  'OTTHUMT00000420344.2',\n  'AC024651.2-201',\n  'AC024651.2',\n  '2098',\n  'lincRNA'],\n ['ENST00000607309.1',\n  'ENSG00000232636.2',\n  'OTTHUMG00000017165.2',\n  'OTTHUMT00000045412.2',\n  'AL360267.1-201',\n  'AL360267.1',\n  '666',\n  'lincRNA'],\n ['ENST00000400477.7',\n  'ENSG00000198054.12',\n  'OTTHUMG00000090610.2',\n  'OTTHUMT00000207194.1',\n  'DSCR8-202',\n  'DSCR8',\n  '534',\n  'lincRNA'],\n ['ENST00000650502.1',\n  'ENSG00000262468.6',\n  'OTTHUMG00000177618.3',\n  'OTTHUMT00000497868.1',\n  'LINC01569-208',\n  'LINC01569',\n  '1243',\n  'lincRNA'],\n ['ENST00000608940.1',\n  'ENSG00000272763.1',\n  'OTTHUMG00000185832.1',\n  'OTTHUMT00000471445.1',\n  'AC103702.2-202',\n  'AC103702.2',\n  '436',\n  'lincRNA'],\n ['ENST00000623422.1',\n  'ENSG00000279298.1',\n  'OTTHUMG00000189168.1',\n  'OTTHUMT00000478988.1',\n  'Z99916.3-201',\n  'Z99916.3',\n  '1080',\n  'lincRNA'],\n ['ENST00000414339.2',\n  'ENSG00000234917.2',\n  'OTTHUMG00000007522.2',\n  'OTTHUMT00000019785.2',\n  'AC098484.2-201',\n  'AC098484.2',\n  '601',\n  'lincRNA'],\n ['ENST00000565802.1',\n  'ENSG00000261357.1',\n  'OTTHUMG00000176109.1',\n  'OTTHUMT00000431517.1',\n  'AC099518.2-201',\n  'AC099518.2',\n  '704',\n  'lincRNA'],\n ['ENST00000413670.2',\n  'ENSG00000225206.9',\n  'OTTHUMG00000010680.4',\n  'OTTHUMT00000467511.1',\n  'MIR137HG-201',\n  'MIR137HG',\n  '2107',\n  'lincRNA'],\n ['ENST00000452553.1',\n  'ENSG00000233973.6',\n  'OTTHUMG00000009566.2',\n  'OTTHUMT00000026414.1',\n  'LINC01360-205',\n  'LINC01360',\n  '480',\n  'lincRNA'],\n ['ENST00000438777.5',\n  'ENSG00000223745.7',\n  'OTTHUMG00000010705.7',\n  'OTTHUMT00000029563.1',\n  'CCDC18-AS1-211',\n  'CCDC18-AS1',\n  '752',\n  'lincRNA'],\n ['ENST00000430540.1',\n  'ENSG00000236648.1',\n  'OTTHUMG00000002515.1',\n  'OTTHUMT00000007156.1',\n  'AL136529.1-201',\n  'AL136529.1',\n  '610',\n  'lincRNA'],\n ['ENST00000570082.1',\n  'ENSG00000260670.1',\n  'OTTHUMG00000175719.1',\n  'OTTHUMT00000430898.1',\n  'AC134508.1-201',\n  'AC134508.1',\n  '2977',\n  'lincRNA'],\n ['ENST00000508145.2',\n  'ENSG00000249926.2',\n  'OTTHUMG00000168311.1',\n  'OTTHUMT00000399235.1',\n  'AC117500.1-201',\n  'AC117500.1',\n  '1561',\n  'lincRNA'],\n ['ENST00000628301.2',\n  'ENSG00000242086.8',\n  'OTTHUMG00000155834.14',\n  'OTTHUMT00000481412.1',\n  'MUC20-OT1-304',\n  'MUC20-OT1',\n  '772',\n  'lincRNA'],\n ['ENST00000560912.5',\n  'ENSG00000245694.9',\n  'OTTHUMG00000172236.3',\n  'OTTHUMT00000417436.1',\n  'CRNDE-210',\n  'CRNDE',\n  '459',\n  'lincRNA'],\n ['ENST00000578447.2',\n  'ENSG00000278097.1',\n  'OTTHUMG00000188421.1',\n  'OTTHUMT00000477171.1',\n  'AC243829.5-201',\n  'AC243829.5',\n  '247',\n  'lincRNA'],\n ['ENST00000564046.1',\n  'ENSG00000259846.1',\n  'OTTHUMG00000172800.2',\n  'OTTHUMT00000420524.2',\n  'AC092131.1-201',\n  'AC092131.1',\n  '548',\n  'lincRNA'],\n ['ENST00000595673.1',\n  'ENSG00000268621.5',\n  'OTTHUMG00000182496.2',\n  'OTTHUMT00000461717.1',\n  'IGFL2-AS1-202',\n  'IGFL2-AS1',\n  '304',\n  'lincRNA'],\n ['ENST00000648842.1',\n  'ENSG00000281398.4',\n  'OTTHUMG00000189582.3',\n  'OTTHUMT00000501129.1',\n  'SNHG4-209',\n  'SNHG4',\n  '1264',\n  'lincRNA'],\n ['ENST00000455977.2',\n  'ENSG00000230142.2',\n  'OTTHUMG00000017017.2',\n  'OTTHUMT00000045189.2',\n  'LINC01075-201',\n  'LINC01075',\n  '370',\n  'lincRNA'],\n ['ENST00000416595.1',\n  'ENSG00000223623.1',\n  'OTTHUMG00000014379.1',\n  'OTTHUMT00000040031.1',\n  'AL133268.2-201',\n  'AL133268.2',\n  '430',\n  'lincRNA'],\n ['ENST00000497379.2',\n  'ENSG00000241767.2',\n  'OTTHUMG00000158064.2',\n  'OTTHUMT00000350114.2',\n  'LINC01324-202',\n  'LINC01324',\n  '838',\n  'lincRNA'],\n ['ENST00000612055.1',\n  'ENSG00000277007.1',\n  'OTTHUMG00000186549.1',\n  'OTTHUMT00000473327.1',\n  'AC096642.1-201',\n  'AC096642.1',\n  '2614',\n  'lincRNA'],\n ['ENST00000597259.2',\n  'ENSG00000285122.1',\n  'OTTHUMG00000192439.1',\n  'OTTHUMT00000494123.1',\n  'PIGY-DT-201',\n  'PIGY-DT',\n  '235',\n  'lincRNA'],\n ['ENST00000578387.1',\n  'ENSG00000251359.4',\n  'OTTHUMG00000160677.1',\n  'OTTHUMT00000361702.1',\n  'WWC2-AS2-201',\n  'WWC2-AS2',\n  '2183',\n  'lincRNA'],\n ['ENST00000426527.1',\n  'ENSG00000223634.1',\n  'OTTHUMG00000151905.1',\n  'OTTHUMT00000324350.1',\n  'AC012506.2-201',\n  'AC012506.2',\n  '533',\n  'lincRNA'],\n ['ENST00000458082.1',\n  'ENSG00000231210.3',\n  'OTTHUMG00000064097.5',\n  'OTTHUMT00000316598.1',\n  'LINC01510-203',\n  'LINC01510',\n  '626',\n  'lincRNA'],\n ['ENST00000647667.1',\n  'ENSG00000261326.3',\n  'OTTHUMG00000175761.3',\n  'OTTHUMT00000500543.1',\n  'LINC01355-203',\n  'LINC01355',\n  '3732',\n  'lincRNA'],\n ['ENST00000605407.1',\n  'ENSG00000270883.1',\n  'OTTHUMG00000185259.1',\n  'OTTHUMT00000470001.1',\n  'AC080078.2-201',\n  'AC080078.2',\n  '463',\n  'lincRNA'],\n ['ENST00000641578.1',\n  'ENSG00000254166.2',\n  'OTTHUMG00000165065.7',\n  'OTTHUMT00000493198.1',\n  'CASC19-240',\n  'CASC19',\n  '1061',\n  'lincRNA'],\n ['ENST00000528482.6',\n  'ENSG00000255545.7',\n  'OTTHUMG00000167181.3',\n  'OTTHUMT00000393643.2',\n  'AP004608.1-203',\n  'AP004608.1',\n  '3679',\n  'lincRNA'],\n ['ENST00000466155.5',\n  'ENSG00000241469.8',\n  'OTTHUMG00000159195.5',\n  'OTTHUMT00000353786.1',\n  'LINC00635-204',\n  'LINC00635',\n  '604',\n  'lincRNA'],\n ['ENST00000455011.1',\n  'ENSG00000234147.1',\n  'OTTHUMG00000015700.1',\n  'OTTHUMT00000042475.1',\n  'AL035446.1-201',\n  'AL035446.1',\n  '453',\n  'lincRNA'],\n ['ENST00000522704.1',\n  'ENSG00000254135.2',\n  'OTTHUMG00000163519.2',\n  'OTTHUMT00000373935.1',\n  'AC091939.1-201',\n  'AC091939.1',\n  '691',\n  'lincRNA'],\n ['ENST00000574739.1',\n  'ENSG00000271860.6',\n  'OTTHUMG00000015255.6',\n  'OTTHUMT00000438230.1',\n  'AL589740.1-202',\n  'AL589740.1',\n  '578',\n  'lincRNA'],\n ['ENST00000413991.1',\n  'ENSG00000237614.2',\n  'OTTHUMG00000155117.3',\n  'OTTHUMT00000338464.1',\n  'AC073257.2-201',\n  'AC073257.2',\n  '528',\n  'lincRNA'],\n ['ENST00000607802.1',\n  'ENSG00000272259.5',\n  'OTTHUMG00000185413.1',\n  'OTTHUMT00000470475.1',\n  'LINC01749-202',\n  'LINC01749',\n  '3408',\n  'lincRNA'],\n ['ENST00000432163.1',\n  'ENSG00000229243.1',\n  'OTTHUMG00000155652.1',\n  'OTTHUMT00000341001.1',\n  'LINC01981-201',\n  'LINC01981',\n  '2833',\n  'lincRNA'],\n ['ENST00000558244.1',\n  'ENSG00000259361.6',\n  'OTTHUMG00000172168.3',\n  'OTTHUMT00000417163.1',\n  'LINC00927-201',\n  'LINC00927',\n  '432',\n  'lincRNA'],\n ['ENST00000426550.1',\n  'ENSG00000226587.1',\n  'OTTHUMG00000156272.1',\n  'OTTHUMT00000343681.1',\n  'AC006455.1-201',\n  'AC006455.1',\n  '517',\n  'lincRNA'],\n ['ENST00000517525.1',\n  'ENSG00000249859.10',\n  'OTTHUMG00000164871.4',\n  'OTTHUMT00000380697.1',\n  'PVT1-204',\n  'PVT1',\n  '392',\n  'lincRNA'],\n ['ENST00000613560.1',\n  'ENSG00000278611.1',\n  'OTTHUMG00000186586.1',\n  'OTTHUMT00000473420.1',\n  'ZNF426-DT-201',\n  'ZNF426-DT',\n  '595',\n  'lincRNA'],\n ['ENST00000457218.5',\n  'ENSG00000174365.19',\n  'OTTHUMG00000032449.2',\n  'OTTHUMT00000079179.1',\n  'SNHG11-214',\n  'SNHG11',\n  '880',\n  'lincRNA'],\n ['ENST00000636550.1',\n  'ENSG00000253688.2',\n  'OTTHUMG00000164199.2',\n  'OTTHUMT00000490503.1',\n  'AC026904.2-201',\n  'AC026904.2',\n  '1530',\n  'lincRNA'],\n ['ENST00000635515.1',\n  'ENSG00000237352.3',\n  'OTTHUMG00000008373.4',\n  'OTTHUMT00000488698.1',\n  'LINC01358-210',\n  'LINC01358',\n  '1519',\n  'lincRNA'],\n ['ENST00000530228.1',\n  'ENSG00000254813.5',\n  'OTTHUMG00000165476.1',\n  'OTTHUMT00000384373.1',\n  'AC123777.1-202',\n  'AC123777.1',\n  '762',\n  'lincRNA'],\n ['ENST00000445738.5',\n  'ENSG00000233694.5',\n  'OTTHUMG00000152679.1',\n  'OTTHUMT00000327323.1',\n  'LINC02579-202',\n  'LINC02579',\n  '1386',\n  'lincRNA'],\n ['ENST00000566567.1',\n  'ENSG00000260193.1',\n  'OTTHUMG00000175806.1',\n  'OTTHUMT00000431112.1',\n  'AL138781.1-201',\n  'AL138781.1',\n  '1274',\n  'lincRNA'],\n ['ENST00000457339.5',\n  'ENSG00000231023.6',\n  'OTTHUMG00000015597.2',\n  'OTTHUMT00000317882.1',\n  'LINC00326-202',\n  'LINC00326',\n  '2515',\n  'lincRNA'],\n ['ENST00000542479.1',\n  'ENSG00000255666.6',\n  'OTTHUMG00000167810.3',\n  'OTTHUMT00000396385.1',\n  'AP000943.2-205',\n  'AP000943.2',\n  '532',\n  'lincRNA'],\n ['ENST00000607836.1',\n  'ENSG00000226266.6',\n  'OTTHUMG00000154081.2',\n  'OTTHUMT00000470763.1',\n  'AC009961.1-203',\n  'AC009961.1',\n  '2520',\n  'lincRNA'],\n ['ENST00000440785.1',\n  'ENSG00000232451.1',\n  'OTTHUMG00000151813.2',\n  'OTTHUMT00000324297.1',\n  'AC018467.1-203',\n  'AC018467.1',\n  '506',\n  'lincRNA'],\n ['ENST00000413339.1',\n  'ENSG00000230573.1',\n  'OTTHUMG00000017568.1',\n  'OTTHUMT00000046501.1',\n  'LINC02639-201',\n  'LINC02639',\n  '536',\n  'lincRNA'],\n ['ENST00000431997.2',\n  'ENSG00000223765.2',\n  'OTTHUMG00000015005.2',\n  'OTTHUMT00000041164.2',\n  'LINC01626-201',\n  'LINC01626',\n  '452',\n  'lincRNA'],\n ['ENST00000563844.1',\n  'ENSG00000249231.7',\n  'OTTHUMG00000173223.2',\n  'OTTHUMT00000422539.1',\n  'CASC16-202',\n  'CASC16',\n  '610',\n  'lincRNA'],\n ['ENST00000519898.5',\n  'ENSG00000249669.9',\n  'OTTHUMG00000163464.9',\n  'OTTHUMT00000381677.2',\n  'CARMN-206',\n  'CARMN',\n  '1197',\n  'lincRNA'],\n ['ENST00000606054.1',\n  'ENSG00000272523.1',\n  'OTTHUMG00000185544.1',\n  'OTTHUMT00000470689.1',\n  'LINC01023-201',\n  'LINC01023',\n  '436',\n  'lincRNA'],\n ['ENST00000606343.1',\n  'ENSG00000272068.1',\n  'OTTHUMG00000185553.1',\n  'OTTHUMT00000470701.1',\n  'AL365181.2-201',\n  'AL365181.2',\n  '3222',\n  'lincRNA'],\n ['ENST00000648520.1',\n  'ENSG00000227036.7',\n  'OTTHUMG00000132227.13',\n  'OTTHUMT00000501073.1',\n  'LINC00511-240',\n  'LINC00511',\n  '1888',\n  'lincRNA'],\n ['ENST00000509669.1',\n  'ENSG00000249797.1',\n  'OTTHUMG00000162888.1',\n  'OTTHUMT00000370951.1',\n  'LINC02147-202',\n  'LINC02147',\n  '637',\n  'lincRNA'],\n ['ENST00000651481.1',\n  'ENSG00000272168.7',\n  'OTTHUMG00000014345.8',\n  'OTTHUMT00000502159.1',\n  'CASC15-215',\n  'CASC15',\n  '732',\n  'lincRNA'],\n ['ENST00000435946.1',\n  'ENSG00000223786.1',\n  'OTTHUMG00000015043.1',\n  'OTTHUMT00000041234.1',\n  'AL357507.1-201',\n  'AL357507.1',\n  '669',\n  'lincRNA'],\n ['ENST00000367355.5',\n  'ENSG00000203721.6',\n  'OTTHUMG00000035722.3',\n  'OTTHUMT00000086877.1',\n  'LINC00862-201',\n  'LINC00862',\n  '1417',\n  'lincRNA'],\n ['ENST00000565564.1',\n  'ENSG00000259981.1',\n  'OTTHUMG00000172753.1',\n  'OTTHUMT00000420368.1',\n  'AF096876.1-201',\n  'AF096876.1',\n  '444',\n  'lincRNA'],\n ['ENST00000546615.1',\n  'ENSG00000257647.1',\n  'OTTHUMG00000170275.1',\n  'OTTHUMT00000408285.1',\n  'AC124312.2-201',\n  'AC124312.2',\n  '427',\n  'lincRNA'],\n ['ENST00000431729.1',\n  'ENSG00000227925.1',\n  'OTTHUMG00000037268.1',\n  'OTTHUMT00000090715.1',\n  'LINC01655-201',\n  'LINC01655',\n  '423',\n  'lincRNA'],\n ['ENST00000521257.1',\n  'ENSG00000253665.1',\n  'OTTHUMG00000164044.1',\n  'OTTHUMT00000376942.1',\n  'AC022733.1-201',\n  'AC022733.1',\n  '739',\n  'lincRNA'],\n ['ENST00000512794.1',\n  'ENSG00000249519.1',\n  'OTTHUMG00000161115.1',\n  'OTTHUMT00000363852.1',\n  'LINC01438-201',\n  'LINC01438',\n  '556',\n  'lincRNA'],\n ['ENST00000413403.1',\n  'ENSG00000238277.1',\n  'OTTHUMG00000153414.1',\n  'OTTHUMT00000331082.1',\n  'AC068483.1-201',\n  'AC068483.1',\n  '660',\n  'lincRNA'],\n ['ENST00000417838.1',\n  'ENSG00000230205.1',\n  'OTTHUMG00000015771.1',\n  'OTTHUMT00000042617.1',\n  'AL359382.1-201',\n  'AL359382.1',\n  '426',\n  'lincRNA'],\n ['ENST00000431307.1',\n  'ENSG00000226251.5',\n  'OTTHUMG00000037132.1',\n  'OTTHUMT00000090181.1',\n  'LINC02608-202',\n  'LINC02608',\n  '362',\n  'lincRNA'],\n ['ENST00000609975.1',\n  'ENSG00000272913.1',\n  'OTTHUMG00000186024.1',\n  'OTTHUMT00000472064.1',\n  'AC009237.14-201',\n  'AC009237.14',\n  '1594',\n  'lincRNA'],\n ['ENST00000552534.5',\n  'ENSG00000257467.5',\n  'OTTHUMG00000170246.1',\n  'OTTHUMT00000408172.1',\n  'PPFIA2-AS1-209',\n  'PPFIA2-AS1',\n  '924',\n  'lincRNA']]"
       },
       "execution_count": 14,
       "metadata": {},
       "output_type": "execute_result"
      }
     ],
     "persistentId": "a520f97f-5218-4633-a612-5e28366d4229",
     "text": "lincRNA_metadata_lines"
    },
    "executionTime": "2019-09-05T13:48:15.291Z"
   },
   {
    "cell": {
     "executionCount": 15,
     "executionEventId": "4ed2b074-448d-4299-83e7-982767ec6764",
     "hasError": false,
     "id": "b1d96436-5fdb-4268-9813-0fae940bb428",
     "outputs": [
      {
       "data": {
        "text/html": "<div>\n<style scoped>\n    .dataframe tbody tr th:only-of-type {\n        vertical-align: middle;\n    }\n\n    .dataframe tbody tr th {\n        vertical-align: top;\n    }\n\n    .dataframe thead th {\n        text-align: right;\n    }\n</style>\n<table border=\"1\" class=\"dataframe\">\n  <thead>\n    <tr style=\"text-align: right;\">\n      <th></th>\n      <th>0</th>\n      <th>1</th>\n      <th>2</th>\n      <th>3</th>\n      <th>4</th>\n      <th>5</th>\n      <th>6</th>\n      <th>7</th>\n    </tr>\n  </thead>\n  <tbody>\n    <tr>\n      <th>0</th>\n      <td>ENST00000623420.1</td>\n      <td>ENSG00000279927.1</td>\n      <td>OTTHUMG00000189181.1</td>\n      <td>OTTHUMT00000479003.1</td>\n      <td>Z95114.4-201</td>\n      <td>Z95114.4</td>\n      <td>3578</td>\n      <td>lincRNA</td>\n    </tr>\n    <tr>\n      <th>1</th>\n      <td>ENST00000628547.2</td>\n      <td>ENSG00000242086.8</td>\n      <td>OTTHUMG00000155834.14</td>\n      <td>OTTHUMT00000481409.1</td>\n      <td>MUC20-OT1-308</td>\n      <td>MUC20-OT1</td>\n      <td>882</td>\n      <td>lincRNA</td>\n    </tr>\n    <tr>\n      <th>2</th>\n      <td>ENST00000411525.1</td>\n      <td>ENSG00000224429.7</td>\n      <td>OTTHUMG00000016541.3</td>\n      <td>OTTHUMT00000044126.1</td>\n      <td>LINC00539-201</td>\n      <td>LINC00539</td>\n      <td>664</td>\n      <td>lincRNA</td>\n    </tr>\n    <tr>\n      <th>3</th>\n      <td>ENST00000427111.4</td>\n      <td>ENSG00000237248.5</td>\n      <td>OTTHUMG00000168333.2</td>\n      <td>OTTHUMT00000500908.1</td>\n      <td>LINC00987-201</td>\n      <td>LINC00987</td>\n      <td>2472</td>\n      <td>lincRNA</td>\n    </tr>\n    <tr>\n      <th>4</th>\n      <td>ENST00000551227.1</td>\n      <td>ENSG00000258028.2</td>\n      <td>OTTHUMG00000170370.2</td>\n      <td>OTTHUMT00000408712.1</td>\n      <td>AL135878.1-201</td>\n      <td>AL135878.1</td>\n      <td>741</td>\n      <td>lincRNA</td>\n    </tr>\n    <tr>\n      <th>5</th>\n      <td>ENST00000423408.5</td>\n      <td>ENSG00000232453.6</td>\n      <td>OTTHUMG00000008375.3</td>\n      <td>OTTHUMT00000023040.1</td>\n      <td>AC105277.1-201</td>\n      <td>AC105277.1</td>\n      <td>1211</td>\n      <td>lincRNA</td>\n    </tr>\n    <tr>\n      <th>6</th>\n      <td>ENST00000576171.1</td>\n      <td>ENSG00000273172.1</td>\n      <td>OTTHUMG00000132133.2</td>\n      <td>OTTHUMT00000255178.2</td>\n      <td>LINC02091-201</td>\n      <td>LINC02091</td>\n      <td>1185</td>\n      <td>lincRNA</td>\n    </tr>\n    <tr>\n      <th>7</th>\n      <td>ENST00000422558.1</td>\n      <td>ENSG00000228262.9</td>\n      <td>OTTHUMG00000152144.9</td>\n      <td>OTTHUMT00000325415.1</td>\n      <td>LINC01320-202</td>\n      <td>LINC01320</td>\n      <td>567</td>\n      <td>lincRNA</td>\n    </tr>\n    <tr>\n      <th>8</th>\n      <td>ENST00000624927.3</td>\n      <td>ENSG00000228794.8</td>\n      <td>OTTHUMG00000002468.8</td>\n      <td>OTTHUMT00000479121.1</td>\n      <td>LINC01128-215</td>\n      <td>LINC01128</td>\n      <td>677</td>\n      <td>lincRNA</td>\n    </tr>\n    <tr>\n      <th>9</th>\n      <td>ENST00000640920.1</td>\n      <td>ENSG00000284428.1</td>\n      <td>OTTHUMG00000183235.3</td>\n      <td>OTTHUMT00000465759.2</td>\n      <td>AC092329.4-209</td>\n      <td>AC092329.4</td>\n      <td>924</td>\n      <td>lincRNA</td>\n    </tr>\n    <tr>\n      <th>10</th>\n      <td>ENST00000438352.1</td>\n      <td>ENSG00000228669.1</td>\n      <td>OTTHUMG00000017019.1</td>\n      <td>OTTHUMT00000045192.1</td>\n      <td>LINC00448-201</td>\n      <td>LINC00448</td>\n      <td>402</td>\n      <td>lincRNA</td>\n    </tr>\n    <tr>\n      <th>11</th>\n      <td>ENST00000538790.1</td>\n      <td>ENSG00000256546.1</td>\n      <td>OTTHUMG00000168952.1</td>\n      <td>OTTHUMT00000401714.1</td>\n      <td>AC156455.1-201</td>\n      <td>AC156455.1</td>\n      <td>851</td>\n      <td>lincRNA</td>\n    </tr>\n    <tr>\n      <th>12</th>\n      <td>ENST00000422117.1</td>\n      <td>ENSG00000235731.2</td>\n      <td>OTTHUMG00000056663.3</td>\n      <td>OTTHUMT00000126738.2</td>\n      <td>LINC02250-201</td>\n      <td>LINC02250</td>\n      <td>2491</td>\n      <td>lincRNA</td>\n    </tr>\n    <tr>\n      <th>13</th>\n      <td>ENST00000614137.1</td>\n      <td>ENSG00000278254.4</td>\n      <td>OTTHUMG00000189027.1</td>\n      <td>OTTHUMT00000478448.1</td>\n      <td>AC004852.2-204</td>\n      <td>AC004852.2</td>\n      <td>1370</td>\n      <td>lincRNA</td>\n    </tr>\n    <tr>\n      <th>14</th>\n      <td>ENST00000416774.1</td>\n      <td>ENSG00000223823.1</td>\n      <td>OTTHUMG00000000827.1</td>\n      <td>OTTHUMT00000002221.1</td>\n      <td>LINC01342-201</td>\n      <td>LINC01342</td>\n      <td>1620</td>\n      <td>lincRNA</td>\n    </tr>\n    <tr>\n      <th>15</th>\n      <td>ENST00000527317.2</td>\n      <td>ENSG00000255087.3</td>\n      <td>OTTHUMG00000165810.3</td>\n      <td>OTTHUMT00000386316.2</td>\n      <td>AP001993.1-203</td>\n      <td>AP001993.1</td>\n      <td>2337</td>\n      <td>lincRNA</td>\n    </tr>\n    <tr>\n      <th>16</th>\n      <td>ENST00000634642.1</td>\n      <td>ENSG00000229425.2</td>\n      <td>OTTHUMG00000074333.3</td>\n      <td>OTTHUMT00000488669.1</td>\n      <td>AJ009632.2-201</td>\n      <td>AJ009632.2</td>\n      <td>1047</td>\n      <td>lincRNA</td>\n    </tr>\n    <tr>\n      <th>17</th>\n      <td>ENST00000618460.1</td>\n      <td>ENSG00000273565.1</td>\n      <td>OTTHUMG00000186997.1</td>\n      <td>OTTHUMT00000474221.1</td>\n      <td>AL691403.2-201</td>\n      <td>AL691403.2</td>\n      <td>490</td>\n      <td>lincRNA</td>\n    </tr>\n    <tr>\n      <th>18</th>\n      <td>ENST00000568836.1</td>\n      <td>ENSG00000259967.1</td>\n      <td>OTTHUMG00000176729.1</td>\n      <td>OTTHUMT00000433316.1</td>\n      <td>AC087761.1-201</td>\n      <td>AC087761.1</td>\n      <td>556</td>\n      <td>lincRNA</td>\n    </tr>\n    <tr>\n      <th>19</th>\n      <td>ENST00000512873.1</td>\n      <td>ENSG00000249699.1</td>\n      <td>OTTHUMG00000161689.1</td>\n      <td>OTTHUMT00000365728.1</td>\n      <td>LINC02261-201</td>\n      <td>LINC02261</td>\n      <td>2802</td>\n      <td>lincRNA</td>\n    </tr>\n    <tr>\n      <th>20</th>\n      <td>ENST00000611627.1</td>\n      <td>ENSG00000276417.1</td>\n      <td>OTTHUMG00000187118.1</td>\n      <td>OTTHUMT00000474448.1</td>\n      <td>AC092111.2-201</td>\n      <td>AC092111.2</td>\n      <td>1414</td>\n      <td>lincRNA</td>\n    </tr>\n    <tr>\n      <th>21</th>\n      <td>ENST00000641327.1</td>\n      <td>ENSG00000262454.3</td>\n      <td>OTTHUMG00000177423.4</td>\n      <td>OTTHUMT00000493285.1</td>\n      <td>MIR193BHG-210</td>\n      <td>MIR193BHG</td>\n      <td>515</td>\n      <td>lincRNA</td>\n    </tr>\n    <tr>\n      <th>22</th>\n      <td>ENST00000650020.1</td>\n      <td>ENSG00000258791.8</td>\n      <td>OTTHUMG00000171059.6</td>\n      <td>OTTHUMT00000498487.1</td>\n      <td>LINC00520-211</td>\n      <td>LINC00520</td>\n      <td>405</td>\n      <td>lincRNA</td>\n    </tr>\n    <tr>\n      <th>23</th>\n      <td>ENST00000438026.1</td>\n      <td>ENSG00000224610.1</td>\n      <td>OTTHUMG00000024094.1</td>\n      <td>OTTHUMT00000060658.1</td>\n      <td>AC108879.1-201</td>\n      <td>AC108879.1</td>\n      <td>828</td>\n      <td>lincRNA</td>\n    </tr>\n    <tr>\n      <th>24</th>\n      <td>ENST00000437330.1</td>\n      <td>ENSG00000229203.1</td>\n      <td>OTTHUMG00000153714.1</td>\n      <td>OTTHUMT00000332207.1</td>\n      <td>AC103564.1-201</td>\n      <td>AC103564.1</td>\n      <td>562</td>\n      <td>lincRNA</td>\n    </tr>\n    <tr>\n      <th>25</th>\n      <td>ENST00000451348.1</td>\n      <td>ENSG00000227509.1</td>\n      <td>OTTHUMG00000156714.1</td>\n      <td>OTTHUMT00000345423.1</td>\n      <td>LINC01839-201</td>\n      <td>LINC01839</td>\n      <td>727</td>\n      <td>lincRNA</td>\n    </tr>\n    <tr>\n      <th>26</th>\n      <td>ENST00000562480.1</td>\n      <td>ENSG00000259870.1</td>\n      <td>OTTHUMG00000172742.2</td>\n      <td>OTTHUMT00000420344.2</td>\n      <td>AC024651.2-201</td>\n      <td>AC024651.2</td>\n      <td>2098</td>\n      <td>lincRNA</td>\n    </tr>\n    <tr>\n      <th>27</th>\n      <td>ENST00000607309.1</td>\n      <td>ENSG00000232636.2</td>\n      <td>OTTHUMG00000017165.2</td>\n      <td>OTTHUMT00000045412.2</td>\n      <td>AL360267.1-201</td>\n      <td>AL360267.1</td>\n      <td>666</td>\n      <td>lincRNA</td>\n    </tr>\n    <tr>\n      <th>28</th>\n      <td>ENST00000400477.7</td>\n      <td>ENSG00000198054.12</td>\n      <td>OTTHUMG00000090610.2</td>\n      <td>OTTHUMT00000207194.1</td>\n      <td>DSCR8-202</td>\n      <td>DSCR8</td>\n      <td>534</td>\n      <td>lincRNA</td>\n    </tr>\n    <tr>\n      <th>29</th>\n      <td>ENST00000650502.1</td>\n      <td>ENSG00000262468.6</td>\n      <td>OTTHUMG00000177618.3</td>\n      <td>OTTHUMT00000497868.1</td>\n      <td>LINC01569-208</td>\n      <td>LINC01569</td>\n      <td>1243</td>\n      <td>lincRNA</td>\n    </tr>\n    <tr>\n      <th>...</th>\n      <td>...</td>\n      <td>...</td>\n      <td>...</td>\n      <td>...</td>\n      <td>...</td>\n      <td>...</td>\n      <td>...</td>\n      <td>...</td>\n    </tr>\n    <tr>\n      <th>70</th>\n      <td>ENST00000636550.1</td>\n      <td>ENSG00000253688.2</td>\n      <td>OTTHUMG00000164199.2</td>\n      <td>OTTHUMT00000490503.1</td>\n      <td>AC026904.2-201</td>\n      <td>AC026904.2</td>\n      <td>1530</td>\n      <td>lincRNA</td>\n    </tr>\n    <tr>\n      <th>71</th>\n      <td>ENST00000635515.1</td>\n      <td>ENSG00000237352.3</td>\n      <td>OTTHUMG00000008373.4</td>\n      <td>OTTHUMT00000488698.1</td>\n      <td>LINC01358-210</td>\n      <td>LINC01358</td>\n      <td>1519</td>\n      <td>lincRNA</td>\n    </tr>\n    <tr>\n      <th>72</th>\n      <td>ENST00000530228.1</td>\n      <td>ENSG00000254813.5</td>\n      <td>OTTHUMG00000165476.1</td>\n      <td>OTTHUMT00000384373.1</td>\n      <td>AC123777.1-202</td>\n      <td>AC123777.1</td>\n      <td>762</td>\n      <td>lincRNA</td>\n    </tr>\n    <tr>\n      <th>73</th>\n      <td>ENST00000445738.5</td>\n      <td>ENSG00000233694.5</td>\n      <td>OTTHUMG00000152679.1</td>\n      <td>OTTHUMT00000327323.1</td>\n      <td>LINC02579-202</td>\n      <td>LINC02579</td>\n      <td>1386</td>\n      <td>lincRNA</td>\n    </tr>\n    <tr>\n      <th>74</th>\n      <td>ENST00000566567.1</td>\n      <td>ENSG00000260193.1</td>\n      <td>OTTHUMG00000175806.1</td>\n      <td>OTTHUMT00000431112.1</td>\n      <td>AL138781.1-201</td>\n      <td>AL138781.1</td>\n      <td>1274</td>\n      <td>lincRNA</td>\n    </tr>\n    <tr>\n      <th>75</th>\n      <td>ENST00000457339.5</td>\n      <td>ENSG00000231023.6</td>\n      <td>OTTHUMG00000015597.2</td>\n      <td>OTTHUMT00000317882.1</td>\n      <td>LINC00326-202</td>\n      <td>LINC00326</td>\n      <td>2515</td>\n      <td>lincRNA</td>\n    </tr>\n    <tr>\n      <th>76</th>\n      <td>ENST00000542479.1</td>\n      <td>ENSG00000255666.6</td>\n      <td>OTTHUMG00000167810.3</td>\n      <td>OTTHUMT00000396385.1</td>\n      <td>AP000943.2-205</td>\n      <td>AP000943.2</td>\n      <td>532</td>\n      <td>lincRNA</td>\n    </tr>\n    <tr>\n      <th>77</th>\n      <td>ENST00000607836.1</td>\n      <td>ENSG00000226266.6</td>\n      <td>OTTHUMG00000154081.2</td>\n      <td>OTTHUMT00000470763.1</td>\n      <td>AC009961.1-203</td>\n      <td>AC009961.1</td>\n      <td>2520</td>\n      <td>lincRNA</td>\n    </tr>\n    <tr>\n      <th>78</th>\n      <td>ENST00000440785.1</td>\n      <td>ENSG00000232451.1</td>\n      <td>OTTHUMG00000151813.2</td>\n      <td>OTTHUMT00000324297.1</td>\n      <td>AC018467.1-203</td>\n      <td>AC018467.1</td>\n      <td>506</td>\n      <td>lincRNA</td>\n    </tr>\n    <tr>\n      <th>79</th>\n      <td>ENST00000413339.1</td>\n      <td>ENSG00000230573.1</td>\n      <td>OTTHUMG00000017568.1</td>\n      <td>OTTHUMT00000046501.1</td>\n      <td>LINC02639-201</td>\n      <td>LINC02639</td>\n      <td>536</td>\n      <td>lincRNA</td>\n    </tr>\n    <tr>\n      <th>80</th>\n      <td>ENST00000431997.2</td>\n      <td>ENSG00000223765.2</td>\n      <td>OTTHUMG00000015005.2</td>\n      <td>OTTHUMT00000041164.2</td>\n      <td>LINC01626-201</td>\n      <td>LINC01626</td>\n      <td>452</td>\n      <td>lincRNA</td>\n    </tr>\n    <tr>\n      <th>81</th>\n      <td>ENST00000563844.1</td>\n      <td>ENSG00000249231.7</td>\n      <td>OTTHUMG00000173223.2</td>\n      <td>OTTHUMT00000422539.1</td>\n      <td>CASC16-202</td>\n      <td>CASC16</td>\n      <td>610</td>\n      <td>lincRNA</td>\n    </tr>\n    <tr>\n      <th>82</th>\n      <td>ENST00000519898.5</td>\n      <td>ENSG00000249669.9</td>\n      <td>OTTHUMG00000163464.9</td>\n      <td>OTTHUMT00000381677.2</td>\n      <td>CARMN-206</td>\n      <td>CARMN</td>\n      <td>1197</td>\n      <td>lincRNA</td>\n    </tr>\n    <tr>\n      <th>83</th>\n      <td>ENST00000606054.1</td>\n      <td>ENSG00000272523.1</td>\n      <td>OTTHUMG00000185544.1</td>\n      <td>OTTHUMT00000470689.1</td>\n      <td>LINC01023-201</td>\n      <td>LINC01023</td>\n      <td>436</td>\n      <td>lincRNA</td>\n    </tr>\n    <tr>\n      <th>84</th>\n      <td>ENST00000606343.1</td>\n      <td>ENSG00000272068.1</td>\n      <td>OTTHUMG00000185553.1</td>\n      <td>OTTHUMT00000470701.1</td>\n      <td>AL365181.2-201</td>\n      <td>AL365181.2</td>\n      <td>3222</td>\n      <td>lincRNA</td>\n    </tr>\n    <tr>\n      <th>85</th>\n      <td>ENST00000648520.1</td>\n      <td>ENSG00000227036.7</td>\n      <td>OTTHUMG00000132227.13</td>\n      <td>OTTHUMT00000501073.1</td>\n      <td>LINC00511-240</td>\n      <td>LINC00511</td>\n      <td>1888</td>\n      <td>lincRNA</td>\n    </tr>\n    <tr>\n      <th>86</th>\n      <td>ENST00000509669.1</td>\n      <td>ENSG00000249797.1</td>\n      <td>OTTHUMG00000162888.1</td>\n      <td>OTTHUMT00000370951.1</td>\n      <td>LINC02147-202</td>\n      <td>LINC02147</td>\n      <td>637</td>\n      <td>lincRNA</td>\n    </tr>\n    <tr>\n      <th>87</th>\n      <td>ENST00000651481.1</td>\n      <td>ENSG00000272168.7</td>\n      <td>OTTHUMG00000014345.8</td>\n      <td>OTTHUMT00000502159.1</td>\n      <td>CASC15-215</td>\n      <td>CASC15</td>\n      <td>732</td>\n      <td>lincRNA</td>\n    </tr>\n    <tr>\n      <th>88</th>\n      <td>ENST00000435946.1</td>\n      <td>ENSG00000223786.1</td>\n      <td>OTTHUMG00000015043.1</td>\n      <td>OTTHUMT00000041234.1</td>\n      <td>AL357507.1-201</td>\n      <td>AL357507.1</td>\n      <td>669</td>\n      <td>lincRNA</td>\n    </tr>\n    <tr>\n      <th>89</th>\n      <td>ENST00000367355.5</td>\n      <td>ENSG00000203721.6</td>\n      <td>OTTHUMG00000035722.3</td>\n      <td>OTTHUMT00000086877.1</td>\n      <td>LINC00862-201</td>\n      <td>LINC00862</td>\n      <td>1417</td>\n      <td>lincRNA</td>\n    </tr>\n    <tr>\n      <th>90</th>\n      <td>ENST00000565564.1</td>\n      <td>ENSG00000259981.1</td>\n      <td>OTTHUMG00000172753.1</td>\n      <td>OTTHUMT00000420368.1</td>\n      <td>AF096876.1-201</td>\n      <td>AF096876.1</td>\n      <td>444</td>\n      <td>lincRNA</td>\n    </tr>\n    <tr>\n      <th>91</th>\n      <td>ENST00000546615.1</td>\n      <td>ENSG00000257647.1</td>\n      <td>OTTHUMG00000170275.1</td>\n      <td>OTTHUMT00000408285.1</td>\n      <td>AC124312.2-201</td>\n      <td>AC124312.2</td>\n      <td>427</td>\n      <td>lincRNA</td>\n    </tr>\n    <tr>\n      <th>92</th>\n      <td>ENST00000431729.1</td>\n      <td>ENSG00000227925.1</td>\n      <td>OTTHUMG00000037268.1</td>\n      <td>OTTHUMT00000090715.1</td>\n      <td>LINC01655-201</td>\n      <td>LINC01655</td>\n      <td>423</td>\n      <td>lincRNA</td>\n    </tr>\n    <tr>\n      <th>93</th>\n      <td>ENST00000521257.1</td>\n      <td>ENSG00000253665.1</td>\n      <td>OTTHUMG00000164044.1</td>\n      <td>OTTHUMT00000376942.1</td>\n      <td>AC022733.1-201</td>\n      <td>AC022733.1</td>\n      <td>739</td>\n      <td>lincRNA</td>\n    </tr>\n    <tr>\n      <th>94</th>\n      <td>ENST00000512794.1</td>\n      <td>ENSG00000249519.1</td>\n      <td>OTTHUMG00000161115.1</td>\n      <td>OTTHUMT00000363852.1</td>\n      <td>LINC01438-201</td>\n      <td>LINC01438</td>\n      <td>556</td>\n      <td>lincRNA</td>\n    </tr>\n    <tr>\n      <th>95</th>\n      <td>ENST00000413403.1</td>\n      <td>ENSG00000238277.1</td>\n      <td>OTTHUMG00000153414.1</td>\n      <td>OTTHUMT00000331082.1</td>\n      <td>AC068483.1-201</td>\n      <td>AC068483.1</td>\n      <td>660</td>\n      <td>lincRNA</td>\n    </tr>\n    <tr>\n      <th>96</th>\n      <td>ENST00000417838.1</td>\n      <td>ENSG00000230205.1</td>\n      <td>OTTHUMG00000015771.1</td>\n      <td>OTTHUMT00000042617.1</td>\n      <td>AL359382.1-201</td>\n      <td>AL359382.1</td>\n      <td>426</td>\n      <td>lincRNA</td>\n    </tr>\n    <tr>\n      <th>97</th>\n      <td>ENST00000431307.1</td>\n      <td>ENSG00000226251.5</td>\n      <td>OTTHUMG00000037132.1</td>\n      <td>OTTHUMT00000090181.1</td>\n      <td>LINC02608-202</td>\n      <td>LINC02608</td>\n      <td>362</td>\n      <td>lincRNA</td>\n    </tr>\n    <tr>\n      <th>98</th>\n      <td>ENST00000609975.1</td>\n      <td>ENSG00000272913.1</td>\n      <td>OTTHUMG00000186024.1</td>\n      <td>OTTHUMT00000472064.1</td>\n      <td>AC009237.14-201</td>\n      <td>AC009237.14</td>\n      <td>1594</td>\n      <td>lincRNA</td>\n    </tr>\n    <tr>\n      <th>99</th>\n      <td>ENST00000552534.5</td>\n      <td>ENSG00000257467.5</td>\n      <td>OTTHUMG00000170246.1</td>\n      <td>OTTHUMT00000408172.1</td>\n      <td>PPFIA2-AS1-209</td>\n      <td>PPFIA2-AS1</td>\n      <td>924</td>\n      <td>lincRNA</td>\n    </tr>\n  </tbody>\n</table>\n<p>100 rows × 8 columns</p>\n</div>",
        "text/plain": "                    0                   1                      2  \\\n0   ENST00000623420.1   ENSG00000279927.1   OTTHUMG00000189181.1   \n1   ENST00000628547.2   ENSG00000242086.8  OTTHUMG00000155834.14   \n2   ENST00000411525.1   ENSG00000224429.7   OTTHUMG00000016541.3   \n3   ENST00000427111.4   ENSG00000237248.5   OTTHUMG00000168333.2   \n4   ENST00000551227.1   ENSG00000258028.2   OTTHUMG00000170370.2   \n5   ENST00000423408.5   ENSG00000232453.6   OTTHUMG00000008375.3   \n6   ENST00000576171.1   ENSG00000273172.1   OTTHUMG00000132133.2   \n7   ENST00000422558.1   ENSG00000228262.9   OTTHUMG00000152144.9   \n8   ENST00000624927.3   ENSG00000228794.8   OTTHUMG00000002468.8   \n9   ENST00000640920.1   ENSG00000284428.1   OTTHUMG00000183235.3   \n10  ENST00000438352.1   ENSG00000228669.1   OTTHUMG00000017019.1   \n11  ENST00000538790.1   ENSG00000256546.1   OTTHUMG00000168952.1   \n12  ENST00000422117.1   ENSG00000235731.2   OTTHUMG00000056663.3   \n13  ENST00000614137.1   ENSG00000278254.4   OTTHUMG00000189027.1   \n14  ENST00000416774.1   ENSG00000223823.1   OTTHUMG00000000827.1   \n15  ENST00000527317.2   ENSG00000255087.3   OTTHUMG00000165810.3   \n16  ENST00000634642.1   ENSG00000229425.2   OTTHUMG00000074333.3   \n17  ENST00000618460.1   ENSG00000273565.1   OTTHUMG00000186997.1   \n18  ENST00000568836.1   ENSG00000259967.1   OTTHUMG00000176729.1   \n19  ENST00000512873.1   ENSG00000249699.1   OTTHUMG00000161689.1   \n20  ENST00000611627.1   ENSG00000276417.1   OTTHUMG00000187118.1   \n21  ENST00000641327.1   ENSG00000262454.3   OTTHUMG00000177423.4   \n22  ENST00000650020.1   ENSG00000258791.8   OTTHUMG00000171059.6   \n23  ENST00000438026.1   ENSG00000224610.1   OTTHUMG00000024094.1   \n24  ENST00000437330.1   ENSG00000229203.1   OTTHUMG00000153714.1   \n25  ENST00000451348.1   ENSG00000227509.1   OTTHUMG00000156714.1   \n26  ENST00000562480.1   ENSG00000259870.1   OTTHUMG00000172742.2   \n27  ENST00000607309.1   ENSG00000232636.2   OTTHUMG00000017165.2   \n28  ENST00000400477.7  ENSG00000198054.12   OTTHUMG00000090610.2   \n29  ENST00000650502.1   ENSG00000262468.6   OTTHUMG00000177618.3   \n..                ...                 ...                    ...   \n70  ENST00000636550.1   ENSG00000253688.2   OTTHUMG00000164199.2   \n71  ENST00000635515.1   ENSG00000237352.3   OTTHUMG00000008373.4   \n72  ENST00000530228.1   ENSG00000254813.5   OTTHUMG00000165476.1   \n73  ENST00000445738.5   ENSG00000233694.5   OTTHUMG00000152679.1   \n74  ENST00000566567.1   ENSG00000260193.1   OTTHUMG00000175806.1   \n75  ENST00000457339.5   ENSG00000231023.6   OTTHUMG00000015597.2   \n76  ENST00000542479.1   ENSG00000255666.6   OTTHUMG00000167810.3   \n77  ENST00000607836.1   ENSG00000226266.6   OTTHUMG00000154081.2   \n78  ENST00000440785.1   ENSG00000232451.1   OTTHUMG00000151813.2   \n79  ENST00000413339.1   ENSG00000230573.1   OTTHUMG00000017568.1   \n80  ENST00000431997.2   ENSG00000223765.2   OTTHUMG00000015005.2   \n81  ENST00000563844.1   ENSG00000249231.7   OTTHUMG00000173223.2   \n82  ENST00000519898.5   ENSG00000249669.9   OTTHUMG00000163464.9   \n83  ENST00000606054.1   ENSG00000272523.1   OTTHUMG00000185544.1   \n84  ENST00000606343.1   ENSG00000272068.1   OTTHUMG00000185553.1   \n85  ENST00000648520.1   ENSG00000227036.7  OTTHUMG00000132227.13   \n86  ENST00000509669.1   ENSG00000249797.1   OTTHUMG00000162888.1   \n87  ENST00000651481.1   ENSG00000272168.7   OTTHUMG00000014345.8   \n88  ENST00000435946.1   ENSG00000223786.1   OTTHUMG00000015043.1   \n89  ENST00000367355.5   ENSG00000203721.6   OTTHUMG00000035722.3   \n90  ENST00000565564.1   ENSG00000259981.1   OTTHUMG00000172753.1   \n91  ENST00000546615.1   ENSG00000257647.1   OTTHUMG00000170275.1   \n92  ENST00000431729.1   ENSG00000227925.1   OTTHUMG00000037268.1   \n93  ENST00000521257.1   ENSG00000253665.1   OTTHUMG00000164044.1   \n94  ENST00000512794.1   ENSG00000249519.1   OTTHUMG00000161115.1   \n95  ENST00000413403.1   ENSG00000238277.1   OTTHUMG00000153414.1   \n96  ENST00000417838.1   ENSG00000230205.1   OTTHUMG00000015771.1   \n97  ENST00000431307.1   ENSG00000226251.5   OTTHUMG00000037132.1   \n98  ENST00000609975.1   ENSG00000272913.1   OTTHUMG00000186024.1   \n99  ENST00000552534.5   ENSG00000257467.5   OTTHUMG00000170246.1   \n\n                       3                4            5     6        7  \n0   OTTHUMT00000479003.1     Z95114.4-201     Z95114.4  3578  lincRNA  \n1   OTTHUMT00000481409.1    MUC20-OT1-308    MUC20-OT1   882  lincRNA  \n2   OTTHUMT00000044126.1    LINC00539-201    LINC00539   664  lincRNA  \n3   OTTHUMT00000500908.1    LINC00987-201    LINC00987  2472  lincRNA  \n4   OTTHUMT00000408712.1   AL135878.1-201   AL135878.1   741  lincRNA  \n5   OTTHUMT00000023040.1   AC105277.1-201   AC105277.1  1211  lincRNA  \n6   OTTHUMT00000255178.2    LINC02091-201    LINC02091  1185  lincRNA  \n7   OTTHUMT00000325415.1    LINC01320-202    LINC01320   567  lincRNA  \n8   OTTHUMT00000479121.1    LINC01128-215    LINC01128   677  lincRNA  \n9   OTTHUMT00000465759.2   AC092329.4-209   AC092329.4   924  lincRNA  \n10  OTTHUMT00000045192.1    LINC00448-201    LINC00448   402  lincRNA  \n11  OTTHUMT00000401714.1   AC156455.1-201   AC156455.1   851  lincRNA  \n12  OTTHUMT00000126738.2    LINC02250-201    LINC02250  2491  lincRNA  \n13  OTTHUMT00000478448.1   AC004852.2-204   AC004852.2  1370  lincRNA  \n14  OTTHUMT00000002221.1    LINC01342-201    LINC01342  1620  lincRNA  \n15  OTTHUMT00000386316.2   AP001993.1-203   AP001993.1  2337  lincRNA  \n16  OTTHUMT00000488669.1   AJ009632.2-201   AJ009632.2  1047  lincRNA  \n17  OTTHUMT00000474221.1   AL691403.2-201   AL691403.2   490  lincRNA  \n18  OTTHUMT00000433316.1   AC087761.1-201   AC087761.1   556  lincRNA  \n19  OTTHUMT00000365728.1    LINC02261-201    LINC02261  2802  lincRNA  \n20  OTTHUMT00000474448.1   AC092111.2-201   AC092111.2  1414  lincRNA  \n21  OTTHUMT00000493285.1    MIR193BHG-210    MIR193BHG   515  lincRNA  \n22  OTTHUMT00000498487.1    LINC00520-211    LINC00520   405  lincRNA  \n23  OTTHUMT00000060658.1   AC108879.1-201   AC108879.1   828  lincRNA  \n24  OTTHUMT00000332207.1   AC103564.1-201   AC103564.1   562  lincRNA  \n25  OTTHUMT00000345423.1    LINC01839-201    LINC01839   727  lincRNA  \n26  OTTHUMT00000420344.2   AC024651.2-201   AC024651.2  2098  lincRNA  \n27  OTTHUMT00000045412.2   AL360267.1-201   AL360267.1   666  lincRNA  \n28  OTTHUMT00000207194.1        DSCR8-202        DSCR8   534  lincRNA  \n29  OTTHUMT00000497868.1    LINC01569-208    LINC01569  1243  lincRNA  \n..                   ...              ...          ...   ...      ...  \n70  OTTHUMT00000490503.1   AC026904.2-201   AC026904.2  1530  lincRNA  \n71  OTTHUMT00000488698.1    LINC01358-210    LINC01358  1519  lincRNA  \n72  OTTHUMT00000384373.1   AC123777.1-202   AC123777.1   762  lincRNA  \n73  OTTHUMT00000327323.1    LINC02579-202    LINC02579  1386  lincRNA  \n74  OTTHUMT00000431112.1   AL138781.1-201   AL138781.1  1274  lincRNA  \n75  OTTHUMT00000317882.1    LINC00326-202    LINC00326  2515  lincRNA  \n76  OTTHUMT00000396385.1   AP000943.2-205   AP000943.2   532  lincRNA  \n77  OTTHUMT00000470763.1   AC009961.1-203   AC009961.1  2520  lincRNA  \n78  OTTHUMT00000324297.1   AC018467.1-203   AC018467.1   506  lincRNA  \n79  OTTHUMT00000046501.1    LINC02639-201    LINC02639   536  lincRNA  \n80  OTTHUMT00000041164.2    LINC01626-201    LINC01626   452  lincRNA  \n81  OTTHUMT00000422539.1       CASC16-202       CASC16   610  lincRNA  \n82  OTTHUMT00000381677.2        CARMN-206        CARMN  1197  lincRNA  \n83  OTTHUMT00000470689.1    LINC01023-201    LINC01023   436  lincRNA  \n84  OTTHUMT00000470701.1   AL365181.2-201   AL365181.2  3222  lincRNA  \n85  OTTHUMT00000501073.1    LINC00511-240    LINC00511  1888  lincRNA  \n86  OTTHUMT00000370951.1    LINC02147-202    LINC02147   637  lincRNA  \n87  OTTHUMT00000502159.1       CASC15-215       CASC15   732  lincRNA  \n88  OTTHUMT00000041234.1   AL357507.1-201   AL357507.1   669  lincRNA  \n89  OTTHUMT00000086877.1    LINC00862-201    LINC00862  1417  lincRNA  \n90  OTTHUMT00000420368.1   AF096876.1-201   AF096876.1   444  lincRNA  \n91  OTTHUMT00000408285.1   AC124312.2-201   AC124312.2   427  lincRNA  \n92  OTTHUMT00000090715.1    LINC01655-201    LINC01655   423  lincRNA  \n93  OTTHUMT00000376942.1   AC022733.1-201   AC022733.1   739  lincRNA  \n94  OTTHUMT00000363852.1    LINC01438-201    LINC01438   556  lincRNA  \n95  OTTHUMT00000331082.1   AC068483.1-201   AC068483.1   660  lincRNA  \n96  OTTHUMT00000042617.1   AL359382.1-201   AL359382.1   426  lincRNA  \n97  OTTHUMT00000090181.1    LINC02608-202    LINC02608   362  lincRNA  \n98  OTTHUMT00000472064.1  AC009237.14-201  AC009237.14  1594  lincRNA  \n99  OTTHUMT00000408172.1   PPFIA2-AS1-209   PPFIA2-AS1   924  lincRNA  \n\n[100 rows x 8 columns]"
       },
       "execution_count": 15,
       "metadata": {},
       "output_type": "execute_result"
      }
     ],
     "persistentId": "a520f97f-5218-4633-a612-5e28366d4229",
     "text": "pd.DataFrame(lincRNA_metadata_lines)"
    },
    "executionTime": "2019-09-05T13:48:20.359Z"
   },
   {
    "cell": {
     "executionCount": 16,
     "executionEventId": "103e3066-d867-4a7b-8bf9-b3296c1e4881",
     "hasError": false,
     "id": "b1d96436-5fdb-4268-9813-0fae940bb428",
     "outputs": [
      {
       "name": "stdout",
       "output_type": "stream",
       "text": "(100, 8)\n"
      },
      {
       "data": {
        "text/html": "<div>\n<style scoped>\n    .dataframe tbody tr th:only-of-type {\n        vertical-align: middle;\n    }\n\n    .dataframe tbody tr th {\n        vertical-align: top;\n    }\n\n    .dataframe thead th {\n        text-align: right;\n    }\n</style>\n<table border=\"1\" class=\"dataframe\">\n  <thead>\n    <tr style=\"text-align: right;\">\n      <th></th>\n      <th>0</th>\n      <th>1</th>\n      <th>2</th>\n      <th>3</th>\n      <th>4</th>\n      <th>5</th>\n      <th>6</th>\n      <th>7</th>\n    </tr>\n  </thead>\n  <tbody>\n    <tr>\n      <th>0</th>\n      <td>ENST00000623420.1</td>\n      <td>ENSG00000279927.1</td>\n      <td>OTTHUMG00000189181.1</td>\n      <td>OTTHUMT00000479003.1</td>\n      <td>Z95114.4-201</td>\n      <td>Z95114.4</td>\n      <td>3578</td>\n      <td>lincRNA</td>\n    </tr>\n    <tr>\n      <th>1</th>\n      <td>ENST00000628547.2</td>\n      <td>ENSG00000242086.8</td>\n      <td>OTTHUMG00000155834.14</td>\n      <td>OTTHUMT00000481409.1</td>\n      <td>MUC20-OT1-308</td>\n      <td>MUC20-OT1</td>\n      <td>882</td>\n      <td>lincRNA</td>\n    </tr>\n    <tr>\n      <th>2</th>\n      <td>ENST00000411525.1</td>\n      <td>ENSG00000224429.7</td>\n      <td>OTTHUMG00000016541.3</td>\n      <td>OTTHUMT00000044126.1</td>\n      <td>LINC00539-201</td>\n      <td>LINC00539</td>\n      <td>664</td>\n      <td>lincRNA</td>\n    </tr>\n    <tr>\n      <th>3</th>\n      <td>ENST00000427111.4</td>\n      <td>ENSG00000237248.5</td>\n      <td>OTTHUMG00000168333.2</td>\n      <td>OTTHUMT00000500908.1</td>\n      <td>LINC00987-201</td>\n      <td>LINC00987</td>\n      <td>2472</td>\n      <td>lincRNA</td>\n    </tr>\n    <tr>\n      <th>4</th>\n      <td>ENST00000551227.1</td>\n      <td>ENSG00000258028.2</td>\n      <td>OTTHUMG00000170370.2</td>\n      <td>OTTHUMT00000408712.1</td>\n      <td>AL135878.1-201</td>\n      <td>AL135878.1</td>\n      <td>741</td>\n      <td>lincRNA</td>\n    </tr>\n  </tbody>\n</table>\n</div>",
        "text/plain": "                   0                  1                      2  \\\n0  ENST00000623420.1  ENSG00000279927.1   OTTHUMG00000189181.1   \n1  ENST00000628547.2  ENSG00000242086.8  OTTHUMG00000155834.14   \n2  ENST00000411525.1  ENSG00000224429.7   OTTHUMG00000016541.3   \n3  ENST00000427111.4  ENSG00000237248.5   OTTHUMG00000168333.2   \n4  ENST00000551227.1  ENSG00000258028.2   OTTHUMG00000170370.2   \n\n                      3               4           5     6        7  \n0  OTTHUMT00000479003.1    Z95114.4-201    Z95114.4  3578  lincRNA  \n1  OTTHUMT00000481409.1   MUC20-OT1-308   MUC20-OT1   882  lincRNA  \n2  OTTHUMT00000044126.1   LINC00539-201   LINC00539   664  lincRNA  \n3  OTTHUMT00000500908.1   LINC00987-201   LINC00987  2472  lincRNA  \n4  OTTHUMT00000408712.1  AL135878.1-201  AL135878.1   741  lincRNA  "
       },
       "execution_count": 16,
       "metadata": {},
       "output_type": "execute_result"
      }
     ],
     "persistentId": "a520f97f-5218-4633-a612-5e28366d4229",
     "text": "lncrna_df = pd.DataFrame(lincRNA_metadata_lines)\nprint(lncrna_df.shape)\nlncrna_df.head()"
    },
    "executionTime": "2019-09-05T13:48:41.214Z"
   },
   {
    "cell": {
     "executionCount": 17,
     "executionEventId": "132ee715-3c64-4e14-b4aa-eb2a424550c1",
     "hasError": false,
     "id": "b1903c3c-819e-4df4-8384-cb5639c2fd05",
     "outputs": [
      {
       "name": "stdout",
       "output_type": "stream",
       "text": "(100, 8)\n"
      },
      {
       "data": {
        "text/html": "<div>\n<style scoped>\n    .dataframe tbody tr th:only-of-type {\n        vertical-align: middle;\n    }\n\n    .dataframe tbody tr th {\n        vertical-align: top;\n    }\n\n    .dataframe thead th {\n        text-align: right;\n    }\n</style>\n<table border=\"1\" class=\"dataframe\">\n  <thead>\n    <tr style=\"text-align: right;\">\n      <th></th>\n      <th>0</th>\n      <th>1</th>\n      <th>2</th>\n      <th>3</th>\n      <th>4</th>\n      <th>5</th>\n      <th>6</th>\n      <th>7</th>\n    </tr>\n  </thead>\n  <tbody>\n    <tr>\n      <th>0</th>\n      <td>ENST00000525764.5</td>\n      <td>ENSG00000149150.9</td>\n      <td>OTTHUMG00000167030.4</td>\n      <td>OTTHUMT00000392591.2</td>\n      <td>SLC43A1-203</td>\n      <td>SLC43A1</td>\n      <td>556</td>\n      <td>protein_coding</td>\n    </tr>\n    <tr>\n      <th>1</th>\n      <td>ENST00000576452.5</td>\n      <td>ENSG00000108523.15</td>\n      <td>OTTHUMG00000099397.5</td>\n      <td>OTTHUMT00000438729.1</td>\n      <td>RNF167-215</td>\n      <td>RNF167</td>\n      <td>589</td>\n      <td>protein_coding</td>\n    </tr>\n    <tr>\n      <th>2</th>\n      <td>ENST00000307377.12</td>\n      <td>ENSG00000170266.16</td>\n      <td>OTTHUMG00000155781.8</td>\n      <td>OTTHUMT00000341571.1</td>\n      <td>GLB1-202</td>\n      <td>GLB1</td>\n      <td>2018</td>\n      <td>protein_coding</td>\n    </tr>\n    <tr>\n      <th>3</th>\n      <td>ENST00000649592.1</td>\n      <td>ENSG00000114861.20</td>\n      <td>OTTHUMG00000158803.17</td>\n      <td>OTTHUMT00000497729.1</td>\n      <td>FOXP1-260</td>\n      <td>FOXP1</td>\n      <td>1975</td>\n      <td>protein_coding</td>\n    </tr>\n    <tr>\n      <th>4</th>\n      <td>ENST00000454061.5</td>\n      <td>ENSG00000214413.8</td>\n      <td>OTTHUMG00000019046.6</td>\n      <td>OTTHUMT00000050350.2</td>\n      <td>BBIP1-208</td>\n      <td>BBIP1</td>\n      <td>812</td>\n      <td>protein_coding</td>\n    </tr>\n  </tbody>\n</table>\n</div>",
        "text/plain": "                    0                   1                      2  \\\n0   ENST00000525764.5   ENSG00000149150.9   OTTHUMG00000167030.4   \n1   ENST00000576452.5  ENSG00000108523.15   OTTHUMG00000099397.5   \n2  ENST00000307377.12  ENSG00000170266.16   OTTHUMG00000155781.8   \n3   ENST00000649592.1  ENSG00000114861.20  OTTHUMG00000158803.17   \n4   ENST00000454061.5   ENSG00000214413.8   OTTHUMG00000019046.6   \n\n                      3            4        5     6               7  \n0  OTTHUMT00000392591.2  SLC43A1-203  SLC43A1   556  protein_coding  \n1  OTTHUMT00000438729.1   RNF167-215   RNF167   589  protein_coding  \n2  OTTHUMT00000341571.1     GLB1-202     GLB1  2018  protein_coding  \n3  OTTHUMT00000497729.1    FOXP1-260    FOXP1  1975  protein_coding  \n4  OTTHUMT00000050350.2    BBIP1-208    BBIP1   812  protein_coding  "
       },
       "execution_count": 17,
       "metadata": {},
       "output_type": "execute_result"
      }
     ],
     "persistentId": "de7d6948-c834-435f-8805-0ede4025e443",
     "text": "protein_coding_df = pd.DataFrame(protein_coding_metadata_lines)\nprint(protein_coding_df.shape)\nprotein_coding_df.head()"
    },
    "executionTime": "2019-09-05T13:49:03.641Z"
   },
   {
    "cell": {
     "executionCount": 18,
     "executionEventId": "7abb727c-6e14-4afe-8cc0-50d9a22fd49e",
     "hasError": false,
     "id": "982e9287-dd13-4d67-b6ca-6ba9f56e9caa",
     "outputs": [],
     "persistentId": "58dee61b-27de-4664-af4c-afd27a03a50f",
     "text": "n_desired_records = 100\n\nrandom.seed(0)\n\nlincRNA = []\nprotein_coding = []\n\nlincRNA_metadata_lines = []\nprotein_coding_metadata_lines = []\n\nrecords = list(SeqIO.parse(f\"{GENCODE_FOLDER}/human/v30/gencode.v30.transcripts.fa\", 'fasta'))\n\n# Shuffles in-place and returns none\nrandom.shuffle(records)\n\nfor record in records:\n    metadata = record.name.strip('|').split(\"|\")\n    if metadata[-1] == 'protein_coding':\n        if len(protein_coding) < n_desired_records:\n            protein_coding.append((metadata[0].split(\".\")[0], str(record.seq)))\n            protein_coding_metadata_lines.append(metadata)\n    elif metadata[-1] == 'lincRNA':\n        if len(lincRNA) < n_desired_records:\n            lincRNA.append((metadata[0].split(\".\")[0], str(record.seq)))\n            lincRNA_metadata_lines.append(metadata)\n    if len(lincRNA) >= n_desired_records and len(protein_coding) >= n_desired_records:\n        break\n# del records"
    },
    "executionTime": "2019-09-05T13:49:54.845Z"
   },
   {
    "cell": {
     "executionCount": 19,
     "executionEventId": "7a88680f-c1ad-40c8-8aec-521e8b533e0f",
     "hasError": false,
     "id": "a3ddbc88-b397-4a67-b8bf-65a461536b77",
     "outputs": [
      {
       "data": {
        "text/plain": "[('ENST00000623420',\n  'GCCCTGCCAGCCACTGTTCTAAGCACTTTTTCCCTGTTCCTGCCGATTTGCTCCTCACAACAACCATAGGAAGTGGAGACTATGATTATCCCCGTTGCACAGTAAGGAAACTGAGGCAAAAGGCGGTTAGGTAACTTGGCGATGTCTCCCGGCTAGGGATAGCAGAATGGGATAGAAACGCAGGCCACGCGGTCTGGAGCGGTGGCTCACGCCTTTAATCCCAGTACTTAGGGAGGCCGAGGCGGGCGGGTTACCTGGGGTCAGGAGTTCGAGACCAGCCTGGCCAACATGGTGAAACCCTATCTCTACTAAAAATACAAAAATTAGTCGGGGTGGGCACCTGTAATCCCAGCTACTCGAGGCTGAGGCAAAAGAATCGCTTGAACCCAGGAGGCAGAGGTGGCAGTGAGCCGAGATCACCCCACTGCACTTCAGCCTGGGTGGCAGAACAAGACTCTGTCTCAAAAAAAAAAAAAAGAATAAAAAAAAGAAAGGCAGGCCACCCGGTGGTGGTCCCTGTGCTCCTCCCCACCCACCCCCGCACTGTGCTGGGCGGTGAGGAGGCGGCTGGCCCAGGAGGTGGGGGTGTGGAGTGGGGCACATCAGAGATTTCAAATTGACCAAGGTCTGTTTTGTGTCAGTTTGTCAGTTTTATGTGTCAGCTTGGCTAAACTATGGTCTCCTGTTATTTGATCAAACACTAATCTATTTTTTCTTTTAGTTTAAAAAATAATAATTAAATGAAAAAATCCTGGCTAATGTTTTTTTTTTTGTAGAGACAGGGTTTTGCCTTGTTGCCCAGGCTGGCCTCTGACCCTTGGGCTCAAGTGATCTGCCACCATGCCTAGCCTCAAACACTAATCTAGATGTTGCTTGAAGGCATTTTGTAGATGTGATTTGTCTATAATTAGTTTACTTCAAGTAAGGGAGATTATCCCAGATAATCTGGGTGAGTCTGAAAGACTTTATGGGTAGAACTGAGGTGCCCTTGAAGAGGAAGAAATTCTGCCAGCCAATAGCAATTTCAGCTTGTGCTGAAGAGTTCCAGCCTTCCTAACAACCAGCCCTACAAATTTCGGACTTGCCTAGCCAGCCCTGTGTGTATAAACCAATTCCTTGCAATAATCACACCTACACCCTCACCCCACCCCCCTCCCCAAATACATGTATATATGGAGAGAGAGGGAGAGAGAATATAAAATCATACATATATCATATATCTCCTATTTGTTCTGTGTCTTTAATTTCTCTAGTTGACCCCTGACTGATGCAATGACCCAAGAGCAGGCAGATGCCCGGGGGGCGTTTATGATACCTCTCCTAGGACTTGGCTCAATCTGAGTCCCTCAACGGCCATCTGCAACCCTGAGGAGGGTAGGAAAATCCCAAATTGACTGAGATTACATTTCCATCATCAACAGCAATGGAGAATCAATAAAGAAATTTAGTTCAGATATTGAAAAATGAAGAGGGCTGGGTGCAGTGGCTCACGCCTGTAATCCCAGCACTTTGGGAGGCCGAGGCGGGTGGATCACCTGAGGTCGGGAGTTCGAGACCGGCCTGGCCAACATGGTGAAAACTCATCTTTACTAAAAATACAAAAATTAGTTCTGGTGGGTGCCTGTAATCCCAGCTACTCGGGAGGCTGAGGCAGGAGAATTGTTTGAACCCATTAGGCAGAGGTGGCAGTGAGCCGAGATCACCCCATTGCACTTCAGCCTGGGTGACAGAACAAGACTCCGTCTCAAGGAAAAGAAAAAAAAAAGAAGAAAGTCACAGTTTTTGCACTATCAAGTTTATGTGCTAAGATTCATACCTCATTTTAACAGCCTACATCTACTTCTGCGTGGACCAGAAGGACAGAGCCACAATAACACTGACCAAACCATAGTAATAGCACAATCGTTGCTACAAAACATTTGCAAATAATCAGATAATATATCTGATTAGGGCCTTGTATCCAGAATATATAAAGAGCTCTTATTGCAACAACAAGTAGAAAACAGATCAATTTAAAAATGGGCAAAGGTAGGCCAGGCACAGTGGCTCACACCTATAATCCCAGCACTTAGGGAGGCCGAGGCGGGTGGATCACCTGAGGTCAGGAGTTTGAGACCAGCCTGGCCAACATGGCGAAACTCCGTCTCTACTAAAAGTACAAAATTGAGCCGGACGTGGTGGTGAGAGTCTGTAATCCCAGCTACTTGGGAGGCTGAGGCAGGAGAATCGCTTGAACCCAGGAGATGGAGGTTGCAGTGAGCTGAGATCTCGCCATTGCACTCCAGCCTGGGCGACAAGAGTGAGACTCTGTCTCAAAATAAAAAATAAAATAAAATAGGCAAAGGACTTGAATATCCAAAGAAGATAAACAAATGGCCAATAAGCAAACAATACTTTCAAGCACAAAAGATGCTCGACATAATTAGTCATCAAGGAAAAGGCAAATCAGAACCACACGGGACTCACTTCACATCCACCAGGATGACTATAGTCCTTACAGTAAGAGAATAGCAGATGGCAGGTATTGTGCTTTACTTGTATTAAGTAACTTAATCCTCACAGTAGCCTCGTGAAGGAGGGATGGCTATTAGCTCATTTACAAAAGAGGAACTGAGGCCTGGAAAGGTGAAATGATTGCCCCAGTGTTCCACGGCTGGTCAGTGGGTGTCAGAATTTAAGACCTGGGCTGTCTGCTTCCAAAGCTGTGCTATCCAGCTTTAATGACTGTGCTATACTGGTCTCTAGCAAAATTATTGAAAATTTCCCTCTCAGACCCACCATTTACCTTTATTGCTCCCAGAGACCCTCACATGTGCTCCTTAGCTACCAAAAACAGACTTCTTCTTTCTCCTGGCATTTGTCCCATGTCCTTTGGTCAGTCCAGAACTCACTAGGAGGCTCCCAGACGCTGTGTCCGTGTTTCTCCTCCAGACCGACGATGCTGCCTGTGTCACTGCCTCAGGGCCATGTCACTGCTGCTGCCCCACTGGACTCCCACGGTCCTAGCCACCAGCCACTCCCCTCCTTCTTCCTGGCTAGCAAGGTTTACTGACTACCATAGAGGCGGAAAATGCCAGATGCTCGGTTTCCCAGGTTCCCTTTACAGTTACAGGTGACCATGTGACCGTGTTCTGGTCAATGACATATAAGGAGAGTCTTCTGAGAAAGATTTTCTCTCCTGGCCAGAATAGAGAGAGAGGGTGAGGTAGATGGAAAGAGCGGGAAGCTGGGCGCAGTGGTTCACACCTGTAATCCCAACACTTTGGGAGGCCAAGGCAGGTGGATCACCTGAGGTCAGGAGTTCGAGACCAGCCTGGCCACATGATGAAACCTTGTCTCTACTAAAAATACAAAAATTAGCTGGGTGTGGTGGTGTGGGCCTGTAATCCCAGCTATTTGGGAGGCTGAGGCACGTGAATCACTTGAACCCAGGAGGCGGAGATTGCAGTGTGCTGATCATGCCACTGCACTCCAGCCTGGGCAACAGAGTGAGACTCCGCCTCAAAACACACACACACACACACACACACACACACACACACACACACACACAAAACAGTGGGAGAGAGAGTAAGAGT'),\n ('ENST00000628547',\n  'CTGGCAGGAGCAGATTCCAAAGGCACAGGAAGAAGCTTGCAGTACAAAGATAAAAATCTAAAGTGGTTGCTGTGGAGGACAGGGGTCAGTGGTGGAAGTGAGACCGAAATAGACTCTGAAGTAATATCTGGACTTTGAAATTGTTGCCTGTTCACTCTGCCTGGTCATATGCAGAAAACCGAAACTAGACCCCTTGCTGACACTTATACAAAAATTAACTCAAGATGCATTAAAGATTTAAACGTGAGACCTAAAACCAGAAAAATCCTAGAAGAAAACCTAGGCAACACCATTGAGGACGTAAGCATGGGCAAAGACTTCATGACTAAAACACCAAAAGAAATGGCAACAAAAGCCAAAATTGACAAAAGGTTTCCTTAATGACAACAAAAAAGGGAGTAATCCTACCCACTGTAAGAGTCATGACTCTTGATTGCAGCTGACAGAAACTCATGACAGCCTGCTTTAGATGAAGGGGGAGAGAAGGACTGGAAGAATCTTGGAGTTGGGAATGTCACACGCAGCTGCTCCCAACCCCAGAACCTTTGCTGTCTTGGGACGGATCACCGCTGCAAGAGGGGAAGTTGCTACTGTGATGAATTCTGCCATGTGGCACCAGACTGCCACCCAGACCACAGTGTCCTCTGCAACCCTGGTAACTCACATACAGGCCCGATTCCACCTACAGCAAAGCTGGATGCGATGGCTGGCAGAGGCAAACCCTTTGCCTGCACTTCAGGCCAAAGCCGGGATGTGGCCTAGATGGTTCCTAAGGTCCCTGACAATCCTGAGATCTTGCATCTTGTCTATTTCAGGTCAAAGCTTCTCAGATGACCAAGATGGTGCTGCAGATGGTGCTGAGGATGGAGAACCCACCAAGCC'),\n ('ENST00000411525',\n  'TCATCCTGTCCTCACAATGGCTGGTGTGGAGACCCACAGACTTCATCCTTAGGACGGACCTTCAGGCACCCAGGCTGCCTACTGACCTCCCTGGCATGGGTGGGAACCGGGAGCTCGTTGGTAAGCAGGAGGATTCAGGACTATCGACTGAACCCCACCTCCTCTGTGGCACGCACCGTGCTGTGTCTTTGCAGTCATCATCTCATCACCTCTGCACAGGAAGATTATCTCCCCCATTTTGTGATGAGGAAATGGAGGCTCCAGGTGGAAAGATGCAACCTGGGCCAGAGGCCCCTGGAGGTTGTGCCTGAACCCAGACAGATCACACAAACCTGAGCAGCCATTAGCCGCTGTGTGGGCTCCTTTGCACTGTGGGGCTGCTCCTGGGGATATTTACGTTGTGAACTGGTAAAATCTGAACTGCAGAATATCAATTTCCAGACATTCTTCCTAGATGATGCCGTCTGCCACGGGTCCCTTCCTCTCTCCAGCTGTCTGGAATGGAGCTACCATGTCTGGTGCCCAAGCAGCCAGCTCTGACCCAGAGTTAACATATTATGGATTGTGGAGCCACAGGATGGAGTAGCCTGGGTCTGATGGTTCTGTTAGTCAAGGCTAGTCAAAGAAGCAGGACCAACAGGAAATACATATGTTTATGTATGTA'),\n ('ENST00000427111',\n  'TTTTTTGCCGTCTGGTCATCCTCGTCGGTCTTCTGCTTCTGGGTATCGACATCGTTATCCTCATCATCTTCAGCTGCCCGCTTGCCCGTAGCTGACTCAGCTCCCTCATCTTCATCTCCATCCTCTTCCTCACCATCACCTTCTTCCTCCCCACCTTCTTCCTCTTCTTCATCTACCTCGTTGTCAGCCTCCGGCTCCCCATTTTCCTCATTAGCATTCCCGTGAGCAGGGGCGTCTCTTCCATTTTCCGCCTCTTCCACAACTTCCTTCTTCTCCTTTAAGTCCTCGGTGGTGATTTCGGAGCTGGTGTCTACGGCTGCGTCTGACATGGTGGGGCACGCCGGTGACGCGATGCAGGGGATAAAAAAGAAAGCGACAGTTCAGGGACTCTGGCGATAAAGCTGCCGGAGTCCGCGGCGGCGGAGGCGGCTGCGGCGAGCAAGGAGGCTGACGACGCACAATGCAAAGACGGCTTTTCAGAGCAGCCAGTGGGGCAGGACAATGTTTTTCATCAAATGTCCTTAGATTTGGAGGAGGTTTCCCCAGTGTATCCAGTGGTTGTCTTCCTCTTGATTAATATTAAAGGAGGAGAAAAAGTGTGTATTGGGGTCAGTGCAGAAAACAAATCATCCAAGCACACGAAGTGGAATTTGCTAATAGCATTACTACTCACCCAGTGACTTCGGAGTCACAACCCAGGACACGGTTTTCCGCCCATTTCTACAGACACAGTGAGATTCTTCATTCTTCTCTGTTGGAACAGCCAGGAAAGCGGAAGAGACCTCCAGCTGCACAACGACCTGTCCCCCACACCCAACCACAAGTTTATGAAGGGATGCAGAACAGCATGAATACTGCAAAAGATGCTCTGTGCATCAGGTAAATGGACTGAGGGACAATGTCCATGAGTCCAGAGGCGCTGAGAAGCTGTGCAAATATGGTCAGCTCTATCAGACACTTTGTAGTTTAGGTGTTTGAAACAAGAAAATTGAAAAACTGACAGGAATTAGGATAAGTGTTTAGGATTTAGCCTTGTGCCAACAGAAGAAAGAGGTGTTTAGTGAAAAACATGAAACAATCAGGTGGACATAATGTCTGAATTTAGGAATACACAGATATAGGAGCCTGAATGAATATAACCTTACCACCTTGGGCCTGTCAGGTACCTTTTCTCTTAGTACCAGGTCTGCTCCAAAATTAGGATATATCATATGCAGTTCTGATTTCCTGGGTTACCTAGGAGACCTGGTAATGAATGGTGACTATCTTCTATTCTCATTCACTTCCAGAGAAGTGTCCTTACCCGAATGCAGGTGGACAAGCAGTTAAACACAGTGGCTTTGAGTGTGAAGGCTTCTCCTCGCACCACAGAATAAGGAAGGGTGAGTTCTAGGAAGAAAGGCTGGAAGGCTTGAAGAGACACGATAGGAGAGAGGCCAAACCCTGTGGTTCCAGACAAGCAGAATGCGCTGGCCTTCCACTCTGTGATGGTTTCAGGGACCTGGTCACCAGCTCACTTATACCTAATGAGCTAGTGAAGGAGCAGAGAAGAGGAGTATAAGCAAATCTTTTTTTTTTTTTTTTAACACAAAGCATGGCTGATCCTAGAACATGATAACTCAGTAACCTAGTGTGGTAAATGCTAAACTTGATCTAAGGGTTGGTGCTCCTGGTGAGGTTTAAAGTTTTTTTTCTCCCTACCTCCCTTACTCCCTCCTTCCCTCCCTCCCTTTATTTCTTCCTCTTTTCTTTCATTCTTTCCTTCCTTTTGTTCTTTCTTTCAATCTCCCTCCCCTCCCCTTCCCTTTCCTTTATTTAAGAGGGCTGGTAGCATCCTACTTTCTATTATCTTAGTTATCAATAGACTAAATTAGAAAAAAAATTAGCATTGTTTAATTATGAGATAAATGAACTATAAACCTAAATATTTACCAGAAAAGAGCAGAGCAGAACTAAAAGGATCAGGAATCCAGGATAACATCAGTCATACAGCAGGATTCAAACCCTCTCCTAAACTAAATTCCAGGCAACACACAACTTACTCAACTACCACCAAATCCCAGATCCAGGTCTCAGGGAAGTACTTCCGGACTATCTCTTTCACTTGCAATATCTGAGGTTCTTCTTCGATCATTGGGTACATTATTTCTACGGCTCCTGGGGGTACACCTCGCAGACCTGGTCCTGGAAGACAACACACAGGCCTCAGTGTGAACCTCATTTTTATCATCAATTTCTTATTGCTGCCTTATTTCTCAAATGGAATAAGGTCATACGCTCAGGGAATGTTTATTATTGGAACAATTTAACCTACCAGCTTGTTATTTTGTTCACTTTCCTATAAAAAGGCTAATCCTATTTTTTCTTCAAATAGAATCTAGAGCTAAATATATTTTTCTTTATAAATAAAAACAAATGACCTGTACATGTACCTCCTGAATCTAAAATAAAAGTTGATTAAAAAAAAACAAA'),\n ('ENST00000551227',\n  'GGTTTGTCACAGATACACTAATCATATAAATGTAACTCATACATTTACAAGGCTATACATCACACTGCAGACTGAAATCTAAATTTAAAGAAATAAACTGGAGCTTGGGGATTCTGCTTTTGCATCTTCCTCGTTTTCTCTTGCCGCTGCCAAGTAAGAAGTGCCTTTCACCTCACACCATGTTTCTGAGGCCTCCCCAGCCATGTGGAACTGCAAGTCCAGTTAAACCTCTTTTTCTTCTCAGGTTCCAAAATTATTTTAGGCATGGGATCAAAGAAGAAACTTCTTTGTAGCAGCATCCCAGTACTAGGACTTTTTGTCTCTGCATGGAAATCTGAATATATTTATATGTTGGAGTGACATCTCTACAGGAAGCCTAGAGACCTAACTGTTTGCTACATGTCACCAAAGTTAAAGTGGCTACCTTAATGAGCAGCCAGGATGCCATCATCTCCGACCTGAATGACAATAACCTCCAAACCAGCCTTTGTATACTCCTTCCTGCTGCTCTGCAGTCCACTTCCACAGACCAGCCAACTGAATCTCCTTATAGATTCATAATGGCCATCAGCACAAAGATGTTTTATCTGCAGTCAACCAGTCATGTTTCATGATGGCATCAAAATGTGTGCTGGAGTTTGCTGGGGGTCCACTCTAGATCCTGTTTGCCTGAGTATCACCAGCGGACACTGTAGAACAGCAAAGATTGCTGCCTGCTCCTTCCTCTGGAAGCTTCGTCCC')]"
       },
       "execution_count": 19,
       "metadata": {},
       "output_type": "execute_result"
      }
     ],
     "persistentId": "a74c5fe2-756b-4ea6-bf6b-e4ee3459bfbf",
     "text": "lincRNA[:5]"
    },
    "executionTime": "2019-09-05T13:49:55.374Z"
   },
   {
    "cell": {
     "executionCount": 20,
     "executionEventId": "3bac6379-197e-4964-931c-493f8da43984",
     "hasError": false,
     "id": "a3ddbc88-b397-4a67-b8bf-65a461536b77",
     "outputs": [
      {
       "data": {
        "text/plain": "[('ENST00000623420',\n  'GCCCTGCCAGCCACTGTTCTAAGCACTTTTTCCCTGTTCCTGCCGATTTGCTCCTCACAACAACCATAGGAAGTGGAGACTATGATTATCCCCGTTGCACAGTAAGGAAACTGAGGCAAAAGGCGGTTAGGTAACTTGGCGATGTCTCCCGGCTAGGGATAGCAGAATGGGATAGAAACGCAGGCCACGCGGTCTGGAGCGGTGGCTCACGCCTTTAATCCCAGTACTTAGGGAGGCCGAGGCGGGCGGGTTACCTGGGGTCAGGAGTTCGAGACCAGCCTGGCCAACATGGTGAAACCCTATCTCTACTAAAAATACAAAAATTAGTCGGGGTGGGCACCTGTAATCCCAGCTACTCGAGGCTGAGGCAAAAGAATCGCTTGAACCCAGGAGGCAGAGGTGGCAGTGAGCCGAGATCACCCCACTGCACTTCAGCCTGGGTGGCAGAACAAGACTCTGTCTCAAAAAAAAAAAAAAGAATAAAAAAAAGAAAGGCAGGCCACCCGGTGGTGGTCCCTGTGCTCCTCCCCACCCACCCCCGCACTGTGCTGGGCGGTGAGGAGGCGGCTGGCCCAGGAGGTGGGGGTGTGGAGTGGGGCACATCAGAGATTTCAAATTGACCAAGGTCTGTTTTGTGTCAGTTTGTCAGTTTTATGTGTCAGCTTGGCTAAACTATGGTCTCCTGTTATTTGATCAAACACTAATCTATTTTTTCTTTTAGTTTAAAAAATAATAATTAAATGAAAAAATCCTGGCTAATGTTTTTTTTTTTGTAGAGACAGGGTTTTGCCTTGTTGCCCAGGCTGGCCTCTGACCCTTGGGCTCAAGTGATCTGCCACCATGCCTAGCCTCAAACACTAATCTAGATGTTGCTTGAAGGCATTTTGTAGATGTGATTTGTCTATAATTAGTTTACTTCAAGTAAGGGAGATTATCCCAGATAATCTGGGTGAGTCTGAAAGACTTTATGGGTAGAACTGAGGTGCCCTTGAAGAGGAAGAAATTCTGCCAGCCAATAGCAATTTCAGCTTGTGCTGAAGAGTTCCAGCCTTCCTAACAACCAGCCCTACAAATTTCGGACTTGCCTAGCCAGCCCTGTGTGTATAAACCAATTCCTTGCAATAATCACACCTACACCCTCACCCCACCCCCCTCCCCAAATACATGTATATATGGAGAGAGAGGGAGAGAGAATATAAAATCATACATATATCATATATCTCCTATTTGTTCTGTGTCTTTAATTTCTCTAGTTGACCCCTGACTGATGCAATGACCCAAGAGCAGGCAGATGCCCGGGGGGCGTTTATGATACCTCTCCTAGGACTTGGCTCAATCTGAGTCCCTCAACGGCCATCTGCAACCCTGAGGAGGGTAGGAAAATCCCAAATTGACTGAGATTACATTTCCATCATCAACAGCAATGGAGAATCAATAAAGAAATTTAGTTCAGATATTGAAAAATGAAGAGGGCTGGGTGCAGTGGCTCACGCCTGTAATCCCAGCACTTTGGGAGGCCGAGGCGGGTGGATCACCTGAGGTCGGGAGTTCGAGACCGGCCTGGCCAACATGGTGAAAACTCATCTTTACTAAAAATACAAAAATTAGTTCTGGTGGGTGCCTGTAATCCCAGCTACTCGGGAGGCTGAGGCAGGAGAATTGTTTGAACCCATTAGGCAGAGGTGGCAGTGAGCCGAGATCACCCCATTGCACTTCAGCCTGGGTGACAGAACAAGACTCCGTCTCAAGGAAAAGAAAAAAAAAAGAAGAAAGTCACAGTTTTTGCACTATCAAGTTTATGTGCTAAGATTCATACCTCATTTTAACAGCCTACATCTACTTCTGCGTGGACCAGAAGGACAGAGCCACAATAACACTGACCAAACCATAGTAATAGCACAATCGTTGCTACAAAACATTTGCAAATAATCAGATAATATATCTGATTAGGGCCTTGTATCCAGAATATATAAAGAGCTCTTATTGCAACAACAAGTAGAAAACAGATCAATTTAAAAATGGGCAAAGGTAGGCCAGGCACAGTGGCTCACACCTATAATCCCAGCACTTAGGGAGGCCGAGGCGGGTGGATCACCTGAGGTCAGGAGTTTGAGACCAGCCTGGCCAACATGGCGAAACTCCGTCTCTACTAAAAGTACAAAATTGAGCCGGACGTGGTGGTGAGAGTCTGTAATCCCAGCTACTTGGGAGGCTGAGGCAGGAGAATCGCTTGAACCCAGGAGATGGAGGTTGCAGTGAGCTGAGATCTCGCCATTGCACTCCAGCCTGGGCGACAAGAGTGAGACTCTGTCTCAAAATAAAAAATAAAATAAAATAGGCAAAGGACTTGAATATCCAAAGAAGATAAACAAATGGCCAATAAGCAAACAATACTTTCAAGCACAAAAGATGCTCGACATAATTAGTCATCAAGGAAAAGGCAAATCAGAACCACACGGGACTCACTTCACATCCACCAGGATGACTATAGTCCTTACAGTAAGAGAATAGCAGATGGCAGGTATTGTGCTTTACTTGTATTAAGTAACTTAATCCTCACAGTAGCCTCGTGAAGGAGGGATGGCTATTAGCTCATTTACAAAAGAGGAACTGAGGCCTGGAAAGGTGAAATGATTGCCCCAGTGTTCCACGGCTGGTCAGTGGGTGTCAGAATTTAAGACCTGGGCTGTCTGCTTCCAAAGCTGTGCTATCCAGCTTTAATGACTGTGCTATACTGGTCTCTAGCAAAATTATTGAAAATTTCCCTCTCAGACCCACCATTTACCTTTATTGCTCCCAGAGACCCTCACATGTGCTCCTTAGCTACCAAAAACAGACTTCTTCTTTCTCCTGGCATTTGTCCCATGTCCTTTGGTCAGTCCAGAACTCACTAGGAGGCTCCCAGACGCTGTGTCCGTGTTTCTCCTCCAGACCGACGATGCTGCCTGTGTCACTGCCTCAGGGCCATGTCACTGCTGCTGCCCCACTGGACTCCCACGGTCCTAGCCACCAGCCACTCCCCTCCTTCTTCCTGGCTAGCAAGGTTTACTGACTACCATAGAGGCGGAAAATGCCAGATGCTCGGTTTCCCAGGTTCCCTTTACAGTTACAGGTGACCATGTGACCGTGTTCTGGTCAATGACATATAAGGAGAGTCTTCTGAGAAAGATTTTCTCTCCTGGCCAGAATAGAGAGAGAGGGTGAGGTAGATGGAAAGAGCGGGAAGCTGGGCGCAGTGGTTCACACCTGTAATCCCAACACTTTGGGAGGCCAAGGCAGGTGGATCACCTGAGGTCAGGAGTTCGAGACCAGCCTGGCCACATGATGAAACCTTGTCTCTACTAAAAATACAAAAATTAGCTGGGTGTGGTGGTGTGGGCCTGTAATCCCAGCTATTTGGGAGGCTGAGGCACGTGAATCACTTGAACCCAGGAGGCGGAGATTGCAGTGTGCTGATCATGCCACTGCACTCCAGCCTGGGCAACAGAGTGAGACTCCGCCTCAAAACACACACACACACACACACACACACACACACACACACACACACACAAAACAGTGGGAGAGAGAGTAAGAGT'),\n ('ENST00000628547',\n  'CTGGCAGGAGCAGATTCCAAAGGCACAGGAAGAAGCTTGCAGTACAAAGATAAAAATCTAAAGTGGTTGCTGTGGAGGACAGGGGTCAGTGGTGGAAGTGAGACCGAAATAGACTCTGAAGTAATATCTGGACTTTGAAATTGTTGCCTGTTCACTCTGCCTGGTCATATGCAGAAAACCGAAACTAGACCCCTTGCTGACACTTATACAAAAATTAACTCAAGATGCATTAAAGATTTAAACGTGAGACCTAAAACCAGAAAAATCCTAGAAGAAAACCTAGGCAACACCATTGAGGACGTAAGCATGGGCAAAGACTTCATGACTAAAACACCAAAAGAAATGGCAACAAAAGCCAAAATTGACAAAAGGTTTCCTTAATGACAACAAAAAAGGGAGTAATCCTACCCACTGTAAGAGTCATGACTCTTGATTGCAGCTGACAGAAACTCATGACAGCCTGCTTTAGATGAAGGGGGAGAGAAGGACTGGAAGAATCTTGGAGTTGGGAATGTCACACGCAGCTGCTCCCAACCCCAGAACCTTTGCTGTCTTGGGACGGATCACCGCTGCAAGAGGGGAAGTTGCTACTGTGATGAATTCTGCCATGTGGCACCAGACTGCCACCCAGACCACAGTGTCCTCTGCAACCCTGGTAACTCACATACAGGCCCGATTCCACCTACAGCAAAGCTGGATGCGATGGCTGGCAGAGGCAAACCCTTTGCCTGCACTTCAGGCCAAAGCCGGGATGTGGCCTAGATGGTTCCTAAGGTCCCTGACAATCCTGAGATCTTGCATCTTGTCTATTTCAGGTCAAAGCTTCTCAGATGACCAAGATGGTGCTGCAGATGGTGCTGAGGATGGAGAACCCACCAAGCC')]"
       },
       "execution_count": 20,
       "metadata": {},
       "output_type": "execute_result"
      }
     ],
     "persistentId": "a74c5fe2-756b-4ea6-bf6b-e4ee3459bfbf",
     "text": "lincRNA[:2]"
    },
    "executionTime": "2019-09-05T13:49:58.742Z"
   },
   {
    "cell": {
     "executionCount": 21,
     "executionEventId": "5a9e5e73-5ed7-4807-b916-18b5f4733669",
     "hasError": false,
     "id": "b61b41f7-8594-4f16-91e5-42751dc169d1",
     "outputs": [
      {
       "data": {
        "text/plain": "[('ENST00000525764',\n  'CACCAACACCACCCAGGATGAGCAGCGCAGGTGGCCAGGCTGTGACCAGCAGGACGAGATGCTCAACCTGGGCTTCACCATTGGTTCCTTCGTGCTCAGCGCCACCACCCTGCCACTGGGGATCCTCATGGACCGCTTTGGCCCCCGACCCGTGCGGCTGGTTGGCAGTGCCTGCTTCACTGCGTCCTGCACCCTCATGGCCCTGGCCTCCCGGGACGTGGAAGCTCTGTCTCCGTTGATATTCCTGGCGCTGTCCCTGAATGGCTTTGGTGGCATCTGCCTAACGTTCACTTCACTCACGGGACGGGGTTGCTACCAAATCCATCAGACCACGCTACTGCAAGATCCAAAAGCTCACCAATGCCATCAGTGCCTTCACCCTGACCAACCTGCTGCTTGTGGGTTTTGGCATCACCTGTCTCATCAACAACTTACACCTCCAGTTTGTGACCTTTGTCCTGCACACCATTGTTCGAGGTTTCTTCCACTCAGCCTGTGGGAGTCTCTATGCTGCAGTGTTCCCATCCAACCACTTTGGGACGCTGACAGGCCTGCA'),\n ('ENST00000576452',\n  'AGGAGGAGCTTGATGGAAGCGTGCGAGAAGGGGCGTAACTGATTTGGAAACCAGAGGAAAGGCGCTGTTTTCACCGAATTAGAATCGCGGGAAAATAGAGAAGAGTTTGTTTGAAGGTCTCGCGAGATCGAGTGAGTACGGCTCGCCAAGTTGGAGCGCTCTCGCGATAGACACAGCAACTATTCAGCTGCGAGGGGACGGGAGAGGTGGTGAGCACTCTCGCGAGATTTGAAGGAGCGGCGGAGGCCAGAGGGAGGAGAGGACGCGCGGCCTCCTCAGCCTCTTTCCTCCCGCTGCCATGCACCCTGCAGCCTTCCCGCTTCCTGTGGTTGTGGCCGCTGTGCTGTGGGGAGCGGCCCCGACCCGGGGGCTCATTCGAGCGACCTCGGACCACAATGCCAGCATGGACTTTGCAGACCTTCCAGCTCTGTTTGGGGCTACCTTGAGCCAGGAGGGCCTCCAGGGGTTCCTTGTGGAGGCTCACCCAGACAATGCCTGCAGCCCCATTGCCCCACCACCCCCAGCCCCGGTCAATGGGTCAGTCTTTATTGCGCTGCTTCGAAGATTCGACTGCAACTTTGACCTCAAG')]"
       },
       "execution_count": 21,
       "metadata": {},
       "output_type": "execute_result"
      }
     ],
     "persistentId": "f1df8f36-e80c-436b-a076-a885aa300034",
     "text": "protein_coding[:2]"
    },
    "executionTime": "2019-09-05T13:50:04.482Z"
   },
   {
    "cell": {
     "executionCount": 22,
     "executionEventId": "b9d4cb9e-a0a5-4f94-9f0d-ee87b0b599fe",
     "hasError": false,
     "id": "e993fe13-b894-42bc-a89c-be6b5660df44",
     "outputs": [],
     "persistentId": "7da06333-e82b-43dc-a224-ab6fdaf3026a",
     "text": "import random\n\nfrom Bio import SeqIO\nimport pandas as pd\n\nfrom khtools.ensembl import get_sequence\nfrom khtools.compare_peptide import kmerize"
    },
    "executionTime": "2019-09-05T13:51:33.160Z"
   },
   {
    "cell": {
     "executionCount": 25,
     "executionEventId": "90673f71-6652-43c5-907e-274ac92c45a7",
     "hasError": false,
     "id": "e993fe13-b894-42bc-a89c-be6b5660df44",
     "outputs": [],
     "persistentId": "7da06333-e82b-43dc-a224-ab6fdaf3026a",
     "text": "import itertools\nimport random\n\nfrom Bio import SeqIO\nimport pandas as pd\n\nfrom khtools.ensembl import get_sequence\nfrom khtools.compare_peptide import kmerize"
    },
    "executionTime": "2019-09-05T13:52:43.449Z"
   },
   {
    "cell": {
     "executionCount": 31,
     "executionEventId": "f81b3294-f423-4ec5-ad56-fa97a8706f5e",
     "hasError": false,
     "id": "feae43cb-eca4-49bf-8a5f-73e862b73e96",
     "outputs": [
      {
       "data": {
        "text/plain": "128"
       },
       "execution_count": 31,
       "metadata": {},
       "output_type": "execute_result"
      }
     ],
     "persistentId": "173dd5db-e582-44ed-942a-0097133df83c",
     "text": "2**7"
    },
    "executionTime": "2019-09-05T13:53:52.199Z"
   },
   {
    "cell": {
     "executionCount": 32,
     "executionEventId": "579895fc-900c-4b90-8ff3-a20333dd5361",
     "hasError": false,
     "id": "feae43cb-eca4-49bf-8a5f-73e862b73e96",
     "outputs": [
      {
       "data": {
        "text/plain": "16384"
       },
       "execution_count": 32,
       "metadata": {},
       "output_type": "execute_result"
      }
     ],
     "persistentId": "173dd5db-e582-44ed-942a-0097133df83c",
     "text": "4**7"
    },
    "executionTime": "2019-09-05T13:53:56.369Z"
   },
   {
    "cell": {
     "executionCount": 33,
     "executionEventId": "e454b9a1-19be-4261-9af4-e12ce95cbf19",
     "hasError": true,
     "id": "4387633f-d12f-453f-b045-d3546a82879b",
     "outputs": [
      {
       "name": "stdout",
       "output_type": "stream",
       "text": "first 1000 residues: NNCACCAACACCACCCAGGATGAGCAGCGCAGGTGGCCAGGCTGTGACCAGCAGGACGAGATGCTCAACCTGGGCTTCACCATTGGTTCCTTCGTGCTCAGCGCCACCACCCTGCCACTGGGGATCCTCATGGACCGCTTTGGCCCCCGACCCGTGCGGCTGGTTGGCAGTGCCTGCTTCACTGCGTCCTGCACCCTCATGGCCCTGGCCTCCCGGGACGTGGAAGCTCTGTCTCCGTTGATATTCCTGGCGCTGTCCCTGAATGGCTTTGGTGGCATCTGCCTAACGTTCACTTCACTCACGGGACGGGGTTGCTACCAAATCCATCAGACCACGCTACTGCAAGATCCAAAAGCTCACCAATGCCATCAGTGCCTTCACCCTGACCAACCTGCTGCTTGTGGGTTTTGGCATCACCTGTCTCATCAACAACTTACACCTCCAGTTTGTGACCTTTGTCCTGCACACCATTGTTCGAGGTTTCTTCCACTCAGCCTGTGGGAGTCTCTATGCTGCAGTGTTCCCATCCAACCACTTTGGGACGCTGACAGGCCTGCA\nfirst 1000 residues: ATGCACCCTGCAGCCTTCCCGCTTCCTGTGGTTGTGGCCGCTGTGCTGTGGGGAGCGGCCCCGACCCGGGGGCTCATTCGAGCGACCTCGGACCACAATGCCAGCATGGACTTTGCAGACCTTCCAGCTCTGTTTGGGGCTACCTTGAGCCAGGAGGGCCTCCAGGGGTTCCTTGTGGAGGCTCACCCAGACAATGCCTGCAGCCCCATTGCCCCACCACCCCCAGCCCCGGTCAATGGGTCAGTCTTTATTGCGCTGCTTCGAAGATTCGACTGCAACTTTGACCTCAAG\nfirst 1000 residues: ATGCCGGGGTTCCTGGTTCGCATCCTCCCTCTGTTGCTGGTTCTGCTGCTTCTGGGCCCTACGCGCGGCTTGCGCAATGCCACCCAGAGGATGTTTGAAATTGACTATAGCCGGGACTCCTTCCTCAAGGATGGCCAGCCATTTCGCTACATCTCAGGAAGCATTCACTACTCCCGTGTGCCCCGCTTCTACTGGAAGGACCGGCTGCTGAAGATGAAGATGGCTGGGCTGAACGCCATCCAGACATTACCTGGCAGCTGTGGACAAGTGGTTGGGAGTCCTTCTGCCCAAGATGAAGCCTCTCCTCTATCAGAATGGAGGGCCAGTTATAACAGTGCAGGCAGCAACATCACAGATGCTTTCCTAAGCCAGAGGAAGTGTGAGCCCAAAGGACCCTTGATCAATTCTGAATTCTATACTGGCTGGCTAGATCACTGGGGCCAACCTCACTCCACAATCAAGACCGAAGCAGTGGCTTCCTCCCTCTATGATATACTTGCCCGTGGGGCGAGTGTGAACTTGTACATGTTTATAGGTGGGACCAATTTTGCCTATTGGAATGGGGCCAACTCACCCTATGCAGCACAGCCCACCAGCTACGACTATGATGCCCCACTGAGTGAGGCTGGGGACCTCACTGAGAAGTATTTTGCTCTGCGAAACATCATCCAGAAGTTTGAAAAAGTACCAGAAGGTCCTATCCCTCCATCTACACCAAAGTTTGCATATGGAAAGGTCACTTTGGAAAAGTTAAAGACAGTGGGAGCAGCTCTGGACATTCTGTGTCCCTCTGGGCCCATCAAAAGCCTTTATCCCTTGACATTTATCCAGGTGAAACAGCATTATGGGTTTGTGCTGTACCGGACAACACTTCCTCAAGATTGCAGCAACCCAGCACCTCTCTCTTCACCCCTCAATGGAGTCCACGATCGAGCATATGTTGCTGTGGATGGGATCCCCCAGGGAGTCCTTGAGCGAAACAATGTGATCACTCTGAACA\nfirst 1000 residues: ATGATGACACCTCAAGTTATCACTCCCCAGCAAATGCAGCAGATCCTCCAGCAACAAGTGCTGAGCCCTCAGCAGCTCCAGGTTCTCCTCCAGCAGCAGCAGGCCCTCATGCTTCAACAGCAGCAGCTTCAAGAGTTTTATAAAAAACAACAGGAACAGTTGCAGCTTCAACTTTTACAACAACAACATGCTGGAAAACAGCCTAAAGAGCAACAGCAGGTGGCTACCCAGCAGTTGGCTTTTCAGCAGCAGCTTTTACAGATGCAGCAGTTACAGCAGCAGCACCTCCTGTCTTTGCAGCGCCAAGGCCTTCTGACAATTCAGCCCGGGCAGCCTGCCCTTCCCCTTCAACCTCTTGCTCAAGGCATGATTCCAACAGAACTGCAGCAGCTCTGGAAAGAAGTGACAAGTGCTCATACTGCAGAAGAAACCACAGGCAACAATCACAGCAGTTTGGATCTGACCACGACATGTGTCTCCTCCTCTGCACCTTCCAAGACCTCCTTAATAATGAACCCACATGCCTCTACCAATGGACAGCTCTCAGTCCACACTCCCAAAAGGGAAAGTTTGTCCCATGAGGAGCACCCCCATAGCCATCCTCTCTATGGACATGGTGTATGCAAGTGGCCAGGCTGTGAAGCAGTGTGCGAAGATTTCCAATCATTTCTAAAACATCTCAACAGTGAGCATGCGCTGGACGATAGAAGTACAGCCCAATGTAGAGTACAAATGCAGGTTGTACAGCAGTTAGAGCTACAGCTTGCAAAAGACAAAGAACGCCTGCAAGCCATGATGACCCACCTGCATGTGAAGTCTACAGAACCCAAAGCCGCCCCTCAGCCCTTGAATCTGGTATCAAGTGTCACTCTCTCCAAGTCCGCATCGGAGGCTTCTCCACAGAGCTTACCTCATACTCCAACGACCCCAACCGCCCCCCTGACTCCCGTCACCCAAGGCCCCTCTGTCATCACAACCACCAGCATGCACACGGTGGGAC\n"
      },
      {
       "ename": "KeyboardInterrupt",
       "evalue": "",
       "output_type": "error",
       "traceback": [
        "\u001b[0;31m---------------------------------------------------------------------------\u001b[0m",
        "\u001b[0;31mTypeError\u001b[0m                                 Traceback (most recent call last)",
        "\u001b[0;32m~/miniconda3/envs/kmer-hashing/lib/python3.6/site-packages/requests/packages/urllib3/connectionpool.py\u001b[0m in \u001b[0;36m_make_request\u001b[0;34m(self, conn, method, url, timeout, chunked, **httplib_request_kw)\u001b[0m\n\u001b[1;32m    378\u001b[0m             \u001b[0;32mtry\u001b[0m\u001b[0;34m:\u001b[0m  \u001b[0;31m# Python 2.7, use buffering of HTTP responses\u001b[0m\u001b[0;34m\u001b[0m\u001b[0;34m\u001b[0m\u001b[0m\n\u001b[0;32m--> 379\u001b[0;31m                 \u001b[0mhttplib_response\u001b[0m \u001b[0;34m=\u001b[0m \u001b[0mconn\u001b[0m\u001b[0;34m.\u001b[0m\u001b[0mgetresponse\u001b[0m\u001b[0;34m(\u001b[0m\u001b[0mbuffering\u001b[0m\u001b[0;34m=\u001b[0m\u001b[0;32mTrue\u001b[0m\u001b[0;34m)\u001b[0m\u001b[0;34m\u001b[0m\u001b[0;34m\u001b[0m\u001b[0m\n\u001b[0m\u001b[1;32m    380\u001b[0m             \u001b[0;32mexcept\u001b[0m \u001b[0mTypeError\u001b[0m\u001b[0;34m:\u001b[0m  \u001b[0;31m# Python 2.6 and older, Python 3\u001b[0m\u001b[0;34m\u001b[0m\u001b[0;34m\u001b[0m\u001b[0m\n",
        "\u001b[0;31mTypeError\u001b[0m: getresponse() got an unexpected keyword argument 'buffering'",
        "\nDuring handling of the above exception, another exception occurred:\n",
        "\u001b[0;31mKeyboardInterrupt\u001b[0m                         Traceback (most recent call last)",
        "\u001b[0;32m<ipython-input-33-3d1fcc1fe864>\u001b[0m in \u001b[0;36m<module>\u001b[0;34m()\u001b[0m\n\u001b[0;32m----> 1\u001b[0;31m \u001b[0mprotein_coding_kmers\u001b[0m \u001b[0;34m=\u001b[0m \u001b[0mset\u001b[0m\u001b[0;34m(\u001b[0m\u001b[0mitertools\u001b[0m\u001b[0;34m.\u001b[0m\u001b[0mchain\u001b[0m\u001b[0;34m(\u001b[0m\u001b[0;34m*\u001b[0m\u001b[0;34m[\u001b[0m\u001b[0mkmerize\u001b[0m\u001b[0;34m(\u001b[0m\u001b[0mget_sequence\u001b[0m\u001b[0;34m(\u001b[0m\u001b[0mtranscript_id\u001b[0m\u001b[0;34m,\u001b[0m \u001b[0;34m'cds'\u001b[0m\u001b[0;34m)\u001b[0m\u001b[0;34m,\u001b[0m \u001b[0mksize\u001b[0m\u001b[0;34m)\u001b[0m \u001b[0;32mfor\u001b[0m \u001b[0mtranscript_id\u001b[0m\u001b[0;34m,\u001b[0m \u001b[0mseq\u001b[0m \u001b[0;32min\u001b[0m \u001b[0mprotein_coding\u001b[0m\u001b[0;34m]\u001b[0m\u001b[0;34m)\u001b[0m\u001b[0;34m)\u001b[0m\u001b[0;34m\u001b[0m\u001b[0;34m\u001b[0m\u001b[0m\n\u001b[0m\u001b[1;32m      2\u001b[0m \u001b[0mprint\u001b[0m\u001b[0;34m(\u001b[0m\u001b[0mlen\u001b[0m\u001b[0;34m(\u001b[0m\u001b[0mprotein_coding_kmers\u001b[0m\u001b[0;34m)\u001b[0m\u001b[0;34m)\u001b[0m\u001b[0;34m\u001b[0m\u001b[0;34m\u001b[0m\u001b[0m\n",
        "\u001b[0;32m<ipython-input-33-3d1fcc1fe864>\u001b[0m in \u001b[0;36m<listcomp>\u001b[0;34m(.0)\u001b[0m\n\u001b[0;32m----> 1\u001b[0;31m \u001b[0mprotein_coding_kmers\u001b[0m \u001b[0;34m=\u001b[0m \u001b[0mset\u001b[0m\u001b[0;34m(\u001b[0m\u001b[0mitertools\u001b[0m\u001b[0;34m.\u001b[0m\u001b[0mchain\u001b[0m\u001b[0;34m(\u001b[0m\u001b[0;34m*\u001b[0m\u001b[0;34m[\u001b[0m\u001b[0mkmerize\u001b[0m\u001b[0;34m(\u001b[0m\u001b[0mget_sequence\u001b[0m\u001b[0;34m(\u001b[0m\u001b[0mtranscript_id\u001b[0m\u001b[0;34m,\u001b[0m \u001b[0;34m'cds'\u001b[0m\u001b[0;34m)\u001b[0m\u001b[0;34m,\u001b[0m \u001b[0mksize\u001b[0m\u001b[0;34m)\u001b[0m \u001b[0;32mfor\u001b[0m \u001b[0mtranscript_id\u001b[0m\u001b[0;34m,\u001b[0m \u001b[0mseq\u001b[0m \u001b[0;32min\u001b[0m \u001b[0mprotein_coding\u001b[0m\u001b[0;34m]\u001b[0m\u001b[0;34m)\u001b[0m\u001b[0;34m)\u001b[0m\u001b[0;34m\u001b[0m\u001b[0;34m\u001b[0m\u001b[0m\n\u001b[0m\u001b[1;32m      2\u001b[0m \u001b[0mprint\u001b[0m\u001b[0;34m(\u001b[0m\u001b[0mlen\u001b[0m\u001b[0;34m(\u001b[0m\u001b[0mprotein_coding_kmers\u001b[0m\u001b[0;34m)\u001b[0m\u001b[0;34m)\u001b[0m\u001b[0;34m\u001b[0m\u001b[0;34m\u001b[0m\u001b[0m\n",
        "\u001b[0;32m~/code/kmer-hashing/kh-tools/khtools/ensembl.py\u001b[0m in \u001b[0;36mget_sequence\u001b[0;34m(ensembl_id, verbose, type)\u001b[0m\n\u001b[1;32m      7\u001b[0m     \u001b[0mext\u001b[0m \u001b[0;34m=\u001b[0m \u001b[0;34mf\"/sequence/id/{ensembl_id}?type={type}\"\u001b[0m\u001b[0;34m\u001b[0m\u001b[0;34m\u001b[0m\u001b[0m\n\u001b[1;32m      8\u001b[0m \u001b[0;34m\u001b[0m\u001b[0m\n\u001b[0;32m----> 9\u001b[0;31m     \u001b[0mr\u001b[0m \u001b[0;34m=\u001b[0m \u001b[0mrequests\u001b[0m\u001b[0;34m.\u001b[0m\u001b[0mget\u001b[0m\u001b[0;34m(\u001b[0m\u001b[0mserver\u001b[0m\u001b[0;34m+\u001b[0m\u001b[0mext\u001b[0m\u001b[0;34m,\u001b[0m \u001b[0mheaders\u001b[0m\u001b[0;34m=\u001b[0m\u001b[0;34m{\u001b[0m \u001b[0;34m\"Content-Type\"\u001b[0m \u001b[0;34m:\u001b[0m \u001b[0;34m\"text/plain\"\u001b[0m\u001b[0;34m}\u001b[0m\u001b[0;34m)\u001b[0m\u001b[0;34m\u001b[0m\u001b[0;34m\u001b[0m\u001b[0m\n\u001b[0m\u001b[1;32m     10\u001b[0m \u001b[0;34m\u001b[0m\u001b[0m\n\u001b[1;32m     11\u001b[0m     \u001b[0;32mif\u001b[0m \u001b[0;32mnot\u001b[0m \u001b[0mr\u001b[0m\u001b[0;34m.\u001b[0m\u001b[0mok\u001b[0m\u001b[0;34m:\u001b[0m\u001b[0;34m\u001b[0m\u001b[0;34m\u001b[0m\u001b[0m\n",
        "\u001b[0;32m~/miniconda3/envs/kmer-hashing/lib/python3.6/site-packages/requests/api.py\u001b[0m in \u001b[0;36mget\u001b[0;34m(url, params, **kwargs)\u001b[0m\n\u001b[1;32m     68\u001b[0m \u001b[0;34m\u001b[0m\u001b[0m\n\u001b[1;32m     69\u001b[0m     \u001b[0mkwargs\u001b[0m\u001b[0;34m.\u001b[0m\u001b[0msetdefault\u001b[0m\u001b[0;34m(\u001b[0m\u001b[0;34m'allow_redirects'\u001b[0m\u001b[0;34m,\u001b[0m \u001b[0;32mTrue\u001b[0m\u001b[0;34m)\u001b[0m\u001b[0;34m\u001b[0m\u001b[0;34m\u001b[0m\u001b[0m\n\u001b[0;32m---> 70\u001b[0;31m     \u001b[0;32mreturn\u001b[0m \u001b[0mrequest\u001b[0m\u001b[0;34m(\u001b[0m\u001b[0;34m'get'\u001b[0m\u001b[0;34m,\u001b[0m \u001b[0murl\u001b[0m\u001b[0;34m,\u001b[0m \u001b[0mparams\u001b[0m\u001b[0;34m=\u001b[0m\u001b[0mparams\u001b[0m\u001b[0;34m,\u001b[0m \u001b[0;34m**\u001b[0m\u001b[0mkwargs\u001b[0m\u001b[0;34m)\u001b[0m\u001b[0;34m\u001b[0m\u001b[0;34m\u001b[0m\u001b[0m\n\u001b[0m\u001b[1;32m     71\u001b[0m \u001b[0;34m\u001b[0m\u001b[0m\n\u001b[1;32m     72\u001b[0m \u001b[0;34m\u001b[0m\u001b[0m\n",
        "\u001b[0;32m~/miniconda3/envs/kmer-hashing/lib/python3.6/site-packages/requests/api.py\u001b[0m in \u001b[0;36mrequest\u001b[0;34m(method, url, **kwargs)\u001b[0m\n\u001b[1;32m     54\u001b[0m     \u001b[0;31m# cases, and look like a memory leak in others.\u001b[0m\u001b[0;34m\u001b[0m\u001b[0;34m\u001b[0m\u001b[0;34m\u001b[0m\u001b[0m\n\u001b[1;32m     55\u001b[0m     \u001b[0;32mwith\u001b[0m \u001b[0msessions\u001b[0m\u001b[0;34m.\u001b[0m\u001b[0mSession\u001b[0m\u001b[0;34m(\u001b[0m\u001b[0;34m)\u001b[0m \u001b[0;32mas\u001b[0m \u001b[0msession\u001b[0m\u001b[0;34m:\u001b[0m\u001b[0;34m\u001b[0m\u001b[0;34m\u001b[0m\u001b[0m\n\u001b[0;32m---> 56\u001b[0;31m         \u001b[0;32mreturn\u001b[0m \u001b[0msession\u001b[0m\u001b[0;34m.\u001b[0m\u001b[0mrequest\u001b[0m\u001b[0;34m(\u001b[0m\u001b[0mmethod\u001b[0m\u001b[0;34m=\u001b[0m\u001b[0mmethod\u001b[0m\u001b[0;34m,\u001b[0m \u001b[0murl\u001b[0m\u001b[0;34m=\u001b[0m\u001b[0murl\u001b[0m\u001b[0;34m,\u001b[0m \u001b[0;34m**\u001b[0m\u001b[0mkwargs\u001b[0m\u001b[0;34m)\u001b[0m\u001b[0;34m\u001b[0m\u001b[0;34m\u001b[0m\u001b[0m\n\u001b[0m\u001b[1;32m     57\u001b[0m \u001b[0;34m\u001b[0m\u001b[0m\n\u001b[1;32m     58\u001b[0m \u001b[0;34m\u001b[0m\u001b[0m\n",
        "\u001b[0;32m~/miniconda3/envs/kmer-hashing/lib/python3.6/site-packages/requests/sessions.py\u001b[0m in \u001b[0;36mrequest\u001b[0;34m(self, method, url, params, data, headers, cookies, files, auth, timeout, allow_redirects, proxies, hooks, stream, verify, cert, json)\u001b[0m\n\u001b[1;32m    486\u001b[0m         }\n\u001b[1;32m    487\u001b[0m         \u001b[0msend_kwargs\u001b[0m\u001b[0;34m.\u001b[0m\u001b[0mupdate\u001b[0m\u001b[0;34m(\u001b[0m\u001b[0msettings\u001b[0m\u001b[0;34m)\u001b[0m\u001b[0;34m\u001b[0m\u001b[0;34m\u001b[0m\u001b[0m\n\u001b[0;32m--> 488\u001b[0;31m         \u001b[0mresp\u001b[0m \u001b[0;34m=\u001b[0m \u001b[0mself\u001b[0m\u001b[0;34m.\u001b[0m\u001b[0msend\u001b[0m\u001b[0;34m(\u001b[0m\u001b[0mprep\u001b[0m\u001b[0;34m,\u001b[0m \u001b[0;34m**\u001b[0m\u001b[0msend_kwargs\u001b[0m\u001b[0;34m)\u001b[0m\u001b[0;34m\u001b[0m\u001b[0;34m\u001b[0m\u001b[0m\n\u001b[0m\u001b[1;32m    489\u001b[0m \u001b[0;34m\u001b[0m\u001b[0m\n\u001b[1;32m    490\u001b[0m         \u001b[0;32mreturn\u001b[0m \u001b[0mresp\u001b[0m\u001b[0;34m\u001b[0m\u001b[0;34m\u001b[0m\u001b[0m\n",
        "\u001b[0;32m~/miniconda3/envs/kmer-hashing/lib/python3.6/site-packages/requests/sessions.py\u001b[0m in \u001b[0;36msend\u001b[0;34m(self, request, **kwargs)\u001b[0m\n\u001b[1;32m    607\u001b[0m \u001b[0;34m\u001b[0m\u001b[0m\n\u001b[1;32m    608\u001b[0m         \u001b[0;31m# Send the request\u001b[0m\u001b[0;34m\u001b[0m\u001b[0;34m\u001b[0m\u001b[0;34m\u001b[0m\u001b[0m\n\u001b[0;32m--> 609\u001b[0;31m         \u001b[0mr\u001b[0m \u001b[0;34m=\u001b[0m \u001b[0madapter\u001b[0m\u001b[0;34m.\u001b[0m\u001b[0msend\u001b[0m\u001b[0;34m(\u001b[0m\u001b[0mrequest\u001b[0m\u001b[0;34m,\u001b[0m \u001b[0;34m**\u001b[0m\u001b[0mkwargs\u001b[0m\u001b[0;34m)\u001b[0m\u001b[0;34m\u001b[0m\u001b[0;34m\u001b[0m\u001b[0m\n\u001b[0m\u001b[1;32m    610\u001b[0m \u001b[0;34m\u001b[0m\u001b[0m\n\u001b[1;32m    611\u001b[0m         \u001b[0;31m# Total elapsed time of the request (approximately)\u001b[0m\u001b[0;34m\u001b[0m\u001b[0;34m\u001b[0m\u001b[0;34m\u001b[0m\u001b[0m\n",
        "\u001b[0;32m~/miniconda3/envs/kmer-hashing/lib/python3.6/site-packages/requests/adapters.py\u001b[0m in \u001b[0;36msend\u001b[0;34m(self, request, stream, timeout, verify, cert, proxies)\u001b[0m\n\u001b[1;32m    421\u001b[0m                     \u001b[0mdecode_content\u001b[0m\u001b[0;34m=\u001b[0m\u001b[0;32mFalse\u001b[0m\u001b[0;34m,\u001b[0m\u001b[0;34m\u001b[0m\u001b[0;34m\u001b[0m\u001b[0m\n\u001b[1;32m    422\u001b[0m                     \u001b[0mretries\u001b[0m\u001b[0;34m=\u001b[0m\u001b[0mself\u001b[0m\u001b[0;34m.\u001b[0m\u001b[0mmax_retries\u001b[0m\u001b[0;34m,\u001b[0m\u001b[0;34m\u001b[0m\u001b[0;34m\u001b[0m\u001b[0m\n\u001b[0;32m--> 423\u001b[0;31m                     \u001b[0mtimeout\u001b[0m\u001b[0;34m=\u001b[0m\u001b[0mtimeout\u001b[0m\u001b[0;34m\u001b[0m\u001b[0;34m\u001b[0m\u001b[0m\n\u001b[0m\u001b[1;32m    424\u001b[0m                 )\n\u001b[1;32m    425\u001b[0m \u001b[0;34m\u001b[0m\u001b[0m\n",
        "\u001b[0;32m~/miniconda3/envs/kmer-hashing/lib/python3.6/site-packages/requests/packages/urllib3/connectionpool.py\u001b[0m in \u001b[0;36murlopen\u001b[0;34m(self, method, url, body, headers, retries, redirect, assert_same_host, timeout, pool_timeout, release_conn, chunked, body_pos, **response_kw)\u001b[0m\n\u001b[1;32m    598\u001b[0m                                                   \u001b[0mtimeout\u001b[0m\u001b[0;34m=\u001b[0m\u001b[0mtimeout_obj\u001b[0m\u001b[0;34m,\u001b[0m\u001b[0;34m\u001b[0m\u001b[0;34m\u001b[0m\u001b[0m\n\u001b[1;32m    599\u001b[0m                                                   \u001b[0mbody\u001b[0m\u001b[0;34m=\u001b[0m\u001b[0mbody\u001b[0m\u001b[0;34m,\u001b[0m \u001b[0mheaders\u001b[0m\u001b[0;34m=\u001b[0m\u001b[0mheaders\u001b[0m\u001b[0;34m,\u001b[0m\u001b[0;34m\u001b[0m\u001b[0;34m\u001b[0m\u001b[0m\n\u001b[0;32m--> 600\u001b[0;31m                                                   chunked=chunked)\n\u001b[0m\u001b[1;32m    601\u001b[0m \u001b[0;34m\u001b[0m\u001b[0m\n\u001b[1;32m    602\u001b[0m             \u001b[0;31m# If we're going to release the connection in ``finally:``, then\u001b[0m\u001b[0;34m\u001b[0m\u001b[0;34m\u001b[0m\u001b[0;34m\u001b[0m\u001b[0m\n",
        "\u001b[0;32m~/miniconda3/envs/kmer-hashing/lib/python3.6/site-packages/requests/packages/urllib3/connectionpool.py\u001b[0m in \u001b[0;36m_make_request\u001b[0;34m(self, conn, method, url, timeout, chunked, **httplib_request_kw)\u001b[0m\n\u001b[1;32m    380\u001b[0m             \u001b[0;32mexcept\u001b[0m \u001b[0mTypeError\u001b[0m\u001b[0;34m:\u001b[0m  \u001b[0;31m# Python 2.6 and older, Python 3\u001b[0m\u001b[0;34m\u001b[0m\u001b[0;34m\u001b[0m\u001b[0m\n\u001b[1;32m    381\u001b[0m                 \u001b[0;32mtry\u001b[0m\u001b[0;34m:\u001b[0m\u001b[0;34m\u001b[0m\u001b[0;34m\u001b[0m\u001b[0m\n\u001b[0;32m--> 382\u001b[0;31m                     \u001b[0mhttplib_response\u001b[0m \u001b[0;34m=\u001b[0m \u001b[0mconn\u001b[0m\u001b[0;34m.\u001b[0m\u001b[0mgetresponse\u001b[0m\u001b[0;34m(\u001b[0m\u001b[0;34m)\u001b[0m\u001b[0;34m\u001b[0m\u001b[0;34m\u001b[0m\u001b[0m\n\u001b[0m\u001b[1;32m    383\u001b[0m                 \u001b[0;32mexcept\u001b[0m \u001b[0mException\u001b[0m \u001b[0;32mas\u001b[0m \u001b[0me\u001b[0m\u001b[0;34m:\u001b[0m\u001b[0;34m\u001b[0m\u001b[0;34m\u001b[0m\u001b[0m\n\u001b[1;32m    384\u001b[0m                     \u001b[0;31m# Remove the TypeError from the exception chain in Python 3;\u001b[0m\u001b[0;34m\u001b[0m\u001b[0;34m\u001b[0m\u001b[0;34m\u001b[0m\u001b[0m\n",
        "\u001b[0;32m~/miniconda3/envs/kmer-hashing/lib/python3.6/http/client.py\u001b[0m in \u001b[0;36mgetresponse\u001b[0;34m(self)\u001b[0m\n\u001b[1;32m   1329\u001b[0m         \u001b[0;32mtry\u001b[0m\u001b[0;34m:\u001b[0m\u001b[0;34m\u001b[0m\u001b[0;34m\u001b[0m\u001b[0m\n\u001b[1;32m   1330\u001b[0m             \u001b[0;32mtry\u001b[0m\u001b[0;34m:\u001b[0m\u001b[0;34m\u001b[0m\u001b[0;34m\u001b[0m\u001b[0m\n\u001b[0;32m-> 1331\u001b[0;31m                 \u001b[0mresponse\u001b[0m\u001b[0;34m.\u001b[0m\u001b[0mbegin\u001b[0m\u001b[0;34m(\u001b[0m\u001b[0;34m)\u001b[0m\u001b[0;34m\u001b[0m\u001b[0;34m\u001b[0m\u001b[0m\n\u001b[0m\u001b[1;32m   1332\u001b[0m             \u001b[0;32mexcept\u001b[0m \u001b[0mConnectionError\u001b[0m\u001b[0;34m:\u001b[0m\u001b[0;34m\u001b[0m\u001b[0;34m\u001b[0m\u001b[0m\n\u001b[1;32m   1333\u001b[0m                 \u001b[0mself\u001b[0m\u001b[0;34m.\u001b[0m\u001b[0mclose\u001b[0m\u001b[0;34m(\u001b[0m\u001b[0;34m)\u001b[0m\u001b[0;34m\u001b[0m\u001b[0;34m\u001b[0m\u001b[0m\n",
        "\u001b[0;32m~/miniconda3/envs/kmer-hashing/lib/python3.6/http/client.py\u001b[0m in \u001b[0;36mbegin\u001b[0;34m(self)\u001b[0m\n\u001b[1;32m    295\u001b[0m         \u001b[0;31m# read until we get a non-100 response\u001b[0m\u001b[0;34m\u001b[0m\u001b[0;34m\u001b[0m\u001b[0;34m\u001b[0m\u001b[0m\n\u001b[1;32m    296\u001b[0m         \u001b[0;32mwhile\u001b[0m \u001b[0;32mTrue\u001b[0m\u001b[0;34m:\u001b[0m\u001b[0;34m\u001b[0m\u001b[0;34m\u001b[0m\u001b[0m\n\u001b[0;32m--> 297\u001b[0;31m             \u001b[0mversion\u001b[0m\u001b[0;34m,\u001b[0m \u001b[0mstatus\u001b[0m\u001b[0;34m,\u001b[0m \u001b[0mreason\u001b[0m \u001b[0;34m=\u001b[0m \u001b[0mself\u001b[0m\u001b[0;34m.\u001b[0m\u001b[0m_read_status\u001b[0m\u001b[0;34m(\u001b[0m\u001b[0;34m)\u001b[0m\u001b[0;34m\u001b[0m\u001b[0;34m\u001b[0m\u001b[0m\n\u001b[0m\u001b[1;32m    298\u001b[0m             \u001b[0;32mif\u001b[0m \u001b[0mstatus\u001b[0m \u001b[0;34m!=\u001b[0m \u001b[0mCONTINUE\u001b[0m\u001b[0;34m:\u001b[0m\u001b[0;34m\u001b[0m\u001b[0;34m\u001b[0m\u001b[0m\n\u001b[1;32m    299\u001b[0m                 \u001b[0;32mbreak\u001b[0m\u001b[0;34m\u001b[0m\u001b[0;34m\u001b[0m\u001b[0m\n",
        "\u001b[0;32m~/miniconda3/envs/kmer-hashing/lib/python3.6/http/client.py\u001b[0m in \u001b[0;36m_read_status\u001b[0;34m(self)\u001b[0m\n\u001b[1;32m    256\u001b[0m \u001b[0;34m\u001b[0m\u001b[0m\n\u001b[1;32m    257\u001b[0m     \u001b[0;32mdef\u001b[0m \u001b[0m_read_status\u001b[0m\u001b[0;34m(\u001b[0m\u001b[0mself\u001b[0m\u001b[0;34m)\u001b[0m\u001b[0;34m:\u001b[0m\u001b[0;34m\u001b[0m\u001b[0;34m\u001b[0m\u001b[0m\n\u001b[0;32m--> 258\u001b[0;31m         \u001b[0mline\u001b[0m \u001b[0;34m=\u001b[0m \u001b[0mstr\u001b[0m\u001b[0;34m(\u001b[0m\u001b[0mself\u001b[0m\u001b[0;34m.\u001b[0m\u001b[0mfp\u001b[0m\u001b[0;34m.\u001b[0m\u001b[0mreadline\u001b[0m\u001b[0;34m(\u001b[0m\u001b[0m_MAXLINE\u001b[0m \u001b[0;34m+\u001b[0m \u001b[0;36m1\u001b[0m\u001b[0;34m)\u001b[0m\u001b[0;34m,\u001b[0m \u001b[0;34m\"iso-8859-1\"\u001b[0m\u001b[0;34m)\u001b[0m\u001b[0;34m\u001b[0m\u001b[0;34m\u001b[0m\u001b[0m\n\u001b[0m\u001b[1;32m    259\u001b[0m         \u001b[0;32mif\u001b[0m \u001b[0mlen\u001b[0m\u001b[0;34m(\u001b[0m\u001b[0mline\u001b[0m\u001b[0;34m)\u001b[0m \u001b[0;34m>\u001b[0m \u001b[0m_MAXLINE\u001b[0m\u001b[0;34m:\u001b[0m\u001b[0;34m\u001b[0m\u001b[0;34m\u001b[0m\u001b[0m\n\u001b[1;32m    260\u001b[0m             \u001b[0;32mraise\u001b[0m \u001b[0mLineTooLong\u001b[0m\u001b[0;34m(\u001b[0m\u001b[0;34m\"status line\"\u001b[0m\u001b[0;34m)\u001b[0m\u001b[0;34m\u001b[0m\u001b[0;34m\u001b[0m\u001b[0m\n",
        "\u001b[0;32m~/miniconda3/envs/kmer-hashing/lib/python3.6/socket.py\u001b[0m in \u001b[0;36mreadinto\u001b[0;34m(self, b)\u001b[0m\n\u001b[1;32m    584\u001b[0m         \u001b[0;32mwhile\u001b[0m \u001b[0;32mTrue\u001b[0m\u001b[0;34m:\u001b[0m\u001b[0;34m\u001b[0m\u001b[0;34m\u001b[0m\u001b[0m\n\u001b[1;32m    585\u001b[0m             \u001b[0;32mtry\u001b[0m\u001b[0;34m:\u001b[0m\u001b[0;34m\u001b[0m\u001b[0;34m\u001b[0m\u001b[0m\n\u001b[0;32m--> 586\u001b[0;31m                 \u001b[0;32mreturn\u001b[0m \u001b[0mself\u001b[0m\u001b[0;34m.\u001b[0m\u001b[0m_sock\u001b[0m\u001b[0;34m.\u001b[0m\u001b[0mrecv_into\u001b[0m\u001b[0;34m(\u001b[0m\u001b[0mb\u001b[0m\u001b[0;34m)\u001b[0m\u001b[0;34m\u001b[0m\u001b[0;34m\u001b[0m\u001b[0m\n\u001b[0m\u001b[1;32m    587\u001b[0m             \u001b[0;32mexcept\u001b[0m \u001b[0mtimeout\u001b[0m\u001b[0;34m:\u001b[0m\u001b[0;34m\u001b[0m\u001b[0;34m\u001b[0m\u001b[0m\n\u001b[1;32m    588\u001b[0m                 \u001b[0mself\u001b[0m\u001b[0;34m.\u001b[0m\u001b[0m_timeout_occurred\u001b[0m \u001b[0;34m=\u001b[0m \u001b[0;32mTrue\u001b[0m\u001b[0;34m\u001b[0m\u001b[0;34m\u001b[0m\u001b[0m\n",
        "\u001b[0;32m~/miniconda3/envs/kmer-hashing/lib/python3.6/site-packages/requests/packages/urllib3/contrib/pyopenssl.py\u001b[0m in \u001b[0;36mrecv_into\u001b[0;34m(self, *args, **kwargs)\u001b[0m\n\u001b[1;32m    275\u001b[0m     \u001b[0;32mdef\u001b[0m \u001b[0mrecv_into\u001b[0m\u001b[0;34m(\u001b[0m\u001b[0mself\u001b[0m\u001b[0;34m,\u001b[0m \u001b[0;34m*\u001b[0m\u001b[0margs\u001b[0m\u001b[0;34m,\u001b[0m \u001b[0;34m**\u001b[0m\u001b[0mkwargs\u001b[0m\u001b[0;34m)\u001b[0m\u001b[0;34m:\u001b[0m\u001b[0;34m\u001b[0m\u001b[0;34m\u001b[0m\u001b[0m\n\u001b[1;32m    276\u001b[0m         \u001b[0;32mtry\u001b[0m\u001b[0;34m:\u001b[0m\u001b[0;34m\u001b[0m\u001b[0;34m\u001b[0m\u001b[0m\n\u001b[0;32m--> 277\u001b[0;31m             \u001b[0;32mreturn\u001b[0m \u001b[0mself\u001b[0m\u001b[0;34m.\u001b[0m\u001b[0mconnection\u001b[0m\u001b[0;34m.\u001b[0m\u001b[0mrecv_into\u001b[0m\u001b[0;34m(\u001b[0m\u001b[0;34m*\u001b[0m\u001b[0margs\u001b[0m\u001b[0;34m,\u001b[0m \u001b[0;34m**\u001b[0m\u001b[0mkwargs\u001b[0m\u001b[0;34m)\u001b[0m\u001b[0;34m\u001b[0m\u001b[0;34m\u001b[0m\u001b[0m\n\u001b[0m\u001b[1;32m    278\u001b[0m         \u001b[0;32mexcept\u001b[0m \u001b[0mOpenSSL\u001b[0m\u001b[0;34m.\u001b[0m\u001b[0mSSL\u001b[0m\u001b[0;34m.\u001b[0m\u001b[0mSysCallError\u001b[0m \u001b[0;32mas\u001b[0m \u001b[0me\u001b[0m\u001b[0;34m:\u001b[0m\u001b[0;34m\u001b[0m\u001b[0;34m\u001b[0m\u001b[0m\n\u001b[1;32m    279\u001b[0m             \u001b[0;32mif\u001b[0m \u001b[0mself\u001b[0m\u001b[0;34m.\u001b[0m\u001b[0msuppress_ragged_eofs\u001b[0m \u001b[0;32mand\u001b[0m \u001b[0me\u001b[0m\u001b[0;34m.\u001b[0m\u001b[0margs\u001b[0m \u001b[0;34m==\u001b[0m \u001b[0;34m(\u001b[0m\u001b[0;34m-\u001b[0m\u001b[0;36m1\u001b[0m\u001b[0;34m,\u001b[0m \u001b[0;34m'Unexpected EOF'\u001b[0m\u001b[0;34m)\u001b[0m\u001b[0;34m:\u001b[0m\u001b[0;34m\u001b[0m\u001b[0;34m\u001b[0m\u001b[0m\n",
        "\u001b[0;32m~/miniconda3/envs/kmer-hashing/lib/python3.6/site-packages/OpenSSL/SSL.py\u001b[0m in \u001b[0;36mrecv_into\u001b[0;34m(self, buffer, nbytes, flags)\u001b[0m\n\u001b[1;32m   1811\u001b[0m             \u001b[0mresult\u001b[0m \u001b[0;34m=\u001b[0m \u001b[0m_lib\u001b[0m\u001b[0;34m.\u001b[0m\u001b[0mSSL_peek\u001b[0m\u001b[0;34m(\u001b[0m\u001b[0mself\u001b[0m\u001b[0;34m.\u001b[0m\u001b[0m_ssl\u001b[0m\u001b[0;34m,\u001b[0m \u001b[0mbuf\u001b[0m\u001b[0;34m,\u001b[0m \u001b[0mnbytes\u001b[0m\u001b[0;34m)\u001b[0m\u001b[0;34m\u001b[0m\u001b[0;34m\u001b[0m\u001b[0m\n\u001b[1;32m   1812\u001b[0m         \u001b[0;32melse\u001b[0m\u001b[0;34m:\u001b[0m\u001b[0;34m\u001b[0m\u001b[0;34m\u001b[0m\u001b[0m\n\u001b[0;32m-> 1813\u001b[0;31m             \u001b[0mresult\u001b[0m \u001b[0;34m=\u001b[0m \u001b[0m_lib\u001b[0m\u001b[0;34m.\u001b[0m\u001b[0mSSL_read\u001b[0m\u001b[0;34m(\u001b[0m\u001b[0mself\u001b[0m\u001b[0;34m.\u001b[0m\u001b[0m_ssl\u001b[0m\u001b[0;34m,\u001b[0m \u001b[0mbuf\u001b[0m\u001b[0;34m,\u001b[0m \u001b[0mnbytes\u001b[0m\u001b[0;34m)\u001b[0m\u001b[0;34m\u001b[0m\u001b[0;34m\u001b[0m\u001b[0m\n\u001b[0m\u001b[1;32m   1814\u001b[0m         \u001b[0mself\u001b[0m\u001b[0;34m.\u001b[0m\u001b[0m_raise_ssl_error\u001b[0m\u001b[0;34m(\u001b[0m\u001b[0mself\u001b[0m\u001b[0;34m.\u001b[0m\u001b[0m_ssl\u001b[0m\u001b[0;34m,\u001b[0m \u001b[0mresult\u001b[0m\u001b[0;34m)\u001b[0m\u001b[0;34m\u001b[0m\u001b[0;34m\u001b[0m\u001b[0m\n\u001b[1;32m   1815\u001b[0m \u001b[0;34m\u001b[0m\u001b[0m\n",
        "\u001b[0;31mKeyboardInterrupt\u001b[0m: "
       ]
      }
     ],
     "persistentId": "2ae37154-2adb-435f-92a5-31ff4f713183",
     "text": "protein_coding_kmers = set(itertools.chain(*[kmerize(get_sequence(transcript_id, 'cds'), ksize) for transcript_id, seq in protein_coding]))\nprint(len(protein_coding_kmers))"
    },
    "executionTime": "2019-09-05T13:54:33.832Z"
   },
   {
    "cell": {
     "executionCount": 35,
     "executionEventId": "12b9d430-c1ec-4222-8da1-9e8e51ec5534",
     "hasError": true,
     "id": "9aeec160-0df0-47fb-a7f0-d65c0a19ac25",
     "outputs": [
      {
       "ename": "TypeError",
       "evalue": "get_sequence() got multiple values for argument 'verbose'",
       "output_type": "error",
       "traceback": [
        "\u001b[0;31m---------------------------------------------------------------------------\u001b[0m",
        "\u001b[0;31mTypeError\u001b[0m                                 Traceback (most recent call last)",
        "\u001b[0;32m<ipython-input-35-12088fe9ec18>\u001b[0m in \u001b[0;36m<module>\u001b[0;34m()\u001b[0m\n\u001b[0;32m----> 1\u001b[0;31m \u001b[0mprotein_coding_cds_only\u001b[0m \u001b[0;34m=\u001b[0m \u001b[0;34m[\u001b[0m\u001b[0;34m(\u001b[0m\u001b[0mtranscript_id\u001b[0m\u001b[0;34m,\u001b[0m \u001b[0mget_sequence\u001b[0m\u001b[0;34m(\u001b[0m\u001b[0mtranscript_id\u001b[0m\u001b[0;34m,\u001b[0m \u001b[0;34m'cds'\u001b[0m\u001b[0;34m,\u001b[0m \u001b[0mverbose\u001b[0m\u001b[0;34m=\u001b[0m\u001b[0;32mFalse\u001b[0m\u001b[0;34m)\u001b[0m\u001b[0;34m)\u001b[0m \u001b[0;32mfor\u001b[0m \u001b[0mtranscript_id\u001b[0m\u001b[0;34m,\u001b[0m \u001b[0mseq\u001b[0m \u001b[0;32min\u001b[0m \u001b[0mprotein_coding\u001b[0m\u001b[0;34m]\u001b[0m\u001b[0;34m\u001b[0m\u001b[0;34m\u001b[0m\u001b[0m\n\u001b[0m\u001b[1;32m      2\u001b[0m \u001b[0mlen\u001b[0m\u001b[0;34m(\u001b[0m\u001b[0mprotein_coding_cds_only\u001b[0m\u001b[0;34m)\u001b[0m\u001b[0;34m\u001b[0m\u001b[0;34m\u001b[0m\u001b[0m\n",
        "\u001b[0;32m<ipython-input-35-12088fe9ec18>\u001b[0m in \u001b[0;36m<listcomp>\u001b[0;34m(.0)\u001b[0m\n\u001b[0;32m----> 1\u001b[0;31m \u001b[0mprotein_coding_cds_only\u001b[0m \u001b[0;34m=\u001b[0m \u001b[0;34m[\u001b[0m\u001b[0;34m(\u001b[0m\u001b[0mtranscript_id\u001b[0m\u001b[0;34m,\u001b[0m \u001b[0mget_sequence\u001b[0m\u001b[0;34m(\u001b[0m\u001b[0mtranscript_id\u001b[0m\u001b[0;34m,\u001b[0m \u001b[0;34m'cds'\u001b[0m\u001b[0;34m,\u001b[0m \u001b[0mverbose\u001b[0m\u001b[0;34m=\u001b[0m\u001b[0;32mFalse\u001b[0m\u001b[0;34m)\u001b[0m\u001b[0;34m)\u001b[0m \u001b[0;32mfor\u001b[0m \u001b[0mtranscript_id\u001b[0m\u001b[0;34m,\u001b[0m \u001b[0mseq\u001b[0m \u001b[0;32min\u001b[0m \u001b[0mprotein_coding\u001b[0m\u001b[0;34m]\u001b[0m\u001b[0;34m\u001b[0m\u001b[0;34m\u001b[0m\u001b[0m\n\u001b[0m\u001b[1;32m      2\u001b[0m \u001b[0mlen\u001b[0m\u001b[0;34m(\u001b[0m\u001b[0mprotein_coding_cds_only\u001b[0m\u001b[0;34m)\u001b[0m\u001b[0;34m\u001b[0m\u001b[0;34m\u001b[0m\u001b[0m\n",
        "\u001b[0;31mTypeError\u001b[0m: get_sequence() got multiple values for argument 'verbose'"
       ]
      }
     ],
     "persistentId": "a3217612-1e52-4db6-8b29-7080816162d8",
     "text": "protein_coding_cds_only = [(transcript_id, get_sequence(transcript_id, 'cds', verbose=False)) for transcript_id, seq in protein_coding]\nlen(protein_coding_cds_only)"
    },
    "executionTime": "2019-09-05T13:55:45.592Z"
   },
   {
    "cell": {
     "executionCount": 36,
     "executionEventId": "c4e35788-35cb-49ca-8633-37bbda877a75",
     "hasError": false,
     "id": "9aeec160-0df0-47fb-a7f0-d65c0a19ac25",
     "outputs": [
      {
       "data": {
        "text/plain": "100"
       },
       "execution_count": 36,
       "metadata": {},
       "output_type": "execute_result"
      }
     ],
     "persistentId": "a3217612-1e52-4db6-8b29-7080816162d8",
     "text": "protein_coding_cds_only = [(transcript_id, get_sequence(transcript_id, type='cds', verbose=False)) for transcript_id, seq in protein_coding]\nlen(protein_coding_cds_only)"
    },
    "executionTime": "2019-09-05T13:57:21.505Z"
   },
   {
    "cell": {
     "executionCount": 37,
     "executionEventId": "2924c46f-e1e9-47ed-a44c-cb1e809adde4",
     "hasError": false,
     "id": "4387633f-d12f-453f-b045-d3546a82879b",
     "outputs": [
      {
       "name": "stdout",
       "output_type": "stream",
       "text": "15500\n"
      }
     ],
     "persistentId": "2ae37154-2adb-435f-92a5-31ff4f713183",
     "text": "protein_coding_kmers = set(itertools.chain(*[kmerize(seq, ksize) for transcript_id, seq in protein_coding_cds_only]))\nprint(len(protein_coding_kmers))"
    },
    "executionTime": "2019-09-05T13:57:34.352Z"
   },
   {
    "cell": {
     "executionCount": 38,
     "executionEventId": "528c9360-ffbc-4e93-b630-6990228ea6ad",
     "hasError": false,
     "id": "e993fe13-b894-42bc-a89c-be6b5660df44",
     "outputs": [],
     "persistentId": "7da06333-e82b-43dc-a224-ab6fdaf3026a",
     "text": "import itertools\nimport random\n\nfrom Bio import SeqIO\nimport pandas as pd\n\nfrom khtools.ensembl import get_sequence\nfrom khtools.compare_peptide import kmerize, jaccardize"
    },
    "executionTime": "2019-09-05T13:57:49.484Z"
   },
   {
    "cell": {
     "executionCount": 39,
     "executionEventId": "cb5a9ba0-142d-4322-ac4a-3cd5b7bca971",
     "hasError": false,
     "id": "dfd153a6-b6cd-4936-9a52-df82500b9d73",
     "outputs": [
      {
       "data": {
        "text/plain": "0.9605316149818768"
       },
       "execution_count": 39,
       "metadata": {},
       "output_type": "execute_result"
      }
     ],
     "persistentId": "634d3b76-32c7-43f4-a674-a927e13e99b3",
     "text": "jaccardize(protein_coding_kmers, lincrna_kmers)"
    },
    "executionTime": "2019-09-05T13:57:59.141Z"
   },
   {
    "cell": {
     "executionCount": 40,
     "executionEventId": "dde8106a-1f66-44b4-a890-a70329d3a869",
     "hasError": false,
     "id": "fd2702bd-fd9c-4d7c-b5d4-fbea547271a6",
     "outputs": [
      {
       "name": "stdout",
       "output_type": "stream",
       "text": "total possible k-mers of size 8 65536\nlen(lincrna_kmers): 42087\nlen(protein_coding_kmers): 43862\njaccardize(protein_coding_kmers, lincrna_kmers): 0.7541521134792216\ntotal possible k-mers of size 9 262144\nlen(lincrna_kmers): 75589\nlen(protein_coding_kmers): 78677\njaccardize(protein_coding_kmers, lincrna_kmers): 0.4170183492307082\ntotal possible k-mers of size 10 1048576\nlen(lincrna_kmers): 95366\nlen(protein_coding_kmers): 100038\njaccardize(protein_coding_kmers, lincrna_kmers): 0.16412557934693706\ntotal possible k-mers of size 11 4194304\nlen(lincrna_kmers): 102936\nlen(protein_coding_kmers): 108480\njaccardize(protein_coding_kmers, lincrna_kmers): 0.052896945674982515\ntotal possible k-mers of size 12 16777216\nlen(lincrna_kmers): 105511\nlen(protein_coding_kmers): 111229\njaccardize(protein_coding_kmers, lincrna_kmers): 0.015334893992095611\ntotal possible k-mers of size 13 67108864\nlen(lincrna_kmers): 106430\nlen(protein_coding_kmers): 112033\njaccardize(protein_coding_kmers, lincrna_kmers): 0.004265714554167058\ntotal possible k-mers of size 14 268435456\nlen(lincrna_kmers): 106784\nlen(protein_coding_kmers): 112257\njaccardize(protein_coding_kmers, lincrna_kmers): 0.0012548696433922685\ntotal possible k-mers of size 15 1073741824\nlen(lincrna_kmers): 106955\nlen(protein_coding_kmers): 112306\njaccardize(protein_coding_kmers, lincrna_kmers): 0.00047683605254546306\n"
      }
     ],
     "persistentId": "f732ef44-dbbc-4e4b-a370-d38eb57c5bd2",
     "text": "ksizes = 8, 9, 10, 11, 12, 13, 14, 15\n\nfor ksize in ksizes:\n    print(f\"total possible k-mers of size {ksize}\", 4**ksize)\n    lincrna_kmers = set(itertools.chain(*[kmerize(seq, ksize) for transcript_id, seq in lincRNA]))\n    print(f'len(lincrna_kmers): {len(lincrna_kmers)}')\n    protein_coding_kmers = set(itertools.chain(*[kmerize(seq, ksize) for transcript_id, seq in protein_coding_cds_only]))\n    print(f\"len(protein_coding_kmers): {len(protein_coding_kmers)}\")\n    print(f\"jaccardize(protein_coding_kmers, lincrna_kmers): {jaccardize(protein_coding_kmers, lincrna_kmers)}\")"
    },
    "executionTime": "2019-09-05T13:59:45.403Z"
   },
   {
    "cell": {
     "executionCount": 41,
     "executionEventId": "515861f2-e409-4599-a69a-653d6606342d",
     "hasError": true,
     "id": "fd2702bd-fd9c-4d7c-b5d4-fbea547271a6",
     "outputs": [
      {
       "ename": "SyntaxError",
       "evalue": "f-string: empty expression not allowed (<ipython-input-41-5fe1cc2487a9>, line 18)",
       "output_type": "error",
       "traceback": [
        "\u001b[0;36m  File \u001b[0;32m\"<ipython-input-41-5fe1cc2487a9>\"\u001b[0;36m, line \u001b[0;32m18\u001b[0m\n\u001b[0;31m    print(f\"jaccardize(protein_coding_kmers, lincrna_kmers): {}\")\u001b[0m\n\u001b[0m         ^\u001b[0m\n\u001b[0;31mSyntaxError\u001b[0m\u001b[0;31m:\u001b[0m f-string: empty expression not allowed\n"
       ]
      }
     ],
     "persistentId": "f732ef44-dbbc-4e4b-a370-d38eb57c5bd2",
     "text": "ksizes = range(8, 32)\n\nlines = []\nfor ksize in ksizes:\n    n_possible_kmers = 4**ksize\n    \n    print(f\"total possible k-mers of size {ksize}\", n_possible_kmers)\n    lincrna_kmers = set(itertools.chain(*[kmerize(seq, ksize) for transcript_id, seq in lincRNA]))\n    n_lincrna_kmers = len(lincrna_kmers)\n    print(f'len(lincrna_kmers): {n_lincrna_kmers}')\n    \n    # Protein-coding\n    protein_coding_kmers = set(itertools.chain(*[kmerize(seq, ksize) for transcript_id, seq in protein_coding_cds_only]))\n    n_protein_coding_kmers = len(protein_coding_kmers)\n    print(f\"len(protein_coding_kmers): {n_protein_coding_kmers}\")\n    \n    jaccard = jaccardize(protein_coding_kmers, lincrna_kmers)\n    print(f\"jaccardize(protein_coding_kmers, lincrna_kmers): {}\")\n    \n    lines.append(ksize, n_possible_kmers, n_lincrna_kmers, n_protein_coding_kmers, jaccard)\n    \nprotein_coding_vs_lncrna_df = pd.DataFrame(lines, columns=['ksize', 'n_possible_kmers', 'n_lincrna_kmers', 'n_protein_coding_kmers', 'jaccard'])\nprint(protein_coding_vs_lncrna_df.shape)\nprotein_coding_vs_lncrna_df.head()"
    },
    "executionTime": "2019-09-05T14:03:00.169Z"
   },
   {
    "cell": {
     "executionCount": 42,
     "executionEventId": "133d216a-5be4-4390-9da6-52739c328b57",
     "hasError": true,
     "id": "fd2702bd-fd9c-4d7c-b5d4-fbea547271a6",
     "outputs": [
      {
       "name": "stdout",
       "output_type": "stream",
       "text": "total possible k-mers of size 8 65536\nlen(lincrna_kmers): 42087\nlen(protein_coding_kmers): 43862\njaccardize(protein_coding_kmers, lincrna_kmers): 0.7541521134792216\n"
      },
      {
       "ename": "TypeError",
       "evalue": "append() takes exactly one argument (5 given)",
       "output_type": "error",
       "traceback": [
        "\u001b[0;31m---------------------------------------------------------------------------\u001b[0m",
        "\u001b[0;31mTypeError\u001b[0m                                 Traceback (most recent call last)",
        "\u001b[0;32m<ipython-input-42-f454ee1393b0>\u001b[0m in \u001b[0;36m<module>\u001b[0;34m()\u001b[0m\n\u001b[1;32m     18\u001b[0m     \u001b[0mprint\u001b[0m\u001b[0;34m(\u001b[0m\u001b[0;34mf\"jaccardize(protein_coding_kmers, lincrna_kmers): {jaccard}\"\u001b[0m\u001b[0;34m)\u001b[0m\u001b[0;34m\u001b[0m\u001b[0;34m\u001b[0m\u001b[0m\n\u001b[1;32m     19\u001b[0m \u001b[0;34m\u001b[0m\u001b[0m\n\u001b[0;32m---> 20\u001b[0;31m     \u001b[0mlines\u001b[0m\u001b[0;34m.\u001b[0m\u001b[0mappend\u001b[0m\u001b[0;34m(\u001b[0m\u001b[0mksize\u001b[0m\u001b[0;34m,\u001b[0m \u001b[0mn_possible_kmers\u001b[0m\u001b[0;34m,\u001b[0m \u001b[0mn_lincrna_kmers\u001b[0m\u001b[0;34m,\u001b[0m \u001b[0mn_protein_coding_kmers\u001b[0m\u001b[0;34m,\u001b[0m \u001b[0mjaccard\u001b[0m\u001b[0;34m)\u001b[0m\u001b[0;34m\u001b[0m\u001b[0;34m\u001b[0m\u001b[0m\n\u001b[0m\u001b[1;32m     21\u001b[0m \u001b[0;34m\u001b[0m\u001b[0m\n\u001b[1;32m     22\u001b[0m \u001b[0mprotein_coding_vs_lncrna_df\u001b[0m \u001b[0;34m=\u001b[0m \u001b[0mpd\u001b[0m\u001b[0;34m.\u001b[0m\u001b[0mDataFrame\u001b[0m\u001b[0;34m(\u001b[0m\u001b[0mlines\u001b[0m\u001b[0;34m,\u001b[0m \u001b[0mcolumns\u001b[0m\u001b[0;34m=\u001b[0m\u001b[0;34m[\u001b[0m\u001b[0;34m'ksize'\u001b[0m\u001b[0;34m,\u001b[0m \u001b[0;34m'n_possible_kmers'\u001b[0m\u001b[0;34m,\u001b[0m \u001b[0;34m'n_lincrna_kmers'\u001b[0m\u001b[0;34m,\u001b[0m \u001b[0;34m'n_protein_coding_kmers'\u001b[0m\u001b[0;34m,\u001b[0m \u001b[0;34m'jaccard'\u001b[0m\u001b[0;34m]\u001b[0m\u001b[0;34m)\u001b[0m\u001b[0;34m\u001b[0m\u001b[0;34m\u001b[0m\u001b[0m\n",
        "\u001b[0;31mTypeError\u001b[0m: append() takes exactly one argument (5 given)"
       ]
      }
     ],
     "persistentId": "f732ef44-dbbc-4e4b-a370-d38eb57c5bd2",
     "text": "ksizes = range(8, 32)\n\nlines = []\nfor ksize in ksizes:\n    n_possible_kmers = 4**ksize\n    \n    print(f\"total possible k-mers of size {ksize}\", n_possible_kmers)\n    lincrna_kmers = set(itertools.chain(*[kmerize(seq, ksize) for transcript_id, seq in lincRNA]))\n    n_lincrna_kmers = len(lincrna_kmers)\n    print(f'len(lincrna_kmers): {n_lincrna_kmers}')\n    \n    # Protein-coding\n    protein_coding_kmers = set(itertools.chain(*[kmerize(seq, ksize) for transcript_id, seq in protein_coding_cds_only]))\n    n_protein_coding_kmers = len(protein_coding_kmers)\n    print(f\"len(protein_coding_kmers): {n_protein_coding_kmers}\")\n    \n    jaccard = jaccardize(protein_coding_kmers, lincrna_kmers)\n    print(f\"jaccardize(protein_coding_kmers, lincrna_kmers): {jaccard}\")\n    \n    lines.append(ksize, n_possible_kmers, n_lincrna_kmers, n_protein_coding_kmers, jaccard)\n    \nprotein_coding_vs_lncrna_df = pd.DataFrame(lines, columns=['ksize', 'n_possible_kmers', 'n_lincrna_kmers', 'n_protein_coding_kmers', 'jaccard'])\nprint(protein_coding_vs_lncrna_df.shape)\nprotein_coding_vs_lncrna_df.head()"
    },
    "executionTime": "2019-09-05T14:03:10.982Z"
   },
   {
    "cell": {
     "executionCount": 43,
     "executionEventId": "9460b1fb-0c84-4f23-8687-50e7470f86d6",
     "hasError": false,
     "id": "fd2702bd-fd9c-4d7c-b5d4-fbea547271a6",
     "outputs": [
      {
       "name": "stdout",
       "output_type": "stream",
       "text": "total possible k-mers of size 8 65536\nlen(lincrna_kmers): 42087\nlen(protein_coding_kmers): 43862\njaccardize(protein_coding_kmers, lincrna_kmers): 0.7541521134792216\ntotal possible k-mers of size 9 262144\nlen(lincrna_kmers): 75589\nlen(protein_coding_kmers): 78677\njaccardize(protein_coding_kmers, lincrna_kmers): 0.4170183492307082\ntotal possible k-mers of size 10 1048576\nlen(lincrna_kmers): 95366\nlen(protein_coding_kmers): 100038\njaccardize(protein_coding_kmers, lincrna_kmers): 0.16412557934693706\ntotal possible k-mers of size 11 4194304\nlen(lincrna_kmers): 102936\nlen(protein_coding_kmers): 108480\njaccardize(protein_coding_kmers, lincrna_kmers): 0.052896945674982515\ntotal possible k-mers of size 12 16777216\nlen(lincrna_kmers): 105511\nlen(protein_coding_kmers): 111229\njaccardize(protein_coding_kmers, lincrna_kmers): 0.015334893992095611\ntotal possible k-mers of size 13 67108864\nlen(lincrna_kmers): 106430\nlen(protein_coding_kmers): 112033\njaccardize(protein_coding_kmers, lincrna_kmers): 0.004265714554167058\ntotal possible k-mers of size 14 268435456\nlen(lincrna_kmers): 106784\nlen(protein_coding_kmers): 112257\njaccardize(protein_coding_kmers, lincrna_kmers): 0.0012548696433922685\ntotal possible k-mers of size 15 1073741824\nlen(lincrna_kmers): 106955\nlen(protein_coding_kmers): 112306\njaccardize(protein_coding_kmers, lincrna_kmers): 0.00047683605254546306\ntotal possible k-mers of size 16 4294967296\nlen(lincrna_kmers): 107076\nlen(protein_coding_kmers): 112286\njaccardize(protein_coding_kmers, lincrna_kmers): 0.0001587657364862341\ntotal possible k-mers of size 17 17179869184\nlen(lincrna_kmers): 107145\nlen(protein_coding_kmers): 112246\njaccardize(protein_coding_kmers, lincrna_kmers): 5.599888002239955e-05\ntotal possible k-mers of size 18 68719476736\nlen(lincrna_kmers): 107182\nlen(protein_coding_kmers): 112188\njaccardize(protein_coding_kmers, lincrna_kmers): 1.865984960161221e-05\ntotal possible k-mers of size 19 274877906944\nlen(lincrna_kmers): 107204\nlen(protein_coding_kmers): 112116\njaccardize(protein_coding_kmers, lincrna_kmers): 0.0\ntotal possible k-mers of size 20 1099511627776\nlen(lincrna_kmers): 107210\nlen(protein_coding_kmers): 112042\njaccardize(protein_coding_kmers, lincrna_kmers): 0.0\ntotal possible k-mers of size 21 4398046511104\nlen(lincrna_kmers): 107206\nlen(protein_coding_kmers): 111965\njaccardize(protein_coding_kmers, lincrna_kmers): 0.0\ntotal possible k-mers of size 22 17592186044416\nlen(lincrna_kmers): 107192\nlen(protein_coding_kmers): 111882\njaccardize(protein_coding_kmers, lincrna_kmers): 0.0\ntotal possible k-mers of size 23 70368744177664\nlen(lincrna_kmers): 107162\nlen(protein_coding_kmers): 111798\njaccardize(protein_coding_kmers, lincrna_kmers): 0.0\ntotal possible k-mers of size 24 281474976710656\nlen(lincrna_kmers): 107118\nlen(protein_coding_kmers): 111712\njaccardize(protein_coding_kmers, lincrna_kmers): 0.0\ntotal possible k-mers of size 25 1125899906842624\nlen(lincrna_kmers): 107070\nlen(protein_coding_kmers): 111622\njaccardize(protein_coding_kmers, lincrna_kmers): 0.0\ntotal possible k-mers of size 26 4503599627370496\nlen(lincrna_kmers): 107017\nlen(protein_coding_kmers): 111532\njaccardize(protein_coding_kmers, lincrna_kmers): 0.0\ntotal possible k-mers of size 27 18014398509481984\nlen(lincrna_kmers): 106961\nlen(protein_coding_kmers): 111441\njaccardize(protein_coding_kmers, lincrna_kmers): 0.0\ntotal possible k-mers of size 28 72057594037927936\nlen(lincrna_kmers): 106898\nlen(protein_coding_kmers): 111350\njaccardize(protein_coding_kmers, lincrna_kmers): 0.0\ntotal possible k-mers of size 29 288230376151711744\nlen(lincrna_kmers): 106831\nlen(protein_coding_kmers): 111257\njaccardize(protein_coding_kmers, lincrna_kmers): 0.0\ntotal possible k-mers of size 30 1152921504606846976\nlen(lincrna_kmers): 106761\nlen(protein_coding_kmers): 111164\njaccardize(protein_coding_kmers, lincrna_kmers): 0.0\ntotal possible k-mers of size 31 4611686018427387904\nlen(lincrna_kmers): 106689\nlen(protein_coding_kmers): 111071\njaccardize(protein_coding_kmers, lincrna_kmers): 0.0\n(24, 5)\n"
      },
      {
       "data": {
        "text/html": "<div>\n<style scoped>\n    .dataframe tbody tr th:only-of-type {\n        vertical-align: middle;\n    }\n\n    .dataframe tbody tr th {\n        vertical-align: top;\n    }\n\n    .dataframe thead th {\n        text-align: right;\n    }\n</style>\n<table border=\"1\" class=\"dataframe\">\n  <thead>\n    <tr style=\"text-align: right;\">\n      <th></th>\n      <th>ksize</th>\n      <th>n_possible_kmers</th>\n      <th>n_lincrna_kmers</th>\n      <th>n_protein_coding_kmers</th>\n      <th>jaccard</th>\n    </tr>\n  </thead>\n  <tbody>\n    <tr>\n      <th>0</th>\n      <td>8</td>\n      <td>65536</td>\n      <td>42087</td>\n      <td>43862</td>\n      <td>0.754152</td>\n    </tr>\n    <tr>\n      <th>1</th>\n      <td>9</td>\n      <td>262144</td>\n      <td>75589</td>\n      <td>78677</td>\n      <td>0.417018</td>\n    </tr>\n    <tr>\n      <th>2</th>\n      <td>10</td>\n      <td>1048576</td>\n      <td>95366</td>\n      <td>100038</td>\n      <td>0.164126</td>\n    </tr>\n    <tr>\n      <th>3</th>\n      <td>11</td>\n      <td>4194304</td>\n      <td>102936</td>\n      <td>108480</td>\n      <td>0.052897</td>\n    </tr>\n    <tr>\n      <th>4</th>\n      <td>12</td>\n      <td>16777216</td>\n      <td>105511</td>\n      <td>111229</td>\n      <td>0.015335</td>\n    </tr>\n  </tbody>\n</table>\n</div>",
        "text/plain": "   ksize  n_possible_kmers  n_lincrna_kmers  n_protein_coding_kmers   jaccard\n0      8             65536            42087                   43862  0.754152\n1      9            262144            75589                   78677  0.417018\n2     10           1048576            95366                  100038  0.164126\n3     11           4194304           102936                  108480  0.052897\n4     12          16777216           105511                  111229  0.015335"
       },
       "execution_count": 43,
       "metadata": {},
       "output_type": "execute_result"
      }
     ],
     "persistentId": "f732ef44-dbbc-4e4b-a370-d38eb57c5bd2",
     "text": "ksizes = range(8, 32)\n\nlines = []\nfor ksize in ksizes:\n    n_possible_kmers = 4**ksize\n    \n    print(f\"total possible k-mers of size {ksize}\", n_possible_kmers)\n    lincrna_kmers = set(itertools.chain(*[kmerize(seq, ksize) for transcript_id, seq in lincRNA]))\n    n_lincrna_kmers = len(lincrna_kmers)\n    print(f'len(lincrna_kmers): {n_lincrna_kmers}')\n    \n    # Protein-coding\n    protein_coding_kmers = set(itertools.chain(*[kmerize(seq, ksize) for transcript_id, seq in protein_coding_cds_only]))\n    n_protein_coding_kmers = len(protein_coding_kmers)\n    print(f\"len(protein_coding_kmers): {n_protein_coding_kmers}\")\n    \n    jaccard = jaccardize(protein_coding_kmers, lincrna_kmers)\n    print(f\"jaccardize(protein_coding_kmers, lincrna_kmers): {jaccard}\")\n    \n    lines.append([ksize, n_possible_kmers, n_lincrna_kmers, n_protein_coding_kmers, jaccard])\n    \nprotein_coding_vs_lncrna_df = pd.DataFrame(lines, columns=['ksize', 'n_possible_kmers', 'n_lincrna_kmers', 'n_protein_coding_kmers', 'jaccard'])\nprint(protein_coding_vs_lncrna_df.shape)\nprotein_coding_vs_lncrna_df.head()"
    },
    "executionTime": "2019-09-05T14:03:17.824Z"
   },
   {
    "cell": {
     "executionCount": 44,
     "executionEventId": "7fc8df11-8f04-429b-abed-c5f10be27670",
     "hasError": false,
     "id": "e993fe13-b894-42bc-a89c-be6b5660df44",
     "outputs": [],
     "persistentId": "7da06333-e82b-43dc-a224-ab6fdaf3026a",
     "text": "import itertools\nimport random\n\nfrom Bio import SeqIO\nimport pandas as pd\n\nimport seaborn as sns\n\nfrom khtools.ensembl import get_sequence\nfrom khtools.compare_peptide import kmerize, jaccardize"
    },
    "executionTime": "2019-09-05T14:03:41.174Z"
   },
   {
    "cell": {
     "executionCount": 45,
     "executionEventId": "74802862-fbf4-4e68-99c8-cb8b88fbbbab",
     "hasError": false,
     "id": "e64102f7-aeec-4b9a-8620-d85692fa2801",
     "outputs": [
      {
       "name": "stderr",
       "output_type": "stream",
       "text": "/home/olga/miniconda3/envs/kmer-hashing/lib/python3.6/site-packages/seaborn/categorical.py:3666: UserWarning: The `factorplot` function has been renamed to `catplot`. The original name will be removed in a future release. Please update your code. Note that the default `kind` in `factorplot` (`'point'`) has changed `'strip'` in `catplot`.\n  warnings.warn(msg)\n"
      },
      {
       "data": {
        "text/plain": "<seaborn.axisgrid.FacetGrid at 0x7f2672a5fe48>"
       },
       "execution_count": 45,
       "metadata": {},
       "output_type": "execute_result"
      },
      {
       "data": {
        "image/png": "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\n",
        "text/plain": "<Figure size 360x360 with 1 Axes>"
       },
       "metadata": {
        "needs_background": "light"
       },
       "output_type": "display_data"
      }
     ],
     "persistentId": "6ffe7471-0adf-4be5-a22d-cd75ae8af89f",
     "text": "sns.factorplot(x='ksize', y='jaccard', data=protein_coding_vs_lncrna_df)"
    },
    "executionTime": "2019-09-05T14:04:10.480Z"
   },
   {
    "cell": {
     "executionCount": 46,
     "executionEventId": "10831b30-eec2-4cb6-9463-44564c2d939d",
     "hasError": false,
     "id": "fd2702bd-fd9c-4d7c-b5d4-fbea547271a6",
     "outputs": [
      {
       "name": "stdout",
       "output_type": "stream",
       "text": "total possible k-mers of size 8 65536\nlen(lincrna_kmers): 42087\nlen(protein_coding_kmers): 43862\njaccardize(protein_coding_kmers, lincrna_kmers): 0.7541521134792216\ntotal possible k-mers of size 9 262144\nlen(lincrna_kmers): 75589\nlen(protein_coding_kmers): 78677\njaccardize(protein_coding_kmers, lincrna_kmers): 0.4170183492307082\ntotal possible k-mers of size 10 1048576\nlen(lincrna_kmers): 95366\nlen(protein_coding_kmers): 100038\njaccardize(protein_coding_kmers, lincrna_kmers): 0.16412557934693706\ntotal possible k-mers of size 11 4194304\nlen(lincrna_kmers): 102936\nlen(protein_coding_kmers): 108480\njaccardize(protein_coding_kmers, lincrna_kmers): 0.052896945674982515\ntotal possible k-mers of size 12 16777216\nlen(lincrna_kmers): 105511\nlen(protein_coding_kmers): 111229\njaccardize(protein_coding_kmers, lincrna_kmers): 0.015334893992095611\ntotal possible k-mers of size 13 67108864\nlen(lincrna_kmers): 106430\nlen(protein_coding_kmers): 112033\njaccardize(protein_coding_kmers, lincrna_kmers): 0.004265714554167058\ntotal possible k-mers of size 14 268435456\nlen(lincrna_kmers): 106784\nlen(protein_coding_kmers): 112257\njaccardize(protein_coding_kmers, lincrna_kmers): 0.0012548696433922685\ntotal possible k-mers of size 15 1073741824\nlen(lincrna_kmers): 106955\nlen(protein_coding_kmers): 112306\njaccardize(protein_coding_kmers, lincrna_kmers): 0.00047683605254546306\ntotal possible k-mers of size 16 4294967296\nlen(lincrna_kmers): 107076\nlen(protein_coding_kmers): 112286\njaccardize(protein_coding_kmers, lincrna_kmers): 0.0001587657364862341\ntotal possible k-mers of size 17 17179869184\nlen(lincrna_kmers): 107145\nlen(protein_coding_kmers): 112246\njaccardize(protein_coding_kmers, lincrna_kmers): 5.599888002239955e-05\ntotal possible k-mers of size 18 68719476736\nlen(lincrna_kmers): 107182\nlen(protein_coding_kmers): 112188\njaccardize(protein_coding_kmers, lincrna_kmers): 1.865984960161221e-05\ntotal possible k-mers of size 19 274877906944\nlen(lincrna_kmers): 107204\nlen(protein_coding_kmers): 112116\njaccardize(protein_coding_kmers, lincrna_kmers): 0.0\ntotal possible k-mers of size 20 1099511627776\nlen(lincrna_kmers): 107210\nlen(protein_coding_kmers): 112042\njaccardize(protein_coding_kmers, lincrna_kmers): 0.0\ntotal possible k-mers of size 21 4398046511104\nlen(lincrna_kmers): 107206\nlen(protein_coding_kmers): 111965\njaccardize(protein_coding_kmers, lincrna_kmers): 0.0\n(14, 5)\n"
      },
      {
       "data": {
        "text/html": "<div>\n<style scoped>\n    .dataframe tbody tr th:only-of-type {\n        vertical-align: middle;\n    }\n\n    .dataframe tbody tr th {\n        vertical-align: top;\n    }\n\n    .dataframe thead th {\n        text-align: right;\n    }\n</style>\n<table border=\"1\" class=\"dataframe\">\n  <thead>\n    <tr style=\"text-align: right;\">\n      <th></th>\n      <th>ksize</th>\n      <th>n_possible_kmers</th>\n      <th>n_lincrna_kmers</th>\n      <th>n_protein_coding_kmers</th>\n      <th>jaccard</th>\n    </tr>\n  </thead>\n  <tbody>\n    <tr>\n      <th>0</th>\n      <td>8</td>\n      <td>65536</td>\n      <td>42087</td>\n      <td>43862</td>\n      <td>0.754152</td>\n    </tr>\n    <tr>\n      <th>1</th>\n      <td>9</td>\n      <td>262144</td>\n      <td>75589</td>\n      <td>78677</td>\n      <td>0.417018</td>\n    </tr>\n    <tr>\n      <th>2</th>\n      <td>10</td>\n      <td>1048576</td>\n      <td>95366</td>\n      <td>100038</td>\n      <td>0.164126</td>\n    </tr>\n    <tr>\n      <th>3</th>\n      <td>11</td>\n      <td>4194304</td>\n      <td>102936</td>\n      <td>108480</td>\n      <td>0.052897</td>\n    </tr>\n    <tr>\n      <th>4</th>\n      <td>12</td>\n      <td>16777216</td>\n      <td>105511</td>\n      <td>111229</td>\n      <td>0.015335</td>\n    </tr>\n  </tbody>\n</table>\n</div>",
        "text/plain": "   ksize  n_possible_kmers  n_lincrna_kmers  n_protein_coding_kmers   jaccard\n0      8             65536            42087                   43862  0.754152\n1      9            262144            75589                   78677  0.417018\n2     10           1048576            95366                  100038  0.164126\n3     11           4194304           102936                  108480  0.052897\n4     12          16777216           105511                  111229  0.015335"
       },
       "execution_count": 46,
       "metadata": {},
       "output_type": "execute_result"
      }
     ],
     "persistentId": "f732ef44-dbbc-4e4b-a370-d38eb57c5bd2",
     "text": "ksizes = range(8, 22)\n\nlines = []\nfor ksize in ksizes:\n    n_possible_kmers = 4**ksize\n    \n    print(f\"total possible k-mers of size {ksize}\", n_possible_kmers)\n    lincrna_kmers = set(itertools.chain(*[kmerize(seq, ksize) for transcript_id, seq in lincRNA]))\n    n_lincrna_kmers = len(lincrna_kmers)\n    print(f'len(lincrna_kmers): {n_lincrna_kmers}')\n    \n    # Protein-coding\n    protein_coding_kmers = set(itertools.chain(*[kmerize(seq, ksize) for transcript_id, seq in protein_coding_cds_only]))\n    n_protein_coding_kmers = len(protein_coding_kmers)\n    print(f\"len(protein_coding_kmers): {n_protein_coding_kmers}\")\n    \n    jaccard = jaccardize(protein_coding_kmers, lincrna_kmers)\n    print(f\"jaccardize(protein_coding_kmers, lincrna_kmers): {jaccard}\")\n    \n    lines.append([ksize, n_possible_kmers, n_lincrna_kmers, n_protein_coding_kmers, jaccard])\n    \nprotein_coding_vs_lncrna_df = pd.DataFrame(lines, columns=['ksize', 'n_possible_kmers', 'n_lincrna_kmers', 'n_protein_coding_kmers', 'jaccard'])\nprint(protein_coding_vs_lncrna_df.shape)\nprotein_coding_vs_lncrna_df.head()"
    },
    "executionTime": "2019-09-05T14:05:09.438Z"
   },
   {
    "cell": {
     "executionCount": 47,
     "executionEventId": "d7e373ad-8baf-47b2-9337-431d709b967d",
     "hasError": false,
     "id": "e64102f7-aeec-4b9a-8620-d85692fa2801",
     "outputs": [
      {
       "name": "stderr",
       "output_type": "stream",
       "text": "/home/olga/miniconda3/envs/kmer-hashing/lib/python3.6/site-packages/seaborn/categorical.py:3666: UserWarning: The `factorplot` function has been renamed to `catplot`. The original name will be removed in a future release. Please update your code. Note that the default `kind` in `factorplot` (`'point'`) has changed `'strip'` in `catplot`.\n  warnings.warn(msg)\n"
      },
      {
       "data": {
        "text/plain": "<seaborn.axisgrid.FacetGrid at 0x7f2672c108d0>"
       },
       "execution_count": 47,
       "metadata": {},
       "output_type": "execute_result"
      },
      {
       "data": {
        "image/png": "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\n",
        "text/plain": "<Figure size 360x360 with 1 Axes>"
       },
       "metadata": {
        "needs_background": "light"
       },
       "output_type": "display_data"
      }
     ],
     "persistentId": "6ffe7471-0adf-4be5-a22d-cd75ae8af89f",
     "text": "sns.factorplot(x='ksize', y='jaccard', data=protein_coding_vs_lncrna_df)"
    },
    "executionTime": "2019-09-05T14:05:09.748Z"
   },
   {
    "cell": {
     "executionCount": 48,
     "executionEventId": "856a82cf-7f00-481f-9279-09a286da9fa4",
     "hasError": false,
     "id": "e993fe13-b894-42bc-a89c-be6b5660df44",
     "outputs": [],
     "persistentId": "7da06333-e82b-43dc-a224-ab6fdaf3026a",
     "text": "import itertools\nimport random\n\nfrom Bio import SeqIO\nimport matplotlib.pyplot as plt\nimport pandas as pd\nimport seaborn as sns\n\nfrom khtools.ensembl import get_sequence\nfrom khtools.compare_peptide import kmerize, jaccardize"
    },
    "executionTime": "2019-09-05T14:06:25.732Z"
   },
   {
    "cell": {
     "executionCount": 49,
     "executionEventId": "fed023fb-d008-4b0a-b3be-d340f223574e",
     "hasError": false,
     "id": "e64102f7-aeec-4b9a-8620-d85692fa2801",
     "outputs": [
      {
       "name": "stderr",
       "output_type": "stream",
       "text": "/home/olga/miniconda3/envs/kmer-hashing/lib/python3.6/site-packages/seaborn/categorical.py:3666: UserWarning: The `factorplot` function has been renamed to `catplot`. The original name will be removed in a future release. Please update your code. Note that the default `kind` in `factorplot` (`'point'`) has changed `'strip'` in `catplot`.\n  warnings.warn(msg)\n"
      },
      {
       "data": {
        "text/plain": "[Text(0.5, 1.0, 'K-mer similarity between lincRNA transcripts and protein-coding CDS')]"
       },
       "execution_count": 49,
       "metadata": {},
       "output_type": "execute_result"
      },
      {
       "data": {
        "image/png": "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\n",
        "text/plain": "<Figure size 360x360 with 1 Axes>"
       },
       "metadata": {
        "needs_background": "light"
       },
       "output_type": "display_data"
      }
     ],
     "persistentId": "6ffe7471-0adf-4be5-a22d-cd75ae8af89f",
     "text": "sns.factorplot(x='ksize', y='jaccard', data=protein_coding_vs_lncrna_df)\nax = plt.gca()\nax.set(title=\"K-mer similarity between lincRNA transcripts and protein-coding CDS\")"
    },
    "executionTime": "2019-09-05T14:06:31.858Z"
   },
   {
    "cell": {
     "executionCount": 50,
     "executionEventId": "e793c3b8-01e7-4757-9400-e455d560e322",
     "hasError": false,
     "id": "e64102f7-aeec-4b9a-8620-d85692fa2801",
     "outputs": [
      {
       "name": "stderr",
       "output_type": "stream",
       "text": "/home/olga/miniconda3/envs/kmer-hashing/lib/python3.6/site-packages/seaborn/categorical.py:3666: UserWarning: The `factorplot` function has been renamed to `catplot`. The original name will be removed in a future release. Please update your code. Note that the default `kind` in `factorplot` (`'point'`) has changed `'strip'` in `catplot`.\n  warnings.warn(msg)\n"
      },
      {
       "data": {
        "text/plain": "[Text(0.5, 1.0, 'K-mer similarity between lincRNA transcripts and protein-coding CDS\\nHuman Gencode V30, Ensembl v97')]"
       },
       "execution_count": 50,
       "metadata": {},
       "output_type": "execute_result"
      },
      {
       "data": {
        "image/png": "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\n",
        "text/plain": "<Figure size 360x360 with 1 Axes>"
       },
       "metadata": {
        "needs_background": "light"
       },
       "output_type": "display_data"
      }
     ],
     "persistentId": "6ffe7471-0adf-4be5-a22d-cd75ae8af89f",
     "text": "sns.factorplot(x='ksize', y='jaccard', data=protein_coding_vs_lncrna_df)\nax = plt.gca()\nax.set(title=\"K-mer similarity between lincRNA transcripts and protein-coding CDS\\nHuman Gencode V30, Ensembl v97\")"
    },
    "executionTime": "2019-09-05T14:07:41.613Z"
   },
   {
    "cell": {
     "executionCount": 51,
     "executionEventId": "e95661a1-4c06-4a72-93af-fc310fa8a14e",
     "hasError": false,
     "id": "0941b2fc-d8e0-43a9-ba48-4e45e47f7bd9",
     "outputs": [
      {
       "name": "stderr",
       "output_type": "stream",
       "text": "/home/olga/miniconda3/envs/kmer-hashing/lib/python3.6/site-packages/seaborn/categorical.py:3666: UserWarning: The `factorplot` function has been renamed to `catplot`. The original name will be removed in a future release. Please update your code. Note that the default `kind` in `factorplot` (`'point'`) has changed `'strip'` in `catplot`.\n  warnings.warn(msg)\n"
      },
      {
       "data": {
        "text/plain": "[Text(0.5, 1.0, 'K-mer similarity between lincRNA transcripts and protein-coding CDS\\nHuman Gencode V30, Ensembl v97')]"
       },
       "execution_count": 51,
       "metadata": {},
       "output_type": "execute_result"
      },
      {
       "data": {
        "image/png": "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\n",
        "text/plain": "<Figure size 360x360 with 1 Axes>"
       },
       "metadata": {
        "needs_background": "light"
       },
       "output_type": "display_data"
      }
     ],
     "persistentId": "0e89d563-4d0b-49cd-8d74-300f70bd180e",
     "text": "sns.factorplot(x='ksize', y='n_lincrna_kmers', data=protein_coding_vs_lncrna_df)\nax = plt.gca()\nax.set(title=\"K-mer similarity between lincRNA transcripts and protein-coding CDS\\nHuman Gencode V30, Ensembl v97\")"
    },
    "executionTime": "2019-09-05T14:10:27.414Z"
   },
   {
    "cell": {
     "executionCount": 52,
     "executionEventId": "b8eea0c6-86de-471b-8fdf-1784e01987b1",
     "hasError": false,
     "id": "06a9e192-0193-4bf4-aff8-465da1aee04b",
     "outputs": [
      {
       "name": "stderr",
       "output_type": "stream",
       "text": "/home/olga/miniconda3/envs/kmer-hashing/lib/python3.6/site-packages/seaborn/categorical.py:3666: UserWarning: The `factorplot` function has been renamed to `catplot`. The original name will be removed in a future release. Please update your code. Note that the default `kind` in `factorplot` (`'point'`) has changed `'strip'` in `catplot`.\n  warnings.warn(msg)\n"
      },
      {
       "data": {
        "text/plain": "[Text(0.5, 1.0, 'K-mer similarity between lincRNA transcripts and protein-coding CDS\\nHuman Gencode V30, Ensembl v97')]"
       },
       "execution_count": 52,
       "metadata": {},
       "output_type": "execute_result"
      },
      {
       "data": {
        "image/png": "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\n",
        "text/plain": "<Figure size 360x360 with 1 Axes>"
       },
       "metadata": {
        "needs_background": "light"
       },
       "output_type": "display_data"
      }
     ],
     "persistentId": "da9216bc-dad1-4cde-adbc-318d20c1f358",
     "text": "sns.factorplot(x='ksize', y='n_protein_coding_kmers', data=protein_coding_vs_lncrna_df)\nax = plt.gca()\nax.set(title=\"K-mer similarity between lincRNA transcripts and protein-coding CDS\\nHuman Gencode V30, Ensembl v97\")"
    },
    "executionTime": "2019-09-05T14:10:54.609Z"
   },
   {
    "cell": {
     "executionCount": 53,
     "executionEventId": "33913a9a-e174-426e-ba37-f29140639086",
     "hasError": false,
     "id": "982e9287-dd13-4d67-b6ca-6ba9f56e9caa",
     "outputs": [],
     "persistentId": "58dee61b-27de-4664-af4c-afd27a03a50f",
     "text": "n_desired_records = 1000\n\nrandom.seed(0)\n\nlincRNA = []\nprotein_coding = []\n\nlincRNA_metadata_lines = []\nprotein_coding_metadata_lines = []\n\nrecords = list(SeqIO.parse(f\"{GENCODE_FOLDER}/human/v30/gencode.v30.transcripts.fa\", 'fasta'))\n\n# Shuffles in-place and returns none\nrandom.shuffle(records)\n\nfor record in records:\n    metadata = record.name.strip('|').split(\"|\")\n    if metadata[-1] == 'protein_coding':\n        if len(protein_coding) < n_desired_records:\n            protein_coding.append((metadata[0].split(\".\")[0], str(record.seq)))\n            protein_coding_metadata_lines.append(metadata)\n    elif metadata[-1] == 'lincRNA':\n        if len(lincRNA) < n_desired_records:\n            lincRNA.append((metadata[0].split(\".\")[0], str(record.seq)))\n            lincRNA_metadata_lines.append(metadata)\n    if len(lincRNA) >= n_desired_records and len(protein_coding) >= n_desired_records:\n        break\n# del records"
    },
    "executionTime": "2019-09-05T14:12:14.236Z"
   },
   {
    "cell": {
     "executionCount": 54,
     "executionEventId": "6d24006a-05c6-4e6f-a74b-5d696bf72368",
     "hasError": false,
     "id": "b1d96436-5fdb-4268-9813-0fae940bb428",
     "outputs": [
      {
       "name": "stdout",
       "output_type": "stream",
       "text": "(1000, 8)\n"
      },
      {
       "data": {
        "text/html": "<div>\n<style scoped>\n    .dataframe tbody tr th:only-of-type {\n        vertical-align: middle;\n    }\n\n    .dataframe tbody tr th {\n        vertical-align: top;\n    }\n\n    .dataframe thead th {\n        text-align: right;\n    }\n</style>\n<table border=\"1\" class=\"dataframe\">\n  <thead>\n    <tr style=\"text-align: right;\">\n      <th></th>\n      <th>0</th>\n      <th>1</th>\n      <th>2</th>\n      <th>3</th>\n      <th>4</th>\n      <th>5</th>\n      <th>6</th>\n      <th>7</th>\n    </tr>\n  </thead>\n  <tbody>\n    <tr>\n      <th>0</th>\n      <td>ENST00000623420.1</td>\n      <td>ENSG00000279927.1</td>\n      <td>OTTHUMG00000189181.1</td>\n      <td>OTTHUMT00000479003.1</td>\n      <td>Z95114.4-201</td>\n      <td>Z95114.4</td>\n      <td>3578</td>\n      <td>lincRNA</td>\n    </tr>\n    <tr>\n      <th>1</th>\n      <td>ENST00000628547.2</td>\n      <td>ENSG00000242086.8</td>\n      <td>OTTHUMG00000155834.14</td>\n      <td>OTTHUMT00000481409.1</td>\n      <td>MUC20-OT1-308</td>\n      <td>MUC20-OT1</td>\n      <td>882</td>\n      <td>lincRNA</td>\n    </tr>\n    <tr>\n      <th>2</th>\n      <td>ENST00000411525.1</td>\n      <td>ENSG00000224429.7</td>\n      <td>OTTHUMG00000016541.3</td>\n      <td>OTTHUMT00000044126.1</td>\n      <td>LINC00539-201</td>\n      <td>LINC00539</td>\n      <td>664</td>\n      <td>lincRNA</td>\n    </tr>\n    <tr>\n      <th>3</th>\n      <td>ENST00000427111.4</td>\n      <td>ENSG00000237248.5</td>\n      <td>OTTHUMG00000168333.2</td>\n      <td>OTTHUMT00000500908.1</td>\n      <td>LINC00987-201</td>\n      <td>LINC00987</td>\n      <td>2472</td>\n      <td>lincRNA</td>\n    </tr>\n    <tr>\n      <th>4</th>\n      <td>ENST00000551227.1</td>\n      <td>ENSG00000258028.2</td>\n      <td>OTTHUMG00000170370.2</td>\n      <td>OTTHUMT00000408712.1</td>\n      <td>AL135878.1-201</td>\n      <td>AL135878.1</td>\n      <td>741</td>\n      <td>lincRNA</td>\n    </tr>\n  </tbody>\n</table>\n</div>",
        "text/plain": "                   0                  1                      2  \\\n0  ENST00000623420.1  ENSG00000279927.1   OTTHUMG00000189181.1   \n1  ENST00000628547.2  ENSG00000242086.8  OTTHUMG00000155834.14   \n2  ENST00000411525.1  ENSG00000224429.7   OTTHUMG00000016541.3   \n3  ENST00000427111.4  ENSG00000237248.5   OTTHUMG00000168333.2   \n4  ENST00000551227.1  ENSG00000258028.2   OTTHUMG00000170370.2   \n\n                      3               4           5     6        7  \n0  OTTHUMT00000479003.1    Z95114.4-201    Z95114.4  3578  lincRNA  \n1  OTTHUMT00000481409.1   MUC20-OT1-308   MUC20-OT1   882  lincRNA  \n2  OTTHUMT00000044126.1   LINC00539-201   LINC00539   664  lincRNA  \n3  OTTHUMT00000500908.1   LINC00987-201   LINC00987  2472  lincRNA  \n4  OTTHUMT00000408712.1  AL135878.1-201  AL135878.1   741  lincRNA  "
       },
       "execution_count": 54,
       "metadata": {},
       "output_type": "execute_result"
      }
     ],
     "persistentId": "a520f97f-5218-4633-a612-5e28366d4229",
     "text": "lncrna_df = pd.DataFrame(lincRNA_metadata_lines)\nprint(lncrna_df.shape)\nlncrna_df.head()"
    },
    "executionTime": "2019-09-05T14:12:14.425Z"
   },
   {
    "cell": {
     "executionCount": 55,
     "executionEventId": "cf58370b-9d13-4bfd-be7a-3bc96e543d95",
     "hasError": false,
     "id": "b1903c3c-819e-4df4-8384-cb5639c2fd05",
     "outputs": [
      {
       "name": "stdout",
       "output_type": "stream",
       "text": "(1000, 8)\n"
      },
      {
       "data": {
        "text/html": "<div>\n<style scoped>\n    .dataframe tbody tr th:only-of-type {\n        vertical-align: middle;\n    }\n\n    .dataframe tbody tr th {\n        vertical-align: top;\n    }\n\n    .dataframe thead th {\n        text-align: right;\n    }\n</style>\n<table border=\"1\" class=\"dataframe\">\n  <thead>\n    <tr style=\"text-align: right;\">\n      <th></th>\n      <th>0</th>\n      <th>1</th>\n      <th>2</th>\n      <th>3</th>\n      <th>4</th>\n      <th>5</th>\n      <th>6</th>\n      <th>7</th>\n    </tr>\n  </thead>\n  <tbody>\n    <tr>\n      <th>0</th>\n      <td>ENST00000525764.5</td>\n      <td>ENSG00000149150.9</td>\n      <td>OTTHUMG00000167030.4</td>\n      <td>OTTHUMT00000392591.2</td>\n      <td>SLC43A1-203</td>\n      <td>SLC43A1</td>\n      <td>556</td>\n      <td>protein_coding</td>\n    </tr>\n    <tr>\n      <th>1</th>\n      <td>ENST00000576452.5</td>\n      <td>ENSG00000108523.15</td>\n      <td>OTTHUMG00000099397.5</td>\n      <td>OTTHUMT00000438729.1</td>\n      <td>RNF167-215</td>\n      <td>RNF167</td>\n      <td>589</td>\n      <td>protein_coding</td>\n    </tr>\n    <tr>\n      <th>2</th>\n      <td>ENST00000307377.12</td>\n      <td>ENSG00000170266.16</td>\n      <td>OTTHUMG00000155781.8</td>\n      <td>OTTHUMT00000341571.1</td>\n      <td>GLB1-202</td>\n      <td>GLB1</td>\n      <td>2018</td>\n      <td>protein_coding</td>\n    </tr>\n    <tr>\n      <th>3</th>\n      <td>ENST00000649592.1</td>\n      <td>ENSG00000114861.20</td>\n      <td>OTTHUMG00000158803.17</td>\n      <td>OTTHUMT00000497729.1</td>\n      <td>FOXP1-260</td>\n      <td>FOXP1</td>\n      <td>1975</td>\n      <td>protein_coding</td>\n    </tr>\n    <tr>\n      <th>4</th>\n      <td>ENST00000454061.5</td>\n      <td>ENSG00000214413.8</td>\n      <td>OTTHUMG00000019046.6</td>\n      <td>OTTHUMT00000050350.2</td>\n      <td>BBIP1-208</td>\n      <td>BBIP1</td>\n      <td>812</td>\n      <td>protein_coding</td>\n    </tr>\n  </tbody>\n</table>\n</div>",
        "text/plain": "                    0                   1                      2  \\\n0   ENST00000525764.5   ENSG00000149150.9   OTTHUMG00000167030.4   \n1   ENST00000576452.5  ENSG00000108523.15   OTTHUMG00000099397.5   \n2  ENST00000307377.12  ENSG00000170266.16   OTTHUMG00000155781.8   \n3   ENST00000649592.1  ENSG00000114861.20  OTTHUMG00000158803.17   \n4   ENST00000454061.5   ENSG00000214413.8   OTTHUMG00000019046.6   \n\n                      3            4        5     6               7  \n0  OTTHUMT00000392591.2  SLC43A1-203  SLC43A1   556  protein_coding  \n1  OTTHUMT00000438729.1   RNF167-215   RNF167   589  protein_coding  \n2  OTTHUMT00000341571.1     GLB1-202     GLB1  2018  protein_coding  \n3  OTTHUMT00000497729.1    FOXP1-260    FOXP1  1975  protein_coding  \n4  OTTHUMT00000050350.2    BBIP1-208    BBIP1   812  protein_coding  "
       },
       "execution_count": 55,
       "metadata": {},
       "output_type": "execute_result"
      }
     ],
     "persistentId": "de7d6948-c834-435f-8805-0ede4025e443",
     "text": "protein_coding_df = pd.DataFrame(protein_coding_metadata_lines)\nprint(protein_coding_df.shape)\nprotein_coding_df.head()"
    },
    "executionTime": "2019-09-05T14:12:14.450Z"
   },
   {
    "cell": {
     "executionCount": 56,
     "executionEventId": "f2c088fb-f5e9-4b73-98a5-378c92c5661d",
     "hasError": false,
     "id": "a3ddbc88-b397-4a67-b8bf-65a461536b77",
     "outputs": [
      {
       "data": {
        "text/plain": "[('ENST00000623420',\n  'GCCCTGCCAGCCACTGTTCTAAGCACTTTTTCCCTGTTCCTGCCGATTTGCTCCTCACAACAACCATAGGAAGTGGAGACTATGATTATCCCCGTTGCACAGTAAGGAAACTGAGGCAAAAGGCGGTTAGGTAACTTGGCGATGTCTCCCGGCTAGGGATAGCAGAATGGGATAGAAACGCAGGCCACGCGGTCTGGAGCGGTGGCTCACGCCTTTAATCCCAGTACTTAGGGAGGCCGAGGCGGGCGGGTTACCTGGGGTCAGGAGTTCGAGACCAGCCTGGCCAACATGGTGAAACCCTATCTCTACTAAAAATACAAAAATTAGTCGGGGTGGGCACCTGTAATCCCAGCTACTCGAGGCTGAGGCAAAAGAATCGCTTGAACCCAGGAGGCAGAGGTGGCAGTGAGCCGAGATCACCCCACTGCACTTCAGCCTGGGTGGCAGAACAAGACTCTGTCTCAAAAAAAAAAAAAAGAATAAAAAAAAGAAAGGCAGGCCACCCGGTGGTGGTCCCTGTGCTCCTCCCCACCCACCCCCGCACTGTGCTGGGCGGTGAGGAGGCGGCTGGCCCAGGAGGTGGGGGTGTGGAGTGGGGCACATCAGAGATTTCAAATTGACCAAGGTCTGTTTTGTGTCAGTTTGTCAGTTTTATGTGTCAGCTTGGCTAAACTATGGTCTCCTGTTATTTGATCAAACACTAATCTATTTTTTCTTTTAGTTTAAAAAATAATAATTAAATGAAAAAATCCTGGCTAATGTTTTTTTTTTTGTAGAGACAGGGTTTTGCCTTGTTGCCCAGGCTGGCCTCTGACCCTTGGGCTCAAGTGATCTGCCACCATGCCTAGCCTCAAACACTAATCTAGATGTTGCTTGAAGGCATTTTGTAGATGTGATTTGTCTATAATTAGTTTACTTCAAGTAAGGGAGATTATCCCAGATAATCTGGGTGAGTCTGAAAGACTTTATGGGTAGAACTGAGGTGCCCTTGAAGAGGAAGAAATTCTGCCAGCCAATAGCAATTTCAGCTTGTGCTGAAGAGTTCCAGCCTTCCTAACAACCAGCCCTACAAATTTCGGACTTGCCTAGCCAGCCCTGTGTGTATAAACCAATTCCTTGCAATAATCACACCTACACCCTCACCCCACCCCCCTCCCCAAATACATGTATATATGGAGAGAGAGGGAGAGAGAATATAAAATCATACATATATCATATATCTCCTATTTGTTCTGTGTCTTTAATTTCTCTAGTTGACCCCTGACTGATGCAATGACCCAAGAGCAGGCAGATGCCCGGGGGGCGTTTATGATACCTCTCCTAGGACTTGGCTCAATCTGAGTCCCTCAACGGCCATCTGCAACCCTGAGGAGGGTAGGAAAATCCCAAATTGACTGAGATTACATTTCCATCATCAACAGCAATGGAGAATCAATAAAGAAATTTAGTTCAGATATTGAAAAATGAAGAGGGCTGGGTGCAGTGGCTCACGCCTGTAATCCCAGCACTTTGGGAGGCCGAGGCGGGTGGATCACCTGAGGTCGGGAGTTCGAGACCGGCCTGGCCAACATGGTGAAAACTCATCTTTACTAAAAATACAAAAATTAGTTCTGGTGGGTGCCTGTAATCCCAGCTACTCGGGAGGCTGAGGCAGGAGAATTGTTTGAACCCATTAGGCAGAGGTGGCAGTGAGCCGAGATCACCCCATTGCACTTCAGCCTGGGTGACAGAACAAGACTCCGTCTCAAGGAAAAGAAAAAAAAAAGAAGAAAGTCACAGTTTTTGCACTATCAAGTTTATGTGCTAAGATTCATACCTCATTTTAACAGCCTACATCTACTTCTGCGTGGACCAGAAGGACAGAGCCACAATAACACTGACCAAACCATAGTAATAGCACAATCGTTGCTACAAAACATTTGCAAATAATCAGATAATATATCTGATTAGGGCCTTGTATCCAGAATATATAAAGAGCTCTTATTGCAACAACAAGTAGAAAACAGATCAATTTAAAAATGGGCAAAGGTAGGCCAGGCACAGTGGCTCACACCTATAATCCCAGCACTTAGGGAGGCCGAGGCGGGTGGATCACCTGAGGTCAGGAGTTTGAGACCAGCCTGGCCAACATGGCGAAACTCCGTCTCTACTAAAAGTACAAAATTGAGCCGGACGTGGTGGTGAGAGTCTGTAATCCCAGCTACTTGGGAGGCTGAGGCAGGAGAATCGCTTGAACCCAGGAGATGGAGGTTGCAGTGAGCTGAGATCTCGCCATTGCACTCCAGCCTGGGCGACAAGAGTGAGACTCTGTCTCAAAATAAAAAATAAAATAAAATAGGCAAAGGACTTGAATATCCAAAGAAGATAAACAAATGGCCAATAAGCAAACAATACTTTCAAGCACAAAAGATGCTCGACATAATTAGTCATCAAGGAAAAGGCAAATCAGAACCACACGGGACTCACTTCACATCCACCAGGATGACTATAGTCCTTACAGTAAGAGAATAGCAGATGGCAGGTATTGTGCTTTACTTGTATTAAGTAACTTAATCCTCACAGTAGCCTCGTGAAGGAGGGATGGCTATTAGCTCATTTACAAAAGAGGAACTGAGGCCTGGAAAGGTGAAATGATTGCCCCAGTGTTCCACGGCTGGTCAGTGGGTGTCAGAATTTAAGACCTGGGCTGTCTGCTTCCAAAGCTGTGCTATCCAGCTTTAATGACTGTGCTATACTGGTCTCTAGCAAAATTATTGAAAATTTCCCTCTCAGACCCACCATTTACCTTTATTGCTCCCAGAGACCCTCACATGTGCTCCTTAGCTACCAAAAACAGACTTCTTCTTTCTCCTGGCATTTGTCCCATGTCCTTTGGTCAGTCCAGAACTCACTAGGAGGCTCCCAGACGCTGTGTCCGTGTTTCTCCTCCAGACCGACGATGCTGCCTGTGTCACTGCCTCAGGGCCATGTCACTGCTGCTGCCCCACTGGACTCCCACGGTCCTAGCCACCAGCCACTCCCCTCCTTCTTCCTGGCTAGCAAGGTTTACTGACTACCATAGAGGCGGAAAATGCCAGATGCTCGGTTTCCCAGGTTCCCTTTACAGTTACAGGTGACCATGTGACCGTGTTCTGGTCAATGACATATAAGGAGAGTCTTCTGAGAAAGATTTTCTCTCCTGGCCAGAATAGAGAGAGAGGGTGAGGTAGATGGAAAGAGCGGGAAGCTGGGCGCAGTGGTTCACACCTGTAATCCCAACACTTTGGGAGGCCAAGGCAGGTGGATCACCTGAGGTCAGGAGTTCGAGACCAGCCTGGCCACATGATGAAACCTTGTCTCTACTAAAAATACAAAAATTAGCTGGGTGTGGTGGTGTGGGCCTGTAATCCCAGCTATTTGGGAGGCTGAGGCACGTGAATCACTTGAACCCAGGAGGCGGAGATTGCAGTGTGCTGATCATGCCACTGCACTCCAGCCTGGGCAACAGAGTGAGACTCCGCCTCAAAACACACACACACACACACACACACACACACACACACACACACACACAAAACAGTGGGAGAGAGAGTAAGAGT'),\n ('ENST00000628547',\n  'CTGGCAGGAGCAGATTCCAAAGGCACAGGAAGAAGCTTGCAGTACAAAGATAAAAATCTAAAGTGGTTGCTGTGGAGGACAGGGGTCAGTGGTGGAAGTGAGACCGAAATAGACTCTGAAGTAATATCTGGACTTTGAAATTGTTGCCTGTTCACTCTGCCTGGTCATATGCAGAAAACCGAAACTAGACCCCTTGCTGACACTTATACAAAAATTAACTCAAGATGCATTAAAGATTTAAACGTGAGACCTAAAACCAGAAAAATCCTAGAAGAAAACCTAGGCAACACCATTGAGGACGTAAGCATGGGCAAAGACTTCATGACTAAAACACCAAAAGAAATGGCAACAAAAGCCAAAATTGACAAAAGGTTTCCTTAATGACAACAAAAAAGGGAGTAATCCTACCCACTGTAAGAGTCATGACTCTTGATTGCAGCTGACAGAAACTCATGACAGCCTGCTTTAGATGAAGGGGGAGAGAAGGACTGGAAGAATCTTGGAGTTGGGAATGTCACACGCAGCTGCTCCCAACCCCAGAACCTTTGCTGTCTTGGGACGGATCACCGCTGCAAGAGGGGAAGTTGCTACTGTGATGAATTCTGCCATGTGGCACCAGACTGCCACCCAGACCACAGTGTCCTCTGCAACCCTGGTAACTCACATACAGGCCCGATTCCACCTACAGCAAAGCTGGATGCGATGGCTGGCAGAGGCAAACCCTTTGCCTGCACTTCAGGCCAAAGCCGGGATGTGGCCTAGATGGTTCCTAAGGTCCCTGACAATCCTGAGATCTTGCATCTTGTCTATTTCAGGTCAAAGCTTCTCAGATGACCAAGATGGTGCTGCAGATGGTGCTGAGGATGGAGAACCCACCAAGCC')]"
       },
       "execution_count": 56,
       "metadata": {},
       "output_type": "execute_result"
      }
     ],
     "persistentId": "a74c5fe2-756b-4ea6-bf6b-e4ee3459bfbf",
     "text": "lincRNA[:2]"
    },
    "executionTime": "2019-09-05T14:12:14.478Z"
   },
   {
    "cell": {
     "executionCount": 57,
     "executionEventId": "3c7e7866-837d-4db5-ad31-bfe4c16ed293",
     "hasError": false,
     "id": "b61b41f7-8594-4f16-91e5-42751dc169d1",
     "outputs": [
      {
       "data": {
        "text/plain": "[('ENST00000525764',\n  'CACCAACACCACCCAGGATGAGCAGCGCAGGTGGCCAGGCTGTGACCAGCAGGACGAGATGCTCAACCTGGGCTTCACCATTGGTTCCTTCGTGCTCAGCGCCACCACCCTGCCACTGGGGATCCTCATGGACCGCTTTGGCCCCCGACCCGTGCGGCTGGTTGGCAGTGCCTGCTTCACTGCGTCCTGCACCCTCATGGCCCTGGCCTCCCGGGACGTGGAAGCTCTGTCTCCGTTGATATTCCTGGCGCTGTCCCTGAATGGCTTTGGTGGCATCTGCCTAACGTTCACTTCACTCACGGGACGGGGTTGCTACCAAATCCATCAGACCACGCTACTGCAAGATCCAAAAGCTCACCAATGCCATCAGTGCCTTCACCCTGACCAACCTGCTGCTTGTGGGTTTTGGCATCACCTGTCTCATCAACAACTTACACCTCCAGTTTGTGACCTTTGTCCTGCACACCATTGTTCGAGGTTTCTTCCACTCAGCCTGTGGGAGTCTCTATGCTGCAGTGTTCCCATCCAACCACTTTGGGACGCTGACAGGCCTGCA'),\n ('ENST00000576452',\n  'AGGAGGAGCTTGATGGAAGCGTGCGAGAAGGGGCGTAACTGATTTGGAAACCAGAGGAAAGGCGCTGTTTTCACCGAATTAGAATCGCGGGAAAATAGAGAAGAGTTTGTTTGAAGGTCTCGCGAGATCGAGTGAGTACGGCTCGCCAAGTTGGAGCGCTCTCGCGATAGACACAGCAACTATTCAGCTGCGAGGGGACGGGAGAGGTGGTGAGCACTCTCGCGAGATTTGAAGGAGCGGCGGAGGCCAGAGGGAGGAGAGGACGCGCGGCCTCCTCAGCCTCTTTCCTCCCGCTGCCATGCACCCTGCAGCCTTCCCGCTTCCTGTGGTTGTGGCCGCTGTGCTGTGGGGAGCGGCCCCGACCCGGGGGCTCATTCGAGCGACCTCGGACCACAATGCCAGCATGGACTTTGCAGACCTTCCAGCTCTGTTTGGGGCTACCTTGAGCCAGGAGGGCCTCCAGGGGTTCCTTGTGGAGGCTCACCCAGACAATGCCTGCAGCCCCATTGCCCCACCACCCCCAGCCCCGGTCAATGGGTCAGTCTTTATTGCGCTGCTTCGAAGATTCGACTGCAACTTTGACCTCAAG')]"
       },
       "execution_count": 57,
       "metadata": {},
       "output_type": "execute_result"
      }
     ],
     "persistentId": "f1df8f36-e80c-436b-a076-a885aa300034",
     "text": "protein_coding[:2]"
    },
    "executionTime": "2019-09-05T14:12:14.496Z"
   },
   {
    "cell": {
     "executionCount": 59,
     "executionEventId": "87733f14-aadd-43c4-8610-de3a68b74f65",
     "hasError": true,
     "id": "9aeec160-0df0-47fb-a7f0-d65c0a19ac25",
     "outputs": [
      {
       "ename": "HTTPError",
       "evalue": "400 Client Error: Bad Request for url: https://rest.ensembl.org/sequence/id/ENST00000291532?type=cds",
       "output_type": "error",
       "traceback": [
        "\u001b[0;31m---------------------------------------------------------------------------\u001b[0m",
        "\u001b[0;31mHTTPError\u001b[0m                                 Traceback (most recent call last)",
        "\u001b[0;32m<ipython-input-59-cb43c489cab7>\u001b[0m in \u001b[0;36m<module>\u001b[0;34m()\u001b[0m\n\u001b[0;32m----> 1\u001b[0;31m \u001b[0mprotein_coding_cds_only\u001b[0m \u001b[0;34m=\u001b[0m \u001b[0;34m[\u001b[0m\u001b[0;34m(\u001b[0m\u001b[0mtranscript_id\u001b[0m\u001b[0;34m,\u001b[0m \u001b[0mget_sequence\u001b[0m\u001b[0;34m(\u001b[0m\u001b[0mtranscript_id\u001b[0m\u001b[0;34m,\u001b[0m \u001b[0mtype\u001b[0m\u001b[0;34m=\u001b[0m\u001b[0;34m'cds'\u001b[0m\u001b[0;34m,\u001b[0m \u001b[0mverbose\u001b[0m\u001b[0;34m=\u001b[0m\u001b[0;32mFalse\u001b[0m\u001b[0;34m)\u001b[0m\u001b[0;34m)\u001b[0m \u001b[0;32mfor\u001b[0m \u001b[0mtranscript_id\u001b[0m\u001b[0;34m,\u001b[0m \u001b[0mseq\u001b[0m \u001b[0;32min\u001b[0m \u001b[0mprotein_coding\u001b[0m\u001b[0;34m]\u001b[0m\u001b[0;34m\u001b[0m\u001b[0;34m\u001b[0m\u001b[0m\n\u001b[0m\u001b[1;32m      2\u001b[0m \u001b[0mlen\u001b[0m\u001b[0;34m(\u001b[0m\u001b[0mprotein_coding_cds_only\u001b[0m\u001b[0;34m)\u001b[0m\u001b[0;34m\u001b[0m\u001b[0;34m\u001b[0m\u001b[0m\n",
        "\u001b[0;32m<ipython-input-59-cb43c489cab7>\u001b[0m in \u001b[0;36m<listcomp>\u001b[0;34m(.0)\u001b[0m\n\u001b[0;32m----> 1\u001b[0;31m \u001b[0mprotein_coding_cds_only\u001b[0m \u001b[0;34m=\u001b[0m \u001b[0;34m[\u001b[0m\u001b[0;34m(\u001b[0m\u001b[0mtranscript_id\u001b[0m\u001b[0;34m,\u001b[0m \u001b[0mget_sequence\u001b[0m\u001b[0;34m(\u001b[0m\u001b[0mtranscript_id\u001b[0m\u001b[0;34m,\u001b[0m \u001b[0mtype\u001b[0m\u001b[0;34m=\u001b[0m\u001b[0;34m'cds'\u001b[0m\u001b[0;34m,\u001b[0m \u001b[0mverbose\u001b[0m\u001b[0;34m=\u001b[0m\u001b[0;32mFalse\u001b[0m\u001b[0;34m)\u001b[0m\u001b[0;34m)\u001b[0m \u001b[0;32mfor\u001b[0m \u001b[0mtranscript_id\u001b[0m\u001b[0;34m,\u001b[0m \u001b[0mseq\u001b[0m \u001b[0;32min\u001b[0m \u001b[0mprotein_coding\u001b[0m\u001b[0;34m]\u001b[0m\u001b[0;34m\u001b[0m\u001b[0;34m\u001b[0m\u001b[0m\n\u001b[0m\u001b[1;32m      2\u001b[0m \u001b[0mlen\u001b[0m\u001b[0;34m(\u001b[0m\u001b[0mprotein_coding_cds_only\u001b[0m\u001b[0;34m)\u001b[0m\u001b[0;34m\u001b[0m\u001b[0;34m\u001b[0m\u001b[0m\n",
        "\u001b[0;32m~/code/kmer-hashing/kh-tools/khtools/ensembl.py\u001b[0m in \u001b[0;36mget_sequence\u001b[0;34m(ensembl_id, verbose, type)\u001b[0m\n\u001b[1;32m     10\u001b[0m \u001b[0;34m\u001b[0m\u001b[0m\n\u001b[1;32m     11\u001b[0m     \u001b[0;32mif\u001b[0m \u001b[0;32mnot\u001b[0m \u001b[0mr\u001b[0m\u001b[0;34m.\u001b[0m\u001b[0mok\u001b[0m\u001b[0;34m:\u001b[0m\u001b[0;34m\u001b[0m\u001b[0;34m\u001b[0m\u001b[0m\n\u001b[0;32m---> 12\u001b[0;31m         \u001b[0mr\u001b[0m\u001b[0;34m.\u001b[0m\u001b[0mraise_for_status\u001b[0m\u001b[0;34m(\u001b[0m\u001b[0;34m)\u001b[0m\u001b[0;34m\u001b[0m\u001b[0;34m\u001b[0m\u001b[0m\n\u001b[0m\u001b[1;32m     13\u001b[0m         \u001b[0msys\u001b[0m\u001b[0;34m.\u001b[0m\u001b[0mexit\u001b[0m\u001b[0;34m(\u001b[0m\u001b[0;34m)\u001b[0m\u001b[0;34m\u001b[0m\u001b[0;34m\u001b[0m\u001b[0m\n\u001b[1;32m     14\u001b[0m \u001b[0;34m\u001b[0m\u001b[0m\n",
        "\u001b[0;32m~/miniconda3/envs/kmer-hashing/lib/python3.6/site-packages/requests/models.py\u001b[0m in \u001b[0;36mraise_for_status\u001b[0;34m(self)\u001b[0m\n\u001b[1;32m    907\u001b[0m \u001b[0;34m\u001b[0m\u001b[0m\n\u001b[1;32m    908\u001b[0m         \u001b[0;32mif\u001b[0m \u001b[0mhttp_error_msg\u001b[0m\u001b[0;34m:\u001b[0m\u001b[0;34m\u001b[0m\u001b[0;34m\u001b[0m\u001b[0m\n\u001b[0;32m--> 909\u001b[0;31m             \u001b[0;32mraise\u001b[0m \u001b[0mHTTPError\u001b[0m\u001b[0;34m(\u001b[0m\u001b[0mhttp_error_msg\u001b[0m\u001b[0;34m,\u001b[0m \u001b[0mresponse\u001b[0m\u001b[0;34m=\u001b[0m\u001b[0mself\u001b[0m\u001b[0;34m)\u001b[0m\u001b[0;34m\u001b[0m\u001b[0;34m\u001b[0m\u001b[0m\n\u001b[0m\u001b[1;32m    910\u001b[0m \u001b[0;34m\u001b[0m\u001b[0m\n\u001b[1;32m    911\u001b[0m     \u001b[0;32mdef\u001b[0m \u001b[0mclose\u001b[0m\u001b[0;34m(\u001b[0m\u001b[0mself\u001b[0m\u001b[0;34m)\u001b[0m\u001b[0;34m:\u001b[0m\u001b[0;34m\u001b[0m\u001b[0;34m\u001b[0m\u001b[0m\n",
        "\u001b[0;31mHTTPError\u001b[0m: 400 Client Error: Bad Request for url: https://rest.ensembl.org/sequence/id/ENST00000291532?type=cds"
       ]
      }
     ],
     "persistentId": "a3217612-1e52-4db6-8b29-7080816162d8",
     "text": "protein_coding_cds_only = [(transcript_id, get_sequence(transcript_id, type='cds', verbose=False)) for transcript_id, seq in protein_coding]\nlen(protein_coding_cds_only)"
    },
    "executionTime": "2019-09-05T14:16:42.142Z"
   },
   {
    "cell": {
     "executionCount": 1,
     "executionEventId": "3de1b3b1-f4ac-4b50-9327-b075d37fcb40",
     "hasError": true,
     "id": "9aeec160-0df0-47fb-a7f0-d65c0a19ac25",
     "outputs": [
      {
       "ename": "NameError",
       "evalue": "name 'protein_coding' is not defined",
       "output_type": "error",
       "traceback": [
        "\u001b[0;31m---------------------------------------------------------------------------\u001b[0m",
        "\u001b[0;31mNameError\u001b[0m                                 Traceback (most recent call last)",
        "\u001b[0;32m<timed exec>\u001b[0m in \u001b[0;36m<module>\u001b[0;34m\u001b[0m\n",
        "\u001b[0;31mNameError\u001b[0m: name 'protein_coding' is not defined"
       ]
      }
     ],
     "persistentId": "a3217612-1e52-4db6-8b29-7080816162d8",
     "text": "%%time\n\ndef maybe_get_cds(transcript_id):\n    try:\n        return get_sequence(transcript_id, type='cds', verbose=False)\n    except HTTPError:\n        return None\n\nprotein_coding_cds_only = [(transcript_id, get_sequence(transcript_id, type='cds', verbose=False)) for transcript_id, seq in protein_coding]\nlen(protein_coding_cds_only)"
    },
    "executionTime": "2019-09-06T02:10:26.590Z"
   },
   {
    "cell": {
     "executionCount": 3,
     "executionEventId": "f543bb71-0283-46f1-964b-1f7df63ccaef",
     "hasError": true,
     "id": "982e9287-dd13-4d67-b6ca-6ba9f56e9caa",
     "outputs": [
      {
       "ename": "NameError",
       "evalue": "name 'SeqIO' is not defined",
       "output_type": "error",
       "traceback": [
        "\u001b[0;31m---------------------------------------------------------------------------\u001b[0m",
        "\u001b[0;31mNameError\u001b[0m                                 Traceback (most recent call last)",
        "\u001b[0;32m<ipython-input-3-6828c2926474>\u001b[0m in \u001b[0;36m<module>\u001b[0;34m\u001b[0m\n\u001b[1;32m      9\u001b[0m \u001b[0mprotein_coding_metadata_lines\u001b[0m \u001b[0;34m=\u001b[0m \u001b[0;34m[\u001b[0m\u001b[0;34m]\u001b[0m\u001b[0;34m\u001b[0m\u001b[0;34m\u001b[0m\u001b[0m\n\u001b[1;32m     10\u001b[0m \u001b[0;34m\u001b[0m\u001b[0m\n\u001b[0;32m---> 11\u001b[0;31m \u001b[0mrecords\u001b[0m \u001b[0;34m=\u001b[0m \u001b[0mlist\u001b[0m\u001b[0;34m(\u001b[0m\u001b[0mSeqIO\u001b[0m\u001b[0;34m.\u001b[0m\u001b[0mparse\u001b[0m\u001b[0;34m(\u001b[0m\u001b[0;34mf\"{GENCODE_FOLDER}/human/v30/gencode.v30.transcripts.fa\"\u001b[0m\u001b[0;34m,\u001b[0m \u001b[0;34m'fasta'\u001b[0m\u001b[0;34m)\u001b[0m\u001b[0;34m)\u001b[0m\u001b[0;34m\u001b[0m\u001b[0;34m\u001b[0m\u001b[0m\n\u001b[0m\u001b[1;32m     12\u001b[0m \u001b[0;34m\u001b[0m\u001b[0m\n\u001b[1;32m     13\u001b[0m \u001b[0;31m# Shuffles in-place and returns none\u001b[0m\u001b[0;34m\u001b[0m\u001b[0;34m\u001b[0m\u001b[0;34m\u001b[0m\u001b[0m\n",
        "\u001b[0;31mNameError\u001b[0m: name 'SeqIO' is not defined"
       ]
      }
     ],
     "persistentId": "58dee61b-27de-4664-af4c-afd27a03a50f",
     "text": "%%time\n\nn_desired_records = 500\n\nrandom.seed(0)\n\nlincRNA = []\nprotein_coding = []\n\nlincRNA_metadata_lines = []\nprotein_coding_metadata_lines = []\n\nrecords = list(SeqIO.parse(f\"{GENCODE_FOLDER}/human/v30/gencode.v30.transcripts.fa\", 'fasta'))\n\n# Shuffles in-place and returns none\nrandom.shuffle(records)\n\nfor record in records:\n    metadata = record.name.strip('|').split(\"|\")\n    if metadata[-1] == 'protein_coding':\n        if len(protein_coding) < n_desired_records:\n            protein_coding.append((metadata[0].split(\".\")[0], str(record.seq)))\n            protein_coding_metadata_lines.append(metadata)\n    elif metadata[-1] == 'lincRNA':\n        if len(lincRNA) < n_desired_records:\n            lincRNA.append((metadata[0].split(\".\")[0], str(record.seq)))\n            lincRNA_metadata_lines.append(metadata)\n    if len(lincRNA) >= n_desired_records and len(protein_coding) >= n_desired_records:\n        break\n# del records"
    },
    "executionTime": "2019-09-06T02:11:39.401Z"
   },
   {
    "cell": {
     "executionCount": 5,
     "executionEventId": "059d6d8b-0fc7-4d46-9be2-84db12843d4c",
     "hasError": false,
     "id": "dee7e9cf-f707-4d03-a76a-c82254330909",
     "outputs": [],
     "persistentId": "6181d405-1796-47b2-8c0f-bf1f1481da19",
     "text": "%load_ext autoreload\n%autoreload 2"
    },
    "executionTime": "2019-09-06T02:12:02.271Z"
   },
   {
    "cell": {
     "executionCount": 6,
     "executionEventId": "9fd92cd3-19a1-40dd-9a73-088eb2084cd7",
     "hasError": true,
     "id": "e993fe13-b894-42bc-a89c-be6b5660df44",
     "outputs": [
      {
       "ename": "ModuleNotFoundError",
       "evalue": "No module named 'Bio'",
       "output_type": "error",
       "traceback": [
        "\u001b[0;31m---------------------------------------------------------------------------\u001b[0m",
        "\u001b[0;31mModuleNotFoundError\u001b[0m                       Traceback (most recent call last)",
        "\u001b[0;32m<ipython-input-6-008f758f8179>\u001b[0m in \u001b[0;36m<module>\u001b[0;34m\u001b[0m\n\u001b[1;32m      2\u001b[0m \u001b[0;32mimport\u001b[0m \u001b[0mrandom\u001b[0m\u001b[0;34m\u001b[0m\u001b[0;34m\u001b[0m\u001b[0m\n\u001b[1;32m      3\u001b[0m \u001b[0;34m\u001b[0m\u001b[0m\n\u001b[0;32m----> 4\u001b[0;31m \u001b[0;32mfrom\u001b[0m \u001b[0mBio\u001b[0m \u001b[0;32mimport\u001b[0m \u001b[0mSeqIO\u001b[0m\u001b[0;34m\u001b[0m\u001b[0;34m\u001b[0m\u001b[0m\n\u001b[0m\u001b[1;32m      5\u001b[0m \u001b[0;32mimport\u001b[0m \u001b[0mmatplotlib\u001b[0m\u001b[0;34m.\u001b[0m\u001b[0mpyplot\u001b[0m \u001b[0;32mas\u001b[0m \u001b[0mplt\u001b[0m\u001b[0;34m\u001b[0m\u001b[0;34m\u001b[0m\u001b[0m\n\u001b[1;32m      6\u001b[0m \u001b[0;32mimport\u001b[0m \u001b[0mpandas\u001b[0m \u001b[0;32mas\u001b[0m \u001b[0mpd\u001b[0m\u001b[0;34m\u001b[0m\u001b[0;34m\u001b[0m\u001b[0m\n",
        "\u001b[0;31mModuleNotFoundError\u001b[0m: No module named 'Bio'"
       ]
      }
     ],
     "persistentId": "7da06333-e82b-43dc-a224-ab6fdaf3026a",
     "text": "import itertools\nimport random\n\nfrom Bio import SeqIO\nimport matplotlib.pyplot as plt\nimport pandas as pd\nimport seaborn as sns\n\nfrom khtools.ensembl import get_sequence\nfrom khtools.compare_peptide import kmerize, jaccardize"
    },
    "executionTime": "2019-09-06T02:12:03.486Z"
   },
   {
    "cell": {
     "executionCount": 8,
     "executionEventId": "959992fc-ecdf-4fda-a654-d65c4c0d93d3",
     "hasError": false,
     "id": "9aeec160-0df0-47fb-a7f0-d65c0a19ac25",
     "outputs": [
      {
       "name": "stdout",
       "output_type": "stream",
       "text": "CPU times: user 0 ns, sys: 0 ns, total: 0 ns\nWall time: 8.34 µs\n"
      }
     ],
     "persistentId": "a3217612-1e52-4db6-8b29-7080816162d8",
     "text": "%%time\n\ndef maybe_get_cds(transcript_id):\n    try:\n        return get_sequence(transcript_id, type='cds', verbose=False)\n    except HTTPError:\n        return None\n\nprotein_coding_cds_only = [(transcript_id, get_sequence(transcript_id, type='cds', verbose=False)) for transcript_id, seq in protein_coding]\nlen(protein_coding_cds_only)"
    },
    "executionTime": "2019-09-06T02:13:54.654Z"
   },
   {
    "cell": {
     "executionCount": 9,
     "executionEventId": "2f135311-cab7-4980-856f-b0aeb37d1594",
     "hasError": false,
     "id": "4387633f-d12f-453f-b045-d3546a82879b",
     "outputs": [
      {
       "name": "stdout",
       "output_type": "stream",
       "text": "0\n"
      }
     ],
     "persistentId": "2ae37154-2adb-435f-92a5-31ff4f713183",
     "text": "protein_coding_kmers = set(itertools.chain(*[kmerize(seq, ksize) for transcript_id, seq in protein_coding_cds_only if seq is not None]))\nprint(len(protein_coding_kmers))"
    },
    "executionTime": "2019-09-06T02:13:55.588Z"
   },
   {
    "cell": {
     "executionCount": 10,
     "executionEventId": "a9114535-5bf0-4b09-a699-798ae51a4650",
     "hasError": true,
     "id": "dfd153a6-b6cd-4936-9a52-df82500b9d73",
     "outputs": [
      {
       "ename": "NameError",
       "evalue": "name 'jaccardize' is not defined",
       "output_type": "error",
       "traceback": [
        "\u001b[0;31m---------------------------------------------------------------------------\u001b[0m",
        "\u001b[0;31mNameError\u001b[0m                                 Traceback (most recent call last)",
        "\u001b[0;32m<ipython-input-10-0a9edda2e134>\u001b[0m in \u001b[0;36m<module>\u001b[0;34m\u001b[0m\n\u001b[0;32m----> 1\u001b[0;31m \u001b[0mjaccardize\u001b[0m\u001b[0;34m(\u001b[0m\u001b[0mprotein_coding_kmers\u001b[0m\u001b[0;34m,\u001b[0m \u001b[0mlincrna_kmers\u001b[0m\u001b[0;34m)\u001b[0m\u001b[0;34m\u001b[0m\u001b[0;34m\u001b[0m\u001b[0m\n\u001b[0m",
        "\u001b[0;31mNameError\u001b[0m: name 'jaccardize' is not defined"
       ]
      }
     ],
     "persistentId": "634d3b76-32c7-43f4-a674-a927e13e99b3",
     "text": "jaccardize(protein_coding_kmers, lincrna_kmers)"
    },
    "executionTime": "2019-09-06T02:13:57.007Z"
   },
   {
    "cell": {
     "executionCount": 11,
     "executionEventId": "d4fd6c7e-d158-4aef-a0c1-b5d43240633b",
     "hasError": false,
     "id": "850c4939-cafc-4f5c-9c0c-11d0fe1bf5c9",
     "outputs": [
      {
       "name": "stdout",
       "output_type": "stream",
       "text": "0\n"
      }
     ],
     "persistentId": "9025319d-e48d-4baf-817d-bc5594bbcb03",
     "text": "protein_coding_cdna_kmers = set(itertools.chain(*[kmerize(seq, ksize) for transcript_id, seq in protein_coding if seq is not None]))\nprint(len(protein_coding_cdna_kmers))"
    },
    "executionTime": "2019-09-06T02:14:16.124Z"
   },
   {
    "cell": {
     "executionCount": 12,
     "executionEventId": "4da7fc75-7169-46d2-8a5e-22e26c69136a",
     "hasError": true,
     "id": "108ea17f-daaf-43ca-9c73-3d5277b6d9ac",
     "outputs": [
      {
       "ename": "NameError",
       "evalue": "name 'jaccardize' is not defined",
       "output_type": "error",
       "traceback": [
        "\u001b[0;31m---------------------------------------------------------------------------\u001b[0m",
        "\u001b[0;31mNameError\u001b[0m                                 Traceback (most recent call last)",
        "\u001b[0;32m<ipython-input-12-3eaaa14ac71d>\u001b[0m in \u001b[0;36m<module>\u001b[0;34m\u001b[0m\n\u001b[0;32m----> 1\u001b[0;31m \u001b[0mjaccardize\u001b[0m\u001b[0;34m(\u001b[0m\u001b[0mprotein_coding_cdna_kmers\u001b[0m\u001b[0;34m,\u001b[0m \u001b[0mlincrna_kmers\u001b[0m\u001b[0;34m)\u001b[0m\u001b[0;34m\u001b[0m\u001b[0;34m\u001b[0m\u001b[0m\n\u001b[0m",
        "\u001b[0;31mNameError\u001b[0m: name 'jaccardize' is not defined"
       ]
      }
     ],
     "persistentId": "1a18bc1b-04c4-4de3-8c01-3f1020f1731e",
     "text": "jaccardize(protein_coding_cdna_kmers, lincrna_kmers)"
    },
    "executionTime": "2019-09-06T02:14:21.894Z"
   },
   {
    "cell": {
     "executionCount": 13,
     "executionEventId": "1bc53866-7277-4922-aa0e-42ff1b8f9966",
     "hasError": true,
     "id": "e993fe13-b894-42bc-a89c-be6b5660df44",
     "outputs": [
      {
       "ename": "ModuleNotFoundError",
       "evalue": "No module named 'Bio'",
       "output_type": "error",
       "traceback": [
        "\u001b[0;31m---------------------------------------------------------------------------\u001b[0m",
        "\u001b[0;31mModuleNotFoundError\u001b[0m                       Traceback (most recent call last)",
        "\u001b[0;32m<ipython-input-13-008f758f8179>\u001b[0m in \u001b[0;36m<module>\u001b[0;34m\u001b[0m\n\u001b[1;32m      2\u001b[0m \u001b[0;32mimport\u001b[0m \u001b[0mrandom\u001b[0m\u001b[0;34m\u001b[0m\u001b[0;34m\u001b[0m\u001b[0m\n\u001b[1;32m      3\u001b[0m \u001b[0;34m\u001b[0m\u001b[0m\n\u001b[0;32m----> 4\u001b[0;31m \u001b[0;32mfrom\u001b[0m \u001b[0mBio\u001b[0m \u001b[0;32mimport\u001b[0m \u001b[0mSeqIO\u001b[0m\u001b[0;34m\u001b[0m\u001b[0;34m\u001b[0m\u001b[0m\n\u001b[0m\u001b[1;32m      5\u001b[0m \u001b[0;32mimport\u001b[0m \u001b[0mmatplotlib\u001b[0m\u001b[0;34m.\u001b[0m\u001b[0mpyplot\u001b[0m \u001b[0;32mas\u001b[0m \u001b[0mplt\u001b[0m\u001b[0;34m\u001b[0m\u001b[0;34m\u001b[0m\u001b[0m\n\u001b[1;32m      6\u001b[0m \u001b[0;32mimport\u001b[0m \u001b[0mpandas\u001b[0m \u001b[0;32mas\u001b[0m \u001b[0mpd\u001b[0m\u001b[0;34m\u001b[0m\u001b[0;34m\u001b[0m\u001b[0m\n",
        "\u001b[0;31mModuleNotFoundError\u001b[0m: No module named 'Bio'"
       ]
      }
     ],
     "persistentId": "7da06333-e82b-43dc-a224-ab6fdaf3026a",
     "text": "import itertools\nimport random\n\nfrom Bio import SeqIO\nimport matplotlib.pyplot as plt\nimport pandas as pd\nimport seaborn as sns\n\nfrom khtools.ensembl import get_sequence\nfrom khtools.compare_peptide import kmerize, jaccardize"
    },
    "executionTime": "2019-09-06T02:14:39.690Z"
   },
   {
    "cell": {
     "executionCount": 14,
     "executionEventId": "a731c17b-8fee-4c90-84c5-1d3a633e5aff",
     "hasError": false,
     "id": "e993fe13-b894-42bc-a89c-be6b5660df44",
     "outputs": [],
     "persistentId": "7da06333-e82b-43dc-a224-ab6fdaf3026a",
     "text": "import itertools\nimport random\n\nfrom Bio import SeqIO\nimport matplotlib.pyplot as plt\nimport pandas as pd\nimport seaborn as sns\n\nfrom khtools.ensembl import get_sequence\nfrom khtools.compare_peptide import kmerize, jaccardize"
    },
    "executionTime": "2019-09-06T02:16:58.549Z"
   },
   {
    "cell": {
     "executionCount": 15,
     "executionEventId": "bcd40d12-8ccd-4128-ab8e-9a07d8f41315",
     "hasError": false,
     "id": "0cd314bd-2515-40f3-8481-57bfc115321f",
     "outputs": [
      {
       "data": {
        "text/plain": "2018"
       },
       "execution_count": 15,
       "metadata": {},
       "output_type": "execute_result"
      }
     ],
     "persistentId": "feb62597-4e57-4d6f-a1e5-57d8d6e63d1a",
     "text": "len(get_sequence('ENST00000307377', type='cdna'))"
    },
    "executionTime": "2019-09-06T02:17:11.258Z"
   },
   {
    "cell": {
     "executionCount": 16,
     "executionEventId": "2628f44f-3789-4420-a0fd-d735eb82b598",
     "hasError": false,
     "id": "23354826-950d-4ff2-af27-6f70f6b0205c",
     "outputs": [
      {
       "data": {
        "text/plain": "1641"
       },
       "execution_count": 16,
       "metadata": {},
       "output_type": "execute_result"
      }
     ],
     "persistentId": "65829092-5653-4ddc-897b-ce068a0bde74",
     "text": "len(get_sequence('ENST00000307377', type='cds'))"
    },
    "executionTime": "2019-09-06T02:17:12.136Z"
   },
   {
    "cell": {
     "executionCount": 17,
     "executionEventId": "4705347d-4082-4cb3-86d6-eef36be0b230",
     "hasError": false,
     "id": "2a0e56b1-1dd0-4229-bcc9-f859dca3637e",
     "outputs": [
      {
       "name": "stdout",
       "output_type": "stream",
       "text": "total 2.0K\ndrwxrwxr-x  4 olga 21002 4.0K Jul 16 10:06 .\ndrwxrwxr-x 14 olga 21002 4.0K Sep  4 16:14 ..\ndrwxrwxr-x  4 olga 21002 4.0K Jul 16 10:06 human\ndrwxrwxr-x  5 olga 21002 4.0K Jul 16 10:06 mouse\n"
      }
     ],
     "persistentId": "8b2c97bf-2357-45a3-ad48-0eee9b1b040f",
     "text": "GENCODE_FOLDER = '/home/olga/data_lg/czbiohub-reference/gencode/'\n! ls -lha $GENCODE_FOLDER"
    },
    "executionTime": "2019-09-06T02:17:12.212Z"
   },
   {
    "cell": {
     "executionCount": 18,
     "executionEventId": "657522c0-31fc-43a9-bd6c-6e75f7706330",
     "hasError": false,
     "id": "3665a846-92ee-4f98-9f22-13e1cb353fef",
     "outputs": [
      {
       "name": "stdout",
       "output_type": "stream",
       "text": "gencode.v30.annotation.ERCC92.bed\ngencode.v30.annotation.ERCC92.gene_type.bed\n\u001b[0m\u001b[01;32mgencode.v30.annotation.ERCC92.gene_type.gtf\u001b[0m*\n\u001b[01;32mgencode.v30.annotation.ERCC92.gtf\u001b[0m*\n\u001b[01;32mgencode.v30.annotation.gtf\u001b[0m*\n\u001b[01;31mgencode.v30.pc_translations.fa.gz\u001b[0m\n\u001b[01;32mgencode.v30.transcripts.ERCC92.fa\u001b[0m*\n\u001b[01;32mgencode.v30.transcripts.fa\u001b[0m*\n\u001b[01;32mgetfasta_transcript_test.fa\u001b[0m*\n\u001b[01;32mGRCh38.p12.genome.ERCC92.fa\u001b[0m*\n\u001b[01;32mGRCh38.p12.genome.fa\u001b[0m*\n\u001b[01;32mGRCh38.p12.genome.fa.fai\u001b[0m*\nHomo_sapiens.GRCh38.96.bed\n\u001b[01;32mMakefile\u001b[0m*\n\u001b[01;32mMakefile~\u001b[0m*\n\u001b[01;34msalmon_index\u001b[0m/\n\u001b[01;34mSTARIndex\u001b[0m/\n\u001b[01;32mtest_gffread_transcripts.fa\u001b[0m*\n\u001b[01;32mtest_gffread_transcripts_no_dashF.fa\u001b[0m*\n\u001b[01;32mw\u001b[0m*\n"
      }
     ],
     "persistentId": "deade31d-acbe-4b44-9f0c-cf962297043d",
     "text": "ls $GENCODE_FOLDER/human/v30/"
    },
    "executionTime": "2019-09-06T02:17:12.511Z"
   },
   {
    "cell": {
     "executionCount": 19,
     "executionEventId": "e8b9e4ce-4897-434f-8d4d-fde02cd878ff",
     "hasError": false,
     "id": "42899698-fdb3-4aa2-aa05-7c1944eb906c",
     "outputs": [
      {
       "name": "stdout",
       "output_type": "stream",
       "text": "     41 3prime_overlapping_ncRNA\n  11636 antisense\n    329 bidirectional_promoter_lncRNA\n     23 IG_C_gene\n      9 IG_C_pseudogene\n     37 IG_D_gene\n     18 IG_J_gene\n      3 IG_J_pseudogene\n      1 IG_pseudogene\n    144 IG_V_gene\n    188 IG_V_pseudogene\n  14933 lincRNA\n      1 macro_lncRNA\n   1881 miRNA\n   2227 misc_RNA\n      2 Mt_rRNA\n     22 Mt_tRNA\n      1 non_coding\n  15550 nonsense_mediated_decay\n     90 non_stop_decay\n     63 polymorphic_pseudogene\n  10171 processed_pseudogene\n  28809 processed_transcript\n  83688 protein_coding\n     38 pseudogene\n  28273 retained_intron\n      8 ribozyme\n     52 rRNA\n    500 rRNA_pseudogene\n     49 scaRNA\n      1 scRNA\n    950 sense_intronic\n    368 sense_overlapping\n    954 snoRNA\n   1901 snRNA\n      5 sRNA\n   1158 TEC\n    494 transcribed_processed_pseudogene\n    131 transcribed_unitary_pseudogene\n    914 transcribed_unprocessed_pseudogene\n      2 translated_processed_pseudogene\n      6 TR_C_gene\n      4 TR_D_gene\n     79 TR_J_gene\n      4 TR_J_pseudogene\n    106 TR_V_gene\n     33 TR_V_pseudogene\n     96 unitary_pseudogene\n   2626 unprocessed_pseudogene\n      2 vaultRNA\n"
      }
     ],
     "persistentId": "9d7fe2f3-5378-4a5a-8ab6-9eda9f4c436d",
     "text": "! grep '>' $GENCODE_FOLDER/human/v30/gencode.v30.transcripts.fa | cut -f 8 -d '|' | sort | uniq -c"
    },
    "executionTime": "2019-09-06T02:17:13.043Z"
   },
   {
    "cell": {
     "executionCount": 20,
     "executionEventId": "2360a543-9c9d-4620-ae58-7abfdb5a86bb",
     "hasError": false,
     "id": "982e9287-dd13-4d67-b6ca-6ba9f56e9caa",
     "outputs": [
      {
       "name": "stdout",
       "output_type": "stream",
       "text": "CPU times: user 4.11 s, sys: 256 ms, total: 4.37 s\nWall time: 4.37 s\n"
      }
     ],
     "persistentId": "58dee61b-27de-4664-af4c-afd27a03a50f",
     "text": "%%time\n\nn_desired_records = 500\n\nrandom.seed(0)\n\nlincRNA = []\nprotein_coding = []\n\nlincRNA_metadata_lines = []\nprotein_coding_metadata_lines = []\n\nrecords = list(SeqIO.parse(f\"{GENCODE_FOLDER}/human/v30/gencode.v30.transcripts.fa\", 'fasta'))\n\n# Shuffles in-place and returns none\nrandom.shuffle(records)\n\nfor record in records:\n    metadata = record.name.strip('|').split(\"|\")\n    if metadata[-1] == 'protein_coding':\n        if len(protein_coding) < n_desired_records:\n            protein_coding.append((metadata[0].split(\".\")[0], str(record.seq)))\n            protein_coding_metadata_lines.append(metadata)\n    elif metadata[-1] == 'lincRNA':\n        if len(lincRNA) < n_desired_records:\n            lincRNA.append((metadata[0].split(\".\")[0], str(record.seq)))\n            lincRNA_metadata_lines.append(metadata)\n    if len(lincRNA) >= n_desired_records and len(protein_coding) >= n_desired_records:\n        break\n# del records"
    },
    "executionTime": "2019-09-06T02:17:18.719Z"
   },
   {
    "cell": {
     "executionCount": 21,
     "executionEventId": "e73b5ca5-ab3f-4ef1-9ae6-6b0fec899f92",
     "hasError": false,
     "id": "b1d96436-5fdb-4268-9813-0fae940bb428",
     "outputs": [
      {
       "name": "stdout",
       "output_type": "stream",
       "text": "(500, 8)\n"
      },
      {
       "data": {
        "text/html": "<div>\n<style scoped>\n    .dataframe tbody tr th:only-of-type {\n        vertical-align: middle;\n    }\n\n    .dataframe tbody tr th {\n        vertical-align: top;\n    }\n\n    .dataframe thead th {\n        text-align: right;\n    }\n</style>\n<table border=\"1\" class=\"dataframe\">\n  <thead>\n    <tr style=\"text-align: right;\">\n      <th></th>\n      <th>0</th>\n      <th>1</th>\n      <th>2</th>\n      <th>3</th>\n      <th>4</th>\n      <th>5</th>\n      <th>6</th>\n      <th>7</th>\n    </tr>\n  </thead>\n  <tbody>\n    <tr>\n      <th>0</th>\n      <td>ENST00000623420.1</td>\n      <td>ENSG00000279927.1</td>\n      <td>OTTHUMG00000189181.1</td>\n      <td>OTTHUMT00000479003.1</td>\n      <td>Z95114.4-201</td>\n      <td>Z95114.4</td>\n      <td>3578</td>\n      <td>lincRNA</td>\n    </tr>\n    <tr>\n      <th>1</th>\n      <td>ENST00000628547.2</td>\n      <td>ENSG00000242086.8</td>\n      <td>OTTHUMG00000155834.14</td>\n      <td>OTTHUMT00000481409.1</td>\n      <td>MUC20-OT1-308</td>\n      <td>MUC20-OT1</td>\n      <td>882</td>\n      <td>lincRNA</td>\n    </tr>\n    <tr>\n      <th>2</th>\n      <td>ENST00000411525.1</td>\n      <td>ENSG00000224429.7</td>\n      <td>OTTHUMG00000016541.3</td>\n      <td>OTTHUMT00000044126.1</td>\n      <td>LINC00539-201</td>\n      <td>LINC00539</td>\n      <td>664</td>\n      <td>lincRNA</td>\n    </tr>\n    <tr>\n      <th>3</th>\n      <td>ENST00000427111.4</td>\n      <td>ENSG00000237248.5</td>\n      <td>OTTHUMG00000168333.2</td>\n      <td>OTTHUMT00000500908.1</td>\n      <td>LINC00987-201</td>\n      <td>LINC00987</td>\n      <td>2472</td>\n      <td>lincRNA</td>\n    </tr>\n    <tr>\n      <th>4</th>\n      <td>ENST00000551227.1</td>\n      <td>ENSG00000258028.2</td>\n      <td>OTTHUMG00000170370.2</td>\n      <td>OTTHUMT00000408712.1</td>\n      <td>AL135878.1-201</td>\n      <td>AL135878.1</td>\n      <td>741</td>\n      <td>lincRNA</td>\n    </tr>\n  </tbody>\n</table>\n</div>",
        "text/plain": "                   0                  1                      2  \\\n0  ENST00000623420.1  ENSG00000279927.1   OTTHUMG00000189181.1   \n1  ENST00000628547.2  ENSG00000242086.8  OTTHUMG00000155834.14   \n2  ENST00000411525.1  ENSG00000224429.7   OTTHUMG00000016541.3   \n3  ENST00000427111.4  ENSG00000237248.5   OTTHUMG00000168333.2   \n4  ENST00000551227.1  ENSG00000258028.2   OTTHUMG00000170370.2   \n\n                      3               4           5     6        7  \n0  OTTHUMT00000479003.1    Z95114.4-201    Z95114.4  3578  lincRNA  \n1  OTTHUMT00000481409.1   MUC20-OT1-308   MUC20-OT1   882  lincRNA  \n2  OTTHUMT00000044126.1   LINC00539-201   LINC00539   664  lincRNA  \n3  OTTHUMT00000500908.1   LINC00987-201   LINC00987  2472  lincRNA  \n4  OTTHUMT00000408712.1  AL135878.1-201  AL135878.1   741  lincRNA  "
       },
       "execution_count": 21,
       "metadata": {},
       "output_type": "execute_result"
      }
     ],
     "persistentId": "a520f97f-5218-4633-a612-5e28366d4229",
     "text": "lncrna_df = pd.DataFrame(lincRNA_metadata_lines)\nprint(lncrna_df.shape)\nlncrna_df.head()"
    },
    "executionTime": "2019-09-06T02:17:18.733Z"
   },
   {
    "cell": {
     "executionCount": 22,
     "executionEventId": "319bdf12-9362-437a-9600-ccdcc766e9d6",
     "hasError": false,
     "id": "b1903c3c-819e-4df4-8384-cb5639c2fd05",
     "outputs": [
      {
       "name": "stdout",
       "output_type": "stream",
       "text": "(500, 8)\n"
      },
      {
       "data": {
        "text/html": "<div>\n<style scoped>\n    .dataframe tbody tr th:only-of-type {\n        vertical-align: middle;\n    }\n\n    .dataframe tbody tr th {\n        vertical-align: top;\n    }\n\n    .dataframe thead th {\n        text-align: right;\n    }\n</style>\n<table border=\"1\" class=\"dataframe\">\n  <thead>\n    <tr style=\"text-align: right;\">\n      <th></th>\n      <th>0</th>\n      <th>1</th>\n      <th>2</th>\n      <th>3</th>\n      <th>4</th>\n      <th>5</th>\n      <th>6</th>\n      <th>7</th>\n    </tr>\n  </thead>\n  <tbody>\n    <tr>\n      <th>0</th>\n      <td>ENST00000525764.5</td>\n      <td>ENSG00000149150.9</td>\n      <td>OTTHUMG00000167030.4</td>\n      <td>OTTHUMT00000392591.2</td>\n      <td>SLC43A1-203</td>\n      <td>SLC43A1</td>\n      <td>556</td>\n      <td>protein_coding</td>\n    </tr>\n    <tr>\n      <th>1</th>\n      <td>ENST00000576452.5</td>\n      <td>ENSG00000108523.15</td>\n      <td>OTTHUMG00000099397.5</td>\n      <td>OTTHUMT00000438729.1</td>\n      <td>RNF167-215</td>\n      <td>RNF167</td>\n      <td>589</td>\n      <td>protein_coding</td>\n    </tr>\n    <tr>\n      <th>2</th>\n      <td>ENST00000307377.12</td>\n      <td>ENSG00000170266.16</td>\n      <td>OTTHUMG00000155781.8</td>\n      <td>OTTHUMT00000341571.1</td>\n      <td>GLB1-202</td>\n      <td>GLB1</td>\n      <td>2018</td>\n      <td>protein_coding</td>\n    </tr>\n    <tr>\n      <th>3</th>\n      <td>ENST00000649592.1</td>\n      <td>ENSG00000114861.20</td>\n      <td>OTTHUMG00000158803.17</td>\n      <td>OTTHUMT00000497729.1</td>\n      <td>FOXP1-260</td>\n      <td>FOXP1</td>\n      <td>1975</td>\n      <td>protein_coding</td>\n    </tr>\n    <tr>\n      <th>4</th>\n      <td>ENST00000454061.5</td>\n      <td>ENSG00000214413.8</td>\n      <td>OTTHUMG00000019046.6</td>\n      <td>OTTHUMT00000050350.2</td>\n      <td>BBIP1-208</td>\n      <td>BBIP1</td>\n      <td>812</td>\n      <td>protein_coding</td>\n    </tr>\n  </tbody>\n</table>\n</div>",
        "text/plain": "                    0                   1                      2  \\\n0   ENST00000525764.5   ENSG00000149150.9   OTTHUMG00000167030.4   \n1   ENST00000576452.5  ENSG00000108523.15   OTTHUMG00000099397.5   \n2  ENST00000307377.12  ENSG00000170266.16   OTTHUMG00000155781.8   \n3   ENST00000649592.1  ENSG00000114861.20  OTTHUMG00000158803.17   \n4   ENST00000454061.5   ENSG00000214413.8   OTTHUMG00000019046.6   \n\n                      3            4        5     6               7  \n0  OTTHUMT00000392591.2  SLC43A1-203  SLC43A1   556  protein_coding  \n1  OTTHUMT00000438729.1   RNF167-215   RNF167   589  protein_coding  \n2  OTTHUMT00000341571.1     GLB1-202     GLB1  2018  protein_coding  \n3  OTTHUMT00000497729.1    FOXP1-260    FOXP1  1975  protein_coding  \n4  OTTHUMT00000050350.2    BBIP1-208    BBIP1   812  protein_coding  "
       },
       "execution_count": 22,
       "metadata": {},
       "output_type": "execute_result"
      }
     ],
     "persistentId": "de7d6948-c834-435f-8805-0ede4025e443",
     "text": "protein_coding_df = pd.DataFrame(protein_coding_metadata_lines)\nprint(protein_coding_df.shape)\nprotein_coding_df.head()"
    },
    "executionTime": "2019-09-06T02:17:19.071Z"
   },
   {
    "cell": {
     "executionCount": 23,
     "executionEventId": "f9745362-0e6a-442d-93c6-ca77120eaf34",
     "hasError": false,
     "id": "a3ddbc88-b397-4a67-b8bf-65a461536b77",
     "outputs": [
      {
       "data": {
        "text/plain": "[('ENST00000623420',\n  'GCCCTGCCAGCCACTGTTCTAAGCACTTTTTCCCTGTTCCTGCCGATTTGCTCCTCACAACAACCATAGGAAGTGGAGACTATGATTATCCCCGTTGCACAGTAAGGAAACTGAGGCAAAAGGCGGTTAGGTAACTTGGCGATGTCTCCCGGCTAGGGATAGCAGAATGGGATAGAAACGCAGGCCACGCGGTCTGGAGCGGTGGCTCACGCCTTTAATCCCAGTACTTAGGGAGGCCGAGGCGGGCGGGTTACCTGGGGTCAGGAGTTCGAGACCAGCCTGGCCAACATGGTGAAACCCTATCTCTACTAAAAATACAAAAATTAGTCGGGGTGGGCACCTGTAATCCCAGCTACTCGAGGCTGAGGCAAAAGAATCGCTTGAACCCAGGAGGCAGAGGTGGCAGTGAGCCGAGATCACCCCACTGCACTTCAGCCTGGGTGGCAGAACAAGACTCTGTCTCAAAAAAAAAAAAAAGAATAAAAAAAAGAAAGGCAGGCCACCCGGTGGTGGTCCCTGTGCTCCTCCCCACCCACCCCCGCACTGTGCTGGGCGGTGAGGAGGCGGCTGGCCCAGGAGGTGGGGGTGTGGAGTGGGGCACATCAGAGATTTCAAATTGACCAAGGTCTGTTTTGTGTCAGTTTGTCAGTTTTATGTGTCAGCTTGGCTAAACTATGGTCTCCTGTTATTTGATCAAACACTAATCTATTTTTTCTTTTAGTTTAAAAAATAATAATTAAATGAAAAAATCCTGGCTAATGTTTTTTTTTTTGTAGAGACAGGGTTTTGCCTTGTTGCCCAGGCTGGCCTCTGACCCTTGGGCTCAAGTGATCTGCCACCATGCCTAGCCTCAAACACTAATCTAGATGTTGCTTGAAGGCATTTTGTAGATGTGATTTGTCTATAATTAGTTTACTTCAAGTAAGGGAGATTATCCCAGATAATCTGGGTGAGTCTGAAAGACTTTATGGGTAGAACTGAGGTGCCCTTGAAGAGGAAGAAATTCTGCCAGCCAATAGCAATTTCAGCTTGTGCTGAAGAGTTCCAGCCTTCCTAACAACCAGCCCTACAAATTTCGGACTTGCCTAGCCAGCCCTGTGTGTATAAACCAATTCCTTGCAATAATCACACCTACACCCTCACCCCACCCCCCTCCCCAAATACATGTATATATGGAGAGAGAGGGAGAGAGAATATAAAATCATACATATATCATATATCTCCTATTTGTTCTGTGTCTTTAATTTCTCTAGTTGACCCCTGACTGATGCAATGACCCAAGAGCAGGCAGATGCCCGGGGGGCGTTTATGATACCTCTCCTAGGACTTGGCTCAATCTGAGTCCCTCAACGGCCATCTGCAACCCTGAGGAGGGTAGGAAAATCCCAAATTGACTGAGATTACATTTCCATCATCAACAGCAATGGAGAATCAATAAAGAAATTTAGTTCAGATATTGAAAAATGAAGAGGGCTGGGTGCAGTGGCTCACGCCTGTAATCCCAGCACTTTGGGAGGCCGAGGCGGGTGGATCACCTGAGGTCGGGAGTTCGAGACCGGCCTGGCCAACATGGTGAAAACTCATCTTTACTAAAAATACAAAAATTAGTTCTGGTGGGTGCCTGTAATCCCAGCTACTCGGGAGGCTGAGGCAGGAGAATTGTTTGAACCCATTAGGCAGAGGTGGCAGTGAGCCGAGATCACCCCATTGCACTTCAGCCTGGGTGACAGAACAAGACTCCGTCTCAAGGAAAAGAAAAAAAAAAGAAGAAAGTCACAGTTTTTGCACTATCAAGTTTATGTGCTAAGATTCATACCTCATTTTAACAGCCTACATCTACTTCTGCGTGGACCAGAAGGACAGAGCCACAATAACACTGACCAAACCATAGTAATAGCACAATCGTTGCTACAAAACATTTGCAAATAATCAGATAATATATCTGATTAGGGCCTTGTATCCAGAATATATAAAGAGCTCTTATTGCAACAACAAGTAGAAAACAGATCAATTTAAAAATGGGCAAAGGTAGGCCAGGCACAGTGGCTCACACCTATAATCCCAGCACTTAGGGAGGCCGAGGCGGGTGGATCACCTGAGGTCAGGAGTTTGAGACCAGCCTGGCCAACATGGCGAAACTCCGTCTCTACTAAAAGTACAAAATTGAGCCGGACGTGGTGGTGAGAGTCTGTAATCCCAGCTACTTGGGAGGCTGAGGCAGGAGAATCGCTTGAACCCAGGAGATGGAGGTTGCAGTGAGCTGAGATCTCGCCATTGCACTCCAGCCTGGGCGACAAGAGTGAGACTCTGTCTCAAAATAAAAAATAAAATAAAATAGGCAAAGGACTTGAATATCCAAAGAAGATAAACAAATGGCCAATAAGCAAACAATACTTTCAAGCACAAAAGATGCTCGACATAATTAGTCATCAAGGAAAAGGCAAATCAGAACCACACGGGACTCACTTCACATCCACCAGGATGACTATAGTCCTTACAGTAAGAGAATAGCAGATGGCAGGTATTGTGCTTTACTTGTATTAAGTAACTTAATCCTCACAGTAGCCTCGTGAAGGAGGGATGGCTATTAGCTCATTTACAAAAGAGGAACTGAGGCCTGGAAAGGTGAAATGATTGCCCCAGTGTTCCACGGCTGGTCAGTGGGTGTCAGAATTTAAGACCTGGGCTGTCTGCTTCCAAAGCTGTGCTATCCAGCTTTAATGACTGTGCTATACTGGTCTCTAGCAAAATTATTGAAAATTTCCCTCTCAGACCCACCATTTACCTTTATTGCTCCCAGAGACCCTCACATGTGCTCCTTAGCTACCAAAAACAGACTTCTTCTTTCTCCTGGCATTTGTCCCATGTCCTTTGGTCAGTCCAGAACTCACTAGGAGGCTCCCAGACGCTGTGTCCGTGTTTCTCCTCCAGACCGACGATGCTGCCTGTGTCACTGCCTCAGGGCCATGTCACTGCTGCTGCCCCACTGGACTCCCACGGTCCTAGCCACCAGCCACTCCCCTCCTTCTTCCTGGCTAGCAAGGTTTACTGACTACCATAGAGGCGGAAAATGCCAGATGCTCGGTTTCCCAGGTTCCCTTTACAGTTACAGGTGACCATGTGACCGTGTTCTGGTCAATGACATATAAGGAGAGTCTTCTGAGAAAGATTTTCTCTCCTGGCCAGAATAGAGAGAGAGGGTGAGGTAGATGGAAAGAGCGGGAAGCTGGGCGCAGTGGTTCACACCTGTAATCCCAACACTTTGGGAGGCCAAGGCAGGTGGATCACCTGAGGTCAGGAGTTCGAGACCAGCCTGGCCACATGATGAAACCTTGTCTCTACTAAAAATACAAAAATTAGCTGGGTGTGGTGGTGTGGGCCTGTAATCCCAGCTATTTGGGAGGCTGAGGCACGTGAATCACTTGAACCCAGGAGGCGGAGATTGCAGTGTGCTGATCATGCCACTGCACTCCAGCCTGGGCAACAGAGTGAGACTCCGCCTCAAAACACACACACACACACACACACACACACACACACACACACACACACAAAACAGTGGGAGAGAGAGTAAGAGT'),\n ('ENST00000628547',\n  'CTGGCAGGAGCAGATTCCAAAGGCACAGGAAGAAGCTTGCAGTACAAAGATAAAAATCTAAAGTGGTTGCTGTGGAGGACAGGGGTCAGTGGTGGAAGTGAGACCGAAATAGACTCTGAAGTAATATCTGGACTTTGAAATTGTTGCCTGTTCACTCTGCCTGGTCATATGCAGAAAACCGAAACTAGACCCCTTGCTGACACTTATACAAAAATTAACTCAAGATGCATTAAAGATTTAAACGTGAGACCTAAAACCAGAAAAATCCTAGAAGAAAACCTAGGCAACACCATTGAGGACGTAAGCATGGGCAAAGACTTCATGACTAAAACACCAAAAGAAATGGCAACAAAAGCCAAAATTGACAAAAGGTTTCCTTAATGACAACAAAAAAGGGAGTAATCCTACCCACTGTAAGAGTCATGACTCTTGATTGCAGCTGACAGAAACTCATGACAGCCTGCTTTAGATGAAGGGGGAGAGAAGGACTGGAAGAATCTTGGAGTTGGGAATGTCACACGCAGCTGCTCCCAACCCCAGAACCTTTGCTGTCTTGGGACGGATCACCGCTGCAAGAGGGGAAGTTGCTACTGTGATGAATTCTGCCATGTGGCACCAGACTGCCACCCAGACCACAGTGTCCTCTGCAACCCTGGTAACTCACATACAGGCCCGATTCCACCTACAGCAAAGCTGGATGCGATGGCTGGCAGAGGCAAACCCTTTGCCTGCACTTCAGGCCAAAGCCGGGATGTGGCCTAGATGGTTCCTAAGGTCCCTGACAATCCTGAGATCTTGCATCTTGTCTATTTCAGGTCAAAGCTTCTCAGATGACCAAGATGGTGCTGCAGATGGTGCTGAGGATGGAGAACCCACCAAGCC')]"
       },
       "execution_count": 23,
       "metadata": {},
       "output_type": "execute_result"
      }
     ],
     "persistentId": "a74c5fe2-756b-4ea6-bf6b-e4ee3459bfbf",
     "text": "lincRNA[:2]"
    },
    "executionTime": "2019-09-06T02:17:19.804Z"
   },
   {
    "cell": {
     "executionCount": 24,
     "executionEventId": "2d6c04b7-115f-4eda-9460-05de0a7dbfb9",
     "hasError": false,
     "id": "b61b41f7-8594-4f16-91e5-42751dc169d1",
     "outputs": [
      {
       "data": {
        "text/plain": "[('ENST00000525764',\n  'CACCAACACCACCCAGGATGAGCAGCGCAGGTGGCCAGGCTGTGACCAGCAGGACGAGATGCTCAACCTGGGCTTCACCATTGGTTCCTTCGTGCTCAGCGCCACCACCCTGCCACTGGGGATCCTCATGGACCGCTTTGGCCCCCGACCCGTGCGGCTGGTTGGCAGTGCCTGCTTCACTGCGTCCTGCACCCTCATGGCCCTGGCCTCCCGGGACGTGGAAGCTCTGTCTCCGTTGATATTCCTGGCGCTGTCCCTGAATGGCTTTGGTGGCATCTGCCTAACGTTCACTTCACTCACGGGACGGGGTTGCTACCAAATCCATCAGACCACGCTACTGCAAGATCCAAAAGCTCACCAATGCCATCAGTGCCTTCACCCTGACCAACCTGCTGCTTGTGGGTTTTGGCATCACCTGTCTCATCAACAACTTACACCTCCAGTTTGTGACCTTTGTCCTGCACACCATTGTTCGAGGTTTCTTCCACTCAGCCTGTGGGAGTCTCTATGCTGCAGTGTTCCCATCCAACCACTTTGGGACGCTGACAGGCCTGCA'),\n ('ENST00000576452',\n  'AGGAGGAGCTTGATGGAAGCGTGCGAGAAGGGGCGTAACTGATTTGGAAACCAGAGGAAAGGCGCTGTTTTCACCGAATTAGAATCGCGGGAAAATAGAGAAGAGTTTGTTTGAAGGTCTCGCGAGATCGAGTGAGTACGGCTCGCCAAGTTGGAGCGCTCTCGCGATAGACACAGCAACTATTCAGCTGCGAGGGGACGGGAGAGGTGGTGAGCACTCTCGCGAGATTTGAAGGAGCGGCGGAGGCCAGAGGGAGGAGAGGACGCGCGGCCTCCTCAGCCTCTTTCCTCCCGCTGCCATGCACCCTGCAGCCTTCCCGCTTCCTGTGGTTGTGGCCGCTGTGCTGTGGGGAGCGGCCCCGACCCGGGGGCTCATTCGAGCGACCTCGGACCACAATGCCAGCATGGACTTTGCAGACCTTCCAGCTCTGTTTGGGGCTACCTTGAGCCAGGAGGGCCTCCAGGGGTTCCTTGTGGAGGCTCACCCAGACAATGCCTGCAGCCCCATTGCCCCACCACCCCCAGCCCCGGTCAATGGGTCAGTCTTTATTGCGCTGCTTCGAAGATTCGACTGCAACTTTGACCTCAAG')]"
       },
       "execution_count": 24,
       "metadata": {},
       "output_type": "execute_result"
      }
     ],
     "persistentId": "f1df8f36-e80c-436b-a076-a885aa300034",
     "text": "protein_coding[:2]"
    },
    "executionTime": "2019-09-06T02:17:20.725Z"
   },
   {
    "cell": {
     "executionCount": 26,
     "executionEventId": "87c76513-f076-430f-b27a-83178ceeaf1f",
     "hasError": false,
     "id": "850c4939-cafc-4f5c-9c0c-11d0fe1bf5c9",
     "outputs": [
      {
       "name": "stdout",
       "output_type": "stream",
       "text": "16383\n"
      }
     ],
     "persistentId": "9025319d-e48d-4baf-817d-bc5594bbcb03",
     "text": "protein_coding_cdna_kmers = set(itertools.chain(*[kmerize(seq, ksize) for transcript_id, seq in protein_coding if seq is not None]))\nprint(len(protein_coding_cdna_kmers))"
    },
    "executionTime": "2019-09-06T02:17:54.637Z"
   },
   {
    "cell": {
     "executionCount": 27,
     "executionEventId": "ab8ba4fb-aae4-491e-a816-ad21b9df4d65",
     "hasError": false,
     "id": "108ea17f-daaf-43ca-9c73-3d5277b6d9ac",
     "outputs": [
      {
       "data": {
        "text/plain": "1.0"
       },
       "execution_count": 27,
       "metadata": {},
       "output_type": "execute_result"
      }
     ],
     "persistentId": "1a18bc1b-04c4-4de3-8c01-3f1020f1731e",
     "text": "jaccardize(protein_coding_cdna_kmers, lincrna_kmers)"
    },
    "executionTime": "2019-09-06T02:17:54.713Z"
   },
   {
    "cell": {
     "executionCount": 28,
     "executionEventId": "1ede1c15-5f28-4836-bd5e-47ffd2129b4a",
     "hasError": true,
     "id": "9aeec160-0df0-47fb-a7f0-d65c0a19ac25",
     "outputs": [
      {
       "ename": "HTTPError",
       "evalue": "400 Client Error: Bad Request for url: https://rest.ensembl.org/sequence/id/ENST00000291532?type=cds",
       "output_type": "error",
       "traceback": [
        "\u001b[0;31m---------------------------------------------------------------------------\u001b[0m",
        "\u001b[0;31mHTTPError\u001b[0m                                 Traceback (most recent call last)",
        "\u001b[0;32m<timed exec>\u001b[0m in \u001b[0;36m<module>\u001b[0;34m\u001b[0m\n",
        "\u001b[0;32m<timed exec>\u001b[0m in \u001b[0;36m<listcomp>\u001b[0;34m(.0)\u001b[0m\n",
        "\u001b[0;32m~/code/kmer-hashing/kh-tools/khtools/ensembl.py\u001b[0m in \u001b[0;36mget_sequence\u001b[0;34m(ensembl_id, verbose, type)\u001b[0m\n\u001b[1;32m     10\u001b[0m \u001b[0;34m\u001b[0m\u001b[0m\n\u001b[1;32m     11\u001b[0m     \u001b[0;32mif\u001b[0m \u001b[0;32mnot\u001b[0m \u001b[0mr\u001b[0m\u001b[0;34m.\u001b[0m\u001b[0mok\u001b[0m\u001b[0;34m:\u001b[0m\u001b[0;34m\u001b[0m\u001b[0;34m\u001b[0m\u001b[0m\n\u001b[0;32m---> 12\u001b[0;31m         \u001b[0mr\u001b[0m\u001b[0;34m.\u001b[0m\u001b[0mraise_for_status\u001b[0m\u001b[0;34m(\u001b[0m\u001b[0;34m)\u001b[0m\u001b[0;34m\u001b[0m\u001b[0;34m\u001b[0m\u001b[0m\n\u001b[0m\u001b[1;32m     13\u001b[0m         \u001b[0msys\u001b[0m\u001b[0;34m.\u001b[0m\u001b[0mexit\u001b[0m\u001b[0;34m(\u001b[0m\u001b[0;34m)\u001b[0m\u001b[0;34m\u001b[0m\u001b[0;34m\u001b[0m\u001b[0m\n\u001b[1;32m     14\u001b[0m \u001b[0;34m\u001b[0m\u001b[0m\n",
        "\u001b[0;32m~/miniconda3/envs/sourmash-sbt2knn/lib/python3.7/site-packages/requests/models.py\u001b[0m in \u001b[0;36mraise_for_status\u001b[0;34m(self)\u001b[0m\n\u001b[1;32m    938\u001b[0m \u001b[0;34m\u001b[0m\u001b[0m\n\u001b[1;32m    939\u001b[0m         \u001b[0;32mif\u001b[0m \u001b[0mhttp_error_msg\u001b[0m\u001b[0;34m:\u001b[0m\u001b[0;34m\u001b[0m\u001b[0;34m\u001b[0m\u001b[0m\n\u001b[0;32m--> 940\u001b[0;31m             \u001b[0;32mraise\u001b[0m \u001b[0mHTTPError\u001b[0m\u001b[0;34m(\u001b[0m\u001b[0mhttp_error_msg\u001b[0m\u001b[0;34m,\u001b[0m \u001b[0mresponse\u001b[0m\u001b[0;34m=\u001b[0m\u001b[0mself\u001b[0m\u001b[0;34m)\u001b[0m\u001b[0;34m\u001b[0m\u001b[0;34m\u001b[0m\u001b[0m\n\u001b[0m\u001b[1;32m    941\u001b[0m \u001b[0;34m\u001b[0m\u001b[0m\n\u001b[1;32m    942\u001b[0m     \u001b[0;32mdef\u001b[0m \u001b[0mclose\u001b[0m\u001b[0;34m(\u001b[0m\u001b[0mself\u001b[0m\u001b[0;34m)\u001b[0m\u001b[0;34m:\u001b[0m\u001b[0;34m\u001b[0m\u001b[0;34m\u001b[0m\u001b[0m\n",
        "\u001b[0;31mHTTPError\u001b[0m: 400 Client Error: Bad Request for url: https://rest.ensembl.org/sequence/id/ENST00000291532?type=cds"
       ]
      }
     ],
     "persistentId": "a3217612-1e52-4db6-8b29-7080816162d8",
     "text": "%%time\n\ndef maybe_get_cds(transcript_id):\n    try:\n        return get_sequence(transcript_id, type='cds', verbose=False)\n    except HTTPError:\n        return None\n\nprotein_coding_cds_only = [(transcript_id, get_sequence(transcript_id, type='cds', verbose=False)) for transcript_id, seq in protein_coding]\nlen(protein_coding_cds_only)"
    },
    "executionTime": "2019-09-06T02:22:08.522Z"
   },
   {
    "cell": {
     "executionCount": 29,
     "executionEventId": "92822233-0010-41b3-9e00-93a46d202cc7",
     "hasError": false,
     "id": "4387633f-d12f-453f-b045-d3546a82879b",
     "outputs": [
      {
       "name": "stdout",
       "output_type": "stream",
       "text": "0\n"
      }
     ],
     "persistentId": "2ae37154-2adb-435f-92a5-31ff4f713183",
     "text": "protein_coding_kmers = set(itertools.chain(*[kmerize(seq, ksize) for transcript_id, seq in protein_coding_cds_only if seq is not None]))\nprint(len(protein_coding_kmers))"
    },
    "executionTime": "2019-09-06T02:22:08.536Z"
   },
   {
    "cell": {
     "executionCount": 30,
     "executionEventId": "c5681d47-7cb9-4467-88c5-6c3b7ca563ab",
     "hasError": false,
     "id": "dfd153a6-b6cd-4936-9a52-df82500b9d73",
     "outputs": [
      {
       "data": {
        "text/plain": "0"
       },
       "execution_count": 30,
       "metadata": {},
       "output_type": "execute_result"
      }
     ],
     "persistentId": "634d3b76-32c7-43f4-a674-a927e13e99b3",
     "text": "jaccardize(protein_coding_kmers, lincrna_kmers)"
    },
    "executionTime": "2019-09-06T02:22:08.548Z"
   },
   {
    "cell": {
     "executionCount": 31,
     "executionEventId": "7da5cf41-87c8-49c9-b370-7f84dc54dcfb",
     "hasError": false,
     "id": "fd2702bd-fd9c-4d7c-b5d4-fbea547271a6",
     "outputs": [
      {
       "name": "stdout",
       "output_type": "stream",
       "text": "total possible k-mers of size 8 65536\ntotal possible k-mers of size 9 262144\ntotal possible k-mers of size 10 1048576\ntotal possible k-mers of size 11 4194304\ntotal possible k-mers of size 12 16777216\ntotal possible k-mers of size 13 67108864\ntotal possible k-mers of size 14 268435456\ntotal possible k-mers of size 15 1073741824\ntotal possible k-mers of size 16 4294967296\ntotal possible k-mers of size 17 17179869184\ntotal possible k-mers of size 18 68719476736\ntotal possible k-mers of size 19 274877906944\ntotal possible k-mers of size 20 1099511627776\ntotal possible k-mers of size 21 4398046511104\n(56, 3)\n(28, 3)\n"
      },
      {
       "data": {
        "text/html": "<div>\n<style scoped>\n    .dataframe tbody tr th:only-of-type {\n        vertical-align: middle;\n    }\n\n    .dataframe tbody tr th {\n        vertical-align: top;\n    }\n\n    .dataframe thead th {\n        text-align: right;\n    }\n</style>\n<table border=\"1\" class=\"dataframe\">\n  <thead>\n    <tr style=\"text-align: right;\">\n      <th></th>\n      <th>ksize</th>\n      <th>jaccard</th>\n      <th>comparison</th>\n    </tr>\n  </thead>\n  <tbody>\n    <tr>\n      <th>0</th>\n      <td>8</td>\n      <td>0.000000</td>\n      <td>lincRNA vs protein-coding CDS</td>\n    </tr>\n    <tr>\n      <th>1</th>\n      <td>8</td>\n      <td>0.991254</td>\n      <td>lincRNA vs protein-coding cDNA</td>\n    </tr>\n    <tr>\n      <th>2</th>\n      <td>9</td>\n      <td>0.000000</td>\n      <td>lincRNA vs protein-coding CDS</td>\n    </tr>\n    <tr>\n      <th>3</th>\n      <td>9</td>\n      <td>0.924801</td>\n      <td>lincRNA vs protein-coding cDNA</td>\n    </tr>\n    <tr>\n      <th>4</th>\n      <td>10</td>\n      <td>0.000000</td>\n      <td>lincRNA vs protein-coding CDS</td>\n    </tr>\n  </tbody>\n</table>\n</div>",
        "text/plain": "   ksize   jaccard                      comparison\n0      8  0.000000   lincRNA vs protein-coding CDS\n1      8  0.991254  lincRNA vs protein-coding cDNA\n2      9  0.000000   lincRNA vs protein-coding CDS\n3      9  0.924801  lincRNA vs protein-coding cDNA\n4     10  0.000000   lincRNA vs protein-coding CDS"
       },
       "execution_count": 31,
       "metadata": {},
       "output_type": "execute_result"
      }
     ],
     "persistentId": "f732ef44-dbbc-4e4b-a370-d38eb57c5bd2",
     "text": "ksizes = range(8, 22)\n\nlines = []\nn_kmer_lines = []\n\ndef kmerize_count_append(id_seqs, name):\n    kmers = set(itertools.chain(*[kmerize(seq, ksize) for transcript_id, seq in id_seqs]))\n    n_kmers = len(kmers)\n    \n    n_kmer_lines.append([ksize, kmers, name])\n    return kmers, n_kmer_lines\n\nfor ksize in ksizes:\n    n_possible_kmers = 4**ksize\n    n_kmer_lines.append([ksize, n_possible_kmers, 'total possible: 4^k'])\n    \n    print(f\"total possible k-mers of size {ksize}: \", n_possible_kmers)\n    \n    # lincRNAs\n    lincrna_kmers, n_kmer_lines = kmerize_count_append(lincRNA, 'lincRNA')\n    \n    # Protein-coding CDNA (whole transcript)\n    protein_coding_cdna_kmers, n_kmer_lines = kmerize_count_append(protein_coding, 'protein_coding_cdna')\n    \n    # Protein-coding CDS (translated part only)\n    protein_coding_cds_kmers, n_kmer_lines = kmerize_count_append(protein_coding_cds_only, 'protein_coding_cdna')\n\n    jaccard = jaccardize(protein_coding_cds_kmers, lincrna_kmers)\n    lines.append([ksize, jaccard, 'lincRNA vs protein-coding CDS'])\n\n    jaccard = jaccardize(protein_coding_cdna_kmers, lincrna_kmers)\n    lines.append([ksize, jaccard, 'lincRNA vs protein-coding cDNA'])\n\n\nn_kmer_df = pd.DataFrame(n_kmer_lines, columns=['ksize', 'count', 'category'])\nprint(n_kmer_df.shape)\n\n    \nprotein_coding_vs_lncrna_df = pd.DataFrame(lines, columns=['ksize', 'jaccard', 'comparison'])\nprint(protein_coding_vs_lncrna_df.shape)\nprotein_coding_vs_lncrna_df.head()"
    },
    "executionTime": "2019-09-06T02:24:41.245Z"
   },
   {
    "cell": {
     "executionCount": 32,
     "executionEventId": "8f12fc94-0957-4bed-9f08-75984adfa4b3",
     "hasError": true,
     "id": "e64102f7-aeec-4b9a-8620-d85692fa2801",
     "outputs": [
      {
       "name": "stderr",
       "output_type": "stream",
       "text": "/home/olga/miniconda3/envs/sourmash-sbt2knn/lib/python3.7/site-packages/seaborn/categorical.py:3666: UserWarning: The `factorplot` function has been renamed to `catplot`. The original name will be removed in a future release. Please update your code. Note that the default `kind` in `factorplot` (`'point'`) has changed `'strip'` in `catplot`.\n  warnings.warn(msg)\n"
      },
      {
       "ename": "ValueError",
       "evalue": "Could not interpret input 'category'",
       "output_type": "error",
       "traceback": [
        "\u001b[0;31m---------------------------------------------------------------------------\u001b[0m",
        "\u001b[0;31mValueError\u001b[0m                                Traceback (most recent call last)",
        "\u001b[0;32m<ipython-input-32-edef20c2818e>\u001b[0m in \u001b[0;36m<module>\u001b[0;34m\u001b[0m\n\u001b[0;32m----> 1\u001b[0;31m \u001b[0msns\u001b[0m\u001b[0;34m.\u001b[0m\u001b[0mfactorplot\u001b[0m\u001b[0;34m(\u001b[0m\u001b[0mx\u001b[0m\u001b[0;34m=\u001b[0m\u001b[0;34m'ksize'\u001b[0m\u001b[0;34m,\u001b[0m \u001b[0my\u001b[0m\u001b[0;34m=\u001b[0m\u001b[0;34m'jaccard'\u001b[0m\u001b[0;34m,\u001b[0m \u001b[0mdata\u001b[0m\u001b[0;34m=\u001b[0m\u001b[0mprotein_coding_vs_lncrna_df\u001b[0m\u001b[0;34m,\u001b[0m \u001b[0mhue\u001b[0m\u001b[0;34m=\u001b[0m\u001b[0;34m'category'\u001b[0m\u001b[0;34m)\u001b[0m\u001b[0;34m\u001b[0m\u001b[0;34m\u001b[0m\u001b[0m\n\u001b[0m\u001b[1;32m      2\u001b[0m \u001b[0max\u001b[0m \u001b[0;34m=\u001b[0m \u001b[0mplt\u001b[0m\u001b[0;34m.\u001b[0m\u001b[0mgca\u001b[0m\u001b[0;34m(\u001b[0m\u001b[0;34m)\u001b[0m\u001b[0;34m\u001b[0m\u001b[0;34m\u001b[0m\u001b[0m\n\u001b[1;32m      3\u001b[0m \u001b[0max\u001b[0m\u001b[0;34m.\u001b[0m\u001b[0mset\u001b[0m\u001b[0;34m(\u001b[0m\u001b[0mtitle\u001b[0m\u001b[0;34m=\u001b[0m\u001b[0;34m\"K-mer similarity between lincRNA and protein-coding transcripts\\nHuman Gencode V30, Ensembl v97\"\u001b[0m\u001b[0;34m)\u001b[0m\u001b[0;34m\u001b[0m\u001b[0;34m\u001b[0m\u001b[0m\n",
        "\u001b[0;32m~/miniconda3/envs/sourmash-sbt2knn/lib/python3.7/site-packages/seaborn/categorical.py\u001b[0m in \u001b[0;36mfactorplot\u001b[0;34m(*args, **kwargs)\u001b[0m\n\u001b[1;32m   3674\u001b[0m     \u001b[0mkwargs\u001b[0m\u001b[0;34m.\u001b[0m\u001b[0msetdefault\u001b[0m\u001b[0;34m(\u001b[0m\u001b[0;34m\"kind\"\u001b[0m\u001b[0;34m,\u001b[0m \u001b[0;34m\"point\"\u001b[0m\u001b[0;34m)\u001b[0m\u001b[0;34m\u001b[0m\u001b[0;34m\u001b[0m\u001b[0m\n\u001b[1;32m   3675\u001b[0m \u001b[0;34m\u001b[0m\u001b[0m\n\u001b[0;32m-> 3676\u001b[0;31m     \u001b[0;32mreturn\u001b[0m \u001b[0mcatplot\u001b[0m\u001b[0;34m(\u001b[0m\u001b[0;34m*\u001b[0m\u001b[0margs\u001b[0m\u001b[0;34m,\u001b[0m \u001b[0;34m**\u001b[0m\u001b[0mkwargs\u001b[0m\u001b[0;34m)\u001b[0m\u001b[0;34m\u001b[0m\u001b[0;34m\u001b[0m\u001b[0m\n\u001b[0m\u001b[1;32m   3677\u001b[0m \u001b[0;34m\u001b[0m\u001b[0m\n\u001b[1;32m   3678\u001b[0m \u001b[0;34m\u001b[0m\u001b[0m\n",
        "\u001b[0;32m~/miniconda3/envs/sourmash-sbt2knn/lib/python3.7/site-packages/seaborn/categorical.py\u001b[0m in \u001b[0;36mcatplot\u001b[0;34m(x, y, hue, data, row, col, col_wrap, estimator, ci, n_boot, units, order, hue_order, row_order, col_order, kind, height, aspect, orient, color, palette, legend, legend_out, sharex, sharey, margin_titles, facet_kws, **kwargs)\u001b[0m\n\u001b[1;32m   3714\u001b[0m     \u001b[0;31m# facets to ensure representation of all data in the final plot\u001b[0m\u001b[0;34m\u001b[0m\u001b[0;34m\u001b[0m\u001b[0;34m\u001b[0m\u001b[0m\n\u001b[1;32m   3715\u001b[0m     \u001b[0mp\u001b[0m \u001b[0;34m=\u001b[0m \u001b[0m_CategoricalPlotter\u001b[0m\u001b[0;34m(\u001b[0m\u001b[0;34m)\u001b[0m\u001b[0;34m\u001b[0m\u001b[0;34m\u001b[0m\u001b[0m\n\u001b[0;32m-> 3716\u001b[0;31m     \u001b[0mp\u001b[0m\u001b[0;34m.\u001b[0m\u001b[0mestablish_variables\u001b[0m\u001b[0;34m(\u001b[0m\u001b[0mx_\u001b[0m\u001b[0;34m,\u001b[0m \u001b[0my_\u001b[0m\u001b[0;34m,\u001b[0m \u001b[0mhue\u001b[0m\u001b[0;34m,\u001b[0m \u001b[0mdata\u001b[0m\u001b[0;34m,\u001b[0m \u001b[0morient\u001b[0m\u001b[0;34m,\u001b[0m \u001b[0morder\u001b[0m\u001b[0;34m,\u001b[0m \u001b[0mhue_order\u001b[0m\u001b[0;34m)\u001b[0m\u001b[0;34m\u001b[0m\u001b[0;34m\u001b[0m\u001b[0m\n\u001b[0m\u001b[1;32m   3717\u001b[0m     \u001b[0morder\u001b[0m \u001b[0;34m=\u001b[0m \u001b[0mp\u001b[0m\u001b[0;34m.\u001b[0m\u001b[0mgroup_names\u001b[0m\u001b[0;34m\u001b[0m\u001b[0;34m\u001b[0m\u001b[0m\n\u001b[1;32m   3718\u001b[0m     \u001b[0mhue_order\u001b[0m \u001b[0;34m=\u001b[0m \u001b[0mp\u001b[0m\u001b[0;34m.\u001b[0m\u001b[0mhue_names\u001b[0m\u001b[0;34m\u001b[0m\u001b[0;34m\u001b[0m\u001b[0m\n",
        "\u001b[0;32m~/miniconda3/envs/sourmash-sbt2knn/lib/python3.7/site-packages/seaborn/categorical.py\u001b[0m in \u001b[0;36mestablish_variables\u001b[0;34m(self, x, y, hue, data, orient, order, hue_order, units)\u001b[0m\n\u001b[1;32m    153\u001b[0m                 \u001b[0;32mif\u001b[0m \u001b[0misinstance\u001b[0m\u001b[0;34m(\u001b[0m\u001b[0minput\u001b[0m\u001b[0;34m,\u001b[0m \u001b[0mstring_types\u001b[0m\u001b[0;34m)\u001b[0m\u001b[0;34m:\u001b[0m\u001b[0;34m\u001b[0m\u001b[0;34m\u001b[0m\u001b[0m\n\u001b[1;32m    154\u001b[0m                     \u001b[0merr\u001b[0m \u001b[0;34m=\u001b[0m \u001b[0;34m\"Could not interpret input '{}'\"\u001b[0m\u001b[0;34m.\u001b[0m\u001b[0mformat\u001b[0m\u001b[0;34m(\u001b[0m\u001b[0minput\u001b[0m\u001b[0;34m)\u001b[0m\u001b[0;34m\u001b[0m\u001b[0;34m\u001b[0m\u001b[0m\n\u001b[0;32m--> 155\u001b[0;31m                     \u001b[0;32mraise\u001b[0m \u001b[0mValueError\u001b[0m\u001b[0;34m(\u001b[0m\u001b[0merr\u001b[0m\u001b[0;34m)\u001b[0m\u001b[0;34m\u001b[0m\u001b[0;34m\u001b[0m\u001b[0m\n\u001b[0m\u001b[1;32m    156\u001b[0m \u001b[0;34m\u001b[0m\u001b[0m\n\u001b[1;32m    157\u001b[0m             \u001b[0;31m# Figure out the plotting orientation\u001b[0m\u001b[0;34m\u001b[0m\u001b[0;34m\u001b[0m\u001b[0;34m\u001b[0m\u001b[0m\n",
        "\u001b[0;31mValueError\u001b[0m: Could not interpret input 'category'"
       ]
      }
     ],
     "persistentId": "6ffe7471-0adf-4be5-a22d-cd75ae8af89f",
     "text": "sns.factorplot(x='ksize', y='jaccard', data=protein_coding_vs_lncrna_df, hue='category')\nax = plt.gca()\nax.set(title=\"K-mer similarity between lincRNA and protein-coding transcripts\\nHuman Gencode V30, Ensembl v97\")"
    },
    "executionTime": "2019-09-06T02:25:21.248Z"
   },
   {
    "cell": {
     "executionCount": 33,
     "executionEventId": "b86636bc-e15b-441e-a8e0-6ab35700b2dc",
     "hasError": true,
     "id": "e64102f7-aeec-4b9a-8620-d85692fa2801",
     "outputs": [
      {
       "ename": "ValueError",
       "evalue": "Could not interpret input 'category'",
       "output_type": "error",
       "traceback": [
        "\u001b[0;31m---------------------------------------------------------------------------\u001b[0m",
        "\u001b[0;31mValueError\u001b[0m                                Traceback (most recent call last)",
        "\u001b[0;32m<ipython-input-33-307609dccefb>\u001b[0m in \u001b[0;36m<module>\u001b[0;34m\u001b[0m\n\u001b[0;32m----> 1\u001b[0;31m \u001b[0msns\u001b[0m\u001b[0;34m.\u001b[0m\u001b[0mcatplot\u001b[0m\u001b[0;34m(\u001b[0m\u001b[0mx\u001b[0m\u001b[0;34m=\u001b[0m\u001b[0;34m'ksize'\u001b[0m\u001b[0;34m,\u001b[0m \u001b[0my\u001b[0m\u001b[0;34m=\u001b[0m\u001b[0;34m'jaccard'\u001b[0m\u001b[0;34m,\u001b[0m \u001b[0mdata\u001b[0m\u001b[0;34m=\u001b[0m\u001b[0mprotein_coding_vs_lncrna_df\u001b[0m\u001b[0;34m,\u001b[0m \u001b[0mhue\u001b[0m\u001b[0;34m=\u001b[0m\u001b[0;34m'category'\u001b[0m\u001b[0;34m,\u001b[0m \u001b[0mkind\u001b[0m\u001b[0;34m=\u001b[0m\u001b[0;34m'point'\u001b[0m\u001b[0;34m)\u001b[0m\u001b[0;34m\u001b[0m\u001b[0;34m\u001b[0m\u001b[0m\n\u001b[0m\u001b[1;32m      2\u001b[0m \u001b[0max\u001b[0m \u001b[0;34m=\u001b[0m \u001b[0mplt\u001b[0m\u001b[0;34m.\u001b[0m\u001b[0mgca\u001b[0m\u001b[0;34m(\u001b[0m\u001b[0;34m)\u001b[0m\u001b[0;34m\u001b[0m\u001b[0;34m\u001b[0m\u001b[0m\n\u001b[1;32m      3\u001b[0m \u001b[0max\u001b[0m\u001b[0;34m.\u001b[0m\u001b[0mset\u001b[0m\u001b[0;34m(\u001b[0m\u001b[0mtitle\u001b[0m\u001b[0;34m=\u001b[0m\u001b[0;34m\"K-mer similarity between lincRNA and protein-coding transcripts\\nHuman Gencode V30, Ensembl v97\"\u001b[0m\u001b[0;34m)\u001b[0m\u001b[0;34m\u001b[0m\u001b[0;34m\u001b[0m\u001b[0m\n",
        "\u001b[0;32m~/miniconda3/envs/sourmash-sbt2knn/lib/python3.7/site-packages/seaborn/categorical.py\u001b[0m in \u001b[0;36mcatplot\u001b[0;34m(x, y, hue, data, row, col, col_wrap, estimator, ci, n_boot, units, order, hue_order, row_order, col_order, kind, height, aspect, orient, color, palette, legend, legend_out, sharex, sharey, margin_titles, facet_kws, **kwargs)\u001b[0m\n\u001b[1;32m   3714\u001b[0m     \u001b[0;31m# facets to ensure representation of all data in the final plot\u001b[0m\u001b[0;34m\u001b[0m\u001b[0;34m\u001b[0m\u001b[0;34m\u001b[0m\u001b[0m\n\u001b[1;32m   3715\u001b[0m     \u001b[0mp\u001b[0m \u001b[0;34m=\u001b[0m \u001b[0m_CategoricalPlotter\u001b[0m\u001b[0;34m(\u001b[0m\u001b[0;34m)\u001b[0m\u001b[0;34m\u001b[0m\u001b[0;34m\u001b[0m\u001b[0m\n\u001b[0;32m-> 3716\u001b[0;31m     \u001b[0mp\u001b[0m\u001b[0;34m.\u001b[0m\u001b[0mestablish_variables\u001b[0m\u001b[0;34m(\u001b[0m\u001b[0mx_\u001b[0m\u001b[0;34m,\u001b[0m \u001b[0my_\u001b[0m\u001b[0;34m,\u001b[0m \u001b[0mhue\u001b[0m\u001b[0;34m,\u001b[0m \u001b[0mdata\u001b[0m\u001b[0;34m,\u001b[0m \u001b[0morient\u001b[0m\u001b[0;34m,\u001b[0m \u001b[0morder\u001b[0m\u001b[0;34m,\u001b[0m \u001b[0mhue_order\u001b[0m\u001b[0;34m)\u001b[0m\u001b[0;34m\u001b[0m\u001b[0;34m\u001b[0m\u001b[0m\n\u001b[0m\u001b[1;32m   3717\u001b[0m     \u001b[0morder\u001b[0m \u001b[0;34m=\u001b[0m \u001b[0mp\u001b[0m\u001b[0;34m.\u001b[0m\u001b[0mgroup_names\u001b[0m\u001b[0;34m\u001b[0m\u001b[0;34m\u001b[0m\u001b[0m\n\u001b[1;32m   3718\u001b[0m     \u001b[0mhue_order\u001b[0m \u001b[0;34m=\u001b[0m \u001b[0mp\u001b[0m\u001b[0;34m.\u001b[0m\u001b[0mhue_names\u001b[0m\u001b[0;34m\u001b[0m\u001b[0;34m\u001b[0m\u001b[0m\n",
        "\u001b[0;32m~/miniconda3/envs/sourmash-sbt2knn/lib/python3.7/site-packages/seaborn/categorical.py\u001b[0m in \u001b[0;36mestablish_variables\u001b[0;34m(self, x, y, hue, data, orient, order, hue_order, units)\u001b[0m\n\u001b[1;32m    153\u001b[0m                 \u001b[0;32mif\u001b[0m \u001b[0misinstance\u001b[0m\u001b[0;34m(\u001b[0m\u001b[0minput\u001b[0m\u001b[0;34m,\u001b[0m \u001b[0mstring_types\u001b[0m\u001b[0;34m)\u001b[0m\u001b[0;34m:\u001b[0m\u001b[0;34m\u001b[0m\u001b[0;34m\u001b[0m\u001b[0m\n\u001b[1;32m    154\u001b[0m                     \u001b[0merr\u001b[0m \u001b[0;34m=\u001b[0m \u001b[0;34m\"Could not interpret input '{}'\"\u001b[0m\u001b[0;34m.\u001b[0m\u001b[0mformat\u001b[0m\u001b[0;34m(\u001b[0m\u001b[0minput\u001b[0m\u001b[0;34m)\u001b[0m\u001b[0;34m\u001b[0m\u001b[0;34m\u001b[0m\u001b[0m\n\u001b[0;32m--> 155\u001b[0;31m                     \u001b[0;32mraise\u001b[0m \u001b[0mValueError\u001b[0m\u001b[0;34m(\u001b[0m\u001b[0merr\u001b[0m\u001b[0;34m)\u001b[0m\u001b[0;34m\u001b[0m\u001b[0;34m\u001b[0m\u001b[0m\n\u001b[0m\u001b[1;32m    156\u001b[0m \u001b[0;34m\u001b[0m\u001b[0m\n\u001b[1;32m    157\u001b[0m             \u001b[0;31m# Figure out the plotting orientation\u001b[0m\u001b[0;34m\u001b[0m\u001b[0;34m\u001b[0m\u001b[0;34m\u001b[0m\u001b[0m\n",
        "\u001b[0;31mValueError\u001b[0m: Could not interpret input 'category'"
       ]
      }
     ],
     "persistentId": "6ffe7471-0adf-4be5-a22d-cd75ae8af89f",
     "text": "sns.catplot(x='ksize', y='jaccard', data=protein_coding_vs_lncrna_df, hue='category', kind='point')\nax = plt.gca()\nax.set(title=\"K-mer similarity between lincRNA and protein-coding transcripts\\nHuman Gencode V30, Ensembl v97\")"
    },
    "executionTime": "2019-09-06T02:25:34.187Z"
   },
   {
    "cell": {
     "executionCount": 34,
     "executionEventId": "ef7793fd-dbba-4fe9-a35c-a5359b5ce252",
     "hasError": false,
     "id": "e64102f7-aeec-4b9a-8620-d85692fa2801",
     "outputs": [
      {
       "data": {
        "text/plain": "[Text(0.5, 1, 'K-mer similarity between lincRNA and protein-coding transcripts\\nHuman Gencode V30, Ensembl v97')]"
       },
       "execution_count": 34,
       "metadata": {},
       "output_type": "execute_result"
      },
      {
       "data": {
        "image/png": "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\n",
        "text/plain": "<Figure size 555.75x360 with 1 Axes>"
       },
       "metadata": {
        "needs_background": "light"
       },
       "output_type": "display_data"
      }
     ],
     "persistentId": "6ffe7471-0adf-4be5-a22d-cd75ae8af89f",
     "text": "sns.catplot(x='ksize', y='jaccard', data=protein_coding_vs_lncrna_df, hue='comparison', kind='point')\nax = plt.gca()\nax.set(title=\"K-mer similarity between lincRNA and protein-coding transcripts\\nHuman Gencode V30, Ensembl v97\")"
    },
    "executionTime": "2019-09-06T02:25:45.306Z"
   },
   {
    "cell": {
     "executionCount": 35,
     "executionEventId": "521252ca-15b6-424f-8620-99cfa51a1a25",
     "hasError": true,
     "id": "9aeec160-0df0-47fb-a7f0-d65c0a19ac25",
     "outputs": [
      {
       "ename": "NameError",
       "evalue": "name 'HTTPError' is not defined",
       "output_type": "error",
       "traceback": [
        "\u001b[0;31m---------------------------------------------------------------------------\u001b[0m",
        "\u001b[0;31mHTTPError\u001b[0m                                 Traceback (most recent call last)",
        "\u001b[0;32m<timed exec>\u001b[0m in \u001b[0;36mmaybe_get_cds\u001b[0;34m(transcript_id)\u001b[0m\n",
        "\u001b[0;32m~/code/kmer-hashing/kh-tools/khtools/ensembl.py\u001b[0m in \u001b[0;36mget_sequence\u001b[0;34m(ensembl_id, verbose, type)\u001b[0m\n\u001b[1;32m     11\u001b[0m     \u001b[0;32mif\u001b[0m \u001b[0;32mnot\u001b[0m \u001b[0mr\u001b[0m\u001b[0;34m.\u001b[0m\u001b[0mok\u001b[0m\u001b[0;34m:\u001b[0m\u001b[0;34m\u001b[0m\u001b[0;34m\u001b[0m\u001b[0m\n\u001b[0;32m---> 12\u001b[0;31m         \u001b[0mr\u001b[0m\u001b[0;34m.\u001b[0m\u001b[0mraise_for_status\u001b[0m\u001b[0;34m(\u001b[0m\u001b[0;34m)\u001b[0m\u001b[0;34m\u001b[0m\u001b[0;34m\u001b[0m\u001b[0m\n\u001b[0m\u001b[1;32m     13\u001b[0m         \u001b[0msys\u001b[0m\u001b[0;34m.\u001b[0m\u001b[0mexit\u001b[0m\u001b[0;34m(\u001b[0m\u001b[0;34m)\u001b[0m\u001b[0;34m\u001b[0m\u001b[0;34m\u001b[0m\u001b[0m\n",
        "\u001b[0;32m~/miniconda3/envs/sourmash-sbt2knn/lib/python3.7/site-packages/requests/models.py\u001b[0m in \u001b[0;36mraise_for_status\u001b[0;34m(self)\u001b[0m\n\u001b[1;32m    939\u001b[0m         \u001b[0;32mif\u001b[0m \u001b[0mhttp_error_msg\u001b[0m\u001b[0;34m:\u001b[0m\u001b[0;34m\u001b[0m\u001b[0;34m\u001b[0m\u001b[0m\n\u001b[0;32m--> 940\u001b[0;31m             \u001b[0;32mraise\u001b[0m \u001b[0mHTTPError\u001b[0m\u001b[0;34m(\u001b[0m\u001b[0mhttp_error_msg\u001b[0m\u001b[0;34m,\u001b[0m \u001b[0mresponse\u001b[0m\u001b[0;34m=\u001b[0m\u001b[0mself\u001b[0m\u001b[0;34m)\u001b[0m\u001b[0;34m\u001b[0m\u001b[0;34m\u001b[0m\u001b[0m\n\u001b[0m\u001b[1;32m    941\u001b[0m \u001b[0;34m\u001b[0m\u001b[0m\n",
        "\u001b[0;31mHTTPError\u001b[0m: 400 Client Error: Bad Request for url: https://rest.ensembl.org/sequence/id/ENST00000291532?type=cds",
        "\nDuring handling of the above exception, another exception occurred:\n",
        "\u001b[0;31mNameError\u001b[0m                                 Traceback (most recent call last)",
        "\u001b[0;32m<timed exec>\u001b[0m in \u001b[0;36m<module>\u001b[0;34m\u001b[0m\n",
        "\u001b[0;32m<timed exec>\u001b[0m in \u001b[0;36m<listcomp>\u001b[0;34m(.0)\u001b[0m\n",
        "\u001b[0;32m<timed exec>\u001b[0m in \u001b[0;36mmaybe_get_cds\u001b[0;34m(transcript_id)\u001b[0m\n",
        "\u001b[0;31mNameError\u001b[0m: name 'HTTPError' is not defined"
       ]
      }
     ],
     "persistentId": "a3217612-1e52-4db6-8b29-7080816162d8",
     "text": "%%time\n\ndef maybe_get_cds(transcript_id):\n    try:\n        return get_sequence(transcript_id, type='cds', verbose=False)\n    except HTTPError:\n        return None\n\nprotein_coding_cds_only = [(transcript_id, maybe_get_cds(transcript_id)) for transcript_id, seq in protein_coding]\nlen(protein_coding_cds_only)\n"
    },
    "executionTime": "2019-09-06T02:30:16.406Z"
   },
   {
    "cell": {
     "executionCount": 36,
     "executionEventId": "188affc1-1fa9-45e4-8578-0112e62688fd",
     "hasError": false,
     "id": "c20c48ff-d0ef-40e3-8201-e982f61812a6",
     "outputs": [
      {
       "data": {
        "text/plain": "[]"
       },
       "execution_count": 36,
       "metadata": {},
       "output_type": "execute_result"
      }
     ],
     "persistentId": "aba44400-7776-4cf8-a895-aff2c54f285a",
     "text": "protein_coding_cds_only[:2]"
    },
    "executionTime": "2019-09-06T02:30:16.412Z"
   },
   {
    "cell": {
     "executionCount": 37,
     "executionEventId": "001558a4-4c77-4793-aeab-89dfc72f640c",
     "hasError": true,
     "id": "9aeec160-0df0-47fb-a7f0-d65c0a19ac25",
     "outputs": [
      {
       "ename": "NameError",
       "evalue": "name 'requests' is not defined",
       "output_type": "error",
       "traceback": [
        "\u001b[0;31m---------------------------------------------------------------------------\u001b[0m",
        "\u001b[0;31mHTTPError\u001b[0m                                 Traceback (most recent call last)",
        "\u001b[0;32m<timed exec>\u001b[0m in \u001b[0;36mmaybe_get_cds\u001b[0;34m(transcript_id)\u001b[0m\n",
        "\u001b[0;32m~/code/kmer-hashing/kh-tools/khtools/ensembl.py\u001b[0m in \u001b[0;36mget_sequence\u001b[0;34m(ensembl_id, verbose, type)\u001b[0m\n\u001b[1;32m     11\u001b[0m     \u001b[0;32mif\u001b[0m \u001b[0;32mnot\u001b[0m \u001b[0mr\u001b[0m\u001b[0;34m.\u001b[0m\u001b[0mok\u001b[0m\u001b[0;34m:\u001b[0m\u001b[0;34m\u001b[0m\u001b[0;34m\u001b[0m\u001b[0m\n\u001b[0;32m---> 12\u001b[0;31m         \u001b[0mr\u001b[0m\u001b[0;34m.\u001b[0m\u001b[0mraise_for_status\u001b[0m\u001b[0;34m(\u001b[0m\u001b[0;34m)\u001b[0m\u001b[0;34m\u001b[0m\u001b[0;34m\u001b[0m\u001b[0m\n\u001b[0m\u001b[1;32m     13\u001b[0m         \u001b[0msys\u001b[0m\u001b[0;34m.\u001b[0m\u001b[0mexit\u001b[0m\u001b[0;34m(\u001b[0m\u001b[0;34m)\u001b[0m\u001b[0;34m\u001b[0m\u001b[0;34m\u001b[0m\u001b[0m\n",
        "\u001b[0;32m~/miniconda3/envs/sourmash-sbt2knn/lib/python3.7/site-packages/requests/models.py\u001b[0m in \u001b[0;36mraise_for_status\u001b[0;34m(self)\u001b[0m\n\u001b[1;32m    939\u001b[0m         \u001b[0;32mif\u001b[0m \u001b[0mhttp_error_msg\u001b[0m\u001b[0;34m:\u001b[0m\u001b[0;34m\u001b[0m\u001b[0;34m\u001b[0m\u001b[0m\n\u001b[0;32m--> 940\u001b[0;31m             \u001b[0;32mraise\u001b[0m \u001b[0mHTTPError\u001b[0m\u001b[0;34m(\u001b[0m\u001b[0mhttp_error_msg\u001b[0m\u001b[0;34m,\u001b[0m \u001b[0mresponse\u001b[0m\u001b[0;34m=\u001b[0m\u001b[0mself\u001b[0m\u001b[0;34m)\u001b[0m\u001b[0;34m\u001b[0m\u001b[0;34m\u001b[0m\u001b[0m\n\u001b[0m\u001b[1;32m    941\u001b[0m \u001b[0;34m\u001b[0m\u001b[0m\n",
        "\u001b[0;31mHTTPError\u001b[0m: 400 Client Error: Bad Request for url: https://rest.ensembl.org/sequence/id/ENST00000291532?type=cds",
        "\nDuring handling of the above exception, another exception occurred:\n",
        "\u001b[0;31mNameError\u001b[0m                                 Traceback (most recent call last)",
        "\u001b[0;32m<timed exec>\u001b[0m in \u001b[0;36m<module>\u001b[0;34m\u001b[0m\n",
        "\u001b[0;32m<timed exec>\u001b[0m in \u001b[0;36m<listcomp>\u001b[0;34m(.0)\u001b[0m\n",
        "\u001b[0;32m<timed exec>\u001b[0m in \u001b[0;36mmaybe_get_cds\u001b[0;34m(transcript_id)\u001b[0m\n",
        "\u001b[0;31mNameError\u001b[0m: name 'requests' is not defined"
       ]
      }
     ],
     "persistentId": "a3217612-1e52-4db6-8b29-7080816162d8",
     "text": "%%time\n\ndef maybe_get_cds(transcript_id):\n    try:\n        return get_sequence(transcript_id, type='cds', verbose=False)\n    except requests.exceptions.HTTPError:\n        return None\n\nprotein_coding_cds_only = [(transcript_id, maybe_get_cds(transcript_id)) for transcript_id, seq in protein_coding]\nlen(protein_coding_cds_only)\n"
    },
    "executionTime": "2019-09-06T02:35:45.562Z"
   },
   {
    "cell": {
     "executionCount": 38,
     "executionEventId": "ededd6c0-c46a-4779-aebe-489d299be1bb",
     "hasError": false,
     "id": "e993fe13-b894-42bc-a89c-be6b5660df44",
     "outputs": [],
     "persistentId": "7da06333-e82b-43dc-a224-ab6fdaf3026a",
     "text": "import itertools\nimport random\nimport requests\n\nfrom Bio import SeqIO\nimport matplotlib.pyplot as plt\nimport pandas as pd\nimport seaborn as sns\n\nfrom khtools.ensembl import get_sequence\nfrom khtools.compare_peptide import kmerize, jaccardize"
    },
    "executionTime": "2019-09-06T02:40:47.072Z"
   },
   {
    "cell": {
     "executionCount": 39,
     "executionEventId": "fd76a9c7-a955-41de-b347-163c2f4f2589",
     "hasError": false,
     "id": "e993fe13-b894-42bc-a89c-be6b5660df44",
     "outputs": [],
     "persistentId": "7da06333-e82b-43dc-a224-ab6fdaf3026a",
     "text": "import itertools\nimport random\nimport requests\n\nfrom Bio import SeqIO\nimport matplotlib.pyplot as plt\nimport pandas as pd\nimport seaborn as sns\n\nfrom khtools.ensembl import get_sequence, maybe_get_cds\nfrom khtools.compare_peptide import kmerize, jaccardize"
    },
    "executionTime": "2019-09-06T02:41:02.688Z"
   },
   {
    "cell": {
     "executionCount": 40,
     "executionEventId": "01a55cca-9d93-4251-aed2-8d8274da49e4",
     "hasError": false,
     "id": "9aeec160-0df0-47fb-a7f0-d65c0a19ac25",
     "outputs": [
      {
       "name": "stdout",
       "output_type": "stream",
       "text": "CPU times: user 10.8 s, sys: 1.28 s, total: 12 s\nWall time: 6min 24s\n"
      }
     ],
     "persistentId": "a3217612-1e52-4db6-8b29-7080816162d8",
     "text": "%%time\n\nprotein_coding_cds_only = [(transcript_id, maybe_get_cds(transcript_id)) for transcript_id, seq in protein_coding]\nlen(protein_coding_cds_only)\n"
    },
    "executionTime": "2019-09-06T02:47:40.532Z"
   },
   {
    "cell": {
     "executionCount": 41,
     "executionEventId": "f68ca04e-7e30-4070-a02a-2aa494bd930d",
     "hasError": false,
     "id": "4387633f-d12f-453f-b045-d3546a82879b",
     "outputs": [
      {
       "name": "stdout",
       "output_type": "stream",
       "text": "587241\n"
      }
     ],
     "persistentId": "2ae37154-2adb-435f-92a5-31ff4f713183",
     "text": "protein_coding_kmers = set(itertools.chain(*[kmerize(seq, ksize) for transcript_id, seq in protein_coding_cds_only if seq is not None]))\nprint(len(protein_coding_kmers))"
    },
    "executionTime": "2019-09-06T02:52:55.303Z"
   },
   {
    "cell": {
     "executionCount": 42,
     "executionEventId": "dc899e88-c565-4397-ad12-6bf84088a9be",
     "hasError": false,
     "id": "4387633f-d12f-453f-b045-d3546a82879b",
     "outputs": [
      {
       "name": "stdout",
       "output_type": "stream",
       "text": "587241\n"
      }
     ],
     "persistentId": "2ae37154-2adb-435f-92a5-31ff4f713183",
     "text": "ksize\nprotein_coding_kmers = set(itertools.chain(*[kmerize(seq, ksize) for transcript_id, seq in protein_coding_cds_only if seq is not None]))\nprint(len(protein_coding_kmers))"
    },
    "executionTime": "2019-09-06T02:53:11.009Z"
   },
   {
    "cell": {
     "executionCount": 43,
     "executionEventId": "5f67b6a6-f632-465e-9b4f-0e4ae5ff0f2b",
     "hasError": false,
     "id": "7d431f08-536d-4a0d-9453-b4fdcbf72334",
     "outputs": [
      {
       "data": {
        "text/plain": "21"
       },
       "execution_count": 43,
       "metadata": {},
       "output_type": "execute_result"
      }
     ],
     "persistentId": "5fafdb94-ada1-48f6-a83b-321a5fb9e48c",
     "text": "ksize"
    },
    "executionTime": "2019-09-06T02:53:13.962Z"
   },
   {
    "cell": {
     "executionCount": 44,
     "executionEventId": "218671cc-1284-4443-8a40-e74f57d982ec",
     "hasError": false,
     "id": "7d431f08-536d-4a0d-9453-b4fdcbf72334",
     "outputs": [],
     "persistentId": "5fafdb94-ada1-48f6-a83b-321a5fb9e48c",
     "text": "ksize = 7"
    },
    "executionTime": "2019-09-06T02:53:18.331Z"
   },
   {
    "cell": {
     "executionCount": 45,
     "executionEventId": "1f438ba5-7a8c-49f2-87c6-1379ef327d23",
     "hasError": false,
     "id": "4387633f-d12f-453f-b045-d3546a82879b",
     "outputs": [
      {
       "name": "stdout",
       "output_type": "stream",
       "text": "16399\n"
      }
     ],
     "persistentId": "2ae37154-2adb-435f-92a5-31ff4f713183",
     "text": "\nprotein_coding_kmers = set(itertools.chain(*[kmerize(seq, ksize) for transcript_id, seq in protein_coding_cds_only if seq is not None]))\nprint(len(protein_coding_kmers))"
    },
    "executionTime": "2019-09-06T02:53:20.314Z"
   },
   {
    "cell": {
     "executionCount": 46,
     "executionEventId": "f648831b-7bc7-4e5d-abd5-8c6d2f02d837",
     "hasError": false,
     "id": "dfd153a6-b6cd-4936-9a52-df82500b9d73",
     "outputs": [
      {
       "data": {
        "text/plain": "0.0"
       },
       "execution_count": 46,
       "metadata": {},
       "output_type": "execute_result"
      }
     ],
     "persistentId": "634d3b76-32c7-43f4-a674-a927e13e99b3",
     "text": "jaccardize(protein_coding_kmers, lincrna_kmers)"
    },
    "executionTime": "2019-09-06T02:53:24.991Z"
   },
   {
    "cell": {
     "executionCount": 47,
     "executionEventId": "3f272fe7-c811-4dc9-8c7b-42f9a5efeed8",
     "hasError": true,
     "id": "fd2702bd-fd9c-4d7c-b5d4-fbea547271a6",
     "outputs": [
      {
       "name": "stdout",
       "output_type": "stream",
       "text": "total possible k-mers of size 5:  1024\n"
      },
      {
       "ename": "TypeError",
       "evalue": "object of type 'NoneType' has no len()",
       "output_type": "error",
       "traceback": [
        "\u001b[0;31m---------------------------------------------------------------------------\u001b[0m",
        "\u001b[0;31mTypeError\u001b[0m                                 Traceback (most recent call last)",
        "\u001b[0;32m<ipython-input-47-b4083a4d8754>\u001b[0m in \u001b[0;36m<module>\u001b[0;34m\u001b[0m\n\u001b[1;32m     24\u001b[0m \u001b[0;34m\u001b[0m\u001b[0m\n\u001b[1;32m     25\u001b[0m     \u001b[0;31m# Protein-coding CDS (translated part only)\u001b[0m\u001b[0;34m\u001b[0m\u001b[0;34m\u001b[0m\u001b[0;34m\u001b[0m\u001b[0m\n\u001b[0;32m---> 26\u001b[0;31m     \u001b[0mprotein_coding_cds_kmers\u001b[0m\u001b[0;34m,\u001b[0m \u001b[0mn_kmer_lines\u001b[0m \u001b[0;34m=\u001b[0m \u001b[0mkmerize_count_append\u001b[0m\u001b[0;34m(\u001b[0m\u001b[0mprotein_coding_cds_only\u001b[0m\u001b[0;34m,\u001b[0m \u001b[0;34m'protein_coding_cdna'\u001b[0m\u001b[0;34m)\u001b[0m\u001b[0;34m\u001b[0m\u001b[0;34m\u001b[0m\u001b[0m\n\u001b[0m\u001b[1;32m     27\u001b[0m \u001b[0;34m\u001b[0m\u001b[0m\n\u001b[1;32m     28\u001b[0m     \u001b[0mjaccard\u001b[0m \u001b[0;34m=\u001b[0m \u001b[0mjaccardize\u001b[0m\u001b[0;34m(\u001b[0m\u001b[0mprotein_coding_cds_kmers\u001b[0m\u001b[0;34m,\u001b[0m \u001b[0mlincrna_kmers\u001b[0m\u001b[0;34m)\u001b[0m\u001b[0;34m\u001b[0m\u001b[0;34m\u001b[0m\u001b[0m\n",
        "\u001b[0;32m<ipython-input-47-b4083a4d8754>\u001b[0m in \u001b[0;36mkmerize_count_append\u001b[0;34m(id_seqs, name)\u001b[0m\n\u001b[1;32m      5\u001b[0m \u001b[0;34m\u001b[0m\u001b[0m\n\u001b[1;32m      6\u001b[0m \u001b[0;32mdef\u001b[0m \u001b[0mkmerize_count_append\u001b[0m\u001b[0;34m(\u001b[0m\u001b[0mid_seqs\u001b[0m\u001b[0;34m,\u001b[0m \u001b[0mname\u001b[0m\u001b[0;34m)\u001b[0m\u001b[0;34m:\u001b[0m\u001b[0;34m\u001b[0m\u001b[0;34m\u001b[0m\u001b[0m\n\u001b[0;32m----> 7\u001b[0;31m     \u001b[0mkmers\u001b[0m \u001b[0;34m=\u001b[0m \u001b[0mset\u001b[0m\u001b[0;34m(\u001b[0m\u001b[0mitertools\u001b[0m\u001b[0;34m.\u001b[0m\u001b[0mchain\u001b[0m\u001b[0;34m(\u001b[0m\u001b[0;34m*\u001b[0m\u001b[0;34m[\u001b[0m\u001b[0mkmerize\u001b[0m\u001b[0;34m(\u001b[0m\u001b[0mseq\u001b[0m\u001b[0;34m,\u001b[0m \u001b[0mksize\u001b[0m\u001b[0;34m)\u001b[0m \u001b[0;32mfor\u001b[0m \u001b[0mtranscript_id\u001b[0m\u001b[0;34m,\u001b[0m \u001b[0mseq\u001b[0m \u001b[0;32min\u001b[0m \u001b[0mid_seqs\u001b[0m\u001b[0;34m]\u001b[0m\u001b[0;34m)\u001b[0m\u001b[0;34m)\u001b[0m\u001b[0;34m\u001b[0m\u001b[0;34m\u001b[0m\u001b[0m\n\u001b[0m\u001b[1;32m      8\u001b[0m     \u001b[0mn_kmers\u001b[0m \u001b[0;34m=\u001b[0m \u001b[0mlen\u001b[0m\u001b[0;34m(\u001b[0m\u001b[0mkmers\u001b[0m\u001b[0;34m)\u001b[0m\u001b[0;34m\u001b[0m\u001b[0;34m\u001b[0m\u001b[0m\n\u001b[1;32m      9\u001b[0m \u001b[0;34m\u001b[0m\u001b[0m\n",
        "\u001b[0;32m<ipython-input-47-b4083a4d8754>\u001b[0m in \u001b[0;36m<listcomp>\u001b[0;34m(.0)\u001b[0m\n\u001b[1;32m      5\u001b[0m \u001b[0;34m\u001b[0m\u001b[0m\n\u001b[1;32m      6\u001b[0m \u001b[0;32mdef\u001b[0m \u001b[0mkmerize_count_append\u001b[0m\u001b[0;34m(\u001b[0m\u001b[0mid_seqs\u001b[0m\u001b[0;34m,\u001b[0m \u001b[0mname\u001b[0m\u001b[0;34m)\u001b[0m\u001b[0;34m:\u001b[0m\u001b[0;34m\u001b[0m\u001b[0;34m\u001b[0m\u001b[0m\n\u001b[0;32m----> 7\u001b[0;31m     \u001b[0mkmers\u001b[0m \u001b[0;34m=\u001b[0m \u001b[0mset\u001b[0m\u001b[0;34m(\u001b[0m\u001b[0mitertools\u001b[0m\u001b[0;34m.\u001b[0m\u001b[0mchain\u001b[0m\u001b[0;34m(\u001b[0m\u001b[0;34m*\u001b[0m\u001b[0;34m[\u001b[0m\u001b[0mkmerize\u001b[0m\u001b[0;34m(\u001b[0m\u001b[0mseq\u001b[0m\u001b[0;34m,\u001b[0m \u001b[0mksize\u001b[0m\u001b[0;34m)\u001b[0m \u001b[0;32mfor\u001b[0m \u001b[0mtranscript_id\u001b[0m\u001b[0;34m,\u001b[0m \u001b[0mseq\u001b[0m \u001b[0;32min\u001b[0m \u001b[0mid_seqs\u001b[0m\u001b[0;34m]\u001b[0m\u001b[0;34m)\u001b[0m\u001b[0;34m)\u001b[0m\u001b[0;34m\u001b[0m\u001b[0;34m\u001b[0m\u001b[0m\n\u001b[0m\u001b[1;32m      8\u001b[0m     \u001b[0mn_kmers\u001b[0m \u001b[0;34m=\u001b[0m \u001b[0mlen\u001b[0m\u001b[0;34m(\u001b[0m\u001b[0mkmers\u001b[0m\u001b[0;34m)\u001b[0m\u001b[0;34m\u001b[0m\u001b[0;34m\u001b[0m\u001b[0m\n\u001b[1;32m      9\u001b[0m \u001b[0;34m\u001b[0m\u001b[0m\n",
        "\u001b[0;32m~/code/kmer-hashing/kh-tools/khtools/compare_peptide.py\u001b[0m in \u001b[0;36mkmerize\u001b[0;34m(seq, ksize)\u001b[0m\n\u001b[1;32m    142\u001b[0m \u001b[0;34m\u001b[0m\u001b[0m\n\u001b[1;32m    143\u001b[0m \u001b[0;32mdef\u001b[0m \u001b[0mkmerize\u001b[0m\u001b[0;34m(\u001b[0m\u001b[0mseq\u001b[0m\u001b[0;34m,\u001b[0m \u001b[0mksize\u001b[0m\u001b[0;34m)\u001b[0m\u001b[0;34m:\u001b[0m\u001b[0;34m\u001b[0m\u001b[0;34m\u001b[0m\u001b[0m\n\u001b[0;32m--> 144\u001b[0;31m     \u001b[0;32mreturn\u001b[0m \u001b[0mset\u001b[0m\u001b[0;34m(\u001b[0m\u001b[0mseq\u001b[0m\u001b[0;34m[\u001b[0m\u001b[0mi\u001b[0m\u001b[0;34m:\u001b[0m\u001b[0mi\u001b[0m\u001b[0;34m+\u001b[0m\u001b[0mksize\u001b[0m\u001b[0;34m]\u001b[0m \u001b[0;32mfor\u001b[0m \u001b[0mi\u001b[0m \u001b[0;32min\u001b[0m \u001b[0mrange\u001b[0m\u001b[0;34m(\u001b[0m\u001b[0mlen\u001b[0m\u001b[0;34m(\u001b[0m\u001b[0mseq\u001b[0m\u001b[0;34m)\u001b[0m\u001b[0;34m-\u001b[0m\u001b[0mksize\u001b[0m\u001b[0;34m+\u001b[0m\u001b[0;36m1\u001b[0m\u001b[0;34m)\u001b[0m\u001b[0;34m)\u001b[0m\u001b[0;34m\u001b[0m\u001b[0;34m\u001b[0m\u001b[0m\n\u001b[0m\u001b[1;32m    145\u001b[0m \u001b[0;34m\u001b[0m\u001b[0m\n\u001b[1;32m    146\u001b[0m \u001b[0;32mdef\u001b[0m \u001b[0mjaccardize\u001b[0m\u001b[0;34m(\u001b[0m\u001b[0mset1\u001b[0m\u001b[0;34m,\u001b[0m \u001b[0mset2\u001b[0m\u001b[0;34m)\u001b[0m\u001b[0;34m:\u001b[0m\u001b[0;34m\u001b[0m\u001b[0;34m\u001b[0m\u001b[0m\n",
        "\u001b[0;31mTypeError\u001b[0m: object of type 'NoneType' has no len()"
       ]
      }
     ],
     "persistentId": "f732ef44-dbbc-4e4b-a370-d38eb57c5bd2",
     "text": "ksizes = range(5, 22)\n\nlines = []\nn_kmer_lines = []\n\ndef kmerize_count_append(id_seqs, name):\n    kmers = set(itertools.chain(*[kmerize(seq, ksize) for transcript_id, seq in id_seqs]))\n    n_kmers = len(kmers)\n    \n    n_kmer_lines.append([ksize, kmers, name])\n    return kmers, n_kmer_lines\n\nfor ksize in ksizes:\n    n_possible_kmers = 4**ksize\n    n_kmer_lines.append([ksize, n_possible_kmers, 'total possible: 4^k'])\n    \n    print(f\"total possible k-mers of size {ksize}: \", n_possible_kmers)\n    \n    # lincRNAs\n    lincrna_kmers, n_kmer_lines = kmerize_count_append(lincRNA, 'lincRNA')\n    \n    # Protein-coding CDNA (whole transcript)\n    protein_coding_cdna_kmers, n_kmer_lines = kmerize_count_append(protein_coding, 'protein_coding_cdna')\n    \n    # Protein-coding CDS (translated part only)\n    protein_coding_cds_kmers, n_kmer_lines = kmerize_count_append(protein_coding_cds_only, 'protein_coding_cdna')\n\n    jaccard = jaccardize(protein_coding_cds_kmers, lincrna_kmers)\n    lines.append([ksize, jaccard, 'lincRNA vs protein-coding CDS'])\n\n    jaccard = jaccardize(protein_coding_cdna_kmers, lincrna_kmers)\n    lines.append([ksize, jaccard, 'lincRNA vs protein-coding cDNA'])\n\n\nn_kmer_df = pd.DataFrame(n_kmer_lines, columns=['ksize', 'count', 'category'])\nprint(n_kmer_df.shape)\n\n    \nprotein_coding_vs_lncrna_df = pd.DataFrame(lines, columns=['ksize', 'jaccard', 'comparison'])\nprint(protein_coding_vs_lncrna_df.shape)\nprotein_coding_vs_lncrna_df.head()"
    },
    "executionTime": "2019-09-06T02:54:03.550Z"
   },
   {
    "cell": {
     "executionCount": 48,
     "executionEventId": "8d898dca-f0d1-4720-a74a-5ca4f6d30cc3",
     "hasError": false,
     "id": "4387633f-d12f-453f-b045-d3546a82879b",
     "outputs": [
      {
       "name": "stdout",
       "output_type": "stream",
       "text": "1059\n"
      }
     ],
     "persistentId": "2ae37154-2adb-435f-92a5-31ff4f713183",
     "text": "\nprotein_coding_kmers = set(itertools.chain(*[kmerize(seq, ksize) for transcript_id, seq in protein_coding_cds_only if seq is not None]))\nprint(len(protein_coding_kmers))"
    },
    "executionTime": "2019-09-06T02:54:14.989Z"
   },
   {
    "cell": {
     "executionCount": 49,
     "executionEventId": "e4c6325c-c251-4b7f-828d-44774c8ae8ec",
     "hasError": false,
     "id": "dfd153a6-b6cd-4936-9a52-df82500b9d73",
     "outputs": [
      {
       "data": {
        "text/plain": "1.0"
       },
       "execution_count": 49,
       "metadata": {},
       "output_type": "execute_result"
      }
     ],
     "persistentId": "634d3b76-32c7-43f4-a674-a927e13e99b3",
     "text": "jaccardize(protein_coding_kmers, lincrna_kmers)"
    },
    "executionTime": "2019-09-06T02:54:18.027Z"
   },
   {
    "cell": {
     "executionCount": 51,
     "executionEventId": "7503b802-f639-43d2-8445-f41075614f55",
     "hasError": false,
     "id": "850c4939-cafc-4f5c-9c0c-11d0fe1bf5c9",
     "outputs": [
      {
       "name": "stdout",
       "output_type": "stream",
       "text": "16383\n"
      }
     ],
     "persistentId": "9025319d-e48d-4baf-817d-bc5594bbcb03",
     "text": "protein_coding_cdna_kmers = set(itertools.chain(*[kmerize(seq, ksize) for transcript_id, seq in protein_coding if seq is not None]))\nprint(len(protein_coding_cdna_kmers))"
    },
    "executionTime": "2019-09-06T02:54:26.826Z"
   },
   {
    "cell": {
     "executionCount": 52,
     "executionEventId": "4546b612-e54a-4320-bf8d-917d0202c85a",
     "hasError": false,
     "id": "108ea17f-daaf-43ca-9c73-3d5277b6d9ac",
     "outputs": [
      {
       "data": {
        "text/plain": "1.0"
       },
       "execution_count": 52,
       "metadata": {},
       "output_type": "execute_result"
      }
     ],
     "persistentId": "1a18bc1b-04c4-4de3-8c01-3f1020f1731e",
     "text": "jaccardize(protein_coding_cdna_kmers, lincrna_kmers)"
    },
    "executionTime": "2019-09-06T02:54:27.409Z"
   },
   {
    "cell": {
     "executionCount": 53,
     "executionEventId": "b1e4e813-9435-4767-96af-3db2599358d2",
     "hasError": false,
     "id": "9aeec160-0df0-47fb-a7f0-d65c0a19ac25",
     "outputs": [
      {
       "name": "stdout",
       "output_type": "stream",
       "text": "CPU times: user 12.2 s, sys: 7.44 s, total: 19.7 s\nWall time: 6min 31s\n"
      }
     ],
     "persistentId": "a3217612-1e52-4db6-8b29-7080816162d8",
     "text": "%%time\n\nprotein_coding_cds_only = [(transcript_id, maybe_get_cds(transcript_id)) for transcript_id, seq in protein_coding]\nlen(protein_coding_cds_only)\n"
    },
    "executionTime": "2019-09-06T03:01:00.549Z"
   },
   {
    "cell": {
     "executionCount": 54,
     "executionEventId": "095a026b-7da4-4608-af2b-39cac2d9ac89",
     "hasError": false,
     "id": "c20c48ff-d0ef-40e3-8201-e982f61812a6",
     "outputs": [
      {
       "data": {
        "text/plain": "[('ENST00000525764',\n  'NNCACCAACACCACCCAGGATGAGCAGCGCAGGTGGCCAGGCTGTGACCAGCAGGACGAGATGCTCAACCTGGGCTTCACCATTGGTTCCTTCGTGCTCAGCGCCACCACCCTGCCACTGGGGATCCTCATGGACCGCTTTGGCCCCCGACCCGTGCGGCTGGTTGGCAGTGCCTGCTTCACTGCGTCCTGCACCCTCATGGCCCTGGCCTCCCGGGACGTGGAAGCTCTGTCTCCGTTGATATTCCTGGCGCTGTCCCTGAATGGCTTTGGTGGCATCTGCCTAACGTTCACTTCACTCACGGGACGGGGTTGCTACCAAATCCATCAGACCACGCTACTGCAAGATCCAAAAGCTCACCAATGCCATCAGTGCCTTCACCCTGACCAACCTGCTGCTTGTGGGTTTTGGCATCACCTGTCTCATCAACAACTTACACCTCCAGTTTGTGACCTTTGTCCTGCACACCATTGTTCGAGGTTTCTTCCACTCAGCCTGTGGGAGTCTCTATGCTGCAGTGTTCCCATCCAACCACTTTGGGACGCTGACAGGCCTGCA'),\n ('ENST00000576452',\n  'ATGCACCCTGCAGCCTTCCCGCTTCCTGTGGTTGTGGCCGCTGTGCTGTGGGGAGCGGCCCCGACCCGGGGGCTCATTCGAGCGACCTCGGACCACAATGCCAGCATGGACTTTGCAGACCTTCCAGCTCTGTTTGGGGCTACCTTGAGCCAGGAGGGCCTCCAGGGGTTCCTTGTGGAGGCTCACCCAGACAATGCCTGCAGCCCCATTGCCCCACCACCCCCAGCCCCGGTCAATGGGTCAGTCTTTATTGCGCTGCTTCGAAGATTCGACTGCAACTTTGACCTCAAG')]"
       },
       "execution_count": 54,
       "metadata": {},
       "output_type": "execute_result"
      }
     ],
     "persistentId": "aba44400-7776-4cf8-a895-aff2c54f285a",
     "text": "protein_coding_cds_only[:2]"
    },
    "executionTime": "2019-09-06T03:01:00.559Z"
   },
   {
    "cell": {
     "executionCount": 55,
     "executionEventId": "6630e2c5-6abf-4bc3-98fd-75cb794cbd89",
     "hasError": false,
     "id": "7d431f08-536d-4a0d-9453-b4fdcbf72334",
     "outputs": [],
     "persistentId": "5fafdb94-ada1-48f6-a83b-321a5fb9e48c",
     "text": "ksize = 7"
    },
    "executionTime": "2019-09-06T03:01:00.572Z"
   },
   {
    "cell": {
     "executionCount": 56,
     "executionEventId": "8ce967c7-7210-4b3c-9bca-30ef03f52ad0",
     "hasError": false,
     "id": "4387633f-d12f-453f-b045-d3546a82879b",
     "outputs": [
      {
       "name": "stdout",
       "output_type": "stream",
       "text": "16399\n"
      }
     ],
     "persistentId": "2ae37154-2adb-435f-92a5-31ff4f713183",
     "text": "\nprotein_coding_kmers = set(itertools.chain(*[kmerize(seq, ksize) for transcript_id, seq in protein_coding_cds_only if seq is not None]))\nprint(len(protein_coding_kmers))"
    },
    "executionTime": "2019-09-06T03:01:00.799Z"
   },
   {
    "cell": {
     "executionCount": 57,
     "executionEventId": "e6f201f7-5547-4b3d-bcfa-a35faec07c61",
     "hasError": false,
     "id": "dfd153a6-b6cd-4936-9a52-df82500b9d73",
     "outputs": [
      {
       "data": {
        "text/plain": "0.9986509688496443"
       },
       "execution_count": 57,
       "metadata": {},
       "output_type": "execute_result"
      }
     ],
     "persistentId": "634d3b76-32c7-43f4-a674-a927e13e99b3",
     "text": "jaccardize(protein_coding_kmers, lincrna_kmers)"
    },
    "executionTime": "2019-09-06T03:01:00.922Z"
   },
   {
    "cell": {
     "executionCount": 58,
     "executionEventId": "265ced85-13ef-4ce6-889b-2e6c67219dd5",
     "hasError": false,
     "id": "fd2702bd-fd9c-4d7c-b5d4-fbea547271a6",
     "outputs": [
      {
       "name": "stdout",
       "output_type": "stream",
       "text": "total possible k-mers of size 5:  1024\ntotal possible k-mers of size 6:  4096\ntotal possible k-mers of size 7:  16384\ntotal possible k-mers of size 8:  65536\ntotal possible k-mers of size 9:  262144\ntotal possible k-mers of size 10:  1048576\ntotal possible k-mers of size 11:  4194304\ntotal possible k-mers of size 12:  16777216\ntotal possible k-mers of size 13:  67108864\ntotal possible k-mers of size 14:  268435456\ntotal possible k-mers of size 15:  1073741824\ntotal possible k-mers of size 16:  4294967296\ntotal possible k-mers of size 17:  17179869184\ntotal possible k-mers of size 18:  68719476736\ntotal possible k-mers of size 19:  274877906944\ntotal possible k-mers of size 20:  1099511627776\ntotal possible k-mers of size 21:  4398046511104\n(68, 3)\n(34, 3)\n"
      },
      {
       "data": {
        "text/html": "<div>\n<style scoped>\n    .dataframe tbody tr th:only-of-type {\n        vertical-align: middle;\n    }\n\n    .dataframe tbody tr th {\n        vertical-align: top;\n    }\n\n    .dataframe thead th {\n        text-align: right;\n    }\n</style>\n<table border=\"1\" class=\"dataframe\">\n  <thead>\n    <tr style=\"text-align: right;\">\n      <th></th>\n      <th>ksize</th>\n      <th>jaccard</th>\n      <th>comparison</th>\n    </tr>\n  </thead>\n  <tbody>\n    <tr>\n      <th>0</th>\n      <td>5</td>\n      <td>1.000000</td>\n      <td>lincRNA vs protein-coding CDS</td>\n    </tr>\n    <tr>\n      <th>1</th>\n      <td>5</td>\n      <td>1.000000</td>\n      <td>lincRNA vs protein-coding cDNA</td>\n    </tr>\n    <tr>\n      <th>2</th>\n      <td>6</td>\n      <td>1.000000</td>\n      <td>lincRNA vs protein-coding CDS</td>\n    </tr>\n    <tr>\n      <th>3</th>\n      <td>6</td>\n      <td>1.000000</td>\n      <td>lincRNA vs protein-coding cDNA</td>\n    </tr>\n    <tr>\n      <th>4</th>\n      <td>7</td>\n      <td>0.998651</td>\n      <td>lincRNA vs protein-coding CDS</td>\n    </tr>\n  </tbody>\n</table>\n</div>",
        "text/plain": "   ksize   jaccard                      comparison\n0      5  1.000000   lincRNA vs protein-coding CDS\n1      5  1.000000  lincRNA vs protein-coding cDNA\n2      6  1.000000   lincRNA vs protein-coding CDS\n3      6  1.000000  lincRNA vs protein-coding cDNA\n4      7  0.998651   lincRNA vs protein-coding CDS"
       },
       "execution_count": 58,
       "metadata": {},
       "output_type": "execute_result"
      }
     ],
     "persistentId": "f732ef44-dbbc-4e4b-a370-d38eb57c5bd2",
     "text": "ksizes = range(5, 22)\n\nlines = []\nn_kmer_lines = []\n\ndef kmerize_count_append(id_seqs, name):\n    kmers = set(itertools.chain(*[kmerize(seq, ksize) for transcript_id, seq in id_seqs if seq is not None]))\n    n_kmers = len(kmers)\n    \n    n_kmer_lines.append([ksize, kmers, name])\n    return kmers, n_kmer_lines\n\nfor ksize in ksizes:\n    n_possible_kmers = 4**ksize\n    n_kmer_lines.append([ksize, n_possible_kmers, 'total possible: 4^k'])\n    \n    print(f\"total possible k-mers of size {ksize}: \", n_possible_kmers)\n    \n    # lincRNAs\n    lincrna_kmers, n_kmer_lines = kmerize_count_append(lincRNA, 'lincRNA')\n    \n    # Protein-coding CDNA (whole transcript)\n    protein_coding_cdna_kmers, n_kmer_lines = kmerize_count_append(protein_coding, 'protein_coding_cdna')\n    \n    # Protein-coding CDS (translated part only)\n    protein_coding_cds_kmers, n_kmer_lines = kmerize_count_append(protein_coding_cds_only, 'protein_coding_cdna')\n\n    jaccard = jaccardize(protein_coding_cds_kmers, lincrna_kmers)\n    lines.append([ksize, jaccard, 'lincRNA vs protein-coding CDS'])\n\n    jaccard = jaccardize(protein_coding_cdna_kmers, lincrna_kmers)\n    lines.append([ksize, jaccard, 'lincRNA vs protein-coding cDNA'])\n\n\nn_kmer_df = pd.DataFrame(n_kmer_lines, columns=['ksize', 'count', 'category'])\nprint(n_kmer_df.shape)\n\n    \nprotein_coding_vs_lncrna_df = pd.DataFrame(lines, columns=['ksize', 'jaccard', 'comparison'])\nprint(protein_coding_vs_lncrna_df.shape)\nprotein_coding_vs_lncrna_df.head()"
    },
    "executionTime": "2019-09-06T03:01:14.688Z"
   },
   {
    "cell": {
     "executionCount": 59,
     "executionEventId": "8582e018-41ec-4917-8c5b-8b3bec7b84f5",
     "hasError": false,
     "id": "e64102f7-aeec-4b9a-8620-d85692fa2801",
     "outputs": [
      {
       "data": {
        "text/plain": "[Text(0.5, 1, 'K-mer similarity between lincRNA and protein-coding transcripts\\nHuman Gencode V30, Ensembl v97')]"
       },
       "execution_count": 59,
       "metadata": {},
       "output_type": "execute_result"
      },
      {
       "data": {
        "image/png": "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\n",
        "text/plain": "<Figure size 555.75x360 with 1 Axes>"
       },
       "metadata": {
        "needs_background": "light"
       },
       "output_type": "display_data"
      }
     ],
     "persistentId": "6ffe7471-0adf-4be5-a22d-cd75ae8af89f",
     "text": "sns.catplot(x='ksize', y='jaccard', data=protein_coding_vs_lncrna_df, hue='comparison', kind='point')\nax = plt.gca()\nax.set(title=\"K-mer similarity between lincRNA and protein-coding transcripts\\nHuman Gencode V30, Ensembl v97\")"
    },
    "executionTime": "2019-09-06T03:05:04.596Z"
   },
   {
    "cell": {
     "executionCount": 60,
     "executionEventId": "a30fd1ce-c314-43b8-a502-493e1d324491",
     "hasError": true,
     "id": "0941b2fc-d8e0-43a9-ba48-4e45e47f7bd9",
     "outputs": [
      {
       "name": "stderr",
       "output_type": "stream",
       "text": "/home/olga/miniconda3/envs/sourmash-sbt2knn/lib/python3.7/site-packages/seaborn/categorical.py:3666: UserWarning: The `factorplot` function has been renamed to `catplot`. The original name will be removed in a future release. Please update your code. Note that the default `kind` in `factorplot` (`'point'`) has changed `'strip'` in `catplot`.\n  warnings.warn(msg)\n"
      },
      {
       "ename": "TypeError",
       "evalue": "float() argument must be a string or a number, not 'set'",
       "output_type": "error",
       "traceback": [
        "\u001b[0;31m---------------------------------------------------------------------------\u001b[0m",
        "\u001b[0;31mTypeError\u001b[0m                                 Traceback (most recent call last)",
        "\u001b[0;32m<ipython-input-60-32182c02cc8f>\u001b[0m in \u001b[0;36m<module>\u001b[0;34m\u001b[0m\n\u001b[0;32m----> 1\u001b[0;31m \u001b[0msns\u001b[0m\u001b[0;34m.\u001b[0m\u001b[0mfactorplot\u001b[0m\u001b[0;34m(\u001b[0m\u001b[0mx\u001b[0m\u001b[0;34m=\u001b[0m\u001b[0;34m'ksize'\u001b[0m\u001b[0;34m,\u001b[0m \u001b[0my\u001b[0m\u001b[0;34m=\u001b[0m\u001b[0;34m'count'\u001b[0m\u001b[0;34m,\u001b[0m \u001b[0mdata\u001b[0m\u001b[0;34m=\u001b[0m\u001b[0mn_kmer_df\u001b[0m\u001b[0;34m,\u001b[0m \u001b[0mhue\u001b[0m\u001b[0;34m=\u001b[0m\u001b[0;34m'category'\u001b[0m\u001b[0;34m)\u001b[0m\u001b[0;34m\u001b[0m\u001b[0;34m\u001b[0m\u001b[0m\n\u001b[0m\u001b[1;32m      2\u001b[0m \u001b[0max\u001b[0m \u001b[0;34m=\u001b[0m \u001b[0mplt\u001b[0m\u001b[0;34m.\u001b[0m\u001b[0mgca\u001b[0m\u001b[0;34m(\u001b[0m\u001b[0;34m)\u001b[0m\u001b[0;34m\u001b[0m\u001b[0;34m\u001b[0m\u001b[0m\n\u001b[1;32m      3\u001b[0m \u001b[0max\u001b[0m\u001b[0;34m.\u001b[0m\u001b[0mset\u001b[0m\u001b[0;34m(\u001b[0m\u001b[0mtitle\u001b[0m\u001b[0;34m=\u001b[0m\u001b[0;34m\"K-mer similarity between lincRNA transcripts and protein-coding CDS\\nHuman Gencode V30, Ensembl v97\"\u001b[0m\u001b[0;34m)\u001b[0m\u001b[0;34m\u001b[0m\u001b[0;34m\u001b[0m\u001b[0m\n",
        "\u001b[0;32m~/miniconda3/envs/sourmash-sbt2knn/lib/python3.7/site-packages/seaborn/categorical.py\u001b[0m in \u001b[0;36mfactorplot\u001b[0;34m(*args, **kwargs)\u001b[0m\n\u001b[1;32m   3674\u001b[0m     \u001b[0mkwargs\u001b[0m\u001b[0;34m.\u001b[0m\u001b[0msetdefault\u001b[0m\u001b[0;34m(\u001b[0m\u001b[0;34m\"kind\"\u001b[0m\u001b[0;34m,\u001b[0m \u001b[0;34m\"point\"\u001b[0m\u001b[0;34m)\u001b[0m\u001b[0;34m\u001b[0m\u001b[0;34m\u001b[0m\u001b[0m\n\u001b[1;32m   3675\u001b[0m \u001b[0;34m\u001b[0m\u001b[0m\n\u001b[0;32m-> 3676\u001b[0;31m     \u001b[0;32mreturn\u001b[0m \u001b[0mcatplot\u001b[0m\u001b[0;34m(\u001b[0m\u001b[0;34m*\u001b[0m\u001b[0margs\u001b[0m\u001b[0;34m,\u001b[0m \u001b[0;34m**\u001b[0m\u001b[0mkwargs\u001b[0m\u001b[0;34m)\u001b[0m\u001b[0;34m\u001b[0m\u001b[0;34m\u001b[0m\u001b[0m\n\u001b[0m\u001b[1;32m   3677\u001b[0m \u001b[0;34m\u001b[0m\u001b[0m\n\u001b[1;32m   3678\u001b[0m \u001b[0;34m\u001b[0m\u001b[0m\n",
        "\u001b[0;32m~/miniconda3/envs/sourmash-sbt2knn/lib/python3.7/site-packages/seaborn/categorical.py\u001b[0m in \u001b[0;36mcatplot\u001b[0;34m(x, y, hue, data, row, col, col_wrap, estimator, ci, n_boot, units, order, hue_order, row_order, col_order, kind, height, aspect, orient, color, palette, legend, legend_out, sharex, sharey, margin_titles, facet_kws, **kwargs)\u001b[0m\n\u001b[1;32m   3714\u001b[0m     \u001b[0;31m# facets to ensure representation of all data in the final plot\u001b[0m\u001b[0;34m\u001b[0m\u001b[0;34m\u001b[0m\u001b[0;34m\u001b[0m\u001b[0m\n\u001b[1;32m   3715\u001b[0m     \u001b[0mp\u001b[0m \u001b[0;34m=\u001b[0m \u001b[0m_CategoricalPlotter\u001b[0m\u001b[0;34m(\u001b[0m\u001b[0;34m)\u001b[0m\u001b[0;34m\u001b[0m\u001b[0;34m\u001b[0m\u001b[0m\n\u001b[0;32m-> 3716\u001b[0;31m     \u001b[0mp\u001b[0m\u001b[0;34m.\u001b[0m\u001b[0mestablish_variables\u001b[0m\u001b[0;34m(\u001b[0m\u001b[0mx_\u001b[0m\u001b[0;34m,\u001b[0m \u001b[0my_\u001b[0m\u001b[0;34m,\u001b[0m \u001b[0mhue\u001b[0m\u001b[0;34m,\u001b[0m \u001b[0mdata\u001b[0m\u001b[0;34m,\u001b[0m \u001b[0morient\u001b[0m\u001b[0;34m,\u001b[0m \u001b[0morder\u001b[0m\u001b[0;34m,\u001b[0m \u001b[0mhue_order\u001b[0m\u001b[0;34m)\u001b[0m\u001b[0;34m\u001b[0m\u001b[0;34m\u001b[0m\u001b[0m\n\u001b[0m\u001b[1;32m   3717\u001b[0m     \u001b[0morder\u001b[0m \u001b[0;34m=\u001b[0m \u001b[0mp\u001b[0m\u001b[0;34m.\u001b[0m\u001b[0mgroup_names\u001b[0m\u001b[0;34m\u001b[0m\u001b[0;34m\u001b[0m\u001b[0m\n\u001b[1;32m   3718\u001b[0m     \u001b[0mhue_order\u001b[0m \u001b[0;34m=\u001b[0m \u001b[0mp\u001b[0m\u001b[0;34m.\u001b[0m\u001b[0mhue_names\u001b[0m\u001b[0;34m\u001b[0m\u001b[0;34m\u001b[0m\u001b[0m\n",
        "\u001b[0;32m~/miniconda3/envs/sourmash-sbt2knn/lib/python3.7/site-packages/seaborn/categorical.py\u001b[0m in \u001b[0;36mestablish_variables\u001b[0;34m(self, x, y, hue, data, orient, order, hue_order, units)\u001b[0m\n\u001b[1;32m    156\u001b[0m \u001b[0;34m\u001b[0m\u001b[0m\n\u001b[1;32m    157\u001b[0m             \u001b[0;31m# Figure out the plotting orientation\u001b[0m\u001b[0;34m\u001b[0m\u001b[0;34m\u001b[0m\u001b[0;34m\u001b[0m\u001b[0m\n\u001b[0;32m--> 158\u001b[0;31m             \u001b[0morient\u001b[0m \u001b[0;34m=\u001b[0m \u001b[0mself\u001b[0m\u001b[0;34m.\u001b[0m\u001b[0minfer_orient\u001b[0m\u001b[0;34m(\u001b[0m\u001b[0mx\u001b[0m\u001b[0;34m,\u001b[0m \u001b[0my\u001b[0m\u001b[0;34m,\u001b[0m \u001b[0morient\u001b[0m\u001b[0;34m)\u001b[0m\u001b[0;34m\u001b[0m\u001b[0;34m\u001b[0m\u001b[0m\n\u001b[0m\u001b[1;32m    159\u001b[0m \u001b[0;34m\u001b[0m\u001b[0m\n\u001b[1;32m    160\u001b[0m             \u001b[0;31m# Option 2a:\u001b[0m\u001b[0;34m\u001b[0m\u001b[0;34m\u001b[0m\u001b[0;34m\u001b[0m\u001b[0m\n",
        "\u001b[0;32m~/miniconda3/envs/sourmash-sbt2knn/lib/python3.7/site-packages/seaborn/categorical.py\u001b[0m in \u001b[0;36minfer_orient\u001b[0;34m(self, x, y, orient)\u001b[0m\n\u001b[1;32m    357\u001b[0m             \u001b[0;32melse\u001b[0m\u001b[0;34m:\u001b[0m\u001b[0;34m\u001b[0m\u001b[0;34m\u001b[0m\u001b[0m\n\u001b[1;32m    358\u001b[0m                 \u001b[0;32mreturn\u001b[0m \u001b[0;34m\"h\"\u001b[0m\u001b[0;34m\u001b[0m\u001b[0;34m\u001b[0m\u001b[0m\n\u001b[0;32m--> 359\u001b[0;31m         \u001b[0;32melif\u001b[0m \u001b[0mis_not_numeric\u001b[0m\u001b[0;34m(\u001b[0m\u001b[0my\u001b[0m\u001b[0;34m)\u001b[0m\u001b[0;34m:\u001b[0m\u001b[0;34m\u001b[0m\u001b[0;34m\u001b[0m\u001b[0m\n\u001b[0m\u001b[1;32m    360\u001b[0m             \u001b[0;32mif\u001b[0m \u001b[0mis_not_numeric\u001b[0m\u001b[0;34m(\u001b[0m\u001b[0mx\u001b[0m\u001b[0;34m)\u001b[0m\u001b[0;34m:\u001b[0m\u001b[0;34m\u001b[0m\u001b[0;34m\u001b[0m\u001b[0m\n\u001b[1;32m    361\u001b[0m                 \u001b[0;32mraise\u001b[0m \u001b[0mValueError\u001b[0m\u001b[0;34m(\u001b[0m\u001b[0mno_numeric\u001b[0m\u001b[0;34m)\u001b[0m\u001b[0;34m\u001b[0m\u001b[0;34m\u001b[0m\u001b[0m\n",
        "\u001b[0;32m~/miniconda3/envs/sourmash-sbt2knn/lib/python3.7/site-packages/seaborn/categorical.py\u001b[0m in \u001b[0;36mis_not_numeric\u001b[0;34m(s)\u001b[0m\n\u001b[1;32m    337\u001b[0m         \u001b[0;32mdef\u001b[0m \u001b[0mis_not_numeric\u001b[0m\u001b[0;34m(\u001b[0m\u001b[0ms\u001b[0m\u001b[0;34m)\u001b[0m\u001b[0;34m:\u001b[0m\u001b[0;34m\u001b[0m\u001b[0;34m\u001b[0m\u001b[0m\n\u001b[1;32m    338\u001b[0m             \u001b[0;32mtry\u001b[0m\u001b[0;34m:\u001b[0m\u001b[0;34m\u001b[0m\u001b[0;34m\u001b[0m\u001b[0m\n\u001b[0;32m--> 339\u001b[0;31m                 \u001b[0mnp\u001b[0m\u001b[0;34m.\u001b[0m\u001b[0masarray\u001b[0m\u001b[0;34m(\u001b[0m\u001b[0ms\u001b[0m\u001b[0;34m,\u001b[0m \u001b[0mdtype\u001b[0m\u001b[0;34m=\u001b[0m\u001b[0mnp\u001b[0m\u001b[0;34m.\u001b[0m\u001b[0mfloat\u001b[0m\u001b[0;34m)\u001b[0m\u001b[0;34m\u001b[0m\u001b[0;34m\u001b[0m\u001b[0m\n\u001b[0m\u001b[1;32m    340\u001b[0m             \u001b[0;32mexcept\u001b[0m \u001b[0mValueError\u001b[0m\u001b[0;34m:\u001b[0m\u001b[0;34m\u001b[0m\u001b[0;34m\u001b[0m\u001b[0m\n\u001b[1;32m    341\u001b[0m                 \u001b[0;32mreturn\u001b[0m \u001b[0;32mTrue\u001b[0m\u001b[0;34m\u001b[0m\u001b[0;34m\u001b[0m\u001b[0m\n",
        "\u001b[0;32m~/miniconda3/envs/sourmash-sbt2knn/lib/python3.7/site-packages/numpy/core/_asarray.py\u001b[0m in \u001b[0;36masarray\u001b[0;34m(a, dtype, order)\u001b[0m\n\u001b[1;32m     83\u001b[0m \u001b[0;34m\u001b[0m\u001b[0m\n\u001b[1;32m     84\u001b[0m     \"\"\"\n\u001b[0;32m---> 85\u001b[0;31m     \u001b[0;32mreturn\u001b[0m \u001b[0marray\u001b[0m\u001b[0;34m(\u001b[0m\u001b[0ma\u001b[0m\u001b[0;34m,\u001b[0m \u001b[0mdtype\u001b[0m\u001b[0;34m,\u001b[0m \u001b[0mcopy\u001b[0m\u001b[0;34m=\u001b[0m\u001b[0;32mFalse\u001b[0m\u001b[0;34m,\u001b[0m \u001b[0morder\u001b[0m\u001b[0;34m=\u001b[0m\u001b[0morder\u001b[0m\u001b[0;34m)\u001b[0m\u001b[0;34m\u001b[0m\u001b[0;34m\u001b[0m\u001b[0m\n\u001b[0m\u001b[1;32m     86\u001b[0m \u001b[0;34m\u001b[0m\u001b[0m\n\u001b[1;32m     87\u001b[0m \u001b[0;34m\u001b[0m\u001b[0m\n",
        "\u001b[0;32m~/miniconda3/envs/sourmash-sbt2knn/lib/python3.7/site-packages/pandas/core/series.py\u001b[0m in \u001b[0;36m__array__\u001b[0;34m(self, dtype)\u001b[0m\n\u001b[1;32m    946\u001b[0m             \u001b[0mwarnings\u001b[0m\u001b[0;34m.\u001b[0m\u001b[0mwarn\u001b[0m\u001b[0;34m(\u001b[0m\u001b[0mmsg\u001b[0m\u001b[0;34m,\u001b[0m \u001b[0mFutureWarning\u001b[0m\u001b[0;34m,\u001b[0m \u001b[0mstacklevel\u001b[0m\u001b[0;34m=\u001b[0m\u001b[0;36m3\u001b[0m\u001b[0;34m)\u001b[0m\u001b[0;34m\u001b[0m\u001b[0;34m\u001b[0m\u001b[0m\n\u001b[1;32m    947\u001b[0m             \u001b[0mdtype\u001b[0m \u001b[0;34m=\u001b[0m \u001b[0;34m\"M8[ns]\"\u001b[0m\u001b[0;34m\u001b[0m\u001b[0;34m\u001b[0m\u001b[0m\n\u001b[0;32m--> 948\u001b[0;31m         \u001b[0;32mreturn\u001b[0m \u001b[0mnp\u001b[0m\u001b[0;34m.\u001b[0m\u001b[0masarray\u001b[0m\u001b[0;34m(\u001b[0m\u001b[0mself\u001b[0m\u001b[0;34m.\u001b[0m\u001b[0marray\u001b[0m\u001b[0;34m,\u001b[0m \u001b[0mdtype\u001b[0m\u001b[0;34m)\u001b[0m\u001b[0;34m\u001b[0m\u001b[0;34m\u001b[0m\u001b[0m\n\u001b[0m\u001b[1;32m    949\u001b[0m \u001b[0;34m\u001b[0m\u001b[0m\n\u001b[1;32m    950\u001b[0m     \u001b[0;31m# ----------------------------------------------------------------------\u001b[0m\u001b[0;34m\u001b[0m\u001b[0;34m\u001b[0m\u001b[0;34m\u001b[0m\u001b[0m\n",
        "\u001b[0;32m~/miniconda3/envs/sourmash-sbt2knn/lib/python3.7/site-packages/numpy/core/_asarray.py\u001b[0m in \u001b[0;36masarray\u001b[0;34m(a, dtype, order)\u001b[0m\n\u001b[1;32m     83\u001b[0m \u001b[0;34m\u001b[0m\u001b[0m\n\u001b[1;32m     84\u001b[0m     \"\"\"\n\u001b[0;32m---> 85\u001b[0;31m     \u001b[0;32mreturn\u001b[0m \u001b[0marray\u001b[0m\u001b[0;34m(\u001b[0m\u001b[0ma\u001b[0m\u001b[0;34m,\u001b[0m \u001b[0mdtype\u001b[0m\u001b[0;34m,\u001b[0m \u001b[0mcopy\u001b[0m\u001b[0;34m=\u001b[0m\u001b[0;32mFalse\u001b[0m\u001b[0;34m,\u001b[0m \u001b[0morder\u001b[0m\u001b[0;34m=\u001b[0m\u001b[0morder\u001b[0m\u001b[0;34m)\u001b[0m\u001b[0;34m\u001b[0m\u001b[0;34m\u001b[0m\u001b[0m\n\u001b[0m\u001b[1;32m     86\u001b[0m \u001b[0;34m\u001b[0m\u001b[0m\n\u001b[1;32m     87\u001b[0m \u001b[0;34m\u001b[0m\u001b[0m\n",
        "\u001b[0;32m~/miniconda3/envs/sourmash-sbt2knn/lib/python3.7/site-packages/pandas/core/arrays/numpy_.py\u001b[0m in \u001b[0;36m__array__\u001b[0;34m(self, dtype)\u001b[0m\n\u001b[1;32m    164\u001b[0m \u001b[0;34m\u001b[0m\u001b[0m\n\u001b[1;32m    165\u001b[0m     \u001b[0;32mdef\u001b[0m \u001b[0m__array__\u001b[0m\u001b[0;34m(\u001b[0m\u001b[0mself\u001b[0m\u001b[0;34m,\u001b[0m \u001b[0mdtype\u001b[0m\u001b[0;34m=\u001b[0m\u001b[0;32mNone\u001b[0m\u001b[0;34m)\u001b[0m\u001b[0;34m:\u001b[0m\u001b[0;34m\u001b[0m\u001b[0;34m\u001b[0m\u001b[0m\n\u001b[0;32m--> 166\u001b[0;31m         \u001b[0;32mreturn\u001b[0m \u001b[0mnp\u001b[0m\u001b[0;34m.\u001b[0m\u001b[0masarray\u001b[0m\u001b[0;34m(\u001b[0m\u001b[0mself\u001b[0m\u001b[0;34m.\u001b[0m\u001b[0m_ndarray\u001b[0m\u001b[0;34m,\u001b[0m \u001b[0mdtype\u001b[0m\u001b[0;34m=\u001b[0m\u001b[0mdtype\u001b[0m\u001b[0;34m)\u001b[0m\u001b[0;34m\u001b[0m\u001b[0;34m\u001b[0m\u001b[0m\n\u001b[0m\u001b[1;32m    167\u001b[0m \u001b[0;34m\u001b[0m\u001b[0m\n\u001b[1;32m    168\u001b[0m     \u001b[0m_HANDLED_TYPES\u001b[0m \u001b[0;34m=\u001b[0m \u001b[0;34m(\u001b[0m\u001b[0mnp\u001b[0m\u001b[0;34m.\u001b[0m\u001b[0mndarray\u001b[0m\u001b[0;34m,\u001b[0m \u001b[0mnumbers\u001b[0m\u001b[0;34m.\u001b[0m\u001b[0mNumber\u001b[0m\u001b[0;34m)\u001b[0m\u001b[0;34m\u001b[0m\u001b[0;34m\u001b[0m\u001b[0m\n",
        "\u001b[0;32m~/miniconda3/envs/sourmash-sbt2knn/lib/python3.7/site-packages/numpy/core/_asarray.py\u001b[0m in \u001b[0;36masarray\u001b[0;34m(a, dtype, order)\u001b[0m\n\u001b[1;32m     83\u001b[0m \u001b[0;34m\u001b[0m\u001b[0m\n\u001b[1;32m     84\u001b[0m     \"\"\"\n\u001b[0;32m---> 85\u001b[0;31m     \u001b[0;32mreturn\u001b[0m \u001b[0marray\u001b[0m\u001b[0;34m(\u001b[0m\u001b[0ma\u001b[0m\u001b[0;34m,\u001b[0m \u001b[0mdtype\u001b[0m\u001b[0;34m,\u001b[0m \u001b[0mcopy\u001b[0m\u001b[0;34m=\u001b[0m\u001b[0;32mFalse\u001b[0m\u001b[0;34m,\u001b[0m \u001b[0morder\u001b[0m\u001b[0;34m=\u001b[0m\u001b[0morder\u001b[0m\u001b[0;34m)\u001b[0m\u001b[0;34m\u001b[0m\u001b[0;34m\u001b[0m\u001b[0m\n\u001b[0m\u001b[1;32m     86\u001b[0m \u001b[0;34m\u001b[0m\u001b[0m\n\u001b[1;32m     87\u001b[0m \u001b[0;34m\u001b[0m\u001b[0m\n",
        "\u001b[0;31mTypeError\u001b[0m: float() argument must be a string or a number, not 'set'"
       ]
      }
     ],
     "persistentId": "0e89d563-4d0b-49cd-8d74-300f70bd180e",
     "text": "sns.factorplot(x='ksize', y='count', data=n_kmer_df, hue='category')\nax = plt.gca()\nax.set(title=\"K-mer similarity between lincRNA transcripts and protein-coding CDS\\nHuman Gencode V30, Ensembl v97\")"
    },
    "executionTime": "2019-09-06T03:05:54.211Z"
   },
   {
    "cell": {
     "executionCount": 61,
     "executionEventId": "e2ce3d18-8449-47da-93ad-6d3bdc73167b",
     "hasError": false,
     "id": "6d49f623-7369-490b-a9e6-95ee5e87769d",
     "outputs": [
      {
       "name": "stdout",
       "output_type": "stream",
       "text": "(68, 3)\n"
      },
      {
       "data": {
        "text/html": "<div>\n<style scoped>\n    .dataframe tbody tr th:only-of-type {\n        vertical-align: middle;\n    }\n\n    .dataframe tbody tr th {\n        vertical-align: top;\n    }\n\n    .dataframe thead th {\n        text-align: right;\n    }\n</style>\n<table border=\"1\" class=\"dataframe\">\n  <thead>\n    <tr style=\"text-align: right;\">\n      <th></th>\n      <th>ksize</th>\n      <th>count</th>\n      <th>category</th>\n    </tr>\n  </thead>\n  <tbody>\n    <tr>\n      <th>0</th>\n      <td>5</td>\n      <td>1024</td>\n      <td>total possible: 4^k</td>\n    </tr>\n    <tr>\n      <th>1</th>\n      <td>5</td>\n      <td>{GAATT, TTAAA, CTACG, CGCTG, TAGAT, CCGAA, TGT...</td>\n      <td>lincRNA</td>\n    </tr>\n    <tr>\n      <th>2</th>\n      <td>5</td>\n      <td>{GAATT, CTACG, TTAAA, CGCTG, TAGAT, CCGAA, TGT...</td>\n      <td>protein_coding_cdna</td>\n    </tr>\n    <tr>\n      <th>3</th>\n      <td>5</td>\n      <td>{CTACG, GAATT, TTAAA, CGCTG, TAGAT, CCGAA, TGT...</td>\n      <td>protein_coding_cdna</td>\n    </tr>\n    <tr>\n      <th>4</th>\n      <td>6</td>\n      <td>4096</td>\n      <td>total possible: 4^k</td>\n    </tr>\n  </tbody>\n</table>\n</div>",
        "text/plain": "   ksize                                              count  \\\n0      5                                               1024   \n1      5  {GAATT, TTAAA, CTACG, CGCTG, TAGAT, CCGAA, TGT...   \n2      5  {GAATT, CTACG, TTAAA, CGCTG, TAGAT, CCGAA, TGT...   \n3      5  {CTACG, GAATT, TTAAA, CGCTG, TAGAT, CCGAA, TGT...   \n4      6                                               4096   \n\n              category  \n0  total possible: 4^k  \n1              lincRNA  \n2  protein_coding_cdna  \n3  protein_coding_cdna  \n4  total possible: 4^k  "
       },
       "execution_count": 61,
       "metadata": {},
       "output_type": "execute_result"
      }
     ],
     "persistentId": "ffe7fce2-b519-4e87-97f9-451a06c32661",
     "text": "n_kmer_df = pd.DataFrame(n_kmer_lines, columns=['ksize', 'count', 'category'])\nprint(n_kmer_df.shape)\nn_kmer_df.head()"
    },
    "executionTime": "2019-09-06T03:06:13.225Z"
   },
   {
    "cell": {
     "executionCount": 62,
     "executionEventId": "24b8eb20-9be2-4cea-ab79-aed36a01e6d0",
     "hasError": false,
     "id": "fd2702bd-fd9c-4d7c-b5d4-fbea547271a6",
     "outputs": [
      {
       "name": "stdout",
       "output_type": "stream",
       "text": "total possible k-mers of size 5:  1024\ntotal possible k-mers of size 6:  4096\ntotal possible k-mers of size 7:  16384\ntotal possible k-mers of size 8:  65536\ntotal possible k-mers of size 9:  262144\ntotal possible k-mers of size 10:  1048576\ntotal possible k-mers of size 11:  4194304\ntotal possible k-mers of size 12:  16777216\ntotal possible k-mers of size 13:  67108864\ntotal possible k-mers of size 14:  268435456\ntotal possible k-mers of size 15:  1073741824\ntotal possible k-mers of size 16:  4294967296\ntotal possible k-mers of size 17:  17179869184\ntotal possible k-mers of size 18:  68719476736\ntotal possible k-mers of size 19:  274877906944\ntotal possible k-mers of size 20:  1099511627776\ntotal possible k-mers of size 21:  4398046511104\n(68, 3)\n(34, 3)\n"
      },
      {
       "data": {
        "text/html": "<div>\n<style scoped>\n    .dataframe tbody tr th:only-of-type {\n        vertical-align: middle;\n    }\n\n    .dataframe tbody tr th {\n        vertical-align: top;\n    }\n\n    .dataframe thead th {\n        text-align: right;\n    }\n</style>\n<table border=\"1\" class=\"dataframe\">\n  <thead>\n    <tr style=\"text-align: right;\">\n      <th></th>\n      <th>ksize</th>\n      <th>jaccard</th>\n      <th>comparison</th>\n    </tr>\n  </thead>\n  <tbody>\n    <tr>\n      <th>0</th>\n      <td>5</td>\n      <td>1.000000</td>\n      <td>lincRNA vs protein-coding CDS</td>\n    </tr>\n    <tr>\n      <th>1</th>\n      <td>5</td>\n      <td>1.000000</td>\n      <td>lincRNA vs protein-coding cDNA</td>\n    </tr>\n    <tr>\n      <th>2</th>\n      <td>6</td>\n      <td>1.000000</td>\n      <td>lincRNA vs protein-coding CDS</td>\n    </tr>\n    <tr>\n      <th>3</th>\n      <td>6</td>\n      <td>1.000000</td>\n      <td>lincRNA vs protein-coding cDNA</td>\n    </tr>\n    <tr>\n      <th>4</th>\n      <td>7</td>\n      <td>0.998651</td>\n      <td>lincRNA vs protein-coding CDS</td>\n    </tr>\n  </tbody>\n</table>\n</div>",
        "text/plain": "   ksize   jaccard                      comparison\n0      5  1.000000   lincRNA vs protein-coding CDS\n1      5  1.000000  lincRNA vs protein-coding cDNA\n2      6  1.000000   lincRNA vs protein-coding CDS\n3      6  1.000000  lincRNA vs protein-coding cDNA\n4      7  0.998651   lincRNA vs protein-coding CDS"
       },
       "execution_count": 62,
       "metadata": {},
       "output_type": "execute_result"
      }
     ],
     "persistentId": "f732ef44-dbbc-4e4b-a370-d38eb57c5bd2",
     "text": "ksizes = range(5, 22)\n\nlines = []\nn_kmer_lines = []\n\ndef kmerize_count_append(id_seqs, name):\n    kmers = set(itertools.chain(*[kmerize(seq, ksize) for transcript_id, seq in id_seqs if seq is not None]))\n    n_kmers = len(kmers)\n    \n    n_kmer_lines.append([ksize, len(kmers), name])\n    return kmers, n_kmer_lines\n\nfor ksize in ksizes:\n    n_possible_kmers = 4**ksize\n    n_kmer_lines.append([ksize, n_possible_kmers, 'total possible: 4^k'])\n    \n    print(f\"total possible k-mers of size {ksize}: \", n_possible_kmers)\n    \n    # lincRNAs\n    lincrna_kmers, n_kmer_lines = kmerize_count_append(lincRNA, 'lincRNA')\n    \n    # Protein-coding CDNA (whole transcript)\n    protein_coding_cdna_kmers, n_kmer_lines = kmerize_count_append(protein_coding, 'protein_coding_cdna')\n    \n    # Protein-coding CDS (translated part only)\n    protein_coding_cds_kmers, n_kmer_lines = kmerize_count_append(protein_coding_cds_only, 'protein_coding_cdna')\n\n    jaccard = jaccardize(protein_coding_cds_kmers, lincrna_kmers)\n    lines.append([ksize, jaccard, 'lincRNA vs protein-coding CDS'])\n\n    jaccard = jaccardize(protein_coding_cdna_kmers, lincrna_kmers)\n    lines.append([ksize, jaccard, 'lincRNA vs protein-coding cDNA'])\n\n\nn_kmer_df = pd.DataFrame(n_kmer_lines, columns=['ksize', 'count', 'category'])\nprint(n_kmer_df.shape)\n\n    \nprotein_coding_vs_lncrna_df = pd.DataFrame(lines, columns=['ksize', 'jaccard', 'comparison'])\nprint(protein_coding_vs_lncrna_df.shape)\nprotein_coding_vs_lncrna_df.head()"
    },
    "executionTime": "2019-09-06T03:06:37.477Z"
   },
   {
    "cell": {
     "executionCount": 63,
     "executionEventId": "c03aa11e-6f92-4e0c-b478-c141c7b477d3",
     "hasError": false,
     "id": "6d49f623-7369-490b-a9e6-95ee5e87769d",
     "outputs": [
      {
       "name": "stdout",
       "output_type": "stream",
       "text": "(68, 3)\n"
      },
      {
       "data": {
        "text/html": "<div>\n<style scoped>\n    .dataframe tbody tr th:only-of-type {\n        vertical-align: middle;\n    }\n\n    .dataframe tbody tr th {\n        vertical-align: top;\n    }\n\n    .dataframe thead th {\n        text-align: right;\n    }\n</style>\n<table border=\"1\" class=\"dataframe\">\n  <thead>\n    <tr style=\"text-align: right;\">\n      <th></th>\n      <th>ksize</th>\n      <th>count</th>\n      <th>category</th>\n    </tr>\n  </thead>\n  <tbody>\n    <tr>\n      <th>0</th>\n      <td>5</td>\n      <td>1024</td>\n      <td>total possible: 4^k</td>\n    </tr>\n    <tr>\n      <th>1</th>\n      <td>5</td>\n      <td>1024</td>\n      <td>lincRNA</td>\n    </tr>\n    <tr>\n      <th>2</th>\n      <td>5</td>\n      <td>1024</td>\n      <td>protein_coding_cdna</td>\n    </tr>\n    <tr>\n      <th>3</th>\n      <td>5</td>\n      <td>1059</td>\n      <td>protein_coding_cdna</td>\n    </tr>\n    <tr>\n      <th>4</th>\n      <td>6</td>\n      <td>4096</td>\n      <td>total possible: 4^k</td>\n    </tr>\n  </tbody>\n</table>\n</div>",
        "text/plain": "   ksize  count             category\n0      5   1024  total possible: 4^k\n1      5   1024              lincRNA\n2      5   1024  protein_coding_cdna\n3      5   1059  protein_coding_cdna\n4      6   4096  total possible: 4^k"
       },
       "execution_count": 63,
       "metadata": {},
       "output_type": "execute_result"
      }
     ],
     "persistentId": "ffe7fce2-b519-4e87-97f9-451a06c32661",
     "text": "n_kmer_df = pd.DataFrame(n_kmer_lines, columns=['ksize', 'count', 'category'])\nprint(n_kmer_df.shape)\nn_kmer_df.head()"
    },
    "executionTime": "2019-09-06T03:06:37.601Z"
   },
   {
    "cell": {
     "executionCount": 64,
     "executionEventId": "0ee43ff2-1724-4536-b38f-b5db67391688",
     "hasError": false,
     "id": "0941b2fc-d8e0-43a9-ba48-4e45e47f7bd9",
     "outputs": [
      {
       "data": {
        "text/plain": "[Text(0.5, 1, 'K-mer similarity between lincRNA transcripts and protein-coding CDS\\nHuman Gencode V30, Ensembl v97')]"
       },
       "execution_count": 64,
       "metadata": {},
       "output_type": "execute_result"
      },
      {
       "data": {
        "image/png": "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\n",
        "text/plain": "<Figure size 499.5x360 with 1 Axes>"
       },
       "metadata": {
        "needs_background": "light"
       },
       "output_type": "display_data"
      }
     ],
     "persistentId": "0e89d563-4d0b-49cd-8d74-300f70bd180e",
     "text": "sns.factorplot(x='ksize', y='count', data=n_kmer_df, hue='category')\nax = plt.gca()\nax.set(title=\"K-mer similarity between lincRNA transcripts and protein-coding CDS\\nHuman Gencode V30, Ensembl v97\")"
    },
    "executionTime": "2019-09-06T03:06:41.100Z"
   },
   {
    "cell": {
     "executionCount": 65,
     "executionEventId": "b01c5263-a478-4fd0-914c-c1f398fb1d4b",
     "hasError": true,
     "id": "5bd8de6d-d158-4d8d-ad7c-ca3a2fb48ee6",
     "outputs": [
      {
       "ename": "NameError",
       "evalue": "name 'np' is not defined",
       "output_type": "error",
       "traceback": [
        "\u001b[0;31m---------------------------------------------------------------------------\u001b[0m",
        "\u001b[0;31mNameError\u001b[0m                                 Traceback (most recent call last)",
        "\u001b[0;32m<ipython-input-65-c43212941ddd>\u001b[0m in \u001b[0;36m<module>\u001b[0;34m\u001b[0m\n\u001b[0;32m----> 1\u001b[0;31m \u001b[0mn_kmer_df\u001b[0m\u001b[0;34m[\u001b[0m\u001b[0;34m'count_log2'\u001b[0m\u001b[0;34m]\u001b[0m \u001b[0;34m=\u001b[0m \u001b[0mnp\u001b[0m\u001b[0;34m.\u001b[0m\u001b[0mlog2\u001b[0m\u001b[0;34m(\u001b[0m\u001b[0mn_kmer_df\u001b[0m\u001b[0;34m[\u001b[0m\u001b[0;34m'count'\u001b[0m\u001b[0;34m]\u001b[0m\u001b[0;34m)\u001b[0m\u001b[0;34m\u001b[0m\u001b[0;34m\u001b[0m\u001b[0m\n\u001b[0m",
        "\u001b[0;31mNameError\u001b[0m: name 'np' is not defined"
       ]
      }
     ],
     "persistentId": "bf145fc2-715d-4263-a978-d3d488d3ef79",
     "text": "n_kmer_df['count_log2'] = np.log2(n_kmer_df['count'])"
    },
    "executionTime": "2019-09-06T03:07:16.703Z"
   },
   {
    "cell": {
     "executionCount": 66,
     "executionEventId": "2baf299c-74ae-4dd1-94d3-1baabb864ed8",
     "hasError": false,
     "id": "e993fe13-b894-42bc-a89c-be6b5660df44",
     "outputs": [],
     "persistentId": "7da06333-e82b-43dc-a224-ab6fdaf3026a",
     "text": "import itertools\nimport random\nimport requests\n\nfrom Bio import SeqIO\nimport matplotlib.pyplot as plt\nimport numpy as np\nimport pandas as pd\nimport seaborn as sns\n\nfrom khtools.ensembl import get_sequence, maybe_get_cds\nfrom khtools.compare_peptide import kmerize, jaccardize"
    },
    "executionTime": "2019-09-06T03:07:25.362Z"
   },
   {
    "cell": {
     "executionCount": 67,
     "executionEventId": "0045edf5-02ce-4eeb-8f56-a5dc757b1833",
     "hasError": false,
     "id": "5bd8de6d-d158-4d8d-ad7c-ca3a2fb48ee6",
     "outputs": [
      {
       "data": {
        "text/html": "<div>\n<style scoped>\n    .dataframe tbody tr th:only-of-type {\n        vertical-align: middle;\n    }\n\n    .dataframe tbody tr th {\n        vertical-align: top;\n    }\n\n    .dataframe thead th {\n        text-align: right;\n    }\n</style>\n<table border=\"1\" class=\"dataframe\">\n  <thead>\n    <tr style=\"text-align: right;\">\n      <th></th>\n      <th>ksize</th>\n      <th>count</th>\n      <th>category</th>\n      <th>count_log2</th>\n    </tr>\n  </thead>\n  <tbody>\n    <tr>\n      <th>0</th>\n      <td>5</td>\n      <td>1024</td>\n      <td>total possible: 4^k</td>\n      <td>10.000000</td>\n    </tr>\n    <tr>\n      <th>1</th>\n      <td>5</td>\n      <td>1024</td>\n      <td>lincRNA</td>\n      <td>10.000000</td>\n    </tr>\n    <tr>\n      <th>2</th>\n      <td>5</td>\n      <td>1024</td>\n      <td>protein_coding_cdna</td>\n      <td>10.000000</td>\n    </tr>\n    <tr>\n      <th>3</th>\n      <td>5</td>\n      <td>1059</td>\n      <td>protein_coding_cdna</td>\n      <td>10.048487</td>\n    </tr>\n    <tr>\n      <th>4</th>\n      <td>6</td>\n      <td>4096</td>\n      <td>total possible: 4^k</td>\n      <td>12.000000</td>\n    </tr>\n  </tbody>\n</table>\n</div>",
        "text/plain": "   ksize  count             category  count_log2\n0      5   1024  total possible: 4^k   10.000000\n1      5   1024              lincRNA   10.000000\n2      5   1024  protein_coding_cdna   10.000000\n3      5   1059  protein_coding_cdna   10.048487\n4      6   4096  total possible: 4^k   12.000000"
       },
       "execution_count": 67,
       "metadata": {},
       "output_type": "execute_result"
      }
     ],
     "persistentId": "bf145fc2-715d-4263-a978-d3d488d3ef79",
     "text": "n_kmer_df['count_log2'] = np.log2(n_kmer_df['count'])\nn_kmer_df.head()"
    },
    "executionTime": "2019-09-06T03:07:36.504Z"
   },
   {
    "cell": {
     "executionCount": 68,
     "executionEventId": "53930876-67eb-459a-a61a-6d5be923190f",
     "hasError": false,
     "id": "0941b2fc-d8e0-43a9-ba48-4e45e47f7bd9",
     "outputs": [
      {
       "data": {
        "text/plain": "[Text(0.5, 1, 'K-mer similarity between lincRNA transcripts and protein-coding CDS\\nHuman Gencode V30, Ensembl v97')]"
       },
       "execution_count": 68,
       "metadata": {},
       "output_type": "execute_result"
      },
      {
       "data": {
        "image/png": "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\n",
        "text/plain": "<Figure size 499.5x360 with 1 Axes>"
       },
       "metadata": {
        "needs_background": "light"
       },
       "output_type": "display_data"
      }
     ],
     "persistentId": "0e89d563-4d0b-49cd-8d74-300f70bd180e",
     "text": "sns.factorplot(x='ksize', y='count', data=n_kmer_df, hue='category')\nax = plt.gca()\nax.set(title=\"K-mer similarity between lincRNA transcripts and protein-coding CDS\\nHuman Gencode V30, Ensembl v97\")"
    },
    "executionTime": "2019-09-06T03:07:41.784Z"
   },
   {
    "cell": {
     "executionCount": 69,
     "executionEventId": "2c26d726-09a0-48ef-88f4-4a18fb895c46",
     "hasError": false,
     "id": "b69625bf-b108-4b3f-b450-f0a85976a8a8",
     "outputs": [
      {
       "data": {
        "text/plain": "[Text(0.5, 1, 'K-mer similarity between lincRNA transcripts and protein-coding CDS\\nHuman Gencode V30, Ensembl v97')]"
       },
       "execution_count": 69,
       "metadata": {},
       "output_type": "execute_result"
      },
      {
       "data": {
        "image/png": "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\n",
        "text/plain": "<Figure size 499.5x360 with 1 Axes>"
       },
       "metadata": {
        "needs_background": "light"
       },
       "output_type": "display_data"
      }
     ],
     "persistentId": "fe29a887-932e-41a2-a7e6-7036ab2c70b9",
     "text": "sns.factorplot(x='ksize', y='count_log2', data=n_kmer_df, hue='category')\nax = plt.gca()\nax.set(title=\"K-mer similarity between lincRNA transcripts and protein-coding CDS\\nHuman Gencode V30, Ensembl v97\")"
    },
    "executionTime": "2019-09-06T03:07:47.986Z"
   },
   {
    "cell": {
     "executionCount": 70,
     "executionEventId": "03b99379-a424-4f53-a3c3-542a750c4583",
     "hasError": false,
     "id": "b69625bf-b108-4b3f-b450-f0a85976a8a8",
     "outputs": [
      {
       "data": {
        "image/png": "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\n",
        "text/plain": "<Figure size 499.5x360 with 1 Axes>"
       },
       "metadata": {
        "needs_background": "light"
       },
       "output_type": "display_data"
      }
     ],
     "persistentId": "fe29a887-932e-41a2-a7e6-7036ab2c70b9",
     "text": "sns.factorplot(x='ksize', y='count_log2', data=n_kmer_df, hue='category')\nax = plt.gca()\n# ax.set(title=\"K-mer similarity between lincRNA transcripts and protein-coding CDS\\nHuman Gencode V30, Ensembl v97\")"
    },
    "executionTime": "2019-09-06T03:08:38.191Z"
   },
   {
    "cell": {
     "executionCount": 71,
     "executionEventId": "372c9de1-91fc-4773-8b25-02546a75200a",
     "hasError": false,
     "id": "808dc3e6-3537-454d-8e55-756491295a0d",
     "outputs": [
      {
       "data": {
        "text/plain": "1073741824"
       },
       "execution_count": 71,
       "metadata": {},
       "output_type": "execute_result"
      }
     ],
     "persistentId": "39234fe2-574c-4897-af40-9013d914e0f8",
     "text": "4**15"
    },
    "executionTime": "2019-09-06T03:44:11.358Z"
   },
   {
    "cell": {
     "executionCount": 72,
     "executionEventId": "9179645e-2f62-462c-8ebf-94bebeee4cee",
     "hasError": false,
     "id": "808dc3e6-3537-454d-8e55-756491295a0d",
     "outputs": [
      {
       "data": {
        "text/plain": "'1,073,741,824'"
       },
       "execution_count": 72,
       "metadata": {},
       "output_type": "execute_result"
      }
     ],
     "persistentId": "39234fe2-574c-4897-af40-9013d914e0f8",
     "text": "f'{4**15:,}'"
    },
    "executionTime": "2019-09-06T03:44:46.200Z"
   },
   {
    "cell": {
     "executionCount": 73,
     "executionEventId": "e35e7f95-58d4-4e71-9da7-1eaa1a55e0ea",
     "hasError": true,
     "id": "0fe12abf-b2ab-40cd-8b12-b3db7c05fc71",
     "outputs": [
      {
       "ename": "SyntaxError",
       "evalue": "EOL while scanning string literal (<ipython-input-73-d1a71dee93f4>, line 1)",
       "output_type": "error",
       "traceback": [
        "\u001b[0;36m  File \u001b[0;32m\"<ipython-input-73-d1a71dee93f4>\"\u001b[0;36m, line \u001b[0;32m1\u001b[0m\n\u001b[0;31m    f'{125185305:,}''\u001b[0m\n\u001b[0m                     ^\u001b[0m\n\u001b[0;31mSyntaxError\u001b[0m\u001b[0;31m:\u001b[0m EOL while scanning string literal\n"
       ]
      }
     ],
     "persistentId": "e7b4e51a-f00e-43a7-aef4-aa8932d4d4e1",
     "text": "f'{125185305:,}''"
    },
    "executionTime": "2019-09-06T12:38:17.183Z"
   },
   {
    "cell": {
     "executionCount": 74,
     "executionEventId": "adbaa56a-aa9e-416d-8af9-e6f83173bb85",
     "hasError": false,
     "id": "0fe12abf-b2ab-40cd-8b12-b3db7c05fc71",
     "outputs": [
      {
       "data": {
        "text/plain": "'125,185,305'"
       },
       "execution_count": 74,
       "metadata": {},
       "output_type": "execute_result"
      }
     ],
     "persistentId": "e7b4e51a-f00e-43a7-aef4-aa8932d4d4e1",
     "text": "f'{125185305:,}'"
    },
    "executionTime": "2019-09-06T12:38:19.317Z"
   },
   {
    "cell": {
     "executionCount": 75,
     "executionEventId": "e55506f7-8331-4ed1-b462-32cb458ab866",
     "hasError": false,
     "id": "b93f9758-28ba-4299-9281-79684dbb106d",
     "outputs": [
      {
       "data": {
        "text/plain": "0.11658790055662394"
       },
       "execution_count": 75,
       "metadata": {},
       "output_type": "execute_result"
      }
     ],
     "persistentId": "7028d6c5-f0fd-48ec-839d-0c368bab0551",
     "text": "125185305/4**15"
    },
    "executionTime": "2019-09-06T12:38:32.577Z"
   },
   {
    "cell": {
     "executionCount": 76,
     "executionEventId": "7f8f5fc9-4edf-4992-a9dd-9d5d70606d4d",
     "hasError": false,
     "id": "1d2a15f5-224e-4a51-90b2-a74c32f297cd",
     "outputs": [
      {
       "data": {
        "text/plain": "'65,790,873'"
       },
       "execution_count": 76,
       "metadata": {},
       "output_type": "execute_result"
      }
     ],
     "persistentId": "c00c6b85-06cf-46c1-8a29-54081ec225c3",
     "text": "f'{65790873:,}'"
    },
    "executionTime": "2019-09-06T12:39:02.989Z"
   },
   {
    "cell": {
     "executionCount": 77,
     "executionEventId": "ec0181b8-1b6c-4999-a431-05387517c675",
     "hasError": false,
     "id": "75f9d861-6115-4e6f-8e0a-8173e299865d",
     "outputs": [
      {
       "data": {
        "text/plain": "'28,493,287'"
       },
       "execution_count": 77,
       "metadata": {},
       "output_type": "execute_result"
      }
     ],
     "persistentId": "37525a28-d735-44bc-8c5d-7d1abf09a782",
     "text": "f'{28493287:,}'"
    },
    "executionTime": "2019-09-06T12:39:15.673Z"
   },
   {
    "cell": {
     "executionCount": 78,
     "executionEventId": "92034af0-3226-4042-bbe9-6b355f811d7d",
     "hasError": false,
     "id": "ead7c77e-774b-4419-a9d9-41364a3c2ff4",
     "outputs": [
      {
       "data": {
        "text/plain": "'31,877,955'"
       },
       "execution_count": 78,
       "metadata": {},
       "output_type": "execute_result"
      }
     ],
     "persistentId": "783e30b5-f376-49b8-abe6-c6ce3696b95f",
     "text": "f\"{31877955:,}\""
    },
    "executionTime": "2019-09-06T12:39:27.341Z"
   },
   {
    "cell": {
     "executionCount": 79,
     "executionEventId": "382755dd-198a-42b9-8db6-56749fb5be6c",
     "hasError": true,
     "id": "c61b48c2-f972-455c-a481-22ee109977e2",
     "outputs": [
      {
       "ename": "SyntaxError",
       "evalue": "invalid syntax (<ipython-input-79-54fbe9566552>, line 1)",
       "output_type": "error",
       "traceback": [
        "\u001b[0;36m  File \u001b[0;32m\"<ipython-input-79-54fbe9566552>\"\u001b[0;36m, line \u001b[0;32m1\u001b[0m\n\u001b[0;31m    Number of kmers in human cDNA\u001b[0m\n\u001b[0m            ^\u001b[0m\n\u001b[0;31mSyntaxError\u001b[0m\u001b[0;31m:\u001b[0m invalid syntax\n"
       ]
      }
     ],
     "persistentId": "84dfc838-548b-4a93-b197-3dcc5a092f0f",
     "text": "Number of kmers in human cDNA"
    },
    "executionTime": "2019-09-06T12:39:51.697Z"
   },
   {
    "cell": {
     "executionCount": 80,
     "executionEventId": "cb718b2d-e4d8-461f-81d0-25d2436d6246",
     "hasError": false,
     "id": "5585295e-017c-49cc-95b3-404d48c19395",
     "outputs": [
      {
       "data": {
        "text/plain": "[Text(0.5, 1, 'K-mer similarity between coding (CDS) and non-coding (ncRNA) transcripts\\nHuman Gencode V30, Ensembl v97')]"
       },
       "execution_count": 80,
       "metadata": {},
       "output_type": "execute_result"
      },
      {
       "data": {
        "image/png": "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\n",
        "text/plain": "<Figure size 555.75x360 with 1 Axes>"
       },
       "metadata": {
        "needs_background": "light"
       },
       "output_type": "display_data"
      }
     ],
     "persistentId": "6ffe7471-0adf-4be5-a22d-cd75ae8af89f",
     "text": "sns.catplot(x='ksize', y='jaccard', data=protein_coding_vs_lncrna_df, hue='comparison', kind='point')\nax = plt.gca()\nax.set(title=\"K-mer similarity between coding (CDS) and non-coding (ncRNA) transcripts\\nHuman Gencode V30, Ensembl v97\")"
    },
    "executionTime": "2019-09-10T15:21:59.946Z"
   },
   {
    "cell": {
     "executionCount": 81,
     "executionEventId": "288595ac-ae46-42d2-a330-c911854b202f",
     "hasError": false,
     "id": "65f729c9-8592-492e-9887-34779c5bd0f5",
     "outputs": [
      {
       "name": "stdout",
       "output_type": "stream",
       "text": "CPU times: user 11.1 s, sys: 744 ms, total: 11.8 s\nWall time: 11.8 s\n"
      }
     ],
     "persistentId": "58dee61b-27de-4664-af4c-afd27a03a50f",
     "text": "%%time\n\nn_desired_records = 1000\n\nrandom.seed(0)\n\nlincRNA = []\nprotein_coding = []\n\nlincRNA_metadata_lines = []\nprotein_coding_metadata_lines = []\n\nrecords = list(SeqIO.parse(f\"{GENCODE_FOLDER}/human/v30/gencode.v30.transcripts.fa\", 'fasta'))\n\n# Shuffles in-place and returns none\nrandom.shuffle(records)\n\nfor record in records:\n    metadata = record.name.strip('|').split(\"|\")\n    if metadata[-1] == 'protein_coding':\n        if len(protein_coding) < n_desired_records:\n            protein_coding.append((metadata[0].split(\".\")[0], str(record.seq)))\n            protein_coding_metadata_lines.append(metadata)\n    elif metadata[-1] == 'lincRNA':\n        if len(lincRNA) < n_desired_records:\n            lincRNA.append((metadata[0].split(\".\")[0], str(record.seq)))\n            lincRNA_metadata_lines.append(metadata)\n    if len(lincRNA) >= n_desired_records and len(protein_coding) >= n_desired_records:\n        break\n# del records"
    },
    "executionTime": "2019-09-10T15:23:10.968Z"
   },
   {
    "cell": {
     "executionCount": 82,
     "executionEventId": "b46e0c18-d884-4f2c-876a-99215da4f2ee",
     "hasError": false,
     "id": "3c48a938-6367-456c-aa9c-76024c6dc927",
     "outputs": [
      {
       "name": "stdout",
       "output_type": "stream",
       "text": "(1000, 8)\n"
      },
      {
       "data": {
        "text/html": "<div>\n<style scoped>\n    .dataframe tbody tr th:only-of-type {\n        vertical-align: middle;\n    }\n\n    .dataframe tbody tr th {\n        vertical-align: top;\n    }\n\n    .dataframe thead th {\n        text-align: right;\n    }\n</style>\n<table border=\"1\" class=\"dataframe\">\n  <thead>\n    <tr style=\"text-align: right;\">\n      <th></th>\n      <th>0</th>\n      <th>1</th>\n      <th>2</th>\n      <th>3</th>\n      <th>4</th>\n      <th>5</th>\n      <th>6</th>\n      <th>7</th>\n    </tr>\n  </thead>\n  <tbody>\n    <tr>\n      <th>0</th>\n      <td>ENST00000623420.1</td>\n      <td>ENSG00000279927.1</td>\n      <td>OTTHUMG00000189181.1</td>\n      <td>OTTHUMT00000479003.1</td>\n      <td>Z95114.4-201</td>\n      <td>Z95114.4</td>\n      <td>3578</td>\n      <td>lincRNA</td>\n    </tr>\n    <tr>\n      <th>1</th>\n      <td>ENST00000628547.2</td>\n      <td>ENSG00000242086.8</td>\n      <td>OTTHUMG00000155834.14</td>\n      <td>OTTHUMT00000481409.1</td>\n      <td>MUC20-OT1-308</td>\n      <td>MUC20-OT1</td>\n      <td>882</td>\n      <td>lincRNA</td>\n    </tr>\n    <tr>\n      <th>2</th>\n      <td>ENST00000411525.1</td>\n      <td>ENSG00000224429.7</td>\n      <td>OTTHUMG00000016541.3</td>\n      <td>OTTHUMT00000044126.1</td>\n      <td>LINC00539-201</td>\n      <td>LINC00539</td>\n      <td>664</td>\n      <td>lincRNA</td>\n    </tr>\n    <tr>\n      <th>3</th>\n      <td>ENST00000427111.4</td>\n      <td>ENSG00000237248.5</td>\n      <td>OTTHUMG00000168333.2</td>\n      <td>OTTHUMT00000500908.1</td>\n      <td>LINC00987-201</td>\n      <td>LINC00987</td>\n      <td>2472</td>\n      <td>lincRNA</td>\n    </tr>\n    <tr>\n      <th>4</th>\n      <td>ENST00000551227.1</td>\n      <td>ENSG00000258028.2</td>\n      <td>OTTHUMG00000170370.2</td>\n      <td>OTTHUMT00000408712.1</td>\n      <td>AL135878.1-201</td>\n      <td>AL135878.1</td>\n      <td>741</td>\n      <td>lincRNA</td>\n    </tr>\n  </tbody>\n</table>\n</div>",
        "text/plain": "                   0                  1                      2  \\\n0  ENST00000623420.1  ENSG00000279927.1   OTTHUMG00000189181.1   \n1  ENST00000628547.2  ENSG00000242086.8  OTTHUMG00000155834.14   \n2  ENST00000411525.1  ENSG00000224429.7   OTTHUMG00000016541.3   \n3  ENST00000427111.4  ENSG00000237248.5   OTTHUMG00000168333.2   \n4  ENST00000551227.1  ENSG00000258028.2   OTTHUMG00000170370.2   \n\n                      3               4           5     6        7  \n0  OTTHUMT00000479003.1    Z95114.4-201    Z95114.4  3578  lincRNA  \n1  OTTHUMT00000481409.1   MUC20-OT1-308   MUC20-OT1   882  lincRNA  \n2  OTTHUMT00000044126.1   LINC00539-201   LINC00539   664  lincRNA  \n3  OTTHUMT00000500908.1   LINC00987-201   LINC00987  2472  lincRNA  \n4  OTTHUMT00000408712.1  AL135878.1-201  AL135878.1   741  lincRNA  "
       },
       "execution_count": 82,
       "metadata": {},
       "output_type": "execute_result"
      }
     ],
     "persistentId": "a520f97f-5218-4633-a612-5e28366d4229",
     "text": "lncrna_df = pd.DataFrame(lincRNA_metadata_lines)\nprint(lncrna_df.shape)\nlncrna_df.head()"
    },
    "executionTime": "2019-09-10T15:23:10.985Z"
   },
   {
    "cell": {
     "executionCount": 83,
     "executionEventId": "132d5de9-9b83-4478-bb1c-48f428dbe52f",
     "hasError": false,
     "id": "e23ba74e-bc5c-42a1-b653-ccdf707ff44c",
     "outputs": [
      {
       "name": "stdout",
       "output_type": "stream",
       "text": "(1000, 8)\n"
      },
      {
       "data": {
        "text/html": "<div>\n<style scoped>\n    .dataframe tbody tr th:only-of-type {\n        vertical-align: middle;\n    }\n\n    .dataframe tbody tr th {\n        vertical-align: top;\n    }\n\n    .dataframe thead th {\n        text-align: right;\n    }\n</style>\n<table border=\"1\" class=\"dataframe\">\n  <thead>\n    <tr style=\"text-align: right;\">\n      <th></th>\n      <th>0</th>\n      <th>1</th>\n      <th>2</th>\n      <th>3</th>\n      <th>4</th>\n      <th>5</th>\n      <th>6</th>\n      <th>7</th>\n    </tr>\n  </thead>\n  <tbody>\n    <tr>\n      <th>0</th>\n      <td>ENST00000525764.5</td>\n      <td>ENSG00000149150.9</td>\n      <td>OTTHUMG00000167030.4</td>\n      <td>OTTHUMT00000392591.2</td>\n      <td>SLC43A1-203</td>\n      <td>SLC43A1</td>\n      <td>556</td>\n      <td>protein_coding</td>\n    </tr>\n    <tr>\n      <th>1</th>\n      <td>ENST00000576452.5</td>\n      <td>ENSG00000108523.15</td>\n      <td>OTTHUMG00000099397.5</td>\n      <td>OTTHUMT00000438729.1</td>\n      <td>RNF167-215</td>\n      <td>RNF167</td>\n      <td>589</td>\n      <td>protein_coding</td>\n    </tr>\n    <tr>\n      <th>2</th>\n      <td>ENST00000307377.12</td>\n      <td>ENSG00000170266.16</td>\n      <td>OTTHUMG00000155781.8</td>\n      <td>OTTHUMT00000341571.1</td>\n      <td>GLB1-202</td>\n      <td>GLB1</td>\n      <td>2018</td>\n      <td>protein_coding</td>\n    </tr>\n    <tr>\n      <th>3</th>\n      <td>ENST00000649592.1</td>\n      <td>ENSG00000114861.20</td>\n      <td>OTTHUMG00000158803.17</td>\n      <td>OTTHUMT00000497729.1</td>\n      <td>FOXP1-260</td>\n      <td>FOXP1</td>\n      <td>1975</td>\n      <td>protein_coding</td>\n    </tr>\n    <tr>\n      <th>4</th>\n      <td>ENST00000454061.5</td>\n      <td>ENSG00000214413.8</td>\n      <td>OTTHUMG00000019046.6</td>\n      <td>OTTHUMT00000050350.2</td>\n      <td>BBIP1-208</td>\n      <td>BBIP1</td>\n      <td>812</td>\n      <td>protein_coding</td>\n    </tr>\n  </tbody>\n</table>\n</div>",
        "text/plain": "                    0                   1                      2  \\\n0   ENST00000525764.5   ENSG00000149150.9   OTTHUMG00000167030.4   \n1   ENST00000576452.5  ENSG00000108523.15   OTTHUMG00000099397.5   \n2  ENST00000307377.12  ENSG00000170266.16   OTTHUMG00000155781.8   \n3   ENST00000649592.1  ENSG00000114861.20  OTTHUMG00000158803.17   \n4   ENST00000454061.5   ENSG00000214413.8   OTTHUMG00000019046.6   \n\n                      3            4        5     6               7  \n0  OTTHUMT00000392591.2  SLC43A1-203  SLC43A1   556  protein_coding  \n1  OTTHUMT00000438729.1   RNF167-215   RNF167   589  protein_coding  \n2  OTTHUMT00000341571.1     GLB1-202     GLB1  2018  protein_coding  \n3  OTTHUMT00000497729.1    FOXP1-260    FOXP1  1975  protein_coding  \n4  OTTHUMT00000050350.2    BBIP1-208    BBIP1   812  protein_coding  "
       },
       "execution_count": 83,
       "metadata": {},
       "output_type": "execute_result"
      }
     ],
     "persistentId": "de7d6948-c834-435f-8805-0ede4025e443",
     "text": "protein_coding_df = pd.DataFrame(protein_coding_metadata_lines)\nprint(protein_coding_df.shape)\nprotein_coding_df.head()"
    },
    "executionTime": "2019-09-10T15:23:11.008Z"
   },
   {
    "cell": {
     "executionCount": 84,
     "executionEventId": "4f8ba6ac-56b6-49c3-841e-5ed823aa2137",
     "hasError": false,
     "id": "c373a63b-289f-4632-aac8-ac8d5ed0974c",
     "outputs": [
      {
       "data": {
        "text/plain": "[('ENST00000623420',\n  'GCCCTGCCAGCCACTGTTCTAAGCACTTTTTCCCTGTTCCTGCCGATTTGCTCCTCACAACAACCATAGGAAGTGGAGACTATGATTATCCCCGTTGCACAGTAAGGAAACTGAGGCAAAAGGCGGTTAGGTAACTTGGCGATGTCTCCCGGCTAGGGATAGCAGAATGGGATAGAAACGCAGGCCACGCGGTCTGGAGCGGTGGCTCACGCCTTTAATCCCAGTACTTAGGGAGGCCGAGGCGGGCGGGTTACCTGGGGTCAGGAGTTCGAGACCAGCCTGGCCAACATGGTGAAACCCTATCTCTACTAAAAATACAAAAATTAGTCGGGGTGGGCACCTGTAATCCCAGCTACTCGAGGCTGAGGCAAAAGAATCGCTTGAACCCAGGAGGCAGAGGTGGCAGTGAGCCGAGATCACCCCACTGCACTTCAGCCTGGGTGGCAGAACAAGACTCTGTCTCAAAAAAAAAAAAAAGAATAAAAAAAAGAAAGGCAGGCCACCCGGTGGTGGTCCCTGTGCTCCTCCCCACCCACCCCCGCACTGTGCTGGGCGGTGAGGAGGCGGCTGGCCCAGGAGGTGGGGGTGTGGAGTGGGGCACATCAGAGATTTCAAATTGACCAAGGTCTGTTTTGTGTCAGTTTGTCAGTTTTATGTGTCAGCTTGGCTAAACTATGGTCTCCTGTTATTTGATCAAACACTAATCTATTTTTTCTTTTAGTTTAAAAAATAATAATTAAATGAAAAAATCCTGGCTAATGTTTTTTTTTTTGTAGAGACAGGGTTTTGCCTTGTTGCCCAGGCTGGCCTCTGACCCTTGGGCTCAAGTGATCTGCCACCATGCCTAGCCTCAAACACTAATCTAGATGTTGCTTGAAGGCATTTTGTAGATGTGATTTGTCTATAATTAGTTTACTTCAAGTAAGGGAGATTATCCCAGATAATCTGGGTGAGTCTGAAAGACTTTATGGGTAGAACTGAGGTGCCCTTGAAGAGGAAGAAATTCTGCCAGCCAATAGCAATTTCAGCTTGTGCTGAAGAGTTCCAGCCTTCCTAACAACCAGCCCTACAAATTTCGGACTTGCCTAGCCAGCCCTGTGTGTATAAACCAATTCCTTGCAATAATCACACCTACACCCTCACCCCACCCCCCTCCCCAAATACATGTATATATGGAGAGAGAGGGAGAGAGAATATAAAATCATACATATATCATATATCTCCTATTTGTTCTGTGTCTTTAATTTCTCTAGTTGACCCCTGACTGATGCAATGACCCAAGAGCAGGCAGATGCCCGGGGGGCGTTTATGATACCTCTCCTAGGACTTGGCTCAATCTGAGTCCCTCAACGGCCATCTGCAACCCTGAGGAGGGTAGGAAAATCCCAAATTGACTGAGATTACATTTCCATCATCAACAGCAATGGAGAATCAATAAAGAAATTTAGTTCAGATATTGAAAAATGAAGAGGGCTGGGTGCAGTGGCTCACGCCTGTAATCCCAGCACTTTGGGAGGCCGAGGCGGGTGGATCACCTGAGGTCGGGAGTTCGAGACCGGCCTGGCCAACATGGTGAAAACTCATCTTTACTAAAAATACAAAAATTAGTTCTGGTGGGTGCCTGTAATCCCAGCTACTCGGGAGGCTGAGGCAGGAGAATTGTTTGAACCCATTAGGCAGAGGTGGCAGTGAGCCGAGATCACCCCATTGCACTTCAGCCTGGGTGACAGAACAAGACTCCGTCTCAAGGAAAAGAAAAAAAAAAGAAGAAAGTCACAGTTTTTGCACTATCAAGTTTATGTGCTAAGATTCATACCTCATTTTAACAGCCTACATCTACTTCTGCGTGGACCAGAAGGACAGAGCCACAATAACACTGACCAAACCATAGTAATAGCACAATCGTTGCTACAAAACATTTGCAAATAATCAGATAATATATCTGATTAGGGCCTTGTATCCAGAATATATAAAGAGCTCTTATTGCAACAACAAGTAGAAAACAGATCAATTTAAAAATGGGCAAAGGTAGGCCAGGCACAGTGGCTCACACCTATAATCCCAGCACTTAGGGAGGCCGAGGCGGGTGGATCACCTGAGGTCAGGAGTTTGAGACCAGCCTGGCCAACATGGCGAAACTCCGTCTCTACTAAAAGTACAAAATTGAGCCGGACGTGGTGGTGAGAGTCTGTAATCCCAGCTACTTGGGAGGCTGAGGCAGGAGAATCGCTTGAACCCAGGAGATGGAGGTTGCAGTGAGCTGAGATCTCGCCATTGCACTCCAGCCTGGGCGACAAGAGTGAGACTCTGTCTCAAAATAAAAAATAAAATAAAATAGGCAAAGGACTTGAATATCCAAAGAAGATAAACAAATGGCCAATAAGCAAACAATACTTTCAAGCACAAAAGATGCTCGACATAATTAGTCATCAAGGAAAAGGCAAATCAGAACCACACGGGACTCACTTCACATCCACCAGGATGACTATAGTCCTTACAGTAAGAGAATAGCAGATGGCAGGTATTGTGCTTTACTTGTATTAAGTAACTTAATCCTCACAGTAGCCTCGTGAAGGAGGGATGGCTATTAGCTCATTTACAAAAGAGGAACTGAGGCCTGGAAAGGTGAAATGATTGCCCCAGTGTTCCACGGCTGGTCAGTGGGTGTCAGAATTTAAGACCTGGGCTGTCTGCTTCCAAAGCTGTGCTATCCAGCTTTAATGACTGTGCTATACTGGTCTCTAGCAAAATTATTGAAAATTTCCCTCTCAGACCCACCATTTACCTTTATTGCTCCCAGAGACCCTCACATGTGCTCCTTAGCTACCAAAAACAGACTTCTTCTTTCTCCTGGCATTTGTCCCATGTCCTTTGGTCAGTCCAGAACTCACTAGGAGGCTCCCAGACGCTGTGTCCGTGTTTCTCCTCCAGACCGACGATGCTGCCTGTGTCACTGCCTCAGGGCCATGTCACTGCTGCTGCCCCACTGGACTCCCACGGTCCTAGCCACCAGCCACTCCCCTCCTTCTTCCTGGCTAGCAAGGTTTACTGACTACCATAGAGGCGGAAAATGCCAGATGCTCGGTTTCCCAGGTTCCCTTTACAGTTACAGGTGACCATGTGACCGTGTTCTGGTCAATGACATATAAGGAGAGTCTTCTGAGAAAGATTTTCTCTCCTGGCCAGAATAGAGAGAGAGGGTGAGGTAGATGGAAAGAGCGGGAAGCTGGGCGCAGTGGTTCACACCTGTAATCCCAACACTTTGGGAGGCCAAGGCAGGTGGATCACCTGAGGTCAGGAGTTCGAGACCAGCCTGGCCACATGATGAAACCTTGTCTCTACTAAAAATACAAAAATTAGCTGGGTGTGGTGGTGTGGGCCTGTAATCCCAGCTATTTGGGAGGCTGAGGCACGTGAATCACTTGAACCCAGGAGGCGGAGATTGCAGTGTGCTGATCATGCCACTGCACTCCAGCCTGGGCAACAGAGTGAGACTCCGCCTCAAAACACACACACACACACACACACACACACACACACACACACACACACAAAACAGTGGGAGAGAGAGTAAGAGT'),\n ('ENST00000628547',\n  'CTGGCAGGAGCAGATTCCAAAGGCACAGGAAGAAGCTTGCAGTACAAAGATAAAAATCTAAAGTGGTTGCTGTGGAGGACAGGGGTCAGTGGTGGAAGTGAGACCGAAATAGACTCTGAAGTAATATCTGGACTTTGAAATTGTTGCCTGTTCACTCTGCCTGGTCATATGCAGAAAACCGAAACTAGACCCCTTGCTGACACTTATACAAAAATTAACTCAAGATGCATTAAAGATTTAAACGTGAGACCTAAAACCAGAAAAATCCTAGAAGAAAACCTAGGCAACACCATTGAGGACGTAAGCATGGGCAAAGACTTCATGACTAAAACACCAAAAGAAATGGCAACAAAAGCCAAAATTGACAAAAGGTTTCCTTAATGACAACAAAAAAGGGAGTAATCCTACCCACTGTAAGAGTCATGACTCTTGATTGCAGCTGACAGAAACTCATGACAGCCTGCTTTAGATGAAGGGGGAGAGAAGGACTGGAAGAATCTTGGAGTTGGGAATGTCACACGCAGCTGCTCCCAACCCCAGAACCTTTGCTGTCTTGGGACGGATCACCGCTGCAAGAGGGGAAGTTGCTACTGTGATGAATTCTGCCATGTGGCACCAGACTGCCACCCAGACCACAGTGTCCTCTGCAACCCTGGTAACTCACATACAGGCCCGATTCCACCTACAGCAAAGCTGGATGCGATGGCTGGCAGAGGCAAACCCTTTGCCTGCACTTCAGGCCAAAGCCGGGATGTGGCCTAGATGGTTCCTAAGGTCCCTGACAATCCTGAGATCTTGCATCTTGTCTATTTCAGGTCAAAGCTTCTCAGATGACCAAGATGGTGCTGCAGATGGTGCTGAGGATGGAGAACCCACCAAGCC')]"
       },
       "execution_count": 84,
       "metadata": {},
       "output_type": "execute_result"
      }
     ],
     "persistentId": "a74c5fe2-756b-4ea6-bf6b-e4ee3459bfbf",
     "text": "lincRNA[:2]"
    },
    "executionTime": "2019-09-10T15:23:11.027Z"
   },
   {
    "cell": {
     "executionCount": 85,
     "executionEventId": "fc54822b-80e1-4d4e-bf6e-d474fb48edde",
     "hasError": false,
     "id": "acf4bac5-7040-41fa-8b48-5467a4cac8ef",
     "outputs": [
      {
       "data": {
        "text/plain": "[('ENST00000525764',\n  'CACCAACACCACCCAGGATGAGCAGCGCAGGTGGCCAGGCTGTGACCAGCAGGACGAGATGCTCAACCTGGGCTTCACCATTGGTTCCTTCGTGCTCAGCGCCACCACCCTGCCACTGGGGATCCTCATGGACCGCTTTGGCCCCCGACCCGTGCGGCTGGTTGGCAGTGCCTGCTTCACTGCGTCCTGCACCCTCATGGCCCTGGCCTCCCGGGACGTGGAAGCTCTGTCTCCGTTGATATTCCTGGCGCTGTCCCTGAATGGCTTTGGTGGCATCTGCCTAACGTTCACTTCACTCACGGGACGGGGTTGCTACCAAATCCATCAGACCACGCTACTGCAAGATCCAAAAGCTCACCAATGCCATCAGTGCCTTCACCCTGACCAACCTGCTGCTTGTGGGTTTTGGCATCACCTGTCTCATCAACAACTTACACCTCCAGTTTGTGACCTTTGTCCTGCACACCATTGTTCGAGGTTTCTTCCACTCAGCCTGTGGGAGTCTCTATGCTGCAGTGTTCCCATCCAACCACTTTGGGACGCTGACAGGCCTGCA'),\n ('ENST00000576452',\n  'AGGAGGAGCTTGATGGAAGCGTGCGAGAAGGGGCGTAACTGATTTGGAAACCAGAGGAAAGGCGCTGTTTTCACCGAATTAGAATCGCGGGAAAATAGAGAAGAGTTTGTTTGAAGGTCTCGCGAGATCGAGTGAGTACGGCTCGCCAAGTTGGAGCGCTCTCGCGATAGACACAGCAACTATTCAGCTGCGAGGGGACGGGAGAGGTGGTGAGCACTCTCGCGAGATTTGAAGGAGCGGCGGAGGCCAGAGGGAGGAGAGGACGCGCGGCCTCCTCAGCCTCTTTCCTCCCGCTGCCATGCACCCTGCAGCCTTCCCGCTTCCTGTGGTTGTGGCCGCTGTGCTGTGGGGAGCGGCCCCGACCCGGGGGCTCATTCGAGCGACCTCGGACCACAATGCCAGCATGGACTTTGCAGACCTTCCAGCTCTGTTTGGGGCTACCTTGAGCCAGGAGGGCCTCCAGGGGTTCCTTGTGGAGGCTCACCCAGACAATGCCTGCAGCCCCATTGCCCCACCACCCCCAGCCCCGGTCAATGGGTCAGTCTTTATTGCGCTGCTTCGAAGATTCGACTGCAACTTTGACCTCAAG')]"
       },
       "execution_count": 85,
       "metadata": {},
       "output_type": "execute_result"
      }
     ],
     "persistentId": "f1df8f36-e80c-436b-a076-a885aa300034",
     "text": "protein_coding[:2]"
    },
    "executionTime": "2019-09-10T15:23:11.041Z"
   },
   {
    "cell": {
     "executionCount": 86,
     "executionEventId": "7c5808bd-b395-4f74-aa7a-c5e48847a978",
     "hasError": false,
     "id": "85273b1d-4afa-4758-a788-3f89d2012709",
     "outputs": [
      {
       "name": "stdout",
       "output_type": "stream",
       "text": "total possible k-mers of size 7 16384\n16371\n"
      }
     ],
     "persistentId": "2ae37154-2adb-435f-92a5-31ff4f713183",
     "text": "ksize = 7\nprint(f\"total possible k-mers of size {ksize}\", 4**ksize)\n\nlincrna_kmers = set(itertools.chain(*[kmerize(seq, ksize) for transcript_id, seq in lincRNA]))\nprint(len(lincrna_kmers))"
    },
    "executionTime": "2019-09-10T15:23:11.353Z"
   },
   {
    "cell": {
     "executionCount": 87,
     "executionEventId": "6865b5c1-9118-449e-bd0b-4be329bc2432",
     "hasError": false,
     "id": "9307048d-ed12-4497-9a29-5798daa5647e",
     "outputs": [
      {
       "name": "stdout",
       "output_type": "stream",
       "text": "16384\n"
      }
     ],
     "persistentId": "9025319d-e48d-4baf-817d-bc5594bbcb03",
     "text": "protein_coding_cdna_kmers = set(itertools.chain(*[kmerize(seq, ksize) for transcript_id, seq in protein_coding if seq is not None]))\nprint(len(protein_coding_cdna_kmers))"
    },
    "executionTime": "2019-09-10T15:23:12.246Z"
   },
   {
    "cell": {
     "executionCount": 88,
     "executionEventId": "62e1e33c-0c14-490e-b66e-e2a0b0d8ad7f",
     "hasError": false,
     "id": "471bb7b2-80fd-4998-adbd-f82dad29390e",
     "outputs": [
      {
       "data": {
        "text/plain": "1.0"
       },
       "execution_count": 88,
       "metadata": {},
       "output_type": "execute_result"
      }
     ],
     "persistentId": "1a18bc1b-04c4-4de3-8c01-3f1020f1731e",
     "text": "jaccardize(protein_coding_cdna_kmers, lincrna_kmers)"
    },
    "executionTime": "2019-09-10T15:23:12.270Z"
   },
   {
    "cell": {
     "executionCount": 89,
     "executionEventId": "6ea1ac8c-47e6-49b0-a82c-e0c34dbc5a1c",
     "hasError": true,
     "id": "2288b02f-2ded-4859-8cbc-cdd62b1ac6cc",
     "outputs": [
      {
       "ename": "TypeError",
       "evalue": "get_sequence() got an unexpected keyword argument 'type'",
       "output_type": "error",
       "traceback": [
        "\u001b[0;31m---------------------------------------------------------------------------\u001b[0m",
        "\u001b[0;31mTypeError\u001b[0m                                 Traceback (most recent call last)",
        "\u001b[0;32m<timed exec>\u001b[0m in \u001b[0;36m<module>\u001b[0;34m\u001b[0m\n",
        "\u001b[0;32m<timed exec>\u001b[0m in \u001b[0;36m<listcomp>\u001b[0;34m(.0)\u001b[0m\n",
        "\u001b[0;32m~/code/kmer-hashing/kh-tools/khtools/ensembl.py\u001b[0m in \u001b[0;36mmaybe_get_cds\u001b[0;34m(transcript_id)\u001b[0m\n\u001b[1;32m      5\u001b[0m \u001b[0;32mdef\u001b[0m \u001b[0mmaybe_get_cds\u001b[0m\u001b[0;34m(\u001b[0m\u001b[0mtranscript_id\u001b[0m\u001b[0;34m)\u001b[0m\u001b[0;34m:\u001b[0m\u001b[0;34m\u001b[0m\u001b[0;34m\u001b[0m\u001b[0m\n\u001b[1;32m      6\u001b[0m     \u001b[0;32mtry\u001b[0m\u001b[0;34m:\u001b[0m\u001b[0;34m\u001b[0m\u001b[0;34m\u001b[0m\u001b[0m\n\u001b[0;32m----> 7\u001b[0;31m         \u001b[0;32mreturn\u001b[0m \u001b[0mget_sequence\u001b[0m\u001b[0;34m(\u001b[0m\u001b[0mtranscript_id\u001b[0m\u001b[0;34m,\u001b[0m \u001b[0mtype\u001b[0m\u001b[0;34m=\u001b[0m\u001b[0;34m'cds'\u001b[0m\u001b[0;34m,\u001b[0m \u001b[0mverbose\u001b[0m\u001b[0;34m=\u001b[0m\u001b[0;32mFalse\u001b[0m\u001b[0;34m)\u001b[0m\u001b[0;34m\u001b[0m\u001b[0;34m\u001b[0m\u001b[0m\n\u001b[0m\u001b[1;32m      8\u001b[0m     \u001b[0;32mexcept\u001b[0m \u001b[0mrequests\u001b[0m\u001b[0;34m.\u001b[0m\u001b[0mexceptions\u001b[0m\u001b[0;34m.\u001b[0m\u001b[0mHTTPError\u001b[0m\u001b[0;34m:\u001b[0m\u001b[0;34m\u001b[0m\u001b[0;34m\u001b[0m\u001b[0m\n\u001b[1;32m      9\u001b[0m         \u001b[0;32mreturn\u001b[0m \u001b[0;32mNone\u001b[0m\u001b[0;34m\u001b[0m\u001b[0;34m\u001b[0m\u001b[0m\n",
        "\u001b[0;31mTypeError\u001b[0m: get_sequence() got an unexpected keyword argument 'type'"
       ]
      }
     ],
     "persistentId": "a3217612-1e52-4db6-8b29-7080816162d8",
     "text": "%%time\n\nprotein_coding_cds_only = [(transcript_id, maybe_get_cds(transcript_id)) for transcript_id, seq in protein_coding]\nlen(protein_coding_cds_only)\n"
    },
    "executionTime": "2019-09-10T15:23:12.332Z"
   },
   {
    "cell": {
     "executionCount": 90,
     "executionEventId": "a10d9da1-ddbf-4d4e-82cf-f61ff248976e",
     "hasError": false,
     "id": "1cf3a7b6-f325-4d3e-ab0f-dcbb47779118",
     "outputs": [
      {
       "data": {
        "text/plain": "[('ENST00000525764',\n  'NNCACCAACACCACCCAGGATGAGCAGCGCAGGTGGCCAGGCTGTGACCAGCAGGACGAGATGCTCAACCTGGGCTTCACCATTGGTTCCTTCGTGCTCAGCGCCACCACCCTGCCACTGGGGATCCTCATGGACCGCTTTGGCCCCCGACCCGTGCGGCTGGTTGGCAGTGCCTGCTTCACTGCGTCCTGCACCCTCATGGCCCTGGCCTCCCGGGACGTGGAAGCTCTGTCTCCGTTGATATTCCTGGCGCTGTCCCTGAATGGCTTTGGTGGCATCTGCCTAACGTTCACTTCACTCACGGGACGGGGTTGCTACCAAATCCATCAGACCACGCTACTGCAAGATCCAAAAGCTCACCAATGCCATCAGTGCCTTCACCCTGACCAACCTGCTGCTTGTGGGTTTTGGCATCACCTGTCTCATCAACAACTTACACCTCCAGTTTGTGACCTTTGTCCTGCACACCATTGTTCGAGGTTTCTTCCACTCAGCCTGTGGGAGTCTCTATGCTGCAGTGTTCCCATCCAACCACTTTGGGACGCTGACAGGCCTGCA'),\n ('ENST00000576452',\n  'ATGCACCCTGCAGCCTTCCCGCTTCCTGTGGTTGTGGCCGCTGTGCTGTGGGGAGCGGCCCCGACCCGGGGGCTCATTCGAGCGACCTCGGACCACAATGCCAGCATGGACTTTGCAGACCTTCCAGCTCTGTTTGGGGCTACCTTGAGCCAGGAGGGCCTCCAGGGGTTCCTTGTGGAGGCTCACCCAGACAATGCCTGCAGCCCCATTGCCCCACCACCCCCAGCCCCGGTCAATGGGTCAGTCTTTATTGCGCTGCTTCGAAGATTCGACTGCAACTTTGACCTCAAG')]"
       },
       "execution_count": 90,
       "metadata": {},
       "output_type": "execute_result"
      }
     ],
     "persistentId": "aba44400-7776-4cf8-a895-aff2c54f285a",
     "text": "protein_coding_cds_only[:2]"
    },
    "executionTime": "2019-09-10T15:23:12.349Z"
   },
   {
    "cell": {
     "executionCount": 91,
     "executionEventId": "9fa783f1-3a87-44d5-97b8-4eabc58059e1",
     "hasError": false,
     "id": "7bb153c8-82ff-419a-9e37-51359f900b7d",
     "outputs": [],
     "persistentId": "5fafdb94-ada1-48f6-a83b-321a5fb9e48c",
     "text": "ksize = 7"
    },
    "executionTime": "2019-09-10T15:23:12.388Z"
   },
   {
    "cell": {
     "executionCount": 92,
     "executionEventId": "fe7468ac-9dd6-4f77-9be7-8b117ff6dd86",
     "hasError": false,
     "id": "8f9a05cb-a0d1-492d-9998-ac450b9993d4",
     "outputs": [
      {
       "name": "stdout",
       "output_type": "stream",
       "text": "16399\n"
      }
     ],
     "persistentId": "2ae37154-2adb-435f-92a5-31ff4f713183",
     "text": "\nprotein_coding_kmers = set(itertools.chain(*[kmerize(seq, ksize) for transcript_id, seq in protein_coding_cds_only if seq is not None]))\nprint(len(protein_coding_kmers))"
    },
    "executionTime": "2019-09-10T15:23:12.587Z"
   },
   {
    "cell": {
     "executionCount": 93,
     "executionEventId": "2665be14-fed3-49d4-b8ce-d581ac43babe",
     "hasError": false,
     "id": "f06fdefd-72a1-4169-b771-2f792facce61",
     "outputs": [
      {
       "data": {
        "text/plain": "0.998533993036467"
       },
       "execution_count": 93,
       "metadata": {},
       "output_type": "execute_result"
      }
     ],
     "persistentId": "634d3b76-32c7-43f4-a674-a927e13e99b3",
     "text": "jaccardize(protein_coding_kmers, lincrna_kmers)"
    },
    "executionTime": "2019-09-10T15:23:12.629Z"
   },
   {
    "cell": {
     "executionCount": 94,
     "executionEventId": "b27388ff-1886-4e8f-b746-f552e7d0c945",
     "hasError": false,
     "id": "59ebcc8a-fd78-4c3d-8b17-0fce7c493d78",
     "outputs": [
      {
       "name": "stdout",
       "output_type": "stream",
       "text": "total possible k-mers of size 5:  1024\ntotal possible k-mers of size 6:  4096\ntotal possible k-mers of size 7:  16384\ntotal possible k-mers of size 8:  65536\ntotal possible k-mers of size 9:  262144\ntotal possible k-mers of size 10:  1048576\ntotal possible k-mers of size 11:  4194304\ntotal possible k-mers of size 12:  16777216\ntotal possible k-mers of size 13:  67108864\ntotal possible k-mers of size 14:  268435456\ntotal possible k-mers of size 15:  1073741824\ntotal possible k-mers of size 16:  4294967296\ntotal possible k-mers of size 17:  17179869184\ntotal possible k-mers of size 18:  68719476736\ntotal possible k-mers of size 19:  274877906944\ntotal possible k-mers of size 20:  1099511627776\ntotal possible k-mers of size 21:  4398046511104\n(68, 3)\n(34, 3)\nCPU times: user 29.9 s, sys: 11.8 s, total: 41.8 s\nWall time: 41.8 s\n"
      }
     ],
     "persistentId": "f732ef44-dbbc-4e4b-a370-d38eb57c5bd2",
     "text": "%%time\n\nksizes = range(5, 22)\n\nlines = []\nn_kmer_lines = []\n\ndef kmerize_count_append(id_seqs, name):\n    kmers = set(itertools.chain(*[kmerize(seq, ksize) for transcript_id, seq in id_seqs if seq is not None]))\n    n_kmers = len(kmers)\n    \n    n_kmer_lines.append([ksize, len(kmers), name])\n    return kmers, n_kmer_lines\n\nfor ksize in ksizes:\n    n_possible_kmers = 4**ksize\n    n_kmer_lines.append([ksize, n_possible_kmers, 'total possible: 4^k'])\n    \n    print(f\"total possible k-mers of size {ksize}: \", n_possible_kmers)\n    \n    # lincRNAs\n    lincrna_kmers, n_kmer_lines = kmerize_count_append(lincRNA, 'lincRNA')\n    \n    # Protein-coding CDNA (whole transcript)\n    protein_coding_cdna_kmers, n_kmer_lines = kmerize_count_append(protein_coding, 'protein_coding_cdna')\n    \n    # Protein-coding CDS (translated part only)\n    protein_coding_cds_kmers, n_kmer_lines = kmerize_count_append(protein_coding_cds_only, 'protein_coding_cdna')\n\n    jaccard = jaccardize(protein_coding_cds_kmers, lincrna_kmers)\n    lines.append([ksize, jaccard, 'lincRNA vs protein-coding CDS'])\n\n    jaccard = jaccardize(protein_coding_cdna_kmers, lincrna_kmers)\n    lines.append([ksize, jaccard, 'lincRNA vs protein-coding cDNA'])\n\n\nn_kmer_df = pd.DataFrame(n_kmer_lines, columns=['ksize', 'count', 'category'])\nprint(n_kmer_df.shape)\n\n    \nprotein_coding_vs_lncrna_df = pd.DataFrame(lines, columns=['ksize', 'jaccard', 'comparison'])\nprint(protein_coding_vs_lncrna_df.shape)\nprotein_coding_vs_lncrna_df.head()"
    },
    "executionTime": "2019-09-10T15:23:54.425Z"
   },
   {
    "cell": {
     "executionCount": 95,
     "executionEventId": "de618026-e024-45f2-8bc4-910001d672bb",
     "hasError": false,
     "id": "0f66f1a0-6d9d-4d97-814f-90d80f783a4c",
     "outputs": [],
     "persistentId": "a3529d9b-7b80-43aa-bf3d-f95b24e3c0fd",
     "text": "folder = '/home/olga/data_sm/kmer-hashing/classify_coding_vs_noncoding/'"
    },
    "executionTime": "2019-09-14T13:57:21.672Z"
   },
   {
    "cell": {
     "executionCount": 96,
     "executionEventId": "eb06a6a3-7d95-4c5a-9e6b-a5d12d6d8a99",
     "hasError": false,
     "id": "e398054c-488c-4a90-9f7d-cd0e736ba92e",
     "outputs": [],
     "persistentId": "514aebb8-fcfc-4328-9aee-1287f16ad5fc",
     "text": "! cd $folder"
    },
    "executionTime": "2019-09-14T13:57:27.594Z"
   },
   {
    "cell": {
     "executionCount": 97,
     "executionEventId": "04d2845e-3f81-4daf-80a4-2832c3a732c0",
     "hasError": false,
     "id": "9cf597b1-c883-48a9-ad86-b8b943677e99",
     "outputs": [],
     "persistentId": "7da06333-e82b-43dc-a224-ab6fdaf3026a",
     "text": "import gzip\nimport itertools\nimport random\nimport requests\n\nfrom Bio import SeqIO\nimport matplotlib.pyplot as plt\nimport numpy as np\nimport pandas as pd\nimport seaborn as sns\n\nfrom khtools.ensembl import get_sequence, maybe_get_cds\nfrom khtools.compare_peptide import kmerize, jaccardize"
    },
    "executionTime": "2019-09-14T13:57:52.024Z"
   },
   {
    "cell": {
     "executionCount": 98,
     "executionEventId": "980e35c4-e25d-4056-ac6b-761058813b71",
     "hasError": false,
     "id": "0f66f1a0-6d9d-4d97-814f-90d80f783a4c",
     "outputs": [],
     "persistentId": "a3529d9b-7b80-43aa-bf3d-f95b24e3c0fd",
     "text": "folder = '/home/olga/data_sm/kmer-hashing/classify_coding_vs_noncoding/'"
    },
    "executionTime": "2019-09-14T13:58:02.256Z"
   }
  ],
  "kernelspec": {
   "display_name": "Python [conda env:sourmash-sbt2knn]",
   "language": "python",
   "name": "conda-env-sourmash-sbt2knn-py"
  },
  "language_info": {
   "codemirror_mode": {
    "name": "ipython",
    "version": 3
   },
   "file_extension": ".py",
   "mimetype": "text/x-python",
   "name": "python",
   "nbconvert_exporter": "python",
   "pygments_lexer": "ipython3",
   "version": "3.7.3"
  },
  "uuid": "fbe193a6-4a1e-47ce-a427-389d15e171fe"
 },
 "nbformat": 4,
 "nbformat_minor": 4
}
