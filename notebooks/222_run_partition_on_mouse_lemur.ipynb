{
 "cells": [
  {
   "cell_type": "code",
   "execution_count": 1,
   "metadata": {
    "execution_event_id": "d7b78e97-1f99-4c16-9391-7281b3835de1",
    "last_executed_text": "folder = '/home/olga/data_sm/kmer-hashing/classify_coding_vs_noncoding/'",
    "persistent_id": "d71d3dcc-3277-4f68-83fa-c2e0cf67993e"
   },
   "outputs": [],
   "source": [
    "folder = '/home/olga/data_sm/kmer-hashing/classify_coding_vs_noncoding/'"
   ]
  },
  {
   "cell_type": "code",
   "execution_count": 2,
   "metadata": {
    "execution_event_id": "056d0ac6-7ae0-4e5b-bb05-584c55e2d211",
    "last_executed_text": "cd $folder",
    "persistent_id": "e1258dea-6261-4333-a42d-3290a6196a60"
   },
   "outputs": [
    {
     "name": "stdout",
     "output_type": "stream",
     "text": [
      "/mnt/data_sm/olga/kmer-hashing/classify_coding_vs_noncoding\n"
     ]
    }
   ],
   "source": [
    "cd $folder"
   ]
  },
  {
   "cell_type": "code",
   "execution_count": 2,
   "metadata": {
    "execution_event_id": "54ec704e-7102-4fb4-a93f-afa4c5f5e7ab",
    "last_executed_text": "fastq_folder = '/home/olga/data_sm/tabula-microcebus/rawdata/fastqs/smartseq2/antoine__190812_A00111_0356_AHMHLCDSXX/B001498_B109060_A8_S8'",
    "persistent_id": "1b79f550-b4fb-4d6e-8a10-2970fd4cb65b"
   },
   "outputs": [],
   "source": [
    "fastq_folder = '/home/olga/data_sm/tabula-microcebus/rawdata/fastqs/smartseq2/antoine__190812_A00111_0356_AHMHLCDSXX/B001498_B109060_A8_S8'"
   ]
  },
  {
   "cell_type": "code",
   "execution_count": 4,
   "metadata": {
    "execution_event_id": "ac800404-c45b-4f22-b016-402775f0531c",
    "last_executed_text": "ls -lha $fastq_folder",
    "persistent_id": "88cf1696-2913-4e36-9d52-d87c733c0b80"
   },
   "outputs": [
    {
     "name": "stdout",
     "output_type": "stream",
     "text": [
      "total 283M\n",
      "drwxrwxrwx 2 5008 root 4.0K Oct 22 06:22 \u001b[0m\u001b[34;42m.\u001b[0m/\n",
      "drwxrwxrwx 4 5008 root 4.0K Oct 14 22:39 \u001b[34;42m..\u001b[0m/\n",
      "-rw-rw-r-- 1 olga olga  68M Oct 22 06:22 \u001b[01;31mB001498_B109060_A8_S8_R1_001.fastp_trimmed.fastq.gz\u001b[0m\n",
      "-rwxrwxrwx 1 5008 root  72M Aug 15 15:29 \u001b[01;32mB001498_B109060_A8_S8_R1_001.fastq.gz\u001b[0m*\n",
      "-rw-r--r-- 1 5008 czb  271K Oct 14 16:52 B001498_B109060_A8_S8_R1_001__subsampled.fastq\n",
      "-rw-rw-r-- 1 olga olga  70M Oct 22 06:22 \u001b[01;31mB001498_B109060_A8_S8_R2_001.fastp_trimmed.fastq.gz\u001b[0m\n",
      "-rwxrwxrwx 1 5008 root  74M Aug 15 15:29 \u001b[01;32mB001498_B109060_A8_S8_R2_001.fastq.gz\u001b[0m*\n",
      "-rw-r--r-- 1 5008 czb  271K Oct 14 16:53 B001498_B109060_A8_S8_R2_001__subsampled.fastq\n",
      "-rw-rw-r-- 1 olga olga 454K Oct 22 06:22 fastp.html\n",
      "-rw-rw-r-- 1 olga olga 115K Oct 22 06:22 fastp.json\n"
     ]
    }
   ],
   "source": [
    "ls -lha $fastq_folder"
   ]
  },
  {
   "cell_type": "markdown",
   "metadata": {
    "persistent_id": "1dbbf0df-e00c-4c2e-ad55-657e790bc526"
   },
   "source": [
    "### Link trimmed reads"
   ]
  },
  {
   "cell_type": "code",
   "execution_count": 5,
   "metadata": {
    "execution_event_id": "33e27751-730d-414a-b137-bff2d37c8f8c",
    "last_executed_text": "! ln -s $fastq_folder/B001498_B109060_A8_S8_R1_001.fastp_trimmed.fastq.gz .\n! ln -s $fastq_folder/B001498_B109060_A8_S8_R2_001.fastp_trimmed.fastq.gz .",
    "persistent_id": "02aa7546-3a43-426f-9a12-2604f8bfb646"
   },
   "outputs": [],
   "source": [
    "! ln -s $fastq_folder/B001498_B109060_A8_S8_R1_001.fastp_trimmed.fastq.gz .\n",
    "! ln -s $fastq_folder/B001498_B109060_A8_S8_R2_001.fastp_trimmed.fastq.gz ."
   ]
  },
  {
   "cell_type": "markdown",
   "metadata": {
    "persistent_id": "4505ea28-214a-4d1d-9095-54d11606b5d0"
   },
   "source": [
    "### Link untrimmed reads"
   ]
  },
  {
   "cell_type": "code",
   "execution_count": null,
   "metadata": {
    "persistent_id": "75cca7f7-a10f-473e-b3a0-b7f4861a9a03"
   },
   "outputs": [],
   "source": [
    "! ln -s $fastq_folder/B001498_B109060_A8_S8_R1_001.fastq.gz .\n",
    "! ln -s $fastq_folder/B001498_B109060_A8_S8_R2_001.fastq.gz ."
   ]
  },
  {
   "cell_type": "code",
   "execution_count": 4,
   "metadata": {
    "execution_event_id": "48525c1e-4176-41ac-a9e9-faf825195aa0",
    "last_executed_text": "mkdir mouse_lemur_B001498_B109060_A8_S8_test",
    "persistent_id": "990fecd7-155d-443e-b593-9ea6bf982a93"
   },
   "outputs": [],
   "source": [
    "mkdir mouse_lemur_B001498_B109060_A8_S8_test"
   ]
  },
  {
   "cell_type": "code",
   "execution_count": 5,
   "metadata": {
    "execution_event_id": "8ed23a51-1f35-4508-b6bf-2f425c532286",
    "last_executed_text": "! ln -s ../B001498_B109060_A8_S8* mouse_lemur_B001498_B109060_A8_S8_test",
    "persistent_id": "15b996b9-7ba0-4b85-b153-b88248453386"
   },
   "outputs": [],
   "source": []
  },
  {
   "cell_type": "code",
   "execution_count": 8,
   "metadata": {
    "execution_event_id": "4df485c7-081d-4130-9226-d6a74f79bdaf",
    "last_executed_text": "cd mouse_lemur_B001498_B109060_A8_S8_test",
    "persistent_id": "9f280281-4199-4c0f-b3f6-e079139cf9bf"
   },
   "outputs": [
    {
     "name": "stdout",
     "output_type": "stream",
     "text": [
      "/mnt/data_sm/olga/kmer-hashing/classify_coding_vs_noncoding/mouse_lemur_B001498_B109060_A8_S8_test\n"
     ]
    }
   ],
   "source": [
    "cd mouse_lemur_B001498_B109060_A8_S8_test"
   ]
  },
  {
   "cell_type": "code",
   "execution_count": 9,
   "metadata": {
    "execution_event_id": "089ef366-7486-489e-b3e7-2a8002406a23",
    "last_executed_text": "ls -lha ",
    "persistent_id": "0b1bd213-1ff6-47c3-9eb1-b04cf1adb152"
   },
   "outputs": [
    {
     "name": "stdout",
     "output_type": "stream",
     "text": [
      "total 9.0K\n",
      "drwxrwxr-x 2 olga olga 4.0K Oct 19 16:44 \u001b[0m\u001b[01;34m.\u001b[0m/\n",
      "drwxrwxr-x 4 olga olga 8.0K Oct 19 16:44 \u001b[01;34m..\u001b[0m/\n",
      "lrwxrwxrwx 1 olga olga   25 Oct 19 16:44 \u001b[40;31;01mB001498_B109060_A8_S8*\u001b[0m -> \u001b[40;31;01m../B001498_B109060_A8_S8*\u001b[0m\n"
     ]
    }
   ],
   "source": [
    "ls -lha "
   ]
  },
  {
   "cell_type": "code",
   "execution_count": 11,
   "metadata": {
    "execution_event_id": "cc7be7ec-123c-4753-8f9c-7c846a5308a7",
    "last_executed_text": "! ln -s ../B001498_B109060_A8_S8* .",
    "persistent_id": "0b38779a-a040-4a1a-bd71-a37d59518e3c"
   },
   "outputs": [],
   "source": [
    "! ln -s ../B001498_B109060_A8_S8* ."
   ]
  },
  {
   "cell_type": "code",
   "execution_count": 12,
   "metadata": {
    "execution_event_id": "4d6431ee-c528-44d4-ae29-e0043f2725fc",
    "last_executed_text": "ls -lha",
    "persistent_id": "8bfbcfca-833d-4b69-aef7-0cd0beb976bf"
   },
   "outputs": [
    {
     "name": "stdout",
     "output_type": "stream",
     "text": [
      "total 13K\n",
      "drwxrwxr-x 2 olga olga 4.0K Oct 19 16:45 \u001b[0m\u001b[01;34m.\u001b[0m/\n",
      "drwxrwxr-x 4 olga olga 8.0K Oct 19 16:44 \u001b[01;34m..\u001b[0m/\n",
      "lrwxrwxrwx 1 olga olga   25 Oct 19 16:44 \u001b[40;31;01mB001498_B109060_A8_S8*\u001b[0m -> \u001b[40;31;01m../B001498_B109060_A8_S8*\u001b[0m\n",
      "lrwxrwxrwx 1 olga olga   50 Oct 19 16:45 \u001b[01;36mB001498_B109060_A8_S8_ground_truth_read_ids.txt\u001b[0m -> ../B001498_B109060_A8_S8_ground_truth_read_ids.txt\n",
      "lrwxrwxrwx 1 olga olga   64 Oct 19 16:45 \u001b[01;36mB001498_B109060_A8_S8_R1_001_ground_truth.fastp_trimmed.fastq\u001b[0m -> ../B001498_B109060_A8_S8_R1_001_ground_truth.fastp_trimmed.fastq\n",
      "lrwxrwxrwx 1 olga olga   50 Oct 19 16:45 \u001b[01;36mB001498_B109060_A8_S8_R1_001_ground_truth.fastq\u001b[0m -> ../B001498_B109060_A8_S8_R1_001_ground_truth.fastq\n",
      "lrwxrwxrwx 1 olga olga   51 Oct 19 16:45 \u001b[01;36mB001498_B109060_A8_S8_R1_coding_ground_truth.csv\u001b[0m -> ../B001498_B109060_A8_S8_R1_coding_ground_truth.csv\n",
      "lrwxrwxrwx 1 olga olga   64 Oct 19 16:45 \u001b[01;36mB001498_B109060_A8_S8_R2_001_ground_truth.fastp_trimmed.fastq\u001b[0m -> ../B001498_B109060_A8_S8_R2_001_ground_truth.fastp_trimmed.fastq\n",
      "lrwxrwxrwx 1 olga olga   50 Oct 19 16:45 \u001b[01;36mB001498_B109060_A8_S8_R2_001_ground_truth.fastq\u001b[0m -> ../B001498_B109060_A8_S8_R2_001_ground_truth.fastq\n",
      "lrwxrwxrwx 1 olga olga   51 Oct 19 16:45 \u001b[01;36mB001498_B109060_A8_S8_R2_coding_ground_truth.csv\u001b[0m -> ../B001498_B109060_A8_S8_R2_coding_ground_truth.csv\n"
     ]
    }
   ],
   "source": [
    "ls -lha"
   ]
  },
  {
   "cell_type": "code",
   "execution_count": 13,
   "metadata": {
    "execution_event_id": "22b2684b-1f03-40c5-99d2-261b0de775e7",
    "last_executed_text": "rm B001498_B109060_A8_S8\\*",
    "persistent_id": "7dfd12c2-099c-4b54-b223-c9808b0f08af"
   },
   "outputs": [],
   "source": [
    "rm B001498_B109060_A8_S8\\*"
   ]
  },
  {
   "cell_type": "code",
   "execution_count": 35,
   "metadata": {
    "execution_event_id": "877c7c4a-3be1-4437-ae1e-110eb81930f3",
    "last_executed_text": "import pandas as pd\n\ndf_r2 = pd.read_csv(\"B001498_B109060_A8_S8_R2_coding_ground_truth.csv\")\ndf_r2 = df_r2.drop_duplicates(subset='sequence_id')\nprint(df_r2.shape)\ndf_r2.head()",
    "persistent_id": "252c3a44-2f31-4fd9-9dd7-d9ad61cce053"
   },
   "outputs": [
    {
     "name": "stdout",
     "output_type": "stream",
     "text": [
      "(17, 7)\n"
     ]
    },
    {
     "data": {
      "text/html": [
       "<div>\n",
       "<style scoped>\n",
       "    .dataframe tbody tr th:only-of-type {\n",
       "        vertical-align: middle;\n",
       "    }\n",
       "\n",
       "    .dataframe tbody tr th {\n",
       "        vertical-align: top;\n",
       "    }\n",
       "\n",
       "    .dataframe thead th {\n",
       "        text-align: right;\n",
       "    }\n",
       "</style>\n",
       "<table border=\"1\" class=\"dataframe\">\n",
       "  <thead>\n",
       "    <tr style=\"text-align: right;\">\n",
       "      <th></th>\n",
       "      <th>sequence_id</th>\n",
       "      <th>sequence</th>\n",
       "      <th>Chrom</th>\n",
       "      <th>start</th>\n",
       "      <th>is_coding</th>\n",
       "      <th>Notes</th>\n",
       "      <th>Alignment</th>\n",
       "    </tr>\n",
       "  </thead>\n",
       "  <tbody>\n",
       "    <tr>\n",
       "      <th>0</th>\n",
       "      <td>A00111:356:HMHLCDSXX:1:1114:10330:17754</td>\n",
       "      <td>TTCTCGGTGTGCCATTGTGTGCCAACGCTTTCAGGCTGGGGGCACT...</td>\n",
       "      <td>NaN</td>\n",
       "      <td>NaN</td>\n",
       "      <td>True</td>\n",
       "      <td>NaN</td>\n",
       "      <td>NaN</td>\n",
       "    </tr>\n",
       "    <tr>\n",
       "      <th>1</th>\n",
       "      <td>A00111:356:HMHLCDSXX:1:1120:3703:32393</td>\n",
       "      <td>GTTAAAGCCTCCATGTAGTCATCCTGTGCATCAATGACATATATCA...</td>\n",
       "      <td>NC_033661.1</td>\n",
       "      <td>36523128.0</td>\n",
       "      <td>True</td>\n",
       "      <td>In a splice junction</td>\n",
       "      <td>NaN</td>\n",
       "    </tr>\n",
       "    <tr>\n",
       "      <th>2</th>\n",
       "      <td>A00111:356:HMHLCDSXX:1:1140:10059:21073</td>\n",
       "      <td>TCCTTTAAGTAAAGGACAGTTGTATTATTCAGCTTGATAATTGCCA...</td>\n",
       "      <td>NC_033661.1</td>\n",
       "      <td>36513997.0</td>\n",
       "      <td>True</td>\n",
       "      <td>Is spliced</td>\n",
       "      <td>NaN</td>\n",
       "    </tr>\n",
       "    <tr>\n",
       "      <th>3</th>\n",
       "      <td>A00111:356:HMHLCDSXX:1:1157:31910:28134</td>\n",
       "      <td>TCCTTTAAGTAAAGGACAGTTGTATTATTCAGCTTGATAATTGCCA...</td>\n",
       "      <td>NC_033661.1</td>\n",
       "      <td>36513997.0</td>\n",
       "      <td>True</td>\n",
       "      <td>Is spliced</td>\n",
       "      <td>NaN</td>\n",
       "    </tr>\n",
       "    <tr>\n",
       "      <th>4</th>\n",
       "      <td>A00111:356:HMHLCDSXX:1:2136:11198:13870</td>\n",
       "      <td>ATACAAGACACGTCAATCACAACATCAATCATGTCACAGCAAAGTT...</td>\n",
       "      <td>NC_033661.1</td>\n",
       "      <td>36518199.0</td>\n",
       "      <td>True</td>\n",
       "      <td>NaN</td>\n",
       "      <td>NaN</td>\n",
       "    </tr>\n",
       "  </tbody>\n",
       "</table>\n",
       "</div>"
      ],
      "text/plain": [
       "                               sequence_id  \\\n",
       "0  A00111:356:HMHLCDSXX:1:1114:10330:17754   \n",
       "1   A00111:356:HMHLCDSXX:1:1120:3703:32393   \n",
       "2  A00111:356:HMHLCDSXX:1:1140:10059:21073   \n",
       "3  A00111:356:HMHLCDSXX:1:1157:31910:28134   \n",
       "4  A00111:356:HMHLCDSXX:1:2136:11198:13870   \n",
       "\n",
       "                                            sequence        Chrom       start  \\\n",
       "0  TTCTCGGTGTGCCATTGTGTGCCAACGCTTTCAGGCTGGGGGCACT...          NaN         NaN   \n",
       "1  GTTAAAGCCTCCATGTAGTCATCCTGTGCATCAATGACATATATCA...  NC_033661.1  36523128.0   \n",
       "2  TCCTTTAAGTAAAGGACAGTTGTATTATTCAGCTTGATAATTGCCA...  NC_033661.1  36513997.0   \n",
       "3  TCCTTTAAGTAAAGGACAGTTGTATTATTCAGCTTGATAATTGCCA...  NC_033661.1  36513997.0   \n",
       "4  ATACAAGACACGTCAATCACAACATCAATCATGTCACAGCAAAGTT...  NC_033661.1  36518199.0   \n",
       "\n",
       "   is_coding                 Notes  Alignment  \n",
       "0       True                   NaN        NaN  \n",
       "1       True  In a splice junction        NaN  \n",
       "2       True            Is spliced        NaN  \n",
       "3       True            Is spliced        NaN  \n",
       "4       True                   NaN        NaN  "
      ]
     },
     "execution_count": 35,
     "metadata": {},
     "output_type": "execute_result"
    }
   ],
   "source": [
    "import pandas as pd\n",
    "\n",
    "df_r2 = pd.read_csv(\"B001498_B109060_A8_S8_R2_coding_ground_truth.csv\")\n",
    "df_r2 = df_r2.drop_duplicates(subset='sequence_id')\n",
    "print(df_r2.shape)\n",
    "df_r2.head()"
   ]
  },
  {
   "cell_type": "code",
   "execution_count": 36,
   "metadata": {
    "execution_event_id": "30efdf8b-6305-4551-9576-85f82309ab7c",
    "last_executed_text": "df_r1 = pd.read_csv(\"B001498_B109060_A8_S8_R1_coding_ground_truth.csv\")\ndf_r1 = df_r1.drop_duplicates(subset='sequence_id')\nprint(df_r1.shape)\ndf_r1.head()",
    "persistent_id": "52828309-24eb-4fa3-b2b0-e9bcc7e19539"
   },
   "outputs": [
    {
     "name": "stdout",
     "output_type": "stream",
     "text": [
      "(17, 7)\n"
     ]
    },
    {
     "data": {
      "text/html": [
       "<div>\n",
       "<style scoped>\n",
       "    .dataframe tbody tr th:only-of-type {\n",
       "        vertical-align: middle;\n",
       "    }\n",
       "\n",
       "    .dataframe tbody tr th {\n",
       "        vertical-align: top;\n",
       "    }\n",
       "\n",
       "    .dataframe thead th {\n",
       "        text-align: right;\n",
       "    }\n",
       "</style>\n",
       "<table border=\"1\" class=\"dataframe\">\n",
       "  <thead>\n",
       "    <tr style=\"text-align: right;\">\n",
       "      <th></th>\n",
       "      <th>sequence_id</th>\n",
       "      <th>sequence</th>\n",
       "      <th>chrom</th>\n",
       "      <th>start</th>\n",
       "      <th>is_coding</th>\n",
       "      <th>Notes</th>\n",
       "      <th>Alignment</th>\n",
       "    </tr>\n",
       "  </thead>\n",
       "  <tbody>\n",
       "    <tr>\n",
       "      <th>0</th>\n",
       "      <td>A00111:356:HMHLCDSXX:1:1114:10330:17754</td>\n",
       "      <td>GATATAAAGATATTTAATAGGTTTTCCAAGGTTGGCAGTTGTGGGA...</td>\n",
       "      <td>NC_033661.1</td>\n",
       "      <td>36519392</td>\n",
       "      <td>True</td>\n",
       "      <td>NaN</td>\n",
       "      <td>NaN</td>\n",
       "    </tr>\n",
       "    <tr>\n",
       "      <th>1</th>\n",
       "      <td>A00111:356:HMHLCDSXX:1:1120:3703:32393</td>\n",
       "      <td>TGGAGCTGTCAGCGCCCCCCGGGCCACAGCCTCGTACTGCAGGGAC...</td>\n",
       "      <td>NC_033661.1</td>\n",
       "      <td>36526348</td>\n",
       "      <td>False</td>\n",
       "      <td>Overlaps start codon</td>\n",
       "      <td>NaN</td>\n",
       "    </tr>\n",
       "    <tr>\n",
       "      <th>2</th>\n",
       "      <td>A00111:356:HMHLCDSXX:1:1140:10059:21073</td>\n",
       "      <td>CTCATCTCTAGTGGGACAGGCACCAGAGTCCCACAAGCAGCAGTTC...</td>\n",
       "      <td>NC_033661.1</td>\n",
       "      <td>36508568</td>\n",
       "      <td>False</td>\n",
       "      <td>NaN</td>\n",
       "      <td>NaN</td>\n",
       "    </tr>\n",
       "    <tr>\n",
       "      <th>3</th>\n",
       "      <td>A00111:356:HMHLCDSXX:1:1157:31910:28134</td>\n",
       "      <td>CGGCATCCGACCCTGGAGTGAAGAGTAAGCTGGCACGGAGTCCCGA...</td>\n",
       "      <td>NC_033661.1</td>\n",
       "      <td>36508631</td>\n",
       "      <td>False</td>\n",
       "      <td>overlaps stop codon</td>\n",
       "      <td>NaN</td>\n",
       "    </tr>\n",
       "    <tr>\n",
       "      <th>4</th>\n",
       "      <td>A00111:356:HMHLCDSXX:1:2136:11198:13870</td>\n",
       "      <td>GTCTTTATAAATCTTGTTGGTACTTTCCAAAAAGAGGGTCTCATTG...</td>\n",
       "      <td>NC_033661.1</td>\n",
       "      <td>36524286</td>\n",
       "      <td>True</td>\n",
       "      <td>Spliced</td>\n",
       "      <td>NaN</td>\n",
       "    </tr>\n",
       "  </tbody>\n",
       "</table>\n",
       "</div>"
      ],
      "text/plain": [
       "                               sequence_id  \\\n",
       "0  A00111:356:HMHLCDSXX:1:1114:10330:17754   \n",
       "1   A00111:356:HMHLCDSXX:1:1120:3703:32393   \n",
       "2  A00111:356:HMHLCDSXX:1:1140:10059:21073   \n",
       "3  A00111:356:HMHLCDSXX:1:1157:31910:28134   \n",
       "4  A00111:356:HMHLCDSXX:1:2136:11198:13870   \n",
       "\n",
       "                                            sequence        chrom     start  \\\n",
       "0  GATATAAAGATATTTAATAGGTTTTCCAAGGTTGGCAGTTGTGGGA...  NC_033661.1  36519392   \n",
       "1  TGGAGCTGTCAGCGCCCCCCGGGCCACAGCCTCGTACTGCAGGGAC...  NC_033661.1  36526348   \n",
       "2  CTCATCTCTAGTGGGACAGGCACCAGAGTCCCACAAGCAGCAGTTC...  NC_033661.1  36508568   \n",
       "3  CGGCATCCGACCCTGGAGTGAAGAGTAAGCTGGCACGGAGTCCCGA...  NC_033661.1  36508631   \n",
       "4  GTCTTTATAAATCTTGTTGGTACTTTCCAAAAAGAGGGTCTCATTG...  NC_033661.1  36524286   \n",
       "\n",
       "   is_coding                 Notes  Alignment  \n",
       "0       True                   NaN        NaN  \n",
       "1      False  Overlaps start codon        NaN  \n",
       "2      False                   NaN        NaN  \n",
       "3      False   overlaps stop codon        NaN  \n",
       "4       True               Spliced        NaN  "
      ]
     },
     "execution_count": 36,
     "metadata": {},
     "output_type": "execute_result"
    }
   ],
   "source": [
    "df_r1 = pd.read_csv(\"B001498_B109060_A8_S8_R1_coding_ground_truth.csv\")\n",
    "df_r1 = df_r1.drop_duplicates(subset='sequence_id')\n",
    "print(df_r1.shape)\n",
    "df_r1.head()"
   ]
  },
  {
   "cell_type": "code",
   "execution_count": 29,
   "metadata": {
    "execution_event_id": "60107a02-47b3-4a1c-a90a-8cb4e6f9edc1",
    "last_executed_text": "! /home/olga/miniconda3/envs/kmer-hashing/bin/khtools partition --help",
    "persistent_id": "a0f1a12c-6ae8-49d2-96ba-31993118ca1b"
   },
   "outputs": [
    {
     "name": "stdout",
     "output_type": "stream",
     "text": [
      "Usage: khtools partition [OPTIONS] PEPTIDES [READS]...\n",
      "\n",
      "  Parameters\n",
      "  ----------\n",
      "  reads : str\n",
      "      Sequence file of reads to filter\n",
      "  peptides : str\n",
      "      Sequence file of peptides\n",
      "  peptide_ksize : int\n",
      "      Number of characters in amino acid words\n",
      "  long_reads\n",
      "  verbose\n",
      "\n",
      "  Returns\n",
      "  -------\n",
      "\n",
      "Options:\n",
      "  --peptide-ksize INTEGER      K-mer size of the peptide sequence to use.\n",
      "                               Default: 7\n",
      "  --save-peptide-bloom-filter  If specified, save the peptide bloom filter.\n",
      "                               Default filename is the name of the\n",
      "  --peptides-are-bloom-filter  Peptide file is already a bloom filter\n",
      "  --jaccard-threshold FLOAT    Minimum fraction of peptide k-mers from read in\n",
      "                               the peptide database for this read to be called\n",
      "                               a 'coding read'. Default: 0.9\n",
      "  --molecule TEXT              The type of amino acid encoding to use. Default\n",
      "                               is 'protein', but 'dayhoff' or 'hydrophobic-\n",
      "                               polar' can be used\n",
      "  --csv                        Name of csv file to write with all sequence\n",
      "                               reads and their coding scores\n",
      "  --long-reads                 If set, then only considers reading frames\n",
      "                               starting with start codon (ATG) and ending in a\n",
      "                               stop codon (TAG, TAA, TGA)\n",
      "  --verbose                    Print more output\n",
      "  --debug                      Print developer debugger output, including\n",
      "                               warnings\n",
      "  -h, --help                   Show this message and exit.\n"
     ]
    }
   ],
   "source": [
    "! /home/olga/miniconda3/envs/kmer-hashing/bin/khtools partition --help"
   ]
  },
  {
   "cell_type": "code",
   "execution_count": 37,
   "metadata": {
    "execution_event_id": "cdd277fe-9f1c-467a-88eb-3527af115984",
    "last_executed_text": "reads = 'B001498_B109060_A8_S8_R1_001_ground_truth.fastp_trimmed.fastq B001498_B109060_A8_S8_R2_001_ground_truth.fastp_trimmed.fastq'\npeptides = f\"{folder}/Homo_sapiens.GRCh38.pep.all.fa.gz'\npartition = '/home/olga/miniconda3/envs/kmer-hashing/bin/khtools partition'",
    "persistent_id": "69c8e05d-50d6-4acc-858d-6273693952b5"
   },
   "outputs": [
    {
     "name": "stdout",
     "output_type": "stream",
     "text": [
      "ksize: 4, molecule: protein\n",
      "Creating peptide bloom filter with file: /home/olga/data_sm/kmer-hashing/classify_coding_vs_noncoding//Homo_sapiens.GRCh38.pep.all.fa.gz\n",
      "Using ksize: 4 and molecule: protein ...\n",
      "\tDone!\n",
      "Writing Noncoding nucleotides to B001498_B109060_A8_S8_R1_001_ground_truth.fastp_trimmed__Homo_sapiens.GRCh38.pep.all.fa.gz__molecule-protein__ksize-4.noncoding_nucleotides.fasta\n",
      "Writing all valid protein-coding translation frames to B001498_B109060_A8_S8_R1_001_ground_truth.fastp_trimmed__Homo_sapiens.GRCh38.pep.all.fa.gz__molecule-protein__ksize-4.coding_peptides.fasta\n",
      "Writing low complexity (low entropy) nucleotides to B001498_B109060_A8_S8_R1_001_ground_truth.fastp_trimmed__Homo_sapiens.GRCh38.pep.all.fa.gz__molecule-protein__ksize-4.low_complexity_nucleotides.fasta\n",
      "Writing low complexity (low entropy) peptides to B001498_B109060_A8_S8_R1_001_ground_truth.fastp_trimmed__Homo_sapiens.GRCh38.pep.all.fa.gz__molecule-protein__ksize-4.low_complexity_peptides.fasta\n",
      "17it [00:00, 1043.27it/s]\n",
      "Writing coding scores of reads to B001498_B109060_A8_S8_R1_001_ground_truth.fastp_trimmed__Homo_sapiens.GRCh38.pep.all.fa.gz__molecule-protein__ksize-4__coding_scores.csv\n",
      "Writing Noncoding nucleotides to B001498_B109060_A8_S8_R2_001_ground_truth.fastp_trimmed__Homo_sapiens.GRCh38.pep.all.fa.gz__molecule-protein__ksize-4.noncoding_nucleotides.fasta\n",
      "Writing all valid protein-coding translation frames to B001498_B109060_A8_S8_R2_001_ground_truth.fastp_trimmed__Homo_sapiens.GRCh38.pep.all.fa.gz__molecule-protein__ksize-4.coding_peptides.fasta\n",
      "Writing low complexity (low entropy) nucleotides to B001498_B109060_A8_S8_R2_001_ground_truth.fastp_trimmed__Homo_sapiens.GRCh38.pep.all.fa.gz__molecule-protein__ksize-4.low_complexity_nucleotides.fasta\n",
      "Writing low complexity (low entropy) peptides to B001498_B109060_A8_S8_R2_001_ground_truth.fastp_trimmed__Homo_sapiens.GRCh38.pep.all.fa.gz__molecule-protein__ksize-4.low_complexity_peptides.fasta\n",
      "17it [00:00, 998.88it/s]\n",
      "Writing coding scores of reads to B001498_B109060_A8_S8_R2_001_ground_truth.fastp_trimmed__Homo_sapiens.GRCh38.pep.all.fa.gz__molecule-protein__ksize-4__coding_scores.csv\n",
      "42.53user 8.62system 0:45.50elapsed 112%CPU (0avgtext+0avgdata 5055032maxresident)k\n",
      "0inputs+56outputs (0major+2093789minor)pagefaults 0swaps\n",
      "ksize: 4, molecule: dayhoff\n",
      "Creating peptide bloom filter with file: /home/olga/data_sm/kmer-hashing/classify_coding_vs_noncoding//Homo_sapiens.GRCh38.pep.all.fa.gz\n",
      "Using ksize: 4 and molecule: dayhoff ...\n",
      "\tDone!\n",
      "Writing Noncoding nucleotides to B001498_B109060_A8_S8_R1_001_ground_truth.fastp_trimmed__Homo_sapiens.GRCh38.pep.all.fa.gz__molecule-dayhoff__ksize-4.noncoding_nucleotides.fasta\n",
      "Writing all valid protein-coding translation frames to B001498_B109060_A8_S8_R1_001_ground_truth.fastp_trimmed__Homo_sapiens.GRCh38.pep.all.fa.gz__molecule-dayhoff__ksize-4.coding_peptides.fasta\n",
      "Writing low complexity (low entropy) nucleotides to B001498_B109060_A8_S8_R1_001_ground_truth.fastp_trimmed__Homo_sapiens.GRCh38.pep.all.fa.gz__molecule-dayhoff__ksize-4.low_complexity_nucleotides.fasta\n",
      "Writing low complexity (low entropy) peptides to B001498_B109060_A8_S8_R1_001_ground_truth.fastp_trimmed__Homo_sapiens.GRCh38.pep.all.fa.gz__molecule-dayhoff__ksize-4.low_complexity_peptides.fasta\n",
      "17it [00:00, 1300.20it/s]\n",
      "Writing coding scores of reads to B001498_B109060_A8_S8_R1_001_ground_truth.fastp_trimmed__Homo_sapiens.GRCh38.pep.all.fa.gz__molecule-dayhoff__ksize-4__coding_scores.csv\n",
      "Writing Noncoding nucleotides to B001498_B109060_A8_S8_R2_001_ground_truth.fastp_trimmed__Homo_sapiens.GRCh38.pep.all.fa.gz__molecule-dayhoff__ksize-4.noncoding_nucleotides.fasta\n",
      "Writing all valid protein-coding translation frames to B001498_B109060_A8_S8_R2_001_ground_truth.fastp_trimmed__Homo_sapiens.GRCh38.pep.all.fa.gz__molecule-dayhoff__ksize-4.coding_peptides.fasta\n",
      "Writing low complexity (low entropy) nucleotides to B001498_B109060_A8_S8_R2_001_ground_truth.fastp_trimmed__Homo_sapiens.GRCh38.pep.all.fa.gz__molecule-dayhoff__ksize-4.low_complexity_nucleotides.fasta\n",
      "Writing low complexity (low entropy) peptides to B001498_B109060_A8_S8_R2_001_ground_truth.fastp_trimmed__Homo_sapiens.GRCh38.pep.all.fa.gz__molecule-dayhoff__ksize-4.low_complexity_peptides.fasta\n",
      "17it [00:00, 874.55it/s]\n",
      "Writing coding scores of reads to B001498_B109060_A8_S8_R2_001_ground_truth.fastp_trimmed__Homo_sapiens.GRCh38.pep.all.fa.gz__molecule-dayhoff__ksize-4__coding_scores.csv\n",
      "26.84user 7.24system 0:27.59elapsed 123%CPU (0avgtext+0avgdata 5050276maxresident)k\n",
      "0inputs+56outputs (0major+1323848minor)pagefaults 0swaps\n",
      "ksize: 5, molecule: protein\n",
      "Creating peptide bloom filter with file: /home/olga/data_sm/kmer-hashing/classify_coding_vs_noncoding//Homo_sapiens.GRCh38.pep.all.fa.gz\n",
      "Using ksize: 5 and molecule: protein ...\n",
      "\tDone!\n",
      "Writing Noncoding nucleotides to B001498_B109060_A8_S8_R1_001_ground_truth.fastp_trimmed__Homo_sapiens.GRCh38.pep.all.fa.gz__molecule-protein__ksize-5.noncoding_nucleotides.fasta\n",
      "Writing all valid protein-coding translation frames to B001498_B109060_A8_S8_R1_001_ground_truth.fastp_trimmed__Homo_sapiens.GRCh38.pep.all.fa.gz__molecule-protein__ksize-5.coding_peptides.fasta\n",
      "Writing low complexity (low entropy) nucleotides to B001498_B109060_A8_S8_R1_001_ground_truth.fastp_trimmed__Homo_sapiens.GRCh38.pep.all.fa.gz__molecule-protein__ksize-5.low_complexity_nucleotides.fasta\n",
      "Writing low complexity (low entropy) peptides to B001498_B109060_A8_S8_R1_001_ground_truth.fastp_trimmed__Homo_sapiens.GRCh38.pep.all.fa.gz__molecule-protein__ksize-5.low_complexity_peptides.fasta\n",
      "17it [00:00, 1220.28it/s]\n",
      "Writing coding scores of reads to B001498_B109060_A8_S8_R1_001_ground_truth.fastp_trimmed__Homo_sapiens.GRCh38.pep.all.fa.gz__molecule-protein__ksize-5__coding_scores.csv\n",
      "Writing Noncoding nucleotides to B001498_B109060_A8_S8_R2_001_ground_truth.fastp_trimmed__Homo_sapiens.GRCh38.pep.all.fa.gz__molecule-protein__ksize-5.noncoding_nucleotides.fasta\n",
      "Writing all valid protein-coding translation frames to B001498_B109060_A8_S8_R2_001_ground_truth.fastp_trimmed__Homo_sapiens.GRCh38.pep.all.fa.gz__molecule-protein__ksize-5.coding_peptides.fasta\n",
      "Writing low complexity (low entropy) nucleotides to B001498_B109060_A8_S8_R2_001_ground_truth.fastp_trimmed__Homo_sapiens.GRCh38.pep.all.fa.gz__molecule-protein__ksize-5.low_complexity_nucleotides.fasta\n",
      "Writing low complexity (low entropy) peptides to B001498_B109060_A8_S8_R2_001_ground_truth.fastp_trimmed__Homo_sapiens.GRCh38.pep.all.fa.gz__molecule-protein__ksize-5.low_complexity_peptides.fasta\n",
      "17it [00:00, 1056.95it/s]\n",
      "Writing coding scores of reads to B001498_B109060_A8_S8_R2_001_ground_truth.fastp_trimmed__Homo_sapiens.GRCh38.pep.all.fa.gz__molecule-protein__ksize-5__coding_scores.csv\n",
      "42.27user 8.37system 0:45.82elapsed 110%CPU (0avgtext+0avgdata 5058292maxresident)k\n",
      "0inputs+48outputs (0major+3134901minor)pagefaults 0swaps\n",
      "ksize: 5, molecule: dayhoff\n",
      "Creating peptide bloom filter with file: /home/olga/data_sm/kmer-hashing/classify_coding_vs_noncoding//Homo_sapiens.GRCh38.pep.all.fa.gz\n",
      "Using ksize: 5 and molecule: dayhoff ...\n",
      "\tDone!\n",
      "Writing Noncoding nucleotides to B001498_B109060_A8_S8_R1_001_ground_truth.fastp_trimmed__Homo_sapiens.GRCh38.pep.all.fa.gz__molecule-dayhoff__ksize-5.noncoding_nucleotides.fasta\n",
      "Writing all valid protein-coding translation frames to B001498_B109060_A8_S8_R1_001_ground_truth.fastp_trimmed__Homo_sapiens.GRCh38.pep.all.fa.gz__molecule-dayhoff__ksize-5.coding_peptides.fasta\n",
      "Writing low complexity (low entropy) nucleotides to B001498_B109060_A8_S8_R1_001_ground_truth.fastp_trimmed__Homo_sapiens.GRCh38.pep.all.fa.gz__molecule-dayhoff__ksize-5.low_complexity_nucleotides.fasta\n",
      "Writing low complexity (low entropy) peptides to B001498_B109060_A8_S8_R1_001_ground_truth.fastp_trimmed__Homo_sapiens.GRCh38.pep.all.fa.gz__molecule-dayhoff__ksize-5.low_complexity_peptides.fasta\n",
      "17it [00:00, 942.93it/s]\n",
      "Writing coding scores of reads to B001498_B109060_A8_S8_R1_001_ground_truth.fastp_trimmed__Homo_sapiens.GRCh38.pep.all.fa.gz__molecule-dayhoff__ksize-5__coding_scores.csv\n",
      "Writing Noncoding nucleotides to B001498_B109060_A8_S8_R2_001_ground_truth.fastp_trimmed__Homo_sapiens.GRCh38.pep.all.fa.gz__molecule-dayhoff__ksize-5.noncoding_nucleotides.fasta\n",
      "Writing all valid protein-coding translation frames to B001498_B109060_A8_S8_R2_001_ground_truth.fastp_trimmed__Homo_sapiens.GRCh38.pep.all.fa.gz__molecule-dayhoff__ksize-5.coding_peptides.fasta\n",
      "Writing low complexity (low entropy) nucleotides to B001498_B109060_A8_S8_R2_001_ground_truth.fastp_trimmed__Homo_sapiens.GRCh38.pep.all.fa.gz__molecule-dayhoff__ksize-5.low_complexity_nucleotides.fasta\n",
      "Writing low complexity (low entropy) peptides to B001498_B109060_A8_S8_R2_001_ground_truth.fastp_trimmed__Homo_sapiens.GRCh38.pep.all.fa.gz__molecule-dayhoff__ksize-5.low_complexity_peptides.fasta\n",
      "17it [00:00, 1434.84it/s]\n",
      "Writing coding scores of reads to B001498_B109060_A8_S8_R2_001_ground_truth.fastp_trimmed__Homo_sapiens.GRCh38.pep.all.fa.gz__molecule-dayhoff__ksize-5__coding_scores.csv\n",
      "33.10user 7.98system 0:33.78elapsed 121%CPU (0avgtext+0avgdata 5050340maxresident)k\n",
      "0inputs+56outputs (0major+1396009minor)pagefaults 0swaps\n",
      "ksize: 6, molecule: protein\n",
      "Creating peptide bloom filter with file: /home/olga/data_sm/kmer-hashing/classify_coding_vs_noncoding//Homo_sapiens.GRCh38.pep.all.fa.gz\n",
      "Using ksize: 6 and molecule: protein ...\n",
      "\tDone!\n",
      "Writing Noncoding nucleotides to B001498_B109060_A8_S8_R1_001_ground_truth.fastp_trimmed__Homo_sapiens.GRCh38.pep.all.fa.gz__molecule-protein__ksize-6.noncoding_nucleotides.fasta\n",
      "Writing all valid protein-coding translation frames to B001498_B109060_A8_S8_R1_001_ground_truth.fastp_trimmed__Homo_sapiens.GRCh38.pep.all.fa.gz__molecule-protein__ksize-6.coding_peptides.fasta\n",
      "Writing low complexity (low entropy) nucleotides to B001498_B109060_A8_S8_R1_001_ground_truth.fastp_trimmed__Homo_sapiens.GRCh38.pep.all.fa.gz__molecule-protein__ksize-6.low_complexity_nucleotides.fasta\n",
      "Writing low complexity (low entropy) peptides to B001498_B109060_A8_S8_R1_001_ground_truth.fastp_trimmed__Homo_sapiens.GRCh38.pep.all.fa.gz__molecule-protein__ksize-6.low_complexity_peptides.fasta\n",
      "17it [00:00, 882.41it/s]\n",
      "Writing coding scores of reads to B001498_B109060_A8_S8_R1_001_ground_truth.fastp_trimmed__Homo_sapiens.GRCh38.pep.all.fa.gz__molecule-protein__ksize-6__coding_scores.csv\n",
      "Writing Noncoding nucleotides to B001498_B109060_A8_S8_R2_001_ground_truth.fastp_trimmed__Homo_sapiens.GRCh38.pep.all.fa.gz__molecule-protein__ksize-6.noncoding_nucleotides.fasta\n",
      "Writing all valid protein-coding translation frames to B001498_B109060_A8_S8_R2_001_ground_truth.fastp_trimmed__Homo_sapiens.GRCh38.pep.all.fa.gz__molecule-protein__ksize-6.coding_peptides.fasta\n",
      "Writing low complexity (low entropy) nucleotides to B001498_B109060_A8_S8_R2_001_ground_truth.fastp_trimmed__Homo_sapiens.GRCh38.pep.all.fa.gz__molecule-protein__ksize-6.low_complexity_nucleotides.fasta\n",
      "Writing low complexity (low entropy) peptides to B001498_B109060_A8_S8_R2_001_ground_truth.fastp_trimmed__Homo_sapiens.GRCh38.pep.all.fa.gz__molecule-protein__ksize-6.low_complexity_peptides.fasta\n",
      "17it [00:00, 1150.05it/s]\n",
      "Writing coding scores of reads to B001498_B109060_A8_S8_R2_001_ground_truth.fastp_trimmed__Homo_sapiens.GRCh38.pep.all.fa.gz__molecule-protein__ksize-6__coding_scores.csv\n",
      "40.50user 8.54system 0:43.66elapsed 112%CPU (0avgtext+0avgdata 5058004maxresident)k\n",
      "0inputs+48outputs (0major+3106068minor)pagefaults 0swaps\n",
      "ksize: 6, molecule: dayhoff\n",
      "Creating peptide bloom filter with file: /home/olga/data_sm/kmer-hashing/classify_coding_vs_noncoding//Homo_sapiens.GRCh38.pep.all.fa.gz\n",
      "Using ksize: 6 and molecule: dayhoff ...\n",
      "\tDone!\n",
      "Writing Noncoding nucleotides to B001498_B109060_A8_S8_R1_001_ground_truth.fastp_trimmed__Homo_sapiens.GRCh38.pep.all.fa.gz__molecule-dayhoff__ksize-6.noncoding_nucleotides.fasta\n",
      "Writing all valid protein-coding translation frames to B001498_B109060_A8_S8_R1_001_ground_truth.fastp_trimmed__Homo_sapiens.GRCh38.pep.all.fa.gz__molecule-dayhoff__ksize-6.coding_peptides.fasta\n",
      "Writing low complexity (low entropy) nucleotides to B001498_B109060_A8_S8_R1_001_ground_truth.fastp_trimmed__Homo_sapiens.GRCh38.pep.all.fa.gz__molecule-dayhoff__ksize-6.low_complexity_nucleotides.fasta\n",
      "Writing low complexity (low entropy) peptides to B001498_B109060_A8_S8_R1_001_ground_truth.fastp_trimmed__Homo_sapiens.GRCh38.pep.all.fa.gz__molecule-dayhoff__ksize-6.low_complexity_peptides.fasta\n",
      "17it [00:00, 1124.73it/s]\n",
      "Writing coding scores of reads to B001498_B109060_A8_S8_R1_001_ground_truth.fastp_trimmed__Homo_sapiens.GRCh38.pep.all.fa.gz__molecule-dayhoff__ksize-6__coding_scores.csv\n",
      "Writing Noncoding nucleotides to B001498_B109060_A8_S8_R2_001_ground_truth.fastp_trimmed__Homo_sapiens.GRCh38.pep.all.fa.gz__molecule-dayhoff__ksize-6.noncoding_nucleotides.fasta\n",
      "Writing all valid protein-coding translation frames to B001498_B109060_A8_S8_R2_001_ground_truth.fastp_trimmed__Homo_sapiens.GRCh38.pep.all.fa.gz__molecule-dayhoff__ksize-6.coding_peptides.fasta\n",
      "Writing low complexity (low entropy) nucleotides to B001498_B109060_A8_S8_R2_001_ground_truth.fastp_trimmed__Homo_sapiens.GRCh38.pep.all.fa.gz__molecule-dayhoff__ksize-6.low_complexity_nucleotides.fasta\n",
      "Writing low complexity (low entropy) peptides to B001498_B109060_A8_S8_R2_001_ground_truth.fastp_trimmed__Homo_sapiens.GRCh38.pep.all.fa.gz__molecule-dayhoff__ksize-6.low_complexity_peptides.fasta\n",
      "17it [00:00, 1200.65it/s]\n",
      "Writing coding scores of reads to B001498_B109060_A8_S8_R2_001_ground_truth.fastp_trimmed__Homo_sapiens.GRCh38.pep.all.fa.gz__molecule-dayhoff__ksize-6__coding_scores.csv\n",
      "36.75user 7.20system 0:37.88elapsed 116%CPU (0avgtext+0avgdata 5052268maxresident)k\n",
      "0inputs+56outputs (0major+1627698minor)pagefaults 0swaps\n",
      "ksize: 7, molecule: protein\n",
      "Creating peptide bloom filter with file: /home/olga/data_sm/kmer-hashing/classify_coding_vs_noncoding//Homo_sapiens.GRCh38.pep.all.fa.gz\n",
      "Using ksize: 7 and molecule: protein ...\n",
      "\tDone!\n",
      "Writing Noncoding nucleotides to B001498_B109060_A8_S8_R1_001_ground_truth.fastp_trimmed__Homo_sapiens.GRCh38.pep.all.fa.gz__molecule-protein__ksize-7.noncoding_nucleotides.fasta\n",
      "Writing all valid protein-coding translation frames to B001498_B109060_A8_S8_R1_001_ground_truth.fastp_trimmed__Homo_sapiens.GRCh38.pep.all.fa.gz__molecule-protein__ksize-7.coding_peptides.fasta\n",
      "Writing low complexity (low entropy) nucleotides to B001498_B109060_A8_S8_R1_001_ground_truth.fastp_trimmed__Homo_sapiens.GRCh38.pep.all.fa.gz__molecule-protein__ksize-7.low_complexity_nucleotides.fasta\n",
      "Writing low complexity (low entropy) peptides to B001498_B109060_A8_S8_R1_001_ground_truth.fastp_trimmed__Homo_sapiens.GRCh38.pep.all.fa.gz__molecule-protein__ksize-7.low_complexity_peptides.fasta\n",
      "17it [00:00, 1052.03it/s]\n",
      "Writing coding scores of reads to B001498_B109060_A8_S8_R1_001_ground_truth.fastp_trimmed__Homo_sapiens.GRCh38.pep.all.fa.gz__molecule-protein__ksize-7__coding_scores.csv\n",
      "Writing Noncoding nucleotides to B001498_B109060_A8_S8_R2_001_ground_truth.fastp_trimmed__Homo_sapiens.GRCh38.pep.all.fa.gz__molecule-protein__ksize-7.noncoding_nucleotides.fasta\n",
      "Writing all valid protein-coding translation frames to B001498_B109060_A8_S8_R2_001_ground_truth.fastp_trimmed__Homo_sapiens.GRCh38.pep.all.fa.gz__molecule-protein__ksize-7.coding_peptides.fasta\n",
      "Writing low complexity (low entropy) nucleotides to B001498_B109060_A8_S8_R2_001_ground_truth.fastp_trimmed__Homo_sapiens.GRCh38.pep.all.fa.gz__molecule-protein__ksize-7.low_complexity_nucleotides.fasta\n",
      "Writing low complexity (low entropy) peptides to B001498_B109060_A8_S8_R2_001_ground_truth.fastp_trimmed__Homo_sapiens.GRCh38.pep.all.fa.gz__molecule-protein__ksize-7.low_complexity_peptides.fasta\n",
      "17it [00:00, 975.13it/s]\n",
      "Writing coding scores of reads to B001498_B109060_A8_S8_R2_001_ground_truth.fastp_trimmed__Homo_sapiens.GRCh38.pep.all.fa.gz__molecule-protein__ksize-7__coding_scores.csv\n",
      "44.63user 11.83system 0:49.91elapsed 113%CPU (0avgtext+0avgdata 5058584maxresident)k\n",
      "0inputs+48outputs (0major+3302040minor)pagefaults 0swaps\n",
      "ksize: 7, molecule: dayhoff\n",
      "Creating peptide bloom filter with file: /home/olga/data_sm/kmer-hashing/classify_coding_vs_noncoding//Homo_sapiens.GRCh38.pep.all.fa.gz\n",
      "Using ksize: 7 and molecule: dayhoff ...\n",
      "\tDone!\n",
      "Writing Noncoding nucleotides to B001498_B109060_A8_S8_R1_001_ground_truth.fastp_trimmed__Homo_sapiens.GRCh38.pep.all.fa.gz__molecule-dayhoff__ksize-7.noncoding_nucleotides.fasta\n",
      "Writing all valid protein-coding translation frames to B001498_B109060_A8_S8_R1_001_ground_truth.fastp_trimmed__Homo_sapiens.GRCh38.pep.all.fa.gz__molecule-dayhoff__ksize-7.coding_peptides.fasta\n",
      "Writing low complexity (low entropy) nucleotides to B001498_B109060_A8_S8_R1_001_ground_truth.fastp_trimmed__Homo_sapiens.GRCh38.pep.all.fa.gz__molecule-dayhoff__ksize-7.low_complexity_nucleotides.fasta\n",
      "Writing low complexity (low entropy) peptides to B001498_B109060_A8_S8_R1_001_ground_truth.fastp_trimmed__Homo_sapiens.GRCh38.pep.all.fa.gz__molecule-dayhoff__ksize-7.low_complexity_peptides.fasta\n",
      "17it [00:00, 934.66it/s]\n",
      "Writing coding scores of reads to B001498_B109060_A8_S8_R1_001_ground_truth.fastp_trimmed__Homo_sapiens.GRCh38.pep.all.fa.gz__molecule-dayhoff__ksize-7__coding_scores.csv\n",
      "Writing Noncoding nucleotides to B001498_B109060_A8_S8_R2_001_ground_truth.fastp_trimmed__Homo_sapiens.GRCh38.pep.all.fa.gz__molecule-dayhoff__ksize-7.noncoding_nucleotides.fasta\n",
      "Writing all valid protein-coding translation frames to B001498_B109060_A8_S8_R2_001_ground_truth.fastp_trimmed__Homo_sapiens.GRCh38.pep.all.fa.gz__molecule-dayhoff__ksize-7.coding_peptides.fasta\n",
      "Writing low complexity (low entropy) nucleotides to B001498_B109060_A8_S8_R2_001_ground_truth.fastp_trimmed__Homo_sapiens.GRCh38.pep.all.fa.gz__molecule-dayhoff__ksize-7.low_complexity_nucleotides.fasta\n",
      "Writing low complexity (low entropy) peptides to B001498_B109060_A8_S8_R2_001_ground_truth.fastp_trimmed__Homo_sapiens.GRCh38.pep.all.fa.gz__molecule-dayhoff__ksize-7.low_complexity_peptides.fasta\n",
      "17it [00:00, 1401.07it/s]\n",
      "Writing coding scores of reads to B001498_B109060_A8_S8_R2_001_ground_truth.fastp_trimmed__Homo_sapiens.GRCh38.pep.all.fa.gz__molecule-dayhoff__ksize-7__coding_scores.csv\n",
      "41.02user 7.64system 0:43.37elapsed 112%CPU (0avgtext+0avgdata 5053448maxresident)k\n",
      "0inputs+56outputs (0major+2503535minor)pagefaults 0swaps\n",
      "ksize: 8, molecule: protein\n",
      "Creating peptide bloom filter with file: /home/olga/data_sm/kmer-hashing/classify_coding_vs_noncoding//Homo_sapiens.GRCh38.pep.all.fa.gz\n",
      "Using ksize: 8 and molecule: protein ...\n",
      "\tDone!\n",
      "Writing Noncoding nucleotides to B001498_B109060_A8_S8_R1_001_ground_truth.fastp_trimmed__Homo_sapiens.GRCh38.pep.all.fa.gz__molecule-protein__ksize-8.noncoding_nucleotides.fasta\n",
      "Writing all valid protein-coding translation frames to B001498_B109060_A8_S8_R1_001_ground_truth.fastp_trimmed__Homo_sapiens.GRCh38.pep.all.fa.gz__molecule-protein__ksize-8.coding_peptides.fasta\n",
      "Writing low complexity (low entropy) nucleotides to B001498_B109060_A8_S8_R1_001_ground_truth.fastp_trimmed__Homo_sapiens.GRCh38.pep.all.fa.gz__molecule-protein__ksize-8.low_complexity_nucleotides.fasta\n",
      "Writing low complexity (low entropy) peptides to B001498_B109060_A8_S8_R1_001_ground_truth.fastp_trimmed__Homo_sapiens.GRCh38.pep.all.fa.gz__molecule-protein__ksize-8.low_complexity_peptides.fasta\n",
      "17it [00:00, 926.16it/s]\n",
      "Writing coding scores of reads to B001498_B109060_A8_S8_R1_001_ground_truth.fastp_trimmed__Homo_sapiens.GRCh38.pep.all.fa.gz__molecule-protein__ksize-8__coding_scores.csv\n",
      "Writing Noncoding nucleotides to B001498_B109060_A8_S8_R2_001_ground_truth.fastp_trimmed__Homo_sapiens.GRCh38.pep.all.fa.gz__molecule-protein__ksize-8.noncoding_nucleotides.fasta\n",
      "Writing all valid protein-coding translation frames to B001498_B109060_A8_S8_R2_001_ground_truth.fastp_trimmed__Homo_sapiens.GRCh38.pep.all.fa.gz__molecule-protein__ksize-8.coding_peptides.fasta\n",
      "Writing low complexity (low entropy) nucleotides to B001498_B109060_A8_S8_R2_001_ground_truth.fastp_trimmed__Homo_sapiens.GRCh38.pep.all.fa.gz__molecule-protein__ksize-8.low_complexity_nucleotides.fasta\n",
      "Writing low complexity (low entropy) peptides to B001498_B109060_A8_S8_R2_001_ground_truth.fastp_trimmed__Homo_sapiens.GRCh38.pep.all.fa.gz__molecule-protein__ksize-8.low_complexity_peptides.fasta\n",
      "17it [00:00, 1012.64it/s]\n",
      "Writing coding scores of reads to B001498_B109060_A8_S8_R2_001_ground_truth.fastp_trimmed__Homo_sapiens.GRCh38.pep.all.fa.gz__molecule-protein__ksize-8__coding_scores.csv\n",
      "39.59user 7.47system 0:41.82elapsed 112%CPU (0avgtext+0avgdata 5059196maxresident)k\n",
      "0inputs+48outputs (0major+3442327minor)pagefaults 0swaps\n",
      "ksize: 8, molecule: dayhoff\n",
      "Creating peptide bloom filter with file: /home/olga/data_sm/kmer-hashing/classify_coding_vs_noncoding//Homo_sapiens.GRCh38.pep.all.fa.gz\n",
      "Using ksize: 8 and molecule: dayhoff ...\n",
      "\tDone!\n",
      "Writing Noncoding nucleotides to B001498_B109060_A8_S8_R1_001_ground_truth.fastp_trimmed__Homo_sapiens.GRCh38.pep.all.fa.gz__molecule-dayhoff__ksize-8.noncoding_nucleotides.fasta\n",
      "Writing all valid protein-coding translation frames to B001498_B109060_A8_S8_R1_001_ground_truth.fastp_trimmed__Homo_sapiens.GRCh38.pep.all.fa.gz__molecule-dayhoff__ksize-8.coding_peptides.fasta\n",
      "Writing low complexity (low entropy) nucleotides to B001498_B109060_A8_S8_R1_001_ground_truth.fastp_trimmed__Homo_sapiens.GRCh38.pep.all.fa.gz__molecule-dayhoff__ksize-8.low_complexity_nucleotides.fasta\n",
      "Writing low complexity (low entropy) peptides to B001498_B109060_A8_S8_R1_001_ground_truth.fastp_trimmed__Homo_sapiens.GRCh38.pep.all.fa.gz__molecule-dayhoff__ksize-8.low_complexity_peptides.fasta\n",
      "17it [00:00, 1049.78it/s]\n",
      "Writing coding scores of reads to B001498_B109060_A8_S8_R1_001_ground_truth.fastp_trimmed__Homo_sapiens.GRCh38.pep.all.fa.gz__molecule-dayhoff__ksize-8__coding_scores.csv\n",
      "Writing Noncoding nucleotides to B001498_B109060_A8_S8_R2_001_ground_truth.fastp_trimmed__Homo_sapiens.GRCh38.pep.all.fa.gz__molecule-dayhoff__ksize-8.noncoding_nucleotides.fasta\n",
      "Writing all valid protein-coding translation frames to B001498_B109060_A8_S8_R2_001_ground_truth.fastp_trimmed__Homo_sapiens.GRCh38.pep.all.fa.gz__molecule-dayhoff__ksize-8.coding_peptides.fasta\n",
      "Writing low complexity (low entropy) nucleotides to B001498_B109060_A8_S8_R2_001_ground_truth.fastp_trimmed__Homo_sapiens.GRCh38.pep.all.fa.gz__molecule-dayhoff__ksize-8.low_complexity_nucleotides.fasta\n",
      "Writing low complexity (low entropy) peptides to B001498_B109060_A8_S8_R2_001_ground_truth.fastp_trimmed__Homo_sapiens.GRCh38.pep.all.fa.gz__molecule-dayhoff__ksize-8.low_complexity_peptides.fasta\n",
      "17it [00:00, 1115.91it/s]\n",
      "Writing coding scores of reads to B001498_B109060_A8_S8_R2_001_ground_truth.fastp_trimmed__Homo_sapiens.GRCh38.pep.all.fa.gz__molecule-dayhoff__ksize-8__coding_scores.csv\n",
      "42.48user 9.68system 0:45.55elapsed 114%CPU (0avgtext+0avgdata 5058036maxresident)k\n",
      "0inputs+56outputs (0major+3018625minor)pagefaults 0swaps\n",
      "ksize: 9, molecule: protein\n",
      "Creating peptide bloom filter with file: /home/olga/data_sm/kmer-hashing/classify_coding_vs_noncoding//Homo_sapiens.GRCh38.pep.all.fa.gz\n",
      "Using ksize: 9 and molecule: protein ...\n",
      "\tDone!\n",
      "Writing Noncoding nucleotides to B001498_B109060_A8_S8_R1_001_ground_truth.fastp_trimmed__Homo_sapiens.GRCh38.pep.all.fa.gz__molecule-protein__ksize-9.noncoding_nucleotides.fasta\n",
      "Writing all valid protein-coding translation frames to B001498_B109060_A8_S8_R1_001_ground_truth.fastp_trimmed__Homo_sapiens.GRCh38.pep.all.fa.gz__molecule-protein__ksize-9.coding_peptides.fasta\n",
      "Writing low complexity (low entropy) nucleotides to B001498_B109060_A8_S8_R1_001_ground_truth.fastp_trimmed__Homo_sapiens.GRCh38.pep.all.fa.gz__molecule-protein__ksize-9.low_complexity_nucleotides.fasta\n",
      "Writing low complexity (low entropy) peptides to B001498_B109060_A8_S8_R1_001_ground_truth.fastp_trimmed__Homo_sapiens.GRCh38.pep.all.fa.gz__molecule-protein__ksize-9.low_complexity_peptides.fasta\n",
      "17it [00:00, 1367.38it/s]\n",
      "Writing coding scores of reads to B001498_B109060_A8_S8_R1_001_ground_truth.fastp_trimmed__Homo_sapiens.GRCh38.pep.all.fa.gz__molecule-protein__ksize-9__coding_scores.csv\n",
      "Writing Noncoding nucleotides to B001498_B109060_A8_S8_R2_001_ground_truth.fastp_trimmed__Homo_sapiens.GRCh38.pep.all.fa.gz__molecule-protein__ksize-9.noncoding_nucleotides.fasta\n",
      "Writing all valid protein-coding translation frames to B001498_B109060_A8_S8_R2_001_ground_truth.fastp_trimmed__Homo_sapiens.GRCh38.pep.all.fa.gz__molecule-protein__ksize-9.coding_peptides.fasta\n",
      "Writing low complexity (low entropy) nucleotides to B001498_B109060_A8_S8_R2_001_ground_truth.fastp_trimmed__Homo_sapiens.GRCh38.pep.all.fa.gz__molecule-protein__ksize-9.low_complexity_nucleotides.fasta\n",
      "Writing low complexity (low entropy) peptides to B001498_B109060_A8_S8_R2_001_ground_truth.fastp_trimmed__Homo_sapiens.GRCh38.pep.all.fa.gz__molecule-protein__ksize-9.low_complexity_peptides.fasta\n",
      "17it [00:00, 1018.86it/s]\n",
      "Writing coding scores of reads to B001498_B109060_A8_S8_R2_001_ground_truth.fastp_trimmed__Homo_sapiens.GRCh38.pep.all.fa.gz__molecule-protein__ksize-9__coding_scores.csv\n",
      "39.64user 8.38system 0:41.46elapsed 115%CPU (0avgtext+0avgdata 5058880maxresident)k\n",
      "0inputs+48outputs (0major+3365211minor)pagefaults 0swaps\n",
      "ksize: 9, molecule: dayhoff\n",
      "Creating peptide bloom filter with file: /home/olga/data_sm/kmer-hashing/classify_coding_vs_noncoding//Homo_sapiens.GRCh38.pep.all.fa.gz\n",
      "Using ksize: 9 and molecule: dayhoff ...\n",
      "\tDone!\n",
      "Writing Noncoding nucleotides to B001498_B109060_A8_S8_R1_001_ground_truth.fastp_trimmed__Homo_sapiens.GRCh38.pep.all.fa.gz__molecule-dayhoff__ksize-9.noncoding_nucleotides.fasta\n",
      "Writing all valid protein-coding translation frames to B001498_B109060_A8_S8_R1_001_ground_truth.fastp_trimmed__Homo_sapiens.GRCh38.pep.all.fa.gz__molecule-dayhoff__ksize-9.coding_peptides.fasta\n",
      "Writing low complexity (low entropy) nucleotides to B001498_B109060_A8_S8_R1_001_ground_truth.fastp_trimmed__Homo_sapiens.GRCh38.pep.all.fa.gz__molecule-dayhoff__ksize-9.low_complexity_nucleotides.fasta\n",
      "Writing low complexity (low entropy) peptides to B001498_B109060_A8_S8_R1_001_ground_truth.fastp_trimmed__Homo_sapiens.GRCh38.pep.all.fa.gz__molecule-dayhoff__ksize-9.low_complexity_peptides.fasta\n",
      "17it [00:00, 1142.42it/s]\n",
      "Writing coding scores of reads to B001498_B109060_A8_S8_R1_001_ground_truth.fastp_trimmed__Homo_sapiens.GRCh38.pep.all.fa.gz__molecule-dayhoff__ksize-9__coding_scores.csv\n",
      "Writing Noncoding nucleotides to B001498_B109060_A8_S8_R2_001_ground_truth.fastp_trimmed__Homo_sapiens.GRCh38.pep.all.fa.gz__molecule-dayhoff__ksize-9.noncoding_nucleotides.fasta\n",
      "Writing all valid protein-coding translation frames to B001498_B109060_A8_S8_R2_001_ground_truth.fastp_trimmed__Homo_sapiens.GRCh38.pep.all.fa.gz__molecule-dayhoff__ksize-9.coding_peptides.fasta\n",
      "Writing low complexity (low entropy) nucleotides to B001498_B109060_A8_S8_R2_001_ground_truth.fastp_trimmed__Homo_sapiens.GRCh38.pep.all.fa.gz__molecule-dayhoff__ksize-9.low_complexity_nucleotides.fasta\n",
      "Writing low complexity (low entropy) peptides to B001498_B109060_A8_S8_R2_001_ground_truth.fastp_trimmed__Homo_sapiens.GRCh38.pep.all.fa.gz__molecule-dayhoff__ksize-9.low_complexity_peptides.fasta\n",
      "17it [00:00, 1412.59it/s]\n",
      "Writing coding scores of reads to B001498_B109060_A8_S8_R2_001_ground_truth.fastp_trimmed__Homo_sapiens.GRCh38.pep.all.fa.gz__molecule-dayhoff__ksize-9__coding_scores.csv\n",
      "42.14user 11.91system 0:47.99elapsed 112%CPU (0avgtext+0avgdata 5058492maxresident)k\n",
      "0inputs+48outputs (0major+4838610minor)pagefaults 0swaps\n",
      "ksize: 10, molecule: protein\n",
      "Creating peptide bloom filter with file: /home/olga/data_sm/kmer-hashing/classify_coding_vs_noncoding//Homo_sapiens.GRCh38.pep.all.fa.gz\n",
      "Using ksize: 10 and molecule: protein ...\n",
      "\tDone!\n",
      "Writing Noncoding nucleotides to B001498_B109060_A8_S8_R1_001_ground_truth.fastp_trimmed__Homo_sapiens.GRCh38.pep.all.fa.gz__molecule-protein__ksize-10.noncoding_nucleotides.fasta\n",
      "Writing all valid protein-coding translation frames to B001498_B109060_A8_S8_R1_001_ground_truth.fastp_trimmed__Homo_sapiens.GRCh38.pep.all.fa.gz__molecule-protein__ksize-10.coding_peptides.fasta\n",
      "Writing low complexity (low entropy) nucleotides to B001498_B109060_A8_S8_R1_001_ground_truth.fastp_trimmed__Homo_sapiens.GRCh38.pep.all.fa.gz__molecule-protein__ksize-10.low_complexity_nucleotides.fasta\n",
      "Writing low complexity (low entropy) peptides to B001498_B109060_A8_S8_R1_001_ground_truth.fastp_trimmed__Homo_sapiens.GRCh38.pep.all.fa.gz__molecule-protein__ksize-10.low_complexity_peptides.fasta\n",
      "17it [00:00, 920.03it/s]\n",
      "Writing coding scores of reads to B001498_B109060_A8_S8_R1_001_ground_truth.fastp_trimmed__Homo_sapiens.GRCh38.pep.all.fa.gz__molecule-protein__ksize-10__coding_scores.csv\n",
      "Writing Noncoding nucleotides to B001498_B109060_A8_S8_R2_001_ground_truth.fastp_trimmed__Homo_sapiens.GRCh38.pep.all.fa.gz__molecule-protein__ksize-10.noncoding_nucleotides.fasta\n",
      "Writing all valid protein-coding translation frames to B001498_B109060_A8_S8_R2_001_ground_truth.fastp_trimmed__Homo_sapiens.GRCh38.pep.all.fa.gz__molecule-protein__ksize-10.coding_peptides.fasta\n",
      "Writing low complexity (low entropy) nucleotides to B001498_B109060_A8_S8_R2_001_ground_truth.fastp_trimmed__Homo_sapiens.GRCh38.pep.all.fa.gz__molecule-protein__ksize-10.low_complexity_nucleotides.fasta\n",
      "Writing low complexity (low entropy) peptides to B001498_B109060_A8_S8_R2_001_ground_truth.fastp_trimmed__Homo_sapiens.GRCh38.pep.all.fa.gz__molecule-protein__ksize-10.low_complexity_peptides.fasta\n",
      "17it [00:00, 971.67it/s]\n",
      "Writing coding scores of reads to B001498_B109060_A8_S8_R2_001_ground_truth.fastp_trimmed__Homo_sapiens.GRCh38.pep.all.fa.gz__molecule-protein__ksize-10__coding_scores.csv\n",
      "40.75user 7.66system 0:42.67elapsed 113%CPU (0avgtext+0avgdata 5059116maxresident)k\n",
      "0inputs+48outputs (0major+3484300minor)pagefaults 0swaps\n",
      "ksize: 10, molecule: dayhoff\n",
      "Creating peptide bloom filter with file: /home/olga/data_sm/kmer-hashing/classify_coding_vs_noncoding//Homo_sapiens.GRCh38.pep.all.fa.gz\n",
      "Using ksize: 10 and molecule: dayhoff ...\n",
      "\tDone!\n",
      "Writing Noncoding nucleotides to B001498_B109060_A8_S8_R1_001_ground_truth.fastp_trimmed__Homo_sapiens.GRCh38.pep.all.fa.gz__molecule-dayhoff__ksize-10.noncoding_nucleotides.fasta\n",
      "Writing all valid protein-coding translation frames to B001498_B109060_A8_S8_R1_001_ground_truth.fastp_trimmed__Homo_sapiens.GRCh38.pep.all.fa.gz__molecule-dayhoff__ksize-10.coding_peptides.fasta\n",
      "Writing low complexity (low entropy) nucleotides to B001498_B109060_A8_S8_R1_001_ground_truth.fastp_trimmed__Homo_sapiens.GRCh38.pep.all.fa.gz__molecule-dayhoff__ksize-10.low_complexity_nucleotides.fasta\n",
      "Writing low complexity (low entropy) peptides to B001498_B109060_A8_S8_R1_001_ground_truth.fastp_trimmed__Homo_sapiens.GRCh38.pep.all.fa.gz__molecule-dayhoff__ksize-10.low_complexity_peptides.fasta\n",
      "17it [00:00, 1011.08it/s]\n",
      "Writing coding scores of reads to B001498_B109060_A8_S8_R1_001_ground_truth.fastp_trimmed__Homo_sapiens.GRCh38.pep.all.fa.gz__molecule-dayhoff__ksize-10__coding_scores.csv\n",
      "Writing Noncoding nucleotides to B001498_B109060_A8_S8_R2_001_ground_truth.fastp_trimmed__Homo_sapiens.GRCh38.pep.all.fa.gz__molecule-dayhoff__ksize-10.noncoding_nucleotides.fasta\n",
      "Writing all valid protein-coding translation frames to B001498_B109060_A8_S8_R2_001_ground_truth.fastp_trimmed__Homo_sapiens.GRCh38.pep.all.fa.gz__molecule-dayhoff__ksize-10.coding_peptides.fasta\n",
      "Writing low complexity (low entropy) nucleotides to B001498_B109060_A8_S8_R2_001_ground_truth.fastp_trimmed__Homo_sapiens.GRCh38.pep.all.fa.gz__molecule-dayhoff__ksize-10.low_complexity_nucleotides.fasta\n",
      "Writing low complexity (low entropy) peptides to B001498_B109060_A8_S8_R2_001_ground_truth.fastp_trimmed__Homo_sapiens.GRCh38.pep.all.fa.gz__molecule-dayhoff__ksize-10.low_complexity_peptides.fasta\n",
      "17it [00:00, 912.24it/s]\n",
      "Writing coding scores of reads to B001498_B109060_A8_S8_R2_001_ground_truth.fastp_trimmed__Homo_sapiens.GRCh38.pep.all.fa.gz__molecule-dayhoff__ksize-10__coding_scores.csv\n",
      "42.96user 8.24system 0:46.00elapsed 111%CPU (0avgtext+0avgdata 5058992maxresident)k\n",
      "0inputs+48outputs (0major+3161029minor)pagefaults 0swaps\n",
      "ksize: 11, molecule: protein\n",
      "Creating peptide bloom filter with file: /home/olga/data_sm/kmer-hashing/classify_coding_vs_noncoding//Homo_sapiens.GRCh38.pep.all.fa.gz\n",
      "Using ksize: 11 and molecule: protein ...\n",
      "\tDone!\n",
      "Writing Noncoding nucleotides to B001498_B109060_A8_S8_R1_001_ground_truth.fastp_trimmed__Homo_sapiens.GRCh38.pep.all.fa.gz__molecule-protein__ksize-11.noncoding_nucleotides.fasta\n",
      "Writing all valid protein-coding translation frames to B001498_B109060_A8_S8_R1_001_ground_truth.fastp_trimmed__Homo_sapiens.GRCh38.pep.all.fa.gz__molecule-protein__ksize-11.coding_peptides.fasta\n",
      "Writing low complexity (low entropy) nucleotides to B001498_B109060_A8_S8_R1_001_ground_truth.fastp_trimmed__Homo_sapiens.GRCh38.pep.all.fa.gz__molecule-protein__ksize-11.low_complexity_nucleotides.fasta\n",
      "Writing low complexity (low entropy) peptides to B001498_B109060_A8_S8_R1_001_ground_truth.fastp_trimmed__Homo_sapiens.GRCh38.pep.all.fa.gz__molecule-protein__ksize-11.low_complexity_peptides.fasta\n",
      "17it [00:00, 1093.04it/s]\n",
      "Writing coding scores of reads to B001498_B109060_A8_S8_R1_001_ground_truth.fastp_trimmed__Homo_sapiens.GRCh38.pep.all.fa.gz__molecule-protein__ksize-11__coding_scores.csv\n",
      "Writing Noncoding nucleotides to B001498_B109060_A8_S8_R2_001_ground_truth.fastp_trimmed__Homo_sapiens.GRCh38.pep.all.fa.gz__molecule-protein__ksize-11.noncoding_nucleotides.fasta\n",
      "Writing all valid protein-coding translation frames to B001498_B109060_A8_S8_R2_001_ground_truth.fastp_trimmed__Homo_sapiens.GRCh38.pep.all.fa.gz__molecule-protein__ksize-11.coding_peptides.fasta\n",
      "Writing low complexity (low entropy) nucleotides to B001498_B109060_A8_S8_R2_001_ground_truth.fastp_trimmed__Homo_sapiens.GRCh38.pep.all.fa.gz__molecule-protein__ksize-11.low_complexity_nucleotides.fasta\n",
      "Writing low complexity (low entropy) peptides to B001498_B109060_A8_S8_R2_001_ground_truth.fastp_trimmed__Homo_sapiens.GRCh38.pep.all.fa.gz__molecule-protein__ksize-11.low_complexity_peptides.fasta\n",
      "17it [00:00, 1311.27it/s]\n",
      "Writing coding scores of reads to B001498_B109060_A8_S8_R2_001_ground_truth.fastp_trimmed__Homo_sapiens.GRCh38.pep.all.fa.gz__molecule-protein__ksize-11__coding_scores.csv\n",
      "43.03user 15.79system 0:52.89elapsed 111%CPU (0avgtext+0avgdata 5058548maxresident)k\n",
      "0inputs+48outputs (0major+10184004minor)pagefaults 0swaps\n",
      "ksize: 11, molecule: dayhoff\n",
      "Creating peptide bloom filter with file: /home/olga/data_sm/kmer-hashing/classify_coding_vs_noncoding//Homo_sapiens.GRCh38.pep.all.fa.gz\n",
      "Using ksize: 11 and molecule: dayhoff ...\n",
      "\tDone!\n",
      "Writing Noncoding nucleotides to B001498_B109060_A8_S8_R1_001_ground_truth.fastp_trimmed__Homo_sapiens.GRCh38.pep.all.fa.gz__molecule-dayhoff__ksize-11.noncoding_nucleotides.fasta\n",
      "Writing all valid protein-coding translation frames to B001498_B109060_A8_S8_R1_001_ground_truth.fastp_trimmed__Homo_sapiens.GRCh38.pep.all.fa.gz__molecule-dayhoff__ksize-11.coding_peptides.fasta\n",
      "Writing low complexity (low entropy) nucleotides to B001498_B109060_A8_S8_R1_001_ground_truth.fastp_trimmed__Homo_sapiens.GRCh38.pep.all.fa.gz__molecule-dayhoff__ksize-11.low_complexity_nucleotides.fasta\n",
      "Writing low complexity (low entropy) peptides to B001498_B109060_A8_S8_R1_001_ground_truth.fastp_trimmed__Homo_sapiens.GRCh38.pep.all.fa.gz__molecule-dayhoff__ksize-11.low_complexity_peptides.fasta\n",
      "17it [00:00, 1379.81it/s]\n",
      "Writing coding scores of reads to B001498_B109060_A8_S8_R1_001_ground_truth.fastp_trimmed__Homo_sapiens.GRCh38.pep.all.fa.gz__molecule-dayhoff__ksize-11__coding_scores.csv\n",
      "Writing Noncoding nucleotides to B001498_B109060_A8_S8_R2_001_ground_truth.fastp_trimmed__Homo_sapiens.GRCh38.pep.all.fa.gz__molecule-dayhoff__ksize-11.noncoding_nucleotides.fasta\n",
      "Writing all valid protein-coding translation frames to B001498_B109060_A8_S8_R2_001_ground_truth.fastp_trimmed__Homo_sapiens.GRCh38.pep.all.fa.gz__molecule-dayhoff__ksize-11.coding_peptides.fasta\n",
      "Writing low complexity (low entropy) nucleotides to B001498_B109060_A8_S8_R2_001_ground_truth.fastp_trimmed__Homo_sapiens.GRCh38.pep.all.fa.gz__molecule-dayhoff__ksize-11.low_complexity_nucleotides.fasta\n",
      "Writing low complexity (low entropy) peptides to B001498_B109060_A8_S8_R2_001_ground_truth.fastp_trimmed__Homo_sapiens.GRCh38.pep.all.fa.gz__molecule-dayhoff__ksize-11.low_complexity_peptides.fasta\n",
      "17it [00:00, 905.46it/s]\n",
      "Writing coding scores of reads to B001498_B109060_A8_S8_R2_001_ground_truth.fastp_trimmed__Homo_sapiens.GRCh38.pep.all.fa.gz__molecule-dayhoff__ksize-11__coding_scores.csv\n",
      "45.50user 12.73system 0:51.58elapsed 112%CPU (0avgtext+0avgdata 5058680maxresident)k\n",
      "0inputs+48outputs (0major+3374098minor)pagefaults 0swaps\n",
      "ksize: 12, molecule: protein\n",
      "Creating peptide bloom filter with file: /home/olga/data_sm/kmer-hashing/classify_coding_vs_noncoding//Homo_sapiens.GRCh38.pep.all.fa.gz\n",
      "Using ksize: 12 and molecule: protein ...\n",
      "\tDone!\n",
      "Writing Noncoding nucleotides to B001498_B109060_A8_S8_R1_001_ground_truth.fastp_trimmed__Homo_sapiens.GRCh38.pep.all.fa.gz__molecule-protein__ksize-12.noncoding_nucleotides.fasta\n",
      "Writing all valid protein-coding translation frames to B001498_B109060_A8_S8_R1_001_ground_truth.fastp_trimmed__Homo_sapiens.GRCh38.pep.all.fa.gz__molecule-protein__ksize-12.coding_peptides.fasta\n",
      "Writing low complexity (low entropy) nucleotides to B001498_B109060_A8_S8_R1_001_ground_truth.fastp_trimmed__Homo_sapiens.GRCh38.pep.all.fa.gz__molecule-protein__ksize-12.low_complexity_nucleotides.fasta\n",
      "Writing low complexity (low entropy) peptides to B001498_B109060_A8_S8_R1_001_ground_truth.fastp_trimmed__Homo_sapiens.GRCh38.pep.all.fa.gz__molecule-protein__ksize-12.low_complexity_peptides.fasta\n",
      "17it [00:00, 1270.44it/s]\n",
      "Writing coding scores of reads to B001498_B109060_A8_S8_R1_001_ground_truth.fastp_trimmed__Homo_sapiens.GRCh38.pep.all.fa.gz__molecule-protein__ksize-12__coding_scores.csv\n",
      "Writing Noncoding nucleotides to B001498_B109060_A8_S8_R2_001_ground_truth.fastp_trimmed__Homo_sapiens.GRCh38.pep.all.fa.gz__molecule-protein__ksize-12.noncoding_nucleotides.fasta\n",
      "Writing all valid protein-coding translation frames to B001498_B109060_A8_S8_R2_001_ground_truth.fastp_trimmed__Homo_sapiens.GRCh38.pep.all.fa.gz__molecule-protein__ksize-12.coding_peptides.fasta\n",
      "Writing low complexity (low entropy) nucleotides to B001498_B109060_A8_S8_R2_001_ground_truth.fastp_trimmed__Homo_sapiens.GRCh38.pep.all.fa.gz__molecule-protein__ksize-12.low_complexity_nucleotides.fasta\n",
      "Writing low complexity (low entropy) peptides to B001498_B109060_A8_S8_R2_001_ground_truth.fastp_trimmed__Homo_sapiens.GRCh38.pep.all.fa.gz__molecule-protein__ksize-12.low_complexity_peptides.fasta\n",
      "17it [00:00, 1500.49it/s]\n",
      "Writing coding scores of reads to B001498_B109060_A8_S8_R2_001_ground_truth.fastp_trimmed__Homo_sapiens.GRCh38.pep.all.fa.gz__molecule-protein__ksize-12__coding_scores.csv\n",
      "43.85user 10.69system 0:49.91elapsed 109%CPU (0avgtext+0avgdata 5058836maxresident)k\n",
      "0inputs+48outputs (0major+3324766minor)pagefaults 0swaps\n",
      "ksize: 12, molecule: dayhoff\n",
      "Creating peptide bloom filter with file: /home/olga/data_sm/kmer-hashing/classify_coding_vs_noncoding//Homo_sapiens.GRCh38.pep.all.fa.gz\n",
      "Using ksize: 12 and molecule: dayhoff ...\n",
      "\tDone!\n",
      "Writing Noncoding nucleotides to B001498_B109060_A8_S8_R1_001_ground_truth.fastp_trimmed__Homo_sapiens.GRCh38.pep.all.fa.gz__molecule-dayhoff__ksize-12.noncoding_nucleotides.fasta\n",
      "Writing all valid protein-coding translation frames to B001498_B109060_A8_S8_R1_001_ground_truth.fastp_trimmed__Homo_sapiens.GRCh38.pep.all.fa.gz__molecule-dayhoff__ksize-12.coding_peptides.fasta\n",
      "Writing low complexity (low entropy) nucleotides to B001498_B109060_A8_S8_R1_001_ground_truth.fastp_trimmed__Homo_sapiens.GRCh38.pep.all.fa.gz__molecule-dayhoff__ksize-12.low_complexity_nucleotides.fasta\n",
      "Writing low complexity (low entropy) peptides to B001498_B109060_A8_S8_R1_001_ground_truth.fastp_trimmed__Homo_sapiens.GRCh38.pep.all.fa.gz__molecule-dayhoff__ksize-12.low_complexity_peptides.fasta\n",
      "17it [00:00, 1096.30it/s]\n",
      "Writing coding scores of reads to B001498_B109060_A8_S8_R1_001_ground_truth.fastp_trimmed__Homo_sapiens.GRCh38.pep.all.fa.gz__molecule-dayhoff__ksize-12__coding_scores.csv\n",
      "Writing Noncoding nucleotides to B001498_B109060_A8_S8_R2_001_ground_truth.fastp_trimmed__Homo_sapiens.GRCh38.pep.all.fa.gz__molecule-dayhoff__ksize-12.noncoding_nucleotides.fasta\n",
      "Writing all valid protein-coding translation frames to B001498_B109060_A8_S8_R2_001_ground_truth.fastp_trimmed__Homo_sapiens.GRCh38.pep.all.fa.gz__molecule-dayhoff__ksize-12.coding_peptides.fasta\n",
      "Writing low complexity (low entropy) nucleotides to B001498_B109060_A8_S8_R2_001_ground_truth.fastp_trimmed__Homo_sapiens.GRCh38.pep.all.fa.gz__molecule-dayhoff__ksize-12.low_complexity_nucleotides.fasta\n",
      "Writing low complexity (low entropy) peptides to B001498_B109060_A8_S8_R2_001_ground_truth.fastp_trimmed__Homo_sapiens.GRCh38.pep.all.fa.gz__molecule-dayhoff__ksize-12.low_complexity_peptides.fasta\n",
      "17it [00:00, 1341.75it/s]\n",
      "Writing coding scores of reads to B001498_B109060_A8_S8_R2_001_ground_truth.fastp_trimmed__Homo_sapiens.GRCh38.pep.all.fa.gz__molecule-dayhoff__ksize-12__coding_scores.csv\n",
      "44.58user 11.39system 0:49.75elapsed 112%CPU (0avgtext+0avgdata 5058556maxresident)k\n",
      "0inputs+48outputs (0major+3343839minor)pagefaults 0swaps\n",
      "ksize: 13, molecule: protein\n",
      "Creating peptide bloom filter with file: /home/olga/data_sm/kmer-hashing/classify_coding_vs_noncoding//Homo_sapiens.GRCh38.pep.all.fa.gz\n",
      "Using ksize: 13 and molecule: protein ...\n",
      "\tDone!\n",
      "Writing Noncoding nucleotides to B001498_B109060_A8_S8_R1_001_ground_truth.fastp_trimmed__Homo_sapiens.GRCh38.pep.all.fa.gz__molecule-protein__ksize-13.noncoding_nucleotides.fasta\n",
      "Writing all valid protein-coding translation frames to B001498_B109060_A8_S8_R1_001_ground_truth.fastp_trimmed__Homo_sapiens.GRCh38.pep.all.fa.gz__molecule-protein__ksize-13.coding_peptides.fasta\n",
      "Writing low complexity (low entropy) nucleotides to B001498_B109060_A8_S8_R1_001_ground_truth.fastp_trimmed__Homo_sapiens.GRCh38.pep.all.fa.gz__molecule-protein__ksize-13.low_complexity_nucleotides.fasta\n",
      "Writing low complexity (low entropy) peptides to B001498_B109060_A8_S8_R1_001_ground_truth.fastp_trimmed__Homo_sapiens.GRCh38.pep.all.fa.gz__molecule-protein__ksize-13.low_complexity_peptides.fasta\n",
      "17it [00:00, 1101.16it/s]\n",
      "Writing coding scores of reads to B001498_B109060_A8_S8_R1_001_ground_truth.fastp_trimmed__Homo_sapiens.GRCh38.pep.all.fa.gz__molecule-protein__ksize-13__coding_scores.csv\n",
      "Writing Noncoding nucleotides to B001498_B109060_A8_S8_R2_001_ground_truth.fastp_trimmed__Homo_sapiens.GRCh38.pep.all.fa.gz__molecule-protein__ksize-13.noncoding_nucleotides.fasta\n",
      "Writing all valid protein-coding translation frames to B001498_B109060_A8_S8_R2_001_ground_truth.fastp_trimmed__Homo_sapiens.GRCh38.pep.all.fa.gz__molecule-protein__ksize-13.coding_peptides.fasta\n",
      "Writing low complexity (low entropy) nucleotides to B001498_B109060_A8_S8_R2_001_ground_truth.fastp_trimmed__Homo_sapiens.GRCh38.pep.all.fa.gz__molecule-protein__ksize-13.low_complexity_nucleotides.fasta\n",
      "Writing low complexity (low entropy) peptides to B001498_B109060_A8_S8_R2_001_ground_truth.fastp_trimmed__Homo_sapiens.GRCh38.pep.all.fa.gz__molecule-protein__ksize-13.low_complexity_peptides.fasta\n",
      "17it [00:00, 1171.63it/s]\n",
      "Writing coding scores of reads to B001498_B109060_A8_S8_R2_001_ground_truth.fastp_trimmed__Homo_sapiens.GRCh38.pep.all.fa.gz__molecule-protein__ksize-13__coding_scores.csv\n",
      "45.52user 12.02system 0:51.90elapsed 110%CPU (0avgtext+0avgdata 5059092maxresident)k\n",
      "0inputs+48outputs (0major+3413836minor)pagefaults 0swaps\n",
      "ksize: 13, molecule: dayhoff\n",
      "Creating peptide bloom filter with file: /home/olga/data_sm/kmer-hashing/classify_coding_vs_noncoding//Homo_sapiens.GRCh38.pep.all.fa.gz\n",
      "Using ksize: 13 and molecule: dayhoff ...\n",
      "\tDone!\n",
      "Writing Noncoding nucleotides to B001498_B109060_A8_S8_R1_001_ground_truth.fastp_trimmed__Homo_sapiens.GRCh38.pep.all.fa.gz__molecule-dayhoff__ksize-13.noncoding_nucleotides.fasta\n",
      "Writing all valid protein-coding translation frames to B001498_B109060_A8_S8_R1_001_ground_truth.fastp_trimmed__Homo_sapiens.GRCh38.pep.all.fa.gz__molecule-dayhoff__ksize-13.coding_peptides.fasta\n",
      "Writing low complexity (low entropy) nucleotides to B001498_B109060_A8_S8_R1_001_ground_truth.fastp_trimmed__Homo_sapiens.GRCh38.pep.all.fa.gz__molecule-dayhoff__ksize-13.low_complexity_nucleotides.fasta\n",
      "Writing low complexity (low entropy) peptides to B001498_B109060_A8_S8_R1_001_ground_truth.fastp_trimmed__Homo_sapiens.GRCh38.pep.all.fa.gz__molecule-dayhoff__ksize-13.low_complexity_peptides.fasta\n",
      "17it [00:00, 865.56it/s]\n",
      "Writing coding scores of reads to B001498_B109060_A8_S8_R1_001_ground_truth.fastp_trimmed__Homo_sapiens.GRCh38.pep.all.fa.gz__molecule-dayhoff__ksize-13__coding_scores.csv\n",
      "Writing Noncoding nucleotides to B001498_B109060_A8_S8_R2_001_ground_truth.fastp_trimmed__Homo_sapiens.GRCh38.pep.all.fa.gz__molecule-dayhoff__ksize-13.noncoding_nucleotides.fasta\n",
      "Writing all valid protein-coding translation frames to B001498_B109060_A8_S8_R2_001_ground_truth.fastp_trimmed__Homo_sapiens.GRCh38.pep.all.fa.gz__molecule-dayhoff__ksize-13.coding_peptides.fasta\n",
      "Writing low complexity (low entropy) nucleotides to B001498_B109060_A8_S8_R2_001_ground_truth.fastp_trimmed__Homo_sapiens.GRCh38.pep.all.fa.gz__molecule-dayhoff__ksize-13.low_complexity_nucleotides.fasta\n",
      "Writing low complexity (low entropy) peptides to B001498_B109060_A8_S8_R2_001_ground_truth.fastp_trimmed__Homo_sapiens.GRCh38.pep.all.fa.gz__molecule-dayhoff__ksize-13.low_complexity_peptides.fasta\n",
      "17it [00:00, 986.92it/s]\n",
      "Writing coding scores of reads to B001498_B109060_A8_S8_R2_001_ground_truth.fastp_trimmed__Homo_sapiens.GRCh38.pep.all.fa.gz__molecule-dayhoff__ksize-13__coding_scores.csv\n",
      "39.99user 8.37system 0:41.65elapsed 116%CPU (0avgtext+0avgdata 5058924maxresident)k\n",
      "0inputs+48outputs (0major+3326730minor)pagefaults 0swaps\n",
      "ksize: 14, molecule: protein\n",
      "Creating peptide bloom filter with file: /home/olga/data_sm/kmer-hashing/classify_coding_vs_noncoding//Homo_sapiens.GRCh38.pep.all.fa.gz\n",
      "Using ksize: 14 and molecule: protein ...\n",
      "\tDone!\n",
      "Writing Noncoding nucleotides to B001498_B109060_A8_S8_R1_001_ground_truth.fastp_trimmed__Homo_sapiens.GRCh38.pep.all.fa.gz__molecule-protein__ksize-14.noncoding_nucleotides.fasta\n",
      "Writing all valid protein-coding translation frames to B001498_B109060_A8_S8_R1_001_ground_truth.fastp_trimmed__Homo_sapiens.GRCh38.pep.all.fa.gz__molecule-protein__ksize-14.coding_peptides.fasta\n",
      "Writing low complexity (low entropy) nucleotides to B001498_B109060_A8_S8_R1_001_ground_truth.fastp_trimmed__Homo_sapiens.GRCh38.pep.all.fa.gz__molecule-protein__ksize-14.low_complexity_nucleotides.fasta\n",
      "Writing low complexity (low entropy) peptides to B001498_B109060_A8_S8_R1_001_ground_truth.fastp_trimmed__Homo_sapiens.GRCh38.pep.all.fa.gz__molecule-protein__ksize-14.low_complexity_peptides.fasta\n",
      "17it [00:00, 954.35it/s]\n",
      "Writing coding scores of reads to B001498_B109060_A8_S8_R1_001_ground_truth.fastp_trimmed__Homo_sapiens.GRCh38.pep.all.fa.gz__molecule-protein__ksize-14__coding_scores.csv\n",
      "Writing Noncoding nucleotides to B001498_B109060_A8_S8_R2_001_ground_truth.fastp_trimmed__Homo_sapiens.GRCh38.pep.all.fa.gz__molecule-protein__ksize-14.noncoding_nucleotides.fasta\n",
      "Writing all valid protein-coding translation frames to B001498_B109060_A8_S8_R2_001_ground_truth.fastp_trimmed__Homo_sapiens.GRCh38.pep.all.fa.gz__molecule-protein__ksize-14.coding_peptides.fasta\n",
      "Writing low complexity (low entropy) nucleotides to B001498_B109060_A8_S8_R2_001_ground_truth.fastp_trimmed__Homo_sapiens.GRCh38.pep.all.fa.gz__molecule-protein__ksize-14.low_complexity_nucleotides.fasta\n",
      "Writing low complexity (low entropy) peptides to B001498_B109060_A8_S8_R2_001_ground_truth.fastp_trimmed__Homo_sapiens.GRCh38.pep.all.fa.gz__molecule-protein__ksize-14.low_complexity_peptides.fasta\n",
      "17it [00:00, 994.66it/s]\n",
      "Writing coding scores of reads to B001498_B109060_A8_S8_R2_001_ground_truth.fastp_trimmed__Homo_sapiens.GRCh38.pep.all.fa.gz__molecule-protein__ksize-14__coding_scores.csv\n",
      "39.52user 7.89system 0:41.38elapsed 114%CPU (0avgtext+0avgdata 5059072maxresident)k\n",
      "0inputs+48outputs (0major+3369458minor)pagefaults 0swaps\n",
      "ksize: 14, molecule: dayhoff\n",
      "Creating peptide bloom filter with file: /home/olga/data_sm/kmer-hashing/classify_coding_vs_noncoding//Homo_sapiens.GRCh38.pep.all.fa.gz\n",
      "Using ksize: 14 and molecule: dayhoff ...\n",
      "\tDone!\n",
      "Writing Noncoding nucleotides to B001498_B109060_A8_S8_R1_001_ground_truth.fastp_trimmed__Homo_sapiens.GRCh38.pep.all.fa.gz__molecule-dayhoff__ksize-14.noncoding_nucleotides.fasta\n",
      "Writing all valid protein-coding translation frames to B001498_B109060_A8_S8_R1_001_ground_truth.fastp_trimmed__Homo_sapiens.GRCh38.pep.all.fa.gz__molecule-dayhoff__ksize-14.coding_peptides.fasta\n",
      "Writing low complexity (low entropy) nucleotides to B001498_B109060_A8_S8_R1_001_ground_truth.fastp_trimmed__Homo_sapiens.GRCh38.pep.all.fa.gz__molecule-dayhoff__ksize-14.low_complexity_nucleotides.fasta\n",
      "Writing low complexity (low entropy) peptides to B001498_B109060_A8_S8_R1_001_ground_truth.fastp_trimmed__Homo_sapiens.GRCh38.pep.all.fa.gz__molecule-dayhoff__ksize-14.low_complexity_peptides.fasta\n",
      "17it [00:00, 980.09it/s]\n",
      "Writing coding scores of reads to B001498_B109060_A8_S8_R1_001_ground_truth.fastp_trimmed__Homo_sapiens.GRCh38.pep.all.fa.gz__molecule-dayhoff__ksize-14__coding_scores.csv\n",
      "Writing Noncoding nucleotides to B001498_B109060_A8_S8_R2_001_ground_truth.fastp_trimmed__Homo_sapiens.GRCh38.pep.all.fa.gz__molecule-dayhoff__ksize-14.noncoding_nucleotides.fasta\n",
      "Writing all valid protein-coding translation frames to B001498_B109060_A8_S8_R2_001_ground_truth.fastp_trimmed__Homo_sapiens.GRCh38.pep.all.fa.gz__molecule-dayhoff__ksize-14.coding_peptides.fasta\n",
      "Writing low complexity (low entropy) nucleotides to B001498_B109060_A8_S8_R2_001_ground_truth.fastp_trimmed__Homo_sapiens.GRCh38.pep.all.fa.gz__molecule-dayhoff__ksize-14.low_complexity_nucleotides.fasta\n",
      "Writing low complexity (low entropy) peptides to B001498_B109060_A8_S8_R2_001_ground_truth.fastp_trimmed__Homo_sapiens.GRCh38.pep.all.fa.gz__molecule-dayhoff__ksize-14.low_complexity_peptides.fasta\n",
      "17it [00:00, 1228.81it/s]\n",
      "Writing coding scores of reads to B001498_B109060_A8_S8_R2_001_ground_truth.fastp_trimmed__Homo_sapiens.GRCh38.pep.all.fa.gz__molecule-dayhoff__ksize-14__coding_scores.csv\n",
      "39.82user 7.68system 0:42.02elapsed 113%CPU (0avgtext+0avgdata 5059308maxresident)k\n",
      "0inputs+48outputs (0major+3290340minor)pagefaults 0swaps\n",
      "ksize: 15, molecule: protein\n",
      "Creating peptide bloom filter with file: /home/olga/data_sm/kmer-hashing/classify_coding_vs_noncoding//Homo_sapiens.GRCh38.pep.all.fa.gz\n",
      "Using ksize: 15 and molecule: protein ...\n",
      "\tDone!\n",
      "Writing Noncoding nucleotides to B001498_B109060_A8_S8_R1_001_ground_truth.fastp_trimmed__Homo_sapiens.GRCh38.pep.all.fa.gz__molecule-protein__ksize-15.noncoding_nucleotides.fasta\n",
      "Writing all valid protein-coding translation frames to B001498_B109060_A8_S8_R1_001_ground_truth.fastp_trimmed__Homo_sapiens.GRCh38.pep.all.fa.gz__molecule-protein__ksize-15.coding_peptides.fasta\n",
      "Writing low complexity (low entropy) nucleotides to B001498_B109060_A8_S8_R1_001_ground_truth.fastp_trimmed__Homo_sapiens.GRCh38.pep.all.fa.gz__molecule-protein__ksize-15.low_complexity_nucleotides.fasta\n",
      "Writing low complexity (low entropy) peptides to B001498_B109060_A8_S8_R1_001_ground_truth.fastp_trimmed__Homo_sapiens.GRCh38.pep.all.fa.gz__molecule-protein__ksize-15.low_complexity_peptides.fasta\n",
      "17it [00:00, 1150.50it/s]\n",
      "Writing coding scores of reads to B001498_B109060_A8_S8_R1_001_ground_truth.fastp_trimmed__Homo_sapiens.GRCh38.pep.all.fa.gz__molecule-protein__ksize-15__coding_scores.csv\n",
      "Writing Noncoding nucleotides to B001498_B109060_A8_S8_R2_001_ground_truth.fastp_trimmed__Homo_sapiens.GRCh38.pep.all.fa.gz__molecule-protein__ksize-15.noncoding_nucleotides.fasta\n",
      "Writing all valid protein-coding translation frames to B001498_B109060_A8_S8_R2_001_ground_truth.fastp_trimmed__Homo_sapiens.GRCh38.pep.all.fa.gz__molecule-protein__ksize-15.coding_peptides.fasta\n",
      "Writing low complexity (low entropy) nucleotides to B001498_B109060_A8_S8_R2_001_ground_truth.fastp_trimmed__Homo_sapiens.GRCh38.pep.all.fa.gz__molecule-protein__ksize-15.low_complexity_nucleotides.fasta\n",
      "Writing low complexity (low entropy) peptides to B001498_B109060_A8_S8_R2_001_ground_truth.fastp_trimmed__Homo_sapiens.GRCh38.pep.all.fa.gz__molecule-protein__ksize-15.low_complexity_peptides.fasta\n",
      "17it [00:00, 1534.13it/s]\n",
      "Writing coding scores of reads to B001498_B109060_A8_S8_R2_001_ground_truth.fastp_trimmed__Homo_sapiens.GRCh38.pep.all.fa.gz__molecule-protein__ksize-15__coding_scores.csv\n",
      "41.35user 8.96system 0:44.59elapsed 112%CPU (0avgtext+0avgdata 5058568maxresident)k\n",
      "0inputs+48outputs (0major+3673765minor)pagefaults 0swaps\n",
      "ksize: 15, molecule: dayhoff\n",
      "Creating peptide bloom filter with file: /home/olga/data_sm/kmer-hashing/classify_coding_vs_noncoding//Homo_sapiens.GRCh38.pep.all.fa.gz\n",
      "Using ksize: 15 and molecule: dayhoff ...\n",
      "\tDone!\n",
      "Writing Noncoding nucleotides to B001498_B109060_A8_S8_R1_001_ground_truth.fastp_trimmed__Homo_sapiens.GRCh38.pep.all.fa.gz__molecule-dayhoff__ksize-15.noncoding_nucleotides.fasta\n",
      "Writing all valid protein-coding translation frames to B001498_B109060_A8_S8_R1_001_ground_truth.fastp_trimmed__Homo_sapiens.GRCh38.pep.all.fa.gz__molecule-dayhoff__ksize-15.coding_peptides.fasta\n",
      "Writing low complexity (low entropy) nucleotides to B001498_B109060_A8_S8_R1_001_ground_truth.fastp_trimmed__Homo_sapiens.GRCh38.pep.all.fa.gz__molecule-dayhoff__ksize-15.low_complexity_nucleotides.fasta\n",
      "Writing low complexity (low entropy) peptides to B001498_B109060_A8_S8_R1_001_ground_truth.fastp_trimmed__Homo_sapiens.GRCh38.pep.all.fa.gz__molecule-dayhoff__ksize-15.low_complexity_peptides.fasta\n",
      "17it [00:00, 1364.34it/s]\n",
      "Writing coding scores of reads to B001498_B109060_A8_S8_R1_001_ground_truth.fastp_trimmed__Homo_sapiens.GRCh38.pep.all.fa.gz__molecule-dayhoff__ksize-15__coding_scores.csv\n",
      "Writing Noncoding nucleotides to B001498_B109060_A8_S8_R2_001_ground_truth.fastp_trimmed__Homo_sapiens.GRCh38.pep.all.fa.gz__molecule-dayhoff__ksize-15.noncoding_nucleotides.fasta\n",
      "Writing all valid protein-coding translation frames to B001498_B109060_A8_S8_R2_001_ground_truth.fastp_trimmed__Homo_sapiens.GRCh38.pep.all.fa.gz__molecule-dayhoff__ksize-15.coding_peptides.fasta\n",
      "Writing low complexity (low entropy) nucleotides to B001498_B109060_A8_S8_R2_001_ground_truth.fastp_trimmed__Homo_sapiens.GRCh38.pep.all.fa.gz__molecule-dayhoff__ksize-15.low_complexity_nucleotides.fasta\n",
      "Writing low complexity (low entropy) peptides to B001498_B109060_A8_S8_R2_001_ground_truth.fastp_trimmed__Homo_sapiens.GRCh38.pep.all.fa.gz__molecule-dayhoff__ksize-15.low_complexity_peptides.fasta\n",
      "17it [00:00, 1447.75it/s]\n",
      "Writing coding scores of reads to B001498_B109060_A8_S8_R2_001_ground_truth.fastp_trimmed__Homo_sapiens.GRCh38.pep.all.fa.gz__molecule-dayhoff__ksize-15__coding_scores.csv\n",
      "39.69user 7.40system 0:41.78elapsed 112%CPU (0avgtext+0avgdata 5059244maxresident)k\n",
      "0inputs+48outputs (0major+3100238minor)pagefaults 0swaps\n",
      "ksize: 16, molecule: protein\n",
      "Creating peptide bloom filter with file: /home/olga/data_sm/kmer-hashing/classify_coding_vs_noncoding//Homo_sapiens.GRCh38.pep.all.fa.gz\n",
      "Using ksize: 16 and molecule: protein ...\n",
      "\tDone!\n",
      "Writing Noncoding nucleotides to B001498_B109060_A8_S8_R1_001_ground_truth.fastp_trimmed__Homo_sapiens.GRCh38.pep.all.fa.gz__molecule-protein__ksize-16.noncoding_nucleotides.fasta\n",
      "Writing all valid protein-coding translation frames to B001498_B109060_A8_S8_R1_001_ground_truth.fastp_trimmed__Homo_sapiens.GRCh38.pep.all.fa.gz__molecule-protein__ksize-16.coding_peptides.fasta\n",
      "Writing low complexity (low entropy) nucleotides to B001498_B109060_A8_S8_R1_001_ground_truth.fastp_trimmed__Homo_sapiens.GRCh38.pep.all.fa.gz__molecule-protein__ksize-16.low_complexity_nucleotides.fasta\n",
      "Writing low complexity (low entropy) peptides to B001498_B109060_A8_S8_R1_001_ground_truth.fastp_trimmed__Homo_sapiens.GRCh38.pep.all.fa.gz__molecule-protein__ksize-16.low_complexity_peptides.fasta\n",
      "17it [00:00, 1221.20it/s]\n",
      "Writing coding scores of reads to B001498_B109060_A8_S8_R1_001_ground_truth.fastp_trimmed__Homo_sapiens.GRCh38.pep.all.fa.gz__molecule-protein__ksize-16__coding_scores.csv\n",
      "Writing Noncoding nucleotides to B001498_B109060_A8_S8_R2_001_ground_truth.fastp_trimmed__Homo_sapiens.GRCh38.pep.all.fa.gz__molecule-protein__ksize-16.noncoding_nucleotides.fasta\n",
      "Writing all valid protein-coding translation frames to B001498_B109060_A8_S8_R2_001_ground_truth.fastp_trimmed__Homo_sapiens.GRCh38.pep.all.fa.gz__molecule-protein__ksize-16.coding_peptides.fasta\n",
      "Writing low complexity (low entropy) nucleotides to B001498_B109060_A8_S8_R2_001_ground_truth.fastp_trimmed__Homo_sapiens.GRCh38.pep.all.fa.gz__molecule-protein__ksize-16.low_complexity_nucleotides.fasta\n",
      "Writing low complexity (low entropy) peptides to B001498_B109060_A8_S8_R2_001_ground_truth.fastp_trimmed__Homo_sapiens.GRCh38.pep.all.fa.gz__molecule-protein__ksize-16.low_complexity_peptides.fasta\n",
      "17it [00:00, 1309.56it/s]\n",
      "Writing coding scores of reads to B001498_B109060_A8_S8_R2_001_ground_truth.fastp_trimmed__Homo_sapiens.GRCh38.pep.all.fa.gz__molecule-protein__ksize-16__coding_scores.csv\n",
      "43.10user 7.46system 0:45.20elapsed 111%CPU (0avgtext+0avgdata 5059504maxresident)k\n",
      "0inputs+48outputs (0major+3573854minor)pagefaults 0swaps\n",
      "ksize: 16, molecule: dayhoff\n",
      "Creating peptide bloom filter with file: /home/olga/data_sm/kmer-hashing/classify_coding_vs_noncoding//Homo_sapiens.GRCh38.pep.all.fa.gz\n",
      "Using ksize: 16 and molecule: dayhoff ...\n",
      "\tDone!\n",
      "Writing Noncoding nucleotides to B001498_B109060_A8_S8_R1_001_ground_truth.fastp_trimmed__Homo_sapiens.GRCh38.pep.all.fa.gz__molecule-dayhoff__ksize-16.noncoding_nucleotides.fasta\n",
      "Writing all valid protein-coding translation frames to B001498_B109060_A8_S8_R1_001_ground_truth.fastp_trimmed__Homo_sapiens.GRCh38.pep.all.fa.gz__molecule-dayhoff__ksize-16.coding_peptides.fasta\n",
      "Writing low complexity (low entropy) nucleotides to B001498_B109060_A8_S8_R1_001_ground_truth.fastp_trimmed__Homo_sapiens.GRCh38.pep.all.fa.gz__molecule-dayhoff__ksize-16.low_complexity_nucleotides.fasta\n",
      "Writing low complexity (low entropy) peptides to B001498_B109060_A8_S8_R1_001_ground_truth.fastp_trimmed__Homo_sapiens.GRCh38.pep.all.fa.gz__molecule-dayhoff__ksize-16.low_complexity_peptides.fasta\n",
      "17it [00:00, 912.67it/s]\n",
      "Writing coding scores of reads to B001498_B109060_A8_S8_R1_001_ground_truth.fastp_trimmed__Homo_sapiens.GRCh38.pep.all.fa.gz__molecule-dayhoff__ksize-16__coding_scores.csv\n",
      "Writing Noncoding nucleotides to B001498_B109060_A8_S8_R2_001_ground_truth.fastp_trimmed__Homo_sapiens.GRCh38.pep.all.fa.gz__molecule-dayhoff__ksize-16.noncoding_nucleotides.fasta\n",
      "Writing all valid protein-coding translation frames to B001498_B109060_A8_S8_R2_001_ground_truth.fastp_trimmed__Homo_sapiens.GRCh38.pep.all.fa.gz__molecule-dayhoff__ksize-16.coding_peptides.fasta\n",
      "Writing low complexity (low entropy) nucleotides to B001498_B109060_A8_S8_R2_001_ground_truth.fastp_trimmed__Homo_sapiens.GRCh38.pep.all.fa.gz__molecule-dayhoff__ksize-16.low_complexity_nucleotides.fasta\n",
      "Writing low complexity (low entropy) peptides to B001498_B109060_A8_S8_R2_001_ground_truth.fastp_trimmed__Homo_sapiens.GRCh38.pep.all.fa.gz__molecule-dayhoff__ksize-16.low_complexity_peptides.fasta\n",
      "17it [00:00, 1388.27it/s]\n",
      "Writing coding scores of reads to B001498_B109060_A8_S8_R2_001_ground_truth.fastp_trimmed__Homo_sapiens.GRCh38.pep.all.fa.gz__molecule-dayhoff__ksize-16__coding_scores.csv\n",
      "48.88user 14.55system 0:56.60elapsed 112%CPU (0avgtext+0avgdata 5059116maxresident)k\n",
      "0inputs+48outputs (0major+5568960minor)pagefaults 0swaps\n",
      "ksize: 17, molecule: protein\n",
      "Creating peptide bloom filter with file: /home/olga/data_sm/kmer-hashing/classify_coding_vs_noncoding//Homo_sapiens.GRCh38.pep.all.fa.gz\n",
      "Using ksize: 17 and molecule: protein ...\n",
      "\tDone!\n",
      "Writing Noncoding nucleotides to B001498_B109060_A8_S8_R1_001_ground_truth.fastp_trimmed__Homo_sapiens.GRCh38.pep.all.fa.gz__molecule-protein__ksize-17.noncoding_nucleotides.fasta\n",
      "Writing all valid protein-coding translation frames to B001498_B109060_A8_S8_R1_001_ground_truth.fastp_trimmed__Homo_sapiens.GRCh38.pep.all.fa.gz__molecule-protein__ksize-17.coding_peptides.fasta\n",
      "Writing low complexity (low entropy) nucleotides to B001498_B109060_A8_S8_R1_001_ground_truth.fastp_trimmed__Homo_sapiens.GRCh38.pep.all.fa.gz__molecule-protein__ksize-17.low_complexity_nucleotides.fasta\n",
      "Writing low complexity (low entropy) peptides to B001498_B109060_A8_S8_R1_001_ground_truth.fastp_trimmed__Homo_sapiens.GRCh38.pep.all.fa.gz__molecule-protein__ksize-17.low_complexity_peptides.fasta\n",
      "17it [00:00, 892.79it/s]\n",
      "Writing coding scores of reads to B001498_B109060_A8_S8_R1_001_ground_truth.fastp_trimmed__Homo_sapiens.GRCh38.pep.all.fa.gz__molecule-protein__ksize-17__coding_scores.csv\n",
      "Writing Noncoding nucleotides to B001498_B109060_A8_S8_R2_001_ground_truth.fastp_trimmed__Homo_sapiens.GRCh38.pep.all.fa.gz__molecule-protein__ksize-17.noncoding_nucleotides.fasta\n",
      "Writing all valid protein-coding translation frames to B001498_B109060_A8_S8_R2_001_ground_truth.fastp_trimmed__Homo_sapiens.GRCh38.pep.all.fa.gz__molecule-protein__ksize-17.coding_peptides.fasta\n",
      "Writing low complexity (low entropy) nucleotides to B001498_B109060_A8_S8_R2_001_ground_truth.fastp_trimmed__Homo_sapiens.GRCh38.pep.all.fa.gz__molecule-protein__ksize-17.low_complexity_nucleotides.fasta\n",
      "Writing low complexity (low entropy) peptides to B001498_B109060_A8_S8_R2_001_ground_truth.fastp_trimmed__Homo_sapiens.GRCh38.pep.all.fa.gz__molecule-protein__ksize-17.low_complexity_peptides.fasta\n",
      "17it [00:00, 964.65it/s]\n",
      "Writing coding scores of reads to B001498_B109060_A8_S8_R2_001_ground_truth.fastp_trimmed__Homo_sapiens.GRCh38.pep.all.fa.gz__molecule-protein__ksize-17__coding_scores.csv\n",
      "42.74user 8.05system 0:44.80elapsed 113%CPU (0avgtext+0avgdata 5059880maxresident)k\n",
      "0inputs+48outputs (0major+3614422minor)pagefaults 0swaps\n",
      "ksize: 17, molecule: dayhoff\n",
      "Creating peptide bloom filter with file: /home/olga/data_sm/kmer-hashing/classify_coding_vs_noncoding//Homo_sapiens.GRCh38.pep.all.fa.gz\n",
      "Using ksize: 17 and molecule: dayhoff ...\n",
      "\tDone!\n",
      "Writing Noncoding nucleotides to B001498_B109060_A8_S8_R1_001_ground_truth.fastp_trimmed__Homo_sapiens.GRCh38.pep.all.fa.gz__molecule-dayhoff__ksize-17.noncoding_nucleotides.fasta\n",
      "Writing all valid protein-coding translation frames to B001498_B109060_A8_S8_R1_001_ground_truth.fastp_trimmed__Homo_sapiens.GRCh38.pep.all.fa.gz__molecule-dayhoff__ksize-17.coding_peptides.fasta\n",
      "Writing low complexity (low entropy) nucleotides to B001498_B109060_A8_S8_R1_001_ground_truth.fastp_trimmed__Homo_sapiens.GRCh38.pep.all.fa.gz__molecule-dayhoff__ksize-17.low_complexity_nucleotides.fasta\n",
      "Writing low complexity (low entropy) peptides to B001498_B109060_A8_S8_R1_001_ground_truth.fastp_trimmed__Homo_sapiens.GRCh38.pep.all.fa.gz__molecule-dayhoff__ksize-17.low_complexity_peptides.fasta\n",
      "17it [00:00, 1266.60it/s]\n",
      "Writing coding scores of reads to B001498_B109060_A8_S8_R1_001_ground_truth.fastp_trimmed__Homo_sapiens.GRCh38.pep.all.fa.gz__molecule-dayhoff__ksize-17__coding_scores.csv\n",
      "Writing Noncoding nucleotides to B001498_B109060_A8_S8_R2_001_ground_truth.fastp_trimmed__Homo_sapiens.GRCh38.pep.all.fa.gz__molecule-dayhoff__ksize-17.noncoding_nucleotides.fasta\n",
      "Writing all valid protein-coding translation frames to B001498_B109060_A8_S8_R2_001_ground_truth.fastp_trimmed__Homo_sapiens.GRCh38.pep.all.fa.gz__molecule-dayhoff__ksize-17.coding_peptides.fasta\n",
      "Writing low complexity (low entropy) nucleotides to B001498_B109060_A8_S8_R2_001_ground_truth.fastp_trimmed__Homo_sapiens.GRCh38.pep.all.fa.gz__molecule-dayhoff__ksize-17.low_complexity_nucleotides.fasta\n",
      "Writing low complexity (low entropy) peptides to B001498_B109060_A8_S8_R2_001_ground_truth.fastp_trimmed__Homo_sapiens.GRCh38.pep.all.fa.gz__molecule-dayhoff__ksize-17.low_complexity_peptides.fasta\n",
      "17it [00:00, 1412.25it/s]\n",
      "Writing coding scores of reads to B001498_B109060_A8_S8_R2_001_ground_truth.fastp_trimmed__Homo_sapiens.GRCh38.pep.all.fa.gz__molecule-dayhoff__ksize-17__coding_scores.csv\n",
      "42.90user 7.78system 0:45.12elapsed 112%CPU (0avgtext+0avgdata 5059796maxresident)k\n",
      "0inputs+48outputs (0major+3619350minor)pagefaults 0swaps\n",
      "ksize: 18, molecule: protein\n",
      "Creating peptide bloom filter with file: /home/olga/data_sm/kmer-hashing/classify_coding_vs_noncoding//Homo_sapiens.GRCh38.pep.all.fa.gz\n",
      "Using ksize: 18 and molecule: protein ...\n",
      "\tDone!\n",
      "Writing Noncoding nucleotides to B001498_B109060_A8_S8_R1_001_ground_truth.fastp_trimmed__Homo_sapiens.GRCh38.pep.all.fa.gz__molecule-protein__ksize-18.noncoding_nucleotides.fasta\n",
      "Writing all valid protein-coding translation frames to B001498_B109060_A8_S8_R1_001_ground_truth.fastp_trimmed__Homo_sapiens.GRCh38.pep.all.fa.gz__molecule-protein__ksize-18.coding_peptides.fasta\n",
      "Writing low complexity (low entropy) nucleotides to B001498_B109060_A8_S8_R1_001_ground_truth.fastp_trimmed__Homo_sapiens.GRCh38.pep.all.fa.gz__molecule-protein__ksize-18.low_complexity_nucleotides.fasta\n",
      "Writing low complexity (low entropy) peptides to B001498_B109060_A8_S8_R1_001_ground_truth.fastp_trimmed__Homo_sapiens.GRCh38.pep.all.fa.gz__molecule-protein__ksize-18.low_complexity_peptides.fasta\n",
      "17it [00:00, 1097.33it/s]\n",
      "Writing coding scores of reads to B001498_B109060_A8_S8_R1_001_ground_truth.fastp_trimmed__Homo_sapiens.GRCh38.pep.all.fa.gz__molecule-protein__ksize-18__coding_scores.csv\n",
      "Writing Noncoding nucleotides to B001498_B109060_A8_S8_R2_001_ground_truth.fastp_trimmed__Homo_sapiens.GRCh38.pep.all.fa.gz__molecule-protein__ksize-18.noncoding_nucleotides.fasta\n",
      "Writing all valid protein-coding translation frames to B001498_B109060_A8_S8_R2_001_ground_truth.fastp_trimmed__Homo_sapiens.GRCh38.pep.all.fa.gz__molecule-protein__ksize-18.coding_peptides.fasta\n",
      "Writing low complexity (low entropy) nucleotides to B001498_B109060_A8_S8_R2_001_ground_truth.fastp_trimmed__Homo_sapiens.GRCh38.pep.all.fa.gz__molecule-protein__ksize-18.low_complexity_nucleotides.fasta\n",
      "Writing low complexity (low entropy) peptides to B001498_B109060_A8_S8_R2_001_ground_truth.fastp_trimmed__Homo_sapiens.GRCh38.pep.all.fa.gz__molecule-protein__ksize-18.low_complexity_peptides.fasta\n",
      "17it [00:00, 949.47it/s]\n",
      "Writing coding scores of reads to B001498_B109060_A8_S8_R2_001_ground_truth.fastp_trimmed__Homo_sapiens.GRCh38.pep.all.fa.gz__molecule-protein__ksize-18__coding_scores.csv\n",
      "49.18user 13.42system 0:57.42elapsed 109%CPU (0avgtext+0avgdata 5059736maxresident)k\n",
      "0inputs+48outputs (0major+6341047minor)pagefaults 0swaps\n",
      "ksize: 18, molecule: dayhoff\n",
      "Creating peptide bloom filter with file: /home/olga/data_sm/kmer-hashing/classify_coding_vs_noncoding//Homo_sapiens.GRCh38.pep.all.fa.gz\n",
      "Using ksize: 18 and molecule: dayhoff ...\n",
      "\tDone!\n",
      "Writing Noncoding nucleotides to B001498_B109060_A8_S8_R1_001_ground_truth.fastp_trimmed__Homo_sapiens.GRCh38.pep.all.fa.gz__molecule-dayhoff__ksize-18.noncoding_nucleotides.fasta\n",
      "Writing all valid protein-coding translation frames to B001498_B109060_A8_S8_R1_001_ground_truth.fastp_trimmed__Homo_sapiens.GRCh38.pep.all.fa.gz__molecule-dayhoff__ksize-18.coding_peptides.fasta\n",
      "Writing low complexity (low entropy) nucleotides to B001498_B109060_A8_S8_R1_001_ground_truth.fastp_trimmed__Homo_sapiens.GRCh38.pep.all.fa.gz__molecule-dayhoff__ksize-18.low_complexity_nucleotides.fasta\n",
      "Writing low complexity (low entropy) peptides to B001498_B109060_A8_S8_R1_001_ground_truth.fastp_trimmed__Homo_sapiens.GRCh38.pep.all.fa.gz__molecule-dayhoff__ksize-18.low_complexity_peptides.fasta\n",
      "17it [00:00, 942.02it/s]\n",
      "Writing coding scores of reads to B001498_B109060_A8_S8_R1_001_ground_truth.fastp_trimmed__Homo_sapiens.GRCh38.pep.all.fa.gz__molecule-dayhoff__ksize-18__coding_scores.csv\n",
      "Writing Noncoding nucleotides to B001498_B109060_A8_S8_R2_001_ground_truth.fastp_trimmed__Homo_sapiens.GRCh38.pep.all.fa.gz__molecule-dayhoff__ksize-18.noncoding_nucleotides.fasta\n",
      "Writing all valid protein-coding translation frames to B001498_B109060_A8_S8_R2_001_ground_truth.fastp_trimmed__Homo_sapiens.GRCh38.pep.all.fa.gz__molecule-dayhoff__ksize-18.coding_peptides.fasta\n",
      "Writing low complexity (low entropy) nucleotides to B001498_B109060_A8_S8_R2_001_ground_truth.fastp_trimmed__Homo_sapiens.GRCh38.pep.all.fa.gz__molecule-dayhoff__ksize-18.low_complexity_nucleotides.fasta\n",
      "Writing low complexity (low entropy) peptides to B001498_B109060_A8_S8_R2_001_ground_truth.fastp_trimmed__Homo_sapiens.GRCh38.pep.all.fa.gz__molecule-dayhoff__ksize-18.low_complexity_peptides.fasta\n",
      "17it [00:00, 1461.88it/s]\n",
      "Writing coding scores of reads to B001498_B109060_A8_S8_R2_001_ground_truth.fastp_trimmed__Homo_sapiens.GRCh38.pep.all.fa.gz__molecule-dayhoff__ksize-18__coding_scores.csv\n",
      "43.29user 9.03system 0:45.36elapsed 115%CPU (0avgtext+0avgdata 5059488maxresident)k\n",
      "0inputs+48outputs (0major+3514751minor)pagefaults 0swaps\n",
      "ksize: 19, molecule: protein\n",
      "Creating peptide bloom filter with file: /home/olga/data_sm/kmer-hashing/classify_coding_vs_noncoding//Homo_sapiens.GRCh38.pep.all.fa.gz\n",
      "Using ksize: 19 and molecule: protein ...\n",
      "\tDone!\n",
      "Writing Noncoding nucleotides to B001498_B109060_A8_S8_R1_001_ground_truth.fastp_trimmed__Homo_sapiens.GRCh38.pep.all.fa.gz__molecule-protein__ksize-19.noncoding_nucleotides.fasta\n",
      "Writing all valid protein-coding translation frames to B001498_B109060_A8_S8_R1_001_ground_truth.fastp_trimmed__Homo_sapiens.GRCh38.pep.all.fa.gz__molecule-protein__ksize-19.coding_peptides.fasta\n",
      "Writing low complexity (low entropy) nucleotides to B001498_B109060_A8_S8_R1_001_ground_truth.fastp_trimmed__Homo_sapiens.GRCh38.pep.all.fa.gz__molecule-protein__ksize-19.low_complexity_nucleotides.fasta\n",
      "Writing low complexity (low entropy) peptides to B001498_B109060_A8_S8_R1_001_ground_truth.fastp_trimmed__Homo_sapiens.GRCh38.pep.all.fa.gz__molecule-protein__ksize-19.low_complexity_peptides.fasta\n",
      "17it [00:00, 926.82it/s]\n",
      "Writing coding scores of reads to B001498_B109060_A8_S8_R1_001_ground_truth.fastp_trimmed__Homo_sapiens.GRCh38.pep.all.fa.gz__molecule-protein__ksize-19__coding_scores.csv\n",
      "Writing Noncoding nucleotides to B001498_B109060_A8_S8_R2_001_ground_truth.fastp_trimmed__Homo_sapiens.GRCh38.pep.all.fa.gz__molecule-protein__ksize-19.noncoding_nucleotides.fasta\n",
      "Writing all valid protein-coding translation frames to B001498_B109060_A8_S8_R2_001_ground_truth.fastp_trimmed__Homo_sapiens.GRCh38.pep.all.fa.gz__molecule-protein__ksize-19.coding_peptides.fasta\n",
      "Writing low complexity (low entropy) nucleotides to B001498_B109060_A8_S8_R2_001_ground_truth.fastp_trimmed__Homo_sapiens.GRCh38.pep.all.fa.gz__molecule-protein__ksize-19.low_complexity_nucleotides.fasta\n",
      "Writing low complexity (low entropy) peptides to B001498_B109060_A8_S8_R2_001_ground_truth.fastp_trimmed__Homo_sapiens.GRCh38.pep.all.fa.gz__molecule-protein__ksize-19.low_complexity_peptides.fasta\n",
      "17it [00:00, 1283.38it/s]\n",
      "Writing coding scores of reads to B001498_B109060_A8_S8_R2_001_ground_truth.fastp_trimmed__Homo_sapiens.GRCh38.pep.all.fa.gz__molecule-protein__ksize-19__coding_scores.csv\n",
      "44.26user 8.24system 0:46.11elapsed 113%CPU (0avgtext+0avgdata 5060004maxresident)k\n",
      "0inputs+48outputs (0major+3677215minor)pagefaults 0swaps\n",
      "ksize: 19, molecule: dayhoff\n",
      "Creating peptide bloom filter with file: /home/olga/data_sm/kmer-hashing/classify_coding_vs_noncoding//Homo_sapiens.GRCh38.pep.all.fa.gz\n",
      "Using ksize: 19 and molecule: dayhoff ...\n",
      "\tDone!\n",
      "Writing Noncoding nucleotides to B001498_B109060_A8_S8_R1_001_ground_truth.fastp_trimmed__Homo_sapiens.GRCh38.pep.all.fa.gz__molecule-dayhoff__ksize-19.noncoding_nucleotides.fasta\n",
      "Writing all valid protein-coding translation frames to B001498_B109060_A8_S8_R1_001_ground_truth.fastp_trimmed__Homo_sapiens.GRCh38.pep.all.fa.gz__molecule-dayhoff__ksize-19.coding_peptides.fasta\n",
      "Writing low complexity (low entropy) nucleotides to B001498_B109060_A8_S8_R1_001_ground_truth.fastp_trimmed__Homo_sapiens.GRCh38.pep.all.fa.gz__molecule-dayhoff__ksize-19.low_complexity_nucleotides.fasta\n",
      "Writing low complexity (low entropy) peptides to B001498_B109060_A8_S8_R1_001_ground_truth.fastp_trimmed__Homo_sapiens.GRCh38.pep.all.fa.gz__molecule-dayhoff__ksize-19.low_complexity_peptides.fasta\n",
      "17it [00:00, 927.92it/s]\n",
      "Writing coding scores of reads to B001498_B109060_A8_S8_R1_001_ground_truth.fastp_trimmed__Homo_sapiens.GRCh38.pep.all.fa.gz__molecule-dayhoff__ksize-19__coding_scores.csv\n",
      "Writing Noncoding nucleotides to B001498_B109060_A8_S8_R2_001_ground_truth.fastp_trimmed__Homo_sapiens.GRCh38.pep.all.fa.gz__molecule-dayhoff__ksize-19.noncoding_nucleotides.fasta\n",
      "Writing all valid protein-coding translation frames to B001498_B109060_A8_S8_R2_001_ground_truth.fastp_trimmed__Homo_sapiens.GRCh38.pep.all.fa.gz__molecule-dayhoff__ksize-19.coding_peptides.fasta\n",
      "Writing low complexity (low entropy) nucleotides to B001498_B109060_A8_S8_R2_001_ground_truth.fastp_trimmed__Homo_sapiens.GRCh38.pep.all.fa.gz__molecule-dayhoff__ksize-19.low_complexity_nucleotides.fasta\n",
      "Writing low complexity (low entropy) peptides to B001498_B109060_A8_S8_R2_001_ground_truth.fastp_trimmed__Homo_sapiens.GRCh38.pep.all.fa.gz__molecule-dayhoff__ksize-19.low_complexity_peptides.fasta\n",
      "17it [00:00, 969.14it/s]\n",
      "Writing coding scores of reads to B001498_B109060_A8_S8_R2_001_ground_truth.fastp_trimmed__Homo_sapiens.GRCh38.pep.all.fa.gz__molecule-dayhoff__ksize-19__coding_scores.csv\n",
      "43.99user 12.03system 0:50.23elapsed 111%CPU (0avgtext+0avgdata 5059436maxresident)k\n",
      "0inputs+48outputs (0major+5174781minor)pagefaults 0swaps\n",
      "ksize: 20, molecule: protein\n",
      "Creating peptide bloom filter with file: /home/olga/data_sm/kmer-hashing/classify_coding_vs_noncoding//Homo_sapiens.GRCh38.pep.all.fa.gz\n",
      "Using ksize: 20 and molecule: protein ...\n",
      "\tDone!\n",
      "Writing Noncoding nucleotides to B001498_B109060_A8_S8_R1_001_ground_truth.fastp_trimmed__Homo_sapiens.GRCh38.pep.all.fa.gz__molecule-protein__ksize-20.noncoding_nucleotides.fasta\n",
      "Writing all valid protein-coding translation frames to B001498_B109060_A8_S8_R1_001_ground_truth.fastp_trimmed__Homo_sapiens.GRCh38.pep.all.fa.gz__molecule-protein__ksize-20.coding_peptides.fasta\n",
      "Writing low complexity (low entropy) nucleotides to B001498_B109060_A8_S8_R1_001_ground_truth.fastp_trimmed__Homo_sapiens.GRCh38.pep.all.fa.gz__molecule-protein__ksize-20.low_complexity_nucleotides.fasta\n",
      "Writing low complexity (low entropy) peptides to B001498_B109060_A8_S8_R1_001_ground_truth.fastp_trimmed__Homo_sapiens.GRCh38.pep.all.fa.gz__molecule-protein__ksize-20.low_complexity_peptides.fasta\n",
      "17it [00:00, 1045.15it/s]\n",
      "Writing coding scores of reads to B001498_B109060_A8_S8_R1_001_ground_truth.fastp_trimmed__Homo_sapiens.GRCh38.pep.all.fa.gz__molecule-protein__ksize-20__coding_scores.csv\n",
      "Writing Noncoding nucleotides to B001498_B109060_A8_S8_R2_001_ground_truth.fastp_trimmed__Homo_sapiens.GRCh38.pep.all.fa.gz__molecule-protein__ksize-20.noncoding_nucleotides.fasta\n",
      "Writing all valid protein-coding translation frames to B001498_B109060_A8_S8_R2_001_ground_truth.fastp_trimmed__Homo_sapiens.GRCh38.pep.all.fa.gz__molecule-protein__ksize-20.coding_peptides.fasta\n",
      "Writing low complexity (low entropy) nucleotides to B001498_B109060_A8_S8_R2_001_ground_truth.fastp_trimmed__Homo_sapiens.GRCh38.pep.all.fa.gz__molecule-protein__ksize-20.low_complexity_nucleotides.fasta\n",
      "Writing low complexity (low entropy) peptides to B001498_B109060_A8_S8_R2_001_ground_truth.fastp_trimmed__Homo_sapiens.GRCh38.pep.all.fa.gz__molecule-protein__ksize-20.low_complexity_peptides.fasta\n",
      "17it [00:00, 983.60it/s]\n",
      "Writing coding scores of reads to B001498_B109060_A8_S8_R2_001_ground_truth.fastp_trimmed__Homo_sapiens.GRCh38.pep.all.fa.gz__molecule-protein__ksize-20__coding_scores.csv\n",
      "42.62user 7.55system 0:44.64elapsed 112%CPU (0avgtext+0avgdata 5059372maxresident)k\n",
      "0inputs+48outputs (0major+3599804minor)pagefaults 0swaps\n",
      "ksize: 20, molecule: dayhoff\n",
      "Creating peptide bloom filter with file: /home/olga/data_sm/kmer-hashing/classify_coding_vs_noncoding//Homo_sapiens.GRCh38.pep.all.fa.gz\n",
      "Using ksize: 20 and molecule: dayhoff ...\n",
      "\tDone!\n",
      "Writing Noncoding nucleotides to B001498_B109060_A8_S8_R1_001_ground_truth.fastp_trimmed__Homo_sapiens.GRCh38.pep.all.fa.gz__molecule-dayhoff__ksize-20.noncoding_nucleotides.fasta\n",
      "Writing all valid protein-coding translation frames to B001498_B109060_A8_S8_R1_001_ground_truth.fastp_trimmed__Homo_sapiens.GRCh38.pep.all.fa.gz__molecule-dayhoff__ksize-20.coding_peptides.fasta\n",
      "Writing low complexity (low entropy) nucleotides to B001498_B109060_A8_S8_R1_001_ground_truth.fastp_trimmed__Homo_sapiens.GRCh38.pep.all.fa.gz__molecule-dayhoff__ksize-20.low_complexity_nucleotides.fasta\n",
      "Writing low complexity (low entropy) peptides to B001498_B109060_A8_S8_R1_001_ground_truth.fastp_trimmed__Homo_sapiens.GRCh38.pep.all.fa.gz__molecule-dayhoff__ksize-20.low_complexity_peptides.fasta\n",
      "17it [00:00, 919.91it/s]\n",
      "Writing coding scores of reads to B001498_B109060_A8_S8_R1_001_ground_truth.fastp_trimmed__Homo_sapiens.GRCh38.pep.all.fa.gz__molecule-dayhoff__ksize-20__coding_scores.csv\n",
      "Writing Noncoding nucleotides to B001498_B109060_A8_S8_R2_001_ground_truth.fastp_trimmed__Homo_sapiens.GRCh38.pep.all.fa.gz__molecule-dayhoff__ksize-20.noncoding_nucleotides.fasta\n",
      "Writing all valid protein-coding translation frames to B001498_B109060_A8_S8_R2_001_ground_truth.fastp_trimmed__Homo_sapiens.GRCh38.pep.all.fa.gz__molecule-dayhoff__ksize-20.coding_peptides.fasta\n",
      "Writing low complexity (low entropy) nucleotides to B001498_B109060_A8_S8_R2_001_ground_truth.fastp_trimmed__Homo_sapiens.GRCh38.pep.all.fa.gz__molecule-dayhoff__ksize-20.low_complexity_nucleotides.fasta\n",
      "Writing low complexity (low entropy) peptides to B001498_B109060_A8_S8_R2_001_ground_truth.fastp_trimmed__Homo_sapiens.GRCh38.pep.all.fa.gz__molecule-dayhoff__ksize-20.low_complexity_peptides.fasta\n",
      "17it [00:00, 929.15it/s]\n",
      "Writing coding scores of reads to B001498_B109060_A8_S8_R2_001_ground_truth.fastp_trimmed__Homo_sapiens.GRCh38.pep.all.fa.gz__molecule-dayhoff__ksize-20__coding_scores.csv\n",
      "43.96user 8.02system 0:45.82elapsed 113%CPU (0avgtext+0avgdata 5059788maxresident)k\n",
      "0inputs+48outputs (0major+3499776minor)pagefaults 0swaps\n",
      "ksize: 21, molecule: protein\n",
      "Creating peptide bloom filter with file: /home/olga/data_sm/kmer-hashing/classify_coding_vs_noncoding//Homo_sapiens.GRCh38.pep.all.fa.gz\n",
      "Using ksize: 21 and molecule: protein ...\n",
      "\tDone!\n",
      "Writing Noncoding nucleotides to B001498_B109060_A8_S8_R1_001_ground_truth.fastp_trimmed__Homo_sapiens.GRCh38.pep.all.fa.gz__molecule-protein__ksize-21.noncoding_nucleotides.fasta\n",
      "Writing all valid protein-coding translation frames to B001498_B109060_A8_S8_R1_001_ground_truth.fastp_trimmed__Homo_sapiens.GRCh38.pep.all.fa.gz__molecule-protein__ksize-21.coding_peptides.fasta\n",
      "Writing low complexity (low entropy) nucleotides to B001498_B109060_A8_S8_R1_001_ground_truth.fastp_trimmed__Homo_sapiens.GRCh38.pep.all.fa.gz__molecule-protein__ksize-21.low_complexity_nucleotides.fasta\n",
      "Writing low complexity (low entropy) peptides to B001498_B109060_A8_S8_R1_001_ground_truth.fastp_trimmed__Homo_sapiens.GRCh38.pep.all.fa.gz__molecule-protein__ksize-21.low_complexity_peptides.fasta\n",
      "17it [00:00, 1366.54it/s]\n",
      "Writing coding scores of reads to B001498_B109060_A8_S8_R1_001_ground_truth.fastp_trimmed__Homo_sapiens.GRCh38.pep.all.fa.gz__molecule-protein__ksize-21__coding_scores.csv\n",
      "Writing Noncoding nucleotides to B001498_B109060_A8_S8_R2_001_ground_truth.fastp_trimmed__Homo_sapiens.GRCh38.pep.all.fa.gz__molecule-protein__ksize-21.noncoding_nucleotides.fasta\n",
      "Writing all valid protein-coding translation frames to B001498_B109060_A8_S8_R2_001_ground_truth.fastp_trimmed__Homo_sapiens.GRCh38.pep.all.fa.gz__molecule-protein__ksize-21.coding_peptides.fasta\n",
      "Writing low complexity (low entropy) nucleotides to B001498_B109060_A8_S8_R2_001_ground_truth.fastp_trimmed__Homo_sapiens.GRCh38.pep.all.fa.gz__molecule-protein__ksize-21.low_complexity_nucleotides.fasta\n",
      "Writing low complexity (low entropy) peptides to B001498_B109060_A8_S8_R2_001_ground_truth.fastp_trimmed__Homo_sapiens.GRCh38.pep.all.fa.gz__molecule-protein__ksize-21.low_complexity_peptides.fasta\n",
      "17it [00:00, 982.29it/s]\n",
      "Writing coding scores of reads to B001498_B109060_A8_S8_R2_001_ground_truth.fastp_trimmed__Homo_sapiens.GRCh38.pep.all.fa.gz__molecule-protein__ksize-21__coding_scores.csv\n",
      "48.19user 13.34system 0:54.29elapsed 113%CPU (0avgtext+0avgdata 5059520maxresident)k\n",
      "0inputs+48outputs (0major+3518559minor)pagefaults 0swaps\n",
      "ksize: 21, molecule: dayhoff\n",
      "Creating peptide bloom filter with file: /home/olga/data_sm/kmer-hashing/classify_coding_vs_noncoding//Homo_sapiens.GRCh38.pep.all.fa.gz\n",
      "Using ksize: 21 and molecule: dayhoff ...\n",
      "\tDone!\n",
      "Writing Noncoding nucleotides to B001498_B109060_A8_S8_R1_001_ground_truth.fastp_trimmed__Homo_sapiens.GRCh38.pep.all.fa.gz__molecule-dayhoff__ksize-21.noncoding_nucleotides.fasta\n",
      "Writing all valid protein-coding translation frames to B001498_B109060_A8_S8_R1_001_ground_truth.fastp_trimmed__Homo_sapiens.GRCh38.pep.all.fa.gz__molecule-dayhoff__ksize-21.coding_peptides.fasta\n",
      "Writing low complexity (low entropy) nucleotides to B001498_B109060_A8_S8_R1_001_ground_truth.fastp_trimmed__Homo_sapiens.GRCh38.pep.all.fa.gz__molecule-dayhoff__ksize-21.low_complexity_nucleotides.fasta\n",
      "Writing low complexity (low entropy) peptides to B001498_B109060_A8_S8_R1_001_ground_truth.fastp_trimmed__Homo_sapiens.GRCh38.pep.all.fa.gz__molecule-dayhoff__ksize-21.low_complexity_peptides.fasta\n",
      "17it [00:00, 859.85it/s]\n",
      "Writing coding scores of reads to B001498_B109060_A8_S8_R1_001_ground_truth.fastp_trimmed__Homo_sapiens.GRCh38.pep.all.fa.gz__molecule-dayhoff__ksize-21__coding_scores.csv\n",
      "Writing Noncoding nucleotides to B001498_B109060_A8_S8_R2_001_ground_truth.fastp_trimmed__Homo_sapiens.GRCh38.pep.all.fa.gz__molecule-dayhoff__ksize-21.noncoding_nucleotides.fasta\n",
      "Writing all valid protein-coding translation frames to B001498_B109060_A8_S8_R2_001_ground_truth.fastp_trimmed__Homo_sapiens.GRCh38.pep.all.fa.gz__molecule-dayhoff__ksize-21.coding_peptides.fasta\n",
      "Writing low complexity (low entropy) nucleotides to B001498_B109060_A8_S8_R2_001_ground_truth.fastp_trimmed__Homo_sapiens.GRCh38.pep.all.fa.gz__molecule-dayhoff__ksize-21.low_complexity_nucleotides.fasta\n",
      "Writing low complexity (low entropy) peptides to B001498_B109060_A8_S8_R2_001_ground_truth.fastp_trimmed__Homo_sapiens.GRCh38.pep.all.fa.gz__molecule-dayhoff__ksize-21.low_complexity_peptides.fasta\n",
      "17it [00:00, 1333.24it/s]\n",
      "Writing coding scores of reads to B001498_B109060_A8_S8_R2_001_ground_truth.fastp_trimmed__Homo_sapiens.GRCh38.pep.all.fa.gz__molecule-dayhoff__ksize-21__coding_scores.csv\n",
      "48.95user 11.86system 0:55.62elapsed 109%CPU (0avgtext+0avgdata 5059492maxresident)k\n",
      "0inputs+48outputs (0major+3471978minor)pagefaults 0swaps\n",
      "CPU times: user 33.2 s, sys: 5.82 s, total: 39 s\n",
      "Wall time: 27min 39s\n"
     ]
    }
   ],
   "source": [
    "%%time\n",
    "\n",
    "reads = 'B001498_B109060_A8_S8_R1_001_ground_truth.fastp_trimmed.fastq B001498_B109060_A8_S8_R2_001_ground_truth.fastp_trimmed.fastq'\n",
    "peptides = f\"{folder}/Homo_sapiens.GRCh38.pep.all.fa.gz\"\n",
    "partition = '/home/olga/miniconda3/envs/kmer-hashing/bin/khtools partition'\n",
    "\n",
    "from itertools import product\n",
    "\n",
    "ksizes = range(4, 22)\n",
    "molecules = 'protein', 'dayhoff'\n",
    "\n",
    "for ksize, molecule in product(ksizes, molecules):\n",
    "    print(f\"ksize: {ksize}, molecule: {molecule}\")\n",
    "    ! time $partition --csv --peptide-ksize $ksize --molecule $molecule $peptides $reads"
   ]
  },
  {
   "cell_type": "code",
   "execution_count": null,
   "metadata": {
    "persistent_id": "9f196117-3f1e-45bb-a00f-e6a742edbee4"
   },
   "outputs": [],
   "source": [
    "B001498_B109060_A8_S8_R1_coding_ground_truth.csv"
   ]
  }
 ],
 "metadata": {
  "history": [
   {
    "cell": {
     "executionCount": 1,
     "executionEventId": "1926a0e0-8f32-4828-80f5-c3f688e99b6c",
     "hasError": true,
     "id": "fdb9750e-c77d-4c54-9d7d-872155fc3ecc",
     "outputs": [
      {
       "ename": "SyntaxError",
       "evalue": "invalid syntax (<ipython-input-1-0641fa50101b>, line 1)",
       "output_type": "error",
       "traceback": [
        "\u001b[0;36m  File \u001b[0;32m\"<ipython-input-1-0641fa50101b>\"\u001b[0;36m, line \u001b[0;32m1\u001b[0m\n\u001b[0;31m    [Import google sheet as pandas dataframe](https://medium.com/@vince.shields913/reading-google-sheets-into-a-pandas-dataframe-with-gspread-and-oauth2-375b932be7bf)\u001b[0m\n\u001b[0m                 ^\u001b[0m\n\u001b[0;31mSyntaxError\u001b[0m\u001b[0;31m:\u001b[0m invalid syntax\n"
       ]
      }
     ],
     "persistentId": "22fe9bea-89b9-4b73-8b88-8780830347d6",
     "text": "[Import google sheet as pandas dataframe](https://medium.com/@vince.shields913/reading-google-sheets-into-a-pandas-dataframe-with-gspread-and-oauth2-375b932be7bf)"
    },
    "executionTime": "2019-10-19T23:14:16.471Z"
   },
   {
    "cell": {
     "executionCount": 2,
     "executionEventId": "df1ac612-8127-4fad-b151-580ab92cf6b4",
     "hasError": true,
     "id": "8acde4c0-d012-4ed1-87e3-8e4eef553bb5",
     "outputs": [
      {
       "ename": "ModuleNotFoundError",
       "evalue": "No module named 'gspread'",
       "output_type": "error",
       "traceback": [
        "\u001b[0;31m---------------------------------------------------------------------------\u001b[0m",
        "\u001b[0;31mModuleNotFoundError\u001b[0m                       Traceback (most recent call last)",
        "\u001b[0;32m<ipython-input-2-5312e5f94530>\u001b[0m in \u001b[0;36m<module>\u001b[0;34m()\u001b[0m\n\u001b[0;32m----> 1\u001b[0;31m \u001b[0;32mimport\u001b[0m \u001b[0mgspread\u001b[0m\u001b[0;34m\u001b[0m\u001b[0;34m\u001b[0m\u001b[0m\n\u001b[0m\u001b[1;32m      2\u001b[0m \u001b[0;32mfrom\u001b[0m \u001b[0moauth2client\u001b[0m\u001b[0;34m.\u001b[0m\u001b[0mservice_account\u001b[0m \u001b[0;32mimport\u001b[0m \u001b[0mServiceAccountCredentials\u001b[0m\u001b[0;34m\u001b[0m\u001b[0;34m\u001b[0m\u001b[0m\n\u001b[1;32m      3\u001b[0m \u001b[0;32mimport\u001b[0m \u001b[0mpandas\u001b[0m \u001b[0;32mas\u001b[0m \u001b[0mpd\u001b[0m\u001b[0;34m\u001b[0m\u001b[0;34m\u001b[0m\u001b[0m\n\u001b[1;32m      4\u001b[0m \u001b[0;34m\u001b[0m\u001b[0m\n\u001b[1;32m      5\u001b[0m scope = ['https://spreadsheets.google.com/feeds',\n",
        "\u001b[0;31mModuleNotFoundError\u001b[0m: No module named 'gspread'"
       ]
      }
     ],
     "persistentId": "a6030aba-36bd-45b4-b3ca-c5417cb78905",
     "text": "import gspread\nfrom oauth2client.service_account import ServiceAccountCredentials\nimport pandas as pd\n\nscope = ['https://spreadsheets.google.com/feeds',\n         'https://www.googleapis.com/auth/drive']\n\ncredentials = ServiceAccountCredentials.from_json_keyfile_name(\n         '/home/olga/.google/gspread for pandas-d5ffe846d87f.json', scope) \ngc = gspread.authorize(credentials)\n\nsheets = gc.open(\"Classify k-mers in noncoding vs coding RNA seqs\")\nsheet_r1 = sheets.get_worksheet(\"Mouse Lemur bam R1\")\n\ndata = sheet_r1.get_all_values()\nheaders = data.pop(0)\n\ndf = pd.DataFrame(data, columns=headers)\nprint(df.shape)\ndf.head()"
    },
    "executionTime": "2019-10-19T23:14:56.887Z"
   },
   {
    "cell": {
     "executionCount": 3,
     "executionEventId": "7635b3b2-d0d1-4065-a327-ac326e709260",
     "hasError": true,
     "id": "8acde4c0-d012-4ed1-87e3-8e4eef553bb5",
     "outputs": [
      {
       "ename": "ModuleNotFoundError",
       "evalue": "No module named 'oauth2client'",
       "output_type": "error",
       "traceback": [
        "\u001b[0;31m---------------------------------------------------------------------------\u001b[0m",
        "\u001b[0;31mModuleNotFoundError\u001b[0m                       Traceback (most recent call last)",
        "\u001b[0;32m<ipython-input-3-5312e5f94530>\u001b[0m in \u001b[0;36m<module>\u001b[0;34m()\u001b[0m\n\u001b[1;32m      1\u001b[0m \u001b[0;32mimport\u001b[0m \u001b[0mgspread\u001b[0m\u001b[0;34m\u001b[0m\u001b[0;34m\u001b[0m\u001b[0m\n\u001b[0;32m----> 2\u001b[0;31m \u001b[0;32mfrom\u001b[0m \u001b[0moauth2client\u001b[0m\u001b[0;34m.\u001b[0m\u001b[0mservice_account\u001b[0m \u001b[0;32mimport\u001b[0m \u001b[0mServiceAccountCredentials\u001b[0m\u001b[0;34m\u001b[0m\u001b[0;34m\u001b[0m\u001b[0m\n\u001b[0m\u001b[1;32m      3\u001b[0m \u001b[0;32mimport\u001b[0m \u001b[0mpandas\u001b[0m \u001b[0;32mas\u001b[0m \u001b[0mpd\u001b[0m\u001b[0;34m\u001b[0m\u001b[0;34m\u001b[0m\u001b[0m\n\u001b[1;32m      4\u001b[0m \u001b[0;34m\u001b[0m\u001b[0m\n\u001b[1;32m      5\u001b[0m scope = ['https://spreadsheets.google.com/feeds',\n",
        "\u001b[0;31mModuleNotFoundError\u001b[0m: No module named 'oauth2client'"
       ]
      }
     ],
     "persistentId": "a6030aba-36bd-45b4-b3ca-c5417cb78905",
     "text": "import gspread\nfrom oauth2client.service_account import ServiceAccountCredentials\nimport pandas as pd\n\nscope = ['https://spreadsheets.google.com/feeds',\n         'https://www.googleapis.com/auth/drive']\n\ncredentials = ServiceAccountCredentials.from_json_keyfile_name(\n         '/home/olga/.google/gspread for pandas-d5ffe846d87f.json', scope) \ngc = gspread.authorize(credentials)\n\nsheets = gc.open(\"Classify k-mers in noncoding vs coding RNA seqs\")\nsheet_r1 = sheets.get_worksheet(\"Mouse Lemur bam R1\")\n\ndata = sheet_r1.get_all_values()\nheaders = data.pop(0)\n\ndf = pd.DataFrame(data, columns=headers)\nprint(df.shape)\ndf.head()"
    },
    "executionTime": "2019-10-19T23:16:01.217Z"
   },
   {
    "cell": {
     "executionCount": 4,
     "executionEventId": "382877f3-817e-47bc-9749-301e0caa992f",
     "hasError": true,
     "id": "8acde4c0-d012-4ed1-87e3-8e4eef553bb5",
     "outputs": [
      {
       "ename": "TypeError",
       "evalue": "list indices must be integers or slices, not str",
       "output_type": "error",
       "traceback": [
        "\u001b[0;31m---------------------------------------------------------------------------\u001b[0m",
        "\u001b[0;31mTypeError\u001b[0m                                 Traceback (most recent call last)",
        "\u001b[0;32m<ipython-input-4-0462125d703d>\u001b[0m in \u001b[0;36m<module>\u001b[0;34m()\u001b[0m\n\u001b[1;32m     11\u001b[0m \u001b[0;34m\u001b[0m\u001b[0m\n\u001b[1;32m     12\u001b[0m \u001b[0msheets\u001b[0m \u001b[0;34m=\u001b[0m \u001b[0mgc\u001b[0m\u001b[0;34m.\u001b[0m\u001b[0mopen\u001b[0m\u001b[0;34m(\u001b[0m\u001b[0;34m\"Classify k-mers in noncoding vs coding RNA seqs\"\u001b[0m\u001b[0;34m)\u001b[0m\u001b[0;34m\u001b[0m\u001b[0;34m\u001b[0m\u001b[0m\n\u001b[0;32m---> 13\u001b[0;31m \u001b[0msheet_r1\u001b[0m \u001b[0;34m=\u001b[0m \u001b[0msheets\u001b[0m\u001b[0;34m.\u001b[0m\u001b[0mget_worksheet\u001b[0m\u001b[0;34m(\u001b[0m\u001b[0;34m\"Mouse Lemur bam R1\"\u001b[0m\u001b[0;34m)\u001b[0m\u001b[0;34m\u001b[0m\u001b[0;34m\u001b[0m\u001b[0m\n\u001b[0m\u001b[1;32m     14\u001b[0m \u001b[0;34m\u001b[0m\u001b[0m\n\u001b[1;32m     15\u001b[0m \u001b[0mdata\u001b[0m \u001b[0;34m=\u001b[0m \u001b[0msheet_r1\u001b[0m\u001b[0;34m.\u001b[0m\u001b[0mget_all_values\u001b[0m\u001b[0;34m(\u001b[0m\u001b[0;34m)\u001b[0m\u001b[0;34m\u001b[0m\u001b[0;34m\u001b[0m\u001b[0m\n",
        "\u001b[0;32m~/miniconda3/envs/kmer-hashing/lib/python3.6/site-packages/gspread/models.py\u001b[0m in \u001b[0;36mget_worksheet\u001b[0;34m(self, index)\u001b[0m\n\u001b[1;32m    204\u001b[0m \u001b[0;34m\u001b[0m\u001b[0m\n\u001b[1;32m    205\u001b[0m         \u001b[0;32mtry\u001b[0m\u001b[0;34m:\u001b[0m\u001b[0;34m\u001b[0m\u001b[0;34m\u001b[0m\u001b[0m\n\u001b[0;32m--> 206\u001b[0;31m             \u001b[0mproperties\u001b[0m \u001b[0;34m=\u001b[0m \u001b[0msheet_data\u001b[0m\u001b[0;34m[\u001b[0m\u001b[0;34m'sheets'\u001b[0m\u001b[0;34m]\u001b[0m\u001b[0;34m[\u001b[0m\u001b[0mindex\u001b[0m\u001b[0;34m]\u001b[0m\u001b[0;34m[\u001b[0m\u001b[0;34m'properties'\u001b[0m\u001b[0;34m]\u001b[0m\u001b[0;34m\u001b[0m\u001b[0;34m\u001b[0m\u001b[0m\n\u001b[0m\u001b[1;32m    207\u001b[0m             \u001b[0;32mreturn\u001b[0m \u001b[0mWorksheet\u001b[0m\u001b[0;34m(\u001b[0m\u001b[0mself\u001b[0m\u001b[0;34m,\u001b[0m \u001b[0mproperties\u001b[0m\u001b[0;34m)\u001b[0m\u001b[0;34m\u001b[0m\u001b[0;34m\u001b[0m\u001b[0m\n\u001b[1;32m    208\u001b[0m         \u001b[0;32mexcept\u001b[0m \u001b[0;34m(\u001b[0m\u001b[0mKeyError\u001b[0m\u001b[0;34m,\u001b[0m \u001b[0mIndexError\u001b[0m\u001b[0;34m)\u001b[0m\u001b[0;34m:\u001b[0m\u001b[0;34m\u001b[0m\u001b[0;34m\u001b[0m\u001b[0m\n",
        "\u001b[0;31mTypeError\u001b[0m: list indices must be integers or slices, not str"
       ]
      }
     ],
     "persistentId": "a6030aba-36bd-45b4-b3ca-c5417cb78905",
     "text": "import gspread\nfrom oauth2client.service_account import ServiceAccountCredentials\nimport pandas as pd\n\nscope = ['https://spreadsheets.google.com/feeds',\n         'https://www.googleapis.com/auth/drive']\n\ncredentials = ServiceAccountCredentials.from_json_keyfile_name(\n         '/home/olga/.google/gspread for pandas-d5ffe846d87f.json', scope) \ngc = gspread.authorize(credentials)\n\nsheets = gc.open(\"Classify k-mers in noncoding vs coding RNA seqs\")\nsheet_r1 = sheets.get_worksheet(\"Mouse Lemur bam R1\")\n\ndata = sheet_r1.get_all_values()\nheaders = data.pop(0)\n\ndf_r1 = pd.DataFrame(data, columns=headers)\nprint(df_r1.shape)\ndf_r1.head()"
    },
    "executionTime": "2019-10-19T23:16:31.499Z"
   },
   {
    "cell": {
     "executionCount": 5,
     "executionEventId": "92d97418-bef2-45bc-91a5-c8ba4acdc694",
     "hasError": false,
     "id": "1e45dec0-1968-43c1-aff1-f29c6dddc64c",
     "outputs": [
      {
       "data": {
        "text/plain": "<bound method Spreadsheet.worksheets of <Spreadsheet 'Classify k-mers in noncoding vs coding RNA seqs' id:1UahFeKrORSKhNvgDDE9ESw-1u-YoYz-jLF9uY4rrX0E>>"
       },
       "execution_count": 5,
       "metadata": {},
       "output_type": "execute_result"
      }
     ],
     "persistentId": "cba95a56-3660-440b-aa48-5a82a2d07b31",
     "text": "sheets.worksheets"
    },
    "executionTime": "2019-10-19T23:16:55.216Z"
   },
   {
    "cell": {
     "executionCount": 6,
     "executionEventId": "0ccd0364-263f-46e5-b054-d5c7c5f960a1",
     "hasError": false,
     "id": "1e45dec0-1968-43c1-aff1-f29c6dddc64c",
     "outputs": [
      {
       "data": {
        "text/plain": "[<Worksheet 'Sheet1' id:0>,\n <Worksheet 'Sheet2' id:413286362>,\n <Worksheet 'Mouse Lemur bam R1' id:1424491332>,\n <Worksheet 'Mouse Lemur bam R2' id:1748713942>,\n <Worksheet 'Mouse Lemur Fastq R2' id:1656800501>,\n <Worksheet 'Mouse Lemur Fastq R1 ' id:2098712553>]"
       },
       "execution_count": 6,
       "metadata": {},
       "output_type": "execute_result"
      }
     ],
     "persistentId": "cba95a56-3660-440b-aa48-5a82a2d07b31",
     "text": "sheets.worksheets()"
    },
    "executionTime": "2019-10-19T23:16:57.278Z"
   },
   {
    "cell": {
     "executionCount": 7,
     "executionEventId": "c63ec3c0-b294-42a5-83d4-9f1ff82cb96c",
     "hasError": false,
     "id": "8d017eb8-fa17-4724-815c-26667a92c521",
     "outputs": [
      {
       "data": {
        "text/plain": "<bound method Spreadsheet.worksheet of <Spreadsheet 'Classify k-mers in noncoding vs coding RNA seqs' id:1UahFeKrORSKhNvgDDE9ESw-1u-YoYz-jLF9uY4rrX0E>>"
       },
       "execution_count": 7,
       "metadata": {},
       "output_type": "execute_result"
      }
     ],
     "persistentId": "39d5f953-1b7c-413b-8a52-f071ea8a9471",
     "text": "sheets.worksheet"
    },
    "executionTime": "2019-10-19T23:17:16.924Z"
   },
   {
    "cell": {
     "executionCount": 8,
     "executionEventId": "45bf136c-f75d-47ec-abeb-b10e99567187",
     "hasError": true,
     "id": "8d017eb8-fa17-4724-815c-26667a92c521",
     "outputs": [
      {
       "ename": "TypeError",
       "evalue": "worksheet() missing 1 required positional argument: 'title'",
       "output_type": "error",
       "traceback": [
        "\u001b[0;31m---------------------------------------------------------------------------\u001b[0m",
        "\u001b[0;31mTypeError\u001b[0m                                 Traceback (most recent call last)",
        "\u001b[0;32m<ipython-input-8-183df6afe91e>\u001b[0m in \u001b[0;36m<module>\u001b[0;34m()\u001b[0m\n\u001b[0;32m----> 1\u001b[0;31m \u001b[0msheets\u001b[0m\u001b[0;34m.\u001b[0m\u001b[0mworksheet\u001b[0m\u001b[0;34m(\u001b[0m\u001b[0;34m)\u001b[0m\u001b[0;34m\u001b[0m\u001b[0;34m\u001b[0m\u001b[0m\n\u001b[0m",
        "\u001b[0;31mTypeError\u001b[0m: worksheet() missing 1 required positional argument: 'title'"
       ]
      }
     ],
     "persistentId": "39d5f953-1b7c-413b-8a52-f071ea8a9471",
     "text": "sheets.worksheet()"
    },
    "executionTime": "2019-10-19T23:17:20.389Z"
   },
   {
    "cell": {
     "executionCount": 9,
     "executionEventId": "406d7ceb-da0a-45c2-b5d5-9b155c62b9a0",
     "hasError": true,
     "id": "8d017eb8-fa17-4724-815c-26667a92c521",
     "outputs": [
      {
       "ename": "SyntaxError",
       "evalue": "EOL while scanning string literal (<ipython-input-9-052314038efd>, line 1)",
       "output_type": "error",
       "traceback": [
        "\u001b[0;36m  File \u001b[0;32m\"<ipython-input-9-052314038efd>\"\u001b[0;36m, line \u001b[0;32m1\u001b[0m\n\u001b[0;31m    sheets.worksheet('Mouse Lemur bam R1)\u001b[0m\n\u001b[0m                                         ^\u001b[0m\n\u001b[0;31mSyntaxError\u001b[0m\u001b[0;31m:\u001b[0m EOL while scanning string literal\n"
       ]
      }
     ],
     "persistentId": "39d5f953-1b7c-413b-8a52-f071ea8a9471",
     "text": "sheets.worksheet('Mouse Lemur bam R1)"
    },
    "executionTime": "2019-10-19T23:17:28.096Z"
   },
   {
    "cell": {
     "executionCount": 10,
     "executionEventId": "3da3c00f-90a8-421d-8a61-8e329f44fcfa",
     "hasError": false,
     "id": "8d017eb8-fa17-4724-815c-26667a92c521",
     "outputs": [
      {
       "data": {
        "text/plain": "<Worksheet 'Mouse Lemur bam R1' id:1424491332>"
       },
       "execution_count": 10,
       "metadata": {},
       "output_type": "execute_result"
      }
     ],
     "persistentId": "39d5f953-1b7c-413b-8a52-f071ea8a9471",
     "text": "sheets.worksheet('Mouse Lemur bam R1')"
    },
    "executionTime": "2019-10-19T23:17:31.205Z"
   },
   {
    "cell": {
     "executionCount": 11,
     "executionEventId": "d2e104a9-16c4-4c44-a04f-212183f3aff9",
     "hasError": false,
     "id": "8acde4c0-d012-4ed1-87e3-8e4eef553bb5",
     "outputs": [
      {
       "name": "stdout",
       "output_type": "stream",
       "text": "(20, 7)\n"
      },
      {
       "data": {
        "text/html": "<div>\n<style scoped>\n    .dataframe tbody tr th:only-of-type {\n        vertical-align: middle;\n    }\n\n    .dataframe tbody tr th {\n        vertical-align: top;\n    }\n\n    .dataframe thead th {\n        text-align: right;\n    }\n</style>\n<table border=\"1\" class=\"dataframe\">\n  <thead>\n    <tr style=\"text-align: right;\">\n      <th></th>\n      <th>sequence_id</th>\n      <th>sequence</th>\n      <th>chrom</th>\n      <th>start</th>\n      <th>is_coding</th>\n      <th>Notes</th>\n      <th>Alignment</th>\n    </tr>\n  </thead>\n  <tbody>\n    <tr>\n      <th>0</th>\n      <td>A00111:356:HMHLCDSXX:1:1114:10330:17754</td>\n      <td>GATATAAAGATATTTAATAGGTTTTCCAAGGTTGGCAGTTGTGGGA...</td>\n      <td>NC_033661.1</td>\n      <td>36519392</td>\n      <td>TRUE</td>\n      <td></td>\n      <td></td>\n    </tr>\n    <tr>\n      <th>1</th>\n      <td>A00111:356:HMHLCDSXX:1:1120:3703:32393</td>\n      <td>TGGAGCTGTCAGCGCCCCCCGGGCCACAGCCTCGTACTGCAGGGAC...</td>\n      <td>NC_033661.1</td>\n      <td>36526348</td>\n      <td>FALSE</td>\n      <td>Overlaps start codon</td>\n      <td></td>\n    </tr>\n    <tr>\n      <th>2</th>\n      <td>A00111:356:HMHLCDSXX:1:1140:10059:21073</td>\n      <td>CTCATCTCTAGTGGGACAGGCACCAGAGTCCCACAAGCAGCAGTTC...</td>\n      <td>NC_033661.1</td>\n      <td>36508568</td>\n      <td>FALSE</td>\n      <td></td>\n      <td></td>\n    </tr>\n    <tr>\n      <th>3</th>\n      <td>A00111:356:HMHLCDSXX:1:1157:31910:28134</td>\n      <td>CGGCATCCGACCCTGGAGTGAAGAGTAAGCTGGCACGGAGTCCCGA...</td>\n      <td>NC_033661.1</td>\n      <td>36508631</td>\n      <td>FALSE</td>\n      <td>overlaps stop codon</td>\n      <td></td>\n    </tr>\n    <tr>\n      <th>4</th>\n      <td>A00111:356:HMHLCDSXX:1:2136:11198:13870</td>\n      <td>GTCTTTATAAATCTTGTTGGTACTTTCCAAAAAGAGGGTCTCATTG...</td>\n      <td>NC_033661.1</td>\n      <td>36524286</td>\n      <td>TRUE</td>\n      <td>Spliced</td>\n      <td></td>\n    </tr>\n  </tbody>\n</table>\n</div>",
        "text/plain": "                               sequence_id  \\\n0  A00111:356:HMHLCDSXX:1:1114:10330:17754   \n1   A00111:356:HMHLCDSXX:1:1120:3703:32393   \n2  A00111:356:HMHLCDSXX:1:1140:10059:21073   \n3  A00111:356:HMHLCDSXX:1:1157:31910:28134   \n4  A00111:356:HMHLCDSXX:1:2136:11198:13870   \n\n                                            sequence        chrom     start  \\\n0  GATATAAAGATATTTAATAGGTTTTCCAAGGTTGGCAGTTGTGGGA...  NC_033661.1  36519392   \n1  TGGAGCTGTCAGCGCCCCCCGGGCCACAGCCTCGTACTGCAGGGAC...  NC_033661.1  36526348   \n2  CTCATCTCTAGTGGGACAGGCACCAGAGTCCCACAAGCAGCAGTTC...  NC_033661.1  36508568   \n3  CGGCATCCGACCCTGGAGTGAAGAGTAAGCTGGCACGGAGTCCCGA...  NC_033661.1  36508631   \n4  GTCTTTATAAATCTTGTTGGTACTTTCCAAAAAGAGGGTCTCATTG...  NC_033661.1  36524286   \n\n  is_coding                 Notes Alignment  \n0      TRUE                                  \n1     FALSE  Overlaps start codon            \n2     FALSE                                  \n3     FALSE   overlaps stop codon            \n4      TRUE               Spliced            "
       },
       "execution_count": 11,
       "metadata": {},
       "output_type": "execute_result"
      }
     ],
     "persistentId": "a6030aba-36bd-45b4-b3ca-c5417cb78905",
     "text": "import gspread\nfrom oauth2client.service_account import ServiceAccountCredentials\nimport pandas as pd\n\nscope = ['https://spreadsheets.google.com/feeds',\n         'https://www.googleapis.com/auth/drive']\n\ncredentials = ServiceAccountCredentials.from_json_keyfile_name(\n         '/home/olga/.google/gspread for pandas-d5ffe846d87f.json', scope) \ngc = gspread.authorize(credentials)\n\nsheets = gc.open(\"Classify k-mers in noncoding vs coding RNA seqs\")\nsheet_r1 = sheets.worksheet(\"Mouse Lemur bam R1\")\n\ndata = sheet_r1.get_all_values()\nheaders = data.pop(0)\n\ndf_r1 = pd.DataFrame(data, columns=headers)\nprint(df_r1.shape)\ndf_r1.head()"
    },
    "executionTime": "2019-10-19T23:17:39.281Z"
   },
   {
    "cell": {
     "executionCount": 12,
     "executionEventId": "5bb9a08f-1d88-4468-8c48-1bb7ae8c7c77",
     "hasError": false,
     "id": "8acde4c0-d012-4ed1-87e3-8e4eef553bb5",
     "outputs": [
      {
       "name": "stdout",
       "output_type": "stream",
       "text": "(20, 7)\n"
      },
      {
       "data": {
        "text/html": "<div>\n<style scoped>\n    .dataframe tbody tr th:only-of-type {\n        vertical-align: middle;\n    }\n\n    .dataframe tbody tr th {\n        vertical-align: top;\n    }\n\n    .dataframe thead th {\n        text-align: right;\n    }\n</style>\n<table border=\"1\" class=\"dataframe\">\n  <thead>\n    <tr style=\"text-align: right;\">\n      <th></th>\n      <th>sequence_id</th>\n      <th>sequence</th>\n      <th>chrom</th>\n      <th>start</th>\n      <th>is_coding</th>\n      <th>Notes</th>\n      <th>Alignment</th>\n    </tr>\n  </thead>\n  <tbody>\n    <tr>\n      <th>0</th>\n      <td>A00111:356:HMHLCDSXX:1:1114:10330:17754</td>\n      <td>GATATAAAGATATTTAATAGGTTTTCCAAGGTTGGCAGTTGTGGGA...</td>\n      <td>NC_033661.1</td>\n      <td>36519392</td>\n      <td>TRUE</td>\n      <td></td>\n      <td></td>\n    </tr>\n    <tr>\n      <th>1</th>\n      <td>A00111:356:HMHLCDSXX:1:1120:3703:32393</td>\n      <td>TGGAGCTGTCAGCGCCCCCCGGGCCACAGCCTCGTACTGCAGGGAC...</td>\n      <td>NC_033661.1</td>\n      <td>36526348</td>\n      <td>FALSE</td>\n      <td>Overlaps start codon</td>\n      <td></td>\n    </tr>\n    <tr>\n      <th>2</th>\n      <td>A00111:356:HMHLCDSXX:1:1140:10059:21073</td>\n      <td>CTCATCTCTAGTGGGACAGGCACCAGAGTCCCACAAGCAGCAGTTC...</td>\n      <td>NC_033661.1</td>\n      <td>36508568</td>\n      <td>FALSE</td>\n      <td></td>\n      <td></td>\n    </tr>\n    <tr>\n      <th>3</th>\n      <td>A00111:356:HMHLCDSXX:1:1157:31910:28134</td>\n      <td>CGGCATCCGACCCTGGAGTGAAGAGTAAGCTGGCACGGAGTCCCGA...</td>\n      <td>NC_033661.1</td>\n      <td>36508631</td>\n      <td>FALSE</td>\n      <td>overlaps stop codon</td>\n      <td></td>\n    </tr>\n    <tr>\n      <th>4</th>\n      <td>A00111:356:HMHLCDSXX:1:2136:11198:13870</td>\n      <td>GTCTTTATAAATCTTGTTGGTACTTTCCAAAAAGAGGGTCTCATTG...</td>\n      <td>NC_033661.1</td>\n      <td>36524286</td>\n      <td>TRUE</td>\n      <td>Spliced</td>\n      <td></td>\n    </tr>\n  </tbody>\n</table>\n</div>",
        "text/plain": "                               sequence_id  \\\n0  A00111:356:HMHLCDSXX:1:1114:10330:17754   \n1   A00111:356:HMHLCDSXX:1:1120:3703:32393   \n2  A00111:356:HMHLCDSXX:1:1140:10059:21073   \n3  A00111:356:HMHLCDSXX:1:1157:31910:28134   \n4  A00111:356:HMHLCDSXX:1:2136:11198:13870   \n\n                                            sequence        chrom     start  \\\n0  GATATAAAGATATTTAATAGGTTTTCCAAGGTTGGCAGTTGTGGGA...  NC_033661.1  36519392   \n1  TGGAGCTGTCAGCGCCCCCCGGGCCACAGCCTCGTACTGCAGGGAC...  NC_033661.1  36526348   \n2  CTCATCTCTAGTGGGACAGGCACCAGAGTCCCACAAGCAGCAGTTC...  NC_033661.1  36508568   \n3  CGGCATCCGACCCTGGAGTGAAGAGTAAGCTGGCACGGAGTCCCGA...  NC_033661.1  36508631   \n4  GTCTTTATAAATCTTGTTGGTACTTTCCAAAAAGAGGGTCTCATTG...  NC_033661.1  36524286   \n\n  is_coding                 Notes Alignment  \n0      TRUE                                  \n1     FALSE  Overlaps start codon            \n2     FALSE                                  \n3     FALSE   overlaps stop codon            \n4      TRUE               Spliced            "
       },
       "execution_count": 12,
       "metadata": {},
       "output_type": "execute_result"
      }
     ],
     "persistentId": "a6030aba-36bd-45b4-b3ca-c5417cb78905",
     "text": "import gspread\nfrom oauth2client.service_account import ServiceAccountCredentials\nimport pandas as pd\n\nscope = ['https://spreadsheets.google.com/feeds',\n         'https://www.googleapis.com/auth/drive']\n\ncredentials = ServiceAccountCredentials.from_json_keyfile_name(\n         '/home/olga/.google/gspread for pandas-d5ffe846d87f.json', scope) \ngc = gspread.authorize(credentials)\n\ndef read_google_spreadsheet(worksheetname, sheetname):\n\n    sheets = gc.open(worksheetname)\n    sheet_r1 = sheets.worksheet(sheetname)\n\n    data = sheet_r1.get_all_values()\n    headers = data.pop(0)\n\n    df = pd.DataFrame(data, columns=headers)\n    return df\n\ndf_r1 = read_google_spreadsheet(\"Classify k-mers in noncoding vs coding RNA seqs\", \"Mouse Lemur bam R1\")\nprint(df_r1.shape)\ndf_r1.head()"
    },
    "executionTime": "2019-10-19T23:19:08.494Z"
   },
   {
    "cell": {
     "executionCount": 13,
     "executionEventId": "5d262737-6aa0-432a-96e6-2dca258dd325",
     "hasError": false,
     "id": "5d3d661f-efbd-417f-968e-c351f575dfc9",
     "outputs": [
      {
       "name": "stdout",
       "output_type": "stream",
       "text": "(20, 7)\n"
      },
      {
       "data": {
        "text/html": "<div>\n<style scoped>\n    .dataframe tbody tr th:only-of-type {\n        vertical-align: middle;\n    }\n\n    .dataframe tbody tr th {\n        vertical-align: top;\n    }\n\n    .dataframe thead th {\n        text-align: right;\n    }\n</style>\n<table border=\"1\" class=\"dataframe\">\n  <thead>\n    <tr style=\"text-align: right;\">\n      <th></th>\n      <th>sequence_id</th>\n      <th>sequence</th>\n      <th>Chrom</th>\n      <th>start</th>\n      <th>is_coding</th>\n      <th>Notes</th>\n      <th>Alignment</th>\n    </tr>\n  </thead>\n  <tbody>\n    <tr>\n      <th>0</th>\n      <td>A00111:356:HMHLCDSXX:1:1114:10330:17754</td>\n      <td>TTCTCGGTGTGCCATTGTGTGCCAACGCTTTCAGGCTGGGGGCACT...</td>\n      <td></td>\n      <td></td>\n      <td>TRUE</td>\n      <td></td>\n      <td></td>\n    </tr>\n    <tr>\n      <th>1</th>\n      <td>A00111:356:HMHLCDSXX:1:1120:3703:32393</td>\n      <td>GTTAAAGCCTCCATGTAGTCATCCTGTGCATCAATGACATATATCA...</td>\n      <td>NC_033661.1</td>\n      <td>36523128</td>\n      <td>TRUE</td>\n      <td>In a splice junction</td>\n      <td></td>\n    </tr>\n    <tr>\n      <th>2</th>\n      <td>A00111:356:HMHLCDSXX:1:1140:10059:21073</td>\n      <td>TCCTTTAAGTAAAGGACAGTTGTATTATTCAGCTTGATAATTGCCA...</td>\n      <td>NC_033661.1</td>\n      <td>36513997</td>\n      <td>TRUE</td>\n      <td>Is spliced</td>\n      <td></td>\n    </tr>\n    <tr>\n      <th>3</th>\n      <td>A00111:356:HMHLCDSXX:1:1157:31910:28134</td>\n      <td>TCCTTTAAGTAAAGGACAGTTGTATTATTCAGCTTGATAATTGCCA...</td>\n      <td>NC_033661.1</td>\n      <td>36513997</td>\n      <td>TRUE</td>\n      <td>Is spliced</td>\n      <td></td>\n    </tr>\n    <tr>\n      <th>4</th>\n      <td>A00111:356:HMHLCDSXX:1:2136:11198:13870</td>\n      <td>ATACAAGACACGTCAATCACAACATCAATCATGTCACAGCAAAGTT...</td>\n      <td>NC_033661.1</td>\n      <td>36518199</td>\n      <td>TRUE</td>\n      <td></td>\n      <td></td>\n    </tr>\n  </tbody>\n</table>\n</div>",
        "text/plain": "                               sequence_id  \\\n0  A00111:356:HMHLCDSXX:1:1114:10330:17754   \n1   A00111:356:HMHLCDSXX:1:1120:3703:32393   \n2  A00111:356:HMHLCDSXX:1:1140:10059:21073   \n3  A00111:356:HMHLCDSXX:1:1157:31910:28134   \n4  A00111:356:HMHLCDSXX:1:2136:11198:13870   \n\n                                            sequence        Chrom     start  \\\n0  TTCTCGGTGTGCCATTGTGTGCCAACGCTTTCAGGCTGGGGGCACT...                          \n1  GTTAAAGCCTCCATGTAGTCATCCTGTGCATCAATGACATATATCA...  NC_033661.1  36523128   \n2  TCCTTTAAGTAAAGGACAGTTGTATTATTCAGCTTGATAATTGCCA...  NC_033661.1  36513997   \n3  TCCTTTAAGTAAAGGACAGTTGTATTATTCAGCTTGATAATTGCCA...  NC_033661.1  36513997   \n4  ATACAAGACACGTCAATCACAACATCAATCATGTCACAGCAAAGTT...  NC_033661.1  36518199   \n\n  is_coding                 Notes Alignment  \n0      TRUE                                  \n1      TRUE  In a splice junction            \n2      TRUE            Is spliced            \n3      TRUE            Is spliced            \n4      TRUE                                  "
       },
       "execution_count": 13,
       "metadata": {},
       "output_type": "execute_result"
      }
     ],
     "persistentId": "252c3a44-2f31-4fd9-9dd7-d9ad61cce053",
     "text": "df_r2 = read_google_spreadsheet(\"Classify k-mers in noncoding vs coding RNA seqs\", \"Mouse Lemur bam R2\")\nprint(df_r2.shape)\ndf_r2.head()"
    },
    "executionTime": "2019-10-19T23:19:19.334Z"
   },
   {
    "cell": {
     "executionCount": 14,
     "executionEventId": "25ef1f9d-06c6-4291-a048-59ba7d74f1e4",
     "hasError": false,
     "id": "8d017eb8-fa17-4724-815c-26667a92c521",
     "outputs": [],
     "persistentId": "39d5f953-1b7c-413b-8a52-f071ea8a9471",
     "text": "folder = '/home/olga/data_sm/tabula-microcebus/rawdata/fastqs/smartseq2/antoine__190812_A00111_0356_AHMHLCDSXX/B001498_B109060_A8_S8'"
    },
    "executionTime": "2019-10-19T23:20:34.262Z"
   },
   {
    "cell": {
     "executionCount": 15,
     "executionEventId": "c7ec1b44-3fbf-4898-a113-4762ae9108a0",
     "hasError": false,
     "id": "8d017eb8-fa17-4724-815c-26667a92c521",
     "outputs": [],
     "persistentId": "39d5f953-1b7c-413b-8a52-f071ea8a9471",
     "text": "fastq_folder = '/home/olga/data_sm/tabula-microcebus/rawdata/fastqs/smartseq2/antoine__190812_A00111_0356_AHMHLCDSXX/B001498_B109060_A8_S8'"
    },
    "executionTime": "2019-10-19T23:20:51.328Z"
   },
   {
    "cell": {
     "executionCount": 16,
     "executionEventId": "d730fb7d-77cd-4684-897e-442ea9e5da7b",
     "hasError": false,
     "id": "e9ef1c9a-c53e-4dff-9bd1-03b59ee77020",
     "outputs": [],
     "persistentId": "d163babd-797b-4912-b8d2-1cefe7305712",
     "text": "folder = '/home/olga/data_sm/kmer-hashing/classify_coding_vs_noncoding/'\n"
    },
    "executionTime": "2019-10-19T23:20:53.468Z"
   },
   {
    "cell": {
     "executionCount": 17,
     "executionEventId": "f607f07b-ca29-490e-8def-bdc6bc68519d",
     "hasError": false,
     "id": "3eb84b39-0ee5-4006-b72b-87874d323a89",
     "outputs": [
      {
       "name": "stdout",
       "output_type": "stream",
       "text": "/mnt/data_sm/olga/kmer-hashing/classify_coding_vs_noncoding\n"
      }
     ],
     "persistentId": "090cbd6d-8838-4867-98c7-139f37b4436f",
     "text": "cd $folder"
    },
    "executionTime": "2019-10-19T23:20:56.248Z"
   },
   {
    "cell": {
     "executionCount": 18,
     "executionEventId": "2832976f-8d75-4f1e-a4ec-bdc31bc6bc49",
     "hasError": false,
     "id": "6cbb8f41-a762-45d7-9f5b-49dc34f3a327",
     "outputs": [
      {
       "data": {
        "text/plain": "',sequence_id,sequence,chrom,start,is_coding,Notes,Alignment\\n0,A00111:356:HMHLCDSXX:1:1114:10330:17754,GATATAAAGATATTTAATAGGTTTTCCAAGGTTGGCAGTTGTGGGATAAGTTTCTGTACCACCTTACTAAAGGCTTCAAATATTGAATGGTCATAGATAC,NC_033661.1,36519392,TRUE,,\\n1,A00111:356:HMHLCDSXX:1:1120:3703:32393,TGGAGCTGTCAGCGCCCCCCGGGCCACAGCCTCGTACTGCAGGGACATGGTGCTGGAGCCGCCGCCGCCCGCACCCTGACAGGCCAGGCCAGGCCTAGCC,NC_033661.1,36526348,FALSE,Overlaps start codon,\\n2,A00111:356:HMHLCDSXX:1:1140:10059:21073,CTCATCTCTAGTGGGACAGGCACCAGAGTCCCACAAGCAGCAGTTCCCACGTCCTGCAGCACACGGCATCCGACCCTGGAGTGAAGAGTAAGCTGGCACG,NC_033661.1,36508568,FALSE,,\\n3,A00111:356:HMHLCDSXX:1:1157:31910:28134,CGGCATCCGACCCTGGAGTGAAGAGTAAGCTGGCACGGAGTCCCGACGCTGGGATTCAGACTAGATGGCGTTTCTCGGTGTGCCATTGTGTGCCAACGCT,NC_033661.1,36508631,FALSE,overlaps stop codon,\\n4,A00111:356:HMHLCDSXX:1:2136:11198:13870,GTCTTTATAAATCTTGTTGGTACTTTCCAAAAAGAGGGTCTCATTGGGTGACATCTTATGAAACACCACCTTCTGGATGGAGGACTTGCCGCTGCGCCGG,NC_033661.1,36524286,TRUE,Spliced,\\n5,A00111:356:HMHLCDSXX:1:2314:30346:22701,TGGGGACCCCTGGGGGAATGCATCATTGCCGGCCATGAGAATGGAGAGCTCAACCAGTATAGTGCCAAGTCTGGAGAGGTATTGGTGAATGGTAAGGAAC,NC_033661.1,30462868,TRUE,Spliced,\\n6,A00111:356:HMHLCDSXX:2:1136:1570:24345,CGAGCCAGATTGACAGCAATGAGCCCTACATGAAGATCCCTTGCAATGACTCCAAGATCACCAGTGCCGTTTGGGGACCCCTGGGGGAATGCATCATTGC,NC_033661.1,30462722,TRUE,Spliced,\\n7,A00111:356:HMHLCDSXX:2:1216:21305:14152,,NC_033661.1,36523017,TRUE,,\\n8,A00111:356:HMHLCDSXX:2:1322:2067:33505,,NC_033661.1,36508763,TRUE,after trimming 30bp of adapters,\\n9,A00111:356:HMHLCDSXX:2:2402:18954:24580,,NC_033661.1,30461614,TRUE,in EIF3I,\\n10,A00111:356:HMHLCDSXX:3:2340:17689:22545,,NC_033661.1,30462655,TRUE,in EIF3I,\\n11,A00111:356:HMHLCDSXX:3:2350:3974:4366,,NC_033661.1,36524150,TRUE,after trimming 65bp of adapters,\\n12,A00111:356:HMHLCDSXX:4:1109:9787:19132,,NC_033661.1,30462652,TRUE,,\\n13,A00111:356:HMHLCDSXX:4:1129:16767:35947,,NC_033661.1,30462613,TRUE,,\\n14,A00111:356:HMHLCDSXX:4:2331:15619:19742,,NC_033661.1,30463941,TRUE,,\\n15,A00111:356:HMHLCDSXX:4:2561:23710:28745,,NC_033661.1,36513995,TRUE,,\\n16,A00111:356:HMHLCDSXX:1:1120:3703:32393,,NC_033661.1,36526348,TRUE,After trimming 23bp of adapters,\\n17,A00111:356:HMHLCDSXX:1:1114:10330:17754,,NC_033661.1,36519392,TRUE,,\\n18,A00111:356:HMHLCDSXX:1:1140:10059:21073,,NC_033661.1,36508568,FALSE,,\\n19,A00111:356:HMHLCDSXX:2:2158:21739:9079,,NC_033661.1,36524187,TRUE,,\\n'"
       },
       "execution_count": 18,
       "metadata": {},
       "output_type": "execute_result"
      }
     ],
     "persistentId": "48f74c10-508b-4a9a-9ed4-e68a348a6841",
     "text": "df_r1.to_csv()"
    },
    "executionTime": "2019-10-19T23:21:00.590Z"
   },
   {
    "cell": {
     "executionCount": 19,
     "executionEventId": "3f6dd72d-5836-4455-b648-69b63b89aab9",
     "hasError": false,
     "id": "6cbb8f41-a762-45d7-9f5b-49dc34f3a327",
     "outputs": [],
     "persistentId": "48f74c10-508b-4a9a-9ed4-e68a348a6841",
     "text": "df_r1.to_csv(\"B001498_B109060_A8_S8_R1_coding_ground_truth.csv\", index=False)"
    },
    "executionTime": "2019-10-19T23:21:25.730Z"
   },
   {
    "cell": {
     "executionCount": 20,
     "executionEventId": "12385416-70b8-45e3-b362-5d8347644ead",
     "hasError": false,
     "id": "6cbb8f41-a762-45d7-9f5b-49dc34f3a327",
     "outputs": [],
     "persistentId": "48f74c10-508b-4a9a-9ed4-e68a348a6841",
     "text": "df_r1.to_csv(\"B001498_B109060_A8_S8_R1_coding_ground_truth.csv\", index=False)\ndf_r2.to_csv(\"B001498_B109060_A8_S8_R2_coding_ground_truth.csv\", index=False)"
    },
    "executionTime": "2019-10-19T23:21:30.554Z"
   },
   {
    "cell": {
     "executionCount": 21,
     "executionEventId": "195c59f9-42be-4735-a56c-e1e878cf3085",
     "hasError": false,
     "id": "9f081cbe-5eba-4d91-9a15-fbc5ecd6743f",
     "outputs": [
      {
       "name": "stderr",
       "output_type": "stream",
       "text": "/home/olga/miniconda3/envs/kmer-hashing/lib/python3.6/site-packages/ipykernel_launcher.py:1: FutureWarning: The signature of `Series.to_csv` was aligned to that of `DataFrame.to_csv`, and argument 'header' will change its default value from False to True: please pass an explicit value to suppress this warning.\n  \"\"\"Entry point for launching an IPython kernel.\n"
      }
     ],
     "persistentId": "9fbe64d3-4abb-474b-b5ff-4ca17e6d0990",
     "text": "df_r1.sequence_id.to_csv(\"B001498_B109060_A8_S8_ground_truth_read_ids.txt\", index=False)"
    },
    "executionTime": "2019-10-19T23:22:35.650Z"
   },
   {
    "cell": {
     "executionCount": 22,
     "executionEventId": "daef2b27-f8c7-4e18-871e-2d36b966b525",
     "hasError": false,
     "id": "59286e46-ba16-4e78-9fde-0269c10107eb",
     "outputs": [
      {
       "name": "stdout",
       "output_type": "stream",
       "text": "A00111:356:HMHLCDSXX:1:1114:10330:17754\nA00111:356:HMHLCDSXX:1:1120:3703:32393\nA00111:356:HMHLCDSXX:1:1140:10059:21073\nA00111:356:HMHLCDSXX:1:1157:31910:28134\nA00111:356:HMHLCDSXX:1:2136:11198:13870\nA00111:356:HMHLCDSXX:1:2314:30346:22701\nA00111:356:HMHLCDSXX:2:1136:1570:24345\nA00111:356:HMHLCDSXX:2:1216:21305:14152\nA00111:356:HMHLCDSXX:2:1322:2067:33505\nA00111:356:HMHLCDSXX:2:2402:18954:24580\n"
      }
     ],
     "persistentId": "5bbb993c-f2fb-44de-aee0-f4c5c614872f",
     "text": "! head B001498_B109060_A8_S8_ground_truth_read_ids.txt"
    },
    "executionTime": "2019-10-19T23:22:42.490Z"
   },
   {
    "cell": {
     "executionCount": 23,
     "executionEventId": "dbf273c7-eba4-422c-b049-b69c098c8c60",
     "hasError": false,
     "id": "2a8d21eb-7575-40cc-b874-2a47c5d26f54",
     "outputs": [],
     "persistentId": "6350c820-dc76-45ba-bbff-397bc1b07176",
     "text": "! zgrep -A 3 --file B001498_B109060_A8_S8_ground_truth_read_ids.txt $fastq_folder/B001498_B109060_A8_S8_R1_001.fastq.gz > $folder/B001498_B109060_A8_S8_R1_001_ground_truth.fastq "
    },
    "executionTime": "2019-10-19T23:23:17.312Z"
   },
   {
    "cell": {
     "executionCount": 24,
     "executionEventId": "6a3816db-1115-423a-9c12-2c6d915fa3c3",
     "hasError": false,
     "id": "5db70579-7683-40fc-911c-a8219bffb75a",
     "outputs": [],
     "persistentId": "bcc1021d-0654-4eb4-a8c6-9774b0ef6e3d",
     "text": "! zgrep -A 3 --file B001498_B109060_A8_S8_ground_truth_read_ids.txt $fastq_folder/B001498_B109060_A8_S8_R2_001.fastq.gz > $folder/B001498_B109060_A8_S8_R2_001_ground_truth.fastq "
    },
    "executionTime": "2019-10-19T23:23:25.783Z"
   },
   {
    "cell": {
     "executionCount": 25,
     "executionEventId": "4797484f-314a-479d-957e-9529bfaf4ca9",
     "hasError": false,
     "id": "add55403-b84e-499a-8d6d-b643f0090eb7",
     "outputs": [
      {
       "name": "stdout",
       "output_type": "stream",
       "text": "total 239G\ndrwxrwxr-x 2 olga olga 4.0K Oct 19 16:22 .\ndrwxrwxr-x 5 olga olga 4.0K Sep 14 08:39 ..\n-rw-rw-r-- 1 olga olga  792 Oct 19 16:21 B001498_B109060_A8_S8_ground_truth_read_ids.txt\n-rw-rw-r-- 1 olga olga 4.7K Oct 19 16:22 B001498_B109060_A8_S8_R1_001_ground_truth.fastq\n-rw-rw-r-- 1 olga olga 2.3K Oct 19 16:20 B001498_B109060_A8_S8_R1_coding_ground_truth.csv\n-rw-rw-r-- 1 olga olga 4.7K Oct 19 16:22 B001498_B109060_A8_S8_R2_001_ground_truth.fastq\n-rw-rw-r-- 1 olga olga 2.2K Oct 19 16:20 B001498_B109060_A8_S8_R2_coding_ground_truth.csv\n-rw-rw-r-- 1 olga olga  21M Sep 14 06:46 Homo_sapiens.GRCh38.cds.all.fa.gz\n-rw-rw-r-- 1 olga olga  16M Sep 14 06:46 Homo_sapiens.GRCh38.ncrna.fa.gz\n-rw-rw-r-- 1 olga olga  14M Sep 14 06:46 Homo_sapiens.GRCh38.pep.all.fa.gz\n-rw-rw-r-- 1 olga olga 2.6M Oct 13 17:26 Homo_sapiens.GRCh38.pep.subset.fa\n-rw-rw-r-- 1 olga olga 489K Oct 13 17:26 Homo_sapiens.GRCh38.pep.subset.fa.gz\n-rw-rw-r-- 1 olga olga  15G Sep 14 07:11 human_cds_k15.nodegraph\n-rw-rw-r-- 1 olga olga   65 Sep 14 07:11 human_cds_k15.nodegraph.info\n-rw-rw-r-- 1 olga olga  15G Sep 14 07:22 human_cds_k17.nodegraph\n-rw-rw-r-- 1 olga olga   65 Sep 14 07:22 human_cds_k17.nodegraph.info\n-rw-rw-r-- 1 olga olga  15G Sep 14 07:30 human_cds_k19.nodegraph\n-rw-rw-r-- 1 olga olga   65 Sep 14 07:30 human_cds_k19.nodegraph.info\n-rw-rw-r-- 1 olga olga  15G Sep 14 07:39 human_cds_k21.nodegraph\n-rw-rw-r-- 1 olga olga   65 Sep 14 07:39 human_cds_k21.nodegraph.info\n-rw-rw-r-- 1 olga olga  15G Sep 14 07:47 human_cds_k23.nodegraph\n-rw-rw-r-- 1 olga olga   65 Sep 14 07:47 human_cds_k23.nodegraph.info\n-rw-rw-r-- 1 olga olga  15G Sep 14 07:55 human_cds_k25.nodegraph\n-rw-rw-r-- 1 olga olga   65 Sep 14 07:55 human_cds_k25.nodegraph.info\n-rw-rw-r-- 1 olga olga  15G Sep 14 08:03 human_cds_k27.nodegraph\n-rw-rw-r-- 1 olga olga   65 Sep 14 08:03 human_cds_k27.nodegraph.info\n-rw-rw-r-- 1 olga olga  15G Sep 14 08:12 human_cds_k31.nodegraph\n-rw-rw-r-- 1 olga olga   65 Sep 14 08:12 human_cds_k31.nodegraph.info\n-rw-rw-r-- 1 olga olga  15G Sep 14 07:18 human_ncrna_k15.nodegraph\n-rw-rw-r-- 1 olga olga   65 Sep 14 07:18 human_ncrna_k15.nodegraph.info\n-rw-rw-r-- 1 olga olga 5.7M Sep 14 07:15 human_ncrna_k15.nodegraph.tagset\n-rw-rw-r-- 1 olga olga  15G Sep 14 07:26 human_ncrna_k17.nodegraph\n-rw-rw-r-- 1 olga olga   65 Sep 14 07:26 human_ncrna_k17.nodegraph.info\n-rw-rw-r-- 1 olga olga  15G Sep 14 07:34 human_ncrna_k19.nodegraph\n-rw-rw-r-- 1 olga olga   65 Sep 14 07:34 human_ncrna_k19.nodegraph.info\n-rw-rw-r-- 1 olga olga  15G Sep 14 07:42 human_ncrna_k21.nodegraph\n-rw-rw-r-- 1 olga olga   65 Sep 14 07:43 human_ncrna_k21.nodegraph.info\n-rw-rw-r-- 1 olga olga  15G Sep 14 07:51 human_ncrna_k23.nodegraph\n-rw-rw-r-- 1 olga olga   65 Sep 14 07:51 human_ncrna_k23.nodegraph.info\n-rw-rw-r-- 1 olga olga  15G Sep 14 07:59 human_ncrna_k25.nodegraph\n-rw-rw-r-- 1 olga olga   65 Sep 14 07:59 human_ncrna_k25.nodegraph.info\n-rw-rw-r-- 1 olga olga  15G Sep 14 08:07 human_ncrna_k27.nodegraph\n-rw-rw-r-- 1 olga olga   65 Sep 14 08:07 human_ncrna_k27.nodegraph.info\n-rw-rw-r-- 1 olga olga  15G Sep 14 08:16 human_ncrna_k31.nodegraph\n-rw-rw-r-- 1 olga olga   65 Sep 14 08:16 human_ncrna_k31.nodegraph.info\n-rw-rw-r-- 1 olga olga 2.0M Oct 19 14:13 Lambert_Jolma_Campitelli_etal_2018_human_transcription_factors.csv\n-rw-r--r-- 1 olga olga  52M Sep 18 05:33 SRR306838_GSM752691_hsa_br_F_1_trimmed.fq.gz\n-rw-rw-r-- 1 olga olga  26K Oct 11 23:03 SRR306838_GSM752691_hsa_br_F_1_trimmed_subsampled.coding_peptides.fasta\n-rw-r--r-- 1 olga olga  72K Sep 18 05:33 SRR306838_GSM752691_hsa_br_F_1_trimmed_subsampled.fq.gz\n-rw-rw-r-- 1 olga olga  132 Oct 11 23:03 SRR306838_GSM752691_hsa_br_F_1_trimmed_subsampled.low_complexity_nucleotides.fasta\n-rw-rw-r-- 1 olga olga    0 Oct 11 22:41 SRR306838_GSM752691_hsa_br_F_1_trimmed_subsampled.low_complexity_peptides.fasta\n-rw-rw-r-- 1 olga olga  91K Oct 11 23:03 SRR306838_GSM752691_hsa_br_F_1_trimmed_subsampled.noncoding_nucleotides.fasta\n"
      }
     ],
     "persistentId": "fd470755-72be-4e98-866d-a444bb400582",
     "text": "! ls -lha"
    },
    "executionTime": "2019-10-19T23:23:29.960Z"
   },
   {
    "cell": {
     "executionCount": 26,
     "executionEventId": "881cbffe-1475-41cd-8cf0-4f505e130c30",
     "hasError": false,
     "id": "115830d4-6805-4523-a81a-f47e27cbe013",
     "outputs": [
      {
       "name": "stdout",
       "output_type": "stream",
       "text": "head: cannot open 'B001498_B109060_A8_S8_R8_001_ground_truth.fastq' for reading: No such file or directory\n"
      }
     ],
     "persistentId": "487d5aa0-a2e6-494e-aca7-8ab8317d42bb",
     "text": "! head B001498_B109060_A8_S8_R8_001_ground_truth.fastq"
    },
    "executionTime": "2019-10-19T23:23:42.399Z"
   },
   {
    "cell": {
     "executionCount": 27,
     "executionEventId": "8b7d6c66-981f-4612-92ec-7cfe805051c4",
     "hasError": false,
     "id": "115830d4-6805-4523-a81a-f47e27cbe013",
     "outputs": [
      {
       "name": "stdout",
       "output_type": "stream",
       "text": "==> B001498_B109060_A8_S8_R1_001_ground_truth.fastq <==\n@A00111:356:HMHLCDSXX:1:1114:10330:17754 1:N:0:TGTGTCCACTCC+CTCCATAAGGGA\nGTATCTATGACCATTCAATATTTGAAGCCTTTAGTAAGGTGGTACAGAAACTTATCCCACAACTGCCAACCTTGGAAAACCTATTAAATATCTTTATATC\n+\nFFFFFFFFFFFFFFFFFF,F,FFFFFFFFFFFFFF:FFFFFFFFFF:FFFFFFFFFFFFFFFFFFFFFFFFFFFFFFFF:FF,FFFF,FF:FFFFFFFFF\n--\n@A00111:356:HMHLCDSXX:1:1120:3703:32393 1:N:0:TGTGTCCACTCC+CTCCATAAGGGA\nGGCTAGGCCTGGCCTGGCCTGTCAGGGTGCGGGCGGCGGCGGCTCCAGCACCATGTCCCTGCAGTACGAGGCTGTGGCCCGGGGGGCGCTGACAGCTCCA\n+\nFFFFFFFFFFFFFFFFFFFFFFFFFFFFFFFFFFFFFFFFFF:FFFFFFFFFFFFFFFFF:FFFFFFFFFFFFFFFFFFFFFFFFFFFFFFFFFFFFFFF\n--\n\n==> B001498_B109060_A8_S8_R2_001_ground_truth.fastq <==\n@A00111:356:HMHLCDSXX:1:1114:10330:17754 2:N:0:TGTGTCCACTCC+CTCCATAAGGGA\nTTCTCGGTGTGCCATTGTGTGCCAACGCTTTCAGGCTGGGGGCACTGGTCTGGTGACCACAGCTCCTGTGAGAAGTCACGCCCACTTCAAAAACCTCATG\n+\nFFFFFFFFFFFFFFFFFFF,F:FFFFFFFFFFFFFFFFFFFFFFFFFF,FFFFFF:FFFF:FFFFFFFFFFFFFFFFFF,FFFFFFFFFF,,:FFFFFFF\n--\n@A00111:356:HMHLCDSXX:1:1120:3703:32393 2:N:0:TGTGTCCACTCC+CTCCATAAGGGA\nGTTAAAGCCTCCATGTAGTCATCCTGTGCATCAATGACATATATCAATGCTCCTGTTCCCCTGAAGATCATCTCATAGTCAAATGTTGGGTCAAAAAAGT\n+\nFFFFFFFFFFFFFFFFFFFFFFFFFFFFFFFFFFFFFFFFFFFFFFFFFFFFFFFF:FFFFFFFFFFFFFFFFFFFFFFFFFFFFFFFFFFFFFFF:FFF\n--\n"
      }
     ],
     "persistentId": "487d5aa0-a2e6-494e-aca7-8ab8317d42bb",
     "text": "! head B001498_B109060_A8_S8_R*_001_ground_truth.fastq"
    },
    "executionTime": "2019-10-19T23:23:46.703Z"
   },
   {
    "cell": {
     "executionCount": 28,
     "executionEventId": "79841ff1-babe-4577-9651-0ee17310ed87",
     "hasError": false,
     "id": "5d879157-4ced-46f2-b786-b5088c80ab32",
     "outputs": [
      {
       "name": "stderr",
       "output_type": "stream",
       "text": "Read1 before filtering:\ntotal reads: 17\ntotal bases: 1700\nQ20 bases: 1684(99.0588%)\nQ30 bases: 1634(96.1176%)\n\nRead2 before filtering:\ntotal reads: 17\ntotal bases: 1700\nQ20 bases: 1673(98.4118%)\nQ30 bases: 1617(95.1176%)\n\nRead1 after filtering:\ntotal reads: 17\ntotal bases: 1670\nQ20 bases: 1654(99.0419%)\nQ30 bases: 1607(96.2275%)\n\nRead2 aftering filtering:\ntotal reads: 17\ntotal bases: 1670\nQ20 bases: 1645(98.503%)\nQ30 bases: 1589(95.1497%)\n\nFiltering result:\nreads passed filter: 34\nreads failed due to low quality: 0\nreads failed due to too many N: 0\nreads failed due to too short: 0\nreads with adapter trimmed: 2\nbases trimmed due to adapters: 60\n\nDuplication rate: 0%\n\nInsert size peak (evaluated by paired-end reads): 70\n\nJSON report: fastp.json\nHTML report: fastp.html\n\nfastp -i B001498_B109060_A8_S8_R1_001_ground_truth.fastq -I B001498_B109060_A8_S8_R2_001_ground_truth.fastq -o B001498_B109060_A8_S8_R1_001_ground_truth.fastp_trimmed.fastq -O B001498_B109060_A8_S8_R2_001_ground_truth.fastp_trimmed.fastq \nfastp v0.20.0, time used: 0 seconds\n"
      }
     ],
     "persistentId": "1177b612-e132-42bc-8087-0b2017a3c9b9",
     "text": "%%bash\n\nfastp -i B001498_B109060_A8_S8_R1_001_ground_truth.fastq \\\n    -I B001498_B109060_A8_S8_R2_001_ground_truth.fastq \\\n    -o B001498_B109060_A8_S8_R1_001_ground_truth.fastp_trimmed.fastq \\\n    -O B001498_B109060_A8_S8_R2_001_ground_truth.fastp_trimmed.fastq\n"
    },
    "executionTime": "2019-10-19T23:26:29.028Z"
   },
   {
    "cell": {
     "executionCount": 29,
     "executionEventId": "a14df5c5-b6ae-4dd4-b701-4c158bb70616",
     "hasError": false,
     "id": "48cbea58-df3b-42af-a0a6-517c3c2e76a7",
     "outputs": [
      {
       "name": "stdout",
       "output_type": "stream",
       "text": "20 B001498_B109060_A8_S8_ground_truth_read_ids.txt\n"
      }
     ],
     "persistentId": "43a274e8-7da8-4adc-91d8-a9f3154aaf9c",
     "text": "! wc -l B001498_B109060_A8_S8_ground_truth_read_ids.txt"
    },
    "executionTime": "2019-10-19T23:26:49.359Z"
   },
   {
    "cell": {
     "executionCount": 30,
     "executionEventId": "70d920a7-8854-4f55-9af5-e8fb024932fa",
     "hasError": false,
     "id": "5d5ffdc4-88a0-4f20-8722-83e0546c937a",
     "outputs": [
      {
       "data": {
        "text/plain": "17"
       },
       "execution_count": 30,
       "metadata": {},
       "output_type": "execute_result"
      }
     ],
     "persistentId": "4beb6778-5b2e-404d-b4d6-802a426d362b",
     "text": "df_r1.sequence_id.nunique()"
    },
    "executionTime": "2019-10-19T23:26:57.454Z"
   },
   {
    "cell": {
     "executionCount": 31,
     "executionEventId": "26d7c997-a20a-40ef-84b2-d09a28b2d5a4",
     "hasError": false,
     "id": "2c5d7766-dcbc-4d50-ae7f-f12a30d0c89d",
     "outputs": [
      {
       "name": "stdout",
       "output_type": "stream",
       "text": "{\n\t\"summary\": {\n\t\t\"before_filtering\": {\n\t\t\t\"total_reads\":34,\n\t\t\t\"total_bases\":3400,\n\t\t\t\"q20_bases\":3357,\n\t\t\t\"q30_bases\":3251,\n\t\t\t\"q20_rate\":0.987353,\n\t\t\t\"q30_rate\":0.956176,\n\t\t\t\"read1_mean_length\":100,\n\t\t\t\"read2_mean_length\":100,\n\t\t\t\"gc_content\":0.485882\n\t\t},\n\t\t\"after_filtering\": {\n\t\t\t\"total_reads\":34,\n\t\t\t\"total_bases\":3340,\n\t\t\t\"q20_bases\":3299,\n\t\t\t\"q30_bases\":3196,\n\t\t\t\"q20_rate\":0.987725,\n\t\t\t\"q30_rate\":0.956886,\n\t\t\t\"read1_mean_length\":98,\n\t\t\t\"read2_mean_length\":98,\n\t\t\t\"gc_content\":0.485329\n\t\t}\n\t},\n\t\"filtering_result\": {\n\t\t\"passed_filter_reads\": 34,\n\t\t\"low_quality_reads\": 0,\n\t\t\"too_many_N_reads\": 0,\n\t\t\"too_short_reads\": 0,\n\t\t\"too_long_reads\": 0\n\t},\n\t\"duplication\": {\n\t\t\"rate\": 0,\n\t\t\"histogram\": [16,0,0,0,0,0,0,0,0,0,0,0,0,0,0,0,0,0,0,0,0,0,0,0,0,0,0,0,0,0,0],\n\t\t\"mean_gc\": [0.491667,0,0,0,0,0,0,0,0,0,0,0,0,0,0,0,0,0,0,0,0,0,0,0,0,0,0,0,0,0,0]\n\t},\n\t\"insert_size\": {\n\t\t\"peak\": 70,\n\t\t\"unknown\": 16,\n\t\t\"histogram\": [0,0,0,0,0,0,0,0,0,0,0,0,0,0,0,0,0,0,0,0,0,0,0,0,0,0,0,0,0,0,0,0,0,0,0,0,0,0,0,0,0,0,0,0,0,0,0,0,0,0,0,0,0,0,0,0,0,0,0,0,0,0,0,0,0,0,0,0,0,0,1,0,0,0,0,0,0,0,0,0,0,0,0,0,0,0,0,0,0,0,0,0,0,0,0,0,0,0,0,0,0,0,0,0,0,0,0,0,0,0,0,0,0,0,0,0,0,0,0,0,0,0,0,0,0,0,0,0,0,0,0,0,0,0,0,0,0,0,0,0,0,0,0,0,0,0,0,0,0,0,0,0,0,0,0,0,0,0,0,0,0,0,0,0,0,0,0,0,0,0,0,0,0,0,0,0,0,0,0,0,0,0,0,0,0,0,0,0,0,0,0,0,0,0,0,0,0,0,0,0,0,0,0,0,0,0,0,0,0,0,0,0,0,0,0,0,0,0,0,0,0,0,0,0,0,0,0,0,0,0,0,0,0,0,0,0,0,0,0,0,0,0,0,0,0,0,0,0,0,0,0,0,0,0,0,0,0,0,0,0,0,0,0,0,0,0,0,0,0,0,0,0,0,0,0,0,0,0,0,0,0,0,0,0,0,0,0,0,0,0,0,0,0,0,0,0,0,0,0,0,0,0,0,0,0,0,0,0,0,0,0,0,0,0,0,0,0,0,0,0,0,0,0,0,0,0,0,0,0,0,0,0,0,0,0,0,0,0,0,0,0,0,0,0,0,0,0,0,0,0,0,0,0,0,0,0,0,0,0,0,0,0,0,0,0,0,0,0,0,0,0,0,0,0,0,0,0,0,0,0,0,0,0,0,0,0,0,0,0,0,0,0,0,0,0,0,0,0,0,0,0,0,0,0,0,0,0,0,0,0,0,0,0,0,0,0,0,0,0,0,0,0,0,0,0,0,0,0,0,0,0,0,0,0,0,0,0,0,0,0,0,0,0,0,0,0,0,0,0,0,0,0,0,0,0,0,0,0,0,0,0,0,0,0,0,0,0,0,0,0,0,0,0,0,0,0,0,0,0,0,0,0,0,0,0,0,0,0,0,0,0,0,0,0,0,0,0,0,0,0,0,0,0,0,0,0,0,0,0,0,0,0]\n\t},\n\t\"adapter_cutting\": {\n\t\t\"adapter_trimmed_reads\": 2,\n\t\t\"adapter_trimmed_bases\": 60,\n\t\t\"read1_adapter_sequence\": \"unspecified\",\n\t\t\"read2_adapter_sequence\": \"unspecified\",\n\t\t\"read1_adapter_counts\": {\"CTGTCTCTTATACACATCTCCGAGCCCACG\":1},\n\t\t\"read2_adapter_counts\": {\"CTGTCTCTTATACACATCTGACGCTGCCGA\":1}\n\t},\n\t\"read1_before_filtering\": {\n\t\t\"total_reads\": 17,\n\t\t\"total_bases\": 1700,\n\t\t\"q20_bases\": 1684,\n\t\t\"q30_bases\": 1634,\n\t\t\"total_cycles\": 100,\n\t\t\"quality_curves\": {\n\t\t\t\"A\":[37,33.9412,37,37,34.6,37,37,37,37,37,37,37,37,37,37,37,37,32.6667,37,37,37,37,37,37,37,37,37,37,37,34,37,34,37,37,35,32.2,37,37,37,37,37,31.8,37,37,37,37,37,37,37,37,37,37,37,37,37,37,37,37,37,35.5,37,37,37,37,37,37,37,37,37,37,37,37,37,37,31,37,37,37,37,37,37,37,30.5,37,33.2857,37,34.6,31.8,37,37,37,37,37,30.5,37,34.6,37,37,37,37],\n\t\t\t\"T\":[37,37,37,37,37,37,37,37,37,37,37,37,37,37,37,37,37,37,30.5,37,30.5,37,37,37,31,37,37,37,37,37,37,37,37,37,37,37,37,37,37,37,37,35,37,35.6667,37,34,37,37,37,37,37,35,37,37,37,37,37,37,37,37,37,37,37,37,37,35,37,37,37,37,37,35,37,34,37,37,37,37,35,37,34,37,37,37,37,37,37,37,34,34.6,35,37,37,37,37,37,34,37,37,37],\n\t\t\t\"C\":[31,24,37,37,37,37,37,37,37,37,37,37,34,37,37,37,37,37,37,37,37,37,37,37,34.6,37,37,37,37,37,37,37,33,37,37,37,37,37,37,37,37,37,34,37,37,37,37,37,37,37,37,37,37,37,37,37,37,37,37,37,34,37,37,37,37,37,37,37,37,37,37,37,37,37,37,37,37,37,37,34,37,33,33,37,35,37,37,37,37,37,37,37,37,37,37,37,37,37,37,37],\n\t\t\t\"G\":[33.2857,37,37,37,37,37,33,37,37,37,37,37,37,33,37,37,37,37,34,37,37,37,37,37,37,37,37,37,37,37,37,37,37,37,37,37,37,35,37,32.6667,37,37,37,25,37,37,34.6,35,37,37,37,37,37,37,37,33,37,37,37,37,34.6,37,37,37,37,34.6,37,34,37,37,37,37,37,37,37,37,37,31.8,37,34,37,37,37,37,37,34.6,37,33,37,37,37,37,37,37,37,37,37,37,37,37],\n\t\t\t\"mean\":[34.0588,33.9412,37,37,36.2941,37,36.2941,37,37,37,37,37,36.2941,36.2941,37,37,34.9412,35.4706,34.7647,37,35.4706,37,37,37,35.5882,37,37,37,37,36.2941,37,36.2941,36.2941,37,36.2941,35.5882,37,36.2941,37,35.4706,37,34.7647,36.2941,35.5882,37,36.2941,36.2941,36.2941,37,37,37,36.2941,37,37,37,36.2941,37,37,37,36.2941,35.5882,37,37,37,37,35.5882,37,36.2941,37,37,37,36.2941,37,36.2941,36.2941,37,37,35.4706,36.2941,35.5882,36.2941,36.2941,34.7647,37,32.7059,36.2941,34.2353,34.0588,36.2941,36.2941,36.2941,37,37,35.4706,37,36.2941,36.2941,37,37,37]\n\t\t},\n\t\t\"content_curves\": {\n\t\t\t\"A\":[0.294118,0,0.411765,0.235294,0.294118,0.176471,0.235294,0.117647,0.117647,0.294118,0.235294,0.294118,0.352941,0.352941,0.235294,0.176471,0.352941,0.352941,0.352941,0.294118,0.235294,0.352941,0.411765,0.235294,0.411765,0.352941,0.352941,0.352941,0.235294,0.235294,0.235294,0.235294,0.294118,0.117647,0.352941,0.294118,0.235294,0.235294,0.176471,0.117647,0.235294,0.294118,0.235294,0.235294,0.0588235,0.235294,0.294118,0.176471,0.294118,0.176471,0.117647,0.235294,0.117647,0.411765,0.176471,0.235294,0.235294,0.235294,0.235294,0.470588,0.352941,0.294118,0.235294,0.235294,0.235294,0.0588235,0.0588235,0.176471,0.235294,0.176471,0.176471,0.117647,0.352941,0.294118,0.117647,0.352941,0.352941,0.352941,0.294118,0.411765,0.117647,0.294118,0.235294,0.294118,0.411765,0.352941,0.294118,0.294118,0.411765,0.411765,0.117647,0.294118,0.352941,0.235294,0.411765,0.294118,0.117647,0.411765,0.0588235,0.352941],\n\t\t\t\"T\":[0.0588235,0.470588,0.176471,0.352941,0.352941,0.352941,0.294118,0.470588,0.176471,0.235294,0.176471,0.294118,0.294118,0.117647,0.235294,0.117647,0.0588235,0.117647,0.235294,0.294118,0.235294,0.176471,0.0588235,0.294118,0.117647,0.294118,0.117647,0.117647,0.235294,0.176471,0.235294,0.0588235,0.176471,0.176471,0.176471,0.294118,0.235294,0.235294,0.294118,0.470588,0.235294,0.352941,0.411765,0.529412,0.235294,0.235294,0.235294,0.176471,0.411765,0.352941,0.176471,0.352941,0.411765,0.235294,0.470588,0.352941,0.176471,0.117647,0.235294,0.176471,0.117647,0.294118,0.176471,0.352941,0.352941,0.352941,0.235294,0.411765,0.235294,0.117647,0.235294,0.352941,0.294118,0.235294,0.411765,0.176471,0.235294,0.235294,0.352941,0.117647,0.235294,0.294118,0.411765,0.117647,0.117647,0.176471,0.235294,0.176471,0.235294,0.294118,0.352941,0.176471,0.117647,0.352941,0.176471,0.0588235,0.235294,0.235294,0.176471,0.235294],\n\t\t\t\"C\":[0.235294,0.235294,0.235294,0.352941,0.294118,0.117647,0.294118,0.235294,0.294118,0.411765,0.235294,0.294118,0.235294,0.352941,0.117647,0.352941,0.352941,0.411765,0.176471,0.117647,0.294118,0.294118,0.294118,0.176471,0.294118,0.117647,0.176471,0.176471,0.176471,0.411765,0.352941,0.352941,0.176471,0.411765,0.294118,0.176471,0.235294,0.176471,0.176471,0.0588235,0.117647,0.176471,0.235294,0.176471,0.294118,0.176471,0.176471,0.294118,0.117647,0.176471,0.352941,0.176471,0.352941,0.235294,0.176471,0.235294,0.470588,0.294118,0.176471,0.235294,0.235294,0.176471,0.294118,0.235294,0.117647,0.294118,0.470588,0.176471,0.294118,0.411765,0.352941,0.294118,0.117647,0.117647,0.294118,0.352941,0.176471,0.117647,0.117647,0.235294,0.352941,0.176471,0.176471,0.411765,0.352941,0.176471,0.176471,0.176471,0.235294,0.176471,0.235294,0.117647,0.352941,0.294118,0.176471,0.352941,0.529412,0.176471,0.470588,0.117647],\n\t\t\t\"G\":[0.411765,0.294118,0.176471,0.0588235,0.0588235,0.352941,0.176471,0.176471,0.411765,0.0588235,0.352941,0.117647,0.117647,0.176471,0.411765,0.352941,0.176471,0.117647,0.235294,0.294118,0.235294,0.176471,0.235294,0.294118,0.176471,0.235294,0.352941,0.352941,0.352941,0.176471,0.176471,0.352941,0.352941,0.294118,0.176471,0.235294,0.294118,0.352941,0.352941,0.352941,0.411765,0.176471,0.117647,0.0588235,0.411765,0.352941,0.294118,0.352941,0.176471,0.294118,0.352941,0.235294,0.117647,0.117647,0.176471,0.176471,0.117647,0.352941,0.352941,0.117647,0.294118,0.235294,0.294118,0.176471,0.294118,0.294118,0.235294,0.235294,0.235294,0.294118,0.235294,0.235294,0.235294,0.352941,0.176471,0.117647,0.235294,0.294118,0.235294,0.235294,0.294118,0.235294,0.176471,0.176471,0.0588235,0.294118,0.235294,0.352941,0.117647,0.117647,0.294118,0.411765,0.176471,0.117647,0.235294,0.294118,0.117647,0.176471,0.294118,0.294118],\n\t\t\t\"N\":[0,0,0,0,0,0,0,0,0,0,0,0,0,0,0,0,0.0588235,0,0,0,0,0,0,0,0,0,0,0,0,0,0,0,0,0,0,0,0,0,0,0,0,0,0,0,0,0,0,0,0,0,0,0,0,0,0,0,0,0,0,0,0,0,0,0,0,0,0,0,0,0,0,0,0,0,0,0,0,0,0,0,0,0,0,0,0.0588235,0,0.0588235,0,0,0,0,0,0,0,0,0,0,0,0,0],\n\t\t\t\"GC\":[0.647059,0.529412,0.411765,0.411765,0.352941,0.470588,0.470588,0.411765,0.705882,0.470588,0.588235,0.411765,0.352941,0.529412,0.529412,0.705882,0.529412,0.529412,0.411765,0.411765,0.529412,0.470588,0.529412,0.470588,0.470588,0.352941,0.529412,0.529412,0.529412,0.588235,0.529412,0.705882,0.529412,0.705882,0.470588,0.411765,0.529412,0.529412,0.529412,0.411765,0.529412,0.352941,0.352941,0.235294,0.705882,0.529412,0.470588,0.647059,0.294118,0.470588,0.705882,0.411765,0.470588,0.352941,0.352941,0.411765,0.588235,0.647059,0.529412,0.352941,0.529412,0.411765,0.588235,0.411765,0.411765,0.588235,0.705882,0.411765,0.529412,0.705882,0.588235,0.529412,0.352941,0.470588,0.470588,0.470588,0.411765,0.411765,0.352941,0.470588,0.647059,0.411765,0.352941,0.588235,0.411765,0.470588,0.411765,0.529412,0.352941,0.294118,0.529412,0.529412,0.529412,0.411765,0.411765,0.647059,0.647059,0.352941,0.764706,0.411765]\n\t\t},\n\t\t\"kmer_count\": {\n\t\t\t\"AAAAA\":1,\t\t\t\"AAAAT\":1,\t\t\t\"AAAAC\":4,\t\t\t\"AAAAG\":0,\t\t\t\"AAATA\":2,\t\t\t\"AAATT\":2,\t\t\t\"AAATC\":1,\t\t\t\"AAATG\":1,\t\t\t\"AAACA\":2,\t\t\t\"AAACT\":1,\t\t\t\"AAACC\":4,\t\t\t\"AAACG\":1,\t\t\t\"AAAGA\":3,\t\t\t\"AAAGT\":6,\t\t\t\"AAAGC\":3,\t\t\t\"AAAGG\":3,\n\t\t\t\"AATAA\":1,\t\t\t\"AATAT\":2,\t\t\t\"AATAC\":2,\t\t\t\"AATAG\":3,\t\t\t\"AATTA\":1,\t\t\t\"AATTT\":2,\t\t\t\"AATTC\":0,\t\t\t\"AATTG\":2,\t\t\t\"AATCA\":1,\t\t\t\"AATCT\":2,\t\t\t\"AATCC\":0,\t\t\t\"AATCG\":0,\t\t\t\"AATGA\":6,\t\t\t\"AATGT\":0,\t\t\t\"AATGC\":1,\t\t\t\"AATGG\":1,\n\t\t\t\"AACAA\":2,\t\t\t\"AACAT\":2,\t\t\t\"AACAC\":1,\t\t\t\"AACAG\":1,\t\t\t\"AACTA\":0,\t\t\t\"AACTT\":1,\t\t\t\"AACTC\":0,\t\t\t\"AACTG\":2,\t\t\t\"AACCA\":2,\t\t\t\"AACCT\":3,\t\t\t\"AACCC\":1,\t\t\t\"AACCG\":0,\t\t\t\"AACGA\":0,\t\t\t\"AACGT\":0,\t\t\t\"AACGC\":1,\t\t\t\"AACGG\":1,\n\t\t\t\"AAGAA\":1,\t\t\t\"AAGAT\":3,\t\t\t\"AAGAC\":2,\t\t\t\"AAGAG\":3,\t\t\t\"AAGTA\":1,\t\t\t\"AAGTT\":2,\t\t\t\"AAGTC\":5,\t\t\t\"AAGTG\":2,\t\t\t\"AAGCA\":4,\t\t\t\"AAGCT\":4,\t\t\t\"AAGCC\":3,\t\t\t\"AAGCG\":0,\t\t\t\"AAGGA\":3,\t\t\t\"AAGGT\":2,\t\t\t\"AAGGC\":0,\t\t\t\"AAGGG\":3,\n\t\t\t\"ATAAA\":2,\t\t\t\"ATAAT\":1,\t\t\t\"ATAAC\":0,\t\t\t\"ATAAG\":1,\t\t\t\"ATATA\":1,\t\t\t\"ATATT\":2,\t\t\t\"ATATC\":2,\t\t\t\"ATATG\":2,\t\t\t\"ATACA\":2,\t\t\t\"ATACT\":1,\t\t\t\"ATACC\":1,\t\t\t\"ATACG\":0,\t\t\t\"ATAGA\":1,\t\t\t\"ATAGT\":2,\t\t\t\"ATAGC\":1,\t\t\t\"ATAGG\":0,\n\t\t\t\"ATTAA\":1,\t\t\t\"ATTAT\":1,\t\t\t\"ATTAC\":1,\t\t\t\"ATTAG\":0,\t\t\t\"ATTTA\":1,\t\t\t\"ATTTT\":1,\t\t\t\"ATTTC\":3,\t\t\t\"ATTTG\":2,\t\t\t\"ATTCA\":4,\t\t\t\"ATTCT\":1,\t\t\t\"ATTCC\":2,\t\t\t\"ATTCG\":0,\t\t\t\"ATTGA\":2,\t\t\t\"ATTGT\":2,\t\t\t\"ATTGC\":2,\t\t\t\"ATTGG\":1,\n\t\t\t\"ATCAA\":3,\t\t\t\"ATCAT\":3,\t\t\t\"ATCAC\":1,\t\t\t\"ATCAG\":0,\t\t\t\"ATCTA\":2,\t\t\t\"ATCTT\":4,\t\t\t\"ATCTC\":2,\t\t\t\"ATCTG\":2,\t\t\t\"ATCCA\":1,\t\t\t\"ATCCT\":1,\t\t\t\"ATCCC\":1,\t\t\t\"ATCCG\":4,\t\t\t\"ATCGA\":0,\t\t\t\"ATCGT\":0,\t\t\t\"ATCGC\":0,\t\t\t\"ATCGG\":0,\n\t\t\t\"ATGAA\":2,\t\t\t\"ATGAT\":6,\t\t\t\"ATGAC\":4,\t\t\t\"ATGAG\":3,\t\t\t\"ATGTA\":2,\t\t\t\"ATGTT\":5,\t\t\t\"ATGTC\":2,\t\t\t\"ATGTG\":0,\t\t\t\"ATGCA\":2,\t\t\t\"ATGCT\":1,\t\t\t\"ATGCC\":0,\t\t\t\"ATGCG\":0,\t\t\t\"ATGGA\":3,\t\t\t\"ATGGT\":1,\t\t\t\"ATGGC\":3,\t\t\t\"ATGGG\":4,\n\t\t\t\"ACAAA\":4,\t\t\t\"ACAAT\":0,\t\t\t\"ACAAC\":2,\t\t\t\"ACAAG\":6,\t\t\t\"ACATA\":1,\t\t\t\"ACATT\":2,\t\t\t\"ACATC\":1,\t\t\t\"ACATG\":4,\t\t\t\"ACACA\":2,\t\t\t\"ACACT\":0,\t\t\t\"ACACC\":1,\t\t\t\"ACACG\":1,\t\t\t\"ACAGA\":1,\t\t\t\"ACAGT\":2,\t\t\t\"ACAGC\":6,\t\t\t\"ACAGG\":4,\n\t\t\t\"ACTAA\":0,\t\t\t\"ACTAT\":1,\t\t\t\"ACTAC\":1,\t\t\t\"ACTAG\":1,\t\t\t\"ACTTA\":2,\t\t\t\"ACTTT\":1,\t\t\t\"ACTTC\":2,\t\t\t\"ACTTG\":1,\t\t\t\"ACTCA\":0,\t\t\t\"ACTCT\":0,\t\t\t\"ACTCC\":0,\t\t\t\"ACTCG\":0,\t\t\t\"ACTGA\":0,\t\t\t\"ACTGT\":3,\t\t\t\"ACTGC\":1,\t\t\t\"ACTGG\":3,\n\t\t\t\"ACCAA\":2,\t\t\t\"ACCAT\":3,\t\t\t\"ACCAC\":3,\t\t\t\"ACCAG\":3,\t\t\t\"ACCTA\":1,\t\t\t\"ACCTT\":1,\t\t\t\"ACCTC\":2,\t\t\t\"ACCTG\":2,\t\t\t\"ACCCA\":3,\t\t\t\"ACCCT\":3,\t\t\t\"ACCCC\":0,\t\t\t\"ACCCG\":0,\t\t\t\"ACCGA\":0,\t\t\t\"ACCGT\":0,\t\t\t\"ACCGC\":0,\t\t\t\"ACCGG\":0,\n\t\t\t\"ACGAA\":0,\t\t\t\"ACGAT\":0,\t\t\t\"ACGAC\":1,\t\t\t\"ACGAG\":1,\t\t\t\"ACGTA\":0,\t\t\t\"ACGTT\":1,\t\t\t\"ACGTC\":1,\t\t\t\"ACGTG\":1,\t\t\t\"ACGCA\":0,\t\t\t\"ACGCT\":2,\t\t\t\"ACGCC\":1,\t\t\t\"ACGCG\":0,\t\t\t\"ACGGA\":3,\t\t\t\"ACGGT\":0,\t\t\t\"ACGGC\":2,\t\t\t\"ACGGG\":0,\n\t\t\t\"AGAAA\":3,\t\t\t\"AGAAT\":0,\t\t\t\"AGAAC\":1,\t\t\t\"AGAAG\":3,\t\t\t\"AGATA\":1,\t\t\t\"AGATT\":3,\t\t\t\"AGATC\":0,\t\t\t\"AGATG\":6,\t\t\t\"AGACA\":1,\t\t\t\"AGACT\":3,\t\t\t\"AGACC\":1,\t\t\t\"AGACG\":1,\t\t\t\"AGAGA\":1,\t\t\t\"AGAGT\":3,\t\t\t\"AGAGC\":1,\t\t\t\"AGAGG\":0,\n\t\t\t\"AGTAA\":3,\t\t\t\"AGTAT\":0,\t\t\t\"AGTAC\":2,\t\t\t\"AGTAG\":1,\t\t\t\"AGTTA\":1,\t\t\t\"AGTTT\":1,\t\t\t\"AGTTC\":1,\t\t\t\"AGTTG\":3,\t\t\t\"AGTCA\":6,\t\t\t\"AGTCT\":1,\t\t\t\"AGTCC\":4,\t\t\t\"AGTCG\":0,\t\t\t\"AGTGA\":2,\t\t\t\"AGTGT\":0,\t\t\t\"AGTGC\":3,\t\t\t\"AGTGG\":3,\n\t\t\t\"AGCAA\":2,\t\t\t\"AGCAT\":0,\t\t\t\"AGCAC\":3,\t\t\t\"AGCAG\":4,\t\t\t\"AGCTA\":0,\t\t\t\"AGCTT\":4,\t\t\t\"AGCTC\":3,\t\t\t\"AGCTG\":9,\t\t\t\"AGCCA\":2,\t\t\t\"AGCCT\":3,\t\t\t\"AGCCC\":4,\t\t\t\"AGCCG\":0,\t\t\t\"AGCGA\":0,\t\t\t\"AGCGT\":0,\t\t\t\"AGCGC\":0,\t\t\t\"AGCGG\":1,\n\t\t\t\"AGGAA\":2,\t\t\t\"AGGAT\":0,\t\t\t\"AGGAC\":1,\t\t\t\"AGGAG\":1,\t\t\t\"AGGTA\":0,\t\t\t\"AGGTT\":1,\t\t\t\"AGGTC\":2,\t\t\t\"AGGTG\":2,\t\t\t\"AGGCA\":1,\t\t\t\"AGGCT\":2,\t\t\t\"AGGCC\":1,\t\t\t\"AGGCG\":0,\t\t\t\"AGGGA\":1,\t\t\t\"AGGGT\":2,\t\t\t\"AGGGC\":3,\t\t\t\"AGGGG\":2,\n\t\t\t\"TAAAA\":0,\t\t\t\"TAAAT\":3,\t\t\t\"TAAAC\":0,\t\t\t\"TAAAG\":5,\t\t\t\"TAATA\":1,\t\t\t\"TAATT\":0,\t\t\t\"TAATC\":0,\t\t\t\"TAATG\":0,\t\t\t\"TAACA\":1,\t\t\t\"TAACT\":0,\t\t\t\"TAACC\":1,\t\t\t\"TAACG\":0,\t\t\t\"TAAGA\":1,\t\t\t\"TAAGT\":0,\t\t\t\"TAAGC\":2,\t\t\t\"TAAGG\":1,\n\t\t\t\"TATAA\":1,\t\t\t\"TATAT\":2,\t\t\t\"TATAC\":2,\t\t\t\"TATAG\":0,\t\t\t\"TATTA\":1,\t\t\t\"TATTT\":2,\t\t\t\"TATTC\":1,\t\t\t\"TATTG\":0,\t\t\t\"TATCA\":1,\t\t\t\"TATCT\":2,\t\t\t\"TATCC\":1,\t\t\t\"TATCG\":0,\t\t\t\"TATGA\":2,\t\t\t\"TATGT\":0,\t\t\t\"TATGC\":0,\t\t\t\"TATGG\":3,\n\t\t\t\"TACAA\":2,\t\t\t\"TACAT\":2,\t\t\t\"TACAC\":1,\t\t\t\"TACAG\":1,\t\t\t\"TACTA\":0,\t\t\t\"TACTT\":1,\t\t\t\"TACTC\":0,\t\t\t\"TACTG\":3,\t\t\t\"TACCA\":4,\t\t\t\"TACCT\":1,\t\t\t\"TACCC\":0,\t\t\t\"TACCG\":0,\t\t\t\"TACGA\":1,\t\t\t\"TACGT\":0,\t\t\t\"TACGC\":0,\t\t\t\"TACGG\":0,\n\t\t\t\"TAGAA\":1,\t\t\t\"TAGAT\":1,\t\t\t\"TAGAC\":0,\t\t\t\"TAGAG\":0,\t\t\t\"TAGTA\":1,\t\t\t\"TAGTT\":1,\t\t\t\"TAGTC\":1,\t\t\t\"TAGTG\":1,\t\t\t\"TAGCA\":0,\t\t\t\"TAGCT\":2,\t\t\t\"TAGCC\":1,\t\t\t\"TAGCG\":0,\t\t\t\"TAGGA\":0,\t\t\t\"TAGGT\":0,\t\t\t\"TAGGC\":1,\t\t\t\"TAGGG\":2,\n\t\t\t\"TTAAA\":3,\t\t\t\"TTAAT\":0,\t\t\t\"TTAAC\":2,\t\t\t\"TTAAG\":0,\t\t\t\"TTATA\":3,\t\t\t\"TTATT\":1,\t\t\t\"TTATC\":2,\t\t\t\"TTATG\":1,\t\t\t\"TTACA\":0,\t\t\t\"TTACT\":2,\t\t\t\"TTACC\":1,\t\t\t\"TTACG\":0,\t\t\t\"TTAGA\":0,\t\t\t\"TTAGT\":1,\t\t\t\"TTAGC\":0,\t\t\t\"TTAGG\":0,\n\t\t\t\"TTTAA\":1,\t\t\t\"TTTAT\":3,\t\t\t\"TTTAC\":0,\t\t\t\"TTTAG\":1,\t\t\t\"TTTTA\":1,\t\t\t\"TTTTT\":2,\t\t\t\"TTTTC\":1,\t\t\t\"TTTTG\":3,\t\t\t\"TTTCA\":2,\t\t\t\"TTTCT\":3,\t\t\t\"TTTCC\":3,\t\t\t\"TTTCG\":1,\t\t\t\"TTTGA\":5,\t\t\t\"TTTGT\":4,\t\t\t\"TTTGC\":0,\t\t\t\"TTTGG\":1,\n\t\t\t\"TTCAA\":3,\t\t\t\"TTCAT\":2,\t\t\t\"TTCAC\":4,\t\t\t\"TTCAG\":2,\t\t\t\"TTCTA\":2,\t\t\t\"TTCTT\":2,\t\t\t\"TTCTC\":4,\t\t\t\"TTCTG\":2,\t\t\t\"TTCCA\":2,\t\t\t\"TTCCT\":1,\t\t\t\"TTCCC\":5,\t\t\t\"TTCCG\":0,\t\t\t\"TTCGA\":0,\t\t\t\"TTCGT\":0,\t\t\t\"TTCGC\":0,\t\t\t\"TTCGG\":1,\n\t\t\t\"TTGAA\":1,\t\t\t\"TTGAT\":1,\t\t\t\"TTGAC\":6,\t\t\t\"TTGAG\":3,\t\t\t\"TTGTA\":2,\t\t\t\"TTGTT\":0,\t\t\t\"TTGTC\":2,\t\t\t\"TTGTG\":4,\t\t\t\"TTGCA\":1,\t\t\t\"TTGCT\":1,\t\t\t\"TTGCC\":2,\t\t\t\"TTGCG\":0,\t\t\t\"TTGGA\":3,\t\t\t\"TTGGT\":1,\t\t\t\"TTGGC\":1,\t\t\t\"TTGGG\":1,\n\t\t\t\"TCAAA\":5,\t\t\t\"TCAAT\":4,\t\t\t\"TCAAC\":0,\t\t\t\"TCAAG\":2,\t\t\t\"TCATA\":2,\t\t\t\"TCATT\":2,\t\t\t\"TCATC\":3,\t\t\t\"TCATG\":5,\t\t\t\"TCACA\":5,\t\t\t\"TCACT\":0,\t\t\t\"TCACC\":2,\t\t\t\"TCACG\":1,\t\t\t\"TCAGA\":1,\t\t\t\"TCAGT\":0,\t\t\t\"TCAGC\":0,\t\t\t\"TCAGG\":2,\n\t\t\t\"TCTAA\":2,\t\t\t\"TCTAT\":2,\t\t\t\"TCTAC\":0,\t\t\t\"TCTAG\":1,\t\t\t\"TCTTA\":1,\t\t\t\"TCTTT\":4,\t\t\t\"TCTTC\":3,\t\t\t\"TCTTG\":2,\t\t\t\"TCTCA\":1,\t\t\t\"TCTCT\":2,\t\t\t\"TCTCC\":5,\t\t\t\"TCTCG\":1,\t\t\t\"TCTGA\":2,\t\t\t\"TCTGT\":2,\t\t\t\"TCTGC\":1,\t\t\t\"TCTGG\":1,\n\t\t\t\"TCCAA\":1,\t\t\t\"TCCAT\":3,\t\t\t\"TCCAC\":2,\t\t\t\"TCCAG\":4,\t\t\t\"TCCTA\":0,\t\t\t\"TCCTT\":1,\t\t\t\"TCCTC\":1,\t\t\t\"TCCTG\":4,\t\t\t\"TCCCA\":5,\t\t\t\"TCCCT\":2,\t\t\t\"TCCCC\":4,\t\t\t\"TCCCG\":1,\t\t\t\"TCCGA\":5,\t\t\t\"TCCGT\":1,\t\t\t\"TCCGC\":0,\t\t\t\"TCCGG\":3,\n\t\t\t\"TCGAA\":0,\t\t\t\"TCGAT\":0,\t\t\t\"TCGAC\":0,\t\t\t\"TCGAG\":1,\t\t\t\"TCGTA\":0,\t\t\t\"TCGTT\":0,\t\t\t\"TCGTC\":0,\t\t\t\"TCGTG\":0,\t\t\t\"TCGCA\":0,\t\t\t\"TCGCT\":0,\t\t\t\"TCGCC\":0,\t\t\t\"TCGCG\":0,\t\t\t\"TCGGA\":1,\t\t\t\"TCGGT\":1,\t\t\t\"TCGGC\":0,\t\t\t\"TCGGG\":0,\n\t\t\t\"TGAAA\":0,\t\t\t\"TGAAT\":4,\t\t\t\"TGAAC\":0,\t\t\t\"TGAAG\":3,\t\t\t\"TGATA\":0,\t\t\t\"TGATT\":0,\t\t\t\"TGATC\":3,\t\t\t\"TGATG\":7,\t\t\t\"TGACA\":6,\t\t\t\"TGACT\":2,\t\t\t\"TGACC\":4,\t\t\t\"TGACG\":0,\t\t\t\"TGAGA\":2,\t\t\t\"TGAGT\":2,\t\t\t\"TGAGC\":5,\t\t\t\"TGAGG\":1,\n\t\t\t\"TGTAA\":1,\t\t\t\"TGTAT\":0,\t\t\t\"TGTAC\":0,\t\t\t\"TGTAG\":3,\t\t\t\"TGTTA\":0,\t\t\t\"TGTTT\":3,\t\t\t\"TGTTC\":3,\t\t\t\"TGTTG\":2,\t\t\t\"TGTCA\":3,\t\t\t\"TGTCT\":2,\t\t\t\"TGTCC\":4,\t\t\t\"TGTCG\":1,\t\t\t\"TGTGA\":4,\t\t\t\"TGTGT\":1,\t\t\t\"TGTGC\":3,\t\t\t\"TGTGG\":1,\n\t\t\t\"TGCAA\":1,\t\t\t\"TGCAT\":3,\t\t\t\"TGCAC\":0,\t\t\t\"TGCAG\":2,\t\t\t\"TGCTA\":0,\t\t\t\"TGCTT\":5,\t\t\t\"TGCTC\":1,\t\t\t\"TGCTG\":1,\t\t\t\"TGCCA\":3,\t\t\t\"TGCCT\":0,\t\t\t\"TGCCC\":2,\t\t\t\"TGCCG\":0,\t\t\t\"TGCGA\":0,\t\t\t\"TGCGT\":0,\t\t\t\"TGCGC\":0,\t\t\t\"TGCGG\":3,\n\t\t\t\"TGGAA\":5,\t\t\t\"TGGAT\":0,\t\t\t\"TGGAC\":1,\t\t\t\"TGGAG\":5,\t\t\t\"TGGTA\":2,\t\t\t\"TGGTT\":1,\t\t\t\"TGGTC\":3,\t\t\t\"TGGTG\":2,\t\t\t\"TGGCA\":4,\t\t\t\"TGGCT\":1,\t\t\t\"TGGCC\":4,\t\t\t\"TGGCG\":1,\t\t\t\"TGGGA\":4,\t\t\t\"TGGGT\":1,\t\t\t\"TGGGC\":3,\t\t\t\"TGGGG\":0,\n\t\t\t\"CAAAA\":4,\t\t\t\"CAAAT\":1,\t\t\t\"CAAAC\":1,\t\t\t\"CAAAG\":7,\t\t\t\"CAATA\":3,\t\t\t\"CAATT\":1,\t\t\t\"CAATC\":1,\t\t\t\"CAATG\":7,\t\t\t\"CAACA\":2,\t\t\t\"CAACT\":2,\t\t\t\"CAACC\":1,\t\t\t\"CAACG\":1,\t\t\t\"CAAGA\":2,\t\t\t\"CAAGT\":1,\t\t\t\"CAAGC\":4,\t\t\t\"CAAGG\":3,\n\t\t\t\"CATAA\":2,\t\t\t\"CATAT\":0,\t\t\t\"CATAC\":0,\t\t\t\"CATAG\":1,\t\t\t\"CATTA\":1,\t\t\t\"CATTT\":1,\t\t\t\"CATTC\":5,\t\t\t\"CATTG\":3,\t\t\t\"CATCA\":2,\t\t\t\"CATCT\":3,\t\t\t\"CATCC\":4,\t\t\t\"CATCG\":0,\t\t\t\"CATGA\":4,\t\t\t\"CATGT\":5,\t\t\t\"CATGC\":0,\t\t\t\"CATGG\":2,\n\t\t\t\"CACAA\":5,\t\t\t\"CACAT\":2,\t\t\t\"CACAC\":1,\t\t\t\"CACAG\":3,\t\t\t\"CACTA\":1,\t\t\t\"CACTT\":1,\t\t\t\"CACTC\":0,\t\t\t\"CACTG\":2,\t\t\t\"CACCA\":4,\t\t\t\"CACCT\":0,\t\t\t\"CACCC\":1,\t\t\t\"CACCG\":0,\t\t\t\"CACGA\":0,\t\t\t\"CACGT\":2,\t\t\t\"CACGC\":1,\t\t\t\"CACGG\":4,\n\t\t\t\"CAGAA\":2,\t\t\t\"CAGAT\":5,\t\t\t\"CAGAC\":3,\t\t\t\"CAGAG\":2,\t\t\t\"CAGTA\":1,\t\t\t\"CAGTT\":2,\t\t\t\"CAGTC\":1,\t\t\t\"CAGTG\":3,\t\t\t\"CAGCA\":5,\t\t\t\"CAGCT\":6,\t\t\t\"CAGCC\":0,\t\t\t\"CAGCG\":1,\t\t\t\"CAGGA\":1,\t\t\t\"CAGGT\":2,\t\t\t\"CAGGC\":1,\t\t\t\"CAGGG\":3,\n\t\t\t\"CTAAA\":2,\t\t\t\"CTAAT\":0,\t\t\t\"CTAAC\":0,\t\t\t\"CTAAG\":0,\t\t\t\"CTATA\":1,\t\t\t\"CTATT\":1,\t\t\t\"CTATC\":0,\t\t\t\"CTATG\":2,\t\t\t\"CTACA\":4,\t\t\t\"CTACT\":0,\t\t\t\"CTACC\":2,\t\t\t\"CTACG\":0,\t\t\t\"CTAGA\":1,\t\t\t\"CTAGT\":1,\t\t\t\"CTAGC\":0,\t\t\t\"CTAGG\":1,\n\t\t\t\"CTTAA\":1,\t\t\t\"CTTAT\":3,\t\t\t\"CTTAC\":1,\t\t\t\"CTTAG\":0,\t\t\t\"CTTTA\":3,\t\t\t\"CTTTT\":3,\t\t\t\"CTTTC\":0,\t\t\t\"CTTTG\":5,\t\t\t\"CTTCA\":4,\t\t\t\"CTTCT\":3,\t\t\t\"CTTCC\":1,\t\t\t\"CTTCG\":0,\t\t\t\"CTTGA\":1,\t\t\t\"CTTGT\":1,\t\t\t\"CTTGC\":0,\t\t\t\"CTTGG\":3,\n\t\t\t\"CTCAA\":0,\t\t\t\"CTCAT\":4,\t\t\t\"CTCAC\":1,\t\t\t\"CTCAG\":0,\t\t\t\"CTCTA\":1,\t\t\t\"CTCTT\":2,\t\t\t\"CTCTC\":2,\t\t\t\"CTCTG\":0,\t\t\t\"CTCCA\":8,\t\t\t\"CTCCT\":2,\t\t\t\"CTCCC\":0,\t\t\t\"CTCCG\":1,\t\t\t\"CTCGA\":0,\t\t\t\"CTCGT\":0,\t\t\t\"CTCGC\":0,\t\t\t\"CTCGG\":1,\n\t\t\t\"CTGAA\":2,\t\t\t\"CTGAT\":2,\t\t\t\"CTGAC\":1,\t\t\t\"CTGAG\":1,\t\t\t\"CTGTA\":0,\t\t\t\"CTGTT\":3,\t\t\t\"CTGTC\":6,\t\t\t\"CTGTG\":3,\t\t\t\"CTGCA\":2,\t\t\t\"CTGCT\":2,\t\t\t\"CTGCC\":1,\t\t\t\"CTGCG\":2,\t\t\t\"CTGGA\":2,\t\t\t\"CTGGT\":3,\t\t\t\"CTGGC\":5,\t\t\t\"CTGGG\":2,\n\t\t\t\"CCAAA\":3,\t\t\t\"CCAAT\":3,\t\t\t\"CCAAC\":4,\t\t\t\"CCAAG\":0,\t\t\t\"CCATA\":0,\t\t\t\"CCATT\":4,\t\t\t\"CCATC\":2,\t\t\t\"CCATG\":2,\t\t\t\"CCACA\":4,\t\t\t\"CCACT\":1,\t\t\t\"CCACC\":0,\t\t\t\"CCACG\":5,\t\t\t\"CCAGA\":8,\t\t\t\"CCAGT\":3,\t\t\t\"CCAGC\":2,\t\t\t\"CCAGG\":2,\n\t\t\t\"CCTAA\":0,\t\t\t\"CCTAT\":1,\t\t\t\"CCTAC\":3,\t\t\t\"CCTAG\":0,\t\t\t\"CCTTA\":1,\t\t\t\"CCTTT\":2,\t\t\t\"CCTTC\":0,\t\t\t\"CCTTG\":1,\t\t\t\"CCTCA\":1,\t\t\t\"CCTCT\":2,\t\t\t\"CCTCC\":2,\t\t\t\"CCTCG\":0,\t\t\t\"CCTGA\":0,\t\t\t\"CCTGT\":4,\t\t\t\"CCTGC\":4,\t\t\t\"CCTGG\":5,\n\t\t\t\"CCCAA\":5,\t\t\t\"CCCAT\":1,\t\t\t\"CCCAC\":5,\t\t\t\"CCCAG\":5,\t\t\t\"CCCTA\":2,\t\t\t\"CCCTT\":0,\t\t\t\"CCCTC\":1,\t\t\t\"CCCTG\":4,\t\t\t\"CCCCA\":6,\t\t\t\"CCCCT\":0,\t\t\t\"CCCCC\":4,\t\t\t\"CCCCG\":0,\t\t\t\"CCCGA\":1,\t\t\t\"CCCGT\":0,\t\t\t\"CCCGC\":0,\t\t\t\"CCCGG\":1,\n\t\t\t\"CCGAA\":0,\t\t\t\"CCGAT\":0,\t\t\t\"CCGAC\":3,\t\t\t\"CCGAG\":3,\t\t\t\"CCGTA\":0,\t\t\t\"CCGTT\":0,\t\t\t\"CCGTC\":0,\t\t\t\"CCGTG\":1,\t\t\t\"CCGCA\":0,\t\t\t\"CCGCT\":0,\t\t\t\"CCGCC\":0,\t\t\t\"CCGCG\":0,\t\t\t\"CCGGA\":3,\t\t\t\"CCGGT\":0,\t\t\t\"CCGGC\":2,\t\t\t\"CCGGG\":1,\n\t\t\t\"CGAAA\":0,\t\t\t\"CGAAT\":0,\t\t\t\"CGAAC\":0,\t\t\t\"CGAAG\":0,\t\t\t\"CGATA\":1,\t\t\t\"CGATT\":0,\t\t\t\"CGATC\":0,\t\t\t\"CGATG\":0,\t\t\t\"CGACA\":1,\t\t\t\"CGACT\":0,\t\t\t\"CGACC\":2,\t\t\t\"CGACG\":1,\t\t\t\"CGAGA\":0,\t\t\t\"CGAGT\":1,\t\t\t\"CGAGC\":3,\t\t\t\"CGAGG\":1,\n\t\t\t\"CGTAA\":0,\t\t\t\"CGTAT\":0,\t\t\t\"CGTAC\":0,\t\t\t\"CGTAG\":0,\t\t\t\"CGTTA\":0,\t\t\t\"CGTTT\":1,\t\t\t\"CGTTC\":1,\t\t\t\"CGTTG\":0,\t\t\t\"CGTCA\":0,\t\t\t\"CGTCT\":0,\t\t\t\"CGTCC\":1,\t\t\t\"CGTCG\":0,\t\t\t\"CGTGA\":0,\t\t\t\"CGTGT\":0,\t\t\t\"CGTGC\":0,\t\t\t\"CGTGG\":2,\n\t\t\t\"CGCAA\":0,\t\t\t\"CGCAT\":0,\t\t\t\"CGCAC\":0,\t\t\t\"CGCAG\":1,\t\t\t\"CGCTA\":0,\t\t\t\"CGCTT\":0,\t\t\t\"CGCTC\":0,\t\t\t\"CGCTG\":2,\t\t\t\"CGCCA\":0,\t\t\t\"CGCCT\":0,\t\t\t\"CGCCC\":1,\t\t\t\"CGCCG\":0,\t\t\t\"CGCGA\":0,\t\t\t\"CGCGT\":0,\t\t\t\"CGCGC\":0,\t\t\t\"CGCGG\":0,\n\t\t\t\"CGGAA\":2,\t\t\t\"CGGAT\":0,\t\t\t\"CGGAC\":4,\t\t\t\"CGGAG\":1,\t\t\t\"CGGTA\":0,\t\t\t\"CGGTT\":0,\t\t\t\"CGGTC\":0,\t\t\t\"CGGTG\":1,\t\t\t\"CGGCA\":5,\t\t\t\"CGGCT\":1,\t\t\t\"CGGCC\":0,\t\t\t\"CGGCG\":3,\t\t\t\"CGGGA\":2,\t\t\t\"CGGGT\":0,\t\t\t\"CGGGC\":1,\t\t\t\"CGGGG\":1,\n\t\t\t\"GAAAA\":1,\t\t\t\"GAAAT\":1,\t\t\t\"GAAAC\":3,\t\t\t\"GAAAG\":3,\t\t\t\"GAATA\":2,\t\t\t\"GAATT\":2,\t\t\t\"GAATC\":1,\t\t\t\"GAATG\":0,\t\t\t\"GAACA\":1,\t\t\t\"GAACT\":0,\t\t\t\"GAACC\":0,\t\t\t\"GAACG\":0,\t\t\t\"GAAGA\":3,\t\t\t\"GAAGT\":3,\t\t\t\"GAAGC\":2,\t\t\t\"GAAGG\":1,\n\t\t\t\"GATAA\":0,\t\t\t\"GATAT\":2,\t\t\t\"GATAC\":0,\t\t\t\"GATAG\":0,\t\t\t\"GATTA\":0,\t\t\t\"GATTT\":2,\t\t\t\"GATTC\":1,\t\t\t\"GATTG\":2,\t\t\t\"GATCA\":1,\t\t\t\"GATCT\":3,\t\t\t\"GATCC\":2,\t\t\t\"GATCG\":0,\t\t\t\"GATGA\":4,\t\t\t\"GATGT\":3,\t\t\t\"GATGC\":2,\t\t\t\"GATGG\":5,\n\t\t\t\"GACAA\":3,\t\t\t\"GACAT\":2,\t\t\t\"GACAC\":0,\t\t\t\"GACAG\":8,\t\t\t\"GACTA\":3,\t\t\t\"GACTT\":3,\t\t\t\"GACTC\":0,\t\t\t\"GACTG\":0,\t\t\t\"GACCA\":1,\t\t\t\"GACCT\":2,\t\t\t\"GACCC\":4,\t\t\t\"GACCG\":0,\t\t\t\"GACGA\":1,\t\t\t\"GACGT\":1,\t\t\t\"GACGC\":1,\t\t\t\"GACGG\":0,\n\t\t\t\"GAGAA\":3,\t\t\t\"GAGAT\":1,\t\t\t\"GAGAC\":2,\t\t\t\"GAGAG\":0,\t\t\t\"GAGTA\":3,\t\t\t\"GAGTT\":1,\t\t\t\"GAGTC\":4,\t\t\t\"GAGTG\":2,\t\t\t\"GAGCA\":0,\t\t\t\"GAGCT\":4,\t\t\t\"GAGCC\":5,\t\t\t\"GAGCG\":0,\t\t\t\"GAGGA\":0,\t\t\t\"GAGGT\":1,\t\t\t\"GAGGC\":2,\t\t\t\"GAGGG\":0,\n\t\t\t\"GTAAA\":1,\t\t\t\"GTAAT\":0,\t\t\t\"GTAAC\":0,\t\t\t\"GTAAG\":3,\t\t\t\"GTATA\":0,\t\t\t\"GTATT\":0,\t\t\t\"GTATC\":1,\t\t\t\"GTATG\":0,\t\t\t\"GTACA\":1,\t\t\t\"GTACT\":0,\t\t\t\"GTACC\":1,\t\t\t\"GTACG\":1,\t\t\t\"GTAGA\":0,\t\t\t\"GTAGT\":1,\t\t\t\"GTAGC\":2,\t\t\t\"GTAGG\":2,\n\t\t\t\"GTTAA\":2,\t\t\t\"GTTAT\":0,\t\t\t\"GTTAC\":0,\t\t\t\"GTTAG\":0,\t\t\t\"GTTTA\":0,\t\t\t\"GTTTT\":1,\t\t\t\"GTTTC\":5,\t\t\t\"GTTTG\":0,\t\t\t\"GTTCA\":1,\t\t\t\"GTTCT\":3,\t\t\t\"GTTCC\":2,\t\t\t\"GTTCG\":0,\t\t\t\"GTTGA\":3,\t\t\t\"GTTGT\":1,\t\t\t\"GTTGC\":2,\t\t\t\"GTTGG\":1,\n\t\t\t\"GTCAA\":5,\t\t\t\"GTCAT\":3,\t\t\t\"GTCAC\":2,\t\t\t\"GTCAG\":1,\t\t\t\"GTCTA\":0,\t\t\t\"GTCTT\":2,\t\t\t\"GTCTC\":1,\t\t\t\"GTCTG\":2,\t\t\t\"GTCCA\":0,\t\t\t\"GTCCT\":3,\t\t\t\"GTCCC\":6,\t\t\t\"GTCCG\":4,\t\t\t\"GTCGA\":1,\t\t\t\"GTCGT\":0,\t\t\t\"GTCGC\":0,\t\t\t\"GTCGG\":0,\n\t\t\t\"GTGAA\":2,\t\t\t\"GTGAT\":1,\t\t\t\"GTGAC\":1,\t\t\t\"GTGAG\":3,\t\t\t\"GTGTA\":0,\t\t\t\"GTGTT\":1,\t\t\t\"GTGTC\":0,\t\t\t\"GTGTG\":2,\t\t\t\"GTGCA\":1,\t\t\t\"GTGCT\":3,\t\t\t\"GTGCC\":2,\t\t\t\"GTGCG\":1,\t\t\t\"GTGGA\":3,\t\t\t\"GTGGT\":3,\t\t\t\"GTGGC\":1,\t\t\t\"GTGGG\":1,\n\t\t\t\"GCAAA\":1,\t\t\t\"GCAAT\":5,\t\t\t\"GCAAC\":0,\t\t\t\"GCAAG\":2,\t\t\t\"GCATA\":0,\t\t\t\"GCATT\":2,\t\t\t\"GCATC\":3,\t\t\t\"GCATG\":0,\t\t\t\"GCACA\":1,\t\t\t\"GCACT\":3,\t\t\t\"GCACC\":2,\t\t\t\"GCACG\":2,\t\t\t\"GCAGA\":2,\t\t\t\"GCAGT\":2,\t\t\t\"GCAGC\":4,\t\t\t\"GCAGG\":0,\n\t\t\t\"GCTAA\":0,\t\t\t\"GCTAT\":0,\t\t\t\"GCTAC\":2,\t\t\t\"GCTAG\":1,\t\t\t\"GCTTA\":1,\t\t\t\"GCTTT\":4,\t\t\t\"GCTTC\":3,\t\t\t\"GCTTG\":1,\t\t\t\"GCTCA\":2,\t\t\t\"GCTCT\":1,\t\t\t\"GCTCC\":4,\t\t\t\"GCTCG\":1,\t\t\t\"GCTGA\":5,\t\t\t\"GCTGT\":4,\t\t\t\"GCTGC\":1,\t\t\t\"GCTGG\":3,\n\t\t\t\"GCCAA\":2,\t\t\t\"GCCAT\":1,\t\t\t\"GCCAC\":0,\t\t\t\"GCCAG\":3,\t\t\t\"GCCTA\":1,\t\t\t\"GCCTT\":1,\t\t\t\"GCCTC\":1,\t\t\t\"GCCTG\":3,\t\t\t\"GCCCA\":3,\t\t\t\"GCCCT\":2,\t\t\t\"GCCCC\":2,\t\t\t\"GCCCG\":1,\t\t\t\"GCCGA\":0,\t\t\t\"GCCGT\":0,\t\t\t\"GCCGC\":0,\t\t\t\"GCCGG\":1,\n\t\t\t\"GCGAA\":0,\t\t\t\"GCGAT\":0,\t\t\t\"GCGAC\":0,\t\t\t\"GCGAG\":0,\t\t\t\"GCGTA\":0,\t\t\t\"GCGTT\":1,\t\t\t\"GCGTC\":0,\t\t\t\"GCGTG\":0,\t\t\t\"GCGCA\":1,\t\t\t\"GCGCT\":1,\t\t\t\"GCGCC\":0,\t\t\t\"GCGCG\":0,\t\t\t\"GCGGA\":0,\t\t\t\"GCGGT\":0,\t\t\t\"GCGGC\":4,\t\t\t\"GCGGG\":3,\n\t\t\t\"GGAAA\":5,\t\t\t\"GGAAT\":1,\t\t\t\"GGAAC\":0,\t\t\t\"GGAAG\":3,\t\t\t\"GGATA\":0,\t\t\t\"GGATT\":2,\t\t\t\"GGATC\":3,\t\t\t\"GGATG\":1,\t\t\t\"GGACA\":5,\t\t\t\"GGACT\":1,\t\t\t\"GGACC\":0,\t\t\t\"GGACG\":1,\t\t\t\"GGAGA\":2,\t\t\t\"GGAGT\":4,\t\t\t\"GGAGC\":0,\t\t\t\"GGAGG\":2,\n\t\t\t\"GGTAA\":0,\t\t\t\"GGTAT\":0,\t\t\t\"GGTAC\":1,\t\t\t\"GGTAG\":1,\t\t\t\"GGTTA\":1,\t\t\t\"GGTTT\":1,\t\t\t\"GGTTC\":0,\t\t\t\"GGTTG\":2,\t\t\t\"GGTCA\":2,\t\t\t\"GGTCT\":2,\t\t\t\"GGTCC\":4,\t\t\t\"GGTCG\":0,\t\t\t\"GGTGA\":1,\t\t\t\"GGTGT\":2,\t\t\t\"GGTGC\":1,\t\t\t\"GGTGG\":2,\n\t\t\t\"GGCAA\":4,\t\t\t\"GGCAT\":2,\t\t\t\"GGCAC\":5,\t\t\t\"GGCAG\":1,\t\t\t\"GGCTA\":3,\t\t\t\"GGCTT\":1,\t\t\t\"GGCTC\":3,\t\t\t\"GGCTG\":1,\t\t\t\"GGCCA\":1,\t\t\t\"GGCCT\":3,\t\t\t\"GGCCC\":1,\t\t\t\"GGCCG\":1,\t\t\t\"GGCGA\":0,\t\t\t\"GGCGT\":1,\t\t\t\"GGCGC\":2,\t\t\t\"GGCGG\":3,\n\t\t\t\"GGGAA\":0,\t\t\t\"GGGAT\":5,\t\t\t\"GGGAC\":1,\t\t\t\"GGGAG\":1,\t\t\t\"GGGTA\":0,\t\t\t\"GGGTT\":2,\t\t\t\"GGGTC\":2,\t\t\t\"GGGTG\":1,\t\t\t\"GGGCA\":2,\t\t\t\"GGGCT\":3,\t\t\t\"GGGCC\":1,\t\t\t\"GGGCG\":2,\t\t\t\"GGGGA\":0,\t\t\t\"GGGGT\":2,\t\t\t\"GGGGC\":1,\t\t\t\"GGGGG\":2\n\t\t},\n\t\t\"overrepresented_sequences\": {\n\t\t}\n\t},\n\t\"read2_before_filtering\": {\n\t\t\"total_reads\": 17,\n\t\t\"total_bases\": 1700,\n\t\t\"q20_bases\": 1673,\n\t\t\"q30_bases\": 1617,\n\t\t\"total_cycles\": 100,\n\t\t\"quality_curves\": {\n\t\t\t\"A\":[37,37,37,37,35.5,37,37,37,37,37,37,37,37,34,37,37,33,37,37,29.4,37,37,37,37,37,37,33.75,37,37,37,37,37,35.2857,37,37,37,37,37,37,33,34,37,37,37,35,31.5714,37,37,37,29.4,37,37,37,37,37,31,37,37,35.2857,32.6667,26.3333,37,37,37,37,37,37,33,37,37,37,34,34,32.6667,33,37,37,35,31,33,37,37,37,37,30.5,37,37,37,37,37,33.2857,24,34,37,37,37,33.5714,37,37,32.6667],\n\t\t\t\"T\":[37,37,37,37,37,37,37,37,37,37,37,31,37,37,37,31,37,37,37,33.75,37,37,33,37,37,37,37,37,37,37,34.1111,37,37,37,37,37,37,37,37,37,37,37,37,37,37,37,37,37,30.5,34.6,37,37,37,37,37,37,31,37,37,35.4706,37,37,36.2941,37,37,37,37,37,37,37,37,37,37,37,35,35.9091,37,37,37,37,37,36.2941,37,37,34,34.3333,37,33.2857,35,37,37,37,37,37,37,37,37,37,37,37],\n\t\t\t\"C\":[37,37,37,37,37,37,37,37,37,37,37,37,37,37,37,37,37,25,37,34,37,35,37,37,37,37,37,37,37,37,37,37,37,37,37,37,31.8,37,37,37,37,37,37,34,37,37,37,37,37,33,37,32.6667,37,37,37,37,37,30.5,37,37,37,37,37,37,37,37,37,37,37,37,37,37,37,37,37,37,37,37,37,37,37,35.2857,37,37,37,37,37,37,37,37,37,32.6667,37,37,37,37,37,11,37,34],\n\t\t\t\"G\":[35.6667,37,37,37,36.2941,37,37,37,37,34,37,37,37,37,37,37,31.8,37,37,32.5294,37,37,37,37,37,37,37,37,37,32.6667,37,37,37,37,37,37,37,37,37,37,37,37,33,37,37,37,32.2,37,37,37,37,37,37,37,37,35,33.2857,37,37,37,37,37,33,37,37,37,37,31.5714,37,37,37,37,37,37,37,37,37,37,33,31.8,37,37,37,37,37,37,37,37,37,37,37,33,37,37,37,37,37,37,35.2857,37],\n\t\t\t\"mean\":[36.2941,37,37,37,36.2941,37,37,37,37,36.2941,37,34.2353,37,36.2941,37,34.8824,34.7647,36.2941,37,32.5294,37,36.2941,36.2941,37,37,37,35.4706,37,37,35.4706,35.4706,37,36.2941,37,37,37,35.4706,37,37,36.2941,36.2941,37,36.2941,36.2941,36.2941,34.7647,35.5882,37,35.4706,33.3529,37,35.4706,37,37,37,35.5882,34.7647,35.4706,36.2941,35.4706,33.2353,37,36.2941,37,37,37,37,34.0588,37,37,37,36.2941,36.2941,35.4706,35.5882,36.2941,37,36.2941,34.1765,34.7647,37,36.2941,37,37,34.7647,35.5882,37,35.4706,36.2941,37,35.4706,33.2353,36.2941,37,37,37,35.5882,35.4706,36.2941,34.7647]\n\t\t},\n\t\t\"content_curves\": {\n\t\t\t\"A\":[0.235294,0.117647,0.352941,0.235294,0.470588,0.294118,0.235294,0.235294,0.117647,0.294118,0.0588235,0.352941,0.117647,0.235294,0.294118,0.294118,0.176471,0.117647,0.411765,0.294118,0.235294,0.529412,0.235294,0.294118,0.470588,0.294118,0.470588,0.411765,0.176471,0.235294,0.176471,0.235294,0.411765,0.235294,0.235294,0.352941,0.117647,0.117647,0.176471,0.176471,0.235294,0.294118,0.411765,0.176471,0.352941,0.411765,0.176471,0.176471,0.176471,0.294118,0.117647,0.235294,0.352941,0.294118,0.0588235,0.117647,0.117647,0.411765,0.411765,0.352941,0.352941,0.0588235,0.352941,0.352941,0.235294,0.176471,0.470588,0.176471,0.176471,0.176471,0.176471,0.235294,0.235294,0.352941,0.176471,0.235294,0.0588235,0.352941,0.352941,0.176471,0.352941,0.352941,0.352941,0.470588,0.235294,0.0588235,0.117647,0.117647,0.294118,0.176471,0.411765,0.117647,0.235294,0.235294,0.294118,0.294118,0.411765,0.235294,0.176471,0.352941],\n\t\t\t\"T\":[0.0588235,0.411765,0.176471,0.352941,0.470588,0.176471,0.176471,0.294118,0.117647,0.235294,0.0588235,0.117647,0.411765,0.294118,0.235294,0.352941,0.176471,0.588235,0.0588235,0.470588,0,0.0588235,0.176471,0,0.176471,0.0588235,0.294118,0.0588235,0.411765,0.176471,0.529412,0.235294,0.176471,0.294118,0.352941,0.0588235,0.352941,0.294118,0.411765,0.588235,0.352941,0.294118,0.294118,0.0588235,0.117647,0.176471,0.176471,0.470588,0.235294,0.294118,0.294118,0.117647,0.294118,0.235294,0.470588,0.352941,0.117647,0.117647,0.176471,0,0.235294,0.352941,0,0.470588,0.176471,0,0.235294,0.176471,0.294118,0.176471,0.294118,0.117647,0.411765,0.352941,0.352941,0.647059,0.235294,0.352941,0.294118,0.352941,0.294118,0,0.235294,0.352941,0.235294,0.529412,0.352941,0.411765,0.352941,0.235294,0.235294,0.352941,0.411765,0.588235,0.294118,0.176471,0.0588235,0.411765,0.235294,0.176471],\n\t\t\t\"C\":[0.176471,0.235294,0.352941,0.235294,0.0588235,0.0588235,0.176471,0.411765,0.529412,0.235294,0.352941,0.176471,0.352941,0.176471,0.176471,0.117647,0.352941,0.0588235,0.235294,0.235294,0.235294,0.352941,0.470588,0.176471,0.0588235,0.529412,0.117647,0.176471,0.294118,0.235294,0.0588235,0.411765,0.176471,0.117647,0.117647,0.352941,0.294118,0.235294,0.294118,0.0588235,0.352941,0.117647,0.117647,0.235294,0.235294,0.176471,0.352941,0.117647,0.0588235,0.176471,0.235294,0.352941,0.117647,0.235294,0.294118,0.176471,0.352941,0.235294,0.176471,0.470588,0.176471,0.235294,0.470588,0.0588235,0.411765,0.411765,0,0.235294,0.176471,0.176471,0.176471,0.352941,0.294118,0.235294,0.176471,0.0588235,0.588235,0.176471,0.176471,0.176471,0.176471,0.411765,0.352941,0,0.176471,0.294118,0.294118,0.294118,0.117647,0.0588235,0.294118,0.352941,0.0588235,0.117647,0.294118,0.352941,0.176471,0.0588235,0.176471,0.235294],\n\t\t\t\"G\":[0.529412,0.235294,0.117647,0.176471,0,0.470588,0.411765,0.0588235,0.235294,0.235294,0.529412,0.294118,0.117647,0.294118,0.294118,0.235294,0.294118,0.235294,0.294118,0,0.529412,0.0588235,0.117647,0.529412,0.294118,0.117647,0.117647,0.352941,0.117647,0.352941,0.235294,0.117647,0.235294,0.352941,0.294118,0.235294,0.235294,0.352941,0.117647,0.176471,0.0588235,0.294118,0.176471,0.529412,0.294118,0.235294,0.294118,0.235294,0.529412,0.235294,0.352941,0.294118,0.235294,0.235294,0.176471,0.352941,0.411765,0.235294,0.235294,0.176471,0.235294,0.352941,0.176471,0.117647,0.176471,0.411765,0.294118,0.411765,0.352941,0.470588,0.352941,0.294118,0.0588235,0.0588235,0.294118,0.0588235,0.117647,0.117647,0.176471,0.294118,0.176471,0.235294,0.0588235,0.176471,0.352941,0.117647,0.235294,0.176471,0.235294,0.529412,0.0588235,0.176471,0.294118,0.0588235,0.117647,0.176471,0.352941,0.294118,0.411765,0.235294],\n\t\t\t\"N\":[0,0,0,0,0,0,0,0,0,0,0,0.0588235,0,0,0,0,0,0,0,0,0,0,0,0,0,0,0,0,0,0,0,0,0,0,0,0,0,0,0,0,0,0,0,0,0,0,0,0,0,0,0,0,0,0,0,0,0,0,0,0,0,0,0,0,0,0,0,0,0,0,0,0,0,0,0,0,0,0,0,0,0,0,0,0,0,0,0,0,0,0,0,0,0,0,0,0,0,0,0,0],\n\t\t\t\"GC\":[0.705882,0.470588,0.470588,0.411765,0.0588235,0.529412,0.588235,0.470588,0.764706,0.470588,0.882353,0.470588,0.470588,0.470588,0.470588,0.352941,0.647059,0.294118,0.529412,0.235294,0.764706,0.411765,0.588235,0.705882,0.352941,0.647059,0.235294,0.529412,0.411765,0.588235,0.294118,0.529412,0.411765,0.470588,0.411765,0.588235,0.529412,0.588235,0.411765,0.235294,0.411765,0.411765,0.294118,0.764706,0.529412,0.411765,0.647059,0.352941,0.588235,0.411765,0.588235,0.647059,0.352941,0.470588,0.470588,0.529412,0.764706,0.470588,0.411765,0.647059,0.411765,0.588235,0.647059,0.176471,0.588235,0.823529,0.294118,0.647059,0.529412,0.647059,0.529412,0.647059,0.352941,0.294118,0.470588,0.117647,0.705882,0.294118,0.352941,0.470588,0.352941,0.647059,0.411765,0.176471,0.529412,0.411765,0.529412,0.470588,0.352941,0.588235,0.352941,0.529412,0.352941,0.176471,0.411765,0.529412,0.529412,0.352941,0.588235,0.470588]\n\t\t},\n\t\t\"kmer_count\": {\n\t\t\t\"AAAAA\":5,\t\t\t\"AAAAT\":0,\t\t\t\"AAAAC\":3,\t\t\t\"AAAAG\":3,\t\t\t\"AAATA\":1,\t\t\t\"AAATT\":2,\t\t\t\"AAATC\":0,\t\t\t\"AAATG\":1,\t\t\t\"AAACA\":4,\t\t\t\"AAACT\":2,\t\t\t\"AAACC\":5,\t\t\t\"AAACG\":0,\t\t\t\"AAAGA\":2,\t\t\t\"AAAGT\":4,\t\t\t\"AAAGC\":4,\t\t\t\"AAAGG\":4,\n\t\t\t\"AATAA\":3,\t\t\t\"AATAT\":0,\t\t\t\"AATAC\":2,\t\t\t\"AATAG\":2,\t\t\t\"AATTA\":2,\t\t\t\"AATTT\":1,\t\t\t\"AATTC\":2,\t\t\t\"AATTG\":2,\t\t\t\"AATCA\":2,\t\t\t\"AATCT\":2,\t\t\t\"AATCC\":0,\t\t\t\"AATCG\":0,\t\t\t\"AATGA\":1,\t\t\t\"AATGT\":6,\t\t\t\"AATGC\":1,\t\t\t\"AATGG\":0,\n\t\t\t\"AACAA\":2,\t\t\t\"AACAT\":3,\t\t\t\"AACAC\":0,\t\t\t\"AACAG\":4,\t\t\t\"AACTA\":0,\t\t\t\"AACTT\":0,\t\t\t\"AACTC\":0,\t\t\t\"AACTG\":5,\t\t\t\"AACCA\":0,\t\t\t\"AACCT\":5,\t\t\t\"AACCC\":0,\t\t\t\"AACCG\":2,\t\t\t\"AACGA\":0,\t\t\t\"AACGT\":0,\t\t\t\"AACGC\":1,\t\t\t\"AACGG\":2,\n\t\t\t\"AAGAA\":0,\t\t\t\"AAGAT\":4,\t\t\t\"AAGAC\":4,\t\t\t\"AAGAG\":2,\t\t\t\"AAGTA\":2,\t\t\t\"AAGTT\":1,\t\t\t\"AAGTC\":6,\t\t\t\"AAGTG\":5,\t\t\t\"AAGCA\":2,\t\t\t\"AAGCT\":4,\t\t\t\"AAGCC\":2,\t\t\t\"AAGCG\":0,\t\t\t\"AAGGA\":9,\t\t\t\"AAGGT\":2,\t\t\t\"AAGGC\":0,\t\t\t\"AAGGG\":2,\n\t\t\t\"ATAAA\":1,\t\t\t\"ATAAT\":2,\t\t\t\"ATAAC\":2,\t\t\t\"ATAAG\":1,\t\t\t\"ATATA\":3,\t\t\t\"ATATT\":0,\t\t\t\"ATATC\":2,\t\t\t\"ATATG\":2,\t\t\t\"ATACA\":4,\t\t\t\"ATACT\":1,\t\t\t\"ATACC\":0,\t\t\t\"ATACG\":0,\t\t\t\"ATAGA\":1,\t\t\t\"ATAGT\":1,\t\t\t\"ATAGC\":2,\t\t\t\"ATAGG\":0,\n\t\t\t\"ATTAA\":4,\t\t\t\"ATTAT\":2,\t\t\t\"ATTAC\":2,\t\t\t\"ATTAG\":0,\t\t\t\"ATTTA\":0,\t\t\t\"ATTTT\":1,\t\t\t\"ATTTC\":1,\t\t\t\"ATTTG\":0,\t\t\t\"ATTCA\":3,\t\t\t\"ATTCT\":1,\t\t\t\"ATTCC\":0,\t\t\t\"ATTCG\":0,\t\t\t\"ATTGA\":0,\t\t\t\"ATTGT\":3,\t\t\t\"ATTGC\":0,\t\t\t\"ATTGG\":1,\n\t\t\t\"ATCAA\":5,\t\t\t\"ATCAT\":3,\t\t\t\"ATCAC\":1,\t\t\t\"ATCAG\":0,\t\t\t\"ATCTA\":2,\t\t\t\"ATCTT\":0,\t\t\t\"ATCTC\":1,\t\t\t\"ATCTG\":2,\t\t\t\"ATCCA\":2,\t\t\t\"ATCCT\":1,\t\t\t\"ATCCC\":0,\t\t\t\"ATCCG\":0,\t\t\t\"ATCGA\":0,\t\t\t\"ATCGT\":3,\t\t\t\"ATCGC\":0,\t\t\t\"ATCGG\":0,\n\t\t\t\"ATGAA\":3,\t\t\t\"ATGAT\":0,\t\t\t\"ATGAC\":3,\t\t\t\"ATGAG\":2,\t\t\t\"ATGTA\":2,\t\t\t\"ATGTT\":3,\t\t\t\"ATGTC\":4,\t\t\t\"ATGTG\":3,\t\t\t\"ATGCA\":0,\t\t\t\"ATGCT\":1,\t\t\t\"ATGCC\":2,\t\t\t\"ATGCG\":0,\t\t\t\"ATGGA\":3,\t\t\t\"ATGGT\":0,\t\t\t\"ATGGC\":2,\t\t\t\"ATGGG\":4,\n\t\t\t\"ACAAA\":2,\t\t\t\"ACAAT\":1,\t\t\t\"ACAAC\":5,\t\t\t\"ACAAG\":3,\t\t\t\"ACATA\":1,\t\t\t\"ACATT\":2,\t\t\t\"ACATC\":2,\t\t\t\"ACATG\":1,\t\t\t\"ACACA\":1,\t\t\t\"ACACT\":0,\t\t\t\"ACACC\":0,\t\t\t\"ACACG\":1,\t\t\t\"ACAGA\":0,\t\t\t\"ACAGT\":2,\t\t\t\"ACAGC\":7,\t\t\t\"ACAGG\":4,\n\t\t\t\"ACTAA\":0,\t\t\t\"ACTAT\":0,\t\t\t\"ACTAC\":0,\t\t\t\"ACTAG\":0,\t\t\t\"ACTTA\":2,\t\t\t\"ACTTT\":0,\t\t\t\"ACTTC\":4,\t\t\t\"ACTTG\":0,\t\t\t\"ACTCA\":2,\t\t\t\"ACTCT\":3,\t\t\t\"ACTCC\":0,\t\t\t\"ACTCG\":0,\t\t\t\"ACTGA\":0,\t\t\t\"ACTGT\":6,\t\t\t\"ACTGC\":1,\t\t\t\"ACTGG\":6,\n\t\t\t\"ACCAA\":2,\t\t\t\"ACCAT\":0,\t\t\t\"ACCAC\":2,\t\t\t\"ACCAG\":0,\t\t\t\"ACCTA\":1,\t\t\t\"ACCTT\":2,\t\t\t\"ACCTC\":5,\t\t\t\"ACCTG\":0,\t\t\t\"ACCCA\":0,\t\t\t\"ACCCT\":3,\t\t\t\"ACCCC\":0,\t\t\t\"ACCCG\":0,\t\t\t\"ACCGA\":0,\t\t\t\"ACCGT\":3,\t\t\t\"ACCGC\":2,\t\t\t\"ACCGG\":0,\n\t\t\t\"ACGAA\":0,\t\t\t\"ACGAT\":0,\t\t\t\"ACGAC\":0,\t\t\t\"ACGAG\":0,\t\t\t\"ACGTA\":0,\t\t\t\"ACGTT\":2,\t\t\t\"ACGTC\":1,\t\t\t\"ACGTG\":0,\t\t\t\"ACGCA\":2,\t\t\t\"ACGCT\":2,\t\t\t\"ACGCC\":3,\t\t\t\"ACGCG\":0,\t\t\t\"ACGGA\":0,\t\t\t\"ACGGT\":2,\t\t\t\"ACGGC\":0,\t\t\t\"ACGGG\":0,\n\t\t\t\"AGAAA\":0,\t\t\t\"AGAAT\":0,\t\t\t\"AGAAC\":0,\t\t\t\"AGAAG\":4,\t\t\t\"AGATA\":1,\t\t\t\"AGATT\":3,\t\t\t\"AGATC\":1,\t\t\t\"AGATG\":3,\t\t\t\"AGACA\":1,\t\t\t\"AGACT\":1,\t\t\t\"AGACC\":4,\t\t\t\"AGACG\":0,\t\t\t\"AGAGA\":0,\t\t\t\"AGAGT\":0,\t\t\t\"AGAGC\":2,\t\t\t\"AGAGG\":2,\n\t\t\t\"AGTAA\":0,\t\t\t\"AGTAT\":2,\t\t\t\"AGTAC\":0,\t\t\t\"AGTAG\":0,\t\t\t\"AGTTA\":0,\t\t\t\"AGTTT\":1,\t\t\t\"AGTTC\":1,\t\t\t\"AGTTG\":2,\t\t\t\"AGTCA\":8,\t\t\t\"AGTCT\":4,\t\t\t\"AGTCC\":1,\t\t\t\"AGTCG\":0,\t\t\t\"AGTGA\":0,\t\t\t\"AGTGT\":1,\t\t\t\"AGTGC\":2,\t\t\t\"AGTGG\":4,\n\t\t\t\"AGCAA\":1,\t\t\t\"AGCAT\":3,\t\t\t\"AGCAC\":0,\t\t\t\"AGCAG\":2,\t\t\t\"AGCTA\":2,\t\t\t\"AGCTT\":4,\t\t\t\"AGCTC\":4,\t\t\t\"AGCTG\":9,\t\t\t\"AGCCA\":0,\t\t\t\"AGCCT\":2,\t\t\t\"AGCCC\":1,\t\t\t\"AGCCG\":3,\t\t\t\"AGCGA\":0,\t\t\t\"AGCGT\":0,\t\t\t\"AGCGC\":0,\t\t\t\"AGCGG\":2,\n\t\t\t\"AGGAA\":4,\t\t\t\"AGGAT\":1,\t\t\t\"AGGAC\":5,\t\t\t\"AGGAG\":1,\t\t\t\"AGGTA\":0,\t\t\t\"AGGTT\":1,\t\t\t\"AGGTC\":1,\t\t\t\"AGGTG\":1,\t\t\t\"AGGCA\":0,\t\t\t\"AGGCT\":3,\t\t\t\"AGGCC\":0,\t\t\t\"AGGCG\":0,\t\t\t\"AGGGA\":2,\t\t\t\"AGGGT\":2,\t\t\t\"AGGGC\":0,\t\t\t\"AGGGG\":1,\n\t\t\t\"TAAAA\":1,\t\t\t\"TAAAT\":0,\t\t\t\"TAAAC\":2,\t\t\t\"TAAAG\":5,\t\t\t\"TAATA\":2,\t\t\t\"TAATT\":0,\t\t\t\"TAATC\":0,\t\t\t\"TAATG\":0,\t\t\t\"TAACA\":2,\t\t\t\"TAACT\":0,\t\t\t\"TAACC\":2,\t\t\t\"TAACG\":0,\t\t\t\"TAAGA\":2,\t\t\t\"TAAGT\":3,\t\t\t\"TAAGC\":0,\t\t\t\"TAAGG\":0,\n\t\t\t\"TATAA\":2,\t\t\t\"TATAT\":5,\t\t\t\"TATAC\":1,\t\t\t\"TATAG\":0,\t\t\t\"TATTA\":2,\t\t\t\"TATTT\":0,\t\t\t\"TATTC\":1,\t\t\t\"TATTG\":0,\t\t\t\"TATCA\":3,\t\t\t\"TATCT\":0,\t\t\t\"TATCC\":1,\t\t\t\"TATCG\":3,\t\t\t\"TATGA\":2,\t\t\t\"TATGT\":0,\t\t\t\"TATGC\":0,\t\t\t\"TATGG\":4,\n\t\t\t\"TACAA\":4,\t\t\t\"TACAT\":1,\t\t\t\"TACAC\":1,\t\t\t\"TACAG\":0,\t\t\t\"TACTA\":0,\t\t\t\"TACTT\":2,\t\t\t\"TACTC\":5,\t\t\t\"TACTG\":1,\t\t\t\"TACCA\":0,\t\t\t\"TACCT\":0,\t\t\t\"TACCC\":0,\t\t\t\"TACCG\":0,\t\t\t\"TACGA\":0,\t\t\t\"TACGT\":0,\t\t\t\"TACGC\":2,\t\t\t\"TACGG\":0,\n\t\t\t\"TAGAA\":0,\t\t\t\"TAGAT\":2,\t\t\t\"TAGAC\":0,\t\t\t\"TAGAG\":0,\t\t\t\"TAGTA\":0,\t\t\t\"TAGTT\":0,\t\t\t\"TAGTC\":4,\t\t\t\"TAGTG\":0,\t\t\t\"TAGCA\":0,\t\t\t\"TAGCT\":2,\t\t\t\"TAGCC\":1,\t\t\t\"TAGCG\":0,\t\t\t\"TAGGA\":0,\t\t\t\"TAGGT\":0,\t\t\t\"TAGGC\":0,\t\t\t\"TAGGG\":0,\n\t\t\t\"TTAAA\":7,\t\t\t\"TTAAT\":0,\t\t\t\"TTAAC\":0,\t\t\t\"TTAAG\":2,\t\t\t\"TTATA\":1,\t\t\t\"TTATT\":0,\t\t\t\"TTATC\":2,\t\t\t\"TTATG\":2,\t\t\t\"TTACA\":0,\t\t\t\"TTACT\":2,\t\t\t\"TTACC\":0,\t\t\t\"TTACG\":2,\t\t\t\"TTAGA\":0,\t\t\t\"TTAGT\":0,\t\t\t\"TTAGC\":0,\t\t\t\"TTAGG\":0,\n\t\t\t\"TTTAA\":0,\t\t\t\"TTTAT\":0,\t\t\t\"TTTAC\":2,\t\t\t\"TTTAG\":0,\t\t\t\"TTTTA\":0,\t\t\t\"TTTTT\":2,\t\t\t\"TTTTC\":5,\t\t\t\"TTTTG\":2,\t\t\t\"TTTCA\":2,\t\t\t\"TTTCT\":2,\t\t\t\"TTTCC\":2,\t\t\t\"TTTCG\":4,\t\t\t\"TTTGA\":2,\t\t\t\"TTTGT\":0,\t\t\t\"TTTGC\":1,\t\t\t\"TTTGG\":0,\n\t\t\t\"TTCAA\":6,\t\t\t\"TTCAT\":3,\t\t\t\"TTCAC\":2,\t\t\t\"TTCAG\":3,\t\t\t\"TTCTA\":1,\t\t\t\"TTCTT\":0,\t\t\t\"TTCTC\":2,\t\t\t\"TTCTG\":5,\t\t\t\"TTCCA\":1,\t\t\t\"TTCCT\":0,\t\t\t\"TTCCC\":1,\t\t\t\"TTCCG\":1,\t\t\t\"TTCGA\":0,\t\t\t\"TTCGT\":2,\t\t\t\"TTCGC\":0,\t\t\t\"TTCGG\":2,\n\t\t\t\"TTGAA\":1,\t\t\t\"TTGAT\":1,\t\t\t\"TTGAC\":2,\t\t\t\"TTGAG\":0,\t\t\t\"TTGTA\":2,\t\t\t\"TTGTT\":0,\t\t\t\"TTGTC\":4,\t\t\t\"TTGTG\":1,\t\t\t\"TTGCA\":1,\t\t\t\"TTGCT\":1,\t\t\t\"TTGCC\":0,\t\t\t\"TTGCG\":0,\t\t\t\"TTGGA\":2,\t\t\t\"TTGGT\":0,\t\t\t\"TTGGC\":3,\t\t\t\"TTGGG\":1,\n\t\t\t\"TCAAA\":9,\t\t\t\"TCAAT\":7,\t\t\t\"TCAAC\":0,\t\t\t\"TCAAG\":6,\t\t\t\"TCATA\":4,\t\t\t\"TCATT\":1,\t\t\t\"TCATC\":3,\t\t\t\"TCATG\":6,\t\t\t\"TCACA\":3,\t\t\t\"TCACT\":2,\t\t\t\"TCACC\":2,\t\t\t\"TCACG\":3,\t\t\t\"TCAGA\":0,\t\t\t\"TCAGT\":0,\t\t\t\"TCAGC\":4,\t\t\t\"TCAGG\":1,\n\t\t\t\"TCTAA\":0,\t\t\t\"TCTAT\":4,\t\t\t\"TCTAC\":0,\t\t\t\"TCTAG\":1,\t\t\t\"TCTTA\":1,\t\t\t\"TCTTT\":0,\t\t\t\"TCTTC\":4,\t\t\t\"TCTTG\":0,\t\t\t\"TCTCA\":2,\t\t\t\"TCTCT\":3,\t\t\t\"TCTCC\":0,\t\t\t\"TCTCG\":1,\t\t\t\"TCTGA\":3,\t\t\t\"TCTGT\":7,\t\t\t\"TCTGC\":2,\t\t\t\"TCTGG\":3,\n\t\t\t\"TCCAA\":1,\t\t\t\"TCCAT\":3,\t\t\t\"TCCAC\":2,\t\t\t\"TCCAG\":1,\t\t\t\"TCCTA\":0,\t\t\t\"TCCTT\":4,\t\t\t\"TCCTC\":5,\t\t\t\"TCCTG\":5,\t\t\t\"TCCCA\":0,\t\t\t\"TCCCT\":1,\t\t\t\"TCCCC\":1,\t\t\t\"TCCCG\":0,\t\t\t\"TCCGA\":1,\t\t\t\"TCCGT\":0,\t\t\t\"TCCGC\":0,\t\t\t\"TCCGG\":5,\n\t\t\t\"TCGAA\":0,\t\t\t\"TCGAT\":0,\t\t\t\"TCGAC\":0,\t\t\t\"TCGAG\":2,\t\t\t\"TCGTA\":0,\t\t\t\"TCGTT\":2,\t\t\t\"TCGTC\":5,\t\t\t\"TCGTG\":0,\t\t\t\"TCGCA\":0,\t\t\t\"TCGCT\":0,\t\t\t\"TCGCC\":0,\t\t\t\"TCGCG\":0,\t\t\t\"TCGGA\":2,\t\t\t\"TCGGT\":1,\t\t\t\"TCGGC\":0,\t\t\t\"TCGGG\":0,\n\t\t\t\"TGAAA\":2,\t\t\t\"TGAAT\":5,\t\t\t\"TGAAC\":2,\t\t\t\"TGAAG\":2,\t\t\t\"TGATA\":0,\t\t\t\"TGATT\":0,\t\t\t\"TGATC\":0,\t\t\t\"TGATG\":3,\t\t\t\"TGACA\":6,\t\t\t\"TGACT\":1,\t\t\t\"TGACC\":2,\t\t\t\"TGACG\":1,\t\t\t\"TGAGA\":5,\t\t\t\"TGAGT\":0,\t\t\t\"TGAGC\":1,\t\t\t\"TGAGG\":1,\n\t\t\t\"TGTAA\":1,\t\t\t\"TGTAT\":0,\t\t\t\"TGTAC\":0,\t\t\t\"TGTAG\":4,\t\t\t\"TGTTA\":0,\t\t\t\"TGTTT\":3,\t\t\t\"TGTTC\":3,\t\t\t\"TGTTG\":4,\t\t\t\"TGTCA\":1,\t\t\t\"TGTCT\":2,\t\t\t\"TGTCC\":11,\t\t\t\"TGTCG\":4,\t\t\t\"TGTGA\":8,\t\t\t\"TGTGT\":9,\t\t\t\"TGTGC\":3,\t\t\t\"TGTGG\":6,\n\t\t\t\"TGCAA\":2,\t\t\t\"TGCAT\":2,\t\t\t\"TGCAC\":0,\t\t\t\"TGCAG\":0,\t\t\t\"TGCTA\":0,\t\t\t\"TGCTT\":2,\t\t\t\"TGCTC\":2,\t\t\t\"TGCTG\":1,\t\t\t\"TGCCA\":2,\t\t\t\"TGCCT\":0,\t\t\t\"TGCCC\":0,\t\t\t\"TGCCG\":3,\t\t\t\"TGCGA\":0,\t\t\t\"TGCGT\":0,\t\t\t\"TGCGC\":0,\t\t\t\"TGCGG\":0,\n\t\t\t\"TGGAA\":5,\t\t\t\"TGGAT\":2,\t\t\t\"TGGAC\":1,\t\t\t\"TGGAG\":2,\t\t\t\"TGGTA\":3,\t\t\t\"TGGTT\":0,\t\t\t\"TGGTC\":1,\t\t\t\"TGGTG\":3,\t\t\t\"TGGCA\":2,\t\t\t\"TGGCT\":4,\t\t\t\"TGGCC\":7,\t\t\t\"TGGCG\":0,\t\t\t\"TGGGA\":4,\t\t\t\"TGGGT\":3,\t\t\t\"TGGGC\":3,\t\t\t\"TGGGG\":2,\n\t\t\t\"CAAAA\":4,\t\t\t\"CAAAT\":2,\t\t\t\"CAAAC\":2,\t\t\t\"CAAAG\":4,\t\t\t\"CAATA\":0,\t\t\t\"CAATT\":5,\t\t\t\"CAATC\":2,\t\t\t\"CAATG\":6,\t\t\t\"CAACA\":3,\t\t\t\"CAACT\":2,\t\t\t\"CAACC\":0,\t\t\t\"CAACG\":1,\t\t\t\"CAAGA\":3,\t\t\t\"CAAGT\":1,\t\t\t\"CAAGC\":3,\t\t\t\"CAAGG\":8,\n\t\t\t\"CATAA\":2,\t\t\t\"CATAT\":2,\t\t\t\"CATAC\":1,\t\t\t\"CATAG\":2,\t\t\t\"CATTA\":2,\t\t\t\"CATTT\":0,\t\t\t\"CATTC\":0,\t\t\t\"CATTG\":4,\t\t\t\"CATCA\":3,\t\t\t\"CATCT\":3,\t\t\t\"CATCC\":2,\t\t\t\"CATCG\":0,\t\t\t\"CATGA\":4,\t\t\t\"CATGT\":4,\t\t\t\"CATGC\":0,\t\t\t\"CATGG\":2,\n\t\t\t\"CACAA\":1,\t\t\t\"CACAT\":1,\t\t\t\"CACAC\":0,\t\t\t\"CACAG\":6,\t\t\t\"CACTA\":0,\t\t\t\"CACTT\":3,\t\t\t\"CACTC\":0,\t\t\t\"CACTG\":4,\t\t\t\"CACCA\":0,\t\t\t\"CACCT\":1,\t\t\t\"CACCC\":0,\t\t\t\"CACCG\":2,\t\t\t\"CACGA\":0,\t\t\t\"CACGT\":1,\t\t\t\"CACGC\":3,\t\t\t\"CACGG\":0,\n\t\t\t\"CAGAA\":1,\t\t\t\"CAGAT\":2,\t\t\t\"CAGAC\":0,\t\t\t\"CAGAG\":0,\t\t\t\"CAGTA\":0,\t\t\t\"CAGTT\":0,\t\t\t\"CAGTC\":0,\t\t\t\"CAGTG\":2,\t\t\t\"CAGCA\":2,\t\t\t\"CAGCT\":10,\t\t\t\"CAGCC\":2,\t\t\t\"CAGCG\":1,\t\t\t\"CAGGA\":3,\t\t\t\"CAGGT\":0,\t\t\t\"CAGGC\":1,\t\t\t\"CAGGG\":1,\n\t\t\t\"CTAAA\":0,\t\t\t\"CTAAT\":0,\t\t\t\"CTAAC\":0,\t\t\t\"CTAAG\":1,\t\t\t\"CTATA\":0,\t\t\t\"CTATT\":3,\t\t\t\"CTATC\":3,\t\t\t\"CTATG\":2,\t\t\t\"CTACA\":2,\t\t\t\"CTACT\":2,\t\t\t\"CTACC\":0,\t\t\t\"CTACG\":0,\t\t\t\"CTAGA\":0,\t\t\t\"CTAGT\":0,\t\t\t\"CTAGC\":1,\t\t\t\"CTAGG\":0,\n\t\t\t\"CTTAA\":2,\t\t\t\"CTTAT\":3,\t\t\t\"CTTAC\":0,\t\t\t\"CTTAG\":0,\t\t\t\"CTTTA\":2,\t\t\t\"CTTTT\":4,\t\t\t\"CTTTC\":1,\t\t\t\"CTTTG\":1,\t\t\t\"CTTCA\":5,\t\t\t\"CTTCT\":3,\t\t\t\"CTTCC\":0,\t\t\t\"CTTCG\":0,\t\t\t\"CTTGA\":0,\t\t\t\"CTTGT\":0,\t\t\t\"CTTGC\":0,\t\t\t\"CTTGG\":4,\n\t\t\t\"CTCAA\":2,\t\t\t\"CTCAT\":5,\t\t\t\"CTCAC\":3,\t\t\t\"CTCAG\":2,\t\t\t\"CTCTA\":0,\t\t\t\"CTCTT\":3,\t\t\t\"CTCTC\":0,\t\t\t\"CTCTG\":6,\t\t\t\"CTCCA\":3,\t\t\t\"CTCCT\":6,\t\t\t\"CTCCC\":0,\t\t\t\"CTCCG\":1,\t\t\t\"CTCGA\":0,\t\t\t\"CTCGT\":0,\t\t\t\"CTCGC\":0,\t\t\t\"CTCGG\":1,\n\t\t\t\"CTGAA\":3,\t\t\t\"CTGAT\":2,\t\t\t\"CTGAC\":2,\t\t\t\"CTGAG\":0,\t\t\t\"CTGTA\":0,\t\t\t\"CTGTT\":3,\t\t\t\"CTGTC\":10,\t\t\t\"CTGTG\":14,\t\t\t\"CTGCA\":2,\t\t\t\"CTGCT\":1,\t\t\t\"CTGCC\":1,\t\t\t\"CTGCG\":0,\t\t\t\"CTGGA\":1,\t\t\t\"CTGGT\":2,\t\t\t\"CTGGC\":4,\t\t\t\"CTGGG\":6,\n\t\t\t\"CCAAA\":0,\t\t\t\"CCAAT\":2,\t\t\t\"CCAAC\":1,\t\t\t\"CCAAG\":4,\t\t\t\"CCATA\":1,\t\t\t\"CCATT\":3,\t\t\t\"CCATC\":1,\t\t\t\"CCATG\":2,\t\t\t\"CCACA\":4,\t\t\t\"CCACT\":4,\t\t\t\"CCACC\":0,\t\t\t\"CCACG\":0,\t\t\t\"CCAGA\":1,\t\t\t\"CCAGT\":0,\t\t\t\"CCAGC\":1,\t\t\t\"CCAGG\":0,\n\t\t\t\"CCTAA\":0,\t\t\t\"CCTAT\":3,\t\t\t\"CCTAC\":3,\t\t\t\"CCTAG\":0,\t\t\t\"CCTTA\":0,\t\t\t\"CCTTT\":5,\t\t\t\"CCTTC\":0,\t\t\t\"CCTTG\":2,\t\t\t\"CCTCA\":5,\t\t\t\"CCTCT\":3,\t\t\t\"CCTCC\":4,\t\t\t\"CCTCG\":0,\t\t\t\"CCTGA\":1,\t\t\t\"CCTGT\":6,\t\t\t\"CCTGC\":0,\t\t\t\"CCTGG\":0,\n\t\t\t\"CCCAA\":0,\t\t\t\"CCCAT\":0,\t\t\t\"CCCAC\":3,\t\t\t\"CCCAG\":1,\t\t\t\"CCCTA\":5,\t\t\t\"CCCTT\":1,\t\t\t\"CCCTC\":1,\t\t\t\"CCCTG\":1,\t\t\t\"CCCCA\":0,\t\t\t\"CCCCT\":1,\t\t\t\"CCCCC\":0,\t\t\t\"CCCCG\":0,\t\t\t\"CCCGA\":0,\t\t\t\"CCCGT\":0,\t\t\t\"CCCGC\":0,\t\t\t\"CCCGG\":1,\n\t\t\t\"CCGAA\":1,\t\t\t\"CCGAT\":0,\t\t\t\"CCGAC\":2,\t\t\t\"CCGAG\":1,\t\t\t\"CCGTA\":2,\t\t\t\"CCGTT\":0,\t\t\t\"CCGTC\":0,\t\t\t\"CCGTG\":3,\t\t\t\"CCGCA\":0,\t\t\t\"CCGCT\":0,\t\t\t\"CCGCC\":0,\t\t\t\"CCGCG\":2,\t\t\t\"CCGGA\":4,\t\t\t\"CCGGT\":0,\t\t\t\"CCGGC\":1,\t\t\t\"CCGGG\":1,\n\t\t\t\"CGAAA\":1,\t\t\t\"CGAAT\":0,\t\t\t\"CGAAC\":0,\t\t\t\"CGAAG\":0,\t\t\t\"CGATA\":0,\t\t\t\"CGATT\":0,\t\t\t\"CGATC\":0,\t\t\t\"CGATG\":0,\t\t\t\"CGACA\":2,\t\t\t\"CGACT\":0,\t\t\t\"CGACC\":0,\t\t\t\"CGACG\":0,\t\t\t\"CGAGA\":0,\t\t\t\"CGAGT\":2,\t\t\t\"CGAGC\":0,\t\t\t\"CGAGG\":3,\n\t\t\t\"CGTAA\":2,\t\t\t\"CGTAT\":0,\t\t\t\"CGTAC\":0,\t\t\t\"CGTAG\":0,\t\t\t\"CGTTA\":0,\t\t\t\"CGTTT\":0,\t\t\t\"CGTTC\":4,\t\t\t\"CGTTG\":0,\t\t\t\"CGTCA\":4,\t\t\t\"CGTCT\":2,\t\t\t\"CGTCC\":0,\t\t\t\"CGTCG\":0,\t\t\t\"CGTGA\":1,\t\t\t\"CGTGT\":0,\t\t\t\"CGTGC\":0,\t\t\t\"CGTGG\":3,\n\t\t\t\"CGCAA\":0,\t\t\t\"CGCAT\":0,\t\t\t\"CGCAC\":0,\t\t\t\"CGCAG\":3,\t\t\t\"CGCTA\":0,\t\t\t\"CGCTT\":1,\t\t\t\"CGCTC\":0,\t\t\t\"CGCTG\":2,\t\t\t\"CGCCA\":0,\t\t\t\"CGCCT\":0,\t\t\t\"CGCCC\":3,\t\t\t\"CGCCG\":0,\t\t\t\"CGCGA\":2,\t\t\t\"CGCGT\":0,\t\t\t\"CGCGC\":0,\t\t\t\"CGCGG\":0,\n\t\t\t\"CGGAA\":4,\t\t\t\"CGGAT\":0,\t\t\t\"CGGAC\":2,\t\t\t\"CGGAG\":0,\t\t\t\"CGGTA\":0,\t\t\t\"CGGTT\":0,\t\t\t\"CGGTC\":1,\t\t\t\"CGGTG\":3,\t\t\t\"CGGCA\":1,\t\t\t\"CGGCT\":0,\t\t\t\"CGGCC\":0,\t\t\t\"CGGCG\":1,\t\t\t\"CGGGA\":0,\t\t\t\"CGGGT\":0,\t\t\t\"CGGGC\":0,\t\t\t\"CGGGG\":1,\n\t\t\t\"GAAAA\":1,\t\t\t\"GAAAT\":2,\t\t\t\"GAAAC\":4,\t\t\t\"GAAAG\":2,\t\t\t\"GAATA\":4,\t\t\t\"GAATT\":0,\t\t\t\"GAATC\":2,\t\t\t\"GAATG\":1,\t\t\t\"GAACA\":0,\t\t\t\"GAACT\":1,\t\t\t\"GAACC\":0,\t\t\t\"GAACG\":2,\t\t\t\"GAAGA\":3,\t\t\t\"GAAGT\":7,\t\t\t\"GAAGC\":2,\t\t\t\"GAAGG\":1,\n\t\t\t\"GATAA\":0,\t\t\t\"GATAT\":0,\t\t\t\"GATAC\":1,\t\t\t\"GATAG\":0,\t\t\t\"GATTA\":2,\t\t\t\"GATTT\":1,\t\t\t\"GATTC\":1,\t\t\t\"GATTG\":0,\t\t\t\"GATCA\":1,\t\t\t\"GATCT\":0,\t\t\t\"GATCC\":0,\t\t\t\"GATCG\":0,\t\t\t\"GATGA\":1,\t\t\t\"GATGT\":2,\t\t\t\"GATGC\":2,\t\t\t\"GATGG\":3,\n\t\t\t\"GACAA\":4,\t\t\t\"GACAT\":1,\t\t\t\"GACAC\":1,\t\t\t\"GACAG\":3,\t\t\t\"GACTA\":0,\t\t\t\"GACTT\":1,\t\t\t\"GACTC\":0,\t\t\t\"GACTG\":3,\t\t\t\"GACCA\":4,\t\t\t\"GACCT\":2,\t\t\t\"GACCC\":3,\t\t\t\"GACCG\":0,\t\t\t\"GACGA\":0,\t\t\t\"GACGT\":2,\t\t\t\"GACGC\":1,\t\t\t\"GACGG\":0,\n\t\t\t\"GAGAA\":3,\t\t\t\"GAGAT\":0,\t\t\t\"GAGAC\":2,\t\t\t\"GAGAG\":2,\t\t\t\"GAGTA\":0,\t\t\t\"GAGTT\":3,\t\t\t\"GAGTC\":2,\t\t\t\"GAGTG\":0,\t\t\t\"GAGCA\":0,\t\t\t\"GAGCT\":3,\t\t\t\"GAGCC\":1,\t\t\t\"GAGCG\":1,\t\t\t\"GAGGA\":1,\t\t\t\"GAGGT\":1,\t\t\t\"GAGGC\":2,\t\t\t\"GAGGG\":2,\n\t\t\t\"GTAAA\":0,\t\t\t\"GTAAT\":0,\t\t\t\"GTAAC\":2,\t\t\t\"GTAAG\":1,\t\t\t\"GTATA\":4,\t\t\t\"GTATT\":0,\t\t\t\"GTATC\":0,\t\t\t\"GTATG\":0,\t\t\t\"GTACA\":0,\t\t\t\"GTACT\":3,\t\t\t\"GTACC\":0,\t\t\t\"GTACG\":0,\t\t\t\"GTAGA\":1,\t\t\t\"GTAGT\":3,\t\t\t\"GTAGC\":0,\t\t\t\"GTAGG\":0,\n\t\t\t\"GTTAA\":3,\t\t\t\"GTTAT\":0,\t\t\t\"GTTAC\":0,\t\t\t\"GTTAG\":0,\t\t\t\"GTTTA\":0,\t\t\t\"GTTTT\":2,\t\t\t\"GTTTC\":3,\t\t\t\"GTTTG\":0,\t\t\t\"GTTCA\":4,\t\t\t\"GTTCT\":2,\t\t\t\"GTTCC\":1,\t\t\t\"GTTCG\":0,\t\t\t\"GTTGA\":2,\t\t\t\"GTTGT\":4,\t\t\t\"GTTGC\":1,\t\t\t\"GTTGG\":1,\n\t\t\t\"GTCAA\":9,\t\t\t\"GTCAT\":3,\t\t\t\"GTCAC\":4,\t\t\t\"GTCAG\":0,\t\t\t\"GTCTA\":2,\t\t\t\"GTCTT\":2,\t\t\t\"GTCTC\":3,\t\t\t\"GTCTG\":2,\t\t\t\"GTCCA\":1,\t\t\t\"GTCCT\":7,\t\t\t\"GTCCC\":1,\t\t\t\"GTCCG\":4,\t\t\t\"GTCGA\":2,\t\t\t\"GTCGT\":2,\t\t\t\"GTCGC\":0,\t\t\t\"GTCGG\":0,\n\t\t\t\"GTGAA\":4,\t\t\t\"GTGAT\":0,\t\t\t\"GTGAC\":3,\t\t\t\"GTGAG\":5,\t\t\t\"GTGTA\":1,\t\t\t\"GTGTT\":4,\t\t\t\"GTGTC\":0,\t\t\t\"GTGTG\":8,\t\t\t\"GTGCA\":1,\t\t\t\"GTGCT\":2,\t\t\t\"GTGCC\":2,\t\t\t\"GTGCG\":0,\t\t\t\"GTGGA\":4,\t\t\t\"GTGGT\":5,\t\t\t\"GTGGC\":4,\t\t\t\"GTGGG\":1,\n\t\t\t\"GCAAA\":1,\t\t\t\"GCAAT\":3,\t\t\t\"GCAAC\":0,\t\t\t\"GCAAG\":2,\t\t\t\"GCATA\":1,\t\t\t\"GCATT\":0,\t\t\t\"GCATC\":2,\t\t\t\"GCATG\":2,\t\t\t\"GCACA\":0,\t\t\t\"GCACT\":1,\t\t\t\"GCACC\":1,\t\t\t\"GCACG\":0,\t\t\t\"GCAGA\":2,\t\t\t\"GCAGT\":0,\t\t\t\"GCAGC\":3,\t\t\t\"GCAGG\":0,\n\t\t\t\"GCTAA\":1,\t\t\t\"GCTAT\":1,\t\t\t\"GCTAC\":0,\t\t\t\"GCTAG\":0,\t\t\t\"GCTTA\":2,\t\t\t\"GCTTT\":3,\t\t\t\"GCTTC\":0,\t\t\t\"GCTTG\":2,\t\t\t\"GCTCA\":3,\t\t\t\"GCTCT\":0,\t\t\t\"GCTCC\":6,\t\t\t\"GCTCG\":0,\t\t\t\"GCTGA\":4,\t\t\t\"GCTGT\":8,\t\t\t\"GCTGC\":1,\t\t\t\"GCTGG\":4,\n\t\t\t\"GCCAA\":4,\t\t\t\"GCCAT\":3,\t\t\t\"GCCAC\":0,\t\t\t\"GCCAG\":0,\t\t\t\"GCCTA\":0,\t\t\t\"GCCTT\":0,\t\t\t\"GCCTC\":1,\t\t\t\"GCCTG\":1,\t\t\t\"GCCCA\":4,\t\t\t\"GCCCT\":3,\t\t\t\"GCCCC\":0,\t\t\t\"GCCCG\":1,\t\t\t\"GCCGA\":4,\t\t\t\"GCCGT\":2,\t\t\t\"GCCGC\":0,\t\t\t\"GCCGG\":0,\n\t\t\t\"GCGAA\":0,\t\t\t\"GCGAT\":0,\t\t\t\"GCGAC\":0,\t\t\t\"GCGAG\":2,\t\t\t\"GCGTA\":0,\t\t\t\"GCGTT\":0,\t\t\t\"GCGTC\":0,\t\t\t\"GCGTG\":1,\t\t\t\"GCGCA\":1,\t\t\t\"GCGCT\":1,\t\t\t\"GCGCC\":0,\t\t\t\"GCGCG\":0,\t\t\t\"GCGGA\":0,\t\t\t\"GCGGT\":1,\t\t\t\"GCGGC\":1,\t\t\t\"GCGGG\":0,\n\t\t\t\"GGAAA\":6,\t\t\t\"GGAAT\":2,\t\t\t\"GGAAC\":1,\t\t\t\"GGAAG\":7,\t\t\t\"GGATA\":0,\t\t\t\"GGATT\":1,\t\t\t\"GGATC\":0,\t\t\t\"GGATG\":2,\t\t\t\"GGACA\":0,\t\t\t\"GGACT\":2,\t\t\t\"GGACC\":3,\t\t\t\"GGACG\":3,\t\t\t\"GGAGA\":2,\t\t\t\"GGAGT\":1,\t\t\t\"GGAGC\":2,\t\t\t\"GGAGG\":0,\n\t\t\t\"GGTAA\":0,\t\t\t\"GGTAT\":0,\t\t\t\"GGTAC\":3,\t\t\t\"GGTAG\":0,\t\t\t\"GGTTA\":2,\t\t\t\"GGTTT\":1,\t\t\t\"GGTTC\":0,\t\t\t\"GGTTG\":2,\t\t\t\"GGTCA\":2,\t\t\t\"GGTCT\":1,\t\t\t\"GGTCC\":1,\t\t\t\"GGTCG\":0,\t\t\t\"GGTGA\":4,\t\t\t\"GGTGT\":3,\t\t\t\"GGTGC\":0,\t\t\t\"GGTGG\":1,\n\t\t\t\"GGCAA\":3,\t\t\t\"GGCAT\":0,\t\t\t\"GGCAC\":2,\t\t\t\"GGCAG\":0,\t\t\t\"GGCTA\":0,\t\t\t\"GGCTT\":0,\t\t\t\"GGCTC\":3,\t\t\t\"GGCTG\":4,\t\t\t\"GGCCA\":5,\t\t\t\"GGCCT\":0,\t\t\t\"GGCCC\":4,\t\t\t\"GGCCG\":0,\t\t\t\"GGCGA\":0,\t\t\t\"GGCGT\":1,\t\t\t\"GGCGC\":2,\t\t\t\"GGCGG\":0,\n\t\t\t\"GGGAA\":3,\t\t\t\"GGGAT\":0,\t\t\t\"GGGAC\":2,\t\t\t\"GGGAG\":2,\t\t\t\"GGGTA\":0,\t\t\t\"GGGTT\":4,\t\t\t\"GGGTC\":1,\t\t\t\"GGGTG\":0,\t\t\t\"GGGCA\":2,\t\t\t\"GGGCT\":1,\t\t\t\"GGGCC\":1,\t\t\t\"GGGCG\":2,\t\t\t\"GGGGA\":1,\t\t\t\"GGGGT\":0,\t\t\t\"GGGGC\":3,\t\t\t\"GGGGG\":3\n\t\t},\n\t\t\"overrepresented_sequences\": {\n\t\t}\n\t},\n\t\"read1_after_filtering\": {\n\t\t\"total_reads\": 17,\n\t\t\"total_bases\": 1670,\n\t\t\"q20_bases\": 1654,\n\t\t\"q30_bases\": 1607,\n\t\t\"total_cycles\": 100,\n\t\t\"quality_curves\": {\n\t\t\t\"A\":[37,33.9412,37,37,34.6,37,37,37,37,37,37,37,37,37,37,37,37,32.6667,37,37,37,37,37,37,37,37,37,37,37,34,37,34,37,37,35,32.2,37,37,37,37,37,31.8,37,37,37,37,37,37,37,37,37,37,37,37,37,37,37,37,37,35.5,37,37,37,37,37,37,37,37,37,37,37,37,37,37,31,37,37,37,37,37,37,37,30.5,37,33.2857,37,34.6,31.8,37,37,37,37,37,30.5,37,34.6,37,37,37,37],\n\t\t\t\"T\":[37,37,37,37,37,37,37,37,37,37,37,37,37,37,37,37,37,37,30.5,37,30.5,37,37,37,31,37,37,37,37,37,37,37,37,37,37,37,37,37,37,37,37,35,37,35.6667,37,34,37,37,37,37,37,35,37,37,37,37,37,37,37,37,37,37,37,37,37,35,37,37,37,37,37,34.6,37,37,37,37,37,37,37,37,33,37,37,37,37,37,37,37,37,34.6,35,37,37,37,37,37,34,37,37,37],\n\t\t\t\"C\":[31,24,37,37,37,37,37,37,37,37,37,37,34,37,37,37,37,37,37,37,37,37,37,37,34.6,37,37,37,37,37,37,37,33,37,37,37,37,37,37,37,37,37,34,37,37,37,37,37,37,37,37,37,37,37,37,37,37,37,37,37,34,37,37,37,37,37,37,37,37,37,37,37,37,37,37,37,37,37,37,34,37,33,31,37,34.6,37,37,37,37,37,37,37,37,37,37,37,37,37,37,37],\n\t\t\t\"G\":[33.2857,37,37,37,37,37,33,37,37,37,37,37,37,33,37,37,37,37,34,37,37,37,37,37,37,37,37,37,37,37,37,37,37,37,37,37,37,35,37,32.6667,37,37,37,25,37,37,34.6,35,37,37,37,37,37,37,37,33,37,37,37,37,34.6,37,37,37,37,34.6,37,34,37,37,37,37,37,37,37,37,37,31.8,37,34,37,37,37,37,37,34.6,37,33,37,37,37,37,37,37,37,37,37,37,37,37],\n\t\t\t\"mean\":[34.0588,33.9412,37,37,36.2941,37,36.2941,37,37,37,37,37,36.2941,36.2941,37,37,34.9412,35.4706,34.7647,37,35.4706,37,37,37,35.5882,37,37,37,37,36.2941,37,36.2941,36.2941,37,36.2941,35.5882,37,36.2941,37,35.4706,37,34.7647,36.2941,35.5882,37,36.2941,36.2941,36.2941,37,37,37,36.2941,37,37,37,36.2941,37,37,37,36.2941,35.5882,37,37,37,37,35.5882,37,36.2941,37,37,37,36.25,37,37,36.25,37,37,35.375,37,35.5,36.25,36.25,34.625,37,32.4375,36.25,34.0625,33.875,37,36.25,36.25,37,37,35.375,37,36.25,36.25,37,37,37]\n\t\t},\n\t\t\"content_curves\": {\n\t\t\t\"A\":[0.294118,0,0.411765,0.235294,0.294118,0.176471,0.235294,0.117647,0.117647,0.294118,0.235294,0.294118,0.352941,0.352941,0.235294,0.176471,0.352941,0.352941,0.352941,0.294118,0.235294,0.352941,0.411765,0.235294,0.411765,0.352941,0.352941,0.352941,0.235294,0.235294,0.235294,0.235294,0.294118,0.117647,0.352941,0.294118,0.235294,0.235294,0.176471,0.117647,0.235294,0.294118,0.235294,0.235294,0.0588235,0.235294,0.294118,0.176471,0.294118,0.176471,0.117647,0.235294,0.117647,0.411765,0.176471,0.235294,0.235294,0.235294,0.235294,0.470588,0.352941,0.294118,0.235294,0.235294,0.235294,0.0588235,0.0588235,0.176471,0.235294,0.176471,0.1875,0.125,0.375,0.3125,0.125,0.375,0.375,0.375,0.3125,0.375,0.125,0.25,0.25,0.25,0.4375,0.3125,0.3125,0.3125,0.4375,0.4375,0.125,0.3125,0.3125,0.25,0.4375,0.3125,0.125,0.375,0.0625,0.375],\n\t\t\t\"T\":[0.0588235,0.470588,0.176471,0.352941,0.352941,0.352941,0.294118,0.470588,0.176471,0.235294,0.176471,0.294118,0.294118,0.117647,0.235294,0.117647,0.0588235,0.117647,0.235294,0.294118,0.235294,0.176471,0.0588235,0.294118,0.117647,0.294118,0.117647,0.117647,0.235294,0.176471,0.235294,0.0588235,0.176471,0.176471,0.176471,0.294118,0.235294,0.235294,0.294118,0.470588,0.235294,0.352941,0.411765,0.529412,0.235294,0.235294,0.235294,0.176471,0.411765,0.352941,0.176471,0.352941,0.411765,0.235294,0.470588,0.352941,0.176471,0.117647,0.235294,0.176471,0.117647,0.294118,0.176471,0.352941,0.352941,0.352941,0.235294,0.411765,0.235294,0.117647,0.25,0.3125,0.3125,0.1875,0.4375,0.125,0.25,0.1875,0.3125,0.125,0.1875,0.3125,0.4375,0.125,0.125,0.1875,0.1875,0.1875,0.1875,0.3125,0.375,0.1875,0.125,0.375,0.1875,0.0625,0.25,0.25,0.1875,0.25],\n\t\t\t\"C\":[0.235294,0.235294,0.235294,0.352941,0.294118,0.117647,0.294118,0.235294,0.294118,0.411765,0.235294,0.294118,0.235294,0.352941,0.117647,0.352941,0.352941,0.411765,0.176471,0.117647,0.294118,0.294118,0.294118,0.176471,0.294118,0.117647,0.176471,0.176471,0.176471,0.411765,0.352941,0.352941,0.176471,0.411765,0.294118,0.176471,0.235294,0.176471,0.176471,0.0588235,0.117647,0.176471,0.235294,0.176471,0.294118,0.176471,0.176471,0.294118,0.117647,0.176471,0.352941,0.176471,0.352941,0.235294,0.176471,0.235294,0.470588,0.294118,0.176471,0.235294,0.235294,0.176471,0.294118,0.235294,0.117647,0.294118,0.470588,0.176471,0.294118,0.411765,0.3125,0.3125,0.125,0.125,0.25,0.375,0.125,0.125,0.125,0.25,0.375,0.1875,0.125,0.4375,0.3125,0.1875,0.1875,0.125,0.25,0.125,0.1875,0.125,0.375,0.3125,0.125,0.3125,0.5,0.1875,0.4375,0.125],\n\t\t\t\"G\":[0.411765,0.294118,0.176471,0.0588235,0.0588235,0.352941,0.176471,0.176471,0.411765,0.0588235,0.352941,0.117647,0.117647,0.176471,0.411765,0.352941,0.176471,0.117647,0.235294,0.294118,0.235294,0.176471,0.235294,0.294118,0.176471,0.235294,0.352941,0.352941,0.352941,0.176471,0.176471,0.352941,0.352941,0.294118,0.176471,0.235294,0.294118,0.352941,0.352941,0.352941,0.411765,0.176471,0.117647,0.0588235,0.411765,0.352941,0.294118,0.352941,0.176471,0.294118,0.352941,0.235294,0.117647,0.117647,0.176471,0.176471,0.117647,0.352941,0.352941,0.117647,0.294118,0.235294,0.294118,0.176471,0.294118,0.294118,0.235294,0.235294,0.235294,0.294118,0.25,0.25,0.1875,0.375,0.1875,0.125,0.25,0.3125,0.25,0.25,0.3125,0.25,0.1875,0.1875,0.0625,0.3125,0.25,0.375,0.125,0.125,0.3125,0.375,0.1875,0.0625,0.25,0.3125,0.125,0.1875,0.3125,0.25],\n\t\t\t\"N\":[0,0,0,0,0,0,0,0,0,0,0,0,0,0,0,0,0.0588235,0,0,0,0,0,0,0,0,0,0,0,0,0,0,0,0,0,0,0,0,0,0,0,0,0,0,0,0,0,0,0,0,0,0,0,0,0,0,0,0,0,0,0,0,0,0,0,0,0,0,0,0,0,0,0,0,0,0,0,0,0,0,0,0,0,0,0,0.0625,0,0.0625,0,0,0,0,0,0,0,0,0,0,0,0,0],\n\t\t\t\"GC\":[0.647059,0.529412,0.411765,0.411765,0.352941,0.470588,0.470588,0.411765,0.705882,0.470588,0.588235,0.411765,0.352941,0.529412,0.529412,0.705882,0.529412,0.529412,0.411765,0.411765,0.529412,0.470588,0.529412,0.470588,0.470588,0.352941,0.529412,0.529412,0.529412,0.588235,0.529412,0.705882,0.529412,0.705882,0.470588,0.411765,0.529412,0.529412,0.529412,0.411765,0.529412,0.352941,0.352941,0.235294,0.705882,0.529412,0.470588,0.647059,0.294118,0.470588,0.705882,0.411765,0.470588,0.352941,0.352941,0.411765,0.588235,0.647059,0.529412,0.352941,0.529412,0.411765,0.588235,0.411765,0.411765,0.588235,0.705882,0.411765,0.529412,0.705882,0.5625,0.5625,0.3125,0.5,0.4375,0.5,0.375,0.4375,0.375,0.5,0.6875,0.4375,0.3125,0.625,0.375,0.5,0.4375,0.5,0.375,0.25,0.5,0.5,0.5625,0.375,0.375,0.625,0.625,0.375,0.75,0.375]\n\t\t},\n\t\t\"kmer_count\": {\n\t\t\t\"AAAAA\":1,\t\t\t\"AAAAT\":1,\t\t\t\"AAAAC\":4,\t\t\t\"AAAAG\":0,\t\t\t\"AAATA\":2,\t\t\t\"AAATT\":2,\t\t\t\"AAATC\":1,\t\t\t\"AAATG\":1,\t\t\t\"AAACA\":2,\t\t\t\"AAACT\":1,\t\t\t\"AAACC\":4,\t\t\t\"AAACG\":1,\t\t\t\"AAAGA\":3,\t\t\t\"AAAGT\":6,\t\t\t\"AAAGC\":3,\t\t\t\"AAAGG\":3,\n\t\t\t\"AATAA\":1,\t\t\t\"AATAT\":2,\t\t\t\"AATAC\":2,\t\t\t\"AATAG\":3,\t\t\t\"AATTA\":1,\t\t\t\"AATTT\":2,\t\t\t\"AATTC\":0,\t\t\t\"AATTG\":2,\t\t\t\"AATCA\":1,\t\t\t\"AATCT\":2,\t\t\t\"AATCC\":0,\t\t\t\"AATCG\":0,\t\t\t\"AATGA\":6,\t\t\t\"AATGT\":0,\t\t\t\"AATGC\":1,\t\t\t\"AATGG\":1,\n\t\t\t\"AACAA\":2,\t\t\t\"AACAT\":2,\t\t\t\"AACAC\":1,\t\t\t\"AACAG\":1,\t\t\t\"AACTA\":0,\t\t\t\"AACTT\":1,\t\t\t\"AACTC\":0,\t\t\t\"AACTG\":2,\t\t\t\"AACCA\":2,\t\t\t\"AACCT\":3,\t\t\t\"AACCC\":1,\t\t\t\"AACCG\":0,\t\t\t\"AACGA\":0,\t\t\t\"AACGT\":0,\t\t\t\"AACGC\":1,\t\t\t\"AACGG\":1,\n\t\t\t\"AAGAA\":1,\t\t\t\"AAGAT\":3,\t\t\t\"AAGAC\":2,\t\t\t\"AAGAG\":3,\t\t\t\"AAGTA\":1,\t\t\t\"AAGTT\":2,\t\t\t\"AAGTC\":5,\t\t\t\"AAGTG\":2,\t\t\t\"AAGCA\":4,\t\t\t\"AAGCT\":4,\t\t\t\"AAGCC\":3,\t\t\t\"AAGCG\":0,\t\t\t\"AAGGA\":3,\t\t\t\"AAGGT\":2,\t\t\t\"AAGGC\":0,\t\t\t\"AAGGG\":3,\n\t\t\t\"ATAAA\":2,\t\t\t\"ATAAT\":1,\t\t\t\"ATAAC\":0,\t\t\t\"ATAAG\":1,\t\t\t\"ATATA\":1,\t\t\t\"ATATT\":2,\t\t\t\"ATATC\":2,\t\t\t\"ATATG\":2,\t\t\t\"ATACA\":1,\t\t\t\"ATACT\":1,\t\t\t\"ATACC\":1,\t\t\t\"ATACG\":0,\t\t\t\"ATAGA\":1,\t\t\t\"ATAGT\":2,\t\t\t\"ATAGC\":1,\t\t\t\"ATAGG\":0,\n\t\t\t\"ATTAA\":1,\t\t\t\"ATTAT\":1,\t\t\t\"ATTAC\":1,\t\t\t\"ATTAG\":0,\t\t\t\"ATTTA\":1,\t\t\t\"ATTTT\":1,\t\t\t\"ATTTC\":3,\t\t\t\"ATTTG\":2,\t\t\t\"ATTCA\":4,\t\t\t\"ATTCT\":1,\t\t\t\"ATTCC\":2,\t\t\t\"ATTCG\":0,\t\t\t\"ATTGA\":2,\t\t\t\"ATTGT\":2,\t\t\t\"ATTGC\":2,\t\t\t\"ATTGG\":1,\n\t\t\t\"ATCAA\":3,\t\t\t\"ATCAT\":3,\t\t\t\"ATCAC\":1,\t\t\t\"ATCAG\":0,\t\t\t\"ATCTA\":2,\t\t\t\"ATCTT\":4,\t\t\t\"ATCTC\":1,\t\t\t\"ATCTG\":2,\t\t\t\"ATCCA\":1,\t\t\t\"ATCCT\":1,\t\t\t\"ATCCC\":1,\t\t\t\"ATCCG\":4,\t\t\t\"ATCGA\":0,\t\t\t\"ATCGT\":0,\t\t\t\"ATCGC\":0,\t\t\t\"ATCGG\":0,\n\t\t\t\"ATGAA\":2,\t\t\t\"ATGAT\":6,\t\t\t\"ATGAC\":4,\t\t\t\"ATGAG\":3,\t\t\t\"ATGTA\":2,\t\t\t\"ATGTT\":5,\t\t\t\"ATGTC\":2,\t\t\t\"ATGTG\":0,\t\t\t\"ATGCA\":2,\t\t\t\"ATGCT\":1,\t\t\t\"ATGCC\":0,\t\t\t\"ATGCG\":0,\t\t\t\"ATGGA\":3,\t\t\t\"ATGGT\":1,\t\t\t\"ATGGC\":3,\t\t\t\"ATGGG\":4,\n\t\t\t\"ACAAA\":4,\t\t\t\"ACAAT\":0,\t\t\t\"ACAAC\":2,\t\t\t\"ACAAG\":6,\t\t\t\"ACATA\":1,\t\t\t\"ACATT\":2,\t\t\t\"ACATC\":0,\t\t\t\"ACATG\":4,\t\t\t\"ACACA\":1,\t\t\t\"ACACT\":0,\t\t\t\"ACACC\":1,\t\t\t\"ACACG\":1,\t\t\t\"ACAGA\":1,\t\t\t\"ACAGT\":2,\t\t\t\"ACAGC\":6,\t\t\t\"ACAGG\":4,\n\t\t\t\"ACTAA\":0,\t\t\t\"ACTAT\":1,\t\t\t\"ACTAC\":1,\t\t\t\"ACTAG\":1,\t\t\t\"ACTTA\":2,\t\t\t\"ACTTT\":1,\t\t\t\"ACTTC\":2,\t\t\t\"ACTTG\":1,\t\t\t\"ACTCA\":0,\t\t\t\"ACTCT\":0,\t\t\t\"ACTCC\":0,\t\t\t\"ACTCG\":0,\t\t\t\"ACTGA\":0,\t\t\t\"ACTGT\":3,\t\t\t\"ACTGC\":1,\t\t\t\"ACTGG\":3,\n\t\t\t\"ACCAA\":2,\t\t\t\"ACCAT\":3,\t\t\t\"ACCAC\":3,\t\t\t\"ACCAG\":3,\t\t\t\"ACCTA\":1,\t\t\t\"ACCTT\":1,\t\t\t\"ACCTC\":2,\t\t\t\"ACCTG\":2,\t\t\t\"ACCCA\":3,\t\t\t\"ACCCT\":3,\t\t\t\"ACCCC\":0,\t\t\t\"ACCCG\":0,\t\t\t\"ACCGA\":0,\t\t\t\"ACCGT\":0,\t\t\t\"ACCGC\":0,\t\t\t\"ACCGG\":0,\n\t\t\t\"ACGAA\":0,\t\t\t\"ACGAT\":0,\t\t\t\"ACGAC\":1,\t\t\t\"ACGAG\":1,\t\t\t\"ACGTA\":0,\t\t\t\"ACGTT\":1,\t\t\t\"ACGTC\":1,\t\t\t\"ACGTG\":1,\t\t\t\"ACGCA\":0,\t\t\t\"ACGCT\":2,\t\t\t\"ACGCC\":1,\t\t\t\"ACGCG\":0,\t\t\t\"ACGGA\":3,\t\t\t\"ACGGT\":0,\t\t\t\"ACGGC\":2,\t\t\t\"ACGGG\":0,\n\t\t\t\"AGAAA\":3,\t\t\t\"AGAAT\":0,\t\t\t\"AGAAC\":1,\t\t\t\"AGAAG\":3,\t\t\t\"AGATA\":1,\t\t\t\"AGATT\":3,\t\t\t\"AGATC\":0,\t\t\t\"AGATG\":6,\t\t\t\"AGACA\":1,\t\t\t\"AGACT\":3,\t\t\t\"AGACC\":1,\t\t\t\"AGACG\":1,\t\t\t\"AGAGA\":1,\t\t\t\"AGAGT\":3,\t\t\t\"AGAGC\":1,\t\t\t\"AGAGG\":0,\n\t\t\t\"AGTAA\":3,\t\t\t\"AGTAT\":0,\t\t\t\"AGTAC\":2,\t\t\t\"AGTAG\":1,\t\t\t\"AGTTA\":1,\t\t\t\"AGTTT\":1,\t\t\t\"AGTTC\":1,\t\t\t\"AGTTG\":3,\t\t\t\"AGTCA\":6,\t\t\t\"AGTCT\":1,\t\t\t\"AGTCC\":4,\t\t\t\"AGTCG\":0,\t\t\t\"AGTGA\":2,\t\t\t\"AGTGT\":0,\t\t\t\"AGTGC\":3,\t\t\t\"AGTGG\":3,\n\t\t\t\"AGCAA\":2,\t\t\t\"AGCAT\":0,\t\t\t\"AGCAC\":3,\t\t\t\"AGCAG\":4,\t\t\t\"AGCTA\":0,\t\t\t\"AGCTT\":4,\t\t\t\"AGCTC\":3,\t\t\t\"AGCTG\":8,\t\t\t\"AGCCA\":2,\t\t\t\"AGCCT\":3,\t\t\t\"AGCCC\":3,\t\t\t\"AGCCG\":0,\t\t\t\"AGCGA\":0,\t\t\t\"AGCGT\":0,\t\t\t\"AGCGC\":0,\t\t\t\"AGCGG\":1,\n\t\t\t\"AGGAA\":2,\t\t\t\"AGGAT\":0,\t\t\t\"AGGAC\":1,\t\t\t\"AGGAG\":1,\t\t\t\"AGGTA\":0,\t\t\t\"AGGTT\":1,\t\t\t\"AGGTC\":2,\t\t\t\"AGGTG\":2,\t\t\t\"AGGCA\":1,\t\t\t\"AGGCT\":2,\t\t\t\"AGGCC\":1,\t\t\t\"AGGCG\":0,\t\t\t\"AGGGA\":1,\t\t\t\"AGGGT\":2,\t\t\t\"AGGGC\":3,\t\t\t\"AGGGG\":2,\n\t\t\t\"TAAAA\":0,\t\t\t\"TAAAT\":3,\t\t\t\"TAAAC\":0,\t\t\t\"TAAAG\":5,\t\t\t\"TAATA\":1,\t\t\t\"TAATT\":0,\t\t\t\"TAATC\":0,\t\t\t\"TAATG\":0,\t\t\t\"TAACA\":1,\t\t\t\"TAACT\":0,\t\t\t\"TAACC\":1,\t\t\t\"TAACG\":0,\t\t\t\"TAAGA\":1,\t\t\t\"TAAGT\":0,\t\t\t\"TAAGC\":2,\t\t\t\"TAAGG\":1,\n\t\t\t\"TATAA\":1,\t\t\t\"TATAT\":2,\t\t\t\"TATAC\":1,\t\t\t\"TATAG\":0,\t\t\t\"TATTA\":1,\t\t\t\"TATTT\":2,\t\t\t\"TATTC\":1,\t\t\t\"TATTG\":0,\t\t\t\"TATCA\":1,\t\t\t\"TATCT\":2,\t\t\t\"TATCC\":1,\t\t\t\"TATCG\":0,\t\t\t\"TATGA\":2,\t\t\t\"TATGT\":0,\t\t\t\"TATGC\":0,\t\t\t\"TATGG\":3,\n\t\t\t\"TACAA\":2,\t\t\t\"TACAT\":2,\t\t\t\"TACAC\":0,\t\t\t\"TACAG\":1,\t\t\t\"TACTA\":0,\t\t\t\"TACTT\":1,\t\t\t\"TACTC\":0,\t\t\t\"TACTG\":3,\t\t\t\"TACCA\":4,\t\t\t\"TACCT\":1,\t\t\t\"TACCC\":0,\t\t\t\"TACCG\":0,\t\t\t\"TACGA\":1,\t\t\t\"TACGT\":0,\t\t\t\"TACGC\":0,\t\t\t\"TACGG\":0,\n\t\t\t\"TAGAA\":1,\t\t\t\"TAGAT\":1,\t\t\t\"TAGAC\":0,\t\t\t\"TAGAG\":0,\t\t\t\"TAGTA\":1,\t\t\t\"TAGTT\":1,\t\t\t\"TAGTC\":1,\t\t\t\"TAGTG\":1,\t\t\t\"TAGCA\":0,\t\t\t\"TAGCT\":1,\t\t\t\"TAGCC\":1,\t\t\t\"TAGCG\":0,\t\t\t\"TAGGA\":0,\t\t\t\"TAGGT\":0,\t\t\t\"TAGGC\":1,\t\t\t\"TAGGG\":2,\n\t\t\t\"TTAAA\":3,\t\t\t\"TTAAT\":0,\t\t\t\"TTAAC\":2,\t\t\t\"TTAAG\":0,\t\t\t\"TTATA\":2,\t\t\t\"TTATT\":1,\t\t\t\"TTATC\":2,\t\t\t\"TTATG\":1,\t\t\t\"TTACA\":0,\t\t\t\"TTACT\":2,\t\t\t\"TTACC\":1,\t\t\t\"TTACG\":0,\t\t\t\"TTAGA\":0,\t\t\t\"TTAGT\":1,\t\t\t\"TTAGC\":0,\t\t\t\"TTAGG\":0,\n\t\t\t\"TTTAA\":1,\t\t\t\"TTTAT\":3,\t\t\t\"TTTAC\":0,\t\t\t\"TTTAG\":1,\t\t\t\"TTTTA\":1,\t\t\t\"TTTTT\":2,\t\t\t\"TTTTC\":1,\t\t\t\"TTTTG\":3,\t\t\t\"TTTCA\":2,\t\t\t\"TTTCT\":3,\t\t\t\"TTTCC\":3,\t\t\t\"TTTCG\":1,\t\t\t\"TTTGA\":5,\t\t\t\"TTTGT\":4,\t\t\t\"TTTGC\":0,\t\t\t\"TTTGG\":1,\n\t\t\t\"TTCAA\":3,\t\t\t\"TTCAT\":2,\t\t\t\"TTCAC\":4,\t\t\t\"TTCAG\":2,\t\t\t\"TTCTA\":2,\t\t\t\"TTCTT\":2,\t\t\t\"TTCTC\":4,\t\t\t\"TTCTG\":2,\t\t\t\"TTCCA\":2,\t\t\t\"TTCCT\":1,\t\t\t\"TTCCC\":5,\t\t\t\"TTCCG\":0,\t\t\t\"TTCGA\":0,\t\t\t\"TTCGT\":0,\t\t\t\"TTCGC\":0,\t\t\t\"TTCGG\":1,\n\t\t\t\"TTGAA\":1,\t\t\t\"TTGAT\":1,\t\t\t\"TTGAC\":6,\t\t\t\"TTGAG\":3,\t\t\t\"TTGTA\":2,\t\t\t\"TTGTT\":0,\t\t\t\"TTGTC\":2,\t\t\t\"TTGTG\":4,\t\t\t\"TTGCA\":1,\t\t\t\"TTGCT\":1,\t\t\t\"TTGCC\":2,\t\t\t\"TTGCG\":0,\t\t\t\"TTGGA\":3,\t\t\t\"TTGGT\":1,\t\t\t\"TTGGC\":1,\t\t\t\"TTGGG\":1,\n\t\t\t\"TCAAA\":5,\t\t\t\"TCAAT\":4,\t\t\t\"TCAAC\":0,\t\t\t\"TCAAG\":2,\t\t\t\"TCATA\":2,\t\t\t\"TCATT\":2,\t\t\t\"TCATC\":3,\t\t\t\"TCATG\":5,\t\t\t\"TCACA\":5,\t\t\t\"TCACT\":0,\t\t\t\"TCACC\":2,\t\t\t\"TCACG\":1,\t\t\t\"TCAGA\":1,\t\t\t\"TCAGT\":0,\t\t\t\"TCAGC\":0,\t\t\t\"TCAGG\":2,\n\t\t\t\"TCTAA\":2,\t\t\t\"TCTAT\":2,\t\t\t\"TCTAC\":0,\t\t\t\"TCTAG\":1,\t\t\t\"TCTTA\":0,\t\t\t\"TCTTT\":4,\t\t\t\"TCTTC\":3,\t\t\t\"TCTTG\":2,\t\t\t\"TCTCA\":1,\t\t\t\"TCTCT\":1,\t\t\t\"TCTCC\":4,\t\t\t\"TCTCG\":1,\t\t\t\"TCTGA\":2,\t\t\t\"TCTGT\":2,\t\t\t\"TCTGC\":1,\t\t\t\"TCTGG\":1,\n\t\t\t\"TCCAA\":1,\t\t\t\"TCCAT\":3,\t\t\t\"TCCAC\":2,\t\t\t\"TCCAG\":4,\t\t\t\"TCCTA\":0,\t\t\t\"TCCTT\":1,\t\t\t\"TCCTC\":1,\t\t\t\"TCCTG\":4,\t\t\t\"TCCCA\":5,\t\t\t\"TCCCT\":2,\t\t\t\"TCCCC\":4,\t\t\t\"TCCCG\":1,\t\t\t\"TCCGA\":4,\t\t\t\"TCCGT\":1,\t\t\t\"TCCGC\":0,\t\t\t\"TCCGG\":3,\n\t\t\t\"TCGAA\":0,\t\t\t\"TCGAT\":0,\t\t\t\"TCGAC\":0,\t\t\t\"TCGAG\":1,\t\t\t\"TCGTA\":0,\t\t\t\"TCGTT\":0,\t\t\t\"TCGTC\":0,\t\t\t\"TCGTG\":0,\t\t\t\"TCGCA\":0,\t\t\t\"TCGCT\":0,\t\t\t\"TCGCC\":0,\t\t\t\"TCGCG\":0,\t\t\t\"TCGGA\":1,\t\t\t\"TCGGT\":1,\t\t\t\"TCGGC\":0,\t\t\t\"TCGGG\":0,\n\t\t\t\"TGAAA\":0,\t\t\t\"TGAAT\":4,\t\t\t\"TGAAC\":0,\t\t\t\"TGAAG\":3,\t\t\t\"TGATA\":0,\t\t\t\"TGATT\":0,\t\t\t\"TGATC\":3,\t\t\t\"TGATG\":7,\t\t\t\"TGACA\":6,\t\t\t\"TGACT\":2,\t\t\t\"TGACC\":4,\t\t\t\"TGACG\":0,\t\t\t\"TGAGA\":2,\t\t\t\"TGAGT\":2,\t\t\t\"TGAGC\":5,\t\t\t\"TGAGG\":1,\n\t\t\t\"TGTAA\":1,\t\t\t\"TGTAT\":0,\t\t\t\"TGTAC\":0,\t\t\t\"TGTAG\":3,\t\t\t\"TGTTA\":0,\t\t\t\"TGTTT\":3,\t\t\t\"TGTTC\":3,\t\t\t\"TGTTG\":2,\t\t\t\"TGTCA\":3,\t\t\t\"TGTCT\":1,\t\t\t\"TGTCC\":4,\t\t\t\"TGTCG\":1,\t\t\t\"TGTGA\":4,\t\t\t\"TGTGT\":1,\t\t\t\"TGTGC\":3,\t\t\t\"TGTGG\":1,\n\t\t\t\"TGCAA\":1,\t\t\t\"TGCAT\":3,\t\t\t\"TGCAC\":0,\t\t\t\"TGCAG\":2,\t\t\t\"TGCTA\":0,\t\t\t\"TGCTT\":5,\t\t\t\"TGCTC\":1,\t\t\t\"TGCTG\":1,\t\t\t\"TGCCA\":3,\t\t\t\"TGCCT\":0,\t\t\t\"TGCCC\":2,\t\t\t\"TGCCG\":0,\t\t\t\"TGCGA\":0,\t\t\t\"TGCGT\":0,\t\t\t\"TGCGC\":0,\t\t\t\"TGCGG\":3,\n\t\t\t\"TGGAA\":5,\t\t\t\"TGGAT\":0,\t\t\t\"TGGAC\":1,\t\t\t\"TGGAG\":5,\t\t\t\"TGGTA\":2,\t\t\t\"TGGTT\":1,\t\t\t\"TGGTC\":3,\t\t\t\"TGGTG\":2,\t\t\t\"TGGCA\":4,\t\t\t\"TGGCT\":1,\t\t\t\"TGGCC\":4,\t\t\t\"TGGCG\":1,\t\t\t\"TGGGA\":4,\t\t\t\"TGGGT\":1,\t\t\t\"TGGGC\":3,\t\t\t\"TGGGG\":0,\n\t\t\t\"CAAAA\":4,\t\t\t\"CAAAT\":1,\t\t\t\"CAAAC\":1,\t\t\t\"CAAAG\":7,\t\t\t\"CAATA\":3,\t\t\t\"CAATT\":1,\t\t\t\"CAATC\":1,\t\t\t\"CAATG\":7,\t\t\t\"CAACA\":2,\t\t\t\"CAACT\":2,\t\t\t\"CAACC\":1,\t\t\t\"CAACG\":1,\t\t\t\"CAAGA\":2,\t\t\t\"CAAGT\":1,\t\t\t\"CAAGC\":4,\t\t\t\"CAAGG\":3,\n\t\t\t\"CATAA\":2,\t\t\t\"CATAT\":0,\t\t\t\"CATAC\":0,\t\t\t\"CATAG\":1,\t\t\t\"CATTA\":1,\t\t\t\"CATTT\":1,\t\t\t\"CATTC\":5,\t\t\t\"CATTG\":3,\t\t\t\"CATCA\":2,\t\t\t\"CATCT\":2,\t\t\t\"CATCC\":4,\t\t\t\"CATCG\":0,\t\t\t\"CATGA\":4,\t\t\t\"CATGT\":5,\t\t\t\"CATGC\":0,\t\t\t\"CATGG\":2,\n\t\t\t\"CACAA\":5,\t\t\t\"CACAT\":1,\t\t\t\"CACAC\":1,\t\t\t\"CACAG\":3,\t\t\t\"CACTA\":1,\t\t\t\"CACTT\":1,\t\t\t\"CACTC\":0,\t\t\t\"CACTG\":2,\t\t\t\"CACCA\":4,\t\t\t\"CACCT\":0,\t\t\t\"CACCC\":1,\t\t\t\"CACCG\":0,\t\t\t\"CACGA\":0,\t\t\t\"CACGT\":2,\t\t\t\"CACGC\":1,\t\t\t\"CACGG\":4,\n\t\t\t\"CAGAA\":2,\t\t\t\"CAGAT\":5,\t\t\t\"CAGAC\":3,\t\t\t\"CAGAG\":2,\t\t\t\"CAGTA\":1,\t\t\t\"CAGTT\":2,\t\t\t\"CAGTC\":1,\t\t\t\"CAGTG\":3,\t\t\t\"CAGCA\":5,\t\t\t\"CAGCT\":6,\t\t\t\"CAGCC\":0,\t\t\t\"CAGCG\":1,\t\t\t\"CAGGA\":1,\t\t\t\"CAGGT\":2,\t\t\t\"CAGGC\":1,\t\t\t\"CAGGG\":3,\n\t\t\t\"CTAAA\":2,\t\t\t\"CTAAT\":0,\t\t\t\"CTAAC\":0,\t\t\t\"CTAAG\":0,\t\t\t\"CTATA\":1,\t\t\t\"CTATT\":1,\t\t\t\"CTATC\":0,\t\t\t\"CTATG\":2,\t\t\t\"CTACA\":4,\t\t\t\"CTACT\":0,\t\t\t\"CTACC\":2,\t\t\t\"CTACG\":0,\t\t\t\"CTAGA\":1,\t\t\t\"CTAGT\":1,\t\t\t\"CTAGC\":0,\t\t\t\"CTAGG\":1,\n\t\t\t\"CTTAA\":1,\t\t\t\"CTTAT\":2,\t\t\t\"CTTAC\":1,\t\t\t\"CTTAG\":0,\t\t\t\"CTTTA\":3,\t\t\t\"CTTTT\":3,\t\t\t\"CTTTC\":0,\t\t\t\"CTTTG\":5,\t\t\t\"CTTCA\":4,\t\t\t\"CTTCT\":3,\t\t\t\"CTTCC\":1,\t\t\t\"CTTCG\":0,\t\t\t\"CTTGA\":1,\t\t\t\"CTTGT\":1,\t\t\t\"CTTGC\":0,\t\t\t\"CTTGG\":3,\n\t\t\t\"CTCAA\":0,\t\t\t\"CTCAT\":4,\t\t\t\"CTCAC\":1,\t\t\t\"CTCAG\":0,\t\t\t\"CTCTA\":1,\t\t\t\"CTCTT\":1,\t\t\t\"CTCTC\":2,\t\t\t\"CTCTG\":0,\t\t\t\"CTCCA\":8,\t\t\t\"CTCCT\":2,\t\t\t\"CTCCC\":0,\t\t\t\"CTCCG\":0,\t\t\t\"CTCGA\":0,\t\t\t\"CTCGT\":0,\t\t\t\"CTCGC\":0,\t\t\t\"CTCGG\":1,\n\t\t\t\"CTGAA\":2,\t\t\t\"CTGAT\":2,\t\t\t\"CTGAC\":1,\t\t\t\"CTGAG\":1,\t\t\t\"CTGTA\":0,\t\t\t\"CTGTT\":3,\t\t\t\"CTGTC\":5,\t\t\t\"CTGTG\":3,\t\t\t\"CTGCA\":2,\t\t\t\"CTGCT\":2,\t\t\t\"CTGCC\":1,\t\t\t\"CTGCG\":2,\t\t\t\"CTGGA\":2,\t\t\t\"CTGGT\":3,\t\t\t\"CTGGC\":5,\t\t\t\"CTGGG\":2,\n\t\t\t\"CCAAA\":3,\t\t\t\"CCAAT\":3,\t\t\t\"CCAAC\":4,\t\t\t\"CCAAG\":0,\t\t\t\"CCATA\":0,\t\t\t\"CCATT\":4,\t\t\t\"CCATC\":2,\t\t\t\"CCATG\":2,\t\t\t\"CCACA\":4,\t\t\t\"CCACT\":1,\t\t\t\"CCACC\":0,\t\t\t\"CCACG\":4,\t\t\t\"CCAGA\":8,\t\t\t\"CCAGT\":3,\t\t\t\"CCAGC\":2,\t\t\t\"CCAGG\":2,\n\t\t\t\"CCTAA\":0,\t\t\t\"CCTAT\":1,\t\t\t\"CCTAC\":3,\t\t\t\"CCTAG\":0,\t\t\t\"CCTTA\":1,\t\t\t\"CCTTT\":2,\t\t\t\"CCTTC\":0,\t\t\t\"CCTTG\":1,\t\t\t\"CCTCA\":1,\t\t\t\"CCTCT\":2,\t\t\t\"CCTCC\":2,\t\t\t\"CCTCG\":0,\t\t\t\"CCTGA\":0,\t\t\t\"CCTGT\":4,\t\t\t\"CCTGC\":4,\t\t\t\"CCTGG\":5,\n\t\t\t\"CCCAA\":5,\t\t\t\"CCCAT\":1,\t\t\t\"CCCAC\":4,\t\t\t\"CCCAG\":5,\t\t\t\"CCCTA\":2,\t\t\t\"CCCTT\":0,\t\t\t\"CCCTC\":1,\t\t\t\"CCCTG\":4,\t\t\t\"CCCCA\":6,\t\t\t\"CCCCT\":0,\t\t\t\"CCCCC\":4,\t\t\t\"CCCCG\":0,\t\t\t\"CCCGA\":1,\t\t\t\"CCCGT\":0,\t\t\t\"CCCGC\":0,\t\t\t\"CCCGG\":1,\n\t\t\t\"CCGAA\":0,\t\t\t\"CCGAT\":0,\t\t\t\"CCGAC\":3,\t\t\t\"CCGAG\":2,\t\t\t\"CCGTA\":0,\t\t\t\"CCGTT\":0,\t\t\t\"CCGTC\":0,\t\t\t\"CCGTG\":1,\t\t\t\"CCGCA\":0,\t\t\t\"CCGCT\":0,\t\t\t\"CCGCC\":0,\t\t\t\"CCGCG\":0,\t\t\t\"CCGGA\":3,\t\t\t\"CCGGT\":0,\t\t\t\"CCGGC\":2,\t\t\t\"CCGGG\":1,\n\t\t\t\"CGAAA\":0,\t\t\t\"CGAAT\":0,\t\t\t\"CGAAC\":0,\t\t\t\"CGAAG\":0,\t\t\t\"CGATA\":1,\t\t\t\"CGATT\":0,\t\t\t\"CGATC\":0,\t\t\t\"CGATG\":0,\t\t\t\"CGACA\":1,\t\t\t\"CGACT\":0,\t\t\t\"CGACC\":2,\t\t\t\"CGACG\":1,\t\t\t\"CGAGA\":0,\t\t\t\"CGAGT\":1,\t\t\t\"CGAGC\":2,\t\t\t\"CGAGG\":1,\n\t\t\t\"CGTAA\":0,\t\t\t\"CGTAT\":0,\t\t\t\"CGTAC\":0,\t\t\t\"CGTAG\":0,\t\t\t\"CGTTA\":0,\t\t\t\"CGTTT\":1,\t\t\t\"CGTTC\":1,\t\t\t\"CGTTG\":0,\t\t\t\"CGTCA\":0,\t\t\t\"CGTCT\":0,\t\t\t\"CGTCC\":1,\t\t\t\"CGTCG\":0,\t\t\t\"CGTGA\":0,\t\t\t\"CGTGT\":0,\t\t\t\"CGTGC\":0,\t\t\t\"CGTGG\":2,\n\t\t\t\"CGCAA\":0,\t\t\t\"CGCAT\":0,\t\t\t\"CGCAC\":0,\t\t\t\"CGCAG\":1,\t\t\t\"CGCTA\":0,\t\t\t\"CGCTT\":0,\t\t\t\"CGCTC\":0,\t\t\t\"CGCTG\":2,\t\t\t\"CGCCA\":0,\t\t\t\"CGCCT\":0,\t\t\t\"CGCCC\":1,\t\t\t\"CGCCG\":0,\t\t\t\"CGCGA\":0,\t\t\t\"CGCGT\":0,\t\t\t\"CGCGC\":0,\t\t\t\"CGCGG\":0,\n\t\t\t\"CGGAA\":2,\t\t\t\"CGGAT\":0,\t\t\t\"CGGAC\":4,\t\t\t\"CGGAG\":1,\t\t\t\"CGGTA\":0,\t\t\t\"CGGTT\":0,\t\t\t\"CGGTC\":0,\t\t\t\"CGGTG\":1,\t\t\t\"CGGCA\":5,\t\t\t\"CGGCT\":1,\t\t\t\"CGGCC\":0,\t\t\t\"CGGCG\":3,\t\t\t\"CGGGA\":2,\t\t\t\"CGGGT\":0,\t\t\t\"CGGGC\":1,\t\t\t\"CGGGG\":1,\n\t\t\t\"GAAAA\":1,\t\t\t\"GAAAT\":1,\t\t\t\"GAAAC\":3,\t\t\t\"GAAAG\":3,\t\t\t\"GAATA\":2,\t\t\t\"GAATT\":2,\t\t\t\"GAATC\":1,\t\t\t\"GAATG\":0,\t\t\t\"GAACA\":1,\t\t\t\"GAACT\":0,\t\t\t\"GAACC\":0,\t\t\t\"GAACG\":0,\t\t\t\"GAAGA\":3,\t\t\t\"GAAGT\":3,\t\t\t\"GAAGC\":2,\t\t\t\"GAAGG\":1,\n\t\t\t\"GATAA\":0,\t\t\t\"GATAT\":2,\t\t\t\"GATAC\":0,\t\t\t\"GATAG\":0,\t\t\t\"GATTA\":0,\t\t\t\"GATTT\":2,\t\t\t\"GATTC\":1,\t\t\t\"GATTG\":2,\t\t\t\"GATCA\":1,\t\t\t\"GATCT\":3,\t\t\t\"GATCC\":2,\t\t\t\"GATCG\":0,\t\t\t\"GATGA\":4,\t\t\t\"GATGT\":3,\t\t\t\"GATGC\":2,\t\t\t\"GATGG\":5,\n\t\t\t\"GACAA\":3,\t\t\t\"GACAT\":2,\t\t\t\"GACAC\":0,\t\t\t\"GACAG\":8,\t\t\t\"GACTA\":3,\t\t\t\"GACTT\":3,\t\t\t\"GACTC\":0,\t\t\t\"GACTG\":0,\t\t\t\"GACCA\":1,\t\t\t\"GACCT\":2,\t\t\t\"GACCC\":4,\t\t\t\"GACCG\":0,\t\t\t\"GACGA\":1,\t\t\t\"GACGT\":1,\t\t\t\"GACGC\":1,\t\t\t\"GACGG\":0,\n\t\t\t\"GAGAA\":3,\t\t\t\"GAGAT\":1,\t\t\t\"GAGAC\":2,\t\t\t\"GAGAG\":0,\t\t\t\"GAGTA\":3,\t\t\t\"GAGTT\":1,\t\t\t\"GAGTC\":4,\t\t\t\"GAGTG\":2,\t\t\t\"GAGCA\":0,\t\t\t\"GAGCT\":4,\t\t\t\"GAGCC\":4,\t\t\t\"GAGCG\":0,\t\t\t\"GAGGA\":0,\t\t\t\"GAGGT\":1,\t\t\t\"GAGGC\":2,\t\t\t\"GAGGG\":0,\n\t\t\t\"GTAAA\":1,\t\t\t\"GTAAT\":0,\t\t\t\"GTAAC\":0,\t\t\t\"GTAAG\":3,\t\t\t\"GTATA\":0,\t\t\t\"GTATT\":0,\t\t\t\"GTATC\":1,\t\t\t\"GTATG\":0,\t\t\t\"GTACA\":1,\t\t\t\"GTACT\":0,\t\t\t\"GTACC\":1,\t\t\t\"GTACG\":1,\t\t\t\"GTAGA\":0,\t\t\t\"GTAGT\":1,\t\t\t\"GTAGC\":1,\t\t\t\"GTAGG\":2,\n\t\t\t\"GTTAA\":2,\t\t\t\"GTTAT\":0,\t\t\t\"GTTAC\":0,\t\t\t\"GTTAG\":0,\t\t\t\"GTTTA\":0,\t\t\t\"GTTTT\":1,\t\t\t\"GTTTC\":5,\t\t\t\"GTTTG\":0,\t\t\t\"GTTCA\":1,\t\t\t\"GTTCT\":3,\t\t\t\"GTTCC\":2,\t\t\t\"GTTCG\":0,\t\t\t\"GTTGA\":3,\t\t\t\"GTTGT\":1,\t\t\t\"GTTGC\":2,\t\t\t\"GTTGG\":1,\n\t\t\t\"GTCAA\":5,\t\t\t\"GTCAT\":3,\t\t\t\"GTCAC\":2,\t\t\t\"GTCAG\":1,\t\t\t\"GTCTA\":0,\t\t\t\"GTCTT\":2,\t\t\t\"GTCTC\":0,\t\t\t\"GTCTG\":2,\t\t\t\"GTCCA\":0,\t\t\t\"GTCCT\":3,\t\t\t\"GTCCC\":6,\t\t\t\"GTCCG\":4,\t\t\t\"GTCGA\":1,\t\t\t\"GTCGT\":0,\t\t\t\"GTCGC\":0,\t\t\t\"GTCGG\":0,\n\t\t\t\"GTGAA\":2,\t\t\t\"GTGAT\":1,\t\t\t\"GTGAC\":1,\t\t\t\"GTGAG\":3,\t\t\t\"GTGTA\":0,\t\t\t\"GTGTT\":1,\t\t\t\"GTGTC\":0,\t\t\t\"GTGTG\":2,\t\t\t\"GTGCA\":1,\t\t\t\"GTGCT\":3,\t\t\t\"GTGCC\":2,\t\t\t\"GTGCG\":1,\t\t\t\"GTGGA\":3,\t\t\t\"GTGGT\":3,\t\t\t\"GTGGC\":1,\t\t\t\"GTGGG\":1,\n\t\t\t\"GCAAA\":1,\t\t\t\"GCAAT\":5,\t\t\t\"GCAAC\":0,\t\t\t\"GCAAG\":2,\t\t\t\"GCATA\":0,\t\t\t\"GCATT\":2,\t\t\t\"GCATC\":3,\t\t\t\"GCATG\":0,\t\t\t\"GCACA\":1,\t\t\t\"GCACT\":3,\t\t\t\"GCACC\":2,\t\t\t\"GCACG\":2,\t\t\t\"GCAGA\":2,\t\t\t\"GCAGT\":2,\t\t\t\"GCAGC\":4,\t\t\t\"GCAGG\":0,\n\t\t\t\"GCTAA\":0,\t\t\t\"GCTAT\":0,\t\t\t\"GCTAC\":2,\t\t\t\"GCTAG\":1,\t\t\t\"GCTTA\":1,\t\t\t\"GCTTT\":4,\t\t\t\"GCTTC\":3,\t\t\t\"GCTTG\":1,\t\t\t\"GCTCA\":2,\t\t\t\"GCTCT\":1,\t\t\t\"GCTCC\":4,\t\t\t\"GCTCG\":1,\t\t\t\"GCTGA\":5,\t\t\t\"GCTGT\":3,\t\t\t\"GCTGC\":1,\t\t\t\"GCTGG\":3,\n\t\t\t\"GCCAA\":2,\t\t\t\"GCCAT\":1,\t\t\t\"GCCAC\":0,\t\t\t\"GCCAG\":3,\t\t\t\"GCCTA\":1,\t\t\t\"GCCTT\":1,\t\t\t\"GCCTC\":1,\t\t\t\"GCCTG\":3,\t\t\t\"GCCCA\":2,\t\t\t\"GCCCT\":2,\t\t\t\"GCCCC\":2,\t\t\t\"GCCCG\":1,\t\t\t\"GCCGA\":0,\t\t\t\"GCCGT\":0,\t\t\t\"GCCGC\":0,\t\t\t\"GCCGG\":1,\n\t\t\t\"GCGAA\":0,\t\t\t\"GCGAT\":0,\t\t\t\"GCGAC\":0,\t\t\t\"GCGAG\":0,\t\t\t\"GCGTA\":0,\t\t\t\"GCGTT\":1,\t\t\t\"GCGTC\":0,\t\t\t\"GCGTG\":0,\t\t\t\"GCGCA\":1,\t\t\t\"GCGCT\":1,\t\t\t\"GCGCC\":0,\t\t\t\"GCGCG\":0,\t\t\t\"GCGGA\":0,\t\t\t\"GCGGT\":0,\t\t\t\"GCGGC\":4,\t\t\t\"GCGGG\":3,\n\t\t\t\"GGAAA\":5,\t\t\t\"GGAAT\":1,\t\t\t\"GGAAC\":0,\t\t\t\"GGAAG\":3,\t\t\t\"GGATA\":0,\t\t\t\"GGATT\":2,\t\t\t\"GGATC\":3,\t\t\t\"GGATG\":1,\t\t\t\"GGACA\":5,\t\t\t\"GGACT\":1,\t\t\t\"GGACC\":0,\t\t\t\"GGACG\":1,\t\t\t\"GGAGA\":2,\t\t\t\"GGAGT\":4,\t\t\t\"GGAGC\":0,\t\t\t\"GGAGG\":2,\n\t\t\t\"GGTAA\":0,\t\t\t\"GGTAT\":0,\t\t\t\"GGTAC\":1,\t\t\t\"GGTAG\":1,\t\t\t\"GGTTA\":1,\t\t\t\"GGTTT\":1,\t\t\t\"GGTTC\":0,\t\t\t\"GGTTG\":2,\t\t\t\"GGTCA\":2,\t\t\t\"GGTCT\":2,\t\t\t\"GGTCC\":4,\t\t\t\"GGTCG\":0,\t\t\t\"GGTGA\":1,\t\t\t\"GGTGT\":2,\t\t\t\"GGTGC\":1,\t\t\t\"GGTGG\":2,\n\t\t\t\"GGCAA\":4,\t\t\t\"GGCAT\":2,\t\t\t\"GGCAC\":5,\t\t\t\"GGCAG\":1,\t\t\t\"GGCTA\":3,\t\t\t\"GGCTT\":1,\t\t\t\"GGCTC\":3,\t\t\t\"GGCTG\":1,\t\t\t\"GGCCA\":1,\t\t\t\"GGCCT\":3,\t\t\t\"GGCCC\":1,\t\t\t\"GGCCG\":1,\t\t\t\"GGCGA\":0,\t\t\t\"GGCGT\":1,\t\t\t\"GGCGC\":2,\t\t\t\"GGCGG\":3,\n\t\t\t\"GGGAA\":0,\t\t\t\"GGGAT\":5,\t\t\t\"GGGAC\":1,\t\t\t\"GGGAG\":1,\t\t\t\"GGGTA\":0,\t\t\t\"GGGTT\":2,\t\t\t\"GGGTC\":2,\t\t\t\"GGGTG\":1,\t\t\t\"GGGCA\":2,\t\t\t\"GGGCT\":3,\t\t\t\"GGGCC\":1,\t\t\t\"GGGCG\":2,\t\t\t\"GGGGA\":0,\t\t\t\"GGGGT\":2,\t\t\t\"GGGGC\":1,\t\t\t\"GGGGG\":2\n\t\t},\n\t\t\"overrepresented_sequences\": {\n\t\t}\n\t},\n\t\"read2_after_filtering\": {\n\t\t\"total_reads\": 17,\n\t\t\"total_bases\": 1670,\n\t\t\"q20_bases\": 1645,\n\t\t\"q30_bases\": 1589,\n\t\t\"total_cycles\": 100,\n\t\t\"quality_curves\": {\n\t\t\t\"A\":[37,37,37,37,35.5,37,37,37,37,37,37,37,37,34,37,37,33,37,37,29.4,37,37,37,37,37,37,33.75,37,37,37,37,37,35.2857,37,37,37,37,37,37,33,34,37,37,37,35,31.5714,37,37,37,29.4,37,37,37,37,37,31,37,37,35.2857,32.6667,26.3333,37,37,37,37,37,37,33,37,37,37,34,34,32.6667,33,37,37,35,31,31,37,37,37,37,30.5,35.5,37,37,37,37,32.6667,24,34,37,37,37,33.5714,37,37,31.8],\n\t\t\t\"T\":[37,37,37,37,37,37,37,37,37,37,37,31,37,37,37,31,37,37,37,33.75,37,37,33,37,37,37,37,37,37,37,34.1111,37,37,37,37,37,37,37,37,37,37,37,37,37,37,37,37,37,30.5,34.6,37,37,37,37,37,37,31,37,37,35.4706,37,37,36.2941,37,37,37,37,37,37,37,37,37,37,37,35,35.8,37,37,37,37,37,36.25,37,37,34,34.3333,37,33.2857,34.6,37,37,37,37,37,37,37,37,37,37,37],\n\t\t\t\"C\":[37,37,37,37,37,37,37,37,37,37,37,37,37,37,37,37,37,25,37,34,37,35,37,37,37,37,37,37,37,37,37,37,37,37,37,37,31.8,37,37,37,37,37,37,34,37,37,37,37,37,33,37,32.6667,37,37,37,37,37,30.5,37,37,37,37,37,37,37,37,37,37,37,37,37,37,37,37,37,37,37,37,37,37,37,35.2857,37,37,37,37,37,37,37,37,37,37,37,37,37,37,37,37,37,34],\n\t\t\t\"G\":[35.6667,37,37,37,36.2941,37,37,37,37,34,37,37,37,37,37,37,31.8,37,37,32.5294,37,37,37,37,37,37,37,37,37,32.6667,37,37,37,37,37,37,37,37,37,37,37,37,33,37,37,37,32.2,37,37,37,37,37,37,37,37,35,33.2857,37,37,37,37,37,33,37,37,37,37,31.5714,37,37,37,37,36.25,37,37,37,37,37,33,31.8,37,37,37,37,37,37,37,37,37,37,37,33,37,37,37,37,37,37,35,37],\n\t\t\t\"mean\":[36.2941,37,37,37,36.2941,37,37,37,37,36.2941,37,34.2353,37,36.2941,37,34.8824,34.7647,36.2941,37,32.5294,37,36.2941,36.2941,37,37,37,35.4706,37,37,35.4706,35.4706,37,36.2941,37,37,37,35.4706,37,37,36.2941,36.2941,37,36.2941,36.2941,36.2941,34.7647,35.5882,37,35.4706,33.3529,37,35.4706,37,37,37,35.5882,34.7647,35.4706,36.2941,35.4706,33.2353,37,36.2941,37,37,37,37,34.0588,37,37,37,36.25,36.25,35.375,35.5,36.25,37,36.25,34,34.625,37,36.25,37,37,34.625,35.5,37,35.375,36.25,37,35.375,34.625,36.25,37,37,37,35.5,37,36.25,34.625]\n\t\t},\n\t\t\"content_curves\": {\n\t\t\t\"A\":[0.235294,0.117647,0.352941,0.235294,0.470588,0.294118,0.235294,0.235294,0.117647,0.294118,0.0588235,0.352941,0.117647,0.235294,0.294118,0.294118,0.176471,0.117647,0.411765,0.294118,0.235294,0.529412,0.235294,0.294118,0.470588,0.294118,0.470588,0.411765,0.176471,0.235294,0.176471,0.235294,0.411765,0.235294,0.235294,0.352941,0.117647,0.117647,0.176471,0.176471,0.235294,0.294118,0.411765,0.176471,0.352941,0.411765,0.176471,0.176471,0.176471,0.294118,0.117647,0.235294,0.352941,0.294118,0.0588235,0.117647,0.117647,0.411765,0.411765,0.352941,0.352941,0.0588235,0.352941,0.352941,0.235294,0.176471,0.470588,0.176471,0.176471,0.176471,0.1875,0.25,0.25,0.375,0.1875,0.25,0.0625,0.375,0.375,0.125,0.375,0.3125,0.375,0.4375,0.25,0,0.125,0.125,0.3125,0.1875,0.375,0.125,0.25,0.25,0.3125,0.3125,0.4375,0.25,0.1875,0.3125],\n\t\t\t\"T\":[0.0588235,0.411765,0.176471,0.352941,0.470588,0.176471,0.176471,0.294118,0.117647,0.235294,0.0588235,0.117647,0.411765,0.294118,0.235294,0.352941,0.176471,0.588235,0.0588235,0.470588,0,0.0588235,0.176471,0,0.176471,0.0588235,0.294118,0.0588235,0.411765,0.176471,0.529412,0.235294,0.176471,0.294118,0.352941,0.0588235,0.352941,0.294118,0.411765,0.588235,0.352941,0.294118,0.294118,0.0588235,0.117647,0.176471,0.176471,0.470588,0.235294,0.294118,0.294118,0.117647,0.294118,0.235294,0.470588,0.352941,0.117647,0.117647,0.176471,0,0.235294,0.352941,0,0.470588,0.176471,0,0.235294,0.176471,0.294118,0.176471,0.3125,0.0625,0.4375,0.3125,0.375,0.625,0.25,0.3125,0.25,0.375,0.25,0,0.25,0.375,0.25,0.5625,0.3125,0.4375,0.3125,0.25,0.25,0.375,0.4375,0.625,0.25,0.1875,0.0625,0.4375,0.25,0.1875],\n\t\t\t\"C\":[0.176471,0.235294,0.352941,0.235294,0.0588235,0.0588235,0.176471,0.411765,0.529412,0.235294,0.352941,0.176471,0.352941,0.176471,0.176471,0.117647,0.352941,0.0588235,0.235294,0.235294,0.235294,0.352941,0.470588,0.176471,0.0588235,0.529412,0.117647,0.176471,0.294118,0.235294,0.0588235,0.411765,0.176471,0.117647,0.117647,0.352941,0.294118,0.235294,0.294118,0.0588235,0.352941,0.117647,0.117647,0.235294,0.235294,0.176471,0.352941,0.117647,0.0588235,0.176471,0.235294,0.352941,0.117647,0.235294,0.294118,0.176471,0.352941,0.235294,0.176471,0.470588,0.176471,0.235294,0.470588,0.0588235,0.411765,0.411765,0,0.235294,0.176471,0.176471,0.125,0.375,0.3125,0.25,0.125,0.0625,0.5625,0.1875,0.1875,0.1875,0.1875,0.4375,0.3125,0,0.125,0.3125,0.3125,0.25,0.125,0.0625,0.3125,0.3125,0.0625,0.0625,0.3125,0.375,0.125,0,0.1875,0.25],\n\t\t\t\"G\":[0.529412,0.235294,0.117647,0.176471,0,0.470588,0.411765,0.0588235,0.235294,0.235294,0.529412,0.294118,0.117647,0.294118,0.294118,0.235294,0.294118,0.235294,0.294118,0,0.529412,0.0588235,0.117647,0.529412,0.294118,0.117647,0.117647,0.352941,0.117647,0.352941,0.235294,0.117647,0.235294,0.352941,0.294118,0.235294,0.235294,0.352941,0.117647,0.176471,0.0588235,0.294118,0.176471,0.529412,0.294118,0.235294,0.294118,0.235294,0.529412,0.235294,0.352941,0.294118,0.235294,0.235294,0.176471,0.352941,0.411765,0.235294,0.235294,0.176471,0.235294,0.352941,0.176471,0.117647,0.176471,0.411765,0.294118,0.411765,0.352941,0.470588,0.375,0.3125,0,0.0625,0.3125,0.0625,0.125,0.125,0.1875,0.3125,0.1875,0.25,0.0625,0.1875,0.375,0.125,0.25,0.1875,0.25,0.5,0.0625,0.1875,0.25,0.0625,0.125,0.125,0.375,0.3125,0.375,0.25],\n\t\t\t\"N\":[0,0,0,0,0,0,0,0,0,0,0,0.0588235,0,0,0,0,0,0,0,0,0,0,0,0,0,0,0,0,0,0,0,0,0,0,0,0,0,0,0,0,0,0,0,0,0,0,0,0,0,0,0,0,0,0,0,0,0,0,0,0,0,0,0,0,0,0,0,0,0,0,0,0,0,0,0,0,0,0,0,0,0,0,0,0,0,0,0,0,0,0,0,0,0,0,0,0,0,0,0,0],\n\t\t\t\"GC\":[0.705882,0.470588,0.470588,0.411765,0.0588235,0.529412,0.588235,0.470588,0.764706,0.470588,0.882353,0.470588,0.470588,0.470588,0.470588,0.352941,0.647059,0.294118,0.529412,0.235294,0.764706,0.411765,0.588235,0.705882,0.352941,0.647059,0.235294,0.529412,0.411765,0.588235,0.294118,0.529412,0.411765,0.470588,0.411765,0.588235,0.529412,0.588235,0.411765,0.235294,0.411765,0.411765,0.294118,0.764706,0.529412,0.411765,0.647059,0.352941,0.588235,0.411765,0.588235,0.647059,0.352941,0.470588,0.470588,0.529412,0.764706,0.470588,0.411765,0.647059,0.411765,0.588235,0.647059,0.176471,0.588235,0.823529,0.294118,0.647059,0.529412,0.647059,0.5,0.6875,0.3125,0.3125,0.4375,0.125,0.6875,0.3125,0.375,0.5,0.375,0.6875,0.375,0.1875,0.5,0.4375,0.5625,0.4375,0.375,0.5625,0.375,0.5,0.3125,0.125,0.4375,0.5,0.5,0.3125,0.5625,0.5]\n\t\t},\n\t\t\"kmer_count\": {\n\t\t\t\"AAAAA\":5,\t\t\t\"AAAAT\":0,\t\t\t\"AAAAC\":3,\t\t\t\"AAAAG\":3,\t\t\t\"AAATA\":1,\t\t\t\"AAATT\":2,\t\t\t\"AAATC\":0,\t\t\t\"AAATG\":1,\t\t\t\"AAACA\":4,\t\t\t\"AAACT\":2,\t\t\t\"AAACC\":5,\t\t\t\"AAACG\":0,\t\t\t\"AAAGA\":2,\t\t\t\"AAAGT\":4,\t\t\t\"AAAGC\":4,\t\t\t\"AAAGG\":4,\n\t\t\t\"AATAA\":3,\t\t\t\"AATAT\":0,\t\t\t\"AATAC\":2,\t\t\t\"AATAG\":2,\t\t\t\"AATTA\":2,\t\t\t\"AATTT\":1,\t\t\t\"AATTC\":2,\t\t\t\"AATTG\":2,\t\t\t\"AATCA\":2,\t\t\t\"AATCT\":2,\t\t\t\"AATCC\":0,\t\t\t\"AATCG\":0,\t\t\t\"AATGA\":1,\t\t\t\"AATGT\":6,\t\t\t\"AATGC\":1,\t\t\t\"AATGG\":0,\n\t\t\t\"AACAA\":2,\t\t\t\"AACAT\":3,\t\t\t\"AACAC\":0,\t\t\t\"AACAG\":4,\t\t\t\"AACTA\":0,\t\t\t\"AACTT\":0,\t\t\t\"AACTC\":0,\t\t\t\"AACTG\":5,\t\t\t\"AACCA\":0,\t\t\t\"AACCT\":5,\t\t\t\"AACCC\":0,\t\t\t\"AACCG\":2,\t\t\t\"AACGA\":0,\t\t\t\"AACGT\":0,\t\t\t\"AACGC\":1,\t\t\t\"AACGG\":2,\n\t\t\t\"AAGAA\":0,\t\t\t\"AAGAT\":4,\t\t\t\"AAGAC\":4,\t\t\t\"AAGAG\":2,\t\t\t\"AAGTA\":2,\t\t\t\"AAGTT\":1,\t\t\t\"AAGTC\":6,\t\t\t\"AAGTG\":5,\t\t\t\"AAGCA\":2,\t\t\t\"AAGCT\":4,\t\t\t\"AAGCC\":2,\t\t\t\"AAGCG\":0,\t\t\t\"AAGGA\":9,\t\t\t\"AAGGT\":2,\t\t\t\"AAGGC\":0,\t\t\t\"AAGGG\":2,\n\t\t\t\"ATAAA\":1,\t\t\t\"ATAAT\":2,\t\t\t\"ATAAC\":2,\t\t\t\"ATAAG\":1,\t\t\t\"ATATA\":3,\t\t\t\"ATATT\":0,\t\t\t\"ATATC\":2,\t\t\t\"ATATG\":2,\t\t\t\"ATACA\":3,\t\t\t\"ATACT\":1,\t\t\t\"ATACC\":0,\t\t\t\"ATACG\":0,\t\t\t\"ATAGA\":1,\t\t\t\"ATAGT\":1,\t\t\t\"ATAGC\":2,\t\t\t\"ATAGG\":0,\n\t\t\t\"ATTAA\":4,\t\t\t\"ATTAT\":2,\t\t\t\"ATTAC\":2,\t\t\t\"ATTAG\":0,\t\t\t\"ATTTA\":0,\t\t\t\"ATTTT\":1,\t\t\t\"ATTTC\":1,\t\t\t\"ATTTG\":0,\t\t\t\"ATTCA\":3,\t\t\t\"ATTCT\":1,\t\t\t\"ATTCC\":0,\t\t\t\"ATTCG\":0,\t\t\t\"ATTGA\":0,\t\t\t\"ATTGT\":3,\t\t\t\"ATTGC\":0,\t\t\t\"ATTGG\":1,\n\t\t\t\"ATCAA\":5,\t\t\t\"ATCAT\":3,\t\t\t\"ATCAC\":1,\t\t\t\"ATCAG\":0,\t\t\t\"ATCTA\":2,\t\t\t\"ATCTT\":0,\t\t\t\"ATCTC\":1,\t\t\t\"ATCTG\":1,\t\t\t\"ATCCA\":2,\t\t\t\"ATCCT\":1,\t\t\t\"ATCCC\":0,\t\t\t\"ATCCG\":0,\t\t\t\"ATCGA\":0,\t\t\t\"ATCGT\":3,\t\t\t\"ATCGC\":0,\t\t\t\"ATCGG\":0,\n\t\t\t\"ATGAA\":3,\t\t\t\"ATGAT\":0,\t\t\t\"ATGAC\":3,\t\t\t\"ATGAG\":2,\t\t\t\"ATGTA\":2,\t\t\t\"ATGTT\":3,\t\t\t\"ATGTC\":4,\t\t\t\"ATGTG\":3,\t\t\t\"ATGCA\":0,\t\t\t\"ATGCT\":1,\t\t\t\"ATGCC\":2,\t\t\t\"ATGCG\":0,\t\t\t\"ATGGA\":3,\t\t\t\"ATGGT\":0,\t\t\t\"ATGGC\":2,\t\t\t\"ATGGG\":4,\n\t\t\t\"ACAAA\":2,\t\t\t\"ACAAT\":1,\t\t\t\"ACAAC\":5,\t\t\t\"ACAAG\":3,\t\t\t\"ACATA\":1,\t\t\t\"ACATT\":2,\t\t\t\"ACATC\":1,\t\t\t\"ACATG\":1,\t\t\t\"ACACA\":0,\t\t\t\"ACACT\":0,\t\t\t\"ACACC\":0,\t\t\t\"ACACG\":1,\t\t\t\"ACAGA\":0,\t\t\t\"ACAGT\":2,\t\t\t\"ACAGC\":7,\t\t\t\"ACAGG\":4,\n\t\t\t\"ACTAA\":0,\t\t\t\"ACTAT\":0,\t\t\t\"ACTAC\":0,\t\t\t\"ACTAG\":0,\t\t\t\"ACTTA\":2,\t\t\t\"ACTTT\":0,\t\t\t\"ACTTC\":4,\t\t\t\"ACTTG\":0,\t\t\t\"ACTCA\":2,\t\t\t\"ACTCT\":3,\t\t\t\"ACTCC\":0,\t\t\t\"ACTCG\":0,\t\t\t\"ACTGA\":0,\t\t\t\"ACTGT\":6,\t\t\t\"ACTGC\":1,\t\t\t\"ACTGG\":6,\n\t\t\t\"ACCAA\":2,\t\t\t\"ACCAT\":0,\t\t\t\"ACCAC\":2,\t\t\t\"ACCAG\":0,\t\t\t\"ACCTA\":1,\t\t\t\"ACCTT\":2,\t\t\t\"ACCTC\":5,\t\t\t\"ACCTG\":0,\t\t\t\"ACCCA\":0,\t\t\t\"ACCCT\":3,\t\t\t\"ACCCC\":0,\t\t\t\"ACCCG\":0,\t\t\t\"ACCGA\":0,\t\t\t\"ACCGT\":3,\t\t\t\"ACCGC\":2,\t\t\t\"ACCGG\":0,\n\t\t\t\"ACGAA\":0,\t\t\t\"ACGAT\":0,\t\t\t\"ACGAC\":0,\t\t\t\"ACGAG\":0,\t\t\t\"ACGTA\":0,\t\t\t\"ACGTT\":2,\t\t\t\"ACGTC\":1,\t\t\t\"ACGTG\":0,\t\t\t\"ACGCA\":2,\t\t\t\"ACGCT\":1,\t\t\t\"ACGCC\":3,\t\t\t\"ACGCG\":0,\t\t\t\"ACGGA\":0,\t\t\t\"ACGGT\":2,\t\t\t\"ACGGC\":0,\t\t\t\"ACGGG\":0,\n\t\t\t\"AGAAA\":0,\t\t\t\"AGAAT\":0,\t\t\t\"AGAAC\":0,\t\t\t\"AGAAG\":4,\t\t\t\"AGATA\":1,\t\t\t\"AGATT\":3,\t\t\t\"AGATC\":1,\t\t\t\"AGATG\":3,\t\t\t\"AGACA\":1,\t\t\t\"AGACT\":1,\t\t\t\"AGACC\":4,\t\t\t\"AGACG\":0,\t\t\t\"AGAGA\":0,\t\t\t\"AGAGT\":0,\t\t\t\"AGAGC\":2,\t\t\t\"AGAGG\":2,\n\t\t\t\"AGTAA\":0,\t\t\t\"AGTAT\":2,\t\t\t\"AGTAC\":0,\t\t\t\"AGTAG\":0,\t\t\t\"AGTTA\":0,\t\t\t\"AGTTT\":1,\t\t\t\"AGTTC\":1,\t\t\t\"AGTTG\":2,\t\t\t\"AGTCA\":8,\t\t\t\"AGTCT\":4,\t\t\t\"AGTCC\":1,\t\t\t\"AGTCG\":0,\t\t\t\"AGTGA\":0,\t\t\t\"AGTGT\":1,\t\t\t\"AGTGC\":2,\t\t\t\"AGTGG\":4,\n\t\t\t\"AGCAA\":1,\t\t\t\"AGCAT\":3,\t\t\t\"AGCAC\":0,\t\t\t\"AGCAG\":2,\t\t\t\"AGCTA\":2,\t\t\t\"AGCTT\":4,\t\t\t\"AGCTC\":4,\t\t\t\"AGCTG\":9,\t\t\t\"AGCCA\":0,\t\t\t\"AGCCT\":1,\t\t\t\"AGCCC\":1,\t\t\t\"AGCCG\":3,\t\t\t\"AGCGA\":0,\t\t\t\"AGCGT\":0,\t\t\t\"AGCGC\":0,\t\t\t\"AGCGG\":2,\n\t\t\t\"AGGAA\":4,\t\t\t\"AGGAT\":1,\t\t\t\"AGGAC\":5,\t\t\t\"AGGAG\":1,\t\t\t\"AGGTA\":0,\t\t\t\"AGGTT\":1,\t\t\t\"AGGTC\":1,\t\t\t\"AGGTG\":1,\t\t\t\"AGGCA\":0,\t\t\t\"AGGCT\":3,\t\t\t\"AGGCC\":0,\t\t\t\"AGGCG\":0,\t\t\t\"AGGGA\":2,\t\t\t\"AGGGT\":2,\t\t\t\"AGGGC\":0,\t\t\t\"AGGGG\":1,\n\t\t\t\"TAAAA\":1,\t\t\t\"TAAAT\":0,\t\t\t\"TAAAC\":2,\t\t\t\"TAAAG\":5,\t\t\t\"TAATA\":2,\t\t\t\"TAATT\":0,\t\t\t\"TAATC\":0,\t\t\t\"TAATG\":0,\t\t\t\"TAACA\":2,\t\t\t\"TAACT\":0,\t\t\t\"TAACC\":2,\t\t\t\"TAACG\":0,\t\t\t\"TAAGA\":2,\t\t\t\"TAAGT\":3,\t\t\t\"TAAGC\":0,\t\t\t\"TAAGG\":0,\n\t\t\t\"TATAA\":2,\t\t\t\"TATAT\":5,\t\t\t\"TATAC\":0,\t\t\t\"TATAG\":0,\t\t\t\"TATTA\":2,\t\t\t\"TATTT\":0,\t\t\t\"TATTC\":1,\t\t\t\"TATTG\":0,\t\t\t\"TATCA\":3,\t\t\t\"TATCT\":0,\t\t\t\"TATCC\":1,\t\t\t\"TATCG\":3,\t\t\t\"TATGA\":2,\t\t\t\"TATGT\":0,\t\t\t\"TATGC\":0,\t\t\t\"TATGG\":4,\n\t\t\t\"TACAA\":4,\t\t\t\"TACAT\":1,\t\t\t\"TACAC\":0,\t\t\t\"TACAG\":0,\t\t\t\"TACTA\":0,\t\t\t\"TACTT\":2,\t\t\t\"TACTC\":5,\t\t\t\"TACTG\":1,\t\t\t\"TACCA\":0,\t\t\t\"TACCT\":0,\t\t\t\"TACCC\":0,\t\t\t\"TACCG\":0,\t\t\t\"TACGA\":0,\t\t\t\"TACGT\":0,\t\t\t\"TACGC\":2,\t\t\t\"TACGG\":0,\n\t\t\t\"TAGAA\":0,\t\t\t\"TAGAT\":2,\t\t\t\"TAGAC\":0,\t\t\t\"TAGAG\":0,\t\t\t\"TAGTA\":0,\t\t\t\"TAGTT\":0,\t\t\t\"TAGTC\":4,\t\t\t\"TAGTG\":0,\t\t\t\"TAGCA\":0,\t\t\t\"TAGCT\":2,\t\t\t\"TAGCC\":1,\t\t\t\"TAGCG\":0,\t\t\t\"TAGGA\":0,\t\t\t\"TAGGT\":0,\t\t\t\"TAGGC\":0,\t\t\t\"TAGGG\":0,\n\t\t\t\"TTAAA\":7,\t\t\t\"TTAAT\":0,\t\t\t\"TTAAC\":0,\t\t\t\"TTAAG\":2,\t\t\t\"TTATA\":0,\t\t\t\"TTATT\":0,\t\t\t\"TTATC\":2,\t\t\t\"TTATG\":2,\t\t\t\"TTACA\":0,\t\t\t\"TTACT\":2,\t\t\t\"TTACC\":0,\t\t\t\"TTACG\":2,\t\t\t\"TTAGA\":0,\t\t\t\"TTAGT\":0,\t\t\t\"TTAGC\":0,\t\t\t\"TTAGG\":0,\n\t\t\t\"TTTAA\":0,\t\t\t\"TTTAT\":0,\t\t\t\"TTTAC\":2,\t\t\t\"TTTAG\":0,\t\t\t\"TTTTA\":0,\t\t\t\"TTTTT\":2,\t\t\t\"TTTTC\":5,\t\t\t\"TTTTG\":2,\t\t\t\"TTTCA\":2,\t\t\t\"TTTCT\":2,\t\t\t\"TTTCC\":2,\t\t\t\"TTTCG\":4,\t\t\t\"TTTGA\":2,\t\t\t\"TTTGT\":0,\t\t\t\"TTTGC\":1,\t\t\t\"TTTGG\":0,\n\t\t\t\"TTCAA\":6,\t\t\t\"TTCAT\":3,\t\t\t\"TTCAC\":2,\t\t\t\"TTCAG\":3,\t\t\t\"TTCTA\":1,\t\t\t\"TTCTT\":0,\t\t\t\"TTCTC\":2,\t\t\t\"TTCTG\":5,\t\t\t\"TTCCA\":1,\t\t\t\"TTCCT\":0,\t\t\t\"TTCCC\":1,\t\t\t\"TTCCG\":1,\t\t\t\"TTCGA\":0,\t\t\t\"TTCGT\":2,\t\t\t\"TTCGC\":0,\t\t\t\"TTCGG\":2,\n\t\t\t\"TTGAA\":1,\t\t\t\"TTGAT\":1,\t\t\t\"TTGAC\":2,\t\t\t\"TTGAG\":0,\t\t\t\"TTGTA\":2,\t\t\t\"TTGTT\":0,\t\t\t\"TTGTC\":4,\t\t\t\"TTGTG\":1,\t\t\t\"TTGCA\":1,\t\t\t\"TTGCT\":1,\t\t\t\"TTGCC\":0,\t\t\t\"TTGCG\":0,\t\t\t\"TTGGA\":2,\t\t\t\"TTGGT\":0,\t\t\t\"TTGGC\":3,\t\t\t\"TTGGG\":1,\n\t\t\t\"TCAAA\":9,\t\t\t\"TCAAT\":7,\t\t\t\"TCAAC\":0,\t\t\t\"TCAAG\":6,\t\t\t\"TCATA\":4,\t\t\t\"TCATT\":1,\t\t\t\"TCATC\":3,\t\t\t\"TCATG\":6,\t\t\t\"TCACA\":3,\t\t\t\"TCACT\":2,\t\t\t\"TCACC\":2,\t\t\t\"TCACG\":3,\t\t\t\"TCAGA\":0,\t\t\t\"TCAGT\":0,\t\t\t\"TCAGC\":4,\t\t\t\"TCAGG\":1,\n\t\t\t\"TCTAA\":0,\t\t\t\"TCTAT\":4,\t\t\t\"TCTAC\":0,\t\t\t\"TCTAG\":1,\t\t\t\"TCTTA\":0,\t\t\t\"TCTTT\":0,\t\t\t\"TCTTC\":4,\t\t\t\"TCTTG\":0,\t\t\t\"TCTCA\":2,\t\t\t\"TCTCT\":2,\t\t\t\"TCTCC\":0,\t\t\t\"TCTCG\":1,\t\t\t\"TCTGA\":2,\t\t\t\"TCTGT\":7,\t\t\t\"TCTGC\":2,\t\t\t\"TCTGG\":3,\n\t\t\t\"TCCAA\":1,\t\t\t\"TCCAT\":3,\t\t\t\"TCCAC\":2,\t\t\t\"TCCAG\":1,\t\t\t\"TCCTA\":0,\t\t\t\"TCCTT\":4,\t\t\t\"TCCTC\":5,\t\t\t\"TCCTG\":5,\t\t\t\"TCCCA\":0,\t\t\t\"TCCCT\":1,\t\t\t\"TCCCC\":1,\t\t\t\"TCCCG\":0,\t\t\t\"TCCGA\":1,\t\t\t\"TCCGT\":0,\t\t\t\"TCCGC\":0,\t\t\t\"TCCGG\":5,\n\t\t\t\"TCGAA\":0,\t\t\t\"TCGAT\":0,\t\t\t\"TCGAC\":0,\t\t\t\"TCGAG\":2,\t\t\t\"TCGTA\":0,\t\t\t\"TCGTT\":2,\t\t\t\"TCGTC\":5,\t\t\t\"TCGTG\":0,\t\t\t\"TCGCA\":0,\t\t\t\"TCGCT\":0,\t\t\t\"TCGCC\":0,\t\t\t\"TCGCG\":0,\t\t\t\"TCGGA\":2,\t\t\t\"TCGGT\":1,\t\t\t\"TCGGC\":0,\t\t\t\"TCGGG\":0,\n\t\t\t\"TGAAA\":2,\t\t\t\"TGAAT\":5,\t\t\t\"TGAAC\":2,\t\t\t\"TGAAG\":2,\t\t\t\"TGATA\":0,\t\t\t\"TGATT\":0,\t\t\t\"TGATC\":0,\t\t\t\"TGATG\":3,\t\t\t\"TGACA\":6,\t\t\t\"TGACT\":1,\t\t\t\"TGACC\":2,\t\t\t\"TGACG\":0,\t\t\t\"TGAGA\":5,\t\t\t\"TGAGT\":0,\t\t\t\"TGAGC\":1,\t\t\t\"TGAGG\":1,\n\t\t\t\"TGTAA\":1,\t\t\t\"TGTAT\":0,\t\t\t\"TGTAC\":0,\t\t\t\"TGTAG\":4,\t\t\t\"TGTTA\":0,\t\t\t\"TGTTT\":3,\t\t\t\"TGTTC\":3,\t\t\t\"TGTTG\":4,\t\t\t\"TGTCA\":1,\t\t\t\"TGTCT\":1,\t\t\t\"TGTCC\":11,\t\t\t\"TGTCG\":4,\t\t\t\"TGTGA\":8,\t\t\t\"TGTGT\":9,\t\t\t\"TGTGC\":3,\t\t\t\"TGTGG\":6,\n\t\t\t\"TGCAA\":2,\t\t\t\"TGCAT\":2,\t\t\t\"TGCAC\":0,\t\t\t\"TGCAG\":0,\t\t\t\"TGCTA\":0,\t\t\t\"TGCTT\":2,\t\t\t\"TGCTC\":2,\t\t\t\"TGCTG\":1,\t\t\t\"TGCCA\":2,\t\t\t\"TGCCT\":0,\t\t\t\"TGCCC\":0,\t\t\t\"TGCCG\":2,\t\t\t\"TGCGA\":0,\t\t\t\"TGCGT\":0,\t\t\t\"TGCGC\":0,\t\t\t\"TGCGG\":0,\n\t\t\t\"TGGAA\":5,\t\t\t\"TGGAT\":2,\t\t\t\"TGGAC\":1,\t\t\t\"TGGAG\":2,\t\t\t\"TGGTA\":3,\t\t\t\"TGGTT\":0,\t\t\t\"TGGTC\":1,\t\t\t\"TGGTG\":3,\t\t\t\"TGGCA\":2,\t\t\t\"TGGCT\":4,\t\t\t\"TGGCC\":7,\t\t\t\"TGGCG\":0,\t\t\t\"TGGGA\":4,\t\t\t\"TGGGT\":3,\t\t\t\"TGGGC\":3,\t\t\t\"TGGGG\":2,\n\t\t\t\"CAAAA\":4,\t\t\t\"CAAAT\":2,\t\t\t\"CAAAC\":2,\t\t\t\"CAAAG\":4,\t\t\t\"CAATA\":0,\t\t\t\"CAATT\":5,\t\t\t\"CAATC\":2,\t\t\t\"CAATG\":6,\t\t\t\"CAACA\":3,\t\t\t\"CAACT\":2,\t\t\t\"CAACC\":0,\t\t\t\"CAACG\":1,\t\t\t\"CAAGA\":3,\t\t\t\"CAAGT\":1,\t\t\t\"CAAGC\":3,\t\t\t\"CAAGG\":8,\n\t\t\t\"CATAA\":2,\t\t\t\"CATAT\":2,\t\t\t\"CATAC\":1,\t\t\t\"CATAG\":2,\t\t\t\"CATTA\":2,\t\t\t\"CATTT\":0,\t\t\t\"CATTC\":0,\t\t\t\"CATTG\":4,\t\t\t\"CATCA\":3,\t\t\t\"CATCT\":2,\t\t\t\"CATCC\":2,\t\t\t\"CATCG\":0,\t\t\t\"CATGA\":4,\t\t\t\"CATGT\":4,\t\t\t\"CATGC\":0,\t\t\t\"CATGG\":2,\n\t\t\t\"CACAA\":1,\t\t\t\"CACAT\":0,\t\t\t\"CACAC\":0,\t\t\t\"CACAG\":6,\t\t\t\"CACTA\":0,\t\t\t\"CACTT\":3,\t\t\t\"CACTC\":0,\t\t\t\"CACTG\":4,\t\t\t\"CACCA\":0,\t\t\t\"CACCT\":1,\t\t\t\"CACCC\":0,\t\t\t\"CACCG\":2,\t\t\t\"CACGA\":0,\t\t\t\"CACGT\":1,\t\t\t\"CACGC\":3,\t\t\t\"CACGG\":0,\n\t\t\t\"CAGAA\":1,\t\t\t\"CAGAT\":2,\t\t\t\"CAGAC\":0,\t\t\t\"CAGAG\":0,\t\t\t\"CAGTA\":0,\t\t\t\"CAGTT\":0,\t\t\t\"CAGTC\":0,\t\t\t\"CAGTG\":2,\t\t\t\"CAGCA\":2,\t\t\t\"CAGCT\":10,\t\t\t\"CAGCC\":2,\t\t\t\"CAGCG\":1,\t\t\t\"CAGGA\":3,\t\t\t\"CAGGT\":0,\t\t\t\"CAGGC\":1,\t\t\t\"CAGGG\":1,\n\t\t\t\"CTAAA\":0,\t\t\t\"CTAAT\":0,\t\t\t\"CTAAC\":0,\t\t\t\"CTAAG\":1,\t\t\t\"CTATA\":0,\t\t\t\"CTATT\":3,\t\t\t\"CTATC\":3,\t\t\t\"CTATG\":2,\t\t\t\"CTACA\":2,\t\t\t\"CTACT\":2,\t\t\t\"CTACC\":0,\t\t\t\"CTACG\":0,\t\t\t\"CTAGA\":0,\t\t\t\"CTAGT\":0,\t\t\t\"CTAGC\":1,\t\t\t\"CTAGG\":0,\n\t\t\t\"CTTAA\":2,\t\t\t\"CTTAT\":2,\t\t\t\"CTTAC\":0,\t\t\t\"CTTAG\":0,\t\t\t\"CTTTA\":2,\t\t\t\"CTTTT\":4,\t\t\t\"CTTTC\":1,\t\t\t\"CTTTG\":1,\t\t\t\"CTTCA\":5,\t\t\t\"CTTCT\":3,\t\t\t\"CTTCC\":0,\t\t\t\"CTTCG\":0,\t\t\t\"CTTGA\":0,\t\t\t\"CTTGT\":0,\t\t\t\"CTTGC\":0,\t\t\t\"CTTGG\":4,\n\t\t\t\"CTCAA\":2,\t\t\t\"CTCAT\":5,\t\t\t\"CTCAC\":3,\t\t\t\"CTCAG\":2,\t\t\t\"CTCTA\":0,\t\t\t\"CTCTT\":2,\t\t\t\"CTCTC\":0,\t\t\t\"CTCTG\":6,\t\t\t\"CTCCA\":3,\t\t\t\"CTCCT\":6,\t\t\t\"CTCCC\":0,\t\t\t\"CTCCG\":1,\t\t\t\"CTCGA\":0,\t\t\t\"CTCGT\":0,\t\t\t\"CTCGC\":0,\t\t\t\"CTCGG\":1,\n\t\t\t\"CTGAA\":3,\t\t\t\"CTGAT\":2,\t\t\t\"CTGAC\":1,\t\t\t\"CTGAG\":0,\t\t\t\"CTGTA\":0,\t\t\t\"CTGTT\":3,\t\t\t\"CTGTC\":9,\t\t\t\"CTGTG\":14,\t\t\t\"CTGCA\":2,\t\t\t\"CTGCT\":1,\t\t\t\"CTGCC\":0,\t\t\t\"CTGCG\":0,\t\t\t\"CTGGA\":1,\t\t\t\"CTGGT\":2,\t\t\t\"CTGGC\":4,\t\t\t\"CTGGG\":6,\n\t\t\t\"CCAAA\":0,\t\t\t\"CCAAT\":2,\t\t\t\"CCAAC\":1,\t\t\t\"CCAAG\":4,\t\t\t\"CCATA\":1,\t\t\t\"CCATT\":3,\t\t\t\"CCATC\":1,\t\t\t\"CCATG\":2,\t\t\t\"CCACA\":4,\t\t\t\"CCACT\":4,\t\t\t\"CCACC\":0,\t\t\t\"CCACG\":0,\t\t\t\"CCAGA\":1,\t\t\t\"CCAGT\":0,\t\t\t\"CCAGC\":1,\t\t\t\"CCAGG\":0,\n\t\t\t\"CCTAA\":0,\t\t\t\"CCTAT\":3,\t\t\t\"CCTAC\":3,\t\t\t\"CCTAG\":0,\t\t\t\"CCTTA\":0,\t\t\t\"CCTTT\":5,\t\t\t\"CCTTC\":0,\t\t\t\"CCTTG\":2,\t\t\t\"CCTCA\":5,\t\t\t\"CCTCT\":3,\t\t\t\"CCTCC\":4,\t\t\t\"CCTCG\":0,\t\t\t\"CCTGA\":1,\t\t\t\"CCTGT\":5,\t\t\t\"CCTGC\":0,\t\t\t\"CCTGG\":0,\n\t\t\t\"CCCAA\":0,\t\t\t\"CCCAT\":0,\t\t\t\"CCCAC\":3,\t\t\t\"CCCAG\":1,\t\t\t\"CCCTA\":5,\t\t\t\"CCCTT\":1,\t\t\t\"CCCTC\":1,\t\t\t\"CCCTG\":1,\t\t\t\"CCCCA\":0,\t\t\t\"CCCCT\":1,\t\t\t\"CCCCC\":0,\t\t\t\"CCCCG\":0,\t\t\t\"CCCGA\":0,\t\t\t\"CCCGT\":0,\t\t\t\"CCCGC\":0,\t\t\t\"CCCGG\":1,\n\t\t\t\"CCGAA\":1,\t\t\t\"CCGAT\":0,\t\t\t\"CCGAC\":2,\t\t\t\"CCGAG\":1,\t\t\t\"CCGTA\":2,\t\t\t\"CCGTT\":0,\t\t\t\"CCGTC\":0,\t\t\t\"CCGTG\":3,\t\t\t\"CCGCA\":0,\t\t\t\"CCGCT\":0,\t\t\t\"CCGCC\":0,\t\t\t\"CCGCG\":2,\t\t\t\"CCGGA\":4,\t\t\t\"CCGGT\":0,\t\t\t\"CCGGC\":1,\t\t\t\"CCGGG\":1,\n\t\t\t\"CGAAA\":1,\t\t\t\"CGAAT\":0,\t\t\t\"CGAAC\":0,\t\t\t\"CGAAG\":0,\t\t\t\"CGATA\":0,\t\t\t\"CGATT\":0,\t\t\t\"CGATC\":0,\t\t\t\"CGATG\":0,\t\t\t\"CGACA\":2,\t\t\t\"CGACT\":0,\t\t\t\"CGACC\":0,\t\t\t\"CGACG\":0,\t\t\t\"CGAGA\":0,\t\t\t\"CGAGT\":2,\t\t\t\"CGAGC\":0,\t\t\t\"CGAGG\":3,\n\t\t\t\"CGTAA\":2,\t\t\t\"CGTAT\":0,\t\t\t\"CGTAC\":0,\t\t\t\"CGTAG\":0,\t\t\t\"CGTTA\":0,\t\t\t\"CGTTT\":0,\t\t\t\"CGTTC\":4,\t\t\t\"CGTTG\":0,\t\t\t\"CGTCA\":4,\t\t\t\"CGTCT\":2,\t\t\t\"CGTCC\":0,\t\t\t\"CGTCG\":0,\t\t\t\"CGTGA\":1,\t\t\t\"CGTGT\":0,\t\t\t\"CGTGC\":0,\t\t\t\"CGTGG\":3,\n\t\t\t\"CGCAA\":0,\t\t\t\"CGCAT\":0,\t\t\t\"CGCAC\":0,\t\t\t\"CGCAG\":3,\t\t\t\"CGCTA\":0,\t\t\t\"CGCTT\":1,\t\t\t\"CGCTC\":0,\t\t\t\"CGCTG\":1,\t\t\t\"CGCCA\":0,\t\t\t\"CGCCT\":0,\t\t\t\"CGCCC\":3,\t\t\t\"CGCCG\":0,\t\t\t\"CGCGA\":2,\t\t\t\"CGCGT\":0,\t\t\t\"CGCGC\":0,\t\t\t\"CGCGG\":0,\n\t\t\t\"CGGAA\":4,\t\t\t\"CGGAT\":0,\t\t\t\"CGGAC\":2,\t\t\t\"CGGAG\":0,\t\t\t\"CGGTA\":0,\t\t\t\"CGGTT\":0,\t\t\t\"CGGTC\":1,\t\t\t\"CGGTG\":3,\t\t\t\"CGGCA\":1,\t\t\t\"CGGCT\":0,\t\t\t\"CGGCC\":0,\t\t\t\"CGGCG\":1,\t\t\t\"CGGGA\":0,\t\t\t\"CGGGT\":0,\t\t\t\"CGGGC\":0,\t\t\t\"CGGGG\":1,\n\t\t\t\"GAAAA\":1,\t\t\t\"GAAAT\":2,\t\t\t\"GAAAC\":4,\t\t\t\"GAAAG\":2,\t\t\t\"GAATA\":4,\t\t\t\"GAATT\":0,\t\t\t\"GAATC\":2,\t\t\t\"GAATG\":1,\t\t\t\"GAACA\":0,\t\t\t\"GAACT\":1,\t\t\t\"GAACC\":0,\t\t\t\"GAACG\":2,\t\t\t\"GAAGA\":3,\t\t\t\"GAAGT\":7,\t\t\t\"GAAGC\":2,\t\t\t\"GAAGG\":1,\n\t\t\t\"GATAA\":0,\t\t\t\"GATAT\":0,\t\t\t\"GATAC\":1,\t\t\t\"GATAG\":0,\t\t\t\"GATTA\":2,\t\t\t\"GATTT\":1,\t\t\t\"GATTC\":1,\t\t\t\"GATTG\":0,\t\t\t\"GATCA\":1,\t\t\t\"GATCT\":0,\t\t\t\"GATCC\":0,\t\t\t\"GATCG\":0,\t\t\t\"GATGA\":1,\t\t\t\"GATGT\":2,\t\t\t\"GATGC\":2,\t\t\t\"GATGG\":3,\n\t\t\t\"GACAA\":4,\t\t\t\"GACAT\":1,\t\t\t\"GACAC\":1,\t\t\t\"GACAG\":3,\t\t\t\"GACTA\":0,\t\t\t\"GACTT\":1,\t\t\t\"GACTC\":0,\t\t\t\"GACTG\":3,\t\t\t\"GACCA\":4,\t\t\t\"GACCT\":2,\t\t\t\"GACCC\":3,\t\t\t\"GACCG\":0,\t\t\t\"GACGA\":0,\t\t\t\"GACGT\":2,\t\t\t\"GACGC\":0,\t\t\t\"GACGG\":0,\n\t\t\t\"GAGAA\":3,\t\t\t\"GAGAT\":0,\t\t\t\"GAGAC\":2,\t\t\t\"GAGAG\":2,\t\t\t\"GAGTA\":0,\t\t\t\"GAGTT\":3,\t\t\t\"GAGTC\":2,\t\t\t\"GAGTG\":0,\t\t\t\"GAGCA\":0,\t\t\t\"GAGCT\":3,\t\t\t\"GAGCC\":0,\t\t\t\"GAGCG\":1,\t\t\t\"GAGGA\":1,\t\t\t\"GAGGT\":1,\t\t\t\"GAGGC\":2,\t\t\t\"GAGGG\":2,\n\t\t\t\"GTAAA\":0,\t\t\t\"GTAAT\":0,\t\t\t\"GTAAC\":2,\t\t\t\"GTAAG\":1,\t\t\t\"GTATA\":4,\t\t\t\"GTATT\":0,\t\t\t\"GTATC\":0,\t\t\t\"GTATG\":0,\t\t\t\"GTACA\":0,\t\t\t\"GTACT\":3,\t\t\t\"GTACC\":0,\t\t\t\"GTACG\":0,\t\t\t\"GTAGA\":1,\t\t\t\"GTAGT\":3,\t\t\t\"GTAGC\":0,\t\t\t\"GTAGG\":0,\n\t\t\t\"GTTAA\":3,\t\t\t\"GTTAT\":0,\t\t\t\"GTTAC\":0,\t\t\t\"GTTAG\":0,\t\t\t\"GTTTA\":0,\t\t\t\"GTTTT\":2,\t\t\t\"GTTTC\":3,\t\t\t\"GTTTG\":0,\t\t\t\"GTTCA\":4,\t\t\t\"GTTCT\":2,\t\t\t\"GTTCC\":1,\t\t\t\"GTTCG\":0,\t\t\t\"GTTGA\":2,\t\t\t\"GTTGT\":4,\t\t\t\"GTTGC\":1,\t\t\t\"GTTGG\":1,\n\t\t\t\"GTCAA\":9,\t\t\t\"GTCAT\":3,\t\t\t\"GTCAC\":4,\t\t\t\"GTCAG\":0,\t\t\t\"GTCTA\":2,\t\t\t\"GTCTT\":2,\t\t\t\"GTCTC\":2,\t\t\t\"GTCTG\":2,\t\t\t\"GTCCA\":1,\t\t\t\"GTCCT\":7,\t\t\t\"GTCCC\":1,\t\t\t\"GTCCG\":4,\t\t\t\"GTCGA\":2,\t\t\t\"GTCGT\":2,\t\t\t\"GTCGC\":0,\t\t\t\"GTCGG\":0,\n\t\t\t\"GTGAA\":4,\t\t\t\"GTGAT\":0,\t\t\t\"GTGAC\":3,\t\t\t\"GTGAG\":5,\t\t\t\"GTGTA\":1,\t\t\t\"GTGTT\":4,\t\t\t\"GTGTC\":0,\t\t\t\"GTGTG\":8,\t\t\t\"GTGCA\":1,\t\t\t\"GTGCT\":2,\t\t\t\"GTGCC\":2,\t\t\t\"GTGCG\":0,\t\t\t\"GTGGA\":4,\t\t\t\"GTGGT\":5,\t\t\t\"GTGGC\":4,\t\t\t\"GTGGG\":1,\n\t\t\t\"GCAAA\":1,\t\t\t\"GCAAT\":3,\t\t\t\"GCAAC\":0,\t\t\t\"GCAAG\":2,\t\t\t\"GCATA\":1,\t\t\t\"GCATT\":0,\t\t\t\"GCATC\":2,\t\t\t\"GCATG\":2,\t\t\t\"GCACA\":0,\t\t\t\"GCACT\":1,\t\t\t\"GCACC\":1,\t\t\t\"GCACG\":0,\t\t\t\"GCAGA\":2,\t\t\t\"GCAGT\":0,\t\t\t\"GCAGC\":3,\t\t\t\"GCAGG\":0,\n\t\t\t\"GCTAA\":1,\t\t\t\"GCTAT\":1,\t\t\t\"GCTAC\":0,\t\t\t\"GCTAG\":0,\t\t\t\"GCTTA\":2,\t\t\t\"GCTTT\":3,\t\t\t\"GCTTC\":0,\t\t\t\"GCTTG\":2,\t\t\t\"GCTCA\":3,\t\t\t\"GCTCT\":0,\t\t\t\"GCTCC\":6,\t\t\t\"GCTCG\":0,\t\t\t\"GCTGA\":4,\t\t\t\"GCTGT\":8,\t\t\t\"GCTGC\":0,\t\t\t\"GCTGG\":4,\n\t\t\t\"GCCAA\":4,\t\t\t\"GCCAT\":3,\t\t\t\"GCCAC\":0,\t\t\t\"GCCAG\":0,\t\t\t\"GCCTA\":0,\t\t\t\"GCCTT\":0,\t\t\t\"GCCTC\":1,\t\t\t\"GCCTG\":0,\t\t\t\"GCCCA\":4,\t\t\t\"GCCCT\":3,\t\t\t\"GCCCC\":0,\t\t\t\"GCCCG\":1,\t\t\t\"GCCGA\":3,\t\t\t\"GCCGT\":2,\t\t\t\"GCCGC\":0,\t\t\t\"GCCGG\":0,\n\t\t\t\"GCGAA\":0,\t\t\t\"GCGAT\":0,\t\t\t\"GCGAC\":0,\t\t\t\"GCGAG\":2,\t\t\t\"GCGTA\":0,\t\t\t\"GCGTT\":0,\t\t\t\"GCGTC\":0,\t\t\t\"GCGTG\":1,\t\t\t\"GCGCA\":1,\t\t\t\"GCGCT\":1,\t\t\t\"GCGCC\":0,\t\t\t\"GCGCG\":0,\t\t\t\"GCGGA\":0,\t\t\t\"GCGGT\":1,\t\t\t\"GCGGC\":1,\t\t\t\"GCGGG\":0,\n\t\t\t\"GGAAA\":6,\t\t\t\"GGAAT\":2,\t\t\t\"GGAAC\":1,\t\t\t\"GGAAG\":7,\t\t\t\"GGATA\":0,\t\t\t\"GGATT\":1,\t\t\t\"GGATC\":0,\t\t\t\"GGATG\":2,\t\t\t\"GGACA\":0,\t\t\t\"GGACT\":2,\t\t\t\"GGACC\":3,\t\t\t\"GGACG\":3,\t\t\t\"GGAGA\":2,\t\t\t\"GGAGT\":1,\t\t\t\"GGAGC\":2,\t\t\t\"GGAGG\":0,\n\t\t\t\"GGTAA\":0,\t\t\t\"GGTAT\":0,\t\t\t\"GGTAC\":3,\t\t\t\"GGTAG\":0,\t\t\t\"GGTTA\":2,\t\t\t\"GGTTT\":1,\t\t\t\"GGTTC\":0,\t\t\t\"GGTTG\":2,\t\t\t\"GGTCA\":2,\t\t\t\"GGTCT\":1,\t\t\t\"GGTCC\":1,\t\t\t\"GGTCG\":0,\t\t\t\"GGTGA\":4,\t\t\t\"GGTGT\":3,\t\t\t\"GGTGC\":0,\t\t\t\"GGTGG\":1,\n\t\t\t\"GGCAA\":3,\t\t\t\"GGCAT\":0,\t\t\t\"GGCAC\":2,\t\t\t\"GGCAG\":0,\t\t\t\"GGCTA\":0,\t\t\t\"GGCTT\":0,\t\t\t\"GGCTC\":3,\t\t\t\"GGCTG\":4,\t\t\t\"GGCCA\":5,\t\t\t\"GGCCT\":0,\t\t\t\"GGCCC\":4,\t\t\t\"GGCCG\":0,\t\t\t\"GGCGA\":0,\t\t\t\"GGCGT\":1,\t\t\t\"GGCGC\":2,\t\t\t\"GGCGG\":0,\n\t\t\t\"GGGAA\":3,\t\t\t\"GGGAT\":0,\t\t\t\"GGGAC\":2,\t\t\t\"GGGAG\":2,\t\t\t\"GGGTA\":0,\t\t\t\"GGGTT\":4,\t\t\t\"GGGTC\":1,\t\t\t\"GGGTG\":0,\t\t\t\"GGGCA\":2,\t\t\t\"GGGCT\":1,\t\t\t\"GGGCC\":1,\t\t\t\"GGGCG\":2,\t\t\t\"GGGGA\":1,\t\t\t\"GGGGT\":0,\t\t\t\"GGGGC\":3,\t\t\t\"GGGGG\":3\n\t\t},\n\t\t\"overrepresented_sequences\": {\n\t\t}\n\t},\n\t\"command\": \"fastp -i B001498_B109060_A8_S8_R1_001_ground_truth.fastq -I B001498_B109060_A8_S8_R2_001_ground_truth.fastq -o B001498_B109060_A8_S8_R1_001_ground_truth.fastp_trimmed.fastq -O B001498_B109060_A8_S8_R2_001_ground_truth.fastp_trimmed.fastq \"\n}"
      }
     ],
     "persistentId": "88357306-1595-4602-ae65-361864205925",
     "text": "cat fastp.json"
    },
    "executionTime": "2019-10-19T23:27:24.521Z"
   },
   {
    "cell": {
     "executionCount": 32,
     "executionEventId": "5cf1a1f1-541b-442a-965a-12653e2bbb0c",
     "hasError": false,
     "id": "2c5d7766-dcbc-4d50-ae7f-f12a30d0c89d",
     "outputs": [],
     "persistentId": "88357306-1595-4602-ae65-361864205925",
     "text": "# cat fastp.json"
    },
    "executionTime": "2019-10-19T23:27:58.516Z"
   },
   {
    "cell": {
     "executionCount": 33,
     "executionEventId": "69176da2-f956-44ac-87bb-08f8916f8641",
     "hasError": false,
     "id": "d8d7e71c-a226-4871-a0c8-a668486293b4",
     "outputs": [
      {
       "name": "stdout",
       "output_type": "stream",
       "text": "Traceback (most recent call last):\n  File \"/home/olga/anaconda/bin/khtools\", line 11, in <module>\n    load_entry_point('khtools', 'console_scripts', 'khtools')()\n  File \"/home/olga/miniconda3/lib/python3.6/site-packages/pkg_resources/__init__.py\", line 489, in load_entry_point\n    return get_distribution(dist).load_entry_point(group, name)\n  File \"/home/olga/miniconda3/lib/python3.6/site-packages/pkg_resources/__init__.py\", line 2843, in load_entry_point\n    return ep.load()\n  File \"/home/olga/miniconda3/lib/python3.6/site-packages/pkg_resources/__init__.py\", line 2434, in load\n    return self.resolve()\n  File \"/home/olga/miniconda3/lib/python3.6/site-packages/pkg_resources/__init__.py\", line 2440, in resolve\n    module = __import__(self.module_name, fromlist=['__name__'], level=0)\n  File \"/home/olga/code/kmer-hashing/kh-tools/khtools/__init__.py\", line 14, in <module>\n    from . import knn\n  File \"/home/olga/code/kmer-hashing/kh-tools/khtools/knn.py\", line 5, in <module>\n    import networkx as nx\nModuleNotFoundError: No module named 'networkx'\n"
      }
     ],
     "persistentId": "a0f1a12c-6ae8-49d2-96ba-31993118ca1b",
     "text": "! khtools partition-reads"
    },
    "executionTime": "2019-10-19T23:32:20.857Z"
   },
   {
    "cell": {
     "executionCount": 34,
     "executionEventId": "4f55ba90-7097-4c6d-8904-e76661b3e74f",
     "hasError": false,
     "id": "d8d7e71c-a226-4871-a0c8-a668486293b4",
     "outputs": [
      {
       "name": "stdout",
       "output_type": "stream",
       "text": "Traceback (most recent call last):\n  File \"/home/olga/anaconda/bin/khtools\", line 11, in <module>\n    load_entry_point('khtools', 'console_scripts', 'khtools')()\n  File \"/home/olga/miniconda3/lib/python3.6/site-packages/pkg_resources/__init__.py\", line 489, in load_entry_point\n    return get_distribution(dist).load_entry_point(group, name)\n  File \"/home/olga/miniconda3/lib/python3.6/site-packages/pkg_resources/__init__.py\", line 2843, in load_entry_point\n    return ep.load()\n  File \"/home/olga/miniconda3/lib/python3.6/site-packages/pkg_resources/__init__.py\", line 2434, in load\n    return self.resolve()\n  File \"/home/olga/miniconda3/lib/python3.6/site-packages/pkg_resources/__init__.py\", line 2440, in resolve\n    module = __import__(self.module_name, fromlist=['__name__'], level=0)\n  File \"/home/olga/code/kmer-hashing/kh-tools/khtools/__init__.py\", line 14, in <module>\n    from . import knn\n  File \"/home/olga/code/kmer-hashing/kh-tools/khtools/knn.py\", line 5, in <module>\n    import networkx as nx\nModuleNotFoundError: No module named 'networkx'\n"
      }
     ],
     "persistentId": "a0f1a12c-6ae8-49d2-96ba-31993118ca1b",
     "text": "! khtools partition"
    },
    "executionTime": "2019-10-19T23:33:28.648Z"
   },
   {
    "cell": {
     "executionCount": 35,
     "executionEventId": "4af8cebc-2392-43a5-a09d-d6c9a08e4985",
     "hasError": false,
     "id": "d8d7e71c-a226-4871-a0c8-a668486293b4",
     "outputs": [
      {
       "name": "stdout",
       "output_type": "stream",
       "text": "Usage: khtools partition [OPTIONS] READS PEPTIDES\nTry \"khtools partition -h\" for help.\n\nError: Missing argument \"READS\".\n"
      }
     ],
     "persistentId": "a0f1a12c-6ae8-49d2-96ba-31993118ca1b",
     "text": "! /home/olga/miniconda3/envs/kmer-hashing/bin/khtools partition"
    },
    "executionTime": "2019-10-19T23:33:47.893Z"
   },
   {
    "cell": {
     "executionCount": 36,
     "executionEventId": "d254455a-a0cf-447e-b368-09f32af384af",
     "hasError": false,
     "id": "d8d7e71c-a226-4871-a0c8-a668486293b4",
     "outputs": [
      {
       "name": "stdout",
       "output_type": "stream",
       "text": "Usage: khtools partition [OPTIONS] READS PEPTIDES\nTry \"khtools partition -h\" for help.\n\nError: Missing argument \"READS\".\n"
      }
     ],
     "persistentId": "a0f1a12c-6ae8-49d2-96ba-31993118ca1b",
     "text": "! /home/olga/miniconda3/envs/kmer-hashing/bin/khtools partition"
    },
    "executionTime": "2019-10-19T23:34:32.553Z"
   },
   {
    "cell": {
     "executionCount": 37,
     "executionEventId": "9b14ce2c-7990-4eca-809f-16cc4fe24a45",
     "hasError": false,
     "id": "5d879157-4ced-46f2-b786-b5088c80ab32",
     "outputs": [
      {
       "name": "stderr",
       "output_type": "stream",
       "text": "Read1 before filtering:\ntotal reads: 17\ntotal bases: 1700\nQ20 bases: 1684(99.0588%)\nQ30 bases: 1634(96.1176%)\n\nRead2 before filtering:\ntotal reads: 17\ntotal bases: 1700\nQ20 bases: 1673(98.4118%)\nQ30 bases: 1617(95.1176%)\n\nRead1 after filtering:\ntotal reads: 17\ntotal bases: 1670\nQ20 bases: 1654(99.0419%)\nQ30 bases: 1607(96.2275%)\n\nRead2 aftering filtering:\ntotal reads: 17\ntotal bases: 1670\nQ20 bases: 1645(98.503%)\nQ30 bases: 1589(95.1497%)\n\nFiltering result:\nreads passed filter: 34\nreads failed due to low quality: 0\nreads failed due to too many N: 0\nreads failed due to too short: 0\nreads failed due to low complexity: 0\nreads with adapter trimmed: 2\nbases trimmed due to adapters: 60\n\nDuplication rate: 0%\n\nInsert size peak (evaluated by paired-end reads): 70\n\nJSON report: fastp.json\nHTML report: fastp.html\n\nfastp --low_complexity_filter --qualified_quality_phred 30 -i B001498_B109060_A8_S8_R1_001_ground_truth.fastq -I B001498_B109060_A8_S8_R2_001_ground_truth.fastq -o B001498_B109060_A8_S8_R1_001_ground_truth.fastp_trimmed.fastq -O B001498_B109060_A8_S8_R2_001_ground_truth.fastp_trimmed.fastq \nfastp v0.20.0, time used: 0 seconds\n"
      }
     ],
     "persistentId": "1177b612-e132-42bc-8087-0b2017a3c9b9",
     "text": "%%bash\n\nfastp --low_complexity_filter --qualified_quality_phred 30 \\\n    -i B001498_B109060_A8_S8_R1_001_ground_truth.fastq \\\n    -I B001498_B109060_A8_S8_R2_001_ground_truth.fastq \\\n    -o B001498_B109060_A8_S8_R1_001_ground_truth.fastp_trimmed.fastq \\\n    -O B001498_B109060_A8_S8_R2_001_ground_truth.fastp_trimmed.fastq\n"
    },
    "executionTime": "2019-10-19T23:36:39.932Z"
   },
   {
    "cell": {
     "executionCount": 38,
     "executionEventId": "81d23ad6-3b59-47aa-bb59-84867facd24b",
     "hasError": false,
     "id": "4f8b6ef1-86ea-4494-92f7-b859b1f97ad6",
     "outputs": [
      {
       "name": "stdout",
       "output_type": "stream",
       "text": "B001498_B109060_A8_S8_R1_001_ground_truth.fastq:@A00111:356:HMHLCDSXX:1:1120:3703:32393 1:N:0:TGTGTCCACTCC+CTCCATAAGGGA\nB001498_B109060_A8_S8_R1_001_ground_truth.fastq-GGCTAGGCCTGGCCTGGCCTGTCAGGGTGCGGGCGGCGGCGGCTCCAGCACCATGTCCCTGCAGTACGAGGCTGTGGCCCGGGGGGCGCTGACAGCTCCA\nB001498_B109060_A8_S8_R1_001_ground_truth.fastq-+\nB001498_B109060_A8_S8_R1_001_ground_truth.fastq-FFFFFFFFFFFFFFFFFFFFFFFFFFFFFFFFFFFFFFFFFF:FFFFFFFFFFFFFFFFF:FFFFFFFFFFFFFFFFFFFFFFFFFFFFFFFFFFFFFFF\n--\nB001498_B109060_A8_S8_R2_001_ground_truth.fastq:@A00111:356:HMHLCDSXX:1:1120:3703:32393 2:N:0:TGTGTCCACTCC+CTCCATAAGGGA\nB001498_B109060_A8_S8_R2_001_ground_truth.fastq-GTTAAAGCCTCCATGTAGTCATCCTGTGCATCAATGACATATATCAATGCTCCTGTTCCCCTGAAGATCATCTCATAGTCAAATGTTGGGTCAAAAAAGT\nB001498_B109060_A8_S8_R2_001_ground_truth.fastq-+\nB001498_B109060_A8_S8_R2_001_ground_truth.fastq-FFFFFFFFFFFFFFFFFFFFFFFFFFFFFFFFFFFFFFFFFFFFFFFFFFFFFFFF:FFFFFFFFFFFFFFFFFFFFFFFFFFFFFFFFFFFFFFF:FFF\n"
      }
     ],
     "persistentId": "9088805d-bc63-4214-b560-0664b35bb4da",
     "text": "! grep -A 3 'A00111:356:HMHLCDSXX:1:1120:3703:32393' B001498_B109060_A8_S8_R*_001_ground_truth.fastq"
    },
    "executionTime": "2019-10-19T23:37:00.254Z"
   },
   {
    "cell": {
     "executionCount": 39,
     "executionEventId": "d64ab6e5-c1d4-485d-8f43-c369564a855e",
     "hasError": false,
     "id": "5d879157-4ced-46f2-b786-b5088c80ab32",
     "outputs": [
      {
       "name": "stderr",
       "output_type": "stream",
       "text": "Read1 before filtering:\ntotal reads: 17\ntotal bases: 1700\nQ20 bases: 1684(99.0588%)\nQ30 bases: 1634(96.1176%)\n\nRead2 before filtering:\ntotal reads: 17\ntotal bases: 1700\nQ20 bases: 1673(98.4118%)\nQ30 bases: 1617(95.1176%)\n\nRead1 after filtering:\ntotal reads: 17\ntotal bases: 1670\nQ20 bases: 1654(99.0419%)\nQ30 bases: 1607(96.2275%)\n\nRead2 aftering filtering:\ntotal reads: 17\ntotal bases: 1670\nQ20 bases: 1645(98.503%)\nQ30 bases: 1589(95.1497%)\n\nFiltering result:\nreads passed filter: 34\nreads failed due to low quality: 0\nreads failed due to too many N: 0\nreads failed due to too short: 0\nreads with adapter trimmed: 2\nbases trimmed due to adapters: 60\n\nDuplication rate: 0%\n\nInsert size peak (evaluated by paired-end reads): 70\n\nJSON report: fastp.json\nHTML report: fastp.html\n\nfastp  #--low_complexity_filter --qualified_quality_phred 30 -i B001498_B109060_A8_S8_R1_001_ground_truth.fastq -I B001498_B109060_A8_S8_R2_001_ground_truth.fastq -o B001498_B109060_A8_S8_R1_001_ground_truth.fastp_trimmed.fastq -O B001498_B109060_A8_S8_R2_001_ground_truth.fastp_trimmed.fastq \nfastp v0.20.0, time used: 0 seconds\n"
      }
     ],
     "persistentId": "1177b612-e132-42bc-8087-0b2017a3c9b9",
     "text": "%%bash\n\nfastp \\ #--low_complexity_filter --qualified_quality_phred 30 \\\n    -i B001498_B109060_A8_S8_R1_001_ground_truth.fastq \\\n    -I B001498_B109060_A8_S8_R2_001_ground_truth.fastq \\\n    -o B001498_B109060_A8_S8_R1_001_ground_truth.fastp_trimmed.fastq \\\n    -O B001498_B109060_A8_S8_R2_001_ground_truth.fastp_trimmed.fastq\n"
    },
    "executionTime": "2019-10-19T23:37:13.108Z"
   },
   {
    "cell": {
     "executionCount": 40,
     "executionEventId": "980ef228-01cb-4a78-a3d6-f11605c8a464",
     "hasError": false,
     "id": "5d879157-4ced-46f2-b786-b5088c80ab32",
     "outputs": [
      {
       "name": "stderr",
       "output_type": "stream",
       "text": "Detecting adapter sequence for read1...\nERROR: Failed to open file: \nbash: line 3: -i: command not found\n"
      }
     ],
     "persistentId": "1177b612-e132-42bc-8087-0b2017a3c9b9",
     "text": "%%bash\n#--low_complexity_filter --qualified_quality_phred 30 \\\nfastp \\ \n    -i B001498_B109060_A8_S8_R1_001_ground_truth.fastq \\\n    -I B001498_B109060_A8_S8_R2_001_ground_truth.fastq \\\n    -o B001498_B109060_A8_S8_R1_001_ground_truth.fastp_trimmed.fastq \\\n    -O B001498_B109060_A8_S8_R2_001_ground_truth.fastp_trimmed.fastq\n"
    },
    "executionTime": "2019-10-19T23:37:21.837Z"
   },
   {
    "cell": {
     "executionCount": 41,
     "executionEventId": "80493ad1-799c-403f-959f-e77c96ea3676",
     "hasError": false,
     "id": "5d879157-4ced-46f2-b786-b5088c80ab32",
     "outputs": [
      {
       "name": "stderr",
       "output_type": "stream",
       "text": "Read1 before filtering:\ntotal reads: 17\ntotal bases: 1700\nQ20 bases: 1684(99.0588%)\nQ30 bases: 1634(96.1176%)\n\nRead2 before filtering:\ntotal reads: 17\ntotal bases: 1700\nQ20 bases: 1673(98.4118%)\nQ30 bases: 1617(95.1176%)\n\nRead1 after filtering:\ntotal reads: 17\ntotal bases: 1670\nQ20 bases: 1654(99.0419%)\nQ30 bases: 1607(96.2275%)\n\nRead2 aftering filtering:\ntotal reads: 17\ntotal bases: 1670\nQ20 bases: 1645(98.503%)\nQ30 bases: 1589(95.1497%)\n\nFiltering result:\nreads passed filter: 34\nreads failed due to low quality: 0\nreads failed due to too many N: 0\nreads failed due to too short: 0\nreads with adapter trimmed: 2\nbases trimmed due to adapters: 60\n\nDuplication rate: 0%\n\nInsert size peak (evaluated by paired-end reads): 70\n\nJSON report: fastp.json\nHTML report: fastp.html\n\nfastp -i B001498_B109060_A8_S8_R1_001_ground_truth.fastq -I B001498_B109060_A8_S8_R2_001_ground_truth.fastq -o B001498_B109060_A8_S8_R1_001_ground_truth.fastp_trimmed.fastq -O B001498_B109060_A8_S8_R2_001_ground_truth.fastp_trimmed.fastq \nfastp v0.20.0, time used: 0 seconds\n"
      }
     ],
     "persistentId": "1177b612-e132-42bc-8087-0b2017a3c9b9",
     "text": "%%bash\n#--low_complexity_filter --qualified_quality_phred 30 \\\nfastp \\\n    -i B001498_B109060_A8_S8_R1_001_ground_truth.fastq \\\n    -I B001498_B109060_A8_S8_R2_001_ground_truth.fastq \\\n    -o B001498_B109060_A8_S8_R1_001_ground_truth.fastp_trimmed.fastq \\\n    -O B001498_B109060_A8_S8_R2_001_ground_truth.fastp_trimmed.fastq\n"
    },
    "executionTime": "2019-10-19T23:37:24.984Z"
   },
   {
    "cell": {
     "executionCount": 42,
     "executionEventId": "7d71b2e5-072d-4d5d-a218-60faffe4eff4",
     "hasError": false,
     "id": "d8d7e71c-a226-4871-a0c8-a668486293b4",
     "outputs": [
      {
       "name": "stdout",
       "output_type": "stream",
       "text": "Usage: khtools partition [OPTIONS] READS PEPTIDES\nTry \"khtools partition -h\" for help.\n\nError: Missing argument \"READS\".\n"
      }
     ],
     "persistentId": "a0f1a12c-6ae8-49d2-96ba-31993118ca1b",
     "text": "! /home/olga/miniconda3/envs/kmer-hashing/bin/khtools partition"
    },
    "executionTime": "2019-10-19T23:37:31.535Z"
   },
   {
    "cell": {
     "executionCount": 43,
     "executionEventId": "3296b104-84f4-41a8-98aa-2f43e6b9e696",
     "hasError": false,
     "id": "ef037389-198a-412b-884f-1bd0a712b06d",
     "outputs": [
      {
       "name": "stdout",
       "output_type": "stream",
       "text": "B001498_B109060_A8_S8_ground_truth_read_ids.txt\nB001498_B109060_A8_S8_R1_001_ground_truth.fastp_trimmed.fastq\nB001498_B109060_A8_S8_R1_001_ground_truth.fastq\nB001498_B109060_A8_S8_R1_coding_ground_truth.csv\nB001498_B109060_A8_S8_R2_001_ground_truth.fastp_trimmed.fastq\nB001498_B109060_A8_S8_R2_001_ground_truth.fastq\nB001498_B109060_A8_S8_R2_coding_ground_truth.csv\nfastp.html\nfastp.json\n\u001b[0m\u001b[01;31mHomo_sapiens.GRCh38.cds.all.fa.gz\u001b[0m\n\u001b[01;31mHomo_sapiens.GRCh38.ncrna.fa.gz\u001b[0m\n\u001b[01;31mHomo_sapiens.GRCh38.pep.all.fa.gz\u001b[0m\nHomo_sapiens.GRCh38.pep.subset.fa\n\u001b[01;31mHomo_sapiens.GRCh38.pep.subset.fa.gz\u001b[0m\nhuman_cds_k15.nodegraph\nhuman_cds_k15.nodegraph.info\nhuman_cds_k17.nodegraph\nhuman_cds_k17.nodegraph.info\nhuman_cds_k19.nodegraph\nhuman_cds_k19.nodegraph.info\nhuman_cds_k21.nodegraph\nhuman_cds_k21.nodegraph.info\nhuman_cds_k23.nodegraph\nhuman_cds_k23.nodegraph.info\nhuman_cds_k25.nodegraph\nhuman_cds_k25.nodegraph.info\nhuman_cds_k27.nodegraph\nhuman_cds_k27.nodegraph.info\nhuman_cds_k31.nodegraph\nhuman_cds_k31.nodegraph.info\nhuman_ncrna_k15.nodegraph\nhuman_ncrna_k15.nodegraph.info\nhuman_ncrna_k15.nodegraph.tagset\nhuman_ncrna_k17.nodegraph\nhuman_ncrna_k17.nodegraph.info\nhuman_ncrna_k19.nodegraph\nhuman_ncrna_k19.nodegraph.info\nhuman_ncrna_k21.nodegraph\nhuman_ncrna_k21.nodegraph.info\nhuman_ncrna_k23.nodegraph\nhuman_ncrna_k23.nodegraph.info\nhuman_ncrna_k25.nodegraph\nhuman_ncrna_k25.nodegraph.info\nhuman_ncrna_k27.nodegraph\nhuman_ncrna_k27.nodegraph.info\nhuman_ncrna_k31.nodegraph\nhuman_ncrna_k31.nodegraph.info\nLambert_Jolma_Campitelli_etal_2018_human_transcription_factors.csv\n\u001b[01;31mSRR306838_GSM752691_hsa_br_F_1_trimmed.fq.gz\u001b[0m\nSRR306838_GSM752691_hsa_br_F_1_trimmed_subsampled.coding_peptides.fasta\n\u001b[01;31mSRR306838_GSM752691_hsa_br_F_1_trimmed_subsampled.fq.gz\u001b[0m\nSRR306838_GSM752691_hsa_br_F_1_trimmed_subsampled.low_complexity_nucleotides.fasta\nSRR306838_GSM752691_hsa_br_F_1_trimmed_subsampled.low_complexity_peptides.fasta\nSRR306838_GSM752691_hsa_br_F_1_trimmed_subsampled.noncoding_nucleotides.fasta\n"
      }
     ],
     "persistentId": "f26a2396-fc65-4ca7-bc8d-f530c03740c0",
     "text": "ls"
    },
    "executionTime": "2019-10-19T23:37:39.139Z"
   },
   {
    "cell": {
     "executionCount": 44,
     "executionEventId": "2cb8340d-3296-4b0c-97d1-8632677598d2",
     "hasError": false,
     "id": "ad81767f-198e-46de-92e3-3b40a43598a8",
     "outputs": [
      {
       "name": "stderr",
       "output_type": "stream",
       "text": "Usage: khtools partition [OPTIONS] PEPTIDES [READS]...\nTry \"khtools partition -h\" for help.\n\nError: Missing argument \"PEPTIDES\".\n"
      }
     ],
     "persistentId": "1d4967e0-3854-4064-9597-96adb77f8493",
     "text": "%%bash\n\n/home/olga/miniconda3/envs/kmer-hashing/bin/khtools partition"
    },
    "executionTime": "2019-10-19T23:44:30.011Z"
   },
   {
    "cell": {
     "executionCount": 1,
     "executionEventId": "d7b78e97-1f99-4c16-9391-7281b3835de1",
     "hasError": false,
     "id": "d54e6622-1c71-4050-8f63-7206c968bba3",
     "outputs": [],
     "persistentId": "d71d3dcc-3277-4f68-83fa-c2e0cf67993e",
     "text": "folder = '/home/olga/data_sm/kmer-hashing/classify_coding_vs_noncoding/'"
    },
    "executionTime": "2019-10-19T23:45:07.459Z"
   },
   {
    "cell": {
     "executionCount": 2,
     "executionEventId": "056d0ac6-7ae0-4e5b-bb05-584c55e2d211",
     "hasError": false,
     "id": "5708ab56-6eaf-43f1-95f7-7f913ad2fa9d",
     "outputs": [
      {
       "name": "stdout",
       "output_type": "stream",
       "text": "/mnt/data_sm/olga/kmer-hashing/classify_coding_vs_noncoding\n"
      }
     ],
     "persistentId": "e1258dea-6261-4333-a42d-3290a6196a60",
     "text": "cd $folder"
    },
    "executionTime": "2019-10-19T23:45:08.648Z"
   },
   {
    "cell": {
     "executionCount": 3,
     "executionEventId": "22a270e8-6bfd-4d9d-92a0-f71ee68c0a99",
     "hasError": false,
     "id": "37a42345-b042-41ab-b112-17b2ab22ee92",
     "outputs": [],
     "persistentId": "990fecd7-155d-443e-b593-9ea6bf982a93",
     "text": "mkdir mouse_lemur_test"
    },
    "executionTime": "2019-10-19T23:45:37.356Z"
   },
   {
    "cell": {
     "executionCount": 4,
     "executionEventId": "48525c1e-4176-41ac-a9e9-faf825195aa0",
     "hasError": false,
     "id": "37a42345-b042-41ab-b112-17b2ab22ee92",
     "outputs": [],
     "persistentId": "990fecd7-155d-443e-b593-9ea6bf982a93",
     "text": "mkdir mouse_lemur_B001498_B109060_A8_S8_test"
    },
    "executionTime": "2019-10-19T23:45:51.492Z"
   },
   {
    "cell": {
     "executionCount": 5,
     "executionEventId": "8ed23a51-1f35-4508-b6bf-2f425c532286",
     "hasError": false,
     "id": "9b2c0523-cae3-4fc8-b7e5-53677a0fc444",
     "outputs": [],
     "persistentId": "15b996b9-7ba0-4b85-b153-b88248453386",
     "text": "! ln -s ../B001498_B109060_A8_S8* mouse_lemur_B001498_B109060_A8_S8_test"
    },
    "executionTime": "2019-10-19T23:46:00.505Z"
   },
   {
    "cell": {
     "executionCount": 6,
     "executionEventId": "45d0f385-2f20-446a-844a-136389ca127a",
     "hasError": false,
     "id": "8738537d-fe39-4864-a60b-09c45078acce",
     "outputs": [],
     "persistentId": "9f280281-4199-4c0f-b3f6-e079139cf9bf",
     "text": "! cd mouse_lemur_B001498_B109060_A8_S8_test"
    },
    "executionTime": "2019-10-19T23:46:03.087Z"
   },
   {
    "cell": {
     "executionCount": 7,
     "executionEventId": "fb1359e6-b5f4-4f26-9281-2c279ae53753",
     "hasError": false,
     "id": "13536d47-ae64-4fdc-a27d-ab29c613c892",
     "outputs": [
      {
       "name": "stdout",
       "output_type": "stream",
       "text": "total 239G\ndrwxrwxr-x 4 olga olga 8.0K Oct 19 16:44 \u001b[0m\u001b[01;34m.\u001b[0m/\ndrwxrwxr-x 5 olga olga 4.0K Sep 14 08:39 \u001b[01;34m..\u001b[0m/\n-rw-rw-r-- 1 olga olga  792 Oct 19 16:21 B001498_B109060_A8_S8_ground_truth_read_ids.txt\n-rw-rw-r-- 1 olga olga 4.6K Oct 19 16:36 B001498_B109060_A8_S8_R1_001_ground_truth.fastp_trimmed.fastq\n-rw-rw-r-- 1 olga olga 4.7K Oct 19 16:22 B001498_B109060_A8_S8_R1_001_ground_truth.fastq\n-rw-rw-r-- 1 olga olga 2.3K Oct 19 16:20 B001498_B109060_A8_S8_R1_coding_ground_truth.csv\n-rw-rw-r-- 1 olga olga 4.6K Oct 19 16:36 B001498_B109060_A8_S8_R2_001_ground_truth.fastp_trimmed.fastq\n-rw-rw-r-- 1 olga olga 4.7K Oct 19 16:22 B001498_B109060_A8_S8_R2_001_ground_truth.fastq\n-rw-rw-r-- 1 olga olga 2.2K Oct 19 16:20 B001498_B109060_A8_S8_R2_coding_ground_truth.csv\n-rw-rw-r-- 1 olga olga 404K Oct 19 16:36 fastp.html\n-rw-rw-r-- 1 olga olga  81K Oct 19 16:36 fastp.json\n-rw-rw-r-- 1 olga olga  21M Sep 14 06:46 \u001b[01;31mHomo_sapiens.GRCh38.cds.all.fa.gz\u001b[0m\n-rw-rw-r-- 1 olga olga  16M Sep 14 06:46 \u001b[01;31mHomo_sapiens.GRCh38.ncrna.fa.gz\u001b[0m\n-rw-rw-r-- 1 olga olga  14M Sep 14 06:46 \u001b[01;31mHomo_sapiens.GRCh38.pep.all.fa.gz\u001b[0m\n-rw-rw-r-- 1 olga olga 2.6M Oct 13 17:26 Homo_sapiens.GRCh38.pep.subset.fa\n-rw-rw-r-- 1 olga olga 489K Oct 13 17:26 \u001b[01;31mHomo_sapiens.GRCh38.pep.subset.fa.gz\u001b[0m\n-rw-rw-r-- 1 olga olga  15G Sep 14 07:11 human_cds_k15.nodegraph\n-rw-rw-r-- 1 olga olga   65 Sep 14 07:11 human_cds_k15.nodegraph.info\n-rw-rw-r-- 1 olga olga  15G Sep 14 07:22 human_cds_k17.nodegraph\n-rw-rw-r-- 1 olga olga   65 Sep 14 07:22 human_cds_k17.nodegraph.info\n-rw-rw-r-- 1 olga olga  15G Sep 14 07:30 human_cds_k19.nodegraph\n-rw-rw-r-- 1 olga olga   65 Sep 14 07:30 human_cds_k19.nodegraph.info\n-rw-rw-r-- 1 olga olga  15G Sep 14 07:39 human_cds_k21.nodegraph\n-rw-rw-r-- 1 olga olga   65 Sep 14 07:39 human_cds_k21.nodegraph.info\n-rw-rw-r-- 1 olga olga  15G Sep 14 07:47 human_cds_k23.nodegraph\n-rw-rw-r-- 1 olga olga   65 Sep 14 07:47 human_cds_k23.nodegraph.info\n-rw-rw-r-- 1 olga olga  15G Sep 14 07:55 human_cds_k25.nodegraph\n-rw-rw-r-- 1 olga olga   65 Sep 14 07:55 human_cds_k25.nodegraph.info\n-rw-rw-r-- 1 olga olga  15G Sep 14 08:03 human_cds_k27.nodegraph\n-rw-rw-r-- 1 olga olga   65 Sep 14 08:03 human_cds_k27.nodegraph.info\n-rw-rw-r-- 1 olga olga  15G Sep 14 08:12 human_cds_k31.nodegraph\n-rw-rw-r-- 1 olga olga   65 Sep 14 08:12 human_cds_k31.nodegraph.info\n-rw-rw-r-- 1 olga olga  15G Sep 14 07:18 human_ncrna_k15.nodegraph\n-rw-rw-r-- 1 olga olga   65 Sep 14 07:18 human_ncrna_k15.nodegraph.info\n-rw-rw-r-- 1 olga olga 5.7M Sep 14 07:15 human_ncrna_k15.nodegraph.tagset\n-rw-rw-r-- 1 olga olga  15G Sep 14 07:26 human_ncrna_k17.nodegraph\n-rw-rw-r-- 1 olga olga   65 Sep 14 07:26 human_ncrna_k17.nodegraph.info\n-rw-rw-r-- 1 olga olga  15G Sep 14 07:34 human_ncrna_k19.nodegraph\n-rw-rw-r-- 1 olga olga   65 Sep 14 07:34 human_ncrna_k19.nodegraph.info\n-rw-rw-r-- 1 olga olga  15G Sep 14 07:42 human_ncrna_k21.nodegraph\n-rw-rw-r-- 1 olga olga   65 Sep 14 07:43 human_ncrna_k21.nodegraph.info\n-rw-rw-r-- 1 olga olga  15G Sep 14 07:51 human_ncrna_k23.nodegraph\n-rw-rw-r-- 1 olga olga   65 Sep 14 07:51 human_ncrna_k23.nodegraph.info\n-rw-rw-r-- 1 olga olga  15G Sep 14 07:59 human_ncrna_k25.nodegraph\n-rw-rw-r-- 1 olga olga   65 Sep 14 07:59 human_ncrna_k25.nodegraph.info\n-rw-rw-r-- 1 olga olga  15G Sep 14 08:07 human_ncrna_k27.nodegraph\n-rw-rw-r-- 1 olga olga   65 Sep 14 08:07 human_ncrna_k27.nodegraph.info\n-rw-rw-r-- 1 olga olga  15G Sep 14 08:16 human_ncrna_k31.nodegraph\n-rw-rw-r-- 1 olga olga   65 Sep 14 08:16 human_ncrna_k31.nodegraph.info\n-rw-rw-r-- 1 olga olga 2.0M Oct 19 14:13 Lambert_Jolma_Campitelli_etal_2018_human_transcription_factors.csv\ndrwxrwxr-x 2 olga olga 4.0K Oct 19 16:44 \u001b[01;34mmouse_lemur_B001498_B109060_A8_S8_test\u001b[0m/\ndrwxrwxr-x 2 olga olga 4.0K Oct 19 16:44 \u001b[01;34mmouse_lemur_test\u001b[0m/\n-rw-r--r-- 1 olga olga  52M Sep 18 05:33 \u001b[01;31mSRR306838_GSM752691_hsa_br_F_1_trimmed.fq.gz\u001b[0m\n-rw-rw-r-- 1 olga olga  26K Oct 11 23:03 SRR306838_GSM752691_hsa_br_F_1_trimmed_subsampled.coding_peptides.fasta\n-rw-r--r-- 1 olga olga  72K Sep 18 05:33 \u001b[01;31mSRR306838_GSM752691_hsa_br_F_1_trimmed_subsampled.fq.gz\u001b[0m\n-rw-rw-r-- 1 olga olga  132 Oct 11 23:03 SRR306838_GSM752691_hsa_br_F_1_trimmed_subsampled.low_complexity_nucleotides.fasta\n-rw-rw-r-- 1 olga olga    0 Oct 11 22:41 SRR306838_GSM752691_hsa_br_F_1_trimmed_subsampled.low_complexity_peptides.fasta\n-rw-rw-r-- 1 olga olga  91K Oct 11 23:03 SRR306838_GSM752691_hsa_br_F_1_trimmed_subsampled.noncoding_nucleotides.fasta\n"
      }
     ],
     "persistentId": "0b1bd213-1ff6-47c3-9eb1-b04cf1adb152",
     "text": "ls -lha "
    },
    "executionTime": "2019-10-19T23:46:06.067Z"
   },
   {
    "cell": {
     "executionCount": 8,
     "executionEventId": "4df485c7-081d-4130-9226-d6a74f79bdaf",
     "hasError": false,
     "id": "8738537d-fe39-4864-a60b-09c45078acce",
     "outputs": [
      {
       "name": "stdout",
       "output_type": "stream",
       "text": "/mnt/data_sm/olga/kmer-hashing/classify_coding_vs_noncoding/mouse_lemur_B001498_B109060_A8_S8_test\n"
      }
     ],
     "persistentId": "9f280281-4199-4c0f-b3f6-e079139cf9bf",
     "text": "cd mouse_lemur_B001498_B109060_A8_S8_test"
    },
    "executionTime": "2019-10-19T23:46:12.845Z"
   },
   {
    "cell": {
     "executionCount": 9,
     "executionEventId": "089ef366-7486-489e-b3e7-2a8002406a23",
     "hasError": false,
     "id": "13536d47-ae64-4fdc-a27d-ab29c613c892",
     "outputs": [
      {
       "name": "stdout",
       "output_type": "stream",
       "text": "total 9.0K\ndrwxrwxr-x 2 olga olga 4.0K Oct 19 16:44 \u001b[0m\u001b[01;34m.\u001b[0m/\ndrwxrwxr-x 4 olga olga 8.0K Oct 19 16:44 \u001b[01;34m..\u001b[0m/\nlrwxrwxrwx 1 olga olga   25 Oct 19 16:44 \u001b[40;31;01mB001498_B109060_A8_S8*\u001b[0m -> \u001b[40;31;01m../B001498_B109060_A8_S8*\u001b[0m\n"
      }
     ],
     "persistentId": "0b1bd213-1ff6-47c3-9eb1-b04cf1adb152",
     "text": "ls -lha "
    },
    "executionTime": "2019-10-19T23:46:13.772Z"
   },
   {
    "cell": {
     "executionCount": 10,
     "executionEventId": "2e980181-7222-49cd-bdfa-c9f21a6ab15d",
     "hasError": false,
     "id": "dedc70b5-232c-4ffa-acbd-2635b4182a02",
     "outputs": [
      {
       "name": "stdout",
       "output_type": "stream",
       "text": "ln: target 'mouse_lemur_B001498_B109060_A8_S8_test' is not a directory\n"
      }
     ],
     "persistentId": "0b38779a-a040-4a1a-bd71-a37d59518e3c",
     "text": "! ln -s ../B001498_B109060_A8_S8* mouse_lemur_B001498_B109060_A8_S8_test"
    },
    "executionTime": "2019-10-19T23:46:28.426Z"
   },
   {
    "cell": {
     "executionCount": 11,
     "executionEventId": "cc7be7ec-123c-4753-8f9c-7c846a5308a7",
     "hasError": false,
     "id": "dedc70b5-232c-4ffa-acbd-2635b4182a02",
     "outputs": [],
     "persistentId": "0b38779a-a040-4a1a-bd71-a37d59518e3c",
     "text": "! ln -s ../B001498_B109060_A8_S8* ."
    },
    "executionTime": "2019-10-19T23:46:31.810Z"
   },
   {
    "cell": {
     "executionCount": 12,
     "executionEventId": "4d6431ee-c528-44d4-ae29-e0043f2725fc",
     "hasError": false,
     "id": "8097a18e-e562-45f0-84bd-9800d7e32039",
     "outputs": [
      {
       "name": "stdout",
       "output_type": "stream",
       "text": "total 13K\ndrwxrwxr-x 2 olga olga 4.0K Oct 19 16:45 \u001b[0m\u001b[01;34m.\u001b[0m/\ndrwxrwxr-x 4 olga olga 8.0K Oct 19 16:44 \u001b[01;34m..\u001b[0m/\nlrwxrwxrwx 1 olga olga   25 Oct 19 16:44 \u001b[40;31;01mB001498_B109060_A8_S8*\u001b[0m -> \u001b[40;31;01m../B001498_B109060_A8_S8*\u001b[0m\nlrwxrwxrwx 1 olga olga   50 Oct 19 16:45 \u001b[01;36mB001498_B109060_A8_S8_ground_truth_read_ids.txt\u001b[0m -> ../B001498_B109060_A8_S8_ground_truth_read_ids.txt\nlrwxrwxrwx 1 olga olga   64 Oct 19 16:45 \u001b[01;36mB001498_B109060_A8_S8_R1_001_ground_truth.fastp_trimmed.fastq\u001b[0m -> ../B001498_B109060_A8_S8_R1_001_ground_truth.fastp_trimmed.fastq\nlrwxrwxrwx 1 olga olga   50 Oct 19 16:45 \u001b[01;36mB001498_B109060_A8_S8_R1_001_ground_truth.fastq\u001b[0m -> ../B001498_B109060_A8_S8_R1_001_ground_truth.fastq\nlrwxrwxrwx 1 olga olga   51 Oct 19 16:45 \u001b[01;36mB001498_B109060_A8_S8_R1_coding_ground_truth.csv\u001b[0m -> ../B001498_B109060_A8_S8_R1_coding_ground_truth.csv\nlrwxrwxrwx 1 olga olga   64 Oct 19 16:45 \u001b[01;36mB001498_B109060_A8_S8_R2_001_ground_truth.fastp_trimmed.fastq\u001b[0m -> ../B001498_B109060_A8_S8_R2_001_ground_truth.fastp_trimmed.fastq\nlrwxrwxrwx 1 olga olga   50 Oct 19 16:45 \u001b[01;36mB001498_B109060_A8_S8_R2_001_ground_truth.fastq\u001b[0m -> ../B001498_B109060_A8_S8_R2_001_ground_truth.fastq\nlrwxrwxrwx 1 olga olga   51 Oct 19 16:45 \u001b[01;36mB001498_B109060_A8_S8_R2_coding_ground_truth.csv\u001b[0m -> ../B001498_B109060_A8_S8_R2_coding_ground_truth.csv\n"
      }
     ],
     "persistentId": "8bfbcfca-833d-4b69-aef7-0cd0beb976bf",
     "text": "ls -lha"
    },
    "executionTime": "2019-10-19T23:46:34.494Z"
   },
   {
    "cell": {
     "executionCount": 13,
     "executionEventId": "22b2684b-1f03-40c5-99d2-261b0de775e7",
     "hasError": false,
     "id": "1542ab54-48db-47ba-baf3-54a192c3a819",
     "outputs": [],
     "persistentId": "7dfd12c2-099c-4b54-b223-c9808b0f08af",
     "text": "rm B001498_B109060_A8_S8\\*"
    },
    "executionTime": "2019-10-19T23:46:45.325Z"
   },
   {
    "cell": {
     "executionCount": 14,
     "executionEventId": "19b650ce-7c54-452f-ba1c-32f11d8fcc03",
     "hasError": false,
     "id": "001d0244-bb25-4e9a-8fde-3ff3fb592006",
     "outputs": [
      {
       "name": "stdout",
       "output_type": "stream",
       "text": "(20, 7)\n"
      },
      {
       "data": {
        "text/html": "<div>\n<style scoped>\n    .dataframe tbody tr th:only-of-type {\n        vertical-align: middle;\n    }\n\n    .dataframe tbody tr th {\n        vertical-align: top;\n    }\n\n    .dataframe thead th {\n        text-align: right;\n    }\n</style>\n<table border=\"1\" class=\"dataframe\">\n  <thead>\n    <tr style=\"text-align: right;\">\n      <th></th>\n      <th>sequence_id</th>\n      <th>sequence</th>\n      <th>Chrom</th>\n      <th>start</th>\n      <th>is_coding</th>\n      <th>Notes</th>\n      <th>Alignment</th>\n    </tr>\n  </thead>\n  <tbody>\n    <tr>\n      <th>0</th>\n      <td>A00111:356:HMHLCDSXX:1:1114:10330:17754</td>\n      <td>TTCTCGGTGTGCCATTGTGTGCCAACGCTTTCAGGCTGGGGGCACT...</td>\n      <td>NaN</td>\n      <td>NaN</td>\n      <td>True</td>\n      <td>NaN</td>\n      <td>NaN</td>\n    </tr>\n    <tr>\n      <th>1</th>\n      <td>A00111:356:HMHLCDSXX:1:1120:3703:32393</td>\n      <td>GTTAAAGCCTCCATGTAGTCATCCTGTGCATCAATGACATATATCA...</td>\n      <td>NC_033661.1</td>\n      <td>36523128.0</td>\n      <td>True</td>\n      <td>In a splice junction</td>\n      <td>NaN</td>\n    </tr>\n    <tr>\n      <th>2</th>\n      <td>A00111:356:HMHLCDSXX:1:1140:10059:21073</td>\n      <td>TCCTTTAAGTAAAGGACAGTTGTATTATTCAGCTTGATAATTGCCA...</td>\n      <td>NC_033661.1</td>\n      <td>36513997.0</td>\n      <td>True</td>\n      <td>Is spliced</td>\n      <td>NaN</td>\n    </tr>\n    <tr>\n      <th>3</th>\n      <td>A00111:356:HMHLCDSXX:1:1157:31910:28134</td>\n      <td>TCCTTTAAGTAAAGGACAGTTGTATTATTCAGCTTGATAATTGCCA...</td>\n      <td>NC_033661.1</td>\n      <td>36513997.0</td>\n      <td>True</td>\n      <td>Is spliced</td>\n      <td>NaN</td>\n    </tr>\n    <tr>\n      <th>4</th>\n      <td>A00111:356:HMHLCDSXX:1:2136:11198:13870</td>\n      <td>ATACAAGACACGTCAATCACAACATCAATCATGTCACAGCAAAGTT...</td>\n      <td>NC_033661.1</td>\n      <td>36518199.0</td>\n      <td>True</td>\n      <td>NaN</td>\n      <td>NaN</td>\n    </tr>\n  </tbody>\n</table>\n</div>",
        "text/plain": "                               sequence_id  \\\n0  A00111:356:HMHLCDSXX:1:1114:10330:17754   \n1   A00111:356:HMHLCDSXX:1:1120:3703:32393   \n2  A00111:356:HMHLCDSXX:1:1140:10059:21073   \n3  A00111:356:HMHLCDSXX:1:1157:31910:28134   \n4  A00111:356:HMHLCDSXX:1:2136:11198:13870   \n\n                                            sequence        Chrom       start  \\\n0  TTCTCGGTGTGCCATTGTGTGCCAACGCTTTCAGGCTGGGGGCACT...          NaN         NaN   \n1  GTTAAAGCCTCCATGTAGTCATCCTGTGCATCAATGACATATATCA...  NC_033661.1  36523128.0   \n2  TCCTTTAAGTAAAGGACAGTTGTATTATTCAGCTTGATAATTGCCA...  NC_033661.1  36513997.0   \n3  TCCTTTAAGTAAAGGACAGTTGTATTATTCAGCTTGATAATTGCCA...  NC_033661.1  36513997.0   \n4  ATACAAGACACGTCAATCACAACATCAATCATGTCACAGCAAAGTT...  NC_033661.1  36518199.0   \n\n   is_coding                 Notes  Alignment  \n0       True                   NaN        NaN  \n1       True  In a splice junction        NaN  \n2       True            Is spliced        NaN  \n3       True            Is spliced        NaN  \n4       True                   NaN        NaN  "
       },
       "execution_count": 14,
       "metadata": {},
       "output_type": "execute_result"
      }
     ],
     "persistentId": "252c3a44-2f31-4fd9-9dd7-d9ad61cce053",
     "text": "import pandas as pd\n\ndf_r2 = pd.read_csv(\"B001498_B109060_A8_S8_R2_coding_ground_truth.csv\")\nprint(df_r2.shape)\ndf_r2.head()"
    },
    "executionTime": "2019-10-19T23:47:11.799Z"
   },
   {
    "cell": {
     "executionCount": 15,
     "executionEventId": "44ce2c52-96d1-42cd-b647-13276052c0bf",
     "hasError": true,
     "id": "001d0244-bb25-4e9a-8fde-3ff3fb592006",
     "outputs": [
      {
       "ename": "AttributeError",
       "evalue": "'DataFrame' object has no attribute 'drop_duplicated'",
       "output_type": "error",
       "traceback": [
        "\u001b[0;31m---------------------------------------------------------------------------\u001b[0m",
        "\u001b[0;31mAttributeError\u001b[0m                            Traceback (most recent call last)",
        "\u001b[0;32m<ipython-input-15-8f6fa41549ef>\u001b[0m in \u001b[0;36m<module>\u001b[0;34m()\u001b[0m\n\u001b[1;32m      2\u001b[0m \u001b[0;34m\u001b[0m\u001b[0m\n\u001b[1;32m      3\u001b[0m \u001b[0mdf_r2\u001b[0m \u001b[0;34m=\u001b[0m \u001b[0mpd\u001b[0m\u001b[0;34m.\u001b[0m\u001b[0mread_csv\u001b[0m\u001b[0;34m(\u001b[0m\u001b[0;34m\"B001498_B109060_A8_S8_R2_coding_ground_truth.csv\"\u001b[0m\u001b[0;34m)\u001b[0m\u001b[0;34m\u001b[0m\u001b[0;34m\u001b[0m\u001b[0m\n\u001b[0;32m----> 4\u001b[0;31m \u001b[0mdf_r2\u001b[0m \u001b[0;34m=\u001b[0m \u001b[0mdf_r2\u001b[0m\u001b[0;34m.\u001b[0m\u001b[0mdrop_duplicated\u001b[0m\u001b[0;34m(\u001b[0m\u001b[0msubset\u001b[0m\u001b[0;34m=\u001b[0m\u001b[0;34m'sequence_id'\u001b[0m\u001b[0;34m)\u001b[0m\u001b[0;34m\u001b[0m\u001b[0;34m\u001b[0m\u001b[0m\n\u001b[0m\u001b[1;32m      5\u001b[0m \u001b[0mprint\u001b[0m\u001b[0;34m(\u001b[0m\u001b[0mdf_r2\u001b[0m\u001b[0;34m.\u001b[0m\u001b[0mshape\u001b[0m\u001b[0;34m)\u001b[0m\u001b[0;34m\u001b[0m\u001b[0;34m\u001b[0m\u001b[0m\n\u001b[1;32m      6\u001b[0m \u001b[0mdf_r2\u001b[0m\u001b[0;34m.\u001b[0m\u001b[0mhead\u001b[0m\u001b[0;34m(\u001b[0m\u001b[0;34m)\u001b[0m\u001b[0;34m\u001b[0m\u001b[0;34m\u001b[0m\u001b[0m\n",
        "\u001b[0;32m~/miniconda3/envs/kmer-hashing/lib/python3.6/site-packages/pandas/core/generic.py\u001b[0m in \u001b[0;36m__getattr__\u001b[0;34m(self, name)\u001b[0m\n\u001b[1;32m   5065\u001b[0m             \u001b[0;32mif\u001b[0m \u001b[0mself\u001b[0m\u001b[0;34m.\u001b[0m\u001b[0m_info_axis\u001b[0m\u001b[0;34m.\u001b[0m\u001b[0m_can_hold_identifiers_and_holds_name\u001b[0m\u001b[0;34m(\u001b[0m\u001b[0mname\u001b[0m\u001b[0;34m)\u001b[0m\u001b[0;34m:\u001b[0m\u001b[0;34m\u001b[0m\u001b[0;34m\u001b[0m\u001b[0m\n\u001b[1;32m   5066\u001b[0m                 \u001b[0;32mreturn\u001b[0m \u001b[0mself\u001b[0m\u001b[0;34m[\u001b[0m\u001b[0mname\u001b[0m\u001b[0;34m]\u001b[0m\u001b[0;34m\u001b[0m\u001b[0;34m\u001b[0m\u001b[0m\n\u001b[0;32m-> 5067\u001b[0;31m             \u001b[0;32mreturn\u001b[0m \u001b[0mobject\u001b[0m\u001b[0;34m.\u001b[0m\u001b[0m__getattribute__\u001b[0m\u001b[0;34m(\u001b[0m\u001b[0mself\u001b[0m\u001b[0;34m,\u001b[0m \u001b[0mname\u001b[0m\u001b[0;34m)\u001b[0m\u001b[0;34m\u001b[0m\u001b[0;34m\u001b[0m\u001b[0m\n\u001b[0m\u001b[1;32m   5068\u001b[0m \u001b[0;34m\u001b[0m\u001b[0m\n\u001b[1;32m   5069\u001b[0m     \u001b[0;32mdef\u001b[0m \u001b[0m__setattr__\u001b[0m\u001b[0;34m(\u001b[0m\u001b[0mself\u001b[0m\u001b[0;34m,\u001b[0m \u001b[0mname\u001b[0m\u001b[0;34m,\u001b[0m \u001b[0mvalue\u001b[0m\u001b[0;34m)\u001b[0m\u001b[0;34m:\u001b[0m\u001b[0;34m\u001b[0m\u001b[0;34m\u001b[0m\u001b[0m\n",
        "\u001b[0;31mAttributeError\u001b[0m: 'DataFrame' object has no attribute 'drop_duplicated'"
       ]
      }
     ],
     "persistentId": "252c3a44-2f31-4fd9-9dd7-d9ad61cce053",
     "text": "import pandas as pd\n\ndf_r2 = pd.read_csv(\"B001498_B109060_A8_S8_R2_coding_ground_truth.csv\")\ndf_r2 = df_r2.drop_duplicated(subset='sequence_id')\nprint(df_r2.shape)\ndf_r2.head()"
    },
    "executionTime": "2019-10-19T23:47:25.198Z"
   },
   {
    "cell": {
     "executionCount": 16,
     "executionEventId": "f4702f6b-10c8-4d2d-9098-33e0a95a2fa3",
     "hasError": false,
     "id": "001d0244-bb25-4e9a-8fde-3ff3fb592006",
     "outputs": [
      {
       "name": "stdout",
       "output_type": "stream",
       "text": "(18, 7)\n"
      },
      {
       "data": {
        "text/html": "<div>\n<style scoped>\n    .dataframe tbody tr th:only-of-type {\n        vertical-align: middle;\n    }\n\n    .dataframe tbody tr th {\n        vertical-align: top;\n    }\n\n    .dataframe thead th {\n        text-align: right;\n    }\n</style>\n<table border=\"1\" class=\"dataframe\">\n  <thead>\n    <tr style=\"text-align: right;\">\n      <th></th>\n      <th>sequence_id</th>\n      <th>sequence</th>\n      <th>Chrom</th>\n      <th>start</th>\n      <th>is_coding</th>\n      <th>Notes</th>\n      <th>Alignment</th>\n    </tr>\n  </thead>\n  <tbody>\n    <tr>\n      <th>0</th>\n      <td>A00111:356:HMHLCDSXX:1:1114:10330:17754</td>\n      <td>TTCTCGGTGTGCCATTGTGTGCCAACGCTTTCAGGCTGGGGGCACT...</td>\n      <td>NaN</td>\n      <td>NaN</td>\n      <td>True</td>\n      <td>NaN</td>\n      <td>NaN</td>\n    </tr>\n    <tr>\n      <th>1</th>\n      <td>A00111:356:HMHLCDSXX:1:1120:3703:32393</td>\n      <td>GTTAAAGCCTCCATGTAGTCATCCTGTGCATCAATGACATATATCA...</td>\n      <td>NC_033661.1</td>\n      <td>36523128.0</td>\n      <td>True</td>\n      <td>In a splice junction</td>\n      <td>NaN</td>\n    </tr>\n    <tr>\n      <th>2</th>\n      <td>A00111:356:HMHLCDSXX:1:1140:10059:21073</td>\n      <td>TCCTTTAAGTAAAGGACAGTTGTATTATTCAGCTTGATAATTGCCA...</td>\n      <td>NC_033661.1</td>\n      <td>36513997.0</td>\n      <td>True</td>\n      <td>Is spliced</td>\n      <td>NaN</td>\n    </tr>\n    <tr>\n      <th>3</th>\n      <td>A00111:356:HMHLCDSXX:1:1157:31910:28134</td>\n      <td>TCCTTTAAGTAAAGGACAGTTGTATTATTCAGCTTGATAATTGCCA...</td>\n      <td>NC_033661.1</td>\n      <td>36513997.0</td>\n      <td>True</td>\n      <td>Is spliced</td>\n      <td>NaN</td>\n    </tr>\n    <tr>\n      <th>4</th>\n      <td>A00111:356:HMHLCDSXX:1:2136:11198:13870</td>\n      <td>ATACAAGACACGTCAATCACAACATCAATCATGTCACAGCAAAGTT...</td>\n      <td>NC_033661.1</td>\n      <td>36518199.0</td>\n      <td>True</td>\n      <td>NaN</td>\n      <td>NaN</td>\n    </tr>\n  </tbody>\n</table>\n</div>",
        "text/plain": "                               sequence_id  \\\n0  A00111:356:HMHLCDSXX:1:1114:10330:17754   \n1   A00111:356:HMHLCDSXX:1:1120:3703:32393   \n2  A00111:356:HMHLCDSXX:1:1140:10059:21073   \n3  A00111:356:HMHLCDSXX:1:1157:31910:28134   \n4  A00111:356:HMHLCDSXX:1:2136:11198:13870   \n\n                                            sequence        Chrom       start  \\\n0  TTCTCGGTGTGCCATTGTGTGCCAACGCTTTCAGGCTGGGGGCACT...          NaN         NaN   \n1  GTTAAAGCCTCCATGTAGTCATCCTGTGCATCAATGACATATATCA...  NC_033661.1  36523128.0   \n2  TCCTTTAAGTAAAGGACAGTTGTATTATTCAGCTTGATAATTGCCA...  NC_033661.1  36513997.0   \n3  TCCTTTAAGTAAAGGACAGTTGTATTATTCAGCTTGATAATTGCCA...  NC_033661.1  36513997.0   \n4  ATACAAGACACGTCAATCACAACATCAATCATGTCACAGCAAAGTT...  NC_033661.1  36518199.0   \n\n   is_coding                 Notes  Alignment  \n0       True                   NaN        NaN  \n1       True  In a splice junction        NaN  \n2       True            Is spliced        NaN  \n3       True            Is spliced        NaN  \n4       True                   NaN        NaN  "
       },
       "execution_count": 16,
       "metadata": {},
       "output_type": "execute_result"
      }
     ],
     "persistentId": "252c3a44-2f31-4fd9-9dd7-d9ad61cce053",
     "text": "import pandas as pd\n\ndf_r2 = pd.read_csv(\"B001498_B109060_A8_S8_R2_coding_ground_truth.csv\")\ndf_r2 = df_r2.drop_duplicates(subset='sequence_id')\nprint(df_r2.shape)\ndf_r2.head()"
    },
    "executionTime": "2019-10-19T23:47:31.377Z"
   },
   {
    "cell": {
     "executionCount": 17,
     "executionEventId": "2c006599-5356-4d17-b234-b1445e77c308",
     "hasError": false,
     "id": "42d97475-afb9-4491-b4af-d7e504701813",
     "outputs": [
      {
       "name": "stdout",
       "output_type": "stream",
       "text": "(17, 7)\n"
      },
      {
       "data": {
        "text/html": "<div>\n<style scoped>\n    .dataframe tbody tr th:only-of-type {\n        vertical-align: middle;\n    }\n\n    .dataframe tbody tr th {\n        vertical-align: top;\n    }\n\n    .dataframe thead th {\n        text-align: right;\n    }\n</style>\n<table border=\"1\" class=\"dataframe\">\n  <thead>\n    <tr style=\"text-align: right;\">\n      <th></th>\n      <th>sequence_id</th>\n      <th>sequence</th>\n      <th>chrom</th>\n      <th>start</th>\n      <th>is_coding</th>\n      <th>Notes</th>\n      <th>Alignment</th>\n    </tr>\n  </thead>\n  <tbody>\n    <tr>\n      <th>0</th>\n      <td>A00111:356:HMHLCDSXX:1:1114:10330:17754</td>\n      <td>GATATAAAGATATTTAATAGGTTTTCCAAGGTTGGCAGTTGTGGGA...</td>\n      <td>NC_033661.1</td>\n      <td>36519392</td>\n      <td>True</td>\n      <td>NaN</td>\n      <td>NaN</td>\n    </tr>\n    <tr>\n      <th>1</th>\n      <td>A00111:356:HMHLCDSXX:1:1120:3703:32393</td>\n      <td>TGGAGCTGTCAGCGCCCCCCGGGCCACAGCCTCGTACTGCAGGGAC...</td>\n      <td>NC_033661.1</td>\n      <td>36526348</td>\n      <td>False</td>\n      <td>Overlaps start codon</td>\n      <td>NaN</td>\n    </tr>\n    <tr>\n      <th>2</th>\n      <td>A00111:356:HMHLCDSXX:1:1140:10059:21073</td>\n      <td>CTCATCTCTAGTGGGACAGGCACCAGAGTCCCACAAGCAGCAGTTC...</td>\n      <td>NC_033661.1</td>\n      <td>36508568</td>\n      <td>False</td>\n      <td>NaN</td>\n      <td>NaN</td>\n    </tr>\n    <tr>\n      <th>3</th>\n      <td>A00111:356:HMHLCDSXX:1:1157:31910:28134</td>\n      <td>CGGCATCCGACCCTGGAGTGAAGAGTAAGCTGGCACGGAGTCCCGA...</td>\n      <td>NC_033661.1</td>\n      <td>36508631</td>\n      <td>False</td>\n      <td>overlaps stop codon</td>\n      <td>NaN</td>\n    </tr>\n    <tr>\n      <th>4</th>\n      <td>A00111:356:HMHLCDSXX:1:2136:11198:13870</td>\n      <td>GTCTTTATAAATCTTGTTGGTACTTTCCAAAAAGAGGGTCTCATTG...</td>\n      <td>NC_033661.1</td>\n      <td>36524286</td>\n      <td>True</td>\n      <td>Spliced</td>\n      <td>NaN</td>\n    </tr>\n  </tbody>\n</table>\n</div>",
        "text/plain": "                               sequence_id  \\\n0  A00111:356:HMHLCDSXX:1:1114:10330:17754   \n1   A00111:356:HMHLCDSXX:1:1120:3703:32393   \n2  A00111:356:HMHLCDSXX:1:1140:10059:21073   \n3  A00111:356:HMHLCDSXX:1:1157:31910:28134   \n4  A00111:356:HMHLCDSXX:1:2136:11198:13870   \n\n                                            sequence        chrom     start  \\\n0  GATATAAAGATATTTAATAGGTTTTCCAAGGTTGGCAGTTGTGGGA...  NC_033661.1  36519392   \n1  TGGAGCTGTCAGCGCCCCCCGGGCCACAGCCTCGTACTGCAGGGAC...  NC_033661.1  36526348   \n2  CTCATCTCTAGTGGGACAGGCACCAGAGTCCCACAAGCAGCAGTTC...  NC_033661.1  36508568   \n3  CGGCATCCGACCCTGGAGTGAAGAGTAAGCTGGCACGGAGTCCCGA...  NC_033661.1  36508631   \n4  GTCTTTATAAATCTTGTTGGTACTTTCCAAAAAGAGGGTCTCATTG...  NC_033661.1  36524286   \n\n   is_coding                 Notes  Alignment  \n0       True                   NaN        NaN  \n1      False  Overlaps start codon        NaN  \n2      False                   NaN        NaN  \n3      False   overlaps stop codon        NaN  \n4       True               Spliced        NaN  "
       },
       "execution_count": 17,
       "metadata": {},
       "output_type": "execute_result"
      }
     ],
     "persistentId": "52828309-24eb-4fa3-b2b0-e9bcc7e19539",
     "text": "df_r1 = pd.read_csv(\"B001498_B109060_A8_S8_R1_coding_ground_truth.csv\")\ndf_r1 = df_r1.drop_duplicates(subset='sequence_id')\nprint(df_r1.shape)\ndf_r1.head()"
    },
    "executionTime": "2019-10-19T23:47:53.174Z"
   },
   {
    "cell": {
     "executionCount": 18,
     "executionEventId": "975aca8c-92c9-46c6-81f0-afdbc25896e8",
     "hasError": false,
     "id": "d4f10596-6f3c-462a-bdfe-e6f6e3341ebd",
     "outputs": [
      {
       "name": "stdout",
       "output_type": "stream",
       "text": "Usage: khtools partition [OPTIONS] PEPTIDES [READS]...\nTry \"khtools partition -h\" for help.\n\nError: Missing argument \"PEPTIDES\".\n"
      }
     ],
     "persistentId": "a0f1a12c-6ae8-49d2-96ba-31993118ca1b",
     "text": "! /home/olga/miniconda3/envs/kmer-hashing/bin/khtools partition"
    },
    "executionTime": "2019-10-19T23:48:10.632Z"
   },
   {
    "cell": {
     "executionCount": 19,
     "executionEventId": "fdf27860-f47a-488a-a2c9-fde9f0b7858a",
     "hasError": false,
     "id": "82877b12-d36b-4d8b-9d7a-ceb85ccace9f",
     "outputs": [],
     "persistentId": "3aac9425-5a6e-43d3-8eef-3e1bea23779c",
     "text": "ksizes = range(4, 16)\nmolecules = 'protein', 'dayhoff'"
    },
    "executionTime": "2019-10-19T23:51:19.017Z"
   },
   {
    "cell": {
     "executionCount": 23,
     "executionEventId": "f8ecec08-57b1-4d84-9fb0-86d375aaf6db",
     "hasError": false,
     "id": "aedeaeb7-652d-4ce5-904f-76b2f7847cac",
     "outputs": [],
     "persistentId": "69c8e05d-50d6-4acc-858d-6273693952b5",
     "text": "reads = 'B001498_B109060_A8_S8_R1_001_ground_truth.fastp_trimmed.fastq B001498_B109060_A8_S8_R2_001_ground_truth.fastp_trimmed.fastq'\npeptides = 'Homo_sapiens.GRCh38.pep.all.fa.gz'\npartition = '/home/olga/miniconda3/envs/kmer-hashing/bin/khtools partition'"
    },
    "executionTime": "2019-10-19T23:52:22.370Z"
   },
   {
    "cell": {
     "executionCount": 25,
     "executionEventId": "cdd277fe-9f1c-467a-88eb-3527af115984",
     "hasError": true,
     "id": "aedeaeb7-652d-4ce5-904f-76b2f7847cac",
     "outputs": [
      {
       "ename": "SyntaxError",
       "evalue": "EOL while scanning string literal (<ipython-input-25-344af13e626f>, line 2)",
       "output_type": "error",
       "traceback": [
        "\u001b[0;36m  File \u001b[0;32m\"<ipython-input-25-344af13e626f>\"\u001b[0;36m, line \u001b[0;32m2\u001b[0m\n\u001b[0;31m    peptides = f\"{folder}/Homo_sapiens.GRCh38.pep.all.fa.gz'\u001b[0m\n\u001b[0m                                                            ^\u001b[0m\n\u001b[0;31mSyntaxError\u001b[0m\u001b[0;31m:\u001b[0m EOL while scanning string literal\n"
       ]
      }
     ],
     "persistentId": "69c8e05d-50d6-4acc-858d-6273693952b5",
     "text": "reads = 'B001498_B109060_A8_S8_R1_001_ground_truth.fastp_trimmed.fastq B001498_B109060_A8_S8_R2_001_ground_truth.fastp_trimmed.fastq'\npeptides = f\"{folder}/Homo_sapiens.GRCh38.pep.all.fa.gz'\npartition = '/home/olga/miniconda3/envs/kmer-hashing/bin/khtools partition'"
    },
    "executionTime": "2019-10-19T23:52:45.470Z"
   },
   {
    "cell": {
     "executionCount": 29,
     "executionEventId": "60107a02-47b3-4a1c-a90a-8cb4e6f9edc1",
     "hasError": false,
     "id": "d4f10596-6f3c-462a-bdfe-e6f6e3341ebd",
     "outputs": [
      {
       "name": "stdout",
       "output_type": "stream",
       "text": "Usage: khtools partition [OPTIONS] PEPTIDES [READS]...\n\n  Parameters\n  ----------\n  reads : str\n      Sequence file of reads to filter\n  peptides : str\n      Sequence file of peptides\n  peptide_ksize : int\n      Number of characters in amino acid words\n  long_reads\n  verbose\n\n  Returns\n  -------\n\nOptions:\n  --peptide-ksize INTEGER      K-mer size of the peptide sequence to use.\n                               Default: 7\n  --save-peptide-bloom-filter  If specified, save the peptide bloom filter.\n                               Default filename is the name of the\n  --peptides-are-bloom-filter  Peptide file is already a bloom filter\n  --jaccard-threshold FLOAT    Minimum fraction of peptide k-mers from read in\n                               the peptide database for this read to be called\n                               a 'coding read'. Default: 0.9\n  --molecule TEXT              The type of amino acid encoding to use. Default\n                               is 'protein', but 'dayhoff' or 'hydrophobic-\n                               polar' can be used\n  --csv                        Name of csv file to write with all sequence\n                               reads and their coding scores\n  --long-reads                 If set, then only considers reading frames\n                               starting with start codon (ATG) and ending in a\n                               stop codon (TAG, TAA, TGA)\n  --verbose                    Print more output\n  --debug                      Print developer debugger output, including\n                               warnings\n  -h, --help                   Show this message and exit.\n"
      }
     ],
     "persistentId": "a0f1a12c-6ae8-49d2-96ba-31993118ca1b",
     "text": "! /home/olga/miniconda3/envs/kmer-hashing/bin/khtools partition --help"
    },
    "executionTime": "2019-10-19T23:54:07.347Z"
   },
   {
    "cell": {
     "executionCount": 34,
     "executionEventId": "bace53c3-5ae1-40ff-98b5-51322e8af9d5",
     "hasError": false,
     "id": "8dc68d3c-2243-4090-9e8c-cd6b3e05d52d",
     "outputs": [
      {
       "name": "stderr",
       "output_type": "stream",
       "text": "bash: line 2: partition: command not found\n"
      }
     ],
     "persistentId": "1d4967e0-3854-4064-9597-96adb77f8493",
     "text": "%%bash\n\n partition"
    },
    "executionTime": "2019-10-20T01:01:17.366Z"
   },
   {
    "cell": {
     "executionCount": 35,
     "executionEventId": "877c7c4a-3be1-4437-ae1e-110eb81930f3",
     "hasError": false,
     "id": "001d0244-bb25-4e9a-8fde-3ff3fb592006",
     "outputs": [
      {
       "name": "stdout",
       "output_type": "stream",
       "text": "(17, 7)\n"
      },
      {
       "data": {
        "text/html": "<div>\n<style scoped>\n    .dataframe tbody tr th:only-of-type {\n        vertical-align: middle;\n    }\n\n    .dataframe tbody tr th {\n        vertical-align: top;\n    }\n\n    .dataframe thead th {\n        text-align: right;\n    }\n</style>\n<table border=\"1\" class=\"dataframe\">\n  <thead>\n    <tr style=\"text-align: right;\">\n      <th></th>\n      <th>sequence_id</th>\n      <th>sequence</th>\n      <th>Chrom</th>\n      <th>start</th>\n      <th>is_coding</th>\n      <th>Notes</th>\n      <th>Alignment</th>\n    </tr>\n  </thead>\n  <tbody>\n    <tr>\n      <th>0</th>\n      <td>A00111:356:HMHLCDSXX:1:1114:10330:17754</td>\n      <td>TTCTCGGTGTGCCATTGTGTGCCAACGCTTTCAGGCTGGGGGCACT...</td>\n      <td>NaN</td>\n      <td>NaN</td>\n      <td>True</td>\n      <td>NaN</td>\n      <td>NaN</td>\n    </tr>\n    <tr>\n      <th>1</th>\n      <td>A00111:356:HMHLCDSXX:1:1120:3703:32393</td>\n      <td>GTTAAAGCCTCCATGTAGTCATCCTGTGCATCAATGACATATATCA...</td>\n      <td>NC_033661.1</td>\n      <td>36523128.0</td>\n      <td>True</td>\n      <td>In a splice junction</td>\n      <td>NaN</td>\n    </tr>\n    <tr>\n      <th>2</th>\n      <td>A00111:356:HMHLCDSXX:1:1140:10059:21073</td>\n      <td>TCCTTTAAGTAAAGGACAGTTGTATTATTCAGCTTGATAATTGCCA...</td>\n      <td>NC_033661.1</td>\n      <td>36513997.0</td>\n      <td>True</td>\n      <td>Is spliced</td>\n      <td>NaN</td>\n    </tr>\n    <tr>\n      <th>3</th>\n      <td>A00111:356:HMHLCDSXX:1:1157:31910:28134</td>\n      <td>TCCTTTAAGTAAAGGACAGTTGTATTATTCAGCTTGATAATTGCCA...</td>\n      <td>NC_033661.1</td>\n      <td>36513997.0</td>\n      <td>True</td>\n      <td>Is spliced</td>\n      <td>NaN</td>\n    </tr>\n    <tr>\n      <th>4</th>\n      <td>A00111:356:HMHLCDSXX:1:2136:11198:13870</td>\n      <td>ATACAAGACACGTCAATCACAACATCAATCATGTCACAGCAAAGTT...</td>\n      <td>NC_033661.1</td>\n      <td>36518199.0</td>\n      <td>True</td>\n      <td>NaN</td>\n      <td>NaN</td>\n    </tr>\n  </tbody>\n</table>\n</div>",
        "text/plain": "                               sequence_id  \\\n0  A00111:356:HMHLCDSXX:1:1114:10330:17754   \n1   A00111:356:HMHLCDSXX:1:1120:3703:32393   \n2  A00111:356:HMHLCDSXX:1:1140:10059:21073   \n3  A00111:356:HMHLCDSXX:1:1157:31910:28134   \n4  A00111:356:HMHLCDSXX:1:2136:11198:13870   \n\n                                            sequence        Chrom       start  \\\n0  TTCTCGGTGTGCCATTGTGTGCCAACGCTTTCAGGCTGGGGGCACT...          NaN         NaN   \n1  GTTAAAGCCTCCATGTAGTCATCCTGTGCATCAATGACATATATCA...  NC_033661.1  36523128.0   \n2  TCCTTTAAGTAAAGGACAGTTGTATTATTCAGCTTGATAATTGCCA...  NC_033661.1  36513997.0   \n3  TCCTTTAAGTAAAGGACAGTTGTATTATTCAGCTTGATAATTGCCA...  NC_033661.1  36513997.0   \n4  ATACAAGACACGTCAATCACAACATCAATCATGTCACAGCAAAGTT...  NC_033661.1  36518199.0   \n\n   is_coding                 Notes  Alignment  \n0       True                   NaN        NaN  \n1       True  In a splice junction        NaN  \n2       True            Is spliced        NaN  \n3       True            Is spliced        NaN  \n4       True                   NaN        NaN  "
       },
       "execution_count": 35,
       "metadata": {},
       "output_type": "execute_result"
      }
     ],
     "persistentId": "252c3a44-2f31-4fd9-9dd7-d9ad61cce053",
     "text": "import pandas as pd\n\ndf_r2 = pd.read_csv(\"B001498_B109060_A8_S8_R2_coding_ground_truth.csv\")\ndf_r2 = df_r2.drop_duplicates(subset='sequence_id')\nprint(df_r2.shape)\ndf_r2.head()"
    },
    "executionTime": "2019-10-20T01:01:17.374Z"
   },
   {
    "cell": {
     "executionCount": 36,
     "executionEventId": "30efdf8b-6305-4551-9576-85f82309ab7c",
     "hasError": false,
     "id": "42d97475-afb9-4491-b4af-d7e504701813",
     "outputs": [
      {
       "name": "stdout",
       "output_type": "stream",
       "text": "(17, 7)\n"
      },
      {
       "data": {
        "text/html": "<div>\n<style scoped>\n    .dataframe tbody tr th:only-of-type {\n        vertical-align: middle;\n    }\n\n    .dataframe tbody tr th {\n        vertical-align: top;\n    }\n\n    .dataframe thead th {\n        text-align: right;\n    }\n</style>\n<table border=\"1\" class=\"dataframe\">\n  <thead>\n    <tr style=\"text-align: right;\">\n      <th></th>\n      <th>sequence_id</th>\n      <th>sequence</th>\n      <th>chrom</th>\n      <th>start</th>\n      <th>is_coding</th>\n      <th>Notes</th>\n      <th>Alignment</th>\n    </tr>\n  </thead>\n  <tbody>\n    <tr>\n      <th>0</th>\n      <td>A00111:356:HMHLCDSXX:1:1114:10330:17754</td>\n      <td>GATATAAAGATATTTAATAGGTTTTCCAAGGTTGGCAGTTGTGGGA...</td>\n      <td>NC_033661.1</td>\n      <td>36519392</td>\n      <td>True</td>\n      <td>NaN</td>\n      <td>NaN</td>\n    </tr>\n    <tr>\n      <th>1</th>\n      <td>A00111:356:HMHLCDSXX:1:1120:3703:32393</td>\n      <td>TGGAGCTGTCAGCGCCCCCCGGGCCACAGCCTCGTACTGCAGGGAC...</td>\n      <td>NC_033661.1</td>\n      <td>36526348</td>\n      <td>False</td>\n      <td>Overlaps start codon</td>\n      <td>NaN</td>\n    </tr>\n    <tr>\n      <th>2</th>\n      <td>A00111:356:HMHLCDSXX:1:1140:10059:21073</td>\n      <td>CTCATCTCTAGTGGGACAGGCACCAGAGTCCCACAAGCAGCAGTTC...</td>\n      <td>NC_033661.1</td>\n      <td>36508568</td>\n      <td>False</td>\n      <td>NaN</td>\n      <td>NaN</td>\n    </tr>\n    <tr>\n      <th>3</th>\n      <td>A00111:356:HMHLCDSXX:1:1157:31910:28134</td>\n      <td>CGGCATCCGACCCTGGAGTGAAGAGTAAGCTGGCACGGAGTCCCGA...</td>\n      <td>NC_033661.1</td>\n      <td>36508631</td>\n      <td>False</td>\n      <td>overlaps stop codon</td>\n      <td>NaN</td>\n    </tr>\n    <tr>\n      <th>4</th>\n      <td>A00111:356:HMHLCDSXX:1:2136:11198:13870</td>\n      <td>GTCTTTATAAATCTTGTTGGTACTTTCCAAAAAGAGGGTCTCATTG...</td>\n      <td>NC_033661.1</td>\n      <td>36524286</td>\n      <td>True</td>\n      <td>Spliced</td>\n      <td>NaN</td>\n    </tr>\n  </tbody>\n</table>\n</div>",
        "text/plain": "                               sequence_id  \\\n0  A00111:356:HMHLCDSXX:1:1114:10330:17754   \n1   A00111:356:HMHLCDSXX:1:1120:3703:32393   \n2  A00111:356:HMHLCDSXX:1:1140:10059:21073   \n3  A00111:356:HMHLCDSXX:1:1157:31910:28134   \n4  A00111:356:HMHLCDSXX:1:2136:11198:13870   \n\n                                            sequence        chrom     start  \\\n0  GATATAAAGATATTTAATAGGTTTTCCAAGGTTGGCAGTTGTGGGA...  NC_033661.1  36519392   \n1  TGGAGCTGTCAGCGCCCCCCGGGCCACAGCCTCGTACTGCAGGGAC...  NC_033661.1  36526348   \n2  CTCATCTCTAGTGGGACAGGCACCAGAGTCCCACAAGCAGCAGTTC...  NC_033661.1  36508568   \n3  CGGCATCCGACCCTGGAGTGAAGAGTAAGCTGGCACGGAGTCCCGA...  NC_033661.1  36508631   \n4  GTCTTTATAAATCTTGTTGGTACTTTCCAAAAAGAGGGTCTCATTG...  NC_033661.1  36524286   \n\n   is_coding                 Notes  Alignment  \n0       True                   NaN        NaN  \n1      False  Overlaps start codon        NaN  \n2      False                   NaN        NaN  \n3      False   overlaps stop codon        NaN  \n4       True               Spliced        NaN  "
       },
       "execution_count": 36,
       "metadata": {},
       "output_type": "execute_result"
      }
     ],
     "persistentId": "52828309-24eb-4fa3-b2b0-e9bcc7e19539",
     "text": "df_r1 = pd.read_csv(\"B001498_B109060_A8_S8_R1_coding_ground_truth.csv\")\ndf_r1 = df_r1.drop_duplicates(subset='sequence_id')\nprint(df_r1.shape)\ndf_r1.head()"
    },
    "executionTime": "2019-10-20T01:01:17.403Z"
   }
  ],
  "kernelspec": {
   "display_name": "Python [conda env:kmer-hashing]",
   "language": "python",
   "name": "conda-env-kmer-hashing-py"
  },
  "language_info": {
   "codemirror_mode": {
    "name": "ipython",
    "version": 3
   },
   "file_extension": ".py",
   "mimetype": "text/x-python",
   "name": "python",
   "nbconvert_exporter": "python",
   "pygments_lexer": "ipython3",
   "version": "3.6.8"
  },
  "uuid": "0366c2bf-9fc8-4b6f-b23a-ee7b0a28a859"
 },
 "nbformat": 4,
 "nbformat_minor": 4
}
