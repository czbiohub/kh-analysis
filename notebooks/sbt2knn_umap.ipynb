{
 "cells": [
  {
   "cell_type": "code",
   "execution_count": 1,
   "metadata": {},
   "outputs": [
    {
     "name": "stdout",
     "output_type": "stream",
     "text": [
      "/mnt/pureScratch/olga/olgabot-maca/facs\n"
     ]
    }
   ],
   "source": [
    "cd /home/olga/pureScratch/olgabot-maca/facs/"
   ]
  },
  {
   "cell_type": "code",
   "execution_count": 2,
   "metadata": {},
   "outputs": [
    {
     "name": "stdout",
     "output_type": "stream",
     "text": [
      "total 122G\n",
      "drwxrwxr-x 1 olga olga    0 Aug 12 06:29 \u001b[0m\u001b[01;34m.\u001b[0m/\n",
      "drwxrwxr-x 1 olga olga    0 Aug  1 01:58 \u001b[01;34m..\u001b[0m/\n",
      "drwxrwxr-x 1 olga olga    0 Aug 12 06:29 \u001b[01;34m.sbt.tabula-muris-k21\u001b[0m/\n",
      "drwxrwxr-x 1 olga olga    0 Aug  1 16:45 \u001b[01;34msourmash\u001b[0m/\n",
      "-rw-rw-r-- 1 olga olga  47G Aug  6 19:18 sourmash_compare_k21.csv\n",
      "-rw-rw-r-- 1 olga olga  14G Aug  7 11:51 sourmash_compare_k21_ignore_abundance.csv\n",
      "-rw-rw-r-- 1 olga olga  48G Aug  6 19:21 sourmash_compare_k31.csv\n",
      "-rw-rw-r-- 1 olga olga 2.5K Aug  9 14:30 sourmash_compare_k31.hdf5\n",
      "-rw-rw-r-- 1 olga olga  14G Aug  7 11:51 sourmash_compare_k31_ignore_abundance.csv\n",
      "-rw-rw-r-- 1 olga olga  13M Aug 12 06:50 tabula-muris-k21.sbt.json\n"
     ]
    }
   ],
   "source": [
    "ls -lha"
   ]
  },
  {
   "cell_type": "code",
   "execution_count": 3,
   "metadata": {},
   "outputs": [],
   "source": [
    "# !ls -lha .sbt.tabula-muris-k21/ | head"
   ]
  },
  {
   "cell_type": "code",
   "execution_count": 74,
   "metadata": {},
   "outputs": [
    {
     "name": "stdout",
     "output_type": "stream",
     "text": [
      "The autoreload extension is already loaded. To reload it, use:\n",
      "  %reload_ext autoreload\n"
     ]
    }
   ],
   "source": [
    "import glob\n",
    "import itertools\n",
    "from itertools import groupby\n",
    "import math\n",
    "\n",
    "import numpy as np\n",
    "import scipy.sparse\n",
    "from umap.umap_ import smooth_knn_dist, compute_membership_strengths\n",
    "\n",
    "from umap.spectral import spectral_layout\n",
    "\n",
    "%load_ext autoreload\n",
    "%autoreload 2\n",
    "\n",
    "import sourmash\n",
    "\n",
    "from sourmash import signature as sig\n",
    "from sourmash.sbt import Leaf\n",
    "from sourmash.sbtmh import SigLeaf, create_sbt_index, load_sbt_index\n",
    "from sourmash import sourmash_args\n",
    "from sourmash.logging import notify\n",
    "from sourmash import knn\n",
    "from sourmash import umap"
   ]
  },
  {
   "cell_type": "markdown",
   "metadata": {},
   "source": [
    "### Settings for this session"
   ]
  },
  {
   "cell_type": "code",
   "execution_count": 5,
   "metadata": {},
   "outputs": [],
   "source": [
    "\n",
    "# --- Which signatures to use? --- #\n",
    "ksize = 21\n",
    "moltype = 'DNA'\n",
    "\n",
    "# --- How to build sequence bloom tree? --- #\n",
    "bf_size = 1e5\n",
    "n_children = 2\n",
    "scaled = False\n",
    "\n",
    "# --- How to build K-nearest neighbor graph on similarities? --- #\n",
    "n_neighbors = 5\n",
    "ignore_abundance = True\n",
    "downsample = False\n",
    "\n",
    "# --- UMAP settings ---\n",
    "n_epochs = 0"
   ]
  },
  {
   "cell_type": "code",
   "execution_count": 96,
   "metadata": {},
   "outputs": [
    {
     "name": "stdout",
     "output_type": "stream",
     "text": [
      "CPU times: user 760 ms, sys: 116 ms, total: 876 ms\n",
      "Wall time: 876 ms\n"
     ]
    },
    {
     "data": {
      "text/plain": [
       "<sourmash.sbt.SBT at 0x7f7119d33b38>"
      ]
     },
     "execution_count": 96,
     "metadata": {},
     "output_type": "execute_result"
    }
   ],
   "source": [
    "%time tree = load_sbt_index(\"tabula-muris-k21.sbt.json\")\n",
    "tree"
   ]
  },
  {
   "cell_type": "code",
   "execution_count": null,
   "metadata": {},
   "outputs": [],
   "source": [
    "len(tree.nodes)"
   ]
  },
  {
   "cell_type": "code",
   "execution_count": 97,
   "metadata": {},
   "outputs": [
    {
     "data": {
      "text/plain": [
       "{sourmash.sbt.Node, sourmash.sbtmh.SigLeaf}"
      ]
     },
     "execution_count": 97,
     "metadata": {},
     "output_type": "execute_result"
    }
   ],
   "source": [
    "set(type(node) for node in tree.nodes.values())"
   ]
  },
  {
   "cell_type": "code",
   "execution_count": 99,
   "metadata": {},
   "outputs": [
    {
     "data": {
      "text/plain": [
       "50312"
      ]
     },
     "execution_count": 99,
     "metadata": {},
     "output_type": "execute_result"
    }
   ],
   "source": [
    "sum(1 for _ in knn.get_leaves(tree))"
   ]
  },
  {
   "cell_type": "code",
   "execution_count": 108,
   "metadata": {},
   "outputs": [
    {
     "data": {
      "text/plain": [
       "50312"
      ]
     },
     "execution_count": 108,
     "metadata": {},
     "output_type": "execute_result"
    }
   ],
   "source": [
    "sum(1 for node in tree.nodes.values() if isinstance(node, (Leaf, SigLeaf)))"
   ]
  },
  {
   "cell_type": "code",
   "execution_count": 104,
   "metadata": {},
   "outputs": [],
   "source": [
    "# sum(1 for node in tree.nodes.values() if hasattr(node, 'data.minhash'))"
   ]
  },
  {
   "cell_type": "code",
   "execution_count": 106,
   "metadata": {},
   "outputs": [
    {
     "name": "stdout",
     "output_type": "stream",
     "text": [
      "0\n",
      "CPU times: user 45.5 s, sys: 36 ms, total: 45.6 s\n",
      "Wall time: 45.7 s\n"
     ]
    }
   ],
   "source": [
    "%%time\n",
    "adjacencies = tree.nearest_neighbor_adjacencies(n_neighbors=n_neighbors, \n",
    "                                                ignore_abundance=ignore_abundance, \n",
    "                                                downsample=downsample)\n",
    "print(len(adjacencies))"
   ]
  },
  {
   "cell_type": "code",
   "execution_count": 107,
   "metadata": {},
   "outputs": [
    {
     "data": {
      "text/plain": [
       "0"
      ]
     },
     "execution_count": 107,
     "metadata": {},
     "output_type": "execute_result"
    }
   ],
   "source": [
    "len(adjacencies)"
   ]
  },
  {
   "cell_type": "code",
   "execution_count": 109,
   "metadata": {},
   "outputs": [
    {
     "data": {
      "text/plain": [
       "50312"
      ]
     },
     "execution_count": 109,
     "metadata": {},
     "output_type": "execute_result"
    }
   ],
   "source": [
    "sum(1 for node in tree.nodes.values() if isinstance(node, (Leaf, SigLeaf)))"
   ]
  },
  {
   "cell_type": "code",
   "execution_count": 95,
   "metadata": {},
   "outputs": [
    {
     "ename": "KeyboardInterrupt",
     "evalue": "",
     "output_type": "error",
     "traceback": [
      "\u001b[0;31m---------------------------------------------------------------------------\u001b[0m",
      "\u001b[0;31mKeyboardInterrupt\u001b[0m                         Traceback (most recent call last)",
      "\u001b[0;32m<timed exec>\u001b[0m in \u001b[0;36m<module>\u001b[0;34m\u001b[0m\n",
      "\u001b[0;32m~/code/sourmash/sourmash/knn.py\u001b[0m in \u001b[0;36mnearest_neighbors\u001b[0;34m(tree, n_neighbors, ignore_abundance, downsample)\u001b[0m\n\u001b[1;32m     32\u001b[0m             \u001b[0mn\u001b[0m \u001b[0;34m+=\u001b[0m \u001b[0;36m1\u001b[0m\u001b[0;34m\u001b[0m\u001b[0;34m\u001b[0m\u001b[0m\n\u001b[1;32m     33\u001b[0m         \u001b[0;31m#         print(\"upper_internal_node:\", upper_internal_node)\u001b[0m\u001b[0;34m\u001b[0m\u001b[0;34m\u001b[0m\u001b[0;34m\u001b[0m\u001b[0m\n\u001b[0;32m---> 34\u001b[0;31m         \u001b[0mleaves\u001b[0m \u001b[0;34m=\u001b[0m \u001b[0mtree\u001b[0m\u001b[0;34m.\u001b[0m\u001b[0mleaves_under\u001b[0m\u001b[0;34m(\u001b[0m\u001b[0mupper_internal_node\u001b[0m\u001b[0;34m.\u001b[0m\u001b[0mpos\u001b[0m\u001b[0;34m)\u001b[0m\u001b[0;34m\u001b[0m\u001b[0;34m\u001b[0m\u001b[0m\n\u001b[0m\u001b[1;32m     35\u001b[0m \u001b[0;34m\u001b[0m\u001b[0m\n\u001b[1;32m     36\u001b[0m         \u001b[0msimilarities\u001b[0m \u001b[0;34m=\u001b[0m \u001b[0;34m[\u001b[0m\u001b[0;34m]\u001b[0m\u001b[0;34m\u001b[0m\u001b[0;34m\u001b[0m\u001b[0m\n",
      "\u001b[0;32m~/code/sourmash/sourmash/sbt.py\u001b[0m in \u001b[0;36mleaves_under\u001b[0;34m(self, node_position)\u001b[0m\n\u001b[1;32m    736\u001b[0m \u001b[0;34m\u001b[0m\u001b[0m\n\u001b[1;32m    737\u001b[0m         \u001b[0;32mwhile\u001b[0m \u001b[0mqueue\u001b[0m\u001b[0;34m:\u001b[0m\u001b[0;34m\u001b[0m\u001b[0;34m\u001b[0m\u001b[0m\n\u001b[0;32m--> 738\u001b[0;31m             \u001b[0mposition\u001b[0m \u001b[0;34m=\u001b[0m \u001b[0mqueue\u001b[0m\u001b[0;34m.\u001b[0m\u001b[0mpop\u001b[0m\u001b[0;34m(\u001b[0m\u001b[0;36m0\u001b[0m\u001b[0;34m)\u001b[0m\u001b[0;34m\u001b[0m\u001b[0;34m\u001b[0m\u001b[0m\n\u001b[0m\u001b[1;32m    739\u001b[0m             \u001b[0mnode\u001b[0m \u001b[0;34m=\u001b[0m \u001b[0mself\u001b[0m\u001b[0;34m.\u001b[0m\u001b[0mnodes\u001b[0m\u001b[0;34m.\u001b[0m\u001b[0mget\u001b[0m\u001b[0;34m(\u001b[0m\u001b[0mposition\u001b[0m\u001b[0;34m,\u001b[0m \u001b[0;32mNone\u001b[0m\u001b[0;34m)\u001b[0m\u001b[0;34m\u001b[0m\u001b[0;34m\u001b[0m\u001b[0m\n\u001b[1;32m    740\u001b[0m \u001b[0;34m\u001b[0m\u001b[0m\n",
      "\u001b[0;31mKeyboardInterrupt\u001b[0m: "
     ]
    }
   ],
   "source": [
    "# %%time\n",
    "\n",
    "# adjacencies = knn.nearest_neighbors(tree, n_neighbors=n_neighbors,\n",
    "#                                              ignore_abundance=ignore_abundance,\n",
    "#                                              downsample=downsample)\n",
    "# print(len(adjacencies))"
   ]
  },
  {
   "cell_type": "code",
   "execution_count": 89,
   "metadata": {},
   "outputs": [
    {
     "data": {
      "text/plain": [
       "0"
      ]
     },
     "execution_count": 89,
     "metadata": {},
     "output_type": "execute_result"
    }
   ],
   "source": [
    "len(adjacencies)"
   ]
  },
  {
   "cell_type": "code",
   "execution_count": 88,
   "metadata": {},
   "outputs": [
    {
     "data": {
      "text/plain": [
       "[]"
      ]
     },
     "execution_count": 88,
     "metadata": {},
     "output_type": "execute_result"
    }
   ],
   "source": [
    "adjacencies[:10]"
   ]
  },
  {
   "cell_type": "code",
   "execution_count": 12,
   "metadata": {},
   "outputs": [],
   "source": [
    "u_leaves = set(u for (u, v, similarity) in adjacencies)"
   ]
  },
  {
   "cell_type": "code",
   "execution_count": 13,
   "metadata": {},
   "outputs": [
    {
     "data": {
      "text/plain": [
       "True"
      ]
     },
     "execution_count": 13,
     "metadata": {},
     "output_type": "execute_result"
    }
   ],
   "source": [
    "'P9-MAA001884-3_38_F-1-1_S151' in u_leaves"
   ]
  },
  {
   "cell_type": "code",
   "execution_count": 81,
   "metadata": {},
   "outputs": [
    {
     "data": {
      "text/plain": [
       "0"
      ]
     },
     "execution_count": 81,
     "metadata": {},
     "output_type": "execute_result"
    }
   ],
   "source": [
    "leaves = list(knn.get_leaves(tree))\n",
    "len(leaves)"
   ]
  },
  {
   "cell_type": "code",
   "execution_count": 82,
   "metadata": {},
   "outputs": [
    {
     "data": {
      "text/plain": [
       "0"
      ]
     },
     "execution_count": 82,
     "metadata": {},
     "output_type": "execute_result"
    }
   ],
   "source": [
    "sum(1 for _ in knn.get_leaves(tree))"
   ]
  },
  {
   "cell_type": "code",
   "execution_count": 85,
   "metadata": {},
   "outputs": [
    {
     "data": {
      "text/plain": [
       "100623"
      ]
     },
     "execution_count": 85,
     "metadata": {},
     "output_type": "execute_result"
    }
   ],
   "source": [
    "len(tree.nodes)"
   ]
  },
  {
   "cell_type": "code",
   "execution_count": 93,
   "metadata": {},
   "outputs": [
    {
     "data": {
      "text/plain": [
       "<sourmash.sbt.Node at 0x7f7139cfd828>"
      ]
     },
     "execution_count": 93,
     "metadata": {},
     "output_type": "execute_result"
    }
   ],
   "source": [
    "tree.nodes[10]"
   ]
  },
  {
   "cell_type": "code",
   "execution_count": 90,
   "metadata": {},
   "outputs": [
    {
     "data": {
      "text/plain": [
       "{sourmash.sbt.Node, sourmash.sbtmh.SigLeaf}"
      ]
     },
     "execution_count": 90,
     "metadata": {},
     "output_type": "execute_result"
    }
   ],
   "source": [
    "set(type(node) for node in tree.nodes.values())"
   ]
  },
  {
   "cell_type": "code",
   "execution_count": 92,
   "metadata": {},
   "outputs": [
    {
     "data": {
      "text/plain": [
       "0"
      ]
     },
     "execution_count": 92,
     "metadata": {},
     "output_type": "execute_result"
    }
   ],
   "source": [
    "sum(1 for node in tree.nodes.values() if hasattr(node, 'minhash'))"
   ]
  },
  {
   "cell_type": "code",
   "execution_count": 33,
   "metadata": {},
   "outputs": [
    {
     "name": "stdout",
     "output_type": "stream",
     "text": [
      "50312\n"
     ]
    },
    {
     "data": {
      "text/plain": [
       "50312"
      ]
     },
     "execution_count": 33,
     "metadata": {},
     "output_type": "execute_result"
    }
   ],
   "source": [
    "leaf_to_position = dict(\n",
    "        (node.data.name(), position) for position, node in tree.nodes.items()\n",
    "        if isinstance(node, Leaf))\n",
    "print(len(leaf_to_position))\n",
    "leaf_to_index = dict((name, i) for i, name in enumerate(leaf_to_position.keys()))\n",
    "len(leaf_to_index)"
   ]
  },
  {
   "cell_type": "code",
   "execution_count": 63,
   "metadata": {},
   "outputs": [
    {
     "ename": "ValueError",
     "evalue": "setting an array element with a sequence.",
     "output_type": "error",
     "traceback": [
      "\u001b[0;31m---------------------------------------------------------------------------\u001b[0m",
      "\u001b[0;31mValueError\u001b[0m                                Traceback (most recent call last)",
      "\u001b[0;32m<ipython-input-63-4248b70dd96e>\u001b[0m in \u001b[0;36m<module>\u001b[0;34m\u001b[0m\n\u001b[1;32m     20\u001b[0m     \u001b[0mknn_indices\u001b[0m\u001b[0;34m.\u001b[0m\u001b[0mappend\u001b[0m\u001b[0;34m(\u001b[0m\u001b[0mknn_indices_line\u001b[0m\u001b[0;34m)\u001b[0m\u001b[0;34m\u001b[0m\u001b[0;34m\u001b[0m\u001b[0m\n\u001b[1;32m     21\u001b[0m     \u001b[0mknn_dists\u001b[0m\u001b[0;34m.\u001b[0m\u001b[0mappend\u001b[0m\u001b[0;34m(\u001b[0m\u001b[0mknn_dists_line\u001b[0m\u001b[0;34m)\u001b[0m\u001b[0;34m\u001b[0m\u001b[0;34m\u001b[0m\u001b[0m\n\u001b[0;32m---> 22\u001b[0;31m \u001b[0mknn_indices\u001b[0m \u001b[0;34m=\u001b[0m \u001b[0mnp\u001b[0m\u001b[0;34m.\u001b[0m\u001b[0marray\u001b[0m\u001b[0;34m(\u001b[0m\u001b[0mknn_indices\u001b[0m\u001b[0;34m,\u001b[0m \u001b[0mdtype\u001b[0m\u001b[0;34m=\u001b[0m\u001b[0;34m'int'\u001b[0m\u001b[0;34m)\u001b[0m\u001b[0;34m\u001b[0m\u001b[0;34m\u001b[0m\u001b[0m\n\u001b[0m\u001b[1;32m     23\u001b[0m \u001b[0mknn_dists\u001b[0m \u001b[0;34m=\u001b[0m \u001b[0mnp\u001b[0m\u001b[0;34m.\u001b[0m\u001b[0marray\u001b[0m\u001b[0;34m(\u001b[0m\u001b[0mknn_dists\u001b[0m\u001b[0;34m)\u001b[0m\u001b[0;34m\u001b[0m\u001b[0;34m\u001b[0m\u001b[0m\n",
      "\u001b[0;31mValueError\u001b[0m: setting an array element with a sequence."
     ]
    }
   ],
   "source": [
    "knn_indices = []\n",
    "knn_dists = []\n",
    "\n",
    "for u, items in groupby(adjacencies, key=lambda x: x[0]):\n",
    "    knn_indices_line = []\n",
    "    knn_dists_line = []\n",
    "    for u, v, similarity in items:\n",
    "        index = leaf_to_index[v]\n",
    "        if not isinstance(index, int):\n",
    "            print(f\"index {index} is not an integer\")\n",
    "        knn_indices_line.append(index)\n",
    "\n",
    "        # Dissimilarity = 1-similarity\n",
    "        dissimilarity = float(1 - similarity)\n",
    "        if not isinstance(dissimilarity, float):\n",
    "            print(f\"dissimilarity {dissimilarity} is not a float\")\n",
    "        knn_dists_line.append(dissimilarity)\n",
    "#     knn_indices_line = np.array(knn_indices_line)\n",
    "#     knn_dists_line = np.array(knn_dists_line)\n",
    "    knn_indices.append(knn_indices_line)\n",
    "    knn_dists.append(knn_dists_line)\n",
    "knn_indices = np.array(knn_indices, dtype='int')\n",
    "knn_dists = np.array(knn_dists)"
   ]
  },
  {
   "cell_type": "code",
   "execution_count": 66,
   "metadata": {},
   "outputs": [
    {
     "data": {
      "text/plain": [
       "[[231],\n",
       " [652, 650, 649, 651],\n",
       " [784, 778, 790, 789],\n",
       " [1224, 1230, 1239],\n",
       " [1238, 1230],\n",
       " [1252, 1250],\n",
       " [1368, 1376, 1378],\n",
       " [1393],\n",
       " [1400, 1404, 1409],\n",
       " [1429],\n",
       " [1529, 1541],\n",
       " [1584, 1586],\n",
       " [1784, 1790, 1798],\n",
       " [2074],\n",
       " [2177],\n",
       " [2215],\n",
       " [2242, 2239, 2235],\n",
       " [2268, 2267, 2275],\n",
       " [2312, 2316, 2326, 2323],\n",
       " [2536, 2540],\n",
       " [2617],\n",
       " [2799],\n",
       " [3572, 3566, 3563],\n",
       " [3776, 3774, 3778, 3781],\n",
       " [4004, 3998],\n",
       " [4264, 4274, 4273],\n",
       " [4365],\n",
       " [4432, 4436],\n",
       " [4432, 4438, 4425],\n",
       " [4860, 4866, 4857, 4869],\n",
       " [5260],\n",
       " [5373],\n",
       " [5572, 5573],\n",
       " [5824],\n",
       " [5966, 5970, 5973, 5975],\n",
       " [6046, 6041],\n",
       " [6058, 6059, 6071, 6065],\n",
       " [6064, 6059],\n",
       " [6139, 6149],\n",
       " [6802, 6795, 6805],\n",
       " [7368, 7371, 7375, 7377],\n",
       " [7584, 7581],\n",
       " [7726, 7730, 7729],\n",
       " [8512, 8514, 8509],\n",
       " [8514, 8505],\n",
       " [9206],\n",
       " [9232, 9236, 9239, 9237],\n",
       " [9381],\n",
       " [9472, 9478, 9474, 9475],\n",
       " [9766, 9758],\n",
       " [9825, 9817],\n",
       " [9872, 9870, 9865],\n",
       " [10300, 10310, 10298],\n",
       " [10466, 10462, 10457],\n",
       " [10712, 10716, 10713],\n",
       " [10874, 10882, 10873, 10879],\n",
       " [10976, 10975, 10969, 10981],\n",
       " [11208, 11219],\n",
       " [11870, 11878, 11865],\n",
       " [12372, 12365, 12369],\n",
       " [12418, 12414, 12411],\n",
       " [12628],\n",
       " [12664, 12671],\n",
       " [12771],\n",
       " [12780, 12789],\n",
       " [12950, 12947],\n",
       " [12972, 12974, 12971, 12977],\n",
       " [13111],\n",
       " [13176, 13180, 13181],\n",
       " [13507, 13501, 13505],\n",
       " [13541],\n",
       " [13624],\n",
       " [13762, 13755],\n",
       " [13972, 13961],\n",
       " [14082, 14078],\n",
       " [14352, 14354, 14355],\n",
       " [14384, 14391],\n",
       " [14498, 14502, 14493],\n",
       " [14724, 14714, 14717],\n",
       " [15192],\n",
       " [15319, 15307, 15317],\n",
       " [15408, 15414, 15410],\n",
       " [15883],\n",
       " [16056, 16057, 16059, 16067],\n",
       " [16314, 16315],\n",
       " [16328, 16338, 16329, 16343],\n",
       " [16462],\n",
       " [16563, 16567],\n",
       " [16658, 16651],\n",
       " [16750, 16759],\n",
       " [16892, 16897],\n",
       " [16888, 16892, 16902],\n",
       " [16984, 16996, 16987, 16997],\n",
       " [17066, 17078, 17069],\n",
       " [17472, 17476, 17468, 17475],\n",
       " [17590, 17586, 17579],\n",
       " [17912, 17918, 17919],\n",
       " [17980, 17990],\n",
       " [18082],\n",
       " [18290, 18291, 18287, 18285],\n",
       " [18572, 18582],\n",
       " [18572, 18574, 18570, 18573],\n",
       " [18588],\n",
       " [18663],\n",
       " [18840, 18854],\n",
       " [19096, 19106, 19109],\n",
       " [19164, 19163, 19169],\n",
       " [19492],\n",
       " [19600, 19602, 19594],\n",
       " [19612, 19614, 19609, 19615],\n",
       " [19668, 19658, 19666, 19671],\n",
       " [19680, 19686, 19682],\n",
       " [19780, 19783, 19769, 19771],\n",
       " [19926],\n",
       " [20336, 20340, 20332, 20337],\n",
       " [20456, 20457, 20459],\n",
       " [20954, 20953],\n",
       " [21065, 21071],\n",
       " [21318, 21314, 21311, 21313],\n",
       " [21508, 21502, 21503, 21509],\n",
       " [21612, 21619, 21623, 21611],\n",
       " [21976, 21984, 21982, 21977],\n",
       " [22125],\n",
       " [22264, 22273, 22271],\n",
       " [22284, 22294, 22289, 22295],\n",
       " [22376, 22386, 22382],\n",
       " [22736, 22729, 22737, 22735],\n",
       " [23014, 23007, 23001, 23009],\n",
       " [23409, 23403, 23405, 23415],\n",
       " [23986],\n",
       " [24219, 24229],\n",
       " [24260, 24252, 24257],\n",
       " [24260, 24254, 24251],\n",
       " [24338, 24343, 24335],\n",
       " [24344, 24355, 24357, 24347],\n",
       " [25032, 25036],\n",
       " [25085],\n",
       " [25316, 25311],\n",
       " [25584, 25580, 25578],\n",
       " [25596, 25604, 25597, 25607],\n",
       " [25629],\n",
       " [25752, 25756, 25753],\n",
       " [25960, 25966, 25974],\n",
       " [26123, 26135],\n",
       " [26212, 26213],\n",
       " [26373],\n",
       " [26657, 26663],\n",
       " [26715, 26723, 26725],\n",
       " [26801],\n",
       " [26891, 26893],\n",
       " [26940, 26938, 26949],\n",
       " [26961],\n",
       " [26972, 26971],\n",
       " [26984, 26996, 26994],\n",
       " [27016, 27017],\n",
       " [27346, 27343, 27337],\n",
       " [27355, 27367],\n",
       " [27420, 27428, 27431],\n",
       " [28050, 28045],\n",
       " [28690, 28686, 28694, 28683],\n",
       " [28998, 28999],\n",
       " [29113, 29117],\n",
       " [29352, 29356, 29353],\n",
       " [29494, 29489],\n",
       " [29528],\n",
       " [29616, 29610],\n",
       " [29937, 29939],\n",
       " [30062, 30066, 30067],\n",
       " [30816, 30821],\n",
       " [31176, 31184, 31188, 31182],\n",
       " [31232, 31236],\n",
       " [31524, 31514, 31517, 31521],\n",
       " [31764, 31758, 31766, 31757],\n",
       " [32051],\n",
       " [32367, 32363, 32361],\n",
       " [32365, 32371],\n",
       " [32744, 32750, 32753, 32749],\n",
       " [32776, 32785],\n",
       " [32813],\n",
       " [32892, 32898, 32889],\n",
       " [32960, 32954, 32953, 32961],\n",
       " [33052],\n",
       " [33086, 33091],\n",
       " [33595, 33599],\n",
       " [33654, 33647, 33645, 33655],\n",
       " [33744, 33739],\n",
       " [34020, 34023, 34019, 34015],\n",
       " [34116, 34113, 34109, 34115],\n",
       " [34192, 34191],\n",
       " [34222, 34229, 34219, 34227],\n",
       " [34438, 34425, 34437, 34439],\n",
       " [34728, 34736, 34741, 34737],\n",
       " [34804, 34799],\n",
       " [34929],\n",
       " [35264, 35270, 35263, 35267],\n",
       " [35324, 35334, 35330],\n",
       " [35464, 35476, 35478, 35467],\n",
       " [35468, 35470, 35467],\n",
       " [35550, 35559],\n",
       " [36104, 36105],\n",
       " [36156, 36159],\n",
       " [36242, 36233],\n",
       " [36744, 36752, 36746, 36753],\n",
       " [36940, 36943, 36939, 36949],\n",
       " [37184],\n",
       " [37232, 37236, 37231],\n",
       " [37743, 37751, 37745, 37749],\n",
       " [38689],\n",
       " [38835, 38833],\n",
       " [39265, 39269, 39263, 39259],\n",
       " [39273],\n",
       " [39339],\n",
       " [39400, 39408, 39404, 39410],\n",
       " [39424, 39418],\n",
       " [39438, 39443, 39435, 39445],\n",
       " [39696, 39690],\n",
       " [40703, 40711],\n",
       " [40720, 40724, 40719, 40715],\n",
       " [41347, 41341],\n",
       " [41372, 41374, 41378],\n",
       " [41370],\n",
       " [41422, 41421],\n",
       " [41640, 41646, 41645],\n",
       " [41660, 41665, 41659, 41663],\n",
       " [41843, 41839, 41837],\n",
       " [41872, 41866, 41873, 41877],\n",
       " [42403, 42393],\n",
       " [42616, 42626, 42621],\n",
       " [42668, 42670, 42674, 42678],\n",
       " [42742, 42743],\n",
       " [43107],\n",
       " [43142, 43131, 43135],\n",
       " [43292, 43289, 43295],\n",
       " [43476, 43470, 43471],\n",
       " [43930, 43937, 43939, 43941],\n",
       " [43971, 43975, 43965],\n",
       " [44688, 44692, 44682, 44681],\n",
       " [44712],\n",
       " [44828, 44839],\n",
       " [44897],\n",
       " [44944, 44945, 44949, 44939],\n",
       " [45693, 45701],\n",
       " [46239, 46245],\n",
       " [46800, 46794, 46805, 46801],\n",
       " [46980, 46971, 46975],\n",
       " [47176, 47190, 47179],\n",
       " [47389],\n",
       " [47586, 47582, 47577, 47589],\n",
       " [47592, 47600, 47604, 47595],\n",
       " [47740, 47750, 47745, 47749],\n",
       " [47752, 47766, 47765, 47767],\n",
       " [47996, 47993, 48007],\n",
       " [48396, 48406, 48405],\n",
       " [48431, 48427, 48437],\n",
       " [48518, 48507],\n",
       " [48588, 48595, 48591, 48587],\n",
       " [48784, 48790, 48779],\n",
       " [49124, 49122, 49119, 49127],\n",
       " [49174, 49171, 49175],\n",
       " [49208],\n",
       " [49332, 49334, 49327, 49335],\n",
       " [49540],\n",
       " [49800, 49808, 49811],\n",
       " [50004, 50007],\n",
       " [50216, 50225, 50229, 50217],\n",
       " [50296, 50300, 50298, 50310]]"
      ]
     },
     "execution_count": 66,
     "metadata": {},
     "output_type": "execute_result"
    }
   ],
   "source": [
    "[x for x in knn_indices if len(x) != n_neighbors]"
   ]
  },
  {
   "cell_type": "code",
   "execution_count": 61,
   "metadata": {},
   "outputs": [
    {
     "data": {
      "text/plain": [
       "dtype('O')"
      ]
     },
     "execution_count": 61,
     "metadata": {},
     "output_type": "execute_result"
    }
   ],
   "source": [
    "knn_indices.dtype"
   ]
  },
  {
   "cell_type": "code",
   "execution_count": 62,
   "metadata": {},
   "outputs": [
    {
     "ename": "ValueError",
     "evalue": "setting an array element with a sequence.",
     "output_type": "error",
     "traceback": [
      "\u001b[0;31m---------------------------------------------------------------------------\u001b[0m",
      "\u001b[0;31mValueError\u001b[0m                                Traceback (most recent call last)",
      "\u001b[0;32m<ipython-input-62-83d1af8ae993>\u001b[0m in \u001b[0;36m<module>\u001b[0;34m\u001b[0m\n\u001b[0;32m----> 1\u001b[0;31m \u001b[0mknn_indices\u001b[0m\u001b[0;34m.\u001b[0m\u001b[0mastype\u001b[0m\u001b[0;34m(\u001b[0m\u001b[0mint\u001b[0m\u001b[0;34m)\u001b[0m\u001b[0;34m\u001b[0m\u001b[0;34m\u001b[0m\u001b[0m\n\u001b[0m",
      "\u001b[0;31mValueError\u001b[0m: setting an array element with a sequence."
     ]
    }
   ],
   "source": [
    "knn_indices.astype(int)"
   ]
  },
  {
   "cell_type": "code",
   "execution_count": 60,
   "metadata": {},
   "outputs": [
    {
     "data": {
      "text/plain": [
       "dtype('O')"
      ]
     },
     "execution_count": 60,
     "metadata": {},
     "output_type": "execute_result"
    }
   ],
   "source": [
    "knn_dists.dtype"
   ]
  },
  {
   "cell_type": "code",
   "execution_count": 54,
   "metadata": {},
   "outputs": [
    {
     "data": {
      "text/plain": [
       "dtype('float64')"
      ]
     },
     "execution_count": 54,
     "metadata": {},
     "output_type": "execute_result"
    }
   ],
   "source": [
    "knn_dists[0].dtype"
   ]
  },
  {
   "cell_type": "code",
   "execution_count": 50,
   "metadata": {},
   "outputs": [
    {
     "data": {
      "text/plain": [
       "array([array([50307, 50305, 50297, 50301, 50303]),\n",
       "       array([50307, 50305, 50297, 50301, 50303]),\n",
       "       array([50307, 50305, 50297, 50301, 50303]), ...,\n",
       "       array([50307, 50305, 50297, 50301, 50303]),\n",
       "       array([50307, 50305, 50297, 50301, 50303]),\n",
       "       array([50307, 50305, 50297, 50301, 50303])], dtype=object)"
      ]
     },
     "execution_count": 50,
     "metadata": {},
     "output_type": "execute_result"
    }
   ],
   "source": [
    "knn_indices"
   ]
  },
  {
   "cell_type": "code",
   "execution_count": 79,
   "metadata": {},
   "outputs": [
    {
     "ename": "AttributeError",
     "evalue": "'list' object has no attribute 'astype'",
     "output_type": "error",
     "traceback": [
      "\u001b[0;31m---------------------------------------------------------------------------\u001b[0m",
      "\u001b[0;31mAttributeError\u001b[0m                            Traceback (most recent call last)",
      "\u001b[0;32m<ipython-input-79-e29909f986cc>\u001b[0m in \u001b[0;36m<module>\u001b[0;34m\u001b[0m\n\u001b[0;32m----> 1\u001b[0;31m \u001b[0mknn_dists\u001b[0m\u001b[0;34m.\u001b[0m\u001b[0mastype\u001b[0m\u001b[0;34m(\u001b[0m\u001b[0mfloat\u001b[0m\u001b[0;34m)\u001b[0m\u001b[0;34m\u001b[0m\u001b[0;34m\u001b[0m\u001b[0m\n\u001b[0m",
      "\u001b[0;31mAttributeError\u001b[0m: 'list' object has no attribute 'astype'"
     ]
    }
   ],
   "source": [
    "knn_dists.astype(float)"
   ]
  },
  {
   "cell_type": "code",
   "execution_count": 44,
   "metadata": {},
   "outputs": [
    {
     "data": {
      "text/plain": [
       "[[0.96, 0.956, 0.972, 0.966, 0.966],\n",
       " [0.958, 0.96, 0.958, 0.956, 0.972],\n",
       " [0.952, 0.964, 0.98, 0.966, 0.972],\n",
       " [0.972, 0.972, 0.982, 0.96, 0.96],\n",
       " [0.972, 0.968, 0.974, 0.964, 0.962],\n",
       " [0.968, 0.97, 0.982, 0.978, 0.976],\n",
       " [0.964, 0.926, 0.964, 0.966, 0.956],\n",
       " [0.958, 0.954, 0.968, 0.974, 0.98],\n",
       " [0.944, 0.954, 0.9299999999999999, 0.9299999999999999, 0.924],\n",
       " [0.964, 0.964, 0.964, 0.97, 0.964]]"
      ]
     },
     "execution_count": 44,
     "metadata": {},
     "output_type": "execute_result"
    }
   ],
   "source": [
    "knn_dists[:10]"
   ]
  },
  {
   "cell_type": "code",
   "execution_count": 35,
   "metadata": {},
   "outputs": [
    {
     "data": {
      "text/plain": [
       "50307"
      ]
     },
     "execution_count": 35,
     "metadata": {},
     "output_type": "execute_result"
    }
   ],
   "source": [
    "leaf_to_index['P9-MAA001884-3_38_F-1-1_S151']"
   ]
  },
  {
   "cell_type": "code",
   "execution_count": 36,
   "metadata": {},
   "outputs": [
    {
     "data": {
      "text/plain": [
       "100618"
      ]
     },
     "execution_count": 36,
     "metadata": {},
     "output_type": "execute_result"
    }
   ],
   "source": [
    "leaf_to_position['P9-MAA001884-3_38_F-1-1_S151']"
   ]
  },
  {
   "cell_type": "code",
   "execution_count": 78,
   "metadata": {},
   "outputs": [
    {
     "ename": "AttributeError",
     "evalue": "'list' object has no attribute 'dtypes'",
     "output_type": "error",
     "traceback": [
      "\u001b[0;31m---------------------------------------------------------------------------\u001b[0m",
      "\u001b[0;31mAttributeError\u001b[0m                            Traceback (most recent call last)",
      "\u001b[0;32m<ipython-input-78-88af63f73713>\u001b[0m in \u001b[0;36m<module>\u001b[0;34m\u001b[0m\n\u001b[0;32m----> 1\u001b[0;31m \u001b[0mknn_indices\u001b[0m\u001b[0;34m.\u001b[0m\u001b[0mdtypes\u001b[0m\u001b[0;34m\u001b[0m\u001b[0;34m\u001b[0m\u001b[0m\n\u001b[0m",
      "\u001b[0;31mAttributeError\u001b[0m: 'list' object has no attribute 'dtypes'"
     ]
    }
   ],
   "source": [
    "knn_indices.dtypes"
   ]
  },
  {
   "cell_type": "code",
   "execution_count": 76,
   "metadata": {},
   "outputs": [
    {
     "ename": "TypingError",
     "evalue": "Failed in nopython mode pipeline (step: nopython frontend)\nUnknown attribute 'shape' of type reflected list(reflected list(float64))\n\nFile \"../../../../../home/olga/miniconda3/envs/sourmash-sbt2knn/lib/python3.7/site-packages/umap/umap_.py\", line 93:\ndef smooth_knn_dist(distances, k, n_iter=64, local_connectivity=1.0, bandwidth=1.0):\n    <source elided>\n    target = np.log2(k) * bandwidth\n    rho = np.zeros(distances.shape[0])\n    ^\n\n[1] During: typing of get attribute at /home/olga/miniconda3/envs/sourmash-sbt2knn/lib/python3.7/site-packages/umap/umap_.py (93)\n\nFile \"../../../../../home/olga/miniconda3/envs/sourmash-sbt2knn/lib/python3.7/site-packages/umap/umap_.py\", line 93:\ndef smooth_knn_dist(distances, k, n_iter=64, local_connectivity=1.0, bandwidth=1.0):\n    <source elided>\n    target = np.log2(k) * bandwidth\n    rho = np.zeros(distances.shape[0])\n    ^\n\nThis is not usually a problem with Numba itself but instead often caused by\nthe use of unsupported features or an issue in resolving types.\n\nTo see Python/NumPy features supported by the latest release of Numba visit:\nhttp://numba.pydata.org/numba-doc/latest/reference/pysupported.html\nand\nhttp://numba.pydata.org/numba-doc/latest/reference/numpysupported.html\n\nFor more information about typing errors and how to debug them visit:\nhttp://numba.pydata.org/numba-doc/latest/user/troubleshoot.html#my-code-doesn-t-compile\n\nIf you think your code should work with Numba, please report the error message\nand traceback, along with a minimal reproducer at:\nhttps://github.com/numba/numba/issues/new\n\nThis is not usually a problem with Numba itself but instead often caused by\nthe use of unsupported features or an issue in resolving types.\n\nTo see Python/NumPy features supported by the latest release of Numba visit:\nhttp://numba.pydata.org/numba-doc/latest/reference/pysupported.html\nand\nhttp://numba.pydata.org/numba-doc/latest/reference/numpysupported.html\n\nFor more information about typing errors and how to debug them visit:\nhttp://numba.pydata.org/numba-doc/latest/user/troubleshoot.html#my-code-doesn-t-compile\n\nIf you think your code should work with Numba, please report the error message\nand traceback, along with a minimal reproducer at:\nhttps://github.com/numba/numba/issues/new\n",
     "output_type": "error",
     "traceback": [
      "\u001b[0;31m---------------------------------------------------------------------------\u001b[0m",
      "\u001b[0;31mTypingError\u001b[0m                               Traceback (most recent call last)",
      "\u001b[0;32m<ipython-input-76-4cbaffab600b>\u001b[0m in \u001b[0;36m<module>\u001b[0;34m\u001b[0m\n\u001b[0;32m----> 1\u001b[0;31m \u001b[0mgraph\u001b[0m \u001b[0;34m=\u001b[0m \u001b[0mumap\u001b[0m\u001b[0;34m.\u001b[0m\u001b[0mfuzzy_simplicial_set\u001b[0m\u001b[0;34m(\u001b[0m\u001b[0mknn_indices\u001b[0m\u001b[0;34m,\u001b[0m \u001b[0mknn_dists\u001b[0m\u001b[0;34m,\u001b[0m \u001b[0mn_neighbors\u001b[0m\u001b[0;34m)\u001b[0m\u001b[0;34m\u001b[0m\u001b[0;34m\u001b[0m\u001b[0m\n\u001b[0m",
      "\u001b[0;32m~/code/sourmash/sourmash/umap.py\u001b[0m in \u001b[0;36mfuzzy_simplicial_set\u001b[0;34m(knn_indices, knn_dists, n_neighbors, local_connectivity, set_op_mix_ratio)\u001b[0m\n\u001b[1;32m    106\u001b[0m     \"\"\"\n\u001b[1;32m    107\u001b[0m     sigmas, rhos = smooth_knn_dist(\n\u001b[0;32m--> 108\u001b[0;31m         \u001b[0mknn_dists\u001b[0m\u001b[0;34m,\u001b[0m \u001b[0mn_neighbors\u001b[0m\u001b[0;34m,\u001b[0m \u001b[0mlocal_connectivity\u001b[0m\u001b[0;34m=\u001b[0m\u001b[0mlocal_connectivity\u001b[0m\u001b[0;34m\u001b[0m\u001b[0;34m\u001b[0m\u001b[0m\n\u001b[0m\u001b[1;32m    109\u001b[0m     )\n\u001b[1;32m    110\u001b[0m \u001b[0;34m\u001b[0m\u001b[0m\n",
      "\u001b[0;32m~/miniconda3/envs/sourmash-sbt2knn/lib/python3.7/site-packages/numba/dispatcher.py\u001b[0m in \u001b[0;36m_compile_for_args\u001b[0;34m(self, *args, **kws)\u001b[0m\n\u001b[1;32m    374\u001b[0m                 \u001b[0me\u001b[0m\u001b[0;34m.\u001b[0m\u001b[0mpatch_message\u001b[0m\u001b[0;34m(\u001b[0m\u001b[0mmsg\u001b[0m\u001b[0;34m)\u001b[0m\u001b[0;34m\u001b[0m\u001b[0;34m\u001b[0m\u001b[0m\n\u001b[1;32m    375\u001b[0m \u001b[0;34m\u001b[0m\u001b[0m\n\u001b[0;32m--> 376\u001b[0;31m             \u001b[0merror_rewrite\u001b[0m\u001b[0;34m(\u001b[0m\u001b[0me\u001b[0m\u001b[0;34m,\u001b[0m \u001b[0;34m'typing'\u001b[0m\u001b[0;34m)\u001b[0m\u001b[0;34m\u001b[0m\u001b[0;34m\u001b[0m\u001b[0m\n\u001b[0m\u001b[1;32m    377\u001b[0m         \u001b[0;32mexcept\u001b[0m \u001b[0merrors\u001b[0m\u001b[0;34m.\u001b[0m\u001b[0mUnsupportedError\u001b[0m \u001b[0;32mas\u001b[0m \u001b[0me\u001b[0m\u001b[0;34m:\u001b[0m\u001b[0;34m\u001b[0m\u001b[0;34m\u001b[0m\u001b[0m\n\u001b[1;32m    378\u001b[0m             \u001b[0;31m# Something unsupported is present in the user code, add help info\u001b[0m\u001b[0;34m\u001b[0m\u001b[0;34m\u001b[0m\u001b[0;34m\u001b[0m\u001b[0m\n",
      "\u001b[0;32m~/miniconda3/envs/sourmash-sbt2knn/lib/python3.7/site-packages/numba/dispatcher.py\u001b[0m in \u001b[0;36merror_rewrite\u001b[0;34m(e, issue_type)\u001b[0m\n\u001b[1;32m    341\u001b[0m                 \u001b[0;32mraise\u001b[0m \u001b[0me\u001b[0m\u001b[0;34m\u001b[0m\u001b[0;34m\u001b[0m\u001b[0m\n\u001b[1;32m    342\u001b[0m             \u001b[0;32melse\u001b[0m\u001b[0;34m:\u001b[0m\u001b[0;34m\u001b[0m\u001b[0;34m\u001b[0m\u001b[0m\n\u001b[0;32m--> 343\u001b[0;31m                 \u001b[0mreraise\u001b[0m\u001b[0;34m(\u001b[0m\u001b[0mtype\u001b[0m\u001b[0;34m(\u001b[0m\u001b[0me\u001b[0m\u001b[0;34m)\u001b[0m\u001b[0;34m,\u001b[0m \u001b[0me\u001b[0m\u001b[0;34m,\u001b[0m \u001b[0;32mNone\u001b[0m\u001b[0;34m)\u001b[0m\u001b[0;34m\u001b[0m\u001b[0;34m\u001b[0m\u001b[0m\n\u001b[0m\u001b[1;32m    344\u001b[0m \u001b[0;34m\u001b[0m\u001b[0m\n\u001b[1;32m    345\u001b[0m         \u001b[0margtypes\u001b[0m \u001b[0;34m=\u001b[0m \u001b[0;34m[\u001b[0m\u001b[0;34m]\u001b[0m\u001b[0;34m\u001b[0m\u001b[0;34m\u001b[0m\u001b[0m\n",
      "\u001b[0;32m~/miniconda3/envs/sourmash-sbt2knn/lib/python3.7/site-packages/numba/six.py\u001b[0m in \u001b[0;36mreraise\u001b[0;34m(tp, value, tb)\u001b[0m\n\u001b[1;32m    656\u001b[0m             \u001b[0mvalue\u001b[0m \u001b[0;34m=\u001b[0m \u001b[0mtp\u001b[0m\u001b[0;34m(\u001b[0m\u001b[0;34m)\u001b[0m\u001b[0;34m\u001b[0m\u001b[0;34m\u001b[0m\u001b[0m\n\u001b[1;32m    657\u001b[0m         \u001b[0;32mif\u001b[0m \u001b[0mvalue\u001b[0m\u001b[0;34m.\u001b[0m\u001b[0m__traceback__\u001b[0m \u001b[0;32mis\u001b[0m \u001b[0;32mnot\u001b[0m \u001b[0mtb\u001b[0m\u001b[0;34m:\u001b[0m\u001b[0;34m\u001b[0m\u001b[0;34m\u001b[0m\u001b[0m\n\u001b[0;32m--> 658\u001b[0;31m             \u001b[0;32mraise\u001b[0m \u001b[0mvalue\u001b[0m\u001b[0;34m.\u001b[0m\u001b[0mwith_traceback\u001b[0m\u001b[0;34m(\u001b[0m\u001b[0mtb\u001b[0m\u001b[0;34m)\u001b[0m\u001b[0;34m\u001b[0m\u001b[0;34m\u001b[0m\u001b[0m\n\u001b[0m\u001b[1;32m    659\u001b[0m         \u001b[0;32mraise\u001b[0m \u001b[0mvalue\u001b[0m\u001b[0;34m\u001b[0m\u001b[0;34m\u001b[0m\u001b[0m\n\u001b[1;32m    660\u001b[0m \u001b[0;34m\u001b[0m\u001b[0m\n",
      "\u001b[0;31mTypingError\u001b[0m: Failed in nopython mode pipeline (step: nopython frontend)\nUnknown attribute 'shape' of type reflected list(reflected list(float64))\n\nFile \"../../../../../home/olga/miniconda3/envs/sourmash-sbt2knn/lib/python3.7/site-packages/umap/umap_.py\", line 93:\ndef smooth_knn_dist(distances, k, n_iter=64, local_connectivity=1.0, bandwidth=1.0):\n    <source elided>\n    target = np.log2(k) * bandwidth\n    rho = np.zeros(distances.shape[0])\n    ^\n\n[1] During: typing of get attribute at /home/olga/miniconda3/envs/sourmash-sbt2knn/lib/python3.7/site-packages/umap/umap_.py (93)\n\nFile \"../../../../../home/olga/miniconda3/envs/sourmash-sbt2knn/lib/python3.7/site-packages/umap/umap_.py\", line 93:\ndef smooth_knn_dist(distances, k, n_iter=64, local_connectivity=1.0, bandwidth=1.0):\n    <source elided>\n    target = np.log2(k) * bandwidth\n    rho = np.zeros(distances.shape[0])\n    ^\n\nThis is not usually a problem with Numba itself but instead often caused by\nthe use of unsupported features or an issue in resolving types.\n\nTo see Python/NumPy features supported by the latest release of Numba visit:\nhttp://numba.pydata.org/numba-doc/latest/reference/pysupported.html\nand\nhttp://numba.pydata.org/numba-doc/latest/reference/numpysupported.html\n\nFor more information about typing errors and how to debug them visit:\nhttp://numba.pydata.org/numba-doc/latest/user/troubleshoot.html#my-code-doesn-t-compile\n\nIf you think your code should work with Numba, please report the error message\nand traceback, along with a minimal reproducer at:\nhttps://github.com/numba/numba/issues/new\n\nThis is not usually a problem with Numba itself but instead often caused by\nthe use of unsupported features or an issue in resolving types.\n\nTo see Python/NumPy features supported by the latest release of Numba visit:\nhttp://numba.pydata.org/numba-doc/latest/reference/pysupported.html\nand\nhttp://numba.pydata.org/numba-doc/latest/reference/numpysupported.html\n\nFor more information about typing errors and how to debug them visit:\nhttp://numba.pydata.org/numba-doc/latest/user/troubleshoot.html#my-code-doesn-t-compile\n\nIf you think your code should work with Numba, please report the error message\nand traceback, along with a minimal reproducer at:\nhttps://github.com/numba/numba/issues/new\n"
     ]
    }
   ],
   "source": [
    "graph = umap.fuzzy_simplicial_set(knn_indices, knn_dists, n_neighbors)"
   ]
  },
  {
   "cell_type": "code",
   "execution_count": 40,
   "metadata": {},
   "outputs": [],
   "source": [
    "# knn_indices, knn_dists, leaf_to_index = \\\n",
    "#     sourmash_knn.similarity_adjacency_to_knn(adjacencies, tree)\n",
    "# print(f\"knn_indices.shape: {knn_indices.shape}\")\n",
    "# print(f\"knn_dists.shape: {knn_dists.shape}\")\n",
    "# print(f\"len(leaf_to_index): {len(leaf_to_index)}\")"
   ]
  },
  {
   "cell_type": "code",
   "execution_count": 21,
   "metadata": {},
   "outputs": [
    {
     "name": "stdout",
     "output_type": "stream",
     "text": [
      "> \u001b[0;32m/home/olga/code/sourmash/sourmash/knn.py\u001b[0m(75)\u001b[0;36msimilarity_adjacency_to_knn\u001b[0;34m()\u001b[0m\n",
      "\u001b[0;32m     73 \u001b[0;31m        \u001b[0mknn_dists_line\u001b[0m \u001b[0;34m=\u001b[0m \u001b[0;34m[\u001b[0m\u001b[0;34m]\u001b[0m\u001b[0;34m\u001b[0m\u001b[0;34m\u001b[0m\u001b[0m\n",
      "\u001b[0m\u001b[0;32m     74 \u001b[0;31m        \u001b[0;32mfor\u001b[0m \u001b[0mu\u001b[0m\u001b[0;34m,\u001b[0m \u001b[0mv\u001b[0m\u001b[0;34m,\u001b[0m \u001b[0msimilarity\u001b[0m \u001b[0;32min\u001b[0m \u001b[0mitems\u001b[0m\u001b[0;34m:\u001b[0m\u001b[0;34m\u001b[0m\u001b[0;34m\u001b[0m\u001b[0m\n",
      "\u001b[0m\u001b[0;32m---> 75 \u001b[0;31m            \u001b[0mknn_indices_line\u001b[0m\u001b[0;34m.\u001b[0m\u001b[0mappend\u001b[0m\u001b[0;34m(\u001b[0m\u001b[0mleaf_to_index\u001b[0m\u001b[0;34m[\u001b[0m\u001b[0mv\u001b[0m\u001b[0;34m]\u001b[0m\u001b[0;34m)\u001b[0m\u001b[0;34m\u001b[0m\u001b[0;34m\u001b[0m\u001b[0m\n",
      "\u001b[0m\u001b[0;32m     76 \u001b[0;31m\u001b[0;34m\u001b[0m\u001b[0m\n",
      "\u001b[0m\u001b[0;32m     77 \u001b[0;31m            \u001b[0;31m# Dissimilarity = 1-similarity\u001b[0m\u001b[0;34m\u001b[0m\u001b[0;34m\u001b[0m\u001b[0;34m\u001b[0m\u001b[0m\n",
      "\u001b[0m\n"
     ]
    },
    {
     "name": "stdin",
     "output_type": "stream",
     "text": [
      "ipdb>  dir()\n"
     ]
    },
    {
     "name": "stdout",
     "output_type": "stream",
     "text": [
      "['adjacencies', 'items', 'knn_dists', 'knn_dists_line', 'knn_indices', 'knn_indices_line', 'leaf_to_index', 'similarity', 'tree', 'u', 'v']\n"
     ]
    },
    {
     "name": "stdin",
     "output_type": "stream",
     "text": [
      "ipdb>  len(leaf_to_index)\n"
     ]
    },
    {
     "name": "stdout",
     "output_type": "stream",
     "text": [
      "0\n"
     ]
    },
    {
     "name": "stdin",
     "output_type": "stream",
     "text": [
      "ipdb>  q \n"
     ]
    }
   ],
   "source": [
    "%debug"
   ]
  },
  {
   "cell_type": "code",
   "execution_count": null,
   "metadata": {},
   "outputs": [],
   "source": [
    "index_to_leaf = dict(zip(leaf_to_index.values(), leaf_to_index.keys()))"
   ]
  },
  {
   "cell_type": "code",
   "execution_count": null,
   "metadata": {},
   "outputs": [],
   "source": [
    "graph = sourmash_knn.make_search_graph(knn_indices, knn_dists)"
   ]
  },
  {
   "cell_type": "code",
   "execution_count": null,
   "metadata": {},
   "outputs": [],
   "source": [
    "graph, n_epochs = sourmash_knn._clean_graph(graph, n_epochs)\n",
    "\n"
   ]
  },
  {
   "cell_type": "markdown",
   "metadata": {},
   "source": [
    "## Get connected components and similarity_adjacency_to_knnem"
   ]
  },
  {
   "cell_type": "code",
   "execution_count": null,
   "metadata": {},
   "outputs": [],
   "source": []
  },
  {
   "cell_type": "code",
   "execution_count": null,
   "metadata": {},
   "outputs": [],
   "source": [
    "def convert_name_to_tree_position(tree, name):\n",
    "    for position, node in tree.nodes.items():\n",
    "        if node.data.name() == name:\n",
    "            return position\n",
    "\n",
    "label_to_tree_position = dict((name, convert_name_to_tree_position(name)) for name in leaf_to_index.keys())\n",
    "len(label_to_tree_position)\n",
    "label_to_tree_position['P9-MAA001884-3_38_F-1-1_S151']"
   ]
  },
  {
   "cell_type": "code",
   "execution_count": 15,
   "metadata": {},
   "outputs": [
    {
     "ename": "SyntaxError",
     "evalue": "invalid syntax (<ipython-input-15-c5d4e7a2d9ca>, line 4)",
     "output_type": "error",
     "traceback": [
      "\u001b[0;36m  File \u001b[0;32m\"<ipython-input-15-c5d4e7a2d9ca>\"\u001b[0;36m, line \u001b[0;32m4\u001b[0m\n\u001b[0;31m    for sigs\u001b[0m\n\u001b[0m             ^\u001b[0m\n\u001b[0;31mSyntaxError\u001b[0m\u001b[0;31m:\u001b[0m invalid syntax\n"
     ]
    }
   ],
   "source": [
    "n_connected_components, labels = scipy.sparse.csgraph.connected_components(graph)\n",
    "\n",
    "for label in range(n_connected_components):\n",
    "    graph_index_of_label = np.where(component_labels == label)\n",
    "    tree_position\n",
    "    \n",
    "    first_sig = tree.get(graph)\n",
    "    for i in graph_index_of_label[1:]:\n",
    "        "
   ]
  },
  {
   "cell_type": "code",
   "execution_count": null,
   "metadata": {},
   "outputs": [],
   "source": [
    "np.where(component_labels == label)"
   ]
  },
  {
   "cell_type": "code",
   "execution_count": null,
   "metadata": {},
   "outputs": [],
   "source": []
  }
 ],
 "metadata": {
  "kernelspec": {
   "display_name": "Python [conda env:sourmash-sbt2knn]",
   "language": "python",
   "name": "conda-env-sourmash-sbt2knn-py"
  },
  "language_info": {
   "codemirror_mode": {
    "name": "ipython",
    "version": 3
   },
   "file_extension": ".py",
   "mimetype": "text/x-python",
   "name": "python",
   "nbconvert_exporter": "python",
   "pygments_lexer": "ipython3",
   "version": "3.7.3"
  }
 },
 "nbformat": 4,
 "nbformat_minor": 4
}
