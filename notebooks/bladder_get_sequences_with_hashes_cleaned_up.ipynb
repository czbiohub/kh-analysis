{
 "cells": [
  {
   "cell_type": "code",
   "execution_count": 1,
   "metadata": {},
   "outputs": [],
   "source": [
    "import glob\n",
    "import os\n",
    "\n",
    "import pandas as pd\n",
    "import screed\n",
    "\n",
    "from sourmash import signature as sig\n",
    "from sourmash._minhash import hash_murmur\n"
   ]
  },
  {
   "cell_type": "code",
   "execution_count": 2,
   "metadata": {},
   "outputs": [
    {
     "name": "stdout",
     "output_type": "stream",
     "text": [
      "(1612900, 6)\n"
     ]
    },
    {
     "data": {
      "text/html": [
       "<div>\n",
       "<style scoped>\n",
       "    .dataframe tbody tr th:only-of-type {\n",
       "        vertical-align: middle;\n",
       "    }\n",
       "\n",
       "    .dataframe tbody tr th {\n",
       "        vertical-align: top;\n",
       "    }\n",
       "\n",
       "    .dataframe thead th {\n",
       "        text-align: right;\n",
       "    }\n",
       "</style>\n",
       "<table border=\"1\" class=\"dataframe\">\n",
       "  <thead>\n",
       "    <tr style=\"text-align: right;\">\n",
       "      <th></th>\n",
       "      <th>cell1</th>\n",
       "      <th>cell2</th>\n",
       "      <th>similarity_without_abundance</th>\n",
       "      <th>similarity_with_abundance</th>\n",
       "      <th>cell_ontology_class_cell1</th>\n",
       "      <th>cell_ontology_class</th>\n",
       "    </tr>\n",
       "  </thead>\n",
       "  <tbody>\n",
       "    <tr>\n",
       "      <th>0</th>\n",
       "      <td>A1-B000610-3_56_F-1-1</td>\n",
       "      <td>A1-B000610-3_56_F-1-1</td>\n",
       "      <td>1.000</td>\n",
       "      <td>1.000000</td>\n",
       "      <td>bladder cell</td>\n",
       "      <td>bladder cell</td>\n",
       "    </tr>\n",
       "    <tr>\n",
       "      <th>1</th>\n",
       "      <td>A1-B000610-3_56_F-1-1</td>\n",
       "      <td>A1-B002764-3_38_F-1-1</td>\n",
       "      <td>0.018</td>\n",
       "      <td>0.228460</td>\n",
       "      <td>bladder cell</td>\n",
       "      <td>bladder urothelial cell</td>\n",
       "    </tr>\n",
       "    <tr>\n",
       "      <th>2</th>\n",
       "      <td>A1-B000610-3_56_F-1-1</td>\n",
       "      <td>A1-B002771-3_39_F-1-1</td>\n",
       "      <td>0.072</td>\n",
       "      <td>0.245190</td>\n",
       "      <td>bladder cell</td>\n",
       "      <td>bladder cell</td>\n",
       "    </tr>\n",
       "    <tr>\n",
       "      <th>3</th>\n",
       "      <td>A1-B000610-3_56_F-1-1</td>\n",
       "      <td>A1-D041914-3_8_M-1-1</td>\n",
       "      <td>0.098</td>\n",
       "      <td>0.454728</td>\n",
       "      <td>bladder cell</td>\n",
       "      <td>bladder cell</td>\n",
       "    </tr>\n",
       "    <tr>\n",
       "      <th>4</th>\n",
       "      <td>A1-B000610-3_56_F-1-1</td>\n",
       "      <td>A1-D042253-3_9_M-1-1</td>\n",
       "      <td>0.090</td>\n",
       "      <td>0.231834</td>\n",
       "      <td>bladder cell</td>\n",
       "      <td>bladder cell</td>\n",
       "    </tr>\n",
       "  </tbody>\n",
       "</table>\n",
       "</div>"
      ],
      "text/plain": [
       "                   cell1                  cell2  similarity_without_abundance  \\\n",
       "0  A1-B000610-3_56_F-1-1  A1-B000610-3_56_F-1-1                         1.000   \n",
       "1  A1-B000610-3_56_F-1-1  A1-B002764-3_38_F-1-1                         0.018   \n",
       "2  A1-B000610-3_56_F-1-1  A1-B002771-3_39_F-1-1                         0.072   \n",
       "3  A1-B000610-3_56_F-1-1   A1-D041914-3_8_M-1-1                         0.098   \n",
       "4  A1-B000610-3_56_F-1-1   A1-D042253-3_9_M-1-1                         0.090   \n",
       "\n",
       "   similarity_with_abundance cell_ontology_class_cell1  \\\n",
       "0                   1.000000              bladder cell   \n",
       "1                   0.228460              bladder cell   \n",
       "2                   0.245190              bladder cell   \n",
       "3                   0.454728              bladder cell   \n",
       "4                   0.231834              bladder cell   \n",
       "\n",
       "       cell_ontology_class  \n",
       "0             bladder cell  \n",
       "1  bladder urothelial cell  \n",
       "2             bladder cell  \n",
       "3             bladder cell  \n",
       "4             bladder cell  "
      ]
     },
     "execution_count": 2,
     "metadata": {},
     "output_type": "execute_result"
    }
   ],
   "source": [
    "similarities_tidy = pd.read_csv('s3://kmer-hashing/tabula-muris/n_hashes=500/bladder/similarities_tidy.csv')\n",
    "print(similarities_tidy.shape)\n",
    "similarities_tidy.head()"
   ]
  },
  {
   "cell_type": "code",
   "execution_count": 3,
   "metadata": {},
   "outputs": [],
   "source": [
    "folder = '/home/olga/pureScratch/olgabot-maca/facs/sourmash/'\n"
   ]
  },
  {
   "cell_type": "code",
   "execution_count": 4,
   "metadata": {},
   "outputs": [
    {
     "data": {
      "text/plain": [
       "SourmashSignature('A1-B000610-3_56_F-1-1_S28', 280b9bab)"
      ]
     },
     "execution_count": 4,
     "metadata": {},
     "output_type": "execute_result"
    }
   ],
   "source": [
    "# bladder cell\n",
    "cell1 = 'A1-B000610-3_56_F-1-1'\n",
    "\n",
    "ksize = 21\n",
    "moltype = 'DNA'\n",
    "\n",
    "\n",
    "sig1 = list(sig.load_signatures(f\"{folder}/A1-B000610-3_56_F-1-1_S28.sig\", ksize=ksize, \n",
    "                                select_moltype=moltype))[0]\n",
    "sig1"
   ]
  },
  {
   "cell_type": "code",
   "execution_count": 5,
   "metadata": {},
   "outputs": [
    {
     "data": {
      "text/plain": [
       "SourmashSignature('A1-B002764-3_38_F-1-1_S291', ef185816)"
      ]
     },
     "execution_count": 5,
     "metadata": {},
     "output_type": "execute_result"
    }
   ],
   "source": [
    "# bladder urothelial cell\n",
    "cell2 = 'A1-B002764-3_38_F-1-1'\n",
    "\n",
    "sig2 = list(sig.load_signatures(f\"{folder}/A1-B002764-3_38_F-1-1_S291.sig\", ksize=ksize, \n",
    "                                select_moltype=moltype))[0]\n",
    "sig2"
   ]
  },
  {
   "cell_type": "code",
   "execution_count": 6,
   "metadata": {},
   "outputs": [
    {
     "data": {
      "text/plain": [
       "3282762037724      2\n",
       "5959368950693      1\n",
       "7215285795798     20\n",
       "11329527245923     1\n",
       "12290763577842     1\n",
       "Name: A1-B000610-3_56_F-1-1, dtype: int64"
      ]
     },
     "execution_count": 6,
     "metadata": {},
     "output_type": "execute_result"
    }
   ],
   "source": [
    "sig1_hashes = pd.Series(sig1.minhash.get_mins(with_abundance=True), name=cell1)\n",
    "sig1_hashes.head()"
   ]
  },
  {
   "cell_type": "code",
   "execution_count": 7,
   "metadata": {},
   "outputs": [
    {
     "data": {
      "text/plain": [
       "4319888920071     1\n",
       "11897683056067    4\n",
       "18288931836992    1\n",
       "27514404317028    1\n",
       "28801856705165    1\n",
       "Name: A1-B002764-3_38_F-1-1, dtype: int64"
      ]
     },
     "execution_count": 7,
     "metadata": {},
     "output_type": "execute_result"
    }
   ],
   "source": [
    "sig2_hashes = pd.Series(sig2.minhash.get_mins(with_abundance=True), name=cell2)\n",
    "sig2_hashes.head()"
   ]
  },
  {
   "cell_type": "code",
   "execution_count": 8,
   "metadata": {},
   "outputs": [
    {
     "data": {
      "text/plain": [
       "171794956858086        1.0\n",
       "394031160505449        0.0\n",
       "513049510280006        5.0\n",
       "635563321059591       54.0\n",
       "734478954482604        0.0\n",
       "790330283259107        0.0\n",
       "860437213521678       -9.0\n",
       "936637619733676       -4.0\n",
       "937624453106451    -4675.0\n",
       "1012839673718406    -240.0\n",
       "1026077759632952    -276.0\n",
       "1067106972354716       0.0\n",
       "1215285019941982       0.0\n",
       "1225906413461687       0.0\n",
       "dtype: float64"
      ]
     },
     "execution_count": 8,
     "metadata": {},
     "output_type": "execute_result"
    }
   ],
   "source": [
    "hash_diff = (sig1_hashes - sig2_hashes).dropna()\n",
    "hash_diff"
   ]
  },
  {
   "cell_type": "code",
   "execution_count": 9,
   "metadata": {},
   "outputs": [
    {
     "data": {
      "text/html": [
       "<div>\n",
       "<style scoped>\n",
       "    .dataframe tbody tr th:only-of-type {\n",
       "        vertical-align: middle;\n",
       "    }\n",
       "\n",
       "    .dataframe tbody tr th {\n",
       "        vertical-align: top;\n",
       "    }\n",
       "\n",
       "    .dataframe thead th {\n",
       "        text-align: right;\n",
       "    }\n",
       "</style>\n",
       "<table border=\"1\" class=\"dataframe\">\n",
       "  <thead>\n",
       "    <tr style=\"text-align: right;\">\n",
       "      <th></th>\n",
       "      <th>A1-B000610-3_56_F-1-1</th>\n",
       "      <th>A1-B002764-3_38_F-1-1</th>\n",
       "    </tr>\n",
       "  </thead>\n",
       "  <tbody>\n",
       "    <tr>\n",
       "      <th>171794956858086</th>\n",
       "      <td>2.0</td>\n",
       "      <td>1.0</td>\n",
       "    </tr>\n",
       "    <tr>\n",
       "      <th>394031160505449</th>\n",
       "      <td>1.0</td>\n",
       "      <td>1.0</td>\n",
       "    </tr>\n",
       "    <tr>\n",
       "      <th>513049510280006</th>\n",
       "      <td>6.0</td>\n",
       "      <td>1.0</td>\n",
       "    </tr>\n",
       "    <tr>\n",
       "      <th>635563321059591</th>\n",
       "      <td>55.0</td>\n",
       "      <td>1.0</td>\n",
       "    </tr>\n",
       "    <tr>\n",
       "      <th>734478954482604</th>\n",
       "      <td>1.0</td>\n",
       "      <td>1.0</td>\n",
       "    </tr>\n",
       "    <tr>\n",
       "      <th>790330283259107</th>\n",
       "      <td>1.0</td>\n",
       "      <td>1.0</td>\n",
       "    </tr>\n",
       "    <tr>\n",
       "      <th>860437213521678</th>\n",
       "      <td>1.0</td>\n",
       "      <td>10.0</td>\n",
       "    </tr>\n",
       "    <tr>\n",
       "      <th>936637619733676</th>\n",
       "      <td>3.0</td>\n",
       "      <td>7.0</td>\n",
       "    </tr>\n",
       "    <tr>\n",
       "      <th>937624453106451</th>\n",
       "      <td>301.0</td>\n",
       "      <td>4976.0</td>\n",
       "    </tr>\n",
       "    <tr>\n",
       "      <th>1012839673718406</th>\n",
       "      <td>5.0</td>\n",
       "      <td>245.0</td>\n",
       "    </tr>\n",
       "    <tr>\n",
       "      <th>1026077759632952</th>\n",
       "      <td>39.0</td>\n",
       "      <td>315.0</td>\n",
       "    </tr>\n",
       "    <tr>\n",
       "      <th>1067106972354716</th>\n",
       "      <td>1.0</td>\n",
       "      <td>1.0</td>\n",
       "    </tr>\n",
       "    <tr>\n",
       "      <th>1215285019941982</th>\n",
       "      <td>2.0</td>\n",
       "      <td>2.0</td>\n",
       "    </tr>\n",
       "    <tr>\n",
       "      <th>1225906413461687</th>\n",
       "      <td>1.0</td>\n",
       "      <td>1.0</td>\n",
       "    </tr>\n",
       "  </tbody>\n",
       "</table>\n",
       "</div>"
      ],
      "text/plain": [
       "                  A1-B000610-3_56_F-1-1  A1-B002764-3_38_F-1-1\n",
       "171794956858086                     2.0                    1.0\n",
       "394031160505449                     1.0                    1.0\n",
       "513049510280006                     6.0                    1.0\n",
       "635563321059591                    55.0                    1.0\n",
       "734478954482604                     1.0                    1.0\n",
       "790330283259107                     1.0                    1.0\n",
       "860437213521678                     1.0                   10.0\n",
       "936637619733676                     3.0                    7.0\n",
       "937624453106451                   301.0                 4976.0\n",
       "1012839673718406                    5.0                  245.0\n",
       "1026077759632952                   39.0                  315.0\n",
       "1067106972354716                    1.0                    1.0\n",
       "1215285019941982                    2.0                    2.0\n",
       "1225906413461687                    1.0                    1.0"
      ]
     },
     "execution_count": 9,
     "metadata": {},
     "output_type": "execute_result"
    }
   ],
   "source": [
    "combined_hashes = pd.concat([sig1_hashes, sig2_hashes], axis=1)\n",
    "combined_hashes = combined_hashes.dropna()\n",
    "combined_hashes"
   ]
  },
  {
   "cell_type": "code",
   "execution_count": 10,
   "metadata": {},
   "outputs": [
    {
     "data": {
      "text/html": [
       "<div>\n",
       "<style scoped>\n",
       "    .dataframe tbody tr th:only-of-type {\n",
       "        vertical-align: middle;\n",
       "    }\n",
       "\n",
       "    .dataframe tbody tr th {\n",
       "        vertical-align: top;\n",
       "    }\n",
       "\n",
       "    .dataframe thead th {\n",
       "        text-align: right;\n",
       "    }\n",
       "</style>\n",
       "<table border=\"1\" class=\"dataframe\">\n",
       "  <thead>\n",
       "    <tr style=\"text-align: right;\">\n",
       "      <th></th>\n",
       "      <th>A1-B000610-3_56_F-1-1</th>\n",
       "      <th>A1-B002764-3_38_F-1-1</th>\n",
       "    </tr>\n",
       "  </thead>\n",
       "  <tbody>\n",
       "    <tr>\n",
       "      <th>635563321059591</th>\n",
       "      <td>55.0</td>\n",
       "      <td>1.0</td>\n",
       "    </tr>\n",
       "    <tr>\n",
       "      <th>937624453106451</th>\n",
       "      <td>301.0</td>\n",
       "      <td>4976.0</td>\n",
       "    </tr>\n",
       "    <tr>\n",
       "      <th>1012839673718406</th>\n",
       "      <td>5.0</td>\n",
       "      <td>245.0</td>\n",
       "    </tr>\n",
       "    <tr>\n",
       "      <th>1026077759632952</th>\n",
       "      <td>39.0</td>\n",
       "      <td>315.0</td>\n",
       "    </tr>\n",
       "  </tbody>\n",
       "</table>\n",
       "</div>"
      ],
      "text/plain": [
       "                  A1-B000610-3_56_F-1-1  A1-B002764-3_38_F-1-1\n",
       "635563321059591                    55.0                    1.0\n",
       "937624453106451                   301.0                 4976.0\n",
       "1012839673718406                    5.0                  245.0\n",
       "1026077759632952                   39.0                  315.0"
      ]
     },
     "execution_count": 10,
     "metadata": {},
     "output_type": "execute_result"
    }
   ],
   "source": [
    "hashes_of_interest = combined_hashes.loc[hash_diff.abs() > 50]\n",
    "hashes_of_interest"
   ]
  },
  {
   "cell_type": "code",
   "execution_count": 11,
   "metadata": {},
   "outputs": [
    {
     "name": "stdout",
     "output_type": "stream",
     "text": [
      "(53760, 2)\n"
     ]
    },
    {
     "data": {
      "text/html": [
       "<div>\n",
       "<style scoped>\n",
       "    .dataframe tbody tr th:only-of-type {\n",
       "        vertical-align: middle;\n",
       "    }\n",
       "\n",
       "    .dataframe tbody tr th {\n",
       "        vertical-align: top;\n",
       "    }\n",
       "\n",
       "    .dataframe thead th {\n",
       "        text-align: right;\n",
       "    }\n",
       "</style>\n",
       "<table border=\"1\" class=\"dataframe\">\n",
       "  <thead>\n",
       "    <tr style=\"text-align: right;\">\n",
       "      <th></th>\n",
       "      <th>read1</th>\n",
       "      <th>read2</th>\n",
       "    </tr>\n",
       "    <tr>\n",
       "      <th>sample_id</th>\n",
       "      <th></th>\n",
       "      <th></th>\n",
       "    </tr>\n",
       "  </thead>\n",
       "  <tbody>\n",
       "    <tr>\n",
       "      <th>A1-B000126-3_39_F-1-1</th>\n",
       "      <td>s3://czb-maca/Plate_seq/3_month/170925_A00111_...</td>\n",
       "      <td>s3://czb-maca/Plate_seq/3_month/170925_A00111_...</td>\n",
       "    </tr>\n",
       "    <tr>\n",
       "      <th>A1-B000127-3_38_F-1-1</th>\n",
       "      <td>s3://czb-maca/Plate_seq/3_month/170914_A00111_...</td>\n",
       "      <td>s3://czb-maca/Plate_seq/3_month/170914_A00111_...</td>\n",
       "    </tr>\n",
       "    <tr>\n",
       "      <th>A1-B000167-3_56_F-1-1</th>\n",
       "      <td>s3://czb-maca/Plate_seq/3_month/170925_A00111_...</td>\n",
       "      <td>s3://czb-maca/Plate_seq/3_month/170925_A00111_...</td>\n",
       "    </tr>\n",
       "    <tr>\n",
       "      <th>A1-B000168-3_57_F-1-1</th>\n",
       "      <td>s3://czb-maca/Plate_seq/3_month/170925_A00111_...</td>\n",
       "      <td>s3://czb-maca/Plate_seq/3_month/170925_A00111_...</td>\n",
       "    </tr>\n",
       "    <tr>\n",
       "      <th>A1-B000412-3_56_F-1-1</th>\n",
       "      <td>s3://czb-maca/Plate_seq/3_month/170914_A00111_...</td>\n",
       "      <td>s3://czb-maca/Plate_seq/3_month/170914_A00111_...</td>\n",
       "    </tr>\n",
       "  </tbody>\n",
       "</table>\n",
       "</div>"
      ],
      "text/plain": [
       "                                                                   read1  \\\n",
       "sample_id                                                                  \n",
       "A1-B000126-3_39_F-1-1  s3://czb-maca/Plate_seq/3_month/170925_A00111_...   \n",
       "A1-B000127-3_38_F-1-1  s3://czb-maca/Plate_seq/3_month/170914_A00111_...   \n",
       "A1-B000167-3_56_F-1-1  s3://czb-maca/Plate_seq/3_month/170925_A00111_...   \n",
       "A1-B000168-3_57_F-1-1  s3://czb-maca/Plate_seq/3_month/170925_A00111_...   \n",
       "A1-B000412-3_56_F-1-1  s3://czb-maca/Plate_seq/3_month/170914_A00111_...   \n",
       "\n",
       "                                                                   read2  \n",
       "sample_id                                                                 \n",
       "A1-B000126-3_39_F-1-1  s3://czb-maca/Plate_seq/3_month/170925_A00111_...  \n",
       "A1-B000127-3_38_F-1-1  s3://czb-maca/Plate_seq/3_month/170914_A00111_...  \n",
       "A1-B000167-3_56_F-1-1  s3://czb-maca/Plate_seq/3_month/170925_A00111_...  \n",
       "A1-B000168-3_57_F-1-1  s3://czb-maca/Plate_seq/3_month/170925_A00111_...  \n",
       "A1-B000412-3_56_F-1-1  s3://czb-maca/Plate_seq/3_month/170914_A00111_...  "
      ]
     },
     "execution_count": 11,
     "metadata": {},
     "output_type": "execute_result"
    }
   ],
   "source": [
    "fastqs = pd.read_csv(\"s3://czb-maca/Plate_seq/3_month/fastqs_read1_read2.csv\", index_col=0)\n",
    "print(fastqs.shape)\n",
    "fastqs.head()"
   ]
  },
  {
   "cell_type": "code",
   "execution_count": 12,
   "metadata": {},
   "outputs": [
    {
     "data": {
      "text/html": [
       "<div>\n",
       "<style scoped>\n",
       "    .dataframe tbody tr th:only-of-type {\n",
       "        vertical-align: middle;\n",
       "    }\n",
       "\n",
       "    .dataframe tbody tr th {\n",
       "        vertical-align: top;\n",
       "    }\n",
       "\n",
       "    .dataframe thead th {\n",
       "        text-align: right;\n",
       "    }\n",
       "</style>\n",
       "<table border=\"1\" class=\"dataframe\">\n",
       "  <thead>\n",
       "    <tr style=\"text-align: right;\">\n",
       "      <th></th>\n",
       "      <th>read1</th>\n",
       "      <th>read2</th>\n",
       "    </tr>\n",
       "    <tr>\n",
       "      <th>sample_id</th>\n",
       "      <th></th>\n",
       "      <th></th>\n",
       "    </tr>\n",
       "  </thead>\n",
       "  <tbody>\n",
       "    <tr>\n",
       "      <th>A1-B000610-3_56_F-1-1</th>\n",
       "      <td>s3://czb-maca/Plate_seq/3_month/170914_A00111_...</td>\n",
       "      <td>s3://czb-maca/Plate_seq/3_month/170914_A00111_...</td>\n",
       "    </tr>\n",
       "    <tr>\n",
       "      <th>A1-B002764-3_38_F-1-1</th>\n",
       "      <td>s3://czb-maca/Plate_seq/3_month/170914_A00111_...</td>\n",
       "      <td>s3://czb-maca/Plate_seq/3_month/170914_A00111_...</td>\n",
       "    </tr>\n",
       "  </tbody>\n",
       "</table>\n",
       "</div>"
      ],
      "text/plain": [
       "                                                                   read1  \\\n",
       "sample_id                                                                  \n",
       "A1-B000610-3_56_F-1-1  s3://czb-maca/Plate_seq/3_month/170914_A00111_...   \n",
       "A1-B002764-3_38_F-1-1  s3://czb-maca/Plate_seq/3_month/170914_A00111_...   \n",
       "\n",
       "                                                                   read2  \n",
       "sample_id                                                                 \n",
       "A1-B000610-3_56_F-1-1  s3://czb-maca/Plate_seq/3_month/170914_A00111_...  \n",
       "A1-B002764-3_38_F-1-1  s3://czb-maca/Plate_seq/3_month/170914_A00111_...  "
      ]
     },
     "execution_count": 12,
     "metadata": {},
     "output_type": "execute_result"
    }
   ],
   "source": [
    "these_cell_fastqs = fastqs.loc[[cell1, cell2]]\n",
    "these_cell_fastqs"
   ]
  },
  {
   "cell_type": "markdown",
   "metadata": {},
   "source": [
    "### Copy fastqs over"
   ]
  },
  {
   "cell_type": "code",
   "execution_count": 14,
   "metadata": {},
   "outputs": [
    {
     "name": "stdout",
     "output_type": "stream",
     "text": [
      "s3://czb-maca/Plate_seq/3_month/170914_A00111_0058_AH3FYKDMXX__170914_A00111_0057_BH3FY7DMXX/fastqs/A1-B000610-3_56_F-1-1_R1_001.fastq.gz\n",
      "download: s3://czb-maca/Plate_seq/3_month/170914_A00111_0058_AH3FYKDMXX__170914_A00111_0057_BH3FY7DMXX/fastqs/A1-B000610-3_56_F-1-1_R1_001.fastq.gz to ../../../../pureScratch/czb-maca/Plate_Seq/3_month/170914_A00111_0058_AH3FYKDMXX__170914_A00111_0057_BH3FY7DMXX/fastqs/A1-B000610-3_56_F-1-1_R1_001.fastq.gz\n",
      "s3://czb-maca/Plate_seq/3_month/170914_A00111_0058_AH3FYKDMXX__170914_A00111_0057_BH3FY7DMXX/fastqs/A1-B000610-3_56_F-1-1_R2_001.fastq.gz\n",
      "download: s3://czb-maca/Plate_seq/3_month/170914_A00111_0058_AH3FYKDMXX__170914_A00111_0057_BH3FY7DMXX/fastqs/A1-B000610-3_56_F-1-1_R2_001.fastq.gz to ../../../../pureScratch/czb-maca/Plate_Seq/3_month/170914_A00111_0058_AH3FYKDMXX__170914_A00111_0057_BH3FY7DMXX/fastqs/A1-B000610-3_56_F-1-1_R2_001.fastq.gz\n",
      "s3://czb-maca/Plate_seq/3_month/170914_A00111_0058_AH3FYKDMXX__170914_A00111_0057_BH3FY7DMXX/fastqs/A1-B002764-3_38_F-1-1_R1_001.fastq.gz\n",
      "download: s3://czb-maca/Plate_seq/3_month/170914_A00111_0058_AH3FYKDMXX__170914_A00111_0057_BH3FY7DMXX/fastqs/A1-B002764-3_38_F-1-1_R1_001.fastq.gz to ../../../../pureScratch/czb-maca/Plate_Seq/3_month/170914_A00111_0058_AH3FYKDMXX__170914_A00111_0057_BH3FY7DMXX/fastqs/A1-B002764-3_38_F-1-1_R1_001.fastq.gz\n",
      "s3://czb-maca/Plate_seq/3_month/170914_A00111_0058_AH3FYKDMXX__170914_A00111_0057_BH3FY7DMXX/fastqs/A1-B002764-3_38_F-1-1_R2_001.fastq.gz\n",
      "download: s3://czb-maca/Plate_seq/3_month/170914_A00111_0058_AH3FYKDMXX__170914_A00111_0057_BH3FY7DMXX/fastqs/A1-B002764-3_38_F-1-1_R2_001.fastq.gz to ../../../../pureScratch/czb-maca/Plate_Seq/3_month/170914_A00111_0058_AH3FYKDMXX__170914_A00111_0057_BH3FY7DMXX/fastqs/A1-B002764-3_38_F-1-1_R2_001.fastq.gz\n",
      "A1-B000610-3_56_F-1-1_R1_001.fastq.gz  A1-B002764-3_38_F-1-1_R1_001.fastq.gz\n",
      "A1-B000610-3_56_F-1-1_R2_001.fastq.gz  A1-B002764-3_38_F-1-1_R2_001.fastq.gz\n"
     ]
    }
   ],
   "source": [
    "fastq_dir = '/home/olga/pureScratch/czb-maca/Plate_Seq/3_month/170914_A00111_0058_AH3FYKDMXX__170914_A00111_0057_BH3FY7DMXX/fastqs/'\n",
    "\n",
    "for fastq in these_cell_fastqs.values.flatten():\n",
    "    print(fastq)\n",
    "    ! aws s3 cp $fastq $fastq_dir\n",
    "\n",
    "! ls $fastq_dir"
   ]
  },
  {
   "cell_type": "markdown",
   "metadata": {},
   "source": [
    "## Extract reads containing the hashes of interest"
   ]
  },
  {
   "cell_type": "code",
   "execution_count": 16,
   "metadata": {},
   "outputs": [
    {
     "data": {
      "text/plain": [
       "['/home/olga/pureScratch/czb-maca/Plate_Seq/3_month/170914_A00111_0058_AH3FYKDMXX__170914_A00111_0057_BH3FY7DMXX/fastqs/A1-B000610-3_56_F-1-1_R1_001.fastq.gz',\n",
       " '/home/olga/pureScratch/czb-maca/Plate_Seq/3_month/170914_A00111_0058_AH3FYKDMXX__170914_A00111_0057_BH3FY7DMXX/fastqs/A1-B000610-3_56_F-1-1_R2_001.fastq.gz',\n",
       " '/home/olga/pureScratch/czb-maca/Plate_Seq/3_month/170914_A00111_0058_AH3FYKDMXX__170914_A00111_0057_BH3FY7DMXX/fastqs/A1-B002764-3_38_F-1-1_R1_001.fastq.gz',\n",
       " '/home/olga/pureScratch/czb-maca/Plate_Seq/3_month/170914_A00111_0058_AH3FYKDMXX__170914_A00111_0057_BH3FY7DMXX/fastqs/A1-B002764-3_38_F-1-1_R2_001.fastq.gz']"
      ]
     },
     "execution_count": 16,
     "metadata": {},
     "output_type": "execute_result"
    }
   ],
   "source": [
    "fastqs = glob.glob(f\"{fastq_dir}*\")\n",
    "len(fastqs)\n",
    "fastqs"
   ]
  },
  {
   "cell_type": "markdown",
   "metadata": {},
   "source": [
    "## Check if each sequence contains hashes, then extract them"
   ]
  },
  {
   "cell_type": "code",
   "execution_count": 18,
   "metadata": {},
   "outputs": [
    {
     "name": "stdout",
     "output_type": "stream",
     "text": [
      "Something is weird! Not all the hashes were found...\n",
      "{937624453106451}\n",
      "Something is weird! Not all the hashes were found...\n",
      "{937624453106451}\n",
      "Something is weird! Not all the hashes were found...\n",
      "{937624453106451}\n",
      "Something is weird! Not all the hashes were found...\n",
      "{937624453106451}\n",
      "CPU times: user 160 ms, sys: 16 ms, total: 176 ms\n",
      "Wall time: 365 ms\n"
     ]
    }
   ],
   "source": [
    "%%time\n",
    "query_hashes = set(hashes_of_interest.index)\n",
    "minhash = sig1.minhash.copy_and_clear()\n",
    "\n",
    "\n",
    "# now, iterate over the input sequences and output those that add\n",
    "# hashes!\n",
    "n = 0\n",
    "m = 0\n",
    "\n",
    "NOTIFY_EVERY_BP=1e6\n",
    "\n",
    "all_kmers_to_hashes_of_interest = {}\n",
    "\n",
    "watermark = NOTIFY_EVERY_BP\n",
    "\n",
    "with open(\"bladder_test_cells_different_hashes.fasta\", 'w') as f:\n",
    "\n",
    "    for fastq in fastqs:\n",
    "        sample_id = os.path.basename(fastq).split(\"_R\")[0]\n",
    "        for record in screed.open(fastq):\n",
    "            n += len(record.sequence)\n",
    "            while n >= watermark:\n",
    "                sys.stderr.write('... {} {}\\r'.format(watermark, fastq))\n",
    "                watermark += NOTIFY_EVERY_BP\n",
    "\n",
    "            minhash.add_sequence(record.sequence, force=True)\n",
    "            hashes = set(minhash.get_hashes())\n",
    "            match = hashes.intersection(query_hashes)\n",
    "            if match:\n",
    "                n_kmers = len(record.sequence) - ksize + 1\n",
    "                kmers = [record.sequence[i:(i+ksize)] for i in range(n_kmers)]\n",
    "                hashed_kmers = [hash_murmur(kmer) for kmer in kmers]\n",
    "                kmer_to_hash = dict(zip(kmers, hashed_kmers))\n",
    "\n",
    "                kmer_to_hashes_of_interest = {kmer: h for kmer, h in kmer_to_hash.items() if h in query_hashes}\n",
    "                if len(kmer_to_hashes_of_interest) != len(match):\n",
    "                    print(\"Something is weird! Not all the hashes were found...\")\n",
    "                    print(match)\n",
    "                    break\n",
    "                all_kmers_to_hashes_of_interest.update(kmer_to_hashes_of_interest)\n",
    "            if len(all_kmers_to_hashes_of_interest) == len(query_hashes):\n",
    "                print(\"Found all hashes! Exiting.\")\n",
    "                break"
   ]
  },
  {
   "cell_type": "code",
   "execution_count": null,
   "metadata": {},
   "outputs": [],
   "source": []
  }
 ],
 "metadata": {
  "kernelspec": {
   "display_name": "Python [conda env:sourmash-sbt2knn]",
   "language": "python",
   "name": "conda-env-sourmash-sbt2knn-py"
  },
  "language_info": {
   "codemirror_mode": {
    "name": "ipython",
    "version": 3
   },
   "file_extension": ".py",
   "mimetype": "text/x-python",
   "name": "python",
   "nbconvert_exporter": "python",
   "pygments_lexer": "ipython3",
   "version": "3.7.3"
  }
 },
 "nbformat": 4,
 "nbformat_minor": 4
}
