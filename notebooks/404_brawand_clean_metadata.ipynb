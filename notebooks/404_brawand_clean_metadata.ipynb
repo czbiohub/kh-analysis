{
 "cells": [
  {
   "cell_type": "code",
   "execution_count": 1,
   "metadata": {
    "execution_event_id": "80286569-bfae-410b-a37c-a443f324836a",
    "last_executed_text": "import itertools\n\nimport pandas as pd\npd.options.display.max_columns = 50\n\nsra_run_table = pd.read_csv(\"../metadata/brawand2011_sra_run_table.csv\")\nprint(sra_run_table.shape)\nsra_run_table.head()",
    "persistent_id": "2cc7e5fc-29f7-4d9f-81c1-a57e8070042b"
   },
   "outputs": [
    {
     "name": "stdout",
     "output_type": "stream",
     "text": [
      "(149, 32)\n"
     ]
    },
    {
     "data": {
      "text/html": [
       "<div>\n",
       "<style scoped>\n",
       "    .dataframe tbody tr th:only-of-type {\n",
       "        vertical-align: middle;\n",
       "    }\n",
       "\n",
       "    .dataframe tbody tr th {\n",
       "        vertical-align: top;\n",
       "    }\n",
       "\n",
       "    .dataframe thead th {\n",
       "        text-align: right;\n",
       "    }\n",
       "</style>\n",
       "<table border=\"1\" class=\"dataframe\">\n",
       "  <thead>\n",
       "    <tr style=\"text-align: right;\">\n",
       "      <th></th>\n",
       "      <th>Run</th>\n",
       "      <th>Assay Type</th>\n",
       "      <th>AvgSpotLen</th>\n",
       "      <th>BioProject</th>\n",
       "      <th>BioSample</th>\n",
       "      <th>Center Name</th>\n",
       "      <th>Consent</th>\n",
       "      <th>DATASTORE filetype</th>\n",
       "      <th>DATASTORE provider</th>\n",
       "      <th>DATASTORE region</th>\n",
       "      <th>Experiment</th>\n",
       "      <th>GEO_Accession</th>\n",
       "      <th>Instrument</th>\n",
       "      <th>Library Name</th>\n",
       "      <th>LibraryLayout</th>\n",
       "      <th>LibrarySelection</th>\n",
       "      <th>LibrarySource</th>\n",
       "      <th>MBases</th>\n",
       "      <th>MBytes</th>\n",
       "      <th>Organism</th>\n",
       "      <th>Platform</th>\n",
       "      <th>ReleaseDate</th>\n",
       "      <th>sample_acc</th>\n",
       "      <th>Sample Name</th>\n",
       "      <th>source_name</th>\n",
       "      <th>SRA Study</th>\n",
       "      <th>tissue_source</th>\n",
       "      <th>gender</th>\n",
       "      <th>rin</th>\n",
       "      <th>Age</th>\n",
       "      <th>Extraction</th>\n",
       "      <th>sex</th>\n",
       "    </tr>\n",
       "  </thead>\n",
       "  <tbody>\n",
       "    <tr>\n",
       "      <td>0</td>\n",
       "      <td>SRR306710</td>\n",
       "      <td>RNA-Seq</td>\n",
       "      <td>76</td>\n",
       "      <td>PRJNA143627</td>\n",
       "      <td>SAMN00632119</td>\n",
       "      <td>GEO</td>\n",
       "      <td>public</td>\n",
       "      <td>sra</td>\n",
       "      <td>gs,ncbi,s3</td>\n",
       "      <td>gs.US,ncbi.public,s3.us-east-1</td>\n",
       "      <td>SRX081869</td>\n",
       "      <td>GSM752557</td>\n",
       "      <td>Illumina Genome Analyzer IIx</td>\n",
       "      <td>GSM752557: gga br F 1</td>\n",
       "      <td>SINGLE</td>\n",
       "      <td>cDNA</td>\n",
       "      <td>TRANSCRIPTOMIC</td>\n",
       "      <td>1480</td>\n",
       "      <td>1134</td>\n",
       "      <td>Gallus gallus</td>\n",
       "      <td>ILLUMINA</td>\n",
       "      <td>2011-10-14T00:00:00Z</td>\n",
       "      <td>SRS213961</td>\n",
       "      <td>GSM752557</td>\n",
       "      <td>Brain</td>\n",
       "      <td>SRP007412</td>\n",
       "      <td>Facility of Linkoping University, Sweden</td>\n",
       "      <td>female</td>\n",
       "      <td>9.4</td>\n",
       "      <td>~1 year\\, adult</td>\n",
       "      <td>Rneasy Lipid</td>\n",
       "      <td>NaN</td>\n",
       "    </tr>\n",
       "    <tr>\n",
       "      <td>1</td>\n",
       "      <td>SRR306711</td>\n",
       "      <td>RNA-Seq</td>\n",
       "      <td>76</td>\n",
       "      <td>PRJNA143627</td>\n",
       "      <td>SAMN00632120</td>\n",
       "      <td>GEO</td>\n",
       "      <td>public</td>\n",
       "      <td>sra</td>\n",
       "      <td>gs,ncbi,s3</td>\n",
       "      <td>gs.US,ncbi.public,s3.us-east-1</td>\n",
       "      <td>SRX081870</td>\n",
       "      <td>GSM752558</td>\n",
       "      <td>Illumina Genome Analyzer IIx</td>\n",
       "      <td>GSM752558: gga br M 1</td>\n",
       "      <td>SINGLE</td>\n",
       "      <td>cDNA</td>\n",
       "      <td>TRANSCRIPTOMIC</td>\n",
       "      <td>1334</td>\n",
       "      <td>990</td>\n",
       "      <td>Gallus gallus</td>\n",
       "      <td>ILLUMINA</td>\n",
       "      <td>2011-10-14T00:00:00Z</td>\n",
       "      <td>SRS213962</td>\n",
       "      <td>GSM752558</td>\n",
       "      <td>Brain</td>\n",
       "      <td>SRP007412</td>\n",
       "      <td>Facility of Linkoping University, Sweden</td>\n",
       "      <td>male</td>\n",
       "      <td>9.1</td>\n",
       "      <td>~1 year\\, adult</td>\n",
       "      <td>Standard</td>\n",
       "      <td>NaN</td>\n",
       "    </tr>\n",
       "    <tr>\n",
       "      <td>2</td>\n",
       "      <td>SRR306712</td>\n",
       "      <td>RNA-Seq</td>\n",
       "      <td>76</td>\n",
       "      <td>PRJNA143627</td>\n",
       "      <td>SAMN00632121</td>\n",
       "      <td>GEO</td>\n",
       "      <td>public</td>\n",
       "      <td>sra</td>\n",
       "      <td>gs,ncbi,s3</td>\n",
       "      <td>gs.US,ncbi.public,s3.us-east-1</td>\n",
       "      <td>SRX081871</td>\n",
       "      <td>GSM752559</td>\n",
       "      <td>Illumina Genome Analyzer IIx</td>\n",
       "      <td>GSM752559: gga cb F 1</td>\n",
       "      <td>SINGLE</td>\n",
       "      <td>cDNA</td>\n",
       "      <td>TRANSCRIPTOMIC</td>\n",
       "      <td>1795</td>\n",
       "      <td>1339</td>\n",
       "      <td>Gallus gallus</td>\n",
       "      <td>ILLUMINA</td>\n",
       "      <td>2011-10-14T00:00:00Z</td>\n",
       "      <td>SRS213963</td>\n",
       "      <td>GSM752559</td>\n",
       "      <td>Cerebellum</td>\n",
       "      <td>SRP007412</td>\n",
       "      <td>Facility of Linkoping University, Sweden</td>\n",
       "      <td>female</td>\n",
       "      <td>9.6</td>\n",
       "      <td>~1 year\\, adult</td>\n",
       "      <td>Standard</td>\n",
       "      <td>NaN</td>\n",
       "    </tr>\n",
       "    <tr>\n",
       "      <td>3</td>\n",
       "      <td>SRR306713</td>\n",
       "      <td>RNA-Seq</td>\n",
       "      <td>76</td>\n",
       "      <td>PRJNA143627</td>\n",
       "      <td>SAMN00632122</td>\n",
       "      <td>GEO</td>\n",
       "      <td>public</td>\n",
       "      <td>sra</td>\n",
       "      <td>gs,ncbi,s3</td>\n",
       "      <td>gs.US,ncbi.public,s3.us-east-1</td>\n",
       "      <td>SRX081872</td>\n",
       "      <td>GSM752560</td>\n",
       "      <td>Illumina Genome Analyzer IIx</td>\n",
       "      <td>GSM752560: gga cb M 1</td>\n",
       "      <td>SINGLE</td>\n",
       "      <td>cDNA</td>\n",
       "      <td>TRANSCRIPTOMIC</td>\n",
       "      <td>1670</td>\n",
       "      <td>1282</td>\n",
       "      <td>Gallus gallus</td>\n",
       "      <td>ILLUMINA</td>\n",
       "      <td>2011-10-14T00:00:00Z</td>\n",
       "      <td>SRS213964</td>\n",
       "      <td>GSM752560</td>\n",
       "      <td>Cerebellum</td>\n",
       "      <td>SRP007412</td>\n",
       "      <td>Facility of Linkoping University, Sweden</td>\n",
       "      <td>male</td>\n",
       "      <td>9.2</td>\n",
       "      <td>~1 year\\, adult</td>\n",
       "      <td>Rneasy Lipid</td>\n",
       "      <td>NaN</td>\n",
       "    </tr>\n",
       "    <tr>\n",
       "      <td>4</td>\n",
       "      <td>SRR306714</td>\n",
       "      <td>RNA-Seq</td>\n",
       "      <td>76</td>\n",
       "      <td>PRJNA143627</td>\n",
       "      <td>SAMN00632123</td>\n",
       "      <td>GEO</td>\n",
       "      <td>public</td>\n",
       "      <td>sra</td>\n",
       "      <td>gs,ncbi,s3</td>\n",
       "      <td>gs.US,ncbi.public,s3.us-east-1</td>\n",
       "      <td>SRX081873</td>\n",
       "      <td>GSM752561</td>\n",
       "      <td>Illumina Genome Analyzer IIx</td>\n",
       "      <td>GSM752561: gga ht F 1</td>\n",
       "      <td>SINGLE</td>\n",
       "      <td>cDNA</td>\n",
       "      <td>TRANSCRIPTOMIC</td>\n",
       "      <td>1748</td>\n",
       "      <td>1302</td>\n",
       "      <td>Gallus gallus</td>\n",
       "      <td>ILLUMINA</td>\n",
       "      <td>2011-10-14T00:00:00Z</td>\n",
       "      <td>SRS213965</td>\n",
       "      <td>GSM752561</td>\n",
       "      <td>Heart</td>\n",
       "      <td>SRP007412</td>\n",
       "      <td>Facility of Linkoping University, Sweden</td>\n",
       "      <td>female</td>\n",
       "      <td>9.0</td>\n",
       "      <td>~1 year\\, adult</td>\n",
       "      <td>Standard</td>\n",
       "      <td>NaN</td>\n",
       "    </tr>\n",
       "  </tbody>\n",
       "</table>\n",
       "</div>"
      ],
      "text/plain": [
       "         Run Assay Type  AvgSpotLen   BioProject     BioSample Center Name  \\\n",
       "0  SRR306710    RNA-Seq          76  PRJNA143627  SAMN00632119         GEO   \n",
       "1  SRR306711    RNA-Seq          76  PRJNA143627  SAMN00632120         GEO   \n",
       "2  SRR306712    RNA-Seq          76  PRJNA143627  SAMN00632121         GEO   \n",
       "3  SRR306713    RNA-Seq          76  PRJNA143627  SAMN00632122         GEO   \n",
       "4  SRR306714    RNA-Seq          76  PRJNA143627  SAMN00632123         GEO   \n",
       "\n",
       "  Consent DATASTORE filetype DATASTORE provider  \\\n",
       "0  public                sra         gs,ncbi,s3   \n",
       "1  public                sra         gs,ncbi,s3   \n",
       "2  public                sra         gs,ncbi,s3   \n",
       "3  public                sra         gs,ncbi,s3   \n",
       "4  public                sra         gs,ncbi,s3   \n",
       "\n",
       "                 DATASTORE region Experiment GEO_Accession  \\\n",
       "0  gs.US,ncbi.public,s3.us-east-1  SRX081869     GSM752557   \n",
       "1  gs.US,ncbi.public,s3.us-east-1  SRX081870     GSM752558   \n",
       "2  gs.US,ncbi.public,s3.us-east-1  SRX081871     GSM752559   \n",
       "3  gs.US,ncbi.public,s3.us-east-1  SRX081872     GSM752560   \n",
       "4  gs.US,ncbi.public,s3.us-east-1  SRX081873     GSM752561   \n",
       "\n",
       "                     Instrument           Library Name LibraryLayout  \\\n",
       "0  Illumina Genome Analyzer IIx  GSM752557: gga br F 1        SINGLE   \n",
       "1  Illumina Genome Analyzer IIx  GSM752558: gga br M 1        SINGLE   \n",
       "2  Illumina Genome Analyzer IIx  GSM752559: gga cb F 1        SINGLE   \n",
       "3  Illumina Genome Analyzer IIx  GSM752560: gga cb M 1        SINGLE   \n",
       "4  Illumina Genome Analyzer IIx  GSM752561: gga ht F 1        SINGLE   \n",
       "\n",
       "  LibrarySelection   LibrarySource  MBases  MBytes       Organism  Platform  \\\n",
       "0             cDNA  TRANSCRIPTOMIC    1480    1134  Gallus gallus  ILLUMINA   \n",
       "1             cDNA  TRANSCRIPTOMIC    1334     990  Gallus gallus  ILLUMINA   \n",
       "2             cDNA  TRANSCRIPTOMIC    1795    1339  Gallus gallus  ILLUMINA   \n",
       "3             cDNA  TRANSCRIPTOMIC    1670    1282  Gallus gallus  ILLUMINA   \n",
       "4             cDNA  TRANSCRIPTOMIC    1748    1302  Gallus gallus  ILLUMINA   \n",
       "\n",
       "            ReleaseDate sample_acc Sample Name source_name  SRA Study  \\\n",
       "0  2011-10-14T00:00:00Z  SRS213961   GSM752557       Brain  SRP007412   \n",
       "1  2011-10-14T00:00:00Z  SRS213962   GSM752558       Brain  SRP007412   \n",
       "2  2011-10-14T00:00:00Z  SRS213963   GSM752559  Cerebellum  SRP007412   \n",
       "3  2011-10-14T00:00:00Z  SRS213964   GSM752560  Cerebellum  SRP007412   \n",
       "4  2011-10-14T00:00:00Z  SRS213965   GSM752561       Heart  SRP007412   \n",
       "\n",
       "                              tissue_source  gender  rin              Age  \\\n",
       "0  Facility of Linkoping University, Sweden  female  9.4  ~1 year\\, adult   \n",
       "1  Facility of Linkoping University, Sweden    male  9.1  ~1 year\\, adult   \n",
       "2  Facility of Linkoping University, Sweden  female  9.6  ~1 year\\, adult   \n",
       "3  Facility of Linkoping University, Sweden    male  9.2  ~1 year\\, adult   \n",
       "4  Facility of Linkoping University, Sweden  female  9.0  ~1 year\\, adult   \n",
       "\n",
       "     Extraction  sex  \n",
       "0  Rneasy Lipid  NaN  \n",
       "1      Standard  NaN  \n",
       "2      Standard  NaN  \n",
       "3  Rneasy Lipid  NaN  \n",
       "4      Standard  NaN  "
      ]
     },
     "execution_count": 1,
     "metadata": {},
     "output_type": "execute_result"
    }
   ],
   "source": [
    "import itertools\n",
    "\n",
    "import pandas as pd\n",
    "pd.options.display.max_columns = 50\n",
    "\n",
    "sra_run_table = pd.read_csv(\"../metadata/brawand2011_sra_run_table.csv\")\n",
    "print(sra_run_table.shape)\n",
    "sra_run_table.head()"
   ]
  },
  {
   "cell_type": "markdown",
   "metadata": {
    "persistent_id": "8443e158-ac11-43d7-91eb-cc37d52fe7b5"
   },
   "source": [
    "## Check on metadata entries for duplicates or things that need cleaning"
   ]
  },
  {
   "cell_type": "code",
   "execution_count": 11,
   "metadata": {
    "execution_event_id": "aadf8c4c-1028-4f96-9ec5-0a1cf4e80c71",
    "last_executed_text": "sra_run_table.Organism.value_counts()",
    "persistent_id": "c021d753-a0d7-4fe2-a371-9f79fa604921"
   },
   "outputs": [
    {
     "data": {
      "text/plain": [
       "Homo sapiens                21\n",
       "Mus musculus                20\n",
       "Ornithorhynchus anatinus    18\n",
       "Pan troglodytes             15\n",
       "Monodelphis domestica       15\n",
       "Gallus gallus               14\n",
       "Macaca mulatta              14\n",
       "Pan paniscus                12\n",
       "Gorilla gorilla             11\n",
       "Pongo pygmaeus               9\n",
       "Name: Organism, dtype: int64"
      ]
     },
     "execution_count": 11,
     "metadata": {},
     "output_type": "execute_result"
    }
   ],
   "source": [
    "sra_run_table.Organism.value_counts()"
   ]
  },
  {
   "cell_type": "code",
   "execution_count": 4,
   "metadata": {
    "execution_event_id": "7e481a6e-7e51-4172-a129-53f2207c9aab",
    "last_executed_text": "sra_run_table.source_name.value_counts()",
    "persistent_id": "879edfdd-4331-479e-b7ea-1df615adca36"
   },
   "outputs": [
    {
     "data": {
      "text/plain": [
       "Liver                        26\n",
       "Heart                        25\n",
       "Kidney                       23\n",
       "Cerebellum                   21\n",
       "Brain                        17\n",
       "Testis                       17\n",
       "Brain\\, prefrontal cortex    17\n",
       "Brain\\, frontal cortex        2\n",
       "Brain\\, temporal lobe         1\n",
       "Name: source_name, dtype: int64"
      ]
     },
     "execution_count": 4,
     "metadata": {},
     "output_type": "execute_result"
    }
   ],
   "source": [
    "sra_run_table.source_name.value_counts()"
   ]
  },
  {
   "cell_type": "code",
   "execution_count": 10,
   "metadata": {
    "execution_event_id": "7009a520-5328-4669-bd7a-9958aaab94ed",
    "last_executed_text": "sra_run_table['tissue'] = sra_run_table['source_name'].str.split('\\\\').str[0]\nsra_run_table.tissue.value_counts()",
    "persistent_id": "56b87307-3d41-4f33-a38b-3f168637a213"
   },
   "outputs": [
    {
     "data": {
      "text/plain": [
       "Brain         37\n",
       "Liver         26\n",
       "Heart         25\n",
       "Kidney        23\n",
       "Cerebellum    21\n",
       "Testis        17\n",
       "Name: tissue, dtype: int64"
      ]
     },
     "execution_count": 10,
     "metadata": {},
     "output_type": "execute_result"
    }
   ],
   "source": [
    "sra_run_table['tissue'] = sra_run_table['source_name'].str.split('\\\\').str[0]\n",
    "sra_run_table.tissue.value_counts()"
   ]
  },
  {
   "cell_type": "code",
   "execution_count": 5,
   "metadata": {
    "execution_event_id": "fddf5091-8fa7-4c9a-b594-0a368b9626a4",
    "last_executed_text": "sra_run_table.sex.value_counts()",
    "persistent_id": "20cefa8b-aea7-4e64-935a-bf5ad0594115"
   },
   "outputs": [
    {
     "data": {
      "text/plain": [
       "Female (note: this sample was originally provided as a \"male\" sample to us and therefore labeled this way in the Brawand et al. paper and original GEO submission; however, detailed data analyses carried out in the meantime clearly show that this samp    1\n",
       "Name: sex, dtype: int64"
      ]
     },
     "execution_count": 5,
     "metadata": {},
     "output_type": "execute_result"
    }
   ],
   "source": [
    "sra_run_table.sex.value_counts()"
   ]
  },
  {
   "cell_type": "code",
   "execution_count": 6,
   "metadata": {
    "execution_event_id": "664adc88-c9f8-4461-a721-1fac233035c6",
    "last_executed_text": "sra_run_table.gender.value_counts()",
    "persistent_id": "1a23ebdb-ad2e-4e0e-86d9-616a6e59774a"
   },
   "outputs": [
    {
     "data": {
      "text/plain": [
       "male      95\n",
       "female    53\n",
       "Name: gender, dtype: int64"
      ]
     },
     "execution_count": 6,
     "metadata": {},
     "output_type": "execute_result"
    }
   ],
   "source": [
    "sra_run_table.gender.value_counts()"
   ]
  },
  {
   "cell_type": "code",
   "execution_count": 9,
   "metadata": {
    "execution_event_id": "10397725-72e8-443a-bf28-71bba77278ac",
    "last_executed_text": "sra_run_table['sex_cleaned'] = sra_run_table.apply(lambda x: x['gender'] if pd.isnull(x['sex']) else 'female', axis=1)\nsra_run_table.sex_cleaned.value_counts()",
    "persistent_id": "c3479dfc-a7ca-463e-ba46-372a97382bcb"
   },
   "outputs": [
    {
     "data": {
      "text/plain": [
       "male      95\n",
       "female    54\n",
       "Name: sex_cleaned, dtype: int64"
      ]
     },
     "execution_count": 9,
     "metadata": {},
     "output_type": "execute_result"
    }
   ],
   "source": [
    "sra_run_table['sex_cleaned'] = sra_run_table.apply(lambda x: x['gender'] if pd.isnull(x['sex']) else 'female', axis=1)\n",
    "sra_run_table.sex_cleaned.value_counts()"
   ]
  },
  {
   "cell_type": "code",
   "execution_count": null,
   "metadata": {
    "persistent_id": "867629ce-e81f-44b3-a31a-d8d7766cd226"
   },
   "outputs": [],
   "source": [
    "sra_run_table"
   ]
  },
  {
   "cell_type": "code",
   "execution_count": 2,
   "metadata": {
    "execution_event_id": "f90f7e2c-a20d-4b40-87a3-3b743a1b6376",
    "last_executed_text": "def sanitize_name(name):\n    stripped = name.strip()\n    no_spaces = stripped.replace(' ', '_')\n    no_colons = no_spaces.replace(':', '')\n    return no_colons\n\nsra_run_table['sanitized_name'] = sra_run_table['Library Name'].map(sanitize_name)\nsra_run_table['sanitized_name'].sample(5)",
    "persistent_id": "28ffb612-1d2c-40b8-8080-1df341b8af6b"
   },
   "outputs": [
    {
     "data": {
      "text/plain": [
       "125    GSM752690_ppa_ts_M_1\n",
       "19     GSM752572_oan_cb_M_1\n",
       "77     GSM752641_mml_lv_M_1\n",
       "124    GSM752689_ppa_lv_M_1\n",
       "128    GSM752693_hsa_br_M_1\n",
       "Name: sanitized_name, dtype: object"
      ]
     },
     "execution_count": 2,
     "metadata": {},
     "output_type": "execute_result"
    }
   ],
   "source": [
    "def sanitize_name(name):\n",
    "    stripped = name.strip()\n",
    "    no_spaces = stripped.replace(' ', '_')\n",
    "    no_colons = no_spaces.replace(':', '')\n",
    "    return no_colons\n",
    "\n",
    "sra_run_table['sanitized_name'] = sra_run_table['Library Name'].map(sanitize_name)\n",
    "sra_run_table['sanitized_name'].sample(5)"
   ]
  },
  {
   "cell_type": "code",
   "execution_count": 3,
   "metadata": {
    "execution_event_id": "2f7161a4-ef71-4b5e-aac5-27e0b147ecd1",
    "last_executed_text": "sra_run_table['sanitized_name_with_run'] = sra_run_table['Run'] + \"_\" + sra_run_table['sanitized_name']\nsra_run_table['sanitized_name_with_run'].sample(5)",
    "persistent_id": "524b5e37-eb8b-4919-bfbb-7175e71df329"
   },
   "outputs": [
    {
     "data": {
      "text/plain": [
       "128    SRR306840_GSM752693_hsa_br_M_1\n",
       "96     SRR306808_GSM752661_ggo_lv_F_1\n",
       "54     SRR306765_GSM752619_mmu_cb_M_2\n",
       "126    SRR306838_GSM752691_hsa_br_F_1\n",
       "58     SRR306769_GSM752623_mmu_kd_F_1\n",
       "Name: sanitized_name_with_run, dtype: object"
      ]
     },
     "execution_count": 3,
     "metadata": {},
     "output_type": "execute_result"
    }
   ],
   "source": [
    "sra_run_table['sanitized_name_with_run'] = sra_run_table['Run'] + \"_\" + sra_run_table['sanitized_name']\n",
    "sra_run_table['sanitized_name_with_run'].sample(5)"
   ]
  },
  {
   "cell_type": "code",
   "execution_count": 13,
   "metadata": {
    "execution_event_id": "a3cdaba5-5cf9-44fe-b35f-35dab9f3d379",
    "last_executed_text": "sra_run_table.to_csv(\"../metadata/brawand2011_metadata.csv\", index=False)",
    "persistent_id": "56a214a1-c8d4-496b-ae26-7ca20d11a928"
   },
   "outputs": [],
   "source": [
    "sra_run_table.to_csv(\"../metadata/brawand2011_metadata.csv\", index=False)"
   ]
  },
  {
   "cell_type": "code",
   "execution_count": null,
   "metadata": {
    "persistent_id": "c0da2d43-7d62-432a-87ba-4d2021c9f007"
   },
   "outputs": [],
   "source": []
  }
 ],
 "metadata": {
  "history": [
   {
    "cell": {
     "executionCount": 1,
     "executionEventId": "80286569-bfae-410b-a37c-a443f324836a",
     "hasError": false,
     "id": "e3c8e3a3-4b52-4495-8cb6-94614b5ab926",
     "outputs": [
      {
       "name": "stdout",
       "output_type": "stream",
       "text": "(149, 32)\n"
      },
      {
       "data": {
        "text/html": "<div>\n<style scoped>\n    .dataframe tbody tr th:only-of-type {\n        vertical-align: middle;\n    }\n\n    .dataframe tbody tr th {\n        vertical-align: top;\n    }\n\n    .dataframe thead th {\n        text-align: right;\n    }\n</style>\n<table border=\"1\" class=\"dataframe\">\n  <thead>\n    <tr style=\"text-align: right;\">\n      <th></th>\n      <th>Run</th>\n      <th>Assay Type</th>\n      <th>AvgSpotLen</th>\n      <th>BioProject</th>\n      <th>BioSample</th>\n      <th>Center Name</th>\n      <th>Consent</th>\n      <th>DATASTORE filetype</th>\n      <th>DATASTORE provider</th>\n      <th>DATASTORE region</th>\n      <th>Experiment</th>\n      <th>GEO_Accession</th>\n      <th>Instrument</th>\n      <th>Library Name</th>\n      <th>LibraryLayout</th>\n      <th>LibrarySelection</th>\n      <th>LibrarySource</th>\n      <th>MBases</th>\n      <th>MBytes</th>\n      <th>Organism</th>\n      <th>Platform</th>\n      <th>ReleaseDate</th>\n      <th>sample_acc</th>\n      <th>Sample Name</th>\n      <th>source_name</th>\n      <th>SRA Study</th>\n      <th>tissue_source</th>\n      <th>gender</th>\n      <th>rin</th>\n      <th>Age</th>\n      <th>Extraction</th>\n      <th>sex</th>\n    </tr>\n  </thead>\n  <tbody>\n    <tr>\n      <td>0</td>\n      <td>SRR306710</td>\n      <td>RNA-Seq</td>\n      <td>76</td>\n      <td>PRJNA143627</td>\n      <td>SAMN00632119</td>\n      <td>GEO</td>\n      <td>public</td>\n      <td>sra</td>\n      <td>gs,ncbi,s3</td>\n      <td>gs.US,ncbi.public,s3.us-east-1</td>\n      <td>SRX081869</td>\n      <td>GSM752557</td>\n      <td>Illumina Genome Analyzer IIx</td>\n      <td>GSM752557: gga br F 1</td>\n      <td>SINGLE</td>\n      <td>cDNA</td>\n      <td>TRANSCRIPTOMIC</td>\n      <td>1480</td>\n      <td>1134</td>\n      <td>Gallus gallus</td>\n      <td>ILLUMINA</td>\n      <td>2011-10-14T00:00:00Z</td>\n      <td>SRS213961</td>\n      <td>GSM752557</td>\n      <td>Brain</td>\n      <td>SRP007412</td>\n      <td>Facility of Linkoping University, Sweden</td>\n      <td>female</td>\n      <td>9.4</td>\n      <td>~1 year\\, adult</td>\n      <td>Rneasy Lipid</td>\n      <td>NaN</td>\n    </tr>\n    <tr>\n      <td>1</td>\n      <td>SRR306711</td>\n      <td>RNA-Seq</td>\n      <td>76</td>\n      <td>PRJNA143627</td>\n      <td>SAMN00632120</td>\n      <td>GEO</td>\n      <td>public</td>\n      <td>sra</td>\n      <td>gs,ncbi,s3</td>\n      <td>gs.US,ncbi.public,s3.us-east-1</td>\n      <td>SRX081870</td>\n      <td>GSM752558</td>\n      <td>Illumina Genome Analyzer IIx</td>\n      <td>GSM752558: gga br M 1</td>\n      <td>SINGLE</td>\n      <td>cDNA</td>\n      <td>TRANSCRIPTOMIC</td>\n      <td>1334</td>\n      <td>990</td>\n      <td>Gallus gallus</td>\n      <td>ILLUMINA</td>\n      <td>2011-10-14T00:00:00Z</td>\n      <td>SRS213962</td>\n      <td>GSM752558</td>\n      <td>Brain</td>\n      <td>SRP007412</td>\n      <td>Facility of Linkoping University, Sweden</td>\n      <td>male</td>\n      <td>9.1</td>\n      <td>~1 year\\, adult</td>\n      <td>Standard</td>\n      <td>NaN</td>\n    </tr>\n    <tr>\n      <td>2</td>\n      <td>SRR306712</td>\n      <td>RNA-Seq</td>\n      <td>76</td>\n      <td>PRJNA143627</td>\n      <td>SAMN00632121</td>\n      <td>GEO</td>\n      <td>public</td>\n      <td>sra</td>\n      <td>gs,ncbi,s3</td>\n      <td>gs.US,ncbi.public,s3.us-east-1</td>\n      <td>SRX081871</td>\n      <td>GSM752559</td>\n      <td>Illumina Genome Analyzer IIx</td>\n      <td>GSM752559: gga cb F 1</td>\n      <td>SINGLE</td>\n      <td>cDNA</td>\n      <td>TRANSCRIPTOMIC</td>\n      <td>1795</td>\n      <td>1339</td>\n      <td>Gallus gallus</td>\n      <td>ILLUMINA</td>\n      <td>2011-10-14T00:00:00Z</td>\n      <td>SRS213963</td>\n      <td>GSM752559</td>\n      <td>Cerebellum</td>\n      <td>SRP007412</td>\n      <td>Facility of Linkoping University, Sweden</td>\n      <td>female</td>\n      <td>9.6</td>\n      <td>~1 year\\, adult</td>\n      <td>Standard</td>\n      <td>NaN</td>\n    </tr>\n    <tr>\n      <td>3</td>\n      <td>SRR306713</td>\n      <td>RNA-Seq</td>\n      <td>76</td>\n      <td>PRJNA143627</td>\n      <td>SAMN00632122</td>\n      <td>GEO</td>\n      <td>public</td>\n      <td>sra</td>\n      <td>gs,ncbi,s3</td>\n      <td>gs.US,ncbi.public,s3.us-east-1</td>\n      <td>SRX081872</td>\n      <td>GSM752560</td>\n      <td>Illumina Genome Analyzer IIx</td>\n      <td>GSM752560: gga cb M 1</td>\n      <td>SINGLE</td>\n      <td>cDNA</td>\n      <td>TRANSCRIPTOMIC</td>\n      <td>1670</td>\n      <td>1282</td>\n      <td>Gallus gallus</td>\n      <td>ILLUMINA</td>\n      <td>2011-10-14T00:00:00Z</td>\n      <td>SRS213964</td>\n      <td>GSM752560</td>\n      <td>Cerebellum</td>\n      <td>SRP007412</td>\n      <td>Facility of Linkoping University, Sweden</td>\n      <td>male</td>\n      <td>9.2</td>\n      <td>~1 year\\, adult</td>\n      <td>Rneasy Lipid</td>\n      <td>NaN</td>\n    </tr>\n    <tr>\n      <td>4</td>\n      <td>SRR306714</td>\n      <td>RNA-Seq</td>\n      <td>76</td>\n      <td>PRJNA143627</td>\n      <td>SAMN00632123</td>\n      <td>GEO</td>\n      <td>public</td>\n      <td>sra</td>\n      <td>gs,ncbi,s3</td>\n      <td>gs.US,ncbi.public,s3.us-east-1</td>\n      <td>SRX081873</td>\n      <td>GSM752561</td>\n      <td>Illumina Genome Analyzer IIx</td>\n      <td>GSM752561: gga ht F 1</td>\n      <td>SINGLE</td>\n      <td>cDNA</td>\n      <td>TRANSCRIPTOMIC</td>\n      <td>1748</td>\n      <td>1302</td>\n      <td>Gallus gallus</td>\n      <td>ILLUMINA</td>\n      <td>2011-10-14T00:00:00Z</td>\n      <td>SRS213965</td>\n      <td>GSM752561</td>\n      <td>Heart</td>\n      <td>SRP007412</td>\n      <td>Facility of Linkoping University, Sweden</td>\n      <td>female</td>\n      <td>9.0</td>\n      <td>~1 year\\, adult</td>\n      <td>Standard</td>\n      <td>NaN</td>\n    </tr>\n  </tbody>\n</table>\n</div>",
        "text/plain": "         Run Assay Type  AvgSpotLen   BioProject     BioSample Center Name  \\\n0  SRR306710    RNA-Seq          76  PRJNA143627  SAMN00632119         GEO   \n1  SRR306711    RNA-Seq          76  PRJNA143627  SAMN00632120         GEO   \n2  SRR306712    RNA-Seq          76  PRJNA143627  SAMN00632121         GEO   \n3  SRR306713    RNA-Seq          76  PRJNA143627  SAMN00632122         GEO   \n4  SRR306714    RNA-Seq          76  PRJNA143627  SAMN00632123         GEO   \n\n  Consent DATASTORE filetype DATASTORE provider  \\\n0  public                sra         gs,ncbi,s3   \n1  public                sra         gs,ncbi,s3   \n2  public                sra         gs,ncbi,s3   \n3  public                sra         gs,ncbi,s3   \n4  public                sra         gs,ncbi,s3   \n\n                 DATASTORE region Experiment GEO_Accession  \\\n0  gs.US,ncbi.public,s3.us-east-1  SRX081869     GSM752557   \n1  gs.US,ncbi.public,s3.us-east-1  SRX081870     GSM752558   \n2  gs.US,ncbi.public,s3.us-east-1  SRX081871     GSM752559   \n3  gs.US,ncbi.public,s3.us-east-1  SRX081872     GSM752560   \n4  gs.US,ncbi.public,s3.us-east-1  SRX081873     GSM752561   \n\n                     Instrument           Library Name LibraryLayout  \\\n0  Illumina Genome Analyzer IIx  GSM752557: gga br F 1        SINGLE   \n1  Illumina Genome Analyzer IIx  GSM752558: gga br M 1        SINGLE   \n2  Illumina Genome Analyzer IIx  GSM752559: gga cb F 1        SINGLE   \n3  Illumina Genome Analyzer IIx  GSM752560: gga cb M 1        SINGLE   \n4  Illumina Genome Analyzer IIx  GSM752561: gga ht F 1        SINGLE   \n\n  LibrarySelection   LibrarySource  MBases  MBytes       Organism  Platform  \\\n0             cDNA  TRANSCRIPTOMIC    1480    1134  Gallus gallus  ILLUMINA   \n1             cDNA  TRANSCRIPTOMIC    1334     990  Gallus gallus  ILLUMINA   \n2             cDNA  TRANSCRIPTOMIC    1795    1339  Gallus gallus  ILLUMINA   \n3             cDNA  TRANSCRIPTOMIC    1670    1282  Gallus gallus  ILLUMINA   \n4             cDNA  TRANSCRIPTOMIC    1748    1302  Gallus gallus  ILLUMINA   \n\n            ReleaseDate sample_acc Sample Name source_name  SRA Study  \\\n0  2011-10-14T00:00:00Z  SRS213961   GSM752557       Brain  SRP007412   \n1  2011-10-14T00:00:00Z  SRS213962   GSM752558       Brain  SRP007412   \n2  2011-10-14T00:00:00Z  SRS213963   GSM752559  Cerebellum  SRP007412   \n3  2011-10-14T00:00:00Z  SRS213964   GSM752560  Cerebellum  SRP007412   \n4  2011-10-14T00:00:00Z  SRS213965   GSM752561       Heart  SRP007412   \n\n                              tissue_source  gender  rin              Age  \\\n0  Facility of Linkoping University, Sweden  female  9.4  ~1 year\\, adult   \n1  Facility of Linkoping University, Sweden    male  9.1  ~1 year\\, adult   \n2  Facility of Linkoping University, Sweden  female  9.6  ~1 year\\, adult   \n3  Facility of Linkoping University, Sweden    male  9.2  ~1 year\\, adult   \n4  Facility of Linkoping University, Sweden  female  9.0  ~1 year\\, adult   \n\n     Extraction  sex  \n0  Rneasy Lipid  NaN  \n1      Standard  NaN  \n2      Standard  NaN  \n3  Rneasy Lipid  NaN  \n4      Standard  NaN  "
       },
       "execution_count": 1,
       "metadata": {},
       "output_type": "execute_result"
      }
     ],
     "persistentId": "2cc7e5fc-29f7-4d9f-81c1-a57e8070042b",
     "text": "import itertools\n\nimport pandas as pd\npd.options.display.max_columns = 50\n\nsra_run_table = pd.read_csv(\"../metadata/brawand2011_sra_run_table.csv\")\nprint(sra_run_table.shape)\nsra_run_table.head()"
    },
    "executionTime": "2019-11-05T17:58:34.933Z"
   },
   {
    "cell": {
     "executionCount": 2,
     "executionEventId": "f90f7e2c-a20d-4b40-87a3-3b743a1b6376",
     "hasError": false,
     "id": "c86cf1be-1a83-4cf1-8f80-c1f6e62d1a64",
     "outputs": [
      {
       "data": {
        "text/plain": "125    GSM752690_ppa_ts_M_1\n19     GSM752572_oan_cb_M_1\n77     GSM752641_mml_lv_M_1\n124    GSM752689_ppa_lv_M_1\n128    GSM752693_hsa_br_M_1\nName: sanitized_name, dtype: object"
       },
       "execution_count": 2,
       "metadata": {},
       "output_type": "execute_result"
      }
     ],
     "persistentId": "28ffb612-1d2c-40b8-8080-1df341b8af6b",
     "text": "def sanitize_name(name):\n    stripped = name.strip()\n    no_spaces = stripped.replace(' ', '_')\n    no_colons = no_spaces.replace(':', '')\n    return no_colons\n\nsra_run_table['sanitized_name'] = sra_run_table['Library Name'].map(sanitize_name)\nsra_run_table['sanitized_name'].sample(5)"
    },
    "executionTime": "2019-11-05T17:58:37.718Z"
   },
   {
    "cell": {
     "executionCount": 3,
     "executionEventId": "2f7161a4-ef71-4b5e-aac5-27e0b147ecd1",
     "hasError": false,
     "id": "44d7a13e-414e-4fd2-b78f-5eb5916ed084",
     "outputs": [
      {
       "data": {
        "text/plain": "128    SRR306840_GSM752693_hsa_br_M_1\n96     SRR306808_GSM752661_ggo_lv_F_1\n54     SRR306765_GSM752619_mmu_cb_M_2\n126    SRR306838_GSM752691_hsa_br_F_1\n58     SRR306769_GSM752623_mmu_kd_F_1\nName: sanitized_name_with_run, dtype: object"
       },
       "execution_count": 3,
       "metadata": {},
       "output_type": "execute_result"
      }
     ],
     "persistentId": "524b5e37-eb8b-4919-bfbb-7175e71df329",
     "text": "sra_run_table['sanitized_name_with_run'] = sra_run_table['Run'] + \"_\" + sra_run_table['sanitized_name']\nsra_run_table['sanitized_name_with_run'].sample(5)"
    },
    "executionTime": "2019-11-05T17:58:58.561Z"
   },
   {
    "cell": {
     "executionCount": 4,
     "executionEventId": "7e481a6e-7e51-4172-a129-53f2207c9aab",
     "hasError": false,
     "id": "86767a26-3a20-46d7-a508-87a068454e3b",
     "outputs": [
      {
       "data": {
        "text/plain": "Liver                        26\nHeart                        25\nKidney                       23\nCerebellum                   21\nBrain                        17\nTestis                       17\nBrain\\, prefrontal cortex    17\nBrain\\, frontal cortex        2\nBrain\\, temporal lobe         1\nName: source_name, dtype: int64"
       },
       "execution_count": 4,
       "metadata": {},
       "output_type": "execute_result"
      }
     ],
     "persistentId": "879edfdd-4331-479e-b7ea-1df615adca36",
     "text": "sra_run_table.source_name.value_counts()"
    },
    "executionTime": "2019-11-05T18:00:00.229Z"
   },
   {
    "cell": {
     "executionCount": 5,
     "executionEventId": "fddf5091-8fa7-4c9a-b594-0a368b9626a4",
     "hasError": false,
     "id": "b49245da-a22c-4961-bc8a-0f39ff3eb5dd",
     "outputs": [
      {
       "data": {
        "text/plain": "Female (note: this sample was originally provided as a \"male\" sample to us and therefore labeled this way in the Brawand et al. paper and original GEO submission; however, detailed data analyses carried out in the meantime clearly show that this samp    1\nName: sex, dtype: int64"
       },
       "execution_count": 5,
       "metadata": {},
       "output_type": "execute_result"
      }
     ],
     "persistentId": "20cefa8b-aea7-4e64-935a-bf5ad0594115",
     "text": "sra_run_table.sex.value_counts()"
    },
    "executionTime": "2019-11-05T18:00:16.679Z"
   },
   {
    "cell": {
     "executionCount": 6,
     "executionEventId": "664adc88-c9f8-4461-a721-1fac233035c6",
     "hasError": false,
     "id": "b708ae0d-9ff8-4498-87bb-31c061f34042",
     "outputs": [
      {
       "data": {
        "text/plain": "male      95\nfemale    53\nName: gender, dtype: int64"
       },
       "execution_count": 6,
       "metadata": {},
       "output_type": "execute_result"
      }
     ],
     "persistentId": "1a23ebdb-ad2e-4e0e-86d9-616a6e59774a",
     "text": "sra_run_table.gender.value_counts()"
    },
    "executionTime": "2019-11-05T18:00:20.810Z"
   },
   {
    "cell": {
     "executionCount": 7,
     "executionEventId": "3ebad8fd-8719-4e13-b0bc-84e96eaef5ad",
     "hasError": false,
     "id": "d2e0fecb-58ff-4520-a441-487765e803b5",
     "outputs": [],
     "persistentId": "c3479dfc-a7ca-463e-ba46-372a97382bcb",
     "text": "sra_run_table['sex_cleaned'] = sra_run_table.sex.value_counts"
    },
    "executionTime": "2019-11-05T18:00:44.834Z"
   },
   {
    "cell": {
     "executionCount": 8,
     "executionEventId": "f70ebbef-4917-4dc2-b412-986d1d75e03b",
     "hasError": true,
     "id": "d2e0fecb-58ff-4520-a441-487765e803b5",
     "outputs": [
      {
       "ename": "AttributeError",
       "evalue": "'DataFrame' object has no attribute 'map'",
       "output_type": "error",
       "traceback": [
        "\u001b[0;31m---------------------------------------------------------------------------\u001b[0m",
        "\u001b[0;31mAttributeError\u001b[0m                            Traceback (most recent call last)",
        "\u001b[0;32m<ipython-input-8-f13ecd05108c>\u001b[0m in \u001b[0;36m<module>\u001b[0;34m()\u001b[0m\n\u001b[0;32m----> 1\u001b[0;31m \u001b[0msra_run_table\u001b[0m\u001b[0;34m[\u001b[0m\u001b[0;34m'sex_cleaned'\u001b[0m\u001b[0;34m]\u001b[0m \u001b[0;34m=\u001b[0m \u001b[0msra_run_table\u001b[0m\u001b[0;34m.\u001b[0m\u001b[0mmap\u001b[0m\u001b[0;34m(\u001b[0m\u001b[0;32mlambda\u001b[0m \u001b[0mx\u001b[0m\u001b[0;34m:\u001b[0m \u001b[0mx\u001b[0m\u001b[0;34m[\u001b[0m\u001b[0;34m'gender'\u001b[0m\u001b[0;34m]\u001b[0m \u001b[0;32mif\u001b[0m \u001b[0mpd\u001b[0m\u001b[0;34m.\u001b[0m\u001b[0misnull\u001b[0m\u001b[0;34m(\u001b[0m\u001b[0mx\u001b[0m\u001b[0;34m[\u001b[0m\u001b[0;34m'sex'\u001b[0m\u001b[0;34m]\u001b[0m\u001b[0;34m)\u001b[0m \u001b[0;32melse\u001b[0m \u001b[0;34m'female'\u001b[0m\u001b[0;34m)\u001b[0m\u001b[0;34m\u001b[0m\u001b[0;34m\u001b[0m\u001b[0m\n\u001b[0m\u001b[1;32m      2\u001b[0m \u001b[0msra_run_table\u001b[0m\u001b[0;34m.\u001b[0m\u001b[0msex_cleaned\u001b[0m\u001b[0;34m.\u001b[0m\u001b[0mvalue_counts\u001b[0m\u001b[0;34m(\u001b[0m\u001b[0;34m)\u001b[0m\u001b[0;34m\u001b[0m\u001b[0;34m\u001b[0m\u001b[0m\n",
        "\u001b[0;32m~/miniconda3/envs/kmer-hashing/lib/python3.6/site-packages/pandas/core/generic.py\u001b[0m in \u001b[0;36m__getattr__\u001b[0;34m(self, name)\u001b[0m\n\u001b[1;32m   5177\u001b[0m             \u001b[0;32mif\u001b[0m \u001b[0mself\u001b[0m\u001b[0;34m.\u001b[0m\u001b[0m_info_axis\u001b[0m\u001b[0;34m.\u001b[0m\u001b[0m_can_hold_identifiers_and_holds_name\u001b[0m\u001b[0;34m(\u001b[0m\u001b[0mname\u001b[0m\u001b[0;34m)\u001b[0m\u001b[0;34m:\u001b[0m\u001b[0;34m\u001b[0m\u001b[0;34m\u001b[0m\u001b[0m\n\u001b[1;32m   5178\u001b[0m                 \u001b[0;32mreturn\u001b[0m \u001b[0mself\u001b[0m\u001b[0;34m[\u001b[0m\u001b[0mname\u001b[0m\u001b[0;34m]\u001b[0m\u001b[0;34m\u001b[0m\u001b[0;34m\u001b[0m\u001b[0m\n\u001b[0;32m-> 5179\u001b[0;31m             \u001b[0;32mreturn\u001b[0m \u001b[0mobject\u001b[0m\u001b[0;34m.\u001b[0m\u001b[0m__getattribute__\u001b[0m\u001b[0;34m(\u001b[0m\u001b[0mself\u001b[0m\u001b[0;34m,\u001b[0m \u001b[0mname\u001b[0m\u001b[0;34m)\u001b[0m\u001b[0;34m\u001b[0m\u001b[0;34m\u001b[0m\u001b[0m\n\u001b[0m\u001b[1;32m   5180\u001b[0m \u001b[0;34m\u001b[0m\u001b[0m\n\u001b[1;32m   5181\u001b[0m     \u001b[0;32mdef\u001b[0m \u001b[0m__setattr__\u001b[0m\u001b[0;34m(\u001b[0m\u001b[0mself\u001b[0m\u001b[0;34m,\u001b[0m \u001b[0mname\u001b[0m\u001b[0;34m,\u001b[0m \u001b[0mvalue\u001b[0m\u001b[0;34m)\u001b[0m\u001b[0;34m:\u001b[0m\u001b[0;34m\u001b[0m\u001b[0;34m\u001b[0m\u001b[0m\n",
        "\u001b[0;31mAttributeError\u001b[0m: 'DataFrame' object has no attribute 'map'"
       ]
      }
     ],
     "persistentId": "c3479dfc-a7ca-463e-ba46-372a97382bcb",
     "text": "sra_run_table['sex_cleaned'] = sra_run_table.map(lambda x: x['gender'] if pd.isnull(x['sex']) else 'female')\nsra_run_table.sex_cleaned.value_counts()"
    },
    "executionTime": "2019-11-05T18:01:21.905Z"
   },
   {
    "cell": {
     "executionCount": 9,
     "executionEventId": "10397725-72e8-443a-bf28-71bba77278ac",
     "hasError": false,
     "id": "d2e0fecb-58ff-4520-a441-487765e803b5",
     "outputs": [
      {
       "data": {
        "text/plain": "male      95\nfemale    54\nName: sex_cleaned, dtype: int64"
       },
       "execution_count": 9,
       "metadata": {},
       "output_type": "execute_result"
      }
     ],
     "persistentId": "c3479dfc-a7ca-463e-ba46-372a97382bcb",
     "text": "sra_run_table['sex_cleaned'] = sra_run_table.apply(lambda x: x['gender'] if pd.isnull(x['sex']) else 'female', axis=1)\nsra_run_table.sex_cleaned.value_counts()"
    },
    "executionTime": "2019-11-05T18:01:27.644Z"
   },
   {
    "cell": {
     "executionCount": 10,
     "executionEventId": "7009a520-5328-4669-bd7a-9958aaab94ed",
     "hasError": false,
     "id": "28c36625-7597-4fee-856f-c61e4556f373",
     "outputs": [
      {
       "data": {
        "text/plain": "Brain         37\nLiver         26\nHeart         25\nKidney        23\nCerebellum    21\nTestis        17\nName: tissue, dtype: int64"
       },
       "execution_count": 10,
       "metadata": {},
       "output_type": "execute_result"
      }
     ],
     "persistentId": "56b87307-3d41-4f33-a38b-3f168637a213",
     "text": "sra_run_table['tissue'] = sra_run_table['source_name'].str.split('\\\\').str[0]\nsra_run_table.tissue.value_counts()"
    },
    "executionTime": "2019-11-05T18:02:11.507Z"
   },
   {
    "cell": {
     "executionCount": 11,
     "executionEventId": "aadf8c4c-1028-4f96-9ec5-0a1cf4e80c71",
     "hasError": false,
     "id": "cc39f309-9c51-450c-96be-cf3a2ec0099c",
     "outputs": [
      {
       "data": {
        "text/plain": "Homo sapiens                21\nMus musculus                20\nOrnithorhynchus anatinus    18\nPan troglodytes             15\nMonodelphis domestica       15\nGallus gallus               14\nMacaca mulatta              14\nPan paniscus                12\nGorilla gorilla             11\nPongo pygmaeus               9\nName: Organism, dtype: int64"
       },
       "execution_count": 11,
       "metadata": {},
       "output_type": "execute_result"
      }
     ],
     "persistentId": "c021d753-a0d7-4fe2-a371-9f79fa604921",
     "text": "sra_run_table.Organism.value_counts()"
    },
    "executionTime": "2019-11-05T18:03:00.045Z"
   },
   {
    "cell": {
     "executionCount": 12,
     "executionEventId": "9d383de0-64dd-449c-b2e3-27eeb4b666ae",
     "hasError": false,
     "id": "8f1b05cd-5c01-41da-bdaa-7b93792151b7",
     "outputs": [],
     "persistentId": "56a214a1-c8d4-496b-ae26-7ca20d11a928",
     "text": "sra_run_table.to_csv(\"../metadata/brawand2011_metadata.csv\")"
    },
    "executionTime": "2019-11-05T18:03:42.117Z"
   },
   {
    "cell": {
     "executionCount": 13,
     "executionEventId": "a3cdaba5-5cf9-44fe-b35f-35dab9f3d379",
     "hasError": false,
     "id": "8f1b05cd-5c01-41da-bdaa-7b93792151b7",
     "outputs": [],
     "persistentId": "56a214a1-c8d4-496b-ae26-7ca20d11a928",
     "text": "sra_run_table.to_csv(\"../metadata/brawand2011_metadata.csv\", index=False)"
    },
    "executionTime": "2019-11-05T18:06:15.493Z"
   }
  ],
  "kernelspec": {
   "display_name": "Python [conda env:kmer-hashing]",
   "language": "python",
   "name": "conda-env-kmer-hashing-py"
  },
  "language_info": {
   "codemirror_mode": {
    "name": "ipython",
    "version": 3
   },
   "file_extension": ".py",
   "mimetype": "text/x-python",
   "name": "python",
   "nbconvert_exporter": "python",
   "pygments_lexer": "ipython3",
   "version": "3.6.8"
  },
  "uuid": "a9dda2b6-8aa8-4f87-a5a8-9ece669d4eac"
 },
 "nbformat": 4,
 "nbformat_minor": 4
}
